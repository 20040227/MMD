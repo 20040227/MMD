{
 "metadata": {
  "name": "",
  "signature": "sha256:667eae27619a3ade4fbf6da882e6727cfd65153f2c26277d72d16c6bfe88cb0d"
 },
 "nbformat": 3,
 "nbformat_minor": 0,
 "worksheets": [
  {
   "cells": [
    {
     "cell_type": "markdown",
     "metadata": {},
     "source": [
      "Mestrado em Modelagem Matematica da Informacao\n",
      "----------------------------------------------\n",
      "Disciplina: Modelagem e Mineracao de Dados\n",
      "------------------------------------------\n",
      "\n",
      "Master Program - Mathematical Modeling of Information\n",
      "-----------------------------------------------------\n",
      "Course: Data Mining and Modeling\n",
      "--------------------------------\n",
      "\n",
      "Professor: Renato Rocha Souza\n",
      "-----------------------------"
     ]
    },
    {
     "cell_type": "heading",
     "level": 3,
     "metadata": {},
     "source": [
      "Topic: Textual Analysis"
     ]
    },
    {
     "cell_type": "markdown",
     "metadata": {},
     "source": [
      "Information on the Python Packages used:  \n",
      "http://docs.python.org/library/re.html  \n",
      "http://www.pythonware.com/library/pil/handbook/index.htm  \n",
      "http://nltk.org/  \n",
      "https://networkx.github.io/  \n",
      "https://github.com/grangier/python-goose  \n",
      "https://pypi.python.org/pypi/Topics  \n",
      "http://radimrehurek.com/gensim/  \n",
      "http://docs.python-requests.org/en/latest/  "
     ]
    },
    {
     "cell_type": "code",
     "collapsed": false,
     "input": [
      "import os\n",
      "import time\n",
      "import codecs\n",
      "import string\n",
      "import urllib2\n",
      "import requests\n",
      "import numpy as np\n",
      "import matplotlib.pyplot as plt\n",
      "import pandas as pd\n",
      "import nltk\n",
      "import networkx as nx\n",
      "import re\n",
      "import re2\n",
      "import gensim\n",
      "from collections import OrderedDict, Counter\n",
      "from bs4 import BeautifulSoup\n",
      "from goose import Goose\n",
      "from IPython.core.display import Image\n",
      "from Topics.onlineldavb import onlineldavb\n",
      "from Topics.visualization.wordcloud import make_wordcloud\n",
      "from Topics.visualization.topiccloud import GenCloud\n",
      "from Topics.visualization.printtopics import list_topics\n",
      "%matplotlib inline"
     ],
     "language": "python",
     "metadata": {},
     "outputs": [],
     "prompt_number": 1
    },
    {
     "cell_type": "markdown",
     "metadata": {},
     "source": [
      "Specifying the path to the files"
     ]
    },
    {
     "cell_type": "code",
     "collapsed": false,
     "input": [
      "datapath = '/home/rsouza/Dropbox/Renato/ModMinDados/Git/datasets/'\n",
      "outputs = '/home/rsouza/Dropbox/Renato/ModMinDados/outputs/'\n",
      "oplexicon = 'oplexicon_v3.0/lexico_v3.0.txt'"
     ],
     "language": "python",
     "metadata": {},
     "outputs": [],
     "prompt_number": 2
    },
    {
     "cell_type": "heading",
     "level": 4,
     "metadata": {},
     "source": [
      "Basic Polarizing Functions for Sentiment Analysis"
     ]
    },
    {
     "cell_type": "markdown",
     "metadata": {},
     "source": [
      "Loading the polarized lexycom file - OpLexicon (BR)"
     ]
    },
    {
     "cell_type": "code",
     "collapsed": false,
     "input": [
      "df_o = pd.read_csv(os.path.join(datapath,oplexicon), header=None, encoding='utf-8', usecols=[0,2], names=[u'palavra',u'polaridade'])\n",
      "df_o.drop_duplicates(subset=[u'palavra'], take_last=False, inplace=True)\n",
      "df_o = df_o.set_index(u'palavra')\n",
      "print(u'Corpus com {} palavras polarizadas'.format(len(df_o)))"
     ],
     "language": "python",
     "metadata": {},
     "outputs": [
      {
       "output_type": "stream",
       "stream": "stdout",
       "text": [
        "Corpus com 32119 palavras polarizadas\n"
       ]
      }
     ],
     "prompt_number": 3
    },
    {
     "cell_type": "code",
     "collapsed": false,
     "input": [
      "def polariza_texto(texto, df1):\n",
      "    polaridades = []\n",
      "    ausentes = []\n",
      "    l_palavras = texto.split()\n",
      "    for palavra in l_palavras:\n",
      "        p = palavra.lower().strip()\n",
      "        if p in df1.index:\n",
      "            polaridades.append(df1.polaridade[p])\n",
      "        else:\n",
      "            ausentes.append(p)\n",
      "    num_pal = len(l_palavras)\n",
      "    num_pol = len(polaridades)\n",
      "    razao_pol = num_pol/float(num_pal) if num_pal else 0.0\n",
      "    polaridade = sum(polaridades)/float(num_pol) if num_pol else 0.0\n",
      "    #print('Foram polarizadas {} palavras de um total de {} ({:.2%})'.format(num_pol, num_pal, razao_pol))\n",
      "    #print('A polaridade mensurada do texto \u00e9 de {:.3}'.format(polaridade))\n",
      "    return polaridade, ausentes"
     ],
     "language": "python",
     "metadata": {},
     "outputs": [],
     "prompt_number": 4
    },
    {
     "cell_type": "code",
     "collapsed": false,
     "input": [
      "def polariza_counter(dicionario, df1):\n",
      "    polaridades = []\n",
      "    fator_div = 0\n",
      "    ausentes = []\n",
      "    for palavra, frequencia in dicionario.iteritems():\n",
      "        p = palavra.lower().strip()\n",
      "        if p in df1.index:\n",
      "            polaridades.append(df1.polaridade[p] * frequencia)\n",
      "            fator_div += frequencia\n",
      "        else:\n",
      "            ausentes.append((palavra,frequencia))\n",
      "    num_pal = len(dicionario)\n",
      "    num_pol = len(polaridades)\n",
      "    razao_pol = num_pol/float(num_pal) if num_pal else 0.0\n",
      "    polaridade = sum(polaridades)/float(fator_div)\n",
      "    print('Foram polarizadas {} palavras de um total de {} ({:.2%})'.format(num_pol, num_pal, razao_pol))\n",
      "    print('A polaridade mensurada do texto \u00e9 de {:.3}'.format(polaridade))\n",
      "    return polaridade, ausentes"
     ],
     "language": "python",
     "metadata": {},
     "outputs": [],
     "prompt_number": 5
    },
    {
     "cell_type": "heading",
     "level": 4,
     "metadata": {},
     "source": [
      "Capturing some html pages from a newspaper:"
     ]
    },
    {
     "cell_type": "code",
     "collapsed": false,
     "input": [
      "url_oglobo = u'http://oglobo.globo.com/busca/?q={}&page={}'\n",
      "url_uol = u'http://busca.uol.com.br/uol/?ref=homeuol&ad=on&q={}&start={}'\n",
      "query = u'dolar'\n",
      "results_pages_to_capture = 2"
     ],
     "language": "python",
     "metadata": {},
     "outputs": [],
     "prompt_number": 6
    },
    {
     "cell_type": "code",
     "collapsed": false,
     "input": [
      "rawpages = ''\n",
      "#for i in range(1,results_pages_to_capture + 1): #O Globo\n",
      "for i in range(0,10*(results_pages_to_capture),10): # UOL\n",
      "    try:\n",
      "        print(u'Page {} captured'.format(i)) \n",
      "        #request = url_oglobo.format(query,str(i)) #O Globo\n",
      "        request = url_uol.format(query,str(i)) #UOL\n",
      "        rawpages = rawpages + urllib2.urlopen(request).read()\n",
      "    except Exception as inst:\n",
      "        print type(inst)"
     ],
     "language": "python",
     "metadata": {},
     "outputs": [
      {
       "output_type": "stream",
       "stream": "stdout",
       "text": [
        "Page 0 captured\n",
        "Page 10 captured"
       ]
      },
      {
       "output_type": "stream",
       "stream": "stdout",
       "text": [
        "\n"
       ]
      }
     ],
     "prompt_number": 7
    },
    {
     "cell_type": "code",
     "collapsed": false,
     "input": [
      "links = re.findall(r'(https?://\\S+)', rawpages)\n",
      "links = [l.strip('\"') for l in links]\n",
      "links = [l.split('\"')[0] for l in links]\n",
      "#links = [l for l in links if l.startswith('http://oglobo.globo.com/economia')] #O Globo\n",
      "#links = [l for l in links if l.startswith('http://economia.uol.com.br/')] #UOL\n",
      "#links = [l for l in links if not (l.endswith('png') or l.endswith('ico') or l.endswith('css') or l.endswith('jpg'))] #O Globo\n",
      "links = sorted(list(set(links)))\n",
      "\n",
      "print('{} extracted links'.format(len(links)))\n",
      "for link in links:\n",
      "    print link"
     ],
     "language": "python",
     "metadata": {},
     "outputs": [
      {
       "output_type": "stream",
       "stream": "stdout",
       "text": [
        "30 extracted links\n",
        "http://barra.uol.com.br/b/scripts/uol.js?refbusca=busca\n",
        "http://dic.busca.uol.com.br/result.html?q=dolar&amp;group=0&amp;t=10\n",
        "http://economia.uol.com.br/ao-vivo/2014/10/28/direto-da-bolsa.htm\n",
        "http://economia.uol.com.br/cotacoes/\n",
        "http://economia.uol.com.br/cotacoes/cambio/dolar-australiano-australia/\n",
        "http://economia.uol.com.br/cotacoes/cambio/dolar-comercial-estados-unidos/\n",
        "http://economia.uol.com.br/cotacoes/cambio/dolar-taiwanes-taiwan/\n",
        "http://economia.uol.com.br/cotacoes/noticias/redacao/2014/09/23/dolar-fecha-em-alta-e-passa-de-r-240-pela-primeira-vez-desde-fevereiro.htm\n",
        "http://economia.uol.com.br/cotacoes/noticias/redacao/2014/09/25/dolar-sobe-quase-2-maior-alta-em-10-meses-e-vai-a-r-243-apesar-do-bc.htm\n",
        "http://economia.uol.com.br/cotacoes/noticias/redacao/2014/09/29/dolar-salta-a-r-2456-maior-valor-desde-2008-apos-pesquisas-eleitorais.htm\n",
        "http://economia.uol.com.br/financas-pessoais/noticias/redacao/2014/01/17/imoveis-dolar-tesouro-direto-poupanca-saiba-onde-investir-seu-dinheiro.htm\n",
        "http://economia.uol.com.br/financas-pessoais/noticias/redacao/2014/09/29/cinco-dicas-para-quem-precisa-de-dolar-no-meio-dessa-disparada.htm\n",
        "http://economia.uol.com.br/infograficos/2013/08/30/saiba-quais-sao-os-motivos-do-sobe-e-desce-do-dolar.htm\n",
        "http://jsuol.com/p/busca/uol/ads.js\n",
        "http://jsuol.com/p/busca/uol/uolbuscad.css\n",
        "http://mais.b.uol.com.br/sys/search?num=12&amp;start=1&amp;lm=1&amp;order=1&amp;types=V&amp;edFilter=&amp;safeSearch=&amp;viewHotContent=0&amp;q=dolar\n",
        "http://me.jsuol.com/omtr/busca.js\n",
        "http://noticias.uol.com.br/busca/?q=dolar&amp;id=1&amp;rd=1&amp;ad=on&amp;ref=busca\n",
        "http://shopping.busca.uol.com.br/busca.html?ad=on&amp;ref=busca&amp;q=dolar\n",
        "http://www.google.com/adsense/search/ads.js\n",
        "http://www.omniture.com\n",
        "http://www.radio.uol.com.br/busca/dolar?ref=busca\n",
        "http://www1.folha.uol.com.br/mercado/2014/09/1521589-para-conter-dolar-bc-vai-dobrar-sua-intervencao-diaria-no-cambio.shtml\n",
        "http://www1.folha.uol.com.br/mercado/2014/09/1523939-turista-deve-antecipar-compra-de-dolar-afirmam-especialistas.shtml\n",
        "http://www1.folha.uol.com.br/mercado/2014/10/1534636-vai-quebrar-a-cara-quem-apostar-na-alta-do-dolar-diz-mantega.shtml\n",
        "http://www1.folha.uol.com.br/mercado/2014/10/1535719-bolsa-desaba-e-dolar-sobe-mais-de-1-apos-datafolha-mostrar-dilma-a-frente.shtml\n",
        "http://www1.folha.uol.com.br/mercado/2014/10/1538937-dolar-vai-a-r-254-no-pos-eleicao-e-bolsa-abre-em-baixa-de-610.shtml\n",
        "http://www1.folha.uol.com.br/mercado/2014/10/1539222-no-1-dia-pos-eleicoes-bolsa-cai-277-e-dolar-alcanca-marcas-historicas.shtml\n",
        "http://www1.folha.uol.com.br/mercado/2014/10/1539548-dolar-cai-e-bolsa-sobe-com-expectativa-do-novo-ministro-da-fazenda.shtml\n",
        "http://www1.folha.uol.com.br/mercado/indicadores\n"
       ]
      }
     ],
     "prompt_number": 8
    },
    {
     "cell_type": "code",
     "collapsed": false,
     "input": [
      "def goose_extract(htmltxt):\n",
      "    g = Goose({'use_meta_language': False, 'target_language':'pt'})\n",
      "    article = g.extract(url=htmltxt)\n",
      "    title = article.title\n",
      "    meta = article.meta_description\n",
      "    txt = article.cleaned_text\n",
      "    fig = article.top_image.src\n",
      "    return txt, title, meta, fig"
     ],
     "language": "python",
     "metadata": {},
     "outputs": [],
     "prompt_number": 9
    },
    {
     "cell_type": "code",
     "collapsed": false,
     "input": [
      "deupau = []\n",
      "for link in links:\n",
      "    try:\n",
      "        print(link)\n",
      "        rawpage = goose_extract(link)[0]\n",
      "        f = codecs.open(os.path.join(outputs,'html_out','{}'.format(link[24:].replace('/','_'))), mode='w', encoding='utf-8')\n",
      "        f.write(rawpage)\n",
      "        f.close()\n",
      "        print('Sucesso!\\n')\n",
      "        time.sleep(1)\n",
      "    except Exception as inst:\n",
      "        print type(inst)\n",
      "        deupau.append(link)\n",
      "        print('Insucesso!\\n')\n",
      "        time.sleep(0.5)"
     ],
     "language": "python",
     "metadata": {},
     "outputs": [
      {
       "output_type": "stream",
       "stream": "stdout",
       "text": [
        "http://barra.uol.com.br/b/scripts/uol.js?refbusca=busca\n",
        "Sucesso!\n"
       ]
      },
      {
       "output_type": "stream",
       "stream": "stdout",
       "text": [
        "\n",
        "http://dic.busca.uol.com.br/result.html?q=dolar&amp;group=0&amp;t=10"
       ]
      },
      {
       "output_type": "stream",
       "stream": "stdout",
       "text": [
        "\n",
        "<type 'exceptions.AttributeError'>\n",
        "Insucesso!\n",
        "\n",
        "http://economia.uol.com.br/ao-vivo/2014/10/28/direto-da-bolsa.htm"
       ]
      },
      {
       "output_type": "stream",
       "stream": "stdout",
       "text": [
        "\n",
        "Sucesso!\n"
       ]
      },
      {
       "output_type": "stream",
       "stream": "stdout",
       "text": [
        "\n",
        "http://economia.uol.com.br/cotacoes/"
       ]
      },
      {
       "output_type": "stream",
       "stream": "stdout",
       "text": [
        "\n",
        "<type 'exceptions.AttributeError'>"
       ]
      },
      {
       "output_type": "stream",
       "stream": "stdout",
       "text": [
        "\n",
        "Insucesso!\n",
        "\n",
        "http://economia.uol.com.br/cotacoes/cambio/dolar-australiano-australia/"
       ]
      },
      {
       "output_type": "stream",
       "stream": "stdout",
       "text": [
        "\n",
        "<type 'exceptions.AttributeError'>"
       ]
      },
      {
       "output_type": "stream",
       "stream": "stdout",
       "text": [
        "\n",
        "Insucesso!\n",
        "\n",
        "http://economia.uol.com.br/cotacoes/cambio/dolar-comercial-estados-unidos/"
       ]
      },
      {
       "output_type": "stream",
       "stream": "stdout",
       "text": [
        "\n",
        "<type 'exceptions.AttributeError'>\n",
        "Insucesso!\n",
        "\n",
        "http://economia.uol.com.br/cotacoes/cambio/dolar-taiwanes-taiwan/"
       ]
      },
      {
       "output_type": "stream",
       "stream": "stdout",
       "text": [
        "\n",
        "<type 'exceptions.AttributeError'>"
       ]
      },
      {
       "output_type": "stream",
       "stream": "stdout",
       "text": [
        "\n",
        "Insucesso!\n",
        "\n",
        "http://economia.uol.com.br/cotacoes/noticias/redacao/2014/09/23/dolar-fecha-em-alta-e-passa-de-r-240-pela-primeira-vez-desde-fevereiro.htm"
       ]
      },
      {
       "output_type": "stream",
       "stream": "stdout",
       "text": [
        "\n",
        "Sucesso!\n"
       ]
      },
      {
       "output_type": "stream",
       "stream": "stdout",
       "text": [
        "\n",
        "http://economia.uol.com.br/cotacoes/noticias/redacao/2014/09/25/dolar-sobe-quase-2-maior-alta-em-10-meses-e-vai-a-r-243-apesar-do-bc.htm"
       ]
      },
      {
       "output_type": "stream",
       "stream": "stdout",
       "text": [
        "\n",
        "Sucesso!\n"
       ]
      },
      {
       "output_type": "stream",
       "stream": "stdout",
       "text": [
        "\n",
        "http://economia.uol.com.br/cotacoes/noticias/redacao/2014/09/29/dolar-salta-a-r-2456-maior-valor-desde-2008-apos-pesquisas-eleitorais.htm"
       ]
      },
      {
       "output_type": "stream",
       "stream": "stdout",
       "text": [
        "\n",
        "Sucesso!\n"
       ]
      },
      {
       "output_type": "stream",
       "stream": "stdout",
       "text": [
        "\n",
        "http://economia.uol.com.br/financas-pessoais/noticias/redacao/2014/01/17/imoveis-dolar-tesouro-direto-poupanca-saiba-onde-investir-seu-dinheiro.htm"
       ]
      },
      {
       "output_type": "stream",
       "stream": "stdout",
       "text": [
        "\n",
        "Sucesso!\n"
       ]
      },
      {
       "output_type": "stream",
       "stream": "stdout",
       "text": [
        "\n",
        "http://economia.uol.com.br/financas-pessoais/noticias/redacao/2014/09/29/cinco-dicas-para-quem-precisa-de-dolar-no-meio-dessa-disparada.htm"
       ]
      },
      {
       "output_type": "stream",
       "stream": "stdout",
       "text": [
        "\n",
        "Sucesso!\n"
       ]
      },
      {
       "output_type": "stream",
       "stream": "stdout",
       "text": [
        "\n",
        "http://economia.uol.com.br/infograficos/2013/08/30/saiba-quais-sao-os-motivos-do-sobe-e-desce-do-dolar.htm"
       ]
      },
      {
       "output_type": "stream",
       "stream": "stdout",
       "text": [
        "\n",
        "<type 'exceptions.AttributeError'>"
       ]
      },
      {
       "output_type": "stream",
       "stream": "stdout",
       "text": [
        "\n",
        "Insucesso!\n",
        "\n",
        "http://jsuol.com/p/busca/uol/ads.js"
       ]
      },
      {
       "output_type": "stream",
       "stream": "stdout",
       "text": [
        "\n",
        "<type 'exceptions.AttributeError'>\n",
        "Insucesso!\n",
        "\n",
        "http://jsuol.com/p/busca/uol/uolbuscad.css"
       ]
      },
      {
       "output_type": "stream",
       "stream": "stdout",
       "text": [
        "\n",
        "<type 'exceptions.AttributeError'>\n",
        "Insucesso!\n",
        "\n",
        "http://mais.b.uol.com.br/sys/search?num=12&amp;start=1&amp;lm=1&amp;order=1&amp;types=V&amp;edFilter=&amp;safeSearch=&amp;viewHotContent=0&amp;q=dolar"
       ]
      },
      {
       "output_type": "stream",
       "stream": "stdout",
       "text": [
        "\n",
        "<type 'exceptions.AttributeError'>\n",
        "Insucesso!\n",
        "\n",
        "http://me.jsuol.com/omtr/busca.js"
       ]
      },
      {
       "output_type": "stream",
       "stream": "stdout",
       "text": [
        "\n",
        "<type 'exceptions.AttributeError'>"
       ]
      },
      {
       "output_type": "stream",
       "stream": "stdout",
       "text": [
        "\n",
        "Insucesso!\n",
        "\n",
        "http://noticias.uol.com.br/busca/?q=dolar&amp;id=1&amp;rd=1&amp;ad=on&amp;ref=busca"
       ]
      },
      {
       "output_type": "stream",
       "stream": "stdout",
       "text": [
        "\n",
        "<class 'lxml.etree.XMLSyntaxError'>"
       ]
      },
      {
       "output_type": "stream",
       "stream": "stdout",
       "text": [
        "\n",
        "Insucesso!\n",
        "\n",
        "http://shopping.busca.uol.com.br/busca.html?ad=on&amp;ref=busca&amp;q=dolar"
       ]
      },
      {
       "output_type": "stream",
       "stream": "stdout",
       "text": [
        "\n",
        "Sucesso!\n"
       ]
      },
      {
       "output_type": "stream",
       "stream": "stdout",
       "text": [
        "\n",
        "http://www.google.com/adsense/search/ads.js"
       ]
      },
      {
       "output_type": "stream",
       "stream": "stdout",
       "text": [
        "\n",
        "<type 'exceptions.AttributeError'>"
       ]
      },
      {
       "output_type": "stream",
       "stream": "stdout",
       "text": [
        "\n",
        "Insucesso!\n",
        "\n",
        "http://www.omniture.com"
       ]
      },
      {
       "output_type": "stream",
       "stream": "stdout",
       "text": [
        "\n",
        "<type 'exceptions.AttributeError'>"
       ]
      },
      {
       "output_type": "stream",
       "stream": "stdout",
       "text": [
        "\n",
        "Insucesso!\n",
        "\n",
        "http://www.radio.uol.com.br/busca/dolar?ref=busca"
       ]
      },
      {
       "output_type": "stream",
       "stream": "stdout",
       "text": [
        "\n",
        "Sucesso!\n"
       ]
      },
      {
       "output_type": "stream",
       "stream": "stdout",
       "text": [
        "\n",
        "http://www1.folha.uol.com.br/mercado/2014/09/1521589-para-conter-dolar-bc-vai-dobrar-sua-intervencao-diaria-no-cambio.shtml"
       ]
      },
      {
       "output_type": "stream",
       "stream": "stdout",
       "text": [
        "\n",
        "Sucesso!\n"
       ]
      },
      {
       "output_type": "stream",
       "stream": "stdout",
       "text": [
        "\n",
        "http://www1.folha.uol.com.br/mercado/2014/09/1523939-turista-deve-antecipar-compra-de-dolar-afirmam-especialistas.shtml"
       ]
      },
      {
       "output_type": "stream",
       "stream": "stdout",
       "text": [
        "\n",
        "Sucesso!\n"
       ]
      },
      {
       "output_type": "stream",
       "stream": "stdout",
       "text": [
        "\n",
        "http://www1.folha.uol.com.br/mercado/2014/10/1534636-vai-quebrar-a-cara-quem-apostar-na-alta-do-dolar-diz-mantega.shtml"
       ]
      },
      {
       "output_type": "stream",
       "stream": "stdout",
       "text": [
        "\n",
        "Sucesso!\n"
       ]
      },
      {
       "output_type": "stream",
       "stream": "stdout",
       "text": [
        "\n",
        "http://www1.folha.uol.com.br/mercado/2014/10/1535719-bolsa-desaba-e-dolar-sobe-mais-de-1-apos-datafolha-mostrar-dilma-a-frente.shtml"
       ]
      },
      {
       "output_type": "stream",
       "stream": "stdout",
       "text": [
        "\n",
        "Sucesso!\n"
       ]
      },
      {
       "output_type": "stream",
       "stream": "stdout",
       "text": [
        "\n",
        "http://www1.folha.uol.com.br/mercado/2014/10/1538937-dolar-vai-a-r-254-no-pos-eleicao-e-bolsa-abre-em-baixa-de-610.shtml"
       ]
      },
      {
       "output_type": "stream",
       "stream": "stdout",
       "text": [
        "\n",
        "Sucesso!\n"
       ]
      },
      {
       "output_type": "stream",
       "stream": "stdout",
       "text": [
        "\n",
        "http://www1.folha.uol.com.br/mercado/2014/10/1539222-no-1-dia-pos-eleicoes-bolsa-cai-277-e-dolar-alcanca-marcas-historicas.shtml"
       ]
      },
      {
       "output_type": "stream",
       "stream": "stdout",
       "text": [
        "\n",
        "Sucesso!\n"
       ]
      },
      {
       "output_type": "stream",
       "stream": "stdout",
       "text": [
        "\n",
        "http://www1.folha.uol.com.br/mercado/2014/10/1539548-dolar-cai-e-bolsa-sobe-com-expectativa-do-novo-ministro-da-fazenda.shtml"
       ]
      },
      {
       "output_type": "stream",
       "stream": "stdout",
       "text": [
        "\n",
        "Sucesso!\n"
       ]
      },
      {
       "output_type": "stream",
       "stream": "stdout",
       "text": [
        "\n",
        "http://www1.folha.uol.com.br/mercado/indicadores"
       ]
      },
      {
       "output_type": "stream",
       "stream": "stdout",
       "text": [
        "\n",
        "<type 'exceptions.AttributeError'>"
       ]
      },
      {
       "output_type": "stream",
       "stream": "stdout",
       "text": [
        "\n",
        "Insucesso!\n",
        "\n"
       ]
      }
     ],
     "prompt_number": 10
    },
    {
     "cell_type": "code",
     "collapsed": false,
     "input": [
      "for biziu in deupau:\n",
      "    print biziu"
     ],
     "language": "python",
     "metadata": {},
     "outputs": [
      {
       "output_type": "stream",
       "stream": "stdout",
       "text": [
        "http://dic.busca.uol.com.br/result.html?q=dolar&amp;group=0&amp;t=10\n",
        "http://economia.uol.com.br/cotacoes/\n",
        "http://economia.uol.com.br/cotacoes/cambio/dolar-australiano-australia/\n",
        "http://economia.uol.com.br/cotacoes/cambio/dolar-comercial-estados-unidos/\n",
        "http://economia.uol.com.br/cotacoes/cambio/dolar-taiwanes-taiwan/\n",
        "http://economia.uol.com.br/infograficos/2013/08/30/saiba-quais-sao-os-motivos-do-sobe-e-desce-do-dolar.htm\n",
        "http://jsuol.com/p/busca/uol/ads.js\n",
        "http://jsuol.com/p/busca/uol/uolbuscad.css\n",
        "http://mais.b.uol.com.br/sys/search?num=12&amp;start=1&amp;lm=1&amp;order=1&amp;types=V&amp;edFilter=&amp;safeSearch=&amp;viewHotContent=0&amp;q=dolar\n",
        "http://me.jsuol.com/omtr/busca.js\n",
        "http://noticias.uol.com.br/busca/?q=dolar&amp;id=1&amp;rd=1&amp;ad=on&amp;ref=busca\n",
        "http://www.google.com/adsense/search/ads.js\n",
        "http://www.omniture.com\n",
        "http://www1.folha.uol.com.br/mercado/indicadores\n"
       ]
      }
     ],
     "prompt_number": 48
    },
    {
     "cell_type": "markdown",
     "metadata": {},
     "source": [
      "Examinando os arquivos e pastas:"
     ]
    },
    {
     "cell_type": "code",
     "collapsed": false,
     "input": [
      "corpuspath = os.path.join(outputs,'html_out')\n",
      "onlydirs = [f for f in os.listdir(corpuspath) if os.path.isdir(os.path.join(corpuspath,f)) and not f.startswith('.')]\n",
      "onlyfiles = [f for f in os.listdir(corpuspath) if os.path.isfile(os.path.join(corpuspath,f)) and not f.startswith('.')]\n",
      "onlydirs.sort()\n",
      "\n",
      "print 'Files in the folder:'\n",
      "for i, w in enumerate(onlyfiles[0:]):\n",
      "    print i+1, '--' ,w"
     ],
     "language": "python",
     "metadata": {},
     "outputs": [
      {
       "output_type": "stream",
       "stream": "stdout",
       "text": [
        "Files in the folder:\n",
        "1 -- oticia_423552_maracanazo-foi-tragico-minerazo-a-maior-vergonha-do-brasil\n",
        "2 -- l.com.br_busca.html?ad=on&amp;ref=busca&amp;q=dolar\n",
        "3 -- m.br_mercado_2014_10_1534636-vai-quebrar-a-cara-quem-apostar-na-alta-do-dolar-diz-mantega.shtml\n",
        "4 -- b_scripts_uol.js?refbusca=busca\n",
        "5 -- m.br_mercado_2014_09_1521589-para-conter-dolar-bc-vai-dobrar-sua-intervencao-diaria-no-cambio.shtml\n",
        "6 -- br_noticias_redacao_2014_08_27_lemann-e-o-mais-rico-do-brasil-pelo-2-ano-seguido-aponta-forbes-brasil.htm\n",
        "7 -- br_noticias_redacao_2014_09_04_lista-de-bilionarios-do-brasil-tem-25-mulheres-maioria-herdou-a-fortuna.htm\n",
        "8 -- br_cotacoes_noticias_redacao_2014_09_29_dolar-salta-a-r-2456-maior-valor-desde-2008-apos-pesquisas-eleitorais.htm\n",
        "9 -- m.br_esporte_folhanacopa_2014_07_1485112-7-jogos-que-levaram-o-brasil-da-empolgacao-para-a-vergonha-na-copa.shtml\n",
        "10 -- m.br_mercado_2014_09_1523939-turista-deve-antecipar-compra-de-dolar-afirmam-especialistas.shtml\n",
        "11 -- m.br_mercado_2014_10_1539222-no-1-dia-pos-eleicoes-bolsa-cai-277-e-dolar-alcanca-marcas-historicas.shtml\n",
        "12 -- m.br_colunas_contardocalligaris_2014_05_1458137-o-brasil-existe.shtml\n",
        "13 -- r_\n",
        "14 -- br_financas-pessoais_noticias_redacao_2014_01_17_imoveis-dolar-tesouro-direto-poupanca-saiba-onde-investir-seu-dinheiro.htm\n",
        "15 -- m.br_mercado_2014_10_1539548-dolar-cai-e-bolsa-sobe-com-expectativa-do-novo-ministro-da-fazenda.shtml\n",
        "16 -- br_cotacoes_noticias_redacao_2014_09_23_dolar-fecha-em-alta-e-passa-de-r-240-pela-primeira-vez-desde-fevereiro.htm\n",
        "17 -- br_financas-pessoais_noticias_redacao_2014_09_29_cinco-dicas-para-quem-precisa-de-dolar-no-meio-dessa-disparada.htm\n",
        "18 -- uol.com.br_\n",
        "19 -- m.br_mercado_2014_10_1535719-bolsa-desaba-e-dolar-sobe-mais-de-1-apos-datafolha-mostrar-dilma-a-frente.shtml\n",
        "20 -- m.br_livrariadafolha_2014_09_1524772-o-fim-do-brasil-preve-ruina-economica-do-pais.shtml\n",
        "21 -- br_cotacoes_noticias_redacao_2014_09_25_dolar-sobe-quase-2-maior-alta-em-10-meses-e-vai-a-r-243-apesar-do-bc.htm\n",
        "22 -- br_ao-vivo_2014_10_28_direto-da-bolsa.htm\n",
        "23 -- m.br_mercado_2014_10_1538937-dolar-vai-a-r-254-no-pos-eleicao-e-bolsa-abre-em-baixa-de-610.shtml\n",
        "24 -- m.br_esporte_folhanacopa_2014_07_1483039-brasil-e-massacrado-pela-alemanha-e-sofre-sua-pior-derrota-na-historia.shtml\n"
       ]
      }
     ],
     "prompt_number": 12
    },
    {
     "cell_type": "markdown",
     "metadata": {},
     "source": [
      "Carregando os corpora:"
     ]
    },
    {
     "cell_type": "code",
     "collapsed": false,
     "input": [
      "raw_texts = ''\n",
      "list_raw_texts = []\n",
      "for filename in onlyfiles:\n",
      "    page_txt = codecs.open(os.path.join(corpuspath,filename), encoding='utf-8').read()\n",
      "    raw_texts += u'\\n'+ page_txt.lower()\n",
      "    list_raw_texts.append(page_txt)"
     ],
     "language": "python",
     "metadata": {},
     "outputs": [],
     "prompt_number": 13
    },
    {
     "cell_type": "markdown",
     "metadata": {},
     "source": [
      "Ocorr\u00eancias de determinada express\u00e3o no corpus"
     ]
    },
    {
     "cell_type": "code",
     "collapsed": false,
     "input": [
      "#expressao = u'nova_classe_m\u00e9dia'.lower()\n",
      "#expressao = u'Marcelo N\u00e9ri'.lower()\n",
      "expressao = u'Neymar'.lower()\n",
      "#expressao = u'\u00edndice'.lower()\n",
      "#expressao = u'Instituto de Pesquisa'.lower() #muitas grafias diferentes para o Ipea\n",
      "#expressao = u'Ipea'.lower()\n",
      "#expressao = u'porta dos fundos'.lower()"
     ],
     "language": "python",
     "metadata": {},
     "outputs": [],
     "prompt_number": 14
    },
    {
     "cell_type": "code",
     "collapsed": false,
     "input": [
      "pos = 0 \n",
      "positions = []\n",
      "while pos != -1:\n",
      "    position = raw_texts.find(expressao,pos+1)\n",
      "    pos = position\n",
      "    positions.append(position)\n",
      "positions.pop()\n",
      "print(u'A express\u00e3o buscada ocorre {} vezes'.format(len(positions)))"
     ],
     "language": "python",
     "metadata": {},
     "outputs": [
      {
       "output_type": "stream",
       "stream": "stdout",
       "text": [
        "A express\u00e3o buscada ocorre 9 vezes\n"
       ]
      }
     ],
     "prompt_number": 15
    },
    {
     "cell_type": "code",
     "collapsed": false,
     "input": [
      "for position in positions: #[0:10]:\n",
      "    print raw_texts[position - 200:position + 200].strip()"
     ],
     "language": "python",
     "metadata": {},
     "outputs": [
      {
       "output_type": "stream",
       "stream": "stdout",
       "text": [
        "em 1950, a culpa quase toda caiu no goleiro barbosa, por uma falha discut\u00edvel. agora, n\u00e3o faltam respons\u00e1veis por tamanho vexame, e vai soar rid\u00edculo colocar toda a culpa nos desfalques do lesionado neymar e do suspenso thiago silva.\n",
        "\n",
        "felip\u00e3o montou um time que arma seu jogo com chut\u00f5es de zagueiros, sem varia\u00e7\u00f5es t\u00e1ticas e que ainda apela \u00e0s faltas para marcar o rival. ele e seu coordenador, car\n",
        "gentina x holanda, na arena corinthians.\n",
        "\n",
        "brasil se iguala ao m\u00e9xico em bi negativo e segue em jejum ao lado da espanha vexame sem limites; veja os recordes negativos batidos pelo brasil no mineir\u00e3o\n",
        "\n",
        "neymar, fora por fratura na v\u00e9rtebra, foi lembrado pelos companheiros. na execu\u00e7\u00e3o do hino nacional, o capit\u00e3o david luiz exibiu a camisa 10 do companheiro.\n",
        "\n",
        "o brasil come\u00e7ou o jogo com uma surpresa.\n",
        "ra na v\u00e9rtebra, foi lembrado pelos companheiros. na execu\u00e7\u00e3o do hino nacional, o capit\u00e3o david luiz exibiu a camisa 10 do companheiro.\n",
        "\n",
        "o brasil come\u00e7ou o jogo com uma surpresa. no lugar do machucado neymar, nada de willian para cadenciar o meio-campo ou paulinho para deixar o time com tr\u00eas volantes. luiz felipe scolari ousou e escalou bernard, deixando o time com a mesma caracter\u00edstica t\u00e1tica na\n",
        "e errado para o pa\u00eds terminar em quarto lugar ap\u00f3s levar de 7 a 1 da alemanha e 3 a 0 da holanda:\n",
        "\n",
        "a caminhada do brasil na copa do mundo come\u00e7ou com um gol contra de marcelo aos dez minutos de jogo. neymar empatou a partida no primeiro tempo, em jogada individual. a sele\u00e7\u00e3o contou com um erro do juiz japon\u00eas yuichi nishimura para desempatar. ele marcou p\u00eanalti inexistente em fred, e neymar confer\n",
        "tos de jogo. neymar empatou a partida no primeiro tempo, em jogada individual. a sele\u00e7\u00e3o contou com um erro do juiz japon\u00eas yuichi nishimura para desempatar. ele marcou p\u00eanalti inexistente em fred, e neymar conferiu. oscar ainda deu n\u00fameros finais ao placar nos \u00faltimos minutos do jogo.\n",
        "\n",
        "no segundo jogo da sele\u00e7\u00e3o, o her\u00f3i foi mexicano. o goleiro guillermo ochoa fez pelo menos quatro defesas fant\u00e1s\n",
        "ticas e segurou o zero no placar.\n",
        "\n",
        "o terceiro jogo da fase de grupos foi tamb\u00e9m o mais f\u00e1cil do brasil na copa. foi a cent\u00e9sima partida da sele\u00e7\u00e3o na hist\u00f3ria da competi\u00e7\u00e3o, e tamb\u00e9m o melhor jogo de neymar, autor dos dois primeiros gols do brasil. fred e fernandinho fecharam a goleada.\n",
        "\n",
        "nas oitavas de final da competi\u00e7\u00e3o, o brasil passou sufoco. depois de um bom come\u00e7o e um gol de david luiz aos\n",
        "acertar a trave no \u00faltimo minuto de jogo. nos p\u00eanaltis, j\u00falio c\u00e9sar fez duas defesas e garantiu a classifica\u00e7\u00e3o da sele\u00e7\u00e3o.\n",
        "\n",
        "a sele\u00e7\u00e3o passou bem pela col\u00f4mbia, mas acabou perdendo o craque do time, neymar. em uma boa partida, o brasil garantiu a vit\u00f3ria com dois gols de zagueiros, um em cada tempo. no primeiro, thiago silva fez ap\u00f3s cobran\u00e7a de escanteio e no segundo david luiz marcou um belo go\n",
        "ou um belo gol de falta.\n",
        "\n",
        "a col\u00f4mbia diminuiria em p\u00eanalti convertido pelo artilheiro james rodriguez, mas o principal golpe para a sele\u00e7\u00e3o seria a joelhada acertada pelo lateral zu\u00f1iga nas costas de neymar, aos 41 minutos do segundo tempo. pouco mais de uma hora depois da partida, o jogador descobriria que estava fora da copa devido a uma fratura na terceira v\u00e9rtebra lombar.\n",
        "\n",
        "mais um massacre do\n",
        "986 e 2002.\n",
        "\n",
        "j\u00e1 o brasil vai decidir o terceiro lugar no s\u00e1bado (12), \u00e0s 17h, em bras\u00edlia.\n",
        "\n",
        "no confronto contra os alem\u00e3es, a sele\u00e7\u00e3o brasileira entrou em campo com um time que nunca jogou junto. sem neymar, que fraturou a terceira v\u00e9rtebra lombar do lado esquerdo, felip\u00e3o optou pelo atacante bernard.\n",
        "\n",
        "ele ainda promoveu o retorno do volante luiz gustavo na vaga de paulinho. o setor ainda teve fer\n"
       ]
      }
     ],
     "prompt_number": 16
    },
    {
     "cell_type": "markdown",
     "metadata": {},
     "source": [
      "Um passo opcional - retirar as stopwords que podem interferir nas an\u00e1lises"
     ]
    },
    {
     "cell_type": "code",
     "collapsed": false,
     "input": [
      "ignore_words = [w for w in nltk.corpus.stopwords.words('portuguese')]\n",
      "#ignore_words.extend([s.decode('utf-8') for s in string.punctuation])\n",
      "ignore_words.extend([u' ', u'', u'\u00e9', u'r',u'c',u'ainda',u'vai',u'ser',u'globo',u'sobre',u'nesta',u'\\u2013',u'\\u2014', u'pode',\n",
      "                     u'ter', u'disse'])\n",
      "ignore_expressions = [u'Copyright \u00a9 2013', u'Copyright \u00a9 2014',u'Todos os direitos reservados', \n",
      "                      u'Ag\u00eancia Estado', u'Jornal O Globo', u'Folha de S.Paulo', 'Globo Digital', u'SEGUNDO CADERNO',\n",
      "                      u'Noblat', u'Agamenon Mendes Pedreira', u'Agamenon', u'Merval Pereira', u'Merval', u'Amaury de Souza',\n",
      "                      u'Boa Viagem', u'v\\xeddeos pol\\xedticos', u'Esta\\xe7\\xe3o Jazz e Tal', u'a r\\xe1dio do blog',\n",
      "                      u'Siga o', u'Leia a', u'Ou\\xe7a a', u'Curta a P\\xe1gina', u'Visite a p\\xe1gina', u'no Twitter','no Facebook', u'Blog do', \n",
      "                      u'Tradu\\xe7\\xe3o', u'mat&eacute;ria na &iacute;ntegra', u'\\xedntegra da mat\\xe9ria', u'para assinantes',\n",
      "                      u'por exemplo', u'cada vez']"
     ],
     "language": "python",
     "metadata": {},
     "outputs": [],
     "prompt_number": 17
    },
    {
     "cell_type": "code",
     "collapsed": false,
     "input": [
      "for e in ignore_expressions:\n",
      "    print e"
     ],
     "language": "python",
     "metadata": {},
     "outputs": [
      {
       "output_type": "stream",
       "stream": "stdout",
       "text": [
        "Copyright \u00a9 2013\n",
        "Copyright \u00a9 2014\n",
        "Todos os direitos reservados\n",
        "Ag\u00eancia Estado\n",
        "Jornal O Globo\n",
        "Folha de S.Paulo\n",
        "Globo Digital\n",
        "SEGUNDO CADERNO\n",
        "Noblat\n",
        "Agamenon Mendes Pedreira\n",
        "Agamenon\n",
        "Merval Pereira\n",
        "Merval\n",
        "Amaury de Souza\n",
        "Boa Viagem\n",
        "v\u00eddeos pol\u00edticos\n",
        "Esta\u00e7\u00e3o Jazz e Tal\n",
        "a r\u00e1dio do blog\n",
        "Siga o\n",
        "Leia a\n",
        "Ou\u00e7a a\n",
        "Curta a P\u00e1gina\n",
        "Visite a p\u00e1gina\n",
        "no Twitter\n",
        "no Facebook\n",
        "Blog do\n",
        "Tradu\u00e7\u00e3o\n",
        "mat&eacute;ria na &iacute;ntegra\n",
        "\u00edntegra da mat\u00e9ria\n",
        "para assinantes\n",
        "por exemplo\n",
        "cada vez\n"
       ]
      }
     ],
     "prompt_number": 18
    },
    {
     "cell_type": "code",
     "collapsed": false,
     "input": [
      "def corrige_distorcoes(texto):\n",
      "    texto = texto.replace(u'\\xe0', u'a a') #separa o a com crase\n",
      "    texto = texto.replace(u'\\u201c', '') #retira um certo tipo de aspas\n",
      "    texto = texto.replace(u'\\u201d', '') #retira um certo tipo de aspas\n",
      "    texto = texto.replace(u'\\u2018', '') #retira um certo tipo de aspas\n",
      "    texto = texto.replace(u'\\u2019', '') #retira um certo tipo de aspas\n",
      "    texto = texto.replace(u'get\\xfalio vargas', u'getulio vargas') #homogeniza as formas de Getulio Vargas\n",
      "    return texto\n",
      "    \n",
      "def limpa_stopwords(texto):\n",
      "    for expression in ignore_expressions:\n",
      "        texto = texto.replace(expression.lower(),'') #retira as expressoes\n",
      "    lista = [w.strip(string.punctuation) for w in texto.split() if w.strip(string.punctuation) not in ignore_words] #retira stopw.\n",
      "    texto = u' '.join(lista)\n",
      "    return texto, lista"
     ],
     "language": "python",
     "metadata": {},
     "outputs": [],
     "prompt_number": 19
    },
    {
     "cell_type": "code",
     "collapsed": false,
     "input": [
      "raw_texts = corrige_distorcoes(raw_texts)\n",
      "cleaned_texts, list_cleaned_words = limpa_stopwords(raw_texts)"
     ],
     "language": "python",
     "metadata": {},
     "outputs": [],
     "prompt_number": 20
    },
    {
     "cell_type": "markdown",
     "metadata": {},
     "source": [
      "A primeira coisa a se analisar s\u00e3o - pura e simplesmente - as palavras (sem stopwords)"
     ]
    },
    {
     "cell_type": "code",
     "collapsed": false,
     "input": [
      "freq_words = Counter(list_cleaned_words)\n",
      "df_freq_words = pd.DataFrame(freq_words.values(), columns = [u'Frequ\u00eancia'], index=freq_words.keys())\n",
      "df_freq_words = df_freq_words.sort_index(by=u'Frequ\u00eancia', ascending=False)\n",
      "df_freq_words.index.name = u'Tokens'\n",
      "df_freq_words[0:40]"
     ],
     "language": "python",
     "metadata": {},
     "outputs": [
      {
       "html": [
        "<div style=\"max-height:1000px;max-width:1500px;overflow:auto;\">\n",
        "<table border=\"1\" class=\"dataframe\">\n",
        "  <thead>\n",
        "    <tr style=\"text-align: right;\">\n",
        "      <th></th>\n",
        "      <th>Frequ\u00eancia</th>\n",
        "    </tr>\n",
        "    <tr>\n",
        "      <th>Tokens</th>\n",
        "      <th></th>\n",
        "    </tr>\n",
        "  </thead>\n",
        "  <tbody>\n",
        "    <tr>\n",
        "      <th>mercado</th>\n",
        "      <td> 59</td>\n",
        "    </tr>\n",
        "    <tr>\n",
        "      <th>brasil</th>\n",
        "      <td> 47</td>\n",
        "    </tr>\n",
        "    <tr>\n",
        "      <th>d\u00f3lar</th>\n",
        "      <td> 41</td>\n",
        "    </tr>\n",
        "    <tr>\n",
        "      <th>alta</th>\n",
        "      <td> 37</td>\n",
        "    </tr>\n",
        "    <tr>\n",
        "      <th>ano</th>\n",
        "      <td> 33</td>\n",
        "    </tr>\n",
        "    <tr>\n",
        "      <th>dilma</th>\n",
        "      <td> 31</td>\n",
        "    </tr>\n",
        "    <tr>\n",
        "      <th>sele\u00e7\u00e3o</th>\n",
        "      <td> 31</td>\n",
        "    </tr>\n",
        "    <tr>\n",
        "      <th>segundo</th>\n",
        "      <td> 31</td>\n",
        "    </tr>\n",
        "    <tr>\n",
        "      <th>maior</th>\n",
        "      <td> 29</td>\n",
        "    </tr>\n",
        "    <tr>\n",
        "      <th>brasileira</th>\n",
        "      <td> 28</td>\n",
        "    </tr>\n",
        "    <tr>\n",
        "      <th>dia</th>\n",
        "      <td> 26</td>\n",
        "    </tr>\n",
        "    <tr>\n",
        "      <th>a\u00e7\u00f5es</th>\n",
        "      <td> 24</td>\n",
        "    </tr>\n",
        "    <tr>\n",
        "      <th>economia</th>\n",
        "      <td> 22</td>\n",
        "    </tr>\n",
        "    <tr>\n",
        "      <th>tempo</th>\n",
        "      <td> 22</td>\n",
        "    </tr>\n",
        "    <tr>\n",
        "      <th>presidente</th>\n",
        "      <td> 22</td>\n",
        "    </tr>\n",
        "    <tr>\n",
        "      <th>gol</th>\n",
        "      <td> 22</td>\n",
        "    </tr>\n",
        "    <tr>\n",
        "      <th>banco</th>\n",
        "      <td> 21</td>\n",
        "    </tr>\n",
        "    <tr>\n",
        "      <th>investimento</th>\n",
        "      <td> 20</td>\n",
        "    </tr>\n",
        "    <tr>\n",
        "      <th>pol\u00edtica</th>\n",
        "      <td> 20</td>\n",
        "    </tr>\n",
        "    <tr>\n",
        "      <th>queda</th>\n",
        "      <td> 19</td>\n",
        "    </tr>\n",
        "    <tr>\n",
        "      <th>moeda</th>\n",
        "      <td> 18</td>\n",
        "    </tr>\n",
        "    <tr>\n",
        "      <th>desde</th>\n",
        "      <td> 17</td>\n",
        "    </tr>\n",
        "    <tr>\n",
        "      <th>bolsa</th>\n",
        "      <td> 17</td>\n",
        "    </tr>\n",
        "    <tr>\n",
        "      <th>minutos</th>\n",
        "      <td> 17</td>\n",
        "    </tr>\n",
        "    <tr>\n",
        "      <th>primeiro</th>\n",
        "      <td> 16</td>\n",
        "    </tr>\n",
        "    <tr>\n",
        "      <th>fazer</th>\n",
        "      <td> 16</td>\n",
        "    </tr>\n",
        "    <tr>\n",
        "      <th>bilh\u00f5es</th>\n",
        "      <td> 16</td>\n",
        "    </tr>\n",
        "    <tr>\n",
        "      <th>jogo</th>\n",
        "      <td> 16</td>\n",
        "    </tr>\n",
        "    <tr>\n",
        "      <th>vit\u00f3ria</th>\n",
        "      <td> 16</td>\n",
        "    </tr>\n",
        "    <tr>\n",
        "      <th>us</th>\n",
        "      <td> 15</td>\n",
        "    </tr>\n",
        "    <tr>\n",
        "      <th>pa\u00eds</th>\n",
        "      <td> 15</td>\n",
        "    </tr>\n",
        "    <tr>\n",
        "      <th>porque</th>\n",
        "      <td> 14</td>\n",
        "    </tr>\n",
        "    <tr>\n",
        "      <th>alem\u00e3es</th>\n",
        "      <td> 14</td>\n",
        "    </tr>\n",
        "    <tr>\n",
        "      <th>deve</th>\n",
        "      <td> 14</td>\n",
        "    </tr>\n",
        "    <tr>\n",
        "      <th>copa</th>\n",
        "      <td> 14</td>\n",
        "    </tr>\n",
        "    <tr>\n",
        "      <th>diz</th>\n",
        "      <td> 14</td>\n",
        "    </tr>\n",
        "    <tr>\n",
        "      <th>taxa</th>\n",
        "      <td> 13</td>\n",
        "    </tr>\n",
        "    <tr>\n",
        "      <th>alemanha</th>\n",
        "      <td> 13</td>\n",
        "    </tr>\n",
        "    <tr>\n",
        "      <th>mundo</th>\n",
        "      <td> 13</td>\n",
        "    </tr>\n",
        "    <tr>\n",
        "      <th>contratos</th>\n",
        "      <td> 13</td>\n",
        "    </tr>\n",
        "  </tbody>\n",
        "</table>\n",
        "</div>"
       ],
       "metadata": {},
       "output_type": "pyout",
       "prompt_number": 21,
       "text": [
        "              Frequ\u00eancia\n",
        "Tokens                  \n",
        "mercado               59\n",
        "brasil                47\n",
        "d\u00f3lar                 41\n",
        "alta                  37\n",
        "ano                   33\n",
        "dilma                 31\n",
        "sele\u00e7\u00e3o               31\n",
        "segundo               31\n",
        "maior                 29\n",
        "brasileira            28\n",
        "dia                   26\n",
        "a\u00e7\u00f5es                 24\n",
        "economia              22\n",
        "tempo                 22\n",
        "presidente            22\n",
        "gol                   22\n",
        "banco                 21\n",
        "investimento          20\n",
        "pol\u00edtica              20\n",
        "queda                 19\n",
        "moeda                 18\n",
        "desde                 17\n",
        "bolsa                 17\n",
        "minutos               17\n",
        "primeiro              16\n",
        "fazer                 16\n",
        "bilh\u00f5es               16\n",
        "jogo                  16\n",
        "vit\u00f3ria               16\n",
        "us                    15\n",
        "pa\u00eds                  15\n",
        "porque                14\n",
        "alem\u00e3es               14\n",
        "deve                  14\n",
        "copa                  14\n",
        "diz                   14\n",
        "taxa                  13\n",
        "alemanha              13\n",
        "mundo                 13\n",
        "contratos             13"
       ]
      }
     ],
     "prompt_number": 21
    },
    {
     "cell_type": "markdown",
     "metadata": {},
     "source": [
      "Calculando a polaridade total dos textos"
     ]
    },
    {
     "cell_type": "code",
     "collapsed": false,
     "input": [
      "polariza_counter(freq_words, df_o);"
     ],
     "language": "python",
     "metadata": {},
     "outputs": [
      {
       "output_type": "stream",
       "stream": "stdout",
       "text": [
        "Foram polarizadas 671 palavras de um total de 2688 (24.96%)\n",
        "A polaridade mensurada do texto \u00e9 de 0.016\n"
       ]
      }
     ],
     "prompt_number": 22
    },
    {
     "cell_type": "markdown",
     "metadata": {},
     "source": [
      "Vamos visualizar as palavras mais frequentes de v\u00e1rias formas:"
     ]
    },
    {
     "cell_type": "code",
     "collapsed": false,
     "input": [
      "def print_vk(lst):\n",
      "    \"\"\"Print a list of value/key pairs nicely formatted in key/value order.\"\"\"\n",
      "\n",
      "    # Find the longest key: remember, the list has value/key pairs, so the key\n",
      "    # is element [1], not [0]\n",
      "    longest_key = max([len(word) for word, count in lst])\n",
      "    # Make a format string out of it\n",
      "    fmt = '%'+str(longest_key)+'s -> %s'\n",
      "    # Do actual printing\n",
      "    for k,v in lst:\n",
      "        print fmt % (k,v)\n",
      "    print('\\n')"
     ],
     "language": "python",
     "metadata": {},
     "outputs": [],
     "prompt_number": 23
    },
    {
     "cell_type": "code",
     "collapsed": false,
     "input": [
      "def plot_word_histogram(freqs, show=10, title=None):\n",
      "    \"\"\"Plot a histogram of word frequencies, limited to the top <show> ones.\n",
      "    \"\"\"\n",
      "    sorted_f = sort_freqs(freqs) if isinstance(freqs, dict) else freqs\n",
      "\n",
      "    # Don't show the tail\n",
      "    if isinstance(show, int):\n",
      "        # interpret as number of words to show in histogram\n",
      "        show_f = sorted_f[-show:]\n",
      "    else:\n",
      "        # interpret as a fraction\n",
      "        start = -int(round(show*len(freqs)))\n",
      "        show_f = sorted_f[start:]\n",
      "\n",
      "    # Now, extract words and counts, plot\n",
      "    n_words = len(show_f)\n",
      "    ind = np.arange(n_words)\n",
      "    words = [i[0] for i in show_f]\n",
      "    counts = [i[1] for i in show_f]\n",
      "\n",
      "    fig = plt.figure(figsize=(8,8))\n",
      "    ax = fig.add_subplot(111)\n",
      "\n",
      "    if n_words<=20:\n",
      "        # Only show bars and x labels for small histograms, they don't make\n",
      "        # sense otherwise\n",
      "        ax.bar(ind, counts)\n",
      "        ax.set_xticks(ind)\n",
      "        ax.set_xticklabels(words, rotation=45)\n",
      "        fig.subplots_adjust(bottom=0.25)\n",
      "    else:\n",
      "        # For larger ones, do a step plot\n",
      "        ax.step(ind, counts)\n",
      "\n",
      "    # If it spans more than two decades, use a log scale\n",
      "    if float(max(counts))/min(counts) > 100:\n",
      "        ax.set_yscale('log')\n",
      "\n",
      "    if title:\n",
      "        ax.set_title(title)\n",
      "    return ax"
     ],
     "language": "python",
     "metadata": {},
     "outputs": [],
     "prompt_number": 24
    },
    {
     "cell_type": "code",
     "collapsed": false,
     "input": [
      "number_words=15      \n",
      "w_items = freq_words.items()\n",
      "w_items.sort(key = lambda wc: wc[1])\n",
      "print 'Number of unique words:',len(w_items)\n",
      "#print('{} least frequent words:').format(number_words)\n",
      "#print_vk(w_items[:10])\n",
      "#print('{} most frequent words:').format(number_words)\n",
      "#print_vk(w_items[:-10:-1])\n",
      "plot_word_histogram(w_items, number_words,'Frequencies for {} most frequent words'.format(number_words));"
     ],
     "language": "python",
     "metadata": {},
     "outputs": [
      {
       "output_type": "stream",
       "stream": "stdout",
       "text": [
        "Number of unique words: 2688\n"
       ]
      },
      {
       "metadata": {},
       "output_type": "display_data",
       "png": "[encoded data removed]",
       "text": [
        "<matplotlib.figure.Figure at 0x7f3de0b9f990>"
       ]
      }
     ],
     "prompt_number": 25
    },
    {
     "cell_type": "code",
     "collapsed": false,
     "input": [
      "fd_words = nltk.FreqDist(freq_words)\n",
      "fig, axes = plt.subplots(nrows=1, ncols=1, figsize=(8,8)) \n",
      "fd_words.plot(30)"
     ],
     "language": "python",
     "metadata": {},
     "outputs": [
      {
       "metadata": {},
       "output_type": "display_data",
       "png": "[encoded data removed]",
       "text": [
        "<matplotlib.figure.Figure at 0x7f3de0bb23d0>"
       ]
      }
     ],
     "prompt_number": 26
    },
    {
     "cell_type": "markdown",
     "metadata": {},
     "source": [
      "E a distribui\u00e7\u00e3o cumulativa das frequ\u00eancias:"
     ]
    },
    {
     "cell_type": "code",
     "collapsed": false,
     "input": [
      "fig, axes = plt.subplots(nrows=1, ncols=1, figsize=(8,8)) \n",
      "fd_words.plot(30, cumulative = True)"
     ],
     "language": "python",
     "metadata": {},
     "outputs": [
      {
       "metadata": {},
       "output_type": "display_data",
       "png": "[encoded data removed]",
       "text": [
        "<matplotlib.figure.Figure at 0x7f3ddfedfcd0>"
       ]
      }
     ],
     "prompt_number": 27
    },
    {
     "cell_type": "code",
     "collapsed": false,
     "input": [
      "count = np.array(freq_words.values())\n",
      "words = np.array(freq_words.keys())\n",
      "count = count.astype(int)\n",
      "make_wordcloud(words, count, 'test.png')\n",
      "Image(filename='test.png', width=640, height=480)"
     ],
     "language": "python",
     "metadata": {},
     "outputs": [
      {
       "metadata": {
        "png": {
         "height": 480,
         "width": 640
        }
       },
       "output_type": "pyout",
       "png": "[encoded data removed]",
       "prompt_number": 28,
       "text": [
        "<IPython.core.display.Image at 0x7f3ddff17f90>"
       ]
      }
     ],
     "prompt_number": 28
    },
    {
     "cell_type": "markdown",
     "metadata": {},
     "source": [
      "Vamos agora construir um grafo de palavras para estudar co-ocorr\u00eancias nos textos dos feeds\n",
      "\n",
      "Abordagem e fun\u00e7\u00f5es aproveitadas de https://github.com/ipython/talks/blob/master/notebook/text_utils.py"
     ]
    },
    {
     "cell_type": "code",
     "collapsed": false,
     "input": [
      "def all_pairs(items):\n",
      "    \"\"\"Make all unique pairs (order doesn't matter)\"\"\"\n",
      "    pairs = []\n",
      "    nitems = len(items)\n",
      "    for i, wi in enumerate(items):\n",
      "        for j in range(i+1, nitems):\n",
      "            pairs.append((wi, items[j]))\n",
      "    return pairs\n",
      "\n",
      "def co_occurrences(lines, words):\n",
      "    \"\"\"Return histogram of co-occurrences of words in a list of lines.\n",
      "\n",
      "    Parameters\n",
      "    ----------\n",
      "    lines : list\n",
      "      A list of strings considered as 'sentences' to search for co-occurrences.\n",
      "\n",
      "    words : list\n",
      "      A list of words from which all unordered pairs will be constructed and\n",
      "      searched for co-occurrences.\n",
      "    \"\"\"\n",
      "    wpairs = all_pairs(words)\n",
      "\n",
      "    # Now build histogram of co-occurrences\n",
      "    co_occur = {}\n",
      "    for w1, w2 in wpairs:\n",
      "        rx = re.compile('%s .*%s|%s .*%s' % (w1, w2, w2, w1))\n",
      "        co_occur[w1, w2] = sum([1 for line in lines if rx.search(line)])\n",
      "\n",
      "    return co_occur\n",
      "\n",
      "def co_occurrences_graph(word_hist, co_occur, cutoff=0):\n",
      "    \"\"\"Convert a word histogram with co-occurrences to a weighted graph.\n",
      "    Edges are only added if the count is above cutoff.\n",
      "    \"\"\"\n",
      "    g = nx.Graph()\n",
      "    for word, count in word_hist:\n",
      "        g.add_node(word, count=count)\n",
      "    for (w1, w2), count in co_occur.iteritems():\n",
      "        if count<=cutoff:\n",
      "            continue\n",
      "        g.add_edge(w1, w2, weight=count)\n",
      "    return g"
     ],
     "language": "python",
     "metadata": {},
     "outputs": [],
     "prompt_number": 29
    },
    {
     "cell_type": "code",
     "collapsed": false,
     "input": [
      "n_nodes = 10\n",
      "popular = w_items[-n_nodes:]\n",
      "pop_words = [wc[0] for wc in popular]\n",
      "co_occur = co_occurrences(list_raw_texts, pop_words)\n",
      "wgraph = co_occurrences_graph(popular, co_occur, cutoff=1)\n",
      "wgraph = list(nx.connected_component_subgraphs(wgraph))[0]\n",
      "centrality = nx.eigenvector_centrality_numpy(wgraph)\n",
      "c = centrality.items()\n",
      "c.sort(key=lambda x:x[1], reverse=True)\n",
      "print '\\nGraph centrality'\n",
      "for node, cent in c:\n",
      "    print \"%15s: %.3g\" % (node, float(cent))"
     ],
     "language": "python",
     "metadata": {},
     "outputs": [
      {
       "output_type": "stream",
       "stream": "stdout",
       "text": [
        "\n",
        "Graph centrality\n",
        "          d\u00f3lar: 0.527\n",
        "           alta: 0.457\n",
        "          maior: 0.408\n",
        "        mercado: 0.397\n",
        "            ano: 0.282\n",
        "         brasil: 0.224\n",
        "     brasileira: 0.176\n",
        "        segundo: 0.15\n",
        "        sele\u00e7\u00e3o: 0.0735\n"
       ]
      }
     ],
     "prompt_number": 30
    },
    {
     "cell_type": "code",
     "collapsed": false,
     "input": [
      "rad0 = 0.2\n",
      "def rescale_arr(arr, amin, amax):\n",
      "    \"\"\"Rescale an array to a new range.\n",
      "    Return a new array whose range of values is (amin, amax).\n",
      "    Parameters\n",
      "    ----------\n",
      "    arr : array-like\n",
      "    amin : float\n",
      "      new minimum value\n",
      "    amax : float\n",
      "      new maximum value\n",
      "\n",
      "    Examples\n",
      "    --------\n",
      "    >>> a = np.arange(5)\n",
      "    >>> rescale_arr(a,3,6)\n",
      "    array([ 3.  ,  3.75,  4.5 ,  5.25,  6.  ])\n",
      "    \"\"\"\n",
      "    # old bounds\n",
      "    m = arr.min()\n",
      "    M = arr.max()\n",
      "    # scale/offset\n",
      "    s = float(amax-amin)/(M-m)\n",
      "    d = amin - s*m\n",
      "\n",
      "    # Apply clip before returning to cut off possible overflows outside the\n",
      "    # intended range due to roundoff error, so that we can absolutely guarantee\n",
      "    # that on output, there are no values > amax or < amin.\n",
      "    return np.clip(s*arr+d,amin,amax)\n",
      "\n",
      "def plot_graph(wgraph, pos=None, fig=None, title=None):\n",
      "    \"\"\"Conveniently summarize graph visually\"\"\"\n",
      "\n",
      "    # config parameters\n",
      "    edge_min_width= 3\n",
      "    edge_max_width= 12\n",
      "    label_font = 16\n",
      "    node_font = 18\n",
      "    node_alpha = 0.4\n",
      "    edge_alpha = 0.55\n",
      "    edge_cmap = plt.cm.Spectral\n",
      "\n",
      "    # Create figure\n",
      "    if fig is None:\n",
      "        fig, ax = plt.subplots()\n",
      "    else:\n",
      "        ax = fig.add_subplot(111)\n",
      "    fig.subplots_adjust(0,0,1)\n",
      "\n",
      "    # Plot nodes with size according to count\n",
      "    sizes = []\n",
      "    degrees = []\n",
      "    for n, d in wgraph.nodes_iter(data=True):\n",
      "        sizes.append(d['count'])\n",
      "        degrees.append(wgraph.degree(n))\n",
      "\n",
      "    sizes = rescale_arr(np.array(sizes, dtype=float), 100, 1000)\n",
      "\n",
      "    # Compute layout and label edges according to weight\n",
      "    pos = nx.spring_layout(wgraph) if pos is None else pos\n",
      "    labels = {}\n",
      "    width = []\n",
      "    for n1, n2, d in wgraph.edges_iter(data=True):\n",
      "        w = d['weight']\n",
      "        labels[n1, n2] = w\n",
      "        width.append(w)\n",
      "\n",
      "    width = rescale_arr(np.array(width, dtype=float), edge_min_width, \n",
      "                        edge_max_width)\n",
      "\n",
      "    # Draw\n",
      "    nx.draw_networkx_nodes(wgraph, pos, node_size=sizes, node_color=degrees,\n",
      "                           alpha=node_alpha)\n",
      "    nx.draw_networkx_edges(wgraph, pos, width=width, edge_color=width,\n",
      "                           edge_cmap=edge_cmap, alpha=edge_alpha)\n",
      "    nx.draw_networkx_edge_labels(wgraph, pos, edge_labels=labels, \n",
      "                                 font_size=label_font)\n",
      "    nx.draw_networkx_labels(wgraph, pos, font_size=node_font, font_weight='bold')\n",
      "    if title is not None:\n",
      "        ax.set_title(title, fontsize=label_font)\n",
      "    ax.set_xticks([])\n",
      "    ax.set_yticks([])\n",
      "\n",
      "    # Mark centrality axes\n",
      "    kw = dict(color='k', linestyle='-')\n",
      "    cross = [ax.axhline(0, **kw), ax.axvline(rad0, **kw)]\n",
      "    [ l.set_zorder(0) for l in cross]\n",
      "    \n",
      "def centrality_layout(wgraph, centrality):\n",
      "    \"\"\"Compute a layout based on centrality.\n",
      "    \"\"\"\n",
      "    # Create a list of centralities, sorted by centrality value\n",
      "    cent = sorted(centrality.items(), key=lambda x:float(x[1]), reverse=True)\n",
      "    nodes = [c[0] for c in cent]\n",
      "    cent  = np.array([float(c[1]) for c in cent])\n",
      "    rad = (cent - cent[0])/(cent[-1]-cent[0])\n",
      "    rad = rescale_arr(rad, rad0, 1)\n",
      "    angles = np.linspace(0, 2*np.pi, len(centrality))\n",
      "    layout = {}\n",
      "    for n, node in enumerate(nodes):\n",
      "        r = rad[n]\n",
      "        th = angles[n]\n",
      "        layout[node] = r*np.cos(th), r*np.sin(th)\n",
      "    return layout"
     ],
     "language": "python",
     "metadata": {},
     "outputs": [],
     "prompt_number": 31
    },
    {
     "cell_type": "code",
     "collapsed": false,
     "input": [
      "print \"Graph visualization for query:\"\n",
      "plot_graph(wgraph, centrality_layout(wgraph, centrality), \n",
      "           plt.figure(figsize=(12,12)), \n",
      "           title = u'Centrality and term co-occurrence graph, q=\"{}\"'.format(query))"
     ],
     "language": "python",
     "metadata": {},
     "outputs": [
      {
       "output_type": "stream",
       "stream": "stdout",
       "text": [
        "Graph visualization for query:\n"
       ]
      },
      {
       "metadata": {},
       "output_type": "display_data",
       "png": "[encoded data removed]",
       "text": [
        "<matplotlib.figure.Figure at 0x7f3ddffa4b50>"
       ]
      }
     ],
     "prompt_number": 32
    },
    {
     "cell_type": "markdown",
     "metadata": {},
     "source": [
      "Para entender os contextos, uma an\u00e1lise de concord\u00e2ncias\n",
      "(palavras associadas \u00e0 express\u00e3o escolhida, posicionadas na mesma senten\u00e7a):"
     ]
    },
    {
     "cell_type": "code",
     "collapsed": false,
     "input": [
      "tokens = nltk.PunktWordTokenizer().tokenize(raw_texts) # texto com stopwords\n",
      "#tokens = nltk.PunktWordTokenizer().tokenize(cleaned_texts) # texto sem stopwords\n",
      "nltk_text = nltk.Text(tokens)\n",
      "nltk_text.concordance(query, width=128, lines=10)"
     ],
     "language": "python",
     "metadata": {},
     "outputs": [
      {
       "output_type": "stream",
       "stream": "stdout",
       "text": [
        "No matches\n"
       ]
      }
     ],
     "prompt_number": 33
    },
    {
     "cell_type": "markdown",
     "metadata": {},
     "source": [
      "Palavras que ocorrem em contextos similares (associadas \u00e0s mesmas palavras que a consulta):"
     ]
    },
    {
     "cell_type": "code",
     "collapsed": false,
     "input": [
      "nltk_text.similar(query)"
     ],
     "language": "python",
     "metadata": {},
     "outputs": [
      {
       "output_type": "stream",
       "stream": "stdout",
       "text": [
        "No matches\n"
       ]
      }
     ],
     "prompt_number": 34
    },
    {
     "cell_type": "markdown",
     "metadata": {},
     "source": [
      "As coloca\u00e7\u00f5es (que n\u00e3o s\u00e3o co-ocorr\u00eancias) nos informam sobre as palavras (quaisquer, n\u00e3o necessariamente ligadas \u00e0 consulta) que ocorrem conjuntamente (bigramas frequentes):\n",
      "http://en.wikipedia.org/wiki/Collocation\n",
      "http://en.wikipedia.org/wiki/Co-occurrence"
     ]
    },
    {
     "cell_type": "code",
     "collapsed": false,
     "input": [
      "nltk_text.collocations(num=100, window_size=2)"
     ],
     "language": "python",
     "metadata": {},
     "outputs": [
      {
       "output_type": "stream",
       "stream": "stdout",
       "text": [
        "dilma rousseff; banco central; presidente dilma; michael viriato;\n",
        "sele\u00e7\u00e3o brasileira; mercado financeiro; nesta ter\u00e7a-feira; com\u00e9rcio\n",
        "exterior; pol\u00edtica econ\u00f4mica; david luiz; ano passado; j\u00falio c\u00e9sar;\n",
        "fechamento desde; a\u00e7\u00f5es negociadas; guido mantega; boa parte; primeiro\n",
        "tempo; aos 24min; felipe scolari; miguel ribeiro; semana passada;\n",
        "d\u00f3lar comercial; ter sido; thiago silva; a\u00e7\u00f5es preferenciais; a\u00e9cio\n",
        "neves; bolsa brasileira; al\u00e9m disso; principal \u00edndice; swap cambial;\n",
        "pol\u00edtica antic\u00edclica; dupla cidadania; eike batista; interven\u00e7\u00f5es\n",
        "di\u00e1rias; magazine luiza.; nossas contas.; ortodoxos fazem; todo.\n",
        "ajuste; uma vit\u00f3ria; atual presidente; economia europeia; maior valor;\n",
        "vai quebrar; outro lado; das 12h15; uma pol\u00edtica; mesmo hor\u00e1rio.; deve\n",
        "ser; luiz felipe; para quem; seu 16\u00ba; belo horizonte; helena trajano;\n",
        "lahm cruzou; luiza helena; not\u00edcias reuters; ordin\u00e1rios \u2013que;\n",
        "reginaldo galhardo; terceira v\u00e9rtebra; totalmente dominada; \u2013que d\u00e3o;\n",
        "primeira vez; chamada contabilidade; contabilidade criativa; esses\n",
        "interditos; joachim l\u00f6w; onde aplicar; venda futura; todo mundo; maior\n",
        "artilheiro; arm\u00ednio fraga; d\u00e3o direito; volta das; crescer mais.; pior\n",
        "derrota; ajuste fiscal; andr\u00e9 moraes; seis jogos.; mais alto; daquele\n",
        "m\u00eas; fundo garantidor; mil habitantes.; sua interven\u00e7\u00e3o; sele\u00e7\u00e3o\n",
        "brasileira.; fundos imobili\u00e1rios; ela tem; etapa inicial; joachim low;\n",
        "suspenso thiago; super\u00e1vit prim\u00e1rio; ele mudou; crescimento econ\u00f4mico;\n",
        "crise financeira; luiz gustavo; uma boa; mundo todo.; por conta; por\n",
        "exemplo; por volta; insper michael\n"
       ]
      }
     ],
     "prompt_number": 35
    },
    {
     "cell_type": "markdown",
     "metadata": {},
     "source": [
      "Collocations are expressions of multiple words which commonly co-occur.\n",
      "\n",
      "Below we are using Pointwise Mutual Information.\n",
      "\n",
      "http://en.wikipedia.org/wiki/Pointwise_mutual_information"
     ]
    },
    {
     "cell_type": "code",
     "collapsed": false,
     "input": [
      "max_items = 50\n",
      "freq_min_b = 10\n",
      "bigram_measures = nltk.collocations.BigramAssocMeasures()\n",
      "finder2 = nltk.collocations.BigramCollocationFinder.from_words(nltk_text)\n",
      "finder2.apply_word_filter(lambda w: w in string.punctuation)\n",
      "finder2.apply_freq_filter(freq_min_b)\n",
      "for a, b in finder2.nbest(bigram_measures.pmi, max_items):\n",
      "    print a, b"
     ],
     "language": "python",
     "metadata": {},
     "outputs": [
      {
       "output_type": "stream",
       "stream": "stdout",
       "text": [
        "banco central\n",
        "dilma rousseff\n",
        "presidente dilma\n",
        "os alem\u00e3es\n",
        "da presidente\n",
        "do brasil\n",
        "no mercado\n",
        "o banco\n",
        "do d\u00f3lar\n",
        "o d\u00f3lar\n",
        "a moeda\n",
        "a economia\n",
        "do mercado\n",
        "a sele\u00e7\u00e3o\n",
        "o mercado\n",
        "o dia\n",
        "o brasil\n",
        "a r$\n",
        "mas o\n",
        "de r$\n",
        "com o\n",
        "a as\n",
        "com a\n",
        "para o\n",
        "que o\n",
        "do que\n",
        "que a\n",
        "para a\n",
        "\u00e9 a\n",
        "e o\n",
        "o que\n",
        "a a\n",
        "e a\n",
        "de que\n"
       ]
      }
     ],
     "prompt_number": 36
    },
    {
     "cell_type": "code",
     "collapsed": false,
     "input": [
      "max_items = 50\n",
      "freq_min_t = 6\n",
      "trigram_measures = nltk.collocations.TrigramAssocMeasures()\n",
      "finder3 = nltk.collocations.TrigramCollocationFinder.from_words(nltk_text)\n",
      "finder3.apply_word_filter(lambda w: w in string.punctuation)\n",
      "finder3.apply_ngram_filter(lambda w1, w2, w3:  w1 in ['da', 'de', 'das'])\n",
      "finder3.apply_freq_filter(freq_min_t)\n",
      "for a, b, c in finder3.nbest(trigram_measures.pmi, max_items):\n",
      "    print a, b, c"
     ],
     "language": "python",
     "metadata": {},
     "outputs": [
      {
       "output_type": "stream",
       "stream": "stdout",
       "text": [
        "presidente dilma rousseff\n",
        "o banco central\n",
        "a sele\u00e7\u00e3o brasileira\n"
       ]
      }
     ],
     "prompt_number": 37
    },
    {
     "cell_type": "code",
     "collapsed": false,
     "input": [
      "for a, b in (finder2.above_score(bigram_measures.raw_freq,1.0 / len(list(nltk.bigrams(tokens))))):\n",
      "        print a, b"
     ],
     "language": "python",
     "metadata": {},
     "outputs": [
      {
       "output_type": "stream",
       "stream": "stdout",
       "text": [
        "a a\n",
        "que a\n",
        "o mercado\n",
        "que o\n",
        "a r$\n",
        "o d\u00f3lar\n",
        "com a\n",
        "e o\n",
        "com o\n",
        "para a\n",
        "para o\n",
        "a sele\u00e7\u00e3o\n",
        "o brasil\n",
        "o que\n",
        "a economia\n",
        "do brasil\n",
        "do mercado\n",
        "de que\n",
        "e a\n",
        "presidente dilma\n",
        "de r$\n",
        "no mercado\n",
        "a as\n",
        "a moeda\n",
        "dilma rousseff\n",
        "do d\u00f3lar\n",
        "do que\n",
        "o banco\n",
        "banco central\n",
        "da presidente\n",
        "mas o\n",
        "o dia\n",
        "os alem\u00e3es\n",
        "\u00e9 a\n"
       ]
      }
     ],
     "prompt_number": 38
    },
    {
     "cell_type": "code",
     "collapsed": false,
     "input": [
      "for a, b, c in finder3.above_score(trigram_measures.raw_freq,1.0 / len(list(nltk.trigrams(tokens)))):\n",
      "        print a, b, c"
     ],
     "language": "python",
     "metadata": {},
     "outputs": [
      {
       "output_type": "stream",
       "stream": "stdout",
       "text": [
        "presidente dilma rousseff\n",
        "o banco central\n",
        "a sele\u00e7\u00e3o brasileira\n"
       ]
      }
     ],
     "prompt_number": 39
    },
    {
     "cell_type": "code",
     "collapsed": false,
     "input": [
      "from nltk.util import ngrams\n",
      "n = 4\n",
      "xgrams = ngrams(tokens, n)\n",
      "xgrams_counter = Counter(xgrams)\n",
      "df_ngrams = pd.DataFrame(xgrams_counter.items(), columns = [u'n-gramas',u'Frequ\u00eancia'])\n",
      "df_ngrams = df_ngrams.sort_index(by=u'Frequ\u00eancia', ascending=False)\n",
      "df_ngrams.set_index([u'n-gramas'], inplace=True)\n",
      "df_ngrams[0:40]"
     ],
     "language": "python",
     "metadata": {},
     "outputs": [
      {
       "html": [
        "<div style=\"max-height:1000px;max-width:1500px;overflow:auto;\">\n",
        "<table border=\"1\" class=\"dataframe\">\n",
        "  <thead>\n",
        "    <tr style=\"text-align: right;\">\n",
        "      <th></th>\n",
        "      <th>Frequ\u00eancia</th>\n",
        "    </tr>\n",
        "    <tr>\n",
        "      <th>n-gramas</th>\n",
        "      <th></th>\n",
        "    </tr>\n",
        "  </thead>\n",
        "  <tbody>\n",
        "    <tr>\n",
        "      <th>(da, presidente, dilma, rousseff)</th>\n",
        "      <td> 6</td>\n",
        "    </tr>\n",
        "    <tr>\n",
        "      <th>(dilma, rousseff, (, pt)</th>\n",
        "      <td> 5</td>\n",
        "    </tr>\n",
        "    <tr>\n",
        "      <th>(,, a, sele\u00e7\u00e3o, brasileira)</th>\n",
        "      <td> 5</td>\n",
        "    </tr>\n",
        "    <tr>\n",
        "      <th>(rousseff, (, pt, ))</th>\n",
        "      <td> 5</td>\n",
        "    </tr>\n",
        "    <tr>\n",
        "      <th>(valor, de, fechamento, desde)</th>\n",
        "      <td> 4</td>\n",
        "    </tr>\n",
        "    <tr>\n",
        "      <th>(a, vista, ,, refer\u00eancia)</th>\n",
        "      <td> 4</td>\n",
        "    </tr>\n",
        "    <tr>\n",
        "      <th>(o, maior, valor, de)</th>\n",
        "      <td> 4</td>\n",
        "    </tr>\n",
        "    <tr>\n",
        "      <th>(maior, valor, de, fechamento)</th>\n",
        "      <td> 4</td>\n",
        "    </tr>\n",
        "    <tr>\n",
        "      <th>(a, a, vista, ,)</th>\n",
        "      <td> 4</td>\n",
        "    </tr>\n",
        "    <tr>\n",
        "      <th>(,, o, banco, central)</th>\n",
        "      <td> 4</td>\n",
        "    </tr>\n",
        "    <tr>\n",
        "      <th>(o, ibovespa, ,, principal)</th>\n",
        "      <td> 3</td>\n",
        "    </tr>\n",
        "    <tr>\n",
        "      <th>(presidente, dilma, rousseff, ()</th>\n",
        "      <td> 3</td>\n",
        "    </tr>\n",
        "    <tr>\n",
        "      <th>(do, ano, passado, ,)</th>\n",
        "      <td> 3</td>\n",
        "    </tr>\n",
        "    <tr>\n",
        "      <th>(,, no, mesmo, hor\u00e1rio.)</th>\n",
        "      <td> 3</td>\n",
        "    </tr>\n",
        "    <tr>\n",
        "      <th>(volta, das, 12h15, ,)</th>\n",
        "      <td> 3</td>\n",
        "    </tr>\n",
        "    <tr>\n",
        "      <th>(o, d\u00f3lar, a, a)</th>\n",
        "      <td> 3</td>\n",
        "    </tr>\n",
        "    <tr>\n",
        "      <th>(d\u00f3lar, a, a, vista)</th>\n",
        "      <td> 3</td>\n",
        "    </tr>\n",
        "    <tr>\n",
        "      <th>(,, cotado, a, r$)</th>\n",
        "      <td> 3</td>\n",
        "    </tr>\n",
        "    <tr>\n",
        "      <th>(mais, rico, do, brasil)</th>\n",
        "      <td> 3</td>\n",
        "    </tr>\n",
        "    <tr>\n",
        "      <th>(vista, ,, refer\u00eancia, no)</th>\n",
        "      <td> 3</td>\n",
        "    </tr>\n",
        "    <tr>\n",
        "      <th>(as, a\u00e7\u00f5es, preferenciais, da)</th>\n",
        "      <td> 3</td>\n",
        "    </tr>\n",
        "    <tr>\n",
        "      <th>(,, refer\u00eancia, no, mercado)</th>\n",
        "      <td> 3</td>\n",
        "    </tr>\n",
        "    <tr>\n",
        "      <th>(,, com, valoriza\u00e7\u00e3o, de)</th>\n",
        "      <td> 3</td>\n",
        "    </tr>\n",
        "    <tr>\n",
        "      <th>(das, 70, a\u00e7\u00f5es, negociadas)</th>\n",
        "      <td> 3</td>\n",
        "    </tr>\n",
        "    <tr>\n",
        "      <th>(a, a, frente, de)</th>\n",
        "      <td> 3</td>\n",
        "    </tr>\n",
        "    <tr>\n",
        "      <th>(,, o, mercado, n\u00e3o)</th>\n",
        "      <td> 3</td>\n",
        "    </tr>\n",
        "    <tr>\n",
        "      <th>(por, volta, das, 12h15)</th>\n",
        "      <td> 3</td>\n",
        "    </tr>\n",
        "    <tr>\n",
        "      <th>(ibovespa, ,, principal, \u00edndice)</th>\n",
        "      <td> 3</td>\n",
        "    </tr>\n",
        "    <tr>\n",
        "      <th>(a, cota\u00e7\u00e3o, do, d\u00f3lar)</th>\n",
        "      <td> 3</td>\n",
        "    </tr>\n",
        "    <tr>\n",
        "      <th>(por, outro, lado, ,)</th>\n",
        "      <td> 3</td>\n",
        "    </tr>\n",
        "    <tr>\n",
        "      <th>(no, mercado, financeiro, ,)</th>\n",
        "      <td> 3</td>\n",
        "    </tr>\n",
        "    <tr>\n",
        "      <th>(vit\u00f3ria, da, presidente, dilma)</th>\n",
        "      <td> 3</td>\n",
        "    </tr>\n",
        "    <tr>\n",
        "      <th>(,, as, a\u00e7\u00f5es, preferenciais)</th>\n",
        "      <td> 3</td>\n",
        "    </tr>\n",
        "    <tr>\n",
        "      <th>(minutos, do, segundo, tempo.)</th>\n",
        "      <td> 3</td>\n",
        "    </tr>\n",
        "    <tr>\n",
        "      <th>(at\u00e9, o, final, do)</th>\n",
        "      <td> 3</td>\n",
        "    </tr>\n",
        "    <tr>\n",
        "      <th>(refer\u00eancia, no, mercado, financeiro)</th>\n",
        "      <td> 3</td>\n",
        "    </tr>\n",
        "    <tr>\n",
        "      <th>(miguel, ribeiro, de, oliveira)</th>\n",
        "      <td> 2</td>\n",
        "    </tr>\n",
        "    <tr>\n",
        "      <th>(reelei\u00e7\u00e3o, da, presidente, dilma)</th>\n",
        "      <td> 2</td>\n",
        "    </tr>\n",
        "    <tr>\n",
        "      <th>(vem, de, um, trabalho)</th>\n",
        "      <td> 2</td>\n",
        "    </tr>\n",
        "    <tr>\n",
        "      <th>(da, revista, \", forbes)</th>\n",
        "      <td> 2</td>\n",
        "    </tr>\n",
        "  </tbody>\n",
        "</table>\n",
        "</div>"
       ],
       "metadata": {},
       "output_type": "pyout",
       "prompt_number": 40,
       "text": [
        "                                       Frequ\u00eancia\n",
        "n-gramas                                         \n",
        "(da, presidente, dilma, rousseff)               6\n",
        "(dilma, rousseff, (, pt)                        5\n",
        "(,, a, sele\u00e7\u00e3o, brasileira)                     5\n",
        "(rousseff, (, pt, ))                            5\n",
        "(valor, de, fechamento, desde)                  4\n",
        "(a, vista, ,, refer\u00eancia)                       4\n",
        "(o, maior, valor, de)                           4\n",
        "(maior, valor, de, fechamento)                  4\n",
        "(a, a, vista, ,)                                4\n",
        "(,, o, banco, central)                          4\n",
        "(o, ibovespa, ,, principal)                     3\n",
        "(presidente, dilma, rousseff, ()                3\n",
        "(do, ano, passado, ,)                           3\n",
        "(,, no, mesmo, hor\u00e1rio.)                        3\n",
        "(volta, das, 12h15, ,)                          3\n",
        "(o, d\u00f3lar, a, a)                                3\n",
        "(d\u00f3lar, a, a, vista)                            3\n",
        "(,, cotado, a, r$)                              3\n",
        "(mais, rico, do, brasil)                        3\n",
        "(vista, ,, refer\u00eancia, no)                      3\n",
        "(as, a\u00e7\u00f5es, preferenciais, da)                  3\n",
        "(,, refer\u00eancia, no, mercado)                    3\n",
        "(,, com, valoriza\u00e7\u00e3o, de)                       3\n",
        "(das, 70, a\u00e7\u00f5es, negociadas)                    3\n",
        "(a, a, frente, de)                              3\n",
        "(,, o, mercado, n\u00e3o)                            3\n",
        "(por, volta, das, 12h15)                        3\n",
        "(ibovespa, ,, principal, \u00edndice)                3\n",
        "(a, cota\u00e7\u00e3o, do, d\u00f3lar)                         3\n",
        "(por, outro, lado, ,)                           3\n",
        "(no, mercado, financeiro, ,)                    3\n",
        "(vit\u00f3ria, da, presidente, dilma)                3\n",
        "(,, as, a\u00e7\u00f5es, preferenciais)                   3\n",
        "(minutos, do, segundo, tempo.)                  3\n",
        "(at\u00e9, o, final, do)                             3\n",
        "(refer\u00eancia, no, mercado, financeiro)           3\n",
        "(miguel, ribeiro, de, oliveira)                 2\n",
        "(reelei\u00e7\u00e3o, da, presidente, dilma)              2\n",
        "(vem, de, um, trabalho)                         2\n",
        "(da, revista, \", forbes)                        2"
       ]
      }
     ],
     "prompt_number": 40
    },
    {
     "cell_type": "code",
     "collapsed": false,
     "input": [
      "nltk_text.dispersion_plot([u'fgv', \n",
      "                      u'ipea', \n",
      "                      u'ibge',\n",
      "                      u'a\u00e9cio',\n",
      "                      u'dilma',\n",
      "                      u'lula',\n",
      "                      u'renda',\n",
      "                      u'cps-fgv',\n",
      "                      ])"
     ],
     "language": "python",
     "metadata": {},
     "outputs": [
      {
       "metadata": {},
       "output_type": "display_data",
       "png": "[encoded data removed]",
       "text": [
        "<matplotlib.figure.Figure at 0x7f3ddfe9aa50>"
       ]
      }
     ],
     "prompt_number": 41
    },
    {
     "cell_type": "markdown",
     "metadata": {},
     "source": [
      "As fun\u00e7\u00f5es a seguir permitem extrair as frases mais significativas do texto (sumariza\u00e7\u00e3o autom\u00e1tica)"
     ]
    },
    {
     "cell_type": "code",
     "collapsed": false,
     "input": [
      "def score_sentences(sentences, important_words):\n",
      "    # Approach taken from \"The Automatic Creation of Literature Abstracts\" by H.P. Luhn\n",
      "    CLUSTER_THRESHOLD = 5  # Distance between words to consider\n",
      "    scores = []\n",
      "    sentence_idx = -1\n",
      "    #for s in [nltk.tokenize.word_tokenize(s) for s in sentences]:\n",
      "    punktw = nltk.tokenize.PunktWordTokenizer() #trocando pelo punkt (melhor?)\n",
      "    for s in [punktw.tokenize(s) for s in sentences]:    \n",
      "        sentence_idx += 1\n",
      "        word_idx = []\n",
      "        # For each word in the word list...\n",
      "        for w in important_words:\n",
      "            try:\n",
      "                # Compute an index for where any important words occur in the sentence\n",
      "                word_idx.append(s.index(w))\n",
      "            except ValueError, e: # w not in this particular sentence\n",
      "                pass\n",
      "        word_idx.sort()\n",
      "        # It is possible that some sentences may not contain any important words at all\n",
      "        if len(word_idx)== 0: continue\n",
      "        # Using the word index, compute clusters by using a max distance threshold\n",
      "        # for any two consecutive words\n",
      "        clusters = []\n",
      "        cluster = [word_idx[0]]\n",
      "        i = 1\n",
      "        while i < len(word_idx):\n",
      "            if word_idx[i] - word_idx[i - 1] < CLUSTER_THRESHOLD:\n",
      "                cluster.append(word_idx[i])\n",
      "            else:\n",
      "                clusters.append(cluster[:])\n",
      "                cluster = [word_idx[i]]\n",
      "            i += 1\n",
      "        clusters.append(cluster)\n",
      "        # Score each cluster. The max score for any given cluster is the score \n",
      "        # for the sentence\n",
      "        max_cluster_score = 0\n",
      "        for c in clusters:\n",
      "            significant_words_in_cluster = len(c)\n",
      "            total_words_in_cluster = c[-1] - c[0] + 1\n",
      "            score = 1.0 * significant_words_in_cluster \\\n",
      "                * significant_words_in_cluster / total_words_in_cluster\n",
      "            if score > max_cluster_score:\n",
      "                max_cluster_score = score\n",
      "        scores.append((sentence_idx, score))\n",
      "    return scores"
     ],
     "language": "python",
     "metadata": {},
     "outputs": [],
     "prompt_number": 42
    },
    {
     "cell_type": "code",
     "collapsed": false,
     "input": [
      "def summarize(txt):\n",
      "    TOP_SENTENCES = 10  # Number of sentences to choose on \"top n\"\n",
      "    N = 100  # Number of words to consider\n",
      "    #sentences = [s for s in nltk.tokenize.sent_tokenize(txt)]\n",
      "    punkts = nltk.tokenize.PunktSentenceTokenizer() #trocando pelo punkt (melhor?)\n",
      "    sentences = [s for s in punkts.tokenize(txt)]\n",
      "    normalized_sentences = [s.lower() for s in sentences]\n",
      "    words = [w.lower() for sentence in normalized_sentences for w in nltk.tokenize.word_tokenize(sentence)]\n",
      "    fdist = nltk.FreqDist(words)\n",
      "    top_n_words = [w[0] for w in fdist.items() if w[0] not in ignore_words][:N]\n",
      "    scored_sentences = score_sentences(normalized_sentences, top_n_words)\n",
      "    # First approach:\n",
      "    # Filter out non-significant sentences by using the average score plus a\n",
      "    # fraction of the std dev as a filter\n",
      "    avg = np.mean([s[1] for s in scored_sentences])\n",
      "    std = np.std([s[1] for s in scored_sentences])\n",
      "    mean_scored = [(sent_idx, score) for (sent_idx, score) in scored_sentences\n",
      "                   if score > avg + 0.5 * std]\n",
      "    # Second Approach: \n",
      "    # Return only the top N ranked sentences\n",
      "    top_n_scored = sorted(scored_sentences, key=lambda s: s[1])[-TOP_SENTENCES:]\n",
      "    top_n_scored = sorted(top_n_scored, key=lambda s: s[0])\n",
      "    # Decorate the post object with summaries\n",
      "    return dict(top_n_summary=[sentences[idx] for (idx, score) in top_n_scored],\n",
      "                mean_scored_summary=[sentences[idx] for (idx, score) in mean_scored])"
     ],
     "language": "python",
     "metadata": {},
     "outputs": [],
     "prompt_number": 43
    },
    {
     "cell_type": "code",
     "collapsed": false,
     "input": [
      "sumarios = summarize(raw_texts)\n",
      "sumarios['top_n_summary'] = set(sumarios['top_n_summary'])\n",
      "sumarios['mean_scored_summary'] = set(sumarios['mean_scored_summary'])\n",
      "\n",
      "print(u'frases mais importantes(1):\\n')\n",
      "for s in sumarios['top_n_summary']:\n",
      "    print(u'{}\\n'.format(s))"
     ],
     "language": "python",
     "metadata": {},
     "outputs": [
      {
       "output_type": "stream",
       "stream": "stdout",
       "text": [
        "frases mais importantes(1):\n",
        "\n",
        "com os alem\u00e3es mais relaxados, a sele\u00e7\u00e3o brasileira criou oportunidades e parou no goleiro neuer.\n",
        "\n",
        "na final, o time de joachim l\u00f6w encara o vencedor do confronto entre argentina e holanda, que se enfrentam na quarta-feira (9), no itaquer\u00e3o.\n",
        "\n",
        "dez minutos depois, sch\u00fcrrle marcou o s\u00e9timo.\n",
        "\n",
        "aos 23 minutos, fernandinho n\u00e3o conseguiu fazer o corte, a bola chegou em klose, que chutou duas vezes para marcar o segundo alem\u00e3o e o seu 16\u00ba em copas.\n",
        "\n",
        "para piorar, a equipe de felip\u00e3o tinha um buraco na frente da zaga.\n",
        "\n",
        "tr\u00eas minutos depois, paulinho tentou duas vezes e neuer fez excelentes defesas.\n",
        "\n",
        "diretor de um \u00f3rg\u00e3o municipal e dirigente do pt no munic\u00edpio ga\u00facho, d\u00e1vila nasceu em montevid\u00e9u, mas mora no lado brasileiro da fronteira desde os anos 70 e obteve a cidadania.\n",
        "\n",
        "nesse caso, os especialistas s\u00e3o categ\u00f3ricos em afirmar: d\u00f3lar n\u00e3o \u00e9 investimento.\n",
        "\n",
        "o primeiro gol alem\u00e3o foi marcado aos 11 minutos em uma falha do sistema defensivo.\n",
        "\n",
        "com a goleada, a torcida gritou ol\u00e9 e aplaudiu a sele\u00e7\u00e3o alem\u00e3 a cada troca de passes.\n",
        "\n"
       ]
      }
     ],
     "prompt_number": 44
    },
    {
     "cell_type": "code",
     "collapsed": false,
     "input": [
      "print(u'\\nfrases mais importantes(2):\\n')\n",
      "for s in sumarios['mean_scored_summary']:\n",
      "    print(u'{}\\n'.format(s))"
     ],
     "language": "python",
     "metadata": {},
     "outputs": [
      {
       "output_type": "stream",
       "stream": "stdout",
       "text": [
        "\n",
        "frases mais importantes(2):\n",
        "\n",
        "nesse caso, os especialistas s\u00e3o categ\u00f3ricos em afirmar: d\u00f3lar n\u00e3o \u00e9 investimento.\n",
        "\n",
        "na final, o time de joachim l\u00f6w encara o vencedor do confronto entre argentina e holanda, que se enfrentam na quarta-feira (9), no itaquer\u00e3o.\n",
        "\n",
        "diretor de um \u00f3rg\u00e3o municipal e dirigente do pt no munic\u00edpio ga\u00facho, d\u00e1vila nasceu em montevid\u00e9u, mas mora no lado brasileiro da fronteira desde os anos 70 e obteve a cidadania.\n",
        "\n"
       ]
      }
     ],
     "prompt_number": 45
    },
    {
     "cell_type": "markdown",
     "metadata": {},
     "source": [
      "Extra\u00e7\u00e3o de palavras relevantes usando TF-IDf  \n",
      "http://radimrehurek.com/gensim/models/tfidfmodel.html  \n",
      "http://radimrehurek.com/gensim/tutorial.html  \n",
      "http://radimrehurek.com/gensim/tut2.html  "
     ]
    },
    {
     "cell_type": "code",
     "collapsed": false,
     "input": [
      "tokens_once = [key for key in freq_words.keys() if freq_words[key]==1]\n",
      "texts = [[word.strip(string.punctuation) for word in document.lower().split() if word not in ignore_words]\n",
      "         for document in list_raw_texts]\n",
      "texts = [[word for word in text if word not in tokens_once and len(word) > 1] for text in texts]\n",
      "dictionary = gensim.corpora.Dictionary(texts)\n",
      "corpus = [dictionary.doc2bow(text) for text in texts]\n",
      "tfidf = gensim.models.TfidfModel(corpus)\n",
      "corpus_tfidf = tfidf[corpus]"
     ],
     "language": "python",
     "metadata": {},
     "outputs": [],
     "prompt_number": 46
    },
    {
     "cell_type": "code",
     "collapsed": false,
     "input": [
      "x = 1\n",
      "for doc in corpus_tfidf:\n",
      "    print(u'\\nRelevant Words in Document {}:\\n'.format(x))\n",
      "    relev = 0\n",
      "    top_w = ''\n",
      "    x+=1\n",
      "    for w_in_dic, tfidf_w in doc:\n",
      "        if tfidf_w > relev:\n",
      "            top_w = w_in_dic\n",
      "            relev = tfidf_w\n",
      "    if top_w != '' and relev > 0:\n",
      "        print('{}\\t{}'.format(dictionary[top_w], relev)) #Rever quest\u00e3o do UTF-8\n",
      "    else:\n",
      "        print('Nothing relevant')"
     ],
     "language": "python",
     "metadata": {},
     "outputs": [
      {
       "output_type": "stream",
       "stream": "stdout",
       "text": [
        "\n",
        "Relevant Words in Document 1:\n",
        "\n",
        "gol\t0.242975638263\n",
        "\n",
        "Relevant Words in Document 2:\n",
        "\n",
        "d\u00f3lares\t1.0\n",
        "\n",
        "Relevant Words in Document 3:\n",
        "\n",
        "prim\u00e1rio\t0.275442460007\n",
        "\n",
        "Relevant Words in Document 4:\n",
        "\n",
        "uol\t0.668923939626\n",
        "\n",
        "Relevant Words in Document 5:\n",
        "\n",
        "bc\t0.280790588538\n",
        "\n",
        "Relevant Words in Document 6:\n",
        "\n",
        "bilh\u00f5es\t0.380561457209\n",
        "\n",
        "Relevant Words in Document 7:\n",
        "\n",
        "luiza\t0.372997130475\n",
        "\n",
        "Relevant Words in Document 8:\n",
        "\n",
        "elei\u00e7\u00f5es\t0.288401158237\n",
        "\n",
        "Relevant Words in Document 9:\n",
        "\n",
        "jogo\t0.373821554585\n",
        "\n",
        "Relevant Words in Document 10:\n",
        "\n",
        "moeda\t0.278395112114\n",
        "\n",
        "Relevant Words in Document 11:\n",
        "\n",
        "mercado\t0.277838659345\n",
        "\n",
        "Relevant Words in Document 12:\n",
        "\n",
        "pol\u00edcia\t0.388095473508\n",
        "\n",
        "Relevant Words in Document 13:\n",
        "\n",
        "Nothing relevant\n",
        "\n",
        "Relevant Words in Document 14:\n",
        "\n",
        "oliveira\t0.332904329595\n",
        "\n",
        "Relevant Words in Document 15:\n",
        "\n",
        "negociadas\t0.31124602877\n",
        "\n",
        "Relevant Words in Document 16:\n",
        "\n",
        "esperam\t0.426886161853\n",
        "\n",
        "Relevant Words in Document 17:\n",
        "\n",
        "viajar\t0.465714272718\n",
        "\n",
        "Relevant Words in Document 18:\n",
        "\n",
        "fronteira\t0.428670822199\n",
        "\n",
        "Relevant Words in Document 19:\n",
        "\n",
        "datafolha\t0.306036292826\n",
        "\n",
        "Relevant Words in Document 20:\n",
        "\n",
        "miranda\t0.597151555111\n",
        "\n",
        "Relevant Words in Document 21:\n",
        "\n",
        "contratos\t0.380209489004\n",
        "\n",
        "Relevant Words in Document 22:\n",
        "\n",
        "boe\t0.46198423284\n",
        "\n",
        "Relevant Words in Document 23:\n",
        "\n",
        "mercados\t0.317916498717\n",
        "\n",
        "Relevant Words in Document 24:\n",
        "\n",
        "sele\u00e7\u00e3o\t0.309988310333\n"
       ]
      }
     ],
     "prompt_number": 47
    }
   ],
   "metadata": {}
  }
 ]
}