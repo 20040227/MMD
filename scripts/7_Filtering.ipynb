{
 "metadata": {
  "name": "",
  "signature": "sha256:7c98dd4f3ffa2cfcc6b378731b2724abbc02fa2fcb42f7aaec8205ba344f2989"
 },
 "nbformat": 3,
 "nbformat_minor": 0,
 "worksheets": [
  {
   "cells": [
    {
     "cell_type": "markdown",
     "metadata": {},
     "source": [
      "Mestrado em Modelagem Matematica da Informacao\n",
      "----------------------------------------------\n",
      "Disciplina: Modelagem e Mineracao de Dados\n",
      "------------------------------------------\n",
      "\n",
      "Master Program - Mathematical Modeling of Information\n",
      "-----------------------------------------------------\n",
      "Course: Data Mining and Modeling\n",
      "--------------------------------\n",
      "\n",
      "Professor: Renato Rocha Souza\n",
      "-----------------------------"
     ]
    },
    {
     "cell_type": "heading",
     "level": 3,
     "metadata": {},
     "source": [
      "Topic: Classification and Filtering "
     ]
    },
    {
     "cell_type": "markdown",
     "metadata": {},
     "source": [
      "Information on the Python Packages used:  \n",
      "http://docs.python.org/library/sqlite3.html  \n",
      "http://docs.python.org/library/re.html  \n",
      "http://www.feedparser.org/  \n",
      "http://docs.python.org/2/library/tkinter.html  \n",
      "http://www.tkdocs.com/tutorial/index.html  "
     ]
    },
    {
     "cell_type": "code",
     "collapsed": false,
     "input": [
      "import os\n",
      "import re\n",
      "import math\n",
      "import feedparser\n",
      "import time\n",
      "import string\n",
      "#from time import mktime\n",
      "import datetime\n",
      "#from datetime import datetime\n",
      "import sqlite3\n",
      "#from sqlite3 import dbapi2 as sqlite\n",
      "import pandas as pd\n",
      "import numpy as np\n",
      "import matplotlib.pyplot as plt\n",
      "from bs4 import BeautifulSoup \n",
      "import Tkinter as tki\n",
      "import tkSimpleDialog"
     ],
     "language": "python",
     "metadata": {},
     "outputs": [],
     "prompt_number": 20
    },
    {
     "cell_type": "markdown",
     "metadata": {},
     "source": [
      "Specifying the path to the files:"
     ]
    },
    {
     "cell_type": "code",
     "collapsed": false,
     "input": [
      "#datapath = \"/home/rsouza/Dropbox/Renato/ModMinDados/Git/\"\n",
      "outputs = \"/home/rsouza/Dropbox/Renato/ModMinDados/outputs/\"\n",
      "\n",
      "dbfile1 = \"treino.sqlite\"\n",
      "dbfile2 = \"treinoblogs.sqlite\"\n",
      "outblog = \"blogoutputrss.xml\"\n",
      "\n",
      "db_teste = os.path.join(outputs,dbfile1)\n",
      "db_blog = os.path.join(outputs,dbfile2)\n",
      "rssblogoutput = os.path.join(outputs,outblog)"
     ],
     "language": "python",
     "metadata": {},
     "outputs": [],
     "prompt_number": 2
    },
    {
     "cell_type": "heading",
     "level": 4,
     "metadata": {},
     "source": [
      "First block of functions: feature extraction:"
     ]
    },
    {
     "cell_type": "code",
     "collapsed": false,
     "input": [
      "def getwords(html):\n",
      "    '''Remove the HTML tags and cleans the feeds files;splits the sentences \n",
      "    by the non alpha characters and converts all words to lowercase.\n",
      "    Ignores bigger and too small words'''\n",
      "    #splitter = re.compile('\\\\W*', flags=re.U)\n",
      "    #splitter=re.compile(r'[^A-Z^a-z]+', flags=re.U)\n",
      "    #words=[s.lower() for s in splitter.split(html) if len(s)>2 and len(s)<20]\n",
      "    words = BeautifulSoup(html).findAll(text=True)[0].split()\n",
      "    words = [w.strip(string.punctuation) for w in words if len(w)>2 and len(w)<20]\n",
      "    return dict([(w,1) for w in words])"
     ],
     "language": "python",
     "metadata": {},
     "outputs": [],
     "prompt_number": 18
    },
    {
     "cell_type": "code",
     "collapsed": false,
     "input": [
      "def entryfeatures(entry):\n",
      "    '''Used when our features are not documents, but feeds rss'''\n",
      "    splitter=re.compile('\\\\W*')\n",
      "    f={}\n",
      "    # Extract title words\n",
      "    titlewords=[s.lower() for s in splitter.split(entry['title']) if len(s)>2 and len(s)<20]\n",
      "    for w in titlewords: f['Title:'+w]=1\n",
      "    # Extract summary words\n",
      "    summarywords=[s.lower() for s in splitter.split(entry['summary']) if len(s)>2 and len(s)<20]\n",
      "    # Count lowercase words\n",
      "    uc=0\n",
      "    for i in range(len(summarywords)):\n",
      "        w=summarywords[i]\n",
      "        f[w]=1\n",
      "        if w.isupper(): uc+=1\n",
      "        # Features are words in the feed summary\n",
      "        if i < len(summarywords)-1:\n",
      "            twowords=' '.join(summarywords[i:i+1])\n",
      "            f[twowords]=1\n",
      "    # Save publisher information\n",
      "    f['Publisher:'+entry['publisher']]=1\n",
      "    # Too many uppercase words are indicated\n",
      "    if float(uc)/len(summarywords)>0.3:\n",
      "        f['MAIUSCULAS']=1\n",
      "    return f"
     ],
     "language": "python",
     "metadata": {},
     "outputs": [],
     "prompt_number": 5
    },
    {
     "cell_type": "heading",
     "level": 4,
     "metadata": {},
     "source": [
      "Second block of functions: classification"
     ]
    },
    {
     "cell_type": "code",
     "collapsed": false,
     "input": [
      "class classifier:\n",
      "    ''' Represents the classifier, storing what's learnt from training.\n",
      "    fc saves the combination words/categories {'word': {'bad': 3, 'good': 2}}\n",
      "    and cc is a dictionary that stores the number of times a category was used\n",
      "    {'bad': 3, 'good': 2}. Will be used when no DB is used.\n",
      "    Getfeatures is the feature extraction function to be used'''\n",
      "    def __init__(self, getfeatures, filename=None, usedb=False):\n",
      "        self.fc={}\n",
      "        self.cc={}\n",
      "        self.getfeatures = getfeatures\n",
      "        self.usedb = usedb\n",
      "    \n",
      "    def setdb(self,dbfile):\n",
      "        '''When using a database and not dictionaries, to persist the information\n",
      "        across sessions'''\n",
      "        self.con = sqlite3.dbapi2.connect(dbfile)    \n",
      "        self.con.execute(u'create table if not exists fc(feature,category,count)')\n",
      "        self.con.execute(u'create table if not exists cc(category,count)')\n",
      "\n",
      "    def fcount(self,f,cat):\n",
      "        '''Returns the number of times a feature appears in a category'''\n",
      "        if not self.usedb:\n",
      "            if f in self.fc and cat in self.fc[f]: \n",
      "                return float(self.fc[f][cat])\n",
      "            else: \n",
      "                return 0\n",
      "        else:\n",
      "            query = u'select count from fc where feature=\"{}\" and category=\"{}\"'\n",
      "            res = self.con.execute(query.format(f,cat)).fetchone()\n",
      "            if res == None: \n",
      "                return 0\n",
      "            else: \n",
      "                return float(res[0])\n",
      "\n",
      "    def incf(self,f,cat):\n",
      "        '''Creates a feature/category pair if not exists, or increase the number\n",
      "        if feature exists in a category'''\n",
      "        if not self.usedb:\n",
      "            self.fc.setdefault(f,{})\n",
      "            self.fc[f].setdefault(cat,0)\n",
      "            self.fc[f][cat] += 1\n",
      "        else:\n",
      "            count=self.fcount(f,cat)\n",
      "            if count == 0:\n",
      "                self.con.execute(u'insert into fc values (\"{}\",\"{}\",1)'.format(f,cat))\n",
      "            else:\n",
      "                query = u'update fc set count={} where feature=\"{}\" and category=\"{}\"'\n",
      "                self.con.execute(query.format(count+1,f,cat)) \n",
      "\n",
      "    def incc(self,cat):\n",
      "        '''Increases the number of occurrences of a category'''\n",
      "        if not self.usedb:\n",
      "            self.cc.setdefault(cat,0)\n",
      "            self.cc[cat] += 1        \n",
      "        else:\n",
      "            count=self.catcount(cat)\n",
      "            if count == 0:\n",
      "                self.con.execute(u'insert into cc values (\"{}\",1)'.format(cat))\n",
      "            else:\n",
      "                query = u'update cc set count={} where category=\"{}\"'\n",
      "                self.con.execute(query.format(count+1,cat))    \n",
      "\n",
      "    def catcount(self,cat):\n",
      "        '''Counts the numer of itens in a category'''\n",
      "        if not self.usedb:\n",
      "            if cat in self.cc:\n",
      "                return float(self.cc[cat])\n",
      "            else:\n",
      "                return 0\n",
      "        else:\n",
      "            query = u'select count from cc where category=\"{}\"'\n",
      "            res=self.con.execute(query.format(cat)).fetchone()\n",
      "            if res == None:\n",
      "                return 0\n",
      "            else:\n",
      "                return float(res[0])\n",
      "\n",
      "    def categories(self):\n",
      "        '''Lists all the categories'''        \n",
      "        if not self.usedb: return self.cc.keys()\n",
      "        else:\n",
      "            cur=self.con.execute(u'select category from cc');\n",
      "            return [d[0] for d in cur]\n",
      "\n",
      "    def totalcount(self):\n",
      "        ''' Returns the total numer of itens'''\n",
      "        if not self.usedb: return sum(self.cc.values())\n",
      "        else:\n",
      "            res=self.con.execute(u'select sum(count) from cc').fetchone();\n",
      "            if res==None: return 0\n",
      "            else: return res[0]\n",
      "\n",
      "    def train(self,item,cat):\n",
      "        '''Receives an item (a bag of features) and a category, and increases\n",
      "        the relative number of this category for all the features'''\n",
      "        features=self.getfeatures(item)\n",
      "        for f in features:\n",
      "            self.incf(f,cat)\n",
      "        self.incc(cat)\n",
      "        if self.usedb: self.con.commit()\n",
      "\n",
      "    def fprob(self,f,cat):\n",
      "        '''Calculates the probability of a feature to be within a category'''\n",
      "        if self.catcount(cat)==0: return 0\n",
      "        return self.fcount(f,cat)/self.catcount(cat)\n",
      "\n",
      "    def weightedprob(self,f,cat,prf,weight=1.0,ap=0.5):\n",
      "        '''Calculates the probability of a feature to appear in a certain category\n",
      "        as fprob does, but assuming an initial value and changing according to \n",
      "        the training. That minimizes the effect of a rare word to be classified\n",
      "        erroneously'''\n",
      "        basicprob=prf(f,cat)\n",
      "        totals=sum([self.fcount(f,c) for c in self.categories()])\n",
      "        bp=((weight*ap)+(totals*basicprob))/(weight+totals)\n",
      "        return bp"
     ],
     "language": "python",
     "metadata": {},
     "outputs": [],
     "prompt_number": 26
    },
    {
     "cell_type": "code",
     "collapsed": false,
     "input": [
      "class naivebayes(classifier):\n",
      "    '''Extends classifier class overriding __init__ and adding specific functions\n",
      "    to classify documents using naive bayes'''\n",
      "    \n",
      "    def __init__(self, getfeatures, usedb=False):\n",
      "        classifier.__init__(self,getfeatures)\n",
      "        self.thresholds = {}\n",
      "        self.usedb = usedb\n",
      "        \n",
      "    def docprob(self,item,cat):\n",
      "        '''Calculates the probability of a document to be within a given\n",
      "        category multiplying all the features probabilities to be in this category'''\n",
      "        features=self.getfeatures(item)\n",
      "        p=1\n",
      "        for f in features: \n",
      "            p*=self.weightedprob(f,cat,self.fprob)\n",
      "        return p\n",
      "\n",
      "    def prob(self,item,cat):\n",
      "        catprob=self.catcount(cat)/self.totalcount()\n",
      "        docprob=self.docprob(item,cat)\n",
      "        return docprob*catprob\n",
      "\n",
      "    def setthreshold(self,cat,t):\n",
      "        self.thresholds[cat]=t\n",
      "\n",
      "    def getthreshold(self,cat):\n",
      "        if cat not in self.thresholds: \n",
      "            return 1.0\n",
      "        return self.thresholds[cat]\n",
      "\n",
      "    def classify(self, item, default=None):\n",
      "        '''Finds the most probably category to be set, and apply this\n",
      "        classification, given that it satisfies a minimum threshold, compared\n",
      "        to the second best category to classify; otherwise sets to \"None\"'''        \n",
      "        probs = {}\n",
      "        maximum = 0.0\n",
      "        #best = None\n",
      "        for cat in self.categories():\n",
      "            probs[cat] = self.prob(item, cat)\n",
      "            if probs[cat] > maximum: \n",
      "                maximum = probs[cat]\n",
      "                best = cat\n",
      "        for cat in probs:\n",
      "            if cat == best:\n",
      "                continue\n",
      "            if probs[cat]*self.getthreshold(best) > probs[best]: \n",
      "                return default\n",
      "        return best"
     ],
     "language": "python",
     "metadata": {},
     "outputs": [],
     "prompt_number": 27
    },
    {
     "cell_type": "code",
     "collapsed": false,
     "input": [
      "class fisherclassifier(classifier):\n",
      "    '''Extends classifier class overriding __init__ and adding specific functions\n",
      "    to classify documents using fisher method'''\n",
      "\n",
      "    def __init__(self,getfeatures, usedb=False):\n",
      "        classifier.__init__(self, getfeatures)\n",
      "        self.minimums = {}\n",
      "        self.usedb = usedb\n",
      "        \n",
      "    def cprob(self,f,cat):\n",
      "        '''Returns the frequency of the feature in a category divided\n",
      "        by the frequency in all categories'''\n",
      "        clf=self.fprob(f,cat)\n",
      "        if clf==0: return 0\n",
      "        freqsum=sum([self.fprob(f,c) for c in self.categories()])\n",
      "        p=clf/(freqsum)\n",
      "        return p\n",
      "\n",
      "    def invchi2(self,chi, df):\n",
      "        m = chi / 2.0\n",
      "        sum = term = math.exp(-m)\n",
      "        for i in range(1, df//2):\n",
      "            term *= m / i\n",
      "            sum += term\n",
      "        return min(sum, 1.0)\n",
      "\n",
      "    def prob(self,item,cat):\n",
      "        '''Multipy all the categories, applies the natural log\n",
      "        and uses the inverse chi2 to calculate probabilty'''\n",
      "        p = 1\n",
      "        features = self.getfeatures(item)\n",
      "        for f in features:\n",
      "            p *= (self.weightedprob(f,cat,self.cprob))\n",
      "        fscore =- 2*math.log(p)\n",
      "        return self.invchi2(fscore,len(features)*2)\n",
      "\n",
      "    def setminimum(self,cat, minimum):\n",
      "        self.minimums[cat] = minimum\n",
      "\n",
      "    def getminimum(self,cat):\n",
      "        if cat not in self.minimums: return 0\n",
      "        return self.minimums[cat]\n",
      "\n",
      "    def classify(self, item, default=None):\n",
      "        '''Applies fisher to all categories to find the best result, given \n",
      "        that it satisfies a minimum threshold, otherwise sets to \"None\"'''\n",
      "        best = default\n",
      "        maximum = 0.0\n",
      "        for c in self.categories():\n",
      "            p = self.prob(item,c)\n",
      "            if p>self.getminimum(c) and p > maximum:\n",
      "                best = c\n",
      "                maximum = p\n",
      "        return best"
     ],
     "language": "python",
     "metadata": {},
     "outputs": [],
     "prompt_number": 28
    },
    {
     "cell_type": "heading",
     "level": 4,
     "metadata": {},
     "source": [
      "Third block of functions: reading files or searching for feeds"
     ]
    },
    {
     "cell_type": "code",
     "collapsed": false,
     "input": [
      "def blogread(file_or_subject, classifier, search=True):\n",
      "    '''Receives an url to search Google for blogs in a given subject, or a \n",
      "    rss xml file with saved feeds. Tries to classify the entries'''\n",
      "    if search:\n",
      "        generic = 'http://www.google.com/search?q={}&hl=pt-BR&tbm=blg&output=rss'\n",
      "        url = generic.format(file_or_subject)\n",
      "        f = feedparser.parse(url)\n",
      "    else:\n",
      "        f = feedparser.parse(file_or_subject)\n",
      "    for entry in f['entries']:\n",
      "        \n",
      "        # raw input does not work in Ipython Notebook - using Tkinter\n",
      "        #root = tki.Tk()\n",
      "        #WINDOW_WIDTH = 1200\n",
      "        #WINDOW_HEIGHT = 150\n",
      "        #HEIGHT_OFFSET = 250\n",
      "        #pos_x = root.winfo_screenwidth() - WINDOW_WIDTH - 100\n",
      "        #geometry = '{width}x{height}+{pos_x}+{pos_y}'.format(height=WINDOW_HEIGHT, width=WINDOW_WIDTH, \n",
      "        #                                                     pos_y=HEIGHT_OFFSET, pos_x=pos_x)\n",
      "        #root.wm_geometry(geometry)\n",
      "        #\n",
      "        #fulltext=u'{}\\n{}\\n{}'.format(entry['title'],entry['publisher'],entry['summary'])\n",
      "        \n",
      "        print(u'\\n-----')\n",
      "        print(u'Title:     '+ entry['title'])\n",
      "        print(u'Publisher: '+ entry['publisher'])\n",
      "        print(u'Date Published: ',datetime.datetime.fromtimestamp(time.mktime(entry['updated_parsed'])))\n",
      "        print(u'\\n-----')        \n",
      "        print(entry['summary'])\n",
      "        guess = classifier.classify(entry)\n",
      "        print(u'Suggested: {}'.format(guess))\n",
      "        cl = raw_input('Enter category or press <enter> to accept suggestion: ').lower() #does not work in Ipython Notebook\n",
      "        txt = 'Title:     '+entry['title']\n",
      "        txt = txt+u'\\n'+u'Publisher: '+entry['publisher']\n",
      "        txt = txt+u'\\n'+entry['summary']\n",
      "        txt = txt+u'\\n'+u'Suggested: {}'.format(guess)\n",
      "        #tki.Button(root, text=txt).grid()\n",
      "        #cl = tkSimpleDialog.askstring(u'Choose Category','Enter category or press <OK> to accept suggestion: ').lower()\n",
      "        #root.withdraw()\n",
      "        \n",
      "        if cl == ''.strip() and guess:\n",
      "            cl = guess\n",
      "        print(u'Category \"{}\" chosen'.format(cl))\n",
      "        classifier.train(entry,cl)"
     ],
     "language": "python",
     "metadata": {},
     "outputs": [],
     "prompt_number": 43
    },
    {
     "cell_type": "heading",
     "level": 4,
     "metadata": {},
     "source": [
      "Fourth block of functions: instantiating and training classifiers"
     ]
    },
    {
     "cell_type": "code",
     "collapsed": false,
     "input": [
      "def sampletrain(cl):\n",
      "    print('Running sampletrain to train the classifier...')\n",
      "    cl.train('Nobody owns the water.','good')\n",
      "    cl.train('the quick rabbit jumps fences','good')\n",
      "    cl.train('buy pharmaceuticals now','bad')\n",
      "    cl.train('make quick money at the online casino','bad')\n",
      "    cl.train('the quick brown fox jumps','good')"
     ],
     "language": "python",
     "metadata": {},
     "outputs": [],
     "prompt_number": 10
    },
    {
     "cell_type": "code",
     "collapsed": false,
     "input": [
      "def probabilidades_palavras():\n",
      "    cl = classifier(getwords)\n",
      "    print('\\n')    \n",
      "    sampletrain(cl)\n",
      "    \n",
      "    print('How many times \"quick\" --> \"good\": {}'.format(cl.fcount('quick','good')))\n",
      "    print('How many times \"quick\" --> \"bad\": {}'.format(cl.fcount('quick','bad')))\n",
      "    print('\\nProbability of \"quick\" given that \"good\": {}'.format(cl.fprob('quick','good')))\n",
      "    print('Probability of \"money\" given that \"good\" (fprob): {}'.format(cl.fprob('money','good')))\n",
      "    print('Weighted probability of \"money\" given that \"good\" (weightedprob): {}'.format(cl.weightedprob('money','good',cl.fprob)))\n",
      "\n",
      "    print('\\nTraining again with the same documents...\\n')\n",
      "    sampletrain(cl)\n",
      "\n",
      "    print('\\nProbability of \"money\" given that \"good\" (fprob): {}'.format(cl.fprob('money','good')))\n",
      "    print('Weighted probability of \"money\" given that \"good\" (weightedprob): {}\\n'.format(cl.weightedprob('money','good',cl.fprob)))"
     ],
     "language": "python",
     "metadata": {},
     "outputs": [],
     "prompt_number": 11
    },
    {
     "cell_type": "code",
     "collapsed": false,
     "input": [
      "def probabilidades_documentos_bayes():\n",
      "    cl = naivebayes(getwords)\n",
      "    print('\\n')    \n",
      "    sampletrain(cl)\n",
      "    \n",
      "    print('Classifying \"quick rabbit\": {}'.format(cl.classify('quick rabbit', default='unknown')))\n",
      "    print('Classifying \"quick money\": {}'.format(cl.classify('quick money', default='unknown')))\n",
      "    \n",
      "    print('\\nSetting the threshold up...')\n",
      "    cl.setthreshold('bad',3.0)\n",
      "\n",
      "    print('Classifying \"quick money\": {}'.format(cl.classify('quick money', default='unknown')))\n",
      "    \n",
      "    print('\\nTraining again with the same documents (10x)...')\n",
      "    for i in range(10): sampletrain(cl)\n",
      "    \n",
      "    print('\\nClassifying \"quick money\": {}'.format(cl.classify('quick money', default='unknown')))"
     ],
     "language": "python",
     "metadata": {},
     "outputs": [],
     "prompt_number": 12
    },
    {
     "cell_type": "code",
     "collapsed": false,
     "input": [
      "def probabilidades_palavras_fisher():\n",
      "    cl = fisherclassifier(getwords)\n",
      "    print('\\n')    \n",
      "    sampletrain(cl)\n",
      "    print('\\n')      \n",
      "    print('Probability of \"quick\" given that \"good\": {}'.format(cl.cprob('quick', 'good')))\n",
      "    print('Probability of \"money\" given that \"bad\": {}'.format(cl.cprob('money', 'bad')))\n",
      "    print('Weighted probability of  \"money\" given that \"bad\": {}'.format(cl.weightedprob('money','bad',cl.cprob)))"
     ],
     "language": "python",
     "metadata": {},
     "outputs": [],
     "prompt_number": 13
    },
    {
     "cell_type": "code",
     "collapsed": false,
     "input": [
      "def probabilidades_documentos_fisher():\n",
      "    cl = fisherclassifier(getwords)\n",
      "    print('\\n')    \n",
      "    sampletrain(cl)\n",
      "\n",
      "    print('Classifying \"quick rabbit\": {}'.format(cl.classify('quick rabbit')))\n",
      "    print('Classifying \"quick money\": {}'.format(cl.classify('quick money')))\n",
      "   \n",
      "    print('\\nSetting the threshold up...')\n",
      "    cl.setminimum('bad',0.8)\n",
      "    print('Classifying \"quick money\": {}'.format(cl.classify('quick money')))\n",
      "\n",
      "    print('\\nSetting the threshold down...')\n",
      "    cl.setminimum('bad',0.4)\n",
      "    print('Classifying \"quick money\": {}'.format(cl.classify('quick money')))"
     ],
     "language": "python",
     "metadata": {},
     "outputs": [],
     "prompt_number": 14
    },
    {
     "cell_type": "code",
     "collapsed": false,
     "input": [
      "def using_db_example():\n",
      "    '''Training with a classifier, persisting in a database\n",
      "    using the training data to classify using another classifier'''\n",
      "    print('\\nInstantiating a fisher classifier...')\n",
      "    cl = fisherclassifier(getwords, usedb=True)\n",
      "    cl.setdb(db_teste)\n",
      "    sampletrain(cl)\n",
      "    print('\\nInstantiating a naive bayes classifier...')    \n",
      "    cl2 = naivebayes(getwords, usedb=True)\n",
      "    cl2.setdb(db_teste)\n",
      "    print('Classifying \"quick money\": {}'.format(cl2.classify('quick money')))"
     ],
     "language": "python",
     "metadata": {},
     "outputs": [],
     "prompt_number": 15
    },
    {
     "cell_type": "code",
     "collapsed": false,
     "input": [
      "def classifying_blogs(subject='python'):\n",
      "    '''Instantiating a new classifier using \"entryfeatures\" (for feeds)\n",
      "    Creating the database for the persistance of training data\n",
      "    Using blogread with searching feeds option - no file reading'''\n",
      "    cl = fisherclassifier(entryfeatures, usedb=True)\n",
      "    cl.setdb(db_blog)\n",
      "    if not subject:\n",
      "        # raw input does not work in Ipython Notebook\n",
      "        #subject = raw_input('\\n\\nPlease enter a subject to search for feeds: ').lower()\n",
      "        root = tki.Tk()\n",
      "        root.withdraw()\n",
      "        subject = tkSimpleDialog.askstring('\\n\\nPlease enter a subject to search for feeds: ').lower()\n",
      "    blogread(subject, cl)    \n",
      "    print('\\nList of categories stored in the database:')\n",
      "    for category in cl.categories(): \n",
      "        print(category)\n",
      "    return cl"
     ],
     "language": "python",
     "metadata": {},
     "outputs": [],
     "prompt_number": 16
    },
    {
     "cell_type": "code",
     "collapsed": false,
     "input": [
      "probabilidades_palavras()"
     ],
     "language": "python",
     "metadata": {},
     "outputs": [
      {
       "output_type": "stream",
       "stream": "stdout",
       "text": [
        "\n",
        "\n",
        "Running sampletrain to train the classifier...\n",
        "How many times \"quick\" --> \"good\": 2.0\n",
        "How many times \"quick\" --> \"bad\": 1.0\n",
        "\n",
        "Probability of \"quick\" given that \"good\": 0.666666666667\n",
        "Probability of \"money\" given that \"good\" (fprob): 0.0\n",
        "Weighted probability of \"money\" given that \"good\" (weightedprob): 0.25\n",
        "\n",
        "Training again with the same documents...\n",
        "\n",
        "Running sampletrain to train the classifier...\n",
        "\n",
        "Probability of \"money\" given that \"good\" (fprob): 0.0\n",
        "Weighted probability of \"money\" given that \"good\" (weightedprob): 0.166666666667\n",
        "\n"
       ]
      }
     ],
     "prompt_number": 21
    },
    {
     "cell_type": "code",
     "collapsed": false,
     "input": [
      "probabilidades_documentos_bayes()"
     ],
     "language": "python",
     "metadata": {},
     "outputs": [
      {
       "output_type": "stream",
       "stream": "stdout",
       "text": [
        "\n",
        "\n",
        "Running sampletrain to train the classifier...\n",
        "Classifying \"quick rabbit\": good\n",
        "Classifying \"quick money\": bad\n",
        "\n",
        "Setting the threshold up...\n",
        "Classifying \"quick money\": unknown\n",
        "\n",
        "Training again with the same documents (10x)...\n",
        "Running sampletrain to train the classifier...\n",
        "Running sampletrain to train the classifier...\n",
        "Running sampletrain to train the classifier...\n",
        "Running sampletrain to train the classifier...\n",
        "Running sampletrain to train the classifier...\n",
        "Running sampletrain to train the classifier...\n",
        "Running sampletrain to train the classifier...\n",
        "Running sampletrain to train the classifier...\n",
        "Running sampletrain to train the classifier..."
       ]
      },
      {
       "output_type": "stream",
       "stream": "stdout",
       "text": [
        "\n",
        "Running sampletrain to train the classifier...\n",
        "\n",
        "Classifying \"quick money\": bad\n"
       ]
      }
     ],
     "prompt_number": 22
    },
    {
     "cell_type": "code",
     "collapsed": false,
     "input": [
      "probabilidades_palavras_fisher()"
     ],
     "language": "python",
     "metadata": {},
     "outputs": [
      {
       "output_type": "stream",
       "stream": "stdout",
       "text": [
        "\n",
        "\n",
        "Running sampletrain to train the classifier...\n",
        "\n",
        "\n",
        "Probability of \"quick\" given that \"good\": 0.571428571429\n",
        "Probability of \"money\" given that \"bad\": 1.0\n",
        "Weighted probability of  \"money\" given that \"bad\": 0.75\n"
       ]
      }
     ],
     "prompt_number": 23
    },
    {
     "cell_type": "code",
     "collapsed": false,
     "input": [
      "probabilidades_documentos_fisher()"
     ],
     "language": "python",
     "metadata": {},
     "outputs": [
      {
       "output_type": "stream",
       "stream": "stdout",
       "text": [
        "\n",
        "\n",
        "Running sampletrain to train the classifier...\n",
        "Classifying \"quick rabbit\": good\n",
        "Classifying \"quick money\": bad\n",
        "\n",
        "Setting the threshold up...\n",
        "Classifying \"quick money\": good\n",
        "\n",
        "Setting the threshold down...\n",
        "Classifying \"quick money\": bad\n"
       ]
      }
     ],
     "prompt_number": 24
    },
    {
     "cell_type": "code",
     "collapsed": false,
     "input": [
      "using_db_example()"
     ],
     "language": "python",
     "metadata": {},
     "outputs": [
      {
       "output_type": "stream",
       "stream": "stdout",
       "text": [
        "\n",
        "Instantiating a fisher classifier...\n",
        "Running sampletrain to train the classifier...\n",
        "\n",
        "Instantiating a naive bayes classifier..."
       ]
      },
      {
       "output_type": "stream",
       "stream": "stdout",
       "text": [
        "\n",
        "Classifying \"quick money\": bad\n"
       ]
      }
     ],
     "prompt_number": 29
    },
    {
     "cell_type": "code",
     "collapsed": false,
     "input": [
      "cl = classifying_blogs('Dilma')"
     ],
     "language": "python",
     "metadata": {},
     "outputs": [
      {
       "output_type": "stream",
       "stream": "stdout",
       "text": [
        "\n",
        "-----\n",
        "Title:     <b>Dilma</b> reeleita - Partido dos Trabalhadores\n",
        "Publisher: Partido dos Trabalhadores\n",
        "(u'Date Published: ', datetime.datetime(2014, 10, 26, 23, 35, 22))\n",
        "\n",
        "-----\n",
        "Eram 20h35 quando todos os portais da internet informaram ao Pa\u00eds: <em>Dilma</em> Vana Rousseff, do Partido dos Trabalhadores, ser\u00e1, por mais quatro anos, presidenta da Rep\u00fablica Federativa do Brasil. Foram mais de tr\u00eas meses&nbsp;...\n",
        "Suggested: religiao"
       ]
      },
      {
       "output_type": "stream",
       "stream": "stdout",
       "text": [
        "\n"
       ]
      },
      {
       "name": "stdout",
       "output_type": "stream",
       "stream": "stdout",
       "text": [
        "Enter category or press <enter> to accept suggestion: Politica\n"
       ]
      },
      {
       "output_type": "stream",
       "stream": "stdout",
       "text": [
        "Category \"politica\" chosen\n",
        "\n",
        "-----"
       ]
      },
      {
       "output_type": "stream",
       "stream": "stdout",
       "text": [
        "\n",
        "Title:     Cinco motivos para n\u00e3o reeleger <b>Dilma</b>, segundo a revista \u201cForbes <b>...</b>\n",
        "Publisher: Ricardo Setti - VEJA.com\n",
        "(u'Date Published: ', datetime.datetime(2014, 10, 5, 18, 0, 7))\n",
        "\n",
        "-----\n",
        "<em>Dilma</em>: para 'Forbes', o mercado n\u00e3o quer a presidente (Foto: Ueslei Marcelino/Reuters) Revista americana publica em seu site texto de colunista em que.\n",
        "Suggested: nocao"
       ]
      },
      {
       "output_type": "stream",
       "stream": "stdout",
       "text": [
        "\n"
       ]
      },
      {
       "name": "stdout",
       "output_type": "stream",
       "stream": "stdout",
       "text": [
        "Enter category or press <enter> to accept suggestion: Politica\n"
       ]
      },
      {
       "output_type": "stream",
       "stream": "stdout",
       "text": [
        "Category \"politica\" chosen\n",
        "\n",
        "-----"
       ]
      },
      {
       "output_type": "stream",
       "stream": "stdout",
       "text": [
        "\n",
        "Title:     PSDB re\u00fane provas para pedir cassa\u00e7\u00e3o da candidatura de <b>Dilma</b> <b>...</b>\n",
        "Publisher: VEJA.com: Revista VEJA, acervo digital, not\u00edcias, blogs, colunistas, v\u00eddeos\n",
        "(u'Date Published: ', datetime.datetime(2014, 10, 1, 23, 46, 24))\n",
        "\n",
        "-----\n",
        "Depois de anunciar que acionar\u00e3o a Justi\u00e7a por uma investiga\u00e7\u00e3o rigorosa sobre ind\u00edcios da utiliza\u00e7\u00e3o dos Correios em benef\u00edcio da campanha da presidente-candidata <em>Dilma</em> Rousseff, o candidato do PSDB \u00e0 Presid\u00eancia&nbsp;...\n",
        "Suggested: politica"
       ]
      },
      {
       "output_type": "stream",
       "stream": "stdout",
       "text": [
        "\n"
       ]
      },
      {
       "name": "stdout",
       "output_type": "stream",
       "stream": "stdout",
       "text": [
        "Enter category or press <enter> to accept suggestion: \n"
       ]
      },
      {
       "output_type": "stream",
       "stream": "stdout",
       "text": [
        "Category \"politica\" chosen\n",
        "\n",
        "-----"
       ]
      },
      {
       "output_type": "stream",
       "stream": "stdout",
       "text": [
        "\n",
        "Title:     '<b>Dilma</b> tem dois meses para mudar estilo de governar' - Brasil <b>...</b> - Veja\n",
        "Publisher: VEJA.com: Revista VEJA, acervo digital, not\u00edcias, blogs, colunistas, v\u00eddeos\n",
        "(u'Date Published: ', datetime.datetime(2014, 10, 31, 19, 53, 47))\n",
        "\n",
        "-----\n",
        "Na primeira semana depois das elei\u00e7\u00f5es, o Congresso Nacional deu um claro recado \u00e0 presidente reeleita <em>Dilma</em> Rousseff (PT): derrubou o decreto bolivariano que criava conselhos populares em \u00f3rg\u00e3o p\u00fablicos, convocou&nbsp;...\n",
        "Suggested: politica"
       ]
      },
      {
       "output_type": "stream",
       "stream": "stdout",
       "text": [
        "\n"
       ]
      },
      {
       "name": "stdout",
       "output_type": "stream",
       "stream": "stdout",
       "text": [
        "Enter category or press <enter> to accept suggestion: \n"
       ]
      },
      {
       "output_type": "stream",
       "stream": "stdout",
       "text": [
        "Category \"politica\" chosen\n",
        "\n",
        "-----"
       ]
      },
      {
       "output_type": "stream",
       "stream": "stdout",
       "text": [
        "\n",
        "Title:     Folha Pol\u00edtica: H\u00e1 14 pedidos de impeachment de <b>Dilma</b> na C\u00e2mara\n",
        "Publisher: Folha Pol\u00edtica\n",
        "(u'Date Published: ', datetime.datetime(2014, 10, 30, 3, 15))\n",
        "\n",
        "-----\n",
        "H\u00e1 14 pedidos de impeachment da presidenta <em>Dilma</em> protocolados na C\u00e2mara dos Deputados, dois deles provocados pelo recente esc\u00e2ndalo do Petrol\u00e3o. Al\u00e9m disso, a revela\u00e7\u00e3o de que ela, como Lula, sabia de tudo,&nbsp;...\n",
        "Suggested: politica"
       ]
      },
      {
       "output_type": "stream",
       "stream": "stdout",
       "text": [
        "\n"
       ]
      },
      {
       "name": "stdout",
       "output_type": "stream",
       "stream": "stdout",
       "text": [
        "Enter category or press <enter> to accept suggestion: politica\n"
       ]
      },
      {
       "output_type": "stream",
       "stream": "stdout",
       "text": [
        "Category \"politica\" chosen\n",
        "\n",
        "-----"
       ]
      },
      {
       "output_type": "stream",
       "stream": "stdout",
       "text": [
        "\n",
        "Title:     Fraude em urna eletr\u00f4nica d\u00e1 400 votos para <b>Dilma</b>! : E-farsas.com <b>...</b>\n",
        "Publisher: E-farsas.com - Desvendando farsas da web desde 2002!\n",
        "(u'Date Published: ', datetime.datetime(2014, 10, 28, 20, 42, 39))\n",
        "\n",
        "-----\n",
        "A foto publicada pelo mes\u00e1rio mostra o que parece ser a impress\u00e3o do relat\u00f3rio de zer\u00e9sima da urna eletr\u00f4nica de sua se\u00e7\u00e3o, que j\u00e1 exibia a quantidade inicial de 400 votos totalizados para <em>Dilma</em> e \u201czero\u201d para o candidato&nbsp;...\n",
        "Suggested: politica"
       ]
      },
      {
       "output_type": "stream",
       "stream": "stdout",
       "text": [
        "\n"
       ]
      },
      {
       "name": "stdout",
       "output_type": "stream",
       "stream": "stdout",
       "text": [
        "Enter category or press <enter> to accept suggestion: politica\n"
       ]
      },
      {
       "output_type": "stream",
       "stream": "stdout",
       "text": [
        "Category \"politica\" chosen\n",
        "\n",
        "-----"
       ]
      },
      {
       "output_type": "stream",
       "stream": "stdout",
       "text": [
        "\n",
        "Title:     Apresentador comemorou derrota de <b>Dilma</b> antes da hora\n",
        "Publisher: Pragmatismo Pol\u00edtico\n",
        "(u'Date Published: ', datetime.datetime(2014, 10, 30, 15, 54, 22))\n",
        "\n",
        "-----\n",
        "Apresentador que celebrou a derrota de <em>Dilma</em> e disse que a presidente estaria desempregada apagou a mensagem logo ap\u00f3s a divulga\u00e7\u00e3o das primeiras parciais oficiais do TSE que apontavam para a reelei\u00e7\u00e3o de <em>Dilma</em>.\n",
        "Suggested: politica"
       ]
      },
      {
       "output_type": "stream",
       "stream": "stdout",
       "text": [
        "\n"
       ]
      },
      {
       "name": "stdout",
       "output_type": "stream",
       "stream": "stdout",
       "text": [
        "Enter category or press <enter> to accept suggestion: politica\n"
       ]
      },
      {
       "output_type": "stream",
       "stream": "stdout",
       "text": [
        "Category \"politica\" chosen\n",
        "\n",
        "-----"
       ]
      },
      {
       "output_type": "stream",
       "stream": "stdout",
       "text": [
        "\n",
        "Title:     G1 - Cuba diz que reelei\u00e7\u00e3o de <b>Dilma</b> \u00e9 nova etapa de mudan\u00e7as <b>...</b>\n",
        "Publisher: G1 > Economia\n",
        "(u'Date Published: ', datetime.datetime(2014, 10, 27, 15, 52, 3))\n",
        "\n",
        "-----\n",
        "A reelei\u00e7\u00e3o de <em>Dilma</em> Rousseff permitir\u00e1 que se d\u00ea mais \u00eanfase aos projetos sociais no Brasil, como acontece h\u00e1 12 anos desde a elei\u00e7\u00e3o de Luiz In\u00e1cio Lula da Silva, afirmou nesta segunda-feira (27) o jornal oficial&nbsp;...\n",
        "Suggested: politica"
       ]
      },
      {
       "output_type": "stream",
       "stream": "stdout",
       "text": [
        "\n"
       ]
      },
      {
       "name": "stdout",
       "output_type": "stream",
       "stream": "stdout",
       "text": [
        "Enter category or press <enter> to accept suggestion: governo\n"
       ]
      },
      {
       "output_type": "stream",
       "stream": "stdout",
       "text": [
        "Category \"governo\" chosen\n",
        "\n",
        "-----"
       ]
      },
      {
       "output_type": "stream",
       "stream": "stdout",
       "text": [
        "\n",
        "Title:     G1 - Grupo fecha Avenida Paulista em protesto contra <b>Dilma</b> <b>...</b>\n",
        "Publisher: G1 > Brasil\n",
        "(u'Date Published: ', datetime.datetime(2014, 10, 28, 1, 8, 23))\n",
        "\n",
        "-----\n",
        "Um grupo de manifestantes bloqueou a Avenida Paulista, no sentido Para\u00edso e depois Consola\u00e7\u00e3o, em protesto que pede a sa\u00edda de <em>Dilma</em> Rousseff (PT), reeleita no domingo (26). Os manifestantes se reuniram na tarde&nbsp;...\n",
        "Suggested: politica"
       ]
      },
      {
       "output_type": "stream",
       "stream": "stdout",
       "text": [
        "\n"
       ]
      },
      {
       "name": "stdout",
       "output_type": "stream",
       "stream": "stdout",
       "text": [
        "Enter category or press <enter> to accept suggestion: \n"
       ]
      },
      {
       "output_type": "stream",
       "stream": "stdout",
       "text": [
        "Category \"politica\" chosen\n",
        "\n",
        "-----"
       ]
      },
      {
       "output_type": "stream",
       "stream": "stdout",
       "text": [
        "\n",
        "Title:     <b>Dilma</b>-2015: agora sem marqueteiro para disfar\u00e7ar - Brasil - Not\u00edcia <b>...</b>\n",
        "Publisher: VEJA.com: Revista VEJA, acervo digital, not\u00edcias, blogs, colunistas, v\u00eddeos\n",
        "(u'Date Published: ', datetime.datetime(2014, 11, 1, 19, 55, 50))\n",
        "\n",
        "-----\n",
        "Seja quem for seu escolhido para ditar os rumos da economia brasileira na nova equipe ministerial, \u00e9 certo que 2015 ser\u00e1 um ano duro para a presidente <em>Dilma</em> Rousseff. Reeleita numa elei\u00e7\u00e3o acirrada e com estreita&nbsp;...\n",
        "Suggested: politica"
       ]
      },
      {
       "output_type": "stream",
       "stream": "stdout",
       "text": [
        "\n"
       ]
      },
      {
       "name": "stdout",
       "output_type": "stream",
       "stream": "stdout",
       "text": [
        "Enter category or press <enter> to accept suggestion: economia\n"
       ]
      },
      {
       "output_type": "stream",
       "stream": "stdout",
       "text": [
        "Category \"economia\" chosen\n",
        "\n",
        "List of categories stored in the database:"
       ]
      },
      {
       "output_type": "stream",
       "stream": "stdout",
       "text": [
        "\n",
        "direito\n",
        "fgv\n",
        "economia\n",
        "concurso\n",
        "emprego\n",
        "ecologia\n",
        "religiao\n",
        "politica\n",
        "nocao\n",
        "miscelanea\n",
        "sociedade\n",
        "governo\n"
       ]
      }
     ],
     "prompt_number": 44
    },
    {
     "cell_type": "markdown",
     "metadata": {},
     "source": [
      "Do some tests now:\n",
      "\n",
      "cl.cprob(<category>,<word>)\n",
      "\n",
      "cl.fprob(<word>,<category>)"
     ]
    },
    {
     "cell_type": "code",
     "collapsed": false,
     "input": [
      "print(cl.cprob('fgv','economia'))\n",
      "print(cl.fprob('direito','fgv'))"
     ],
     "language": "python",
     "metadata": {},
     "outputs": [
      {
       "output_type": "stream",
       "stream": "stdout",
       "text": [
        "0\n",
        "0.0549450549451\n"
       ]
      }
     ],
     "prompt_number": 45
    }
   ],
   "metadata": {}
  }
 ]
}