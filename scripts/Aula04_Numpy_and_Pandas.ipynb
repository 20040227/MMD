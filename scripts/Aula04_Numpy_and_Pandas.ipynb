{
 "metadata": {
  "name": ""
 },
 "nbformat": 3,
 "nbformat_minor": 0,
 "worksheets": [
  {
   "cells": [
    {
     "cell_type": "heading",
     "level": 1,
     "metadata": {},
     "source": [
      "Introduction to Numpy, Matplotlib and Pandas"
     ]
    },
    {
     "cell_type": "raw",
     "metadata": {},
     "source": [
      "http://scipy.org/\n",
      "http://wiki.scipy.org/Tentative_NumPy_Tutorial\n",
      "http://matplotlib.org/users/pyplot_tutorial.html\n",
      "http://pandas.pydata.org/pandas-docs/stable/10min.html"
     ]
    },
    {
     "cell_type": "code",
     "collapsed": false,
     "input": [
      "import pylab\n",
      "import pandas as pd\n",
      "import numpy as np\n",
      "import matplotlib.pyplot as plt"
     ],
     "language": "python",
     "metadata": {},
     "outputs": [],
     "prompt_number": 3
    },
    {
     "cell_type": "code",
     "collapsed": false,
     "input": [
      "datapath = \"/home/rsouza/Dropbox/Renato/ModMinDados/Git/datasets/names/\""
     ],
     "language": "python",
     "metadata": {},
     "outputs": [],
     "prompt_number": 2
    },
    {
     "cell_type": "heading",
     "level": 2,
     "metadata": {},
     "source": [
      "Numpy Basics"
     ]
    },
    {
     "cell_type": "raw",
     "metadata": {},
     "source": [
      "Creating Arrays:"
     ]
    },
    {
     "cell_type": "code",
     "collapsed": false,
     "input": [
      "a = arange(1,10,0.2)\n",
      "a"
     ],
     "language": "python",
     "metadata": {},
     "outputs": [
      {
       "metadata": {},
       "output_type": "pyout",
       "prompt_number": 3,
       "text": [
        "array([ 1. ,  1.2,  1.4,  1.6,  1.8,  2. ,  2.2,  2.4,  2.6,  2.8,  3. ,\n",
        "        3.2,  3.4,  3.6,  3.8,  4. ,  4.2,  4.4,  4.6,  4.8,  5. ,  5.2,\n",
        "        5.4,  5.6,  5.8,  6. ,  6.2,  6.4,  6.6,  6.8,  7. ,  7.2,  7.4,\n",
        "        7.6,  7.8,  8. ,  8.2,  8.4,  8.6,  8.8,  9. ,  9.2,  9.4,  9.6,\n",
        "        9.8])"
       ]
      }
     ],
     "prompt_number": 3
    },
    {
     "cell_type": "code",
     "collapsed": false,
     "input": [
      "b = linspace(1,10,30)\n",
      "b"
     ],
     "language": "python",
     "metadata": {},
     "outputs": [
      {
       "metadata": {},
       "output_type": "pyout",
       "prompt_number": 4,
       "text": [
        "array([  1.        ,   1.31034483,   1.62068966,   1.93103448,\n",
        "         2.24137931,   2.55172414,   2.86206897,   3.17241379,\n",
        "         3.48275862,   3.79310345,   4.10344828,   4.4137931 ,\n",
        "         4.72413793,   5.03448276,   5.34482759,   5.65517241,\n",
        "         5.96551724,   6.27586207,   6.5862069 ,   6.89655172,\n",
        "         7.20689655,   7.51724138,   7.82758621,   8.13793103,\n",
        "         8.44827586,   8.75862069,   9.06896552,   9.37931034,\n",
        "         9.68965517,  10.        ])"
       ]
      }
     ],
     "prompt_number": 4
    },
    {
     "cell_type": "code",
     "collapsed": false,
     "input": [
      "b2 = logspace(1,100,30)\n",
      "b2"
     ],
     "language": "python",
     "metadata": {},
     "outputs": [
      {
       "metadata": {},
       "output_type": "pyout",
       "prompt_number": 5,
       "text": [
        "array([  1.00000000e+001,   2.59294380e+004,   6.72335754e+007,\n",
        "         1.74332882e+011,   4.52035366e+014,   1.17210230e+018,\n",
        "         3.03919538e+021,   7.88046282e+024,   2.04335972e+028,\n",
        "         5.29831691e+031,   1.37382380e+035,   3.56224789e+038,\n",
        "         9.23670857e+041,   2.39502662e+045,   6.21016942e+048,\n",
        "         1.61026203e+052,   4.17531894e+055,   1.08263673e+059,\n",
        "         2.80721620e+062,   7.27895384e+065,   1.88739182e+069,\n",
        "         4.89390092e+072,   1.26896100e+076,   3.29034456e+079,\n",
        "         8.53167852e+082,   2.21221629e+086,   5.73615251e+089,\n",
        "         1.48735211e+093,   3.85662042e+096,   1.00000000e+100])"
       ]
      }
     ],
     "prompt_number": 5
    },
    {
     "cell_type": "code",
     "collapsed": false,
     "input": [
      "a1 = zeros((3,4))\n",
      "print a1\n",
      "a2 = ones((1,2))\n",
      "print a2\n",
      "a3 = empty((2,3))\n",
      "print a3"
     ],
     "language": "python",
     "metadata": {},
     "outputs": [
      {
       "output_type": "stream",
       "stream": "stdout",
       "text": [
        "[[ 0.  0.  0.  0.]\n",
        " [ 0.  0.  0.  0.]\n",
        " [ 0.  0.  0.  0.]]\n",
        "[[ 1.  1.]]\n",
        "[[  6.91130123e-310   6.91130123e-310   2.89256147e-316]\n",
        " [  2.45097429e-316   2.87534506e-316   2.89084212e-316]]\n"
       ]
      }
     ],
     "prompt_number": 6
    },
    {
     "cell_type": "raw",
     "metadata": {},
     "source": [
      "Modifying Dimensions:"
     ]
    },
    {
     "cell_type": "code",
     "collapsed": false,
     "input": [
      "c = b.reshape(5,6)\n",
      "c"
     ],
     "language": "python",
     "metadata": {},
     "outputs": [
      {
       "metadata": {},
       "output_type": "pyout",
       "prompt_number": 7,
       "text": [
        "array([[  1.        ,   1.31034483,   1.62068966,   1.93103448,\n",
        "          2.24137931,   2.55172414],\n",
        "       [  2.86206897,   3.17241379,   3.48275862,   3.79310345,\n",
        "          4.10344828,   4.4137931 ],\n",
        "       [  4.72413793,   5.03448276,   5.34482759,   5.65517241,\n",
        "          5.96551724,   6.27586207],\n",
        "       [  6.5862069 ,   6.89655172,   7.20689655,   7.51724138,\n",
        "          7.82758621,   8.13793103],\n",
        "       [  8.44827586,   8.75862069,   9.06896552,   9.37931034,\n",
        "          9.68965517,  10.        ]])"
       ]
      }
     ],
     "prompt_number": 7
    },
    {
     "cell_type": "code",
     "collapsed": false,
     "input": [
      "print(b.shape)\n",
      "print(c.shape)\n",
      "print(ndim(c))\n",
      "print(b.dtype.name)"
     ],
     "language": "python",
     "metadata": {},
     "outputs": [
      {
       "output_type": "stream",
       "stream": "stdout",
       "text": [
        "(30,)\n",
        "(5, 6)\n",
        "2\n",
        "float64\n"
       ]
      }
     ],
     "prompt_number": 8
    },
    {
     "cell_type": "code",
     "collapsed": false,
     "input": [
      "d = arange(100).reshape(2,2,25)\n",
      "d"
     ],
     "language": "python",
     "metadata": {},
     "outputs": [
      {
       "metadata": {},
       "output_type": "pyout",
       "prompt_number": 9,
       "text": [
        "array([[[ 0,  1,  2,  3,  4,  5,  6,  7,  8,  9, 10, 11, 12, 13, 14, 15,\n",
        "         16, 17, 18, 19, 20, 21, 22, 23, 24],\n",
        "        [25, 26, 27, 28, 29, 30, 31, 32, 33, 34, 35, 36, 37, 38, 39, 40,\n",
        "         41, 42, 43, 44, 45, 46, 47, 48, 49]],\n",
        "\n",
        "       [[50, 51, 52, 53, 54, 55, 56, 57, 58, 59, 60, 61, 62, 63, 64, 65,\n",
        "         66, 67, 68, 69, 70, 71, 72, 73, 74],\n",
        "        [75, 76, 77, 78, 79, 80, 81, 82, 83, 84, 85, 86, 87, 88, 89, 90,\n",
        "         91, 92, 93, 94, 95, 96, 97, 98, 99]]])"
       ]
      }
     ],
     "prompt_number": 9
    },
    {
     "cell_type": "raw",
     "metadata": {},
     "source": [
      "Slicing multidimensional arrays"
     ]
    },
    {
     "cell_type": "code",
     "collapsed": false,
     "input": [
      "d[:,0,3:4]"
     ],
     "language": "python",
     "metadata": {},
     "outputs": [
      {
       "metadata": {},
       "output_type": "pyout",
       "prompt_number": 10,
       "text": [
        "array([[ 3],\n",
        "       [53]])"
       ]
      }
     ],
     "prompt_number": 10
    },
    {
     "cell_type": "raw",
     "metadata": {},
     "source": [
      "Inline and vectorized operations:"
     ]
    },
    {
     "cell_type": "code",
     "collapsed": false,
     "input": [
      "a"
     ],
     "language": "python",
     "metadata": {},
     "outputs": [
      {
       "metadata": {},
       "output_type": "pyout",
       "prompt_number": 11,
       "text": [
        "array([ 1. ,  1.2,  1.4,  1.6,  1.8,  2. ,  2.2,  2.4,  2.6,  2.8,  3. ,\n",
        "        3.2,  3.4,  3.6,  3.8,  4. ,  4.2,  4.4,  4.6,  4.8,  5. ,  5.2,\n",
        "        5.4,  5.6,  5.8,  6. ,  6.2,  6.4,  6.6,  6.8,  7. ,  7.2,  7.4,\n",
        "        7.6,  7.8,  8. ,  8.2,  8.4,  8.6,  8.8,  9. ,  9.2,  9.4,  9.6,\n",
        "        9.8])"
       ]
      }
     ],
     "prompt_number": 11
    },
    {
     "cell_type": "code",
     "collapsed": false,
     "input": [
      "a * 2"
     ],
     "language": "python",
     "metadata": {},
     "outputs": [
      {
       "metadata": {},
       "output_type": "pyout",
       "prompt_number": 12,
       "text": [
        "array([  2. ,   2.4,   2.8,   3.2,   3.6,   4. ,   4.4,   4.8,   5.2,\n",
        "         5.6,   6. ,   6.4,   6.8,   7.2,   7.6,   8. ,   8.4,   8.8,\n",
        "         9.2,   9.6,  10. ,  10.4,  10.8,  11.2,  11.6,  12. ,  12.4,\n",
        "        12.8,  13.2,  13.6,  14. ,  14.4,  14.8,  15.2,  15.6,  16. ,\n",
        "        16.4,  16.8,  17.2,  17.6,  18. ,  18.4,  18.8,  19.2,  19.6])"
       ]
      }
     ],
     "prompt_number": 12
    },
    {
     "cell_type": "code",
     "collapsed": false,
     "input": [
      "a.cumsum()"
     ],
     "language": "python",
     "metadata": {},
     "outputs": [
      {
       "metadata": {},
       "output_type": "pyout",
       "prompt_number": 13,
       "text": [
        "array([   1. ,    2.2,    3.6,    5.2,    7. ,    9. ,   11.2,   13.6,\n",
        "         16.2,   19. ,   22. ,   25.2,   28.6,   32.2,   36. ,   40. ,\n",
        "         44.2,   48.6,   53.2,   58. ,   63. ,   68.2,   73.6,   79.2,\n",
        "         85. ,   91. ,   97.2,  103.6,  110.2,  117. ,  124. ,  131.2,\n",
        "        138.6,  146.2,  154. ,  162. ,  170.2,  178.6,  187.2,  196. ,\n",
        "        205. ,  214.2,  223.6,  233.2,  243. ])"
       ]
      }
     ],
     "prompt_number": 13
    },
    {
     "cell_type": "code",
     "collapsed": false,
     "input": [
      "a = np.arange(16).reshape(4,4)\n",
      "np.vstack([a,np.arange(4).reshape(1,4)])"
     ],
     "language": "python",
     "metadata": {},
     "outputs": [
      {
       "metadata": {},
       "output_type": "pyout",
       "prompt_number": 14,
       "text": [
        "array([[ 0,  1,  2,  3],\n",
        "       [ 4,  5,  6,  7],\n",
        "       [ 8,  9, 10, 11],\n",
        "       [12, 13, 14, 15],\n",
        "       [ 0,  1,  2,  3]])"
       ]
      }
     ],
     "prompt_number": 14
    },
    {
     "cell_type": "code",
     "collapsed": false,
     "input": [
      "np.hstack([a,np.arange(4).reshape(4,1)])"
     ],
     "language": "python",
     "metadata": {},
     "outputs": [
      {
       "metadata": {},
       "output_type": "pyout",
       "prompt_number": 15,
       "text": [
        "array([[ 0,  1,  2,  3,  0],\n",
        "       [ 4,  5,  6,  7,  1],\n",
        "       [ 8,  9, 10, 11,  2],\n",
        "       [12, 13, 14, 15,  3]])"
       ]
      }
     ],
     "prompt_number": 15
    },
    {
     "cell_type": "heading",
     "level": 3,
     "metadata": {},
     "source": [
      "Some Matplotlib graphs"
     ]
    },
    {
     "cell_type": "code",
     "collapsed": false,
     "input": [
      "A = np.array([1,np.nan, 3,5,1,2,5,2,4,1,2,np.nan,2,1,np.nan,2,np.nan,1,2])\n",
      "pylab.figure()\n",
      "pylab.hist(A[~np.isnan(A)])\n",
      "pylab.show()"
     ],
     "language": "python",
     "metadata": {},
     "outputs": [
      {
       "metadata": {},
       "output_type": "display_data",
       "png": "[encoded data removed]",
       "text": [
        "<matplotlib.figure.Figure at 0x3804c50>"
       ]
      }
     ],
     "prompt_number": 17
    },
    {
     "cell_type": "code",
     "collapsed": false,
     "input": [
      "#a = np.random.random((8,8))\n",
      "a = np.arange(64).reshape(8,8)\n",
      "p = plt.pcolor(a)\n",
      "#plt.colorbar\n",
      "plt.show()"
     ],
     "language": "python",
     "metadata": {},
     "outputs": [],
     "prompt_number": 12
    },
    {
     "cell_type": "markdown",
     "metadata": {},
     "source": [
      "Using Pylab's linear regression"
     ]
    },
    {
     "cell_type": "code",
     "collapsed": false,
     "input": [
      "x = [1,2,3,4]\n",
      "y = [3,5,7,10] # 10, not 9, so the fit isn't perfect\n",
      "\n",
      "fit = pylab.polyfit(x,y,1) # 1 is the degree of polynomial\n",
      "fit_fn = pylab.poly1d(fit) # fit_fn is now a function which takes in x and returns an estimate for y\n",
      "\n",
      "ax = plt.plot(x,y, 'yo', x, fit_fn(x), '--k')\n",
      "plt.xlim(0, 5)\n",
      "plt.ylim(0, 12)\n",
      "plt.show()"
     ],
     "language": "python",
     "metadata": {},
     "outputs": [],
     "prompt_number": 9
    },
    {
     "cell_type": "heading",
     "level": 2,
     "metadata": {},
     "source": [
      "Pandas"
     ]
    },
    {
     "cell_type": "heading",
     "level": 3,
     "metadata": {},
     "source": [
      "Pandas Data Structures: Series"
     ]
    },
    {
     "cell_type": "code",
     "collapsed": false,
     "input": [
      "obj = pd.Series([4, 7, -5, 3, 5])\n",
      "obj"
     ],
     "language": "python",
     "metadata": {},
     "outputs": [
      {
       "metadata": {},
       "output_type": "pyout",
       "prompt_number": 18,
       "text": [
        "0    4\n",
        "1    7\n",
        "2   -5\n",
        "3    3\n",
        "4    5\n",
        "dtype: int64"
       ]
      }
     ],
     "prompt_number": 18
    },
    {
     "cell_type": "code",
     "collapsed": false,
     "input": [
      "obj.values"
     ],
     "language": "python",
     "metadata": {},
     "outputs": [
      {
       "metadata": {},
       "output_type": "pyout",
       "prompt_number": 19,
       "text": [
        "array([ 4,  7, -5,  3,  5])"
       ]
      }
     ],
     "prompt_number": 19
    },
    {
     "cell_type": "code",
     "collapsed": false,
     "input": [
      "obj.index"
     ],
     "language": "python",
     "metadata": {},
     "outputs": [
      {
       "metadata": {},
       "output_type": "pyout",
       "prompt_number": 20,
       "text": [
        "Int64Index([0, 1, 2, 3, 4], dtype=int64)"
       ]
      }
     ],
     "prompt_number": 20
    },
    {
     "cell_type": "code",
     "collapsed": false,
     "input": [
      "obj.index = ['Bob', 'Steve', 'Jeff', 'Ryan', 'Fernie']\n",
      "obj"
     ],
     "language": "python",
     "metadata": {},
     "outputs": [
      {
       "metadata": {},
       "output_type": "pyout",
       "prompt_number": 21,
       "text": [
        "Bob       4\n",
        "Steve     7\n",
        "Jeff     -5\n",
        "Ryan      3\n",
        "Fernie    5\n",
        "dtype: int64"
       ]
      }
     ],
     "prompt_number": 21
    },
    {
     "cell_type": "code",
     "collapsed": false,
     "input": [
      "obj2 = pd.Series([4, 7, -5, 3], index=['d', 'b', 'a', 'c'])\n",
      "obj2"
     ],
     "language": "python",
     "metadata": {},
     "outputs": [
      {
       "metadata": {},
       "output_type": "pyout",
       "prompt_number": 22,
       "text": [
        "d    4\n",
        "b    7\n",
        "a   -5\n",
        "c    3\n",
        "dtype: int64"
       ]
      }
     ],
     "prompt_number": 22
    },
    {
     "cell_type": "code",
     "collapsed": false,
     "input": [
      "obj2['c']"
     ],
     "language": "python",
     "metadata": {},
     "outputs": [
      {
       "metadata": {},
       "output_type": "pyout",
       "prompt_number": 23,
       "text": [
        "3"
       ]
      }
     ],
     "prompt_number": 23
    },
    {
     "cell_type": "code",
     "collapsed": false,
     "input": [
      "obj2[['c', 'a', 'd']]"
     ],
     "language": "python",
     "metadata": {},
     "outputs": [
      {
       "metadata": {},
       "output_type": "pyout",
       "prompt_number": 24,
       "text": [
        "c    3\n",
        "a   -5\n",
        "d    4\n",
        "dtype: int64"
       ]
      }
     ],
     "prompt_number": 24
    },
    {
     "cell_type": "code",
     "collapsed": false,
     "input": [
      "obj2[obj2 < 0]"
     ],
     "language": "python",
     "metadata": {},
     "outputs": [
      {
       "metadata": {},
       "output_type": "pyout",
       "prompt_number": 25,
       "text": [
        "a   -5\n",
        "dtype: int64"
       ]
      }
     ],
     "prompt_number": 25
    },
    {
     "cell_type": "code",
     "collapsed": false,
     "input": [
      "obj2 * 2"
     ],
     "language": "python",
     "metadata": {},
     "outputs": [
      {
       "metadata": {},
       "output_type": "pyout",
       "prompt_number": 26,
       "text": [
        "d     8\n",
        "b    14\n",
        "a   -10\n",
        "c     6\n",
        "dtype: int64"
       ]
      }
     ],
     "prompt_number": 26
    },
    {
     "cell_type": "code",
     "collapsed": false,
     "input": [
      "np.exp(obj2)"
     ],
     "language": "python",
     "metadata": {},
     "outputs": [
      {
       "metadata": {},
       "output_type": "pyout",
       "prompt_number": 27,
       "text": [
        "d      54.598150\n",
        "b    1096.633158\n",
        "a       0.006738\n",
        "c      20.085537\n",
        "dtype: float64"
       ]
      }
     ],
     "prompt_number": 27
    },
    {
     "cell_type": "code",
     "collapsed": false,
     "input": [
      "sdata = {'Ohio': 35000, 'Texas': 71000, 'Oregon': 16000, 'Utah': 5000}\n",
      "obj3 = pd.Series(sdata)\n",
      "obj3"
     ],
     "language": "python",
     "metadata": {},
     "outputs": [
      {
       "metadata": {},
       "output_type": "pyout",
       "prompt_number": 28,
       "text": [
        "Ohio      35000\n",
        "Oregon    16000\n",
        "Texas     71000\n",
        "Utah       5000\n",
        "dtype: int64"
       ]
      }
     ],
     "prompt_number": 28
    },
    {
     "cell_type": "code",
     "collapsed": false,
     "input": [
      "states = ['California', 'Ohio', 'Oregon', 'Texas']\n",
      "obj4 = pd.Series(sdata, index=states)\n",
      "obj4"
     ],
     "language": "python",
     "metadata": {},
     "outputs": [
      {
       "metadata": {},
       "output_type": "pyout",
       "prompt_number": 29,
       "text": [
        "California      NaN\n",
        "Ohio          35000\n",
        "Oregon        16000\n",
        "Texas         71000\n",
        "dtype: float64"
       ]
      }
     ],
     "prompt_number": 29
    },
    {
     "cell_type": "code",
     "collapsed": false,
     "input": [
      "pd.isnull(obj4)"
     ],
     "language": "python",
     "metadata": {},
     "outputs": [
      {
       "metadata": {},
       "output_type": "pyout",
       "prompt_number": 30,
       "text": [
        "California     True\n",
        "Ohio          False\n",
        "Oregon        False\n",
        "Texas         False\n",
        "dtype: bool"
       ]
      }
     ],
     "prompt_number": 30
    },
    {
     "cell_type": "code",
     "collapsed": false,
     "input": [
      "pd.notnull(obj4)"
     ],
     "language": "python",
     "metadata": {},
     "outputs": [
      {
       "metadata": {},
       "output_type": "pyout",
       "prompt_number": 31,
       "text": [
        "California    False\n",
        "Ohio           True\n",
        "Oregon         True\n",
        "Texas          True\n",
        "dtype: bool"
       ]
      }
     ],
     "prompt_number": 31
    },
    {
     "cell_type": "code",
     "collapsed": false,
     "input": [
      "obj3 + obj4"
     ],
     "language": "python",
     "metadata": {},
     "outputs": [
      {
       "metadata": {},
       "output_type": "pyout",
       "prompt_number": 32,
       "text": [
        "California       NaN\n",
        "Ohio           70000\n",
        "Oregon         32000\n",
        "Texas         142000\n",
        "Utah             NaN\n",
        "dtype: float64"
       ]
      }
     ],
     "prompt_number": 32
    },
    {
     "cell_type": "code",
     "collapsed": false,
     "input": [
      "obj4.name = 'population'\n",
      "obj4.index.name = 'state'\n",
      "obj4"
     ],
     "language": "python",
     "metadata": {},
     "outputs": [
      {
       "metadata": {},
       "output_type": "pyout",
       "prompt_number": 33,
       "text": [
        "state\n",
        "California      NaN\n",
        "Ohio          35000\n",
        "Oregon        16000\n",
        "Texas         71000\n",
        "Name: population, dtype: float64"
       ]
      }
     ],
     "prompt_number": 33
    },
    {
     "cell_type": "heading",
     "level": 3,
     "metadata": {},
     "source": [
      "Pandas Data Structures: Dataframe"
     ]
    },
    {
     "cell_type": "code",
     "collapsed": false,
     "input": [
      "data = {'state': ['Ohio', 'Ohio', 'Ohio', 'Nevada', 'Nevada'],'year': [2000, 2001, 2002, 2001, 2002],'pop': [1.5, 1.7, 3.6, 2.4, 2.9]}\n",
      "frame = pd.DataFrame(data)\n",
      "frame"
     ],
     "language": "python",
     "metadata": {},
     "outputs": [
      {
       "html": [
        "<div style=\"max-height:1000px;max-width:1500px;overflow:auto;\">\n",
        "<table border=\"1\" class=\"dataframe\">\n",
        "  <thead>\n",
        "    <tr style=\"text-align: right;\">\n",
        "      <th></th>\n",
        "      <th>pop</th>\n",
        "      <th>state</th>\n",
        "      <th>year</th>\n",
        "    </tr>\n",
        "  </thead>\n",
        "  <tbody>\n",
        "    <tr>\n",
        "      <th>0</th>\n",
        "      <td> 1.5</td>\n",
        "      <td>   Ohio</td>\n",
        "      <td> 2000</td>\n",
        "    </tr>\n",
        "    <tr>\n",
        "      <th>1</th>\n",
        "      <td> 1.7</td>\n",
        "      <td>   Ohio</td>\n",
        "      <td> 2001</td>\n",
        "    </tr>\n",
        "    <tr>\n",
        "      <th>2</th>\n",
        "      <td> 3.6</td>\n",
        "      <td>   Ohio</td>\n",
        "      <td> 2002</td>\n",
        "    </tr>\n",
        "    <tr>\n",
        "      <th>3</th>\n",
        "      <td> 2.4</td>\n",
        "      <td> Nevada</td>\n",
        "      <td> 2001</td>\n",
        "    </tr>\n",
        "    <tr>\n",
        "      <th>4</th>\n",
        "      <td> 2.9</td>\n",
        "      <td> Nevada</td>\n",
        "      <td> 2002</td>\n",
        "    </tr>\n",
        "  </tbody>\n",
        "</table>\n",
        "</div>"
       ],
       "metadata": {},
       "output_type": "pyout",
       "prompt_number": 34,
       "text": [
        "   pop   state  year\n",
        "0  1.5    Ohio  2000\n",
        "1  1.7    Ohio  2001\n",
        "2  3.6    Ohio  2002\n",
        "3  2.4  Nevada  2001\n",
        "4  2.9  Nevada  2002"
       ]
      }
     ],
     "prompt_number": 34
    },
    {
     "cell_type": "code",
     "collapsed": false,
     "input": [
      "pd.DataFrame(data, columns=['year', 'state', 'pop'])"
     ],
     "language": "python",
     "metadata": {},
     "outputs": [
      {
       "html": [
        "<div style=\"max-height:1000px;max-width:1500px;overflow:auto;\">\n",
        "<table border=\"1\" class=\"dataframe\">\n",
        "  <thead>\n",
        "    <tr style=\"text-align: right;\">\n",
        "      <th></th>\n",
        "      <th>year</th>\n",
        "      <th>state</th>\n",
        "      <th>pop</th>\n",
        "    </tr>\n",
        "  </thead>\n",
        "  <tbody>\n",
        "    <tr>\n",
        "      <th>0</th>\n",
        "      <td> 2000</td>\n",
        "      <td>   Ohio</td>\n",
        "      <td> 1.5</td>\n",
        "    </tr>\n",
        "    <tr>\n",
        "      <th>1</th>\n",
        "      <td> 2001</td>\n",
        "      <td>   Ohio</td>\n",
        "      <td> 1.7</td>\n",
        "    </tr>\n",
        "    <tr>\n",
        "      <th>2</th>\n",
        "      <td> 2002</td>\n",
        "      <td>   Ohio</td>\n",
        "      <td> 3.6</td>\n",
        "    </tr>\n",
        "    <tr>\n",
        "      <th>3</th>\n",
        "      <td> 2001</td>\n",
        "      <td> Nevada</td>\n",
        "      <td> 2.4</td>\n",
        "    </tr>\n",
        "    <tr>\n",
        "      <th>4</th>\n",
        "      <td> 2002</td>\n",
        "      <td> Nevada</td>\n",
        "      <td> 2.9</td>\n",
        "    </tr>\n",
        "  </tbody>\n",
        "</table>\n",
        "</div>"
       ],
       "metadata": {},
       "output_type": "pyout",
       "prompt_number": 35,
       "text": [
        "   year   state  pop\n",
        "0  2000    Ohio  1.5\n",
        "1  2001    Ohio  1.7\n",
        "2  2002    Ohio  3.6\n",
        "3  2001  Nevada  2.4\n",
        "4  2002  Nevada  2.9"
       ]
      }
     ],
     "prompt_number": 35
    },
    {
     "cell_type": "code",
     "collapsed": false,
     "input": [
      "frame2 = pd.DataFrame(data, columns=['year', 'state', 'pop', 'debt'],index=['one', 'two', 'three', 'four', 'five'])\n",
      "frame2"
     ],
     "language": "python",
     "metadata": {},
     "outputs": [
      {
       "html": [
        "<div style=\"max-height:1000px;max-width:1500px;overflow:auto;\">\n",
        "<table border=\"1\" class=\"dataframe\">\n",
        "  <thead>\n",
        "    <tr style=\"text-align: right;\">\n",
        "      <th></th>\n",
        "      <th>year</th>\n",
        "      <th>state</th>\n",
        "      <th>pop</th>\n",
        "      <th>debt</th>\n",
        "    </tr>\n",
        "  </thead>\n",
        "  <tbody>\n",
        "    <tr>\n",
        "      <th>one</th>\n",
        "      <td> 2000</td>\n",
        "      <td>   Ohio</td>\n",
        "      <td> 1.5</td>\n",
        "      <td> NaN</td>\n",
        "    </tr>\n",
        "    <tr>\n",
        "      <th>two</th>\n",
        "      <td> 2001</td>\n",
        "      <td>   Ohio</td>\n",
        "      <td> 1.7</td>\n",
        "      <td> NaN</td>\n",
        "    </tr>\n",
        "    <tr>\n",
        "      <th>three</th>\n",
        "      <td> 2002</td>\n",
        "      <td>   Ohio</td>\n",
        "      <td> 3.6</td>\n",
        "      <td> NaN</td>\n",
        "    </tr>\n",
        "    <tr>\n",
        "      <th>four</th>\n",
        "      <td> 2001</td>\n",
        "      <td> Nevada</td>\n",
        "      <td> 2.4</td>\n",
        "      <td> NaN</td>\n",
        "    </tr>\n",
        "    <tr>\n",
        "      <th>five</th>\n",
        "      <td> 2002</td>\n",
        "      <td> Nevada</td>\n",
        "      <td> 2.9</td>\n",
        "      <td> NaN</td>\n",
        "    </tr>\n",
        "  </tbody>\n",
        "</table>\n",
        "</div>"
       ],
       "metadata": {},
       "output_type": "pyout",
       "prompt_number": 36,
       "text": [
        "       year   state  pop debt\n",
        "one    2000    Ohio  1.5  NaN\n",
        "two    2001    Ohio  1.7  NaN\n",
        "three  2002    Ohio  3.6  NaN\n",
        "four   2001  Nevada  2.4  NaN\n",
        "five   2002  Nevada  2.9  NaN"
       ]
      }
     ],
     "prompt_number": 36
    },
    {
     "cell_type": "code",
     "collapsed": false,
     "input": [
      "frame2['nova'] = 13\n",
      "frame2"
     ],
     "language": "python",
     "metadata": {},
     "outputs": [
      {
       "html": [
        "<div style=\"max-height:1000px;max-width:1500px;overflow:auto;\">\n",
        "<table border=\"1\" class=\"dataframe\">\n",
        "  <thead>\n",
        "    <tr style=\"text-align: right;\">\n",
        "      <th></th>\n",
        "      <th>year</th>\n",
        "      <th>state</th>\n",
        "      <th>pop</th>\n",
        "      <th>debt</th>\n",
        "      <th>nova</th>\n",
        "    </tr>\n",
        "  </thead>\n",
        "  <tbody>\n",
        "    <tr>\n",
        "      <th>one</th>\n",
        "      <td> 2000</td>\n",
        "      <td>   Ohio</td>\n",
        "      <td> 1.5</td>\n",
        "      <td> NaN</td>\n",
        "      <td> 13</td>\n",
        "    </tr>\n",
        "    <tr>\n",
        "      <th>two</th>\n",
        "      <td> 2001</td>\n",
        "      <td>   Ohio</td>\n",
        "      <td> 1.7</td>\n",
        "      <td> NaN</td>\n",
        "      <td> 13</td>\n",
        "    </tr>\n",
        "    <tr>\n",
        "      <th>three</th>\n",
        "      <td> 2002</td>\n",
        "      <td>   Ohio</td>\n",
        "      <td> 3.6</td>\n",
        "      <td> NaN</td>\n",
        "      <td> 13</td>\n",
        "    </tr>\n",
        "    <tr>\n",
        "      <th>four</th>\n",
        "      <td> 2001</td>\n",
        "      <td> Nevada</td>\n",
        "      <td> 2.4</td>\n",
        "      <td> NaN</td>\n",
        "      <td> 13</td>\n",
        "    </tr>\n",
        "    <tr>\n",
        "      <th>five</th>\n",
        "      <td> 2002</td>\n",
        "      <td> Nevada</td>\n",
        "      <td> 2.9</td>\n",
        "      <td> NaN</td>\n",
        "      <td> 13</td>\n",
        "    </tr>\n",
        "  </tbody>\n",
        "</table>\n",
        "</div>"
       ],
       "metadata": {},
       "output_type": "pyout",
       "prompt_number": 37,
       "text": [
        "       year   state  pop debt  nova\n",
        "one    2000    Ohio  1.5  NaN    13\n",
        "two    2001    Ohio  1.7  NaN    13\n",
        "three  2002    Ohio  3.6  NaN    13\n",
        "four   2001  Nevada  2.4  NaN    13\n",
        "five   2002  Nevada  2.9  NaN    13"
       ]
      }
     ],
     "prompt_number": 37
    },
    {
     "cell_type": "code",
     "collapsed": false,
     "input": [
      "frame2.nova = 23\n",
      "frame2"
     ],
     "language": "python",
     "metadata": {},
     "outputs": [
      {
       "html": [
        "<div style=\"max-height:1000px;max-width:1500px;overflow:auto;\">\n",
        "<table border=\"1\" class=\"dataframe\">\n",
        "  <thead>\n",
        "    <tr style=\"text-align: right;\">\n",
        "      <th></th>\n",
        "      <th>year</th>\n",
        "      <th>state</th>\n",
        "      <th>pop</th>\n",
        "      <th>debt</th>\n",
        "      <th>nova</th>\n",
        "    </tr>\n",
        "  </thead>\n",
        "  <tbody>\n",
        "    <tr>\n",
        "      <th>one</th>\n",
        "      <td> 2000</td>\n",
        "      <td>   Ohio</td>\n",
        "      <td> 1.5</td>\n",
        "      <td> NaN</td>\n",
        "      <td> 23</td>\n",
        "    </tr>\n",
        "    <tr>\n",
        "      <th>two</th>\n",
        "      <td> 2001</td>\n",
        "      <td>   Ohio</td>\n",
        "      <td> 1.7</td>\n",
        "      <td> NaN</td>\n",
        "      <td> 23</td>\n",
        "    </tr>\n",
        "    <tr>\n",
        "      <th>three</th>\n",
        "      <td> 2002</td>\n",
        "      <td>   Ohio</td>\n",
        "      <td> 3.6</td>\n",
        "      <td> NaN</td>\n",
        "      <td> 23</td>\n",
        "    </tr>\n",
        "    <tr>\n",
        "      <th>four</th>\n",
        "      <td> 2001</td>\n",
        "      <td> Nevada</td>\n",
        "      <td> 2.4</td>\n",
        "      <td> NaN</td>\n",
        "      <td> 23</td>\n",
        "    </tr>\n",
        "    <tr>\n",
        "      <th>five</th>\n",
        "      <td> 2002</td>\n",
        "      <td> Nevada</td>\n",
        "      <td> 2.9</td>\n",
        "      <td> NaN</td>\n",
        "      <td> 23</td>\n",
        "    </tr>\n",
        "  </tbody>\n",
        "</table>\n",
        "</div>"
       ],
       "metadata": {},
       "output_type": "pyout",
       "prompt_number": 38,
       "text": [
        "       year   state  pop debt  nova\n",
        "one    2000    Ohio  1.5  NaN    23\n",
        "two    2001    Ohio  1.7  NaN    23\n",
        "three  2002    Ohio  3.6  NaN    23\n",
        "four   2001  Nevada  2.4  NaN    23\n",
        "five   2002  Nevada  2.9  NaN    23"
       ]
      }
     ],
     "prompt_number": 38
    },
    {
     "cell_type": "code",
     "collapsed": false,
     "input": [
      "frame2.columns"
     ],
     "language": "python",
     "metadata": {},
     "outputs": [
      {
       "metadata": {},
       "output_type": "pyout",
       "prompt_number": 39,
       "text": [
        "Index([u'year', u'state', u'pop', u'debt', u'nova'], dtype=object)"
       ]
      }
     ],
     "prompt_number": 39
    },
    {
     "cell_type": "code",
     "collapsed": false,
     "input": [
      "frame2['state']"
     ],
     "language": "python",
     "metadata": {},
     "outputs": [
      {
       "metadata": {},
       "output_type": "pyout",
       "prompt_number": 40,
       "text": [
        "one        Ohio\n",
        "two        Ohio\n",
        "three      Ohio\n",
        "four     Nevada\n",
        "five     Nevada\n",
        "Name: state, dtype: object"
       ]
      }
     ],
     "prompt_number": 40
    },
    {
     "cell_type": "code",
     "collapsed": false,
     "input": [
      "frame2.state"
     ],
     "language": "python",
     "metadata": {},
     "outputs": [
      {
       "metadata": {},
       "output_type": "pyout",
       "prompt_number": 41,
       "text": [
        "one        Ohio\n",
        "two        Ohio\n",
        "three      Ohio\n",
        "four     Nevada\n",
        "five     Nevada\n",
        "Name: state, dtype: object"
       ]
      }
     ],
     "prompt_number": 41
    },
    {
     "cell_type": "code",
     "collapsed": false,
     "input": [
      "frame2.ix['three']"
     ],
     "language": "python",
     "metadata": {},
     "outputs": [
      {
       "metadata": {},
       "output_type": "pyout",
       "prompt_number": 42,
       "text": [
        "year     2002\n",
        "state    Ohio\n",
        "pop       3.6\n",
        "debt      NaN\n",
        "nova       23\n",
        "Name: three, dtype: object"
       ]
      }
     ],
     "prompt_number": 42
    },
    {
     "cell_type": "code",
     "collapsed": false,
     "input": [
      "frame2['debt'] = 16.5\n",
      "frame2"
     ],
     "language": "python",
     "metadata": {},
     "outputs": [
      {
       "html": [
        "<div style=\"max-height:1000px;max-width:1500px;overflow:auto;\">\n",
        "<table border=\"1\" class=\"dataframe\">\n",
        "  <thead>\n",
        "    <tr style=\"text-align: right;\">\n",
        "      <th></th>\n",
        "      <th>year</th>\n",
        "      <th>state</th>\n",
        "      <th>pop</th>\n",
        "      <th>debt</th>\n",
        "      <th>nova</th>\n",
        "    </tr>\n",
        "  </thead>\n",
        "  <tbody>\n",
        "    <tr>\n",
        "      <th>one</th>\n",
        "      <td> 2000</td>\n",
        "      <td>   Ohio</td>\n",
        "      <td> 1.5</td>\n",
        "      <td> 16.5</td>\n",
        "      <td> 23</td>\n",
        "    </tr>\n",
        "    <tr>\n",
        "      <th>two</th>\n",
        "      <td> 2001</td>\n",
        "      <td>   Ohio</td>\n",
        "      <td> 1.7</td>\n",
        "      <td> 16.5</td>\n",
        "      <td> 23</td>\n",
        "    </tr>\n",
        "    <tr>\n",
        "      <th>three</th>\n",
        "      <td> 2002</td>\n",
        "      <td>   Ohio</td>\n",
        "      <td> 3.6</td>\n",
        "      <td> 16.5</td>\n",
        "      <td> 23</td>\n",
        "    </tr>\n",
        "    <tr>\n",
        "      <th>four</th>\n",
        "      <td> 2001</td>\n",
        "      <td> Nevada</td>\n",
        "      <td> 2.4</td>\n",
        "      <td> 16.5</td>\n",
        "      <td> 23</td>\n",
        "    </tr>\n",
        "    <tr>\n",
        "      <th>five</th>\n",
        "      <td> 2002</td>\n",
        "      <td> Nevada</td>\n",
        "      <td> 2.9</td>\n",
        "      <td> 16.5</td>\n",
        "      <td> 23</td>\n",
        "    </tr>\n",
        "  </tbody>\n",
        "</table>\n",
        "</div>"
       ],
       "metadata": {},
       "output_type": "pyout",
       "prompt_number": 43,
       "text": [
        "       year   state  pop  debt  nova\n",
        "one    2000    Ohio  1.5  16.5    23\n",
        "two    2001    Ohio  1.7  16.5    23\n",
        "three  2002    Ohio  3.6  16.5    23\n",
        "four   2001  Nevada  2.4  16.5    23\n",
        "five   2002  Nevada  2.9  16.5    23"
       ]
      }
     ],
     "prompt_number": 43
    },
    {
     "cell_type": "code",
     "collapsed": false,
     "input": [
      "frame2['debt'] = np.arange(5.)\n",
      "frame2"
     ],
     "language": "python",
     "metadata": {},
     "outputs": [
      {
       "html": [
        "<div style=\"max-height:1000px;max-width:1500px;overflow:auto;\">\n",
        "<table border=\"1\" class=\"dataframe\">\n",
        "  <thead>\n",
        "    <tr style=\"text-align: right;\">\n",
        "      <th></th>\n",
        "      <th>year</th>\n",
        "      <th>state</th>\n",
        "      <th>pop</th>\n",
        "      <th>debt</th>\n",
        "      <th>nova</th>\n",
        "    </tr>\n",
        "  </thead>\n",
        "  <tbody>\n",
        "    <tr>\n",
        "      <th>one</th>\n",
        "      <td> 2000</td>\n",
        "      <td>   Ohio</td>\n",
        "      <td> 1.5</td>\n",
        "      <td> 0</td>\n",
        "      <td> 23</td>\n",
        "    </tr>\n",
        "    <tr>\n",
        "      <th>two</th>\n",
        "      <td> 2001</td>\n",
        "      <td>   Ohio</td>\n",
        "      <td> 1.7</td>\n",
        "      <td> 1</td>\n",
        "      <td> 23</td>\n",
        "    </tr>\n",
        "    <tr>\n",
        "      <th>three</th>\n",
        "      <td> 2002</td>\n",
        "      <td>   Ohio</td>\n",
        "      <td> 3.6</td>\n",
        "      <td> 2</td>\n",
        "      <td> 23</td>\n",
        "    </tr>\n",
        "    <tr>\n",
        "      <th>four</th>\n",
        "      <td> 2001</td>\n",
        "      <td> Nevada</td>\n",
        "      <td> 2.4</td>\n",
        "      <td> 3</td>\n",
        "      <td> 23</td>\n",
        "    </tr>\n",
        "    <tr>\n",
        "      <th>five</th>\n",
        "      <td> 2002</td>\n",
        "      <td> Nevada</td>\n",
        "      <td> 2.9</td>\n",
        "      <td> 4</td>\n",
        "      <td> 23</td>\n",
        "    </tr>\n",
        "  </tbody>\n",
        "</table>\n",
        "</div>"
       ],
       "metadata": {},
       "output_type": "pyout",
       "prompt_number": 44,
       "text": [
        "       year   state  pop  debt  nova\n",
        "one    2000    Ohio  1.5     0    23\n",
        "two    2001    Ohio  1.7     1    23\n",
        "three  2002    Ohio  3.6     2    23\n",
        "four   2001  Nevada  2.4     3    23\n",
        "five   2002  Nevada  2.9     4    23"
       ]
      }
     ],
     "prompt_number": 44
    },
    {
     "cell_type": "code",
     "collapsed": false,
     "input": [
      "val = pd.Series([-1.2, -1.5, -1.7], index=['two', 'four', 'five'])\n",
      "frame2['debt'] = val\n",
      "frame2"
     ],
     "language": "python",
     "metadata": {},
     "outputs": [
      {
       "html": [
        "<div style=\"max-height:1000px;max-width:1500px;overflow:auto;\">\n",
        "<table border=\"1\" class=\"dataframe\">\n",
        "  <thead>\n",
        "    <tr style=\"text-align: right;\">\n",
        "      <th></th>\n",
        "      <th>year</th>\n",
        "      <th>state</th>\n",
        "      <th>pop</th>\n",
        "      <th>debt</th>\n",
        "      <th>nova</th>\n",
        "    </tr>\n",
        "  </thead>\n",
        "  <tbody>\n",
        "    <tr>\n",
        "      <th>one</th>\n",
        "      <td> 2000</td>\n",
        "      <td>   Ohio</td>\n",
        "      <td> 1.5</td>\n",
        "      <td> NaN</td>\n",
        "      <td> 23</td>\n",
        "    </tr>\n",
        "    <tr>\n",
        "      <th>two</th>\n",
        "      <td> 2001</td>\n",
        "      <td>   Ohio</td>\n",
        "      <td> 1.7</td>\n",
        "      <td>-1.2</td>\n",
        "      <td> 23</td>\n",
        "    </tr>\n",
        "    <tr>\n",
        "      <th>three</th>\n",
        "      <td> 2002</td>\n",
        "      <td>   Ohio</td>\n",
        "      <td> 3.6</td>\n",
        "      <td> NaN</td>\n",
        "      <td> 23</td>\n",
        "    </tr>\n",
        "    <tr>\n",
        "      <th>four</th>\n",
        "      <td> 2001</td>\n",
        "      <td> Nevada</td>\n",
        "      <td> 2.4</td>\n",
        "      <td>-1.5</td>\n",
        "      <td> 23</td>\n",
        "    </tr>\n",
        "    <tr>\n",
        "      <th>five</th>\n",
        "      <td> 2002</td>\n",
        "      <td> Nevada</td>\n",
        "      <td> 2.9</td>\n",
        "      <td>-1.7</td>\n",
        "      <td> 23</td>\n",
        "    </tr>\n",
        "  </tbody>\n",
        "</table>\n",
        "</div>"
       ],
       "metadata": {},
       "output_type": "pyout",
       "prompt_number": 45,
       "text": [
        "       year   state  pop  debt  nova\n",
        "one    2000    Ohio  1.5   NaN    23\n",
        "two    2001    Ohio  1.7  -1.2    23\n",
        "three  2002    Ohio  3.6   NaN    23\n",
        "four   2001  Nevada  2.4  -1.5    23\n",
        "five   2002  Nevada  2.9  -1.7    23"
       ]
      }
     ],
     "prompt_number": 45
    },
    {
     "cell_type": "code",
     "collapsed": false,
     "input": [
      "frame2['eastern'] = frame2.state == 'Ohio'\n",
      "frame2"
     ],
     "language": "python",
     "metadata": {},
     "outputs": [
      {
       "html": [
        "<div style=\"max-height:1000px;max-width:1500px;overflow:auto;\">\n",
        "<table border=\"1\" class=\"dataframe\">\n",
        "  <thead>\n",
        "    <tr style=\"text-align: right;\">\n",
        "      <th></th>\n",
        "      <th>year</th>\n",
        "      <th>state</th>\n",
        "      <th>pop</th>\n",
        "      <th>debt</th>\n",
        "      <th>nova</th>\n",
        "      <th>eastern</th>\n",
        "    </tr>\n",
        "  </thead>\n",
        "  <tbody>\n",
        "    <tr>\n",
        "      <th>one</th>\n",
        "      <td> 2000</td>\n",
        "      <td>   Ohio</td>\n",
        "      <td> 1.5</td>\n",
        "      <td> NaN</td>\n",
        "      <td> 23</td>\n",
        "      <td>  True</td>\n",
        "    </tr>\n",
        "    <tr>\n",
        "      <th>two</th>\n",
        "      <td> 2001</td>\n",
        "      <td>   Ohio</td>\n",
        "      <td> 1.7</td>\n",
        "      <td>-1.2</td>\n",
        "      <td> 23</td>\n",
        "      <td>  True</td>\n",
        "    </tr>\n",
        "    <tr>\n",
        "      <th>three</th>\n",
        "      <td> 2002</td>\n",
        "      <td>   Ohio</td>\n",
        "      <td> 3.6</td>\n",
        "      <td> NaN</td>\n",
        "      <td> 23</td>\n",
        "      <td>  True</td>\n",
        "    </tr>\n",
        "    <tr>\n",
        "      <th>four</th>\n",
        "      <td> 2001</td>\n",
        "      <td> Nevada</td>\n",
        "      <td> 2.4</td>\n",
        "      <td>-1.5</td>\n",
        "      <td> 23</td>\n",
        "      <td> False</td>\n",
        "    </tr>\n",
        "    <tr>\n",
        "      <th>five</th>\n",
        "      <td> 2002</td>\n",
        "      <td> Nevada</td>\n",
        "      <td> 2.9</td>\n",
        "      <td>-1.7</td>\n",
        "      <td> 23</td>\n",
        "      <td> False</td>\n",
        "    </tr>\n",
        "  </tbody>\n",
        "</table>\n",
        "</div>"
       ],
       "metadata": {},
       "output_type": "pyout",
       "prompt_number": 46,
       "text": [
        "       year   state  pop  debt  nova eastern\n",
        "one    2000    Ohio  1.5   NaN    23    True\n",
        "two    2001    Ohio  1.7  -1.2    23    True\n",
        "three  2002    Ohio  3.6   NaN    23    True\n",
        "four   2001  Nevada  2.4  -1.5    23   False\n",
        "five   2002  Nevada  2.9  -1.7    23   False"
       ]
      }
     ],
     "prompt_number": 46
    },
    {
     "cell_type": "code",
     "collapsed": false,
     "input": [
      "del frame2['nova']\n",
      "frame2.columns"
     ],
     "language": "python",
     "metadata": {},
     "outputs": [
      {
       "metadata": {},
       "output_type": "pyout",
       "prompt_number": 47,
       "text": [
        "Index([u'year', u'state', u'pop', u'debt', u'eastern'], dtype=object)"
       ]
      }
     ],
     "prompt_number": 47
    },
    {
     "cell_type": "code",
     "collapsed": false,
     "input": [
      "pop = {'Nevada': {2001: 2.4, 2002: 2.9},'Ohio': {2000: 1.5, 2001: 1.7, 2002: 3.6}}\n",
      "frame3 = pd.DataFrame(pop)\n",
      "frame3"
     ],
     "language": "python",
     "metadata": {},
     "outputs": [
      {
       "html": [
        "<div style=\"max-height:1000px;max-width:1500px;overflow:auto;\">\n",
        "<table border=\"1\" class=\"dataframe\">\n",
        "  <thead>\n",
        "    <tr style=\"text-align: right;\">\n",
        "      <th></th>\n",
        "      <th>Nevada</th>\n",
        "      <th>Ohio</th>\n",
        "    </tr>\n",
        "  </thead>\n",
        "  <tbody>\n",
        "    <tr>\n",
        "      <th>2000</th>\n",
        "      <td> NaN</td>\n",
        "      <td> 1.5</td>\n",
        "    </tr>\n",
        "    <tr>\n",
        "      <th>2001</th>\n",
        "      <td> 2.4</td>\n",
        "      <td> 1.7</td>\n",
        "    </tr>\n",
        "    <tr>\n",
        "      <th>2002</th>\n",
        "      <td> 2.9</td>\n",
        "      <td> 3.6</td>\n",
        "    </tr>\n",
        "  </tbody>\n",
        "</table>\n",
        "</div>"
       ],
       "metadata": {},
       "output_type": "pyout",
       "prompt_number": 48,
       "text": [
        "      Nevada  Ohio\n",
        "2000     NaN   1.5\n",
        "2001     2.4   1.7\n",
        "2002     2.9   3.6"
       ]
      }
     ],
     "prompt_number": 48
    },
    {
     "cell_type": "code",
     "collapsed": false,
     "input": [
      "frame3.T"
     ],
     "language": "python",
     "metadata": {},
     "outputs": [
      {
       "html": [
        "<div style=\"max-height:1000px;max-width:1500px;overflow:auto;\">\n",
        "<table border=\"1\" class=\"dataframe\">\n",
        "  <thead>\n",
        "    <tr style=\"text-align: right;\">\n",
        "      <th></th>\n",
        "      <th>2000</th>\n",
        "      <th>2001</th>\n",
        "      <th>2002</th>\n",
        "    </tr>\n",
        "  </thead>\n",
        "  <tbody>\n",
        "    <tr>\n",
        "      <th>Nevada</th>\n",
        "      <td> NaN</td>\n",
        "      <td> 2.4</td>\n",
        "      <td> 2.9</td>\n",
        "    </tr>\n",
        "    <tr>\n",
        "      <th>Ohio</th>\n",
        "      <td> 1.5</td>\n",
        "      <td> 1.7</td>\n",
        "      <td> 3.6</td>\n",
        "    </tr>\n",
        "  </tbody>\n",
        "</table>\n",
        "</div>"
       ],
       "metadata": {},
       "output_type": "pyout",
       "prompt_number": 49,
       "text": [
        "        2000  2001  2002\n",
        "Nevada   NaN   2.4   2.9\n",
        "Ohio     1.5   1.7   3.6"
       ]
      }
     ],
     "prompt_number": 49
    },
    {
     "cell_type": "code",
     "collapsed": false,
     "input": [
      "pd.DataFrame(pop, index=[2001, 2002, 2003])"
     ],
     "language": "python",
     "metadata": {},
     "outputs": [
      {
       "html": [
        "<div style=\"max-height:1000px;max-width:1500px;overflow:auto;\">\n",
        "<table border=\"1\" class=\"dataframe\">\n",
        "  <thead>\n",
        "    <tr style=\"text-align: right;\">\n",
        "      <th></th>\n",
        "      <th>Nevada</th>\n",
        "      <th>Ohio</th>\n",
        "    </tr>\n",
        "  </thead>\n",
        "  <tbody>\n",
        "    <tr>\n",
        "      <th>2001</th>\n",
        "      <td> 2.4</td>\n",
        "      <td> 1.7</td>\n",
        "    </tr>\n",
        "    <tr>\n",
        "      <th>2002</th>\n",
        "      <td> 2.9</td>\n",
        "      <td> 3.6</td>\n",
        "    </tr>\n",
        "    <tr>\n",
        "      <th>2003</th>\n",
        "      <td> NaN</td>\n",
        "      <td> NaN</td>\n",
        "    </tr>\n",
        "  </tbody>\n",
        "</table>\n",
        "</div>"
       ],
       "metadata": {},
       "output_type": "pyout",
       "prompt_number": 50,
       "text": [
        "      Nevada  Ohio\n",
        "2001     2.4   1.7\n",
        "2002     2.9   3.6\n",
        "2003     NaN   NaN"
       ]
      }
     ],
     "prompt_number": 50
    },
    {
     "cell_type": "code",
     "collapsed": false,
     "input": [
      "pdata = {'Ohio': frame3['Ohio'][:-1],'Nevada': frame3['Nevada'][:2]}\n",
      "pd.DataFrame(pdata)"
     ],
     "language": "python",
     "metadata": {},
     "outputs": [
      {
       "html": [
        "<div style=\"max-height:1000px;max-width:1500px;overflow:auto;\">\n",
        "<table border=\"1\" class=\"dataframe\">\n",
        "  <thead>\n",
        "    <tr style=\"text-align: right;\">\n",
        "      <th></th>\n",
        "      <th>Nevada</th>\n",
        "      <th>Ohio</th>\n",
        "    </tr>\n",
        "  </thead>\n",
        "  <tbody>\n",
        "    <tr>\n",
        "      <th>2000</th>\n",
        "      <td> NaN</td>\n",
        "      <td> 1.5</td>\n",
        "    </tr>\n",
        "    <tr>\n",
        "      <th>2001</th>\n",
        "      <td> 2.4</td>\n",
        "      <td> 1.7</td>\n",
        "    </tr>\n",
        "  </tbody>\n",
        "</table>\n",
        "</div>"
       ],
       "metadata": {},
       "output_type": "pyout",
       "prompt_number": 51,
       "text": [
        "      Nevada  Ohio\n",
        "2000     NaN   1.5\n",
        "2001     2.4   1.7"
       ]
      }
     ],
     "prompt_number": 51
    },
    {
     "cell_type": "code",
     "collapsed": false,
     "input": [
      "frame3.index.name = 'year'; frame3.columns.name = 'state'\n",
      "frame3"
     ],
     "language": "python",
     "metadata": {},
     "outputs": [
      {
       "html": [
        "<div style=\"max-height:1000px;max-width:1500px;overflow:auto;\">\n",
        "<table border=\"1\" class=\"dataframe\">\n",
        "  <thead>\n",
        "    <tr style=\"text-align: right;\">\n",
        "      <th>state</th>\n",
        "      <th>Nevada</th>\n",
        "      <th>Ohio</th>\n",
        "    </tr>\n",
        "    <tr>\n",
        "      <th>year</th>\n",
        "      <th></th>\n",
        "      <th></th>\n",
        "    </tr>\n",
        "  </thead>\n",
        "  <tbody>\n",
        "    <tr>\n",
        "      <th>2000</th>\n",
        "      <td> NaN</td>\n",
        "      <td> 1.5</td>\n",
        "    </tr>\n",
        "    <tr>\n",
        "      <th>2001</th>\n",
        "      <td> 2.4</td>\n",
        "      <td> 1.7</td>\n",
        "    </tr>\n",
        "    <tr>\n",
        "      <th>2002</th>\n",
        "      <td> 2.9</td>\n",
        "      <td> 3.6</td>\n",
        "    </tr>\n",
        "  </tbody>\n",
        "</table>\n",
        "</div>"
       ],
       "metadata": {},
       "output_type": "pyout",
       "prompt_number": 52,
       "text": [
        "state  Nevada  Ohio\n",
        "year               \n",
        "2000      NaN   1.5\n",
        "2001      2.4   1.7\n",
        "2002      2.9   3.6"
       ]
      }
     ],
     "prompt_number": 52
    },
    {
     "cell_type": "heading",
     "level": 2,
     "metadata": {},
     "source": [
      "An example: Baby names in the USA"
     ]
    },
    {
     "cell_type": "code",
     "collapsed": false,
     "input": [
      "names1880 = pd.read_csv(datapath+'yob1880.txt', names=['name', 'sex', 'births'])"
     ],
     "language": "python",
     "metadata": {},
     "outputs": [],
     "prompt_number": 53
    },
    {
     "cell_type": "code",
     "collapsed": false,
     "input": [
      "names1880"
     ],
     "language": "python",
     "metadata": {},
     "outputs": [
      {
       "html": [
        "<pre>\n",
        "&lt;class 'pandas.core.frame.DataFrame'&gt;\n",
        "Int64Index: 2000 entries, 0 to 1999\n",
        "Data columns (total 3 columns):\n",
        "name      2000  non-null values\n",
        "sex       2000  non-null values\n",
        "births    2000  non-null values\n",
        "dtypes: int64(1), object(2)\n",
        "</pre>"
       ],
       "metadata": {},
       "output_type": "pyout",
       "prompt_number": 54,
       "text": [
        "<class 'pandas.core.frame.DataFrame'>\n",
        "Int64Index: 2000 entries, 0 to 1999\n",
        "Data columns (total 3 columns):\n",
        "name      2000  non-null values\n",
        "sex       2000  non-null values\n",
        "births    2000  non-null values\n",
        "dtypes: int64(1), object(2)"
       ]
      }
     ],
     "prompt_number": 54
    },
    {
     "cell_type": "code",
     "collapsed": false,
     "input": [
      "#names1880.head()\n",
      "names1880.tail()"
     ],
     "language": "python",
     "metadata": {},
     "outputs": [
      {
       "html": [
        "<div style=\"max-height:1000px;max-width:1500px;overflow:auto;\">\n",
        "<table border=\"1\" class=\"dataframe\">\n",
        "  <thead>\n",
        "    <tr style=\"text-align: right;\">\n",
        "      <th></th>\n",
        "      <th>name</th>\n",
        "      <th>sex</th>\n",
        "      <th>births</th>\n",
        "    </tr>\n",
        "  </thead>\n",
        "  <tbody>\n",
        "    <tr>\n",
        "      <th>1995</th>\n",
        "      <td>    Woodie</td>\n",
        "      <td> M</td>\n",
        "      <td> 5</td>\n",
        "    </tr>\n",
        "    <tr>\n",
        "      <th>1996</th>\n",
        "      <td>    Worthy</td>\n",
        "      <td> M</td>\n",
        "      <td> 5</td>\n",
        "    </tr>\n",
        "    <tr>\n",
        "      <th>1997</th>\n",
        "      <td>    Wright</td>\n",
        "      <td> M</td>\n",
        "      <td> 5</td>\n",
        "    </tr>\n",
        "    <tr>\n",
        "      <th>1998</th>\n",
        "      <td>      York</td>\n",
        "      <td> M</td>\n",
        "      <td> 5</td>\n",
        "    </tr>\n",
        "    <tr>\n",
        "      <th>1999</th>\n",
        "      <td> Zachariah</td>\n",
        "      <td> M</td>\n",
        "      <td> 5</td>\n",
        "    </tr>\n",
        "  </tbody>\n",
        "</table>\n",
        "</div>"
       ],
       "metadata": {},
       "output_type": "pyout",
       "prompt_number": 55,
       "text": [
        "           name sex  births\n",
        "1995     Woodie   M       5\n",
        "1996     Worthy   M       5\n",
        "1997     Wright   M       5\n",
        "1998       York   M       5\n",
        "1999  Zachariah   M       5"
       ]
      }
     ],
     "prompt_number": 55
    },
    {
     "cell_type": "code",
     "collapsed": false,
     "input": [
      "names1880.groupby('sex').births.sum()"
     ],
     "language": "python",
     "metadata": {},
     "outputs": [
      {
       "metadata": {},
       "output_type": "pyout",
       "prompt_number": 56,
       "text": [
        "sex\n",
        "F       90993\n",
        "M      110491\n",
        "Name: births, dtype: int64"
       ]
      }
     ],
     "prompt_number": 56
    },
    {
     "cell_type": "code",
     "collapsed": false,
     "input": [
      "years = range(1880, 2012)\n",
      "pieces = []\n",
      "columns = ['name', 'sex', 'births']\n",
      "for year in years:\n",
      "    path = datapath+'yob{}.txt'.format(year)\n",
      "    frame = pd.read_csv(path, names=columns)\n",
      "    frame['year'] = year\n",
      "    pieces.append(frame)\n",
      "# Concatenate everything into a single DataFrame\n",
      "names = pd.concat(pieces, ignore_index=True)"
     ],
     "language": "python",
     "metadata": {},
     "outputs": [],
     "prompt_number": 57
    },
    {
     "cell_type": "code",
     "collapsed": false,
     "input": [
      "names\n",
      "names[:10]\n",
      "names.groupby('sex').births.sum()"
     ],
     "language": "python",
     "metadata": {},
     "outputs": [
      {
       "metadata": {},
       "output_type": "pyout",
       "prompt_number": 58,
       "text": [
        "sex\n",
        "F      161779741\n",
        "M      164359693\n",
        "Name: births, dtype: int64"
       ]
      }
     ],
     "prompt_number": 58
    },
    {
     "cell_type": "code",
     "collapsed": false,
     "input": [
      "total_births = names.pivot_table('births', rows='year', cols='sex', aggfunc=sum)"
     ],
     "language": "python",
     "metadata": {},
     "outputs": [],
     "prompt_number": 59
    },
    {
     "cell_type": "code",
     "collapsed": false,
     "input": [
      "total_births"
     ],
     "language": "python",
     "metadata": {},
     "outputs": [
      {
       "html": [
        "<pre>\n",
        "&lt;class 'pandas.core.frame.DataFrame'&gt;\n",
        "Int64Index: 132 entries, 1880 to 2011\n",
        "Data columns (total 2 columns):\n",
        "F    132  non-null values\n",
        "M    132  non-null values\n",
        "dtypes: int64(2)\n",
        "</pre>"
       ],
       "metadata": {},
       "output_type": "pyout",
       "prompt_number": 60,
       "text": [
        "<class 'pandas.core.frame.DataFrame'>\n",
        "Int64Index: 132 entries, 1880 to 2011\n",
        "Data columns (total 2 columns):\n",
        "F    132  non-null values\n",
        "M    132  non-null values\n",
        "dtypes: int64(2)"
       ]
      }
     ],
     "prompt_number": 60
    },
    {
     "cell_type": "code",
     "collapsed": false,
     "input": [
      "total_births.tail()"
     ],
     "language": "python",
     "metadata": {},
     "outputs": [
      {
       "html": [
        "<div style=\"max-height:1000px;max-width:1500px;overflow:auto;\">\n",
        "<table border=\"1\" class=\"dataframe\">\n",
        "  <thead>\n",
        "    <tr style=\"text-align: right;\">\n",
        "      <th>sex</th>\n",
        "      <th>F</th>\n",
        "      <th>M</th>\n",
        "    </tr>\n",
        "    <tr>\n",
        "      <th>year</th>\n",
        "      <th></th>\n",
        "      <th></th>\n",
        "    </tr>\n",
        "  </thead>\n",
        "  <tbody>\n",
        "    <tr>\n",
        "      <th>2007</th>\n",
        "      <td> 1918618</td>\n",
        "      <td> 2071178</td>\n",
        "    </tr>\n",
        "    <tr>\n",
        "      <th>2008</th>\n",
        "      <td> 1886109</td>\n",
        "      <td> 2035075</td>\n",
        "    </tr>\n",
        "    <tr>\n",
        "      <th>2009</th>\n",
        "      <td> 1831382</td>\n",
        "      <td> 1977632</td>\n",
        "    </tr>\n",
        "    <tr>\n",
        "      <th>2010</th>\n",
        "      <td> 1770632</td>\n",
        "      <td> 1911572</td>\n",
        "    </tr>\n",
        "    <tr>\n",
        "      <th>2011</th>\n",
        "      <td> 1750078</td>\n",
        "      <td> 1889557</td>\n",
        "    </tr>\n",
        "  </tbody>\n",
        "</table>\n",
        "</div>"
       ],
       "metadata": {},
       "output_type": "pyout",
       "prompt_number": 61,
       "text": [
        "sex         F        M\n",
        "year                  \n",
        "2007  1918618  2071178\n",
        "2008  1886109  2035075\n",
        "2009  1831382  1977632\n",
        "2010  1770632  1911572\n",
        "2011  1750078  1889557"
       ]
      }
     ],
     "prompt_number": 61
    },
    {
     "cell_type": "code",
     "collapsed": false,
     "input": [
      "total_births.plot(title='Total births by sex and year')"
     ],
     "language": "python",
     "metadata": {},
     "outputs": [
      {
       "metadata": {},
       "output_type": "pyout",
       "prompt_number": 62,
       "text": [
        "<matplotlib.axes.AxesSubplot at 0x3bda910>"
       ]
      },
      {
       "metadata": {},
       "output_type": "display_data",
       "png": "[encoded data removed]",
       "text": [
        "<matplotlib.figure.Figure at 0x38077d0>"
       ]
      }
     ],
     "prompt_number": 62
    },
    {
     "cell_type": "code",
     "collapsed": false,
     "input": [
      "def add_prop(group):\n",
      "    # Integer division floors\n",
      "    births = group.births.astype(float)\n",
      "    group['percent'] = births / births.sum()\n",
      "    return group\n",
      "names = names.groupby(['year', 'sex']).apply(add_prop)"
     ],
     "language": "python",
     "metadata": {},
     "outputs": [],
     "prompt_number": 63
    },
    {
     "cell_type": "code",
     "collapsed": false,
     "input": [
      "#names\n",
      "names[:10]"
     ],
     "language": "python",
     "metadata": {},
     "outputs": [
      {
       "html": [
        "<div style=\"max-height:1000px;max-width:1500px;overflow:auto;\">\n",
        "<table border=\"1\" class=\"dataframe\">\n",
        "  <thead>\n",
        "    <tr style=\"text-align: right;\">\n",
        "      <th></th>\n",
        "      <th>name</th>\n",
        "      <th>sex</th>\n",
        "      <th>births</th>\n",
        "      <th>year</th>\n",
        "      <th>percent</th>\n",
        "    </tr>\n",
        "  </thead>\n",
        "  <tbody>\n",
        "    <tr>\n",
        "      <th>0</th>\n",
        "      <td>      Mary</td>\n",
        "      <td> F</td>\n",
        "      <td> 7065</td>\n",
        "      <td> 1880</td>\n",
        "      <td> 0.077643</td>\n",
        "    </tr>\n",
        "    <tr>\n",
        "      <th>1</th>\n",
        "      <td>      Anna</td>\n",
        "      <td> F</td>\n",
        "      <td> 2604</td>\n",
        "      <td> 1880</td>\n",
        "      <td> 0.028618</td>\n",
        "    </tr>\n",
        "    <tr>\n",
        "      <th>2</th>\n",
        "      <td>      Emma</td>\n",
        "      <td> F</td>\n",
        "      <td> 2003</td>\n",
        "      <td> 1880</td>\n",
        "      <td> 0.022013</td>\n",
        "    </tr>\n",
        "    <tr>\n",
        "      <th>3</th>\n",
        "      <td> Elizabeth</td>\n",
        "      <td> F</td>\n",
        "      <td> 1939</td>\n",
        "      <td> 1880</td>\n",
        "      <td> 0.021309</td>\n",
        "    </tr>\n",
        "    <tr>\n",
        "      <th>4</th>\n",
        "      <td>    Minnie</td>\n",
        "      <td> F</td>\n",
        "      <td> 1746</td>\n",
        "      <td> 1880</td>\n",
        "      <td> 0.019188</td>\n",
        "    </tr>\n",
        "    <tr>\n",
        "      <th>5</th>\n",
        "      <td>  Margaret</td>\n",
        "      <td> F</td>\n",
        "      <td> 1578</td>\n",
        "      <td> 1880</td>\n",
        "      <td> 0.017342</td>\n",
        "    </tr>\n",
        "    <tr>\n",
        "      <th>6</th>\n",
        "      <td>       Ida</td>\n",
        "      <td> F</td>\n",
        "      <td> 1472</td>\n",
        "      <td> 1880</td>\n",
        "      <td> 0.016177</td>\n",
        "    </tr>\n",
        "    <tr>\n",
        "      <th>7</th>\n",
        "      <td>     Alice</td>\n",
        "      <td> F</td>\n",
        "      <td> 1414</td>\n",
        "      <td> 1880</td>\n",
        "      <td> 0.015540</td>\n",
        "    </tr>\n",
        "    <tr>\n",
        "      <th>8</th>\n",
        "      <td>    Bertha</td>\n",
        "      <td> F</td>\n",
        "      <td> 1320</td>\n",
        "      <td> 1880</td>\n",
        "      <td> 0.014507</td>\n",
        "    </tr>\n",
        "    <tr>\n",
        "      <th>9</th>\n",
        "      <td>     Sarah</td>\n",
        "      <td> F</td>\n",
        "      <td> 1288</td>\n",
        "      <td> 1880</td>\n",
        "      <td> 0.014155</td>\n",
        "    </tr>\n",
        "  </tbody>\n",
        "</table>\n",
        "</div>"
       ],
       "metadata": {},
       "output_type": "pyout",
       "prompt_number": 64,
       "text": [
        "        name sex  births  year   percent\n",
        "0       Mary   F    7065  1880  0.077643\n",
        "1       Anna   F    2604  1880  0.028618\n",
        "2       Emma   F    2003  1880  0.022013\n",
        "3  Elizabeth   F    1939  1880  0.021309\n",
        "4     Minnie   F    1746  1880  0.019188\n",
        "5   Margaret   F    1578  1880  0.017342\n",
        "6        Ida   F    1472  1880  0.016177\n",
        "7      Alice   F    1414  1880  0.015540\n",
        "8     Bertha   F    1320  1880  0.014507\n",
        "9      Sarah   F    1288  1880  0.014155"
       ]
      }
     ],
     "prompt_number": 64
    },
    {
     "cell_type": "code",
     "collapsed": false,
     "input": [
      "np.allclose(names.groupby(['year', 'sex']).percent.sum(), 1)"
     ],
     "language": "python",
     "metadata": {},
     "outputs": [
      {
       "metadata": {},
       "output_type": "pyout",
       "prompt_number": 65,
       "text": [
        "True"
       ]
      }
     ],
     "prompt_number": 65
    },
    {
     "cell_type": "code",
     "collapsed": false,
     "input": [
      "def get_top1000(group):\n",
      "    return group.sort_index(by='births', ascending=False)[:1000]\n",
      "grouped = names.groupby(['year', 'sex'])\n",
      "top1000 = grouped.apply(get_top1000)"
     ],
     "language": "python",
     "metadata": {},
     "outputs": [],
     "prompt_number": 66
    },
    {
     "cell_type": "code",
     "collapsed": false,
     "input": [
      "top1000\n",
      "top1000[:15]"
     ],
     "language": "python",
     "metadata": {},
     "outputs": [
      {
       "html": [
        "<div style=\"max-height:1000px;max-width:1500px;overflow:auto;\">\n",
        "<table border=\"1\" class=\"dataframe\">\n",
        "  <thead>\n",
        "    <tr style=\"text-align: right;\">\n",
        "      <th></th>\n",
        "      <th></th>\n",
        "      <th></th>\n",
        "      <th>name</th>\n",
        "      <th>sex</th>\n",
        "      <th>births</th>\n",
        "      <th>year</th>\n",
        "      <th>percent</th>\n",
        "    </tr>\n",
        "    <tr>\n",
        "      <th>year</th>\n",
        "      <th>sex</th>\n",
        "      <th></th>\n",
        "      <th></th>\n",
        "      <th></th>\n",
        "      <th></th>\n",
        "      <th></th>\n",
        "      <th></th>\n",
        "    </tr>\n",
        "  </thead>\n",
        "  <tbody>\n",
        "    <tr>\n",
        "      <th rowspan=\"15\" valign=\"top\">1880</th>\n",
        "      <th rowspan=\"15\" valign=\"top\">F</th>\n",
        "      <th>0 </th>\n",
        "      <td>      Mary</td>\n",
        "      <td> F</td>\n",
        "      <td> 7065</td>\n",
        "      <td> 1880</td>\n",
        "      <td> 0.077643</td>\n",
        "    </tr>\n",
        "    <tr>\n",
        "      <th>1 </th>\n",
        "      <td>      Anna</td>\n",
        "      <td> F</td>\n",
        "      <td> 2604</td>\n",
        "      <td> 1880</td>\n",
        "      <td> 0.028618</td>\n",
        "    </tr>\n",
        "    <tr>\n",
        "      <th>2 </th>\n",
        "      <td>      Emma</td>\n",
        "      <td> F</td>\n",
        "      <td> 2003</td>\n",
        "      <td> 1880</td>\n",
        "      <td> 0.022013</td>\n",
        "    </tr>\n",
        "    <tr>\n",
        "      <th>3 </th>\n",
        "      <td> Elizabeth</td>\n",
        "      <td> F</td>\n",
        "      <td> 1939</td>\n",
        "      <td> 1880</td>\n",
        "      <td> 0.021309</td>\n",
        "    </tr>\n",
        "    <tr>\n",
        "      <th>4 </th>\n",
        "      <td>    Minnie</td>\n",
        "      <td> F</td>\n",
        "      <td> 1746</td>\n",
        "      <td> 1880</td>\n",
        "      <td> 0.019188</td>\n",
        "    </tr>\n",
        "    <tr>\n",
        "      <th>5 </th>\n",
        "      <td>  Margaret</td>\n",
        "      <td> F</td>\n",
        "      <td> 1578</td>\n",
        "      <td> 1880</td>\n",
        "      <td> 0.017342</td>\n",
        "    </tr>\n",
        "    <tr>\n",
        "      <th>6 </th>\n",
        "      <td>       Ida</td>\n",
        "      <td> F</td>\n",
        "      <td> 1472</td>\n",
        "      <td> 1880</td>\n",
        "      <td> 0.016177</td>\n",
        "    </tr>\n",
        "    <tr>\n",
        "      <th>7 </th>\n",
        "      <td>     Alice</td>\n",
        "      <td> F</td>\n",
        "      <td> 1414</td>\n",
        "      <td> 1880</td>\n",
        "      <td> 0.015540</td>\n",
        "    </tr>\n",
        "    <tr>\n",
        "      <th>8 </th>\n",
        "      <td>    Bertha</td>\n",
        "      <td> F</td>\n",
        "      <td> 1320</td>\n",
        "      <td> 1880</td>\n",
        "      <td> 0.014507</td>\n",
        "    </tr>\n",
        "    <tr>\n",
        "      <th>9 </th>\n",
        "      <td>     Sarah</td>\n",
        "      <td> F</td>\n",
        "      <td> 1288</td>\n",
        "      <td> 1880</td>\n",
        "      <td> 0.014155</td>\n",
        "    </tr>\n",
        "    <tr>\n",
        "      <th>10</th>\n",
        "      <td>     Annie</td>\n",
        "      <td> F</td>\n",
        "      <td> 1258</td>\n",
        "      <td> 1880</td>\n",
        "      <td> 0.013825</td>\n",
        "    </tr>\n",
        "    <tr>\n",
        "      <th>11</th>\n",
        "      <td>     Clara</td>\n",
        "      <td> F</td>\n",
        "      <td> 1226</td>\n",
        "      <td> 1880</td>\n",
        "      <td> 0.013474</td>\n",
        "    </tr>\n",
        "    <tr>\n",
        "      <th>12</th>\n",
        "      <td>      Ella</td>\n",
        "      <td> F</td>\n",
        "      <td> 1156</td>\n",
        "      <td> 1880</td>\n",
        "      <td> 0.012704</td>\n",
        "    </tr>\n",
        "    <tr>\n",
        "      <th>13</th>\n",
        "      <td>  Florence</td>\n",
        "      <td> F</td>\n",
        "      <td> 1063</td>\n",
        "      <td> 1880</td>\n",
        "      <td> 0.011682</td>\n",
        "    </tr>\n",
        "    <tr>\n",
        "      <th>14</th>\n",
        "      <td>      Cora</td>\n",
        "      <td> F</td>\n",
        "      <td> 1045</td>\n",
        "      <td> 1880</td>\n",
        "      <td> 0.011484</td>\n",
        "    </tr>\n",
        "  </tbody>\n",
        "</table>\n",
        "</div>"
       ],
       "metadata": {},
       "output_type": "pyout",
       "prompt_number": 67,
       "text": [
        "                  name sex  births  year   percent\n",
        "year sex                                          \n",
        "1880 F   0        Mary   F    7065  1880  0.077643\n",
        "         1        Anna   F    2604  1880  0.028618\n",
        "         2        Emma   F    2003  1880  0.022013\n",
        "         3   Elizabeth   F    1939  1880  0.021309\n",
        "         4      Minnie   F    1746  1880  0.019188\n",
        "         5    Margaret   F    1578  1880  0.017342\n",
        "         6         Ida   F    1472  1880  0.016177\n",
        "         7       Alice   F    1414  1880  0.015540\n",
        "         8      Bertha   F    1320  1880  0.014507\n",
        "         9       Sarah   F    1288  1880  0.014155\n",
        "         10      Annie   F    1258  1880  0.013825\n",
        "         11      Clara   F    1226  1880  0.013474\n",
        "         12       Ella   F    1156  1880  0.012704\n",
        "         13   Florence   F    1063  1880  0.011682\n",
        "         14       Cora   F    1045  1880  0.011484"
       ]
      }
     ],
     "prompt_number": 67
    },
    {
     "cell_type": "code",
     "collapsed": false,
     "input": [
      "boys = top1000[top1000.sex == 'M']\n",
      "girls = top1000[top1000.sex == 'F']"
     ],
     "language": "python",
     "metadata": {},
     "outputs": [],
     "prompt_number": 68
    },
    {
     "cell_type": "code",
     "collapsed": false,
     "input": [
      "Pablo_names = boys[boys.name=='Pablo']\n",
      "Pablo_names[:10]"
     ],
     "language": "python",
     "metadata": {},
     "outputs": [
      {
       "html": [
        "<div style=\"max-height:1000px;max-width:1500px;overflow:auto;\">\n",
        "<table border=\"1\" class=\"dataframe\">\n",
        "  <thead>\n",
        "    <tr style=\"text-align: right;\">\n",
        "      <th></th>\n",
        "      <th></th>\n",
        "      <th></th>\n",
        "      <th>name</th>\n",
        "      <th>sex</th>\n",
        "      <th>births</th>\n",
        "      <th>year</th>\n",
        "      <th>percent</th>\n",
        "    </tr>\n",
        "    <tr>\n",
        "      <th>year</th>\n",
        "      <th>sex</th>\n",
        "      <th></th>\n",
        "      <th></th>\n",
        "      <th></th>\n",
        "      <th></th>\n",
        "      <th></th>\n",
        "      <th></th>\n",
        "    </tr>\n",
        "  </thead>\n",
        "  <tbody>\n",
        "    <tr>\n",
        "      <th>1880</th>\n",
        "      <th>M</th>\n",
        "      <th>1535 </th>\n",
        "      <td> Pablo</td>\n",
        "      <td> M</td>\n",
        "      <td> 11</td>\n",
        "      <td> 1880</td>\n",
        "      <td> 0.000100</td>\n",
        "    </tr>\n",
        "    <tr>\n",
        "      <th>1882</th>\n",
        "      <th>M</th>\n",
        "      <th>5703 </th>\n",
        "      <td> Pablo</td>\n",
        "      <td> M</td>\n",
        "      <td>  8</td>\n",
        "      <td> 1882</td>\n",
        "      <td> 0.000070</td>\n",
        "    </tr>\n",
        "    <tr>\n",
        "      <th>1883</th>\n",
        "      <th>M</th>\n",
        "      <th>7746 </th>\n",
        "      <td> Pablo</td>\n",
        "      <td> M</td>\n",
        "      <td> 10</td>\n",
        "      <td> 1883</td>\n",
        "      <td> 0.000096</td>\n",
        "    </tr>\n",
        "    <tr>\n",
        "      <th>1884</th>\n",
        "      <th>M</th>\n",
        "      <th>10011</th>\n",
        "      <td> Pablo</td>\n",
        "      <td> M</td>\n",
        "      <td>  9</td>\n",
        "      <td> 1884</td>\n",
        "      <td> 0.000079</td>\n",
        "    </tr>\n",
        "    <tr>\n",
        "      <th>1885</th>\n",
        "      <th>M</th>\n",
        "      <th>12114</th>\n",
        "      <td> Pablo</td>\n",
        "      <td> M</td>\n",
        "      <td> 16</td>\n",
        "      <td> 1885</td>\n",
        "      <td> 0.000148</td>\n",
        "    </tr>\n",
        "    <tr>\n",
        "      <th>1886</th>\n",
        "      <th>M</th>\n",
        "      <th>14843</th>\n",
        "      <td> Pablo</td>\n",
        "      <td> M</td>\n",
        "      <td>  7</td>\n",
        "      <td> 1886</td>\n",
        "      <td> 0.000063</td>\n",
        "    </tr>\n",
        "    <tr>\n",
        "      <th>1887</th>\n",
        "      <th>M</th>\n",
        "      <th>16970</th>\n",
        "      <td> Pablo</td>\n",
        "      <td> M</td>\n",
        "      <td> 12</td>\n",
        "      <td> 1887</td>\n",
        "      <td> 0.000118</td>\n",
        "    </tr>\n",
        "    <tr>\n",
        "      <th>1888</th>\n",
        "      <th>M</th>\n",
        "      <th>19612</th>\n",
        "      <td> Pablo</td>\n",
        "      <td> M</td>\n",
        "      <td> 11</td>\n",
        "      <td> 1888</td>\n",
        "      <td> 0.000091</td>\n",
        "    </tr>\n",
        "    <tr>\n",
        "      <th>1889</th>\n",
        "      <th>M</th>\n",
        "      <th>22246</th>\n",
        "      <td> Pablo</td>\n",
        "      <td> M</td>\n",
        "      <td> 11</td>\n",
        "      <td> 1889</td>\n",
        "      <td> 0.000099</td>\n",
        "    </tr>\n",
        "    <tr>\n",
        "      <th>1890</th>\n",
        "      <th>M</th>\n",
        "      <th>24705</th>\n",
        "      <td> Pablo</td>\n",
        "      <td> M</td>\n",
        "      <td> 18</td>\n",
        "      <td> 1890</td>\n",
        "      <td> 0.000162</td>\n",
        "    </tr>\n",
        "  </tbody>\n",
        "</table>\n",
        "</div>"
       ],
       "metadata": {},
       "output_type": "pyout",
       "prompt_number": 69,
       "text": [
        "                 name sex  births  year   percent\n",
        "year sex                                         \n",
        "1880 M   1535   Pablo   M      11  1880  0.000100\n",
        "1882 M   5703   Pablo   M       8  1882  0.000070\n",
        "1883 M   7746   Pablo   M      10  1883  0.000096\n",
        "1884 M   10011  Pablo   M       9  1884  0.000079\n",
        "1885 M   12114  Pablo   M      16  1885  0.000148\n",
        "1886 M   14843  Pablo   M       7  1886  0.000063\n",
        "1887 M   16970  Pablo   M      12  1887  0.000118\n",
        "1888 M   19612  Pablo   M      11  1888  0.000091\n",
        "1889 M   22246  Pablo   M      11  1889  0.000099\n",
        "1890 M   24705  Pablo   M      18  1890  0.000162"
       ]
      }
     ],
     "prompt_number": 69
    },
    {
     "cell_type": "code",
     "collapsed": false,
     "input": [
      "total_births_top1000 = top1000.pivot_table('births', rows='year', cols='name',aggfunc=sum)"
     ],
     "language": "python",
     "metadata": {},
     "outputs": [],
     "prompt_number": 70
    },
    {
     "cell_type": "code",
     "collapsed": false,
     "input": [
      "subset = total_births_top1000[['John', 'Harry', 'Mary', 'Marilyn']]\n",
      "subset.plot(subplots=True, figsize=(12, 10), grid=False,\n",
      "title=\"Number of births per year\")"
     ],
     "language": "python",
     "metadata": {},
     "outputs": [
      {
       "metadata": {},
       "output_type": "pyout",
       "prompt_number": 71,
       "text": [
        "array([<matplotlib.axes.AxesSubplot object at 0xbd2a9d0>,\n",
        "       <matplotlib.axes.AxesSubplot object at 0xbd3b750>,\n",
        "       <matplotlib.axes.AxesSubplot object at 0x7f9f350>,\n",
        "       <matplotlib.axes.AxesSubplot object at 0x7f99a90>], dtype=object)"
       ]
      },
      {
       "metadata": {},
       "output_type": "display_data",
       "png": "[encoded data removed]",
       "text": [
        "<matplotlib.figure.Figure at 0x3bd9e90>"
       ]
      }
     ],
     "prompt_number": 71
    },
    {
     "cell_type": "code",
     "collapsed": false,
     "input": [
      "table = top1000.pivot_table('percent', rows='year', cols='sex', aggfunc=sum)\n",
      "table.plot(title='Sum of table1000.percent by year and sex', yticks=np.linspace(0, 1.2, 13), xticks=range(1880, 2020, 10))"
     ],
     "language": "python",
     "metadata": {},
     "outputs": [
      {
       "metadata": {},
       "output_type": "pyout",
       "prompt_number": 72,
       "text": [
        "<matplotlib.axes.AxesSubplot at 0x37d6150>"
       ]
      },
      {
       "metadata": {},
       "output_type": "display_data",
       "png": "[encoded data removed]",
       "text": [
        "<matplotlib.figure.Figure at 0xd7fde50>"
       ]
      }
     ],
     "prompt_number": 72
    },
    {
     "cell_type": "code",
     "collapsed": false,
     "input": [
      "df = boys[boys.year == 2010]\n",
      "prop_cumsum = df.sort_index(by='percent', ascending=False).percent.cumsum()"
     ],
     "language": "python",
     "metadata": {},
     "outputs": [],
     "prompt_number": 73
    },
    {
     "cell_type": "code",
     "collapsed": false,
     "input": [
      "def get_quantile_count(group, q=0.5):\n",
      "    group = group.sort_index(by='percent', ascending=False)\n",
      "    return group.percent.cumsum().searchsorted(q) + 1"
     ],
     "language": "python",
     "metadata": {},
     "outputs": [],
     "prompt_number": 74
    },
    {
     "cell_type": "code",
     "collapsed": false,
     "input": [
      "diversity = top1000.groupby(['year', 'sex']).apply(get_quantile_count)\n",
      "diversity = diversity.unstack('sex')\n",
      "diversity.head()"
     ],
     "language": "python",
     "metadata": {},
     "outputs": [
      {
       "html": [
        "<div style=\"max-height:1000px;max-width:1500px;overflow:auto;\">\n",
        "<table border=\"1\" class=\"dataframe\">\n",
        "  <thead>\n",
        "    <tr style=\"text-align: right;\">\n",
        "      <th>sex</th>\n",
        "      <th>F</th>\n",
        "      <th>M</th>\n",
        "    </tr>\n",
        "    <tr>\n",
        "      <th>year</th>\n",
        "      <th></th>\n",
        "      <th></th>\n",
        "    </tr>\n",
        "  </thead>\n",
        "  <tbody>\n",
        "    <tr>\n",
        "      <th>1880</th>\n",
        "      <td> 38</td>\n",
        "      <td> 14</td>\n",
        "    </tr>\n",
        "    <tr>\n",
        "      <th>1881</th>\n",
        "      <td> 38</td>\n",
        "      <td> 14</td>\n",
        "    </tr>\n",
        "    <tr>\n",
        "      <th>1882</th>\n",
        "      <td> 38</td>\n",
        "      <td> 15</td>\n",
        "    </tr>\n",
        "    <tr>\n",
        "      <th>1883</th>\n",
        "      <td> 39</td>\n",
        "      <td> 15</td>\n",
        "    </tr>\n",
        "    <tr>\n",
        "      <th>1884</th>\n",
        "      <td> 39</td>\n",
        "      <td> 16</td>\n",
        "    </tr>\n",
        "  </tbody>\n",
        "</table>\n",
        "</div>"
       ],
       "metadata": {},
       "output_type": "pyout",
       "prompt_number": 75,
       "text": [
        "sex    F   M\n",
        "year        \n",
        "1880  38  14\n",
        "1881  38  14\n",
        "1882  38  15\n",
        "1883  39  15\n",
        "1884  39  16"
       ]
      }
     ],
     "prompt_number": 75
    },
    {
     "cell_type": "code",
     "collapsed": false,
     "input": [
      "diversity.plot(title=\"Number of popular names in top 50%\")"
     ],
     "language": "python",
     "metadata": {},
     "outputs": [
      {
       "metadata": {},
       "output_type": "pyout",
       "prompt_number": 76,
       "text": [
        "<matplotlib.axes.AxesSubplot at 0x3a1ae90>"
       ]
      },
      {
       "metadata": {},
       "output_type": "display_data",
       "png": "[encoded data removed]",
       "text": [
        "<matplotlib.figure.Figure at 0x7f99e10>"
       ]
      }
     ],
     "prompt_number": 76
    },
    {
     "cell_type": "code",
     "collapsed": false,
     "input": [
      "# extract last letter from name column\n",
      "get_last_letter = lambda x: x[-1]\n",
      "last_letters = names.name.map(get_last_letter)\n",
      "last_letters.name = 'last_letter'\n",
      "table = names.pivot_table('births', rows=last_letters, cols=['sex', 'year'], aggfunc=sum)\n",
      "subtable = table.reindex(columns=[1910, 1960, 2010], level='year')\n",
      "subtable.head()"
     ],
     "language": "python",
     "metadata": {},
     "outputs": [
      {
       "html": [
        "<div style=\"max-height:1000px;max-width:1500px;overflow:auto;\">\n",
        "<table border=\"1\" class=\"dataframe\">\n",
        "  <thead>\n",
        "    <tr>\n",
        "      <th>sex</th>\n",
        "      <th colspan=\"3\" halign=\"left\">F</th>\n",
        "      <th colspan=\"3\" halign=\"left\">M</th>\n",
        "    </tr>\n",
        "    <tr>\n",
        "      <th>year</th>\n",
        "      <th>1910</th>\n",
        "      <th>1960</th>\n",
        "      <th>2010</th>\n",
        "      <th>1910</th>\n",
        "      <th>1960</th>\n",
        "      <th>2010</th>\n",
        "    </tr>\n",
        "    <tr>\n",
        "      <th>last_letter</th>\n",
        "      <th></th>\n",
        "      <th></th>\n",
        "      <th></th>\n",
        "      <th></th>\n",
        "      <th></th>\n",
        "      <th></th>\n",
        "    </tr>\n",
        "  </thead>\n",
        "  <tbody>\n",
        "    <tr>\n",
        "      <th>a</th>\n",
        "      <td> 108395</td>\n",
        "      <td> 691251</td>\n",
        "      <td> 675059</td>\n",
        "      <td>   977</td>\n",
        "      <td>   5207</td>\n",
        "      <td>  28772</td>\n",
        "    </tr>\n",
        "    <tr>\n",
        "      <th>b</th>\n",
        "      <td>    NaN</td>\n",
        "      <td>    694</td>\n",
        "      <td>    454</td>\n",
        "      <td>   411</td>\n",
        "      <td>   3914</td>\n",
        "      <td>  39149</td>\n",
        "    </tr>\n",
        "    <tr>\n",
        "      <th>c</th>\n",
        "      <td>      5</td>\n",
        "      <td>     49</td>\n",
        "      <td>    953</td>\n",
        "      <td>   482</td>\n",
        "      <td>  15472</td>\n",
        "      <td>  23279</td>\n",
        "    </tr>\n",
        "    <tr>\n",
        "      <th>d</th>\n",
        "      <td>   6751</td>\n",
        "      <td>   3732</td>\n",
        "      <td>   2633</td>\n",
        "      <td> 22114</td>\n",
        "      <td> 262140</td>\n",
        "      <td>  44690</td>\n",
        "    </tr>\n",
        "    <tr>\n",
        "      <th>e</th>\n",
        "      <td> 133592</td>\n",
        "      <td> 435050</td>\n",
        "      <td> 315891</td>\n",
        "      <td> 28662</td>\n",
        "      <td> 178814</td>\n",
        "      <td> 129916</td>\n",
        "    </tr>\n",
        "  </tbody>\n",
        "</table>\n",
        "</div>"
       ],
       "metadata": {},
       "output_type": "pyout",
       "prompt_number": 77,
       "text": [
        "sex               F                      M                \n",
        "year           1910    1960    2010   1910    1960    2010\n",
        "last_letter                                               \n",
        "a            108395  691251  675059    977    5207   28772\n",
        "b               NaN     694     454    411    3914   39149\n",
        "c                 5      49     953    482   15472   23279\n",
        "d              6751    3732    2633  22114  262140   44690\n",
        "e            133592  435050  315891  28662  178814  129916"
       ]
      }
     ],
     "prompt_number": 77
    },
    {
     "cell_type": "code",
     "collapsed": false,
     "input": [
      "subtable.sum()"
     ],
     "language": "python",
     "metadata": {},
     "outputs": [
      {
       "metadata": {},
       "output_type": "pyout",
       "prompt_number": 78,
       "text": [
        "sex  year\n",
        "F    1910     396482\n",
        "     1960    2022126\n",
        "     2010    1770632\n",
        "M    1910     194214\n",
        "     1960    2132733\n",
        "     2010    1911572\n",
        "dtype: float64"
       ]
      }
     ],
     "prompt_number": 78
    },
    {
     "cell_type": "code",
     "collapsed": false,
     "input": [
      "letter_prop = subtable / subtable.sum().astype(float)"
     ],
     "language": "python",
     "metadata": {},
     "outputs": [],
     "prompt_number": 79
    },
    {
     "cell_type": "code",
     "collapsed": false,
     "input": [
      "fig, axes = plt.subplots(2, 1, figsize=(10, 8))\n",
      "letter_prop['M'].plot(kind='bar', rot=0, ax=axes[0], title='Male')\n",
      "letter_prop['F'].plot(kind='bar', rot=0, ax=axes[1], title='Female',legend=False)"
     ],
     "language": "python",
     "metadata": {},
     "outputs": [
      {
       "metadata": {},
       "output_type": "pyout",
       "prompt_number": 80,
       "text": [
        "<matplotlib.axes.AxesSubplot at 0x80ce590>"
       ]
      },
      {
       "metadata": {},
       "output_type": "display_data",
       "png": "[encoded data removed]",
       "text": [
        "<matplotlib.figure.Figure at 0xd7c7990>"
       ]
      }
     ],
     "prompt_number": 80
    },
    {
     "cell_type": "code",
     "collapsed": false,
     "input": [
      "letter_prop = table / table.sum().astype(float)\n",
      "dny_ts = letter_prop.ix[['d', 'n', 'y'], 'M'].T\n",
      "dny_ts.head()"
     ],
     "language": "python",
     "metadata": {},
     "outputs": [
      {
       "html": [
        "<div style=\"max-height:1000px;max-width:1500px;overflow:auto;\">\n",
        "<table border=\"1\" class=\"dataframe\">\n",
        "  <thead>\n",
        "    <tr style=\"text-align: right;\">\n",
        "      <th></th>\n",
        "      <th>d</th>\n",
        "      <th>n</th>\n",
        "      <th>y</th>\n",
        "    </tr>\n",
        "    <tr>\n",
        "      <th>year</th>\n",
        "      <th></th>\n",
        "      <th></th>\n",
        "      <th></th>\n",
        "    </tr>\n",
        "  </thead>\n",
        "  <tbody>\n",
        "    <tr>\n",
        "      <th>1880</th>\n",
        "      <td> 0.083057</td>\n",
        "      <td> 0.153216</td>\n",
        "      <td> 0.075762</td>\n",
        "    </tr>\n",
        "    <tr>\n",
        "      <th>1881</th>\n",
        "      <td> 0.083249</td>\n",
        "      <td> 0.153207</td>\n",
        "      <td> 0.077452</td>\n",
        "    </tr>\n",
        "    <tr>\n",
        "      <th>1882</th>\n",
        "      <td> 0.085340</td>\n",
        "      <td> 0.149560</td>\n",
        "      <td> 0.077537</td>\n",
        "    </tr>\n",
        "    <tr>\n",
        "      <th>1883</th>\n",
        "      <td> 0.084058</td>\n",
        "      <td> 0.151649</td>\n",
        "      <td> 0.079146</td>\n",
        "    </tr>\n",
        "    <tr>\n",
        "      <th>1884</th>\n",
        "      <td> 0.086120</td>\n",
        "      <td> 0.149915</td>\n",
        "      <td> 0.080405</td>\n",
        "    </tr>\n",
        "  </tbody>\n",
        "</table>\n",
        "</div>"
       ],
       "metadata": {},
       "output_type": "pyout",
       "prompt_number": 81,
       "text": [
        "             d         n         y\n",
        "year                              \n",
        "1880  0.083057  0.153216  0.075762\n",
        "1881  0.083249  0.153207  0.077452\n",
        "1882  0.085340  0.149560  0.077537\n",
        "1883  0.084058  0.151649  0.079146\n",
        "1884  0.086120  0.149915  0.080405"
       ]
      }
     ],
     "prompt_number": 81
    },
    {
     "cell_type": "code",
     "collapsed": false,
     "input": [
      "dny_ts.plot()"
     ],
     "language": "python",
     "metadata": {},
     "outputs": [
      {
       "metadata": {},
       "output_type": "pyout",
       "prompt_number": 82,
       "text": [
        "<matplotlib.axes.AxesSubplot at 0xd126310>"
       ]
      },
      {
       "metadata": {},
       "output_type": "display_data",
       "png": "[encoded data removed]",
       "text": [
        "<matplotlib.figure.Figure at 0xd99a350>"
       ]
      }
     ],
     "prompt_number": 82
    },
    {
     "cell_type": "code",
     "collapsed": false,
     "input": [
      "all_names = top1000.name.unique()\n",
      "mask = np.array(['lesl' in x.lower() for x in all_names])\n",
      "lesley_like = all_names[mask]\n",
      "lesley_like"
     ],
     "language": "python",
     "metadata": {},
     "outputs": [
      {
       "metadata": {},
       "output_type": "pyout",
       "prompt_number": 83,
       "text": [
        "array(['Leslie', 'Lesley', 'Leslee', 'Lesli', 'Lesly'], dtype=object)"
       ]
      }
     ],
     "prompt_number": 83
    },
    {
     "cell_type": "code",
     "collapsed": false,
     "input": [
      "filtered = top1000[top1000.name.isin(lesley_like)]\n",
      "filtered.groupby('name').births.sum()"
     ],
     "language": "python",
     "metadata": {},
     "outputs": [
      {
       "metadata": {},
       "output_type": "pyout",
       "prompt_number": 84,
       "text": [
        "name\n",
        "Leslee       993\n",
        "Lesley     35028\n",
        "Lesli        929\n",
        "Leslie    371764\n",
        "Lesly      10472\n",
        "Name: births, dtype: int64"
       ]
      }
     ],
     "prompt_number": 84
    },
    {
     "cell_type": "code",
     "collapsed": false,
     "input": [
      "table = filtered.pivot_table('births', rows='year', cols='sex', aggfunc='sum')\n",
      "table = table.div(table.sum(1), axis=0)\n",
      "table.tail()"
     ],
     "language": "python",
     "metadata": {},
     "outputs": [
      {
       "html": [
        "<div style=\"max-height:1000px;max-width:1500px;overflow:auto;\">\n",
        "<table border=\"1\" class=\"dataframe\">\n",
        "  <thead>\n",
        "    <tr style=\"text-align: right;\">\n",
        "      <th>sex</th>\n",
        "      <th>F</th>\n",
        "      <th>M</th>\n",
        "    </tr>\n",
        "    <tr>\n",
        "      <th>year</th>\n",
        "      <th></th>\n",
        "      <th></th>\n",
        "    </tr>\n",
        "  </thead>\n",
        "  <tbody>\n",
        "    <tr>\n",
        "      <th>2007</th>\n",
        "      <td> 1</td>\n",
        "      <td>NaN</td>\n",
        "    </tr>\n",
        "    <tr>\n",
        "      <th>2008</th>\n",
        "      <td> 1</td>\n",
        "      <td>NaN</td>\n",
        "    </tr>\n",
        "    <tr>\n",
        "      <th>2009</th>\n",
        "      <td> 1</td>\n",
        "      <td>NaN</td>\n",
        "    </tr>\n",
        "    <tr>\n",
        "      <th>2010</th>\n",
        "      <td> 1</td>\n",
        "      <td>NaN</td>\n",
        "    </tr>\n",
        "    <tr>\n",
        "      <th>2011</th>\n",
        "      <td> 1</td>\n",
        "      <td>NaN</td>\n",
        "    </tr>\n",
        "  </tbody>\n",
        "</table>\n",
        "</div>"
       ],
       "metadata": {},
       "output_type": "pyout",
       "prompt_number": 85,
       "text": [
        "sex   F   M\n",
        "year       \n",
        "2007  1 NaN\n",
        "2008  1 NaN\n",
        "2009  1 NaN\n",
        "2010  1 NaN\n",
        "2011  1 NaN"
       ]
      }
     ],
     "prompt_number": 85
    },
    {
     "cell_type": "code",
     "collapsed": false,
     "input": [
      "table.plot(style={'M': 'k-', 'F': 'k--'})"
     ],
     "language": "python",
     "metadata": {},
     "outputs": [
      {
       "metadata": {},
       "output_type": "pyout",
       "prompt_number": 86,
       "text": [
        "<matplotlib.axes.AxesSubplot at 0xcad8dd0>"
       ]
      },
      {
       "metadata": {},
       "output_type": "display_data",
       "png": "[encoded data removed]",
       "text": [
        "<matplotlib.figure.Figure at 0xc840690>"
       ]
      }
     ],
     "prompt_number": 86
    }
   ],
   "metadata": {}
  }
 ]
}