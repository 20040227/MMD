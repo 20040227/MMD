{
 "cells": [
  {
   "cell_type": "code",
   "execution_count": 1,
   "metadata": {
    "collapsed": false
   },
   "outputs": [],
   "source": [
    "from IPython.nbconvert.exporters import SlidesExporter\n",
    "from IPython.config import Config\n",
    "from IPython import nbformat"
   ]
  },
  {
   "cell_type": "code",
   "execution_count": 2,
   "metadata": {
    "collapsed": false
   },
   "outputs": [],
   "source": [
    "infile = \"Ex02_Kaggle_Titanic.ipynb\" # load the name of your slideshow\n",
    "outfile = \"Ex02_Kaggle_Titanic.html\"\n",
    "\n",
    "notebook = open(infile).read()\n",
    "notebook_json = nbformat.reads(notebook, nbformat.NO_CONVERT)\n",
    "\n",
    "# This is the config object I talked before: \n",
    "# After the 'url_prefix', you can set the location of your \n",
    "# local reveal.js library, i.e. if the reveal.js is located \n",
    "# in the same directory as your talk.slides.html, then \n",
    "# set 'url_prefix':'reveal.js'.\n",
    "\n",
    "c = Config({\n",
    "            'RevealHelpTransformer':{\n",
    "                'enabled':True,\n",
    "                'url_prefix':'reveal.js',\n",
    "                },                \n",
    "            })\n",
    "\n",
    "exportHtml = SlidesExporter(config=c)\n",
    "(body,resources) = exportHtml.from_notebook_node(notebook_json)\n",
    "\n",
    "open(outfile, 'w').write(body.encode('utf-8'))"
   ]
  },
  {
   "cell_type": "code",
   "execution_count": null,
   "metadata": {
    "collapsed": true
   },
   "outputs": [],
   "source": []
  }
 ],
 "metadata": {
  "kernelspec": {
   "display_name": "Python 2",
   "language": "python",
   "name": "python2"
  },
  "language_info": {
   "codemirror_mode": {
    "name": "ipython",
    "version": 2
   },
   "file_extension": ".py",
   "mimetype": "text/x-python",
   "name": "python",
   "nbconvert_exporter": "python",
   "pygments_lexer": "ipython2",
   "version": "2.7.9"
  }
 },
 "nbformat": 4,
 "nbformat_minor": 0
}
