{
 "metadata": {
  "name": "",
  "signature": "sha256:c93ae773043a93880124d171cd2ca9b3b4bb56d874c9862d7a42bb76afa8c547"
 },
 "nbformat": 3,
 "nbformat_minor": 0,
 "worksheets": [
  {
   "cells": [
    {
     "cell_type": "markdown",
     "metadata": {},
     "source": [
      "Mestrado em Modelagem Matematica da Informacao\n",
      "----------------------------------------------\n",
      "Disciplina: Modelagem e Mineracao de Dados\n",
      "------------------------------------------\n",
      "\n",
      "Master Program - Mathematical Modeling of Information\n",
      "-----------------------------------------------------\n",
      "Course: Data Mining and Modeling\n",
      "--------------------------------\n",
      "\n",
      "Professor: Renato Rocha Souza\n",
      "-----------------------------"
     ]
    },
    {
     "cell_type": "heading",
     "level": 3,
     "metadata": {},
     "source": [
      "Topic: Search and ranking"
     ]
    },
    {
     "cell_type": "markdown",
     "metadata": {},
     "source": [
      "Information on the Python Packages used:  \n",
      "\n",
      "http://docs.python.org/library/sqlite3.html  \n",
      "http://www.crummy.com/software/BeautifulSoup/  \n",
      "http://docs.python.org/library/urlparse.html  \n",
      "http://docs.python.org/library/re.html  \n",
      "http://nltk.org/  "
     ]
    },
    {
     "cell_type": "code",
     "collapsed": false,
     "input": [
      "import os\n",
      "import urllib2\n",
      "import re\n",
      "import nltk\n",
      "import matplotlib.pyplot as plt\n",
      "import pandas as pd\n",
      "import pandas.io.sql as psql\n",
      "from IPython.display import Image, HTML, IFrame, FileLink, FileLinks #needed to render in notebook\n",
      "from IPython.core.display import display\n",
      "from bs4 import BeautifulSoup\n",
      "from urlparse import urljoin\n",
      "from sqlite3 import dbapi2 as sqlite\n",
      "\n",
      "%matplotlib inline\n",
      "# Set default figure size for this notebook\n",
      "plt.rcParams['figure.figsize'] = (16.0, 12.8)"
     ],
     "language": "python",
     "metadata": {},
     "outputs": [],
     "prompt_number": 1
    },
    {
     "cell_type": "markdown",
     "metadata": {},
     "source": [
      "Specifying the path to the files"
     ]
    },
    {
     "cell_type": "code",
     "collapsed": false,
     "input": [
      "outputs = \"/home/rsouza/Dropbox/Renato/ModMinDados/outputs/\"\n",
      "\n",
      "dbfile = u\"searchindex.sqlite\"\n",
      "db = os.path.join(outputs,dbfile)\n",
      "\n",
      "stoplist_en = nltk.corpus.stopwords.words('english')\n",
      "stoplist_pt = nltk.corpus.stopwords.words('portuguese')\n",
      "ignorewords = stoplist_en + stoplist_pt"
     ],
     "language": "python",
     "metadata": {},
     "outputs": [],
     "prompt_number": 2
    },
    {
     "cell_type": "heading",
     "level": 4,
     "metadata": {},
     "source": [
      "First block of classes and functions: crawling"
     ]
    },
    {
     "cell_type": "code",
     "collapsed": false,
     "input": [
      "Image(filename='../templates/db_schema.png')"
     ],
     "language": "python",
     "metadata": {},
     "outputs": [
      {
       "metadata": {},
       "output_type": "pyout",
       "png": "[encoded data removed]",
       "prompt_number": 3,
       "text": [
        "<IPython.core.display.Image at 0x7ff7200906d0>"
       ]
      }
     ],
     "prompt_number": 3
    },
    {
     "cell_type": "code",
     "collapsed": false,
     "input": [
      "class crawler:\n",
      "    def __init__(self,dbname):\n",
      "        self.con=sqlite.connect(dbname)\n",
      "        \n",
      "    def __del__(self):\n",
      "        self.con.close()\n",
      "\n",
      "    def dbcommit(self):\n",
      "        self.con.commit()\n",
      "\n",
      "    def createindextables(self):\n",
      "        self.con.execute(u'create table if not exists urllist(url)')\n",
      "        self.con.execute(u'create table if not exists wordlist(word)')\n",
      "        self.con.execute(u'create table if not exists wordlocation(urlid,wordid,location)')\n",
      "        self.con.execute(u'create table if not exists link(fromid integer,toid integer)')\n",
      "        self.con.execute(u'create table if not exists linkwords(wordid,linkid)')\n",
      "        self.con.execute(u'create index if not exists wordidx on wordlist(word)')\n",
      "        self.con.execute(u'create index if not exists urlidx on urllist(url)')\n",
      "        self.con.execute(u'create index if not exists wordurlidx on wordlocation(wordid)')\n",
      "        self.con.execute(u'create index if not exists urltoidx on link(toid)')\n",
      "        self.con.execute(u'create index if not exists urlfromidx on link(fromid)')\n",
      "        self.dbcommit()\n",
      "\n",
      "    def isindexed(self,url):\n",
      "        '''Verify whether url is already indexed'''\n",
      "        q = u\"select rowid from urllist where url='{}'\"\n",
      "        u = self.con.execute(q.format(url)).fetchone()\n",
      "        if u != None:\n",
      "            q = u\"select * from wordlocation where urlid={}\"\n",
      "            v = self.con.execute(q.format(u[0])).fetchone()\n",
      "            if v != None:\n",
      "                return True\n",
      "        return False        \n",
      "\n",
      "    def gettextonly(self,soup):\n",
      "        '''Extract raw text from html page'''\n",
      "        v = soup.string\n",
      "        if v == None:   \n",
      "            c = soup.contents\n",
      "            resulttext = ''\n",
      "            for t in c:\n",
      "                subtext = self.gettextonly(t)\n",
      "                resulttext += subtext+'\\n'\n",
      "            return resulttext\n",
      "        else:\n",
      "            return v.strip()\n",
      "\n",
      "    def separatewords(self,text):\n",
      "        '''splits the sentences by the non alpha characters\n",
      "        and converts all words to lowercase'''\n",
      "        splitter = re.compile('\\\\W*', flags=re.U)\n",
      "        return [s.lower() for s in splitter.split(text) if s != '']\n",
      "\n",
      "    def getentryid(self, table, field, value, createnew=True):\n",
      "        '''Add page id to the database, if not present'''\n",
      "        q = u\"select rowid from {} where {}='{}'\"\n",
      "        cursor = self.con.execute(q.format(table,field,value))\n",
      "        result = cursor.fetchone()\n",
      "        if result == None:\n",
      "            q = u\"insert into {} ({}) values ('{}')\"\n",
      "            cursor = self.con.execute(q.format(table,field,value))\n",
      "            return cursor.lastrowid\n",
      "        else:\n",
      "            return result[0]     \n",
      "\n",
      "    def addtoindex(self,url,sopa):\n",
      "        '''Add url to the index if not there'''\n",
      "        if self.isindexed(url): \n",
      "            print(u'Page {} already indexed...'.format(url))\n",
      "            return\n",
      "        print(u'Indexing: {}'.format(url))\n",
      "        text = self.gettextonly(sopa)\n",
      "        words = self.separatewords(text)\n",
      "        urlid = self.getentryid('urllist', 'url', url)\n",
      "        for i in range(len(words)):\n",
      "            word = words[i]\n",
      "            if word in ignorewords: \n",
      "                continue\n",
      "            wordid = self.getentryid('wordlist','word',word)\n",
      "            q = u\"insert into wordlocation (urlid,wordid,location) values ({},{},{})\"\n",
      "            self.con.execute(q.format(urlid,wordid,i))\n",
      "        \n",
      "    def addlinkref(self,urlFrom,urlTo,linkText):\n",
      "        '''Add a link between two pages'''\n",
      "        words = self.separatewords(linkText)\n",
      "        fromid = self.getentryid(u'urllist',u'url', urlFrom)\n",
      "        toid = self.getentryid(u'urllist',u'url', urlTo)\n",
      "        if fromid == toid:\n",
      "            return\n",
      "        q = u\"insert into link(fromid,toid) values ({},{})\"\n",
      "        cursor = self.con.execute(q.format(fromid,toid))\n",
      "        linkid = cursor.lastrowid\n",
      "        for word in words:\n",
      "            if word in ignorewords: \n",
      "                continue\n",
      "            wordid = self.getentryid(u'wordlist',u'word', word)\n",
      "            q = u\"insert into linkwords(linkid,wordid) values ({},{})\"\n",
      "            self.con.execute(q.format(linkid,wordid))\n",
      "    \n",
      "    def crawl(self,pages,depth=1):\n",
      "        '''Starts indexing seed page(s), goes indexing all pages following\n",
      "        breadth first, until the desired depth'''\n",
      "        print(u'Seed URL(s)')        \n",
      "        for p in pages: print(p)\n",
      "        print(u'\\nIndexing from seed with depth of {}\\n'.format(depth))\n",
      "        for i in range(depth+1):\n",
      "            newpages = {}\n",
      "            for page in pages:\n",
      "                try:\n",
      "                    c = urllib2.urlopen(page)\n",
      "                except:\n",
      "                    print(u'Could not access page: {}'.format(page))\n",
      "                    continue\n",
      "                try:\n",
      "                    p = c.read()\n",
      "                    soup = BeautifulSoup(p)\n",
      "                    self.addtoindex(page,soup)\n",
      "                    links = soup(u'a')\n",
      "                    for link in links:\n",
      "                        if (u'href' in dict(link.attrs)):\n",
      "                            url = urljoin(page,link[u'href'])\n",
      "                            if url.find(u\"'\") != -1:\n",
      "                                continue\n",
      "                            url = url.split(u'#')[0]  #Keeps base url\n",
      "                            if url[0:4] == u'http' and not self.isindexed(url):\n",
      "                                newpages[url] = 1\n",
      "                            linkText = self.gettextonly(link)\n",
      "                            self.addlinkref(page,url,linkText)\n",
      "                    self.dbcommit()\n",
      "                except:\n",
      "                    print(u\"Could not parse page {}\".format(page))\n",
      "                    raise\n",
      "            self.dbcommit()\n",
      "            pages = newpages\n",
      "\n",
      "    def calculatepagerank(self,iterations=20):\n",
      "        '''Initialize each url with pagerank = 1, and iterates until\n",
      "        it reaches the limit. Calculates pagerank with damping factor'''\n",
      "        self.con.execute(u'drop table if exists pagerank')\n",
      "        self.dbcommit()\n",
      "        self.con.execute(u'create table pagerank(urlid primary key,score)')\n",
      "        for (urlid,) in self.con.execute(u'select rowid from urllist'):\n",
      "            q = u'insert into pagerank(urlid,score) values ({},1.0)'\n",
      "            self.con.execute(q.format(urlid))\n",
      "        self.dbcommit()\n",
      "        for i in range(iterations):\n",
      "            print(u\"Iteration {}\".format(i))\n",
      "            for (urlid,) in self.con.execute(u'select rowid from urllist'):\n",
      "                pr = 0.15\n",
      "                q1 = u'select distinct fromid from link where toid = {}'\n",
      "                for (linker,) in self.con.execute(q1.format(urlid)):\n",
      "                    q2 = u'select score from pagerank where urlid = {}'\n",
      "                    linkingpr = self.con.execute(q2.format(linker)).fetchone()[0]\n",
      "                    q3 = u'select count(*) from link where fromid = {}'\n",
      "                    linkingcount = self.con.execute(q3.format(linker)).fetchone()[0]\n",
      "                    pr += 0.85 * (linkingpr/linkingcount)\n",
      "                q4 = u'update pagerank set score = {} where urlid = {}'\n",
      "                self.con.execute(q4.format(pr,urlid))\n",
      "            self.dbcommit()"
     ],
     "language": "python",
     "metadata": {},
     "outputs": [],
     "prompt_number": 4
    },
    {
     "cell_type": "heading",
     "level": 4,
     "metadata": {},
     "source": [
      "Second block of classes and functions: searching"
     ]
    },
    {
     "cell_type": "code",
     "collapsed": false,
     "input": [
      "class searcher:\n",
      "    def __init__(self,dbname):\n",
      "        self.con=sqlite.connect(dbname)\n",
      "\n",
      "    def __del__(self):\n",
      "        self.con.close()\n",
      "\n",
      "    def getmatchrows(self,q):\n",
      "        fieldlist=u'w0.urlid'\n",
      "        tablelist=u''  \n",
      "        clauselist=u''\n",
      "        wordids=[]\n",
      "        words=q.split(u' ')  \n",
      "        tablenumber=0\n",
      "        for word in words:\n",
      "            q = u\"select rowid from wordlist where word='{}'\"\n",
      "            wordrow = self.con.execute(q.format(word)).fetchone()\n",
      "            if wordrow != None:\n",
      "                wordid = wordrow[0]\n",
      "                wordids.append(wordid)\n",
      "                if tablenumber > 0:\n",
      "                    tablelist += u','\n",
      "                    clauselist += u' and '\n",
      "                    clauselist += u'w{}.urlid=w{}.urlid and '.format(tablenumber-1,tablenumber)\n",
      "                fieldlist += u',w{}.location'.format(tablenumber)\n",
      "                tablelist += u'wordlocation w{}'.format(tablenumber)   \n",
      "                clauselist += u'w{}.wordid={}'.format(tablenumber,wordid)\n",
      "                tablenumber += 1\n",
      "        fullquery = u'select {} from {} where {}'.format(fieldlist,tablelist,clauselist)\n",
      "        cursor = self.con.execute(fullquery)\n",
      "        rows = [row for row in cursor]\n",
      "        return rows, wordids\n",
      "\n",
      "    def getscoredlist(self,rows,wordids):\n",
      "        totalscores = dict([(row[0],0) for row in rows])\n",
      "        weights=[(1.0,self.frequencyscore(rows)),\n",
      "                 (1.0,self.locationscore(rows)), \n",
      "                 (1.0,self.distancescore(rows)),\n",
      "                 (1.0,self.inboundlinkscore(rows)),\n",
      "                 #(1.0,self.linktextscore(rows,wordids)),\n",
      "                 (1.0,self.pagerankscore(rows))]\n",
      "        for (weight,scores) in weights:\n",
      "            for url in totalscores:\n",
      "                totalscores[url] += weight*scores[url]\n",
      "        return totalscores\n",
      "\n",
      "    def geturlname(self,id):\n",
      "        q = u\"select url from urllist where rowid = {}\"\n",
      "        return self.con.execute(q.format(id)).fetchone()[0]\n",
      "\n",
      "    def query(self,q):\n",
      "        try:\n",
      "            rows,wordids = self.getmatchrows(q)\n",
      "        except:\n",
      "            print(u'No results in the database...')\n",
      "            return\n",
      "        scores = self.getscoredlist(rows,wordids)\n",
      "        rankedscores = [(score,url) for (url,score) in scores.items()]\n",
      "        rankedscores.sort()\n",
      "        rankedscores.reverse()\n",
      "        print(u'\\nResultados para busca por {}:'.format(q))\n",
      "        for (score,urlid) in rankedscores[0:10]:\n",
      "            print(u'{}\\t{}'.format(score, self.geturlname(urlid)))\n",
      "        return wordids,[r[1] for r in rankedscores[0:10]]\n",
      "\n",
      "    def normalizescores(self,scores,smallIsBetter=0):\n",
      "        vsmall=0.00001 # Avoiding division by zero\n",
      "        if smallIsBetter:\n",
      "            minscore = min(scores.values())\n",
      "            return dict([(u,float(minscore)/max(vsmall,l)) for (u,l) in scores.items()])\n",
      "        else:\n",
      "            maxscore = max(scores.values())\n",
      "            if maxscore == 0:\n",
      "                maxscore = vsmall\n",
      "            return dict([(u,float(c)/maxscore) for (u,c) in scores.items()])\n",
      "\n",
      "    def frequencyscore(self,rows):\n",
      "        counts = dict([(row[0],0) for row in rows])\n",
      "        for row in rows:\n",
      "            counts[row[0]] += 1\n",
      "        return self.normalizescores(counts)\n",
      "\n",
      "    def locationscore(self,rows):\n",
      "        locations = dict([(row[0],1000000) for row in rows])\n",
      "        for row in rows:\n",
      "            loc = sum(row[1:])\n",
      "            if loc < locations[row[0]]:\n",
      "                locations[row[0]] = loc\n",
      "        return self.normalizescores(locations,smallIsBetter=1)\n",
      "\n",
      "    def distancescore(self,rows):\n",
      "        if len(rows[0]) <= 2: \n",
      "            return dict([(row[0],1.0) for row in rows])\n",
      "        mindistance = dict([(row[0],1000000) for row in rows])\n",
      "        for row in rows:\n",
      "            dist = sum([abs(row[i]-row[i-1]) for i in range(1,len(row))])\n",
      "            if dist < mindistance[row[0]]:\n",
      "                mindistance[row[0]]=dist\n",
      "        return self.normalizescores(mindistance,smallIsBetter=1)\n",
      "\n",
      "    def inboundlinkscore(self,rows):\n",
      "        uniqueurls = dict([(row[0],1) for row in rows])\n",
      "        q = u'select count(*) from link where toid = {}'\n",
      "        inboundcount = dict([(u,self.con.execute(q.format(u)).fetchone()[0]) for u in uniqueurls])   \n",
      "        return self.normalizescores(inboundcount)\n",
      "\n",
      "    def linktextscore(self,rows,wordids):\n",
      "        linkscores = dict([(row[0],0) for row in rows])\n",
      "        for wordid in wordids:\n",
      "            q = u'select link.fromid,link.toid from linkwords,'\n",
      "            q += u'link where wordid={} and linkwords.linkid=link.rowid'\n",
      "            cursor = self.con.execute(q.format(wordid))\n",
      "            for (fromid,toid) in cursor:\n",
      "                if toid in linkscores:\n",
      "                    q = u'select score from pagerank where urlid={}'\n",
      "                    pr=self.con.execute(q.format(fromid)).fetchone()[0]\n",
      "                    linkscores[toid] += pr\n",
      "        maxscore = max(linkscores.values())\n",
      "        normalizedscores = dict([(u,float(l)/maxscore) for (u,l) in linkscores.items()])\n",
      "        return normalizedscores\n",
      "\n",
      "    def pagerankscore(self,rows):\n",
      "        q = u'select score from pagerank where urlid={}'\n",
      "        pageranks=dict([(row[0],self.con.execute(q.format(row[0])).fetchone()[0]) for row in rows])\n",
      "        maxrank = max(pageranks.values())\n",
      "        normalizedscores = dict([(u,float(l)/maxrank) for (u,l) in pageranks.items()])\n",
      "        return normalizedscores"
     ],
     "language": "python",
     "metadata": {},
     "outputs": [],
     "prompt_number": 5
    },
    {
     "cell_type": "markdown",
     "metadata": {},
     "source": [
      "Defining seed pages"
     ]
    },
    {
     "cell_type": "code",
     "collapsed": false,
     "input": [
      "seed1 = [u'http://www.oglobo.com/']\n",
      "seed2 = [u'http://emap.fgv.br/']"
     ],
     "language": "python",
     "metadata": {},
     "outputs": [],
     "prompt_number": 6
    },
    {
     "cell_type": "markdown",
     "metadata": {},
     "source": [
      "Instantiating the crawler"
     ]
    },
    {
     "cell_type": "code",
     "collapsed": false,
     "input": [
      "crawl = crawler(db)"
     ],
     "language": "python",
     "metadata": {},
     "outputs": [],
     "prompt_number": 7
    },
    {
     "cell_type": "markdown",
     "metadata": {},
     "source": [
      "Creating tables - needed only in the first time"
     ]
    },
    {
     "cell_type": "code",
     "collapsed": false,
     "input": [
      "crawl.createindextables()"
     ],
     "language": "python",
     "metadata": {},
     "outputs": [],
     "prompt_number": 8
    },
    {
     "cell_type": "markdown",
     "metadata": {},
     "source": [
      "Crawling to a specific depth level"
     ]
    },
    {
     "cell_type": "code",
     "collapsed": false,
     "input": [
      "crawl.crawl(seed1,1)"
     ],
     "language": "python",
     "metadata": {},
     "outputs": [
      {
       "output_type": "stream",
       "stream": "stdout",
       "text": [
        "Seed URL(s)\n",
        "http://www.oglobo.com/\n",
        "\n",
        "Indexing from seed with depth of 1\n",
        "\n",
        "Indexing: http://www.oglobo.com/"
       ]
      },
      {
       "output_type": "stream",
       "stream": "stdout",
       "text": [
        "\n",
        "Indexing: http://oglobo.globo.com/principios-editoriais/"
       ]
      },
      {
       "output_type": "stream",
       "stream": "stdout",
       "text": [
        "\n",
        "Indexing: https://seguro.oglobo.com.br/assinatura/Default.aspx?id_parc=24&utm_source=venda&utm_medium=botaooglobo&utm_campaign=edicaodig"
       ]
      },
      {
       "output_type": "stream",
       "stream": "stdout",
       "text": [
        "\n",
        "Indexing: http://oglobo.globo.com/esportes/apos-titulo-hamilton-aguarda-apenas-formalidades-para-renovar-com-mercedes-14653986"
       ]
      },
      {
       "output_type": "stream",
       "stream": "stdout",
       "text": [
        "\n",
        "Indexing: http://oglobo.globo.com/sociedade/tecnologia/google-oferece-1-terabyte-de-armazenamento-gratis-nas-compras-de-computadores-chromebook-14642524"
       ]
      },
      {
       "output_type": "stream",
       "stream": "stdout",
       "text": [
        "\n",
        "Indexing: http://oglobo.globo.com/mundo/"
       ]
      },
      {
       "output_type": "stream",
       "stream": "stdout",
       "text": [
        "\n",
        "Indexing: http://oglobo.globo.com/sociedade/tecnologia/"
       ]
      },
      {
       "output_type": "stream",
       "stream": "stdout",
       "text": [
        "\n",
        "Indexing: http://oglobo.globo.com/edicoes-digitais/"
       ]
      },
      {
       "output_type": "stream",
       "stream": "stdout",
       "text": [
        "\n",
        "Indexing: http://oglobo.globo.com/cultura/nos-temos-fotos-do-seu-penis-pequeno-diz-katy-perry-paparazzi-australiano-14642334"
       ]
      },
      {
       "output_type": "stream",
       "stream": "stdout",
       "text": [
        "\n",
        "Indexing: http://oglobo.globo.com/sociedade/tecnologia/robos-humanoides-divertem-publico-em-feiras-na-espanha-china-14602127"
       ]
      },
      {
       "output_type": "stream",
       "stream": "stdout",
       "text": [
        "\n",
        "Indexing: http://oglobo.globo.com/sociedade/saude/mae-em-fase-terminal-pode-ter-ultimo-natal-apos-medicos-confundirem-sintomas-do-cancer-com-gravidez-14653791"
       ]
      },
      {
       "output_type": "stream",
       "stream": "stdout",
       "text": [
        "\n",
        "Indexing: http://oglobo.globo.com/economia/negocios/petrobras-tem-alta-forte-deixa-bolsa-brasileira-em-terreno-positivo-14653956"
       ]
      },
      {
       "output_type": "stream",
       "stream": "stdout",
       "text": [
        "\n",
        "Indexing: http://oglobo.globo.com/sociedade/sustentabilidade/"
       ]
      },
      {
       "output_type": "stream",
       "stream": "stdout",
       "text": [
        "\n",
        "Indexing: http://oglobo.globo.com/estilo/boa-viagem/aviacao/"
       ]
      },
      {
       "output_type": "stream",
       "stream": "stdout",
       "text": [
        "\n",
        "Indexing: http://ela.oglobo.globo.com/beleza/ex-modelo-da-victorias-secret-conta-como-perdeu-os-20-quilos-que-ganhou-durante-gravidez-14642441"
       ]
      },
      {
       "output_type": "stream",
       "stream": "stdout",
       "text": [
        "\n",
        "Indexing: http://oglobo.globo.com/cultura/estelita-video-ocupa-causa-14650840"
       ]
      },
      {
       "output_type": "stream",
       "stream": "stdout",
       "text": [
        "\n",
        "Indexing: http://oglobo.globo.com/sociedade/saude/mortes-por-ebola-sobem-para-5459-mali-registra-novo-caso-14634618"
       ]
      },
      {
       "output_type": "stream",
       "stream": "stdout",
       "text": [
        "\n",
        "Indexing: http://oglobo.globo.com/ebooks/index.jsp"
       ]
      },
      {
       "output_type": "stream",
       "stream": "stdout",
       "text": [
        "\n",
        "Indexing: https://defesa.oglobo.com.br/"
       ]
      },
      {
       "output_type": "stream",
       "stream": "stdout",
       "text": [
        "\n",
        "Indexing: http://oglobo.globo.com/rio/rio-2016/prefeitura-transfere-vila-de-acomodacoes-dos-jogos-para-conjunto-do-minha-casa-minha-vida-14641852"
       ]
      },
      {
       "output_type": "stream",
       "stream": "stdout",
       "text": [
        "\n",
        "Indexing: http://oglobo.globo.com/sociedade/tedglobal-2014/"
       ]
      },
      {
       "output_type": "stream",
       "stream": "stdout",
       "text": [
        "\n",
        "Indexing: http://oglobo.globo.com/economia/imoveis/custo-da-construcao-se-mantem-praticamente-estavel-em-novembro-diz-fgv-14653444"
       ]
      },
      {
       "output_type": "stream",
       "stream": "stdout",
       "text": [
        "\n",
        "Indexing: http://oglobo.globo.com/opiniao/tunisia-mantem-viva-primavera-arabe-14649890"
       ]
      },
      {
       "output_type": "stream",
       "stream": "stdout",
       "text": [
        "\n",
        "Indexing: http://oglobo.globo.com/rio/estudantes-da-ufrj-inauguram-predio-fantasma-14651372"
       ]
      },
      {
       "output_type": "stream",
       "stream": "stdout",
       "text": [
        "\n",
        "Indexing: http://oglobo.globo.com/mundo/estudantes-de-escolas-em-distrito-de-londres-estao-vulneraveis-ao-extremismo-islamico-14651284"
       ]
      },
      {
       "output_type": "stream",
       "stream": "stdout",
       "text": [
        "\n",
        "Indexing: http://classificadosdorio.globo.com/"
       ]
      },
      {
       "output_type": "stream",
       "stream": "stdout",
       "text": [
        "\n",
        "Indexing: http://oglobo.globo.com/estilo/boa-viagem/"
       ]
      },
      {
       "output_type": "stream",
       "stream": "stdout",
       "text": [
        "\n",
        "Indexing: http://oglobo.globo.com/sociedade/historia/"
       ]
      },
      {
       "output_type": "stream",
       "stream": "stdout",
       "text": [
        "\n",
        "Indexing: http://oglobo.globo.com/economia/implosao-demografica/"
       ]
      },
      {
       "output_type": "stream",
       "stream": "stdout",
       "text": [
        "\n",
        "Indexing: http://oglobo.globo.com/brasil/petrobras-notificada-por-orgao-regulador-americano-14649609"
       ]
      },
      {
       "output_type": "stream",
       "stream": "stdout",
       "text": [
        "\n",
        "Indexing: http://oglobo.globo.com/mundo/obama-pede-calma-apos-disturbios-em-ferguson-14653248"
       ]
      },
      {
       "output_type": "stream",
       "stream": "stdout",
       "text": [
        "\n",
        "Indexing: http://oglobo.globo.com/sociedade/sexo/"
       ]
      },
      {
       "output_type": "stream",
       "stream": "stdout",
       "text": [
        "\n",
        "Indexing: http://oglobo.globo.com/esportes/flamengo/"
       ]
      },
      {
       "output_type": "stream",
       "stream": "stdout",
       "text": [
        "\n",
        "Indexing: http://oglobo.globo.com/estilo/boa-viagem/festivais-gastronomicos-em-petropolis-visconde-de-maua-sao-destaque-nos-arredores-do-rio-14626727"
       ]
      },
      {
       "output_type": "stream",
       "stream": "stdout",
       "text": [
        "\n",
        "Indexing: http://oglobo.globo.com/sociedade/tecnologia/no-banco-dos-reus-uber-14650648"
       ]
      },
      {
       "output_type": "stream",
       "stream": "stdout",
       "text": [
        "\n",
        "Indexing: http://oglobo.globo.com/mundo/muro-de-berlim/"
       ]
      },
      {
       "output_type": "stream",
       "stream": "stdout",
       "text": [
        "\n",
        "Indexing: http://oglobo.globo.com/sociedade/lego-incluia-licao-de-igualdade-de-genero-em-suas-caixas-de-brinquedo-na-decada-de-70-14646872"
       ]
      },
      {
       "output_type": "stream",
       "stream": "stdout",
       "text": [
        "\n",
        "Indexing: http://oglobo.globo.com/estilo/boa-viagem/hoteis/"
       ]
      },
      {
       "output_type": "stream",
       "stream": "stdout",
       "text": [
        "\n",
        "Indexing: http://extra.globo.com/"
       ]
      },
      {
       "output_type": "stream",
       "stream": "stdout",
       "text": [
        "\n",
        "Indexing: http://oglobo.globo.com/economia/nova-equipe-prepara-medidas-para-recuperar-credibilidade-do-governo-destravar-economia-14641504"
       ]
      },
      {
       "output_type": "stream",
       "stream": "stdout",
       "text": [
        "\n",
        "Indexing: http://oglobo.globo.com/sociedade/ciencia/"
       ]
      },
      {
       "output_type": "stream",
       "stream": "stdout",
       "text": [
        "\n",
        "Indexing: http://oglobo.globo.com/mundo/iraque/"
       ]
      },
      {
       "output_type": "stream",
       "stream": "stdout",
       "text": [
        "\n",
        "Indexing: http://facebook.com/JornalOGlobo"
       ]
      },
      {
       "output_type": "stream",
       "stream": "stdout",
       "text": [
        "\n",
        "Indexing: http://oglobo.globo.com/rio/corte-de-palmeiras-imperiais-vira-polemica-na-ilha-grande-14651046"
       ]
      },
      {
       "output_type": "stream",
       "stream": "stdout",
       "text": [
        "\n",
        "Indexing: http://oglobo.globo.com/rio/bairros/feira-promove-negocios-entre-fornecedores-dos-jogos-olimpicos-14653920"
       ]
      },
      {
       "output_type": "stream",
       "stream": "stdout",
       "text": [
        "\n",
        "Indexing: http://oglobo.globo.com/brasil/reforma-politica/"
       ]
      },
      {
       "output_type": "stream",
       "stream": "stdout",
       "text": [
        "\n",
        "Indexing: http://acervo.oglobo.globo.com/em-destaque/com-chancela-de-nobel-idh-criado-em-90-para-medir-desenvolvimento-de-paises-13370368"
       ]
      },
      {
       "output_type": "stream",
       "stream": "stdout",
       "text": [
        "\n",
        "Indexing: http://oglobo.globo.com/economia/defesa-do-consumidor/como-nao-gastar-mais-do-que-necessario-na-black-friday-14647423"
       ]
      },
      {
       "output_type": "stream",
       "stream": "stdout",
       "text": [
        "\n",
        "Indexing: http://oglobo.globo.com/esportes/barcelona-enfrenta-apoel-com-lionel-messi-de-olho-em-mais-um-recorde-14653368"
       ]
      },
      {
       "output_type": "stream",
       "stream": "stdout",
       "text": [
        "\n",
        "Indexing: http://oglobo.globo.com/sociedade/ciencia/nova-especie-de-camarao-que-brilha-no-escuro-pode-ser-chave-para-vida-alienigena-14647742"
       ]
      },
      {
       "output_type": "stream",
       "stream": "stdout",
       "text": [
        "\n",
        "Indexing: http://oglobo.globo.com/cultura/teatro/"
       ]
      },
      {
       "output_type": "stream",
       "stream": "stdout",
       "text": [
        "\n",
        "Indexing: http://oglobo.globo.com/opiniao/autocritica-de-globo-em-22-23-24-de-novembro-de-2014-14648970"
       ]
      },
      {
       "output_type": "stream",
       "stream": "stdout",
       "text": [
        "\n",
        "Indexing: http://oglobo.globo.com/esportes/vasco/"
       ]
      },
      {
       "output_type": "stream",
       "stream": "stdout",
       "text": [
        "\n",
        "Indexing: http://rioshow.oglobo.globo.com/cinema/filmes/boa-sorte-11289.aspx"
       ]
      },
      {
       "output_type": "stream",
       "stream": "stdout",
       "text": [
        "\n",
        "Indexing: http://oglobo.globo.com/mundo/kerry-quer-apoio-do-congresso-para-estender-negociacoes-com-ira-14647572"
       ]
      },
      {
       "output_type": "stream",
       "stream": "stdout",
       "text": [
        "\n",
        "Indexing: http://oglobo.globo.com/rio/niteroi/"
       ]
      },
      {
       "output_type": "stream",
       "stream": "stdout",
       "text": [
        "\n",
        "Indexing: http://oglobo.globo.com/cultura/filmes/livro-mostra-como-pixar-revolucionou-cinema-de-animacao-atraiu-disney-14639919"
       ]
      },
      {
       "output_type": "stream",
       "stream": "stdout",
       "text": [
        "\n",
        "Indexing: http://www.oglobovairio.com.br/"
       ]
      },
      {
       "output_type": "stream",
       "stream": "stdout",
       "text": [
        "\n",
        "Indexing: http://oglobo.globo.com/blogs/pagenotfound/posts/2014/11/24/professor-suspenso-apos-tentar-jogar-aluna-em-piscina-555405.asp"
       ]
      },
      {
       "output_type": "stream",
       "stream": "stdout",
       "text": [
        "\n",
        "Indexing: https://twitter.com/JornalOGlobo"
       ]
      },
      {
       "output_type": "stream",
       "stream": "stdout",
       "text": [
        "\n",
        "Indexing: http://oglobo.globo.com/esportes/joel-quer-escalar-time-titular-contra-avai-14652718"
       ]
      },
      {
       "output_type": "stream",
       "stream": "stdout",
       "text": [
        "\n",
        "Indexing: http://oglobo.globo.com/economia/emprego/ciee-mudes-tem-1242-vagas-esta-semana-14652688"
       ]
      },
      {
       "output_type": "stream",
       "stream": "stdout",
       "text": [
        "\n",
        "Indexing: http://oglobo.globo.com/economia/imoveis/"
       ]
      },
      {
       "output_type": "stream",
       "stream": "stdout",
       "text": [
        "\n",
        "Indexing: http://oglobo.globo.com/cultura/duplas-identidades-14650919"
       ]
      },
      {
       "output_type": "stream",
       "stream": "stdout",
       "text": [
        "\n",
        "Indexing: http://oglobo.globo.com/esportes/no-lugar-do-48-goleiro-do-fla-paulo-victor-ficara-com-numero-1-14649217"
       ]
      },
      {
       "output_type": "stream",
       "stream": "stdout",
       "text": [
        "\n",
        "Indexing: http://oglobo.globo.com/cultura/revista-da-tv/resumos-das-novelas-veja-que-acontece-nos-capitulos-desta-terca-14643835"
       ]
      },
      {
       "output_type": "stream",
       "stream": "stdout",
       "text": [
        "\n",
        "Indexing: http://www.patriciakogut.com.br"
       ]
      },
      {
       "output_type": "stream",
       "stream": "stdout",
       "text": [
        "\n",
        "Indexing: http://rioshow.oglobo.globo.com/teatro-e-danca/pecas/teatro-para-todos-2014-11771.aspx"
       ]
      },
      {
       "output_type": "stream",
       "stream": "stdout",
       "text": [
        "\n",
        "Indexing: http://oglobo.globo.com/rio/rio-2016/"
       ]
      },
      {
       "output_type": "stream",
       "stream": "stdout",
       "text": [
        "\n",
        "Indexing: http://kogut.oglobo.globo.com/"
       ]
      },
      {
       "output_type": "stream",
       "stream": "stdout",
       "text": [
        "\n",
        "Indexing: http://oglobo.globo.com/opiniao/a-propina-da-propina-14649970"
       ]
      },
      {
       "output_type": "stream",
       "stream": "stdout",
       "text": [
        "\n",
        "Indexing: http://oglobo.globo.com/estilo/carros/"
       ]
      },
      {
       "output_type": "stream",
       "stream": "stdout",
       "text": [
        "\n",
        "Indexing: http://oglobo.globo.com/cultura/livros/"
       ]
      },
      {
       "output_type": "stream",
       "stream": "stdout",
       "text": [
        "\n",
        "Indexing: http://www.agenciaoglobo.com.br/"
       ]
      },
      {
       "output_type": "stream",
       "stream": "stdout",
       "text": [
        "\n",
        "Indexing: http://oglobo.globo.com/economia/emprego/semana-comeca-com-nove-concursos-que-somam-920-vagas-14642519"
       ]
      },
      {
       "output_type": "stream",
       "stream": "stdout",
       "text": [
        "\n",
        "Indexing: http://oglobo.globo.com/cultura/filmes/oscar-isaac-sera-vilao-apocalipse-no-novo-men-14649185"
       ]
      },
      {
       "output_type": "stream",
       "stream": "stdout",
       "text": [
        "\n",
        "Indexing: http://oglobo.globo.com/brasil/sondas-de-exploracao-do-pre-sal-foram-pagas-antes-das-obras-iniciadas-14651410"
       ]
      },
      {
       "output_type": "stream",
       "stream": "stdout",
       "text": [
        "\n",
        "Indexing: http://oglobo.globo.com/mobile/"
       ]
      },
      {
       "output_type": "stream",
       "stream": "stdout",
       "text": [
        "\n",
        "Could not access page: http://www.vagas.com.br/infoglobo"
       ]
      },
      {
       "output_type": "stream",
       "stream": "stdout",
       "text": [
        "\n",
        "Indexing: http://rioshow.oglobo.globo.com/exposicoes/home.aspx"
       ]
      },
      {
       "output_type": "stream",
       "stream": "stdout",
       "text": [
        "\n",
        "Indexing: http://oglobo.globo.com/mundo/ataque-coordenado-de-duas-mulheres-bomba-mata-cerca-de-30-pessoas-na-nigeria-14654047"
       ]
      },
      {
       "output_type": "stream",
       "stream": "stdout",
       "text": [
        "\n",
        "Indexing: http://oglobo.globo.com/cultura/xexeo/"
       ]
      },
      {
       "output_type": "stream",
       "stream": "stdout",
       "text": [
        "\n",
        "Indexing: http://memoria.oglobo.globo.com/"
       ]
      },
      {
       "output_type": "stream",
       "stream": "stdout",
       "text": [
        "\n",
        "Indexing: http://oglobo.globo.com/esportes/fluminense/"
       ]
      },
      {
       "output_type": "stream",
       "stream": "stdout",
       "text": [
        "\n",
        "Indexing: http://oglobo.globo.com/economia/defesa-do-consumidor/"
       ]
      },
      {
       "output_type": "stream",
       "stream": "stdout",
       "text": [
        "\n",
        "Indexing: http://oglobo.globo.com/cultura/globo-de-ouro-2014/"
       ]
      },
      {
       "output_type": "stream",
       "stream": "stdout",
       "text": [
        "\n",
        "Indexing: http://oglobo.globo.com/videos/"
       ]
      },
      {
       "output_type": "stream",
       "stream": "stdout",
       "text": [
        "\n",
        "Indexing: http://oglobo.globo.com/brasil/executivos-da-lava-jato-podem-ser-processados-com-base-em-lei-anticorrupcao-dos-eua-14640751"
       ]
      },
      {
       "output_type": "stream",
       "stream": "stdout",
       "text": [
        "\n",
        "Indexing: http://oglobo.globo.com/sociedade/o-rio-visto-de-cima-nas-decadas-de-1930-1940-14630746"
       ]
      },
      {
       "output_type": "stream",
       "stream": "stdout",
       "text": [
        "\n",
        "Indexing: http://oglobo.globo.com/economia/entenda-que-o-idh-14653710"
       ]
      },
      {
       "output_type": "stream",
       "stream": "stdout",
       "text": [
        "\n",
        "Indexing: http://oglobo.globo.com/sociedade/religiao/arcebispo-se-recusa-crismar-filho-de-mafioso-condenado-em-palermo-na-italia-14653104"
       ]
      },
      {
       "output_type": "stream",
       "stream": "stdout",
       "text": [
        "\n",
        "Indexing: http://oglobo.globo.com/sociedade/ciencia/parques-nacionais/"
       ]
      },
      {
       "output_type": "stream",
       "stream": "stdout",
       "text": [
        "\n",
        "Indexing: http://oglobo.globo.com/cultura/revista-da-tv/veja-detalhes-da-casa-do-escritorio-de-maria-adelaide-amaral-14626863"
       ]
      },
      {
       "output_type": "stream",
       "stream": "stdout",
       "text": [
        "\n",
        "Indexing: http://oglobo.globo.com/blogs/pagenotfound/posts/2014/11/24/professor-preso-apos-oferecer-contrato-sexual-aluna-de-16-anos-555437.asp"
       ]
      },
      {
       "output_type": "stream",
       "stream": "stdout",
       "text": [
        "\n",
        "Indexing: http://oglobo.globo.com/rio/bairros/de-saida-do-barrashopping-antiquarius-reclama-do-aluguel-mas-administracao-fala-em-inadimplencia-14650046"
       ]
      },
      {
       "output_type": "stream",
       "stream": "stdout",
       "text": [
        "\n",
        "Indexing: http://oglobo.globo.com/economia/miriam/"
       ]
      },
      {
       "output_type": "stream",
       "stream": "stdout",
       "text": [
        "\n",
        "Indexing: http://oglobo.globo.com/sociedade/tecnologia/games/"
       ]
      },
      {
       "output_type": "stream",
       "stream": "stdout",
       "text": [
        "\n",
        "Indexing: http://acervo.oglobo.globo.com/fatos-historicos/multidao-se-despediu-de-villa-lobos-em-cortejo-pelas-ruas-do-rio-em-1959-14582483"
       ]
      },
      {
       "output_type": "stream",
       "stream": "stdout",
       "text": [
        "\n",
        "Indexing: http://oglobo.globo.com/sociedade/educacao/educacao-360/"
       ]
      },
      {
       "output_type": "stream",
       "stream": "stdout",
       "text": [
        "\n",
        "Indexing: http://oglobo.globo.com/cultura/filmes/"
       ]
      },
      {
       "output_type": "stream",
       "stream": "stdout",
       "text": [
        "\n",
        "Indexing: http://ela.oglobo.globo.com/moda/filho-de-pierce-brosnan-estreia-como-modelo-para-saint-laurent-14649836"
       ]
      },
      {
       "output_type": "stream",
       "stream": "stdout",
       "text": [
        "\n",
        "Indexing: http://oglobo.globo.com/cultura/revista-da-tv/apos-fas-pedirem-klebber-toledo-em-foto-de-marina-com-namorado-ator-comenta-polemica-fico-feliz-14646545"
       ]
      },
      {
       "output_type": "stream",
       "stream": "stdout",
       "text": [
        "\n",
        "Indexing: http://oglobo.globo.com/estilo/boa-viagem/praias-de-trairi-no-ceara-14597584"
       ]
      },
      {
       "output_type": "stream",
       "stream": "stdout",
       "text": [
        "\n",
        "Indexing: http://oglobo.globo.com/brasil/cpi-da-petrobras/"
       ]
      },
      {
       "output_type": "stream",
       "stream": "stdout",
       "text": [
        "\n",
        "Indexing: http://oglobo.globo.com/servicos/tempo/"
       ]
      },
      {
       "output_type": "stream",
       "stream": "stdout",
       "text": [
        "\n",
        "Indexing: http://oglobo.globo.com/cultura/"
       ]
      },
      {
       "output_type": "stream",
       "stream": "stdout",
       "text": [
        "\n",
        "Indexing: http://www.oglobo.com/ultimas-noticias/"
       ]
      },
      {
       "output_type": "stream",
       "stream": "stdout",
       "text": [
        "\n",
        "Indexing: http://oglobo.globo.com/rio/numero-de-religioes-que-usam-ayahuasca-se-multiplica-no-rio-que-ja-tem-30-igrejas-14650868"
       ]
      },
      {
       "output_type": "stream",
       "stream": "stdout",
       "text": [
        "\n",
        "Indexing: http://oglobo.globo.com/esportes/sorteio-da-copa-america-2015-14651194"
       ]
      },
      {
       "output_type": "stream",
       "stream": "stdout",
       "text": [
        "\n",
        "Indexing: http://oglobo.globo.com/eu-reporter/"
       ]
      },
      {
       "output_type": "stream",
       "stream": "stdout",
       "text": [
        "\n",
        "Indexing: http://oglobo.globo.com/sociedade/saude/oms-ebola-esta-relativamente-estavel-na-guine-1-14638100"
       ]
      },
      {
       "output_type": "stream",
       "stream": "stdout",
       "text": [
        "\n",
        "Indexing: http://oglobo.globo.com/brasil/"
       ]
      },
      {
       "output_type": "stream",
       "stream": "stdout",
       "text": [
        "\n",
        "Indexing: http://oglobo.globo.com/esportes/brasileirao-2014/"
       ]
      },
      {
       "output_type": "stream",
       "stream": "stdout",
       "text": [
        "\n",
        "Indexing: http://www.gda.com/"
       ]
      },
      {
       "output_type": "stream",
       "stream": "stdout",
       "text": [
        "\n",
        "Indexing: http://oglobo.globo.com/sociedade/tecnologia/poderia-ucrania-ser-novo-vale-do-silicio-14643944"
       ]
      },
      {
       "output_type": "stream",
       "stream": "stdout",
       "text": [
        "\n",
        "Indexing: http://oglobo.globo.com/esportes/clima-de-fim-de-festa-no-fluminense-14649098"
       ]
      },
      {
       "output_type": "stream",
       "stream": "stdout",
       "text": [
        "\n",
        "Indexing: http://oglobo.globo.com/cultura/revista-da-tv/pc-tavares-fingem-que-sao-um-casal-no-episodio-desta-terca-de-tapas-beijos-14649957"
       ]
      },
      {
       "output_type": "stream",
       "stream": "stdout",
       "text": [
        "\n",
        "Indexing: http://oglobo.globo.com/rio/serra/"
       ]
      },
      {
       "output_type": "stream",
       "stream": "stdout",
       "text": [
        "\n",
        "Indexing: http://oglobo.globo.com/economia/com-alta-de-02-pib-devera-reverter-recessao-tecnica-14652015"
       ]
      },
      {
       "output_type": "stream",
       "stream": "stdout",
       "text": [
        "\n",
        "Indexing: http://oglobo.globo.com/economia/numero-de-automoveis-no-pais-deve-quadruplicar-ate-2050-14651507"
       ]
      },
      {
       "output_type": "stream",
       "stream": "stdout",
       "text": [
        "\n",
        "Indexing: http://oglobo.globo.com/fale-conosco"
       ]
      },
      {
       "output_type": "stream",
       "stream": "stdout",
       "text": [
        "\n",
        "Indexing: http://oglobo.globo.com/cultura/filmes/christian-bale-admite-que-sentiu-inveja-da-escolha-de-ben-affleck-para-viver-batman-14648533"
       ]
      },
      {
       "output_type": "stream",
       "stream": "stdout",
       "text": [
        "\n",
        "Indexing: http://oglobo.globo.com/economia/emprego/onu-contrata-brasileiros-para-trabalhar-aqui-no-exterior-14647522"
       ]
      },
      {
       "output_type": "stream",
       "stream": "stdout",
       "text": [
        "\n",
        "Indexing: http://oglobo.globo.com/mundo/quatro-casos-de-jovens-negros-mortos-pela-policia-nos-eua-14645703"
       ]
      },
      {
       "output_type": "stream",
       "stream": "stdout",
       "text": [
        "\n",
        "Indexing: http://oglobo.globo.com/brasil/temer-diz-que-ida-de-katia-abreu-para-agricultura-nao-esta-decidida-14649309"
       ]
      },
      {
       "output_type": "stream",
       "stream": "stdout",
       "text": [
        "\n",
        "Indexing: http://ela.oglobo.globo.com/vida/kate-middleton-esta-em-busca-de-uma-companheira-para-principe-harry-nao-uma-moca-14644493"
       ]
      },
      {
       "output_type": "stream",
       "stream": "stdout",
       "text": [
        "\n",
        "Indexing: http://oglobo.globo.com/termos-de-uso/"
       ]
      },
      {
       "output_type": "stream",
       "stream": "stdout",
       "text": [
        "\n",
        "Indexing: http://acervo.oglobo.globo.com/fatos-historicos/uma-mulher-nao-se-levanta-para-racismo-no-sul-dos-estados-unidos-9728203"
       ]
      },
      {
       "output_type": "stream",
       "stream": "stdout",
       "text": [
        "\n",
        "Indexing: http://oglobo.globo.com/blogs/ilimar/"
       ]
      },
      {
       "output_type": "stream",
       "stream": "stdout",
       "text": [
        "\n",
        "Indexing: http://oglobo.globo.com/economia/indicadores/"
       ]
      },
      {
       "output_type": "stream",
       "stream": "stdout",
       "text": [
        "\n",
        "Indexing: http://www.oglobo.com.br/ativacaodigital"
       ]
      },
      {
       "output_type": "stream",
       "stream": "stdout",
       "text": [
        "\n",
        "Indexing: http://oglobo.globo.com/rio/rio-gastronomia-2014/"
       ]
      },
      {
       "output_type": "stream",
       "stream": "stdout",
       "text": [
        "\n",
        "Indexing: http://oglobo.globo.com/sociedade/saude/encontros-o-globo-saude-e-bem-estar/"
       ]
      },
      {
       "output_type": "stream",
       "stream": "stdout",
       "text": [
        "\n",
        "Indexing: http://kogut.oglobo.globo.com/noticias-da-tv/coluna/noticia/2014/11/carolina-dieckmann-filma-no-uruguai-com-ator-de-relatos-selvagens.html"
       ]
      },
      {
       "output_type": "stream",
       "stream": "stdout",
       "text": [
        "\n",
        "Indexing: http://oglobo.globo.com/pais/moreno/"
       ]
      },
      {
       "output_type": "stream",
       "stream": "stdout",
       "text": [
        "\n",
        "Indexing: http://oglobo.globo.com/cultura/musica/critica-respeito-arte-de-paul-mccartney-14648973"
       ]
      },
      {
       "output_type": "stream",
       "stream": "stdout",
       "text": [
        "\n",
        "Indexing: http://oglobo.globo.com/rio/defesa-de-ricardo-teixeira-da-cruz-miliciano-conhecido-como-batman-quer-adiar-julgamento-14649167"
       ]
      },
      {
       "output_type": "stream",
       "stream": "stdout",
       "text": [
        "\n",
        "Indexing: http://oglobo.globo.com/eu-reporter/carro-de-placa-azul-ocupa-calcada-na-lapa-irregularmente-14648151"
       ]
      },
      {
       "output_type": "stream",
       "stream": "stdout",
       "text": [
        "\n",
        "Indexing: http://oglobo.globo.com/brasil/comissao-da-verdade/"
       ]
      },
      {
       "output_type": "stream",
       "stream": "stdout",
       "text": [
        "\n",
        "Indexing: http://oglobo.globo.com/sociedade/tecnologia/descoberto-virus-que-espiona-governos-empresas-cidadaos-ha-seis-anos-14640176"
       ]
      },
      {
       "output_type": "stream",
       "stream": "stdout",
       "text": [
        "\n",
        "Indexing: http://oglobo.globo.com/sociedade/conte-algo-que-nao-sei/"
       ]
      },
      {
       "output_type": "stream",
       "stream": "stdout",
       "text": [
        "\n",
        "Indexing: http://oglobo.globo.com/cultura/revista-da-tv/atores-de-joia-rara-comemoram-vitoria-da-trama-no-emmy-internacional-14653308"
       ]
      },
      {
       "output_type": "stream",
       "stream": "stdout",
       "text": [
        "\n",
        "Indexing: http://oglobo.globo.com/economia/em-dez-anos-cai-desigualdade-em-16-regioes-metropolitanas-do-brasil-14653676"
       ]
      },
      {
       "output_type": "stream",
       "stream": "stdout",
       "text": [
        "\n",
        "Indexing: http://ela.oglobo.globo.com/decoracao/o-que-ter-como-decorar-mesa-de-cabeceira-14410135"
       ]
      },
      {
       "output_type": "stream",
       "stream": "stdout",
       "text": [
        "\n",
        "Indexing: http://www.centraldoassinante.oglobo.com.br"
       ]
      },
      {
       "output_type": "stream",
       "stream": "stdout",
       "text": [
        "\n",
        "Indexing: http://oglobo.globo.com/cultura/artrio-2014/"
       ]
      },
      {
       "output_type": "stream",
       "stream": "stdout",
       "text": [
        "\n",
        "Indexing: http://oglobo.globo.com/brasil/operacao-gringo-coronel-malhaes-combateu-montoneros-argentinos-em-viagens-secretas-14640041"
       ]
      },
      {
       "output_type": "stream",
       "stream": "stdout",
       "text": [
        "\n",
        "Indexing: http://ela.oglobo.globo.com/decoracao/madeiras-de-demolicao-vidros-sistema-de-reaproveitamento-de-agua-dao-um-toque-de-sustentabilidade-casa-14540316"
       ]
      },
      {
       "output_type": "stream",
       "stream": "stdout",
       "text": [
        "\n",
        "Indexing: http://ela.oglobo.globo.com/vida/eu-poderia-ser-passeador-de-caes-diz-tita-paulo-miklos-14605142"
       ]
      },
      {
       "output_type": "stream",
       "stream": "stdout",
       "text": [
        "\n",
        "Indexing: http://oglobo.globo.com/expediente/"
       ]
      },
      {
       "output_type": "stream",
       "stream": "stdout",
       "text": [
        "\n",
        "Indexing: http://oglobo.globo.com/blogs/radarolimpico/"
       ]
      },
      {
       "output_type": "stream",
       "stream": "stdout",
       "text": [
        "\n",
        "Indexing: http://oglobo.globo.com/economia/"
       ]
      },
      {
       "output_type": "stream",
       "stream": "stdout",
       "text": [
        "\n",
        "Indexing: http://oglobo.globo.com/rio/ancelmo/"
       ]
      },
      {
       "output_type": "stream",
       "stream": "stdout",
       "text": [
        "\n",
        "Indexing: http://oglobo.globo.com/mundo/juri-livra-policial-que-matou-adolescente-negro-no-missouri-14652152"
       ]
      },
      {
       "output_type": "stream",
       "stream": "stdout",
       "text": [
        "\n",
        "Indexing: http://oglobo.globo.com/sociedade/tecnologia/black-friday-previsao-de-estoques-esgotados-de-tabuleiros-ouija-no-reino-unido-14653218"
       ]
      },
      {
       "output_type": "stream",
       "stream": "stdout",
       "text": [
        "\n",
        "Indexing: http://memoria.oglobo.globo.com/jornalismo/reportagens/2013/09/30/segredos-do-vaticano"
       ]
      },
      {
       "output_type": "stream",
       "stream": "stdout",
       "text": [
        "\n",
        "Indexing: http://oglobo.globo.com/rio/policial-militar-da-upp-da-vila-kennedy-torturado-morto-tiros-em-bangu-14652273"
       ]
      },
      {
       "output_type": "stream",
       "stream": "stdout",
       "text": [
        "\n",
        "Indexing: http://oglobo.globo.com/economia/defesa-do-consumidor/procon-sp-tera-atendimento-24h-durante-black-friday-14652835"
       ]
      },
      {
       "output_type": "stream",
       "stream": "stdout",
       "text": [
        "\n",
        "Indexing: http://oglobo.globo.com/sociedade/ciencia/chimpanzes-do-sexo-masculino-tem-criacao-mais-liberal-do-que-as-femeas-14650724"
       ]
      },
      {
       "output_type": "stream",
       "stream": "stdout",
       "text": [
        "\n",
        "Indexing: http://oglobo.globo.com/esportes/rmp/"
       ]
      },
      {
       "output_type": "stream",
       "stream": "stdout",
       "text": [
        "\n",
        "Indexing: http://oglobo.globo.com/brasil/lider-do-pt-sai-em-defesa-de-joaquim-levy-na-fazenda-para-evitar-fritura-antecipada-14647766"
       ]
      },
      {
       "output_type": "stream",
       "stream": "stdout",
       "text": [
        "\n",
        "Indexing: http://oglobo.globo.com/brasil/adarico-negromonte-se-entrega-pf-em-curitiba-14644127"
       ]
      },
      {
       "output_type": "stream",
       "stream": "stdout",
       "text": [
        "\n",
        "Indexing: http://oglobo.globo.com/sociedade/educacao/"
       ]
      },
      {
       "output_type": "stream",
       "stream": "stdout",
       "text": [
        "\n",
        "Indexing: http://oglobo.globo.com/mundo/tres-suspeitos-de-ataque-israelenses-sao-presos-em-jerusalem-14651595"
       ]
      },
      {
       "output_type": "stream",
       "stream": "stdout",
       "text": [
        "\n",
        "Indexing: http://oglobo.globo.com/estilo/"
       ]
      },
      {
       "output_type": "stream",
       "stream": "stdout",
       "text": [
        "\n",
        "Indexing: http://oglobo.globo.com/blogs/pagenotfound/posts/2014/11/24/policia-procura-podolatra-que-fez-ataques-sexuais-em-serie-555407.asp"
       ]
      },
      {
       "output_type": "stream",
       "stream": "stdout",
       "text": [
        "\n",
        "Indexing: http://oglobo.globo.com/esportes/mascotes-olimpico-paralimpico-sao-apresentados-oficialmente-no-rio-14645842"
       ]
      },
      {
       "output_type": "stream",
       "stream": "stdout",
       "text": [
        "\n",
        "Indexing: https://seguro.oglobo.com.br/assinatura/Default.aspx?id_parc=26&utm_source=venda&utm_medium=botaooglobo&utm_campaign=footer"
       ]
      },
      {
       "output_type": "stream",
       "stream": "stdout",
       "text": [
        "\n",
        "Indexing: http://oglobo.globo.com/rio/tijuca/"
       ]
      },
      {
       "output_type": "stream",
       "stream": "stdout",
       "text": [
        "\n",
        "Indexing: http://oglobo.globo.com/rio/rio-450/"
       ]
      },
      {
       "output_type": "stream",
       "stream": "stdout",
       "text": [
        "\n",
        "Indexing: http://oglobo.globo.com/rio/barra/"
       ]
      },
      {
       "output_type": "stream",
       "stream": "stdout",
       "text": [
        "\n",
        "Indexing: http://shopping.oglobo.com.br/"
       ]
      },
      {
       "output_type": "stream",
       "stream": "stdout",
       "text": [
        "\n",
        "Indexing: http://oglobo.globo.com/sociedade/ciencia/artista-americana-imagina-como-seriam-filhotes-de-foca-com-pinguim-14645234"
       ]
      },
      {
       "output_type": "stream",
       "stream": "stdout",
       "text": [
        "\n",
        "Indexing: http://oglobo.globo.com/blogs/pagenotfound/posts/2014/11/24/caminhao-voa-sobre-carro-de-1-bate-recorde-mundial-555404.asp"
       ]
      },
      {
       "output_type": "stream",
       "stream": "stdout",
       "text": [
        "\n",
        "Indexing: http://rioshow.oglobo.globo.com"
       ]
      },
      {
       "output_type": "stream",
       "stream": "stdout",
       "text": [
        "\n",
        "Indexing: http://oglobo.globo.com/sociedade/cinco-coisas-que-nao-devem-ir-para-cama-com-voce-14646583"
       ]
      },
      {
       "output_type": "stream",
       "stream": "stdout",
       "text": [
        "\n",
        "Indexing: http://oglobo.globo.com/sociedade/saude/cancer-a-doenca-que-mais-mata-criancas-mas-diagnostico-prematuro-chave-para-cura-14635611"
       ]
      },
      {
       "output_type": "stream",
       "stream": "stdout",
       "text": [
        "\n",
        "Indexing: http://www.eladigital.com.br"
       ]
      },
      {
       "output_type": "stream",
       "stream": "stdout",
       "text": [
        "\n",
        "Indexing: http://oglobo.globo.com/esportes/levir-sobre-final-da-copa-do-brasil-vamos-dar-vida-neste-jogo-14649146"
       ]
      },
      {
       "output_type": "stream",
       "stream": "stdout",
       "text": [
        "\n",
        "Indexing: http://oglobo.globo.com/mundo/eleicoes-americanas/"
       ]
      },
      {
       "output_type": "stream",
       "stream": "stdout",
       "text": [
        "\n",
        "Indexing: http://oglobo.globo.com/economia/negocios/"
       ]
      },
      {
       "output_type": "stream",
       "stream": "stdout",
       "text": [
        "\n",
        "Indexing: http://oglobo.globo.com/sociedade/religiao/"
       ]
      },
      {
       "output_type": "stream",
       "stream": "stdout",
       "text": [
        "\n",
        "Indexing: http://oglobo.globo.com/rio/design-rio/"
       ]
      },
      {
       "output_type": "stream",
       "stream": "stdout",
       "text": [
        "\n",
        "Indexing: https://plus.google.com/u/0/+JornalOGlobo/posts"
       ]
      },
      {
       "output_type": "stream",
       "stream": "stdout",
       "text": [
        "\n",
        "Indexing: http://oglobo.globo.com/economia/emprego/cartilha-aponta-50-segmentos-com-menor-concorrencia-no-comercio-eletronico-14652802"
       ]
      },
      {
       "output_type": "stream",
       "stream": "stdout",
       "text": [
        "\n",
        "Indexing: http://oglobo.globo.com/blogs/pagenotfound/posts/2014/11/24/cao-vira-lata-se-junta-esportistas-durante-prova-acaba-adotado-555415.asp"
       ]
      },
      {
       "output_type": "stream",
       "stream": "stdout",
       "text": [
        "\n",
        "Indexing: http://oglobo.globo.com/cultura/musica/jose-roberto-mahr-caixa-preta-da-noite-carioca-14648864"
       ]
      },
      {
       "output_type": "stream",
       "stream": "stdout",
       "text": [
        "\n",
        "Indexing: http://rioshow.oglobo.globo.com/"
       ]
      },
      {
       "output_type": "stream",
       "stream": "stdout",
       "text": [
        "\n",
        "Indexing: http://oglobo.globo.com/brasil/elio-gaspari/"
       ]
      },
      {
       "output_type": "stream",
       "stream": "stdout",
       "text": [
        "\n",
        "Indexing: http://acervo.oglobo.globo.com/"
       ]
      },
      {
       "output_type": "stream",
       "stream": "stdout",
       "text": [
        "\n",
        "Indexing: http://oglobo.globo.com/sociedade/saude/anvisa-alerta-para-substancias-prejudiciais-em-produtos-da-forever-beautiful-14643730"
       ]
      },
      {
       "output_type": "stream",
       "stream": "stdout",
       "text": [
        "\n",
        "Indexing: http://oglobo.globo.com/rio/transito/"
       ]
      },
      {
       "output_type": "stream",
       "stream": "stdout",
       "text": [
        "\n",
        "Indexing: http://oglobo.globo.com/esportes/brasil-cai-no-grupo-de-peru-venezuela-colombia-na-copa-america-14651351"
       ]
      },
      {
       "output_type": "stream",
       "stream": "stdout",
       "text": [
        "\n",
        "Indexing: http://oglobo.globo.com/cultura/livros/arquivo-de-gabriel-garcia-marquez-vai-para-universidade-do-texas-14644436"
       ]
      },
      {
       "output_type": "stream",
       "stream": "stdout",
       "text": [
        "\n",
        "Indexing: http://oglobo.globo.com/cultura/revista-da-tv/confira-os-vencedores-da-42-edicao-do-emmy-internacional-14653885"
       ]
      },
      {
       "output_type": "stream",
       "stream": "stdout",
       "text": [
        "\n",
        "Indexing: http://ela.oglobo.globo.com/moda/me-sinto-como-hannah-montana-diz-kendall-jenner-sobre-ser-modelo-estrela-de-reality-14638136"
       ]
      },
      {
       "output_type": "stream",
       "stream": "stdout",
       "text": [
        "\n",
        "Indexing: http://oglobo.globo.com/sociedade/educacao/conselho-da-ufrj-veta-concurso-de-selecao-de-professores-em-lingua-estrangeira-14650388"
       ]
      },
      {
       "output_type": "stream",
       "stream": "stdout",
       "text": [
        "\n",
        "Indexing: http://oglobo.globo.com/sociedade/saude/ebola/"
       ]
      },
      {
       "output_type": "stream",
       "stream": "stdout",
       "text": [
        "\n",
        "Indexing: http://oglobo.globo.com/blogs/blog_gente_boa/"
       ]
      },
      {
       "output_type": "stream",
       "stream": "stdout",
       "text": [
        "\n",
        "Indexing: http://oglobo.globo.com/cultura/revista-da-tv/"
       ]
      },
      {
       "output_type": "stream",
       "stream": "stdout",
       "text": [
        "\n",
        "Indexing: http://oglobo.globo.com/economia/roberto-irineu-marinho-premiado-com-emmy-de-personalidade-mundial-da-televisao-14650506"
       ]
      },
      {
       "output_type": "stream",
       "stream": "stdout",
       "text": [
        "\n",
        "Indexing: http://oglobo.globo.com/sociedade/saude/hospital-chines-cria-simulador-para-homens-sentirem-dor-do-parto-14632754"
       ]
      },
      {
       "output_type": "stream",
       "stream": "stdout",
       "text": [
        "\n",
        "Indexing: http://ela.oglobo.globo.com/beleza/"
       ]
      },
      {
       "output_type": "stream",
       "stream": "stdout",
       "text": [
        "\n",
        "Indexing: http://oglobo.globo.com/blogs/mma/posts/2014/11/25/ver-edgar-lutar-sempre-um-prazer-555490.asp"
       ]
      },
      {
       "output_type": "stream",
       "stream": "stdout",
       "text": [
        "\n",
        "Indexing: http://oglobo.globo.com/pais/noblat/"
       ]
      },
      {
       "output_type": "stream",
       "stream": "stdout",
       "text": [
        "\n",
        "Indexing: http://oglobo.globo.com/economia/crise-argentina/"
       ]
      },
      {
       "output_type": "stream",
       "stream": "stdout",
       "text": [
        "\n",
        "Indexing: http://oglobo.globo.com/brasil/operacao-gringo-apos-morte-da-filha-guerrilheiro-lutou-para-ficar-com-neta-14640202"
       ]
      },
      {
       "output_type": "stream",
       "stream": "stdout",
       "text": [
        "\n",
        "Indexing: http://ela.oglobo.globo.com/moda/elas-me-dao-parabens-ainda-novidade-um-corpo-como-meu-diz-candice-huffine-sobre-colegas-14646577"
       ]
      },
      {
       "output_type": "stream",
       "stream": "stdout",
       "text": [
        "\n",
        "Indexing: http://oglobo.globo.com/economia/ocde-ve-recuperacao-mundial-gradual-pede-que-bc-da-europa-faca-mais-estimulos-14653146"
       ]
      },
      {
       "output_type": "stream",
       "stream": "stdout",
       "text": [
        "\n",
        "Indexing: http://oglobo.globo.com/sociedade/os-ribeirinhos-no-amazonas-14624351"
       ]
      },
      {
       "output_type": "stream",
       "stream": "stdout",
       "text": [
        "\n",
        "Indexing: http://oglobo.globo.com/rio/mulheres-ja-sao-37-dos-portadores-do-hiv-no-estado-do-rio-14619651"
       ]
      },
      {
       "output_type": "stream",
       "stream": "stdout",
       "text": [
        "\n",
        "Indexing: http://rioshow.oglobo.globo.com/exposicoes/galerias/farol-eduardo-srur-11783.aspx"
       ]
      },
      {
       "output_type": "stream",
       "stream": "stdout",
       "text": [
        "\n",
        "Indexing: https://clubesoumaisrio.oglobo.globo.com/"
       ]
      },
      {
       "output_type": "stream",
       "stream": "stdout",
       "text": [
        "\n",
        "Indexing: http://oglobo.globo.com/economia/pequenos-e-medios-negocios/"
       ]
      },
      {
       "output_type": "stream",
       "stream": "stdout",
       "text": [
        "\n",
        "Indexing: http://oglobo.globo.com/economia/anda-e-para/"
       ]
      },
      {
       "output_type": "stream",
       "stream": "stdout",
       "text": [
        "\n",
        "Indexing: http://oglobo.globo.com/rio/terca-feira-com-nevoa-no-rio-14652810"
       ]
      },
      {
       "output_type": "stream",
       "stream": "stdout",
       "text": [
        "\n",
        "Indexing: http://oglobo.globo.com/esportes/botafogo/"
       ]
      },
      {
       "output_type": "stream",
       "stream": "stdout",
       "text": [
        "\n",
        "Indexing: http://m.oglobo.globo.com/?versao=mobi"
       ]
      },
      {
       "output_type": "stream",
       "stream": "stdout",
       "text": [
        "\n",
        "Indexing: http://oglobo.globo.com/blogs/mma/"
       ]
      },
      {
       "output_type": "stream",
       "stream": "stdout",
       "text": [
        "\n",
        "Indexing: http://oglobo.globo.com/economia/emprego/"
       ]
      },
      {
       "output_type": "stream",
       "stream": "stdout",
       "text": [
        "\n",
        "Indexing: http://oglobo.globo.com/infograficos/"
       ]
      },
      {
       "output_type": "stream",
       "stream": "stdout",
       "text": [
        "\n",
        "Indexing: https://seguro.oglobo.com.br/assinatura/Default.aspx?id_parc=26&utm_source=venda&utm_medium=siteoglobo&utm_campaign=botaoassineinferior"
       ]
      },
      {
       "output_type": "stream",
       "stream": "stdout",
       "text": [
        "\n",
        "Indexing: http://oglobo.globo.com/brasil/com-viagem-suspensa-pelo-stf-dirceu-retorna-brasilia-14647264"
       ]
      },
      {
       "output_type": "stream",
       "stream": "stdout",
       "text": [
        "\n",
        "Indexing: http://oglobo.globo.com/blogs/blogdomerval/"
       ]
      },
      {
       "output_type": "stream",
       "stream": "stdout",
       "text": [
        "\n",
        "Indexing: http://oglobo.globo.com/mundo/protestos-apos-juri-nao-indiciar-policial-que-matou-negro-no-missouri-14652299"
       ]
      },
      {
       "output_type": "stream",
       "stream": "stdout",
       "text": [
        "\n",
        "Indexing: http://oglobo.globo.com/sociedade/"
       ]
      },
      {
       "output_type": "stream",
       "stream": "stdout",
       "text": [
        "\n",
        "Indexing: http://oglobo.globo.com/mundo/rihanna-katy-perry-outros-musicos-condenam-decisao-de-livrar-policial-que-matou-jovem-negro-14653622"
       ]
      },
      {
       "output_type": "stream",
       "stream": "stdout",
       "text": [
        "\n",
        "Indexing: http://oglobo.globo.com/sociedade/saude/"
       ]
      },
      {
       "output_type": "stream",
       "stream": "stdout",
       "text": [
        "\n",
        "Indexing: http://oglobo.globo.com/blogs/ilimar/posts/2014/11/24/encontro-marcado-com-historia-555416.asp"
       ]
      },
      {
       "output_type": "stream",
       "stream": "stdout",
       "text": [
        "\n",
        "Indexing: http://oglobo.globo.com/mundo/fortuna-das-farc-fica-de-fora-das-negociacoes-de-paz-em-havana-14650608"
       ]
      },
      {
       "output_type": "stream",
       "stream": "stdout",
       "text": [
        "\n",
        "Indexing: http://oglobo.globo.com/anuncie/"
       ]
      },
      {
       "output_type": "stream",
       "stream": "stdout",
       "text": [
        "\n",
        "Indexing: http://oglobo.globo.com/mundo/obama-anuncia-saida-de-secretario-de-defesa-14644840"
       ]
      },
      {
       "output_type": "stream",
       "stream": "stdout",
       "text": [
        "\n",
        "Indexing: http://kogut.oglobo.globo.com/noticias-da-tv/index.html"
       ]
      },
      {
       "output_type": "stream",
       "stream": "stdout",
       "text": [
        "\n",
        "Indexing: http://oglobo.globo.com/sociedade/educacao/enem-e-vestibular/"
       ]
      },
      {
       "output_type": "stream",
       "stream": "stdout",
       "text": [
        "\n",
        "Indexing: http://oglobo.globo.com/sociedade/ciencia/devemos-ajudar-os-chineses-chegar-lua-14648529"
       ]
      },
      {
       "output_type": "stream",
       "stream": "stdout",
       "text": [
        "\n",
        "Indexing: http://oglobo.globo.com/economia/cmo-aprova-em-definitivo-proposta-que-altera-meta-fiscal-de-2014-14651904"
       ]
      },
      {
       "output_type": "stream",
       "stream": "stdout",
       "text": [
        "\n",
        "Indexing: http://oglobo.globo.com/opiniao/projeto-de-poder-banaliza-corrupcao-14649869"
       ]
      },
      {
       "output_type": "stream",
       "stream": "stdout",
       "text": [
        "\n",
        "Indexing: http://cbn.globoradio.globo.com"
       ]
      },
      {
       "output_type": "stream",
       "stream": "stdout",
       "text": [
        "\n",
        "Indexing: http://oglobo.globo.com/blogs/pagenotfound/posts/2014/11/24/primeiro-homem-gravido-preso-por-perseguir-ex-mulher-555408.asp"
       ]
      },
      {
       "output_type": "stream",
       "stream": "stdout",
       "text": [
        "\n",
        "Indexing: http://oglobo.globo.com/esportes/formula-1/"
       ]
      },
      {
       "output_type": "stream",
       "stream": "stdout",
       "text": [
        "\n",
        "Indexing: http://oglobo.globo.com/blogs/graca-ramos/posts/2014/11/25/livros-brinquedo-na-biblioteca-parque-555482.asp"
       ]
      },
      {
       "output_type": "stream",
       "stream": "stdout",
       "text": [
        "\n",
        "Indexing: http://oglobo.globo.com/sociedade/ciencia/capsula-russa-soyus-chega-estacao-espacial-internacional-14642246"
       ]
      },
      {
       "output_type": "stream",
       "stream": "stdout",
       "text": [
        "\n",
        "Indexing: http://oglobo.globo.com/brasil/dilma-alvo-de-abaixo-assinados-na-internet-para-que-reveja-acoes-de-seu-governo-14641740"
       ]
      },
      {
       "output_type": "stream",
       "stream": "stdout",
       "text": [
        "\n",
        "Indexing: http://oglobo.globo.com/brasil/parentes-amigos-politicos-comparecem-velorio-de-ex-ministro-da-justica-14616307"
       ]
      },
      {
       "output_type": "stream",
       "stream": "stdout",
       "text": [
        "\n",
        "Indexing: http://oglobo.globo.com/blogs/flavia-oliveira/post.asp?blogadmin=true&cod_post=555497"
       ]
      },
      {
       "output_type": "stream",
       "stream": "stdout",
       "text": [
        "\n",
        "Indexing: http://oglobo.globo.com/sociedade/navios-da-marinha-passam-meses-fio-no-amazonas-para-cuidar-da-saude-de-ribeirinhos-14640796"
       ]
      },
      {
       "output_type": "stream",
       "stream": "stdout",
       "text": [
        "\n",
        "Indexing: http://oglobo.globo.com/politica-de-privacidade/"
       ]
      },
      {
       "output_type": "stream",
       "stream": "stdout",
       "text": [
        "\n",
        "Indexing: http://oglobo.globo.com/"
       ]
      },
      {
       "output_type": "stream",
       "stream": "stdout",
       "text": [
        "\n",
        "Indexing: http://ela.oglobo.globo.com/moda/fendas-decotes-recortes-escolha-estrela-mais-sexy-do-american-music-awards-14642446"
       ]
      },
      {
       "output_type": "stream",
       "stream": "stdout",
       "text": [
        "\n",
        "Indexing: http://oglobo.globo.com/blogs/"
       ]
      },
      {
       "output_type": "stream",
       "stream": "stdout",
       "text": [
        "\n",
        "Indexing: http://oglobo.globo.com/rio/zona-norte/"
       ]
      },
      {
       "output_type": "stream",
       "stream": "stdout",
       "text": [
        "\n",
        "Indexing: http://oglobo.globo.com/mundo/ucrania/"
       ]
      },
      {
       "output_type": "stream",
       "stream": "stdout",
       "text": [
        "\n",
        "Indexing: http://oglobo.globo.com/economia/petroleo-e-energia/"
       ]
      },
      {
       "output_type": "stream",
       "stream": "stdout",
       "text": [
        "\n",
        "Indexing: http://www.oglobo.com/blogs/pagenotfound/"
       ]
      },
      {
       "output_type": "stream",
       "stream": "stdout",
       "text": [
        "\n",
        "Indexing: http://oglobo.globo.com/cultura/festival-de-brasilia-2014/"
       ]
      },
      {
       "output_type": "stream",
       "stream": "stdout",
       "text": [
        "\n",
        "Indexing: http://oglobo.globo.com/mundo/violencia-explode-apos-juri-livrar-policial-que-matou-adolescente-negro-em-ferguson-14652625"
       ]
      },
      {
       "output_type": "stream",
       "stream": "stdout",
       "text": [
        "\n",
        "Indexing: http://oglobo.globo.com/mundo/siria/"
       ]
      },
      {
       "output_type": "stream",
       "stream": "stdout",
       "text": [
        "\n",
        "Indexing: http://oglobo.globo.com/sociedade/tecnologia/tinder-ganha-mais-usuarios-de-meia-idade-14642569"
       ]
      },
      {
       "output_type": "stream",
       "stream": "stdout",
       "text": [
        "\n",
        "Indexing: http://oglobo.globo.com/sociedade/ciencia/peixes-marcados-para-pesquisa-viram-petisco-de-foca-aponta-estudo-14638551"
       ]
      },
      {
       "output_type": "stream",
       "stream": "stdout",
       "text": [
        "\n",
        "Indexing: http://oglobo.globo.com/economia"
       ]
      },
      {
       "output_type": "stream",
       "stream": "stdout",
       "text": [
        "\n",
        "Indexing: http://oglobo.globo.com/brasil/eleicoes-2014/"
       ]
      },
      {
       "output_type": "stream",
       "stream": "stdout",
       "text": [
        "\n",
        "Indexing: http://oglobo.globo.com/arquivos/erton.pdf"
       ]
      },
      {
       "output_type": "stream",
       "stream": "stdout",
       "text": [
        "\n",
        "Indexing: http://oglobo.globo.com/blogs/Gibizada/posts/2014/11/25/e-agora-555489.asp"
       ]
      },
      {
       "output_type": "stream",
       "stream": "stdout",
       "text": [
        "\n",
        "Indexing: http://oglobo.globo.com/cultura/revista-da-tv/joia-rara-recebe-premio-de-melhor-novela-na-42-edicao-do-emmy-internacional-14652166"
       ]
      },
      {
       "output_type": "stream",
       "stream": "stdout",
       "text": [
        "\n",
        "Indexing: http://acervo.oglobo.globo.com"
       ]
      },
      {
       "output_type": "stream",
       "stream": "stdout",
       "text": [
        "\n",
        "Indexing: http://acervo.oglobo.globo.com/fotogalerias/os-mortos-da-ditadura-9554939"
       ]
      },
      {
       "output_type": "stream",
       "stream": "stdout",
       "text": [
        "\n",
        "Indexing: http://oglobo.globo.com/brasil/miguel-rossetto-ficara-na-secretaria-geral-carlos-guedes-no-desenvolvimento-agrario-14647852"
       ]
      },
      {
       "output_type": "stream",
       "stream": "stdout",
       "text": [
        "\n",
        "Indexing: http://oglobo.globo.com/rio/bairros/"
       ]
      },
      {
       "output_type": "stream",
       "stream": "stdout",
       "text": [
        "\n",
        "Indexing: http://oglobo.globo.com/brasil/executivo-mostra-notas-fiscais-de-propina-aponta-novo-operador-de-desvios-na-petrobras-14647351"
       ]
      },
      {
       "output_type": "stream",
       "stream": "stdout",
       "text": [
        "\n",
        "Indexing: http://oglobo.globo.com/cultura/revista-da-tv/aos-39-anos-poliana-abritta-se-diz-satisfeita-com-suas-medidas-mais-magra-do-que-de-costume-14633595"
       ]
      },
      {
       "output_type": "stream",
       "stream": "stdout",
       "text": [
        "\n",
        "Indexing: http://oglobo.globo.com/brasil/procuradores-vao-suica-para-tentar-localizar-dinheiro-desviado-da-petrobras-14651478"
       ]
      },
      {
       "output_type": "stream",
       "stream": "stdout",
       "text": [
        "\n",
        "Indexing: http://oglobo.globo.com/esportes/"
       ]
      },
      {
       "output_type": "stream",
       "stream": "stdout",
       "text": [
        "\n",
        "Indexing: http://oglobo.globo.com/esportes/eleicao-para-presidente-do-botafogo-comeca-com-presenca-de-tres-dos-quatro-candidatos-14653344"
       ]
      },
      {
       "output_type": "stream",
       "stream": "stdout",
       "text": [
        "\n",
        "Indexing: http://oglobo.globo.com/rio/"
       ]
      },
      {
       "output_type": "stream",
       "stream": "stdout",
       "text": [
        "\n",
        "Indexing: http://oglobo.globo.com/o-globo-a-mais/"
       ]
      },
      {
       "output_type": "stream",
       "stream": "stdout",
       "text": [
        "\n",
        "Indexing: http://oglobo.globo.com/horoscopo/"
       ]
      },
      {
       "output_type": "stream",
       "stream": "stdout",
       "text": [
        "\n",
        "Indexing: http://oglobo.globo.com/economia/analistas-veem-risco-de-pais-so-absorver-tecnologia-mais-basica-de-cacas-suecos-14641603"
       ]
      },
      {
       "output_type": "stream",
       "stream": "stdout",
       "text": [
        "\n",
        "Indexing: http://oglobo.globo.com/brasil/lava-jato/"
       ]
      },
      {
       "output_type": "stream",
       "stream": "stdout",
       "text": [
        "\n",
        "Indexing: http://oglobo.globo.com/brasil/operacao-gringo-quando-pcb-era-maior-ameaca-para-regime-militar-14650670"
       ]
      },
      {
       "output_type": "stream",
       "stream": "stdout",
       "text": [
        "\n",
        "Indexing: http://oglobo.globo.com/opiniao/estamos-no-natal-mentira-14649883"
       ]
      },
      {
       "output_type": "stream",
       "stream": "stdout",
       "text": [
        "\n",
        "Indexing: http://oglobo.globo.com/cultura/artes-visuais/"
       ]
      },
      {
       "output_type": "stream",
       "stream": "stdout",
       "text": [
        "\n",
        "Indexing: http://kogut.oglobo.globo.com/noticias-da-tv/novelas/noticia/2014/11/maria-isis-vai-se-recusar-reatar-com-jose-alfredo.html"
       ]
      },
      {
       "output_type": "stream",
       "stream": "stdout",
       "text": [
        "\n",
        "Indexing: http://oglobo.globo.com/brasil/porto-alegre-registra-quatro-casos-de-nudez-publica-em-11-dias-14525053"
       ]
      },
      {
       "output_type": "stream",
       "stream": "stdout",
       "text": [
        "\n",
        "Indexing: http://oglobo.globo.com/rio/transito"
       ]
      },
      {
       "output_type": "stream",
       "stream": "stdout",
       "text": [
        "\n",
        "Indexing: http://oglobo.globo.com/sociedade/sustentabilidade/mais-de-33-mil-animais-silvestres-em-extincao-estao-venda-na-internet-14652887"
       ]
      },
      {
       "output_type": "stream",
       "stream": "stdout",
       "text": [
        "\n",
        "Indexing: http://oglobo.globo.com/opiniao/"
       ]
      },
      {
       "output_type": "stream",
       "stream": "stdout",
       "text": [
        "\n",
        "Indexing: http://oglobo.globo.com/economia/imoveis/estabulo-ganha-decor-inspirado-na-provence-1-14626316"
       ]
      },
      {
       "output_type": "stream",
       "stream": "stdout",
       "text": [
        "\n",
        "Indexing: http://oglobo.globo.com/ultimas-noticias/"
       ]
      },
      {
       "output_type": "stream",
       "stream": "stdout",
       "text": [
        "\n",
        "Indexing: http://oglobo.globo.com/economia/infraestrutura/"
       ]
      },
      {
       "output_type": "stream",
       "stream": "stdout",
       "text": [
        "\n",
        "Could not access page: http://www.oglobo.com.br/blogs/radicais"
       ]
      },
      {
       "output_type": "stream",
       "stream": "stdout",
       "text": [
        "\n",
        "Could not access page: http://oglobo.globo.com/rio/zona-sul/"
       ]
      },
      {
       "output_type": "stream",
       "stream": "stdout",
       "text": [
        "\n",
        "Could not access page: http://oglobo.globo.com/cultura/musica/"
       ]
      },
      {
       "output_type": "stream",
       "stream": "stdout",
       "text": [
        "\n",
        "Could not access page: http://oglobo.globo.com/sociedade/midia/"
       ]
      },
      {
       "output_type": "stream",
       "stream": "stdout",
       "text": [
        "\n",
        "Could not access page: http://ela.oglobo.globo.com/moda/"
       ]
      },
      {
       "output_type": "stream",
       "stream": "stdout",
       "text": [
        "\n",
        "Could not access page: http://acervo.oglobo.globo.com/fatos-historicos/2014/08/19/odio-racial-explode-em-los-angeles-em-1992-deixando-53-mortos-mil-feridos"
       ]
      },
      {
       "output_type": "stream",
       "stream": "stdout",
       "text": [
        "\n"
       ]
      }
     ],
     "prompt_number": 9
    },
    {
     "cell_type": "markdown",
     "metadata": {},
     "source": [
      "Calculates pagerank with n iterations"
     ]
    },
    {
     "cell_type": "code",
     "collapsed": false,
     "input": [
      "crawl.calculatepagerank(25)"
     ],
     "language": "python",
     "metadata": {},
     "outputs": [
      {
       "output_type": "stream",
       "stream": "stdout",
       "text": [
        "Iteration 0\n",
        "Iteration 1"
       ]
      },
      {
       "output_type": "stream",
       "stream": "stdout",
       "text": [
        "\n",
        "Iteration 2"
       ]
      },
      {
       "output_type": "stream",
       "stream": "stdout",
       "text": [
        "\n",
        "Iteration 3"
       ]
      },
      {
       "output_type": "stream",
       "stream": "stdout",
       "text": [
        "\n",
        "Iteration 4"
       ]
      },
      {
       "output_type": "stream",
       "stream": "stdout",
       "text": [
        "\n",
        "Iteration 5"
       ]
      },
      {
       "output_type": "stream",
       "stream": "stdout",
       "text": [
        "\n",
        "Iteration 6"
       ]
      },
      {
       "output_type": "stream",
       "stream": "stdout",
       "text": [
        "\n",
        "Iteration 7"
       ]
      },
      {
       "output_type": "stream",
       "stream": "stdout",
       "text": [
        "\n",
        "Iteration 8"
       ]
      },
      {
       "output_type": "stream",
       "stream": "stdout",
       "text": [
        "\n",
        "Iteration 9"
       ]
      },
      {
       "output_type": "stream",
       "stream": "stdout",
       "text": [
        "\n",
        "Iteration 10"
       ]
      },
      {
       "output_type": "stream",
       "stream": "stdout",
       "text": [
        "\n",
        "Iteration 11"
       ]
      },
      {
       "output_type": "stream",
       "stream": "stdout",
       "text": [
        "\n",
        "Iteration 12"
       ]
      },
      {
       "output_type": "stream",
       "stream": "stdout",
       "text": [
        "\n",
        "Iteration 13"
       ]
      },
      {
       "output_type": "stream",
       "stream": "stdout",
       "text": [
        "\n",
        "Iteration 14"
       ]
      },
      {
       "output_type": "stream",
       "stream": "stdout",
       "text": [
        "\n",
        "Iteration 15"
       ]
      },
      {
       "output_type": "stream",
       "stream": "stdout",
       "text": [
        "\n",
        "Iteration 16"
       ]
      },
      {
       "output_type": "stream",
       "stream": "stdout",
       "text": [
        "\n",
        "Iteration 17"
       ]
      },
      {
       "output_type": "stream",
       "stream": "stdout",
       "text": [
        "\n",
        "Iteration 18"
       ]
      },
      {
       "output_type": "stream",
       "stream": "stdout",
       "text": [
        "\n",
        "Iteration 19"
       ]
      },
      {
       "output_type": "stream",
       "stream": "stdout",
       "text": [
        "\n",
        "Iteration 20"
       ]
      },
      {
       "output_type": "stream",
       "stream": "stdout",
       "text": [
        "\n",
        "Iteration 21"
       ]
      },
      {
       "output_type": "stream",
       "stream": "stdout",
       "text": [
        "\n",
        "Iteration 22"
       ]
      },
      {
       "output_type": "stream",
       "stream": "stdout",
       "text": [
        "\n",
        "Iteration 23"
       ]
      },
      {
       "output_type": "stream",
       "stream": "stdout",
       "text": [
        "\n",
        "Iteration 24"
       ]
      },
      {
       "output_type": "stream",
       "stream": "stdout",
       "text": [
        "\n"
       ]
      }
     ],
     "prompt_number": 10
    },
    {
     "cell_type": "markdown",
     "metadata": {},
     "source": [
      "Instantiating the searcher"
     ]
    },
    {
     "cell_type": "code",
     "collapsed": false,
     "input": [
      "search = searcher(db)"
     ],
     "language": "python",
     "metadata": {},
     "outputs": [],
     "prompt_number": 11
    },
    {
     "cell_type": "markdown",
     "metadata": {},
     "source": [
      "Querying the index"
     ]
    },
    {
     "cell_type": "code",
     "collapsed": false,
     "input": [
      "query = u'matem\u00e1tica'\n",
      "print(search.query(query))"
     ],
     "language": "python",
     "metadata": {},
     "outputs": [
      {
       "output_type": "stream",
       "stream": "stdout",
       "text": [
        "\n",
        "Resultados para busca por matem\u00e1tica:\n",
        "4.49478162176\thttp://oglobo.globo.com/esportes/fluminense/\n",
        "4.0033727108\thttp://oglobo.globo.com/esportes/botafogo/\n",
        "3.70677752296\thttp://oglobo.globo.com/sociedade/educacao/\n",
        "3.48767273233\thttp://oglobo.globo.com/sociedade/educacao/educacao-360/\n",
        "3.44200087135\thttp://oglobo.globo.com/esportes/rmp/\n",
        "3.40923517232\thttp://oglobo.globo.com/rio/ancelmo/\n",
        "3.36318667629\thttp://oglobo.globo.com/sociedade/conte-algo-que-nao-sei/\n",
        "3.23850283622\thttp://oglobo.globo.com/sociedade/educacao/enem-e-vestibular/\n",
        "2.15093243135\thttp://oglobo.globo.com/economia/emprego/semana-comeca-com-nove-concursos-que-somam-920-vagas-14642519\n",
        "([21445], [165, 163, 89, 103, 167, 16, 88, 104, 244])\n"
       ]
      }
     ],
     "prompt_number": 12
    },
    {
     "cell_type": "code",
     "collapsed": false,
     "input": [
      "conn=sqlite.connect(db)"
     ],
     "language": "python",
     "metadata": {},
     "outputs": [],
     "prompt_number": 17
    },
    {
     "cell_type": "code",
     "collapsed": false,
     "input": [
      "df_mysql1 = psql.read_sql('select * from urllist;', con=conn)\n",
      "df_mysql1.head()"
     ],
     "language": "python",
     "metadata": {},
     "outputs": [
      {
       "html": [
        "<div style=\"max-height:1000px;max-width:1500px;overflow:auto;\">\n",
        "<table border=\"1\" class=\"dataframe\">\n",
        "  <thead>\n",
        "    <tr style=\"text-align: right;\">\n",
        "      <th></th>\n",
        "      <th>url</th>\n",
        "    </tr>\n",
        "  </thead>\n",
        "  <tbody>\n",
        "    <tr>\n",
        "      <th>0</th>\n",
        "      <td>           http://www.oglobo.com/</td>\n",
        "    </tr>\n",
        "    <tr>\n",
        "      <th>1</th>\n",
        "      <td>         http://oglobo.globo.com/</td>\n",
        "    </tr>\n",
        "    <tr>\n",
        "      <th>2</th>\n",
        "      <td> http://memoria.oglobo.globo.com/</td>\n",
        "    </tr>\n",
        "    <tr>\n",
        "      <th>3</th>\n",
        "      <td>   http://acervo.oglobo.globo.com</td>\n",
        "    </tr>\n",
        "    <tr>\n",
        "      <th>4</th>\n",
        "      <td>     http://www.eladigital.com.br</td>\n",
        "    </tr>\n",
        "  </tbody>\n",
        "</table>\n",
        "</div>"
       ],
       "metadata": {},
       "output_type": "pyout",
       "prompt_number": 28,
       "text": [
        "                                url\n",
        "0            http://www.oglobo.com/\n",
        "1          http://oglobo.globo.com/\n",
        "2  http://memoria.oglobo.globo.com/\n",
        "3    http://acervo.oglobo.globo.com\n",
        "4      http://www.eladigital.com.br"
       ]
      }
     ],
     "prompt_number": 28
    },
    {
     "cell_type": "code",
     "collapsed": false,
     "input": [
      "df_mysql1.ix[0]"
     ],
     "language": "python",
     "metadata": {},
     "outputs": [
      {
       "metadata": {},
       "output_type": "pyout",
       "prompt_number": 29,
       "text": [
        "url    http://www.oglobo.com/\n",
        "Name: 0, dtype: object"
       ]
      }
     ],
     "prompt_number": 29
    },
    {
     "cell_type": "code",
     "collapsed": false,
     "input": [
      "df_mysql2 = psql.read_sql('select * from link;', con=conn)\n",
      "df_mysql2.head()"
     ],
     "language": "python",
     "metadata": {},
     "outputs": [
      {
       "html": [
        "<div style=\"max-height:1000px;max-width:1500px;overflow:auto;\">\n",
        "<table border=\"1\" class=\"dataframe\">\n",
        "  <thead>\n",
        "    <tr style=\"text-align: right;\">\n",
        "      <th></th>\n",
        "      <th>fromid</th>\n",
        "      <th>toid</th>\n",
        "    </tr>\n",
        "  </thead>\n",
        "  <tbody>\n",
        "    <tr>\n",
        "      <th>0</th>\n",
        "      <td> 1</td>\n",
        "      <td> 2</td>\n",
        "    </tr>\n",
        "    <tr>\n",
        "      <th>1</th>\n",
        "      <td> 1</td>\n",
        "      <td> 3</td>\n",
        "    </tr>\n",
        "    <tr>\n",
        "      <th>2</th>\n",
        "      <td> 1</td>\n",
        "      <td> 4</td>\n",
        "    </tr>\n",
        "    <tr>\n",
        "      <th>3</th>\n",
        "      <td> 1</td>\n",
        "      <td> 5</td>\n",
        "    </tr>\n",
        "    <tr>\n",
        "      <th>4</th>\n",
        "      <td> 1</td>\n",
        "      <td> 6</td>\n",
        "    </tr>\n",
        "  </tbody>\n",
        "</table>\n",
        "</div>"
       ],
       "metadata": {},
       "output_type": "pyout",
       "prompt_number": 36,
       "text": [
        "   fromid  toid\n",
        "0       1     2\n",
        "1       1     3\n",
        "2       1     4\n",
        "3       1     5\n",
        "4       1     6"
       ]
      }
     ],
     "prompt_number": 36
    },
    {
     "cell_type": "code",
     "collapsed": false,
     "input": [
      "for i in range(10):\n",
      "    print(u'Link entre as p\u00e1ginas {} --> {}'.format(df_mysql1['url'].ix[df_mysql2['fromid'].ix[i]],\n",
      "                                                    df_mysql1['url'].ix[df_mysql2['toid'].ix[i]]))"
     ],
     "language": "python",
     "metadata": {},
     "outputs": [
      {
       "output_type": "stream",
       "stream": "stdout",
       "text": [
        "Link entre as p\u00e1ginas http://oglobo.globo.com/ --> http://memoria.oglobo.globo.com/\n",
        "Link entre as p\u00e1ginas http://oglobo.globo.com/ --> http://acervo.oglobo.globo.com\n",
        "Link entre as p\u00e1ginas http://oglobo.globo.com/ --> http://www.eladigital.com.br\n",
        "Link entre as p\u00e1ginas http://oglobo.globo.com/ --> http://www.patriciakogut.com.br\n",
        "Link entre as p\u00e1ginas http://oglobo.globo.com/ --> http://rioshow.oglobo.globo.com/\n",
        "Link entre as p\u00e1ginas http://oglobo.globo.com/ --> http://extra.globo.com/\n",
        "Link entre as p\u00e1ginas http://oglobo.globo.com/ --> http://classificadosdorio.globo.com/\n",
        "Link entre as p\u00e1ginas http://oglobo.globo.com/ --> http://oglobo.globo.com/principios-editoriais/\n",
        "Link entre as p\u00e1ginas http://oglobo.globo.com/ --> http://memoria.oglobo.globo.com/\n",
        "Link entre as p\u00e1ginas http://oglobo.globo.com/ --> http://facebook.com/JornalOGlobo\n"
       ]
      }
     ],
     "prompt_number": 44
    },
    {
     "cell_type": "code",
     "collapsed": false,
     "input": [
      "conn.close()"
     ],
     "language": "python",
     "metadata": {},
     "outputs": [],
     "prompt_number": 15
    }
   ],
   "metadata": {}
  }
 ]
}