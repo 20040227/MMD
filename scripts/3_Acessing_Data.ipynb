{
 "metadata": {
  "name": "",
  "signature": "sha256:22f6c0d1cf4244c4f68db6132967e0d63eb6fc9f97b5375d34472d04d8b75166"
 },
 "nbformat": 3,
 "nbformat_minor": 0,
 "worksheets": [
  {
   "cells": [
    {
     "cell_type": "markdown",
     "metadata": {},
     "source": [
      "Mestrado em Modelagem Matematica da Informacao\n",
      "----------------------------------------------\n",
      "Disciplina: Modelagem e Mineracao de Dados\n",
      "------------------------------------------\n",
      "\n",
      "Master Program - Mathematical Modeling of Information\n",
      "-----------------------------------------------------\n",
      "Course: Data Mining and Modeling\n",
      "--------------------------------\n",
      "\n",
      "Professor: Renato Rocha Souza\n",
      "-----------------------------"
     ]
    },
    {
     "cell_type": "heading",
     "level": 3,
     "metadata": {},
     "source": [
      "Accessing and Manipulating Data in different formats"
     ]
    },
    {
     "cell_type": "code",
     "collapsed": false,
     "input": [
      "import os\n",
      "import sys\n",
      "import time\n",
      "import datetime\n",
      "import numpy as np\n",
      "import pandas as pd"
     ],
     "language": "python",
     "metadata": {},
     "outputs": [],
     "prompt_number": 3
    },
    {
     "cell_type": "code",
     "collapsed": false,
     "input": [
      "datapath = \"/home/rsouza/Dropbox/Renato/ModMinDados/Git/datasets/\""
     ],
     "language": "python",
     "metadata": {},
     "outputs": [],
     "prompt_number": 4
    },
    {
     "cell_type": "heading",
     "level": 2,
     "metadata": {},
     "source": [
      "Acessing CSV Files"
     ]
    },
    {
     "cell_type": "code",
     "collapsed": false,
     "input": [
      "csvfile = \"beatles-diskography.csv\"\n",
      "datafile = os.path.join(datapath, csvfile)"
     ],
     "language": "python",
     "metadata": {},
     "outputs": [],
     "prompt_number": 5
    },
    {
     "cell_type": "heading",
     "level": 4,
     "metadata": {},
     "source": [
      "Using pure Python:"
     ]
    },
    {
     "cell_type": "code",
     "collapsed": false,
     "input": [
      "data = []\n",
      "with open(datafile, \"rb\") as f:\n",
      "    keys = f.readline().split(',')\n",
      "    keys = [k.strip() for k in keys]\n",
      "    for i in range(5):\n",
      "        values = f.readline().split(',')\n",
      "        values = [v.strip() for v in values]\n",
      "        d = dict(zip(keys,values))\n",
      "        data.append(d)\n",
      "data[0:2]"
     ],
     "language": "python",
     "metadata": {},
     "outputs": [
      {
       "metadata": {},
       "output_type": "pyout",
       "prompt_number": 6,
       "text": [
        "[{'BPI Certification': 'Gold',\n",
        "  'Label': 'Parlophone(UK)',\n",
        "  'RIAA Certification': 'Platinum',\n",
        "  'Released': '22 March 1963',\n",
        "  'Title': 'Please Please Me',\n",
        "  'UK Chart Position': '1',\n",
        "  'US Chart Position': '-'},\n",
        " {'BPI Certification': 'Platinum',\n",
        "  'Label': 'Parlophone(UK)',\n",
        "  'RIAA Certification': 'Gold',\n",
        "  'Released': '22 November 1963',\n",
        "  'Title': 'With the Beatles',\n",
        "  'UK Chart Position': '1',\n",
        "  'US Chart Position': '-'}]"
       ]
      }
     ],
     "prompt_number": 6
    },
    {
     "cell_type": "heading",
     "level": 4,
     "metadata": {},
     "source": [
      "Using CSV module:"
     ]
    },
    {
     "cell_type": "markdown",
     "metadata": {},
     "source": [
      "https://docs.python.org/2/library/csv.html  "
     ]
    },
    {
     "cell_type": "code",
     "collapsed": false,
     "input": [
      "import csv"
     ],
     "language": "python",
     "metadata": {},
     "outputs": [],
     "prompt_number": 7
    },
    {
     "cell_type": "code",
     "collapsed": false,
     "input": [
      "with open(datafile, \"rb\") as f:\n",
      "    #data2 = csv.reader(f)\n",
      "    data2 = csv.DictReader(f)\n",
      "    for row in data2:\n",
      "        print(row)"
     ],
     "language": "python",
     "metadata": {},
     "outputs": [
      {
       "output_type": "stream",
       "stream": "stdout",
       "text": [
        "{'Title': 'Please Please Me', 'UK Chart Position': '1', 'Label': 'Parlophone(UK)', 'Released': '22 March 1963', 'US Chart Position': '-', 'RIAA Certification': 'Platinum', 'BPI Certification': 'Gold'}\n",
        "{'Title': 'With the Beatles', 'UK Chart Position': '1', 'Label': 'Parlophone(UK)', 'Released': '22 November 1963', 'US Chart Position': '-', 'RIAA Certification': 'Gold', 'BPI Certification': 'Platinum'}\n",
        "{'Title': 'Beatlemania! With the Beatles', 'UK Chart Position': '-', 'Label': 'Capitol(CAN)', 'Released': '25 November 1963', 'US Chart Position': '-', 'RIAA Certification': '', 'BPI Certification': ''}\n",
        "{'Title': 'Introducing... The Beatles', 'UK Chart Position': '-', 'Label': 'Vee-Jay(US)', 'Released': '10 January 1964', 'US Chart Position': '2', 'RIAA Certification': '', 'BPI Certification': ''}\n",
        "{'Title': 'Meet the Beatles!', 'UK Chart Position': '-', 'Label': 'Capitol(US)', 'Released': '20 January 1964', 'US Chart Position': '1', 'RIAA Certification': '5xPlatinum', 'BPI Certification': ''}\n",
        "{'Title': 'Twist and Shout', 'UK Chart Position': '-', 'Label': 'Capitol(CAN)', 'Released': '3 February 1964', 'US Chart Position': '-', 'RIAA Certification': '', 'BPI Certification': ''}\n",
        "{'Title': \"The Beatles' Second Album\", 'UK Chart Position': '-', 'Label': 'Capitol(US)', 'Released': '10 April 1964', 'US Chart Position': '1', 'RIAA Certification': '2xPlatinum', 'BPI Certification': ''}\n",
        "{'Title': \"The Beatles' Long Tall Sally\", 'UK Chart Position': '-', 'Label': 'Capitol(CAN)', 'Released': '11 May 1964', 'US Chart Position': '-', 'RIAA Certification': '', 'BPI Certification': ''}\n",
        "{'Title': \"A Hard Day's Night\", 'UK Chart Position': '-', 'Label': 'United Artists(US)[C]', 'Released': '26 June 1964', 'US Chart Position': '1', 'RIAA Certification': '4xPlatinum', 'BPI Certification': ''}\n",
        "{'Title': '', 'UK Chart Position': '1', 'Label': 'Parlophone(UK)', 'Released': '10 July 1964', 'US Chart Position': '-', 'RIAA Certification': '', 'BPI Certification': 'Gold'}\n",
        "{'Title': 'Something New', 'UK Chart Position': '-', 'Label': 'Capitol(US)', 'Released': '20 July 1964', 'US Chart Position': '2', 'RIAA Certification': 'Platinum', 'BPI Certification': ''}\n",
        "{'Title': 'Beatles for Sale', 'UK Chart Position': '1', 'Label': 'Parlophone(UK)', 'Released': '4 December 1964', 'US Chart Position': '-', 'RIAA Certification': 'Platinum', 'BPI Certification': 'Gold'}\n",
        "{'Title': \"Beatles '65\", 'UK Chart Position': '-', 'Label': 'Capitol(US)', 'Released': '15 December 1964', 'US Chart Position': '1', 'RIAA Certification': '3xPlatinum', 'BPI Certification': ''}\n",
        "{'Title': 'Beatles VI', 'UK Chart Position': '-', 'Label': 'Parlophone(NZ), Capitol(US)', 'Released': '14 June 1965', 'US Chart Position': '1', 'RIAA Certification': 'Platinum', 'BPI Certification': ''}\n",
        "{'Title': 'Help!', 'UK Chart Position': '1', 'Label': 'Parlophone(UK)', 'Released': '6 August 1965', 'US Chart Position': '-', 'RIAA Certification': '', 'BPI Certification': 'Platinum'}\n",
        "{'Title': '', 'UK Chart Position': '-', 'Label': 'Capitol(US)[C]', 'Released': '13 August 1965', 'US Chart Position': '1', 'RIAA Certification': '3xPlatinum', 'BPI Certification': ''}\n",
        "{'Title': 'Rubber Soul', 'UK Chart Position': '1', 'Label': 'Parlophone(UK)', 'Released': '3 December 1965', 'US Chart Position': '-', 'RIAA Certification': '', 'BPI Certification': 'Platinum'}\n",
        "{'Title': '', 'UK Chart Position': '-', 'Label': 'Capitol(US)[C]', 'Released': '6 December 1965', 'US Chart Position': '1', 'RIAA Certification': '6xPlatinum', 'BPI Certification': ''}\n",
        "{'Title': 'Yesterday and Today', 'UK Chart Position': '-', 'Label': 'Capitol(US)', 'Released': '15 June 1966', 'US Chart Position': '1', 'RIAA Certification': '2xPlatinum', 'BPI Certification': ''}\n",
        "{'Title': 'Revolver', 'UK Chart Position': '1', 'Label': 'Parlophone(UK)', 'Released': '5 August 1966', 'US Chart Position': '-', 'RIAA Certification': '', 'BPI Certification': 'Platinum'}\n",
        "{'Title': '', 'UK Chart Position': '-', 'Label': 'Capitol(US)[C]', 'Released': '8 August 1966', 'US Chart Position': '1', 'RIAA Certification': '5xPlatinum', 'BPI Certification': ''}\n",
        "{'Title': \"Sgt. Pepper's Lonely Hearts Club Band\", 'UK Chart Position': '1', 'Label': 'Parlophone(UK), Capitol(US)', 'Released': '1 June 1967', 'US Chart Position': '1', 'RIAA Certification': '11xPlatinum', 'BPI Certification': '3xPlatinum'}\n",
        "{'Title': 'Magical Mystery Tour', 'UK Chart Position': '31[D]', 'Label': 'Parlophone(UK), Capitol(US)', 'Released': '27 November 1967', 'US Chart Position': '1', 'RIAA Certification': '6xPlatinum', 'BPI Certification': 'Platinum'}\n",
        "{'Title': 'The Beatles', 'UK Chart Position': '1', 'Label': 'Apple(UK), Capitol(US)', 'Released': '22 November 1968', 'US Chart Position': '1', 'RIAA Certification': '19xPlatinum', 'BPI Certification': 'Platinum'}\n",
        "{'Title': 'Yellow Submarine', 'UK Chart Position': '3', 'Label': 'Apple(UK), Capitol(US)', 'Released': '13 January 1969', 'US Chart Position': '2', 'RIAA Certification': 'Platinum', 'BPI Certification': 'Silver'}\n",
        "{'Title': 'Abbey Road', 'UK Chart Position': '1', 'Label': 'Apple(UK), Capitol(US)', 'Released': '26 September 1969', 'US Chart Position': '1', 'RIAA Certification': '12xPlatinum', 'BPI Certification': '2xPlatinum'}\n",
        "{'Title': 'Let It Be', 'UK Chart Position': '1', 'Label': 'Apple(UK),United Artists(US)', 'Released': '8 May 1970', 'US Chart Position': '1', 'RIAA Certification': '4xPlatinum', 'BPI Certification': 'Gold'}\n"
       ]
      }
     ],
     "prompt_number": 8
    },
    {
     "cell_type": "heading",
     "level": 4,
     "metadata": {},
     "source": [
      "Using Pandas:"
     ]
    },
    {
     "cell_type": "code",
     "collapsed": false,
     "input": [
      "df_csv = pd.read_csv(datafile)\n",
      "df_csv.head()\n",
      "#df_csv.info()"
     ],
     "language": "python",
     "metadata": {},
     "outputs": [
      {
       "html": [
        "<div style=\"max-height:1000px;max-width:1500px;overflow:auto;\">\n",
        "<table border=\"1\" class=\"dataframe\">\n",
        "  <thead>\n",
        "    <tr style=\"text-align: right;\">\n",
        "      <th></th>\n",
        "      <th>Title</th>\n",
        "      <th>Released</th>\n",
        "      <th>Label</th>\n",
        "      <th>UK Chart Position</th>\n",
        "      <th>US Chart Position</th>\n",
        "      <th>BPI Certification</th>\n",
        "      <th>RIAA Certification</th>\n",
        "    </tr>\n",
        "  </thead>\n",
        "  <tbody>\n",
        "    <tr>\n",
        "      <th>0</th>\n",
        "      <td>              Please Please Me</td>\n",
        "      <td>    22 March 1963</td>\n",
        "      <td> Parlophone(UK)</td>\n",
        "      <td> 1</td>\n",
        "      <td> -</td>\n",
        "      <td>     Gold</td>\n",
        "      <td>   Platinum</td>\n",
        "    </tr>\n",
        "    <tr>\n",
        "      <th>1</th>\n",
        "      <td>              With the Beatles</td>\n",
        "      <td> 22 November 1963</td>\n",
        "      <td> Parlophone(UK)</td>\n",
        "      <td> 1</td>\n",
        "      <td> -</td>\n",
        "      <td> Platinum</td>\n",
        "      <td>       Gold</td>\n",
        "    </tr>\n",
        "    <tr>\n",
        "      <th>2</th>\n",
        "      <td> Beatlemania! With the Beatles</td>\n",
        "      <td> 25 November 1963</td>\n",
        "      <td>   Capitol(CAN)</td>\n",
        "      <td> -</td>\n",
        "      <td> -</td>\n",
        "      <td>      NaN</td>\n",
        "      <td>        NaN</td>\n",
        "    </tr>\n",
        "    <tr>\n",
        "      <th>3</th>\n",
        "      <td>    Introducing... The Beatles</td>\n",
        "      <td>  10 January 1964</td>\n",
        "      <td>    Vee-Jay(US)</td>\n",
        "      <td> -</td>\n",
        "      <td> 2</td>\n",
        "      <td>      NaN</td>\n",
        "      <td>        NaN</td>\n",
        "    </tr>\n",
        "    <tr>\n",
        "      <th>4</th>\n",
        "      <td>             Meet the Beatles!</td>\n",
        "      <td>  20 January 1964</td>\n",
        "      <td>    Capitol(US)</td>\n",
        "      <td> -</td>\n",
        "      <td> 1</td>\n",
        "      <td>      NaN</td>\n",
        "      <td> 5xPlatinum</td>\n",
        "    </tr>\n",
        "  </tbody>\n",
        "</table>\n",
        "</div>"
       ],
       "metadata": {},
       "output_type": "pyout",
       "prompt_number": 9,
       "text": [
        "                           Title          Released           Label  \\\n",
        "0               Please Please Me     22 March 1963  Parlophone(UK)   \n",
        "1               With the Beatles  22 November 1963  Parlophone(UK)   \n",
        "2  Beatlemania! With the Beatles  25 November 1963    Capitol(CAN)   \n",
        "3     Introducing... The Beatles   10 January 1964     Vee-Jay(US)   \n",
        "4              Meet the Beatles!   20 January 1964     Capitol(US)   \n",
        "\n",
        "  UK Chart Position US Chart Position BPI Certification RIAA Certification  \n",
        "0                 1                 -              Gold           Platinum  \n",
        "1                 1                 -          Platinum               Gold  \n",
        "2                 -                 -               NaN                NaN  \n",
        "3                 -                 2               NaN                NaN  \n",
        "4                 -                 1               NaN         5xPlatinum  "
       ]
      }
     ],
     "prompt_number": 9
    },
    {
     "cell_type": "heading",
     "level": 2,
     "metadata": {},
     "source": [
      "Manipulating Zip Files"
     ]
    },
    {
     "cell_type": "markdown",
     "metadata": {},
     "source": [
      "https://docs.python.org/2/library/zipfile.html  "
     ]
    },
    {
     "cell_type": "code",
     "collapsed": false,
     "input": [
      "from zipfile import ZipFile"
     ],
     "language": "python",
     "metadata": {},
     "outputs": [],
     "prompt_number": 10
    },
    {
     "cell_type": "code",
     "collapsed": false,
     "input": [
      "zipfile = \"2013_ERCOT_Hourly_Load_Data\""
     ],
     "language": "python",
     "metadata": {},
     "outputs": [],
     "prompt_number": 11
    },
    {
     "cell_type": "code",
     "collapsed": false,
     "input": [
      "with ZipFile('{0}.zip'.format(os.path.join(datapath,zipfile)), 'r') as myzip:\n",
      "    myzip.extractall()"
     ],
     "language": "python",
     "metadata": {},
     "outputs": [],
     "prompt_number": 12
    },
    {
     "cell_type": "code",
     "collapsed": false,
     "input": [
      "myzip.filename"
     ],
     "language": "python",
     "metadata": {},
     "outputs": [
      {
       "metadata": {},
       "output_type": "pyout",
       "prompt_number": 140,
       "text": [
        "'/home/rsouza/Dropbox/Renato/ModMinDados/Git/datasets/2013_ERCOT_Hourly_Load_Data.zip'"
       ]
      }
     ],
     "prompt_number": 140
    },
    {
     "cell_type": "heading",
     "level": 2,
     "metadata": {},
     "source": [
      "Acessing Excel Files"
     ]
    },
    {
     "cell_type": "markdown",
     "metadata": {},
     "source": [
      "https://pypi.python.org/pypi/xlrd  "
     ]
    },
    {
     "cell_type": "code",
     "collapsed": false,
     "input": [
      "import xlrd"
     ],
     "language": "python",
     "metadata": {},
     "outputs": [],
     "prompt_number": 13
    },
    {
     "cell_type": "code",
     "collapsed": false,
     "input": [
      "datafile = \"2013_ERCOT_Hourly_Load_Data.xls\""
     ],
     "language": "python",
     "metadata": {},
     "outputs": [],
     "prompt_number": 14
    },
    {
     "cell_type": "code",
     "collapsed": false,
     "input": [
      "workbook = xlrd.open_workbook(os.path.join(datapath,datafile))\n",
      "sheet = workbook.sheet_by_index(0)"
     ],
     "language": "python",
     "metadata": {},
     "outputs": [],
     "prompt_number": 15
    },
    {
     "cell_type": "code",
     "collapsed": false,
     "input": [
      "sheet_data = [[sheet.cell_value(r, col) for col in range(sheet.ncols)] for r in range(sheet.nrows)]\n",
      "sheet_data[:2]"
     ],
     "language": "python",
     "metadata": {},
     "outputs": [
      {
       "metadata": {},
       "output_type": "pyout",
       "prompt_number": 16,
       "text": [
        "[[u'Hour_End',\n",
        "  u'COAST',\n",
        "  u'EAST',\n",
        "  u'FAR_WEST',\n",
        "  u'NORTH',\n",
        "  u'NORTH_C',\n",
        "  u'SOUTHERN',\n",
        "  u'SOUTH_C',\n",
        "  u'WEST',\n",
        "  u'ERCOT'],\n",
        " [41275.041666666664,\n",
        "  7606.263544000012,\n",
        "  1073.892438,\n",
        "  1411.7505669999982,\n",
        "  784.9781659999992,\n",
        "  10369.094390000051,\n",
        "  2206.6750770000012,\n",
        "  4368.490945000006,\n",
        "  882.9319009999975,\n",
        "  28704.077028000065]]"
       ]
      }
     ],
     "prompt_number": 16
    },
    {
     "cell_type": "code",
     "collapsed": false,
     "input": [
      "print \"Number of rows in the sheet:\",\n",
      "print sheet.nrows\n",
      "\n",
      "print \"Type of data in cell (row 3, col 2):\", \n",
      "print sheet.cell_type(3, 2)\n",
      "\n",
      "print \"Value in cell (row 3, col 2):\", \n",
      "print sheet.cell_value(3, 2)\n",
      "\n",
      "print \"Get a slice of values in column 3, from rows 1-3:\",\n",
      "print sheet.col_values(3, start_rowx=1, end_rowx=4)"
     ],
     "language": "python",
     "metadata": {},
     "outputs": [
      {
       "output_type": "stream",
       "stream": "stdout",
       "text": [
        "Number of rows in the sheet: 7296\n",
        "Type of data in cell (row 3, col 2): 2\n",
        "Value in cell (row 3, col 2): 1036.088697\n",
        "Get a slice of values in column 3, from rows 1-3: [1411.7505669999982, 1403.4722870000019, 1395.053150000001]\n"
       ]
      }
     ],
     "prompt_number": 17
    },
    {
     "cell_type": "code",
     "collapsed": false,
     "input": [
      "coast = sheet.col_values(1, start_rowx=1)\n",
      "data3 = {}    \n",
      "data3['maxvalue'] = max(coast)\n",
      "data3['minvalue'] = min(coast)\n",
      "data3['avgcoast'] = np.mean(coast)\n",
      "\n",
      "rowmax = coast.index(max(coast))+1\n",
      "rowmin = coast.index(min(coast))+1\n",
      "\n",
      "data3['maxtime'] = xlrd.xldate_as_tuple(sheet.cell_value(rowmax,0), 0)\n",
      "data3['mintime'] = xlrd.xldate_as_tuple(sheet.cell_value(rowmin,0), 0)"
     ],
     "language": "python",
     "metadata": {},
     "outputs": [],
     "prompt_number": 18
    },
    {
     "cell_type": "code",
     "collapsed": false,
     "input": [
      "data3"
     ],
     "language": "python",
     "metadata": {},
     "outputs": [
      {
       "metadata": {},
       "output_type": "pyout",
       "prompt_number": 19,
       "text": [
        "{'avgcoast': 10976.933460679784,\n",
        " 'maxtime': (2013, 8, 13, 17, 0, 0),\n",
        " 'maxvalue': 18779.025510000003,\n",
        " 'mintime': (2013, 2, 3, 4, 0, 0),\n",
        " 'minvalue': 6602.113898999982}"
       ]
      }
     ],
     "prompt_number": 19
    },
    {
     "cell_type": "heading",
     "level": 4,
     "metadata": {},
     "source": [
      "Using Pandas"
     ]
    },
    {
     "cell_type": "markdown",
     "metadata": {},
     "source": [
      "http://pandas.pydata.org/pandas-docs/stable/generated/pandas.io.excel.read_excel.html  "
     ]
    },
    {
     "cell_type": "code",
     "collapsed": false,
     "input": [
      "pd_excel = pd.read_excel(os.path.join(datapath,datafile))\n",
      "pd_excel.head()"
     ],
     "language": "python",
     "metadata": {},
     "outputs": [
      {
       "html": [
        "<div style=\"max-height:1000px;max-width:1500px;overflow:auto;\">\n",
        "<table border=\"1\" class=\"dataframe\">\n",
        "  <thead>\n",
        "    <tr style=\"text-align: right;\">\n",
        "      <th></th>\n",
        "      <th>Hour_End</th>\n",
        "      <th>COAST</th>\n",
        "      <th>EAST</th>\n",
        "      <th>FAR_WEST</th>\n",
        "      <th>NORTH</th>\n",
        "      <th>NORTH_C</th>\n",
        "      <th>SOUTHERN</th>\n",
        "      <th>SOUTH_C</th>\n",
        "      <th>WEST</th>\n",
        "      <th>ERCOT</th>\n",
        "    </tr>\n",
        "  </thead>\n",
        "  <tbody>\n",
        "    <tr>\n",
        "      <th>0</th>\n",
        "      <td>2013-01-01 01:00:00</td>\n",
        "      <td> 7606.263544</td>\n",
        "      <td> 1073.892438</td>\n",
        "      <td> 1411.750567</td>\n",
        "      <td> 784.978166</td>\n",
        "      <td> 10369.094390</td>\n",
        "      <td> 2206.675077</td>\n",
        "      <td> 4368.490945</td>\n",
        "      <td> 882.931901</td>\n",
        "      <td> 28704.077028</td>\n",
        "    </tr>\n",
        "    <tr>\n",
        "      <th>1</th>\n",
        "      <td>2013-01-01 02:00:00</td>\n",
        "      <td> 7388.082714</td>\n",
        "      <td> 1035.021938</td>\n",
        "      <td> 1403.472287</td>\n",
        "      <td> 776.307387</td>\n",
        "      <td> 10152.358518</td>\n",
        "      <td> 2159.733208</td>\n",
        "      <td> 4233.587967</td>\n",
        "      <td> 872.404750</td>\n",
        "      <td> 28020.968769</td>\n",
        "    </tr>\n",
        "    <tr>\n",
        "      <th>2</th>\n",
        "      <td>2013-01-01 03:00:00</td>\n",
        "      <td> 7178.867878</td>\n",
        "      <td> 1036.088697</td>\n",
        "      <td> 1395.053150</td>\n",
        "      <td> 768.125748</td>\n",
        "      <td>  9988.051418</td>\n",
        "      <td> 2065.114706</td>\n",
        "      <td> 4082.862860</td>\n",
        "      <td> 868.853938</td>\n",
        "      <td> 27383.018395</td>\n",
        "    </tr>\n",
        "    <tr>\n",
        "      <th>3</th>\n",
        "      <td>2013-01-01 04:00:00</td>\n",
        "      <td> 7038.822581</td>\n",
        "      <td> 1032.648841</td>\n",
        "      <td> 1395.508820</td>\n",
        "      <td> 770.937969</td>\n",
        "      <td>  9946.658655</td>\n",
        "      <td> 1990.903699</td>\n",
        "      <td> 4010.489608</td>\n",
        "      <td> 865.701201</td>\n",
        "      <td> 27051.671374</td>\n",
        "    </tr>\n",
        "    <tr>\n",
        "      <th>4</th>\n",
        "      <td>2013-01-01 05:00:00</td>\n",
        "      <td> 6990.857940</td>\n",
        "      <td> 1042.823044</td>\n",
        "      <td> 1401.216842</td>\n",
        "      <td> 779.089313</td>\n",
        "      <td> 10096.664190</td>\n",
        "      <td> 1954.807585</td>\n",
        "      <td> 4038.655997</td>\n",
        "      <td> 879.924249</td>\n",
        "      <td> 27184.039160</td>\n",
        "    </tr>\n",
        "  </tbody>\n",
        "</table>\n",
        "</div>"
       ],
       "metadata": {},
       "output_type": "pyout",
       "prompt_number": 20,
       "text": [
        "             Hour_End        COAST         EAST     FAR_WEST       NORTH  \\\n",
        "0 2013-01-01 01:00:00  7606.263544  1073.892438  1411.750567  784.978166   \n",
        "1 2013-01-01 02:00:00  7388.082714  1035.021938  1403.472287  776.307387   \n",
        "2 2013-01-01 03:00:00  7178.867878  1036.088697  1395.053150  768.125748   \n",
        "3 2013-01-01 04:00:00  7038.822581  1032.648841  1395.508820  770.937969   \n",
        "4 2013-01-01 05:00:00  6990.857940  1042.823044  1401.216842  779.089313   \n",
        "\n",
        "        NORTH_C     SOUTHERN      SOUTH_C        WEST         ERCOT  \n",
        "0  10369.094390  2206.675077  4368.490945  882.931901  28704.077028  \n",
        "1  10152.358518  2159.733208  4233.587967  872.404750  28020.968769  \n",
        "2   9988.051418  2065.114706  4082.862860  868.853938  27383.018395  \n",
        "3   9946.658655  1990.903699  4010.489608  865.701201  27051.671374  \n",
        "4  10096.664190  1954.807585  4038.655997  879.924249  27184.039160  "
       ]
      }
     ],
     "prompt_number": 20
    },
    {
     "cell_type": "heading",
     "level": 2,
     "metadata": {},
     "source": [
      "Accessing HTML"
     ]
    },
    {
     "cell_type": "markdown",
     "metadata": {},
     "source": [
      "https://docs.python.org/2/library/urllib.html  \n",
      "https://docs.python.org/2/library/urllib2.html  \n",
      "http://www.crummy.com/software/BeautifulSoup/  \n",
      "http://docs.python-requests.org/en/latest/  \n",
      "http://lxml.de/  \n",
      "https://docs.python.org/2/library/getpass.html  "
     ]
    },
    {
     "cell_type": "code",
     "collapsed": false,
     "input": [
      "import urllib2\n",
      "from bs4 import BeautifulSoup as bs\n",
      "import requests\n",
      "import lxml.html\n",
      "import getpass"
     ],
     "language": "python",
     "metadata": {},
     "outputs": [],
     "prompt_number": 21
    },
    {
     "cell_type": "code",
     "collapsed": false,
     "input": [
      "url = urllib2.urlopen(\"http://brihaspati.net/downloads/\").read()\n",
      "soup = bs(url)\n",
      "for line in soup.find_all('a'):\n",
      "    print(line.get('href'))"
     ],
     "language": "python",
     "metadata": {},
     "outputs": [
      {
       "output_type": "stream",
       "stream": "stdout",
       "text": [
        "?C=N;O=D\n",
        "?C=M;O=A\n",
        "?C=S;O=A\n",
        "?C=D;O=A\n",
        "/\n",
        "2009_07_08_Patandzsali_beavatas.mp3\n",
        "2009_07_10_Pranajama_es_mantra_ora.mp3\n",
        "2009_07_12_Joga_minden_nap.mp3\n",
        "2009_07_13_Ashtanga_Primary_Lead_Class.mp3\n",
        "2009_07_17_Joga_szutra_bevezetes.mp3\n",
        "2009_07_18_Ajurveda_az_elet_tudomanya.mp3\n",
        "2009_07_24_26_Krisna_volgyi_bucsu_jogabemutatok.mp3\n",
        "2009_08_21_Joga_szutra_mi_a_joga.mp3\n",
        "2009_08_23_Eletrajzi_interju.mp3\n",
        "2009_08_28_Civil_Radio_Atma_Center.mp3\n",
        "2009_08_28_Pranajama_es_mantra_ora.mp3\n",
        "2009_08_29_Devamrita_Swami_Radha_Madhava.mp3\n",
        "2009_08_30_Pranajama_Pula.mp3\n",
        "2009_08_31_Pranajama_Pula.mp3\n",
        "2009_09_01_Pranajama_Pula.mp3\n",
        "2009_09_02_Hare_Krisna_Pula.mp3\n",
        "2009_09_02_Pranajama_Pula.mp3\n",
        "2009_09_03_Telihold_meditacio_Pula.mp3\n",
        "2009_09_04_Pranajama_Pula.mp3\n",
        "2009_09_12_Joga_szutra_a_tudat_valtozasai.mp3\n",
        "2009_09_14_Manju_Jois_workshop.mp3\n",
        "2009_09_15_Manju_Jois_chanting&stories.mp3\n",
        "2009_09_15_Manju_Jois_lead_class.mp3\n",
        "2009_09_16_Manju_Jois_workshop.mp3\n",
        "2009_09_25_Pranajama_es_mantra_ora.mp3\n",
        "2009_09_26_Astanga_workshop_Debrecen_1.mp3\n",
        "2009_09_27_Astanga_workshop_Debrecen_2.mp3\n",
        "2009_09_27_Bhagavad-gita_6_47_Debrecen.mp3\n",
        "2009_10_02_Joga_szutra_gyakorlas_es_elkulonules.mp3\n",
        "2009_10_09_Pranajama_es_mantra_ora.mp3\n",
        "2009_10_23_Nama_tattva_1.mp3\n",
        "2009_10_23_Nama_tattva_2.mp3\n",
        "2009_11_13_Joga_szutra_a_szamadhi_es_az_Isvara.mp3\n",
        "2009_11_20_Pranajama_es_mantra_ora.mp3\n",
        "2009_12_18_Joga-szutra_az_akadalyok_es_legyozesuk.mp3\n",
        "2010_01_08_Pranajama_es_mantra_ora.mp3\n",
        "2010_01_22_Joga_szutra_a_szamapatti.mp3\n",
        "2010_01_25_Kossuth_Radio_Joganap.mp3\n",
        "2010_02_22_Shivan_Kutty_mantra_Class_Kovalam.mp3\n",
        "2010_03_12_Joga_szutra_a_szenvedes_forrasai.mp3\n",
        "2010_03_26_Pranajama_es_mantra_ora.mp3\n",
        "2010_04_09_Joga_szutra_a_prakriti_es_a_purusa.mp3\n",
        "2010_04_24_Pranajama_es_mantra_ora.mp3\n",
        "2010_05_14_Joga_szutra_A_jama_es_a_nijama.mp3\n",
        "2010_05_28_Kerala_Jogatabor_beszamolo.mp3\n",
        "2010_06_11_Joga_szutra_az_aszanatol_a_szamadhiig.mp3\n",
        "2010_07_02_Pranajama_es_mantra_ora.mp3\n",
        "2010_10_03_Beszelgetes_a_jogaoktatasrol.mp3\n",
        "2011_05_13_Govinda_Kai_Ganesha_mantra.mp3\n",
        "2011_05_13_Govinda_Kai_Workshop_Introduction%20.mp3\n",
        "2011_05_14_Govinda_Kai_Explanation_of_Shiva.mp3\n",
        "2011_05_14_Govinda_Kai_Hare_Krishna_mantra.mp3\n",
        "2011_05_14_Govinda_Kai_Shiva_mantra.mp3\n",
        "2011_05_14_Govinda_Kai_Yama_Niyama.mp3\n",
        "2011_05_15_Govinda_Kai_Conclusion.mp3\n",
        "2011_05_15_Govinda_Kai_Hare_Krishna_Kirtan.mp3\n",
        "2011_05_15_Govinda_Kai_Overview.mp3\n",
        "2011_05_15_Govinda_Kai_Sri_Rama_mantra.mp3\n",
        "2011_05_31_Jogalujza_interju.mp3\n",
        "2013_02_15_Interju_Gauranga.mp3\n",
        "2013_09_14_Jogikus_taplalkozas_Gauranga.MP3\n",
        "2013_09_17_Manju_Jois_TTC.MP3\n",
        "2013_09_18_Manju_Jois_TTC.MP3\n",
        "2013_09_19_Manju_Jois_Led_Class.MP3\n",
        "2013_09_19_Manju_Jois_TTC.MP3\n",
        "2013_09_20_Manju_Jois_TTC.MP3\n",
        "2013_09_22_Manju_Jois_Workshop.MP3\n",
        "2013_10_13_Hatha_Joga_Pradipika_1_Gauranga.mp3\n",
        "2013_10_26_A_joga_faja_Gauranga.MP3\n",
        "2013_11_17_Hatha_Joga_Pradipika_2_Gauranga.MP3\n",
        "2013_12_11_Interju_Gauranga.MP3\n",
        "2013_12_22_Interju_Patrick.MP3\n",
        "2014_01_12_Hatha-joga_Pradipika_3_fejezet_Gauranga.mp3\n",
        "2014_01_25_A_betegsegek_lelki_okai_Gauranga.mp3\n",
        "A_Fiatalsag_Forrasa_Ot_Tibeti_Peter_Kelder.pdf\n",
        "A_History_of_Indian_Philosophy_Surendranath_Dasgupta.pdf\n",
        "A_Joga_Aldasos_Ereje_S_Yesudian.pdf\n",
        "A_betegseg_mint_szimbolum_Ruediger_Dahlke.pdf\n",
        "AcroMusic2012.mp3\n",
        "Acro_Mix_2013.mp3\n",
        "Agni_jegyzet.doc\n",
        "Agni_yoga_Gauranga.mpg\n",
        "Ajurveda_2010.pdf\n",
        "Ambient%20Nights%20CD1%20-%20Mixed%20by%20Hephaestion.mp3\n",
        "Ambient%20Nights%20CD2%20-%20Mixed%20by%20Hephaestion.mp3\n",
        "Ambient%20Nights%20CD3%20-%20Mixed%20by%20Hephaestion.mp3\n",
        "Ambient%20Nights%20CD4%20-%20Mixed%20by%20Hephaestion.mp3\n",
        "Ambient%20Nights%20CD5%20-%20Mixed%20by%20Hephaestion.mp3\n",
        "Ambient%20Nights%20CD6%20-%20Mixed%20by%20Hephaestion.mp3\n",
        "Ambient%20Nights%20CD7%20-%20Mixed%20by%20Hephaestion.mp3\n",
        "Ambient%20Nights%20CD8%20-%20Mixed%20by%20Hephaestion.mp3\n",
        "Ambient%20Nights%20CD9%20-%20Mixed%20by%20Hephaestion.mp3\n",
        "Ambient%20Nights%20CD10%20-%20Ambiotic%20Dreams.mp3\n",
        "Anatomy_of_Breath_Leslie_Kaminoff.pdf\n",
        "Anatomy%20of%20Hatha%20Yoga.pdf\n",
        "Articles+on+Yoga+Injuries.pdf\n",
        "Asanas%20%20608%20Yoga%20Poses%20-%20Complete%20Opt.pdf\n",
        "AshtangaAtmaBig.pdf\n",
        "Ashtanga%20Yoga%20-%20The%20Intermediate%20Series%20%20-%20Maehle%20Gregor.pdf\n",
        "Ashtanga%20Yoga%20Practice%20and%20Philosophy%20-%20Maehle%20Gregor.pdf\n",
        "Ashtanga_1.pdf\n",
        "Ashtanga_2.pdf\n",
        "Ashtanga_3.pdf\n",
        "Ashtanga_4.pdf\n",
        "Ashtanga_5.pdf\n",
        "Ashtanga_6.pdf\n",
        "Ashtanga_2010.pdf\n",
        "Ashtanga_Finishing.pdf\n",
        "Ashtanga_Mix_2013.mp3\n",
        "Ashtanga_Standing.pdf\n",
        "Ashtanga_Yoga_Tim_Miller.pdf\n",
        "Astanga_Gauranga_1.wmv\n",
        "Astanga_Gauranga_2.wmv\n",
        "Astanga_TTC_felveteli.pdf\n",
        "Asztro.pdf\n",
        "Asztro.zip\n",
        "Atreyu_Ajurveda.pdf\n",
        "Az_Emberi_Test_Steve_Parker.PDF\n",
        "Az_Onmegvalositas_Tudomanya_Srila_Prabhupada.pdf\n",
        "B_K_S_Iyengar_A_Joga_faja.pdf\n",
        "Baktay-Ervin-A-Diadalmas-Joga.pdf\n",
        "Baktay-Ervin-Szanatana-Dharma-A-hindu-vilagszemlelet.pdf\n",
        "Bevezetes_a_Yogaba_Kaczvinszky_Jozsef.pdf\n",
        "Blackmill_Mix_2013.mp3\n",
        "Buddha_Mix.mp3\n",
        "Building%20the%20Gymnastic%20Body%20(7Summits).pdf\n",
        "Bullet_Proof_Abs_P_Tsatsouline.pdf\n",
        "C_W_Leadbeater_A_Csakrak.pdf\n",
        "Carlos-Castaneda-Belulrol-izzo-tuz.pdf\n",
        "Carlos-Castaneda-Don-Juan-tanitasai.pdf\n",
        "Carlos-Castaneda-Ixtlani-utazas.pdf\n",
        "Carlos-Castaneda-a-Sas-Ajandeka.pdf\n",
        "Coach_Sommer_Gymnastic_Bodies_Foundation_One_F1.pdf\n",
        "Complete%20Illustrated%20Book%20of%20Yoga%20The%20-%20Devananda%20Vishnu%20Swami.pdf\n",
        "Coupon%20Flyer.indd\n",
        "Csogyal-Namkhai-Norbu-Alomjoga-es-a-termeszetes-feny-gyakorlata.pdf\n",
        "Deepak%20Chopra%20-%20T%f6k%e9letes%20eg%e9szs%e9g%20az%20ayurv%e9da%20seg%edts%e9g%e9vel.pdf\n",
        "Deepak_Chopra_Tokeletes_egeszseg.pdf\n",
        "Deepak_Chopra__Az_elet_het_torvenye.pdf\n",
        "Dely_Karoly_Joga-gyakorlatok.pdf\n",
        "Do-In-Elj-Szaz-Evet-Egeszsegben.pdf\n",
        "Dr.Paul_Brunton_A_joga_titkos_tanitasai.pdf\n",
        "Dr.Paul_Brunton_India_titkai.pdf\n",
        "Dynamic_Yoga_Kia_Meaux.pdf\n",
        "Edgar_Cayce_a_reinkarnaciorol.pdf\n",
        "Elisabeth_haich_szexualis_ero_es_a_joga.pdf\n",
        "Fegyencedzes.pdf\n",
        "Fegyencedzes2.pdf\n",
        "Frawley_Joga_Ajurveda.pdf\n",
        "GDHD.zip\n",
        "Garuda_Purana.pdf\n",
        "Gertrud_Hirschi_Mudrak.pdf\n",
        "Gheranda_Samhita_S_C_Vasu.pdf\n",
        "Goloka_Mix.mp3\n",
        "Gyakorlati_Yoga_Kaczvinszky_Jozsef.pdf\n",
        "Harcosok_etrendje_Ori_Hofmekler.pdf\n",
        "Harish-Dzsohari-Csakrak-rejtett-energiakozpontok.pdf\n",
        "Hatha_Joga_Pradipika_Gauranga.pdf\n",
        "Hatha_Yoga_Pradipika_Yogi_Svatmarama.pdf\n",
        "Hetenyi_Erno_Tibeti_Halottaskonyv.pdf\n",
        "Hiroshi-Motoyama-Minden-amit-a-csakrakrol-tudni-lehet.pdf\n",
        "History_of_Modern_Yoga__Elizabeth_De_Michelis.pdf\n",
        "How%20to%20Become%20a%20Great%20Yoga%20Teacher%20WithoDime%20on%20Teacher%20Training%20-%20Colbert%20Mara.pdf\n",
        "Iyengar_Joga_holisztikus.pdf\n",
        "Joga-szutra_a_prakriti_es_a_purusa.pdf\n",
        "Joga_es_Pszichoterapia_Swami_Rama.pdf\n",
        "Joga_es_tudomany_Vigh_Bela_minden_a_jogarol_.pdf\n",
        "Joga_es_vegetarianizmus.pdf\n",
        "Joga_mindenkinek.pdf\n",
        "Joga_szutra_a_jama_es_a_nijama.pdf\n",
        "Joga_szutra_a_szamadhi_es_az_Isvara.pdf\n",
        "Joga_szutra_a_szamapatti.pdf\n",
        "Joga_szutra_a_szenvedes_forrasai.pdf\n",
        "Joga_szutra_a_tudat_valtozasai.pdf\n",
        "Joga_szutra_az_akadalyok_es_legyozesuk.pdf\n",
        "Joga_szutra_az_aszanatol_a_szamadhiig.pdf\n",
        "Joga_szutra_bevezetes.pdf\n",
        "Joga_szutra_gyakorlas_es_elkulonules.pdf\n",
        "Joga_szutra_mi_a_joga.pdf\n",
        "Kaczvinszky_Jozsef_Patanjali_Yoga_Sutrai.pdf\n",
        "Kapalika_Szadhana_Kara_Istvan.pdf\n",
        "Karunesh_Mix_Long.mp3\n",
        "Kina_tanulmany_Colin_T_Campbell.pdf\n",
        "Krishnadas_Mix.mp3\n",
        "Krisna_Mix.mp3\n",
        "Krisna_konyv_Srila_Prabhupada.pdf\n",
        "Kundalini_Yoga_Swami_Sivananda.pdf\n",
        "Kurt-Tepperwein-A-Lelek-nyelve-A-betegseg.pdf\n",
        "Lao_Ce__Tao_te_King_Az_ut_es_ereny_konyve.pdf\n",
        "Lao_Ce_intelmei.pdf\n",
        "Light_on_Pranayama__B_K_S_Iyengar.pdf\n",
        "Liz_Simpson_A_csakragyogyitas_konyve.pdf\n",
        "MC_Yogi_Mix.mp3\n",
        "Mahabharata_Krishna_Dharma.pdf\n",
        "Maoshing-Ni-A-Hosszu-Let-Taoista-Titkai.pdf\n",
        "Maran%20Illustrated%20Yoga%20Book.pdf\n",
        "Massage_2010.pdf\n",
        "Matrix_Mix.mp3\n",
        "Melylelektan.pdf\n",
        "Micrae-Eliade-Szent-es-profan.pdf\n",
        "Mike-Booth-Szingyogymod.pdf\n",
        "Mircea-Eliade-Joga-Halhatatlansag-es-Szabadsag.pdf\n",
        "Mircea-Eliade-Kepek-es-jelkepek.pdf\n",
        "Misztikus_Yoga_Kaczvinszky_Jozsef.pdf\n",
        "Mit-Arul-El-a-Betegseged-Kurt-Tepperwein.pdf\n",
        "Overcoming_Gravity_Steven_Low.pdf\n",
        "Paramhansza-Jogananda-A-Mester-Mondta.pdf\n",
        "Patricia%20Mercier%20-%20The%20Chakra%20Bible%20%5b1%20eBook%20-%20PDF%5d%20Collated%20OCR.pdf\n",
        "Pavel%20Tsatsouline%20Kezdd%20el%20a%20Kettlebellt.PDF\n",
        "Philosophy_of_Guru_Gorakhnath.pdf\n",
        "Practical_Lessons_in_Yoga_Swami_Sivananda.pdf\n",
        "Pranajama.pdf\n",
        "Ramana_Maharsi_Tanitasai_A_nyilegyenes_osveny.pdf\n",
        "Ramayana_Krishna_Dharma.pdf\n",
        "Relax_into_Stretch_P_Tsatsouline.pdf\n",
        "Requiem%20for%20a%20Dream%20Remix%20New.mp3\n",
        "Rudiger_Dahlke_A_mandalak_vilaga.pdf\n",
        "Salutation%20to%20the%20Teacher%20and%20the%20Eternal%20one.%20Krishnamacharya.pdf\n",
        "SchoolYoga_Institute_Teacher_Training_Manual.pdf\n",
        "Schrott-Schachinger-Ayurveda-a-Sziv-es-Errendszeri-Betegsegek-Gyogyitasaban.pdf\n",
        "Science_of_Breath_Yogi_Ramacharaka.pdf\n",
        "Science_of_Pranayama_Swami_Sivananda.pdf\n",
        "Selvarajan_Yesudian_Joga_hetrol_hetre.pdf\n",
        "Shiva_Samhita_Monroe_P_Munro.pdf\n",
        "Sport_es_Joga_S_Yesudian.pdf\n",
        "Srimad_Bhagavatam_Elso_Enek_Srila_Prahupada.pdf\n",
        "./Srivatsa_Ramaswami:My_Studies_with_Krishnamacharya.pdf\n",
        "Storytime%20Yoga%20Complete%20Opt%20OCR.pdf\n",
        "Stretching%20Anatomy.pdf\n",
        "Super_Joints_P_Tsatsouline.pdf\n",
        "Surya-Namaskara-1928-Rajah-of-Aundh.pdf\n",
        "Surya%20Namaskara%201928.%20The%20Ten%20Point%20Way%20to%20Health%20by%20Shrimant%20Balasahib%20Rajah%20of%20Aundh%20OCR.pdf\n",
        "T.Dethlefsen-R.Dahlke_Ut_a_teljesseghez.pdf\n",
        "Tanitasok_nektarja_prabhupada.pdf\n",
        "Teaching%20Yoga%20Essential%20Foundations%20and%20Techniques%20-%20Stephens%20Mark.pdf\n",
        "Thai_Massage_Manual.pdf\n",
        "The%20Yoga%20Adventure%20for%20Children.pdf\n",
        "The%20Yoga%20Tradition%20of%20the%20Mysore%20Palace%20Complete%20Opt%20OCR.pdf\n",
        "The_Illustrated_Light_On_Yoga_Iyengar_B.K.S.pdf\n",
        "The_Naked_Warrior_P_Tsatsouline.pdf\n",
        "The_Serpent_Power_Arthur_Avalon.pdf\n",
        "Thorwald_Dethlefsen_A_sors_mint_esely.pdf\n",
        "Thrive%20The%20Vegan%20Nutrition%20Guide%20to%20Optimal%20Performance%20in%20Sports%20and%20Life.pdf\n",
        "Tokeletes_Kerdesek_Srila_Prabhupada.pdf\n",
        "Upanisadok.pdf\n",
        "Vasztu.pdf\n",
        "Vinyasza_joga.pdf\n",
        "Visszateres_Srila_Prabhupada.pdf\n",
        "Wayne-W-Dyer-A-szandek-hatalma.pdf\n",
        "Yoga%20-%20Jala%20Neti%20Handbook.pdf\n",
        "Yoga-Makaranda-Part-2-Sri-T-Krishnamacharya.pdf\n",
        "Yoga%20-%20Shiva%20Samhita.pdf\n",
        "Yoga%20-%20Sri%20Yukteswar%20Giri%20-The%20Holy%20Science.pdf\n",
        "Yoga%20%20-%20Swami%20Narayanananda%20-%20The%20Secrets%20Of%20Prana,%20Pranayama%20&%20Yoga%20Asanas%20-%201959.pdf\n",
        "Yoga-Vasistha-Narayanaswami_Aiyer.pdf\n",
        "Yoga.zip\n",
        "Yoga%20Anatomy%20-%20L.%20Kaminoff%20(2007)%20WW.pdf\n",
        "Yoga%20Book.pdf\n",
        "Yoga%20Cures%20Simple%20Routines%20to%20Conquer%20Mlments%20and%20Live%20Pain-Free%20-%20Stiles%20Tara.pdf\n",
        "Yoga%20Dummies%202nd%20ed.pdf\n",
        "YogaHD.zip\n",
        "Yoga%20Mala%20The%20Seminal%20Treatise%20andster%20of%20Ashtanga%20Yoga%20-%20Jois%20Sri%20K.%20Pattabhi.pdf\n",
        "Yoga%20Posture%20Adjustments%20and%20Assisting%20Teachers%20and%20Students%20-%20Stephanie%20Pappas.pdf\n",
        "Yoga_Body_Mark_Singleton.pdf\n",
        "Yoga_Immortality_and_Freedom_Mircea_Eliade.pdf\n",
        "Yoga_Makaranda_T_Krishnamacharya.pdf\n",
        "Yoga__The_Indian_Tradition.pdf\n",
        "Yoga%20and%20Multiple%20Sclerosis%20(7Summits).pdf\n",
        "Yoga%20as%20Medicine%20The%20Yogic%20Prescription%20fond%20Healing%20-%20Mccall%20Timothy%20&%20Yoga%20Jo.pdf\n",
        "Yoga%20as%20Therapeutic%20Exercise%20A%20Practical%20Guide%20for%20Manual%20Therapists-Mantesh.pdf\n",
        "Yoga%20in%20Modern%20India%20Complete%20Opt%20OCR.pdf\n",
        "Yoga%20in%20Practice%20Complete%20Opt%20OCR.pdf\n",
        "Yogasanagalu.pdf\n",
        "Zach_Even_Esh_Undeground_Beast_Strength.pdf\n",
        "bhagavad_gita.pdf\n",
        "joga.pdf\n",
        "joga_es.pdf\n",
        "jogafeszt.mp3\n",
        "mudrak.pdf\n",
        "yoga%20for%20men.pdf\n"
       ]
      }
     ],
     "prompt_number": 22
    },
    {
     "cell_type": "markdown",
     "metadata": {},
     "source": [
      "Another approach (some say are faster)"
     ]
    },
    {
     "cell_type": "code",
     "collapsed": false,
     "input": [
      "connection = urllib2.urlopen('http://brihaspati.net/downloads/')\n",
      "dom =  lxml.html.fromstring(connection.read())\n",
      "for link in dom.xpath('//a/@href'): # select the url in href for all a tags(links)\n",
      "    print link"
     ],
     "language": "python",
     "metadata": {},
     "outputs": [
      {
       "output_type": "stream",
       "stream": "stdout",
       "text": [
        "?C=N;O=D\n",
        "?C=M;O=A\n",
        "?C=S;O=A\n",
        "?C=D;O=A\n",
        "/\n",
        "2009_07_08_Patandzsali_beavatas.mp3\n",
        "2009_07_10_Pranajama_es_mantra_ora.mp3\n",
        "2009_07_12_Joga_minden_nap.mp3\n",
        "2009_07_13_Ashtanga_Primary_Lead_Class.mp3\n",
        "2009_07_17_Joga_szutra_bevezetes.mp3\n",
        "2009_07_18_Ajurveda_az_elet_tudomanya.mp3\n",
        "2009_07_24_26_Krisna_volgyi_bucsu_jogabemutatok.mp3\n",
        "2009_08_21_Joga_szutra_mi_a_joga.mp3\n",
        "2009_08_23_Eletrajzi_interju.mp3\n",
        "2009_08_28_Civil_Radio_Atma_Center.mp3\n",
        "2009_08_28_Pranajama_es_mantra_ora.mp3\n",
        "2009_08_29_Devamrita_Swami_Radha_Madhava.mp3\n",
        "2009_08_30_Pranajama_Pula.mp3\n",
        "2009_08_31_Pranajama_Pula.mp3\n",
        "2009_09_01_Pranajama_Pula.mp3\n",
        "2009_09_02_Hare_Krisna_Pula.mp3\n",
        "2009_09_02_Pranajama_Pula.mp3\n",
        "2009_09_03_Telihold_meditacio_Pula.mp3\n",
        "2009_09_04_Pranajama_Pula.mp3\n",
        "2009_09_12_Joga_szutra_a_tudat_valtozasai.mp3\n",
        "2009_09_14_Manju_Jois_workshop.mp3\n",
        "2009_09_15_Manju_Jois_chanting&stories.mp3\n",
        "2009_09_15_Manju_Jois_lead_class.mp3\n",
        "2009_09_16_Manju_Jois_workshop.mp3\n",
        "2009_09_25_Pranajama_es_mantra_ora.mp3\n",
        "2009_09_26_Astanga_workshop_Debrecen_1.mp3\n",
        "2009_09_27_Astanga_workshop_Debrecen_2.mp3\n",
        "2009_09_27_Bhagavad-gita_6_47_Debrecen.mp3\n",
        "2009_10_02_Joga_szutra_gyakorlas_es_elkulonules.mp3\n",
        "2009_10_09_Pranajama_es_mantra_ora.mp3\n",
        "2009_10_23_Nama_tattva_1.mp3\n",
        "2009_10_23_Nama_tattva_2.mp3\n",
        "2009_11_13_Joga_szutra_a_szamadhi_es_az_Isvara.mp3\n",
        "2009_11_20_Pranajama_es_mantra_ora.mp3\n",
        "2009_12_18_Joga-szutra_az_akadalyok_es_legyozesuk.mp3\n",
        "2010_01_08_Pranajama_es_mantra_ora.mp3\n",
        "2010_01_22_Joga_szutra_a_szamapatti.mp3\n",
        "2010_01_25_Kossuth_Radio_Joganap.mp3\n",
        "2010_02_22_Shivan_Kutty_mantra_Class_Kovalam.mp3\n",
        "2010_03_12_Joga_szutra_a_szenvedes_forrasai.mp3\n",
        "2010_03_26_Pranajama_es_mantra_ora.mp3\n",
        "2010_04_09_Joga_szutra_a_prakriti_es_a_purusa.mp3\n",
        "2010_04_24_Pranajama_es_mantra_ora.mp3\n",
        "2010_05_14_Joga_szutra_A_jama_es_a_nijama.mp3\n",
        "2010_05_28_Kerala_Jogatabor_beszamolo.mp3\n",
        "2010_06_11_Joga_szutra_az_aszanatol_a_szamadhiig.mp3\n",
        "2010_07_02_Pranajama_es_mantra_ora.mp3\n",
        "2010_10_03_Beszelgetes_a_jogaoktatasrol.mp3\n",
        "2011_05_13_Govinda_Kai_Ganesha_mantra.mp3\n",
        "2011_05_13_Govinda_Kai_Workshop_Introduction%20.mp3\n",
        "2011_05_14_Govinda_Kai_Explanation_of_Shiva.mp3\n",
        "2011_05_14_Govinda_Kai_Hare_Krishna_mantra.mp3\n",
        "2011_05_14_Govinda_Kai_Shiva_mantra.mp3\n",
        "2011_05_14_Govinda_Kai_Yama_Niyama.mp3\n",
        "2011_05_15_Govinda_Kai_Conclusion.mp3\n",
        "2011_05_15_Govinda_Kai_Hare_Krishna_Kirtan.mp3\n",
        "2011_05_15_Govinda_Kai_Overview.mp3\n",
        "2011_05_15_Govinda_Kai_Sri_Rama_mantra.mp3\n",
        "2011_05_31_Jogalujza_interju.mp3\n",
        "2013_02_15_Interju_Gauranga.mp3\n",
        "2013_09_14_Jogikus_taplalkozas_Gauranga.MP3\n",
        "2013_09_17_Manju_Jois_TTC.MP3\n",
        "2013_09_18_Manju_Jois_TTC.MP3\n",
        "2013_09_19_Manju_Jois_Led_Class.MP3\n",
        "2013_09_19_Manju_Jois_TTC.MP3\n",
        "2013_09_20_Manju_Jois_TTC.MP3\n",
        "2013_09_22_Manju_Jois_Workshop.MP3\n",
        "2013_10_13_Hatha_Joga_Pradipika_1_Gauranga.mp3\n",
        "2013_10_26_A_joga_faja_Gauranga.MP3\n",
        "2013_11_17_Hatha_Joga_Pradipika_2_Gauranga.MP3\n",
        "2013_12_11_Interju_Gauranga.MP3\n",
        "2013_12_22_Interju_Patrick.MP3\n",
        "2014_01_12_Hatha-joga_Pradipika_3_fejezet_Gauranga.mp3\n",
        "2014_01_25_A_betegsegek_lelki_okai_Gauranga.mp3\n",
        "A_Fiatalsag_Forrasa_Ot_Tibeti_Peter_Kelder.pdf\n",
        "A_History_of_Indian_Philosophy_Surendranath_Dasgupta.pdf\n",
        "A_Joga_Aldasos_Ereje_S_Yesudian.pdf\n",
        "A_betegseg_mint_szimbolum_Ruediger_Dahlke.pdf\n",
        "AcroMusic2012.mp3\n",
        "Acro_Mix_2013.mp3\n",
        "Agni_jegyzet.doc\n",
        "Agni_yoga_Gauranga.mpg\n",
        "Ajurveda_2010.pdf\n",
        "Ambient%20Nights%20CD1%20-%20Mixed%20by%20Hephaestion.mp3\n",
        "Ambient%20Nights%20CD2%20-%20Mixed%20by%20Hephaestion.mp3\n",
        "Ambient%20Nights%20CD3%20-%20Mixed%20by%20Hephaestion.mp3\n",
        "Ambient%20Nights%20CD4%20-%20Mixed%20by%20Hephaestion.mp3\n",
        "Ambient%20Nights%20CD5%20-%20Mixed%20by%20Hephaestion.mp3\n",
        "Ambient%20Nights%20CD6%20-%20Mixed%20by%20Hephaestion.mp3\n",
        "Ambient%20Nights%20CD7%20-%20Mixed%20by%20Hephaestion.mp3\n",
        "Ambient%20Nights%20CD8%20-%20Mixed%20by%20Hephaestion.mp3\n",
        "Ambient%20Nights%20CD9%20-%20Mixed%20by%20Hephaestion.mp3\n",
        "Ambient%20Nights%20CD10%20-%20Ambiotic%20Dreams.mp3\n",
        "Anatomy_of_Breath_Leslie_Kaminoff.pdf\n",
        "Anatomy%20of%20Hatha%20Yoga.pdf\n",
        "Articles+on+Yoga+Injuries.pdf\n",
        "Asanas%20%20608%20Yoga%20Poses%20-%20Complete%20Opt.pdf\n",
        "AshtangaAtmaBig.pdf\n",
        "Ashtanga%20Yoga%20-%20The%20Intermediate%20Series%20%20-%20Maehle%20Gregor.pdf\n",
        "Ashtanga%20Yoga%20Practice%20and%20Philosophy%20-%20Maehle%20Gregor.pdf\n",
        "Ashtanga_1.pdf\n",
        "Ashtanga_2.pdf\n",
        "Ashtanga_3.pdf\n",
        "Ashtanga_4.pdf\n",
        "Ashtanga_5.pdf\n",
        "Ashtanga_6.pdf\n",
        "Ashtanga_2010.pdf\n",
        "Ashtanga_Finishing.pdf\n",
        "Ashtanga_Mix_2013.mp3\n",
        "Ashtanga_Standing.pdf\n",
        "Ashtanga_Yoga_Tim_Miller.pdf\n",
        "Astanga_Gauranga_1.wmv\n",
        "Astanga_Gauranga_2.wmv\n",
        "Astanga_TTC_felveteli.pdf\n",
        "Asztro.pdf\n",
        "Asztro.zip\n",
        "Atreyu_Ajurveda.pdf\n",
        "Az_Emberi_Test_Steve_Parker.PDF\n",
        "Az_Onmegvalositas_Tudomanya_Srila_Prabhupada.pdf\n",
        "B_K_S_Iyengar_A_Joga_faja.pdf\n",
        "Baktay-Ervin-A-Diadalmas-Joga.pdf\n",
        "Baktay-Ervin-Szanatana-Dharma-A-hindu-vilagszemlelet.pdf\n",
        "Bevezetes_a_Yogaba_Kaczvinszky_Jozsef.pdf\n",
        "Blackmill_Mix_2013.mp3\n",
        "Buddha_Mix.mp3\n",
        "Building%20the%20Gymnastic%20Body%20(7Summits).pdf\n",
        "Bullet_Proof_Abs_P_Tsatsouline.pdf\n",
        "C_W_Leadbeater_A_Csakrak.pdf\n",
        "Carlos-Castaneda-Belulrol-izzo-tuz.pdf\n",
        "Carlos-Castaneda-Don-Juan-tanitasai.pdf\n",
        "Carlos-Castaneda-Ixtlani-utazas.pdf\n",
        "Carlos-Castaneda-a-Sas-Ajandeka.pdf\n",
        "Coach_Sommer_Gymnastic_Bodies_Foundation_One_F1.pdf\n",
        "Complete%20Illustrated%20Book%20of%20Yoga%20The%20-%20Devananda%20Vishnu%20Swami.pdf\n",
        "Coupon%20Flyer.indd\n",
        "Csogyal-Namkhai-Norbu-Alomjoga-es-a-termeszetes-feny-gyakorlata.pdf\n",
        "Deepak%20Chopra%20-%20T%f6k%e9letes%20eg%e9szs%e9g%20az%20ayurv%e9da%20seg%edts%e9g%e9vel.pdf\n",
        "Deepak_Chopra_Tokeletes_egeszseg.pdf\n",
        "Deepak_Chopra__Az_elet_het_torvenye.pdf\n",
        "Dely_Karoly_Joga-gyakorlatok.pdf\n",
        "Do-In-Elj-Szaz-Evet-Egeszsegben.pdf\n",
        "Dr.Paul_Brunton_A_joga_titkos_tanitasai.pdf\n",
        "Dr.Paul_Brunton_India_titkai.pdf\n",
        "Dynamic_Yoga_Kia_Meaux.pdf\n",
        "Edgar_Cayce_a_reinkarnaciorol.pdf\n",
        "Elisabeth_haich_szexualis_ero_es_a_joga.pdf\n",
        "Fegyencedzes.pdf\n",
        "Fegyencedzes2.pdf\n",
        "Frawley_Joga_Ajurveda.pdf\n",
        "GDHD.zip\n",
        "Garuda_Purana.pdf\n",
        "Gertrud_Hirschi_Mudrak.pdf\n",
        "Gheranda_Samhita_S_C_Vasu.pdf\n",
        "Goloka_Mix.mp3\n",
        "Gyakorlati_Yoga_Kaczvinszky_Jozsef.pdf\n",
        "Harcosok_etrendje_Ori_Hofmekler.pdf\n",
        "Harish-Dzsohari-Csakrak-rejtett-energiakozpontok.pdf\n",
        "Hatha_Joga_Pradipika_Gauranga.pdf\n",
        "Hatha_Yoga_Pradipika_Yogi_Svatmarama.pdf\n",
        "Hetenyi_Erno_Tibeti_Halottaskonyv.pdf\n",
        "Hiroshi-Motoyama-Minden-amit-a-csakrakrol-tudni-lehet.pdf\n",
        "History_of_Modern_Yoga__Elizabeth_De_Michelis.pdf\n",
        "How%20to%20Become%20a%20Great%20Yoga%20Teacher%20WithoDime%20on%20Teacher%20Training%20-%20Colbert%20Mara.pdf\n",
        "Iyengar_Joga_holisztikus.pdf\n",
        "Joga-szutra_a_prakriti_es_a_purusa.pdf\n",
        "Joga_es_Pszichoterapia_Swami_Rama.pdf\n",
        "Joga_es_tudomany_Vigh_Bela_minden_a_jogarol_.pdf\n",
        "Joga_es_vegetarianizmus.pdf\n",
        "Joga_mindenkinek.pdf\n",
        "Joga_szutra_a_jama_es_a_nijama.pdf\n",
        "Joga_szutra_a_szamadhi_es_az_Isvara.pdf\n",
        "Joga_szutra_a_szamapatti.pdf\n",
        "Joga_szutra_a_szenvedes_forrasai.pdf\n",
        "Joga_szutra_a_tudat_valtozasai.pdf\n",
        "Joga_szutra_az_akadalyok_es_legyozesuk.pdf\n",
        "Joga_szutra_az_aszanatol_a_szamadhiig.pdf\n",
        "Joga_szutra_bevezetes.pdf\n",
        "Joga_szutra_gyakorlas_es_elkulonules.pdf\n",
        "Joga_szutra_mi_a_joga.pdf\n",
        "Kaczvinszky_Jozsef_Patanjali_Yoga_Sutrai.pdf\n",
        "Kapalika_Szadhana_Kara_Istvan.pdf\n",
        "Karunesh_Mix_Long.mp3\n",
        "Kina_tanulmany_Colin_T_Campbell.pdf\n",
        "Krishnadas_Mix.mp3\n",
        "Krisna_Mix.mp3\n",
        "Krisna_konyv_Srila_Prabhupada.pdf\n",
        "Kundalini_Yoga_Swami_Sivananda.pdf\n",
        "Kurt-Tepperwein-A-Lelek-nyelve-A-betegseg.pdf\n",
        "Lao_Ce__Tao_te_King_Az_ut_es_ereny_konyve.pdf\n",
        "Lao_Ce_intelmei.pdf\n",
        "Light_on_Pranayama__B_K_S_Iyengar.pdf\n",
        "Liz_Simpson_A_csakragyogyitas_konyve.pdf\n",
        "MC_Yogi_Mix.mp3\n",
        "Mahabharata_Krishna_Dharma.pdf\n",
        "Maoshing-Ni-A-Hosszu-Let-Taoista-Titkai.pdf\n",
        "Maran%20Illustrated%20Yoga%20Book.pdf\n",
        "Massage_2010.pdf\n",
        "Matrix_Mix.mp3\n",
        "Melylelektan.pdf\n",
        "Micrae-Eliade-Szent-es-profan.pdf\n",
        "Mike-Booth-Szingyogymod.pdf\n",
        "Mircea-Eliade-Joga-Halhatatlansag-es-Szabadsag.pdf\n",
        "Mircea-Eliade-Kepek-es-jelkepek.pdf\n",
        "Misztikus_Yoga_Kaczvinszky_Jozsef.pdf\n",
        "Mit-Arul-El-a-Betegseged-Kurt-Tepperwein.pdf\n",
        "Overcoming_Gravity_Steven_Low.pdf\n",
        "Paramhansza-Jogananda-A-Mester-Mondta.pdf\n",
        "Patricia%20Mercier%20-%20The%20Chakra%20Bible%20%5b1%20eBook%20-%20PDF%5d%20Collated%20OCR.pdf\n",
        "Pavel%20Tsatsouline%20Kezdd%20el%20a%20Kettlebellt.PDF\n",
        "Philosophy_of_Guru_Gorakhnath.pdf\n",
        "Practical_Lessons_in_Yoga_Swami_Sivananda.pdf\n",
        "Pranajama.pdf\n",
        "Ramana_Maharsi_Tanitasai_A_nyilegyenes_osveny.pdf\n",
        "Ramayana_Krishna_Dharma.pdf\n",
        "Relax_into_Stretch_P_Tsatsouline.pdf\n",
        "Requiem%20for%20a%20Dream%20Remix%20New.mp3\n",
        "Rudiger_Dahlke_A_mandalak_vilaga.pdf\n",
        "Salutation%20to%20the%20Teacher%20and%20the%20Eternal%20one.%20Krishnamacharya.pdf\n",
        "SchoolYoga_Institute_Teacher_Training_Manual.pdf\n",
        "Schrott-Schachinger-Ayurveda-a-Sziv-es-Errendszeri-Betegsegek-Gyogyitasaban.pdf\n",
        "Science_of_Breath_Yogi_Ramacharaka.pdf\n",
        "Science_of_Pranayama_Swami_Sivananda.pdf\n",
        "Selvarajan_Yesudian_Joga_hetrol_hetre.pdf\n",
        "Shiva_Samhita_Monroe_P_Munro.pdf\n",
        "Sport_es_Joga_S_Yesudian.pdf\n",
        "Srimad_Bhagavatam_Elso_Enek_Srila_Prahupada.pdf\n",
        "./Srivatsa_Ramaswami:My_Studies_with_Krishnamacharya.pdf\n",
        "Storytime%20Yoga%20Complete%20Opt%20OCR.pdf\n",
        "Stretching%20Anatomy.pdf\n",
        "Super_Joints_P_Tsatsouline.pdf\n",
        "Surya-Namaskara-1928-Rajah-of-Aundh.pdf\n",
        "Surya%20Namaskara%201928.%20The%20Ten%20Point%20Way%20to%20Health%20by%20Shrimant%20Balasahib%20Rajah%20of%20Aundh%20OCR.pdf\n",
        "T.Dethlefsen-R.Dahlke_Ut_a_teljesseghez.pdf\n",
        "Tanitasok_nektarja_prabhupada.pdf\n",
        "Teaching%20Yoga%20Essential%20Foundations%20and%20Techniques%20-%20Stephens%20Mark.pdf\n",
        "Thai_Massage_Manual.pdf\n",
        "The%20Yoga%20Adventure%20for%20Children.pdf\n",
        "The%20Yoga%20Tradition%20of%20the%20Mysore%20Palace%20Complete%20Opt%20OCR.pdf\n",
        "The_Illustrated_Light_On_Yoga_Iyengar_B.K.S.pdf\n",
        "The_Naked_Warrior_P_Tsatsouline.pdf\n",
        "The_Serpent_Power_Arthur_Avalon.pdf\n",
        "Thorwald_Dethlefsen_A_sors_mint_esely.pdf\n",
        "Thrive%20The%20Vegan%20Nutrition%20Guide%20to%20Optimal%20Performance%20in%20Sports%20and%20Life.pdf\n",
        "Tokeletes_Kerdesek_Srila_Prabhupada.pdf\n",
        "Upanisadok.pdf\n",
        "Vasztu.pdf\n",
        "Vinyasza_joga.pdf\n",
        "Visszateres_Srila_Prabhupada.pdf\n",
        "Wayne-W-Dyer-A-szandek-hatalma.pdf\n",
        "Yoga%20-%20Jala%20Neti%20Handbook.pdf\n",
        "Yoga-Makaranda-Part-2-Sri-T-Krishnamacharya.pdf\n",
        "Yoga%20-%20Shiva%20Samhita.pdf\n",
        "Yoga%20-%20Sri%20Yukteswar%20Giri%20-The%20Holy%20Science.pdf\n",
        "Yoga%20%20-%20Swami%20Narayanananda%20-%20The%20Secrets%20Of%20Prana,%20Pranayama%20&%20Yoga%20Asanas%20-%201959.pdf\n",
        "Yoga-Vasistha-Narayanaswami_Aiyer.pdf\n",
        "Yoga.zip\n",
        "Yoga%20Anatomy%20-%20L.%20Kaminoff%20(2007)%20WW.pdf\n",
        "Yoga%20Book.pdf\n",
        "Yoga%20Cures%20Simple%20Routines%20to%20Conquer%20Mlments%20and%20Live%20Pain-Free%20-%20Stiles%20Tara.pdf\n",
        "Yoga%20Dummies%202nd%20ed.pdf\n",
        "YogaHD.zip\n",
        "Yoga%20Mala%20The%20Seminal%20Treatise%20andster%20of%20Ashtanga%20Yoga%20-%20Jois%20Sri%20K.%20Pattabhi.pdf\n",
        "Yoga%20Posture%20Adjustments%20and%20Assisting%20Teachers%20and%20Students%20-%20Stephanie%20Pappas.pdf\n",
        "Yoga_Body_Mark_Singleton.pdf\n",
        "Yoga_Immortality_and_Freedom_Mircea_Eliade.pdf\n",
        "Yoga_Makaranda_T_Krishnamacharya.pdf\n",
        "Yoga__The_Indian_Tradition.pdf\n",
        "Yoga%20and%20Multiple%20Sclerosis%20(7Summits).pdf\n",
        "Yoga%20as%20Medicine%20The%20Yogic%20Prescription%20fond%20Healing%20-%20Mccall%20Timothy%20&%20Yoga%20Jo.pdf\n",
        "Yoga%20as%20Therapeutic%20Exercise%20A%20Practical%20Guide%20for%20Manual%20Therapists-Mantesh.pdf\n",
        "Yoga%20in%20Modern%20India%20Complete%20Opt%20OCR.pdf\n",
        "Yoga%20in%20Practice%20Complete%20Opt%20OCR.pdf\n",
        "Yogasanagalu.pdf\n",
        "Zach_Even_Esh_Undeground_Beast_Strength.pdf\n",
        "bhagavad_gita.pdf\n",
        "joga.pdf\n",
        "joga_es.pdf\n",
        "jogafeszt.mp3\n",
        "mudrak.pdf\n",
        "yoga%20for%20men.pdf\n"
       ]
      }
     ],
     "prompt_number": 23
    },
    {
     "cell_type": "markdown",
     "metadata": {},
     "source": [
      "Using Requests, for more complex tasks  \n",
      "\n",
      "http://www.w3.org/Protocols/rfc2616/rfc2616-sec10.html  "
     ]
    },
    {
     "cell_type": "code",
     "collapsed": false,
     "input": [
      "p = getpass.getpass()\n",
      "r = requests.get('https://api.github.com/user', auth=('rsouza', p))\n",
      "r.status_code"
     ],
     "language": "python",
     "metadata": {},
     "outputs": [
      {
       "metadata": {},
       "output_type": "pyout",
       "prompt_number": 24,
       "text": [
        "200"
       ]
      }
     ],
     "prompt_number": 24
    },
    {
     "cell_type": "code",
     "collapsed": false,
     "input": [
      "r.headers['content-type']"
     ],
     "language": "python",
     "metadata": {},
     "outputs": [
      {
       "metadata": {},
       "output_type": "pyout",
       "prompt_number": 25,
       "text": [
        "'application/json; charset=utf-8'"
       ]
      }
     ],
     "prompt_number": 25
    },
    {
     "cell_type": "code",
     "collapsed": false,
     "input": [
      "r.encoding"
     ],
     "language": "python",
     "metadata": {},
     "outputs": [
      {
       "metadata": {},
       "output_type": "pyout",
       "prompt_number": 26,
       "text": [
        "'utf-8'"
       ]
      }
     ],
     "prompt_number": 26
    },
    {
     "cell_type": "code",
     "collapsed": false,
     "input": [
      "r.text"
     ],
     "language": "python",
     "metadata": {},
     "outputs": [
      {
       "metadata": {},
       "output_type": "pyout",
       "prompt_number": 27,
       "text": [
        "u'{\"login\":\"rsouza\",\"id\":604914,\"avatar_url\":\"https://avatars.githubusercontent.com/u/604914?v=2\",\"gravatar_id\":\"\",\"url\":\"https://api.github.com/users/rsouza\",\"html_url\":\"https://github.com/rsouza\",\"followers_url\":\"https://api.github.com/users/rsouza/followers\",\"following_url\":\"https://api.github.com/users/rsouza/following{/other_user}\",\"gists_url\":\"https://api.github.com/users/rsouza/gists{/gist_id}\",\"starred_url\":\"https://api.github.com/users/rsouza/starred{/owner}{/repo}\",\"subscriptions_url\":\"https://api.github.com/users/rsouza/subscriptions\",\"organizations_url\":\"https://api.github.com/users/rsouza/orgs\",\"repos_url\":\"https://api.github.com/users/rsouza/repos\",\"events_url\":\"https://api.github.com/users/rsouza/events{/privacy}\",\"received_events_url\":\"https://api.github.com/users/rsouza/received_events\",\"type\":\"User\",\"site_admin\":false,\"name\":\"Renato Rocha Souza\",\"company\":\"FGV\",\"blog\":\"emap.fgv.br\",\"location\":\"Rio de Janeiro\",\"email\":\"rsouza.fgv@gmail.com\",\"hireable\":false,\"bio\":null,\"public_repos\":7,\"public_gists\":0,\"followers\":12,\"following\":5,\"created_at\":\"2011-02-07T15:46:45Z\",\"updated_at\":\"2014-10-13T23:13:24Z\",\"private_gists\":0,\"total_private_repos\":1,\"owned_private_repos\":0,\"disk_usage\":41200,\"collaborators\":0,\"plan\":{\"name\":\"free\",\"space\":307200,\"collaborators\":0,\"private_repos\":0}}'"
       ]
      }
     ],
     "prompt_number": 27
    },
    {
     "cell_type": "code",
     "collapsed": false,
     "input": [
      "r.json()"
     ],
     "language": "python",
     "metadata": {},
     "outputs": [
      {
       "metadata": {},
       "output_type": "pyout",
       "prompt_number": 28,
       "text": [
        "{u'avatar_url': u'https://avatars.githubusercontent.com/u/604914?v=2',\n",
        " u'bio': None,\n",
        " u'blog': u'emap.fgv.br',\n",
        " u'collaborators': 0,\n",
        " u'company': u'FGV',\n",
        " u'created_at': u'2011-02-07T15:46:45Z',\n",
        " u'disk_usage': 41200,\n",
        " u'email': u'rsouza.fgv@gmail.com',\n",
        " u'events_url': u'https://api.github.com/users/rsouza/events{/privacy}',\n",
        " u'followers': 12,\n",
        " u'followers_url': u'https://api.github.com/users/rsouza/followers',\n",
        " u'following': 5,\n",
        " u'following_url': u'https://api.github.com/users/rsouza/following{/other_user}',\n",
        " u'gists_url': u'https://api.github.com/users/rsouza/gists{/gist_id}',\n",
        " u'gravatar_id': u'',\n",
        " u'hireable': False,\n",
        " u'html_url': u'https://github.com/rsouza',\n",
        " u'id': 604914,\n",
        " u'location': u'Rio de Janeiro',\n",
        " u'login': u'rsouza',\n",
        " u'name': u'Renato Rocha Souza',\n",
        " u'organizations_url': u'https://api.github.com/users/rsouza/orgs',\n",
        " u'owned_private_repos': 0,\n",
        " u'plan': {u'collaborators': 0,\n",
        "  u'name': u'free',\n",
        "  u'private_repos': 0,\n",
        "  u'space': 307200},\n",
        " u'private_gists': 0,\n",
        " u'public_gists': 0,\n",
        " u'public_repos': 7,\n",
        " u'received_events_url': u'https://api.github.com/users/rsouza/received_events',\n",
        " u'repos_url': u'https://api.github.com/users/rsouza/repos',\n",
        " u'site_admin': False,\n",
        " u'starred_url': u'https://api.github.com/users/rsouza/starred{/owner}{/repo}',\n",
        " u'subscriptions_url': u'https://api.github.com/users/rsouza/subscriptions',\n",
        " u'total_private_repos': 1,\n",
        " u'type': u'User',\n",
        " u'updated_at': u'2014-10-13T23:13:24Z',\n",
        " u'url': u'https://api.github.com/users/rsouza'}"
       ]
      }
     ],
     "prompt_number": 28
    },
    {
     "cell_type": "heading",
     "level": 2,
     "metadata": {},
     "source": [
      "Accessing JSON"
     ]
    },
    {
     "cell_type": "markdown",
     "metadata": {},
     "source": [
      "http://json.org/  \n",
      "https://docs.python.org/2/library/json.html  \n",
      "https://docs.python.org/2/library/urlparse.html  "
     ]
    },
    {
     "cell_type": "code",
     "collapsed": false,
     "input": [
      "import json\n",
      "import urlparse"
     ],
     "language": "python",
     "metadata": {},
     "outputs": [],
     "prompt_number": 29
    },
    {
     "cell_type": "code",
     "collapsed": false,
     "input": [
      "BASE_URL = \"http://musicbrainz.org/ws/2/\"\n",
      "ARTIST_URL =  urlparse.urljoin(BASE_URL, 'artist/')\n",
      "query_type = {\"simple\": {},\n",
      "              \"atr\": {\"inc\": \"aliases+tags+ratings\"},\n",
      "              \"aliases\": {\"inc\": \"aliases\"},\n",
      "              \"releases\": {\"inc\": \"releases\"}}"
     ],
     "language": "python",
     "metadata": {},
     "outputs": [],
     "prompt_number": 30
    },
    {
     "cell_type": "code",
     "collapsed": false,
     "input": [
      "def query_site(url, params, uid=\"\", fmt=\"json\"):\n",
      "    params[\"fmt\"] = fmt\n",
      "    r = requests.get(url + uid, params=params)\n",
      "    print \"requesting\", r.url\n",
      "\n",
      "    if r.status_code == requests.codes.ok:\n",
      "        return r.json()\n",
      "    else:\n",
      "        r.raise_for_status()"
     ],
     "language": "python",
     "metadata": {},
     "outputs": [],
     "prompt_number": 31
    },
    {
     "cell_type": "code",
     "collapsed": false,
     "input": [
      "def query_by_name(url, params, name):\n",
      "    params[\"query\"] = \"artist:\" + name\n",
      "    return query_site(url, params)"
     ],
     "language": "python",
     "metadata": {},
     "outputs": [],
     "prompt_number": 32
    },
    {
     "cell_type": "code",
     "collapsed": false,
     "input": [
      "def pretty_print(data, indent=4):\n",
      "    if type(data) == dict:\n",
      "        print json.dumps(data, indent=indent, sort_keys=True)\n",
      "    else:\n",
      "        print data"
     ],
     "language": "python",
     "metadata": {},
     "outputs": [],
     "prompt_number": 33
    },
    {
     "cell_type": "code",
     "collapsed": false,
     "input": [
      "results = query_by_name(ARTIST_URL, query_type[\"simple\"], \"Nirvana\")\n",
      "pretty_print(results)"
     ],
     "language": "python",
     "metadata": {},
     "outputs": [
      {
       "output_type": "stream",
       "stream": "stdout",
       "text": [
        "requesting http://musicbrainz.org/ws/2/artist/?query=artist%3ANirvana&fmt=json\n",
        "{\n",
        "    \"artists\": [\n",
        "        {\n",
        "            \"aliases\": [\n",
        "                {\n",
        "                    \"begin-date\": null, \n",
        "                    \"end-date\": null, \n",
        "                    \"locale\": null, \n",
        "                    \"name\": \"Nirvana US\", \n",
        "                    \"primary\": null, \n",
        "                    \"sort-name\": \"Nirvana US\", \n",
        "                    \"type\": null\n",
        "                }\n",
        "            ], \n",
        "            \"area\": {\n",
        "                \"id\": \"489ce91b-6658-3307-9877-795b68554c98\", \n",
        "                \"name\": \"United States\", \n",
        "                \"sort-name\": \"United States\"\n",
        "            }, \n",
        "            \"begin-area\": {\n",
        "                \"id\": \"a640b45c-c173-49b1-8030-973603e895b5\", \n",
        "                \"name\": \"Aberdeen\", \n",
        "                \"sort-name\": \"Aberdeen\"\n",
        "            }, \n",
        "            \"country\": \"US\", \n",
        "            \"disambiguation\": \"90s US grunge band\", \n",
        "            \"id\": \"5b11f4ce-a62d-471e-81fc-a69a8278c7da\", \n",
        "            \"life-span\": {\n",
        "                \"begin\": \"1988-01\", \n",
        "                \"end\": \"1994-04-05\", \n",
        "                \"ended\": true\n",
        "            }, \n",
        "            \"name\": \"Nirvana\", \n",
        "            \"score\": \"100\", \n",
        "            \"sort-name\": \"Nirvana\", \n",
        "            \"tags\": [\n",
        "                {\n",
        "                    \"count\": 2, \n",
        "                    \"name\": \"punk\"\n",
        "                }, \n",
        "                {\n",
        "                    \"count\": 1, \n",
        "                    \"name\": \"legendary\"\n",
        "                }, \n",
        "                {\n",
        "                    \"count\": 1, \n",
        "                    \"name\": \"90\"\n",
        "                }, \n",
        "                {\n",
        "                    \"count\": 2, \n",
        "                    \"name\": \"seattle\"\n",
        "                }, \n",
        "                {\n",
        "                    \"count\": 1, \n",
        "                    \"name\": \"northwest\"\n",
        "                }, \n",
        "                {\n",
        "                    \"count\": 1, \n",
        "                    \"name\": \"alternative\"\n",
        "                }, \n",
        "                {\n",
        "                    \"count\": 1, \n",
        "                    \"name\": \"rock and indie\"\n",
        "                }, \n",
        "                {\n",
        "                    \"count\": 1, \n",
        "                    \"name\": \"am\\u00e9ricain\"\n",
        "                }, \n",
        "                {\n",
        "                    \"count\": 2, \n",
        "                    \"name\": \"usa\"\n",
        "                }, \n",
        "                {\n",
        "                    \"count\": 7, \n",
        "                    \"name\": \"american\"\n",
        "                }, \n",
        "                {\n",
        "                    \"count\": 1, \n",
        "                    \"name\": \"united states\"\n",
        "                }, \n",
        "                {\n",
        "                    \"count\": 1, \n",
        "                    \"name\": \"kurt cobain\"\n",
        "                }, \n",
        "                {\n",
        "                    \"count\": 2, \n",
        "                    \"name\": \"90s\"\n",
        "                }, \n",
        "                {\n",
        "                    \"count\": 3, \n",
        "                    \"name\": \"alternative rock\"\n",
        "                }, \n",
        "                {\n",
        "                    \"count\": 1, \n",
        "                    \"name\": \"nirvana\"\n",
        "                }, \n",
        "                {\n",
        "                    \"count\": 1, \n",
        "                    \"name\": \"band\"\n",
        "                }, \n",
        "                {\n",
        "                    \"count\": 7, \n",
        "                    \"name\": \"rock\"\n",
        "                }, \n",
        "                {\n",
        "                    \"count\": 12, \n",
        "                    \"name\": \"grunge\"\n",
        "                }\n",
        "            ], \n",
        "            \"type\": \"Group\"\n",
        "        }, \n",
        "        {\n",
        "            \"area\": {\n",
        "                \"id\": \"8a754a16-0027-3a29-b6d7-2b40ea0481ed\", \n",
        "                \"name\": \"United Kingdom\", \n",
        "                \"sort-name\": \"United Kingdom\"\n",
        "            }, \n",
        "            \"country\": \"GB\", \n",
        "            \"disambiguation\": \"60s band from the UK\", \n",
        "            \"id\": \"9282c8b4-ca0b-4c6b-b7e3-4f7762dfc4d6\", \n",
        "            \"life-span\": {\n",
        "                \"begin\": \"1967\", \n",
        "                \"ended\": null\n",
        "            }, \n",
        "            \"name\": \"Nirvana\", \n",
        "            \"score\": \"100\", \n",
        "            \"sort-name\": \"Nirvana\", \n",
        "            \"tags\": [\n",
        "                {\n",
        "                    \"count\": 1, \n",
        "                    \"name\": \"rock\"\n",
        "                }, \n",
        "                {\n",
        "                    \"count\": 1, \n",
        "                    \"name\": \"pop\"\n",
        "                }, \n",
        "                {\n",
        "                    \"count\": 1, \n",
        "                    \"name\": \"progressive rock\"\n",
        "                }, \n",
        "                {\n",
        "                    \"count\": 1, \n",
        "                    \"name\": \"orchestral\"\n",
        "                }, \n",
        "                {\n",
        "                    \"count\": 1, \n",
        "                    \"name\": \"british\"\n",
        "                }, \n",
        "                {\n",
        "                    \"count\": 1, \n",
        "                    \"name\": \"power pop\"\n",
        "                }, \n",
        "                {\n",
        "                    \"count\": 1, \n",
        "                    \"name\": \"psychedelic rock\"\n",
        "                }, \n",
        "                {\n",
        "                    \"count\": 1, \n",
        "                    \"name\": \"soft rock\"\n",
        "                }, \n",
        "                {\n",
        "                    \"count\": 1, \n",
        "                    \"name\": \"symphonic rock\"\n",
        "                }, \n",
        "                {\n",
        "                    \"count\": 1, \n",
        "                    \"name\": \"english\"\n",
        "                }\n",
        "            ], \n",
        "            \"type\": \"Group\"\n",
        "        }, \n",
        "        {\n",
        "            \"area\": {\n",
        "                \"id\": \"6a264f94-6ff1-30b1-9a81-41f7bfabd616\", \n",
        "                \"name\": \"Finland\", \n",
        "                \"sort-name\": \"Finland\"\n",
        "            }, \n",
        "            \"country\": \"FI\", \n",
        "            \"disambiguation\": \"Early 1980's Finnish punk band\", \n",
        "            \"id\": \"85af0709-95db-4fbc-801a-120e9f4766d0\", \n",
        "            \"life-span\": {\n",
        "                \"ended\": null\n",
        "            }, \n",
        "            \"name\": \"Nirvana\", \n",
        "            \"score\": \"100\", \n",
        "            \"sort-name\": \"Nirvana\", \n",
        "            \"tags\": [\n",
        "                {\n",
        "                    \"count\": 1, \n",
        "                    \"name\": \"punk\"\n",
        "                }, \n",
        "                {\n",
        "                    \"count\": 1, \n",
        "                    \"name\": \"finland\"\n",
        "                }\n",
        "            ], \n",
        "            \"type\": \"Group\"\n",
        "        }, \n",
        "        {\n",
        "            \"id\": \"b305320e-c158-43f4-b5be-4450e2f99a32\", \n",
        "            \"life-span\": {\n",
        "                \"ended\": null\n",
        "            }, \n",
        "            \"name\": \"El Nirvana\", \n",
        "            \"score\": \"62\", \n",
        "            \"sort-name\": \"Nirvana, El\"\n",
        "        }, \n",
        "        {\n",
        "            \"aliases\": [\n",
        "                {\n",
        "                    \"begin-date\": null, \n",
        "                    \"end-date\": null, \n",
        "                    \"locale\": null, \n",
        "                    \"name\": \"Nirvana\", \n",
        "                    \"primary\": null, \n",
        "                    \"sort-name\": \"Nirvana\", \n",
        "                    \"type\": null\n",
        "                }, \n",
        "                {\n",
        "                    \"begin-date\": null, \n",
        "                    \"end-date\": null, \n",
        "                    \"locale\": null, \n",
        "                    \"name\": \"Prophet 2002\", \n",
        "                    \"primary\": null, \n",
        "                    \"sort-name\": \"Prophet 2002\", \n",
        "                    \"type\": null\n",
        "                }\n",
        "            ], \n",
        "            \"area\": {\n",
        "                \"id\": \"23d10872-f5ae-3f0c-bf55-332788a16ecb\", \n",
        "                \"name\": \"Sweden\", \n",
        "                \"sort-name\": \"Sweden\"\n",
        "            }, \n",
        "            \"country\": \"SE\", \n",
        "            \"disambiguation\": \"Swedish death metal band\", \n",
        "            \"id\": \"f2dfdff9-3862-4be0-bf85-9c833fa3059e\", \n",
        "            \"life-span\": {\n",
        "                \"begin\": \"1988\", \n",
        "                \"ended\": null\n",
        "            }, \n",
        "            \"name\": \"Nirvana 2002\", \n",
        "            \"score\": \"62\", \n",
        "            \"sort-name\": \"Nirvana 2002\", \n",
        "            \"type\": \"Group\"\n",
        "        }, \n",
        "        {\n",
        "            \"id\": \"329c04ae-3b73-4ca3-996f-75608ab1befb\", \n",
        "            \"life-span\": {\n",
        "                \"ended\": null\n",
        "            }, \n",
        "            \"name\": \"Nirvana Singh\", \n",
        "            \"score\": \"62\", \n",
        "            \"sort-name\": \"Singh, Nirvana\", \n",
        "            \"type\": \"Person\"\n",
        "        }, \n",
        "        {\n",
        "            \"area\": {\n",
        "                \"id\": \"489ce91b-6658-3307-9877-795b68554c98\", \n",
        "                \"name\": \"United States\", \n",
        "                \"sort-name\": \"United States\"\n",
        "            }, \n",
        "            \"country\": \"US\", \n",
        "            \"id\": \"c3a64a25-251b-4d03-afba-1471440245b8\", \n",
        "            \"life-span\": {\n",
        "                \"ended\": null\n",
        "            }, \n",
        "            \"name\": \"Approaching Nirvana\", \n",
        "            \"score\": \"62\", \n",
        "            \"sort-name\": \"Approaching Nirvana\", \n",
        "            \"type\": \"Group\"\n",
        "        }, \n",
        "        {\n",
        "            \"id\": \"86f9ae24-ba2a-4d55-9275-0b89b85f6e3a\", \n",
        "            \"life-span\": {\n",
        "                \"ended\": null\n",
        "            }, \n",
        "            \"name\": \"Weed Nirvana\", \n",
        "            \"score\": \"62\", \n",
        "            \"sort-name\": \"Weed Nirvana\"\n",
        "        }, \n",
        "        {\n",
        "            \"area\": {\n",
        "                \"id\": \"489ce91b-6658-3307-9877-795b68554c98\", \n",
        "                \"name\": \"United States\", \n",
        "                \"sort-name\": \"United States\"\n",
        "            }, \n",
        "            \"country\": \"US\", \n",
        "            \"gender\": \"female\", \n",
        "            \"id\": \"206419e0-3a7a-49ce-8437-4e757767d02b\", \n",
        "            \"life-span\": {\n",
        "                \"ended\": null\n",
        "            }, \n",
        "            \"name\": \"Nirvana Savoury\", \n",
        "            \"score\": \"62\", \n",
        "            \"sort-name\": \"Savoury, Nirvana\", \n",
        "            \"type\": \"Person\"\n",
        "        }, \n",
        "        {\n",
        "            \"id\": \"e1388435-f80d-434a-9980-f1c9f5aa9b90\", \n",
        "            \"life-span\": {\n",
        "                \"ended\": null\n",
        "            }, \n",
        "            \"name\": \"Nirvana Sitar & String Group\", \n",
        "            \"score\": \"43\", \n",
        "            \"sort-name\": \"Nirvana Sitar & String Group\"\n",
        "        }\n",
        "    ], \n",
        "    \"count\": 10, \n",
        "    \"created\": \"2014-10-14T07:39:11.901Z\", \n",
        "    \"offset\": 0\n",
        "}\n"
       ]
      }
     ],
     "prompt_number": 34
    },
    {
     "cell_type": "code",
     "collapsed": false,
     "input": [
      "results.keys()"
     ],
     "language": "python",
     "metadata": {},
     "outputs": [
      {
       "metadata": {},
       "output_type": "pyout",
       "prompt_number": 35,
       "text": [
        "[u'count', u'offset', u'artists', u'created']"
       ]
      }
     ],
     "prompt_number": 35
    },
    {
     "cell_type": "code",
     "collapsed": false,
     "input": [
      "artist_id = results[\"artists\"][1][\"id\"]\n",
      "artist_id"
     ],
     "language": "python",
     "metadata": {},
     "outputs": [
      {
       "metadata": {},
       "output_type": "pyout",
       "prompt_number": 36,
       "text": [
        "u'9282c8b4-ca0b-4c6b-b7e3-4f7762dfc4d6'"
       ]
      }
     ],
     "prompt_number": 36
    },
    {
     "cell_type": "code",
     "collapsed": false,
     "input": [
      "print \"\\nARTIST:\"\n",
      "pretty_print(results[\"artists\"][0])"
     ],
     "language": "python",
     "metadata": {},
     "outputs": [
      {
       "output_type": "stream",
       "stream": "stdout",
       "text": [
        "\n",
        "ARTIST:\n",
        "{\n",
        "    \"aliases\": [\n",
        "        {\n",
        "            \"begin-date\": null, \n",
        "            \"end-date\": null, \n",
        "            \"locale\": null, \n",
        "            \"name\": \"Nirvana US\", \n",
        "            \"primary\": null, \n",
        "            \"sort-name\": \"Nirvana US\", \n",
        "            \"type\": null\n",
        "        }\n",
        "    ], \n",
        "    \"area\": {\n",
        "        \"id\": \"489ce91b-6658-3307-9877-795b68554c98\", \n",
        "        \"name\": \"United States\", \n",
        "        \"sort-name\": \"United States\"\n",
        "    }, \n",
        "    \"begin-area\": {\n",
        "        \"id\": \"a640b45c-c173-49b1-8030-973603e895b5\", \n",
        "        \"name\": \"Aberdeen\", \n",
        "        \"sort-name\": \"Aberdeen\"\n",
        "    }, \n",
        "    \"country\": \"US\", \n",
        "    \"disambiguation\": \"90s US grunge band\", \n",
        "    \"id\": \"5b11f4ce-a62d-471e-81fc-a69a8278c7da\", \n",
        "    \"life-span\": {\n",
        "        \"begin\": \"1988-01\", \n",
        "        \"end\": \"1994-04-05\", \n",
        "        \"ended\": true\n",
        "    }, \n",
        "    \"name\": \"Nirvana\", \n",
        "    \"score\": \"100\", \n",
        "    \"sort-name\": \"Nirvana\", \n",
        "    \"tags\": [\n",
        "        {\n",
        "            \"count\": 2, \n",
        "            \"name\": \"punk\"\n",
        "        }, \n",
        "        {\n",
        "            \"count\": 1, \n",
        "            \"name\": \"legendary\"\n",
        "        }, \n",
        "        {\n",
        "            \"count\": 1, \n",
        "            \"name\": \"90\"\n",
        "        }, \n",
        "        {\n",
        "            \"count\": 2, \n",
        "            \"name\": \"seattle\"\n",
        "        }, \n",
        "        {\n",
        "            \"count\": 1, \n",
        "            \"name\": \"northwest\"\n",
        "        }, \n",
        "        {\n",
        "            \"count\": 1, \n",
        "            \"name\": \"alternative\"\n",
        "        }, \n",
        "        {\n",
        "            \"count\": 1, \n",
        "            \"name\": \"rock and indie\"\n",
        "        }, \n",
        "        {\n",
        "            \"count\": 1, \n",
        "            \"name\": \"am\\u00e9ricain\"\n",
        "        }, \n",
        "        {\n",
        "            \"count\": 2, \n",
        "            \"name\": \"usa\"\n",
        "        }, \n",
        "        {\n",
        "            \"count\": 7, \n",
        "            \"name\": \"american\"\n",
        "        }, \n",
        "        {\n",
        "            \"count\": 1, \n",
        "            \"name\": \"united states\"\n",
        "        }, \n",
        "        {\n",
        "            \"count\": 1, \n",
        "            \"name\": \"kurt cobain\"\n",
        "        }, \n",
        "        {\n",
        "            \"count\": 2, \n",
        "            \"name\": \"90s\"\n",
        "        }, \n",
        "        {\n",
        "            \"count\": 3, \n",
        "            \"name\": \"alternative rock\"\n",
        "        }, \n",
        "        {\n",
        "            \"count\": 1, \n",
        "            \"name\": \"nirvana\"\n",
        "        }, \n",
        "        {\n",
        "            \"count\": 1, \n",
        "            \"name\": \"band\"\n",
        "        }, \n",
        "        {\n",
        "            \"count\": 7, \n",
        "            \"name\": \"rock\"\n",
        "        }, \n",
        "        {\n",
        "            \"count\": 12, \n",
        "            \"name\": \"grunge\"\n",
        "        }\n",
        "    ], \n",
        "    \"type\": \"Group\"\n",
        "}\n"
       ]
      }
     ],
     "prompt_number": 37
    },
    {
     "cell_type": "code",
     "collapsed": false,
     "input": [
      "artist_data = query_site(ARTIST_URL, query_type[\"releases\"], artist_id)\n",
      "releases = artist_data[\"releases\"]\n",
      "print \"\\nONE RELEASE:\"\n",
      "pretty_print(releases[0], indent=2)"
     ],
     "language": "python",
     "metadata": {},
     "outputs": [
      {
       "output_type": "stream",
       "stream": "stdout",
       "text": [
        "requesting http://musicbrainz.org/ws/2/artist/9282c8b4-ca0b-4c6b-b7e3-4f7762dfc4d6?fmt=json&inc=releases\n",
        "\n",
        "ONE RELEASE:\n",
        "{\n",
        "  \"barcode\": null, \n",
        "  \"country\": \"GB\", \n",
        "  \"date\": \"1969\", \n",
        "  \"disambiguation\": \"\", \n",
        "  \"id\": \"0b44cb36-550a-491d-bfd9-8751271f9de7\", \n",
        "  \"packaging\": null, \n",
        "  \"quality\": \"normal\", \n",
        "  \"release-events\": [\n",
        "    {\n",
        "      \"area\": {\n",
        "        \"disambiguation\": \"\", \n",
        "        \"id\": \"8a754a16-0027-3a29-b6d7-2b40ea0481ed\", \n",
        "        \"iso_3166_1_codes\": [\n",
        "          \"GB\"\n",
        "        ], \n",
        "        \"iso_3166_2_codes\": [], \n",
        "        \"iso_3166_3_codes\": [], \n",
        "        \"name\": \"United Kingdom\", \n",
        "        \"sort-name\": \"United Kingdom\"\n",
        "      }, \n",
        "      \"date\": \"1969\"\n",
        "    }\n",
        "  ], \n",
        "  \"status\": \"Official\", \n",
        "  \"text-representation\": {\n",
        "    \"language\": \"eng\", \n",
        "    \"script\": \"Latn\"\n",
        "  }, \n",
        "  \"title\": \"To Markos III\"\n",
        "}\n"
       ]
      }
     ],
     "prompt_number": 38
    },
    {
     "cell_type": "code",
     "collapsed": false,
     "input": [
      "release_titles = [r[\"title\"] for r in releases]\n",
      "print \"\\nALL TITLES:\"\n",
      "for t in release_titles:\n",
      "        print t"
     ],
     "language": "python",
     "metadata": {},
     "outputs": [
      {
       "output_type": "stream",
       "stream": "stdout",
       "text": [
        "\n",
        "ALL TITLES:\n",
        "To Markos III\n",
        "Travelling on a Cloud\n",
        "Songs Of Love And Praise\n",
        "Songs of Love and Praise\n",
        "Secret Theatre\n",
        "The Story of Simon Simopath\n",
        "Me And My Friend\n",
        "All of Us\n",
        "The Story of Simon Simopath\n",
        "To Markos III\n",
        "Local Anaesthetic\n",
        "Orange & Blue\n",
        "Pentecost Hotel\n",
        "Black Flower\n",
        "All of Us\n"
       ]
      }
     ],
     "prompt_number": 39
    },
    {
     "cell_type": "heading",
     "level": 4,
     "metadata": {},
     "source": [
      "Using Pandas"
     ]
    },
    {
     "cell_type": "markdown",
     "metadata": {},
     "source": [
      "http://pandas.pydata.org/pandas-docs/stable/io.html#io-json-reader  "
     ]
    },
    {
     "cell_type": "code",
     "collapsed": false,
     "input": [
      "df_json = pd.read_json('http://musicbrainz.org/ws/2/artist/?query=artist%3AQueen&fmt=json')\n",
      "df_json"
     ],
     "language": "python",
     "metadata": {},
     "outputs": [
      {
       "html": [
        "<div style=\"max-height:1000px;max-width:1500px;overflow:auto;\">\n",
        "<table border=\"1\" class=\"dataframe\">\n",
        "  <thead>\n",
        "    <tr style=\"text-align: right;\">\n",
        "      <th></th>\n",
        "      <th>artists</th>\n",
        "      <th>count</th>\n",
        "      <th>created</th>\n",
        "      <th>offset</th>\n",
        "    </tr>\n",
        "  </thead>\n",
        "  <tbody>\n",
        "    <tr>\n",
        "      <th>0 </th>\n",
        "      <td> {u'name': u'Queen', u'area': {u'sort-name': u'...</td>\n",
        "      <td> 205</td>\n",
        "      <td> 2014-10-14T07:39:11.901Z</td>\n",
        "      <td> 0</td>\n",
        "    </tr>\n",
        "    <tr>\n",
        "      <th>1 </th>\n",
        "      <td> {u'name': u'Queen', u'area': {u'sort-name': u'...</td>\n",
        "      <td> 205</td>\n",
        "      <td> 2014-10-14T07:39:11.901Z</td>\n",
        "      <td> 0</td>\n",
        "    </tr>\n",
        "    <tr>\n",
        "      <th>2 </th>\n",
        "      <td> {u'name': u'Queen', u'disambiguation': u'US ra...</td>\n",
        "      <td> 205</td>\n",
        "      <td> 2014-10-14T07:39:11.901Z</td>\n",
        "      <td> 0</td>\n",
        "    </tr>\n",
        "    <tr>\n",
        "      <th>3 </th>\n",
        "      <td> {u'name': u'Queen Ida', u'area': {u'sort-name'...</td>\n",
        "      <td> 205</td>\n",
        "      <td> 2014-10-14T07:39:11.901Z</td>\n",
        "      <td> 0</td>\n",
        "    </tr>\n",
        "    <tr>\n",
        "      <th>4 </th>\n",
        "      <td> {u'name': u'Bandit Queen', u'area': {u'sort-na...</td>\n",
        "      <td> 205</td>\n",
        "      <td> 2014-10-14T07:39:11.901Z</td>\n",
        "      <td> 0</td>\n",
        "    </tr>\n",
        "    <tr>\n",
        "      <th>5 </th>\n",
        "      <td> {u'name': u'Queen Latifah', u'area': {u'sort-n...</td>\n",
        "      <td> 205</td>\n",
        "      <td> 2014-10-14T07:39:11.901Z</td>\n",
        "      <td> 0</td>\n",
        "    </tr>\n",
        "    <tr>\n",
        "      <th>6 </th>\n",
        "      <td> {u'name': u'Acid Queen', u'life-span': {u'ende...</td>\n",
        "      <td> 205</td>\n",
        "      <td> 2014-10-14T07:39:11.901Z</td>\n",
        "      <td> 0</td>\n",
        "    </tr>\n",
        "    <tr>\n",
        "      <th>7 </th>\n",
        "      <td> {u'name': u'Queen Majeeda', u'gender': u'femal...</td>\n",
        "      <td> 205</td>\n",
        "      <td> 2014-10-14T07:39:11.901Z</td>\n",
        "      <td> 0</td>\n",
        "    </tr>\n",
        "    <tr>\n",
        "      <th>8 </th>\n",
        "      <td> {u'sort-name': u'B.B. Queen', u'life-span': {u...</td>\n",
        "      <td> 205</td>\n",
        "      <td> 2014-10-14T07:39:11.901Z</td>\n",
        "      <td> 0</td>\n",
        "    </tr>\n",
        "    <tr>\n",
        "      <th>9 </th>\n",
        "      <td> {u'name': u'Sister Queen', u'area': {u'sort-na...</td>\n",
        "      <td> 205</td>\n",
        "      <td> 2014-10-14T07:39:11.901Z</td>\n",
        "      <td> 0</td>\n",
        "    </tr>\n",
        "    <tr>\n",
        "      <th>10</th>\n",
        "      <td> {u'name': u'Monica Queen', u'area': {u'sort-na...</td>\n",
        "      <td> 205</td>\n",
        "      <td> 2014-10-14T07:39:11.901Z</td>\n",
        "      <td> 0</td>\n",
        "    </tr>\n",
        "    <tr>\n",
        "      <th>11</th>\n",
        "      <td> {u'sort-name': u'Queen V', u'life-span': {u'en...</td>\n",
        "      <td> 205</td>\n",
        "      <td> 2014-10-14T07:39:11.901Z</td>\n",
        "      <td> 0</td>\n",
        "    </tr>\n",
        "    <tr>\n",
        "      <th>12</th>\n",
        "      <td> {u'name': u'Queen Elizabeth', u'area': {u'sort...</td>\n",
        "      <td> 205</td>\n",
        "      <td> 2014-10-14T07:39:11.901Z</td>\n",
        "      <td> 0</td>\n",
        "    </tr>\n",
        "    <tr>\n",
        "      <th>13</th>\n",
        "      <td> {u'name': u'Pearly Queen', u'tags': [{u'count'...</td>\n",
        "      <td> 205</td>\n",
        "      <td> 2014-10-14T07:39:11.901Z</td>\n",
        "      <td> 0</td>\n",
        "    </tr>\n",
        "    <tr>\n",
        "      <th>14</th>\n",
        "      <td> {u'name': u'Queen Bee', u'area': {u'sort-name'...</td>\n",
        "      <td> 205</td>\n",
        "      <td> 2014-10-14T07:39:11.901Z</td>\n",
        "      <td> 0</td>\n",
        "    </tr>\n",
        "    <tr>\n",
        "      <th>15</th>\n",
        "      <td> {u'name': u'Ivy Queen', u'area': {u'sort-name'...</td>\n",
        "      <td> 205</td>\n",
        "      <td> 2014-10-14T07:39:11.901Z</td>\n",
        "      <td> 0</td>\n",
        "    </tr>\n",
        "    <tr>\n",
        "      <th>16</th>\n",
        "      <td> {u'sort-name': u'Filter Queen', u'life-span': ...</td>\n",
        "      <td> 205</td>\n",
        "      <td> 2014-10-14T07:39:11.901Z</td>\n",
        "      <td> 0</td>\n",
        "    </tr>\n",
        "    <tr>\n",
        "      <th>17</th>\n",
        "      <td> {u'name': u'Queen Pen', u'gender': u'female', ...</td>\n",
        "      <td> 205</td>\n",
        "      <td> 2014-10-14T07:39:11.901Z</td>\n",
        "      <td> 0</td>\n",
        "    </tr>\n",
        "    <tr>\n",
        "      <th>18</th>\n",
        "      <td> {u'sort-name': u'Pork Queen', u'life-span': {u...</td>\n",
        "      <td> 205</td>\n",
        "      <td> 2014-10-14T07:39:11.901Z</td>\n",
        "      <td> 0</td>\n",
        "    </tr>\n",
        "    <tr>\n",
        "      <th>19</th>\n",
        "      <td> {u'sort-name': u'Witch Queen', u'life-span': {...</td>\n",
        "      <td> 205</td>\n",
        "      <td> 2014-10-14T07:39:11.901Z</td>\n",
        "      <td> 0</td>\n",
        "    </tr>\n",
        "    <tr>\n",
        "      <th>20</th>\n",
        "      <td> {u'name': u'Stampede Queen', u'life-span': {u'...</td>\n",
        "      <td> 205</td>\n",
        "      <td> 2014-10-14T07:39:11.901Z</td>\n",
        "      <td> 0</td>\n",
        "    </tr>\n",
        "    <tr>\n",
        "      <th>21</th>\n",
        "      <td> {u'name': u'Jenny Queen', u'life-span': {u'end...</td>\n",
        "      <td> 205</td>\n",
        "      <td> 2014-10-14T07:39:11.901Z</td>\n",
        "      <td> 0</td>\n",
        "    </tr>\n",
        "    <tr>\n",
        "      <th>22</th>\n",
        "      <td> {u'sort-name': u'Queen Mecca', u'life-span': {...</td>\n",
        "      <td> 205</td>\n",
        "      <td> 2014-10-14T07:39:11.901Z</td>\n",
        "      <td> 0</td>\n",
        "    </tr>\n",
        "    <tr>\n",
        "      <th>23</th>\n",
        "      <td> {u'sort-name': u'Disco Queen', u'life-span': {...</td>\n",
        "      <td> 205</td>\n",
        "      <td> 2014-10-14T07:39:11.901Z</td>\n",
        "      <td> 0</td>\n",
        "    </tr>\n",
        "    <tr>\n",
        "      <th>24</th>\n",
        "      <td> {u'sort-name': u'Queen Omega', u'life-span': {...</td>\n",
        "      <td> 205</td>\n",
        "      <td> 2014-10-14T07:39:11.901Z</td>\n",
        "      <td> 0</td>\n",
        "    </tr>\n",
        "  </tbody>\n",
        "</table>\n",
        "</div>"
       ],
       "metadata": {},
       "output_type": "pyout",
       "prompt_number": 71,
       "text": [
        "                                              artists  count  \\\n",
        "0   {u'name': u'Queen', u'area': {u'sort-name': u'...    205   \n",
        "1   {u'name': u'Queen', u'area': {u'sort-name': u'...    205   \n",
        "2   {u'name': u'Queen', u'disambiguation': u'US ra...    205   \n",
        "3   {u'name': u'Queen Ida', u'area': {u'sort-name'...    205   \n",
        "4   {u'name': u'Bandit Queen', u'area': {u'sort-na...    205   \n",
        "5   {u'name': u'Queen Latifah', u'area': {u'sort-n...    205   \n",
        "6   {u'name': u'Acid Queen', u'life-span': {u'ende...    205   \n",
        "7   {u'name': u'Queen Majeeda', u'gender': u'femal...    205   \n",
        "8   {u'sort-name': u'B.B. Queen', u'life-span': {u...    205   \n",
        "9   {u'name': u'Sister Queen', u'area': {u'sort-na...    205   \n",
        "10  {u'name': u'Monica Queen', u'area': {u'sort-na...    205   \n",
        "11  {u'sort-name': u'Queen V', u'life-span': {u'en...    205   \n",
        "12  {u'name': u'Queen Elizabeth', u'area': {u'sort...    205   \n",
        "13  {u'name': u'Pearly Queen', u'tags': [{u'count'...    205   \n",
        "14  {u'name': u'Queen Bee', u'area': {u'sort-name'...    205   \n",
        "15  {u'name': u'Ivy Queen', u'area': {u'sort-name'...    205   \n",
        "16  {u'sort-name': u'Filter Queen', u'life-span': ...    205   \n",
        "17  {u'name': u'Queen Pen', u'gender': u'female', ...    205   \n",
        "18  {u'sort-name': u'Pork Queen', u'life-span': {u...    205   \n",
        "19  {u'sort-name': u'Witch Queen', u'life-span': {...    205   \n",
        "20  {u'name': u'Stampede Queen', u'life-span': {u'...    205   \n",
        "21  {u'name': u'Jenny Queen', u'life-span': {u'end...    205   \n",
        "22  {u'sort-name': u'Queen Mecca', u'life-span': {...    205   \n",
        "23  {u'sort-name': u'Disco Queen', u'life-span': {...    205   \n",
        "24  {u'sort-name': u'Queen Omega', u'life-span': {...    205   \n",
        "\n",
        "                     created  offset  \n",
        "0   2014-10-14T07:39:11.901Z       0  \n",
        "1   2014-10-14T07:39:11.901Z       0  \n",
        "2   2014-10-14T07:39:11.901Z       0  \n",
        "3   2014-10-14T07:39:11.901Z       0  \n",
        "4   2014-10-14T07:39:11.901Z       0  \n",
        "5   2014-10-14T07:39:11.901Z       0  \n",
        "6   2014-10-14T07:39:11.901Z       0  \n",
        "7   2014-10-14T07:39:11.901Z       0  \n",
        "8   2014-10-14T07:39:11.901Z       0  \n",
        "9   2014-10-14T07:39:11.901Z       0  \n",
        "10  2014-10-14T07:39:11.901Z       0  \n",
        "11  2014-10-14T07:39:11.901Z       0  \n",
        "12  2014-10-14T07:39:11.901Z       0  \n",
        "13  2014-10-14T07:39:11.901Z       0  \n",
        "14  2014-10-14T07:39:11.901Z       0  \n",
        "15  2014-10-14T07:39:11.901Z       0  \n",
        "16  2014-10-14T07:39:11.901Z       0  \n",
        "17  2014-10-14T07:39:11.901Z       0  \n",
        "18  2014-10-14T07:39:11.901Z       0  \n",
        "19  2014-10-14T07:39:11.901Z       0  \n",
        "20  2014-10-14T07:39:11.901Z       0  \n",
        "21  2014-10-14T07:39:11.901Z       0  \n",
        "22  2014-10-14T07:39:11.901Z       0  \n",
        "23  2014-10-14T07:39:11.901Z       0  \n",
        "24  2014-10-14T07:39:11.901Z       0  "
       ]
      }
     ],
     "prompt_number": 71
    },
    {
     "cell_type": "heading",
     "level": 2,
     "metadata": {},
     "source": [
      "Accessing XML"
     ]
    },
    {
     "cell_type": "markdown",
     "metadata": {},
     "source": [
      "https://docs.python.org/2/library/urllib2.html\n",
      "\n",
      "https://docs.python.org/2/library/xml.etree.elementtree.html\n",
      "\n",
      "http://lxml.de/\n",
      "\n",
      "http://www.w3schools.com/xml/xml_examples.asp"
     ]
    },
    {
     "cell_type": "code",
     "collapsed": false,
     "input": [
      "from xml.dom import minidom\n",
      "#from xml.etree import ElementTree as ET\n",
      "from lxml import etree as ET #Supports xpath syntax\n",
      "from collections import defaultdict\n",
      "from pprint import pprint"
     ],
     "language": "python",
     "metadata": {},
     "outputs": []
    },
    {
     "cell_type": "code",
     "collapsed": false,
     "input": [
      "BASE_URL = 'http://www.w3schools.com/xml/cd_catalog.xml'\n",
      "xml_page = urllib2.urlopen(BASE_URL)\n",
      "str_page = xml_page.read()\n",
      "e = ET.XML(str_page)"
     ],
     "language": "python",
     "metadata": {},
     "outputs": []
    },
    {
     "cell_type": "code",
     "collapsed": false,
     "input": [
      "def etree_to_dict(t):\n",
      "    d = {t.tag: {} if t.attrib else None}\n",
      "    children = list(t)\n",
      "    if children:\n",
      "        dd = defaultdict(list)\n",
      "        for dc in map(etree_to_dict, children):\n",
      "            for k, v in dc.iteritems():\n",
      "                dd[k].append(v)\n",
      "        d = {t.tag: {k:v[0] if len(v) == 1 else v for k, v in dd.iteritems()}}\n",
      "    if t.attrib:\n",
      "        d[t.tag].update(('@' + k, v) for k, v in t.attrib.iteritems())\n",
      "    if t.text:\n",
      "        text = t.text.strip()\n",
      "        if children or t.attrib:\n",
      "            if text:\n",
      "              d[t.tag]['#text'] = text\n",
      "        else:\n",
      "            d[t.tag] = text\n",
      "    return d"
     ],
     "language": "python",
     "metadata": {},
     "outputs": []
    },
    {
     "cell_type": "code",
     "collapsed": false,
     "input": [
      "pprint(etree_to_dict(e))"
     ],
     "language": "python",
     "metadata": {},
     "outputs": []
    },
    {
     "cell_type": "code",
     "collapsed": false,
     "input": [
      "xml_page = urllib2.urlopen(BASE_URL)\n",
      "doc = minidom.parse(xml_page)\n",
      "\n",
      "def findTextnodes(nodeList):\n",
      "    for subnode in nodeList:\n",
      "        if subnode.nodeType == subnode.ELEMENT_NODE:\n",
      "            print(\"Element node: \" + subnode.tagName)\n",
      "            findTextnodes(subnode.childNodes)\n",
      "        elif subnode.nodeType == subnode.TEXT_NODE:\n",
      "            print(\"text node:\" + subnode.data)\n",
      "            \n",
      "findTextnodes(doc.childNodes)"
     ],
     "language": "python",
     "metadata": {},
     "outputs": []
    },
    {
     "cell_type": "code",
     "collapsed": false,
     "input": [
      "root = ET.fromstring(str_page)\n",
      "cdtags = root.xpath('//CD/TITLE')\n",
      "for cd in cdtags:\n",
      "    print cd.text"
     ],
     "language": "python",
     "metadata": {},
     "outputs": []
    },
    {
     "cell_type": "code",
     "collapsed": false,
     "input": [
      "for cd in root.findall('CD'):\n",
      "    title = cd.find('TITLE').text\n",
      "    artist = cd.find('ARTIST').text\n",
      "    country = cd.find('COUNTRY').text\n",
      "    print('{}\\t{}\\t{}').format(artist, country, title)"
     ],
     "language": "python",
     "metadata": {},
     "outputs": []
    },
    {
     "cell_type": "code",
     "collapsed": false,
     "input": [
      "cds = []\n",
      "for cd in root.findall('./CD'):\n",
      "        data = {}\n",
      "        data[\"TITLE\"] = cd.find('./TITLE').text\n",
      "        data[\"ARTIST\"] = cd.find('./ARTIST').text\n",
      "        data[\"COUNTRY\"] = cd.find('./COUNTRY').text\n",
      "        data[\"PRICE\"] = cd.find('./PRICE').text\n",
      "        data[\"YEAR\"] = cd.find('./YEAR').text\n",
      "        cds.append(data)\n",
      "cds[0:3]"
     ],
     "language": "python",
     "metadata": {},
     "outputs": []
    },
    {
     "cell_type": "heading",
     "level": 2,
     "metadata": {},
     "source": [
      "Acessing Databases"
     ]
    },
    {
     "cell_type": "heading",
     "level": 3,
     "metadata": {},
     "source": [
      "Acessing SQLite"
     ]
    },
    {
     "cell_type": "markdown",
     "metadata": {},
     "source": [
      "https://docs.python.org/2/library/sqlite3.html"
     ]
    },
    {
     "cell_type": "code",
     "collapsed": false,
     "input": [
      "import sqlite3\n",
      "conn = sqlite3.connect('example.db')"
     ],
     "language": "python",
     "metadata": {},
     "outputs": []
    },
    {
     "cell_type": "code",
     "collapsed": false,
     "input": [
      "c = conn.cursor()\n",
      "\n",
      "# Create table\n",
      "c.execute('''CREATE TABLE stocks\n",
      "             (date text, trans text, symbol text, qty real, price real)''')\n",
      "\n",
      "# Insert a row of data\n",
      "c.execute(\"INSERT INTO stocks VALUES ('2006-01-05','BUY','RHAT',100,35.14)\")\n",
      "\n",
      "# Save (commit) the changes\n",
      "conn.commit()\n",
      "\n",
      "# We can also close the connection if we are done with it.\n",
      "# Just be sure any changes have been committed or they will be lost.\n",
      "conn.close()"
     ],
     "language": "python",
     "metadata": {},
     "outputs": []
    },
    {
     "cell_type": "code",
     "collapsed": false,
     "input": [
      "conn = sqlite3.connect('example.db')\n",
      "c = conn.cursor()"
     ],
     "language": "python",
     "metadata": {},
     "outputs": []
    },
    {
     "cell_type": "code",
     "collapsed": false,
     "input": [
      "t = ('RHAT',) #tuple with just one element\n",
      "c.execute('SELECT * FROM stocks WHERE symbol=?', t)\n",
      "print c.fetchone()"
     ],
     "language": "python",
     "metadata": {},
     "outputs": []
    },
    {
     "cell_type": "code",
     "collapsed": false,
     "input": [
      "# Larger example that inserts many records at a time\n",
      "purchases = [('2006-03-28', 'BUY', 'IBM', 1000, 45.00),\n",
      "             ('2006-04-05', 'BUY', 'MSFT', 1000, 72.00),\n",
      "             ('2006-04-06', 'SELL', 'IBM', 500, 53.00),\n",
      "            ]\n",
      "c.executemany('INSERT INTO stocks VALUES (?,?,?,?,?)', purchases)"
     ],
     "language": "python",
     "metadata": {},
     "outputs": []
    },
    {
     "cell_type": "code",
     "collapsed": false,
     "input": [
      "for row in c.execute('SELECT * FROM stocks ORDER BY price'):\n",
      "        print row"
     ],
     "language": "python",
     "metadata": {},
     "outputs": []
    },
    {
     "cell_type": "heading",
     "level": 3,
     "metadata": {},
     "source": [
      "Acessing MySQL  "
     ]
    },
    {
     "cell_type": "markdown",
     "metadata": {},
     "source": [
      "https://pypi.python.org/pypi/PyMySQL  "
     ]
    },
    {
     "cell_type": "code",
     "collapsed": false,
     "input": [
      "import pymysql"
     ],
     "language": "python",
     "metadata": {},
     "outputs": [],
     "prompt_number": 72
    },
    {
     "cell_type": "code",
     "collapsed": false,
     "input": [
      "p = getpass.getpass()\n",
      "conn = pymysql.connect(host='localhost', port=3306, user='root', passwd=p, db='mysql')\n",
      "cur = conn.cursor()"
     ],
     "language": "python",
     "metadata": {},
     "outputs": [],
     "prompt_number": 122
    },
    {
     "cell_type": "code",
     "collapsed": false,
     "input": [
      "cur.execute(\"show databases;\")\n",
      "for r in cur.fetchall():\n",
      "   print(r)"
     ],
     "language": "python",
     "metadata": {},
     "outputs": [
      {
       "output_type": "stream",
       "stream": "stdout",
       "text": [
        "('information_schema',)\n",
        "('Aula_Grad',)\n",
        "('matrix',)\n",
        "('mysql',)\n",
        "('performance_schema',)\n",
        "('reuters',)\n"
       ]
      }
     ],
     "prompt_number": 132
    },
    {
     "cell_type": "code",
     "collapsed": false,
     "input": [
      "cur.execute(\"use mysql;\")\n",
      "cur.execute(\"show tables;\")\n",
      "for r in cur.fetchall():\n",
      "   print(r)"
     ],
     "language": "python",
     "metadata": {},
     "outputs": [
      {
       "output_type": "stream",
       "stream": "stdout",
       "text": [
        "('columns_priv',)\n",
        "('db',)\n",
        "('event',)\n",
        "('func',)\n",
        "('general_log',)\n",
        "('help_category',)\n",
        "('help_keyword',)\n",
        "('help_relation',)\n",
        "('help_topic',)\n",
        "('innodb_index_stats',)\n",
        "('innodb_table_stats',)\n",
        "('ndb_binlog_index',)\n",
        "('plugin',)\n",
        "('proc',)\n",
        "('procs_priv',)\n",
        "('proxies_priv',)\n",
        "('servers',)\n",
        "('slave_master_info',)\n",
        "('slave_relay_log_info',)\n",
        "('slave_worker_info',)\n",
        "('slow_log',)\n",
        "('tables_priv',)\n",
        "('time_zone',)\n",
        "('time_zone_leap_second',)\n",
        "('time_zone_name',)\n",
        "('time_zone_transition',)\n",
        "('time_zone_transition_type',)\n",
        "('user',)\n"
       ]
      }
     ],
     "prompt_number": 134
    },
    {
     "cell_type": "code",
     "collapsed": false,
     "input": [
      "cur.execute(\"SELECT * FROM mysql.user;\")# LIMIT 10;\")\n",
      "for r in cur.fetchall():\n",
      "   print(r)"
     ],
     "language": "python",
     "metadata": {},
     "outputs": [
      {
       "output_type": "stream",
       "stream": "stdout",
       "text": [
        "('localhost', 'root', '*A6203AA7E1271AFDFD2B6EF0D6EA580E581829AA', 'Y', 'Y', 'Y', 'Y', 'Y', 'Y', 'Y', 'Y', 'Y', 'Y', 'Y', 'Y', 'Y', 'Y', 'Y', 'Y', 'Y', 'Y', 'Y', 'Y', 'Y', 'Y', 'Y', 'Y', 'Y', 'Y', 'Y', 'Y', 'Y', '', '', '', '', 0, 0, 0, 0, 'mysql_native_password', '', 'N', datetime.datetime(2014, 8, 22, 15, 48, 18), None)\n",
        "('%', 'rsouza', '*A6203AA7E1271AFDFD2B6EF0D6EA580E581829AA', 'Y', 'Y', 'Y', 'Y', 'Y', 'Y', 'Y', 'Y', 'Y', 'Y', 'Y', 'Y', 'Y', 'Y', 'Y', 'Y', 'Y', 'Y', 'Y', 'Y', 'Y', 'Y', 'Y', 'Y', 'Y', 'Y', 'Y', 'Y', 'Y', '', '', '', '', 0, 0, 0, 0, 'mysql_native_password', '', 'N', datetime.datetime(2014, 8, 22, 16, 1, 56), None)\n"
       ]
      }
     ],
     "prompt_number": 139
    },
    {
     "cell_type": "heading",
     "level": 4,
     "metadata": {},
     "source": [
      "Using Pandas"
     ]
    },
    {
     "cell_type": "code",
     "collapsed": false,
     "input": [
      "import pandas.io.sql as psql"
     ],
     "language": "python",
     "metadata": {},
     "outputs": [],
     "prompt_number": 82
    },
    {
     "cell_type": "code",
     "collapsed": false,
     "input": [
      "df_mysql = psql.read_sql('select * from reuters.Frequency;', con=conn)"
     ],
     "language": "python",
     "metadata": {},
     "outputs": [],
     "prompt_number": 137
    },
    {
     "cell_type": "code",
     "collapsed": false,
     "input": [
      "df_mysql.head()"
     ],
     "language": "python",
     "metadata": {},
     "outputs": [
      {
       "html": [
        "<div style=\"max-height:1000px;max-width:1500px;overflow:auto;\">\n",
        "<table border=\"1\" class=\"dataframe\">\n",
        "  <thead>\n",
        "    <tr style=\"text-align: right;\">\n",
        "      <th></th>\n",
        "      <th>docid</th>\n",
        "      <th>term</th>\n",
        "      <th>count</th>\n",
        "    </tr>\n",
        "  </thead>\n",
        "  <tbody>\n",
        "    <tr>\n",
        "      <th>0</th>\n",
        "      <td> 10000_txt_earn</td>\n",
        "      <td> 114000</td>\n",
        "      <td> 1</td>\n",
        "    </tr>\n",
        "    <tr>\n",
        "      <th>1</th>\n",
        "      <td> 10000_txt_earn</td>\n",
        "      <td>    1st</td>\n",
        "      <td> 1</td>\n",
        "    </tr>\n",
        "    <tr>\n",
        "      <th>2</th>\n",
        "      <td> 10000_txt_earn</td>\n",
        "      <td>     26</td>\n",
        "      <td> 1</td>\n",
        "    </tr>\n",
        "    <tr>\n",
        "      <th>3</th>\n",
        "      <td> 10000_txt_earn</td>\n",
        "      <td>    329</td>\n",
        "      <td> 1</td>\n",
        "    </tr>\n",
        "    <tr>\n",
        "      <th>4</th>\n",
        "      <td> 10000_txt_earn</td>\n",
        "      <td>    ago</td>\n",
        "      <td> 1</td>\n",
        "    </tr>\n",
        "  </tbody>\n",
        "</table>\n",
        "</div>"
       ],
       "metadata": {},
       "output_type": "pyout",
       "prompt_number": 138,
       "text": [
        "            docid    term  count\n",
        "0  10000_txt_earn  114000      1\n",
        "1  10000_txt_earn     1st      1\n",
        "2  10000_txt_earn      26      1\n",
        "3  10000_txt_earn     329      1\n",
        "4  10000_txt_earn     ago      1"
       ]
      }
     ],
     "prompt_number": 138
    },
    {
     "cell_type": "code",
     "collapsed": false,
     "input": [
      "cur.close()\n",
      "conn.close()"
     ],
     "language": "python",
     "metadata": {},
     "outputs": [],
     "prompt_number": 87
    },
    {
     "cell_type": "heading",
     "level": 3,
     "metadata": {},
     "source": [
      "Acessing Mongo DB"
     ]
    },
    {
     "cell_type": "markdown",
     "metadata": {},
     "source": [
      "http://api.mongodb.org/python/current/tutorial.html"
     ]
    },
    {
     "cell_type": "code",
     "collapsed": false,
     "input": [
      "from pymongo import MongoClient"
     ],
     "language": "python",
     "metadata": {},
     "outputs": [],
     "prompt_number": 90
    },
    {
     "cell_type": "code",
     "collapsed": false,
     "input": [
      "client = MongoClient()\n",
      "#client = MongoClient('localhost', 27017)\n",
      "db = client.test_database #acessa ou cria o banco"
     ],
     "language": "python",
     "metadata": {},
     "outputs": [],
     "prompt_number": 89
    },
    {
     "cell_type": "code",
     "collapsed": false,
     "input": [
      "post = {\"author\": \"Mike\",\n",
      "        \"text\": \"My first blog post!\",\n",
      "        \"tags\": [\"mongodb\", \"python\", \"pymongo\"],\n",
      "        \"date\": datetime.datetime.utcnow()}"
     ],
     "language": "python",
     "metadata": {},
     "outputs": [],
     "prompt_number": 91
    },
    {
     "cell_type": "code",
     "collapsed": false,
     "input": [
      "posts = db.posts # cria a cole\u00e7\u00e3o\n",
      "post_id = posts.insert(post) #insere dados\n",
      "post_id"
     ],
     "language": "python",
     "metadata": {},
     "outputs": [
      {
       "metadata": {},
       "output_type": "pyout",
       "prompt_number": 92,
       "text": [
        "ObjectId('543d40df3625e80e6b1b2bde')"
       ]
      }
     ],
     "prompt_number": 92
    },
    {
     "cell_type": "code",
     "collapsed": false,
     "input": [
      "db.collection_names()"
     ],
     "language": "python",
     "metadata": {},
     "outputs": [
      {
       "metadata": {},
       "output_type": "pyout",
       "prompt_number": 93,
       "text": [
        "[u'system.indexes', u'posts']"
       ]
      }
     ],
     "prompt_number": 93
    },
    {
     "cell_type": "code",
     "collapsed": false,
     "input": [
      "posts.find_one()"
     ],
     "language": "python",
     "metadata": {},
     "outputs": [
      {
       "metadata": {},
       "output_type": "pyout",
       "prompt_number": 94,
       "text": [
        "{u'_id': ObjectId('541378d53625e82b19fa48bc'),\n",
        " u'author': u'Mike',\n",
        " u'date': datetime.datetime(2014, 9, 12, 22, 50, 8, 389000),\n",
        " u'tags': [u'mongodb', u'python', u'pymongo'],\n",
        " u'text': u'My first blog post!'}"
       ]
      }
     ],
     "prompt_number": 94
    },
    {
     "cell_type": "code",
     "collapsed": false,
     "input": [
      "new_posts = [{\"author\": \"Mike\",\n",
      "              \"text\": \"Another post!\",\n",
      "              \"tags\": [\"bulk\", \"insert\"],\n",
      "              \"date\": datetime.datetime(2009, 11, 12, 11, 14)},\n",
      "             {\"author\": \"Eliot\",\n",
      "              \"title\": \"MongoDB is fun\",\n",
      "              \"text\": \"and pretty easy too!\",\n",
      "              \"date\": datetime.datetime(2009, 11, 10, 10, 45)}]"
     ],
     "language": "python",
     "metadata": {},
     "outputs": [],
     "prompt_number": 95
    },
    {
     "cell_type": "code",
     "collapsed": false,
     "input": [
      "posts.insert(new_posts)"
     ],
     "language": "python",
     "metadata": {},
     "outputs": [
      {
       "metadata": {},
       "output_type": "pyout",
       "prompt_number": 96,
       "text": [
        "[ObjectId('543d40f23625e80e6b1b2bdf'), ObjectId('543d40f23625e80e6b1b2be0')]"
       ]
      }
     ],
     "prompt_number": 96
    },
    {
     "cell_type": "code",
     "collapsed": false,
     "input": [
      "posts.find_one({\"author\": \"Mike\"})"
     ],
     "language": "python",
     "metadata": {},
     "outputs": [
      {
       "metadata": {},
       "output_type": "pyout",
       "prompt_number": 97,
       "text": [
        "{u'_id': ObjectId('541378d53625e82b19fa48bc'),\n",
        " u'author': u'Mike',\n",
        " u'date': datetime.datetime(2014, 9, 12, 22, 50, 8, 389000),\n",
        " u'tags': [u'mongodb', u'python', u'pymongo'],\n",
        " u'text': u'My first blog post!'}"
       ]
      }
     ],
     "prompt_number": 97
    },
    {
     "cell_type": "code",
     "collapsed": false,
     "input": [
      "#for post in posts.find({\"author\": \"Mike\"}):\n",
      "for post in posts.find():\n",
      "    print(post)"
     ],
     "language": "python",
     "metadata": {},
     "outputs": [
      {
       "output_type": "stream",
       "stream": "stdout",
       "text": [
        "{u'date': datetime.datetime(2014, 9, 12, 22, 50, 8, 389000), u'text': u'My first blog post!', u'_id': ObjectId('541378d53625e82b19fa48bc'), u'author': u'Mike', u'tags': [u'mongodb', u'python', u'pymongo']}\n",
        "{u'date': datetime.datetime(2009, 11, 12, 11, 14), u'text': u'Another post!', u'_id': ObjectId('54137a783625e82b19fa48bd'), u'author': u'Mike', u'tags': [u'bulk', u'insert']}\n",
        "{u'date': datetime.datetime(2009, 11, 10, 10, 45), u'text': u'and pretty easy too!', u'_id': ObjectId('54137a783625e82b19fa48be'), u'author': u'Eliot', u'title': u'MongoDB is fun'}\n",
        "{u'date': datetime.datetime(2014, 10, 13, 20, 25, 55, 657000), u'text': u'My first blog post!', u'_id': ObjectId('543c35543625e80fb53e60a2'), u'author': u'Mike', u'tags': [u'mongodb', u'python', u'pymongo']}\n",
        "{u'date': datetime.datetime(2009, 11, 12, 11, 14), u'text': u'Another post!', u'_id': ObjectId('543c35593625e80fb53e60a3'), u'author': u'Mike', u'tags': [u'bulk', u'insert']}\n",
        "{u'date': datetime.datetime(2009, 11, 10, 10, 45), u'text': u'and pretty easy too!', u'_id': ObjectId('543c35593625e80fb53e60a4'), u'author': u'Eliot', u'title': u'MongoDB is fun'}\n",
        "{u'date': datetime.datetime(2014, 10, 13, 23, 7, 35, 266000), u'text': u'My first blog post!', u'_id': ObjectId('543c5b373625e8053b030403'), u'author': u'Mike', u'tags': [u'mongodb', u'python', u'pymongo']}\n",
        "{u'date': datetime.datetime(2009, 11, 12, 11, 14), u'text': u'Another post!', u'_id': ObjectId('543c5b383625e8053b030404'), u'author': u'Mike', u'tags': [u'bulk', u'insert']}\n",
        "{u'date': datetime.datetime(2009, 11, 10, 10, 45), u'text': u'and pretty easy too!', u'_id': ObjectId('543c5b383625e8053b030405'), u'author': u'Eliot', u'title': u'MongoDB is fun'}\n",
        "{u'date': datetime.datetime(2014, 10, 14, 15, 27, 25, 529000), u'text': u'My first blog post!', u'_id': ObjectId('543d40df3625e80e6b1b2bde'), u'author': u'Mike', u'tags': [u'mongodb', u'python', u'pymongo']}\n",
        "{u'date': datetime.datetime(2009, 11, 12, 11, 14), u'text': u'Another post!', u'_id': ObjectId('543d40f23625e80e6b1b2bdf'), u'author': u'Mike', u'tags': [u'bulk', u'insert']}\n",
        "{u'date': datetime.datetime(2009, 11, 10, 10, 45), u'text': u'and pretty easy too!', u'_id': ObjectId('543d40f23625e80e6b1b2be0'), u'author': u'Eliot', u'title': u'MongoDB is fun'}\n"
       ]
      }
     ],
     "prompt_number": 98
    },
    {
     "cell_type": "code",
     "collapsed": false,
     "input": [
      "posts.count()"
     ],
     "language": "python",
     "metadata": {},
     "outputs": [
      {
       "metadata": {},
       "output_type": "pyout",
       "prompt_number": 99,
       "text": [
        "12"
       ]
      }
     ],
     "prompt_number": 99
    },
    {
     "cell_type": "heading",
     "level": 4,
     "metadata": {},
     "source": [
      "Using Pandas"
     ]
    },
    {
     "cell_type": "code",
     "collapsed": false,
     "input": [
      "example_pd = posts.find()\n",
      "df_pandas =  pd.DataFrame(list(example_pd))\n",
      "df_pandas"
     ],
     "language": "python",
     "metadata": {},
     "outputs": [
      {
       "html": [
        "<div style=\"max-height:1000px;max-width:1500px;overflow:auto;\">\n",
        "<table border=\"1\" class=\"dataframe\">\n",
        "  <thead>\n",
        "    <tr style=\"text-align: right;\">\n",
        "      <th></th>\n",
        "      <th>_id</th>\n",
        "      <th>author</th>\n",
        "      <th>date</th>\n",
        "      <th>tags</th>\n",
        "      <th>text</th>\n",
        "      <th>title</th>\n",
        "    </tr>\n",
        "  </thead>\n",
        "  <tbody>\n",
        "    <tr>\n",
        "      <th>0 </th>\n",
        "      <td> 541378d53625e82b19fa48bc</td>\n",
        "      <td>  Mike</td>\n",
        "      <td>2014-09-12 22:50:08.389000</td>\n",
        "      <td> [mongodb, python, pymongo]</td>\n",
        "      <td>  My first blog post!</td>\n",
        "      <td>            NaN</td>\n",
        "    </tr>\n",
        "    <tr>\n",
        "      <th>1 </th>\n",
        "      <td> 54137a783625e82b19fa48bd</td>\n",
        "      <td>  Mike</td>\n",
        "      <td>       2009-11-12 11:14:00</td>\n",
        "      <td>             [bulk, insert]</td>\n",
        "      <td>        Another post!</td>\n",
        "      <td>            NaN</td>\n",
        "    </tr>\n",
        "    <tr>\n",
        "      <th>2 </th>\n",
        "      <td> 54137a783625e82b19fa48be</td>\n",
        "      <td> Eliot</td>\n",
        "      <td>       2009-11-10 10:45:00</td>\n",
        "      <td>                        NaN</td>\n",
        "      <td> and pretty easy too!</td>\n",
        "      <td> MongoDB is fun</td>\n",
        "    </tr>\n",
        "    <tr>\n",
        "      <th>3 </th>\n",
        "      <td> 543c35543625e80fb53e60a2</td>\n",
        "      <td>  Mike</td>\n",
        "      <td>2014-10-13 20:25:55.657000</td>\n",
        "      <td> [mongodb, python, pymongo]</td>\n",
        "      <td>  My first blog post!</td>\n",
        "      <td>            NaN</td>\n",
        "    </tr>\n",
        "    <tr>\n",
        "      <th>4 </th>\n",
        "      <td> 543c35593625e80fb53e60a3</td>\n",
        "      <td>  Mike</td>\n",
        "      <td>       2009-11-12 11:14:00</td>\n",
        "      <td>             [bulk, insert]</td>\n",
        "      <td>        Another post!</td>\n",
        "      <td>            NaN</td>\n",
        "    </tr>\n",
        "    <tr>\n",
        "      <th>5 </th>\n",
        "      <td> 543c35593625e80fb53e60a4</td>\n",
        "      <td> Eliot</td>\n",
        "      <td>       2009-11-10 10:45:00</td>\n",
        "      <td>                        NaN</td>\n",
        "      <td> and pretty easy too!</td>\n",
        "      <td> MongoDB is fun</td>\n",
        "    </tr>\n",
        "    <tr>\n",
        "      <th>6 </th>\n",
        "      <td> 543c5b373625e8053b030403</td>\n",
        "      <td>  Mike</td>\n",
        "      <td>2014-10-13 23:07:35.266000</td>\n",
        "      <td> [mongodb, python, pymongo]</td>\n",
        "      <td>  My first blog post!</td>\n",
        "      <td>            NaN</td>\n",
        "    </tr>\n",
        "    <tr>\n",
        "      <th>7 </th>\n",
        "      <td> 543c5b383625e8053b030404</td>\n",
        "      <td>  Mike</td>\n",
        "      <td>       2009-11-12 11:14:00</td>\n",
        "      <td>             [bulk, insert]</td>\n",
        "      <td>        Another post!</td>\n",
        "      <td>            NaN</td>\n",
        "    </tr>\n",
        "    <tr>\n",
        "      <th>8 </th>\n",
        "      <td> 543c5b383625e8053b030405</td>\n",
        "      <td> Eliot</td>\n",
        "      <td>       2009-11-10 10:45:00</td>\n",
        "      <td>                        NaN</td>\n",
        "      <td> and pretty easy too!</td>\n",
        "      <td> MongoDB is fun</td>\n",
        "    </tr>\n",
        "    <tr>\n",
        "      <th>9 </th>\n",
        "      <td> 543d40df3625e80e6b1b2bde</td>\n",
        "      <td>  Mike</td>\n",
        "      <td>2014-10-14 15:27:25.529000</td>\n",
        "      <td> [mongodb, python, pymongo]</td>\n",
        "      <td>  My first blog post!</td>\n",
        "      <td>            NaN</td>\n",
        "    </tr>\n",
        "    <tr>\n",
        "      <th>10</th>\n",
        "      <td> 543d40f23625e80e6b1b2bdf</td>\n",
        "      <td>  Mike</td>\n",
        "      <td>       2009-11-12 11:14:00</td>\n",
        "      <td>             [bulk, insert]</td>\n",
        "      <td>        Another post!</td>\n",
        "      <td>            NaN</td>\n",
        "    </tr>\n",
        "    <tr>\n",
        "      <th>11</th>\n",
        "      <td> 543d40f23625e80e6b1b2be0</td>\n",
        "      <td> Eliot</td>\n",
        "      <td>       2009-11-10 10:45:00</td>\n",
        "      <td>                        NaN</td>\n",
        "      <td> and pretty easy too!</td>\n",
        "      <td> MongoDB is fun</td>\n",
        "    </tr>\n",
        "  </tbody>\n",
        "</table>\n",
        "</div>"
       ],
       "metadata": {},
       "output_type": "pyout",
       "prompt_number": 101,
       "text": [
        "                         _id author                       date  \\\n",
        "0   541378d53625e82b19fa48bc   Mike 2014-09-12 22:50:08.389000   \n",
        "1   54137a783625e82b19fa48bd   Mike        2009-11-12 11:14:00   \n",
        "2   54137a783625e82b19fa48be  Eliot        2009-11-10 10:45:00   \n",
        "3   543c35543625e80fb53e60a2   Mike 2014-10-13 20:25:55.657000   \n",
        "4   543c35593625e80fb53e60a3   Mike        2009-11-12 11:14:00   \n",
        "5   543c35593625e80fb53e60a4  Eliot        2009-11-10 10:45:00   \n",
        "6   543c5b373625e8053b030403   Mike 2014-10-13 23:07:35.266000   \n",
        "7   543c5b383625e8053b030404   Mike        2009-11-12 11:14:00   \n",
        "8   543c5b383625e8053b030405  Eliot        2009-11-10 10:45:00   \n",
        "9   543d40df3625e80e6b1b2bde   Mike 2014-10-14 15:27:25.529000   \n",
        "10  543d40f23625e80e6b1b2bdf   Mike        2009-11-12 11:14:00   \n",
        "11  543d40f23625e80e6b1b2be0  Eliot        2009-11-10 10:45:00   \n",
        "\n",
        "                          tags                  text           title  \n",
        "0   [mongodb, python, pymongo]   My first blog post!             NaN  \n",
        "1               [bulk, insert]         Another post!             NaN  \n",
        "2                          NaN  and pretty easy too!  MongoDB is fun  \n",
        "3   [mongodb, python, pymongo]   My first blog post!             NaN  \n",
        "4               [bulk, insert]         Another post!             NaN  \n",
        "5                          NaN  and pretty easy too!  MongoDB is fun  \n",
        "6   [mongodb, python, pymongo]   My first blog post!             NaN  \n",
        "7               [bulk, insert]         Another post!             NaN  \n",
        "8                          NaN  and pretty easy too!  MongoDB is fun  \n",
        "9   [mongodb, python, pymongo]   My first blog post!             NaN  \n",
        "10              [bulk, insert]         Another post!             NaN  \n",
        "11                         NaN  and pretty easy too!  MongoDB is fun  "
       ]
      }
     ],
     "prompt_number": 101
    },
    {
     "cell_type": "heading",
     "level": 2,
     "metadata": {},
     "source": [
      "Accessing Feeds RSS"
     ]
    },
    {
     "cell_type": "markdown",
     "metadata": {},
     "source": [
      "http://www.feedparser.org/  \n",
      "http://docs.python.org/library/re.html  \n",
      "http://www.pythonware.com/library/pil/handbook/index.htm  "
     ]
    },
    {
     "cell_type": "code",
     "collapsed": false,
     "input": [
      "import feedparser"
     ],
     "language": "python",
     "metadata": {},
     "outputs": [],
     "prompt_number": 102
    },
    {
     "cell_type": "code",
     "collapsed": false,
     "input": [
      "#d = feedparser.parse('http://g1.globo.com/dynamo/rss2.xml')\n",
      "d = feedparser.parse('http://rss.nytimes.com/services/xml/rss/nyt/InternationalHome.xml')"
     ],
     "language": "python",
     "metadata": {},
     "outputs": [],
     "prompt_number": 116
    },
    {
     "cell_type": "code",
     "collapsed": false,
     "input": [
      "print d['feed']['title']\n",
      "print d['feed']['link']\n",
      "print d.feed.subtitle\n",
      "print len(d['entries'])"
     ],
     "language": "python",
     "metadata": {},
     "outputs": [
      {
       "output_type": "stream",
       "stream": "stdout",
       "text": [
        "NYT > International Home\n",
        "http://www.nytimes.com/pages/international/index.html?partner=rss&emc=rss\n",
        "\n",
        "25\n"
       ]
      }
     ],
     "prompt_number": 117
    },
    {
     "cell_type": "code",
     "collapsed": false,
     "input": [
      "print d['entries'][0]['title'] \n",
      "print d.entries[0]['link']"
     ],
     "language": "python",
     "metadata": {},
     "outputs": [
      {
       "output_type": "stream",
       "stream": "stdout",
       "text": [
        "Ireland to Phase Out Tax Advantage Used by Technology Firms\n",
        "http://rss.nytimes.com/c/34625/f/667200/s/3f721de3/sc/1/l/0L0Snytimes0N0C20A140C10A0C150Cbusiness0Cinternational0Cireland0Eto0Ephase0Eout0Etax0Eadvantage0Eused0Eby0Etechnology0Efirms0Bhtml0Dpartner0Frss0Gemc0Frss/story01.htm\n"
       ]
      }
     ],
     "prompt_number": 118
    },
    {
     "cell_type": "code",
     "collapsed": false,
     "input": [
      "print d.headers"
     ],
     "language": "python",
     "metadata": {},
     "outputs": [
      {
       "output_type": "stream",
       "stream": "stdout",
       "text": [
        "{'content-length': '10442', 'content-encoding': 'gzip', 'set-cookie': 'MF2=hm8az7di5395; expires=Thu, 13-Oct-16 15:34:26 GMT; path=/', 'server': 'FeedsPortal', 'last-modified': 'Tue, 14 Oct 2014 14:57:53 GMT', 'connection': 'close', 'etag': '1413298673000', 'date': 'Tue, 14 Oct 2014 15:34:26 GMT', 'content-type': 'text/xml;charset=UTF-8'}\n"
       ]
      }
     ],
     "prompt_number": 119
    },
    {
     "cell_type": "code",
     "collapsed": false,
     "input": [
      "for post in d.entries:\n",
      "    print post.title + \": \" + post.link + \"\\n\""
     ],
     "language": "python",
     "metadata": {},
     "outputs": [
      {
       "output_type": "stream",
       "stream": "stdout",
       "text": [
        "Ireland to Phase Out Tax Advantage Used by Technology Firms: http://rss.nytimes.com/c/34625/f/667200/s/3f721de3/sc/1/l/0L0Snytimes0N0C20A140C10A0C150Cbusiness0Cinternational0Cireland0Eto0Ephase0Eout0Etax0Eadvantage0Eused0Eby0Etechnology0Efirms0Bhtml0Dpartner0Frss0Gemc0Frss/story01.htm\n",
        "\n",
        "Americans\u2019 Obsession With Extreme Fitness: http://rss.nytimes.com/c/34625/f/667200/s/3f6f2c02/sc/14/l/0L0Snytimes0N0C20A140C10A0C190Cmagazine0Cwhy0Eare0Eamericans0Eso0Efascinated0Ewith0Eextreme0Efitness0Bhtml0Dpartner0Frss0Gemc0Frss/story01.htm\n",
        "\n",
        "Turkish Airstrike Hits Kurds, Complicating Fight Against Islamic State: http://rss.nytimes.com/c/34625/f/667200/s/3f71a4af/sc/7/l/0L0Snytimes0N0C20A140C10A0C150Cworld0Ceurope0Cturkey0Eairstrike0Ekurds0Eisis0Bhtml0Dpartner0Frss0Gemc0Frss/story01.htm\n",
        "\n",
        "Well: In Interrogations, Teenagers Are Too Young to Know Better: http://rss.nytimes.com/c/34625/f/667200/s/3f6cd4bf/sc/8/l/0Lwell0Bblogs0Bnytimes0N0C20A140C10A0C130Cin0Einterrogations0Eteenagers0Eare0Etoo0Eyoung0Eto0Eknow0Ebetter0C0Dpartner0Frss0Gemc0Frss/story01.htm\n",
        "\n",
        "Bosnian Elections Reinforce Longstanding Ethnic Divisions: http://rss.nytimes.com/c/34625/f/667200/s/3f710d99/sc/7/l/0L0Snytimes0N0C20A140C10A0C150Cworld0Ceurope0Cbosnian0Eelections0Ereinforce0Elongstanding0Eethnic0Edivisions0Bhtml0Dpartner0Frss0Gemc0Frss/story01.htm\n",
        "\n",
        "Catalonia Cancels Vote to Secede From Spain, but Calls for Looser Referendum: http://rss.nytimes.com/c/34625/f/667200/s/3f6fb39a/sc/7/l/0L0Snytimes0N0C20A140C10A0C150Cworld0Ceurope0Ccatalonia0Ecancels0Ereferendum0Eon0Eindependence0Ein0Enovember0Bhtml0Dpartner0Frss0Gemc0Frss/story01.htm\n",
        "\n",
        "Britain Arrests 6 in Counterterrorism Raids: http://rss.nytimes.com/c/34625/f/667200/s/3f6eae87/sc/8/l/0L0Snytimes0N0C20A140C10A0C150Cworld0Ceurope0Cbritain0Eterrorism0Earrests0Bhtml0Dpartner0Frss0Gemc0Frss/story01.htm\n",
        "\n",
        "For Oscar Pistorius, Question of Prison Looms at Sentencing Hearing: http://rss.nytimes.com/c/34625/f/667200/s/3f6d2e46/sc/8/l/0L0Snytimes0N0C20A140C10A0C150Cworld0Cafrica0Coscar0Epistorius0Esentencing0Etrial0Bhtml0Dpartner0Frss0Gemc0Frss/story01.htm\n",
        "\n",
        "Death Toll Rises from Cyclone in India: http://rss.nytimes.com/c/34625/f/667200/s/3f6fb39c/sc/31/l/0L0Snytimes0N0C20A140C10A0C150Cworld0Casia0Cdeath0Etoll0Erises0Efrom0Eindia0Ecyclone0Bhtml0Dpartner0Frss0Gemc0Frss/story01.htm\n",
        "\n",
        "Hong Kong Police Dismantle Protesters\u2019 Barricades: http://rss.nytimes.com/c/34625/f/667200/s/3f6fb398/sc/3/l/0L0Snytimes0N0C20A140C10A0C150Cworld0Casia0Chong0Ekong0Eprotests0Bhtml0Dpartner0Frss0Gemc0Frss/story01.htm\n",
        "\n",
        "Russian Hackers Used Bug in Microsoft Windows for Spying, Report Says: http://rss.nytimes.com/c/34625/f/667200/s/3f6f205a/sc/21/l/0L0Snytimes0N0C20A140C10A0C150Cbusiness0Cinternational0Crussian0Ehackers0Eused0Ebug0Ein0Emicrosoft0Ewindows0Efor0Espying0Ereport0Esays0Bhtml0Dpartner0Frss0Gemc0Frss/story01.htm\n",
        "\n",
        "Ebola Patient Dies in German Hospital: http://rss.nytimes.com/c/34625/f/667200/s/3f6f2bff/sc/1/l/0L0Snytimes0N0C20A140C10A0C150Cworld0Ceurope0Cebola0Epatient0Edies0Ein0Egerman0Ehospital0Bhtml0Dpartner0Frss0Gemc0Frss/story01.htm\n",
        "\n",
        "U.N. Medic Dies of Ebola in German Hospital: http://rss.nytimes.com/c/34625/f/667200/s/3f6e601c/sc/1/l/0L0Snytimes0N0Creuters0C20A140C10A0C140Cworld0Cafrica0C14reuters0Ehealth0Eebola0Egermany0Bhtml0Dpartner0Frss0Gemc0Frss/story01.htm\n",
        "\n",
        "Bits Blog: French Bank to Allow Sending Money With Tweets: http://rss.nytimes.com/c/34625/f/667200/s/3f7079ad/sc/46/l/0Lbits0Bblogs0Bnytimes0N0C20A140C10A0C140Cfrench0Ebank0Eto0Eallow0Esending0Emoney0Ewith0Etweets0C0Dpartner0Frss0Gemc0Frss/story01.htm\n",
        "\n",
        "Russian Hackers Target NATO, Ukraine and Others-iSight: http://rss.nytimes.com/c/34625/f/667200/s/3f6d2e44/sc/30/l/0L0Snytimes0N0Creuters0C20A140C10A0C140Cworld0Ceurope0C14reuters0Erussia0Ehackers0Bhtml0Dpartner0Frss0Gemc0Frss/story01.htm\n",
        "\n",
        "Hong Kong Police Remove Barriers and Protesters\u2019 Encampments: http://rss.nytimes.com/c/34625/f/667200/s/3f651d9d/sc/30/l/0L0Snytimes0N0C20A140C10A0C140Cworld0Casia0Chundreds0Etry0Eto0Etear0Edown0Ebarricades0Eof0Esit0Ein0Ein0Edowntown0Ehong0Ekong0Bhtml0Dpartner0Frss0Gemc0Frss/story01.htm\n",
        "\n",
        "In 'Cosmigraphics,' Our Changing Pictures of Space Through Time: http://rss.nytimes.com/c/34625/f/667200/s/3f6f2060/sc/38/l/0L0Snytimes0N0C20A140C10A0C140Cscience0Cspace0Cin0Ecosmigraphics0Eour0Echanging0Epictures0Eof0Espace0Ethrough0Etime0Bhtml0Dpartner0Frss0Gemc0Frss/story01.htm\n",
        "\n",
        "Questions Rise on Preparations at Hospitals to Deal With Ebola: http://rss.nytimes.com/c/34625/f/667200/s/3f6c3c1c/sc/1/l/0L0Snytimes0N0C20A140C10A0C140Cus0Cquestions0Erise0Eon0Epreparations0Eat0Ehospitals0Eto0Edeal0Ewith0Eebola0Bhtml0Dpartner0Frss0Gemc0Frss/story01.htm\n",
        "\n",
        "For Syrian Kurds, a Refuge in Turkey but Not a Home: http://rss.nytimes.com/c/34625/f/667200/s/3f6f4c40/sc/20/l/0L0Snytimes0N0C20A140C10A0C140Cworld0Cmiddleeast0Cfor0Esyrian0Ekurds0Ea0Erefuge0Ebut0Enot0Ea0Ehome0Bhtml0Dpartner0Frss0Gemc0Frss/story01.htm\n",
        "\n",
        "Some Captured Terrorists Talk Willingly and Proudly, Investigators Say: http://rss.nytimes.com/c/34625/f/667200/s/3f6dae72/sc/8/l/0L0Snytimes0N0C20A140C10A0C140Cnyregion0Csome0Ecaptured0Eterrorists0Etalk0Ewillingly0Eand0Eproudly0Einvestigators0Esay0Bhtml0Dpartner0Frss0Gemc0Frss/story01.htm\n",
        "\n",
        "At the Vatican, a Shift in Tone Toward Gays and Divorce: http://rss.nytimes.com/c/34625/f/667200/s/3f688b28/sc/3/l/0L0Snytimes0N0C20A140C10A0C140Cworld0Ceurope0Cvatican0Esignals0Emore0Etolerance0Etoward0Egays0Eand0Eremarriage0Bhtml0Dpartner0Frss0Gemc0Frss/story01.htm\n",
        "\n",
        "C.D.C. Rethinking Methods to Stop Spread of Ebola: http://rss.nytimes.com/c/34625/f/667200/s/3f68e288/sc/7/l/0L0Snytimes0N0C20A140C10A0C140Cus0Cdallas0Enurse0Eebola0Epatient0Bhtml0Dpartner0Frss0Gemc0Frss/story01.htm\n",
        "\n",
        "A Tennis Career Changeover for Robin Soderling: http://rss.nytimes.com/c/34625/f/667200/s/3f6cd4b9/sc/13/l/0L0Snytimes0N0C20A140C10A0C140Csports0Ctennis0Ca0Etennis0Ecareer0Echangeover0Efor0Erobin0Esoderling0Bhtml0Dpartner0Frss0Gemc0Frss/story01.htm\n",
        "\n",
        "North Korea\u2019s Kim Jong-un Reappears in Public, North\u2019s Media Reports: http://rss.nytimes.com/c/34625/f/667200/s/3f6af9b9/sc/11/l/0L0Snytimes0N0C20A140C10A0C140Cworld0Casia0Cnorth0Ekorean0Eleader0Ekim0Ejong0Eun0Ereported0Eto0Ehave0Eappeared0Ein0Epublic0Bhtml0Dpartner0Frss0Gemc0Frss/story01.htm\n",
        "\n",
        "Jean Tirole Wins Nobel in Economics for Work on Regulation: http://rss.nytimes.com/c/34625/f/667200/s/3f667005/sc/24/l/0L0Snytimes0N0C20A140C10A0C140Cbusiness0Cjean0Etirole0Ewins0Enobel0Eprize0Ein0Eeconomics0Bhtml0Dpartner0Frss0Gemc0Frss/story01.htm\n",
        "\n"
       ]
      }
     ],
     "prompt_number": 120
    },
    {
     "cell_type": "heading",
     "level": 2,
     "metadata": {},
     "source": [
      "Acessando Twitter"
     ]
    },
    {
     "cell_type": "markdown",
     "metadata": {},
     "source": [
      "https://github.com/bear/python-twitter  \n",
      "Go to http://twitter.com/apps/new to create an app and get these items  \n",
      "See https://dev.twitter.com/docs/auth/oauth for more information on Twitter's OAuth implementation  \n",
      "https://dev.twitter.com/rest/reference/get/account/verify_credentials  "
     ]
    },
    {
     "cell_type": "code",
     "collapsed": false,
     "input": [
      "import twitter"
     ],
     "language": "python",
     "metadata": {},
     "outputs": [],
     "prompt_number": 108
    },
    {
     "cell_type": "code",
     "collapsed": false,
     "input": [
      "with open('twitter_tokens.txt', 'r') as twitter_tokens:\n",
      "    tokens = twitter_tokens.read().split(',')\n",
      "consumer_key = tokens[0].strip()\n",
      "consumer_secret = tokens[1].strip()\n",
      "access_token = tokens[2].strip()\n",
      "access_token_secret = tokens[3].strip()"
     ],
     "language": "python",
     "metadata": {},
     "outputs": [],
     "prompt_number": 109
    },
    {
     "cell_type": "markdown",
     "metadata": {},
     "source": [
      "Construct, sign, and open a twitter request using the hard-coded credentials above."
     ]
    },
    {
     "cell_type": "code",
     "collapsed": false,
     "input": [
      "api = twitter.Api(consumer_key=consumer_key, consumer_secret=consumer_secret, \n",
      "                  access_token_key=access_token, access_token_secret=access_token_secret)"
     ],
     "language": "python",
     "metadata": {},
     "outputs": [],
     "prompt_number": 110
    },
    {
     "cell_type": "code",
     "collapsed": false,
     "input": [
      "print api.VerifyCredentials()"
     ],
     "language": "python",
     "metadata": {},
     "outputs": [
      {
       "output_type": "stream",
       "stream": "stdout",
       "text": [
        "{\"created_at\": \"Thu Apr 09 10:44:07 +0000 2009\", \"description\": \"Researcher and Professor\", \"favourites_count\": 1, \"followers_count\": 470, \"friends_count\": 126, \"id\": 29959702, \"lang\": \"en\", \"listed_count\": 21, \"location\": \"Rio de Janeiro\", \"name\": \"Renato Rocha Souza\", \"profile_background_color\": \"9AE4E8\", \"profile_background_image_url\": \"http://pbs.twimg.com/profile_background_images/33941499/8.jpg\", \"profile_background_tile\": false, \"profile_image_url\": \"https://pbs.twimg.com/profile_images/503088023/Renato2_normal.JPG\", \"profile_link_color\": \"0084B4\", \"profile_sidebar_fill_color\": \"DDFFCC\", \"profile_text_color\": \"333333\", \"protected\": false, \"screen_name\": \"rrsouza\", \"status\": {\"created_at\": \"Mon Sep 01 19:52:59 +0000 2014\", \"favorited\": false, \"hashtags\": [\"LeakForJLaw\", \"LeakForPerverts\"], \"id\": 506530177732849664, \"lang\": \"pt\", \"retweeted\": false, \"source\": \"<a href=\\\"http://twitter.com\\\" rel=\\\"nofollow\\\">Twitter Web Client</a>\", \"text\": \"Mais um curioso fen\\u00f4meno dos nossos tempos: #LeakForJLaw Or maybe #LeakForPerverts ?\", \"truncated\": false}, \"statuses_count\": 1365, \"time_zone\": \"London\", \"url\": \"http://t.co/Bw5u7mg5\", \"utc_offset\": 3600}\n"
       ]
      }
     ],
     "prompt_number": 111
    },
    {
     "cell_type": "code",
     "collapsed": false,
     "input": [
      "users = api.GetFriends()\n",
      "print [u.name for u in users]"
     ],
     "language": "python",
     "metadata": {},
     "outputs": [
      {
       "output_type": "stream",
       "stream": "stdout",
       "text": [
        "[u'MiningTheSocialWeb', u'CNET News', u'ReadWrite', u'The Next Web', u'CNET', u'The Verge', u'Engadget', u'Lifehacker', u'Gizmodo', u'WIRED', u'TechCrunch', u'Ian Ozsvald', u'CNPq', u'Claudio Gnoli', u'strongsteam', u'Diana Maynard', u'Joyce Figueir\\xf3', u'\\xc1lvaro Justen', u'PyPLN', u'LINUX For You', u'TechRepublic', u'ZDNet', u'Twitter API', u'Udacity', u'Clarissa', u'Roberto R.S.Sobrinho', u'Luana Sales', u'Sensacionalista', u'Google Wave Dev', u'Andr\\xe9 Branco', u'CMA', u'Asla S\\xe1', u'Renata Teixeira', u'FGV EMAp', u'FGV', u'FGV Marketing', u'CPDOC', u'Globant Brasil', u'Sheffield NLP', u'D\\xe9bora Pereira', u'Andr\\xe9 Andrade', u\"O'Reilly Radar\", u'Virgilio Almeida', u'Dalai Lama', u'Alexandre Colucci', u'Benildes Maculan', u'Gabriel Rezende', u'Mashable', u'alfredo hirsch', u'Fernando S Parreiras', u'NYTimes Bits', u'MiniCursos', u'Googleverse', u'Hootsuite', u'G1 - Concursos', u'Ivana', u'Dina Araujo', u'Jo\\xe3o Batista', u'W3C Brasil', u'ASIS&T', u'PPCGI UFPB', u'Ursula Blattmann', u'A Googler', u'Maria In\\xeas Toma\\xe9l', u'Nanci Oddone', u'Pierre Levy', u'PPGCI - Unesp', u'Silvana G. Vidotti', u'John C. Dvorak', u'Rob Enderle', u'Leon F. Seltzer', u'Word Spy', u'TIME.com', u'CNN Breaking News', u'GuardianData', u'Ci\\xeancia Hoje', u'Carlos A Figueiredo', u'New Scientist', u'Wagner Meira Jr', u'Nathan Yau', u'Marcelo Martins', u'Kalina Bontcheva', u'Ana Souza', u'Instituto Novo Ser', u\"Tim O'Reilly\", u'Guardian Tech', u'WebHolic!', u'Projeto TrackSource', u'DEF CON', u'Chronic Developments', u'Grupo ReCOL', u'Finep', u'Ricardo Caspirro', u't3', u'michelle Bouhid', u'Wefollow', u'Leonardo Souza', u'Luiz Maia', u'Aldo de A. Barreto', u'Adriana Bogliolo', u'TheFreeDictionary', u'Niraj Aswani', u'hamish cunningham', u'Stasa Vujicic ', u'Guilherme A. Dias', u'AGNALDO', u'Camila', u'Joana Ziller', u'Saldanha', u'Hagar Espanha Gomes', u'Mozart Lima', u'Elaine Mosconi', u'Renata Vieira', u'Howard Rheingold', u'Eduardo Chaves', u'Carlos Nepomuceno', u'GATE (gate.ac.uk)', u'Jaime Bastos', u'GO Outdoors Official', u'Joyce Prado', u'marcellobax', u'Rivad\\xe1via C.D.A.Neto', u'Helio', u'Maria Manuel Borges', u'Fl\\xe1vio Code\\xe7o Coelho', u'RicardoRBarbosa']\n"
       ]
      }
     ],
     "prompt_number": 112
    },
    {
     "cell_type": "code",
     "collapsed": true,
     "input": [
      "followers = api.GetFollowers()\n",
      "print [u.screen_name for u in followers]"
     ],
     "language": "python",
     "metadata": {},
     "outputs": [
      {
       "output_type": "stream",
       "stream": "stdout",
       "text": [
        "[u'llira5', u'SilviaPontes3', u'liara_santos', u'Mmdeoliver', u'Jessika18Leal', u'Airton_Costa', u'angelo_m_calvao', u'eddiesaliba', u'macfigueiredo', u'linhares', u'MarcelaRuas', u'thiagon52259992', u'heraldo_borges', u'luizclaudioprof', u'cristyan545', u'2014Jeh', u'lelebrito1', u'NAMD_EMAp', u'roseanevinte', u'murilogentil', u'gwtostes', u'clarifygp', u'joquizansouzafr', u'PfcoelhosPaulo', u'cmcf71', u'KatharineRosser', u'FelipeASantos', u'lindajheyne', u'goreth_maciel', u'alex_delgado_74', u'catiarbp1', u'rtgoncalves', u'MariaAlves015', u'pazryk', u'nataliago0610', u'andreleaomacedo', u'zehf', u'leila_seixas', u'brenovinicios7', u'DaniloNC', u'junior_grossi', u'tatianemiliana', u'durval_vieira', u'scritur', u'Rosangela772003', u'angelopolydoro', u'sharonhumphreis', u'rocha_racha', u'be_duarte', u'ferreira_dede', u'somioli2', u'gioestanislau', u'SSLoide', u'gladeirabh', u'betha_novais', u'tiagohide', u'bruno_sequeira', u'pablocerdeira', u'beta_depaula', u'BrunoRowing', u'nirajaswani', u'Flaviabalbino1', u'a_miziara', u'Gabilavk', u'AdrianeLegnani', u'biduzen', u'fellipeassuncao', u'Colaboraufmg', u'SilKayke', u'alvarobrezolin', u'andremlcurvello', u'SuzanaHuguenin', u'raflima64', u'hagolin', u'bibliotecaippur', u'fgvbmhs', u'eandrade', u'Alvescarlinha', u'bethapecanha', u'masantilone', u'brfsantos', u'israelst', u'The_best_ads', u'acbsc', u'Paul_Leite', u'PyPLN', u'clesjue', u'paulo_rres', u'damiano10', u'fc_renato', u'JuniorNovaes', u'ciclocorp', u'eventoSBCC', u'debasispadhee', u'nairabello', u'BrisaPozzi', u'luaugustta', u'LuisGusNeves', u'Monalisavenuto', u'ramonabanda', u'preinh', u'Cynthia_brownn', u'kauaguilar', u'iDodi_2011', u'IRENEGOMES2', u'GraceSave', u'fgv_emap', u'edwardkeys', u'wladbrandao', u'lubpiovezan', u'turicas', u'NTCIR', u'RavBhagdev', u'albertmgtm', u'RicardoCCO', u'pridamata', u'isabellabritobr', u'jackiepaw', u'blindguydosee', u'fatbrandao', u'PatriciaRAlves', u'karolsdutra', u'Manolitazinha', u'AVlachidis', u'Eduardo_Leandro', u'rfmatheus', u'crismonaco', u'Targettecno', u'ectolentino', u'Eliana_Valois', u'rogerio_ramalho', u'wellbiblio', u'claudioberrondo', u'SemanaCIUFMG', u'rugani1', u'celsocastro1963', u'Calbiblio', u'samiralap', u'paulodelatierra', u'OrestesTrevisol', u'Rodrigomarzano', u'marizasantos14', u'Clovelino', u'rildolucio', u'edesiojuniorok', u'_ninamariano', u'rockgerio', u'joyfigueiro', u'eciufmg_cenex', u'SMNBONECAS', u'dbaima', u'CDMconsultores', u'foreignbrasil', u'jacksonmedeiros', u'lliflor', u'cenexbuufmg', u'mhlima', u'Izabel_Franca', u'crisnv_CV', u'negabricia', u'askvisory', u'cursosrj', u'steniomorais', u'Goyata', u'nanadiamantino', u'gracioso', u'pereira_henri', u'norbal1113', u'empj2011', u'aveangelus', u'antoanne', u'waltercapanema', u'antonioapjr', u'sergiorosa', u'mauro_damo', u'fperini', u'inobvio', u'leticiarps', u'rafaelbco', u'luanafsales', u'mariafernandamc', u'itcsoftwarecom', u'hamendonca', u'Alinecarmo', u'eduardopubli', u'overead', u'afsb2013', u'_pauloandre', u'deiaerica', u'rodrigoci', u'Marli_SV', u'andreapinheiros', u'Amora', u'andre_info', u'cassiopinheiro1', u'marlonlamancio', u'andre_branco', u'rhsolive', u'AslaSa', u'japp2009', u'ReCTeixeira', u'LORENA_LTP', u'CinemanoRioSF', u'Alejandrocampos', u'KellyAVale', u'517v35tr3', u'Virginiacancado', u'rubialira', u'casadebambabh', u'Biblioericka', u'Irisvieira', u'LeoMartinsCampo', u'neelannair', u'SinayAraujo', u'Topdrinksbrasil', u'Frank_5816', u'tuitqblog', u'rubensmc', u'Asucupira', u'Helmaxx', u'MataDoPlanalto', u'sampaiorenan', u'Candi_B_good', u'danyduarte', u'wlsites', u'alandbh', u'ProfJT', u'alzirakarla', u'tamaracoutob', u'kkgnunes', u'Adriano_Dias', u'gleonhard', u'ronaldfar', u'gilmara_biblio', u'aalvescom', u'GiCristiane', u'SaraivaAngela', u'Jjosemrocha', u'fernandozaidan', u'anaufmg2010', u'cidasilvaufmg', u'adeliziarm', u'semideias', u'lourdesmartins', u'marlirg', u'rodrigo_delano', u'Cintiafalcao01', u'tatinhaorsini', u'mu5icnet', u'hugopintobr', u'dedias671', u'hirschalfredo', u'luhrocha', u'ananascimento', u'fparreiras', u'Bibsinapse', u'atila_precione', u'edbertof', u'Apostilagra_tis', u'citizentalks', u'concursos_bra', u'katiaccoelho', u'Rock_RJ', u'caroltecila', u'xandabiblio', u'AndradeAQ', u'amanda_snavarro', u'deboracarpe', u'chrispess', u'ISAMARZANO', u'jujuglamoour', u'DesireePompeu', u'marcosmribeiro', u'siimoneUFMG', u'Soraialara', u'lucianaemirena', u'furpere', u'pedrocorone', u'gladsonoliveira', u'lnpq', u'joicert', u'BelleSaez', u'emarchettisilva', u'selminhabiblio', u'verorockband', u'omelhordamusica', u'blivana', u'dynamarks', u'davidvernonbr', u'EDUARDOAANDRADE', u'rosilenecoelho', u'joaoernesto', u'Wpmagic', u'HCLISD', u'dalbacosta', u'LadyaneRO', u'rosecapelari', u'julianasnunes', u'leticiacapelao', u'neticmonitor', u'sandeep_vedula', u'kbontcheva', u'silvanavidotti', u'neoddone', u'knowledgedrops', u'AlvaGrout', u'KindleDXDX', u'TheKindleDX', u'KindleDXReader', u'lnadorno', u'mrboxer', u'hmossri', u'ptg21', u'Aarm4', u'alineferrari', u'acessolivrebr', u'carlosmrocha', u'drica3d', u'MafiaWarsBrasil', u'C_A_Figueiredo', u'Gartner_inc', u'luiz_faquir', u'GizzaBa', u'ejeffects', u'HMainenti', u'erickbrazil', u'agitadiv', u'lulacerdas', u'fefemendonca', u'Vicchi01', u'veralorenzo', u'mortefeia', u'Deiafixa', u'TatianeAntonia', u'Fernandapereir', u'Belinhaperes', u'agewithattitude', u'personal_travel', u'duduobom', u'collectiveiq', u'aprilsystems', u'juliaapagon', u'honeyaround', u'liviamarangon', u'anareynosoREO', u'efacilencontra', u'eugeniabeijo', u'1955S_4356W', u'carollina25', u'Kdulloyd', u'raisa_mendes', u'JunioMLourenco', u'annmarab', u'nanda_galmeida', u'sharronsulzbac', u'anonimoignorant', u'Roberto_EaD', u'Daniesil', u'ufmg_recol', u'tacivana', u'DaniVazz', u'powertwitter', u'callieclayton66', u'brubrant', u'LeidiLeidi', u'leoabud', u'LuizMaia', u'ccodeco', u'rafaelsn2004', u'meninavirgem', u'sisojoy', u'tmbittencourt', u'Belkiss', u'heberlee', u'gercinalima', u'Liberopinion', u'AleCrissa', u'Jakis', u'augustobernardi', u'oliveira_bu', u'raquelpassos', u'Aline_Yasmin', u'andersonbiblio', u'ricardocaspirro', u'RenetaPopova', u'edivanioduarte', u'gmrezende', u'pablojorge', u'ladybronte', u'Benildes', u'zatlima', u'twit_tadas', u'romuloci', u'guerrafotos', u'aivlisf', u'AprendaAquiBR', u'Jeffeoliveira', u'andreabh', u'minessep', u'adrianabsd', u'SinergiaEventos', u'wackystuffinfo', u'FlavianeGravina', u'crisdias', u'alineal3', u'joanaziller', u'hcunningham', u'ca_mantovani', u'stasavujicic', u'vieirarenata', u'rgivisiez', u'librunet', u'leomoraes', u'NenaGonzalez', u'alexspeziali', u'nelsonandrep', u'BitencourtFaria', u'hugoopes', u'Lauralice', u'diellemonique', u'woytchek', u'brenosampaiobh', u'atbmari', u'carolvalis', u'rgsouza', u'Ingsds', u'GeorgiaGCD', u'guilhermeataide', u'ReAmaral75', u'cvieirao', u'joaninhabc', u'patriciapenido', u'cacarangel', u'nicolepatricia', u'franktaan', u'alessandra_ela', u'AnaMarciaPaiva', u'thekellen', u'grazimendes', u'Pedro_disse', u'danit_andreuni', u'marcellobax', u'POSICAOGLOBAL', u'joyceprado', u'Clemens1', u'admgilson', u'andreboka', u'rlmassen', u'igorquintal', u'ritalopess', u'patguimaraes', u'paulajordao', u'rivaneto', u'dictionarycom', u'hesteban', u'rogerotoni', u'Marcelteo', u'carolgetrank', u'fredeci', u'fatimadeluzie', u'Kuramotobr', u'jaimebastos', u'mmborges', u'Paty_Campos', u'alecolucci', u'marcelonani', u'aderman_jr', u'notasdopinheiro', u'fccoelho', u'RicardoRBarbosa']\n"
       ]
      }
     ],
     "prompt_number": 113
    },
    {
     "cell_type": "code",
     "collapsed": false,
     "input": [
      "mentions = api.GetMentions()\n",
      "print [m.GetText() for m in mentions]"
     ],
     "language": "python",
     "metadata": {},
     "outputs": [
      {
       "output_type": "stream",
       "stream": "stdout",
       "text": [
        "[u'Hey twitter... estou de volta para dizer que QUERIA MUITO QUE MEU MESTRADO CRESCESSE E SE DEFENDESSE SOZINHO!! #DESESPERO @rrsouza', u'Di\\xe1rio Thiago Bittencourt is out! http://t.co/Bc2Tjro2WY Stories via @rrsouza @Portal_HD', u'@rrsouza curti o comentario da \"Ana Beatriz\" por favor?? obg https://t.co/srwEosut7Z desculpas se eu j\\xe1 pedi, \\xe9 que eu estou perdendo :\\'(', u'Poster approved on @EuroSciPy 2013! \\\\o/ https://t.co/wPfbZi71fe Brussels, here we go! #Python #dev //cc @flavioamieiro @fccoelho @rrsouza', u'Many thanks @rrsouza and all #ISKOBrazil people for assistance with the video keynote! It was a fun experience...', u'@pablocerdeira @rrsouza Compet\\xeancia anal\\xedtica n\\xe3o \\xe9 \"feature\" de Bancos de dados, mas de pessoas!', u'@rrsouza Python gets big data boost darpa http://t.co/5cruMEdd', u'RT @rrsouza: Resultados da sele\\xe7\\xe3o do Mestrado em Modelagem Matem\\xe1tica da Informa\\xe7\\xe3o - turma 2013 saem nesta sexta, 08/02. #FGV #EMAp', u'\"Turicas \\xe9 uma esp\\xe9cie de golfinho?\" -- @rrsouza depois de ver meu \\xfaltimo slide na palestra #Python #Unicode http://t.co/PCCHHbpf', u'@israelst @rrsouza veja esse blog. Voc\\xea aprender\\xe1 legal sobre profiss\\xf5es boas. Acesse http://t.co/YEuj82fZ. Depois comenta!', u'\"h\\xe1 dois tipos de pessoas no mundo, as que n\\xe3o sabem trabalhar com informa\\xe7\\xf5es incompletas\" @rrsouza', u'Brazilian pythonistas going to #EuroSciPy - by bike! #Brussels #Python //cc @fccoelho @rrsouza http://t.co/1OPLhpJP', u'One more conference, one more trip; this time to another continent: #EuroSciPy here I come! With @fccoelho and @rrsouza http://t.co/OpFQfhID', u'@rrsouza e @fccoelho: http://t.co/OKmxhSIX', u'\\u201c@digitalcuration: ws at the BL may be of interest: Working DataCite: a technical introduction http://t.co/PEhFtYxe\\u201d to @rrsouza e @fccoelho', u'@rrsouza o pessoal do blog pediu p eu fazer de novo haha ficou tao ruim, mas eles acharam o maximo. Sera q agora consigo fazer algo legal?Rs', u'@rrsouza lembra dotrab horrivel p final da sua materia ano passado?fizcontagem de palavras +usadas do curtacronicas e tal? (continua)', u'@rrsouza ih verdade! Mas olha http://t.co/FeX5KW0i', u'@rrsouza eh Alice no pa\\xeds do Espelho mesmo :) boa viagem, renato!!! :)']\n"
       ]
      }
     ],
     "prompt_number": 114
    },
    {
     "cell_type": "code",
     "collapsed": false,
     "input": [
      "statuses = api.GetUserTimeline(screen_name='TIME')\n",
      "print [s.text for s in statuses]"
     ],
     "language": "python",
     "metadata": {},
     "outputs": [
      {
       "output_type": "stream",
       "stream": "stdout",
       "text": [
        "[u'Amal Alamuddin is now Amal Clooney http://t.co/CSF8RBWAnc', u'This activity monitor offers a new spin on exercise tracking http://t.co/f9V9PfH5FC', u'People can now pay each other via Twitter in France http://t.co/YZu9QpDrCm', u'Why is extreme the new mainstream when it comes to TV? http://t.co/MchhgZVgHO', u'Warren Buffett tells you how to handle a market crash http://t.co/wFLyINCpR2', u'RT @poniewozik: New: Extreme is the new mainstream; or, why is THE WALKING DEAD so horrific and so popular? http://t.co/JVp7XOG0Fo', u'Pizza Hut Singapore issued a public apology for referring to a customer as \"Pink Fat Lady\" on her receipt http://t.co/WVBTTLemyt', u'Actress @idinamenzel talks her new album and all of those \"Let It Go\" covers http://t.co/NT05VzbfWy', u\"The Ebola outbreak's death rate has risen to 70% http://t.co/SFhp08JkuR\", u\"The latest McDonald's campaign is addressing fast food skeptics' grossest questions http://t.co/vr1Hspty9F\", u'What the Vatican really said about homosexuality http://t.co/esOrSHXNlZ', u\"Google's former CEO said that the tech giant's biggest rival is Amazon http://t.co/ki9UOMQ78u\", u'RT @MattMcAllester: Heathrow airport started screening passengers for Ebola http://t.co/dJpXJJS8Qs via @TIMEHealth', u\"For New Hampshire's all-female delegation, sexism is far from dead http://t.co/UFoRLBvcFL\", u\"RT @elizabethjdias: Looking for revolution can be misleading: The real story of what's going on at the Vatican http://t.co/Eieo62XJBR\", u'Ann Romney launches center for neurological diseases http://t.co/itNnQ68PvS', u\"RT @NolanFeeney: I had a fun chat w/ Idina Menzel, who doesn't understand why her Christmas album (out today) was released in October http:\\u2026\", u'Paul Ryan is still confused about climate change http://t.co/zvvqzuKhQb', u'Survey: Parents deeply concerned about injuries in youth sports http://t.co/qrttuazHdR', u'180,000 people flee western Iraq as ISIS inches closer to Baghdad http://t.co/biIyDSYv2F']\n"
       ]
      }
     ],
     "prompt_number": 115
    },
    {
     "cell_type": "code",
     "collapsed": false,
     "input": [],
     "language": "python",
     "metadata": {},
     "outputs": []
    }
   ],
   "metadata": {}
  }
 ]
}