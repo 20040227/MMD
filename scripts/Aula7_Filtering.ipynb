{
 "metadata": {
  "name": "Aula7_Filtering"
 },
 "nbformat": 3,
 "nbformat_minor": 0,
 "worksheets": [
  {
   "cells": [
    {
     "cell_type": "markdown",
     "metadata": {},
     "source": [
      "Mestrado em Modelagem Matematica da Informacao\n",
      "Master Program - Mathematical Modeling of Information\n",
      "\n",
      "Disciplina: Modelagem e Mineracao de Dados\n",
      "Course: Data Mining and Modeling\n",
      "\n",
      "Professor: Renato Rocha Souza\n",
      "Topic: Filtering feeds and Documents (class #7)\n",
      "\n",
      "Information on the Python Packages used:\n",
      "\n",
      "http://docs.python.org/library/sqlite3.html\n",
      "\n",
      "http://docs.python.org/library/re.html\n",
      "\n",
      "http://www.feedparser.org/\n",
      "\n",
      "http://docs.python.org/2/library/tkinter.html\n",
      "\n",
      "http://www.tkdocs.com/tutorial/index.html"
     ]
    },
    {
     "cell_type": "code",
     "collapsed": false,
     "input": [
      "import re\n",
      "import math\n",
      "import feedparser\n",
      "from sqlite3 import dbapi2 as sqlite\n",
      "import Tkinter as tki\n",
      "import tkSimpleDialog"
     ],
     "language": "python",
     "metadata": {},
     "outputs": [],
     "prompt_number": 300
    },
    {
     "cell_type": "markdown",
     "metadata": {},
     "source": [
      "Specifying the path to the files:"
     ]
    },
    {
     "cell_type": "code",
     "collapsed": false,
     "input": [
      "datapath = \"/home/rsouza/Dropbox/Renato/ModMinDados/Git/\"\n",
      "outputs = \"/home/rsouza/Dropbox/Renato/ModMinDados/outputs/\"\n",
      "\n",
      "dbfile1 = \"treino.sqlite\"\n",
      "dbfile2 = \"treinoblogs.sqlite\"\n",
      "outblog = \"blogoutputrss.xml\"\n",
      "\n",
      "db_teste = (outputs+dbfile1)\n",
      "db_blog = (outputs+dbfile2)\n",
      "rssblogoutput = (outputs+outblog)"
     ],
     "language": "python",
     "metadata": {},
     "outputs": [],
     "prompt_number": 301
    },
    {
     "cell_type": "markdown",
     "metadata": {},
     "source": [
      "First block of functions: feature extraction:"
     ]
    },
    {
     "cell_type": "code",
     "collapsed": false,
     "input": [
      "def getwords(doc):\n",
      "    '''Remove the HTML tags and cleans the feeds files;splits the sentences \n",
      "    by the non alpha characters and converts all words to lowercase.\n",
      "    Ignores bigger and too small words'''\n",
      "    splitter = re.compile('\\\\W*', flags=re.U)\n",
      "    #splitter=re.compile(r'[^A-Z^a-z]+', flags=re.U)\n",
      "    words=[s.lower() for s in splitter.split(doc) if len(s)>2 and len(s)<20]\n",
      "    return dict([(w,1) for w in words])"
     ],
     "language": "python",
     "metadata": {},
     "outputs": [],
     "prompt_number": 302
    },
    {
     "cell_type": "code",
     "collapsed": false,
     "input": [
      "def entryfeatures(entry):\n",
      "    '''Used when our features are not documents, but feeds rss'''\n",
      "    splitter=re.compile('\\\\W*')\n",
      "    f={}\n",
      "    # Extract title words\n",
      "    titlewords=[s.lower() for s in splitter.split(entry['title']) \n",
      "                if len(s)>2 and len(s)<20]\n",
      "    for w in titlewords: f['Title:'+w]=1\n",
      "    # Extract summary words\n",
      "    summarywords=[s.lower() for s in splitter.split(entry['summary']) \n",
      "                if len(s)>2 and len(s)<20]\n",
      "    # Count lowercase words\n",
      "    uc=0\n",
      "    for i in range(len(summarywords)):\n",
      "        w=summarywords[i]\n",
      "        f[w]=1\n",
      "        if w.isupper(): uc+=1\n",
      "        # Features are words in the feed summary\n",
      "        if i<len(summarywords)-1:\n",
      "            twowords=' '.join(summarywords[i:i+1])\n",
      "            f[twowords]=1\n",
      "    # Save publisher information\n",
      "    f['Publisher:'+entry['publisher']]=1\n",
      "    # Too many uppercase words are indicated\n",
      "    if float(uc)/len(summarywords)>0.3: f['MAIUSCULAS']=1\n",
      "    return f"
     ],
     "language": "python",
     "metadata": {},
     "outputs": [],
     "prompt_number": 303
    },
    {
     "cell_type": "markdown",
     "metadata": {},
     "source": [
      "Second block of functions: classification"
     ]
    },
    {
     "cell_type": "code",
     "collapsed": false,
     "input": [
      "class classifier:\n",
      "    ''' Represents the classifier, storing what's learnt from training.\n",
      "    fc saves the combination words/categories {'word': {'bad': 3, 'good': 2}}\n",
      "    and cc is a dictionary that stores the number of times a category was used\n",
      "    {'bad': 3, 'good': 2}. Will be used when no DB is used.\n",
      "    Getfeatures is the feature extraction function to be used'''\n",
      "    def __init__(self, getfeatures, filename=None, usedb=False):\n",
      "        self.fc={}\n",
      "        self.cc={}\n",
      "        self.getfeatures = getfeatures\n",
      "        self.usedb = usedb\n",
      "    \n",
      "    def setdb(self,dbfile):\n",
      "        '''When using a database and not dictionaries, to persist the information\n",
      "        across sessions'''\n",
      "        self.con = sqlite.connect(dbfile)    \n",
      "        self.con.execute(u'create table if not exists fc(feature,category,count)')\n",
      "        self.con.execute(u'create table if not exists cc(category,count)')\n",
      "\n",
      "    def fcount(self,f,cat):\n",
      "        '''Returns the number of times a feature appears in a category'''\n",
      "        if not self.usedb:\n",
      "            if f in self.fc and cat in self.fc[f]: \n",
      "                return float(self.fc[f][cat])\n",
      "            else: \n",
      "                return 0\n",
      "        else:\n",
      "            query = u'select count from fc where feature=\"{}\" and category=\"{}\"'\n",
      "            res = self.con.execute(query.format(f,cat)).fetchone()\n",
      "            if res == None: \n",
      "                return 0\n",
      "            else: \n",
      "                return float(res[0])\n",
      "\n",
      "    def incf(self,f,cat):\n",
      "        '''Creates a feature/category pair if not exists, or increase the number\n",
      "        if feature exists in a category'''\n",
      "        if not self.usedb:\n",
      "            self.fc.setdefault(f,{})\n",
      "            self.fc[f].setdefault(cat,0)\n",
      "            self.fc[f][cat] += 1\n",
      "        else:\n",
      "            count=self.fcount(f,cat)\n",
      "            if count == 0:\n",
      "                self.con.execute(u'insert into fc values (\"{}\",\"{}\",1)'.format(f,cat))\n",
      "            else:\n",
      "                query = u'update fc set count={} where feature=\"{}\" and category=\"{}\"'\n",
      "                self.con.execute(query.format(count+1,f,cat)) \n",
      "\n",
      "    def incc(self,cat):\n",
      "        '''Increases the number of occurrences of a category'''\n",
      "        if not self.usedb:\n",
      "            self.cc.setdefault(cat,0)\n",
      "            self.cc[cat] += 1        \n",
      "        else:\n",
      "            count=self.catcount(cat)\n",
      "            if count == 0:\n",
      "                self.con.execute(u'insert into cc values (\"{}\",1)'.format(cat))\n",
      "            else:\n",
      "                query = u'update cc set count={} where category=\"{}\"'\n",
      "                self.con.execute(query.format(count+1,cat))    \n",
      "\n",
      "    def catcount(self,cat):\n",
      "        '''Counts the numer of itens in a category'''\n",
      "        if not self.usedb:\n",
      "            if cat in self.cc:\n",
      "                return float(self.cc[cat])\n",
      "            else:\n",
      "                return 0\n",
      "        else:\n",
      "            query = u'select count from cc where category=\"{}\"'\n",
      "            res=self.con.execute(query.format(cat)).fetchone()\n",
      "            if res == None:\n",
      "                return 0\n",
      "            else:\n",
      "                return float(res[0])\n",
      "\n",
      "    def categories(self):\n",
      "        '''Lists all the categories'''        \n",
      "        if not self.usedb: return self.cc.keys()\n",
      "        else:\n",
      "            cur=self.con.execute(u'select category from cc');\n",
      "            return [d[0] for d in cur]\n",
      "\n",
      "    def totalcount(self):\n",
      "        ''' Returns the total numer of itens'''\n",
      "        if not self.usedb: return sum(self.cc.values())\n",
      "        else:\n",
      "            res=self.con.execute(u'select sum(count) from cc').fetchone();\n",
      "            if res==None: return 0\n",
      "            else: return res[0]\n",
      "\n",
      "    def train(self,item,cat):\n",
      "        '''Receives an item (a bag of features) and a category, and increases\n",
      "        the relative number of this category for all the features'''\n",
      "        features=self.getfeatures(item)\n",
      "        for f in features:\n",
      "            self.incf(f,cat)\n",
      "        self.incc(cat)\n",
      "        if self.usedb: self.con.commit()\n",
      "\n",
      "    def fprob(self,f,cat):\n",
      "        '''Calculates the probability of a feature to be within a category'''\n",
      "        if self.catcount(cat)==0: return 0\n",
      "        return self.fcount(f,cat)/self.catcount(cat)\n",
      "\n",
      "    def weightedprob(self,f,cat,prf,weight=1.0,ap=0.5):\n",
      "        '''Calculates the probability of a feature to appear in a certain category\n",
      "        as fprob does, but assuming an initial value and changing according to \n",
      "        the training. That minimizes the effect of a rare word to be classified\n",
      "        erroneously'''\n",
      "        basicprob=prf(f,cat)\n",
      "        totals=sum([self.fcount(f,c) for c in self.categories()])\n",
      "        bp=((weight*ap)+(totals*basicprob))/(weight+totals)\n",
      "        return bp"
     ],
     "language": "python",
     "metadata": {},
     "outputs": [],
     "prompt_number": 304
    },
    {
     "cell_type": "code",
     "collapsed": false,
     "input": [
      "class naivebayes(classifier):\n",
      "    '''Extends classifier class overriding __init__ and adding specific functions\n",
      "    to classify documents using naive bayes'''\n",
      "    \n",
      "    def __init__(self, getfeatures, usedb=False):\n",
      "        classifier.__init__(self,getfeatures)\n",
      "        self.thresholds = {}\n",
      "        self.usedb = usedb\n",
      "        \n",
      "    def docprob(self,item,cat):\n",
      "        '''Calculates the probability of a document to be within a given\n",
      "        category multiplying all the features probabilities to be in this category'''\n",
      "        features=self.getfeatures(item)\n",
      "        p=1\n",
      "        for f in features: p*=self.weightedprob(f,cat,self.fprob)\n",
      "        return p\n",
      "\n",
      "    def prob(self,item,cat):\n",
      "        catprob=self.catcount(cat)/self.totalcount()\n",
      "        docprob=self.docprob(item,cat)\n",
      "        return docprob*catprob\n",
      "\n",
      "    def setthreshold(self,cat,t):\n",
      "        self.thresholds[cat]=t\n",
      "\n",
      "    def getthreshold(self,cat):\n",
      "        if cat not in self.thresholds: return 1.0\n",
      "        return self.thresholds[cat]\n",
      "\n",
      "    def classify(self, item, default=None):\n",
      "        '''Finds the most probably category to be set, and apply this\n",
      "        classification, given that it satisfies a minimum threshold, compared\n",
      "        to the second best category to classify; otherwise sets to \"None\"'''        \n",
      "        probs = {}\n",
      "        maximum = 0.0\n",
      "        #best = None\n",
      "        for cat in self.categories():\n",
      "            probs[cat] = self.prob(item, cat)\n",
      "            if probs[cat] > maximum: \n",
      "                maximum = probs[cat]\n",
      "                best = cat\n",
      "        for cat in probs:\n",
      "            if cat == best:\n",
      "                continue\n",
      "            if probs[cat]*self.getthreshold(best) > probs[best]: \n",
      "                return default\n",
      "        return best"
     ],
     "language": "python",
     "metadata": {},
     "outputs": [],
     "prompt_number": 305
    },
    {
     "cell_type": "code",
     "collapsed": false,
     "input": [
      "class fisherclassifier(classifier):\n",
      "    '''Extends classifier class overriding __init__ and adding specific functions\n",
      "    to classify documents using fisher method'''\n",
      "\n",
      "    def __init__(self,getfeatures, usedb=False):\n",
      "        classifier.__init__(self, getfeatures)\n",
      "        self.minimums = {}\n",
      "        self.usedb = usedb\n",
      "        \n",
      "    def cprob(self,f,cat):\n",
      "        '''Returns the frequency of the feature in a category divided\n",
      "        by the frequency in all categories'''\n",
      "        clf=self.fprob(f,cat)\n",
      "        if clf==0: return 0\n",
      "        freqsum=sum([self.fprob(f,c) for c in self.categories()])\n",
      "        p=clf/(freqsum)\n",
      "        return p\n",
      "\n",
      "    def invchi2(self,chi, df):\n",
      "        m = chi / 2.0\n",
      "        sum = term = math.exp(-m)\n",
      "        for i in range(1, df//2):\n",
      "            term *= m / i\n",
      "            sum += term\n",
      "        return min(sum, 1.0)\n",
      "\n",
      "    def prob(self,item,cat):\n",
      "        '''Multipy all the categories, applies the natural log\n",
      "        and uses the inverse chi2 to calculate probabilty'''\n",
      "        p = 1\n",
      "        features = self.getfeatures(item)\n",
      "        for f in features:\n",
      "            p *= (self.weightedprob(f,cat,self.cprob))\n",
      "        fscore =- 2*math.log(p)\n",
      "        return self.invchi2(fscore,len(features)*2)\n",
      "\n",
      "    def setminimum(self,cat, minimum):\n",
      "        self.minimums[cat] = minimum\n",
      "\n",
      "    def getminimum(self,cat):\n",
      "        if cat not in self.minimums: return 0\n",
      "        return self.minimums[cat]\n",
      "\n",
      "    def classify(self, item, default=None):\n",
      "        '''Applies fisher to all categories to find the best result, given \n",
      "        that it satisfies a minimum threshold, otherwise sets to \"None\"'''\n",
      "        best = default\n",
      "        maximum = 0.0\n",
      "        for c in self.categories():\n",
      "            p = self.prob(item,c)\n",
      "            if p>self.getminimum(c) and p > maximum:\n",
      "                best = c\n",
      "                maximum = p\n",
      "        return best"
     ],
     "language": "python",
     "metadata": {},
     "outputs": [],
     "prompt_number": 306
    },
    {
     "cell_type": "markdown",
     "metadata": {},
     "source": [
      "Third block of functions: reading files or searching for feeds"
     ]
    },
    {
     "cell_type": "code",
     "collapsed": false,
     "input": [
      "def blogread(file_or_subject, classifier, search=True):\n",
      "    '''Receives an url to search Google for blogs in a given subject, or a \n",
      "    rss xml file with saved feeds. Tries to classify the entries'''\n",
      "    if search:\n",
      "        generic = 'http://www.google.com/search?q={}&hl=pt-BR&tbm=blg&output=rss'\n",
      "        url = generic.format(file_or_subject)\n",
      "        f = feedparser.parse(url)\n",
      "    else:\n",
      "        f = feedparser.parse(file_or_subject)\n",
      "    for entry in f['entries']:\n",
      "        \n",
      "        # raw input does not work in Ipython Notebook - using Tkinter\n",
      "        root = tki.Tk()\n",
      "        WINDOW_WIDTH = 1200\n",
      "        WINDOW_HEIGHT = 150\n",
      "        HEIGHT_OFFSET = 250\n",
      "        pos_x = root.winfo_screenwidth() - WINDOW_WIDTH - 100\n",
      "        geometry = '{width}x{height}+{pos_x}+{pos_y}'.format(height=WINDOW_HEIGHT, width=WINDOW_WIDTH, pos_y=HEIGHT_OFFSET, pos_x=pos_x)\n",
      "        root.wm_geometry(geometry)\n",
      "        \n",
      "        fulltext=u'{}\\n{}\\n{}'.format(entry['title'],entry['publisher'],entry['summary'])        \n",
      "        print('\\n-----')\n",
      "        print('Title:     '+entry['title'].encode('utf-8'))\n",
      "        print('Publisher: '+entry['publisher'].encode('utf-8'))\n",
      "        print()        \n",
      "        print(entry['summary'].encode('utf-8'))\n",
      "        guess = classifier.classify(entry)\n",
      "        print('Suggested: {}'.format(guess))\n",
      "        \n",
      "        # raw input does not work in Ipython Notebook\n",
      "        #cl = raw_input('Enter category or press <enter> to accept suggestion: ').lower()\n",
      "        txt = 'Title:     '+entry['title'].encode('utf-8')\n",
      "        txt = txt+'\\n'+'Publisher: '+entry['publisher'].encode('utf-8')\n",
      "        txt = txt+'\\n'+entry['summary'].encode('utf-8')\n",
      "        txt = txt+'\\n'+'Suggested: {}'.format(guess)\n",
      "        tki.Button(root, text=txt).grid()\n",
      "        cl = tkSimpleDialog.askstring('Choose Category','Enter category or press <OK> to accept suggestion: ').lower()\n",
      "        root.withdraw()\n",
      "        \n",
      "        if cl == ''.strip() and guess:\n",
      "            cl = guess\n",
      "        print('Category \"{}\" chosen'.format(cl))\n",
      "        classifier.train(entry,cl)"
     ],
     "language": "python",
     "metadata": {},
     "outputs": [],
     "prompt_number": 307
    },
    {
     "cell_type": "markdown",
     "metadata": {},
     "source": [
      "Fourth block of functions: instantiating and training classifiers"
     ]
    },
    {
     "cell_type": "code",
     "collapsed": false,
     "input": [
      "def sampletrain(cl):\n",
      "    print('Running sampletrain to train the classifier...')\n",
      "    cl.train('Nobody owns the water.','good')\n",
      "    cl.train('the quick rabbit jumps fences','good')\n",
      "    cl.train('buy pharmaceuticals now','bad')\n",
      "    cl.train('make quick money at the online casino','bad')\n",
      "    cl.train('the quick brown fox jumps','good')"
     ],
     "language": "python",
     "metadata": {},
     "outputs": [],
     "prompt_number": 308
    },
    {
     "cell_type": "code",
     "collapsed": false,
     "input": [
      "def probabilidades_palavras():\n",
      "    cl = classifier(getwords)\n",
      "    print('\\n')    \n",
      "    sampletrain(cl)\n",
      "    \n",
      "    print('How many times \"quick\" --> \"good\": {}'.format(cl.fcount('quick','good')))\n",
      "    print('How many times \"quick\" --> \"bad\": {}'.format(cl.fcount('quick','bad')))\n",
      "    print('\\nProbability of \"quick\" given that \"good\": {}'.format(cl.fprob('quick','good')))\n",
      "    print('Probability of \"money\" given that \"good\" (fprob): {}'.format(cl.fprob('money','good')))\n",
      "    print('Weighted probability of \"money\" given that \"good\" (weightedprob): {}'.format(cl.weightedprob('money','good',cl.fprob)))\n",
      "\n",
      "    print('\\nTraining again with the same documents...\\n')\n",
      "    sampletrain(cl)\n",
      "\n",
      "    print('\\nProbability of \"money\" given that \"good\" (fprob): {}'.format(cl.fprob('money','good')))\n",
      "    print('Weighted probability of \"money\" given that \"good\" (weightedprob): {}\\n'.format(cl.weightedprob('money','good',cl.fprob)))"
     ],
     "language": "python",
     "metadata": {},
     "outputs": [],
     "prompt_number": 309
    },
    {
     "cell_type": "code",
     "collapsed": false,
     "input": [
      "def probabilidades_documentos_bayes():\n",
      "    cl = naivebayes(getwords)\n",
      "    print('\\n')    \n",
      "    sampletrain(cl)\n",
      "    \n",
      "    print('Classifying \"quick rabbit\": {}'.format(cl.classify('quick rabbit', default='unknown')))\n",
      "    print('Classifying \"quick money\": {}'.format(cl.classify('quick money', default='unknown')))\n",
      "    \n",
      "    print('\\nSetting the threshold up...')\n",
      "    cl.setthreshold('bad',3.0)\n",
      "\n",
      "    print('Classifying \"quick money\": {}'.format(cl.classify('quick money', default='unknown')))\n",
      "    \n",
      "    print('\\nTraining again with the same documents (10x)...')\n",
      "    for i in range(10): sampletrain(cl)\n",
      "    \n",
      "    print('\\nClassifying \"quick money\": {}'.format(cl.classify('quick money', default='unknown')))"
     ],
     "language": "python",
     "metadata": {},
     "outputs": [],
     "prompt_number": 310
    },
    {
     "cell_type": "code",
     "collapsed": false,
     "input": [
      "def probabilidades_palavras_fisher():\n",
      "    cl = fisherclassifier(getwords)\n",
      "    print('\\n')    \n",
      "    sampletrain(cl)\n",
      "    print('\\n')      \n",
      "    print('Probability of \"quick\" given that \"good\": {}'.format(cl.cprob('quick', 'good')))\n",
      "    print('Probability of \"money\" given that \"bad\": {}'.format(cl.cprob('money', 'bad')))\n",
      "    print('Weighted probability of  \"money\" given that \"bad\": {}'.format(cl.weightedprob('money','bad',cl.cprob)))"
     ],
     "language": "python",
     "metadata": {},
     "outputs": [],
     "prompt_number": 311
    },
    {
     "cell_type": "code",
     "collapsed": false,
     "input": [
      "def probabilidades_documentos_fisher():\n",
      "    cl = fisherclassifier(getwords)\n",
      "    print('\\n')    \n",
      "    sampletrain(cl)\n",
      "\n",
      "    print('Classifying \"quick rabbit\": {}'.format(cl.classify('quick rabbit')))\n",
      "    print('Classifying \"quick money\": {}'.format(cl.classify('quick money')))\n",
      "   \n",
      "    print('\\nSetting the threshold up...')\n",
      "    cl.setminimum('bad',0.8)\n",
      "    print('Classifying \"quick money\": {}'.format(cl.classify('quick money')))\n",
      "\n",
      "    print('\\nSetting the threshold down...')\n",
      "    cl.setminimum('bad',0.4)\n",
      "    print('Classifying \"quick money\": {}'.format(cl.classify('quick money')))"
     ],
     "language": "python",
     "metadata": {},
     "outputs": [],
     "prompt_number": 312
    },
    {
     "cell_type": "code",
     "collapsed": false,
     "input": [
      "def using_db_example():\n",
      "    '''Training with a classifier, persisting in a database\n",
      "    using the training data to classify using another classifier'''\n",
      "    print('\\nInstantiating a fisher classifier...')\n",
      "    cl = fisherclassifier(getwords, usedb=True)\n",
      "    cl.setdb(db_teste)\n",
      "    sampletrain(cl)\n",
      "    print('\\nInstantiating a naive bayes classifier...')    \n",
      "    cl2 = naivebayes(getwords, usedb=True)\n",
      "    cl2.setdb(db_teste)\n",
      "    print('Classifying \"quick money\": {}'.format(cl2.classify('quick money')))"
     ],
     "language": "python",
     "metadata": {},
     "outputs": [],
     "prompt_number": 313
    },
    {
     "cell_type": "code",
     "collapsed": false,
     "input": [
      "def classifying_blogs(subject='python'):\n",
      "    '''Instantiating a new classifier using \"entryfeatures\" (for feeds)\n",
      "    Creating the database for the persistance of training data\n",
      "    Using blogread with searching feeds option - no file reading'''\n",
      "    cl = fisherclassifier(entryfeatures, usedb=True)\n",
      "    cl.setdb(db_blog)\n",
      "    if not subject:\n",
      "        # raw input does not work in Ipython Notebook\n",
      "        #subject = raw_input('\\n\\nPlease enter a subject to search for feeds: ').lower()\n",
      "        root = tki.Tk()\n",
      "        root.withdraw()\n",
      "        subject = tkSimpleDialog.askstring('\\n\\nPlease enter a subject to search for feeds: ').lower()\n",
      "    blogread(subject, cl)    \n",
      "    print('\\nList of categories stored in the database:')\n",
      "    for category in cl.categories(): \n",
      "        print(category)\n",
      "    return cl"
     ],
     "language": "python",
     "metadata": {},
     "outputs": [],
     "prompt_number": 314
    },
    {
     "cell_type": "code",
     "collapsed": false,
     "input": [
      "probabilidades_palavras()"
     ],
     "language": "python",
     "metadata": {},
     "outputs": [
      {
       "output_type": "stream",
       "stream": "stdout",
       "text": [
        "\n",
        "\n",
        "Running sampletrain to train the classifier...\n",
        "How many times \"quick\" --> \"good\": 2.0\n",
        "How many times \"quick\" --> \"bad\": 1.0\n",
        "\n",
        "Probability of \"quick\" given that \"good\": 0.666666666667\n",
        "Probability of \"money\" given that \"good\" (fprob): 0.0\n",
        "Weighted probability of \"money\" given that \"good\" (weightedprob): 0.25\n",
        "\n",
        "Training again with the same documents...\n",
        "\n",
        "Running sampletrain to train the classifier...\n",
        "\n",
        "Probability of \"money\" given that \"good\" (fprob): 0.0\n",
        "Weighted probability of \"money\" given that \"good\" (weightedprob): 0.166666666667\n",
        "\n"
       ]
      }
     ],
     "prompt_number": 315
    },
    {
     "cell_type": "code",
     "collapsed": false,
     "input": [
      "probabilidades_documentos_bayes()"
     ],
     "language": "python",
     "metadata": {},
     "outputs": [
      {
       "output_type": "stream",
       "stream": "stdout",
       "text": [
        "\n",
        "\n",
        "Running sampletrain to train the classifier...\n",
        "Classifying \"quick rabbit\": good\n",
        "Classifying \"quick money\": bad\n",
        "\n",
        "Setting the threshold up...\n",
        "Classifying \"quick money\": unknown\n",
        "\n",
        "Training again with the same documents (10x)...\n",
        "Running sampletrain to train the classifier...\n",
        "Running sampletrain to train the classifier...\n",
        "Running sampletrain to train the classifier...\n",
        "Running sampletrain to train the classifier...\n",
        "Running sampletrain to train the classifier...\n",
        "Running sampletrain to train the classifier...\n",
        "Running sampletrain to train the classifier...\n",
        "Running sampletrain to train the classifier...\n",
        "Running sampletrain to train the classifier...\n",
        "Running sampletrain to train the classifier...\n",
        "\n",
        "Classifying \"quick money\": bad\n"
       ]
      }
     ],
     "prompt_number": 316
    },
    {
     "cell_type": "code",
     "collapsed": false,
     "input": [
      "probabilidades_palavras_fisher()"
     ],
     "language": "python",
     "metadata": {},
     "outputs": [
      {
       "output_type": "stream",
       "stream": "stdout",
       "text": [
        "\n",
        "\n",
        "Running sampletrain to train the classifier...\n",
        "\n",
        "\n",
        "Probability of \"quick\" given that \"good\": 0.571428571429\n",
        "Probability of \"money\" given that \"bad\": 1.0\n",
        "Weighted probability of  \"money\" given that \"bad\": 0.75\n"
       ]
      }
     ],
     "prompt_number": 317
    },
    {
     "cell_type": "code",
     "collapsed": false,
     "input": [
      "probabilidades_documentos_fisher()"
     ],
     "language": "python",
     "metadata": {},
     "outputs": [
      {
       "output_type": "stream",
       "stream": "stdout",
       "text": [
        "\n",
        "\n",
        "Running sampletrain to train the classifier...\n",
        "Classifying \"quick rabbit\": good\n",
        "Classifying \"quick money\": bad\n",
        "\n",
        "Setting the threshold up...\n",
        "Classifying \"quick money\": good\n",
        "\n",
        "Setting the threshold down...\n",
        "Classifying \"quick money\": bad\n"
       ]
      }
     ],
     "prompt_number": 318
    },
    {
     "cell_type": "code",
     "collapsed": false,
     "input": [
      "using_db_example()"
     ],
     "language": "python",
     "metadata": {},
     "outputs": [
      {
       "output_type": "stream",
       "stream": "stdout",
       "text": [
        "\n",
        "Instantiating a fisher classifier...\n",
        "Running sampletrain to train the classifier...\n",
        "\n",
        "Instantiating a naive bayes classifier..."
       ]
      },
      {
       "output_type": "stream",
       "stream": "stdout",
       "text": [
        "\n",
        "Classifying \"quick money\": bad\n"
       ]
      }
     ],
     "prompt_number": 319
    },
    {
     "cell_type": "code",
     "collapsed": false,
     "input": [
      "cl = classifying_blogs('FGV')"
     ],
     "language": "python",
     "metadata": {},
     "outputs": [
      {
       "output_type": "stream",
       "stream": "stdout",
       "text": [
        "\n",
        "-----\n",
        "Title:     Economia informal superou os R$ 730 bilh\u00f5es em 2012, estima <b>FGV</b>\n",
        "Publisher: G1 > S\u00e3o Paulo\n",
        "()\n",
        "Dado mede conjunto de bens e servi\u00e7os n\u00e3o reportados ao governo. Economia 'subterr\u00e2nea' caiu de 21% do PIB em 2003 para 16,6% em 2012.\n",
        "Suggested: fgv"
       ]
      },
      {
       "output_type": "stream",
       "stream": "stdout",
       "text": [
        "\n",
        "Category \"fgv\" chosen"
       ]
      },
      {
       "output_type": "stream",
       "stream": "stdout",
       "text": [
        "\n",
        "\n",
        "-----"
       ]
      },
      {
       "output_type": "stream",
       "stream": "stdout",
       "text": [
        "\n",
        "Title:     Economia - Novo indicador mostra luz amarela na economia, diz <b>...</b>\n",
        "Publisher: G1 > Economia\n",
        "()\n",
        "Indicador antecipa cen\u00e1rios da atividade econ\u00f4mica no pa\u00eds. Economista do The Conference Board calcula crescimento de 2% em 2013.\n",
        "Suggested: economia"
       ]
      },
      {
       "output_type": "stream",
       "stream": "stdout",
       "text": [
        "\n",
        "Category \"economia\" chosen"
       ]
      },
      {
       "output_type": "stream",
       "stream": "stdout",
       "text": [
        "\n",
        "\n",
        "-----"
       ]
      },
      {
       "output_type": "stream",
       "stream": "stdout",
       "text": [
        "\n",
        "Title:     G1 - <b>FGV</b> divulga gabarito de concurso p\u00fablico para juiz substituto <b>...</b>\n",
        "Publisher: G1 > Concursos e Emprego\n",
        "()\n",
        "Aproximadamente mil candidatos realizaram a prova na quarta-feira (17). Prazo para entrega de recursos ser\u00e1 de 22 a 23 de julho.\n",
        "Suggested: concurso"
       ]
      },
      {
       "output_type": "stream",
       "stream": "stdout",
       "text": [
        "\n",
        "Category \"concurso\" chosen"
       ]
      },
      {
       "output_type": "stream",
       "stream": "stdout",
       "text": [
        "\n",
        "\n",
        "-----"
       ]
      },
      {
       "output_type": "stream",
       "stream": "stdout",
       "text": [
        "\n",
        "Title:     Ritmo de contrata\u00e7\u00f5es deve desacelerar, aponta pesquisa da <b>FGV</b>\n",
        "Publisher: G1 > Concursos e Emprego\n",
        "()\n",
        "Indicador Antecedente de Emprego recuou 1,3% em junho. Expectativas dos empres\u00e1rios frente \u00e0s tend\u00eancias dos neg\u00f3cios pioraram.\n",
        "Suggested: emprego"
       ]
      },
      {
       "output_type": "stream",
       "stream": "stdout",
       "text": [
        "\n",
        "Category \"emprego\" chosen"
       ]
      },
      {
       "output_type": "stream",
       "stream": "stdout",
       "text": [
        "\n",
        "\n",
        "-----"
       ]
      },
      {
       "output_type": "stream",
       "stream": "stdout",
       "text": [
        "\n",
        "Title:     Economia - Infla\u00e7\u00e3o da baixa renda ganha for\u00e7a em junho, diz <b>FGV</b>\n",
        "Publisher: G1 > S\u00e3o Paulo\n",
        "()\n",
        "Varia\u00e7\u00f5es de pre\u00e7os de transportes e habita\u00e7\u00e3o puxaram a alta. IPC-C1 acumula alta de 3,03% no ano e, 6,43%, nos \u00faltimos 12 meses.\n",
        "Suggested: economia"
       ]
      },
      {
       "output_type": "stream",
       "stream": "stdout",
       "text": [
        "\n",
        "Category \"economia\" chosen"
       ]
      },
      {
       "output_type": "stream",
       "stream": "stdout",
       "text": [
        "\n",
        "\n",
        "-----"
       ]
      },
      {
       "output_type": "stream",
       "stream": "stdout",
       "text": [
        "\n",
        "Title:     G1 - <b>FGV</b> divulga lista de aprovados em provas de concurso p\u00fablico <b>...</b>\n",
        "Publisher: G1 > S\u00e3o Paulo\n",
        "()\n",
        "Resultado \u00e9 preliminar; candidatos passar\u00e3o ainda por prova de t\u00edtulos. Funda\u00e7\u00e3o divulgou tamb\u00e9m gabaritos definitivos das provas objetivas.\n",
        "Suggested: concurso"
       ]
      },
      {
       "output_type": "stream",
       "stream": "stdout",
       "text": [
        "\n",
        "Category \"concurso\" chosen"
       ]
      },
      {
       "output_type": "stream",
       "stream": "stdout",
       "text": [
        "\n",
        "\n",
        "-----"
       ]
      },
      {
       "output_type": "stream",
       "stream": "stdout",
       "text": [
        "\n",
        "Title:     Inscri\u00e7\u00f5es abertas para o evento de governan\u00e7a corporativa Stanford\n",
        "Publisher: FGV DIREITO RIO\n",
        "()\n",
        "A <em>FGV</em> DIREITO RIO promover\u00e1 no dia 21 de agosto deste ano, em parceria com o Stanford Rock Center for Corporate Governance, a terceira edi\u00e7\u00e3o do Directors' College. O evento \u2013 uma iniciativa da Stanford Law School e&nbsp;<b>...</b>\n",
        "Suggested: direito"
       ]
      },
      {
       "output_type": "stream",
       "stream": "stdout",
       "text": [
        "\n",
        "Category \"direito\" chosen"
       ]
      },
      {
       "output_type": "stream",
       "stream": "stdout",
       "text": [
        "\n",
        "\n",
        "-----"
       ]
      },
      {
       "output_type": "stream",
       "stream": "stdout",
       "text": [
        "\n",
        "Title:     Infla\u00e7\u00e3o da terceira idade diminui ritmo no 2\u00ba trimestre, aponta <b>FGV</b>\n",
        "Publisher: G1 > S\u00e3o Paulo\n",
        "()\n",
        "Varia\u00e7\u00e3o do IPC-3i passou de 1,82%, no 1\u00ba trimestre, para 1,26%. Desacelera\u00e7\u00e3o dos alimentos foi o que mais pesou sobre o resultado.\n",
        "Suggested: fgv"
       ]
      },
      {
       "output_type": "stream",
       "stream": "stdout",
       "text": [
        "\n",
        "Category \"fgv\" chosen"
       ]
      },
      {
       "output_type": "stream",
       "stream": "stdout",
       "text": [
        "\n",
        "\n",
        "-----"
       ]
      },
      {
       "output_type": "stream",
       "stream": "stdout",
       "text": [
        "\n",
        "Title:     Infla\u00e7\u00e3o pelo IPC-S recua nas sete capitais pesquisadas pela <b>FGV</b>\n",
        "Publisher: G1 > Economia\n",
        "()\n",
        "Em Salvador, a taxa passou de 0,25% para 0,12%. Considerando todas as capitais, IPC-S ficou em 0,07%.\n",
        "Suggested: fgv"
       ]
      },
      {
       "output_type": "stream",
       "stream": "stdout",
       "text": [
        "\n",
        "Category \"fgv\" chosen"
       ]
      },
      {
       "output_type": "stream",
       "stream": "stdout",
       "text": [
        "\n",
        "\n",
        "-----"
       ]
      },
      {
       "output_type": "stream",
       "stream": "stdout",
       "text": [
        "\n",
        "Title:     Inscri\u00e7\u00f5es para o Vestibular <b>FGV</b> 2014 de SP e RJ | - InfoEnem\n",
        "Publisher: \n",
        "()\n",
        "A partir de hoje, 8 de julho, a <em>FGV</em> recebe inscri\u00e7\u00f5es para o vestibular para ingresso de estudantes em 2014. Veja todas as vagas, regras e datas.\n",
        "Suggested: fgv"
       ]
      },
      {
       "output_type": "stream",
       "stream": "stdout",
       "text": [
        "\n",
        "Category \"fgv\" chosen"
       ]
      },
      {
       "output_type": "stream",
       "stream": "stdout",
       "text": [
        "\n",
        "\n",
        "List of categories stored in the database:"
       ]
      },
      {
       "output_type": "stream",
       "stream": "stdout",
       "text": [
        "\n",
        "direito\n",
        "fgv\n",
        "economia\n",
        "concurso\n",
        "emprego\n"
       ]
      }
     ],
     "prompt_number": 320
    },
    {
     "cell_type": "raw",
     "metadata": {},
     "source": [
      "Do some tests now:\n",
      "\n",
      "cl.cprob(<category>,<word>)\n",
      "\n",
      "cl.fprob(<word>,<category>)"
     ]
    },
    {
     "cell_type": "code",
     "collapsed": false,
     "input": [
      "print(cl.cprob('fgv','economia'))\n",
      "print(cl.fprob('direito','fgv'))"
     ],
     "language": "python",
     "metadata": {},
     "outputs": [
      {
       "output_type": "stream",
       "stream": "stdout",
       "text": [
        "0\n",
        "0.0574712643678\n"
       ]
      }
     ],
     "prompt_number": 321
    }
   ],
   "metadata": {}
  }
 ]
}