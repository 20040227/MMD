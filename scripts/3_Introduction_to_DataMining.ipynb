{
 "metadata": {
  "name": "",
  "signature": "sha256:557fc2cd1d88b914f64490be3e7c5bd7a424161e4079c9d8021321034a79f817"
 },
 "nbformat": 3,
 "nbformat_minor": 0,
 "worksheets": [
  {
   "cells": [
    {
     "cell_type": "markdown",
     "metadata": {},
     "source": [
      "Mestrado em Modelagem Matematica da Informacao\n",
      "----------------------------------------------\n",
      "Disciplina: Modelagem e Mineracao de Dados\n",
      "------------------------------------------\n",
      "\n",
      "Master Program - Mathematical Modeling of Information\n",
      "-----------------------------------------------------\n",
      "Course: Data Mining and Modeling\n",
      "--------------------------------\n",
      "\n",
      "Professor: Renato Rocha Souza\n",
      "-----------------------------  "
     ]
    },
    {
     "cell_type": "code",
     "collapsed": false,
     "input": [],
     "language": "python",
     "metadata": {},
     "outputs": []
    },
    {
     "cell_type": "markdown",
     "metadata": {},
     "source": [
      "Comparing Weka and Python for the same tasks\n",
      "--------------------------------------------\n",
      "http://www.reddit.com/r/MachineLearning/comments/1rwj8p/why_are_python_r_so_much_more_popular_here_than/"
     ]
    },
    {
     "cell_type": "code",
     "collapsed": false,
     "input": [
      "import pylab as pl\n",
      "import pandas as pd\n",
      "import numpy as np\n",
      "import matplotlib.pyplot as plt\n",
      "import matplotlib.dates as md\n",
      "import scipy.stats as ss\n",
      "from scipy.io.arff import loadarff\n",
      "import os"
     ],
     "language": "python",
     "metadata": {},
     "outputs": [],
     "prompt_number": 10
    },
    {
     "cell_type": "code",
     "collapsed": false,
     "input": [
      "%pylab inline"
     ],
     "language": "python",
     "metadata": {},
     "outputs": [
      {
       "output_type": "stream",
       "stream": "stdout",
       "text": [
        "Populating the interactive namespace from numpy and matplotlib\n"
       ]
      }
     ],
     "prompt_number": 2
    },
    {
     "cell_type": "code",
     "collapsed": false,
     "input": [
      "datapath = \"/home/rsouza/Dropbox/Renato/ModMinDados/Git/datasets/\""
     ],
     "language": "python",
     "metadata": {},
     "outputs": [],
     "prompt_number": 3
    },
    {
     "cell_type": "code",
     "collapsed": false,
     "input": [
      "dataset1 = \"bank.arff\"\n",
      "dataset2 = \"zoo.arff\"\n",
      "dataset3 = \"weather.nominal.arff\""
     ],
     "language": "python",
     "metadata": {},
     "outputs": [],
     "prompt_number": 4
    },
    {
     "cell_type": "code",
     "collapsed": false,
     "input": [
      "bank = loadarff(os.path.join(datapath,dataset1))\n",
      "df_bank = pd.DataFrame(bank[0])"
     ],
     "language": "python",
     "metadata": {},
     "outputs": [],
     "prompt_number": 14
    },
    {
     "cell_type": "code",
     "collapsed": false,
     "input": [
      "df_bank.info()"
     ],
     "language": "python",
     "metadata": {},
     "outputs": [
      {
       "output_type": "stream",
       "stream": "stdout",
       "text": [
        "<class 'pandas.core.frame.DataFrame'>\n",
        "Int64Index: 600 entries, 0 to 599\n",
        "Data columns (total 11 columns):\n",
        "age            600 non-null float64\n",
        "sex            600 non-null object\n",
        "region         600 non-null object\n",
        "income         600 non-null float64\n",
        "married        600 non-null object\n",
        "children       600 non-null object\n",
        "car            600 non-null object\n",
        "save_act       600 non-null object\n",
        "current_act    600 non-null object\n",
        "mortgage       600 non-null object\n",
        "pep            600 non-null object\n",
        "dtypes: float64(2), object(9)"
       ]
      }
     ],
     "prompt_number": 16
    },
    {
     "cell_type": "code",
     "collapsed": false,
     "input": [
      "df_bank.head()"
     ],
     "language": "python",
     "metadata": {},
     "outputs": [
      {
       "html": [
        "<div style=\"max-height:1000px;max-width:1500px;overflow:auto;\">\n",
        "<table border=\"1\" class=\"dataframe\">\n",
        "  <thead>\n",
        "    <tr style=\"text-align: right;\">\n",
        "      <th></th>\n",
        "      <th>age</th>\n",
        "      <th>sex</th>\n",
        "      <th>region</th>\n",
        "      <th>income</th>\n",
        "      <th>married</th>\n",
        "      <th>children</th>\n",
        "      <th>car</th>\n",
        "      <th>save_act</th>\n",
        "      <th>current_act</th>\n",
        "      <th>mortgage</th>\n",
        "      <th>pep</th>\n",
        "    </tr>\n",
        "  </thead>\n",
        "  <tbody>\n",
        "    <tr>\n",
        "      <th>0</th>\n",
        "      <td> 48</td>\n",
        "      <td> FEMALE</td>\n",
        "      <td> INNER_CITY</td>\n",
        "      <td> 17546.0</td>\n",
        "      <td>  NO</td>\n",
        "      <td> 1</td>\n",
        "      <td>  NO</td>\n",
        "      <td>  NO</td>\n",
        "      <td>  NO</td>\n",
        "      <td>  NO</td>\n",
        "      <td> YES</td>\n",
        "    </tr>\n",
        "    <tr>\n",
        "      <th>1</th>\n",
        "      <td> 40</td>\n",
        "      <td>   MALE</td>\n",
        "      <td>       TOWN</td>\n",
        "      <td> 30085.1</td>\n",
        "      <td> YES</td>\n",
        "      <td> 3</td>\n",
        "      <td> YES</td>\n",
        "      <td>  NO</td>\n",
        "      <td> YES</td>\n",
        "      <td> YES</td>\n",
        "      <td>  NO</td>\n",
        "    </tr>\n",
        "    <tr>\n",
        "      <th>2</th>\n",
        "      <td> 51</td>\n",
        "      <td> FEMALE</td>\n",
        "      <td> INNER_CITY</td>\n",
        "      <td> 16575.4</td>\n",
        "      <td> YES</td>\n",
        "      <td> 0</td>\n",
        "      <td> YES</td>\n",
        "      <td> YES</td>\n",
        "      <td> YES</td>\n",
        "      <td>  NO</td>\n",
        "      <td>  NO</td>\n",
        "    </tr>\n",
        "    <tr>\n",
        "      <th>3</th>\n",
        "      <td> 23</td>\n",
        "      <td> FEMALE</td>\n",
        "      <td>       TOWN</td>\n",
        "      <td> 20375.4</td>\n",
        "      <td> YES</td>\n",
        "      <td> 3</td>\n",
        "      <td>  NO</td>\n",
        "      <td>  NO</td>\n",
        "      <td> YES</td>\n",
        "      <td>  NO</td>\n",
        "      <td>  NO</td>\n",
        "    </tr>\n",
        "    <tr>\n",
        "      <th>4</th>\n",
        "      <td> 57</td>\n",
        "      <td> FEMALE</td>\n",
        "      <td>      RURAL</td>\n",
        "      <td> 50576.3</td>\n",
        "      <td> YES</td>\n",
        "      <td> 0</td>\n",
        "      <td>  NO</td>\n",
        "      <td> YES</td>\n",
        "      <td>  NO</td>\n",
        "      <td>  NO</td>\n",
        "      <td>  NO</td>\n",
        "    </tr>\n",
        "  </tbody>\n",
        "</table>\n",
        "</div>"
       ],
       "metadata": {},
       "output_type": "pyout",
       "prompt_number": 17,
       "text": [
        "   age     sex      region   income married children  car save_act  \\\n",
        "0   48  FEMALE  INNER_CITY  17546.0      NO        1   NO       NO   \n",
        "1   40    MALE        TOWN  30085.1     YES        3  YES       NO   \n",
        "2   51  FEMALE  INNER_CITY  16575.4     YES        0  YES      YES   \n",
        "3   23  FEMALE        TOWN  20375.4     YES        3   NO       NO   \n",
        "4   57  FEMALE       RURAL  50576.3     YES        0   NO      YES   \n",
        "\n",
        "  current_act mortgage  pep  \n",
        "0          NO       NO  YES  \n",
        "1         YES      YES   NO  \n",
        "2         YES       NO   NO  \n",
        "3         YES       NO   NO  \n",
        "4          NO       NO   NO  "
       ]
      }
     ],
     "prompt_number": 17
    },
    {
     "cell_type": "code",
     "collapsed": false,
     "input": [],
     "language": "python",
     "metadata": {},
     "outputs": []
    },
    {
     "cell_type": "markdown",
     "metadata": {},
     "source": [
      "Instru\u00e7\u00f5es do Exerc\u00edcio com Weka"
     ]
    },
    {
     "cell_type": "raw",
     "metadata": {},
     "source": [
      "Exerc\u00edcios com o Weka em sala - 07/10/2014\n",
      "\n",
      "- Abra o Weka\n",
      "***************************************\n",
      "- Escolha o m\u00f3dulo \"Explorer\"\n",
      "- Carregue o arquivo \"bank.arff\" - este arquivo descreve o perfil de correntistas que aderiram ou n\u00e3o ao produto \"PEP\"\n",
      "- Explore os dados no \"explorer\"\n",
      "- Visualize os dados com a op\u00e7\u00e3o \"Edit\" do Explorer\n",
      "- Varie as classes (quadrante inferior direito) e explore a op\u00e7\u00e3o \"Visualize All\"\n",
      "***************************************\n",
      "- V\u00e1 para o m\u00f3dulo \"Classify\"\n",
      "- Monte uma \u00e1rvore de decis\u00e3o usando o algoritmo \"J48\"\n",
      "- Escolha \"Use training set\"\n",
      "- CLique em \"Start\"\n",
      "- Clique no resultado (no Result list) com o bot\u00e3o direito e escolha a op\u00e7\u00e3o \"Visualize Tree\"\n",
      "- Examine os perfis de correntistas que adotaram o produto.\n",
      "\t- O que se pode dizer do produto em rela\u00e7\u00e3o ao n\u00famero de filhos?\n",
      "\t- E em rela\u00e7\u00e3o ao sal\u00e1rio (income)?\n",
      "***************************************\n",
      "- V\u00e1 para o m\u00f3dulo \"Cluster\"\n",
      "- Monte uma \u00e1rvore de decis\u00e3o usando o algoritmo \"SimpleKMeans\"\n",
      "- Configure o algoritmo para que sejam encontrados 4 clusters (Configure clicando em cima do nome do algoritmo em \"Choose\")\n",
      "- Escolha \"Use training set\"\n",
      "- CLique em \"Start\"\n",
      "- Examine na janela principal os centr\u00f3ides dos clusters formados. \n",
      "\t- H\u00e1 grupos espec\u00edficos que devem ser alvos de campanhas futuras para contrata\u00e7\u00e3o do produto PEP?\n",
      "- Clique no resultado (no Result list) com o bot\u00e3o direito e escolha a op\u00e7\u00e3o \"Visualize Cluster Assignments\"\n",
      "- Modifique o par\u00e2metro \"Jitter\" para inserir uma separa\u00e7\u00e3o artificial entre os pontos (melhora a visualiza\u00e7\u00e3o)\n",
      "- Alterne as vari\u00e1veis que est\u00e3o associadas \u00e0 cor, ao eixo x e ao eixo y.\n",
      "\t- Experimente X:Cluster, Colour:Sex e Y:PEP. ---> G\u00eanero foi um crit\u00e9rio para montagem dos clusters?\n",
      "\t\t\t\t\t\t\t  Varie o par\u00e2metro em \"Colour\" e verifique outros crit\u00e9rios de forma\u00e7\u00e3o de clusters.\n",
      "\t- Experimente X:Income, Colour:Sex e Y:PEP.  ---> Qual g\u00eanero com alta renda \u00e9 mais propenso a contratar o PEP? E com baixa renda?\n",
      "\t- Experimente X:Income, Colour:Sex e Y:Save-Act.  ---> o que se pode dizer das pessoas que poupam mais?\n",
      "***************************************\n",
      "- Volte ao m\u00f3dulo \"Preprocess\"\n",
      "- Escolha e aplique um filtro de discretiza\u00e7\u00e3o aos dados: (Filter/Choose/filters/unsupervised/attribute/Discretize)\n",
      "- Marque os dados num\u00e9ricos (age e income)\n",
      "- Examine os par\u00e2metros de configura\u00e7\u00e3o do filtro. 10 bins \u00e9 apropriado?\n",
      "- Aplique o filtro aos dados escolhidos (age e income) - Clique em \"Apply\".\n",
      "- Examine os dados outrora cont\u00ednuos discretizados.\n",
      "***************************************\n",
      "- V\u00e1 para o m\u00f3dulo \"Associate\"\n",
      "- Escolha o algoritmo de associa\u00e7\u00e3o \"APriori\"\n",
      "- CLique em \"Start\"\n",
      "- Examine as melhores regras encontradas em \"Associator Output\"\n",
      "- Configure o filtro: aumente o n\u00famero de regras para \"30\" e rode novamente. \n",
      "\t- Houve mudan\u00e7a significativa? \n",
      "- Configure o filtro: diminua a confian\u00e7a para 0.7 e rode novamente.\n",
      "\t- Houve mudan\u00e7a significativa?\n",
      "***************************************\n",
      "- V\u00e1 para o m\u00f3dulo \"Attributes\"\n",
      "- Escolha o algoritmo de avalia\u00e7\u00e3o de atributos \"CfsSubsetEval\"\n",
      "- Escolha o algoritmo de busca de atributos \"BestFirst\"\n",
      "- CLique em \"Start\"\n",
      "- Examine as melhores regras encontradas em \"Attribute Selection Output\"\n",
      "\t- Quais s\u00e3o os atributos mais importantes para este dataset? Porqu\u00ea?\n",
      "***************************************\n",
      "Repita os passos para os datasets: \n",
      "\t- credit-g.arff (Quais caracter\u00edsticas s\u00e3o importantes para que o cr\u00e9dito no mercado seja bom ou ruim? - par\u00e2metro \"class\") \n",
      "\t- vote.arff (Como podemos caracterizar democratas e republicanos?)\n",
      "***************************************\n",
      "Opcional: Examine os outros datasets (zoo.arff, weather.nominal.arff)"
     ]
    },
    {
     "cell_type": "code",
     "collapsed": false,
     "input": [],
     "language": "python",
     "metadata": {},
     "outputs": []
    }
   ],
   "metadata": {}
  }
 ]
}