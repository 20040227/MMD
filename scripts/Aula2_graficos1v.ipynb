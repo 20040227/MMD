{
 "metadata": {
  "name": "Aula2_graficos1v"
 },
 "nbformat": 3,
 "nbformat_minor": 0,
 "worksheets": [
  {
   "cells": [
    {
     "cell_type": "markdown",
     "metadata": {},
     "source": [
      "Mestrado em Modelagem Matematica da Informacao\n",
      "Master Program - Mathematical Modeling of Information\n",
      "\n",
      "Disciplina: Modelagem e Mineracao de Dados\n",
      "Course: Data Mining and Modeling\n",
      "\n",
      "Professor: Renato Rocha Souza\n",
      "Topic: Simple Univariate Graphs (class #2)\n",
      "\n",
      "Information on the Python Packages used:\n",
      "\n",
      "http://docs.scipy.org/doc/\n",
      "\n",
      "http://numpy.scipy.org/\n",
      "\n",
      "http://scipy.org/\n",
      "\n",
      "http://matplotlib.sourceforge.net/"
     ]
    },
    {
     "cell_type": "code",
     "collapsed": false,
     "input": [
      "import numpy as np\n",
      "from numpy import loadtxt, genfromtxt, array, arange\n",
      "from matplotlib.pyplot import plot, boxplot, show, title, legend, figure\n",
      "from scipy.stats import describe, cumfreq\n",
      "from scipy.stats.kde import gaussian_kde\n",
      "from pylab import hist"
     ],
     "language": "python",
     "metadata": {},
     "outputs": [],
     "prompt_number": 1
    },
    {
     "cell_type": "markdown",
     "metadata": {},
     "source": [
      "Specifying the path to the files:"
     ]
    },
    {
     "cell_type": "code",
     "collapsed": false,
     "input": [
      "datapath = \"/home/rsouza/Documentos/Git/MMD/datasets/\"\n",
      "dataset1 = \"ch02_presidents\"\n",
      "dataset2 = \"ch02_serverdata\"\n",
      "dataset3 = \"ch02_glass.data\""
     ],
     "language": "python",
     "metadata": {},
     "outputs": [],
     "prompt_number": 2
    },
    {
     "cell_type": "markdown",
     "metadata": {},
     "source": [
      "Loading the datasets\n",
      "\n",
      "http://docs.scipy.org/doc/numpy/reference/generated/numpy.genfromtxt.html\n",
      "\n",
      "http://docs.scipy.org/doc/numpy/reference/generated/numpy.loadtxt.html"
     ]
    },
    {
     "cell_type": "code",
     "collapsed": false,
     "input": [
      "x = genfromtxt(datapath+dataset1, usecols=(2))\n",
      "x_names = genfromtxt(datapath+dataset1, usecols=(1), dtype=(str))\n",
      "y = loadtxt(datapath+dataset2)\n",
      "z = loadtxt(datapath+dataset3, usecols=(1,2,10), delimiter=',')"
     ],
     "language": "python",
     "metadata": {},
     "outputs": [],
     "prompt_number": 10
    },
    {
     "cell_type": "code",
     "collapsed": false,
     "input": [
      "x"
     ],
     "language": "python",
     "metadata": {},
     "outputs": [
      {
       "output_type": "pyout",
       "prompt_number": 7,
       "text": [
        "array([  94.,   48.,   96.,   96.,   96.,   48.,   96.,   48.,    1.,\n",
        "         47.,   48.,   16.,   32.,   48.,   48.,   49.,   47.,   96.,\n",
        "         48.,    7.,   41.,   48.,   48.,   48.,   54.,   90.,   48.,\n",
        "         96.,   29.,   67.,   48.,  146.,   92.,   96.,   34.,   62.,\n",
        "         67.,   29.,   48.,   96.,   48.,   96.,   96.])"
       ]
      }
     ],
     "prompt_number": 7
    },
    {
     "cell_type": "code",
     "collapsed": false,
     "input": [
      "x_names"
     ],
     "language": "python",
     "metadata": {},
     "outputs": [
      {
       "output_type": "pyout",
       "prompt_number": 6,
       "text": [
        "array(['Washington', 'Adams', 'Jefferson', 'Madison', 'Monroe', 'Adams',\n",
        "       'Jackson', 'Van_Buren', 'Harrison', 'Tyler', 'Polk', 'Taylor',\n",
        "       'Filmore', 'Pierce', 'Buchanan', 'Lincoln', 'Johnson', 'Grant',\n",
        "       'Hayes', 'Garfield', 'Arthur', 'Cleveland', 'Harrison', 'Cleveland',\n",
        "       'McKinley', 'Roosevelt', 'Taft', 'Wilson', 'Harding', 'Coolidge',\n",
        "       'Hoover', 'Roosevelt', 'Truman', 'Eisenhower', 'Kennedy', 'Johnson',\n",
        "       'Nixon', 'Ford', 'Carter', 'Reagan', 'Bush', 'Clinton', 'Bush'], \n",
        "      dtype='|S10')"
       ]
      }
     ],
     "prompt_number": 6
    },
    {
     "cell_type": "markdown",
     "metadata": {},
     "source": [
      "Gathering some information on the datasets:\n",
      "\n",
      "http://docs.scipy.org/doc/scipy/reference/generated/scipy.stats.describe.html"
     ]
    },
    {
     "cell_type": "code",
     "collapsed": false,
     "input": [
      "print(describe(y))\n",
      "print(describe(z))"
     ],
     "language": "python",
     "metadata": {},
     "outputs": [
      {
       "output_type": "stream",
       "stream": "stdout",
       "text": [
        "(1000, (44.5, 2985.29), 849.18856999999991, 456853.18439645146, 1.3048517528837622, 1.0261430787200725)\n",
        "(214, (array([  1.51115,  10.73   ,   1.     ]), array([  1.53393,  17.38   ,   7.     ])), array([  1.51836542,  13.40785047,   2.78037383]), array([  9.22254137e-06,   6.66841367e-01,   4.42571629e+00]), array([ 1.61401505,  0.45099172,  1.10708511]), array([ 4.78935423,  2.95347658, -0.30093706]))\n"
       ]
      }
     ],
     "prompt_number": 12
    },
    {
     "cell_type": "markdown",
     "metadata": {},
     "source": [
      "Customized version: bstats"
     ]
    },
    {
     "cell_type": "code",
     "collapsed": false,
     "input": [
      "def bstats(vec):\n",
      "    s = {'num_element':len(vec), 'minimo':vec.min(),\n",
      "         'maximo':vec.max(), 'media':vec.mean(),\n",
      "         'desvio_padrao':vec.std()}\n",
      "    return s"
     ],
     "language": "python",
     "metadata": {},
     "outputs": [],
     "prompt_number": 3
    },
    {
     "cell_type": "code",
     "collapsed": false,
     "input": [
      "print(bstats(x))\n",
      "print(bstats(y))\n",
      "print(bstats(z[:,1]))"
     ],
     "language": "python",
     "metadata": {},
     "outputs": [
      {
       "output_type": "stream",
       "stream": "stdout",
       "text": [
        "{'maximo': 146.0, 'media': 61.302325581395351, 'desvio_padrao': 29.705950295584959, 'num_element': 43, 'minimo': 1.0}\n",
        "{'maximo': 2985.29, 'media': 849.18856999999991, 'desvio_padrao': 675.57111484436268, 'num_element': 1000, 'minimo': 44.5}\n",
        "{'maximo': 17.379999999999999, 'media': 13.407850467289723, 'desvio_padrao': 0.81469336934283643, 'num_element': 214, 'minimo': 10.73}\n"
       ]
      }
     ],
     "prompt_number": 13
    },
    {
     "cell_type": "markdown",
     "metadata": {},
     "source": [
      "Jitter Plots\n",
      "\n",
      "http://matplotlib.sourceforge.net/api/pyplot_api.html#matplotlib.pyplot.plot"
     ]
    },
    {
     "cell_type": "code",
     "collapsed": false,
     "input": [
      "plot(x)\n",
      "title('default settings')\n",
      "legend('data')"
     ],
     "language": "python",
     "metadata": {},
     "outputs": [
      {
       "output_type": "pyout",
       "prompt_number": 14,
       "text": [
        "<matplotlib.legend.Legend at 0x3662d90>"
       ]
      }
     ],
     "prompt_number": 14
    },
    {
     "cell_type": "code",
     "collapsed": false,
     "input": [
      "figure(2)\n",
      "plot(x,'r')\n",
      "title('default + red')"
     ],
     "language": "python",
     "metadata": {},
     "outputs": [
      {
       "output_type": "pyout",
       "prompt_number": 15,
       "text": [
        "<matplotlib.text.Text at 0x3586f50>"
       ]
      }
     ],
     "prompt_number": 15
    },
    {
     "cell_type": "code",
     "collapsed": false,
     "input": [
      "figure(3)\n",
      "plot(x,'bo')\n",
      "title('blue and circles')"
     ],
     "language": "python",
     "metadata": {},
     "outputs": [
      {
       "output_type": "pyout",
       "prompt_number": 16,
       "text": [
        "<matplotlib.text.Text at 0x3e8a950>"
       ]
      }
     ],
     "prompt_number": 16
    },
    {
     "cell_type": "code",
     "collapsed": false,
     "input": [
      "figure(4)\n",
      "plot(x,'g.')\n",
      "title('green and dots')\n",
      "show()"
     ],
     "language": "python",
     "metadata": {},
     "outputs": [],
     "prompt_number": 17
    },
    {
     "cell_type": "markdown",
     "metadata": {},
     "source": [
      "Histograms\n",
      "\n",
      "http://matplotlib.sourceforge.net/api/pyplot_api.html#matplotlib.pyplot.hist"
     ]
    },
    {
     "cell_type": "code",
     "collapsed": false,
     "input": [
      "nbins=10\n",
      "hist(x, bins=nbins)"
     ],
     "language": "python",
     "metadata": {},
     "outputs": [
      {
       "output_type": "pyout",
       "prompt_number": 19,
       "text": [
        "(array([ 2,  3,  3, 18,  3,  0, 13,  0,  0,  1]),\n",
        " array([   1. ,   15.5,   30. ,   44.5,   59. ,   73.5,   88. ,  102.5,\n",
        "        117. ,  131.5,  146. ]),\n",
        " <a list of 10 Patch objects>)"
       ]
      }
     ],
     "prompt_number": 19
    },
    {
     "cell_type": "code",
     "collapsed": false,
     "input": [
      "figure(2)\n",
      "hist(x, bins=10*nbins)"
     ],
     "language": "python",
     "metadata": {},
     "outputs": [
      {
       "output_type": "pyout",
       "prompt_number": 21,
       "text": [
        "(array([ 1,  0,  0,  0,  1,  0,  0,  0,  0,  0,  1,  0,  0,  0,  0,  0,  0,\n",
        "        0,  0,  2,  0,  1,  1,  0,  0,  0,  0,  1,  0,  0,  0,  2, 14,  1,\n",
        "        0,  0,  1,  0,  0,  0,  0,  0,  1,  0,  0,  2,  0,  0,  0,  0,  0,\n",
        "        0,  0,  0,  0,  0,  0,  0,  0,  0,  0,  1,  1,  0,  1, 10,  0,  0,\n",
        "        0,  0,  0,  0,  0,  0,  0,  0,  0,  0,  0,  0,  0,  0,  0,  0,  0,\n",
        "        0,  0,  0,  0,  0,  0,  0,  0,  0,  0,  0,  0,  0,  0,  1]),\n",
        " array([   1.  ,    2.45,    3.9 ,    5.35,    6.8 ,    8.25,    9.7 ,\n",
        "         11.15,   12.6 ,   14.05,   15.5 ,   16.95,   18.4 ,   19.85,\n",
        "         21.3 ,   22.75,   24.2 ,   25.65,   27.1 ,   28.55,   30.  ,\n",
        "         31.45,   32.9 ,   34.35,   35.8 ,   37.25,   38.7 ,   40.15,\n",
        "         41.6 ,   43.05,   44.5 ,   45.95,   47.4 ,   48.85,   50.3 ,\n",
        "         51.75,   53.2 ,   54.65,   56.1 ,   57.55,   59.  ,   60.45,\n",
        "         61.9 ,   63.35,   64.8 ,   66.25,   67.7 ,   69.15,   70.6 ,\n",
        "         72.05,   73.5 ,   74.95,   76.4 ,   77.85,   79.3 ,   80.75,\n",
        "         82.2 ,   83.65,   85.1 ,   86.55,   88.  ,   89.45,   90.9 ,\n",
        "         92.35,   93.8 ,   95.25,   96.7 ,   98.15,   99.6 ,  101.05,\n",
        "        102.5 ,  103.95,  105.4 ,  106.85,  108.3 ,  109.75,  111.2 ,\n",
        "        112.65,  114.1 ,  115.55,  117.  ,  118.45,  119.9 ,  121.35,\n",
        "        122.8 ,  124.25,  125.7 ,  127.15,  128.6 ,  130.05,  131.5 ,\n",
        "        132.95,  134.4 ,  135.85,  137.3 ,  138.75,  140.2 ,  141.65,\n",
        "        143.1 ,  144.55,  146.  ]),\n",
        " <a list of 100 Patch objects>)"
       ]
      }
     ],
     "prompt_number": 21
    },
    {
     "cell_type": "code",
     "collapsed": false,
     "input": [
      "figure(3)\n",
      "hist(x, bins=100*nbins)\n",
      "show()"
     ],
     "language": "python",
     "metadata": {},
     "outputs": [],
     "prompt_number": 22
    },
    {
     "cell_type": "markdown",
     "metadata": {},
     "source": [
      "Kernel Density Estimates\n",
      "\n",
      "http://www.scipy.org/doc/api_docs/SciPy.stats.kde.gaussian_kde.html"
     ]
    },
    {
     "cell_type": "code",
     "collapsed": false,
     "input": [
      "nbins=100\n",
      "hist(y, bins=nbins, normed=True, align='mid')"
     ],
     "language": "python",
     "metadata": {},
     "outputs": [
      {
       "output_type": "pyout",
       "prompt_number": 23,
       "text": [
        "(array([  6.80089364e-05,   2.38031277e-04,   5.78075959e-04,\n",
        "         9.18120641e-04,   9.52125109e-04,   9.52125109e-04,\n",
        "         1.22416085e-03,   1.12214745e-03,   1.08814298e-03,\n",
        "         1.15615192e-03,   1.22416085e-03,   1.05413851e-03,\n",
        "         7.48098300e-04,   8.50111705e-04,   6.12080427e-04,\n",
        "         1.08814298e-03,   5.10067023e-04,   1.05413851e-03,\n",
        "         1.05413851e-03,   5.44071491e-04,   8.16107236e-04,\n",
        "         6.12080427e-04,   6.80089364e-04,   7.14093832e-04,\n",
        "         5.78075959e-04,   5.10067023e-04,   4.76062555e-04,\n",
        "         6.46084896e-04,   4.42058086e-04,   2.72035745e-04,\n",
        "         5.44071491e-04,   3.74049150e-04,   4.76062555e-04,\n",
        "         4.08053618e-04,   2.72035745e-04,   2.04026809e-04,\n",
        "         5.10067023e-04,   2.04026809e-04,   1.70022341e-04,\n",
        "         3.40044682e-04,   3.06040214e-04,   2.38031277e-04,\n",
        "         3.06040214e-04,   6.80089364e-05,   1.36017873e-04,\n",
        "         2.04026809e-04,   3.06040214e-04,   1.36017873e-04,\n",
        "         2.72035745e-04,   1.02013405e-04,   3.74049150e-04,\n",
        "         1.02013405e-04,   2.04026809e-04,   1.70022341e-04,\n",
        "         3.40044682e-04,   2.04026809e-04,   1.36017873e-04,\n",
        "         1.02013405e-04,   1.02013405e-04,   1.02013405e-04,\n",
        "         1.36017873e-04,   6.80089364e-05,   1.70022341e-04,\n",
        "         2.72035745e-04,   1.36017873e-04,   1.70022341e-04,\n",
        "         1.70022341e-04,   0.00000000e+00,   6.80089364e-05,\n",
        "         6.80089364e-05,   1.02013405e-04,   6.80089364e-05,\n",
        "         1.36017873e-04,   1.36017873e-04,   6.80089364e-05,\n",
        "         3.40044682e-05,   0.00000000e+00,   6.80089364e-05,\n",
        "         1.02013405e-04,   6.80089364e-05,   1.02013405e-04,\n",
        "         0.00000000e+00,   6.80089364e-05,   1.36017873e-04,\n",
        "         1.02013405e-04,   3.40044682e-05,   1.36017873e-04,\n",
        "         1.02013405e-04,   6.80089364e-05,   1.36017873e-04,\n",
        "         1.02013405e-04,   1.02013405e-04,   1.02013405e-04,\n",
        "         1.02013405e-04,   1.36017873e-04,   0.00000000e+00,\n",
        "         1.36017873e-04,   3.40044682e-05,   6.80089364e-05,\n",
        "         1.02013405e-04]),\n",
        " array([   44.5   ,    73.9079,   103.3158,   132.7237,   162.1316,\n",
        "         191.5395,   220.9474,   250.3553,   279.7632,   309.1711,\n",
        "         338.579 ,   367.9869,   397.3948,   426.8027,   456.2106,\n",
        "         485.6185,   515.0264,   544.4343,   573.8422,   603.2501,\n",
        "         632.658 ,   662.0659,   691.4738,   720.8817,   750.2896,\n",
        "         779.6975,   809.1054,   838.5133,   867.9212,   897.3291,\n",
        "         926.737 ,   956.1449,   985.5528,  1014.9607,  1044.3686,\n",
        "        1073.7765,  1103.1844,  1132.5923,  1162.0002,  1191.4081,\n",
        "        1220.816 ,  1250.2239,  1279.6318,  1309.0397,  1338.4476,\n",
        "        1367.8555,  1397.2634,  1426.6713,  1456.0792,  1485.4871,\n",
        "        1514.895 ,  1544.3029,  1573.7108,  1603.1187,  1632.5266,\n",
        "        1661.9345,  1691.3424,  1720.7503,  1750.1582,  1779.5661,\n",
        "        1808.974 ,  1838.3819,  1867.7898,  1897.1977,  1926.6056,\n",
        "        1956.0135,  1985.4214,  2014.8293,  2044.2372,  2073.6451,\n",
        "        2103.053 ,  2132.4609,  2161.8688,  2191.2767,  2220.6846,\n",
        "        2250.0925,  2279.5004,  2308.9083,  2338.3162,  2367.7241,\n",
        "        2397.132 ,  2426.5399,  2455.9478,  2485.3557,  2514.7636,\n",
        "        2544.1715,  2573.5794,  2602.9873,  2632.3952,  2661.8031,\n",
        "        2691.211 ,  2720.6189,  2750.0268,  2779.4347,  2808.8426,\n",
        "        2838.2505,  2867.6584,  2897.0663,  2926.4742,  2955.8821,  2985.29  ]),\n",
        " <a list of 100 Patch objects>)"
       ]
      }
     ],
     "prompt_number": 23
    },
    {
     "cell_type": "code",
     "collapsed": false,
     "input": [
      "figure(2)    \n",
      "gkde = gaussian_kde(y)\n",
      "plot(arange(0,(1.01*(max(y)-min(y))),.1),\n",
      "gkde.evaluate(arange(0,(1.01*(max(y)-min(y))),.1)))   \n",
      "show()"
     ],
     "language": "python",
     "metadata": {},
     "outputs": [],
     "prompt_number": 24
    },
    {
     "cell_type": "markdown",
     "metadata": {},
     "source": [
      "Cumulative Frequency\n",
      "\n",
      "http://docs.scipy.org/doc/scipy/reference/generated/scipy.stats.cumfreq.html#scipy.stats.cumfreq"
     ]
    },
    {
     "cell_type": "code",
     "collapsed": false,
     "input": [
      "nbins=100\n",
      "hist(x, bins=nbins, normed=False, align='mid')"
     ],
     "language": "python",
     "metadata": {},
     "outputs": [
      {
       "output_type": "pyout",
       "prompt_number": 25,
       "text": [
        "(array([ 1,  0,  0,  0,  1,  0,  0,  0,  0,  0,  1,  0,  0,  0,  0,  0,  0,\n",
        "        0,  0,  2,  0,  1,  1,  0,  0,  0,  0,  1,  0,  0,  0,  2, 14,  1,\n",
        "        0,  0,  1,  0,  0,  0,  0,  0,  1,  0,  0,  2,  0,  0,  0,  0,  0,\n",
        "        0,  0,  0,  0,  0,  0,  0,  0,  0,  0,  1,  1,  0,  1, 10,  0,  0,\n",
        "        0,  0,  0,  0,  0,  0,  0,  0,  0,  0,  0,  0,  0,  0,  0,  0,  0,\n",
        "        0,  0,  0,  0,  0,  0,  0,  0,  0,  0,  0,  0,  0,  0,  1]),\n",
        " array([   1.  ,    2.45,    3.9 ,    5.35,    6.8 ,    8.25,    9.7 ,\n",
        "         11.15,   12.6 ,   14.05,   15.5 ,   16.95,   18.4 ,   19.85,\n",
        "         21.3 ,   22.75,   24.2 ,   25.65,   27.1 ,   28.55,   30.  ,\n",
        "         31.45,   32.9 ,   34.35,   35.8 ,   37.25,   38.7 ,   40.15,\n",
        "         41.6 ,   43.05,   44.5 ,   45.95,   47.4 ,   48.85,   50.3 ,\n",
        "         51.75,   53.2 ,   54.65,   56.1 ,   57.55,   59.  ,   60.45,\n",
        "         61.9 ,   63.35,   64.8 ,   66.25,   67.7 ,   69.15,   70.6 ,\n",
        "         72.05,   73.5 ,   74.95,   76.4 ,   77.85,   79.3 ,   80.75,\n",
        "         82.2 ,   83.65,   85.1 ,   86.55,   88.  ,   89.45,   90.9 ,\n",
        "         92.35,   93.8 ,   95.25,   96.7 ,   98.15,   99.6 ,  101.05,\n",
        "        102.5 ,  103.95,  105.4 ,  106.85,  108.3 ,  109.75,  111.2 ,\n",
        "        112.65,  114.1 ,  115.55,  117.  ,  118.45,  119.9 ,  121.35,\n",
        "        122.8 ,  124.25,  125.7 ,  127.15,  128.6 ,  130.05,  131.5 ,\n",
        "        132.95,  134.4 ,  135.85,  137.3 ,  138.75,  140.2 ,  141.65,\n",
        "        143.1 ,  144.55,  146.  ]),\n",
        " <a list of 100 Patch objects>)"
       ]
      }
     ],
     "prompt_number": 25
    },
    {
     "cell_type": "code",
     "collapsed": false,
     "input": [
      "figure(2)    \n",
      "disc = cumfreq(x, numbins=nbins)\n",
      "plot(disc[0]/len(x))\n",
      "show()"
     ],
     "language": "python",
     "metadata": {},
     "outputs": [],
     "prompt_number": 26
    },
    {
     "cell_type": "markdown",
     "metadata": {},
     "source": [
      "Box and Whisker Plots\n",
      "\n",
      "http://matplotlib.sourceforge.net/api/pyplot_api.html#matplotlib.pyplot.boxplot"
     ]
    },
    {
     "cell_type": "code",
     "collapsed": false,
     "input": [
      "boxplot(x, notch=0, sym='+', vert=0, whis=1.5, positions=None, widths=None)\n",
      "show()"
     ],
     "language": "python",
     "metadata": {},
     "outputs": [],
     "prompt_number": 27
    },
    {
     "cell_type": "code",
     "collapsed": false,
     "input": [
      "boxplot(z[:,0], notch=0, sym='+', vert=0, whis=1.5, positions=None, widths=None)\n",
      "show()"
     ],
     "language": "python",
     "metadata": {},
     "outputs": [],
     "prompt_number": 28
    }
   ],
   "metadata": {}
  }
 ]
}