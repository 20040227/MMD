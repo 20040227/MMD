{
 "cells": [
  {
   "cell_type": "markdown",
   "metadata": {},
   "source": [
    "Mestrado em Modelagem Matematica da Informacao\n",
    "----------------------------------------------\n",
    "Disciplina: Modelagem e Mineracao de Dados\n",
    "------------------------------------------\n",
    "\n",
    "Master Program - Mathematical Modeling of Information\n",
    "-----------------------------------------------------\n",
    "Course: Data Mining and Modeling\n",
    "--------------------------------\n",
    "\n",
    "Professor: Renato Rocha Souza"
   ]
  },
  {
   "cell_type": "markdown",
   "metadata": {},
   "source": [
    "### Topic: Advanced Scraping"
   ]
  },
  {
   "cell_type": "markdown",
   "metadata": {},
   "source": [
    "Information on the Python Packages used: \n",
    "\n",
    "https://pypi.python.org/pypi/mechanize/  \n",
    "http://wwwsearch.sourceforge.net/mechanize/  \n",
    "http://www.pythonforbeginners.com/mechanize/browsing-in-python-with-mechanize  \n",
    "http://www.pythonforbeginners.com/cheatsheet/python-mechanize-cheat-sheet  \n",
    "http://www.seleniumhq.org/  \n",
    "http://stackoverflow.com/questions/8255929/running-webdriver-chrome-with-selenium  \n",
    "https://pypi.python.org/pypi/PyVirtualDisplay  \n",
    "http://coreygoldberg.blogspot.com.br/2011/06/python-headless-selenium-webdriver.html  "
   ]
  },
  {
   "cell_type": "code",
   "execution_count": 27,
   "metadata": {
    "collapsed": false
   },
   "outputs": [],
   "source": [
    "import re\n",
    "import json\n",
    "import os\n",
    "import urllib \n",
    "import urllib2\n",
    "import requests\n",
    "import mechanize\n",
    "from selenium import webdriver\n",
    "from selenium.webdriver.common.keys import Keys\n",
    "#from pyvirtualdisplay import Display"
   ]
  },
  {
   "cell_type": "code",
   "execution_count": 2,
   "metadata": {
    "collapsed": false
   },
   "outputs": [],
   "source": [
    "# Browser\n",
    "br = mechanize.Browser()\n",
    "\n",
    "# User-Agent (this is cheating, ok?)\n",
    "br.addheaders = [('User-agent', \n",
    "                  'Mozilla/5.0 (X11; U; Linux i686; en-US; rv:1.9.0.1) Gecko/2008071615 Fedora/3.0.1-1.fc9 Firefox/3.0.1')]"
   ]
  },
  {
   "cell_type": "code",
   "execution_count": 3,
   "metadata": {
    "collapsed": false
   },
   "outputs": [
    {
     "name": "stdout",
     "output_type": "stream",
     "text": [
      "One Hundred Years of Solitude: Gabriel Garcia Marquez: 9780061120091: Amazon.com: Books\n"
     ]
    }
   ],
   "source": [
    "url='http://www.amazon.com/Hundred-Solitude-Gabriel-Garcia-Marquez/dp/006112009X/'\n",
    "\n",
    "# fetch the page\n",
    "response = br.open(url)\n",
    "print br.title()"
   ]
  },
  {
   "cell_type": "code",
   "execution_count": 4,
   "metadata": {
    "collapsed": false
   },
   "outputs": [
    {
     "name": "stdout",
     "output_type": "stream",
     "text": [
      "http://www.amazon.com/Hundred-Solitude-Gabriel-Garcia-Marquez/dp/006112009X/\n"
     ]
    }
   ],
   "source": [
    "print response.geturl() # the URL the browser is currently at"
   ]
  },
  {
   "cell_type": "code",
   "execution_count": 5,
   "metadata": {
    "collapsed": false
   },
   "outputs": [
    {
     "name": "stdout",
     "output_type": "stream",
     "text": [
      "Date: Tue, 09 Dec 2014 18:53:43 GMT\r\n",
      "Server: Server\r\n",
      "pragma: no-cache\r\n",
      "x-amz-id-1: 04V58AT585DPCEKQV8SK\r\n",
      "p3p: policyref=\"http://www.amazon.com/w3c/p3p.xml\",CP=\"CAO DSP LAW CUR ADM IVAo IVDo CONo OTPo OUR DELi PUBi OTRi BUS PHY ONL UNI PUR FIN COM NAV INT DEM CNT STA HEA PRE LOC GOV OTC \"\r\n",
      "x-sap-pg: book_display_on_website\r\n",
      "cache-control: no-cache\r\n",
      "x-frame-options: SAMEORIGIN\r\n",
      "expires: -1\r\n",
      "x-amz-id-2: crP8ssRSi3e1wYiTtivcIIdMuverjVGFnx/Z9CRVSsEjuXLvfnbGjsVe594nm8ZN\r\n",
      "x-ua-compatible: IE=edge\r\n",
      "Vary: Accept-Encoding,User-Agent\r\n",
      "Content-Type: text/html; charset=UTF-8\r\n",
      "Set-cookie: x-wl-uid=1SZijsUGCAaiDlWZl/q15ZfLl/mJR1uiyZjA78HXu5nHP6IzEkh6BwqGhWVk3l2q63rpcTT5eVzU=; path=/; domain=.amazon.com; expires=Tue, 01-Jan-2036 08:00:01 GMT\r\n",
      "Set-cookie: session-id-time=2082787201l; path=/; domain=.amazon.com; expires=Tue, 01-Jan-2036 08:00:01 GMT\r\n",
      "Set-cookie: session-id=182-1492422-7064656; path=/; domain=.amazon.com; expires=Tue, 01-Jan-2036 08:00:01 GMT\r\n",
      "Transfer-Encoding: chunked\r\n",
      "\n"
     ]
    }
   ],
   "source": [
    "print response.info() # HTML headers "
   ]
  },
  {
   "cell_type": "code",
   "execution_count": 6,
   "metadata": {
    "collapsed": false
   },
   "outputs": [
    {
     "name": "stdout",
     "output_type": "stream",
     "text": [
      "Review Page:\n",
      "Amazon.com: Gabriel Garcia Marquez: Books, Biography, Blog, Audiobooks, Kindle\n",
      "http://www.amazon.com/Gabriel-Garcia-Marquez/e/B000AQ1JWC/ref=dp_byline_cont_pop_book_1\n"
     ]
    }
   ],
   "source": [
    "response = br.follow_link(text_regex=r\"Gabriel Garcia Marquez\")\n",
    "print \"Review Page:\"\n",
    "print br.title()\n",
    "print response.geturl() # the URL the browser is currently at"
   ]
  },
  {
   "cell_type": "markdown",
   "metadata": {},
   "source": [
    "If you need to fill out and submit Web Forms, mechanize [is particularly useful](http://wwwsearch.sourceforge.net/mechanize/forms.html):"
   ]
  },
  {
   "cell_type": "code",
   "execution_count": 7,
   "metadata": {
    "collapsed": false
   },
   "outputs": [
    {
     "name": "stdout",
     "output_type": "stream",
     "text": [
      "Amazon.com: Gabriel Garcia Marquez: Books\n",
      "http://www.amazon.com/s/ref=nb_sb_noss?url=search-alias%3Dstripbooks&field-keywords=Gabriel+Garcia+Marquez\n"
     ]
    }
   ],
   "source": [
    "br.select_form(name=\"site-search\") # select the form\n",
    "form = br.form # put it in a variable to make it easier to work with\n",
    "\n",
    "form['url'] = ['search-alias=stripbooks']\n",
    "form['field-keywords'] = 'Gabriel Garcia Marquez'\n",
    "br.submit()\n",
    "\n",
    "print br.title()\n",
    "print br.geturl()"
   ]
  },
  {
   "cell_type": "markdown",
   "metadata": {},
   "source": [
    "Some options that can come in handy:\n",
    "\n",
    "    # Browser options\n",
    "    br.set_proxies({\"http\": \"joe:password@myproxy.example.com:3128\"}) # if you need to go through a proxy\n",
    "    br.set_handle_redirect(True)\n",
    "    br.set_handle_referer(True)\n",
    "    br.set_handle_robots(False) # some pages do not want to be scraped (http://www.robotstxt.org/robotstxt.html)\n",
    "\n",
    "    # Follows refresh 0 but not hangs on refresh > 0\n",
    "    br.set_handle_refresh(mechanize._http.HTTPRefreshProcessor(), max_time=1)\n",
    "\n",
    "    # Want debugging messages?\n",
    "    br.set_debug_http(False)\n",
    "    br.set_debug_redirects(False)\n",
    "    br.set_debug_responses(False)"
   ]
  },
  {
   "cell_type": "markdown",
   "metadata": {},
   "source": [
    "Which brings us to another way of submitting (some) forms: directly through a URL. \n",
    "\n",
    "Lets [break down](http://www.mattcutts.com/blog/seo-glossary-url-definitions/): [http://www.amazon.com/s/ref=nb_sb_noss?url=search-alias%3Dstripbooks&field-keywords=Gabriel+Garcia+Marquez](http://www.amazon.com/s/ref=nb_sb_noss?url=search-alias%3Dstripbooks&field-keywords=Gabriel+Garcia+Marquez)\n",
    "\n",
    "You use them everyday, now it is time to understand the parts: \n",
    "\n",
    "* `http://` is the \"protocol\". [http](http://en.wikipedia.org/wiki/Http) is the standard one, you will also see [https](http://en.wikipedia.org/wiki/Https) which is the \"secure\" one\n",
    "* `www.amazon.com` is the [domain name](http://en.wikipedia.org/wiki/Domain_name). It can have more parts, but it is everything before the first `/`\n",
    "* `s/ref=nb_sb_noss` is the path. It is not typical to have =, but acceptable. This specifies the page within the domain name. It can/be/many/parts/. It is everything between the first / and the first ?\n",
    "* `url=search-alias%3Dstripbooks&field-keywords=Gabriel+Garcia+Marquez` are the query parameters. Basically the results of form submissions. \n",
    "\n",
    "Lets look at the parameters in more detail: \n",
    "\n",
    "* parameters are separated by `&`, so we have: \n",
    " * url=search-alias%3Dstripbooks\n",
    " * field-keywords=Gabriel+Garcia+Marquez\n",
    "* parameter names are preceded by an `=`, so we have: \n",
    " * url\n",
    " * field-keywords\n",
    "* parameter values are \"url escaped\" (sometimes known as [percent encoding](http://en.wikipedia.org/wiki/Url_escape))\n",
    " * search-alias%3Dstripbooks => search-alias=stripbooks (this allows you to have = and other special symbols)\n",
    " * Gabriel+Garcia+Marquez (sometimes Gabriel%20Garcia%20Marquez) => Gabriel Garcia Marquez\n",
    "\n",
    "Fortunately, you can get python to figure it all out for you: "
   ]
  },
  {
   "cell_type": "code",
   "execution_count": 8,
   "metadata": {
    "collapsed": false
   },
   "outputs": [
    {
     "name": "stdout",
     "output_type": "stream",
     "text": [
      "url=search-alias%3Dstripbooks&field-keywords=Vargas+Losa\n"
     ]
    }
   ],
   "source": [
    "# make a dictionary of your parameters\n",
    "params = {'url': 'search-alias=stripbooks', 'field-keywords': 'Vargas Losa'}\n",
    "print urllib.urlencode(params)"
   ]
  },
  {
   "cell_type": "code",
   "execution_count": 9,
   "metadata": {
    "collapsed": false
   },
   "outputs": [
    {
     "name": "stdout",
     "output_type": "stream",
     "text": [
      "http://www.amazon.com/s/ref=nb_sb_noss?url=search-alias%3Dstripbooks&field-keywords=Vargas+Losa\n"
     ]
    }
   ],
   "source": [
    "# put it together with the rest of the URL\n",
    "url = 'http://www.amazon.com/s/ref=nb_sb_noss' + '?' + urllib.urlencode(params)\n",
    "print url"
   ]
  },
  {
   "cell_type": "markdown",
   "metadata": {},
   "source": [
    "**Exercise 1:**\n",
    "\n",
    "Write a loop that follows the \"next\" link 10 times. \n",
    "\n",
    "_Hint:_ Spend some time reading through the examples on the [Mechanize Homepage](http://wwwsearch.sourceforge.net/mechanize/). The documentation is not as thorough as for BeautifulSoup, but there are enough examples on follow links to do this assignment. "
   ]
  },
  {
   "cell_type": "code",
   "execution_count": 10,
   "metadata": {
    "collapsed": false
   },
   "outputs": [],
   "source": [
    "#for i in range(0,10):\n",
    "#    ## your code here\n",
    "#    br.geturl()\n",
    "  \n",
    "# answer: \n",
    "#br.follow_link(url_regex=r'.*btm_link_next_.*')"
   ]
  },
  {
   "cell_type": "markdown",
   "metadata": {},
   "source": [
    "### Working with APIs ###\n",
    "\n",
    "Working with (most) API's is not very different. <b>A</b>pplication <b>P</b>rogramming <b>I</b>nterfaces are basically just websites that return structured data instead of an HTML page. \n",
    "\n",
    "Lets have a look at the [World Bank API](http://data.worldbank.org/node/11). Like most of the APIs you'll ever use, it has a [RESTful API](http://stackoverflow.com/questions/671118/what-exactly-is-restful-programming) and parameter (argument) based endpoints.\n",
    "\n",
    "Again, the only difference with using an API from scraping is that the data comes back in a machine-readable format, not just HTML. The two most common formats are XML and JSON. JSON is actually very similar to the syntax for python dictionaries and there is a [json module](http://docs.python.org/2/library/json.html) to help us convert JSON into python.\n",
    "\n",
    "Lets look at the JSON module:"
   ]
  },
  {
   "cell_type": "code",
   "execution_count": 11,
   "metadata": {
    "collapsed": false
   },
   "outputs": [
    {
     "name": "stdout",
     "output_type": "stream",
     "text": [
      "[{u'per_page': u'50', u'total': 1, u'page': 1, u'pages': 1}, [{u'longitude': u'-47.9292', u'name': u'Brazil', u'region': {u'id': u'LCN', u'value': u'Latin America & Caribbean (all income levels)'}, u'adminregion': {u'id': u'LAC', u'value': u'Latin America & Caribbean (developing only)'}, u'iso2Code': u'BR', u'capitalCity': u'Brasilia', u'latitude': u'-15.7801', u'incomeLevel': {u'id': u'UMC', u'value': u'Upper middle income'}, u'id': u'BRA', u'lendingType': {u'id': u'IBD', u'value': u'IBRD'}}]]\n"
     ]
    }
   ],
   "source": [
    "#api_response = '[{\"page\":1,\"pages\":1,\"per_page\":\"50\",\"total\":1},[{\"id\":\"BRA\",\"iso2Code\":\"BR\",\"name\":\"Brazil\",\"region\":{\"id\":\"LCN\",\"value\":\"Latin America & Caribbean (all income levels)\"},\"adminregion\":{\"id\":\"LAC\",\"value\":\"Latin America & Caribbean (developing only)\"},\"incomeLevel\":{\"id\":\"UMC\",\"value\":\"Upper middle income\"},\"lendingType\":{\"id\":\"IBD\",\"value\":\"IBRD\"},\"capitalCity\":\"Brasilia\",\"longitude\":\"-47.9292\",\"latitude\":\"-15.7801\"}]]'\n",
    "api_response = urllib2.urlopen('http://api.worldbank.org/countries/BRA?format=json').read()\n",
    "\n",
    "# loads (load string) will convert it to a Python object we can use\n",
    "json_response = json.loads(api_response)\n",
    "\n",
    "# we have a list, with a list some lists or dicts inside\n",
    "print json_response"
   ]
  },
  {
   "cell_type": "code",
   "execution_count": 12,
   "metadata": {
    "collapsed": false
   },
   "outputs": [
    {
     "name": "stdout",
     "output_type": "stream",
     "text": [
      "Brasilia\n"
     ]
    }
   ],
   "source": [
    "# we can grab the data we want from our list\n",
    "brazil_data = json_response[1][0]\n",
    "print brazil_data['capitalCity']"
   ]
  },
  {
   "cell_type": "markdown",
   "metadata": {},
   "source": [
    "Example: Use the World Bank API to find the [GNI per Capita](http://data.worldbank.org/indicator/NY.GNP.PCAP.CD/) of Argentina, Brazil, Mexico and Canada"
   ]
  },
  {
   "cell_type": "code",
   "execution_count": 13,
   "metadata": {
    "collapsed": false
   },
   "outputs": [
    {
     "name": "stdout",
     "output_type": "stream",
     "text": [
      "52350\n",
      "11640\n",
      "9720\n",
      "50650\n"
     ]
    }
   ],
   "source": [
    "for country in ['usa', 'bra', 'mex', 'can']:\n",
    "    url = 'http://api.worldbank.org/countries/' + country + '/indicators/NY.GNP.PCAP.CD?date=2012&format=json'\n",
    "    content = urllib2.urlopen(url).read()\n",
    "    response = json.loads(content)\n",
    "    print response[1][0]['value']"
   ]
  },
  {
   "cell_type": "markdown",
   "metadata": {},
   "source": [
    "**Exercise 2:**\n",
    "\n",
    "Get the School enrollment data for the same countries"
   ]
  },
  {
   "cell_type": "markdown",
   "metadata": {},
   "source": [
    "### Time to take a drive"
   ]
  },
  {
   "cell_type": "markdown",
   "metadata": {},
   "source": [
    "The last option for web scraping is to write some code to drive a browser. The easiest option to do that is to use [Selenium](http://www.seleniumhq.org/). Selenium was actually intended to help do automated testing of Websites, but it works well for our purposes. \n",
    "\n",
    "While everything we've seen so far could be put on a server to run and only requires python, Selenium will require your actual browser. It will use the browser itself to fetch and render the pages. \n",
    "\n",
    "This is a great option in two scenarios: \n",
    "\n",
    "1. If the page you want to parse requires a lot of javascript or something else that does not let urllib or mechanize to work with the page. Some sites do this on purpose to prevent scraping. \n",
    "2. If you have to do a lot of navigating around a page to get to the information you want to scrape"
   ]
  },
  {
   "cell_type": "code",
   "execution_count": 14,
   "metadata": {
    "collapsed": false
   },
   "outputs": [],
   "source": [
    "#Choosing your browser:\n",
    "\n",
    "# iPhone\n",
    "#driver = webdriver.Remote(browser_name=\"iphone\", command_executor='http://172.24.101.36:3001/hub')\n",
    " \n",
    "# Android\n",
    "#driver = webdriver.Remote(browser_name=\"android\", command_executor='http://127.0.0.1:8080/hub')\n",
    " \n",
    "# Google Chrome \n",
    "#driver = webdriver.Chrome()\n",
    " \n",
    "# Firefox \n",
    "driver = webdriver.Firefox()"
   ]
  },
  {
   "cell_type": "code",
   "execution_count": 15,
   "metadata": {
    "collapsed": false
   },
   "outputs": [
    {
     "name": "stdout",
     "output_type": "stream",
     "text": [
      "Google\n"
     ]
    }
   ],
   "source": [
    "driver.get(\"http://www.google.com\")\n",
    "print driver.title"
   ]
  },
  {
   "cell_type": "code",
   "execution_count": 16,
   "metadata": {
    "collapsed": false
   },
   "outputs": [
    {
     "name": "stdout",
     "output_type": "stream",
     "text": [
      "<!DOCTYPE html>\n",
      "<html xmlns=\"http://www.w3.org/1999/xhtml\" lang=\"pt\" itemtype=\"http://schema.org/WebPage\" itemscope=\"\"><head><meta itemprop=\"image\" content=\"/images/google_favicon_128.png\" /><title>Google</title>   <script src=\"https://apis.google.com/_/scs/abc-static/_/js/k=gapi.gapi.en.edEzvWMtWYM.O/m=gapi_iframes,googleapis_client,plusone/rt=j/sv=1/d=1/ed=1/rs=AItRSTNodbd3fm2h0vWoq_h0iFXYtPUsXw/cb=gapi.loaded_0\" async=\"\"></script><script>(function(){window.google={kEI:'U0WHVL_bDsiqgwSShIOwCw',kEXPI:'3700301,4011550,4011552,4011557,4011559,4013920,4014789,4016824,4017578,4020346,4020562,4021073,4021587,4021597,4023217,4023567,4023678,4023709,4025182,4025285,4025828,4025836,4026125,8500394,8500852,8500882,10200083,10200716,10200828,10200835,10200844,10200882',authuser:0,j:{en:1,bv:21,pm:'p',u:'c9c918f0',qbp:0,rre:false},kSID:'U0WHVL_bDsiqgwSShIOwCw'};google.kHL='pt';})();(function(){google.lc=[];google.li=0;google.getEI=function(a){for(var b;a&amp;&amp;(!a.getAttribute||!(b=a.getAttribute(\"eid\")));)a=a.parentNode;return b||google.kEI};google.https=function(){return\"https:\"==window.location.protocol};google.ml=function(){};google.time=function(){return(new Date).getTime()};google.log=function(a,b,d,e,k){var c=new Image,h=google.lc,f=google.li,g=\"\",l=google.ls||\"\";c.onerror=c.onload=c.onabort=function(){delete h[f]};h[f]=c;d||-1!=b.search(\"&amp;ei=\")||(e=google.getEI(e),g=\"&amp;ei=\"+e,e!=google.kEI&amp;&amp;(g+=\"&amp;lei=\"+google.kEI));a=d||\"/\"+(k||\"gen_204\")+\"?atyp=i&amp;ct=\"+a+\"&amp;cad=\"+b+g+l+\"&amp;zx=\"+google.time();/^http:/i.test(a)&amp;&amp;google.https()?(google.ml(Error(\"a\"),!1,{src:a,glmm:1}),delete h[f]):(c.src=a,google.li=f+1)};google.y={};google.x=function(a,b){google.y[a.id]=[a,b];return!1};google.load=function(a,b,d){google.x({id:a+m++},function(){google.load(a,b,d)})};var m=0;})();google.kCSI={};\n",
      "google.j.b=(!!location.hash&amp;&amp;!!location.hash.match('[#&amp;]((q|fp)=|tbs=rimg|tbs=simg|tbs=sbi)'))\n",
      "||(google.j.qbp==1);(function(){google.sn=\"webhp\";google.timers={};google.startTick=function(a,b){google.timers[a]={t:{start:google.time()},bfr:!!b};window.performance&amp;&amp;window.performance.now&amp;&amp;(google.timers[a].wsrt=Math.floor(window.performance.now()))};google.tick=function(a,b,c){google.timers[a]||google.startTick(a);google.timers[a].t[b]=c||google.time()};google.startTick(\"load\",!0);\n",
      "google.aft=function(a,b,c){};\n",
      "try{google.pt=window.gtbExternal&amp;&amp;window.gtbExternal.pageT();}catch(d){};})();\n",
      "(function(){'use strict';var f=this,g=Date.now||function(){return+new Date};var t=function(b,e){if(null===e)return!1;if(\"contains\"in b&amp;&amp;1==e.nodeType)return b.contains(e);if(\"compareDocumentPosition\"in b)return b==e||Boolean(b.compareDocumentPosition(e)&amp;16);for(;e&amp;&amp;b!=e;)e=e.parentNode;return e==b};var aa=function(b,e){return function(a){a||(a=window.event);return e.call(b,a)}},v=function(b){b=b.target||b.srcElement;!b.getAttribute&amp;&amp;b.parentNode&amp;&amp;(b=b.parentNode);return b},w=\"undefined\"!=typeof navigator&amp;&amp;/Macintosh/.test(navigator.userAgent),ba=\"undefined\"!=typeof navigator&amp;&amp;!/Opera/.test(navigator.userAgent)&amp;&amp;/WebKit/.test(navigator.userAgent),ca=function(b){var e=b.which||b.keyCode||b.key;ba&amp;&amp;3==e&amp;&amp;(e=13);if(13!=e&amp;&amp;32!=e)return!1;var a=v(b),c=(a.getAttribute(\"role\")||a.type||a.tagName).toUpperCase(),d;(d=\"keydown\"!=b.type)||(\"getAttribute\"in a?(d=(a.getAttribute(\"role\")||a.type||a.tagName).toUpperCase(),d=\"TEXT\"!=d&amp;&amp;\"TEXTAREA\"!=d&amp;&amp;\"PASSWORD\"!=d&amp;&amp;\"SEARCH\"!=d&amp;&amp;(\"COMBOBOX\"!=\n",
      "d||\"INPUT\"!=a.tagName.toUpperCase())&amp;&amp;!a.isContentEditable):d=!1,d=!d);if(d||b.ctrlKey||b.shiftKey||b.altKey||b.metaKey||\"INPUT\"==a.tagName.toUpperCase()&amp;&amp;a.type&amp;&amp;a.type.toUpperCase()in x&amp;&amp;32==e)return!1;if(b.originalTarget&amp;&amp;b.originalTarget!=a)return!0;b=\"INPUT\"!=a.tagName.toUpperCase()||a.type;a=!(c in z)&amp;&amp;13==e;return(0==z[c]%e||a)&amp;&amp;!!b},z={A:13,BUTTON:0,CHECKBOX:32,COMBOBOX:13,LINK:13,LISTBOX:13,MENU:0,MENUBAR:0,MENUITEM:0,MENUITEMCHECKBOX:0,MENUITEMRADIO:0,OPTION:13,RADIO:32,RADIOGROUP:32,RESET:0,SUBMIT:0,TAB:0,TABLIST:0,TREE:13,TREEITEM:13},x={CHECKBOX:1,OPTION:1,RADIO:1};var A=function(){this.o=this.i=null},C=function(b,e){var a=B;a.i=b;a.o=e;return a};A.prototype.k=function(){var b=this.i;this.i&amp;&amp;this.i!=this.o?this.i=this.i.__owner||this.i.parentNode:this.i=null;return b};var E=function(){this.p=[];this.i=0;this.o=null;this.s=!1};E.prototype.k=function(){if(this.s)return B.k();if(this.i!=this.p.length){var b=this.p[this.i];this.i++;b!=this.o&amp;&amp;b&amp;&amp;b.__owner&amp;&amp;(this.s=!0,C(b.__owner,this.o));return b}return null};var B=new A,F=new E;var H=function(){this.w=[];this.i=[];this.o=[];this.s={};this.k=null;this.p=[];G(this,\"_custom\")},da=\"undefined\"!=typeof navigator&amp;&amp;/iPhone|iPad|iPod/.test(navigator.userAgent),ea=/\\s*;\\s*/,ha=function(b,e){return function(a){var c=e;if(\"_custom\"==c){c=a.detail;if(!c||!c._type)return;c=c._type}var d;var h=c;\"click\"==h&amp;&amp;(w&amp;&amp;a.metaKey||!w&amp;&amp;a.ctrlKey||2==a.which||null==a.which&amp;&amp;4==a.button||a.shiftKey)?h=\"clickmod\":ca(a)&amp;&amp;(h=\"clickkey\");var k=a.srcElement||a.target,c=I(h,a,k,\"\",null),l,n;a.path?(F.p=a.path,F.i=0,F.o=this,F.s=!1,n=F):n=C(k,this);for(var p;p=n.k();){var q=d=p;l=h;p=q.__jsaction;if(!p){p=\n",
      "{};q.__jsaction=p;var r=void 0,r=null;\"getAttribute\"in q&amp;&amp;(r=q.getAttribute(\"jsaction\"));if(r)for(var q=r.split(ea),r=0,fa=q?q.length:0;r&lt;fa;r++){var u=q[r];if(u){var D=u.indexOf(\":\"),S=-1!=D,ga=S?u.substr(0,D).replace(/^\\s+/,\"\").replace(/\\s+$/,\"\"):\"click\",u=S?u.substr(D+1).replace(/^\\s+/,\"\").replace(/\\s+$/,\"\"):u;p[ga]=u}}}\"clickkey\"==l?l=\"click\":\"click\"!=l||p.click||(l=\"clickonly\");l={v:l,action:p[l]||\"\",event:null,C:!1};c=I(l.v,l.event||a,k,l.action||\"\",d,c.timeStamp);if(l.C||l.action)break}if(l&amp;&amp;\n",
      "l.action){if(k=\"clickkey\"==h)k=v(a),k=(k.type||k.tagName).toUpperCase(),(k=32==(a.which||a.keyCode||a.key)&amp;&amp;\"CHECKBOX\"!=k)||(n=v(a),k=(n.getAttribute(\"role\")||n.tagName).toUpperCase(),n=n.type,k=\"BUTTON\"==k||!!n&amp;&amp;!(n.toUpperCase()in x));k&amp;&amp;(a.preventDefault?a.preventDefault():a.returnValue=!1);if(\"mouseenter\"==h||\"mouseleave\"==h)if(k=a.relatedTarget,!(\"mouseover\"==a.type&amp;&amp;\"mouseenter\"==h||\"mouseout\"==a.type&amp;&amp;\"mouseleave\"==h)||k&amp;&amp;(k===d||t(d,k)))c.action=\"\",c.actionElement=null;else{var h={},m;for(m in a)\"function\"!==\n",
      "typeof a[m]&amp;&amp;\"srcElement\"!==m&amp;&amp;\"target\"!==m&amp;&amp;(h[m]=a[m]);h.type=\"mouseover\"==a.type?\"mouseenter\":\"mouseleave\";h.target=h.srcElement=d;h.bubbles=!1;c.event=h;c.targetElement=d}}else c.action=\"\",c.actionElement=null;d=c;b.k&amp;&amp;(m=I(d.eventType,d.event,d.targetElement,d.action,d.actionElement,d.timeStamp),\"clickonly\"==m.eventType&amp;&amp;(m.eventType=\"click\"),b.k(m,!0));if(d.actionElement)if(\"A\"!=d.actionElement.tagName||\"click\"!=d.eventType&amp;&amp;\"clickmod\"!=d.eventType||(a.preventDefault?a.preventDefault():a.returnValue=\n",
      "!1),b.k)b.k(d);else{var y;if((m=f.document)&amp;&amp;!m.createEvent&amp;&amp;m.createEventObject)try{y=m.createEventObject(a)}catch(ka){y=a}else y=a;d.event=y;b.p.push(d)}}},I=function(b,e,a,c,d,h){return{eventType:b,event:e,targetElement:a,action:c,actionElement:d,timeStamp:h||g()}},ia=function(b,e){return function(a){var c=b,d=e,h=!1;\"mouseenter\"==c?c=\"mouseover\":\"mouseleave\"==c&amp;&amp;(c=\"mouseout\");if(a.addEventListener){if(\"focus\"==c||\"blur\"==c||\"error\"==c||\"load\"==c)h=!0;a.addEventListener(c,d,h)}else a.attachEvent&amp;&amp;(\"focus\"==c?c=\"focusin\":\"blur\"==c&amp;&amp;(c=\"focusout\"),d=aa(a,d),a.attachEvent(\"on\"+c,d));return{v:c,B:d,D:h}}},G=function(b,e){if(!b.s.hasOwnProperty(e)){var a=ha(b,e),c=ia(e,a);b.s[e]=a;b.w.push(c);for(a=0;a&lt;b.i.length;++a){var d=b.i[a];d.k.push(c.call(null,d.i))}\"click\"==e&amp;&amp;G(b,\"keydown\")}};H.prototype.B=function(b){return this.s[b]};var K=function(b){var e=J,a=b.i;da&amp;&amp;(a.style.cursor=\"pointer\");for(a=0;a&lt;e.w.length;++a)b.k.push(e.w[a].call(null,b.i))},L=function(b,e){for(var a=b.i,c=e;a!=c&amp;&amp;c.parentNode;)c=c.parentNode;return a==c},N=function(){for(var b=M,e=ja,a=0;a&lt;e.length;++a)if(e[a].i!=b.i&amp;&amp;L(e[a],b.i))return!0;return!1};var J=new H,O=window.document.documentElement,P=new function(b){this.i=b;this.k=[]}(O),Q;e:{for(var R=0;R&lt;J.i.length;R++)if(L(J.i[R],O)){Q=!0;break e}Q=!1}if(Q)J.o.push(P);else{K(P);J.i.push(P);for(var ja=J.o.concat(J.i),T=[],U=[],V=0;V&lt;J.i.length;++V){var M=J.i[V];if(N()){T.push(M);for(var W=M,X=0;X&lt;W.k.length;++X){var Y=W.i,Z=W.k[X];Y.removeEventListener?Y.removeEventListener(Z.v,Z.B,Z.D):Y.detachEvent&amp;&amp;Y.detachEvent(\"on\"+Z.v,Z.B)}W.k=[]}else U.push(M)}for(V=0;V&lt;J.o.length;++V)M=J.o[V],N()?T.push(M):(U.push(M),K(M));J.i=U;J.o=T}G(J,\"click\");G(J,\"focus\");G(J,\"focusin\");G(J,\"blur\");G(J,\"focusout\");G(J,\"error\");G(J,\"load\");G(J,\"change\");G(J,\"dblclick\");G(J,\"input\");G(J,\"keyup\");G(J,\"keydown\");G(J,\"keypress\");G(J,\"mousedown\");G(J,\"mouseenter\");G(J,\"mouseleave\");G(J,\"mouseout\");G(J,\"mouseover\");G(J,\"mouseup\");G(J,\"touchstart\");G(J,\"touchend\");G(J,\"touchcancel\");G(J,\"speech\");window.google.jsad=function(b){J.k=b;J.p&amp;&amp;(0&lt;J.p.length&amp;&amp;b(J.p),J.p=null)};}).call(window);(function(){'use strict';var f=this,g=function(d,e){var b=d.split(\".\"),a=f;b[0]in a||!a.execScript||a.execScript(\"var \"+b[0]);for(var c;b.length&amp;&amp;(c=b.shift());)b.length||void 0===e?a[c]?a=a[c]:a=a[c]={}:a[c]=e};var h=[];g(\"google.jsc.xx\",h);g(\"google.jsc.x\",function(d){h.push(d)});}).call(window);google.arwt=function(a){a.href=document.getElementById(a.id.substring(1)).href;return!0};</script><style>[dir='ltr'],[dir='rtl']{unicode-bidi:-moz-isolate;unicode-bidi:isolate}bdo[dir='ltr'],bdo[dir='rtl']{unicode-bidi:bidi-override;unicode-bidi:-moz-isolate-override;unicode-bidi:isolate-override}#cnt{padding-top:0;position:relative}#subform_ctrl{min-height:13px}.gb_d .gbqfi::before{left:-56px;top:-35px}.gb_D .gbqfb:focus .gbqfi{outline:1px dotted #fff}@-moz-keyframes gb__a{0%{opacity:0}50%{opacity:1}}@keyframes gb__a{0%{opacity:0}50%{opacity:1}}#gb#gb a.gb_e,#gb#gb a.gb_f{color:#404040;text-decoration:none}#gb#gb a.gb_f:hover,#gb#gb a.gb_f:focus{color:#000;text-decoration:underline}.gb_g.gb_h{display:none;padding-left:15px;vertical-align:middle}.gb_g.gb_h:first-child{padding-left:0}.gb_i.gb_h{display:inline-block;flex:0 1 auto;flex:0 1 main-size;display:-webkit-flex;display:flex}.gb_j .gb_i{display:none}.gb_g .gb_f{display:inline-block;line-height:24px;outline:none;vertical-align:middle}.gb_i .gb_f{min-width:60px;overflow:hidden;flex:0 1 auto;flex:0 1 main-size;text-overflow:ellipsis}.gb_k .gb_i .gb_f{min-width:0}.gb_l .gb_i .gb_f{width:0!important}.gb_m .gb_f{font-weight:bold;text-shadow:0 1px 1px rgba(255,255,255,.9)}.gb_n .gb_f{font-weight:bold;text-shadow:0 1px 1px rgba(0,0,0,.6)}#gb#gb.gb_n a.gb_f{color:#fff}.gb_B .gb_C{background-position:-326px -52px;opacity:.55}.gb_m .gb_B .gb_C{background-position:-97px -57px;opacity:.7}.gb_n .gb_B .gb_C{background-position:-214px 0;opacity:1}.gb_Nc{left:0;min-width:1152px;position:absolute;top:0;-moz-user-select:-moz-none;width:100%}.gb_Ub{font:13px/27px Arial,sans-serif;position:relative;height:60px;width:100%}.gb_aa .gb_Ub{height:28px}#gba{height:60px}#gba.gb_aa{height:28px}#gba.gb_Oc{height:90px}#gba.gb_Oc.gb_aa{height:58px}.gb_Ub&gt;.gb_h{height:60px;line-height:58px;vertical-align:middle}.gb_aa .gb_Ub&gt;.gb_h{height:28px;line-height:26px}.gb_Ub::before{background:#e5e5e5;bottom:0;content:'';display:none;height:1px;left:0;position:absolute;right:0}.gb_Ub{background:#f1f1f1}.gb_Pc .gb_Ub{background:#fff}.gb_Pc .gb_Ub::before,.gb_aa .gb_Ub::before{display:none}.gb_m .gb_Ub,.gb_n .gb_Ub,.gb_aa .gb_Ub{background:transparent}.gb_m .gb_Ub::before{background:#e1e1e1;background:rgba(0,0,0,.12)}.gb_n .gb_Ub::before{background:#333;background:rgba(255,255,255,.2)}.gb_h{display:inline-block;flex:0 0 auto;flex:0 0 main-size}.gb_h.gb_Qc{float:right;order:1}.gb_Rc{white-space:nowrap;display:-webkit-flex;display:flex;margin-left:0!important;margin-right:0!important}.gb_h{margin-left:0!important;margin-right:0!important}.gb_Sa{background-image:url('//ssl.gstatic.com/gb/images/i1_71651352.png');background-size:356px 144px}@media (min-resolution:1.25dppx),(-webkit-min-device-pixel-ratio:1.25),(min-device-pixel-ratio:1.25){.gb_Sa{background-image:url('//ssl.gstatic.com/gb/images/i2_9ef0f6fa.png')}}.gb_jb{display:inline-block;padding:0 0 0 15px;vertical-align:middle}.gb_jb:first-child,#gbsfw:first-child+.gb_jb{padding-left:0}.gb_Xa{position:relative}.gb_C{display:inline-block;outline:none;vertical-align:middle;-moz-border-radius:2px;border-radius:2px;-moz-box-sizing:border-box;box-sizing:border-box;height:30px;width:30px}#gb#gb a.gb_C{color:#404040;cursor:default;text-decoration:none}#gb#gb a.gb_C:hover,#gb#gb a.gb_C:focus{color:#000}.gb_ia{border-color:transparent;border-bottom-color:#fff;border-style:dashed dashed solid;border-width:0 8.5px 8.5px;display:none;position:absolute;left:6.5px;top:37px;z-index:1;height:0;width:0;-moz-animation:gb__a .2s;animation:gb__a .2s}.gb_ja{border-color:transparent;border-style:dashed dashed solid;border-width:0 8.5px 8.5px;display:none;position:absolute;left:6.5px;z-index:1;height:0;width:0;-moz-animation:gb__a .2s;animation:gb__a .2s;border-bottom-color:#ccc;border-bottom-color:rgba(0,0,0,.2);top:36px}x:-o-prefocus,div.gb_ja{border-bottom-color:#ccc}.gb_F{background:#fff;border:1px solid #ccc;border-color:rgba(0,0,0,.2);box-shadow:0 2px 10px rgba(0,0,0,.2);display:none;outline:none;overflow:hidden;position:absolute;right:0;top:44px;-moz-animation:gb__a .2s;animation:gb__a .2s;-moz-border-radius:2px;border-radius:2px;-moz-user-select:text}.gb_jb.gb_Ka .gb_ia,.gb_jb.gb_Ka .gb_ja,.gb_jb.gb_Ka .gb_F{display:block}.gb_fc{position:absolute;right:0;top:44px;z-index:-1}.gb_aa .gb_ia,.gb_aa .gb_ja,.gb_aa .gb_F{margin-top:-10px}.gb_6{background-size:32px 32px;border-radius:50%;display:block;margin:-1px;height:32px;width:32px}.gb_6:hover,.gb_6:focus{-moz-box-shadow:0 1px 0 rgba(0,0,0,.15);box-shadow:0 1px 0 rgba(0,0,0,.15)}.gb_6:active{-moz-box-shadow:inset 0 2px 0 rgba(0,0,0,.15);box-shadow:inset 0 2px 0 rgba(0,0,0,.15)}.gb_6:active::after{background:rgba(0,0,0,.1);border-radius:50%;content:'';display:block;height:100%}.gb_7:not(.gb_d) .gb_6::before,.gb_7:not(.gb_d) .gb_8::before{content:none}.gb_9{cursor:pointer;line-height:30px;min-width:30px;overflow:hidden;vertical-align:middle;width:auto;text-overflow:ellipsis}.gb_aa .gb_9,.gb_aa .gb_ba{line-height:26px}#gb#gb.gb_aa a.gb_9,.gb_aa .gb_ba{color:#666;font-size:11px;height:auto}#gb#gb.gb_aa a.gb_9:hover,#gb#gb.gb_aa a.gb_9:focus{color:#000}.gb_ca{border-top:4px solid #404040;border-left:4px dashed transparent;border-right:4px dashed transparent;display:inline-block;margin-left:6px;vertical-align:middle}.gb_aa .gb_ca{border-top-color:#999}.gb_da:hover .gb_ca{border-top-color:#000}.gb_m .gb_9{font-weight:bold;text-shadow:0 1px 1px rgba(255,255,255,.9)}.gb_n .gb_9{font-weight:bold;text-shadow:0 1px 1px rgba(0,0,0,.6)}#gb#gb.gb_n.gb_n a.gb_9{color:#fff}.gb_n.gb_n .gb_ca{border-top-color:#fff}.gb_m .gb_6,.gb_n .gb_6{-moz-box-shadow:0 1px 2px rgba(0,0,0,.2);box-shadow:0 1px 2px rgba(0,0,0,.2)}.gb_m .gb_6:hover,.gb_n .gb_6:hover,.gb_m .gb_6:focus,.gb_n .gb_6:focus{-moz-box-shadow:0 1px 0 rgba(0,0,0,.15),0 1px 2px rgba(0,0,0,.2);box-shadow:0 1px 0 rgba(0,0,0,.15),0 1px 2px rgba(0,0,0,.2)}.gb_ea .gb_fa,.gb_ga .gb_fa{position:absolute;right:1px}.gb_fa.gb_h,.gb_ha.gb_h,.gb_da.gb_h{flex:0 1 auto;flex:0 1 main-size}.gb_7.gb_l .gb_9{width:30px!important}.gb_Vb{display:none!important}.gb_X{background:#f8f8f8;border:1px solid #c6c6c6;display:inline-block;line-height:28px;padding:0 12px;-moz-border-radius:2px;border-radius:2px}#gb a.gb_X.gb_X{color:#666;cursor:default;text-decoration:none}.gb_Z{border:1px solid #4285f4;font-weight:bold;outline:none;background:#4285f4;background:-moz-linear-gradient(top,#4387fd,#4683ea);background:linear-gradient(top,#4387fd,#4683ea);filter:progid:DXImageTransform.Microsoft.gradient(startColorstr=#4387fd,endColorstr=#4683ea,GradientType=0)}#gb a.gb_Z.gb_Z{color:#fff}.gb_Z:hover{-moz-box-shadow:0 1px 0 rgba(0,0,0,.15);box-shadow:0 1px 0 rgba(0,0,0,.15)}.gb_Z:active{-moz-box-shadow:inset 0 2px 0 rgba(0,0,0,.15);box-shadow:inset 0 2px 0 rgba(0,0,0,.15);background:#3c78dc;background:-moz-linear-gradient(top,#3c7ae4,#3f76d3);background:linear-gradient(top,#3c7ae4,#3f76d3);filter:progid:DXImageTransform.Microsoft.gradient(startColorstr=#3c7ae4,endColorstr=#3f76d3,GradientType=0)}.gb_0{display:inline-block;line-height:normal;position:relative;z-index:987}#gbsfw{min-width:400px;overflow:visible}.gb_Ja,#gbsfw.gb_Ka{display:block;outline:none}#gbsfw.gb_O iframe{display:none}.gb_La{padding:118px 0;text-align:center}.gb_Ma{background:no-repeat center 0;color:#aaa;font-size:13px;line-height:20px;padding-top:76px;background-image:url('//ssl.gstatic.com/gb/images/a/f5cdd88b65.png')}.gb_Ma a{color:#4285f4;text-decoration:none}.gb_Na{min-width:127px;overflow:hidden;position:relative;z-index:987}.gb_Oa{position:absolute;padding:0 20px 0 15px}.gb_Pa .gb_Oa{right:100%;margin-right:-127px}.gb_Qa{display:inline-block;outline:none;vertical-align:middle}.gb_Ra .gb_Qa{position:relative;top:2px}.gb_Qa .gb_Sa,.gb_Ta{display:block}.gb_Ua{border:none;display:block;visibility:hidden}.gb_Qa .gb_Sa{background-position:0 -105px;height:33px;width:92px}.gb_Ta{background-repeat:no-repeat}.gb_n .gb_Qa .gb_Sa{background-position:-97px -92px;margin:-3px 0 0 -10px;height:52px;width:112px}.gb_m .gb_Qa .gb_Sa{margin:-3px 0 0 -10px;height:52px;width:112px;background-position:-97px 0}@-moz-keyframes gb__nb{0%{-moz-transform:scale(0,0);transform:scale(0,0)}20%{-moz-transform:scale(1.4,1.4);transform:scale(1.4,1.4)}50%{-moz-transform:scale(.8,.8);transform:scale(.8,.8)}85%{-moz-transform:scale(1.1,1.1);transform:scale(1.1,1.1)}to{-moz-transform:scale(1.0,1.0);transform:scale(1.0,1.0)}}@keyframes gb__nb{0%{-moz-transform:scale(0,0);transform:scale(0,0)}20%{-moz-transform:scale(1.4,1.4);transform:scale(1.4,1.4)}50%{-moz-transform:scale(.8,.8);transform:scale(.8,.8)}85%{-moz-transform:scale(1.1,1.1);transform:scale(1.1,1.1)}to{-moz-transform:scale(1.0,1.0);transform:scale(1.0,1.0)}}.gb_Wa .gb_Xa{font-size:14px;font-weight:bold;top:0;right:0}.gb_Wa .gb_C{display:inline-block;vertical-align:middle;-moz-box-sizing:border-box;box-sizing:border-box;height:30px;width:30px}.gb_Za{background-position:-56px 0;opacity:.55;height:100%;width:100%}.gb_C:hover .gb_Za,.gb_C:focus .gb_Za{opacity:.85}.gb_0a .gb_Za{background-position:-291px -103px}.gb_1a{background-color:#cb4437;border-radius:8px;font:bold 11px Arial;color:#fff;line-height:16px;min-width:14px;padding:0 1px;position:absolute;right:0;text-align:center;text-shadow:0 1px 0 rgba(0,0,0,0.1);top:0;visibility:hidden;z-index:990}.gb_2a .gb_1a,.gb_2a .gb_3a,.gb_2a .gb_3a.gb_4a{visibility:visible}.gb_3a{padding:0 2px;visibility:hidden}.gb_Wa:not(.gb_5a) .gb_ja,.gb_Wa:not(.gb_5a) .gb_ia{left:3px}.gb_Wa .gb_ia{border-bottom-color:#e5e5e5}.gb_1a.gb_6a{-moz-animation:gb__nb .6s 1s both ease-in-out;animation:gb__nb .6s 1s both ease-in-out;-moz-perspective-origin:top right;perspective-origin:top right;-moz-transform:scale(1,1);transform:scale(1,1);-moz-transform-origin:top right;transform-origin:top right}.gb_6a .gb_3a{visibility:visible}.gb_7a{background-color:rgba(0,0,0,.55);color:#fff;font-size:12px;font-weight:bold;line-height:20px;margin:5px;padding:0 2px;text-align:center;-moz-box-sizing:border-box;box-sizing:border-box;-moz-border-radius:50%;border-radius:50%;height:20px;width:20px}.gb_7a.gb_8a{background-position:-214px -117px}.gb_7a.gb_9a{background-position:-256px -73px}.gb_C:hover .gb_7a,.gb_C:focus .gb_7a{background-color:rgba(0,0,0,.85)}#gbsfw.gb_ab{background:#e5e5e5;border-color:#ccc}.gb_m .gb_C .gb_Za{background-position:-167px -57px;opacity:.7}.gb_m .gb_0a .gb_Za{background-position:-132px -57px}.gb_m .gb_C:hover .gb_Za,.gb_m .gb_C:focus .gb_Za{opacity:.85}.gb_n .gb_C .gb_Za{background-position:-326px -87px;opacity:1}.gb_n .gb_0a .gb_Za{background-position:0 -70px}.gb_m .gb_1a,.gb_n .gb_1a{border:none;-moz-box-shadow:-1px 1px 1px rgba(0,0,0,.2);box-shadow:-1px 1px 1px rgba(0,0,0,.2)}.gb_m .gb_7a{background-color:rgba(0,0,0,.7);-moz-box-shadow:0 1px 2px rgba(255,255,255,.9);box-shadow:0 1px 2px rgba(255,255,255,.9)}.gb_n .gb_7a.gb_7a{background-color:#fff;color:#404040;-moz-box-shadow:0 1px 2px rgba(0,0,0,.2);box-shadow:0 1px 2px rgba(0,0,0,.2)}.gb_n .gb_7a.gb_8a{background-position:-326px -122px}.gb_n .gb_7a.gb_9a{background-position:-214px -92px}.gb_2a .gb_7a.gb_7a{background-color:#db4437;color:#fff}.gb_2a .gb_C:hover .gb_7a,.gb_2a .gb_C:focus .gb_7a{background-color:#a52714}.gb_2a .gb_7a.gb_9a{background-position:-256px -73px}.gb_Qb .gb_C{background-position:-326px -17px;opacity:.55;height:30px;width:30px}.gb_Qb .gb_C:hover,.gb_Qb .gb_C:focus{opacity:.85}.gb_Qb .gb_ia{border-bottom-color:#f5f5f5}#gbsfw.gb_Rb{background:#f5f5f5;border-color:#ccc}.gb_n .gb_Qb .gb_C{background-position:0 -35px;opacity:1}.gb_m .gb_Qb .gb_C{background-position:-256px -103px;opacity:.7}.gb_m .gb_Qb .gb_C:hover,.gb_m .gb_Qb .gb_C:focus{opacity:.85}.gb_7{min-width:315px;padding-left:30px;padding-right:30px;position:relative;text-align:right;z-index:986;align-items:center;justify-content:flex-end}.gb_7.gb_h{flex:1 1 auto;flex:1 1 main-size}.gb_Bc{line-height:normal;position:relative;text-align:left}.gb_Bc.gb_h,.gb_Cc.gb_h,.gb_ba.gb_h{flex:0 1 auto;flex:0 1 main-size}.gb_Dc,.gb_Ec{display:inline-block;padding:0 0 0 15px;position:relative;vertical-align:middle}.gb_Cc{line-height:normal;padding-right:15px}.gb_7 .gb_Cc.gb_j{padding-right:0}.gb_ba{color:#404040;line-height:30px;min-width:30px;overflow:hidden;vertical-align:middle;text-overflow:ellipsis}#gb#gb.gb_aa .gb_8b,#gb#gb.gb_aa .gb_Bc&gt;.gb_Ec .gb_9b{background:none;border:none;color:#36c;cursor:pointer;font-size:11px;line-height:26px;padding:0;-moz-box-shadow:none;box-shadow:none}.gb_aa .gb_8b{text-transform:uppercase}.gb_7.gb_k{padding-left:0;padding-right:29px}.gb_7.gb_Fc{max-width:400px}.gb_Hc{background-clip:content-box;background-origin:content-box;opacity:.27;padding:22px;height:16px;width:16px}.gb_Hc.gb_h{display:none}.gb_Hc:hover,.gb_Hc:focus{opacity:.55}.gb_Ic{background-position:-35px 0}.gb_Jc{background-position:-291px -17px;padding-left:30px;padding-right:14px;position:absolute;right:0;top:0;z-index:990}.gb_ea:not(.gb_ga) .gb_Jc,.gb_k .gb_Ic{display:inline-block}.gb_ea .gb_Ic{padding-left:30px;padding-right:0;width:0}.gb_ea:not(.gb_ga) .gb_Kc{display:none}.gb_7.gb_h.gb_k,.gb_k:not(.gb_ga) .gb_Bc{flex:0 0 auto;flex:0 0 main-size}.gb_Hc,.gb_k .gb_Cc,.gb_ga .gb_Bc{overflow:hidden}.gb_ea .gb_Cc{padding-right:0}.gb_k .gb_Bc{padding:1px 1px 1px 0}.gb_ea .gb_Bc{width:75px}.gb_7.gb_Lc,.gb_7.gb_Lc .gb_Ic,.gb_7.gb_Lc .gb_Ic::before,.gb_7.gb_Lc .gb_Cc,.gb_7.gb_Lc .gb_Bc{-moz-transition:width .5s ease-in-out,min-width .5s ease-in-out,max-width .5s ease-in-out,padding .5s ease-in-out,left .5s ease-in-out;transition:width .5s ease-in-out,min-width .5s ease-in-out,max-width .5s ease-in-out,padding .5s ease-in-out,left .5s ease-in-out}.gb_Db .gb_7{min-width:0}.gb_7.gb_l,.gb_7.gb_l .gb_Bc,.gb_7.gb_Mc,.gb_7.gb_Mc .gb_Bc{min-width:0!important}.gb_7.gb_l,.gb_7.gb_l .gb_h{flex:0 0 auto!important}.gb_7.gb_l .gb_ba{width:30px!important}.gb_m .gb_ba{font-weight:bold;text-shadow:0 1px 1px rgba(255,255,255,.9)}.gb_n .gb_ba{color:#fff;font-weight:bold;text-shadow:0 1px 1px rgba(0,0,0,.6)}.gb_Ub ::-webkit-scrollbar{height:15px;width:15px}.gb_Ub ::-webkit-scrollbar-button{height:0;width:0}.gb_Ub ::-webkit-scrollbar-thumb{background-clip:padding-box;background-color:rgba(0,0,0,.3);border:5px solid transparent;border-radius:10px;min-height:20px;min-width:20px;height:5px;width:5px}.gb_Ub ::-webkit-scrollbar-thumb:hover,.gb_Ub ::-webkit-scrollbar-thumb:active{background-color:rgba(0,0,0,.4)}#gb.gb_Uc{min-width:980px}#gb.gb_Uc .gb_Cb{min-width:0;position:static;width:0}.gb_Uc .gb_Ub{background:transparent;border-bottom-color:transparent}.gb_Uc .gb_Ub::before{display:none}.gb_Uc.gb_Uc .gb_g{display:inline-block}.gb_Uc.gb_7 .gb_Cc.gb_j{padding-right:15px}.gb_Uc .gb_i.gb_Rc{display:-webkit-flex;display:flex}.gb_Uc.gb_Db #gbqf{display:block}.gb_Uc #gbq{height:0;position:absolute}.gb_Uc.gb_7{z-index:987}.gb_Oa.gb_Vc{padding-left:30px}.gb_Pa .gb_Vc{margin-right:-142px}.gbqfb,.gbqfba,.gbqfbb{cursor:default!important;display:inline-block;font-weight:bold;height:29px;line-height:29px;min-width:54px;padding:0 8px;text-align:center;text-decoration:none!important;-moz-border-radius:2px;border-radius:2px;-moz-user-select:-moz-none}.gbqfba:focus{border:1px solid #4d90fe;outline:none;-moz-box-shadow:inset 0 0 0 1px #fff;box-shadow:inset 0 0 0 1px #fff}.gbqfba:hover{border-color:#c6c6c6;color:#222!important;-moz-box-shadow:0 1px 0 rgba(0,0,0,.15);box-shadow:0 1px 0 rgba(0,0,0,.15);background:#f8f8f8;background:-moz-linear-gradient(top,#f8f8f8,#f1f1f1);background:linear-gradient(top,#f8f8f8,#f1f1f1);filter:progid:DXImageTransform.Microsoft.gradient(startColorstr=#f8f8f8,endColorstr=#f1f1f1,GradientType=1)}.gbqfba:hover:focus{-moz-box-shadow:0 1px 0 rgba(0,0,0,.15),inset 0 0 0 1px #fff;box-shadow:0 1px 0 rgba(0,0,0,.15),inset 0 0 0 1px #fff}.gbqfb::-moz-focus-inner{border:0}.gbqfba::-moz-focus-inner{border:0}.gbqfba{border:1px solid #dcdcdc;border-color:rgba(0,0,0,0.1);color:#444!important;font-size:11px;background:#f5f5f5;background:-moz-linear-gradient(top,#f5f5f5,#f1f1f1);background:linear-gradient(top,#f5f5f5,#f1f1f1);filter:progid:DXImageTransform.Microsoft.gradient(startColorstr=#f5f5f5,endColorstr=#f1f1f1,GradientType=1)}.gbqfba:active{-moz-box-shadow:inset 0 1px 2px rgba(0,0,0,0.1);box-shadow:inset 0 1px 2px rgba(0,0,0,0.1)}.gb_Cb{position:relative;width:650px;z-index:986}#gbq2{padding-top:15px}.gb_Db .gb_Cb{min-width:200px;flex:0 2 auto;flex:0 2 main-size}.gb_k~.gb_Cb{min-width:0}.gb_Db #gbqf{margin-right:0;display:-webkit-flex;display:flex}.gb_Db .gbqff{min-width:0;flex:1 1 auto;flex:1 1 main-size}#gbq2{display:block}#gbqf{display:block;margin:0;margin-right:60px;white-space:nowrap}.gbqff{border:none;display:inline-block;margin:0;padding:0;vertical-align:top;width:100%}.gbqfqw,#gbqfb,.gbqfwa{vertical-align:top}#gbqfaa,#gbqfab,#gbqfqwb{position:absolute}#gbqfaa{left:0}#gbqfab{right:0}.gbqfqwb,.gbqfqwc{right:0;left:0;height:100%}.gbqfqwb{padding:0 8px}#gbqfbw{display:inline-block;vertical-align:top}#gbqfb{border:1px solid transparent;border-bottom-left-radius:0;border-top-left-radius:0;height:30px;margin:0;outline:none;padding:0 0;width:60px;-moz-box-shadow:none;box-shadow:none;-moz-box-sizing:border-box;box-sizing:border-box;background:#4285f4;background:-moz-linear-gradient(top,#4387fd,#4683ea);background:linear-gradient(top,#4387fd,#4683ea);filter:progid:DXImageTransform.Microsoft.gradient(startColorstr=#4387fd,endColorstr=#4683ea,GradientType=1)}#gbqfb:hover{-moz-box-shadow:0 1px 0 rgba(0,0,0,.15);box-shadow:0 1px 0 rgba(0,0,0,.15)}#gbqfb:focus{-moz-box-shadow:inset 0 0 0 1px #fff;box-shadow:inset 0 0 0 1px #fff}#gbqfb:hover:focus{-moz-box-shadow:0 1px 0 rgba(0,0,0,.15),inset 0 0 0 1px #fff;box-shadow:0 1px 0 rgba(0,0,0,.15),inset 0 0 0 1px #fff}#gbqfb:active:active{border:1px solid transparent;-moz-box-shadow:inset 0 2px 0 rgba(0,0,0,.15);box-shadow:inset 0 2px 0 rgba(0,0,0,.15);background:#3c78dc;background:-moz-linear-gradient(top,#3c7ae4,#3f76d3);background:linear-gradient(top,#3c7ae4,#3f76d3);filter:progid:DXImageTransform.Microsoft.gradient(startColorstr=#3c7ae4,endColorstr=#3f76d3,GradientType=1)}.gbqfi{background-position:-56px -35px;display:inline-block;margin:-1px;height:30px;width:30px}.gbqfqw{background:#fff;background-clip:padding-box;border:1px solid #cdcdcd;border-color:rgba(0,0,0,.15);border-right-width:0;height:30px;-moz-box-sizing:border-box;box-sizing:border-box}#gbfwc .gbqfqw{border-right-width:1px}#gbqfqw{position:relative}.gbqfqw.gbqfqw:hover{border-color:#a9a9a9;border-color:rgba(0,0,0,.3)}.gbqfwa{display:inline-block;width:100%}.gbqfwb{width:40%}.gbqfwc{width:60%}.gbqfwb .gbqfqw{margin-left:10px}.gbqfqw.gbqfqw:active,.gbqfqw.gbqfqwf.gbqfqwf{border-color:#4285f4}#gbqfq,#gbqfqb,#gbqfqc{background:transparent;border:none;height:20px;margin-top:4px;padding:0;vertical-align:top;width:100%}#gbqfq:focus,#gbqfqb:focus,#gbqfqc:focus{outline:none}.gbqfif,.gbqfsf{color:#222;font:16px arial,sans-serif}#gbqfbwa{display:none;text-align:center;height:0}#gbqfbwa .gbqfba{margin:16px 8px}#gbqfsa,#gbqfsb{font:bold 11px/27px Arial,sans-serif!important;vertical-align:top}.gb_m .gbqfqw.gbqfqw,.gb_n .gbqfqw.gbqfqw{border-color:rgba(255,255,255,1);-moz-box-shadow:0 1px 2px rgba(0,0,0,.2);box-shadow:0 1px 2px rgba(0,0,0,.2)}.gb_m #gbqfb,.gb_n #gbqfb{-moz-box-shadow:0 1px 2px rgba(0,0,0,.2);box-shadow:0 1px 2px rgba(0,0,0,.2)}.gb_m #gbqfb:hover,.gb_n #gbqfb:hover{-moz-box-shadow:0 1px 0 rgba(0,0,0,.15),0 1px 2px rgba(0,0,0,.2);box-shadow:0 1px 0 rgba(0,0,0,.15),0 1px 2px rgba(0,0,0,.2)}.gb_m #gbqfb:active,.gb_n #gbqfb:active{-moz-box-shadow:inset 0 2px 0 rgba(0,0,0,.15),0 1px 2px rgba(0,0,0,.2);box-shadow:inset 0 2px 0 rgba(0,0,0,.15),0 1px 2px rgba(0,0,0,.2)}sentinel{}.gbii{background-image:url(//ssl.gstatic.com/gb/images/silhouette_27.png)}.gbip{background-image:url()}.gbii::before{content:url(//ssl.gstatic.com/gb/images/silhouette_27.png);position:absolute}.gbip::before{content:url();position:absolute}@media (min-resolution:1.25dppx),(-o-min-device-pixel-ratio:5/4),(-webkit-min-device-pixel-ratio:1.25),(min-device-pixel-ratio:1.25){.gbii{background-image:url(//ssl.gstatic.com/gb/images/silhouette_27.png)}.gbii::before{content:url(//ssl.gstatic.com/gb/images/silhouette_27.png)}.gbip{background-image:url()}.gbip::before{content:url()}.gbii::before,.gbip::before{-webkit-transform:scale(.5);-moz-transform:scale(.5);-ms-transform:scale(.5);-o-transform:scale(.5);transform:scale(.5);-webkit-transform-origin:0 0;-moz-transform-origin:0 0;-ms-transform-origin:0 0;-o-transform-origin:0 0;transform-origin:0 0}}#gbq .gbgt-hvr,#gbq .gbgt:focus{background-color:transparent;background-image:none}.gbqfh#gbq1{display:none}.gbxx{display:none !important}#gbq{line-height:normal;position:relative;top:0px;white-space:nowrap}#gbq{left:0;width:100%}#gbq2{top:0px;z-index:986}#gbq4{display:inline-block;max-height:29px;overflow:hidden;position:relative}.gbqfh#gbq2{z-index:985}.gbqfh#gbq2{margin:0;margin-left:0 !important;padding-top:0;position:relative;top:310px}.gbqfh #gbqf{margin:auto;min-width:534px;padding:0 !important}.gbqfh #gbqfbw{display:none}.gbqfh #gbqfbwa{display:block}.gbqfh #gbqf{max-width:572px;min-width:572px}.gbqfh .gbqfqw{border-right-width:1px}.gsfe_a.gsfe_a{border-right-width:0;-moz-box-shadow:none;-webkit-box-shadow:none;box-shadow:none}.gsfe_b.gsfe_b{border-right-width:0;border-color:#4285f4;-moz-box-shadow:none;-webkit-box-shadow:none;box-shadow:none}.gbqfh .gsfe_a,.gbqfh .gsfe_b{border-width:1px}.gbm{background:#fff;border:1px solid #bebebe;box-shadow:0 2px 4px rgba(0,0,0,.2);-moz-box-shadow:-1px 1px 1px rgba(0,0,0,.2);-webkit-box-shadow:0 2px 4px rgba(0,0,0,.2);position:absolute;top:-999px;visibility:hidden;z-index:999}#sfcnt,#subform_ctrl{display:none}</style><style id=\"gstyle\" data-jiis=\"cc\">html,body{height:100%;margin:0}#viewport{min-height:100%;position:relative;width:100%}.content{padding-bottom:35px}#footer{bottom:0;font-size:10pt;height:35px;position:absolute;width:100%}#gog{padding:3px 8px 0}.gac_m td{line-height:17px}body,td,a,p,.h{font-family:arial,sans-serif}.h{color:#12c;font-size:20px}.q{color:#00c}.ts td{padding:0}.ts{border-collapse:collapse}em{font-weight:bold;font-style:normal}.ds{display:inline-block;}span.ds{margin:3px 0 4px;margin-left:4px}.ctr-p{margin:0 auto;min-width:980px}a.gb1,a.gb2,a.gb3,a.gb4{color:#11c !important}body{background:#fff;color:#222}a{color:#12c;text-decoration:none}a:hover,a:active{text-decoration:underline}.fl a{color:#12c}a:visited{color:#609}a.gb1,a.gb4{text-decoration:underline}a.gb3:hover{text-decoration:none}#ghead a.gb2:hover{color:#fff !important}.sblc{padding-top:5px}.sblc a{display:block;margin:2px 0;margin-left:13px;font-size:11px}.lsbb{height:30px;display:block}.ftl,#footer a{color:#666;margin:2px 10px 0}#footer a:active{color:#dd4b39}.lsb{border:none;color:#000;cursor:pointer;height:30px;margin:0;outline:0;vertical-align:top}.lst:focus{outline:none}body,html{font-size:small}h1,ol,ul,li{margin:0;padding:0}.nojsv{visibility:hidden}.hp #logocont.nojsv{display:none}#body,#footer{display:block}.igehp{display:none}#flci{float:left;margin-left:0;text-align:left;width:0}#fll{float:right;text-align:right;width:100%}#ftby{padding-left:0}#ftby&gt;div,#fll&gt;div,#footer a{display:inline-block}@media only screen and (min-width:1222px){#ftby{margin:0 44px}}.nojsb{display:none}.nbcl{background:url(/images/nav_logo195.png) no-repeat -140px -230px;height:11px;width:11px}</style><style>.kpbb,.kprb,.kpgb,.kpgrb{-moz-border-radius:2px;border-radius:2px;color:#fff}.kpbb:hover,.kprb:hover,.kpgb:hover,.kpgrb:hover{-moz-box-shadow:0 1px 1px rgba(0,0,0,0.1);box-shadow:0 1px 1px rgba(0,0,0,0.1);color:#fff}.kpbb:active,.kprb:active,.kpgb:active,.kpgrb:active{-moz-box-shadow:inset 0 1px 2px rgba(0,0,0,0.3);box-shadow:inset 0 1px 2px rgba(0,0,0,0.3)}.kpbb{background-color:#4d90fe;background-image:-moz-linear-gradient(top,#4d90fe,#4787ed);background-image:linear-gradient(top,#4d90fe,#4787ed);border:1px solid #3079ed}.kpbb:hover{background-color:#357ae8;background-image:-moz-linear-gradient(top,#4d90fe,#357ae8);background-image:linear-gradient(top,#4d90fe,#357ae8);border:1px solid #2f5bb7}a.kpbb:link,a.kpbb:visited{color:#fff}.kprb{background-color:#dd4b39;background-image:-moz-linear-gradient(top,#dd4b39,#d14836);background-image:linear-gradient(top,#dd4b39,#d14836);border:1px solid #dd4b39}.kprb:hover{background-color:#c53727;background-image:-moz-linear-gradient(top,#dd4b39,#c53727);background-image:linear-gradient(top,#dd4b39,#c53727);border:1px solid #b0281a;border-bottom-color:#af301f}.kprb:active{background-color:#b0281a;background-image:-moz-linear-gradient(top,#dd4b39,#b0281a);background-image:linear-gradient(top,#dd4b39,#b0281a)}.kpgb{background-color:#3d9400;background-image:-moz-linear-gradient(top,#3d9400,#398a00);background-image:linear-gradient(top,#3d9400,#398a00);border:1px solid #29691d}.kpgb:hover{background-color:#368200;background-image:-moz-linear-gradient(top,#3d9400,#368200);background-image:linear-gradient(top,#3d9400,#368200);border:1px solid #2d6200}.kpgrb{background-color:#f5f5f5;background-image:-moz-linear-gradient(top,#f5f5f5,#f1f1f1);background-image:linear-gradient(top,#f5f5f5,#f1f1f1);border:1px solid #dcdcdc;color:#555}.kpgrb:hover{background-color:#f8f8f8;background-image:-moz-linear-gradient(top,#f8f8f8,#f1f1f1);background-image:linear-gradient(top,#f8f8f8,#f1f1f1);border:1px solid #dcdcdc;color:#333}a.kpgrb:link,a.kpgrb:visited{color:#555}.lst-t{width:100%}input#gbqfq{padding:0 0 0 9px}#pocs{background:#fff1a8;color:#000;font-size:10pt;margin:0;padding:5px 7px 0}#pocs.sft{background:transparent;color:#777}#pocs a{color:#11c}#pocs.sft a{color:#36c}#pocs&gt;div{margin:0;padding:0}.gl{white-space:nowrap}.big .tsf-p{padding-left:126px;padding-right:352px}.tsf-p{padding-left:126px;padding-right:46px}</style><script>var _gjwl=location;function _gjuc(){var a=_gjwl.href.indexOf(\"#\");return 0&lt;=a&amp;&amp;(a=_gjwl.href.substring(a+1),/(^|&amp;)q=/.test(a)&amp;&amp;-1==a.indexOf(\"#\")&amp;&amp;!/(^|&amp;)cad=h($|&amp;)/.test(a))?(_gjwl.replace(\"/search?\"+a.replace(/(^|&amp;)fp=[^&amp;]*/g,\"\")+\"&amp;cad=h\"),1):0}function _gjh(){!_gjuc()&amp;&amp;google.x({id:\"GJH\"},function(){google.nav&amp;&amp;google.nav.gjh&amp;&amp;google.nav.gjh()})};window.rwt=function(a,g,h,n,o,i,c,p,j,d){return true};\n",
      "(window['gbar']=window['gbar']||{})._CONFIG=[[[0,\"www.gstatic.com\",\"og.og2.en_US.5R3V8rpyfCQ.O\",\"com.br\",\"pt-BR\",\"1\",0,[3,2,\".64.40.36.36.40.36.36.\",\"r_qf.\",\"17259,3700301\",\"1417751759\",\"0\"],\"40400\",\"U0WHVKrmD8bgsASBw4DICg\",0,0,\"og.og2.-158v655kvwpzo.L.F4.O\",\"AItRSTNXT6jK-MArhRoWZ_8V7Up9aQ-cQg\",\"AItRSTMvJ4DTD4UuFWiDWmvFQH8lIDZQHA\",\"\",2,0,200,\"BRA\"],null,0,[\"m;/_/scs/abc-static/_/js/k=gapi.gapi.en.edEzvWMtWYM.O/m=__features__/rt=j/d=1/rs=AItRSTNodbd3fm2h0vWoq_h0iFXYtPUsXw\",\"https://apis.google.com\",\"\",\"\",\"\",\"\",\"\",1,\"es_plusone_gc_20141201.0_p0\",\"pt-BR\"],[\"1\",\"gci_91f30755d6a6b787dcc2a4062e6e9824.js\",\"googleapis.client:plusone:gapi.iframes\",\"\",\"pt-BR\"],null,null,null,[0.009999999776482582,\"com.br\",\"1\",[null,\"\",\"w\",null,1,5184000,1,0],null,[[\"5078281\",\"5061421\",\"3\",0,5,2592000]],[null,0,0],0],null,[0,0,0,null,\"\",\"\",\"\"],[1,0.001000000047497451,1],[1,0.1000000014901161,2,1],[0,\"\",null,\"\",0,\"Ocorreu um erro ao carregar seus aplicativos do Google Marketplace.\",\"Você não tem aplicativos do Google Marketplace.\",0,[1,\"https://www.google.com.br/webhp?tab=ww\",\"Pesquisa\",\"\",\"0 -690px\",null,0],0,0,1],[],[0,1,[\"lg\"],1,[\"lat\"]],[[\"\",\"\",\"\",\"\",\"\",\"\",\"\",\"\",\"\",\"\",\"\",\"\",\"\",\"\",\"\",\"\",\"\",\"\",\"\",\"def\",\"\",\"\",\"\",\"\"],[\"\"]],null,null,null,[30,127,1,980],null,null,null,null,null,[1,1]]];(window['gbar']=window['gbar']||{})._DPG=[{'_fdm_':['_r'],'dbg':['sy10','sy4','sy5','sy8','sy9'],'def':['sy11','sy12','sy13','sy4','sy5','sy6','sy8','sy9'],'drt':['sy4','sy5','sy6','sy7'],'fg':['sy16'],'fot':['sy11','sy12','sy5','sy9'],'ig':['sy16'],'in':['_r'],'jb':['sy4','sy5','sy6','sy7'],'lat':['sy10','sy11','sy13','sy4','sy5','sy6','sy8','sy9'],'lg':['sy16'],'sg':['sy16'],'sy10':['sy4','sy5','sy8'],'sy11':['_r'],'sy12':['sy11','sy5','sy9'],'sy13':['sy11','sy4','sy5','sy6','sy8','sy9'],'sy16':['_r'],'sy4':['sy5'],'sy5':['_r'],'sy6':['sy4'],'sy7':['sy4','sy6'],'sy8':['sy4','sy5'],'sy9':['_r']}];(window['gbar']=window['gbar']||{})._LDD=[\"in\",\"fot\"];this.gbar_=this.gbar_||{};(function(_){var window=this;\n",
      "try{\n",
      "var da,ea;_.aa=_.aa||{};_.m=this;_.n=function(a){return void 0!==a};_.p=function(a,c){for(var d=a.split(\".\"),e=c||_.m,f;f=d.shift();)if(null!=e[f])e=e[f];else return null;return e};_.ba=function(a){a.N=function(){return a.Ke?a.Ke:a.Ke=new a}};_.t=function(a){return\"string\"==typeof a};_.ca=\"closure_uid_\"+(1E9*Math.random()&gt;&gt;&gt;0);da=function(a,c,d){return a.call.apply(a.bind,arguments)};\n",
      "ea=function(a,c,d){if(!a)throw Error();if(2&lt;arguments.length){var e=Array.prototype.slice.call(arguments,2);return function(){var d=Array.prototype.slice.call(arguments);Array.prototype.unshift.apply(d,e);return a.apply(c,d)}}return function(){return a.apply(c,arguments)}};_.u=function(a,c,d){_.u=Function.prototype.bind&amp;&amp;-1!=Function.prototype.bind.toString().indexOf(\"native code\")?da:ea;return _.u.apply(null,arguments)};_.fa=Date.now||function(){return+new Date};\n",
      "_.v=function(a,c){var d=a.split(\".\"),e=_.m;d[0]in e||!e.execScript||e.execScript(\"var \"+d[0]);for(var f;d.length&amp;&amp;(f=d.shift());)!d.length&amp;&amp;_.n(c)?e[f]=c:e[f]?e=e[f]:e=e[f]={}};_.w=function(a,c){function d(){}d.prototype=c.prototype;a.G=c.prototype;a.prototype=new d;a.prototype.constructor=a;a.ci=function(a,d,g){for(var h=Array(arguments.length-2),l=2;l&lt;arguments.length;l++)h[l-2]=arguments[l];return c.prototype[d].apply(a,h)}};\n",
      "_.x=function(){this.va=this.va;this.La=this.La};_.x.prototype.va=!1;_.x.prototype.Y=function(){this.va||(this.va=!0,this.L())};_.x.prototype.L=function(){if(this.La)for(;this.La.length;)this.La.shift()()};_.ga=function(a){if(Error.captureStackTrace)Error.captureStackTrace(this,_.ga);else{var c=Error().stack;c&amp;&amp;(this.stack=c)}a&amp;&amp;(this.message=String(a))};_.w(_.ga,Error);_.ga.prototype.name=\"CustomError\";_.ha=String.prototype.trim?function(a){return a.trim()}:function(a){return a.replace(/^[\\s\\xa0]+|[\\s\\xa0]+$/g,\"\")};_.ia=Array.prototype;_.ja=_.ia.indexOf?function(a,c,d){return _.ia.indexOf.call(a,c,d)}:function(a,c,d){d=null==d?0:0&gt;d?Math.max(0,a.length+d):d;if(_.t(a))return _.t(c)&amp;&amp;1==c.length?a.indexOf(c,d):-1;for(;d&lt;a.length;d++)if(d in a&amp;&amp;a[d]===c)return d;return-1};_.ka=_.ia.forEach?function(a,c,d){_.ia.forEach.call(a,c,d)}:function(a,c,d){for(var e=a.length,f=_.t(a)?a.split(\"\"):a,g=0;g&lt;e;g++)g in f&amp;&amp;c.call(d,f[g],g,a)};\n",
      "_.la=_.ia.filter?function(a,c,d){return _.ia.filter.call(a,c,d)}:function(a,c,d){for(var e=a.length,f=[],g=0,h=_.t(a)?a.split(\"\"):a,l=0;l&lt;e;l++)if(l in h){var q=h[l];c.call(d,q,l,a)&amp;&amp;(f[g++]=q)}return f};_.ma=_.ia.map?function(a,c,d){return _.ia.map.call(a,c,d)}:function(a,c,d){for(var e=a.length,f=Array(e),g=_.t(a)?a.split(\"\"):a,h=0;h&lt;e;h++)h in g&amp;&amp;(f[h]=c.call(d,g[h],h,a));return f};\n",
      "_.na=_.ia.reduce?function(a,c,d,e){e&amp;&amp;(c=(0,_.u)(c,e));return _.ia.reduce.call(a,c,d)}:function(a,c,d,e){var f=d;(0,_.ka)(a,function(d,h){f=c.call(e,f,d,h,a)});return f};_.oa=_.ia.some?function(a,c,d){return _.ia.some.call(a,c,d)}:function(a,c,d){for(var e=a.length,f=_.t(a)?a.split(\"\"):a,g=0;g&lt;e;g++)if(g in f&amp;&amp;c.call(d,f[g],g,a))return!0;return!1};_.pa=function(a,c){return 0&lt;=(0,_.ja)(a,c)};\n",
      "_.qa=/\\uffff/.test(\"\\uffff\")?/[\\\\\\\"\\x00-\\x1f\\x7f-\\uffff]/g:/[\\\\\\\"\\x00-\\x1f\\x7f-\\xff]/g;var ra;ra=\"constructor hasOwnProperty isPrototypeOf propertyIsEnumerable toLocaleString toString valueOf\".split(\" \");_.sa=function(a,c){for(var d,e,f=1;f&lt;arguments.length;f++){e=arguments[f];for(d in e)a[d]=e[d];for(var g=0;g&lt;ra.length;g++)d=ra[g],Object.prototype.hasOwnProperty.call(e,d)&amp;&amp;(a[d]=e[d])}};\n",
      "_.y=function(){};_.z=function(a,c,d,e){a.d={};c||(c=d?[d]:[]);a.A=d?String(d):void 0;a.k=0===d?-1:0;a.b=c;t:{if(a.b.length&amp;&amp;(c=a.b.length-1,(d=a.b[c])&amp;&amp;\"object\"==typeof d&amp;&amp;\"number\"!=typeof d.length)){a.w=c-a.k;a.o=d;break t}a.w=Number.MAX_VALUE}if(e)for(c=0;c&lt;e.length;c++)d=e[c],d&lt;a.w?(d+=a.k,a.b[d]=a.b[d]||[]):a.o[d]=a.o[d]||[]};_.A=function(a,c){return c&lt;a.w?a.b[c+a.k]:a.o[c]};_.D=function(a,c,d){if(!a.d[d]){var e=_.A(a,d);e&amp;&amp;(a.d[d]=new c(e))}return a.d[d]};_.y.prototype.Xa=function(){return this.b}; _.y.prototype.toString=function(){return this.b.toString()};\n",
      "_.ta=function(a){_.z(this,a,0,[])};_.w(_.ta,_.y);var ua=function(a){_.z(this,a,0,[])};_.w(ua,_.y);var Ba;_.va=function(){this.b={};this.d={}};_.ba(_.va);_.xa=function(a,c){a.N=function(){return _.wa(_.va.N(),c)};a.Jh=function(){return _.va.N().b[c]||null}};_.E=function(a){return _.wa(_.va.N(),a)};_.za=function(a,c){var d=_.va.N();if(a in d.b){if(d.b[a]!=c)throw new ya(a);}else{d.b[a]=c;var e=d.d[a];if(e)for(var f=0,g=e.length;f&lt;g;f++)e[f].b(d.b,a);delete d.d[a]}};_.wa=function(a,c){if(c in a.b)return a.b[c];throw new Aa(c);};Ba=function(a){_.ga.call(this);this.aa=a};_.w(Ba,_.ga); var ya=function(a){Ba.call(this,a)};_.w(ya,Ba);var Aa=function(a){Ba.call(this,a)};_.w(Aa,Ba);\n",
      "_.Ca=function(a){_.z(this,a,0,[])};_.w(_.Ca,_.y);var Da=function(a){_.z(this,a,0,[])};_.w(Da,_.y);Da.prototype.wc=function(){return _.D(this,_.Ca,14)};_.F=function(a,c){return null!=a?a:!!c};_.G=function(a){var c;void 0==c&amp;&amp;(c=\"\");return null!=a?a:c};_.H=function(a,c){void 0==c&amp;&amp;(c=0);return null!=a?a:c};var Ea;Ea=new Da(window.gbar&amp;&amp;window.gbar._CONFIG?window.gbar._CONFIG[0]:[[,,,,,,,[]],[],[],[],[],[],[],[],[],[],[],[],[],[],[],[],[],[],[]]);_.Fa=_.F(_.A(Ea,3));_.I=function(){};_.v(\"gbar_._DumpException\",function(a){if(_.Fa)throw a;_.I(a)});var Ga=function(){this.d=!1;this.b=[]};Ga.prototype.k=function(a){if(!this.d){this.d=!0;for(var c=0;c&lt;this.b.length;c++)try{this.b[c]()}catch(d){a(d)}this.b=null;try{_.E(\"api\").Sa()}catch(e){}}};_.Ha=new Ga;var Ia=function(){_.x.call(this);this.gh=Ea};_.w(Ia,_.x);_.xa(Ia,\"cs\");_.J=function(){return Ia.N().gh};_.Ja=function(){return _.D(_.J(),ua,1)||new ua};_.za(\"cs\",new Ia);var Ka=function(a,c,d){this.o=a;this.d=!1;this.b=c;this.k=d};Ka.prototype.Sa=function(a){if(this.d)throw Error(\"e`\"+this.b);try{a.apply(this.o,this.k),this.d=!0}catch(c){}};var La=function(a){_.x.call(this);this.k=a;this.b=[];this.d={}};_.w(La,_.x);La.prototype.o=function(a){var c=(0,_.u)(function(){this.b.push(new Ka(this.k,a,Array.prototype.slice.call(arguments)))},this);return this.d[a]=c};\n",
      "La.prototype.Sa=function(){for(var a=this.b.length,c=this.b,d=[],e=0;e&lt;a;++e){var f=c[e].b,g;t:{g=this.k;for(var h=f.split(\".\"),l=h.length,q=0;q&lt;l;++q)if(g[h[q]])g=g[h[q]];else{g=null;break t}g=g instanceof Function?g:null}if(g&amp;&amp;g!=this.d[f])try{c[e].Sa(g)}catch(r){}else d.push(c[e])}this.b=d.concat(c.slice(a))};\n",
      "var Na;_.Ma=\"bbh bbr bbs has prm sngw so\".split(\" \");Na=new La(_.m);_.za(\"api\",Na);\n",
      "for(var Oa=\"addExtraLink addLink aomc asmc close cp.c cp.l cp.me cp.ml cp.rc cp.rel ela elc elh gpca gpcr lGC lPWF ldb mls noam paa pc pca pcm pw.clk pw.hvr qfaae qfaas qfaau qfae qfas qfau qfhi qm qs qsi rtl sa setContinueCb snaw sncw som sp spd spn spp sps tsl tst up.aeh up.aop up.dpc up.iic up.nap up.r up.sl up.spd up.tp upel upes upet\".split(\" \").concat(_.Ma),Pa=(0,_.u)(Na.o,Na),Qa=0;Qa&lt;Oa.length;Qa++){var Ra=\"gbar.\"+Oa[Qa];null==_.p(Ra,window)&amp;&amp;_.v(Ra,Pa(Ra))}_.v(\"gbar.up.gpd\",function(){return\"\"});\n",
      "var Sa=_.Ja(),Ta=_.D(Sa,_.ta,8)||new _.ta;_.v(\"gbar.bv\",{n:_.H(_.A(Ta,2)),r:_.G(_.A(Ta,4)),f:_.G(_.A(Ta,3)),e:_.G(_.A(Ta,5)),m:_.H(null!=_.A(Ta,1)?_.A(Ta,1):1,1)});_.v(\"gbar.kn\",function(){return!0});_.v(\"gbar.sb\",function(){return!1});\n",
      "}catch(e){_._DumpException(e)}\n",
      "try{\n",
      "_.v(\"gbar.elr\",function(){return{es:{f:152,h:60,m:30},mo:\"md\",vh:window.innerHeight||0,vw:window.innerWidth||0}});\n",
      "}catch(e){_._DumpException(e)}\n",
      "})(this.gbar_);\n",
      "// Google Inc.\n",
      "</script><link rel=\"canonical\" href=\"/?ei=UkWHVJOzLaGk8weQ44C4DQ\" /><style type=\"text/css\">#qbi.gssi_a{background:url(data:image/gif;base64,R0lGODlhEgANAOMKAAAAABUVFRoaGisrKzk5OUxMTGRkZLS0tM/Pz9/f3////////////////////////yH5BAEKAA8ALAAAAAASAA0AAART8Ml5Arg3nMkluQIhXMRUYNiwSceAnYAwAkOCGISBJC4mSKMDwpJBHFC/h+xhQAEMSuSo9EFRnSCmEzrDComAgBGbsuF0PHJq9WipnYJB9/UmFyIAOw==) no-repeat center;cursor:pointer;display:inline-block;height:13px;padding:0;width:18px}.gsok_a{background:url(data:image/gif;base64,R0lGODlhEwALAKECAAAAABISEv///////yH5BAEKAAIALAAAAAATAAsAAAIdDI6pZ+suQJyy0ocV3bbm33EcCArmiUYk1qxAUAAAOw==) no-repeat center;display:inline-block;height:11px;line-height:0;width:19px}.gsok_a img{border:none;visibility:hidden}.gsst_a{display:inline-block}.gsst_a{cursor:pointer;padding:0 4px}.gsst_a:hover{text-decoration:none!important}.gsst_b{font-size:16px;padding:0 2px;position:relative;user-select:none;-moz-user-select:none;white-space:nowrap}.gsst_e{vertical-align:middle;opacity:0.6;}.gsst_a:hover .gsst_e,.gsst_a:focus .gsst_e{opacity:0.8;}.gsst_a:active .gsst_e{opacity:1;}.gsst_f{background:white;text-align:left}.gsst_g{background-color:white;border:1px solid #ccc;border-top-color:#d9d9d9;box-shadow:0 2px 4px rgba(0,0,0,0.2);-moz-box-shadow:0 2px 4px rgba(0,0,0,0.2);margin:-1px -3px;padding:0 6px}.gsst_h{background-color:white;height:1px;margin-bottom:-1px;position:relative;top:-1px}.sbib_a{background:#fff;box-sizing:border-box;-moz-box-sizing:border-box;}.sbib_b{box-sizing:border-box;-moz-box-sizing:border-box;height:100%;overflow:hidden;padding:4px 6px 0}.sbib_c[dir=ltr]{float:right}.sbib_c[dir=rtl]{float:left}.sbib_d{box-sizing:border-box;-moz-box-sizing:border-box;height:100%;unicode-bidi:embed;white-space:nowrap}.sbib_d[dir=ltr]{float:left}.sbib_d[dir=rtl]{float:right}.sbib_a,.sbib_c{vertical-align:top}.sbdd_a{z-index:989}.sbdd_a[dir=ltr] .fl, .sbdd_a[dir=rtl] .fr{float:left}.sbdd_a[dir=ltr] .fr, .sbdd_a[dir=rtl] .fl{float:right}.sbdd_b{border:1px solid #ccc;border-top-color:#d9d9d9;box-shadow:0 2px 4px rgba(0,0,0,0.2);-moz-box-shadow:0 2px 4px rgba(0,0,0,0.2);cursor:default}.sbdd_c{border:0;display:block;position:absolute;top:0;z-index:988}.sbpqs_a{color:#52188c}.sbdd_a[dir=ltr] .sbpqs_a{padding-right:8px}.sbdd_a[dir=rtl] .sbpqs_a{padding-left:8px}.sbdd_a[dir=ltr] .sbpqs_b{padding-right:3px}.sbdd_a[dir=rtl] .sbpqs_b{padding-left:3px}.sbpqs_c{color:#666;line-height:22px}.sben_a{color:#333}.gspr_a{padding-right:1px}.sbsb_c[dir=ltr] .sbqs_a{float:right}.sbsb_c[dir=rtl] .sbqs_a{float:left}.sbqs_b{visibility:hidden}.sbsb_d .sbqs_b{visibility:visible}.sbsb_c[dir=ltr] .sbqs_b{padding-left:5px;}.sbsb_c[dir=rtl] .sbqs_b{padding-right:5px;}.sbqs_c{word-wrap:break-word}.sbsb_a{background:#fff}.sbsb_b{list-style-type:none;margin:0;padding:0}.sbsb_c{line-height:22px;overflow:hidden;padding:0 7px}.sbsb_d{background:#eee}.sbsb_e{height:1px;background-color:#e5e5e5}#sbsb_f{font-size:11px;color:#36c;text-decoration:none}#sbsb_f:hover{font-size:11px;color:#36c;text-decoration:underline}.sbsb_g{text-align:center;padding:8px 0 7px;position:relative}.sbsb_h{font-size:15px;height:28px;margin:0.2em}.sbsb_i{font-size:13px;color:#36c;text-decoration:none;line-height:100%}.sbsb_i:hover{text-decoration:underline}.sbsb_j{padding-top:1px 0 2px 0;font-size:11px}.sbdd_a[dir=ltr] .sbsb_j{padding-right:4px;text-align:right}.sbdd_a[dir=rtl] .sbsb_j{padding-left:4px;text-align:left}.gscp_a,.gscp_c,.gscp_d,.gscp_e,.gscp_f{display:inline-block;vertical-align:bottom}.gscp_f{border:none}.gscp_a{background:#d9e7fe;border:1px solid #9cb0d8;cursor:default;outline:none;text-decoration:none!important;user-select:none;-moz-user-select:none;}.gscp_a:hover{border-color:#869ec9}.gscp_a.gscp_b{background:#4787ec;border-color:#3967bf}.gscp_c{color:#444;font-size:13px;font-weight:bold}.gscp_d{color:#aeb8cb;cursor:pointer;font:21px arial,sans-serif;line-height:inherit;padding:0 7px}.gscp_a:hover .gscp_d{color:#575b66}.gscp_c:hover,.gscp_a .gscp_d:hover{color:#222}.gscp_a.gscp_b .gscp_c,.gscp_a.gscp_b .gscp_d{color:#fff}.gscp_e{height:100%;padding:0 4px}.gsc_b{background:url(data:image/gif;base64,R0lGODlhCgAEAMIEAP9BGP6pl//Wy/7//P///////////////yH5BAEKAAQALAAAAAAKAAQAAAMROCOhK0oA0MIUMmTAZhsWBCYAOw==) repeat-x scroll 0 100% transparent;display:inline-block;padding-bottom:1px}.sbhcn{border:1px solid #b9b9b9;border-top-color:#a0a0a0}.sbfcn{border:1px solid #4d90fe}.sbsb_c{padding:0 10px}.sbdd_a{z-index:1001}.sbib_b{padding:5px 9px 0}.srp.vasq .sbhcn,.srp.vasq .sbfcn{border-right-width:0}</style><script async=\"\" type=\"text/javascript\" charset=\"UTF-8\" src=\"//www.gstatic.com/og/_/js/k=og.og2.en_US.5R3V8rpyfCQ.O/rt=j/m=sy4,sy6,sy8,sy13,def/rs=AItRSTNXT6jK-MArhRoWZ_8V7Up9aQ-cQg\"></script></head><body vlink=\"#61c\" text=\"#222\" link=\"#12c\" alink=\"#dd4b39\" bgcolor=\"#fff\" id=\"gsr\" onload=\"try{if(!google.j.b){document.f&amp;&amp;document.f.q.focus();document.gbqf&amp;&amp;document.gbqf.q.focus();}}catch(e){}if(document.images)new Image().src='/images/nav_logo195.png'\" class=\"hp vasq\"><div id=\"viewport\" class=\"ctr-p\"><div id=\"cst\" data-jiis=\"cc\"><style>.fade #center_col,.fade #rhs,.fade #leftnav,.fade #brs,.fade #footcnt{filter:alpha(opacity=33.3);opacity:0.333}.fade-hidden #center_col,.fade-hidden #rhs,.fade-hidden #leftnav{visibility:hidden}.flyr-o,.flyr-w{position:absolute;background-color:#fff;z-index:3;display:block;}.flyr-o{filter:alpha(opacity=66.6);opacity:0.666}.flyr-w{filter:alpha(opacity=20.0);opacity:0.2}.flyr-h{filter:alpha(opacity=0);opacity:0}.flyr-c{display:none}.flt,.flt u,a.fl{text-decoration:none}.flt:hover,.flt:hover u,a.fl:hover{text-decoration:underline}#knavm{color:#4273db;display:inline;font:11px arial,sans-serif !important;left:-13px;position:absolute;top:2px;z-index:2}#pnprev #knavm{bottom:1px;top:auto}#pnnext #knavm{bottom:1px;left:40px;top:auto}a.noline{outline:0}.y.yp,.y&gt;.filled,.y&gt;.preload{display:none}.y.yf,.y.ys,.yf&gt;.filled,.yi&gt;.filled,.yp&gt;.preload{display:block}</style></div> <a style=\"left:-1000em;position:absolute\" href=\"/setprefs?suggon=2&amp;prev=https://www.google.com.br/?gfe_rd%3Dcr%26ei%3DUkWHVJOzLaGk8weQ44C4DQ%26gws_rd%3Dssl&amp;sig=0_eeuOFBieF2YB0KkJssVfpIZJQeo%3D\">Se você é usuário de programa de leitura de tela, clique aqui para desativar o Google Instant.</a>  <textarea style=\"display:none\" id=\"csi\"></textarea><script>if(google.j.b)document.body.style.visibility='hidden';</script><div id=\"mngb\" data-jibp=\"\">   <div id=\"gb\" class=\"gb_Nc gb_Uc gb_Db\" style=\"min-width: 980px;\"><div class=\"gb_Ub gb_Rc\"><div class=\"gb_7 gb_Rc gb_h gb_Qc gb_Uc\" style=\"min-width: 331px;\"><div class=\"gb_Cc gb_h gb_Rc gb_Kc gb_j\"><div class=\"gb_g gb_h gb_i gb_Rc\"><a data-ved=\"0CAIQwi4oAA\" data-pid=\"119\" href=\"https://plus.google.com/?gpsrc=ogpy0&amp;tab=wX\" class=\"gb_f gb_h\">+Você</a></div><div class=\"gb_g gb_h\"><a data-ved=\"0CAMQwi4oAQ\" data-pid=\"23\" href=\"https://mail.google.com/mail/?tab=wm\" class=\"gb_f\">Gmail</a></div><div class=\"gb_g gb_h\"><a data-pid=\"2\" href=\"https://www.google.com.br/imghp?hl=pt-BR&amp;tab=wi&amp;ei=U0WHVKrmD8bgsASBw4DICg&amp;ved=0CAQQqi4oAg\" class=\"gb_f\">Imagens</a></div></div><div class=\"gb_Bc gb_Rc gb_h\" style=\"min-width: 143px;\"><div id=\"gbsfw\" class=\"gb_F\"></div><div id=\"gbwa\" class=\"gb_B gb_jb gb_h\"><div class=\"gb_Xa\"><a data-ved=\"0CAUQvSc\" aria-expanded=\"false\" aria-haspopup=\"true\" title=\"Aplicativos\" href=\"http://www.google.com.br/intl/pt-BR/options/\" class=\"gb_C gb_Sa\" data-eqid=\"0click\"></a><div class=\"gb_ja\"></div><div class=\"gb_ia\"></div></div><div tabindex=\"0\" aria-hidden=\"true\" role=\"region\" aria-label=\"Aplicativos\" class=\"gb_Wb gb_F gb_P\"><ul aria-dropeffect=\"move\" class=\"gb_I gb_z\"><li aria-grabbed=\"false\" class=\"gb_o\"><a data-ved=\"0CAgQwS4oAA\" data-pid=\"119\" href=\"https://plus.google.com/?gpsrc=ogpy0&amp;tab=wX\" id=\"gb119\" class=\"gb_e\"><span style=\"background-position:0 -1035px\" class=\"gb_s\"></span><span class=\"gb_t\">+Você</span></a></li><li aria-grabbed=\"false\" class=\"gb_o\"><a data-pid=\"1\" href=\"https://www.google.com.br/webhp?tab=ww&amp;ei=U0WHVKrmD8bgsASBw4DICg&amp;ved=0CAkQqS4oAQ\" id=\"gb1\" class=\"gb_e\"><span style=\"background-position:0 -690px\" class=\"gb_s\"></span><span class=\"gb_t\">Pesquisa</span></a></li><li aria-grabbed=\"false\" class=\"gb_o\"><a data-ved=\"0CAoQwS4oAg\" data-pid=\"36\" href=\"https://www.youtube.com/?gl=BR\" id=\"gb36\" class=\"gb_e\"><span style=\"background-position:0 -414px\" class=\"gb_s\"></span><span class=\"gb_t\">YouTube</span></a></li><li aria-grabbed=\"false\" class=\"gb_o\"><a data-ved=\"0CAsQwS4oAw\" data-pid=\"8\" href=\"https://maps.google.com.br/maps?hl=pt-BR&amp;tab=wl\" id=\"gb8\" class=\"gb_e\"><span style=\"background-position:0 -483px\" class=\"gb_s\"></span><span class=\"gb_t\">Maps</span></a></li><li aria-grabbed=\"false\" class=\"gb_o\"><a data-ved=\"0CAwQwS4oBA\" data-pid=\"78\" href=\"https://play.google.com/?hl=pt-BR&amp;tab=w8\" id=\"gb78\" class=\"gb_e\"><span style=\"background-position:0 -1449px\" class=\"gb_s\"></span><span class=\"gb_t\">Play</span></a></li><li aria-grabbed=\"false\" class=\"gb_o\"><a data-pid=\"5\" href=\"https://news.google.com.br/nwshp?hl=pt-BR&amp;tab=wn&amp;ei=U0WHVKrmD8bgsASBw4DICg&amp;ved=0CA0QqS4oBQ\" id=\"gb5\" class=\"gb_e\"><span style=\"background-position:0 -1380px\" class=\"gb_s\"></span><span class=\"gb_t\">Notícias</span></a></li><li aria-grabbed=\"false\" class=\"gb_o\"><a data-ved=\"0CA4QwS4oBg\" data-pid=\"23\" href=\"https://mail.google.com/mail/?tab=wm\" id=\"gb23\" class=\"gb_e\"><span style=\"background-position:0 -828px\" class=\"gb_s\"></span><span class=\"gb_t\">Gmail</span></a></li><li aria-grabbed=\"false\" class=\"gb_o\"><a data-ved=\"0CA8QwS4oBw\" data-pid=\"49\" href=\"https://drive.google.com/?tab=wo\" id=\"gb49\" class=\"gb_e\"><span style=\"background-position:0 -207px\" class=\"gb_s\"></span><span class=\"gb_t\">Drive</span></a></li><li aria-grabbed=\"false\" class=\"gb_o\"><a data-ved=\"0CBAQwS4oCA\" data-pid=\"24\" href=\"https://www.google.com/calendar?tab=wc\" id=\"gb24\" class=\"gb_e\"><span style=\"background-position:0 -1242px\" class=\"gb_s\"></span><span class=\"gb_t\">Agenda</span></a></li></ul><a href=\"http://www.google.com.br/intl/pt-BR/options/\" class=\"gb_E gb_4b\" aria-expanded=\"false\" aria-hidden=\"true\">Mais</a><span class=\"gb_J\"></span><ul aria-dropeffect=\"move\" class=\"gb_I gb_A\" aria-hidden=\"true\"><li aria-grabbed=\"false\" class=\"gb_o\"><a data-ved=\"0CBEQwS4oCQ\" data-pid=\"51\" href=\"https://translate.google.com.br/?hl=pt-BR&amp;tab=wT\" id=\"gb51\" class=\"gb_e\"><span style=\"background-position:0 -1104px\" class=\"gb_s\"></span><span class=\"gb_t\">Tradutor</span></a></li><li aria-grabbed=\"false\" class=\"gb_o\"><a data-pid=\"10\" href=\"http://books.google.com.br/bkshp?hl=pt-BR&amp;tab=wp&amp;ei=U0WHVKrmD8bgsASBw4DICg&amp;ved=0CBIQqS4oCg\" id=\"gb10\" class=\"gb_e\"><span style=\"background-position:0 -1173px\" class=\"gb_s\"></span><span class=\"gb_t\">Livros</span></a></li><li aria-grabbed=\"false\" class=\"gb_o\"><a data-pid=\"6\" href=\"http://www.google.com.br/shopping?hl=pt-BR&amp;tab=wf&amp;ei=U0WHVKrmD8bgsASBw4DICg&amp;ved=0CBMQqS4oCw\" id=\"gb6\" class=\"gb_e\"><span style=\"background-position:0 -138px\" class=\"gb_s\"></span><span class=\"gb_t\">Shopping</span></a></li><li aria-grabbed=\"false\" class=\"gb_o\"><a data-ved=\"0CBQQwS4oDA\" data-pid=\"30\" href=\"https://www.blogger.com/?tab=wj\" id=\"gb30\" class=\"gb_e\"><span style=\"background-position:0 -621px\" class=\"gb_s\"></span><span class=\"gb_t\">Blogger</span></a></li><li aria-grabbed=\"false\" class=\"gb_o\"><a data-ved=\"0CBUQwS4oDQ\" data-pid=\"31\" href=\"https://plus.google.com/photos?tab=wq\" id=\"gb31\" class=\"gb_e\"><span style=\"background-position:0 -69px\" class=\"gb_s\"></span><span class=\"gb_t\">Fotos</span></a></li></ul><a href=\"http://www.google.com.br/intl/pt-BR/options/\" class=\"gb_J gb_Xb\" aria-hidden=\"true\">Outros produtos do Google</a></div></div><div class=\"gb_Dc gb_h\"><div class=\"gb_Xa\"><a target=\"_top\" href=\"https://accounts.google.com/ServiceLogin?hl=pt-BR&amp;continue=https://www.google.com.br/%3Fgfe_rd%3Dcr%26ei%3DUkWHVJOzLaGk8weQ44C4DQ%26gws_rd%3Dssl\" id=\"gb_70\" class=\"gb_8b gb_Z gb_X\">Fazer login</a><div class=\"gb_ja\"></div><div class=\"gb_ia\"></div></div></div></div></div><div style=\"max-width:127px;min-width:127px\" id=\"gbq1\" class=\"gb_Na gb_h gbqfh gb_Ra\"><div class=\"gb_Oa\"><a title=\"Ir para a página inicial do Google\" href=\"/webhp?tab=ww&amp;ei=U0WHVKrmD8bgsASBw4DICg&amp;ved=0CAYQ1S4\" class=\"gb_Va gb_Qa\"><span class=\"gb_Sa\"></span></a></div></div><div class=\"gb_h gb_Cb\"><div id=\"gbq\"><div id=\"gbq2\" class=\"gbt gbqfh\"><div id=\"gbqfw\"><form data-ved=\"0CAcQuyc\" method=\"get\" name=\"gbqf\" id=\"gbqf\" target=\"\" onsubmit=\"\" action=\"/search\" class=\"gb_7b\"><fieldset class=\"gbxx\"><legend class=\"gbxx\">Campos ocultos</legend><div id=\"gbqffd\"><input type=\"hidden\" value=\"search\" name=\"output\" /><input type=\"hidden\" value=\"psy-ab\" name=\"sclient\" /></div></fieldset><fieldset id=\"gbqff\" class=\"gbqff gb_h\"><legend class=\"gbxx\"></legend><div class=\"gbqfwa \" id=\"gbfwa\"><div class=\"gbqfqw gbqfqwf\" id=\"gbqfqw\"><div class=\"gbqfqwc\" id=\"gbqfqwb\"><div class=\"gstl_0 sbib_a\" style=\"height: 27px;\"><div class=\"sbib_d\" id=\"sb_chc0\" dir=\"ltr\"></div><div class=\"gsst_b sbib_c\" id=\"gs_st0\" style=\"line-height: 27px;\" dir=\"ltr\"><a class=\"gsst_a\" href=\"javascript:void(0)\" aria-label=\"Ferramentas de inserção de texto\"><span class=\"gsok_a gsst_e\" id=\"gs_ok0\"><img src=\"//www.gstatic.com/inputtools/images/tia.png\" tia_field_name=\"q\" tia_disable_swap=\"true\" tia_property=\"web\" /></span></a></div><div class=\"sbib_b\" id=\"sb_ifc0\" dir=\"ltr\"><div id=\"gs_lc0\" style=\"position: relative;\"><input type=\"text\" value=\"\" autocomplete=\"off\" name=\"q\" class=\"gbqfif\" id=\"gbqfq\" aria-haspopup=\"false\" role=\"combobox\" aria-autocomplete=\"both\" style=\"border: medium none; padding: 0px; margin: 0px; height: auto; width: 100%; background: url(&quot;data:image/gif;base64,R0lGODlhAQABAID/AMDAwAAAACH5BAEAAAAALAAAAAABAAEAAAICRAEAOw%3D%3D&quot;) repeat scroll 0% 0% transparent; position: absolute; z-index: 6; left: 0px; outline: medium none;\" dir=\"ltr\" spellcheck=\"false\" /><div class=\"gbqfif\" style=\"background: none repeat scroll 0% 0% transparent; color: transparent; padding: 0px; position: absolute; z-index: 2; white-space: pre; visibility: hidden;\" id=\"gs_sc0\"></div><input class=\"gbqfif\" disabled=\"disabled\" autocomplete=\"off\" aria-hidden=\"true\" style=\"border: medium none; padding: 0px; margin: 0px; height: auto; width: 100%; position: absolute; z-index: 1; background-color: transparent; color: silver; left: 0px;\" id=\"gs_taif0\" dir=\"ltr\" /><input class=\"gbqfif\" disabled=\"disabled\" autocomplete=\"off\" aria-hidden=\"true\" style=\"border: medium none; padding: 0px; margin: 0px; height: auto; width: 100%; position: absolute; z-index: 1; background-color: transparent; color: silver; transition: all 0.218s ease 0s; opacity: 0; left: 0px; text-align: left;\" id=\"gs_htif0\" dir=\"ltr\" /></div></div></div></div></div></div></fieldset><div id=\"gbqfbw\" class=\"gb_h gb_6b\"><button id=\"gbqfb\" name=\"btnG\" aria-label=\"Pesquisa Google\" class=\"gbqfb\"><span class=\"gbqfi gb_Sa\"></span></button></div><div id=\"gbqfbwa\" class=\"jsb\"><button name=\"btnK\" id=\"gbqfba\" aria-label=\"Pesquisa Google\" class=\"gbqfba\"><span id=\"gbqfsa\">Pesquisa Google</span></button><button name=\"btnI\" id=\"gbqfbb\" onclick=\"if(this.form.q.value)this.checked=1;else window.top.location='/doodles/'\" aria-label=\"Estou com sorte\" class=\"gbqfba\"><span id=\"gbqfsb\">Estou com sorte</span></button></div><input type=\"hidden\" name=\"oq\" /><input type=\"hidden\" name=\"gs_l\" /><input type=\"hidden\" name=\"pbx\" value=\"1\" /></form></div></div></div></div></div><div id=\"gbw\"></div></div><div id=\"gba\"></div>  </div><div id=\"main\" data-jiis=\"cc\" class=\"content\"><span id=\"body\" data-jiis=\"bp\" class=\"ctr-p\"><center><div id=\"lga\" style=\"height:231px;margin-top:20px\"><div style=\"padding-top:112px\"><div align=\"left\" onload=\"window.lol&amp;&amp;lol()\" id=\"hplogo\" title=\"Google\" style=\"background:url(/images/srpr/logo11w.png) no-repeat;background-size:269px 95px;height:95px;width:269px\"><div style=\"color:#777;font-size:16px;font-weight:bold;position:relative;left:218px;top:70px\" nowrap=\"\">Brasil</div></div></div></div><div style=\"height:102px\"></div><div style=\"margin-top:12px\" id=\"prm-pt\"><div id=\"prm\"><div style=\"behavior:url(#default#userdata)\" class=\"gb_tb gb_ib gb_Ka\"><span class=\"gb_vb\"></span><a href=\"http://www.youtube.com/user/theyearinreviewBR?feature=inp-yo-rx4\" class=\"gb_hb\">#YouTubeRewind</a>: Os vídeos, as pessoas e os eventos que marcaram o YouTube em 2014</div></div><script>window.gbar&amp;&amp;gbar.up&amp;&amp;gbar.up.tp&amp;&amp;gbar.up.tp();</script></div></center></span><div id=\"footer\" data-jiis=\"bp\" class=\"ctr-p\"> <div id=\"footcnt\"> <style>.fmulti{}._dQc{bottom:0;left:0;position:absolute;right:0}._GR{background:#f2f2f2;left:0;right:0;-webkit-text-size-adjust:none}.fbar p{display:inline}.fbar a,#fsettl{text-decoration:none;white-space:nowrap}.fbar ._Gs{padding:0 0 0 27px !important;margin:0 !important}.fbar ._eA{padding:0 !important;margin:0 !important}#fbarcnt{display:block}._E2 a:hover{text-decoration:underline}._HR img{margin-right:4px}._HR a,._GR #swml a{text-decoration:none}.fmulti{text-align:center}.fmulti #fsr{display:block;float:none}.fmulti #fuser{display:block;float:none}#fuserm{line-height:25px}#fsr{float:right;white-space:nowrap}#fsl{white-space:nowrap}#fsett{background:#fff;border:1px solid #999;bottom:30px;padding:10px 0;position:absolute;box-shadow:0 2px 4px rgba(0,0,0,0.2);-moz-box-shadow:0 2px 4px rgba(0,0,0,0.2);text-align:left;z-index:100}#fsett a{display:block;line-height:44px;padding:0 20px;text-decoration:none;white-space:nowrap}._E2 #fsettl:hover{text-decoration:underline}._E2 #fsett a:hover{text-decoration:underline}._mk{color:#777}._Nh{color:#222;font-size:14px;font-weight:normal;-moz-tap-highlight-color:rgba(0,0,0,0)}._Nh:hover,._Nh:active{color:#444}._Mo{display:inline-block;position:relative}._ri,._Wk{height:13px;width:8px}._ri:before,._Wk:before{border:8px solid rgba(255,255,255,0);border-radius:8px;content:'';position:absolute}._ri:before{border-left:8px solid #777;left:1px}._Wk:before{border-right:8px solid #777;left:-9px}._ri:after,._Wk:after{border:12px solid rgba(255,255,255,0);content:'';position:absolute;top:-4px}._ri:after{border-left:10px solid #f6f6f6;left:-4px}._Wk:after{border-right:10px solid #f6f6f6;left:-10px}._sN ._ri:after{border-left:10px solid white}._sN ._Wk:after{border-right:10px solid white}._Nh{padding:8px 16px;margin-right:10px}._mk{margin:40px 0}._dD{margin-right:10px}._nW{margin-left:135px}#fbar{background:#f2f2f2;border-top:1px solid #e4e4e4;line-height:40px;min-width:980px}._xac{margin-left:135px}.fbar p,.fbar a,#fsettl,#fsett a{color:#777}.fbar a:hover,#fsett a:hover{color:#333}.fbar{font-size:small}#fuser{float:right}</style> <style>#fsl{margin-left:30px}#fsr{margin-right:30px}.fmulti #fsl{margin-left:0}.fmulti #fsr{margin-right:0}</style> <div id=\"fbar\" class=\"_dQc _E2\"> <div class=\"fbar\"> <span id=\"fsr\">  <a href=\"/intl/pt-BR/policies/privacy/?fg=1\" class=\"_eA\">Privacidade</a> <a href=\"/intl/pt-BR/policies/terms/?fg=1\" class=\"_Gs\">Termos</a>    <span style=\"display:inline-block;position:relative\"> <a jsaction=\"foot.cst\" role=\"button\" aria-expanded=\"false\" aria-controls=\"fsett\" id=\"fsettl\" href=\"https://www.google.com.br/preferences?hl=pt-BR\" class=\"_Gs\">Configurações</a> <span style=\"display:none\" id=\"fsett\"> <a href=\"https://www.google.com.br/preferences?hl=pt&amp;fg=1\">Configurações da Pesquisa</a> <span id=\"advsl\" data-jiis=\"uc\" data-jibp=\"h\"> <a href=\"/advanced_search?hl=pt&amp;fg=1\">Pesquisa avançada</a> </span> <a href=\"/history?hl=pt&amp;fg=1\">  Histórico </a> <a href=\"//support.google.com/websearch/?p=ws_results_help&amp;hl=pt&amp;fg=1\">Ajuda da Pesquisa</a> <a data-ved=\"0CAcQLg\" jsaction=\"gf.sf\" target=\"_blank\" id=\"_Yvd\" data-bucket=\"websearch\" href=\"javascript:void(0)\">  Enviar feedback </a> </span> </span>  <a href=\"https://www.google.com/?gfe_rd=cr&amp;ei=UkWHVJOzLaGk8weQ44C4DQ&amp;gws_rd=ssl,cr&amp;fg=1\" class=\"_Gs\">Usar Google.com</a> </span> <span id=\"fsl\"> <a href=\"/intl/pt-BR/ads/?fg=1\" class=\"_eA\">Publicidade</a> <a href=\"/services/?fg=1\" class=\"_Gs\">Negócios</a> <a href=\"/intl/pt-BR/about.html?fg=1\" class=\"_Gs\">Sobre</a> </span> </div>  </div> </div>   </div></div><script>(function(){var _mstr='\\74span class\\75ctr-p id\\75body data-jiis\\75bp\\76\\74/span\\76\\74span class\\75ctr-p id\\75footer data-jiis\\75bp\\76\\74/span\\76\\74span id\\75xjsi\\76\\74/span\\076';var commands = [];var index = 0;var gstyle = document.getElementById('gstyle');if (gstyle){commands[index++]=\n",
      "{'n':'pcs','i':'gstyle','css':gstyle.innerHTML,'is':'','r':true,'sc':true};}\n",
      "commands[index++]=\n",
      "{'n':'pc','i':'cst','h':document.getElementById('cst').innerHTML,'is':'','r':true,'sc':true};commands[index]=\n",
      "{'n':'pc','i':'main','h':_mstr,'is':'','r':true,'sc':true};google.j[1]={cmds:commands};})();</script><script id=\"ecs\" data-url=\"/extern_chrome/787ffbb9ad53fee4.js?bav=or.r_qf\"></script><script>this.gbar_=this.gbar_||{};(function(_){var window=this;\n",
      "try{\n",
      "var da,ea;_.aa=_.aa||{};_.m=this;_.n=function(a){return void 0!==a};_.p=function(a,c){for(var d=a.split(\".\"),e=c||_.m,f;f=d.shift();)if(null!=e[f])e=e[f];else return null;return e};_.ba=function(a){a.N=function(){return a.Ke?a.Ke:a.Ke=new a}};_.t=function(a){return\"string\"==typeof a};_.ca=\"closure_uid_\"+(1E9*Math.random()&gt;&gt;&gt;0);da=function(a,c,d){return a.call.apply(a.bind,arguments)};\n",
      "ea=function(a,c,d){if(!a)throw Error();if(2&lt;arguments.length){var e=Array.prototype.slice.call(arguments,2);return function(){var d=Array.prototype.slice.call(arguments);Array.prototype.unshift.apply(d,e);return a.apply(c,d)}}return function(){return a.apply(c,arguments)}};_.u=function(a,c,d){_.u=Function.prototype.bind&amp;&amp;-1!=Function.prototype.bind.toString().indexOf(\"native code\")?da:ea;return _.u.apply(null,arguments)};_.fa=Date.now||function(){return+new Date};\n",
      "_.v=function(a,c){var d=a.split(\".\"),e=_.m;d[0]in e||!e.execScript||e.execScript(\"var \"+d[0]);for(var f;d.length&amp;&amp;(f=d.shift());)!d.length&amp;&amp;_.n(c)?e[f]=c:e[f]?e=e[f]:e=e[f]={}};_.w=function(a,c){function d(){}d.prototype=c.prototype;a.G=c.prototype;a.prototype=new d;a.prototype.constructor=a;a.ci=function(a,d,g){for(var h=Array(arguments.length-2),l=2;l&lt;arguments.length;l++)h[l-2]=arguments[l];return c.prototype[d].apply(a,h)}};\n",
      "_.x=function(){this.va=this.va;this.La=this.La};_.x.prototype.va=!1;_.x.prototype.Y=function(){this.va||(this.va=!0,this.L())};_.x.prototype.L=function(){if(this.La)for(;this.La.length;)this.La.shift()()};_.ga=function(a){if(Error.captureStackTrace)Error.captureStackTrace(this,_.ga);else{var c=Error().stack;c&amp;&amp;(this.stack=c)}a&amp;&amp;(this.message=String(a))};_.w(_.ga,Error);_.ga.prototype.name=\"CustomError\";_.ha=String.prototype.trim?function(a){return a.trim()}:function(a){return a.replace(/^[\\s\\xa0]+|[\\s\\xa0]+$/g,\"\")};_.ia=Array.prototype;_.ja=_.ia.indexOf?function(a,c,d){return _.ia.indexOf.call(a,c,d)}:function(a,c,d){d=null==d?0:0&gt;d?Math.max(0,a.length+d):d;if(_.t(a))return _.t(c)&amp;&amp;1==c.length?a.indexOf(c,d):-1;for(;d&lt;a.length;d++)if(d in a&amp;&amp;a[d]===c)return d;return-1};_.ka=_.ia.forEach?function(a,c,d){_.ia.forEach.call(a,c,d)}:function(a,c,d){for(var e=a.length,f=_.t(a)?a.split(\"\"):a,g=0;g&lt;e;g++)g in f&amp;&amp;c.call(d,f[g],g,a)};\n",
      "_.la=_.ia.filter?function(a,c,d){return _.ia.filter.call(a,c,d)}:function(a,c,d){for(var e=a.length,f=[],g=0,h=_.t(a)?a.split(\"\"):a,l=0;l&lt;e;l++)if(l in h){var q=h[l];c.call(d,q,l,a)&amp;&amp;(f[g++]=q)}return f};_.ma=_.ia.map?function(a,c,d){return _.ia.map.call(a,c,d)}:function(a,c,d){for(var e=a.length,f=Array(e),g=_.t(a)?a.split(\"\"):a,h=0;h&lt;e;h++)h in g&amp;&amp;(f[h]=c.call(d,g[h],h,a));return f};\n",
      "_.na=_.ia.reduce?function(a,c,d,e){e&amp;&amp;(c=(0,_.u)(c,e));return _.ia.reduce.call(a,c,d)}:function(a,c,d,e){var f=d;(0,_.ka)(a,function(d,h){f=c.call(e,f,d,h,a)});return f};_.oa=_.ia.some?function(a,c,d){return _.ia.some.call(a,c,d)}:function(a,c,d){for(var e=a.length,f=_.t(a)?a.split(\"\"):a,g=0;g&lt;e;g++)if(g in f&amp;&amp;c.call(d,f[g],g,a))return!0;return!1};_.pa=function(a,c){return 0&lt;=(0,_.ja)(a,c)};\n",
      "_.qa=/\\uffff/.test(\"\\uffff\")?/[\\\\\\\"\\x00-\\x1f\\x7f-\\uffff]/g:/[\\\\\\\"\\x00-\\x1f\\x7f-\\xff]/g;var ra;ra=\"constructor hasOwnProperty isPrototypeOf propertyIsEnumerable toLocaleString toString valueOf\".split(\" \");_.sa=function(a,c){for(var d,e,f=1;f&lt;arguments.length;f++){e=arguments[f];for(d in e)a[d]=e[d];for(var g=0;g&lt;ra.length;g++)d=ra[g],Object.prototype.hasOwnProperty.call(e,d)&amp;&amp;(a[d]=e[d])}};\n",
      "_.y=function(){};_.z=function(a,c,d,e){a.d={};c||(c=d?[d]:[]);a.A=d?String(d):void 0;a.k=0===d?-1:0;a.b=c;t:{if(a.b.length&amp;&amp;(c=a.b.length-1,(d=a.b[c])&amp;&amp;\"object\"==typeof d&amp;&amp;\"number\"!=typeof d.length)){a.w=c-a.k;a.o=d;break t}a.w=Number.MAX_VALUE}if(e)for(c=0;c&lt;e.length;c++)d=e[c],d&lt;a.w?(d+=a.k,a.b[d]=a.b[d]||[]):a.o[d]=a.o[d]||[]};_.A=function(a,c){return c&lt;a.w?a.b[c+a.k]:a.o[c]};_.D=function(a,c,d){if(!a.d[d]){var e=_.A(a,d);e&amp;&amp;(a.d[d]=new c(e))}return a.d[d]};_.y.prototype.Xa=function(){return this.b}; _.y.prototype.toString=function(){return this.b.toString()};\n",
      "_.ta=function(a){_.z(this,a,0,[])};_.w(_.ta,_.y);var ua=function(a){_.z(this,a,0,[])};_.w(ua,_.y);var Ba;_.va=function(){this.b={};this.d={}};_.ba(_.va);_.xa=function(a,c){a.N=function(){return _.wa(_.va.N(),c)};a.Jh=function(){return _.va.N().b[c]||null}};_.E=function(a){return _.wa(_.va.N(),a)};_.za=function(a,c){var d=_.va.N();if(a in d.b){if(d.b[a]!=c)throw new ya(a);}else{d.b[a]=c;var e=d.d[a];if(e)for(var f=0,g=e.length;f&lt;g;f++)e[f].b(d.b,a);delete d.d[a]}};_.wa=function(a,c){if(c in a.b)return a.b[c];throw new Aa(c);};Ba=function(a){_.ga.call(this);this.aa=a};_.w(Ba,_.ga); var ya=function(a){Ba.call(this,a)};_.w(ya,Ba);var Aa=function(a){Ba.call(this,a)};_.w(Aa,Ba);\n",
      "_.Ca=function(a){_.z(this,a,0,[])};_.w(_.Ca,_.y);var Da=function(a){_.z(this,a,0,[])};_.w(Da,_.y);Da.prototype.wc=function(){return _.D(this,_.Ca,14)};_.F=function(a,c){return null!=a?a:!!c};_.G=function(a){var c;void 0==c&amp;&amp;(c=\"\");return null!=a?a:c};_.H=function(a,c){void 0==c&amp;&amp;(c=0);return null!=a?a:c};var Ea;Ea=new Da(window.gbar&amp;&amp;window.gbar._CONFIG?window.gbar._CONFIG[0]:[[,,,,,,,[]],[],[],[],[],[],[],[],[],[],[],[],[],[],[],[],[],[],[]]);_.Fa=_.F(_.A(Ea,3));_.I=function(){};_.v(\"gbar_._DumpException\",function(a){if(_.Fa)throw a;_.I(a)});var Ga=function(){this.d=!1;this.b=[]};Ga.prototype.k=function(a){if(!this.d){this.d=!0;for(var c=0;c&lt;this.b.length;c++)try{this.b[c]()}catch(d){a(d)}this.b=null;try{_.E(\"api\").Sa()}catch(e){}}};_.Ha=new Ga;var Ia=function(){_.x.call(this);this.gh=Ea};_.w(Ia,_.x);_.xa(Ia,\"cs\");_.J=function(){return Ia.N().gh};_.Ja=function(){return _.D(_.J(),ua,1)||new ua};_.za(\"cs\",new Ia);var Ka=function(a,c,d){this.o=a;this.d=!1;this.b=c;this.k=d};Ka.prototype.Sa=function(a){if(this.d)throw Error(\"e`\"+this.b);try{a.apply(this.o,this.k),this.d=!0}catch(c){}};var La=function(a){_.x.call(this);this.k=a;this.b=[];this.d={}};_.w(La,_.x);La.prototype.o=function(a){var c=(0,_.u)(function(){this.b.push(new Ka(this.k,a,Array.prototype.slice.call(arguments)))},this);return this.d[a]=c};\n",
      "La.prototype.Sa=function(){for(var a=this.b.length,c=this.b,d=[],e=0;e&lt;a;++e){var f=c[e].b,g;t:{g=this.k;for(var h=f.split(\".\"),l=h.length,q=0;q&lt;l;++q)if(g[h[q]])g=g[h[q]];else{g=null;break t}g=g instanceof Function?g:null}if(g&amp;&amp;g!=this.d[f])try{c[e].Sa(g)}catch(r){}else d.push(c[e])}this.b=d.concat(c.slice(a))};\n",
      "var Na;_.Ma=\"bbh bbr bbs has prm sngw so\".split(\" \");Na=new La(_.m);_.za(\"api\",Na);\n",
      "for(var Oa=\"addExtraLink addLink aomc asmc close cp.c cp.l cp.me cp.ml cp.rc cp.rel ela elc elh gpca gpcr lGC lPWF ldb mls noam paa pc pca pcm pw.clk pw.hvr qfaae qfaas qfaau qfae qfas qfau qfhi qm qs qsi rtl sa setContinueCb snaw sncw som sp spd spn spp sps tsl tst up.aeh up.aop up.dpc up.iic up.nap up.r up.sl up.spd up.tp upel upes upet\".split(\" \").concat(_.Ma),Pa=(0,_.u)(Na.o,Na),Qa=0;Qa&lt;Oa.length;Qa++){var Ra=\"gbar.\"+Oa[Qa];null==_.p(Ra,window)&amp;&amp;_.v(Ra,Pa(Ra))}_.v(\"gbar.up.gpd\",function(){return\"\"});\n",
      "var Sa=_.Ja(),Ta=_.D(Sa,_.ta,8)||new _.ta;_.v(\"gbar.bv\",{n:_.H(_.A(Ta,2)),r:_.G(_.A(Ta,4)),f:_.G(_.A(Ta,3)),e:_.G(_.A(Ta,5)),m:_.H(null!=_.A(Ta,1)?_.A(Ta,1):1,1)});_.v(\"gbar.kn\",function(){return!0});_.v(\"gbar.sb\",function(){return!1});\n",
      "}catch(e){_._DumpException(e)}\n",
      "try{\n",
      "_.Xa=function(a){var c=_.Ha;c.d?a():c.b.push(a)};_.Ya=function(){};_.Za=function(a){_.Za[\" \"](a);return a};_.Za[\" \"]=_.Ya;\n",
      "}catch(e){_._DumpException(e)}\n",
      "try{\n",
      "var Pg;Pg=function(a){if(a.classList)return a.classList;a=a.className;return _.t(a)&amp;&amp;a.match(/\\S+/g)||[]};_.Qg=function(a,c){return a.classList?a.classList.contains(c):_.pa(Pg(a),c)};_.T=function(a,c){a.classList?a.classList.add(c):_.Qg(a,c)||(a.className+=0&lt;a.className.length?\" \"+c:c)};\n",
      "_.Rg=function(a,c){if(a.classList)(0,_.ka)(c,function(c){_.T(a,c)});else{var d={};(0,_.ka)(Pg(a),function(a){d[a]=!0});(0,_.ka)(c,function(a){d[a]=!0});a.className=\"\";for(var e in d)a.className+=0&lt;a.className.length?\" \"+e:e}};_.U=function(a,c){a.classList?a.classList.remove(c):_.Qg(a,c)&amp;&amp;(a.className=(0,_.la)(Pg(a),function(a){return a!=c}).join(\" \"))};_.Sg=function(a,c){a.classList?(0,_.ka)(c,function(c){_.U(a,c)}):a.className=(0,_.la)(Pg(a),function(a){return!_.pa(c,a)}).join(\" \")};\n",
      "\n",
      "}catch(e){_._DumpException(e)}\n",
      "try{\n",
      "var Fj,Kj,Nj,Mj;_.zj=function(a){_.z(this,a,0,[])};_.w(_.zj,_.y);_.Aj=function(){return _.D(_.J(),_.zj,11)};_.Bj=function(a){_.z(this,a,0,[])};_.w(_.Bj,_.y);_.Ej=function(){var a=_.Cj();return _.A(a,9)};Fj=function(a){_.z(this,a,0,[])};_.w(Fj,_.y);_.Gj=function(a){_.z(this,a,0,[])};_.w(_.Gj,_.y);var Hj=function(a){_.z(this,a,0,[])};_.w(Hj,_.y);_.Ij=function(a){return _.A(a,10)};_.Jj=function(a){return _.A(a,5)};_.Cj=function(){return _.D(_.J(),Fj,4)||new Fj}; _.Lj=function(a){var c=\"//www.google.com/gen_204?\",c=c+a.d(2040-c.length);Kj(c)};Kj=function(a){var c=new window.Image,d=Mj;c.onerror=c.onload=c.onabort=function(){d in Nj&amp;&amp;delete Nj[d]};Nj[Mj++]=c;c.src=a};Nj=[];Mj=0;\n",
      "_.Oj=function(){this.data={}};_.Oj.prototype.b=function(){window.console&amp;&amp;window.console.log&amp;&amp;window.console.log(\"Log data: \",this.data)};_.Oj.prototype.d=function(a){var c=[],d;for(d in this.data)c.push((0,window.encodeURIComponent)(d)+\"=\"+(0,window.encodeURIComponent)(String(this.data[d])));return(\"atyp=i&amp;zx=\"+(new Date).getTime()+\"&amp;\"+c.join(\"&amp;\")).substr(0,a)};\n",
      "var Pj=function(a){this.b=a};Pj.prototype.log=function(a,c){try{if(this.A(a)){var d=this.k(a,c);this.d(d)}}catch(e){}};Pj.prototype.d=function(a){this.b?a.b():_.Lj(a)};var Qj=function(a,c){this.data={};var d=_.D(a,_.ta,8)||new _.ta;this.data.ei=_.G(_.Ij(a));this.data.ogf=_.G(_.A(d,3));var e;e=window.google&amp;&amp;window.google.sn?/.*hp$/.test(window.google.sn)?!1:!0:_.F(_.A(a,7));this.data.ogrp=e?\"1\":\"\";this.data.ogv=_.G(_.A(d,6))+\".\"+_.G(_.A(d,7));this.data.ogd=_.G(_.A(a,21));this.data.ogc=_.G(_.A(a,20));this.data.ogl=_.G(_.Jj(a));c&amp;&amp;(this.data.oggv=c)};_.w(Qj,_.Oj);\n",
      "_.Rj=function(a,c,d,e,f){Qj.call(this,a,c);_.sa(this.data,{jexpid:_.G(_.A(a,9)),srcpg:\"prop=\"+_.G(_.A(a,6)),jsr:Math.round(1/e),emsg:d.name+\":\"+d.message});if(f){f._sn&amp;&amp;(f._sn=\"og.\"+f._sn);for(var g in f)this.data[(0,window.encodeURIComponent)(g)]=f[g]}};_.w(_.Rj,Qj);\n",
      "var Sj=[1,2,3,4,5,6,9,10,11,13,14,28,29,30,34,35,37,38,39,40,41,42,43,48,49,50,51,52,53,500],Vj=function(a,c,d,e,f,g){Qj.call(this,a,c);_.sa(this.data,{oge:e,ogex:_.G(_.A(a,9)),ogp:_.G(_.A(a,6)),ogsr:Math.round(1/(Tj(e)?_.H(null!=_.A(d,3)?_.A(d,3):1):_.H(null!=_.A(d,2)?_.A(d,2):1E-4))),ogus:f});if(g){\"ogw\"in g&amp;&amp;(this.data.ogw=g.ogw,delete g.ogw);\"ved\"in g&amp;&amp;(this.data.ved=g.ved,delete g.ved);a=[];for(var h in g)0!=a.length&amp;&amp;a.push(\",\"),a.push(Uj(h)),a.push(\".\"),a.push(Uj(g[h]));g=a.join(\"\");\"\"!=g&amp;&amp; (this.data.ogad=g)}};_.w(Vj,Qj);var Uj=function(a){return(a+\"\").replace(\".\",\"%2E\").replace(\",\",\"%2C\")},Wj=null,Tj=function(a){if(!Wj){Wj={};for(var c=0;c&lt;Sj.length;c++)Wj[Sj[c]]=!0}return!!Wj[a]};\n",
      "var Xj=function(a,c,d,e){this.b=e;this.F=c;this.J=d;this.w=_.H(null!=_.A(a,2)?_.A(a,2):.001,.001);this.O=_.F(_.A(a,1))&amp;&amp;Math.random()&lt;this.w;this.C=_.H(null!=_.A(a,3)?_.A(a,3):1,1);this.o=0;this.B=_.F(null!=_.A(a,4)?_.A(a,4):!0,!0)};_.w(Xj,Pj);Xj.prototype.log=function(a,c){Xj.G.log.call(this,a,c);if(this.b&amp;&amp;this.B)throw a;};Xj.prototype.A=function(){return this.b||this.O&amp;&amp;this.o&lt;this.C}; Xj.prototype.k=function(a,c){try{return _.wa(_.va.N(),\"lm\").wf(a,c)}catch(d){return new _.Rj(this.F,this.J,a,this.w,c)}};Xj.prototype.d=function(a){Xj.G.d.call(this,a);this.o++};\n",
      "var Yj=function(a,c,d,e,f){this.b=f;this.F=a;this.O=c;this.J=e;this.B=_.H(null!=_.A(a,2)?_.A(a,2):1E-4,1E-4);this.w=_.H(null!=_.A(a,3)?_.A(a,3):1,1);c=Math.random();this.C=_.F(_.A(a,1))&amp;&amp;c&lt;this.B;this.o=_.F(_.A(a,1))&amp;&amp;c&lt;this.w;a=0;_.F(_.A(d,1))&amp;&amp;(a|=1);_.F(_.A(d,2))&amp;&amp;(a|=2);_.F(_.A(d,3))&amp;&amp;(a|=4);this.va=a};_.w(Yj,Pj);Yj.prototype.A=function(a){return this.b||(Tj(a)?this.o:this.C)};Yj.prototype.k=function(a,c){return new Vj(this.O,this.J,this.F,a,this.va,c)};\n",
      "var Zj;Zj=null;_.ak=function(){if(!Zj){var a=_.D(_.J(),_.Gj,13)||new _.Gj,c=_.Ja();Zj=new Xj(a,c,_.Ej(),_.Fa)}return Zj};_.I=function(a,c){_.ak().log(a,c)};_.bk=function(a,c){return function(){try{return a.apply(c,arguments)}catch(d){_.I(d)}}};var ck;ck=null;_.dk=function(){if(!ck){var a=_.D(_.J(),Hj,12)||new Hj,c=_.Ja(),d=_.Aj()||new _.zj;ck=new Yj(a,c,d,_.Ej(),_.Fa)}return ck};_.V=function(a,c){_.dk().log(a,c)};_.V(8,{m:\"BackCompat\"==window.document.compatMode?\"q\":\"s\"});\n",
      "}catch(e){_._DumpException(e)}\n",
      "try{\n",
      "var hk,jk;_.ek=function(a){_.z(this,a,0,[3,5])};_.w(_.ek,_.y);var fk=function(a){_.z(this,a,0,[])};_.w(fk,_.y);_.gk=function(a){_.z(this,a,0,[])};_.w(_.gk,_.y);\n",
      "_.ik=function(a,c,d,e,f,g){_.x.call(this);this.F=c;this.J=f;this.o=g;this.R=!1;this.k={\"\":!0};this.H={\"\":!0};this.A=[];this.w=[];this.Q=[\"//\"+_.G(_.A(a,2)),\"og/_/js\",\"k=\"+_.G(_.A(a,3)),\"rt=j\"];this.O=\"\"==_.G(_.A(a,14))?null:_.A(a,14);this.K=[\"//\"+_.G(_.A(a,2)),\"og/_/ss\",\"k=\"+_.G(_.A(a,13))];this.B=\"\"==_.G(_.A(a,15))?null:_.A(a,15);this.U=_.F(_.A(a,1))?\"?host=www.gstatic.com&amp;bust=\"+_.G(_.A(a,16)):\"\";this.T=_.F(_.A(a,1))?\"?host=www.gstatic.com&amp;bust=\"+1E11*Math.random():\"\";this.d=d;this.b=_.H(null!=\n",
      "_.A(a,17)?_.A(a,17):1,1);a=0;for(c=e[a];a&lt;e.length;a++,c=e[a])hk(this,c,!0)};_.w(_.ik,_.x);_.xa(_.ik,\"m\");hk=function(a,c,d){if(!a.k[c]&amp;&amp;(a.k[c]=!0,d&amp;&amp;a.d[c]))for(var e=0;e&lt;a.d[c].length;e++)hk(a,a.d[c][e],d)};jk=function(a,c){for(var d=[],e=0;e&lt;c.length;e++){var f=c[e];if(!a.k[f]){var g=a.d[f];g&amp;&amp;(g=jk(a,g),d=d.concat(g));d.push(f);a.k[f]=!0}}return d};_.lk=function(a,c,d){c=jk(a,c);0&lt;c.length&amp;&amp;(c=a.Q.join(\"/\")+\"/\"+(\"m=\"+c.join(\",\")),a.O&amp;&amp;(c+=\"/rs=\"+a.O),c=c+a.U,kk(a,c,(0,_.u)(a.P,a,d)),a.A.push(c))};\n",
      "_.ik.prototype.P=function(a){_.E(\"api\").Sa();for(var c=0;c&lt;this.w.length;c++)this.w[c].call(null);a&amp;&amp;a.call(null)};\n",
      "var kk=function(a,c,d,e){var f=window.document.createElement(\"SCRIPT\");f.async=!0;f.type=\"text/javascript\";f.charset=\"UTF-8\";f.src=c;var g=!0,h=e||1;e=(0,_.u)(function(){g=!1;this.o.log(47,{att:h,max:a.b,url:c});h&lt;a.b?kk(a,c,d,h+1):this.J.log(Error(\"U`\"+h+\"`\"+a.b),{url:c})},a);var l=(0,_.u)(function(){g&amp;&amp;(this.o.log(46,{att:h,max:a.b,url:c}),g=!1,d&amp;&amp;d.call(null))},a),q=function(a){\"loaded\"==a.readyState||\"complete\"==a.readyState?l():g&amp;&amp;window.setTimeout(function(){q(a)},100)};\"undefined\"!==typeof f.addEventListener?\n",
      "f.onload=function(){l()}:f.onreadystatechange=function(){f.onreadystatechange=null;q(f)};f.onerror=e;a.o.log(45,{att:h,max:a.b,url:c});window.document.getElementsByTagName(\"HEAD\")[0].appendChild(f)};_.ik.prototype.Ld=function(a,c){for(var d=[],e=0,f=a[e];e&lt;a.length;e++,f=a[e])this.H[f]||(d.push(f),this.H[f]=!0);0&lt;d.length&amp;&amp;(d=this.K.join(\"/\")+\"/\"+(\"m=\"+d.join(\",\")),this.B&amp;&amp;(d+=\"/rs=\"+this.B),d+=this.T,mk(d,c))};\n",
      "var mk=function(a,c){var d=window.document.createElement(\"LINK\");d.setAttribute(\"rel\",\"stylesheet\");d.setAttribute(\"type\",\"text/css\");d.setAttribute(\"href\",a);d.onload=d.onreadystatechange=function(){d.readyState&amp;&amp;\"loaded\"!=d.readyState&amp;&amp;\"complete\"!=d.readyState||c&amp;&amp;c.call(null)};window.document.getElementsByTagName(\"HEAD\")[0].appendChild(d)};\n",
      "_.ik.prototype.C=function(a){this.R||(void 0!=a?window.setTimeout((0,_.u)(this.C,this,void 0),a):(_.lk(this,_.A(this.F,1),(0,_.u)(this.S,this)),this.Ld(_.A(this.F,2)),this.R=!0))};_.ik.prototype.S=function(){_.v(\"gbar.qm\",(0,_.u)(function(a){try{a()}catch(c){this.J.log(c)}},this))};\n",
      "var nk=function(a,c){var d={};d._sn=[\"v.gas\",c].join(\".\");_.I(a,d)};var ok=[\"gbq1\",\"gbq2\",\"gbqfbwa\"],pk=function(a){var c=window.document.getElementById(\"gbqld\");c&amp;&amp;(c.style.display=a?\"none\":\"block\",c=window.document.getElementById(\"gbql\"))&amp;&amp;(c.style.display=a?\"block\":\"none\")};var qk=function(){};var rk=function(a,c,d){this.d=a;this.k=c;this.b=d||_.m};var sk=function(){this.b=[]};sk.prototype.A=function(a,c,d){this.F(a,c,d);this.b.push(new rk(a,c,d))};sk.prototype.F=function(a,c,d){d=d||_.m;for(var e=0,f=this.b.length;e&lt;f;e++){var g=this.b[e];if(g.d==a&amp;&amp;g.k==c&amp;&amp;g.b==d){this.b.splice(e,1);break}}};sk.prototype.w=function(a){for(var c=0,d=this.b.length;c&lt;d;c++){var e=this.b[c];\"hrc\"==e.d&amp;&amp;e.k.call(e.b,a)}};\n",
      "var tk,vk,wk,xk,yk;tk=null;_.uk=function(){if(null!=tk)return tk;var a=window.document.body.style;if(!(a=\"flexGrow\"in a||\"webkitFlexGrow\"in a))t:{if(a=window.navigator.userAgent){var c=/Trident\\/(\\d+)/.exec(a);if(c&amp;&amp;7&lt;=Number(c[1])){a=/\\bMSIE (\\d+)/.exec(a);a=!a||\"10\"==a[1];break t}}a=!1}return tk=a};\n",
      "vk=function(a,c,d){var e=window.NaN;window.getComputedStyle&amp;&amp;(a=window.getComputedStyle(a,null).getPropertyValue(c))&amp;&amp;\"px\"==a.substr(a.length-2)&amp;&amp;(e=d?(0,window.parseFloat)(a.substr(0,a.length-2)):(0,window.parseInt)(a.substr(0,a.length-2),10));return e};\n",
      "wk=function(a){var c=a.offsetWidth,d=vk(a,\"width\");if(!(0,window.isNaN)(d))return c-d;var e=a.style.padding,f=a.style.paddingLeft,g=a.style.paddingRight;a.style.padding=a.style.paddingLeft=a.style.paddingRight=0;d=a.clientWidth;a.style.padding=e;a.style.paddingLeft=f;a.style.paddingRight=g;return c-d};\n",
      "xk=function(a){var c=vk(a,\"min-width\");if(!(0,window.isNaN)(c))return c;var d=a.style.width,e=a.style.padding,f=a.style.paddingLeft,g=a.style.paddingRight;a.style.width=a.style.padding=a.style.paddingLeft=a.style.paddingRight=0;c=a.clientWidth;a.style.width=d;a.style.padding=e;a.style.paddingLeft=f;a.style.paddingRight=g;return c};yk=function(a,c){c||-.5!=a-Math.round(a)||(a-=.5);return Math.round(a)}; _.zk=function(a){if(a){var c=a.style.opacity;a.style.opacity=\".99\";_.Za(a.offsetWidth);a.style.opacity=c}};\n",
      "var Ak=function(a){_.x.call(this);this.b=a;this.d=[];this.k=[]};_.w(Ak,_.x);Ak.prototype.L=function(){Ak.G.L.call(this);this.b=null;for(var a=0;a&lt;this.d.length;a++)this.d[a].Y();for(a=0;a&lt;this.k.length;a++)this.k[a].Y();this.d=this.k=null};\n",
      "Ak.prototype.Ja=function(a){void 0==a&amp;&amp;(a=this.b.offsetWidth);for(var c=wk(this.b),d=[],e=0,f=0,g=0,h=0,l=0;l&lt;this.d.length;l++){var q=this.d[l],r=Bk(q),B=wk(q.b);d.push({item:q,cb:r,qh:B,sc:0});e+=r.Ec;f+=r.Tc;g+=r.Qb;h+=B}a=a-h-c-g;e=0&lt;a?e:f;f=a;c=d;do{g=!0;h=[];for(l=q=0;l&lt;c.length;l++){var r=c[l],B=0&lt;f?r.cb.Ec:r.cb.Tc,C=0==e?0:B/e*f+r.sc,C=yk(C,g),g=!g;r.sc=Ck(r.item,C,r.qh,r.cb.Qb);0&lt;B&amp;&amp;C==r.sc&amp;&amp;(h.push(r),q+=B)}c=h;f=a-(0,_.na)(d,function(a,c){return a+c.sc},0);e=q}while(0!=f&amp;&amp;0!=c.length);\n",
      "for(l=0;l&lt;this.k.length;l++)this.k[l].Ja()};var Ek=function(a){var c={};c.items=(0,_.ma)(a.d,function(a){return Dk(a)});c.children=(0,_.ma)(a.k,function(a){return Ek(a)});return c},Fk=function(a,c){for(var d=0;d&lt;a.d.length;d++)a.d[d].b.style.width=c.items[d];for(d=0;d&lt;a.k.length;d++)Fk(a.k[d],c.children[d])};Ak.prototype.M=function(){return this.b};\n",
      "var Gk=function(a,c,d,e){Ak.call(this,a);this.w=c;this.A=d;this.o=e};_.w(Gk,Ak);\n",
      "var Bk=function(a,c){var d=a.w,e=a.A,f;if(-1==a.o){var g=c;void 0==g&amp;&amp;(g=wk(a.b));f=Dk(a);var h=Ek(a),l=vk(a.b,\"width\",!0);(0,window.isNaN)(l)&amp;&amp;(l=a.b.offsetWidth-g);g=Math.ceil(l);a.b.style.width=f;Fk(a,h);f=g}else f=a.o;return{Ec:d,Tc:e,Qb:f}},Ck=function(a,c,d,e){void 0==d&amp;&amp;(d=wk(a.b));void 0==e&amp;&amp;(e=Bk(a,d).Qb);c=e+c;0&gt;c&amp;&amp;(c=0);a.b.style.width=c+\"px\";d=a.b.offsetWidth-d;a.b.style.width=d+\"px\";return d-e},Dk=function(a){var c=a.b.style.width;a.b.style.width=\"\";return c};\n",
      "var Hk=function(a,c,d){var e;void 0==e&amp;&amp;(e=-1);return{className:a,cb:{Ec:c||0,Tc:d||0,Qb:e}}},Ik={className:\"gb_Ub\",items:[Hk(\"gb_Na\"),Hk(\"gb_ac\"),Hk(\"gb_Cb\",0,2),Hk(\"gb_bc\"),Hk(\"gb_7\",1,1)],ab:[{className:\"gb_7\",items:[Hk(\"gb_Cc\",0,1),Hk(\"gb_Bc\",0,1)],ab:[function(a){a=a.gb_Cc;var c;if(a)c=a.M();else{c=window.document.querySelector(\".gb_Cc\");if(!c)return null;a=new Ak(c)}c=c.querySelectorAll(\".gb_g\");for(var d=0;d&lt;c.length;d++){var e;if(_.Qg(c[d],\"gb_i\")){e=new Gk(c[d],0,1,-1);var f=c[d].querySelector(\".gb_f\");\n",
      "f&amp;&amp;(f=new Gk(f,0,1,-1),e.d.push(f),a.k.push(e))}else e=new Gk(c[d],0,0,-1);a.d.push(e)}return a},{className:\"gb_Bc\",items:[Hk(\"gb_B\"),Hk(\"gb_Wa\"),Hk(\"gb_Qb\"),Hk(\"gb_fa\",0,1),Hk(\"gb_Dc\"),Hk(\"gb_ba\",0,1),Hk(\"gb_Ec\"),Hk(\"gb_dc\")],ab:[{className:\"gb_fa\",items:[Hk(\"gb_ha\",0,1)],ab:[{className:\"gb_ha\",items:[Hk(\"gb_da\",0,1)],ab:[]}]}]}]},{className:\"gb_7b\",items:[Hk(\"gbqff\",1,1),Hk(\"gb_6b\")],ab:[]}]},Jk=function(a,c){var d=c;if(!d){d=window.document.querySelector(\".\"+a.className);if(!d)return null;d=new Ak(d)}for(var e=\n",
      "{},f=0;f&lt;a.items.length;f++){var g=a.items[f],h;h=g;var l=window.document.querySelector(\".\"+h.className);if(h=l?new Gk(l,h.cb.Ec,h.cb.Tc,h.cb.Qb):null)d.d.push(h),e[g.className]=h}for(f=0;f&lt;a.ab.length;f++){var g=a.ab[f],q;\"function\"==typeof g?q=g(e):q=Jk(g,e[g.className]);q&amp;&amp;d.k.push(q)}return d};\n",
      "_.Mk=function(a){_.x.call(this);this.B=new sk;this.d=window.document.getElementById(\"gb\");this.O=(this.b=window.document.querySelector(\".gb_7\"))?this.b.querySelector(\".gb_Bc\"):null;this.C=[];this.je=60;this.J=_.A(a,4);this.zh=_.H(_.A(a,2),152);this.Kf=_.H(_.A(a,1),30);this.k=null;this.Le=_.F(_.A(a,3),!0);this.o=1;this.d&amp;&amp;this.J&amp;&amp;(this.d.style.minWidth=this.J+\"px\");_.Kk(this);this.Le&amp;&amp;(this.d&amp;&amp;(Lk(this),_.T(this.d,\"gb_Db\"),_.uk()||(this.k=Jk(Ik))),this.Ja(),window.setTimeout((0,_.u)(this.Ja,this),\n",
      "0));_.v(\"gbar.elc\",(0,_.u)(this.K,this));_.v(\"gbar.ela\",_.Ya);_.v(\"gbar.elh\",(0,_.u)(this.R,this))};_.w(_.Mk,_.x);_.xa(_.Mk,\"el\");var Nk=function(){var a=_.Mk.Jh();return{es:a?{f:a.zh,h:a.je,m:a.Kf}:{f:152,h:60,m:30},mo:\"md\",vh:window.innerHeight||0,vw:window.innerWidth||0}};_.Mk.prototype.L=function(){_.Mk.G.L.call(this)};_.Mk.prototype.Ja=function(a){a&amp;&amp;Lk(this);this.k&amp;&amp;this.k.Ja(Math.max(window.document.documentElement.clientWidth,xk(this.d)));_.zk(this.b)};\n",
      "_.Mk.prototype.H=function(){try{var a=window.document.getElementById(\"gb\"),c=a.querySelector(\".gb_7\");_.U(a,\"gb_Uc\");c&amp;&amp;_.U(c,\"gb_Uc\");for(var a=0,d;d=ok[a];a++)_.U(window.document.getElementById(d),\"gbqfh\");pk(!1)}catch(e){nk(e,\"rhcc\")}this.Ja(!0)};_.Mk.prototype.T=function(){try{var a=window.document.getElementById(\"gb\"),c=a.querySelector(\".gb_7\");_.T(a,\"gb_Uc\");c&amp;&amp;_.T(c,\"gb_Uc\");for(var a=0,d;d=ok[a];a++)_.T(window.document.getElementById(d),\"gbqfh\");pk(!0)}catch(e){nk(e,\"ahcc\")}this.Ja(!0)};\n",
      "_.Kk=function(a){if(a.d){var c=a.d.offsetWidth;0==a.o?900&lt;=c&amp;&amp;(a.o=1,a.w(new qk)):900&gt;c&amp;&amp;(a.o=0,a.w(new qk))}};_.Mk.prototype.K=function(a){this.C.push(a)};_.Mk.prototype.R=function(a){var c=Nk().es.h;this.je=c+a;for(a=0;a&lt;this.C.length;a++)try{this.C[a](Nk())}catch(d){_.I(d)}};var Lk=function(a){if(a.b){var c;a.k&amp;&amp;(c=Ek(a.k));_.T(a.b,\"gb_l\");a.b.style.minWidth=a.b.offsetWidth-wk(a.b)+\"px\";a.O.style.minWidth=a.O.offsetWidth-wk(a.O)+\"px\";_.U(a.b,\"gb_l\");c&amp;&amp;Fk(a.k,c)}}; _.Mk.prototype.A=function(a,c,d){this.B.A(a,c,d)};_.Mk.prototype.F=function(a,c){this.B.F(a,c)};_.Mk.prototype.w=function(a){this.B.w(a)};\n",
      "_.Xa(function(){var a=_.D(_.J(),fk,21)||new fk,a=new _.Mk(a);_.za(\"el\",a);_.v(\"gbar.gpca\",(0,_.u)(a.T,a));_.v(\"gbar.gpcr\",(0,_.u)(a.H,a))});_.v(\"gbar.elr\",Nk);_.Ok=function(a){this.k=_.Mk.N();this.d=a};_.Ok.prototype.b=function(a,c){0==this.k.o?(_.T(a,\"gb_k\"),c?(_.U(a,\"gb_ea\"),_.T(a,\"gb_Fc\")):(_.U(a,\"gb_Fc\"),_.T(a,\"gb_ea\"))):_.Sg(a,[\"gb_k\",\"gb_ea\",\"gb_Fc\"])};_.v(\"gbar.sos\",function(){return window.document.querySelectorAll(\".gb_9b\")});_.v(\"gbar.si\",function(){return window.document.querySelector(\".gb_8b\")});\n",
      "_.Xa(function(){if(_.D(_.J(),_.ek,16)){var a=window.document.querySelector(\".gb_7\"),c=_.D(_.J(),_.ek,16)||new _.ek,c=new _.Ok(_.F(_.A(c,1),!1));a&amp;&amp;c.d&amp;&amp;c.b(a,!1)}});\n",
      "}catch(e){_._DumpException(e)}\n",
      "try{\n",
      "var Pk=function(){_.Ha.k(_.I)};var Qk=function(a,c){var d=_.bk(Pk);a.addEventListener?a.addEventListener(c,d):a.attachEvent(\"on\"+c,d)};var Rk=function(a,c){a.w.push(c)},Sk=function(a){_.z(this,a,0,[1,2])};_.w(Sk,_.y);var Tk=function(){_.x.call(this);this.o=this.b=null;this.d={};this.w={};this.k={}};_.w(Tk,_.x);_.k=Tk.prototype;_.k.af=function(a){a&amp;&amp;this.b&amp;&amp;a!=this.b&amp;&amp;this.b.close();this.b=a};_.k.Ne=function(a){a=this.k[a]||a;return this.b==a};_.k.Dh=function(a){this.o=a};\n",
      "_.k.Me=function(a){return this.o==a};_.k.gd=function(){this.b&amp;&amp;this.b.close();this.b=null};_.k.vf=function(a){this.b&amp;&amp;this.b.getId()==a&amp;&amp;this.gd()};_.k.Nb=function(a,c,d){this.d[a]=this.d[a]||{};this.d[a][c]=this.d[a][c]||[];this.d[a][c].push(d)};_.k.ed=function(a,c){var d=c.getId();if(this.d[a]&amp;&amp;this.d[a][d])for(var e=0;e&lt;this.d[a][d].length;e++)try{this.d[a][d][e]()}catch(f){_.I(f)}};_.k.Fh=function(a,c){this.w[a]=c};_.k.tf=function(a){return!this.w[a.getId()]};\n",
      "_.k.Pg=function(){return!!this.b&amp;&amp;this.b.S};_.k.sf=function(){return!!this.b};_.k.Se=function(){this.b&amp;&amp;this.b.ja()};_.k.ef=function(a){this.k[a]&amp;&amp;(this.b&amp;&amp;this.b.getId()==a||this.k[a].open())};_.k.hh=function(a){this.k[a.getId()]=a};var Uk;window.gbar&amp;&amp;window.gbar._DPG?Uk=window.gbar._DPG[0]||{}:Uk={};var Vk;window.gbar&amp;&amp;window.gbar._LDD?Vk=window.gbar._LDD:Vk=[];var Wk=_.Ja(),Xk=new _.ik(Wk,_.D(_.J(),Sk,17)||new Sk,Uk,Vk,_.ak(),_.dk());_.za(\"m\",Xk); if(_.F(_.A(Wk,18),!0))Xk.C();else{var Yk=(0,_.u)(Xk.C,Xk,_.H(_.A(Wk,19),200));_.Xa(Yk)}Qk(window.document,\"DOMContentLoaded\");Qk(window,\"load\");\n",
      "_.v(\"gbar.ldb\",(0,_.u)(_.Ha.k,_.Ha));_.v(\"gbar.mls\",function(){});var Zk=function(){_.x.call(this);this.k=this.b=null;this.w=0;this.o={};this.d=!1;var a=window.navigator.userAgent;0&lt;=a.indexOf(\"MSIE\")&amp;&amp;0&lt;=a.indexOf(\"Trident\")&amp;&amp;(a=/\\b(?:MSIE|rv)[: ]([^\\);]+)(\\)|;)/.exec(a))&amp;&amp;a[1]&amp;&amp;9&gt;(0,window.parseFloat)(a[1])&amp;&amp;(this.d=!0)};_.w(Zk,_.x);\n",
      "var $k=function(a,c,d){if(!a.d)if(d instanceof Array)for(var e in d)$k(a,c,d[e]);else{e=(0,_.u)(a.A,a,c);var f=a.w+d;a.w++;c.setAttribute(\"data-eqid\",f);a.o[f]=e;c&amp;&amp;c.addEventListener?c.addEventListener(d,e,!1):c&amp;&amp;c.attachEvent?c.attachEvent(\"on\"+d,e):_.I(Error(\"V`\"+c))}};\n",
      "Zk.prototype.Oe=function(a,c){if(this.d)return null;if(c instanceof Array){var d=null,e;for(e in c){var f=this.Oe(a,c[e]);f&amp;&amp;(d=f)}return d}d=null;this.b&amp;&amp;this.b.type==c&amp;&amp;this.k==a&amp;&amp;(d=this.b,this.b=null);if(e=a.getAttribute(\"data-eqid\"))a.removeAttribute(\"data-eqid\"),(e=this.o[e])?a.removeEventListener?a.removeEventListener(c,e,!1):a.detachEvent&amp;&amp;a.detachEvent(\"on\"+c,e):_.I(Error(\"W`\"+a));return d};Zk.prototype.A=function(a,c){this.b=c;this.k=a;c.preventDefault?c.preventDefault():c.returnValue=!1};\n",
      "_.za(\"eq\",new Zk);var al=function(){_.x.call(this);this.ie=[];this.hd=[]};_.w(al,_.x);al.prototype.b=function(a,c){this.ie.push({tc:a,options:c})};al.prototype.init=function(){window.gapi={};var a=_.Cj(),c=window.___jsl={};c.h=_.G(_.A(a,1));c.ms=_.G(_.A(a,2));c.m=_.G(_.A(a,3));c.l=[];a=_.D(_.J(),_.Bj,5)||new _.Bj;_.A(a,1)&amp;&amp;(a=_.A(a,3))&amp;&amp;this.hd.push(a);a=_.D(_.J(),_.gk,6)||new _.gk;_.A(a,1)&amp;&amp;(a=_.A(a,2))&amp;&amp;this.hd.push(a);_.v(\"gapi.load\",(0,_.u)(this.b,this));return this};\n",
      "var bl=_.Cj();window.__PVT=_.G(_.A(bl,7));_.za(\"gs\",(new al).init());(function(){for(var a=function(a){return function(){_.V(44,{n:a})}},c=0;c&lt;_.Ma.length;c++){var d=\"gbar.\"+_.Ma[c];_.v(d,a(d))}var e=_.va.N();_.wa(e,\"api\").Sa();Rk(_.wa(e,\"m\"),function(){_.wa(e,\"api\").Sa()})})();var cl=function(a){_.Xa(function(){var c=window.document.querySelector(\".\"+a);c&amp;&amp;(c=c.querySelector(\".gb_C\"))&amp;&amp;$k(_.E(\"eq\"),c,\"click\")})};var dl=window.document.querySelector(\".gb_B\"),el=/(\\s+|^)gb_5b(\\s+|$)/;dl&amp;&amp;!el.test(dl.className)&amp;&amp;cl(\"gb_B\");var fl=new Tk;_.za(\"dd\",fl);_.v(\"gbar.close\",(0,_.u)(fl.gd,fl));_.v(\"gbar.cls\",(0,_.u)(fl.vf,fl));_.v(\"gbar.abh\",(0,_.u)(fl.Nb,fl,0));_.v(\"gbar.adh\",(0,_.u)(fl.Nb,fl,1));_.v(\"gbar.ach\",(0,_.u)(fl.Nb,fl,2));_.v(\"gbar.aeh\",(0,_.u)(fl.Fh,fl));_.v(\"gbar.bsy\",(0,_.u)(fl.Pg,fl));_.v(\"gbar.op\",(0,_.u)(fl.sf,fl));\n",
      "cl(\"gb_fa\");_.Xa(function(){var a=window.document.querySelector(\".gb_Qa\");a&amp;&amp;$k(_.E(\"eq\"),a,\"click\")});cl(\"gb_Wa\");_.v(\"gbar.qfgw\",(0,_.u)(window.document.getElementById,window.document,\"gbqfqw\"));_.v(\"gbar.qfgq\",(0,_.u)(window.document.getElementById,window.document,\"gbqfq\"));_.v(\"gbar.qfgf\",(0,_.u)(window.document.getElementById,window.document,\"gbqf\"));_.v(\"gbar.qfsb\",(0,_.u)(window.document.getElementById,window.document,\"gbqfb\"));\n",
      "cl(\"gb_Qb\");cl(\"gb_dc\");\n",
      "}catch(e){_._DumpException(e)}\n",
      "})(this.gbar_);\n",
      "// Google Inc.\n",
      "</script><div class=\"gb_Vb\"></div><style>.gb_d .gbqfi::before{left:-56px;top:-35px}.gb_D .gbqfb:focus .gbqfi{outline:1px dotted #fff}@-moz-keyframes gb__a{0%{opacity:0}50%{opacity:1}}@keyframes gb__a{0%{opacity:0}50%{opacity:1}}#gb#gb a.gb_e,#gb#gb a.gb_f{color:#404040;text-decoration:none}#gb#gb a.gb_f:hover,#gb#gb a.gb_f:focus{color:#000;text-decoration:underline}.gb_g.gb_h{display:none;padding-left:15px;vertical-align:middle}.gb_g.gb_h:first-child{padding-left:0}.gb_i.gb_h{display:inline-block;flex:0 1 auto;flex:0 1 main-size;display:-webkit-flex;display:flex}.gb_j .gb_i{display:none}.gb_g .gb_f{display:inline-block;line-height:24px;outline:none;vertical-align:middle}.gb_i .gb_f{min-width:60px;overflow:hidden;flex:0 1 auto;flex:0 1 main-size;text-overflow:ellipsis}.gb_k .gb_i .gb_f{min-width:0}.gb_l .gb_i .gb_f{width:0!important}.gb_m .gb_f{font-weight:bold;text-shadow:0 1px 1px rgba(255,255,255,.9)}.gb_n .gb_f{font-weight:bold;text-shadow:0 1px 1px rgba(0,0,0,.6)}#gb#gb.gb_n a.gb_f{color:#fff}.gb_B .gb_C{background-position:-326px -52px;opacity:.55}.gb_m .gb_B .gb_C{background-position:-97px -57px;opacity:.7}.gb_n .gb_B .gb_C{background-position:-214px 0;opacity:1}.gb_Nc{left:0;min-width:1152px;position:absolute;top:0;-moz-user-select:-moz-none;width:100%}.gb_Ub{font:13px/27px Arial,sans-serif;position:relative;height:60px;width:100%}.gb_aa .gb_Ub{height:28px}#gba{height:60px}#gba.gb_aa{height:28px}#gba.gb_Oc{height:90px}#gba.gb_Oc.gb_aa{height:58px}.gb_Ub&gt;.gb_h{height:60px;line-height:58px;vertical-align:middle}.gb_aa .gb_Ub&gt;.gb_h{height:28px;line-height:26px}.gb_Ub::before{background:#e5e5e5;bottom:0;content:'';display:none;height:1px;left:0;position:absolute;right:0}.gb_Ub{background:#f1f1f1}.gb_Pc .gb_Ub{background:#fff}.gb_Pc .gb_Ub::before,.gb_aa .gb_Ub::before{display:none}.gb_m .gb_Ub,.gb_n .gb_Ub,.gb_aa .gb_Ub{background:transparent}.gb_m .gb_Ub::before{background:#e1e1e1;background:rgba(0,0,0,.12)}.gb_n .gb_Ub::before{background:#333;background:rgba(255,255,255,.2)}.gb_h{display:inline-block;flex:0 0 auto;flex:0 0 main-size}.gb_h.gb_Qc{float:right;order:1}.gb_Rc{white-space:nowrap;display:-webkit-flex;display:flex;margin-left:0!important;margin-right:0!important}.gb_h{margin-left:0!important;margin-right:0!important}.gb_Sa{background-image:url('//ssl.gstatic.com/gb/images/i1_71651352.png');background-size:356px 144px}@media (min-resolution:1.25dppx),(-webkit-min-device-pixel-ratio:1.25),(min-device-pixel-ratio:1.25){.gb_Sa{background-image:url('//ssl.gstatic.com/gb/images/i2_9ef0f6fa.png')}}.gb_jb{display:inline-block;padding:0 0 0 15px;vertical-align:middle}.gb_jb:first-child,#gbsfw:first-child+.gb_jb{padding-left:0}.gb_Xa{position:relative}.gb_C{display:inline-block;outline:none;vertical-align:middle;-moz-border-radius:2px;border-radius:2px;-moz-box-sizing:border-box;box-sizing:border-box;height:30px;width:30px}#gb#gb a.gb_C{color:#404040;cursor:default;text-decoration:none}#gb#gb a.gb_C:hover,#gb#gb a.gb_C:focus{color:#000}.gb_ia{border-color:transparent;border-bottom-color:#fff;border-style:dashed dashed solid;border-width:0 8.5px 8.5px;display:none;position:absolute;left:6.5px;top:37px;z-index:1;height:0;width:0;-moz-animation:gb__a .2s;animation:gb__a .2s}.gb_ja{border-color:transparent;border-style:dashed dashed solid;border-width:0 8.5px 8.5px;display:none;position:absolute;left:6.5px;z-index:1;height:0;width:0;-moz-animation:gb__a .2s;animation:gb__a .2s;border-bottom-color:#ccc;border-bottom-color:rgba(0,0,0,.2);top:36px}x:-o-prefocus,div.gb_ja{border-bottom-color:#ccc}.gb_F{background:#fff;border:1px solid #ccc;border-color:rgba(0,0,0,.2);box-shadow:0 2px 10px rgba(0,0,0,.2);display:none;outline:none;overflow:hidden;position:absolute;right:0;top:44px;-moz-animation:gb__a .2s;animation:gb__a .2s;-moz-border-radius:2px;border-radius:2px;-moz-user-select:text}.gb_jb.gb_Ka .gb_ia,.gb_jb.gb_Ka .gb_ja,.gb_jb.gb_Ka .gb_F{display:block}.gb_fc{position:absolute;right:0;top:44px;z-index:-1}.gb_aa .gb_ia,.gb_aa .gb_ja,.gb_aa .gb_F{margin-top:-10px}.gb_6{background-size:32px 32px;border-radius:50%;display:block;margin:-1px;height:32px;width:32px}.gb_6:hover,.gb_6:focus{-moz-box-shadow:0 1px 0 rgba(0,0,0,.15);box-shadow:0 1px 0 rgba(0,0,0,.15)}.gb_6:active{-moz-box-shadow:inset 0 2px 0 rgba(0,0,0,.15);box-shadow:inset 0 2px 0 rgba(0,0,0,.15)}.gb_6:active::after{background:rgba(0,0,0,.1);border-radius:50%;content:'';display:block;height:100%}.gb_7:not(.gb_d) .gb_6::before,.gb_7:not(.gb_d) .gb_8::before{content:none}.gb_9{cursor:pointer;line-height:30px;min-width:30px;overflow:hidden;vertical-align:middle;width:auto;text-overflow:ellipsis}.gb_aa .gb_9,.gb_aa .gb_ba{line-height:26px}#gb#gb.gb_aa a.gb_9,.gb_aa .gb_ba{color:#666;font-size:11px;height:auto}#gb#gb.gb_aa a.gb_9:hover,#gb#gb.gb_aa a.gb_9:focus{color:#000}.gb_ca{border-top:4px solid #404040;border-left:4px dashed transparent;border-right:4px dashed transparent;display:inline-block;margin-left:6px;vertical-align:middle}.gb_aa .gb_ca{border-top-color:#999}.gb_da:hover .gb_ca{border-top-color:#000}.gb_m .gb_9{font-weight:bold;text-shadow:0 1px 1px rgba(255,255,255,.9)}.gb_n .gb_9{font-weight:bold;text-shadow:0 1px 1px rgba(0,0,0,.6)}#gb#gb.gb_n.gb_n a.gb_9{color:#fff}.gb_n.gb_n .gb_ca{border-top-color:#fff}.gb_m .gb_6,.gb_n .gb_6{-moz-box-shadow:0 1px 2px rgba(0,0,0,.2);box-shadow:0 1px 2px rgba(0,0,0,.2)}.gb_m .gb_6:hover,.gb_n .gb_6:hover,.gb_m .gb_6:focus,.gb_n .gb_6:focus{-moz-box-shadow:0 1px 0 rgba(0,0,0,.15),0 1px 2px rgba(0,0,0,.2);box-shadow:0 1px 0 rgba(0,0,0,.15),0 1px 2px rgba(0,0,0,.2)}.gb_ea .gb_fa,.gb_ga .gb_fa{position:absolute;right:1px}.gb_fa.gb_h,.gb_ha.gb_h,.gb_da.gb_h{flex:0 1 auto;flex:0 1 main-size}.gb_7.gb_l .gb_9{width:30px!important}.gb_Vb{display:none!important}.gb_d .gb_B .gb_C::before{left:-326px;top:-52px}.gb_d.gb_m .gb_B .gb_C::before{left:-97px;top:-57px}.gb_d.gb_n .gb_B .gb_C::before{left:-214px;top:0}.gb_D .gb_E{position:relative}.gb_d .gb_Qa .gb_Sa::before{left:0;top:-105px}.gb_d.gb_n .gb_Qa .gb_Sa::before{left:-97px;top:-92px}.gb_d.gb_m .gb_Qa .gb_Sa::before{left:-97px;top:0}.gb_d .gb_Ta{background-image:none!important}.gb_d .gb_Ua{visibility:visible}.gb_D .gb_Va span{background:transparent}.gb_d .gb_Za::before{left:-56px;top:0}.gb_d .gb_0a .gb_Za::before{left:-291px;top:-103px}.gb_d.gb_m .gb_C .gb_Za::before{left:-167px;top:-57px}.gb_d.gb_m .gb_0a .gb_Za::before{left:-132px;top:-57px}.gb_d.gb_n .gb_C .gb_Za::before{left:-326px;top:-87px}.gb_d.gb_n .gb_0a .gb_Za::before{left:0;top:-70px}.gb_D .gb_7a{border:1px solid #fff;color:#fff}.gb_D.gb_m .gb_7a{border-color:#000;color:#000}.gb_d .gb_7a.gb_8a::before,.gb_D.gb_d.gb_n .gb_7a.gb_8a::before{left:-214px;top:-117px}.gb_d .gb_7a.gb_9a::before,.gb_D.gb_d.gb_n .gb_7a.gb_9a::before{left:-256px;top:-73px}.gb_d.gb_n .gb_7a.gb_8a::before,.gb_D.gb_d.gb_m .gb_7a.gb_8a::before{left:-326px;top:-122px}.gb_d.gb_n .gb_7a.gb_9a::before,.gb_D.gb_d.gb_m .gb_7a.gb_9a::before{left:-214px;top:-92px}.gb_cb{display:none;margin:28px;margin-bottom:-12px;outline:none;position:relative;width:264px;z-index:1;-moz-border-radius:2px;border-radius:2px;-moz-box-shadow:0 1px 2px rgba(0,0,0,0.1),0 0 1px rgba(0,0,0,0.1);box-shadow:0 1px 2px rgba(0,0,0,0.1),0 0 1px rgba(0,0,0,0.1)}.gb_cb.gb_Ka{display:block}.gb_bb{background-size:64px 64px;display:inline-block;margin:12px;vertical-align:top;height:64px;width:64px}.gb_eb{display:inline-block;padding:16px 16px 16px 0;vertical-align:top;white-space:normal}.gb_bb~.gb_eb{margin-right:88px}.gb_eb:first-child{padding-left:16px}.gb_fb{color:#262626;font:16px/24px Arial,sans-serif}.gb_gb{color:#737373;font:13px/18px Arial,sans-serif}#gb#gb .gb_cb .gb_hb{color:#427fed;text-decoration:none}#gb#gb .gb_cb .gb_hb:hover{text-decoration:underline}.gb_cb .gb_db{background-position:-256px 0;cursor:pointer;opacity:.27;outline:none;position:absolute;right:4px;top:4px;height:12px;width:12px}.gb_cb .gb_db:hover{opacity:.55}.gb_jb.gb_kb{padding:0}.gb_kb .gb_F{padding:26px 26px 22px;background:#ffffff}.gb_lb.gb_kb .gb_F{background:#4d90fe}a.gb_mb{color:#666666!important;font-size:22px;height:9px;opacity:.8;position:absolute;right:14px;top:4px;text-decoration:none!important;width:9px}.gb_lb a.gb_mb{color:#c1d1f4!important}a.gb_mb:hover,a.gb_mb:active{opacity:1}.gb_nb{padding:0;width:258px;white-space:normal}.gb_lb .gb_nb{width:200px}.gb_ob{color:#333333;font-size:16px;line-height:20px;margin:0;margin-bottom:16px}.gb_lb .gb_ob{color:#ffffff}.gb_pb{color:#666666;line-height:17px;margin:0;margin-bottom:5px}.gb_lb .gb_pb{color:#ffffff}.gb_qb{position:absolute;background:transparent;top:-999px;z-index:-1;visibility:hidden;margin-top:1px;margin-left:1px}#gb .gb_kb{margin:0}.gb_kb .gb_X{background:#4d90fe;border-color:#3079ed;margin-top:15px}#gb .gb_kb a.gb_X.gb_X{color:#ffffff}.gb_kb .gb_X:hover{background:#357ae8;border-color:#2f5bb7}.gb_rb .gb_Xa .gb_ia{border-bottom-color:#ffffff;display:block}.gb_sb .gb_Xa .gb_ia{border-bottom-color:#4d90fe;display:block}.gb_rb .gb_Xa .gb_ja,.gb_sb .gb_Xa .gb_ja{display:block}.gb_tb{margin-bottom:32px;font-size:small}.gb_tb .gb_ub{margin-right:5px}.gb_tb .gb_vb{color:red}.gb_wb{color:#ffffff;font-size:13px;font-weight:bold;height:25px;line-height:19px;padding-top:5px;padding-left:12px;position:relative;background-color:#4d90fe}.gb_wb .gb_db{color:#ffffff;cursor:default;font-size:22px;font-weight:normal;position:absolute;right:12px;top:5px}.gb_wb .gb_hb,.gb_wb .gb_xb{color:#ffffff;display:inline-block;font-size:11px;margin-left:16px;padding:0 8px;white-space:nowrap}.gb_yb{background:none;background-image:linear-gradient(top,rgba(0,0,0,0.16),rgba(0,0,0,0.2));background-image:-moz-linear-gradient(top,rgba(0,0,0,0.16),rgba(0,0,0,0.2));border-radius:2px;border:1px solid #dcdcdc;border:1px solid rgba(0,0,0,0.1);cursor:default!important;filter:progid:DXImageTransform.Microsoft.gradient(startColorstr=#160000ff,endColorstr=#220000ff);text-decoration:none!important}.gb_yb:hover{background:none;background-image:linear-gradient(top,rgba(0,0,0,0.14),rgba(0,0,0,0.2));background-image:-moz-linear-gradient(top,rgba(0,0,0,0.14),rgba(0,0,0,0.2));border:1px solid rgba(0,0,0,0.2);box-shadow:0 1px 1px rgba(0,0,0,0.1);-moz-box-shadow:0 1px 1px rgba(0,0,0,0.1);filter:progid:DXImageTransform.Microsoft.gradient(startColorstr=#14000000,endColorstr=#22000000)}.gb_yb:active{box-shadow:inset 0 1px 2px rgba(0,0,0,0.3);-moz-box-shadow:inset 0 1px 2px rgba(0,0,0,0.3)}.gb_ib{display:none}.gb_ib.gb_Ka{display:block}.gb_d .gb_bb{background-image:none!important}.gb_d .gb_bb::before{display:inline-block;-moz-transform:scale(.5);transform:scale(.5);-moz-transform-origin:0 0;transform-origin:0 0}.gb_d .gb_cb .gb_db{position:absolute}.gb_d .gb_cb .gb_db::before{left:-256px;top:0}.gb_d .gb_Qb .gb_C::before{left:-326px;top:-17px}.gb_d.gb_m .gb_Qb .gb_C::before{left:-256px;top:-103px}.gb_d.gb_n .gb_Qb .gb_C::before{left:0;top:-35px}.gb_D .gb_ja{border:0;border-left:1px solid rgba(0,0,0,.2);border-top:1px solid rgba(0,0,0,.2);height:14px;width:14px;-moz-transform:rotate(45deg);transform:rotate(45deg)}.gb_D .gb_ia{border:0;border-left:1px solid rgba(0,0,0,.2);border-top:1px solid rgba(0,0,0,.2);height:14px;width:14px;-moz-transform:rotate(45deg);transform:rotate(45deg);border-color:#fff;background:#fff}.gb_d .gb_Ic::before{clip:rect(-0 51px 16px 35px);left:-13px;top:22px}.gb_d .gb_Sa.gb_Jc{position:absolute}.gb_d .gb_Jc::before{clip:rect(17px 307px 33px 291px);left:-261px;top:5px}.gb_d .gb_ea .gb_Ic::before{left:-5px}@media (min-resolution:1.25dppx),(-webkit-min-device-pixel-ratio:1.25),(min-device-pixel-ratio:1.25){.gb_d .gb_Ic::before{clip:rect(-0 102px 32px 70px)}.gb_d .gb_Jc::before{clip:rect(34px 614px 66px 582px)}}.gb_d .gb_Sa,.gb_d .gbii,.gb_d .gbip{background-image:none;overflow:hidden;position:relative}.gb_d .gb_Sa::before{content:url('//ssl.gstatic.com/gb/images/i1_71651352.png');position:absolute}@media (min-resolution:1.25dppx),(-webkit-min-device-pixel-ratio:1.25),(min-device-pixel-ratio:1.25){.gb_d .gb_Sa::before{content:url('//ssl.gstatic.com/gb/images/i2_9ef0f6fa.png');-moz-transform:scale(.5);transform:scale(.5);-moz-transform-origin:0 0;transform-origin:0 0}}.gb_D a:focus{outline:1px dotted #fff!important}sentinel{}</style><div id=\"xjsd\"><script src=\"/xjs/_/js/k=xjs.s.pt_BR.l-u7VRVb1Vo.O/m=sx,c,sb,cr,elog,jsa,r,hsm,j,p,pcc,csi/am=hKj_TwWDoBkBBURAoAw/rt=j/d=1/t=zcms/rs=ACT90oGlZa3DiaXXOGcBzMEwOXf3rKE-Tg\"></script><script src=\"/extern_chrome/787ffbb9ad53fee4.js?bav=on.2,or.r_qf.\"></script></div><div data-jiis=\"bp\" id=\"xjsi\"><script>(function(){function c(b){window.setTimeout(function(){var a=document.createElement(\"script\");a.src=b;document.getElementById(\"xjsd\").appendChild(a)},0)}google.dljp=function(b,a){google.xjsu=b;c(a)};google.dlj=c;})();(function(){window.google.xjsrm=[];})();if(google.y)google.y.first=[];if(!google.xjs){window._=window._||{};window._._DumpException=function(e){throw e};if(google.timers&amp;&amp;google.timers.load.t){google.timers.load.t.xjsls=new Date().getTime();}google.dljp('/xjs/_/js/k\\x3dxjs.s.pt_BR.l-u7VRVb1Vo.O/m\\x3dsx,c,sb,cr,elog,jsa,r,hsm,j,p,pcc,csi/am\\x3dhKj_TwWDoBkBBURAoAw/rt\\x3dj/d\\x3d1/t\\x3dzcms/rs\\x3dACT90oGlZa3DiaXXOGcBzMEwOXf3rKE-Tg','/xjs/_/js/k\\x3dxjs.s.pt_BR.l-u7VRVb1Vo.O/m\\x3dsx,c,sb,cr,elog,jsa,r,hsm,j,p,pcc,csi/am\\x3dhKj_TwWDoBkBBURAoAw/rt\\x3dj/d\\x3d1/t\\x3dzcms/rs\\x3dACT90oGlZa3DiaXXOGcBzMEwOXf3rKE-Tg');google.xjs=1;}google.pmc={\"sx\":{},\"c\":{\"mcr\":5},\"sb\":{\"agen\":false,\"cgen\":true,\"client\":\"hp\",\"dh\":true,\"ds\":\"\",\"eqch\":true,\"exp\":\"msedr\",\"fl\":true,\"host\":\"google.com.br\",\"jam\":1,\"kbl\":\"pt-BR\",\"kbv\":11,\"msgs\":{\"cibl\":\"Limpar pesquisa\",\"dym\":\"Você quis dizer:\",\"lcky\":\"Estou com sorte\",\"lml\":\"Saiba mais\",\"oskt\":\"Ferramentas de inserção de texto\",\"psrc\":\"Esta pesquisa foi removida do seu\\u003Ca href=\\\"/history\\\"\\u003EHistórico da web\\u003C/a\\u003E\",\"psrl\":\"Remover\",\"sbit\":\"Pesquisa por imagem\",\"srch\":\"Pesquisa Google\"},\"ovr\":{},\"pq\":\"\",\"psy\":\"p\",\"qcpw\":false,\"refoq\":true,\"scd\":10,\"sce\":4,\"stok\":\"yPfIzBw5OjTKddQjpLzQZsHTpxU\"},\"abd\":{\"abd\":false,\"dabp\":false,\"deb\":false,\"der\":false,\"det\":false,\"psa\":false,\"sup\":false},\"aldd\":{},\"async\":{},\"cdos\":{},\"cr\":{\"eup\":false,\"qir\":false,\"rctj\":true,\"ref\":true,\"uff\":false},\"ddls\":{},\"elog\":{},\"erh\":{},\"foot\":{\"pf\":true,\"po\":false,\"qe\":false},\"fpe\":{\"js\":true},\"gf\":{\"pid\":196},\"hv\":{},\"idck\":{},\"jsa\":{},\"jsaleg\":{},\"lc\":{},\"llc\":{},\"lrct\":{},\"lu\":{},\"m\":{\"ab\":{\"on\":true},\"ajax\":{\"gl\":\"br\",\"hl\":\"pt-BR\",\"q\":\"\"},\"css\":{\"showTopNav\":true},\"exp\":{\"lrb\":true,\"tnav\":true},\"msgs\":{\"details\":\"Detalhes do resultado\",\"hPers\":\"Ocultar resultados privados\",\"hPersD\":\"Ocultando resultados privados\",\"loading\":\"Ainda carregando...\",\"mute\":\"Desativar som\",\"noPreview\":\"Visualização indisponível\",\"sPers\":\"Exibir todos os resultados\",\"sPersD\":\"Mostrando resultados privados\",\"unmute\":\"Ativar som\"},\"time\":{\"hUnit\":1500}},\"r\":{},\"rk\":{\"bl\":\"Comentários\",\"db\":\"Informado\",\"di\":\"Obrigado.\",\"dl\":\"Informe um outro problema\",\"efe\":true,\"rb\":\"Errado?\",\"ri\":\"Informe o problema.\",\"rl\":\"Cancelar\"},\"rkab\":{},\"rmcl\":{\"bl\":\"Comentários\",\"db\":\"Informado\",\"di\":\"Obrigado.\",\"dl\":\"Informe um outro problema\",\"rb\":\"Errado?\",\"ri\":\"Informe o problema.\",\"rl\":\"Cancelar\"},\"sf\":{},\"st\":{},\"vm\":{\"bv\":81449611,\"d\":\"eXY\",\"tc\":true,\"te\":true,\"tk\":true,\"ts\":true},\"hsm\":{},\"j\":{\"ajrp\":true,\"cmt\":true,\"ftwd\":200,\"icmt\":false,\"lbtfdr\":10000,\"lcuwl\":true,\"mcr\":5,\"miml\":true,\"scmt\":true,\"sirs\":\"clone\",\"sscl\":false,\"tct\":\" \\\\u3000?\",\"tlh\":true,\"ufl\":true,\"witu\":false},\"p\":{\"ae\":true,\"avgTtfc\":2000,\"brba\":false,\"dlen\":24,\"dper\":3,\"eae\":true,\"fbdc\":500,\"fbdu\":-1,\"fbh\":true,\"fd\":1000000,\"focus\":true,\"gpsj\":true,\"hiue\":true,\"hpt\":310,\"iavgTtfc\":2000,\"knrt\":true,\"maxCbt\":1500,\"mds\":\"prc,sp,mbl_he,mbl_hs,mbl_re,mbl_rs,mbl_sv\",\"msg\":{\"dym\":\"Você quis dizer:\",\"gs\":\"Pesquisa Google\",\"kntt\":\"Use as teclas de setas para cima e para baixo a fim de selecionar cada resultado. Pressione Enter para acessar a seleção.\",\"pcnt\":\"Nova guia\",\"sif\":\"Em vez disso, pesquisar por\",\"srf\":\"Exibindo resultados para\"},\"nprr\":1,\"ohpt\":false,\"ophe\":true,\"pmt\":250,\"pq\":true,\"rpt\":15,\"sc\":\"psy-ab\",\"tdur\":50},\"pcc\":{},\"csi\":{\"acsi\":true},\"TG8rFw\":{},\"hLaaFQ\":{\"ed\":\"Digite uma descrição.\",\"eu\":\"Insira um URL válido.\"},\"q1cupA\":{},\"bnhGTQ\":{},\"4RZUyg\":{},\"/nNC3A\":{},\"ITl3wQ\":{},\"FmbnUA\":{},\"c+PT4g\":{},\"/1S6iw\":{},\"GqeGtQ\":{},\"NpA8BQ\":{},\"BwDLOw\":{},\"8aqNqA\":{},\"A/Ucpg\":{},\"cm4D8w\":{},\"GfrcvQ\":{}};google.y.first.push(function(){google.loadAll(['abd','async','cdos','erh','foot','fpe','hv','idck','lc','lrct','lu','m','sf','vm'].concat(google.xjsrm||[]));if(google.med){google.med('init');google.initHistory();google.med('history');}});if(google.j&amp;&amp;google.j.en&amp;&amp;google.j.xi){window.setTimeout(google.j.xi,0);}\n",
      "</script></div><script>(function(){if(google.timers&amp;&amp;google.timers.load.t){var f=function(){google.timers.load.t&amp;&amp;(google.timers.load.t.ol=(new Date).getTime(),google.timers.load.t.iml=b,google.kCSI.imc=c,google.kCSI.imn=d,google.kCSI.imp=e,google.stt&amp;&amp;(google.kCSI.stt=google.stt),google.csiReport&amp;&amp;google.csiReport())},k=function(a){b=(new Date).getTime();++c;a=a||window.event;a=a.target||a.srcElement;h(a,k);},h=function(a,g){a.removeEventListener?\n",
      "(a.removeEventListener(\"load\",g,!1),a.removeEventListener(\"error\",g,!1)):(a.detachEvent(\"onload\",g),a.detachEvent(\"onerror\",g))},d,c,e,b;var l=document.getElementsByTagName(\"img\");d=l.length;for(var m=c=0,n;m&lt;d;++m){n=l[m];var p=\"string\"!=typeof n.src||!n.src,q=p||n.complete;p&amp;&amp;n.getAttribute(\"data-bsrc\")&amp;&amp;(q=!1);q?++c:n.addEventListener?(n.addEventListener(\"load\",k,!1),n.addEventListener(\"error\",k,!1)):(n.attachEvent(\"onload\",k),n.attachEvent(\"onerror\",k))}e=d-c;window.addEventListener?window.addEventListener(\"load\",f,!1):window.attachEvent&amp;&amp;window.attachEvent(\"onload\",\n",
      "f);google.timers.load.t.prt=b=google.time()};})();\n",
      "</script></div><div class=\"gstl_0 sbdd_a\" style=\"min-width: 571px; top: 340px; position: absolute; left: 205px;\"><div class=\"fl\"></div><div><div class=\"sbdd_b\" style=\"display: none;\"></div><div><div style=\"display:none;left:0px;white-space:nowrap;position:absolute\" id=\"pocs\"><div id=\"pocs0\"><span><span>Google</span> Instant não está disponível. Pressione Enter para pesquisar.</span> <a href=\"/support/websearch/bin/answer.py?answer=186645&amp;form=bb&amp;hl=pt\">Saiba mais</a></div><div id=\"pocs1\"><span>Google</span> Instant está desativado devido à velocidade de conexão. Pressione Enter para pesquisar.</div><div id=\"pocs2\">Pressione \"Enter\" para pesquisar.</div></div></div></div></div><script src=\"/xjs/_/js/k=xjs.s.pt_BR.l-u7VRVb1Vo.O/m=sy9,abd,sy64,sy65,async,sy36,cdos,erh,sy66,foot,fpe,sy173,hv,idck,lc,sy85,sy304,sy305,lrct,sy116,sy157,lu,sy353,m,sf,vm/am=hKj_TwWDoBkBBURAoAw/rt=j/d=0/t=zcms/rs=ACT90oGlZa3DiaXXOGcBzMEwOXf3rKE-Tg\" gapi_processed=\"true\"></script><style type=\"text/css\">#nycntg{margin:6px 25px 10px 0}#nycp{background-color:#fafafa;border-left:1px solid #ebebeb;bottom:0;left:0;margin-left:33px;min-width:240px;position:absolute;right:0;top:0;visibility:hidden;z-index:102;padding:38px 16px 10px 31px}.nyc_open #nycp{visibility:visible}#nycf{display:none;height:1px;left:0;min-width:940px;position:absolute;visibility:hidden;z-index:-1}.nyc_open #nycf{display:block}.nyc_opening #nycp,.nyc_opening #nycprv{display:block;visibility:hidden!important}#nyccur{background:#fafafa;height:100%;left:33px;opacity:0;position:absolute;top:0;width:0;z-index:120}#nyccur.wipeRight{border-right:1px solid #e8e8e8;opacity:1;-moz-transition:width 0.08s ease-in;width:100%}#nyccur.fadeOut{opacity:0;-moz-transition:opacity 0.08s linear;width:100%}#nyccur.fadeIn{opacity:1;-moz-transition:opacity 0.08s linear;width:100%}#nyccur.wipeLeft{border-right:1px solid #eee;opacity:1;-moz-transition:width 0.08s ease-out;width:0}.nyc_open .vspib,.nyc_opening .vspib{padding-right:0;-moz-transition:padding-right .2s ease}.nyc_open .vspib .vspii,.nyc_opening .vspib .vspii{-moz-border-top-right-radius:0;-moz-border-bottom-right-radius:0;border-right:none}.nyc_open #nycxh{cursor:pointer;opacity:0.7;padding:15px;position:absolute;right:1px;top:12px}.nyc_open #nycxh:hover{opacity:1}#nycx{display:none}.nyc_open #nycx{border:none;cursor:pointer;display:block;padding:0}#nycntg h3 .esw{display:none}#nyc .vshid{display:inline}#nyc #nycntg .vshid a{white-space:nowrap}#nycntg a:link{border:0;text-decoration:none}#nycntg a:hover{text-decoration:underline}#vsi,.vsi{border:none;width:100%}.vslru.vso:before{border:1px solid #ebebeb;border-right:none;bottom:-8px;top:-7px;left:-7px;right:-9px;content:\"\";position:absolute;z-index:-1}.vslru div.vspib{bottom:-6px;top:-7px}.vslru div.vspib .vspii{border-radius:0}.vscl.vso.vslru:before,.vscl.vslru div.vspib{top:-4px}</style></body></html>\n"
     ]
    }
   ],
   "source": [
    "print driver.page_source.encode('utf-8')"
   ]
  },
  {
   "cell_type": "code",
   "execution_count": 17,
   "metadata": {
    "collapsed": false
   },
   "outputs": [],
   "source": [
    "driver.get('http://codepad.org')"
   ]
  },
  {
   "cell_type": "code",
   "execution_count": 18,
   "metadata": {
    "collapsed": false
   },
   "outputs": [],
   "source": [
    "# Select the Python language option\n",
    "python_link = driver.find_elements_by_xpath(\"//input[@name='lang' and @value='Python']\")[0]\n",
    "python_link.click()"
   ]
  },
  {
   "cell_type": "code",
   "execution_count": 19,
   "metadata": {
    "collapsed": false
   },
   "outputs": [],
   "source": [
    "# Enter some text!\n",
    "text_area = driver.find_element_by_id('textarea')\n",
    "text_area.send_keys(\"print 'Hello,' + ' World!'\")"
   ]
  },
  {
   "cell_type": "code",
   "execution_count": 20,
   "metadata": {
    "collapsed": false
   },
   "outputs": [],
   "source": [
    "# Submit the form!\n",
    "submit_button = driver.find_element_by_name('submit')\n",
    "submit_button.click()"
   ]
  },
  {
   "cell_type": "code",
   "execution_count": 21,
   "metadata": {
    "collapsed": false
   },
   "outputs": [],
   "source": [
    "driver.quit()"
   ]
  },
  {
   "cell_type": "code",
   "execution_count": 22,
   "metadata": {
    "collapsed": false
   },
   "outputs": [],
   "source": [
    "driver = webdriver.Firefox()\n",
    "driver.get(\"http://www.python.org\")"
   ]
  },
  {
   "cell_type": "code",
   "execution_count": 23,
   "metadata": {
    "collapsed": false
   },
   "outputs": [],
   "source": [
    "assert \"Python\" in driver.title"
   ]
  },
  {
   "cell_type": "code",
   "execution_count": 24,
   "metadata": {
    "collapsed": false
   },
   "outputs": [],
   "source": [
    "#http://selenium-python.readthedocs.org/en/latest/locating-elements.html#locating-elements\n",
    "elem = driver.find_element_by_name(\"q\")\n",
    "elem.clear()\n",
    "elem.send_keys(\"pycon\")\n",
    "elem.send_keys(Keys.RETURN)"
   ]
  },
  {
   "cell_type": "code",
   "execution_count": 25,
   "metadata": {
    "collapsed": false
   },
   "outputs": [],
   "source": [
    "assert \"No results found.\" not in driver.page_source"
   ]
  },
  {
   "cell_type": "code",
   "execution_count": 26,
   "metadata": {
    "collapsed": false
   },
   "outputs": [],
   "source": [
    "driver.close()"
   ]
  },
  {
   "cell_type": "markdown",
   "metadata": {},
   "source": [
    "**Exercise 3:**\n",
    "\n",
    "Open a browser and \"drive\" it from the EMAp home page until this discipline's page: \n",
    "http://emap.fgv.br/pos-graduacao/disciplina/modelagem-mineracao-dados.html  "
   ]
  }
 ],
 "metadata": {
  "kernelspec": {
   "display_name": "Python 2",
   "language": "python",
   "name": "python2"
  },
  "language_info": {
   "codemirror_mode": {
    "name": "ipython",
    "version": 2
   },
   "file_extension": ".py",
   "mimetype": "text/x-python",
   "name": "python",
   "nbconvert_exporter": "python",
   "pygments_lexer": "ipython2",
   "version": "2.7.9"
  }
 },
 "nbformat": 4,
 "nbformat_minor": 0
}
