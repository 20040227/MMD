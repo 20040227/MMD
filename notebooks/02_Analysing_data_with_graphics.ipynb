{
 "cells": [
  {
   "cell_type": "markdown",
   "metadata": {},
   "source": [
    "Mestrado em Modelagem Matematica da Informacao\n",
    "----------------------------------------------\n",
    "Disciplina: Modelagem e Mineracao de Dados\n",
    "------------------------------------------\n",
    "\n",
    "Master Program - Mathematical Modeling of Information\n",
    "-----------------------------------------------------\n",
    "Course: Data Mining and Modeling\n",
    "--------------------------------\n",
    "\n",
    "Professor: Renato Rocha Souza\n",
    "-----------------------------  "
   ]
  },
  {
   "cell_type": "markdown",
   "metadata": {},
   "source": [
    "Análise e Visualização de dados estruturados  \n",
    "--------------------------------------------\n",
    "Analizing and visualizing structured data  \n",
    "\n",
    "Tópico/Topic: Gráficos de uma variável/Simple Univariate Graphs  \n",
    "Tópico/Topic: Gráficos de duas variáveis/Two Variables Graphs\n",
    "\n",
    " Looking at data!  \n",
    " Simple Univariate Graphs: format and distribution  \n",
    " Dot and Jitter Plots  \n",
    " Histograms  \n",
    " Kernel Density Estimates  \n",
    " Cumulative Distribution Functions  \n",
    " Box and Whisker Plots  \n",
    "Two Variables Graphs: establishing relationships  \n",
    " Scatter Plots (Diagramas de Dispersão)  \n",
    " Smoothing (Suavização)  \n",
    " Residuals  \n",
    " Logaritms  \n",
    " Regression  \n",
    " Correlation  "
   ]
  },
  {
   "cell_type": "code",
   "execution_count": 4,
   "metadata": {
    "collapsed": false
   },
   "outputs": [
    {
     "name": "stdout",
     "output_type": "stream",
     "text": [
      "Populating the interactive namespace from numpy and matplotlib\n"
     ]
    }
   ],
   "source": [
    "import pylab as pl\n",
    "import pandas as pd\n",
    "import numpy as np\n",
    "import matplotlib.pyplot as plt\n",
    "import matplotlib.dates as md\n",
    "import scipy.stats as ss\n",
    "import scipy.signal as signal\n",
    "import os\n",
    "import codecs\n",
    "import time\n",
    "import datetime\n",
    "#from numpy import loadtxt, genfromtxt, array, arange, subtract, linspace, concatenate, zeros_like, mean\n",
    "#from matplotlib.pyplot import plot, scatter, boxplot, semilogx, semilogy, loglog, show, title, legend, figure\n",
    "#from scipy import polyval, polyfit, sqrt, stats, randn\n",
    "#from scipy.stats import linregress, describe, gaussian_kde, cumfreq\n",
    "#from scipy.signal import gaussian, convolve, correlate\n",
    "#from pylab import hist, movavg, datestr2num\n",
    "\n",
    "# We'll also import seaborn, a Python graphing library\n",
    "import warnings # current version of seaborn generates a bunch of warnings that we'll ignore\n",
    "warnings.filterwarnings(\"ignore\")\n",
    "#import seaborn as sns\n",
    "import seaborn.apionly as sns\n",
    "\n",
    "%pylab inline\n",
    "#pylab.rcParams['figure.figsize'] = (8.0, 6.4)\n",
    "#sns.set(style=\"white\", color_codes=True)"
   ]
  },
  {
   "cell_type": "markdown",
   "metadata": {},
   "source": [
    "Univariate Graphs\n",
    "-----------------\n",
    "- Where are the points?  \n",
    "- How are they distributed?  \n",
    "- What is the range of values?  \n",
    "- Which are the typical, maximum and minimum values?  \n",
    "- Are there clusters or trends?  \n",
    "- Is the distribution symetrical?  \n",
    "- Are there outliers?  \n",
    "- Which features can be noted?  \n",
    "- Are there descontinuities?  \n",
    "- Are there unexpected values?  \n",
    "- Can you identify known patterns?  "
   ]
  },
  {
   "cell_type": "markdown",
   "metadata": {},
   "source": [
    "Specifying the path to the files:"
   ]
  },
  {
   "cell_type": "code",
   "execution_count": 5,
   "metadata": {
    "collapsed": false
   },
   "outputs": [],
   "source": [
    "datapath = \"../datasets/\""
   ]
  },
  {
   "cell_type": "markdown",
   "metadata": {},
   "source": [
    "Loading the datasets\n",
    "\n",
    "http://docs.scipy.org/doc/numpy/reference/generated/numpy.genfromtxt.html\n",
    "\n",
    "http://docs.scipy.org/doc/numpy/reference/generated/numpy.loadtxt.html"
   ]
  },
  {
   "cell_type": "code",
   "execution_count": 6,
   "metadata": {
    "collapsed": false
   },
   "outputs": [],
   "source": [
    "dataset1 = \"presidents.csv\"\n",
    "dataset2 = \"serverdata.csv\"\n",
    "dataset3 = \"glass.data.csv\""
   ]
  },
  {
   "cell_type": "code",
   "execution_count": 7,
   "metadata": {
    "collapsed": false
   },
   "outputs": [],
   "source": [
    "x = np.genfromtxt(os.path.join(datapath,dataset1), usecols=(2))\n",
    "x_names = np.genfromtxt(os.path.join(datapath,dataset1), usecols=(1), dtype=(str))\n",
    "y = np.loadtxt(os.path.join(datapath,dataset2))\n",
    "z = np.loadtxt(os.path.join(datapath,dataset3), usecols=(1,2,10), delimiter=',')"
   ]
  },
  {
   "cell_type": "code",
   "execution_count": 8,
   "metadata": {
    "collapsed": false
   },
   "outputs": [
    {
     "data": {
      "text/plain": [
       "array([  94.,   48.,   96.,   96.,   96.,   48.,   96.,   48.,    1.,\n",
       "         47.,   48.,   16.,   32.,   48.,   48.,   49.,   47.,   96.,\n",
       "         48.,    7.,   41.,   48.,   48.,   48.,   54.,   90.,   48.,\n",
       "         96.,   29.,   67.,   48.,  146.,   92.,   96.,   34.,   62.,\n",
       "         67.,   29.,   48.,   96.,   48.,   96.,   96.])"
      ]
     },
     "execution_count": 8,
     "metadata": {},
     "output_type": "execute_result"
    }
   ],
   "source": [
    "x"
   ]
  },
  {
   "cell_type": "code",
   "execution_count": 9,
   "metadata": {
    "collapsed": false
   },
   "outputs": [
    {
     "data": {
      "text/plain": [
       "array(['Washington', 'Adams', 'Jefferson', 'Madison', 'Monroe', 'Adams',\n",
       "       'Jackson', 'Van_Buren', 'Harrison', 'Tyler', 'Polk', 'Taylor',\n",
       "       'Filmore', 'Pierce', 'Buchanan', 'Lincoln', 'Johnson', 'Grant',\n",
       "       'Hayes', 'Garfield', 'Arthur', 'Cleveland', 'Harrison', 'Cleveland',\n",
       "       'McKinley', 'Roosevelt', 'Taft', 'Wilson', 'Harding', 'Coolidge',\n",
       "       'Hoover', 'Roosevelt', 'Truman', 'Eisenhower', 'Kennedy', 'Johnson',\n",
       "       'Nixon', 'Ford', 'Carter', 'Reagan', 'Bush', 'Clinton', 'Bush'], \n",
       "      dtype='<U10')"
      ]
     },
     "execution_count": 9,
     "metadata": {},
     "output_type": "execute_result"
    }
   ],
   "source": [
    "x_names"
   ]
  },
  {
   "cell_type": "markdown",
   "metadata": {},
   "source": [
    "Gathering some information on the datasets:\n",
    "\n",
    "http://docs.scipy.org/doc/scipy/reference/generated/scipy.stats.describe.html\n",
    "\n"
   ]
  },
  {
   "cell_type": "code",
   "execution_count": 10,
   "metadata": {
    "collapsed": false
   },
   "outputs": [
    {
     "name": "stdout",
     "output_type": "stream",
     "text": [
      "DescribeResult(nobs=1000, minmax=(44.5, 2985.29), mean=849.18857000000003, variance=456853.18439645151, skewness=1.3048517528837618, kurtosis=1.0261430787200698)\n"
     ]
    }
   ],
   "source": [
    "print(ss.describe(y))\n",
    "#print(ss.describe(z))"
   ]
  },
  {
   "cell_type": "markdown",
   "metadata": {},
   "source": [
    "Usando uma série do Pandas  \n",
    "http://pandas.pydata.org/"
   ]
  },
  {
   "cell_type": "code",
   "execution_count": 11,
   "metadata": {
    "collapsed": false
   },
   "outputs": [
    {
     "data": {
      "text/plain": [
       "count    1000.000000\n",
       "mean      849.188570\n",
       "std       675.909154\n",
       "min        44.500000\n",
       "25%       347.265000\n",
       "50%       630.940000\n",
       "75%      1125.880000\n",
       "max      2985.290000\n",
       "dtype: float64"
      ]
     },
     "execution_count": 11,
     "metadata": {},
     "output_type": "execute_result"
    }
   ],
   "source": [
    "df_y = pd.Series(y)\n",
    "df_y.describe()"
   ]
  },
  {
   "cell_type": "markdown",
   "metadata": {},
   "source": [
    "Jitter Plots\n",
    "\n",
    "http://matplotlib.sourceforge.net/api/pyplot_api.html#matplotlib.pyplot.plot"
   ]
  },
  {
   "cell_type": "code",
   "execution_count": 12,
   "metadata": {
    "collapsed": false
   },
   "outputs": [
    {
     "data": {
      "image/png": "[encoded data removed]",
      "text/plain": [
       "<matplotlib.figure.Figure at 0x7f3d14ada7f0>"
      ]
     },
     "metadata": {},
     "output_type": "display_data"
    }
   ],
   "source": [
    "plt.figure(figsize=(5,5))\n",
    "plt.plot(x)\n",
    "plt.title('default settings')\n",
    "plt.legend(('Data',), loc=(0.1,0.85), fontsize=12)\n",
    "plt.show()"
   ]
  },
  {
   "cell_type": "code",
   "execution_count": 13,
   "metadata": {
    "collapsed": false
   },
   "outputs": [
    {
     "data": {
      "image/png": "[encoded data removed]",
      "text/plain": [
       "<matplotlib.figure.Figure at 0x7f3d14ada748>"
      ]
     },
     "metadata": {},
     "output_type": "display_data"
    }
   ],
   "source": [
    "plt.plot(x,'r')\n",
    "plt.title('default + red')\n",
    "P = plt.gca()\n",
    "P.axis([-5.0,50.0,0.0,150.0])\n",
    "plt.show()"
   ]
  },
  {
   "cell_type": "code",
   "execution_count": 14,
   "metadata": {
    "collapsed": false
   },
   "outputs": [
    {
     "data": {
      "image/png": "[encoded data removed]",
      "text/plain": [
       "<matplotlib.figure.Figure at 0x7f3d14ada3c8>"
      ]
     },
     "metadata": {},
     "output_type": "display_data"
    }
   ],
   "source": [
    "xyear = x/12.\n",
    "plt.plot(xyear,'bo')\n",
    "plt.title('blue and circles')\n",
    "plt.show()"
   ]
  },
  {
   "cell_type": "code",
   "execution_count": 15,
   "metadata": {
    "collapsed": false
   },
   "outputs": [
    {
     "data": {
      "image/png": "[encoded data removed]",
      "text/plain": [
       "<matplotlib.figure.Figure at 0x7f3d14ada6a0>"
      ]
     },
     "metadata": {},
     "output_type": "display_data"
    }
   ],
   "source": [
    "plt.plot(xyear,'g.')\n",
    "plt.title('green and dots')\n",
    "plt.show()"
   ]
  },
  {
   "cell_type": "markdown",
   "metadata": {},
   "source": [
    "Histograms\n",
    "\n",
    "http://matplotlib.sourceforge.net/api/pyplot_api.html#matplotlib.pyplot.hist"
   ]
  },
  {
   "cell_type": "code",
   "execution_count": 16,
   "metadata": {
    "collapsed": false
   },
   "outputs": [
    {
     "data": {
      "image/png": "[encoded data removed]",
      "text/plain": [
       "<matplotlib.figure.Figure at 0x7f3d14ada4e0>"
      ]
     },
     "metadata": {},
     "output_type": "display_data"
    }
   ],
   "source": [
    "nbins=10\n",
    "plt.hist(x, bins=nbins)\n",
    "plt.show()"
   ]
  },
  {
   "cell_type": "code",
   "execution_count": 17,
   "metadata": {
    "collapsed": false
   },
   "outputs": [
    {
     "data": {
      "image/png": "[encoded data removed]",
      "text/plain": [
       "<matplotlib.figure.Figure at 0x7f3d0eddfb00>"
      ]
     },
     "metadata": {},
     "output_type": "display_data"
    }
   ],
   "source": [
    "plt.hist(x, bins=10*nbins)\n",
    "plt.show()"
   ]
  },
  {
   "cell_type": "code",
   "execution_count": 18,
   "metadata": {
    "collapsed": false
   },
   "outputs": [
    {
     "data": {
      "image/png": "[encoded data removed]",
      "text/plain": [
       "<matplotlib.figure.Figure at 0x7f3d0eecf3c8>"
      ]
     },
     "metadata": {},
     "output_type": "display_data"
    }
   ],
   "source": [
    "plt.hist(x, bins=100*nbins)\n",
    "plt.show()"
   ]
  },
  {
   "cell_type": "markdown",
   "metadata": {},
   "source": [
    "Kernel Density Estimates\n",
    "------------------------\n",
    "http://en.wikipedia.org/wiki/Kernel_density_estimation  \n",
    "http://docs.scipy.org/doc/scipy/reference/generated/scipy.stats.gaussian_kde.html"
   ]
  },
  {
   "cell_type": "code",
   "execution_count": 19,
   "metadata": {
    "collapsed": false
   },
   "outputs": [
    {
     "data": {
      "image/png": "[encoded data removed]",
      "text/plain": [
       "<matplotlib.figure.Figure at 0x7f3d0e1d99e8>"
      ]
     },
     "metadata": {},
     "output_type": "display_data"
    }
   ],
   "source": [
    "nbins=100\n",
    "plt.hist(y, bins=nbins, normed=True, align='mid')\n",
    "plt.title('Server Response')\n",
    "plt.ylabel('time (s)')\n",
    "plt.show()"
   ]
  },
  {
   "cell_type": "code",
   "execution_count": 20,
   "metadata": {
    "collapsed": false
   },
   "outputs": [
    {
     "data": {
      "image/png": "[encoded data removed]",
      "text/plain": [
       "<matplotlib.figure.Figure at 0x7f3d0ed224e0>"
      ]
     },
     "metadata": {},
     "output_type": "display_data"
    }
   ],
   "source": [
    "gkde = ss.gaussian_kde(y)\n",
    "plt.plot(np.arange(0,(1.01*(max(y)-min(y))),.1), gkde.evaluate(np.arange(0,(1.01*(max(y)-min(y))),.1)))\n",
    "plt.title('Server Response')\n",
    "plt.ylabel('time (s)')\n",
    "plt.show()"
   ]
  },
  {
   "cell_type": "code",
   "execution_count": 21,
   "metadata": {
    "collapsed": false
   },
   "outputs": [
    {
     "data": {
      "image/png": "[encoded data removed]",
      "text/plain": [
       "<matplotlib.figure.Figure at 0x7f3d14ae06d8>"
      ]
     },
     "metadata": {},
     "output_type": "display_data"
    }
   ],
   "source": [
    "plt.subplot(2, 1, 1)\n",
    "nbins=100\n",
    "plt.hist(y, bins=nbins, normed=True, align='mid')\n",
    "plt.title('Server Response')\n",
    "plt.ylabel('time (s)')\n",
    "\n",
    "plt.subplot(2, 1, 2)\n",
    "gkde = ss.gaussian_kde(y)\n",
    "plt.plot(np.arange(0,(1.01*(max(y)-min(y))),.1), gkde.evaluate(np.arange(0,(1.01*(max(y)-min(y))),.1)))   \n",
    "plt.xlabel('Responses with a given time')\n",
    "plt.ylabel('time (s)')\n",
    "\n",
    "plt.show()"
   ]
  },
  {
   "cell_type": "markdown",
   "metadata": {},
   "source": [
    "Cumulative Frequency\n",
    "--------------------\n",
    "http://docs.scipy.org/doc/scipy/reference/generated/scipy.stats.cumfreq.html#scipy.stats.cumfreq"
   ]
  },
  {
   "cell_type": "code",
   "execution_count": 22,
   "metadata": {
    "collapsed": false
   },
   "outputs": [
    {
     "data": {
      "image/png": "[encoded data removed]",
      "text/plain": [
       "<matplotlib.figure.Figure at 0x7f3d0eceb748>"
      ]
     },
     "metadata": {},
     "output_type": "display_data"
    }
   ],
   "source": [
    "nbins=100\n",
    "plt.hist(y, bins=nbins, normed=False, align='mid')\n",
    "plt.show()"
   ]
  },
  {
   "cell_type": "code",
   "execution_count": 23,
   "metadata": {
    "collapsed": false
   },
   "outputs": [
    {
     "data": {
      "image/png": "[encoded data removed]",
      "text/plain": [
       "<matplotlib.figure.Figure at 0x7f3d0ec64668>"
      ]
     },
     "metadata": {},
     "output_type": "display_data"
    }
   ],
   "source": [
    "disc = ss.cumfreq(y, numbins=nbins)\n",
    "plt.plot(disc[0]/len(y))\n",
    "plt.show()"
   ]
  },
  {
   "cell_type": "markdown",
   "metadata": {},
   "source": [
    "Box and Whisker Plots\n",
    "---------------------\n",
    "http://en.wikipedia.org/wiki/Box_plot  \n",
    "http://matplotlib.sourceforge.net/api/pyplot_api.html#matplotlib.pyplot.boxplot"
   ]
  },
  {
   "cell_type": "code",
   "execution_count": 24,
   "metadata": {
    "collapsed": false
   },
   "outputs": [
    {
     "data": {
      "image/png": "[encoded data removed]",
      "text/plain": [
       "<matplotlib.figure.Figure at 0x7f3d0ec5b4a8>"
      ]
     },
     "metadata": {},
     "output_type": "display_data"
    }
   ],
   "source": [
    "plt.boxplot(x, notch=0, sym='+', vert=0, whis=1.5, positions=None, widths=None)\n",
    "plt.show()"
   ]
  },
  {
   "cell_type": "code",
   "execution_count": 25,
   "metadata": {
    "collapsed": false
   },
   "outputs": [
    {
     "data": {
      "image/png": "[encoded data removed]",
      "text/plain": [
       "<matplotlib.figure.Figure at 0x7f3d0eb9a320>"
      ]
     },
     "metadata": {},
     "output_type": "display_data"
    }
   ],
   "source": [
    "plt.boxplot(z[:,0], notch=0, sym='+', vert=1, whis=1.5, positions=None, widths=None)\n",
    "plt.show()"
   ]
  },
  {
   "cell_type": "code",
   "execution_count": 26,
   "metadata": {
    "collapsed": false
   },
   "outputs": [
    {
     "ename": "AttributeError",
     "evalue": "module 'pylab' has no attribute 'rand'",
     "output_type": "error",
     "traceback": [
      "\u001b[1;31m\u001b[0m",
      "\u001b[1;31mAttributeError\u001b[0mTraceback (most recent call last)",
      "\u001b[1;32m<ipython-input-26-26a8a1bc3591>\u001b[0m in \u001b[0;36m<module>\u001b[1;34m()\u001b[0m\n\u001b[1;32m----> 1\u001b[1;33m \u001b[0mspread\u001b[0m\u001b[1;33m=\u001b[0m \u001b[0mpl\u001b[0m\u001b[1;33m.\u001b[0m\u001b[0mrand\u001b[0m\u001b[1;33m(\u001b[0m\u001b[1;36m50\u001b[0m\u001b[1;33m)\u001b[0m \u001b[1;33m*\u001b[0m \u001b[1;36m100\u001b[0m\u001b[1;33m\u001b[0m\u001b[0m\n\u001b[0m\u001b[0;32m      2\u001b[0m \u001b[0mcenter\u001b[0m \u001b[1;33m=\u001b[0m \u001b[0mnp\u001b[0m\u001b[1;33m.\u001b[0m\u001b[0mones\u001b[0m\u001b[1;33m(\u001b[0m\u001b[1;36m25\u001b[0m\u001b[1;33m)\u001b[0m \u001b[1;33m*\u001b[0m \u001b[1;36m50\u001b[0m\u001b[1;33m\u001b[0m\u001b[0m\n\u001b[0;32m      3\u001b[0m \u001b[0mflier_high\u001b[0m \u001b[1;33m=\u001b[0m \u001b[0mpl\u001b[0m\u001b[1;33m.\u001b[0m\u001b[0mrand\u001b[0m\u001b[1;33m(\u001b[0m\u001b[1;36m10\u001b[0m\u001b[1;33m)\u001b[0m \u001b[1;33m*\u001b[0m \u001b[1;36m100\u001b[0m \u001b[1;33m+\u001b[0m \u001b[1;36m100\u001b[0m\u001b[1;33m\u001b[0m\u001b[0m\n\u001b[0;32m      4\u001b[0m \u001b[0mflier_low\u001b[0m \u001b[1;33m=\u001b[0m \u001b[0mpl\u001b[0m\u001b[1;33m.\u001b[0m\u001b[0mrand\u001b[0m\u001b[1;33m(\u001b[0m\u001b[1;36m10\u001b[0m\u001b[1;33m)\u001b[0m \u001b[1;33m*\u001b[0m \u001b[1;33m-\u001b[0m\u001b[1;36m100\u001b[0m\u001b[1;33m\u001b[0m\u001b[0m\n\u001b[0;32m      5\u001b[0m \u001b[0mdata\u001b[0m \u001b[1;33m=\u001b[0m \u001b[0mnp\u001b[0m\u001b[1;33m.\u001b[0m\u001b[0mconcatenate\u001b[0m\u001b[1;33m(\u001b[0m\u001b[1;33m(\u001b[0m\u001b[0mspread\u001b[0m\u001b[1;33m,\u001b[0m \u001b[0mcenter\u001b[0m\u001b[1;33m,\u001b[0m \u001b[0mflier_high\u001b[0m\u001b[1;33m,\u001b[0m \u001b[0mflier_low\u001b[0m\u001b[1;33m)\u001b[0m\u001b[1;33m,\u001b[0m \u001b[1;36m0\u001b[0m\u001b[1;33m)\u001b[0m\u001b[1;33m\u001b[0m\u001b[0m\n",
      "\u001b[1;31mAttributeError\u001b[0m: module 'pylab' has no attribute 'rand'"
     ]
    }
   ],
   "source": [
    "spread= pl.rand(50) * 100\n",
    "center = np.ones(25) * 50\n",
    "flier_high = pl.rand(10) * 100 + 100\n",
    "flier_low = pl.rand(10) * -100\n",
    "data = np.concatenate((spread, center, flier_high, flier_low), 0)\n",
    "spread= pl.rand(50) * 100\n",
    "center = np.ones(25) * 40\n",
    "flier_high = pl.rand(10) * 100 + 100\n",
    "flier_low = pl.rand(10) * -100\n",
    "d2 = np.concatenate((spread, center, flier_high, flier_low), 0 )\n",
    "data.shape = (-1, 1)\n",
    "d2.shape = (-1, 1)\n",
    "#data = concatenate( (data, d2), 1 )\n",
    "# Making a 2-D array only works if all the columns are the\n",
    "# same length.  If they are not, then use a list instead.\n",
    "# This is actually more efficient because boxplot converts\n",
    "# a 2-D array into a list of vectors internally anyway.\n",
    "data = [data, d2, d2[::2,0]]\n",
    "\n",
    "plt.boxplot(data)\n",
    "plt.show()"
   ]
  },
  {
   "cell_type": "markdown",
   "metadata": {},
   "source": [
    "Two variable graphs\n",
    "-------------------"
   ]
  },
  {
   "cell_type": "markdown",
   "metadata": {},
   "source": [
    "Association and Causality  \n",
    "Dependency and Independency  \n",
    "Correlation and Covariance"
   ]
  },
  {
   "cell_type": "markdown",
   "metadata": {},
   "source": [
    "A special case of two variable graphs are the time series  \n",
    "http://en.wikipedia.org/wiki/Time_series  \n",
    "\n",
    "+ Trend (linear and non-linear)\n",
    "+ Seasonality (adictive and multiplicative)  \n",
    "+ Noise  \n",
    "+ Other(!)  \n"
   ]
  },
  {
   "cell_type": "code",
   "execution_count": null,
   "metadata": {
    "collapsed": false
   },
   "outputs": [],
   "source": [
    "#Loading datasets\n",
    "dataset4 = \"allometricscaling.csv\"\n",
    "dataset5 = \"draft_lottery.csv\"\n",
    "dataset6 = \"sunspot_yearnum.dat\"\n",
    "dataset7 = \"logscale.csv\"\n",
    "dataset8 = \"marathon.csv\"\n",
    "dataset9 = \"cotacoesbovespa.txt\"\n",
    "dataset10 = 'co2_mm_mlo.txt'"
   ]
  },
  {
   "cell_type": "code",
   "execution_count": null,
   "metadata": {
    "collapsed": false
   },
   "outputs": [],
   "source": [
    "allo = np.loadtxt(os.path.join(datapath,dataset4), usecols=(1,2), delimiter=',')\n",
    "lottery = np.loadtxt(os.path.join(datapath,dataset5),usecols=(3,4), skiprows=39)\n",
    "sunspot = np.loadtxt(os.path.join(datapath,dataset6))\n",
    "logexample = np.loadtxt(os.path.join(datapath,dataset7))\n",
    "marathon_m = np.genfromtxt(os.path.join(datapath,dataset8), usecols=(0,4), delimiter=',')\n",
    "marathon_w = np.genfromtxt(os.path.join(datapath,dataset8), usecols=(0,8), delimiter=',', skip_header=69)\n",
    "\n",
    "### resolver conversao\n",
    "cotacoes = np.loadtxt(os.path.join(datapath,dataset9), delimiter=\",\", skiprows = 1, converters = {0: md.datestr2num})\n",
    "maunaloa = np.loadtxt(os.path.join(datapath,dataset10), delimiter=\",\", skiprows = 1, converters = {0: md.datestr2num})"
   ]
  },
  {
   "cell_type": "code",
   "execution_count": null,
   "metadata": {
    "collapsed": false
   },
   "outputs": [],
   "source": [
    "cotacoes[0]"
   ]
  },
  {
   "cell_type": "markdown",
   "metadata": {},
   "source": [
    "Ex: Trend and seasonality in Mauna Loa CO2 emissions  \n",
    "http://www.esrl.noaa.gov/gmd/ccgg/trends/#mlo_full"
   ]
  },
  {
   "cell_type": "code",
   "execution_count": null,
   "metadata": {
    "collapsed": false
   },
   "outputs": [],
   "source": [
    "maunaloa.shape"
   ]
  },
  {
   "cell_type": "code",
   "execution_count": null,
   "metadata": {
    "collapsed": false
   },
   "outputs": [],
   "source": [
    "pd_ml = pd.DataFrame(maunaloa, columns=['year','month','decimal date','average','interpolated','trend','#days'])\n",
    "pd_ml.set_index(['decimal date'], inplace=True)\n",
    "pd_ml.ix[:1959,:]"
   ]
  },
  {
   "cell_type": "code",
   "execution_count": null,
   "metadata": {
    "collapsed": false
   },
   "outputs": [],
   "source": [
    "#pd_ml['average'].plot(figsize=(8,8))\n",
    "pd_ml['interpolated'].plot(figsize=(8,8))"
   ]
  },
  {
   "cell_type": "markdown",
   "metadata": {},
   "source": [
    "Scatter Plots\n",
    "http://matplotlib.sourceforge.net/api/pyplot_api.html#matplotlib.pyplot.scatter"
   ]
  },
  {
   "cell_type": "code",
   "execution_count": null,
   "metadata": {
    "collapsed": false
   },
   "outputs": [],
   "source": [
    "sunspot.shape"
   ]
  },
  {
   "cell_type": "code",
   "execution_count": null,
   "metadata": {
    "collapsed": false
   },
   "outputs": [],
   "source": [
    "sunspot[0:6,:]"
   ]
  },
  {
   "cell_type": "code",
   "execution_count": null,
   "metadata": {
    "collapsed": false
   },
   "outputs": [],
   "source": [
    "plt.plot(sunspot[:,0], sunspot[:,1])\n",
    "plt.show()"
   ]
  },
  {
   "cell_type": "code",
   "execution_count": null,
   "metadata": {
    "collapsed": false
   },
   "outputs": [],
   "source": [
    "plt.scatter(sunspot[:,0], sunspot[:,1], c='r', marker='x')\n",
    "plt.xlim(1600,2000)\n",
    "plt.show()"
   ]
  },
  {
   "cell_type": "markdown",
   "metadata": {},
   "source": [
    "Treating Logarithmic Data\n",
    "-------------------------\n",
    "http://matplotlib.sourceforge.net/api/pyplot_api.html#matplotlib.pyplot.semilogx\n",
    "    \n",
    "http://matplotlib.sourceforge.net/api/pyplot_api.html#matplotlib.pyplot.semilogy\n",
    "\n",
    "http://matplotlib.sourceforge.net/api/pyplot_api.html#matplotlib.pyplot.loglog"
   ]
  },
  {
   "cell_type": "code",
   "execution_count": null,
   "metadata": {
    "collapsed": false
   },
   "outputs": [],
   "source": [
    "plt.scatter(logexample[:,0], logexample[:,1], c='r', marker = 'o')\n",
    "plt.show()"
   ]
  },
  {
   "cell_type": "code",
   "execution_count": null,
   "metadata": {
    "collapsed": false
   },
   "outputs": [],
   "source": [
    "plt.plot(allo[:,0], allo[:,1])\n",
    "plt.show()"
   ]
  },
  {
   "cell_type": "code",
   "execution_count": null,
   "metadata": {
    "collapsed": false
   },
   "outputs": [],
   "source": [
    "allo"
   ]
  },
  {
   "cell_type": "code",
   "execution_count": null,
   "metadata": {
    "collapsed": false
   },
   "outputs": [],
   "source": [
    "#http://docs.scipy.org/doc/scipy-0.14.0/reference/generated/scipy.stats.describe.html\n",
    "print(ss.describe(allo))"
   ]
  },
  {
   "cell_type": "code",
   "execution_count": null,
   "metadata": {
    "collapsed": false
   },
   "outputs": [],
   "source": [
    "allo.shape"
   ]
  },
  {
   "cell_type": "code",
   "execution_count": null,
   "metadata": {
    "collapsed": false
   },
   "outputs": [],
   "source": [
    "plt.scatter(allo[:,0], allo[:,1])\n",
    "plt.show()"
   ]
  },
  {
   "cell_type": "code",
   "execution_count": null,
   "metadata": {
    "collapsed": false
   },
   "outputs": [],
   "source": [
    "plt.scatter(allo[:,0], allo[:,1], c='b', marker='+')\n",
    "plt.show()"
   ]
  },
  {
   "cell_type": "code",
   "execution_count": null,
   "metadata": {
    "collapsed": false
   },
   "outputs": [],
   "source": [
    "plt.semilogx(allo[:,0], allo[:,1], c='r', marker='+', ls='none')\n",
    "plt.show()"
   ]
  },
  {
   "cell_type": "code",
   "execution_count": null,
   "metadata": {
    "collapsed": false
   },
   "outputs": [],
   "source": [
    "plt.semilogy(allo[:,0], allo[:,1], c='r', marker='o', ls='none')\n",
    "plt.show()"
   ]
  },
  {
   "cell_type": "code",
   "execution_count": null,
   "metadata": {
    "collapsed": false
   },
   "outputs": [],
   "source": [
    "plt.loglog(allo[:,0], allo[:,1], c='g', marker='o', ls='none')\n",
    "plt.show()"
   ]
  },
  {
   "cell_type": "markdown",
   "metadata": {},
   "source": [
    "Smoothing with moving averages\n",
    "------------------------------\n",
    "http://matplotlib.sourceforge.net/api/mlab_api.html"
   ]
  },
  {
   "cell_type": "code",
   "execution_count": null,
   "metadata": {
    "collapsed": false
   },
   "outputs": [],
   "source": [
    "f, ax = plt.subplots(nrows=4, ncols=1, figsize=(12,12), sharex=True, sharey=True)\n",
    "plt.setp([a.get_xticklabels() for a in f.axes[:-1]], visible=False)\n",
    "ax[0].scatter(lottery[:,0], lottery[:,1], c='b', marker='+')\n",
    "ax[0].set_title('Lottery data - raw')\n",
    "ax[1].scatter(lottery[1:-1,0], pl.movavg(lottery[:,1],3), c='r', marker='+')\n",
    "ax[1].set_title('Lottery data - moving avg 3 days')\n",
    "ax[2].plot(pl.movavg(lottery[:,1],15), c='g', marker='.')\n",
    "ax[2].set_title('Lottery data - moving avg 15 days')\n",
    "ax[3].plot(pl.movavg(lottery[:,1],33))\n",
    "plt.grid(b=True, which='major', color='b', linestyle='-')\n",
    "ax[3].set_title('Lottery data - moving avg 33 days')\n",
    "#f.subplots_adjust(hspace=0)\n",
    "plt.show()"
   ]
  },
  {
   "cell_type": "code",
   "execution_count": null,
   "metadata": {
    "collapsed": false
   },
   "outputs": [],
   "source": [
    "f, ax = plt.subplots(nrows=1, ncols=1, figsize=(12,6))\n",
    "ax.plot(sunspot[:,0], sunspot[:,1], c='g', marker='.', ls='none')\n",
    "ax.plot(sunspot[7:-7,0], pl.movavg(sunspot[:,1],15))\n",
    "plt.title('Sunspot data - smoothing effect (15 days)')\n",
    "plt.show()"
   ]
  },
  {
   "cell_type": "markdown",
   "metadata": {},
   "source": [
    "Filtering - Residuals\n",
    "---------------------\n",
    "\n",
    "One way of finding patterns remaining in data after applying some smoothing technique is to subtract the smoothed data from the original data, and try to fing some residuals. If there are some, that means that our smoothing function didn't capture all the information from the original signal.\n",
    " \n",
    "http://en.wikipedia.org/wiki/Errors_and_residuals_in_statistics  \n",
    "http://docs.scipy.org/doc/numpy/reference/generated/numpy.subtract.html  \n",
    "http://en.wikipedia.org/wiki/Filter_(signal_processing)"
   ]
  },
  {
   "cell_type": "code",
   "execution_count": null,
   "metadata": {
    "collapsed": false
   },
   "outputs": [],
   "source": [
    "res0 = np.subtract(sunspot[3:-3,1],(pl.movavg(sunspot[:,1],7)))\n",
    "res1 = np.subtract(sunspot[7:-7,1],(pl.movavg(sunspot[:,1],15)))\n",
    "res2 = np.subtract(sunspot[15:-15,1],(pl.movavg(sunspot[:,1],31)))\n",
    "res3 = np.subtract(sunspot[45:-45,1],(pl.movavg(sunspot[:,1],91)))\n",
    "\n",
    "f, ax = plt.subplots(nrows=4, ncols=1, figsize=(12,12))\n",
    "\n",
    "ax[0].plot(sunspot[3:-3,1], c='b', label='any')\n",
    "ax[0].plot(res0, c='r', marker='.')\n",
    "ax[0].plot(pl.movavg(sunspot[:,1],7), c='g')\n",
    "ax[0].set_title('Sunspot data - moving avg 7 days')\n",
    "\n",
    "ax[1].plot(sunspot[:,1])\n",
    "ax[1].plot(res1, c='r', marker='.')\n",
    "ax[1].plot(pl.movavg(sunspot[:,1],15), c='g')\n",
    "ax[1].set_title('Sunspot data - moving avg 15 days')\n",
    "\n",
    "ax[2].plot(sunspot[15:-15,1], c='b')\n",
    "ax[2].plot(res2, c='r', marker='.')\n",
    "ax[2].plot(pl.movavg(sunspot[:,1],31), c='g')\n",
    "ax[2].set_title('Sunspot data - moving avg 31 days')\n",
    "\n",
    "ax[3].plot(sunspot[45:-45,1], c='b')\n",
    "ax[3].plot(res3, c='r', marker='.')\n",
    "ax[3].plot(pl.movavg(sunspot[:,1],91), c='g')\n",
    "ax[3].set_title('Sunspot data - moving avg 91 days')\n",
    "plt.show()"
   ]
  },
  {
   "cell_type": "markdown",
   "metadata": {},
   "source": [
    "Linear and Polynomial Regressions\n",
    "---------------------------------\n",
    "http://docs.scipy.org/doc/scipy/reference/generated/scipy.stats.linregress.html      \n",
    "http://www.scipy.org/Cookbook/LinearRegression      \n",
    "http://en.wikipedia.org/wiki/Linear_regression  \n",
    "http://en.wikipedia.org/wiki/Polynomial_regression  "
   ]
  },
  {
   "cell_type": "markdown",
   "metadata": {},
   "source": [
    "Using Pylab's linear regression"
   ]
  },
  {
   "cell_type": "code",
   "execution_count": null,
   "metadata": {
    "collapsed": false
   },
   "outputs": [],
   "source": [
    "x = [1,2,3,4]\n",
    "y = [3,5,7,10] # 10, not 9, so the fit isn't perfect\n",
    "\n",
    "fit = pl.polyfit(x,y,1) # 1 is the degree of polynomial\n",
    "fit_fn = pl.poly1d(fit) # fit_fn is now a function which takes in x and returns an estimate for y\n",
    "print(fit)\n",
    "print(fit_fn(x))\n",
    "ax = plt.plot(x,y, 'yo', x, fit_fn(x), '--k')\n",
    "plt.xlim(0, 5)\n",
    "plt.ylim(0, 12)\n",
    "plt.show()"
   ]
  },
  {
   "cell_type": "markdown",
   "metadata": {},
   "source": [
    "Analysing the Boston Marathon results  \n",
    "http://en.wikipedia.org/wiki/List_of_winners_of_the_Boston_Marathon"
   ]
  },
  {
   "cell_type": "code",
   "execution_count": null,
   "metadata": {
    "collapsed": false
   },
   "outputs": [],
   "source": [
    "t1 = np.linspace(1897,2014,len(marathon_m[:,0]))\n",
    "t2 = np.linspace(1960,2014,len(marathon_w[:,0]))"
   ]
  },
  {
   "cell_type": "code",
   "execution_count": null,
   "metadata": {
    "collapsed": false
   },
   "outputs": [],
   "source": [
    "s_m = pd.Series(marathon_m[:,1], index=marathon_m[:,0], name='Men')\n",
    "s_w = pd.Series(marathon_w[:,1], index=marathon_w[:,0])\n",
    "df_m_w = pd.concat([s_m,s_w], axis=1, keys=['Men','Women'])\n",
    "df_m_w.tail()"
   ]
  },
  {
   "cell_type": "code",
   "execution_count": null,
   "metadata": {
    "collapsed": false
   },
   "outputs": [],
   "source": [
    "plt.figure(figsize=(14,10))\n",
    "plt.scatter(marathon_m[:,0], marathon_m[:,1], c='b', marker='+')\n",
    "plt.scatter(marathon_w[:,0], marathon_w[:,1], c='r', marker='.')\n",
    "plt.title('Final times - Boston Marathon')\n",
    "plt.legend(['Men','Women'])\n",
    "plt.show()"
   ]
  },
  {
   "cell_type": "markdown",
   "metadata": {},
   "source": [
    "Linear Regression"
   ]
  },
  {
   "cell_type": "code",
   "execution_count": null,
   "metadata": {
    "collapsed": false
   },
   "outputs": [],
   "source": [
    "(a,b) = pl.polyfit(t1,marathon_m[:,1],1) \n",
    "xm_linear = pl.polyval([a,b],t1)\n",
    "(a,b) = pl.polyfit(t2,marathon_w[:,1],1)\n",
    "xf_linear = pl.polyval([a,b],t2)"
   ]
  },
  {
   "cell_type": "code",
   "execution_count": null,
   "metadata": {
    "collapsed": false
   },
   "outputs": [],
   "source": [
    "plt.figure(figsize=(14,10))\n",
    "plt.title('Boston Marathon - yearly best times')\n",
    "plt.scatter(t1, marathon_m[:,1], c='b', marker='o')\n",
    "plt.scatter(t2, marathon_w[:,1], c='g', marker='+')\n",
    "plt.plot(t1, xm_linear,'b.-')\n",
    "plt.plot(t2, xf_linear,'r.-')\n",
    "plt.legend(['Linear Reg M','Linear Reg W','Men','Women'], loc=0)\n",
    "plt.show()"
   ]
  },
  {
   "cell_type": "markdown",
   "metadata": {},
   "source": [
    "Regression with 2th order polynomial"
   ]
  },
  {
   "cell_type": "code",
   "execution_count": null,
   "metadata": {
    "collapsed": false
   },
   "outputs": [],
   "source": [
    "(a,b,c) = pl.polyfit(t1,marathon_m[:,1],2)\n",
    "xm_2th = pl.polyval([a,b,c],t1)\n",
    "(a,b,c) = pl.polyfit(t2,marathon_w[:,1],2)\n",
    "xw_2th = pl.polyval([a,b,c],t2)"
   ]
  },
  {
   "cell_type": "code",
   "execution_count": null,
   "metadata": {
    "collapsed": false
   },
   "outputs": [],
   "source": [
    "plt.figure(figsize=(14,10))\n",
    "plt.title('Boston Marathon - yearly best times')\n",
    "plt.scatter(t1, marathon_m[:,1], c='b', marker='o')\n",
    "plt.scatter(t2, marathon_w[:,1], c='g', marker='+')\n",
    "plt.plot(t1, xm_2th,'b.-')\n",
    "plt.plot(t2, xw_2th,'r.-')\n",
    "plt.legend(['2th Pol Reg M','2th Pol Reg W','Men','Women'], loc=0)\n",
    "plt.show()"
   ]
  },
  {
   "cell_type": "markdown",
   "metadata": {},
   "source": [
    "Regression with 3rd order polynomial"
   ]
  },
  {
   "cell_type": "code",
   "execution_count": null,
   "metadata": {
    "collapsed": false
   },
   "outputs": [],
   "source": [
    "coefs_m = pl.polyfit(t1,marathon_m[:,1],3) \n",
    "xm_3th = pl.polyval(coefs_m,t1)\n",
    "coefs_w = pl.polyfit(t2,marathon_w[:,1],3)\n",
    "xw_3th = pl.polyval(coefs_w,t2)"
   ]
  },
  {
   "cell_type": "code",
   "execution_count": null,
   "metadata": {
    "collapsed": false
   },
   "outputs": [],
   "source": [
    "plt.figure(figsize=(14,10))\n",
    "plt.title('Boston Marathon - yearly best times')\n",
    "plt.scatter(t1, marathon_m[:,1], c='b', marker='o')\n",
    "plt.scatter(t2, marathon_w[:,1], c='g', marker='+')\n",
    "plt.plot(t1, xm_3th,'b.-')\n",
    "plt.plot(t2, xw_3th,'r.-')\n",
    "plt.legend(['3th Pol Reg M','3th Pol Reg W','Men','Women'], loc=0)\n",
    "plt.show()"
   ]
  },
  {
   "cell_type": "markdown",
   "metadata": {},
   "source": [
    "Regression with 4th order polynomial"
   ]
  },
  {
   "cell_type": "code",
   "execution_count": null,
   "metadata": {
    "collapsed": false
   },
   "outputs": [],
   "source": [
    "coefs_m = pl.polyfit(t1,marathon_m[:,1],4) \n",
    "xm_4th = pl.polyval(coefs_m,t1)\n",
    "coefs_w = pl.polyfit(t2,marathon_w[:,1],4)\n",
    "xw_4th = pl.polyval(coefs_w,t2)"
   ]
  },
  {
   "cell_type": "code",
   "execution_count": null,
   "metadata": {
    "collapsed": false
   },
   "outputs": [],
   "source": [
    "plt.figure(figsize=(14,10))\n",
    "plt.title('Boston Marathon - yearly best times')\n",
    "plt.scatter(t1, marathon_m[:,1], c='b', marker='o')\n",
    "plt.scatter(t2, marathon_w[:,1], c='g', marker='+')\n",
    "plt.plot(t1, xm_4th,'b.-')\n",
    "plt.plot(t2, xw_4th,'r.-')\n",
    "plt.legend(['4th Pol Reg M','4th Pol Reg W','Men','Women'], loc=0)\n",
    "plt.show()"
   ]
  },
  {
   "cell_type": "markdown",
   "metadata": {},
   "source": [
    "Linear regression in The Draft Lottery case:"
   ]
  },
  {
   "cell_type": "code",
   "execution_count": null,
   "metadata": {
    "collapsed": false
   },
   "outputs": [],
   "source": [
    "plt.scatter(lottery[:,0], lottery[:,1], c='b', marker='o')\n",
    "plt.show()"
   ]
  },
  {
   "cell_type": "code",
   "execution_count": null,
   "metadata": {
    "collapsed": false
   },
   "outputs": [],
   "source": [
    "plt.scatter(lottery[:,0], lottery[:,1], c='b', marker='+')\n",
    "t1 = np.linspace(0,365,len(lottery[:,0]))\n",
    "(a,b) = pl.polyfit(t1,lottery[:,1],1) \n",
    "xm_linear = pl.polyval([a,b],t1)\n",
    "plt.plot(t1, xm_linear,'b.-')\n",
    "plt.show()"
   ]
  },
  {
   "cell_type": "markdown",
   "metadata": {},
   "source": [
    "Be careful with regressions!  \n",
    "\n",
    "http://matplotlib.org/1.2.1/examples/pylab_examples/anscombe.html  \n",
    "    \n",
    "Edward Tufte uses this example from Anscombe to show 4 datasets of x and y that have the same mean, standard deviation, and regression line, but which are qualitatively different."
   ]
  },
  {
   "cell_type": "code",
   "execution_count": null,
   "metadata": {
    "collapsed": false
   },
   "outputs": [],
   "source": [
    "x =  array([10, 8, 13, 9, 11, 14, 6, 4, 12, 7, 5])\n",
    "y1 = array([8.04, 6.95, 7.58, 8.81, 8.33, 9.96, 7.24, 4.26, 10.84, 4.82, 5.68])\n",
    "y2 = array([9.14, 8.14, 8.74, 8.77, 9.26, 8.10, 6.13, 3.10, 9.13, 7.26, 4.74])\n",
    "y3 = array([7.46, 6.77, 12.74, 7.11, 7.81, 8.84, 6.08, 5.39, 8.15, 6.42, 5.73])\n",
    "x4 = array([8,8,8,8,8,8,8,19,8,8,8])\n",
    "y4 = array([6.58,5.76,7.71,8.84,8.47,7.04,5.25,12.50,5.56,7.91,6.89])\n",
    "\n",
    "def fit(x):\n",
    "    return 3+0.5*x\n",
    "\n",
    "plt.clf()\n",
    "f, ((ax1, ax2), (ax3, ax4)) = plt.subplots(2, 2, figsize=(12,12), sharex='col', sharey='row')\n",
    "\n",
    "xfit = array([amin(x),amax(x)])\n",
    "ax1.plot(x,y1,'ks', xfit, fit(xfit), 'r-', lw=2)\n",
    "ax1.axis([2,20,2,14])\n",
    "ax1.text(3,12, 'I', fontsize=20)\n",
    "\n",
    "ax2.plot(x,y2,'ks', xfit, fit(xfit), 'r-', lw=2)\n",
    "ax2.axis([2,20,2,14])\n",
    "ax2.text(3,12, 'II', fontsize=20)\n",
    "\n",
    "ax3.plot(x,y3,'ks', xfit, fit(xfit), 'r-', lw=2)\n",
    "ax3.axis([2,20,2,14])\n",
    "ax3.text(3,12, 'IIII', fontsize=20)\n",
    "\n",
    "xfit = array([amin(x4),amax(x4)])\n",
    "ax4.plot(x4,y4,'ks', xfit, fit(xfit), 'r-', lw=2)\n",
    "ax4.axis([2,20,2,14])\n",
    "ax4.text(3,12, 'IV', fontsize=20)\n",
    "\n",
    "plt.tight_layout()\n",
    "\n",
    "#verify the stats\n",
    "pairs = (x,y1), (x,y2), (x,y3), (x4,y4)\n",
    "for x,y in pairs:\n",
    "    print('mean={:.2f}, std={:.2f}, r={:.2f}'.format(mean(y), std(y), corrcoef(x,y)[0][1]))\n",
    "plt.show()"
   ]
  },
  {
   "cell_type": "markdown",
   "metadata": {},
   "source": [
    "Exploring Bovespa stock prices"
   ]
  },
  {
   "cell_type": "code",
   "execution_count": null,
   "metadata": {
    "collapsed": false
   },
   "outputs": [],
   "source": [
    "print(cotacoes.shape)\n",
    "lines = cotacoes.shape[0] #same as: len(cotacoes[:,0])\n",
    "columns = cotacoes.shape[1] #same as: len(cotacoes[0,:])"
   ]
  },
  {
   "cell_type": "code",
   "execution_count": null,
   "metadata": {
    "collapsed": false
   },
   "outputs": [],
   "source": [
    "plt.plot(cotacoes[:,0], cotacoes[:,1])\n",
    "plt.title('Bovespa Historical Series')\n",
    "plt.show()"
   ]
  },
  {
   "cell_type": "markdown",
   "metadata": {},
   "source": [
    "And what if the dates were not ordered?\n",
    "\n",
    "We can use argsort to order an array by one of its columns (or rows)\n",
    "\n",
    "http://docs.scipy.org/doc/numpy-1.5.x/reference/generated/numpy.argsort.html"
   ]
  },
  {
   "cell_type": "code",
   "execution_count": null,
   "metadata": {
    "collapsed": false
   },
   "outputs": [],
   "source": [
    "ord_cot = cotacoes[cotacoes[:,0].argsort(),:]"
   ]
  },
  {
   "cell_type": "markdown",
   "metadata": {},
   "source": [
    "We can see there is a great scale change... maybe it's a good idea to treat as two separate series"
   ]
  },
  {
   "cell_type": "code",
   "execution_count": null,
   "metadata": {
    "collapsed": false
   },
   "outputs": [],
   "source": [
    "cot_after = cotacoes[0:3555,:]\n",
    "plt.figure(2)\n",
    "plt.title('Bovespa Trunked Series')\n",
    "plt.plot(cot_after[:,0], cot_after[:,1])\n",
    "plt.show()"
   ]
  },
  {
   "cell_type": "markdown",
   "metadata": {},
   "source": [
    "Applying smoothing, as before, with windows varying its size:"
   ]
  },
  {
   "cell_type": "code",
   "execution_count": null,
   "metadata": {
    "collapsed": false
   },
   "outputs": [],
   "source": [
    "plt.figure(3)\n",
    "plt.title('Bovespa - one week smoothing')\n",
    "plt.plot (cot_after[5:-5,0], pl.movavg(cot_after[:,1],11)) \n",
    "plt.figure(4)\n",
    "plt.title('Bovespa - one month smoothing')\n",
    "plt.plot (cot_after[10:-10,0], pl.movavg(cot_after[:,1],21)) \n",
    "plt.figure(5)\n",
    "plt.title('Bovespa - six months smoothing')\n",
    "plt.plot(cot_after[60:-60,0], pl.movavg(cot_after[:,1],121))\n",
    "plt.show()"
   ]
  },
  {
   "cell_type": "markdown",
   "metadata": {},
   "source": [
    "Smoothing with a gaussian filter\n",
    "--------------------------------\n",
    "1) Building a gaussian filter with 31 points and standard deviation of $\\sigma$\n",
    "\n",
    "http://docs.scipy.org/doc/scipy/reference/generated/scipy.signal.gaussian.html"
   ]
  },
  {
   "cell_type": "code",
   "execution_count": null,
   "metadata": {
    "collapsed": false
   },
   "outputs": [],
   "source": [
    "filt = signal.gaussian(31, 5)\n",
    "plt.plot(filt)\n",
    "plt.show()"
   ]
  },
  {
   "cell_type": "markdown",
   "metadata": {},
   "source": [
    "2) Normalizing the filter dividing by the sum of the elements"
   ]
  },
  {
   "cell_type": "code",
   "execution_count": null,
   "metadata": {
    "collapsed": false
   },
   "outputs": [],
   "source": [
    "filt /= sum(filt)\n",
    "plt.plot(filt)\n",
    "plt.show()"
   ]
  },
  {
   "cell_type": "markdown",
   "metadata": {},
   "source": [
    "3) Convoluting the serie with the filter  \n",
    "4) Comparing the series (original, moving averages and Gaussian smoothed)"
   ]
  },
  {
   "cell_type": "code",
   "execution_count": null,
   "metadata": {
    "collapsed": false
   },
   "outputs": [],
   "source": [
    "cot_after_Gsmooth = pl.convolve(cot_after[:,1], filt, mode='valid')\n",
    "offset = 15000\n",
    "\n",
    "plt.figure(figsize=(14,10))\n",
    "plt.plot(cot_after[:,0], cot_after[:,1], 'r')\n",
    "plt.plot(cot_after[10:-10,0], pl.movavg(cot_after[:,1]-offset,21), 'g')\n",
    "plt.plot(cot_after[15:-15,0], cot_after_Gsmooth+offset, 'b')\n",
    "\n",
    "plt.legend(['Original','Moving Average','Gaussian Smoothing'], loc=0)\n",
    "plt.show()"
   ]
  },
  {
   "cell_type": "markdown",
   "metadata": {},
   "source": [
    "Calculating Cross-Correlation  \n",
    "http://en.wikipedia.org/wiki/Cross-correlation  \n",
    "http://stackoverflow.com/questions/15989384/cross-correlation-of-non-periodic-function-with-numpy  "
   ]
  },
  {
   "cell_type": "code",
   "execution_count": null,
   "metadata": {
    "collapsed": false
   },
   "outputs": [],
   "source": [
    "x = np.linspace(-15, 15, 4000)\n",
    "f1 = (np.arctan(-x) + np.pi/2) / np.pi\n",
    "f2 = (np.arctan(-x + 4) + np.pi/2) / np.pi\n",
    "plt.plot(x,f1)\n",
    "plt.plot(x,f2)\n",
    "plt.show()"
   ]
  },
  {
   "cell_type": "code",
   "execution_count": null,
   "metadata": {
    "collapsed": false
   },
   "outputs": [],
   "source": [
    "L4 = int(len(f2)/8)\n",
    "sf2 = f2[L4:-L4]\n",
    "c = pl.correlate(f1-np.mean(f1), sf2-np.mean(f1), 'same')\n",
    "print \"peak correlation occurs at:\", x[np.argmax(c)]  # -3.7471867967\n",
    "plt.plot(x,c)\n",
    "plt.show()"
   ]
  },
  {
   "cell_type": "code",
   "execution_count": null,
   "metadata": {
    "collapsed": false
   },
   "outputs": [],
   "source": [
    "# Next, we'll load the Iris flower dataset, which is in the \"../input/\" directory\n",
    "iris = pd.read_csv(os.path.join(datapath, \"Iris.csv\"))\n",
    "# Let's see what's in the iris data - Jupyter notebooks print the result of the last thing you do\n",
    "iris.head()"
   ]
  },
  {
   "cell_type": "code",
   "execution_count": null,
   "metadata": {
    "collapsed": false
   },
   "outputs": [],
   "source": [
    "# Let's see how many examples we have of each species\n",
    "iris[\"Species\"].value_counts()"
   ]
  },
  {
   "cell_type": "code",
   "execution_count": null,
   "metadata": {
    "collapsed": false
   },
   "outputs": [],
   "source": [
    "# The first way we can plot things is using the .plot extension from Pandas dataframes\n",
    "# We'll use this to make a scatterplot of the Iris features.\n",
    "iris.plot(kind=\"scatter\", x=\"SepalLengthCm\", y=\"SepalWidthCm\")"
   ]
  },
  {
   "cell_type": "code",
   "execution_count": null,
   "metadata": {
    "collapsed": false
   },
   "outputs": [],
   "source": [
    "# We can also use the seaborn library to make a similar plot\n",
    "# A seaborn jointplot shows bivariate scatterplots and univariate histograms in the same figure\n",
    "sns.jointplot(x=\"SepalLengthCm\", y=\"SepalWidthCm\", data=iris, size=5)"
   ]
  },
  {
   "cell_type": "code",
   "execution_count": null,
   "metadata": {
    "collapsed": false
   },
   "outputs": [],
   "source": [
    "# One piece of information missing in the plots above is what species each plant is\n",
    "# We'll use seaborn's FacetGrid to color the scatterplot by species\n",
    "sns.FacetGrid(iris, hue=\"Species\", size=5) \\\n",
    "   .map(plt.scatter, \"SepalLengthCm\", \"SepalWidthCm\") \\\n",
    "   .add_legend()"
   ]
  },
  {
   "cell_type": "code",
   "execution_count": null,
   "metadata": {
    "collapsed": false
   },
   "outputs": [],
   "source": [
    "iris.head()"
   ]
  },
  {
   "cell_type": "code",
   "execution_count": null,
   "metadata": {
    "collapsed": false
   },
   "outputs": [],
   "source": [
    "# We can look at an individual feature in Seaborn through a boxplot\n",
    "sns.boxplot(x='Species', y='PetalLengthCm', data=iris)"
   ]
  },
  {
   "cell_type": "code",
   "execution_count": null,
   "metadata": {
    "collapsed": false
   },
   "outputs": [],
   "source": [
    "# One way we can extend this plot is adding a layer of individual points on top of\n",
    "# it through Seaborn's striplot\n",
    "# \n",
    "# We'll use jitter=True so that all the points don't fall in single vertical lines\n",
    "# above the species\n",
    "#\n",
    "# Saving the resulting axes as ax each time causes the resulting plot to be shown\n",
    "# on top of the previous axes\n",
    "ax = sns.boxplot(x=\"Species\", y=\"PetalLengthCm\", data=iris)\n",
    "ax = sns.stripplot(x=\"Species\", y=\"PetalLengthCm\", data=iris, jitter=True, edgecolor=\"gray\")"
   ]
  },
  {
   "cell_type": "code",
   "execution_count": null,
   "metadata": {
    "collapsed": false
   },
   "outputs": [],
   "source": [
    "# A violin plot combines the benefits of the previous two plots and simplifies them\n",
    "# Denser regions of the data are fatter, and sparser thiner in a violin plot\n",
    "sns.violinplot(x=\"Species\", y=\"PetalLengthCm\", data=iris, size=6)"
   ]
  },
  {
   "cell_type": "code",
   "execution_count": null,
   "metadata": {
    "collapsed": false
   },
   "outputs": [],
   "source": [
    "# A final seaborn plot useful for looking at univariate relations is the kdeplot,\n",
    "# which creates and visualizes a kernel density estimate of the underlying feature\n",
    "sns.FacetGrid(iris, hue=\"Species\", size=6) \\\n",
    "   .map(sns.kdeplot, \"PetalLengthCm\") \\\n",
    "   .add_legend()"
   ]
  },
  {
   "cell_type": "code",
   "execution_count": null,
   "metadata": {
    "collapsed": false
   },
   "outputs": [],
   "source": [
    "# Another useful seaborn plot is the pairplot, which shows the bivariate relation\n",
    "# between each pair of features\n",
    "# \n",
    "# From the pairplot, we'll see that the Iris-setosa species is separataed from the other\n",
    "# two across all feature combinations\n",
    "sns.pairplot(iris.drop(\"Id\", axis=1), hue=\"Species\", size=3)"
   ]
  },
  {
   "cell_type": "code",
   "execution_count": null,
   "metadata": {
    "collapsed": false
   },
   "outputs": [],
   "source": [
    "# The diagonal elements in a pairplot show the histogram by default\n",
    "# We can update these elements to show other things, such as a kde\n",
    "sns.pairplot(iris.drop(\"Id\", axis=1), hue=\"Species\", size=3, diag_kind=\"kde\")"
   ]
  },
  {
   "cell_type": "code",
   "execution_count": null,
   "metadata": {
    "collapsed": false
   },
   "outputs": [],
   "source": [
    "# Now that we've covered seaborn, let's go back to some of the ones we can make with Pandas\n",
    "# We can quickly make a boxplot with Pandas on each feature split out by species\n",
    "iris.drop(\"Id\", axis=1).boxplot(by=\"Species\", figsize=(12, 6))"
   ]
  },
  {
   "cell_type": "code",
   "execution_count": null,
   "metadata": {
    "collapsed": false
   },
   "outputs": [],
   "source": [
    "# One cool more sophisticated technique pandas has available is called Andrews Curves\n",
    "# Andrews Curves involve using attributes of samples as coefficients for Fourier series\n",
    "# and then plotting these\n",
    "from pandas.tools.plotting import andrews_curves\n",
    "andrews_curves(iris.drop(\"Id\", axis=1), \"Species\")"
   ]
  },
  {
   "cell_type": "code",
   "execution_count": null,
   "metadata": {
    "collapsed": false
   },
   "outputs": [],
   "source": [
    "# Another multivariate visualization technique pandas has is parallel_coordinates\n",
    "# Parallel coordinates plots each feature on a separate column & then draws lines\n",
    "# connecting the features for each data sample\n",
    "from pandas.tools.plotting import parallel_coordinates\n",
    "parallel_coordinates(iris.drop(\"Id\", axis=1), \"Species\")"
   ]
  },
  {
   "cell_type": "code",
   "execution_count": null,
   "metadata": {
    "collapsed": false
   },
   "outputs": [],
   "source": [
    "# A final multivariate visualization technique pandas has is radviz\n",
    "# Which puts each feature as a point on a 2D plane, and then simulates\n",
    "# having each sample attached to those points through a spring weighted\n",
    "# by the relative value for that feature\n",
    "from pandas.tools.plotting import radviz\n",
    "radviz(iris.drop(\"Id\", axis=1), \"Species\")"
   ]
  },
  {
   "cell_type": "code",
   "execution_count": null,
   "metadata": {
    "collapsed": true
   },
   "outputs": [],
   "source": []
  }
 ],
 "metadata": {
  "kernelspec": {
   "display_name": "Python 3",
   "language": "python",
   "name": "python3"
  },
  "language_info": {
   "codemirror_mode": {
    "name": "ipython",
    "version": 3
   },
   "file_extension": ".py",
   "mimetype": "text/x-python",
   "name": "python",
   "nbconvert_exporter": "python",
   "pygments_lexer": "ipython3",
   "version": "3.5.1+"
  }
 },
 "nbformat": 4,
 "nbformat_minor": 0
}
