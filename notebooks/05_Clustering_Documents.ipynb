{
 "cells": [
  {
   "cell_type": "markdown",
   "metadata": {},
   "source": [
    "Mestrado em Modelagem Matematica da Informacao\n",
    "----------------------------------------------\n",
    "Disciplina: Modelagem e Mineracao de Dados\n",
    "------------------------------------------\n",
    "\n",
    "Master Program - Mathematical Modeling of Information\n",
    "-----------------------------------------------------\n",
    "Course: Data Mining and Modeling\n",
    "--------------------------------\n",
    "\n",
    "Professor: Renato Rocha Souza\n",
    "-----------------------------"
   ]
  },
  {
   "cell_type": "markdown",
   "metadata": {},
   "source": [
    "### Topic: Clustering documents"
   ]
  },
  {
   "cell_type": "markdown",
   "metadata": {},
   "source": [
    "This notebook is based on http://www.brandonrose.org and http://www.brandonrose.org/top100  "
   ]
  },
  {
   "cell_type": "markdown",
   "metadata": {},
   "source": [
    "In this guide, I will explain how to cluster a set of documents using Python. My motivating example is to identify the latent structures within the synopses of the top 100 films of all time (per an IMDB list). \n",
    "\n",
    "This notebook covers:\n",
    "\n",
    "<ul>\n",
    "<li> tokenizing and stemming each synopsis\n",
    "<li> transforming the corpus into vector space using [tf-idf](http://en.wikipedia.org/wiki/Tf%E2%80%93idf)\n",
    "<li> calculating cosine distance between each document as a measure of similarity\n",
    "<li> clustering the documents using the [k-means algorithm](http://en.wikipedia.org/wiki/K-means_clustering)\n",
    "<li> using [multidimensional scaling](http://en.wikipedia.org/wiki/Multidimensional_scaling) to reduce dimensionality within the corpus\n",
    "<li> plotting the clustering output using [matplotlib](http://matplotlib.org/) and [mpld3](http://mpld3.github.io/)\n",
    "<li> conducting a hierarchical clustering on the corpus using [Ward clustering](http://en.wikipedia.org/wiki/Ward%27s_method)\n",
    "<li> plotting a Ward dendrogram\n",
    "<li> topic modeling using [Latent Dirichlet Allocation (LDA)](http://en.wikipedia.org/wiki/Latent_Dirichlet_allocation)\n",
    "</ul>"
   ]
  },
  {
   "cell_type": "markdown",
   "metadata": {},
   "source": [
    "## Contents"
   ]
  },
  {
   "cell_type": "markdown",
   "metadata": {},
   "source": [
    "<ul>\n",
    "<li>[Stopwords, stemming, and tokenization](#Stopwords,-stemming,-and-tokenizing)\n",
    "<li>[Tf-idf and document similarity](#Tf-idf-and-document-similarity)\n",
    "<li>[K-means clustering](#K-means-clustering)\n",
    "<li>[Multidimensional scaling](#Multidimensional-scaling)\n",
    "<li>[Visualizing document clusters](#Visualizing-document-clusters)\n",
    "<li>[Hierarchical document clustering](#Hierarchical-document-clustering)\n",
    "<li>[Latent Dirichlet Allocation (LDA)](#Latent-Dirichlet-Allocation)\n",
    "</ul>"
   ]
  },
  {
   "cell_type": "markdown",
   "metadata": {},
   "source": [
    "But first, I import everything I am going to need up front"
   ]
  },
  {
   "cell_type": "code",
   "execution_count": 46,
   "metadata": {
    "collapsed": false
   },
   "outputs": [
    {
     "name": "stderr",
     "output_type": "stream",
     "text": [
      "/home/rsouza/python/3/venv/local/lib/python3.5/site-packages/funcy/decorators.py:56: DeprecationWarning: inspect.getargspec() is deprecated, use inspect.signature() instead\n",
      "  spec = inspect.getargspec(func)\n",
      "/home/rsouza/python/3/venv/local/lib/python3.5/site-packages/funcy/decorators.py:56: DeprecationWarning: inspect.getargspec() is deprecated, use inspect.signature() instead\n",
      "  spec = inspect.getargspec(func)\n",
      "/home/rsouza/python/3/venv/local/lib/python3.5/site-packages/funcy/decorators.py:56: DeprecationWarning: inspect.getargspec() is deprecated, use inspect.signature() instead\n",
      "  spec = inspect.getargspec(func)\n",
      "/home/rsouza/python/3/venv/local/lib/python3.5/site-packages/funcy/decorators.py:56: DeprecationWarning: inspect.getargspec() is deprecated, use inspect.signature() instead\n",
      "  spec = inspect.getargspec(func)\n",
      "/home/rsouza/python/3/venv/local/lib/python3.5/site-packages/funcy/decorators.py:56: DeprecationWarning: inspect.getargspec() is deprecated, use inspect.signature() instead\n",
      "  spec = inspect.getargspec(func)\n",
      "/home/rsouza/python/3/venv/local/lib/python3.5/site-packages/funcy/decorators.py:56: DeprecationWarning: inspect.getargspec() is deprecated, use inspect.signature() instead\n",
      "  spec = inspect.getargspec(func)\n"
     ]
    }
   ],
   "source": [
    "import numpy as np\n",
    "import pandas as pd\n",
    "import nltk\n",
    "from bs4 import BeautifulSoup\n",
    "import re\n",
    "import os\n",
    "import codecs\n",
    "from sklearn import feature_extraction\n",
    "import mpld3\n",
    "import pyLDAvis\n",
    "import pyLDAvis.gensim"
   ]
  },
  {
   "cell_type": "markdown",
   "metadata": {},
   "source": [
    "Specifying the path to the files  "
   ]
  },
  {
   "cell_type": "code",
   "execution_count": 116,
   "metadata": {
    "collapsed": true
   },
   "outputs": [],
   "source": [
    "datapath = \"../datasets/\"\n",
    "outputs = \"../outputs/\""
   ]
  },
  {
   "cell_type": "markdown",
   "metadata": {},
   "source": [
    "# Stopwords, stemming, and tokenizing"
   ]
  },
  {
   "cell_type": "code",
   "execution_count": 47,
   "metadata": {
    "collapsed": false
   },
   "outputs": [
    {
     "name": "stdout",
     "output_type": "stream",
     "text": [
      "100 titles\n",
      "100 links\n",
      "100 synopses\n",
      "100 genres\n"
     ]
    }
   ],
   "source": [
    "#import three lists: titles, links and wikipedia synopses\n",
    "titles = open('title_list.txt').read().split('\\n')\n",
    "#ensures that only the first 100 are read in\n",
    "titles = titles[:100]\n",
    "\n",
    "links = open('link_list_imdb.txt').read().split('\\n')\n",
    "links = links[:100]\n",
    "\n",
    "synopses_wiki = open('synopses_list_wiki.txt').read().split('\\n BREAKS HERE')\n",
    "synopses_wiki = synopses_wiki[:100]\n",
    "\n",
    "synopses_clean_wiki = []\n",
    "for text in synopses_wiki:\n",
    "    text = BeautifulSoup(text, 'html.parser').getText()\n",
    "    #strips html formatting and converts to unicode\n",
    "    synopses_clean_wiki.append(text)\n",
    "\n",
    "synopses_wiki = synopses_clean_wiki\n",
    "    \n",
    "    \n",
    "genres = open('genres_list.txt').read().split('\\n')\n",
    "genres = genres[:100]\n",
    "\n",
    "print(str(len(titles)) + ' titles')\n",
    "print(str(len(links)) + ' links')\n",
    "print(str(len(synopses_wiki)) + ' synopses')\n",
    "print(str(len(genres)) + ' genres')"
   ]
  },
  {
   "cell_type": "code",
   "execution_count": 48,
   "metadata": {
    "collapsed": false
   },
   "outputs": [],
   "source": [
    "synopses_imdb = open('synopses_list_imdb.txt').read().split('\\n BREAKS HERE')\n",
    "synopses_imdb = synopses_imdb[:100]\n",
    "\n",
    "synopses_clean_imdb = []\n",
    "\n",
    "for text in synopses_imdb:\n",
    "    text = BeautifulSoup(text, 'html.parser').getText()\n",
    "    #strips html formatting and converts to unicode\n",
    "    synopses_clean_imdb.append(text)\n",
    "\n",
    "synopses_imdb = synopses_clean_imdb"
   ]
  },
  {
   "cell_type": "code",
   "execution_count": 49,
   "metadata": {
    "collapsed": false
   },
   "outputs": [],
   "source": [
    "synopses = []\n",
    "\n",
    "for i in range(len(synopses_wiki)):\n",
    "    item = synopses_wiki[i] + synopses_imdb[i]\n",
    "    synopses.append(item)"
   ]
  },
  {
   "cell_type": "code",
   "execution_count": 50,
   "metadata": {
    "collapsed": false
   },
   "outputs": [],
   "source": [
    "# generates index for each item in the corpora (in this case it's just rank) and I'll use this for scoring later\n",
    "ranks = []\n",
    "\n",
    "for i in range(0,len(titles)):\n",
    "    ranks.append(i)"
   ]
  },
  {
   "cell_type": "markdown",
   "metadata": {},
   "source": [
    "This section is focused on defining some functions to manipulate the synopses. First, I load [NLTK's](http://www.nltk.org/) list of English stop words. [Stop words](http://en.wikipedia.org/wiki/Stop_words) are words like \"a\", \"the\", or \"in\" which don't convey significant meaning. I'm sure there are much better explanations of this out there."
   ]
  },
  {
   "cell_type": "code",
   "execution_count": 51,
   "metadata": {
    "collapsed": false
   },
   "outputs": [],
   "source": [
    "# load nltk's English stopwords as variable called 'stopwords'\n",
    "stopwords = nltk.corpus.stopwords.words('english')"
   ]
  },
  {
   "cell_type": "markdown",
   "metadata": {},
   "source": [
    "Next I import the [Snowball Stemmer](http://snowball.tartarus.org/) which is actually part of NLTK. [Stemming](http://en.wikipedia.org/wiki/Stemming) is just the process of breaking a word down into its root."
   ]
  },
  {
   "cell_type": "code",
   "execution_count": 52,
   "metadata": {
    "collapsed": false
   },
   "outputs": [],
   "source": [
    "# load nltk's SnowballStemmer as variabled 'stemmer'\n",
    "from nltk.stem.snowball import SnowballStemmer\n",
    "stemmer = SnowballStemmer(\"english\")"
   ]
  },
  {
   "cell_type": "markdown",
   "metadata": {},
   "source": [
    "\n",
    "Below I define two functions:\n",
    "\n",
    "<ul>\n",
    "<li> *tokenize_and_stem*: tokenizes (splits the synopsis into a list of its respective words (or tokens) and also stems each token <li> *tokenize_only*: tokenizes the synopsis only\n",
    "</ul>\n",
    "\n",
    "I use both these functions to create a dictionary which becomes important in case I want to use stems for an algorithm, but later convert stems back to their full words for presentation purposes. Guess what, I do want to do that!\n",
    "\n"
   ]
  },
  {
   "cell_type": "code",
   "execution_count": 53,
   "metadata": {
    "collapsed": false
   },
   "outputs": [],
   "source": [
    "# here I define a tokenizer and stemmer which returns the set of stems in the text that it is passed\n",
    "\n",
    "def tokenize_and_stem(text):\n",
    "    # first tokenize by sentence, then by word to ensure that punctuation is caught as it's own token\n",
    "    tokens = [word for sent in nltk.sent_tokenize(text) for word in nltk.word_tokenize(sent)]\n",
    "    filtered_tokens = []\n",
    "    # filter out any tokens not containing letters (e.g., numeric tokens, raw punctuation)\n",
    "    for token in tokens:\n",
    "        if re.search('[a-zA-Z]', token):\n",
    "            filtered_tokens.append(token)\n",
    "    stems = [stemmer.stem(t) for t in filtered_tokens]\n",
    "    return stems\n",
    "\n",
    "\n",
    "def tokenize_only(text):\n",
    "    # first tokenize by sentence, then by word to ensure that punctuation is caught as it's own token\n",
    "    tokens = [word.lower() for sent in nltk.sent_tokenize(text) for word in nltk.word_tokenize(sent)]\n",
    "    filtered_tokens = []\n",
    "    # filter out any tokens not containing letters (e.g., numeric tokens, raw punctuation)\n",
    "    for token in tokens:\n",
    "        if re.search('[a-zA-Z]', token):\n",
    "            filtered_tokens.append(token)\n",
    "    return filtered_tokens"
   ]
  },
  {
   "cell_type": "markdown",
   "metadata": {},
   "source": [
    "Below I use my stemming/tokenizing and tokenizing functions to iterate over the list of synopses to create two vocabularies: one stemmed and one only tokenized. "
   ]
  },
  {
   "cell_type": "code",
   "execution_count": 54,
   "metadata": {
    "collapsed": false
   },
   "outputs": [],
   "source": [
    "totalvocab_stemmed = []\n",
    "totalvocab_tokenized = []\n",
    "for i in synopses:\n",
    "    allwords_stemmed = tokenize_and_stem(i)\n",
    "    totalvocab_stemmed.extend(allwords_stemmed)\n",
    "    \n",
    "    allwords_tokenized = tokenize_only(i)\n",
    "    totalvocab_tokenized.extend(allwords_tokenized)"
   ]
  },
  {
   "cell_type": "markdown",
   "metadata": {},
   "source": [
    "Using these two lists, I create a pandas DataFrame with the stemmed vocabulary as the index and the tokenized words as the column. The benefit of this is it provides an efficient way to look up a stem and return a full token. The downside here is that stems to tokens are one to many: the stem 'run' could be associated with 'ran', 'runs', 'running', etc. For my purposes this is fine--I'm perfectly happy returning the first token associated with the stem I need to look up."
   ]
  },
  {
   "cell_type": "code",
   "execution_count": 55,
   "metadata": {
    "collapsed": false
   },
   "outputs": [],
   "source": [
    "vocab_frame = pd.DataFrame({'words': totalvocab_tokenized}, index = totalvocab_stemmed)"
   ]
  },
  {
   "cell_type": "markdown",
   "metadata": {},
   "source": [
    "## Tf-idf and document similarity"
   ]
  },
  {
   "cell_type": "markdown",
   "metadata": {},
   "source": [
    "<img src='http://www.jiem.org/index.php/jiem/article/viewFile/293/252/2402' align='right' style=\"margin-left:10px\">\n",
    "\n",
    "Here, I define term frequency-inverse document frequency (tf-idf) vectorizer parameters and then convert the *synopses* list into a tf-idf matrix. \n",
    "\n",
    "To get a Tf-idf matrix, first count word occurrences by document. This is transformed into a document-term matrix (dtm). This is also just called a term frequency matrix. An example of a dtm is here at right.\n",
    "\n",
    "Then apply the term frequency-inverse document frequency weighting: words that occur frequently within a document but not frequently within the corpus receive a higher weighting as these words are assumed to contain more meaning in relation to the document.\n",
    "\n",
    "A couple things to note about the parameters I define below:\n",
    "\n",
    "<ul>\n",
    "<li> max_df: this is the maximum frequency within the documents a given feature can have to be used in the tfi-idf matrix. If the term is in greater than 80% of the documents it probably cares little meanining (in the context of film synopses)\n",
    "<li> min_idf: this could be an integer (e.g. 5) and the term would have to be in at least 5 of the documents to be considered. Here I pass 0.2; the term must be in at least 20% of the document. I found that if I allowed a lower min_df I ended up basing clustering on names--for example \"Michael\" or \"Tom\" are names found in several of the movies and the synopses use these names frequently, but the names carry no real meaning.\n",
    "<li> ngram_range: this just means I'll look at unigrams, bigrams and trigrams. See [n-grams](http://en.wikipedia.org/wiki/N-gram)\n",
    "</ul>"
   ]
  },
  {
   "cell_type": "code",
   "execution_count": 56,
   "metadata": {
    "collapsed": false
   },
   "outputs": [
    {
     "name": "stdout",
     "output_type": "stream",
     "text": [
      "CPU times: user 10.6 s, sys: 32 ms, total: 10.6 s\n",
      "Wall time: 10.6 s\n",
      "(100, 563)\n"
     ]
    }
   ],
   "source": [
    "from sklearn.feature_extraction.text import TfidfVectorizer\n",
    "\n",
    "tfidf_vectorizer = TfidfVectorizer(max_df=0.8, \n",
    "                                   max_features=200000,\n",
    "                                   min_df=0.2, \n",
    "                                   stop_words='english',\n",
    "                                   use_idf=True, \n",
    "                                   tokenizer=tokenize_and_stem, \n",
    "                                   ngram_range=(1,3))\n",
    "\n",
    "%time tfidf_matrix = tfidf_vectorizer.fit_transform(synopses)\n",
    "\n",
    "print(tfidf_matrix.shape)"
   ]
  },
  {
   "cell_type": "code",
   "execution_count": 57,
   "metadata": {
    "collapsed": false
   },
   "outputs": [],
   "source": [
    "terms = tfidf_vectorizer.get_feature_names()"
   ]
  },
  {
   "cell_type": "code",
   "execution_count": 58,
   "metadata": {
    "collapsed": false
   },
   "outputs": [],
   "source": [
    "from sklearn.metrics.pairwise import cosine_similarity\n",
    "dist = 1 - cosine_similarity(tfidf_matrix)"
   ]
  },
  {
   "cell_type": "markdown",
   "metadata": {},
   "source": [
    "# K-means clustering"
   ]
  },
  {
   "cell_type": "markdown",
   "metadata": {},
   "source": [
    "Now onto the fun part. Using the tf-idf matrix, you can run a slew of clustering algorithms to better understand the hidden structure within the synopses. I first chose [k-means](http://en.wikipedia.org/wiki/K-means_clustering). K-means initializes with a pre-determined number of clusters (I chose 5). Each observation is assigned to a cluster (cluster assignment) so as to minimize the within cluster sum of squares. Next, the mean of the clustered observations is calculated and used as the new cluster centroid. Then, observations are reassigned to clusters and  centroids recalculated in an iterative process until the algorithm reaches convergence.\n",
    "\n",
    "I found it took several runs for the algorithm to converge a global optimum as k-means is susceptible to reaching local optima. "
   ]
  },
  {
   "cell_type": "code",
   "execution_count": 59,
   "metadata": {
    "collapsed": false
   },
   "outputs": [
    {
     "name": "stdout",
     "output_type": "stream",
     "text": [
      "CPU times: user 152 ms, sys: 0 ns, total: 152 ms\n",
      "Wall time: 151 ms\n"
     ]
    }
   ],
   "source": [
    "from sklearn.cluster import KMeans\n",
    "\n",
    "num_clusters = 5\n",
    "\n",
    "km = KMeans(n_clusters=num_clusters)\n",
    "\n",
    "%time km.fit(tfidf_matrix)\n",
    "\n",
    "clusters = km.labels_.tolist()"
   ]
  },
  {
   "cell_type": "code",
   "execution_count": 60,
   "metadata": {
    "collapsed": false
   },
   "outputs": [],
   "source": [
    "from sklearn.externals import joblib\n",
    "\n",
    "#joblib.dump(km,  'doc_cluster.pkl')\n",
    "km = joblib.load('doc_cluster.pkl')\n",
    "clusters = km.labels_.tolist()"
   ]
  },
  {
   "cell_type": "code",
   "execution_count": 61,
   "metadata": {
    "collapsed": false
   },
   "outputs": [],
   "source": [
    "import pandas as pd\n",
    "\n",
    "films = {'title': titles, 'rank': ranks, 'synopsis': synopses, 'cluster': clusters, 'genre': genres}\n",
    "\n",
    "frame = pd.DataFrame(films, index = [clusters] , columns = ['rank', 'title', 'cluster', 'genre'])"
   ]
  },
  {
   "cell_type": "code",
   "execution_count": 62,
   "metadata": {
    "collapsed": false
   },
   "outputs": [
    {
     "data": {
      "text/plain": [
       "4    26\n",
       "0    25\n",
       "2    21\n",
       "1    16\n",
       "3    12\n",
       "Name: cluster, dtype: int64"
      ]
     },
     "execution_count": 62,
     "metadata": {},
     "output_type": "execute_result"
    }
   ],
   "source": [
    "frame['cluster'].value_counts()"
   ]
  },
  {
   "cell_type": "code",
   "execution_count": 63,
   "metadata": {
    "collapsed": false
   },
   "outputs": [
    {
     "data": {
      "text/plain": [
       "cluster\n",
       "0    47.200000\n",
       "1    58.875000\n",
       "2    49.380952\n",
       "3    54.500000\n",
       "4    43.730769\n",
       "Name: rank, dtype: float64"
      ]
     },
     "execution_count": 63,
     "metadata": {},
     "output_type": "execute_result"
    }
   ],
   "source": [
    "grouped = frame['rank'].groupby(frame['cluster'])\n",
    "\n",
    "grouped.mean()"
   ]
  },
  {
   "cell_type": "code",
   "execution_count": 64,
   "metadata": {
    "collapsed": false
   },
   "outputs": [
    {
     "name": "stdout",
     "output_type": "stream",
     "text": [
      "Top terms per cluster:\n",
      "\n",
      "Cluster 0 words: b'family', b'home', b'mother', b'war', b'house', b'dies',\n",
      "\n",
      "Cluster 0 titles: Schindler's List, One Flew Over the Cuckoo's Nest, Gone with the Wind, The Wizard of Oz, Titanic, Forrest Gump, E.T. the Extra-Terrestrial, The Silence of the Lambs, Gandhi, A Streetcar Named Desire, The Best Years of Our Lives, My Fair Lady, Ben-Hur, Doctor Zhivago, The Pianist, The Exorcist, Out of Africa, Good Will Hunting, Terms of Endearment, Giant, The Grapes of Wrath, Close Encounters of the Third Kind, The Graduate, Stagecoach, Wuthering Heights,\n",
      "\n",
      "Cluster 1 words: b'police', b'car', b'killed', b'murders', b'driving', b'house',\n",
      "\n",
      "Cluster 1 titles: Casablanca, Psycho, Sunset Blvd., Vertigo, Chinatown, Amadeus, High Noon, The French Connection, Fargo, Pulp Fiction, The Maltese Falcon, A Clockwork Orange, Double Indemnity, Rebel Without a Cause, The Third Man, North by Northwest,\n",
      "\n",
      "Cluster 2 words: b'father', b'new', b'york', b'new', b'brothers', b'apartments',\n",
      "\n",
      "Cluster 2 titles: The Godfather, Raging Bull, Citizen Kane, The Godfather: Part II, On the Waterfront, 12 Angry Men, Rocky, To Kill a Mockingbird, Braveheart, The Good, the Bad and the Ugly, The Apartment, Goodfellas, City Lights, It Happened One Night, Midnight Cowboy, Mr. Smith Goes to Washington, Rain Man, Annie Hall, Network, Taxi Driver, Rear Window,\n",
      "\n",
      "Cluster 3 words: b'george', b'dance', b'singing', b'john', b'love', b'perform',\n",
      "\n",
      "Cluster 3 titles: West Side Story, Singin' in the Rain, It's a Wonderful Life, Some Like It Hot, The Philadelphia Story, An American in Paris, The King's Speech, A Place in the Sun, Tootsie, Nashville, American Graffiti, Yankee Doodle Dandy,\n",
      "\n",
      "Cluster 4 words: b'killed', b'soldiers', b'captain', b'men', b'army', b'command',\n",
      "\n",
      "Cluster 4 titles: The Shawshank Redemption, Lawrence of Arabia, The Sound of Music, Star Wars, 2001: A Space Odyssey, The Bridge on the River Kwai, Dr. Strangelove or: How I Learned to Stop Worrying and Love the Bomb, Apocalypse Now, The Lord of the Rings: The Return of the King, Gladiator, From Here to Eternity, Saving Private Ryan, Unforgiven, Raiders of the Lost Ark, Patton, Jaws, Butch Cassidy and the Sundance Kid, The Treasure of the Sierra Madre, Platoon, Dances with Wolves, The Deer Hunter, All Quiet on the Western Front, Shane, The Green Mile, The African Queen, Mutiny on the Bounty,\n",
      "\n"
     ]
    }
   ],
   "source": [
    "from __future__ import print_function\n",
    "\n",
    "print(\"Top terms per cluster:\")\n",
    "print()\n",
    "order_centroids = km.cluster_centers_.argsort()[:, ::-1]\n",
    "for i in range(num_clusters):\n",
    "    print(\"Cluster %d words:\" % i, end='')\n",
    "    for ind in order_centroids[i, :6]:\n",
    "        print(' %s' % vocab_frame.ix[terms[ind].split(' ')].values.tolist()[0][0].encode('utf-8', 'ignore'), end=',')\n",
    "    print()\n",
    "    print()\n",
    "    print(\"Cluster %d titles:\" % i, end='')\n",
    "    for title in frame.ix[i]['title'].values.tolist():\n",
    "        print(' %s,' % title, end='')\n",
    "    print()\n",
    "    print()"
   ]
  },
  {
   "cell_type": "code",
   "execution_count": 65,
   "metadata": {
    "collapsed": false
   },
   "outputs": [],
   "source": [
    "#This is purely to help export tables to html and to correct for my 0 start rank (so that Godfather is 1, not 0)\n",
    "frame['Rank'] = frame['rank'] + 1\n",
    "frame['Title'] = frame['title']"
   ]
  },
  {
   "cell_type": "code",
   "execution_count": 66,
   "metadata": {
    "collapsed": false
   },
   "outputs": [
    {
     "name": "stdout",
     "output_type": "stream",
     "text": [
      "<table border=\"1\" class=\"dataframe\">\n",
      "  <thead>\n",
      "    <tr style=\"text-align: right;\">\n",
      "      <th>Rank</th>\n",
      "      <th>Title</th>\n",
      "    </tr>\n",
      "  </thead>\n",
      "  <tbody>\n",
      "    <tr>\n",
      "      <td>5</td>\n",
      "      <td>Casablanca</td>\n",
      "    </tr>\n",
      "    <tr>\n",
      "      <td>13</td>\n",
      "      <td>Psycho</td>\n",
      "    </tr>\n",
      "    <tr>\n",
      "      <td>14</td>\n",
      "      <td>Sunset Blvd.</td>\n",
      "    </tr>\n",
      "    <tr>\n",
      "      <td>15</td>\n",
      "      <td>Vertigo</td>\n",
      "    </tr>\n",
      "    <tr>\n",
      "      <td>24</td>\n",
      "      <td>Chinatown</td>\n",
      "    </tr>\n",
      "    <tr>\n",
      "      <td>31</td>\n",
      "      <td>Amadeus</td>\n",
      "    </tr>\n",
      "    <tr>\n",
      "      <td>57</td>\n",
      "      <td>High Noon</td>\n",
      "    </tr>\n",
      "    <tr>\n",
      "      <td>64</td>\n",
      "      <td>The French Connection</td>\n",
      "    </tr>\n",
      "    <tr>\n",
      "      <td>77</td>\n",
      "      <td>Fargo</td>\n",
      "    </tr>\n",
      "    <tr>\n",
      "      <td>87</td>\n",
      "      <td>Pulp Fiction</td>\n",
      "    </tr>\n",
      "    <tr>\n",
      "      <td>91</td>\n",
      "      <td>The Maltese Falcon</td>\n",
      "    </tr>\n",
      "    <tr>\n",
      "      <td>92</td>\n",
      "      <td>A Clockwork Orange</td>\n",
      "    </tr>\n",
      "    <tr>\n",
      "      <td>95</td>\n",
      "      <td>Double Indemnity</td>\n",
      "    </tr>\n",
      "    <tr>\n",
      "      <td>96</td>\n",
      "      <td>Rebel Without a Cause</td>\n",
      "    </tr>\n",
      "    <tr>\n",
      "      <td>98</td>\n",
      "      <td>The Third Man</td>\n",
      "    </tr>\n",
      "    <tr>\n",
      "      <td>99</td>\n",
      "      <td>North by Northwest</td>\n",
      "    </tr>\n",
      "  </tbody>\n",
      "</table>\n"
     ]
    }
   ],
   "source": [
    "#export tables to HTML\n",
    "print(frame[['Rank', 'Title']].loc[frame['cluster'] == 1].to_html(index=False))"
   ]
  },
  {
   "cell_type": "markdown",
   "metadata": {},
   "source": [
    "# Multidimensional scaling"
   ]
  },
  {
   "cell_type": "code",
   "execution_count": 67,
   "metadata": {
    "collapsed": false
   },
   "outputs": [],
   "source": [
    "import os  # for os.path.basename\n",
    "\n",
    "import matplotlib.pyplot as plt\n",
    "import matplotlib as mpl\n",
    "\n",
    "from sklearn.manifold import MDS\n",
    "\n",
    "MDS()\n",
    "\n",
    "# two components as we're plotting points in a two-dimensional plane\n",
    "# \"precomputed\" because we provide a distance matrix\n",
    "# we will also specify `random_state` so the plot is reproducible.\n",
    "mds = MDS(n_components=2, dissimilarity=\"precomputed\", random_state=1)\n",
    "\n",
    "pos = mds.fit_transform(dist)  # shape (n_components, n_samples)\n",
    "\n",
    "xs, ys = pos[:, 0], pos[:, 1]"
   ]
  },
  {
   "cell_type": "code",
   "execution_count": 68,
   "metadata": {
    "collapsed": false
   },
   "outputs": [],
   "source": [
    "#strip any proper nouns (NNP) or plural proper nouns (NNPS) from a text\n",
    "from nltk.tag import pos_tag\n",
    "\n",
    "def strip_proppers_POS(text):\n",
    "    tagged = pos_tag(text.split()) #use NLTK's part of speech tagger\n",
    "    non_propernouns = [word for word,pos in tagged if pos != 'NNP' and pos != 'NNPS']\n",
    "    return non_propernouns"
   ]
  },
  {
   "cell_type": "markdown",
   "metadata": {},
   "source": [
    "## Visualizing document clusters"
   ]
  },
  {
   "cell_type": "code",
   "execution_count": 69,
   "metadata": {
    "collapsed": false
   },
   "outputs": [],
   "source": [
    "#set up colors per clusters using a dict\n",
    "cluster_colors = {0: '#1b9e77', 1: '#d95f02', 2: '#7570b3', 3: '#e7298a', 4: '#66a61e'}\n",
    "\n",
    "#set up cluster names using a dict\n",
    "cluster_names = {0: 'Family, home, war', \n",
    "                 1: 'Police, killed, murders', \n",
    "                 2: 'Father, New York, brothers', \n",
    "                 3: 'Dance, singing, love', \n",
    "                 4: 'Killed, soldiers, captain'}"
   ]
  },
  {
   "cell_type": "code",
   "execution_count": 70,
   "metadata": {
    "collapsed": false
   },
   "outputs": [],
   "source": [
    "%matplotlib inline"
   ]
  },
  {
   "cell_type": "code",
   "execution_count": 71,
   "metadata": {
    "collapsed": false
   },
   "outputs": [
    {
     "data": {
      "image/png": "[encoded data removed]",
      "text/plain": [
       "<matplotlib.figure.Figure at 0x7f71c754ed30>"
      ]
     },
     "metadata": {},
     "output_type": "display_data"
    }
   ],
   "source": [
    "#create data frame that has the result of the MDS plus the cluster numbers and titles\n",
    "df = pd.DataFrame(dict(x=xs, y=ys, label=clusters, title=titles)) \n",
    "\n",
    "#group by cluster\n",
    "groups = df.groupby('label')\n",
    "\n",
    "\n",
    "# set up plot\n",
    "fig, ax = plt.subplots(figsize=(17, 9)) # set size\n",
    "ax.margins(0.05) # Optional, just adds 5% padding to the autoscaling\n",
    "\n",
    "#iterate through groups to layer the plot\n",
    "#note that I use the cluster_name and cluster_color dicts with the 'name' lookup to return the appropriate color/label\n",
    "for name, group in groups:\n",
    "    ax.plot(group.x, group.y, marker='o', linestyle='', ms=12, label=cluster_names[name], color=cluster_colors[name], mec='none')\n",
    "    ax.set_aspect('auto')\n",
    "    ax.tick_params(\\\n",
    "        axis= 'x',          # changes apply to the x-axis\n",
    "        which='both',      # both major and minor ticks are affected\n",
    "        bottom='off',      # ticks along the bottom edge are off\n",
    "        top='off',         # ticks along the top edge are off\n",
    "        labelbottom='off')\n",
    "    ax.tick_params(\\\n",
    "        axis= 'y',         # changes apply to the y-axis\n",
    "        which='both',      # both major and minor ticks are affected\n",
    "        left='off',      # ticks along the bottom edge are off\n",
    "        top='off',         # ticks along the top edge are off\n",
    "        labelleft='off')\n",
    "    \n",
    "ax.legend(numpoints=1)  #show legend with only 1 point\n",
    "\n",
    "#add label in x,y position with the label as the film title\n",
    "for i in range(len(df)):\n",
    "    ax.text(df.ix[i]['x'], df.ix[i]['y'], df.ix[i]['title'], size=8)  \n",
    "\n",
    "    \n",
    "    \n",
    "plt.show() #show the plot\n",
    "\n",
    "#uncomment the below to save the plot if need be\n",
    "#plt.savefig('clusters_small_noaxes.png', dpi=200)"
   ]
  },
  {
   "cell_type": "code",
   "execution_count": 72,
   "metadata": {
    "collapsed": false
   },
   "outputs": [],
   "source": [
    "plt.close()"
   ]
  },
  {
   "cell_type": "markdown",
   "metadata": {},
   "source": [
    "The clustering plot looks great, but it pains my eyes to see overlapping labels. Having some experience with [D3.js](http://d3js.org/) I knew one solution would be to use a browser based/javascript interactive. Fortunately, I recently stumbled upon [mpld3](https://mpld3.github.io/) a matplotlib wrapper for D3. Mpld3 basically let's you use matplotlib syntax to create web interactives. It has a really easy, high-level API for adding tooltips on mouse hover, which is what I am interested in.\n",
    "\n",
    "It also has some nice functionality for zooming and panning. The below javascript snippet basicaly defines a custom location for where the zoom/pan toggle resides. Don't worry about it too much and you actually don't need to use it, but it helped for formatting purposes when exporting to the web later. The only thing you might want to change is the x and y attr for the position of the toolbar."
   ]
  },
  {
   "cell_type": "code",
   "execution_count": 73,
   "metadata": {
    "collapsed": false
   },
   "outputs": [],
   "source": [
    "#define custom toolbar location\n",
    "class TopToolbar(mpld3.plugins.PluginBase):\n",
    "    \"\"\"Plugin for moving toolbar to top of figure\"\"\"\n",
    "\n",
    "    JAVASCRIPT = \"\"\"\n",
    "    mpld3.register_plugin(\"toptoolbar\", TopToolbar);\n",
    "    TopToolbar.prototype = Object.create(mpld3.Plugin.prototype);\n",
    "    TopToolbar.prototype.constructor = TopToolbar;\n",
    "    function TopToolbar(fig, props){\n",
    "        mpld3.Plugin.call(this, fig, props);\n",
    "    };\n",
    "\n",
    "    TopToolbar.prototype.draw = function(){\n",
    "      // the toolbar svg doesn't exist\n",
    "      // yet, so first draw it\n",
    "      this.fig.toolbar.draw();\n",
    "\n",
    "      // then change the y position to be\n",
    "      // at the top of the figure\n",
    "      this.fig.toolbar.toolbar.attr(\"x\", 150);\n",
    "      this.fig.toolbar.toolbar.attr(\"y\", 400);\n",
    "\n",
    "      // then remove the draw function,\n",
    "      // so that it is not called again\n",
    "      this.fig.toolbar.draw = function() {}\n",
    "    }\n",
    "    \"\"\"\n",
    "    def __init__(self):\n",
    "        self.dict_ = {\"type\": \"toptoolbar\"}"
   ]
  },
  {
   "cell_type": "code",
   "execution_count": 74,
   "metadata": {
    "collapsed": false
   },
   "outputs": [
    {
     "data": {
      "text/html": [
       "\n",
       "\n",
       "<style>\n",
       "\n",
       "text.mpld3-text, div.mpld3-tooltip {\n",
       "  font-family:Arial, Helvetica, sans-serif;\n",
       "}\n",
       "\n",
       "g.mpld3-xaxis, g.mpld3-yaxis {\n",
       "display: none; }\n",
       "\n",
       "text.mpld3-text, div.mpld3-tooltip {\n",
       "  font-family:Arial, Helvetica, sans-serif;\n",
       "}\n",
       "\n",
       "g.mpld3-xaxis, g.mpld3-yaxis {\n",
       "display: none; }\n",
       "\n",
       "text.mpld3-text, div.mpld3-tooltip {\n",
       "  font-family:Arial, Helvetica, sans-serif;\n",
       "}\n",
       "\n",
       "g.mpld3-xaxis, g.mpld3-yaxis {\n",
       "display: none; }\n",
       "\n",
       "text.mpld3-text, div.mpld3-tooltip {\n",
       "  font-family:Arial, Helvetica, sans-serif;\n",
       "}\n",
       "\n",
       "g.mpld3-xaxis, g.mpld3-yaxis {\n",
       "display: none; }\n",
       "\n",
       "text.mpld3-text, div.mpld3-tooltip {\n",
       "  font-family:Arial, Helvetica, sans-serif;\n",
       "}\n",
       "\n",
       "g.mpld3-xaxis, g.mpld3-yaxis {\n",
       "display: none; }\n",
       "\n",
       "</style>\n",
       "\n",
       "<div id=\"fig_el127731401266522621043894006288\"></div>\n",
       "<script>\n",
       "function mpld3_load_lib(url, callback){\n",
       "  var s = document.createElement('script');\n",
       "  s.src = url;\n",
       "  s.async = true;\n",
       "  s.onreadystatechange = s.onload = callback;\n",
       "  s.onerror = function(){console.warn(\"failed to load library \" + url);};\n",
       "  document.getElementsByTagName(\"head\")[0].appendChild(s);\n",
       "}\n",
       "\n",
       "if(typeof(mpld3) !== \"undefined\" && mpld3._mpld3IsLoaded){\n",
       "   // already loaded: just create the figure\n",
       "   !function(mpld3){\n",
       "       \n",
       "    mpld3.register_plugin(\"htmltooltip\", HtmlTooltipPlugin);\n",
       "    HtmlTooltipPlugin.prototype = Object.create(mpld3.Plugin.prototype);\n",
       "    HtmlTooltipPlugin.prototype.constructor = HtmlTooltipPlugin;\n",
       "    HtmlTooltipPlugin.prototype.requiredProps = [\"id\"];\n",
       "    HtmlTooltipPlugin.prototype.defaultProps = {labels:null, hoffset:0, voffset:10};\n",
       "    function HtmlTooltipPlugin(fig, props){\n",
       "        mpld3.Plugin.call(this, fig, props);\n",
       "    };\n",
       "\n",
       "    HtmlTooltipPlugin.prototype.draw = function(){\n",
       "       var obj = mpld3.get_element(this.props.id);\n",
       "       var labels = this.props.labels;\n",
       "       var tooltip = d3.select(\"body\").append(\"div\")\n",
       "                    .attr(\"class\", \"mpld3-tooltip\")\n",
       "                    .style(\"position\", \"absolute\")\n",
       "                    .style(\"z-index\", \"10\")\n",
       "                    .style(\"visibility\", \"hidden\");\n",
       "\n",
       "       obj.elements()\n",
       "           .on(\"mouseover\", function(d, i){\n",
       "                              tooltip.html(labels[i])\n",
       "                                     .style(\"visibility\", \"visible\");})\n",
       "           .on(\"mousemove\", function(d, i){\n",
       "                    tooltip\n",
       "                      .style(\"top\", d3.event.pageY + this.props.voffset + \"px\")\n",
       "                      .style(\"left\",d3.event.pageX + this.props.hoffset + \"px\");\n",
       "                 }.bind(this))\n",
       "           .on(\"mouseout\",  function(d, i){\n",
       "                           tooltip.style(\"visibility\", \"hidden\");});\n",
       "    };\n",
       "    \n",
       "    mpld3.register_plugin(\"toptoolbar\", TopToolbar);\n",
       "    TopToolbar.prototype = Object.create(mpld3.Plugin.prototype);\n",
       "    TopToolbar.prototype.constructor = TopToolbar;\n",
       "    function TopToolbar(fig, props){\n",
       "        mpld3.Plugin.call(this, fig, props);\n",
       "    };\n",
       "\n",
       "    TopToolbar.prototype.draw = function(){\n",
       "      // the toolbar svg doesn't exist\n",
       "      // yet, so first draw it\n",
       "      this.fig.toolbar.draw();\n",
       "\n",
       "      // then change the y position to be\n",
       "      // at the top of the figure\n",
       "      this.fig.toolbar.toolbar.attr(\"x\", 150);\n",
       "      this.fig.toolbar.toolbar.attr(\"y\", 400);\n",
       "\n",
       "      // then remove the draw function,\n",
       "      // so that it is not called again\n",
       "      this.fig.toolbar.draw = function() {}\n",
       "    }\n",
       "    \n",
       "    mpld3.register_plugin(\"htmltooltip\", HtmlTooltipPlugin);\n",
       "    HtmlTooltipPlugin.prototype = Object.create(mpld3.Plugin.prototype);\n",
       "    HtmlTooltipPlugin.prototype.constructor = HtmlTooltipPlugin;\n",
       "    HtmlTooltipPlugin.prototype.requiredProps = [\"id\"];\n",
       "    HtmlTooltipPlugin.prototype.defaultProps = {labels:null, hoffset:0, voffset:10};\n",
       "    function HtmlTooltipPlugin(fig, props){\n",
       "        mpld3.Plugin.call(this, fig, props);\n",
       "    };\n",
       "\n",
       "    HtmlTooltipPlugin.prototype.draw = function(){\n",
       "       var obj = mpld3.get_element(this.props.id);\n",
       "       var labels = this.props.labels;\n",
       "       var tooltip = d3.select(\"body\").append(\"div\")\n",
       "                    .attr(\"class\", \"mpld3-tooltip\")\n",
       "                    .style(\"position\", \"absolute\")\n",
       "                    .style(\"z-index\", \"10\")\n",
       "                    .style(\"visibility\", \"hidden\");\n",
       "\n",
       "       obj.elements()\n",
       "           .on(\"mouseover\", function(d, i){\n",
       "                              tooltip.html(labels[i])\n",
       "                                     .style(\"visibility\", \"visible\");})\n",
       "           .on(\"mousemove\", function(d, i){\n",
       "                    tooltip\n",
       "                      .style(\"top\", d3.event.pageY + this.props.voffset + \"px\")\n",
       "                      .style(\"left\",d3.event.pageX + this.props.hoffset + \"px\");\n",
       "                 }.bind(this))\n",
       "           .on(\"mouseout\",  function(d, i){\n",
       "                           tooltip.style(\"visibility\", \"hidden\");});\n",
       "    };\n",
       "    \n",
       "    mpld3.register_plugin(\"toptoolbar\", TopToolbar);\n",
       "    TopToolbar.prototype = Object.create(mpld3.Plugin.prototype);\n",
       "    TopToolbar.prototype.constructor = TopToolbar;\n",
       "    function TopToolbar(fig, props){\n",
       "        mpld3.Plugin.call(this, fig, props);\n",
       "    };\n",
       "\n",
       "    TopToolbar.prototype.draw = function(){\n",
       "      // the toolbar svg doesn't exist\n",
       "      // yet, so first draw it\n",
       "      this.fig.toolbar.draw();\n",
       "\n",
       "      // then change the y position to be\n",
       "      // at the top of the figure\n",
       "      this.fig.toolbar.toolbar.attr(\"x\", 150);\n",
       "      this.fig.toolbar.toolbar.attr(\"y\", 400);\n",
       "\n",
       "      // then remove the draw function,\n",
       "      // so that it is not called again\n",
       "      this.fig.toolbar.draw = function() {}\n",
       "    }\n",
       "    \n",
       "    mpld3.register_plugin(\"htmltooltip\", HtmlTooltipPlugin);\n",
       "    HtmlTooltipPlugin.prototype = Object.create(mpld3.Plugin.prototype);\n",
       "    HtmlTooltipPlugin.prototype.constructor = HtmlTooltipPlugin;\n",
       "    HtmlTooltipPlugin.prototype.requiredProps = [\"id\"];\n",
       "    HtmlTooltipPlugin.prototype.defaultProps = {labels:null, hoffset:0, voffset:10};\n",
       "    function HtmlTooltipPlugin(fig, props){\n",
       "        mpld3.Plugin.call(this, fig, props);\n",
       "    };\n",
       "\n",
       "    HtmlTooltipPlugin.prototype.draw = function(){\n",
       "       var obj = mpld3.get_element(this.props.id);\n",
       "       var labels = this.props.labels;\n",
       "       var tooltip = d3.select(\"body\").append(\"div\")\n",
       "                    .attr(\"class\", \"mpld3-tooltip\")\n",
       "                    .style(\"position\", \"absolute\")\n",
       "                    .style(\"z-index\", \"10\")\n",
       "                    .style(\"visibility\", \"hidden\");\n",
       "\n",
       "       obj.elements()\n",
       "           .on(\"mouseover\", function(d, i){\n",
       "                              tooltip.html(labels[i])\n",
       "                                     .style(\"visibility\", \"visible\");})\n",
       "           .on(\"mousemove\", function(d, i){\n",
       "                    tooltip\n",
       "                      .style(\"top\", d3.event.pageY + this.props.voffset + \"px\")\n",
       "                      .style(\"left\",d3.event.pageX + this.props.hoffset + \"px\");\n",
       "                 }.bind(this))\n",
       "           .on(\"mouseout\",  function(d, i){\n",
       "                           tooltip.style(\"visibility\", \"hidden\");});\n",
       "    };\n",
       "    \n",
       "    mpld3.register_plugin(\"toptoolbar\", TopToolbar);\n",
       "    TopToolbar.prototype = Object.create(mpld3.Plugin.prototype);\n",
       "    TopToolbar.prototype.constructor = TopToolbar;\n",
       "    function TopToolbar(fig, props){\n",
       "        mpld3.Plugin.call(this, fig, props);\n",
       "    };\n",
       "\n",
       "    TopToolbar.prototype.draw = function(){\n",
       "      // the toolbar svg doesn't exist\n",
       "      // yet, so first draw it\n",
       "      this.fig.toolbar.draw();\n",
       "\n",
       "      // then change the y position to be\n",
       "      // at the top of the figure\n",
       "      this.fig.toolbar.toolbar.attr(\"x\", 150);\n",
       "      this.fig.toolbar.toolbar.attr(\"y\", 400);\n",
       "\n",
       "      // then remove the draw function,\n",
       "      // so that it is not called again\n",
       "      this.fig.toolbar.draw = function() {}\n",
       "    }\n",
       "    \n",
       "    mpld3.register_plugin(\"htmltooltip\", HtmlTooltipPlugin);\n",
       "    HtmlTooltipPlugin.prototype = Object.create(mpld3.Plugin.prototype);\n",
       "    HtmlTooltipPlugin.prototype.constructor = HtmlTooltipPlugin;\n",
       "    HtmlTooltipPlugin.prototype.requiredProps = [\"id\"];\n",
       "    HtmlTooltipPlugin.prototype.defaultProps = {labels:null, hoffset:0, voffset:10};\n",
       "    function HtmlTooltipPlugin(fig, props){\n",
       "        mpld3.Plugin.call(this, fig, props);\n",
       "    };\n",
       "\n",
       "    HtmlTooltipPlugin.prototype.draw = function(){\n",
       "       var obj = mpld3.get_element(this.props.id);\n",
       "       var labels = this.props.labels;\n",
       "       var tooltip = d3.select(\"body\").append(\"div\")\n",
       "                    .attr(\"class\", \"mpld3-tooltip\")\n",
       "                    .style(\"position\", \"absolute\")\n",
       "                    .style(\"z-index\", \"10\")\n",
       "                    .style(\"visibility\", \"hidden\");\n",
       "\n",
       "       obj.elements()\n",
       "           .on(\"mouseover\", function(d, i){\n",
       "                              tooltip.html(labels[i])\n",
       "                                     .style(\"visibility\", \"visible\");})\n",
       "           .on(\"mousemove\", function(d, i){\n",
       "                    tooltip\n",
       "                      .style(\"top\", d3.event.pageY + this.props.voffset + \"px\")\n",
       "                      .style(\"left\",d3.event.pageX + this.props.hoffset + \"px\");\n",
       "                 }.bind(this))\n",
       "           .on(\"mouseout\",  function(d, i){\n",
       "                           tooltip.style(\"visibility\", \"hidden\");});\n",
       "    };\n",
       "    \n",
       "    mpld3.register_plugin(\"toptoolbar\", TopToolbar);\n",
       "    TopToolbar.prototype = Object.create(mpld3.Plugin.prototype);\n",
       "    TopToolbar.prototype.constructor = TopToolbar;\n",
       "    function TopToolbar(fig, props){\n",
       "        mpld3.Plugin.call(this, fig, props);\n",
       "    };\n",
       "\n",
       "    TopToolbar.prototype.draw = function(){\n",
       "      // the toolbar svg doesn't exist\n",
       "      // yet, so first draw it\n",
       "      this.fig.toolbar.draw();\n",
       "\n",
       "      // then change the y position to be\n",
       "      // at the top of the figure\n",
       "      this.fig.toolbar.toolbar.attr(\"x\", 150);\n",
       "      this.fig.toolbar.toolbar.attr(\"y\", 400);\n",
       "\n",
       "      // then remove the draw function,\n",
       "      // so that it is not called again\n",
       "      this.fig.toolbar.draw = function() {}\n",
       "    }\n",
       "    \n",
       "    mpld3.register_plugin(\"htmltooltip\", HtmlTooltipPlugin);\n",
       "    HtmlTooltipPlugin.prototype = Object.create(mpld3.Plugin.prototype);\n",
       "    HtmlTooltipPlugin.prototype.constructor = HtmlTooltipPlugin;\n",
       "    HtmlTooltipPlugin.prototype.requiredProps = [\"id\"];\n",
       "    HtmlTooltipPlugin.prototype.defaultProps = {labels:null, hoffset:0, voffset:10};\n",
       "    function HtmlTooltipPlugin(fig, props){\n",
       "        mpld3.Plugin.call(this, fig, props);\n",
       "    };\n",
       "\n",
       "    HtmlTooltipPlugin.prototype.draw = function(){\n",
       "       var obj = mpld3.get_element(this.props.id);\n",
       "       var labels = this.props.labels;\n",
       "       var tooltip = d3.select(\"body\").append(\"div\")\n",
       "                    .attr(\"class\", \"mpld3-tooltip\")\n",
       "                    .style(\"position\", \"absolute\")\n",
       "                    .style(\"z-index\", \"10\")\n",
       "                    .style(\"visibility\", \"hidden\");\n",
       "\n",
       "       obj.elements()\n",
       "           .on(\"mouseover\", function(d, i){\n",
       "                              tooltip.html(labels[i])\n",
       "                                     .style(\"visibility\", \"visible\");})\n",
       "           .on(\"mousemove\", function(d, i){\n",
       "                    tooltip\n",
       "                      .style(\"top\", d3.event.pageY + this.props.voffset + \"px\")\n",
       "                      .style(\"left\",d3.event.pageX + this.props.hoffset + \"px\");\n",
       "                 }.bind(this))\n",
       "           .on(\"mouseout\",  function(d, i){\n",
       "                           tooltip.style(\"visibility\", \"hidden\");});\n",
       "    };\n",
       "    \n",
       "    mpld3.register_plugin(\"toptoolbar\", TopToolbar);\n",
       "    TopToolbar.prototype = Object.create(mpld3.Plugin.prototype);\n",
       "    TopToolbar.prototype.constructor = TopToolbar;\n",
       "    function TopToolbar(fig, props){\n",
       "        mpld3.Plugin.call(this, fig, props);\n",
       "    };\n",
       "\n",
       "    TopToolbar.prototype.draw = function(){\n",
       "      // the toolbar svg doesn't exist\n",
       "      // yet, so first draw it\n",
       "      this.fig.toolbar.draw();\n",
       "\n",
       "      // then change the y position to be\n",
       "      // at the top of the figure\n",
       "      this.fig.toolbar.toolbar.attr(\"x\", 150);\n",
       "      this.fig.toolbar.toolbar.attr(\"y\", 400);\n",
       "\n",
       "      // then remove the draw function,\n",
       "      // so that it is not called again\n",
       "      this.fig.toolbar.draw = function() {}\n",
       "    }\n",
       "    \n",
       "       mpld3.draw_figure(\"fig_el127731401266522621043894006288\", {\"axes\": [{\"images\": [], \"texts\": [{\"coordinates\": \"axes\", \"zorder\": 1000003.0, \"alpha\": 1, \"position\": [-0.16129032258064516, -0.16129032258064518], \"fontsize\": 10.0, \"h_anchor\": \"start\", \"id\": \"el12773140126631797480\", \"rotation\": -0.0, \"text\": \"None\", \"v_baseline\": \"auto\", \"color\": \"#000000\"}, {\"coordinates\": \"axes\", \"zorder\": 1000003.0, \"alpha\": 1, \"position\": [0.7776857718894011, 0.9408602150537633], \"fontsize\": 12.0, \"h_anchor\": \"start\", \"id\": \"el12773140126631703776\", \"rotation\": -0.0, \"text\": \"Family, home, war\", \"v_baseline\": \"auto\", \"color\": \"#000000\"}, {\"coordinates\": \"axes\", \"zorder\": 1000003.0, \"alpha\": 1, \"position\": [0.7776857718894011, 0.8879928315412184], \"fontsize\": 12.0, \"h_anchor\": \"start\", \"id\": \"el12773140126631736768\", \"rotation\": -0.0, \"text\": \"Police, killed, murders\", \"v_baseline\": \"auto\", \"color\": \"#000000\"}, {\"coordinates\": \"axes\", \"zorder\": 1000003.0, \"alpha\": 1, \"position\": [0.7776857718894011, 0.8351254480286738], \"fontsize\": 12.0, \"h_anchor\": \"start\", \"id\": \"el12773140126631744064\", \"rotation\": -0.0, \"text\": \"Father, New York, brothers\", \"v_baseline\": \"auto\", \"color\": \"#000000\"}, {\"coordinates\": \"axes\", \"zorder\": 1000003.0, \"alpha\": 1, \"position\": [0.7776857718894011, 0.782258064516129], \"fontsize\": 12.0, \"h_anchor\": \"start\", \"id\": \"el12773140126631770320\", \"rotation\": -0.0, \"text\": \"Dance, singing, love\", \"v_baseline\": \"auto\", \"color\": \"#000000\"}, {\"coordinates\": \"axes\", \"zorder\": 1000003.0, \"alpha\": 1, \"position\": [0.7776857718894011, 0.7293906810035842], \"fontsize\": 12.0, \"h_anchor\": \"start\", \"id\": \"el12773140126631783784\", \"rotation\": -0.0, \"text\": \"Killed, soldiers, captain\", \"v_baseline\": \"auto\", \"color\": \"#000000\"}], \"ylim\": [-0.7081377832177825, 0.6939033427606786], \"markers\": [{\"coordinates\": \"data\", \"zorder\": 2, \"markerpath\": [[[0.0, 9.0], [2.3868279, 9.0], [4.676218837063681, 8.051703224294176], [6.3639610306789285, 6.3639610306789285], [8.051703224294176, 4.676218837063681], [9.0, 2.3868279], [9.0, 0.0], [9.0, -2.3868279], [8.051703224294176, -4.676218837063681], [6.3639610306789285, -6.3639610306789285], [4.676218837063681, -8.051703224294176], [2.3868279, -9.0], [0.0, -9.0], [-2.3868279, -9.0], [-4.676218837063681, -8.051703224294176], [-6.3639610306789285, -6.3639610306789285], [-8.051703224294176, -4.676218837063681], [-9.0, -2.3868279], [-9.0, 0.0], [-9.0, 2.3868279], [-8.051703224294176, 4.676218837063681], [-6.3639610306789285, 6.3639610306789285], [-4.676218837063681, 8.051703224294176], [-2.3868279, 9.0], [0.0, 9.0]], [\"M\", \"C\", \"C\", \"C\", \"C\", \"C\", \"C\", \"C\", \"C\", \"Z\"]], \"edgecolor\": \"none\", \"data\": \"data01\", \"alpha\": 1, \"xindex\": 0, \"facecolor\": \"#1B9E77\", \"yindex\": 1, \"id\": \"el12773140126631626736pts\", \"edgewidth\": 0.5}, {\"coordinates\": \"data\", \"zorder\": 2, \"markerpath\": [[[0.0, 9.0], [2.3868279, 9.0], [4.676218837063681, 8.051703224294176], [6.3639610306789285, 6.3639610306789285], [8.051703224294176, 4.676218837063681], [9.0, 2.3868279], [9.0, 0.0], [9.0, -2.3868279], [8.051703224294176, -4.676218837063681], [6.3639610306789285, -6.3639610306789285], [4.676218837063681, -8.051703224294176], [2.3868279, -9.0], [0.0, -9.0], [-2.3868279, -9.0], [-4.676218837063681, -8.051703224294176], [-6.3639610306789285, -6.3639610306789285], [-8.051703224294176, -4.676218837063681], [-9.0, -2.3868279], [-9.0, 0.0], [-9.0, 2.3868279], [-8.051703224294176, 4.676218837063681], [-6.3639610306789285, 6.3639610306789285], [-4.676218837063681, 8.051703224294176], [-2.3868279, 9.0], [0.0, 9.0]], [\"M\", \"C\", \"C\", \"C\", \"C\", \"C\", \"C\", \"C\", \"C\", \"Z\"]], \"edgecolor\": \"none\", \"data\": \"data02\", \"alpha\": 1, \"xindex\": 0, \"facecolor\": \"#D95F02\", \"yindex\": 1, \"id\": \"el12773140126607109648pts\", \"edgewidth\": 0.5}, {\"coordinates\": \"data\", \"zorder\": 2, \"markerpath\": [[[0.0, 9.0], [2.3868279, 9.0], [4.676218837063681, 8.051703224294176], [6.3639610306789285, 6.3639610306789285], [8.051703224294176, 4.676218837063681], [9.0, 2.3868279], [9.0, 0.0], [9.0, -2.3868279], [8.051703224294176, -4.676218837063681], [6.3639610306789285, -6.3639610306789285], [4.676218837063681, -8.051703224294176], [2.3868279, -9.0], [0.0, -9.0], [-2.3868279, -9.0], [-4.676218837063681, -8.051703224294176], [-6.3639610306789285, -6.3639610306789285], [-8.051703224294176, -4.676218837063681], [-9.0, -2.3868279], [-9.0, 0.0], [-9.0, 2.3868279], [-8.051703224294176, 4.676218837063681], [-6.3639610306789285, 6.3639610306789285], [-4.676218837063681, 8.051703224294176], [-2.3868279, 9.0], [0.0, 9.0]], [\"M\", \"C\", \"C\", \"C\", \"C\", \"C\", \"C\", \"C\", \"C\", \"Z\"]], \"edgecolor\": \"none\", \"data\": \"data03\", \"alpha\": 1, \"xindex\": 0, \"facecolor\": \"#7570B3\", \"yindex\": 1, \"id\": \"el12773140126631625168pts\", \"edgewidth\": 0.5}, {\"coordinates\": \"data\", \"zorder\": 2, \"markerpath\": [[[0.0, 9.0], [2.3868279, 9.0], [4.676218837063681, 8.051703224294176], [6.3639610306789285, 6.3639610306789285], [8.051703224294176, 4.676218837063681], [9.0, 2.3868279], [9.0, 0.0], [9.0, -2.3868279], [8.051703224294176, -4.676218837063681], [6.3639610306789285, -6.3639610306789285], [4.676218837063681, -8.051703224294176], [2.3868279, -9.0], [0.0, -9.0], [-2.3868279, -9.0], [-4.676218837063681, -8.051703224294176], [-6.3639610306789285, -6.3639610306789285], [-8.051703224294176, -4.676218837063681], [-9.0, -2.3868279], [-9.0, 0.0], [-9.0, 2.3868279], [-8.051703224294176, 4.676218837063681], [-6.3639610306789285, 6.3639610306789285], [-4.676218837063681, 8.051703224294176], [-2.3868279, 9.0], [0.0, 9.0]], [\"M\", \"C\", \"C\", \"C\", \"C\", \"C\", \"C\", \"C\", \"C\", \"Z\"]], \"edgecolor\": \"none\", \"data\": \"data04\", \"alpha\": 1, \"xindex\": 0, \"facecolor\": \"#E7298A\", \"yindex\": 1, \"id\": \"el12773140126468594936pts\", \"edgewidth\": 0.5}, {\"coordinates\": \"data\", \"zorder\": 2, \"markerpath\": [[[0.0, 9.0], [2.3868279, 9.0], [4.676218837063681, 8.051703224294176], [6.3639610306789285, 6.3639610306789285], [8.051703224294176, 4.676218837063681], [9.0, 2.3868279], [9.0, 0.0], [9.0, -2.3868279], [8.051703224294176, -4.676218837063681], [6.3639610306789285, -6.3639610306789285], [4.676218837063681, -8.051703224294176], [2.3868279, -9.0], [0.0, -9.0], [-2.3868279, -9.0], [-4.676218837063681, -8.051703224294176], [-6.3639610306789285, -6.3639610306789285], [-8.051703224294176, -4.676218837063681], [-9.0, -2.3868279], [-9.0, 0.0], [-9.0, 2.3868279], [-8.051703224294176, 4.676218837063681], [-6.3639610306789285, 6.3639610306789285], [-4.676218837063681, 8.051703224294176], [-2.3868279, 9.0], [0.0, 9.0]], [\"M\", \"C\", \"C\", \"C\", \"C\", \"C\", \"C\", \"C\", \"C\", \"Z\"]], \"edgecolor\": \"none\", \"data\": \"data05\", \"alpha\": 1, \"xindex\": 0, \"facecolor\": \"#66A61E\", \"yindex\": 1, \"id\": \"el12773140126631639696pts\", \"edgewidth\": 0.5}, {\"coordinates\": \"axes\", \"zorder\": 1000002.0, \"markerpath\": [[[0.0, 9.0], [2.3868279, 9.0], [4.676218837063681, 8.051703224294176], [6.3639610306789285, 6.3639610306789285], [8.051703224294176, 4.676218837063681], [9.0, 2.3868279], [9.0, 0.0], [9.0, -2.3868279], [8.051703224294176, -4.676218837063681], [6.3639610306789285, -6.3639610306789285], [4.676218837063681, -8.051703224294176], [2.3868279, -9.0], [0.0, -9.0], [-2.3868279, -9.0], [-4.676218837063681, -8.051703224294176], [-6.3639610306789285, -6.3639610306789285], [-8.051703224294176, -4.676218837063681], [-9.0, -2.3868279], [-9.0, 0.0], [-9.0, 2.3868279], [-8.051703224294176, 4.676218837063681], [-6.3639610306789285, 6.3639610306789285], [-4.676218837063681, 8.051703224294176], [-2.3868279, 9.0], [0.0, 9.0]], [\"M\", \"C\", \"C\", \"C\", \"C\", \"C\", \"C\", \"C\", \"C\", \"Z\"]], \"edgecolor\": \"none\", \"data\": \"data06\", \"alpha\": 1, \"xindex\": 0, \"facecolor\": \"#1B9E77\", \"yindex\": 1, \"id\": \"el12773140126631705512pts\", \"edgewidth\": 0.5}, {\"coordinates\": \"axes\", \"zorder\": 1000002.0, \"markerpath\": [[[0.0, 9.0], [2.3868279, 9.0], [4.676218837063681, 8.051703224294176], [6.3639610306789285, 6.3639610306789285], [8.051703224294176, 4.676218837063681], [9.0, 2.3868279], [9.0, 0.0], [9.0, -2.3868279], [8.051703224294176, -4.676218837063681], [6.3639610306789285, -6.3639610306789285], [4.676218837063681, -8.051703224294176], [2.3868279, -9.0], [0.0, -9.0], [-2.3868279, -9.0], [-4.676218837063681, -8.051703224294176], [-6.3639610306789285, -6.3639610306789285], [-8.051703224294176, -4.676218837063681], [-9.0, -2.3868279], [-9.0, 0.0], [-9.0, 2.3868279], [-8.051703224294176, 4.676218837063681], [-6.3639610306789285, 6.3639610306789285], [-4.676218837063681, 8.051703224294176], [-2.3868279, 9.0], [0.0, 9.0]], [\"M\", \"C\", \"C\", \"C\", \"C\", \"C\", \"C\", \"C\", \"C\", \"Z\"]], \"edgecolor\": \"none\", \"data\": \"data06\", \"alpha\": 1, \"xindex\": 0, \"facecolor\": \"#D95F02\", \"yindex\": 2, \"id\": \"el12773140126631745632pts\", \"edgewidth\": 0.5}, {\"coordinates\": \"axes\", \"zorder\": 1000002.0, \"markerpath\": [[[0.0, 9.0], [2.3868279, 9.0], [4.676218837063681, 8.051703224294176], [6.3639610306789285, 6.3639610306789285], [8.051703224294176, 4.676218837063681], [9.0, 2.3868279], [9.0, 0.0], [9.0, -2.3868279], [8.051703224294176, -4.676218837063681], [6.3639610306789285, -6.3639610306789285], [4.676218837063681, -8.051703224294176], [2.3868279, -9.0], [0.0, -9.0], [-2.3868279, -9.0], [-4.676218837063681, -8.051703224294176], [-6.3639610306789285, -6.3639610306789285], [-8.051703224294176, -4.676218837063681], [-9.0, -2.3868279], [-9.0, 0.0], [-9.0, 2.3868279], [-8.051703224294176, 4.676218837063681], [-6.3639610306789285, 6.3639610306789285], [-4.676218837063681, 8.051703224294176], [-2.3868279, 9.0], [0.0, 9.0]], [\"M\", \"C\", \"C\", \"C\", \"C\", \"C\", \"C\", \"C\", \"C\", \"Z\"]], \"edgecolor\": \"none\", \"data\": \"data06\", \"alpha\": 1, \"xindex\": 0, \"facecolor\": \"#7570B3\", \"yindex\": 3, \"id\": \"el12773140126631771216pts\", \"edgewidth\": 0.5}, {\"coordinates\": \"axes\", \"zorder\": 1000002.0, \"markerpath\": [[[0.0, 9.0], [2.3868279, 9.0], [4.676218837063681, 8.051703224294176], [6.3639610306789285, 6.3639610306789285], [8.051703224294176, 4.676218837063681], [9.0, 2.3868279], [9.0, 0.0], [9.0, -2.3868279], [8.051703224294176, -4.676218837063681], [6.3639610306789285, -6.3639610306789285], [4.676218837063681, -8.051703224294176], [2.3868279, -9.0], [0.0, -9.0], [-2.3868279, -9.0], [-4.676218837063681, -8.051703224294176], [-6.3639610306789285, -6.3639610306789285], [-8.051703224294176, -4.676218837063681], [-9.0, -2.3868279], [-9.0, 0.0], [-9.0, 2.3868279], [-8.051703224294176, 4.676218837063681], [-6.3639610306789285, 6.3639610306789285], [-4.676218837063681, 8.051703224294176], [-2.3868279, 9.0], [0.0, 9.0]], [\"M\", \"C\", \"C\", \"C\", \"C\", \"C\", \"C\", \"C\", \"C\", \"Z\"]], \"edgecolor\": \"none\", \"data\": \"data06\", \"alpha\": 1, \"xindex\": 0, \"facecolor\": \"#E7298A\", \"yindex\": 4, \"id\": \"el12773140126631747088pts\", \"edgewidth\": 0.5}, {\"coordinates\": \"axes\", \"zorder\": 1000002.0, \"markerpath\": [[[0.0, 9.0], [2.3868279, 9.0], [4.676218837063681, 8.051703224294176], [6.3639610306789285, 6.3639610306789285], [8.051703224294176, 4.676218837063681], [9.0, 2.3868279], [9.0, 0.0], [9.0, -2.3868279], [8.051703224294176, -4.676218837063681], [6.3639610306789285, -6.3639610306789285], [4.676218837063681, -8.051703224294176], [2.3868279, -9.0], [0.0, -9.0], [-2.3868279, -9.0], [-4.676218837063681, -8.051703224294176], [-6.3639610306789285, -6.3639610306789285], [-8.051703224294176, -4.676218837063681], [-9.0, -2.3868279], [-9.0, 0.0], [-9.0, 2.3868279], [-8.051703224294176, 4.676218837063681], [-6.3639610306789285, 6.3639610306789285], [-4.676218837063681, 8.051703224294176], [-2.3868279, 9.0], [0.0, 9.0]], [\"M\", \"C\", \"C\", \"C\", \"C\", \"C\", \"C\", \"C\", \"C\", \"Z\"]], \"edgecolor\": \"none\", \"data\": \"data06\", \"alpha\": 1, \"xindex\": 0, \"facecolor\": \"#66A61E\", \"yindex\": 5, \"id\": \"el12773140126631797704pts\", \"edgewidth\": 0.5}], \"sharey\": [], \"xdomain\": [-0.7022243585349199, 0.7098185051203891], \"paths\": [{\"coordinates\": \"axes\", \"dasharray\": \"10,0\", \"zorder\": 1000001.0, \"alpha\": 1, \"facecolor\": \"#FFFFFF\", \"yindex\": 1, \"edgewidth\": 1.0, \"id\": \"el12773140126631625224\", \"edgecolor\": \"#000000\", \"data\": \"data07\", \"xindex\": 0, \"pathcodes\": [\"M\", \"L\", \"L\", \"L\", \"Z\"]}], \"ydomain\": [-0.7081377832177825, 0.6939033427606786], \"axesbg\": \"#FFFFFF\", \"xscale\": \"linear\", \"axes\": [{\"grid\": {\"gridOn\": false}, \"tickvalues\": [], \"nticks\": 0, \"position\": \"bottom\", \"fontsize\": null, \"tickformat\": \"\", \"scale\": \"linear\"}, {\"grid\": {\"gridOn\": false}, \"tickvalues\": [], \"nticks\": 0, \"position\": \"left\", \"fontsize\": null, \"tickformat\": \"\", \"scale\": \"linear\"}], \"axesbgalpha\": null, \"zoomable\": true, \"yscale\": \"linear\", \"sharex\": [], \"collections\": [], \"xlim\": [-0.7022243585349199, 0.7098185051203891], \"lines\": [], \"id\": \"el12773140126621804584\", \"bbox\": [0.125, 0.125, 0.775, 0.775]}], \"data\": {\"data02\": [[-0.258417253284027, -0.2652260221436388], [-0.22762167926505814, 0.06857695283204854], [-0.4301012825198393, 0.2854141396127525], [-0.3528182922735947, 0.12701319394680938], [-0.5522759511779272, -0.22475587495166363], [0.41546634085583234, 0.4069688257035027], [-0.6622608812616565, -0.20511076586859073], [-0.4599154070542705, 0.007654714663857465], [-0.34166307376918104, 0.03630579254966726], [-0.3415780134445779, -0.06842764695433033], [-0.33941629334547235, -0.15117828334141054], [-0.18745722681366755, 0.15085562479813835], [-0.46600115683767945, -0.09932904605351045], [-0.5791581543162552, 0.29025774220332035], [-0.2083933734933721, -0.058574052865909366], [-0.1995916680206842, 0.0064165474101231254]], \"data04\": [[-0.48428094266733496, 0.17299840565537866], [-0.34160570270008384, 0.6344808506574434], [0.4192021972350015, 0.5854520485169515], [-0.17104806655713084, 0.23239528561346245], [0.6698550278471257, 0.11893281852637148], [-0.2037332777288499, 0.5597834903655693], [0.40204400902943815, 0.498701667453783], [0.6677627104186503, 0.26949909097813], [-0.02227777502359704, 0.33877773486584417], [0.06195871862089496, 0.6100873144577459], [-0.6012495190001138, -0.04195024831025676], [0.6272943977307884, 0.3595046830327616]], \"data01\": [[-0.031704356749774315, -0.45668597931827065], [0.05785577310053593, 0.25692858718863093], [0.05839869253028608, -0.04611702740890181], [-0.43453170540719366, -0.29660613828269616], [0.6037636767904756, -0.34565548304904037], [0.3547936331378034, 0.008290710365072116], [-0.021733999952444738, -0.042720767809052894], [0.5177717200812387, -0.2536540302931725], [0.43342020294859956, 0.14567841987345992], [0.3432853030249946, 0.246006709745588], [0.31816539769255964, 0.08775294364571601], [-0.19659297207639648, 0.3957261088660333], [0.34423528399454734, -0.13020602386402164], [0.16075133608675513, -0.11942129559742261], [0.15640009437168323, -0.21297986976225988], [0.18341909271393095, 0.3029016910056736], [0.12096767900038803, 0.4812637440714905], [0.12587206202926585, 0.4177788692597201], [0.220078542503727, 0.4800518402232757], [0.4819436407032279, 0.008023079596038808], [0.47591168977268594, -0.4358076517203701], [0.27514357721327537, -0.29426793132752815], [-0.3243215990367419, 0.3312982383148728], [0.3244183710745198, -0.45650361180937427], [0.18464212048810344, 0.5791967329426072]], \"data03\": [[0.1842639196948847, -0.011698423371132152], [-0.1322921736434466, 0.5745109123612222], [0.011870129083831693, 0.4624853574054067], [0.07160786733633107, 0.13140355942960508], [-0.05335737382032607, 0.12312849271489654], [0.5306515354145532, 0.1294497101088675], [-0.28462977611146373, 0.2756306109086089], [0.21420712139192538, 0.2183286793356958], [0.4928761771808502, -0.1411107487904908], [-0.06989475411532176, 0.569705539011805], [-0.5962637921066579, 0.19021678812015821], [0.20867878615651633, 0.06434284629527791], [0.5656255199388547, 0.34237017859020485], [-0.4208318237068076, 0.46280088153288335], [-0.30315863958813255, 0.4758732388739999], [0.6448617791922985, -0.15574388957552057], [-0.18148082579748032, 0.4766013154583243], [-0.02882418924007409, 0.654222933534873], [0.6688326628289069, -0.08783277088604606], [-0.552165502285474, 0.028845815397586044], [-0.581074334873682, 0.10578299005618616]], \"data05\": [[0.4420542765535735, -0.2786832170112155], [-0.25091001948814, -0.5748364190982864], [0.5525828106324346, 0.49022359259865306], [0.19843470887949946, -0.3892802726823152], [0.35007455070415944, -0.33949066390038307], [-0.08237740002772587, -0.5784292658683906], [-0.016290419113439557, -0.6355726160881316], [0.019734051171252757, -0.6360367105738866], [0.2438433076495576, -0.5041202087221548], [0.08014906600330879, -0.4799020818182777], [-0.15255045823070493, -0.3408753845517839], [-0.020081825875353215, -0.35718794655762914], [-0.15297793113902683, -0.30140577453193457], [-0.22758349812136536, -0.45047495075469096], [0.12888676337410168, -0.668457373991977], [0.07966541763901362, -0.3889609926197951], [-0.34784460975136144, -0.3258414653409745], [-0.3608951277095703, -0.48195991352901957], [-0.11265730034344344, -0.4993121670686306], [0.1827109977144634, -0.5787464521608237], [-0.08782998361951912, -0.2007423698086272], [-0.18336929431804472, -0.5551182889814734], [-0.5516219950653584, 0.3348728982305264], [-0.5674021212107925, -0.35376317678446884], [-0.45337586370615407, -0.44518883037029683], [0.33505791724913486, -0.6458208127368436]], \"data07\": [[0.7285306259600616, 0.7069892473118278], [0.9923195084485409, 0.7069892473118278], [0.9923195084485409, 0.9820788530465947], [0.7285306259600616, 0.9820788530465947]], \"data06\": [[0.7500360023041476, 0.9534050179211467, 0.9005376344086019, 0.8476702508960573, 0.7948028673835125, 0.7419354838709676]]}, \"id\": \"el12773140126652262104\", \"plugins\": [{\"type\": \"reset\"}, {\"type\": \"zoom\", \"enabled\": false, \"button\": true}, {\"type\": \"boxzoom\", \"enabled\": false, \"button\": true}, {\"voffset\": 10, \"type\": \"htmltooltip\", \"id\": \"el12773140126631626736pts\", \"labels\": [\"Schindler's List\", \"One Flew Over the Cuckoo's Nest\", \"Gone with the Wind\", \"The Wizard of Oz\", \"Titanic\", \"Forrest Gump\", \"E.T. the Extra-Terrestrial\", \"The Silence of the Lambs\", \"Gandhi\", \"A Streetcar Named Desire\", \"The Best Years of Our Lives\", \"My Fair Lady\", \"Ben-Hur\", \"Doctor Zhivago\", \"The Pianist\", \"The Exorcist\", \"Out of Africa\", \"Good Will Hunting\", \"Terms of Endearment\", \"Giant\", \"The Grapes of Wrath\", \"Close Encounters of the Third Kind\", \"The Graduate\", \"Stagecoach\", \"Wuthering Heights\"], \"hoffset\": 10}, {\"type\": \"toptoolbar\"}, {\"voffset\": 10, \"type\": \"htmltooltip\", \"id\": \"el12773140126607109648pts\", \"labels\": [\"Casablanca\", \"Psycho\", \"Sunset Blvd.\", \"Vertigo\", \"Chinatown\", \"Amadeus\", \"High Noon\", \"The French Connection\", \"Fargo\", \"Pulp Fiction\", \"The Maltese Falcon\", \"A Clockwork Orange\", \"Double Indemnity\", \"Rebel Without a Cause\", \"The Third Man\", \"North by Northwest\"], \"hoffset\": 10}, {\"type\": \"toptoolbar\"}, {\"voffset\": 10, \"type\": \"htmltooltip\", \"id\": \"el12773140126631625168pts\", \"labels\": [\"The Godfather\", \"Raging Bull\", \"Citizen Kane\", \"The Godfather: Part II\", \"On the Waterfront\", \"12 Angry Men\", \"Rocky\", \"To Kill a Mockingbird\", \"Braveheart\", \"The Good, the Bad and the Ugly\", \"The Apartment\", \"Goodfellas\", \"City Lights\", \"It Happened One Night\", \"Midnight Cowboy\", \"Mr. Smith Goes to Washington\", \"Rain Man\", \"Annie Hall\", \"Network\", \"Taxi Driver\", \"Rear Window\"], \"hoffset\": 10}, {\"type\": \"toptoolbar\"}, {\"voffset\": 10, \"type\": \"htmltooltip\", \"id\": \"el12773140126468594936pts\", \"labels\": [\"West Side Story\", \"Singin' in the Rain\", \"It's a Wonderful Life\", \"Some Like It Hot\", \"The Philadelphia Story\", \"An American in Paris\", \"The King's Speech\", \"A Place in the Sun\", \"Tootsie\", \"Nashville\", \"American Graffiti\", \"Yankee Doodle Dandy\"], \"hoffset\": 10}, {\"type\": \"toptoolbar\"}, {\"voffset\": 10, \"type\": \"htmltooltip\", \"id\": \"el12773140126631639696pts\", \"labels\": [\"The Shawshank Redemption\", \"Lawrence of Arabia\", \"The Sound of Music\", \"Star Wars\", \"2001: A Space Odyssey\", \"The Bridge on the River Kwai\", \"Dr. Strangelove or: How I Learned to Stop Worrying and Love the Bomb\", \"Apocalypse Now\", \"The Lord of the Rings: The Return of the King\", \"Gladiator\", \"From Here to Eternity\", \"Saving Private Ryan\", \"Unforgiven\", \"Raiders of the Lost Ark\", \"Patton\", \"Jaws\", \"Butch Cassidy and the Sundance Kid\", \"The Treasure of the Sierra Madre\", \"Platoon\", \"Dances with Wolves\", \"The Deer Hunter\", \"All Quiet on the Western Front\", \"Shane\", \"The Green Mile\", \"The African Queen\", \"Mutiny on the Bounty\"], \"hoffset\": 10}, {\"type\": \"toptoolbar\"}], \"width\": 1120.0, \"height\": 480.0});\n",
       "   }(mpld3);\n",
       "}else if(typeof define === \"function\" && define.amd){\n",
       "   // require.js is available: use it to load d3/mpld3\n",
       "   require.config({paths: {d3: \"https://mpld3.github.io/js/d3.v3.min\"}});\n",
       "   require([\"d3\"], function(d3){\n",
       "      window.d3 = d3;\n",
       "      mpld3_load_lib(\"https://mpld3.github.io/js/mpld3.v0.2.js\", function(){\n",
       "         \n",
       "    mpld3.register_plugin(\"htmltooltip\", HtmlTooltipPlugin);\n",
       "    HtmlTooltipPlugin.prototype = Object.create(mpld3.Plugin.prototype);\n",
       "    HtmlTooltipPlugin.prototype.constructor = HtmlTooltipPlugin;\n",
       "    HtmlTooltipPlugin.prototype.requiredProps = [\"id\"];\n",
       "    HtmlTooltipPlugin.prototype.defaultProps = {labels:null, hoffset:0, voffset:10};\n",
       "    function HtmlTooltipPlugin(fig, props){\n",
       "        mpld3.Plugin.call(this, fig, props);\n",
       "    };\n",
       "\n",
       "    HtmlTooltipPlugin.prototype.draw = function(){\n",
       "       var obj = mpld3.get_element(this.props.id);\n",
       "       var labels = this.props.labels;\n",
       "       var tooltip = d3.select(\"body\").append(\"div\")\n",
       "                    .attr(\"class\", \"mpld3-tooltip\")\n",
       "                    .style(\"position\", \"absolute\")\n",
       "                    .style(\"z-index\", \"10\")\n",
       "                    .style(\"visibility\", \"hidden\");\n",
       "\n",
       "       obj.elements()\n",
       "           .on(\"mouseover\", function(d, i){\n",
       "                              tooltip.html(labels[i])\n",
       "                                     .style(\"visibility\", \"visible\");})\n",
       "           .on(\"mousemove\", function(d, i){\n",
       "                    tooltip\n",
       "                      .style(\"top\", d3.event.pageY + this.props.voffset + \"px\")\n",
       "                      .style(\"left\",d3.event.pageX + this.props.hoffset + \"px\");\n",
       "                 }.bind(this))\n",
       "           .on(\"mouseout\",  function(d, i){\n",
       "                           tooltip.style(\"visibility\", \"hidden\");});\n",
       "    };\n",
       "    \n",
       "    mpld3.register_plugin(\"toptoolbar\", TopToolbar);\n",
       "    TopToolbar.prototype = Object.create(mpld3.Plugin.prototype);\n",
       "    TopToolbar.prototype.constructor = TopToolbar;\n",
       "    function TopToolbar(fig, props){\n",
       "        mpld3.Plugin.call(this, fig, props);\n",
       "    };\n",
       "\n",
       "    TopToolbar.prototype.draw = function(){\n",
       "      // the toolbar svg doesn't exist\n",
       "      // yet, so first draw it\n",
       "      this.fig.toolbar.draw();\n",
       "\n",
       "      // then change the y position to be\n",
       "      // at the top of the figure\n",
       "      this.fig.toolbar.toolbar.attr(\"x\", 150);\n",
       "      this.fig.toolbar.toolbar.attr(\"y\", 400);\n",
       "\n",
       "      // then remove the draw function,\n",
       "      // so that it is not called again\n",
       "      this.fig.toolbar.draw = function() {}\n",
       "    }\n",
       "    \n",
       "    mpld3.register_plugin(\"htmltooltip\", HtmlTooltipPlugin);\n",
       "    HtmlTooltipPlugin.prototype = Object.create(mpld3.Plugin.prototype);\n",
       "    HtmlTooltipPlugin.prototype.constructor = HtmlTooltipPlugin;\n",
       "    HtmlTooltipPlugin.prototype.requiredProps = [\"id\"];\n",
       "    HtmlTooltipPlugin.prototype.defaultProps = {labels:null, hoffset:0, voffset:10};\n",
       "    function HtmlTooltipPlugin(fig, props){\n",
       "        mpld3.Plugin.call(this, fig, props);\n",
       "    };\n",
       "\n",
       "    HtmlTooltipPlugin.prototype.draw = function(){\n",
       "       var obj = mpld3.get_element(this.props.id);\n",
       "       var labels = this.props.labels;\n",
       "       var tooltip = d3.select(\"body\").append(\"div\")\n",
       "                    .attr(\"class\", \"mpld3-tooltip\")\n",
       "                    .style(\"position\", \"absolute\")\n",
       "                    .style(\"z-index\", \"10\")\n",
       "                    .style(\"visibility\", \"hidden\");\n",
       "\n",
       "       obj.elements()\n",
       "           .on(\"mouseover\", function(d, i){\n",
       "                              tooltip.html(labels[i])\n",
       "                                     .style(\"visibility\", \"visible\");})\n",
       "           .on(\"mousemove\", function(d, i){\n",
       "                    tooltip\n",
       "                      .style(\"top\", d3.event.pageY + this.props.voffset + \"px\")\n",
       "                      .style(\"left\",d3.event.pageX + this.props.hoffset + \"px\");\n",
       "                 }.bind(this))\n",
       "           .on(\"mouseout\",  function(d, i){\n",
       "                           tooltip.style(\"visibility\", \"hidden\");});\n",
       "    };\n",
       "    \n",
       "    mpld3.register_plugin(\"toptoolbar\", TopToolbar);\n",
       "    TopToolbar.prototype = Object.create(mpld3.Plugin.prototype);\n",
       "    TopToolbar.prototype.constructor = TopToolbar;\n",
       "    function TopToolbar(fig, props){\n",
       "        mpld3.Plugin.call(this, fig, props);\n",
       "    };\n",
       "\n",
       "    TopToolbar.prototype.draw = function(){\n",
       "      // the toolbar svg doesn't exist\n",
       "      // yet, so first draw it\n",
       "      this.fig.toolbar.draw();\n",
       "\n",
       "      // then change the y position to be\n",
       "      // at the top of the figure\n",
       "      this.fig.toolbar.toolbar.attr(\"x\", 150);\n",
       "      this.fig.toolbar.toolbar.attr(\"y\", 400);\n",
       "\n",
       "      // then remove the draw function,\n",
       "      // so that it is not called again\n",
       "      this.fig.toolbar.draw = function() {}\n",
       "    }\n",
       "    \n",
       "    mpld3.register_plugin(\"htmltooltip\", HtmlTooltipPlugin);\n",
       "    HtmlTooltipPlugin.prototype = Object.create(mpld3.Plugin.prototype);\n",
       "    HtmlTooltipPlugin.prototype.constructor = HtmlTooltipPlugin;\n",
       "    HtmlTooltipPlugin.prototype.requiredProps = [\"id\"];\n",
       "    HtmlTooltipPlugin.prototype.defaultProps = {labels:null, hoffset:0, voffset:10};\n",
       "    function HtmlTooltipPlugin(fig, props){\n",
       "        mpld3.Plugin.call(this, fig, props);\n",
       "    };\n",
       "\n",
       "    HtmlTooltipPlugin.prototype.draw = function(){\n",
       "       var obj = mpld3.get_element(this.props.id);\n",
       "       var labels = this.props.labels;\n",
       "       var tooltip = d3.select(\"body\").append(\"div\")\n",
       "                    .attr(\"class\", \"mpld3-tooltip\")\n",
       "                    .style(\"position\", \"absolute\")\n",
       "                    .style(\"z-index\", \"10\")\n",
       "                    .style(\"visibility\", \"hidden\");\n",
       "\n",
       "       obj.elements()\n",
       "           .on(\"mouseover\", function(d, i){\n",
       "                              tooltip.html(labels[i])\n",
       "                                     .style(\"visibility\", \"visible\");})\n",
       "           .on(\"mousemove\", function(d, i){\n",
       "                    tooltip\n",
       "                      .style(\"top\", d3.event.pageY + this.props.voffset + \"px\")\n",
       "                      .style(\"left\",d3.event.pageX + this.props.hoffset + \"px\");\n",
       "                 }.bind(this))\n",
       "           .on(\"mouseout\",  function(d, i){\n",
       "                           tooltip.style(\"visibility\", \"hidden\");});\n",
       "    };\n",
       "    \n",
       "    mpld3.register_plugin(\"toptoolbar\", TopToolbar);\n",
       "    TopToolbar.prototype = Object.create(mpld3.Plugin.prototype);\n",
       "    TopToolbar.prototype.constructor = TopToolbar;\n",
       "    function TopToolbar(fig, props){\n",
       "        mpld3.Plugin.call(this, fig, props);\n",
       "    };\n",
       "\n",
       "    TopToolbar.prototype.draw = function(){\n",
       "      // the toolbar svg doesn't exist\n",
       "      // yet, so first draw it\n",
       "      this.fig.toolbar.draw();\n",
       "\n",
       "      // then change the y position to be\n",
       "      // at the top of the figure\n",
       "      this.fig.toolbar.toolbar.attr(\"x\", 150);\n",
       "      this.fig.toolbar.toolbar.attr(\"y\", 400);\n",
       "\n",
       "      // then remove the draw function,\n",
       "      // so that it is not called again\n",
       "      this.fig.toolbar.draw = function() {}\n",
       "    }\n",
       "    \n",
       "    mpld3.register_plugin(\"htmltooltip\", HtmlTooltipPlugin);\n",
       "    HtmlTooltipPlugin.prototype = Object.create(mpld3.Plugin.prototype);\n",
       "    HtmlTooltipPlugin.prototype.constructor = HtmlTooltipPlugin;\n",
       "    HtmlTooltipPlugin.prototype.requiredProps = [\"id\"];\n",
       "    HtmlTooltipPlugin.prototype.defaultProps = {labels:null, hoffset:0, voffset:10};\n",
       "    function HtmlTooltipPlugin(fig, props){\n",
       "        mpld3.Plugin.call(this, fig, props);\n",
       "    };\n",
       "\n",
       "    HtmlTooltipPlugin.prototype.draw = function(){\n",
       "       var obj = mpld3.get_element(this.props.id);\n",
       "       var labels = this.props.labels;\n",
       "       var tooltip = d3.select(\"body\").append(\"div\")\n",
       "                    .attr(\"class\", \"mpld3-tooltip\")\n",
       "                    .style(\"position\", \"absolute\")\n",
       "                    .style(\"z-index\", \"10\")\n",
       "                    .style(\"visibility\", \"hidden\");\n",
       "\n",
       "       obj.elements()\n",
       "           .on(\"mouseover\", function(d, i){\n",
       "                              tooltip.html(labels[i])\n",
       "                                     .style(\"visibility\", \"visible\");})\n",
       "           .on(\"mousemove\", function(d, i){\n",
       "                    tooltip\n",
       "                      .style(\"top\", d3.event.pageY + this.props.voffset + \"px\")\n",
       "                      .style(\"left\",d3.event.pageX + this.props.hoffset + \"px\");\n",
       "                 }.bind(this))\n",
       "           .on(\"mouseout\",  function(d, i){\n",
       "                           tooltip.style(\"visibility\", \"hidden\");});\n",
       "    };\n",
       "    \n",
       "    mpld3.register_plugin(\"toptoolbar\", TopToolbar);\n",
       "    TopToolbar.prototype = Object.create(mpld3.Plugin.prototype);\n",
       "    TopToolbar.prototype.constructor = TopToolbar;\n",
       "    function TopToolbar(fig, props){\n",
       "        mpld3.Plugin.call(this, fig, props);\n",
       "    };\n",
       "\n",
       "    TopToolbar.prototype.draw = function(){\n",
       "      // the toolbar svg doesn't exist\n",
       "      // yet, so first draw it\n",
       "      this.fig.toolbar.draw();\n",
       "\n",
       "      // then change the y position to be\n",
       "      // at the top of the figure\n",
       "      this.fig.toolbar.toolbar.attr(\"x\", 150);\n",
       "      this.fig.toolbar.toolbar.attr(\"y\", 400);\n",
       "\n",
       "      // then remove the draw function,\n",
       "      // so that it is not called again\n",
       "      this.fig.toolbar.draw = function() {}\n",
       "    }\n",
       "    \n",
       "    mpld3.register_plugin(\"htmltooltip\", HtmlTooltipPlugin);\n",
       "    HtmlTooltipPlugin.prototype = Object.create(mpld3.Plugin.prototype);\n",
       "    HtmlTooltipPlugin.prototype.constructor = HtmlTooltipPlugin;\n",
       "    HtmlTooltipPlugin.prototype.requiredProps = [\"id\"];\n",
       "    HtmlTooltipPlugin.prototype.defaultProps = {labels:null, hoffset:0, voffset:10};\n",
       "    function HtmlTooltipPlugin(fig, props){\n",
       "        mpld3.Plugin.call(this, fig, props);\n",
       "    };\n",
       "\n",
       "    HtmlTooltipPlugin.prototype.draw = function(){\n",
       "       var obj = mpld3.get_element(this.props.id);\n",
       "       var labels = this.props.labels;\n",
       "       var tooltip = d3.select(\"body\").append(\"div\")\n",
       "                    .attr(\"class\", \"mpld3-tooltip\")\n",
       "                    .style(\"position\", \"absolute\")\n",
       "                    .style(\"z-index\", \"10\")\n",
       "                    .style(\"visibility\", \"hidden\");\n",
       "\n",
       "       obj.elements()\n",
       "           .on(\"mouseover\", function(d, i){\n",
       "                              tooltip.html(labels[i])\n",
       "                                     .style(\"visibility\", \"visible\");})\n",
       "           .on(\"mousemove\", function(d, i){\n",
       "                    tooltip\n",
       "                      .style(\"top\", d3.event.pageY + this.props.voffset + \"px\")\n",
       "                      .style(\"left\",d3.event.pageX + this.props.hoffset + \"px\");\n",
       "                 }.bind(this))\n",
       "           .on(\"mouseout\",  function(d, i){\n",
       "                           tooltip.style(\"visibility\", \"hidden\");});\n",
       "    };\n",
       "    \n",
       "    mpld3.register_plugin(\"toptoolbar\", TopToolbar);\n",
       "    TopToolbar.prototype = Object.create(mpld3.Plugin.prototype);\n",
       "    TopToolbar.prototype.constructor = TopToolbar;\n",
       "    function TopToolbar(fig, props){\n",
       "        mpld3.Plugin.call(this, fig, props);\n",
       "    };\n",
       "\n",
       "    TopToolbar.prototype.draw = function(){\n",
       "      // the toolbar svg doesn't exist\n",
       "      // yet, so first draw it\n",
       "      this.fig.toolbar.draw();\n",
       "\n",
       "      // then change the y position to be\n",
       "      // at the top of the figure\n",
       "      this.fig.toolbar.toolbar.attr(\"x\", 150);\n",
       "      this.fig.toolbar.toolbar.attr(\"y\", 400);\n",
       "\n",
       "      // then remove the draw function,\n",
       "      // so that it is not called again\n",
       "      this.fig.toolbar.draw = function() {}\n",
       "    }\n",
       "    \n",
       "         mpld3.draw_figure(\"fig_el127731401266522621043894006288\", {\"axes\": [{\"images\": [], \"texts\": [{\"coordinates\": \"axes\", \"zorder\": 1000003.0, \"alpha\": 1, \"position\": [-0.16129032258064516, -0.16129032258064518], \"fontsize\": 10.0, \"h_anchor\": \"start\", \"id\": \"el12773140126631797480\", \"rotation\": -0.0, \"text\": \"None\", \"v_baseline\": \"auto\", \"color\": \"#000000\"}, {\"coordinates\": \"axes\", \"zorder\": 1000003.0, \"alpha\": 1, \"position\": [0.7776857718894011, 0.9408602150537633], \"fontsize\": 12.0, \"h_anchor\": \"start\", \"id\": \"el12773140126631703776\", \"rotation\": -0.0, \"text\": \"Family, home, war\", \"v_baseline\": \"auto\", \"color\": \"#000000\"}, {\"coordinates\": \"axes\", \"zorder\": 1000003.0, \"alpha\": 1, \"position\": [0.7776857718894011, 0.8879928315412184], \"fontsize\": 12.0, \"h_anchor\": \"start\", \"id\": \"el12773140126631736768\", \"rotation\": -0.0, \"text\": \"Police, killed, murders\", \"v_baseline\": \"auto\", \"color\": \"#000000\"}, {\"coordinates\": \"axes\", \"zorder\": 1000003.0, \"alpha\": 1, \"position\": [0.7776857718894011, 0.8351254480286738], \"fontsize\": 12.0, \"h_anchor\": \"start\", \"id\": \"el12773140126631744064\", \"rotation\": -0.0, \"text\": \"Father, New York, brothers\", \"v_baseline\": \"auto\", \"color\": \"#000000\"}, {\"coordinates\": \"axes\", \"zorder\": 1000003.0, \"alpha\": 1, \"position\": [0.7776857718894011, 0.782258064516129], \"fontsize\": 12.0, \"h_anchor\": \"start\", \"id\": \"el12773140126631770320\", \"rotation\": -0.0, \"text\": \"Dance, singing, love\", \"v_baseline\": \"auto\", \"color\": \"#000000\"}, {\"coordinates\": \"axes\", \"zorder\": 1000003.0, \"alpha\": 1, \"position\": [0.7776857718894011, 0.7293906810035842], \"fontsize\": 12.0, \"h_anchor\": \"start\", \"id\": \"el12773140126631783784\", \"rotation\": -0.0, \"text\": \"Killed, soldiers, captain\", \"v_baseline\": \"auto\", \"color\": \"#000000\"}], \"ylim\": [-0.7081377832177825, 0.6939033427606786], \"markers\": [{\"coordinates\": \"data\", \"zorder\": 2, \"markerpath\": [[[0.0, 9.0], [2.3868279, 9.0], [4.676218837063681, 8.051703224294176], [6.3639610306789285, 6.3639610306789285], [8.051703224294176, 4.676218837063681], [9.0, 2.3868279], [9.0, 0.0], [9.0, -2.3868279], [8.051703224294176, -4.676218837063681], [6.3639610306789285, -6.3639610306789285], [4.676218837063681, -8.051703224294176], [2.3868279, -9.0], [0.0, -9.0], [-2.3868279, -9.0], [-4.676218837063681, -8.051703224294176], [-6.3639610306789285, -6.3639610306789285], [-8.051703224294176, -4.676218837063681], [-9.0, -2.3868279], [-9.0, 0.0], [-9.0, 2.3868279], [-8.051703224294176, 4.676218837063681], [-6.3639610306789285, 6.3639610306789285], [-4.676218837063681, 8.051703224294176], [-2.3868279, 9.0], [0.0, 9.0]], [\"M\", \"C\", \"C\", \"C\", \"C\", \"C\", \"C\", \"C\", \"C\", \"Z\"]], \"edgecolor\": \"none\", \"data\": \"data01\", \"alpha\": 1, \"xindex\": 0, \"facecolor\": \"#1B9E77\", \"yindex\": 1, \"id\": \"el12773140126631626736pts\", \"edgewidth\": 0.5}, {\"coordinates\": \"data\", \"zorder\": 2, \"markerpath\": [[[0.0, 9.0], [2.3868279, 9.0], [4.676218837063681, 8.051703224294176], [6.3639610306789285, 6.3639610306789285], [8.051703224294176, 4.676218837063681], [9.0, 2.3868279], [9.0, 0.0], [9.0, -2.3868279], [8.051703224294176, -4.676218837063681], [6.3639610306789285, -6.3639610306789285], [4.676218837063681, -8.051703224294176], [2.3868279, -9.0], [0.0, -9.0], [-2.3868279, -9.0], [-4.676218837063681, -8.051703224294176], [-6.3639610306789285, -6.3639610306789285], [-8.051703224294176, -4.676218837063681], [-9.0, -2.3868279], [-9.0, 0.0], [-9.0, 2.3868279], [-8.051703224294176, 4.676218837063681], [-6.3639610306789285, 6.3639610306789285], [-4.676218837063681, 8.051703224294176], [-2.3868279, 9.0], [0.0, 9.0]], [\"M\", \"C\", \"C\", \"C\", \"C\", \"C\", \"C\", \"C\", \"C\", \"Z\"]], \"edgecolor\": \"none\", \"data\": \"data02\", \"alpha\": 1, \"xindex\": 0, \"facecolor\": \"#D95F02\", \"yindex\": 1, \"id\": \"el12773140126607109648pts\", \"edgewidth\": 0.5}, {\"coordinates\": \"data\", \"zorder\": 2, \"markerpath\": [[[0.0, 9.0], [2.3868279, 9.0], [4.676218837063681, 8.051703224294176], [6.3639610306789285, 6.3639610306789285], [8.051703224294176, 4.676218837063681], [9.0, 2.3868279], [9.0, 0.0], [9.0, -2.3868279], [8.051703224294176, -4.676218837063681], [6.3639610306789285, -6.3639610306789285], [4.676218837063681, -8.051703224294176], [2.3868279, -9.0], [0.0, -9.0], [-2.3868279, -9.0], [-4.676218837063681, -8.051703224294176], [-6.3639610306789285, -6.3639610306789285], [-8.051703224294176, -4.676218837063681], [-9.0, -2.3868279], [-9.0, 0.0], [-9.0, 2.3868279], [-8.051703224294176, 4.676218837063681], [-6.3639610306789285, 6.3639610306789285], [-4.676218837063681, 8.051703224294176], [-2.3868279, 9.0], [0.0, 9.0]], [\"M\", \"C\", \"C\", \"C\", \"C\", \"C\", \"C\", \"C\", \"C\", \"Z\"]], \"edgecolor\": \"none\", \"data\": \"data03\", \"alpha\": 1, \"xindex\": 0, \"facecolor\": \"#7570B3\", \"yindex\": 1, \"id\": \"el12773140126631625168pts\", \"edgewidth\": 0.5}, {\"coordinates\": \"data\", \"zorder\": 2, \"markerpath\": [[[0.0, 9.0], [2.3868279, 9.0], [4.676218837063681, 8.051703224294176], [6.3639610306789285, 6.3639610306789285], [8.051703224294176, 4.676218837063681], [9.0, 2.3868279], [9.0, 0.0], [9.0, -2.3868279], [8.051703224294176, -4.676218837063681], [6.3639610306789285, -6.3639610306789285], [4.676218837063681, -8.051703224294176], [2.3868279, -9.0], [0.0, -9.0], [-2.3868279, -9.0], [-4.676218837063681, -8.051703224294176], [-6.3639610306789285, -6.3639610306789285], [-8.051703224294176, -4.676218837063681], [-9.0, -2.3868279], [-9.0, 0.0], [-9.0, 2.3868279], [-8.051703224294176, 4.676218837063681], [-6.3639610306789285, 6.3639610306789285], [-4.676218837063681, 8.051703224294176], [-2.3868279, 9.0], [0.0, 9.0]], [\"M\", \"C\", \"C\", \"C\", \"C\", \"C\", \"C\", \"C\", \"C\", \"Z\"]], \"edgecolor\": \"none\", \"data\": \"data04\", \"alpha\": 1, \"xindex\": 0, \"facecolor\": \"#E7298A\", \"yindex\": 1, \"id\": \"el12773140126468594936pts\", \"edgewidth\": 0.5}, {\"coordinates\": \"data\", \"zorder\": 2, \"markerpath\": [[[0.0, 9.0], [2.3868279, 9.0], [4.676218837063681, 8.051703224294176], [6.3639610306789285, 6.3639610306789285], [8.051703224294176, 4.676218837063681], [9.0, 2.3868279], [9.0, 0.0], [9.0, -2.3868279], [8.051703224294176, -4.676218837063681], [6.3639610306789285, -6.3639610306789285], [4.676218837063681, -8.051703224294176], [2.3868279, -9.0], [0.0, -9.0], [-2.3868279, -9.0], [-4.676218837063681, -8.051703224294176], [-6.3639610306789285, -6.3639610306789285], [-8.051703224294176, -4.676218837063681], [-9.0, -2.3868279], [-9.0, 0.0], [-9.0, 2.3868279], [-8.051703224294176, 4.676218837063681], [-6.3639610306789285, 6.3639610306789285], [-4.676218837063681, 8.051703224294176], [-2.3868279, 9.0], [0.0, 9.0]], [\"M\", \"C\", \"C\", \"C\", \"C\", \"C\", \"C\", \"C\", \"C\", \"Z\"]], \"edgecolor\": \"none\", \"data\": \"data05\", \"alpha\": 1, \"xindex\": 0, \"facecolor\": \"#66A61E\", \"yindex\": 1, \"id\": \"el12773140126631639696pts\", \"edgewidth\": 0.5}, {\"coordinates\": \"axes\", \"zorder\": 1000002.0, \"markerpath\": [[[0.0, 9.0], [2.3868279, 9.0], [4.676218837063681, 8.051703224294176], [6.3639610306789285, 6.3639610306789285], [8.051703224294176, 4.676218837063681], [9.0, 2.3868279], [9.0, 0.0], [9.0, -2.3868279], [8.051703224294176, -4.676218837063681], [6.3639610306789285, -6.3639610306789285], [4.676218837063681, -8.051703224294176], [2.3868279, -9.0], [0.0, -9.0], [-2.3868279, -9.0], [-4.676218837063681, -8.051703224294176], [-6.3639610306789285, -6.3639610306789285], [-8.051703224294176, -4.676218837063681], [-9.0, -2.3868279], [-9.0, 0.0], [-9.0, 2.3868279], [-8.051703224294176, 4.676218837063681], [-6.3639610306789285, 6.3639610306789285], [-4.676218837063681, 8.051703224294176], [-2.3868279, 9.0], [0.0, 9.0]], [\"M\", \"C\", \"C\", \"C\", \"C\", \"C\", \"C\", \"C\", \"C\", \"Z\"]], \"edgecolor\": \"none\", \"data\": \"data06\", \"alpha\": 1, \"xindex\": 0, \"facecolor\": \"#1B9E77\", \"yindex\": 1, \"id\": \"el12773140126631705512pts\", \"edgewidth\": 0.5}, {\"coordinates\": \"axes\", \"zorder\": 1000002.0, \"markerpath\": [[[0.0, 9.0], [2.3868279, 9.0], [4.676218837063681, 8.051703224294176], [6.3639610306789285, 6.3639610306789285], [8.051703224294176, 4.676218837063681], [9.0, 2.3868279], [9.0, 0.0], [9.0, -2.3868279], [8.051703224294176, -4.676218837063681], [6.3639610306789285, -6.3639610306789285], [4.676218837063681, -8.051703224294176], [2.3868279, -9.0], [0.0, -9.0], [-2.3868279, -9.0], [-4.676218837063681, -8.051703224294176], [-6.3639610306789285, -6.3639610306789285], [-8.051703224294176, -4.676218837063681], [-9.0, -2.3868279], [-9.0, 0.0], [-9.0, 2.3868279], [-8.051703224294176, 4.676218837063681], [-6.3639610306789285, 6.3639610306789285], [-4.676218837063681, 8.051703224294176], [-2.3868279, 9.0], [0.0, 9.0]], [\"M\", \"C\", \"C\", \"C\", \"C\", \"C\", \"C\", \"C\", \"C\", \"Z\"]], \"edgecolor\": \"none\", \"data\": \"data06\", \"alpha\": 1, \"xindex\": 0, \"facecolor\": \"#D95F02\", \"yindex\": 2, \"id\": \"el12773140126631745632pts\", \"edgewidth\": 0.5}, {\"coordinates\": \"axes\", \"zorder\": 1000002.0, \"markerpath\": [[[0.0, 9.0], [2.3868279, 9.0], [4.676218837063681, 8.051703224294176], [6.3639610306789285, 6.3639610306789285], [8.051703224294176, 4.676218837063681], [9.0, 2.3868279], [9.0, 0.0], [9.0, -2.3868279], [8.051703224294176, -4.676218837063681], [6.3639610306789285, -6.3639610306789285], [4.676218837063681, -8.051703224294176], [2.3868279, -9.0], [0.0, -9.0], [-2.3868279, -9.0], [-4.676218837063681, -8.051703224294176], [-6.3639610306789285, -6.3639610306789285], [-8.051703224294176, -4.676218837063681], [-9.0, -2.3868279], [-9.0, 0.0], [-9.0, 2.3868279], [-8.051703224294176, 4.676218837063681], [-6.3639610306789285, 6.3639610306789285], [-4.676218837063681, 8.051703224294176], [-2.3868279, 9.0], [0.0, 9.0]], [\"M\", \"C\", \"C\", \"C\", \"C\", \"C\", \"C\", \"C\", \"C\", \"Z\"]], \"edgecolor\": \"none\", \"data\": \"data06\", \"alpha\": 1, \"xindex\": 0, \"facecolor\": \"#7570B3\", \"yindex\": 3, \"id\": \"el12773140126631771216pts\", \"edgewidth\": 0.5}, {\"coordinates\": \"axes\", \"zorder\": 1000002.0, \"markerpath\": [[[0.0, 9.0], [2.3868279, 9.0], [4.676218837063681, 8.051703224294176], [6.3639610306789285, 6.3639610306789285], [8.051703224294176, 4.676218837063681], [9.0, 2.3868279], [9.0, 0.0], [9.0, -2.3868279], [8.051703224294176, -4.676218837063681], [6.3639610306789285, -6.3639610306789285], [4.676218837063681, -8.051703224294176], [2.3868279, -9.0], [0.0, -9.0], [-2.3868279, -9.0], [-4.676218837063681, -8.051703224294176], [-6.3639610306789285, -6.3639610306789285], [-8.051703224294176, -4.676218837063681], [-9.0, -2.3868279], [-9.0, 0.0], [-9.0, 2.3868279], [-8.051703224294176, 4.676218837063681], [-6.3639610306789285, 6.3639610306789285], [-4.676218837063681, 8.051703224294176], [-2.3868279, 9.0], [0.0, 9.0]], [\"M\", \"C\", \"C\", \"C\", \"C\", \"C\", \"C\", \"C\", \"C\", \"Z\"]], \"edgecolor\": \"none\", \"data\": \"data06\", \"alpha\": 1, \"xindex\": 0, \"facecolor\": \"#E7298A\", \"yindex\": 4, \"id\": \"el12773140126631747088pts\", \"edgewidth\": 0.5}, {\"coordinates\": \"axes\", \"zorder\": 1000002.0, \"markerpath\": [[[0.0, 9.0], [2.3868279, 9.0], [4.676218837063681, 8.051703224294176], [6.3639610306789285, 6.3639610306789285], [8.051703224294176, 4.676218837063681], [9.0, 2.3868279], [9.0, 0.0], [9.0, -2.3868279], [8.051703224294176, -4.676218837063681], [6.3639610306789285, -6.3639610306789285], [4.676218837063681, -8.051703224294176], [2.3868279, -9.0], [0.0, -9.0], [-2.3868279, -9.0], [-4.676218837063681, -8.051703224294176], [-6.3639610306789285, -6.3639610306789285], [-8.051703224294176, -4.676218837063681], [-9.0, -2.3868279], [-9.0, 0.0], [-9.0, 2.3868279], [-8.051703224294176, 4.676218837063681], [-6.3639610306789285, 6.3639610306789285], [-4.676218837063681, 8.051703224294176], [-2.3868279, 9.0], [0.0, 9.0]], [\"M\", \"C\", \"C\", \"C\", \"C\", \"C\", \"C\", \"C\", \"C\", \"Z\"]], \"edgecolor\": \"none\", \"data\": \"data06\", \"alpha\": 1, \"xindex\": 0, \"facecolor\": \"#66A61E\", \"yindex\": 5, \"id\": \"el12773140126631797704pts\", \"edgewidth\": 0.5}], \"sharey\": [], \"xdomain\": [-0.7022243585349199, 0.7098185051203891], \"paths\": [{\"coordinates\": \"axes\", \"dasharray\": \"10,0\", \"zorder\": 1000001.0, \"alpha\": 1, \"facecolor\": \"#FFFFFF\", \"yindex\": 1, \"edgewidth\": 1.0, \"id\": \"el12773140126631625224\", \"edgecolor\": \"#000000\", \"data\": \"data07\", \"xindex\": 0, \"pathcodes\": [\"M\", \"L\", \"L\", \"L\", \"Z\"]}], \"ydomain\": [-0.7081377832177825, 0.6939033427606786], \"axesbg\": \"#FFFFFF\", \"xscale\": \"linear\", \"axes\": [{\"grid\": {\"gridOn\": false}, \"tickvalues\": [], \"nticks\": 0, \"position\": \"bottom\", \"fontsize\": null, \"tickformat\": \"\", \"scale\": \"linear\"}, {\"grid\": {\"gridOn\": false}, \"tickvalues\": [], \"nticks\": 0, \"position\": \"left\", \"fontsize\": null, \"tickformat\": \"\", \"scale\": \"linear\"}], \"axesbgalpha\": null, \"zoomable\": true, \"yscale\": \"linear\", \"sharex\": [], \"collections\": [], \"xlim\": [-0.7022243585349199, 0.7098185051203891], \"lines\": [], \"id\": \"el12773140126621804584\", \"bbox\": [0.125, 0.125, 0.775, 0.775]}], \"data\": {\"data02\": [[-0.258417253284027, -0.2652260221436388], [-0.22762167926505814, 0.06857695283204854], [-0.4301012825198393, 0.2854141396127525], [-0.3528182922735947, 0.12701319394680938], [-0.5522759511779272, -0.22475587495166363], [0.41546634085583234, 0.4069688257035027], [-0.6622608812616565, -0.20511076586859073], [-0.4599154070542705, 0.007654714663857465], [-0.34166307376918104, 0.03630579254966726], [-0.3415780134445779, -0.06842764695433033], [-0.33941629334547235, -0.15117828334141054], [-0.18745722681366755, 0.15085562479813835], [-0.46600115683767945, -0.09932904605351045], [-0.5791581543162552, 0.29025774220332035], [-0.2083933734933721, -0.058574052865909366], [-0.1995916680206842, 0.0064165474101231254]], \"data04\": [[-0.48428094266733496, 0.17299840565537866], [-0.34160570270008384, 0.6344808506574434], [0.4192021972350015, 0.5854520485169515], [-0.17104806655713084, 0.23239528561346245], [0.6698550278471257, 0.11893281852637148], [-0.2037332777288499, 0.5597834903655693], [0.40204400902943815, 0.498701667453783], [0.6677627104186503, 0.26949909097813], [-0.02227777502359704, 0.33877773486584417], [0.06195871862089496, 0.6100873144577459], [-0.6012495190001138, -0.04195024831025676], [0.6272943977307884, 0.3595046830327616]], \"data01\": [[-0.031704356749774315, -0.45668597931827065], [0.05785577310053593, 0.25692858718863093], [0.05839869253028608, -0.04611702740890181], [-0.43453170540719366, -0.29660613828269616], [0.6037636767904756, -0.34565548304904037], [0.3547936331378034, 0.008290710365072116], [-0.021733999952444738, -0.042720767809052894], [0.5177717200812387, -0.2536540302931725], [0.43342020294859956, 0.14567841987345992], [0.3432853030249946, 0.246006709745588], [0.31816539769255964, 0.08775294364571601], [-0.19659297207639648, 0.3957261088660333], [0.34423528399454734, -0.13020602386402164], [0.16075133608675513, -0.11942129559742261], [0.15640009437168323, -0.21297986976225988], [0.18341909271393095, 0.3029016910056736], [0.12096767900038803, 0.4812637440714905], [0.12587206202926585, 0.4177788692597201], [0.220078542503727, 0.4800518402232757], [0.4819436407032279, 0.008023079596038808], [0.47591168977268594, -0.4358076517203701], [0.27514357721327537, -0.29426793132752815], [-0.3243215990367419, 0.3312982383148728], [0.3244183710745198, -0.45650361180937427], [0.18464212048810344, 0.5791967329426072]], \"data03\": [[0.1842639196948847, -0.011698423371132152], [-0.1322921736434466, 0.5745109123612222], [0.011870129083831693, 0.4624853574054067], [0.07160786733633107, 0.13140355942960508], [-0.05335737382032607, 0.12312849271489654], [0.5306515354145532, 0.1294497101088675], [-0.28462977611146373, 0.2756306109086089], [0.21420712139192538, 0.2183286793356958], [0.4928761771808502, -0.1411107487904908], [-0.06989475411532176, 0.569705539011805], [-0.5962637921066579, 0.19021678812015821], [0.20867878615651633, 0.06434284629527791], [0.5656255199388547, 0.34237017859020485], [-0.4208318237068076, 0.46280088153288335], [-0.30315863958813255, 0.4758732388739999], [0.6448617791922985, -0.15574388957552057], [-0.18148082579748032, 0.4766013154583243], [-0.02882418924007409, 0.654222933534873], [0.6688326628289069, -0.08783277088604606], [-0.552165502285474, 0.028845815397586044], [-0.581074334873682, 0.10578299005618616]], \"data05\": [[0.4420542765535735, -0.2786832170112155], [-0.25091001948814, -0.5748364190982864], [0.5525828106324346, 0.49022359259865306], [0.19843470887949946, -0.3892802726823152], [0.35007455070415944, -0.33949066390038307], [-0.08237740002772587, -0.5784292658683906], [-0.016290419113439557, -0.6355726160881316], [0.019734051171252757, -0.6360367105738866], [0.2438433076495576, -0.5041202087221548], [0.08014906600330879, -0.4799020818182777], [-0.15255045823070493, -0.3408753845517839], [-0.020081825875353215, -0.35718794655762914], [-0.15297793113902683, -0.30140577453193457], [-0.22758349812136536, -0.45047495075469096], [0.12888676337410168, -0.668457373991977], [0.07966541763901362, -0.3889609926197951], [-0.34784460975136144, -0.3258414653409745], [-0.3608951277095703, -0.48195991352901957], [-0.11265730034344344, -0.4993121670686306], [0.1827109977144634, -0.5787464521608237], [-0.08782998361951912, -0.2007423698086272], [-0.18336929431804472, -0.5551182889814734], [-0.5516219950653584, 0.3348728982305264], [-0.5674021212107925, -0.35376317678446884], [-0.45337586370615407, -0.44518883037029683], [0.33505791724913486, -0.6458208127368436]], \"data07\": [[0.7285306259600616, 0.7069892473118278], [0.9923195084485409, 0.7069892473118278], [0.9923195084485409, 0.9820788530465947], [0.7285306259600616, 0.9820788530465947]], \"data06\": [[0.7500360023041476, 0.9534050179211467, 0.9005376344086019, 0.8476702508960573, 0.7948028673835125, 0.7419354838709676]]}, \"id\": \"el12773140126652262104\", \"plugins\": [{\"type\": \"reset\"}, {\"type\": \"zoom\", \"enabled\": false, \"button\": true}, {\"type\": \"boxzoom\", \"enabled\": false, \"button\": true}, {\"voffset\": 10, \"type\": \"htmltooltip\", \"id\": \"el12773140126631626736pts\", \"labels\": [\"Schindler's List\", \"One Flew Over the Cuckoo's Nest\", \"Gone with the Wind\", \"The Wizard of Oz\", \"Titanic\", \"Forrest Gump\", \"E.T. the Extra-Terrestrial\", \"The Silence of the Lambs\", \"Gandhi\", \"A Streetcar Named Desire\", \"The Best Years of Our Lives\", \"My Fair Lady\", \"Ben-Hur\", \"Doctor Zhivago\", \"The Pianist\", \"The Exorcist\", \"Out of Africa\", \"Good Will Hunting\", \"Terms of Endearment\", \"Giant\", \"The Grapes of Wrath\", \"Close Encounters of the Third Kind\", \"The Graduate\", \"Stagecoach\", \"Wuthering Heights\"], \"hoffset\": 10}, {\"type\": \"toptoolbar\"}, {\"voffset\": 10, \"type\": \"htmltooltip\", \"id\": \"el12773140126607109648pts\", \"labels\": [\"Casablanca\", \"Psycho\", \"Sunset Blvd.\", \"Vertigo\", \"Chinatown\", \"Amadeus\", \"High Noon\", \"The French Connection\", \"Fargo\", \"Pulp Fiction\", \"The Maltese Falcon\", \"A Clockwork Orange\", \"Double Indemnity\", \"Rebel Without a Cause\", \"The Third Man\", \"North by Northwest\"], \"hoffset\": 10}, {\"type\": \"toptoolbar\"}, {\"voffset\": 10, \"type\": \"htmltooltip\", \"id\": \"el12773140126631625168pts\", \"labels\": [\"The Godfather\", \"Raging Bull\", \"Citizen Kane\", \"The Godfather: Part II\", \"On the Waterfront\", \"12 Angry Men\", \"Rocky\", \"To Kill a Mockingbird\", \"Braveheart\", \"The Good, the Bad and the Ugly\", \"The Apartment\", \"Goodfellas\", \"City Lights\", \"It Happened One Night\", \"Midnight Cowboy\", \"Mr. Smith Goes to Washington\", \"Rain Man\", \"Annie Hall\", \"Network\", \"Taxi Driver\", \"Rear Window\"], \"hoffset\": 10}, {\"type\": \"toptoolbar\"}, {\"voffset\": 10, \"type\": \"htmltooltip\", \"id\": \"el12773140126468594936pts\", \"labels\": [\"West Side Story\", \"Singin' in the Rain\", \"It's a Wonderful Life\", \"Some Like It Hot\", \"The Philadelphia Story\", \"An American in Paris\", \"The King's Speech\", \"A Place in the Sun\", \"Tootsie\", \"Nashville\", \"American Graffiti\", \"Yankee Doodle Dandy\"], \"hoffset\": 10}, {\"type\": \"toptoolbar\"}, {\"voffset\": 10, \"type\": \"htmltooltip\", \"id\": \"el12773140126631639696pts\", \"labels\": [\"The Shawshank Redemption\", \"Lawrence of Arabia\", \"The Sound of Music\", \"Star Wars\", \"2001: A Space Odyssey\", \"The Bridge on the River Kwai\", \"Dr. Strangelove or: How I Learned to Stop Worrying and Love the Bomb\", \"Apocalypse Now\", \"The Lord of the Rings: The Return of the King\", \"Gladiator\", \"From Here to Eternity\", \"Saving Private Ryan\", \"Unforgiven\", \"Raiders of the Lost Ark\", \"Patton\", \"Jaws\", \"Butch Cassidy and the Sundance Kid\", \"The Treasure of the Sierra Madre\", \"Platoon\", \"Dances with Wolves\", \"The Deer Hunter\", \"All Quiet on the Western Front\", \"Shane\", \"The Green Mile\", \"The African Queen\", \"Mutiny on the Bounty\"], \"hoffset\": 10}, {\"type\": \"toptoolbar\"}], \"width\": 1120.0, \"height\": 480.0});\n",
       "      });\n",
       "    });\n",
       "}else{\n",
       "    // require.js not available: dynamically load d3 & mpld3\n",
       "    mpld3_load_lib(\"https://mpld3.github.io/js/d3.v3.min.js\", function(){\n",
       "         mpld3_load_lib(\"https://mpld3.github.io/js/mpld3.v0.2.js\", function(){\n",
       "                 \n",
       "    mpld3.register_plugin(\"htmltooltip\", HtmlTooltipPlugin);\n",
       "    HtmlTooltipPlugin.prototype = Object.create(mpld3.Plugin.prototype);\n",
       "    HtmlTooltipPlugin.prototype.constructor = HtmlTooltipPlugin;\n",
       "    HtmlTooltipPlugin.prototype.requiredProps = [\"id\"];\n",
       "    HtmlTooltipPlugin.prototype.defaultProps = {labels:null, hoffset:0, voffset:10};\n",
       "    function HtmlTooltipPlugin(fig, props){\n",
       "        mpld3.Plugin.call(this, fig, props);\n",
       "    };\n",
       "\n",
       "    HtmlTooltipPlugin.prototype.draw = function(){\n",
       "       var obj = mpld3.get_element(this.props.id);\n",
       "       var labels = this.props.labels;\n",
       "       var tooltip = d3.select(\"body\").append(\"div\")\n",
       "                    .attr(\"class\", \"mpld3-tooltip\")\n",
       "                    .style(\"position\", \"absolute\")\n",
       "                    .style(\"z-index\", \"10\")\n",
       "                    .style(\"visibility\", \"hidden\");\n",
       "\n",
       "       obj.elements()\n",
       "           .on(\"mouseover\", function(d, i){\n",
       "                              tooltip.html(labels[i])\n",
       "                                     .style(\"visibility\", \"visible\");})\n",
       "           .on(\"mousemove\", function(d, i){\n",
       "                    tooltip\n",
       "                      .style(\"top\", d3.event.pageY + this.props.voffset + \"px\")\n",
       "                      .style(\"left\",d3.event.pageX + this.props.hoffset + \"px\");\n",
       "                 }.bind(this))\n",
       "           .on(\"mouseout\",  function(d, i){\n",
       "                           tooltip.style(\"visibility\", \"hidden\");});\n",
       "    };\n",
       "    \n",
       "    mpld3.register_plugin(\"toptoolbar\", TopToolbar);\n",
       "    TopToolbar.prototype = Object.create(mpld3.Plugin.prototype);\n",
       "    TopToolbar.prototype.constructor = TopToolbar;\n",
       "    function TopToolbar(fig, props){\n",
       "        mpld3.Plugin.call(this, fig, props);\n",
       "    };\n",
       "\n",
       "    TopToolbar.prototype.draw = function(){\n",
       "      // the toolbar svg doesn't exist\n",
       "      // yet, so first draw it\n",
       "      this.fig.toolbar.draw();\n",
       "\n",
       "      // then change the y position to be\n",
       "      // at the top of the figure\n",
       "      this.fig.toolbar.toolbar.attr(\"x\", 150);\n",
       "      this.fig.toolbar.toolbar.attr(\"y\", 400);\n",
       "\n",
       "      // then remove the draw function,\n",
       "      // so that it is not called again\n",
       "      this.fig.toolbar.draw = function() {}\n",
       "    }\n",
       "    \n",
       "    mpld3.register_plugin(\"htmltooltip\", HtmlTooltipPlugin);\n",
       "    HtmlTooltipPlugin.prototype = Object.create(mpld3.Plugin.prototype);\n",
       "    HtmlTooltipPlugin.prototype.constructor = HtmlTooltipPlugin;\n",
       "    HtmlTooltipPlugin.prototype.requiredProps = [\"id\"];\n",
       "    HtmlTooltipPlugin.prototype.defaultProps = {labels:null, hoffset:0, voffset:10};\n",
       "    function HtmlTooltipPlugin(fig, props){\n",
       "        mpld3.Plugin.call(this, fig, props);\n",
       "    };\n",
       "\n",
       "    HtmlTooltipPlugin.prototype.draw = function(){\n",
       "       var obj = mpld3.get_element(this.props.id);\n",
       "       var labels = this.props.labels;\n",
       "       var tooltip = d3.select(\"body\").append(\"div\")\n",
       "                    .attr(\"class\", \"mpld3-tooltip\")\n",
       "                    .style(\"position\", \"absolute\")\n",
       "                    .style(\"z-index\", \"10\")\n",
       "                    .style(\"visibility\", \"hidden\");\n",
       "\n",
       "       obj.elements()\n",
       "           .on(\"mouseover\", function(d, i){\n",
       "                              tooltip.html(labels[i])\n",
       "                                     .style(\"visibility\", \"visible\");})\n",
       "           .on(\"mousemove\", function(d, i){\n",
       "                    tooltip\n",
       "                      .style(\"top\", d3.event.pageY + this.props.voffset + \"px\")\n",
       "                      .style(\"left\",d3.event.pageX + this.props.hoffset + \"px\");\n",
       "                 }.bind(this))\n",
       "           .on(\"mouseout\",  function(d, i){\n",
       "                           tooltip.style(\"visibility\", \"hidden\");});\n",
       "    };\n",
       "    \n",
       "    mpld3.register_plugin(\"toptoolbar\", TopToolbar);\n",
       "    TopToolbar.prototype = Object.create(mpld3.Plugin.prototype);\n",
       "    TopToolbar.prototype.constructor = TopToolbar;\n",
       "    function TopToolbar(fig, props){\n",
       "        mpld3.Plugin.call(this, fig, props);\n",
       "    };\n",
       "\n",
       "    TopToolbar.prototype.draw = function(){\n",
       "      // the toolbar svg doesn't exist\n",
       "      // yet, so first draw it\n",
       "      this.fig.toolbar.draw();\n",
       "\n",
       "      // then change the y position to be\n",
       "      // at the top of the figure\n",
       "      this.fig.toolbar.toolbar.attr(\"x\", 150);\n",
       "      this.fig.toolbar.toolbar.attr(\"y\", 400);\n",
       "\n",
       "      // then remove the draw function,\n",
       "      // so that it is not called again\n",
       "      this.fig.toolbar.draw = function() {}\n",
       "    }\n",
       "    \n",
       "    mpld3.register_plugin(\"htmltooltip\", HtmlTooltipPlugin);\n",
       "    HtmlTooltipPlugin.prototype = Object.create(mpld3.Plugin.prototype);\n",
       "    HtmlTooltipPlugin.prototype.constructor = HtmlTooltipPlugin;\n",
       "    HtmlTooltipPlugin.prototype.requiredProps = [\"id\"];\n",
       "    HtmlTooltipPlugin.prototype.defaultProps = {labels:null, hoffset:0, voffset:10};\n",
       "    function HtmlTooltipPlugin(fig, props){\n",
       "        mpld3.Plugin.call(this, fig, props);\n",
       "    };\n",
       "\n",
       "    HtmlTooltipPlugin.prototype.draw = function(){\n",
       "       var obj = mpld3.get_element(this.props.id);\n",
       "       var labels = this.props.labels;\n",
       "       var tooltip = d3.select(\"body\").append(\"div\")\n",
       "                    .attr(\"class\", \"mpld3-tooltip\")\n",
       "                    .style(\"position\", \"absolute\")\n",
       "                    .style(\"z-index\", \"10\")\n",
       "                    .style(\"visibility\", \"hidden\");\n",
       "\n",
       "       obj.elements()\n",
       "           .on(\"mouseover\", function(d, i){\n",
       "                              tooltip.html(labels[i])\n",
       "                                     .style(\"visibility\", \"visible\");})\n",
       "           .on(\"mousemove\", function(d, i){\n",
       "                    tooltip\n",
       "                      .style(\"top\", d3.event.pageY + this.props.voffset + \"px\")\n",
       "                      .style(\"left\",d3.event.pageX + this.props.hoffset + \"px\");\n",
       "                 }.bind(this))\n",
       "           .on(\"mouseout\",  function(d, i){\n",
       "                           tooltip.style(\"visibility\", \"hidden\");});\n",
       "    };\n",
       "    \n",
       "    mpld3.register_plugin(\"toptoolbar\", TopToolbar);\n",
       "    TopToolbar.prototype = Object.create(mpld3.Plugin.prototype);\n",
       "    TopToolbar.prototype.constructor = TopToolbar;\n",
       "    function TopToolbar(fig, props){\n",
       "        mpld3.Plugin.call(this, fig, props);\n",
       "    };\n",
       "\n",
       "    TopToolbar.prototype.draw = function(){\n",
       "      // the toolbar svg doesn't exist\n",
       "      // yet, so first draw it\n",
       "      this.fig.toolbar.draw();\n",
       "\n",
       "      // then change the y position to be\n",
       "      // at the top of the figure\n",
       "      this.fig.toolbar.toolbar.attr(\"x\", 150);\n",
       "      this.fig.toolbar.toolbar.attr(\"y\", 400);\n",
       "\n",
       "      // then remove the draw function,\n",
       "      // so that it is not called again\n",
       "      this.fig.toolbar.draw = function() {}\n",
       "    }\n",
       "    \n",
       "    mpld3.register_plugin(\"htmltooltip\", HtmlTooltipPlugin);\n",
       "    HtmlTooltipPlugin.prototype = Object.create(mpld3.Plugin.prototype);\n",
       "    HtmlTooltipPlugin.prototype.constructor = HtmlTooltipPlugin;\n",
       "    HtmlTooltipPlugin.prototype.requiredProps = [\"id\"];\n",
       "    HtmlTooltipPlugin.prototype.defaultProps = {labels:null, hoffset:0, voffset:10};\n",
       "    function HtmlTooltipPlugin(fig, props){\n",
       "        mpld3.Plugin.call(this, fig, props);\n",
       "    };\n",
       "\n",
       "    HtmlTooltipPlugin.prototype.draw = function(){\n",
       "       var obj = mpld3.get_element(this.props.id);\n",
       "       var labels = this.props.labels;\n",
       "       var tooltip = d3.select(\"body\").append(\"div\")\n",
       "                    .attr(\"class\", \"mpld3-tooltip\")\n",
       "                    .style(\"position\", \"absolute\")\n",
       "                    .style(\"z-index\", \"10\")\n",
       "                    .style(\"visibility\", \"hidden\");\n",
       "\n",
       "       obj.elements()\n",
       "           .on(\"mouseover\", function(d, i){\n",
       "                              tooltip.html(labels[i])\n",
       "                                     .style(\"visibility\", \"visible\");})\n",
       "           .on(\"mousemove\", function(d, i){\n",
       "                    tooltip\n",
       "                      .style(\"top\", d3.event.pageY + this.props.voffset + \"px\")\n",
       "                      .style(\"left\",d3.event.pageX + this.props.hoffset + \"px\");\n",
       "                 }.bind(this))\n",
       "           .on(\"mouseout\",  function(d, i){\n",
       "                           tooltip.style(\"visibility\", \"hidden\");});\n",
       "    };\n",
       "    \n",
       "    mpld3.register_plugin(\"toptoolbar\", TopToolbar);\n",
       "    TopToolbar.prototype = Object.create(mpld3.Plugin.prototype);\n",
       "    TopToolbar.prototype.constructor = TopToolbar;\n",
       "    function TopToolbar(fig, props){\n",
       "        mpld3.Plugin.call(this, fig, props);\n",
       "    };\n",
       "\n",
       "    TopToolbar.prototype.draw = function(){\n",
       "      // the toolbar svg doesn't exist\n",
       "      // yet, so first draw it\n",
       "      this.fig.toolbar.draw();\n",
       "\n",
       "      // then change the y position to be\n",
       "      // at the top of the figure\n",
       "      this.fig.toolbar.toolbar.attr(\"x\", 150);\n",
       "      this.fig.toolbar.toolbar.attr(\"y\", 400);\n",
       "\n",
       "      // then remove the draw function,\n",
       "      // so that it is not called again\n",
       "      this.fig.toolbar.draw = function() {}\n",
       "    }\n",
       "    \n",
       "    mpld3.register_plugin(\"htmltooltip\", HtmlTooltipPlugin);\n",
       "    HtmlTooltipPlugin.prototype = Object.create(mpld3.Plugin.prototype);\n",
       "    HtmlTooltipPlugin.prototype.constructor = HtmlTooltipPlugin;\n",
       "    HtmlTooltipPlugin.prototype.requiredProps = [\"id\"];\n",
       "    HtmlTooltipPlugin.prototype.defaultProps = {labels:null, hoffset:0, voffset:10};\n",
       "    function HtmlTooltipPlugin(fig, props){\n",
       "        mpld3.Plugin.call(this, fig, props);\n",
       "    };\n",
       "\n",
       "    HtmlTooltipPlugin.prototype.draw = function(){\n",
       "       var obj = mpld3.get_element(this.props.id);\n",
       "       var labels = this.props.labels;\n",
       "       var tooltip = d3.select(\"body\").append(\"div\")\n",
       "                    .attr(\"class\", \"mpld3-tooltip\")\n",
       "                    .style(\"position\", \"absolute\")\n",
       "                    .style(\"z-index\", \"10\")\n",
       "                    .style(\"visibility\", \"hidden\");\n",
       "\n",
       "       obj.elements()\n",
       "           .on(\"mouseover\", function(d, i){\n",
       "                              tooltip.html(labels[i])\n",
       "                                     .style(\"visibility\", \"visible\");})\n",
       "           .on(\"mousemove\", function(d, i){\n",
       "                    tooltip\n",
       "                      .style(\"top\", d3.event.pageY + this.props.voffset + \"px\")\n",
       "                      .style(\"left\",d3.event.pageX + this.props.hoffset + \"px\");\n",
       "                 }.bind(this))\n",
       "           .on(\"mouseout\",  function(d, i){\n",
       "                           tooltip.style(\"visibility\", \"hidden\");});\n",
       "    };\n",
       "    \n",
       "    mpld3.register_plugin(\"toptoolbar\", TopToolbar);\n",
       "    TopToolbar.prototype = Object.create(mpld3.Plugin.prototype);\n",
       "    TopToolbar.prototype.constructor = TopToolbar;\n",
       "    function TopToolbar(fig, props){\n",
       "        mpld3.Plugin.call(this, fig, props);\n",
       "    };\n",
       "\n",
       "    TopToolbar.prototype.draw = function(){\n",
       "      // the toolbar svg doesn't exist\n",
       "      // yet, so first draw it\n",
       "      this.fig.toolbar.draw();\n",
       "\n",
       "      // then change the y position to be\n",
       "      // at the top of the figure\n",
       "      this.fig.toolbar.toolbar.attr(\"x\", 150);\n",
       "      this.fig.toolbar.toolbar.attr(\"y\", 400);\n",
       "\n",
       "      // then remove the draw function,\n",
       "      // so that it is not called again\n",
       "      this.fig.toolbar.draw = function() {}\n",
       "    }\n",
       "    \n",
       "                 mpld3.draw_figure(\"fig_el127731401266522621043894006288\", {\"axes\": [{\"images\": [], \"texts\": [{\"coordinates\": \"axes\", \"zorder\": 1000003.0, \"alpha\": 1, \"position\": [-0.16129032258064516, -0.16129032258064518], \"fontsize\": 10.0, \"h_anchor\": \"start\", \"id\": \"el12773140126631797480\", \"rotation\": -0.0, \"text\": \"None\", \"v_baseline\": \"auto\", \"color\": \"#000000\"}, {\"coordinates\": \"axes\", \"zorder\": 1000003.0, \"alpha\": 1, \"position\": [0.7776857718894011, 0.9408602150537633], \"fontsize\": 12.0, \"h_anchor\": \"start\", \"id\": \"el12773140126631703776\", \"rotation\": -0.0, \"text\": \"Family, home, war\", \"v_baseline\": \"auto\", \"color\": \"#000000\"}, {\"coordinates\": \"axes\", \"zorder\": 1000003.0, \"alpha\": 1, \"position\": [0.7776857718894011, 0.8879928315412184], \"fontsize\": 12.0, \"h_anchor\": \"start\", \"id\": \"el12773140126631736768\", \"rotation\": -0.0, \"text\": \"Police, killed, murders\", \"v_baseline\": \"auto\", \"color\": \"#000000\"}, {\"coordinates\": \"axes\", \"zorder\": 1000003.0, \"alpha\": 1, \"position\": [0.7776857718894011, 0.8351254480286738], \"fontsize\": 12.0, \"h_anchor\": \"start\", \"id\": \"el12773140126631744064\", \"rotation\": -0.0, \"text\": \"Father, New York, brothers\", \"v_baseline\": \"auto\", \"color\": \"#000000\"}, {\"coordinates\": \"axes\", \"zorder\": 1000003.0, \"alpha\": 1, \"position\": [0.7776857718894011, 0.782258064516129], \"fontsize\": 12.0, \"h_anchor\": \"start\", \"id\": \"el12773140126631770320\", \"rotation\": -0.0, \"text\": \"Dance, singing, love\", \"v_baseline\": \"auto\", \"color\": \"#000000\"}, {\"coordinates\": \"axes\", \"zorder\": 1000003.0, \"alpha\": 1, \"position\": [0.7776857718894011, 0.7293906810035842], \"fontsize\": 12.0, \"h_anchor\": \"start\", \"id\": \"el12773140126631783784\", \"rotation\": -0.0, \"text\": \"Killed, soldiers, captain\", \"v_baseline\": \"auto\", \"color\": \"#000000\"}], \"ylim\": [-0.7081377832177825, 0.6939033427606786], \"markers\": [{\"coordinates\": \"data\", \"zorder\": 2, \"markerpath\": [[[0.0, 9.0], [2.3868279, 9.0], [4.676218837063681, 8.051703224294176], [6.3639610306789285, 6.3639610306789285], [8.051703224294176, 4.676218837063681], [9.0, 2.3868279], [9.0, 0.0], [9.0, -2.3868279], [8.051703224294176, -4.676218837063681], [6.3639610306789285, -6.3639610306789285], [4.676218837063681, -8.051703224294176], [2.3868279, -9.0], [0.0, -9.0], [-2.3868279, -9.0], [-4.676218837063681, -8.051703224294176], [-6.3639610306789285, -6.3639610306789285], [-8.051703224294176, -4.676218837063681], [-9.0, -2.3868279], [-9.0, 0.0], [-9.0, 2.3868279], [-8.051703224294176, 4.676218837063681], [-6.3639610306789285, 6.3639610306789285], [-4.676218837063681, 8.051703224294176], [-2.3868279, 9.0], [0.0, 9.0]], [\"M\", \"C\", \"C\", \"C\", \"C\", \"C\", \"C\", \"C\", \"C\", \"Z\"]], \"edgecolor\": \"none\", \"data\": \"data01\", \"alpha\": 1, \"xindex\": 0, \"facecolor\": \"#1B9E77\", \"yindex\": 1, \"id\": \"el12773140126631626736pts\", \"edgewidth\": 0.5}, {\"coordinates\": \"data\", \"zorder\": 2, \"markerpath\": [[[0.0, 9.0], [2.3868279, 9.0], [4.676218837063681, 8.051703224294176], [6.3639610306789285, 6.3639610306789285], [8.051703224294176, 4.676218837063681], [9.0, 2.3868279], [9.0, 0.0], [9.0, -2.3868279], [8.051703224294176, -4.676218837063681], [6.3639610306789285, -6.3639610306789285], [4.676218837063681, -8.051703224294176], [2.3868279, -9.0], [0.0, -9.0], [-2.3868279, -9.0], [-4.676218837063681, -8.051703224294176], [-6.3639610306789285, -6.3639610306789285], [-8.051703224294176, -4.676218837063681], [-9.0, -2.3868279], [-9.0, 0.0], [-9.0, 2.3868279], [-8.051703224294176, 4.676218837063681], [-6.3639610306789285, 6.3639610306789285], [-4.676218837063681, 8.051703224294176], [-2.3868279, 9.0], [0.0, 9.0]], [\"M\", \"C\", \"C\", \"C\", \"C\", \"C\", \"C\", \"C\", \"C\", \"Z\"]], \"edgecolor\": \"none\", \"data\": \"data02\", \"alpha\": 1, \"xindex\": 0, \"facecolor\": \"#D95F02\", \"yindex\": 1, \"id\": \"el12773140126607109648pts\", \"edgewidth\": 0.5}, {\"coordinates\": \"data\", \"zorder\": 2, \"markerpath\": [[[0.0, 9.0], [2.3868279, 9.0], [4.676218837063681, 8.051703224294176], [6.3639610306789285, 6.3639610306789285], [8.051703224294176, 4.676218837063681], [9.0, 2.3868279], [9.0, 0.0], [9.0, -2.3868279], [8.051703224294176, -4.676218837063681], [6.3639610306789285, -6.3639610306789285], [4.676218837063681, -8.051703224294176], [2.3868279, -9.0], [0.0, -9.0], [-2.3868279, -9.0], [-4.676218837063681, -8.051703224294176], [-6.3639610306789285, -6.3639610306789285], [-8.051703224294176, -4.676218837063681], [-9.0, -2.3868279], [-9.0, 0.0], [-9.0, 2.3868279], [-8.051703224294176, 4.676218837063681], [-6.3639610306789285, 6.3639610306789285], [-4.676218837063681, 8.051703224294176], [-2.3868279, 9.0], [0.0, 9.0]], [\"M\", \"C\", \"C\", \"C\", \"C\", \"C\", \"C\", \"C\", \"C\", \"Z\"]], \"edgecolor\": \"none\", \"data\": \"data03\", \"alpha\": 1, \"xindex\": 0, \"facecolor\": \"#7570B3\", \"yindex\": 1, \"id\": \"el12773140126631625168pts\", \"edgewidth\": 0.5}, {\"coordinates\": \"data\", \"zorder\": 2, \"markerpath\": [[[0.0, 9.0], [2.3868279, 9.0], [4.676218837063681, 8.051703224294176], [6.3639610306789285, 6.3639610306789285], [8.051703224294176, 4.676218837063681], [9.0, 2.3868279], [9.0, 0.0], [9.0, -2.3868279], [8.051703224294176, -4.676218837063681], [6.3639610306789285, -6.3639610306789285], [4.676218837063681, -8.051703224294176], [2.3868279, -9.0], [0.0, -9.0], [-2.3868279, -9.0], [-4.676218837063681, -8.051703224294176], [-6.3639610306789285, -6.3639610306789285], [-8.051703224294176, -4.676218837063681], [-9.0, -2.3868279], [-9.0, 0.0], [-9.0, 2.3868279], [-8.051703224294176, 4.676218837063681], [-6.3639610306789285, 6.3639610306789285], [-4.676218837063681, 8.051703224294176], [-2.3868279, 9.0], [0.0, 9.0]], [\"M\", \"C\", \"C\", \"C\", \"C\", \"C\", \"C\", \"C\", \"C\", \"Z\"]], \"edgecolor\": \"none\", \"data\": \"data04\", \"alpha\": 1, \"xindex\": 0, \"facecolor\": \"#E7298A\", \"yindex\": 1, \"id\": \"el12773140126468594936pts\", \"edgewidth\": 0.5}, {\"coordinates\": \"data\", \"zorder\": 2, \"markerpath\": [[[0.0, 9.0], [2.3868279, 9.0], [4.676218837063681, 8.051703224294176], [6.3639610306789285, 6.3639610306789285], [8.051703224294176, 4.676218837063681], [9.0, 2.3868279], [9.0, 0.0], [9.0, -2.3868279], [8.051703224294176, -4.676218837063681], [6.3639610306789285, -6.3639610306789285], [4.676218837063681, -8.051703224294176], [2.3868279, -9.0], [0.0, -9.0], [-2.3868279, -9.0], [-4.676218837063681, -8.051703224294176], [-6.3639610306789285, -6.3639610306789285], [-8.051703224294176, -4.676218837063681], [-9.0, -2.3868279], [-9.0, 0.0], [-9.0, 2.3868279], [-8.051703224294176, 4.676218837063681], [-6.3639610306789285, 6.3639610306789285], [-4.676218837063681, 8.051703224294176], [-2.3868279, 9.0], [0.0, 9.0]], [\"M\", \"C\", \"C\", \"C\", \"C\", \"C\", \"C\", \"C\", \"C\", \"Z\"]], \"edgecolor\": \"none\", \"data\": \"data05\", \"alpha\": 1, \"xindex\": 0, \"facecolor\": \"#66A61E\", \"yindex\": 1, \"id\": \"el12773140126631639696pts\", \"edgewidth\": 0.5}, {\"coordinates\": \"axes\", \"zorder\": 1000002.0, \"markerpath\": [[[0.0, 9.0], [2.3868279, 9.0], [4.676218837063681, 8.051703224294176], [6.3639610306789285, 6.3639610306789285], [8.051703224294176, 4.676218837063681], [9.0, 2.3868279], [9.0, 0.0], [9.0, -2.3868279], [8.051703224294176, -4.676218837063681], [6.3639610306789285, -6.3639610306789285], [4.676218837063681, -8.051703224294176], [2.3868279, -9.0], [0.0, -9.0], [-2.3868279, -9.0], [-4.676218837063681, -8.051703224294176], [-6.3639610306789285, -6.3639610306789285], [-8.051703224294176, -4.676218837063681], [-9.0, -2.3868279], [-9.0, 0.0], [-9.0, 2.3868279], [-8.051703224294176, 4.676218837063681], [-6.3639610306789285, 6.3639610306789285], [-4.676218837063681, 8.051703224294176], [-2.3868279, 9.0], [0.0, 9.0]], [\"M\", \"C\", \"C\", \"C\", \"C\", \"C\", \"C\", \"C\", \"C\", \"Z\"]], \"edgecolor\": \"none\", \"data\": \"data06\", \"alpha\": 1, \"xindex\": 0, \"facecolor\": \"#1B9E77\", \"yindex\": 1, \"id\": \"el12773140126631705512pts\", \"edgewidth\": 0.5}, {\"coordinates\": \"axes\", \"zorder\": 1000002.0, \"markerpath\": [[[0.0, 9.0], [2.3868279, 9.0], [4.676218837063681, 8.051703224294176], [6.3639610306789285, 6.3639610306789285], [8.051703224294176, 4.676218837063681], [9.0, 2.3868279], [9.0, 0.0], [9.0, -2.3868279], [8.051703224294176, -4.676218837063681], [6.3639610306789285, -6.3639610306789285], [4.676218837063681, -8.051703224294176], [2.3868279, -9.0], [0.0, -9.0], [-2.3868279, -9.0], [-4.676218837063681, -8.051703224294176], [-6.3639610306789285, -6.3639610306789285], [-8.051703224294176, -4.676218837063681], [-9.0, -2.3868279], [-9.0, 0.0], [-9.0, 2.3868279], [-8.051703224294176, 4.676218837063681], [-6.3639610306789285, 6.3639610306789285], [-4.676218837063681, 8.051703224294176], [-2.3868279, 9.0], [0.0, 9.0]], [\"M\", \"C\", \"C\", \"C\", \"C\", \"C\", \"C\", \"C\", \"C\", \"Z\"]], \"edgecolor\": \"none\", \"data\": \"data06\", \"alpha\": 1, \"xindex\": 0, \"facecolor\": \"#D95F02\", \"yindex\": 2, \"id\": \"el12773140126631745632pts\", \"edgewidth\": 0.5}, {\"coordinates\": \"axes\", \"zorder\": 1000002.0, \"markerpath\": [[[0.0, 9.0], [2.3868279, 9.0], [4.676218837063681, 8.051703224294176], [6.3639610306789285, 6.3639610306789285], [8.051703224294176, 4.676218837063681], [9.0, 2.3868279], [9.0, 0.0], [9.0, -2.3868279], [8.051703224294176, -4.676218837063681], [6.3639610306789285, -6.3639610306789285], [4.676218837063681, -8.051703224294176], [2.3868279, -9.0], [0.0, -9.0], [-2.3868279, -9.0], [-4.676218837063681, -8.051703224294176], [-6.3639610306789285, -6.3639610306789285], [-8.051703224294176, -4.676218837063681], [-9.0, -2.3868279], [-9.0, 0.0], [-9.0, 2.3868279], [-8.051703224294176, 4.676218837063681], [-6.3639610306789285, 6.3639610306789285], [-4.676218837063681, 8.051703224294176], [-2.3868279, 9.0], [0.0, 9.0]], [\"M\", \"C\", \"C\", \"C\", \"C\", \"C\", \"C\", \"C\", \"C\", \"Z\"]], \"edgecolor\": \"none\", \"data\": \"data06\", \"alpha\": 1, \"xindex\": 0, \"facecolor\": \"#7570B3\", \"yindex\": 3, \"id\": \"el12773140126631771216pts\", \"edgewidth\": 0.5}, {\"coordinates\": \"axes\", \"zorder\": 1000002.0, \"markerpath\": [[[0.0, 9.0], [2.3868279, 9.0], [4.676218837063681, 8.051703224294176], [6.3639610306789285, 6.3639610306789285], [8.051703224294176, 4.676218837063681], [9.0, 2.3868279], [9.0, 0.0], [9.0, -2.3868279], [8.051703224294176, -4.676218837063681], [6.3639610306789285, -6.3639610306789285], [4.676218837063681, -8.051703224294176], [2.3868279, -9.0], [0.0, -9.0], [-2.3868279, -9.0], [-4.676218837063681, -8.051703224294176], [-6.3639610306789285, -6.3639610306789285], [-8.051703224294176, -4.676218837063681], [-9.0, -2.3868279], [-9.0, 0.0], [-9.0, 2.3868279], [-8.051703224294176, 4.676218837063681], [-6.3639610306789285, 6.3639610306789285], [-4.676218837063681, 8.051703224294176], [-2.3868279, 9.0], [0.0, 9.0]], [\"M\", \"C\", \"C\", \"C\", \"C\", \"C\", \"C\", \"C\", \"C\", \"Z\"]], \"edgecolor\": \"none\", \"data\": \"data06\", \"alpha\": 1, \"xindex\": 0, \"facecolor\": \"#E7298A\", \"yindex\": 4, \"id\": \"el12773140126631747088pts\", \"edgewidth\": 0.5}, {\"coordinates\": \"axes\", \"zorder\": 1000002.0, \"markerpath\": [[[0.0, 9.0], [2.3868279, 9.0], [4.676218837063681, 8.051703224294176], [6.3639610306789285, 6.3639610306789285], [8.051703224294176, 4.676218837063681], [9.0, 2.3868279], [9.0, 0.0], [9.0, -2.3868279], [8.051703224294176, -4.676218837063681], [6.3639610306789285, -6.3639610306789285], [4.676218837063681, -8.051703224294176], [2.3868279, -9.0], [0.0, -9.0], [-2.3868279, -9.0], [-4.676218837063681, -8.051703224294176], [-6.3639610306789285, -6.3639610306789285], [-8.051703224294176, -4.676218837063681], [-9.0, -2.3868279], [-9.0, 0.0], [-9.0, 2.3868279], [-8.051703224294176, 4.676218837063681], [-6.3639610306789285, 6.3639610306789285], [-4.676218837063681, 8.051703224294176], [-2.3868279, 9.0], [0.0, 9.0]], [\"M\", \"C\", \"C\", \"C\", \"C\", \"C\", \"C\", \"C\", \"C\", \"Z\"]], \"edgecolor\": \"none\", \"data\": \"data06\", \"alpha\": 1, \"xindex\": 0, \"facecolor\": \"#66A61E\", \"yindex\": 5, \"id\": \"el12773140126631797704pts\", \"edgewidth\": 0.5}], \"sharey\": [], \"xdomain\": [-0.7022243585349199, 0.7098185051203891], \"paths\": [{\"coordinates\": \"axes\", \"dasharray\": \"10,0\", \"zorder\": 1000001.0, \"alpha\": 1, \"facecolor\": \"#FFFFFF\", \"yindex\": 1, \"edgewidth\": 1.0, \"id\": \"el12773140126631625224\", \"edgecolor\": \"#000000\", \"data\": \"data07\", \"xindex\": 0, \"pathcodes\": [\"M\", \"L\", \"L\", \"L\", \"Z\"]}], \"ydomain\": [-0.7081377832177825, 0.6939033427606786], \"axesbg\": \"#FFFFFF\", \"xscale\": \"linear\", \"axes\": [{\"grid\": {\"gridOn\": false}, \"tickvalues\": [], \"nticks\": 0, \"position\": \"bottom\", \"fontsize\": null, \"tickformat\": \"\", \"scale\": \"linear\"}, {\"grid\": {\"gridOn\": false}, \"tickvalues\": [], \"nticks\": 0, \"position\": \"left\", \"fontsize\": null, \"tickformat\": \"\", \"scale\": \"linear\"}], \"axesbgalpha\": null, \"zoomable\": true, \"yscale\": \"linear\", \"sharex\": [], \"collections\": [], \"xlim\": [-0.7022243585349199, 0.7098185051203891], \"lines\": [], \"id\": \"el12773140126621804584\", \"bbox\": [0.125, 0.125, 0.775, 0.775]}], \"data\": {\"data02\": [[-0.258417253284027, -0.2652260221436388], [-0.22762167926505814, 0.06857695283204854], [-0.4301012825198393, 0.2854141396127525], [-0.3528182922735947, 0.12701319394680938], [-0.5522759511779272, -0.22475587495166363], [0.41546634085583234, 0.4069688257035027], [-0.6622608812616565, -0.20511076586859073], [-0.4599154070542705, 0.007654714663857465], [-0.34166307376918104, 0.03630579254966726], [-0.3415780134445779, -0.06842764695433033], [-0.33941629334547235, -0.15117828334141054], [-0.18745722681366755, 0.15085562479813835], [-0.46600115683767945, -0.09932904605351045], [-0.5791581543162552, 0.29025774220332035], [-0.2083933734933721, -0.058574052865909366], [-0.1995916680206842, 0.0064165474101231254]], \"data04\": [[-0.48428094266733496, 0.17299840565537866], [-0.34160570270008384, 0.6344808506574434], [0.4192021972350015, 0.5854520485169515], [-0.17104806655713084, 0.23239528561346245], [0.6698550278471257, 0.11893281852637148], [-0.2037332777288499, 0.5597834903655693], [0.40204400902943815, 0.498701667453783], [0.6677627104186503, 0.26949909097813], [-0.02227777502359704, 0.33877773486584417], [0.06195871862089496, 0.6100873144577459], [-0.6012495190001138, -0.04195024831025676], [0.6272943977307884, 0.3595046830327616]], \"data01\": [[-0.031704356749774315, -0.45668597931827065], [0.05785577310053593, 0.25692858718863093], [0.05839869253028608, -0.04611702740890181], [-0.43453170540719366, -0.29660613828269616], [0.6037636767904756, -0.34565548304904037], [0.3547936331378034, 0.008290710365072116], [-0.021733999952444738, -0.042720767809052894], [0.5177717200812387, -0.2536540302931725], [0.43342020294859956, 0.14567841987345992], [0.3432853030249946, 0.246006709745588], [0.31816539769255964, 0.08775294364571601], [-0.19659297207639648, 0.3957261088660333], [0.34423528399454734, -0.13020602386402164], [0.16075133608675513, -0.11942129559742261], [0.15640009437168323, -0.21297986976225988], [0.18341909271393095, 0.3029016910056736], [0.12096767900038803, 0.4812637440714905], [0.12587206202926585, 0.4177788692597201], [0.220078542503727, 0.4800518402232757], [0.4819436407032279, 0.008023079596038808], [0.47591168977268594, -0.4358076517203701], [0.27514357721327537, -0.29426793132752815], [-0.3243215990367419, 0.3312982383148728], [0.3244183710745198, -0.45650361180937427], [0.18464212048810344, 0.5791967329426072]], \"data03\": [[0.1842639196948847, -0.011698423371132152], [-0.1322921736434466, 0.5745109123612222], [0.011870129083831693, 0.4624853574054067], [0.07160786733633107, 0.13140355942960508], [-0.05335737382032607, 0.12312849271489654], [0.5306515354145532, 0.1294497101088675], [-0.28462977611146373, 0.2756306109086089], [0.21420712139192538, 0.2183286793356958], [0.4928761771808502, -0.1411107487904908], [-0.06989475411532176, 0.569705539011805], [-0.5962637921066579, 0.19021678812015821], [0.20867878615651633, 0.06434284629527791], [0.5656255199388547, 0.34237017859020485], [-0.4208318237068076, 0.46280088153288335], [-0.30315863958813255, 0.4758732388739999], [0.6448617791922985, -0.15574388957552057], [-0.18148082579748032, 0.4766013154583243], [-0.02882418924007409, 0.654222933534873], [0.6688326628289069, -0.08783277088604606], [-0.552165502285474, 0.028845815397586044], [-0.581074334873682, 0.10578299005618616]], \"data05\": [[0.4420542765535735, -0.2786832170112155], [-0.25091001948814, -0.5748364190982864], [0.5525828106324346, 0.49022359259865306], [0.19843470887949946, -0.3892802726823152], [0.35007455070415944, -0.33949066390038307], [-0.08237740002772587, -0.5784292658683906], [-0.016290419113439557, -0.6355726160881316], [0.019734051171252757, -0.6360367105738866], [0.2438433076495576, -0.5041202087221548], [0.08014906600330879, -0.4799020818182777], [-0.15255045823070493, -0.3408753845517839], [-0.020081825875353215, -0.35718794655762914], [-0.15297793113902683, -0.30140577453193457], [-0.22758349812136536, -0.45047495075469096], [0.12888676337410168, -0.668457373991977], [0.07966541763901362, -0.3889609926197951], [-0.34784460975136144, -0.3258414653409745], [-0.3608951277095703, -0.48195991352901957], [-0.11265730034344344, -0.4993121670686306], [0.1827109977144634, -0.5787464521608237], [-0.08782998361951912, -0.2007423698086272], [-0.18336929431804472, -0.5551182889814734], [-0.5516219950653584, 0.3348728982305264], [-0.5674021212107925, -0.35376317678446884], [-0.45337586370615407, -0.44518883037029683], [0.33505791724913486, -0.6458208127368436]], \"data07\": [[0.7285306259600616, 0.7069892473118278], [0.9923195084485409, 0.7069892473118278], [0.9923195084485409, 0.9820788530465947], [0.7285306259600616, 0.9820788530465947]], \"data06\": [[0.7500360023041476, 0.9534050179211467, 0.9005376344086019, 0.8476702508960573, 0.7948028673835125, 0.7419354838709676]]}, \"id\": \"el12773140126652262104\", \"plugins\": [{\"type\": \"reset\"}, {\"type\": \"zoom\", \"enabled\": false, \"button\": true}, {\"type\": \"boxzoom\", \"enabled\": false, \"button\": true}, {\"voffset\": 10, \"type\": \"htmltooltip\", \"id\": \"el12773140126631626736pts\", \"labels\": [\"Schindler's List\", \"One Flew Over the Cuckoo's Nest\", \"Gone with the Wind\", \"The Wizard of Oz\", \"Titanic\", \"Forrest Gump\", \"E.T. the Extra-Terrestrial\", \"The Silence of the Lambs\", \"Gandhi\", \"A Streetcar Named Desire\", \"The Best Years of Our Lives\", \"My Fair Lady\", \"Ben-Hur\", \"Doctor Zhivago\", \"The Pianist\", \"The Exorcist\", \"Out of Africa\", \"Good Will Hunting\", \"Terms of Endearment\", \"Giant\", \"The Grapes of Wrath\", \"Close Encounters of the Third Kind\", \"The Graduate\", \"Stagecoach\", \"Wuthering Heights\"], \"hoffset\": 10}, {\"type\": \"toptoolbar\"}, {\"voffset\": 10, \"type\": \"htmltooltip\", \"id\": \"el12773140126607109648pts\", \"labels\": [\"Casablanca\", \"Psycho\", \"Sunset Blvd.\", \"Vertigo\", \"Chinatown\", \"Amadeus\", \"High Noon\", \"The French Connection\", \"Fargo\", \"Pulp Fiction\", \"The Maltese Falcon\", \"A Clockwork Orange\", \"Double Indemnity\", \"Rebel Without a Cause\", \"The Third Man\", \"North by Northwest\"], \"hoffset\": 10}, {\"type\": \"toptoolbar\"}, {\"voffset\": 10, \"type\": \"htmltooltip\", \"id\": \"el12773140126631625168pts\", \"labels\": [\"The Godfather\", \"Raging Bull\", \"Citizen Kane\", \"The Godfather: Part II\", \"On the Waterfront\", \"12 Angry Men\", \"Rocky\", \"To Kill a Mockingbird\", \"Braveheart\", \"The Good, the Bad and the Ugly\", \"The Apartment\", \"Goodfellas\", \"City Lights\", \"It Happened One Night\", \"Midnight Cowboy\", \"Mr. Smith Goes to Washington\", \"Rain Man\", \"Annie Hall\", \"Network\", \"Taxi Driver\", \"Rear Window\"], \"hoffset\": 10}, {\"type\": \"toptoolbar\"}, {\"voffset\": 10, \"type\": \"htmltooltip\", \"id\": \"el12773140126468594936pts\", \"labels\": [\"West Side Story\", \"Singin' in the Rain\", \"It's a Wonderful Life\", \"Some Like It Hot\", \"The Philadelphia Story\", \"An American in Paris\", \"The King's Speech\", \"A Place in the Sun\", \"Tootsie\", \"Nashville\", \"American Graffiti\", \"Yankee Doodle Dandy\"], \"hoffset\": 10}, {\"type\": \"toptoolbar\"}, {\"voffset\": 10, \"type\": \"htmltooltip\", \"id\": \"el12773140126631639696pts\", \"labels\": [\"The Shawshank Redemption\", \"Lawrence of Arabia\", \"The Sound of Music\", \"Star Wars\", \"2001: A Space Odyssey\", \"The Bridge on the River Kwai\", \"Dr. Strangelove or: How I Learned to Stop Worrying and Love the Bomb\", \"Apocalypse Now\", \"The Lord of the Rings: The Return of the King\", \"Gladiator\", \"From Here to Eternity\", \"Saving Private Ryan\", \"Unforgiven\", \"Raiders of the Lost Ark\", \"Patton\", \"Jaws\", \"Butch Cassidy and the Sundance Kid\", \"The Treasure of the Sierra Madre\", \"Platoon\", \"Dances with Wolves\", \"The Deer Hunter\", \"All Quiet on the Western Front\", \"Shane\", \"The Green Mile\", \"The African Queen\", \"Mutiny on the Bounty\"], \"hoffset\": 10}, {\"type\": \"toptoolbar\"}], \"width\": 1120.0, \"height\": 480.0});\n",
       "            })\n",
       "         });\n",
       "}\n",
       "</script>"
      ],
      "text/plain": [
       "<IPython.core.display.HTML object>"
      ]
     },
     "execution_count": 74,
     "metadata": {},
     "output_type": "execute_result"
    }
   ],
   "source": [
    "#create data frame that has the result of the MDS plus the cluster numbers and titles\n",
    "df = pd.DataFrame(dict(x=xs, y=ys, label=clusters, title=titles)) \n",
    "\n",
    "#group by cluster\n",
    "groups = df.groupby('label')\n",
    "\n",
    "#define custom css to format the font and to remove the axis labeling\n",
    "css = \"\"\"\n",
    "text.mpld3-text, div.mpld3-tooltip {\n",
    "  font-family:Arial, Helvetica, sans-serif;\n",
    "}\n",
    "\n",
    "g.mpld3-xaxis, g.mpld3-yaxis {\n",
    "display: none; }\n",
    "\"\"\"\n",
    "\n",
    "# Plot \n",
    "fig, ax = plt.subplots(figsize=(14,6)) #set plot size\n",
    "ax.margins(0.03) # Optional, just adds 5% padding to the autoscaling\n",
    "\n",
    "#iterate through groups to layer the plot\n",
    "#note that I use the cluster_name and cluster_color dicts with the 'name' lookup to return the appropriate color/label\n",
    "for name, group in groups:\n",
    "    points = ax.plot(group.x, group.y, marker='o', linestyle='', ms=18, label=cluster_names[name], mec='none', color=cluster_colors[name])\n",
    "    ax.set_aspect('auto')\n",
    "    labels = [i for i in group.title]\n",
    "    \n",
    "    #set tooltip using points, labels and the already defined 'css'\n",
    "    tooltip = mpld3.plugins.PointHTMLTooltip(points[0], labels,\n",
    "                                       voffset=10, hoffset=10, css=css)\n",
    "    #connect tooltip to fig\n",
    "    mpld3.plugins.connect(fig, tooltip, TopToolbar())    \n",
    "    \n",
    "    #set tick marks as blank\n",
    "    ax.axes.get_xaxis().set_ticks([])\n",
    "    ax.axes.get_yaxis().set_ticks([])\n",
    "    \n",
    "    #set axis as blank\n",
    "    ax.axes.get_xaxis().set_visible(False)\n",
    "    ax.axes.get_yaxis().set_visible(False)\n",
    "\n",
    "    \n",
    "ax.legend(numpoints=1) #show legend with only one dot\n",
    "\n",
    "mpld3.display() #show the plot\n",
    "\n",
    "#uncomment the below to export to html\n",
    "#html = mpld3.fig_to_html(fig)\n",
    "#print(html)"
   ]
  },
  {
   "cell_type": "markdown",
   "metadata": {},
   "source": [
    "# Hierarchical document clustering"
   ]
  },
  {
   "cell_type": "code",
   "execution_count": 75,
   "metadata": {
    "collapsed": false
   },
   "outputs": [
    {
     "data": {
      "image/png": "[encoded data removed]",
      "text/plain": [
       "<matplotlib.figure.Figure at 0x7f71c7551ef0>"
      ]
     },
     "metadata": {},
     "output_type": "display_data"
    }
   ],
   "source": [
    "from scipy.cluster.hierarchy import ward, dendrogram\n",
    "\n",
    "linkage_matrix = ward(dist) #define the linkage_matrix using ward clustering pre-computed distances\n",
    "\n",
    "fig, ax = plt.subplots(figsize=(15, 20)) # set size\n",
    "ax = dendrogram(linkage_matrix, orientation=\"right\", labels=titles);\n",
    "\n",
    "plt.tick_params(\\\n",
    "    axis= 'x',          # changes apply to the x-axis\n",
    "    which='both',      # both major and minor ticks are affected\n",
    "    bottom='off',      # ticks along the bottom edge are off\n",
    "    top='off',         # ticks along the top edge are off\n",
    "    labelbottom='off')\n",
    "\n",
    "plt.tight_layout() #show plot with tight layout\n",
    "\n",
    "#uncomment below to save figure\n",
    "plt.savefig('ward_clusters.png', dpi=200) #save figure as ward_clusters"
   ]
  },
  {
   "cell_type": "code",
   "execution_count": 76,
   "metadata": {
    "collapsed": false
   },
   "outputs": [],
   "source": [
    "plt.close()"
   ]
  },
  {
   "cell_type": "markdown",
   "metadata": {},
   "source": [
    "# Latent Dirichlet Allocation"
   ]
  },
  {
   "cell_type": "code",
   "execution_count": 77,
   "metadata": {
    "collapsed": false
   },
   "outputs": [],
   "source": [
    "#strip any proper names from a text...unfortunately right now this is yanking the first word from a sentence too.\n",
    "import string\n",
    "def strip_proppers(text):\n",
    "    # first tokenize by sentence, then by word to ensure that punctuation is caught as it's own token\n",
    "    tokens = [word for sent in nltk.sent_tokenize(text) for word in nltk.word_tokenize(sent) if word.islower()]\n",
    "    return \"\".join([\" \"+i if not i.startswith(\"'\") and i not in string.punctuation else i for i in tokens]).strip()"
   ]
  },
  {
   "cell_type": "code",
   "execution_count": 78,
   "metadata": {
    "collapsed": false
   },
   "outputs": [],
   "source": [
    "#strip any proper nouns (NNP) or plural proper nouns (NNPS) from a text\n",
    "from nltk.tag import pos_tag\n",
    "\n",
    "def strip_proppers_POS(text):\n",
    "    tagged = pos_tag(text.split()) #use NLTK's part of speech tagger\n",
    "    non_propernouns = [word for word,pos in tagged if pos != 'NNP' and pos != 'NNPS']\n",
    "    return non_propernouns"
   ]
  },
  {
   "cell_type": "code",
   "execution_count": 79,
   "metadata": {
    "collapsed": false
   },
   "outputs": [
    {
     "name": "stdout",
     "output_type": "stream",
     "text": [
      "CPU times: user 4.75 s, sys: 0 ns, total: 4.75 s\n",
      "Wall time: 4.75 s\n",
      "CPU times: user 408 ms, sys: 4 ms, total: 412 ms\n",
      "Wall time: 412 ms\n"
     ]
    }
   ],
   "source": [
    "#Latent Dirichlet Allocation implementation with Gensim\n",
    "\n",
    "from gensim import corpora, models, similarities \n",
    "\n",
    "#remove proper names\n",
    "preprocess = [strip_proppers(doc) for doc in synopses]\n",
    "\n",
    "%time tokenized_text = [tokenize_and_stem(text) for text in preprocess]\n",
    "\n",
    "%time texts = [[word for word in text if word not in stopwords] for text in tokenized_text]"
   ]
  },
  {
   "cell_type": "code",
   "execution_count": 80,
   "metadata": {
    "collapsed": false
   },
   "outputs": [
    {
     "name": "stdout",
     "output_type": "stream",
     "text": [
      "1839\n"
     ]
    }
   ],
   "source": [
    "#print(len([word for word in texts[0] if word not in stopwords]))\n",
    "print(len(texts[0]))"
   ]
  },
  {
   "cell_type": "code",
   "execution_count": 81,
   "metadata": {
    "collapsed": false
   },
   "outputs": [],
   "source": [
    "dictionary = corpora.Dictionary(texts)\n",
    "dictionary.filter_extremes(no_below=1, no_above=0.8)\n",
    "corpus = [dictionary.doc2bow(text) for text in texts]"
   ]
  },
  {
   "cell_type": "code",
   "execution_count": 82,
   "metadata": {
    "collapsed": false
   },
   "outputs": [
    {
     "data": {
      "text/plain": [
       "100"
      ]
     },
     "execution_count": 82,
     "metadata": {},
     "output_type": "execute_result"
    }
   ],
   "source": [
    "len(corpus)"
   ]
  },
  {
   "cell_type": "code",
   "execution_count": 83,
   "metadata": {
    "collapsed": false
   },
   "outputs": [
    {
     "name": "stdout",
     "output_type": "stream",
     "text": [
      "CPU times: user 5min 10s, sys: 276 ms, total: 5min 11s\n",
      "Wall time: 5min 10s\n"
     ]
    }
   ],
   "source": [
    "%time lda = models.LdaModel(corpus, num_topics=5, id2word=dictionary, update_every=5, chunksize=10000, passes=100)"
   ]
  },
  {
   "cell_type": "code",
   "execution_count": 84,
   "metadata": {
    "collapsed": false
   },
   "outputs": [
    {
     "name": "stdout",
     "output_type": "stream",
     "text": [
      "[(0, 0.99950490726250485)]\n"
     ]
    }
   ],
   "source": [
    "print(lda[corpus[0]])"
   ]
  },
  {
   "cell_type": "code",
   "execution_count": 85,
   "metadata": {
    "collapsed": false
   },
   "outputs": [],
   "source": [
    "topics = lda.print_topics(5, num_words=20)"
   ]
  },
  {
   "cell_type": "code",
   "execution_count": 112,
   "metadata": {
    "collapsed": false
   },
   "outputs": [],
   "source": [
    "topics_matrix = lda.show_topics(formatted=False, num_words=20)"
   ]
  },
  {
   "cell_type": "code",
   "execution_count": 114,
   "metadata": {
    "collapsed": false
   },
   "outputs": [
    {
     "data": {
      "text/plain": [
       "(0,\n",
       " [('kill', 0.0064006750095094876),\n",
       "  ('famili', 0.0060504577850370818),\n",
       "  ('meet', 0.0051520378977228127),\n",
       "  ('ask', 0.0047850213990042832),\n",
       "  ('say', 0.0043721636790960096),\n",
       "  ('father', 0.0043324617235229144),\n",
       "  ('home', 0.0042102521789343953),\n",
       "  ('day', 0.0038408242789281476),\n",
       "  ('friend', 0.0035118225958194831),\n",
       "  ('help', 0.0034007757687734602),\n",
       "  ('go', 0.0033026304537734827),\n",
       "  ('arriv', 0.0032442129002973517),\n",
       "  ('night', 0.0031421487250824116),\n",
       "  ('two', 0.003112005113858317),\n",
       "  ('car', 0.0030835344849231136),\n",
       "  ('also', 0.0029869013788837904),\n",
       "  ('name', 0.00296672177453732),\n",
       "  ('die', 0.0029530148473153922),\n",
       "  ('death', 0.0029058280494345884),\n",
       "  ('way', 0.0029020122971938336)])"
      ]
     },
     "execution_count": 114,
     "metadata": {},
     "output_type": "execute_result"
    }
   ],
   "source": [
    "topics_matrix[0]"
   ]
  },
  {
   "cell_type": "code",
   "execution_count": 115,
   "metadata": {
    "collapsed": false
   },
   "outputs": [
    {
     "data": {
      "text/html": [
       "\n",
       "<link rel=\"stylesheet\" type=\"text/css\" href=\"https://cdn.rawgit.com/bmabey/pyLDAvis/files/ldavis.v1.0.0.css\">\n",
       "\n",
       "\n",
       "<div id=\"ldavis_el127731401266404818886659638683\"></div>\n",
       "<script type=\"text/javascript\">\n",
       "\n",
       "var ldavis_el127731401266404818886659638683_data = {\"plot.opts\": {\"xlab\": \"PC1\", \"ylab\": \"PC2\"}, \"token.table\": {\"Topic\": [5, 5, 2, 1, 3, 5, 1, 3, 1, 2, 3, 4, 5, 1, 3, 5, 1, 2, 1, 2, 4, 5, 2, 1, 2, 3, 4, 5, 5, 1, 2, 3, 4, 5, 1, 2, 3, 4, 5, 5, 2, 5, 4, 1, 2, 3, 4, 5, 5, 1, 2, 3, 4, 5, 2, 3, 2, 2, 3, 4, 1, 1, 2, 3, 4, 5, 1, 2, 3, 4, 5, 3, 1, 2, 1, 2, 4, 5, 1, 2, 4, 5, 3, 3, 1, 2, 3, 2, 3, 5, 5, 1, 2, 3, 4, 5, 1, 2, 4, 5, 1, 2, 3, 4, 5, 1, 2, 3, 4, 5, 1, 3, 4, 5, 1, 1, 2, 3, 4, 1, 2, 3, 4, 5, 4, 2, 1, 2, 3, 4, 5, 1, 2, 3, 4, 5, 5, 5, 1, 2, 3, 4, 5, 2, 3, 1, 2, 3, 5, 1, 2, 3, 4, 5, 4, 1, 2, 3, 4, 5, 2, 1, 5, 1, 2, 3, 4, 5, 1, 1, 4, 1, 5, 1, 4, 5, 1, 2, 3, 5, 3, 1, 5, 1, 2, 3, 4, 5, 1, 2, 3, 4, 5, 5, 1, 2, 3, 4, 5, 2, 5, 1, 1, 2, 3, 4, 5, 1, 2, 3, 4, 5, 2, 3, 4, 5, 1, 4, 5, 2, 4, 1, 2, 3, 4, 5, 3, 3, 1, 2, 3, 4, 5, 3, 5, 1, 1, 1, 2, 3, 4, 5, 2, 5, 3, 1, 2, 3, 4, 5, 5, 1, 2, 3, 4, 1, 3, 5, 1, 2, 3, 4, 5, 1, 2, 3, 4, 5, 4, 1, 2, 3, 4, 5, 1, 2, 3, 4, 5, 1, 2, 3, 4, 5, 1, 2, 3, 4, 5, 2, 3, 1, 2, 3, 4, 5, 4, 2, 3, 1, 2, 1, 2, 3, 4, 5, 1, 1, 5, 1, 2, 3, 4, 3, 5, 1, 2, 1, 2, 3, 4, 5, 1, 1, 2, 3, 4, 5, 1, 2, 3, 4, 5, 5, 5, 3, 1, 2, 4, 5, 2, 3, 2, 5, 1, 4, 3, 1, 2, 1, 2, 3, 4, 5, 5, 1, 2, 3, 4, 5, 3, 1, 2, 3, 4, 5, 1, 2, 3, 4, 5, 2, 5, 1, 2, 3, 4, 5, 1, 2, 3, 4, 5, 2, 3, 1, 4, 4, 5, 1, 2, 3, 4, 5, 1, 2, 3, 1, 2, 3, 4, 5, 1, 2, 5, 4, 1, 2, 3, 4, 5, 1, 1, 3, 1, 2, 3, 4, 5, 4, 1, 2, 3, 4, 5, 1, 2, 3, 4, 5, 2, 3, 1, 2, 3, 4, 5, 1, 2, 3, 4, 5, 1, 2, 3, 4, 5, 1, 2, 3, 4, 5, 1, 2, 3, 4, 5, 1, 3, 1, 4, 1, 1, 2, 3, 4, 5, 1, 2, 3, 4, 5, 1, 3, 5, 3, 3, 1, 1, 2, 3, 1, 2, 3, 4, 5, 2, 2, 2, 1, 1, 2, 3, 4, 5, 3, 1, 2, 3, 4, 5, 1, 2, 3, 4, 5, 1, 2, 3, 4, 5, 2, 1, 2, 3, 4, 5, 1, 2, 3, 4, 5, 1, 3, 1, 2, 3, 4, 5, 1, 2, 3, 4, 5, 1, 2, 3, 1, 2, 3, 4, 5, 1, 2, 3, 4, 5, 5, 1, 2, 3, 4, 5, 4, 5, 1, 2, 4, 5, 1, 1, 3, 4, 5, 1, 1, 2, 3, 4, 5, 1, 2, 3, 4, 5, 4, 1, 1, 2, 3, 4, 5, 1, 2, 3, 4, 5, 2, 3, 2, 4, 1, 2, 3, 4, 5, 2, 3, 1, 2, 3, 4, 5, 3, 1, 2, 3, 2, 3, 4, 3, 3, 1, 2, 3, 4, 5, 4, 1, 2, 4, 5, 2, 4, 4, 4, 2, 3, 5, 4, 1, 2, 3, 4, 5, 1, 2, 3, 4, 5, 1, 2, 3, 4, 1, 2, 3, 5, 2, 1, 2, 3, 4, 5, 2, 2, 4, 5, 4, 2, 3, 1, 2, 3, 4, 5, 2, 1, 1, 2, 3, 4, 5, 1, 2, 3, 4, 5, 2, 4, 5, 2, 1, 1, 2, 3, 4, 5, 1, 2, 3, 4, 5, 1, 2, 3, 4, 5, 1, 4, 1, 2, 3, 4, 5, 2, 4, 2, 1, 2, 3, 4, 5, 1, 2, 3, 4, 5, 2, 3, 1, 2, 3, 4, 5, 4, 2, 4, 5, 1, 2, 4, 5, 2, 4, 5, 1, 2, 3, 4, 5, 1, 2, 3, 4, 5, 4, 5, 4, 3, 5, 1, 2, 5, 1, 2, 3, 5, 2, 4, 1, 2, 3, 4, 5, 1, 2, 3, 4, 5, 1, 2, 3, 1, 3, 4, 5, 3, 1, 2, 3, 4, 5, 2, 4, 5, 5, 3, 1, 2, 3, 4, 5, 3, 4, 5, 2, 5, 1, 2, 3, 4, 5, 1, 4, 5, 1, 2, 3, 5, 1, 2, 3, 4, 5, 1, 2, 4, 3, 5, 1, 2, 3, 4, 5, 3, 2, 3, 1, 2, 1, 2, 3, 4, 5, 3, 1, 2, 3, 4, 2, 3, 1, 2, 3, 3, 5, 4, 1, 2, 3, 4, 5, 4, 1, 4, 1, 2, 3, 5, 1, 2, 3, 4, 5, 4, 1, 2, 3, 4, 1, 3, 4, 5, 1, 2, 3, 4, 5, 1, 2, 3, 4, 5, 1, 2, 3, 4, 5, 1, 3, 5, 4, 5, 1, 2, 3, 4, 5, 4, 1, 2, 3, 4, 5, 1, 2, 4, 1, 2, 3, 4, 5, 1, 2, 3, 4, 5, 3, 2, 2, 1, 1, 2, 3, 4, 5, 1, 2, 3, 4, 5, 1, 1, 2, 3, 4, 5, 1, 3, 5, 1, 2, 3, 4, 5], \"Freq\": [0.9588192543716916, 0.9588144586654956, 0.960061076342339, 0.9388442235624097, 0.95800548224438, 0.9437064463273594, 0.08611633897914313, 0.9042215592810028, 0.31175427875718625, 0.1506228537815619, 0.17514285323437428, 0.20666856681656165, 0.15762856791093685, 0.06336676631894146, 0.06336676631894146, 0.823767962146239, 0.03948275506198381, 0.9475861214876113, 0.36556910918274493, 0.053616802680135925, 0.35094634481543513, 0.22421572029875023, 0.9777771415980117, 0.2780764923935801, 0.24099962674110276, 0.10505111934868581, 0.049435820869969796, 0.3275123132635499, 0.9437212192303639, 0.2547013718710704, 0.2281699789678339, 0.2600076504517177, 0.1114318501935933, 0.14592266096780074, 0.3240472395920905, 0.15289552853993002, 0.15974159698201643, 0.20538205326259257, 0.15517755135395883, 0.9588192543766526, 0.8987988533907432, 0.05617492833692145, 0.9388785279475027, 0.33193513772503663, 0.2568545708586593, 0.1580643512976365, 0.12645148103810921, 0.12645148103810921, 0.9243213227358991, 0.25901077194849814, 0.19259775350016528, 0.19259775350016528, 0.18263580073291535, 0.17599449888808205, 0.8677356786708664, 0.13349779671859485, 0.9777783699105026, 0.8418316403888819, 0.04106495806775034, 0.10266239516937584, 0.959879952216331, 0.25386818331064065, 0.1915145944273254, 0.13361483332138982, 0.26722966664277964, 0.15588397220828812, 0.2719874124536561, 0.10879496498146245, 0.2393489229592174, 0.20671043346477866, 0.17407194397033993, 0.9700634025666832, 0.9243557882997836, 0.9482483478927358, 0.04487951781171768, 0.08975903562343536, 0.04487951781171768, 0.8078313206109182, 0.008749738317894976, 0.8574743551537076, 0.07874764486105479, 0.05249842990736985, 0.958005482271425, 0.9580054347590657, 0.23795981929591675, 0.1903678554367334, 0.5711035663102002, 0.0718241599973058, 0.7900657599703639, 0.0718241599973058, 0.9588192543430678, 0.16915219263265557, 0.19421177672638232, 0.1065032323983387, 0.2130064647966774, 0.31324480117158443, 0.015918850059994494, 0.9392121535396751, 0.015918850059994494, 0.015918850059994494, 0.22425814673546185, 0.1345548880412771, 0.11960434492557966, 0.26611966745941473, 0.2541592329668568, 0.2896857042236828, 0.20977240650680476, 0.4295339752282193, 0.039956648858439005, 0.029967486643829252, 0.27579608679721035, 0.030644009644134485, 0.06128801928826897, 0.6435242025268242, 0.9388502839444614, 0.13912359573407188, 0.6492434467590021, 0.06956179786703594, 0.13912359573407188, 0.30548294435911155, 0.1461005386065316, 0.1328186714604833, 0.11621633752792287, 0.30216247757259945, 0.9196724835571615, 0.9482483903157525, 0.2070115204729557, 0.0690038401576519, 0.03450192007882595, 0.6555364814976931, 0.03450192007882595, 0.13106070918380403, 0.05242428367352161, 0.7339399714293026, 0.026212141836760804, 0.05242428367352161, 0.92432132838002, 0.9352091016709286, 0.5027194949339647, 0.1281441849831675, 0.11828693998446228, 0.11828693998446228, 0.14785867498057786, 0.13453892643619447, 0.8072335586171667, 0.8937733239329632, 0.0812521203575421, 0.9377039727293136, 0.04688519863646568, 0.25357516438284117, 0.1924727151339638, 0.17719710282174445, 0.19552783759640766, 0.1802522252841883, 0.9538178693343545, 0.15392038776328668, 0.41558504696087406, 0.21548854286860136, 0.05387213571715034, 0.16931242653961534, 0.969724468749301, 0.10250757318724138, 0.820060585497931, 0.504651773098878, 0.11928132818700751, 0.11928132818700751, 0.1468077885378554, 0.11010584140339155, 0.9677692853865445, 0.923492907535092, 0.9388785316803411, 0.0673444572833524, 0.8754779446835811, 0.9243557882395299, 0.13479132473093533, 0.8087479483856119, 0.0371387216426591, 0.0371387216426591, 0.8170518761385002, 0.0742774432853182, 0.9240735086309039, 0.9744498196524153, 0.9437221142374563, 0.4873336140791602, 0.1491837594119878, 0.06961908772559432, 0.159129343372787, 0.12929259149038944, 0.3220501412500465, 0.18080007929827172, 0.1327750582346683, 0.1836250805373072, 0.18080007929827172, 0.9588192543989789, 0.3579363905584624, 0.34128818634644087, 0.15399588896119892, 0.06659281684808603, 0.07907897000710215, 0.977777141594207, 0.924319515795352, 0.9598799512527961, 0.10478422023399149, 0.36092342525041515, 0.43077957207307616, 0.09314152909688132, 0.011642691137110165, 0.3529572833369983, 0.24466357140405562, 0.17647864166849914, 0.07219580795529511, 0.15241337235006744, 0.20186293529801272, 0.10093146764900636, 0.033643822549668786, 0.6728764509933758, 0.07943327271367821, 0.754616090779943, 0.11914990907051731, 0.9332582776429456, 0.9755498396673463, 0.19986537932358892, 0.20664047692777837, 0.17615253770892583, 0.20325292812568366, 0.21680312333406257, 0.9580054822738666, 0.8983224529831563, 0.21504344613556475, 0.21026470288810775, 0.12902606768133884, 0.13858355417625284, 0.30583956783724764, 0.9705623145528476, 0.9764784973667503, 0.9388329684017884, 0.9801632055833853, 0.29204458210657347, 0.09448501185800906, 0.15461183758583302, 0.23621252964502265, 0.22332820984620325, 0.9482483902177822, 0.9243213283587122, 0.9429357145082657, 0.5022733454160234, 0.1674244484720078, 0.1674244484720078, 0.14772745453412453, 0.009848496968941635, 0.9764771300149817, 0.035591242161722, 0.7830073275578839, 0.106773726485166, 0.071182484323444, 0.7375866421707069, 0.13829749540700753, 0.09219833027133836, 0.5220468173756142, 0.1189106639577788, 0.2639236687843383, 0.043503901447967855, 0.052204681737561424, 0.40500640433748963, 0.04709376794621972, 0.24488759332034257, 0.18209590272538295, 0.12244379666017129, 0.9196724899146285, 0.14568185758436725, 0.06517346260353271, 0.3488697115836163, 0.21852278637655087, 0.2223565194708763, 0.3214352074414647, 0.08348966427051031, 0.1335834628328165, 0.267166925665633, 0.19620071103569922, 0.15976811990187825, 0.42400001050883074, 0.2335072521642836, 0.09217391532800669, 0.09217391532800669, 0.18348896156794306, 0.17681663569274514, 0.2068421021311358, 0.24353989444472443, 0.18682512450554203, 0.9482520902834993, 0.9580054822758529, 0.2400937083781377, 0.28246318632722084, 0.13652387339149005, 0.16947791179633248, 0.17418563156845285, 0.9198535317526165, 0.08287458655422465, 0.8701831588193588, 0.9388329774269458, 0.9482483902139643, 0.2572882651367038, 0.22512723199461582, 0.18307049634727, 0.1954401244788423, 0.13606590944729527, 0.9388329684157044, 0.07694282738571111, 0.8463711012428221, 0.7151755374436587, 0.07398367628727504, 0.17262857800364176, 0.02466122542909168, 0.056797995295643326, 0.9087679247302932, 0.8585725130193826, 0.13208807892605887, 0.12895259034958947, 0.014328065594398831, 0.5587945581815544, 0.17193678713278598, 0.12895259034958947, 0.9889939437701312, 0.24425540236688284, 0.21683897965223273, 0.194407361067519, 0.1869301548726144, 0.1570213300929961, 0.2577221784274431, 0.18110207132739245, 0.18806753560921524, 0.212446660595595, 0.1567229463410127, 0.9243213283956232, 0.9243153075439029, 0.9429357144503816, 0.018834069515525787, 0.018834069515525787, 0.8286990586831346, 0.13183848660868053, 0.7916500145192287, 0.19791250362980717, 0.9600606445824797, 0.9548100288801729, 0.9744468381949655, 0.9196724920487706, 0.8983211749743749, 0.07349263347680492, 0.9186579184600615, 0.3666662138216884, 0.15247505921297935, 0.232342947372159, 0.13069290789683943, 0.11980183223876949, 0.9437193139122646, 0.308131752180845, 0.2514355097795695, 0.18734410532595377, 0.15776345711659265, 0.09613710668042365, 0.9121878641612652, 0.3095685130718652, 0.15009382451969225, 0.07504691225984612, 0.07504691225984612, 0.3939962893641921, 0.20709921959567856, 0.1523937653628578, 0.23054441426688746, 0.23835947915729042, 0.16802389514366373, 0.9600606445982237, 0.9243213283645696, 0.0500346380714285, 0.07505195710714276, 0.02501731903571425, 0.2501731903571425, 0.600415656857142, 0.2171375733249897, 0.09650558814443987, 0.08042132345369989, 0.49057007306756933, 0.10454772048980986, 0.8789448254809888, 0.06278177324864206, 0.04664179366038105, 0.9328358732076211, 0.9726611763252624, 0.970898014902117, 0.318547754947765, 0.33866656052341326, 0.17268641452431469, 0.10059402787824157, 0.06873925238346508, 0.025053669031707602, 0.050107338063415205, 0.9019320851414736, 0.33657643818091004, 0.22586050456876858, 0.1372877576790554, 0.11071593361214147, 0.18600276846839767, 0.04747316854450484, 0.7595706967120774, 0.16615608990576694, 0.9388785316955313, 0.24091279949001831, 0.26018582344921976, 0.42400652710243225, 0.009636511979600733, 0.06745558385720513, 0.9801632055028056, 0.8463057065425592, 0.1057882133178199, 0.26840413475518005, 0.14392685486871973, 0.1555965998580754, 0.1828260048332386, 0.2528444747693725, 0.9198535320215881, 0.08458354051614095, 0.22555610804304252, 0.0986807972688311, 0.4934039863441555, 0.0986807972688311, 0.258261004772481, 0.19866231136344692, 0.18276932645437116, 0.24634126609067417, 0.1152241405907992, 0.9025413620966986, 0.881937773236224, 0.33469100924843453, 0.11462020864672416, 0.19714675887236557, 0.20173156721823454, 0.1512986754136759, 0.19705288582093117, 0.11054186277759553, 0.21147138966148712, 0.19705288582093117, 0.2835639088642668, 0.11310685974913788, 0.11310685974913788, 0.02827671493728447, 0.11310685974913788, 0.6503644435575429, 0.25067971256426697, 0.13416660672453726, 0.14475870725542178, 0.25067971256426697, 0.21890341097161342, 0.03462749655067183, 0.06925499310134366, 0.17313748275335913, 0.6579224344627647, 0.06925499310134366, 0.8806927218149733, 0.08806927218149734, 0.8584810118963434, 0.06603700091510334, 0.9504103810075614, 0.3904346788178765, 0.13014489293929218, 0.17863024521079318, 0.1964932697318725, 0.10462628648060743, 0.22736841731468138, 0.3488392156060865, 0.19622205877842366, 0.1245854341450309, 0.10589761902327627, 0.07687921666684323, 0.8456713833352756, 0.9243207612539011, 0.9580054822411341, 0.8819374576355612, 0.9801654352332194, 0.9243557881800607, 0.8974053931932419, 0.10830754745435678, 0.2439737319070868, 0.14544587863691713, 0.11729506341686866, 0.28150815220048475, 0.21113111415036356, 0.9695557133739668, 0.9025451605087466, 0.9697244687542661, 0.9312012855445811, 0.2339640780792361, 0.14888623150496844, 0.3332215657492151, 0.13470659040925714, 0.1417964109571128, 0.8819378139478851, 0.37741295581083084, 0.19092655411606735, 0.03552121937043114, 0.3196909743338802, 0.07992274358347005, 0.13763828548156515, 0.18792919748444473, 0.19851675790610357, 0.23292632927649487, 0.240866999592739, 0.3275270445146493, 0.14143213285859857, 0.1563197257910826, 0.18609491165605074, 0.18981680988917174, 0.9776211901173771, 0.25999896371313347, 0.12811543139487735, 0.24115845909623973, 0.16956454155204356, 0.19970934893907355, 0.26815313956044673, 0.1412849875103429, 0.1384016204182951, 0.18165212679901233, 0.26815313956044673, 0.9599195552600338, 0.9433900792099194, 0.40956285862844083, 0.15148215319134115, 0.12904035271854986, 0.18514485390052807, 0.12342990260035204, 0.22353248946092608, 0.2719645288441267, 0.1639238256046791, 0.16764936709569456, 0.17510045007772543, 0.1917021495899191, 0.03834042991798382, 0.7668085983596764, 0.26494882174784845, 0.15497006555062834, 0.15497006555062834, 0.15497006555062834, 0.26494882174784845, 0.21735126967943588, 0.22738286674156372, 0.23072673242893965, 0.1370984931824134, 0.18725647849305246, 0.8827009356270697, 0.06157024460553299, 0.030785122302766494, 0.15392561151383247, 0.06157024460553299, 0.7080578129636294, 0.8841110782059535, 0.06315079130042524, 0.6317512392885014, 0.20306289834273258, 0.09025017704121448, 0.06768763278091086, 0.9677692946654861, 0.14477257388499795, 0.10340898134642712, 0.08272718507714169, 0.682499276886419, 0.980163213568681, 0.3135621691209403, 0.12827543282220286, 0.3705734725974749, 0.13540184575676967, 0.06413771641110143, 0.1882764821382611, 0.011075087184603594, 0.044300348738414375, 0.07752561029222516, 0.6866554054454228, 0.9388785091754568, 0.9504141055441259, 0.1799728211083344, 0.24919313691923226, 0.30918407728867703, 0.1384406316217957, 0.1199818807388896, 0.11511245453434313, 0.102322181808305, 0.5755622726717156, 0.07674163635622874, 0.12790272726038124, 0.07431214342675299, 0.8917457211210359, 0.7035498870329181, 0.2866314354578555, 0.21058196346393795, 0.23757965108751974, 0.08639260039546173, 0.3077736389088324, 0.15658658821677438, 0.8709564152600999, 0.11238147293678709, 0.2811237539573115, 0.11713489748221312, 0.28502825054005193, 0.14056187697865574, 0.17570234622331968, 0.9429357145035884, 0.8068508239172747, 0.025214088247414834, 0.17649861773190384, 0.11336098138308108, 0.8502073603731081, 0.8942727050297816, 0.9580054822707216, 0.9580054332072477, 0.15459757601401608, 0.29064344290635025, 0.06183903040560643, 0.30919515202803216, 0.17933318817625865, 0.9755498564768823, 0.14598649540068395, 0.04866216513356132, 0.7299324770034198, 0.04866216513356132, 0.960062789835957, 0.9388785316617965, 0.9538178693369218, 0.9538178693421455, 0.06531341311352805, 0.9143877835893927, 0.9656168080033621, 0.946940943136471, 0.07148732356921998, 0.1191455392820333, 0.16680375499484662, 0.5718985885537599, 0.04765821571281332, 0.24503915558887726, 0.14136874360896765, 0.16493020087712892, 0.2733129043106708, 0.1790670752380257, 0.6657390889549863, 0.10402173264921662, 0.14563042570890325, 0.0832173861193733, 0.9147538569203181, 0.7970489869028176, 0.12680324791635733, 0.07245899880934706, 0.9482483622649829, 0.20625198898983257, 0.1006107263365037, 0.21631306162348296, 0.21631306162348296, 0.2615878884749096, 0.914243444234005, 0.25013368916555506, 0.6432009149971416, 0.07146676833301574, 0.894067378939304, 0.06733620925001717, 0.8753707202502232, 0.12816548909709996, 0.18130727725931214, 0.2844648660447828, 0.23444906542152433, 0.16880332710349752, 0.8888953617831185, 0.9243557882871343, 0.12278015630371035, 0.45604058055663843, 0.2192502791137685, 0.0438500558227537, 0.1578602009619133, 0.3435825187399115, 0.1585765471107284, 0.16121948956257387, 0.15593360465888292, 0.1797200867254922, 0.07947943063289294, 0.8742737369618223, 0.03973971531644647, 0.9777771415772316, 0.9388329804294709, 0.18494074858026657, 0.1294585240061866, 0.07397629943210662, 0.11096444914815994, 0.5178340960247464, 0.17991921446584055, 0.37571365373749055, 0.2010861808735865, 0.1587522480580946, 0.08995960723292028, 0.24039957898322886, 0.32053277197763846, 0.17629302458770116, 0.11752868305846745, 0.1495819602562313, 0.8944564338724275, 0.08131422126112976, 0.13670489298072527, 0.07811708170327158, 0.05858781127745369, 0.17576343383236107, 0.5468195719229011, 0.9323049903120554, 0.06275129742484989, 0.9482439743340291, 0.07442491121709884, 0.39445202945062385, 0.4391069761808832, 0.07442491121709884, 0.022327473365129653, 0.25592734758956925, 0.2963369287879223, 0.1571483713269285, 0.08979906932967342, 0.20653785945824887, 0.8894009557996796, 0.05929339705331197, 0.2517971405752361, 0.08992755020544146, 0.13938770281843427, 0.3012572931882289, 0.2203224980033316, 0.9390402529133248, 0.12384763819488194, 0.22864179359055126, 0.6382916737736223, 0.13032970788291456, 0.03258242697072864, 0.13032970788291456, 0.71681339335603, 0.8787796347582025, 0.09415496086695027, 0.9588192453812872, 0.6067677493071338, 0.12324969907801156, 0.10428820691216363, 0.10428820691216363, 0.0568844764975438, 0.18314394487247754, 0.17398674762885366, 0.09157197243623877, 0.18314394487247754, 0.3571306925013312, 0.8781082291796157, 0.9437240755562806, 0.8943186943521088, 0.10787120613140937, 0.8629696490512749, 0.056648827099975034, 0.1416220677499376, 0.7930835793996505, 0.19866325021714104, 0.49169154428742406, 0.26322880653771186, 0.03973265004342821, 0.11915926725027105, 0.8341148707518974, 0.45004218599018386, 0.10658893878714881, 0.24870752383668054, 0.12435376191834027, 0.07105929252476587, 0.020709558830212235, 0.08283823532084894, 0.020709558830212235, 0.14496691181148566, 0.7248345590574283, 0.025402591963949457, 0.889090718738231, 0.07620777589184836, 0.09355472032871717, 0.1559245338811953, 0.2027018940455539, 0.5457358685841835, 0.9700636194728792, 0.2601444616638212, 0.1300722308319106, 0.5002778108919639, 0.05002778108919639, 0.06003333730703567, 0.8818606842128953, 0.04641372022173133, 0.04641372022173133, 0.9708967886094092, 0.9580054277567529, 0.5499328457813162, 0.13442802896876618, 0.048882919625005884, 0.14664875887501766, 0.13442802896876618, 0.16591639999568467, 0.1244372999967635, 0.7051446999816599, 0.9697274643051267, 0.9243213283874252, 0.2348241188451013, 0.1252395300507207, 0.13045784380283404, 0.35484533514370864, 0.15654941256340085, 0.07179436002262826, 0.07179436002262826, 0.7897379602489109, 0.06716250216335068, 0.20148750649005204, 0.6716250216335068, 0.06716250216335068, 0.20045104510859266, 0.1336340300723951, 0.06681701503619755, 0.5790807969803787, 0.022272338345399184, 0.19185978381777896, 0.10963416218158797, 0.6852135136349249, 0.14385992295572572, 0.7912295762564915, 0.21495063466334902, 0.48562921164682554, 0.06368907693728859, 0.15126155772606042, 0.08757248078877182, 0.9647426960978388, 0.8734252459853457, 0.0970472495539273, 0.16130596670939934, 0.8065298335469966, 0.25987052753689033, 0.31636412047969253, 0.19772757529980783, 0.14688334165128583, 0.07909103011992313, 0.9240735839831784, 0.1094257515817501, 0.7112673852813757, 0.08206931368631258, 0.08206931368631258, 0.1346070861917724, 0.8412942886985774, 0.7977311321535512, 0.17948950473454903, 0.01994327830383878, 0.1295055816525781, 0.8633705443505206, 0.9196724912435746, 0.23537461557144085, 0.23281619583696866, 0.17141412220963628, 0.16118044327174755, 0.1969983195543581, 0.9538178693330196, 0.9504119218270843, 0.9198535196296129, 0.11047277692181218, 0.6628366615308731, 0.20253342435665567, 0.018412129486968697, 0.170208588341262, 0.2418753623796881, 0.2687504026440979, 0.2150003221152783, 0.10750016105763915, 0.9080467878863294, 0.12248458121609987, 0.8206466941478692, 0.04899383248643995, 0.012248458121609988, 0.017609274007631473, 0.08804637003815736, 0.7748080563357848, 0.12326491805342031, 0.31809248653412675, 0.13632535137176863, 0.11360445947647385, 0.2840111486911846, 0.1420055743455923, 0.2003046070485434, 0.1519552191402743, 0.1968510793408099, 0.29009632744961455, 0.1623158022634748, 0.3778216181406937, 0.15908278658555525, 0.3844500675817585, 0.07291294385171282, 0.013256898882129603, 0.03479027165917332, 0.06958054331834664, 0.869756791479333, 0.9019490369398648, 0.08589990827998713, 0.2296790472741738, 0.6681572284339601, 0.04871979790664292, 0.0069599711295204175, 0.04871979790664292, 0.8942726909234614, 0.33268094185496133, 0.1818140031067812, 0.22049783355503252, 0.15086693874818016, 0.11605149134475397, 0.7350122832968444, 0.14700245665936887, 0.08820147399562132, 0.2745613311849237, 0.18720090762608435, 0.12064058491458769, 0.15392074627033603, 0.2620812706765181, 0.16893212096388519, 0.11924620303333072, 0.019874367172221786, 0.07949746868888714, 0.5962310151666536, 0.9580054618355505, 0.9142434443085568, 0.9025437844219425, 0.9504103810553447, 0.23826135715103036, 0.15715110790812642, 0.08111024924290396, 0.28895526292784535, 0.23319196657334887, 0.2635029462838042, 0.17566863085586948, 0.13907099942756335, 0.29644081456927973, 0.12077218371341027, 0.9388406727500476, 0.2321524011671735, 0.39465908198419497, 0.19346033430597792, 0.06964572035015205, 0.11607620058358675, 0.05668678922435109, 0.7936150491409152, 0.11337357844870218, 0.4273309187282713, 0.20437565678308628, 0.17960284990028794, 0.1176708326932921, 0.07431842064839501], \"Term\": [\"9th\", \"abbey\", \"acrophobia\", \"aggress\", \"ai\", \"airstrik\", \"alien\", \"alien\", \"also\", \"also\", \"also\", \"also\", \"also\", \"ancient\", \"ancient\", \"ancient\", \"angel\", \"angel\", \"apart\", \"apart\", \"apart\", \"apart\", \"ape\", \"appear\", \"appear\", \"appear\", \"appear\", \"appear\", \"archaeologist\", \"arriv\", \"arriv\", \"arriv\", \"arriv\", \"arriv\", \"ask\", \"ask\", \"ask\", \"ask\", \"ask\", \"aspir\", \"astronaut\", \"astronaut\", \"athlet\", \"attempt\", \"attempt\", \"attempt\", \"attempt\", \"attempt\", \"auditorium\", \"away\", \"away\", \"away\", \"away\", \"away\", \"bandit\", \"bandit\", \"barrel\", \"beach\", \"beach\", \"beach\", \"beak\", \"becaus\", \"becaus\", \"becaus\", \"becaus\", \"becaus\", \"becom\", \"becom\", \"becom\", \"becom\", \"becom\", \"berth\", \"bifoc\", \"biograph\", \"blind\", \"blind\", \"blind\", \"blind\", \"boat\", \"boat\", \"boat\", \"boat\", \"bodili\", \"bolt\", \"bomb\", \"bomb\", \"bomb\", \"boot\", \"boot\", \"boot\", \"bouncer\", \"break\", \"break\", \"break\", \"break\", \"break\", \"bridg\", \"bridg\", \"bridg\", \"bridg\", \"call\", \"call\", \"call\", \"call\", \"call\", \"camp\", \"camp\", \"camp\", \"camp\", \"camp\", \"campaign\", \"campaign\", \"campaign\", \"campaign\", \"capo\", \"captain\", \"captain\", \"captain\", \"captain\", \"car\", \"car\", \"car\", \"car\", \"car\", \"carrier\", \"castl\", \"cell\", \"cell\", \"cell\", \"cell\", \"cell\", \"challeng\", \"challeng\", \"challeng\", \"challeng\", \"challeng\", \"chaplain\", \"choir\", \"citi\", \"citi\", \"citi\", \"citi\", \"citi\", \"cliff\", \"cliff\", \"cocain\", \"cocain\", \"code\", \"code\", \"come\", \"come\", \"come\", \"come\", \"come\", \"comeback\", \"command\", \"command\", \"command\", \"command\", \"command\", \"commando\", \"concert\", \"concert\", \"confront\", \"confront\", \"confront\", \"confront\", \"confront\", \"consiglier\", \"costum\", \"courthous\", \"courtyard\", \"courtyard\", \"cousin\", \"crate\", \"crate\", \"creatur\", \"creatur\", \"creatur\", \"creatur\", \"crop\", \"cruis\", \"curios\", \"daughter\", \"daughter\", \"daughter\", \"daughter\", \"daughter\", \"day\", \"day\", \"day\", \"day\", \"day\", \"dealership\", \"death\", \"death\", \"death\", \"death\", \"death\", \"deer\", \"demo\", \"deport\", \"destroy\", \"destroy\", \"destroy\", \"destroy\", \"destroy\", \"die\", \"die\", \"die\", \"die\", \"die\", \"dig\", \"dig\", \"dig\", \"dig\", \"director\", \"director\", \"director\", \"disconnect\", \"dockwork\", \"doe\", \"doe\", \"doe\", \"doe\", \"doe\", \"doomsday\", \"drill\", \"drive\", \"drive\", \"drive\", \"drive\", \"drive\", \"droid\", \"droog\", \"elocut\", \"emperor\", \"end\", \"end\", \"end\", \"end\", \"end\", \"epidem\", \"ethic\", \"excess\", \"execut\", \"execut\", \"execut\", \"execut\", \"execut\", \"exorc\", \"explos\", \"explos\", \"explos\", \"explos\", \"faith\", \"faith\", \"faith\", \"famili\", \"famili\", \"famili\", \"famili\", \"famili\", \"father\", \"father\", \"father\", \"father\", \"father\", \"feather\", \"fight\", \"fight\", \"fight\", \"fight\", \"fight\", \"film\", \"film\", \"film\", \"film\", \"film\", \"fire\", \"fire\", \"fire\", \"fire\", \"fire\", \"first\", \"first\", \"first\", \"first\", \"first\", \"flank\", \"fluid\", \"follow\", \"follow\", \"follow\", \"follow\", \"follow\", \"footbal\", \"forest\", \"forest\", \"forg\", \"foxhol\", \"friend\", \"friend\", \"friend\", \"friend\", \"friend\", \"frontier\", \"fundrais\", \"fundrais\", \"funer\", \"funer\", \"funer\", \"funer\", \"gala\", \"gala\", \"galley\", \"galley\", \"gang\", \"gang\", \"gang\", \"gang\", \"gang\", \"gladiat\", \"go\", \"go\", \"go\", \"go\", \"go\", \"goe\", \"goe\", \"goe\", \"goe\", \"goe\", \"gospel\", \"gover\", \"graft\", \"guilti\", \"guilti\", \"guilti\", \"guilti\", \"gunfight\", \"gunfight\", \"harpoon\", \"headpiec\", \"heal\", \"heavyweight\", \"heir\", \"helicopt\", \"helicopt\", \"help\", \"help\", \"help\", \"help\", \"help\", \"hobbit\", \"home\", \"home\", \"home\", \"home\", \"home\", \"homestead\", \"hospit\", \"hospit\", \"hospit\", \"hospit\", \"hospit\", \"hous\", \"hous\", \"hous\", \"hous\", \"hous\", \"hull\", \"hydrotherapi\", \"interview\", \"interview\", \"interview\", \"interview\", \"interview\", \"job\", \"job\", \"job\", \"job\", \"job\", \"jungl\", \"jungl\", \"juri\", \"juri\", \"juror\", \"kidnapp\", \"kill\", \"kill\", \"kill\", \"kill\", \"kill\", \"king\", \"king\", \"king\", \"know\", \"know\", \"know\", \"know\", \"know\", \"lake\", \"lake\", \"lake\", \"lamb\", \"land\", \"land\", \"land\", \"land\", \"land\", \"landlord\", \"languag\", \"languag\", \"later\", \"later\", \"later\", \"later\", \"later\", \"launder\", \"letter\", \"letter\", \"letter\", \"letter\", \"letter\", \"life\", \"life\", \"life\", \"life\", \"life\", \"lifeboat\", \"lightsab\", \"live\", \"live\", \"live\", \"live\", \"live\", \"look\", \"look\", \"look\", \"look\", \"look\", \"lot\", \"lot\", \"lot\", \"lot\", \"lot\", \"love\", \"love\", \"love\", \"love\", \"love\", \"lover\", \"lover\", \"lover\", \"lover\", \"lover\", \"loyal\", \"loyal\", \"meanwhil\", \"meanwhil\", \"mediocr\", \"meet\", \"meet\", \"meet\", \"meet\", \"meet\", \"men\", \"men\", \"men\", \"men\", \"men\", \"merci\", \"merci\", \"middleweight\", \"migrant\", \"millionair\", \"miracl\", \"miscarriag\", \"mission\", \"mission\", \"money\", \"money\", \"money\", \"money\", \"money\", \"monolith\", \"mortal\", \"mortar\", \"mous\", \"move\", \"move\", \"move\", \"move\", \"move\", \"mule\", \"murder\", \"murder\", \"murder\", \"murder\", \"murder\", \"n't\", \"n't\", \"n't\", \"n't\", \"n't\", \"name\", \"name\", \"name\", \"name\", \"name\", \"necklac\", \"next\", \"next\", \"next\", \"next\", \"next\", \"night\", \"night\", \"night\", \"night\", \"night\", \"northwest\", \"nuclear\", \"offer\", \"offer\", \"offer\", \"offer\", \"offer\", \"offic\", \"offic\", \"offic\", \"offic\", \"offic\", \"oil\", \"oil\", \"oil\", \"open\", \"open\", \"open\", \"open\", \"open\", \"order\", \"order\", \"order\", \"order\", \"order\", \"palant\\u00edr\", \"park\", \"park\", \"park\", \"park\", \"park\", \"parol\", \"parol\", \"partner\", \"partner\", \"partner\", \"partner\", \"passport\", \"patient\", \"patient\", \"patient\", \"patient\", \"penicillin\", \"peopl\", \"peopl\", \"peopl\", \"peopl\", \"peopl\", \"perform\", \"perform\", \"perform\", \"perform\", \"perform\", \"pier\", \"pirat\", \"plan\", \"plan\", \"plan\", \"plan\", \"plan\", \"plane\", \"plane\", \"plane\", \"plane\", \"plane\", \"planet\", \"planet\", \"platoon\", \"platoon\", \"play\", \"play\", \"play\", \"play\", \"play\", \"pod\", \"pod\", \"polic\", \"polic\", \"polic\", \"polic\", \"polic\", \"pollut\", \"porter\", \"porter\", \"porter\", \"poss\", \"poss\", \"poster\", \"precious\", \"princess\", \"prison\", \"prison\", \"prison\", \"prison\", \"prison\", \"pro\", \"promot\", \"promot\", \"promot\", \"promot\", \"propel\", \"quarterback\", \"quid\", \"quo\", \"ranch\", \"ranch\", \"ransom\", \"rate\", \"reason\", \"reason\", \"reason\", \"reason\", \"reason\", \"refus\", \"refus\", \"refus\", \"refus\", \"refus\", \"request\", \"request\", \"request\", \"request\", \"reservoir\", \"river\", \"river\", \"river\", \"rocker\", \"room\", \"room\", \"room\", \"room\", \"room\", \"roulett\", \"round\", \"round\", \"round\", \"rub\", \"rumbl\", \"rumbl\", \"run\", \"run\", \"run\", \"run\", \"run\", \"sail\", \"salt\", \"save\", \"save\", \"save\", \"save\", \"save\", \"say\", \"say\", \"say\", \"say\", \"say\", \"script\", \"script\", \"script\", \"scuba\", \"sector\", \"servic\", \"servic\", \"servic\", \"servic\", \"servic\", \"set\", \"set\", \"set\", \"set\", \"set\", \"sever\", \"sever\", \"sever\", \"sever\", \"sever\", \"sewer\", \"sewer\", \"sex\", \"sex\", \"sex\", \"sex\", \"sex\", \"shark\", \"shark\", \"sheik\", \"ship\", \"ship\", \"ship\", \"ship\", \"ship\", \"shoot\", \"shoot\", \"shoot\", \"shoot\", \"shoot\", \"shore\", \"shore\", \"show\", \"show\", \"show\", \"show\", \"show\", \"shrimp\", \"sing\", \"sing\", \"sing\", \"singer\", \"singer\", \"singer\", \"singer\", \"sink\", \"sink\", \"sinner\", \"sister\", \"sister\", \"sister\", \"sister\", \"sister\", \"sit\", \"sit\", \"sit\", \"sit\", \"sit\", \"skin\", \"sled\", \"slum\", \"snake\", \"snake\", \"snow\", \"snow\", \"snow\", \"soldier\", \"soldier\", \"soldier\", \"soldier\", \"solitari\", \"solitari\", \"son\", \"son\", \"son\", \"son\", \"son\", \"song\", \"song\", \"song\", \"song\", \"song\", \"squad\", \"squad\", \"squad\", \"stage\", \"stage\", \"stage\", \"stage\", \"stammer\", \"station\", \"station\", \"station\", \"station\", \"station\", \"stern\", \"stern\", \"stern\", \"stockad\", \"stormtroop\", \"street\", \"street\", \"street\", \"street\", \"street\", \"subject\", \"subject\", \"subject\", \"surf\", \"symphoni\", \"talk\", \"talk\", \"talk\", \"talk\", \"talk\", \"tape\", \"tape\", \"tape\", \"target\", \"target\", \"target\", \"target\", \"team\", \"team\", \"team\", \"team\", \"team\", \"testifi\", \"testifi\", \"testifi\", \"therapi\", \"therapi\", \"three\", \"three\", \"three\", \"three\", \"three\", \"throne\", \"torpedo\", \"torpedo\", \"tower\", \"tower\", \"town\", \"town\", \"town\", \"town\", \"town\", \"tractor\", \"tree\", \"tree\", \"tree\", \"tree\", \"trench\", \"trench\", \"tribe\", \"tribe\", \"tribe\", \"trooper\", \"trooper\", \"tryst\", \"two\", \"two\", \"two\", \"two\", \"two\", \"unanim\", \"unidentifi\", \"union\", \"unit\", \"unit\", \"unit\", \"unit\", \"use\", \"use\", \"use\", \"use\", \"use\", \"verdict\", \"villag\", \"villag\", \"villag\", \"villag\", \"vote\", \"vote\", \"vote\", \"vote\", \"walk\", \"walk\", \"walk\", \"walk\", \"walk\", \"want\", \"want\", \"want\", \"want\", \"want\", \"war\", \"war\", \"war\", \"war\", \"war\", \"ward\", \"ward\", \"ward\", \"warden\", \"warden\", \"water\", \"water\", \"water\", \"water\", \"water\", \"waterfront\", \"way\", \"way\", \"way\", \"way\", \"way\", \"widow\", \"widow\", \"widow\", \"wife\", \"wife\", \"wife\", \"wife\", \"wife\", \"window\", \"window\", \"window\", \"window\", \"window\", \"wipe\", \"witch\", \"wizard\", \"wolf\", \"woman\", \"woman\", \"woman\", \"woman\", \"woman\", \"work\", \"work\", \"work\", \"work\", \"work\", \"worsen\", \"wound\", \"wound\", \"wound\", \"wound\", \"wound\", \"yacht\", \"yacht\", \"yacht\", \"young\", \"young\", \"young\", \"young\", \"young\"]}, \"topic.order\": [1, 2, 3, 4, 5], \"mdsDat\": {\"Freq\": [25.358834970116373, 21.025878613012107, 18.620917637751234, 17.79796190124768, 17.1964068778726], \"y\": [-0.025266719067851277, 0.06175174817390992, -0.07027957234673739, -0.012008406699240453, 0.045802949939919235], \"x\": [0.002639043660021368, -0.08843085593000218, -0.04055677750445472, 0.053795852078789265, 0.07255273769564619], \"topics\": [1, 2, 3, 4, 5], \"cluster\": [1, 1, 1, 1, 1]}, \"lambda.step\": 0.01, \"R\": 30, \"tinfo\": {\"logprob\": [30.0, 29.0, 28.0, 27.0, 26.0, 25.0, 24.0, 23.0, 22.0, 21.0, 20.0, 19.0, 18.0, 17.0, 16.0, 15.0, 14.0, 13.0, 12.0, 11.0, 10.0, 9.0, 8.0, 7.0, 6.0, 5.0, 4.0, 3.0, 2.0, 1.0, -6.9114, -7.5668, -7.6306, -7.6986, -7.7716, -7.7716, -7.7716, -7.7717, -7.8507, -7.8507, -7.9359, -7.9359, -8.0294, -8.0294, -8.0314, -8.1326, -8.1326, -8.1327, -8.133, -8.2477, -8.2477, -8.2477, -8.2477, -8.2481, -8.2484, -8.2495, -8.3777, -8.3777, -8.3777, -8.3777, -7.6989, -7.986, -7.909, -6.5995, -6.8457, -7.5207, -7.7523, -5.1076, -7.936, -7.0825, -6.1366, -6.9471, -6.8439, -5.2684, -5.4416, -7.5011, -6.9582, -6.5008, -6.2943, -5.0514, -5.9732, -6.3646, -6.3756, -5.4325, -5.3423, -5.6838, -6.065, -6.0076, -6.3983, -5.8618, -5.4702, -5.5621, -5.841, -5.8249, -5.9773, -5.8424, -5.8203, -5.8732, -5.7817, -5.8135, -5.6516, -5.9652, -5.7628, -5.7309, -5.713, -5.96, -5.7725, -6.0152, -5.877, -5.9419, -5.9829, -5.9879, -7.0315, -7.1217, -7.4544, -7.5954, -7.5954, -6.0341, -7.6742, -7.6745, -7.6746, -5.4643, -7.7597, -7.7597, -7.7597, -7.7598, -7.7604, -6.9493, -7.8533, -7.8533, -7.8535, -7.9565, -7.9565, -7.9565, -7.9566, -8.0715, -8.0715, -8.0715, -8.0715, -8.0715, -8.072, -8.0723, -6.9096, -6.0594, -6.5501, -6.7676, -7.3382, -5.5272, -6.6641, -7.3951, -5.9113, -6.4026, -7.2111, -6.8724, -7.4548, -6.3245, -7.1814, -6.8739, -5.5494, -6.6436, -7.0327, -5.5122, -6.5321, -7.1199, -4.8011, -6.8107, -6.8519, -5.9929, -5.3952, -5.8739, -6.7666, -6.1564, -5.8486, -5.7061, -6.1298, -5.4882, -6.1437, -5.6031, -5.598, -6.1734, -5.6528, -5.8276, -5.6461, -5.9283, -6.0214, -5.9318, -5.8884, -6.0125, -5.8458, -5.9962, -6.0836, -5.9008, -5.9532, -5.9745, -6.0051, -6.0153, -6.6915, -7.1644, -7.3444, -7.4855, -7.4855, -7.5643, -7.6498, -7.6503, -7.7433, -7.7433, -7.7434, -7.0096, -7.8465, -7.8466, -6.6579, -7.9616, -7.9616, -7.9616, -7.9616, -7.9616, -7.9616, -7.9616, -7.9616, -7.9616, -7.9616, -6.399, -6.8005, -8.0916, -8.0916, -8.0916, -6.2582, -6.9243, -7.4125, -6.7629, -7.2807, -6.9059, -7.5649, -6.665, -7.0117, -7.3465, -6.1829, -7.5643, -7.5142, -6.3272, -6.0831, -5.9181, -7.0123, -5.476, -5.9336, -6.2007, -6.226, -5.484, -5.4083, -5.4816, -6.0423, -5.7808, -5.6971, -6.3831, -6.7999, -5.6292, -6.1326, -5.3564, -5.8934, -5.7572, -5.8047, -5.826, -5.6347, -5.6738, -5.6552, -5.8322, -5.6827, -5.7349, -5.9122, -5.8628, -5.7345, -5.7798, -5.8453, -5.948, -5.8736, -5.9309, -5.9316, -5.9537, -6.5752, -7.2306, -7.2943, -7.4354, -7.4354, -7.4354, -6.9419, -7.5141, -7.5997, -7.5997, -7.6932, -7.6932, -7.6113, -7.9114, -7.9114, -7.9114, -7.9114, -7.7195, -8.0415, -8.0415, -8.0415, -8.0415, -8.0415, -7.2949, -6.9138, -8.191, -8.191, -8.191, -8.191, -8.3669, -6.8714, -6.1677, -7.2943, -6.1612, -6.9973, -6.7344, -5.8298, -7.2427, -6.9807, -7.011, -6.6822, -6.3809, -6.7542, -7.0582, -5.6663, -5.7244, -5.6728, -5.5475, -5.5131, -5.4539, -5.7469, -5.4625, -5.9054, -5.6807, -5.6519, -5.4438, -5.7836, -5.6236, -5.8539, -5.9028, -5.8539, -5.8902, -5.5716, -6.04, -5.8195, -5.6024, -5.6222, -5.8315, -6.0263, -5.7798, -5.8328, -5.7733, -5.7954, -5.8458, -5.7872, -5.7943, -5.8698, -5.8607, -5.849, -6.7603, -6.9814, -6.9815, -7.0857, -7.3338, -7.6653, -7.7679, -7.768, -7.8829, -7.8829, -7.8829, -7.8829, -7.8829, -7.8832, -7.1423, -8.013, -8.0133, -8.0134, -8.0139, -8.0147, -7.3339, -8.1625, -8.1625, -8.1625, -8.1625, -8.1625, -8.1625, -8.1626, -8.1627, -8.1628, -6.6858, -7.4856, -6.9331, -7.1074, -6.5792, -7.0094, -7.8345, -7.4069, -5.786, -6.3581, -5.7024, -7.3582, -5.8095, -6.4273, -6.7775, -6.8251, -7.4856, -7.4872, -6.7962, -6.3505, -7.0859, -6.9319, -6.7258, -6.8798, -6.5682, -5.399, -5.3731, -5.462, -6.592, -5.756, -5.4018, -6.178, -5.9393, -5.8405, -5.7682, -5.7351, -5.992, -5.5686, -5.9322, -5.7544, -5.7886, -6.236, -5.9645, -5.8513, -5.6954, -5.7496, -5.6891, -5.9523, -5.8296, -5.7685, -5.8824, -5.8908, -5.9309, -5.9157, -5.946, -5.9054, -5.9001], \"Total\": [111.0, 114.0, 104.0, 143.0, 201.0, 205.0, 62.0, 81.0, 64.0, 344.0, 90.0, 46.0, 100.0, 53.0, 134.0, 56.0, 260.0, 39.0, 55.0, 29.0, 48.0, 39.0, 150.0, 596.0, 225.0, 48.0, 27.0, 124.0, 30.0, 35.0, 30.333856126193638, 16.10822518487801, 15.159834889655622, 14.211473285028628, 13.263097336255589, 13.263097335165222, 13.263097227112041, 13.263067164684088, 12.314641306291566, 12.314678984672392, 11.36634543594386, 11.366345326963696, 10.417969441854066, 10.417969431396427, 10.41753962111032, 9.469593535435507, 9.469593534959408, 9.46957818321374, 9.469556425456638, 8.521217585294973, 8.521217585168667, 8.521217503379093, 8.521217476126994, 8.521147658171262, 8.521115430251353, 8.521060425512156, 7.572841636857288, 7.572841636370083, 7.572841635980081, 7.572841635876451, 15.143025669587756, 11.354698128300102, 12.307371125819198, 50.14220755308394, 39.660367259265406, 18.90569787762076, 15.141411823542176, 344.7966619256094, 12.297971799897505, 34.01303701737379, 105.47693095600647, 40.549485380412094, 48.06687864795583, 391.8709282260475, 318.513481807821, 21.692366815256076, 44.32124269599297, 81.82817292185253, 108.98604331114414, 596.4568798519894, 168.87305760633222, 101.53833657598867, 101.4482241368005, 378.3661650679285, 438.20771372331114, 275.45488565007736, 161.46737101388004, 178.23881844282727, 100.54713769865394, 225.21749370629504, 405.6706234112364, 353.98214562957764, 240.2661541784572, 249.3219552462923, 205.15956659376306, 258.50594121948035, 268.68010283060465, 253.06148838506707, 301.1624763307541, 285.48124617503254, 404.2158702603174, 225.80309070580262, 346.8167486401406, 376.91198635787134, 401.21937549941885, 239.55060994375413, 390.86627832250747, 218.11162529858558, 327.3191213422177, 301.14577634442776, 275.74805511552574, 334.4360108730903, 22.503603872741948, 20.628004893500957, 15.0012063491777, 13.12560683446207, 13.125606833391748, 62.81860789135079, 12.187807076725926, 12.187774366032817, 12.18775578365466, 111.55147841179071, 11.25000731992582, 11.25000731968673, 11.250007319730505, 11.2499931871134, 11.249918078028964, 25.327513199879398, 10.312207562263811, 10.312207562316612, 10.312175707187643, 9.374407805159022, 9.374407805005292, 9.374403589288706, 9.37438685811144, 8.436608047562999, 8.436608047596966, 8.436608046691353, 8.436608296260303, 8.436608424130833, 8.43664733605986, 8.436575128042413, 27.213611832690987, 64.6307682569394, 39.36606159793331, 31.86236787076232, 17.80153583823518, 114.2891322766532, 35.593055469649705, 16.865284326699623, 81.64292926272061, 48.7033250271517, 20.60851811043484, 29.96304132593105, 15.928189795461527, 55.20363330612303, 21.54535329688549, 30.996993490065666, 143.67875690727266, 42.129060716161234, 28.09679964121874, 201.34574440053495, 54.312022990483335, 25.26368929854193, 596.4568798519894, 38.376809516475284, 36.55446677020691, 125.6102362399944, 321.0648200931393, 162.7358450231994, 43.127119942103235, 114.02494036063487, 188.9737018969435, 240.2661541784572, 129.9373025928046, 405.6706234112364, 134.36361342548082, 390.86627832250747, 404.2158702603174, 129.22545642074547, 376.91198635787134, 268.4173568893578, 401.21937549941885, 222.71945744309792, 187.18834779298578, 253.06148838506707, 299.0550738252706, 212.41706142368838, 377.8018580953969, 249.3219552462923, 177.01122338111236, 438.20771372331114, 353.98214562957764, 327.3191213422177, 295.1986992428387, 378.3661650679285, 27.81892475645863, 17.621278781131043, 14.840096698626377, 12.98597883111703, 12.98597989004041, 12.058919475007745, 11.13186024327002, 11.131876080161703, 10.204801129586016, 10.204801600655992, 10.20480525243665, 21.328692830198115, 9.27774201540564, 9.277744089908937, 30.621581458675138, 8.350682901098931, 8.350682901137528, 8.35068290114366, 8.350682901116246, 8.350682901401566, 8.350682901373272, 8.350683079271699, 8.350683328817134, 8.350683376327675, 8.350683315290341, 39.914313497732124, 26.91350172090425, 7.4236237871745585, 7.423623787211383, 7.423623787630274, 46.44879296330487, 24.132850408748702, 14.850850844410209, 29.71611757720741, 17.642754813857817, 26.926074882754122, 13.007416612132104, 38.150258999345326, 26.082127981849876, 17.64079450755746, 78.1844157211929, 13.922891684880282, 14.8655861391053, 69.79309198520998, 99.94446867602052, 134.36361342548082, 29.778521281646988, 260.84236314733596, 150.8648453746611, 103.77198742832184, 100.10849543893079, 319.898907957491, 376.91198635787134, 344.7966619256094, 140.32305020517092, 216.69938693978688, 256.1149635577688, 85.8907951970467, 42.02390147037565, 318.513481807821, 141.04729354573809, 596.4568798519894, 223.25547946976323, 299.0550738252706, 275.74805511552574, 265.38567313726014, 401.21937549941885, 377.8018580953969, 405.6706234112364, 275.45488565007736, 404.2158702603174, 391.8709282260475, 255.91598125513133, 299.7455516125659, 438.20771372331114, 390.86627832250747, 321.0648200931393, 258.50594121948035, 378.3661650679285, 301.14577634442776, 327.3191213422177, 289.5589914511743, 29.815110036120394, 15.840480981123058, 14.908839058353152, 13.045555169666262, 13.045555173480874, 13.045555345411849, 21.439998797675532, 12.113913233044766, 11.182271295719547, 11.182271472109479, 10.250629359030581, 10.25062953565746, 11.181696260128525, 8.38734548514403, 8.387345485109716, 8.387345485063781, 8.387345485132292, 10.249306066073848, 7.455703548223512, 7.4557035481028855, 7.455703548370776, 7.455703577866257, 7.455703726936459, 15.835114325689633, 23.282911938404922, 6.524061610925966, 6.524061616637943, 6.5240616260653495, 6.5240616711645645, 5.5924196741546, 25.163743424859042, 53.09526967475904, 16.784258968288096, 56.78825825338523, 25.1783658368089, 36.484978043383656, 124.3451309994568, 20.549846009838145, 28.983894163435455, 28.87878419211332, 44.89874320747156, 70.93578683733426, 41.9654821332785, 27.985034816189575, 205.15956659376306, 191.63278551332996, 225.21749370629504, 273.2417265742936, 289.5589914511743, 334.4360108730903, 222.40125472460397, 377.8018580953969, 185.20104646416561, 283.2299402042663, 299.7455516125659, 438.20771372331114, 239.55060994375413, 319.898907957491, 213.13769967581308, 197.2623700376532, 224.52596956686418, 212.21098266941777, 404.2158702603174, 161.71016806714653, 251.68336991975522, 391.8709282260475, 401.21937549941885, 255.91598125513133, 176.0494270398053, 327.3191213422177, 287.1308959575372, 353.98214562957764, 346.8167486401406, 295.1986992428387, 405.6706234112364, 390.86627832250747, 285.48124617503254, 378.3661650679285, 596.4568798519894, 24.08856139369946, 19.45767372372962, 19.45770097012768, 17.60532735045433, 13.900634603291426, 10.195978770098856, 9.269768669686025, 9.269780377881846, 8.343595482982533, 8.343595483176815, 8.343595483219985, 8.343595483469068, 8.34359556145402, 8.343637215415608, 17.606255199586325, 7.417422296738411, 7.417444746774618, 7.417437712219047, 7.4174597221931755, 7.4175608604159, 14.849031981837664, 6.491249109673158, 6.49124910973073, 6.491249109782735, 6.491249109932374, 6.491249109891239, 6.4912491494198115, 6.491253092552645, 6.491261839080788, 6.491291392699361, 28.743667476834005, 12.996663028602299, 23.165024717220582, 19.5107535747313, 35.30523229493098, 22.28187932399996, 9.270314441295797, 14.837750159309692, 90.29274292216712, 48.28688086494365, 104.96768601710187, 15.781142988530283, 100.63213498417102, 48.35169958061631, 32.48322323248121, 30.691390819302036, 13.902412561527086, 13.928670715705502, 35.36478697111462, 64.13358918628785, 24.10852694552218, 29.72313857985928, 39.972308726303524, 32.6328052892846, 51.20518986095813, 301.1624763307541, 346.8167486401406, 334.4360108730903, 54.07137192190977, 209.26003934866128, 377.8018580953969, 106.59998871506407, 161.825976775874, 208.06597086458368, 240.38344990230033, 257.07502629546707, 159.61956850677873, 390.86627832250747, 200.03863255689453, 295.1986992428387, 283.2299402042663, 109.20371958748582, 198.78596177814867, 260.84236314733596, 378.3661650679285, 353.98214562957764, 438.20771372331114, 232.84116250163925, 327.3191213422177, 401.21937549941885, 299.7455516125659, 299.0550738252706, 265.38567313726014, 319.898907957491, 301.14577634442776, 376.91198635787134, 404.2158702603174], \"loglift\": [30.0, 29.0, 28.0, 27.0, 26.0, 25.0, 24.0, 23.0, 22.0, 21.0, 20.0, 19.0, 18.0, 17.0, 16.0, 15.0, 14.0, 13.0, 12.0, 11.0, 10.0, 9.0, 8.0, 7.0, 6.0, 5.0, 4.0, 3.0, 2.0, 1.0, 1.3472, 1.3247, 1.3216, 1.3182, 1.3143, 1.3143, 1.3143, 1.3141, 1.3094, 1.3094, 1.3043, 1.3043, 1.2979, 1.2979, 1.296, 1.2902, 1.2902, 1.2901, 1.2898, 1.2806, 1.2806, 1.2806, 1.2806, 1.2802, 1.2799, 1.2788, 1.2686, 1.2686, 1.2686, 1.2686, 1.2544, 1.2552, 1.2516, 1.1565, 1.1448, 1.2107, 1.2011, 0.7203, 1.2254, 1.0616, 0.8758, 1.0213, 0.9544, 0.4316, 0.4656, 1.0928, 0.9212, 0.7654, 0.6853, 0.2285, 0.5685, 0.6858, 0.6757, 0.3025, 0.2459, 0.3687, 0.5216, 0.4801, 0.6619, 0.392, 0.1951, 0.2395, 0.3481, 0.3272, 0.3698, 0.2736, 0.257, 0.2641, 0.1815, 0.2032, 0.0173, 0.286, 0.0592, 0.008, -0.0367, 0.2321, -0.07, 0.2707, 0.003, 0.0214, 0.0685, -0.1295, 1.5257, 1.5225, 1.5084, 1.5008, 1.5008, 1.4965, 1.4962, 1.496, 1.4958, 1.492, 1.4907, 1.4907, 1.4907, 1.4906, 1.4901, 1.4897, 1.4843, 1.4843, 1.484, 1.4764, 1.4764, 1.4764, 1.4762, 1.4668, 1.4668, 1.4668, 1.4667, 1.4667, 1.4663, 1.466, 1.4576, 1.4427, 1.4478, 1.4419, 1.4534, 1.4049, 1.4346, 1.4505, 1.3572, 1.3825, 1.434, 1.3985, 1.448, 1.3353, 1.4193, 1.3631, 1.1538, 1.2865, 1.3025, 0.8536, 1.144, 1.3215, 0.4788, 1.2127, 1.2201, 0.8447, 0.504, 0.7048, 1.1401, 0.778, 0.5807, 0.483, 0.674, 0.1771, 0.6266, 0.0994, 0.0709, 0.6359, 0.0861, 0.2508, 0.0303, 0.3367, 0.4173, 0.2054, 0.0818, 0.2998, -0.1093, 0.1559, 0.411, -0.3126, -0.1516, -0.0946, -0.0219, -0.2803, 1.6536, 1.6374, 1.6291, 1.6215, 1.6215, 1.6168, 1.6112, 1.6107, 1.6047, 1.6047, 1.6046, 1.6012, 1.5967, 1.5967, 1.5913, 1.5869, 1.5869, 1.5869, 1.5869, 1.5869, 1.5869, 1.5869, 1.5869, 1.5869, 1.5869, 1.5852, 1.5778, 1.5746, 1.5746, 1.5746, 1.5743, 1.563, 1.5603, 1.5163, 1.5198, 1.4719, 1.5404, 1.3643, 1.3979, 1.4541, 1.1288, 1.4731, 1.4576, 1.0981, 0.9831, 0.8522, 1.2647, 0.6309, 0.7209, 0.8279, 0.8386, 0.4188, 0.3305, 0.3463, 0.6846, 0.5115, 0.4282, 0.8346, 1.1327, 0.278, 0.5891, -0.0765, 0.3692, 0.213, 0.2467, 0.2636, 0.0417, 0.0627, 0.0101, 0.2202, -0.0138, -0.0349, 0.2138, 0.1051, -0.1464, -0.0773, 0.0539, 0.1679, -0.1386, 0.0323, -0.0517, 0.0487, 1.7007, 1.6777, 1.6746, 1.667, 1.667, 1.667, 1.6637, 1.6624, 1.6569, 1.6569, 1.6503, 1.6503, 1.6452, 1.6327, 1.6327, 1.6327, 1.6327, 1.6241, 1.6204, 1.6204, 1.6204, 1.6204, 1.6204, 1.6137, 1.6093, 1.6043, 1.6043, 1.6043, 1.6043, 1.5825, 1.5741, 1.5311, 1.5561, 1.4704, 1.4476, 1.3396, 1.018, 1.4053, 1.3234, 1.2968, 1.1843, 1.0282, 1.1798, 1.2809, 0.6808, 0.6909, 0.581, 0.513, 0.4893, 0.4045, 0.5194, 0.274, 0.5441, 0.3439, 0.316, 0.1443, 0.4084, 0.2793, 0.455, 0.4835, 0.4029, 0.4231, 0.0973, 0.5451, 0.3231, 0.0975, 0.0541, 0.2945, 0.4738, 0.1002, 0.1781, 0.0283, 0.0267, 0.1374, -0.1219, -0.0918, 0.1469, -0.1257, -0.5691, 1.7288, 1.7212, 1.7212, 1.717, 1.7051, 1.6836, 1.6762, 1.6761, 1.6664, 1.6664, 1.6664, 1.6664, 1.6664, 1.6662, 1.6603, 1.654, 1.6538, 1.6537, 1.6531, 1.6523, 1.639, 1.6379, 1.6379, 1.6379, 1.6379, 1.6379, 1.6379, 1.6378, 1.6377, 1.6376, 1.6266, 1.6205, 1.5951, 1.5925, 1.5276, 1.5576, 1.6096, 1.5668, 1.3818, 1.4356, 1.3148, 1.5539, 1.2498, 1.3651, 1.4126, 1.4218, 1.5531, 1.5497, 1.3089, 1.1594, 1.4024, 1.3471, 1.2569, 1.3058, 1.1668, 0.5642, 0.4489, 0.3964, 1.0885, 0.5713, 0.3347, 0.8238, 0.645, 0.4925, 0.4204, 0.3863, 0.6061, 0.1339, 0.4401, 0.2288, 0.236, 0.7416, 0.4141, 0.2556, 0.0396, 0.052, -0.101, 0.2682, 0.0503, -0.0922, 0.0855, 0.0794, 0.1588, -0.0129, 0.0173, -0.1665, -0.2312], \"Term\": [\"shark\", \"boat\", \"sing\", \"water\", \"soldier\", \"apart\", \"bridg\", \"villag\", \"mission\", \"famili\", \"perform\", \"alien\", \"window\", \"guilti\", \"ship\", \"vote\", \"fight\", \"king\", \"river\", \"juror\", \"beach\", \"squad\", \"war\", \"kill\", \"murder\", \"song\", \"droid\", \"job\", \"ranch\", \"pod\", \"gladiat\", \"mous\", \"costum\", \"reservoir\", \"landlord\", \"emperor\", \"penicillin\", \"miracl\", \"cruis\", \"heal\", \"consiglier\", \"passport\", \"deport\", \"beak\", \"northwest\", \"mediocr\", \"wolf\", \"unidentifi\", \"pirat\", \"elocut\", \"frontier\", \"forg\", \"sector\", \"worsen\", \"aggress\", \"capo\", \"miscarriag\", \"cousin\", \"salt\", \"bifoc\", \"meanwhil\", \"loyal\", \"cocain\", \"tribe\", \"porter\", \"languag\", \"galley\", \"famili\", \"sewer\", \"widow\", \"sister\", \"funer\", \"request\", \"meet\", \"father\", \"faith\", \"partner\", \"street\", \"confront\", \"kill\", \"son\", \"execut\", \"citi\", \"say\", \"ask\", \"help\", \"young\", \"offer\", \"daughter\", \"murder\", \"home\", \"day\", \"death\", \"die\", \"apart\", \"way\", \"name\", \"attempt\", \"car\", \"also\", \"friend\", \"know\", \"night\", \"arriv\", \"go\", \"film\", \"two\", \"live\", \"come\", \"away\", \"becom\", \"call\", \"necklac\", \"monolith\", \"disconnect\", \"roulett\", \"witch\", \"bridg\", \"lifeboat\", \"wizard\", \"mortal\", \"shark\", \"scuba\", \"ape\", \"deer\", \"barrel\", \"sail\", \"angel\", \"mortar\", \"commando\", \"surf\", \"harpoon\", \"hull\", \"acrophobia\", \"propel\", \"epidem\", \"foxhol\", \"castl\", \"rocker\", \"biograph\", \"sheik\", \"flank\", \"helicopt\", \"mission\", \"squad\", \"sink\", \"astronaut\", \"boat\", \"pod\", \"shore\", \"villag\", \"beach\", \"torpedo\", \"bandit\", \"jungl\", \"river\", \"stern\", \"tower\", \"water\", \"lake\", \"explos\", \"soldier\", \"unit\", \"gunfight\", \"kill\", \"platoon\", \"tree\", \"three\", \"men\", \"fire\", \"captain\", \"save\", \"set\", \"death\", \"command\", \"home\", \"ship\", \"two\", \"friend\", \"wound\", \"arriv\", \"offic\", \"go\", \"shoot\", \"sever\", \"attempt\", \"order\", \"follow\", \"n't\", \"die\", \"town\", \"ask\", \"day\", \"come\", \"doe\", \"say\", \"droid\", \"throne\", \"nuclear\", \"tractor\", \"crop\", \"homestead\", \"drill\", \"heir\", \"mule\", \"lightsab\", \"millionair\", \"code\", \"stammer\", \"berth\", \"ranch\", \"fluid\", \"bodili\", \"precious\", \"doomsday\", \"migrant\", \"ai\", \"wipe\", \"princess\", \"stormtroop\", \"bolt\", \"king\", \"planet\", \"excess\", \"pollut\", \"graft\", \"alien\", \"forest\", \"rumbl\", \"trench\", \"poss\", \"creatur\", \"merci\", \"challeng\", \"oil\", \"yacht\", \"plane\", \"boot\", \"cliff\", \"gang\", \"station\", \"ship\", \"target\", \"fight\", \"war\", \"land\", \"camp\", \"run\", \"arriv\", \"famili\", \"peopl\", \"plan\", \"polic\", \"destroy\", \"bomb\", \"father\", \"move\", \"kill\", \"use\", \"order\", \"becom\", \"next\", \"go\", \"n't\", \"home\", \"help\", \"friend\", \"meet\", \"hous\", \"first\", \"ask\", \"two\", \"men\", \"way\", \"say\", \"away\", \"come\", \"want\", \"juror\", \"rate\", \"shrimp\", \"launder\", \"footbal\", \"union\", \"juri\", \"verdict\", \"poster\", \"waterfront\", \"pro\", \"dockwork\", \"slum\", \"unanim\", \"quid\", \"quo\", \"comeback\", \"skin\", \"courthous\", \"lamb\", \"quarterback\", \"athlet\", \"pier\", \"parol\", \"warden\", \"heavyweight\", \"tryst\", \"feather\", \"carrier\", \"rub\", \"script\", \"guilti\", \"solitari\", \"vote\", \"director\", \"testifi\", \"job\", \"promot\", \"cell\", \"lover\", \"team\", \"letter\", \"reason\", \"round\", \"apart\", \"talk\", \"murder\", \"work\", \"want\", \"call\", \"show\", \"n't\", \"play\", \"love\", \"first\", \"ask\", \"film\", \"run\", \"money\", \"woman\", \"becaus\", \"refus\", \"friend\", \"prison\", \"life\", \"meet\", \"go\", \"hous\", \"walk\", \"come\", \"goe\", \"day\", \"night\", \"doe\", \"home\", \"two\", \"also\", \"say\", \"kill\", \"headpiec\", \"droog\", \"exorc\", \"ransom\", \"choir\", \"palant\\u00edr\", \"kidnapp\", \"stockad\", \"dealership\", \"aspir\", \"9th\", \"bouncer\", \"sinner\", \"abbey\", \"gala\", \"sled\", \"archaeologist\", \"curios\", \"hobbit\", \"airstrik\", \"courtyard\", \"gospel\", \"symphoni\", \"chaplain\", \"ethic\", \"hydrotherapi\", \"auditorium\", \"middleweight\", \"demo\", \"gover\", \"ward\", \"fundrais\", \"trooper\", \"concert\", \"snow\", \"blind\", \"snake\", \"crate\", \"perform\", \"song\", \"sing\", \"ancient\", \"window\", \"patient\", \"park\", \"singer\", \"therapi\", \"tape\", \"lot\", \"stage\", \"subject\", \"dig\", \"interview\", \"campaign\", \"sex\", \"car\", \"night\", \"call\", \"servic\", \"drive\", \"n't\", \"hospit\", \"appear\", \"look\", \"wife\", \"later\", \"break\", \"two\", \"open\", \"doe\", \"love\", \"sit\", \"room\", \"fight\", \"say\", \"day\", \"ask\", \"end\", \"come\", \"go\", \"first\", \"order\", \"next\", \"run\", \"away\", \"arriv\", \"friend\"], \"Freq\": [111.0, 114.0, 104.0, 143.0, 201.0, 205.0, 62.0, 81.0, 64.0, 344.0, 90.0, 46.0, 100.0, 53.0, 134.0, 56.0, 260.0, 39.0, 55.0, 29.0, 48.0, 39.0, 150.0, 596.0, 225.0, 48.0, 27.0, 124.0, 30.0, 35.0, 29.588584542205574, 15.363690221885152, 14.414609957663838, 13.466938312166567, 12.518562433329496, 12.518562376692937, 12.51855626315744, 12.516879750349297, 11.566651952824955, 11.566384388903641, 10.621810514586562, 10.621804347009558, 9.67343206510226, 9.673431464846777, 9.65464612316389, 8.725058578990561, 8.72505855429152, 8.724315361861724, 8.721732960945259, 7.776682620163335, 7.776682612498194, 7.776677982653085, 7.7766764394758745, 7.773683681060452, 7.771184806138586, 7.762718046778746, 6.828306748335189, 6.828306723992566, 6.828306698225534, 6.828306694262051, 13.462540042350923, 10.102841762886897, 10.9112533668974, 40.42077610122724, 31.599071523158212, 16.089195497466847, 12.762017806291261, 179.68180290866266, 10.620927952159063, 24.93591464544728, 64.21321563537708, 28.552855955958044, 31.65527338526427, 153.00122585863437, 128.66208825397138, 16.407340930545754, 28.23678317423555, 44.61196671949993, 54.844233063177846, 190.08228243245856, 75.6077969972009, 51.12324805089631, 50.56042621242933, 129.84112613999966, 142.10185451683992, 100.99360133252522, 68.98014320675595, 73.0518052798946, 49.42751941998267, 84.52086676951897, 125.03280397756235, 114.06182071047111, 86.29502781693557, 87.69634474499965, 75.30425631475885, 86.18171056617032, 88.10340243932231, 83.56637175128299, 91.57241571905685, 88.70268067904894, 104.29138388052684, 76.22075811936614, 93.31309596543252, 96.34411868578916, 98.07895788358717, 76.61710888685747, 92.41791437697195, 72.5045578616513, 83.25042349030984, 78.01799002559615, 74.88334188026171, 74.50678117098244, 21.7569089240787, 19.88135473338734, 14.25455620096481, 12.37895669049037, 12.378956491992712, 58.99091859440169, 11.44115686072281, 11.438382172918097, 11.43683636656202, 104.28360593606189, 10.50335720062774, 10.503357186049122, 10.503357178122476, 10.502216468329394, 10.49600947958743, 23.622156008102, 9.565557400016552, 9.565557361006602, 9.562987955606058, 8.62775768687058, 8.627757679328743, 8.627401489317837, 8.626067898122924, 7.6899579232575785, 7.6899579018015265, 7.689957763532582, 7.689935410037522, 7.689924483965722, 7.68647391997126, 7.684280657082453, 24.578067833278936, 57.512133235693646, 35.21011969822634, 28.328392453733354, 16.01023460396504, 97.9283692354676, 31.41584106807241, 15.124482371530595, 66.69475410424546, 40.80517042056452, 18.17990167132891, 25.50827342679623, 14.24842799738737, 44.121136380784016, 18.727569897747387, 25.470580196439844, 95.77464282569521, 32.06775942400727, 21.731571689807073, 99.40880695530997, 35.84923434108208, 19.9152506893692, 202.42655776143081, 27.132786958892964, 26.036396529737093, 61.46768349075106, 111.748314231951, 69.23690029366067, 28.35536379785395, 52.19501741577705, 71.01447979263574, 81.88284803974541, 53.60465834320862, 101.82078096247544, 52.86310730928011, 90.76953398708248, 91.23103934918106, 51.31734462103866, 86.37309575574714, 72.52116754486096, 86.95248885901766, 65.57296968243462, 59.740349298820654, 65.34233145270608, 68.24166525335696, 60.27698916529535, 71.21222975017461, 61.267244905571594, 56.139831181622334, 67.40063882469433, 63.95948312237752, 62.60868938174672, 60.72618622611974, 60.10894343120812, 27.070086060956662, 16.871093526834326, 14.091298387067367, 12.23714910200637, 12.236970224804743, 11.310110889546808, 10.3830619338994, 10.377412880964485, 9.456002798486558, 9.455962158643192, 9.455068507724029, 19.69414169673875, 8.52894368971344, 8.52838463572349, 27.997347724661275, 7.601884623369383, 7.601884622475025, 7.601884622451923, 7.601884618063145, 7.601884609286228, 7.6018846090152286, 7.601869256184917, 7.601850784521207, 7.601843629568065, 7.601820884247294, 36.2707087024066, 24.276432470285595, 6.674825525768114, 6.674825512465566, 6.67482547085761, 41.75437819508557, 21.449584006136103, 13.163511780337988, 25.206299076140304, 15.018438159878109, 21.848008843233632, 11.30304718543033, 27.798837259366557, 19.653874624879315, 14.061808777137218, 45.016565976721985, 11.310215211088778, 11.891129711583547, 38.968058724414426, 49.741150680981264, 58.66778244305242, 19.64110352008261, 91.28127067071726, 57.76629571512063, 44.22212959304829, 43.120476486669475, 90.55561100303566, 97.67336137893633, 90.77681285361852, 51.81213027661069, 67.29829624252137, 73.17863740652881, 36.849344457722204, 24.28910006403385, 78.3209414408027, 47.34003046802419, 102.88269695937542, 60.134908783886054, 68.90496635175852, 65.71012781076612, 64.3229998384655, 77.89126397839824, 74.89890587367631, 76.30433290955303, 63.92841273269814, 74.239011074523, 70.4643522679668, 59.01089311246375, 62.00133195394137, 70.4869195604942, 67.37114728398693, 63.09390423526137, 56.9354587516627, 61.333755503910965, 57.91817795659378, 57.87770614605364, 56.611959520422, 29.067228266318843, 15.09259919316728, 14.160955087325021, 12.297673464527433, 12.297672855998274, 12.297663664420863, 20.143850719052065, 11.366031530841923, 10.434389589947262, 10.434379768642653, 9.502747618594757, 9.502737808895215, 10.313219472365642, 7.63946379210113, 7.639463746693307, 7.639463745608847, 7.639463741645112, 9.255748432301576, 6.707821834500702, 6.707821811358897, 6.707821759012783, 6.707819753400349, 6.707811884307792, 14.152484326155223, 20.717208803482727, 5.776179921342804, 5.77617959387357, 5.776177603391473, 5.776176554237283, 4.844537990790831, 21.614972318728608, 43.689346881787046, 14.161146932838662, 43.97449265635104, 19.057526307437257, 24.788962594632018, 61.25262636510638, 14.911132857274993, 19.37658915120993, 18.799132338662584, 26.117121659319164, 35.29990509932509, 24.302038853499237, 17.930782421720938, 72.13045665985, 68.0598562396952, 71.66535867416519, 81.22559775769054, 84.06719855482272, 89.19433981144829, 66.54133756189464, 88.43544453639242, 56.79297745467607, 71.09889705411521, 73.17699932069068, 90.10075406499902, 64.14309112791675, 75.27674148017691, 59.793244328751165, 56.93653315096095, 59.79002871102395, 57.65957777549067, 79.29284818810508, 49.63925913465456, 61.88234910685919, 76.88989257891022, 75.37805553826905, 61.14407361079657, 50.32324054852308, 64.39283678769785, 61.06569181307924, 64.8121801962828, 63.39417505951153, 60.27858317503501, 63.91520396862055, 63.46518488583901, 58.847713242282275, 59.389222630217105, 60.086045201431666, 23.33782586500456, 18.70869825408624, 18.70749660682431, 16.8563518772987, 13.151659171887676, 9.441245671182978, 8.520793250398942, 8.519549687505746, 7.5946200670347075, 7.594620050965488, 7.5946200474153915, 7.594620021409189, 7.594606802549337, 7.592879053531696, 15.928537433948817, 6.668446825114904, 6.666651478463643, 6.666071892935107, 6.662645938838299, 6.657408803063118, 13.150490703438638, 5.742273696546377, 5.742273686894776, 5.742273682063975, 5.7422736707073145, 5.742273669425404, 5.742266976830026, 5.741847340053859, 5.741257731591963, 5.740509707415387, 25.14241640633064, 11.29936077993292, 19.6349144749226, 16.494508204088913, 27.970762396937705, 18.19136176692575, 7.971735802403918, 12.225132922453536, 61.82930494771984, 34.891537275648545, 67.21968602220991, 12.835368272920526, 60.39080136642372, 32.5609875704393, 22.939744254496627, 21.87441922509493, 11.299301295000378, 11.281890670055217, 22.51477462193641, 35.159269024227406, 16.8521396221844, 19.658732215259043, 24.157448770093637, 20.709769344765114, 28.28022723993168, 91.04797135281399, 93.43500779388064, 85.48743083456796, 27.615162349122155, 63.712699683371895, 90.79543599932761, 41.77824583213453, 53.04035006487592, 58.54847255358165, 62.93950045004343, 65.05538565805213, 50.3190649877686, 76.84249778862707, 53.41791377295303, 63.812407993148774, 61.67049783807153, 39.42308964456805, 51.722900355475616, 57.92041778230573, 67.69311736259257, 64.12211100195167, 68.11754675628364, 52.358847484015484, 59.18946553640965, 62.91860924014676, 56.14705031100014, 55.67685310742522, 53.48879086460321, 54.30630776620309, 52.687700128807734, 54.87285621353702, 55.1615877679814], \"Category\": [\"Default\", \"Default\", \"Default\", \"Default\", \"Default\", \"Default\", \"Default\", \"Default\", \"Default\", \"Default\", \"Default\", \"Default\", \"Default\", \"Default\", \"Default\", \"Default\", \"Default\", \"Default\", \"Default\", \"Default\", \"Default\", \"Default\", \"Default\", \"Default\", \"Default\", \"Default\", \"Default\", \"Default\", \"Default\", \"Default\", \"Topic1\", \"Topic1\", \"Topic1\", \"Topic1\", \"Topic1\", \"Topic1\", \"Topic1\", \"Topic1\", \"Topic1\", \"Topic1\", \"Topic1\", \"Topic1\", \"Topic1\", \"Topic1\", \"Topic1\", \"Topic1\", \"Topic1\", \"Topic1\", \"Topic1\", \"Topic1\", \"Topic1\", \"Topic1\", \"Topic1\", \"Topic1\", \"Topic1\", \"Topic1\", \"Topic1\", \"Topic1\", \"Topic1\", \"Topic1\", \"Topic1\", \"Topic1\", \"Topic1\", \"Topic1\", \"Topic1\", \"Topic1\", \"Topic1\", \"Topic1\", \"Topic1\", \"Topic1\", \"Topic1\", \"Topic1\", \"Topic1\", \"Topic1\", \"Topic1\", \"Topic1\", \"Topic1\", \"Topic1\", \"Topic1\", \"Topic1\", \"Topic1\", \"Topic1\", \"Topic1\", \"Topic1\", \"Topic1\", \"Topic1\", \"Topic1\", \"Topic1\", \"Topic1\", \"Topic1\", \"Topic1\", \"Topic1\", \"Topic1\", \"Topic1\", \"Topic1\", \"Topic1\", \"Topic1\", \"Topic1\", \"Topic1\", \"Topic1\", \"Topic1\", \"Topic1\", \"Topic1\", \"Topic1\", \"Topic1\", \"Topic1\", \"Topic1\", \"Topic1\", \"Topic1\", \"Topic1\", \"Topic1\", \"Topic1\", \"Topic2\", \"Topic2\", \"Topic2\", \"Topic2\", \"Topic2\", \"Topic2\", \"Topic2\", \"Topic2\", \"Topic2\", \"Topic2\", \"Topic2\", \"Topic2\", \"Topic2\", \"Topic2\", \"Topic2\", \"Topic2\", \"Topic2\", \"Topic2\", \"Topic2\", \"Topic2\", \"Topic2\", \"Topic2\", \"Topic2\", \"Topic2\", \"Topic2\", \"Topic2\", \"Topic2\", \"Topic2\", \"Topic2\", \"Topic2\", \"Topic2\", \"Topic2\", \"Topic2\", \"Topic2\", \"Topic2\", \"Topic2\", \"Topic2\", \"Topic2\", \"Topic2\", \"Topic2\", \"Topic2\", \"Topic2\", \"Topic2\", \"Topic2\", \"Topic2\", \"Topic2\", \"Topic2\", \"Topic2\", \"Topic2\", \"Topic2\", \"Topic2\", \"Topic2\", \"Topic2\", \"Topic2\", \"Topic2\", \"Topic2\", \"Topic2\", \"Topic2\", \"Topic2\", \"Topic2\", \"Topic2\", \"Topic2\", \"Topic2\", \"Topic2\", \"Topic2\", \"Topic2\", \"Topic2\", \"Topic2\", \"Topic2\", \"Topic2\", \"Topic2\", \"Topic2\", \"Topic2\", \"Topic2\", \"Topic2\", \"Topic2\", \"Topic2\", \"Topic2\", \"Topic2\", \"Topic2\", \"Topic2\", \"Topic2\", \"Topic2\", \"Topic2\", \"Topic3\", \"Topic3\", \"Topic3\", \"Topic3\", \"Topic3\", \"Topic3\", \"Topic3\", \"Topic3\", \"Topic3\", \"Topic3\", \"Topic3\", \"Topic3\", \"Topic3\", \"Topic3\", \"Topic3\", \"Topic3\", \"Topic3\", \"Topic3\", \"Topic3\", \"Topic3\", \"Topic3\", \"Topic3\", \"Topic3\", \"Topic3\", \"Topic3\", \"Topic3\", \"Topic3\", \"Topic3\", \"Topic3\", \"Topic3\", \"Topic3\", \"Topic3\", \"Topic3\", \"Topic3\", \"Topic3\", \"Topic3\", \"Topic3\", \"Topic3\", \"Topic3\", \"Topic3\", \"Topic3\", \"Topic3\", \"Topic3\", \"Topic3\", \"Topic3\", \"Topic3\", \"Topic3\", \"Topic3\", \"Topic3\", \"Topic3\", \"Topic3\", \"Topic3\", \"Topic3\", \"Topic3\", \"Topic3\", \"Topic3\", \"Topic3\", \"Topic3\", \"Topic3\", \"Topic3\", \"Topic3\", \"Topic3\", \"Topic3\", \"Topic3\", \"Topic3\", \"Topic3\", \"Topic3\", \"Topic3\", \"Topic3\", \"Topic3\", \"Topic3\", \"Topic3\", \"Topic3\", \"Topic3\", \"Topic3\", \"Topic3\", \"Topic3\", \"Topic3\", \"Topic3\", \"Topic3\", \"Topic3\", \"Topic3\", \"Topic4\", \"Topic4\", \"Topic4\", \"Topic4\", \"Topic4\", \"Topic4\", \"Topic4\", \"Topic4\", \"Topic4\", \"Topic4\", \"Topic4\", \"Topic4\", \"Topic4\", \"Topic4\", \"Topic4\", \"Topic4\", \"Topic4\", \"Topic4\", \"Topic4\", \"Topic4\", \"Topic4\", \"Topic4\", \"Topic4\", \"Topic4\", \"Topic4\", \"Topic4\", \"Topic4\", \"Topic4\", \"Topic4\", \"Topic4\", \"Topic4\", \"Topic4\", \"Topic4\", \"Topic4\", \"Topic4\", \"Topic4\", \"Topic4\", \"Topic4\", \"Topic4\", \"Topic4\", \"Topic4\", \"Topic4\", \"Topic4\", \"Topic4\", \"Topic4\", \"Topic4\", \"Topic4\", \"Topic4\", \"Topic4\", \"Topic4\", \"Topic4\", \"Topic4\", \"Topic4\", \"Topic4\", \"Topic4\", \"Topic4\", \"Topic4\", \"Topic4\", \"Topic4\", \"Topic4\", \"Topic4\", \"Topic4\", \"Topic4\", \"Topic4\", \"Topic4\", \"Topic4\", \"Topic4\", \"Topic4\", \"Topic4\", \"Topic4\", \"Topic4\", \"Topic4\", \"Topic4\", \"Topic4\", \"Topic4\", \"Topic4\", \"Topic4\", \"Topic4\", \"Topic4\", \"Topic5\", \"Topic5\", \"Topic5\", \"Topic5\", \"Topic5\", \"Topic5\", \"Topic5\", \"Topic5\", \"Topic5\", \"Topic5\", \"Topic5\", \"Topic5\", \"Topic5\", \"Topic5\", \"Topic5\", \"Topic5\", \"Topic5\", \"Topic5\", \"Topic5\", \"Topic5\", \"Topic5\", \"Topic5\", \"Topic5\", \"Topic5\", \"Topic5\", \"Topic5\", \"Topic5\", \"Topic5\", \"Topic5\", \"Topic5\", \"Topic5\", \"Topic5\", \"Topic5\", \"Topic5\", \"Topic5\", \"Topic5\", \"Topic5\", \"Topic5\", \"Topic5\", \"Topic5\", \"Topic5\", \"Topic5\", \"Topic5\", \"Topic5\", \"Topic5\", \"Topic5\", \"Topic5\", \"Topic5\", \"Topic5\", \"Topic5\", \"Topic5\", \"Topic5\", \"Topic5\", \"Topic5\", \"Topic5\", \"Topic5\", \"Topic5\", \"Topic5\", \"Topic5\", \"Topic5\", \"Topic5\", \"Topic5\", \"Topic5\", \"Topic5\", \"Topic5\", \"Topic5\", \"Topic5\", \"Topic5\", \"Topic5\", \"Topic5\", \"Topic5\", \"Topic5\", \"Topic5\", \"Topic5\", \"Topic5\", \"Topic5\", \"Topic5\", \"Topic5\", \"Topic5\", \"Topic5\", \"Topic5\", \"Topic5\", \"Topic5\", \"Topic5\", \"Topic5\", \"Topic5\", \"Topic5\"]}};\n",
       "\n",
       "function LDAvis_load_lib(url, callback){\n",
       "  var s = document.createElement('script');\n",
       "  s.src = url;\n",
       "  s.async = true;\n",
       "  s.onreadystatechange = s.onload = callback;\n",
       "  s.onerror = function(){console.warn(\"failed to load library \" + url);};\n",
       "  document.getElementsByTagName(\"head\")[0].appendChild(s);\n",
       "}\n",
       "\n",
       "if(typeof(LDAvis) !== \"undefined\"){\n",
       "   // already loaded: just create the visualization\n",
       "   !function(LDAvis){\n",
       "       new LDAvis(\"#\" + \"ldavis_el127731401266404818886659638683\", ldavis_el127731401266404818886659638683_data);\n",
       "   }(LDAvis);\n",
       "}else if(typeof define === \"function\" && define.amd){\n",
       "   // require.js is available: use it to load d3/LDAvis\n",
       "   require.config({paths: {d3: \"https://cdnjs.cloudflare.com/ajax/libs/d3/3.5.5/d3.min\"}});\n",
       "   require([\"d3\"], function(d3){\n",
       "      window.d3 = d3;\n",
       "      LDAvis_load_lib(\"https://cdn.rawgit.com/bmabey/pyLDAvis/files/ldavis.v1.0.0.js\", function(){\n",
       "        new LDAvis(\"#\" + \"ldavis_el127731401266404818886659638683\", ldavis_el127731401266404818886659638683_data);\n",
       "      });\n",
       "    });\n",
       "}else{\n",
       "    // require.js not available: dynamically load d3 & LDAvis\n",
       "    LDAvis_load_lib(\"https://cdnjs.cloudflare.com/ajax/libs/d3/3.5.5/d3.min.js\", function(){\n",
       "         LDAvis_load_lib(\"https://cdn.rawgit.com/bmabey/pyLDAvis/files/ldavis.v1.0.0.js\", function(){\n",
       "                 new LDAvis(\"#\" + \"ldavis_el127731401266404818886659638683\", ldavis_el127731401266404818886659638683_data);\n",
       "            })\n",
       "         });\n",
       "}\n",
       "</script>"
      ],
      "text/plain": [
       "PreparedData(topic_coordinates=            Freq  cluster  topics         x         y\n",
       "topic                                                \n",
       "0      25.358835        1       1  0.002639 -0.025267\n",
       "1      21.025879        1       2 -0.088431  0.061752\n",
       "2      18.620918        1       3 -0.040557 -0.070280\n",
       "3      17.797962        1       4  0.053796 -0.012008\n",
       "4      17.196407        1       5  0.072553  0.045803, topic_info=     Category        Freq     Term       Total  loglift  logprob\n",
       "term                                                            \n",
       "1728  Default  111.000000    shark  111.000000  30.0000  30.0000\n",
       "3396  Default  114.000000     boat  114.000000  29.0000  29.0000\n",
       "6426  Default  104.000000     sing  104.000000  28.0000  28.0000\n",
       "1757  Default  143.000000    water  143.000000  27.0000  27.0000\n",
       "2526  Default  201.000000  soldier  201.000000  26.0000  26.0000\n",
       "3061  Default  205.000000    apart  205.000000  25.0000  25.0000\n",
       "6072  Default   62.000000    bridg   62.000000  24.0000  24.0000\n",
       "721   Default   81.000000   villag   81.000000  23.0000  23.0000\n",
       "6974  Default   64.000000  mission   64.000000  22.0000  22.0000\n",
       "6375  Default  344.000000   famili  344.000000  21.0000  21.0000\n",
       "7984  Default   90.000000  perform   90.000000  20.0000  20.0000\n",
       "224   Default   46.000000    alien   46.000000  19.0000  19.0000\n",
       "8027  Default  100.000000   window  100.000000  18.0000  18.0000\n",
       "2279  Default   53.000000   guilti   53.000000  17.0000  17.0000\n",
       "6172  Default  134.000000     ship  134.000000  16.0000  16.0000\n",
       "1366  Default   56.000000     vote   56.000000  15.0000  15.0000\n",
       "7058  Default  260.000000    fight  260.000000  14.0000  14.0000\n",
       "3519  Default   39.000000     king   39.000000  13.0000  13.0000\n",
       "2066  Default   55.000000    river   55.000000  12.0000  12.0000\n",
       "5769  Default   29.000000    juror   29.000000  11.0000  11.0000\n",
       "7937  Default   48.000000    beach   48.000000  10.0000  10.0000\n",
       "2244  Default   39.000000    squad   39.000000   9.0000   9.0000\n",
       "5343  Default  150.000000      war  150.000000   8.0000   8.0000\n",
       "6642  Default  596.000000     kill  596.000000   7.0000   7.0000\n",
       "3437  Default  225.000000   murder  225.000000   6.0000   6.0000\n",
       "1405  Default   48.000000     song   48.000000   5.0000   5.0000\n",
       "173   Default   27.000000    droid   27.000000   4.0000   4.0000\n",
       "5674  Default  124.000000      job  124.000000   3.0000   3.0000\n",
       "1544  Default   30.000000    ranch   30.000000   2.0000   2.0000\n",
       "1297  Default   35.000000      pod   35.000000   1.0000   1.0000\n",
       "...       ...         ...      ...         ...      ...      ...\n",
       "919    Topic5   85.487431     call  334.436011   0.3964  -5.4620\n",
       "2292   Topic5   27.615162   servic   54.071372   1.0885  -6.5920\n",
       "3194   Topic5   63.712700    drive  209.260039   0.5713  -5.7560\n",
       "5514   Topic5   90.795436      n't  377.801858   0.3347  -5.4018\n",
       "1131   Topic5   41.778246   hospit  106.599989   0.8238  -6.1780\n",
       "2268   Topic5   53.040350   appear  161.825977   0.6450  -5.9393\n",
       "6431   Topic5   58.548473     look  208.065971   0.4925  -5.8405\n",
       "2685   Topic5   62.939500     wife  240.383450   0.4204  -5.7682\n",
       "4353   Topic5   65.055386    later  257.075026   0.3863  -5.7351\n",
       "906    Topic5   50.319065    break  159.619569   0.6061  -5.9920\n",
       "6270   Topic5   76.842498      two  390.866278   0.1339  -5.5686\n",
       "3634   Topic5   53.417914     open  200.038633   0.4401  -5.9322\n",
       "5531   Topic5   63.812408      doe  295.198699   0.2288  -5.7544\n",
       "7764   Topic5   61.670498     love  283.229940   0.2360  -5.7886\n",
       "3411   Topic5   39.423090      sit  109.203720   0.7416  -6.2360\n",
       "5126   Topic5   51.722900     room  198.785962   0.4141  -5.9645\n",
       "7058   Topic5   57.920418    fight  260.842363   0.2556  -5.8513\n",
       "532    Topic5   67.693117      say  378.366165   0.0396  -5.6954\n",
       "5516   Topic5   64.122111      day  353.982146   0.0520  -5.7496\n",
       "4458   Topic5   68.117547      ask  438.207714  -0.1010  -5.6891\n",
       "3656   Topic5   52.358847      end  232.841163   0.2682  -5.9523\n",
       "1465   Topic5   59.189466     come  327.319121   0.0503  -5.8296\n",
       "782    Topic5   62.918609       go  401.219375  -0.0922  -5.7685\n",
       "3264   Topic5   56.147050    first  299.745552   0.0855  -5.8824\n",
       "6457   Topic5   55.676853    order  299.055074   0.0794  -5.8908\n",
       "2414   Topic5   53.488791     next  265.385673   0.1588  -5.9309\n",
       "1928   Topic5   54.306308      run  319.898908  -0.0129  -5.9157\n",
       "3249   Topic5   52.687700     away  301.145776   0.0173  -5.9460\n",
       "4001   Topic5   54.872856    arriv  376.911986  -0.1665  -5.9054\n",
       "562    Topic5   55.161588   friend  404.215870  -0.2312  -5.9001\n",
       "\n",
       "[444 rows x 6 columns], token_table=      Topic      Freq           Term\n",
       "term                                \n",
       "4361      5  0.958819            9th\n",
       "4307      5  0.958814          abbey\n",
       "36        2  0.960061     acrophobia\n",
       "2482      1  0.938844        aggress\n",
       "889       3  0.958005             ai\n",
       "1199      5  0.943706       airstrik\n",
       "224       1  0.086116          alien\n",
       "224       3  0.904222          alien\n",
       "1204      1  0.311754           also\n",
       "1204      2  0.150623           also\n",
       "1204      3  0.175143           also\n",
       "1204      4  0.206669           also\n",
       "1204      5  0.157629           also\n",
       "6616      1  0.063367        ancient\n",
       "6616      3  0.063367        ancient\n",
       "6616      5  0.823768        ancient\n",
       "2943      1  0.039483          angel\n",
       "2943      2  0.947586          angel\n",
       "3061      1  0.365569          apart\n",
       "3061      2  0.053617          apart\n",
       "3061      4  0.350946          apart\n",
       "3061      5  0.224216          apart\n",
       "407       2  0.977777            ape\n",
       "2268      1  0.278076         appear\n",
       "2268      2  0.241000         appear\n",
       "2268      3  0.105051         appear\n",
       "2268      4  0.049436         appear\n",
       "2268      5  0.327512         appear\n",
       "6335      5  0.943721  archaeologist\n",
       "4001      1  0.254701          arriv\n",
       "...     ...       ...            ...\n",
       "8027      4  0.079497         window\n",
       "8027      5  0.596231         window\n",
       "2130      3  0.958005           wipe\n",
       "5807      2  0.914243          witch\n",
       "3362      2  0.902544         wizard\n",
       "800       1  0.950410           wolf\n",
       "2777      1  0.238261          woman\n",
       "2777      2  0.157151          woman\n",
       "2777      3  0.081110          woman\n",
       "2777      4  0.288955          woman\n",
       "2777      5  0.233192          woman\n",
       "7050      1  0.263503           work\n",
       "7050      2  0.175669           work\n",
       "7050      3  0.139071           work\n",
       "7050      4  0.296441           work\n",
       "7050      5  0.120772           work\n",
       "6909      1  0.938841         worsen\n",
       "2316      1  0.232152          wound\n",
       "2316      2  0.394659          wound\n",
       "2316      3  0.193460          wound\n",
       "2316      4  0.069646          wound\n",
       "2316      5  0.116076          wound\n",
       "3081      1  0.056687          yacht\n",
       "3081      3  0.793615          yacht\n",
       "3081      5  0.113374          yacht\n",
       "4922      1  0.427331          young\n",
       "4922      2  0.204376          young\n",
       "4922      3  0.179603          young\n",
       "4922      4  0.117671          young\n",
       "4922      5  0.074318          young\n",
       "\n",
       "[946 rows x 3 columns], R=30, lambda_step=0.01, plot_opts={'xlab': 'PC1', 'ylab': 'PC2'}, topic_order=[1, 2, 3, 4, 5])"
      ]
     },
     "execution_count": 115,
     "metadata": {},
     "output_type": "execute_result"
    }
   ],
   "source": [
    "pyLDAvis.enable_notebook()\n",
    "pyLDAvis.gensim.prepare(lda, corpus, dictionary)"
   ]
  },
  {
   "cell_type": "code",
   "execution_count": null,
   "metadata": {
    "collapsed": true
   },
   "outputs": [],
   "source": []
  }
 ],
 "metadata": {
  "kernelspec": {
   "display_name": "Python 3",
   "language": "python",
   "name": "python3"
  },
  "language_info": {
   "codemirror_mode": {
    "name": "ipython",
    "version": 3
   },
   "file_extension": ".py",
   "mimetype": "text/x-python",
   "name": "python",
   "nbconvert_exporter": "python",
   "pygments_lexer": "ipython3",
   "version": "3.5.1+"
  }
 },
 "nbformat": 4,
 "nbformat_minor": 0
}
