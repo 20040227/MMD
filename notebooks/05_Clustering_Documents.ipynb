{
 "cells": [
  {
   "cell_type": "markdown",
   "metadata": {},
   "source": [
    "Mestrado em Modelagem Matematica da Informacao\n",
    "----------------------------------------------\n",
    "Disciplina: Modelagem e Mineracao de Dados\n",
    "------------------------------------------\n",
    "\n",
    "Master Program - Mathematical Modeling of Information\n",
    "-----------------------------------------------------\n",
    "Course: Data Mining and Modeling\n",
    "--------------------------------\n",
    "\n",
    "Professor: Renato Rocha Souza\n",
    "-----------------------------"
   ]
  },
  {
   "cell_type": "markdown",
   "metadata": {},
   "source": [
    "### Topic: Clustering documents"
   ]
  },
  {
   "cell_type": "markdown",
   "metadata": {},
   "source": [
    "This notebook is based on http://www.brandonrose.org and http://www.brandonrose.org/top100  "
   ]
  },
  {
   "cell_type": "markdown",
   "metadata": {},
   "source": [
    "In this guide, I will explain how to cluster a set of documents using Python. My motivating example is to identify the latent structures within the synopses of the top 100 films of all time (per an IMDB list). \n",
    "\n",
    "This notebook covers:\n",
    "\n",
    "<ul>\n",
    "<li> tokenizing and stemming each synopsis\n",
    "<li> transforming the corpus into vector space using [tf-idf](http://en.wikipedia.org/wiki/Tf%E2%80%93idf)\n",
    "<li> calculating cosine distance between each document as a measure of similarity\n",
    "<li> clustering the documents using the [k-means algorithm](http://en.wikipedia.org/wiki/K-means_clustering)\n",
    "<li> using [multidimensional scaling](http://en.wikipedia.org/wiki/Multidimensional_scaling) to reduce dimensionality within the corpus\n",
    "<li> plotting the clustering output using [matplotlib](http://matplotlib.org/) and [mpld3](http://mpld3.github.io/)\n",
    "<li> conducting a hierarchical clustering on the corpus using [Ward clustering](http://en.wikipedia.org/wiki/Ward%27s_method)\n",
    "<li> plotting a Ward dendrogram\n",
    "<li> topic modeling using [Latent Dirichlet Allocation (LDA)](http://en.wikipedia.org/wiki/Latent_Dirichlet_allocation)\n",
    "</ul>"
   ]
  },
  {
   "cell_type": "markdown",
   "metadata": {},
   "source": [
    "## Contents"
   ]
  },
  {
   "cell_type": "markdown",
   "metadata": {},
   "source": [
    "<ul>\n",
    "<li>[Stopwords, stemming, and tokenization](#Stopwords,-stemming,-and-tokenizing)\n",
    "<li>[Tf-idf and document similarity](#Tf-idf-and-document-similarity)\n",
    "<li>[K-means clustering](#K-means-clustering)\n",
    "<li>[Multidimensional scaling](#Multidimensional-scaling)\n",
    "<li>[Visualizing document clusters](#Visualizing-document-clusters)\n",
    "<li>[Hierarchical document clustering](#Hierarchical-document-clustering)\n",
    "<li>[Latent Dirichlet Allocation (LDA)](#Latent-Dirichlet-Allocation)\n",
    "</ul>"
   ]
  },
  {
   "cell_type": "markdown",
   "metadata": {},
   "source": [
    "But first, I import everything I am going to need up front"
   ]
  },
  {
   "cell_type": "code",
   "execution_count": 1,
   "metadata": {
    "collapsed": false
   },
   "outputs": [
    {
     "name": "stderr",
     "output_type": "stream",
     "text": [
      "/usr/local/lib/python3.5/dist-packages/matplotlib/backends/backend_gtk3agg.py:18: UserWarning: The Gtk3Agg backend is known to not work on Python 3.x with pycairo. Try installing cairocffi.\n",
      "  \"The Gtk3Agg backend is known to not work on Python 3.x with pycairo. \"\n",
      "/usr/local/lib/python3.5/dist-packages/funcy/decorators.py:56: DeprecationWarning: inspect.getargspec() is deprecated, use inspect.signature() instead\n",
      "  spec = inspect.getargspec(func)\n",
      "/usr/local/lib/python3.5/dist-packages/funcy/decorators.py:56: DeprecationWarning: inspect.getargspec() is deprecated, use inspect.signature() instead\n",
      "  spec = inspect.getargspec(func)\n",
      "/usr/local/lib/python3.5/dist-packages/funcy/decorators.py:56: DeprecationWarning: inspect.getargspec() is deprecated, use inspect.signature() instead\n",
      "  spec = inspect.getargspec(func)\n",
      "/usr/local/lib/python3.5/dist-packages/funcy/decorators.py:56: DeprecationWarning: inspect.getargspec() is deprecated, use inspect.signature() instead\n",
      "  spec = inspect.getargspec(func)\n",
      "/usr/local/lib/python3.5/dist-packages/funcy/decorators.py:56: DeprecationWarning: inspect.getargspec() is deprecated, use inspect.signature() instead\n",
      "  spec = inspect.getargspec(func)\n",
      "/usr/local/lib/python3.5/dist-packages/funcy/decorators.py:56: DeprecationWarning: inspect.getargspec() is deprecated, use inspect.signature() instead\n",
      "  spec = inspect.getargspec(func)\n",
      "/usr/local/lib/python3.5/dist-packages/ipykernel/pylab/config.py:66: DeprecationWarning: metadata {'config': True} was set from the constructor.  Metadata should be set using the .tag() method, e.g., Int().tag(key1='value1', key2='value2')\n",
      "  inline backend.\"\"\"\n",
      "/usr/local/lib/python3.5/dist-packages/ipykernel/pylab/config.py:71: DeprecationWarning: metadata {'config': True} was set from the constructor.  Metadata should be set using the .tag() method, e.g., Int().tag(key1='value1', key2='value2')\n",
      "  'retina', 'jpeg', 'svg', 'pdf'.\"\"\")\n",
      "/usr/local/lib/python3.5/dist-packages/ipykernel/pylab/config.py:85: DeprecationWarning: metadata {'config': True} was set from the constructor.  Metadata should be set using the .tag() method, e.g., Int().tag(key1='value1', key2='value2')\n",
      "  use `figure_formats` instead)\"\"\")\n",
      "/usr/local/lib/python3.5/dist-packages/ipykernel/pylab/config.py:95: DeprecationWarning: metadata {'config': True} was set from the constructor.  Metadata should be set using the .tag() method, e.g., Int().tag(key1='value1', key2='value2')\n",
      "  \"\"\"\n",
      "/usr/local/lib/python3.5/dist-packages/ipykernel/pylab/config.py:114: DeprecationWarning: metadata {'config': True} was set from the constructor.  Metadata should be set using the .tag() method, e.g., Int().tag(key1='value1', key2='value2')\n",
      "  \"\"\")\n",
      "/usr/local/lib/python3.5/dist-packages/ipykernel/pylab/config.py:44: DeprecationWarning: InlineBackend._config_changed is deprecated: use @observe and @unobserve instead.\n",
      "  def _config_changed(self, name, old, new):\n",
      "/usr/local/lib/python3.5/dist-packages/traitlets/traitlets.py:770: DeprecationWarning: A parent of InlineBackend._config_changed has adopted the new @observe(change) API\n",
      "  clsname, change_or_name), DeprecationWarning)\n"
     ]
    }
   ],
   "source": [
    "import numpy as np\n",
    "import pandas as pd\n",
    "import nltk\n",
    "from bs4 import BeautifulSoup\n",
    "import re\n",
    "import os\n",
    "import codecs\n",
    "import matplotlib.pyplot as plt\n",
    "import matplotlib as mpl\n",
    "from sklearn import feature_extraction\n",
    "import mpld3\n",
    "import pyLDAvis\n",
    "import pyLDAvis.gensim\n",
    "\n",
    "%matplotlib inline"
   ]
  },
  {
   "cell_type": "markdown",
   "metadata": {},
   "source": [
    "Specifying the path to the files  "
   ]
  },
  {
   "cell_type": "code",
   "execution_count": 2,
   "metadata": {
    "collapsed": true
   },
   "outputs": [],
   "source": [
    "datapath = \"../datasets/texts/doccluster/\"\n",
    "outputs = \"../outputs/\""
   ]
  },
  {
   "cell_type": "markdown",
   "metadata": {},
   "source": [
    "#### import three lists: titles, links and wikipedia synopses  "
   ]
  },
  {
   "cell_type": "code",
   "execution_count": 3,
   "metadata": {
    "collapsed": false
   },
   "outputs": [
    {
     "name": "stdout",
     "output_type": "stream",
     "text": [
      "100 titles\n",
      "['The Godfather', 'The Shawshank Redemption', \"Schindler's List\", 'Raging Bull', 'Casablanca']\n"
     ]
    }
   ],
   "source": [
    "titles = open(os.path.join(datapath, 'title_list.txt')).read().split('\\n')\n",
    "#ensures that only the first 100 are read in\n",
    "titles = titles[:100]\n",
    "print(str(len(titles)) + ' titles')\n",
    "\n",
    "print(titles[0:5])"
   ]
  },
  {
   "cell_type": "code",
   "execution_count": 4,
   "metadata": {
    "collapsed": false
   },
   "outputs": [
    {
     "name": "stdout",
     "output_type": "stream",
     "text": [
      "100 links\n",
      "['http://www.imdb.com/title/tt0068646/', 'http://www.imdb.com/title/tt0111161/', 'http://www.imdb.com/title/tt0108052/', 'http://www.imdb.com/title/tt0081398/', 'http://www.imdb.com/title/tt0034583/']\n"
     ]
    }
   ],
   "source": [
    "links = open(os.path.join(datapath, 'link_list_imdb.txt')).read().split('\\n')\n",
    "links = links[:100]\n",
    "print(str(len(links)) + ' links')\n",
    "\n",
    "print(links[0:5])"
   ]
  },
  {
   "cell_type": "code",
   "execution_count": 5,
   "metadata": {
    "collapsed": false
   },
   "outputs": [
    {
     "name": "stdout",
     "output_type": "stream",
     "text": [
      "100 synopses\n",
      " Plot  [edit]  [  [  edit  edit  ]  ]  \n",
      "  On the day of his only daughter's wedding, Vito Corleone hears requests in his role as the Godfather, the Don of a New York crime family. Vito's youngest son, Michael, in a Marine Corps uniform, introduces his girlfriend, Kay Adams, to his family at the spra\n"
     ]
    }
   ],
   "source": [
    "synopses_wiki = open(os.path.join(datapath, 'synopses_list_wiki.txt')).read().split('\\n BREAKS HERE')\n",
    "synopses_wiki = synopses_wiki[:100]\n",
    "\n",
    "synopses_clean_wiki = []\n",
    "for text in synopses_wiki:\n",
    "    text = BeautifulSoup(text, 'html.parser').getText()\n",
    "    #strips html formatting and converts to unicode\n",
    "    synopses_clean_wiki.append(text)\n",
    "synopses_wiki = synopses_clean_wiki\n",
    "\n",
    "print(str(len(synopses_wiki)) + ' synopses')\n",
    "\n",
    "print(synopses_wiki[0][0:300])"
   ]
  },
  {
   "cell_type": "code",
   "execution_count": 6,
   "metadata": {
    "collapsed": false
   },
   "outputs": [
    {
     "name": "stdout",
     "output_type": "stream",
     "text": [
      "100 genres\n",
      "[\"[u' Crime', u' Drama']\", \"[u' Crime', u' Drama']\", \"[u' Biography', u' Drama', u' History']\", \"[u' Biography', u' Drama', u' Sport']\", \"[u' Drama', u' Romance', u' War']\"]\n"
     ]
    }
   ],
   "source": [
    "genres = open(os.path.join(datapath,'genres_list.txt')).read().split('\\n')\n",
    "genres = genres[:100]\n",
    "print(str(len(genres)) + ' genres')\n",
    "\n",
    "print(genres[0:5])"
   ]
  },
  {
   "cell_type": "code",
   "execution_count": 7,
   "metadata": {
    "collapsed": false
   },
   "outputs": [],
   "source": [
    "synopses_imdb = open(os.path.join(datapath,'synopses_list_imdb.txt')).read().split('\\n BREAKS HERE')\n",
    "synopses_imdb = synopses_imdb[:100]\n",
    "synopses_clean_imdb = []\n",
    "\n",
    "for text in synopses_imdb:\n",
    "    text = BeautifulSoup(text, 'html.parser').getText()\n",
    "    #strips html formatting and converts to unicode\n",
    "    synopses_clean_imdb.append(text)\n",
    "\n",
    "synopses_imdb = synopses_clean_imdb"
   ]
  },
  {
   "cell_type": "code",
   "execution_count": 8,
   "metadata": {
    "collapsed": false
   },
   "outputs": [],
   "source": [
    "synopses = []\n",
    "for i in range(len(synopses_wiki)):\n",
    "    item = synopses_wiki[i] + synopses_imdb[i]\n",
    "    synopses.append(item)"
   ]
  },
  {
   "cell_type": "code",
   "execution_count": 9,
   "metadata": {
    "collapsed": false
   },
   "outputs": [],
   "source": [
    "# generates index for each item in the corpora (in this case it's just rank) and I'll use this for scoring later\n",
    "ranks = []\n",
    "\n",
    "for i in range(0,len(titles)):\n",
    "    ranks.append(i)"
   ]
  },
  {
   "cell_type": "markdown",
   "metadata": {},
   "source": [
    "### Stopwords, stemming, and tokenizing"
   ]
  },
  {
   "cell_type": "markdown",
   "metadata": {},
   "source": [
    "This section is focused on defining some functions to manipulate the synopses. First, I load [NLTK's](http://www.nltk.org/) list of English stop words. [Stop words](http://en.wikipedia.org/wiki/Stop_words) are words like \"a\", \"the\", or \"in\" which don't convey significant meaning. I'm sure there are much better explanations of this out there."
   ]
  },
  {
   "cell_type": "code",
   "execution_count": 10,
   "metadata": {
    "collapsed": false
   },
   "outputs": [],
   "source": [
    "# load nltk's English stopwords as variable called 'stopwords'\n",
    "stopwords = nltk.corpus.stopwords.words('english')"
   ]
  },
  {
   "cell_type": "markdown",
   "metadata": {},
   "source": [
    "Next I import the [Snowball Stemmer](http://snowball.tartarus.org/) which is actually part of NLTK. [Stemming](http://en.wikipedia.org/wiki/Stemming) is just the process of breaking a word down into its root."
   ]
  },
  {
   "cell_type": "code",
   "execution_count": 11,
   "metadata": {
    "collapsed": false
   },
   "outputs": [],
   "source": [
    "# load nltk's SnowballStemmer as variabled 'stemmer'\n",
    "from nltk.stem.snowball import SnowballStemmer\n",
    "stemmer = SnowballStemmer(\"english\")"
   ]
  },
  {
   "cell_type": "markdown",
   "metadata": {},
   "source": [
    "\n",
    "Below I define two functions:\n",
    "\n",
    "<ul>\n",
    "<li> *tokenize_and_stem*: tokenizes (splits the synopsis into a list of its respective words (or tokens) and also stems each token <li> *tokenize_only*: tokenizes the synopsis only\n",
    "</ul>\n",
    "\n",
    "I use both these functions to create a dictionary which becomes important in case I want to use stems for an algorithm, but later convert stems back to their full words for presentation purposes. Guess what, I do want to do that!\n",
    "\n"
   ]
  },
  {
   "cell_type": "code",
   "execution_count": 12,
   "metadata": {
    "collapsed": false
   },
   "outputs": [],
   "source": [
    "# here I define a tokenizer and stemmer which returns the set of stems in the text that it is passed\n",
    "\n",
    "def tokenize_and_stem(text):\n",
    "    # first tokenize by sentence, then by word to ensure that punctuation is caught as it's own token\n",
    "    tokens = [word for sent in nltk.sent_tokenize(text) for word in nltk.word_tokenize(sent)]\n",
    "    filtered_tokens = []\n",
    "    # filter out any tokens not containing letters (e.g., numeric tokens, raw punctuation)\n",
    "    for token in tokens:\n",
    "        if re.search('[a-zA-Z]', token):\n",
    "            filtered_tokens.append(token)\n",
    "    stems = [stemmer.stem(t) for t in filtered_tokens]\n",
    "    return stems\n",
    "\n",
    "\n",
    "def tokenize_only(text):\n",
    "    # first tokenize by sentence, then by word to ensure that punctuation is caught as it's own token\n",
    "    tokens = [word.lower() for sent in nltk.sent_tokenize(text) for word in nltk.word_tokenize(sent)]\n",
    "    filtered_tokens = []\n",
    "    # filter out any tokens not containing letters (e.g., numeric tokens, raw punctuation)\n",
    "    for token in tokens:\n",
    "        if re.search('[a-zA-Z]', token):\n",
    "            filtered_tokens.append(token)\n",
    "    return filtered_tokens"
   ]
  },
  {
   "cell_type": "markdown",
   "metadata": {},
   "source": [
    "Below I use my stemming/tokenizing and tokenizing functions to iterate over the list of synopses to create two vocabularies: one stemmed and one only tokenized. "
   ]
  },
  {
   "cell_type": "code",
   "execution_count": 13,
   "metadata": {
    "collapsed": false
   },
   "outputs": [],
   "source": [
    "totalvocab_stemmed = []\n",
    "totalvocab_tokenized = []\n",
    "for i in synopses:\n",
    "    allwords_stemmed = tokenize_and_stem(i)\n",
    "    totalvocab_stemmed.extend(allwords_stemmed)\n",
    "    \n",
    "    allwords_tokenized = tokenize_only(i)\n",
    "    totalvocab_tokenized.extend(allwords_tokenized)"
   ]
  },
  {
   "cell_type": "markdown",
   "metadata": {},
   "source": [
    "Using these two lists, I create a pandas DataFrame with the stemmed vocabulary as the index and the tokenized words as the column. The benefit of this is it provides an efficient way to look up a stem and return a full token. The downside here is that stems to tokens are one to many: the stem 'run' could be associated with 'ran', 'runs', 'running', etc. For my purposes this is fine--I'm perfectly happy returning the first token associated with the stem I need to look up."
   ]
  },
  {
   "cell_type": "code",
   "execution_count": 14,
   "metadata": {
    "collapsed": false
   },
   "outputs": [],
   "source": [
    "vocab_frame = pd.DataFrame({'words': totalvocab_tokenized}, index = totalvocab_stemmed)"
   ]
  },
  {
   "cell_type": "markdown",
   "metadata": {},
   "source": [
    "### Tf-idf and document similarity"
   ]
  },
  {
   "cell_type": "markdown",
   "metadata": {},
   "source": [
    "<img src='http://www.jiem.org/index.php/jiem/article/viewFile/293/252/2402' align='right' style=\"margin-left:10px\">\n",
    "\n",
    "Here, I define term frequency-inverse document frequency (tf-idf) vectorizer parameters and then convert the *synopses* list into a tf-idf matrix. \n",
    "\n",
    "To get a Tf-idf matrix, first count word occurrences by document. This is transformed into a document-term matrix (dtm). This is also just called a term frequency matrix. An example of a dtm is here at right.\n",
    "\n",
    "Then apply the term frequency-inverse document frequency weighting: words that occur frequently within a document but not frequently within the corpus receive a higher weighting as these words are assumed to contain more meaning in relation to the document.\n",
    "\n",
    "A couple things to note about the parameters I define below:\n",
    "\n",
    "<ul>\n",
    "<li> max_df: this is the maximum frequency within the documents a given feature can have to be used in the tfi-idf matrix. If the term is in greater than 80% of the documents it probably cares little meanining (in the context of film synopses)\n",
    "<li> min_idf: this could be an integer (e.g. 5) and the term would have to be in at least 5 of the documents to be considered. Here I pass 0.2; the term must be in at least 20% of the document. I found that if I allowed a lower min_df I ended up basing clustering on names--for example \"Michael\" or \"Tom\" are names found in several of the movies and the synopses use these names frequently, but the names carry no real meaning.\n",
    "<li> ngram_range: this just means I'll look at unigrams, bigrams and trigrams. See [n-grams](http://en.wikipedia.org/wiki/N-gram)\n",
    "</ul>"
   ]
  },
  {
   "cell_type": "code",
   "execution_count": 15,
   "metadata": {
    "collapsed": false
   },
   "outputs": [
    {
     "name": "stdout",
     "output_type": "stream",
     "text": [
      "CPU times: user 37.3 s, sys: 172 ms, total: 37.5 s\n",
      "Wall time: 37.6 s\n",
      "(100, 563)\n"
     ]
    }
   ],
   "source": [
    "from sklearn.feature_extraction.text import TfidfVectorizer\n",
    "\n",
    "tfidf_vectorizer = TfidfVectorizer(max_df=0.8, \n",
    "                                   max_features=200000,\n",
    "                                   min_df=0.2, \n",
    "                                   stop_words='english',\n",
    "                                   use_idf=True, \n",
    "                                   tokenizer=tokenize_and_stem, \n",
    "                                   ngram_range=(1,3))\n",
    "\n",
    "%time tfidf_matrix = tfidf_vectorizer.fit_transform(synopses)\n",
    "\n",
    "print(tfidf_matrix.shape)"
   ]
  },
  {
   "cell_type": "code",
   "execution_count": 16,
   "metadata": {
    "collapsed": false
   },
   "outputs": [],
   "source": [
    "terms = tfidf_vectorizer.get_feature_names()"
   ]
  },
  {
   "cell_type": "code",
   "execution_count": 17,
   "metadata": {
    "collapsed": false
   },
   "outputs": [],
   "source": [
    "from sklearn.metrics.pairwise import cosine_similarity\n",
    "dist = 1 - cosine_similarity(tfidf_matrix)"
   ]
  },
  {
   "cell_type": "markdown",
   "metadata": {},
   "source": [
    "### K-means clustering"
   ]
  },
  {
   "cell_type": "markdown",
   "metadata": {},
   "source": [
    "Now onto the fun part. Using the tf-idf matrix, you can run a slew of clustering algorithms to better understand the hidden structure within the synopses. I first chose [k-means](http://en.wikipedia.org/wiki/K-means_clustering). K-means initializes with a pre-determined number of clusters (I chose 5). Each observation is assigned to a cluster (cluster assignment) so as to minimize the within cluster sum of squares. Next, the mean of the clustered observations is calculated and used as the new cluster centroid. Then, observations are reassigned to clusters and  centroids recalculated in an iterative process until the algorithm reaches convergence.\n",
    "\n",
    "I found it took several runs for the algorithm to converge a global optimum as k-means is susceptible to reaching local optima. "
   ]
  },
  {
   "cell_type": "code",
   "execution_count": 18,
   "metadata": {
    "collapsed": false
   },
   "outputs": [
    {
     "name": "stdout",
     "output_type": "stream",
     "text": [
      "CPU times: user 348 ms, sys: 40 ms, total: 388 ms\n",
      "Wall time: 391 ms\n"
     ]
    }
   ],
   "source": [
    "from sklearn.cluster import KMeans\n",
    "\n",
    "num_clusters = 5\n",
    "\n",
    "km = KMeans(n_clusters=num_clusters)\n",
    "\n",
    "%time km.fit(tfidf_matrix)\n",
    "\n",
    "clusters = km.labels_.tolist()"
   ]
  },
  {
   "cell_type": "code",
   "execution_count": 19,
   "metadata": {
    "collapsed": false
   },
   "outputs": [],
   "source": [
    "from sklearn.externals import joblib\n",
    "\n",
    "joblib.dump(km, os.path.join(outputs, 'doc_cluster.pkl'))\n",
    "km = joblib.load(os.path.join(outputs, 'doc_cluster.pkl'))\n",
    "clusters = km.labels_.tolist()"
   ]
  },
  {
   "cell_type": "code",
   "execution_count": 20,
   "metadata": {
    "collapsed": false
   },
   "outputs": [],
   "source": [
    "films = {'title': titles, 'rank': ranks, 'synopsis': synopses, 'cluster': clusters, 'genre': genres}\n",
    "frame = pd.DataFrame(films, index = [clusters] , columns = ['rank', 'title', 'cluster', 'genre'])"
   ]
  },
  {
   "cell_type": "code",
   "execution_count": 21,
   "metadata": {
    "collapsed": false
   },
   "outputs": [
    {
     "data": {
      "text/html": [
       "<div>\n",
       "<table border=\"1\" class=\"dataframe\">\n",
       "  <thead>\n",
       "    <tr style=\"text-align: right;\">\n",
       "      <th></th>\n",
       "      <th>rank</th>\n",
       "      <th>title</th>\n",
       "      <th>cluster</th>\n",
       "      <th>genre</th>\n",
       "    </tr>\n",
       "  </thead>\n",
       "  <tbody>\n",
       "    <tr>\n",
       "      <th>3</th>\n",
       "      <td>0</td>\n",
       "      <td>The Godfather</td>\n",
       "      <td>3</td>\n",
       "      <td>[u' Crime', u' Drama']</td>\n",
       "    </tr>\n",
       "    <tr>\n",
       "      <th>3</th>\n",
       "      <td>1</td>\n",
       "      <td>The Shawshank Redemption</td>\n",
       "      <td>3</td>\n",
       "      <td>[u' Crime', u' Drama']</td>\n",
       "    </tr>\n",
       "    <tr>\n",
       "      <th>0</th>\n",
       "      <td>2</td>\n",
       "      <td>Schindler's List</td>\n",
       "      <td>0</td>\n",
       "      <td>[u' Biography', u' Drama', u' History']</td>\n",
       "    </tr>\n",
       "    <tr>\n",
       "      <th>2</th>\n",
       "      <td>3</td>\n",
       "      <td>Raging Bull</td>\n",
       "      <td>2</td>\n",
       "      <td>[u' Biography', u' Drama', u' Sport']</td>\n",
       "    </tr>\n",
       "    <tr>\n",
       "      <th>3</th>\n",
       "      <td>4</td>\n",
       "      <td>Casablanca</td>\n",
       "      <td>3</td>\n",
       "      <td>[u' Drama', u' Romance', u' War']</td>\n",
       "    </tr>\n",
       "  </tbody>\n",
       "</table>\n",
       "</div>"
      ],
      "text/plain": [
       "   rank                     title  cluster  \\\n",
       "3     0             The Godfather        3   \n",
       "3     1  The Shawshank Redemption        3   \n",
       "0     2          Schindler's List        0   \n",
       "2     3               Raging Bull        2   \n",
       "3     4                Casablanca        3   \n",
       "\n",
       "                                     genre  \n",
       "3                   [u' Crime', u' Drama']  \n",
       "3                   [u' Crime', u' Drama']  \n",
       "0  [u' Biography', u' Drama', u' History']  \n",
       "2    [u' Biography', u' Drama', u' Sport']  \n",
       "3        [u' Drama', u' Romance', u' War']  "
      ]
     },
     "execution_count": 21,
     "metadata": {},
     "output_type": "execute_result"
    }
   ],
   "source": [
    "frame.head()"
   ]
  },
  {
   "cell_type": "code",
   "execution_count": 22,
   "metadata": {
    "collapsed": false
   },
   "outputs": [
    {
     "data": {
      "text/plain": [
       "3    46\n",
       "2    21\n",
       "0    19\n",
       "1    10\n",
       "4     4\n",
       "Name: cluster, dtype: int64"
      ]
     },
     "execution_count": 22,
     "metadata": {},
     "output_type": "execute_result"
    }
   ],
   "source": [
    "frame['cluster'].value_counts()"
   ]
  },
  {
   "cell_type": "code",
   "execution_count": 23,
   "metadata": {
    "collapsed": false
   },
   "outputs": [
    {
     "data": {
      "text/plain": [
       "cluster\n",
       "0    40.631579\n",
       "1    52.100000\n",
       "2    52.190476\n",
       "3    51.347826\n",
       "4    49.750000\n",
       "Name: rank, dtype: float64"
      ]
     },
     "execution_count": 23,
     "metadata": {},
     "output_type": "execute_result"
    }
   ],
   "source": [
    "grouped = frame['rank'].groupby(frame['cluster'])\n",
    "\n",
    "grouped.mean()"
   ]
  },
  {
   "cell_type": "code",
   "execution_count": 24,
   "metadata": {
    "collapsed": false
   },
   "outputs": [
    {
     "name": "stdout",
     "output_type": "stream",
     "text": [
      "Top terms per cluster:\n",
      "\n",
      "Cluster 0 words: b'soldiers', b'army', b'war', b'command', b'killed', b'general',\n",
      "\n",
      "Cluster 0 titles: Schindler's List, Gone with the Wind, Lawrence of Arabia, The Bridge on the River Kwai, Dr. Strangelove or: How I Learned to Stop Worrying and Love the Bomb, Apocalypse Now, The Lord of the Rings: The Return of the King, Gladiator, From Here to Eternity, Saving Private Ryan, Raiders of the Lost Ark, Ben-Hur, Patton, Braveheart, Platoon, Dances with Wolves, All Quiet on the Western Front, The African Queen, Mutiny on the Bounty,\n",
      "\n",
      "Cluster 1 words: b'father', b'new', b'new', b'york', b'film', b'perform',\n",
      "\n",
      "Cluster 1 titles: Titanic, The Godfather: Part II, Sunset Blvd., Amadeus, The Good, the Bad and the Ugly, It Happened One Night, Midnight Cowboy, Network, Taxi Driver, Yankee Doodle Dandy,\n",
      "\n",
      "Cluster 2 words: b'love', b'relationship', b'marries', b'wants', b'new', b'marriage',\n",
      "\n",
      "Cluster 2 titles: Raging Bull, Citizen Kane, Forrest Gump, Singin' in the Rain, Some Like It Hot, Rocky, A Streetcar Named Desire, An American in Paris, The Best Years of Our Lives, My Fair Lady, The Apartment, City Lights, Rain Man, Annie Hall, Out of Africa, Good Will Hunting, Terms of Endearment, Tootsie, Giant, The Graduate, Wuthering Heights,\n",
      "\n",
      "Cluster 3 words: b'killed', b'police', b'car', b'friends', b'home', b'murders',\n",
      "\n",
      "Cluster 3 titles: The Godfather, The Shawshank Redemption, Casablanca, One Flew Over the Cuckoo's Nest, The Wizard of Oz, Psycho, Vertigo, On the Waterfront, The Sound of Music, West Side Story, Star Wars, E.T. the Extra-Terrestrial, 2001: A Space Odyssey, The Silence of the Lambs, Chinatown, 12 Angry Men, Gandhi, Unforgiven, To Kill a Mockingbird, Doctor Zhivago, Jaws, Butch Cassidy and the Sundance Kid, The Treasure of the Sierra Madre, High Noon, The Pianist, Goodfellas, The Exorcist, The Deer Hunter, The French Connection, Mr. Smith Goes to Washington, Fargo, The Grapes of Wrath, Shane, The Green Mile, Close Encounters of the Third Kind, Nashville, American Graffiti, Pulp Fiction, Stagecoach, The Maltese Falcon, A Clockwork Orange, Double Indemnity, Rebel Without a Cause, Rear Window, The Third Man, North by Northwest,\n",
      "\n",
      "Cluster 4 words: b'george', b'marries', b'james', b'family', b'john', b'brothers',\n",
      "\n",
      "Cluster 4 titles: It's a Wonderful Life, The Philadelphia Story, The King's Speech, A Place in the Sun,\n",
      "\n"
     ]
    }
   ],
   "source": [
    "from __future__ import print_function\n",
    "\n",
    "print(\"Top terms per cluster:\")\n",
    "print()\n",
    "order_centroids = km.cluster_centers_.argsort()[:, ::-1]\n",
    "for i in range(num_clusters):\n",
    "    print(\"Cluster %d words:\" % i, end='')\n",
    "    for ind in order_centroids[i, :6]:\n",
    "        print(' %s' % vocab_frame.ix[terms[ind].split(' ')].values.tolist()[0][0].encode('utf-8', 'ignore'), end=',')\n",
    "    print()\n",
    "    print()\n",
    "    print(\"Cluster %d titles:\" % i, end='')\n",
    "    for title in frame.ix[i]['title'].values.tolist():\n",
    "        print(' %s,' % title, end='')\n",
    "    print()\n",
    "    print()"
   ]
  },
  {
   "cell_type": "code",
   "execution_count": 25,
   "metadata": {
    "collapsed": false
   },
   "outputs": [],
   "source": [
    "#This is purely to help export tables to html and to correct for my 0 start rank (so that Godfather is 1, not 0)\n",
    "frame['Rank'] = frame['rank'] + 1\n",
    "frame['Title'] = frame['title']"
   ]
  },
  {
   "cell_type": "code",
   "execution_count": 26,
   "metadata": {
    "collapsed": false
   },
   "outputs": [
    {
     "data": {
      "text/html": [
       "<table border=\"1\" class=\"dataframe\">\n",
       "  <thead>\n",
       "    <tr style=\"text-align: right;\">\n",
       "      <th>Rank</th>\n",
       "      <th>Title</th>\n",
       "    </tr>\n",
       "  </thead>\n",
       "  <tbody>\n",
       "    <tr>\n",
       "      <td>10</td>\n",
       "      <td>Titanic</td>\n",
       "    </tr>\n",
       "    <tr>\n",
       "      <td>12</td>\n",
       "      <td>The Godfather: Part II</td>\n",
       "    </tr>\n",
       "    <tr>\n",
       "      <td>14</td>\n",
       "      <td>Sunset Blvd.</td>\n",
       "    </tr>\n",
       "    <tr>\n",
       "      <td>31</td>\n",
       "      <td>Amadeus</td>\n",
       "    </tr>\n",
       "    <tr>\n",
       "      <td>52</td>\n",
       "      <td>The Good, the Bad and the Ugly</td>\n",
       "    </tr>\n",
       "    <tr>\n",
       "      <td>67</td>\n",
       "      <td>It Happened One Night</td>\n",
       "    </tr>\n",
       "    <tr>\n",
       "      <td>69</td>\n",
       "      <td>Midnight Cowboy</td>\n",
       "    </tr>\n",
       "    <tr>\n",
       "      <td>83</td>\n",
       "      <td>Network</td>\n",
       "    </tr>\n",
       "    <tr>\n",
       "      <td>93</td>\n",
       "      <td>Taxi Driver</td>\n",
       "    </tr>\n",
       "    <tr>\n",
       "      <td>100</td>\n",
       "      <td>Yankee Doodle Dandy</td>\n",
       "    </tr>\n",
       "  </tbody>\n",
       "</table>"
      ],
      "text/plain": [
       "<IPython.core.display.HTML object>"
      ]
     },
     "metadata": {},
     "output_type": "display_data"
    }
   ],
   "source": [
    "#export tables to HTML\n",
    "html_output = frame[['Rank', 'Title']].loc[frame['cluster'] == 1].to_html(index=False)\n",
    "\n",
    "from IPython.core.display import display, HTML\n",
    "display(HTML(html_output))"
   ]
  },
  {
   "cell_type": "markdown",
   "metadata": {},
   "source": [
    "### Multidimensional scaling"
   ]
  },
  {
   "cell_type": "code",
   "execution_count": 27,
   "metadata": {
    "collapsed": false
   },
   "outputs": [],
   "source": [
    "from sklearn.manifold import MDS\n",
    "\n",
    "MDS()\n",
    "\n",
    "# two components as we're plotting points in a two-dimensional plane\n",
    "# \"precomputed\" because we provide a distance matrix\n",
    "# we will also specify `random_state` so the plot is reproducible.\n",
    "mds = MDS(n_components=2, dissimilarity=\"precomputed\", random_state=1)\n",
    "\n",
    "pos = mds.fit_transform(dist)  # shape (n_components, n_samples)\n",
    "\n",
    "xs, ys = pos[:, 0], pos[:, 1]"
   ]
  },
  {
   "cell_type": "code",
   "execution_count": 28,
   "metadata": {
    "collapsed": false
   },
   "outputs": [],
   "source": [
    "#strip any proper nouns (NNP) or plural proper nouns (NNPS) from a text\n",
    "from nltk.tag import pos_tag\n",
    "\n",
    "def strip_proppers_POS(text):\n",
    "    tagged = pos_tag(text.split()) #use NLTK's part of speech tagger\n",
    "    non_propernouns = [word for word,pos in tagged if pos != 'NNP' and pos != 'NNPS']\n",
    "    return non_propernouns"
   ]
  },
  {
   "cell_type": "markdown",
   "metadata": {},
   "source": [
    "### Visualizing document clusters"
   ]
  },
  {
   "cell_type": "code",
   "execution_count": 29,
   "metadata": {
    "collapsed": false
   },
   "outputs": [],
   "source": [
    "#set up colors per clusters using a dict\n",
    "cluster_colors = {0: '#1b9e77', 1: '#d95f02', 2: '#7570b3', 3: '#e7298a', 4: '#66a61e'}\n",
    "\n",
    "#set up cluster names using a dict\n",
    "cluster_names = {0: 'Family, home, war', \n",
    "                 1: 'Police, killed, murders', \n",
    "                 2: 'Father, New York, brothers', \n",
    "                 3: 'Dance, singing, love', \n",
    "                 4: 'Killed, soldiers, captain'}"
   ]
  },
  {
   "cell_type": "code",
   "execution_count": 30,
   "metadata": {
    "collapsed": false
   },
   "outputs": [
    {
     "data": {
      "image/png": "[encoded data removed]",
      "text/plain": [
       "<matplotlib.figure.Figure at 0x7f3cabb63ac8>"
      ]
     },
     "metadata": {},
     "output_type": "display_data"
    },
    {
     "data": {
      "text/plain": [
       "<matplotlib.figure.Figure at 0x7f3ca7fb9da0>"
      ]
     },
     "metadata": {},
     "output_type": "display_data"
    }
   ],
   "source": [
    "#create data frame that has the result of the MDS plus the cluster numbers and titles\n",
    "df = pd.DataFrame(dict(x=xs, y=ys, label=clusters, title=titles)) \n",
    "\n",
    "#group by cluster\n",
    "groups = df.groupby('label')\n",
    "\n",
    "\n",
    "# set up plot\n",
    "fig, ax = plt.subplots(figsize=(17, 9)) # set size\n",
    "ax.margins(0.05) # Optional, just adds 5% padding to the autoscaling\n",
    "\n",
    "#iterate through groups to layer the plot\n",
    "#note that I use the cluster_name and cluster_color dicts with the 'name' lookup to return the appropriate color/label\n",
    "for name, group in groups:\n",
    "    ax.plot(group.x, group.y, marker='o', linestyle='', ms=12, label=cluster_names[name], color=cluster_colors[name], mec='none')\n",
    "    ax.set_aspect('auto')\n",
    "    ax.tick_params(\\\n",
    "        axis= 'x',          # changes apply to the x-axis\n",
    "        which='both',      # both major and minor ticks are affected\n",
    "        bottom='off',      # ticks along the bottom edge are off\n",
    "        top='off',         # ticks along the top edge are off\n",
    "        labelbottom='off')\n",
    "    ax.tick_params(\\\n",
    "        axis= 'y',         # changes apply to the y-axis\n",
    "        which='both',      # both major and minor ticks are affected\n",
    "        left='off',      # ticks along the bottom edge are off\n",
    "        top='off',         # ticks along the top edge are off\n",
    "        labelleft='off')\n",
    "    \n",
    "ax.legend(numpoints=1)  #show legend with only 1 point\n",
    "\n",
    "#add label in x,y position with the label as the film title\n",
    "for i in range(len(df)):\n",
    "    ax.text(df.ix[i]['x'], df.ix[i]['y'], df.ix[i]['title'], size=8)  \n",
    "\n",
    "plt.show()\n",
    "\n",
    "#Saving the Fig\n",
    "plt.savefig(os.path.join(outputs,'clusters_small_noaxes.png'), dpi=200)"
   ]
  },
  {
   "cell_type": "markdown",
   "metadata": {},
   "source": [
    "The clustering plot looks great, but it would be better without overlapping labels. We are going to use D3.js (http://d3js.org/), a browser based/javascript interactive. We will use a matplotlib D3 wrapper called mpld3 (https://mpld3.github.io/). Mpld3 basically let's you use matplotlib syntax to create web interactives. It has a really easy, high-level API for adding tooltips on mouse hover, which is what I am interested in.\n",
    "\n",
    "It also has some nice functionality for zooming and panning. The below javascript snippet basicaly defines a custom location for where the zoom/pan toggle resides. Don't worry about it too much and you actually don't need to use it, but it helped for formatting purposes when exporting to the web later. The only thing you might want to change is the x and y attr for the position of the toolbar."
   ]
  },
  {
   "cell_type": "code",
   "execution_count": 31,
   "metadata": {
    "collapsed": false
   },
   "outputs": [],
   "source": [
    "#define custom toolbar location\n",
    "class TopToolbar(mpld3.plugins.PluginBase):\n",
    "    \"\"\"Plugin for moving toolbar to top of figure\"\"\"\n",
    "\n",
    "    JAVASCRIPT = \"\"\"\n",
    "    mpld3.register_plugin(\"toptoolbar\", TopToolbar);\n",
    "    TopToolbar.prototype = Object.create(mpld3.Plugin.prototype);\n",
    "    TopToolbar.prototype.constructor = TopToolbar;\n",
    "    function TopToolbar(fig, props){\n",
    "        mpld3.Plugin.call(this, fig, props);\n",
    "    };\n",
    "\n",
    "    TopToolbar.prototype.draw = function(){\n",
    "      // the toolbar svg doesn't exist\n",
    "      // yet, so first draw it\n",
    "      this.fig.toolbar.draw();\n",
    "\n",
    "      // then change the y position to be\n",
    "      // at the top of the figure\n",
    "      this.fig.toolbar.toolbar.attr(\"x\", 150);\n",
    "      this.fig.toolbar.toolbar.attr(\"y\", 400);\n",
    "\n",
    "      // then remove the draw function,\n",
    "      // so that it is not called again\n",
    "      this.fig.toolbar.draw = function() {}\n",
    "    }\n",
    "    \"\"\"\n",
    "    def __init__(self):\n",
    "        self.dict_ = {\"type\": \"toptoolbar\"}"
   ]
  },
  {
   "cell_type": "code",
   "execution_count": 46,
   "metadata": {
    "collapsed": false
   },
   "outputs": [
    {
     "data": {
      "text/html": [
       "\n",
       "\n",
       "<style>\n",
       "\n",
       "text.mpld3-text, div.mpld3-tooltip {\n",
       "  font-family:Arial, Helvetica, sans-serif;\n",
       "}\n",
       "\n",
       "g.mpld3-xaxis, g.mpld3-yaxis {\n",
       "display: none; }\n",
       "\n",
       "text.mpld3-text, div.mpld3-tooltip {\n",
       "  font-family:Arial, Helvetica, sans-serif;\n",
       "}\n",
       "\n",
       "g.mpld3-xaxis, g.mpld3-yaxis {\n",
       "display: none; }\n",
       "\n",
       "text.mpld3-text, div.mpld3-tooltip {\n",
       "  font-family:Arial, Helvetica, sans-serif;\n",
       "}\n",
       "\n",
       "g.mpld3-xaxis, g.mpld3-yaxis {\n",
       "display: none; }\n",
       "\n",
       "text.mpld3-text, div.mpld3-tooltip {\n",
       "  font-family:Arial, Helvetica, sans-serif;\n",
       "}\n",
       "\n",
       "g.mpld3-xaxis, g.mpld3-yaxis {\n",
       "display: none; }\n",
       "\n",
       "text.mpld3-text, div.mpld3-tooltip {\n",
       "  font-family:Arial, Helvetica, sans-serif;\n",
       "}\n",
       "\n",
       "g.mpld3-xaxis, g.mpld3-yaxis {\n",
       "display: none; }\n",
       "\n",
       "</style>\n",
       "\n",
       "<div id=\"fig_el112971398984802829847189895216\"></div>\n",
       "<script>\n",
       "function mpld3_load_lib(url, callback){\n",
       "  var s = document.createElement('script');\n",
       "  s.src = url;\n",
       "  s.async = true;\n",
       "  s.onreadystatechange = s.onload = callback;\n",
       "  s.onerror = function(){console.warn(\"failed to load library \" + url);};\n",
       "  document.getElementsByTagName(\"head\")[0].appendChild(s);\n",
       "}\n",
       "\n",
       "if(typeof(mpld3) !== \"undefined\" && mpld3._mpld3IsLoaded){\n",
       "   // already loaded: just create the figure\n",
       "   !function(mpld3){\n",
       "       \n",
       "    mpld3.register_plugin(\"htmltooltip\", HtmlTooltipPlugin);\n",
       "    HtmlTooltipPlugin.prototype = Object.create(mpld3.Plugin.prototype);\n",
       "    HtmlTooltipPlugin.prototype.constructor = HtmlTooltipPlugin;\n",
       "    HtmlTooltipPlugin.prototype.requiredProps = [\"id\"];\n",
       "    HtmlTooltipPlugin.prototype.defaultProps = {labels:null, hoffset:0, voffset:10};\n",
       "    function HtmlTooltipPlugin(fig, props){\n",
       "        mpld3.Plugin.call(this, fig, props);\n",
       "    };\n",
       "\n",
       "    HtmlTooltipPlugin.prototype.draw = function(){\n",
       "       var obj = mpld3.get_element(this.props.id);\n",
       "       var labels = this.props.labels;\n",
       "       var tooltip = d3.select(\"body\").append(\"div\")\n",
       "                    .attr(\"class\", \"mpld3-tooltip\")\n",
       "                    .style(\"position\", \"absolute\")\n",
       "                    .style(\"z-index\", \"10\")\n",
       "                    .style(\"visibility\", \"hidden\");\n",
       "\n",
       "       obj.elements()\n",
       "           .on(\"mouseover\", function(d, i){\n",
       "                              tooltip.html(labels[i])\n",
       "                                     .style(\"visibility\", \"visible\");})\n",
       "           .on(\"mousemove\", function(d, i){\n",
       "                    tooltip\n",
       "                      .style(\"top\", d3.event.pageY + this.props.voffset + \"px\")\n",
       "                      .style(\"left\",d3.event.pageX + this.props.hoffset + \"px\");\n",
       "                 }.bind(this))\n",
       "           .on(\"mouseout\",  function(d, i){\n",
       "                           tooltip.style(\"visibility\", \"hidden\");});\n",
       "    };\n",
       "    \n",
       "    mpld3.register_plugin(\"toptoolbar\", TopToolbar);\n",
       "    TopToolbar.prototype = Object.create(mpld3.Plugin.prototype);\n",
       "    TopToolbar.prototype.constructor = TopToolbar;\n",
       "    function TopToolbar(fig, props){\n",
       "        mpld3.Plugin.call(this, fig, props);\n",
       "    };\n",
       "\n",
       "    TopToolbar.prototype.draw = function(){\n",
       "      // the toolbar svg doesn't exist\n",
       "      // yet, so first draw it\n",
       "      this.fig.toolbar.draw();\n",
       "\n",
       "      // then change the y position to be\n",
       "      // at the top of the figure\n",
       "      this.fig.toolbar.toolbar.attr(\"x\", 150);\n",
       "      this.fig.toolbar.toolbar.attr(\"y\", 400);\n",
       "\n",
       "      // then remove the draw function,\n",
       "      // so that it is not called again\n",
       "      this.fig.toolbar.draw = function() {}\n",
       "    }\n",
       "    \n",
       "    mpld3.register_plugin(\"htmltooltip\", HtmlTooltipPlugin);\n",
       "    HtmlTooltipPlugin.prototype = Object.create(mpld3.Plugin.prototype);\n",
       "    HtmlTooltipPlugin.prototype.constructor = HtmlTooltipPlugin;\n",
       "    HtmlTooltipPlugin.prototype.requiredProps = [\"id\"];\n",
       "    HtmlTooltipPlugin.prototype.defaultProps = {labels:null, hoffset:0, voffset:10};\n",
       "    function HtmlTooltipPlugin(fig, props){\n",
       "        mpld3.Plugin.call(this, fig, props);\n",
       "    };\n",
       "\n",
       "    HtmlTooltipPlugin.prototype.draw = function(){\n",
       "       var obj = mpld3.get_element(this.props.id);\n",
       "       var labels = this.props.labels;\n",
       "       var tooltip = d3.select(\"body\").append(\"div\")\n",
       "                    .attr(\"class\", \"mpld3-tooltip\")\n",
       "                    .style(\"position\", \"absolute\")\n",
       "                    .style(\"z-index\", \"10\")\n",
       "                    .style(\"visibility\", \"hidden\");\n",
       "\n",
       "       obj.elements()\n",
       "           .on(\"mouseover\", function(d, i){\n",
       "                              tooltip.html(labels[i])\n",
       "                                     .style(\"visibility\", \"visible\");})\n",
       "           .on(\"mousemove\", function(d, i){\n",
       "                    tooltip\n",
       "                      .style(\"top\", d3.event.pageY + this.props.voffset + \"px\")\n",
       "                      .style(\"left\",d3.event.pageX + this.props.hoffset + \"px\");\n",
       "                 }.bind(this))\n",
       "           .on(\"mouseout\",  function(d, i){\n",
       "                           tooltip.style(\"visibility\", \"hidden\");});\n",
       "    };\n",
       "    \n",
       "    mpld3.register_plugin(\"toptoolbar\", TopToolbar);\n",
       "    TopToolbar.prototype = Object.create(mpld3.Plugin.prototype);\n",
       "    TopToolbar.prototype.constructor = TopToolbar;\n",
       "    function TopToolbar(fig, props){\n",
       "        mpld3.Plugin.call(this, fig, props);\n",
       "    };\n",
       "\n",
       "    TopToolbar.prototype.draw = function(){\n",
       "      // the toolbar svg doesn't exist\n",
       "      // yet, so first draw it\n",
       "      this.fig.toolbar.draw();\n",
       "\n",
       "      // then change the y position to be\n",
       "      // at the top of the figure\n",
       "      this.fig.toolbar.toolbar.attr(\"x\", 150);\n",
       "      this.fig.toolbar.toolbar.attr(\"y\", 400);\n",
       "\n",
       "      // then remove the draw function,\n",
       "      // so that it is not called again\n",
       "      this.fig.toolbar.draw = function() {}\n",
       "    }\n",
       "    \n",
       "    mpld3.register_plugin(\"htmltooltip\", HtmlTooltipPlugin);\n",
       "    HtmlTooltipPlugin.prototype = Object.create(mpld3.Plugin.prototype);\n",
       "    HtmlTooltipPlugin.prototype.constructor = HtmlTooltipPlugin;\n",
       "    HtmlTooltipPlugin.prototype.requiredProps = [\"id\"];\n",
       "    HtmlTooltipPlugin.prototype.defaultProps = {labels:null, hoffset:0, voffset:10};\n",
       "    function HtmlTooltipPlugin(fig, props){\n",
       "        mpld3.Plugin.call(this, fig, props);\n",
       "    };\n",
       "\n",
       "    HtmlTooltipPlugin.prototype.draw = function(){\n",
       "       var obj = mpld3.get_element(this.props.id);\n",
       "       var labels = this.props.labels;\n",
       "       var tooltip = d3.select(\"body\").append(\"div\")\n",
       "                    .attr(\"class\", \"mpld3-tooltip\")\n",
       "                    .style(\"position\", \"absolute\")\n",
       "                    .style(\"z-index\", \"10\")\n",
       "                    .style(\"visibility\", \"hidden\");\n",
       "\n",
       "       obj.elements()\n",
       "           .on(\"mouseover\", function(d, i){\n",
       "                              tooltip.html(labels[i])\n",
       "                                     .style(\"visibility\", \"visible\");})\n",
       "           .on(\"mousemove\", function(d, i){\n",
       "                    tooltip\n",
       "                      .style(\"top\", d3.event.pageY + this.props.voffset + \"px\")\n",
       "                      .style(\"left\",d3.event.pageX + this.props.hoffset + \"px\");\n",
       "                 }.bind(this))\n",
       "           .on(\"mouseout\",  function(d, i){\n",
       "                           tooltip.style(\"visibility\", \"hidden\");});\n",
       "    };\n",
       "    \n",
       "    mpld3.register_plugin(\"toptoolbar\", TopToolbar);\n",
       "    TopToolbar.prototype = Object.create(mpld3.Plugin.prototype);\n",
       "    TopToolbar.prototype.constructor = TopToolbar;\n",
       "    function TopToolbar(fig, props){\n",
       "        mpld3.Plugin.call(this, fig, props);\n",
       "    };\n",
       "\n",
       "    TopToolbar.prototype.draw = function(){\n",
       "      // the toolbar svg doesn't exist\n",
       "      // yet, so first draw it\n",
       "      this.fig.toolbar.draw();\n",
       "\n",
       "      // then change the y position to be\n",
       "      // at the top of the figure\n",
       "      this.fig.toolbar.toolbar.attr(\"x\", 150);\n",
       "      this.fig.toolbar.toolbar.attr(\"y\", 400);\n",
       "\n",
       "      // then remove the draw function,\n",
       "      // so that it is not called again\n",
       "      this.fig.toolbar.draw = function() {}\n",
       "    }\n",
       "    \n",
       "    mpld3.register_plugin(\"htmltooltip\", HtmlTooltipPlugin);\n",
       "    HtmlTooltipPlugin.prototype = Object.create(mpld3.Plugin.prototype);\n",
       "    HtmlTooltipPlugin.prototype.constructor = HtmlTooltipPlugin;\n",
       "    HtmlTooltipPlugin.prototype.requiredProps = [\"id\"];\n",
       "    HtmlTooltipPlugin.prototype.defaultProps = {labels:null, hoffset:0, voffset:10};\n",
       "    function HtmlTooltipPlugin(fig, props){\n",
       "        mpld3.Plugin.call(this, fig, props);\n",
       "    };\n",
       "\n",
       "    HtmlTooltipPlugin.prototype.draw = function(){\n",
       "       var obj = mpld3.get_element(this.props.id);\n",
       "       var labels = this.props.labels;\n",
       "       var tooltip = d3.select(\"body\").append(\"div\")\n",
       "                    .attr(\"class\", \"mpld3-tooltip\")\n",
       "                    .style(\"position\", \"absolute\")\n",
       "                    .style(\"z-index\", \"10\")\n",
       "                    .style(\"visibility\", \"hidden\");\n",
       "\n",
       "       obj.elements()\n",
       "           .on(\"mouseover\", function(d, i){\n",
       "                              tooltip.html(labels[i])\n",
       "                                     .style(\"visibility\", \"visible\");})\n",
       "           .on(\"mousemove\", function(d, i){\n",
       "                    tooltip\n",
       "                      .style(\"top\", d3.event.pageY + this.props.voffset + \"px\")\n",
       "                      .style(\"left\",d3.event.pageX + this.props.hoffset + \"px\");\n",
       "                 }.bind(this))\n",
       "           .on(\"mouseout\",  function(d, i){\n",
       "                           tooltip.style(\"visibility\", \"hidden\");});\n",
       "    };\n",
       "    \n",
       "    mpld3.register_plugin(\"toptoolbar\", TopToolbar);\n",
       "    TopToolbar.prototype = Object.create(mpld3.Plugin.prototype);\n",
       "    TopToolbar.prototype.constructor = TopToolbar;\n",
       "    function TopToolbar(fig, props){\n",
       "        mpld3.Plugin.call(this, fig, props);\n",
       "    };\n",
       "\n",
       "    TopToolbar.prototype.draw = function(){\n",
       "      // the toolbar svg doesn't exist\n",
       "      // yet, so first draw it\n",
       "      this.fig.toolbar.draw();\n",
       "\n",
       "      // then change the y position to be\n",
       "      // at the top of the figure\n",
       "      this.fig.toolbar.toolbar.attr(\"x\", 150);\n",
       "      this.fig.toolbar.toolbar.attr(\"y\", 400);\n",
       "\n",
       "      // then remove the draw function,\n",
       "      // so that it is not called again\n",
       "      this.fig.toolbar.draw = function() {}\n",
       "    }\n",
       "    \n",
       "    mpld3.register_plugin(\"htmltooltip\", HtmlTooltipPlugin);\n",
       "    HtmlTooltipPlugin.prototype = Object.create(mpld3.Plugin.prototype);\n",
       "    HtmlTooltipPlugin.prototype.constructor = HtmlTooltipPlugin;\n",
       "    HtmlTooltipPlugin.prototype.requiredProps = [\"id\"];\n",
       "    HtmlTooltipPlugin.prototype.defaultProps = {labels:null, hoffset:0, voffset:10};\n",
       "    function HtmlTooltipPlugin(fig, props){\n",
       "        mpld3.Plugin.call(this, fig, props);\n",
       "    };\n",
       "\n",
       "    HtmlTooltipPlugin.prototype.draw = function(){\n",
       "       var obj = mpld3.get_element(this.props.id);\n",
       "       var labels = this.props.labels;\n",
       "       var tooltip = d3.select(\"body\").append(\"div\")\n",
       "                    .attr(\"class\", \"mpld3-tooltip\")\n",
       "                    .style(\"position\", \"absolute\")\n",
       "                    .style(\"z-index\", \"10\")\n",
       "                    .style(\"visibility\", \"hidden\");\n",
       "\n",
       "       obj.elements()\n",
       "           .on(\"mouseover\", function(d, i){\n",
       "                              tooltip.html(labels[i])\n",
       "                                     .style(\"visibility\", \"visible\");})\n",
       "           .on(\"mousemove\", function(d, i){\n",
       "                    tooltip\n",
       "                      .style(\"top\", d3.event.pageY + this.props.voffset + \"px\")\n",
       "                      .style(\"left\",d3.event.pageX + this.props.hoffset + \"px\");\n",
       "                 }.bind(this))\n",
       "           .on(\"mouseout\",  function(d, i){\n",
       "                           tooltip.style(\"visibility\", \"hidden\");});\n",
       "    };\n",
       "    \n",
       "    mpld3.register_plugin(\"toptoolbar\", TopToolbar);\n",
       "    TopToolbar.prototype = Object.create(mpld3.Plugin.prototype);\n",
       "    TopToolbar.prototype.constructor = TopToolbar;\n",
       "    function TopToolbar(fig, props){\n",
       "        mpld3.Plugin.call(this, fig, props);\n",
       "    };\n",
       "\n",
       "    TopToolbar.prototype.draw = function(){\n",
       "      // the toolbar svg doesn't exist\n",
       "      // yet, so first draw it\n",
       "      this.fig.toolbar.draw();\n",
       "\n",
       "      // then change the y position to be\n",
       "      // at the top of the figure\n",
       "      this.fig.toolbar.toolbar.attr(\"x\", 150);\n",
       "      this.fig.toolbar.toolbar.attr(\"y\", 400);\n",
       "\n",
       "      // then remove the draw function,\n",
       "      // so that it is not called again\n",
       "      this.fig.toolbar.draw = function() {}\n",
       "    }\n",
       "    \n",
       "       mpld3.draw_figure(\"fig_el112971398984802829847189895216\", {\"plugins\": [{\"type\": \"reset\"}, {\"button\": true, \"type\": \"zoom\", \"enabled\": false}, {\"button\": true, \"type\": \"boxzoom\", \"enabled\": false}, {\"hoffset\": 10, \"labels\": [\"Schindler's List\", \"Gone with the Wind\", \"Lawrence of Arabia\", \"The Bridge on the River Kwai\", \"Dr. Strangelove or: How I Learned to Stop Worrying and Love the Bomb\", \"Apocalypse Now\", \"The Lord of the Rings: The Return of the King\", \"Gladiator\", \"From Here to Eternity\", \"Saving Private Ryan\", \"Raiders of the Lost Ark\", \"Ben-Hur\", \"Patton\", \"Braveheart\", \"Platoon\", \"Dances with Wolves\", \"All Quiet on the Western Front\", \"The African Queen\", \"Mutiny on the Bounty\"], \"voffset\": 10, \"type\": \"htmltooltip\", \"id\": \"el11297139898461947720pts\"}, {\"type\": \"toptoolbar\"}, {\"hoffset\": 10, \"labels\": [\"Titanic\", \"The Godfather: Part II\", \"Sunset Blvd.\", \"Amadeus\", \"The Good, the Bad and the Ugly\", \"It Happened One Night\", \"Midnight Cowboy\", \"Network\", \"Taxi Driver\", \"Yankee Doodle Dandy\"], \"voffset\": 10, \"type\": \"htmltooltip\", \"id\": \"el11297139898227631440pts\"}, {\"type\": \"toptoolbar\"}, {\"hoffset\": 10, \"labels\": [\"Raging Bull\", \"Citizen Kane\", \"Forrest Gump\", \"Singin' in the Rain\", \"Some Like It Hot\", \"Rocky\", \"A Streetcar Named Desire\", \"An American in Paris\", \"The Best Years of Our Lives\", \"My Fair Lady\", \"The Apartment\", \"City Lights\", \"Rain Man\", \"Annie Hall\", \"Out of Africa\", \"Good Will Hunting\", \"Terms of Endearment\", \"Tootsie\", \"Giant\", \"The Graduate\", \"Wuthering Heights\"], \"voffset\": 10, \"type\": \"htmltooltip\", \"id\": \"el11297139898493056616pts\"}, {\"type\": \"toptoolbar\"}, {\"hoffset\": 10, \"labels\": [\"The Godfather\", \"The Shawshank Redemption\", \"Casablanca\", \"One Flew Over the Cuckoo's Nest\", \"The Wizard of Oz\", \"Psycho\", \"Vertigo\", \"On the Waterfront\", \"The Sound of Music\", \"West Side Story\", \"Star Wars\", \"E.T. the Extra-Terrestrial\", \"2001: A Space Odyssey\", \"The Silence of the Lambs\", \"Chinatown\", \"12 Angry Men\", \"Gandhi\", \"Unforgiven\", \"To Kill a Mockingbird\", \"Doctor Zhivago\", \"Jaws\", \"Butch Cassidy and the Sundance Kid\", \"The Treasure of the Sierra Madre\", \"High Noon\", \"The Pianist\", \"Goodfellas\", \"The Exorcist\", \"The Deer Hunter\", \"The French Connection\", \"Mr. Smith Goes to Washington\", \"Fargo\", \"The Grapes of Wrath\", \"Shane\", \"The Green Mile\", \"Close Encounters of the Third Kind\", \"Nashville\", \"American Graffiti\", \"Pulp Fiction\", \"Stagecoach\", \"The Maltese Falcon\", \"A Clockwork Orange\", \"Double Indemnity\", \"Rebel Without a Cause\", \"Rear Window\", \"The Third Man\", \"North by Northwest\"], \"voffset\": 10, \"type\": \"htmltooltip\", \"id\": \"el11297139898456713200pts\"}, {\"type\": \"toptoolbar\"}, {\"hoffset\": 10, \"labels\": [\"It's a Wonderful Life\", \"The Philadelphia Story\", \"The King's Speech\", \"A Place in the Sun\"], \"voffset\": 10, \"type\": \"htmltooltip\", \"id\": \"el11297139898238035392pts\"}, {\"type\": \"toptoolbar\"}], \"height\": 480.0, \"id\": \"el11297139898480282984\", \"width\": 1120.0, \"axes\": [{\"lines\": [], \"zoomable\": true, \"paths\": [{\"alpha\": 1, \"facecolor\": \"#FFFFFF\", \"id\": \"el11297139898227631272\", \"dasharray\": \"10,0\", \"data\": \"data07\", \"edgecolor\": \"#000000\", \"coordinates\": \"axes\", \"xindex\": 0, \"yindex\": 1, \"zorder\": 1000001.0, \"edgewidth\": 1.0, \"pathcodes\": [\"M\", \"L\", \"L\", \"L\", \"Z\"]}], \"axes\": [{\"nticks\": 0, \"tickvalues\": [], \"fontsize\": null, \"grid\": {\"gridOn\": false}, \"tickformat\": \"\", \"position\": \"bottom\", \"scale\": \"linear\"}, {\"nticks\": 0, \"tickvalues\": [], \"fontsize\": null, \"grid\": {\"gridOn\": false}, \"tickformat\": \"\", \"position\": \"left\", \"scale\": \"linear\"}], \"id\": \"el11297139898239243544\", \"collections\": [], \"bbox\": [0.125, 0.125, 0.775, 0.775], \"images\": [], \"texts\": [{\"alpha\": 1, \"id\": \"el11297139898227754992\", \"zorder\": 1000003.0, \"rotation\": -0.0, \"coordinates\": \"axes\", \"h_anchor\": \"start\", \"position\": [-0.16129032258064516, -0.16129032258064518], \"v_baseline\": \"auto\", \"fontsize\": 10.0, \"color\": \"#000000\", \"text\": \"None\"}, {\"alpha\": 1, \"id\": \"el11297139898227692488\", \"zorder\": 1000003.0, \"rotation\": -0.0, \"coordinates\": \"axes\", \"h_anchor\": \"start\", \"position\": [0.7776857718894011, 0.9408602150537633], \"v_baseline\": \"auto\", \"fontsize\": 12.0, \"color\": \"#000000\", \"text\": \"Family, home, war\"}, {\"alpha\": 1, \"id\": \"el11297139898227695400\", \"zorder\": 1000003.0, \"rotation\": -0.0, \"coordinates\": \"axes\", \"h_anchor\": \"start\", \"position\": [0.7776857718894011, 0.8879928315412184], \"v_baseline\": \"auto\", \"fontsize\": 12.0, \"color\": \"#000000\", \"text\": \"Police, killed, murders\"}, {\"alpha\": 1, \"id\": \"el11297139898227714648\", \"zorder\": 1000003.0, \"rotation\": -0.0, \"coordinates\": \"axes\", \"h_anchor\": \"start\", \"position\": [0.7776857718894011, 0.8351254480286738], \"v_baseline\": \"auto\", \"fontsize\": 12.0, \"color\": \"#000000\", \"text\": \"Father, New York, brothers\"}, {\"alpha\": 1, \"id\": \"el11297139898227732664\", \"zorder\": 1000003.0, \"rotation\": -0.0, \"coordinates\": \"axes\", \"h_anchor\": \"start\", \"position\": [0.7776857718894011, 0.782258064516129], \"v_baseline\": \"auto\", \"fontsize\": 12.0, \"color\": \"#000000\", \"text\": \"Dance, singing, love\"}, {\"alpha\": 1, \"id\": \"el11297139898227735464\", \"zorder\": 1000003.0, \"rotation\": -0.0, \"coordinates\": \"axes\", \"h_anchor\": \"start\", \"position\": [0.7776857718894011, 0.7293906810035842], \"v_baseline\": \"auto\", \"fontsize\": 12.0, \"color\": \"#000000\", \"text\": \"Killed, soldiers, captain\"}], \"sharey\": [], \"ylim\": [-0.7081377832177825, 0.6939033427606786], \"xscale\": \"linear\", \"markers\": [{\"xindex\": 0, \"alpha\": 1, \"facecolor\": \"#1B9E77\", \"yindex\": 1, \"id\": \"el11297139898461947720pts\", \"edgecolor\": \"none\", \"markerpath\": [[[0.0, 9.0], [2.3868279, 9.0], [4.676218837063681, 8.051703224294176], [6.3639610306789285, 6.3639610306789285], [8.051703224294176, 4.676218837063681], [9.0, 2.3868279], [9.0, 0.0], [9.0, -2.3868279], [8.051703224294176, -4.676218837063681], [6.3639610306789285, -6.3639610306789285], [4.676218837063681, -8.051703224294176], [2.3868279, -9.0], [0.0, -9.0], [-2.3868279, -9.0], [-4.676218837063681, -8.051703224294176], [-6.3639610306789285, -6.3639610306789285], [-8.051703224294176, -4.676218837063681], [-9.0, -2.3868279], [-9.0, 0.0], [-9.0, 2.3868279], [-8.051703224294176, 4.676218837063681], [-6.3639610306789285, 6.3639610306789285], [-4.676218837063681, 8.051703224294176], [-2.3868279, 9.0], [0.0, 9.0]], [\"M\", \"C\", \"C\", \"C\", \"C\", \"C\", \"C\", \"C\", \"C\", \"Z\"]], \"data\": \"data01\", \"edgewidth\": 0.5, \"coordinates\": \"data\", \"zorder\": 2}, {\"xindex\": 0, \"alpha\": 1, \"facecolor\": \"#D95F02\", \"yindex\": 1, \"id\": \"el11297139898227631440pts\", \"edgecolor\": \"none\", \"markerpath\": [[[0.0, 9.0], [2.3868279, 9.0], [4.676218837063681, 8.051703224294176], [6.3639610306789285, 6.3639610306789285], [8.051703224294176, 4.676218837063681], [9.0, 2.3868279], [9.0, 0.0], [9.0, -2.3868279], [8.051703224294176, -4.676218837063681], [6.3639610306789285, -6.3639610306789285], [4.676218837063681, -8.051703224294176], [2.3868279, -9.0], [0.0, -9.0], [-2.3868279, -9.0], [-4.676218837063681, -8.051703224294176], [-6.3639610306789285, -6.3639610306789285], [-8.051703224294176, -4.676218837063681], [-9.0, -2.3868279], [-9.0, 0.0], [-9.0, 2.3868279], [-8.051703224294176, 4.676218837063681], [-6.3639610306789285, 6.3639610306789285], [-4.676218837063681, 8.051703224294176], [-2.3868279, 9.0], [0.0, 9.0]], [\"M\", \"C\", \"C\", \"C\", \"C\", \"C\", \"C\", \"C\", \"C\", \"Z\"]], \"data\": \"data02\", \"edgewidth\": 0.5, \"coordinates\": \"data\", \"zorder\": 2}, {\"xindex\": 0, \"alpha\": 1, \"facecolor\": \"#7570B3\", \"yindex\": 1, \"id\": \"el11297139898493056616pts\", \"edgecolor\": \"none\", \"markerpath\": [[[0.0, 9.0], [2.3868279, 9.0], [4.676218837063681, 8.051703224294176], [6.3639610306789285, 6.3639610306789285], [8.051703224294176, 4.676218837063681], [9.0, 2.3868279], [9.0, 0.0], [9.0, -2.3868279], [8.051703224294176, -4.676218837063681], [6.3639610306789285, -6.3639610306789285], [4.676218837063681, -8.051703224294176], [2.3868279, -9.0], [0.0, -9.0], [-2.3868279, -9.0], [-4.676218837063681, -8.051703224294176], [-6.3639610306789285, -6.3639610306789285], [-8.051703224294176, -4.676218837063681], [-9.0, -2.3868279], [-9.0, 0.0], [-9.0, 2.3868279], [-8.051703224294176, 4.676218837063681], [-6.3639610306789285, 6.3639610306789285], [-4.676218837063681, 8.051703224294176], [-2.3868279, 9.0], [0.0, 9.0]], [\"M\", \"C\", \"C\", \"C\", \"C\", \"C\", \"C\", \"C\", \"C\", \"Z\"]], \"data\": \"data03\", \"edgewidth\": 0.5, \"coordinates\": \"data\", \"zorder\": 2}, {\"xindex\": 0, \"alpha\": 1, \"facecolor\": \"#E7298A\", \"yindex\": 1, \"id\": \"el11297139898456713200pts\", \"edgecolor\": \"none\", \"markerpath\": [[[0.0, 9.0], [2.3868279, 9.0], [4.676218837063681, 8.051703224294176], [6.3639610306789285, 6.3639610306789285], [8.051703224294176, 4.676218837063681], [9.0, 2.3868279], [9.0, 0.0], [9.0, -2.3868279], [8.051703224294176, -4.676218837063681], [6.3639610306789285, -6.3639610306789285], [4.676218837063681, -8.051703224294176], [2.3868279, -9.0], [0.0, -9.0], [-2.3868279, -9.0], [-4.676218837063681, -8.051703224294176], [-6.3639610306789285, -6.3639610306789285], [-8.051703224294176, -4.676218837063681], [-9.0, -2.3868279], [-9.0, 0.0], [-9.0, 2.3868279], [-8.051703224294176, 4.676218837063681], [-6.3639610306789285, 6.3639610306789285], [-4.676218837063681, 8.051703224294176], [-2.3868279, 9.0], [0.0, 9.0]], [\"M\", \"C\", \"C\", \"C\", \"C\", \"C\", \"C\", \"C\", \"C\", \"Z\"]], \"data\": \"data04\", \"edgewidth\": 0.5, \"coordinates\": \"data\", \"zorder\": 2}, {\"xindex\": 0, \"alpha\": 1, \"facecolor\": \"#66A61E\", \"yindex\": 1, \"id\": \"el11297139898238035392pts\", \"edgecolor\": \"none\", \"markerpath\": [[[0.0, 9.0], [2.3868279, 9.0], [4.676218837063681, 8.051703224294176], [6.3639610306789285, 6.3639610306789285], [8.051703224294176, 4.676218837063681], [9.0, 2.3868279], [9.0, 0.0], [9.0, -2.3868279], [8.051703224294176, -4.676218837063681], [6.3639610306789285, -6.3639610306789285], [4.676218837063681, -8.051703224294176], [2.3868279, -9.0], [0.0, -9.0], [-2.3868279, -9.0], [-4.676218837063681, -8.051703224294176], [-6.3639610306789285, -6.3639610306789285], [-8.051703224294176, -4.676218837063681], [-9.0, -2.3868279], [-9.0, 0.0], [-9.0, 2.3868279], [-8.051703224294176, 4.676218837063681], [-6.3639610306789285, 6.3639610306789285], [-4.676218837063681, 8.051703224294176], [-2.3868279, 9.0], [0.0, 9.0]], [\"M\", \"C\", \"C\", \"C\", \"C\", \"C\", \"C\", \"C\", \"C\", \"Z\"]], \"data\": \"data05\", \"edgewidth\": 0.5, \"coordinates\": \"data\", \"zorder\": 2}, {\"xindex\": 0, \"alpha\": 1, \"facecolor\": \"#1B9E77\", \"yindex\": 1, \"id\": \"el11297139898227694056pts\", \"edgecolor\": \"none\", \"markerpath\": [[[0.0, 9.0], [2.3868279, 9.0], [4.676218837063681, 8.051703224294176], [6.3639610306789285, 6.3639610306789285], [8.051703224294176, 4.676218837063681], [9.0, 2.3868279], [9.0, 0.0], [9.0, -2.3868279], [8.051703224294176, -4.676218837063681], [6.3639610306789285, -6.3639610306789285], [4.676218837063681, -8.051703224294176], [2.3868279, -9.0], [0.0, -9.0], [-2.3868279, -9.0], [-4.676218837063681, -8.051703224294176], [-6.3639610306789285, -6.3639610306789285], [-8.051703224294176, -4.676218837063681], [-9.0, -2.3868279], [-9.0, 0.0], [-9.0, 2.3868279], [-8.051703224294176, 4.676218837063681], [-6.3639610306789285, 6.3639610306789285], [-4.676218837063681, 8.051703224294176], [-2.3868279, 9.0], [0.0, 9.0]], [\"M\", \"C\", \"C\", \"C\", \"C\", \"C\", \"C\", \"C\", \"C\", \"Z\"]], \"data\": \"data06\", \"edgewidth\": 0.5, \"coordinates\": \"axes\", \"zorder\": 1000002.0}, {\"xindex\": 0, \"alpha\": 1, \"facecolor\": \"#D95F02\", \"yindex\": 2, \"id\": \"el11297139898227713304pts\", \"edgecolor\": \"none\", \"markerpath\": [[[0.0, 9.0], [2.3868279, 9.0], [4.676218837063681, 8.051703224294176], [6.3639610306789285, 6.3639610306789285], [8.051703224294176, 4.676218837063681], [9.0, 2.3868279], [9.0, 0.0], [9.0, -2.3868279], [8.051703224294176, -4.676218837063681], [6.3639610306789285, -6.3639610306789285], [4.676218837063681, -8.051703224294176], [2.3868279, -9.0], [0.0, -9.0], [-2.3868279, -9.0], [-4.676218837063681, -8.051703224294176], [-6.3639610306789285, -6.3639610306789285], [-8.051703224294176, -4.676218837063681], [-9.0, -2.3868279], [-9.0, 0.0], [-9.0, 2.3868279], [-8.051703224294176, 4.676218837063681], [-6.3639610306789285, 6.3639610306789285], [-4.676218837063681, 8.051703224294176], [-2.3868279, 9.0], [0.0, 9.0]], [\"M\", \"C\", \"C\", \"C\", \"C\", \"C\", \"C\", \"C\", \"C\", \"Z\"]], \"data\": \"data06\", \"edgewidth\": 0.5, \"coordinates\": \"axes\", \"zorder\": 1000002.0}, {\"xindex\": 0, \"alpha\": 1, \"facecolor\": \"#7570B3\", \"yindex\": 3, \"id\": \"el11297139898227714928pts\", \"edgecolor\": \"none\", \"markerpath\": [[[0.0, 9.0], [2.3868279, 9.0], [4.676218837063681, 8.051703224294176], [6.3639610306789285, 6.3639610306789285], [8.051703224294176, 4.676218837063681], [9.0, 2.3868279], [9.0, 0.0], [9.0, -2.3868279], [8.051703224294176, -4.676218837063681], [6.3639610306789285, -6.3639610306789285], [4.676218837063681, -8.051703224294176], [2.3868279, -9.0], [0.0, -9.0], [-2.3868279, -9.0], [-4.676218837063681, -8.051703224294176], [-6.3639610306789285, -6.3639610306789285], [-8.051703224294176, -4.676218837063681], [-9.0, -2.3868279], [-9.0, 0.0], [-9.0, 2.3868279], [-8.051703224294176, 4.676218837063681], [-6.3639610306789285, 6.3639610306789285], [-4.676218837063681, 8.051703224294176], [-2.3868279, 9.0], [0.0, 9.0]], [\"M\", \"C\", \"C\", \"C\", \"C\", \"C\", \"C\", \"C\", \"C\", \"Z\"]], \"data\": \"data06\", \"edgewidth\": 0.5, \"coordinates\": \"axes\", \"zorder\": 1000002.0}, {\"xindex\": 0, \"alpha\": 1, \"facecolor\": \"#E7298A\", \"yindex\": 4, \"id\": \"el11297139898227734120pts\", \"edgecolor\": \"none\", \"markerpath\": [[[0.0, 9.0], [2.3868279, 9.0], [4.676218837063681, 8.051703224294176], [6.3639610306789285, 6.3639610306789285], [8.051703224294176, 4.676218837063681], [9.0, 2.3868279], [9.0, 0.0], [9.0, -2.3868279], [8.051703224294176, -4.676218837063681], [6.3639610306789285, -6.3639610306789285], [4.676218837063681, -8.051703224294176], [2.3868279, -9.0], [0.0, -9.0], [-2.3868279, -9.0], [-4.676218837063681, -8.051703224294176], [-6.3639610306789285, -6.3639610306789285], [-8.051703224294176, -4.676218837063681], [-9.0, -2.3868279], [-9.0, 0.0], [-9.0, 2.3868279], [-8.051703224294176, 4.676218837063681], [-6.3639610306789285, 6.3639610306789285], [-4.676218837063681, 8.051703224294176], [-2.3868279, 9.0], [0.0, 9.0]], [\"M\", \"C\", \"C\", \"C\", \"C\", \"C\", \"C\", \"C\", \"C\", \"Z\"]], \"data\": \"data06\", \"edgewidth\": 0.5, \"coordinates\": \"axes\", \"zorder\": 1000002.0}, {\"xindex\": 0, \"alpha\": 1, \"facecolor\": \"#66A61E\", \"yindex\": 5, \"id\": \"el11297139898227753368pts\", \"edgecolor\": \"none\", \"markerpath\": [[[0.0, 9.0], [2.3868279, 9.0], [4.676218837063681, 8.051703224294176], [6.3639610306789285, 6.3639610306789285], [8.051703224294176, 4.676218837063681], [9.0, 2.3868279], [9.0, 0.0], [9.0, -2.3868279], [8.051703224294176, -4.676218837063681], [6.3639610306789285, -6.3639610306789285], [4.676218837063681, -8.051703224294176], [2.3868279, -9.0], [0.0, -9.0], [-2.3868279, -9.0], [-4.676218837063681, -8.051703224294176], [-6.3639610306789285, -6.3639610306789285], [-8.051703224294176, -4.676218837063681], [-9.0, -2.3868279], [-9.0, 0.0], [-9.0, 2.3868279], [-8.051703224294176, 4.676218837063681], [-6.3639610306789285, 6.3639610306789285], [-4.676218837063681, 8.051703224294176], [-2.3868279, 9.0], [0.0, 9.0]], [\"M\", \"C\", \"C\", \"C\", \"C\", \"C\", \"C\", \"C\", \"C\", \"Z\"]], \"data\": \"data06\", \"edgewidth\": 0.5, \"coordinates\": \"axes\", \"zorder\": 1000002.0}], \"sharex\": [], \"xdomain\": [-0.7022243585349199, 0.7098185051203891], \"xlim\": [-0.7022243585349199, 0.7098185051203891], \"ydomain\": [-0.7081377832177825, 0.6939033427606786], \"axesbgalpha\": null, \"yscale\": \"linear\", \"axesbg\": \"#FFFFFF\"}], \"data\": {\"data04\": [[0.1842639196948847, -0.011698423371132152], [0.4420542765535735, -0.2786832170112155], [-0.258417253284027, -0.2652260221436388], [0.05785577310053593, 0.25692858718863093], [-0.43453170540719366, -0.29660613828269616], [-0.22762167926505814, 0.06857695283204854], [-0.3528182922735947, 0.12701319394680938], [-0.05335737382032607, 0.12312849271489654], [0.5525828106324346, 0.49022359259865306], [-0.48428094266733496, 0.17299840565537866], [0.19843470887949946, -0.3892802726823152], [-0.021733999952444738, -0.042720767809052894], [0.35007455070415944, -0.33949066390038307], [0.5177717200812387, -0.2536540302931725], [-0.5522759511779272, -0.22475587495166363], [0.5306515354145532, 0.1294497101088675], [0.43342020294859956, 0.14567841987345992], [-0.15297793113902683, -0.30140577453193457], [0.21420712139192538, 0.2183286793356958], [0.16075133608675513, -0.11942129559742261], [0.07966541763901362, -0.3889609926197951], [-0.34784460975136144, -0.3258414653409745], [-0.3608951277095703, -0.48195991352901957], [-0.6622608812616565, -0.20511076586859073], [0.15640009437168323, -0.21297986976225988], [0.20867878615651633, 0.06434284629527791], [0.18341909271393095, 0.3029016910056736], [-0.08782998361951912, -0.2007423698086272], [-0.4599154070542705, 0.007654714663857465], [0.6448617791922985, -0.15574388957552057], [-0.34166307376918104, 0.03630579254966726], [0.47591168977268594, -0.4358076517203701], [-0.5516219950653584, 0.3348728982305264], [-0.5674021212107925, -0.35376317678446884], [0.27514357721327537, -0.29426793132752815], [0.06195871862089496, 0.6100873144577459], [-0.6012495190001138, -0.04195024831025676], [-0.3415780134445779, -0.06842764695433033], [0.3244183710745198, -0.45650361180937427], [-0.33941629334547235, -0.15117828334141054], [-0.18745722681366755, 0.15085562479813835], [-0.46600115683767945, -0.09932904605351045], [-0.5791581543162552, 0.29025774220332035], [-0.581074334873682, 0.10578299005618616], [-0.2083933734933721, -0.058574052865909366], [-0.1995916680206842, 0.0064165474101231254]], \"data02\": [[0.6037636767904756, -0.34565548304904037], [0.07160786733633107, 0.13140355942960508], [-0.4301012825198393, 0.2854141396127525], [0.41546634085583234, 0.4069688257035027], [-0.06989475411532176, 0.569705539011805], [-0.4208318237068076, 0.46280088153288335], [-0.30315863958813255, 0.4758732388739999], [0.6688326628289069, -0.08783277088604606], [-0.552165502285474, 0.028845815397586044], [0.6272943977307884, 0.3595046830327616]], \"data07\": [[0.7285306259600616, 0.7069892473118278], [0.9923195084485409, 0.7069892473118278], [0.9923195084485409, 0.9820788530465947], [0.7285306259600616, 0.9820788530465947]], \"data01\": [[-0.031704356749774315, -0.45668597931827065], [0.05839869253028608, -0.04611702740890181], [-0.25091001948814, -0.5748364190982864], [-0.08237740002772587, -0.5784292658683906], [-0.016290419113439557, -0.6355726160881316], [0.019734051171252757, -0.6360367105738866], [0.2438433076495576, -0.5041202087221548], [0.08014906600330879, -0.4799020818182777], [-0.15255045823070493, -0.3408753845517839], [-0.020081825875353215, -0.35718794655762914], [-0.22758349812136536, -0.45047495075469096], [0.34423528399454734, -0.13020602386402164], [0.12888676337410168, -0.668457373991977], [0.4928761771808502, -0.1411107487904908], [-0.11265730034344344, -0.4993121670686306], [0.1827109977144634, -0.5787464521608237], [-0.18336929431804472, -0.5551182889814734], [-0.45337586370615407, -0.44518883037029683], [0.33505791724913486, -0.6458208127368436]], \"data05\": [[0.4192021972350015, 0.5854520485169515], [0.6698550278471257, 0.11893281852637148], [0.40204400902943815, 0.498701667453783], [0.6677627104186503, 0.26949909097813]], \"data03\": [[-0.1322921736434466, 0.5745109123612222], [0.011870129083831693, 0.4624853574054067], [0.3547936331378034, 0.008290710365072116], [-0.34160570270008384, 0.6344808506574434], [-0.17104806655713084, 0.23239528561346245], [-0.28462977611146373, 0.2756306109086089], [0.3432853030249946, 0.246006709745588], [-0.2037332777288499, 0.5597834903655693], [0.31816539769255964, 0.08775294364571601], [-0.19659297207639648, 0.3957261088660333], [-0.5962637921066579, 0.19021678812015821], [0.5656255199388547, 0.34237017859020485], [-0.18148082579748032, 0.4766013154583243], [-0.02882418924007409, 0.654222933534873], [0.12096767900038803, 0.4812637440714905], [0.12587206202926585, 0.4177788692597201], [0.220078542503727, 0.4800518402232757], [-0.02227777502359704, 0.33877773486584417], [0.4819436407032279, 0.008023079596038808], [-0.3243215990367419, 0.3312982383148728], [0.18464212048810344, 0.5791967329426072]], \"data06\": [[0.7500360023041476, 0.9534050179211467, 0.9005376344086019, 0.8476702508960573, 0.7948028673835125, 0.7419354838709676]]}});\n",
       "   }(mpld3);\n",
       "}else if(typeof define === \"function\" && define.amd){\n",
       "   // require.js is available: use it to load d3/mpld3\n",
       "   require.config({paths: {d3: \"https://mpld3.github.io/js/d3.v3.min\"}});\n",
       "   require([\"d3\"], function(d3){\n",
       "      window.d3 = d3;\n",
       "      mpld3_load_lib(\"https://mpld3.github.io/js/mpld3.v0.2.js\", function(){\n",
       "         \n",
       "    mpld3.register_plugin(\"htmltooltip\", HtmlTooltipPlugin);\n",
       "    HtmlTooltipPlugin.prototype = Object.create(mpld3.Plugin.prototype);\n",
       "    HtmlTooltipPlugin.prototype.constructor = HtmlTooltipPlugin;\n",
       "    HtmlTooltipPlugin.prototype.requiredProps = [\"id\"];\n",
       "    HtmlTooltipPlugin.prototype.defaultProps = {labels:null, hoffset:0, voffset:10};\n",
       "    function HtmlTooltipPlugin(fig, props){\n",
       "        mpld3.Plugin.call(this, fig, props);\n",
       "    };\n",
       "\n",
       "    HtmlTooltipPlugin.prototype.draw = function(){\n",
       "       var obj = mpld3.get_element(this.props.id);\n",
       "       var labels = this.props.labels;\n",
       "       var tooltip = d3.select(\"body\").append(\"div\")\n",
       "                    .attr(\"class\", \"mpld3-tooltip\")\n",
       "                    .style(\"position\", \"absolute\")\n",
       "                    .style(\"z-index\", \"10\")\n",
       "                    .style(\"visibility\", \"hidden\");\n",
       "\n",
       "       obj.elements()\n",
       "           .on(\"mouseover\", function(d, i){\n",
       "                              tooltip.html(labels[i])\n",
       "                                     .style(\"visibility\", \"visible\");})\n",
       "           .on(\"mousemove\", function(d, i){\n",
       "                    tooltip\n",
       "                      .style(\"top\", d3.event.pageY + this.props.voffset + \"px\")\n",
       "                      .style(\"left\",d3.event.pageX + this.props.hoffset + \"px\");\n",
       "                 }.bind(this))\n",
       "           .on(\"mouseout\",  function(d, i){\n",
       "                           tooltip.style(\"visibility\", \"hidden\");});\n",
       "    };\n",
       "    \n",
       "    mpld3.register_plugin(\"toptoolbar\", TopToolbar);\n",
       "    TopToolbar.prototype = Object.create(mpld3.Plugin.prototype);\n",
       "    TopToolbar.prototype.constructor = TopToolbar;\n",
       "    function TopToolbar(fig, props){\n",
       "        mpld3.Plugin.call(this, fig, props);\n",
       "    };\n",
       "\n",
       "    TopToolbar.prototype.draw = function(){\n",
       "      // the toolbar svg doesn't exist\n",
       "      // yet, so first draw it\n",
       "      this.fig.toolbar.draw();\n",
       "\n",
       "      // then change the y position to be\n",
       "      // at the top of the figure\n",
       "      this.fig.toolbar.toolbar.attr(\"x\", 150);\n",
       "      this.fig.toolbar.toolbar.attr(\"y\", 400);\n",
       "\n",
       "      // then remove the draw function,\n",
       "      // so that it is not called again\n",
       "      this.fig.toolbar.draw = function() {}\n",
       "    }\n",
       "    \n",
       "    mpld3.register_plugin(\"htmltooltip\", HtmlTooltipPlugin);\n",
       "    HtmlTooltipPlugin.prototype = Object.create(mpld3.Plugin.prototype);\n",
       "    HtmlTooltipPlugin.prototype.constructor = HtmlTooltipPlugin;\n",
       "    HtmlTooltipPlugin.prototype.requiredProps = [\"id\"];\n",
       "    HtmlTooltipPlugin.prototype.defaultProps = {labels:null, hoffset:0, voffset:10};\n",
       "    function HtmlTooltipPlugin(fig, props){\n",
       "        mpld3.Plugin.call(this, fig, props);\n",
       "    };\n",
       "\n",
       "    HtmlTooltipPlugin.prototype.draw = function(){\n",
       "       var obj = mpld3.get_element(this.props.id);\n",
       "       var labels = this.props.labels;\n",
       "       var tooltip = d3.select(\"body\").append(\"div\")\n",
       "                    .attr(\"class\", \"mpld3-tooltip\")\n",
       "                    .style(\"position\", \"absolute\")\n",
       "                    .style(\"z-index\", \"10\")\n",
       "                    .style(\"visibility\", \"hidden\");\n",
       "\n",
       "       obj.elements()\n",
       "           .on(\"mouseover\", function(d, i){\n",
       "                              tooltip.html(labels[i])\n",
       "                                     .style(\"visibility\", \"visible\");})\n",
       "           .on(\"mousemove\", function(d, i){\n",
       "                    tooltip\n",
       "                      .style(\"top\", d3.event.pageY + this.props.voffset + \"px\")\n",
       "                      .style(\"left\",d3.event.pageX + this.props.hoffset + \"px\");\n",
       "                 }.bind(this))\n",
       "           .on(\"mouseout\",  function(d, i){\n",
       "                           tooltip.style(\"visibility\", \"hidden\");});\n",
       "    };\n",
       "    \n",
       "    mpld3.register_plugin(\"toptoolbar\", TopToolbar);\n",
       "    TopToolbar.prototype = Object.create(mpld3.Plugin.prototype);\n",
       "    TopToolbar.prototype.constructor = TopToolbar;\n",
       "    function TopToolbar(fig, props){\n",
       "        mpld3.Plugin.call(this, fig, props);\n",
       "    };\n",
       "\n",
       "    TopToolbar.prototype.draw = function(){\n",
       "      // the toolbar svg doesn't exist\n",
       "      // yet, so first draw it\n",
       "      this.fig.toolbar.draw();\n",
       "\n",
       "      // then change the y position to be\n",
       "      // at the top of the figure\n",
       "      this.fig.toolbar.toolbar.attr(\"x\", 150);\n",
       "      this.fig.toolbar.toolbar.attr(\"y\", 400);\n",
       "\n",
       "      // then remove the draw function,\n",
       "      // so that it is not called again\n",
       "      this.fig.toolbar.draw = function() {}\n",
       "    }\n",
       "    \n",
       "    mpld3.register_plugin(\"htmltooltip\", HtmlTooltipPlugin);\n",
       "    HtmlTooltipPlugin.prototype = Object.create(mpld3.Plugin.prototype);\n",
       "    HtmlTooltipPlugin.prototype.constructor = HtmlTooltipPlugin;\n",
       "    HtmlTooltipPlugin.prototype.requiredProps = [\"id\"];\n",
       "    HtmlTooltipPlugin.prototype.defaultProps = {labels:null, hoffset:0, voffset:10};\n",
       "    function HtmlTooltipPlugin(fig, props){\n",
       "        mpld3.Plugin.call(this, fig, props);\n",
       "    };\n",
       "\n",
       "    HtmlTooltipPlugin.prototype.draw = function(){\n",
       "       var obj = mpld3.get_element(this.props.id);\n",
       "       var labels = this.props.labels;\n",
       "       var tooltip = d3.select(\"body\").append(\"div\")\n",
       "                    .attr(\"class\", \"mpld3-tooltip\")\n",
       "                    .style(\"position\", \"absolute\")\n",
       "                    .style(\"z-index\", \"10\")\n",
       "                    .style(\"visibility\", \"hidden\");\n",
       "\n",
       "       obj.elements()\n",
       "           .on(\"mouseover\", function(d, i){\n",
       "                              tooltip.html(labels[i])\n",
       "                                     .style(\"visibility\", \"visible\");})\n",
       "           .on(\"mousemove\", function(d, i){\n",
       "                    tooltip\n",
       "                      .style(\"top\", d3.event.pageY + this.props.voffset + \"px\")\n",
       "                      .style(\"left\",d3.event.pageX + this.props.hoffset + \"px\");\n",
       "                 }.bind(this))\n",
       "           .on(\"mouseout\",  function(d, i){\n",
       "                           tooltip.style(\"visibility\", \"hidden\");});\n",
       "    };\n",
       "    \n",
       "    mpld3.register_plugin(\"toptoolbar\", TopToolbar);\n",
       "    TopToolbar.prototype = Object.create(mpld3.Plugin.prototype);\n",
       "    TopToolbar.prototype.constructor = TopToolbar;\n",
       "    function TopToolbar(fig, props){\n",
       "        mpld3.Plugin.call(this, fig, props);\n",
       "    };\n",
       "\n",
       "    TopToolbar.prototype.draw = function(){\n",
       "      // the toolbar svg doesn't exist\n",
       "      // yet, so first draw it\n",
       "      this.fig.toolbar.draw();\n",
       "\n",
       "      // then change the y position to be\n",
       "      // at the top of the figure\n",
       "      this.fig.toolbar.toolbar.attr(\"x\", 150);\n",
       "      this.fig.toolbar.toolbar.attr(\"y\", 400);\n",
       "\n",
       "      // then remove the draw function,\n",
       "      // so that it is not called again\n",
       "      this.fig.toolbar.draw = function() {}\n",
       "    }\n",
       "    \n",
       "    mpld3.register_plugin(\"htmltooltip\", HtmlTooltipPlugin);\n",
       "    HtmlTooltipPlugin.prototype = Object.create(mpld3.Plugin.prototype);\n",
       "    HtmlTooltipPlugin.prototype.constructor = HtmlTooltipPlugin;\n",
       "    HtmlTooltipPlugin.prototype.requiredProps = [\"id\"];\n",
       "    HtmlTooltipPlugin.prototype.defaultProps = {labels:null, hoffset:0, voffset:10};\n",
       "    function HtmlTooltipPlugin(fig, props){\n",
       "        mpld3.Plugin.call(this, fig, props);\n",
       "    };\n",
       "\n",
       "    HtmlTooltipPlugin.prototype.draw = function(){\n",
       "       var obj = mpld3.get_element(this.props.id);\n",
       "       var labels = this.props.labels;\n",
       "       var tooltip = d3.select(\"body\").append(\"div\")\n",
       "                    .attr(\"class\", \"mpld3-tooltip\")\n",
       "                    .style(\"position\", \"absolute\")\n",
       "                    .style(\"z-index\", \"10\")\n",
       "                    .style(\"visibility\", \"hidden\");\n",
       "\n",
       "       obj.elements()\n",
       "           .on(\"mouseover\", function(d, i){\n",
       "                              tooltip.html(labels[i])\n",
       "                                     .style(\"visibility\", \"visible\");})\n",
       "           .on(\"mousemove\", function(d, i){\n",
       "                    tooltip\n",
       "                      .style(\"top\", d3.event.pageY + this.props.voffset + \"px\")\n",
       "                      .style(\"left\",d3.event.pageX + this.props.hoffset + \"px\");\n",
       "                 }.bind(this))\n",
       "           .on(\"mouseout\",  function(d, i){\n",
       "                           tooltip.style(\"visibility\", \"hidden\");});\n",
       "    };\n",
       "    \n",
       "    mpld3.register_plugin(\"toptoolbar\", TopToolbar);\n",
       "    TopToolbar.prototype = Object.create(mpld3.Plugin.prototype);\n",
       "    TopToolbar.prototype.constructor = TopToolbar;\n",
       "    function TopToolbar(fig, props){\n",
       "        mpld3.Plugin.call(this, fig, props);\n",
       "    };\n",
       "\n",
       "    TopToolbar.prototype.draw = function(){\n",
       "      // the toolbar svg doesn't exist\n",
       "      // yet, so first draw it\n",
       "      this.fig.toolbar.draw();\n",
       "\n",
       "      // then change the y position to be\n",
       "      // at the top of the figure\n",
       "      this.fig.toolbar.toolbar.attr(\"x\", 150);\n",
       "      this.fig.toolbar.toolbar.attr(\"y\", 400);\n",
       "\n",
       "      // then remove the draw function,\n",
       "      // so that it is not called again\n",
       "      this.fig.toolbar.draw = function() {}\n",
       "    }\n",
       "    \n",
       "    mpld3.register_plugin(\"htmltooltip\", HtmlTooltipPlugin);\n",
       "    HtmlTooltipPlugin.prototype = Object.create(mpld3.Plugin.prototype);\n",
       "    HtmlTooltipPlugin.prototype.constructor = HtmlTooltipPlugin;\n",
       "    HtmlTooltipPlugin.prototype.requiredProps = [\"id\"];\n",
       "    HtmlTooltipPlugin.prototype.defaultProps = {labels:null, hoffset:0, voffset:10};\n",
       "    function HtmlTooltipPlugin(fig, props){\n",
       "        mpld3.Plugin.call(this, fig, props);\n",
       "    };\n",
       "\n",
       "    HtmlTooltipPlugin.prototype.draw = function(){\n",
       "       var obj = mpld3.get_element(this.props.id);\n",
       "       var labels = this.props.labels;\n",
       "       var tooltip = d3.select(\"body\").append(\"div\")\n",
       "                    .attr(\"class\", \"mpld3-tooltip\")\n",
       "                    .style(\"position\", \"absolute\")\n",
       "                    .style(\"z-index\", \"10\")\n",
       "                    .style(\"visibility\", \"hidden\");\n",
       "\n",
       "       obj.elements()\n",
       "           .on(\"mouseover\", function(d, i){\n",
       "                              tooltip.html(labels[i])\n",
       "                                     .style(\"visibility\", \"visible\");})\n",
       "           .on(\"mousemove\", function(d, i){\n",
       "                    tooltip\n",
       "                      .style(\"top\", d3.event.pageY + this.props.voffset + \"px\")\n",
       "                      .style(\"left\",d3.event.pageX + this.props.hoffset + \"px\");\n",
       "                 }.bind(this))\n",
       "           .on(\"mouseout\",  function(d, i){\n",
       "                           tooltip.style(\"visibility\", \"hidden\");});\n",
       "    };\n",
       "    \n",
       "    mpld3.register_plugin(\"toptoolbar\", TopToolbar);\n",
       "    TopToolbar.prototype = Object.create(mpld3.Plugin.prototype);\n",
       "    TopToolbar.prototype.constructor = TopToolbar;\n",
       "    function TopToolbar(fig, props){\n",
       "        mpld3.Plugin.call(this, fig, props);\n",
       "    };\n",
       "\n",
       "    TopToolbar.prototype.draw = function(){\n",
       "      // the toolbar svg doesn't exist\n",
       "      // yet, so first draw it\n",
       "      this.fig.toolbar.draw();\n",
       "\n",
       "      // then change the y position to be\n",
       "      // at the top of the figure\n",
       "      this.fig.toolbar.toolbar.attr(\"x\", 150);\n",
       "      this.fig.toolbar.toolbar.attr(\"y\", 400);\n",
       "\n",
       "      // then remove the draw function,\n",
       "      // so that it is not called again\n",
       "      this.fig.toolbar.draw = function() {}\n",
       "    }\n",
       "    \n",
       "         mpld3.draw_figure(\"fig_el112971398984802829847189895216\", {\"plugins\": [{\"type\": \"reset\"}, {\"button\": true, \"type\": \"zoom\", \"enabled\": false}, {\"button\": true, \"type\": \"boxzoom\", \"enabled\": false}, {\"hoffset\": 10, \"labels\": [\"Schindler's List\", \"Gone with the Wind\", \"Lawrence of Arabia\", \"The Bridge on the River Kwai\", \"Dr. Strangelove or: How I Learned to Stop Worrying and Love the Bomb\", \"Apocalypse Now\", \"The Lord of the Rings: The Return of the King\", \"Gladiator\", \"From Here to Eternity\", \"Saving Private Ryan\", \"Raiders of the Lost Ark\", \"Ben-Hur\", \"Patton\", \"Braveheart\", \"Platoon\", \"Dances with Wolves\", \"All Quiet on the Western Front\", \"The African Queen\", \"Mutiny on the Bounty\"], \"voffset\": 10, \"type\": \"htmltooltip\", \"id\": \"el11297139898461947720pts\"}, {\"type\": \"toptoolbar\"}, {\"hoffset\": 10, \"labels\": [\"Titanic\", \"The Godfather: Part II\", \"Sunset Blvd.\", \"Amadeus\", \"The Good, the Bad and the Ugly\", \"It Happened One Night\", \"Midnight Cowboy\", \"Network\", \"Taxi Driver\", \"Yankee Doodle Dandy\"], \"voffset\": 10, \"type\": \"htmltooltip\", \"id\": \"el11297139898227631440pts\"}, {\"type\": \"toptoolbar\"}, {\"hoffset\": 10, \"labels\": [\"Raging Bull\", \"Citizen Kane\", \"Forrest Gump\", \"Singin' in the Rain\", \"Some Like It Hot\", \"Rocky\", \"A Streetcar Named Desire\", \"An American in Paris\", \"The Best Years of Our Lives\", \"My Fair Lady\", \"The Apartment\", \"City Lights\", \"Rain Man\", \"Annie Hall\", \"Out of Africa\", \"Good Will Hunting\", \"Terms of Endearment\", \"Tootsie\", \"Giant\", \"The Graduate\", \"Wuthering Heights\"], \"voffset\": 10, \"type\": \"htmltooltip\", \"id\": \"el11297139898493056616pts\"}, {\"type\": \"toptoolbar\"}, {\"hoffset\": 10, \"labels\": [\"The Godfather\", \"The Shawshank Redemption\", \"Casablanca\", \"One Flew Over the Cuckoo's Nest\", \"The Wizard of Oz\", \"Psycho\", \"Vertigo\", \"On the Waterfront\", \"The Sound of Music\", \"West Side Story\", \"Star Wars\", \"E.T. the Extra-Terrestrial\", \"2001: A Space Odyssey\", \"The Silence of the Lambs\", \"Chinatown\", \"12 Angry Men\", \"Gandhi\", \"Unforgiven\", \"To Kill a Mockingbird\", \"Doctor Zhivago\", \"Jaws\", \"Butch Cassidy and the Sundance Kid\", \"The Treasure of the Sierra Madre\", \"High Noon\", \"The Pianist\", \"Goodfellas\", \"The Exorcist\", \"The Deer Hunter\", \"The French Connection\", \"Mr. Smith Goes to Washington\", \"Fargo\", \"The Grapes of Wrath\", \"Shane\", \"The Green Mile\", \"Close Encounters of the Third Kind\", \"Nashville\", \"American Graffiti\", \"Pulp Fiction\", \"Stagecoach\", \"The Maltese Falcon\", \"A Clockwork Orange\", \"Double Indemnity\", \"Rebel Without a Cause\", \"Rear Window\", \"The Third Man\", \"North by Northwest\"], \"voffset\": 10, \"type\": \"htmltooltip\", \"id\": \"el11297139898456713200pts\"}, {\"type\": \"toptoolbar\"}, {\"hoffset\": 10, \"labels\": [\"It's a Wonderful Life\", \"The Philadelphia Story\", \"The King's Speech\", \"A Place in the Sun\"], \"voffset\": 10, \"type\": \"htmltooltip\", \"id\": \"el11297139898238035392pts\"}, {\"type\": \"toptoolbar\"}], \"height\": 480.0, \"id\": \"el11297139898480282984\", \"width\": 1120.0, \"axes\": [{\"lines\": [], \"zoomable\": true, \"paths\": [{\"alpha\": 1, \"facecolor\": \"#FFFFFF\", \"id\": \"el11297139898227631272\", \"dasharray\": \"10,0\", \"data\": \"data07\", \"edgecolor\": \"#000000\", \"coordinates\": \"axes\", \"xindex\": 0, \"yindex\": 1, \"zorder\": 1000001.0, \"edgewidth\": 1.0, \"pathcodes\": [\"M\", \"L\", \"L\", \"L\", \"Z\"]}], \"axes\": [{\"nticks\": 0, \"tickvalues\": [], \"fontsize\": null, \"grid\": {\"gridOn\": false}, \"tickformat\": \"\", \"position\": \"bottom\", \"scale\": \"linear\"}, {\"nticks\": 0, \"tickvalues\": [], \"fontsize\": null, \"grid\": {\"gridOn\": false}, \"tickformat\": \"\", \"position\": \"left\", \"scale\": \"linear\"}], \"id\": \"el11297139898239243544\", \"collections\": [], \"bbox\": [0.125, 0.125, 0.775, 0.775], \"images\": [], \"texts\": [{\"alpha\": 1, \"id\": \"el11297139898227754992\", \"zorder\": 1000003.0, \"rotation\": -0.0, \"coordinates\": \"axes\", \"h_anchor\": \"start\", \"position\": [-0.16129032258064516, -0.16129032258064518], \"v_baseline\": \"auto\", \"fontsize\": 10.0, \"color\": \"#000000\", \"text\": \"None\"}, {\"alpha\": 1, \"id\": \"el11297139898227692488\", \"zorder\": 1000003.0, \"rotation\": -0.0, \"coordinates\": \"axes\", \"h_anchor\": \"start\", \"position\": [0.7776857718894011, 0.9408602150537633], \"v_baseline\": \"auto\", \"fontsize\": 12.0, \"color\": \"#000000\", \"text\": \"Family, home, war\"}, {\"alpha\": 1, \"id\": \"el11297139898227695400\", \"zorder\": 1000003.0, \"rotation\": -0.0, \"coordinates\": \"axes\", \"h_anchor\": \"start\", \"position\": [0.7776857718894011, 0.8879928315412184], \"v_baseline\": \"auto\", \"fontsize\": 12.0, \"color\": \"#000000\", \"text\": \"Police, killed, murders\"}, {\"alpha\": 1, \"id\": \"el11297139898227714648\", \"zorder\": 1000003.0, \"rotation\": -0.0, \"coordinates\": \"axes\", \"h_anchor\": \"start\", \"position\": [0.7776857718894011, 0.8351254480286738], \"v_baseline\": \"auto\", \"fontsize\": 12.0, \"color\": \"#000000\", \"text\": \"Father, New York, brothers\"}, {\"alpha\": 1, \"id\": \"el11297139898227732664\", \"zorder\": 1000003.0, \"rotation\": -0.0, \"coordinates\": \"axes\", \"h_anchor\": \"start\", \"position\": [0.7776857718894011, 0.782258064516129], \"v_baseline\": \"auto\", \"fontsize\": 12.0, \"color\": \"#000000\", \"text\": \"Dance, singing, love\"}, {\"alpha\": 1, \"id\": \"el11297139898227735464\", \"zorder\": 1000003.0, \"rotation\": -0.0, \"coordinates\": \"axes\", \"h_anchor\": \"start\", \"position\": [0.7776857718894011, 0.7293906810035842], \"v_baseline\": \"auto\", \"fontsize\": 12.0, \"color\": \"#000000\", \"text\": \"Killed, soldiers, captain\"}], \"sharey\": [], \"ylim\": [-0.7081377832177825, 0.6939033427606786], \"xscale\": \"linear\", \"markers\": [{\"xindex\": 0, \"alpha\": 1, \"facecolor\": \"#1B9E77\", \"yindex\": 1, \"id\": \"el11297139898461947720pts\", \"edgecolor\": \"none\", \"markerpath\": [[[0.0, 9.0], [2.3868279, 9.0], [4.676218837063681, 8.051703224294176], [6.3639610306789285, 6.3639610306789285], [8.051703224294176, 4.676218837063681], [9.0, 2.3868279], [9.0, 0.0], [9.0, -2.3868279], [8.051703224294176, -4.676218837063681], [6.3639610306789285, -6.3639610306789285], [4.676218837063681, -8.051703224294176], [2.3868279, -9.0], [0.0, -9.0], [-2.3868279, -9.0], [-4.676218837063681, -8.051703224294176], [-6.3639610306789285, -6.3639610306789285], [-8.051703224294176, -4.676218837063681], [-9.0, -2.3868279], [-9.0, 0.0], [-9.0, 2.3868279], [-8.051703224294176, 4.676218837063681], [-6.3639610306789285, 6.3639610306789285], [-4.676218837063681, 8.051703224294176], [-2.3868279, 9.0], [0.0, 9.0]], [\"M\", \"C\", \"C\", \"C\", \"C\", \"C\", \"C\", \"C\", \"C\", \"Z\"]], \"data\": \"data01\", \"edgewidth\": 0.5, \"coordinates\": \"data\", \"zorder\": 2}, {\"xindex\": 0, \"alpha\": 1, \"facecolor\": \"#D95F02\", \"yindex\": 1, \"id\": \"el11297139898227631440pts\", \"edgecolor\": \"none\", \"markerpath\": [[[0.0, 9.0], [2.3868279, 9.0], [4.676218837063681, 8.051703224294176], [6.3639610306789285, 6.3639610306789285], [8.051703224294176, 4.676218837063681], [9.0, 2.3868279], [9.0, 0.0], [9.0, -2.3868279], [8.051703224294176, -4.676218837063681], [6.3639610306789285, -6.3639610306789285], [4.676218837063681, -8.051703224294176], [2.3868279, -9.0], [0.0, -9.0], [-2.3868279, -9.0], [-4.676218837063681, -8.051703224294176], [-6.3639610306789285, -6.3639610306789285], [-8.051703224294176, -4.676218837063681], [-9.0, -2.3868279], [-9.0, 0.0], [-9.0, 2.3868279], [-8.051703224294176, 4.676218837063681], [-6.3639610306789285, 6.3639610306789285], [-4.676218837063681, 8.051703224294176], [-2.3868279, 9.0], [0.0, 9.0]], [\"M\", \"C\", \"C\", \"C\", \"C\", \"C\", \"C\", \"C\", \"C\", \"Z\"]], \"data\": \"data02\", \"edgewidth\": 0.5, \"coordinates\": \"data\", \"zorder\": 2}, {\"xindex\": 0, \"alpha\": 1, \"facecolor\": \"#7570B3\", \"yindex\": 1, \"id\": \"el11297139898493056616pts\", \"edgecolor\": \"none\", \"markerpath\": [[[0.0, 9.0], [2.3868279, 9.0], [4.676218837063681, 8.051703224294176], [6.3639610306789285, 6.3639610306789285], [8.051703224294176, 4.676218837063681], [9.0, 2.3868279], [9.0, 0.0], [9.0, -2.3868279], [8.051703224294176, -4.676218837063681], [6.3639610306789285, -6.3639610306789285], [4.676218837063681, -8.051703224294176], [2.3868279, -9.0], [0.0, -9.0], [-2.3868279, -9.0], [-4.676218837063681, -8.051703224294176], [-6.3639610306789285, -6.3639610306789285], [-8.051703224294176, -4.676218837063681], [-9.0, -2.3868279], [-9.0, 0.0], [-9.0, 2.3868279], [-8.051703224294176, 4.676218837063681], [-6.3639610306789285, 6.3639610306789285], [-4.676218837063681, 8.051703224294176], [-2.3868279, 9.0], [0.0, 9.0]], [\"M\", \"C\", \"C\", \"C\", \"C\", \"C\", \"C\", \"C\", \"C\", \"Z\"]], \"data\": \"data03\", \"edgewidth\": 0.5, \"coordinates\": \"data\", \"zorder\": 2}, {\"xindex\": 0, \"alpha\": 1, \"facecolor\": \"#E7298A\", \"yindex\": 1, \"id\": \"el11297139898456713200pts\", \"edgecolor\": \"none\", \"markerpath\": [[[0.0, 9.0], [2.3868279, 9.0], [4.676218837063681, 8.051703224294176], [6.3639610306789285, 6.3639610306789285], [8.051703224294176, 4.676218837063681], [9.0, 2.3868279], [9.0, 0.0], [9.0, -2.3868279], [8.051703224294176, -4.676218837063681], [6.3639610306789285, -6.3639610306789285], [4.676218837063681, -8.051703224294176], [2.3868279, -9.0], [0.0, -9.0], [-2.3868279, -9.0], [-4.676218837063681, -8.051703224294176], [-6.3639610306789285, -6.3639610306789285], [-8.051703224294176, -4.676218837063681], [-9.0, -2.3868279], [-9.0, 0.0], [-9.0, 2.3868279], [-8.051703224294176, 4.676218837063681], [-6.3639610306789285, 6.3639610306789285], [-4.676218837063681, 8.051703224294176], [-2.3868279, 9.0], [0.0, 9.0]], [\"M\", \"C\", \"C\", \"C\", \"C\", \"C\", \"C\", \"C\", \"C\", \"Z\"]], \"data\": \"data04\", \"edgewidth\": 0.5, \"coordinates\": \"data\", \"zorder\": 2}, {\"xindex\": 0, \"alpha\": 1, \"facecolor\": \"#66A61E\", \"yindex\": 1, \"id\": \"el11297139898238035392pts\", \"edgecolor\": \"none\", \"markerpath\": [[[0.0, 9.0], [2.3868279, 9.0], [4.676218837063681, 8.051703224294176], [6.3639610306789285, 6.3639610306789285], [8.051703224294176, 4.676218837063681], [9.0, 2.3868279], [9.0, 0.0], [9.0, -2.3868279], [8.051703224294176, -4.676218837063681], [6.3639610306789285, -6.3639610306789285], [4.676218837063681, -8.051703224294176], [2.3868279, -9.0], [0.0, -9.0], [-2.3868279, -9.0], [-4.676218837063681, -8.051703224294176], [-6.3639610306789285, -6.3639610306789285], [-8.051703224294176, -4.676218837063681], [-9.0, -2.3868279], [-9.0, 0.0], [-9.0, 2.3868279], [-8.051703224294176, 4.676218837063681], [-6.3639610306789285, 6.3639610306789285], [-4.676218837063681, 8.051703224294176], [-2.3868279, 9.0], [0.0, 9.0]], [\"M\", \"C\", \"C\", \"C\", \"C\", \"C\", \"C\", \"C\", \"C\", \"Z\"]], \"data\": \"data05\", \"edgewidth\": 0.5, \"coordinates\": \"data\", \"zorder\": 2}, {\"xindex\": 0, \"alpha\": 1, \"facecolor\": \"#1B9E77\", \"yindex\": 1, \"id\": \"el11297139898227694056pts\", \"edgecolor\": \"none\", \"markerpath\": [[[0.0, 9.0], [2.3868279, 9.0], [4.676218837063681, 8.051703224294176], [6.3639610306789285, 6.3639610306789285], [8.051703224294176, 4.676218837063681], [9.0, 2.3868279], [9.0, 0.0], [9.0, -2.3868279], [8.051703224294176, -4.676218837063681], [6.3639610306789285, -6.3639610306789285], [4.676218837063681, -8.051703224294176], [2.3868279, -9.0], [0.0, -9.0], [-2.3868279, -9.0], [-4.676218837063681, -8.051703224294176], [-6.3639610306789285, -6.3639610306789285], [-8.051703224294176, -4.676218837063681], [-9.0, -2.3868279], [-9.0, 0.0], [-9.0, 2.3868279], [-8.051703224294176, 4.676218837063681], [-6.3639610306789285, 6.3639610306789285], [-4.676218837063681, 8.051703224294176], [-2.3868279, 9.0], [0.0, 9.0]], [\"M\", \"C\", \"C\", \"C\", \"C\", \"C\", \"C\", \"C\", \"C\", \"Z\"]], \"data\": \"data06\", \"edgewidth\": 0.5, \"coordinates\": \"axes\", \"zorder\": 1000002.0}, {\"xindex\": 0, \"alpha\": 1, \"facecolor\": \"#D95F02\", \"yindex\": 2, \"id\": \"el11297139898227713304pts\", \"edgecolor\": \"none\", \"markerpath\": [[[0.0, 9.0], [2.3868279, 9.0], [4.676218837063681, 8.051703224294176], [6.3639610306789285, 6.3639610306789285], [8.051703224294176, 4.676218837063681], [9.0, 2.3868279], [9.0, 0.0], [9.0, -2.3868279], [8.051703224294176, -4.676218837063681], [6.3639610306789285, -6.3639610306789285], [4.676218837063681, -8.051703224294176], [2.3868279, -9.0], [0.0, -9.0], [-2.3868279, -9.0], [-4.676218837063681, -8.051703224294176], [-6.3639610306789285, -6.3639610306789285], [-8.051703224294176, -4.676218837063681], [-9.0, -2.3868279], [-9.0, 0.0], [-9.0, 2.3868279], [-8.051703224294176, 4.676218837063681], [-6.3639610306789285, 6.3639610306789285], [-4.676218837063681, 8.051703224294176], [-2.3868279, 9.0], [0.0, 9.0]], [\"M\", \"C\", \"C\", \"C\", \"C\", \"C\", \"C\", \"C\", \"C\", \"Z\"]], \"data\": \"data06\", \"edgewidth\": 0.5, \"coordinates\": \"axes\", \"zorder\": 1000002.0}, {\"xindex\": 0, \"alpha\": 1, \"facecolor\": \"#7570B3\", \"yindex\": 3, \"id\": \"el11297139898227714928pts\", \"edgecolor\": \"none\", \"markerpath\": [[[0.0, 9.0], [2.3868279, 9.0], [4.676218837063681, 8.051703224294176], [6.3639610306789285, 6.3639610306789285], [8.051703224294176, 4.676218837063681], [9.0, 2.3868279], [9.0, 0.0], [9.0, -2.3868279], [8.051703224294176, -4.676218837063681], [6.3639610306789285, -6.3639610306789285], [4.676218837063681, -8.051703224294176], [2.3868279, -9.0], [0.0, -9.0], [-2.3868279, -9.0], [-4.676218837063681, -8.051703224294176], [-6.3639610306789285, -6.3639610306789285], [-8.051703224294176, -4.676218837063681], [-9.0, -2.3868279], [-9.0, 0.0], [-9.0, 2.3868279], [-8.051703224294176, 4.676218837063681], [-6.3639610306789285, 6.3639610306789285], [-4.676218837063681, 8.051703224294176], [-2.3868279, 9.0], [0.0, 9.0]], [\"M\", \"C\", \"C\", \"C\", \"C\", \"C\", \"C\", \"C\", \"C\", \"Z\"]], \"data\": \"data06\", \"edgewidth\": 0.5, \"coordinates\": \"axes\", \"zorder\": 1000002.0}, {\"xindex\": 0, \"alpha\": 1, \"facecolor\": \"#E7298A\", \"yindex\": 4, \"id\": \"el11297139898227734120pts\", \"edgecolor\": \"none\", \"markerpath\": [[[0.0, 9.0], [2.3868279, 9.0], [4.676218837063681, 8.051703224294176], [6.3639610306789285, 6.3639610306789285], [8.051703224294176, 4.676218837063681], [9.0, 2.3868279], [9.0, 0.0], [9.0, -2.3868279], [8.051703224294176, -4.676218837063681], [6.3639610306789285, -6.3639610306789285], [4.676218837063681, -8.051703224294176], [2.3868279, -9.0], [0.0, -9.0], [-2.3868279, -9.0], [-4.676218837063681, -8.051703224294176], [-6.3639610306789285, -6.3639610306789285], [-8.051703224294176, -4.676218837063681], [-9.0, -2.3868279], [-9.0, 0.0], [-9.0, 2.3868279], [-8.051703224294176, 4.676218837063681], [-6.3639610306789285, 6.3639610306789285], [-4.676218837063681, 8.051703224294176], [-2.3868279, 9.0], [0.0, 9.0]], [\"M\", \"C\", \"C\", \"C\", \"C\", \"C\", \"C\", \"C\", \"C\", \"Z\"]], \"data\": \"data06\", \"edgewidth\": 0.5, \"coordinates\": \"axes\", \"zorder\": 1000002.0}, {\"xindex\": 0, \"alpha\": 1, \"facecolor\": \"#66A61E\", \"yindex\": 5, \"id\": \"el11297139898227753368pts\", \"edgecolor\": \"none\", \"markerpath\": [[[0.0, 9.0], [2.3868279, 9.0], [4.676218837063681, 8.051703224294176], [6.3639610306789285, 6.3639610306789285], [8.051703224294176, 4.676218837063681], [9.0, 2.3868279], [9.0, 0.0], [9.0, -2.3868279], [8.051703224294176, -4.676218837063681], [6.3639610306789285, -6.3639610306789285], [4.676218837063681, -8.051703224294176], [2.3868279, -9.0], [0.0, -9.0], [-2.3868279, -9.0], [-4.676218837063681, -8.051703224294176], [-6.3639610306789285, -6.3639610306789285], [-8.051703224294176, -4.676218837063681], [-9.0, -2.3868279], [-9.0, 0.0], [-9.0, 2.3868279], [-8.051703224294176, 4.676218837063681], [-6.3639610306789285, 6.3639610306789285], [-4.676218837063681, 8.051703224294176], [-2.3868279, 9.0], [0.0, 9.0]], [\"M\", \"C\", \"C\", \"C\", \"C\", \"C\", \"C\", \"C\", \"C\", \"Z\"]], \"data\": \"data06\", \"edgewidth\": 0.5, \"coordinates\": \"axes\", \"zorder\": 1000002.0}], \"sharex\": [], \"xdomain\": [-0.7022243585349199, 0.7098185051203891], \"xlim\": [-0.7022243585349199, 0.7098185051203891], \"ydomain\": [-0.7081377832177825, 0.6939033427606786], \"axesbgalpha\": null, \"yscale\": \"linear\", \"axesbg\": \"#FFFFFF\"}], \"data\": {\"data04\": [[0.1842639196948847, -0.011698423371132152], [0.4420542765535735, -0.2786832170112155], [-0.258417253284027, -0.2652260221436388], [0.05785577310053593, 0.25692858718863093], [-0.43453170540719366, -0.29660613828269616], [-0.22762167926505814, 0.06857695283204854], [-0.3528182922735947, 0.12701319394680938], [-0.05335737382032607, 0.12312849271489654], [0.5525828106324346, 0.49022359259865306], [-0.48428094266733496, 0.17299840565537866], [0.19843470887949946, -0.3892802726823152], [-0.021733999952444738, -0.042720767809052894], [0.35007455070415944, -0.33949066390038307], [0.5177717200812387, -0.2536540302931725], [-0.5522759511779272, -0.22475587495166363], [0.5306515354145532, 0.1294497101088675], [0.43342020294859956, 0.14567841987345992], [-0.15297793113902683, -0.30140577453193457], [0.21420712139192538, 0.2183286793356958], [0.16075133608675513, -0.11942129559742261], [0.07966541763901362, -0.3889609926197951], [-0.34784460975136144, -0.3258414653409745], [-0.3608951277095703, -0.48195991352901957], [-0.6622608812616565, -0.20511076586859073], [0.15640009437168323, -0.21297986976225988], [0.20867878615651633, 0.06434284629527791], [0.18341909271393095, 0.3029016910056736], [-0.08782998361951912, -0.2007423698086272], [-0.4599154070542705, 0.007654714663857465], [0.6448617791922985, -0.15574388957552057], [-0.34166307376918104, 0.03630579254966726], [0.47591168977268594, -0.4358076517203701], [-0.5516219950653584, 0.3348728982305264], [-0.5674021212107925, -0.35376317678446884], [0.27514357721327537, -0.29426793132752815], [0.06195871862089496, 0.6100873144577459], [-0.6012495190001138, -0.04195024831025676], [-0.3415780134445779, -0.06842764695433033], [0.3244183710745198, -0.45650361180937427], [-0.33941629334547235, -0.15117828334141054], [-0.18745722681366755, 0.15085562479813835], [-0.46600115683767945, -0.09932904605351045], [-0.5791581543162552, 0.29025774220332035], [-0.581074334873682, 0.10578299005618616], [-0.2083933734933721, -0.058574052865909366], [-0.1995916680206842, 0.0064165474101231254]], \"data02\": [[0.6037636767904756, -0.34565548304904037], [0.07160786733633107, 0.13140355942960508], [-0.4301012825198393, 0.2854141396127525], [0.41546634085583234, 0.4069688257035027], [-0.06989475411532176, 0.569705539011805], [-0.4208318237068076, 0.46280088153288335], [-0.30315863958813255, 0.4758732388739999], [0.6688326628289069, -0.08783277088604606], [-0.552165502285474, 0.028845815397586044], [0.6272943977307884, 0.3595046830327616]], \"data07\": [[0.7285306259600616, 0.7069892473118278], [0.9923195084485409, 0.7069892473118278], [0.9923195084485409, 0.9820788530465947], [0.7285306259600616, 0.9820788530465947]], \"data01\": [[-0.031704356749774315, -0.45668597931827065], [0.05839869253028608, -0.04611702740890181], [-0.25091001948814, -0.5748364190982864], [-0.08237740002772587, -0.5784292658683906], [-0.016290419113439557, -0.6355726160881316], [0.019734051171252757, -0.6360367105738866], [0.2438433076495576, -0.5041202087221548], [0.08014906600330879, -0.4799020818182777], [-0.15255045823070493, -0.3408753845517839], [-0.020081825875353215, -0.35718794655762914], [-0.22758349812136536, -0.45047495075469096], [0.34423528399454734, -0.13020602386402164], [0.12888676337410168, -0.668457373991977], [0.4928761771808502, -0.1411107487904908], [-0.11265730034344344, -0.4993121670686306], [0.1827109977144634, -0.5787464521608237], [-0.18336929431804472, -0.5551182889814734], [-0.45337586370615407, -0.44518883037029683], [0.33505791724913486, -0.6458208127368436]], \"data05\": [[0.4192021972350015, 0.5854520485169515], [0.6698550278471257, 0.11893281852637148], [0.40204400902943815, 0.498701667453783], [0.6677627104186503, 0.26949909097813]], \"data03\": [[-0.1322921736434466, 0.5745109123612222], [0.011870129083831693, 0.4624853574054067], [0.3547936331378034, 0.008290710365072116], [-0.34160570270008384, 0.6344808506574434], [-0.17104806655713084, 0.23239528561346245], [-0.28462977611146373, 0.2756306109086089], [0.3432853030249946, 0.246006709745588], [-0.2037332777288499, 0.5597834903655693], [0.31816539769255964, 0.08775294364571601], [-0.19659297207639648, 0.3957261088660333], [-0.5962637921066579, 0.19021678812015821], [0.5656255199388547, 0.34237017859020485], [-0.18148082579748032, 0.4766013154583243], [-0.02882418924007409, 0.654222933534873], [0.12096767900038803, 0.4812637440714905], [0.12587206202926585, 0.4177788692597201], [0.220078542503727, 0.4800518402232757], [-0.02227777502359704, 0.33877773486584417], [0.4819436407032279, 0.008023079596038808], [-0.3243215990367419, 0.3312982383148728], [0.18464212048810344, 0.5791967329426072]], \"data06\": [[0.7500360023041476, 0.9534050179211467, 0.9005376344086019, 0.8476702508960573, 0.7948028673835125, 0.7419354838709676]]}});\n",
       "      });\n",
       "    });\n",
       "}else{\n",
       "    // require.js not available: dynamically load d3 & mpld3\n",
       "    mpld3_load_lib(\"https://mpld3.github.io/js/d3.v3.min.js\", function(){\n",
       "         mpld3_load_lib(\"https://mpld3.github.io/js/mpld3.v0.2.js\", function(){\n",
       "                 \n",
       "    mpld3.register_plugin(\"htmltooltip\", HtmlTooltipPlugin);\n",
       "    HtmlTooltipPlugin.prototype = Object.create(mpld3.Plugin.prototype);\n",
       "    HtmlTooltipPlugin.prototype.constructor = HtmlTooltipPlugin;\n",
       "    HtmlTooltipPlugin.prototype.requiredProps = [\"id\"];\n",
       "    HtmlTooltipPlugin.prototype.defaultProps = {labels:null, hoffset:0, voffset:10};\n",
       "    function HtmlTooltipPlugin(fig, props){\n",
       "        mpld3.Plugin.call(this, fig, props);\n",
       "    };\n",
       "\n",
       "    HtmlTooltipPlugin.prototype.draw = function(){\n",
       "       var obj = mpld3.get_element(this.props.id);\n",
       "       var labels = this.props.labels;\n",
       "       var tooltip = d3.select(\"body\").append(\"div\")\n",
       "                    .attr(\"class\", \"mpld3-tooltip\")\n",
       "                    .style(\"position\", \"absolute\")\n",
       "                    .style(\"z-index\", \"10\")\n",
       "                    .style(\"visibility\", \"hidden\");\n",
       "\n",
       "       obj.elements()\n",
       "           .on(\"mouseover\", function(d, i){\n",
       "                              tooltip.html(labels[i])\n",
       "                                     .style(\"visibility\", \"visible\");})\n",
       "           .on(\"mousemove\", function(d, i){\n",
       "                    tooltip\n",
       "                      .style(\"top\", d3.event.pageY + this.props.voffset + \"px\")\n",
       "                      .style(\"left\",d3.event.pageX + this.props.hoffset + \"px\");\n",
       "                 }.bind(this))\n",
       "           .on(\"mouseout\",  function(d, i){\n",
       "                           tooltip.style(\"visibility\", \"hidden\");});\n",
       "    };\n",
       "    \n",
       "    mpld3.register_plugin(\"toptoolbar\", TopToolbar);\n",
       "    TopToolbar.prototype = Object.create(mpld3.Plugin.prototype);\n",
       "    TopToolbar.prototype.constructor = TopToolbar;\n",
       "    function TopToolbar(fig, props){\n",
       "        mpld3.Plugin.call(this, fig, props);\n",
       "    };\n",
       "\n",
       "    TopToolbar.prototype.draw = function(){\n",
       "      // the toolbar svg doesn't exist\n",
       "      // yet, so first draw it\n",
       "      this.fig.toolbar.draw();\n",
       "\n",
       "      // then change the y position to be\n",
       "      // at the top of the figure\n",
       "      this.fig.toolbar.toolbar.attr(\"x\", 150);\n",
       "      this.fig.toolbar.toolbar.attr(\"y\", 400);\n",
       "\n",
       "      // then remove the draw function,\n",
       "      // so that it is not called again\n",
       "      this.fig.toolbar.draw = function() {}\n",
       "    }\n",
       "    \n",
       "    mpld3.register_plugin(\"htmltooltip\", HtmlTooltipPlugin);\n",
       "    HtmlTooltipPlugin.prototype = Object.create(mpld3.Plugin.prototype);\n",
       "    HtmlTooltipPlugin.prototype.constructor = HtmlTooltipPlugin;\n",
       "    HtmlTooltipPlugin.prototype.requiredProps = [\"id\"];\n",
       "    HtmlTooltipPlugin.prototype.defaultProps = {labels:null, hoffset:0, voffset:10};\n",
       "    function HtmlTooltipPlugin(fig, props){\n",
       "        mpld3.Plugin.call(this, fig, props);\n",
       "    };\n",
       "\n",
       "    HtmlTooltipPlugin.prototype.draw = function(){\n",
       "       var obj = mpld3.get_element(this.props.id);\n",
       "       var labels = this.props.labels;\n",
       "       var tooltip = d3.select(\"body\").append(\"div\")\n",
       "                    .attr(\"class\", \"mpld3-tooltip\")\n",
       "                    .style(\"position\", \"absolute\")\n",
       "                    .style(\"z-index\", \"10\")\n",
       "                    .style(\"visibility\", \"hidden\");\n",
       "\n",
       "       obj.elements()\n",
       "           .on(\"mouseover\", function(d, i){\n",
       "                              tooltip.html(labels[i])\n",
       "                                     .style(\"visibility\", \"visible\");})\n",
       "           .on(\"mousemove\", function(d, i){\n",
       "                    tooltip\n",
       "                      .style(\"top\", d3.event.pageY + this.props.voffset + \"px\")\n",
       "                      .style(\"left\",d3.event.pageX + this.props.hoffset + \"px\");\n",
       "                 }.bind(this))\n",
       "           .on(\"mouseout\",  function(d, i){\n",
       "                           tooltip.style(\"visibility\", \"hidden\");});\n",
       "    };\n",
       "    \n",
       "    mpld3.register_plugin(\"toptoolbar\", TopToolbar);\n",
       "    TopToolbar.prototype = Object.create(mpld3.Plugin.prototype);\n",
       "    TopToolbar.prototype.constructor = TopToolbar;\n",
       "    function TopToolbar(fig, props){\n",
       "        mpld3.Plugin.call(this, fig, props);\n",
       "    };\n",
       "\n",
       "    TopToolbar.prototype.draw = function(){\n",
       "      // the toolbar svg doesn't exist\n",
       "      // yet, so first draw it\n",
       "      this.fig.toolbar.draw();\n",
       "\n",
       "      // then change the y position to be\n",
       "      // at the top of the figure\n",
       "      this.fig.toolbar.toolbar.attr(\"x\", 150);\n",
       "      this.fig.toolbar.toolbar.attr(\"y\", 400);\n",
       "\n",
       "      // then remove the draw function,\n",
       "      // so that it is not called again\n",
       "      this.fig.toolbar.draw = function() {}\n",
       "    }\n",
       "    \n",
       "    mpld3.register_plugin(\"htmltooltip\", HtmlTooltipPlugin);\n",
       "    HtmlTooltipPlugin.prototype = Object.create(mpld3.Plugin.prototype);\n",
       "    HtmlTooltipPlugin.prototype.constructor = HtmlTooltipPlugin;\n",
       "    HtmlTooltipPlugin.prototype.requiredProps = [\"id\"];\n",
       "    HtmlTooltipPlugin.prototype.defaultProps = {labels:null, hoffset:0, voffset:10};\n",
       "    function HtmlTooltipPlugin(fig, props){\n",
       "        mpld3.Plugin.call(this, fig, props);\n",
       "    };\n",
       "\n",
       "    HtmlTooltipPlugin.prototype.draw = function(){\n",
       "       var obj = mpld3.get_element(this.props.id);\n",
       "       var labels = this.props.labels;\n",
       "       var tooltip = d3.select(\"body\").append(\"div\")\n",
       "                    .attr(\"class\", \"mpld3-tooltip\")\n",
       "                    .style(\"position\", \"absolute\")\n",
       "                    .style(\"z-index\", \"10\")\n",
       "                    .style(\"visibility\", \"hidden\");\n",
       "\n",
       "       obj.elements()\n",
       "           .on(\"mouseover\", function(d, i){\n",
       "                              tooltip.html(labels[i])\n",
       "                                     .style(\"visibility\", \"visible\");})\n",
       "           .on(\"mousemove\", function(d, i){\n",
       "                    tooltip\n",
       "                      .style(\"top\", d3.event.pageY + this.props.voffset + \"px\")\n",
       "                      .style(\"left\",d3.event.pageX + this.props.hoffset + \"px\");\n",
       "                 }.bind(this))\n",
       "           .on(\"mouseout\",  function(d, i){\n",
       "                           tooltip.style(\"visibility\", \"hidden\");});\n",
       "    };\n",
       "    \n",
       "    mpld3.register_plugin(\"toptoolbar\", TopToolbar);\n",
       "    TopToolbar.prototype = Object.create(mpld3.Plugin.prototype);\n",
       "    TopToolbar.prototype.constructor = TopToolbar;\n",
       "    function TopToolbar(fig, props){\n",
       "        mpld3.Plugin.call(this, fig, props);\n",
       "    };\n",
       "\n",
       "    TopToolbar.prototype.draw = function(){\n",
       "      // the toolbar svg doesn't exist\n",
       "      // yet, so first draw it\n",
       "      this.fig.toolbar.draw();\n",
       "\n",
       "      // then change the y position to be\n",
       "      // at the top of the figure\n",
       "      this.fig.toolbar.toolbar.attr(\"x\", 150);\n",
       "      this.fig.toolbar.toolbar.attr(\"y\", 400);\n",
       "\n",
       "      // then remove the draw function,\n",
       "      // so that it is not called again\n",
       "      this.fig.toolbar.draw = function() {}\n",
       "    }\n",
       "    \n",
       "    mpld3.register_plugin(\"htmltooltip\", HtmlTooltipPlugin);\n",
       "    HtmlTooltipPlugin.prototype = Object.create(mpld3.Plugin.prototype);\n",
       "    HtmlTooltipPlugin.prototype.constructor = HtmlTooltipPlugin;\n",
       "    HtmlTooltipPlugin.prototype.requiredProps = [\"id\"];\n",
       "    HtmlTooltipPlugin.prototype.defaultProps = {labels:null, hoffset:0, voffset:10};\n",
       "    function HtmlTooltipPlugin(fig, props){\n",
       "        mpld3.Plugin.call(this, fig, props);\n",
       "    };\n",
       "\n",
       "    HtmlTooltipPlugin.prototype.draw = function(){\n",
       "       var obj = mpld3.get_element(this.props.id);\n",
       "       var labels = this.props.labels;\n",
       "       var tooltip = d3.select(\"body\").append(\"div\")\n",
       "                    .attr(\"class\", \"mpld3-tooltip\")\n",
       "                    .style(\"position\", \"absolute\")\n",
       "                    .style(\"z-index\", \"10\")\n",
       "                    .style(\"visibility\", \"hidden\");\n",
       "\n",
       "       obj.elements()\n",
       "           .on(\"mouseover\", function(d, i){\n",
       "                              tooltip.html(labels[i])\n",
       "                                     .style(\"visibility\", \"visible\");})\n",
       "           .on(\"mousemove\", function(d, i){\n",
       "                    tooltip\n",
       "                      .style(\"top\", d3.event.pageY + this.props.voffset + \"px\")\n",
       "                      .style(\"left\",d3.event.pageX + this.props.hoffset + \"px\");\n",
       "                 }.bind(this))\n",
       "           .on(\"mouseout\",  function(d, i){\n",
       "                           tooltip.style(\"visibility\", \"hidden\");});\n",
       "    };\n",
       "    \n",
       "    mpld3.register_plugin(\"toptoolbar\", TopToolbar);\n",
       "    TopToolbar.prototype = Object.create(mpld3.Plugin.prototype);\n",
       "    TopToolbar.prototype.constructor = TopToolbar;\n",
       "    function TopToolbar(fig, props){\n",
       "        mpld3.Plugin.call(this, fig, props);\n",
       "    };\n",
       "\n",
       "    TopToolbar.prototype.draw = function(){\n",
       "      // the toolbar svg doesn't exist\n",
       "      // yet, so first draw it\n",
       "      this.fig.toolbar.draw();\n",
       "\n",
       "      // then change the y position to be\n",
       "      // at the top of the figure\n",
       "      this.fig.toolbar.toolbar.attr(\"x\", 150);\n",
       "      this.fig.toolbar.toolbar.attr(\"y\", 400);\n",
       "\n",
       "      // then remove the draw function,\n",
       "      // so that it is not called again\n",
       "      this.fig.toolbar.draw = function() {}\n",
       "    }\n",
       "    \n",
       "    mpld3.register_plugin(\"htmltooltip\", HtmlTooltipPlugin);\n",
       "    HtmlTooltipPlugin.prototype = Object.create(mpld3.Plugin.prototype);\n",
       "    HtmlTooltipPlugin.prototype.constructor = HtmlTooltipPlugin;\n",
       "    HtmlTooltipPlugin.prototype.requiredProps = [\"id\"];\n",
       "    HtmlTooltipPlugin.prototype.defaultProps = {labels:null, hoffset:0, voffset:10};\n",
       "    function HtmlTooltipPlugin(fig, props){\n",
       "        mpld3.Plugin.call(this, fig, props);\n",
       "    };\n",
       "\n",
       "    HtmlTooltipPlugin.prototype.draw = function(){\n",
       "       var obj = mpld3.get_element(this.props.id);\n",
       "       var labels = this.props.labels;\n",
       "       var tooltip = d3.select(\"body\").append(\"div\")\n",
       "                    .attr(\"class\", \"mpld3-tooltip\")\n",
       "                    .style(\"position\", \"absolute\")\n",
       "                    .style(\"z-index\", \"10\")\n",
       "                    .style(\"visibility\", \"hidden\");\n",
       "\n",
       "       obj.elements()\n",
       "           .on(\"mouseover\", function(d, i){\n",
       "                              tooltip.html(labels[i])\n",
       "                                     .style(\"visibility\", \"visible\");})\n",
       "           .on(\"mousemove\", function(d, i){\n",
       "                    tooltip\n",
       "                      .style(\"top\", d3.event.pageY + this.props.voffset + \"px\")\n",
       "                      .style(\"left\",d3.event.pageX + this.props.hoffset + \"px\");\n",
       "                 }.bind(this))\n",
       "           .on(\"mouseout\",  function(d, i){\n",
       "                           tooltip.style(\"visibility\", \"hidden\");});\n",
       "    };\n",
       "    \n",
       "    mpld3.register_plugin(\"toptoolbar\", TopToolbar);\n",
       "    TopToolbar.prototype = Object.create(mpld3.Plugin.prototype);\n",
       "    TopToolbar.prototype.constructor = TopToolbar;\n",
       "    function TopToolbar(fig, props){\n",
       "        mpld3.Plugin.call(this, fig, props);\n",
       "    };\n",
       "\n",
       "    TopToolbar.prototype.draw = function(){\n",
       "      // the toolbar svg doesn't exist\n",
       "      // yet, so first draw it\n",
       "      this.fig.toolbar.draw();\n",
       "\n",
       "      // then change the y position to be\n",
       "      // at the top of the figure\n",
       "      this.fig.toolbar.toolbar.attr(\"x\", 150);\n",
       "      this.fig.toolbar.toolbar.attr(\"y\", 400);\n",
       "\n",
       "      // then remove the draw function,\n",
       "      // so that it is not called again\n",
       "      this.fig.toolbar.draw = function() {}\n",
       "    }\n",
       "    \n",
       "                 mpld3.draw_figure(\"fig_el112971398984802829847189895216\", {\"plugins\": [{\"type\": \"reset\"}, {\"button\": true, \"type\": \"zoom\", \"enabled\": false}, {\"button\": true, \"type\": \"boxzoom\", \"enabled\": false}, {\"hoffset\": 10, \"labels\": [\"Schindler's List\", \"Gone with the Wind\", \"Lawrence of Arabia\", \"The Bridge on the River Kwai\", \"Dr. Strangelove or: How I Learned to Stop Worrying and Love the Bomb\", \"Apocalypse Now\", \"The Lord of the Rings: The Return of the King\", \"Gladiator\", \"From Here to Eternity\", \"Saving Private Ryan\", \"Raiders of the Lost Ark\", \"Ben-Hur\", \"Patton\", \"Braveheart\", \"Platoon\", \"Dances with Wolves\", \"All Quiet on the Western Front\", \"The African Queen\", \"Mutiny on the Bounty\"], \"voffset\": 10, \"type\": \"htmltooltip\", \"id\": \"el11297139898461947720pts\"}, {\"type\": \"toptoolbar\"}, {\"hoffset\": 10, \"labels\": [\"Titanic\", \"The Godfather: Part II\", \"Sunset Blvd.\", \"Amadeus\", \"The Good, the Bad and the Ugly\", \"It Happened One Night\", \"Midnight Cowboy\", \"Network\", \"Taxi Driver\", \"Yankee Doodle Dandy\"], \"voffset\": 10, \"type\": \"htmltooltip\", \"id\": \"el11297139898227631440pts\"}, {\"type\": \"toptoolbar\"}, {\"hoffset\": 10, \"labels\": [\"Raging Bull\", \"Citizen Kane\", \"Forrest Gump\", \"Singin' in the Rain\", \"Some Like It Hot\", \"Rocky\", \"A Streetcar Named Desire\", \"An American in Paris\", \"The Best Years of Our Lives\", \"My Fair Lady\", \"The Apartment\", \"City Lights\", \"Rain Man\", \"Annie Hall\", \"Out of Africa\", \"Good Will Hunting\", \"Terms of Endearment\", \"Tootsie\", \"Giant\", \"The Graduate\", \"Wuthering Heights\"], \"voffset\": 10, \"type\": \"htmltooltip\", \"id\": \"el11297139898493056616pts\"}, {\"type\": \"toptoolbar\"}, {\"hoffset\": 10, \"labels\": [\"The Godfather\", \"The Shawshank Redemption\", \"Casablanca\", \"One Flew Over the Cuckoo's Nest\", \"The Wizard of Oz\", \"Psycho\", \"Vertigo\", \"On the Waterfront\", \"The Sound of Music\", \"West Side Story\", \"Star Wars\", \"E.T. the Extra-Terrestrial\", \"2001: A Space Odyssey\", \"The Silence of the Lambs\", \"Chinatown\", \"12 Angry Men\", \"Gandhi\", \"Unforgiven\", \"To Kill a Mockingbird\", \"Doctor Zhivago\", \"Jaws\", \"Butch Cassidy and the Sundance Kid\", \"The Treasure of the Sierra Madre\", \"High Noon\", \"The Pianist\", \"Goodfellas\", \"The Exorcist\", \"The Deer Hunter\", \"The French Connection\", \"Mr. Smith Goes to Washington\", \"Fargo\", \"The Grapes of Wrath\", \"Shane\", \"The Green Mile\", \"Close Encounters of the Third Kind\", \"Nashville\", \"American Graffiti\", \"Pulp Fiction\", \"Stagecoach\", \"The Maltese Falcon\", \"A Clockwork Orange\", \"Double Indemnity\", \"Rebel Without a Cause\", \"Rear Window\", \"The Third Man\", \"North by Northwest\"], \"voffset\": 10, \"type\": \"htmltooltip\", \"id\": \"el11297139898456713200pts\"}, {\"type\": \"toptoolbar\"}, {\"hoffset\": 10, \"labels\": [\"It's a Wonderful Life\", \"The Philadelphia Story\", \"The King's Speech\", \"A Place in the Sun\"], \"voffset\": 10, \"type\": \"htmltooltip\", \"id\": \"el11297139898238035392pts\"}, {\"type\": \"toptoolbar\"}], \"height\": 480.0, \"id\": \"el11297139898480282984\", \"width\": 1120.0, \"axes\": [{\"lines\": [], \"zoomable\": true, \"paths\": [{\"alpha\": 1, \"facecolor\": \"#FFFFFF\", \"id\": \"el11297139898227631272\", \"dasharray\": \"10,0\", \"data\": \"data07\", \"edgecolor\": \"#000000\", \"coordinates\": \"axes\", \"xindex\": 0, \"yindex\": 1, \"zorder\": 1000001.0, \"edgewidth\": 1.0, \"pathcodes\": [\"M\", \"L\", \"L\", \"L\", \"Z\"]}], \"axes\": [{\"nticks\": 0, \"tickvalues\": [], \"fontsize\": null, \"grid\": {\"gridOn\": false}, \"tickformat\": \"\", \"position\": \"bottom\", \"scale\": \"linear\"}, {\"nticks\": 0, \"tickvalues\": [], \"fontsize\": null, \"grid\": {\"gridOn\": false}, \"tickformat\": \"\", \"position\": \"left\", \"scale\": \"linear\"}], \"id\": \"el11297139898239243544\", \"collections\": [], \"bbox\": [0.125, 0.125, 0.775, 0.775], \"images\": [], \"texts\": [{\"alpha\": 1, \"id\": \"el11297139898227754992\", \"zorder\": 1000003.0, \"rotation\": -0.0, \"coordinates\": \"axes\", \"h_anchor\": \"start\", \"position\": [-0.16129032258064516, -0.16129032258064518], \"v_baseline\": \"auto\", \"fontsize\": 10.0, \"color\": \"#000000\", \"text\": \"None\"}, {\"alpha\": 1, \"id\": \"el11297139898227692488\", \"zorder\": 1000003.0, \"rotation\": -0.0, \"coordinates\": \"axes\", \"h_anchor\": \"start\", \"position\": [0.7776857718894011, 0.9408602150537633], \"v_baseline\": \"auto\", \"fontsize\": 12.0, \"color\": \"#000000\", \"text\": \"Family, home, war\"}, {\"alpha\": 1, \"id\": \"el11297139898227695400\", \"zorder\": 1000003.0, \"rotation\": -0.0, \"coordinates\": \"axes\", \"h_anchor\": \"start\", \"position\": [0.7776857718894011, 0.8879928315412184], \"v_baseline\": \"auto\", \"fontsize\": 12.0, \"color\": \"#000000\", \"text\": \"Police, killed, murders\"}, {\"alpha\": 1, \"id\": \"el11297139898227714648\", \"zorder\": 1000003.0, \"rotation\": -0.0, \"coordinates\": \"axes\", \"h_anchor\": \"start\", \"position\": [0.7776857718894011, 0.8351254480286738], \"v_baseline\": \"auto\", \"fontsize\": 12.0, \"color\": \"#000000\", \"text\": \"Father, New York, brothers\"}, {\"alpha\": 1, \"id\": \"el11297139898227732664\", \"zorder\": 1000003.0, \"rotation\": -0.0, \"coordinates\": \"axes\", \"h_anchor\": \"start\", \"position\": [0.7776857718894011, 0.782258064516129], \"v_baseline\": \"auto\", \"fontsize\": 12.0, \"color\": \"#000000\", \"text\": \"Dance, singing, love\"}, {\"alpha\": 1, \"id\": \"el11297139898227735464\", \"zorder\": 1000003.0, \"rotation\": -0.0, \"coordinates\": \"axes\", \"h_anchor\": \"start\", \"position\": [0.7776857718894011, 0.7293906810035842], \"v_baseline\": \"auto\", \"fontsize\": 12.0, \"color\": \"#000000\", \"text\": \"Killed, soldiers, captain\"}], \"sharey\": [], \"ylim\": [-0.7081377832177825, 0.6939033427606786], \"xscale\": \"linear\", \"markers\": [{\"xindex\": 0, \"alpha\": 1, \"facecolor\": \"#1B9E77\", \"yindex\": 1, \"id\": \"el11297139898461947720pts\", \"edgecolor\": \"none\", \"markerpath\": [[[0.0, 9.0], [2.3868279, 9.0], [4.676218837063681, 8.051703224294176], [6.3639610306789285, 6.3639610306789285], [8.051703224294176, 4.676218837063681], [9.0, 2.3868279], [9.0, 0.0], [9.0, -2.3868279], [8.051703224294176, -4.676218837063681], [6.3639610306789285, -6.3639610306789285], [4.676218837063681, -8.051703224294176], [2.3868279, -9.0], [0.0, -9.0], [-2.3868279, -9.0], [-4.676218837063681, -8.051703224294176], [-6.3639610306789285, -6.3639610306789285], [-8.051703224294176, -4.676218837063681], [-9.0, -2.3868279], [-9.0, 0.0], [-9.0, 2.3868279], [-8.051703224294176, 4.676218837063681], [-6.3639610306789285, 6.3639610306789285], [-4.676218837063681, 8.051703224294176], [-2.3868279, 9.0], [0.0, 9.0]], [\"M\", \"C\", \"C\", \"C\", \"C\", \"C\", \"C\", \"C\", \"C\", \"Z\"]], \"data\": \"data01\", \"edgewidth\": 0.5, \"coordinates\": \"data\", \"zorder\": 2}, {\"xindex\": 0, \"alpha\": 1, \"facecolor\": \"#D95F02\", \"yindex\": 1, \"id\": \"el11297139898227631440pts\", \"edgecolor\": \"none\", \"markerpath\": [[[0.0, 9.0], [2.3868279, 9.0], [4.676218837063681, 8.051703224294176], [6.3639610306789285, 6.3639610306789285], [8.051703224294176, 4.676218837063681], [9.0, 2.3868279], [9.0, 0.0], [9.0, -2.3868279], [8.051703224294176, -4.676218837063681], [6.3639610306789285, -6.3639610306789285], [4.676218837063681, -8.051703224294176], [2.3868279, -9.0], [0.0, -9.0], [-2.3868279, -9.0], [-4.676218837063681, -8.051703224294176], [-6.3639610306789285, -6.3639610306789285], [-8.051703224294176, -4.676218837063681], [-9.0, -2.3868279], [-9.0, 0.0], [-9.0, 2.3868279], [-8.051703224294176, 4.676218837063681], [-6.3639610306789285, 6.3639610306789285], [-4.676218837063681, 8.051703224294176], [-2.3868279, 9.0], [0.0, 9.0]], [\"M\", \"C\", \"C\", \"C\", \"C\", \"C\", \"C\", \"C\", \"C\", \"Z\"]], \"data\": \"data02\", \"edgewidth\": 0.5, \"coordinates\": \"data\", \"zorder\": 2}, {\"xindex\": 0, \"alpha\": 1, \"facecolor\": \"#7570B3\", \"yindex\": 1, \"id\": \"el11297139898493056616pts\", \"edgecolor\": \"none\", \"markerpath\": [[[0.0, 9.0], [2.3868279, 9.0], [4.676218837063681, 8.051703224294176], [6.3639610306789285, 6.3639610306789285], [8.051703224294176, 4.676218837063681], [9.0, 2.3868279], [9.0, 0.0], [9.0, -2.3868279], [8.051703224294176, -4.676218837063681], [6.3639610306789285, -6.3639610306789285], [4.676218837063681, -8.051703224294176], [2.3868279, -9.0], [0.0, -9.0], [-2.3868279, -9.0], [-4.676218837063681, -8.051703224294176], [-6.3639610306789285, -6.3639610306789285], [-8.051703224294176, -4.676218837063681], [-9.0, -2.3868279], [-9.0, 0.0], [-9.0, 2.3868279], [-8.051703224294176, 4.676218837063681], [-6.3639610306789285, 6.3639610306789285], [-4.676218837063681, 8.051703224294176], [-2.3868279, 9.0], [0.0, 9.0]], [\"M\", \"C\", \"C\", \"C\", \"C\", \"C\", \"C\", \"C\", \"C\", \"Z\"]], \"data\": \"data03\", \"edgewidth\": 0.5, \"coordinates\": \"data\", \"zorder\": 2}, {\"xindex\": 0, \"alpha\": 1, \"facecolor\": \"#E7298A\", \"yindex\": 1, \"id\": \"el11297139898456713200pts\", \"edgecolor\": \"none\", \"markerpath\": [[[0.0, 9.0], [2.3868279, 9.0], [4.676218837063681, 8.051703224294176], [6.3639610306789285, 6.3639610306789285], [8.051703224294176, 4.676218837063681], [9.0, 2.3868279], [9.0, 0.0], [9.0, -2.3868279], [8.051703224294176, -4.676218837063681], [6.3639610306789285, -6.3639610306789285], [4.676218837063681, -8.051703224294176], [2.3868279, -9.0], [0.0, -9.0], [-2.3868279, -9.0], [-4.676218837063681, -8.051703224294176], [-6.3639610306789285, -6.3639610306789285], [-8.051703224294176, -4.676218837063681], [-9.0, -2.3868279], [-9.0, 0.0], [-9.0, 2.3868279], [-8.051703224294176, 4.676218837063681], [-6.3639610306789285, 6.3639610306789285], [-4.676218837063681, 8.051703224294176], [-2.3868279, 9.0], [0.0, 9.0]], [\"M\", \"C\", \"C\", \"C\", \"C\", \"C\", \"C\", \"C\", \"C\", \"Z\"]], \"data\": \"data04\", \"edgewidth\": 0.5, \"coordinates\": \"data\", \"zorder\": 2}, {\"xindex\": 0, \"alpha\": 1, \"facecolor\": \"#66A61E\", \"yindex\": 1, \"id\": \"el11297139898238035392pts\", \"edgecolor\": \"none\", \"markerpath\": [[[0.0, 9.0], [2.3868279, 9.0], [4.676218837063681, 8.051703224294176], [6.3639610306789285, 6.3639610306789285], [8.051703224294176, 4.676218837063681], [9.0, 2.3868279], [9.0, 0.0], [9.0, -2.3868279], [8.051703224294176, -4.676218837063681], [6.3639610306789285, -6.3639610306789285], [4.676218837063681, -8.051703224294176], [2.3868279, -9.0], [0.0, -9.0], [-2.3868279, -9.0], [-4.676218837063681, -8.051703224294176], [-6.3639610306789285, -6.3639610306789285], [-8.051703224294176, -4.676218837063681], [-9.0, -2.3868279], [-9.0, 0.0], [-9.0, 2.3868279], [-8.051703224294176, 4.676218837063681], [-6.3639610306789285, 6.3639610306789285], [-4.676218837063681, 8.051703224294176], [-2.3868279, 9.0], [0.0, 9.0]], [\"M\", \"C\", \"C\", \"C\", \"C\", \"C\", \"C\", \"C\", \"C\", \"Z\"]], \"data\": \"data05\", \"edgewidth\": 0.5, \"coordinates\": \"data\", \"zorder\": 2}, {\"xindex\": 0, \"alpha\": 1, \"facecolor\": \"#1B9E77\", \"yindex\": 1, \"id\": \"el11297139898227694056pts\", \"edgecolor\": \"none\", \"markerpath\": [[[0.0, 9.0], [2.3868279, 9.0], [4.676218837063681, 8.051703224294176], [6.3639610306789285, 6.3639610306789285], [8.051703224294176, 4.676218837063681], [9.0, 2.3868279], [9.0, 0.0], [9.0, -2.3868279], [8.051703224294176, -4.676218837063681], [6.3639610306789285, -6.3639610306789285], [4.676218837063681, -8.051703224294176], [2.3868279, -9.0], [0.0, -9.0], [-2.3868279, -9.0], [-4.676218837063681, -8.051703224294176], [-6.3639610306789285, -6.3639610306789285], [-8.051703224294176, -4.676218837063681], [-9.0, -2.3868279], [-9.0, 0.0], [-9.0, 2.3868279], [-8.051703224294176, 4.676218837063681], [-6.3639610306789285, 6.3639610306789285], [-4.676218837063681, 8.051703224294176], [-2.3868279, 9.0], [0.0, 9.0]], [\"M\", \"C\", \"C\", \"C\", \"C\", \"C\", \"C\", \"C\", \"C\", \"Z\"]], \"data\": \"data06\", \"edgewidth\": 0.5, \"coordinates\": \"axes\", \"zorder\": 1000002.0}, {\"xindex\": 0, \"alpha\": 1, \"facecolor\": \"#D95F02\", \"yindex\": 2, \"id\": \"el11297139898227713304pts\", \"edgecolor\": \"none\", \"markerpath\": [[[0.0, 9.0], [2.3868279, 9.0], [4.676218837063681, 8.051703224294176], [6.3639610306789285, 6.3639610306789285], [8.051703224294176, 4.676218837063681], [9.0, 2.3868279], [9.0, 0.0], [9.0, -2.3868279], [8.051703224294176, -4.676218837063681], [6.3639610306789285, -6.3639610306789285], [4.676218837063681, -8.051703224294176], [2.3868279, -9.0], [0.0, -9.0], [-2.3868279, -9.0], [-4.676218837063681, -8.051703224294176], [-6.3639610306789285, -6.3639610306789285], [-8.051703224294176, -4.676218837063681], [-9.0, -2.3868279], [-9.0, 0.0], [-9.0, 2.3868279], [-8.051703224294176, 4.676218837063681], [-6.3639610306789285, 6.3639610306789285], [-4.676218837063681, 8.051703224294176], [-2.3868279, 9.0], [0.0, 9.0]], [\"M\", \"C\", \"C\", \"C\", \"C\", \"C\", \"C\", \"C\", \"C\", \"Z\"]], \"data\": \"data06\", \"edgewidth\": 0.5, \"coordinates\": \"axes\", \"zorder\": 1000002.0}, {\"xindex\": 0, \"alpha\": 1, \"facecolor\": \"#7570B3\", \"yindex\": 3, \"id\": \"el11297139898227714928pts\", \"edgecolor\": \"none\", \"markerpath\": [[[0.0, 9.0], [2.3868279, 9.0], [4.676218837063681, 8.051703224294176], [6.3639610306789285, 6.3639610306789285], [8.051703224294176, 4.676218837063681], [9.0, 2.3868279], [9.0, 0.0], [9.0, -2.3868279], [8.051703224294176, -4.676218837063681], [6.3639610306789285, -6.3639610306789285], [4.676218837063681, -8.051703224294176], [2.3868279, -9.0], [0.0, -9.0], [-2.3868279, -9.0], [-4.676218837063681, -8.051703224294176], [-6.3639610306789285, -6.3639610306789285], [-8.051703224294176, -4.676218837063681], [-9.0, -2.3868279], [-9.0, 0.0], [-9.0, 2.3868279], [-8.051703224294176, 4.676218837063681], [-6.3639610306789285, 6.3639610306789285], [-4.676218837063681, 8.051703224294176], [-2.3868279, 9.0], [0.0, 9.0]], [\"M\", \"C\", \"C\", \"C\", \"C\", \"C\", \"C\", \"C\", \"C\", \"Z\"]], \"data\": \"data06\", \"edgewidth\": 0.5, \"coordinates\": \"axes\", \"zorder\": 1000002.0}, {\"xindex\": 0, \"alpha\": 1, \"facecolor\": \"#E7298A\", \"yindex\": 4, \"id\": \"el11297139898227734120pts\", \"edgecolor\": \"none\", \"markerpath\": [[[0.0, 9.0], [2.3868279, 9.0], [4.676218837063681, 8.051703224294176], [6.3639610306789285, 6.3639610306789285], [8.051703224294176, 4.676218837063681], [9.0, 2.3868279], [9.0, 0.0], [9.0, -2.3868279], [8.051703224294176, -4.676218837063681], [6.3639610306789285, -6.3639610306789285], [4.676218837063681, -8.051703224294176], [2.3868279, -9.0], [0.0, -9.0], [-2.3868279, -9.0], [-4.676218837063681, -8.051703224294176], [-6.3639610306789285, -6.3639610306789285], [-8.051703224294176, -4.676218837063681], [-9.0, -2.3868279], [-9.0, 0.0], [-9.0, 2.3868279], [-8.051703224294176, 4.676218837063681], [-6.3639610306789285, 6.3639610306789285], [-4.676218837063681, 8.051703224294176], [-2.3868279, 9.0], [0.0, 9.0]], [\"M\", \"C\", \"C\", \"C\", \"C\", \"C\", \"C\", \"C\", \"C\", \"Z\"]], \"data\": \"data06\", \"edgewidth\": 0.5, \"coordinates\": \"axes\", \"zorder\": 1000002.0}, {\"xindex\": 0, \"alpha\": 1, \"facecolor\": \"#66A61E\", \"yindex\": 5, \"id\": \"el11297139898227753368pts\", \"edgecolor\": \"none\", \"markerpath\": [[[0.0, 9.0], [2.3868279, 9.0], [4.676218837063681, 8.051703224294176], [6.3639610306789285, 6.3639610306789285], [8.051703224294176, 4.676218837063681], [9.0, 2.3868279], [9.0, 0.0], [9.0, -2.3868279], [8.051703224294176, -4.676218837063681], [6.3639610306789285, -6.3639610306789285], [4.676218837063681, -8.051703224294176], [2.3868279, -9.0], [0.0, -9.0], [-2.3868279, -9.0], [-4.676218837063681, -8.051703224294176], [-6.3639610306789285, -6.3639610306789285], [-8.051703224294176, -4.676218837063681], [-9.0, -2.3868279], [-9.0, 0.0], [-9.0, 2.3868279], [-8.051703224294176, 4.676218837063681], [-6.3639610306789285, 6.3639610306789285], [-4.676218837063681, 8.051703224294176], [-2.3868279, 9.0], [0.0, 9.0]], [\"M\", \"C\", \"C\", \"C\", \"C\", \"C\", \"C\", \"C\", \"C\", \"Z\"]], \"data\": \"data06\", \"edgewidth\": 0.5, \"coordinates\": \"axes\", \"zorder\": 1000002.0}], \"sharex\": [], \"xdomain\": [-0.7022243585349199, 0.7098185051203891], \"xlim\": [-0.7022243585349199, 0.7098185051203891], \"ydomain\": [-0.7081377832177825, 0.6939033427606786], \"axesbgalpha\": null, \"yscale\": \"linear\", \"axesbg\": \"#FFFFFF\"}], \"data\": {\"data04\": [[0.1842639196948847, -0.011698423371132152], [0.4420542765535735, -0.2786832170112155], [-0.258417253284027, -0.2652260221436388], [0.05785577310053593, 0.25692858718863093], [-0.43453170540719366, -0.29660613828269616], [-0.22762167926505814, 0.06857695283204854], [-0.3528182922735947, 0.12701319394680938], [-0.05335737382032607, 0.12312849271489654], [0.5525828106324346, 0.49022359259865306], [-0.48428094266733496, 0.17299840565537866], [0.19843470887949946, -0.3892802726823152], [-0.021733999952444738, -0.042720767809052894], [0.35007455070415944, -0.33949066390038307], [0.5177717200812387, -0.2536540302931725], [-0.5522759511779272, -0.22475587495166363], [0.5306515354145532, 0.1294497101088675], [0.43342020294859956, 0.14567841987345992], [-0.15297793113902683, -0.30140577453193457], [0.21420712139192538, 0.2183286793356958], [0.16075133608675513, -0.11942129559742261], [0.07966541763901362, -0.3889609926197951], [-0.34784460975136144, -0.3258414653409745], [-0.3608951277095703, -0.48195991352901957], [-0.6622608812616565, -0.20511076586859073], [0.15640009437168323, -0.21297986976225988], [0.20867878615651633, 0.06434284629527791], [0.18341909271393095, 0.3029016910056736], [-0.08782998361951912, -0.2007423698086272], [-0.4599154070542705, 0.007654714663857465], [0.6448617791922985, -0.15574388957552057], [-0.34166307376918104, 0.03630579254966726], [0.47591168977268594, -0.4358076517203701], [-0.5516219950653584, 0.3348728982305264], [-0.5674021212107925, -0.35376317678446884], [0.27514357721327537, -0.29426793132752815], [0.06195871862089496, 0.6100873144577459], [-0.6012495190001138, -0.04195024831025676], [-0.3415780134445779, -0.06842764695433033], [0.3244183710745198, -0.45650361180937427], [-0.33941629334547235, -0.15117828334141054], [-0.18745722681366755, 0.15085562479813835], [-0.46600115683767945, -0.09932904605351045], [-0.5791581543162552, 0.29025774220332035], [-0.581074334873682, 0.10578299005618616], [-0.2083933734933721, -0.058574052865909366], [-0.1995916680206842, 0.0064165474101231254]], \"data02\": [[0.6037636767904756, -0.34565548304904037], [0.07160786733633107, 0.13140355942960508], [-0.4301012825198393, 0.2854141396127525], [0.41546634085583234, 0.4069688257035027], [-0.06989475411532176, 0.569705539011805], [-0.4208318237068076, 0.46280088153288335], [-0.30315863958813255, 0.4758732388739999], [0.6688326628289069, -0.08783277088604606], [-0.552165502285474, 0.028845815397586044], [0.6272943977307884, 0.3595046830327616]], \"data07\": [[0.7285306259600616, 0.7069892473118278], [0.9923195084485409, 0.7069892473118278], [0.9923195084485409, 0.9820788530465947], [0.7285306259600616, 0.9820788530465947]], \"data01\": [[-0.031704356749774315, -0.45668597931827065], [0.05839869253028608, -0.04611702740890181], [-0.25091001948814, -0.5748364190982864], [-0.08237740002772587, -0.5784292658683906], [-0.016290419113439557, -0.6355726160881316], [0.019734051171252757, -0.6360367105738866], [0.2438433076495576, -0.5041202087221548], [0.08014906600330879, -0.4799020818182777], [-0.15255045823070493, -0.3408753845517839], [-0.020081825875353215, -0.35718794655762914], [-0.22758349812136536, -0.45047495075469096], [0.34423528399454734, -0.13020602386402164], [0.12888676337410168, -0.668457373991977], [0.4928761771808502, -0.1411107487904908], [-0.11265730034344344, -0.4993121670686306], [0.1827109977144634, -0.5787464521608237], [-0.18336929431804472, -0.5551182889814734], [-0.45337586370615407, -0.44518883037029683], [0.33505791724913486, -0.6458208127368436]], \"data05\": [[0.4192021972350015, 0.5854520485169515], [0.6698550278471257, 0.11893281852637148], [0.40204400902943815, 0.498701667453783], [0.6677627104186503, 0.26949909097813]], \"data03\": [[-0.1322921736434466, 0.5745109123612222], [0.011870129083831693, 0.4624853574054067], [0.3547936331378034, 0.008290710365072116], [-0.34160570270008384, 0.6344808506574434], [-0.17104806655713084, 0.23239528561346245], [-0.28462977611146373, 0.2756306109086089], [0.3432853030249946, 0.246006709745588], [-0.2037332777288499, 0.5597834903655693], [0.31816539769255964, 0.08775294364571601], [-0.19659297207639648, 0.3957261088660333], [-0.5962637921066579, 0.19021678812015821], [0.5656255199388547, 0.34237017859020485], [-0.18148082579748032, 0.4766013154583243], [-0.02882418924007409, 0.654222933534873], [0.12096767900038803, 0.4812637440714905], [0.12587206202926585, 0.4177788692597201], [0.220078542503727, 0.4800518402232757], [-0.02227777502359704, 0.33877773486584417], [0.4819436407032279, 0.008023079596038808], [-0.3243215990367419, 0.3312982383148728], [0.18464212048810344, 0.5791967329426072]], \"data06\": [[0.7500360023041476, 0.9534050179211467, 0.9005376344086019, 0.8476702508960573, 0.7948028673835125, 0.7419354838709676]]}});\n",
       "            })\n",
       "         });\n",
       "}\n",
       "</script>"
      ],
      "text/plain": [
       "<IPython.core.display.HTML object>"
      ]
     },
     "execution_count": 46,
     "metadata": {},
     "output_type": "execute_result"
    }
   ],
   "source": [
    "#create data frame that has the result of the MDS plus the cluster numbers and titles\n",
    "df = pd.DataFrame(dict(x=xs, y=ys, label=clusters, title=titles)) \n",
    "\n",
    "#group by cluster\n",
    "groups = df.groupby('label')\n",
    "\n",
    "#define custom css to format the font and to remove the axis labeling\n",
    "css = \"\"\"\n",
    "text.mpld3-text, div.mpld3-tooltip {\n",
    "  font-family:Arial, Helvetica, sans-serif;\n",
    "}\n",
    "\n",
    "g.mpld3-xaxis, g.mpld3-yaxis {\n",
    "display: none; }\n",
    "\"\"\"\n",
    "\n",
    "# Plot \n",
    "fig, ax = plt.subplots(figsize=(14,6)) #set plot size\n",
    "ax.margins(0.03) # Optional, just adds 5% padding to the autoscaling\n",
    "\n",
    "#iterate through groups to layer the plot\n",
    "#note that I use the cluster_name and cluster_color dicts with the 'name' lookup to return the appropriate color/label\n",
    "for name, group in groups:\n",
    "    points = ax.plot(group.x, group.y, marker='o', linestyle='', ms=18, label=cluster_names[name], mec='none', color=cluster_colors[name])\n",
    "    ax.set_aspect('auto')\n",
    "    labels = [i for i in group.title]\n",
    "    \n",
    "    #set tooltip using points, labels and the already defined 'css'\n",
    "    tooltip = mpld3.plugins.PointHTMLTooltip(points[0], labels,\n",
    "                                       voffset=10, hoffset=10, css=css)\n",
    "    #connect tooltip to fig\n",
    "    mpld3.plugins.connect(fig, tooltip, TopToolbar())    \n",
    "    \n",
    "    #set tick marks as blank\n",
    "    ax.axes.get_xaxis().set_ticks([])\n",
    "    ax.axes.get_yaxis().set_ticks([])\n",
    "    \n",
    "    #set axis as blank\n",
    "    ax.axes.get_xaxis().set_visible(False)\n",
    "    ax.axes.get_yaxis().set_visible(False)\n",
    "\n",
    "    \n",
    "ax.legend(numpoints=1) #show legend with only one dot\n",
    "\n",
    "mpld3.display() #show the plot"
   ]
  },
  {
   "cell_type": "code",
   "execution_count": 47,
   "metadata": {
    "collapsed": true
   },
   "outputs": [],
   "source": [
    "#uncomment the below to export to html\n",
    "#os.chdir(outputs)\n",
    "#html = mpld3.fig_to_html(fig)\n",
    "#print(html)"
   ]
  },
  {
   "cell_type": "markdown",
   "metadata": {},
   "source": [
    "### Hierarchical document clustering"
   ]
  },
  {
   "cell_type": "code",
   "execution_count": 33,
   "metadata": {
    "collapsed": false
   },
   "outputs": [
    {
     "data": {
      "image/png": "[encoded data removed]",
      "text/plain": [
       "<matplotlib.figure.Figure at 0x7f3cabb66be0>"
      ]
     },
     "metadata": {},
     "output_type": "display_data"
    }
   ],
   "source": [
    "from scipy.cluster.hierarchy import ward, dendrogram\n",
    "\n",
    "linkage_matrix = ward(dist) #define the linkage_matrix using ward clustering pre-computed distances\n",
    "\n",
    "fig, ax = plt.subplots(figsize=(15, 20)) # set size\n",
    "ax = dendrogram(linkage_matrix, orientation=\"right\", labels=titles);\n",
    "\n",
    "plt.tick_params(\\\n",
    "    axis= 'x',          # changes apply to the x-axis\n",
    "    which='both',      # both major and minor ticks are affected\n",
    "    bottom='off',      # ticks along the bottom edge are off\n",
    "    top='off',         # ticks along the top edge are off\n",
    "    labelbottom='off')\n",
    "\n",
    "plt.tight_layout() #show plot with tight layout\n",
    "plt.savefig(os.path.join(outputs,'ward_clusters.png'), dpi=200)"
   ]
  },
  {
   "cell_type": "markdown",
   "metadata": {},
   "source": [
    "### Latent Dirichlet Allocation"
   ]
  },
  {
   "cell_type": "code",
   "execution_count": 34,
   "metadata": {
    "collapsed": false
   },
   "outputs": [],
   "source": [
    "#strip any proper names from a text...unfortunately right now this is yanking the first word from a sentence too.\n",
    "import string\n",
    "def strip_proppers(text):\n",
    "    # first tokenize by sentence, then by word to ensure that punctuation is caught as it's own token\n",
    "    tokens = [word for sent in nltk.sent_tokenize(text) for word in nltk.word_tokenize(sent) if word.islower()]\n",
    "    return \"\".join([\" \"+i if not i.startswith(\"'\") and i not in string.punctuation else i for i in tokens]).strip()"
   ]
  },
  {
   "cell_type": "code",
   "execution_count": 35,
   "metadata": {
    "collapsed": false
   },
   "outputs": [],
   "source": [
    "#strip any proper nouns (NNP) or plural proper nouns (NNPS) from a text\n",
    "from nltk.tag import pos_tag\n",
    "\n",
    "def strip_proppers_POS(text):\n",
    "    tagged = pos_tag(text.split()) #use NLTK's part of speech tagger\n",
    "    non_propernouns = [word for word,pos in tagged if pos != 'NNP' and pos != 'NNPS']\n",
    "    return non_propernouns"
   ]
  },
  {
   "cell_type": "code",
   "execution_count": 36,
   "metadata": {
    "collapsed": false
   },
   "outputs": [
    {
     "name": "stderr",
     "output_type": "stream",
     "text": [
      "/usr/local/lib/python3.5/dist-packages/theano/configparser.py:81: DeprecationWarning: The SafeConfigParser class has been renamed to ConfigParser in Python 3.2. This alias will be removed in future versions. Use ConfigParser directly instead.\n",
      "  'PID': str(os.getpid()),\n",
      "/usr/local/lib/python3.5/dist-packages/numpy/lib/utils.py:99: DeprecationWarning: `scipy.sparse.sparsetools` is deprecated!\n",
      "scipy.sparse.sparsetools is a private module for scipy.sparse, and should not be used.\n",
      "  warnings.warn(depdoc, DeprecationWarning)\n"
     ]
    },
    {
     "name": "stdout",
     "output_type": "stream",
     "text": [
      "CPU times: user 27.5 s, sys: 344 ms, total: 27.8 s\n",
      "Wall time: 28.9 s\n",
      "CPU times: user 2.42 s, sys: 4 ms, total: 2.42 s\n",
      "Wall time: 2.51 s\n"
     ]
    }
   ],
   "source": [
    "#Latent Dirichlet Allocation implementation with Gensim\n",
    "from gensim import corpora, models, similarities \n",
    "\n",
    "#remove proper names\n",
    "preprocess = [strip_proppers(doc) for doc in synopses]\n",
    "\n",
    "%time tokenized_text = [tokenize_and_stem(text) for text in preprocess]\n",
    "%time texts = [[word for word in text if word not in stopwords] for text in tokenized_text]"
   ]
  },
  {
   "cell_type": "code",
   "execution_count": 37,
   "metadata": {
    "collapsed": false
   },
   "outputs": [
    {
     "name": "stdout",
     "output_type": "stream",
     "text": [
      "1839\n"
     ]
    }
   ],
   "source": [
    "#print(len([word for word in texts[0] if word not in stopwords]))\n",
    "print(len(texts[0]))"
   ]
  },
  {
   "cell_type": "code",
   "execution_count": 38,
   "metadata": {
    "collapsed": false
   },
   "outputs": [],
   "source": [
    "dictionary = corpora.Dictionary(texts)\n",
    "dictionary.filter_extremes(no_below=1, no_above=0.8)\n",
    "corpus = [dictionary.doc2bow(text) for text in texts]"
   ]
  },
  {
   "cell_type": "code",
   "execution_count": 39,
   "metadata": {
    "collapsed": false
   },
   "outputs": [
    {
     "data": {
      "text/plain": [
       "100"
      ]
     },
     "execution_count": 39,
     "metadata": {},
     "output_type": "execute_result"
    }
   ],
   "source": [
    "len(corpus)"
   ]
  },
  {
   "cell_type": "code",
   "execution_count": 40,
   "metadata": {
    "collapsed": false
   },
   "outputs": [
    {
     "name": "stdout",
     "output_type": "stream",
     "text": [
      "CPU times: user 23min, sys: 17.1 s, total: 23min 17s\n",
      "Wall time: 23min 30s\n"
     ]
    }
   ],
   "source": [
    "%time lda = models.LdaModel(corpus, num_topics=5, id2word=dictionary, update_every=5, chunksize=10000, passes=100)"
   ]
  },
  {
   "cell_type": "code",
   "execution_count": 41,
   "metadata": {
    "collapsed": false
   },
   "outputs": [
    {
     "name": "stdout",
     "output_type": "stream",
     "text": [
      "[(1, 0.42597290377271513), (2, 0.57365558912046277)]\n"
     ]
    }
   ],
   "source": [
    "print(lda[corpus[0]])"
   ]
  },
  {
   "cell_type": "code",
   "execution_count": 42,
   "metadata": {
    "collapsed": false
   },
   "outputs": [],
   "source": [
    "topics = lda.print_topics(5, num_words=20)"
   ]
  },
  {
   "cell_type": "code",
   "execution_count": 43,
   "metadata": {
    "collapsed": false
   },
   "outputs": [],
   "source": [
    "topics_matrix = lda.show_topics(formatted=False, num_words=20)"
   ]
  },
  {
   "cell_type": "code",
   "execution_count": 44,
   "metadata": {
    "collapsed": false
   },
   "outputs": [
    {
     "data": {
      "text/plain": [
       "(0,\n",
       " [('home', 0.0057214965346735437),\n",
       "  ('friend', 0.0048545651146044222),\n",
       "  ('kill', 0.0046410549631195445),\n",
       "  ('two', 0.0044020185752961368),\n",
       "  ('go', 0.0042925982557375482),\n",
       "  ('marri', 0.0036522151292332893),\n",
       "  ('men', 0.0036031291995730842),\n",
       "  ('night', 0.0035724652796873813),\n",
       "  ('first', 0.0034658286382373876),\n",
       "  ('ask', 0.0033660569896245595),\n",
       "  ('becom', 0.0033518191809819528),\n",
       "  ('mother', 0.0032426445227297417),\n",
       "  ('shoot', 0.0031735854691682551),\n",
       "  ('run', 0.0031605238560958762),\n",
       "  ('gun', 0.0031451710590575379),\n",
       "  ('say', 0.0030884328629909277),\n",
       "  ('father', 0.0030814206064686891),\n",
       "  ('want', 0.0030652458121942627),\n",
       "  (\"n't\", 0.0030172952849348545),\n",
       "  ('town', 0.003006609858527594)])"
      ]
     },
     "execution_count": 44,
     "metadata": {},
     "output_type": "execute_result"
    }
   ],
   "source": [
    "topics_matrix[0]"
   ]
  },
  {
   "cell_type": "code",
   "execution_count": 45,
   "metadata": {
    "collapsed": false
   },
   "outputs": [
    {
     "data": {
      "text/html": [
       "\n",
       "<link rel=\"stylesheet\" type=\"text/css\" href=\"https://cdn.rawgit.com/bmabey/pyLDAvis/files/ldavis.v1.0.0.css\">\n",
       "\n",
       "\n",
       "<div id=\"ldavis_el112971398984814426323479028016\"></div>\n",
       "<script type=\"text/javascript\">\n",
       "\n",
       "var ldavis_el112971398984814426323479028016_data = {\"mdsDat\": {\"cluster\": [1, 1, 1, 1, 1], \"x\": [-0.019557226801425506, 0.012199969893625253, -0.03486367312965666, -0.060858488641711846, 0.1030794186791688], \"y\": [0.03612547694977885, -0.1051055980171521, 0.04889983007233285, -0.009904739380131564, 0.02998503037517196], \"Freq\": [39.41291361668854, 17.631620548930737, 16.307812236863395, 14.32273249666372, 12.324921100853595], \"topics\": [1, 2, 3, 4, 5]}, \"plot.opts\": {\"ylab\": \"PC2\", \"xlab\": \"PC1\"}, \"R\": 30, \"topic.order\": [2, 4, 1, 3, 5], \"lambda.step\": 0.01, \"tinfo\": {\"loglift\": [30.0, 29.0, 28.0, 27.0, 26.0, 25.0, 24.0, 23.0, 22.0, 21.0, 20.0, 19.0, 18.0, 17.0, 16.0, 15.0, 14.0, 13.0, 12.0, 11.0, 10.0, 9.0, 8.0, 7.0, 6.0, 5.0, 4.0, 3.0, 2.0, 1.0, 0.9063, 0.9026, 0.9004, 0.8896, 0.888, 0.8857, 0.8855, 0.8827, 0.8826, 0.8794, 0.8792, 0.8756, 0.8756, 0.8756, 0.8756, 0.8756, 0.8754, 0.8712, 0.8712, 0.8712, 0.8709, 0.8666, 0.8661, 0.8661, 0.8661, 0.8661, 0.8661, 0.8661, 0.866, 0.8658, 0.8373, 0.6928, 0.6916, 0.8075, 0.6712, 0.8223, 0.8273, 0.8367, 0.6104, 0.7868, 0.8134, 0.7689, 0.752, 0.4875, 0.4418, 0.6656, 0.4049, 0.4807, 0.3664, 0.547, 0.4728, 0.6281, 0.3793, 0.4407, 0.4159, 0.6774, 0.5456, 0.2575, 0.3496, 0.3505, 0.2626, 0.2139, 0.2499, 0.2809, 0.3204, 0.2663, 0.221, 0.2394, 0.3409, 0.358, 0.2195, 0.1619, 0.1115, 0.2058, -0.0559, 0.1026, 0.2125, 0.0917, -0.0465, -0.1025, 1.7141, 1.7084, 1.7074, 1.704, 1.7027, 1.6983, 1.6945, 1.684, 1.6757, 1.6742, 1.6718, 1.6663, 1.6663, 1.6597, 1.6597, 1.6597, 1.6596, 1.655, 1.6518, 1.6515, 1.6514, 1.6494, 1.6421, 1.6421, 1.6421, 1.6421, 1.6421, 1.6421, 1.6421, 1.6421, 1.6115, 1.5897, 1.576, 1.5632, 1.6034, 1.4122, 1.5327, 1.4159, 1.334, 1.4597, 1.4867, 1.2446, 1.1482, 1.4324, 1.4635, 1.3339, 0.8107, 1.446, 1.0287, 0.9723, 0.9095, 0.6542, 0.3928, 0.0891, 0.4652, 0.2832, 0.3176, 0.0867, 0.4227, 0.0367, 0.3159, 0.2691, 0.3778, 0.2183, 0.2183, -0.0021, -0.0707, 0.0742, 0.0944, 0.1403, -0.2329, -0.3389, -0.1156, -0.0864, -0.0204, 1.7545, 1.7545, 1.7443, 1.7439, 1.7377, 1.7377, 1.7376, 1.7374, 1.7298, 1.7298, 1.7298, 1.7288, 1.7201, 1.7201, 1.7201, 1.7201, 1.7069, 1.6983, 1.6917, 1.6917, 1.6917, 1.6917, 1.6917, 1.6917, 1.6916, 1.6914, 1.6908, 1.6905, 1.6699, 1.6699, 1.6653, 1.6591, 1.6321, 1.583, 1.6143, 1.6425, 1.3345, 1.5435, 1.6101, 1.4719, 1.3948, 1.2026, 1.3788, 1.2659, 1.5063, 1.1265, 1.2871, 1.4081, 0.7911, 0.5035, 0.9873, 0.7525, 0.7078, 0.6915, 0.3377, 1.0562, 0.7486, 0.5137, 0.2764, 0.22, 0.353, 0.2799, 0.3029, 0.797, 0.1818, -0.0888, 0.5793, 0.206, 0.1404, 0.4868, 0.1193, 0.7222, 0.201, -0.1159, 0.2371, -0.0562, -0.0763, 0.176, -0.0947, -0.0359, 0.1096, 0.0063, 0.0272, 0.0204, -0.2626, 1.9171, 1.9036, 1.9036, 1.8832, 1.8729, 1.8714, 1.8662, 1.8582, 1.8582, 1.8483, 1.8483, 1.8483, 1.8483, 1.8482, 1.8358, 1.8358, 1.8358, 1.8358, 1.8358, 1.8358, 1.8202, 1.8195, 1.8195, 1.8195, 1.8195, 1.8195, 1.8195, 1.8195, 1.8194, 1.8194, 1.8051, 1.7839, 1.7782, 1.652, 1.4672, 1.6769, 1.1591, 1.5569, 1.6477, 1.0909, 1.1074, 1.4824, 1.6567, 1.6261, 1.3586, 1.2673, 1.2842, 1.1802, 1.5193, 0.8907, 1.3756, 1.2384, 0.5648, 0.6613, 0.5212, 0.6158, 0.883, 0.0753, 0.8416, 0.5246, 0.6439, 0.8088, 0.0607, 0.1397, 0.4246, 0.1894, -0.1378, 0.2456, 0.1264, 0.0772, 0.2102, -0.0317, -0.1527, 0.0054, 0.0729, -0.2332, 0.1509, -0.2446, -0.3919, -0.3374, 2.0674, 2.0612, 2.0405, 2.0369, 2.0279, 2.0279, 1.9974, 1.9974, 1.9974, 1.9974, 1.9847, 1.9847, 1.9847, 1.9847, 1.9847, 1.9682, 1.9682, 1.9682, 1.9682, 1.9682, 1.9682, 1.9682, 1.9544, 1.9483, 1.9458, 1.9458, 1.9458, 1.9458, 1.9458, 1.9458, 1.9182, 1.9102, 1.9278, 1.8812, 1.9222, 1.8491, 1.8021, 1.7702, 1.7488, 1.8446, 1.8658, 1.8827, 1.9114, 1.8282, 1.8648, 1.6738, 1.9052, 1.1508, 1.515, 1.6303, 1.2054, 1.3957, 1.1586, 1.3809, 1.138, 1.6938, 0.8787, 0.8468, 0.4297, 0.9685, 0.8885, 0.0602, 0.1014, 0.2192, 0.1466, 0.0354, 0.0736, 0.0796, 0.5408, 0.0451, 0.2817, 0.2632, -0.1238, 0.0547, 0.0892, 0.3255, 0.2267, -0.0351, -0.0532, -0.3268, 0.0125], \"Term\": [\"famili\", \"shark\", \"soldier\", \"boat\", \"bridg\", \"vote\", \"son\", \"guilti\", \"marri\", \"command\", \"offic\", \"water\", \"parent\", \"ship\", \"patient\", \"camp\", \"kill\", \"order\", \"sing\", \"home\", \"polic\", \"hospit\", \"tribe\", \"perform\", \"men\", \"die\", \"affair\", \"juror\", \"platoon\", \"pod\", \"art\", \"expens\", \"warden\", \"porter\", \"lawyer\", \"mous\", \"parol\", \"costum\", \"convict\", \"reservoir\", \"auction\", \"penicillin\", \"landlord\", \"borrow\", \"launder\", \"union\", \"ran\", \"sewer\", \"obituari\", \"newsreel\", \"implor\", \"script\", \"passport\", \"burglari\", \"packag\", \"priceless\", \"poster\", \"waterfront\", \"tax\", \"extort\", \"detect\", \"car\", \"murder\", \"mansion\", \"apart\", \"blond\", \"policeman\", \"written\", \"polic\", \"priest\", \"insur\", \"inmat\", \"testifi\", \"love\", \"meet\", \"ring\", \"say\", \"money\", \"ask\", \"girl\", \"talk\", \"confess\", \"work\", \"walk\", \"woman\", \"newspap\", \"demand\", \"n't\", \"film\", \"know\", \"come\", \"go\", \"call\", \"goe\", \"death\", \"want\", \"night\", \"father\", \"drive\", \"anoth\", \"doe\", \"day\", \"friend\", \"away\", \"kill\", \"arriv\", \"also\", \"run\", \"two\", \"home\", \"pod\", \"droid\", \"comput\", \"briefcas\", \"trooper\", \"monolith\", \"ghetto\", \"nuclear\", \"planet\", \"bridg\", \"spaceship\", \"moon\", \"ape\", \"lightsab\", \"commando\", \"mule\", \"hideout\", \"code\", \"wolf\", \"tan\", \"kidnapp\", \"aircraft\", \"stormtroop\", \"epidem\", \"precious\", \"doomsday\", \"bodili\", \"fluid\", \"outpost\", \"buffalo\", \"tribe\", \"space\", \"poss\", \"ransom\", \"warrior\", \"mission\", \"bay\", \"alien\", \"bank\", \"communic\", \"angel\", \"destroy\", \"ship\", \"target\", \"motel\", \"bomb\", \"offic\", \"deton\", \"camp\", \"save\", \"command\", \"fire\", \"order\", \"kill\", \"use\", \"men\", \"help\", \"home\", \"learn\", \"two\", \"decid\", \"die\", \"soldier\", \"life\", \"attempt\", \"day\", \"arriv\", \"first\", \"work\", \"hous\", \"friend\", \"ask\", \"call\", \"run\", \"goe\", \"roulett\", \"witch\", \"deer\", \"neglect\", \"media\", \"nerv\", \"millionair\", \"pimp\", \"stockad\", \"stammer\", \"accent\", \"grandmoth\", \"castl\", \"elocut\", \"bouncer\", \"biograph\", \"101st\", \"rate\", \"phonet\", \"acced\", \"syphili\", \"chicken\", \"mothership\", \"tryst\", \"saxophon\", \"regiment\", \"joint\", \"gentlemen\", \"tornado\", \"broomstick\", \"marshal\", \"plantat\", \"cowboy\", \"saloon\", \"farmhand\", \"stagecoach\", \"parent\", \"yacht\", \"reconcili\", \"gunfight\", \"prostitut\", \"affair\", \"band\", \"speech\", \"whiskey\", \"wed\", \"squad\", \"bullet\", \"marri\", \"home\", \"marriag\", \"gun\", \"mother\", \"town\", \"friend\", \"fli\", \"three\", \"shoot\", \"two\", \"go\", \"becom\", \"men\", \"first\", \"good\", \"night\", \"kill\", \"move\", \"want\", \"run\", \"shot\", \"father\", \"relationship\", \"polic\", \"ask\", \"wife\", \"say\", \"n't\", \"hous\", \"arriv\", \"famili\", \"fight\", \"doe\", \"love\", \"goe\", \"meet\", \"gladiat\", \"droog\", \"exorc\", \"emperor\", \"scuba\", \"shark\", \"palant\\u00edr\", \"harpoon\", \"hull\", \"ai\", \"migrant\", \"abbey\", \"sinner\", \"9th\", \"estuari\", \"tooth\", \"tourist\", \"hobbit\", \"afterlif\", \"graft\", \"expel\", \"raft\", \"chum\", \"provinc\", \"crucifi\", \"stoog\", \"gover\", \"boiler\", \"auditorium\", \"chaplain\", \"torpedo\", \"ranch\", \"barrel\", \"oil\", \"boat\", \"senat\", \"famili\", \"sink\", \"sword\", \"son\", \"water\", \"fish\", \"reform\", \"bill\", \"captain\", \"river\", \"beach\", \"armi\", \"safeti\", \"children\", \"swim\", \"collaps\", \"die\", \"attack\", \"fight\", \"year\", \"camp\", \"kill\", \"land\", \"marri\", \"remain\", \"daughter\", \"two\", \"come\", \"brother\", \"way\", \"home\", \"live\", \"later\", \"becom\", \"discov\", \"father\", \"arriv\", \"order\", \"name\", \"meet\", \"death\", \"n't\", \"ask\", \"friend\", \"juror\", \"headpiec\", \"shrimp\", \"choir\", \"verdict\", \"lifeboat\", \"unanim\", \"quid\", \"quo\", \"foxhol\", \"courthous\", \"excess\", \"lamb\", \"archaeologist\", \"breadfruit\", \"gospel\", \"hydrotherapi\", \"concis\", \"iceberg\", \"indio\", \"chart\", \"feather\", \"vote\", \"fundrais\", \"rub\", \"moth\", \"sphinx\", \"conqueror\", \"boobi\", \"ping\", \"ward\", \"necklac\", \"slum\", \"platoon\", \"shorter\", \"bandit\", \"gold\", \"patient\", \"guilti\", \"juri\", \"gala\", \"boot\", \"skin\", \"ancient\", \"footbal\", \"trench\", \"violin\", \"soldier\", \"team\", \"recruit\", \"sing\", \"enemi\", \"hospit\", \"song\", \"perform\", \"concert\", \"command\", \"wound\", \"order\", \"boy\", \"group\", \"kill\", \"go\", \"men\", \"day\", \"arriv\", \"night\", \"call\", \"appear\", \"run\", \"discov\", \"escap\", \"n't\", \"first\", \"becom\", \"room\", \"show\", \"doe\", \"away\", \"friend\", \"name\"], \"Total\": [339.0, 108.0, 196.0, 111.0, 61.0, 54.0, 166.0, 52.0, 193.0, 127.0, 269.0, 141.0, 81.0, 133.0, 47.0, 98.0, 594.0, 297.0, 104.0, 404.0, 261.0, 105.0, 48.0, 89.0, 318.0, 247.0, 81.0, 28.0, 37.0, 35.0, 30.03402531972143, 26.152612761105427, 24.212123011687122, 40.659450148471514, 17.4196692186658, 16.449566835919477, 16.44942763333581, 15.479200679797428, 15.479131458274344, 14.50890043346737, 14.508686167679757, 13.53856722684916, 13.538567226000644, 13.5385672184084, 13.538567215448031, 13.538567178248833, 13.538378482528813, 12.568234014704142, 12.568234008747043, 12.568234006167902, 12.567948560007695, 26.08168231757113, 11.597900803446755, 11.597900801977469, 11.597900797441154, 11.597900794442076, 11.597900793328183, 11.597900760124256, 11.597847677689588, 11.597757107137946, 38.59818248512881, 308.644535209502, 229.4547736987599, 31.816839906603867, 209.77473618778896, 23.12947475612843, 21.228936420882764, 18.34122854629636, 261.8315316107435, 30.772977942270863, 23.14465069816846, 35.61434430705169, 37.36953190460589, 287.709686434041, 396.2356148950385, 62.23737233304252, 382.603869806898, 216.928869734533, 442.62282878566884, 124.53220021691268, 194.57776700042473, 68.7034183419621, 276.42016840653145, 178.28085870681582, 199.35947068586182, 48.78597042251158, 93.25196871857783, 381.35596613264397, 241.6972100398017, 227.7523150468888, 329.6251549858265, 403.4192323657285, 336.9960056339428, 289.80291247249613, 241.26239423381566, 292.14976348198377, 348.8101762401479, 320.26245390771464, 211.80181375893955, 191.85045640692925, 297.3394709510311, 354.8847627070629, 405.5985548848086, 302.6845674058758, 594.0000602759246, 377.8189874987719, 286.95193644625317, 321.6323547933286, 391.03660870201463, 404.9711565730057, 35.033807578665154, 27.658764964415436, 26.73688463670419, 23.971333229130547, 23.0495135219398, 20.28372234800167, 18.439961739954377, 14.752440386741878, 26.73639694518237, 61.87566931318738, 11.986799406095042, 11.064919079202586, 11.064919078794876, 10.143038752389296, 10.143038752043388, 10.143038751067857, 10.1431057901017, 21.18283886810823, 9.221158424801413, 9.221314677457944, 9.221336080776299, 20.28316560719886, 8.299278098564889, 8.299278098103935, 8.299278098172493, 8.299278098293286, 8.29927809816995, 8.2992780982371, 8.29927809788172, 8.299278097776044, 48.83119941797233, 32.30224812680547, 17.516977572513703, 17.62034212648828, 12.024146715400134, 63.75937409753454, 19.410134841919113, 46.089245190744144, 62.875174942868014, 29.492144076957178, 24.858951204391907, 84.74335610269027, 133.0094874217281, 29.536568399567326, 25.15529711589321, 41.57277787711325, 269.03879448677185, 24.874777382597518, 98.3149481663861, 112.52275282628278, 127.9909345449709, 161.8431344356576, 297.2781223930052, 594.0000602759246, 223.06673339839082, 318.9421355328672, 275.70177649975346, 404.9711565730057, 200.34597343254055, 391.03660870201463, 230.08707162980397, 247.02257138292606, 196.39909661017163, 252.32386833431107, 251.9727845556771, 354.8847627070629, 377.8189874987719, 299.8159883002603, 276.42016840653145, 257.0949876370582, 405.5985548848086, 442.62282878566884, 336.9960056339428, 321.6323547933286, 289.80291247249613, 12.901487285545404, 12.901487284895245, 11.05883316213074, 11.058955193796285, 10.137506226793322, 10.137506407127582, 10.137552270143836, 10.137575619304078, 9.216179038953348, 9.21617903776697, 9.21617935087756, 9.216341528916614, 8.294851976321581, 8.294851977616663, 8.294852292373951, 8.294854391676788, 7.373527399903145, 15.71446580234852, 6.452197853919719, 6.4521978526928185, 6.452197852789422, 6.452197915018519, 6.452197862999735, 6.452200707677025, 6.452244978530031, 6.452198576755396, 6.452318733826246, 8.306002397926813, 5.5308707911428945, 5.530870791189723, 11.967356074903956, 20.38198730202995, 19.352324870074433, 24.77158351556365, 14.842147095842241, 10.138066047993469, 81.45183038522845, 17.682092450611425, 11.124851100093531, 24.88583799719153, 35.589339728218874, 81.75963109605871, 32.663750664296394, 52.58561353972749, 17.707317021109873, 68.46407358810146, 38.661974484024626, 24.9863873470281, 193.90533187000977, 404.9711565730057, 88.2168154694853, 173.54665494170698, 187.11041071246066, 176.3389953827063, 405.5985548848086, 57.86049452431108, 123.77896133490734, 222.35749898714752, 391.03660870201463, 403.4192323657285, 275.79249189734094, 318.9421355328672, 299.8159883002603, 96.05931403018859, 348.8101762401479, 594.0000602759246, 141.22558663999342, 292.14976348198377, 321.6323547933286, 166.07873007793543, 320.26245390771464, 106.3753739668472, 261.8315316107435, 442.62282878566884, 241.39346515344738, 382.603869806898, 381.35596613264397, 257.0949876370582, 377.8189874987719, 339.70361649269995, 261.84414768834307, 297.3394709510311, 287.709686434041, 289.80291247249613, 396.2356148950385, 29.088590583503308, 19.094719618950958, 19.094758814487772, 12.735026664673308, 10.917981867709676, 108.56249551616503, 10.009459469464595, 9.100937070785646, 9.100937056882215, 8.192414672782636, 8.192414672774204, 8.192414674171328, 8.192420466185405, 8.192451670389454, 7.283892273732633, 7.283892273892339, 7.2838922739523255, 7.283892273935196, 7.283892273809675, 7.283892274428311, 9.105460198416145, 6.375369875218662, 6.375369875167548, 6.375369875179179, 6.375369875685304, 6.375369875918825, 6.375369877178161, 6.375369750331141, 6.375391442809946, 6.37540734530248, 20.02992086354737, 30.048169162072746, 10.93138214484976, 25.77618795349213, 111.43015581068468, 19.19574698955524, 339.70361649269995, 31.015236563292248, 17.308640719946677, 166.08500009720476, 141.51302842238823, 29.604201439255956, 14.738718100384556, 16.469376113530213, 42.18563891581258, 53.94244093038575, 47.77214607452759, 60.80861586548497, 22.02931783654448, 137.98673745757358, 32.339914844788574, 46.34625199094856, 247.02257138292606, 192.63786944160142, 261.84414768834307, 186.22473251818064, 98.3149481663861, 594.0000602759246, 102.50814755824362, 193.90533187000977, 139.07454283890786, 99.07544393253141, 391.03660870201463, 329.6251549858265, 176.66622366324862, 259.08622634851207, 404.9711565730057, 218.3325017729241, 257.66984727667057, 275.79249189734094, 226.03196571893193, 320.26245390771464, 377.8189874987719, 297.2781223930052, 269.3756667770331, 396.2356148950385, 241.26239423381566, 381.35596613264397, 442.62282878566884, 405.5985548848086, 28.796782429479283, 23.402095931232335, 14.410954478755663, 13.51183733170655, 11.713608495562468, 11.713608496477933, 8.117150825172104, 8.117150825939877, 8.117150826011166, 8.117150852220423, 7.218036407920063, 7.218036408525233, 7.218036408364974, 7.218036410323086, 7.21803641054346, 6.318921990472191, 6.318921990229345, 6.31892199097938, 6.318921991219138, 6.318921992002203, 6.31892199288907, 6.318924800584266, 54.97535165842508, 12.683733102240854, 5.419807572474132, 5.419807573226586, 5.4198075733081845, 5.419807573494332, 5.419807599870092, 5.419810409705772, 28.07310756759776, 21.817503412597944, 10.824000997055016, 37.04433734457333, 10.88570043949227, 28.93226563567995, 35.50291471705894, 47.45817929376367, 52.29431322914597, 20.98960618786678, 17.163800705132665, 13.543503520738446, 9.924886723099382, 15.475257449862523, 12.658258944451156, 29.024069502475363, 9.986592368158224, 196.39909661017163, 43.62059376981918, 27.46062028026696, 104.4574184358006, 54.62227645468458, 105.32247391089186, 47.93459861082572, 89.45175040766358, 19.043510299749663, 127.9909345449709, 126.72239658666632, 297.2781223930052, 94.71854629539597, 111.68388386373343, 594.0000602759246, 403.4192323657285, 318.9421355328672, 354.8847627070629, 377.8189874987719, 348.8101762401479, 336.9960056339428, 161.07117850402426, 321.6323547933286, 226.03196571893193, 231.9603006682468, 381.35596613264397, 299.8159883002603, 275.79249189734094, 200.83580763998262, 223.93991120438184, 297.3394709510311, 302.6845674058758, 405.5985548848086, 269.3756667770331], \"logprob\": [30.0, 29.0, 28.0, 27.0, 26.0, 25.0, 24.0, 23.0, 22.0, 21.0, 20.0, 19.0, 18.0, 17.0, 16.0, 15.0, 14.0, 13.0, 12.0, 11.0, 10.0, 9.0, 8.0, 7.0, 6.0, 5.0, 4.0, 3.0, 2.0, 1.0, -7.3622, -7.5043, -7.5836, -7.076, -7.9252, -7.9849, -7.985, -8.0486, -8.0487, -8.1166, -8.1169, -8.1897, -8.1897, -8.1897, -8.1897, -8.1897, -8.1899, -8.2685, -8.2685, -8.2685, -8.2688, -7.543, -8.354, -8.354, -8.354, -8.354, -8.354, -8.354, -8.3541, -8.3542, -7.1803, -5.2458, -5.5435, -7.4034, -5.6536, -7.7074, -7.7882, -7.925, -5.4927, -7.4574, -7.7157, -7.3292, -7.298, -5.5214, -5.247, -6.8743, -5.3189, -5.8105, -5.2117, -6.2993, -5.9272, -6.8129, -5.6696, -6.0468, -5.9599, -7.106, -6.5899, -5.4696, -5.8336, -5.8921, -5.6103, -5.457, -5.6009, -5.7207, -5.8645, -5.7273, -5.5954, -5.6623, -5.9743, -6.0561, -5.7565, -5.6371, -5.5539, -5.7524, -5.3399, -5.6338, -5.7991, -5.8057, -5.7486, -5.7695, -6.4004, -6.6425, -6.6774, -6.7899, -6.8305, -6.9627, -7.0618, -7.2954, -6.7092, -5.8715, -7.5153, -7.6008, -7.6008, -7.6943, -7.6943, -7.6943, -7.6945, -6.9627, -7.7975, -7.7979, -7.7979, -7.0116, -7.9126, -7.9126, -7.9126, -7.9126, -7.9126, -7.9126, -7.9126, -7.9126, -6.171, -6.606, -7.2317, -7.2386, -7.5805, -6.1035, -7.1724, -6.4244, -6.1957, -6.827, -6.971, -5.9866, -5.6322, -6.8528, -6.9823, -6.6095, -5.2653, -7.011, -6.0539, -5.9754, -5.9094, -5.9301, -5.5834, -5.1949, -5.7982, -5.6226, -5.7339, -5.5804, -5.9481, -5.6653, -5.9165, -5.8923, -6.0129, -5.9218, -5.9232, -5.8012, -5.8071, -5.8935, -5.9545, -5.9811, -5.8984, -5.917, -5.9663, -5.9839, -6.022, -7.359, -7.359, -7.5234, -7.5237, -7.6169, -7.6169, -7.617, -7.6172, -7.7201, -7.7201, -7.7201, -7.7211, -7.8351, -7.8351, -7.8351, -7.8351, -7.966, -7.218, -8.1147, -8.1147, -8.1147, -8.1147, -8.1147, -8.1147, -8.1149, -8.115, -8.1156, -7.8633, -8.2906, -8.2906, -7.5233, -6.9971, -7.0759, -6.8781, -7.359, -7.712, -5.9363, -7.2548, -7.6516, -6.9847, -6.704, -6.0645, -6.8058, -6.4425, -7.2906, -6.318, -6.7289, -7.0444, -5.6124, -5.1635, -6.2038, -5.7619, -5.7314, -5.8069, -5.3278, -6.5567, -6.1037, -5.7529, -5.4257, -5.4509, -5.6983, -5.626, -5.6648, -6.3089, -5.6345, -5.3728, -6.1412, -5.7876, -5.757, -6.0716, -5.7824, -6.2817, -5.9021, -5.694, -5.9473, -5.7801, -5.8034, -5.9454, -5.8311, -5.8787, -5.9935, -5.9697, -5.9817, -5.9813, -5.9514, -6.3834, -6.8178, -6.8178, -7.2432, -7.4076, -5.1121, -7.5011, -7.6043, -7.6043, -7.7193, -7.7193, -7.7193, -7.7193, -7.7194, -7.8494, -7.8494, -7.8494, -7.8494, -7.8494, -7.8494, -7.6418, -7.9989, -7.9989, -7.9989, -7.9989, -7.9989, -7.9989, -7.9989, -7.999, -7.999, -6.8686, -6.4841, -7.5011, -6.7694, -5.4902, -7.0392, -4.6837, -6.6794, -7.1719, -5.4674, -5.611, -6.8005, -7.3236, -7.2432, -6.5702, -6.4157, -6.5202, -6.3829, -7.0592, -5.853, -6.8189, -6.5963, -5.5966, -5.7487, -5.5819, -5.8281, -6.1997, -5.2087, -6.1993, -5.8789, -6.092, -6.2662, -5.6413, -5.7332, -6.072, -5.9243, -5.8048, -6.0393, -5.9928, -5.974, -6.04, -5.9334, -5.8892, -5.9708, -6.0018, -5.9221, -6.034, -5.9717, -5.9701, -6.0029, -6.2432, -6.4568, -6.9624, -7.0304, -7.1822, -7.1822, -7.5795, -7.5795, -7.5795, -7.5795, -7.7096, -7.7096, -7.7096, -7.7096, -7.7096, -7.8591, -7.8591, -7.8591, -7.8591, -7.8591, -7.8591, -7.8591, -5.7096, -7.1822, -8.035, -8.035, -8.035, -8.035, -8.035, -8.035, -6.4179, -6.678, -7.3612, -6.1775, -7.3612, -6.4568, -6.2991, -6.0408, -5.9652, -6.7822, -6.9623, -7.1822, -7.4644, -7.1034, -7.2677, -6.6289, -7.4644, -5.2399, -6.3804, -6.7278, -5.8167, -6.2747, -5.8553, -6.4201, -6.0391, -7.0304, -5.9402, -5.982, -5.5465, -6.1514, -6.0667, -5.2237, -5.5695, -5.6867, -5.6524, -5.701, -5.7427, -5.7712, -6.0482, -5.8524, -5.9684, -5.9611, -5.8509, -5.913, -5.962, -6.0429, -6.0327, -6.011, -6.0114, -5.9923, -6.0623], \"Freq\": [339.0, 108.0, 196.0, 111.0, 61.0, 54.0, 166.0, 52.0, 193.0, 127.0, 269.0, 141.0, 81.0, 133.0, 47.0, 98.0, 594.0, 297.0, 104.0, 404.0, 261.0, 105.0, 48.0, 89.0, 318.0, 247.0, 81.0, 28.0, 37.0, 35.0, 29.299927343107882, 25.417933039829602, 23.48009743327741, 39.007512697835224, 16.685826508679252, 15.719397375721709, 15.71710040042095, 14.748404434946675, 14.747028485618525, 13.778731367142768, 13.774859912504633, 12.80839824029718, 12.808398227411239, 12.80839809992428, 12.808398022765251, 12.808397473421115, 12.80509296582773, 11.838065021613168, 11.838064924362744, 11.838064880793441, 11.833583820453455, 24.4524253222618, 10.867731819280639, 10.86773179393761, 10.8677317158085, 10.867731667306225, 10.867731626734862, 10.867731135278467, 10.866724975118322, 10.86488661335747, 35.143596530942666, 243.21749342083726, 180.59178655426336, 28.11795797940001, 161.76755421061773, 20.746471494317476, 19.136306461907406, 16.689758820370713, 190.00794297160374, 26.638734265275644, 20.57527632466526, 30.28195873502293, 31.243895813611324, 184.63579762944295, 242.92094271205025, 47.72829256924622, 226.06824076575904, 138.2729177050111, 251.6545365779312, 84.81468825800226, 123.04712626165764, 50.74792254442886, 159.20001101110384, 109.17607574530874, 119.09539218286953, 37.85528082563125, 63.42614269796462, 194.44379952692253, 135.12152458762506, 127.44037905821897, 168.9331201124212, 196.9167772632386, 170.53205886799122, 151.26986979974265, 131.004647978356, 150.27405836812738, 171.47051945663807, 160.3746777157676, 117.38883923841594, 108.16540687136096, 145.95043338610046, 164.4554417171552, 178.7221416702719, 146.5498859537407, 221.3887027971985, 165.00506748681062, 139.86698060142814, 138.93962268695626, 147.10972148979172, 144.0663770488959, 34.29394797925324, 26.918905378451498, 25.997025061964457, 23.229679780865922, 22.306646132425556, 19.543862808084597, 17.70010119118161, 14.012580837765892, 25.184407120739696, 58.19657223655811, 11.246939853734974, 10.325059572406346, 10.32505956635276, 9.403179246637348, 9.403179208977933, 9.403179136630307, 9.401903697984714, 19.54394783219069, 8.481298864002316, 8.478325976814235, 8.47791874584262, 18.610619468206266, 7.559418593862259, 7.559418592879573, 7.559418567768059, 7.5594185665492715, 7.559418566114348, 7.559418565795198, 7.5594185486876055, 7.559418535483122, 43.13640920243488, 27.92130982257328, 14.934523426198968, 14.832564801110383, 10.536348171015177, 46.14921127808087, 15.847463879226215, 33.48226438783953, 42.084762727527234, 22.384925046592862, 19.383329786796143, 51.86991623906637, 73.9348614103886, 21.814860164305944, 19.165065749158828, 27.824317727545623, 106.7061677408492, 18.621912733902327, 48.49433760023139, 52.45583551624564, 56.03441097209244, 54.88901122212653, 77.63405423683594, 114.49235678848379, 62.62687738071929, 74.64384727559438, 66.78437303138702, 77.86862959985784, 53.90609543908717, 71.52642298150164, 55.638032980023894, 57.00318396423419, 50.52429570866832, 55.34344925846609, 55.264588365441696, 62.43980358796184, 62.07030460928459, 56.93442510485544, 53.564184281396386, 52.15594687389805, 56.65495236384041, 55.6112632423566, 52.933816204205705, 52.01421987344605, 50.06620484327375, 12.161517089179593, 12.161517079418843, 10.318862972861854, 10.315159208389664, 9.397530359057608, 9.397523932769703, 9.396667870454678, 9.394791818793127, 8.47620882887505, 8.476208823918222, 8.476202979002238, 8.467425833992722, 7.5548817806441475, 7.554881776163725, 7.554875845501846, 7.55483639509498, 6.627855787797225, 14.004336692923859, 5.712227659273705, 5.71222764130614, 5.712227627732556, 5.712226495030798, 5.712211736132318, 5.712174012728423, 5.711341672948211, 5.710500277843213, 5.707368204063793, 7.344779186750907, 4.790900600753868, 4.790900600168502, 10.318899830226227, 17.46582729208373, 16.141945010185438, 19.67212559530552, 12.161641159897716, 8.54439939365751, 50.45232292516502, 13.49747812114897, 9.077205029852083, 17.68396526739014, 23.41448284725857, 44.38204340240256, 21.147277413848318, 30.411058958336344, 13.023250409952167, 34.443882958194756, 22.838549335405673, 16.65847001463114, 69.74910154377913, 109.26772620404269, 38.61192887305976, 60.06569925600538, 61.92722336532685, 57.419491706939155, 92.71128428858854, 27.130641244089023, 42.6752062226488, 60.608350634960445, 84.068662371044, 81.97898016181254, 64.01221399566779, 68.81167059541133, 66.18953842198927, 34.75959660133127, 68.2260586349551, 88.6337202049874, 41.106748910170396, 58.539306652580485, 60.35890317793122, 44.06921283178643, 58.84820887448589, 35.71790727182967, 52.20621125148033, 64.284124144888, 49.89847846405654, 58.982127215797654, 57.62355933853978, 49.995104271340416, 56.049035675876354, 53.44584589841119, 47.64934299478725, 48.79664312742235, 48.21210348578329, 48.23280955004378, 49.69634742895695, 28.334984698371443, 18.351620729299935, 18.351044598079078, 11.992495533162812, 10.175450800256904, 101.02855297493275, 9.266928376836319, 8.358406006607767, 8.358404663705963, 7.449883552699348, 7.449883551723833, 7.449883494825225, 7.4497983994375385, 7.449339752371895, 6.54136121157351, 6.541361210399867, 6.541361210035104, 6.541361187182595, 6.541361174266138, 6.541361132015864, 8.050811237816392, 5.632838815393681, 5.632838814818296, 5.63283876769623, 5.632838750702714, 5.632838737655032, 5.632838698527709, 5.632826732754971, 5.632521766603317, 5.632288024177246, 17.443656352852724, 25.620542960100156, 9.267141472805664, 19.260974672721737, 69.22102797164384, 14.70652393773307, 155.0625336857047, 21.07513535544169, 12.879229632492516, 70.81672497761944, 61.34503794214152, 18.671333713166845, 11.066124635133972, 11.99273536677226, 23.508125050448328, 27.43607017890949, 24.712261234877026, 28.350807679365204, 14.416046330967356, 48.15948723480548, 18.330875763004308, 22.9024642313169, 62.23877367440662, 53.45298680063689, 63.1584408909659, 49.3749847493489, 34.051463838854445, 91.73041421344145, 34.06425910725598, 46.931042262262785, 37.922985371613734, 31.859394155716323, 59.51452535630419, 54.28756094682665, 38.687254497442524, 44.84802805920276, 50.53801445135496, 39.97530719924106, 41.876712380020514, 42.67115638183644, 39.9452602598804, 44.43802279839669, 46.448721540870785, 42.80735987416313, 41.50040788730816, 44.94623591730406, 40.184931575719354, 42.76799333041964, 42.83932281617399, 41.455653373253185, 28.052369697289908, 22.657683096210885, 13.666504147651588, 12.767424619869061, 10.969195817775988, 10.969195775052695, 7.372738159053123, 7.372738127155419, 7.372738125310715, 7.372737101395205, 6.47362373015504, 6.47362371944525, 6.47362371201456, 6.473623694986073, 6.473623627794736, 5.57450931977943, 5.574509318256219, 5.574509307349936, 5.574509280192301, 5.57450925158558, 5.5745092203787445, 5.574473384214993, 47.833857630992384, 10.969316170632009, 4.675394912653454, 4.675394880093095, 4.675394878122302, 4.675394869737915, 4.67539383674378, 4.67535862864427, 23.55722997047841, 18.16236422337864, 9.171082733547692, 29.95677174552075, 9.1711237858034, 22.658019463402844, 26.527260063931074, 34.34708972754248, 37.04446403160195, 16.36415561271359, 13.667615165637635, 10.969322360082359, 8.27195451933741, 11.868490075465349, 10.070181040982696, 19.075906809783078, 8.27192932732185, 76.51072688490298, 24.45771513180411, 17.279570316129217, 42.97492452602127, 27.184358814598706, 41.34840928438159, 23.50470062983214, 34.4039490445233, 12.76811768224043, 37.98195673347668, 36.42649663572072, 56.30797626068944, 30.750168858037014, 33.46867082108094, 77.75486627181347, 55.02531924614829, 48.94184815945213, 50.64658816256949, 48.245858185929535, 46.274837770832804, 44.97513361045217, 34.092792369787425, 41.46919084369851, 36.9240228270485, 37.197877278020464, 41.530145222676545, 39.0284230099838, 37.16292246197372, 34.27422482012799, 34.625123898562975, 35.38451371799146, 35.372784228644974, 36.05452318885453, 33.6175834434349], \"Category\": [\"Default\", \"Default\", \"Default\", \"Default\", \"Default\", \"Default\", \"Default\", \"Default\", \"Default\", \"Default\", \"Default\", \"Default\", \"Default\", \"Default\", \"Default\", \"Default\", \"Default\", \"Default\", \"Default\", \"Default\", \"Default\", \"Default\", \"Default\", \"Default\", \"Default\", \"Default\", \"Default\", \"Default\", \"Default\", \"Default\", \"Topic1\", \"Topic1\", \"Topic1\", \"Topic1\", \"Topic1\", \"Topic1\", \"Topic1\", \"Topic1\", \"Topic1\", \"Topic1\", \"Topic1\", \"Topic1\", \"Topic1\", \"Topic1\", \"Topic1\", \"Topic1\", \"Topic1\", \"Topic1\", \"Topic1\", \"Topic1\", \"Topic1\", \"Topic1\", \"Topic1\", \"Topic1\", \"Topic1\", \"Topic1\", \"Topic1\", \"Topic1\", \"Topic1\", \"Topic1\", \"Topic1\", \"Topic1\", \"Topic1\", \"Topic1\", \"Topic1\", \"Topic1\", \"Topic1\", \"Topic1\", \"Topic1\", \"Topic1\", \"Topic1\", \"Topic1\", \"Topic1\", \"Topic1\", \"Topic1\", \"Topic1\", \"Topic1\", \"Topic1\", \"Topic1\", \"Topic1\", \"Topic1\", \"Topic1\", \"Topic1\", \"Topic1\", \"Topic1\", \"Topic1\", \"Topic1\", \"Topic1\", \"Topic1\", \"Topic1\", \"Topic1\", \"Topic1\", \"Topic1\", \"Topic1\", \"Topic1\", \"Topic1\", \"Topic1\", \"Topic1\", \"Topic1\", \"Topic1\", \"Topic1\", \"Topic1\", \"Topic1\", \"Topic1\", \"Topic1\", \"Topic1\", \"Topic1\", \"Topic1\", \"Topic1\", \"Topic1\", \"Topic2\", \"Topic2\", \"Topic2\", \"Topic2\", \"Topic2\", \"Topic2\", \"Topic2\", \"Topic2\", \"Topic2\", \"Topic2\", \"Topic2\", \"Topic2\", \"Topic2\", \"Topic2\", \"Topic2\", \"Topic2\", \"Topic2\", \"Topic2\", \"Topic2\", \"Topic2\", \"Topic2\", \"Topic2\", \"Topic2\", \"Topic2\", \"Topic2\", \"Topic2\", \"Topic2\", \"Topic2\", \"Topic2\", \"Topic2\", \"Topic2\", \"Topic2\", \"Topic2\", \"Topic2\", \"Topic2\", \"Topic2\", \"Topic2\", \"Topic2\", \"Topic2\", \"Topic2\", \"Topic2\", \"Topic2\", \"Topic2\", \"Topic2\", \"Topic2\", \"Topic2\", \"Topic2\", \"Topic2\", \"Topic2\", \"Topic2\", \"Topic2\", \"Topic2\", \"Topic2\", \"Topic2\", \"Topic2\", \"Topic2\", \"Topic2\", \"Topic2\", \"Topic2\", \"Topic2\", \"Topic2\", \"Topic2\", \"Topic2\", \"Topic2\", \"Topic2\", \"Topic2\", \"Topic2\", \"Topic2\", \"Topic2\", \"Topic2\", \"Topic2\", \"Topic2\", \"Topic2\", \"Topic2\", \"Topic2\", \"Topic3\", \"Topic3\", \"Topic3\", \"Topic3\", \"Topic3\", \"Topic3\", \"Topic3\", \"Topic3\", \"Topic3\", \"Topic3\", \"Topic3\", \"Topic3\", \"Topic3\", \"Topic3\", \"Topic3\", \"Topic3\", \"Topic3\", \"Topic3\", \"Topic3\", \"Topic3\", \"Topic3\", \"Topic3\", \"Topic3\", \"Topic3\", \"Topic3\", \"Topic3\", \"Topic3\", \"Topic3\", \"Topic3\", \"Topic3\", \"Topic3\", \"Topic3\", \"Topic3\", \"Topic3\", \"Topic3\", \"Topic3\", \"Topic3\", \"Topic3\", \"Topic3\", \"Topic3\", \"Topic3\", \"Topic3\", \"Topic3\", \"Topic3\", \"Topic3\", \"Topic3\", \"Topic3\", \"Topic3\", \"Topic3\", \"Topic3\", \"Topic3\", \"Topic3\", \"Topic3\", \"Topic3\", \"Topic3\", \"Topic3\", \"Topic3\", \"Topic3\", \"Topic3\", \"Topic3\", \"Topic3\", \"Topic3\", \"Topic3\", \"Topic3\", \"Topic3\", \"Topic3\", \"Topic3\", \"Topic3\", \"Topic3\", \"Topic3\", \"Topic3\", \"Topic3\", \"Topic3\", \"Topic3\", \"Topic3\", \"Topic3\", \"Topic3\", \"Topic3\", \"Topic3\", \"Topic3\", \"Topic3\", \"Topic3\", \"Topic3\", \"Topic3\", \"Topic3\", \"Topic4\", \"Topic4\", \"Topic4\", \"Topic4\", \"Topic4\", \"Topic4\", \"Topic4\", \"Topic4\", \"Topic4\", \"Topic4\", \"Topic4\", \"Topic4\", \"Topic4\", \"Topic4\", \"Topic4\", \"Topic4\", \"Topic4\", \"Topic4\", \"Topic4\", \"Topic4\", \"Topic4\", \"Topic4\", \"Topic4\", \"Topic4\", \"Topic4\", \"Topic4\", \"Topic4\", \"Topic4\", \"Topic4\", \"Topic4\", \"Topic4\", \"Topic4\", \"Topic4\", \"Topic4\", \"Topic4\", \"Topic4\", \"Topic4\", \"Topic4\", \"Topic4\", \"Topic4\", \"Topic4\", \"Topic4\", \"Topic4\", \"Topic4\", \"Topic4\", \"Topic4\", \"Topic4\", \"Topic4\", \"Topic4\", \"Topic4\", \"Topic4\", \"Topic4\", \"Topic4\", \"Topic4\", \"Topic4\", \"Topic4\", \"Topic4\", \"Topic4\", \"Topic4\", \"Topic4\", \"Topic4\", \"Topic4\", \"Topic4\", \"Topic4\", \"Topic4\", \"Topic4\", \"Topic4\", \"Topic4\", \"Topic4\", \"Topic4\", \"Topic4\", \"Topic4\", \"Topic4\", \"Topic4\", \"Topic4\", \"Topic4\", \"Topic4\", \"Topic4\", \"Topic4\", \"Topic4\", \"Topic5\", \"Topic5\", \"Topic5\", \"Topic5\", \"Topic5\", \"Topic5\", \"Topic5\", \"Topic5\", \"Topic5\", \"Topic5\", \"Topic5\", \"Topic5\", \"Topic5\", \"Topic5\", \"Topic5\", \"Topic5\", \"Topic5\", \"Topic5\", \"Topic5\", \"Topic5\", \"Topic5\", \"Topic5\", \"Topic5\", \"Topic5\", \"Topic5\", \"Topic5\", \"Topic5\", \"Topic5\", \"Topic5\", \"Topic5\", \"Topic5\", \"Topic5\", \"Topic5\", \"Topic5\", \"Topic5\", \"Topic5\", \"Topic5\", \"Topic5\", \"Topic5\", \"Topic5\", \"Topic5\", \"Topic5\", \"Topic5\", \"Topic5\", \"Topic5\", \"Topic5\", \"Topic5\", \"Topic5\", \"Topic5\", \"Topic5\", \"Topic5\", \"Topic5\", \"Topic5\", \"Topic5\", \"Topic5\", \"Topic5\", \"Topic5\", \"Topic5\", \"Topic5\", \"Topic5\", \"Topic5\", \"Topic5\", \"Topic5\", \"Topic5\", \"Topic5\", \"Topic5\", \"Topic5\", \"Topic5\", \"Topic5\", \"Topic5\", \"Topic5\", \"Topic5\", \"Topic5\", \"Topic5\", \"Topic5\", \"Topic5\", \"Topic5\", \"Topic5\", \"Topic5\", \"Topic5\", \"Topic5\"]}, \"token.table\": {\"Term\": [\"101st\", \"9th\", \"abbey\", \"acced\", \"accent\", \"affair\", \"affair\", \"affair\", \"affair\", \"afterlif\", \"ai\", \"aircraft\", \"aircraft\", \"alien\", \"alien\", \"also\", \"also\", \"also\", \"also\", \"also\", \"ancient\", \"ancient\", \"ancient\", \"angel\", \"angel\", \"angel\", \"anoth\", \"anoth\", \"anoth\", \"anoth\", \"anoth\", \"apart\", \"apart\", \"apart\", \"apart\", \"apart\", \"ape\", \"appear\", \"appear\", \"appear\", \"appear\", \"appear\", \"archaeologist\", \"armi\", \"armi\", \"armi\", \"armi\", \"armi\", \"arriv\", \"arriv\", \"arriv\", \"arriv\", \"arriv\", \"art\", \"ask\", \"ask\", \"ask\", \"ask\", \"ask\", \"attack\", \"attack\", \"attack\", \"attack\", \"attack\", \"attempt\", \"attempt\", \"attempt\", \"attempt\", \"attempt\", \"auction\", \"auditorium\", \"away\", \"away\", \"away\", \"away\", \"away\", \"band\", \"band\", \"band\", \"bandit\", \"bandit\", \"bandit\", \"bank\", \"bank\", \"bank\", \"bank\", \"barrel\", \"barrel\", \"bay\", \"bay\", \"bay\", \"beach\", \"beach\", \"beach\", \"beach\", \"becom\", \"becom\", \"becom\", \"becom\", \"becom\", \"bill\", \"bill\", \"bill\", \"biograph\", \"blond\", \"blond\", \"boat\", \"boat\", \"boat\", \"boat\", \"boat\", \"bodili\", \"boiler\", \"bomb\", \"bomb\", \"bomb\", \"bomb\", \"boobi\", \"boot\", \"boot\", \"boot\", \"borrow\", \"bouncer\", \"boy\", \"boy\", \"boy\", \"boy\", \"boy\", \"breadfruit\", \"bridg\", \"bridg\", \"bridg\", \"briefcas\", \"broomstick\", \"brother\", \"brother\", \"brother\", \"brother\", \"brother\", \"buffalo\", \"bullet\", \"bullet\", \"bullet\", \"bullet\", \"bullet\", \"burglari\", \"call\", \"call\", \"call\", \"call\", \"call\", \"camp\", \"camp\", \"camp\", \"camp\", \"camp\", \"captain\", \"captain\", \"captain\", \"captain\", \"car\", \"car\", \"car\", \"car\", \"car\", \"castl\", \"chaplain\", \"chart\", \"chicken\", \"children\", \"children\", \"children\", \"children\", \"children\", \"choir\", \"chum\", \"code\", \"code\", \"collaps\", \"collaps\", \"collaps\", \"collaps\", \"collaps\", \"come\", \"come\", \"come\", \"come\", \"come\", \"command\", \"command\", \"command\", \"command\", \"command\", \"commando\", \"communic\", \"communic\", \"communic\", \"communic\", \"communic\", \"comput\", \"concert\", \"concert\", \"concis\", \"confess\", \"confess\", \"confess\", \"confess\", \"conqueror\", \"convict\", \"costum\", \"courthous\", \"cowboy\", \"cowboy\", \"crucifi\", \"daughter\", \"daughter\", \"daughter\", \"daughter\", \"daughter\", \"day\", \"day\", \"day\", \"day\", \"day\", \"death\", \"death\", \"death\", \"death\", \"death\", \"decid\", \"decid\", \"decid\", \"decid\", \"decid\", \"deer\", \"demand\", \"demand\", \"demand\", \"demand\", \"demand\", \"destroy\", \"destroy\", \"destroy\", \"destroy\", \"destroy\", \"detect\", \"detect\", \"detect\", \"deton\", \"deton\", \"deton\", \"die\", \"die\", \"die\", \"die\", \"die\", \"discov\", \"discov\", \"discov\", \"discov\", \"discov\", \"doe\", \"doe\", \"doe\", \"doe\", \"doe\", \"doomsday\", \"drive\", \"drive\", \"drive\", \"drive\", \"drive\", \"droid\", \"droog\", \"elocut\", \"emperor\", \"enemi\", \"enemi\", \"enemi\", \"enemi\", \"epidem\", \"escap\", \"escap\", \"escap\", \"escap\", \"escap\", \"estuari\", \"excess\", \"exorc\", \"expel\", \"expens\", \"extort\", \"famili\", \"famili\", \"famili\", \"famili\", \"famili\", \"farmhand\", \"farmhand\", \"father\", \"father\", \"father\", \"father\", \"father\", \"feather\", \"fight\", \"fight\", \"fight\", \"fight\", \"fight\", \"film\", \"film\", \"film\", \"film\", \"film\", \"fire\", \"fire\", \"fire\", \"fire\", \"fire\", \"first\", \"first\", \"first\", \"first\", \"first\", \"fish\", \"fish\", \"fish\", \"fli\", \"fli\", \"fli\", \"fli\", \"fluid\", \"footbal\", \"footbal\", \"foxhol\", \"friend\", \"friend\", \"friend\", \"friend\", \"friend\", \"fundrais\", \"fundrais\", \"gala\", \"gala\", \"gala\", \"gentlemen\", \"ghetto\", \"girl\", \"girl\", \"girl\", \"girl\", \"girl\", \"gladiat\", \"go\", \"go\", \"go\", \"go\", \"go\", \"goe\", \"goe\", \"goe\", \"goe\", \"goe\", \"gold\", \"gold\", \"gold\", \"good\", \"good\", \"good\", \"good\", \"good\", \"gospel\", \"gover\", \"graft\", \"grandmoth\", \"group\", \"group\", \"group\", \"group\", \"group\", \"guilti\", \"guilti\", \"guilti\", \"gun\", \"gun\", \"gun\", \"gun\", \"gun\", \"gunfight\", \"gunfight\", \"gunfight\", \"gunfight\", \"harpoon\", \"headpiec\", \"help\", \"help\", \"help\", \"help\", \"help\", \"hideout\", \"hobbit\", \"home\", \"home\", \"home\", \"home\", \"home\", \"hospit\", \"hospit\", \"hospit\", \"hospit\", \"hospit\", \"hous\", \"hous\", \"hous\", \"hous\", \"hous\", \"hull\", \"hydrotherapi\", \"iceberg\", \"implor\", \"indio\", \"inmat\", \"inmat\", \"insur\", \"insur\", \"insur\", \"joint\", \"juri\", \"juri\", \"juror\", \"kidnapp\", \"kill\", \"kill\", \"kill\", \"kill\", \"kill\", \"know\", \"know\", \"know\", \"know\", \"know\", \"lamb\", \"land\", \"land\", \"land\", \"land\", \"land\", \"landlord\", \"later\", \"later\", \"later\", \"later\", \"later\", \"launder\", \"lawyer\", \"learn\", \"learn\", \"learn\", \"learn\", \"learn\", \"life\", \"life\", \"life\", \"life\", \"life\", \"lifeboat\", \"lightsab\", \"live\", \"live\", \"live\", \"live\", \"live\", \"love\", \"love\", \"love\", \"love\", \"love\", \"mansion\", \"mansion\", \"marri\", \"marri\", \"marri\", \"marri\", \"marri\", \"marriag\", \"marriag\", \"marriag\", \"marriag\", \"marriag\", \"marshal\", \"marshal\", \"media\", \"meet\", \"meet\", \"meet\", \"meet\", \"meet\", \"men\", \"men\", \"men\", \"men\", \"men\", \"migrant\", \"millionair\", \"mission\", \"mission\", \"mission\", \"mission\", \"money\", \"money\", \"money\", \"money\", \"money\", \"monolith\", \"moon\", \"motel\", \"motel\", \"moth\", \"mother\", \"mother\", \"mother\", \"mother\", \"mother\", \"mothership\", \"mous\", \"move\", \"move\", \"move\", \"move\", \"move\", \"mule\", \"murder\", \"murder\", \"murder\", \"murder\", \"murder\", \"n't\", \"n't\", \"n't\", \"n't\", \"n't\", \"name\", \"name\", \"name\", \"name\", \"name\", \"necklac\", \"necklac\", \"neglect\", \"nerv\", \"newspap\", \"newspap\", \"newspap\", \"newspap\", \"newsreel\", \"night\", \"night\", \"night\", \"night\", \"night\", \"nuclear\", \"obituari\", \"offic\", \"offic\", \"offic\", \"offic\", \"offic\", \"oil\", \"oil\", \"oil\", \"order\", \"order\", \"order\", \"order\", \"order\", \"outpost\", \"packag\", \"palant\\u00edr\", \"parent\", \"parent\", \"parent\", \"parent\", \"parol\", \"passport\", \"patient\", \"patient\", \"patient\", \"penicillin\", \"perform\", \"perform\", \"perform\", \"perform\", \"perform\", \"phonet\", \"pimp\", \"ping\", \"planet\", \"planet\", \"plantat\", \"plantat\", \"platoon\", \"platoon\", \"platoon\", \"pod\", \"polic\", \"polic\", \"polic\", \"polic\", \"polic\", \"policeman\", \"policeman\", \"policeman\", \"porter\", \"porter\", \"poss\", \"poss\", \"poster\", \"precious\", \"priceless\", \"priest\", \"priest\", \"prostitut\", \"prostitut\", \"provinc\", \"quid\", \"quo\", \"raft\", \"ran\", \"ranch\", \"ranch\", \"ransom\", \"ransom\", \"rate\", \"rate\", \"reconcili\", \"reconcili\", \"recruit\", \"recruit\", \"recruit\", \"recruit\", \"reform\", \"reform\", \"regiment\", \"relationship\", \"relationship\", \"relationship\", \"relationship\", \"relationship\", \"remain\", \"remain\", \"remain\", \"remain\", \"remain\", \"reservoir\", \"ring\", \"ring\", \"ring\", \"ring\", \"ring\", \"river\", \"river\", \"river\", \"river\", \"room\", \"room\", \"room\", \"room\", \"room\", \"roulett\", \"rub\", \"run\", \"run\", \"run\", \"run\", \"run\", \"safeti\", \"safeti\", \"safeti\", \"safeti\", \"saloon\", \"saloon\", \"save\", \"save\", \"save\", \"save\", \"save\", \"saxophon\", \"say\", \"say\", \"say\", \"say\", \"say\", \"script\", \"script\", \"scuba\", \"senat\", \"senat\", \"senat\", \"sewer\", \"shark\", \"shark\", \"ship\", \"ship\", \"ship\", \"ship\", \"ship\", \"shoot\", \"shoot\", \"shoot\", \"shoot\", \"shoot\", \"shorter\", \"shorter\", \"shot\", \"shot\", \"shot\", \"shot\", \"shot\", \"show\", \"show\", \"show\", \"show\", \"show\", \"shrimp\", \"sing\", \"sing\", \"sing\", \"sing\", \"sing\", \"sink\", \"sink\", \"sink\", \"sink\", \"sinner\", \"skin\", \"skin\", \"slum\", \"slum\", \"soldier\", \"soldier\", \"soldier\", \"soldier\", \"soldier\", \"son\", \"son\", \"son\", \"son\", \"son\", \"song\", \"song\", \"song\", \"song\", \"song\", \"space\", \"space\", \"space\", \"space\", \"spaceship\", \"speech\", \"speech\", \"speech\", \"speech\", \"speech\", \"sphinx\", \"squad\", \"squad\", \"squad\", \"stagecoach\", \"stagecoach\", \"stammer\", \"stockad\", \"stoog\", \"stormtroop\", \"swim\", \"swim\", \"swim\", \"swim\", \"sword\", \"sword\", \"sword\", \"syphili\", \"talk\", \"talk\", \"talk\", \"talk\", \"talk\", \"tan\", \"target\", \"target\", \"target\", \"target\", \"tax\", \"team\", \"team\", \"team\", \"team\", \"team\", \"testifi\", \"testifi\", \"three\", \"three\", \"three\", \"three\", \"three\", \"tooth\", \"tornado\", \"torpedo\", \"torpedo\", \"tourist\", \"town\", \"town\", \"town\", \"town\", \"town\", \"trench\", \"trench\", \"tribe\", \"tribe\", \"tribe\", \"tribe\", \"tribe\", \"trooper\", \"tryst\", \"two\", \"two\", \"two\", \"two\", \"two\", \"unanim\", \"union\", \"use\", \"use\", \"use\", \"use\", \"use\", \"verdict\", \"violin\", \"violin\", \"vote\", \"vote\", \"vote\", \"walk\", \"walk\", \"walk\", \"walk\", \"walk\", \"want\", \"want\", \"want\", \"want\", \"want\", \"ward\", \"ward\", \"ward\", \"warden\", \"warrior\", \"warrior\", \"water\", \"water\", \"water\", \"water\", \"water\", \"waterfront\", \"way\", \"way\", \"way\", \"way\", \"way\", \"wed\", \"wed\", \"wed\", \"wed\", \"whiskey\", \"whiskey\", \"wife\", \"wife\", \"wife\", \"wife\", \"wife\", \"witch\", \"wolf\", \"woman\", \"woman\", \"woman\", \"woman\", \"woman\", \"work\", \"work\", \"work\", \"work\", \"work\", \"wound\", \"wound\", \"wound\", \"wound\", \"wound\", \"written\", \"written\", \"yacht\", \"yacht\", \"year\", \"year\", \"year\", \"year\", \"year\"], \"Freq\": [0.9493421018672756, 0.8544450772044936, 0.854448935802686, 0.9299156871787349, 0.8680386628151116, 0.23238852408320015, 0.5381628978768845, 0.18346462427621066, 0.03669292485524213, 0.961024646831962, 0.8544489359475232, 0.9367374091377807, 0.04930196890198846, 0.7160021793246294, 0.2603644288453198, 0.4878865838433621, 0.1533357834936281, 0.1533357834936281, 0.10106222093898214, 0.10454712510929187, 0.1292385607463847, 0.06461928037319235, 0.7754313644783082, 0.04022695856224726, 0.764312212682698, 0.16090783424898905, 0.5629384574979789, 0.16679657999940115, 0.10946025562460701, 0.04691153812483158, 0.1146726487495883, 0.7722569597464715, 0.090573347130759, 0.090573347130759, 0.033369127890279626, 0.014301054810119842, 0.903757174253925, 0.3352555094060533, 0.1490024486249126, 0.2048783668592548, 0.09933496574994173, 0.21108680221862616, 0.831251002200394, 0.18089541824686742, 0.2137854942917524, 0.03289007604488498, 0.46046106462838976, 0.09867022813465495, 0.4367170667952106, 0.1640997463109276, 0.1482191257001927, 0.12175142468230113, 0.12704496488587944, 0.9655715373242876, 0.5693334903022499, 0.12651855340049997, 0.14459263245771425, 0.09714817493252677, 0.06325927670024999, 0.23879001638327918, 0.23879001638327918, 0.11420392087895961, 0.27512762757203907, 0.12458609550431957, 0.3492440667954563, 0.21827754174716016, 0.16668466824328593, 0.13890389020273827, 0.126997842471075, 0.9649391983670492, 0.9411186832718632, 0.48565409614321287, 0.15527715999136738, 0.11893569701466439, 0.1255432357377013, 0.11563192765314592, 0.27553479979987683, 0.6429145328663792, 0.06122995551108373, 0.13825394977250263, 0.06912697488625132, 0.7949602111918902, 0.09542716987192391, 0.6679901891034674, 0.09542716987192391, 0.12723622649589855, 0.091479740324616, 0.8233176629215441, 0.05151947722899633, 0.8243116356639413, 0.10303895445799266, 0.0837307998212964, 0.1046634997766205, 0.27212509941921326, 0.5233174988831024, 0.39522468233317026, 0.08339603388681574, 0.23205852907635685, 0.15591432422317725, 0.1341588371222688, 0.06071875419606589, 0.18215626258819767, 0.7286250503527907, 0.9644533372433095, 0.9079324204902577, 0.0864697543324055, 0.08076808234290397, 0.09871654508577152, 0.026922694114301326, 0.6192219646289304, 0.17051039605724172, 0.9639392613875727, 0.9411218854699926, 0.14432521246801586, 0.673517658184074, 0.024054202078002646, 0.1683794145460185, 0.9225419736523204, 0.07383613837208025, 0.07383613837208025, 0.8121975220928829, 0.9602197773427524, 0.9644535813319991, 0.17947910588685131, 0.14780632249505402, 0.11613353910325673, 0.23226707820651346, 0.32728542838190533, 0.8312510021750151, 0.04848432402105134, 0.9373635977403258, 0.016161441340350444, 0.9594793823169518, 0.9040167794128617, 0.45849171573621067, 0.11320783104597794, 0.1867929212258636, 0.220755270539657, 0.01698117465689669, 0.9639392614333238, 0.12006537633207796, 0.08004358422138531, 0.6803704658817752, 0.08004358422138531, 0.04002179211069266, 0.9484474981993702, 0.5074244119847117, 0.1572718937730393, 0.12463055732957831, 0.07715224977545324, 0.13353273999597676, 0.061028359490621194, 0.48822687592496955, 0.050856966242184325, 0.3458273704468534, 0.050856966242184325, 0.09481899771584748, 0.23704749428961872, 0.5689139862950849, 0.09481899771584748, 0.7873134699600505, 0.07451938193037515, 0.08099932818519037, 0.03239973127407615, 0.022679811891853304, 0.9644536180798328, 0.9411163357931808, 0.9495290504855155, 0.9299156781961142, 0.23915341871276885, 0.07971780623758962, 0.26089463859574785, 0.3478595181276638, 0.07971780623758962, 0.9621193388329591, 0.9411218670418423, 0.9441605124094556, 0.04720802562047278, 0.3020740491104697, 0.1078835889680249, 0.02157671779360498, 0.49626450925291454, 0.08630687117441992, 0.5127035890427319, 0.10618121666565454, 0.1425862052367361, 0.163822448569867, 0.07584372618975324, 0.14063496031178302, 0.43753098763665826, 0.07813053350654613, 0.04687832010392767, 0.29689602732487524, 0.8873080562949526, 0.06781466938385945, 0.745961363222454, 0.06781466938385945, 0.033907334691929726, 0.10172200407578919, 0.9724393979808478, 0.3150679630781555, 0.6826472533360035, 0.94952905077248, 0.7423211425398705, 0.1018872156427273, 0.1018872156427273, 0.05822126608155846, 0.9225419781419163, 0.9690466186965403, 0.9690422852116096, 0.8312510024771336, 0.1550201342805621, 0.8267740494963312, 0.941121866965412, 0.23214632291390574, 0.1614930942009779, 0.2119596861387835, 0.3229861884019558, 0.08074654710048895, 0.46212184132394724, 0.17470459854929712, 0.12398390864788829, 0.09298793148591622, 0.14370862138732507, 0.5429772858551815, 0.08704216032792984, 0.09118702510545032, 0.16579459110081876, 0.11191134899305266, 0.3129250135176808, 0.24338612162486284, 0.18253959121864713, 0.13473160304233478, 0.12603924155573254, 0.9042545315036897, 0.6755889539461168, 0.09651270770658811, 0.07506543932734631, 0.09651270770658811, 0.053618170948104504, 0.07080201063466642, 0.6136174255004423, 0.07080201063466642, 0.14160402126933283, 0.09440268084622189, 0.9067784477542401, 0.025907955650121148, 0.051815911300242296, 0.04020136480496117, 0.7638259312942622, 0.20100682402480585, 0.2874231273786645, 0.23074814451526587, 0.09715711348011194, 0.2509892098236225, 0.12954281797348258, 0.314114863241457, 0.20793519115983775, 0.13714874310542488, 0.1769661201360321, 0.1636936611258297, 0.49102125436970584, 0.1479790081662127, 0.16479480454873688, 0.07735266335961119, 0.11771057467766921, 0.9639392613732475, 0.5524032014813743, 0.14164184653368572, 0.1605274260715105, 0.1038706874580362, 0.03777115907564953, 0.9761824157635753, 0.9426689869871417, 0.9644536179292519, 0.9422830682630405, 0.03661509790166341, 0.3295358811149707, 0.12815284265582194, 0.494303821672456, 0.9639392613952401, 0.3966195928137713, 0.16813221869279435, 0.1896876313457167, 0.08191056808110495, 0.1595100536316254, 0.9610246468421269, 0.8312510024074403, 0.9426670519840687, 0.8785937037418016, 0.9559274336513096, 0.9484592493517517, 0.22666817855810106, 0.14129964377647858, 0.15601835666986177, 0.45628009969487876, 0.017662455472059822, 0.1347513932509309, 0.8085083595055854, 0.4995902518317207, 0.1155302457360854, 0.184223905362947, 0.1373873192537232, 0.062448781478965085, 0.9495286285801696, 0.40864002859959087, 0.06492411669339293, 0.1833151530166389, 0.24060113833433852, 0.10311477357185937, 0.5585500965351183, 0.07033593808220008, 0.15308410053184723, 0.11171001930702366, 0.10343520306205894, 0.26568936736142545, 0.3398352373227535, 0.20390114239365212, 0.049430579974218694, 0.14211291742587875, 0.3568855704014071, 0.19011661226990847, 0.2201350247335782, 0.1000613748788992, 0.13007978734256895, 0.30401090258985203, 0.6418007943563543, 0.06755797835330045, 0.03456589883032655, 0.29381014005777567, 0.4666396342094084, 0.2073953929819593, 0.9639392613797734, 0.1579996118563142, 0.789998059281571, 0.862371554679826, 0.4413230714069892, 0.14053304508490716, 0.22929075777011168, 0.10108517278037182, 0.08875771268520452, 0.07884114179470778, 0.8672525597417856, 0.1165243080107496, 0.0582621540053748, 0.8156701560752473, 0.8427640234906756, 0.9761408539692845, 0.6825543903660684, 0.0722704648622896, 0.06424041321092408, 0.0722704648622896, 0.10439067146775163, 0.9625767161052943, 0.48832575195970174, 0.09419481509882571, 0.20326249573957128, 0.07684313863325255, 0.13633460080093196, 0.5210437628515232, 0.17253104730182886, 0.16562980540975572, 0.08971614459695101, 0.048308693244512084, 0.1126668058630697, 0.1126668058630697, 0.7605009395757205, 0.3435377436656385, 0.0312307039696035, 0.3643582129787075, 0.124922815878414, 0.1353330505349485, 0.9495290508486941, 0.9411218667450388, 0.9610246467503403, 0.8680233881198633, 0.1880307101929075, 0.1880307101929075, 0.28652298696062095, 0.03581537337007762, 0.29547683030314037, 0.2677155341662881, 0.019122538154734865, 0.70753391172519, 0.39182547207746926, 0.15557776097193632, 0.34572835771541405, 0.040334975066798305, 0.0633835322478259, 0.040183497140536484, 0.16073398856214594, 0.7233029485296567, 0.08036699428107297, 0.8790303611350423, 0.9828179521862527, 0.4171173702977675, 0.24301620704304716, 0.13420298000884692, 0.13420298000884692, 0.07254215135613348, 0.8873021918772437, 0.961024646815401, 0.3555808794349051, 0.1926063096939069, 0.2691549712389212, 0.1259348947998622, 0.056794168243075115, 0.28483949233267647, 0.05696789846653529, 0.14241974616633823, 0.12343044667749314, 0.3892806395213245, 0.4200782014173841, 0.20225987475651827, 0.19448064880434449, 0.12446761523478048, 0.058344194641303346, 0.8790303624779302, 0.9495290508851859, 0.9495290507364521, 0.9548097641157638, 0.9495290506187829, 0.8423572182419756, 0.14039286970699594, 0.9073370894148697, 0.043206528067374746, 0.043206528067374746, 0.9298982656490654, 0.19057051210004283, 0.7622820484001713, 0.9723308521904998, 0.8675532406499731, 0.3720538342998504, 0.1919191724442667, 0.14983163462754157, 0.15488213916554858, 0.1313131179881825, 0.5576233109808508, 0.18441085874957272, 0.06147028624985758, 0.14050351142824588, 0.05268881678559221, 0.8312510024258961, 0.1853511203995222, 0.2146170867783941, 0.17559579827323155, 0.33168095229388184, 0.08779789913661577, 0.9602197768042742, 0.4307838156973594, 0.12030899357313642, 0.17464208744487544, 0.16299928161521707, 0.11254712302003084, 0.9602197775527158, 0.9759083129881646, 0.4542142696501013, 0.26953374242973044, 0.13975823681541577, 0.05989638720660676, 0.07487048400825845, 0.42802133905504225, 0.21797383007432708, 0.1347474585914022, 0.1347474585914022, 0.08322637148292489, 0.9390786795808908, 0.8873080562646927, 0.4076351403354692, 0.20152748510967017, 0.14656544371612376, 0.1832068046451547, 0.05954221150967528, 0.6430092858288672, 0.031281532824107054, 0.16683484172857094, 0.11469895368839252, 0.04518443630148796, 0.8800371150055147, 0.09428969089344802, 0.314586501627986, 0.056728713408325346, 0.36100090350752495, 0.24238632092648105, 0.025785778821966067, 0.40808546316719635, 0.034007121930599696, 0.44209258509779603, 0.07934995117139929, 0.0453428292407996, 0.8356064562138681, 0.0835606456213868, 0.8877923030235084, 0.6132714750146069, 0.09337878426148336, 0.12618754629930182, 0.11356879166937164, 0.0555225203716928, 0.2853182124963303, 0.23515237293653599, 0.21634018310161313, 0.11287313900953728, 0.1536328836518702, 0.8544489359484027, 0.8877882707945144, 0.10978777786136827, 0.7214625402318486, 0.09410380959545851, 0.07841984132954877, 0.6361532246439936, 0.22127068683269344, 0.11524514939202782, 0.009219611951362226, 0.023049029878405566, 0.9860123135618831, 0.9037571742206242, 0.19876529293072756, 0.7553081131367647, 0.9225419781874911, 0.29928853123013677, 0.10688876115362027, 0.33135515957622286, 0.16033314173043042, 0.10688876115362027, 0.9299156856932623, 0.9726699894043533, 0.36820523275683964, 0.14161739721416908, 0.29031566428904665, 0.12745565749275217, 0.077889568467793, 0.8873080563802915, 0.7888264736545694, 0.021790786565043352, 0.017432629252034683, 0.07844683163415607, 0.09587946088619075, 0.5087110658510651, 0.11799998950153572, 0.15208887535753493, 0.11275554552368969, 0.11013332353476667, 0.467748262148312, 0.12621778502414768, 0.12621778502414768, 0.15591608738277066, 0.12621778502414768, 0.13750427550146407, 0.8250256530087844, 0.9042445533742351, 0.8877922872307324, 0.7789124551771844, 0.04099539237774655, 0.020497696188873274, 0.1639815695109862, 0.9547880787476555, 0.49023799088438974, 0.07167222088953067, 0.19494844081952342, 0.1089417757520866, 0.13187688643673642, 0.9489955311110356, 0.9547880785517224, 0.3791274793457906, 0.39771215970587837, 0.11894195430456177, 0.029735488576140442, 0.0743387214403511, 0.19397748065080372, 0.03879549613016075, 0.7371144264730543, 0.2926552391399491, 0.2623805592289199, 0.1110071596737738, 0.14464569290825072, 0.18837578611307068, 0.9639392614210498, 0.9484474985703388, 0.899149452321166, 0.147326339300734, 0.049108779766911324, 0.6138597470863916, 0.18415792412591747, 0.9726782205828843, 0.9484474980792156, 0.16856946724568625, 0.1053559170285539, 0.7164202357941665, 0.9602197767440933, 0.279480277200458, 0.0558960554400916, 0.04471684435207328, 0.24594264393640305, 0.3800931769926229, 0.9299156870019093, 0.8877862260146405, 0.9225414953715027, 0.9350549384517852, 0.03740219753807141, 0.09812585840443584, 0.8340697964377046, 0.13497339562297384, 0.05398935824918954, 0.809840373737843, 0.9704911441228923, 0.7256574440486674, 0.030553997644154417, 0.1986009846870037, 0.026734747938635114, 0.01909624852759651, 0.8950048002079758, 0.04710551580041978, 0.04710551580041978, 0.9591866062523746, 0.0245945283654455, 0.8563121085190432, 0.11417494780253909, 0.9484474989066873, 0.9639392613872773, 0.948447498815596, 0.877393148321594, 0.12998417012171762, 0.3371796187183875, 0.6462609358769094, 0.9411218670401253, 0.8623715574718888, 0.862371557464315, 0.9411218670342969, 0.9602331635783719, 0.13311959136095589, 0.8652773438462132, 0.11350517405637904, 0.8512888054228428, 0.06363563436248341, 0.8908988810747678, 0.17977768709040834, 0.8089995919068376, 0.1820789169716232, 0.03641578339432464, 0.14566313357729857, 0.6190683177035189, 0.20354551729446033, 0.7463335634130212, 0.92991558282405, 0.4700336002163708, 0.03760268801730966, 0.338424192155787, 0.112808064051929, 0.03760268801730966, 0.26604437623683336, 0.19414049076741893, 0.12223660529800451, 0.2732347647837748, 0.14380777093882885, 0.9649249482549691, 0.7712407866955568, 0.16067516389490769, 0.03213503277898153, 0.016067516389490766, 0.03213503277898153, 0.3336890153567487, 0.12976795041651337, 0.500533523035123, 0.037076557261860967, 0.5526902861813273, 0.12447979418498363, 0.08962545181318822, 0.05975030120879214, 0.16929252009157775, 0.9301253207794566, 0.9225419783155714, 0.43217045153718214, 0.16167527683405375, 0.1865483963469851, 0.09016505823437614, 0.12747473750377317, 0.09078810405477904, 0.09078810405477904, 0.13618215608216855, 0.6355167283834533, 0.8073767261359885, 0.20184418153399714, 0.13330637247346422, 0.4621287579080092, 0.1155321894770023, 0.1155321894770023, 0.168854738466388, 0.9299088952705787, 0.5906892685483377, 0.10193310386453615, 0.15420649046173418, 0.09931943453467625, 0.05488705592705793, 0.920186041213733, 0.03834108505057221, 0.9159201875554822, 0.05209487291867925, 0.15628461875603775, 0.7814230937801888, 0.9547880780991713, 0.06447898942188277, 0.930339704515737, 0.12781043164311093, 0.5563512906817769, 0.11277391027333317, 0.07518260684888878, 0.12781043164311093, 0.34628919802902924, 0.19338227941880853, 0.27433300103598424, 0.0899452462413063, 0.09893977086543693, 0.0918636339074789, 0.82677270516731, 0.39740188264342047, 0.21074342261393508, 0.26493458842894696, 0.08429736904557404, 0.03612744387667459, 0.504599646361693, 0.09824063911466588, 0.18308482744096824, 0.0580512867495753, 0.15629192586424118, 0.9714831880593694, 0.30634492484291254, 0.057439673408046094, 0.08615951011206914, 0.14359918352011525, 0.4116509927576637, 0.0644844348008965, 0.128968869601793, 0.6770865654094131, 0.128968869601793, 0.8544483317101245, 0.10075681747304781, 0.8060545397843825, 0.09238727899896526, 0.8314855109906873, 0.04073338491917317, 0.259675328859729, 0.22403361705545247, 0.086558442953243, 0.39205882984704177, 0.2047144533227009, 0.09633621332832984, 0.1625673599915566, 0.42749194664446366, 0.11439925332739169, 0.27120285507228664, 0.10430879041241795, 0.02086175808248359, 0.10430879041241795, 0.5006821939796061, 0.030957597628326276, 0.8668127335931357, 0.06191519525665255, 0.030957597628326276, 0.9176761558558096, 0.1331162561165446, 0.038033216033298456, 0.5704982404994768, 0.019016608016649228, 0.22819929619979074, 0.9225419781736016, 0.3362477000591804, 0.5948997770277807, 0.051730415393720065, 0.09863814215314966, 0.887743279378347, 0.8680386923058687, 0.8680386921941281, 0.94112186693094, 0.9639392613417015, 0.21645078639185153, 0.1236861636524866, 0.09276462273936495, 0.5565877364361896, 0.17332383568068205, 0.7510699546162889, 0.05777461189356068, 0.929915687164812, 0.632137997553089, 0.09250799964191546, 0.13876199946287318, 0.05653266644783722, 0.07195066638815646, 0.8675552543019142, 0.03385633654093171, 0.7448394039004975, 0.16928168270465854, 0.03385633654093171, 0.9484518425914794, 0.0458499031570677, 0.0916998063141354, 0.11462475789266925, 0.1833996126282708, 0.5501988378848124, 0.8295528046520478, 0.16055860735200925, 0.14542051254815108, 0.282762107732516, 0.34739344664280536, 0.09694700836543406, 0.13734159518436492, 0.9610246468210555, 0.9040167794205158, 0.099850619162446, 0.848730262880791, 0.961024646813141, 0.29488656146160447, 0.243848502747096, 0.32324103852522024, 0.06237984953995478, 0.06805074495267795, 0.3100874603140135, 0.6546290828851397, 0.020478710576827444, 0.88058455480358, 0.04095742115365489, 0.04095742115365489, 0.020478710576827444, 0.9544669990131975, 0.9299152757075608, 0.37592388213457484, 0.18412598308632236, 0.21481364693404276, 0.15343831923860196, 0.07416185429865761, 0.8623715575534575, 0.9602197801910605, 0.3407052178608191, 0.2824266937530474, 0.14345482857297648, 0.1255229750013544, 0.10759112142973234, 0.9390786796542835, 0.1001342563243547, 0.8010740505948376, 0.0545699101415433, 0.0727598801887244, 0.8731185622646928, 0.6113948563555626, 0.12900992381814622, 0.11779166957309004, 0.08974603396044954, 0.05048214410275287, 0.5134352950083774, 0.08214964720134037, 0.2019512160366284, 0.1300702747354556, 0.07188094130117283, 0.07124255820928134, 0.07124255820928134, 0.8549106985113761, 0.9499373511731278, 0.08316598455333489, 0.9148258300866838, 0.23319407667187764, 0.19079515364062716, 0.0706648717187508, 0.4310557174843799, 0.07773135889062588, 0.948447501622022, 0.4361482337080979, 0.1929859441186274, 0.15438875529490192, 0.17368734970676467, 0.04631662658847058, 0.3943674190706116, 0.49661082401484424, 0.0584248028252758, 0.04381860211895685, 0.22589531746855712, 0.7341597817728107, 0.4556875635803808, 0.10770796957354456, 0.20713071071835493, 0.14913411171721555, 0.07870967007297487, 0.9301253208263295, 0.867569955037649, 0.596911697200043, 0.030096388094119814, 0.09530522896471275, 0.14546587578824577, 0.13543374642353917, 0.5752112840267086, 0.19535477570718407, 0.10129506888520656, 0.06873593960067588, 0.06150057753744684, 0.1183689734729835, 0.2446292118441659, 0.18939035755677358, 0.15782529796397798, 0.28408553633516037, 0.9268735710418268, 0.054521974767166276, 0.22621757075258844, 0.7352071049459125, 0.40810905711775053, 0.15035596841180282, 0.11276697630885212, 0.26312294472065495, 0.059068416161779685], \"Topic\": [3, 4, 4, 3, 3, 1, 3, 4, 5, 4, 4, 2, 3, 2, 3, 1, 2, 3, 4, 5, 1, 2, 5, 1, 2, 5, 1, 2, 3, 4, 5, 1, 2, 3, 4, 5, 2, 1, 2, 3, 4, 5, 5, 1, 2, 3, 4, 5, 1, 2, 3, 4, 5, 1, 1, 2, 3, 4, 5, 1, 2, 3, 4, 5, 1, 2, 3, 4, 5, 1, 4, 1, 2, 3, 4, 5, 1, 3, 5, 2, 3, 5, 1, 2, 3, 4, 2, 4, 1, 2, 3, 1, 2, 3, 4, 1, 2, 3, 4, 5, 1, 3, 4, 3, 1, 4, 1, 2, 3, 4, 5, 2, 4, 1, 2, 4, 5, 5, 3, 4, 5, 1, 3, 1, 2, 3, 4, 5, 5, 1, 2, 4, 2, 3, 1, 2, 3, 4, 5, 2, 1, 2, 3, 4, 5, 1, 1, 2, 3, 4, 5, 1, 2, 3, 4, 5, 1, 2, 4, 5, 1, 2, 3, 4, 5, 3, 4, 5, 3, 1, 2, 3, 4, 5, 5, 4, 2, 5, 1, 2, 3, 4, 5, 1, 2, 3, 4, 5, 1, 2, 3, 4, 5, 2, 1, 2, 3, 4, 5, 2, 2, 5, 5, 1, 3, 4, 5, 5, 1, 1, 5, 2, 3, 4, 1, 2, 3, 4, 5, 1, 2, 3, 4, 5, 1, 2, 3, 4, 5, 1, 2, 3, 4, 5, 3, 1, 2, 3, 4, 5, 1, 2, 3, 4, 5, 1, 2, 4, 1, 2, 4, 1, 2, 3, 4, 5, 1, 2, 3, 4, 5, 1, 2, 3, 4, 5, 2, 1, 2, 3, 4, 5, 2, 4, 3, 4, 1, 2, 4, 5, 2, 1, 2, 3, 4, 5, 4, 5, 4, 4, 1, 1, 1, 2, 3, 4, 5, 1, 3, 1, 2, 3, 4, 5, 5, 1, 2, 3, 4, 5, 1, 2, 3, 4, 5, 1, 2, 3, 4, 5, 1, 2, 3, 4, 5, 1, 4, 5, 1, 2, 3, 5, 2, 2, 5, 5, 1, 2, 3, 4, 5, 1, 5, 2, 4, 5, 3, 2, 1, 2, 3, 4, 5, 4, 1, 2, 3, 4, 5, 1, 2, 3, 4, 5, 1, 2, 5, 1, 2, 3, 4, 5, 5, 4, 4, 3, 1, 2, 3, 4, 5, 1, 2, 5, 1, 2, 3, 4, 5, 1, 2, 3, 5, 4, 5, 1, 2, 3, 4, 5, 2, 4, 1, 2, 3, 4, 5, 1, 2, 3, 4, 5, 1, 2, 3, 4, 5, 4, 5, 5, 1, 5, 1, 2, 1, 2, 3, 3, 1, 5, 5, 2, 1, 2, 3, 4, 5, 1, 2, 3, 4, 5, 5, 1, 2, 3, 4, 5, 1, 1, 2, 3, 4, 5, 1, 1, 1, 2, 3, 4, 5, 1, 2, 3, 4, 5, 5, 2, 1, 2, 3, 4, 5, 1, 2, 3, 4, 5, 1, 3, 1, 2, 3, 4, 5, 1, 2, 3, 4, 5, 3, 4, 3, 1, 2, 3, 4, 5, 1, 2, 3, 4, 5, 4, 3, 1, 2, 4, 5, 1, 2, 3, 4, 5, 2, 2, 1, 2, 5, 1, 2, 3, 4, 5, 3, 1, 1, 2, 3, 4, 5, 2, 1, 2, 3, 4, 5, 1, 2, 3, 4, 5, 1, 2, 3, 4, 5, 1, 5, 3, 3, 1, 2, 3, 4, 1, 1, 2, 3, 4, 5, 2, 1, 1, 2, 3, 4, 5, 1, 3, 4, 1, 2, 3, 4, 5, 2, 1, 4, 1, 2, 3, 4, 1, 1, 1, 3, 5, 1, 1, 2, 3, 4, 5, 3, 3, 5, 2, 3, 1, 3, 2, 3, 5, 2, 1, 2, 3, 4, 5, 1, 2, 3, 1, 2, 2, 3, 1, 2, 1, 1, 4, 1, 3, 4, 5, 5, 4, 1, 3, 4, 1, 2, 1, 3, 1, 3, 1, 2, 3, 5, 1, 4, 3, 1, 2, 3, 4, 5, 1, 2, 3, 4, 5, 1, 1, 2, 3, 4, 5, 2, 3, 4, 5, 1, 2, 3, 4, 5, 3, 5, 1, 2, 3, 4, 5, 1, 2, 3, 4, 3, 5, 1, 2, 3, 4, 5, 3, 1, 2, 3, 4, 5, 1, 5, 4, 1, 3, 4, 1, 1, 4, 1, 2, 3, 4, 5, 1, 2, 3, 4, 5, 1, 5, 1, 2, 3, 4, 5, 1, 2, 3, 4, 5, 5, 1, 2, 3, 4, 5, 1, 2, 4, 5, 4, 4, 5, 4, 5, 1, 2, 3, 4, 5, 1, 2, 3, 4, 5, 1, 2, 3, 4, 5, 1, 2, 3, 4, 2, 1, 2, 3, 4, 5, 5, 2, 3, 5, 2, 3, 3, 3, 4, 2, 1, 2, 3, 4, 2, 4, 5, 3, 1, 2, 3, 4, 5, 2, 1, 2, 3, 4, 1, 1, 2, 3, 4, 5, 1, 5, 1, 2, 3, 4, 5, 4, 3, 2, 4, 4, 1, 2, 3, 4, 5, 2, 5, 1, 2, 3, 4, 5, 2, 3, 1, 2, 3, 4, 5, 5, 1, 1, 2, 3, 4, 5, 5, 1, 5, 3, 4, 5, 1, 2, 3, 4, 5, 1, 2, 3, 4, 5, 1, 4, 5, 1, 1, 2, 1, 2, 3, 4, 5, 1, 1, 2, 3, 4, 5, 1, 3, 4, 5, 1, 3, 1, 2, 3, 4, 5, 3, 2, 1, 2, 3, 4, 5, 1, 2, 3, 4, 5, 1, 2, 3, 4, 5, 1, 3, 1, 3, 1, 2, 3, 4, 5]}};\n",
       "\n",
       "function LDAvis_load_lib(url, callback){\n",
       "  var s = document.createElement('script');\n",
       "  s.src = url;\n",
       "  s.async = true;\n",
       "  s.onreadystatechange = s.onload = callback;\n",
       "  s.onerror = function(){console.warn(\"failed to load library \" + url);};\n",
       "  document.getElementsByTagName(\"head\")[0].appendChild(s);\n",
       "}\n",
       "\n",
       "if(typeof(LDAvis) !== \"undefined\"){\n",
       "   // already loaded: just create the visualization\n",
       "   !function(LDAvis){\n",
       "       new LDAvis(\"#\" + \"ldavis_el112971398984814426323479028016\", ldavis_el112971398984814426323479028016_data);\n",
       "   }(LDAvis);\n",
       "}else if(typeof define === \"function\" && define.amd){\n",
       "   // require.js is available: use it to load d3/LDAvis\n",
       "   require.config({paths: {d3: \"https://cdnjs.cloudflare.com/ajax/libs/d3/3.5.5/d3.min\"}});\n",
       "   require([\"d3\"], function(d3){\n",
       "      window.d3 = d3;\n",
       "      LDAvis_load_lib(\"https://cdn.rawgit.com/bmabey/pyLDAvis/files/ldavis.v1.0.0.js\", function(){\n",
       "        new LDAvis(\"#\" + \"ldavis_el112971398984814426323479028016\", ldavis_el112971398984814426323479028016_data);\n",
       "      });\n",
       "    });\n",
       "}else{\n",
       "    // require.js not available: dynamically load d3 & LDAvis\n",
       "    LDAvis_load_lib(\"https://cdnjs.cloudflare.com/ajax/libs/d3/3.5.5/d3.min.js\", function(){\n",
       "         LDAvis_load_lib(\"https://cdn.rawgit.com/bmabey/pyLDAvis/files/ldavis.v1.0.0.js\", function(){\n",
       "                 new LDAvis(\"#\" + \"ldavis_el112971398984814426323479028016\", ldavis_el112971398984814426323479028016_data);\n",
       "            })\n",
       "         });\n",
       "}\n",
       "</script>"
      ],
      "text/plain": [
       "PreparedData(topic_coordinates=            Freq  cluster  topics         x         y\n",
       "topic                                                \n",
       "1      39.412914        1       1 -0.019557  0.036125\n",
       "3      17.631621        1       2  0.012200 -0.105106\n",
       "0      16.307812        1       3 -0.034864  0.048900\n",
       "2      14.322732        1       4 -0.060858 -0.009905\n",
       "4      12.324921        1       5  0.103079  0.029985, topic_info=     Category        Freq     Term       Total  loglift  logprob\n",
       "term                                                            \n",
       "3717  Default  339.000000   famili  339.000000  30.0000  30.0000\n",
       "5488  Default  108.000000    shark  108.000000  29.0000  29.0000\n",
       "5355  Default  196.000000  soldier  196.000000  28.0000  28.0000\n",
       "5963  Default  111.000000     boat  111.000000  27.0000  27.0000\n",
       "3901  Default   61.000000    bridg   61.000000  26.0000  26.0000\n",
       "531   Default   54.000000     vote   54.000000  25.0000  25.0000\n",
       "5716  Default  166.000000      son  166.000000  24.0000  24.0000\n",
       "5768  Default   52.000000   guilti   52.000000  23.0000  23.0000\n",
       "1303  Default  193.000000    marri  193.000000  22.0000  22.0000\n",
       "7481  Default  127.000000  command  127.000000  21.0000  21.0000\n",
       "4804  Default  269.000000    offic  269.000000  20.0000  20.0000\n",
       "7388  Default  141.000000    water  141.000000  19.0000  19.0000\n",
       "7027  Default   81.000000   parent   81.000000  18.0000  18.0000\n",
       "5923  Default  133.000000     ship  133.000000  17.0000  17.0000\n",
       "5624  Default   47.000000  patient   47.000000  16.0000  16.0000\n",
       "2181  Default   98.000000     camp   98.000000  15.0000  15.0000\n",
       "4442  Default  594.000000     kill  594.000000  14.0000  14.0000\n",
       "6693  Default  297.000000    order  297.000000  13.0000  13.0000\n",
       "1908  Default  104.000000     sing  104.000000  12.0000  12.0000\n",
       "918   Default  404.000000     home  404.000000  11.0000  11.0000\n",
       "7636  Default  261.000000    polic  261.000000  10.0000  10.0000\n",
       "1095  Default  105.000000   hospit  105.000000   9.0000   9.0000\n",
       "1269  Default   48.000000    tribe   48.000000   8.0000   8.0000\n",
       "2950  Default   89.000000  perform   89.000000   7.0000   7.0000\n",
       "7477  Default  318.000000      men  318.000000   6.0000   6.0000\n",
       "8045  Default  247.000000      die  247.000000   5.0000   5.0000\n",
       "1315  Default   81.000000   affair   81.000000   4.0000   4.0000\n",
       "7786  Default   28.000000    juror   28.000000   3.0000   3.0000\n",
       "6525  Default   37.000000  platoon   37.000000   2.0000   2.0000\n",
       "3822  Default   35.000000      pod   35.000000   1.0000   1.0000\n",
       "...       ...         ...      ...         ...      ...      ...\n",
       "255    Topic5   27.184359    enemi   54.622276   1.3957  -6.2747\n",
       "1095   Topic5   41.348409   hospit  105.322474   1.1586  -5.8553\n",
       "1625   Topic5   23.504701     song   47.934599   1.3809  -6.4201\n",
       "2950   Topic5   34.403949  perform   89.451750   1.1380  -6.0391\n",
       "904    Topic5   12.768118  concert   19.043510   1.6938  -7.0304\n",
       "7481   Topic5   37.981957  command  127.990935   0.8787  -5.9402\n",
       "1763   Topic5   36.426497    wound  126.722397   0.8468  -5.9820\n",
       "6693   Topic5   56.307976    order  297.278122   0.4297  -5.5465\n",
       "2348   Topic5   30.750169      boy   94.718546   0.9685  -6.1514\n",
       "1876   Topic5   33.468671    group  111.683884   0.8885  -6.0667\n",
       "4442   Topic5   77.754866     kill  594.000060   0.0602  -5.2237\n",
       "5251   Topic5   55.025319       go  403.419232   0.1014  -5.5695\n",
       "7477   Topic5   48.941848      men  318.942136   0.2192  -5.6867\n",
       "6573   Topic5   50.646588      day  354.884763   0.1466  -5.6524\n",
       "308    Topic5   48.245858    arriv  377.818987   0.0354  -5.7010\n",
       "2186   Topic5   46.274838    night  348.810176   0.0736  -5.7427\n",
       "7982   Topic5   44.975134     call  336.996006   0.0796  -5.7712\n",
       "1633   Topic5   34.092792   appear  161.071179   0.5408  -6.0482\n",
       "1426   Topic5   41.469191      run  321.632355   0.0451  -5.8524\n",
       "1634   Topic5   36.924023   discov  226.031966   0.2817  -5.9684\n",
       "7838   Topic5   37.197877    escap  231.960301   0.2632  -5.9611\n",
       "5380   Topic5   41.530145      n't  381.355966  -0.1238  -5.8509\n",
       "4858   Topic5   39.028423    first  299.815988   0.0547  -5.9130\n",
       "6092   Topic5   37.162922    becom  275.792492   0.0892  -5.9620\n",
       "1451   Topic5   34.274225     room  200.835808   0.3255  -6.0429\n",
       "1958   Topic5   34.625124     show  223.939911   0.2267  -6.0327\n",
       "3333   Topic5   35.384514      doe  297.339471  -0.0351  -6.0110\n",
       "5571   Topic5   35.372784     away  302.684567  -0.0532  -6.0114\n",
       "1083   Topic5   36.054523   friend  405.598555  -0.3268  -5.9923\n",
       "7081   Topic5   33.617583     name  269.375667   0.0125  -6.0623\n",
       "\n",
       "[431 rows x 6 columns], token_table=      Topic      Freq      Term\n",
       "term                           \n",
       "4821      3  0.949342     101st\n",
       "1951      4  0.854445       9th\n",
       "7229      4  0.854449     abbey\n",
       "591       3  0.929916     acced\n",
       "2884      3  0.868039    accent\n",
       "1315      1  0.232389    affair\n",
       "1315      3  0.538163    affair\n",
       "1315      4  0.183465    affair\n",
       "1315      5  0.036693    affair\n",
       "4274      4  0.961025  afterlif\n",
       "1089      4  0.854449        ai\n",
       "5566      2  0.936737  aircraft\n",
       "5566      3  0.049302  aircraft\n",
       "679       2  0.716002     alien\n",
       "679       3  0.260364     alien\n",
       "6830      1  0.487887      also\n",
       "6830      2  0.153336      also\n",
       "6830      3  0.153336      also\n",
       "6830      4  0.101062      also\n",
       "6830      5  0.104547      also\n",
       "8002      1  0.129239   ancient\n",
       "8002      2  0.064619   ancient\n",
       "8002      5  0.775431   ancient\n",
       "6012      1  0.040227     angel\n",
       "6012      2  0.764312     angel\n",
       "6012      5  0.160908     angel\n",
       "3344      1  0.562938     anoth\n",
       "3344      2  0.166797     anoth\n",
       "3344      3  0.109460     anoth\n",
       "3344      4  0.046912     anoth\n",
       "...     ...       ...       ...\n",
       "2237      2  0.107708      wife\n",
       "2237      3  0.207131      wife\n",
       "2237      4  0.149134      wife\n",
       "2237      5  0.078710      wife\n",
       "6404      3  0.930125     witch\n",
       "4291      2  0.867570      wolf\n",
       "4148      1  0.596912     woman\n",
       "4148      2  0.030096     woman\n",
       "4148      3  0.095305     woman\n",
       "4148      4  0.145466     woman\n",
       "4148      5  0.135434     woman\n",
       "2472      1  0.575211      work\n",
       "2472      2  0.195355      work\n",
       "2472      3  0.101295      work\n",
       "2472      4  0.068736      work\n",
       "2472      5  0.061501      work\n",
       "1763      1  0.118369     wound\n",
       "1763      2  0.244629     wound\n",
       "1763      3  0.189390     wound\n",
       "1763      4  0.157825     wound\n",
       "1763      5  0.284086     wound\n",
       "1737      1  0.926874   written\n",
       "1737      3  0.054522   written\n",
       "7439      1  0.226218     yacht\n",
       "7439      3  0.735207     yacht\n",
       "2071      1  0.408109      year\n",
       "2071      2  0.150356      year\n",
       "2071      3  0.112767      year\n",
       "2071      4  0.263123      year\n",
       "2071      5  0.059068      year\n",
       "\n",
       "[906 rows x 3 columns], R=30, lambda_step=0.01, plot_opts={'ylab': 'PC2', 'xlab': 'PC1'}, topic_order=[2, 4, 1, 3, 5])"
      ]
     },
     "execution_count": 45,
     "metadata": {},
     "output_type": "execute_result"
    }
   ],
   "source": [
    "pyLDAvis.enable_notebook()\n",
    "pyLDAvis.gensim.prepare(lda, corpus, dictionary)"
   ]
  }
 ],
 "metadata": {
  "kernelspec": {
   "display_name": "Python 3",
   "language": "python",
   "name": "python3"
  },
  "language_info": {
   "codemirror_mode": {
    "name": "ipython",
    "version": 3
   },
   "file_extension": ".py",
   "mimetype": "text/x-python",
   "name": "python",
   "nbconvert_exporter": "python",
   "pygments_lexer": "ipython3",
   "version": "3.5.2"
  }
 },
 "nbformat": 4,
 "nbformat_minor": 0
}
