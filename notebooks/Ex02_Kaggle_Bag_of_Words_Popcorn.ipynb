{
 "cells": [
  {
   "cell_type": "markdown",
   "metadata": {
    "collapsed": true,
    "deletable": true,
    "editable": true
   },
   "source": [
    "## Google's Word2Vec for movie reviews"
   ]
  },
  {
   "cell_type": "markdown",
   "metadata": {
    "deletable": true,
    "editable": true
   },
   "source": [
    "https://www.kaggle.com/c/word2vec-nlp-tutorial  \n",
    "https://github.com/wendykan/DeepLearningMovies  \n",
    "http://fastml.com/classifying-text-with-bag-of-words-a-tutorial/  \n",
    "\n",
    "\n",
    "In this tutorial competition, we dig a little \"deeper\" into sentiment analysis. Google's Word2Vec is a deep-learning inspired method that focuses on the meaning of words. Word2Vec attempts to understand meaning and semantic relationships among words. It works in a way that is similar to deep approaches, such as recurrent neural nets or deep neural nets, but is computationally more efficient. This tutorial focuses on Word2Vec for sentiment analysis.\n",
    "\n",
    "Sentiment analysis is a challenging subject in machine learning. People express their emotions in language that is often obscured by sarcasm, ambiguity, and plays on words, all of which could be very misleading for both humans and computers. There's another Kaggle competition for movie review sentiment analysis. In this tutorial we explore how Word2Vec can be applied to a similar problem.\n",
    "\n",
    "Deep learning has been in the news a lot over the past few years, even making it to the front page of the New York Times. These machine learning techniques, inspired by the architecture of the human brain and made possible by recent advances in computing power, have been making waves via breakthrough results in image recognition, speech processing, and natural language tasks. Recently, deep learning approaches won several Kaggle competitions, including a drug discovery task, and cat and dog image recognition."
   ]
  },
  {
   "cell_type": "markdown",
   "metadata": {
    "deletable": true,
    "editable": true
   },
   "source": [
    "#### Let's charge the batteries for our analysis..."
   ]
  },
  {
   "cell_type": "code",
   "execution_count": 29,
   "metadata": {
    "collapsed": false,
    "deletable": true,
    "editable": true
   },
   "outputs": [],
   "source": [
    "import os\n",
    "import sys\n",
    "import time\n",
    "import re\n",
    "import pickle\n",
    "import logging\n",
    "import string\n",
    "\n",
    "import pandas as pd\n",
    "import numpy as np\n",
    "import pylab\n",
    "import matplotlib\n",
    "import matplotlib.pyplot as plt\n",
    "from matplotlib.font_manager import FontProperties\n",
    "\n",
    "import nltk\n",
    "import nltk.data\n",
    "from nltk.corpus import stopwords\n",
    "from nltk import word_tokenize\n",
    "from nltk.stem.porter import PorterStemmer\n",
    "\n",
    "from sklearn import model_selection\n",
    "from sklearn.feature_extraction.text import CountVectorizer\n",
    "from sklearn.feature_extraction.text import TfidfVectorizer \n",
    "from sklearn.cluster import KMeans\n",
    "from sklearn.metrics import roc_auc_score as AUC\n",
    "\n",
    "import gensim\n",
    "from gensim import corpora\n",
    "from gensim import models\n",
    "from gensim import similarities\n",
    "from gensim.models import Word2Vec\n",
    "\n",
    "from bs4 import BeautifulSoup\n",
    "\n",
    "%matplotlib inline"
   ]
  },
  {
   "cell_type": "code",
   "execution_count": 2,
   "metadata": {
    "collapsed": true,
    "deletable": true,
    "editable": true
   },
   "outputs": [],
   "source": [
    "import warnings\n",
    "warnings.filterwarnings('ignore')"
   ]
  },
  {
   "cell_type": "markdown",
   "metadata": {
    "deletable": true,
    "editable": true
   },
   "source": [
    "Data Set  \n",
    "--\n",
    "\n",
    "The labeled data set consists of 50,000 IMDB movie reviews, specially selected for sentiment analysis. The sentiment of reviews is binary, meaning the IMDB rating < 5 results in a sentiment score of 0, and rating >=7 have a sentiment score of 1. No individual movie has more than 30 reviews. The 25,000 review labeled training set does not include any of the same movies as the 25,000 review test set. In addition, there are another 50,000 IMDB reviews provided without any rating labels.\n",
    "\n",
    "File descriptions\n",
    "\n",
    "labeledTrainData - The labeled training set. The file is tab-delimited and has a header row followed by 25,000 rows containing an id, sentiment, and text for each review.  \n",
    "\n",
    "testData - The test set. The tab-delimited file has a header row followed by 25,000 rows containing an id and text for each review. Your task is to predict the sentiment for each one. \n",
    "\n",
    "unlabeledTrainData - An extra training set with no labels. The tab-delimited file has a header row followed by 50,000 rows containing an id and text for each review. \n",
    "\n",
    "sampleSubmission - A comma-delimited sample submission file in the correct format.\n",
    "Data fields\n",
    "\n",
    "id - Unique ID of each review  \n",
    "sentiment - Sentiment of the review; 1 for positive reviews and 0 for negative reviews  \n",
    "review - Text of the review  "
   ]
  },
  {
   "cell_type": "markdown",
   "metadata": {
    "deletable": true,
    "editable": true
   },
   "source": [
    "Loading the dataset:  \n",
    "--"
   ]
  },
  {
   "cell_type": "code",
   "execution_count": 3,
   "metadata": {
    "collapsed": false,
    "deletable": true,
    "editable": true
   },
   "outputs": [],
   "source": [
    "datapath = \"../datasets/Kaggle/\"\n",
    "outputs = \"../outputs/\""
   ]
  },
  {
   "cell_type": "code",
   "execution_count": 4,
   "metadata": {
    "collapsed": false,
    "deletable": true,
    "editable": true
   },
   "outputs": [],
   "source": [
    "train = pd.read_csv(os.path.join(datapath, 'BOW_labeledTrainData.tsv'), header=0, delimiter=\"\\t\", quoting=3)\n",
    "test = pd.read_csv(os.path.join(datapath, 'BOW_testData.tsv'), header=0, delimiter=\"\\t\", quoting=3)\n",
    "unlabeled_train = pd.read_csv(os.path.join(datapath, \"BOW_unlabeledTrainData.tsv\"), header=0, delimiter=\"\\t\", quoting=3)"
   ]
  },
  {
   "cell_type": "code",
   "execution_count": 5,
   "metadata": {
    "collapsed": false,
    "deletable": true,
    "editable": true
   },
   "outputs": [
    {
     "name": "stdout",
     "output_type": "stream",
     "text": [
      "Read 25000 labeled train reviews, 25000 labeled test reviews, and 50000 unlabeled reviews\n",
      "\n"
     ]
    }
   ],
   "source": [
    "print(\"Read {} labeled train reviews, \\\n",
    "{} labeled test reviews, and \\\n",
    "{} unlabeled reviews\\n\".format(train[\"review\"].size,\n",
    "                               test[\"review\"].size,\n",
    "                               unlabeled_train[\"review\"].size))"
   ]
  },
  {
   "cell_type": "code",
   "execution_count": 6,
   "metadata": {
    "collapsed": false,
    "deletable": true,
    "editable": true
   },
   "outputs": [
    {
     "data": {
      "text/html": [
       "<div>\n",
       "<table border=\"1\" class=\"dataframe\">\n",
       "  <thead>\n",
       "    <tr style=\"text-align: right;\">\n",
       "      <th></th>\n",
       "      <th>id</th>\n",
       "      <th>sentiment</th>\n",
       "      <th>review</th>\n",
       "    </tr>\n",
       "  </thead>\n",
       "  <tbody>\n",
       "    <tr>\n",
       "      <th>0</th>\n",
       "      <td>\"5814_8\"</td>\n",
       "      <td>1</td>\n",
       "      <td>\"With all this stuff going down at the moment ...</td>\n",
       "    </tr>\n",
       "    <tr>\n",
       "      <th>1</th>\n",
       "      <td>\"2381_9\"</td>\n",
       "      <td>1</td>\n",
       "      <td>\"\\\"The Classic War of the Worlds\\\" by Timothy ...</td>\n",
       "    </tr>\n",
       "    <tr>\n",
       "      <th>2</th>\n",
       "      <td>\"7759_3\"</td>\n",
       "      <td>0</td>\n",
       "      <td>\"The film starts with a manager (Nicholas Bell...</td>\n",
       "    </tr>\n",
       "    <tr>\n",
       "      <th>3</th>\n",
       "      <td>\"3630_4\"</td>\n",
       "      <td>0</td>\n",
       "      <td>\"It must be assumed that those who praised thi...</td>\n",
       "    </tr>\n",
       "    <tr>\n",
       "      <th>4</th>\n",
       "      <td>\"9495_8\"</td>\n",
       "      <td>1</td>\n",
       "      <td>\"Superbly trashy and wondrously unpretentious ...</td>\n",
       "    </tr>\n",
       "  </tbody>\n",
       "</table>\n",
       "</div>"
      ],
      "text/plain": [
       "         id  sentiment                                             review\n",
       "0  \"5814_8\"          1  \"With all this stuff going down at the moment ...\n",
       "1  \"2381_9\"          1  \"\\\"The Classic War of the Worlds\\\" by Timothy ...\n",
       "2  \"7759_3\"          0  \"The film starts with a manager (Nicholas Bell...\n",
       "3  \"3630_4\"          0  \"It must be assumed that those who praised thi...\n",
       "4  \"9495_8\"          1  \"Superbly trashy and wondrously unpretentious ..."
      ]
     },
     "execution_count": 6,
     "metadata": {},
     "output_type": "execute_result"
    }
   ],
   "source": [
    "train.head()"
   ]
  },
  {
   "cell_type": "code",
   "execution_count": 7,
   "metadata": {
    "collapsed": false,
    "deletable": true,
    "editable": true
   },
   "outputs": [
    {
     "name": "stdout",
     "output_type": "stream",
     "text": [
      "<class 'pandas.core.frame.DataFrame'>\n",
      "RangeIndex: 25000 entries, 0 to 24999\n",
      "Data columns (total 3 columns):\n",
      "id           25000 non-null object\n",
      "sentiment    25000 non-null int64\n",
      "review       25000 non-null object\n",
      "dtypes: int64(1), object(2)\n",
      "memory usage: 586.0+ KB\n"
     ]
    }
   ],
   "source": [
    "train.info()"
   ]
  },
  {
   "cell_type": "code",
   "execution_count": 8,
   "metadata": {
    "collapsed": false,
    "deletable": true,
    "editable": true
   },
   "outputs": [
    {
     "data": {
      "text/html": [
       "<div>\n",
       "<table border=\"1\" class=\"dataframe\">\n",
       "  <thead>\n",
       "    <tr style=\"text-align: right;\">\n",
       "      <th></th>\n",
       "      <th>sentiment</th>\n",
       "    </tr>\n",
       "  </thead>\n",
       "  <tbody>\n",
       "    <tr>\n",
       "      <th>count</th>\n",
       "      <td>25000.00000</td>\n",
       "    </tr>\n",
       "    <tr>\n",
       "      <th>mean</th>\n",
       "      <td>0.50000</td>\n",
       "    </tr>\n",
       "    <tr>\n",
       "      <th>std</th>\n",
       "      <td>0.50001</td>\n",
       "    </tr>\n",
       "    <tr>\n",
       "      <th>min</th>\n",
       "      <td>0.00000</td>\n",
       "    </tr>\n",
       "    <tr>\n",
       "      <th>25%</th>\n",
       "      <td>0.00000</td>\n",
       "    </tr>\n",
       "    <tr>\n",
       "      <th>50%</th>\n",
       "      <td>0.50000</td>\n",
       "    </tr>\n",
       "    <tr>\n",
       "      <th>75%</th>\n",
       "      <td>1.00000</td>\n",
       "    </tr>\n",
       "    <tr>\n",
       "      <th>max</th>\n",
       "      <td>1.00000</td>\n",
       "    </tr>\n",
       "  </tbody>\n",
       "</table>\n",
       "</div>"
      ],
      "text/plain": [
       "         sentiment\n",
       "count  25000.00000\n",
       "mean       0.50000\n",
       "std        0.50001\n",
       "min        0.00000\n",
       "25%        0.00000\n",
       "50%        0.50000\n",
       "75%        1.00000\n",
       "max        1.00000"
      ]
     },
     "execution_count": 8,
     "metadata": {},
     "output_type": "execute_result"
    }
   ],
   "source": [
    "train.describe()"
   ]
  },
  {
   "cell_type": "markdown",
   "metadata": {
    "deletable": true,
    "editable": true
   },
   "source": [
    "Part 1: For Beginners - Bag of Words\n",
    "--\n",
    "https://www.kaggle.com/c/word2vec-nlp-tutorial/details/part-1-for-beginners-bag-of-words  \n",
    "\n",
    "What is NLP?\n",
    "\n",
    "NLP (Natural Language Processing) is a set of techniques for approaching text problems. This page will help you get started with loading and cleaning the IMDB movie reviews, then applying a simple Bag of Words model to get surprisingly accurate predictions of whether a review is thumbs-up or thumbs-down."
   ]
  },
  {
   "cell_type": "code",
   "execution_count": 9,
   "metadata": {
    "collapsed": false,
    "deletable": true,
    "editable": true
   },
   "outputs": [],
   "source": [
    "class Text_Cleaning_Utilities(object):\n",
    "    \"\"\"Tools for processing text into segments for further learning\"\"\"\n",
    "\n",
    "    @staticmethod\n",
    "    def text_to_wordlist(text, \n",
    "                         remove_stopwords=False, \n",
    "                         remove_html=False, \n",
    "                         remove_non_letters=False, \n",
    "                         steeming=False):\n",
    "        '''Split a text into a list of words'''\n",
    "        #text = text.replace('-\\n','')\n",
    "        text = text.lower()\n",
    "        if remove_html:\n",
    "            text = BeautifulSoup(text, \"html5lib\").get_text()\n",
    "        if remove_non_letters:\n",
    "            text = re.sub(\"[^-A-Za-z0-9_]\", \" \", text)\n",
    "        list_words = word_tokenize(text)\n",
    "        list_words = [w.strip(string.punctuation) for w in list_words if w not in string.punctuation]\n",
    "        list_words = [w for w in list_words if len(w) > 1]\n",
    "        if remove_stopwords:\n",
    "            stops = set(stopwords.words(\"english\"))\n",
    "            list_words = [w for w in list_words if w not in stops]\n",
    "        if steeming:\n",
    "            stemmer = PorterStemmer()\n",
    "            list_words = [stemmer.stem(item) for item in list_words]\n",
    "        return list_words\n",
    "    \n",
    "    @staticmethod\n",
    "    def df_to_list_of_texts(dataframe, column, \n",
    "                            remove_stopwords=False, \n",
    "                            remove_html=False, \n",
    "                            remove_non_letters=False, \n",
    "                            steeming=False):\n",
    "        clean_texts = []\n",
    "        for txt_id in range(len(dataframe[column])):\n",
    "            clean_texts.append(' '.join(Text_Cleaning_Utilities.text_to_wordlist(dataframe[column][txt_id],\n",
    "                                                                                 remove_stopwords=remove_stopwords,\n",
    "                                                                                 remove_html=remove_html,\n",
    "                                                                                 remove_non_letters=remove_non_letters,\n",
    "                                                                                 steeming=steeming)))\n",
    "            \n",
    "        return clean_texts\n",
    "\n",
    "    @staticmethod\n",
    "    def df_to_list_of_tokens(dataframe, column, \n",
    "                             remove_stopwords=False, \n",
    "                             remove_html=False, \n",
    "                             remove_non_letters=False, \n",
    "                             steeming=False):\n",
    "        clean_texts = []\n",
    "        for txt_id in range(len(dataframe[column])):\n",
    "            clean_texts.append(Text_Cleaning_Utilities.text_to_wordlist(dataframe[column][txt_id],\n",
    "                                                                        remove_stopwords=remove_stopwords,\n",
    "                                                                        remove_html=remove_html,\n",
    "                                                                        remove_non_letters=remove_non_letters,\n",
    "                                                                        steeming=steeming))\n",
    "            \n",
    "        return clean_texts"
   ]
  },
  {
   "cell_type": "markdown",
   "metadata": {
    "deletable": true,
    "editable": true
   },
   "source": [
    "Cleaning all the datasets and getting word lists\n",
    "--\n",
    "first set is without stopwords"
   ]
  },
  {
   "cell_type": "code",
   "execution_count": 10,
   "metadata": {
    "collapsed": false,
    "deletable": true,
    "editable": true
   },
   "outputs": [],
   "source": [
    "clean_train_reviews = Text_Cleaning_Utilities.df_to_list_of_texts(train, \n",
    "                                                                  'review', \n",
    "                                                                  remove_stopwords=True,\n",
    "                                                                  remove_html=True,)\n",
    "clean_test_reviews = Text_Cleaning_Utilities.df_to_list_of_texts(test, \n",
    "                                                                 'review', \n",
    "                                                                 remove_stopwords=True,\n",
    "                                                                 remove_html=True,)"
   ]
  },
  {
   "cell_type": "code",
   "execution_count": 11,
   "metadata": {
    "collapsed": false,
    "deletable": true,
    "editable": true
   },
   "outputs": [
    {
     "data": {
      "text/plain": [
       "'stuff going moment mj started listening music watching odd documentary watched w'"
      ]
     },
     "execution_count": 11,
     "metadata": {},
     "output_type": "execute_result"
    }
   ],
   "source": [
    "clean_train_reviews[0][0:80]"
   ]
  },
  {
   "cell_type": "code",
   "execution_count": 12,
   "metadata": {
    "collapsed": false,
    "deletable": true,
    "editable": true
   },
   "outputs": [
    {
     "data": {
      "text/plain": [
       "'naturally film main themes mortality nostalgia loss innocence perhaps surprising'"
      ]
     },
     "execution_count": 12,
     "metadata": {},
     "output_type": "execute_result"
    }
   ],
   "source": [
    "clean_test_reviews[0][0:80]"
   ]
  },
  {
   "cell_type": "markdown",
   "metadata": {
    "deletable": true,
    "editable": true
   },
   "source": [
    "Second set mantains stopwords"
   ]
  },
  {
   "cell_type": "code",
   "execution_count": 13,
   "metadata": {
    "collapsed": false,
    "deletable": true,
    "editable": true
   },
   "outputs": [],
   "source": [
    "clean_train_reviews_sw = Text_Cleaning_Utilities.df_to_list_of_texts(train, \n",
    "                                                                     'review',\n",
    "                                                                     remove_html=True,)\n",
    "\n",
    "clean_test_reviews_sw = Text_Cleaning_Utilities.df_to_list_of_texts(test, \n",
    "                                                                    'review',\n",
    "                                                                    remove_html=True,)"
   ]
  },
  {
   "cell_type": "code",
   "execution_count": 14,
   "metadata": {
    "collapsed": false,
    "deletable": true,
    "editable": true
   },
   "outputs": [
    {
     "data": {
      "text/plain": [
       "'with all this stuff going down at the moment with mj ve started listening to his'"
      ]
     },
     "execution_count": 14,
     "metadata": {},
     "output_type": "execute_result"
    }
   ],
   "source": [
    "clean_train_reviews_sw[0][0:80]"
   ]
  },
  {
   "cell_type": "code",
   "execution_count": 15,
   "metadata": {
    "collapsed": false,
    "deletable": true,
    "editable": true
   },
   "outputs": [
    {
     "data": {
      "text/plain": [
       "'naturally in film who main themes are of mortality nostalgia and loss of innocen'"
      ]
     },
     "execution_count": 15,
     "metadata": {},
     "output_type": "execute_result"
    }
   ],
   "source": [
    "clean_test_reviews_sw[0][0:80]"
   ]
  },
  {
   "cell_type": "markdown",
   "metadata": {
    "collapsed": false,
    "deletable": true,
    "editable": true
   },
   "source": [
    "Saving Pickle"
   ]
  },
  {
   "cell_type": "code",
   "execution_count": 17,
   "metadata": {
    "collapsed": false,
    "deletable": true,
    "editable": true
   },
   "outputs": [],
   "source": [
    "with open(os.path.join(outputs, 'clean_reviews.pkl'),'wb') as f:\n",
    "    pickle.dump((clean_train_reviews, \n",
    "                 clean_test_reviews,\n",
    "                 clean_train_reviews_sw, \n",
    "                 clean_test_reviews_sw),f)"
   ]
  },
  {
   "cell_type": "markdown",
   "metadata": {
    "deletable": true,
    "editable": true
   },
   "source": [
    "Loading Pickle  "
   ]
  },
  {
   "cell_type": "code",
   "execution_count": 18,
   "metadata": {
    "collapsed": false,
    "deletable": true,
    "editable": true
   },
   "outputs": [],
   "source": [
    "with open(os.path.join(outputs, 'clean_reviews.pkl'),'rb') as f:\n",
    "    (clean_train_reviews, \n",
    "     clean_test_reviews,\n",
    "     clean_train_reviews_sw,\n",
    "     clean_test_reviews_sw) = pickle.load(f)"
   ]
  },
  {
   "cell_type": "markdown",
   "metadata": {
    "deletable": true,
    "editable": true
   },
   "source": [
    "Creating Features from a Bag of Words (Using scikit-learn)\n",
    "--\n",
    "\n",
    "Now that we have our training reviews tidied up, how do we convert them to some kind of numeric representation for machine learning? One common approach is called a Bag of Words. The Bag of Words model learns a vocabulary from all of the documents, then models each document by counting the number of times each word appears. For example, consider the following two sentences:\n",
    "\n",
    "Sentence 1: \"The cat sat on the hat\"  \n",
    "Sentence 2: \"The dog ate the cat and the hat\"  \n",
    "\n",
    "From these two sentences, our vocabulary is as follows:\n",
    "\n",
    "{ the, cat, sat, on, hat, dog, ate, and }\n",
    "\n",
    "To get our bags of words, we count the number of times each word occurs in each sentence. In Sentence 1, \"the\" appears twice, and \"cat\", \"sat\", \"on\", and \"hat\" each appear once, so the feature vector for Sentence 1 is:\n",
    "\n",
    "{ the, cat, sat, on, hat, dog, ate, and }\n",
    "\n",
    "Sentence 1: [ 2, 1, 1, 1, 1, 0, 0, 0 ]\n",
    "\n",
    "Similarly, the features for Sentence 2 are: [ 3, 1, 0, 0, 1, 1, 1, 1]\n",
    "\n",
    "In the IMDB data, we have a very large number of reviews, which will give us a large vocabulary. To limit the size of the feature vectors, we should choose some maximum vocabulary size. Below, we use the 5000 most frequent words (remembering that stop words have already been removed).\n",
    "\n",
    "We'll be using the feature_extraction module from scikit-learn to create bag-of-words features.  \n",
    "We will test two strategies: CountVectorizer (term frequecies - TF) and TFIDF Vectorizer:  \n",
    "First we'll start with plain word counts (TF):  "
   ]
  },
  {
   "cell_type": "code",
   "execution_count": 19,
   "metadata": {
    "collapsed": false,
    "deletable": true,
    "editable": true
   },
   "outputs": [],
   "source": [
    "# Initialize the \"CountVectorizer\" object, which is scikit-learn's bag of words tool.\n",
    "#http://scikit-learn.org/stable/modules/generated/sklearn.feature_extraction.text.CountVectorizer.html\n",
    "vectorizer_tf = CountVectorizer(input='content', \n",
    "                               encoding='utf-8', \n",
    "                               decode_error='strict', \n",
    "                               strip_accents=None, \n",
    "                               lowercase=True, \n",
    "                               preprocessor=None, \n",
    "                               tokenizer=None, \n",
    "                               stop_words=None, \n",
    "                               #token_pattern='(?u)\\b\\w\\w+\\b',\n",
    "                               ngram_range=(1, 2),\n",
    "                               analyzer='word', \n",
    "                               max_df=1.0, \n",
    "                               min_df=1, \n",
    "                               max_features=5000, \n",
    "                               vocabulary=None, \n",
    "                               binary=False, \n",
    "                               dtype=np.int64,\n",
    "                              )"
   ]
  },
  {
   "cell_type": "markdown",
   "metadata": {
    "deletable": true,
    "editable": true
   },
   "source": [
    "Fit_transform() does two functions: First, it fits the model and learns the vocabulary; \n",
    "second, it transforms our training data into feature vectors. \n",
    "The input to fit_transform should be a list of strings."
   ]
  },
  {
   "cell_type": "code",
   "execution_count": 20,
   "metadata": {
    "collapsed": false,
    "deletable": true,
    "editable": true
   },
   "outputs": [
    {
     "name": "stdout",
     "output_type": "stream",
     "text": [
      "(25000, 5000)\n"
     ]
    }
   ],
   "source": [
    "train_data_features_tf = vectorizer_tf.fit_transform(clean_train_reviews)\n",
    "train_data_features_tf = train_data_features_tf.toarray() # Numpy arrays are easy to work with\n",
    "print(train_data_features_tf.shape)"
   ]
  },
  {
   "cell_type": "code",
   "execution_count": 21,
   "metadata": {
    "collapsed": false,
    "deletable": true,
    "editable": true
   },
   "outputs": [
    {
     "name": "stdout",
     "output_type": "stream",
     "text": [
      "(25000, 5000)\n"
     ]
    }
   ],
   "source": [
    "test_data_features_tf = vectorizer_tf.fit_transform(clean_test_reviews)\n",
    "test_data_features_tf = test_data_features_tf.toarray() # Numpy arrays are easy to work with\n",
    "print(test_data_features_tf.shape)"
   ]
  },
  {
   "cell_type": "markdown",
   "metadata": {
    "deletable": true,
    "editable": true
   },
   "source": [
    "Now we are going to use TfIDf vectors and the train/test cleaned reviews with stopwords:"
   ]
  },
  {
   "cell_type": "code",
   "execution_count": 22,
   "metadata": {
    "collapsed": true,
    "deletable": true,
    "editable": true
   },
   "outputs": [],
   "source": [
    "#http://scikit-learn.org/stable/modules/generated/sklearn.feature_extraction.text.TfidfVectorizer.html\n",
    "#Another approach using TfIDf vectorizer and using the texts with stopwords in:\n",
    "#https://github.com/zygmuntz/classifying-text/blob/master/bow_predict.py \n",
    "vectorizer_tfidf = TfidfVectorizer(input='content',\n",
    "                                  #encoding='utf-8',\n",
    "                                  decode_error='strict',\n",
    "                                  strip_accents=None,\n",
    "                                  lowercase=True,\n",
    "                                  preprocessor=None,\n",
    "                                  tokenizer=None,\n",
    "                                  analyzer='word',\n",
    "                                  stop_words=None,\n",
    "                                  #token_pattern='(?u)\\b\\w\\w+\\b',\n",
    "                                  ngram_range=(1, 2),\n",
    "                                  max_df=1.0,\n",
    "                                  min_df=1,\n",
    "                                  max_features=5000,\n",
    "                                  vocabulary=None, \n",
    "                                  binary=False, \n",
    "                                  dtype=np.int64,\n",
    "                                  norm='l2',\n",
    "                                  use_idf=True,\n",
    "                                  smooth_idf=True,\n",
    "                                  sublinear_tf=True)"
   ]
  },
  {
   "cell_type": "code",
   "execution_count": 23,
   "metadata": {
    "collapsed": false,
    "deletable": true,
    "editable": true
   },
   "outputs": [
    {
     "name": "stdout",
     "output_type": "stream",
     "text": [
      "(25000, 5000)\n"
     ]
    }
   ],
   "source": [
    "train_data_features_tfidf = vectorizer_tfidf.fit_transform(clean_train_reviews_sw)\n",
    "train_data_features_tfidf = train_data_features_tfidf.toarray() # Numpy arrays are easy to work with\n",
    "print(train_data_features_tfidf.shape)"
   ]
  },
  {
   "cell_type": "code",
   "execution_count": 24,
   "metadata": {
    "collapsed": false,
    "deletable": true,
    "editable": true
   },
   "outputs": [
    {
     "name": "stdout",
     "output_type": "stream",
     "text": [
      "(25000, 5000)\n"
     ]
    }
   ],
   "source": [
    "test_data_features_tfidf = vectorizer_tfidf.fit_transform(clean_test_reviews_sw)\n",
    "test_data_features_tfidf = test_data_features_tfidf.toarray() # Numpy arrays are easy to work with\n",
    "print(test_data_features_tfidf.shape)"
   ]
  },
  {
   "cell_type": "markdown",
   "metadata": {
    "deletable": true,
    "editable": true
   },
   "source": [
    "Saving Pickle"
   ]
  },
  {
   "cell_type": "code",
   "execution_count": 25,
   "metadata": {
    "collapsed": false,
    "deletable": true,
    "editable": true
   },
   "outputs": [],
   "source": [
    "with open(os.path.join(outputs, 'train_test_data_features.pkl'),'wb') as f:\n",
    "    pickle.dump((train_data_features_tf, \n",
    "                 test_data_features_tf,\n",
    "                 train_data_features_tfidf,\n",
    "                 test_data_features_tfidf),f)"
   ]
  },
  {
   "cell_type": "markdown",
   "metadata": {
    "deletable": true,
    "editable": true
   },
   "source": [
    "Reading Pickle"
   ]
  },
  {
   "cell_type": "code",
   "execution_count": 26,
   "metadata": {
    "collapsed": false,
    "deletable": true,
    "editable": true
   },
   "outputs": [],
   "source": [
    "with open(os.path.join(outputs, 'train_test_data_features.pkl'),'rb') as f:\n",
    "    (train_data_features_tf, \n",
    "    test_data_features_tf,\n",
    "    train_data_features_tfidf,\n",
    "    test_data_features_tfidf) = pickle.load(f)"
   ]
  },
  {
   "cell_type": "markdown",
   "metadata": {
    "deletable": true,
    "editable": true
   },
   "source": [
    "Dividing Train set for Cross Validation  \n",
    "--"
   ]
  },
  {
   "cell_type": "markdown",
   "metadata": {
    "collapsed": false,
    "deletable": true,
    "editable": true
   },
   "source": [
    "https://github.com/zygmuntz/classifying-text/blob/master/bow_validate.py  \n",
    "Alternatively, we can use the indexes to divide the train samples  \n",
    "\n",
    "train_i, test_i = train_test_split(np.arange(len(train)), train_size = 0.8, random_state = 44)  \n",
    "\n",
    "After generating indexes, we can divide ou datasets:  \n",
    "traincv = train_data_features1[train_i]  \n",
    "testcv = train_data_features1[test_i]"
   ]
  },
  {
   "cell_type": "code",
   "execution_count": 30,
   "metadata": {
    "collapsed": false,
    "deletable": true,
    "editable": true
   },
   "outputs": [],
   "source": [
    "#Plain Word Counts\n",
    "X_traincv_tf, X_testcv_tf, y_traincv_tf, y_testcv_tf = model_selection.train_test_split(train_data_features_tf,\n",
    "                                                                                        train[\"sentiment\"],\n",
    "                                                                                        test_size=0.2,\n",
    "                                                                                        random_state=0)"
   ]
  },
  {
   "cell_type": "code",
   "execution_count": 32,
   "metadata": {
    "collapsed": false,
    "deletable": true,
    "editable": true
   },
   "outputs": [],
   "source": [
    "#TfIdf\n",
    "(X_traincv_tfidf, \n",
    " X_testcv_tfidf, \n",
    " y_traincv_tfidf, \n",
    " y_testcv_tfidf) = model_selection.train_test_split(train_data_features_tfidf,\n",
    "                                                    train[\"sentiment\"],\n",
    "                                                    test_size=0.2,\n",
    "                                                    random_state=0)"
   ]
  },
  {
   "cell_type": "markdown",
   "metadata": {
    "deletable": true,
    "editable": true
   },
   "source": [
    "Training some Classifiers  \n",
    "--"
   ]
  },
  {
   "cell_type": "markdown",
   "metadata": {
    "deletable": true,
    "editable": true
   },
   "source": [
    "At this point, we have numeric training features from the Bag of Words and the original sentiment labels for each feature vector, so let's do some supervised learning! Here, we'll use some classifiers implementations included in  the scikit-learn package."
   ]
  },
  {
   "cell_type": "markdown",
   "metadata": {
    "deletable": true,
    "editable": true
   },
   "source": [
    "#### Random Forest"
   ]
  },
  {
   "cell_type": "code",
   "execution_count": 33,
   "metadata": {
    "collapsed": false,
    "deletable": true,
    "editable": true
   },
   "outputs": [],
   "source": [
    "# Initialize a Random Forest classifier with 300 trees\n",
    "from sklearn.ensemble import RandomForestClassifier\n",
    "\n",
    "clf_RF_tf = RandomForestClassifier(n_estimators=300, \n",
    "                                   criterion='gini', \n",
    "                                   max_depth=None, \n",
    "                                   min_samples_split=2, \n",
    "                                   min_samples_leaf=1, \n",
    "                                   min_weight_fraction_leaf=0.0, \n",
    "                                   max_features='auto', \n",
    "                                   max_leaf_nodes=None, \n",
    "                                   bootstrap=False, \n",
    "                                   oob_score=False, \n",
    "                                   n_jobs=-1, \n",
    "                                   random_state=0, \n",
    "                                   verbose=0, \n",
    "                                   warm_start=False, \n",
    "                                   class_weight=None).fit(X_traincv_tf, y_traincv_tf)"
   ]
  },
  {
   "cell_type": "code",
   "execution_count": 34,
   "metadata": {
    "collapsed": false,
    "deletable": true,
    "editable": true
   },
   "outputs": [
    {
     "name": "stdout",
     "output_type": "stream",
     "text": [
      "0.8632\n"
     ]
    }
   ],
   "source": [
    "eval_RF_tf_tts = clf_RF_tf.score(X_testcv_tf, y_testcv_tf)\n",
    "print(eval_RF_tf_tts)"
   ]
  },
  {
   "cell_type": "code",
   "execution_count": 35,
   "metadata": {
    "collapsed": false,
    "deletable": true,
    "editable": true
   },
   "outputs": [
    {
     "data": {
      "text/plain": [
       "array([[ 0.44666667,  0.55333333],\n",
       "       [ 0.38666667,  0.61333333],\n",
       "       [ 0.31333333,  0.68666667],\n",
       "       ..., \n",
       "       [ 0.39333333,  0.60666667],\n",
       "       [ 0.8       ,  0.2       ],\n",
       "       [ 0.22      ,  0.78      ]])"
      ]
     },
     "execution_count": 35,
     "metadata": {},
     "output_type": "execute_result"
    }
   ],
   "source": [
    "clf_RF_tf.predict_proba(X_testcv_tf)"
   ]
  },
  {
   "cell_type": "markdown",
   "metadata": {
    "deletable": true,
    "editable": true
   },
   "source": [
    "Now we are going to train on the TfIdf samples:"
   ]
  },
  {
   "cell_type": "code",
   "execution_count": 36,
   "metadata": {
    "collapsed": false,
    "deletable": true,
    "editable": true
   },
   "outputs": [],
   "source": [
    "# Initialize a Random Forest classifier with 300 trees\n",
    "clf_RF_tfidf = RandomForestClassifier(n_estimators=300, \n",
    "                                      criterion='gini', \n",
    "                                      max_depth=None, \n",
    "                                      min_samples_split=2, \n",
    "                                      min_samples_leaf=1, \n",
    "                                      min_weight_fraction_leaf=0.0, \n",
    "                                      max_features='auto', \n",
    "                                      max_leaf_nodes=None, \n",
    "                                      bootstrap=False, \n",
    "                                      oob_score=False, \n",
    "                                      n_jobs=-1, \n",
    "                                      random_state=0, \n",
    "                                      verbose=0, \n",
    "                                      warm_start=False, \n",
    "                                      class_weight=None).fit(X_traincv_tfidf, y_traincv_tfidf)"
   ]
  },
  {
   "cell_type": "code",
   "execution_count": 37,
   "metadata": {
    "collapsed": false,
    "deletable": true,
    "editable": true
   },
   "outputs": [
    {
     "name": "stdout",
     "output_type": "stream",
     "text": [
      "0.8536\n"
     ]
    }
   ],
   "source": [
    "eval_RF_tfidf_tts = clf_RF_tfidf.score(X_testcv_tfidf, y_testcv_tfidf)\n",
    "print(eval_RF_tfidf_tts)"
   ]
  },
  {
   "cell_type": "code",
   "execution_count": 38,
   "metadata": {
    "collapsed": false,
    "deletable": true,
    "editable": true
   },
   "outputs": [
    {
     "data": {
      "text/plain": [
       "array([[ 0.42333333,  0.57666667],\n",
       "       [ 0.36666667,  0.63333333],\n",
       "       [ 0.33      ,  0.67      ],\n",
       "       ..., \n",
       "       [ 0.25666667,  0.74333333],\n",
       "       [ 0.75333333,  0.24666667],\n",
       "       [ 0.33      ,  0.67      ]])"
      ]
     },
     "execution_count": 38,
     "metadata": {},
     "output_type": "execute_result"
    }
   ],
   "source": [
    "clf_RF_tfidf.predict_proba(X_testcv_tfidf)"
   ]
  },
  {
   "cell_type": "markdown",
   "metadata": {
    "deletable": true,
    "editable": true
   },
   "source": [
    "#### Logistic Regression  "
   ]
  },
  {
   "cell_type": "code",
   "execution_count": 39,
   "metadata": {
    "collapsed": false,
    "deletable": true,
    "editable": true
   },
   "outputs": [],
   "source": [
    "#http://scikit-learn.org/stable/modules/generated/sklearn.linear_model.LogisticRegression.html\n",
    "from sklearn.linear_model import LogisticRegression as LR\n",
    "\n",
    "clf_LR_tf = LR(penalty='l2',\n",
    "               dual=False,\n",
    "               tol=0.0001,\n",
    "               C=1.0,\n",
    "               fit_intercept=True,\n",
    "               intercept_scaling=1,\n",
    "               class_weight=None,\n",
    "               random_state=0,\n",
    "               solver='liblinear',\n",
    "               max_iter=100,\n",
    "               multi_class='ovr',\n",
    "               verbose=0).fit(X_traincv_tf, y_traincv_tf)"
   ]
  },
  {
   "cell_type": "code",
   "execution_count": 40,
   "metadata": {
    "collapsed": false,
    "deletable": true,
    "editable": true
   },
   "outputs": [
    {
     "name": "stdout",
     "output_type": "stream",
     "text": [
      "0.8522\n"
     ]
    }
   ],
   "source": [
    "eval_LR_tf_tts = clf_LR_tf.score(X_testcv_tf, y_testcv_tf)\n",
    "print(eval_LR_tf_tts)"
   ]
  },
  {
   "cell_type": "code",
   "execution_count": 41,
   "metadata": {
    "collapsed": false,
    "deletable": true,
    "editable": true
   },
   "outputs": [],
   "source": [
    "clf_LR_tfidf = LR(penalty='l2',\n",
    "                  dual=False,\n",
    "                  tol=0.0001,\n",
    "                  C=1.0,\n",
    "                  fit_intercept=True,\n",
    "                  intercept_scaling=1,\n",
    "                  class_weight=None,\n",
    "                  random_state=0,\n",
    "                  solver='liblinear',\n",
    "                  max_iter=100,\n",
    "                  multi_class='ovr',\n",
    "                  verbose=0).fit(X_traincv_tfidf, y_traincv_tfidf)"
   ]
  },
  {
   "cell_type": "code",
   "execution_count": 42,
   "metadata": {
    "collapsed": false,
    "deletable": true,
    "editable": true
   },
   "outputs": [
    {
     "name": "stdout",
     "output_type": "stream",
     "text": [
      "0.8926\n"
     ]
    }
   ],
   "source": [
    "eval_LR_tfidf_tts = clf_LR_tfidf.score(X_testcv_tfidf, y_testcv_tfidf)\n",
    "print(eval_LR_tfidf_tts)"
   ]
  },
  {
   "cell_type": "markdown",
   "metadata": {
    "deletable": true,
    "editable": true
   },
   "source": [
    "#### Gradient Boost Classifier  "
   ]
  },
  {
   "cell_type": "code",
   "execution_count": 43,
   "metadata": {
    "collapsed": false,
    "deletable": true,
    "editable": true
   },
   "outputs": [],
   "source": [
    "#http://scikit-learn.org/stable/modules/generated/sklearn.ensemble.GradientBoostingClassifier.html\n",
    "from sklearn.ensemble import GradientBoostingClassifier\n",
    "\n",
    "clf_GBC_tf = GradientBoostingClassifier(loss='deviance',\n",
    "                                        learning_rate=0.1,\n",
    "                                        n_estimators=300,\n",
    "                                        subsample=1.0,\n",
    "                                        min_samples_split=2,\n",
    "                                        min_samples_leaf=1,\n",
    "                                        min_weight_fraction_leaf=0.0,\n",
    "                                        max_depth=3,\n",
    "                                        init=None,\n",
    "                                        random_state=0,\n",
    "                                        max_features=None,\n",
    "                                        verbose=0,\n",
    "                                        max_leaf_nodes=None,\n",
    "                                        warm_start=False,\n",
    "                                        presort='auto').fit(X_traincv_tf, y_traincv_tf)"
   ]
  },
  {
   "cell_type": "code",
   "execution_count": 44,
   "metadata": {
    "collapsed": false,
    "deletable": true,
    "editable": true
   },
   "outputs": [
    {
     "name": "stdout",
     "output_type": "stream",
     "text": [
      "0.854\n"
     ]
    }
   ],
   "source": [
    "eval_GBC_tf_tts = clf_GBC_tf.score(X_testcv_tf, y_testcv_tf)\n",
    "print(eval_GBC_tf_tts)"
   ]
  },
  {
   "cell_type": "code",
   "execution_count": 45,
   "metadata": {
    "collapsed": false,
    "deletable": true,
    "editable": true
   },
   "outputs": [],
   "source": [
    "clf_GBC_tfidf = GradientBoostingClassifier(loss='deviance',\n",
    "                                           learning_rate=0.1,\n",
    "                                           n_estimators=100,\n",
    "                                           subsample=1.0,\n",
    "                                           min_samples_split=2,\n",
    "                                           min_samples_leaf=1,\n",
    "                                           min_weight_fraction_leaf=0.0,\n",
    "                                           max_depth=3,\n",
    "                                           init=None,\n",
    "                                           random_state=0,\n",
    "                                           max_features=None,\n",
    "                                           verbose=0,\n",
    "                                           max_leaf_nodes=None,\n",
    "                                           warm_start=False,\n",
    "                                           presort='auto').fit(X_traincv_tfidf, y_traincv_tfidf)"
   ]
  },
  {
   "cell_type": "code",
   "execution_count": 46,
   "metadata": {
    "collapsed": false,
    "deletable": true,
    "editable": true
   },
   "outputs": [
    {
     "name": "stdout",
     "output_type": "stream",
     "text": [
      "0.8128\n"
     ]
    }
   ],
   "source": [
    "eval_GBC_tfidf_tts = clf_GBC_tfidf.score(X_testcv_tfidf, y_testcv_tfidf)\n",
    "print(eval_GBC_tfidf_tts)"
   ]
  },
  {
   "cell_type": "markdown",
   "metadata": {
    "deletable": true,
    "editable": true
   },
   "source": [
    "#### Let's do some voting"
   ]
  },
  {
   "cell_type": "code",
   "execution_count": 47,
   "metadata": {
    "collapsed": false,
    "deletable": true,
    "editable": true
   },
   "outputs": [],
   "source": [
    "# http://scikit-learn.org/stable/modules/generated/sklearn.ensemble.VotingClassifier.html\n",
    "from sklearn.ensemble import VotingClassifier\n",
    "\n",
    "clf_vot_tf = VotingClassifier(estimators=[('rf', clf_RF_tf),\n",
    "                                          ('lr', clf_LR_tf),\n",
    "                                          ('gbc', clf_GBC_tf)], voting='soft').fit(X_traincv_tf, y_traincv_tf)"
   ]
  },
  {
   "cell_type": "code",
   "execution_count": 48,
   "metadata": {
    "collapsed": false,
    "deletable": true,
    "editable": true
   },
   "outputs": [
    {
     "name": "stdout",
     "output_type": "stream",
     "text": [
      "0.8696\n"
     ]
    }
   ],
   "source": [
    "eval_vot_tf_tts = clf_vot_tf.score(X_testcv_tf, y_testcv_tf)\n",
    "print(eval_vot_tf_tts)"
   ]
  },
  {
   "cell_type": "code",
   "execution_count": 49,
   "metadata": {
    "collapsed": false,
    "deletable": true,
    "editable": true
   },
   "outputs": [],
   "source": [
    "clf_vot_tfidf = VotingClassifier(estimators=[('rf', clf_RF_tfidf),\n",
    "                                             ('lr', clf_LR_tfidf),\n",
    "                                             ('gbc', clf_GBC_tfidf)], voting='soft').fit(X_traincv_tfidf, y_traincv_tfidf)"
   ]
  },
  {
   "cell_type": "code",
   "execution_count": 50,
   "metadata": {
    "collapsed": false,
    "deletable": true,
    "editable": true
   },
   "outputs": [
    {
     "name": "stdout",
     "output_type": "stream",
     "text": [
      "0.8788\n"
     ]
    }
   ],
   "source": [
    "eval_vot_tfidf_tts = clf_vot_tfidf.score(X_testcv_tfidf, y_testcv_tfidf)\n",
    "print(eval_vot_tfidf_tts)"
   ]
  },
  {
   "cell_type": "markdown",
   "metadata": {
    "deletable": true,
    "editable": true
   },
   "source": [
    "Saving the trained classifiers"
   ]
  },
  {
   "cell_type": "code",
   "execution_count": 51,
   "metadata": {
    "collapsed": false,
    "deletable": true,
    "editable": true
   },
   "outputs": [],
   "source": [
    "with open(os.path.join(outputs, 'classifiers.pkl'),'wb') as f:\n",
    "    pickle.dump((clf_RF_tf, eval_RF_tf_tts,\n",
    "                 clf_RF_tfidf, eval_RF_tfidf_tts,\n",
    "                 clf_LR_tf, eval_LR_tf_tts,\n",
    "                 clf_LR_tfidf, eval_LR_tfidf_tts,                \n",
    "                 clf_GBC_tf, eval_GBC_tf_tts,\n",
    "                 clf_GBC_tfidf, eval_GBC_tfidf_tts,\n",
    "                 clf_vot_tf, eval_vot_tf_tts,\n",
    "                 clf_vot_tfidf, eval_vot_tfidf_tts),f)"
   ]
  },
  {
   "cell_type": "markdown",
   "metadata": {
    "deletable": true,
    "editable": true
   },
   "source": [
    "Loading the classifiers from Pickle"
   ]
  },
  {
   "cell_type": "code",
   "execution_count": 52,
   "metadata": {
    "collapsed": false,
    "deletable": true,
    "editable": true
   },
   "outputs": [],
   "source": [
    "with open(os.path.join(outputs, 'classifiers.pkl'),'rb') as f:\n",
    "    (clf_RF_tf, eval_RF_tf_tts,\n",
    "     clf_RF_tfidf, eval_RF_tfidf_tts,\n",
    "     clf_LR_tf, eval_LR_tf_tts,\n",
    "     clf_LR_tfidf, eval_LR_tfidf_tts,                \n",
    "     clf_GBC_tf, eval_GBC_tf_tts,\n",
    "     clf_GBC_tfidf, eval_GBC_tfidf_tts,\n",
    "     clf_vot_tf, eval_vot_tf_tts,\n",
    "     clf_vot_tfidf, eval_vot_tfidf_tts) = pickle.load(f)"
   ]
  },
  {
   "cell_type": "code",
   "execution_count": 53,
   "metadata": {
    "collapsed": false,
    "deletable": true,
    "editable": true
   },
   "outputs": [
    {
     "data": {
      "image/png": "[encoded data removed]",
      "text/plain": [
       "<matplotlib.figure.Figure at 0x7f7026e619e8>"
      ]
     },
     "metadata": {},
     "output_type": "display_data"
    }
   ],
   "source": [
    "dic_results = {'RandomForest_TF': eval_RF_tf_tts,\n",
    "               'RandomForest_TFIDF': eval_RF_tfidf_tts,\n",
    "               'LogiReg_TF': eval_LR_tf_tts,\n",
    "               'LogiReg_TFIDF': eval_LR_tfidf_tts,\n",
    "               'GradBoost_TF': eval_GBC_tf_tts,\n",
    "               'GradBoost_TFIDF': eval_GBC_tfidf_tts,\n",
    "               'Voting_TF': eval_vot_tf_tts,\n",
    "               'Voting_TFIDF': eval_vot_tfidf_tts,\n",
    "              }\n",
    "\n",
    "import operator\n",
    "tup_results = sorted(dic_results.items(), key=operator.itemgetter(1))\n",
    "\n",
    "N = len(dic_results)\n",
    "ind = np.arange(N)  # the x locations for the groups\n",
    "width = 0.40       # the width of the bars\n",
    "\n",
    "fig = plt.figure(figsize=(12,8))\n",
    "ax = fig.add_subplot(111)\n",
    "rects = ax.bar(ind, list(zip(*tup_results))[1], width,)\n",
    "for rect in rects:\n",
    "    height = rect.get_height()\n",
    "    ax.text(rect.get_x()+rect.get_width()/2., \n",
    "            1.005*height, \n",
    "            '{0:.4f}'.format(height), \n",
    "            ha='center', \n",
    "            va='bottom',)\n",
    "\n",
    "ax.set_ylabel('Scores')\n",
    "ax.set_ylim(ymin=0.78,ymax = 0.92)\n",
    "ax.set_title(\"Classificators' performance\")\n",
    "ax.set_xticks(ind + width/2.)\n",
    "ax.set_xticklabels(list(zip(*tup_results))[0], rotation=45)\n",
    "\n",
    "plt.show()"
   ]
  },
  {
   "cell_type": "markdown",
   "metadata": {
    "deletable": true,
    "editable": true
   },
   "source": [
    "Creating a Submission  \n",
    "--\n",
    "\n",
    "All that remains is to run the best classifier on our test set and create a submission file. If you haven't already done so, download testData.tsv from the Data page. This file contains another 25,000 reviews and ids; our task is to predict the sentiment label.\n",
    "\n",
    "Note that when we use the Bag of Words for the test set, we only call \"transform\", not \"fit_transform\" as we did for the training set. In machine learning, you shouldn't use the test set to fit your model, otherwise you run the risk of overfitting. For this reason, we keep the test set off-limits until we are ready to make predictions."
   ]
  },
  {
   "cell_type": "code",
   "execution_count": 54,
   "metadata": {
    "collapsed": false,
    "deletable": true,
    "editable": true
   },
   "outputs": [
    {
     "name": "stdout",
     "output_type": "stream",
     "text": [
      "<class 'pandas.core.frame.DataFrame'>\n",
      "RangeIndex: 25000 entries, 0 to 24999\n",
      "Data columns (total 2 columns):\n",
      "id        25000 non-null object\n",
      "review    25000 non-null object\n",
      "dtypes: object(2)\n",
      "memory usage: 390.7+ KB\n"
     ]
    }
   ],
   "source": [
    "test.info()"
   ]
  },
  {
   "cell_type": "code",
   "execution_count": 55,
   "metadata": {
    "collapsed": false,
    "deletable": true,
    "editable": true
   },
   "outputs": [
    {
     "data": {
      "text/html": [
       "<div>\n",
       "<table border=\"1\" class=\"dataframe\">\n",
       "  <thead>\n",
       "    <tr style=\"text-align: right;\">\n",
       "      <th></th>\n",
       "      <th>id</th>\n",
       "      <th>review</th>\n",
       "    </tr>\n",
       "  </thead>\n",
       "  <tbody>\n",
       "    <tr>\n",
       "      <th>0</th>\n",
       "      <td>\"12311_10\"</td>\n",
       "      <td>\"Naturally in a film who's main themes are of ...</td>\n",
       "    </tr>\n",
       "    <tr>\n",
       "      <th>1</th>\n",
       "      <td>\"8348_2\"</td>\n",
       "      <td>\"This movie is a disaster within a disaster fi...</td>\n",
       "    </tr>\n",
       "    <tr>\n",
       "      <th>2</th>\n",
       "      <td>\"5828_4\"</td>\n",
       "      <td>\"All in all, this is a movie for kids. We saw ...</td>\n",
       "    </tr>\n",
       "    <tr>\n",
       "      <th>3</th>\n",
       "      <td>\"7186_2\"</td>\n",
       "      <td>\"Afraid of the Dark left me with the impressio...</td>\n",
       "    </tr>\n",
       "    <tr>\n",
       "      <th>4</th>\n",
       "      <td>\"12128_7\"</td>\n",
       "      <td>\"A very accurate depiction of small time mob l...</td>\n",
       "    </tr>\n",
       "  </tbody>\n",
       "</table>\n",
       "</div>"
      ],
      "text/plain": [
       "           id                                             review\n",
       "0  \"12311_10\"  \"Naturally in a film who's main themes are of ...\n",
       "1    \"8348_2\"  \"This movie is a disaster within a disaster fi...\n",
       "2    \"5828_4\"  \"All in all, this is a movie for kids. We saw ...\n",
       "3    \"7186_2\"  \"Afraid of the Dark left me with the impressio...\n",
       "4   \"12128_7\"  \"A very accurate depiction of small time mob l..."
      ]
     },
     "execution_count": 55,
     "metadata": {},
     "output_type": "execute_result"
    }
   ],
   "source": [
    "test.head()"
   ]
  },
  {
   "cell_type": "code",
   "execution_count": 56,
   "metadata": {
    "collapsed": false,
    "deletable": true,
    "editable": true
   },
   "outputs": [
    {
     "data": {
      "text/plain": [
       "(25000, 5000)"
      ]
     },
     "execution_count": 56,
     "metadata": {},
     "output_type": "execute_result"
    }
   ],
   "source": [
    "test_data_features_tfidf.shape"
   ]
  },
  {
   "cell_type": "code",
   "execution_count": 57,
   "metadata": {
    "collapsed": false,
    "deletable": true,
    "editable": true
   },
   "outputs": [],
   "source": [
    "# Use the logistic regression with tfidf vectors to make sentiment label predictions\n",
    "result = clf_LR_tfidf.predict(test_data_features_tfidf)\n",
    "result_prob = clf_LR_tfidf.predict_proba(test_data_features_tfidf)\n",
    "output = pd.DataFrame(data={\"id\":test[\"id\"], \"sentiment\":result,})# \"probs\":result_prob[:,1]})\n",
    "# Use pandas to write the comma-separated output file\n",
    "output.to_csv(os.path.join(outputs,'LR_tfidf_model.csv'), index=False, quoting=3)"
   ]
  },
  {
   "cell_type": "code",
   "execution_count": 58,
   "metadata": {
    "collapsed": false,
    "deletable": true,
    "editable": true
   },
   "outputs": [
    {
     "data": {
      "text/html": [
       "<div>\n",
       "<table border=\"1\" class=\"dataframe\">\n",
       "  <thead>\n",
       "    <tr style=\"text-align: right;\">\n",
       "      <th></th>\n",
       "      <th>id</th>\n",
       "      <th>sentiment</th>\n",
       "    </tr>\n",
       "  </thead>\n",
       "  <tbody>\n",
       "    <tr>\n",
       "      <th>0</th>\n",
       "      <td>\"12311_10\"</td>\n",
       "      <td>0</td>\n",
       "    </tr>\n",
       "    <tr>\n",
       "      <th>1</th>\n",
       "      <td>\"8348_2\"</td>\n",
       "      <td>0</td>\n",
       "    </tr>\n",
       "    <tr>\n",
       "      <th>2</th>\n",
       "      <td>\"5828_4\"</td>\n",
       "      <td>0</td>\n",
       "    </tr>\n",
       "    <tr>\n",
       "      <th>3</th>\n",
       "      <td>\"7186_2\"</td>\n",
       "      <td>0</td>\n",
       "    </tr>\n",
       "    <tr>\n",
       "      <th>4</th>\n",
       "      <td>\"12128_7\"</td>\n",
       "      <td>0</td>\n",
       "    </tr>\n",
       "  </tbody>\n",
       "</table>\n",
       "</div>"
      ],
      "text/plain": [
       "           id  sentiment\n",
       "0  \"12311_10\"          0\n",
       "1    \"8348_2\"          0\n",
       "2    \"5828_4\"          0\n",
       "3    \"7186_2\"          0\n",
       "4   \"12128_7\"          0"
      ]
     },
     "execution_count": 58,
     "metadata": {},
     "output_type": "execute_result"
    }
   ],
   "source": [
    "output.head()"
   ]
  },
  {
   "cell_type": "markdown",
   "metadata": {
    "deletable": true,
    "editable": true
   },
   "source": [
    "Part 2: Alternative Vectors\n",
    "--\n",
    "\n",
    "In the subsequent sections, we are going to explore alternate ways to codify text into vectors. We are going to explore three techniques, namely Latent Semantic Indexing (LSI), Latent Dirichlet Allocation (LDA) and Word2vec."
   ]
  },
  {
   "cell_type": "markdown",
   "metadata": {
    "deletable": true,
    "editable": true
   },
   "source": [
    "### Topic Modeling and Topic Vectors"
   ]
  },
  {
   "cell_type": "markdown",
   "metadata": {
    "deletable": true,
    "editable": true
   },
   "source": [
    "To build the models, the more we have texts, the better. The size of the Corpus is essential for having good results. We don't need labels in order to create the models, so we will use the train examples and also some unlabeled reviews. The list of cleaned sentences will be used for all the subsequent models."
   ]
  },
  {
   "cell_type": "code",
   "execution_count": 59,
   "metadata": {
    "collapsed": true,
    "deletable": true,
    "editable": true
   },
   "outputs": [],
   "source": [
    "import logging\n",
    "logging.basicConfig(format='%(asctime)s : %(levelname)s : %(message)s', level=logging.INFO)"
   ]
  },
  {
   "cell_type": "code",
   "execution_count": 60,
   "metadata": {
    "collapsed": false,
    "deletable": true,
    "editable": true
   },
   "outputs": [
    {
     "name": "stdout",
     "output_type": "stream",
     "text": [
      "Parsing sentences from training set\n",
      "Parsing sentences from unlabeled set\n",
      "Parsing sentences from test set\n",
      "Parsing sentences with stopwords from training set\n",
      "Parsing sentences with stopwords from unlabeled set\n",
      "Parsing sentences with stopwords from test set\n"
     ]
    }
   ],
   "source": [
    "print(\"Parsing sentences from training set\")\n",
    "labeled_sentences = Text_Cleaning_Utilities.df_to_list_of_tokens(train,\n",
    "                                                                 'review', \n",
    "                                                                 remove_html=True,\n",
    "                                                                 remove_stopwords=True,)\n",
    "print(\"Parsing sentences from unlabeled set\")\n",
    "all_sentences = labeled_sentences + Text_Cleaning_Utilities.df_to_list_of_tokens(unlabeled_train,\n",
    "                                                                                 'review', \n",
    "                                                                                 remove_html=True,\n",
    "                                                                                 remove_stopwords=True,)\n",
    "\n",
    "print(\"Parsing sentences from test set\")\n",
    "test_labeled_sentences = Text_Cleaning_Utilities.df_to_list_of_tokens(test,\n",
    "                                                                      'review', \n",
    "                                                                      remove_html=True,\n",
    "                                                                      remove_stopwords=True,)\n",
    "\n",
    "print(\"Parsing sentences with stopwords from training set\")\n",
    "labeled_sentences_sw = Text_Cleaning_Utilities.df_to_list_of_tokens(train,\n",
    "                                                                    'review', \n",
    "                                                                    remove_html=True,\n",
    "                                                                    remove_stopwords=False,)\n",
    "\n",
    "print(\"Parsing sentences with stopwords from unlabeled set\")\n",
    "all_sentences_sw = labeled_sentences_sw + Text_Cleaning_Utilities.df_to_list_of_tokens(unlabeled_train,\n",
    "                                                                                       'review', \n",
    "                                                                                       remove_html=True,\n",
    "                                                                                       remove_stopwords=False,)\n",
    "\n",
    "print(\"Parsing sentences with stopwords from test set\")\n",
    "test_labeled_sentences_sw = Text_Cleaning_Utilities.df_to_list_of_tokens(test,\n",
    "                                                                         'review', \n",
    "                                                                         remove_html=True,\n",
    "                                                                         remove_stopwords=False,)"
   ]
  },
  {
   "cell_type": "code",
   "execution_count": 61,
   "metadata": {
    "collapsed": false,
    "deletable": true,
    "editable": true
   },
   "outputs": [
    {
     "name": "stdout",
     "output_type": "stream",
     "text": [
      "25000\n",
      "75000\n",
      "25000\n",
      "25000\n",
      "75000\n",
      "25000\n"
     ]
    }
   ],
   "source": [
    "print(len(labeled_sentences))\n",
    "print(len(all_sentences))\n",
    "print(len(test_labeled_sentences))\n",
    "print(len(labeled_sentences_sw))\n",
    "print(len(all_sentences_sw))\n",
    "print(len(test_labeled_sentences_sw))"
   ]
  },
  {
   "cell_type": "markdown",
   "metadata": {
    "deletable": true,
    "editable": true
   },
   "source": [
    "Saving sentences to a Pickle"
   ]
  },
  {
   "cell_type": "code",
   "execution_count": 62,
   "metadata": {
    "collapsed": true,
    "deletable": true,
    "editable": true
   },
   "outputs": [],
   "source": [
    "with open(os.path.join(outputs, 'sentences.pkl'),'wb') as f:\n",
    "    pickle.dump((labeled_sentences,\n",
    "                 all_sentences,\n",
    "                 test_labeled_sentences,\n",
    "                 labeled_sentences_sw,\n",
    "                 all_sentences_sw,\n",
    "                 test_labeled_sentences_sw,), f)"
   ]
  },
  {
   "cell_type": "markdown",
   "metadata": {
    "deletable": true,
    "editable": true
   },
   "source": [
    "Loading sentences from a Pickle"
   ]
  },
  {
   "cell_type": "code",
   "execution_count": 63,
   "metadata": {
    "collapsed": true,
    "deletable": true,
    "editable": true
   },
   "outputs": [],
   "source": [
    "with open(os.path.join(outputs, 'sentences.pkl'),'rb') as f:\n",
    "    (labeled_sentences,\n",
    "     all_sentences,\n",
    "     test_labeled_sentences,\n",
    "     labeled_sentences_sw,\n",
    "     all_sentences_sw,\n",
    "     test_labeled_sentences_sw,) = pickle.load(f)"
   ]
  },
  {
   "cell_type": "code",
   "execution_count": 64,
   "metadata": {
    "collapsed": true,
    "deletable": true,
    "editable": true
   },
   "outputs": [],
   "source": [
    "def nltk_stopwords():\n",
    "    return set(nltk.corpus.stopwords.words('english'))\n",
    "\n",
    "def prep_corpus(docs, additional_stopwords=set(), no_below=4, no_above=0.7):\n",
    "    print('Building dictionary...')\n",
    "    dictionary = corpora.Dictionary(docs)\n",
    "    print('{} Tokens extracted from {} texts'.format(len(dictionary.keys()), dictionary.num_docs))\n",
    "    stopwords = nltk_stopwords().union(additional_stopwords)\n",
    "    #stopword_ids = [dictionary.token2id[sw] for sw in stopwords if sw in dictionary.token2id]\n",
    "    stopword_ids = map(dictionary.token2id.get, stopwords)\n",
    "    dictionary.filter_tokens(stopword_ids)\n",
    "    #low_freq_ids = [tokenid for tokenid, docfreq in dictionary.dfs.items() if docfreq < 4]\n",
    "    #dictionary.filter_tokens(low_freq_ids)\n",
    "    dictionary.filter_extremes(no_below=no_below, no_above=no_above, keep_n=None)\n",
    "    dictionary.compactify()\n",
    "    print('{} Tokens after cleaning'.format(len(dictionary.keys())))\n",
    "    #print('Building corpus...')\n",
    "    #corpus = [dictionary.doc2bow(doc) for doc in docs]\n",
    "    return dictionary #, corpus"
   ]
  },
  {
   "cell_type": "markdown",
   "metadata": {
    "deletable": true,
    "editable": true
   },
   "source": [
    "Compacting and saving the dictionary"
   ]
  },
  {
   "cell_type": "code",
   "execution_count": 65,
   "metadata": {
    "collapsed": false,
    "deletable": true,
    "editable": true
   },
   "outputs": [
    {
     "name": "stderr",
     "output_type": "stream",
     "text": [
      "2017-04-12 02:00:40,260 : INFO : adding document #0 to Dictionary(0 unique tokens: [])\n"
     ]
    },
    {
     "name": "stdout",
     "output_type": "stream",
     "text": [
      "Building dictionary...\n"
     ]
    },
    {
     "name": "stderr",
     "output_type": "stream",
     "text": [
      "2017-04-12 02:00:41,720 : INFO : adding document #10000 to Dictionary(74918 unique tokens: ['repose', 'better.mark', 'reciprocate', 'vashon', 'jokingly']...)\n",
      "2017-04-12 02:00:43,181 : INFO : adding document #20000 to Dictionary(110848 unique tokens: ['story.add', 'rendering.pixar', '135', \"o'boyle\", 'settleling']...)\n",
      "2017-04-12 02:00:44,653 : INFO : adding document #30000 to Dictionary(142847 unique tokens: ['jeramie', 'bumpkins', 'story.add', 'rendering.pixar', 'bud/terence']...)\n",
      "2017-04-12 02:00:46,129 : INFO : adding document #40000 to Dictionary(171895 unique tokens: ['jeramie', 'bumpkins', 'drunk.repentful', 'story.add', 'maroccan-dutch']...)\n",
      "2017-04-12 02:00:47,616 : INFO : adding document #50000 to Dictionary(198534 unique tokens: ['poseurs', 'action/comedy/crime/thriller', 'maroccan-dutch', \"troma'tized\", 'postscript']...)\n",
      "2017-04-12 02:00:49,124 : INFO : adding document #60000 to Dictionary(222959 unique tokens: ['poseurs', 'action/comedy/crime/thriller', 'maroccan-dutch', \"troma'tized\", 'postscript']...)\n",
      "2017-04-12 02:00:50,611 : INFO : adding document #70000 to Dictionary(245709 unique tokens: ['poseurs', 'action/comedy/crime/thriller', 'maroccan-dutch', \"troma'tized\", 'postscript']...)\n",
      "2017-04-12 02:00:51,369 : INFO : built Dictionary(256792 unique tokens: ['poseurs', '13+1', 'action/comedy/crime/thriller', 'maroccan-dutch', \"troma'tized\"]...) from 75000 documents (total 9036084 corpus positions)\n"
     ]
    },
    {
     "name": "stdout",
     "output_type": "stream",
     "text": [
      "256792 Tokens extracted from 75000 texts\n"
     ]
    },
    {
     "name": "stderr",
     "output_type": "stream",
     "text": [
      "2017-04-12 02:00:52,233 : INFO : discarding 200412 tokens: [('reenacts', 1), ('maroccan-dutch', 1), (\"troma'tized\", 1), ('sketchily-drawn', 1), ('less-than-shoestring', 1), ('for.many', 1), ('demerit.from', 1), ('niang', 1), ('mind.spoilersdid', 1), ('202', 1)]...\n",
      "2017-04-12 02:00:52,233 : INFO : keeping 56378 tokens which were in no less than 4 and no more than 52500 (=70.0%) documents\n",
      "2017-04-12 02:00:52,443 : INFO : resulting dictionary: Dictionary(56378 unique tokens: ['favreau', 'movie/tv', 'reciprocate', '135', 'jokingly']...)\n",
      "2017-04-12 02:00:52,607 : INFO : saving Dictionary object under ../outputs/reviews.dict, separately None\n",
      "2017-04-12 02:00:52,639 : INFO : saved ../outputs/reviews.dict\n"
     ]
    },
    {
     "name": "stdout",
     "output_type": "stream",
     "text": [
      "56378 Tokens after cleaning\n",
      "dictionary done\n",
      "dictionary saved\n"
     ]
    }
   ],
   "source": [
    "additional_stopwords=set(['n\\'t', 'movie'])\n",
    "\n",
    "dictionary = prep_corpus(all_sentences, additional_stopwords)\n",
    "dictionary.compactify()\n",
    "print('dictionary done')\n",
    "\n",
    "dictionary.save(os.path.join(outputs, 'reviews.dict'))\n",
    "print('dictionary saved')"
   ]
  },
  {
   "cell_type": "code",
   "execution_count": 66,
   "metadata": {
    "collapsed": false,
    "deletable": true,
    "editable": true
   },
   "outputs": [
    {
     "name": "stdout",
     "output_type": "stream",
     "text": [
      "14839\n"
     ]
    }
   ],
   "source": [
    "#print(dictionary.token2id['movie']) #verify if these words were in the stopwords list\n",
    "#print(dictionary.token2id['n\\'t'])\n",
    "print(dictionary.token2id['like'])"
   ]
  },
  {
   "cell_type": "markdown",
   "metadata": {
    "deletable": true,
    "editable": true
   },
   "source": [
    "Loading dictionary"
   ]
  },
  {
   "cell_type": "code",
   "execution_count": 67,
   "metadata": {
    "collapsed": false,
    "deletable": true,
    "editable": true
   },
   "outputs": [
    {
     "name": "stderr",
     "output_type": "stream",
     "text": [
      "2017-04-12 02:00:52,658 : INFO : loading Dictionary object from ../outputs/reviews.dict\n",
      "2017-04-12 02:00:52,692 : INFO : loaded ../outputs/reviews.dict\n"
     ]
    }
   ],
   "source": [
    "dictionary = corpora.dictionary.Dictionary.load(os.path.join(outputs, 'reviews.dict'))"
   ]
  },
  {
   "cell_type": "markdown",
   "metadata": {
    "deletable": true,
    "editable": true
   },
   "source": [
    "Generating the Corpora (tf and tfidf"
   ]
  },
  {
   "cell_type": "code",
   "execution_count": 68,
   "metadata": {
    "collapsed": false,
    "deletable": true,
    "editable": true
   },
   "outputs": [
    {
     "name": "stderr",
     "output_type": "stream",
     "text": [
      "2017-04-12 02:01:01,860 : INFO : collecting document frequencies\n",
      "2017-04-12 02:01:01,861 : INFO : PROGRESS: processing document #0\n"
     ]
    },
    {
     "name": "stdout",
     "output_type": "stream",
     "text": [
      "corpus tf done\n"
     ]
    },
    {
     "name": "stderr",
     "output_type": "stream",
     "text": [
      "2017-04-12 02:01:02,102 : INFO : PROGRESS: processing document #10000\n",
      "2017-04-12 02:01:02,375 : INFO : PROGRESS: processing document #20000\n",
      "2017-04-12 02:01:02,665 : INFO : PROGRESS: processing document #30000\n",
      "2017-04-12 02:01:02,945 : INFO : PROGRESS: processing document #40000\n",
      "2017-04-12 02:01:03,192 : INFO : PROGRESS: processing document #50000\n",
      "2017-04-12 02:01:03,449 : INFO : PROGRESS: processing document #60000\n",
      "2017-04-12 02:01:03,700 : INFO : PROGRESS: processing document #70000\n",
      "2017-04-12 02:01:03,834 : INFO : calculating IDF weights for 75000 documents and 56377 features (7099218 matrix non-zeros)\n"
     ]
    },
    {
     "name": "stdout",
     "output_type": "stream",
     "text": [
      "corpus tfidf done\n"
     ]
    }
   ],
   "source": [
    "corpus_tf = [dictionary.doc2bow(sentence) for sentence in all_sentences]\n",
    "print('corpus tf done')\n",
    "tfidf = models.TfidfModel(corpus_tf)\n",
    "corpus_tfidf = tfidf[corpus_tf]\n",
    "print('corpus tfidf done')"
   ]
  },
  {
   "cell_type": "markdown",
   "metadata": {
    "deletable": true,
    "editable": true
   },
   "source": [
    "Saving the Corpora"
   ]
  },
  {
   "cell_type": "code",
   "execution_count": 69,
   "metadata": {
    "collapsed": false,
    "deletable": true,
    "editable": true
   },
   "outputs": [
    {
     "name": "stderr",
     "output_type": "stream",
     "text": [
      "2017-04-12 02:01:03,894 : INFO : storing corpus in Matrix Market format to ../outputs/corpus_tf.mm\n",
      "2017-04-12 02:01:03,896 : INFO : saving sparse matrix to ../outputs/corpus_tf.mm\n",
      "2017-04-12 02:01:03,897 : INFO : PROGRESS: saving document #0\n",
      "2017-04-12 02:01:04,024 : INFO : PROGRESS: saving document #1000\n",
      "2017-04-12 02:01:04,146 : INFO : PROGRESS: saving document #2000\n",
      "2017-04-12 02:01:04,264 : INFO : PROGRESS: saving document #3000\n",
      "2017-04-12 02:01:04,387 : INFO : PROGRESS: saving document #4000\n",
      "2017-04-12 02:01:04,511 : INFO : PROGRESS: saving document #5000\n",
      "2017-04-12 02:01:04,638 : INFO : PROGRESS: saving document #6000\n",
      "2017-04-12 02:01:04,769 : INFO : PROGRESS: saving document #7000\n",
      "2017-04-12 02:01:04,896 : INFO : PROGRESS: saving document #8000\n",
      "2017-04-12 02:01:05,020 : INFO : PROGRESS: saving document #9000\n",
      "2017-04-12 02:01:05,135 : INFO : PROGRESS: saving document #10000\n",
      "2017-04-12 02:01:05,269 : INFO : PROGRESS: saving document #11000\n",
      "2017-04-12 02:01:05,385 : INFO : PROGRESS: saving document #12000\n",
      "2017-04-12 02:01:05,504 : INFO : PROGRESS: saving document #13000\n",
      "2017-04-12 02:01:05,627 : INFO : PROGRESS: saving document #14000\n",
      "2017-04-12 02:01:05,749 : INFO : PROGRESS: saving document #15000\n",
      "2017-04-12 02:01:05,868 : INFO : PROGRESS: saving document #16000\n",
      "2017-04-12 02:01:05,999 : INFO : PROGRESS: saving document #17000\n",
      "2017-04-12 02:01:06,123 : INFO : PROGRESS: saving document #18000\n",
      "2017-04-12 02:01:06,245 : INFO : PROGRESS: saving document #19000\n",
      "2017-04-12 02:01:06,363 : INFO : PROGRESS: saving document #20000\n",
      "2017-04-12 02:01:06,485 : INFO : PROGRESS: saving document #21000\n",
      "2017-04-12 02:01:06,610 : INFO : PROGRESS: saving document #22000\n",
      "2017-04-12 02:01:06,728 : INFO : PROGRESS: saving document #23000\n",
      "2017-04-12 02:01:06,847 : INFO : PROGRESS: saving document #24000\n",
      "2017-04-12 02:01:06,969 : INFO : PROGRESS: saving document #25000\n",
      "2017-04-12 02:01:07,095 : INFO : PROGRESS: saving document #26000\n",
      "2017-04-12 02:01:07,222 : INFO : PROGRESS: saving document #27000\n",
      "2017-04-12 02:01:07,349 : INFO : PROGRESS: saving document #28000\n",
      "2017-04-12 02:01:07,472 : INFO : PROGRESS: saving document #29000\n",
      "2017-04-12 02:01:07,593 : INFO : PROGRESS: saving document #30000\n",
      "2017-04-12 02:01:07,717 : INFO : PROGRESS: saving document #31000\n",
      "2017-04-12 02:01:07,838 : INFO : PROGRESS: saving document #32000\n",
      "2017-04-12 02:01:07,960 : INFO : PROGRESS: saving document #33000\n",
      "2017-04-12 02:01:08,080 : INFO : PROGRESS: saving document #34000\n",
      "2017-04-12 02:01:08,202 : INFO : PROGRESS: saving document #35000\n",
      "2017-04-12 02:01:08,317 : INFO : PROGRESS: saving document #36000\n",
      "2017-04-12 02:01:08,445 : INFO : PROGRESS: saving document #37000\n",
      "2017-04-12 02:01:08,570 : INFO : PROGRESS: saving document #38000\n",
      "2017-04-12 02:01:08,705 : INFO : PROGRESS: saving document #39000\n",
      "2017-04-12 02:01:08,830 : INFO : PROGRESS: saving document #40000\n",
      "2017-04-12 02:01:08,959 : INFO : PROGRESS: saving document #41000\n",
      "2017-04-12 02:01:09,088 : INFO : PROGRESS: saving document #42000\n",
      "2017-04-12 02:01:09,214 : INFO : PROGRESS: saving document #43000\n",
      "2017-04-12 02:01:09,349 : INFO : PROGRESS: saving document #44000\n",
      "2017-04-12 02:01:09,480 : INFO : PROGRESS: saving document #45000\n",
      "2017-04-12 02:01:09,602 : INFO : PROGRESS: saving document #46000\n",
      "2017-04-12 02:01:09,725 : INFO : PROGRESS: saving document #47000\n",
      "2017-04-12 02:01:09,856 : INFO : PROGRESS: saving document #48000\n",
      "2017-04-12 02:01:10,029 : INFO : PROGRESS: saving document #49000\n",
      "2017-04-12 02:01:10,198 : INFO : PROGRESS: saving document #50000\n",
      "2017-04-12 02:01:10,350 : INFO : PROGRESS: saving document #51000\n",
      "2017-04-12 02:01:10,484 : INFO : PROGRESS: saving document #52000\n",
      "2017-04-12 02:01:10,616 : INFO : PROGRESS: saving document #53000\n",
      "2017-04-12 02:01:10,740 : INFO : PROGRESS: saving document #54000\n",
      "2017-04-12 02:01:10,890 : INFO : PROGRESS: saving document #55000\n",
      "2017-04-12 02:01:11,025 : INFO : PROGRESS: saving document #56000\n",
      "2017-04-12 02:01:11,146 : INFO : PROGRESS: saving document #57000\n",
      "2017-04-12 02:01:11,268 : INFO : PROGRESS: saving document #58000\n",
      "2017-04-12 02:01:11,382 : INFO : PROGRESS: saving document #59000\n",
      "2017-04-12 02:01:11,505 : INFO : PROGRESS: saving document #60000\n",
      "2017-04-12 02:01:11,624 : INFO : PROGRESS: saving document #61000\n",
      "2017-04-12 02:01:11,743 : INFO : PROGRESS: saving document #62000\n",
      "2017-04-12 02:01:11,861 : INFO : PROGRESS: saving document #63000\n",
      "2017-04-12 02:01:11,994 : INFO : PROGRESS: saving document #64000\n",
      "2017-04-12 02:01:12,123 : INFO : PROGRESS: saving document #65000\n",
      "2017-04-12 02:01:12,255 : INFO : PROGRESS: saving document #66000\n",
      "2017-04-12 02:01:12,385 : INFO : PROGRESS: saving document #67000\n",
      "2017-04-12 02:01:12,510 : INFO : PROGRESS: saving document #68000\n",
      "2017-04-12 02:01:12,639 : INFO : PROGRESS: saving document #69000\n",
      "2017-04-12 02:01:12,763 : INFO : PROGRESS: saving document #70000\n",
      "2017-04-12 02:01:12,883 : INFO : PROGRESS: saving document #71000\n",
      "2017-04-12 02:01:13,005 : INFO : PROGRESS: saving document #72000\n",
      "2017-04-12 02:01:13,128 : INFO : PROGRESS: saving document #73000\n",
      "2017-04-12 02:01:13,248 : INFO : PROGRESS: saving document #74000\n",
      "2017-04-12 02:01:13,368 : INFO : saved 75000x56378 matrix, density=0.168% (7099218/4228350000)\n",
      "2017-04-12 02:01:13,369 : INFO : saving MmCorpus index to ../outputs/corpus_tf.mm.index\n",
      "2017-04-12 02:01:13,373 : INFO : storing corpus in Matrix Market format to ../outputs/corpus_tfidf.mm\n",
      "2017-04-12 02:01:13,375 : INFO : saving sparse matrix to ../outputs/corpus_tfidf.mm\n",
      "2017-04-12 02:01:13,376 : INFO : PROGRESS: saving document #0\n",
      "2017-04-12 02:01:13,665 : INFO : PROGRESS: saving document #1000\n",
      "2017-04-12 02:01:13,961 : INFO : PROGRESS: saving document #2000\n",
      "2017-04-12 02:01:14,254 : INFO : PROGRESS: saving document #3000\n",
      "2017-04-12 02:01:14,559 : INFO : PROGRESS: saving document #4000\n",
      "2017-04-12 02:01:14,851 : INFO : PROGRESS: saving document #5000\n",
      "2017-04-12 02:01:15,163 : INFO : PROGRESS: saving document #6000\n",
      "2017-04-12 02:01:15,456 : INFO : PROGRESS: saving document #7000\n",
      "2017-04-12 02:01:15,737 : INFO : PROGRESS: saving document #8000\n",
      "2017-04-12 02:01:16,035 : INFO : PROGRESS: saving document #9000\n",
      "2017-04-12 02:01:16,319 : INFO : PROGRESS: saving document #10000\n",
      "2017-04-12 02:01:16,624 : INFO : PROGRESS: saving document #11000\n",
      "2017-04-12 02:01:16,926 : INFO : PROGRESS: saving document #12000\n",
      "2017-04-12 02:01:17,217 : INFO : PROGRESS: saving document #13000\n",
      "2017-04-12 02:01:17,516 : INFO : PROGRESS: saving document #14000\n",
      "2017-04-12 02:01:17,806 : INFO : PROGRESS: saving document #15000\n",
      "2017-04-12 02:01:18,111 : INFO : PROGRESS: saving document #16000\n",
      "2017-04-12 02:01:18,404 : INFO : PROGRESS: saving document #17000\n",
      "2017-04-12 02:01:18,701 : INFO : PROGRESS: saving document #18000\n",
      "2017-04-12 02:01:18,988 : INFO : PROGRESS: saving document #19000\n",
      "2017-04-12 02:01:19,273 : INFO : PROGRESS: saving document #20000\n",
      "2017-04-12 02:01:19,577 : INFO : PROGRESS: saving document #21000\n",
      "2017-04-12 02:01:19,878 : INFO : PROGRESS: saving document #22000\n",
      "2017-04-12 02:01:20,163 : INFO : PROGRESS: saving document #23000\n",
      "2017-04-12 02:01:20,444 : INFO : PROGRESS: saving document #24000\n",
      "2017-04-12 02:01:20,719 : INFO : PROGRESS: saving document #25000\n",
      "2017-04-12 02:01:21,007 : INFO : PROGRESS: saving document #26000\n",
      "2017-04-12 02:01:21,302 : INFO : PROGRESS: saving document #27000\n",
      "2017-04-12 02:01:21,580 : INFO : PROGRESS: saving document #28000\n",
      "2017-04-12 02:01:21,863 : INFO : PROGRESS: saving document #29000\n",
      "2017-04-12 02:01:22,151 : INFO : PROGRESS: saving document #30000\n",
      "2017-04-12 02:01:22,440 : INFO : PROGRESS: saving document #31000\n",
      "2017-04-12 02:01:22,843 : INFO : PROGRESS: saving document #32000\n",
      "2017-04-12 02:01:23,173 : INFO : PROGRESS: saving document #33000\n",
      "2017-04-12 02:01:23,450 : INFO : PROGRESS: saving document #34000\n",
      "2017-04-12 02:01:23,731 : INFO : PROGRESS: saving document #35000\n",
      "2017-04-12 02:01:24,016 : INFO : PROGRESS: saving document #36000\n",
      "2017-04-12 02:01:24,313 : INFO : PROGRESS: saving document #37000\n",
      "2017-04-12 02:01:24,617 : INFO : PROGRESS: saving document #38000\n",
      "2017-04-12 02:01:24,922 : INFO : PROGRESS: saving document #39000\n",
      "2017-04-12 02:01:25,235 : INFO : PROGRESS: saving document #40000\n",
      "2017-04-12 02:01:25,540 : INFO : PROGRESS: saving document #41000\n",
      "2017-04-12 02:01:25,832 : INFO : PROGRESS: saving document #42000\n",
      "2017-04-12 02:01:26,141 : INFO : PROGRESS: saving document #43000\n",
      "2017-04-12 02:01:26,451 : INFO : PROGRESS: saving document #44000\n",
      "2017-04-12 02:01:26,762 : INFO : PROGRESS: saving document #45000\n",
      "2017-04-12 02:01:27,062 : INFO : PROGRESS: saving document #46000\n",
      "2017-04-12 02:01:27,351 : INFO : PROGRESS: saving document #47000\n",
      "2017-04-12 02:01:27,649 : INFO : PROGRESS: saving document #48000\n",
      "2017-04-12 02:01:27,971 : INFO : PROGRESS: saving document #49000\n",
      "2017-04-12 02:01:28,268 : INFO : PROGRESS: saving document #50000\n",
      "2017-04-12 02:01:28,557 : INFO : PROGRESS: saving document #51000\n",
      "2017-04-12 02:01:28,853 : INFO : PROGRESS: saving document #52000\n",
      "2017-04-12 02:01:29,148 : INFO : PROGRESS: saving document #53000\n",
      "2017-04-12 02:01:29,442 : INFO : PROGRESS: saving document #54000\n",
      "2017-04-12 02:01:29,760 : INFO : PROGRESS: saving document #55000\n",
      "2017-04-12 02:01:30,065 : INFO : PROGRESS: saving document #56000\n",
      "2017-04-12 02:01:30,377 : INFO : PROGRESS: saving document #57000\n",
      "2017-04-12 02:01:30,685 : INFO : PROGRESS: saving document #58000\n",
      "2017-04-12 02:01:30,983 : INFO : PROGRESS: saving document #59000\n",
      "2017-04-12 02:01:31,278 : INFO : PROGRESS: saving document #60000\n",
      "2017-04-12 02:01:31,582 : INFO : PROGRESS: saving document #61000\n",
      "2017-04-12 02:01:31,908 : INFO : PROGRESS: saving document #62000\n",
      "2017-04-12 02:01:32,240 : INFO : PROGRESS: saving document #63000\n",
      "2017-04-12 02:01:32,600 : INFO : PROGRESS: saving document #64000\n",
      "2017-04-12 02:01:32,901 : INFO : PROGRESS: saving document #65000\n",
      "2017-04-12 02:01:33,226 : INFO : PROGRESS: saving document #66000\n",
      "2017-04-12 02:01:33,567 : INFO : PROGRESS: saving document #67000\n",
      "2017-04-12 02:01:33,842 : INFO : PROGRESS: saving document #68000\n",
      "2017-04-12 02:01:34,146 : INFO : PROGRESS: saving document #69000\n",
      "2017-04-12 02:01:34,446 : INFO : PROGRESS: saving document #70000\n",
      "2017-04-12 02:01:34,754 : INFO : PROGRESS: saving document #71000\n",
      "2017-04-12 02:01:35,067 : INFO : PROGRESS: saving document #72000\n",
      "2017-04-12 02:01:35,366 : INFO : PROGRESS: saving document #73000\n",
      "2017-04-12 02:01:35,649 : INFO : PROGRESS: saving document #74000\n",
      "2017-04-12 02:01:35,943 : INFO : saved 75000x56378 matrix, density=0.168% (7099218/4228350000)\n",
      "2017-04-12 02:01:35,944 : INFO : saving MmCorpus index to ../outputs/corpus_tfidf.mm.index\n"
     ]
    }
   ],
   "source": [
    "corpora.MmCorpus.serialize(os.path.join(outputs, 'corpus_tf.mm'), corpus_tf)\n",
    "corpora.MmCorpus.serialize(os.path.join(outputs, 'corpus_tfidf.mm'), corpus_tfidf)"
   ]
  },
  {
   "cell_type": "markdown",
   "metadata": {
    "deletable": true,
    "editable": true
   },
   "source": [
    "Loading the Corpora"
   ]
  },
  {
   "cell_type": "code",
   "execution_count": 70,
   "metadata": {
    "collapsed": false,
    "deletable": true,
    "editable": true
   },
   "outputs": [
    {
     "name": "stderr",
     "output_type": "stream",
     "text": [
      "2017-04-12 02:01:35,964 : INFO : loaded corpus index from ../outputs/corpus_tf.mm.index\n",
      "2017-04-12 02:01:35,965 : INFO : initializing corpus reader from ../outputs/corpus_tf.mm\n",
      "2017-04-12 02:01:35,966 : INFO : accepted corpus with 75000 documents, 56378 features, 7099218 non-zero entries\n",
      "2017-04-12 02:01:35,978 : INFO : loaded corpus index from ../outputs/corpus_tfidf.mm.index\n",
      "2017-04-12 02:01:35,978 : INFO : initializing corpus reader from ../outputs/corpus_tfidf.mm\n",
      "2017-04-12 02:01:35,980 : INFO : accepted corpus with 75000 documents, 56378 features, 7099218 non-zero entries\n"
     ]
    }
   ],
   "source": [
    "corpus_tf = corpora.MmCorpus(os.path.join(outputs, 'corpus_tf.mm'))\n",
    "corpus_tfidf = corpora.MmCorpus(os.path.join(outputs, 'corpus_tfidf.mm'))"
   ]
  },
  {
   "cell_type": "markdown",
   "metadata": {
    "deletable": true,
    "editable": true
   },
   "source": [
    "### Latent Semantic Indexing\n",
    "https://en.wikipedia.org/wiki/Latent_semantic_analysis  "
   ]
  },
  {
   "cell_type": "markdown",
   "metadata": {
    "deletable": true,
    "editable": true
   },
   "source": [
    "Generating the Models and the Corpora"
   ]
  },
  {
   "cell_type": "code",
   "execution_count": 71,
   "metadata": {
    "collapsed": false,
    "deletable": true,
    "editable": true
   },
   "outputs": [
    {
     "name": "stderr",
     "output_type": "stream",
     "text": [
      "2017-04-12 02:01:36,283 : INFO : using serial LSI version on this node\n",
      "2017-04-12 02:01:36,285 : INFO : updating model with new documents\n",
      "2017-04-12 02:01:40,277 : INFO : preparing a new chunk of documents\n",
      "2017-04-12 02:01:40,648 : INFO : using 100 extra samples and 2 power iterations\n",
      "2017-04-12 02:01:40,649 : INFO : 1st phase: constructing (56378, 110) action matrix\n",
      "2017-04-12 02:01:41,020 : INFO : orthonormalizing (56378, 110) action matrix\n",
      "2017-04-12 02:01:43,932 : INFO : 2nd phase: running dense svd on (110, 20000) matrix\n",
      "2017-04-12 02:01:44,393 : INFO : computing the final decomposition\n",
      "2017-04-12 02:01:44,395 : INFO : keeping 10 factors (discarding 48.484% of energy spectrum)\n",
      "2017-04-12 02:01:44,428 : INFO : processed documents up to #20000\n",
      "2017-04-12 02:01:44,467 : INFO : topic #0(627.645): 0.511*\"film\" + 0.285*\"one\" + 0.216*\"like\" + 0.146*\"good\" + 0.146*\"would\" + 0.139*\"even\" + 0.125*\"really\" + 0.124*\"time\" + 0.120*\"story\" + 0.117*\"see\"\n",
      "2017-04-12 02:01:44,480 : INFO : topic #1(267.466): 0.829*\"film\" + -0.203*\"one\" + -0.190*\"like\" + -0.131*\"show\" + -0.106*\"movies\" + -0.105*\"good\" + -0.101*\"would\" + -0.099*\"even\" + -0.090*\"really\" + -0.080*\"get\"\n",
      "2017-04-12 02:01:44,486 : INFO : topic #2(167.218): 0.720*\"one\" + -0.456*\"like\" + -0.188*\"bad\" + -0.155*\"really\" + -0.141*\"good\" + -0.108*\"would\" + -0.094*\"people\" + -0.085*\"think\" + 0.077*\"two\" + -0.074*\"even\"\n",
      "2017-04-12 02:01:44,488 : INFO : topic #3(151.443): 0.495*\"one\" + 0.361*\"like\" + -0.312*\"story\" + 0.260*\"bad\" + -0.219*\"show\" + -0.154*\"life\" + -0.146*\"great\" + 0.146*\"movies\" + -0.124*\"love\" + -0.121*\"also\"\n",
      "2017-04-12 02:01:44,491 : INFO : topic #4(142.826): -0.634*\"good\" + 0.447*\"like\" + -0.289*\"bad\" + -0.212*\"really\" + -0.164*\"story\" + 0.154*\"people\" + 0.140*\"show\" + -0.132*\"acting\" + 0.113*\"life\" + 0.083*\"love\"\n",
      "2017-04-12 02:01:49,616 : INFO : preparing a new chunk of documents\n",
      "2017-04-12 02:01:50,046 : INFO : using 100 extra samples and 2 power iterations\n",
      "2017-04-12 02:01:50,047 : INFO : 1st phase: constructing (56378, 110) action matrix\n",
      "2017-04-12 02:01:50,493 : INFO : orthonormalizing (56378, 110) action matrix\n",
      "2017-04-12 02:01:53,679 : INFO : 2nd phase: running dense svd on (110, 20000) matrix\n",
      "2017-04-12 02:01:54,190 : INFO : computing the final decomposition\n",
      "2017-04-12 02:01:54,192 : INFO : keeping 10 factors (discarding 48.469% of energy spectrum)\n",
      "2017-04-12 02:01:54,215 : INFO : merging projections: (56378, 10) + (56378, 10)\n",
      "2017-04-12 02:01:54,240 : INFO : keeping 10 factors (discarding 0.630% of energy spectrum)\n",
      "2017-04-12 02:01:54,248 : INFO : processed documents up to #40000\n",
      "2017-04-12 02:01:54,251 : INFO : topic #0(884.073): 0.508*\"film\" + 0.289*\"one\" + 0.216*\"like\" + 0.148*\"good\" + 0.147*\"would\" + 0.138*\"even\" + 0.125*\"time\" + 0.124*\"really\" + 0.120*\"story\" + 0.116*\"see\"\n",
      "2017-04-12 02:01:54,253 : INFO : topic #1(377.859): -0.833*\"film\" + 0.212*\"one\" + 0.188*\"like\" + 0.119*\"show\" + 0.107*\"good\" + 0.105*\"movies\" + 0.097*\"would\" + 0.094*\"even\" + 0.089*\"really\" + 0.084*\"get\"\n",
      "2017-04-12 02:01:54,255 : INFO : topic #2(234.032): 0.739*\"one\" + -0.427*\"like\" + -0.195*\"bad\" + -0.178*\"good\" + -0.167*\"really\" + -0.113*\"would\" + -0.089*\"people\" + -0.079*\"think\" + 0.069*\"best\" + 0.068*\"two\"\n",
      "2017-04-12 02:01:54,258 : INFO : topic #3(209.617): -0.475*\"one\" + -0.360*\"like\" + 0.344*\"story\" + -0.284*\"bad\" + 0.157*\"show\" + 0.156*\"life\" + 0.146*\"love\" + 0.144*\"great\" + 0.137*\"also\" + 0.115*\"character\"\n",
      "2017-04-12 02:01:54,260 : INFO : topic #4(201.297): -0.638*\"good\" + 0.430*\"like\" + -0.288*\"bad\" + -0.214*\"really\" + 0.164*\"people\" + -0.153*\"story\" + 0.145*\"show\" + 0.131*\"would\" + -0.127*\"acting\" + 0.111*\"life\"\n",
      "2017-04-12 02:01:58,281 : INFO : preparing a new chunk of documents\n",
      "2017-04-12 02:01:58,647 : INFO : using 100 extra samples and 2 power iterations\n",
      "2017-04-12 02:01:58,648 : INFO : 1st phase: constructing (56378, 110) action matrix\n",
      "2017-04-12 02:01:59,121 : INFO : orthonormalizing (56378, 110) action matrix\n",
      "2017-04-12 02:02:02,255 : INFO : 2nd phase: running dense svd on (110, 20000) matrix\n",
      "2017-04-12 02:02:02,688 : INFO : computing the final decomposition\n",
      "2017-04-12 02:02:02,690 : INFO : keeping 10 factors (discarding 48.085% of energy spectrum)\n",
      "2017-04-12 02:02:02,713 : INFO : merging projections: (56378, 10) + (56378, 10)\n",
      "2017-04-12 02:02:02,742 : INFO : keeping 10 factors (discarding 0.330% of energy spectrum)\n",
      "2017-04-12 02:02:02,750 : INFO : processed documents up to #60000\n",
      "2017-04-12 02:02:02,753 : INFO : topic #0(1085.598): 0.506*\"film\" + 0.290*\"one\" + 0.218*\"like\" + 0.147*\"would\" + 0.146*\"good\" + 0.138*\"even\" + 0.126*\"time\" + 0.123*\"really\" + 0.119*\"story\" + 0.117*\"see\"\n",
      "2017-04-12 02:02:02,755 : INFO : topic #1(464.461): -0.833*\"film\" + 0.213*\"one\" + 0.196*\"like\" + 0.116*\"show\" + 0.105*\"movies\" + 0.103*\"good\" + 0.100*\"would\" + 0.094*\"even\" + 0.091*\"really\" + 0.084*\"get\"\n",
      "2017-04-12 02:02:02,771 : INFO : topic #2(287.987): 0.718*\"one\" + -0.470*\"like\" + -0.182*\"bad\" + -0.164*\"really\" + -0.150*\"good\" + -0.122*\"would\" + -0.094*\"people\" + -0.079*\"think\" + 0.075*\"two\" + 0.071*\"best\"\n",
      "2017-04-12 02:02:02,774 : INFO : topic #3(257.249): -0.506*\"one\" + -0.433*\"like\" + 0.320*\"story\" + -0.229*\"bad\" + 0.147*\"show\" + 0.139*\"life\" + 0.138*\"great\" + 0.131*\"love\" + 0.127*\"also\" + 0.116*\"character\"\n",
      "2017-04-12 02:02:02,776 : INFO : topic #4(247.856): -0.613*\"good\" + 0.426*\"like\" + -0.327*\"bad\" + -0.245*\"really\" + -0.131*\"acting\" + 0.131*\"people\" + 0.124*\"life\" + 0.122*\"show\" + 0.120*\"would\" + -0.104*\"great\"\n",
      "2017-04-12 02:02:05,778 : INFO : preparing a new chunk of documents\n",
      "2017-04-12 02:02:06,079 : INFO : using 100 extra samples and 2 power iterations\n",
      "2017-04-12 02:02:06,080 : INFO : 1st phase: constructing (56378, 110) action matrix\n",
      "2017-04-12 02:02:06,406 : INFO : orthonormalizing (56378, 110) action matrix\n",
      "2017-04-12 02:02:09,247 : INFO : 2nd phase: running dense svd on (110, 15000) matrix\n",
      "2017-04-12 02:02:09,583 : INFO : computing the final decomposition\n",
      "2017-04-12 02:02:09,584 : INFO : keeping 10 factors (discarding 48.395% of energy spectrum)\n",
      "2017-04-12 02:02:09,613 : INFO : merging projections: (56378, 10) + (56378, 10)\n",
      "2017-04-12 02:02:09,644 : INFO : keeping 10 factors (discarding 0.262% of energy spectrum)\n",
      "2017-04-12 02:02:09,662 : INFO : processed documents up to #75000\n",
      "2017-04-12 02:02:09,673 : INFO : topic #0(1213.661): 0.508*\"film\" + 0.290*\"one\" + 0.218*\"like\" + 0.147*\"would\" + 0.145*\"good\" + 0.137*\"even\" + 0.125*\"time\" + 0.123*\"really\" + 0.119*\"story\" + 0.117*\"see\"\n",
      "2017-04-12 02:02:09,675 : INFO : topic #1(518.758): -0.833*\"film\" + 0.214*\"one\" + 0.195*\"like\" + 0.113*\"show\" + 0.105*\"movies\" + 0.105*\"good\" + 0.101*\"would\" + 0.093*\"even\" + 0.092*\"really\" + 0.085*\"get\"\n",
      "2017-04-12 02:02:09,678 : INFO : topic #2(320.988): 0.728*\"one\" + -0.456*\"like\" + -0.179*\"bad\" + -0.164*\"really\" + -0.153*\"good\" + -0.123*\"would\" + -0.095*\"people\" + -0.079*\"think\" + 0.076*\"two\" + 0.071*\"best\"\n",
      "2017-04-12 02:02:09,681 : INFO : topic #3(286.585): -0.493*\"one\" + -0.424*\"like\" + 0.332*\"story\" + -0.243*\"bad\" + 0.138*\"great\" + 0.138*\"show\" + 0.137*\"life\" + 0.137*\"also\" + 0.129*\"love\" + 0.119*\"character\"\n",
      "2017-04-12 02:02:09,683 : INFO : topic #4(276.254): -0.622*\"good\" + 0.409*\"like\" + -0.311*\"bad\" + -0.249*\"really\" + 0.156*\"would\" + 0.144*\"people\" + 0.131*\"show\" + -0.128*\"acting\" + 0.117*\"life\" + -0.116*\"great\"\n",
      "2017-04-12 02:02:09,775 : INFO : using serial LSI version on this node\n",
      "2017-04-12 02:02:09,776 : INFO : updating model with new documents\n"
     ]
    },
    {
     "name": "stdout",
     "output_type": "stream",
     "text": [
      "corpus lsi - TF done\n"
     ]
    },
    {
     "name": "stderr",
     "output_type": "stream",
     "text": [
      "2017-04-12 02:02:14,313 : INFO : preparing a new chunk of documents\n",
      "2017-04-12 02:02:14,665 : INFO : using 100 extra samples and 2 power iterations\n",
      "2017-04-12 02:02:14,666 : INFO : 1st phase: constructing (56378, 110) action matrix\n",
      "2017-04-12 02:02:15,112 : INFO : orthonormalizing (56378, 110) action matrix\n",
      "2017-04-12 02:02:18,272 : INFO : 2nd phase: running dense svd on (110, 20000) matrix\n",
      "2017-04-12 02:02:18,744 : INFO : computing the final decomposition\n",
      "2017-04-12 02:02:18,745 : INFO : keeping 10 factors (discarding 63.662% of energy spectrum)\n",
      "2017-04-12 02:02:18,798 : INFO : processed documents up to #20000\n",
      "2017-04-12 02:02:18,800 : INFO : topic #0(17.738): 0.145*\"film\" + 0.102*\"bad\" + 0.101*\"really\" + 0.101*\"good\" + 0.101*\"like\" + 0.094*\"would\" + 0.093*\"one\" + 0.091*\"story\" + 0.089*\"even\" + 0.088*\"see\"\n",
      "2017-04-12 02:02:18,802 : INFO : topic #1(6.218): -0.326*\"bad\" + -0.194*\"worst\" + -0.148*\"waste\" + -0.134*\"movies\" + -0.124*\"acting\" + -0.114*\"horror\" + -0.113*\"terrible\" + -0.107*\"ever\" + -0.103*\"awful\" + -0.102*\"stupid\"\n",
      "2017-04-12 02:02:18,805 : INFO : topic #2(5.892): -0.658*\"show\" + -0.242*\"episode\" + -0.213*\"series\" + -0.180*\"season\" + 0.174*\"film\" + -0.168*\"episodes\" + -0.131*\"tv\" + -0.120*\"funny\" + -0.114*\"shows\" + 0.091*\"horror\"\n",
      "2017-04-12 02:02:18,808 : INFO : topic #3(4.988): -0.230*\"book\" + 0.209*\"horror\" + -0.189*\"great\" + 0.187*\"show\" + -0.131*\"read\" + -0.126*\"movies\" + 0.119*\"episode\" + -0.108*\"saw\" + 0.106*\"killer\" + -0.105*\"loved\"\n",
      "2017-04-12 02:02:18,810 : INFO : topic #4(4.815): -0.308*\"series\" + -0.208*\"book\" + 0.167*\"funny\" + -0.164*\"episode\" + -0.157*\"original\" + 0.151*\"family\" + 0.138*\"life\" + 0.129*\"love\" + 0.126*\"people\" + -0.120*\"horror\"\n",
      "2017-04-12 02:02:23,710 : INFO : preparing a new chunk of documents\n",
      "2017-04-12 02:02:24,098 : INFO : using 100 extra samples and 2 power iterations\n",
      "2017-04-12 02:02:24,099 : INFO : 1st phase: constructing (56378, 110) action matrix\n",
      "2017-04-12 02:02:24,538 : INFO : orthonormalizing (56378, 110) action matrix\n",
      "2017-04-12 02:02:27,710 : INFO : 2nd phase: running dense svd on (110, 20000) matrix\n",
      "2017-04-12 02:02:28,185 : INFO : computing the final decomposition\n",
      "2017-04-12 02:02:28,186 : INFO : keeping 10 factors (discarding 62.788% of energy spectrum)\n",
      "2017-04-12 02:02:28,211 : INFO : merging projections: (56378, 10) + (56378, 10)\n",
      "2017-04-12 02:02:28,228 : INFO : keeping 10 factors (discarding 2.972% of energy spectrum)\n",
      "2017-04-12 02:02:28,236 : INFO : processed documents up to #40000\n",
      "2017-04-12 02:02:28,240 : INFO : topic #0(25.006): 0.146*\"film\" + 0.103*\"bad\" + 0.102*\"good\" + 0.101*\"like\" + 0.101*\"really\" + 0.095*\"one\" + 0.094*\"would\" + 0.091*\"story\" + 0.088*\"see\" + 0.088*\"even\"\n",
      "2017-04-12 02:02:28,244 : INFO : topic #1(8.596): -0.334*\"bad\" + -0.199*\"worst\" + -0.131*\"waste\" + -0.128*\"acting\" + -0.128*\"movies\" + -0.120*\"terrible\" + -0.113*\"ever\" + -0.102*\"horror\" + -0.100*\"stupid\" + -0.098*\"awful\"\n",
      "2017-04-12 02:02:28,248 : INFO : topic #2(8.006): 0.668*\"show\" + 0.227*\"episode\" + 0.219*\"series\" + -0.176*\"film\" + 0.162*\"episodes\" + 0.155*\"season\" + 0.139*\"tv\" + -0.122*\"horror\" + 0.119*\"funny\" + 0.115*\"shows\"\n",
      "2017-04-12 02:02:28,252 : INFO : topic #3(6.920): -0.313*\"book\" + 0.207*\"show\" + -0.191*\"great\" + 0.179*\"horror\" + -0.146*\"read\" + -0.113*\"seen\" + -0.112*\"movies\" + 0.110*\"killer\" + -0.100*\"love\" + -0.098*\"saw\"\n",
      "2017-04-12 02:02:28,255 : INFO : topic #4(6.604): 0.304*\"series\" + 0.195*\"horror\" + 0.162*\"original\" + -0.158*\"life\" + 0.148*\"episode\" + -0.143*\"people\" + 0.139*\"effects\" + 0.134*\"action\" + -0.123*\"love\" + -0.121*\"family\"\n",
      "2017-04-12 02:02:33,972 : INFO : preparing a new chunk of documents\n",
      "2017-04-12 02:02:34,332 : INFO : using 100 extra samples and 2 power iterations\n",
      "2017-04-12 02:02:34,333 : INFO : 1st phase: constructing (56378, 110) action matrix\n",
      "2017-04-12 02:02:34,777 : INFO : orthonormalizing (56378, 110) action matrix\n",
      "2017-04-12 02:02:37,767 : INFO : 2nd phase: running dense svd on (110, 20000) matrix\n",
      "2017-04-12 02:02:38,237 : INFO : computing the final decomposition\n",
      "2017-04-12 02:02:38,238 : INFO : keeping 10 factors (discarding 63.075% of energy spectrum)\n",
      "2017-04-12 02:02:38,263 : INFO : merging projections: (56378, 10) + (56378, 10)\n",
      "2017-04-12 02:02:38,279 : INFO : keeping 10 factors (discarding 1.628% of energy spectrum)\n",
      "2017-04-12 02:02:38,290 : INFO : processed documents up to #60000\n",
      "2017-04-12 02:02:38,294 : INFO : topic #0(30.621): 0.146*\"film\" + 0.103*\"bad\" + 0.102*\"good\" + 0.101*\"like\" + 0.101*\"really\" + 0.095*\"one\" + 0.095*\"would\" + 0.090*\"story\" + 0.089*\"see\" + 0.088*\"even\"\n",
      "2017-04-12 02:02:38,298 : INFO : topic #1(10.490): -0.332*\"bad\" + -0.199*\"worst\" + -0.131*\"movies\" + -0.131*\"waste\" + -0.129*\"acting\" + -0.116*\"ever\" + -0.115*\"terrible\" + -0.105*\"horrible\" + -0.104*\"horror\" + -0.102*\"stupid\"\n",
      "2017-04-12 02:02:38,305 : INFO : topic #2(9.656): 0.673*\"show\" + 0.215*\"episode\" + 0.209*\"series\" + -0.176*\"film\" + 0.156*\"episodes\" + 0.143*\"season\" + 0.141*\"tv\" + -0.134*\"horror\" + 0.125*\"funny\" + 0.118*\"shows\"\n",
      "2017-04-12 02:02:38,310 : INFO : topic #3(8.343): 0.291*\"book\" + -0.226*\"show\" + 0.205*\"great\" + -0.174*\"horror\" + 0.129*\"read\" + 0.115*\"movies\" + 0.106*\"seen\" + -0.103*\"killer\" + 0.100*\"love\" + -0.094*\"guy\"\n",
      "2017-04-12 02:02:38,313 : INFO : topic #4(8.069): 0.238*\"series\" + 0.237*\"horror\" + -0.168*\"life\" + 0.152*\"action\" + -0.150*\"people\" + 0.138*\"effects\" + 0.137*\"original\" + 0.133*\"show\" + 0.121*\"great\" + 0.107*\"films\"\n",
      "2017-04-12 02:02:41,800 : INFO : preparing a new chunk of documents\n",
      "2017-04-12 02:02:42,087 : INFO : using 100 extra samples and 2 power iterations\n",
      "2017-04-12 02:02:42,088 : INFO : 1st phase: constructing (56378, 110) action matrix\n",
      "2017-04-12 02:02:42,420 : INFO : orthonormalizing (56378, 110) action matrix\n",
      "2017-04-12 02:02:45,283 : INFO : 2nd phase: running dense svd on (110, 15000) matrix\n",
      "2017-04-12 02:02:45,617 : INFO : computing the final decomposition\n",
      "2017-04-12 02:02:45,621 : INFO : keeping 10 factors (discarding 63.984% of energy spectrum)\n",
      "2017-04-12 02:02:45,647 : INFO : merging projections: (56378, 10) + (56378, 10)\n",
      "2017-04-12 02:02:45,663 : INFO : keeping 10 factors (discarding 1.236% of energy spectrum)\n",
      "2017-04-12 02:02:45,672 : INFO : processed documents up to #75000\n",
      "2017-04-12 02:02:45,674 : INFO : topic #0(34.212): 0.146*\"film\" + 0.103*\"bad\" + 0.101*\"good\" + 0.101*\"like\" + 0.101*\"really\" + 0.095*\"one\" + 0.094*\"would\" + 0.091*\"story\" + 0.089*\"see\" + 0.088*\"even\"\n",
      "2017-04-12 02:02:45,677 : INFO : topic #1(11.691): -0.333*\"bad\" + -0.199*\"worst\" + -0.130*\"movies\" + -0.129*\"acting\" + -0.129*\"waste\" + -0.116*\"terrible\" + -0.115*\"ever\" + -0.105*\"horror\" + -0.105*\"horrible\" + -0.102*\"stupid\"\n",
      "2017-04-12 02:02:45,680 : INFO : topic #2(10.717): 0.673*\"show\" + 0.214*\"episode\" + 0.207*\"series\" + -0.171*\"film\" + 0.150*\"tv\" + 0.149*\"episodes\" + 0.142*\"season\" + -0.140*\"horror\" + 0.127*\"funny\" + 0.118*\"shows\"\n",
      "2017-04-12 02:02:45,682 : INFO : topic #3(9.262): -0.228*\"show\" + 0.223*\"great\" + 0.217*\"book\" + -0.175*\"horror\" + 0.117*\"movies\" + 0.110*\"seen\" + 0.108*\"best\" + 0.102*\"love\" + -0.102*\"killer\" + 0.101*\"read\"\n",
      "2017-04-12 02:02:45,685 : INFO : topic #4(8.956): 0.249*\"horror\" + 0.218*\"series\" + -0.166*\"life\" + 0.159*\"action\" + -0.154*\"people\" + 0.153*\"show\" + 0.133*\"effects\" + 0.128*\"original\" + 0.126*\"great\" + -0.112*\"book\"\n"
     ]
    },
    {
     "name": "stdout",
     "output_type": "stream",
     "text": [
      "corpus lsi - TFIDF done\n"
     ]
    }
   ],
   "source": [
    "lsi_tf = models.LsiModel(corpus_tf, id2word=dictionary, num_topics=10)\n",
    "corpus_lsi_tf = lsi_tf[corpus_tf]\n",
    "print('corpus lsi - TF done')\n",
    "lsi_tfidf = models.LsiModel(corpus_tfidf, id2word=dictionary, num_topics=10)\n",
    "corpus_lsi_tfidf = lsi_tfidf[corpus_tfidf]\n",
    "print('corpus lsi - TFIDF done')"
   ]
  },
  {
   "cell_type": "markdown",
   "metadata": {
    "deletable": true,
    "editable": true
   },
   "source": [
    "Saving the Models and the Corpora"
   ]
  },
  {
   "cell_type": "code",
   "execution_count": 72,
   "metadata": {
    "collapsed": false,
    "deletable": true,
    "editable": true
   },
   "outputs": [
    {
     "name": "stderr",
     "output_type": "stream",
     "text": [
      "2017-04-12 02:02:45,784 : INFO : saving Projection object under ../outputs/model_tf.lsi.projection, separately None\n",
      "2017-04-12 02:02:45,814 : INFO : saved ../outputs/model_tf.lsi.projection\n",
      "2017-04-12 02:02:45,814 : INFO : saving LsiModel object under ../outputs/model_tf.lsi, separately None\n",
      "2017-04-12 02:02:45,815 : INFO : not storing attribute dispatcher\n",
      "2017-04-12 02:02:45,815 : INFO : not storing attribute projection\n",
      "2017-04-12 02:02:45,845 : INFO : saved ../outputs/model_tf.lsi\n",
      "2017-04-12 02:02:45,846 : INFO : storing corpus in Matrix Market format to ../outputs/corpus_lsi_tf.mm\n",
      "2017-04-12 02:02:45,847 : INFO : saving sparse matrix to ../outputs/corpus_lsi_tf.mm\n",
      "2017-04-12 02:02:45,978 : INFO : PROGRESS: saving document #0\n",
      "2017-04-12 02:02:46,144 : INFO : PROGRESS: saving document #1000\n",
      "2017-04-12 02:02:46,419 : INFO : PROGRESS: saving document #2000\n",
      "2017-04-12 02:02:46,690 : INFO : PROGRESS: saving document #3000\n",
      "2017-04-12 02:02:46,964 : INFO : PROGRESS: saving document #4000\n",
      "2017-04-12 02:02:47,240 : INFO : PROGRESS: saving document #5000\n",
      "2017-04-12 02:02:47,499 : INFO : PROGRESS: saving document #6000\n",
      "2017-04-12 02:02:47,768 : INFO : PROGRESS: saving document #7000\n",
      "2017-04-12 02:02:48,035 : INFO : PROGRESS: saving document #8000\n",
      "2017-04-12 02:02:48,304 : INFO : PROGRESS: saving document #9000\n",
      "2017-04-12 02:02:48,558 : INFO : PROGRESS: saving document #10000\n",
      "2017-04-12 02:02:48,824 : INFO : PROGRESS: saving document #11000\n",
      "2017-04-12 02:02:49,106 : INFO : PROGRESS: saving document #12000\n",
      "2017-04-12 02:02:49,387 : INFO : PROGRESS: saving document #13000\n",
      "2017-04-12 02:02:49,659 : INFO : PROGRESS: saving document #14000\n",
      "2017-04-12 02:02:49,930 : INFO : PROGRESS: saving document #15000\n",
      "2017-04-12 02:02:50,200 : INFO : PROGRESS: saving document #16000\n",
      "2017-04-12 02:02:50,484 : INFO : PROGRESS: saving document #17000\n",
      "2017-04-12 02:02:50,759 : INFO : PROGRESS: saving document #18000\n",
      "2017-04-12 02:02:51,032 : INFO : PROGRESS: saving document #19000\n",
      "2017-04-12 02:02:51,319 : INFO : PROGRESS: saving document #20000\n",
      "2017-04-12 02:02:51,601 : INFO : PROGRESS: saving document #21000\n",
      "2017-04-12 02:02:51,759 : INFO : PROGRESS: saving document #22000\n",
      "2017-04-12 02:02:52,023 : INFO : PROGRESS: saving document #23000\n",
      "2017-04-12 02:02:52,306 : INFO : PROGRESS: saving document #24000\n",
      "2017-04-12 02:02:52,565 : INFO : PROGRESS: saving document #25000\n",
      "2017-04-12 02:02:52,850 : INFO : PROGRESS: saving document #26000\n",
      "2017-04-12 02:02:53,136 : INFO : PROGRESS: saving document #27000\n",
      "2017-04-12 02:02:53,410 : INFO : PROGRESS: saving document #28000\n",
      "2017-04-12 02:02:53,674 : INFO : PROGRESS: saving document #29000\n",
      "2017-04-12 02:02:53,955 : INFO : PROGRESS: saving document #30000\n",
      "2017-04-12 02:02:54,230 : INFO : PROGRESS: saving document #31000\n",
      "2017-04-12 02:02:54,498 : INFO : PROGRESS: saving document #32000\n",
      "2017-04-12 02:02:54,770 : INFO : PROGRESS: saving document #33000\n",
      "2017-04-12 02:02:55,040 : INFO : PROGRESS: saving document #34000\n",
      "2017-04-12 02:02:55,323 : INFO : PROGRESS: saving document #35000\n",
      "2017-04-12 02:02:55,584 : INFO : PROGRESS: saving document #36000\n",
      "2017-04-12 02:02:55,867 : INFO : PROGRESS: saving document #37000\n",
      "2017-04-12 02:02:56,137 : INFO : PROGRESS: saving document #38000\n",
      "2017-04-12 02:02:56,422 : INFO : PROGRESS: saving document #39000\n",
      "2017-04-12 02:02:56,691 : INFO : PROGRESS: saving document #40000\n",
      "2017-04-12 02:02:56,965 : INFO : PROGRESS: saving document #41000\n",
      "2017-04-12 02:02:57,255 : INFO : PROGRESS: saving document #42000\n",
      "2017-04-12 02:02:57,414 : INFO : PROGRESS: saving document #43000\n",
      "2017-04-12 02:02:57,703 : INFO : PROGRESS: saving document #44000\n",
      "2017-04-12 02:02:57,991 : INFO : PROGRESS: saving document #45000\n",
      "2017-04-12 02:02:58,274 : INFO : PROGRESS: saving document #46000\n",
      "2017-04-12 02:02:58,546 : INFO : PROGRESS: saving document #47000\n",
      "2017-04-12 02:02:58,824 : INFO : PROGRESS: saving document #48000\n",
      "2017-04-12 02:02:59,111 : INFO : PROGRESS: saving document #49000\n",
      "2017-04-12 02:02:59,385 : INFO : PROGRESS: saving document #50000\n",
      "2017-04-12 02:02:59,652 : INFO : PROGRESS: saving document #51000\n",
      "2017-04-12 02:02:59,952 : INFO : PROGRESS: saving document #52000\n",
      "2017-04-12 02:03:00,265 : INFO : PROGRESS: saving document #53000\n",
      "2017-04-12 02:03:00,571 : INFO : PROGRESS: saving document #54000\n",
      "2017-04-12 02:03:00,861 : INFO : PROGRESS: saving document #55000\n",
      "2017-04-12 02:03:01,163 : INFO : PROGRESS: saving document #56000\n",
      "2017-04-12 02:03:01,455 : INFO : PROGRESS: saving document #57000\n",
      "2017-04-12 02:03:01,737 : INFO : PROGRESS: saving document #58000\n",
      "2017-04-12 02:03:02,015 : INFO : PROGRESS: saving document #59000\n",
      "2017-04-12 02:03:02,303 : INFO : PROGRESS: saving document #60000\n",
      "2017-04-12 02:03:03,629 : INFO : PROGRESS: saving document #61000\n",
      "2017-04-12 02:03:03,919 : INFO : PROGRESS: saving document #62000\n",
      "2017-04-12 02:03:04,220 : INFO : PROGRESS: saving document #63000\n",
      "2017-04-12 02:03:04,498 : INFO : PROGRESS: saving document #64000\n",
      "2017-04-12 02:03:04,659 : INFO : PROGRESS: saving document #65000\n",
      "2017-04-12 02:03:04,950 : INFO : PROGRESS: saving document #66000\n",
      "2017-04-12 02:03:05,249 : INFO : PROGRESS: saving document #67000\n",
      "2017-04-12 02:03:05,532 : INFO : PROGRESS: saving document #68000\n",
      "2017-04-12 02:03:05,820 : INFO : PROGRESS: saving document #69000\n",
      "2017-04-12 02:03:06,110 : INFO : PROGRESS: saving document #70000\n",
      "2017-04-12 02:03:06,393 : INFO : PROGRESS: saving document #71000\n",
      "2017-04-12 02:03:06,682 : INFO : PROGRESS: saving document #72000\n",
      "2017-04-12 02:03:06,971 : INFO : PROGRESS: saving document #73000\n",
      "2017-04-12 02:03:07,260 : INFO : PROGRESS: saving document #74000\n",
      "2017-04-12 02:03:07,480 : INFO : saved 75000x10 matrix, density=100.000% (750000/750000)\n",
      "2017-04-12 02:03:07,481 : INFO : saving MmCorpus index to ../outputs/corpus_lsi_tf.mm.index\n",
      "2017-04-12 02:03:07,486 : INFO : saving Projection object under ../outputs/model_tfidf.lsi.projection, separately None\n",
      "2017-04-12 02:03:07,518 : INFO : saved ../outputs/model_tfidf.lsi.projection\n",
      "2017-04-12 02:03:07,519 : INFO : saving LsiModel object under ../outputs/model_tfidf.lsi, separately None\n",
      "2017-04-12 02:03:07,520 : INFO : not storing attribute dispatcher\n",
      "2017-04-12 02:03:07,521 : INFO : not storing attribute projection\n",
      "2017-04-12 02:03:07,553 : INFO : saved ../outputs/model_tfidf.lsi\n",
      "2017-04-12 02:03:07,555 : INFO : storing corpus in Matrix Market format to ../outputs/corpus_lsi_tfidf.mm\n",
      "2017-04-12 02:03:07,556 : INFO : saving sparse matrix to ../outputs/corpus_lsi_tfidf.mm\n",
      "2017-04-12 02:03:07,713 : INFO : PROGRESS: saving document #0\n",
      "2017-04-12 02:03:07,908 : INFO : PROGRESS: saving document #1000\n",
      "2017-04-12 02:03:08,256 : INFO : PROGRESS: saving document #2000\n",
      "2017-04-12 02:03:08,584 : INFO : PROGRESS: saving document #3000\n",
      "2017-04-12 02:03:08,937 : INFO : PROGRESS: saving document #4000\n",
      "2017-04-12 02:03:09,284 : INFO : PROGRESS: saving document #5000\n",
      "2017-04-12 02:03:09,603 : INFO : PROGRESS: saving document #6000\n",
      "2017-04-12 02:03:09,948 : INFO : PROGRESS: saving document #7000\n",
      "2017-04-12 02:03:10,274 : INFO : PROGRESS: saving document #8000\n",
      "2017-04-12 02:03:10,595 : INFO : PROGRESS: saving document #9000\n",
      "2017-04-12 02:03:10,903 : INFO : PROGRESS: saving document #10000\n",
      "2017-04-12 02:03:11,218 : INFO : PROGRESS: saving document #11000\n",
      "2017-04-12 02:03:11,542 : INFO : PROGRESS: saving document #12000\n",
      "2017-04-12 02:03:11,859 : INFO : PROGRESS: saving document #13000\n",
      "2017-04-12 02:03:12,175 : INFO : PROGRESS: saving document #14000\n",
      "2017-04-12 02:03:12,487 : INFO : PROGRESS: saving document #15000\n",
      "2017-04-12 02:03:12,792 : INFO : PROGRESS: saving document #16000\n",
      "2017-04-12 02:03:13,137 : INFO : PROGRESS: saving document #17000\n",
      "2017-04-12 02:03:13,470 : INFO : PROGRESS: saving document #18000\n",
      "2017-04-12 02:03:13,783 : INFO : PROGRESS: saving document #19000\n",
      "2017-04-12 02:03:14,111 : INFO : PROGRESS: saving document #20000\n",
      "2017-04-12 02:03:14,447 : INFO : PROGRESS: saving document #21000\n",
      "2017-04-12 02:03:14,631 : INFO : PROGRESS: saving document #22000\n",
      "2017-04-12 02:03:14,936 : INFO : PROGRESS: saving document #23000\n",
      "2017-04-12 02:03:15,253 : INFO : PROGRESS: saving document #24000\n",
      "2017-04-12 02:03:15,568 : INFO : PROGRESS: saving document #25000\n",
      "2017-04-12 02:03:15,876 : INFO : PROGRESS: saving document #26000\n",
      "2017-04-12 02:03:16,218 : INFO : PROGRESS: saving document #27000\n",
      "2017-04-12 02:03:16,532 : INFO : PROGRESS: saving document #28000\n",
      "2017-04-12 02:03:16,839 : INFO : PROGRESS: saving document #29000\n",
      "2017-04-12 02:03:17,160 : INFO : PROGRESS: saving document #30000\n",
      "2017-04-12 02:03:17,467 : INFO : PROGRESS: saving document #31000\n",
      "2017-04-12 02:03:17,792 : INFO : PROGRESS: saving document #32000\n",
      "2017-04-12 02:03:18,111 : INFO : PROGRESS: saving document #33000\n",
      "2017-04-12 02:03:18,428 : INFO : PROGRESS: saving document #34000\n",
      "2017-04-12 02:03:18,739 : INFO : PROGRESS: saving document #35000\n",
      "2017-04-12 02:03:19,054 : INFO : PROGRESS: saving document #36000\n",
      "2017-04-12 02:03:19,392 : INFO : PROGRESS: saving document #37000\n",
      "2017-04-12 02:03:19,705 : INFO : PROGRESS: saving document #38000\n",
      "2017-04-12 02:03:20,029 : INFO : PROGRESS: saving document #39000\n",
      "2017-04-12 02:03:20,351 : INFO : PROGRESS: saving document #40000\n",
      "2017-04-12 02:03:20,665 : INFO : PROGRESS: saving document #41000\n",
      "2017-04-12 02:03:20,984 : INFO : PROGRESS: saving document #42000\n",
      "2017-04-12 02:03:21,162 : INFO : PROGRESS: saving document #43000\n",
      "2017-04-12 02:03:21,490 : INFO : PROGRESS: saving document #44000\n",
      "2017-04-12 02:03:21,830 : INFO : PROGRESS: saving document #45000\n",
      "2017-04-12 02:03:22,154 : INFO : PROGRESS: saving document #46000\n",
      "2017-04-12 02:03:22,471 : INFO : PROGRESS: saving document #47000\n",
      "2017-04-12 02:03:22,797 : INFO : PROGRESS: saving document #48000\n",
      "2017-04-12 02:03:23,120 : INFO : PROGRESS: saving document #49000\n",
      "2017-04-12 02:03:23,464 : INFO : PROGRESS: saving document #50000\n",
      "2017-04-12 02:03:23,771 : INFO : PROGRESS: saving document #51000\n",
      "2017-04-12 02:03:24,094 : INFO : PROGRESS: saving document #52000\n",
      "2017-04-12 02:03:24,403 : INFO : PROGRESS: saving document #53000\n",
      "2017-04-12 02:03:24,710 : INFO : PROGRESS: saving document #54000\n",
      "2017-04-12 02:03:25,018 : INFO : PROGRESS: saving document #55000\n",
      "2017-04-12 02:03:25,341 : INFO : PROGRESS: saving document #56000\n",
      "2017-04-12 02:03:25,655 : INFO : PROGRESS: saving document #57000\n",
      "2017-04-12 02:03:25,963 : INFO : PROGRESS: saving document #58000\n",
      "2017-04-12 02:03:26,266 : INFO : PROGRESS: saving document #59000\n",
      "2017-04-12 02:03:26,571 : INFO : PROGRESS: saving document #60000\n",
      "2017-04-12 02:03:26,883 : INFO : PROGRESS: saving document #61000\n",
      "2017-04-12 02:03:27,204 : INFO : PROGRESS: saving document #62000\n",
      "2017-04-12 02:03:27,507 : INFO : PROGRESS: saving document #63000\n",
      "2017-04-12 02:03:27,801 : INFO : PROGRESS: saving document #64000\n",
      "2017-04-12 02:03:27,972 : INFO : PROGRESS: saving document #65000\n",
      "2017-04-12 02:03:28,289 : INFO : PROGRESS: saving document #66000\n",
      "2017-04-12 02:03:28,597 : INFO : PROGRESS: saving document #67000\n",
      "2017-04-12 02:03:28,892 : INFO : PROGRESS: saving document #68000\n",
      "2017-04-12 02:03:29,216 : INFO : PROGRESS: saving document #69000\n",
      "2017-04-12 02:03:29,516 : INFO : PROGRESS: saving document #70000\n",
      "2017-04-12 02:03:30,832 : INFO : PROGRESS: saving document #71000\n",
      "2017-04-12 02:03:31,147 : INFO : PROGRESS: saving document #72000\n",
      "2017-04-12 02:03:31,456 : INFO : PROGRESS: saving document #73000\n",
      "2017-04-12 02:03:31,759 : INFO : PROGRESS: saving document #74000\n",
      "2017-04-12 02:03:31,995 : INFO : saved 75000x10 matrix, density=100.000% (750000/750000)\n",
      "2017-04-12 02:03:31,996 : INFO : saving MmCorpus index to ../outputs/corpus_lsi_tfidf.mm.index\n"
     ]
    }
   ],
   "source": [
    "lsi_tf.save(os.path.join(outputs, 'model_tf.lsi'))\n",
    "corpora.MmCorpus.serialize(os.path.join(outputs, 'corpus_lsi_tf.mm'), corpus_lsi_tf)\n",
    "lsi_tfidf.save(os.path.join(outputs, 'model_tfidf.lsi'))\n",
    "corpora.MmCorpus.serialize(os.path.join(outputs, 'corpus_lsi_tfidf.mm'), corpus_lsi_tfidf)"
   ]
  },
  {
   "cell_type": "markdown",
   "metadata": {
    "deletable": true,
    "editable": true
   },
   "source": [
    "Loading the Models and the Corpora"
   ]
  },
  {
   "cell_type": "code",
   "execution_count": 73,
   "metadata": {
    "collapsed": false,
    "deletable": true,
    "editable": true
   },
   "outputs": [
    {
     "name": "stderr",
     "output_type": "stream",
     "text": [
      "2017-04-12 02:03:32,004 : INFO : loading LsiModel object from ../outputs/model_tf.lsi\n",
      "2017-04-12 02:03:32,366 : INFO : loading id2word recursively from ../outputs/model_tf.lsi.id2word.* with mmap=None\n",
      "2017-04-12 02:03:32,370 : INFO : setting ignored attribute dispatcher to None\n",
      "2017-04-12 02:03:32,374 : INFO : setting ignored attribute projection to None\n",
      "2017-04-12 02:03:32,377 : INFO : loaded ../outputs/model_tf.lsi\n",
      "2017-04-12 02:03:32,382 : INFO : loading LsiModel object from ../outputs/model_tf.lsi.projection\n",
      "2017-04-12 02:03:32,437 : INFO : loaded ../outputs/model_tf.lsi.projection\n",
      "2017-04-12 02:03:32,449 : INFO : loaded corpus index from ../outputs/corpus_lsi_tf.mm.index\n",
      "2017-04-12 02:03:32,450 : INFO : initializing corpus reader from ../outputs/corpus_lsi_tf.mm\n",
      "2017-04-12 02:03:32,451 : INFO : accepted corpus with 75000 documents, 10 features, 750000 non-zero entries\n",
      "2017-04-12 02:03:32,452 : INFO : loading LsiModel object from ../outputs/model_tfidf.lsi\n",
      "2017-04-12 02:03:32,478 : INFO : loading id2word recursively from ../outputs/model_tfidf.lsi.id2word.* with mmap=None\n",
      "2017-04-12 02:03:32,479 : INFO : setting ignored attribute dispatcher to None\n",
      "2017-04-12 02:03:32,479 : INFO : setting ignored attribute projection to None\n",
      "2017-04-12 02:03:32,480 : INFO : loaded ../outputs/model_tfidf.lsi\n",
      "2017-04-12 02:03:32,480 : INFO : loading LsiModel object from ../outputs/model_tfidf.lsi.projection\n",
      "2017-04-12 02:03:32,509 : INFO : loaded ../outputs/model_tfidf.lsi.projection\n",
      "2017-04-12 02:03:32,517 : INFO : loaded corpus index from ../outputs/corpus_lsi_tfidf.mm.index\n",
      "2017-04-12 02:03:32,518 : INFO : initializing corpus reader from ../outputs/corpus_lsi_tfidf.mm\n",
      "2017-04-12 02:03:32,519 : INFO : accepted corpus with 75000 documents, 10 features, 750000 non-zero entries\n"
     ]
    }
   ],
   "source": [
    "lsi_tf = models.LsiModel.load(os.path.join(outputs, 'model_tf.lsi'))\n",
    "corpus_lsi_tf = corpora.MmCorpus(os.path.join(outputs, 'corpus_lsi_tf.mm'))\n",
    "lsi_tfidf = models.LsiModel.load(os.path.join(outputs, 'model_tfidf.lsi'))\n",
    "corpus_lsi_tfidf = corpora.MmCorpus(os.path.join(outputs, 'corpus_lsi_tfidf.mm'))"
   ]
  },
  {
   "cell_type": "markdown",
   "metadata": {
    "deletable": true,
    "editable": true
   },
   "source": [
    "#### Visualizing the topics"
   ]
  },
  {
   "cell_type": "code",
   "execution_count": 74,
   "metadata": {
    "collapsed": false,
    "deletable": true,
    "editable": true
   },
   "outputs": [
    {
     "name": "stderr",
     "output_type": "stream",
     "text": [
      "2017-04-12 02:03:32,535 : INFO : topic #0(1213.661): 0.508*\"film\" + 0.290*\"one\" + 0.218*\"like\" + 0.147*\"would\" + 0.145*\"good\" + 0.137*\"even\" + 0.125*\"time\" + 0.123*\"really\" + 0.119*\"story\" + 0.117*\"see\"\n",
      "2017-04-12 02:03:32,537 : INFO : topic #1(518.758): -0.833*\"film\" + 0.214*\"one\" + 0.195*\"like\" + 0.113*\"show\" + 0.105*\"movies\" + 0.105*\"good\" + 0.101*\"would\" + 0.093*\"even\" + 0.092*\"really\" + 0.085*\"get\"\n",
      "2017-04-12 02:03:32,539 : INFO : topic #2(320.988): 0.728*\"one\" + -0.456*\"like\" + -0.179*\"bad\" + -0.164*\"really\" + -0.153*\"good\" + -0.123*\"would\" + -0.095*\"people\" + -0.079*\"think\" + 0.076*\"two\" + 0.071*\"best\"\n",
      "2017-04-12 02:03:32,541 : INFO : topic #3(286.585): -0.493*\"one\" + -0.424*\"like\" + 0.332*\"story\" + -0.243*\"bad\" + 0.138*\"great\" + 0.138*\"show\" + 0.137*\"life\" + 0.137*\"also\" + 0.129*\"love\" + 0.119*\"character\"\n",
      "2017-04-12 02:03:32,543 : INFO : topic #4(276.254): -0.622*\"good\" + 0.409*\"like\" + -0.311*\"bad\" + -0.249*\"really\" + 0.156*\"would\" + 0.144*\"people\" + 0.131*\"show\" + -0.128*\"acting\" + 0.117*\"life\" + -0.116*\"great\"\n",
      "2017-04-12 02:03:32,545 : INFO : topic #5(263.526): 0.522*\"like\" + -0.479*\"would\" + -0.234*\"bad\" + 0.226*\"story\" + -0.223*\"even\" + 0.197*\"good\" + -0.195*\"could\" + 0.185*\"great\" + 0.144*\"also\" + -0.100*\"get\"\n",
      "2017-04-12 02:03:32,547 : INFO : topic #6(246.940): 0.689*\"show\" + -0.389*\"story\" + 0.180*\"great\" + -0.173*\"even\" + 0.160*\"good\" + 0.146*\"series\" + -0.146*\"bad\" + 0.115*\"really\" + 0.103*\"episode\" + 0.090*\"one\"\n",
      "2017-04-12 02:03:32,549 : INFO : topic #7(234.494): -0.680*\"would\" + -0.269*\"story\" + 0.224*\"bad\" + 0.200*\"get\" + -0.192*\"good\" + 0.164*\"time\" + -0.159*\"like\" + -0.158*\"one\" + 0.149*\"really\" + 0.146*\"people\"\n",
      "2017-04-12 02:03:32,551 : INFO : topic #8(230.735): 0.508*\"really\" + 0.336*\"people\" + 0.320*\"see\" + -0.267*\"even\" + 0.253*\"story\" + -0.196*\"good\" + 0.143*\"think\" + -0.140*\"time\" + -0.128*\"first\" + 0.122*\"love\"\n",
      "2017-04-12 02:03:32,552 : INFO : topic #9(224.699): 0.469*\"story\" + 0.388*\"show\" + -0.346*\"good\" + 0.248*\"even\" + 0.245*\"characters\" + -0.217*\"would\" + 0.189*\"bad\" + -0.173*\"see\" + -0.142*\"man\" + -0.116*\"get\"\n"
     ]
    },
    {
     "data": {
      "text/plain": [
       "[(0,\n",
       "  '0.508*\"film\" + 0.290*\"one\" + 0.218*\"like\" + 0.147*\"would\" + 0.145*\"good\" + 0.137*\"even\" + 0.125*\"time\" + 0.123*\"really\" + 0.119*\"story\" + 0.117*\"see\"'),\n",
       " (1,\n",
       "  '-0.833*\"film\" + 0.214*\"one\" + 0.195*\"like\" + 0.113*\"show\" + 0.105*\"movies\" + 0.105*\"good\" + 0.101*\"would\" + 0.093*\"even\" + 0.092*\"really\" + 0.085*\"get\"'),\n",
       " (2,\n",
       "  '0.728*\"one\" + -0.456*\"like\" + -0.179*\"bad\" + -0.164*\"really\" + -0.153*\"good\" + -0.123*\"would\" + -0.095*\"people\" + -0.079*\"think\" + 0.076*\"two\" + 0.071*\"best\"'),\n",
       " (3,\n",
       "  '-0.493*\"one\" + -0.424*\"like\" + 0.332*\"story\" + -0.243*\"bad\" + 0.138*\"great\" + 0.138*\"show\" + 0.137*\"life\" + 0.137*\"also\" + 0.129*\"love\" + 0.119*\"character\"'),\n",
       " (4,\n",
       "  '-0.622*\"good\" + 0.409*\"like\" + -0.311*\"bad\" + -0.249*\"really\" + 0.156*\"would\" + 0.144*\"people\" + 0.131*\"show\" + -0.128*\"acting\" + 0.117*\"life\" + -0.116*\"great\"'),\n",
       " (5,\n",
       "  '0.522*\"like\" + -0.479*\"would\" + -0.234*\"bad\" + 0.226*\"story\" + -0.223*\"even\" + 0.197*\"good\" + -0.195*\"could\" + 0.185*\"great\" + 0.144*\"also\" + -0.100*\"get\"'),\n",
       " (6,\n",
       "  '0.689*\"show\" + -0.389*\"story\" + 0.180*\"great\" + -0.173*\"even\" + 0.160*\"good\" + 0.146*\"series\" + -0.146*\"bad\" + 0.115*\"really\" + 0.103*\"episode\" + 0.090*\"one\"'),\n",
       " (7,\n",
       "  '-0.680*\"would\" + -0.269*\"story\" + 0.224*\"bad\" + 0.200*\"get\" + -0.192*\"good\" + 0.164*\"time\" + -0.159*\"like\" + -0.158*\"one\" + 0.149*\"really\" + 0.146*\"people\"'),\n",
       " (8,\n",
       "  '0.508*\"really\" + 0.336*\"people\" + 0.320*\"see\" + -0.267*\"even\" + 0.253*\"story\" + -0.196*\"good\" + 0.143*\"think\" + -0.140*\"time\" + -0.128*\"first\" + 0.122*\"love\"'),\n",
       " (9,\n",
       "  '0.469*\"story\" + 0.388*\"show\" + -0.346*\"good\" + 0.248*\"even\" + 0.245*\"characters\" + -0.217*\"would\" + 0.189*\"bad\" + -0.173*\"see\" + -0.142*\"man\" + -0.116*\"get\"')]"
      ]
     },
     "execution_count": 74,
     "metadata": {},
     "output_type": "execute_result"
    }
   ],
   "source": [
    "lsi_tf.print_topics(10)"
   ]
  },
  {
   "cell_type": "code",
   "execution_count": 75,
   "metadata": {
    "collapsed": false,
    "deletable": true,
    "editable": true
   },
   "outputs": [
    {
     "data": {
      "text/plain": [
       "[('film', -0.83285531828476278),\n",
       " ('one', 0.21359135522801401),\n",
       " ('like', 0.19496181291448611),\n",
       " ('show', 0.11341135257014107),\n",
       " ('movies', 0.10548130028568849),\n",
       " ('good', 0.105186448616572),\n",
       " ('would', 0.10064644920016706),\n",
       " ('even', 0.092781750961895337),\n",
       " ('really', 0.091547099329716178),\n",
       " ('get', 0.084743867975027781)]"
      ]
     },
     "execution_count": 75,
     "metadata": {},
     "output_type": "execute_result"
    }
   ],
   "source": [
    "lsi_tf.show_topic(1)"
   ]
  },
  {
   "cell_type": "code",
   "execution_count": 76,
   "metadata": {
    "collapsed": false,
    "deletable": true,
    "editable": true
   },
   "outputs": [
    {
     "name": "stderr",
     "output_type": "stream",
     "text": [
      "2017-04-12 02:03:32,570 : INFO : topic #0(34.212): 0.146*\"film\" + 0.103*\"bad\" + 0.101*\"good\" + 0.101*\"like\" + 0.101*\"really\" + 0.095*\"one\" + 0.094*\"would\" + 0.091*\"story\" + 0.089*\"see\" + 0.088*\"even\"\n",
      "2017-04-12 02:03:32,573 : INFO : topic #1(11.691): -0.333*\"bad\" + -0.199*\"worst\" + -0.130*\"movies\" + -0.129*\"acting\" + -0.129*\"waste\" + -0.116*\"terrible\" + -0.115*\"ever\" + -0.105*\"horror\" + -0.105*\"horrible\" + -0.102*\"stupid\"\n",
      "2017-04-12 02:03:32,575 : INFO : topic #2(10.717): 0.673*\"show\" + 0.214*\"episode\" + 0.207*\"series\" + -0.171*\"film\" + 0.150*\"tv\" + 0.149*\"episodes\" + 0.142*\"season\" + -0.140*\"horror\" + 0.127*\"funny\" + 0.118*\"shows\"\n",
      "2017-04-12 02:03:32,577 : INFO : topic #3(9.262): -0.228*\"show\" + 0.223*\"great\" + 0.217*\"book\" + -0.175*\"horror\" + 0.117*\"movies\" + 0.110*\"seen\" + 0.108*\"best\" + 0.102*\"love\" + -0.102*\"killer\" + 0.101*\"read\"\n",
      "2017-04-12 02:03:32,579 : INFO : topic #4(8.956): 0.249*\"horror\" + 0.218*\"series\" + -0.166*\"life\" + 0.159*\"action\" + -0.154*\"people\" + 0.153*\"show\" + 0.133*\"effects\" + 0.128*\"original\" + 0.126*\"great\" + -0.112*\"book\"\n",
      "2017-04-12 02:03:32,581 : INFO : topic #5(8.755): -0.396*\"book\" + 0.360*\"funny\" + 0.259*\"comedy\" + -0.193*\"series\" + -0.160*\"read\" + 0.121*\"jokes\" + 0.119*\"great\" + -0.113*\"episode\" + 0.110*\"laugh\" + -0.105*\"show\"\n",
      "2017-04-12 02:03:32,584 : INFO : topic #6(8.413): -0.422*\"horror\" + 0.243*\"bad\" + 0.147*\"worst\" + -0.136*\"scary\" + -0.117*\"gore\" + 0.109*\"script\" + -0.107*\"saw\" + 0.106*\"show\" + 0.098*\"actors\" + -0.098*\"really\"\n",
      "2017-04-12 02:03:32,585 : INFO : topic #7(8.160): 0.332*\"book\" + -0.259*\"ever\" + -0.231*\"worst\" + -0.207*\"seen\" + 0.153*\"characters\" + 0.140*\"really\" + -0.136*\"films\" + 0.131*\"funny\" + -0.127*\"movies\" + 0.122*\"good\"\n",
      "2017-04-12 02:03:32,588 : INFO : topic #8(7.909): 0.456*\"book\" + -0.195*\"film\" + -0.166*\"show\" + 0.146*\"read\" + 0.133*\"version\" + -0.128*\"characters\" + -0.118*\"people\" + 0.108*\"bad\" + -0.104*\"films\" + 0.102*\"series\"\n",
      "2017-04-12 02:03:32,590 : INFO : topic #9(6.889): 0.338*\"horror\" + -0.308*\"action\" + -0.282*\"game\" + 0.231*\"book\" + 0.192*\"comedy\" + 0.189*\"funny\" + 0.163*\"show\" + 0.134*\"film\" + -0.111*\"war\" + -0.097*\"series\"\n"
     ]
    },
    {
     "data": {
      "text/plain": [
       "[(0,\n",
       "  '0.146*\"film\" + 0.103*\"bad\" + 0.101*\"good\" + 0.101*\"like\" + 0.101*\"really\" + 0.095*\"one\" + 0.094*\"would\" + 0.091*\"story\" + 0.089*\"see\" + 0.088*\"even\"'),\n",
       " (1,\n",
       "  '-0.333*\"bad\" + -0.199*\"worst\" + -0.130*\"movies\" + -0.129*\"acting\" + -0.129*\"waste\" + -0.116*\"terrible\" + -0.115*\"ever\" + -0.105*\"horror\" + -0.105*\"horrible\" + -0.102*\"stupid\"'),\n",
       " (2,\n",
       "  '0.673*\"show\" + 0.214*\"episode\" + 0.207*\"series\" + -0.171*\"film\" + 0.150*\"tv\" + 0.149*\"episodes\" + 0.142*\"season\" + -0.140*\"horror\" + 0.127*\"funny\" + 0.118*\"shows\"'),\n",
       " (3,\n",
       "  '-0.228*\"show\" + 0.223*\"great\" + 0.217*\"book\" + -0.175*\"horror\" + 0.117*\"movies\" + 0.110*\"seen\" + 0.108*\"best\" + 0.102*\"love\" + -0.102*\"killer\" + 0.101*\"read\"'),\n",
       " (4,\n",
       "  '0.249*\"horror\" + 0.218*\"series\" + -0.166*\"life\" + 0.159*\"action\" + -0.154*\"people\" + 0.153*\"show\" + 0.133*\"effects\" + 0.128*\"original\" + 0.126*\"great\" + -0.112*\"book\"'),\n",
       " (5,\n",
       "  '-0.396*\"book\" + 0.360*\"funny\" + 0.259*\"comedy\" + -0.193*\"series\" + -0.160*\"read\" + 0.121*\"jokes\" + 0.119*\"great\" + -0.113*\"episode\" + 0.110*\"laugh\" + -0.105*\"show\"'),\n",
       " (6,\n",
       "  '-0.422*\"horror\" + 0.243*\"bad\" + 0.147*\"worst\" + -0.136*\"scary\" + -0.117*\"gore\" + 0.109*\"script\" + -0.107*\"saw\" + 0.106*\"show\" + 0.098*\"actors\" + -0.098*\"really\"'),\n",
       " (7,\n",
       "  '0.332*\"book\" + -0.259*\"ever\" + -0.231*\"worst\" + -0.207*\"seen\" + 0.153*\"characters\" + 0.140*\"really\" + -0.136*\"films\" + 0.131*\"funny\" + -0.127*\"movies\" + 0.122*\"good\"'),\n",
       " (8,\n",
       "  '0.456*\"book\" + -0.195*\"film\" + -0.166*\"show\" + 0.146*\"read\" + 0.133*\"version\" + -0.128*\"characters\" + -0.118*\"people\" + 0.108*\"bad\" + -0.104*\"films\" + 0.102*\"series\"'),\n",
       " (9,\n",
       "  '0.338*\"horror\" + -0.308*\"action\" + -0.282*\"game\" + 0.231*\"book\" + 0.192*\"comedy\" + 0.189*\"funny\" + 0.163*\"show\" + 0.134*\"film\" + -0.111*\"war\" + -0.097*\"series\"')]"
      ]
     },
     "execution_count": 76,
     "metadata": {},
     "output_type": "execute_result"
    }
   ],
   "source": [
    "lsi_tfidf.print_topics(10)"
   ]
  },
  {
   "cell_type": "code",
   "execution_count": 77,
   "metadata": {
    "collapsed": false,
    "deletable": true,
    "editable": true
   },
   "outputs": [
    {
     "data": {
      "text/plain": [
       "[('bad', -0.33347209144390672),\n",
       " ('worst', -0.19915868666607953),\n",
       " ('movies', -0.12950513078546785),\n",
       " ('acting', -0.12942405601344498),\n",
       " ('waste', -0.12913498155264896),\n",
       " ('terrible', -0.1164296111285452),\n",
       " ('ever', -0.1153249609578246),\n",
       " ('horror', -0.10544959275751477),\n",
       " ('horrible', -0.10493664144035854),\n",
       " ('stupid', -0.10217697629215715)]"
      ]
     },
     "execution_count": 77,
     "metadata": {},
     "output_type": "execute_result"
    }
   ],
   "source": [
    "lsi_tfidf.show_topic(1)"
   ]
  },
  {
   "cell_type": "markdown",
   "metadata": {
    "deletable": true,
    "editable": true
   },
   "source": [
    "### Latent Dirichlet Allocation\n",
    "\n",
    "https://en.wikipedia.org/wiki/Latent_Dirichlet_allocation  "
   ]
  },
  {
   "cell_type": "markdown",
   "metadata": {
    "deletable": true,
    "editable": true
   },
   "source": [
    "#### Using Gensim"
   ]
  },
  {
   "cell_type": "markdown",
   "metadata": {
    "deletable": true,
    "editable": true
   },
   "source": [
    "Generating the Models and the Corpora"
   ]
  },
  {
   "cell_type": "code",
   "execution_count": 78,
   "metadata": {
    "collapsed": false,
    "deletable": true,
    "editable": true
   },
   "outputs": [
    {
     "name": "stderr",
     "output_type": "stream",
     "text": [
      "2017-04-12 02:04:51,032 : INFO : using symmetric alpha at 0.1\n",
      "2017-04-12 02:04:51,033 : INFO : using symmetric eta at 1.7737415303841924e-05\n",
      "2017-04-12 02:04:51,049 : INFO : using serial LDA version on this node\n",
      "2017-04-12 02:04:57,378 : INFO : running online LDA training, 10 topics, 10 passes over the supplied corpus of 75000 documents, updating model once every 2000 documents, evaluating perplexity every 20000 documents, iterating 50x with a convergence threshold of 0.001000\n",
      "2017-04-12 02:04:57,782 : INFO : PROGRESS: pass 0, at document #2000/75000\n",
      "2017-04-12 02:05:01,205 : INFO : merging changes from 2000 documents into a model of 75000 documents\n",
      "2017-04-12 02:05:01,731 : INFO : topic #0 (0.100): 0.018*\"film\" + 0.007*\"one\" + 0.006*\"good\" + 0.005*\"like\" + 0.005*\"would\" + 0.004*\"story\" + 0.004*\"well\" + 0.004*\"really\" + 0.004*\"first\" + 0.004*\"people\"\n",
      "2017-04-12 02:05:01,733 : INFO : topic #4 (0.100): 0.014*\"film\" + 0.006*\"like\" + 0.006*\"one\" + 0.004*\"really\" + 0.004*\"would\" + 0.004*\"time\" + 0.004*\"story\" + 0.004*\"people\" + 0.004*\"good\" + 0.004*\"even\"\n",
      "2017-04-12 02:05:01,735 : INFO : topic #3 (0.100): 0.011*\"film\" + 0.008*\"good\" + 0.007*\"one\" + 0.005*\"like\" + 0.005*\"great\" + 0.005*\"people\" + 0.004*\"first\" + 0.004*\"get\" + 0.004*\"see\" + 0.004*\"really\"\n",
      "2017-04-12 02:05:01,736 : INFO : topic #6 (0.100): 0.011*\"film\" + 0.007*\"one\" + 0.006*\"bad\" + 0.006*\"good\" + 0.005*\"like\" + 0.005*\"really\" + 0.005*\"would\" + 0.005*\"see\" + 0.005*\"people\" + 0.004*\"well\"\n",
      "2017-04-12 02:05:01,738 : INFO : topic #5 (0.100): 0.014*\"film\" + 0.010*\"one\" + 0.007*\"good\" + 0.006*\"like\" + 0.006*\"would\" + 0.004*\"even\" + 0.004*\"great\" + 0.004*\"see\" + 0.004*\"films\" + 0.003*\"end\"\n",
      "2017-04-12 02:05:01,740 : INFO : topic diff=8.433131, rho=1.000000\n",
      "2017-04-12 02:05:02,169 : INFO : PROGRESS: pass 0, at document #4000/75000\n",
      "2017-04-12 02:05:05,577 : INFO : merging changes from 2000 documents into a model of 75000 documents\n",
      "2017-04-12 02:05:06,593 : INFO : topic #5 (0.100): 0.013*\"film\" + 0.010*\"one\" + 0.007*\"like\" + 0.005*\"good\" + 0.005*\"would\" + 0.004*\"great\" + 0.004*\"even\" + 0.003*\"see\" + 0.003*\"films\" + 0.003*\"time\"\n",
      "2017-04-12 02:05:06,595 : INFO : topic #7 (0.100): 0.015*\"film\" + 0.008*\"one\" + 0.006*\"story\" + 0.005*\"time\" + 0.005*\"love\" + 0.005*\"like\" + 0.004*\"good\" + 0.004*\"really\" + 0.004*\"even\" + 0.004*\"ever\"\n",
      "2017-04-12 02:05:06,597 : INFO : topic #1 (0.100): 0.010*\"film\" + 0.010*\"one\" + 0.008*\"like\" + 0.005*\"good\" + 0.005*\"really\" + 0.005*\"even\" + 0.005*\"could\" + 0.004*\"know\" + 0.004*\"never\" + 0.004*\"bad\"\n",
      "2017-04-12 02:05:06,599 : INFO : topic #3 (0.100): 0.011*\"film\" + 0.008*\"good\" + 0.007*\"one\" + 0.005*\"great\" + 0.004*\"people\" + 0.004*\"like\" + 0.004*\"first\" + 0.004*\"story\" + 0.004*\"see\" + 0.004*\"get\"\n",
      "2017-04-12 02:05:06,601 : INFO : topic #8 (0.100): 0.015*\"one\" + 0.008*\"film\" + 0.007*\"like\" + 0.006*\"would\" + 0.006*\"even\" + 0.006*\"good\" + 0.005*\"great\" + 0.005*\"time\" + 0.004*\"also\" + 0.004*\"much\"\n",
      "2017-04-12 02:05:06,603 : INFO : topic diff=1.495782, rho=0.707107\n",
      "2017-04-12 02:05:07,022 : INFO : PROGRESS: pass 0, at document #6000/75000\n",
      "2017-04-12 02:05:10,449 : INFO : merging changes from 2000 documents into a model of 75000 documents\n",
      "2017-04-12 02:05:11,604 : INFO : topic #6 (0.100): 0.011*\"film\" + 0.009*\"bad\" + 0.008*\"one\" + 0.007*\"good\" + 0.007*\"like\" + 0.006*\"really\" + 0.006*\"see\" + 0.006*\"would\" + 0.005*\"make\" + 0.005*\"movies\"\n",
      "2017-04-12 02:05:11,606 : INFO : topic #0 (0.100): 0.018*\"film\" + 0.006*\"one\" + 0.004*\"good\" + 0.004*\"story\" + 0.004*\"also\" + 0.004*\"would\" + 0.004*\"well\" + 0.004*\"like\" + 0.003*\"two\" + 0.003*\"see\"\n",
      "2017-04-12 02:05:11,608 : INFO : topic #4 (0.100): 0.013*\"film\" + 0.006*\"like\" + 0.006*\"one\" + 0.005*\"really\" + 0.004*\"even\" + 0.004*\"time\" + 0.004*\"story\" + 0.004*\"would\" + 0.004*\"characters\" + 0.003*\"first\"\n",
      "2017-04-12 02:05:11,609 : INFO : topic #5 (0.100): 0.012*\"film\" + 0.010*\"one\" + 0.006*\"like\" + 0.005*\"good\" + 0.005*\"would\" + 0.004*\"great\" + 0.003*\"films\" + 0.003*\"see\" + 0.003*\"even\" + 0.003*\"time\"\n",
      "2017-04-12 02:05:11,611 : INFO : topic #8 (0.100): 0.014*\"one\" + 0.008*\"film\" + 0.007*\"like\" + 0.006*\"would\" + 0.006*\"good\" + 0.006*\"even\" + 0.006*\"great\" + 0.005*\"time\" + 0.005*\"also\" + 0.005*\"much\"\n",
      "2017-04-12 02:05:11,613 : INFO : topic diff=0.990680, rho=0.577350\n",
      "2017-04-12 02:05:12,014 : INFO : PROGRESS: pass 0, at document #8000/75000\n",
      "2017-04-12 02:05:15,424 : INFO : merging changes from 2000 documents into a model of 75000 documents\n",
      "2017-04-12 02:05:16,607 : INFO : topic #4 (0.100): 0.013*\"film\" + 0.006*\"one\" + 0.006*\"like\" + 0.004*\"even\" + 0.004*\"time\" + 0.004*\"really\" + 0.004*\"would\" + 0.004*\"story\" + 0.004*\"characters\" + 0.003*\"get\"\n",
      "2017-04-12 02:05:16,609 : INFO : topic #7 (0.100): 0.015*\"film\" + 0.008*\"one\" + 0.006*\"story\" + 0.005*\"love\" + 0.004*\"time\" + 0.004*\"like\" + 0.004*\"life\" + 0.004*\"even\" + 0.004*\"good\" + 0.004*\"really\"\n",
      "2017-04-12 02:05:16,611 : INFO : topic #2 (0.100): 0.031*\"film\" + 0.010*\"one\" + 0.007*\"like\" + 0.006*\"even\" + 0.006*\"story\" + 0.005*\"see\" + 0.005*\"time\" + 0.004*\"would\" + 0.004*\"films\" + 0.004*\"great\"\n",
      "2017-04-12 02:05:16,612 : INFO : topic #6 (0.100): 0.011*\"film\" + 0.010*\"bad\" + 0.009*\"one\" + 0.007*\"like\" + 0.007*\"good\" + 0.007*\"really\" + 0.006*\"see\" + 0.006*\"would\" + 0.005*\"make\" + 0.005*\"movies\"\n",
      "2017-04-12 02:05:16,614 : INFO : topic #9 (0.100): 0.015*\"like\" + 0.007*\"would\" + 0.006*\"good\" + 0.006*\"really\" + 0.006*\"film\" + 0.005*\"one\" + 0.005*\"could\" + 0.005*\"get\" + 0.005*\"show\" + 0.005*\"time\"\n",
      "2017-04-12 02:05:16,616 : INFO : topic diff=0.840500, rho=0.500000\n",
      "2017-04-12 02:05:17,010 : INFO : PROGRESS: pass 0, at document #10000/75000\n",
      "2017-04-12 02:05:20,436 : INFO : merging changes from 2000 documents into a model of 75000 documents\n",
      "2017-04-12 02:05:21,632 : INFO : topic #1 (0.100): 0.010*\"film\" + 0.010*\"one\" + 0.007*\"like\" + 0.005*\"good\" + 0.005*\"even\" + 0.004*\"really\" + 0.004*\"could\" + 0.004*\"bad\" + 0.004*\"time\" + 0.004*\"see\"\n",
      "2017-04-12 02:05:21,634 : INFO : topic #4 (0.100): 0.012*\"film\" + 0.006*\"one\" + 0.006*\"like\" + 0.004*\"even\" + 0.004*\"really\" + 0.004*\"story\" + 0.004*\"time\" + 0.004*\"would\" + 0.004*\"characters\" + 0.004*\"action\"\n",
      "2017-04-12 02:05:21,635 : INFO : topic #6 (0.100): 0.011*\"bad\" + 0.011*\"film\" + 0.010*\"one\" + 0.008*\"like\" + 0.008*\"good\" + 0.007*\"really\" + 0.006*\"would\" + 0.006*\"see\" + 0.006*\"even\" + 0.006*\"movies\"\n",
      "2017-04-12 02:05:21,636 : INFO : topic #5 (0.100): 0.011*\"film\" + 0.010*\"one\" + 0.005*\"like\" + 0.005*\"good\" + 0.004*\"would\" + 0.004*\"great\" + 0.003*\"films\" + 0.003*\"even\" + 0.003*\"time\" + 0.003*\"man\"\n",
      "2017-04-12 02:05:21,638 : INFO : topic #8 (0.100): 0.013*\"one\" + 0.007*\"like\" + 0.007*\"would\" + 0.006*\"great\" + 0.006*\"film\" + 0.006*\"good\" + 0.006*\"time\" + 0.006*\"even\" + 0.005*\"series\" + 0.005*\"show\"\n",
      "2017-04-12 02:05:21,640 : INFO : topic diff=0.720896, rho=0.447214\n",
      "2017-04-12 02:05:22,042 : INFO : PROGRESS: pass 0, at document #12000/75000\n",
      "2017-04-12 02:05:25,352 : INFO : merging changes from 2000 documents into a model of 75000 documents\n",
      "2017-04-12 02:05:26,557 : INFO : topic #4 (0.100): 0.012*\"film\" + 0.006*\"one\" + 0.006*\"like\" + 0.004*\"even\" + 0.004*\"really\" + 0.004*\"would\" + 0.004*\"time\" + 0.004*\"story\" + 0.004*\"action\" + 0.003*\"get\"\n",
      "2017-04-12 02:05:26,560 : INFO : topic #0 (0.100): 0.015*\"film\" + 0.006*\"one\" + 0.004*\"also\" + 0.004*\"story\" + 0.003*\"well\" + 0.003*\"life\" + 0.003*\"young\" + 0.003*\"man\" + 0.003*\"would\" + 0.003*\"two\"\n",
      "2017-04-12 02:05:26,562 : INFO : topic #5 (0.100): 0.010*\"film\" + 0.010*\"one\" + 0.004*\"like\" + 0.004*\"good\" + 0.004*\"would\" + 0.004*\"great\" + 0.003*\"films\" + 0.003*\"man\" + 0.003*\"even\" + 0.003*\"time\"\n",
      "2017-04-12 02:05:26,564 : INFO : topic #7 (0.100): 0.014*\"film\" + 0.008*\"one\" + 0.007*\"story\" + 0.006*\"love\" + 0.004*\"time\" + 0.004*\"life\" + 0.004*\"like\" + 0.003*\"even\" + 0.003*\"characters\" + 0.003*\"also\"\n",
      "2017-04-12 02:05:26,565 : INFO : topic #2 (0.100): 0.032*\"film\" + 0.011*\"one\" + 0.007*\"like\" + 0.006*\"story\" + 0.006*\"see\" + 0.005*\"even\" + 0.005*\"time\" + 0.004*\"films\" + 0.004*\"would\" + 0.004*\"much\"\n",
      "2017-04-12 02:05:26,567 : INFO : topic diff=0.646656, rho=0.408248\n",
      "2017-04-12 02:05:26,995 : INFO : PROGRESS: pass 0, at document #14000/75000\n",
      "2017-04-12 02:05:30,422 : INFO : merging changes from 2000 documents into a model of 75000 documents\n",
      "2017-04-12 02:05:31,577 : INFO : topic #2 (0.100): 0.034*\"film\" + 0.011*\"one\" + 0.007*\"like\" + 0.007*\"story\" + 0.006*\"see\" + 0.005*\"even\" + 0.005*\"time\" + 0.005*\"films\" + 0.004*\"great\" + 0.004*\"much\"\n",
      "2017-04-12 02:05:31,579 : INFO : topic #8 (0.100): 0.013*\"one\" + 0.007*\"like\" + 0.007*\"show\" + 0.007*\"would\" + 0.007*\"great\" + 0.006*\"series\" + 0.006*\"time\" + 0.006*\"good\" + 0.005*\"film\" + 0.005*\"even\"\n",
      "2017-04-12 02:05:31,580 : INFO : topic #0 (0.100): 0.015*\"film\" + 0.006*\"one\" + 0.004*\"also\" + 0.004*\"young\" + 0.004*\"story\" + 0.003*\"life\" + 0.003*\"man\" + 0.003*\"well\" + 0.003*\"would\" + 0.003*\"family\"\n",
      "2017-04-12 02:05:31,582 : INFO : topic #3 (0.100): 0.010*\"film\" + 0.006*\"good\" + 0.006*\"one\" + 0.005*\"great\" + 0.004*\"story\" + 0.004*\"people\" + 0.004*\"first\" + 0.004*\"man\" + 0.003*\"like\" + 0.003*\"many\"\n",
      "2017-04-12 02:05:31,584 : INFO : topic #5 (0.100): 0.010*\"film\" + 0.010*\"one\" + 0.004*\"like\" + 0.004*\"would\" + 0.004*\"good\" + 0.003*\"great\" + 0.003*\"films\" + 0.003*\"man\" + 0.003*\"even\" + 0.003*\"time\"\n",
      "2017-04-12 02:05:31,586 : INFO : topic diff=0.599264, rho=0.377964\n",
      "2017-04-12 02:05:31,990 : INFO : PROGRESS: pass 0, at document #16000/75000\n",
      "2017-04-12 02:05:35,209 : INFO : merging changes from 2000 documents into a model of 75000 documents\n",
      "2017-04-12 02:05:36,338 : INFO : topic #3 (0.100): 0.010*\"film\" + 0.006*\"good\" + 0.006*\"one\" + 0.004*\"great\" + 0.004*\"people\" + 0.004*\"story\" + 0.004*\"man\" + 0.003*\"like\" + 0.003*\"first\" + 0.003*\"many\"\n",
      "2017-04-12 02:05:36,339 : INFO : topic #9 (0.100): 0.016*\"like\" + 0.008*\"would\" + 0.007*\"get\" + 0.007*\"really\" + 0.006*\"one\" + 0.006*\"could\" + 0.006*\"good\" + 0.005*\"show\" + 0.005*\"even\" + 0.005*\"time\"\n",
      "2017-04-12 02:05:36,341 : INFO : topic #0 (0.100): 0.014*\"film\" + 0.005*\"one\" + 0.004*\"also\" + 0.004*\"man\" + 0.004*\"young\" + 0.004*\"life\" + 0.004*\"story\" + 0.003*\"well\" + 0.003*\"war\" + 0.003*\"family\"\n",
      "2017-04-12 02:05:36,344 : INFO : topic #7 (0.100): 0.013*\"film\" + 0.008*\"one\" + 0.007*\"story\" + 0.006*\"love\" + 0.004*\"time\" + 0.004*\"life\" + 0.003*\"like\" + 0.003*\"characters\" + 0.003*\"also\" + 0.003*\"even\"\n",
      "2017-04-12 02:05:36,346 : INFO : topic #4 (0.100): 0.011*\"film\" + 0.006*\"one\" + 0.005*\"like\" + 0.005*\"action\" + 0.004*\"even\" + 0.004*\"really\" + 0.003*\"get\" + 0.003*\"would\" + 0.003*\"story\" + 0.003*\"time\"\n",
      "2017-04-12 02:05:36,348 : INFO : topic diff=0.521008, rho=0.353553\n",
      "2017-04-12 02:05:36,761 : INFO : PROGRESS: pass 0, at document #18000/75000\n",
      "2017-04-12 02:05:39,983 : INFO : merging changes from 2000 documents into a model of 75000 documents\n",
      "2017-04-12 02:05:41,039 : INFO : topic #2 (0.100): 0.035*\"film\" + 0.011*\"one\" + 0.007*\"story\" + 0.007*\"like\" + 0.006*\"see\" + 0.005*\"films\" + 0.005*\"time\" + 0.005*\"even\" + 0.005*\"much\" + 0.005*\"great\"\n",
      "2017-04-12 02:05:41,040 : INFO : topic #4 (0.100): 0.011*\"film\" + 0.006*\"one\" + 0.005*\"action\" + 0.005*\"like\" + 0.004*\"even\" + 0.003*\"get\" + 0.003*\"really\" + 0.003*\"would\" + 0.003*\"story\" + 0.003*\"good\"\n",
      "2017-04-12 02:05:41,041 : INFO : topic #5 (0.100): 0.009*\"one\" + 0.009*\"film\" + 0.004*\"like\" + 0.003*\"would\" + 0.003*\"man\" + 0.003*\"good\" + 0.003*\"great\" + 0.003*\"films\" + 0.003*\"two\" + 0.003*\"time\"\n",
      "2017-04-12 02:05:41,043 : INFO : topic #3 (0.100): 0.009*\"film\" + 0.006*\"good\" + 0.006*\"one\" + 0.004*\"great\" + 0.004*\"people\" + 0.004*\"story\" + 0.004*\"man\" + 0.003*\"first\" + 0.003*\"like\" + 0.003*\"many\"\n",
      "2017-04-12 02:05:41,044 : INFO : topic #9 (0.100): 0.016*\"like\" + 0.008*\"would\" + 0.007*\"get\" + 0.007*\"really\" + 0.006*\"one\" + 0.006*\"could\" + 0.006*\"good\" + 0.006*\"show\" + 0.005*\"even\" + 0.005*\"people\"\n",
      "2017-04-12 02:05:41,046 : INFO : topic diff=0.496105, rho=0.333333\n",
      "2017-04-12 02:05:51,237 : INFO : -8.703 per-word bound, 416.8 perplexity estimate based on a held-out corpus of 2000 documents with 221882 words\n",
      "2017-04-12 02:05:51,238 : INFO : PROGRESS: pass 0, at document #20000/75000\n",
      "2017-04-12 02:05:54,423 : INFO : merging changes from 2000 documents into a model of 75000 documents\n",
      "2017-04-12 02:05:55,398 : INFO : topic #5 (0.100): 0.009*\"one\" + 0.009*\"film\" + 0.004*\"like\" + 0.004*\"man\" + 0.003*\"would\" + 0.003*\"good\" + 0.003*\"great\" + 0.003*\"films\" + 0.003*\"two\" + 0.003*\"time\"\n",
      "2017-04-12 02:05:55,400 : INFO : topic #7 (0.100): 0.013*\"film\" + 0.008*\"one\" + 0.007*\"story\" + 0.007*\"love\" + 0.004*\"time\" + 0.004*\"life\" + 0.003*\"also\" + 0.003*\"characters\" + 0.003*\"well\" + 0.003*\"two\"\n",
      "2017-04-12 02:05:55,402 : INFO : topic #3 (0.100): 0.009*\"film\" + 0.006*\"one\" + 0.006*\"good\" + 0.004*\"great\" + 0.004*\"man\" + 0.004*\"people\" + 0.004*\"story\" + 0.003*\"first\" + 0.003*\"like\" + 0.003*\"many\"\n",
      "2017-04-12 02:05:55,404 : INFO : topic #0 (0.100): 0.014*\"film\" + 0.005*\"one\" + 0.004*\"man\" + 0.004*\"life\" + 0.004*\"young\" + 0.004*\"also\" + 0.003*\"story\" + 0.003*\"family\" + 0.003*\"war\" + 0.003*\"well\"\n",
      "2017-04-12 02:05:55,406 : INFO : topic #8 (0.100): 0.012*\"one\" + 0.009*\"show\" + 0.008*\"series\" + 0.007*\"like\" + 0.007*\"great\" + 0.007*\"would\" + 0.006*\"good\" + 0.006*\"time\" + 0.006*\"first\" + 0.005*\"even\"\n",
      "2017-04-12 02:05:55,408 : INFO : topic diff=0.453078, rho=0.316228\n",
      "2017-04-12 02:05:55,822 : INFO : PROGRESS: pass 0, at document #22000/75000\n",
      "2017-04-12 02:05:59,007 : INFO : merging changes from 2000 documents into a model of 75000 documents\n",
      "2017-04-12 02:05:59,948 : INFO : topic #1 (0.100): 0.010*\"one\" + 0.009*\"film\" + 0.006*\"like\" + 0.005*\"even\" + 0.005*\"good\" + 0.005*\"character\" + 0.004*\"could\" + 0.004*\"plot\" + 0.004*\"time\" + 0.004*\"much\"\n",
      "2017-04-12 02:05:59,949 : INFO : topic #3 (0.100): 0.009*\"film\" + 0.006*\"one\" + 0.006*\"good\" + 0.004*\"great\" + 0.004*\"man\" + 0.004*\"story\" + 0.004*\"people\" + 0.003*\"first\" + 0.003*\"like\" + 0.003*\"many\"\n",
      "2017-04-12 02:05:59,951 : INFO : topic #5 (0.100): 0.009*\"one\" + 0.008*\"film\" + 0.004*\"man\" + 0.004*\"like\" + 0.003*\"would\" + 0.003*\"good\" + 0.003*\"great\" + 0.003*\"films\" + 0.003*\"two\" + 0.003*\"time\"\n",
      "2017-04-12 02:05:59,952 : INFO : topic #6 (0.100): 0.013*\"bad\" + 0.012*\"film\" + 0.012*\"one\" + 0.009*\"good\" + 0.009*\"like\" + 0.007*\"really\" + 0.007*\"even\" + 0.007*\"movies\" + 0.006*\"would\" + 0.006*\"acting\"\n",
      "2017-04-12 02:05:59,954 : INFO : topic #7 (0.100): 0.013*\"film\" + 0.008*\"one\" + 0.007*\"story\" + 0.007*\"love\" + 0.004*\"time\" + 0.004*\"life\" + 0.003*\"well\" + 0.003*\"also\" + 0.003*\"characters\" + 0.003*\"two\"\n",
      "2017-04-12 02:05:59,956 : INFO : topic diff=0.442529, rho=0.301511\n",
      "2017-04-12 02:06:00,394 : INFO : PROGRESS: pass 0, at document #24000/75000\n",
      "2017-04-12 02:06:03,560 : INFO : merging changes from 2000 documents into a model of 75000 documents\n",
      "2017-04-12 02:06:04,449 : INFO : topic #2 (0.100): 0.037*\"film\" + 0.011*\"one\" + 0.008*\"story\" + 0.007*\"like\" + 0.006*\"films\" + 0.005*\"see\" + 0.005*\"much\" + 0.005*\"time\" + 0.005*\"great\" + 0.005*\"characters\"\n",
      "2017-04-12 02:06:04,451 : INFO : topic #8 (0.100): 0.012*\"one\" + 0.009*\"show\" + 0.008*\"series\" + 0.008*\"like\" + 0.007*\"great\" + 0.007*\"would\" + 0.007*\"good\" + 0.007*\"time\" + 0.006*\"first\" + 0.005*\"see\"\n",
      "2017-04-12 02:06:04,452 : INFO : topic #6 (0.100): 0.013*\"bad\" + 0.012*\"film\" + 0.012*\"one\" + 0.010*\"good\" + 0.009*\"like\" + 0.008*\"really\" + 0.007*\"even\" + 0.007*\"movies\" + 0.007*\"would\" + 0.006*\"acting\"\n",
      "2017-04-12 02:06:04,454 : INFO : topic #4 (0.100): 0.010*\"film\" + 0.006*\"one\" + 0.006*\"action\" + 0.005*\"like\" + 0.003*\"get\" + 0.003*\"even\" + 0.003*\"good\" + 0.003*\"story\" + 0.003*\"time\" + 0.003*\"really\"\n",
      "2017-04-12 02:06:04,455 : INFO : topic #9 (0.100): 0.015*\"like\" + 0.008*\"would\" + 0.008*\"get\" + 0.007*\"really\" + 0.006*\"one\" + 0.006*\"could\" + 0.006*\"good\" + 0.006*\"people\" + 0.006*\"even\" + 0.005*\"know\"\n",
      "2017-04-12 02:06:04,457 : INFO : topic diff=0.397591, rho=0.288675\n",
      "2017-04-12 02:06:04,865 : INFO : PROGRESS: pass 0, at document #26000/75000\n",
      "2017-04-12 02:06:08,109 : INFO : merging changes from 2000 documents into a model of 75000 documents\n",
      "2017-04-12 02:06:08,974 : INFO : topic #2 (0.100): 0.037*\"film\" + 0.011*\"one\" + 0.008*\"story\" + 0.007*\"like\" + 0.006*\"films\" + 0.006*\"see\" + 0.005*\"much\" + 0.005*\"well\" + 0.005*\"great\" + 0.005*\"time\"\n",
      "2017-04-12 02:06:08,975 : INFO : topic #1 (0.100): 0.010*\"one\" + 0.009*\"film\" + 0.006*\"like\" + 0.005*\"character\" + 0.005*\"even\" + 0.005*\"good\" + 0.004*\"could\" + 0.004*\"plot\" + 0.004*\"much\" + 0.004*\"characters\"\n",
      "2017-04-12 02:06:08,977 : INFO : topic #3 (0.100): 0.008*\"film\" + 0.006*\"one\" + 0.005*\"good\" + 0.004*\"great\" + 0.004*\"man\" + 0.004*\"people\" + 0.004*\"story\" + 0.003*\"first\" + 0.003*\"like\" + 0.003*\"many\"\n",
      "2017-04-12 02:06:08,979 : INFO : topic #4 (0.100): 0.010*\"film\" + 0.006*\"action\" + 0.006*\"one\" + 0.005*\"like\" + 0.003*\"good\" + 0.003*\"get\" + 0.003*\"even\" + 0.003*\"story\" + 0.003*\"time\" + 0.003*\"plot\"\n",
      "2017-04-12 02:06:08,981 : INFO : topic #8 (0.100): 0.012*\"one\" + 0.010*\"show\" + 0.008*\"series\" + 0.008*\"great\" + 0.008*\"like\" + 0.007*\"would\" + 0.007*\"good\" + 0.007*\"time\" + 0.006*\"first\" + 0.005*\"see\"\n",
      "2017-04-12 02:06:08,983 : INFO : topic diff=0.413639, rho=0.277350\n",
      "2017-04-12 02:06:09,391 : INFO : PROGRESS: pass 0, at document #28000/75000\n",
      "2017-04-12 02:06:12,702 : INFO : merging changes from 2000 documents into a model of 75000 documents\n",
      "2017-04-12 02:06:13,573 : INFO : topic #1 (0.100): 0.010*\"one\" + 0.009*\"film\" + 0.006*\"like\" + 0.005*\"character\" + 0.005*\"even\" + 0.005*\"good\" + 0.004*\"could\" + 0.004*\"plot\" + 0.004*\"actors\" + 0.004*\"characters\"\n",
      "2017-04-12 02:06:13,575 : INFO : topic #3 (0.100): 0.008*\"film\" + 0.006*\"one\" + 0.005*\"good\" + 0.004*\"great\" + 0.004*\"man\" + 0.004*\"people\" + 0.003*\"story\" + 0.003*\"first\" + 0.003*\"like\" + 0.003*\"also\"\n",
      "2017-04-12 02:06:13,576 : INFO : topic #0 (0.100): 0.013*\"film\" + 0.005*\"one\" + 0.005*\"man\" + 0.004*\"young\" + 0.004*\"life\" + 0.004*\"also\" + 0.004*\"war\" + 0.004*\"family\" + 0.003*\"two\" + 0.003*\"story\"\n",
      "2017-04-12 02:06:13,578 : INFO : topic #8 (0.100): 0.012*\"one\" + 0.010*\"show\" + 0.008*\"series\" + 0.008*\"great\" + 0.008*\"like\" + 0.007*\"would\" + 0.007*\"good\" + 0.007*\"time\" + 0.006*\"first\" + 0.005*\"see\"\n",
      "2017-04-12 02:06:13,580 : INFO : topic #7 (0.100): 0.012*\"film\" + 0.008*\"one\" + 0.007*\"story\" + 0.007*\"love\" + 0.004*\"time\" + 0.004*\"version\" + 0.004*\"life\" + 0.003*\"also\" + 0.003*\"well\" + 0.003*\"two\"\n",
      "2017-04-12 02:06:13,582 : INFO : topic diff=0.427434, rho=0.267261\n",
      "2017-04-12 02:06:14,007 : INFO : PROGRESS: pass 0, at document #30000/75000\n",
      "2017-04-12 02:06:17,129 : INFO : merging changes from 2000 documents into a model of 75000 documents\n",
      "2017-04-12 02:06:17,958 : INFO : topic #6 (0.100): 0.013*\"bad\" + 0.013*\"film\" + 0.013*\"one\" + 0.010*\"good\" + 0.010*\"like\" + 0.008*\"even\" + 0.008*\"really\" + 0.007*\"movies\" + 0.007*\"acting\" + 0.006*\"would\"\n",
      "2017-04-12 02:06:17,960 : INFO : topic #3 (0.100): 0.008*\"film\" + 0.006*\"one\" + 0.005*\"good\" + 0.004*\"great\" + 0.004*\"man\" + 0.004*\"people\" + 0.003*\"story\" + 0.003*\"charlie\" + 0.003*\"first\" + 0.003*\"like\"\n",
      "2017-04-12 02:06:17,962 : INFO : topic #2 (0.100): 0.038*\"film\" + 0.011*\"one\" + 0.009*\"story\" + 0.007*\"like\" + 0.006*\"films\" + 0.006*\"see\" + 0.005*\"characters\" + 0.005*\"much\" + 0.005*\"great\" + 0.005*\"well\"\n",
      "2017-04-12 02:06:17,964 : INFO : topic #0 (0.100): 0.012*\"film\" + 0.006*\"one\" + 0.005*\"man\" + 0.005*\"young\" + 0.004*\"life\" + 0.004*\"also\" + 0.004*\"war\" + 0.004*\"family\" + 0.003*\"two\" + 0.003*\"story\"\n",
      "2017-04-12 02:06:17,965 : INFO : topic #7 (0.100): 0.012*\"film\" + 0.008*\"one\" + 0.008*\"story\" + 0.007*\"love\" + 0.004*\"time\" + 0.004*\"life\" + 0.004*\"version\" + 0.003*\"well\" + 0.003*\"also\" + 0.003*\"characters\"\n",
      "2017-04-12 02:06:17,967 : INFO : topic diff=0.376994, rho=0.258199\n",
      "2017-04-12 02:06:18,379 : INFO : PROGRESS: pass 0, at document #32000/75000\n",
      "2017-04-12 02:06:21,412 : INFO : merging changes from 2000 documents into a model of 75000 documents\n",
      "2017-04-12 02:06:22,241 : INFO : topic #0 (0.100): 0.012*\"film\" + 0.006*\"one\" + 0.005*\"young\" + 0.005*\"man\" + 0.004*\"life\" + 0.004*\"war\" + 0.004*\"also\" + 0.003*\"family\" + 0.003*\"two\" + 0.003*\"world\"\n",
      "2017-04-12 02:06:22,243 : INFO : topic #1 (0.100): 0.010*\"one\" + 0.009*\"film\" + 0.006*\"character\" + 0.006*\"like\" + 0.005*\"even\" + 0.005*\"good\" + 0.004*\"could\" + 0.004*\"plot\" + 0.004*\"script\" + 0.004*\"actors\"\n",
      "2017-04-12 02:06:22,244 : INFO : topic #9 (0.100): 0.015*\"like\" + 0.008*\"would\" + 0.008*\"get\" + 0.007*\"people\" + 0.007*\"one\" + 0.006*\"really\" + 0.006*\"could\" + 0.006*\"know\" + 0.006*\"good\" + 0.006*\"even\"\n",
      "2017-04-12 02:06:22,245 : INFO : topic #6 (0.100): 0.014*\"bad\" + 0.013*\"film\" + 0.013*\"one\" + 0.010*\"good\" + 0.010*\"like\" + 0.008*\"even\" + 0.008*\"really\" + 0.007*\"movies\" + 0.007*\"acting\" + 0.006*\"would\"\n",
      "2017-04-12 02:06:22,248 : INFO : topic #3 (0.100): 0.008*\"film\" + 0.006*\"one\" + 0.005*\"good\" + 0.004*\"great\" + 0.004*\"man\" + 0.004*\"people\" + 0.003*\"story\" + 0.003*\"first\" + 0.003*\"charlie\" + 0.003*\"like\"\n",
      "2017-04-12 02:06:22,250 : INFO : topic diff=0.352160, rho=0.250000\n",
      "2017-04-12 02:06:22,666 : INFO : PROGRESS: pass 0, at document #34000/75000\n",
      "2017-04-12 02:06:25,742 : INFO : merging changes from 2000 documents into a model of 75000 documents\n",
      "2017-04-12 02:06:26,543 : INFO : topic #8 (0.100): 0.012*\"one\" + 0.011*\"show\" + 0.009*\"series\" + 0.009*\"great\" + 0.008*\"like\" + 0.007*\"good\" + 0.007*\"would\" + 0.007*\"time\" + 0.007*\"first\" + 0.005*\"see\"\n",
      "2017-04-12 02:06:26,545 : INFO : topic #7 (0.100): 0.012*\"film\" + 0.008*\"one\" + 0.007*\"story\" + 0.007*\"love\" + 0.004*\"life\" + 0.004*\"time\" + 0.004*\"version\" + 0.003*\"well\" + 0.003*\"also\" + 0.003*\"two\"\n",
      "2017-04-12 02:06:26,547 : INFO : topic #1 (0.100): 0.010*\"one\" + 0.008*\"film\" + 0.006*\"character\" + 0.006*\"like\" + 0.005*\"even\" + 0.005*\"good\" + 0.004*\"could\" + 0.004*\"plot\" + 0.004*\"script\" + 0.004*\"actors\"\n",
      "2017-04-12 02:06:26,549 : INFO : topic #4 (0.100): 0.009*\"film\" + 0.009*\"action\" + 0.006*\"one\" + 0.004*\"like\" + 0.003*\"get\" + 0.003*\"good\" + 0.003*\"even\" + 0.003*\"plot\" + 0.003*\"two\" + 0.003*\"time\"\n",
      "2017-04-12 02:06:26,550 : INFO : topic #9 (0.100): 0.015*\"like\" + 0.009*\"get\" + 0.008*\"would\" + 0.007*\"people\" + 0.007*\"one\" + 0.007*\"really\" + 0.006*\"could\" + 0.006*\"know\" + 0.006*\"even\" + 0.006*\"good\"\n",
      "2017-04-12 02:06:26,552 : INFO : topic diff=0.329663, rho=0.242536\n",
      "2017-04-12 02:06:26,966 : INFO : PROGRESS: pass 0, at document #36000/75000\n",
      "2017-04-12 02:06:30,101 : INFO : merging changes from 2000 documents into a model of 75000 documents\n",
      "2017-04-12 02:06:30,873 : INFO : topic #8 (0.100): 0.012*\"one\" + 0.010*\"show\" + 0.009*\"great\" + 0.009*\"series\" + 0.008*\"like\" + 0.007*\"good\" + 0.007*\"would\" + 0.007*\"time\" + 0.007*\"first\" + 0.006*\"see\"\n",
      "2017-04-12 02:06:30,875 : INFO : topic #0 (0.100): 0.012*\"film\" + 0.005*\"one\" + 0.005*\"man\" + 0.005*\"young\" + 0.004*\"life\" + 0.004*\"war\" + 0.004*\"also\" + 0.003*\"family\" + 0.003*\"two\" + 0.003*\"world\"\n",
      "2017-04-12 02:06:30,876 : INFO : topic #5 (0.100): 0.009*\"one\" + 0.007*\"film\" + 0.004*\"man\" + 0.003*\"great\" + 0.003*\"western\" + 0.003*\"jack\" + 0.003*\"like\" + 0.003*\"films\" + 0.003*\"john\" + 0.003*\"two\"\n",
      "2017-04-12 02:06:30,878 : INFO : topic #2 (0.100): 0.040*\"film\" + 0.010*\"one\" + 0.008*\"story\" + 0.007*\"films\" + 0.007*\"like\" + 0.006*\"see\" + 0.005*\"characters\" + 0.005*\"well\" + 0.005*\"much\" + 0.005*\"great\"\n",
      "2017-04-12 02:06:30,880 : INFO : topic #3 (0.100): 0.007*\"film\" + 0.005*\"one\" + 0.005*\"good\" + 0.004*\"man\" + 0.004*\"great\" + 0.003*\"people\" + 0.003*\"story\" + 0.003*\"charlie\" + 0.003*\"also\" + 0.003*\"first\"\n",
      "2017-04-12 02:06:30,883 : INFO : topic diff=0.313827, rho=0.235702\n",
      "2017-04-12 02:06:31,315 : INFO : PROGRESS: pass 0, at document #38000/75000\n",
      "2017-04-12 02:06:34,489 : INFO : merging changes from 2000 documents into a model of 75000 documents\n",
      "2017-04-12 02:06:35,302 : INFO : topic #6 (0.100): 0.014*\"bad\" + 0.013*\"film\" + 0.013*\"one\" + 0.010*\"good\" + 0.010*\"like\" + 0.008*\"even\" + 0.008*\"really\" + 0.007*\"movies\" + 0.007*\"acting\" + 0.006*\"would\"\n",
      "2017-04-12 02:06:35,304 : INFO : topic #1 (0.100): 0.010*\"one\" + 0.008*\"film\" + 0.006*\"character\" + 0.006*\"like\" + 0.005*\"even\" + 0.005*\"good\" + 0.004*\"script\" + 0.004*\"could\" + 0.004*\"plot\" + 0.004*\"actors\"\n",
      "2017-04-12 02:06:35,306 : INFO : topic #8 (0.100): 0.012*\"one\" + 0.011*\"show\" + 0.009*\"great\" + 0.008*\"series\" + 0.008*\"like\" + 0.007*\"good\" + 0.007*\"would\" + 0.007*\"time\" + 0.007*\"first\" + 0.006*\"see\"\n",
      "2017-04-12 02:06:35,308 : INFO : topic #0 (0.100): 0.012*\"film\" + 0.005*\"one\" + 0.005*\"man\" + 0.005*\"young\" + 0.005*\"life\" + 0.004*\"war\" + 0.004*\"also\" + 0.003*\"family\" + 0.003*\"two\" + 0.003*\"world\"\n",
      "2017-04-12 02:06:35,309 : INFO : topic #5 (0.100): 0.009*\"one\" + 0.007*\"film\" + 0.004*\"man\" + 0.003*\"jack\" + 0.003*\"john\" + 0.003*\"great\" + 0.003*\"western\" + 0.003*\"like\" + 0.003*\"two\" + 0.003*\"films\"\n",
      "2017-04-12 02:06:35,312 : INFO : topic diff=0.289338, rho=0.229416\n",
      "2017-04-12 02:06:45,020 : INFO : -8.685 per-word bound, 411.6 perplexity estimate based on a held-out corpus of 2000 documents with 228449 words\n",
      "2017-04-12 02:06:45,021 : INFO : PROGRESS: pass 0, at document #40000/75000\n",
      "2017-04-12 02:06:48,119 : INFO : merging changes from 2000 documents into a model of 75000 documents\n",
      "2017-04-12 02:06:48,882 : INFO : topic #7 (0.100): 0.011*\"film\" + 0.007*\"one\" + 0.007*\"story\" + 0.007*\"love\" + 0.003*\"time\" + 0.003*\"music\" + 0.003*\"version\" + 0.003*\"life\" + 0.003*\"also\" + 0.003*\"novel\"\n",
      "2017-04-12 02:06:48,884 : INFO : topic #5 (0.100): 0.009*\"one\" + 0.007*\"film\" + 0.004*\"man\" + 0.003*\"jack\" + 0.003*\"john\" + 0.003*\"western\" + 0.003*\"great\" + 0.003*\"role\" + 0.003*\"like\" + 0.003*\"good\"\n",
      "2017-04-12 02:06:48,886 : INFO : topic #9 (0.100): 0.015*\"like\" + 0.009*\"get\" + 0.009*\"would\" + 0.007*\"people\" + 0.007*\"one\" + 0.007*\"really\" + 0.006*\"could\" + 0.006*\"know\" + 0.006*\"even\" + 0.005*\"good\"\n",
      "2017-04-12 02:06:48,889 : INFO : topic #8 (0.100): 0.012*\"one\" + 0.011*\"show\" + 0.009*\"great\" + 0.008*\"series\" + 0.008*\"like\" + 0.007*\"good\" + 0.007*\"would\" + 0.007*\"time\" + 0.007*\"first\" + 0.006*\"see\"\n",
      "2017-04-12 02:06:48,891 : INFO : topic #2 (0.100): 0.040*\"film\" + 0.010*\"one\" + 0.009*\"story\" + 0.007*\"like\" + 0.007*\"films\" + 0.006*\"see\" + 0.006*\"characters\" + 0.005*\"well\" + 0.005*\"great\" + 0.005*\"much\"\n",
      "2017-04-12 02:06:48,893 : INFO : topic diff=0.270512, rho=0.223607\n",
      "2017-04-12 02:06:49,331 : INFO : PROGRESS: pass 0, at document #42000/75000\n",
      "2017-04-12 02:06:52,608 : INFO : merging changes from 2000 documents into a model of 75000 documents\n",
      "2017-04-12 02:06:53,322 : INFO : topic #7 (0.100): 0.011*\"film\" + 0.007*\"one\" + 0.007*\"story\" + 0.007*\"love\" + 0.003*\"version\" + 0.003*\"music\" + 0.003*\"time\" + 0.003*\"novel\" + 0.003*\"life\" + 0.003*\"also\"\n",
      "2017-04-12 02:06:53,324 : INFO : topic #2 (0.100): 0.040*\"film\" + 0.010*\"one\" + 0.009*\"story\" + 0.007*\"like\" + 0.007*\"films\" + 0.006*\"characters\" + 0.006*\"see\" + 0.005*\"well\" + 0.005*\"great\" + 0.005*\"really\"\n",
      "2017-04-12 02:06:53,326 : INFO : topic #3 (0.100): 0.007*\"film\" + 0.005*\"one\" + 0.005*\"good\" + 0.004*\"man\" + 0.004*\"great\" + 0.003*\"people\" + 0.003*\"story\" + 0.003*\"charlie\" + 0.003*\"also\" + 0.003*\"like\"\n",
      "2017-04-12 02:06:53,327 : INFO : topic #4 (0.100): 0.009*\"action\" + 0.008*\"film\" + 0.006*\"one\" + 0.004*\"like\" + 0.003*\"get\" + 0.003*\"good\" + 0.003*\"police\" + 0.003*\"scene\" + 0.003*\"two\" + 0.003*\"fight\"\n",
      "2017-04-12 02:06:53,329 : INFO : topic #5 (0.100): 0.009*\"one\" + 0.007*\"film\" + 0.004*\"man\" + 0.003*\"jack\" + 0.003*\"western\" + 0.003*\"john\" + 0.003*\"great\" + 0.003*\"role\" + 0.003*\"like\" + 0.003*\"good\"\n",
      "2017-04-12 02:06:53,331 : INFO : topic diff=0.249220, rho=0.218218\n",
      "2017-04-12 02:06:53,792 : INFO : PROGRESS: pass 0, at document #44000/75000\n",
      "2017-04-12 02:06:56,994 : INFO : merging changes from 2000 documents into a model of 75000 documents\n",
      "2017-04-12 02:06:57,677 : INFO : topic #0 (0.100): 0.011*\"film\" + 0.005*\"one\" + 0.005*\"man\" + 0.004*\"war\" + 0.004*\"life\" + 0.004*\"young\" + 0.004*\"family\" + 0.003*\"also\" + 0.003*\"men\" + 0.003*\"two\"\n",
      "2017-04-12 02:06:57,679 : INFO : topic #3 (0.100): 0.007*\"film\" + 0.005*\"one\" + 0.004*\"good\" + 0.004*\"man\" + 0.004*\"great\" + 0.003*\"charlie\" + 0.003*\"people\" + 0.003*\"story\" + 0.003*\"also\" + 0.003*\"world\"\n",
      "2017-04-12 02:06:57,681 : INFO : topic #1 (0.100): 0.010*\"one\" + 0.008*\"film\" + 0.007*\"character\" + 0.005*\"like\" + 0.005*\"even\" + 0.005*\"script\" + 0.004*\"good\" + 0.004*\"cast\" + 0.004*\"could\" + 0.004*\"actors\"\n",
      "2017-04-12 02:06:57,682 : INFO : topic #6 (0.100): 0.014*\"bad\" + 0.013*\"film\" + 0.013*\"one\" + 0.010*\"like\" + 0.010*\"good\" + 0.008*\"even\" + 0.007*\"really\" + 0.007*\"movies\" + 0.007*\"acting\" + 0.006*\"would\"\n",
      "2017-04-12 02:06:57,684 : INFO : topic #5 (0.100): 0.009*\"one\" + 0.007*\"film\" + 0.005*\"man\" + 0.003*\"jack\" + 0.003*\"western\" + 0.003*\"john\" + 0.003*\"great\" + 0.003*\"role\" + 0.003*\"like\" + 0.003*\"two\"\n",
      "2017-04-12 02:06:57,686 : INFO : topic diff=0.241942, rho=0.213201\n",
      "2017-04-12 02:06:58,114 : INFO : PROGRESS: pass 0, at document #46000/75000\n",
      "2017-04-12 02:07:01,112 : INFO : merging changes from 2000 documents into a model of 75000 documents\n",
      "2017-04-12 02:07:01,841 : INFO : topic #5 (0.100): 0.009*\"one\" + 0.007*\"film\" + 0.005*\"man\" + 0.004*\"jack\" + 0.003*\"john\" + 0.003*\"western\" + 0.003*\"role\" + 0.003*\"great\" + 0.003*\"like\" + 0.003*\"holmes\"\n",
      "2017-04-12 02:07:01,843 : INFO : topic #7 (0.100): 0.011*\"film\" + 0.007*\"one\" + 0.007*\"love\" + 0.007*\"story\" + 0.004*\"music\" + 0.003*\"novel\" + 0.003*\"beautiful\" + 0.003*\"version\" + 0.003*\"also\" + 0.003*\"time\"\n",
      "2017-04-12 02:07:01,844 : INFO : topic #9 (0.100): 0.015*\"like\" + 0.009*\"get\" + 0.009*\"would\" + 0.008*\"people\" + 0.007*\"one\" + 0.007*\"really\" + 0.007*\"know\" + 0.007*\"could\" + 0.006*\"see\" + 0.006*\"even\"\n",
      "2017-04-12 02:07:01,846 : INFO : topic #2 (0.100): 0.040*\"film\" + 0.010*\"one\" + 0.009*\"story\" + 0.007*\"like\" + 0.006*\"films\" + 0.006*\"characters\" + 0.006*\"see\" + 0.005*\"well\" + 0.005*\"really\" + 0.005*\"good\"\n",
      "2017-04-12 02:07:01,847 : INFO : topic #1 (0.100): 0.010*\"one\" + 0.008*\"film\" + 0.007*\"character\" + 0.005*\"like\" + 0.005*\"even\" + 0.004*\"script\" + 0.004*\"cast\" + 0.004*\"good\" + 0.004*\"could\" + 0.004*\"plot\"\n",
      "2017-04-12 02:07:01,850 : INFO : topic diff=0.229838, rho=0.208514\n",
      "2017-04-12 02:07:02,271 : INFO : PROGRESS: pass 0, at document #48000/75000\n",
      "2017-04-12 02:07:05,231 : INFO : merging changes from 2000 documents into a model of 75000 documents\n",
      "2017-04-12 02:07:05,878 : INFO : topic #5 (0.100): 0.009*\"one\" + 0.006*\"film\" + 0.004*\"man\" + 0.004*\"jack\" + 0.003*\"john\" + 0.003*\"western\" + 0.003*\"role\" + 0.003*\"great\" + 0.003*\"two\" + 0.003*\"like\"\n",
      "2017-04-12 02:07:05,879 : INFO : topic #7 (0.100): 0.011*\"film\" + 0.007*\"one\" + 0.007*\"love\" + 0.006*\"story\" + 0.004*\"music\" + 0.004*\"novel\" + 0.004*\"version\" + 0.003*\"also\" + 0.003*\"time\" + 0.003*\"beautiful\"\n",
      "2017-04-12 02:07:05,881 : INFO : topic #0 (0.100): 0.011*\"film\" + 0.005*\"one\" + 0.005*\"man\" + 0.004*\"war\" + 0.004*\"life\" + 0.004*\"young\" + 0.004*\"family\" + 0.003*\"also\" + 0.003*\"world\" + 0.003*\"two\"\n",
      "2017-04-12 02:07:05,883 : INFO : topic #6 (0.100): 0.014*\"bad\" + 0.014*\"film\" + 0.013*\"one\" + 0.010*\"like\" + 0.010*\"good\" + 0.008*\"even\" + 0.007*\"really\" + 0.007*\"movies\" + 0.007*\"acting\" + 0.006*\"would\"\n",
      "2017-04-12 02:07:05,884 : INFO : topic #4 (0.100): 0.010*\"action\" + 0.008*\"film\" + 0.006*\"one\" + 0.004*\"like\" + 0.003*\"police\" + 0.003*\"fight\" + 0.003*\"scene\" + 0.003*\"two\" + 0.003*\"get\" + 0.003*\"good\"\n",
      "2017-04-12 02:07:05,886 : INFO : topic diff=0.213803, rho=0.204124\n",
      "2017-04-12 02:07:06,322 : INFO : PROGRESS: pass 0, at document #50000/75000\n",
      "2017-04-12 02:07:09,460 : INFO : merging changes from 2000 documents into a model of 75000 documents\n",
      "2017-04-12 02:07:10,095 : INFO : topic #3 (0.100): 0.006*\"film\" + 0.005*\"one\" + 0.004*\"good\" + 0.004*\"man\" + 0.003*\"great\" + 0.003*\"charlie\" + 0.003*\"people\" + 0.003*\"story\" + 0.003*\"also\" + 0.003*\"role\"\n",
      "2017-04-12 02:07:10,097 : INFO : topic #5 (0.100): 0.009*\"one\" + 0.006*\"film\" + 0.004*\"man\" + 0.004*\"jack\" + 0.003*\"john\" + 0.003*\"role\" + 0.003*\"western\" + 0.003*\"great\" + 0.003*\"plays\" + 0.003*\"two\"\n",
      "2017-04-12 02:07:10,098 : INFO : topic #1 (0.100): 0.010*\"one\" + 0.008*\"film\" + 0.007*\"character\" + 0.005*\"like\" + 0.005*\"even\" + 0.005*\"script\" + 0.004*\"cast\" + 0.004*\"good\" + 0.004*\"plot\" + 0.004*\"could\"\n",
      "2017-04-12 02:07:10,100 : INFO : topic #6 (0.100): 0.014*\"bad\" + 0.014*\"film\" + 0.013*\"one\" + 0.010*\"like\" + 0.010*\"good\" + 0.008*\"even\" + 0.008*\"really\" + 0.007*\"movies\" + 0.007*\"acting\" + 0.006*\"horror\"\n",
      "2017-04-12 02:07:10,101 : INFO : topic #9 (0.100): 0.015*\"like\" + 0.009*\"get\" + 0.009*\"would\" + 0.008*\"people\" + 0.007*\"one\" + 0.007*\"really\" + 0.007*\"know\" + 0.007*\"could\" + 0.006*\"see\" + 0.006*\"even\"\n",
      "2017-04-12 02:07:10,104 : INFO : topic diff=0.196215, rho=0.200000\n",
      "2017-04-12 02:07:10,554 : INFO : PROGRESS: pass 0, at document #52000/75000\n",
      "2017-04-12 02:07:13,719 : INFO : merging changes from 2000 documents into a model of 75000 documents\n",
      "2017-04-12 02:07:14,332 : INFO : topic #0 (0.100): 0.010*\"film\" + 0.005*\"one\" + 0.005*\"war\" + 0.005*\"man\" + 0.005*\"life\" + 0.004*\"young\" + 0.004*\"family\" + 0.003*\"also\" + 0.003*\"men\" + 0.003*\"two\"\n",
      "2017-04-12 02:07:14,334 : INFO : topic #4 (0.100): 0.011*\"action\" + 0.008*\"film\" + 0.007*\"one\" + 0.004*\"like\" + 0.003*\"police\" + 0.003*\"fight\" + 0.003*\"scene\" + 0.003*\"two\" + 0.003*\"get\" + 0.003*\"car\"\n",
      "2017-04-12 02:07:14,335 : INFO : topic #7 (0.100): 0.010*\"film\" + 0.007*\"one\" + 0.007*\"love\" + 0.006*\"story\" + 0.004*\"music\" + 0.004*\"version\" + 0.003*\"novel\" + 0.003*\"beautiful\" + 0.003*\"also\" + 0.003*\"time\"\n",
      "2017-04-12 02:07:14,337 : INFO : topic #3 (0.100): 0.006*\"film\" + 0.005*\"one\" + 0.004*\"good\" + 0.003*\"great\" + 0.003*\"man\" + 0.003*\"people\" + 0.003*\"charlie\" + 0.003*\"story\" + 0.003*\"also\" + 0.003*\"role\"\n",
      "2017-04-12 02:07:14,339 : INFO : topic #9 (0.100): 0.015*\"like\" + 0.009*\"get\" + 0.009*\"would\" + 0.008*\"people\" + 0.007*\"one\" + 0.007*\"could\" + 0.007*\"really\" + 0.007*\"know\" + 0.006*\"see\" + 0.006*\"even\"\n",
      "2017-04-12 02:07:14,341 : INFO : topic diff=0.186299, rho=0.196116\n",
      "2017-04-12 02:07:14,775 : INFO : PROGRESS: pass 0, at document #54000/75000\n",
      "2017-04-12 02:07:17,807 : INFO : merging changes from 2000 documents into a model of 75000 documents\n",
      "2017-04-12 02:07:18,386 : INFO : topic #6 (0.100): 0.014*\"bad\" + 0.014*\"film\" + 0.013*\"one\" + 0.011*\"like\" + 0.010*\"good\" + 0.009*\"even\" + 0.008*\"movies\" + 0.008*\"really\" + 0.007*\"acting\" + 0.006*\"would\"\n",
      "2017-04-12 02:07:18,387 : INFO : topic #4 (0.100): 0.011*\"action\" + 0.008*\"film\" + 0.007*\"one\" + 0.004*\"like\" + 0.003*\"fight\" + 0.003*\"police\" + 0.003*\"scene\" + 0.003*\"two\" + 0.003*\"get\" + 0.003*\"car\"\n",
      "2017-04-12 02:07:18,389 : INFO : topic #2 (0.100): 0.040*\"film\" + 0.010*\"one\" + 0.009*\"story\" + 0.007*\"films\" + 0.006*\"like\" + 0.006*\"characters\" + 0.006*\"see\" + 0.005*\"well\" + 0.005*\"good\" + 0.005*\"really\"\n",
      "2017-04-12 02:07:18,391 : INFO : topic #9 (0.100): 0.015*\"like\" + 0.009*\"get\" + 0.009*\"would\" + 0.008*\"people\" + 0.007*\"one\" + 0.007*\"really\" + 0.007*\"could\" + 0.007*\"know\" + 0.006*\"see\" + 0.006*\"even\"\n",
      "2017-04-12 02:07:18,392 : INFO : topic #5 (0.100): 0.009*\"one\" + 0.006*\"film\" + 0.004*\"man\" + 0.003*\"jack\" + 0.003*\"john\" + 0.003*\"role\" + 0.003*\"western\" + 0.003*\"plays\" + 0.003*\"great\" + 0.003*\"two\"\n",
      "2017-04-12 02:07:18,395 : INFO : topic diff=0.181890, rho=0.192450\n",
      "2017-04-12 02:07:18,833 : INFO : PROGRESS: pass 0, at document #56000/75000\n",
      "2017-04-12 02:07:21,903 : INFO : merging changes from 2000 documents into a model of 75000 documents\n",
      "2017-04-12 02:07:22,468 : INFO : topic #5 (0.100): 0.009*\"one\" + 0.006*\"film\" + 0.005*\"man\" + 0.003*\"john\" + 0.003*\"jack\" + 0.003*\"role\" + 0.003*\"plays\" + 0.003*\"western\" + 0.003*\"great\" + 0.003*\"also\"\n",
      "2017-04-12 02:07:22,470 : INFO : topic #7 (0.100): 0.010*\"film\" + 0.007*\"one\" + 0.007*\"love\" + 0.006*\"story\" + 0.004*\"music\" + 0.004*\"version\" + 0.004*\"novel\" + 0.003*\"beautiful\" + 0.003*\"also\" + 0.003*\"time\"\n",
      "2017-04-12 02:07:22,472 : INFO : topic #8 (0.100): 0.013*\"show\" + 0.012*\"one\" + 0.009*\"great\" + 0.009*\"series\" + 0.008*\"like\" + 0.007*\"time\" + 0.007*\"first\" + 0.007*\"good\" + 0.007*\"would\" + 0.006*\"see\"\n",
      "2017-04-12 02:07:22,473 : INFO : topic #1 (0.100): 0.010*\"one\" + 0.007*\"film\" + 0.007*\"character\" + 0.005*\"even\" + 0.005*\"like\" + 0.005*\"script\" + 0.004*\"cast\" + 0.004*\"actors\" + 0.004*\"good\" + 0.004*\"could\"\n",
      "2017-04-12 02:07:22,475 : INFO : topic #6 (0.100): 0.014*\"bad\" + 0.014*\"film\" + 0.013*\"one\" + 0.011*\"like\" + 0.010*\"good\" + 0.009*\"even\" + 0.008*\"movies\" + 0.008*\"really\" + 0.007*\"acting\" + 0.006*\"would\"\n",
      "2017-04-12 02:07:22,477 : INFO : topic diff=0.169773, rho=0.188982\n",
      "2017-04-12 02:07:22,912 : INFO : PROGRESS: pass 0, at document #58000/75000\n",
      "2017-04-12 02:07:25,827 : INFO : merging changes from 2000 documents into a model of 75000 documents\n",
      "2017-04-12 02:07:26,363 : INFO : topic #6 (0.100): 0.014*\"film\" + 0.014*\"bad\" + 0.013*\"one\" + 0.011*\"like\" + 0.010*\"good\" + 0.009*\"even\" + 0.008*\"movies\" + 0.008*\"really\" + 0.007*\"acting\" + 0.006*\"would\"\n",
      "2017-04-12 02:07:26,365 : INFO : topic #7 (0.100): 0.010*\"film\" + 0.007*\"one\" + 0.007*\"love\" + 0.006*\"story\" + 0.004*\"music\" + 0.004*\"novel\" + 0.004*\"version\" + 0.003*\"beautiful\" + 0.003*\"also\" + 0.003*\"time\"\n",
      "2017-04-12 02:07:26,367 : INFO : topic #1 (0.100): 0.009*\"one\" + 0.007*\"character\" + 0.007*\"film\" + 0.005*\"even\" + 0.005*\"like\" + 0.005*\"script\" + 0.005*\"cast\" + 0.004*\"actors\" + 0.004*\"good\" + 0.004*\"plot\"\n",
      "2017-04-12 02:07:26,368 : INFO : topic #2 (0.100): 0.040*\"film\" + 0.010*\"one\" + 0.009*\"story\" + 0.007*\"films\" + 0.006*\"like\" + 0.006*\"characters\" + 0.006*\"see\" + 0.006*\"well\" + 0.006*\"good\" + 0.005*\"really\"\n",
      "2017-04-12 02:07:26,370 : INFO : topic #3 (0.100): 0.006*\"film\" + 0.005*\"one\" + 0.004*\"good\" + 0.003*\"davis\" + 0.003*\"man\" + 0.003*\"great\" + 0.003*\"charlie\" + 0.003*\"people\" + 0.003*\"also\" + 0.003*\"role\"\n",
      "2017-04-12 02:07:26,371 : INFO : topic diff=0.165851, rho=0.185695\n",
      "2017-04-12 02:07:35,607 : INFO : -8.625 per-word bound, 394.9 perplexity estimate based on a held-out corpus of 2000 documents with 223516 words\n",
      "2017-04-12 02:07:35,607 : INFO : PROGRESS: pass 0, at document #60000/75000\n",
      "2017-04-12 02:07:38,506 : INFO : merging changes from 2000 documents into a model of 75000 documents\n",
      "2017-04-12 02:07:39,050 : INFO : topic #0 (0.100): 0.010*\"film\" + 0.005*\"one\" + 0.005*\"man\" + 0.005*\"war\" + 0.005*\"life\" + 0.005*\"young\" + 0.004*\"family\" + 0.003*\"also\" + 0.003*\"world\" + 0.003*\"two\"\n",
      "2017-04-12 02:07:39,052 : INFO : topic #4 (0.100): 0.012*\"action\" + 0.008*\"film\" + 0.007*\"one\" + 0.004*\"like\" + 0.003*\"police\" + 0.003*\"fight\" + 0.003*\"two\" + 0.003*\"scene\" + 0.003*\"get\" + 0.003*\"car\"\n",
      "2017-04-12 02:07:39,053 : INFO : topic #9 (0.100): 0.015*\"like\" + 0.009*\"would\" + 0.009*\"get\" + 0.008*\"people\" + 0.007*\"one\" + 0.007*\"really\" + 0.007*\"know\" + 0.007*\"could\" + 0.006*\"see\" + 0.006*\"even\"\n",
      "2017-04-12 02:07:39,055 : INFO : topic #7 (0.100): 0.010*\"film\" + 0.007*\"one\" + 0.007*\"love\" + 0.006*\"story\" + 0.005*\"music\" + 0.004*\"novel\" + 0.004*\"version\" + 0.003*\"beautiful\" + 0.003*\"also\" + 0.003*\"time\"\n",
      "2017-04-12 02:07:39,056 : INFO : topic #1 (0.100): 0.010*\"one\" + 0.007*\"character\" + 0.007*\"film\" + 0.005*\"even\" + 0.005*\"script\" + 0.005*\"like\" + 0.005*\"cast\" + 0.004*\"actors\" + 0.004*\"good\" + 0.004*\"comedy\"\n",
      "2017-04-12 02:07:39,058 : INFO : topic diff=0.154455, rho=0.182574\n",
      "2017-04-12 02:07:39,512 : INFO : PROGRESS: pass 0, at document #62000/75000\n",
      "2017-04-12 02:07:42,741 : INFO : merging changes from 2000 documents into a model of 75000 documents\n",
      "2017-04-12 02:07:43,284 : INFO : topic #0 (0.100): 0.010*\"film\" + 0.005*\"one\" + 0.005*\"man\" + 0.005*\"life\" + 0.005*\"war\" + 0.004*\"young\" + 0.004*\"family\" + 0.003*\"also\" + 0.003*\"world\" + 0.003*\"men\"\n",
      "2017-04-12 02:07:43,286 : INFO : topic #3 (0.100): 0.005*\"film\" + 0.005*\"one\" + 0.004*\"davis\" + 0.003*\"good\" + 0.003*\"man\" + 0.003*\"great\" + 0.003*\"charlie\" + 0.003*\"people\" + 0.003*\"also\" + 0.002*\"story\"\n",
      "2017-04-12 02:07:43,288 : INFO : topic #7 (0.100): 0.010*\"film\" + 0.007*\"one\" + 0.007*\"love\" + 0.006*\"story\" + 0.005*\"music\" + 0.004*\"novel\" + 0.004*\"version\" + 0.003*\"also\" + 0.003*\"beautiful\" + 0.003*\"musical\"\n",
      "2017-04-12 02:07:43,289 : INFO : topic #8 (0.100): 0.013*\"show\" + 0.012*\"one\" + 0.010*\"great\" + 0.009*\"series\" + 0.008*\"like\" + 0.008*\"time\" + 0.007*\"first\" + 0.007*\"good\" + 0.007*\"would\" + 0.006*\"see\"\n",
      "2017-04-12 02:07:43,290 : INFO : topic #4 (0.100): 0.012*\"action\" + 0.008*\"film\" + 0.007*\"one\" + 0.004*\"police\" + 0.004*\"like\" + 0.003*\"two\" + 0.003*\"fight\" + 0.003*\"scene\" + 0.003*\"plot\" + 0.003*\"car\"\n",
      "2017-04-12 02:07:43,292 : INFO : topic diff=0.149088, rho=0.179605\n",
      "2017-04-12 02:07:43,709 : INFO : PROGRESS: pass 0, at document #64000/75000\n",
      "2017-04-12 02:07:46,670 : INFO : merging changes from 2000 documents into a model of 75000 documents\n",
      "2017-04-12 02:07:47,171 : INFO : topic #2 (0.100): 0.040*\"film\" + 0.010*\"one\" + 0.010*\"story\" + 0.007*\"films\" + 0.006*\"like\" + 0.006*\"characters\" + 0.006*\"see\" + 0.006*\"well\" + 0.006*\"good\" + 0.005*\"much\"\n",
      "2017-04-12 02:07:47,173 : INFO : topic #9 (0.100): 0.015*\"like\" + 0.009*\"get\" + 0.009*\"would\" + 0.008*\"people\" + 0.007*\"one\" + 0.007*\"know\" + 0.007*\"really\" + 0.007*\"could\" + 0.006*\"see\" + 0.006*\"time\"\n",
      "2017-04-12 02:07:47,174 : INFO : topic #8 (0.100): 0.013*\"show\" + 0.012*\"one\" + 0.010*\"great\" + 0.009*\"series\" + 0.008*\"like\" + 0.008*\"time\" + 0.007*\"first\" + 0.007*\"good\" + 0.007*\"would\" + 0.006*\"see\"\n",
      "2017-04-12 02:07:47,175 : INFO : topic #3 (0.100): 0.005*\"film\" + 0.005*\"one\" + 0.004*\"davis\" + 0.003*\"good\" + 0.003*\"man\" + 0.003*\"charlie\" + 0.003*\"great\" + 0.003*\"people\" + 0.003*\"also\" + 0.002*\"role\"\n",
      "2017-04-12 02:07:47,177 : INFO : topic #6 (0.100): 0.015*\"bad\" + 0.014*\"film\" + 0.013*\"one\" + 0.011*\"like\" + 0.010*\"good\" + 0.009*\"even\" + 0.008*\"movies\" + 0.007*\"really\" + 0.007*\"acting\" + 0.006*\"horror\"\n",
      "2017-04-12 02:07:47,178 : INFO : topic diff=0.142980, rho=0.176777\n",
      "2017-04-12 02:07:47,569 : INFO : PROGRESS: pass 0, at document #66000/75000\n",
      "2017-04-12 02:07:50,420 : INFO : merging changes from 2000 documents into a model of 75000 documents\n",
      "2017-04-12 02:07:50,906 : INFO : topic #9 (0.100): 0.015*\"like\" + 0.009*\"get\" + 0.009*\"would\" + 0.008*\"people\" + 0.008*\"one\" + 0.007*\"know\" + 0.007*\"really\" + 0.007*\"could\" + 0.006*\"see\" + 0.006*\"even\"\n",
      "2017-04-12 02:07:50,907 : INFO : topic #0 (0.100): 0.010*\"film\" + 0.005*\"one\" + 0.005*\"man\" + 0.005*\"life\" + 0.005*\"war\" + 0.005*\"young\" + 0.004*\"family\" + 0.003*\"also\" + 0.003*\"world\" + 0.003*\"men\"\n",
      "2017-04-12 02:07:50,909 : INFO : topic #3 (0.100): 0.005*\"film\" + 0.005*\"one\" + 0.004*\"davis\" + 0.003*\"charlie\" + 0.003*\"good\" + 0.003*\"man\" + 0.003*\"great\" + 0.003*\"people\" + 0.003*\"also\" + 0.002*\"world\"\n",
      "2017-04-12 02:07:50,910 : INFO : topic #6 (0.100): 0.015*\"film\" + 0.015*\"bad\" + 0.013*\"one\" + 0.011*\"like\" + 0.010*\"good\" + 0.009*\"even\" + 0.008*\"movies\" + 0.007*\"really\" + 0.007*\"acting\" + 0.006*\"would\"\n",
      "2017-04-12 02:07:50,912 : INFO : topic #4 (0.100): 0.011*\"action\" + 0.007*\"film\" + 0.007*\"one\" + 0.004*\"police\" + 0.003*\"like\" + 0.003*\"scene\" + 0.003*\"fight\" + 0.003*\"two\" + 0.003*\"also\" + 0.003*\"plot\"\n",
      "2017-04-12 02:07:50,914 : INFO : topic diff=0.135232, rho=0.174078\n",
      "2017-04-12 02:07:51,319 : INFO : PROGRESS: pass 0, at document #68000/75000\n",
      "2017-04-12 02:07:54,169 : INFO : merging changes from 2000 documents into a model of 75000 documents\n",
      "2017-04-12 02:07:54,645 : INFO : topic #7 (0.100): 0.009*\"film\" + 0.007*\"one\" + 0.006*\"love\" + 0.006*\"story\" + 0.005*\"music\" + 0.004*\"version\" + 0.004*\"novel\" + 0.004*\"beautiful\" + 0.003*\"also\" + 0.003*\"screen\"\n",
      "2017-04-12 02:07:54,646 : INFO : topic #1 (0.100): 0.009*\"one\" + 0.007*\"character\" + 0.007*\"film\" + 0.005*\"script\" + 0.005*\"cast\" + 0.005*\"even\" + 0.005*\"comedy\" + 0.005*\"like\" + 0.004*\"actors\" + 0.004*\"good\"\n",
      "2017-04-12 02:07:54,648 : INFO : topic #6 (0.100): 0.015*\"film\" + 0.015*\"bad\" + 0.013*\"one\" + 0.011*\"like\" + 0.010*\"good\" + 0.009*\"even\" + 0.008*\"movies\" + 0.007*\"really\" + 0.007*\"acting\" + 0.006*\"would\"\n",
      "2017-04-12 02:07:54,650 : INFO : topic #3 (0.100): 0.005*\"film\" + 0.005*\"one\" + 0.004*\"davis\" + 0.004*\"charlie\" + 0.003*\"good\" + 0.003*\"man\" + 0.003*\"great\" + 0.003*\"also\" + 0.002*\"people\" + 0.002*\"world\"\n",
      "2017-04-12 02:07:54,651 : INFO : topic #4 (0.100): 0.012*\"action\" + 0.007*\"film\" + 0.007*\"one\" + 0.004*\"police\" + 0.003*\"like\" + 0.003*\"two\" + 0.003*\"scene\" + 0.003*\"fight\" + 0.003*\"also\" + 0.003*\"plot\"\n",
      "2017-04-12 02:07:54,653 : INFO : topic diff=0.129621, rho=0.171499\n",
      "2017-04-12 02:07:55,073 : INFO : PROGRESS: pass 0, at document #70000/75000\n",
      "2017-04-12 02:07:58,001 : INFO : merging changes from 2000 documents into a model of 75000 documents\n",
      "2017-04-12 02:07:58,467 : INFO : topic #4 (0.100): 0.012*\"action\" + 0.008*\"film\" + 0.007*\"one\" + 0.004*\"police\" + 0.003*\"two\" + 0.003*\"like\" + 0.003*\"scene\" + 0.003*\"fight\" + 0.003*\"car\" + 0.003*\"also\"\n",
      "2017-04-12 02:07:58,468 : INFO : topic #5 (0.100): 0.008*\"one\" + 0.006*\"film\" + 0.005*\"man\" + 0.004*\"jack\" + 0.004*\"role\" + 0.004*\"john\" + 0.003*\"western\" + 0.003*\"plays\" + 0.003*\"dr\" + 0.003*\"great\"\n",
      "2017-04-12 02:07:58,469 : INFO : topic #9 (0.100): 0.015*\"like\" + 0.009*\"get\" + 0.009*\"would\" + 0.009*\"people\" + 0.008*\"one\" + 0.007*\"know\" + 0.007*\"really\" + 0.007*\"could\" + 0.006*\"see\" + 0.006*\"time\"\n",
      "2017-04-12 02:07:58,471 : INFO : topic #8 (0.100): 0.013*\"show\" + 0.012*\"one\" + 0.010*\"great\" + 0.009*\"series\" + 0.008*\"like\" + 0.007*\"first\" + 0.007*\"time\" + 0.007*\"good\" + 0.007*\"would\" + 0.006*\"see\"\n",
      "2017-04-12 02:07:58,473 : INFO : topic #3 (0.100): 0.005*\"film\" + 0.004*\"one\" + 0.004*\"davis\" + 0.003*\"charlie\" + 0.003*\"good\" + 0.003*\"man\" + 0.003*\"great\" + 0.003*\"moore\" + 0.003*\"also\" + 0.002*\"people\"\n",
      "2017-04-12 02:07:58,475 : INFO : topic diff=0.126968, rho=0.169031\n",
      "2017-04-12 02:07:58,892 : INFO : PROGRESS: pass 0, at document #72000/75000\n",
      "2017-04-12 02:08:01,793 : INFO : merging changes from 2000 documents into a model of 75000 documents\n",
      "2017-04-12 02:08:02,248 : INFO : topic #0 (0.100): 0.010*\"film\" + 0.005*\"one\" + 0.005*\"man\" + 0.005*\"war\" + 0.005*\"young\" + 0.005*\"life\" + 0.004*\"family\" + 0.003*\"also\" + 0.003*\"men\" + 0.003*\"world\"\n",
      "2017-04-12 02:08:02,249 : INFO : topic #5 (0.100): 0.008*\"one\" + 0.006*\"film\" + 0.005*\"man\" + 0.004*\"john\" + 0.004*\"role\" + 0.004*\"jack\" + 0.003*\"plays\" + 0.003*\"western\" + 0.003*\"dr\" + 0.003*\"great\"\n",
      "2017-04-12 02:08:02,251 : INFO : topic #3 (0.100): 0.005*\"film\" + 0.004*\"one\" + 0.004*\"davis\" + 0.003*\"charlie\" + 0.003*\"good\" + 0.003*\"man\" + 0.003*\"great\" + 0.003*\"bette\" + 0.003*\"moore\" + 0.003*\"also\"\n",
      "2017-04-12 02:08:02,252 : INFO : topic #1 (0.100): 0.009*\"one\" + 0.008*\"character\" + 0.007*\"film\" + 0.005*\"script\" + 0.005*\"cast\" + 0.005*\"comedy\" + 0.005*\"even\" + 0.004*\"like\" + 0.004*\"actors\" + 0.004*\"good\"\n",
      "2017-04-12 02:08:02,254 : INFO : topic #7 (0.100): 0.009*\"film\" + 0.007*\"one\" + 0.006*\"love\" + 0.006*\"story\" + 0.005*\"music\" + 0.004*\"novel\" + 0.004*\"version\" + 0.004*\"beautiful\" + 0.003*\"also\" + 0.003*\"musical\"\n",
      "2017-04-12 02:08:02,256 : INFO : topic diff=0.121572, rho=0.166667\n",
      "2017-04-12 02:08:02,696 : INFO : PROGRESS: pass 0, at document #74000/75000\n",
      "2017-04-12 02:08:05,624 : INFO : merging changes from 2000 documents into a model of 75000 documents\n",
      "2017-04-12 02:08:06,066 : INFO : topic #6 (0.100): 0.015*\"film\" + 0.015*\"bad\" + 0.013*\"one\" + 0.011*\"like\" + 0.010*\"good\" + 0.009*\"even\" + 0.007*\"acting\" + 0.007*\"movies\" + 0.007*\"really\" + 0.006*\"horror\"\n",
      "2017-04-12 02:08:06,068 : INFO : topic #1 (0.100): 0.009*\"one\" + 0.007*\"character\" + 0.007*\"film\" + 0.005*\"script\" + 0.005*\"comedy\" + 0.005*\"cast\" + 0.005*\"even\" + 0.004*\"like\" + 0.004*\"actors\" + 0.004*\"good\"\n",
      "2017-04-12 02:08:06,069 : INFO : topic #8 (0.100): 0.013*\"show\" + 0.012*\"one\" + 0.010*\"great\" + 0.008*\"like\" + 0.008*\"series\" + 0.007*\"time\" + 0.007*\"first\" + 0.007*\"good\" + 0.007*\"would\" + 0.006*\"see\"\n",
      "2017-04-12 02:08:06,072 : INFO : topic #0 (0.100): 0.010*\"film\" + 0.005*\"one\" + 0.005*\"man\" + 0.005*\"war\" + 0.005*\"young\" + 0.005*\"life\" + 0.004*\"family\" + 0.003*\"also\" + 0.003*\"men\" + 0.003*\"world\"\n",
      "2017-04-12 02:08:06,073 : INFO : topic #3 (0.100): 0.005*\"film\" + 0.004*\"davis\" + 0.004*\"one\" + 0.004*\"charlie\" + 0.003*\"good\" + 0.003*\"man\" + 0.003*\"bette\" + 0.003*\"great\" + 0.002*\"also\" + 0.002*\"world\"\n",
      "2017-04-12 02:08:06,075 : INFO : topic diff=0.117857, rho=0.164399\n",
      "2017-04-12 02:08:10,834 : INFO : -8.618 per-word bound, 393.0 perplexity estimate based on a held-out corpus of 1000 documents with 112974 words\n",
      "2017-04-12 02:08:10,835 : INFO : PROGRESS: pass 0, at document #75000/75000\n",
      "2017-04-12 02:08:12,282 : INFO : merging changes from 1000 documents into a model of 75000 documents\n",
      "2017-04-12 02:08:12,718 : INFO : topic #4 (0.100): 0.012*\"action\" + 0.007*\"film\" + 0.007*\"one\" + 0.004*\"police\" + 0.003*\"two\" + 0.003*\"scene\" + 0.003*\"fight\" + 0.003*\"like\" + 0.003*\"also\" + 0.003*\"plot\"\n",
      "2017-04-12 02:08:12,720 : INFO : topic #0 (0.100): 0.010*\"film\" + 0.005*\"one\" + 0.005*\"man\" + 0.005*\"war\" + 0.005*\"young\" + 0.005*\"life\" + 0.004*\"family\" + 0.003*\"also\" + 0.003*\"world\" + 0.003*\"men\"\n",
      "2017-04-12 02:08:12,721 : INFO : topic #2 (0.100): 0.041*\"film\" + 0.010*\"one\" + 0.010*\"story\" + 0.007*\"films\" + 0.006*\"characters\" + 0.006*\"like\" + 0.006*\"well\" + 0.006*\"good\" + 0.006*\"see\" + 0.005*\"much\"\n",
      "2017-04-12 02:08:12,723 : INFO : topic #6 (0.100): 0.015*\"film\" + 0.014*\"bad\" + 0.013*\"one\" + 0.011*\"like\" + 0.010*\"good\" + 0.009*\"even\" + 0.008*\"really\" + 0.008*\"movies\" + 0.007*\"acting\" + 0.006*\"horror\"\n",
      "2017-04-12 02:08:12,724 : INFO : topic #9 (0.100): 0.015*\"like\" + 0.010*\"get\" + 0.010*\"would\" + 0.009*\"people\" + 0.008*\"one\" + 0.007*\"know\" + 0.007*\"really\" + 0.007*\"could\" + 0.006*\"see\" + 0.006*\"even\"\n",
      "2017-04-12 02:08:12,726 : INFO : topic diff=0.111885, rho=0.162221\n",
      "2017-04-12 02:08:13,129 : INFO : PROGRESS: pass 1, at document #2000/75000\n",
      "2017-04-12 02:08:15,932 : INFO : merging changes from 2000 documents into a model of 75000 documents\n",
      "2017-04-12 02:08:16,360 : INFO : topic #8 (0.100): 0.013*\"show\" + 0.012*\"one\" + 0.010*\"great\" + 0.008*\"like\" + 0.008*\"series\" + 0.007*\"good\" + 0.007*\"time\" + 0.007*\"first\" + 0.007*\"would\" + 0.006*\"see\"\n",
      "2017-04-12 02:08:16,362 : INFO : topic #3 (0.100): 0.005*\"film\" + 0.004*\"one\" + 0.004*\"davis\" + 0.003*\"charlie\" + 0.003*\"good\" + 0.003*\"man\" + 0.003*\"great\" + 0.003*\"world\" + 0.003*\"bette\" + 0.003*\"david\"\n",
      "2017-04-12 02:08:16,363 : INFO : topic #0 (0.100): 0.010*\"film\" + 0.005*\"one\" + 0.005*\"man\" + 0.005*\"war\" + 0.005*\"life\" + 0.005*\"young\" + 0.004*\"family\" + 0.003*\"also\" + 0.003*\"men\" + 0.003*\"world\"\n",
      "2017-04-12 02:08:16,365 : INFO : topic #9 (0.100): 0.015*\"like\" + 0.010*\"get\" + 0.010*\"would\" + 0.009*\"people\" + 0.008*\"one\" + 0.007*\"really\" + 0.007*\"know\" + 0.007*\"could\" + 0.006*\"see\" + 0.006*\"even\"\n",
      "2017-04-12 02:08:16,366 : INFO : topic #1 (0.100): 0.009*\"one\" + 0.007*\"character\" + 0.007*\"film\" + 0.005*\"cast\" + 0.005*\"script\" + 0.005*\"comedy\" + 0.005*\"even\" + 0.004*\"like\" + 0.004*\"actors\" + 0.004*\"good\"\n",
      "2017-04-12 02:08:16,368 : INFO : topic diff=0.128154, rho=0.159111\n",
      "2017-04-12 02:08:16,815 : INFO : PROGRESS: pass 1, at document #4000/75000\n",
      "2017-04-12 02:08:19,996 : INFO : merging changes from 2000 documents into a model of 75000 documents\n",
      "2017-04-12 02:08:20,412 : INFO : topic #6 (0.100): 0.015*\"film\" + 0.014*\"bad\" + 0.013*\"one\" + 0.011*\"like\" + 0.010*\"good\" + 0.009*\"even\" + 0.008*\"really\" + 0.008*\"movies\" + 0.007*\"acting\" + 0.007*\"horror\"\n",
      "2017-04-12 02:08:20,414 : INFO : topic #3 (0.100): 0.005*\"film\" + 0.004*\"one\" + 0.004*\"charlie\" + 0.004*\"davis\" + 0.003*\"good\" + 0.003*\"man\" + 0.003*\"great\" + 0.003*\"david\" + 0.003*\"world\" + 0.002*\"people\"\n",
      "2017-04-12 02:08:20,416 : INFO : topic #1 (0.100): 0.009*\"one\" + 0.008*\"character\" + 0.007*\"film\" + 0.005*\"script\" + 0.005*\"cast\" + 0.005*\"comedy\" + 0.005*\"even\" + 0.004*\"like\" + 0.004*\"actors\" + 0.004*\"good\"\n",
      "2017-04-12 02:08:20,418 : INFO : topic #0 (0.100): 0.010*\"film\" + 0.005*\"one\" + 0.005*\"man\" + 0.005*\"war\" + 0.005*\"young\" + 0.005*\"life\" + 0.004*\"family\" + 0.003*\"also\" + 0.003*\"men\" + 0.003*\"world\"\n",
      "2017-04-12 02:08:20,420 : INFO : topic #5 (0.100): 0.008*\"one\" + 0.006*\"film\" + 0.005*\"man\" + 0.004*\"john\" + 0.004*\"role\" + 0.004*\"jack\" + 0.003*\"western\" + 0.003*\"plays\" + 0.003*\"dr\" + 0.003*\"great\"\n",
      "2017-04-12 02:08:20,422 : INFO : topic diff=0.122586, rho=0.159111\n",
      "2017-04-12 02:08:21,921 : INFO : PROGRESS: pass 1, at document #6000/75000\n",
      "2017-04-12 02:08:25,008 : INFO : merging changes from 2000 documents into a model of 75000 documents\n",
      "2017-04-12 02:08:25,442 : INFO : topic #9 (0.100): 0.015*\"like\" + 0.010*\"get\" + 0.010*\"would\" + 0.009*\"people\" + 0.008*\"one\" + 0.007*\"really\" + 0.007*\"know\" + 0.007*\"could\" + 0.006*\"see\" + 0.006*\"even\"\n",
      "2017-04-12 02:08:25,443 : INFO : topic #6 (0.100): 0.015*\"film\" + 0.014*\"bad\" + 0.013*\"one\" + 0.011*\"like\" + 0.010*\"good\" + 0.009*\"even\" + 0.008*\"really\" + 0.008*\"movies\" + 0.007*\"acting\" + 0.007*\"horror\"\n",
      "2017-04-12 02:08:25,445 : INFO : topic #4 (0.100): 0.012*\"action\" + 0.007*\"film\" + 0.007*\"one\" + 0.004*\"police\" + 0.003*\"two\" + 0.003*\"fight\" + 0.003*\"car\" + 0.003*\"lee\" + 0.003*\"scene\" + 0.003*\"also\"\n",
      "2017-04-12 02:08:25,447 : INFO : topic #8 (0.100): 0.013*\"show\" + 0.012*\"one\" + 0.010*\"great\" + 0.008*\"like\" + 0.008*\"series\" + 0.008*\"good\" + 0.007*\"time\" + 0.007*\"first\" + 0.007*\"would\" + 0.006*\"see\"\n",
      "2017-04-12 02:08:25,448 : INFO : topic #1 (0.100): 0.009*\"one\" + 0.008*\"character\" + 0.007*\"film\" + 0.005*\"script\" + 0.005*\"comedy\" + 0.005*\"cast\" + 0.005*\"even\" + 0.004*\"like\" + 0.004*\"good\" + 0.004*\"actors\"\n",
      "2017-04-12 02:08:25,450 : INFO : topic diff=0.110284, rho=0.159111\n",
      "2017-04-12 02:08:25,868 : INFO : PROGRESS: pass 1, at document #8000/75000\n",
      "2017-04-12 02:08:28,844 : INFO : merging changes from 2000 documents into a model of 75000 documents\n",
      "2017-04-12 02:08:29,244 : INFO : topic #0 (0.100): 0.010*\"film\" + 0.005*\"one\" + 0.005*\"man\" + 0.005*\"war\" + 0.005*\"young\" + 0.005*\"life\" + 0.004*\"family\" + 0.003*\"also\" + 0.003*\"world\" + 0.003*\"men\"\n",
      "2017-04-12 02:08:29,246 : INFO : topic #4 (0.100): 0.012*\"action\" + 0.007*\"film\" + 0.007*\"one\" + 0.004*\"police\" + 0.003*\"lee\" + 0.003*\"fight\" + 0.003*\"car\" + 0.003*\"two\" + 0.003*\"scene\" + 0.003*\"also\"\n",
      "2017-04-12 02:08:29,248 : INFO : topic #5 (0.100): 0.008*\"one\" + 0.006*\"film\" + 0.005*\"man\" + 0.004*\"john\" + 0.004*\"jack\" + 0.004*\"role\" + 0.003*\"plays\" + 0.003*\"western\" + 0.003*\"dr\" + 0.003*\"also\"\n",
      "2017-04-12 02:08:29,250 : INFO : topic #8 (0.100): 0.013*\"show\" + 0.012*\"one\" + 0.010*\"great\" + 0.009*\"like\" + 0.008*\"series\" + 0.007*\"good\" + 0.007*\"time\" + 0.007*\"first\" + 0.007*\"would\" + 0.006*\"see\"\n",
      "2017-04-12 02:08:29,253 : INFO : topic #6 (0.100): 0.016*\"film\" + 0.014*\"bad\" + 0.012*\"one\" + 0.011*\"like\" + 0.010*\"good\" + 0.009*\"even\" + 0.008*\"really\" + 0.007*\"movies\" + 0.007*\"acting\" + 0.007*\"horror\"\n",
      "2017-04-12 02:08:29,255 : INFO : topic diff=0.104806, rho=0.159111\n",
      "2017-04-12 02:08:29,725 : INFO : PROGRESS: pass 1, at document #10000/75000\n",
      "2017-04-12 02:08:32,638 : INFO : merging changes from 2000 documents into a model of 75000 documents\n",
      "2017-04-12 02:08:33,045 : INFO : topic #7 (0.100): 0.009*\"film\" + 0.007*\"one\" + 0.007*\"love\" + 0.006*\"story\" + 0.005*\"music\" + 0.004*\"version\" + 0.004*\"beautiful\" + 0.004*\"novel\" + 0.003*\"also\" + 0.003*\"musical\"\n",
      "2017-04-12 02:08:33,047 : INFO : topic #8 (0.100): 0.013*\"show\" + 0.012*\"one\" + 0.010*\"great\" + 0.009*\"like\" + 0.008*\"series\" + 0.008*\"time\" + 0.007*\"good\" + 0.007*\"first\" + 0.007*\"would\" + 0.006*\"see\"\n",
      "2017-04-12 02:08:33,049 : INFO : topic #1 (0.100): 0.009*\"one\" + 0.008*\"character\" + 0.007*\"film\" + 0.005*\"comedy\" + 0.005*\"even\" + 0.005*\"script\" + 0.005*\"cast\" + 0.004*\"like\" + 0.004*\"actors\" + 0.004*\"good\"\n",
      "2017-04-12 02:08:33,050 : INFO : topic #2 (0.100): 0.041*\"film\" + 0.010*\"one\" + 0.010*\"story\" + 0.007*\"films\" + 0.006*\"characters\" + 0.006*\"like\" + 0.006*\"good\" + 0.006*\"well\" + 0.006*\"see\" + 0.005*\"really\"\n",
      "2017-04-12 02:08:33,052 : INFO : topic #0 (0.100): 0.010*\"film\" + 0.005*\"one\" + 0.005*\"man\" + 0.005*\"young\" + 0.005*\"life\" + 0.005*\"war\" + 0.004*\"family\" + 0.003*\"also\" + 0.003*\"world\" + 0.003*\"men\"\n",
      "2017-04-12 02:08:33,054 : INFO : topic diff=0.098195, rho=0.159111\n",
      "2017-04-12 02:08:33,460 : INFO : PROGRESS: pass 1, at document #12000/75000\n",
      "2017-04-12 02:08:36,354 : INFO : merging changes from 2000 documents into a model of 75000 documents\n",
      "2017-04-12 02:08:36,737 : INFO : topic #6 (0.100): 0.016*\"film\" + 0.015*\"bad\" + 0.013*\"one\" + 0.011*\"like\" + 0.010*\"good\" + 0.009*\"even\" + 0.008*\"acting\" + 0.008*\"really\" + 0.007*\"movies\" + 0.006*\"horror\"\n",
      "2017-04-12 02:08:36,739 : INFO : topic #7 (0.100): 0.009*\"film\" + 0.007*\"one\" + 0.007*\"love\" + 0.006*\"story\" + 0.005*\"music\" + 0.004*\"version\" + 0.004*\"novel\" + 0.004*\"beautiful\" + 0.004*\"musical\" + 0.003*\"also\"\n",
      "2017-04-12 02:08:36,741 : INFO : topic #8 (0.100): 0.013*\"show\" + 0.012*\"one\" + 0.010*\"great\" + 0.008*\"like\" + 0.008*\"series\" + 0.008*\"time\" + 0.007*\"good\" + 0.007*\"first\" + 0.007*\"would\" + 0.006*\"see\"\n",
      "2017-04-12 02:08:36,742 : INFO : topic #1 (0.100): 0.009*\"one\" + 0.008*\"character\" + 0.007*\"film\" + 0.005*\"cast\" + 0.005*\"even\" + 0.005*\"script\" + 0.005*\"comedy\" + 0.004*\"like\" + 0.004*\"actors\" + 0.004*\"good\"\n",
      "2017-04-12 02:08:36,744 : INFO : topic #0 (0.100): 0.009*\"film\" + 0.005*\"one\" + 0.005*\"man\" + 0.005*\"life\" + 0.005*\"war\" + 0.005*\"young\" + 0.004*\"family\" + 0.003*\"also\" + 0.003*\"world\" + 0.003*\"men\"\n",
      "2017-04-12 02:08:36,745 : INFO : topic diff=0.095723, rho=0.159111\n",
      "2017-04-12 02:08:37,147 : INFO : PROGRESS: pass 1, at document #14000/75000\n",
      "2017-04-12 02:08:39,974 : INFO : merging changes from 2000 documents into a model of 75000 documents\n",
      "2017-04-12 02:08:40,347 : INFO : topic #9 (0.100): 0.015*\"like\" + 0.010*\"get\" + 0.010*\"would\" + 0.009*\"people\" + 0.008*\"one\" + 0.007*\"really\" + 0.007*\"know\" + 0.007*\"could\" + 0.006*\"see\" + 0.006*\"even\"\n",
      "2017-04-12 02:08:40,348 : INFO : topic #2 (0.100): 0.040*\"film\" + 0.010*\"one\" + 0.010*\"story\" + 0.007*\"films\" + 0.006*\"characters\" + 0.006*\"like\" + 0.006*\"good\" + 0.006*\"well\" + 0.006*\"see\" + 0.005*\"really\"\n",
      "2017-04-12 02:08:40,349 : INFO : topic #7 (0.100): 0.009*\"film\" + 0.007*\"one\" + 0.007*\"love\" + 0.006*\"story\" + 0.005*\"music\" + 0.004*\"version\" + 0.004*\"novel\" + 0.004*\"beautiful\" + 0.004*\"musical\" + 0.003*\"also\"\n",
      "2017-04-12 02:08:40,351 : INFO : topic #0 (0.100): 0.009*\"film\" + 0.005*\"one\" + 0.005*\"man\" + 0.005*\"young\" + 0.005*\"war\" + 0.005*\"life\" + 0.004*\"family\" + 0.003*\"also\" + 0.003*\"men\" + 0.003*\"world\"\n",
      "2017-04-12 02:08:40,352 : INFO : topic #1 (0.100): 0.009*\"one\" + 0.008*\"character\" + 0.007*\"film\" + 0.006*\"cast\" + 0.005*\"comedy\" + 0.005*\"even\" + 0.005*\"script\" + 0.004*\"actors\" + 0.004*\"like\" + 0.004*\"good\"\n",
      "2017-04-12 02:08:40,354 : INFO : topic diff=0.094023, rho=0.159111\n",
      "2017-04-12 02:08:40,751 : INFO : PROGRESS: pass 1, at document #16000/75000\n",
      "2017-04-12 02:08:43,524 : INFO : merging changes from 2000 documents into a model of 75000 documents\n",
      "2017-04-12 02:08:43,896 : INFO : topic #9 (0.100): 0.015*\"like\" + 0.010*\"get\" + 0.010*\"would\" + 0.009*\"people\" + 0.008*\"one\" + 0.007*\"really\" + 0.007*\"know\" + 0.007*\"could\" + 0.006*\"see\" + 0.006*\"even\"\n",
      "2017-04-12 02:08:43,898 : INFO : topic #2 (0.100): 0.040*\"film\" + 0.010*\"one\" + 0.010*\"story\" + 0.007*\"films\" + 0.006*\"like\" + 0.006*\"characters\" + 0.006*\"good\" + 0.006*\"well\" + 0.006*\"see\" + 0.006*\"really\"\n",
      "2017-04-12 02:08:43,899 : INFO : topic #4 (0.100): 0.011*\"action\" + 0.007*\"film\" + 0.007*\"one\" + 0.004*\"police\" + 0.004*\"fight\" + 0.003*\"lee\" + 0.003*\"car\" + 0.003*\"plot\" + 0.003*\"also\" + 0.003*\"scenes\"\n",
      "2017-04-12 02:08:43,901 : INFO : topic #3 (0.100): 0.004*\"film\" + 0.004*\"one\" + 0.004*\"charlie\" + 0.003*\"man\" + 0.003*\"davis\" + 0.003*\"good\" + 0.003*\"david\" + 0.003*\"great\" + 0.003*\"alan\" + 0.002*\"world\"\n",
      "2017-04-12 02:08:43,903 : INFO : topic #0 (0.100): 0.009*\"film\" + 0.005*\"man\" + 0.005*\"one\" + 0.005*\"war\" + 0.005*\"life\" + 0.005*\"young\" + 0.004*\"family\" + 0.003*\"world\" + 0.003*\"also\" + 0.003*\"men\"\n",
      "2017-04-12 02:08:43,905 : INFO : topic diff=0.087017, rho=0.159111\n",
      "2017-04-12 02:08:44,401 : INFO : PROGRESS: pass 1, at document #18000/75000\n",
      "2017-04-12 02:08:47,324 : INFO : merging changes from 2000 documents into a model of 75000 documents\n",
      "2017-04-12 02:08:47,723 : INFO : topic #4 (0.100): 0.011*\"action\" + 0.007*\"film\" + 0.007*\"one\" + 0.004*\"police\" + 0.004*\"fight\" + 0.003*\"car\" + 0.003*\"lee\" + 0.003*\"plot\" + 0.003*\"also\" + 0.003*\"scene\"\n",
      "2017-04-12 02:08:47,726 : INFO : topic #8 (0.100): 0.014*\"show\" + 0.012*\"one\" + 0.010*\"great\" + 0.009*\"series\" + 0.008*\"like\" + 0.008*\"good\" + 0.008*\"time\" + 0.007*\"first\" + 0.007*\"would\" + 0.006*\"see\"\n",
      "2017-04-12 02:08:47,728 : INFO : topic #3 (0.100): 0.004*\"film\" + 0.004*\"one\" + 0.004*\"charlie\" + 0.004*\"davis\" + 0.003*\"man\" + 0.003*\"good\" + 0.003*\"david\" + 0.003*\"great\" + 0.003*\"washington\" + 0.003*\"alan\"\n",
      "2017-04-12 02:08:47,729 : INFO : topic #5 (0.100): 0.008*\"one\" + 0.006*\"film\" + 0.005*\"man\" + 0.004*\"jack\" + 0.004*\"john\" + 0.004*\"role\" + 0.003*\"plays\" + 0.003*\"dr\" + 0.003*\"also\" + 0.003*\"western\"\n",
      "2017-04-12 02:08:47,731 : INFO : topic #0 (0.100): 0.009*\"film\" + 0.005*\"man\" + 0.005*\"one\" + 0.005*\"life\" + 0.005*\"young\" + 0.005*\"war\" + 0.004*\"family\" + 0.003*\"world\" + 0.003*\"also\" + 0.003*\"father\"\n",
      "2017-04-12 02:08:47,733 : INFO : topic diff=0.086298, rho=0.159111\n",
      "2017-04-12 02:08:57,039 : INFO : -8.562 per-word bound, 377.9 perplexity estimate based on a held-out corpus of 2000 documents with 221882 words\n",
      "2017-04-12 02:08:57,040 : INFO : PROGRESS: pass 1, at document #20000/75000\n",
      "2017-04-12 02:08:59,811 : INFO : merging changes from 2000 documents into a model of 75000 documents\n",
      "2017-04-12 02:09:00,168 : INFO : topic #1 (0.100): 0.008*\"one\" + 0.008*\"character\" + 0.007*\"film\" + 0.006*\"cast\" + 0.005*\"comedy\" + 0.005*\"even\" + 0.005*\"script\" + 0.004*\"actors\" + 0.004*\"role\" + 0.004*\"like\"\n",
      "2017-04-12 02:09:00,169 : INFO : topic #4 (0.100): 0.011*\"action\" + 0.007*\"film\" + 0.007*\"one\" + 0.004*\"police\" + 0.004*\"fight\" + 0.003*\"car\" + 0.003*\"lee\" + 0.003*\"also\" + 0.003*\"plot\" + 0.003*\"scene\"\n",
      "2017-04-12 02:09:00,170 : INFO : topic #6 (0.100): 0.016*\"film\" + 0.015*\"bad\" + 0.013*\"one\" + 0.011*\"like\" + 0.010*\"good\" + 0.009*\"even\" + 0.008*\"acting\" + 0.008*\"really\" + 0.007*\"movies\" + 0.006*\"horror\"\n",
      "2017-04-12 02:09:00,172 : INFO : topic #0 (0.100): 0.009*\"film\" + 0.005*\"man\" + 0.005*\"one\" + 0.005*\"life\" + 0.005*\"young\" + 0.005*\"war\" + 0.004*\"family\" + 0.003*\"world\" + 0.003*\"father\" + 0.003*\"also\"\n",
      "2017-04-12 02:09:00,173 : INFO : topic #3 (0.100): 0.004*\"film\" + 0.004*\"davis\" + 0.004*\"one\" + 0.004*\"man\" + 0.003*\"charlie\" + 0.003*\"good\" + 0.003*\"great\" + 0.003*\"david\" + 0.003*\"washington\" + 0.002*\"role\"\n",
      "2017-04-12 02:09:00,175 : INFO : topic diff=0.082151, rho=0.159111\n",
      "2017-04-12 02:09:00,606 : INFO : PROGRESS: pass 1, at document #22000/75000\n",
      "2017-04-12 02:09:03,569 : INFO : merging changes from 2000 documents into a model of 75000 documents\n",
      "2017-04-12 02:09:03,926 : INFO : topic #8 (0.100): 0.014*\"show\" + 0.012*\"one\" + 0.010*\"great\" + 0.009*\"series\" + 0.009*\"like\" + 0.008*\"good\" + 0.008*\"time\" + 0.007*\"first\" + 0.007*\"would\" + 0.006*\"see\"\n",
      "2017-04-12 02:09:03,928 : INFO : topic #2 (0.100): 0.039*\"film\" + 0.010*\"story\" + 0.010*\"one\" + 0.007*\"films\" + 0.006*\"like\" + 0.006*\"characters\" + 0.006*\"well\" + 0.006*\"good\" + 0.006*\"much\" + 0.006*\"see\"\n",
      "2017-04-12 02:09:03,930 : INFO : topic #7 (0.100): 0.009*\"film\" + 0.007*\"love\" + 0.007*\"one\" + 0.006*\"story\" + 0.005*\"music\" + 0.005*\"version\" + 0.004*\"novel\" + 0.004*\"musical\" + 0.004*\"beautiful\" + 0.003*\"best\"\n",
      "2017-04-12 02:09:03,931 : INFO : topic #9 (0.100): 0.015*\"like\" + 0.010*\"get\" + 0.010*\"would\" + 0.009*\"people\" + 0.008*\"one\" + 0.007*\"know\" + 0.007*\"really\" + 0.007*\"could\" + 0.007*\"see\" + 0.006*\"even\"\n",
      "2017-04-12 02:09:03,933 : INFO : topic #4 (0.100): 0.011*\"action\" + 0.007*\"film\" + 0.007*\"one\" + 0.004*\"police\" + 0.004*\"fight\" + 0.003*\"plot\" + 0.003*\"lee\" + 0.003*\"also\" + 0.003*\"good\" + 0.003*\"scene\"\n",
      "2017-04-12 02:09:03,935 : INFO : topic diff=0.085352, rho=0.159111\n",
      "2017-04-12 02:09:04,326 : INFO : PROGRESS: pass 1, at document #24000/75000\n",
      "2017-04-12 02:09:07,095 : INFO : merging changes from 2000 documents into a model of 75000 documents\n",
      "2017-04-12 02:09:07,444 : INFO : topic #7 (0.100): 0.009*\"film\" + 0.007*\"one\" + 0.007*\"love\" + 0.006*\"story\" + 0.005*\"music\" + 0.005*\"version\" + 0.004*\"novel\" + 0.004*\"musical\" + 0.004*\"beautiful\" + 0.003*\"best\"\n",
      "2017-04-12 02:09:07,446 : INFO : topic #4 (0.100): 0.011*\"action\" + 0.007*\"film\" + 0.007*\"one\" + 0.004*\"police\" + 0.004*\"fight\" + 0.003*\"also\" + 0.003*\"plot\" + 0.003*\"good\" + 0.003*\"scene\" + 0.003*\"killer\"\n",
      "2017-04-12 02:09:07,447 : INFO : topic #8 (0.100): 0.013*\"show\" + 0.012*\"one\" + 0.010*\"great\" + 0.009*\"series\" + 0.009*\"like\" + 0.008*\"good\" + 0.008*\"time\" + 0.007*\"first\" + 0.007*\"would\" + 0.007*\"see\"\n",
      "2017-04-12 02:09:07,449 : INFO : topic #9 (0.100): 0.015*\"like\" + 0.010*\"get\" + 0.010*\"would\" + 0.009*\"people\" + 0.008*\"one\" + 0.007*\"really\" + 0.007*\"know\" + 0.007*\"could\" + 0.006*\"see\" + 0.006*\"even\"\n",
      "2017-04-12 02:09:07,451 : INFO : topic #0 (0.100): 0.009*\"film\" + 0.005*\"man\" + 0.005*\"one\" + 0.005*\"life\" + 0.005*\"young\" + 0.005*\"war\" + 0.004*\"family\" + 0.003*\"father\" + 0.003*\"world\" + 0.003*\"also\"\n",
      "2017-04-12 02:09:07,453 : INFO : topic diff=0.078336, rho=0.159111\n",
      "2017-04-12 02:09:07,924 : INFO : PROGRESS: pass 1, at document #26000/75000\n",
      "2017-04-12 02:09:10,700 : INFO : merging changes from 2000 documents into a model of 75000 documents\n",
      "2017-04-12 02:09:11,028 : INFO : topic #0 (0.100): 0.009*\"film\" + 0.005*\"man\" + 0.005*\"one\" + 0.005*\"life\" + 0.005*\"young\" + 0.005*\"war\" + 0.004*\"family\" + 0.003*\"father\" + 0.003*\"world\" + 0.003*\"also\"\n",
      "2017-04-12 02:09:11,030 : INFO : topic #3 (0.100): 0.004*\"davis\" + 0.004*\"charlie\" + 0.004*\"film\" + 0.004*\"one\" + 0.004*\"man\" + 0.003*\"good\" + 0.003*\"david\" + 0.003*\"great\" + 0.003*\"role\" + 0.002*\"washington\"\n",
      "2017-04-12 02:09:11,032 : INFO : topic #6 (0.100): 0.016*\"film\" + 0.015*\"bad\" + 0.013*\"one\" + 0.011*\"like\" + 0.010*\"good\" + 0.009*\"even\" + 0.008*\"acting\" + 0.007*\"movies\" + 0.007*\"really\" + 0.006*\"horror\"\n",
      "2017-04-12 02:09:11,035 : INFO : topic #9 (0.100): 0.015*\"like\" + 0.010*\"get\" + 0.010*\"would\" + 0.009*\"people\" + 0.008*\"one\" + 0.007*\"know\" + 0.007*\"really\" + 0.007*\"could\" + 0.007*\"see\" + 0.006*\"even\"\n",
      "2017-04-12 02:09:11,036 : INFO : topic #2 (0.100): 0.039*\"film\" + 0.010*\"story\" + 0.010*\"one\" + 0.006*\"films\" + 0.006*\"like\" + 0.006*\"characters\" + 0.006*\"well\" + 0.006*\"good\" + 0.006*\"see\" + 0.006*\"much\"\n",
      "2017-04-12 02:09:11,038 : INFO : topic diff=0.079573, rho=0.159111\n",
      "2017-04-12 02:09:11,440 : INFO : PROGRESS: pass 1, at document #28000/75000\n",
      "2017-04-12 02:09:14,427 : INFO : merging changes from 2000 documents into a model of 75000 documents\n",
      "2017-04-12 02:09:14,745 : INFO : topic #4 (0.100): 0.011*\"action\" + 0.007*\"film\" + 0.007*\"one\" + 0.004*\"police\" + 0.004*\"fight\" + 0.003*\"also\" + 0.003*\"plot\" + 0.003*\"killer\" + 0.003*\"good\" + 0.003*\"scene\"\n",
      "2017-04-12 02:09:14,746 : INFO : topic #5 (0.100): 0.008*\"one\" + 0.006*\"film\" + 0.005*\"man\" + 0.004*\"john\" + 0.004*\"role\" + 0.004*\"jack\" + 0.003*\"plays\" + 0.003*\"also\" + 0.003*\"dr\" + 0.003*\"western\"\n",
      "2017-04-12 02:09:14,752 : INFO : topic #6 (0.100): 0.016*\"film\" + 0.015*\"bad\" + 0.013*\"one\" + 0.011*\"like\" + 0.010*\"good\" + 0.009*\"even\" + 0.008*\"acting\" + 0.007*\"movies\" + 0.007*\"really\" + 0.006*\"horror\"\n",
      "2017-04-12 02:09:14,753 : INFO : topic #9 (0.100): 0.015*\"like\" + 0.010*\"get\" + 0.010*\"would\" + 0.009*\"people\" + 0.008*\"one\" + 0.007*\"know\" + 0.007*\"really\" + 0.007*\"see\" + 0.007*\"could\" + 0.006*\"even\"\n",
      "2017-04-12 02:09:14,754 : INFO : topic #7 (0.100): 0.009*\"film\" + 0.007*\"one\" + 0.007*\"love\" + 0.006*\"story\" + 0.005*\"music\" + 0.005*\"version\" + 0.004*\"novel\" + 0.004*\"musical\" + 0.004*\"beautiful\" + 0.004*\"book\"\n",
      "2017-04-12 02:09:14,755 : INFO : topic diff=0.085595, rho=0.159111\n",
      "2017-04-12 02:09:15,140 : INFO : PROGRESS: pass 1, at document #30000/75000\n",
      "2017-04-12 02:09:18,100 : INFO : merging changes from 2000 documents into a model of 75000 documents\n",
      "2017-04-12 02:09:18,411 : INFO : topic #8 (0.100): 0.014*\"show\" + 0.012*\"one\" + 0.010*\"great\" + 0.009*\"series\" + 0.009*\"like\" + 0.008*\"good\" + 0.008*\"first\" + 0.008*\"time\" + 0.007*\"would\" + 0.007*\"see\"\n",
      "2017-04-12 02:09:18,413 : INFO : topic #5 (0.100): 0.008*\"one\" + 0.006*\"film\" + 0.005*\"man\" + 0.004*\"john\" + 0.004*\"jack\" + 0.004*\"role\" + 0.003*\"plays\" + 0.003*\"dr\" + 0.003*\"also\" + 0.003*\"western\"\n",
      "2017-04-12 02:09:18,415 : INFO : topic #4 (0.100): 0.011*\"action\" + 0.007*\"film\" + 0.007*\"one\" + 0.004*\"police\" + 0.004*\"fight\" + 0.003*\"also\" + 0.003*\"plot\" + 0.003*\"killer\" + 0.003*\"good\" + 0.003*\"scene\"\n",
      "2017-04-12 02:09:18,416 : INFO : topic #0 (0.100): 0.009*\"film\" + 0.005*\"man\" + 0.005*\"one\" + 0.005*\"young\" + 0.005*\"life\" + 0.005*\"war\" + 0.004*\"family\" + 0.003*\"world\" + 0.003*\"also\" + 0.003*\"father\"\n",
      "2017-04-12 02:09:18,417 : INFO : topic #9 (0.100): 0.014*\"like\" + 0.010*\"get\" + 0.010*\"would\" + 0.009*\"people\" + 0.008*\"one\" + 0.007*\"know\" + 0.007*\"see\" + 0.007*\"could\" + 0.007*\"really\" + 0.006*\"even\"\n",
      "2017-04-12 02:09:18,420 : INFO : topic diff=0.079223, rho=0.159111\n",
      "2017-04-12 02:09:18,863 : INFO : PROGRESS: pass 1, at document #32000/75000\n",
      "2017-04-12 02:09:21,834 : INFO : merging changes from 2000 documents into a model of 75000 documents\n",
      "2017-04-12 02:09:22,150 : INFO : topic #4 (0.100): 0.012*\"action\" + 0.007*\"film\" + 0.007*\"one\" + 0.004*\"police\" + 0.004*\"fight\" + 0.003*\"plot\" + 0.003*\"also\" + 0.003*\"good\" + 0.003*\"scene\" + 0.003*\"two\"\n",
      "2017-04-12 02:09:22,152 : INFO : topic #8 (0.100): 0.013*\"show\" + 0.012*\"one\" + 0.010*\"great\" + 0.009*\"series\" + 0.009*\"like\" + 0.008*\"good\" + 0.008*\"first\" + 0.008*\"time\" + 0.007*\"would\" + 0.007*\"see\"\n",
      "2017-04-12 02:09:22,153 : INFO : topic #9 (0.100): 0.015*\"like\" + 0.010*\"get\" + 0.010*\"would\" + 0.009*\"people\" + 0.008*\"one\" + 0.007*\"know\" + 0.007*\"could\" + 0.007*\"really\" + 0.007*\"see\" + 0.006*\"even\"\n",
      "2017-04-12 02:09:22,155 : INFO : topic #1 (0.100): 0.009*\"one\" + 0.008*\"character\" + 0.007*\"film\" + 0.006*\"comedy\" + 0.006*\"cast\" + 0.005*\"script\" + 0.005*\"even\" + 0.004*\"actors\" + 0.004*\"actor\" + 0.004*\"role\"\n",
      "2017-04-12 02:09:22,156 : INFO : topic #0 (0.100): 0.009*\"film\" + 0.005*\"one\" + 0.005*\"man\" + 0.005*\"young\" + 0.005*\"life\" + 0.005*\"war\" + 0.004*\"family\" + 0.004*\"world\" + 0.003*\"father\" + 0.003*\"also\"\n",
      "2017-04-12 02:09:22,158 : INFO : topic diff=0.078475, rho=0.159111\n",
      "2017-04-12 02:09:22,576 : INFO : PROGRESS: pass 1, at document #34000/75000\n",
      "2017-04-12 02:09:25,522 : INFO : merging changes from 2000 documents into a model of 75000 documents\n",
      "2017-04-12 02:09:25,822 : INFO : topic #4 (0.100): 0.012*\"action\" + 0.007*\"one\" + 0.007*\"film\" + 0.004*\"police\" + 0.004*\"fight\" + 0.004*\"also\" + 0.003*\"plot\" + 0.003*\"scene\" + 0.003*\"good\" + 0.003*\"two\"\n",
      "2017-04-12 02:09:25,824 : INFO : topic #6 (0.100): 0.016*\"film\" + 0.015*\"bad\" + 0.013*\"one\" + 0.011*\"like\" + 0.010*\"good\" + 0.009*\"even\" + 0.008*\"acting\" + 0.007*\"really\" + 0.007*\"movies\" + 0.007*\"horror\"\n",
      "2017-04-12 02:09:25,826 : INFO : topic #9 (0.100): 0.015*\"like\" + 0.010*\"get\" + 0.010*\"would\" + 0.009*\"people\" + 0.008*\"one\" + 0.007*\"know\" + 0.007*\"really\" + 0.007*\"could\" + 0.007*\"see\" + 0.006*\"even\"\n",
      "2017-04-12 02:09:25,828 : INFO : topic #7 (0.100): 0.009*\"film\" + 0.007*\"love\" + 0.007*\"one\" + 0.006*\"story\" + 0.005*\"music\" + 0.005*\"version\" + 0.004*\"novel\" + 0.004*\"beautiful\" + 0.004*\"musical\" + 0.004*\"book\"\n",
      "2017-04-12 02:09:25,829 : INFO : topic #0 (0.100): 0.009*\"film\" + 0.005*\"man\" + 0.005*\"life\" + 0.005*\"one\" + 0.005*\"young\" + 0.005*\"war\" + 0.004*\"family\" + 0.004*\"world\" + 0.003*\"also\" + 0.003*\"father\"\n",
      "2017-04-12 02:09:25,831 : INFO : topic diff=0.075853, rho=0.159111\n",
      "2017-04-12 02:09:26,227 : INFO : PROGRESS: pass 1, at document #36000/75000\n",
      "2017-04-12 02:09:29,161 : INFO : merging changes from 2000 documents into a model of 75000 documents\n",
      "2017-04-12 02:09:29,490 : INFO : topic #8 (0.100): 0.013*\"show\" + 0.012*\"one\" + 0.011*\"great\" + 0.009*\"series\" + 0.009*\"like\" + 0.008*\"good\" + 0.008*\"first\" + 0.008*\"time\" + 0.007*\"would\" + 0.007*\"see\"\n",
      "2017-04-12 02:09:29,492 : INFO : topic #3 (0.100): 0.004*\"charlie\" + 0.004*\"davis\" + 0.004*\"film\" + 0.004*\"one\" + 0.003*\"man\" + 0.003*\"moore\" + 0.003*\"good\" + 0.003*\"david\" + 0.003*\"role\" + 0.003*\"adam\"\n",
      "2017-04-12 02:09:29,493 : INFO : topic #9 (0.100): 0.015*\"like\" + 0.010*\"get\" + 0.010*\"would\" + 0.009*\"people\" + 0.008*\"one\" + 0.007*\"know\" + 0.007*\"really\" + 0.007*\"could\" + 0.007*\"see\" + 0.006*\"even\"\n",
      "2017-04-12 02:09:29,495 : INFO : topic #5 (0.100): 0.008*\"one\" + 0.006*\"man\" + 0.006*\"film\" + 0.004*\"john\" + 0.004*\"role\" + 0.004*\"jack\" + 0.003*\"plays\" + 0.003*\"also\" + 0.003*\"western\" + 0.003*\"dr\"\n",
      "2017-04-12 02:09:29,496 : INFO : topic #1 (0.100): 0.009*\"one\" + 0.008*\"character\" + 0.007*\"comedy\" + 0.007*\"film\" + 0.006*\"cast\" + 0.006*\"script\" + 0.005*\"even\" + 0.004*\"role\" + 0.004*\"actors\" + 0.004*\"actor\"\n",
      "2017-04-12 02:09:29,498 : INFO : topic diff=0.075162, rho=0.159111\n",
      "2017-04-12 02:09:29,934 : INFO : PROGRESS: pass 1, at document #38000/75000\n",
      "2017-04-12 02:09:32,819 : INFO : merging changes from 2000 documents into a model of 75000 documents\n",
      "2017-04-12 02:09:33,112 : INFO : topic #0 (0.100): 0.009*\"film\" + 0.005*\"life\" + 0.005*\"man\" + 0.005*\"one\" + 0.005*\"war\" + 0.005*\"young\" + 0.004*\"family\" + 0.003*\"world\" + 0.003*\"also\" + 0.003*\"men\"\n",
      "2017-04-12 02:09:33,114 : INFO : topic #7 (0.100): 0.009*\"film\" + 0.007*\"love\" + 0.007*\"one\" + 0.006*\"music\" + 0.006*\"story\" + 0.004*\"version\" + 0.004*\"novel\" + 0.004*\"beautiful\" + 0.004*\"musical\" + 0.004*\"book\"\n",
      "2017-04-12 02:09:33,115 : INFO : topic #8 (0.100): 0.013*\"show\" + 0.012*\"one\" + 0.010*\"great\" + 0.009*\"series\" + 0.009*\"like\" + 0.008*\"good\" + 0.008*\"first\" + 0.008*\"time\" + 0.007*\"would\" + 0.007*\"see\"\n",
      "2017-04-12 02:09:33,117 : INFO : topic #6 (0.100): 0.016*\"film\" + 0.015*\"bad\" + 0.013*\"one\" + 0.011*\"like\" + 0.010*\"good\" + 0.009*\"even\" + 0.008*\"acting\" + 0.007*\"really\" + 0.007*\"movies\" + 0.007*\"horror\"\n",
      "2017-04-12 02:09:33,118 : INFO : topic #5 (0.100): 0.008*\"one\" + 0.006*\"film\" + 0.006*\"man\" + 0.004*\"john\" + 0.004*\"role\" + 0.004*\"jack\" + 0.003*\"plays\" + 0.003*\"also\" + 0.003*\"dr\" + 0.003*\"western\"\n",
      "2017-04-12 02:09:33,120 : INFO : topic diff=0.073097, rho=0.159111\n",
      "2017-04-12 02:09:42,901 : INFO : -8.609 per-word bound, 390.5 perplexity estimate based on a held-out corpus of 2000 documents with 228449 words\n",
      "2017-04-12 02:09:42,902 : INFO : PROGRESS: pass 1, at document #40000/75000\n",
      "2017-04-12 02:09:45,934 : INFO : merging changes from 2000 documents into a model of 75000 documents\n",
      "2017-04-12 02:09:46,239 : INFO : topic #6 (0.100): 0.016*\"film\" + 0.015*\"bad\" + 0.013*\"one\" + 0.011*\"like\" + 0.010*\"good\" + 0.009*\"even\" + 0.008*\"acting\" + 0.007*\"really\" + 0.007*\"movies\" + 0.006*\"horror\"\n",
      "2017-04-12 02:09:46,240 : INFO : topic #7 (0.100): 0.009*\"film\" + 0.007*\"love\" + 0.007*\"one\" + 0.006*\"music\" + 0.006*\"story\" + 0.005*\"novel\" + 0.004*\"version\" + 0.004*\"beautiful\" + 0.004*\"musical\" + 0.004*\"book\"\n",
      "2017-04-12 02:09:46,242 : INFO : topic #9 (0.100): 0.014*\"like\" + 0.010*\"get\" + 0.010*\"would\" + 0.009*\"people\" + 0.008*\"one\" + 0.007*\"know\" + 0.007*\"really\" + 0.007*\"see\" + 0.007*\"could\" + 0.006*\"even\"\n",
      "2017-04-12 02:09:46,245 : INFO : topic #0 (0.100): 0.009*\"film\" + 0.005*\"man\" + 0.005*\"life\" + 0.005*\"war\" + 0.005*\"one\" + 0.005*\"young\" + 0.004*\"family\" + 0.003*\"world\" + 0.003*\"also\" + 0.003*\"men\"\n",
      "2017-04-12 02:09:46,247 : INFO : topic #4 (0.100): 0.012*\"action\" + 0.007*\"one\" + 0.007*\"film\" + 0.004*\"fight\" + 0.004*\"police\" + 0.004*\"also\" + 0.003*\"scenes\" + 0.003*\"scene\" + 0.003*\"good\" + 0.003*\"two\"\n",
      "2017-04-12 02:09:46,249 : INFO : topic diff=0.072969, rho=0.159111\n",
      "2017-04-12 02:09:46,663 : INFO : PROGRESS: pass 1, at document #42000/75000\n",
      "2017-04-12 02:09:49,487 : INFO : merging changes from 2000 documents into a model of 75000 documents\n",
      "2017-04-12 02:09:49,773 : INFO : topic #0 (0.100): 0.009*\"film\" + 0.005*\"man\" + 0.005*\"war\" + 0.005*\"life\" + 0.005*\"one\" + 0.005*\"young\" + 0.004*\"family\" + 0.003*\"world\" + 0.003*\"men\" + 0.003*\"also\"\n",
      "2017-04-12 02:09:49,775 : INFO : topic #4 (0.100): 0.012*\"action\" + 0.007*\"one\" + 0.007*\"film\" + 0.004*\"police\" + 0.004*\"fight\" + 0.003*\"also\" + 0.003*\"scene\" + 0.003*\"scenes\" + 0.003*\"two\" + 0.003*\"good\"\n",
      "2017-04-12 02:09:49,776 : INFO : topic #9 (0.100): 0.015*\"like\" + 0.010*\"get\" + 0.010*\"would\" + 0.009*\"people\" + 0.008*\"one\" + 0.007*\"know\" + 0.007*\"could\" + 0.007*\"see\" + 0.007*\"really\" + 0.006*\"even\"\n",
      "2017-04-12 02:09:49,779 : INFO : topic #7 (0.100): 0.009*\"film\" + 0.007*\"love\" + 0.007*\"one\" + 0.006*\"music\" + 0.006*\"story\" + 0.005*\"novel\" + 0.005*\"version\" + 0.004*\"beautiful\" + 0.004*\"book\" + 0.004*\"musical\"\n",
      "2017-04-12 02:09:49,781 : INFO : topic #5 (0.100): 0.008*\"one\" + 0.006*\"man\" + 0.006*\"film\" + 0.004*\"john\" + 0.004*\"role\" + 0.004*\"jack\" + 0.003*\"plays\" + 0.003*\"also\" + 0.003*\"western\" + 0.003*\"great\"\n",
      "2017-04-12 02:09:49,782 : INFO : topic diff=0.067674, rho=0.159111\n",
      "2017-04-12 02:09:50,197 : INFO : PROGRESS: pass 1, at document #44000/75000\n",
      "2017-04-12 02:09:52,958 : INFO : merging changes from 2000 documents into a model of 75000 documents\n",
      "2017-04-12 02:09:53,242 : INFO : topic #4 (0.100): 0.012*\"action\" + 0.007*\"one\" + 0.007*\"film\" + 0.004*\"police\" + 0.004*\"fight\" + 0.003*\"also\" + 0.003*\"scene\" + 0.003*\"scenes\" + 0.003*\"two\" + 0.003*\"plot\"\n",
      "2017-04-12 02:09:53,244 : INFO : topic #0 (0.100): 0.009*\"film\" + 0.005*\"war\" + 0.005*\"man\" + 0.005*\"life\" + 0.005*\"one\" + 0.005*\"young\" + 0.004*\"family\" + 0.003*\"world\" + 0.003*\"men\" + 0.003*\"father\"\n",
      "2017-04-12 02:09:53,246 : INFO : topic #3 (0.100): 0.005*\"charlie\" + 0.004*\"davis\" + 0.004*\"film\" + 0.003*\"one\" + 0.003*\"man\" + 0.003*\"david\" + 0.003*\"moore\" + 0.003*\"bette\" + 0.003*\"role\" + 0.002*\"good\"\n",
      "2017-04-12 02:09:53,247 : INFO : topic #2 (0.100): 0.039*\"film\" + 0.010*\"story\" + 0.010*\"one\" + 0.007*\"characters\" + 0.007*\"films\" + 0.006*\"like\" + 0.006*\"good\" + 0.006*\"well\" + 0.006*\"see\" + 0.006*\"really\"\n",
      "2017-04-12 02:09:53,248 : INFO : topic #5 (0.100): 0.008*\"one\" + 0.006*\"man\" + 0.006*\"film\" + 0.004*\"john\" + 0.004*\"role\" + 0.004*\"jack\" + 0.003*\"plays\" + 0.003*\"also\" + 0.003*\"western\" + 0.003*\"great\"\n",
      "2017-04-12 02:09:53,250 : INFO : topic diff=0.068987, rho=0.159111\n",
      "2017-04-12 02:09:53,695 : INFO : PROGRESS: pass 1, at document #46000/75000\n",
      "2017-04-12 02:09:56,535 : INFO : merging changes from 2000 documents into a model of 75000 documents\n",
      "2017-04-12 02:09:56,819 : INFO : topic #4 (0.100): 0.012*\"action\" + 0.007*\"one\" + 0.007*\"film\" + 0.004*\"police\" + 0.004*\"fight\" + 0.003*\"also\" + 0.003*\"scenes\" + 0.003*\"scene\" + 0.003*\"two\" + 0.003*\"plot\"\n",
      "2017-04-12 02:09:56,821 : INFO : topic #3 (0.100): 0.004*\"charlie\" + 0.004*\"davis\" + 0.003*\"film\" + 0.003*\"one\" + 0.003*\"man\" + 0.003*\"david\" + 0.003*\"bette\" + 0.003*\"role\" + 0.003*\"moore\" + 0.002*\"hopkins\"\n",
      "2017-04-12 02:09:56,823 : INFO : topic #9 (0.100): 0.015*\"like\" + 0.010*\"get\" + 0.010*\"would\" + 0.009*\"people\" + 0.008*\"one\" + 0.007*\"know\" + 0.007*\"really\" + 0.007*\"see\" + 0.007*\"could\" + 0.006*\"even\"\n",
      "2017-04-12 02:09:56,824 : INFO : topic #0 (0.100): 0.009*\"film\" + 0.005*\"war\" + 0.005*\"man\" + 0.005*\"life\" + 0.005*\"one\" + 0.005*\"young\" + 0.004*\"family\" + 0.004*\"world\" + 0.003*\"men\" + 0.003*\"father\"\n",
      "2017-04-12 02:09:56,825 : INFO : topic #1 (0.100): 0.008*\"one\" + 0.008*\"character\" + 0.007*\"comedy\" + 0.007*\"film\" + 0.006*\"cast\" + 0.005*\"script\" + 0.005*\"even\" + 0.005*\"role\" + 0.004*\"actors\" + 0.004*\"actor\"\n",
      "2017-04-12 02:09:56,827 : INFO : topic diff=0.068044, rho=0.159111\n",
      "2017-04-12 02:09:57,239 : INFO : PROGRESS: pass 1, at document #48000/75000\n",
      "2017-04-12 02:10:00,066 : INFO : merging changes from 2000 documents into a model of 75000 documents\n",
      "2017-04-12 02:10:00,351 : INFO : topic #4 (0.100): 0.012*\"action\" + 0.007*\"one\" + 0.007*\"film\" + 0.004*\"police\" + 0.004*\"fight\" + 0.003*\"scenes\" + 0.003*\"scene\" + 0.003*\"also\" + 0.003*\"cop\" + 0.003*\"two\"\n",
      "2017-04-12 02:10:00,352 : INFO : topic #9 (0.100): 0.015*\"like\" + 0.010*\"would\" + 0.010*\"get\" + 0.009*\"people\" + 0.008*\"one\" + 0.007*\"know\" + 0.007*\"could\" + 0.007*\"really\" + 0.007*\"see\" + 0.006*\"even\"\n",
      "2017-04-12 02:10:00,354 : INFO : topic #5 (0.100): 0.008*\"one\" + 0.006*\"man\" + 0.006*\"film\" + 0.004*\"john\" + 0.004*\"role\" + 0.004*\"jack\" + 0.003*\"plays\" + 0.003*\"also\" + 0.003*\"western\" + 0.003*\"dr\"\n",
      "2017-04-12 02:10:00,356 : INFO : topic #6 (0.100): 0.017*\"film\" + 0.015*\"bad\" + 0.013*\"one\" + 0.011*\"like\" + 0.010*\"good\" + 0.009*\"even\" + 0.008*\"acting\" + 0.008*\"movies\" + 0.007*\"really\" + 0.007*\"horror\"\n",
      "2017-04-12 02:10:00,358 : INFO : topic #1 (0.100): 0.008*\"one\" + 0.008*\"character\" + 0.007*\"comedy\" + 0.006*\"film\" + 0.006*\"cast\" + 0.006*\"script\" + 0.005*\"even\" + 0.005*\"role\" + 0.004*\"actors\" + 0.004*\"actor\"\n",
      "2017-04-12 02:10:00,360 : INFO : topic diff=0.066252, rho=0.159111\n",
      "2017-04-12 02:10:00,772 : INFO : PROGRESS: pass 1, at document #50000/75000\n",
      "2017-04-12 02:10:03,753 : INFO : merging changes from 2000 documents into a model of 75000 documents\n",
      "2017-04-12 02:10:04,036 : INFO : topic #8 (0.100): 0.013*\"show\" + 0.012*\"one\" + 0.010*\"great\" + 0.009*\"series\" + 0.009*\"like\" + 0.008*\"good\" + 0.008*\"time\" + 0.008*\"first\" + 0.007*\"would\" + 0.007*\"see\"\n",
      "2017-04-12 02:10:04,037 : INFO : topic #2 (0.100): 0.040*\"film\" + 0.010*\"story\" + 0.010*\"one\" + 0.007*\"characters\" + 0.006*\"films\" + 0.006*\"like\" + 0.006*\"well\" + 0.006*\"good\" + 0.006*\"see\" + 0.006*\"really\"\n",
      "2017-04-12 02:10:04,039 : INFO : topic #6 (0.100): 0.017*\"film\" + 0.015*\"bad\" + 0.013*\"one\" + 0.011*\"like\" + 0.010*\"good\" + 0.009*\"even\" + 0.008*\"acting\" + 0.008*\"movies\" + 0.007*\"really\" + 0.007*\"horror\"\n",
      "2017-04-12 02:10:04,040 : INFO : topic #5 (0.100): 0.008*\"one\" + 0.006*\"film\" + 0.005*\"man\" + 0.004*\"john\" + 0.004*\"role\" + 0.004*\"jack\" + 0.004*\"plays\" + 0.003*\"also\" + 0.003*\"western\" + 0.003*\"dr\"\n",
      "2017-04-12 02:10:04,042 : INFO : topic #7 (0.100): 0.009*\"film\" + 0.007*\"love\" + 0.007*\"one\" + 0.006*\"music\" + 0.005*\"story\" + 0.005*\"version\" + 0.005*\"novel\" + 0.004*\"beautiful\" + 0.004*\"book\" + 0.004*\"musical\"\n",
      "2017-04-12 02:10:04,044 : INFO : topic diff=0.061887, rho=0.159111\n",
      "2017-04-12 02:10:04,451 : INFO : PROGRESS: pass 1, at document #52000/75000\n",
      "2017-04-12 02:10:07,353 : INFO : merging changes from 2000 documents into a model of 75000 documents\n",
      "2017-04-12 02:10:07,640 : INFO : topic #6 (0.100): 0.017*\"film\" + 0.015*\"bad\" + 0.013*\"one\" + 0.011*\"like\" + 0.010*\"good\" + 0.009*\"even\" + 0.008*\"acting\" + 0.008*\"movies\" + 0.007*\"really\" + 0.007*\"horror\"\n",
      "2017-04-12 02:10:07,642 : INFO : topic #7 (0.100): 0.009*\"film\" + 0.007*\"love\" + 0.007*\"one\" + 0.006*\"music\" + 0.005*\"story\" + 0.005*\"version\" + 0.004*\"novel\" + 0.004*\"book\" + 0.004*\"beautiful\" + 0.004*\"best\"\n",
      "2017-04-12 02:10:07,644 : INFO : topic #2 (0.100): 0.040*\"film\" + 0.010*\"story\" + 0.010*\"one\" + 0.007*\"characters\" + 0.007*\"films\" + 0.006*\"like\" + 0.006*\"good\" + 0.006*\"well\" + 0.006*\"see\" + 0.006*\"much\"\n",
      "2017-04-12 02:10:07,645 : INFO : topic #3 (0.100): 0.004*\"charlie\" + 0.004*\"davis\" + 0.003*\"film\" + 0.003*\"david\" + 0.003*\"one\" + 0.003*\"adam\" + 0.003*\"sandler\" + 0.003*\"hopkins\" + 0.003*\"role\" + 0.003*\"man\"\n",
      "2017-04-12 02:10:07,647 : INFO : topic #5 (0.100): 0.008*\"one\" + 0.005*\"film\" + 0.005*\"man\" + 0.004*\"john\" + 0.004*\"role\" + 0.004*\"plays\" + 0.003*\"jack\" + 0.003*\"also\" + 0.003*\"dr\" + 0.003*\"great\"\n",
      "2017-04-12 02:10:07,648 : INFO : topic diff=0.060808, rho=0.159111\n",
      "2017-04-12 02:10:08,072 : INFO : PROGRESS: pass 1, at document #54000/75000\n",
      "2017-04-12 02:10:10,857 : INFO : merging changes from 2000 documents into a model of 75000 documents\n",
      "2017-04-12 02:10:11,139 : INFO : topic #7 (0.100): 0.009*\"film\" + 0.007*\"love\" + 0.007*\"one\" + 0.006*\"music\" + 0.005*\"story\" + 0.005*\"novel\" + 0.005*\"version\" + 0.004*\"beautiful\" + 0.004*\"book\" + 0.004*\"musical\"\n",
      "2017-04-12 02:10:11,141 : INFO : topic #4 (0.100): 0.013*\"action\" + 0.007*\"one\" + 0.007*\"film\" + 0.004*\"fight\" + 0.004*\"police\" + 0.004*\"scene\" + 0.004*\"scenes\" + 0.003*\"also\" + 0.003*\"two\" + 0.003*\"car\"\n",
      "2017-04-12 02:10:11,142 : INFO : topic #9 (0.100): 0.015*\"like\" + 0.010*\"would\" + 0.010*\"get\" + 0.009*\"people\" + 0.009*\"one\" + 0.007*\"see\" + 0.007*\"know\" + 0.007*\"could\" + 0.007*\"really\" + 0.006*\"even\"\n",
      "2017-04-12 02:10:11,144 : INFO : topic #8 (0.100): 0.014*\"show\" + 0.012*\"one\" + 0.011*\"great\" + 0.009*\"series\" + 0.009*\"like\" + 0.008*\"good\" + 0.008*\"first\" + 0.008*\"time\" + 0.007*\"see\" + 0.007*\"would\"\n",
      "2017-04-12 02:10:11,145 : INFO : topic #6 (0.100): 0.017*\"film\" + 0.015*\"bad\" + 0.013*\"one\" + 0.011*\"like\" + 0.010*\"good\" + 0.009*\"even\" + 0.008*\"acting\" + 0.008*\"movies\" + 0.007*\"really\" + 0.007*\"horror\"\n",
      "2017-04-12 02:10:11,147 : INFO : topic diff=0.061710, rho=0.159111\n",
      "2017-04-12 02:10:11,557 : INFO : PROGRESS: pass 1, at document #56000/75000\n",
      "2017-04-12 02:10:14,518 : INFO : merging changes from 2000 documents into a model of 75000 documents\n",
      "2017-04-12 02:10:14,799 : INFO : topic #6 (0.100): 0.017*\"film\" + 0.015*\"bad\" + 0.013*\"one\" + 0.011*\"like\" + 0.010*\"good\" + 0.009*\"even\" + 0.008*\"acting\" + 0.008*\"movies\" + 0.007*\"really\" + 0.007*\"horror\"\n",
      "2017-04-12 02:10:14,801 : INFO : topic #7 (0.100): 0.009*\"film\" + 0.007*\"love\" + 0.007*\"one\" + 0.006*\"music\" + 0.005*\"story\" + 0.005*\"novel\" + 0.005*\"version\" + 0.004*\"beautiful\" + 0.004*\"book\" + 0.003*\"best\"\n",
      "2017-04-12 02:10:14,802 : INFO : topic #4 (0.100): 0.013*\"action\" + 0.007*\"one\" + 0.006*\"film\" + 0.004*\"police\" + 0.004*\"fight\" + 0.004*\"also\" + 0.004*\"scenes\" + 0.003*\"scene\" + 0.003*\"two\" + 0.003*\"plot\"\n",
      "2017-04-12 02:10:14,804 : INFO : topic #9 (0.100): 0.015*\"like\" + 0.010*\"would\" + 0.010*\"get\" + 0.009*\"people\" + 0.009*\"one\" + 0.007*\"know\" + 0.007*\"see\" + 0.007*\"could\" + 0.007*\"really\" + 0.006*\"even\"\n",
      "2017-04-12 02:10:14,805 : INFO : topic #1 (0.100): 0.008*\"character\" + 0.008*\"one\" + 0.007*\"comedy\" + 0.006*\"film\" + 0.006*\"cast\" + 0.006*\"script\" + 0.005*\"even\" + 0.005*\"role\" + 0.004*\"actors\" + 0.004*\"actor\"\n",
      "2017-04-12 02:10:14,807 : INFO : topic diff=0.059599, rho=0.159111\n",
      "2017-04-12 02:10:15,210 : INFO : PROGRESS: pass 1, at document #58000/75000\n",
      "2017-04-12 02:10:17,973 : INFO : merging changes from 2000 documents into a model of 75000 documents\n",
      "2017-04-12 02:10:18,265 : INFO : topic #3 (0.100): 0.005*\"davis\" + 0.004*\"charlie\" + 0.004*\"sandler\" + 0.004*\"adam\" + 0.003*\"hopkins\" + 0.003*\"david\" + 0.003*\"one\" + 0.003*\"film\" + 0.003*\"metal\" + 0.003*\"bette\"\n",
      "2017-04-12 02:10:18,266 : INFO : topic #5 (0.100): 0.007*\"one\" + 0.006*\"man\" + 0.005*\"film\" + 0.004*\"john\" + 0.004*\"role\" + 0.004*\"plays\" + 0.003*\"also\" + 0.003*\"jack\" + 0.003*\"dr\" + 0.003*\"great\"\n",
      "2017-04-12 02:10:18,268 : INFO : topic #6 (0.100): 0.017*\"film\" + 0.015*\"bad\" + 0.013*\"one\" + 0.011*\"like\" + 0.010*\"good\" + 0.010*\"even\" + 0.008*\"acting\" + 0.008*\"movies\" + 0.007*\"really\" + 0.007*\"horror\"\n",
      "2017-04-12 02:10:18,270 : INFO : topic #8 (0.100): 0.014*\"show\" + 0.012*\"one\" + 0.011*\"great\" + 0.009*\"like\" + 0.009*\"series\" + 0.008*\"good\" + 0.008*\"first\" + 0.008*\"time\" + 0.007*\"see\" + 0.007*\"would\"\n",
      "2017-04-12 02:10:18,272 : INFO : topic #9 (0.100): 0.015*\"like\" + 0.010*\"get\" + 0.010*\"would\" + 0.009*\"people\" + 0.009*\"one\" + 0.007*\"know\" + 0.007*\"see\" + 0.007*\"really\" + 0.007*\"could\" + 0.006*\"even\"\n",
      "2017-04-12 02:10:18,274 : INFO : topic diff=0.061554, rho=0.159111\n",
      "2017-04-12 02:10:27,347 : INFO : -8.585 per-word bound, 384.0 perplexity estimate based on a held-out corpus of 2000 documents with 223516 words\n",
      "2017-04-12 02:10:27,348 : INFO : PROGRESS: pass 1, at document #60000/75000\n",
      "2017-04-12 02:10:30,433 : INFO : merging changes from 2000 documents into a model of 75000 documents\n",
      "2017-04-12 02:10:30,775 : INFO : topic #0 (0.100): 0.009*\"film\" + 0.005*\"war\" + 0.005*\"life\" + 0.005*\"man\" + 0.005*\"one\" + 0.005*\"young\" + 0.004*\"family\" + 0.003*\"world\" + 0.003*\"american\" + 0.003*\"men\"\n",
      "2017-04-12 02:10:30,777 : INFO : topic #1 (0.100): 0.009*\"character\" + 0.008*\"one\" + 0.007*\"comedy\" + 0.006*\"film\" + 0.006*\"cast\" + 0.005*\"script\" + 0.005*\"even\" + 0.005*\"role\" + 0.004*\"actors\" + 0.004*\"actor\"\n",
      "2017-04-12 02:10:30,779 : INFO : topic #8 (0.100): 0.014*\"show\" + 0.012*\"one\" + 0.011*\"great\" + 0.009*\"like\" + 0.009*\"series\" + 0.008*\"good\" + 0.008*\"first\" + 0.008*\"time\" + 0.007*\"see\" + 0.007*\"would\"\n",
      "2017-04-12 02:10:30,781 : INFO : topic #6 (0.100): 0.017*\"film\" + 0.015*\"bad\" + 0.013*\"one\" + 0.011*\"like\" + 0.010*\"good\" + 0.010*\"even\" + 0.008*\"acting\" + 0.008*\"movies\" + 0.007*\"really\" + 0.007*\"horror\"\n",
      "2017-04-12 02:10:30,783 : INFO : topic #4 (0.100): 0.013*\"action\" + 0.007*\"one\" + 0.006*\"film\" + 0.004*\"police\" + 0.004*\"fight\" + 0.004*\"also\" + 0.003*\"two\" + 0.003*\"scene\" + 0.003*\"scenes\" + 0.003*\"plot\"\n",
      "2017-04-12 02:10:30,785 : INFO : topic diff=0.058128, rho=0.159111\n",
      "2017-04-12 02:10:31,219 : INFO : PROGRESS: pass 1, at document #62000/75000\n",
      "2017-04-12 02:10:33,990 : INFO : merging changes from 2000 documents into a model of 75000 documents\n",
      "2017-04-12 02:10:34,264 : INFO : topic #8 (0.100): 0.014*\"show\" + 0.012*\"one\" + 0.011*\"great\" + 0.009*\"like\" + 0.009*\"series\" + 0.008*\"good\" + 0.008*\"time\" + 0.008*\"first\" + 0.007*\"see\" + 0.007*\"would\"\n",
      "2017-04-12 02:10:34,265 : INFO : topic #2 (0.100): 0.039*\"film\" + 0.010*\"story\" + 0.010*\"one\" + 0.007*\"characters\" + 0.006*\"films\" + 0.006*\"like\" + 0.006*\"well\" + 0.006*\"good\" + 0.006*\"see\" + 0.006*\"much\"\n",
      "2017-04-12 02:10:34,267 : INFO : topic #0 (0.100): 0.009*\"film\" + 0.005*\"war\" + 0.005*\"life\" + 0.005*\"one\" + 0.005*\"man\" + 0.005*\"young\" + 0.004*\"family\" + 0.004*\"world\" + 0.003*\"american\" + 0.003*\"men\"\n",
      "2017-04-12 02:10:34,268 : INFO : topic #1 (0.100): 0.009*\"character\" + 0.008*\"one\" + 0.007*\"comedy\" + 0.006*\"film\" + 0.006*\"cast\" + 0.005*\"script\" + 0.005*\"even\" + 0.005*\"role\" + 0.004*\"actors\" + 0.004*\"actor\"\n",
      "2017-04-12 02:10:34,270 : INFO : topic #6 (0.100): 0.017*\"film\" + 0.015*\"bad\" + 0.013*\"one\" + 0.011*\"like\" + 0.010*\"good\" + 0.009*\"even\" + 0.008*\"acting\" + 0.008*\"movies\" + 0.007*\"really\" + 0.007*\"horror\"\n",
      "2017-04-12 02:10:34,272 : INFO : topic diff=0.056804, rho=0.159111\n",
      "2017-04-12 02:10:34,682 : INFO : PROGRESS: pass 1, at document #64000/75000\n",
      "2017-04-12 02:10:37,410 : INFO : merging changes from 2000 documents into a model of 75000 documents\n",
      "2017-04-12 02:10:37,678 : INFO : topic #4 (0.100): 0.013*\"action\" + 0.007*\"one\" + 0.006*\"film\" + 0.004*\"police\" + 0.004*\"fight\" + 0.004*\"also\" + 0.004*\"scenes\" + 0.004*\"scene\" + 0.003*\"two\" + 0.003*\"cop\"\n",
      "2017-04-12 02:10:37,679 : INFO : topic #1 (0.100): 0.008*\"character\" + 0.008*\"one\" + 0.008*\"comedy\" + 0.006*\"cast\" + 0.006*\"film\" + 0.005*\"script\" + 0.005*\"even\" + 0.005*\"role\" + 0.004*\"actors\" + 0.004*\"actor\"\n",
      "2017-04-12 02:10:37,680 : INFO : topic #0 (0.100): 0.009*\"film\" + 0.005*\"war\" + 0.005*\"life\" + 0.005*\"man\" + 0.005*\"one\" + 0.005*\"young\" + 0.004*\"family\" + 0.004*\"world\" + 0.003*\"american\" + 0.003*\"father\"\n",
      "2017-04-12 02:10:37,682 : INFO : topic #7 (0.100): 0.008*\"film\" + 0.007*\"one\" + 0.007*\"love\" + 0.006*\"music\" + 0.005*\"story\" + 0.005*\"novel\" + 0.004*\"version\" + 0.004*\"beautiful\" + 0.004*\"book\" + 0.004*\"musical\"\n",
      "2017-04-12 02:10:37,684 : INFO : topic #9 (0.100): 0.015*\"like\" + 0.010*\"would\" + 0.010*\"get\" + 0.009*\"people\" + 0.009*\"one\" + 0.007*\"know\" + 0.007*\"see\" + 0.007*\"really\" + 0.007*\"could\" + 0.006*\"even\"\n",
      "2017-04-12 02:10:37,686 : INFO : topic diff=0.058285, rho=0.159111\n",
      "2017-04-12 02:10:38,084 : INFO : PROGRESS: pass 1, at document #66000/75000\n",
      "2017-04-12 02:10:41,133 : INFO : merging changes from 2000 documents into a model of 75000 documents\n",
      "2017-04-12 02:10:41,403 : INFO : topic #4 (0.100): 0.013*\"action\" + 0.007*\"one\" + 0.006*\"film\" + 0.004*\"police\" + 0.004*\"fight\" + 0.004*\"also\" + 0.004*\"scenes\" + 0.004*\"scene\" + 0.003*\"two\" + 0.003*\"cop\"\n",
      "2017-04-12 02:10:41,404 : INFO : topic #5 (0.100): 0.007*\"one\" + 0.006*\"man\" + 0.006*\"film\" + 0.004*\"john\" + 0.004*\"role\" + 0.004*\"plays\" + 0.004*\"also\" + 0.003*\"western\" + 0.003*\"jack\" + 0.003*\"dr\"\n",
      "2017-04-12 02:10:41,406 : INFO : topic #1 (0.100): 0.009*\"character\" + 0.008*\"one\" + 0.008*\"comedy\" + 0.006*\"cast\" + 0.006*\"film\" + 0.005*\"script\" + 0.005*\"even\" + 0.005*\"role\" + 0.004*\"actors\" + 0.004*\"actor\"\n",
      "2017-04-12 02:10:41,407 : INFO : topic #0 (0.100): 0.009*\"film\" + 0.005*\"life\" + 0.005*\"war\" + 0.005*\"man\" + 0.005*\"one\" + 0.005*\"young\" + 0.004*\"family\" + 0.004*\"world\" + 0.003*\"american\" + 0.003*\"men\"\n",
      "2017-04-12 02:10:41,409 : INFO : topic #6 (0.100): 0.017*\"film\" + 0.015*\"bad\" + 0.013*\"one\" + 0.011*\"like\" + 0.010*\"good\" + 0.009*\"even\" + 0.008*\"acting\" + 0.008*\"movies\" + 0.007*\"really\" + 0.007*\"horror\"\n",
      "2017-04-12 02:10:41,411 : INFO : topic diff=0.056031, rho=0.159111\n",
      "2017-04-12 02:10:41,823 : INFO : PROGRESS: pass 1, at document #68000/75000\n",
      "2017-04-12 02:10:45,077 : INFO : merging changes from 2000 documents into a model of 75000 documents\n",
      "2017-04-12 02:10:45,380 : INFO : topic #7 (0.100): 0.008*\"film\" + 0.007*\"one\" + 0.007*\"love\" + 0.007*\"music\" + 0.005*\"story\" + 0.005*\"novel\" + 0.005*\"version\" + 0.004*\"beautiful\" + 0.004*\"book\" + 0.004*\"musical\"\n",
      "2017-04-12 02:10:45,381 : INFO : topic #8 (0.100): 0.014*\"show\" + 0.012*\"one\" + 0.011*\"great\" + 0.009*\"like\" + 0.009*\"series\" + 0.008*\"good\" + 0.008*\"first\" + 0.008*\"time\" + 0.007*\"see\" + 0.007*\"would\"\n",
      "2017-04-12 02:10:45,384 : INFO : topic #3 (0.100): 0.006*\"davis\" + 0.005*\"charlie\" + 0.004*\"sandler\" + 0.003*\"moore\" + 0.003*\"bette\" + 0.003*\"adam\" + 0.003*\"david\" + 0.003*\"one\" + 0.003*\"film\" + 0.003*\"hopkins\"\n",
      "2017-04-12 02:10:45,385 : INFO : topic #6 (0.100): 0.018*\"film\" + 0.015*\"bad\" + 0.013*\"one\" + 0.011*\"like\" + 0.010*\"good\" + 0.009*\"even\" + 0.008*\"acting\" + 0.007*\"movies\" + 0.007*\"really\" + 0.006*\"horror\"\n",
      "2017-04-12 02:10:45,387 : INFO : topic #4 (0.100): 0.013*\"action\" + 0.007*\"one\" + 0.006*\"film\" + 0.004*\"police\" + 0.004*\"fight\" + 0.004*\"also\" + 0.004*\"scenes\" + 0.004*\"two\" + 0.004*\"scene\" + 0.003*\"plot\"\n",
      "2017-04-12 02:10:45,390 : INFO : topic diff=0.056262, rho=0.159111\n",
      "2017-04-12 02:10:45,828 : INFO : PROGRESS: pass 1, at document #70000/75000\n",
      "2017-04-12 02:10:48,654 : INFO : merging changes from 2000 documents into a model of 75000 documents\n",
      "2017-04-12 02:10:48,918 : INFO : topic #8 (0.100): 0.014*\"show\" + 0.012*\"one\" + 0.011*\"great\" + 0.009*\"like\" + 0.009*\"series\" + 0.008*\"good\" + 0.008*\"first\" + 0.008*\"time\" + 0.007*\"see\" + 0.007*\"would\"\n",
      "2017-04-12 02:10:48,920 : INFO : topic #9 (0.100): 0.015*\"like\" + 0.010*\"get\" + 0.010*\"would\" + 0.009*\"people\" + 0.009*\"one\" + 0.007*\"know\" + 0.007*\"see\" + 0.007*\"really\" + 0.007*\"could\" + 0.006*\"think\"\n",
      "2017-04-12 02:10:48,921 : INFO : topic #2 (0.100): 0.040*\"film\" + 0.010*\"story\" + 0.010*\"one\" + 0.007*\"characters\" + 0.007*\"films\" + 0.006*\"well\" + 0.006*\"like\" + 0.006*\"good\" + 0.006*\"much\" + 0.006*\"see\"\n",
      "2017-04-12 02:10:48,923 : INFO : topic #4 (0.100): 0.013*\"action\" + 0.007*\"one\" + 0.006*\"film\" + 0.004*\"police\" + 0.004*\"fight\" + 0.004*\"also\" + 0.004*\"scenes\" + 0.004*\"two\" + 0.004*\"scene\" + 0.003*\"plot\"\n",
      "2017-04-12 02:10:48,924 : INFO : topic #5 (0.100): 0.007*\"one\" + 0.006*\"man\" + 0.006*\"film\" + 0.004*\"john\" + 0.004*\"role\" + 0.004*\"plays\" + 0.004*\"also\" + 0.003*\"jack\" + 0.003*\"western\" + 0.003*\"dr\"\n",
      "2017-04-12 02:10:48,926 : INFO : topic diff=0.056419, rho=0.159111\n",
      "2017-04-12 02:10:49,319 : INFO : PROGRESS: pass 1, at document #72000/75000\n",
      "2017-04-12 02:10:52,056 : INFO : merging changes from 2000 documents into a model of 75000 documents\n",
      "2017-04-12 02:10:52,316 : INFO : topic #0 (0.100): 0.009*\"film\" + 0.005*\"war\" + 0.005*\"life\" + 0.005*\"one\" + 0.005*\"man\" + 0.005*\"young\" + 0.004*\"family\" + 0.004*\"world\" + 0.003*\"men\" + 0.003*\"american\"\n",
      "2017-04-12 02:10:52,318 : INFO : topic #7 (0.100): 0.008*\"film\" + 0.007*\"one\" + 0.007*\"music\" + 0.007*\"love\" + 0.005*\"story\" + 0.005*\"novel\" + 0.005*\"version\" + 0.004*\"book\" + 0.004*\"beautiful\" + 0.004*\"musical\"\n",
      "2017-04-12 02:10:52,319 : INFO : topic #1 (0.100): 0.009*\"character\" + 0.008*\"one\" + 0.008*\"comedy\" + 0.006*\"cast\" + 0.006*\"film\" + 0.006*\"script\" + 0.005*\"even\" + 0.005*\"role\" + 0.004*\"actors\" + 0.004*\"performance\"\n",
      "2017-04-12 02:10:52,321 : INFO : topic #4 (0.100): 0.013*\"action\" + 0.007*\"one\" + 0.006*\"film\" + 0.004*\"police\" + 0.004*\"fight\" + 0.004*\"also\" + 0.004*\"scenes\" + 0.004*\"two\" + 0.004*\"scene\" + 0.003*\"car\"\n",
      "2017-04-12 02:10:52,322 : INFO : topic #6 (0.100): 0.018*\"film\" + 0.015*\"bad\" + 0.013*\"one\" + 0.012*\"like\" + 0.010*\"good\" + 0.009*\"even\" + 0.008*\"acting\" + 0.007*\"movies\" + 0.007*\"really\" + 0.007*\"horror\"\n",
      "2017-04-12 02:10:52,324 : INFO : topic diff=0.055659, rho=0.159111\n",
      "2017-04-12 02:10:52,720 : INFO : PROGRESS: pass 1, at document #74000/75000\n",
      "2017-04-12 02:10:55,626 : INFO : merging changes from 2000 documents into a model of 75000 documents\n",
      "2017-04-12 02:10:55,892 : INFO : topic #3 (0.100): 0.006*\"davis\" + 0.005*\"charlie\" + 0.004*\"bette\" + 0.004*\"moore\" + 0.003*\"adam\" + 0.003*\"sandler\" + 0.003*\"david\" + 0.003*\"metal\" + 0.003*\"chuck\" + 0.003*\"one\"\n",
      "2017-04-12 02:10:55,894 : INFO : topic #1 (0.100): 0.008*\"character\" + 0.008*\"one\" + 0.008*\"comedy\" + 0.006*\"film\" + 0.006*\"cast\" + 0.005*\"script\" + 0.005*\"role\" + 0.005*\"even\" + 0.004*\"actor\" + 0.004*\"performance\"\n",
      "2017-04-12 02:10:55,895 : INFO : topic #4 (0.100): 0.013*\"action\" + 0.007*\"one\" + 0.006*\"film\" + 0.004*\"police\" + 0.004*\"fight\" + 0.004*\"also\" + 0.004*\"scenes\" + 0.004*\"two\" + 0.004*\"scene\" + 0.003*\"cop\"\n",
      "2017-04-12 02:10:55,897 : INFO : topic #9 (0.100): 0.015*\"like\" + 0.010*\"get\" + 0.010*\"would\" + 0.009*\"people\" + 0.009*\"one\" + 0.007*\"know\" + 0.007*\"see\" + 0.007*\"really\" + 0.007*\"could\" + 0.006*\"even\"\n",
      "2017-04-12 02:10:55,899 : INFO : topic #5 (0.100): 0.007*\"one\" + 0.006*\"man\" + 0.006*\"film\" + 0.004*\"john\" + 0.004*\"role\" + 0.004*\"plays\" + 0.004*\"also\" + 0.003*\"dr\" + 0.003*\"jack\" + 0.003*\"western\"\n",
      "2017-04-12 02:10:55,901 : INFO : topic diff=0.055828, rho=0.159111\n",
      "2017-04-12 02:11:00,595 : INFO : -8.587 per-word bound, 384.6 perplexity estimate based on a held-out corpus of 1000 documents with 112974 words\n",
      "2017-04-12 02:11:00,596 : INFO : PROGRESS: pass 1, at document #75000/75000\n",
      "2017-04-12 02:11:01,958 : INFO : merging changes from 1000 documents into a model of 75000 documents\n",
      "2017-04-12 02:11:02,224 : INFO : topic #6 (0.100): 0.018*\"film\" + 0.015*\"bad\" + 0.012*\"one\" + 0.012*\"like\" + 0.010*\"good\" + 0.010*\"even\" + 0.008*\"acting\" + 0.008*\"really\" + 0.007*\"movies\" + 0.007*\"horror\"\n",
      "2017-04-12 02:11:02,225 : INFO : topic #3 (0.100): 0.006*\"davis\" + 0.005*\"charlie\" + 0.005*\"sandler\" + 0.004*\"adam\" + 0.004*\"chuck\" + 0.003*\"moore\" + 0.003*\"bette\" + 0.003*\"david\" + 0.003*\"khan\" + 0.003*\"metal\"\n",
      "2017-04-12 02:11:02,227 : INFO : topic #7 (0.100): 0.008*\"film\" + 0.007*\"music\" + 0.007*\"love\" + 0.007*\"one\" + 0.005*\"story\" + 0.005*\"novel\" + 0.005*\"version\" + 0.005*\"beautiful\" + 0.004*\"book\" + 0.004*\"best\"\n",
      "2017-04-12 02:11:02,229 : INFO : topic #5 (0.100): 0.007*\"one\" + 0.006*\"man\" + 0.006*\"film\" + 0.004*\"john\" + 0.004*\"role\" + 0.004*\"plays\" + 0.004*\"also\" + 0.004*\"jack\" + 0.004*\"dr\" + 0.003*\"western\"\n",
      "2017-04-12 02:11:02,231 : INFO : topic #2 (0.100): 0.040*\"film\" + 0.011*\"story\" + 0.010*\"one\" + 0.007*\"characters\" + 0.006*\"films\" + 0.006*\"well\" + 0.006*\"good\" + 0.006*\"like\" + 0.006*\"much\" + 0.006*\"see\"\n",
      "2017-04-12 02:11:02,233 : INFO : topic diff=0.056918, rho=0.159111\n",
      "2017-04-12 02:11:02,643 : INFO : PROGRESS: pass 2, at document #2000/75000\n",
      "2017-04-12 02:11:05,354 : INFO : merging changes from 2000 documents into a model of 75000 documents\n",
      "2017-04-12 02:11:05,613 : INFO : topic #2 (0.100): 0.040*\"film\" + 0.010*\"story\" + 0.010*\"one\" + 0.007*\"characters\" + 0.006*\"films\" + 0.006*\"good\" + 0.006*\"well\" + 0.006*\"like\" + 0.006*\"much\" + 0.006*\"see\"\n",
      "2017-04-12 02:11:05,614 : INFO : topic #7 (0.100): 0.008*\"film\" + 0.007*\"love\" + 0.007*\"music\" + 0.007*\"one\" + 0.005*\"story\" + 0.005*\"version\" + 0.005*\"novel\" + 0.005*\"beautiful\" + 0.004*\"book\" + 0.004*\"musical\"\n",
      "2017-04-12 02:11:05,616 : INFO : topic #5 (0.100): 0.007*\"one\" + 0.006*\"man\" + 0.006*\"film\" + 0.004*\"john\" + 0.004*\"role\" + 0.004*\"plays\" + 0.004*\"also\" + 0.004*\"dr\" + 0.003*\"jack\" + 0.003*\"western\"\n",
      "2017-04-12 02:11:05,617 : INFO : topic #1 (0.100): 0.008*\"character\" + 0.008*\"one\" + 0.008*\"comedy\" + 0.007*\"cast\" + 0.006*\"film\" + 0.005*\"script\" + 0.005*\"even\" + 0.005*\"role\" + 0.004*\"funny\" + 0.004*\"actors\"\n",
      "2017-04-12 02:11:05,619 : INFO : topic #8 (0.100): 0.014*\"show\" + 0.012*\"one\" + 0.012*\"great\" + 0.009*\"like\" + 0.008*\"good\" + 0.008*\"series\" + 0.008*\"time\" + 0.008*\"first\" + 0.007*\"see\" + 0.007*\"would\"\n",
      "2017-04-12 02:11:05,621 : INFO : topic diff=0.066732, rho=0.157135\n",
      "2017-04-12 02:11:06,041 : INFO : PROGRESS: pass 2, at document #4000/75000\n",
      "2017-04-12 02:11:08,938 : INFO : merging changes from 2000 documents into a model of 75000 documents\n",
      "2017-04-12 02:11:09,201 : INFO : topic #7 (0.100): 0.008*\"film\" + 0.007*\"love\" + 0.007*\"one\" + 0.007*\"music\" + 0.005*\"version\" + 0.005*\"story\" + 0.005*\"novel\" + 0.005*\"beautiful\" + 0.004*\"book\" + 0.004*\"musical\"\n",
      "2017-04-12 02:11:09,203 : INFO : topic #9 (0.100): 0.015*\"like\" + 0.010*\"get\" + 0.010*\"would\" + 0.009*\"people\" + 0.009*\"one\" + 0.007*\"know\" + 0.007*\"could\" + 0.007*\"see\" + 0.007*\"really\" + 0.006*\"even\"\n",
      "2017-04-12 02:11:09,204 : INFO : topic #8 (0.100): 0.014*\"show\" + 0.012*\"one\" + 0.011*\"great\" + 0.009*\"like\" + 0.008*\"good\" + 0.008*\"series\" + 0.008*\"time\" + 0.008*\"first\" + 0.007*\"see\" + 0.007*\"would\"\n",
      "2017-04-12 02:11:09,206 : INFO : topic #1 (0.100): 0.008*\"character\" + 0.008*\"comedy\" + 0.008*\"one\" + 0.007*\"cast\" + 0.006*\"film\" + 0.006*\"script\" + 0.005*\"even\" + 0.005*\"role\" + 0.004*\"funny\" + 0.004*\"actors\"\n",
      "2017-04-12 02:11:09,207 : INFO : topic #5 (0.100): 0.007*\"one\" + 0.006*\"man\" + 0.006*\"film\" + 0.004*\"john\" + 0.004*\"role\" + 0.004*\"also\" + 0.004*\"plays\" + 0.003*\"dr\" + 0.003*\"jack\" + 0.003*\"western\"\n",
      "2017-04-12 02:11:09,209 : INFO : topic diff=0.066520, rho=0.157135\n",
      "2017-04-12 02:11:09,615 : INFO : PROGRESS: pass 2, at document #6000/75000\n",
      "2017-04-12 02:11:12,341 : INFO : merging changes from 2000 documents into a model of 75000 documents\n",
      "2017-04-12 02:11:12,601 : INFO : topic #4 (0.100): 0.013*\"action\" + 0.007*\"one\" + 0.006*\"film\" + 0.004*\"police\" + 0.004*\"fight\" + 0.004*\"also\" + 0.004*\"scenes\" + 0.004*\"car\" + 0.004*\"two\" + 0.003*\"plot\"\n",
      "2017-04-12 02:11:12,602 : INFO : topic #2 (0.100): 0.040*\"film\" + 0.010*\"story\" + 0.010*\"one\" + 0.007*\"characters\" + 0.006*\"films\" + 0.006*\"good\" + 0.006*\"like\" + 0.006*\"well\" + 0.006*\"much\" + 0.006*\"see\"\n",
      "2017-04-12 02:11:12,605 : INFO : topic #0 (0.100): 0.009*\"film\" + 0.005*\"war\" + 0.005*\"life\" + 0.005*\"man\" + 0.005*\"one\" + 0.005*\"young\" + 0.004*\"family\" + 0.004*\"world\" + 0.003*\"men\" + 0.003*\"father\"\n",
      "2017-04-12 02:11:12,606 : INFO : topic #6 (0.100): 0.018*\"film\" + 0.015*\"bad\" + 0.012*\"one\" + 0.011*\"like\" + 0.010*\"good\" + 0.010*\"even\" + 0.008*\"acting\" + 0.008*\"really\" + 0.007*\"movies\" + 0.007*\"horror\"\n",
      "2017-04-12 02:11:12,608 : INFO : topic #9 (0.100): 0.015*\"like\" + 0.010*\"get\" + 0.010*\"would\" + 0.009*\"people\" + 0.009*\"one\" + 0.007*\"know\" + 0.007*\"see\" + 0.007*\"really\" + 0.007*\"could\" + 0.006*\"even\"\n",
      "2017-04-12 02:11:12,610 : INFO : topic diff=0.060526, rho=0.157135\n",
      "2017-04-12 02:11:13,063 : INFO : PROGRESS: pass 2, at document #8000/75000\n",
      "2017-04-12 02:11:15,986 : INFO : merging changes from 2000 documents into a model of 75000 documents\n",
      "2017-04-12 02:11:16,238 : INFO : topic #8 (0.100): 0.014*\"show\" + 0.012*\"one\" + 0.011*\"great\" + 0.009*\"like\" + 0.008*\"good\" + 0.008*\"series\" + 0.008*\"time\" + 0.008*\"first\" + 0.007*\"see\" + 0.007*\"would\"\n",
      "2017-04-12 02:11:16,240 : INFO : topic #9 (0.100): 0.015*\"like\" + 0.010*\"get\" + 0.010*\"would\" + 0.009*\"people\" + 0.009*\"one\" + 0.007*\"know\" + 0.007*\"see\" + 0.007*\"really\" + 0.007*\"could\" + 0.006*\"even\"\n",
      "2017-04-12 02:11:16,242 : INFO : topic #3 (0.100): 0.006*\"charlie\" + 0.005*\"davis\" + 0.004*\"sandler\" + 0.003*\"adam\" + 0.003*\"david\" + 0.003*\"bette\" + 0.003*\"moore\" + 0.003*\"man\" + 0.002*\"sutherland\" + 0.002*\"one\"\n",
      "2017-04-12 02:11:16,243 : INFO : topic #2 (0.100): 0.040*\"film\" + 0.010*\"story\" + 0.010*\"one\" + 0.007*\"characters\" + 0.007*\"films\" + 0.006*\"good\" + 0.006*\"like\" + 0.006*\"well\" + 0.006*\"much\" + 0.006*\"see\"\n",
      "2017-04-12 02:11:16,245 : INFO : topic #6 (0.100): 0.018*\"film\" + 0.015*\"bad\" + 0.012*\"one\" + 0.011*\"like\" + 0.010*\"good\" + 0.010*\"even\" + 0.008*\"acting\" + 0.008*\"really\" + 0.007*\"movies\" + 0.007*\"horror\"\n",
      "2017-04-12 02:11:16,246 : INFO : topic diff=0.056051, rho=0.157135\n",
      "2017-04-12 02:11:16,639 : INFO : PROGRESS: pass 2, at document #10000/75000\n",
      "2017-04-12 02:11:19,347 : INFO : merging changes from 2000 documents into a model of 75000 documents\n",
      "2017-04-12 02:11:19,608 : INFO : topic #3 (0.100): 0.006*\"charlie\" + 0.005*\"davis\" + 0.004*\"sandler\" + 0.003*\"adam\" + 0.003*\"david\" + 0.003*\"bette\" + 0.003*\"alan\" + 0.003*\"washington\" + 0.003*\"man\" + 0.002*\"sutherland\"\n",
      "2017-04-12 02:11:19,609 : INFO : topic #5 (0.100): 0.007*\"one\" + 0.006*\"man\" + 0.006*\"film\" + 0.005*\"john\" + 0.004*\"role\" + 0.004*\"also\" + 0.004*\"plays\" + 0.004*\"jack\" + 0.003*\"dr\" + 0.003*\"western\"\n",
      "2017-04-12 02:11:19,611 : INFO : topic #1 (0.100): 0.008*\"character\" + 0.008*\"one\" + 0.008*\"comedy\" + 0.007*\"film\" + 0.006*\"cast\" + 0.005*\"role\" + 0.005*\"script\" + 0.005*\"even\" + 0.005*\"actor\" + 0.005*\"funny\"\n",
      "2017-04-12 02:11:19,613 : INFO : topic #7 (0.100): 0.008*\"film\" + 0.007*\"love\" + 0.007*\"one\" + 0.007*\"music\" + 0.005*\"version\" + 0.005*\"story\" + 0.005*\"beautiful\" + 0.005*\"novel\" + 0.004*\"musical\" + 0.004*\"book\"\n",
      "2017-04-12 02:11:19,614 : INFO : topic #0 (0.100): 0.009*\"film\" + 0.005*\"war\" + 0.005*\"life\" + 0.005*\"man\" + 0.005*\"young\" + 0.005*\"one\" + 0.004*\"family\" + 0.004*\"world\" + 0.003*\"men\" + 0.003*\"father\"\n",
      "2017-04-12 02:11:19,616 : INFO : topic diff=0.053058, rho=0.157135\n",
      "2017-04-12 02:11:20,021 : INFO : PROGRESS: pass 2, at document #12000/75000\n",
      "2017-04-12 02:11:22,711 : INFO : merging changes from 2000 documents into a model of 75000 documents\n",
      "2017-04-12 02:11:22,964 : INFO : topic #9 (0.100): 0.015*\"like\" + 0.010*\"get\" + 0.010*\"would\" + 0.009*\"people\" + 0.009*\"one\" + 0.007*\"know\" + 0.007*\"see\" + 0.007*\"really\" + 0.007*\"could\" + 0.006*\"think\"\n",
      "2017-04-12 02:11:22,966 : INFO : topic #7 (0.100): 0.008*\"film\" + 0.007*\"love\" + 0.007*\"one\" + 0.006*\"music\" + 0.005*\"version\" + 0.005*\"story\" + 0.005*\"novel\" + 0.005*\"beautiful\" + 0.004*\"musical\" + 0.004*\"book\"\n",
      "2017-04-12 02:11:22,968 : INFO : topic #3 (0.100): 0.006*\"charlie\" + 0.005*\"davis\" + 0.003*\"sandler\" + 0.003*\"david\" + 0.003*\"adam\" + 0.003*\"alan\" + 0.003*\"bette\" + 0.003*\"sutherland\" + 0.003*\"man\" + 0.003*\"washington\"\n",
      "2017-04-12 02:11:22,970 : INFO : topic #8 (0.100): 0.014*\"show\" + 0.012*\"one\" + 0.011*\"great\" + 0.009*\"like\" + 0.008*\"series\" + 0.008*\"good\" + 0.008*\"time\" + 0.008*\"first\" + 0.007*\"see\" + 0.007*\"would\"\n",
      "2017-04-12 02:11:22,971 : INFO : topic #1 (0.100): 0.008*\"character\" + 0.008*\"one\" + 0.007*\"comedy\" + 0.006*\"film\" + 0.006*\"cast\" + 0.005*\"script\" + 0.005*\"role\" + 0.005*\"even\" + 0.005*\"actor\" + 0.004*\"funny\"\n",
      "2017-04-12 02:11:22,973 : INFO : topic diff=0.053274, rho=0.157135\n",
      "2017-04-12 02:11:24,407 : INFO : PROGRESS: pass 2, at document #14000/75000\n",
      "2017-04-12 02:11:27,108 : INFO : merging changes from 2000 documents into a model of 75000 documents\n",
      "2017-04-12 02:11:27,358 : INFO : topic #2 (0.100): 0.039*\"film\" + 0.010*\"story\" + 0.010*\"one\" + 0.007*\"characters\" + 0.006*\"films\" + 0.006*\"like\" + 0.006*\"well\" + 0.006*\"good\" + 0.006*\"much\" + 0.005*\"see\"\n",
      "2017-04-12 02:11:27,359 : INFO : topic #9 (0.100): 0.015*\"like\" + 0.010*\"get\" + 0.010*\"would\" + 0.009*\"people\" + 0.009*\"one\" + 0.007*\"know\" + 0.007*\"see\" + 0.007*\"really\" + 0.007*\"could\" + 0.006*\"think\"\n",
      "2017-04-12 02:11:27,361 : INFO : topic #7 (0.100): 0.008*\"film\" + 0.007*\"love\" + 0.007*\"one\" + 0.006*\"music\" + 0.005*\"version\" + 0.005*\"story\" + 0.005*\"novel\" + 0.005*\"beautiful\" + 0.004*\"musical\" + 0.004*\"book\"\n",
      "2017-04-12 02:11:27,363 : INFO : topic #3 (0.100): 0.006*\"charlie\" + 0.005*\"davis\" + 0.003*\"david\" + 0.003*\"alan\" + 0.003*\"adam\" + 0.003*\"sandler\" + 0.003*\"washington\" + 0.003*\"sutherland\" + 0.003*\"bette\" + 0.003*\"man\"\n",
      "2017-04-12 02:11:27,364 : INFO : topic #6 (0.100): 0.018*\"film\" + 0.015*\"bad\" + 0.012*\"one\" + 0.011*\"like\" + 0.010*\"good\" + 0.010*\"even\" + 0.008*\"acting\" + 0.008*\"really\" + 0.007*\"movies\" + 0.007*\"horror\"\n",
      "2017-04-12 02:11:27,366 : INFO : topic diff=0.053672, rho=0.157135\n",
      "2017-04-12 02:11:27,756 : INFO : PROGRESS: pass 2, at document #16000/75000\n",
      "2017-04-12 02:11:30,479 : INFO : merging changes from 2000 documents into a model of 75000 documents\n",
      "2017-04-12 02:11:30,736 : INFO : topic #2 (0.100): 0.039*\"film\" + 0.011*\"story\" + 0.010*\"one\" + 0.007*\"characters\" + 0.006*\"films\" + 0.006*\"like\" + 0.006*\"well\" + 0.006*\"good\" + 0.006*\"much\" + 0.005*\"see\"\n",
      "2017-04-12 02:11:30,738 : INFO : topic #3 (0.100): 0.005*\"charlie\" + 0.005*\"davis\" + 0.004*\"david\" + 0.004*\"adam\" + 0.004*\"sandler\" + 0.003*\"alan\" + 0.003*\"washington\" + 0.003*\"sutherland\" + 0.003*\"man\" + 0.003*\"bette\"\n",
      "2017-04-12 02:11:30,739 : INFO : topic #4 (0.100): 0.012*\"action\" + 0.007*\"one\" + 0.006*\"film\" + 0.005*\"police\" + 0.004*\"fight\" + 0.004*\"also\" + 0.004*\"scenes\" + 0.004*\"plot\" + 0.004*\"car\" + 0.003*\"lee\"\n",
      "2017-04-12 02:11:30,741 : INFO : topic #8 (0.100): 0.014*\"show\" + 0.012*\"one\" + 0.011*\"great\" + 0.009*\"like\" + 0.009*\"series\" + 0.009*\"good\" + 0.008*\"time\" + 0.008*\"first\" + 0.007*\"would\" + 0.007*\"see\"\n",
      "2017-04-12 02:11:30,743 : INFO : topic #7 (0.100): 0.008*\"film\" + 0.007*\"love\" + 0.007*\"one\" + 0.007*\"music\" + 0.005*\"version\" + 0.005*\"story\" + 0.005*\"novel\" + 0.004*\"beautiful\" + 0.004*\"musical\" + 0.004*\"book\"\n",
      "2017-04-12 02:11:30,746 : INFO : topic diff=0.052132, rho=0.157135\n",
      "2017-04-12 02:11:31,189 : INFO : PROGRESS: pass 2, at document #18000/75000\n",
      "2017-04-12 02:11:34,095 : INFO : merging changes from 2000 documents into a model of 75000 documents\n",
      "2017-04-12 02:11:34,415 : INFO : topic #6 (0.100): 0.018*\"film\" + 0.016*\"bad\" + 0.012*\"one\" + 0.011*\"like\" + 0.010*\"good\" + 0.010*\"even\" + 0.008*\"acting\" + 0.008*\"really\" + 0.007*\"movies\" + 0.007*\"horror\"\n",
      "2017-04-12 02:11:34,418 : INFO : topic #0 (0.100): 0.008*\"film\" + 0.005*\"life\" + 0.005*\"war\" + 0.005*\"man\" + 0.005*\"young\" + 0.005*\"one\" + 0.005*\"family\" + 0.004*\"world\" + 0.003*\"father\" + 0.003*\"men\"\n",
      "2017-04-12 02:11:34,421 : INFO : topic #8 (0.100): 0.014*\"show\" + 0.012*\"one\" + 0.011*\"great\" + 0.009*\"like\" + 0.009*\"series\" + 0.009*\"good\" + 0.008*\"time\" + 0.008*\"first\" + 0.007*\"would\" + 0.007*\"see\"\n",
      "2017-04-12 02:11:34,423 : INFO : topic #2 (0.100): 0.039*\"film\" + 0.011*\"story\" + 0.010*\"one\" + 0.007*\"characters\" + 0.006*\"films\" + 0.006*\"like\" + 0.006*\"well\" + 0.006*\"good\" + 0.006*\"much\" + 0.005*\"see\"\n",
      "2017-04-12 02:11:34,424 : INFO : topic #4 (0.100): 0.012*\"action\" + 0.007*\"one\" + 0.006*\"film\" + 0.005*\"police\" + 0.004*\"fight\" + 0.004*\"also\" + 0.004*\"scenes\" + 0.004*\"car\" + 0.004*\"plot\" + 0.004*\"killer\"\n",
      "2017-04-12 02:11:34,426 : INFO : topic diff=0.050873, rho=0.157135\n",
      "2017-04-12 02:11:44,432 : INFO : -8.552 per-word bound, 375.4 perplexity estimate based on a held-out corpus of 2000 documents with 221882 words\n",
      "2017-04-12 02:11:44,433 : INFO : PROGRESS: pass 2, at document #20000/75000\n",
      "2017-04-12 02:11:47,118 : INFO : merging changes from 2000 documents into a model of 75000 documents\n",
      "2017-04-12 02:11:47,370 : INFO : topic #4 (0.100): 0.012*\"action\" + 0.007*\"one\" + 0.006*\"film\" + 0.005*\"police\" + 0.004*\"fight\" + 0.004*\"also\" + 0.004*\"scenes\" + 0.004*\"car\" + 0.004*\"plot\" + 0.003*\"killer\"\n",
      "2017-04-12 02:11:47,371 : INFO : topic #0 (0.100): 0.009*\"film\" + 0.005*\"life\" + 0.005*\"war\" + 0.005*\"man\" + 0.005*\"young\" + 0.005*\"one\" + 0.005*\"family\" + 0.004*\"world\" + 0.003*\"father\" + 0.003*\"men\"\n",
      "2017-04-12 02:11:47,373 : INFO : topic #3 (0.100): 0.006*\"davis\" + 0.004*\"charlie\" + 0.004*\"david\" + 0.003*\"adam\" + 0.003*\"washington\" + 0.003*\"bette\" + 0.003*\"sandler\" + 0.003*\"man\" + 0.003*\"sutherland\" + 0.003*\"alan\"\n",
      "2017-04-12 02:11:47,374 : INFO : topic #5 (0.100): 0.007*\"one\" + 0.006*\"man\" + 0.005*\"film\" + 0.004*\"john\" + 0.004*\"role\" + 0.004*\"also\" + 0.004*\"jack\" + 0.004*\"plays\" + 0.003*\"dr\" + 0.003*\"wife\"\n",
      "2017-04-12 02:11:47,376 : INFO : topic #8 (0.100): 0.014*\"show\" + 0.012*\"one\" + 0.011*\"great\" + 0.009*\"like\" + 0.009*\"series\" + 0.009*\"good\" + 0.008*\"time\" + 0.008*\"first\" + 0.007*\"would\" + 0.007*\"see\"\n",
      "2017-04-12 02:11:47,378 : INFO : topic diff=0.049256, rho=0.157135\n",
      "2017-04-12 02:11:47,788 : INFO : PROGRESS: pass 2, at document #22000/75000\n",
      "2017-04-12 02:11:50,510 : INFO : merging changes from 2000 documents into a model of 75000 documents\n",
      "2017-04-12 02:11:50,758 : INFO : topic #7 (0.100): 0.008*\"film\" + 0.008*\"love\" + 0.007*\"one\" + 0.006*\"music\" + 0.005*\"version\" + 0.005*\"story\" + 0.005*\"musical\" + 0.005*\"novel\" + 0.004*\"beautiful\" + 0.004*\"book\"\n",
      "2017-04-12 02:11:50,760 : INFO : topic #6 (0.100): 0.018*\"film\" + 0.015*\"bad\" + 0.012*\"one\" + 0.011*\"like\" + 0.010*\"good\" + 0.010*\"even\" + 0.008*\"acting\" + 0.007*\"really\" + 0.007*\"movies\" + 0.007*\"horror\"\n",
      "2017-04-12 02:11:50,762 : INFO : topic #3 (0.100): 0.006*\"charlie\" + 0.005*\"davis\" + 0.004*\"adam\" + 0.003*\"david\" + 0.003*\"sandler\" + 0.003*\"washington\" + 0.003*\"bette\" + 0.003*\"man\" + 0.003*\"dan\" + 0.003*\"role\"\n",
      "2017-04-12 02:11:50,763 : INFO : topic #5 (0.100): 0.007*\"one\" + 0.006*\"man\" + 0.005*\"film\" + 0.004*\"john\" + 0.004*\"role\" + 0.004*\"also\" + 0.004*\"plays\" + 0.004*\"jack\" + 0.003*\"wife\" + 0.003*\"dr\"\n",
      "2017-04-12 02:11:50,765 : INFO : topic #4 (0.100): 0.012*\"action\" + 0.007*\"one\" + 0.006*\"film\" + 0.005*\"police\" + 0.004*\"fight\" + 0.004*\"also\" + 0.004*\"scenes\" + 0.004*\"plot\" + 0.004*\"killer\" + 0.003*\"lee\"\n",
      "2017-04-12 02:11:50,767 : INFO : topic diff=0.052353, rho=0.157135\n",
      "2017-04-12 02:11:51,163 : INFO : PROGRESS: pass 2, at document #24000/75000\n",
      "2017-04-12 02:11:53,986 : INFO : merging changes from 2000 documents into a model of 75000 documents\n",
      "2017-04-12 02:11:54,232 : INFO : topic #5 (0.100): 0.007*\"one\" + 0.006*\"man\" + 0.005*\"film\" + 0.004*\"john\" + 0.004*\"also\" + 0.004*\"role\" + 0.004*\"jack\" + 0.004*\"plays\" + 0.003*\"wife\" + 0.003*\"dr\"\n",
      "2017-04-12 02:11:54,234 : INFO : topic #4 (0.100): 0.012*\"action\" + 0.007*\"one\" + 0.006*\"film\" + 0.005*\"police\" + 0.004*\"fight\" + 0.004*\"also\" + 0.004*\"scenes\" + 0.004*\"plot\" + 0.004*\"killer\" + 0.003*\"good\"\n",
      "2017-04-12 02:11:54,237 : INFO : topic #3 (0.100): 0.006*\"davis\" + 0.006*\"charlie\" + 0.004*\"sandler\" + 0.004*\"david\" + 0.004*\"adam\" + 0.003*\"washington\" + 0.003*\"bette\" + 0.003*\"man\" + 0.003*\"role\" + 0.003*\"brando\"\n",
      "2017-04-12 02:11:54,238 : INFO : topic #9 (0.100): 0.014*\"like\" + 0.010*\"get\" + 0.010*\"would\" + 0.009*\"one\" + 0.009*\"people\" + 0.007*\"know\" + 0.007*\"see\" + 0.007*\"really\" + 0.007*\"could\" + 0.006*\"even\"\n",
      "2017-04-12 02:11:54,240 : INFO : topic #2 (0.100): 0.039*\"film\" + 0.011*\"story\" + 0.010*\"one\" + 0.007*\"characters\" + 0.006*\"films\" + 0.006*\"like\" + 0.006*\"well\" + 0.006*\"good\" + 0.006*\"much\" + 0.005*\"see\"\n",
      "2017-04-12 02:11:54,242 : INFO : topic diff=0.049205, rho=0.157135\n",
      "2017-04-12 02:11:54,654 : INFO : PROGRESS: pass 2, at document #26000/75000\n",
      "2017-04-12 02:11:57,385 : INFO : merging changes from 2000 documents into a model of 75000 documents\n",
      "2017-04-12 02:11:57,626 : INFO : topic #8 (0.100): 0.014*\"show\" + 0.012*\"one\" + 0.011*\"great\" + 0.009*\"like\" + 0.009*\"series\" + 0.009*\"good\" + 0.008*\"time\" + 0.008*\"first\" + 0.007*\"see\" + 0.007*\"would\"\n",
      "2017-04-12 02:11:57,628 : INFO : topic #3 (0.100): 0.006*\"davis\" + 0.006*\"charlie\" + 0.004*\"adam\" + 0.004*\"david\" + 0.003*\"sandler\" + 0.003*\"bette\" + 0.003*\"washington\" + 0.003*\"role\" + 0.003*\"man\" + 0.003*\"sutherland\"\n",
      "2017-04-12 02:11:57,630 : INFO : topic #7 (0.100): 0.008*\"film\" + 0.008*\"love\" + 0.007*\"one\" + 0.006*\"music\" + 0.006*\"version\" + 0.005*\"story\" + 0.005*\"musical\" + 0.005*\"novel\" + 0.005*\"beautiful\" + 0.004*\"book\"\n",
      "2017-04-12 02:11:57,632 : INFO : topic #1 (0.100): 0.009*\"character\" + 0.008*\"comedy\" + 0.008*\"one\" + 0.007*\"cast\" + 0.006*\"film\" + 0.006*\"role\" + 0.005*\"script\" + 0.005*\"even\" + 0.005*\"actor\" + 0.004*\"funny\"\n",
      "2017-04-12 02:11:57,633 : INFO : topic #0 (0.100): 0.009*\"film\" + 0.005*\"life\" + 0.005*\"man\" + 0.005*\"war\" + 0.005*\"young\" + 0.005*\"one\" + 0.005*\"family\" + 0.004*\"world\" + 0.004*\"father\" + 0.003*\"men\"\n",
      "2017-04-12 02:11:57,636 : INFO : topic diff=0.050039, rho=0.157135\n",
      "2017-04-12 02:11:58,099 : INFO : PROGRESS: pass 2, at document #28000/75000\n",
      "2017-04-12 02:12:00,801 : INFO : merging changes from 2000 documents into a model of 75000 documents\n",
      "2017-04-12 02:12:01,038 : INFO : topic #6 (0.100): 0.018*\"film\" + 0.015*\"bad\" + 0.013*\"one\" + 0.011*\"like\" + 0.010*\"good\" + 0.010*\"even\" + 0.008*\"acting\" + 0.007*\"movies\" + 0.007*\"really\" + 0.006*\"horror\"\n",
      "2017-04-12 02:12:01,040 : INFO : topic #1 (0.100): 0.009*\"character\" + 0.008*\"comedy\" + 0.008*\"one\" + 0.007*\"cast\" + 0.006*\"film\" + 0.006*\"role\" + 0.005*\"script\" + 0.005*\"even\" + 0.005*\"actor\" + 0.005*\"funny\"\n",
      "2017-04-12 02:12:01,041 : INFO : topic #5 (0.100): 0.007*\"one\" + 0.006*\"man\" + 0.005*\"film\" + 0.005*\"john\" + 0.004*\"role\" + 0.004*\"also\" + 0.004*\"plays\" + 0.004*\"jack\" + 0.003*\"dr\" + 0.003*\"wife\"\n",
      "2017-04-12 02:12:01,042 : INFO : topic #9 (0.100): 0.014*\"like\" + 0.010*\"get\" + 0.010*\"would\" + 0.009*\"one\" + 0.009*\"people\" + 0.007*\"see\" + 0.007*\"know\" + 0.007*\"really\" + 0.007*\"could\" + 0.006*\"even\"\n",
      "2017-04-12 02:12:01,044 : INFO : topic #8 (0.100): 0.014*\"show\" + 0.012*\"one\" + 0.011*\"great\" + 0.009*\"like\" + 0.009*\"series\" + 0.009*\"good\" + 0.008*\"first\" + 0.008*\"time\" + 0.007*\"see\" + 0.007*\"would\"\n",
      "2017-04-12 02:12:01,046 : INFO : topic diff=0.055684, rho=0.157135\n",
      "2017-04-12 02:12:01,452 : INFO : PROGRESS: pass 2, at document #30000/75000\n",
      "2017-04-12 02:12:04,138 : INFO : merging changes from 2000 documents into a model of 75000 documents\n",
      "2017-04-12 02:12:04,371 : INFO : topic #1 (0.100): 0.009*\"character\" + 0.008*\"comedy\" + 0.008*\"one\" + 0.007*\"cast\" + 0.006*\"film\" + 0.006*\"script\" + 0.005*\"role\" + 0.005*\"even\" + 0.005*\"actor\" + 0.005*\"funny\"\n",
      "2017-04-12 02:12:04,373 : INFO : topic #3 (0.100): 0.007*\"davis\" + 0.006*\"charlie\" + 0.004*\"adam\" + 0.004*\"moore\" + 0.004*\"david\" + 0.003*\"sandler\" + 0.003*\"bette\" + 0.003*\"role\" + 0.003*\"washington\" + 0.003*\"man\"\n",
      "2017-04-12 02:12:04,375 : INFO : topic #0 (0.100): 0.009*\"film\" + 0.005*\"life\" + 0.005*\"war\" + 0.005*\"man\" + 0.005*\"young\" + 0.005*\"one\" + 0.005*\"family\" + 0.004*\"world\" + 0.003*\"father\" + 0.003*\"men\"\n",
      "2017-04-12 02:12:04,377 : INFO : topic #2 (0.100): 0.039*\"film\" + 0.011*\"story\" + 0.010*\"one\" + 0.007*\"characters\" + 0.006*\"films\" + 0.006*\"well\" + 0.006*\"like\" + 0.006*\"good\" + 0.006*\"much\" + 0.006*\"see\"\n",
      "2017-04-12 02:12:04,379 : INFO : topic #6 (0.100): 0.018*\"film\" + 0.015*\"bad\" + 0.013*\"one\" + 0.011*\"like\" + 0.010*\"good\" + 0.010*\"even\" + 0.008*\"acting\" + 0.008*\"really\" + 0.007*\"movies\" + 0.007*\"horror\"\n",
      "2017-04-12 02:12:04,381 : INFO : topic diff=0.051175, rho=0.157135\n",
      "2017-04-12 02:12:04,872 : INFO : PROGRESS: pass 2, at document #32000/75000\n",
      "2017-04-12 02:12:07,694 : INFO : merging changes from 2000 documents into a model of 75000 documents\n",
      "2017-04-12 02:12:07,944 : INFO : topic #7 (0.100): 0.008*\"film\" + 0.008*\"love\" + 0.007*\"one\" + 0.006*\"music\" + 0.005*\"version\" + 0.005*\"novel\" + 0.005*\"story\" + 0.005*\"book\" + 0.004*\"beautiful\" + 0.004*\"musical\"\n",
      "2017-04-12 02:12:07,945 : INFO : topic #4 (0.100): 0.012*\"action\" + 0.007*\"one\" + 0.006*\"film\" + 0.004*\"fight\" + 0.004*\"police\" + 0.004*\"also\" + 0.004*\"scenes\" + 0.004*\"plot\" + 0.004*\"killer\" + 0.003*\"scene\"\n",
      "2017-04-12 02:12:07,946 : INFO : topic #6 (0.100): 0.018*\"film\" + 0.015*\"bad\" + 0.013*\"one\" + 0.011*\"like\" + 0.010*\"good\" + 0.010*\"even\" + 0.008*\"acting\" + 0.008*\"really\" + 0.007*\"movies\" + 0.007*\"horror\"\n",
      "2017-04-12 02:12:07,948 : INFO : topic #1 (0.100): 0.009*\"character\" + 0.009*\"comedy\" + 0.008*\"one\" + 0.007*\"cast\" + 0.006*\"film\" + 0.005*\"script\" + 0.005*\"role\" + 0.005*\"even\" + 0.005*\"actor\" + 0.005*\"funny\"\n",
      "2017-04-12 02:12:07,950 : INFO : topic #2 (0.100): 0.039*\"film\" + 0.011*\"story\" + 0.010*\"one\" + 0.007*\"characters\" + 0.006*\"films\" + 0.006*\"well\" + 0.006*\"like\" + 0.006*\"good\" + 0.006*\"much\" + 0.006*\"see\"\n",
      "2017-04-12 02:12:07,952 : INFO : topic diff=0.051113, rho=0.157135\n",
      "2017-04-12 02:12:08,403 : INFO : PROGRESS: pass 2, at document #34000/75000\n",
      "2017-04-12 02:12:11,107 : INFO : merging changes from 2000 documents into a model of 75000 documents\n",
      "2017-04-12 02:12:11,329 : INFO : topic #1 (0.100): 0.009*\"character\" + 0.009*\"comedy\" + 0.008*\"one\" + 0.007*\"cast\" + 0.006*\"film\" + 0.006*\"role\" + 0.005*\"script\" + 0.005*\"even\" + 0.005*\"funny\" + 0.005*\"actor\"\n",
      "2017-04-12 02:12:11,330 : INFO : topic #9 (0.100): 0.014*\"like\" + 0.010*\"get\" + 0.010*\"would\" + 0.009*\"one\" + 0.009*\"people\" + 0.007*\"see\" + 0.007*\"know\" + 0.007*\"could\" + 0.007*\"really\" + 0.006*\"even\"\n",
      "2017-04-12 02:12:11,332 : INFO : topic #3 (0.100): 0.006*\"davis\" + 0.006*\"charlie\" + 0.004*\"adam\" + 0.004*\"moore\" + 0.004*\"david\" + 0.003*\"sandler\" + 0.003*\"bette\" + 0.003*\"metal\" + 0.003*\"role\" + 0.003*\"man\"\n",
      "2017-04-12 02:12:11,334 : INFO : topic #6 (0.100): 0.018*\"film\" + 0.016*\"bad\" + 0.013*\"one\" + 0.011*\"like\" + 0.010*\"good\" + 0.010*\"even\" + 0.008*\"acting\" + 0.007*\"really\" + 0.007*\"movies\" + 0.007*\"horror\"\n",
      "2017-04-12 02:12:11,336 : INFO : topic #7 (0.100): 0.008*\"film\" + 0.008*\"love\" + 0.007*\"one\" + 0.007*\"music\" + 0.005*\"version\" + 0.005*\"story\" + 0.005*\"novel\" + 0.005*\"beautiful\" + 0.004*\"book\" + 0.004*\"musical\"\n",
      "2017-04-12 02:12:11,338 : INFO : topic diff=0.049929, rho=0.157135\n",
      "2017-04-12 02:12:11,747 : INFO : PROGRESS: pass 2, at document #36000/75000\n",
      "2017-04-12 02:12:14,512 : INFO : merging changes from 2000 documents into a model of 75000 documents\n",
      "2017-04-12 02:12:14,730 : INFO : topic #7 (0.100): 0.009*\"film\" + 0.008*\"love\" + 0.007*\"music\" + 0.007*\"one\" + 0.005*\"version\" + 0.005*\"novel\" + 0.005*\"story\" + 0.005*\"musical\" + 0.005*\"book\" + 0.005*\"beautiful\"\n",
      "2017-04-12 02:12:14,732 : INFO : topic #4 (0.100): 0.012*\"action\" + 0.007*\"one\" + 0.006*\"film\" + 0.004*\"police\" + 0.004*\"fight\" + 0.004*\"also\" + 0.004*\"scenes\" + 0.004*\"plot\" + 0.003*\"two\" + 0.003*\"scene\"\n",
      "2017-04-12 02:12:14,733 : INFO : topic #1 (0.100): 0.009*\"comedy\" + 0.009*\"character\" + 0.008*\"one\" + 0.007*\"cast\" + 0.007*\"film\" + 0.006*\"role\" + 0.005*\"script\" + 0.005*\"even\" + 0.005*\"funny\" + 0.005*\"actor\"\n",
      "2017-04-12 02:12:14,735 : INFO : topic #6 (0.100): 0.018*\"film\" + 0.016*\"bad\" + 0.013*\"one\" + 0.011*\"like\" + 0.010*\"good\" + 0.009*\"even\" + 0.008*\"acting\" + 0.007*\"really\" + 0.007*\"movies\" + 0.007*\"horror\"\n",
      "2017-04-12 02:12:14,737 : INFO : topic #5 (0.100): 0.007*\"one\" + 0.006*\"man\" + 0.005*\"film\" + 0.005*\"john\" + 0.004*\"role\" + 0.004*\"also\" + 0.003*\"plays\" + 0.003*\"young\" + 0.003*\"jack\" + 0.003*\"dr\"\n",
      "2017-04-12 02:12:14,739 : INFO : topic diff=0.050296, rho=0.157135\n",
      "2017-04-12 02:12:15,212 : INFO : PROGRESS: pass 2, at document #38000/75000\n",
      "2017-04-12 02:12:17,921 : INFO : merging changes from 2000 documents into a model of 75000 documents\n",
      "2017-04-12 02:12:18,139 : INFO : topic #9 (0.100): 0.014*\"like\" + 0.010*\"get\" + 0.010*\"would\" + 0.009*\"one\" + 0.009*\"people\" + 0.007*\"know\" + 0.007*\"see\" + 0.007*\"really\" + 0.007*\"could\" + 0.006*\"even\"\n",
      "2017-04-12 02:12:18,141 : INFO : topic #0 (0.100): 0.008*\"film\" + 0.006*\"war\" + 0.006*\"life\" + 0.005*\"young\" + 0.005*\"man\" + 0.005*\"one\" + 0.004*\"family\" + 0.004*\"world\" + 0.003*\"men\" + 0.003*\"father\"\n",
      "2017-04-12 02:12:18,142 : INFO : topic #4 (0.100): 0.013*\"action\" + 0.007*\"one\" + 0.006*\"film\" + 0.004*\"police\" + 0.004*\"fight\" + 0.004*\"also\" + 0.004*\"scenes\" + 0.004*\"plot\" + 0.003*\"killer\" + 0.003*\"two\"\n",
      "2017-04-12 02:12:18,144 : INFO : topic #5 (0.100): 0.007*\"one\" + 0.006*\"man\" + 0.005*\"film\" + 0.005*\"john\" + 0.004*\"also\" + 0.004*\"role\" + 0.004*\"plays\" + 0.003*\"dr\" + 0.003*\"jack\" + 0.003*\"young\"\n",
      "2017-04-12 02:12:18,146 : INFO : topic #1 (0.100): 0.009*\"character\" + 0.009*\"comedy\" + 0.008*\"one\" + 0.007*\"cast\" + 0.007*\"film\" + 0.006*\"role\" + 0.006*\"script\" + 0.005*\"funny\" + 0.005*\"even\" + 0.005*\"actor\"\n",
      "2017-04-12 02:12:18,148 : INFO : topic diff=0.048972, rho=0.157135\n",
      "2017-04-12 02:12:27,246 : INFO : -8.599 per-word bound, 387.8 perplexity estimate based on a held-out corpus of 2000 documents with 228449 words\n",
      "2017-04-12 02:12:27,247 : INFO : PROGRESS: pass 2, at document #40000/75000\n",
      "2017-04-12 02:12:29,990 : INFO : merging changes from 2000 documents into a model of 75000 documents\n",
      "2017-04-12 02:12:30,202 : INFO : topic #8 (0.100): 0.014*\"show\" + 0.012*\"one\" + 0.011*\"great\" + 0.009*\"like\" + 0.009*\"good\" + 0.009*\"series\" + 0.008*\"first\" + 0.008*\"time\" + 0.007*\"see\" + 0.007*\"would\"\n",
      "2017-04-12 02:12:30,204 : INFO : topic #5 (0.100): 0.007*\"one\" + 0.006*\"man\" + 0.006*\"film\" + 0.005*\"john\" + 0.004*\"role\" + 0.004*\"also\" + 0.004*\"plays\" + 0.003*\"jack\" + 0.003*\"dr\" + 0.003*\"young\"\n",
      "2017-04-12 02:12:30,205 : INFO : topic #2 (0.100): 0.039*\"film\" + 0.011*\"story\" + 0.010*\"one\" + 0.007*\"characters\" + 0.006*\"films\" + 0.006*\"like\" + 0.006*\"well\" + 0.006*\"good\" + 0.006*\"much\" + 0.005*\"see\"\n",
      "2017-04-12 02:12:30,207 : INFO : topic #3 (0.100): 0.006*\"davis\" + 0.006*\"charlie\" + 0.004*\"adam\" + 0.003*\"david\" + 0.003*\"sandler\" + 0.003*\"moore\" + 0.003*\"bette\" + 0.003*\"chuck\" + 0.003*\"khan\" + 0.003*\"metal\"\n",
      "2017-04-12 02:12:30,208 : INFO : topic #6 (0.100): 0.018*\"film\" + 0.016*\"bad\" + 0.013*\"one\" + 0.011*\"like\" + 0.010*\"good\" + 0.009*\"even\" + 0.008*\"acting\" + 0.007*\"really\" + 0.007*\"movies\" + 0.007*\"horror\"\n",
      "2017-04-12 02:12:30,211 : INFO : topic diff=0.050663, rho=0.157135\n",
      "2017-04-12 02:12:30,699 : INFO : PROGRESS: pass 2, at document #42000/75000\n",
      "2017-04-12 02:12:33,387 : INFO : merging changes from 2000 documents into a model of 75000 documents\n",
      "2017-04-12 02:12:33,606 : INFO : topic #5 (0.100): 0.007*\"one\" + 0.006*\"man\" + 0.006*\"film\" + 0.005*\"john\" + 0.004*\"role\" + 0.004*\"also\" + 0.004*\"plays\" + 0.003*\"jack\" + 0.003*\"young\" + 0.003*\"dr\"\n",
      "2017-04-12 02:12:33,608 : INFO : topic #0 (0.100): 0.008*\"film\" + 0.006*\"war\" + 0.005*\"life\" + 0.005*\"man\" + 0.005*\"young\" + 0.005*\"one\" + 0.004*\"family\" + 0.004*\"world\" + 0.003*\"men\" + 0.003*\"american\"\n",
      "2017-04-12 02:12:33,609 : INFO : topic #9 (0.100): 0.014*\"like\" + 0.010*\"get\" + 0.010*\"would\" + 0.009*\"one\" + 0.009*\"people\" + 0.007*\"know\" + 0.007*\"see\" + 0.007*\"could\" + 0.007*\"really\" + 0.006*\"even\"\n",
      "2017-04-12 02:12:33,611 : INFO : topic #1 (0.100): 0.009*\"character\" + 0.009*\"comedy\" + 0.008*\"one\" + 0.007*\"cast\" + 0.007*\"film\" + 0.006*\"role\" + 0.006*\"script\" + 0.005*\"funny\" + 0.005*\"even\" + 0.005*\"actor\"\n",
      "2017-04-12 02:12:33,616 : INFO : topic #7 (0.100): 0.009*\"film\" + 0.008*\"love\" + 0.007*\"music\" + 0.007*\"one\" + 0.005*\"version\" + 0.005*\"novel\" + 0.005*\"book\" + 0.005*\"story\" + 0.005*\"beautiful\" + 0.004*\"musical\"\n",
      "2017-04-12 02:12:33,618 : INFO : topic diff=0.047168, rho=0.157135\n",
      "2017-04-12 02:12:34,062 : INFO : PROGRESS: pass 2, at document #44000/75000\n",
      "2017-04-12 02:12:36,835 : INFO : merging changes from 2000 documents into a model of 75000 documents\n",
      "2017-04-12 02:12:37,053 : INFO : topic #2 (0.100): 0.039*\"film\" + 0.011*\"story\" + 0.010*\"one\" + 0.007*\"characters\" + 0.006*\"films\" + 0.006*\"like\" + 0.006*\"well\" + 0.006*\"good\" + 0.006*\"much\" + 0.005*\"see\"\n",
      "2017-04-12 02:12:37,055 : INFO : topic #6 (0.100): 0.018*\"film\" + 0.016*\"bad\" + 0.012*\"one\" + 0.011*\"like\" + 0.010*\"good\" + 0.010*\"even\" + 0.008*\"acting\" + 0.007*\"movies\" + 0.007*\"really\" + 0.007*\"horror\"\n",
      "2017-04-12 02:12:37,057 : INFO : topic #8 (0.100): 0.014*\"show\" + 0.012*\"one\" + 0.012*\"great\" + 0.009*\"like\" + 0.009*\"good\" + 0.009*\"series\" + 0.008*\"first\" + 0.008*\"time\" + 0.007*\"see\" + 0.007*\"would\"\n",
      "2017-04-12 02:12:37,058 : INFO : topic #0 (0.100): 0.008*\"film\" + 0.006*\"war\" + 0.005*\"life\" + 0.005*\"man\" + 0.005*\"young\" + 0.005*\"one\" + 0.004*\"family\" + 0.004*\"world\" + 0.003*\"men\" + 0.003*\"father\"\n",
      "2017-04-12 02:12:37,060 : INFO : topic #4 (0.100): 0.012*\"action\" + 0.007*\"one\" + 0.006*\"film\" + 0.005*\"police\" + 0.004*\"fight\" + 0.004*\"also\" + 0.004*\"scenes\" + 0.004*\"scene\" + 0.003*\"plot\" + 0.003*\"killer\"\n",
      "2017-04-12 02:12:37,062 : INFO : topic diff=0.048356, rho=0.157135\n",
      "2017-04-12 02:12:37,481 : INFO : PROGRESS: pass 2, at document #46000/75000\n",
      "2017-04-12 02:12:40,177 : INFO : merging changes from 2000 documents into a model of 75000 documents\n",
      "2017-04-12 02:12:40,391 : INFO : topic #2 (0.100): 0.039*\"film\" + 0.011*\"story\" + 0.010*\"one\" + 0.007*\"characters\" + 0.006*\"like\" + 0.006*\"films\" + 0.006*\"well\" + 0.006*\"good\" + 0.006*\"see\" + 0.006*\"much\"\n",
      "2017-04-12 02:12:40,393 : INFO : topic #7 (0.100): 0.008*\"film\" + 0.008*\"love\" + 0.007*\"music\" + 0.007*\"one\" + 0.005*\"novel\" + 0.005*\"book\" + 0.005*\"version\" + 0.005*\"story\" + 0.005*\"beautiful\" + 0.004*\"musical\"\n",
      "2017-04-12 02:12:40,395 : INFO : topic #4 (0.100): 0.013*\"action\" + 0.007*\"one\" + 0.006*\"film\" + 0.005*\"police\" + 0.005*\"fight\" + 0.004*\"also\" + 0.004*\"scenes\" + 0.004*\"cop\" + 0.004*\"scene\" + 0.003*\"plot\"\n",
      "2017-04-12 02:12:40,397 : INFO : topic #3 (0.100): 0.006*\"charlie\" + 0.006*\"davis\" + 0.004*\"adam\" + 0.004*\"david\" + 0.003*\"bette\" + 0.003*\"moore\" + 0.003*\"sandler\" + 0.003*\"hopkins\" + 0.003*\"khan\" + 0.003*\"metal\"\n",
      "2017-04-12 02:12:40,398 : INFO : topic #8 (0.100): 0.014*\"show\" + 0.012*\"one\" + 0.012*\"great\" + 0.009*\"like\" + 0.009*\"good\" + 0.009*\"series\" + 0.008*\"first\" + 0.008*\"time\" + 0.007*\"see\" + 0.007*\"would\"\n",
      "2017-04-12 02:12:40,400 : INFO : topic diff=0.048464, rho=0.157135\n",
      "2017-04-12 02:12:40,878 : INFO : PROGRESS: pass 2, at document #48000/75000\n",
      "2017-04-12 02:12:43,589 : INFO : merging changes from 2000 documents into a model of 75000 documents\n",
      "2017-04-12 02:12:43,805 : INFO : topic #4 (0.100): 0.013*\"action\" + 0.007*\"one\" + 0.006*\"film\" + 0.005*\"fight\" + 0.004*\"police\" + 0.004*\"scenes\" + 0.004*\"also\" + 0.004*\"cop\" + 0.004*\"scene\" + 0.003*\"plot\"\n",
      "2017-04-12 02:12:43,806 : INFO : topic #5 (0.100): 0.007*\"one\" + 0.006*\"man\" + 0.005*\"film\" + 0.005*\"john\" + 0.004*\"role\" + 0.004*\"also\" + 0.004*\"plays\" + 0.003*\"young\" + 0.003*\"jack\" + 0.003*\"dr\"\n",
      "2017-04-12 02:12:43,808 : INFO : topic #0 (0.100): 0.008*\"film\" + 0.006*\"war\" + 0.005*\"life\" + 0.005*\"man\" + 0.005*\"young\" + 0.005*\"one\" + 0.004*\"family\" + 0.004*\"world\" + 0.003*\"father\" + 0.003*\"men\"\n",
      "2017-04-12 02:12:43,810 : INFO : topic #1 (0.100): 0.009*\"comedy\" + 0.009*\"character\" + 0.008*\"one\" + 0.007*\"cast\" + 0.006*\"film\" + 0.006*\"role\" + 0.005*\"script\" + 0.005*\"funny\" + 0.005*\"even\" + 0.005*\"performance\"\n",
      "2017-04-12 02:12:43,811 : INFO : topic #2 (0.100): 0.039*\"film\" + 0.011*\"story\" + 0.010*\"one\" + 0.007*\"characters\" + 0.006*\"like\" + 0.006*\"well\" + 0.006*\"films\" + 0.006*\"good\" + 0.006*\"see\" + 0.006*\"much\"\n",
      "2017-04-12 02:12:43,813 : INFO : topic diff=0.047434, rho=0.157135\n",
      "2017-04-12 02:12:44,284 : INFO : PROGRESS: pass 2, at document #50000/75000\n",
      "2017-04-12 02:12:46,989 : INFO : merging changes from 2000 documents into a model of 75000 documents\n",
      "2017-04-12 02:12:47,203 : INFO : topic #9 (0.100): 0.015*\"like\" + 0.010*\"get\" + 0.010*\"would\" + 0.009*\"one\" + 0.009*\"people\" + 0.007*\"know\" + 0.007*\"see\" + 0.007*\"could\" + 0.007*\"really\" + 0.006*\"even\"\n",
      "2017-04-12 02:12:47,204 : INFO : topic #2 (0.100): 0.039*\"film\" + 0.011*\"story\" + 0.010*\"one\" + 0.007*\"characters\" + 0.006*\"like\" + 0.006*\"well\" + 0.006*\"films\" + 0.006*\"good\" + 0.006*\"much\" + 0.006*\"see\"\n",
      "2017-04-12 02:12:47,206 : INFO : topic #8 (0.100): 0.014*\"show\" + 0.012*\"one\" + 0.011*\"great\" + 0.009*\"like\" + 0.009*\"good\" + 0.009*\"series\" + 0.008*\"first\" + 0.008*\"time\" + 0.008*\"see\" + 0.007*\"would\"\n",
      "2017-04-12 02:12:47,207 : INFO : topic #0 (0.100): 0.008*\"film\" + 0.006*\"war\" + 0.005*\"life\" + 0.005*\"man\" + 0.005*\"young\" + 0.005*\"one\" + 0.005*\"family\" + 0.004*\"world\" + 0.003*\"father\" + 0.003*\"men\"\n",
      "2017-04-12 02:12:47,209 : INFO : topic #5 (0.100): 0.007*\"one\" + 0.006*\"man\" + 0.005*\"film\" + 0.005*\"john\" + 0.004*\"role\" + 0.004*\"also\" + 0.004*\"plays\" + 0.004*\"young\" + 0.003*\"jack\" + 0.003*\"wife\"\n",
      "2017-04-12 02:12:47,211 : INFO : topic diff=0.045233, rho=0.157135\n",
      "2017-04-12 02:12:47,606 : INFO : PROGRESS: pass 2, at document #52000/75000\n",
      "2017-04-12 02:12:50,387 : INFO : merging changes from 2000 documents into a model of 75000 documents\n",
      "2017-04-12 02:12:50,606 : INFO : topic #6 (0.100): 0.018*\"film\" + 0.016*\"bad\" + 0.013*\"one\" + 0.011*\"like\" + 0.010*\"good\" + 0.010*\"even\" + 0.008*\"acting\" + 0.008*\"movies\" + 0.007*\"really\" + 0.007*\"horror\"\n",
      "2017-04-12 02:12:50,608 : INFO : topic #4 (0.100): 0.013*\"action\" + 0.007*\"one\" + 0.006*\"film\" + 0.004*\"police\" + 0.004*\"fight\" + 0.004*\"scenes\" + 0.004*\"also\" + 0.004*\"scene\" + 0.004*\"cop\" + 0.003*\"plot\"\n",
      "2017-04-12 02:12:50,610 : INFO : topic #5 (0.100): 0.007*\"one\" + 0.006*\"man\" + 0.005*\"film\" + 0.005*\"john\" + 0.004*\"role\" + 0.004*\"also\" + 0.004*\"plays\" + 0.003*\"young\" + 0.003*\"dr\" + 0.003*\"wife\"\n",
      "2017-04-12 02:12:50,611 : INFO : topic #9 (0.100): 0.015*\"like\" + 0.010*\"get\" + 0.010*\"would\" + 0.009*\"one\" + 0.009*\"people\" + 0.007*\"see\" + 0.007*\"know\" + 0.007*\"could\" + 0.007*\"really\" + 0.006*\"even\"\n",
      "2017-04-12 02:12:50,613 : INFO : topic #3 (0.100): 0.005*\"davis\" + 0.005*\"charlie\" + 0.005*\"adam\" + 0.004*\"sandler\" + 0.004*\"david\" + 0.004*\"khan\" + 0.003*\"hopkins\" + 0.003*\"metal\" + 0.003*\"bette\" + 0.003*\"moore\"\n",
      "2017-04-12 02:12:50,616 : INFO : topic diff=0.044289, rho=0.157135\n",
      "2017-04-12 02:12:51,095 : INFO : PROGRESS: pass 2, at document #54000/75000\n",
      "2017-04-12 02:12:53,894 : INFO : merging changes from 2000 documents into a model of 75000 documents\n",
      "2017-04-12 02:12:54,121 : INFO : topic #2 (0.100): 0.039*\"film\" + 0.011*\"story\" + 0.010*\"one\" + 0.007*\"characters\" + 0.006*\"films\" + 0.006*\"like\" + 0.006*\"well\" + 0.006*\"good\" + 0.006*\"much\" + 0.006*\"see\"\n",
      "2017-04-12 02:12:54,123 : INFO : topic #6 (0.100): 0.018*\"film\" + 0.016*\"bad\" + 0.013*\"one\" + 0.011*\"like\" + 0.010*\"good\" + 0.010*\"even\" + 0.008*\"acting\" + 0.007*\"movies\" + 0.007*\"really\" + 0.007*\"horror\"\n",
      "2017-04-12 02:12:54,125 : INFO : topic #4 (0.100): 0.013*\"action\" + 0.007*\"one\" + 0.006*\"film\" + 0.005*\"fight\" + 0.004*\"police\" + 0.004*\"scenes\" + 0.004*\"also\" + 0.004*\"scene\" + 0.004*\"cop\" + 0.004*\"car\"\n",
      "2017-04-12 02:12:54,126 : INFO : topic #1 (0.100): 0.009*\"comedy\" + 0.009*\"character\" + 0.008*\"one\" + 0.007*\"cast\" + 0.006*\"film\" + 0.006*\"role\" + 0.006*\"funny\" + 0.005*\"script\" + 0.005*\"even\" + 0.005*\"performance\"\n",
      "2017-04-12 02:12:54,128 : INFO : topic #8 (0.100): 0.014*\"show\" + 0.012*\"one\" + 0.012*\"great\" + 0.009*\"like\" + 0.009*\"good\" + 0.009*\"series\" + 0.008*\"first\" + 0.008*\"time\" + 0.008*\"see\" + 0.007*\"would\"\n",
      "2017-04-12 02:12:54,129 : INFO : topic diff=0.045244, rho=0.157135\n",
      "2017-04-12 02:12:54,594 : INFO : PROGRESS: pass 2, at document #56000/75000\n",
      "2017-04-12 02:12:57,518 : INFO : merging changes from 2000 documents into a model of 75000 documents\n",
      "2017-04-12 02:12:57,736 : INFO : topic #5 (0.100): 0.007*\"one\" + 0.006*\"man\" + 0.005*\"film\" + 0.005*\"john\" + 0.004*\"also\" + 0.004*\"role\" + 0.004*\"plays\" + 0.004*\"young\" + 0.003*\"wife\" + 0.003*\"jack\"\n",
      "2017-04-12 02:12:57,738 : INFO : topic #0 (0.100): 0.008*\"film\" + 0.006*\"war\" + 0.005*\"life\" + 0.005*\"man\" + 0.005*\"young\" + 0.005*\"one\" + 0.004*\"family\" + 0.004*\"world\" + 0.004*\"american\" + 0.003*\"men\"\n",
      "2017-04-12 02:12:57,739 : INFO : topic #2 (0.100): 0.039*\"film\" + 0.011*\"story\" + 0.010*\"one\" + 0.007*\"characters\" + 0.006*\"films\" + 0.006*\"well\" + 0.006*\"like\" + 0.006*\"good\" + 0.006*\"much\" + 0.005*\"see\"\n",
      "2017-04-12 02:12:57,741 : INFO : topic #6 (0.100): 0.018*\"film\" + 0.016*\"bad\" + 0.013*\"one\" + 0.011*\"like\" + 0.010*\"good\" + 0.010*\"even\" + 0.008*\"acting\" + 0.008*\"movies\" + 0.007*\"really\" + 0.007*\"horror\"\n",
      "2017-04-12 02:12:57,743 : INFO : topic #8 (0.100): 0.014*\"show\" + 0.012*\"one\" + 0.012*\"great\" + 0.009*\"like\" + 0.009*\"series\" + 0.009*\"good\" + 0.008*\"first\" + 0.008*\"time\" + 0.008*\"see\" + 0.007*\"would\"\n",
      "2017-04-12 02:12:57,746 : INFO : topic diff=0.044200, rho=0.157135\n",
      "2017-04-12 02:12:58,205 : INFO : PROGRESS: pass 2, at document #58000/75000\n",
      "2017-04-12 02:13:01,134 : INFO : merging changes from 2000 documents into a model of 75000 documents\n",
      "2017-04-12 02:13:01,357 : INFO : topic #4 (0.100): 0.013*\"action\" + 0.007*\"one\" + 0.006*\"film\" + 0.004*\"police\" + 0.004*\"fight\" + 0.004*\"also\" + 0.004*\"scenes\" + 0.004*\"two\" + 0.004*\"plot\" + 0.004*\"scene\"\n",
      "2017-04-12 02:13:01,359 : INFO : topic #8 (0.100): 0.014*\"show\" + 0.012*\"one\" + 0.012*\"great\" + 0.010*\"like\" + 0.009*\"series\" + 0.009*\"good\" + 0.008*\"first\" + 0.008*\"time\" + 0.008*\"see\" + 0.007*\"would\"\n",
      "2017-04-12 02:13:01,360 : INFO : topic #2 (0.100): 0.039*\"film\" + 0.011*\"story\" + 0.010*\"one\" + 0.007*\"characters\" + 0.006*\"films\" + 0.006*\"well\" + 0.006*\"like\" + 0.006*\"good\" + 0.006*\"much\" + 0.005*\"see\"\n",
      "2017-04-12 02:13:01,361 : INFO : topic #9 (0.100): 0.015*\"like\" + 0.010*\"get\" + 0.010*\"would\" + 0.009*\"one\" + 0.009*\"people\" + 0.007*\"see\" + 0.007*\"know\" + 0.007*\"could\" + 0.007*\"really\" + 0.006*\"even\"\n",
      "2017-04-12 02:13:01,363 : INFO : topic #6 (0.100): 0.018*\"film\" + 0.015*\"bad\" + 0.012*\"one\" + 0.011*\"like\" + 0.010*\"even\" + 0.010*\"good\" + 0.008*\"acting\" + 0.008*\"movies\" + 0.007*\"really\" + 0.007*\"horror\"\n",
      "2017-04-12 02:13:01,364 : INFO : topic diff=0.046308, rho=0.157135\n",
      "2017-04-12 02:13:10,837 : INFO : -8.577 per-word bound, 381.8 perplexity estimate based on a held-out corpus of 2000 documents with 223516 words\n",
      "2017-04-12 02:13:10,838 : INFO : PROGRESS: pass 2, at document #60000/75000\n",
      "2017-04-12 02:13:13,842 : INFO : merging changes from 2000 documents into a model of 75000 documents\n",
      "2017-04-12 02:13:14,068 : INFO : topic #3 (0.100): 0.007*\"davis\" + 0.006*\"charlie\" + 0.005*\"adam\" + 0.005*\"sandler\" + 0.004*\"hopkins\" + 0.004*\"david\" + 0.003*\"khan\" + 0.003*\"chuck\" + 0.003*\"bette\" + 0.003*\"metal\"\n",
      "2017-04-12 02:13:14,070 : INFO : topic #1 (0.100): 0.009*\"comedy\" + 0.009*\"character\" + 0.008*\"one\" + 0.007*\"cast\" + 0.006*\"film\" + 0.006*\"role\" + 0.006*\"funny\" + 0.005*\"script\" + 0.005*\"even\" + 0.005*\"performance\"\n",
      "2017-04-12 02:13:14,071 : INFO : topic #0 (0.100): 0.008*\"film\" + 0.006*\"war\" + 0.006*\"life\" + 0.005*\"man\" + 0.005*\"young\" + 0.005*\"one\" + 0.004*\"family\" + 0.004*\"world\" + 0.004*\"american\" + 0.003*\"men\"\n",
      "2017-04-12 02:13:14,072 : INFO : topic #9 (0.100): 0.015*\"like\" + 0.010*\"get\" + 0.010*\"would\" + 0.009*\"one\" + 0.009*\"people\" + 0.007*\"see\" + 0.007*\"know\" + 0.007*\"really\" + 0.007*\"could\" + 0.006*\"even\"\n",
      "2017-04-12 02:13:14,074 : INFO : topic #5 (0.100): 0.007*\"one\" + 0.006*\"man\" + 0.005*\"film\" + 0.004*\"john\" + 0.004*\"also\" + 0.004*\"role\" + 0.004*\"plays\" + 0.003*\"young\" + 0.003*\"dr\" + 0.003*\"old\"\n",
      "2017-04-12 02:13:14,075 : INFO : topic diff=0.044228, rho=0.157135\n",
      "2017-04-12 02:13:14,528 : INFO : PROGRESS: pass 2, at document #62000/75000\n",
      "2017-04-12 02:13:17,510 : INFO : merging changes from 2000 documents into a model of 75000 documents\n",
      "2017-04-12 02:13:17,742 : INFO : topic #4 (0.100): 0.013*\"action\" + 0.007*\"one\" + 0.006*\"film\" + 0.005*\"police\" + 0.004*\"fight\" + 0.004*\"also\" + 0.004*\"scenes\" + 0.004*\"plot\" + 0.004*\"two\" + 0.004*\"cop\"\n",
      "2017-04-12 02:13:17,744 : INFO : topic #9 (0.100): 0.015*\"like\" + 0.010*\"get\" + 0.010*\"would\" + 0.009*\"one\" + 0.009*\"people\" + 0.007*\"see\" + 0.007*\"know\" + 0.007*\"really\" + 0.007*\"could\" + 0.006*\"even\"\n",
      "2017-04-12 02:13:17,746 : INFO : topic #6 (0.100): 0.019*\"film\" + 0.015*\"bad\" + 0.012*\"one\" + 0.011*\"like\" + 0.010*\"even\" + 0.010*\"good\" + 0.008*\"acting\" + 0.008*\"movies\" + 0.007*\"really\" + 0.007*\"horror\"\n",
      "2017-04-12 02:13:17,747 : INFO : topic #2 (0.100): 0.039*\"film\" + 0.011*\"story\" + 0.010*\"one\" + 0.007*\"characters\" + 0.006*\"films\" + 0.006*\"well\" + 0.006*\"like\" + 0.006*\"good\" + 0.006*\"much\" + 0.006*\"see\"\n",
      "2017-04-12 02:13:17,749 : INFO : topic #3 (0.100): 0.007*\"davis\" + 0.005*\"charlie\" + 0.005*\"sandler\" + 0.005*\"adam\" + 0.004*\"david\" + 0.004*\"hopkins\" + 0.004*\"moore\" + 0.003*\"chuck\" + 0.003*\"khan\" + 0.003*\"bette\"\n",
      "2017-04-12 02:13:17,751 : INFO : topic diff=0.043219, rho=0.157135\n",
      "2017-04-12 02:13:18,237 : INFO : PROGRESS: pass 2, at document #64000/75000\n",
      "2017-04-12 02:13:21,026 : INFO : merging changes from 2000 documents into a model of 75000 documents\n",
      "2017-04-12 02:13:21,243 : INFO : topic #4 (0.100): 0.013*\"action\" + 0.007*\"one\" + 0.006*\"film\" + 0.005*\"police\" + 0.004*\"fight\" + 0.004*\"also\" + 0.004*\"scenes\" + 0.004*\"scene\" + 0.004*\"cop\" + 0.003*\"two\"\n",
      "2017-04-12 02:13:21,245 : INFO : topic #9 (0.100): 0.015*\"like\" + 0.010*\"get\" + 0.010*\"would\" + 0.009*\"one\" + 0.009*\"people\" + 0.007*\"see\" + 0.007*\"know\" + 0.007*\"could\" + 0.007*\"really\" + 0.006*\"even\"\n",
      "2017-04-12 02:13:21,247 : INFO : topic #8 (0.100): 0.014*\"show\" + 0.012*\"one\" + 0.012*\"great\" + 0.010*\"like\" + 0.009*\"series\" + 0.009*\"good\" + 0.008*\"first\" + 0.008*\"time\" + 0.008*\"see\" + 0.007*\"would\"\n",
      "2017-04-12 02:13:21,248 : INFO : topic #0 (0.100): 0.008*\"film\" + 0.006*\"war\" + 0.006*\"life\" + 0.005*\"man\" + 0.005*\"young\" + 0.005*\"one\" + 0.004*\"family\" + 0.004*\"world\" + 0.004*\"american\" + 0.003*\"men\"\n",
      "2017-04-12 02:13:21,250 : INFO : topic #2 (0.100): 0.039*\"film\" + 0.011*\"story\" + 0.010*\"one\" + 0.007*\"characters\" + 0.006*\"well\" + 0.006*\"films\" + 0.006*\"like\" + 0.006*\"good\" + 0.006*\"much\" + 0.006*\"see\"\n",
      "2017-04-12 02:13:21,252 : INFO : topic diff=0.045454, rho=0.157135\n",
      "2017-04-12 02:13:21,675 : INFO : PROGRESS: pass 2, at document #66000/75000\n",
      "2017-04-12 02:13:24,412 : INFO : merging changes from 2000 documents into a model of 75000 documents\n",
      "2017-04-12 02:13:24,629 : INFO : topic #3 (0.100): 0.007*\"davis\" + 0.006*\"charlie\" + 0.005*\"sandler\" + 0.005*\"adam\" + 0.004*\"khan\" + 0.004*\"david\" + 0.003*\"moore\" + 0.003*\"bette\" + 0.003*\"chuck\" + 0.003*\"hopkins\"\n",
      "2017-04-12 02:13:24,631 : INFO : topic #1 (0.100): 0.009*\"comedy\" + 0.009*\"character\" + 0.008*\"one\" + 0.007*\"cast\" + 0.007*\"film\" + 0.006*\"role\" + 0.006*\"funny\" + 0.005*\"script\" + 0.005*\"even\" + 0.005*\"performance\"\n",
      "2017-04-12 02:13:24,632 : INFO : topic #5 (0.100): 0.007*\"one\" + 0.006*\"man\" + 0.006*\"film\" + 0.004*\"also\" + 0.004*\"john\" + 0.004*\"role\" + 0.004*\"plays\" + 0.003*\"young\" + 0.003*\"old\" + 0.003*\"dr\"\n",
      "2017-04-12 02:13:24,634 : INFO : topic #2 (0.100): 0.039*\"film\" + 0.011*\"story\" + 0.010*\"one\" + 0.007*\"characters\" + 0.006*\"films\" + 0.006*\"well\" + 0.006*\"like\" + 0.006*\"good\" + 0.006*\"much\" + 0.006*\"see\"\n",
      "2017-04-12 02:13:24,635 : INFO : topic #9 (0.100): 0.015*\"like\" + 0.010*\"get\" + 0.010*\"would\" + 0.009*\"one\" + 0.009*\"people\" + 0.007*\"see\" + 0.007*\"know\" + 0.007*\"could\" + 0.007*\"really\" + 0.006*\"even\"\n",
      "2017-04-12 02:13:24,637 : INFO : topic diff=0.043669, rho=0.157135\n",
      "2017-04-12 02:13:25,053 : INFO : PROGRESS: pass 2, at document #68000/75000\n",
      "2017-04-12 02:13:27,773 : INFO : merging changes from 2000 documents into a model of 75000 documents\n",
      "2017-04-12 02:13:27,989 : INFO : topic #1 (0.100): 0.009*\"comedy\" + 0.009*\"character\" + 0.008*\"one\" + 0.007*\"cast\" + 0.007*\"film\" + 0.006*\"role\" + 0.006*\"funny\" + 0.005*\"script\" + 0.005*\"even\" + 0.005*\"performance\"\n",
      "2017-04-12 02:13:27,991 : INFO : topic #8 (0.100): 0.014*\"show\" + 0.013*\"one\" + 0.012*\"great\" + 0.010*\"like\" + 0.009*\"series\" + 0.009*\"good\" + 0.008*\"first\" + 0.008*\"time\" + 0.008*\"see\" + 0.007*\"would\"\n",
      "2017-04-12 02:13:27,992 : INFO : topic #0 (0.100): 0.008*\"film\" + 0.005*\"war\" + 0.005*\"life\" + 0.005*\"man\" + 0.005*\"one\" + 0.005*\"young\" + 0.004*\"world\" + 0.004*\"family\" + 0.004*\"american\" + 0.003*\"men\"\n",
      "2017-04-12 02:13:27,994 : INFO : topic #6 (0.100): 0.019*\"film\" + 0.016*\"bad\" + 0.012*\"one\" + 0.011*\"like\" + 0.010*\"good\" + 0.010*\"even\" + 0.008*\"acting\" + 0.007*\"movies\" + 0.007*\"really\" + 0.006*\"horror\"\n",
      "2017-04-12 02:13:27,996 : INFO : topic #7 (0.100): 0.008*\"film\" + 0.007*\"love\" + 0.007*\"music\" + 0.007*\"one\" + 0.005*\"version\" + 0.005*\"novel\" + 0.005*\"book\" + 0.005*\"beautiful\" + 0.004*\"story\" + 0.004*\"musical\"\n",
      "2017-04-12 02:13:27,998 : INFO : topic diff=0.044646, rho=0.157135\n",
      "2017-04-12 02:13:28,417 : INFO : PROGRESS: pass 2, at document #70000/75000\n",
      "2017-04-12 02:13:31,172 : INFO : merging changes from 2000 documents into a model of 75000 documents\n",
      "2017-04-12 02:13:31,383 : INFO : topic #1 (0.100): 0.009*\"comedy\" + 0.009*\"character\" + 0.008*\"one\" + 0.007*\"cast\" + 0.007*\"film\" + 0.006*\"role\" + 0.006*\"funny\" + 0.005*\"script\" + 0.005*\"even\" + 0.005*\"performance\"\n",
      "2017-04-12 02:13:31,385 : INFO : topic #6 (0.100): 0.019*\"film\" + 0.016*\"bad\" + 0.012*\"one\" + 0.012*\"like\" + 0.010*\"good\" + 0.010*\"even\" + 0.008*\"acting\" + 0.007*\"movies\" + 0.007*\"really\" + 0.006*\"horror\"\n",
      "2017-04-12 02:13:31,386 : INFO : topic #8 (0.100): 0.014*\"show\" + 0.013*\"one\" + 0.012*\"great\" + 0.010*\"like\" + 0.009*\"series\" + 0.009*\"good\" + 0.008*\"first\" + 0.008*\"time\" + 0.008*\"see\" + 0.007*\"would\"\n",
      "2017-04-12 02:13:31,388 : INFO : topic #5 (0.100): 0.007*\"one\" + 0.007*\"man\" + 0.006*\"film\" + 0.004*\"john\" + 0.004*\"also\" + 0.004*\"role\" + 0.004*\"plays\" + 0.004*\"young\" + 0.003*\"old\" + 0.003*\"dr\"\n",
      "2017-04-12 02:13:31,390 : INFO : topic #0 (0.100): 0.008*\"film\" + 0.006*\"war\" + 0.005*\"life\" + 0.005*\"man\" + 0.005*\"young\" + 0.005*\"one\" + 0.004*\"family\" + 0.004*\"world\" + 0.004*\"american\" + 0.003*\"men\"\n",
      "2017-04-12 02:13:31,392 : INFO : topic diff=0.045112, rho=0.157135\n",
      "2017-04-12 02:13:31,801 : INFO : PROGRESS: pass 2, at document #72000/75000\n",
      "2017-04-12 02:13:34,557 : INFO : merging changes from 2000 documents into a model of 75000 documents\n",
      "2017-04-12 02:13:34,766 : INFO : topic #2 (0.100): 0.039*\"film\" + 0.011*\"story\" + 0.010*\"one\" + 0.007*\"characters\" + 0.006*\"well\" + 0.006*\"films\" + 0.006*\"good\" + 0.006*\"like\" + 0.006*\"much\" + 0.005*\"see\"\n",
      "2017-04-12 02:13:34,768 : INFO : topic #4 (0.100): 0.013*\"action\" + 0.007*\"one\" + 0.006*\"film\" + 0.005*\"police\" + 0.004*\"fight\" + 0.004*\"also\" + 0.004*\"scenes\" + 0.004*\"two\" + 0.004*\"scene\" + 0.004*\"plot\"\n",
      "2017-04-12 02:13:34,769 : INFO : topic #9 (0.100): 0.015*\"like\" + 0.010*\"get\" + 0.010*\"would\" + 0.009*\"one\" + 0.009*\"people\" + 0.007*\"see\" + 0.007*\"know\" + 0.007*\"could\" + 0.007*\"really\" + 0.006*\"think\"\n",
      "2017-04-12 02:13:34,770 : INFO : topic #6 (0.100): 0.019*\"film\" + 0.015*\"bad\" + 0.012*\"one\" + 0.012*\"like\" + 0.010*\"good\" + 0.010*\"even\" + 0.008*\"acting\" + 0.007*\"movies\" + 0.007*\"really\" + 0.007*\"horror\"\n",
      "2017-04-12 02:13:34,772 : INFO : topic #0 (0.100): 0.008*\"film\" + 0.006*\"war\" + 0.005*\"life\" + 0.005*\"man\" + 0.005*\"one\" + 0.005*\"young\" + 0.004*\"family\" + 0.004*\"world\" + 0.004*\"men\" + 0.004*\"american\"\n",
      "2017-04-12 02:13:34,773 : INFO : topic diff=0.044090, rho=0.157135\n",
      "2017-04-12 02:13:35,183 : INFO : PROGRESS: pass 2, at document #74000/75000\n",
      "2017-04-12 02:13:37,934 : INFO : merging changes from 2000 documents into a model of 75000 documents\n",
      "2017-04-12 02:13:38,146 : INFO : topic #2 (0.100): 0.039*\"film\" + 0.011*\"story\" + 0.010*\"one\" + 0.007*\"characters\" + 0.006*\"films\" + 0.006*\"well\" + 0.006*\"like\" + 0.006*\"good\" + 0.006*\"much\" + 0.005*\"see\"\n",
      "2017-04-12 02:13:38,147 : INFO : topic #0 (0.100): 0.008*\"film\" + 0.006*\"war\" + 0.005*\"life\" + 0.005*\"man\" + 0.005*\"young\" + 0.005*\"one\" + 0.004*\"world\" + 0.004*\"family\" + 0.004*\"men\" + 0.003*\"american\"\n",
      "2017-04-12 02:13:38,149 : INFO : topic #7 (0.100): 0.008*\"film\" + 0.008*\"music\" + 0.007*\"love\" + 0.007*\"one\" + 0.005*\"version\" + 0.005*\"novel\" + 0.005*\"book\" + 0.005*\"beautiful\" + 0.004*\"best\" + 0.004*\"story\"\n",
      "2017-04-12 02:13:38,152 : INFO : topic #3 (0.100): 0.008*\"davis\" + 0.007*\"charlie\" + 0.004*\"bette\" + 0.004*\"adam\" + 0.004*\"moore\" + 0.004*\"khan\" + 0.004*\"sandler\" + 0.004*\"david\" + 0.004*\"chuck\" + 0.004*\"metal\"\n",
      "2017-04-12 02:13:38,154 : INFO : topic #6 (0.100): 0.019*\"film\" + 0.015*\"bad\" + 0.012*\"one\" + 0.012*\"like\" + 0.010*\"good\" + 0.010*\"even\" + 0.008*\"acting\" + 0.007*\"really\" + 0.007*\"movies\" + 0.007*\"horror\"\n",
      "2017-04-12 02:13:38,156 : INFO : topic diff=0.045011, rho=0.157135\n",
      "2017-04-12 02:13:42,777 : INFO : -8.579 per-word bound, 382.3 perplexity estimate based on a held-out corpus of 1000 documents with 112974 words\n",
      "2017-04-12 02:13:42,778 : INFO : PROGRESS: pass 2, at document #75000/75000\n",
      "2017-04-12 02:13:44,129 : INFO : merging changes from 1000 documents into a model of 75000 documents\n",
      "2017-04-12 02:13:44,344 : INFO : topic #8 (0.100): 0.014*\"show\" + 0.013*\"one\" + 0.012*\"great\" + 0.010*\"like\" + 0.009*\"good\" + 0.008*\"first\" + 0.008*\"time\" + 0.008*\"series\" + 0.008*\"see\" + 0.007*\"would\"\n",
      "2017-04-12 02:13:44,346 : INFO : topic #1 (0.100): 0.009*\"comedy\" + 0.009*\"character\" + 0.008*\"one\" + 0.007*\"cast\" + 0.007*\"film\" + 0.006*\"funny\" + 0.006*\"role\" + 0.005*\"script\" + 0.005*\"even\" + 0.005*\"performance\"\n",
      "2017-04-12 02:13:44,347 : INFO : topic #0 (0.100): 0.008*\"film\" + 0.006*\"war\" + 0.005*\"life\" + 0.005*\"man\" + 0.005*\"young\" + 0.005*\"one\" + 0.004*\"world\" + 0.004*\"family\" + 0.003*\"men\" + 0.003*\"american\"\n",
      "2017-04-12 02:13:44,349 : INFO : topic #7 (0.100): 0.008*\"film\" + 0.008*\"music\" + 0.007*\"love\" + 0.007*\"one\" + 0.005*\"version\" + 0.005*\"novel\" + 0.005*\"beautiful\" + 0.005*\"book\" + 0.005*\"story\" + 0.004*\"best\"\n",
      "2017-04-12 02:13:44,351 : INFO : topic #6 (0.100): 0.019*\"film\" + 0.015*\"bad\" + 0.012*\"one\" + 0.012*\"like\" + 0.010*\"good\" + 0.010*\"even\" + 0.008*\"acting\" + 0.008*\"really\" + 0.007*\"movies\" + 0.007*\"horror\"\n",
      "2017-04-12 02:13:44,353 : INFO : topic diff=0.046300, rho=0.157135\n",
      "2017-04-12 02:13:44,762 : INFO : PROGRESS: pass 3, at document #2000/75000\n",
      "2017-04-12 02:13:47,432 : INFO : merging changes from 2000 documents into a model of 75000 documents\n",
      "2017-04-12 02:13:47,639 : INFO : topic #7 (0.100): 0.008*\"film\" + 0.008*\"music\" + 0.007*\"love\" + 0.007*\"one\" + 0.005*\"version\" + 0.005*\"novel\" + 0.005*\"beautiful\" + 0.005*\"book\" + 0.005*\"story\" + 0.004*\"musical\"\n",
      "2017-04-12 02:13:47,641 : INFO : topic #6 (0.100): 0.019*\"film\" + 0.015*\"bad\" + 0.012*\"one\" + 0.012*\"like\" + 0.010*\"good\" + 0.010*\"even\" + 0.008*\"acting\" + 0.008*\"really\" + 0.007*\"movies\" + 0.007*\"horror\"\n",
      "2017-04-12 02:13:47,642 : INFO : topic #1 (0.100): 0.009*\"comedy\" + 0.009*\"character\" + 0.008*\"one\" + 0.007*\"cast\" + 0.007*\"film\" + 0.006*\"funny\" + 0.006*\"role\" + 0.005*\"script\" + 0.005*\"even\" + 0.005*\"performance\"\n",
      "2017-04-12 02:13:47,644 : INFO : topic #9 (0.100): 0.015*\"like\" + 0.010*\"get\" + 0.010*\"would\" + 0.009*\"one\" + 0.009*\"people\" + 0.007*\"see\" + 0.007*\"know\" + 0.007*\"could\" + 0.007*\"really\" + 0.006*\"even\"\n",
      "2017-04-12 02:13:47,645 : INFO : topic #0 (0.100): 0.008*\"film\" + 0.006*\"war\" + 0.005*\"life\" + 0.005*\"man\" + 0.005*\"young\" + 0.005*\"one\" + 0.004*\"family\" + 0.004*\"world\" + 0.004*\"men\" + 0.003*\"american\"\n",
      "2017-04-12 02:13:47,647 : INFO : topic diff=0.056121, rho=0.155230\n",
      "2017-04-12 02:13:48,049 : INFO : PROGRESS: pass 3, at document #4000/75000\n",
      "2017-04-12 02:13:50,740 : INFO : merging changes from 2000 documents into a model of 75000 documents\n",
      "2017-04-12 02:13:50,947 : INFO : topic #4 (0.100): 0.013*\"action\" + 0.007*\"one\" + 0.005*\"film\" + 0.005*\"police\" + 0.004*\"fight\" + 0.004*\"also\" + 0.004*\"scenes\" + 0.004*\"cop\" + 0.004*\"two\" + 0.004*\"plot\"\n",
      "2017-04-12 02:13:50,949 : INFO : topic #1 (0.100): 0.009*\"comedy\" + 0.009*\"character\" + 0.007*\"one\" + 0.007*\"cast\" + 0.007*\"film\" + 0.006*\"funny\" + 0.006*\"role\" + 0.005*\"script\" + 0.005*\"even\" + 0.005*\"performance\"\n",
      "2017-04-12 02:13:50,951 : INFO : topic #9 (0.100): 0.015*\"like\" + 0.010*\"get\" + 0.010*\"would\" + 0.009*\"one\" + 0.009*\"people\" + 0.007*\"see\" + 0.007*\"know\" + 0.007*\"could\" + 0.007*\"really\" + 0.006*\"even\"\n",
      "2017-04-12 02:13:50,952 : INFO : topic #0 (0.100): 0.008*\"film\" + 0.006*\"war\" + 0.005*\"life\" + 0.005*\"man\" + 0.005*\"young\" + 0.005*\"one\" + 0.004*\"family\" + 0.004*\"world\" + 0.003*\"men\" + 0.003*\"american\"\n",
      "2017-04-12 02:13:50,954 : INFO : topic #8 (0.100): 0.014*\"show\" + 0.013*\"one\" + 0.012*\"great\" + 0.010*\"like\" + 0.009*\"good\" + 0.008*\"time\" + 0.008*\"first\" + 0.008*\"series\" + 0.008*\"see\" + 0.007*\"would\"\n",
      "2017-04-12 02:13:50,956 : INFO : topic diff=0.055734, rho=0.155230\n",
      "2017-04-12 02:13:51,354 : INFO : PROGRESS: pass 3, at document #6000/75000\n",
      "2017-04-12 02:13:54,036 : INFO : merging changes from 2000 documents into a model of 75000 documents\n",
      "2017-04-12 02:13:54,242 : INFO : topic #3 (0.100): 0.007*\"davis\" + 0.006*\"charlie\" + 0.005*\"sandler\" + 0.004*\"adam\" + 0.004*\"david\" + 0.003*\"bette\" + 0.003*\"khan\" + 0.003*\"moore\" + 0.003*\"chuck\" + 0.003*\"sutherland\"\n",
      "2017-04-12 02:13:54,244 : INFO : topic #9 (0.100): 0.015*\"like\" + 0.010*\"get\" + 0.010*\"would\" + 0.009*\"one\" + 0.009*\"people\" + 0.007*\"see\" + 0.007*\"know\" + 0.007*\"really\" + 0.007*\"could\" + 0.006*\"even\"\n",
      "2017-04-12 02:13:54,245 : INFO : topic #8 (0.100): 0.014*\"show\" + 0.013*\"one\" + 0.012*\"great\" + 0.010*\"like\" + 0.009*\"good\" + 0.008*\"time\" + 0.008*\"series\" + 0.008*\"first\" + 0.008*\"see\" + 0.007*\"would\"\n",
      "2017-04-12 02:13:54,247 : INFO : topic #6 (0.100): 0.019*\"film\" + 0.015*\"bad\" + 0.012*\"one\" + 0.012*\"like\" + 0.010*\"good\" + 0.010*\"even\" + 0.008*\"acting\" + 0.008*\"really\" + 0.007*\"movies\" + 0.007*\"horror\"\n",
      "2017-04-12 02:13:54,249 : INFO : topic #7 (0.100): 0.008*\"film\" + 0.007*\"love\" + 0.007*\"music\" + 0.006*\"one\" + 0.006*\"version\" + 0.005*\"novel\" + 0.005*\"beautiful\" + 0.005*\"book\" + 0.004*\"story\" + 0.004*\"best\"\n",
      "2017-04-12 02:13:54,250 : INFO : topic diff=0.051054, rho=0.155230\n",
      "2017-04-12 02:13:54,692 : INFO : PROGRESS: pass 3, at document #8000/75000\n",
      "2017-04-12 02:13:57,410 : INFO : merging changes from 2000 documents into a model of 75000 documents\n",
      "2017-04-12 02:13:57,613 : INFO : topic #4 (0.100): 0.013*\"action\" + 0.007*\"one\" + 0.005*\"film\" + 0.005*\"police\" + 0.004*\"also\" + 0.004*\"fight\" + 0.004*\"scenes\" + 0.004*\"car\" + 0.004*\"plot\" + 0.004*\"cop\"\n",
      "2017-04-12 02:13:57,615 : INFO : topic #9 (0.100): 0.015*\"like\" + 0.010*\"get\" + 0.010*\"would\" + 0.009*\"one\" + 0.009*\"people\" + 0.007*\"see\" + 0.007*\"know\" + 0.007*\"really\" + 0.006*\"could\" + 0.006*\"even\"\n",
      "2017-04-12 02:13:57,616 : INFO : topic #3 (0.100): 0.007*\"charlie\" + 0.006*\"davis\" + 0.005*\"sandler\" + 0.004*\"adam\" + 0.004*\"david\" + 0.003*\"bette\" + 0.003*\"moore\" + 0.003*\"khan\" + 0.003*\"sutherland\" + 0.003*\"chuck\"\n",
      "2017-04-12 02:13:57,618 : INFO : topic #7 (0.100): 0.008*\"film\" + 0.008*\"love\" + 0.007*\"music\" + 0.007*\"one\" + 0.006*\"version\" + 0.005*\"novel\" + 0.005*\"beautiful\" + 0.005*\"book\" + 0.004*\"story\" + 0.004*\"musical\"\n",
      "2017-04-12 02:13:57,620 : INFO : topic #5 (0.100): 0.007*\"man\" + 0.006*\"one\" + 0.006*\"film\" + 0.005*\"john\" + 0.004*\"also\" + 0.004*\"role\" + 0.004*\"plays\" + 0.004*\"young\" + 0.004*\"wife\" + 0.003*\"old\"\n",
      "2017-04-12 02:13:57,622 : INFO : topic diff=0.046427, rho=0.155230\n",
      "2017-04-12 02:13:58,019 : INFO : PROGRESS: pass 3, at document #10000/75000\n",
      "2017-04-12 02:14:00,737 : INFO : merging changes from 2000 documents into a model of 75000 documents\n",
      "2017-04-12 02:14:00,943 : INFO : topic #3 (0.100): 0.007*\"charlie\" + 0.006*\"davis\" + 0.004*\"sandler\" + 0.004*\"adam\" + 0.004*\"david\" + 0.003*\"bette\" + 0.003*\"washington\" + 0.003*\"sutherland\" + 0.003*\"moore\" + 0.003*\"khan\"\n",
      "2017-04-12 02:14:00,945 : INFO : topic #2 (0.100): 0.040*\"film\" + 0.011*\"story\" + 0.010*\"one\" + 0.007*\"characters\" + 0.006*\"films\" + 0.006*\"like\" + 0.006*\"well\" + 0.006*\"good\" + 0.006*\"much\" + 0.005*\"see\"\n",
      "2017-04-12 02:14:00,946 : INFO : topic #0 (0.100): 0.008*\"film\" + 0.006*\"war\" + 0.006*\"life\" + 0.005*\"man\" + 0.005*\"young\" + 0.005*\"family\" + 0.005*\"one\" + 0.004*\"world\" + 0.004*\"men\" + 0.003*\"father\"\n",
      "2017-04-12 02:14:00,948 : INFO : topic #4 (0.100): 0.013*\"action\" + 0.007*\"one\" + 0.005*\"film\" + 0.005*\"police\" + 0.004*\"also\" + 0.004*\"scenes\" + 0.004*\"fight\" + 0.004*\"car\" + 0.004*\"scene\" + 0.004*\"plot\"\n",
      "2017-04-12 02:14:00,950 : INFO : topic #7 (0.100): 0.008*\"film\" + 0.008*\"love\" + 0.007*\"music\" + 0.007*\"one\" + 0.006*\"version\" + 0.005*\"beautiful\" + 0.005*\"novel\" + 0.005*\"book\" + 0.005*\"musical\" + 0.004*\"story\"\n",
      "2017-04-12 02:14:00,951 : INFO : topic diff=0.043905, rho=0.155230\n",
      "2017-04-12 02:14:01,352 : INFO : PROGRESS: pass 3, at document #12000/75000\n",
      "2017-04-12 02:14:03,993 : INFO : merging changes from 2000 documents into a model of 75000 documents\n",
      "2017-04-12 02:14:04,208 : INFO : topic #0 (0.100): 0.008*\"film\" + 0.006*\"war\" + 0.006*\"life\" + 0.005*\"man\" + 0.005*\"young\" + 0.005*\"family\" + 0.005*\"one\" + 0.004*\"world\" + 0.004*\"men\" + 0.003*\"american\"\n",
      "2017-04-12 02:14:04,210 : INFO : topic #2 (0.100): 0.039*\"film\" + 0.011*\"story\" + 0.010*\"one\" + 0.007*\"characters\" + 0.006*\"films\" + 0.006*\"well\" + 0.006*\"like\" + 0.006*\"good\" + 0.006*\"much\" + 0.005*\"see\"\n",
      "2017-04-12 02:14:04,212 : INFO : topic #9 (0.100): 0.015*\"like\" + 0.010*\"get\" + 0.010*\"would\" + 0.009*\"one\" + 0.009*\"people\" + 0.007*\"see\" + 0.007*\"know\" + 0.007*\"really\" + 0.007*\"could\" + 0.006*\"think\"\n",
      "2017-04-12 02:14:04,213 : INFO : topic #4 (0.100): 0.013*\"action\" + 0.007*\"one\" + 0.005*\"film\" + 0.005*\"police\" + 0.004*\"fight\" + 0.004*\"scenes\" + 0.004*\"also\" + 0.004*\"car\" + 0.004*\"scene\" + 0.004*\"plot\"\n",
      "2017-04-12 02:14:04,215 : INFO : topic #1 (0.100): 0.009*\"character\" + 0.009*\"comedy\" + 0.007*\"one\" + 0.007*\"cast\" + 0.007*\"film\" + 0.006*\"role\" + 0.006*\"funny\" + 0.005*\"script\" + 0.005*\"even\" + 0.005*\"actor\"\n",
      "2017-04-12 02:14:04,216 : INFO : topic diff=0.044180, rho=0.155230\n",
      "2017-04-12 02:14:04,621 : INFO : PROGRESS: pass 3, at document #14000/75000\n",
      "2017-04-12 02:14:07,297 : INFO : merging changes from 2000 documents into a model of 75000 documents\n",
      "2017-04-12 02:14:07,504 : INFO : topic #9 (0.100): 0.015*\"like\" + 0.010*\"get\" + 0.010*\"would\" + 0.009*\"one\" + 0.009*\"people\" + 0.007*\"see\" + 0.007*\"know\" + 0.007*\"really\" + 0.007*\"could\" + 0.006*\"think\"\n",
      "2017-04-12 02:14:07,505 : INFO : topic #1 (0.100): 0.009*\"comedy\" + 0.009*\"character\" + 0.007*\"one\" + 0.007*\"cast\" + 0.007*\"film\" + 0.006*\"role\" + 0.006*\"funny\" + 0.005*\"script\" + 0.005*\"actor\" + 0.005*\"even\"\n",
      "2017-04-12 02:14:07,506 : INFO : topic #2 (0.100): 0.039*\"film\" + 0.011*\"story\" + 0.010*\"one\" + 0.007*\"characters\" + 0.006*\"films\" + 0.006*\"like\" + 0.006*\"well\" + 0.006*\"good\" + 0.006*\"much\" + 0.005*\"see\"\n",
      "2017-04-12 02:14:07,508 : INFO : topic #0 (0.100): 0.008*\"film\" + 0.006*\"war\" + 0.005*\"life\" + 0.005*\"man\" + 0.005*\"young\" + 0.005*\"family\" + 0.005*\"one\" + 0.004*\"world\" + 0.004*\"men\" + 0.003*\"father\"\n",
      "2017-04-12 02:14:07,510 : INFO : topic #7 (0.100): 0.008*\"love\" + 0.008*\"film\" + 0.007*\"music\" + 0.007*\"one\" + 0.006*\"version\" + 0.005*\"novel\" + 0.005*\"beautiful\" + 0.005*\"musical\" + 0.005*\"book\" + 0.004*\"story\"\n",
      "2017-04-12 02:14:07,512 : INFO : topic diff=0.045181, rho=0.155230\n",
      "2017-04-12 02:14:07,893 : INFO : PROGRESS: pass 3, at document #16000/75000\n",
      "2017-04-12 02:14:10,561 : INFO : merging changes from 2000 documents into a model of 75000 documents\n",
      "2017-04-12 02:14:10,773 : INFO : topic #8 (0.100): 0.014*\"show\" + 0.012*\"one\" + 0.012*\"great\" + 0.010*\"like\" + 0.009*\"good\" + 0.009*\"series\" + 0.008*\"time\" + 0.008*\"first\" + 0.008*\"see\" + 0.007*\"would\"\n",
      "2017-04-12 02:14:10,774 : INFO : topic #9 (0.100): 0.015*\"like\" + 0.010*\"get\" + 0.010*\"would\" + 0.009*\"one\" + 0.009*\"people\" + 0.007*\"see\" + 0.007*\"know\" + 0.007*\"really\" + 0.007*\"could\" + 0.006*\"even\"\n",
      "2017-04-12 02:14:10,776 : INFO : topic #3 (0.100): 0.006*\"charlie\" + 0.006*\"davis\" + 0.004*\"adam\" + 0.004*\"sandler\" + 0.004*\"david\" + 0.003*\"sutherland\" + 0.003*\"washington\" + 0.003*\"alan\" + 0.003*\"bette\" + 0.003*\"dentist\"\n",
      "2017-04-12 02:14:10,777 : INFO : topic #6 (0.100): 0.019*\"film\" + 0.016*\"bad\" + 0.012*\"one\" + 0.011*\"like\" + 0.010*\"good\" + 0.010*\"even\" + 0.008*\"acting\" + 0.008*\"really\" + 0.007*\"movies\" + 0.006*\"horror\"\n",
      "2017-04-12 02:14:10,779 : INFO : topic #1 (0.100): 0.009*\"comedy\" + 0.009*\"character\" + 0.007*\"one\" + 0.007*\"cast\" + 0.007*\"film\" + 0.006*\"role\" + 0.006*\"funny\" + 0.005*\"script\" + 0.005*\"even\" + 0.005*\"performance\"\n",
      "2017-04-12 02:14:10,781 : INFO : topic diff=0.044561, rho=0.155230\n",
      "2017-04-12 02:14:11,181 : INFO : PROGRESS: pass 3, at document #18000/75000\n",
      "2017-04-12 02:14:13,847 : INFO : merging changes from 2000 documents into a model of 75000 documents\n",
      "2017-04-12 02:14:14,057 : INFO : topic #7 (0.100): 0.008*\"love\" + 0.008*\"film\" + 0.007*\"music\" + 0.006*\"one\" + 0.006*\"version\" + 0.005*\"musical\" + 0.005*\"novel\" + 0.005*\"beautiful\" + 0.004*\"book\" + 0.004*\"story\"\n",
      "2017-04-12 02:14:14,059 : INFO : topic #4 (0.100): 0.013*\"action\" + 0.007*\"one\" + 0.005*\"film\" + 0.005*\"police\" + 0.004*\"fight\" + 0.004*\"scenes\" + 0.004*\"also\" + 0.004*\"car\" + 0.004*\"killer\" + 0.004*\"plot\"\n",
      "2017-04-12 02:14:14,061 : INFO : topic #3 (0.100): 0.006*\"davis\" + 0.006*\"charlie\" + 0.004*\"adam\" + 0.004*\"david\" + 0.004*\"washington\" + 0.004*\"sandler\" + 0.003*\"bette\" + 0.003*\"sutherland\" + 0.003*\"denzel\" + 0.003*\"alan\"\n",
      "2017-04-12 02:14:14,063 : INFO : topic #0 (0.100): 0.008*\"film\" + 0.006*\"life\" + 0.006*\"war\" + 0.005*\"man\" + 0.005*\"young\" + 0.005*\"family\" + 0.004*\"one\" + 0.004*\"world\" + 0.004*\"men\" + 0.003*\"father\"\n",
      "2017-04-12 02:14:14,064 : INFO : topic #9 (0.100): 0.014*\"like\" + 0.010*\"get\" + 0.010*\"would\" + 0.009*\"one\" + 0.009*\"people\" + 0.007*\"see\" + 0.007*\"know\" + 0.007*\"really\" + 0.007*\"could\" + 0.006*\"even\"\n",
      "2017-04-12 02:14:14,066 : INFO : topic diff=0.043088, rho=0.155230\n",
      "2017-04-12 02:14:23,060 : INFO : -8.549 per-word bound, 374.5 perplexity estimate based on a held-out corpus of 2000 documents with 221882 words\n",
      "2017-04-12 02:14:23,060 : INFO : PROGRESS: pass 3, at document #20000/75000\n",
      "2017-04-12 02:14:25,707 : INFO : merging changes from 2000 documents into a model of 75000 documents\n",
      "2017-04-12 02:14:25,912 : INFO : topic #2 (0.100): 0.039*\"film\" + 0.011*\"story\" + 0.010*\"one\" + 0.007*\"characters\" + 0.006*\"films\" + 0.006*\"like\" + 0.006*\"well\" + 0.006*\"good\" + 0.006*\"much\" + 0.005*\"see\"\n",
      "2017-04-12 02:14:25,914 : INFO : topic #1 (0.100): 0.009*\"comedy\" + 0.009*\"character\" + 0.007*\"one\" + 0.007*\"cast\" + 0.007*\"film\" + 0.006*\"role\" + 0.006*\"funny\" + 0.005*\"performance\" + 0.005*\"script\" + 0.005*\"actor\"\n",
      "2017-04-12 02:14:25,916 : INFO : topic #7 (0.100): 0.008*\"love\" + 0.008*\"film\" + 0.007*\"music\" + 0.007*\"one\" + 0.006*\"version\" + 0.005*\"musical\" + 0.005*\"novel\" + 0.005*\"beautiful\" + 0.005*\"book\" + 0.004*\"story\"\n",
      "2017-04-12 02:14:25,917 : INFO : topic #6 (0.100): 0.019*\"film\" + 0.016*\"bad\" + 0.012*\"one\" + 0.011*\"like\" + 0.010*\"good\" + 0.010*\"even\" + 0.008*\"acting\" + 0.008*\"really\" + 0.007*\"movies\" + 0.007*\"horror\"\n",
      "2017-04-12 02:14:25,919 : INFO : topic #8 (0.100): 0.014*\"show\" + 0.012*\"one\" + 0.012*\"great\" + 0.010*\"like\" + 0.009*\"good\" + 0.009*\"series\" + 0.008*\"time\" + 0.008*\"first\" + 0.008*\"see\" + 0.007*\"would\"\n",
      "2017-04-12 02:14:25,920 : INFO : topic diff=0.041891, rho=0.155230\n",
      "2017-04-12 02:14:26,323 : INFO : PROGRESS: pass 3, at document #22000/75000\n",
      "2017-04-12 02:14:28,994 : INFO : merging changes from 2000 documents into a model of 75000 documents\n",
      "2017-04-12 02:14:29,201 : INFO : topic #5 (0.100): 0.007*\"man\" + 0.007*\"one\" + 0.005*\"film\" + 0.004*\"john\" + 0.004*\"also\" + 0.004*\"role\" + 0.004*\"plays\" + 0.004*\"wife\" + 0.004*\"young\" + 0.003*\"old\"\n",
      "2017-04-12 02:14:29,203 : INFO : topic #4 (0.100): 0.012*\"action\" + 0.007*\"one\" + 0.005*\"film\" + 0.005*\"police\" + 0.004*\"fight\" + 0.004*\"also\" + 0.004*\"scenes\" + 0.004*\"plot\" + 0.004*\"killer\" + 0.003*\"car\"\n",
      "2017-04-12 02:14:29,204 : INFO : topic #8 (0.100): 0.014*\"show\" + 0.012*\"one\" + 0.012*\"great\" + 0.010*\"like\" + 0.009*\"good\" + 0.009*\"series\" + 0.008*\"time\" + 0.008*\"first\" + 0.008*\"see\" + 0.007*\"would\"\n",
      "2017-04-12 02:14:29,206 : INFO : topic #7 (0.100): 0.008*\"love\" + 0.008*\"film\" + 0.007*\"music\" + 0.007*\"one\" + 0.006*\"version\" + 0.005*\"musical\" + 0.005*\"novel\" + 0.005*\"book\" + 0.005*\"beautiful\" + 0.004*\"story\"\n",
      "2017-04-12 02:14:29,208 : INFO : topic #3 (0.100): 0.007*\"charlie\" + 0.006*\"davis\" + 0.004*\"adam\" + 0.004*\"sandler\" + 0.004*\"david\" + 0.004*\"bette\" + 0.004*\"washington\" + 0.003*\"sutherland\" + 0.003*\"dan\" + 0.003*\"brando\"\n",
      "2017-04-12 02:14:29,210 : INFO : topic diff=0.044957, rho=0.155230\n",
      "2017-04-12 02:14:30,610 : INFO : PROGRESS: pass 3, at document #24000/75000\n",
      "2017-04-12 02:14:33,287 : INFO : merging changes from 2000 documents into a model of 75000 documents\n",
      "2017-04-12 02:14:33,492 : INFO : topic #0 (0.100): 0.008*\"film\" + 0.006*\"life\" + 0.005*\"war\" + 0.005*\"man\" + 0.005*\"young\" + 0.005*\"family\" + 0.004*\"one\" + 0.004*\"world\" + 0.004*\"father\" + 0.004*\"men\"\n",
      "2017-04-12 02:14:33,495 : INFO : topic #7 (0.100): 0.008*\"love\" + 0.008*\"film\" + 0.007*\"music\" + 0.007*\"one\" + 0.006*\"version\" + 0.005*\"musical\" + 0.005*\"novel\" + 0.005*\"book\" + 0.005*\"beautiful\" + 0.004*\"story\"\n",
      "2017-04-12 02:14:33,496 : INFO : topic #5 (0.100): 0.007*\"man\" + 0.007*\"one\" + 0.005*\"film\" + 0.004*\"john\" + 0.004*\"also\" + 0.004*\"role\" + 0.004*\"young\" + 0.004*\"wife\" + 0.004*\"plays\" + 0.004*\"house\"\n",
      "2017-04-12 02:14:33,498 : INFO : topic #1 (0.100): 0.009*\"comedy\" + 0.009*\"character\" + 0.007*\"one\" + 0.007*\"cast\" + 0.007*\"film\" + 0.006*\"role\" + 0.006*\"funny\" + 0.005*\"actor\" + 0.005*\"performance\" + 0.005*\"script\"\n",
      "2017-04-12 02:14:33,500 : INFO : topic #4 (0.100): 0.013*\"action\" + 0.007*\"one\" + 0.005*\"film\" + 0.005*\"police\" + 0.005*\"fight\" + 0.004*\"also\" + 0.004*\"scenes\" + 0.004*\"killer\" + 0.004*\"plot\" + 0.004*\"car\"\n",
      "2017-04-12 02:14:33,503 : INFO : topic diff=0.042295, rho=0.155230\n",
      "2017-04-12 02:14:33,907 : INFO : PROGRESS: pass 3, at document #26000/75000\n",
      "2017-04-12 02:14:36,579 : INFO : merging changes from 2000 documents into a model of 75000 documents\n",
      "2017-04-12 02:14:36,783 : INFO : topic #5 (0.100): 0.007*\"man\" + 0.007*\"one\" + 0.005*\"film\" + 0.004*\"also\" + 0.004*\"john\" + 0.004*\"role\" + 0.004*\"young\" + 0.004*\"house\" + 0.004*\"wife\" + 0.004*\"plays\"\n",
      "2017-04-12 02:14:36,785 : INFO : topic #7 (0.100): 0.008*\"love\" + 0.008*\"film\" + 0.007*\"music\" + 0.007*\"one\" + 0.006*\"version\" + 0.005*\"musical\" + 0.005*\"novel\" + 0.005*\"book\" + 0.005*\"beautiful\" + 0.004*\"story\"\n",
      "2017-04-12 02:14:36,787 : INFO : topic #6 (0.100): 0.019*\"film\" + 0.016*\"bad\" + 0.012*\"one\" + 0.011*\"like\" + 0.010*\"good\" + 0.010*\"even\" + 0.008*\"acting\" + 0.007*\"really\" + 0.007*\"movies\" + 0.006*\"horror\"\n",
      "2017-04-12 02:14:36,788 : INFO : topic #0 (0.100): 0.008*\"film\" + 0.006*\"life\" + 0.005*\"war\" + 0.005*\"man\" + 0.005*\"young\" + 0.005*\"family\" + 0.004*\"one\" + 0.004*\"world\" + 0.004*\"father\" + 0.003*\"men\"\n",
      "2017-04-12 02:14:36,790 : INFO : topic #8 (0.100): 0.014*\"show\" + 0.012*\"one\" + 0.011*\"great\" + 0.010*\"like\" + 0.009*\"good\" + 0.009*\"series\" + 0.008*\"time\" + 0.008*\"first\" + 0.008*\"see\" + 0.007*\"would\"\n",
      "2017-04-12 02:14:36,792 : INFO : topic diff=0.042744, rho=0.155230\n",
      "2017-04-12 02:14:37,207 : INFO : PROGRESS: pass 3, at document #28000/75000\n",
      "2017-04-12 02:14:39,878 : INFO : merging changes from 2000 documents into a model of 75000 documents\n",
      "2017-04-12 02:14:40,079 : INFO : topic #4 (0.100): 0.013*\"action\" + 0.007*\"one\" + 0.005*\"film\" + 0.005*\"police\" + 0.005*\"fight\" + 0.004*\"also\" + 0.004*\"scenes\" + 0.004*\"killer\" + 0.004*\"plot\" + 0.003*\"good\"\n",
      "2017-04-12 02:14:40,081 : INFO : topic #0 (0.100): 0.008*\"film\" + 0.006*\"life\" + 0.005*\"war\" + 0.005*\"man\" + 0.005*\"young\" + 0.005*\"family\" + 0.004*\"one\" + 0.004*\"world\" + 0.004*\"father\" + 0.003*\"men\"\n",
      "2017-04-12 02:14:40,084 : INFO : topic #3 (0.100): 0.008*\"davis\" + 0.007*\"charlie\" + 0.005*\"adam\" + 0.004*\"sandler\" + 0.004*\"david\" + 0.004*\"bette\" + 0.004*\"moore\" + 0.003*\"washington\" + 0.003*\"khan\" + 0.003*\"role\"\n",
      "2017-04-12 02:14:40,085 : INFO : topic #2 (0.100): 0.039*\"film\" + 0.011*\"story\" + 0.010*\"one\" + 0.007*\"characters\" + 0.006*\"well\" + 0.006*\"films\" + 0.006*\"like\" + 0.006*\"good\" + 0.006*\"much\" + 0.005*\"see\"\n",
      "2017-04-12 02:14:40,087 : INFO : topic #1 (0.100): 0.009*\"comedy\" + 0.009*\"character\" + 0.007*\"one\" + 0.007*\"cast\" + 0.007*\"film\" + 0.006*\"role\" + 0.006*\"funny\" + 0.005*\"actor\" + 0.005*\"performance\" + 0.005*\"script\"\n",
      "2017-04-12 02:14:40,090 : INFO : topic diff=0.048304, rho=0.155230\n",
      "2017-04-12 02:14:40,480 : INFO : PROGRESS: pass 3, at document #30000/75000\n",
      "2017-04-12 02:14:43,196 : INFO : merging changes from 2000 documents into a model of 75000 documents\n",
      "2017-04-12 02:14:43,391 : INFO : topic #8 (0.100): 0.014*\"show\" + 0.012*\"one\" + 0.012*\"great\" + 0.010*\"like\" + 0.009*\"good\" + 0.009*\"series\" + 0.008*\"first\" + 0.008*\"time\" + 0.008*\"see\" + 0.007*\"would\"\n",
      "2017-04-12 02:14:43,393 : INFO : topic #1 (0.100): 0.010*\"comedy\" + 0.009*\"character\" + 0.008*\"one\" + 0.007*\"cast\" + 0.007*\"film\" + 0.006*\"role\" + 0.006*\"funny\" + 0.005*\"script\" + 0.005*\"actor\" + 0.005*\"performance\"\n",
      "2017-04-12 02:14:43,394 : INFO : topic #5 (0.100): 0.007*\"man\" + 0.007*\"one\" + 0.005*\"film\" + 0.005*\"john\" + 0.004*\"also\" + 0.004*\"role\" + 0.004*\"young\" + 0.004*\"wife\" + 0.004*\"plays\" + 0.003*\"dr\"\n",
      "2017-04-12 02:14:43,396 : INFO : topic #2 (0.100): 0.038*\"film\" + 0.011*\"story\" + 0.010*\"one\" + 0.007*\"characters\" + 0.006*\"films\" + 0.006*\"well\" + 0.006*\"like\" + 0.006*\"good\" + 0.006*\"much\" + 0.005*\"see\"\n",
      "2017-04-12 02:14:43,398 : INFO : topic #9 (0.100): 0.014*\"like\" + 0.010*\"get\" + 0.010*\"would\" + 0.010*\"one\" + 0.009*\"people\" + 0.007*\"see\" + 0.007*\"know\" + 0.007*\"could\" + 0.006*\"really\" + 0.006*\"even\"\n",
      "2017-04-12 02:14:43,400 : INFO : topic diff=0.044112, rho=0.155230\n",
      "2017-04-12 02:14:43,803 : INFO : PROGRESS: pass 3, at document #32000/75000\n",
      "2017-04-12 02:14:46,595 : INFO : merging changes from 2000 documents into a model of 75000 documents\n",
      "2017-04-12 02:14:46,797 : INFO : topic #2 (0.100): 0.039*\"film\" + 0.011*\"story\" + 0.010*\"one\" + 0.007*\"characters\" + 0.006*\"films\" + 0.006*\"well\" + 0.006*\"like\" + 0.006*\"good\" + 0.006*\"much\" + 0.005*\"see\"\n",
      "2017-04-12 02:14:46,799 : INFO : topic #7 (0.100): 0.008*\"love\" + 0.008*\"film\" + 0.007*\"music\" + 0.007*\"one\" + 0.006*\"version\" + 0.005*\"novel\" + 0.005*\"book\" + 0.005*\"musical\" + 0.005*\"beautiful\" + 0.005*\"story\"\n",
      "2017-04-12 02:14:46,801 : INFO : topic #5 (0.100): 0.007*\"man\" + 0.007*\"one\" + 0.005*\"film\" + 0.005*\"john\" + 0.004*\"also\" + 0.004*\"young\" + 0.004*\"role\" + 0.004*\"wife\" + 0.004*\"plays\" + 0.003*\"house\"\n",
      "2017-04-12 02:14:46,802 : INFO : topic #3 (0.100): 0.008*\"davis\" + 0.007*\"charlie\" + 0.006*\"adam\" + 0.004*\"sandler\" + 0.004*\"david\" + 0.004*\"moore\" + 0.003*\"bette\" + 0.003*\"khan\" + 0.003*\"washington\" + 0.003*\"bronson\"\n",
      "2017-04-12 02:14:46,804 : INFO : topic #0 (0.100): 0.008*\"film\" + 0.006*\"war\" + 0.006*\"life\" + 0.005*\"young\" + 0.005*\"man\" + 0.005*\"family\" + 0.005*\"one\" + 0.005*\"world\" + 0.003*\"father\" + 0.003*\"men\"\n",
      "2017-04-12 02:14:46,806 : INFO : topic diff=0.044043, rho=0.155230\n",
      "2017-04-12 02:14:47,218 : INFO : PROGRESS: pass 3, at document #34000/75000\n",
      "2017-04-12 02:14:49,912 : INFO : merging changes from 2000 documents into a model of 75000 documents\n",
      "2017-04-12 02:14:50,109 : INFO : topic #9 (0.100): 0.014*\"like\" + 0.010*\"get\" + 0.010*\"would\" + 0.010*\"one\" + 0.009*\"people\" + 0.007*\"see\" + 0.007*\"know\" + 0.007*\"could\" + 0.007*\"really\" + 0.006*\"even\"\n",
      "2017-04-12 02:14:50,110 : INFO : topic #2 (0.100): 0.039*\"film\" + 0.011*\"story\" + 0.010*\"one\" + 0.007*\"characters\" + 0.006*\"films\" + 0.006*\"well\" + 0.006*\"like\" + 0.006*\"good\" + 0.006*\"much\" + 0.005*\"see\"\n",
      "2017-04-12 02:14:50,113 : INFO : topic #3 (0.100): 0.007*\"davis\" + 0.007*\"charlie\" + 0.005*\"adam\" + 0.004*\"moore\" + 0.004*\"sandler\" + 0.004*\"david\" + 0.003*\"bette\" + 0.003*\"metal\" + 0.003*\"khan\" + 0.003*\"role\"\n",
      "2017-04-12 02:14:50,114 : INFO : topic #1 (0.100): 0.010*\"comedy\" + 0.009*\"character\" + 0.007*\"one\" + 0.007*\"cast\" + 0.007*\"film\" + 0.006*\"role\" + 0.006*\"funny\" + 0.005*\"script\" + 0.005*\"performance\" + 0.005*\"actor\"\n",
      "2017-04-12 02:14:50,116 : INFO : topic #8 (0.100): 0.014*\"show\" + 0.012*\"one\" + 0.012*\"great\" + 0.010*\"like\" + 0.010*\"good\" + 0.009*\"series\" + 0.008*\"first\" + 0.008*\"time\" + 0.008*\"see\" + 0.007*\"would\"\n",
      "2017-04-12 02:14:50,118 : INFO : topic diff=0.043078, rho=0.155230\n",
      "2017-04-12 02:14:50,555 : INFO : PROGRESS: pass 3, at document #36000/75000\n",
      "2017-04-12 02:14:53,366 : INFO : merging changes from 2000 documents into a model of 75000 documents\n",
      "2017-04-12 02:14:53,551 : INFO : topic #4 (0.100): 0.013*\"action\" + 0.007*\"one\" + 0.005*\"film\" + 0.004*\"police\" + 0.004*\"fight\" + 0.004*\"also\" + 0.004*\"scenes\" + 0.004*\"plot\" + 0.004*\"killer\" + 0.004*\"scene\"\n",
      "2017-04-12 02:14:53,553 : INFO : topic #3 (0.100): 0.007*\"davis\" + 0.007*\"charlie\" + 0.005*\"adam\" + 0.004*\"moore\" + 0.004*\"sandler\" + 0.004*\"david\" + 0.003*\"metal\" + 0.003*\"khan\" + 0.003*\"bette\" + 0.003*\"role\"\n",
      "2017-04-12 02:14:53,555 : INFO : topic #0 (0.100): 0.008*\"film\" + 0.006*\"life\" + 0.006*\"war\" + 0.005*\"young\" + 0.005*\"man\" + 0.005*\"family\" + 0.004*\"one\" + 0.004*\"world\" + 0.003*\"us\" + 0.003*\"men\"\n",
      "2017-04-12 02:14:53,556 : INFO : topic #6 (0.100): 0.019*\"film\" + 0.016*\"bad\" + 0.012*\"one\" + 0.011*\"like\" + 0.010*\"good\" + 0.010*\"even\" + 0.008*\"acting\" + 0.007*\"really\" + 0.007*\"movies\" + 0.007*\"horror\"\n",
      "2017-04-12 02:14:53,558 : INFO : topic #9 (0.100): 0.014*\"like\" + 0.010*\"get\" + 0.010*\"would\" + 0.010*\"one\" + 0.009*\"people\" + 0.007*\"see\" + 0.007*\"know\" + 0.007*\"could\" + 0.007*\"really\" + 0.006*\"even\"\n",
      "2017-04-12 02:14:53,560 : INFO : topic diff=0.043688, rho=0.155230\n",
      "2017-04-12 02:14:53,992 : INFO : PROGRESS: pass 3, at document #38000/75000\n",
      "2017-04-12 02:14:56,867 : INFO : merging changes from 2000 documents into a model of 75000 documents\n",
      "2017-04-12 02:14:57,066 : INFO : topic #4 (0.100): 0.013*\"action\" + 0.007*\"one\" + 0.005*\"film\" + 0.004*\"fight\" + 0.004*\"police\" + 0.004*\"also\" + 0.004*\"scenes\" + 0.004*\"plot\" + 0.004*\"killer\" + 0.004*\"two\"\n",
      "2017-04-12 02:14:57,067 : INFO : topic #2 (0.100): 0.039*\"film\" + 0.011*\"story\" + 0.010*\"one\" + 0.007*\"characters\" + 0.007*\"films\" + 0.006*\"well\" + 0.006*\"like\" + 0.006*\"good\" + 0.006*\"much\" + 0.005*\"see\"\n",
      "2017-04-12 02:14:57,069 : INFO : topic #5 (0.100): 0.007*\"man\" + 0.007*\"one\" + 0.006*\"film\" + 0.005*\"john\" + 0.004*\"also\" + 0.004*\"young\" + 0.004*\"role\" + 0.004*\"plays\" + 0.003*\"dr\" + 0.003*\"old\"\n",
      "2017-04-12 02:14:57,071 : INFO : topic #8 (0.100): 0.014*\"show\" + 0.012*\"one\" + 0.012*\"great\" + 0.010*\"like\" + 0.010*\"good\" + 0.009*\"series\" + 0.008*\"first\" + 0.008*\"time\" + 0.008*\"see\" + 0.007*\"would\"\n",
      "2017-04-12 02:14:57,074 : INFO : topic #6 (0.100): 0.019*\"film\" + 0.016*\"bad\" + 0.012*\"one\" + 0.011*\"like\" + 0.010*\"good\" + 0.010*\"even\" + 0.008*\"acting\" + 0.007*\"really\" + 0.007*\"movies\" + 0.007*\"horror\"\n",
      "2017-04-12 02:14:57,077 : INFO : topic diff=0.042610, rho=0.155230\n",
      "2017-04-12 02:15:06,401 : INFO : -8.595 per-word bound, 386.7 perplexity estimate based on a held-out corpus of 2000 documents with 228449 words\n",
      "2017-04-12 02:15:06,402 : INFO : PROGRESS: pass 3, at document #40000/75000\n",
      "2017-04-12 02:15:09,070 : INFO : merging changes from 2000 documents into a model of 75000 documents\n",
      "2017-04-12 02:15:09,263 : INFO : topic #7 (0.100): 0.008*\"film\" + 0.008*\"love\" + 0.007*\"music\" + 0.007*\"one\" + 0.006*\"version\" + 0.005*\"novel\" + 0.005*\"beautiful\" + 0.005*\"book\" + 0.005*\"musical\" + 0.004*\"story\"\n",
      "2017-04-12 02:15:09,265 : INFO : topic #6 (0.100): 0.019*\"film\" + 0.016*\"bad\" + 0.012*\"one\" + 0.011*\"like\" + 0.010*\"good\" + 0.010*\"even\" + 0.008*\"acting\" + 0.007*\"really\" + 0.007*\"movies\" + 0.006*\"horror\"\n",
      "2017-04-12 02:15:09,267 : INFO : topic #2 (0.100): 0.039*\"film\" + 0.011*\"story\" + 0.010*\"one\" + 0.007*\"characters\" + 0.006*\"films\" + 0.006*\"well\" + 0.006*\"like\" + 0.006*\"good\" + 0.006*\"much\" + 0.005*\"see\"\n",
      "2017-04-12 02:15:09,269 : INFO : topic #0 (0.100): 0.008*\"film\" + 0.006*\"war\" + 0.006*\"life\" + 0.005*\"man\" + 0.005*\"young\" + 0.005*\"family\" + 0.004*\"one\" + 0.004*\"world\" + 0.003*\"american\" + 0.003*\"men\"\n",
      "2017-04-12 02:15:09,270 : INFO : topic #9 (0.100): 0.014*\"like\" + 0.010*\"get\" + 0.010*\"would\" + 0.010*\"one\" + 0.009*\"people\" + 0.007*\"see\" + 0.007*\"know\" + 0.007*\"really\" + 0.007*\"could\" + 0.006*\"even\"\n",
      "2017-04-12 02:15:09,272 : INFO : topic diff=0.044237, rho=0.155230\n",
      "2017-04-12 02:15:09,695 : INFO : PROGRESS: pass 3, at document #42000/75000\n",
      "2017-04-12 02:15:12,597 : INFO : merging changes from 2000 documents into a model of 75000 documents\n",
      "2017-04-12 02:15:12,789 : INFO : topic #3 (0.100): 0.007*\"davis\" + 0.006*\"charlie\" + 0.005*\"adam\" + 0.004*\"david\" + 0.004*\"sandler\" + 0.004*\"bette\" + 0.004*\"moore\" + 0.004*\"khan\" + 0.003*\"chuck\" + 0.003*\"metal\"\n",
      "2017-04-12 02:15:12,791 : INFO : topic #5 (0.100): 0.007*\"man\" + 0.007*\"one\" + 0.006*\"film\" + 0.005*\"john\" + 0.004*\"also\" + 0.004*\"role\" + 0.004*\"young\" + 0.004*\"plays\" + 0.003*\"wife\" + 0.003*\"house\"\n",
      "2017-04-12 02:15:12,792 : INFO : topic #2 (0.100): 0.039*\"film\" + 0.011*\"story\" + 0.010*\"one\" + 0.007*\"characters\" + 0.006*\"films\" + 0.006*\"well\" + 0.006*\"like\" + 0.006*\"good\" + 0.006*\"much\" + 0.005*\"see\"\n",
      "2017-04-12 02:15:12,794 : INFO : topic #7 (0.100): 0.008*\"film\" + 0.008*\"love\" + 0.007*\"music\" + 0.007*\"one\" + 0.006*\"version\" + 0.005*\"novel\" + 0.005*\"book\" + 0.005*\"beautiful\" + 0.005*\"musical\" + 0.004*\"story\"\n",
      "2017-04-12 02:15:12,795 : INFO : topic #9 (0.100): 0.015*\"like\" + 0.010*\"get\" + 0.010*\"would\" + 0.009*\"one\" + 0.009*\"people\" + 0.007*\"see\" + 0.007*\"know\" + 0.007*\"could\" + 0.006*\"really\" + 0.006*\"even\"\n",
      "2017-04-12 02:15:12,797 : INFO : topic diff=0.041516, rho=0.155230\n",
      "2017-04-12 02:15:13,231 : INFO : PROGRESS: pass 3, at document #44000/75000\n",
      "2017-04-12 02:15:16,114 : INFO : merging changes from 2000 documents into a model of 75000 documents\n",
      "2017-04-12 02:15:16,316 : INFO : topic #8 (0.100): 0.014*\"show\" + 0.013*\"one\" + 0.012*\"great\" + 0.010*\"good\" + 0.010*\"like\" + 0.009*\"series\" + 0.008*\"first\" + 0.008*\"time\" + 0.008*\"see\" + 0.007*\"would\"\n",
      "2017-04-12 02:15:16,317 : INFO : topic #1 (0.100): 0.010*\"comedy\" + 0.009*\"character\" + 0.007*\"one\" + 0.007*\"cast\" + 0.007*\"film\" + 0.006*\"funny\" + 0.006*\"role\" + 0.005*\"script\" + 0.005*\"performance\" + 0.005*\"actor\"\n",
      "2017-04-12 02:15:16,319 : INFO : topic #4 (0.100): 0.013*\"action\" + 0.007*\"one\" + 0.005*\"film\" + 0.005*\"police\" + 0.005*\"fight\" + 0.004*\"also\" + 0.004*\"scenes\" + 0.004*\"scene\" + 0.004*\"plot\" + 0.004*\"killer\"\n",
      "2017-04-12 02:15:16,320 : INFO : topic #2 (0.100): 0.039*\"film\" + 0.011*\"story\" + 0.010*\"one\" + 0.007*\"characters\" + 0.006*\"films\" + 0.006*\"well\" + 0.006*\"like\" + 0.006*\"good\" + 0.006*\"much\" + 0.005*\"see\"\n",
      "2017-04-12 02:15:16,322 : INFO : topic #6 (0.100): 0.019*\"film\" + 0.016*\"bad\" + 0.012*\"one\" + 0.011*\"like\" + 0.010*\"good\" + 0.010*\"even\" + 0.008*\"acting\" + 0.007*\"really\" + 0.007*\"movies\" + 0.007*\"horror\"\n",
      "2017-04-12 02:15:16,324 : INFO : topic diff=0.042496, rho=0.155230\n",
      "2017-04-12 02:15:16,761 : INFO : PROGRESS: pass 3, at document #46000/75000\n",
      "2017-04-12 02:15:19,544 : INFO : merging changes from 2000 documents into a model of 75000 documents\n",
      "2017-04-12 02:15:19,731 : INFO : topic #3 (0.100): 0.007*\"charlie\" + 0.006*\"davis\" + 0.005*\"adam\" + 0.004*\"david\" + 0.004*\"khan\" + 0.004*\"bette\" + 0.004*\"moore\" + 0.004*\"sandler\" + 0.004*\"hopkins\" + 0.003*\"metal\"\n",
      "2017-04-12 02:15:19,733 : INFO : topic #8 (0.100): 0.014*\"show\" + 0.012*\"one\" + 0.012*\"great\" + 0.010*\"like\" + 0.010*\"good\" + 0.009*\"series\" + 0.008*\"first\" + 0.008*\"time\" + 0.008*\"see\" + 0.007*\"would\"\n",
      "2017-04-12 02:15:19,734 : INFO : topic #1 (0.100): 0.010*\"comedy\" + 0.009*\"character\" + 0.008*\"cast\" + 0.007*\"one\" + 0.007*\"film\" + 0.006*\"role\" + 0.006*\"funny\" + 0.005*\"performance\" + 0.005*\"script\" + 0.005*\"actor\"\n",
      "2017-04-12 02:15:19,736 : INFO : topic #4 (0.100): 0.013*\"action\" + 0.007*\"one\" + 0.005*\"film\" + 0.005*\"fight\" + 0.005*\"police\" + 0.004*\"scenes\" + 0.004*\"also\" + 0.004*\"cop\" + 0.004*\"scene\" + 0.004*\"plot\"\n",
      "2017-04-12 02:15:19,738 : INFO : topic #0 (0.100): 0.008*\"film\" + 0.006*\"war\" + 0.006*\"life\" + 0.005*\"man\" + 0.005*\"young\" + 0.005*\"family\" + 0.004*\"world\" + 0.004*\"one\" + 0.003*\"men\" + 0.003*\"american\"\n",
      "2017-04-12 02:15:19,740 : INFO : topic diff=0.042903, rho=0.155230\n",
      "2017-04-12 02:15:20,175 : INFO : PROGRESS: pass 3, at document #48000/75000\n",
      "2017-04-12 02:15:23,101 : INFO : merging changes from 2000 documents into a model of 75000 documents\n",
      "2017-04-12 02:15:23,304 : INFO : topic #8 (0.100): 0.014*\"show\" + 0.013*\"one\" + 0.012*\"great\" + 0.010*\"like\" + 0.010*\"good\" + 0.009*\"series\" + 0.008*\"first\" + 0.008*\"time\" + 0.008*\"see\" + 0.007*\"would\"\n",
      "2017-04-12 02:15:23,305 : INFO : topic #2 (0.100): 0.039*\"film\" + 0.011*\"story\" + 0.010*\"one\" + 0.007*\"characters\" + 0.006*\"like\" + 0.006*\"well\" + 0.006*\"films\" + 0.006*\"good\" + 0.006*\"much\" + 0.005*\"see\"\n",
      "2017-04-12 02:15:23,307 : INFO : topic #7 (0.100): 0.008*\"love\" + 0.008*\"film\" + 0.008*\"music\" + 0.007*\"one\" + 0.006*\"novel\" + 0.006*\"book\" + 0.005*\"version\" + 0.005*\"beautiful\" + 0.005*\"musical\" + 0.004*\"best\"\n",
      "2017-04-12 02:15:23,309 : INFO : topic #5 (0.100): 0.007*\"man\" + 0.007*\"one\" + 0.006*\"film\" + 0.005*\"john\" + 0.004*\"also\" + 0.004*\"young\" + 0.004*\"role\" + 0.004*\"plays\" + 0.003*\"wife\" + 0.003*\"house\"\n",
      "2017-04-12 02:15:23,311 : INFO : topic #3 (0.100): 0.006*\"charlie\" + 0.006*\"davis\" + 0.005*\"adam\" + 0.004*\"sandler\" + 0.004*\"david\" + 0.004*\"khan\" + 0.004*\"moore\" + 0.004*\"bette\" + 0.003*\"hopkins\" + 0.003*\"role\"\n",
      "2017-04-12 02:15:23,314 : INFO : topic diff=0.041802, rho=0.155230\n",
      "2017-04-12 02:15:23,730 : INFO : PROGRESS: pass 3, at document #50000/75000\n",
      "2017-04-12 02:15:26,653 : INFO : merging changes from 2000 documents into a model of 75000 documents\n",
      "2017-04-12 02:15:26,846 : INFO : topic #7 (0.100): 0.008*\"love\" + 0.008*\"film\" + 0.007*\"music\" + 0.007*\"one\" + 0.006*\"version\" + 0.005*\"novel\" + 0.005*\"book\" + 0.005*\"beautiful\" + 0.005*\"musical\" + 0.004*\"best\"\n",
      "2017-04-12 02:15:26,847 : INFO : topic #2 (0.100): 0.039*\"film\" + 0.011*\"story\" + 0.010*\"one\" + 0.007*\"characters\" + 0.006*\"well\" + 0.006*\"like\" + 0.006*\"films\" + 0.006*\"good\" + 0.006*\"much\" + 0.005*\"see\"\n",
      "2017-04-12 02:15:26,848 : INFO : topic #9 (0.100): 0.015*\"like\" + 0.010*\"get\" + 0.010*\"would\" + 0.010*\"one\" + 0.009*\"people\" + 0.007*\"see\" + 0.007*\"know\" + 0.007*\"could\" + 0.007*\"really\" + 0.006*\"even\"\n",
      "2017-04-12 02:15:26,850 : INFO : topic #5 (0.100): 0.007*\"one\" + 0.007*\"man\" + 0.006*\"film\" + 0.005*\"john\" + 0.004*\"also\" + 0.004*\"young\" + 0.004*\"role\" + 0.004*\"plays\" + 0.003*\"wife\" + 0.003*\"house\"\n",
      "2017-04-12 02:15:26,852 : INFO : topic #1 (0.100): 0.010*\"comedy\" + 0.009*\"character\" + 0.008*\"one\" + 0.007*\"cast\" + 0.007*\"film\" + 0.007*\"funny\" + 0.006*\"role\" + 0.005*\"performance\" + 0.005*\"script\" + 0.005*\"actor\"\n",
      "2017-04-12 02:15:26,854 : INFO : topic diff=0.040174, rho=0.155230\n",
      "2017-04-12 02:15:27,280 : INFO : PROGRESS: pass 3, at document #52000/75000\n",
      "2017-04-12 02:15:29,989 : INFO : merging changes from 2000 documents into a model of 75000 documents\n",
      "2017-04-12 02:15:30,179 : INFO : topic #0 (0.100): 0.008*\"film\" + 0.006*\"war\" + 0.006*\"life\" + 0.005*\"man\" + 0.005*\"family\" + 0.005*\"young\" + 0.004*\"one\" + 0.004*\"world\" + 0.004*\"american\" + 0.003*\"men\"\n",
      "2017-04-12 02:15:30,181 : INFO : topic #7 (0.100): 0.009*\"love\" + 0.008*\"film\" + 0.008*\"music\" + 0.007*\"one\" + 0.006*\"book\" + 0.006*\"version\" + 0.005*\"novel\" + 0.005*\"beautiful\" + 0.004*\"musical\" + 0.004*\"best\"\n",
      "2017-04-12 02:15:30,182 : INFO : topic #5 (0.100): 0.007*\"one\" + 0.007*\"man\" + 0.006*\"film\" + 0.005*\"john\" + 0.004*\"also\" + 0.004*\"young\" + 0.004*\"role\" + 0.004*\"plays\" + 0.003*\"wife\" + 0.003*\"house\"\n",
      "2017-04-12 02:15:30,183 : INFO : topic #9 (0.100): 0.015*\"like\" + 0.010*\"get\" + 0.010*\"would\" + 0.010*\"one\" + 0.009*\"people\" + 0.007*\"see\" + 0.007*\"know\" + 0.007*\"could\" + 0.007*\"really\" + 0.006*\"even\"\n",
      "2017-04-12 02:15:30,185 : INFO : topic #6 (0.100): 0.019*\"film\" + 0.016*\"bad\" + 0.012*\"one\" + 0.011*\"like\" + 0.010*\"good\" + 0.010*\"even\" + 0.008*\"acting\" + 0.007*\"movies\" + 0.007*\"really\" + 0.007*\"horror\"\n",
      "2017-04-12 02:15:30,188 : INFO : topic diff=0.039122, rho=0.155230\n",
      "2017-04-12 02:15:30,606 : INFO : PROGRESS: pass 3, at document #54000/75000\n",
      "2017-04-12 02:15:33,452 : INFO : merging changes from 2000 documents into a model of 75000 documents\n",
      "2017-04-12 02:15:33,639 : INFO : topic #5 (0.100): 0.007*\"one\" + 0.007*\"man\" + 0.005*\"film\" + 0.004*\"john\" + 0.004*\"also\" + 0.004*\"young\" + 0.004*\"role\" + 0.004*\"plays\" + 0.003*\"wife\" + 0.003*\"house\"\n",
      "2017-04-12 02:15:33,641 : INFO : topic #7 (0.100): 0.009*\"love\" + 0.008*\"film\" + 0.007*\"music\" + 0.007*\"one\" + 0.006*\"version\" + 0.005*\"book\" + 0.005*\"novel\" + 0.005*\"beautiful\" + 0.004*\"musical\" + 0.004*\"best\"\n",
      "2017-04-12 02:15:33,643 : INFO : topic #3 (0.100): 0.006*\"davis\" + 0.006*\"charlie\" + 0.006*\"adam\" + 0.005*\"sandler\" + 0.004*\"khan\" + 0.004*\"hopkins\" + 0.004*\"metal\" + 0.004*\"david\" + 0.004*\"moore\" + 0.003*\"bette\"\n",
      "2017-04-12 02:15:33,644 : INFO : topic #9 (0.100): 0.015*\"like\" + 0.010*\"get\" + 0.010*\"would\" + 0.010*\"one\" + 0.009*\"people\" + 0.007*\"see\" + 0.007*\"know\" + 0.007*\"could\" + 0.007*\"really\" + 0.006*\"even\"\n",
      "2017-04-12 02:15:33,646 : INFO : topic #6 (0.100): 0.019*\"film\" + 0.016*\"bad\" + 0.012*\"one\" + 0.011*\"like\" + 0.010*\"good\" + 0.010*\"even\" + 0.008*\"acting\" + 0.007*\"really\" + 0.007*\"movies\" + 0.007*\"horror\"\n",
      "2017-04-12 02:15:33,647 : INFO : topic diff=0.040015, rho=0.155230\n",
      "2017-04-12 02:15:34,067 : INFO : PROGRESS: pass 3, at document #56000/75000\n",
      "2017-04-12 02:15:36,933 : INFO : merging changes from 2000 documents into a model of 75000 documents\n",
      "2017-04-12 02:15:37,136 : INFO : topic #7 (0.100): 0.009*\"love\" + 0.008*\"film\" + 0.007*\"music\" + 0.006*\"one\" + 0.006*\"version\" + 0.005*\"novel\" + 0.005*\"book\" + 0.005*\"beautiful\" + 0.004*\"musical\" + 0.004*\"best\"\n",
      "2017-04-12 02:15:37,138 : INFO : topic #5 (0.100): 0.007*\"man\" + 0.007*\"one\" + 0.005*\"film\" + 0.005*\"john\" + 0.004*\"also\" + 0.004*\"young\" + 0.004*\"role\" + 0.004*\"plays\" + 0.003*\"wife\" + 0.003*\"house\"\n",
      "2017-04-12 02:15:37,140 : INFO : topic #3 (0.100): 0.007*\"davis\" + 0.006*\"charlie\" + 0.005*\"adam\" + 0.005*\"sandler\" + 0.004*\"metal\" + 0.004*\"chuck\" + 0.004*\"khan\" + 0.004*\"bette\" + 0.004*\"hopkins\" + 0.004*\"david\"\n",
      "2017-04-12 02:15:37,142 : INFO : topic #9 (0.100): 0.015*\"like\" + 0.010*\"get\" + 0.010*\"would\" + 0.010*\"one\" + 0.009*\"people\" + 0.007*\"see\" + 0.007*\"know\" + 0.007*\"could\" + 0.007*\"really\" + 0.006*\"even\"\n",
      "2017-04-12 02:15:37,144 : INFO : topic #0 (0.100): 0.008*\"film\" + 0.006*\"war\" + 0.006*\"life\" + 0.005*\"man\" + 0.005*\"young\" + 0.004*\"family\" + 0.004*\"one\" + 0.004*\"world\" + 0.004*\"american\" + 0.003*\"men\"\n",
      "2017-04-12 02:15:37,146 : INFO : topic diff=0.039637, rho=0.155230\n",
      "2017-04-12 02:15:37,601 : INFO : PROGRESS: pass 3, at document #58000/75000\n",
      "2017-04-12 02:15:40,349 : INFO : merging changes from 2000 documents into a model of 75000 documents\n",
      "2017-04-12 02:15:40,537 : INFO : topic #0 (0.100): 0.008*\"film\" + 0.006*\"war\" + 0.006*\"life\" + 0.005*\"man\" + 0.005*\"young\" + 0.004*\"family\" + 0.004*\"one\" + 0.004*\"world\" + 0.004*\"american\" + 0.003*\"men\"\n",
      "2017-04-12 02:15:40,539 : INFO : topic #4 (0.100): 0.014*\"action\" + 0.007*\"one\" + 0.005*\"film\" + 0.005*\"police\" + 0.005*\"fight\" + 0.004*\"also\" + 0.004*\"scenes\" + 0.004*\"plot\" + 0.004*\"scene\" + 0.004*\"cop\"\n",
      "2017-04-12 02:15:40,541 : INFO : topic #7 (0.100): 0.009*\"love\" + 0.008*\"film\" + 0.008*\"music\" + 0.007*\"one\" + 0.006*\"novel\" + 0.005*\"version\" + 0.005*\"book\" + 0.005*\"beautiful\" + 0.005*\"musical\" + 0.004*\"best\"\n",
      "2017-04-12 02:15:40,542 : INFO : topic #6 (0.100): 0.019*\"film\" + 0.015*\"bad\" + 0.012*\"one\" + 0.011*\"like\" + 0.010*\"even\" + 0.010*\"good\" + 0.008*\"acting\" + 0.007*\"really\" + 0.007*\"movies\" + 0.007*\"horror\"\n",
      "2017-04-12 02:15:40,544 : INFO : topic #8 (0.100): 0.014*\"show\" + 0.013*\"one\" + 0.012*\"great\" + 0.010*\"like\" + 0.009*\"good\" + 0.009*\"series\" + 0.008*\"first\" + 0.008*\"time\" + 0.008*\"see\" + 0.007*\"would\"\n",
      "2017-04-12 02:15:40,546 : INFO : topic diff=0.041111, rho=0.155230\n",
      "2017-04-12 02:15:49,453 : INFO : -8.573 per-word bound, 380.9 perplexity estimate based on a held-out corpus of 2000 documents with 223516 words\n",
      "2017-04-12 02:15:49,454 : INFO : PROGRESS: pass 3, at document #60000/75000\n",
      "2017-04-12 02:15:52,180 : INFO : merging changes from 2000 documents into a model of 75000 documents\n",
      "2017-04-12 02:15:52,366 : INFO : topic #2 (0.100): 0.039*\"film\" + 0.011*\"story\" + 0.010*\"one\" + 0.007*\"characters\" + 0.006*\"films\" + 0.006*\"well\" + 0.006*\"like\" + 0.006*\"good\" + 0.006*\"much\" + 0.005*\"see\"\n",
      "2017-04-12 02:15:52,367 : INFO : topic #4 (0.100): 0.014*\"action\" + 0.007*\"one\" + 0.005*\"film\" + 0.004*\"police\" + 0.004*\"fight\" + 0.004*\"also\" + 0.004*\"scenes\" + 0.004*\"plot\" + 0.004*\"hero\" + 0.004*\"scene\"\n",
      "2017-04-12 02:15:52,369 : INFO : topic #7 (0.100): 0.008*\"love\" + 0.008*\"film\" + 0.008*\"music\" + 0.007*\"one\" + 0.006*\"novel\" + 0.006*\"version\" + 0.005*\"book\" + 0.005*\"beautiful\" + 0.005*\"musical\" + 0.004*\"best\"\n",
      "2017-04-12 02:15:52,371 : INFO : topic #6 (0.100): 0.019*\"film\" + 0.016*\"bad\" + 0.012*\"one\" + 0.011*\"like\" + 0.010*\"even\" + 0.010*\"good\" + 0.008*\"acting\" + 0.007*\"movies\" + 0.007*\"really\" + 0.007*\"horror\"\n",
      "2017-04-12 02:15:52,372 : INFO : topic #5 (0.100): 0.007*\"man\" + 0.007*\"one\" + 0.006*\"film\" + 0.004*\"also\" + 0.004*\"john\" + 0.004*\"young\" + 0.004*\"role\" + 0.004*\"plays\" + 0.003*\"old\" + 0.003*\"house\"\n",
      "2017-04-12 02:15:52,374 : INFO : topic diff=0.039395, rho=0.155230\n",
      "2017-04-12 02:15:52,763 : INFO : PROGRESS: pass 3, at document #62000/75000\n",
      "2017-04-12 02:15:55,426 : INFO : merging changes from 2000 documents into a model of 75000 documents\n",
      "2017-04-12 02:15:55,614 : INFO : topic #2 (0.100): 0.039*\"film\" + 0.011*\"story\" + 0.010*\"one\" + 0.007*\"characters\" + 0.006*\"well\" + 0.006*\"films\" + 0.006*\"like\" + 0.006*\"good\" + 0.006*\"much\" + 0.005*\"see\"\n",
      "2017-04-12 02:15:55,615 : INFO : topic #4 (0.100): 0.014*\"action\" + 0.007*\"one\" + 0.005*\"film\" + 0.005*\"police\" + 0.004*\"fight\" + 0.004*\"also\" + 0.004*\"scenes\" + 0.004*\"plot\" + 0.004*\"hero\" + 0.004*\"cop\"\n",
      "2017-04-12 02:15:55,617 : INFO : topic #8 (0.100): 0.014*\"show\" + 0.013*\"one\" + 0.012*\"great\" + 0.010*\"like\" + 0.009*\"good\" + 0.009*\"series\" + 0.008*\"first\" + 0.008*\"time\" + 0.008*\"see\" + 0.007*\"would\"\n",
      "2017-04-12 02:15:55,618 : INFO : topic #1 (0.100): 0.010*\"comedy\" + 0.009*\"character\" + 0.007*\"one\" + 0.007*\"cast\" + 0.007*\"film\" + 0.007*\"funny\" + 0.006*\"role\" + 0.005*\"performance\" + 0.005*\"actor\" + 0.005*\"script\"\n",
      "2017-04-12 02:15:55,620 : INFO : topic #7 (0.100): 0.008*\"love\" + 0.008*\"film\" + 0.008*\"music\" + 0.007*\"one\" + 0.006*\"novel\" + 0.005*\"version\" + 0.005*\"book\" + 0.005*\"musical\" + 0.005*\"beautiful\" + 0.004*\"best\"\n",
      "2017-04-12 02:15:55,622 : INFO : topic diff=0.038439, rho=0.155230\n",
      "2017-04-12 02:15:56,034 : INFO : PROGRESS: pass 3, at document #64000/75000\n",
      "2017-04-12 02:15:58,674 : INFO : merging changes from 2000 documents into a model of 75000 documents\n",
      "2017-04-12 02:15:58,861 : INFO : topic #9 (0.100): 0.015*\"like\" + 0.010*\"get\" + 0.010*\"would\" + 0.010*\"one\" + 0.009*\"people\" + 0.007*\"see\" + 0.007*\"know\" + 0.007*\"could\" + 0.007*\"really\" + 0.006*\"even\"\n",
      "2017-04-12 02:15:58,862 : INFO : topic #3 (0.100): 0.008*\"davis\" + 0.006*\"charlie\" + 0.006*\"sandler\" + 0.005*\"adam\" + 0.004*\"khan\" + 0.004*\"chuck\" + 0.004*\"hopkins\" + 0.004*\"moore\" + 0.004*\"david\" + 0.004*\"bette\"\n",
      "2017-04-12 02:15:58,864 : INFO : topic #5 (0.100): 0.007*\"man\" + 0.007*\"one\" + 0.006*\"film\" + 0.005*\"also\" + 0.004*\"john\" + 0.004*\"young\" + 0.004*\"role\" + 0.004*\"woman\" + 0.004*\"plays\" + 0.004*\"old\"\n",
      "2017-04-12 02:15:58,866 : INFO : topic #0 (0.100): 0.007*\"film\" + 0.006*\"war\" + 0.006*\"life\" + 0.005*\"man\" + 0.005*\"young\" + 0.004*\"world\" + 0.004*\"one\" + 0.004*\"family\" + 0.004*\"american\" + 0.003*\"men\"\n",
      "2017-04-12 02:15:58,868 : INFO : topic #7 (0.100): 0.008*\"love\" + 0.008*\"film\" + 0.008*\"music\" + 0.007*\"one\" + 0.006*\"novel\" + 0.005*\"version\" + 0.005*\"book\" + 0.005*\"beautiful\" + 0.005*\"musical\" + 0.004*\"best\"\n",
      "2017-04-12 02:15:58,870 : INFO : topic diff=0.040951, rho=0.155230\n",
      "2017-04-12 02:15:59,284 : INFO : PROGRESS: pass 3, at document #66000/75000\n",
      "2017-04-12 02:16:01,978 : INFO : merging changes from 2000 documents into a model of 75000 documents\n",
      "2017-04-12 02:16:02,168 : INFO : topic #0 (0.100): 0.007*\"film\" + 0.006*\"war\" + 0.006*\"life\" + 0.005*\"man\" + 0.005*\"world\" + 0.005*\"young\" + 0.004*\"one\" + 0.004*\"family\" + 0.004*\"american\" + 0.003*\"men\"\n",
      "2017-04-12 02:16:02,169 : INFO : topic #2 (0.100): 0.038*\"film\" + 0.011*\"story\" + 0.010*\"one\" + 0.007*\"characters\" + 0.006*\"well\" + 0.006*\"films\" + 0.006*\"like\" + 0.006*\"good\" + 0.006*\"much\" + 0.005*\"character\"\n",
      "2017-04-12 02:16:02,172 : INFO : topic #6 (0.100): 0.019*\"film\" + 0.016*\"bad\" + 0.012*\"one\" + 0.011*\"like\" + 0.010*\"even\" + 0.010*\"good\" + 0.008*\"acting\" + 0.007*\"movies\" + 0.007*\"really\" + 0.006*\"horror\"\n",
      "2017-04-12 02:16:02,174 : INFO : topic #7 (0.100): 0.008*\"love\" + 0.008*\"music\" + 0.008*\"film\" + 0.007*\"one\" + 0.005*\"version\" + 0.005*\"novel\" + 0.005*\"beautiful\" + 0.005*\"book\" + 0.005*\"musical\" + 0.004*\"best\"\n",
      "2017-04-12 02:16:02,177 : INFO : topic #4 (0.100): 0.013*\"action\" + 0.007*\"one\" + 0.005*\"film\" + 0.005*\"police\" + 0.004*\"fight\" + 0.004*\"scenes\" + 0.004*\"also\" + 0.004*\"cop\" + 0.004*\"scene\" + 0.004*\"plot\"\n",
      "2017-04-12 02:16:02,179 : INFO : topic diff=0.039160, rho=0.155230\n",
      "2017-04-12 02:16:02,607 : INFO : PROGRESS: pass 3, at document #68000/75000\n",
      "2017-04-12 02:16:05,286 : INFO : merging changes from 2000 documents into a model of 75000 documents\n",
      "2017-04-12 02:16:05,470 : INFO : topic #1 (0.100): 0.010*\"comedy\" + 0.009*\"character\" + 0.008*\"one\" + 0.007*\"cast\" + 0.007*\"film\" + 0.007*\"funny\" + 0.006*\"role\" + 0.005*\"performance\" + 0.005*\"script\" + 0.005*\"actor\"\n",
      "2017-04-12 02:16:05,472 : INFO : topic #8 (0.100): 0.014*\"show\" + 0.013*\"one\" + 0.012*\"great\" + 0.010*\"like\" + 0.009*\"good\" + 0.009*\"series\" + 0.008*\"first\" + 0.008*\"see\" + 0.008*\"time\" + 0.007*\"would\"\n",
      "2017-04-12 02:16:05,473 : INFO : topic #2 (0.100): 0.039*\"film\" + 0.011*\"story\" + 0.010*\"one\" + 0.007*\"characters\" + 0.006*\"films\" + 0.006*\"well\" + 0.006*\"like\" + 0.006*\"much\" + 0.006*\"good\" + 0.005*\"see\"\n",
      "2017-04-12 02:16:05,475 : INFO : topic #7 (0.100): 0.008*\"love\" + 0.008*\"music\" + 0.008*\"film\" + 0.007*\"one\" + 0.006*\"version\" + 0.005*\"book\" + 0.005*\"novel\" + 0.005*\"beautiful\" + 0.005*\"musical\" + 0.004*\"best\"\n",
      "2017-04-12 02:16:05,477 : INFO : topic #6 (0.100): 0.020*\"film\" + 0.016*\"bad\" + 0.012*\"one\" + 0.011*\"like\" + 0.010*\"even\" + 0.010*\"good\" + 0.008*\"acting\" + 0.007*\"movies\" + 0.007*\"really\" + 0.006*\"horror\"\n",
      "2017-04-12 02:16:05,479 : INFO : topic diff=0.040062, rho=0.155230\n",
      "2017-04-12 02:16:05,887 : INFO : PROGRESS: pass 3, at document #70000/75000\n",
      "2017-04-12 02:16:08,542 : INFO : merging changes from 2000 documents into a model of 75000 documents\n",
      "2017-04-12 02:16:08,729 : INFO : topic #3 (0.100): 0.008*\"davis\" + 0.006*\"charlie\" + 0.005*\"moore\" + 0.005*\"adam\" + 0.005*\"khan\" + 0.005*\"sandler\" + 0.004*\"bette\" + 0.004*\"chuck\" + 0.004*\"david\" + 0.004*\"hopkins\"\n",
      "2017-04-12 02:16:08,730 : INFO : topic #7 (0.100): 0.008*\"music\" + 0.008*\"love\" + 0.008*\"film\" + 0.007*\"one\" + 0.006*\"book\" + 0.006*\"version\" + 0.005*\"novel\" + 0.005*\"beautiful\" + 0.005*\"musical\" + 0.004*\"best\"\n",
      "2017-04-12 02:16:08,732 : INFO : topic #0 (0.100): 0.007*\"film\" + 0.006*\"war\" + 0.005*\"life\" + 0.005*\"man\" + 0.005*\"world\" + 0.004*\"young\" + 0.004*\"one\" + 0.004*\"family\" + 0.004*\"american\" + 0.004*\"men\"\n",
      "2017-04-12 02:16:08,734 : INFO : topic #4 (0.100): 0.013*\"action\" + 0.007*\"one\" + 0.005*\"film\" + 0.005*\"police\" + 0.004*\"fight\" + 0.004*\"also\" + 0.004*\"scenes\" + 0.004*\"plot\" + 0.004*\"scene\" + 0.004*\"cop\"\n",
      "2017-04-12 02:16:08,736 : INFO : topic #6 (0.100): 0.020*\"film\" + 0.016*\"bad\" + 0.012*\"one\" + 0.012*\"like\" + 0.010*\"even\" + 0.010*\"good\" + 0.008*\"acting\" + 0.007*\"really\" + 0.007*\"movies\" + 0.006*\"horror\"\n",
      "2017-04-12 02:16:08,738 : INFO : topic diff=0.040752, rho=0.155230\n",
      "2017-04-12 02:16:09,150 : INFO : PROGRESS: pass 3, at document #72000/75000\n",
      "2017-04-12 02:16:11,868 : INFO : merging changes from 2000 documents into a model of 75000 documents\n",
      "2017-04-12 02:16:12,051 : INFO : topic #0 (0.100): 0.007*\"film\" + 0.006*\"war\" + 0.005*\"life\" + 0.005*\"man\" + 0.005*\"world\" + 0.004*\"young\" + 0.004*\"one\" + 0.004*\"family\" + 0.004*\"american\" + 0.004*\"men\"\n",
      "2017-04-12 02:16:12,053 : INFO : topic #6 (0.100): 0.020*\"film\" + 0.016*\"bad\" + 0.012*\"one\" + 0.012*\"like\" + 0.010*\"even\" + 0.010*\"good\" + 0.008*\"acting\" + 0.007*\"really\" + 0.007*\"movies\" + 0.006*\"horror\"\n",
      "2017-04-12 02:16:12,054 : INFO : topic #4 (0.100): 0.013*\"action\" + 0.007*\"one\" + 0.005*\"film\" + 0.005*\"police\" + 0.004*\"fight\" + 0.004*\"also\" + 0.004*\"scenes\" + 0.004*\"plot\" + 0.004*\"car\" + 0.004*\"scene\"\n",
      "2017-04-12 02:16:12,056 : INFO : topic #2 (0.100): 0.039*\"film\" + 0.011*\"story\" + 0.010*\"one\" + 0.007*\"characters\" + 0.006*\"well\" + 0.006*\"films\" + 0.006*\"like\" + 0.006*\"good\" + 0.006*\"much\" + 0.005*\"character\"\n",
      "2017-04-12 02:16:12,057 : INFO : topic #1 (0.100): 0.010*\"comedy\" + 0.009*\"character\" + 0.007*\"one\" + 0.007*\"cast\" + 0.007*\"film\" + 0.007*\"funny\" + 0.006*\"role\" + 0.006*\"performance\" + 0.005*\"script\" + 0.005*\"actor\"\n",
      "2017-04-12 02:16:12,059 : INFO : topic diff=0.039620, rho=0.155230\n",
      "2017-04-12 02:16:12,471 : INFO : PROGRESS: pass 3, at document #74000/75000\n",
      "2017-04-12 02:16:15,237 : INFO : merging changes from 2000 documents into a model of 75000 documents\n",
      "2017-04-12 02:16:15,420 : INFO : topic #5 (0.100): 0.007*\"man\" + 0.006*\"one\" + 0.006*\"film\" + 0.005*\"also\" + 0.004*\"john\" + 0.004*\"young\" + 0.004*\"role\" + 0.004*\"plays\" + 0.004*\"old\" + 0.004*\"wife\"\n",
      "2017-04-12 02:16:15,421 : INFO : topic #2 (0.100): 0.039*\"film\" + 0.011*\"story\" + 0.010*\"one\" + 0.007*\"characters\" + 0.006*\"films\" + 0.006*\"well\" + 0.006*\"like\" + 0.006*\"good\" + 0.006*\"much\" + 0.005*\"character\"\n",
      "2017-04-12 02:16:15,423 : INFO : topic #3 (0.100): 0.008*\"davis\" + 0.007*\"charlie\" + 0.005*\"khan\" + 0.005*\"bette\" + 0.005*\"adam\" + 0.005*\"moore\" + 0.004*\"sandler\" + 0.004*\"chuck\" + 0.004*\"metal\" + 0.004*\"david\"\n",
      "2017-04-12 02:16:15,424 : INFO : topic #6 (0.100): 0.020*\"film\" + 0.016*\"bad\" + 0.012*\"one\" + 0.012*\"like\" + 0.010*\"good\" + 0.010*\"even\" + 0.008*\"acting\" + 0.007*\"really\" + 0.007*\"movies\" + 0.007*\"horror\"\n",
      "2017-04-12 02:16:15,426 : INFO : topic #1 (0.100): 0.010*\"comedy\" + 0.009*\"character\" + 0.007*\"one\" + 0.007*\"cast\" + 0.007*\"film\" + 0.007*\"funny\" + 0.007*\"role\" + 0.005*\"performance\" + 0.005*\"script\" + 0.005*\"actor\"\n",
      "2017-04-12 02:16:15,428 : INFO : topic diff=0.040844, rho=0.155230\n",
      "2017-04-12 02:16:19,915 : INFO : -8.575 per-word bound, 381.3 perplexity estimate based on a held-out corpus of 1000 documents with 112974 words\n",
      "2017-04-12 02:16:19,916 : INFO : PROGRESS: pass 3, at document #75000/75000\n",
      "2017-04-12 02:16:21,240 : INFO : merging changes from 1000 documents into a model of 75000 documents\n",
      "2017-04-12 02:16:21,436 : INFO : topic #2 (0.100): 0.039*\"film\" + 0.011*\"story\" + 0.010*\"one\" + 0.007*\"characters\" + 0.006*\"well\" + 0.006*\"films\" + 0.006*\"like\" + 0.006*\"good\" + 0.006*\"much\" + 0.005*\"see\"\n",
      "2017-04-12 02:16:21,438 : INFO : topic #4 (0.100): 0.014*\"action\" + 0.008*\"one\" + 0.005*\"film\" + 0.005*\"police\" + 0.004*\"fight\" + 0.004*\"also\" + 0.004*\"scenes\" + 0.004*\"cop\" + 0.004*\"plot\" + 0.004*\"two\"\n",
      "2017-04-12 02:16:21,440 : INFO : topic #7 (0.100): 0.008*\"music\" + 0.008*\"love\" + 0.008*\"film\" + 0.006*\"one\" + 0.006*\"version\" + 0.005*\"novel\" + 0.005*\"beautiful\" + 0.005*\"book\" + 0.005*\"best\" + 0.005*\"musical\"\n",
      "2017-04-12 02:16:21,441 : INFO : topic #0 (0.100): 0.007*\"film\" + 0.006*\"war\" + 0.005*\"life\" + 0.005*\"world\" + 0.005*\"man\" + 0.004*\"young\" + 0.004*\"one\" + 0.004*\"family\" + 0.004*\"american\" + 0.004*\"men\"\n",
      "2017-04-12 02:16:21,443 : INFO : topic #1 (0.100): 0.010*\"comedy\" + 0.009*\"character\" + 0.007*\"one\" + 0.007*\"cast\" + 0.007*\"funny\" + 0.007*\"film\" + 0.007*\"role\" + 0.005*\"performance\" + 0.005*\"script\" + 0.005*\"actor\"\n",
      "2017-04-12 02:16:21,445 : INFO : topic diff=0.042164, rho=0.155230\n",
      "2017-04-12 02:16:21,910 : INFO : PROGRESS: pass 4, at document #2000/75000\n",
      "2017-04-12 02:16:24,634 : INFO : merging changes from 2000 documents into a model of 75000 documents\n",
      "2017-04-12 02:16:24,816 : INFO : topic #1 (0.100): 0.010*\"comedy\" + 0.009*\"character\" + 0.007*\"one\" + 0.007*\"cast\" + 0.007*\"film\" + 0.007*\"funny\" + 0.007*\"role\" + 0.005*\"performance\" + 0.005*\"script\" + 0.005*\"actor\"\n",
      "2017-04-12 02:16:24,817 : INFO : topic #0 (0.100): 0.008*\"film\" + 0.006*\"war\" + 0.006*\"life\" + 0.005*\"man\" + 0.004*\"world\" + 0.004*\"young\" + 0.004*\"one\" + 0.004*\"family\" + 0.004*\"american\" + 0.004*\"men\"\n",
      "2017-04-12 02:16:24,819 : INFO : topic #9 (0.100): 0.015*\"like\" + 0.010*\"get\" + 0.010*\"would\" + 0.010*\"one\" + 0.009*\"people\" + 0.007*\"see\" + 0.007*\"know\" + 0.007*\"could\" + 0.007*\"really\" + 0.006*\"even\"\n",
      "2017-04-12 02:16:24,820 : INFO : topic #2 (0.100): 0.039*\"film\" + 0.011*\"story\" + 0.010*\"one\" + 0.007*\"characters\" + 0.006*\"films\" + 0.006*\"well\" + 0.006*\"like\" + 0.006*\"good\" + 0.006*\"much\" + 0.005*\"see\"\n",
      "2017-04-12 02:16:24,821 : INFO : topic #5 (0.100): 0.007*\"man\" + 0.006*\"one\" + 0.006*\"film\" + 0.005*\"also\" + 0.004*\"john\" + 0.004*\"young\" + 0.004*\"role\" + 0.004*\"plays\" + 0.004*\"old\" + 0.004*\"wife\"\n",
      "2017-04-12 02:16:24,823 : INFO : topic diff=0.051724, rho=0.153393\n",
      "2017-04-12 02:16:25,257 : INFO : PROGRESS: pass 4, at document #4000/75000\n",
      "2017-04-12 02:16:27,900 : INFO : merging changes from 2000 documents into a model of 75000 documents\n",
      "2017-04-12 02:16:28,084 : INFO : topic #0 (0.100): 0.008*\"film\" + 0.006*\"war\" + 0.006*\"life\" + 0.005*\"man\" + 0.005*\"young\" + 0.004*\"world\" + 0.004*\"one\" + 0.004*\"family\" + 0.004*\"american\" + 0.004*\"men\"\n",
      "2017-04-12 02:16:28,086 : INFO : topic #7 (0.100): 0.008*\"love\" + 0.008*\"music\" + 0.008*\"film\" + 0.006*\"one\" + 0.006*\"version\" + 0.005*\"novel\" + 0.005*\"beautiful\" + 0.005*\"book\" + 0.005*\"musical\" + 0.005*\"best\"\n",
      "2017-04-12 02:16:28,088 : INFO : topic #4 (0.100): 0.013*\"action\" + 0.007*\"one\" + 0.005*\"police\" + 0.005*\"film\" + 0.004*\"fight\" + 0.004*\"also\" + 0.004*\"scenes\" + 0.004*\"cop\" + 0.004*\"plot\" + 0.004*\"two\"\n",
      "2017-04-12 02:16:28,090 : INFO : topic #5 (0.100): 0.007*\"man\" + 0.006*\"one\" + 0.006*\"film\" + 0.005*\"also\" + 0.004*\"john\" + 0.004*\"young\" + 0.004*\"role\" + 0.004*\"old\" + 0.004*\"wife\" + 0.004*\"house\"\n",
      "2017-04-12 02:16:28,091 : INFO : topic #2 (0.100): 0.039*\"film\" + 0.011*\"story\" + 0.010*\"one\" + 0.007*\"characters\" + 0.006*\"films\" + 0.006*\"well\" + 0.006*\"good\" + 0.006*\"like\" + 0.006*\"much\" + 0.005*\"character\"\n",
      "2017-04-12 02:16:28,093 : INFO : topic diff=0.051288, rho=0.153393\n",
      "2017-04-12 02:16:28,498 : INFO : PROGRESS: pass 4, at document #6000/75000\n",
      "2017-04-12 02:16:31,151 : INFO : merging changes from 2000 documents into a model of 75000 documents\n",
      "2017-04-12 02:16:31,342 : INFO : topic #1 (0.100): 0.010*\"comedy\" + 0.009*\"character\" + 0.007*\"one\" + 0.007*\"cast\" + 0.007*\"film\" + 0.007*\"funny\" + 0.007*\"role\" + 0.005*\"performance\" + 0.005*\"script\" + 0.005*\"actor\"\n",
      "2017-04-12 02:16:31,344 : INFO : topic #8 (0.100): 0.014*\"show\" + 0.013*\"one\" + 0.012*\"great\" + 0.010*\"like\" + 0.010*\"good\" + 0.008*\"time\" + 0.008*\"see\" + 0.008*\"first\" + 0.008*\"series\" + 0.007*\"would\"\n",
      "2017-04-12 02:16:31,345 : INFO : topic #2 (0.100): 0.039*\"film\" + 0.011*\"story\" + 0.010*\"one\" + 0.007*\"characters\" + 0.006*\"films\" + 0.006*\"well\" + 0.006*\"like\" + 0.006*\"good\" + 0.006*\"much\" + 0.005*\"see\"\n",
      "2017-04-12 02:16:31,347 : INFO : topic #4 (0.100): 0.013*\"action\" + 0.007*\"one\" + 0.005*\"police\" + 0.005*\"film\" + 0.004*\"fight\" + 0.004*\"also\" + 0.004*\"scenes\" + 0.004*\"car\" + 0.004*\"cop\" + 0.004*\"plot\"\n",
      "2017-04-12 02:16:31,349 : INFO : topic #3 (0.100): 0.007*\"davis\" + 0.007*\"charlie\" + 0.005*\"sandler\" + 0.005*\"adam\" + 0.004*\"khan\" + 0.004*\"david\" + 0.004*\"bette\" + 0.004*\"moore\" + 0.003*\"chuck\" + 0.003*\"sutherland\"\n",
      "2017-04-12 02:16:31,351 : INFO : topic diff=0.046993, rho=0.153393\n",
      "2017-04-12 02:16:31,769 : INFO : PROGRESS: pass 4, at document #8000/75000\n",
      "2017-04-12 02:16:34,463 : INFO : merging changes from 2000 documents into a model of 75000 documents\n",
      "2017-04-12 02:16:34,644 : INFO : topic #6 (0.100): 0.020*\"film\" + 0.015*\"bad\" + 0.012*\"one\" + 0.011*\"like\" + 0.010*\"even\" + 0.010*\"good\" + 0.008*\"acting\" + 0.008*\"really\" + 0.007*\"movies\" + 0.007*\"horror\"\n",
      "2017-04-12 02:16:34,646 : INFO : topic #7 (0.100): 0.008*\"love\" + 0.008*\"music\" + 0.008*\"film\" + 0.006*\"one\" + 0.006*\"version\" + 0.005*\"novel\" + 0.005*\"beautiful\" + 0.005*\"book\" + 0.005*\"musical\" + 0.005*\"best\"\n",
      "2017-04-12 02:16:34,648 : INFO : topic #4 (0.100): 0.014*\"action\" + 0.007*\"one\" + 0.005*\"film\" + 0.005*\"police\" + 0.004*\"fight\" + 0.004*\"also\" + 0.004*\"scenes\" + 0.004*\"car\" + 0.004*\"plot\" + 0.004*\"cop\"\n",
      "2017-04-12 02:16:34,650 : INFO : topic #9 (0.100): 0.015*\"like\" + 0.010*\"get\" + 0.010*\"would\" + 0.010*\"one\" + 0.009*\"people\" + 0.007*\"see\" + 0.007*\"know\" + 0.007*\"really\" + 0.006*\"could\" + 0.006*\"think\"\n",
      "2017-04-12 02:16:34,651 : INFO : topic #8 (0.100): 0.014*\"show\" + 0.013*\"one\" + 0.012*\"great\" + 0.010*\"like\" + 0.009*\"good\" + 0.008*\"time\" + 0.008*\"see\" + 0.008*\"first\" + 0.008*\"series\" + 0.007*\"would\"\n",
      "2017-04-12 02:16:34,653 : INFO : topic diff=0.042571, rho=0.153393\n",
      "2017-04-12 02:16:35,054 : INFO : PROGRESS: pass 4, at document #10000/75000\n",
      "2017-04-12 02:16:37,665 : INFO : merging changes from 2000 documents into a model of 75000 documents\n",
      "2017-04-12 02:16:37,846 : INFO : topic #7 (0.100): 0.008*\"love\" + 0.008*\"music\" + 0.008*\"film\" + 0.006*\"one\" + 0.006*\"version\" + 0.005*\"beautiful\" + 0.005*\"novel\" + 0.005*\"book\" + 0.005*\"musical\" + 0.004*\"best\"\n",
      "2017-04-12 02:16:37,847 : INFO : topic #6 (0.100): 0.020*\"film\" + 0.016*\"bad\" + 0.012*\"one\" + 0.012*\"like\" + 0.010*\"even\" + 0.010*\"good\" + 0.008*\"acting\" + 0.008*\"really\" + 0.007*\"movies\" + 0.007*\"horror\"\n",
      "2017-04-12 02:16:37,849 : INFO : topic #0 (0.100): 0.008*\"film\" + 0.006*\"war\" + 0.006*\"life\" + 0.005*\"man\" + 0.005*\"young\" + 0.005*\"family\" + 0.005*\"world\" + 0.004*\"one\" + 0.004*\"men\" + 0.004*\"american\"\n",
      "2017-04-12 02:16:37,850 : INFO : topic #2 (0.100): 0.039*\"film\" + 0.011*\"story\" + 0.010*\"one\" + 0.007*\"characters\" + 0.006*\"films\" + 0.006*\"well\" + 0.006*\"like\" + 0.006*\"good\" + 0.006*\"much\" + 0.005*\"see\"\n",
      "2017-04-12 02:16:37,852 : INFO : topic #8 (0.100): 0.014*\"show\" + 0.013*\"one\" + 0.012*\"great\" + 0.010*\"like\" + 0.009*\"good\" + 0.008*\"time\" + 0.008*\"first\" + 0.008*\"series\" + 0.008*\"see\" + 0.007*\"would\"\n",
      "2017-04-12 02:16:37,854 : INFO : topic diff=0.040168, rho=0.153393\n",
      "2017-04-12 02:16:38,267 : INFO : PROGRESS: pass 4, at document #12000/75000\n",
      "2017-04-12 02:16:40,859 : INFO : merging changes from 2000 documents into a model of 75000 documents\n",
      "2017-04-12 02:16:41,043 : INFO : topic #8 (0.100): 0.014*\"show\" + 0.013*\"one\" + 0.012*\"great\" + 0.010*\"like\" + 0.009*\"good\" + 0.008*\"series\" + 0.008*\"time\" + 0.008*\"first\" + 0.008*\"see\" + 0.007*\"would\"\n",
      "2017-04-12 02:16:41,044 : INFO : topic #1 (0.100): 0.009*\"comedy\" + 0.009*\"character\" + 0.007*\"one\" + 0.007*\"cast\" + 0.007*\"film\" + 0.007*\"role\" + 0.007*\"funny\" + 0.005*\"performance\" + 0.005*\"actor\" + 0.005*\"script\"\n",
      "2017-04-12 02:16:41,046 : INFO : topic #6 (0.100): 0.019*\"film\" + 0.016*\"bad\" + 0.012*\"one\" + 0.012*\"like\" + 0.010*\"even\" + 0.010*\"good\" + 0.008*\"acting\" + 0.008*\"really\" + 0.007*\"movies\" + 0.006*\"horror\"\n",
      "2017-04-12 02:16:41,048 : INFO : topic #0 (0.100): 0.007*\"film\" + 0.006*\"war\" + 0.006*\"life\" + 0.005*\"man\" + 0.005*\"young\" + 0.005*\"world\" + 0.005*\"family\" + 0.004*\"one\" + 0.004*\"men\" + 0.004*\"american\"\n",
      "2017-04-12 02:16:41,049 : INFO : topic #9 (0.100): 0.015*\"like\" + 0.010*\"get\" + 0.010*\"would\" + 0.010*\"one\" + 0.009*\"people\" + 0.007*\"see\" + 0.007*\"know\" + 0.007*\"really\" + 0.007*\"could\" + 0.006*\"think\"\n",
      "2017-04-12 02:16:41,051 : INFO : topic diff=0.040304, rho=0.153393\n",
      "2017-04-12 02:16:41,466 : INFO : PROGRESS: pass 4, at document #14000/75000\n",
      "2017-04-12 02:16:44,113 : INFO : merging changes from 2000 documents into a model of 75000 documents\n",
      "2017-04-12 02:16:44,299 : INFO : topic #9 (0.100): 0.015*\"like\" + 0.010*\"get\" + 0.010*\"would\" + 0.010*\"one\" + 0.009*\"people\" + 0.007*\"see\" + 0.007*\"know\" + 0.007*\"really\" + 0.007*\"could\" + 0.006*\"think\"\n",
      "2017-04-12 02:16:44,301 : INFO : topic #1 (0.100): 0.009*\"comedy\" + 0.009*\"character\" + 0.007*\"cast\" + 0.007*\"one\" + 0.007*\"film\" + 0.007*\"role\" + 0.007*\"funny\" + 0.005*\"performance\" + 0.005*\"actor\" + 0.005*\"script\"\n",
      "2017-04-12 02:16:44,303 : INFO : topic #6 (0.100): 0.019*\"film\" + 0.016*\"bad\" + 0.012*\"one\" + 0.012*\"like\" + 0.010*\"even\" + 0.010*\"good\" + 0.008*\"acting\" + 0.008*\"really\" + 0.007*\"movies\" + 0.006*\"horror\"\n",
      "2017-04-12 02:16:44,305 : INFO : topic #4 (0.100): 0.013*\"action\" + 0.007*\"one\" + 0.005*\"police\" + 0.005*\"film\" + 0.004*\"fight\" + 0.004*\"scenes\" + 0.004*\"also\" + 0.004*\"car\" + 0.004*\"killer\" + 0.004*\"plot\"\n",
      "2017-04-12 02:16:44,306 : INFO : topic #8 (0.100): 0.014*\"show\" + 0.013*\"one\" + 0.012*\"great\" + 0.010*\"like\" + 0.009*\"good\" + 0.009*\"series\" + 0.008*\"time\" + 0.008*\"first\" + 0.008*\"see\" + 0.007*\"would\"\n",
      "2017-04-12 02:16:44,309 : INFO : topic diff=0.041470, rho=0.153393\n",
      "2017-04-12 02:16:44,713 : INFO : PROGRESS: pass 4, at document #16000/75000\n",
      "2017-04-12 02:16:47,459 : INFO : merging changes from 2000 documents into a model of 75000 documents\n",
      "2017-04-12 02:16:47,650 : INFO : topic #3 (0.100): 0.007*\"charlie\" + 0.006*\"davis\" + 0.005*\"adam\" + 0.005*\"sandler\" + 0.004*\"david\" + 0.004*\"sutherland\" + 0.004*\"washington\" + 0.003*\"bette\" + 0.003*\"dentist\" + 0.003*\"alan\"\n",
      "2017-04-12 02:16:47,651 : INFO : topic #2 (0.100): 0.039*\"film\" + 0.011*\"story\" + 0.010*\"one\" + 0.007*\"characters\" + 0.006*\"films\" + 0.006*\"like\" + 0.006*\"well\" + 0.006*\"much\" + 0.006*\"good\" + 0.005*\"see\"\n",
      "2017-04-12 02:16:47,653 : INFO : topic #4 (0.100): 0.013*\"action\" + 0.007*\"one\" + 0.005*\"police\" + 0.005*\"film\" + 0.004*\"fight\" + 0.004*\"scenes\" + 0.004*\"also\" + 0.004*\"plot\" + 0.004*\"killer\" + 0.004*\"car\"\n",
      "2017-04-12 02:16:47,655 : INFO : topic #5 (0.100): 0.007*\"man\" + 0.006*\"one\" + 0.006*\"film\" + 0.005*\"also\" + 0.004*\"john\" + 0.004*\"wife\" + 0.004*\"house\" + 0.004*\"young\" + 0.004*\"role\" + 0.004*\"old\"\n",
      "2017-04-12 02:16:47,657 : INFO : topic #8 (0.100): 0.014*\"show\" + 0.013*\"one\" + 0.012*\"great\" + 0.010*\"like\" + 0.010*\"good\" + 0.009*\"series\" + 0.008*\"time\" + 0.008*\"first\" + 0.008*\"see\" + 0.007*\"would\"\n",
      "2017-04-12 02:16:47,659 : INFO : topic diff=0.041172, rho=0.153393\n",
      "2017-04-12 02:16:48,059 : INFO : PROGRESS: pass 4, at document #18000/75000\n",
      "2017-04-12 02:16:50,717 : INFO : merging changes from 2000 documents into a model of 75000 documents\n",
      "2017-04-12 02:16:50,903 : INFO : topic #2 (0.100): 0.039*\"film\" + 0.011*\"story\" + 0.010*\"one\" + 0.007*\"characters\" + 0.006*\"films\" + 0.006*\"like\" + 0.006*\"well\" + 0.006*\"much\" + 0.006*\"good\" + 0.005*\"see\"\n",
      "2017-04-12 02:16:50,904 : INFO : topic #8 (0.100): 0.014*\"show\" + 0.012*\"one\" + 0.012*\"great\" + 0.010*\"like\" + 0.010*\"good\" + 0.009*\"series\" + 0.008*\"time\" + 0.008*\"first\" + 0.008*\"see\" + 0.007*\"would\"\n",
      "2017-04-12 02:16:50,906 : INFO : topic #1 (0.100): 0.010*\"comedy\" + 0.009*\"character\" + 0.008*\"cast\" + 0.007*\"one\" + 0.007*\"film\" + 0.007*\"role\" + 0.007*\"funny\" + 0.005*\"performance\" + 0.005*\"actor\" + 0.005*\"script\"\n",
      "2017-04-12 02:16:50,907 : INFO : topic #0 (0.100): 0.007*\"film\" + 0.006*\"war\" + 0.006*\"life\" + 0.005*\"man\" + 0.005*\"family\" + 0.005*\"young\" + 0.005*\"world\" + 0.004*\"one\" + 0.004*\"men\" + 0.003*\"us\"\n",
      "2017-04-12 02:16:50,909 : INFO : topic #3 (0.100): 0.007*\"davis\" + 0.007*\"charlie\" + 0.005*\"adam\" + 0.004*\"david\" + 0.004*\"sandler\" + 0.004*\"washington\" + 0.004*\"bette\" + 0.004*\"sutherland\" + 0.003*\"denzel\" + 0.003*\"brando\"\n",
      "2017-04-12 02:16:50,911 : INFO : topic diff=0.039572, rho=0.153393\n",
      "2017-04-12 02:16:59,655 : INFO : -8.547 per-word bound, 374.0 perplexity estimate based on a held-out corpus of 2000 documents with 221882 words\n",
      "2017-04-12 02:16:59,655 : INFO : PROGRESS: pass 4, at document #20000/75000\n",
      "2017-04-12 02:17:02,280 : INFO : merging changes from 2000 documents into a model of 75000 documents\n",
      "2017-04-12 02:17:02,471 : INFO : topic #8 (0.100): 0.014*\"show\" + 0.012*\"one\" + 0.012*\"great\" + 0.010*\"like\" + 0.010*\"good\" + 0.009*\"series\" + 0.008*\"first\" + 0.008*\"time\" + 0.008*\"see\" + 0.007*\"would\"\n",
      "2017-04-12 02:17:02,472 : INFO : topic #9 (0.100): 0.014*\"like\" + 0.010*\"get\" + 0.010*\"would\" + 0.010*\"one\" + 0.009*\"people\" + 0.007*\"see\" + 0.007*\"know\" + 0.007*\"really\" + 0.006*\"could\" + 0.006*\"even\"\n",
      "2017-04-12 02:17:02,473 : INFO : topic #2 (0.100): 0.038*\"film\" + 0.011*\"story\" + 0.010*\"one\" + 0.007*\"characters\" + 0.006*\"films\" + 0.006*\"like\" + 0.006*\"well\" + 0.006*\"much\" + 0.006*\"good\" + 0.005*\"see\"\n",
      "2017-04-12 02:17:02,475 : INFO : topic #0 (0.100): 0.007*\"film\" + 0.006*\"life\" + 0.006*\"war\" + 0.005*\"man\" + 0.005*\"family\" + 0.005*\"young\" + 0.005*\"world\" + 0.004*\"one\" + 0.004*\"men\" + 0.003*\"father\"\n",
      "2017-04-12 02:17:02,476 : INFO : topic #5 (0.100): 0.007*\"man\" + 0.006*\"one\" + 0.005*\"film\" + 0.005*\"also\" + 0.004*\"john\" + 0.004*\"wife\" + 0.004*\"young\" + 0.004*\"house\" + 0.004*\"old\" + 0.004*\"role\"\n",
      "2017-04-12 02:17:02,478 : INFO : topic diff=0.038599, rho=0.153393\n",
      "2017-04-12 02:17:02,906 : INFO : PROGRESS: pass 4, at document #22000/75000\n",
      "2017-04-12 02:17:05,596 : INFO : merging changes from 2000 documents into a model of 75000 documents\n",
      "2017-04-12 02:17:05,782 : INFO : topic #3 (0.100): 0.007*\"charlie\" + 0.007*\"davis\" + 0.005*\"adam\" + 0.004*\"sandler\" + 0.004*\"bette\" + 0.004*\"david\" + 0.004*\"washington\" + 0.003*\"sutherland\" + 0.003*\"brando\" + 0.003*\"dentist\"\n",
      "2017-04-12 02:17:05,784 : INFO : topic #4 (0.100): 0.013*\"action\" + 0.007*\"one\" + 0.005*\"police\" + 0.005*\"film\" + 0.005*\"fight\" + 0.004*\"scenes\" + 0.004*\"also\" + 0.004*\"killer\" + 0.004*\"plot\" + 0.004*\"car\"\n",
      "2017-04-12 02:17:05,786 : INFO : topic #8 (0.100): 0.014*\"show\" + 0.012*\"one\" + 0.012*\"great\" + 0.010*\"like\" + 0.010*\"good\" + 0.009*\"series\" + 0.008*\"time\" + 0.008*\"first\" + 0.008*\"see\" + 0.007*\"would\"\n",
      "2017-04-12 02:17:05,788 : INFO : topic #2 (0.100): 0.038*\"film\" + 0.011*\"story\" + 0.010*\"one\" + 0.007*\"characters\" + 0.006*\"films\" + 0.006*\"well\" + 0.006*\"like\" + 0.006*\"much\" + 0.006*\"good\" + 0.005*\"character\"\n",
      "2017-04-12 02:17:05,790 : INFO : topic #0 (0.100): 0.007*\"film\" + 0.006*\"life\" + 0.006*\"war\" + 0.005*\"man\" + 0.005*\"family\" + 0.005*\"young\" + 0.005*\"world\" + 0.004*\"one\" + 0.004*\"men\" + 0.004*\"father\"\n",
      "2017-04-12 02:17:05,792 : INFO : topic diff=0.041522, rho=0.153393\n",
      "2017-04-12 02:17:06,177 : INFO : PROGRESS: pass 4, at document #24000/75000\n",
      "2017-04-12 02:17:08,806 : INFO : merging changes from 2000 documents into a model of 75000 documents\n",
      "2017-04-12 02:17:08,992 : INFO : topic #3 (0.100): 0.008*\"davis\" + 0.007*\"charlie\" + 0.005*\"adam\" + 0.005*\"sandler\" + 0.004*\"david\" + 0.004*\"washington\" + 0.004*\"bette\" + 0.004*\"brando\" + 0.003*\"sutherland\" + 0.003*\"khan\"\n",
      "2017-04-12 02:17:08,993 : INFO : topic #8 (0.100): 0.014*\"show\" + 0.012*\"one\" + 0.012*\"great\" + 0.010*\"like\" + 0.010*\"good\" + 0.009*\"series\" + 0.008*\"time\" + 0.008*\"first\" + 0.008*\"see\" + 0.007*\"would\"\n",
      "2017-04-12 02:17:08,995 : INFO : topic #5 (0.100): 0.007*\"man\" + 0.006*\"one\" + 0.006*\"film\" + 0.005*\"also\" + 0.004*\"john\" + 0.004*\"young\" + 0.004*\"house\" + 0.004*\"wife\" + 0.004*\"old\" + 0.004*\"role\"\n",
      "2017-04-12 02:17:08,997 : INFO : topic #6 (0.100): 0.019*\"film\" + 0.016*\"bad\" + 0.012*\"one\" + 0.011*\"like\" + 0.010*\"good\" + 0.010*\"even\" + 0.008*\"acting\" + 0.008*\"really\" + 0.007*\"movies\" + 0.006*\"horror\"\n",
      "2017-04-12 02:17:08,999 : INFO : topic #2 (0.100): 0.038*\"film\" + 0.011*\"story\" + 0.010*\"one\" + 0.007*\"characters\" + 0.006*\"films\" + 0.006*\"well\" + 0.006*\"like\" + 0.006*\"much\" + 0.006*\"good\" + 0.005*\"character\"\n",
      "2017-04-12 02:17:09,001 : INFO : topic diff=0.039046, rho=0.153393\n",
      "2017-04-12 02:17:09,403 : INFO : PROGRESS: pass 4, at document #26000/75000\n",
      "2017-04-12 02:17:12,054 : INFO : merging changes from 2000 documents into a model of 75000 documents\n",
      "2017-04-12 02:17:12,238 : INFO : topic #6 (0.100): 0.019*\"film\" + 0.016*\"bad\" + 0.012*\"one\" + 0.011*\"like\" + 0.010*\"good\" + 0.010*\"even\" + 0.008*\"acting\" + 0.007*\"really\" + 0.007*\"movies\" + 0.006*\"horror\"\n",
      "2017-04-12 02:17:12,240 : INFO : topic #7 (0.100): 0.009*\"love\" + 0.008*\"film\" + 0.007*\"music\" + 0.006*\"version\" + 0.006*\"one\" + 0.006*\"musical\" + 0.005*\"book\" + 0.005*\"novel\" + 0.005*\"beautiful\" + 0.004*\"best\"\n",
      "2017-04-12 02:17:12,241 : INFO : topic #9 (0.100): 0.014*\"like\" + 0.010*\"get\" + 0.010*\"would\" + 0.010*\"one\" + 0.009*\"people\" + 0.007*\"see\" + 0.007*\"know\" + 0.007*\"really\" + 0.007*\"could\" + 0.006*\"even\"\n",
      "2017-04-12 02:17:12,242 : INFO : topic #1 (0.100): 0.010*\"comedy\" + 0.009*\"character\" + 0.007*\"cast\" + 0.007*\"one\" + 0.007*\"film\" + 0.007*\"role\" + 0.006*\"funny\" + 0.006*\"performance\" + 0.005*\"actor\" + 0.005*\"script\"\n",
      "2017-04-12 02:17:12,243 : INFO : topic #5 (0.100): 0.007*\"man\" + 0.006*\"one\" + 0.006*\"film\" + 0.005*\"also\" + 0.004*\"john\" + 0.004*\"young\" + 0.004*\"house\" + 0.004*\"wife\" + 0.004*\"old\" + 0.004*\"role\"\n",
      "2017-04-12 02:17:12,245 : INFO : topic diff=0.039332, rho=0.153393\n",
      "2017-04-12 02:17:12,658 : INFO : PROGRESS: pass 4, at document #28000/75000\n",
      "2017-04-12 02:17:15,287 : INFO : merging changes from 2000 documents into a model of 75000 documents\n",
      "2017-04-12 02:17:15,467 : INFO : topic #7 (0.100): 0.009*\"love\" + 0.008*\"film\" + 0.007*\"music\" + 0.007*\"version\" + 0.006*\"one\" + 0.006*\"book\" + 0.006*\"novel\" + 0.006*\"musical\" + 0.005*\"beautiful\" + 0.004*\"best\"\n",
      "2017-04-12 02:17:15,469 : INFO : topic #4 (0.100): 0.013*\"action\" + 0.007*\"one\" + 0.005*\"police\" + 0.005*\"fight\" + 0.005*\"film\" + 0.004*\"also\" + 0.004*\"scenes\" + 0.004*\"killer\" + 0.004*\"plot\" + 0.004*\"cop\"\n",
      "2017-04-12 02:17:15,471 : INFO : topic #8 (0.100): 0.014*\"show\" + 0.012*\"one\" + 0.012*\"great\" + 0.010*\"like\" + 0.010*\"good\" + 0.009*\"series\" + 0.008*\"first\" + 0.008*\"time\" + 0.008*\"see\" + 0.007*\"would\"\n",
      "2017-04-12 02:17:15,472 : INFO : topic #0 (0.100): 0.007*\"film\" + 0.006*\"war\" + 0.006*\"life\" + 0.005*\"man\" + 0.005*\"family\" + 0.005*\"young\" + 0.005*\"world\" + 0.004*\"one\" + 0.004*\"men\" + 0.003*\"us\"\n",
      "2017-04-12 02:17:15,474 : INFO : topic #1 (0.100): 0.010*\"comedy\" + 0.009*\"character\" + 0.007*\"cast\" + 0.007*\"one\" + 0.007*\"film\" + 0.007*\"role\" + 0.007*\"funny\" + 0.006*\"performance\" + 0.005*\"actor\" + 0.005*\"script\"\n",
      "2017-04-12 02:17:15,476 : INFO : topic diff=0.044657, rho=0.153393\n",
      "2017-04-12 02:17:15,876 : INFO : PROGRESS: pass 4, at document #30000/75000\n",
      "2017-04-12 02:17:18,506 : INFO : merging changes from 2000 documents into a model of 75000 documents\n",
      "2017-04-12 02:17:18,681 : INFO : topic #3 (0.100): 0.008*\"davis\" + 0.008*\"charlie\" + 0.006*\"adam\" + 0.004*\"moore\" + 0.004*\"sandler\" + 0.004*\"david\" + 0.004*\"khan\" + 0.004*\"bette\" + 0.003*\"washington\" + 0.003*\"role\"\n",
      "2017-04-12 02:17:18,683 : INFO : topic #6 (0.100): 0.019*\"film\" + 0.016*\"bad\" + 0.012*\"one\" + 0.011*\"like\" + 0.010*\"good\" + 0.010*\"even\" + 0.008*\"acting\" + 0.008*\"really\" + 0.007*\"movies\" + 0.006*\"horror\"\n",
      "2017-04-12 02:17:18,685 : INFO : topic #1 (0.100): 0.010*\"comedy\" + 0.009*\"character\" + 0.007*\"cast\" + 0.007*\"one\" + 0.007*\"film\" + 0.007*\"role\" + 0.007*\"funny\" + 0.006*\"performance\" + 0.005*\"actor\" + 0.005*\"script\"\n",
      "2017-04-12 02:17:18,687 : INFO : topic #4 (0.100): 0.013*\"action\" + 0.007*\"one\" + 0.005*\"fight\" + 0.005*\"police\" + 0.005*\"film\" + 0.004*\"also\" + 0.004*\"scenes\" + 0.004*\"killer\" + 0.004*\"plot\" + 0.004*\"cop\"\n",
      "2017-04-12 02:17:18,689 : INFO : topic #8 (0.100): 0.014*\"show\" + 0.012*\"one\" + 0.012*\"great\" + 0.010*\"like\" + 0.010*\"good\" + 0.009*\"series\" + 0.008*\"first\" + 0.008*\"time\" + 0.008*\"see\" + 0.007*\"would\"\n",
      "2017-04-12 02:17:18,691 : INFO : topic diff=0.040562, rho=0.153393\n",
      "2017-04-12 02:17:19,100 : INFO : PROGRESS: pass 4, at document #32000/75000\n",
      "2017-04-12 02:17:21,747 : INFO : merging changes from 2000 documents into a model of 75000 documents\n",
      "2017-04-12 02:17:21,920 : INFO : topic #0 (0.100): 0.007*\"film\" + 0.006*\"war\" + 0.006*\"life\" + 0.005*\"world\" + 0.005*\"young\" + 0.005*\"man\" + 0.005*\"family\" + 0.004*\"one\" + 0.004*\"us\" + 0.003*\"american\"\n",
      "2017-04-12 02:17:21,921 : INFO : topic #5 (0.100): 0.007*\"man\" + 0.007*\"one\" + 0.006*\"film\" + 0.005*\"john\" + 0.005*\"also\" + 0.004*\"young\" + 0.004*\"wife\" + 0.004*\"house\" + 0.004*\"role\" + 0.004*\"woman\"\n",
      "2017-04-12 02:17:21,923 : INFO : topic #4 (0.100): 0.013*\"action\" + 0.007*\"one\" + 0.005*\"film\" + 0.005*\"fight\" + 0.004*\"police\" + 0.004*\"also\" + 0.004*\"scenes\" + 0.004*\"plot\" + 0.004*\"killer\" + 0.004*\"cop\"\n",
      "2017-04-12 02:17:21,925 : INFO : topic #2 (0.100): 0.039*\"film\" + 0.011*\"story\" + 0.010*\"one\" + 0.007*\"characters\" + 0.006*\"films\" + 0.006*\"well\" + 0.006*\"like\" + 0.006*\"much\" + 0.006*\"good\" + 0.005*\"see\"\n",
      "2017-04-12 02:17:21,927 : INFO : topic #3 (0.100): 0.008*\"davis\" + 0.008*\"charlie\" + 0.006*\"adam\" + 0.004*\"sandler\" + 0.004*\"david\" + 0.004*\"moore\" + 0.004*\"khan\" + 0.004*\"bette\" + 0.003*\"washington\" + 0.003*\"bronson\"\n",
      "2017-04-12 02:17:21,929 : INFO : topic diff=0.040626, rho=0.153393\n",
      "2017-04-12 02:17:23,323 : INFO : PROGRESS: pass 4, at document #34000/75000\n",
      "2017-04-12 02:17:25,922 : INFO : merging changes from 2000 documents into a model of 75000 documents\n",
      "2017-04-12 02:17:26,091 : INFO : topic #5 (0.100): 0.007*\"man\" + 0.007*\"one\" + 0.006*\"film\" + 0.005*\"john\" + 0.005*\"also\" + 0.004*\"young\" + 0.004*\"wife\" + 0.004*\"woman\" + 0.004*\"role\" + 0.004*\"house\"\n",
      "2017-04-12 02:17:26,093 : INFO : topic #3 (0.100): 0.008*\"charlie\" + 0.007*\"davis\" + 0.006*\"adam\" + 0.005*\"moore\" + 0.004*\"sandler\" + 0.004*\"david\" + 0.004*\"metal\" + 0.003*\"bette\" + 0.003*\"khan\" + 0.003*\"bollywood\"\n",
      "2017-04-12 02:17:26,095 : INFO : topic #7 (0.100): 0.009*\"love\" + 0.008*\"film\" + 0.008*\"music\" + 0.006*\"one\" + 0.006*\"version\" + 0.006*\"novel\" + 0.005*\"book\" + 0.005*\"beautiful\" + 0.005*\"musical\" + 0.004*\"song\"\n",
      "2017-04-12 02:17:26,096 : INFO : topic #2 (0.100): 0.039*\"film\" + 0.011*\"story\" + 0.010*\"one\" + 0.007*\"characters\" + 0.006*\"films\" + 0.006*\"well\" + 0.006*\"like\" + 0.006*\"much\" + 0.006*\"good\" + 0.005*\"see\"\n",
      "2017-04-12 02:17:26,098 : INFO : topic #4 (0.100): 0.013*\"action\" + 0.007*\"one\" + 0.005*\"film\" + 0.004*\"fight\" + 0.004*\"police\" + 0.004*\"also\" + 0.004*\"scenes\" + 0.004*\"plot\" + 0.004*\"killer\" + 0.004*\"cop\"\n",
      "2017-04-12 02:17:26,100 : INFO : topic diff=0.039735, rho=0.153393\n",
      "2017-04-12 02:17:26,497 : INFO : PROGRESS: pass 4, at document #36000/75000\n",
      "2017-04-12 02:17:29,165 : INFO : merging changes from 2000 documents into a model of 75000 documents\n",
      "2017-04-12 02:17:29,332 : INFO : topic #5 (0.100): 0.007*\"man\" + 0.007*\"one\" + 0.006*\"film\" + 0.005*\"john\" + 0.005*\"also\" + 0.004*\"young\" + 0.004*\"woman\" + 0.004*\"wife\" + 0.004*\"role\" + 0.004*\"house\"\n",
      "2017-04-12 02:17:29,334 : INFO : topic #4 (0.100): 0.013*\"action\" + 0.007*\"one\" + 0.005*\"film\" + 0.005*\"police\" + 0.004*\"fight\" + 0.004*\"also\" + 0.004*\"scenes\" + 0.004*\"plot\" + 0.004*\"killer\" + 0.004*\"cop\"\n",
      "2017-04-12 02:17:29,336 : INFO : topic #3 (0.100): 0.008*\"charlie\" + 0.007*\"davis\" + 0.005*\"adam\" + 0.004*\"sandler\" + 0.004*\"moore\" + 0.004*\"metal\" + 0.004*\"khan\" + 0.004*\"david\" + 0.004*\"bette\" + 0.003*\"chuck\"\n",
      "2017-04-12 02:17:29,337 : INFO : topic #1 (0.100): 0.011*\"comedy\" + 0.009*\"character\" + 0.007*\"cast\" + 0.007*\"one\" + 0.007*\"film\" + 0.007*\"funny\" + 0.007*\"role\" + 0.006*\"performance\" + 0.005*\"actor\" + 0.005*\"script\"\n",
      "2017-04-12 02:17:29,338 : INFO : topic #0 (0.100): 0.007*\"film\" + 0.006*\"life\" + 0.006*\"war\" + 0.005*\"young\" + 0.005*\"world\" + 0.005*\"man\" + 0.005*\"family\" + 0.004*\"one\" + 0.004*\"us\" + 0.003*\"american\"\n",
      "2017-04-12 02:17:29,340 : INFO : topic diff=0.040397, rho=0.153393\n",
      "2017-04-12 02:17:29,752 : INFO : PROGRESS: pass 4, at document #38000/75000\n",
      "2017-04-12 02:17:32,392 : INFO : merging changes from 2000 documents into a model of 75000 documents\n",
      "2017-04-12 02:17:32,556 : INFO : topic #9 (0.100): 0.014*\"like\" + 0.010*\"get\" + 0.010*\"one\" + 0.010*\"would\" + 0.009*\"people\" + 0.007*\"see\" + 0.007*\"know\" + 0.007*\"really\" + 0.006*\"could\" + 0.006*\"even\"\n",
      "2017-04-12 02:17:32,558 : INFO : topic #7 (0.100): 0.008*\"love\" + 0.008*\"film\" + 0.008*\"music\" + 0.006*\"one\" + 0.006*\"version\" + 0.005*\"book\" + 0.005*\"novel\" + 0.005*\"musical\" + 0.005*\"beautiful\" + 0.005*\"song\"\n",
      "2017-04-12 02:17:32,560 : INFO : topic #8 (0.100): 0.014*\"show\" + 0.013*\"one\" + 0.012*\"great\" + 0.010*\"like\" + 0.010*\"good\" + 0.009*\"series\" + 0.008*\"first\" + 0.008*\"time\" + 0.008*\"see\" + 0.007*\"would\"\n",
      "2017-04-12 02:17:32,562 : INFO : topic #2 (0.100): 0.039*\"film\" + 0.011*\"story\" + 0.010*\"one\" + 0.007*\"characters\" + 0.007*\"films\" + 0.006*\"well\" + 0.006*\"like\" + 0.006*\"much\" + 0.006*\"good\" + 0.005*\"character\"\n",
      "2017-04-12 02:17:32,563 : INFO : topic #0 (0.100): 0.007*\"film\" + 0.006*\"war\" + 0.006*\"life\" + 0.005*\"young\" + 0.005*\"world\" + 0.005*\"man\" + 0.005*\"family\" + 0.004*\"one\" + 0.004*\"us\" + 0.003*\"american\"\n",
      "2017-04-12 02:17:32,565 : INFO : topic diff=0.039561, rho=0.153393\n",
      "2017-04-12 02:17:41,533 : INFO : -8.593 per-word bound, 386.1 perplexity estimate based on a held-out corpus of 2000 documents with 228449 words\n",
      "2017-04-12 02:17:41,534 : INFO : PROGRESS: pass 4, at document #40000/75000\n",
      "2017-04-12 02:17:44,239 : INFO : merging changes from 2000 documents into a model of 75000 documents\n",
      "2017-04-12 02:17:44,402 : INFO : topic #0 (0.100): 0.007*\"film\" + 0.006*\"war\" + 0.006*\"life\" + 0.005*\"man\" + 0.005*\"young\" + 0.005*\"family\" + 0.005*\"world\" + 0.004*\"one\" + 0.004*\"american\" + 0.004*\"us\"\n",
      "2017-04-12 02:17:44,403 : INFO : topic #5 (0.100): 0.007*\"man\" + 0.007*\"one\" + 0.006*\"film\" + 0.005*\"john\" + 0.005*\"also\" + 0.004*\"young\" + 0.004*\"house\" + 0.004*\"role\" + 0.004*\"wife\" + 0.004*\"old\"\n",
      "2017-04-12 02:17:44,405 : INFO : topic #4 (0.100): 0.013*\"action\" + 0.007*\"one\" + 0.005*\"fight\" + 0.005*\"film\" + 0.005*\"police\" + 0.004*\"scenes\" + 0.004*\"also\" + 0.004*\"plot\" + 0.004*\"killer\" + 0.004*\"scene\"\n",
      "2017-04-12 02:17:44,407 : INFO : topic #7 (0.100): 0.009*\"love\" + 0.008*\"film\" + 0.008*\"music\" + 0.006*\"one\" + 0.006*\"version\" + 0.006*\"novel\" + 0.005*\"book\" + 0.005*\"beautiful\" + 0.005*\"musical\" + 0.004*\"song\"\n",
      "2017-04-12 02:17:44,409 : INFO : topic #1 (0.100): 0.010*\"comedy\" + 0.009*\"character\" + 0.007*\"cast\" + 0.007*\"one\" + 0.007*\"film\" + 0.007*\"funny\" + 0.007*\"role\" + 0.006*\"performance\" + 0.005*\"actor\" + 0.005*\"script\"\n",
      "2017-04-12 02:17:44,411 : INFO : topic diff=0.040823, rho=0.153393\n",
      "2017-04-12 02:17:44,820 : INFO : PROGRESS: pass 4, at document #42000/75000\n",
      "2017-04-12 02:17:47,477 : INFO : merging changes from 2000 documents into a model of 75000 documents\n",
      "2017-04-12 02:17:47,639 : INFO : topic #1 (0.100): 0.010*\"comedy\" + 0.009*\"character\" + 0.008*\"cast\" + 0.007*\"one\" + 0.007*\"film\" + 0.007*\"funny\" + 0.007*\"role\" + 0.006*\"performance\" + 0.005*\"actor\" + 0.005*\"script\"\n",
      "2017-04-12 02:17:47,641 : INFO : topic #8 (0.100): 0.014*\"show\" + 0.013*\"one\" + 0.012*\"great\" + 0.010*\"good\" + 0.010*\"like\" + 0.009*\"series\" + 0.008*\"first\" + 0.008*\"time\" + 0.008*\"see\" + 0.008*\"would\"\n",
      "2017-04-12 02:17:47,642 : INFO : topic #6 (0.100): 0.019*\"film\" + 0.016*\"bad\" + 0.012*\"one\" + 0.011*\"like\" + 0.010*\"good\" + 0.010*\"even\" + 0.008*\"acting\" + 0.007*\"really\" + 0.007*\"movies\" + 0.006*\"horror\"\n",
      "2017-04-12 02:17:47,644 : INFO : topic #5 (0.100): 0.007*\"man\" + 0.007*\"one\" + 0.006*\"film\" + 0.005*\"also\" + 0.005*\"john\" + 0.004*\"young\" + 0.004*\"wife\" + 0.004*\"house\" + 0.004*\"role\" + 0.004*\"old\"\n",
      "2017-04-12 02:17:47,645 : INFO : topic #9 (0.100): 0.015*\"like\" + 0.011*\"get\" + 0.010*\"would\" + 0.010*\"one\" + 0.009*\"people\" + 0.007*\"see\" + 0.007*\"know\" + 0.007*\"could\" + 0.006*\"really\" + 0.006*\"even\"\n",
      "2017-04-12 02:17:47,647 : INFO : topic diff=0.038824, rho=0.153393\n",
      "2017-04-12 02:17:48,046 : INFO : PROGRESS: pass 4, at document #44000/75000\n",
      "2017-04-12 02:17:50,763 : INFO : merging changes from 2000 documents into a model of 75000 documents\n",
      "2017-04-12 02:17:50,930 : INFO : topic #6 (0.100): 0.019*\"film\" + 0.016*\"bad\" + 0.012*\"one\" + 0.011*\"like\" + 0.010*\"good\" + 0.010*\"even\" + 0.008*\"acting\" + 0.007*\"really\" + 0.007*\"movies\" + 0.006*\"horror\"\n",
      "2017-04-12 02:17:50,931 : INFO : topic #1 (0.100): 0.010*\"comedy\" + 0.009*\"character\" + 0.008*\"cast\" + 0.007*\"one\" + 0.007*\"film\" + 0.007*\"funny\" + 0.007*\"role\" + 0.006*\"performance\" + 0.005*\"script\" + 0.005*\"actor\"\n",
      "2017-04-12 02:17:50,933 : INFO : topic #9 (0.100): 0.015*\"like\" + 0.010*\"get\" + 0.010*\"one\" + 0.010*\"would\" + 0.009*\"people\" + 0.007*\"see\" + 0.007*\"know\" + 0.007*\"could\" + 0.007*\"really\" + 0.006*\"even\"\n",
      "2017-04-12 02:17:50,935 : INFO : topic #7 (0.100): 0.009*\"love\" + 0.008*\"film\" + 0.008*\"music\" + 0.006*\"one\" + 0.006*\"version\" + 0.006*\"book\" + 0.005*\"novel\" + 0.005*\"beautiful\" + 0.005*\"musical\" + 0.005*\"best\"\n",
      "2017-04-12 02:17:50,936 : INFO : topic #2 (0.100): 0.038*\"film\" + 0.011*\"story\" + 0.010*\"one\" + 0.007*\"characters\" + 0.006*\"films\" + 0.006*\"well\" + 0.006*\"like\" + 0.006*\"good\" + 0.006*\"much\" + 0.005*\"character\"\n",
      "2017-04-12 02:17:50,938 : INFO : topic diff=0.039384, rho=0.153393\n",
      "2017-04-12 02:17:51,376 : INFO : PROGRESS: pass 4, at document #46000/75000\n",
      "2017-04-12 02:17:54,193 : INFO : merging changes from 2000 documents into a model of 75000 documents\n",
      "2017-04-12 02:17:54,367 : INFO : topic #0 (0.100): 0.007*\"film\" + 0.006*\"war\" + 0.006*\"life\" + 0.005*\"world\" + 0.005*\"man\" + 0.005*\"family\" + 0.004*\"young\" + 0.004*\"one\" + 0.004*\"american\" + 0.004*\"men\"\n",
      "2017-04-12 02:17:54,369 : INFO : topic #1 (0.100): 0.010*\"comedy\" + 0.009*\"character\" + 0.008*\"cast\" + 0.007*\"one\" + 0.007*\"film\" + 0.007*\"funny\" + 0.007*\"role\" + 0.005*\"performance\" + 0.005*\"actor\" + 0.005*\"script\"\n",
      "2017-04-12 02:17:54,371 : INFO : topic #9 (0.100): 0.015*\"like\" + 0.010*\"get\" + 0.010*\"would\" + 0.010*\"one\" + 0.009*\"people\" + 0.007*\"see\" + 0.007*\"know\" + 0.007*\"could\" + 0.007*\"really\" + 0.006*\"even\"\n",
      "2017-04-12 02:17:54,372 : INFO : topic #8 (0.100): 0.014*\"show\" + 0.013*\"one\" + 0.012*\"great\" + 0.010*\"like\" + 0.010*\"good\" + 0.009*\"series\" + 0.008*\"first\" + 0.008*\"time\" + 0.008*\"see\" + 0.007*\"would\"\n",
      "2017-04-12 02:17:54,374 : INFO : topic #4 (0.100): 0.013*\"action\" + 0.007*\"one\" + 0.005*\"fight\" + 0.005*\"police\" + 0.004*\"film\" + 0.004*\"scenes\" + 0.004*\"also\" + 0.004*\"cop\" + 0.004*\"plot\" + 0.004*\"scene\"\n",
      "2017-04-12 02:17:54,376 : INFO : topic diff=0.040110, rho=0.153393\n",
      "2017-04-12 02:17:54,819 : INFO : PROGRESS: pass 4, at document #48000/75000\n",
      "2017-04-12 02:17:57,617 : INFO : merging changes from 2000 documents into a model of 75000 documents\n",
      "2017-04-12 02:17:57,785 : INFO : topic #5 (0.100): 0.007*\"man\" + 0.007*\"one\" + 0.006*\"film\" + 0.005*\"john\" + 0.005*\"also\" + 0.004*\"young\" + 0.004*\"wife\" + 0.004*\"house\" + 0.004*\"woman\" + 0.004*\"role\"\n",
      "2017-04-12 02:17:57,787 : INFO : topic #3 (0.100): 0.007*\"charlie\" + 0.006*\"davis\" + 0.005*\"adam\" + 0.005*\"sandler\" + 0.004*\"khan\" + 0.004*\"david\" + 0.004*\"bette\" + 0.004*\"moore\" + 0.004*\"hopkins\" + 0.004*\"bollywood\"\n",
      "2017-04-12 02:17:57,788 : INFO : topic #1 (0.100): 0.010*\"comedy\" + 0.009*\"character\" + 0.008*\"cast\" + 0.007*\"one\" + 0.007*\"film\" + 0.007*\"funny\" + 0.007*\"role\" + 0.006*\"performance\" + 0.005*\"actor\" + 0.005*\"script\"\n",
      "2017-04-12 02:17:57,790 : INFO : topic #8 (0.100): 0.014*\"show\" + 0.013*\"one\" + 0.012*\"great\" + 0.010*\"like\" + 0.010*\"good\" + 0.009*\"series\" + 0.008*\"first\" + 0.008*\"time\" + 0.008*\"see\" + 0.007*\"would\"\n",
      "2017-04-12 02:17:57,792 : INFO : topic #4 (0.100): 0.014*\"action\" + 0.007*\"one\" + 0.005*\"fight\" + 0.005*\"police\" + 0.004*\"film\" + 0.004*\"scenes\" + 0.004*\"cop\" + 0.004*\"also\" + 0.004*\"plot\" + 0.004*\"scene\"\n",
      "2017-04-12 02:17:57,794 : INFO : topic diff=0.038960, rho=0.153393\n",
      "2017-04-12 02:17:58,207 : INFO : PROGRESS: pass 4, at document #50000/75000\n",
      "2017-04-12 02:18:00,946 : INFO : merging changes from 2000 documents into a model of 75000 documents\n",
      "2017-04-12 02:18:01,115 : INFO : topic #4 (0.100): 0.014*\"action\" + 0.007*\"one\" + 0.005*\"fight\" + 0.005*\"police\" + 0.004*\"film\" + 0.004*\"scenes\" + 0.004*\"also\" + 0.004*\"cop\" + 0.004*\"scene\" + 0.004*\"plot\"\n",
      "2017-04-12 02:18:01,116 : INFO : topic #5 (0.100): 0.007*\"man\" + 0.007*\"one\" + 0.006*\"film\" + 0.005*\"john\" + 0.005*\"also\" + 0.005*\"young\" + 0.004*\"wife\" + 0.004*\"house\" + 0.004*\"role\" + 0.004*\"woman\"\n",
      "2017-04-12 02:18:01,118 : INFO : topic #6 (0.100): 0.019*\"film\" + 0.016*\"bad\" + 0.012*\"one\" + 0.011*\"like\" + 0.010*\"even\" + 0.010*\"good\" + 0.008*\"acting\" + 0.007*\"really\" + 0.007*\"movies\" + 0.007*\"horror\"\n",
      "2017-04-12 02:18:01,119 : INFO : topic #0 (0.100): 0.007*\"film\" + 0.006*\"war\" + 0.006*\"life\" + 0.005*\"family\" + 0.005*\"world\" + 0.005*\"man\" + 0.004*\"young\" + 0.004*\"one\" + 0.004*\"american\" + 0.004*\"us\"\n",
      "2017-04-12 02:18:01,120 : INFO : topic #1 (0.100): 0.010*\"comedy\" + 0.009*\"character\" + 0.008*\"cast\" + 0.007*\"one\" + 0.007*\"film\" + 0.007*\"funny\" + 0.007*\"role\" + 0.006*\"performance\" + 0.005*\"actor\" + 0.005*\"script\"\n",
      "2017-04-12 02:18:01,122 : INFO : topic diff=0.037479, rho=0.153393\n",
      "2017-04-12 02:18:01,527 : INFO : PROGRESS: pass 4, at document #52000/75000\n",
      "2017-04-12 02:18:04,297 : INFO : merging changes from 2000 documents into a model of 75000 documents\n",
      "2017-04-12 02:18:04,471 : INFO : topic #5 (0.100): 0.007*\"man\" + 0.007*\"one\" + 0.006*\"film\" + 0.005*\"also\" + 0.005*\"john\" + 0.004*\"young\" + 0.004*\"wife\" + 0.004*\"house\" + 0.004*\"role\" + 0.004*\"woman\"\n",
      "2017-04-12 02:18:04,473 : INFO : topic #3 (0.100): 0.007*\"charlie\" + 0.006*\"davis\" + 0.006*\"adam\" + 0.005*\"khan\" + 0.005*\"sandler\" + 0.004*\"hopkins\" + 0.004*\"david\" + 0.004*\"metal\" + 0.004*\"bette\" + 0.004*\"bollywood\"\n",
      "2017-04-12 02:18:04,474 : INFO : topic #2 (0.100): 0.039*\"film\" + 0.011*\"story\" + 0.010*\"one\" + 0.007*\"characters\" + 0.006*\"films\" + 0.006*\"like\" + 0.006*\"well\" + 0.006*\"much\" + 0.006*\"good\" + 0.005*\"character\"\n",
      "2017-04-12 02:18:04,476 : INFO : topic #6 (0.100): 0.019*\"film\" + 0.016*\"bad\" + 0.012*\"one\" + 0.011*\"like\" + 0.010*\"good\" + 0.010*\"even\" + 0.008*\"acting\" + 0.007*\"really\" + 0.007*\"movies\" + 0.006*\"horror\"\n",
      "2017-04-12 02:18:04,477 : INFO : topic #1 (0.100): 0.010*\"comedy\" + 0.009*\"character\" + 0.008*\"cast\" + 0.007*\"one\" + 0.007*\"film\" + 0.007*\"funny\" + 0.007*\"role\" + 0.006*\"performance\" + 0.005*\"actor\" + 0.005*\"script\"\n",
      "2017-04-12 02:18:04,479 : INFO : topic diff=0.036494, rho=0.153393\n",
      "2017-04-12 02:18:04,896 : INFO : PROGRESS: pass 4, at document #54000/75000\n",
      "2017-04-12 02:18:07,615 : INFO : merging changes from 2000 documents into a model of 75000 documents\n",
      "2017-04-12 02:18:07,786 : INFO : topic #3 (0.100): 0.007*\"charlie\" + 0.007*\"davis\" + 0.006*\"adam\" + 0.005*\"sandler\" + 0.005*\"khan\" + 0.004*\"metal\" + 0.004*\"hopkins\" + 0.004*\"david\" + 0.004*\"indian\" + 0.004*\"bette\"\n",
      "2017-04-12 02:18:07,788 : INFO : topic #8 (0.100): 0.014*\"show\" + 0.013*\"one\" + 0.012*\"great\" + 0.010*\"like\" + 0.010*\"good\" + 0.009*\"series\" + 0.008*\"first\" + 0.008*\"time\" + 0.008*\"see\" + 0.007*\"would\"\n",
      "2017-04-12 02:18:07,790 : INFO : topic #9 (0.100): 0.015*\"like\" + 0.010*\"get\" + 0.010*\"would\" + 0.010*\"one\" + 0.009*\"people\" + 0.008*\"see\" + 0.007*\"know\" + 0.007*\"could\" + 0.007*\"really\" + 0.006*\"even\"\n",
      "2017-04-12 02:18:07,792 : INFO : topic #4 (0.100): 0.014*\"action\" + 0.007*\"one\" + 0.005*\"fight\" + 0.005*\"police\" + 0.004*\"film\" + 0.004*\"scenes\" + 0.004*\"also\" + 0.004*\"cop\" + 0.004*\"car\" + 0.004*\"scene\"\n",
      "2017-04-12 02:18:07,793 : INFO : topic #5 (0.100): 0.007*\"man\" + 0.007*\"one\" + 0.006*\"film\" + 0.005*\"also\" + 0.004*\"young\" + 0.004*\"john\" + 0.004*\"wife\" + 0.004*\"woman\" + 0.004*\"house\" + 0.004*\"plays\"\n",
      "2017-04-12 02:18:07,795 : INFO : topic diff=0.037308, rho=0.153393\n",
      "2017-04-12 02:18:08,248 : INFO : PROGRESS: pass 4, at document #56000/75000\n",
      "2017-04-12 02:18:10,977 : INFO : merging changes from 2000 documents into a model of 75000 documents\n",
      "2017-04-12 02:18:11,152 : INFO : topic #1 (0.100): 0.010*\"comedy\" + 0.009*\"character\" + 0.007*\"one\" + 0.007*\"cast\" + 0.007*\"film\" + 0.007*\"funny\" + 0.007*\"role\" + 0.006*\"performance\" + 0.005*\"actor\" + 0.005*\"script\"\n",
      "2017-04-12 02:18:11,154 : INFO : topic #6 (0.100): 0.019*\"film\" + 0.016*\"bad\" + 0.012*\"one\" + 0.011*\"like\" + 0.010*\"even\" + 0.010*\"good\" + 0.008*\"acting\" + 0.007*\"really\" + 0.007*\"movies\" + 0.006*\"horror\"\n",
      "2017-04-12 02:18:11,155 : INFO : topic #3 (0.100): 0.007*\"davis\" + 0.007*\"charlie\" + 0.006*\"adam\" + 0.005*\"sandler\" + 0.005*\"metal\" + 0.005*\"khan\" + 0.005*\"chuck\" + 0.004*\"bette\" + 0.004*\"hopkins\" + 0.004*\"david\"\n",
      "2017-04-12 02:18:11,157 : INFO : topic #9 (0.100): 0.015*\"like\" + 0.010*\"get\" + 0.010*\"would\" + 0.010*\"one\" + 0.009*\"people\" + 0.007*\"see\" + 0.007*\"know\" + 0.007*\"could\" + 0.007*\"really\" + 0.006*\"even\"\n",
      "2017-04-12 02:18:11,158 : INFO : topic #0 (0.100): 0.007*\"film\" + 0.007*\"war\" + 0.006*\"life\" + 0.005*\"man\" + 0.005*\"world\" + 0.004*\"family\" + 0.004*\"young\" + 0.004*\"one\" + 0.004*\"american\" + 0.004*\"us\"\n",
      "2017-04-12 02:18:11,160 : INFO : topic diff=0.037270, rho=0.153393\n",
      "2017-04-12 02:18:11,575 : INFO : PROGRESS: pass 4, at document #58000/75000\n",
      "2017-04-12 02:18:14,279 : INFO : merging changes from 2000 documents into a model of 75000 documents\n",
      "2017-04-12 02:18:14,453 : INFO : topic #9 (0.100): 0.015*\"like\" + 0.010*\"get\" + 0.010*\"one\" + 0.010*\"would\" + 0.009*\"people\" + 0.007*\"see\" + 0.007*\"know\" + 0.007*\"really\" + 0.007*\"could\" + 0.006*\"even\"\n",
      "2017-04-12 02:18:14,455 : INFO : topic #4 (0.100): 0.014*\"action\" + 0.007*\"one\" + 0.005*\"police\" + 0.005*\"fight\" + 0.004*\"film\" + 0.004*\"scenes\" + 0.004*\"also\" + 0.004*\"plot\" + 0.004*\"cop\" + 0.004*\"hero\"\n",
      "2017-04-12 02:18:14,456 : INFO : topic #0 (0.100): 0.007*\"film\" + 0.007*\"war\" + 0.006*\"life\" + 0.005*\"man\" + 0.005*\"world\" + 0.004*\"family\" + 0.004*\"young\" + 0.004*\"one\" + 0.004*\"american\" + 0.004*\"us\"\n",
      "2017-04-12 02:18:14,458 : INFO : topic #1 (0.100): 0.010*\"comedy\" + 0.009*\"character\" + 0.007*\"one\" + 0.007*\"cast\" + 0.007*\"film\" + 0.007*\"funny\" + 0.007*\"role\" + 0.006*\"performance\" + 0.005*\"actor\" + 0.005*\"script\"\n",
      "2017-04-12 02:18:14,460 : INFO : topic #3 (0.100): 0.008*\"davis\" + 0.007*\"charlie\" + 0.006*\"adam\" + 0.006*\"sandler\" + 0.005*\"khan\" + 0.005*\"hopkins\" + 0.004*\"chuck\" + 0.004*\"metal\" + 0.004*\"indian\" + 0.004*\"bette\"\n",
      "2017-04-12 02:18:14,462 : INFO : topic diff=0.038342, rho=0.153393\n",
      "2017-04-12 02:18:23,732 : INFO : -8.571 per-word bound, 380.3 perplexity estimate based on a held-out corpus of 2000 documents with 223516 words\n",
      "2017-04-12 02:18:23,733 : INFO : PROGRESS: pass 4, at document #60000/75000\n",
      "2017-04-12 02:18:26,390 : INFO : merging changes from 2000 documents into a model of 75000 documents\n",
      "2017-04-12 02:18:26,561 : INFO : topic #2 (0.100): 0.038*\"film\" + 0.011*\"story\" + 0.010*\"one\" + 0.007*\"characters\" + 0.006*\"films\" + 0.006*\"well\" + 0.006*\"like\" + 0.006*\"much\" + 0.006*\"good\" + 0.005*\"character\"\n",
      "2017-04-12 02:18:26,563 : INFO : topic #1 (0.100): 0.010*\"comedy\" + 0.009*\"character\" + 0.007*\"one\" + 0.007*\"cast\" + 0.007*\"film\" + 0.007*\"funny\" + 0.007*\"role\" + 0.006*\"performance\" + 0.005*\"actor\" + 0.005*\"script\"\n",
      "2017-04-12 02:18:26,564 : INFO : topic #9 (0.100): 0.015*\"like\" + 0.010*\"get\" + 0.010*\"one\" + 0.010*\"would\" + 0.009*\"people\" + 0.007*\"see\" + 0.007*\"know\" + 0.007*\"really\" + 0.007*\"could\" + 0.006*\"even\"\n",
      "2017-04-12 02:18:26,566 : INFO : topic #6 (0.100): 0.020*\"film\" + 0.016*\"bad\" + 0.012*\"one\" + 0.011*\"like\" + 0.010*\"even\" + 0.010*\"good\" + 0.008*\"acting\" + 0.007*\"really\" + 0.007*\"movies\" + 0.007*\"horror\"\n",
      "2017-04-12 02:18:26,567 : INFO : topic #4 (0.100): 0.014*\"action\" + 0.007*\"one\" + 0.005*\"police\" + 0.005*\"fight\" + 0.004*\"film\" + 0.004*\"also\" + 0.004*\"scenes\" + 0.004*\"hero\" + 0.004*\"plot\" + 0.004*\"scene\"\n",
      "2017-04-12 02:18:26,569 : INFO : topic diff=0.036792, rho=0.153393\n",
      "2017-04-12 02:18:26,979 : INFO : PROGRESS: pass 4, at document #62000/75000\n",
      "2017-04-12 02:18:29,625 : INFO : merging changes from 2000 documents into a model of 75000 documents\n",
      "2017-04-12 02:18:29,807 : INFO : topic #2 (0.100): 0.038*\"film\" + 0.011*\"story\" + 0.010*\"one\" + 0.007*\"characters\" + 0.006*\"well\" + 0.006*\"films\" + 0.006*\"like\" + 0.006*\"much\" + 0.006*\"good\" + 0.005*\"character\"\n",
      "2017-04-12 02:18:29,808 : INFO : topic #9 (0.100): 0.015*\"like\" + 0.010*\"get\" + 0.010*\"one\" + 0.010*\"would\" + 0.009*\"people\" + 0.007*\"see\" + 0.007*\"know\" + 0.007*\"really\" + 0.006*\"could\" + 0.006*\"think\"\n",
      "2017-04-12 02:18:29,810 : INFO : topic #3 (0.100): 0.008*\"davis\" + 0.007*\"charlie\" + 0.006*\"sandler\" + 0.006*\"adam\" + 0.005*\"khan\" + 0.004*\"hopkins\" + 0.004*\"chuck\" + 0.004*\"indian\" + 0.004*\"bette\" + 0.004*\"bollywood\"\n",
      "2017-04-12 02:18:29,812 : INFO : topic #4 (0.100): 0.014*\"action\" + 0.007*\"one\" + 0.005*\"police\" + 0.004*\"fight\" + 0.004*\"film\" + 0.004*\"also\" + 0.004*\"scenes\" + 0.004*\"hero\" + 0.004*\"cop\" + 0.004*\"plot\"\n",
      "2017-04-12 02:18:29,814 : INFO : topic #0 (0.100): 0.007*\"film\" + 0.006*\"war\" + 0.006*\"life\" + 0.005*\"world\" + 0.004*\"man\" + 0.004*\"young\" + 0.004*\"family\" + 0.004*\"one\" + 0.004*\"american\" + 0.004*\"us\"\n",
      "2017-04-12 02:18:29,816 : INFO : topic diff=0.035883, rho=0.153393\n",
      "2017-04-12 02:18:30,245 : INFO : PROGRESS: pass 4, at document #64000/75000\n",
      "2017-04-12 02:18:33,125 : INFO : merging changes from 2000 documents into a model of 75000 documents\n",
      "2017-04-12 02:18:33,305 : INFO : topic #1 (0.100): 0.010*\"comedy\" + 0.009*\"character\" + 0.008*\"cast\" + 0.007*\"one\" + 0.007*\"film\" + 0.007*\"funny\" + 0.007*\"role\" + 0.006*\"performance\" + 0.005*\"actor\" + 0.005*\"script\"\n",
      "2017-04-12 02:18:33,307 : INFO : topic #7 (0.100): 0.008*\"love\" + 0.008*\"music\" + 0.007*\"film\" + 0.006*\"one\" + 0.006*\"novel\" + 0.006*\"version\" + 0.005*\"book\" + 0.005*\"beautiful\" + 0.005*\"musical\" + 0.004*\"song\"\n",
      "2017-04-12 02:18:33,309 : INFO : topic #4 (0.100): 0.014*\"action\" + 0.007*\"one\" + 0.005*\"police\" + 0.005*\"fight\" + 0.004*\"film\" + 0.004*\"scenes\" + 0.004*\"also\" + 0.004*\"cop\" + 0.004*\"scene\" + 0.004*\"hero\"\n",
      "2017-04-12 02:18:33,311 : INFO : topic #6 (0.100): 0.019*\"film\" + 0.016*\"bad\" + 0.012*\"one\" + 0.011*\"like\" + 0.010*\"even\" + 0.010*\"good\" + 0.008*\"acting\" + 0.007*\"really\" + 0.007*\"movies\" + 0.006*\"horror\"\n",
      "2017-04-12 02:18:33,313 : INFO : topic #2 (0.100): 0.038*\"film\" + 0.011*\"story\" + 0.010*\"one\" + 0.007*\"characters\" + 0.006*\"well\" + 0.006*\"films\" + 0.006*\"like\" + 0.006*\"much\" + 0.006*\"good\" + 0.005*\"character\"\n",
      "2017-04-12 02:18:33,315 : INFO : topic diff=0.038518, rho=0.153393\n",
      "2017-04-12 02:18:33,729 : INFO : PROGRESS: pass 4, at document #66000/75000\n",
      "2017-04-12 02:18:36,357 : INFO : merging changes from 2000 documents into a model of 75000 documents\n",
      "2017-04-12 02:18:36,532 : INFO : topic #5 (0.100): 0.007*\"man\" + 0.006*\"one\" + 0.006*\"film\" + 0.005*\"also\" + 0.004*\"young\" + 0.004*\"woman\" + 0.004*\"john\" + 0.004*\"old\" + 0.004*\"plays\" + 0.004*\"wife\"\n",
      "2017-04-12 02:18:36,533 : INFO : topic #0 (0.100): 0.007*\"film\" + 0.006*\"war\" + 0.006*\"life\" + 0.005*\"world\" + 0.004*\"man\" + 0.004*\"family\" + 0.004*\"young\" + 0.004*\"one\" + 0.004*\"american\" + 0.004*\"us\"\n",
      "2017-04-12 02:18:36,534 : INFO : topic #2 (0.100): 0.038*\"film\" + 0.011*\"story\" + 0.010*\"one\" + 0.007*\"characters\" + 0.006*\"well\" + 0.006*\"films\" + 0.006*\"like\" + 0.006*\"much\" + 0.006*\"good\" + 0.006*\"character\"\n",
      "2017-04-12 02:18:36,536 : INFO : topic #1 (0.100): 0.010*\"comedy\" + 0.009*\"character\" + 0.008*\"cast\" + 0.007*\"one\" + 0.007*\"film\" + 0.007*\"funny\" + 0.007*\"role\" + 0.006*\"performance\" + 0.005*\"actor\" + 0.005*\"script\"\n",
      "2017-04-12 02:18:36,537 : INFO : topic #8 (0.100): 0.015*\"show\" + 0.013*\"one\" + 0.013*\"great\" + 0.010*\"like\" + 0.009*\"good\" + 0.009*\"series\" + 0.009*\"first\" + 0.009*\"see\" + 0.008*\"time\" + 0.007*\"would\"\n",
      "2017-04-12 02:18:36,539 : INFO : topic diff=0.036683, rho=0.153393\n",
      "2017-04-12 02:18:36,936 : INFO : PROGRESS: pass 4, at document #68000/75000\n",
      "2017-04-12 02:18:39,573 : INFO : merging changes from 2000 documents into a model of 75000 documents\n",
      "2017-04-12 02:18:39,744 : INFO : topic #9 (0.100): 0.015*\"like\" + 0.010*\"get\" + 0.010*\"one\" + 0.010*\"would\" + 0.009*\"people\" + 0.007*\"see\" + 0.007*\"know\" + 0.007*\"really\" + 0.007*\"could\" + 0.006*\"think\"\n",
      "2017-04-12 02:18:39,746 : INFO : topic #3 (0.100): 0.009*\"davis\" + 0.008*\"charlie\" + 0.005*\"khan\" + 0.005*\"sandler\" + 0.005*\"adam\" + 0.005*\"bette\" + 0.004*\"indian\" + 0.004*\"moore\" + 0.004*\"chuck\" + 0.004*\"bollywood\"\n",
      "2017-04-12 02:18:39,747 : INFO : topic #4 (0.100): 0.014*\"action\" + 0.007*\"one\" + 0.005*\"police\" + 0.004*\"fight\" + 0.004*\"film\" + 0.004*\"also\" + 0.004*\"scenes\" + 0.004*\"cop\" + 0.004*\"scene\" + 0.004*\"plot\"\n",
      "2017-04-12 02:18:39,749 : INFO : topic #0 (0.100): 0.007*\"film\" + 0.006*\"war\" + 0.006*\"life\" + 0.005*\"world\" + 0.004*\"man\" + 0.004*\"family\" + 0.004*\"young\" + 0.004*\"one\" + 0.004*\"american\" + 0.004*\"us\"\n",
      "2017-04-12 02:18:39,750 : INFO : topic #8 (0.100): 0.014*\"show\" + 0.013*\"one\" + 0.013*\"great\" + 0.010*\"like\" + 0.009*\"good\" + 0.009*\"series\" + 0.008*\"see\" + 0.008*\"first\" + 0.008*\"time\" + 0.007*\"would\"\n",
      "2017-04-12 02:18:39,752 : INFO : topic diff=0.037401, rho=0.153393\n",
      "2017-04-12 02:18:40,154 : INFO : PROGRESS: pass 4, at document #70000/75000\n",
      "2017-04-12 02:18:42,754 : INFO : merging changes from 2000 documents into a model of 75000 documents\n",
      "2017-04-12 02:18:42,923 : INFO : topic #1 (0.100): 0.011*\"comedy\" + 0.009*\"character\" + 0.008*\"cast\" + 0.007*\"film\" + 0.007*\"one\" + 0.007*\"funny\" + 0.007*\"role\" + 0.006*\"performance\" + 0.005*\"actor\" + 0.005*\"script\"\n",
      "2017-04-12 02:18:42,925 : INFO : topic #5 (0.100): 0.007*\"man\" + 0.006*\"one\" + 0.006*\"film\" + 0.005*\"also\" + 0.005*\"young\" + 0.004*\"john\" + 0.004*\"woman\" + 0.004*\"old\" + 0.004*\"plays\" + 0.004*\"role\"\n",
      "2017-04-12 02:18:42,926 : INFO : topic #0 (0.100): 0.007*\"film\" + 0.006*\"war\" + 0.006*\"life\" + 0.005*\"world\" + 0.004*\"man\" + 0.004*\"young\" + 0.004*\"family\" + 0.004*\"one\" + 0.004*\"american\" + 0.004*\"us\"\n",
      "2017-04-12 02:18:42,928 : INFO : topic #7 (0.100): 0.008*\"love\" + 0.008*\"music\" + 0.007*\"film\" + 0.006*\"one\" + 0.006*\"book\" + 0.006*\"version\" + 0.006*\"novel\" + 0.005*\"beautiful\" + 0.005*\"musical\" + 0.005*\"best\"\n",
      "2017-04-12 02:18:42,929 : INFO : topic #9 (0.100): 0.015*\"like\" + 0.010*\"get\" + 0.010*\"one\" + 0.010*\"would\" + 0.009*\"people\" + 0.007*\"see\" + 0.007*\"know\" + 0.007*\"really\" + 0.007*\"could\" + 0.006*\"think\"\n",
      "2017-04-12 02:18:42,931 : INFO : topic diff=0.038303, rho=0.153393\n",
      "2017-04-12 02:18:43,331 : INFO : PROGRESS: pass 4, at document #72000/75000\n",
      "2017-04-12 02:18:45,969 : INFO : merging changes from 2000 documents into a model of 75000 documents\n",
      "2017-04-12 02:18:46,137 : INFO : topic #9 (0.100): 0.015*\"like\" + 0.010*\"get\" + 0.010*\"one\" + 0.010*\"would\" + 0.009*\"people\" + 0.007*\"see\" + 0.007*\"know\" + 0.007*\"could\" + 0.007*\"really\" + 0.006*\"think\"\n",
      "2017-04-12 02:18:46,139 : INFO : topic #8 (0.100): 0.014*\"show\" + 0.013*\"one\" + 0.013*\"great\" + 0.010*\"like\" + 0.010*\"good\" + 0.008*\"see\" + 0.008*\"series\" + 0.008*\"first\" + 0.008*\"time\" + 0.007*\"would\"\n",
      "2017-04-12 02:18:46,141 : INFO : topic #2 (0.100): 0.039*\"film\" + 0.011*\"story\" + 0.010*\"one\" + 0.007*\"characters\" + 0.006*\"well\" + 0.006*\"films\" + 0.006*\"like\" + 0.006*\"much\" + 0.006*\"good\" + 0.005*\"character\"\n",
      "2017-04-12 02:18:46,143 : INFO : topic #3 (0.100): 0.008*\"davis\" + 0.007*\"charlie\" + 0.006*\"khan\" + 0.005*\"adam\" + 0.005*\"moore\" + 0.005*\"sandler\" + 0.005*\"bette\" + 0.005*\"indian\" + 0.005*\"chuck\" + 0.004*\"bollywood\"\n",
      "2017-04-12 02:18:46,144 : INFO : topic #1 (0.100): 0.010*\"comedy\" + 0.009*\"character\" + 0.008*\"cast\" + 0.007*\"film\" + 0.007*\"one\" + 0.007*\"funny\" + 0.007*\"role\" + 0.006*\"performance\" + 0.005*\"actor\" + 0.005*\"script\"\n",
      "2017-04-12 02:18:46,147 : INFO : topic diff=0.037111, rho=0.153393\n",
      "2017-04-12 02:18:46,569 : INFO : PROGRESS: pass 4, at document #74000/75000\n",
      "2017-04-12 02:18:49,315 : INFO : merging changes from 2000 documents into a model of 75000 documents\n",
      "2017-04-12 02:18:49,490 : INFO : topic #7 (0.100): 0.009*\"music\" + 0.008*\"love\" + 0.007*\"film\" + 0.006*\"one\" + 0.006*\"version\" + 0.006*\"novel\" + 0.006*\"book\" + 0.005*\"beautiful\" + 0.005*\"musical\" + 0.005*\"best\"\n",
      "2017-04-12 02:18:49,492 : INFO : topic #8 (0.100): 0.014*\"show\" + 0.013*\"one\" + 0.013*\"great\" + 0.010*\"like\" + 0.010*\"good\" + 0.008*\"see\" + 0.008*\"first\" + 0.008*\"time\" + 0.008*\"series\" + 0.007*\"would\"\n",
      "2017-04-12 02:18:49,494 : INFO : topic #9 (0.100): 0.015*\"like\" + 0.010*\"get\" + 0.010*\"one\" + 0.010*\"would\" + 0.009*\"people\" + 0.007*\"see\" + 0.007*\"know\" + 0.007*\"really\" + 0.006*\"could\" + 0.006*\"think\"\n",
      "2017-04-12 02:18:49,495 : INFO : topic #2 (0.100): 0.039*\"film\" + 0.011*\"story\" + 0.010*\"one\" + 0.007*\"characters\" + 0.006*\"films\" + 0.006*\"well\" + 0.006*\"like\" + 0.006*\"much\" + 0.006*\"good\" + 0.005*\"character\"\n",
      "2017-04-12 02:18:49,497 : INFO : topic #0 (0.100): 0.007*\"film\" + 0.006*\"war\" + 0.006*\"life\" + 0.005*\"world\" + 0.004*\"man\" + 0.004*\"young\" + 0.004*\"family\" + 0.004*\"one\" + 0.004*\"american\" + 0.004*\"men\"\n",
      "2017-04-12 02:18:49,499 : INFO : topic diff=0.038498, rho=0.153393\n",
      "2017-04-12 02:18:53,965 : INFO : -8.572 per-word bound, 380.6 perplexity estimate based on a held-out corpus of 1000 documents with 112974 words\n",
      "2017-04-12 02:18:53,965 : INFO : PROGRESS: pass 4, at document #75000/75000\n",
      "2017-04-12 02:18:55,274 : INFO : merging changes from 1000 documents into a model of 75000 documents\n",
      "2017-04-12 02:18:55,449 : INFO : topic #6 (0.100): 0.020*\"film\" + 0.015*\"bad\" + 0.012*\"one\" + 0.012*\"like\" + 0.010*\"even\" + 0.010*\"good\" + 0.008*\"acting\" + 0.007*\"really\" + 0.007*\"movies\" + 0.007*\"horror\"\n",
      "2017-04-12 02:18:55,450 : INFO : topic #1 (0.100): 0.010*\"comedy\" + 0.009*\"character\" + 0.008*\"funny\" + 0.008*\"film\" + 0.008*\"cast\" + 0.007*\"one\" + 0.007*\"role\" + 0.006*\"performance\" + 0.005*\"actor\" + 0.005*\"script\"\n",
      "2017-04-12 02:18:55,451 : INFO : topic #2 (0.100): 0.039*\"film\" + 0.011*\"story\" + 0.010*\"one\" + 0.007*\"characters\" + 0.006*\"well\" + 0.006*\"films\" + 0.006*\"like\" + 0.006*\"much\" + 0.006*\"good\" + 0.005*\"character\"\n",
      "2017-04-12 02:18:55,453 : INFO : topic #5 (0.100): 0.007*\"man\" + 0.006*\"one\" + 0.006*\"film\" + 0.005*\"also\" + 0.005*\"young\" + 0.004*\"john\" + 0.004*\"old\" + 0.004*\"wife\" + 0.004*\"woman\" + 0.004*\"role\"\n",
      "2017-04-12 02:18:55,454 : INFO : topic #0 (0.100): 0.007*\"film\" + 0.006*\"war\" + 0.006*\"life\" + 0.005*\"world\" + 0.004*\"man\" + 0.004*\"young\" + 0.004*\"family\" + 0.004*\"one\" + 0.004*\"american\" + 0.004*\"men\"\n",
      "2017-04-12 02:18:55,456 : INFO : topic diff=0.039737, rho=0.153393\n",
      "2017-04-12 02:18:55,859 : INFO : PROGRESS: pass 5, at document #2000/75000\n",
      "2017-04-12 02:18:58,445 : INFO : merging changes from 2000 documents into a model of 75000 documents\n",
      "2017-04-12 02:18:58,613 : INFO : topic #9 (0.100): 0.015*\"like\" + 0.011*\"get\" + 0.010*\"one\" + 0.010*\"would\" + 0.009*\"people\" + 0.007*\"see\" + 0.007*\"know\" + 0.007*\"really\" + 0.007*\"could\" + 0.006*\"even\"\n",
      "2017-04-12 02:18:58,615 : INFO : topic #7 (0.100): 0.008*\"love\" + 0.008*\"music\" + 0.007*\"film\" + 0.006*\"one\" + 0.006*\"version\" + 0.006*\"novel\" + 0.005*\"beautiful\" + 0.005*\"book\" + 0.005*\"musical\" + 0.005*\"best\"\n",
      "2017-04-12 02:18:58,617 : INFO : topic #3 (0.100): 0.008*\"davis\" + 0.007*\"charlie\" + 0.006*\"sandler\" + 0.005*\"khan\" + 0.005*\"chuck\" + 0.005*\"adam\" + 0.005*\"indian\" + 0.005*\"bette\" + 0.004*\"moore\" + 0.004*\"david\"\n",
      "2017-04-12 02:18:58,618 : INFO : topic #0 (0.100): 0.007*\"film\" + 0.006*\"war\" + 0.006*\"life\" + 0.005*\"world\" + 0.005*\"man\" + 0.004*\"young\" + 0.004*\"family\" + 0.004*\"one\" + 0.004*\"american\" + 0.004*\"men\"\n",
      "2017-04-12 02:18:58,620 : INFO : topic #4 (0.100): 0.014*\"action\" + 0.007*\"one\" + 0.005*\"police\" + 0.004*\"fight\" + 0.004*\"film\" + 0.004*\"also\" + 0.004*\"scenes\" + 0.004*\"cop\" + 0.004*\"plot\" + 0.004*\"scene\"\n",
      "2017-04-12 02:18:58,623 : INFO : topic diff=0.048983, rho=0.151620\n",
      "2017-04-12 02:18:59,079 : INFO : PROGRESS: pass 5, at document #4000/75000\n",
      "2017-04-12 02:19:01,708 : INFO : merging changes from 2000 documents into a model of 75000 documents\n",
      "2017-04-12 02:19:01,877 : INFO : topic #1 (0.100): 0.010*\"comedy\" + 0.009*\"character\" + 0.008*\"cast\" + 0.007*\"film\" + 0.007*\"funny\" + 0.007*\"one\" + 0.007*\"role\" + 0.006*\"performance\" + 0.005*\"actor\" + 0.005*\"script\"\n",
      "2017-04-12 02:19:01,878 : INFO : topic #3 (0.100): 0.008*\"charlie\" + 0.007*\"davis\" + 0.005*\"sandler\" + 0.005*\"indian\" + 0.005*\"adam\" + 0.005*\"khan\" + 0.004*\"chuck\" + 0.004*\"bette\" + 0.004*\"david\" + 0.004*\"moore\"\n",
      "2017-04-12 02:19:01,880 : INFO : topic #7 (0.100): 0.008*\"love\" + 0.008*\"music\" + 0.007*\"film\" + 0.006*\"version\" + 0.006*\"one\" + 0.006*\"novel\" + 0.005*\"beautiful\" + 0.005*\"book\" + 0.005*\"musical\" + 0.005*\"best\"\n",
      "2017-04-12 02:19:01,882 : INFO : topic #5 (0.100): 0.007*\"man\" + 0.006*\"one\" + 0.006*\"film\" + 0.005*\"also\" + 0.005*\"young\" + 0.004*\"john\" + 0.004*\"old\" + 0.004*\"wife\" + 0.004*\"house\" + 0.004*\"woman\"\n",
      "2017-04-12 02:19:01,884 : INFO : topic #2 (0.100): 0.039*\"film\" + 0.011*\"story\" + 0.010*\"one\" + 0.007*\"characters\" + 0.006*\"films\" + 0.006*\"well\" + 0.006*\"like\" + 0.006*\"good\" + 0.006*\"much\" + 0.005*\"character\"\n",
      "2017-04-12 02:19:01,886 : INFO : topic diff=0.048654, rho=0.151620\n",
      "2017-04-12 02:19:02,288 : INFO : PROGRESS: pass 5, at document #6000/75000\n",
      "2017-04-12 02:19:04,923 : INFO : merging changes from 2000 documents into a model of 75000 documents\n",
      "2017-04-12 02:19:05,093 : INFO : topic #4 (0.100): 0.014*\"action\" + 0.007*\"one\" + 0.005*\"police\" + 0.004*\"fight\" + 0.004*\"also\" + 0.004*\"film\" + 0.004*\"scenes\" + 0.004*\"cop\" + 0.004*\"car\" + 0.004*\"plot\"\n",
      "2017-04-12 02:19:05,094 : INFO : topic #9 (0.100): 0.015*\"like\" + 0.010*\"get\" + 0.010*\"would\" + 0.010*\"one\" + 0.009*\"people\" + 0.007*\"see\" + 0.007*\"know\" + 0.007*\"really\" + 0.007*\"could\" + 0.006*\"think\"\n",
      "2017-04-12 02:19:05,096 : INFO : topic #2 (0.100): 0.039*\"film\" + 0.011*\"story\" + 0.010*\"one\" + 0.007*\"characters\" + 0.006*\"films\" + 0.006*\"well\" + 0.006*\"like\" + 0.006*\"much\" + 0.006*\"good\" + 0.005*\"character\"\n",
      "2017-04-12 02:19:05,098 : INFO : topic #8 (0.100): 0.014*\"show\" + 0.013*\"one\" + 0.013*\"great\" + 0.010*\"like\" + 0.010*\"good\" + 0.008*\"see\" + 0.008*\"time\" + 0.008*\"first\" + 0.008*\"series\" + 0.007*\"would\"\n",
      "2017-04-12 02:19:05,100 : INFO : topic #5 (0.100): 0.007*\"man\" + 0.006*\"one\" + 0.006*\"film\" + 0.005*\"also\" + 0.005*\"john\" + 0.004*\"young\" + 0.004*\"wife\" + 0.004*\"old\" + 0.004*\"house\" + 0.004*\"woman\"\n",
      "2017-04-12 02:19:05,102 : INFO : topic diff=0.044493, rho=0.151620\n",
      "2017-04-12 02:19:05,552 : INFO : PROGRESS: pass 5, at document #8000/75000\n",
      "2017-04-12 02:19:08,154 : INFO : merging changes from 2000 documents into a model of 75000 documents\n",
      "2017-04-12 02:19:08,320 : INFO : topic #0 (0.100): 0.007*\"film\" + 0.006*\"war\" + 0.006*\"life\" + 0.005*\"world\" + 0.005*\"family\" + 0.005*\"man\" + 0.004*\"young\" + 0.004*\"one\" + 0.004*\"american\" + 0.004*\"men\"\n",
      "2017-04-12 02:19:08,322 : INFO : topic #9 (0.100): 0.015*\"like\" + 0.010*\"get\" + 0.010*\"one\" + 0.010*\"would\" + 0.009*\"people\" + 0.007*\"see\" + 0.007*\"know\" + 0.007*\"really\" + 0.006*\"could\" + 0.006*\"think\"\n",
      "2017-04-12 02:19:08,323 : INFO : topic #2 (0.100): 0.039*\"film\" + 0.011*\"story\" + 0.010*\"one\" + 0.007*\"characters\" + 0.006*\"films\" + 0.006*\"well\" + 0.006*\"like\" + 0.006*\"good\" + 0.006*\"much\" + 0.005*\"character\"\n",
      "2017-04-12 02:19:08,325 : INFO : topic #1 (0.100): 0.010*\"comedy\" + 0.009*\"character\" + 0.008*\"film\" + 0.007*\"cast\" + 0.007*\"funny\" + 0.007*\"role\" + 0.007*\"one\" + 0.006*\"performance\" + 0.005*\"actor\" + 0.005*\"good\"\n",
      "2017-04-12 02:19:08,327 : INFO : topic #6 (0.100): 0.020*\"film\" + 0.015*\"bad\" + 0.012*\"one\" + 0.012*\"like\" + 0.010*\"even\" + 0.010*\"good\" + 0.008*\"acting\" + 0.008*\"really\" + 0.007*\"movies\" + 0.007*\"horror\"\n",
      "2017-04-12 02:19:08,329 : INFO : topic diff=0.040138, rho=0.151620\n",
      "2017-04-12 02:19:08,769 : INFO : PROGRESS: pass 5, at document #10000/75000\n",
      "2017-04-12 02:19:11,394 : INFO : merging changes from 2000 documents into a model of 75000 documents\n",
      "2017-04-12 02:19:11,566 : INFO : topic #9 (0.100): 0.015*\"like\" + 0.010*\"get\" + 0.010*\"would\" + 0.010*\"one\" + 0.009*\"people\" + 0.007*\"see\" + 0.007*\"know\" + 0.007*\"really\" + 0.006*\"could\" + 0.006*\"think\"\n",
      "2017-04-12 02:19:11,568 : INFO : topic #1 (0.100): 0.010*\"comedy\" + 0.008*\"character\" + 0.008*\"film\" + 0.007*\"cast\" + 0.007*\"one\" + 0.007*\"role\" + 0.007*\"funny\" + 0.006*\"performance\" + 0.005*\"actor\" + 0.005*\"good\"\n",
      "2017-04-12 02:19:11,569 : INFO : topic #2 (0.100): 0.039*\"film\" + 0.011*\"story\" + 0.010*\"one\" + 0.007*\"characters\" + 0.006*\"films\" + 0.006*\"well\" + 0.006*\"like\" + 0.006*\"much\" + 0.006*\"good\" + 0.005*\"character\"\n",
      "2017-04-12 02:19:11,571 : INFO : topic #8 (0.100): 0.014*\"show\" + 0.013*\"one\" + 0.012*\"great\" + 0.010*\"like\" + 0.010*\"good\" + 0.008*\"time\" + 0.008*\"first\" + 0.008*\"see\" + 0.008*\"series\" + 0.007*\"would\"\n",
      "2017-04-12 02:19:11,573 : INFO : topic #5 (0.100): 0.007*\"man\" + 0.006*\"one\" + 0.006*\"film\" + 0.005*\"also\" + 0.005*\"john\" + 0.005*\"young\" + 0.004*\"wife\" + 0.004*\"house\" + 0.004*\"old\" + 0.004*\"woman\"\n",
      "2017-04-12 02:19:11,575 : INFO : topic diff=0.037826, rho=0.151620\n",
      "2017-04-12 02:19:11,994 : INFO : PROGRESS: pass 5, at document #12000/75000\n",
      "2017-04-12 02:19:14,594 : INFO : merging changes from 2000 documents into a model of 75000 documents\n",
      "2017-04-12 02:19:14,767 : INFO : topic #8 (0.100): 0.014*\"show\" + 0.013*\"one\" + 0.012*\"great\" + 0.010*\"like\" + 0.010*\"good\" + 0.008*\"series\" + 0.008*\"time\" + 0.008*\"first\" + 0.008*\"see\" + 0.007*\"would\"\n",
      "2017-04-12 02:19:14,768 : INFO : topic #4 (0.100): 0.013*\"action\" + 0.007*\"one\" + 0.005*\"police\" + 0.004*\"fight\" + 0.004*\"scenes\" + 0.004*\"also\" + 0.004*\"film\" + 0.004*\"car\" + 0.004*\"plot\" + 0.004*\"scene\"\n",
      "2017-04-12 02:19:14,770 : INFO : topic #5 (0.100): 0.007*\"man\" + 0.006*\"one\" + 0.006*\"film\" + 0.005*\"also\" + 0.004*\"john\" + 0.004*\"young\" + 0.004*\"wife\" + 0.004*\"house\" + 0.004*\"woman\" + 0.004*\"old\"\n",
      "2017-04-12 02:19:14,772 : INFO : topic #2 (0.100): 0.039*\"film\" + 0.011*\"story\" + 0.010*\"one\" + 0.007*\"characters\" + 0.006*\"films\" + 0.006*\"well\" + 0.006*\"like\" + 0.006*\"much\" + 0.006*\"good\" + 0.005*\"see\"\n",
      "2017-04-12 02:19:14,774 : INFO : topic #3 (0.100): 0.008*\"charlie\" + 0.007*\"davis\" + 0.005*\"adam\" + 0.005*\"sandler\" + 0.005*\"indian\" + 0.004*\"bette\" + 0.004*\"david\" + 0.004*\"sutherland\" + 0.003*\"bollywood\" + 0.003*\"khan\"\n",
      "2017-04-12 02:19:14,776 : INFO : topic diff=0.037914, rho=0.151620\n",
      "2017-04-12 02:19:15,225 : INFO : PROGRESS: pass 5, at document #14000/75000\n",
      "2017-04-12 02:19:17,850 : INFO : merging changes from 2000 documents into a model of 75000 documents\n",
      "2017-04-12 02:19:18,027 : INFO : topic #6 (0.100): 0.019*\"film\" + 0.016*\"bad\" + 0.012*\"one\" + 0.012*\"like\" + 0.010*\"even\" + 0.010*\"good\" + 0.008*\"acting\" + 0.008*\"really\" + 0.007*\"movies\" + 0.006*\"horror\"\n",
      "2017-04-12 02:19:18,029 : INFO : topic #8 (0.100): 0.014*\"show\" + 0.013*\"one\" + 0.012*\"great\" + 0.010*\"like\" + 0.010*\"good\" + 0.009*\"series\" + 0.008*\"time\" + 0.008*\"first\" + 0.008*\"see\" + 0.007*\"would\"\n",
      "2017-04-12 02:19:18,031 : INFO : topic #9 (0.100): 0.015*\"like\" + 0.010*\"get\" + 0.010*\"one\" + 0.010*\"would\" + 0.009*\"people\" + 0.007*\"see\" + 0.007*\"know\" + 0.007*\"really\" + 0.006*\"could\" + 0.006*\"think\"\n",
      "2017-04-12 02:19:18,033 : INFO : topic #7 (0.100): 0.009*\"love\" + 0.008*\"music\" + 0.007*\"film\" + 0.006*\"version\" + 0.006*\"one\" + 0.006*\"novel\" + 0.005*\"beautiful\" + 0.005*\"musical\" + 0.005*\"book\" + 0.005*\"best\"\n",
      "2017-04-12 02:19:18,036 : INFO : topic #2 (0.100): 0.039*\"film\" + 0.011*\"story\" + 0.010*\"one\" + 0.007*\"characters\" + 0.006*\"films\" + 0.006*\"well\" + 0.006*\"like\" + 0.006*\"much\" + 0.006*\"good\" + 0.005*\"character\"\n",
      "2017-04-12 02:19:18,038 : INFO : topic diff=0.039174, rho=0.151620\n",
      "2017-04-12 02:19:18,489 : INFO : PROGRESS: pass 5, at document #16000/75000\n",
      "2017-04-12 02:19:21,231 : INFO : merging changes from 2000 documents into a model of 75000 documents\n",
      "2017-04-12 02:19:21,407 : INFO : topic #6 (0.100): 0.019*\"film\" + 0.016*\"bad\" + 0.012*\"one\" + 0.012*\"like\" + 0.010*\"even\" + 0.010*\"good\" + 0.008*\"acting\" + 0.008*\"really\" + 0.007*\"movies\" + 0.006*\"horror\"\n",
      "2017-04-12 02:19:21,409 : INFO : topic #4 (0.100): 0.013*\"action\" + 0.007*\"one\" + 0.005*\"police\" + 0.005*\"fight\" + 0.004*\"scenes\" + 0.004*\"also\" + 0.004*\"film\" + 0.004*\"plot\" + 0.004*\"killer\" + 0.004*\"car\"\n",
      "2017-04-12 02:19:21,410 : INFO : topic #9 (0.100): 0.015*\"like\" + 0.010*\"get\" + 0.010*\"one\" + 0.010*\"would\" + 0.009*\"people\" + 0.007*\"see\" + 0.007*\"know\" + 0.007*\"really\" + 0.006*\"could\" + 0.006*\"even\"\n",
      "2017-04-12 02:19:21,412 : INFO : topic #8 (0.100): 0.014*\"show\" + 0.013*\"one\" + 0.012*\"great\" + 0.010*\"like\" + 0.010*\"good\" + 0.009*\"series\" + 0.008*\"time\" + 0.008*\"first\" + 0.008*\"see\" + 0.007*\"would\"\n",
      "2017-04-12 02:19:21,414 : INFO : topic #7 (0.100): 0.009*\"love\" + 0.008*\"music\" + 0.007*\"film\" + 0.006*\"version\" + 0.006*\"one\" + 0.006*\"musical\" + 0.005*\"novel\" + 0.005*\"beautiful\" + 0.005*\"book\" + 0.004*\"best\"\n",
      "2017-04-12 02:19:21,416 : INFO : topic diff=0.039077, rho=0.151620\n",
      "2017-04-12 02:19:21,818 : INFO : PROGRESS: pass 5, at document #18000/75000\n",
      "2017-04-12 02:19:24,454 : INFO : merging changes from 2000 documents into a model of 75000 documents\n",
      "2017-04-12 02:19:24,631 : INFO : topic #6 (0.100): 0.019*\"film\" + 0.016*\"bad\" + 0.012*\"one\" + 0.011*\"like\" + 0.010*\"even\" + 0.010*\"good\" + 0.008*\"acting\" + 0.008*\"really\" + 0.007*\"movies\" + 0.006*\"horror\"\n",
      "2017-04-12 02:19:24,633 : INFO : topic #2 (0.100): 0.039*\"film\" + 0.011*\"story\" + 0.010*\"one\" + 0.007*\"characters\" + 0.006*\"films\" + 0.006*\"well\" + 0.006*\"like\" + 0.006*\"much\" + 0.006*\"good\" + 0.005*\"character\"\n",
      "2017-04-12 02:19:24,636 : INFO : topic #9 (0.100): 0.014*\"like\" + 0.010*\"get\" + 0.010*\"one\" + 0.010*\"would\" + 0.009*\"people\" + 0.007*\"see\" + 0.007*\"know\" + 0.007*\"really\" + 0.006*\"could\" + 0.006*\"even\"\n",
      "2017-04-12 02:19:24,637 : INFO : topic #3 (0.100): 0.007*\"charlie\" + 0.007*\"davis\" + 0.005*\"adam\" + 0.004*\"sandler\" + 0.004*\"indian\" + 0.004*\"david\" + 0.004*\"washington\" + 0.004*\"bette\" + 0.004*\"sutherland\" + 0.004*\"bollywood\"\n",
      "2017-04-12 02:19:24,639 : INFO : topic #7 (0.100): 0.009*\"love\" + 0.008*\"music\" + 0.007*\"film\" + 0.006*\"version\" + 0.006*\"one\" + 0.006*\"musical\" + 0.006*\"novel\" + 0.005*\"beautiful\" + 0.005*\"book\" + 0.005*\"best\"\n",
      "2017-04-12 02:19:24,641 : INFO : topic diff=0.037466, rho=0.151620\n",
      "2017-04-12 02:19:33,478 : INFO : -8.546 per-word bound, 373.7 perplexity estimate based on a held-out corpus of 2000 documents with 221882 words\n",
      "2017-04-12 02:19:33,479 : INFO : PROGRESS: pass 5, at document #20000/75000\n",
      "2017-04-12 02:19:36,101 : INFO : merging changes from 2000 documents into a model of 75000 documents\n",
      "2017-04-12 02:19:36,276 : INFO : topic #0 (0.100): 0.007*\"film\" + 0.006*\"war\" + 0.006*\"life\" + 0.005*\"family\" + 0.005*\"world\" + 0.005*\"man\" + 0.005*\"young\" + 0.004*\"one\" + 0.004*\"us\" + 0.004*\"men\"\n",
      "2017-04-12 02:19:36,277 : INFO : topic #5 (0.100): 0.008*\"man\" + 0.006*\"one\" + 0.006*\"film\" + 0.005*\"also\" + 0.004*\"young\" + 0.004*\"john\" + 0.004*\"wife\" + 0.004*\"house\" + 0.004*\"woman\" + 0.004*\"old\"\n",
      "2017-04-12 02:19:36,279 : INFO : topic #2 (0.100): 0.038*\"film\" + 0.011*\"story\" + 0.010*\"one\" + 0.007*\"characters\" + 0.006*\"films\" + 0.006*\"well\" + 0.006*\"like\" + 0.006*\"much\" + 0.006*\"good\" + 0.005*\"character\"\n",
      "2017-04-12 02:19:36,281 : INFO : topic #7 (0.100): 0.009*\"love\" + 0.008*\"music\" + 0.007*\"film\" + 0.007*\"version\" + 0.006*\"one\" + 0.006*\"musical\" + 0.006*\"novel\" + 0.005*\"book\" + 0.005*\"beautiful\" + 0.005*\"best\"\n",
      "2017-04-12 02:19:36,283 : INFO : topic #4 (0.100): 0.013*\"action\" + 0.007*\"one\" + 0.005*\"police\" + 0.005*\"fight\" + 0.004*\"scenes\" + 0.004*\"also\" + 0.004*\"film\" + 0.004*\"car\" + 0.004*\"killer\" + 0.004*\"plot\"\n",
      "2017-04-12 02:19:36,285 : INFO : topic diff=0.036626, rho=0.151620\n",
      "2017-04-12 02:19:36,702 : INFO : PROGRESS: pass 5, at document #22000/75000\n",
      "2017-04-12 02:19:39,348 : INFO : merging changes from 2000 documents into a model of 75000 documents\n",
      "2017-04-12 02:19:39,523 : INFO : topic #3 (0.100): 0.008*\"charlie\" + 0.007*\"davis\" + 0.005*\"adam\" + 0.005*\"sandler\" + 0.004*\"bette\" + 0.004*\"washington\" + 0.004*\"david\" + 0.004*\"indian\" + 0.004*\"sutherland\" + 0.003*\"bollywood\"\n",
      "2017-04-12 02:19:39,525 : INFO : topic #5 (0.100): 0.008*\"man\" + 0.006*\"one\" + 0.006*\"film\" + 0.005*\"also\" + 0.004*\"young\" + 0.004*\"john\" + 0.004*\"wife\" + 0.004*\"house\" + 0.004*\"old\" + 0.004*\"woman\"\n",
      "2017-04-12 02:19:39,527 : INFO : topic #7 (0.100): 0.009*\"love\" + 0.008*\"music\" + 0.007*\"film\" + 0.007*\"version\" + 0.006*\"one\" + 0.006*\"musical\" + 0.006*\"book\" + 0.006*\"novel\" + 0.005*\"beautiful\" + 0.005*\"best\"\n",
      "2017-04-12 02:19:39,529 : INFO : topic #6 (0.100): 0.019*\"film\" + 0.016*\"bad\" + 0.012*\"one\" + 0.011*\"like\" + 0.010*\"even\" + 0.010*\"good\" + 0.008*\"acting\" + 0.008*\"really\" + 0.007*\"movies\" + 0.006*\"horror\"\n",
      "2017-04-12 02:19:39,530 : INFO : topic #9 (0.100): 0.015*\"like\" + 0.010*\"get\" + 0.010*\"one\" + 0.010*\"would\" + 0.009*\"people\" + 0.008*\"see\" + 0.007*\"know\" + 0.007*\"really\" + 0.006*\"could\" + 0.006*\"even\"\n",
      "2017-04-12 02:19:39,532 : INFO : topic diff=0.039366, rho=0.151620\n",
      "2017-04-12 02:19:39,927 : INFO : PROGRESS: pass 5, at document #24000/75000\n",
      "2017-04-12 02:19:42,536 : INFO : merging changes from 2000 documents into a model of 75000 documents\n",
      "2017-04-12 02:19:42,712 : INFO : topic #3 (0.100): 0.008*\"davis\" + 0.008*\"charlie\" + 0.005*\"sandler\" + 0.005*\"adam\" + 0.004*\"indian\" + 0.004*\"washington\" + 0.004*\"bette\" + 0.004*\"david\" + 0.004*\"bollywood\" + 0.004*\"brando\"\n",
      "2017-04-12 02:19:42,714 : INFO : topic #7 (0.100): 0.009*\"love\" + 0.008*\"music\" + 0.007*\"film\" + 0.007*\"version\" + 0.006*\"one\" + 0.006*\"musical\" + 0.006*\"book\" + 0.006*\"novel\" + 0.005*\"beautiful\" + 0.005*\"best\"\n",
      "2017-04-12 02:19:42,716 : INFO : topic #1 (0.100): 0.010*\"comedy\" + 0.009*\"character\" + 0.008*\"cast\" + 0.008*\"film\" + 0.007*\"one\" + 0.007*\"role\" + 0.007*\"funny\" + 0.006*\"performance\" + 0.005*\"actor\" + 0.005*\"good\"\n",
      "2017-04-12 02:19:42,717 : INFO : topic #8 (0.100): 0.014*\"show\" + 0.012*\"one\" + 0.012*\"great\" + 0.010*\"like\" + 0.010*\"good\" + 0.009*\"series\" + 0.008*\"time\" + 0.008*\"first\" + 0.008*\"see\" + 0.007*\"would\"\n",
      "2017-04-12 02:19:42,719 : INFO : topic #2 (0.100): 0.038*\"film\" + 0.011*\"story\" + 0.010*\"one\" + 0.007*\"characters\" + 0.006*\"films\" + 0.006*\"well\" + 0.006*\"like\" + 0.006*\"much\" + 0.006*\"good\" + 0.005*\"character\"\n",
      "2017-04-12 02:19:42,721 : INFO : topic diff=0.037029, rho=0.151620\n",
      "2017-04-12 02:19:43,111 : INFO : PROGRESS: pass 5, at document #26000/75000\n",
      "2017-04-12 02:19:45,728 : INFO : merging changes from 2000 documents into a model of 75000 documents\n",
      "2017-04-12 02:19:45,907 : INFO : topic #0 (0.100): 0.007*\"film\" + 0.006*\"war\" + 0.006*\"life\" + 0.005*\"family\" + 0.005*\"world\" + 0.005*\"man\" + 0.005*\"young\" + 0.004*\"one\" + 0.004*\"us\" + 0.004*\"father\"\n",
      "2017-04-12 02:19:45,908 : INFO : topic #7 (0.100): 0.009*\"love\" + 0.008*\"music\" + 0.007*\"film\" + 0.007*\"version\" + 0.006*\"one\" + 0.006*\"musical\" + 0.006*\"book\" + 0.006*\"novel\" + 0.005*\"beautiful\" + 0.005*\"best\"\n",
      "2017-04-12 02:19:45,910 : INFO : topic #9 (0.100): 0.014*\"like\" + 0.010*\"get\" + 0.010*\"one\" + 0.010*\"would\" + 0.009*\"people\" + 0.007*\"see\" + 0.007*\"know\" + 0.007*\"really\" + 0.006*\"could\" + 0.006*\"even\"\n",
      "2017-04-12 02:19:45,911 : INFO : topic #3 (0.100): 0.008*\"davis\" + 0.008*\"charlie\" + 0.006*\"adam\" + 0.005*\"sandler\" + 0.004*\"indian\" + 0.004*\"bette\" + 0.004*\"david\" + 0.004*\"washington\" + 0.004*\"bollywood\" + 0.004*\"khan\"\n",
      "2017-04-12 02:19:45,913 : INFO : topic #6 (0.100): 0.020*\"film\" + 0.016*\"bad\" + 0.012*\"one\" + 0.011*\"like\" + 0.010*\"even\" + 0.010*\"good\" + 0.008*\"acting\" + 0.007*\"really\" + 0.007*\"movies\" + 0.006*\"would\"\n",
      "2017-04-12 02:19:45,915 : INFO : topic diff=0.037153, rho=0.151620\n",
      "2017-04-12 02:19:46,321 : INFO : PROGRESS: pass 5, at document #28000/75000\n",
      "2017-04-12 02:19:48,944 : INFO : merging changes from 2000 documents into a model of 75000 documents\n",
      "2017-04-12 02:19:49,114 : INFO : topic #8 (0.100): 0.014*\"show\" + 0.012*\"one\" + 0.012*\"great\" + 0.010*\"like\" + 0.010*\"good\" + 0.009*\"series\" + 0.008*\"first\" + 0.008*\"time\" + 0.008*\"see\" + 0.007*\"would\"\n",
      "2017-04-12 02:19:49,116 : INFO : topic #6 (0.100): 0.020*\"film\" + 0.016*\"bad\" + 0.012*\"one\" + 0.011*\"like\" + 0.010*\"good\" + 0.010*\"even\" + 0.008*\"acting\" + 0.007*\"really\" + 0.007*\"movies\" + 0.006*\"plot\"\n",
      "2017-04-12 02:19:49,118 : INFO : topic #3 (0.100): 0.009*\"davis\" + 0.008*\"charlie\" + 0.006*\"adam\" + 0.005*\"indian\" + 0.005*\"sandler\" + 0.004*\"bette\" + 0.004*\"david\" + 0.004*\"khan\" + 0.004*\"washington\" + 0.004*\"bollywood\"\n",
      "2017-04-12 02:19:49,120 : INFO : topic #1 (0.100): 0.010*\"comedy\" + 0.009*\"character\" + 0.008*\"cast\" + 0.008*\"film\" + 0.007*\"one\" + 0.007*\"role\" + 0.007*\"funny\" + 0.006*\"performance\" + 0.006*\"actor\" + 0.005*\"good\"\n",
      "2017-04-12 02:19:49,122 : INFO : topic #9 (0.100): 0.014*\"like\" + 0.010*\"get\" + 0.010*\"one\" + 0.010*\"would\" + 0.009*\"people\" + 0.008*\"see\" + 0.007*\"know\" + 0.007*\"really\" + 0.006*\"could\" + 0.006*\"even\"\n",
      "2017-04-12 02:19:49,123 : INFO : topic diff=0.042405, rho=0.151620\n",
      "2017-04-12 02:19:49,522 : INFO : PROGRESS: pass 5, at document #30000/75000\n",
      "2017-04-12 02:19:52,301 : INFO : merging changes from 2000 documents into a model of 75000 documents\n",
      "2017-04-12 02:19:52,467 : INFO : topic #3 (0.100): 0.009*\"charlie\" + 0.009*\"davis\" + 0.006*\"adam\" + 0.004*\"indian\" + 0.004*\"sandler\" + 0.004*\"david\" + 0.004*\"khan\" + 0.004*\"bette\" + 0.004*\"moore\" + 0.004*\"bollywood\"\n",
      "2017-04-12 02:19:52,468 : INFO : topic #0 (0.100): 0.007*\"film\" + 0.006*\"war\" + 0.006*\"life\" + 0.005*\"world\" + 0.005*\"family\" + 0.005*\"man\" + 0.005*\"young\" + 0.004*\"one\" + 0.004*\"us\" + 0.004*\"american\"\n",
      "2017-04-12 02:19:52,470 : INFO : topic #2 (0.100): 0.038*\"film\" + 0.011*\"story\" + 0.010*\"one\" + 0.007*\"characters\" + 0.006*\"well\" + 0.006*\"films\" + 0.006*\"like\" + 0.006*\"much\" + 0.006*\"good\" + 0.005*\"character\"\n",
      "2017-04-12 02:19:52,472 : INFO : topic #6 (0.100): 0.020*\"film\" + 0.016*\"bad\" + 0.012*\"one\" + 0.011*\"like\" + 0.010*\"good\" + 0.010*\"even\" + 0.008*\"acting\" + 0.008*\"really\" + 0.007*\"movies\" + 0.006*\"horror\"\n",
      "2017-04-12 02:19:52,474 : INFO : topic #4 (0.100): 0.013*\"action\" + 0.007*\"one\" + 0.005*\"fight\" + 0.005*\"police\" + 0.004*\"also\" + 0.004*\"scenes\" + 0.004*\"killer\" + 0.004*\"film\" + 0.004*\"plot\" + 0.004*\"cop\"\n",
      "2017-04-12 02:19:52,476 : INFO : topic diff=0.038366, rho=0.151620\n",
      "2017-04-12 02:19:52,868 : INFO : PROGRESS: pass 5, at document #32000/75000\n",
      "2017-04-12 02:19:55,496 : INFO : merging changes from 2000 documents into a model of 75000 documents\n",
      "2017-04-12 02:19:55,666 : INFO : topic #4 (0.100): 0.013*\"action\" + 0.007*\"one\" + 0.005*\"fight\" + 0.004*\"police\" + 0.004*\"also\" + 0.004*\"scenes\" + 0.004*\"film\" + 0.004*\"plot\" + 0.004*\"killer\" + 0.004*\"cop\"\n",
      "2017-04-12 02:19:55,667 : INFO : topic #1 (0.100): 0.011*\"comedy\" + 0.009*\"character\" + 0.008*\"cast\" + 0.008*\"film\" + 0.007*\"one\" + 0.007*\"role\" + 0.007*\"funny\" + 0.006*\"performance\" + 0.006*\"actor\" + 0.005*\"good\"\n",
      "2017-04-12 02:19:55,669 : INFO : topic #9 (0.100): 0.014*\"like\" + 0.010*\"get\" + 0.010*\"one\" + 0.010*\"would\" + 0.009*\"people\" + 0.007*\"see\" + 0.007*\"know\" + 0.007*\"could\" + 0.006*\"really\" + 0.006*\"even\"\n",
      "2017-04-12 02:19:55,671 : INFO : topic #6 (0.100): 0.020*\"film\" + 0.016*\"bad\" + 0.012*\"one\" + 0.011*\"like\" + 0.010*\"good\" + 0.010*\"even\" + 0.008*\"acting\" + 0.008*\"really\" + 0.007*\"movies\" + 0.006*\"horror\"\n",
      "2017-04-12 02:19:55,672 : INFO : topic #0 (0.100): 0.007*\"film\" + 0.006*\"war\" + 0.006*\"life\" + 0.005*\"world\" + 0.005*\"family\" + 0.005*\"man\" + 0.005*\"young\" + 0.004*\"one\" + 0.004*\"us\" + 0.004*\"american\"\n",
      "2017-04-12 02:19:55,674 : INFO : topic diff=0.038452, rho=0.151620\n",
      "2017-04-12 02:19:56,119 : INFO : PROGRESS: pass 5, at document #34000/75000\n",
      "2017-04-12 02:19:58,783 : INFO : merging changes from 2000 documents into a model of 75000 documents\n",
      "2017-04-12 02:19:58,944 : INFO : topic #2 (0.100): 0.039*\"film\" + 0.011*\"story\" + 0.010*\"one\" + 0.007*\"characters\" + 0.006*\"films\" + 0.006*\"well\" + 0.006*\"like\" + 0.006*\"much\" + 0.006*\"good\" + 0.005*\"character\"\n",
      "2017-04-12 02:19:58,946 : INFO : topic #7 (0.100): 0.009*\"love\" + 0.008*\"music\" + 0.007*\"film\" + 0.007*\"version\" + 0.006*\"one\" + 0.006*\"novel\" + 0.006*\"book\" + 0.005*\"musical\" + 0.005*\"beautiful\" + 0.005*\"song\"\n",
      "2017-04-12 02:19:58,947 : INFO : topic #6 (0.100): 0.019*\"film\" + 0.016*\"bad\" + 0.012*\"one\" + 0.011*\"like\" + 0.010*\"even\" + 0.010*\"good\" + 0.008*\"acting\" + 0.007*\"really\" + 0.007*\"movies\" + 0.006*\"horror\"\n",
      "2017-04-12 02:19:58,949 : INFO : topic #3 (0.100): 0.008*\"charlie\" + 0.008*\"davis\" + 0.006*\"adam\" + 0.005*\"indian\" + 0.004*\"sandler\" + 0.004*\"moore\" + 0.004*\"bollywood\" + 0.004*\"david\" + 0.004*\"metal\" + 0.004*\"bette\"\n",
      "2017-04-12 02:19:58,951 : INFO : topic #9 (0.100): 0.014*\"like\" + 0.010*\"get\" + 0.010*\"one\" + 0.010*\"would\" + 0.009*\"people\" + 0.007*\"see\" + 0.007*\"know\" + 0.007*\"really\" + 0.007*\"could\" + 0.006*\"even\"\n",
      "2017-04-12 02:19:58,953 : INFO : topic diff=0.037721, rho=0.151620\n",
      "2017-04-12 02:19:59,394 : INFO : PROGRESS: pass 5, at document #36000/75000\n",
      "2017-04-12 02:20:02,156 : INFO : merging changes from 2000 documents into a model of 75000 documents\n",
      "2017-04-12 02:20:02,313 : INFO : topic #0 (0.100): 0.007*\"film\" + 0.006*\"war\" + 0.006*\"life\" + 0.005*\"world\" + 0.005*\"family\" + 0.005*\"young\" + 0.005*\"man\" + 0.004*\"one\" + 0.004*\"us\" + 0.004*\"american\"\n",
      "2017-04-12 02:20:02,315 : INFO : topic #6 (0.100): 0.020*\"film\" + 0.016*\"bad\" + 0.012*\"one\" + 0.011*\"like\" + 0.010*\"good\" + 0.010*\"even\" + 0.008*\"acting\" + 0.007*\"really\" + 0.007*\"movies\" + 0.006*\"horror\"\n",
      "2017-04-12 02:20:02,317 : INFO : topic #8 (0.100): 0.014*\"show\" + 0.013*\"one\" + 0.012*\"great\" + 0.010*\"like\" + 0.010*\"good\" + 0.009*\"series\" + 0.009*\"first\" + 0.008*\"time\" + 0.008*\"see\" + 0.007*\"would\"\n",
      "2017-04-12 02:20:02,318 : INFO : topic #9 (0.100): 0.014*\"like\" + 0.010*\"get\" + 0.010*\"one\" + 0.010*\"would\" + 0.009*\"people\" + 0.007*\"see\" + 0.007*\"know\" + 0.007*\"really\" + 0.006*\"could\" + 0.006*\"even\"\n",
      "2017-04-12 02:20:02,320 : INFO : topic #2 (0.100): 0.039*\"film\" + 0.011*\"story\" + 0.010*\"one\" + 0.007*\"characters\" + 0.006*\"films\" + 0.006*\"well\" + 0.006*\"like\" + 0.006*\"much\" + 0.006*\"good\" + 0.005*\"character\"\n",
      "2017-04-12 02:20:02,322 : INFO : topic diff=0.038356, rho=0.151620\n",
      "2017-04-12 02:20:02,742 : INFO : PROGRESS: pass 5, at document #38000/75000\n",
      "2017-04-12 02:20:05,348 : INFO : merging changes from 2000 documents into a model of 75000 documents\n",
      "2017-04-12 02:20:05,503 : INFO : topic #7 (0.100): 0.009*\"love\" + 0.008*\"music\" + 0.007*\"film\" + 0.006*\"version\" + 0.006*\"one\" + 0.006*\"book\" + 0.006*\"musical\" + 0.006*\"novel\" + 0.005*\"beautiful\" + 0.005*\"song\"\n",
      "2017-04-12 02:20:05,505 : INFO : topic #1 (0.100): 0.011*\"comedy\" + 0.009*\"character\" + 0.008*\"cast\" + 0.008*\"film\" + 0.007*\"one\" + 0.007*\"funny\" + 0.007*\"role\" + 0.006*\"performance\" + 0.005*\"actor\" + 0.005*\"good\"\n",
      "2017-04-12 02:20:05,506 : INFO : topic #5 (0.100): 0.008*\"man\" + 0.006*\"one\" + 0.006*\"film\" + 0.005*\"also\" + 0.005*\"john\" + 0.005*\"young\" + 0.004*\"woman\" + 0.004*\"house\" + 0.004*\"old\" + 0.004*\"wife\"\n",
      "2017-04-12 02:20:05,508 : INFO : topic #3 (0.100): 0.008*\"charlie\" + 0.008*\"davis\" + 0.006*\"adam\" + 0.005*\"indian\" + 0.004*\"khan\" + 0.004*\"sandler\" + 0.004*\"metal\" + 0.004*\"bollywood\" + 0.004*\"bette\" + 0.004*\"david\"\n",
      "2017-04-12 02:20:05,510 : INFO : topic #6 (0.100): 0.019*\"film\" + 0.016*\"bad\" + 0.012*\"one\" + 0.011*\"like\" + 0.010*\"good\" + 0.010*\"even\" + 0.008*\"acting\" + 0.007*\"really\" + 0.007*\"movies\" + 0.006*\"horror\"\n",
      "2017-04-12 02:20:05,512 : INFO : topic diff=0.037626, rho=0.151620\n",
      "2017-04-12 02:20:15,088 : INFO : -8.591 per-word bound, 385.7 perplexity estimate based on a held-out corpus of 2000 documents with 228449 words\n",
      "2017-04-12 02:20:15,089 : INFO : PROGRESS: pass 5, at document #40000/75000\n",
      "2017-04-12 02:20:17,959 : INFO : merging changes from 2000 documents into a model of 75000 documents\n",
      "2017-04-12 02:20:18,118 : INFO : topic #5 (0.100): 0.008*\"man\" + 0.006*\"one\" + 0.006*\"film\" + 0.005*\"also\" + 0.005*\"john\" + 0.005*\"young\" + 0.004*\"house\" + 0.004*\"wife\" + 0.004*\"woman\" + 0.004*\"old\"\n",
      "2017-04-12 02:20:18,119 : INFO : topic #6 (0.100): 0.019*\"film\" + 0.016*\"bad\" + 0.012*\"one\" + 0.011*\"like\" + 0.010*\"good\" + 0.010*\"even\" + 0.008*\"acting\" + 0.007*\"really\" + 0.007*\"movies\" + 0.006*\"plot\"\n",
      "2017-04-12 02:20:18,121 : INFO : topic #9 (0.100): 0.014*\"like\" + 0.010*\"get\" + 0.010*\"one\" + 0.010*\"would\" + 0.009*\"people\" + 0.007*\"see\" + 0.007*\"know\" + 0.007*\"really\" + 0.006*\"could\" + 0.006*\"even\"\n",
      "2017-04-12 02:20:18,123 : INFO : topic #0 (0.100): 0.007*\"film\" + 0.006*\"war\" + 0.006*\"life\" + 0.005*\"world\" + 0.005*\"family\" + 0.005*\"man\" + 0.004*\"young\" + 0.004*\"one\" + 0.004*\"us\" + 0.004*\"american\"\n",
      "2017-04-12 02:20:18,125 : INFO : topic #4 (0.100): 0.014*\"action\" + 0.007*\"one\" + 0.005*\"fight\" + 0.005*\"police\" + 0.004*\"scenes\" + 0.004*\"also\" + 0.004*\"film\" + 0.004*\"plot\" + 0.004*\"cop\" + 0.004*\"killer\"\n",
      "2017-04-12 02:20:18,127 : INFO : topic diff=0.038660, rho=0.151620\n",
      "2017-04-12 02:20:18,638 : INFO : PROGRESS: pass 5, at document #42000/75000\n",
      "2017-04-12 02:20:21,432 : INFO : merging changes from 2000 documents into a model of 75000 documents\n",
      "2017-04-12 02:20:21,598 : INFO : topic #7 (0.100): 0.009*\"love\" + 0.008*\"music\" + 0.007*\"film\" + 0.006*\"version\" + 0.006*\"one\" + 0.006*\"book\" + 0.006*\"novel\" + 0.005*\"beautiful\" + 0.005*\"musical\" + 0.005*\"song\"\n",
      "2017-04-12 02:20:21,599 : INFO : topic #0 (0.100): 0.007*\"film\" + 0.006*\"war\" + 0.006*\"life\" + 0.005*\"world\" + 0.005*\"family\" + 0.005*\"man\" + 0.004*\"young\" + 0.004*\"one\" + 0.004*\"american\" + 0.004*\"us\"\n",
      "2017-04-12 02:20:21,601 : INFO : topic #6 (0.100): 0.019*\"film\" + 0.016*\"bad\" + 0.012*\"one\" + 0.011*\"like\" + 0.010*\"good\" + 0.010*\"even\" + 0.008*\"acting\" + 0.007*\"really\" + 0.007*\"movies\" + 0.006*\"plot\"\n",
      "2017-04-12 02:20:21,603 : INFO : topic #4 (0.100): 0.013*\"action\" + 0.007*\"one\" + 0.005*\"fight\" + 0.005*\"police\" + 0.004*\"scenes\" + 0.004*\"also\" + 0.004*\"film\" + 0.004*\"plot\" + 0.004*\"killer\" + 0.004*\"scene\"\n",
      "2017-04-12 02:20:21,605 : INFO : topic #1 (0.100): 0.011*\"comedy\" + 0.009*\"character\" + 0.008*\"cast\" + 0.008*\"film\" + 0.007*\"one\" + 0.007*\"funny\" + 0.007*\"role\" + 0.006*\"performance\" + 0.005*\"actor\" + 0.005*\"good\"\n",
      "2017-04-12 02:20:21,607 : INFO : topic diff=0.037053, rho=0.151620\n",
      "2017-04-12 02:20:23,139 : INFO : PROGRESS: pass 5, at document #44000/75000\n",
      "2017-04-12 02:20:26,002 : INFO : merging changes from 2000 documents into a model of 75000 documents\n",
      "2017-04-12 02:20:26,168 : INFO : topic #6 (0.100): 0.020*\"film\" + 0.016*\"bad\" + 0.012*\"one\" + 0.011*\"like\" + 0.010*\"good\" + 0.010*\"even\" + 0.008*\"acting\" + 0.007*\"really\" + 0.007*\"movies\" + 0.006*\"plot\"\n",
      "2017-04-12 02:20:26,170 : INFO : topic #1 (0.100): 0.011*\"comedy\" + 0.009*\"character\" + 0.008*\"cast\" + 0.008*\"film\" + 0.007*\"one\" + 0.007*\"funny\" + 0.007*\"role\" + 0.006*\"performance\" + 0.005*\"actor\" + 0.005*\"good\"\n",
      "2017-04-12 02:20:26,171 : INFO : topic #0 (0.100): 0.007*\"film\" + 0.006*\"war\" + 0.006*\"life\" + 0.005*\"world\" + 0.005*\"family\" + 0.004*\"man\" + 0.004*\"young\" + 0.004*\"one\" + 0.004*\"american\" + 0.004*\"us\"\n",
      "2017-04-12 02:20:26,173 : INFO : topic #9 (0.100): 0.015*\"like\" + 0.011*\"get\" + 0.010*\"one\" + 0.010*\"would\" + 0.008*\"people\" + 0.007*\"see\" + 0.007*\"know\" + 0.007*\"could\" + 0.007*\"really\" + 0.006*\"even\"\n",
      "2017-04-12 02:20:26,175 : INFO : topic #3 (0.100): 0.008*\"charlie\" + 0.007*\"davis\" + 0.005*\"bollywood\" + 0.005*\"adam\" + 0.005*\"khan\" + 0.005*\"indian\" + 0.004*\"bette\" + 0.004*\"sandler\" + 0.004*\"david\" + 0.003*\"moore\"\n",
      "2017-04-12 02:20:26,177 : INFO : topic diff=0.037474, rho=0.151620\n",
      "2017-04-12 02:20:26,616 : INFO : PROGRESS: pass 5, at document #46000/75000\n",
      "2017-04-12 02:20:29,588 : INFO : merging changes from 2000 documents into a model of 75000 documents\n",
      "2017-04-12 02:20:29,747 : INFO : topic #0 (0.100): 0.007*\"film\" + 0.006*\"war\" + 0.006*\"life\" + 0.005*\"world\" + 0.005*\"family\" + 0.004*\"man\" + 0.004*\"young\" + 0.004*\"one\" + 0.004*\"american\" + 0.004*\"us\"\n",
      "2017-04-12 02:20:29,748 : INFO : topic #6 (0.100): 0.020*\"film\" + 0.016*\"bad\" + 0.012*\"one\" + 0.011*\"like\" + 0.010*\"even\" + 0.010*\"good\" + 0.008*\"acting\" + 0.007*\"really\" + 0.007*\"movies\" + 0.006*\"horror\"\n",
      "2017-04-12 02:20:29,750 : INFO : topic #9 (0.100): 0.015*\"like\" + 0.011*\"get\" + 0.010*\"one\" + 0.010*\"would\" + 0.008*\"people\" + 0.007*\"see\" + 0.007*\"know\" + 0.007*\"really\" + 0.006*\"could\" + 0.006*\"even\"\n",
      "2017-04-12 02:20:29,751 : INFO : topic #7 (0.100): 0.009*\"love\" + 0.008*\"music\" + 0.007*\"film\" + 0.006*\"one\" + 0.006*\"book\" + 0.006*\"version\" + 0.006*\"novel\" + 0.005*\"beautiful\" + 0.005*\"musical\" + 0.005*\"best\"\n",
      "2017-04-12 02:20:29,753 : INFO : topic #8 (0.100): 0.014*\"show\" + 0.013*\"one\" + 0.013*\"great\" + 0.010*\"like\" + 0.010*\"good\" + 0.009*\"series\" + 0.009*\"first\" + 0.008*\"see\" + 0.008*\"time\" + 0.007*\"would\"\n",
      "2017-04-12 02:20:29,754 : INFO : topic diff=0.038277, rho=0.151620\n",
      "2017-04-12 02:20:30,187 : INFO : PROGRESS: pass 5, at document #48000/75000\n",
      "2017-04-12 02:20:33,070 : INFO : merging changes from 2000 documents into a model of 75000 documents\n",
      "2017-04-12 02:20:33,231 : INFO : topic #8 (0.100): 0.014*\"show\" + 0.013*\"one\" + 0.012*\"great\" + 0.010*\"like\" + 0.010*\"good\" + 0.009*\"series\" + 0.008*\"first\" + 0.008*\"time\" + 0.008*\"see\" + 0.007*\"would\"\n",
      "2017-04-12 02:20:33,233 : INFO : topic #2 (0.100): 0.038*\"film\" + 0.011*\"story\" + 0.010*\"one\" + 0.007*\"characters\" + 0.006*\"well\" + 0.006*\"like\" + 0.006*\"films\" + 0.006*\"much\" + 0.006*\"good\" + 0.005*\"character\"\n",
      "2017-04-12 02:20:33,234 : INFO : topic #7 (0.100): 0.009*\"love\" + 0.008*\"music\" + 0.007*\"film\" + 0.006*\"book\" + 0.006*\"one\" + 0.006*\"novel\" + 0.006*\"version\" + 0.005*\"beautiful\" + 0.005*\"musical\" + 0.005*\"best\"\n",
      "2017-04-12 02:20:33,236 : INFO : topic #0 (0.100): 0.007*\"film\" + 0.006*\"war\" + 0.006*\"life\" + 0.005*\"world\" + 0.005*\"family\" + 0.004*\"man\" + 0.004*\"young\" + 0.004*\"one\" + 0.004*\"american\" + 0.004*\"us\"\n",
      "2017-04-12 02:20:33,238 : INFO : topic #6 (0.100): 0.019*\"film\" + 0.016*\"bad\" + 0.012*\"one\" + 0.011*\"like\" + 0.010*\"even\" + 0.010*\"good\" + 0.008*\"acting\" + 0.007*\"really\" + 0.007*\"movies\" + 0.006*\"horror\"\n",
      "2017-04-12 02:20:33,240 : INFO : topic diff=0.037112, rho=0.151620\n",
      "2017-04-12 02:20:33,684 : INFO : PROGRESS: pass 5, at document #50000/75000\n",
      "2017-04-12 02:20:36,817 : INFO : merging changes from 2000 documents into a model of 75000 documents\n",
      "2017-04-12 02:20:37,024 : INFO : topic #4 (0.100): 0.014*\"action\" + 0.007*\"one\" + 0.005*\"fight\" + 0.005*\"police\" + 0.004*\"scenes\" + 0.004*\"cop\" + 0.004*\"also\" + 0.004*\"film\" + 0.004*\"scene\" + 0.004*\"plot\"\n",
      "2017-04-12 02:20:37,026 : INFO : topic #8 (0.100): 0.014*\"show\" + 0.013*\"one\" + 0.012*\"great\" + 0.010*\"like\" + 0.010*\"good\" + 0.009*\"series\" + 0.008*\"see\" + 0.008*\"first\" + 0.008*\"time\" + 0.007*\"would\"\n",
      "2017-04-12 02:20:37,028 : INFO : topic #1 (0.100): 0.011*\"comedy\" + 0.009*\"character\" + 0.008*\"film\" + 0.008*\"cast\" + 0.007*\"one\" + 0.007*\"funny\" + 0.007*\"role\" + 0.006*\"performance\" + 0.005*\"actor\" + 0.005*\"good\"\n",
      "2017-04-12 02:20:37,029 : INFO : topic #0 (0.100): 0.007*\"film\" + 0.006*\"war\" + 0.006*\"life\" + 0.005*\"world\" + 0.005*\"family\" + 0.004*\"man\" + 0.004*\"young\" + 0.004*\"one\" + 0.004*\"american\" + 0.004*\"us\"\n",
      "2017-04-12 02:20:37,031 : INFO : topic #3 (0.100): 0.008*\"charlie\" + 0.007*\"davis\" + 0.006*\"adam\" + 0.005*\"sandler\" + 0.005*\"indian\" + 0.005*\"bollywood\" + 0.004*\"khan\" + 0.004*\"bette\" + 0.004*\"david\" + 0.004*\"hopkins\"\n",
      "2017-04-12 02:20:37,034 : INFO : topic diff=0.035675, rho=0.151620\n",
      "2017-04-12 02:20:37,536 : INFO : PROGRESS: pass 5, at document #52000/75000\n",
      "2017-04-12 02:20:40,712 : INFO : merging changes from 2000 documents into a model of 75000 documents\n",
      "2017-04-12 02:20:40,890 : INFO : topic #9 (0.100): 0.015*\"like\" + 0.010*\"get\" + 0.010*\"one\" + 0.010*\"would\" + 0.008*\"people\" + 0.008*\"see\" + 0.007*\"know\" + 0.007*\"could\" + 0.007*\"really\" + 0.006*\"even\"\n",
      "2017-04-12 02:20:40,892 : INFO : topic #8 (0.100): 0.014*\"show\" + 0.013*\"one\" + 0.013*\"great\" + 0.010*\"like\" + 0.010*\"good\" + 0.009*\"series\" + 0.008*\"see\" + 0.008*\"first\" + 0.008*\"time\" + 0.007*\"would\"\n",
      "2017-04-12 02:20:40,894 : INFO : topic #6 (0.100): 0.019*\"film\" + 0.016*\"bad\" + 0.012*\"one\" + 0.011*\"like\" + 0.010*\"even\" + 0.010*\"good\" + 0.008*\"acting\" + 0.007*\"really\" + 0.007*\"movies\" + 0.006*\"would\"\n",
      "2017-04-12 02:20:40,895 : INFO : topic #2 (0.100): 0.039*\"film\" + 0.011*\"story\" + 0.010*\"one\" + 0.007*\"characters\" + 0.006*\"films\" + 0.006*\"well\" + 0.006*\"like\" + 0.006*\"much\" + 0.006*\"good\" + 0.005*\"character\"\n",
      "2017-04-12 02:20:40,896 : INFO : topic #0 (0.100): 0.007*\"film\" + 0.007*\"war\" + 0.006*\"life\" + 0.005*\"world\" + 0.005*\"family\" + 0.004*\"man\" + 0.004*\"young\" + 0.004*\"american\" + 0.004*\"one\" + 0.004*\"us\"\n",
      "2017-04-12 02:20:40,898 : INFO : topic diff=0.034736, rho=0.151620\n",
      "2017-04-12 02:20:41,389 : INFO : PROGRESS: pass 5, at document #54000/75000\n",
      "2017-04-12 02:20:44,080 : INFO : merging changes from 2000 documents into a model of 75000 documents\n",
      "2017-04-12 02:20:44,249 : INFO : topic #5 (0.100): 0.007*\"man\" + 0.006*\"one\" + 0.006*\"film\" + 0.005*\"young\" + 0.005*\"also\" + 0.004*\"john\" + 0.004*\"woman\" + 0.004*\"wife\" + 0.004*\"house\" + 0.004*\"old\"\n",
      "2017-04-12 02:20:44,251 : INFO : topic #6 (0.100): 0.019*\"film\" + 0.016*\"bad\" + 0.012*\"one\" + 0.011*\"like\" + 0.010*\"even\" + 0.010*\"good\" + 0.008*\"acting\" + 0.007*\"really\" + 0.007*\"movies\" + 0.006*\"would\"\n",
      "2017-04-12 02:20:44,253 : INFO : topic #9 (0.100): 0.015*\"like\" + 0.010*\"get\" + 0.010*\"one\" + 0.010*\"would\" + 0.009*\"people\" + 0.008*\"see\" + 0.007*\"know\" + 0.007*\"could\" + 0.007*\"really\" + 0.006*\"even\"\n",
      "2017-04-12 02:20:44,254 : INFO : topic #3 (0.100): 0.007*\"charlie\" + 0.007*\"davis\" + 0.006*\"adam\" + 0.005*\"indian\" + 0.005*\"sandler\" + 0.005*\"khan\" + 0.004*\"metal\" + 0.004*\"hopkins\" + 0.004*\"bollywood\" + 0.004*\"bette\"\n",
      "2017-04-12 02:20:44,256 : INFO : topic #8 (0.100): 0.014*\"show\" + 0.013*\"one\" + 0.013*\"great\" + 0.010*\"like\" + 0.010*\"good\" + 0.009*\"series\" + 0.008*\"first\" + 0.008*\"see\" + 0.008*\"time\" + 0.007*\"would\"\n",
      "2017-04-12 02:20:44,259 : INFO : topic diff=0.035547, rho=0.151620\n",
      "2017-04-12 02:20:44,759 : INFO : PROGRESS: pass 5, at document #56000/75000\n",
      "2017-04-12 02:20:47,846 : INFO : merging changes from 2000 documents into a model of 75000 documents\n",
      "2017-04-12 02:20:48,020 : INFO : topic #8 (0.100): 0.014*\"show\" + 0.013*\"one\" + 0.013*\"great\" + 0.010*\"like\" + 0.010*\"good\" + 0.009*\"series\" + 0.009*\"first\" + 0.009*\"see\" + 0.008*\"time\" + 0.007*\"would\"\n",
      "2017-04-12 02:20:48,022 : INFO : topic #6 (0.100): 0.019*\"film\" + 0.016*\"bad\" + 0.012*\"one\" + 0.011*\"like\" + 0.010*\"even\" + 0.010*\"good\" + 0.008*\"acting\" + 0.007*\"really\" + 0.007*\"movies\" + 0.006*\"would\"\n",
      "2017-04-12 02:20:48,024 : INFO : topic #3 (0.100): 0.008*\"davis\" + 0.007*\"charlie\" + 0.005*\"adam\" + 0.005*\"sandler\" + 0.005*\"indian\" + 0.005*\"metal\" + 0.005*\"chuck\" + 0.005*\"khan\" + 0.004*\"bette\" + 0.004*\"bollywood\"\n",
      "2017-04-12 02:20:48,025 : INFO : topic #2 (0.100): 0.038*\"film\" + 0.011*\"story\" + 0.010*\"one\" + 0.007*\"characters\" + 0.006*\"well\" + 0.006*\"films\" + 0.006*\"like\" + 0.006*\"much\" + 0.006*\"good\" + 0.005*\"character\"\n",
      "2017-04-12 02:20:48,027 : INFO : topic #4 (0.100): 0.014*\"action\" + 0.007*\"one\" + 0.005*\"fight\" + 0.005*\"police\" + 0.004*\"scenes\" + 0.004*\"also\" + 0.004*\"cop\" + 0.004*\"film\" + 0.004*\"plot\" + 0.004*\"scene\"\n",
      "2017-04-12 02:20:48,029 : INFO : topic diff=0.035632, rho=0.151620\n",
      "2017-04-12 02:20:48,459 : INFO : PROGRESS: pass 5, at document #58000/75000\n",
      "2017-04-12 02:20:51,533 : INFO : merging changes from 2000 documents into a model of 75000 documents\n",
      "2017-04-12 02:20:51,707 : INFO : topic #3 (0.100): 0.008*\"davis\" + 0.007*\"charlie\" + 0.006*\"adam\" + 0.006*\"sandler\" + 0.006*\"indian\" + 0.005*\"khan\" + 0.005*\"hopkins\" + 0.004*\"chuck\" + 0.004*\"bollywood\" + 0.004*\"metal\"\n",
      "2017-04-12 02:20:51,709 : INFO : topic #6 (0.100): 0.019*\"film\" + 0.015*\"bad\" + 0.012*\"one\" + 0.011*\"like\" + 0.010*\"even\" + 0.010*\"good\" + 0.008*\"acting\" + 0.007*\"really\" + 0.007*\"movies\" + 0.006*\"would\"\n",
      "2017-04-12 02:20:51,711 : INFO : topic #5 (0.100): 0.007*\"man\" + 0.006*\"one\" + 0.006*\"film\" + 0.005*\"also\" + 0.005*\"young\" + 0.004*\"john\" + 0.004*\"woman\" + 0.004*\"wife\" + 0.004*\"old\" + 0.004*\"house\"\n",
      "2017-04-12 02:20:51,713 : INFO : topic #7 (0.100): 0.009*\"love\" + 0.008*\"music\" + 0.007*\"film\" + 0.006*\"one\" + 0.006*\"novel\" + 0.006*\"book\" + 0.006*\"version\" + 0.005*\"beautiful\" + 0.005*\"musical\" + 0.004*\"song\"\n",
      "2017-04-12 02:20:51,715 : INFO : topic #1 (0.100): 0.010*\"comedy\" + 0.009*\"character\" + 0.008*\"film\" + 0.008*\"cast\" + 0.007*\"one\" + 0.007*\"funny\" + 0.007*\"role\" + 0.006*\"performance\" + 0.005*\"actor\" + 0.005*\"good\"\n",
      "2017-04-12 02:20:51,718 : INFO : topic diff=0.036444, rho=0.151620\n",
      "2017-04-12 02:21:01,041 : INFO : -8.570 per-word bound, 380.0 perplexity estimate based on a held-out corpus of 2000 documents with 223516 words\n",
      "2017-04-12 02:21:01,041 : INFO : PROGRESS: pass 5, at document #60000/75000\n",
      "2017-04-12 02:21:03,776 : INFO : merging changes from 2000 documents into a model of 75000 documents\n",
      "2017-04-12 02:21:03,948 : INFO : topic #5 (0.100): 0.007*\"man\" + 0.006*\"one\" + 0.006*\"film\" + 0.005*\"also\" + 0.005*\"young\" + 0.004*\"john\" + 0.004*\"woman\" + 0.004*\"house\" + 0.004*\"wife\" + 0.004*\"old\"\n",
      "2017-04-12 02:21:03,949 : INFO : topic #2 (0.100): 0.038*\"film\" + 0.011*\"story\" + 0.010*\"one\" + 0.007*\"characters\" + 0.006*\"films\" + 0.006*\"well\" + 0.006*\"like\" + 0.006*\"much\" + 0.006*\"good\" + 0.005*\"character\"\n",
      "2017-04-12 02:21:03,951 : INFO : topic #1 (0.100): 0.010*\"comedy\" + 0.009*\"character\" + 0.008*\"film\" + 0.008*\"cast\" + 0.007*\"one\" + 0.007*\"funny\" + 0.007*\"role\" + 0.006*\"performance\" + 0.005*\"actor\" + 0.005*\"good\"\n",
      "2017-04-12 02:21:03,953 : INFO : topic #0 (0.100): 0.007*\"film\" + 0.007*\"war\" + 0.006*\"life\" + 0.005*\"world\" + 0.004*\"family\" + 0.004*\"man\" + 0.004*\"young\" + 0.004*\"american\" + 0.004*\"one\" + 0.004*\"us\"\n",
      "2017-04-12 02:21:03,954 : INFO : topic #9 (0.100): 0.015*\"like\" + 0.010*\"get\" + 0.010*\"one\" + 0.010*\"would\" + 0.009*\"people\" + 0.007*\"see\" + 0.007*\"know\" + 0.007*\"really\" + 0.006*\"could\" + 0.006*\"even\"\n",
      "2017-04-12 02:21:03,957 : INFO : topic diff=0.035135, rho=0.151620\n",
      "2017-04-12 02:21:04,373 : INFO : PROGRESS: pass 5, at document #62000/75000\n",
      "2017-04-12 02:21:07,021 : INFO : merging changes from 2000 documents into a model of 75000 documents\n",
      "2017-04-12 02:21:07,187 : INFO : topic #5 (0.100): 0.007*\"man\" + 0.006*\"one\" + 0.006*\"film\" + 0.005*\"also\" + 0.005*\"young\" + 0.004*\"woman\" + 0.004*\"john\" + 0.004*\"wife\" + 0.004*\"old\" + 0.004*\"house\"\n",
      "2017-04-12 02:21:07,189 : INFO : topic #3 (0.100): 0.008*\"davis\" + 0.007*\"charlie\" + 0.006*\"sandler\" + 0.006*\"indian\" + 0.006*\"adam\" + 0.005*\"khan\" + 0.005*\"bollywood\" + 0.005*\"chuck\" + 0.005*\"hopkins\" + 0.004*\"bette\"\n",
      "2017-04-12 02:21:07,190 : INFO : topic #8 (0.100): 0.014*\"show\" + 0.013*\"one\" + 0.013*\"great\" + 0.011*\"like\" + 0.010*\"good\" + 0.009*\"series\" + 0.009*\"see\" + 0.009*\"first\" + 0.009*\"time\" + 0.007*\"would\"\n",
      "2017-04-12 02:21:07,192 : INFO : topic #2 (0.100): 0.038*\"film\" + 0.011*\"story\" + 0.010*\"one\" + 0.007*\"characters\" + 0.006*\"well\" + 0.006*\"films\" + 0.006*\"like\" + 0.006*\"much\" + 0.006*\"good\" + 0.006*\"character\"\n",
      "2017-04-12 02:21:07,195 : INFO : topic #7 (0.100): 0.009*\"love\" + 0.008*\"music\" + 0.007*\"film\" + 0.006*\"one\" + 0.006*\"novel\" + 0.006*\"version\" + 0.006*\"book\" + 0.005*\"musical\" + 0.005*\"beautiful\" + 0.004*\"song\"\n",
      "2017-04-12 02:21:07,197 : INFO : topic diff=0.034121, rho=0.151620\n",
      "2017-04-12 02:21:07,616 : INFO : PROGRESS: pass 5, at document #64000/75000\n",
      "2017-04-12 02:21:10,395 : INFO : merging changes from 2000 documents into a model of 75000 documents\n",
      "2017-04-12 02:21:10,559 : INFO : topic #4 (0.100): 0.014*\"action\" + 0.007*\"one\" + 0.005*\"police\" + 0.005*\"fight\" + 0.004*\"scenes\" + 0.004*\"also\" + 0.004*\"cop\" + 0.004*\"hero\" + 0.004*\"scene\" + 0.004*\"film\"\n",
      "2017-04-12 02:21:10,560 : INFO : topic #9 (0.100): 0.015*\"like\" + 0.010*\"get\" + 0.010*\"one\" + 0.010*\"would\" + 0.009*\"people\" + 0.008*\"see\" + 0.007*\"know\" + 0.007*\"really\" + 0.006*\"could\" + 0.006*\"think\"\n",
      "2017-04-12 02:21:10,562 : INFO : topic #0 (0.100): 0.007*\"film\" + 0.006*\"war\" + 0.006*\"life\" + 0.005*\"world\" + 0.004*\"man\" + 0.004*\"family\" + 0.004*\"american\" + 0.004*\"young\" + 0.004*\"one\" + 0.004*\"us\"\n",
      "2017-04-12 02:21:10,564 : INFO : topic #7 (0.100): 0.009*\"love\" + 0.008*\"music\" + 0.007*\"film\" + 0.006*\"one\" + 0.006*\"novel\" + 0.006*\"version\" + 0.006*\"book\" + 0.005*\"beautiful\" + 0.005*\"musical\" + 0.005*\"song\"\n",
      "2017-04-12 02:21:10,565 : INFO : topic #5 (0.100): 0.007*\"man\" + 0.006*\"one\" + 0.006*\"film\" + 0.005*\"also\" + 0.005*\"young\" + 0.004*\"woman\" + 0.004*\"old\" + 0.004*\"john\" + 0.004*\"wife\" + 0.004*\"house\"\n",
      "2017-04-12 02:21:10,567 : INFO : topic diff=0.036840, rho=0.151620\n",
      "2017-04-12 02:21:10,970 : INFO : PROGRESS: pass 5, at document #66000/75000\n",
      "2017-04-12 02:21:13,710 : INFO : merging changes from 2000 documents into a model of 75000 documents\n",
      "2017-04-12 02:21:13,878 : INFO : topic #7 (0.100): 0.009*\"love\" + 0.008*\"music\" + 0.007*\"film\" + 0.006*\"one\" + 0.006*\"version\" + 0.006*\"book\" + 0.006*\"novel\" + 0.006*\"beautiful\" + 0.005*\"musical\" + 0.004*\"best\"\n",
      "2017-04-12 02:21:13,880 : INFO : topic #2 (0.100): 0.038*\"film\" + 0.011*\"story\" + 0.010*\"one\" + 0.007*\"characters\" + 0.006*\"well\" + 0.006*\"films\" + 0.006*\"like\" + 0.006*\"much\" + 0.006*\"good\" + 0.006*\"character\"\n",
      "2017-04-12 02:21:13,882 : INFO : topic #3 (0.100): 0.008*\"davis\" + 0.008*\"charlie\" + 0.006*\"sandler\" + 0.005*\"adam\" + 0.005*\"indian\" + 0.005*\"khan\" + 0.005*\"bollywood\" + 0.004*\"chuck\" + 0.004*\"bette\" + 0.004*\"hopkins\"\n",
      "2017-04-12 02:21:13,883 : INFO : topic #9 (0.100): 0.015*\"like\" + 0.010*\"get\" + 0.010*\"one\" + 0.010*\"would\" + 0.009*\"people\" + 0.008*\"see\" + 0.007*\"know\" + 0.007*\"really\" + 0.006*\"could\" + 0.006*\"think\"\n",
      "2017-04-12 02:21:13,885 : INFO : topic #1 (0.100): 0.011*\"comedy\" + 0.009*\"character\" + 0.008*\"film\" + 0.008*\"cast\" + 0.007*\"one\" + 0.007*\"funny\" + 0.007*\"role\" + 0.006*\"performance\" + 0.005*\"actor\" + 0.005*\"good\"\n",
      "2017-04-12 02:21:13,887 : INFO : topic diff=0.035047, rho=0.151620\n",
      "2017-04-12 02:21:14,314 : INFO : PROGRESS: pass 5, at document #68000/75000\n",
      "2017-04-12 02:21:16,973 : INFO : merging changes from 2000 documents into a model of 75000 documents\n",
      "2017-04-12 02:21:17,143 : INFO : topic #8 (0.100): 0.014*\"show\" + 0.013*\"one\" + 0.013*\"great\" + 0.011*\"like\" + 0.010*\"good\" + 0.009*\"series\" + 0.009*\"see\" + 0.009*\"first\" + 0.008*\"time\" + 0.007*\"would\"\n",
      "2017-04-12 02:21:17,145 : INFO : topic #5 (0.100): 0.007*\"man\" + 0.006*\"one\" + 0.006*\"film\" + 0.005*\"also\" + 0.005*\"young\" + 0.004*\"woman\" + 0.004*\"old\" + 0.004*\"john\" + 0.004*\"wife\" + 0.004*\"house\"\n",
      "2017-04-12 02:21:17,147 : INFO : topic #6 (0.100): 0.020*\"film\" + 0.016*\"bad\" + 0.012*\"one\" + 0.011*\"like\" + 0.010*\"even\" + 0.010*\"good\" + 0.008*\"acting\" + 0.007*\"really\" + 0.007*\"movies\" + 0.006*\"would\"\n",
      "2017-04-12 02:21:17,148 : INFO : topic #9 (0.100): 0.015*\"like\" + 0.010*\"get\" + 0.010*\"one\" + 0.010*\"would\" + 0.009*\"people\" + 0.008*\"see\" + 0.007*\"know\" + 0.007*\"really\" + 0.006*\"could\" + 0.006*\"think\"\n",
      "2017-04-12 02:21:17,150 : INFO : topic #2 (0.100): 0.038*\"film\" + 0.011*\"story\" + 0.010*\"one\" + 0.007*\"characters\" + 0.006*\"films\" + 0.006*\"well\" + 0.006*\"much\" + 0.006*\"like\" + 0.006*\"good\" + 0.006*\"character\"\n",
      "2017-04-12 02:21:17,152 : INFO : topic diff=0.035750, rho=0.151620\n",
      "2017-04-12 02:21:17,587 : INFO : PROGRESS: pass 5, at document #70000/75000\n",
      "2017-04-12 02:21:20,388 : INFO : merging changes from 2000 documents into a model of 75000 documents\n",
      "2017-04-12 02:21:20,558 : INFO : topic #0 (0.100): 0.007*\"film\" + 0.006*\"war\" + 0.006*\"life\" + 0.005*\"world\" + 0.004*\"family\" + 0.004*\"man\" + 0.004*\"american\" + 0.004*\"young\" + 0.004*\"one\" + 0.004*\"us\"\n",
      "2017-04-12 02:21:20,559 : INFO : topic #9 (0.100): 0.015*\"like\" + 0.010*\"get\" + 0.010*\"one\" + 0.010*\"would\" + 0.009*\"people\" + 0.007*\"see\" + 0.007*\"know\" + 0.007*\"really\" + 0.007*\"could\" + 0.006*\"think\"\n",
      "2017-04-12 02:21:20,561 : INFO : topic #5 (0.100): 0.008*\"man\" + 0.006*\"one\" + 0.006*\"film\" + 0.005*\"also\" + 0.005*\"young\" + 0.004*\"woman\" + 0.004*\"old\" + 0.004*\"john\" + 0.004*\"wife\" + 0.004*\"house\"\n",
      "2017-04-12 02:21:20,562 : INFO : topic #2 (0.100): 0.039*\"film\" + 0.011*\"story\" + 0.010*\"one\" + 0.007*\"characters\" + 0.006*\"films\" + 0.006*\"well\" + 0.006*\"much\" + 0.006*\"like\" + 0.006*\"good\" + 0.006*\"character\"\n",
      "2017-04-12 02:21:20,564 : INFO : topic #8 (0.100): 0.014*\"show\" + 0.013*\"great\" + 0.013*\"one\" + 0.011*\"like\" + 0.010*\"good\" + 0.009*\"series\" + 0.009*\"see\" + 0.009*\"first\" + 0.008*\"time\" + 0.007*\"would\"\n",
      "2017-04-12 02:21:20,566 : INFO : topic diff=0.036523, rho=0.151620\n",
      "2017-04-12 02:21:21,091 : INFO : PROGRESS: pass 5, at document #72000/75000\n"
     ]
    },
    {
     "ename": "KeyboardInterrupt",
     "evalue": "",
     "output_type": "error",
     "traceback": [
      "\u001b[0;31m---------------------------------------------------------------------------\u001b[0m",
      "\u001b[0;31mKeyboardInterrupt\u001b[0m                         Traceback (most recent call last)",
      "\u001b[0;32m<ipython-input-78-c08ef2487588>\u001b[0m in \u001b[0;36m<module>\u001b[0;34m()\u001b[0m\n\u001b[0;32m----> 1\u001b[0;31m \u001b[0mlda_tf\u001b[0m \u001b[0;34m=\u001b[0m \u001b[0mmodels\u001b[0m\u001b[0;34m.\u001b[0m\u001b[0mLdaModel\u001b[0m\u001b[0;34m(\u001b[0m\u001b[0mcorpus_tf\u001b[0m\u001b[0;34m,\u001b[0m \u001b[0mid2word\u001b[0m\u001b[0;34m=\u001b[0m\u001b[0mdictionary\u001b[0m\u001b[0;34m,\u001b[0m \u001b[0mnum_topics\u001b[0m\u001b[0;34m=\u001b[0m\u001b[0;36m10\u001b[0m\u001b[0;34m,\u001b[0m \u001b[0mpasses\u001b[0m\u001b[0;34m=\u001b[0m\u001b[0;36m10\u001b[0m\u001b[0;34m)\u001b[0m\u001b[0;34m\u001b[0m\u001b[0m\n\u001b[0m\u001b[1;32m      2\u001b[0m \u001b[0mcorpus_lda_tf\u001b[0m \u001b[0;34m=\u001b[0m \u001b[0mlda_tf\u001b[0m\u001b[0;34m[\u001b[0m\u001b[0mcorpus_tf\u001b[0m\u001b[0;34m]\u001b[0m\u001b[0;34m\u001b[0m\u001b[0m\n\u001b[1;32m      3\u001b[0m \u001b[0mprint\u001b[0m\u001b[0;34m(\u001b[0m\u001b[0;34m'corpus lda tf done'\u001b[0m\u001b[0;34m)\u001b[0m\u001b[0;34m\u001b[0m\u001b[0m\n\u001b[1;32m      4\u001b[0m \u001b[0;34m\u001b[0m\u001b[0m\n\u001b[1;32m      5\u001b[0m \u001b[0mlda_tfidf\u001b[0m \u001b[0;34m=\u001b[0m \u001b[0mmodels\u001b[0m\u001b[0;34m.\u001b[0m\u001b[0mLdaModel\u001b[0m\u001b[0;34m(\u001b[0m\u001b[0mcorpus_tfidf\u001b[0m\u001b[0;34m,\u001b[0m \u001b[0mid2word\u001b[0m\u001b[0;34m=\u001b[0m\u001b[0mdictionary\u001b[0m\u001b[0;34m,\u001b[0m \u001b[0mnum_topics\u001b[0m\u001b[0;34m=\u001b[0m\u001b[0;36m10\u001b[0m\u001b[0;34m,\u001b[0m \u001b[0mpasses\u001b[0m\u001b[0;34m=\u001b[0m\u001b[0;36m10\u001b[0m\u001b[0;34m)\u001b[0m\u001b[0;34m\u001b[0m\u001b[0m\n",
      "\u001b[0;32m/usr/local/lib/python3.5/dist-packages/gensim/models/ldamodel.py\u001b[0m in \u001b[0;36m__init__\u001b[0;34m(self, corpus, num_topics, id2word, distributed, chunksize, passes, update_every, alpha, eta, decay, offset, eval_every, iterations, gamma_threshold, minimum_probability, random_state, ns_conf, minimum_phi_value, per_word_topics)\u001b[0m\n\u001b[1;32m    332\u001b[0m         \u001b[0;32mif\u001b[0m \u001b[0mcorpus\u001b[0m \u001b[0;32mis\u001b[0m \u001b[0;32mnot\u001b[0m \u001b[0;32mNone\u001b[0m\u001b[0;34m:\u001b[0m\u001b[0;34m\u001b[0m\u001b[0m\n\u001b[1;32m    333\u001b[0m             \u001b[0muse_numpy\u001b[0m \u001b[0;34m=\u001b[0m \u001b[0mself\u001b[0m\u001b[0;34m.\u001b[0m\u001b[0mdispatcher\u001b[0m \u001b[0;32mis\u001b[0m \u001b[0;32mnot\u001b[0m \u001b[0;32mNone\u001b[0m\u001b[0;34m\u001b[0m\u001b[0m\n\u001b[0;32m--> 334\u001b[0;31m             \u001b[0mself\u001b[0m\u001b[0;34m.\u001b[0m\u001b[0mupdate\u001b[0m\u001b[0;34m(\u001b[0m\u001b[0mcorpus\u001b[0m\u001b[0;34m,\u001b[0m \u001b[0mchunks_as_numpy\u001b[0m\u001b[0;34m=\u001b[0m\u001b[0muse_numpy\u001b[0m\u001b[0;34m)\u001b[0m\u001b[0;34m\u001b[0m\u001b[0m\n\u001b[0m\u001b[1;32m    335\u001b[0m \u001b[0;34m\u001b[0m\u001b[0m\n\u001b[1;32m    336\u001b[0m     \u001b[0;32mdef\u001b[0m \u001b[0minit_dir_prior\u001b[0m\u001b[0;34m(\u001b[0m\u001b[0mself\u001b[0m\u001b[0;34m,\u001b[0m \u001b[0mprior\u001b[0m\u001b[0;34m,\u001b[0m \u001b[0mname\u001b[0m\u001b[0;34m)\u001b[0m\u001b[0;34m:\u001b[0m\u001b[0;34m\u001b[0m\u001b[0m\n",
      "\u001b[0;32m/usr/local/lib/python3.5/dist-packages/gensim/models/ldamodel.py\u001b[0m in \u001b[0;36mupdate\u001b[0;34m(self, corpus, chunksize, decay, offset, passes, update_every, eval_every, iterations, gamma_threshold, chunks_as_numpy)\u001b[0m\n\u001b[1;32m    644\u001b[0m                     logger.info('PROGRESS: pass %i, at document #%i/%i',\n\u001b[1;32m    645\u001b[0m                                 pass_, chunk_no * chunksize + len(chunk), lencorpus)\n\u001b[0;32m--> 646\u001b[0;31m                     \u001b[0mgammat\u001b[0m \u001b[0;34m=\u001b[0m \u001b[0mself\u001b[0m\u001b[0;34m.\u001b[0m\u001b[0mdo_estep\u001b[0m\u001b[0;34m(\u001b[0m\u001b[0mchunk\u001b[0m\u001b[0;34m,\u001b[0m \u001b[0mother\u001b[0m\u001b[0;34m)\u001b[0m\u001b[0;34m\u001b[0m\u001b[0m\n\u001b[0m\u001b[1;32m    647\u001b[0m \u001b[0;34m\u001b[0m\u001b[0m\n\u001b[1;32m    648\u001b[0m                     \u001b[0;32mif\u001b[0m \u001b[0mself\u001b[0m\u001b[0;34m.\u001b[0m\u001b[0moptimize_alpha\u001b[0m\u001b[0;34m:\u001b[0m\u001b[0;34m\u001b[0m\u001b[0m\n",
      "\u001b[0;32m/usr/local/lib/python3.5/dist-packages/gensim/models/ldamodel.py\u001b[0m in \u001b[0;36mdo_estep\u001b[0;34m(self, chunk, state)\u001b[0m\n\u001b[1;32m    483\u001b[0m         \u001b[0;32mif\u001b[0m \u001b[0mstate\u001b[0m \u001b[0;32mis\u001b[0m \u001b[0;32mNone\u001b[0m\u001b[0;34m:\u001b[0m\u001b[0;34m\u001b[0m\u001b[0m\n\u001b[1;32m    484\u001b[0m             \u001b[0mstate\u001b[0m \u001b[0;34m=\u001b[0m \u001b[0mself\u001b[0m\u001b[0;34m.\u001b[0m\u001b[0mstate\u001b[0m\u001b[0;34m\u001b[0m\u001b[0m\n\u001b[0;32m--> 485\u001b[0;31m         \u001b[0mgamma\u001b[0m\u001b[0;34m,\u001b[0m \u001b[0msstats\u001b[0m \u001b[0;34m=\u001b[0m \u001b[0mself\u001b[0m\u001b[0;34m.\u001b[0m\u001b[0minference\u001b[0m\u001b[0;34m(\u001b[0m\u001b[0mchunk\u001b[0m\u001b[0;34m,\u001b[0m \u001b[0mcollect_sstats\u001b[0m\u001b[0;34m=\u001b[0m\u001b[0;32mTrue\u001b[0m\u001b[0;34m)\u001b[0m\u001b[0;34m\u001b[0m\u001b[0m\n\u001b[0m\u001b[1;32m    486\u001b[0m         \u001b[0mstate\u001b[0m\u001b[0;34m.\u001b[0m\u001b[0msstats\u001b[0m \u001b[0;34m+=\u001b[0m \u001b[0msstats\u001b[0m\u001b[0;34m\u001b[0m\u001b[0m\n\u001b[1;32m    487\u001b[0m         \u001b[0mstate\u001b[0m\u001b[0;34m.\u001b[0m\u001b[0mnumdocs\u001b[0m \u001b[0;34m+=\u001b[0m \u001b[0mgamma\u001b[0m\u001b[0;34m.\u001b[0m\u001b[0mshape\u001b[0m\u001b[0;34m[\u001b[0m\u001b[0;36m0\u001b[0m\u001b[0;34m]\u001b[0m  \u001b[0;31m# avoids calling len(chunk) on a generator\u001b[0m\u001b[0;34m\u001b[0m\u001b[0m\n",
      "\u001b[0;32m/usr/local/lib/python3.5/dist-packages/gensim/models/ldamodel.py\u001b[0m in \u001b[0;36minference\u001b[0;34m(self, chunk, collect_sstats)\u001b[0m\n\u001b[1;32m    453\u001b[0m                 \u001b[0mphinorm\u001b[0m \u001b[0;34m=\u001b[0m \u001b[0mnp\u001b[0m\u001b[0;34m.\u001b[0m\u001b[0mdot\u001b[0m\u001b[0;34m(\u001b[0m\u001b[0mexpElogthetad\u001b[0m\u001b[0;34m,\u001b[0m \u001b[0mexpElogbetad\u001b[0m\u001b[0;34m)\u001b[0m \u001b[0;34m+\u001b[0m \u001b[0;36m1e-100\u001b[0m\u001b[0;34m\u001b[0m\u001b[0m\n\u001b[1;32m    454\u001b[0m                 \u001b[0;31m# If gamma hasn't changed much, we're done.\u001b[0m\u001b[0;34m\u001b[0m\u001b[0;34m\u001b[0m\u001b[0m\n\u001b[0;32m--> 455\u001b[0;31m                 \u001b[0mmeanchange\u001b[0m \u001b[0;34m=\u001b[0m \u001b[0mnp\u001b[0m\u001b[0;34m.\u001b[0m\u001b[0mmean\u001b[0m\u001b[0;34m(\u001b[0m\u001b[0mabs\u001b[0m\u001b[0;34m(\u001b[0m\u001b[0mgammad\u001b[0m \u001b[0;34m-\u001b[0m \u001b[0mlastgamma\u001b[0m\u001b[0;34m)\u001b[0m\u001b[0;34m)\u001b[0m\u001b[0;34m\u001b[0m\u001b[0m\n\u001b[0m\u001b[1;32m    456\u001b[0m                 \u001b[0;32mif\u001b[0m \u001b[0;34m(\u001b[0m\u001b[0mmeanchange\u001b[0m \u001b[0;34m<\u001b[0m \u001b[0mself\u001b[0m\u001b[0;34m.\u001b[0m\u001b[0mgamma_threshold\u001b[0m\u001b[0;34m)\u001b[0m\u001b[0;34m:\u001b[0m\u001b[0;34m\u001b[0m\u001b[0m\n\u001b[1;32m    457\u001b[0m                     \u001b[0mconverged\u001b[0m \u001b[0;34m+=\u001b[0m \u001b[0;36m1\u001b[0m\u001b[0;34m\u001b[0m\u001b[0m\n",
      "\u001b[0;31mKeyboardInterrupt\u001b[0m: "
     ]
    }
   ],
   "source": [
    "lda_tf = models.LdaModel(corpus_tf, id2word=dictionary, num_topics=10, passes=10)\n",
    "corpus_lda_tf = lda_tf[corpus_tf]\n",
    "print('corpus lda tf done')\n",
    "\n",
    "lda_tfidf = models.LdaModel(corpus_tfidf, id2word=dictionary, num_topics=10, passes=10)\n",
    "corpus_lda_tfidf = lda_tfidf[corpus_tfidf]\n",
    "print('corpus lda tfidf done')"
   ]
  },
  {
   "cell_type": "markdown",
   "metadata": {
    "deletable": true,
    "editable": true
   },
   "source": [
    "Saving the Models and the Corpora"
   ]
  },
  {
   "cell_type": "code",
   "execution_count": null,
   "metadata": {
    "collapsed": true,
    "deletable": true,
    "editable": true
   },
   "outputs": [],
   "source": [
    "lda_tf.save(os.path.join(outputs, 'model_tf.lda'))\n",
    "corpora.MmCorpus.serialize(os.path.join(outputs, 'corpus_lda_tf.mm'), corpus_lda_tf)\n",
    "\n",
    "lda_tfidf.save(os.path.join(outputs, 'model_tfidf.lda'))\n",
    "corpora.MmCorpus.serialize(os.path.join(outputs, 'corpus_lda_tfidf.mm'), corpus_lda_tfidf)"
   ]
  },
  {
   "cell_type": "markdown",
   "metadata": {
    "deletable": true,
    "editable": true
   },
   "source": [
    "Loading the Models and the Corpora"
   ]
  },
  {
   "cell_type": "code",
   "execution_count": null,
   "metadata": {
    "collapsed": false,
    "deletable": true,
    "editable": true
   },
   "outputs": [],
   "source": [
    "lda_tf = models.LdaModel.load(os.path.join(outputs, 'model_tf.lda'))\n",
    "corpus_lda_tf = corpora.MmCorpus(os.path.join(outputs, 'corpus_lda_tf.mm'))\n",
    "\n",
    "lda_tfidf = models.LdaModel.load(os.path.join(outputs, 'model_tfidf.lda'))\n",
    "corpus_lda_tfidf = corpora.MmCorpus(os.path.join(outputs, 'corpus_lda_tfidf.mm'))"
   ]
  },
  {
   "cell_type": "markdown",
   "metadata": {
    "deletable": true,
    "editable": true
   },
   "source": [
    "#### Visualizing the topics"
   ]
  },
  {
   "cell_type": "code",
   "execution_count": null,
   "metadata": {
    "collapsed": false,
    "deletable": true,
    "editable": true
   },
   "outputs": [],
   "source": [
    "lda_tf.print_topics(num_topics=10, num_words=7)"
   ]
  },
  {
   "cell_type": "code",
   "execution_count": null,
   "metadata": {
    "collapsed": false,
    "deletable": true,
    "editable": true
   },
   "outputs": [],
   "source": [
    "lda_tf.show_topic(5)"
   ]
  },
  {
   "cell_type": "code",
   "execution_count": null,
   "metadata": {
    "collapsed": false,
    "deletable": true,
    "editable": true
   },
   "outputs": [],
   "source": [
    "lda_tfidf.print_topics(num_topics=10, num_words=7)\n",
    "#lda_tfidf.print_topics(10)"
   ]
  },
  {
   "cell_type": "code",
   "execution_count": null,
   "metadata": {
    "collapsed": false,
    "deletable": true,
    "editable": true
   },
   "outputs": [],
   "source": [
    "lda_tfidf.show_topics(formatted=False, num_words=20)[0:2]"
   ]
  },
  {
   "cell_type": "markdown",
   "metadata": {
    "deletable": true,
    "editable": true
   },
   "source": [
    "Visualizing using PyLDAvis  \n",
    "http://nbviewer.jupyter.org/github/bmabey/pyLDAvis/blob/master/notebooks/pyLDAvis_overview.ipynb  "
   ]
  },
  {
   "cell_type": "code",
   "execution_count": null,
   "metadata": {
    "collapsed": false,
    "deletable": true,
    "editable": true
   },
   "outputs": [],
   "source": [
    "import pyLDAvis\n",
    "import pyLDAvis.gensim\n",
    "pyLDAvis.enable_notebook()\n",
    "pyLDAvis.gensim.prepare(lda_tf, corpus_tf, dictionary)"
   ]
  },
  {
   "cell_type": "markdown",
   "metadata": {
    "deletable": true,
    "editable": true
   },
   "source": [
    "Making predictions with LDA vectors (we'll have to use only the labeled sentences):"
   ]
  },
  {
   "cell_type": "code",
   "execution_count": null,
   "metadata": {
    "collapsed": false,
    "deletable": true,
    "editable": true
   },
   "outputs": [],
   "source": [
    "#For predictions we need only the labeled set:\n",
    "print(\"Creating Corpora for predictions\")\n",
    "corpus_tf2 = [dictionary.doc2bow(sentence) for sentence in labeled_sentences]\n",
    "print('corpus tf done')\n",
    "\n",
    "lda_tf2 = models.LdaModel(corpus_tf2, id2word=dictionary, num_topics=10, passes=10)\n",
    "corpus_lda_tf2 = lda_tf2[corpus_tf2]\n",
    "print('corpus lda tf done')\n",
    "\n",
    "print('Creating lda vectors')\n",
    "X = gensim.matutils.corpus2csc(corpus_lda_tf2)\n",
    "X = X.T\n",
    "print('lda vectors done')"
   ]
  },
  {
   "cell_type": "code",
   "execution_count": null,
   "metadata": {
    "collapsed": false,
    "deletable": true,
    "editable": true
   },
   "outputs": [],
   "source": [
    "X[0].todense()"
   ]
  },
  {
   "cell_type": "markdown",
   "metadata": {
    "deletable": true,
    "editable": true
   },
   "source": [
    "Saving the Sentences, Model and the Corpus"
   ]
  },
  {
   "cell_type": "code",
   "execution_count": null,
   "metadata": {
    "collapsed": true,
    "deletable": true,
    "editable": true
   },
   "outputs": [],
   "source": [
    "lda_tf2.save(os.path.join(outputs, 'model_tf2.lda'))\n",
    "corpora.MmCorpus.serialize(os.path.join(outputs, 'corpus_lda_tf2.mm'), corpus_lda_tf2)"
   ]
  },
  {
   "cell_type": "markdown",
   "metadata": {
    "deletable": true,
    "editable": true
   },
   "source": [
    "Loading the Sentences, Model and the Corpus"
   ]
  },
  {
   "cell_type": "code",
   "execution_count": null,
   "metadata": {
    "collapsed": true,
    "deletable": true,
    "editable": true
   },
   "outputs": [],
   "source": [
    "lda_tf2 = models.LdaModel.load(os.path.join(outputs, 'model_tf2.lda'))\n",
    "corpus_lda_tf2 = corpora.MmCorpus(os.path.join(outputs, 'corpus_lda_tf2.mm'))"
   ]
  },
  {
   "cell_type": "code",
   "execution_count": null,
   "metadata": {
    "collapsed": false,
    "deletable": true,
    "editable": true
   },
   "outputs": [],
   "source": [
    "X_traincv_tf, X_testcv_tf, y_traincv_tf, y_testcv_tf = model_selection.train_test_split(X,\n",
    "                                                                                        train[\"sentiment\"],\n",
    "                                                                                        test_size=0.2,\n",
    "                                                                                        random_state=0)"
   ]
  },
  {
   "cell_type": "code",
   "execution_count": null,
   "metadata": {
    "collapsed": false,
    "deletable": true,
    "editable": true
   },
   "outputs": [],
   "source": [
    "from sklearn.linear_model import LogisticRegression as LR\n",
    "\n",
    "clf_LR_tf_lda = LR(penalty='l2',\n",
    "                   dual=False,\n",
    "                   tol=0.0001,\n",
    "                   C=1.0,\n",
    "                   fit_intercept=True,\n",
    "                   intercept_scaling=1,\n",
    "                   class_weight=None,\n",
    "                   random_state=0,\n",
    "                   solver='liblinear',\n",
    "                   max_iter=100,\n",
    "                   multi_class='ovr',\n",
    "                   verbose=0).fit(X_traincv_tf, y_traincv_tf)"
   ]
  },
  {
   "cell_type": "code",
   "execution_count": null,
   "metadata": {
    "collapsed": false,
    "deletable": true,
    "editable": true
   },
   "outputs": [],
   "source": [
    "eval_LR_tf_lda = clf_LR_tf_lda.score(X_testcv_tf, y_testcv_tf)\n",
    "print(eval_LR_tf_lda)"
   ]
  },
  {
   "cell_type": "markdown",
   "metadata": {
    "deletable": true,
    "editable": true
   },
   "source": [
    "### Distributed Word Vectors\n",
    "\n",
    "https://www.kaggle.com/c/word2vec-nlp-tutorial/details/part-2-word-vectors  \n",
    "\n",
    "Introducing Distributed Word Vectors: This part of the tutorial will focus on using distributed word vectors created by the Word2Vec algorithm, using the Gensim implementation.  \n",
    "\n",
    "https://radimrehurek.com/gensim/models/word2vec.html  \n",
    "\n",
    "Word2vec, published by Google in 2013, is a neural network implementation that learns distributed representations for words. Other deep or recurrent neural network architectures had been proposed for learning word representations prior to this, but the major problem with these was the long time required to train the models. Word2vec learns quickly relative to other models.\n",
    "\n",
    "Word2Vec does not need labels in order to create meaningful representations. This is useful, since most data in the real world is unlabeled. If the network is given enough training data (tens of billions of words), it produces word vectors with intriguing characteristics. Words with similar meanings appear in clusters, and clusters are spaced such that some word relationships, such as analogies, can be reproduced using vector math. The famous example is that, with highly trained word vectors, \"king - man + woman = queen.\"\n",
    "\n",
    "Distributed word vectors are powerful and can be used for many applications, particularly word prediction and translation. Here, we will try to apply them to sentiment analysis.\n",
    "\n",
    "Using word2vec in Python: In Python, we will use the excellent implementation of word2vec from the gensim package. If you don't already have gensim installed, you'll need to install it. There is an excellent tutorial that accompanies the Python Word2Vec implementation, here.\n",
    "\n",
    "Although Word2Vec does not require graphics processing units (GPUs) like many deep learning algorithms, it is compute intensive. Both Google's version and the Python version rely on multi-threading (running multiple processes in parallel on your computer to save time). ln order to train your model in a reasonable amount of time, you will need to install cython (instructions here). Word2Vec will run without cython installed, but it will take days to run instead of minutes. "
   ]
  },
  {
   "cell_type": "markdown",
   "metadata": {
    "deletable": true,
    "editable": true
   },
   "source": [
    "#### Preparing to Train a Model\n",
    "\n",
    "We are going to use the whole set of sentences for training, the labeled and the unlabeled, which contains 50,000 additional reviews with no labels. When we built the Bag of Words model in Part 1, extra unlabeled training reviews were not useful. However, since Word2Vec can learn from unlabeled data, these extra 50,000 reviews can now be used.  \n",
    "\n",
    "To train Word2Vec it is better not to remove stop words because the algorithm relies on the broader context of the sentence in order to produce high-quality word vectors."
   ]
  },
  {
   "cell_type": "markdown",
   "metadata": {
    "deletable": true,
    "editable": true
   },
   "source": [
    "#### Training and Saving Your Model  \n",
    "\n",
    "With the list of nicely parsed sentences, we're ready to train the model. There are a number of parameter choices that affect the run time and the quality of the final model that is produced. For details on the algorithms below, see the word2vec API documentation as well as the Google documentation. \n",
    "\n",
    "Architecture: Architecture options are skip-gram (default) or continuous bag of words. We found that skip-gram was very slightly slower but produced better results.\n",
    "\n",
    "Training algorithm: Hierarchical softmax (default) or negative sampling. For us, the default worked well.\n",
    "\n",
    "Downsampling of frequent words: The Google documentation recommends values between .00001 and .001. For us, values closer 0.001 seemed to improve the accuracy of the final model.\n",
    "\n",
    "Word vector dimensionality: More features result in longer runtimes, and often, but not always, result in better models. Reasonable values can be in the tens to hundreds; we used 300.\n",
    "\n",
    "Context / window size: How many words of context should the training algorithm take into account? 10 seems to work well for hierarchical softmax (more is better, up to a point).\n",
    "\n",
    "Worker threads: Number of parallel processes to run. This is computer-specific, but between 4 and 6 should work on most systems.\n",
    "\n",
    "Minimum word count: This helps limit the size of the vocabulary to meaningful words. Any word that does not occur at least this many times across all documents is ignored. Reasonable values could be between 10 and 100. In this case, since each movie occurs 30 times, we set the minimum word count to 40, to avoid attaching too much importance to individual movie titles. This resulted in an overall vocabulary size of around 15,000 words. Higher values also help limit run time.\n",
    "\n",
    "Choosing parameters is not easy, but once we have chosen our parameters, creating a Word2Vec model is straightforward:"
   ]
  },
  {
   "cell_type": "code",
   "execution_count": null,
   "metadata": {
    "collapsed": true,
    "deletable": true,
    "editable": true
   },
   "outputs": [],
   "source": [
    "# Import the built-in logging module and configure it so that Word2Vec creates nice output messages\n",
    "logging.basicConfig(format='%(asctime)s : %(levelname)s : %(message)s', level=logging.INFO)"
   ]
  },
  {
   "cell_type": "code",
   "execution_count": null,
   "metadata": {
    "collapsed": true,
    "deletable": true,
    "editable": true
   },
   "outputs": [],
   "source": [
    "num_features = 300    # Word vector dimensionality\n",
    "min_word_count = 5   # Minimum word count\n",
    "num_workers = -1       # Number of threads to run in parallel\n",
    "context = 10          # Context window size\n",
    "downsampling = 1e-5   # Downsample setting for frequent words"
   ]
  },
  {
   "cell_type": "code",
   "execution_count": null,
   "metadata": {
    "collapsed": false,
    "deletable": true,
    "editable": true
   },
   "outputs": [],
   "source": [
    "# Initialize and train the model (this will take some time)\n",
    "model = Word2Vec(all_sentences_sw,\n",
    "                 workers = num_workers,\n",
    "                 size = num_features,\n",
    "                 min_count = min_word_count, \n",
    "                 window = context,\n",
    "                 sample = downsampling,\n",
    "                 seed=1,)"
   ]
  },
  {
   "cell_type": "code",
   "execution_count": null,
   "metadata": {
    "collapsed": false,
    "deletable": true,
    "editable": true
   },
   "outputs": [],
   "source": [
    "##Optionally converting the model for Bigrams (to capture more context):\n",
    "bigram_transformer = gensim.models.Phrases(all_sentences_sw)\n",
    "model = Word2Vec(bigram_transformer[all_sentences_sw],\n",
    "                 workers = num_workers,\n",
    "                 size = num_features,\n",
    "                 min_count = min_word_count, \n",
    "                 window = context,\n",
    "                 sample = downsampling,\n",
    "                 seed=1,)"
   ]
  },
  {
   "cell_type": "code",
   "execution_count": null,
   "metadata": {
    "collapsed": true,
    "deletable": true,
    "editable": true
   },
   "outputs": [],
   "source": [
    "# If you don't plan to train the model any further, calling init_sims will make the model much more memory-efficient.\n",
    "model.init_sims(replace=True)"
   ]
  },
  {
   "cell_type": "markdown",
   "metadata": {
    "deletable": true,
    "editable": true
   },
   "source": [
    "Saving the Model"
   ]
  },
  {
   "cell_type": "code",
   "execution_count": null,
   "metadata": {
    "collapsed": true,
    "deletable": true,
    "editable": true
   },
   "outputs": [],
   "source": [
    "model_name = \"{}features_{}minwords_{}context\".format(num_features, min_word_count, context)\n",
    "model.save(os.path.join(outputs,model_name))\n",
    "model = Word2Vec.load(os.path.join(outputs,model_name))"
   ]
  },
  {
   "cell_type": "markdown",
   "metadata": {
    "deletable": true,
    "editable": true
   },
   "source": [
    "Exploring the Model Results\n",
    "\n",
    "Congratulations on making it successfully through everything so far! Let's take a look at the model we created out of our 75,000 training reviews.\n",
    "\n",
    "The \"doesnt_match\" function will try to deduce which word in a set is most dissimilar from the others:"
   ]
  },
  {
   "cell_type": "code",
   "execution_count": null,
   "metadata": {
    "collapsed": false,
    "deletable": true,
    "editable": true
   },
   "outputs": [],
   "source": [
    "print(model.doesnt_match(\"captain onion starship alien\".split()))\n",
    "print(model.doesnt_match(\"father mother son daughter film\".split()))\n",
    "print(model.doesnt_match(\"france england germany berlin\".split()))\n",
    "print(model.most_similar(\"man\"))\n",
    "print(model.most_similar(\"queen\"))\n",
    "print(model.most_similar(\"awful\"))"
   ]
  },
  {
   "cell_type": "markdown",
   "metadata": {
    "deletable": true,
    "editable": true
   },
   "source": [
    "So it seems we have a reasonably good model for semantic meaning - at least as good as Bag of Words. But how can we use these fancy distributed word vectors for supervised learning? The next section takes a stab at that."
   ]
  },
  {
   "cell_type": "markdown",
   "metadata": {
    "deletable": true,
    "editable": true
   },
   "source": [
    "Part 3: More Fun With Word Vectors\n",
    "--\n",
    "\n",
    "https://www.kaggle.com/c/word2vec-nlp-tutorial/details/part-3-more-fun-with-word-vectors  \n",
    "\n",
    "Numeric Representations of Words\n",
    "\n",
    "Now that we have a trained model with some semantic understanding of words, how should we use it? If you look beneath the hood, the Word2Vec model trained in Part 2 consists of a feature vector for each word in the vocabulary, stored in a numpy array called \"syn0\":"
   ]
  },
  {
   "cell_type": "code",
   "execution_count": null,
   "metadata": {
    "collapsed": true,
    "deletable": true,
    "editable": true
   },
   "outputs": [],
   "source": [
    "model = Word2Vec.load(os.path.join(outputs,model_name))"
   ]
  },
  {
   "cell_type": "code",
   "execution_count": null,
   "metadata": {
    "collapsed": false,
    "deletable": true,
    "editable": true
   },
   "outputs": [],
   "source": [
    "model.syn0.shape"
   ]
  },
  {
   "cell_type": "markdown",
   "metadata": {
    "deletable": true,
    "editable": true
   },
   "source": [
    "The number of rows in syn0 is the number of words in the model's vocabulary, and the number of columns corresponds to the size of the feature vector, which we set in Part 2.  Setting the minimum word count to 40 gave us a total vocabulary of 16,492 words with 300 features apiece. Individual word vectors can be accessed in the following way:"
   ]
  },
  {
   "cell_type": "code",
   "execution_count": null,
   "metadata": {
    "collapsed": false,
    "deletable": true,
    "editable": true
   },
   "outputs": [],
   "source": [
    "model[\"flower\"][0:10]"
   ]
  },
  {
   "cell_type": "code",
   "execution_count": null,
   "metadata": {
    "collapsed": false,
    "deletable": true,
    "editable": true
   },
   "outputs": [],
   "source": [
    "model.index2word[0:10]"
   ]
  },
  {
   "cell_type": "markdown",
   "metadata": {
    "deletable": true,
    "editable": true
   },
   "source": [
    "From Words To Paragraphs, \n",
    "--\n",
    "Attempt 1:  Vector Averaging  \n",
    "--\n",
    "\n",
    "One challenge with the IMDB dataset is the variable-length reviews. We need to find a way to take individual word vectors and transform them into a feature set that is the same length for every review.\n",
    "\n",
    "Since each word is a vector in 300-dimensional space, we can use vector operations to combine the words in each review. One method we tried was to simply average the word vectors in a given review (for this purpose, we removed stop words, which would just add noise).\n",
    "\n",
    "The following code averages the feature vectors, building on our code from Part 2. "
   ]
  },
  {
   "cell_type": "code",
   "execution_count": null,
   "metadata": {
    "collapsed": true,
    "deletable": true,
    "editable": true
   },
   "outputs": [],
   "source": [
    "def makeFeatureVec(words, model, num_features):\n",
    "    # Function to average all of the word vectors in a given paragraph\n",
    "    # Pre-initialize an empty numpy array (for speed)\n",
    "    featureVec = np.zeros((num_features,),dtype=\"float32\")\n",
    "    nwords = 0.\n",
    "    # Index2word is a list that contains the names of the words in the model's vocabulary. \n",
    "    #Convert it to a set, for speed\n",
    "    index2word_set = set(model.index2word)\n",
    "    # Loop over each word in the review and, if it is in the model's\n",
    "    # vocabulary, add its feature vector to the total\n",
    "    for word in words:\n",
    "        if word in index2word_set:\n",
    "            nwords = nwords + 1.\n",
    "            featureVec = np.add(featureVec,model[word])\n",
    "    # Divide the result by the number of words to get the average\n",
    "    featureVec = np.divide(featureVec,nwords)\n",
    "    return featureVec"
   ]
  },
  {
   "cell_type": "code",
   "execution_count": null,
   "metadata": {
    "collapsed": true,
    "deletable": true,
    "editable": true
   },
   "outputs": [],
   "source": [
    "def getAvgFeatureVecs(reviews, model, num_features):\n",
    "    # Given a set of reviews (each one a list of words), calculate\n",
    "    # the average feature vector for each one and return a 2D numpy array\n",
    "    # Initialize a counter\n",
    "    counter = 0.\n",
    "    # Preallocate a 2D numpy array, for speed\n",
    "    reviewFeatureVecs = np.zeros((len(reviews),num_features),dtype=\"float32\")\n",
    "    # Loop through the reviews\n",
    "    for review in reviews:\n",
    "        # Print a status message every 2000th review\n",
    "        if counter%2000. == 0.:\n",
    "            print(\"Review {} of {}\".format(counter, len(reviews)))\n",
    "        #Call the function (defined above) that makes average feature vectors\n",
    "        reviewFeatureVecs[counter] = makeFeatureVec(review, model, num_features)\n",
    "        counter = counter + 1.\n",
    "    return reviewFeatureVecs"
   ]
  },
  {
   "cell_type": "markdown",
   "metadata": {
    "deletable": true,
    "editable": true
   },
   "source": [
    "Now, we can call these functions to create average vectors for each paragraph. The following operations will take a few minutes:  "
   ]
  },
  {
   "cell_type": "code",
   "execution_count": null,
   "metadata": {
    "collapsed": false,
    "deletable": true,
    "editable": true
   },
   "outputs": [],
   "source": [
    "# Calculate average feature vectors for training and testing sets, using the functions \n",
    "# we defined above. Notice that we now use stop word removal.\n",
    "trainDataVecs = getAvgFeatureVecs(labeled_sentences_sw, model, num_features)"
   ]
  },
  {
   "cell_type": "code",
   "execution_count": null,
   "metadata": {
    "collapsed": false,
    "deletable": true,
    "editable": true
   },
   "outputs": [],
   "source": [
    "trainDataVecs[100][0:10]"
   ]
  },
  {
   "cell_type": "markdown",
   "metadata": {
    "deletable": true,
    "editable": true
   },
   "source": [
    "Check for Nan values:  "
   ]
  },
  {
   "cell_type": "code",
   "execution_count": null,
   "metadata": {
    "collapsed": false,
    "deletable": true,
    "editable": true
   },
   "outputs": [],
   "source": [
    "print(np.isnan(trainDataVecs).any()) #testando se não há valores que inviabilizam o treinamento\n",
    "print(np.isfinite(trainDataVecs).all())"
   ]
  },
  {
   "cell_type": "code",
   "execution_count": null,
   "metadata": {
    "collapsed": true,
    "deletable": true,
    "editable": true
   },
   "outputs": [],
   "source": [
    "# If there are Nan values we can use inputer  \n",
    "from sklearn.preprocessing import Imputer\n",
    "trainDataVecs = Imputer().fit_transform(trainDataVecs)"
   ]
  },
  {
   "cell_type": "code",
   "execution_count": null,
   "metadata": {
    "collapsed": false,
    "deletable": true,
    "editable": true
   },
   "outputs": [],
   "source": [
    "print(np.isnan(trainDataVecs).any()) #testando se não há valores que inviabilizam o treinamento\n",
    "print(np.isfinite(trainDataVecs).all())"
   ]
  },
  {
   "cell_type": "markdown",
   "metadata": {
    "deletable": true,
    "editable": true
   },
   "source": [
    "Next, use the average paragraph vectors with the classifiers from Part 1.  \n",
    "Note that, as in Part 1, we can only use the labeled training reviews to train the model. "
   ]
  },
  {
   "cell_type": "code",
   "execution_count": null,
   "metadata": {
    "collapsed": true,
    "deletable": true,
    "editable": true
   },
   "outputs": [],
   "source": [
    "X_traincvWV, X_testcvWV, y_traincvWV, y_testcvWV = train_test_split(trainDataVecs,\n",
    "                                                                    train[\"sentiment\"],\n",
    "                                                                    test_size=0.2,\n",
    "                                                                    random_state=0)"
   ]
  },
  {
   "cell_type": "code",
   "execution_count": null,
   "metadata": {
    "collapsed": false,
    "deletable": true,
    "editable": true
   },
   "outputs": [],
   "source": [
    "# Initialize a Random Forest classifier with 300 trees\n",
    "from sklearn.ensemble import RandomForestClassifier\n",
    "\n",
    "clf_RF_WV = RandomForestClassifier(n_estimators=300, \n",
    "                                   criterion='gini', \n",
    "                                   max_depth=None, \n",
    "                                   min_samples_split=2, \n",
    "                                   min_samples_leaf=1, \n",
    "                                   min_weight_fraction_leaf=0.0, \n",
    "                                   max_features='auto', \n",
    "                                   max_leaf_nodes=None, \n",
    "                                   bootstrap=False, \n",
    "                                   oob_score=False, \n",
    "                                   n_jobs=-1, \n",
    "                                   random_state=None, \n",
    "                                   verbose=0, \n",
    "                                   warm_start=False, \n",
    "                                   class_weight=None).fit(X_traincvWV, y_traincvWV)\n",
    "\n",
    "eval_RF_WV_tts = clf_RF_WV.score(X_testcvWV, y_testcvWV)\n",
    "print(eval_RF_WV_tts)"
   ]
  },
  {
   "cell_type": "code",
   "execution_count": null,
   "metadata": {
    "collapsed": false,
    "deletable": true,
    "editable": true
   },
   "outputs": [],
   "source": [
    "from sklearn.linear_model import LogisticRegression as LR\n",
    "\n",
    "clf_LR_WV = LR(penalty='l2',\n",
    "               dual=False,\n",
    "               tol=0.0001,\n",
    "               C=1.0,\n",
    "               fit_intercept=True,\n",
    "               intercept_scaling=1,\n",
    "               class_weight=None,\n",
    "               random_state=None,\n",
    "               solver='liblinear',\n",
    "               max_iter=100,\n",
    "               multi_class='ovr',\n",
    "               verbose=0).fit(X_traincvWV, y_traincvWV)\n",
    "\n",
    "eval_LR_WV_tts = clf_LR_WV.score(X_testcvWV, y_testcvWV)\n",
    "print(eval_LR_WV_tts)"
   ]
  },
  {
   "cell_type": "markdown",
   "metadata": {
    "deletable": true,
    "editable": true
   },
   "source": [
    "Creating a Submission  \n",
    "--"
   ]
  },
  {
   "cell_type": "code",
   "execution_count": null,
   "metadata": {
    "collapsed": false,
    "deletable": true,
    "editable": true
   },
   "outputs": [],
   "source": [
    "testDataVecs = getAvgFeatureVecs(test_labeled_sentences, model, num_features)"
   ]
  },
  {
   "cell_type": "code",
   "execution_count": null,
   "metadata": {
    "collapsed": false,
    "deletable": true,
    "editable": true
   },
   "outputs": [],
   "source": [
    "print(np.isnan(testDataVecs).any()) #testando se não há valores que inviabilizam o treinamento\n",
    "print(np.isfinite(testDataVecs).all())"
   ]
  },
  {
   "cell_type": "code",
   "execution_count": null,
   "metadata": {
    "collapsed": false,
    "deletable": true,
    "editable": true
   },
   "outputs": [],
   "source": [
    "from sklearn.preprocessing import Imputer\n",
    "testDataVecs = Imputer().fit_transform(testDataVecs)\n",
    "\n",
    "print(np.isnan(testDataVecs).any()) #testando se não há valores que inviabilizam o treinamento\n",
    "print(np.isfinite(testDataVecs).all())"
   ]
  },
  {
   "cell_type": "code",
   "execution_count": null,
   "metadata": {
    "collapsed": false,
    "deletable": true,
    "editable": true
   },
   "outputs": [],
   "source": [
    "testDataVecs[0][0:10]"
   ]
  },
  {
   "cell_type": "code",
   "execution_count": null,
   "metadata": {
    "collapsed": false,
    "deletable": true,
    "editable": true
   },
   "outputs": [],
   "source": [
    "# Use the random forest to make sentiment label predictions\n",
    "result = clf_RF_WV.predict(testDataVecs)\n",
    "result_prob = clf_RF_WV.predict_proba(testDataVecs)\n",
    "print(result[0:10])\n",
    "print(result_prob[0:10])"
   ]
  },
  {
   "cell_type": "code",
   "execution_count": null,
   "metadata": {
    "collapsed": true,
    "deletable": true,
    "editable": true
   },
   "outputs": [],
   "source": [
    "output = pd.DataFrame(data={\"id\":test[\"id\"], \"sentiment\":result,})# \"probs\":result_prob[:,1]})\n",
    "# Use pandas to write the comma-separated output file\n",
    "output.to_csv(os.path.join(outputs,'Word2Vec_AverageVectors.csv'), index=False, quoting=3)"
   ]
  },
  {
   "cell_type": "code",
   "execution_count": null,
   "metadata": {
    "collapsed": false,
    "deletable": true,
    "editable": true
   },
   "outputs": [],
   "source": [
    "output.head()"
   ]
  },
  {
   "cell_type": "markdown",
   "metadata": {
    "deletable": true,
    "editable": true
   },
   "source": [
    "We found that this produced results much better than chance, but underperformed Bag of Words by a few percentage points.\n",
    "\n",
    "Since the element-wise average of the vectors didn't produce spectacular results, perhaps we could do it in a more intelligent way? A standard way of weighting word vectors is to apply \"tf-idf\" weights, which measure how important a given word is within a given set of documents. One way to extract tf-idf weights in Python is by using scikit-learn's TfidfVectorizer, which has an interface similar to the CountVectorizer that we used in Part 1. However, when we tried weighting our word vectors in this way, we found no substantial improvement in performance."
   ]
  },
  {
   "cell_type": "markdown",
   "metadata": {
    "deletable": true,
    "editable": true
   },
   "source": [
    "From Words to Paragraphs, Attempt 2: Clustering \n",
    "--\n",
    "\n",
    "Word2Vec creates clusters of semantically related words, so another possible approach is to exploit the similarity of words within a cluster. Grouping vectors in this way is known as \"vector quantization.\" To accomplish this, we first need to find the centers of the word clusters, which we can do by using a clustering algorithm such as K-Means.\n",
    "\n",
    "In K-Means, the one parameter we need to set is \"K,\" or the number of clusters. How should we decide how many clusters to create? Trial and error suggested that small clusters, with an average of only 5 words or so per cluster, gave better results than large clusters with many words. Clustering code is given below. We use scikit-learn to perform our K-Means.\n",
    "\n",
    "K-Means clustering with large K can be very slow; the following code took more than 40 minutes on my computer. Below, we set a timer around the K-Means function to see how long it takes."
   ]
  },
  {
   "cell_type": "code",
   "execution_count": null,
   "metadata": {
    "collapsed": false,
    "deletable": true,
    "editable": true
   },
   "outputs": [],
   "source": [
    "start = time.time()\n",
    "\n",
    "# Set \"k\" (num_clusters) to be 1/5th of the vocabulary size, or an average of 5 words per cluster\n",
    "word_vectors = model.syn0\n",
    "num_clusters = int(word_vectors.shape[0] / 5)\n",
    "\n",
    "# Initalize a k-means object and use it to extract centroids\n",
    "kmeans_clustering = KMeans(n_clusters = num_clusters)\n",
    "idx = kmeans_clustering.fit_predict(word_vectors)\n",
    "\n",
    "end = time.time()\n",
    "elapsed = end - start\n",
    "print(\"Time taken for K Means clustering: \", elapsed, \"seconds.\")"
   ]
  },
  {
   "cell_type": "markdown",
   "metadata": {
    "deletable": true,
    "editable": true
   },
   "source": [
    "The cluster assignment for each word is now stored in idx, and the vocabulary from our original Word2Vec model is still stored in model.index2word. For convenience, we zip these into one dictionary as follows:  "
   ]
  },
  {
   "cell_type": "code",
   "execution_count": null,
   "metadata": {
    "collapsed": true,
    "deletable": true,
    "editable": true
   },
   "outputs": [],
   "source": [
    "# Create a Word / Index dictionary, mapping each vocabulary word to a cluster number\n",
    "word_centroid_map = dict(zip(model.index2word, idx))"
   ]
  },
  {
   "cell_type": "markdown",
   "metadata": {
    "deletable": true,
    "editable": true
   },
   "source": [
    "This is a little abstract, so let's take a closer look at what our clusters contain. Your clusters may differ, as Word2Vec relies on a random number seed. Here is a loop that prints out the words for clusters 0 through 9:\n",
    "\n",
    "Run k-means on the word vectors and print a few clusters  "
   ]
  },
  {
   "cell_type": "code",
   "execution_count": null,
   "metadata": {
    "collapsed": false,
    "deletable": true,
    "editable": true
   },
   "outputs": [],
   "source": [
    "# Print the first ten clusters\n",
    "for cluster in range(0,10):\n",
    "    # Print the cluster number\n",
    "    print(\"\\nCluster {}\".format(cluster))\n",
    "    # Find all of the words for that cluster number, and print them out\n",
    "    words = []\n",
    "    for i in range(0,len(word_centroid_map.values())):\n",
    "        #print(len(word_centroid_map.values()))\n",
    "        #print(cluster)\n",
    "        #print(word_centroid_map.keys())\n",
    "        if(list(word_centroid_map.values())[i] == cluster):\n",
    "            words.append(list(word_centroid_map.keys())[i])\n",
    "    print(words)"
   ]
  },
  {
   "cell_type": "markdown",
   "metadata": {
    "deletable": true,
    "editable": true
   },
   "source": [
    "We can see that the clusters are of varying quality. Some make sense, some cointain mostly names, and some contain related adjectives. On the other hand, some are a little mystifying. Perhaps our algorithm works best on adjectives.\n",
    "\n",
    "At any rate, now we have a cluster (or \"centroid\") assignment for each word, and we can define a function to convert reviews into bags-of-centroids. This works just like Bag of Words but uses semantically related clusters instead of individual words:"
   ]
  },
  {
   "cell_type": "code",
   "execution_count": null,
   "metadata": {
    "collapsed": true,
    "deletable": true,
    "editable": true
   },
   "outputs": [],
   "source": [
    "def create_bag_of_centroids(wordlist, word_centroid_map):\n",
    "    # The number of clusters is equal to the highest cluster index in the word / centroid map\n",
    "    num_centroids = max(word_centroid_map.values()) + 1\n",
    "    # Pre-allocate the bag of centroids vector (for speed)\n",
    "    bag_of_centroids = np.zeros(num_centroids, dtype=\"float32\")\n",
    "    # Loop over the words in the review. If the word is in the vocabulary,\n",
    "    # find which cluster it belongs to, and increment that cluster count by one\n",
    "    for word in wordlist:\n",
    "        if word in word_centroid_map:\n",
    "            index = word_centroid_map[word]\n",
    "            bag_of_centroids[index] += 1\n",
    "    return bag_of_centroids"
   ]
  },
  {
   "cell_type": "markdown",
   "metadata": {
    "collapsed": true,
    "deletable": true,
    "editable": true
   },
   "source": [
    "The function above will give us a numpy array for each review, each with a number of features equal to the number of clusters. Finally, we create bags of centroids for our training and test set, then train a random forest and extract results:"
   ]
  },
  {
   "cell_type": "code",
   "execution_count": null,
   "metadata": {
    "collapsed": true,
    "deletable": true,
    "editable": true
   },
   "outputs": [],
   "source": [
    "# ****** Create bags of centroids\n",
    "\n",
    "# Pre-allocate an array for the training set bags of centroids (for speed)\n",
    "train_centroids = np.zeros((train[\"review\"].size, num_clusters), dtype=\"float32\")\n",
    "\n",
    "# Transform the training set reviews into bags of centroids\n",
    "counter = 0\n",
    "for review in clean_train_reviews:\n",
    "    train_centroids[counter] = create_bag_of_centroids(review, word_centroid_map)\n",
    "    counter += 1"
   ]
  },
  {
   "cell_type": "code",
   "execution_count": null,
   "metadata": {
    "collapsed": true,
    "deletable": true,
    "editable": true
   },
   "outputs": [],
   "source": [
    "X_traincvCT, X_testcvCT, y_traincvCT, y_testcvCT = train_test_split(train_centroids,\n",
    "                                                                    train[\"sentiment\"],\n",
    "                                                                    test_size=0.2,\n",
    "                                                                    random_state=0)"
   ]
  },
  {
   "cell_type": "code",
   "execution_count": null,
   "metadata": {
    "collapsed": true,
    "deletable": true,
    "editable": true
   },
   "outputs": [],
   "source": [
    "# Initialize a Random Forest classifier with 100 trees\n",
    "clf_RF_CT = RandomForestClassifier(n_estimators=100, \n",
    "                                   criterion='gini', \n",
    "                                   max_depth=None, \n",
    "                                   min_samples_split=2, \n",
    "                                   min_samples_leaf=1, \n",
    "                                   min_weight_fraction_leaf=0.0, \n",
    "                                   max_features='auto', \n",
    "                                   max_leaf_nodes=None, \n",
    "                                   bootstrap=True, \n",
    "                                   oob_score=False, \n",
    "                                   n_jobs=1, \n",
    "                                   random_state=None, \n",
    "                                   verbose=0, \n",
    "                                   warm_start=False, \n",
    "                                   class_weight=None).fit(X_traincvCT, y_traincvCT)"
   ]
  },
  {
   "cell_type": "code",
   "execution_count": null,
   "metadata": {
    "collapsed": false,
    "deletable": true,
    "editable": true
   },
   "outputs": [],
   "source": [
    "eval_RF_CT_tts = clf_RF_CT.score(X_testcvCT, y_testcvCT)\n",
    "print(eval_RF_CT_tts)"
   ]
  },
  {
   "cell_type": "code",
   "execution_count": null,
   "metadata": {
    "collapsed": true,
    "deletable": true,
    "editable": true
   },
   "outputs": [],
   "source": [
    "# Repeat for test reviews\n",
    "test_centroids = np.zeros((test[\"review\"].size, num_clusters), dtype=\"float32\")\n",
    "\n",
    "counter = 0\n",
    "for review in clean_test_reviews:\n",
    "    test_centroids[counter] = create_bag_of_centroids(review, word_centroid_map)\n",
    "    counter += 1"
   ]
  },
  {
   "cell_type": "code",
   "execution_count": null,
   "metadata": {
    "collapsed": false,
    "deletable": true,
    "editable": true
   },
   "outputs": [],
   "source": [
    "result = clf_RF_CT.predict(test_centroids)\n",
    "\n",
    "# Write the test results\n",
    "output = pd.DataFrame(data={\"id\":test[\"id\"], \"sentiment\":result})\n",
    "output.to_csv(os.path.join(outputs,\"BagOfCentroids.csv\"), index=False, quoting=3)\n",
    "print(\"Wrote BagOfCentroids.csv\")"
   ]
  },
  {
   "cell_type": "markdown",
   "metadata": {
    "deletable": true,
    "editable": true
   },
   "source": [
    "We found that the code above gives about the same (or slightly worse) results compared to the Bag of Words in Part 1."
   ]
  },
  {
   "cell_type": "markdown",
   "metadata": {
    "deletable": true,
    "editable": true
   },
   "source": [
    "Part 4: Comparing deep and non-deep learning methods\n",
    "--\n",
    "\n",
    "You may ask: Why is Bag of Words better?\n",
    "\n",
    "The biggest reason is, in our tutorial, averaging the vectors and using the centroids lose the order of words, making it very similar to the concept of Bag of Words. The fact that the performance is similar (within range of standard error) makes all three methods practically equivalent.  \n",
    "\n",
    "A few things to try:\n",
    "\n",
    "First, training Word2Vec on a lot more text should greatly improve performance. Google's results are based on word vectors that were learned out of more than a billion-word corpus; our labeled and unlabeled training sets together are only a measly 18 million words or so. Conveniently, Word2Vec provides functions to load any pre-trained model that is output by Google's original C tool, so it's also possible to train a model in C and then import it into Python.\n",
    "\n",
    "Second, in published literature, distributed word vector techniques have been shown to outperform Bag of Words models. In this paper, an algorithm called Paragraph Vector is used on the IMDB dataset to produce some of the most state-of-the-art results to date. In part, it does better than the approaches we try here because vector averaging and clustering lose the word order, whereas Paragraph Vectors preserves word order information."
   ]
  },
  {
   "cell_type": "markdown",
   "metadata": {
    "deletable": true,
    "editable": true
   },
   "source": [
    "What is Deep Learning?\n",
    "\n",
    "The term \"deep learning\" was coined in 2006, and refers to machine learning algorithms that have multiple non-linear layers and can learn feature hierarchies [1].\n",
    "\n",
    "Most modern machine learning relies on feature engineering or some level of domain knowledge to obtain good results. In deep learning systems, this is not the case -- instead, algorithms can automatically learn feature hierarchies, which represent objects in increasing levels of abstraction. Although the basic ingredients of many deep learning algorithms have been around for many years, they are currently increasing in popularity for many reasons, including advances in compute power, the falling cost of computing hardware, and advances in machine learning research.\n",
    "\n",
    "Deep learning algorithms can be categorized by their architecture (feed-forward, feed-back, or bi-directional) and training protocols (purely supervised, hybrid, or unsupervised) [2]. \n",
    "\n",
    "Some good background materials include:\n",
    "\n",
    "[1] \"Deep Learning for Signal and Information Processing\", by Li Deng and Dong Yu (out of Microsoft)\n",
    "\n",
    "[2] \"Deep Learning Tutorial\" (2013 Presentation by Yann LeCun and Marc'Aurelio Ranzato)\n",
    "\n",
    "Where Does Word2Vec Fit In?\n",
    "\n",
    "Word2Vec works in a way that is similar to deep approaches such as recurrent neural nets or deep neural nets, but it implements certain algorithms, such as hierarchical softmax, that make it computationally more efficient.  \n",
    "\n",
    "See Part 2 of this tutorial for more on Word2Vec, as well as this paper: Efficient Estimation of Word Representations in Vector Space\n",
    "\n",
    "In this tutorial, we use a hybrid approach to training -- consisting of an unsupervised piece (Word2Vec) followed by supervised learning (the Random Forest). \n",
    "\n",
    "Libraries and Packages \n",
    "\n",
    "The lists below should in no way be considered exhaustive.\n",
    "\n",
    "In Python:\n",
    "\n",
    "Theano offers very low-level, nuts and bolts functionality for building deep learning systems. You can also find some good tutorials on their site.  \n",
    "Caffe is a deep learning framework out of the Berkeley Vision and Learning Center.  \n",
    "Pylearn2 wraps Theano and seems slightly more user friendly.  \n",
    "OverFeat was used to win the Kaggle Cats and Dogs competition.  \n",
    "\n",
    "\n",
    "More Tutorials  \n",
    "The O'Reilly Blog has a series of deep learning articles and tutorials:  \n",
    "\n",
    "http://radar.oreilly.com/2014/07/what-is-deep-learning-and-why-should-you-care.html  \n",
    "http://radar.oreilly.com/2014/07/how-to-build-and-run-your-first-deep-learning-network.html  \n",
    "Webcast: How to Get Started with Deep Learning in Computer Vision  \n",
    "There are several tutorials using Theano as well.  \n",
    "\n",
    "If you want to dive into the weeds of creating a neural network from scratch, check out Geoffrey Hinton's Coursera course.\n",
    "\n",
    "For NLP, check out this recent lecture at Stanford: http://techtalks.tv/talks/deep-learning-for-nlp-without-magic-part-1/58414/  \n",
    "\n",
    "This free, online book also introduces neural nets for deep learning: http://neuralnetworksanddeeplearning.com/  "
   ]
  }
 ],
 "metadata": {
  "kernelspec": {
   "display_name": "Python 3",
   "language": "python",
   "name": "python3"
  },
  "language_info": {
   "codemirror_mode": {
    "name": "ipython",
    "version": 3
   },
   "file_extension": ".py",
   "mimetype": "text/x-python",
   "name": "python",
   "nbconvert_exporter": "python",
   "pygments_lexer": "ipython3",
   "version": "3.5.2+"
  }
 },
 "nbformat": 4,
 "nbformat_minor": 0
}
