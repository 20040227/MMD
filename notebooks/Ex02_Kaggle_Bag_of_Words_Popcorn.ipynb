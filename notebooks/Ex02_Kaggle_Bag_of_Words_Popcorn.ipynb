{
 "cells": [
  {
   "cell_type": "markdown",
   "metadata": {
    "collapsed": true
   },
   "source": [
    "## Google's Word2Vec for movie reviews"
   ]
  },
  {
   "cell_type": "markdown",
   "metadata": {},
   "source": [
    "https://www.kaggle.com/c/word2vec-nlp-tutorial  \n",
    "https://github.com/wendykan/DeepLearningMovies  \n",
    "http://fastml.com/classifying-text-with-bag-of-words-a-tutorial/  \n",
    "\n",
    "\n",
    "In this tutorial competition, we dig a little \"deeper\" into sentiment analysis. Google's Word2Vec is a deep-learning inspired method that focuses on the meaning of words. Word2Vec attempts to understand meaning and semantic relationships among words. It works in a way that is similar to deep approaches, such as recurrent neural nets or deep neural nets, but is computationally more efficient. This tutorial focuses on Word2Vec for sentiment analysis.\n",
    "\n",
    "Sentiment analysis is a challenging subject in machine learning. People express their emotions in language that is often obscured by sarcasm, ambiguity, and plays on words, all of which could be very misleading for both humans and computers. There's another Kaggle competition for movie review sentiment analysis. In this tutorial we explore how Word2Vec can be applied to a similar problem.\n",
    "\n",
    "Deep learning has been in the news a lot over the past few years, even making it to the front page of the New York Times. These machine learning techniques, inspired by the architecture of the human brain and made possible by recent advances in computing power, have been making waves via breakthrough results in image recognition, speech processing, and natural language tasks. Recently, deep learning approaches won several Kaggle competitions, including a drug discovery task, and cat and dog image recognition."
   ]
  },
  {
   "cell_type": "markdown",
   "metadata": {},
   "source": [
    "#### Let's charge the batteries for our analysis..."
   ]
  },
  {
   "cell_type": "code",
   "execution_count": 1,
   "metadata": {
    "collapsed": false
   },
   "outputs": [
    {
     "name": "stderr",
     "output_type": "stream",
     "text": [
      "/usr/local/lib/python3.5/dist-packages/matplotlib/backends/backend_gtk3agg.py:18: UserWarning: The Gtk3Agg backend is known to not work on Python 3.x with pycairo. Try installing cairocffi.\n",
      "  \"The Gtk3Agg backend is known to not work on Python 3.x with pycairo. \"\n"
     ]
    }
   ],
   "source": [
    "import os\n",
    "import sys\n",
    "import time\n",
    "import re\n",
    "import pickle\n",
    "import logging\n",
    "import string\n",
    "\n",
    "import pandas as pd\n",
    "import numpy as np\n",
    "import pylab\n",
    "import matplotlib\n",
    "import matplotlib.pyplot as plt\n",
    "from matplotlib.font_manager import FontProperties\n",
    "\n",
    "import nltk\n",
    "import nltk.data\n",
    "from nltk.corpus import stopwords\n",
    "from nltk import word_tokenize\n",
    "from nltk.stem.porter import PorterStemmer\n",
    "\n",
    "from sklearn.cross_validation import train_test_split\n",
    "from sklearn.feature_extraction.text import CountVectorizer\n",
    "from sklearn.feature_extraction.text import TfidfVectorizer \n",
    "from sklearn.cluster import KMeans\n",
    "from sklearn.metrics import roc_auc_score as AUC\n",
    "\n",
    "import gensim\n",
    "from gensim import corpora\n",
    "from gensim import models\n",
    "from gensim import similarities\n",
    "from gensim.models import Word2Vec\n",
    "\n",
    "from bs4 import BeautifulSoup\n",
    "\n",
    "%matplotlib inline"
   ]
  },
  {
   "cell_type": "code",
   "execution_count": 2,
   "metadata": {
    "collapsed": true
   },
   "outputs": [],
   "source": [
    "import warnings\n",
    "warnings.filterwarnings('ignore')"
   ]
  },
  {
   "cell_type": "markdown",
   "metadata": {},
   "source": [
    "Data Set  \n",
    "--\n",
    "\n",
    "The labeled data set consists of 50,000 IMDB movie reviews, specially selected for sentiment analysis. The sentiment of reviews is binary, meaning the IMDB rating < 5 results in a sentiment score of 0, and rating >=7 have a sentiment score of 1. No individual movie has more than 30 reviews. The 25,000 review labeled training set does not include any of the same movies as the 25,000 review test set. In addition, there are another 50,000 IMDB reviews provided without any rating labels.\n",
    "\n",
    "File descriptions\n",
    "\n",
    "labeledTrainData - The labeled training set. The file is tab-delimited and has a header row followed by 25,000 rows containing an id, sentiment, and text for each review.  \n",
    "\n",
    "testData - The test set. The tab-delimited file has a header row followed by 25,000 rows containing an id and text for each review. Your task is to predict the sentiment for each one. \n",
    "\n",
    "unlabeledTrainData - An extra training set with no labels. The tab-delimited file has a header row followed by 50,000 rows containing an id and text for each review. \n",
    "\n",
    "sampleSubmission - A comma-delimited sample submission file in the correct format.\n",
    "Data fields\n",
    "\n",
    "id - Unique ID of each review\n",
    "sentiment - Sentiment of the review; 1 for positive reviews and 0 for negative reviews\n",
    "review - Text of the review"
   ]
  },
  {
   "cell_type": "markdown",
   "metadata": {},
   "source": [
    "Loading the dataset:  \n",
    "--"
   ]
  },
  {
   "cell_type": "code",
   "execution_count": 3,
   "metadata": {
    "collapsed": false
   },
   "outputs": [],
   "source": [
    "datapath = \"../datasets/Kaggle/\"\n",
    "outputs = \"../outputs/\""
   ]
  },
  {
   "cell_type": "code",
   "execution_count": 4,
   "metadata": {
    "collapsed": false
   },
   "outputs": [],
   "source": [
    "train = pd.read_csv(os.path.join(datapath, 'BOW_labeledTrainData.tsv'), header=0, delimiter=\"\\t\", quoting=3)\n",
    "test = pd.read_csv(os.path.join(datapath, 'BOW_testData.tsv'), header=0, delimiter=\"\\t\", quoting=3)\n",
    "unlabeled_train = pd.read_csv(os.path.join(datapath, \"BOW_unlabeledTrainData.tsv\"), header=0, delimiter=\"\\t\", quoting=3)"
   ]
  },
  {
   "cell_type": "code",
   "execution_count": 5,
   "metadata": {
    "collapsed": false
   },
   "outputs": [
    {
     "name": "stdout",
     "output_type": "stream",
     "text": [
      "Read 25000 labeled train reviews, 25000 labeled test reviews, and 50000 unlabeled reviews\n",
      "\n"
     ]
    }
   ],
   "source": [
    "print(\"Read {} labeled train reviews, \\\n",
    "{} labeled test reviews, and \\\n",
    "{} unlabeled reviews\\n\".format(train[\"review\"].size,\n",
    "                               test[\"review\"].size,\n",
    "                               unlabeled_train[\"review\"].size))"
   ]
  },
  {
   "cell_type": "code",
   "execution_count": 6,
   "metadata": {
    "collapsed": false
   },
   "outputs": [
    {
     "data": {
      "text/html": [
       "<div>\n",
       "<table border=\"1\" class=\"dataframe\">\n",
       "  <thead>\n",
       "    <tr style=\"text-align: right;\">\n",
       "      <th></th>\n",
       "      <th>id</th>\n",
       "      <th>sentiment</th>\n",
       "      <th>review</th>\n",
       "    </tr>\n",
       "  </thead>\n",
       "  <tbody>\n",
       "    <tr>\n",
       "      <th>0</th>\n",
       "      <td>\"5814_8\"</td>\n",
       "      <td>1</td>\n",
       "      <td>\"With all this stuff going down at the moment ...</td>\n",
       "    </tr>\n",
       "    <tr>\n",
       "      <th>1</th>\n",
       "      <td>\"2381_9\"</td>\n",
       "      <td>1</td>\n",
       "      <td>\"\\\"The Classic War of the Worlds\\\" by Timothy ...</td>\n",
       "    </tr>\n",
       "    <tr>\n",
       "      <th>2</th>\n",
       "      <td>\"7759_3\"</td>\n",
       "      <td>0</td>\n",
       "      <td>\"The film starts with a manager (Nicholas Bell...</td>\n",
       "    </tr>\n",
       "    <tr>\n",
       "      <th>3</th>\n",
       "      <td>\"3630_4\"</td>\n",
       "      <td>0</td>\n",
       "      <td>\"It must be assumed that those who praised thi...</td>\n",
       "    </tr>\n",
       "    <tr>\n",
       "      <th>4</th>\n",
       "      <td>\"9495_8\"</td>\n",
       "      <td>1</td>\n",
       "      <td>\"Superbly trashy and wondrously unpretentious ...</td>\n",
       "    </tr>\n",
       "  </tbody>\n",
       "</table>\n",
       "</div>"
      ],
      "text/plain": [
       "         id  sentiment                                             review\n",
       "0  \"5814_8\"          1  \"With all this stuff going down at the moment ...\n",
       "1  \"2381_9\"          1  \"\\\"The Classic War of the Worlds\\\" by Timothy ...\n",
       "2  \"7759_3\"          0  \"The film starts with a manager (Nicholas Bell...\n",
       "3  \"3630_4\"          0  \"It must be assumed that those who praised thi...\n",
       "4  \"9495_8\"          1  \"Superbly trashy and wondrously unpretentious ..."
      ]
     },
     "execution_count": 6,
     "metadata": {},
     "output_type": "execute_result"
    }
   ],
   "source": [
    "train.head()"
   ]
  },
  {
   "cell_type": "code",
   "execution_count": 7,
   "metadata": {
    "collapsed": false
   },
   "outputs": [
    {
     "name": "stdout",
     "output_type": "stream",
     "text": [
      "<class 'pandas.core.frame.DataFrame'>\n",
      "RangeIndex: 25000 entries, 0 to 24999\n",
      "Data columns (total 3 columns):\n",
      "id           25000 non-null object\n",
      "sentiment    25000 non-null int64\n",
      "review       25000 non-null object\n",
      "dtypes: int64(1), object(2)\n",
      "memory usage: 586.0+ KB\n"
     ]
    }
   ],
   "source": [
    "train.info()"
   ]
  },
  {
   "cell_type": "code",
   "execution_count": 8,
   "metadata": {
    "collapsed": false
   },
   "outputs": [
    {
     "data": {
      "text/html": [
       "<div>\n",
       "<table border=\"1\" class=\"dataframe\">\n",
       "  <thead>\n",
       "    <tr style=\"text-align: right;\">\n",
       "      <th></th>\n",
       "      <th>sentiment</th>\n",
       "    </tr>\n",
       "  </thead>\n",
       "  <tbody>\n",
       "    <tr>\n",
       "      <th>count</th>\n",
       "      <td>25000.00000</td>\n",
       "    </tr>\n",
       "    <tr>\n",
       "      <th>mean</th>\n",
       "      <td>0.50000</td>\n",
       "    </tr>\n",
       "    <tr>\n",
       "      <th>std</th>\n",
       "      <td>0.50001</td>\n",
       "    </tr>\n",
       "    <tr>\n",
       "      <th>min</th>\n",
       "      <td>0.00000</td>\n",
       "    </tr>\n",
       "    <tr>\n",
       "      <th>25%</th>\n",
       "      <td>0.00000</td>\n",
       "    </tr>\n",
       "    <tr>\n",
       "      <th>50%</th>\n",
       "      <td>0.50000</td>\n",
       "    </tr>\n",
       "    <tr>\n",
       "      <th>75%</th>\n",
       "      <td>1.00000</td>\n",
       "    </tr>\n",
       "    <tr>\n",
       "      <th>max</th>\n",
       "      <td>1.00000</td>\n",
       "    </tr>\n",
       "  </tbody>\n",
       "</table>\n",
       "</div>"
      ],
      "text/plain": [
       "         sentiment\n",
       "count  25000.00000\n",
       "mean       0.50000\n",
       "std        0.50001\n",
       "min        0.00000\n",
       "25%        0.00000\n",
       "50%        0.50000\n",
       "75%        1.00000\n",
       "max        1.00000"
      ]
     },
     "execution_count": 8,
     "metadata": {},
     "output_type": "execute_result"
    }
   ],
   "source": [
    "train.describe()"
   ]
  },
  {
   "cell_type": "markdown",
   "metadata": {},
   "source": [
    "Part 1: For Beginners - Bag of Words\n",
    "--\n",
    "https://www.kaggle.com/c/word2vec-nlp-tutorial/details/part-1-for-beginners-bag-of-words  \n",
    "\n",
    "What is NLP?\n",
    "\n",
    "NLP (Natural Language Processing) is a set of techniques for approaching text problems. This page will help you get started with loading and cleaning the IMDB movie reviews, then applying a simple Bag of Words model to get surprisingly accurate predictions of whether a review is thumbs-up or thumbs-down."
   ]
  },
  {
   "cell_type": "code",
   "execution_count": 89,
   "metadata": {
    "collapsed": false
   },
   "outputs": [],
   "source": [
    "class Text_Cleaning_Utilities(object):\n",
    "    \"\"\"Tools for processing text into segments for further learning\"\"\"\n",
    "\n",
    "    @staticmethod\n",
    "    def text_to_wordlist(text, \n",
    "                         remove_stopwords=False, \n",
    "                         remove_html=False, \n",
    "                         remove_non_letters=False, \n",
    "                         steeming=False):\n",
    "        '''Split a text into a list of words'''\n",
    "        #text = text.replace('-\\n','')\n",
    "        text = text.lower()\n",
    "        if remove_html:\n",
    "            text = BeautifulSoup(text, \"html5lib\").get_text()\n",
    "        if remove_non_letters:\n",
    "            text = re.sub(\"[^-A-Za-z0-9_]\", \" \", text)\n",
    "        list_words = word_tokenize(text)\n",
    "        list_words = [w.strip(string.punctuation) for w in list_words if w not in string.punctuation]\n",
    "        list_words = [w for w in list_words if len(w) > 1]\n",
    "        if remove_stopwords:\n",
    "            stops = set(stopwords.words(\"english\"))\n",
    "            list_words = [w for w in list_words if w not in stops]\n",
    "        if steeming:\n",
    "            stemmer = PorterStemmer()\n",
    "            list_words = [stemmer.stem(item) for item in list_words]\n",
    "        return list_words\n",
    "    \n",
    "    @staticmethod\n",
    "    def df_to_list_of_texts(dataframe, column, \n",
    "                            remove_stopwords=False, \n",
    "                            remove_html=False, \n",
    "                            remove_non_letters=False, \n",
    "                            steeming=False):\n",
    "        clean_texts = []\n",
    "        for txt_id in range(len(dataframe[column])):\n",
    "            clean_texts.append(' '.join(Text_Cleaning_Utilities.text_to_wordlist(dataframe[column][txt_id],\n",
    "                                                                                 remove_stopwords=remove_stopwords,\n",
    "                                                                                 remove_html=remove_html,\n",
    "                                                                                 remove_non_letters=remove_non_letters,\n",
    "                                                                                 steeming=steeming)))\n",
    "            \n",
    "        return clean_texts\n",
    "\n",
    "    @staticmethod\n",
    "    def df_to_list_of_tokens(dataframe, column, \n",
    "                             remove_stopwords=False, \n",
    "                             remove_html=False, \n",
    "                             remove_non_letters=False, \n",
    "                             steeming=False):\n",
    "        clean_texts = []\n",
    "        for txt_id in range(len(dataframe[column])):\n",
    "            clean_texts.append(Text_Cleaning_Utilities.text_to_wordlist(dataframe[column][txt_id],\n",
    "                                                                        remove_stopwords=remove_stopwords,\n",
    "                                                                        remove_html=remove_html,\n",
    "                                                                        remove_non_letters=remove_non_letters,\n",
    "                                                                        steeming=steeming))\n",
    "            \n",
    "        return clean_texts\n",
    "    \n",
    "    \n",
    "    @staticmethod\n",
    "    def text_to_sentences(text,\n",
    "                          remove_stopwords=False, \n",
    "                          remove_html=False, \n",
    "                          remove_non_letters=False, \n",
    "                          steeming=False,\n",
    "                          tokenizer=None,):\n",
    "        '''Split a text into parsed sentences. Returns a list of sentences, \n",
    "        where each sentence is a list of words'''\n",
    "        \n",
    "        # Load the punkt tokenizer (english) if no tokenizer passed\n",
    "        if not tokenizer:\n",
    "            tokenizer = nltk.data.load('tokenizers/punkt/english.pickle')\n",
    "\n",
    "        raw_sentences = tokenizer.tokenize(text.strip())\n",
    "        sentences = []\n",
    "        for raw_sentence in raw_sentences:\n",
    "            if len(raw_sentence) > 0:\n",
    "                sentences.append(Text_Cleaning_Utilities.text_to_wordlist(raw_sentence, \n",
    "                                                                          remove_stopwords=remove_stopwords,\n",
    "                                                                          remove_html=remove_html,\n",
    "                                                                          remove_non_letters=remove_non_letters,\n",
    "                                                                          steeming=steeming))\n",
    "        return sentences\n",
    "    \n",
    "\n",
    "    \n",
    "    @staticmethod\n",
    "    def df_to_list_of_sentences(dataframe, column, \n",
    "                                remove_stopwords=False, \n",
    "                                remove_html=False, \n",
    "                                remove_non_letters=False, \n",
    "                                steeming=False,\n",
    "                                tokenizer=None):\n",
    "        sentences = []\n",
    "        for txt_id in range(len(dataframe[column])):\n",
    "            sentences.append(Text_Cleaning_Utilities.text_to_sentences(dataframe[column][txt_id],\n",
    "                                                                       remove_stopwords=remove_stopwords,\n",
    "                                                                       remove_html=remove_html,\n",
    "                                                                       remove_non_letters=remove_non_letters,\n",
    "                                                                       steeming=steeming,\n",
    "                                                                       tokenizer=tokenizer))\n",
    "        return sentences"
   ]
  },
  {
   "cell_type": "markdown",
   "metadata": {},
   "source": [
    "Cleaning all the datasets and getting word lists\n",
    "--\n",
    "first set is without stopwords"
   ]
  },
  {
   "cell_type": "code",
   "execution_count": 10,
   "metadata": {
    "collapsed": false
   },
   "outputs": [],
   "source": [
    "clean_train_reviews = Text_Cleaning_Utilities.df_to_list_of_texts(train, 'review', remove_stopwords=True)\n",
    "clean_test_reviews = Text_Cleaning_Utilities.df_to_list_of_texts(test, 'review', remove_stopwords=True)"
   ]
  },
  {
   "cell_type": "code",
   "execution_count": 11,
   "metadata": {
    "collapsed": false
   },
   "outputs": [
    {
     "data": {
      "text/plain": [
       "'stuff going moment mj started listening music watching odd documentary watched w'"
      ]
     },
     "execution_count": 11,
     "metadata": {},
     "output_type": "execute_result"
    }
   ],
   "source": [
    "clean_train_reviews[0][0:80]"
   ]
  },
  {
   "cell_type": "code",
   "execution_count": 12,
   "metadata": {
    "collapsed": false
   },
   "outputs": [
    {
     "data": {
      "text/plain": [
       "'naturally film main themes mortality nostalgia loss innocence perhaps surprising'"
      ]
     },
     "execution_count": 12,
     "metadata": {},
     "output_type": "execute_result"
    }
   ],
   "source": [
    "clean_test_reviews[0][0:80]"
   ]
  },
  {
   "cell_type": "markdown",
   "metadata": {},
   "source": [
    "Second set mantains stopwords"
   ]
  },
  {
   "cell_type": "code",
   "execution_count": 13,
   "metadata": {
    "collapsed": false
   },
   "outputs": [],
   "source": [
    "clean_train_reviews_sw = Text_Cleaning_Utilities.df_to_list_of_texts(train, 'review')\n",
    "clean_test_reviews_sw = Text_Cleaning_Utilities.df_to_list_of_texts(test, 'review')"
   ]
  },
  {
   "cell_type": "code",
   "execution_count": 14,
   "metadata": {
    "collapsed": false
   },
   "outputs": [
    {
     "data": {
      "text/plain": [
       "'with all this stuff going down at the moment with mj ve started listening to his'"
      ]
     },
     "execution_count": 14,
     "metadata": {},
     "output_type": "execute_result"
    }
   ],
   "source": [
    "clean_train_reviews_sw[0][0:80]"
   ]
  },
  {
   "cell_type": "code",
   "execution_count": 15,
   "metadata": {
    "collapsed": false
   },
   "outputs": [
    {
     "data": {
      "text/plain": [
       "'naturally in film who main themes are of mortality nostalgia and loss of innocen'"
      ]
     },
     "execution_count": 15,
     "metadata": {},
     "output_type": "execute_result"
    }
   ],
   "source": [
    "clean_test_reviews_sw[0][0:80]"
   ]
  },
  {
   "cell_type": "markdown",
   "metadata": {
    "collapsed": false
   },
   "source": [
    "Saving Pickle"
   ]
  },
  {
   "cell_type": "code",
   "execution_count": 16,
   "metadata": {
    "collapsed": true
   },
   "outputs": [],
   "source": [
    "with open(os.path.join(outputs, 'clean_reviews.pkl'),'wb') as f:\n",
    "    pickle.dump((clean_train_reviews, \n",
    "                 clean_test_reviews,\n",
    "                 clean_train_reviews_sw, \n",
    "                 clean_test_reviews_sw),f)"
   ]
  },
  {
   "cell_type": "markdown",
   "metadata": {},
   "source": [
    "Loading Pickle  "
   ]
  },
  {
   "cell_type": "code",
   "execution_count": 17,
   "metadata": {
    "collapsed": false
   },
   "outputs": [],
   "source": [
    "with open(os.path.join(outputs, 'clean_reviews.pkl'),'rb') as f:\n",
    "    (clean_train_reviews, \n",
    "     clean_test_reviews,\n",
    "     clean_train_reviews_sw,\n",
    "     clean_test_reviews_sw) = pickle.load(f)"
   ]
  },
  {
   "cell_type": "markdown",
   "metadata": {},
   "source": [
    "Creating Features from a Bag of Words (Using scikit-learn)\n",
    "--\n",
    "\n",
    "Now that we have our training reviews tidied up, how do we convert them to some kind of numeric representation for machine learning? One common approach is called a Bag of Words. The Bag of Words model learns a vocabulary from all of the documents, then models each document by counting the number of times each word appears. For example, consider the following two sentences:\n",
    "\n",
    "Sentence 1: \"The cat sat on the hat\"  \n",
    "Sentence 2: \"The dog ate the cat and the hat\"  \n",
    "\n",
    "From these two sentences, our vocabulary is as follows:\n",
    "\n",
    "{ the, cat, sat, on, hat, dog, ate, and }\n",
    "\n",
    "To get our bags of words, we count the number of times each word occurs in each sentence. In Sentence 1, \"the\" appears twice, and \"cat\", \"sat\", \"on\", and \"hat\" each appear once, so the feature vector for Sentence 1 is:\n",
    "\n",
    "{ the, cat, sat, on, hat, dog, ate, and }\n",
    "\n",
    "Sentence 1: [ 2, 1, 1, 1, 1, 0, 0, 0 ]\n",
    "\n",
    "Similarly, the features for Sentence 2 are: [ 3, 1, 0, 0, 1, 1, 1, 1]\n",
    "\n",
    "In the IMDB data, we have a very large number of reviews, which will give us a large vocabulary. To limit the size of the feature vectors, we should choose some maximum vocabulary size. Below, we use the 5000 most frequent words (remembering that stop words have already been removed).\n",
    "\n",
    "We'll be using the feature_extraction module from scikit-learn to create bag-of-words features.  \n",
    "We will test two strategies: CountVectorizer (term frequecies - TF) and TFIDF Vectorizer:  \n",
    "First we'll start with plain word counts (TF):  "
   ]
  },
  {
   "cell_type": "code",
   "execution_count": 18,
   "metadata": {
    "collapsed": false
   },
   "outputs": [],
   "source": [
    "# Initialize the \"CountVectorizer\" object, which is scikit-learn's bag of words tool.\n",
    "#http://scikit-learn.org/stable/modules/generated/sklearn.feature_extraction.text.CountVectorizer.html\n",
    "vectorizer_tf = CountVectorizer(input='content', \n",
    "                               encoding='utf-8', \n",
    "                               decode_error='strict', \n",
    "                               strip_accents=None, \n",
    "                               lowercase=True, \n",
    "                               preprocessor=None, \n",
    "                               tokenizer=None, \n",
    "                               stop_words=None, \n",
    "                               #token_pattern='(?u)\\b\\w\\w+\\b',\n",
    "                               ngram_range=(1, 2),\n",
    "                               analyzer='word', \n",
    "                               max_df=1.0, \n",
    "                               min_df=1, \n",
    "                               max_features=5000, \n",
    "                               vocabulary=None, \n",
    "                               binary=False, \n",
    "                               dtype=np.int64,\n",
    "                              )"
   ]
  },
  {
   "cell_type": "markdown",
   "metadata": {},
   "source": [
    "Fit_transform() does two functions: First, it fits the model and learns the vocabulary; \n",
    "second, it transforms our training data into feature vectors. \n",
    "The input to fit_transform should be a list of strings."
   ]
  },
  {
   "cell_type": "code",
   "execution_count": 19,
   "metadata": {
    "collapsed": false
   },
   "outputs": [
    {
     "name": "stdout",
     "output_type": "stream",
     "text": [
      "(25000, 5000)\n"
     ]
    }
   ],
   "source": [
    "train_data_features_tf = vectorizer_tf.fit_transform(clean_train_reviews)\n",
    "train_data_features_tf = train_data_features_tf.toarray() # Numpy arrays are easy to work with\n",
    "print(train_data_features_tf.shape)"
   ]
  },
  {
   "cell_type": "code",
   "execution_count": 20,
   "metadata": {
    "collapsed": false
   },
   "outputs": [
    {
     "name": "stdout",
     "output_type": "stream",
     "text": [
      "(25000, 5000)\n"
     ]
    }
   ],
   "source": [
    "test_data_features_tf = vectorizer_tf.fit_transform(clean_test_reviews)\n",
    "test_data_features_tf = test_data_features_tf.toarray() # Numpy arrays are easy to work with\n",
    "print(test_data_features_tf.shape)"
   ]
  },
  {
   "cell_type": "markdown",
   "metadata": {},
   "source": [
    "Now we are going to use TfIDf vectors:"
   ]
  },
  {
   "cell_type": "code",
   "execution_count": 21,
   "metadata": {
    "collapsed": true
   },
   "outputs": [],
   "source": [
    "#http://scikit-learn.org/stable/modules/generated/sklearn.feature_extraction.text.TfidfVectorizer.html\n",
    "#Another approach using TfIDf vectorizer and using the texts with stopwords in:\n",
    "#https://github.com/zygmuntz/classifying-text/blob/master/bow_predict.py \n",
    "vectorizer_tfidf = TfidfVectorizer(input='content',\n",
    "                                  #encoding='utf-8',\n",
    "                                  decode_error='strict',\n",
    "                                  strip_accents=None,\n",
    "                                  lowercase=True,\n",
    "                                  preprocessor=None,\n",
    "                                  tokenizer=None,\n",
    "                                  analyzer='word',\n",
    "                                  stop_words=None,\n",
    "                                  #token_pattern='(?u)\\b\\w\\w+\\b',\n",
    "                                  ngram_range=(1, 2),\n",
    "                                  max_df=1.0,\n",
    "                                  min_df=1,\n",
    "                                  max_features=5000,\n",
    "                                  vocabulary=None, \n",
    "                                  binary=False, \n",
    "                                  dtype=np.int64,\n",
    "                                  norm='l2',\n",
    "                                  use_idf=True,\n",
    "                                  smooth_idf=True,\n",
    "                                  sublinear_tf=True)"
   ]
  },
  {
   "cell_type": "code",
   "execution_count": 22,
   "metadata": {
    "collapsed": false
   },
   "outputs": [
    {
     "name": "stdout",
     "output_type": "stream",
     "text": [
      "(25000, 5000)\n"
     ]
    }
   ],
   "source": [
    "train_data_features_tfidf = vectorizer_tfidf.fit_transform(clean_train_reviews_sw)\n",
    "train_data_features_tfidf = train_data_features_tfidf.toarray() # Numpy arrays are easy to work with\n",
    "print(train_data_features_tfidf.shape)"
   ]
  },
  {
   "cell_type": "code",
   "execution_count": 23,
   "metadata": {
    "collapsed": false
   },
   "outputs": [
    {
     "name": "stdout",
     "output_type": "stream",
     "text": [
      "(25000, 5000)\n"
     ]
    }
   ],
   "source": [
    "test_data_features_tfidf = vectorizer_tfidf.fit_transform(clean_test_reviews_sw)\n",
    "test_data_features_tfidf = test_data_features_tfidf.toarray() # Numpy arrays are easy to work with\n",
    "print(test_data_features_tfidf.shape)"
   ]
  },
  {
   "cell_type": "markdown",
   "metadata": {},
   "source": [
    "Saving Pickle"
   ]
  },
  {
   "cell_type": "code",
   "execution_count": 24,
   "metadata": {
    "collapsed": false
   },
   "outputs": [],
   "source": [
    "with open(os.path.join(outputs, 'train_test_data_features.pkl'),'wb') as f:\n",
    "    pickle.dump((train_data_features_tf, \n",
    "                 test_data_features_tf,\n",
    "                 train_data_features_tfidf,\n",
    "                 test_data_features_tfidf),f)"
   ]
  },
  {
   "cell_type": "markdown",
   "metadata": {},
   "source": [
    "Reading Pickle"
   ]
  },
  {
   "cell_type": "code",
   "execution_count": 25,
   "metadata": {
    "collapsed": false
   },
   "outputs": [],
   "source": [
    "with open(os.path.join(outputs, 'train_test_data_features.pkl'),'rb') as f:\n",
    "    (train_data_features_tf, \n",
    "    test_data_features_tf,\n",
    "    train_data_features_tfidf,\n",
    "    test_data_features_tfidf) = pickle.load(f)"
   ]
  },
  {
   "cell_type": "markdown",
   "metadata": {},
   "source": [
    "Dividing Train set for Cross Validation  \n",
    "--"
   ]
  },
  {
   "cell_type": "markdown",
   "metadata": {
    "collapsed": false
   },
   "source": [
    "https://github.com/zygmuntz/classifying-text/blob/master/bow_validate.py  \n",
    "Alternatively, we can use the indexes to divide the train samples  \n",
    "\n",
    "train_i, test_i = train_test_split(np.arange(len(train)), train_size = 0.8, random_state = 44)  \n",
    "\n",
    "After generating indexes, we can divide ou datasets:  \n",
    "traincv = train_data_features1[train_i]  \n",
    "testcv = train_data_features1[test_i]"
   ]
  },
  {
   "cell_type": "code",
   "execution_count": 26,
   "metadata": {
    "collapsed": true
   },
   "outputs": [],
   "source": [
    "#Plain Word Counts\n",
    "X_traincv_tf, X_testcv_tf, y_traincv_tf, y_testcv_tf = train_test_split(train_data_features_tf,\n",
    "                                                                        train[\"sentiment\"],\n",
    "                                                                        test_size=0.2,\n",
    "                                                                        random_state=0)"
   ]
  },
  {
   "cell_type": "code",
   "execution_count": 27,
   "metadata": {
    "collapsed": true
   },
   "outputs": [],
   "source": [
    "#TfIdf\n",
    "X_traincv_tfidf, X_testcv_tfidf, y_traincv_tfidf, y_testcv_tfidf = train_test_split(train_data_features_tfidf,\n",
    "                                                                                    train[\"sentiment\"],\n",
    "                                                                                    test_size=0.2,\n",
    "                                                                                    random_state=0)"
   ]
  },
  {
   "cell_type": "markdown",
   "metadata": {},
   "source": [
    "Training some Classifiers  \n",
    "--"
   ]
  },
  {
   "cell_type": "markdown",
   "metadata": {},
   "source": [
    "At this point, we have numeric training features from the Bag of Words and the original sentiment labels for each feature vector, so let's do some supervised learning! Here, we'll use some classifiers implementations included in  the scikit-learn package."
   ]
  },
  {
   "cell_type": "markdown",
   "metadata": {},
   "source": [
    "#### Random Forest"
   ]
  },
  {
   "cell_type": "code",
   "execution_count": 28,
   "metadata": {
    "collapsed": false
   },
   "outputs": [],
   "source": [
    "# Initialize a Random Forest classifier with 300 trees\n",
    "from sklearn.ensemble import RandomForestClassifier\n",
    "\n",
    "clf_RF_tf = RandomForestClassifier(n_estimators=300, \n",
    "                                   criterion='gini', \n",
    "                                   max_depth=None, \n",
    "                                   min_samples_split=2, \n",
    "                                   min_samples_leaf=1, \n",
    "                                   min_weight_fraction_leaf=0.0, \n",
    "                                   max_features='auto', \n",
    "                                   max_leaf_nodes=None, \n",
    "                                   bootstrap=False, \n",
    "                                   oob_score=False, \n",
    "                                   n_jobs=-1, \n",
    "                                   random_state=0, \n",
    "                                   verbose=0, \n",
    "                                   warm_start=False, \n",
    "                                   class_weight=None).fit(X_traincv_tf, y_traincv_tf)"
   ]
  },
  {
   "cell_type": "code",
   "execution_count": 29,
   "metadata": {
    "collapsed": false
   },
   "outputs": [
    {
     "name": "stdout",
     "output_type": "stream",
     "text": [
      "0.859\n"
     ]
    }
   ],
   "source": [
    "eval_RF_tf_tts = clf_RF_tf.score(X_testcv_tf, y_testcv_tf)\n",
    "print(eval_RF_tf_tts)"
   ]
  },
  {
   "cell_type": "code",
   "execution_count": 30,
   "metadata": {
    "collapsed": false
   },
   "outputs": [
    {
     "data": {
      "text/plain": [
       "array([[ 0.44666667,  0.55333333],\n",
       "       [ 0.36666667,  0.63333333],\n",
       "       [ 0.36333333,  0.63666667],\n",
       "       ..., \n",
       "       [ 0.32      ,  0.68      ],\n",
       "       [ 0.78      ,  0.22      ],\n",
       "       [ 0.20333333,  0.79666667]])"
      ]
     },
     "execution_count": 30,
     "metadata": {},
     "output_type": "execute_result"
    }
   ],
   "source": [
    "clf_RF_tf.predict_proba(X_testcv_tf)"
   ]
  },
  {
   "cell_type": "markdown",
   "metadata": {},
   "source": [
    "Now we are going to train on the TfIdf samples:"
   ]
  },
  {
   "cell_type": "code",
   "execution_count": 31,
   "metadata": {
    "collapsed": false
   },
   "outputs": [],
   "source": [
    "# Initialize a Random Forest classifier with 300 trees\n",
    "clf_RF_tfidf = RandomForestClassifier(n_estimators=300, \n",
    "                                      criterion='gini', \n",
    "                                      max_depth=None, \n",
    "                                      min_samples_split=2, \n",
    "                                      min_samples_leaf=1, \n",
    "                                      min_weight_fraction_leaf=0.0, \n",
    "                                      max_features='auto', \n",
    "                                      max_leaf_nodes=None, \n",
    "                                      bootstrap=False, \n",
    "                                      oob_score=False, \n",
    "                                      n_jobs=-1, \n",
    "                                      random_state=0, \n",
    "                                      verbose=0, \n",
    "                                      warm_start=False, \n",
    "                                      class_weight=None).fit(X_traincv_tfidf, y_traincv_tfidf)"
   ]
  },
  {
   "cell_type": "code",
   "execution_count": 32,
   "metadata": {
    "collapsed": false
   },
   "outputs": [
    {
     "name": "stdout",
     "output_type": "stream",
     "text": [
      "0.853\n"
     ]
    }
   ],
   "source": [
    "eval_RF_tfidf_tts = clf_RF_tfidf.score(X_testcv_tfidf, y_testcv_tfidf)\n",
    "print(eval_RF_tfidf_tts)"
   ]
  },
  {
   "cell_type": "code",
   "execution_count": 33,
   "metadata": {
    "collapsed": false
   },
   "outputs": [
    {
     "data": {
      "text/plain": [
       "array([[ 0.44333333,  0.55666667],\n",
       "       [ 0.32333333,  0.67666667],\n",
       "       [ 0.24      ,  0.76      ],\n",
       "       ..., \n",
       "       [ 0.27      ,  0.73      ],\n",
       "       [ 0.71      ,  0.29      ],\n",
       "       [ 0.31      ,  0.69      ]])"
      ]
     },
     "execution_count": 33,
     "metadata": {},
     "output_type": "execute_result"
    }
   ],
   "source": [
    "clf_RF_tfidf.predict_proba(X_testcv_tfidf)"
   ]
  },
  {
   "cell_type": "markdown",
   "metadata": {},
   "source": [
    "#### Logistic Regression  "
   ]
  },
  {
   "cell_type": "code",
   "execution_count": 34,
   "metadata": {
    "collapsed": false
   },
   "outputs": [],
   "source": [
    "#http://scikit-learn.org/stable/modules/generated/sklearn.linear_model.LogisticRegression.html\n",
    "from sklearn.linear_model import LogisticRegression as LR\n",
    "\n",
    "clf_LR_tf = LR(penalty='l2',\n",
    "               dual=False,\n",
    "               tol=0.0001,\n",
    "               C=1.0,\n",
    "               fit_intercept=True,\n",
    "               intercept_scaling=1,\n",
    "               class_weight=None,\n",
    "               random_state=0,\n",
    "               solver='liblinear',\n",
    "               max_iter=100,\n",
    "               multi_class='ovr',\n",
    "               verbose=0).fit(X_traincv_tf, y_traincv_tf)"
   ]
  },
  {
   "cell_type": "code",
   "execution_count": 35,
   "metadata": {
    "collapsed": false
   },
   "outputs": [
    {
     "name": "stdout",
     "output_type": "stream",
     "text": [
      "0.851\n"
     ]
    }
   ],
   "source": [
    "eval_LR_tf_tts = clf_LR_tf.score(X_testcv_tf, y_testcv_tf)\n",
    "print(eval_LR_tf_tts)"
   ]
  },
  {
   "cell_type": "code",
   "execution_count": 36,
   "metadata": {
    "collapsed": false
   },
   "outputs": [],
   "source": [
    "clf_LR_tfidf = LR(penalty='l2',\n",
    "                  dual=False,\n",
    "                  tol=0.0001,\n",
    "                  C=1.0,\n",
    "                  fit_intercept=True,\n",
    "                  intercept_scaling=1,\n",
    "                  class_weight=None,\n",
    "                  random_state=0,\n",
    "                  solver='liblinear',\n",
    "                  max_iter=100,\n",
    "                  multi_class='ovr',\n",
    "                  verbose=0).fit(X_traincv_tfidf, y_traincv_tfidf)"
   ]
  },
  {
   "cell_type": "code",
   "execution_count": 37,
   "metadata": {
    "collapsed": false
   },
   "outputs": [
    {
     "name": "stdout",
     "output_type": "stream",
     "text": [
      "0.8926\n"
     ]
    }
   ],
   "source": [
    "eval_LR_tfidf_tts = clf_LR_tfidf.score(X_testcv_tfidf, y_testcv_tfidf)\n",
    "print(eval_LR_tfidf_tts)"
   ]
  },
  {
   "cell_type": "markdown",
   "metadata": {},
   "source": [
    "#### Gradient Boost Classifier  "
   ]
  },
  {
   "cell_type": "code",
   "execution_count": 38,
   "metadata": {
    "collapsed": false
   },
   "outputs": [],
   "source": [
    "#http://scikit-learn.org/stable/modules/generated/sklearn.ensemble.GradientBoostingClassifier.html\n",
    "from sklearn.ensemble import GradientBoostingClassifier\n",
    "\n",
    "clf_GBC_tf = GradientBoostingClassifier(loss='deviance',\n",
    "                                        learning_rate=0.1,\n",
    "                                        n_estimators=100,\n",
    "                                        subsample=1.0,\n",
    "                                        min_samples_split=2,\n",
    "                                        min_samples_leaf=1,\n",
    "                                        min_weight_fraction_leaf=0.0,\n",
    "                                        max_depth=3,\n",
    "                                        init=None,\n",
    "                                        random_state=0,\n",
    "                                        max_features=None,\n",
    "                                        verbose=0,\n",
    "                                        max_leaf_nodes=None,\n",
    "                                        warm_start=False,\n",
    "                                        presort='auto').fit(X_traincv_tf, y_traincv_tf)"
   ]
  },
  {
   "cell_type": "code",
   "execution_count": 39,
   "metadata": {
    "collapsed": false
   },
   "outputs": [
    {
     "name": "stdout",
     "output_type": "stream",
     "text": [
      "0.8082\n"
     ]
    }
   ],
   "source": [
    "eval_GBC_tf_tts = clf_GBC_tf.score(X_testcv_tf, y_testcv_tf)\n",
    "print(eval_GBC_tf_tts)"
   ]
  },
  {
   "cell_type": "code",
   "execution_count": 40,
   "metadata": {
    "collapsed": false
   },
   "outputs": [],
   "source": [
    "clf_GBC_tfidf = GradientBoostingClassifier(loss='deviance',\n",
    "                                           learning_rate=0.1,\n",
    "                                           n_estimators=100,\n",
    "                                           subsample=1.0,\n",
    "                                           min_samples_split=2,\n",
    "                                           min_samples_leaf=1,\n",
    "                                           min_weight_fraction_leaf=0.0,\n",
    "                                           max_depth=3,\n",
    "                                           init=None,\n",
    "                                           random_state=0,\n",
    "                                           max_features=None,\n",
    "                                           verbose=0,\n",
    "                                           max_leaf_nodes=None,\n",
    "                                           warm_start=False,\n",
    "                                           presort='auto').fit(X_traincv_tfidf, y_traincv_tfidf)"
   ]
  },
  {
   "cell_type": "code",
   "execution_count": 41,
   "metadata": {
    "collapsed": false
   },
   "outputs": [
    {
     "name": "stdout",
     "output_type": "stream",
     "text": [
      "0.8132\n"
     ]
    }
   ],
   "source": [
    "eval_GBC_tfidf_tts = clf_GBC_tfidf.score(X_testcv_tfidf, y_testcv_tfidf)\n",
    "print(eval_GBC_tfidf_tts)"
   ]
  },
  {
   "cell_type": "markdown",
   "metadata": {},
   "source": [
    "#### Let's do some voting"
   ]
  },
  {
   "cell_type": "code",
   "execution_count": 42,
   "metadata": {
    "collapsed": false
   },
   "outputs": [],
   "source": [
    "# http://scikit-learn.org/stable/modules/generated/sklearn.ensemble.VotingClassifier.html\n",
    "from sklearn.ensemble import VotingClassifier\n",
    "\n",
    "clf_vot_tf = VotingClassifier(estimators=[('rf', clf_RF_tf),\n",
    "                                          ('lr', clf_LR_tf),\n",
    "                                          ('gbc', clf_GBC_tf)], voting='soft').fit(X_traincv_tf, y_traincv_tf)"
   ]
  },
  {
   "cell_type": "code",
   "execution_count": 43,
   "metadata": {
    "collapsed": false
   },
   "outputs": [
    {
     "name": "stdout",
     "output_type": "stream",
     "text": [
      "0.8684\n"
     ]
    }
   ],
   "source": [
    "eval_vot_tf_tts = clf_vot_tf.score(X_testcv_tf, y_testcv_tf)\n",
    "print(eval_vot_tf_tts)"
   ]
  },
  {
   "cell_type": "code",
   "execution_count": 44,
   "metadata": {
    "collapsed": false
   },
   "outputs": [],
   "source": [
    "clf_vot_tfidf = VotingClassifier(estimators=[('rf', clf_RF_tfidf),\n",
    "                                             ('lr', clf_LR_tfidf),\n",
    "                                             ('gbc', clf_GBC_tfidf)], voting='soft').fit(X_traincv_tfidf, y_traincv_tfidf)"
   ]
  },
  {
   "cell_type": "code",
   "execution_count": 45,
   "metadata": {
    "collapsed": false
   },
   "outputs": [
    {
     "name": "stdout",
     "output_type": "stream",
     "text": [
      "0.8798\n"
     ]
    }
   ],
   "source": [
    "eval_vot_tfidf_tts = clf_vot_tfidf.score(X_testcv_tfidf, y_testcv_tfidf)\n",
    "print(eval_vot_tfidf_tts)"
   ]
  },
  {
   "cell_type": "markdown",
   "metadata": {},
   "source": [
    "Saving the trained classifiers"
   ]
  },
  {
   "cell_type": "code",
   "execution_count": 46,
   "metadata": {
    "collapsed": false
   },
   "outputs": [],
   "source": [
    "with open(os.path.join(outputs, 'classifiers.pkl'),'wb') as f:\n",
    "    pickle.dump((clf_RF_tf, eval_RF_tf_tts,\n",
    "                 clf_RF_tfidf, eval_RF_tfidf_tts,\n",
    "                 clf_LR_tf, eval_LR_tf_tts,\n",
    "                 clf_LR_tfidf, eval_LR_tfidf_tts,                \n",
    "                 clf_GBC_tf, eval_GBC_tf_tts,\n",
    "                 clf_GBC_tfidf, eval_GBC_tfidf_tts,\n",
    "                 clf_vot_tf, eval_vot_tf_tts,\n",
    "                 clf_vot_tfidf, eval_vot_tfidf_tts),f)"
   ]
  },
  {
   "cell_type": "markdown",
   "metadata": {},
   "source": [
    "Loading the classifiers from Pickle"
   ]
  },
  {
   "cell_type": "code",
   "execution_count": 47,
   "metadata": {
    "collapsed": false
   },
   "outputs": [],
   "source": [
    "with open(os.path.join(outputs, 'classifiers.pkl'),'rb') as f:\n",
    "    (clf_RF_tf, eval_RF_tf_tts,\n",
    "     clf_RF_tfidf, eval_RF_tfidf_tts,\n",
    "     clf_LR_tf, eval_LR_tf_tts,\n",
    "     clf_LR_tfidf, eval_LR_tfidf_tts,                \n",
    "     clf_GBC_tf, eval_GBC_tf_tts,\n",
    "     clf_GBC_tfidf, eval_GBC_tfidf_tts,\n",
    "     clf_vot_tf, eval_vot_tf_tts,\n",
    "     clf_vot_tfidf, eval_vot_tfidf_tts) = pickle.load(f)"
   ]
  },
  {
   "cell_type": "code",
   "execution_count": 48,
   "metadata": {
    "collapsed": false
   },
   "outputs": [
    {
     "data": {
      "image/png": "[encoded data removed]",
      "text/plain": [
       "<matplotlib.figure.Figure at 0x7f452b886d30>"
      ]
     },
     "metadata": {},
     "output_type": "display_data"
    }
   ],
   "source": [
    "dic_results = {'RandomForest_TF': eval_RF_tf_tts,\n",
    "               'RandomForest_TFIDF': eval_RF_tfidf_tts,\n",
    "               'LogiReg_TF': eval_LR_tf_tts,\n",
    "               'LogiReg_TFIDF': eval_LR_tfidf_tts,\n",
    "               'GradBoost_TF': eval_GBC_tf_tts,\n",
    "               'GradBoost_TFIDF': eval_GBC_tfidf_tts,\n",
    "               'Voting_TF': eval_vot_tf_tts,\n",
    "               'Voting_TFIDF': eval_vot_tfidf_tts,\n",
    "              }\n",
    "\n",
    "import operator\n",
    "tup_results = sorted(dic_results.items(), key=operator.itemgetter(1))\n",
    "\n",
    "N = len(dic_results)\n",
    "ind = np.arange(N)  # the x locations for the groups\n",
    "width = 0.40       # the width of the bars\n",
    "\n",
    "fig = plt.figure(figsize=(12,8))\n",
    "ax = fig.add_subplot(111)\n",
    "rects = ax.bar(ind, list(zip(*tup_results))[1], width,)\n",
    "for rect in rects:\n",
    "    height = rect.get_height()\n",
    "    ax.text(rect.get_x()+rect.get_width()/2., \n",
    "            1.005*height, \n",
    "            '{0:.4f}'.format(height), \n",
    "            ha='center', \n",
    "            va='bottom',)\n",
    "\n",
    "ax.set_ylabel('Scores')\n",
    "ax.set_ylim(ymin=0.78,ymax = 0.92)\n",
    "ax.set_title(\"Classificators' performance\")\n",
    "ax.set_xticks(ind + width/2.)\n",
    "ax.set_xticklabels(list(zip(*tup_results))[0], rotation=45)\n",
    "\n",
    "plt.show()"
   ]
  },
  {
   "cell_type": "markdown",
   "metadata": {},
   "source": [
    "Creating a Submission  \n",
    "--\n",
    "\n",
    "All that remains is to run the best classifier on our test set and create a submission file. If you haven't already done so, download testData.tsv from the Data page. This file contains another 25,000 reviews and ids; our task is to predict the sentiment label.\n",
    "\n",
    "Note that when we use the Bag of Words for the test set, we only call \"transform\", not \"fit_transform\" as we did for the training set. In machine learning, you shouldn't use the test set to fit your model, otherwise you run the risk of overfitting. For this reason, we keep the test set off-limits until we are ready to make predictions."
   ]
  },
  {
   "cell_type": "code",
   "execution_count": 49,
   "metadata": {
    "collapsed": false
   },
   "outputs": [
    {
     "name": "stdout",
     "output_type": "stream",
     "text": [
      "<class 'pandas.core.frame.DataFrame'>\n",
      "RangeIndex: 25000 entries, 0 to 24999\n",
      "Data columns (total 2 columns):\n",
      "id        25000 non-null object\n",
      "review    25000 non-null object\n",
      "dtypes: object(2)\n",
      "memory usage: 390.7+ KB\n"
     ]
    }
   ],
   "source": [
    "test.info()"
   ]
  },
  {
   "cell_type": "code",
   "execution_count": 50,
   "metadata": {
    "collapsed": false
   },
   "outputs": [
    {
     "data": {
      "text/html": [
       "<div>\n",
       "<table border=\"1\" class=\"dataframe\">\n",
       "  <thead>\n",
       "    <tr style=\"text-align: right;\">\n",
       "      <th></th>\n",
       "      <th>id</th>\n",
       "      <th>review</th>\n",
       "    </tr>\n",
       "  </thead>\n",
       "  <tbody>\n",
       "    <tr>\n",
       "      <th>0</th>\n",
       "      <td>\"12311_10\"</td>\n",
       "      <td>\"Naturally in a film who's main themes are of ...</td>\n",
       "    </tr>\n",
       "    <tr>\n",
       "      <th>1</th>\n",
       "      <td>\"8348_2\"</td>\n",
       "      <td>\"This movie is a disaster within a disaster fi...</td>\n",
       "    </tr>\n",
       "    <tr>\n",
       "      <th>2</th>\n",
       "      <td>\"5828_4\"</td>\n",
       "      <td>\"All in all, this is a movie for kids. We saw ...</td>\n",
       "    </tr>\n",
       "    <tr>\n",
       "      <th>3</th>\n",
       "      <td>\"7186_2\"</td>\n",
       "      <td>\"Afraid of the Dark left me with the impressio...</td>\n",
       "    </tr>\n",
       "    <tr>\n",
       "      <th>4</th>\n",
       "      <td>\"12128_7\"</td>\n",
       "      <td>\"A very accurate depiction of small time mob l...</td>\n",
       "    </tr>\n",
       "  </tbody>\n",
       "</table>\n",
       "</div>"
      ],
      "text/plain": [
       "           id                                             review\n",
       "0  \"12311_10\"  \"Naturally in a film who's main themes are of ...\n",
       "1    \"8348_2\"  \"This movie is a disaster within a disaster fi...\n",
       "2    \"5828_4\"  \"All in all, this is a movie for kids. We saw ...\n",
       "3    \"7186_2\"  \"Afraid of the Dark left me with the impressio...\n",
       "4   \"12128_7\"  \"A very accurate depiction of small time mob l..."
      ]
     },
     "execution_count": 50,
     "metadata": {},
     "output_type": "execute_result"
    }
   ],
   "source": [
    "test.head()"
   ]
  },
  {
   "cell_type": "code",
   "execution_count": 51,
   "metadata": {
    "collapsed": false
   },
   "outputs": [
    {
     "data": {
      "text/plain": [
       "(25000, 5000)"
      ]
     },
     "execution_count": 51,
     "metadata": {},
     "output_type": "execute_result"
    }
   ],
   "source": [
    "test_data_features_tfidf.shape"
   ]
  },
  {
   "cell_type": "code",
   "execution_count": 52,
   "metadata": {
    "collapsed": false
   },
   "outputs": [],
   "source": [
    "# Use the logistic regression with tfidf vectors to make sentiment label predictions\n",
    "result = clf_LR_tfidf.predict(test_data_features_tfidf)\n",
    "result_prob = clf_LR_tfidf.predict_proba(test_data_features_tfidf)\n",
    "output = pd.DataFrame(data={\"id\":test[\"id\"], \"sentiment\":result,})# \"probs\":result_prob[:,1]})\n",
    "# Use pandas to write the comma-separated output file\n",
    "output.to_csv(os.path.join(outputs,'LR_tfidf_model.csv'), index=False, quoting=3)"
   ]
  },
  {
   "cell_type": "code",
   "execution_count": 53,
   "metadata": {
    "collapsed": false
   },
   "outputs": [
    {
     "data": {
      "text/html": [
       "<div>\n",
       "<table border=\"1\" class=\"dataframe\">\n",
       "  <thead>\n",
       "    <tr style=\"text-align: right;\">\n",
       "      <th></th>\n",
       "      <th>id</th>\n",
       "      <th>sentiment</th>\n",
       "    </tr>\n",
       "  </thead>\n",
       "  <tbody>\n",
       "    <tr>\n",
       "      <th>0</th>\n",
       "      <td>\"12311_10\"</td>\n",
       "      <td>0</td>\n",
       "    </tr>\n",
       "    <tr>\n",
       "      <th>1</th>\n",
       "      <td>\"8348_2\"</td>\n",
       "      <td>1</td>\n",
       "    </tr>\n",
       "    <tr>\n",
       "      <th>2</th>\n",
       "      <td>\"5828_4\"</td>\n",
       "      <td>1</td>\n",
       "    </tr>\n",
       "    <tr>\n",
       "      <th>3</th>\n",
       "      <td>\"7186_2\"</td>\n",
       "      <td>0</td>\n",
       "    </tr>\n",
       "    <tr>\n",
       "      <th>4</th>\n",
       "      <td>\"12128_7\"</td>\n",
       "      <td>0</td>\n",
       "    </tr>\n",
       "  </tbody>\n",
       "</table>\n",
       "</div>"
      ],
      "text/plain": [
       "           id  sentiment\n",
       "0  \"12311_10\"          0\n",
       "1    \"8348_2\"          1\n",
       "2    \"5828_4\"          1\n",
       "3    \"7186_2\"          0\n",
       "4   \"12128_7\"          0"
      ]
     },
     "execution_count": 53,
     "metadata": {},
     "output_type": "execute_result"
    }
   ],
   "source": [
    "output.head()"
   ]
  },
  {
   "cell_type": "markdown",
   "metadata": {},
   "source": [
    "Part 2: Alternative Vectors\n",
    "--\n",
    "\n",
    "In the subsequent sections, we are going to explore alternate ways to codify text into vectors. We are going to explore three techniques, namely Latent Semantic Indexing (LSI), Latent Dirichlet Allocation (LDA) and Word2vec."
   ]
  },
  {
   "cell_type": "markdown",
   "metadata": {},
   "source": [
    "### Topic Modeling and Topic Vectors"
   ]
  },
  {
   "cell_type": "markdown",
   "metadata": {},
   "source": [
    "To build the models, the more we have texts, the better. The size of the Corpus is essential for having good results. We don't need labels in order to create the models, so we will use the train examples and also some unlabeled reviews. The list of cleaned sentences will be used for all the subsequent models."
   ]
  },
  {
   "cell_type": "code",
   "execution_count": 54,
   "metadata": {
    "collapsed": true
   },
   "outputs": [],
   "source": [
    "import logging\n",
    "logging.basicConfig(format='%(asctime)s : %(levelname)s : %(message)s', level=logging.INFO)"
   ]
  },
  {
   "cell_type": "code",
   "execution_count": 55,
   "metadata": {
    "collapsed": false
   },
   "outputs": [
    {
     "name": "stdout",
     "output_type": "stream",
     "text": [
      "Parsing sentences from training set\n",
      "Parsing sentences from unlabeled set\n"
     ]
    }
   ],
   "source": [
    "print(\"Parsing sentences from training set\")\n",
    "sentences = Text_Cleaning_Utilities.df_to_list_of_tokens(train,\n",
    "                                                         'review', \n",
    "                                                         remove_html=True,\n",
    "                                                         remove_stopwords=True,)\n",
    "print(\"Parsing sentences from unlabeled set\")\n",
    "sentences += Text_Cleaning_Utilities.df_to_list_of_tokens(unlabeled_train,\n",
    "                                                          'review', \n",
    "                                                          remove_html=True,\n",
    "                                                          remove_stopwords=True,)"
   ]
  },
  {
   "cell_type": "code",
   "execution_count": 56,
   "metadata": {
    "collapsed": false
   },
   "outputs": [
    {
     "data": {
      "text/plain": [
       "75000"
      ]
     },
     "execution_count": 56,
     "metadata": {},
     "output_type": "execute_result"
    }
   ],
   "source": [
    "len(sentences)"
   ]
  },
  {
   "cell_type": "markdown",
   "metadata": {},
   "source": [
    "Saving sentences to a Pickle"
   ]
  },
  {
   "cell_type": "code",
   "execution_count": 57,
   "metadata": {
    "collapsed": true
   },
   "outputs": [],
   "source": [
    "with open(os.path.join(outputs, 'sentences.pkl'),'wb') as f:\n",
    "    pickle.dump(sentences,f)"
   ]
  },
  {
   "cell_type": "markdown",
   "metadata": {},
   "source": [
    "Loading sentences from a Pickle"
   ]
  },
  {
   "cell_type": "code",
   "execution_count": 58,
   "metadata": {
    "collapsed": true
   },
   "outputs": [],
   "source": [
    "with open(os.path.join(outputs, 'sentences.pkl'),'rb') as f:\n",
    "    sentences = pickle.load(f)"
   ]
  },
  {
   "cell_type": "code",
   "execution_count": 59,
   "metadata": {
    "collapsed": true
   },
   "outputs": [],
   "source": [
    "def nltk_stopwords():\n",
    "    return set(nltk.corpus.stopwords.words('english'))\n",
    "\n",
    "def prep_corpus(docs, additional_stopwords=set(), no_below=4, no_above=0.7):\n",
    "    print('Building dictionary...')\n",
    "    dictionary = corpora.Dictionary(docs)\n",
    "    print('{} Tokens extracted from {} texts'.format(len(dictionary.keys()), dictionary.num_docs))\n",
    "    stopwords = nltk_stopwords().union(additional_stopwords)\n",
    "    #stopword_ids = [dictionary.token2id[sw] for sw in stopwords if sw in dictionary.token2id]\n",
    "    stopword_ids = map(dictionary.token2id.get, stopwords)\n",
    "    dictionary.filter_tokens(stopword_ids)\n",
    "    #low_freq_ids = [tokenid for tokenid, docfreq in dictionary.dfs.items() if docfreq < 4]\n",
    "    #dictionary.filter_tokens(low_freq_ids)\n",
    "    dictionary.filter_extremes(no_below=no_below, no_above=no_above, keep_n=None)\n",
    "    dictionary.compactify()\n",
    "    print('{} Tokens after cleaning'.format(len(dictionary.keys())))\n",
    "    #print('Building corpus...')\n",
    "    #corpus = [dictionary.doc2bow(doc) for doc in docs]\n",
    "    return dictionary #, corpus"
   ]
  },
  {
   "cell_type": "markdown",
   "metadata": {},
   "source": [
    "Compacting and saving the dictionary"
   ]
  },
  {
   "cell_type": "code",
   "execution_count": 60,
   "metadata": {
    "collapsed": false
   },
   "outputs": [
    {
     "name": "stdout",
     "output_type": "stream",
     "text": [
      "Building dictionary...\n",
      "256791 Tokens extracted from 75000 texts\n",
      "56377 Tokens after cleaning\n",
      "dictionary done\n",
      "dictionary saved\n"
     ]
    }
   ],
   "source": [
    "additional_stopwords=set(['n\\'t', 'movie'])\n",
    "\n",
    "dictionary = prep_corpus(sentences, additional_stopwords)\n",
    "dictionary.compactify()\n",
    "print('dictionary done')\n",
    "\n",
    "dictionary.save(os.path.join(outputs, 'reviews.dict'))\n",
    "print('dictionary saved')"
   ]
  },
  {
   "cell_type": "code",
   "execution_count": 61,
   "metadata": {
    "collapsed": false
   },
   "outputs": [
    {
     "name": "stdout",
     "output_type": "stream",
     "text": [
      "23989\n"
     ]
    }
   ],
   "source": [
    "#print(dictionary.token2id['movie'])\n",
    "#print(dictionary.token2id['n\\'t'])\n",
    "print(dictionary.token2id['like'])"
   ]
  },
  {
   "cell_type": "markdown",
   "metadata": {},
   "source": [
    "Loading dictionary"
   ]
  },
  {
   "cell_type": "code",
   "execution_count": 62,
   "metadata": {
    "collapsed": false
   },
   "outputs": [],
   "source": [
    "dictionary = corpora.dictionary.Dictionary.load(os.path.join(outputs, 'reviews.dict'))"
   ]
  },
  {
   "cell_type": "markdown",
   "metadata": {},
   "source": [
    "Generating the Corpora (tf and tfidf"
   ]
  },
  {
   "cell_type": "code",
   "execution_count": 63,
   "metadata": {
    "collapsed": false
   },
   "outputs": [
    {
     "name": "stdout",
     "output_type": "stream",
     "text": [
      "corpus tf done\n",
      "corpus tfidf done\n"
     ]
    }
   ],
   "source": [
    "corpus_tf = [dictionary.doc2bow(sentence) for sentence in sentences]\n",
    "print('corpus tf done')\n",
    "tfidf = models.TfidfModel(corpus_tf)\n",
    "corpus_tfidf = tfidf[corpus_tf]\n",
    "print('corpus tfidf done')"
   ]
  },
  {
   "cell_type": "markdown",
   "metadata": {},
   "source": [
    "Saving the Corpora"
   ]
  },
  {
   "cell_type": "code",
   "execution_count": 64,
   "metadata": {
    "collapsed": false
   },
   "outputs": [],
   "source": [
    "corpora.MmCorpus.serialize(os.path.join(outputs, 'corpus_tf.mm'), corpus_tf)\n",
    "corpora.MmCorpus.serialize(os.path.join(outputs, 'corpus_tfidf.mm'), corpus_tfidf)"
   ]
  },
  {
   "cell_type": "markdown",
   "metadata": {},
   "source": [
    "Loading the Corpora"
   ]
  },
  {
   "cell_type": "code",
   "execution_count": 65,
   "metadata": {
    "collapsed": false
   },
   "outputs": [],
   "source": [
    "corpus_tf = corpora.MmCorpus(os.path.join(outputs, 'corpus_tf.mm'))\n",
    "corpus_tfidf = corpora.MmCorpus(os.path.join(outputs, 'corpus_tfidf.mm'))"
   ]
  },
  {
   "cell_type": "markdown",
   "metadata": {},
   "source": [
    "### Latent Semantic Indexing\n",
    "https://en.wikipedia.org/wiki/Latent_semantic_analysis  "
   ]
  },
  {
   "cell_type": "markdown",
   "metadata": {},
   "source": [
    "Generating the Models and the Corpora"
   ]
  },
  {
   "cell_type": "code",
   "execution_count": 66,
   "metadata": {
    "collapsed": false
   },
   "outputs": [
    {
     "name": "stdout",
     "output_type": "stream",
     "text": [
      "corpus lsi - TF done\n",
      "corpus lsi - TFIDF done\n"
     ]
    }
   ],
   "source": [
    "lsi_tf = models.LsiModel(corpus_tf, id2word=dictionary, num_topics=10)\n",
    "corpus_lsi_tf = lsi_tf[corpus_tf]\n",
    "print('corpus lsi - TF done')\n",
    "lsi_tfidf = models.LsiModel(corpus_tfidf, id2word=dictionary, num_topics=10)\n",
    "corpus_lsi_tfidf = lsi_tfidf[corpus_tfidf]\n",
    "print('corpus lsi - TFIDF done')"
   ]
  },
  {
   "cell_type": "markdown",
   "metadata": {},
   "source": [
    "Saving the Models and the Corpora"
   ]
  },
  {
   "cell_type": "code",
   "execution_count": 67,
   "metadata": {
    "collapsed": false
   },
   "outputs": [],
   "source": [
    "lsi_tf.save(os.path.join(outputs, 'model_tf.lsi'))\n",
    "corpora.MmCorpus.serialize(os.path.join(outputs, 'corpus_lsi_tf.mm'), corpus_lsi_tf)\n",
    "lsi_tfidf.save(os.path.join(outputs, 'model_tfidf.lsi'))\n",
    "corpora.MmCorpus.serialize(os.path.join(outputs, 'corpus_lsi_tfidf.mm'), corpus_lsi_tfidf)"
   ]
  },
  {
   "cell_type": "markdown",
   "metadata": {},
   "source": [
    "Loading the Models and the Corpora"
   ]
  },
  {
   "cell_type": "code",
   "execution_count": 68,
   "metadata": {
    "collapsed": false
   },
   "outputs": [],
   "source": [
    "lsi_tf = models.LsiModel.load(os.path.join(outputs, 'model_tf.lsi'))\n",
    "corpus_lsi_tf = corpora.MmCorpus(os.path.join(outputs, 'corpus_lsi_tf.mm'))\n",
    "lsi_tfidf = models.LsiModel.load(os.path.join(outputs, 'model_tfidf.lsi'))\n",
    "corpus_lsi_tfidf = corpora.MmCorpus(os.path.join(outputs, 'corpus_lsi_tfidf.mm'))"
   ]
  },
  {
   "cell_type": "markdown",
   "metadata": {},
   "source": [
    "#### Visualizing the topics"
   ]
  },
  {
   "cell_type": "code",
   "execution_count": 69,
   "metadata": {
    "collapsed": false
   },
   "outputs": [
    {
     "data": {
      "text/plain": [
       "[(0,\n",
       "  '0.508*\"film\" + 0.290*\"one\" + 0.218*\"like\" + 0.147*\"would\" + 0.145*\"good\" + 0.137*\"even\" + 0.125*\"time\" + 0.123*\"really\" + 0.119*\"story\" + 0.117*\"see\"'),\n",
       " (1,\n",
       "  '-0.833*\"film\" + 0.214*\"one\" + 0.195*\"like\" + 0.113*\"show\" + 0.105*\"movies\" + 0.105*\"good\" + 0.101*\"would\" + 0.093*\"even\" + 0.092*\"really\" + 0.085*\"get\"'),\n",
       " (2,\n",
       "  '0.728*\"one\" + -0.456*\"like\" + -0.179*\"bad\" + -0.164*\"really\" + -0.153*\"good\" + -0.123*\"would\" + -0.095*\"people\" + -0.079*\"think\" + 0.076*\"two\" + -0.071*\"could\"'),\n",
       " (3,\n",
       "  '0.493*\"one\" + 0.423*\"like\" + -0.333*\"story\" + 0.244*\"bad\" + -0.139*\"great\" + -0.138*\"show\" + -0.137*\"also\" + -0.136*\"life\" + -0.129*\"love\" + -0.120*\"character\"'),\n",
       " (4,\n",
       "  '-0.622*\"good\" + 0.408*\"like\" + -0.310*\"bad\" + -0.249*\"really\" + 0.158*\"would\" + 0.144*\"people\" + 0.130*\"show\" + -0.128*\"acting\" + 0.117*\"life\" + -0.117*\"great\"'),\n",
       " (5,\n",
       "  '0.524*\"like\" + -0.479*\"would\" + -0.235*\"bad\" + 0.225*\"story\" + -0.223*\"even\" + 0.197*\"good\" + -0.194*\"could\" + 0.184*\"great\" + 0.144*\"also\" + -0.100*\"get\"'),\n",
       " (6,\n",
       "  '-0.690*\"show\" + 0.390*\"story\" + -0.180*\"great\" + 0.173*\"even\" + -0.159*\"good\" + 0.147*\"bad\" + -0.147*\"series\" + -0.117*\"really\" + -0.103*\"episode\" + -0.089*\"shows\"'),\n",
       " (7,\n",
       "  '-0.679*\"would\" + -0.277*\"story\" + 0.224*\"bad\" + 0.198*\"get\" + -0.185*\"good\" + 0.169*\"time\" + -0.162*\"one\" + -0.157*\"like\" + 0.136*\"people\" + 0.134*\"really\"'),\n",
       " (8,\n",
       "  '-0.509*\"really\" + -0.343*\"people\" + -0.323*\"see\" + 0.265*\"even\" + -0.244*\"story\" + 0.198*\"good\" + -0.142*\"think\" + 0.134*\"time\" + 0.128*\"first\" + -0.122*\"love\"'),\n",
       " (9,\n",
       "  '-0.471*\"story\" + -0.386*\"show\" + 0.348*\"good\" + -0.247*\"even\" + -0.244*\"characters\" + 0.221*\"would\" + -0.188*\"bad\" + 0.172*\"see\" + 0.144*\"man\" + 0.117*\"get\"')]"
      ]
     },
     "execution_count": 69,
     "metadata": {},
     "output_type": "execute_result"
    }
   ],
   "source": [
    "lsi_tf.print_topics(10)"
   ]
  },
  {
   "cell_type": "code",
   "execution_count": 70,
   "metadata": {
    "collapsed": false
   },
   "outputs": [
    {
     "data": {
      "text/plain": [
       "[('film', -0.83285152904541493),\n",
       " ('one', 0.21357342041236935),\n",
       " ('like', 0.1949815877292248),\n",
       " ('show', 0.11339642935894831),\n",
       " ('movies', 0.10548039908973349),\n",
       " ('good', 0.10517469418683616),\n",
       " ('would', 0.10069599175545373),\n",
       " ('even', 0.092802593887119353),\n",
       " ('really', 0.091523117086368122),\n",
       " ('get', 0.084747280171098047)]"
      ]
     },
     "execution_count": 70,
     "metadata": {},
     "output_type": "execute_result"
    }
   ],
   "source": [
    "lsi_tf.show_topic(1)"
   ]
  },
  {
   "cell_type": "code",
   "execution_count": 71,
   "metadata": {
    "collapsed": false
   },
   "outputs": [
    {
     "data": {
      "text/plain": [
       "[(0,\n",
       "  '0.146*\"film\" + 0.103*\"bad\" + 0.101*\"good\" + 0.101*\"like\" + 0.101*\"really\" + 0.095*\"one\" + 0.094*\"would\" + 0.091*\"story\" + 0.089*\"see\" + 0.088*\"even\"'),\n",
       " (1,\n",
       "  '-0.335*\"bad\" + -0.200*\"worst\" + -0.131*\"waste\" + -0.130*\"movies\" + -0.128*\"acting\" + -0.114*\"ever\" + -0.113*\"terrible\" + -0.109*\"horror\" + -0.108*\"horrible\" + -0.101*\"stupid\"'),\n",
       " (2,\n",
       "  '-0.673*\"show\" + -0.216*\"episode\" + -0.210*\"series\" + 0.168*\"film\" + -0.149*\"episodes\" + -0.146*\"tv\" + -0.141*\"season\" + 0.137*\"horror\" + -0.126*\"funny\" + -0.118*\"shows\"'),\n",
       " (3,\n",
       "  '0.222*\"show\" + -0.219*\"great\" + -0.213*\"book\" + 0.158*\"horror\" + -0.116*\"movies\" + -0.111*\"seen\" + -0.107*\"best\" + -0.106*\"love\" + -0.105*\"film\" + -0.103*\"read\"'),\n",
       " (4,\n",
       "  '-0.263*\"horror\" + -0.228*\"series\" + -0.171*\"action\" + -0.170*\"show\" + 0.159*\"life\" + 0.145*\"people\" + -0.134*\"effects\" + -0.127*\"original\" + -0.116*\"episode\" + -0.110*\"great\"'),\n",
       " (5,\n",
       "  '-0.408*\"book\" + 0.368*\"funny\" + 0.266*\"comedy\" + -0.185*\"series\" + -0.175*\"read\" + 0.126*\"jokes\" + 0.125*\"laugh\" + 0.117*\"great\" + 0.112*\"fun\" + -0.091*\"episode\"'),\n",
       " (6,\n",
       "  '-0.394*\"horror\" + 0.227*\"bad\" + 0.158*\"worst\" + -0.134*\"scary\" + 0.124*\"show\" + 0.116*\"script\" + -0.112*\"really\" + -0.109*\"gore\" + -0.103*\"saw\" + 0.102*\"acting\"'),\n",
       " (7,\n",
       "  '-0.341*\"book\" + 0.253*\"ever\" + 0.219*\"worst\" + 0.197*\"seen\" + 0.149*\"horror\" + -0.145*\"characters\" + 0.143*\"films\" + -0.132*\"really\" + -0.128*\"funny\" + -0.126*\"character\"'),\n",
       " (8,\n",
       "  '-0.449*\"book\" + 0.192*\"film\" + -0.150*\"version\" + 0.136*\"show\" + -0.134*\"read\" + 0.130*\"people\" + 0.122*\"characters\" + -0.122*\"bad\" + -0.110*\"original\" + 0.095*\"films\"'),\n",
       " (9,\n",
       "  '0.365*\"horror\" + -0.320*\"action\" + -0.275*\"game\" + 0.229*\"book\" + 0.185*\"funny\" + 0.183*\"show\" + 0.171*\"comedy\" + 0.133*\"film\" + -0.109*\"war\" + -0.107*\"series\"')]"
      ]
     },
     "execution_count": 71,
     "metadata": {},
     "output_type": "execute_result"
    }
   ],
   "source": [
    "lsi_tfidf.print_topics(10)"
   ]
  },
  {
   "cell_type": "code",
   "execution_count": 72,
   "metadata": {
    "collapsed": false
   },
   "outputs": [
    {
     "data": {
      "text/plain": [
       "[('bad', -0.33482010844692134),\n",
       " ('worst', -0.1997502653012824),\n",
       " ('waste', -0.13114310361248918),\n",
       " ('movies', -0.13004635176860604),\n",
       " ('acting', -0.12811795380870469),\n",
       " ('ever', -0.11429728010052982),\n",
       " ('terrible', -0.11327679977980151),\n",
       " ('horror', -0.10876435904267748),\n",
       " ('horrible', -0.10841470896655112),\n",
       " ('stupid', -0.1006204124813979)]"
      ]
     },
     "execution_count": 72,
     "metadata": {},
     "output_type": "execute_result"
    }
   ],
   "source": [
    "lsi_tfidf.show_topic(1)"
   ]
  },
  {
   "cell_type": "markdown",
   "metadata": {},
   "source": [
    "### Latent Dirichlet Allocation\n",
    "\n",
    "https://en.wikipedia.org/wiki/Latent_Dirichlet_allocation  "
   ]
  },
  {
   "cell_type": "markdown",
   "metadata": {},
   "source": [
    "#### Using Gensim"
   ]
  },
  {
   "cell_type": "markdown",
   "metadata": {},
   "source": [
    "Generating the Models and the Corpora"
   ]
  },
  {
   "cell_type": "code",
   "execution_count": 73,
   "metadata": {
    "collapsed": false
   },
   "outputs": [
    {
     "name": "stdout",
     "output_type": "stream",
     "text": [
      "corpus lda tf done\n",
      "corpus lda tfidf done\n"
     ]
    }
   ],
   "source": [
    "lda_tf = models.LdaModel(corpus_tf, id2word=dictionary, num_topics=10, passes=10)\n",
    "corpus_lda_tf = lda_tf[corpus_tf]\n",
    "print('corpus lda tf done')\n",
    "lda_tfidf = models.LdaModel(corpus_tfidf, id2word=dictionary, num_topics=10, passes=10)\n",
    "corpus_lda_tfidf = lda_tfidf[corpus_tfidf]\n",
    "print('corpus lda tfidf done')"
   ]
  },
  {
   "cell_type": "markdown",
   "metadata": {},
   "source": [
    "Saving the Models and the Corpora"
   ]
  },
  {
   "cell_type": "code",
   "execution_count": 74,
   "metadata": {
    "collapsed": true
   },
   "outputs": [],
   "source": [
    "lda_tf.save(os.path.join(outputs, 'model_tf.lda'))\n",
    "corpora.MmCorpus.serialize(os.path.join(outputs, 'corpus_lda_tf.mm'), corpus_lda_tf)\n",
    "lda_tfidf.save(os.path.join(outputs, 'model_tfidf.lda'))\n",
    "corpora.MmCorpus.serialize(os.path.join(outputs, 'corpus_lda_tfidf.mm'), corpus_lda_tfidf)"
   ]
  },
  {
   "cell_type": "markdown",
   "metadata": {},
   "source": [
    "Loading the Models and the Corpora"
   ]
  },
  {
   "cell_type": "code",
   "execution_count": 75,
   "metadata": {
    "collapsed": false
   },
   "outputs": [],
   "source": [
    "lda_tf = models.LdaModel.load(os.path.join(outputs, 'model_tf.lda'))\n",
    "corpus_lda_tf = corpora.MmCorpus(os.path.join(outputs, 'corpus_lda_tf.mm'))\n",
    "lda_tfidf = models.LdaModel.load(os.path.join(outputs, 'model_tfidf.lda'))\n",
    "corpus_lda_tfidf = corpora.MmCorpus(os.path.join(outputs, 'corpus_lda_tfidf.mm'))"
   ]
  },
  {
   "cell_type": "markdown",
   "metadata": {},
   "source": [
    "#### Visualizing the topics"
   ]
  },
  {
   "cell_type": "code",
   "execution_count": 76,
   "metadata": {
    "collapsed": false
   },
   "outputs": [
    {
     "data": {
      "text/plain": [
       "[(0,\n",
       "  '0.013*war + 0.008*action + 0.004*world + 0.004*american + 0.004*fight + 0.004*police + 0.003*men'),\n",
       " (1,\n",
       "  '0.015*like + 0.012*bad + 0.012*one + 0.010*would + 0.010*even + 0.009*get + 0.008*could'),\n",
       " (2,\n",
       "  '0.008*comedy + 0.007*love + 0.006*one + 0.005*funny + 0.004*plays + 0.004*great + 0.004*best'),\n",
       " (3,\n",
       "  '0.016*show + 0.013*one + 0.011*great + 0.011*like + 0.011*see + 0.009*time + 0.009*first'),\n",
       " (4,\n",
       "  '0.036*film + 0.016*good + 0.012*one + 0.011*really + 0.010*story + 0.010*like + 0.008*much'),\n",
       " (5,\n",
       "  '0.018*horror + 0.010*film + 0.009*one + 0.008*effects + 0.006*like + 0.005*special + 0.005*blood'),\n",
       " (6,\n",
       "  '0.012*western + 0.009*ship + 0.009*indian + 0.008*star + 0.006*india + 0.005*jack + 0.005*harry'),\n",
       " (7,\n",
       "  '0.029*film + 0.008*people + 0.007*life + 0.007*one + 0.005*story + 0.005*world + 0.005*us'),\n",
       " (8,\n",
       "  '0.007*man + 0.007*one + 0.006*woman + 0.006*young + 0.005*girl + 0.004*wife + 0.004*two'),\n",
       " (9,\n",
       "  '0.018*film + 0.009*one + 0.007*performance + 0.007*john + 0.006*role + 0.006*great + 0.006*cast')]"
      ]
     },
     "execution_count": 76,
     "metadata": {},
     "output_type": "execute_result"
    }
   ],
   "source": [
    "lda_tf.print_topics(num_topics=10, num_words=7)"
   ]
  },
  {
   "cell_type": "code",
   "execution_count": 77,
   "metadata": {
    "collapsed": false
   },
   "outputs": [
    {
     "data": {
      "text/plain": [
       "[('horror', 0.017852395881839483),\n",
       " ('film', 0.009506699340671174),\n",
       " ('one', 0.0088219835548681309),\n",
       " ('effects', 0.0083580749904971496),\n",
       " ('like', 0.0056870320612492122),\n",
       " ('special', 0.0054661309404140865),\n",
       " ('blood', 0.0048078134850059904),\n",
       " ('game', 0.0046995639123780224),\n",
       " ('dead', 0.004666949442046521),\n",
       " ('films', 0.0046404512610184719)]"
      ]
     },
     "execution_count": 77,
     "metadata": {},
     "output_type": "execute_result"
    }
   ],
   "source": [
    "lda_tf.show_topic(5)"
   ]
  },
  {
   "cell_type": "code",
   "execution_count": 78,
   "metadata": {
    "collapsed": false
   },
   "outputs": [
    {
     "data": {
      "text/plain": [
       "[(0,\n",
       "  '0.003*film + 0.002*good + 0.002*like + 0.002*bad + 0.002*one + 0.002*really + 0.002*story'),\n",
       " (1,\n",
       "  '0.002*seagal + 0.002*mickey + 0.002*streep + 0.002*irene + 0.002*chainsaw + 0.002*sherlock + 0.002*visitor'),\n",
       " (2,\n",
       "  '0.004*lenny + 0.003*damme + 0.003*tripe + 0.003*holden + 0.003*thru + 0.002*regards + 0.002*sh*t'),\n",
       " (3,\n",
       "  '0.003*dracula + 0.002*khan + 0.002*candyman + 0.002*bollywood + 0.002*bronson + 0.002*angus + 0.001*cronenberg'),\n",
       " (4,\n",
       "  '0.002*sandler + 0.002*adam + 0.002*shark + 0.002*gore + 0.001*drug + 0.001*patrick + 0.001*hotel'),\n",
       " (5,\n",
       "  '0.003*ants + 0.002*ripoff + 0.002*ash + 0.002*mysteries + 0.002*sarandon + 0.002*bullock + 0.002*laws'),\n",
       " (6,\n",
       "  '0.001*laughs + 0.001*de + 0.001*gore + 0.001*company + 0.001*expecting + 0.001*joan + 0.001*century'),\n",
       " (7,\n",
       "  '0.003*flynn + 0.003*dunne + 0.002*bugs + 0.002*woo + 0.002*errol + 0.002*linda + 0.002*chicago'),\n",
       " (8,\n",
       "  '0.006*bambi + 0.005*karloff + 0.005*lugosi + 0.004*chaney + 0.004*dinosaurs + 0.003*ernest + 0.003*ellen'),\n",
       " (9,\n",
       "  '0.002*bogart + 0.002*todd + 0.002*jaws + 0.001*henry + 0.001*hopkins + 0.001*predator + 0.001*punk')]"
      ]
     },
     "execution_count": 78,
     "metadata": {},
     "output_type": "execute_result"
    }
   ],
   "source": [
    "lda_tfidf.print_topics(num_topics=10, num_words=7)\n",
    "#lda_tfidf.print_topics(10)"
   ]
  },
  {
   "cell_type": "code",
   "execution_count": 79,
   "metadata": {
    "collapsed": false
   },
   "outputs": [
    {
     "data": {
      "text/plain": [
       "[(0,\n",
       "  [('film', 0.0033591034210372233),\n",
       "   ('good', 0.0022652923587793885),\n",
       "   ('like', 0.0022272511783698458),\n",
       "   ('bad', 0.002193040170978826),\n",
       "   ('one', 0.0021741455900284663),\n",
       "   ('really', 0.0021356571060480198),\n",
       "   ('story', 0.0020752495506208253),\n",
       "   ('would', 0.0020715658023464771),\n",
       "   ('great', 0.0020301182002637913),\n",
       "   ('see', 0.001980282671095109),\n",
       "   ('even', 0.0019377522669696214),\n",
       "   ('time', 0.0019016996226873686),\n",
       "   ('movies', 0.0018871578108583158),\n",
       "   ('people', 0.0018740712743116384),\n",
       "   ('could', 0.001841504105673049),\n",
       "   ('well', 0.0018018037995439331),\n",
       "   ('watch', 0.0017454683233476711),\n",
       "   ('much', 0.0017265537299559614),\n",
       "   ('get', 0.0017086111633451927),\n",
       "   ('show', 0.0017038236175194695)]),\n",
       " (1,\n",
       "  [('seagal', 0.0024969623479472007),\n",
       "   ('mickey', 0.0021333619182295266),\n",
       "   ('streep', 0.0018722821462862646),\n",
       "   ('irene', 0.0018512970450298611),\n",
       "   ('chainsaw', 0.0018129915128712363),\n",
       "   ('sherlock', 0.0017785996742989169),\n",
       "   ('visitor', 0.0016077317101088203),\n",
       "   ('hannah', 0.0014710190231398516),\n",
       "   ('amazon', 0.0013968575541876195),\n",
       "   ('feast', 0.0013945145844089595),\n",
       "   ('meryl', 0.0013607453659911627),\n",
       "   ('it`s', 0.0013598197965729536),\n",
       "   ('clerks', 0.001342646533633159),\n",
       "   ('bacon', 0.001322294025681286),\n",
       "   ('sheep', 0.0013214588541948737),\n",
       "   ('dont', 0.0012851708239414034),\n",
       "   ('freaky', 0.0012779194177464761),\n",
       "   ('nonsensical', 0.0012739410479454788),\n",
       "   ('massacre', 0.0012551696698851393),\n",
       "   ('nails', 0.0012467171304370536)]),\n",
       " (2,\n",
       "  [('lenny', 0.0036837597230128453),\n",
       "   ('damme', 0.0032367069274980512),\n",
       "   ('tripe', 0.0030336004835957919),\n",
       "   ('holden', 0.003020773637207401),\n",
       "   ('thru', 0.0026491245812461858),\n",
       "   ('regards', 0.0024140761982043455),\n",
       "   ('sh*t', 0.0023009389111521925),\n",
       "   ('lombard', 0.0021510982766673355),\n",
       "   ('billie', 0.0021420831760376956),\n",
       "   ('abortion', 0.0021280788325080862),\n",
       "   ('interests', 0.0020612590950669029),\n",
       "   ('banderas', 0.0020561248724100161),\n",
       "   ('sleepy', 0.0019779741726638524),\n",
       "   ('diner', 0.0019769808036308669),\n",
       "   ('whale', 0.0018304551762674641),\n",
       "   ('medicine', 0.0017479013330071525),\n",
       "   ('netflix', 0.001696861228589029),\n",
       "   ('hayward', 0.0016769137972008068),\n",
       "   ('nora', 0.0016603628804600097),\n",
       "   ('swinton', 0.0016348048617541365)]),\n",
       " (3,\n",
       "  [('dracula', 0.0033460688661382573),\n",
       "   ('khan', 0.0022482063447010173),\n",
       "   ('candyman', 0.0021789040237836206),\n",
       "   ('bollywood', 0.0019846603718076373),\n",
       "   ('bronson', 0.0018568803566682225),\n",
       "   ('angus', 0.0017685406212587383),\n",
       "   ('cronenberg', 0.0013816565799918011),\n",
       "   ('perry', 0.0013684769132383989),\n",
       "   ('corman', 0.0013338524441769836),\n",
       "   ('fellini', 0.0012949335601071803),\n",
       "   ('t.v', 0.0012779195881581751),\n",
       "   ('kirk', 0.0012670051439328078),\n",
       "   ('aircraft', 0.0012446415774866474),\n",
       "   ('medieval', 0.0012441357025062315),\n",
       "   ('grateful', 0.001179545371418728),\n",
       "   ('unsatisfying', 0.0011657428541245378),\n",
       "   ('fury', 0.0011226627537687913),\n",
       "   ('tool', 0.0011026114360763286),\n",
       "   ('leatherface', 0.0010875857121800418),\n",
       "   ('leopard', 0.0010760203214800993)]),\n",
       " (4,\n",
       "  [('sandler', 0.0021430384104574227),\n",
       "   ('adam', 0.0020658844525360482),\n",
       "   ('shark', 0.0018408441410148815),\n",
       "   ('gore', 0.0015817027469514949),\n",
       "   ('drug', 0.001495470514824166),\n",
       "   ('patrick', 0.0013460146449854259),\n",
       "   ('hotel', 0.0012908523017719374),\n",
       "   ('scientist', 0.0011976191314123938),\n",
       "   ('bodies', 0.0011762089129302869),\n",
       "   ('moore', 0.0011731068481452634),\n",
       "   ('alex', 0.0011646745262998415),\n",
       "   ('connery', 0.0011005558667761144),\n",
       "   ('phantom', 0.0010952739987661114),\n",
       "   ('terror', 0.0010779116193038222),\n",
       "   ('massacre', 0.0010742574627605156),\n",
       "   ('row', 0.0010630853887154191),\n",
       "   ('werewolf', 0.0010625330974719639),\n",
       "   ('trapped', 0.0010539388012429703),\n",
       "   ('pink', 0.0010537811648860893),\n",
       "   ('psycho', 0.0010011130919051507)]),\n",
       " (5,\n",
       "  [('ants', 0.003085298153241258),\n",
       "   ('ripoff', 0.0024927491456163452),\n",
       "   ('ash', 0.0023865743882835831),\n",
       "   ('mysteries', 0.0021212283628516326),\n",
       "   ('sarandon', 0.0020910432680678256),\n",
       "   ('bullock', 0.0020388248564135432),\n",
       "   ('laws', 0.0019984992965137601),\n",
       "   ('egg', 0.0019460480262976072),\n",
       "   ('nikki', 0.0018891407193216913),\n",
       "   ('williamson', 0.0017658489005225829),\n",
       "   ('che', 0.0017561178405792026),\n",
       "   ('debate', 0.0017518494863037898),\n",
       "   ('dive', 0.0017005927193577623),\n",
       "   ('tucci', 0.0016495469764189008),\n",
       "   ('rabbit', 0.0016480136351348076),\n",
       "   ('se', 0.0016262668892477138),\n",
       "   ('invest', 0.0015952881143116028),\n",
       "   ('jeunet', 0.0015706860550892539),\n",
       "   ('dietrich', 0.0015703671685712225),\n",
       "   ('tracy', 0.0015462609834822286)]),\n",
       " (6,\n",
       "  [('laughs', 0.0013761159634398897),\n",
       "   ('de', 0.0012979947409669625),\n",
       "   ('gore', 0.0012955677841542921),\n",
       "   ('company', 0.0012901457655551303),\n",
       "   ('expecting', 0.0012807331741124214),\n",
       "   ('joan', 0.0011813834866677743),\n",
       "   ('century', 0.0011460697567348918),\n",
       "   ('billy', 0.0011185710208938399),\n",
       "   ('dennis', 0.0010691177581147223),\n",
       "   ('places', 0.0010367521160328278),\n",
       "   ('davis', 0.0010308089048515583),\n",
       "   ('train', 0.0010307942846296669),\n",
       "   ('robin', 0.0010207735096481006),\n",
       "   ('christmas', 0.00097884113022895331),\n",
       "   ('outstanding', 0.0009705812929326923),\n",
       "   ('gangster', 0.00097001278331210032),\n",
       "   ('mainly', 0.00096917992277680953),\n",
       "   ('boss', 0.00095769625373615282),\n",
       "   ('bob', 0.00095106704362554664),\n",
       "   ('howard', 0.0009360913707355563)]),\n",
       " (7,\n",
       "  [('flynn', 0.0026856875991870944),\n",
       "   ('dunne', 0.0025168200238756214),\n",
       "   ('bugs', 0.0022944376727694412),\n",
       "   ('woo', 0.0020216388774689262),\n",
       "   ('errol', 0.0017517527678060775),\n",
       "   ('linda', 0.001571606828177425),\n",
       "   ('chicago', 0.0015500717152042889),\n",
       "   ('porky', 0.0014333923132078075),\n",
       "   ('pitt', 0.0013665320238130895),\n",
       "   ('turkish', 0.0013591971534553759),\n",
       "   ('1940', 0.0013281927102099399),\n",
       "   ('coppola', 0.0013256550014182011),\n",
       "   ('daffy', 0.0012916590616177089),\n",
       "   ('kennedy', 0.0011779006080346499),\n",
       "   ('myers', 0.001165629612155127),\n",
       "   ('benjamin', 0.0011528813788264278),\n",
       "   ('cabin', 0.0011410832594577207),\n",
       "   ('columbo', 0.0010962301482459102),\n",
       "   ('lou', 0.0010898756485449045),\n",
       "   ('troll', 0.0010810574109999505)]),\n",
       " (8,\n",
       "  [('bambi', 0.0057905857780021349),\n",
       "   ('karloff', 0.0047986982657740318),\n",
       "   ('lugosi', 0.0046541453200141117),\n",
       "   ('chaney', 0.0043702373567508484),\n",
       "   ('dinosaurs', 0.0037293170069157937),\n",
       "   ('ernest', 0.0033213077813274124),\n",
       "   ('ellen', 0.0030556977475058459),\n",
       "   ('bela', 0.0029512184028009669),\n",
       "   ('melanie', 0.0029219096037440048),\n",
       "   ('bernie', 0.0026408971142895922),\n",
       "   ('griffith', 0.0025583385296373612),\n",
       "   ('marx', 0.0023442838296736331),\n",
       "   ('mimi', 0.0021752275927915893),\n",
       "   ('sundance', 0.0021591417172574048),\n",
       "   ('everett', 0.0021547187600620453),\n",
       "   ('randy', 0.0021428478940917271),\n",
       "   ('lionel', 0.0019490758414464479),\n",
       "   ('lesbians', 0.0019353263741748576),\n",
       "   ('boris', 0.0019195666469756761),\n",
       "   ('andre', 0.0018874890907790019)]),\n",
       " (9,\n",
       "  [('bogart', 0.0018837522133755278),\n",
       "   ('todd', 0.0016969202618102172),\n",
       "   ('jaws', 0.0015646418354413839),\n",
       "   ('henry', 0.0014709280298853765),\n",
       "   ('hopkins', 0.0014138685020093633),\n",
       "   ('predator', 0.0013932829333925534),\n",
       "   ('punk', 0.0013637275152592965),\n",
       "   ('miike', 0.001363035658247407),\n",
       "   ('moore', 0.0012658030406023824),\n",
       "   ('ringu', 0.0011723533960989166),\n",
       "   ('colin', 0.0011610962529748372),\n",
       "   ('broke', 0.0011596055569298835),\n",
       "   ('clark', 0.0010951337412810436),\n",
       "   ('reaches', 0.0010817725531838732),\n",
       "   ('eastwood', 0.0010764649362370439),\n",
       "   ('stomach', 0.0010694470152749504),\n",
       "   ('louise', 0.001057938734537595),\n",
       "   ('crocodile', 0.0010577986343089059),\n",
       "   ('scale', 0.0010327679892954901),\n",
       "   ('fx', 0.0010291566210855027)])]"
      ]
     },
     "execution_count": 79,
     "metadata": {},
     "output_type": "execute_result"
    }
   ],
   "source": [
    "lda_tfidf.show_topics(formatted=False, num_words=20)"
   ]
  },
  {
   "cell_type": "markdown",
   "metadata": {},
   "source": [
    "Visualizing using PyLDAvis  \n",
    "http://nbviewer.jupyter.org/github/bmabey/pyLDAvis/blob/master/notebooks/pyLDAvis_overview.ipynb  "
   ]
  },
  {
   "cell_type": "code",
   "execution_count": 94,
   "metadata": {
    "collapsed": false
   },
   "outputs": [
    {
     "data": {
      "text/html": [
       "\n",
       "<link rel=\"stylesheet\" type=\"text/css\" href=\"https://cdn.rawgit.com/bmabey/pyLDAvis/files/ldavis.v1.0.0.css\">\n",
       "\n",
       "\n",
       "<div id=\"ldavis_el205281399351131265607320294804\"></div>\n",
       "<script type=\"text/javascript\">\n",
       "\n",
       "var ldavis_el205281399351131265607320294804_data = {\"tinfo\": {\"Freq\": [117688.0, 17143.0, 10153.0, 26854.0, 34632.0, 58714.0, 27291.0, 43189.0, 33737.0, 5929.0, 10335.0, 27658.0, 19758.0, 39815.0, 18510.0, 20790.0, 34427.0, 9359.0, 6633.0, 9317.0, 21015.0, 22384.0, 18922.0, 21541.0, 28394.0, 8597.0, 12944.0, 19045.0, 8269.0, 17852.0, 438.5716223020832, 336.94869768799117, 305.83074605462247, 253.7852309273544, 250.8989338764359, 225.44936127528672, 206.47123849393085, 204.47442379265945, 203.21258532231147, 190.63726520758502, 186.69782181013355, 159.065849077817, 147.75651214792265, 145.38107221130596, 141.08257340368647, 140.86952360146324, 138.50507477317703, 136.70329817581757, 134.59839221158458, 134.4845390529718, 127.49732174959084, 123.03361245808586, 123.08943921501012, 120.87955009337617, 117.6375423347091, 111.44274676192819, 110.29161135953099, 107.7763491189935, 107.60342493418432, 101.74472272873665, 1479.1525396639872, 292.9253812594296, 175.69566456751005, 2803.2415611102124, 487.66634217289635, 1107.9171133107604, 871.8338347673699, 11730.902151954468, 12343.096828570724, 435.91373652476375, 24933.17697262751, 957.9386906045851, 8046.736329936611, 58404.0865380371, 5733.195375608423, 1713.692946382631, 1789.4586050818061, 12309.35400553032, 5859.964215816905, 2159.2872087111896, 8739.06268620148, 1380.2437702658842, 1612.7952554844544, 2850.899592396079, 1818.939335629881, 825.9114782529397, 16866.952977727102, 16592.352691637647, 10598.671575121378, 4015.112589836748, 10254.196827526592, 13269.208357433814, 8716.785315302584, 6009.483044541565, 5102.642852193806, 5591.605741942339, 4130.370300395208, 12397.412335651648, 2795.716729734405, 5925.160174364898, 2674.9490196410384, 5936.504809180469, 5040.334155735541, 16516.337489419457, 8477.078977359952, 9504.312378418846, 9702.875866377375, 18478.549511726753, 10381.081511252012, 10243.915539671067, 8800.635871912653, 6515.904834208338, 7265.633927529423, 7278.510013824968, 7301.974120800336, 7884.0583006406505, 6906.333113880676, 6821.453986193367, 6440.432193404208, 564.1498216068188, 513.5944447000414, 343.3357526870881, 339.4589555859312, 333.4158758811333, 325.3786548730496, 312.013810805605, 290.90478024300563, 290.43104402191784, 270.82102718577136, 305.2952608004618, 244.1257793329012, 225.1242757858255, 211.30592077024443, 210.18462473337064, 208.82067417141664, 208.82684100885183, 204.0774688244833, 197.41243654191177, 189.14972492632614, 184.81747872492664, 173.35906890191234, 172.07904698366445, 171.96433090347676, 170.37469970478844, 169.33578867787668, 162.730197008766, 156.67425412290532, 151.36933818380578, 149.01668004810642, 815.6883438357438, 2662.680735547972, 4644.423655525354, 812.0850568939622, 459.8810858357354, 1124.5955831059534, 457.66467448524304, 362.14749298329093, 6529.655988340028, 3216.6891555955785, 561.0158806738774, 1212.495702447533, 1231.957437196926, 3183.7760033070344, 3504.554657393007, 1517.630843246247, 549.6451486907586, 1345.5616721983713, 18361.676710362604, 6824.432135600027, 5009.560633140249, 675.8247639021725, 3094.9224567398865, 3451.4074548444783, 2954.586675880388, 2870.6696669493303, 1212.6096193249732, 4383.000196738398, 3043.1359054391382, 3202.2379669235415, 13460.947920438459, 2883.8795698644126, 7270.370413218508, 2002.7821750505404, 9108.118659101308, 8810.184057642618, 23144.468507236004, 15092.878565529441, 15837.853898534016, 5745.297782569515, 11936.175276226724, 11570.548375986009, 5666.5240023404285, 4775.099406437719, 6391.019884033829, 9795.881170958624, 6689.14848139405, 5305.974042039151, 17961.188119204635, 5811.06018567684, 10253.39078843131, 10173.71853344209, 5715.916032191172, 7342.768724273779, 7091.015622006546, 9066.847794178615, 6211.889182386044, 7217.266999388885, 6938.085147001485, 5967.124852336549, 6151.910663097423, 6175.09107812999, 6457.2779416415815, 5823.305652054022, 2912.0528276849986, 565.0855339137454, 522.700071109318, 521.6931001204551, 417.56286182642117, 370.6188162834567, 339.0683451029918, 328.9363134512844, 325.36506176184383, 295.82957690745184, 285.568766922702, 272.07220457642745, 271.23558037519496, 269.57909347282236, 242.8847343456333, 216.81011783070835, 208.66869570190335, 202.60342509481546, 193.57929414979975, 189.44433180148587, 234.30993271280636, 185.8491522419302, 182.9572017887269, 173.3472390855753, 172.01756488395702, 170.31413993159336, 164.54648896538725, 163.84572170242404, 162.17900662408394, 160.7339473209589, 1919.4944859594716, 838.3595251314111, 1603.0337619917354, 1506.7784001010477, 736.3096009144143, 1253.715554476019, 442.53030015789045, 820.6935316174249, 1591.0654282373796, 237.65125476178616, 3284.2234664711746, 354.9766864745948, 730.2729388427888, 1752.4619257404736, 640.1390341582128, 820.8561150984403, 1428.989958753227, 1295.8241613952705, 6372.743575472653, 2126.123447809054, 6449.42647304434, 1049.4383702007503, 665.565230220747, 8671.200087249399, 2545.8468554596843, 1856.3094152359133, 897.7283546209459, 36742.233164247045, 1756.6024854133316, 951.3892139931512, 1994.0078584066607, 10064.901113281618, 2307.2017538825667, 3033.833975317165, 2232.2316112513317, 1567.3783022474322, 2913.525300837179, 1698.23683651151, 6198.599466585834, 2800.9871849452147, 1927.1049448329163, 3582.944717058166, 4218.207789242025, 6632.8333900321295, 4764.155057243403, 3001.9093831813466, 3177.1419383513316, 8551.966538619472, 4672.928284407061, 4365.284805262894, 5457.172134416178, 3318.152045000243, 4697.381249031356, 4098.759962837441, 2757.9224976778205, 3064.323967081677, 4266.675502296732, 3934.750489850495, 4792.42536514288, 4206.401361179384, 3402.3106930790327, 3108.551243743822, 3053.8978750877573, 2954.970864693339, 387.9821559763393, 350.8908449040385, 323.56900802339834, 308.801506332022, 299.61613811077376, 269.90082471657223, 269.88187137728517, 254.37502196562176, 253.34435881815762, 241.71432338605052, 235.04598171428012, 216.0772159820597, 202.04379385243786, 185.192199859641, 179.71171695201144, 173.27841190121114, 172.5318417687709, 170.4866433290575, 168.51952114293567, 168.60539967951732, 164.8442873650613, 163.08917450071192, 160.41445271303516, 156.17774723562042, 154.29479917345387, 153.81429466586366, 152.12240197809655, 150.67387413778445, 148.59249994578167, 148.47586594522883, 618.5317509799139, 2736.417619997542, 952.1371143243267, 3740.2660317297205, 5628.616873975372, 2248.4640230317195, 433.4138467383788, 2417.751047496577, 3955.873602258164, 592.8865443664936, 2726.8396961169974, 663.3427266253982, 1834.1540725571951, 2807.5981436253796, 923.8794661852098, 669.8084192723429, 511.45801512538577, 1232.7488616586056, 4111.293118377892, 961.5656704461559, 832.4844797875714, 3076.908005364745, 5510.352928714872, 1223.98190012733, 2421.113373050265, 4222.777261881596, 1448.6227187121615, 1043.3111640101897, 6699.91995628912, 1015.3749174106622, 1311.5484055297663, 1535.482580830785, 2000.3406961236958, 2507.8311279012923, 1990.3660963847237, 2920.45464288066, 2425.0653816328913, 3162.7762886373034, 2915.0358706502793, 1905.3465727369428, 2516.972773816328, 2326.5856374540767, 2061.7600209132834, 4045.00567534285, 3134.1686462306184, 4067.1657307831833, 2810.8773629449674, 6445.99168057393, 3665.345464103885, 3988.0244016901297, 2776.8591321040303, 2404.832951455529, 2850.626508989161, 2595.3615039623646, 2949.848817319874, 2734.984643072808, 2586.5209025002623, 2756.9886439043316, 4242.0144311371805, 2041.3942575046979, 1761.876900343536, 1554.68161127621, 781.5559765636217, 607.0503610845226, 505.51638491723907, 428.53851275880663, 419.5357305392133, 344.13543328656806, 316.3159419027259, 302.28365735505486, 220.27864978806318, 212.20498155821585, 200.52707005170183, 200.08406258020997, 193.3459481164833, 182.94368084362188, 181.64276242137535, 179.89503356437356, 172.2729962865382, 163.29260628300563, 160.45962381112034, 158.2756936565241, 156.56400981698295, 156.18402379977147, 150.78151034899062, 149.85577419923382, 144.1112358176126, 139.35106805355676, 1805.8999731374408, 893.7140496705728, 1415.872594449562, 13422.783006742378, 3218.585091517012, 6421.509206299072, 1043.5193930318103, 4956.242130867788, 827.5076864842595, 590.3873361567311, 1612.975955960182, 2878.310344686734, 5221.211997994051, 2913.267668004862, 3625.1672421872295, 329.1383884048963, 1808.526433446858, 717.4554915022693, 2374.601080953952, 5599.8721288176575, 9681.357842115667, 1978.7661649139418, 6972.454247183442, 2964.473297705279, 9179.356953812043, 7330.399203216915, 2982.2107761813427, 5836.639776570931, 3058.320707608888, 7579.9552719950425, 5425.805472551217, 7213.105577750431, 9621.385974532857, 10891.622480848164, 4505.595588568965, 4851.178417716962, 6761.520007017622, 6391.835199859937, 4463.637065275109, 4580.972015164669, 5188.790861156006, 4777.284548222472, 4249.329263318825, 3875.227363079235, 3754.598041109638, 3931.0834033329347, 3441.876352659057, 3504.1952999625987, 1168.1299683493019, 972.4175340368258, 770.7801008252825, 652.4477393179083, 620.6508488163386, 497.81879307666173, 488.6435188587229, 462.1859084366636, 447.69978580175604, 445.20650454663235, 411.5939916749729, 405.2409174088709, 382.41794774634184, 379.5206129868993, 335.862323310581, 332.4942308848254, 330.70453149937697, 324.6607771965294, 317.3688249275101, 316.9711469744571, 312.6463180232755, 310.3629458268275, 308.0394977032195, 296.0919755719172, 292.98303571122176, 291.08242557530207, 290.2036244874172, 290.08473681456337, 285.5860792086496, 281.8371599320106, 1365.8145054387815, 468.4378497223582, 808.1450264582039, 1403.1026668588756, 2291.51201601786, 536.7967662644602, 977.5431055118266, 659.5852702296247, 957.4828987111406, 2404.673192112517, 1747.501150084447, 1617.7865918264943, 4052.5579904850174, 1947.4508730896137, 773.143418618723, 4257.943955384339, 2795.1873405136876, 667.4917417987699, 4022.1184180460546, 2058.584870116143, 3943.317288628497, 1687.4020596141138, 1304.8853683472043, 2314.458909252651, 2184.924676094456, 1191.7051796175153, 1008.6625354725012, 1299.7891830420663, 11065.871177730478, 1346.2244433564053, 3710.001669813659, 2036.030394380999, 1789.8792703831357, 3995.6230563840686, 1634.697807058313, 1751.5433850330924, 5347.680886622421, 1851.180454339524, 1501.6029346764487, 2713.43450100185, 1814.6889162694617, 2593.3081077755123, 2326.388183363373, 1757.4056040309288, 2119.787732147918, 1819.8941225797817, 1920.6708549272614, 1795.571492043662, 1729.2432170154054, 1521.408842643563, 789.3860083232452, 788.5518521632839, 788.465647130393, 707.6300682133224, 688.0783233852576, 687.5983690095482, 607.7936144781776, 495.3477758625838, 440.96317313009007, 412.87120721957155, 392.4192944694507, 372.6413790498391, 360.6766150849226, 355.6959860617839, 351.6798253428743, 342.57662292224546, 305.85476330669934, 303.1974202005295, 299.1328816020078, 296.5191278054516, 293.8054847543575, 292.81882671744603, 288.30266843380514, 286.5679947111985, 283.4725824921024, 283.00746086227906, 277.7428132521467, 277.2016765790224, 275.98743002021376, 315.3691638046785, 1260.8440894554153, 833.2800454594543, 375.10676358258416, 427.35966713487136, 445.4698190408731, 1333.9759670792305, 699.766144538028, 838.0480118267621, 1125.509485789227, 1010.8906300545951, 923.6721591874887, 1589.7632847692369, 4842.607391052078, 873.698972455735, 1316.2553508349686, 772.4937078388641, 1479.103225799351, 971.0898456001514, 678.7627711117316, 778.7735196642707, 1401.8913719897748, 1399.8920003791166, 2604.3272631752297, 1307.0890785101444, 984.8496335939213, 3927.5815016523593, 3081.114617730842, 2190.8556604324694, 2359.945086825186, 1256.9407623567624, 1329.9420196364667, 1815.51692873598, 1529.432544972201, 2236.8977309628744, 2523.721028728417, 2440.448258333433, 2535.0807719413447, 3497.355149165238, 2292.5045966815214, 1035.254401119066, 1307.929606043875, 1661.417989588317, 1672.9729314282054, 1854.4580129303447, 1381.091997511894, 2453.022076067621, 1505.4418083367711, 1645.2282805143816, 1529.299080042689, 1432.2726066364294, 1402.2065135687988, 1379.6749954175477, 10150.530280159746, 2634.2326090211664, 2088.7013400854053, 1682.1401279172749, 1377.6691573991245, 1274.317315058927, 1220.5683075176694, 1044.3480699245558, 1022.3965487948799, 939.6704130714088, 897.6331275314145, 846.8472172617365, 813.2225239818175, 767.4167600370183, 563.9905413573289, 526.8642209835552, 515.8902394743031, 510.4480059977673, 507.25774475016453, 499.2616499900199, 494.1998928596692, 493.82457774521487, 487.77843548872556, 486.3004950537454, 482.9765490919887, 480.6179525798135, 464.71145045479943, 426.02273282245574, 351.03239522038956, 346.32954458396284, 943.1004902232434, 749.416171169691, 2733.630638930532, 4752.2413146344325, 1208.658354445385, 714.4779133468044, 840.1425950008222, 1462.4432418006886, 2672.0820057920355, 2014.34259751104, 2349.9654191301565, 3107.9373319540264, 2185.7830790950375, 2653.5380427933187, 1020.3886423265586, 1461.7369947081154, 1964.3045339644082, 2518.1751253075217, 1572.3219570227557, 2003.2914461698983, 5016.010836722125, 2202.7222224128795, 5405.327114665935, 2638.4716847159707, 1427.9948157684742, 3233.5374772117916, 2313.2599067825477, 2020.0841520115182, 1650.6917324060437, 1785.442752786554, 1773.5036469291654, 1686.5106290066988, 1581.1285398788398, 1346.8213182857646, 1228.8396770888544, 1186.5909868028257, 1031.0621954911044, 976.9051574915701, 971.9401731114347, 658.6776738713742, 648.7645264792185, 642.3007149374984, 541.1904353074385, 539.546152845011, 514.2878239752113, 496.8656907180614, 496.23038472802443, 488.65393900655675, 472.7456131573021, 469.7863581724658, 459.8590325088596, 437.25042188648916, 383.0778106416526, 379.33177892809266, 360.8599156013273, 346.0549359707556, 328.93664485303754, 308.1037389422256, 307.3194955342273, 290.0566955700103, 276.21781813937076, 273.03822328332285, 271.7583148776325, 5874.510516424694, 381.1523323606914, 453.1722075649486, 1132.241030945658, 432.26496191128365, 584.598685819818, 885.2494410260551, 640.7270203187967, 1292.5439374925256, 897.3482475144647, 777.1232713067326, 1297.2718301778675, 1005.1240517222792, 3588.70203926168, 1664.0840316759582, 1649.4810462833711, 1273.4158721917638, 1455.4188942036067, 693.4396573856254, 980.5496843972131, 1108.1240181574888, 1024.763629753987, 1745.3003593609335, 800.4933001851583, 1132.781426554635, 1577.2561703682527, 1010.0107191058008, 1015.7216125846234, 1862.0941876389575, 958.3131030126889, 861.5181932689684, 891.7514802460818, 1260.8188704359504, 1206.8165479345012, 1361.5859490003133, 1028.34323009257, 1120.5062598275497, 1002.80999639244, 1315.3197843800813, 1256.327377878464, 778.270917773295, 690.6398917212815, 552.5522754162364, 515.6641693394587, 474.6700459717132, 420.1174738831261, 395.1333449330762, 358.6476170251302, 349.9815628254222, 329.58374210922227, 328.40256149218317, 325.84010910533345, 281.3635378664937, 277.7865296563036, 261.28333305518794, 234.2428282373102, 232.75364643059459, 225.01626276682043, 224.36133468944865, 223.01431316082363, 222.92265439486596, 222.27483317723016, 218.08529772908759, 211.24597651600888, 210.54508928676316, 208.99005337395025, 205.03251753169224, 201.93857168428917, 447.89553609631184, 329.0893928605641, 1616.1496428098505, 371.2278373501177, 311.3380771766591, 616.6243852724879, 385.84927980396606, 252.4217678986834, 691.100316431463, 1123.1019203752328, 254.6564737904504, 708.6660274418798, 413.1039302414478, 447.2836085574308, 324.3690551530896, 440.9678932503681, 587.7117843232218, 445.0768555187171, 428.6962688074596, 537.2252449608811, 419.23709031552835, 421.6955365128041, 408.9576502872282, 338.9344578753235], \"Category\": [\"Default\", \"Default\", \"Default\", \"Default\", \"Default\", \"Default\", \"Default\", \"Default\", \"Default\", \"Default\", \"Default\", \"Default\", \"Default\", \"Default\", \"Default\", \"Default\", \"Default\", \"Default\", \"Default\", \"Default\", \"Default\", \"Default\", \"Default\", \"Default\", \"Default\", \"Default\", \"Default\", \"Default\", \"Default\", \"Default\", \"Topic1\", \"Topic1\", \"Topic1\", \"Topic1\", \"Topic1\", \"Topic1\", \"Topic1\", \"Topic1\", \"Topic1\", \"Topic1\", \"Topic1\", \"Topic1\", \"Topic1\", \"Topic1\", \"Topic1\", \"Topic1\", \"Topic1\", \"Topic1\", \"Topic1\", \"Topic1\", \"Topic1\", \"Topic1\", \"Topic1\", \"Topic1\", \"Topic1\", \"Topic1\", \"Topic1\", \"Topic1\", \"Topic1\", \"Topic1\", \"Topic1\", \"Topic1\", \"Topic1\", \"Topic1\", \"Topic1\", \"Topic1\", \"Topic1\", \"Topic1\", \"Topic1\", \"Topic1\", \"Topic1\", \"Topic1\", \"Topic1\", \"Topic1\", \"Topic1\", \"Topic1\", \"Topic1\", \"Topic1\", \"Topic1\", \"Topic1\", \"Topic1\", \"Topic1\", \"Topic1\", \"Topic1\", \"Topic1\", \"Topic1\", \"Topic1\", \"Topic1\", \"Topic1\", \"Topic1\", \"Topic1\", \"Topic1\", \"Topic1\", \"Topic1\", \"Topic1\", \"Topic1\", \"Topic1\", \"Topic1\", \"Topic1\", \"Topic1\", \"Topic1\", \"Topic1\", \"Topic1\", \"Topic1\", \"Topic1\", \"Topic1\", \"Topic1\", \"Topic1\", \"Topic1\", \"Topic1\", \"Topic1\", \"Topic1\", \"Topic1\", \"Topic1\", \"Topic1\", \"Topic1\", \"Topic1\", \"Topic1\", \"Topic1\", \"Topic2\", \"Topic2\", \"Topic2\", \"Topic2\", \"Topic2\", \"Topic2\", \"Topic2\", \"Topic2\", \"Topic2\", \"Topic2\", \"Topic2\", \"Topic2\", \"Topic2\", \"Topic2\", \"Topic2\", \"Topic2\", \"Topic2\", \"Topic2\", \"Topic2\", \"Topic2\", \"Topic2\", \"Topic2\", \"Topic2\", \"Topic2\", \"Topic2\", \"Topic2\", \"Topic2\", \"Topic2\", \"Topic2\", \"Topic2\", \"Topic2\", \"Topic2\", \"Topic2\", \"Topic2\", \"Topic2\", \"Topic2\", \"Topic2\", \"Topic2\", \"Topic2\", \"Topic2\", \"Topic2\", \"Topic2\", \"Topic2\", \"Topic2\", \"Topic2\", \"Topic2\", \"Topic2\", \"Topic2\", \"Topic2\", \"Topic2\", \"Topic2\", \"Topic2\", \"Topic2\", \"Topic2\", \"Topic2\", \"Topic2\", \"Topic2\", \"Topic2\", \"Topic2\", \"Topic2\", \"Topic2\", \"Topic2\", \"Topic2\", \"Topic2\", \"Topic2\", \"Topic2\", \"Topic2\", \"Topic2\", \"Topic2\", \"Topic2\", \"Topic2\", \"Topic2\", \"Topic2\", \"Topic2\", \"Topic2\", \"Topic2\", \"Topic2\", \"Topic2\", \"Topic2\", \"Topic2\", \"Topic2\", \"Topic2\", \"Topic2\", \"Topic2\", \"Topic2\", \"Topic2\", \"Topic2\", \"Topic2\", \"Topic2\", \"Topic2\", \"Topic2\", \"Topic2\", \"Topic2\", \"Topic2\", \"Topic3\", \"Topic3\", \"Topic3\", \"Topic3\", \"Topic3\", \"Topic3\", \"Topic3\", \"Topic3\", \"Topic3\", \"Topic3\", \"Topic3\", \"Topic3\", \"Topic3\", \"Topic3\", \"Topic3\", \"Topic3\", \"Topic3\", \"Topic3\", \"Topic3\", \"Topic3\", \"Topic3\", \"Topic3\", \"Topic3\", \"Topic3\", \"Topic3\", \"Topic3\", \"Topic3\", \"Topic3\", \"Topic3\", \"Topic3\", \"Topic3\", \"Topic3\", \"Topic3\", \"Topic3\", \"Topic3\", \"Topic3\", \"Topic3\", \"Topic3\", \"Topic3\", \"Topic3\", \"Topic3\", \"Topic3\", \"Topic3\", \"Topic3\", \"Topic3\", \"Topic3\", \"Topic3\", \"Topic3\", \"Topic3\", \"Topic3\", \"Topic3\", \"Topic3\", \"Topic3\", \"Topic3\", \"Topic3\", \"Topic3\", \"Topic3\", \"Topic3\", \"Topic3\", \"Topic3\", \"Topic3\", \"Topic3\", \"Topic3\", \"Topic3\", \"Topic3\", \"Topic3\", \"Topic3\", \"Topic3\", \"Topic3\", \"Topic3\", \"Topic3\", \"Topic3\", \"Topic3\", \"Topic3\", \"Topic3\", \"Topic3\", \"Topic3\", \"Topic3\", \"Topic3\", \"Topic3\", \"Topic3\", \"Topic3\", \"Topic3\", \"Topic3\", \"Topic3\", \"Topic3\", \"Topic3\", \"Topic3\", \"Topic3\", \"Topic3\", \"Topic3\", \"Topic3\", \"Topic3\", \"Topic3\", \"Topic4\", \"Topic4\", \"Topic4\", \"Topic4\", \"Topic4\", \"Topic4\", \"Topic4\", \"Topic4\", \"Topic4\", \"Topic4\", \"Topic4\", \"Topic4\", \"Topic4\", \"Topic4\", \"Topic4\", \"Topic4\", \"Topic4\", \"Topic4\", \"Topic4\", \"Topic4\", \"Topic4\", \"Topic4\", \"Topic4\", \"Topic4\", \"Topic4\", \"Topic4\", \"Topic4\", \"Topic4\", \"Topic4\", \"Topic4\", \"Topic4\", \"Topic4\", \"Topic4\", \"Topic4\", \"Topic4\", \"Topic4\", \"Topic4\", \"Topic4\", \"Topic4\", \"Topic4\", \"Topic4\", \"Topic4\", \"Topic4\", \"Topic4\", \"Topic4\", \"Topic4\", \"Topic4\", \"Topic4\", \"Topic4\", \"Topic4\", \"Topic4\", \"Topic4\", \"Topic4\", \"Topic4\", \"Topic4\", \"Topic4\", \"Topic4\", \"Topic4\", \"Topic4\", \"Topic4\", \"Topic4\", \"Topic4\", \"Topic4\", \"Topic4\", \"Topic4\", \"Topic4\", \"Topic4\", \"Topic4\", \"Topic4\", \"Topic4\", \"Topic4\", \"Topic4\", \"Topic4\", \"Topic4\", \"Topic4\", \"Topic4\", \"Topic4\", \"Topic4\", \"Topic4\", \"Topic4\", \"Topic4\", \"Topic4\", \"Topic4\", \"Topic4\", \"Topic4\", \"Topic4\", \"Topic4\", \"Topic4\", \"Topic5\", \"Topic5\", \"Topic5\", \"Topic5\", \"Topic5\", \"Topic5\", \"Topic5\", \"Topic5\", \"Topic5\", \"Topic5\", \"Topic5\", \"Topic5\", \"Topic5\", \"Topic5\", \"Topic5\", \"Topic5\", \"Topic5\", \"Topic5\", \"Topic5\", \"Topic5\", \"Topic5\", \"Topic5\", \"Topic5\", \"Topic5\", \"Topic5\", \"Topic5\", \"Topic5\", \"Topic5\", \"Topic5\", \"Topic5\", \"Topic5\", \"Topic5\", \"Topic5\", \"Topic5\", \"Topic5\", \"Topic5\", \"Topic5\", \"Topic5\", \"Topic5\", \"Topic5\", \"Topic5\", \"Topic5\", \"Topic5\", \"Topic5\", \"Topic5\", \"Topic5\", \"Topic5\", \"Topic5\", \"Topic5\", \"Topic5\", \"Topic5\", \"Topic5\", \"Topic5\", \"Topic5\", \"Topic5\", \"Topic5\", \"Topic5\", \"Topic5\", \"Topic5\", \"Topic5\", \"Topic5\", \"Topic5\", \"Topic5\", \"Topic5\", \"Topic5\", \"Topic5\", \"Topic5\", \"Topic5\", \"Topic5\", \"Topic5\", \"Topic5\", \"Topic5\", \"Topic5\", \"Topic5\", \"Topic5\", \"Topic5\", \"Topic5\", \"Topic5\", \"Topic6\", \"Topic6\", \"Topic6\", \"Topic6\", \"Topic6\", \"Topic6\", \"Topic6\", \"Topic6\", \"Topic6\", \"Topic6\", \"Topic6\", \"Topic6\", \"Topic6\", \"Topic6\", \"Topic6\", \"Topic6\", \"Topic6\", \"Topic6\", \"Topic6\", \"Topic6\", \"Topic6\", \"Topic6\", \"Topic6\", \"Topic6\", \"Topic6\", \"Topic6\", \"Topic6\", \"Topic6\", \"Topic6\", \"Topic6\", \"Topic6\", \"Topic6\", \"Topic6\", \"Topic6\", \"Topic6\", \"Topic6\", \"Topic6\", \"Topic6\", \"Topic6\", \"Topic6\", \"Topic6\", \"Topic6\", \"Topic6\", \"Topic6\", \"Topic6\", \"Topic6\", \"Topic6\", \"Topic6\", \"Topic6\", \"Topic6\", \"Topic6\", \"Topic6\", \"Topic6\", \"Topic6\", \"Topic6\", \"Topic6\", \"Topic6\", \"Topic6\", \"Topic6\", \"Topic6\", \"Topic6\", \"Topic6\", \"Topic6\", \"Topic6\", \"Topic6\", \"Topic6\", \"Topic6\", \"Topic6\", \"Topic6\", \"Topic6\", \"Topic6\", \"Topic6\", \"Topic6\", \"Topic6\", \"Topic6\", \"Topic6\", \"Topic6\", \"Topic6\", \"Topic6\", \"Topic7\", \"Topic7\", \"Topic7\", \"Topic7\", \"Topic7\", \"Topic7\", \"Topic7\", \"Topic7\", \"Topic7\", \"Topic7\", \"Topic7\", \"Topic7\", \"Topic7\", \"Topic7\", \"Topic7\", \"Topic7\", \"Topic7\", \"Topic7\", \"Topic7\", \"Topic7\", \"Topic7\", \"Topic7\", \"Topic7\", \"Topic7\", \"Topic7\", \"Topic7\", \"Topic7\", \"Topic7\", \"Topic7\", \"Topic7\", \"Topic7\", \"Topic7\", \"Topic7\", \"Topic7\", \"Topic7\", \"Topic7\", \"Topic7\", \"Topic7\", \"Topic7\", \"Topic7\", \"Topic7\", \"Topic7\", \"Topic7\", \"Topic7\", \"Topic7\", \"Topic7\", \"Topic7\", \"Topic7\", \"Topic7\", \"Topic7\", \"Topic7\", \"Topic7\", \"Topic7\", \"Topic7\", \"Topic7\", \"Topic7\", \"Topic7\", \"Topic7\", \"Topic7\", \"Topic7\", \"Topic7\", \"Topic7\", \"Topic7\", \"Topic7\", \"Topic7\", \"Topic7\", \"Topic7\", \"Topic7\", \"Topic7\", \"Topic7\", \"Topic7\", \"Topic7\", \"Topic7\", \"Topic7\", \"Topic7\", \"Topic7\", \"Topic7\", \"Topic7\", \"Topic7\", \"Topic7\", \"Topic7\", \"Topic7\", \"Topic7\", \"Topic8\", \"Topic8\", \"Topic8\", \"Topic8\", \"Topic8\", \"Topic8\", \"Topic8\", \"Topic8\", \"Topic8\", \"Topic8\", \"Topic8\", \"Topic8\", \"Topic8\", \"Topic8\", \"Topic8\", \"Topic8\", \"Topic8\", \"Topic8\", \"Topic8\", \"Topic8\", \"Topic8\", \"Topic8\", \"Topic8\", \"Topic8\", \"Topic8\", \"Topic8\", \"Topic8\", \"Topic8\", \"Topic8\", \"Topic8\", \"Topic8\", \"Topic8\", \"Topic8\", \"Topic8\", \"Topic8\", \"Topic8\", \"Topic8\", \"Topic8\", \"Topic8\", \"Topic8\", \"Topic8\", \"Topic8\", \"Topic8\", \"Topic8\", \"Topic8\", \"Topic8\", \"Topic8\", \"Topic8\", \"Topic8\", \"Topic8\", \"Topic8\", \"Topic8\", \"Topic8\", \"Topic8\", \"Topic8\", \"Topic8\", \"Topic8\", \"Topic8\", \"Topic8\", \"Topic8\", \"Topic8\", \"Topic8\", \"Topic8\", \"Topic9\", \"Topic9\", \"Topic9\", \"Topic9\", \"Topic9\", \"Topic9\", \"Topic9\", \"Topic9\", \"Topic9\", \"Topic9\", \"Topic9\", \"Topic9\", \"Topic9\", \"Topic9\", \"Topic9\", \"Topic9\", \"Topic9\", \"Topic9\", \"Topic9\", \"Topic9\", \"Topic9\", \"Topic9\", \"Topic9\", \"Topic9\", \"Topic9\", \"Topic9\", \"Topic9\", \"Topic9\", \"Topic9\", \"Topic9\", \"Topic9\", \"Topic9\", \"Topic9\", \"Topic9\", \"Topic9\", \"Topic9\", \"Topic9\", \"Topic9\", \"Topic9\", \"Topic9\", \"Topic9\", \"Topic9\", \"Topic9\", \"Topic9\", \"Topic9\", \"Topic9\", \"Topic9\", \"Topic9\", \"Topic9\", \"Topic9\", \"Topic9\", \"Topic9\", \"Topic9\", \"Topic9\", \"Topic9\", \"Topic9\", \"Topic9\", \"Topic9\", \"Topic9\", \"Topic9\", \"Topic9\", \"Topic9\", \"Topic9\", \"Topic9\", \"Topic9\", \"Topic9\", \"Topic9\", \"Topic9\", \"Topic10\", \"Topic10\", \"Topic10\", \"Topic10\", \"Topic10\", \"Topic10\", \"Topic10\", \"Topic10\", \"Topic10\", \"Topic10\", \"Topic10\", \"Topic10\", \"Topic10\", \"Topic10\", \"Topic10\", \"Topic10\", \"Topic10\", \"Topic10\", \"Topic10\", \"Topic10\", \"Topic10\", \"Topic10\", \"Topic10\", \"Topic10\", \"Topic10\", \"Topic10\", \"Topic10\", \"Topic10\", \"Topic10\", \"Topic10\", \"Topic10\", \"Topic10\", \"Topic10\", \"Topic10\", \"Topic10\", \"Topic10\", \"Topic10\", \"Topic10\", \"Topic10\", \"Topic10\", \"Topic10\", \"Topic10\", \"Topic10\", \"Topic10\", \"Topic10\", \"Topic10\", \"Topic10\", \"Topic10\", \"Topic10\", \"Topic10\", \"Topic10\", \"Topic10\", \"Topic10\", \"Topic10\"], \"logprob\": [30.0, 29.0, 28.0, 27.0, 26.0, 25.0, 24.0, 23.0, 22.0, 21.0, 20.0, 19.0, 18.0, 17.0, 16.0, 15.0, 14.0, 13.0, 12.0, 11.0, 10.0, 9.0, 8.0, 7.0, 6.0, 5.0, 4.0, 3.0, 2.0, 1.0, -8.2059, -8.4695, -8.5664, -8.7529, -8.7643, -8.8713, -8.9592, -8.9689, -8.9751, -9.039, -9.0599, -9.2201, -9.2938, -9.31, -9.34, -9.3416, -9.3585, -9.3716, -9.3871, -9.3879, -9.4413, -9.4769, -9.4765, -9.4946, -9.5218, -9.5759, -9.5863, -9.6093, -9.6109, -9.6669, -6.9902, -8.6095, -9.1206, -6.3509, -8.0998, -7.2792, -7.5188, -4.9194, -4.8685, -8.2119, -4.1654, -7.4246, -5.2964, -3.3143, -5.6354, -6.843, -6.7997, -4.8713, -5.6135, -6.6119, -5.2138, -7.0594, -6.9037, -6.334, -6.7834, -7.5729, -4.5563, -4.5727, -5.0209, -5.9916, -5.054, -4.7962, -5.2164, -5.5883, -5.7519, -5.6604, -5.9633, -4.8641, -6.3535, -5.6024, -6.3977, -5.6005, -5.7642, -4.5773, -5.2443, -5.1299, -5.1092, -4.465, -5.0417, -5.055, -5.2068, -5.5074, -5.3985, -5.3967, -5.3935, -5.3168, -5.4492, -5.4616, -5.519, -7.8934, -7.9873, -8.39, -8.4014, -8.4193, -8.4437, -8.4857, -8.5557, -8.5574, -8.6273, -8.5075, -8.7311, -8.8121, -8.8754, -8.8807, -8.8873, -8.8872, -8.9102, -8.9434, -8.9862, -9.0094, -9.0734, -9.0808, -9.0814, -9.0907, -9.0969, -9.1366, -9.1746, -9.209, -9.2247, -7.5247, -6.3416, -5.7853, -7.5291, -8.0978, -7.2036, -8.1026, -8.3367, -5.4446, -6.1526, -7.899, -7.1283, -7.1124, -6.1629, -6.0669, -6.9038, -7.9195, -7.0242, -4.4107, -5.4005, -5.7096, -7.7128, -6.1912, -6.0822, -6.2376, -6.2664, -7.1282, -5.8432, -6.2081, -6.1571, -4.7212, -6.2618, -5.3372, -6.6264, -5.1118, -5.1451, -4.1792, -4.6068, -4.5586, -5.5726, -4.8414, -4.8725, -5.5864, -5.7576, -5.4661, -5.039, -5.4205, -5.6521, -4.4328, -5.5612, -4.9934, -5.0012, -5.5777, -5.3273, -5.3622, -5.1164, -5.4945, -5.3445, -5.384, -5.5347, -5.5042, -5.5005, -5.4558, -5.5591, -6.0758, -7.7154, -7.7934, -7.7953, -8.0179, -8.1372, -8.2262, -8.2565, -8.2674, -8.3626, -8.3979, -8.4463, -8.4494, -8.4555, -8.5598, -8.6733, -8.7116, -8.7411, -8.7867, -8.8083, -8.5957, -8.8274, -8.8431, -8.8971, -8.9048, -8.9147, -8.9492, -8.9534, -8.9637, -8.9726, -6.4925, -7.3209, -6.6727, -6.7346, -7.4507, -6.9185, -7.9599, -7.3422, -6.6802, -8.5816, -5.9555, -8.1803, -7.4589, -6.5836, -7.5907, -7.342, -6.7876, -6.8855, -5.2926, -6.3903, -5.2806, -7.0964, -7.5517, -4.9846, -6.2101, -6.526, -7.2525, -3.5407, -6.5812, -7.1944, -6.4545, -4.8356, -6.3086, -6.0348, -6.3416, -6.6952, -6.0752, -6.615, -5.3203, -6.1146, -6.4886, -5.8684, -5.7052, -5.2526, -5.5835, -6.0454, -5.9886, -4.9984, -5.6028, -5.6709, -5.4477, -5.9452, -5.5976, -5.7339, -6.1301, -6.0248, -5.6938, -5.7748, -5.5776, -5.708, -5.9202, -6.0105, -6.0282, -6.0611, -7.7746, -7.8751, -7.9561, -8.0028, -8.033, -8.1375, -8.1375, -8.1967, -8.2008, -8.2478, -8.2758, -8.3599, -8.427, -8.5141, -8.5442, -8.5806, -8.585, -8.5969, -8.6085, -8.608, -8.6305, -8.6412, -8.6578, -8.6845, -8.6967, -8.6998, -8.7108, -8.7204, -8.7343, -8.7351, -7.3082, -5.8211, -6.8768, -5.5086, -5.0999, -6.0175, -7.6638, -5.9449, -5.4526, -7.3505, -5.8246, -7.2382, -6.2212, -5.7954, -6.907, -7.2285, -7.4983, -6.6185, -5.414, -6.867, -7.0111, -5.7039, -5.1211, -6.6257, -5.9436, -5.3873, -6.4572, -6.7854, -4.9257, -6.8125, -6.5566, -6.3989, -6.1345, -5.9084, -6.1395, -5.756, -5.9419, -5.6763, -5.7579, -6.1831, -5.9047, -5.9834, -6.1042, -5.4303, -5.6854, -5.4248, -5.7943, -4.9643, -5.5289, -5.4445, -5.8065, -5.9503, -5.7802, -5.8741, -5.746, -5.8217, -5.8775, -5.8136, -5.2926, -6.024, -6.1712, -6.2963, -6.9841, -7.2368, -7.4198, -7.585, -7.6062, -7.8043, -7.8886, -7.934, -8.2505, -8.2878, -8.3444, -8.3466, -8.3809, -8.4362, -8.4433, -8.453, -8.4963, -8.5498, -8.5673, -8.581, -8.5919, -8.5943, -8.6295, -8.6357, -8.6748, -8.7084, -6.1466, -6.85, -6.3899, -4.1407, -5.5687, -4.878, -6.695, -5.137, -6.9269, -7.2646, -6.2595, -5.6804, -5.0849, -5.6683, -5.4497, -7.8489, -6.1451, -7.0697, -5.8728, -5.0149, -4.4674, -6.0551, -4.7956, -5.6509, -4.5207, -4.7456, -5.6449, -4.9735, -5.6197, -4.7121, -5.0464, -4.7617, -4.4736, -4.3496, -5.2323, -5.1584, -4.8264, -4.8826, -5.2416, -5.2157, -5.0911, -5.1737, -5.2908, -5.383, -5.4146, -5.3687, -5.5016, -5.4836, -6.2785, -6.4619, -6.6943, -6.8609, -6.9109, -7.1314, -7.15, -7.2057, -7.2375, -7.2431, -7.3216, -7.3372, -7.3952, -7.4028, -7.525, -7.535, -7.5404, -7.5589, -7.5816, -7.5829, -7.5966, -7.6039, -7.6114, -7.651, -7.6616, -7.6681, -7.6711, -7.6715, -7.6871, -7.7003, -6.1222, -7.1923, -6.6469, -6.0952, -5.6047, -7.0561, -6.4566, -6.8501, -6.4774, -5.5565, -5.8757, -5.9529, -5.0346, -5.7674, -6.6912, -4.9851, -5.406, -6.8381, -5.0421, -5.7119, -5.0619, -5.9107, -6.1678, -5.5947, -5.6523, -6.2585, -6.4253, -6.1717, -4.0301, -6.1366, -5.1229, -5.7229, -5.8518, -5.0487, -5.9425, -5.8734, -4.7573, -5.8181, -6.0274, -5.4357, -5.838, -5.481, -5.5896, -5.8701, -5.6826, -5.8351, -5.7812, -5.8486, -5.8862, -5.9795, -6.6356, -6.6367, -6.6368, -6.745, -6.773, -6.7737, -6.897, -7.1016, -7.2179, -7.2837, -7.3346, -7.3863, -7.4189, -7.4328, -7.4442, -7.4704, -7.5838, -7.5925, -7.606, -7.6148, -7.624, -7.6273, -7.6429, -7.6489, -7.6598, -7.6614, -7.6802, -7.6821, -7.6865, -7.5531, -6.1673, -6.5815, -7.3797, -7.2493, -7.2078, -6.111, -6.7561, -6.5758, -6.2809, -6.3883, -6.4785, -5.9355, -4.8217, -6.5341, -6.1243, -6.6573, -6.0077, -6.4285, -6.7866, -6.6492, -6.0613, -6.0627, -5.442, -6.1313, -6.4144, -5.0311, -5.2738, -5.6148, -5.5405, -6.1704, -6.114, -5.8028, -5.9742, -5.594, -5.4734, -5.5069, -5.4689, -5.1471, -5.5695, -6.3645, -6.1307, -5.8915, -5.8845, -5.7815, -6.0763, -5.5018, -5.99, -5.9013, -5.9743, -6.0399, -6.0611, -6.0773, -4.0256, -5.3746, -5.6066, -5.8231, -6.0228, -6.1007, -6.1438, -6.2998, -6.321, -6.4054, -6.4511, -6.5094, -6.5499, -6.6079, -6.9159, -6.984, -7.005, -7.0156, -7.0219, -7.0378, -7.048, -7.0487, -7.061, -7.0641, -7.0709, -7.0758, -7.1095, -7.1964, -7.39, -7.4035, -6.4017, -6.6316, -5.3375, -4.7845, -6.1536, -6.6793, -6.5173, -5.963, -5.3603, -5.6429, -5.4887, -5.2092, -5.5612, -5.3672, -6.323, -5.9635, -5.668, -5.4196, -5.8906, -5.6484, -4.7305, -5.5534, -4.6558, -5.3729, -5.9869, -5.1696, -5.5045, -5.64, -5.8419, -5.7635, -5.7702, -5.8205, -5.885, -5.83, -5.9216, -5.9566, -6.0971, -6.1511, -6.1562, -6.5452, -6.5604, -6.5704, -6.7417, -6.7447, -6.7927, -6.8272, -6.8284, -6.8438, -6.8769, -6.8832, -6.9046, -6.955, -7.0872, -7.0971, -7.147, -7.1889, -7.2396, -7.305, -7.3076, -7.3654, -7.4143, -7.4259, -7.4306, -4.3571, -7.0923, -6.9192, -6.0035, -6.9664, -6.6645, -6.2496, -6.5729, -5.8711, -6.236, -6.3799, -5.8675, -6.1226, -4.8499, -5.6184, -5.6273, -5.886, -5.7524, -6.4938, -6.1474, -6.025, -6.1033, -5.5708, -6.3502, -6.003, -5.672, -6.1178, -6.1121, -5.506, -6.1703, -6.2768, -6.2423, -5.896, -5.9397, -5.8191, -6.0998, -6.0139, -6.1249, -4.6672, -4.7131, -5.1919, -5.3114, -5.5345, -5.6036, -5.6864, -5.8085, -5.8698, -5.9667, -5.9911, -6.0512, -6.0548, -6.0626, -6.2094, -6.2222, -6.2834, -6.3927, -6.399, -6.4328, -6.4358, -6.4418, -6.4422, -6.4451, -6.4641, -6.496, -6.4993, -6.5067, -6.5258, -6.5411, -5.7445, -6.0527, -4.4612, -5.9322, -6.1081, -5.4248, -5.8936, -6.3179, -5.3107, -4.8252, -6.3091, -5.2856, -5.8253, -5.7458, -6.0671, -5.76, -5.4728, -5.7508, -5.7883, -5.5626, -5.8106, -5.8047, -5.8354, -6.0232], \"loglift\": [30.0, 29.0, 28.0, 27.0, 26.0, 25.0, 24.0, 23.0, 22.0, 21.0, 20.0, 19.0, 18.0, 17.0, 16.0, 15.0, 14.0, 13.0, 12.0, 11.0, 10.0, 9.0, 8.0, 7.0, 6.0, 5.0, 4.0, 3.0, 2.0, 1.0, 1.6692, 1.6686, 1.6683, 1.6677, 1.6676, 1.6672, 1.6669, 1.6668, 1.6668, 1.6665, 1.6664, 1.6656, 1.6652, 1.6651, 1.6649, 1.6649, 1.6648, 1.6647, 1.6646, 1.6646, 1.6642, 1.664, 1.664, 1.6638, 1.6636, 1.6632, 1.6631, 1.6629, 1.6629, 1.6625, 1.5247, 1.6057, 1.6359, 1.4421, 1.5654, 1.482, 1.4939, 1.2513, 1.2375, 1.5473, 1.1218, 1.4514, 1.2123, 0.9705, 1.2305, 1.3688, 1.357, 1.1116, 1.1918, 1.3276, 1.1185, 1.381, 1.3498, 1.2553, 1.3183, 1.4444, 0.9518, 0.9413, 1.0132, 1.1762, 0.9644, 0.9107, 0.9943, 1.0623, 1.0955, 1.0569, 1.1162, 0.8326, 1.1926, 0.9361, 1.1947, 0.8872, 0.938, 0.4029, 0.7002, 0.6164, 0.5974, 0.2361, 0.4067, 0.3136, 0.3274, 0.5856, 0.4042, 0.3657, 0.3588, 0.1737, 0.4605, 0.4271, 0.5502, 1.7303, 1.7301, 1.7293, 1.7292, 1.7292, 1.7291, 1.729, 1.7288, 1.7288, 1.7286, 1.7285, 1.7282, 1.7279, 1.7276, 1.7276, 1.7276, 1.7276, 1.7275, 1.7273, 1.7271, 1.727, 1.7267, 1.7267, 1.7267, 1.7266, 1.7266, 1.7264, 1.7262, 1.726, 1.7259, 1.7254, 1.7103, 1.6772, 1.7079, 1.7109, 1.6869, 1.704, 1.7044, 1.5779, 1.5915, 1.6801, 1.6333, 1.632, 1.552, 1.5283, 1.59, 1.6657, 1.5913, 1.3517, 1.4348, 1.4303, 1.6279, 1.4336, 1.4116, 1.4096, 1.3843, 1.5202, 1.2955, 1.3398, 1.3264, 1.0192, 1.3325, 1.135, 1.4024, 1.0465, 1.0495, 0.8009, 0.8416, 0.81, 1.1139, 0.8652, 0.8604, 1.0963, 1.1533, 1.0261, 0.8496, 0.9526, 1.0283, 0.2684, 0.9586, 0.5409, 0.4894, 0.9544, 0.6803, 0.7071, 0.3917, 0.841, 0.6, 0.5257, 0.7884, 0.596, 0.3998, -0.1685, 0.5355, 1.9079, 1.9066, 1.9065, 1.9065, 1.9061, 1.9058, 1.9056, 1.9055, 1.9055, 1.9052, 1.9051, 1.905, 1.9049, 1.9049, 1.9046, 1.9041, 1.904, 1.9038, 1.9036, 1.9035, 1.9035, 1.9034, 1.9034, 1.9031, 1.9031, 1.903, 1.9028, 1.9028, 1.9027, 1.9027, 1.886, 1.8691, 1.836, 1.8332, 1.8427, 1.8157, 1.8634, 1.8304, 1.7597, 1.8877, 1.6347, 1.8507, 1.7685, 1.6537, 1.7736, 1.7406, 1.6562, 1.6544, 1.3779, 1.5684, 1.3591, 1.6782, 1.7554, 1.2102, 1.4623, 1.5214, 1.6842, 0.7441, 1.5096, 1.6693, 1.4507, 0.8973, 1.3855, 1.1989, 1.2789, 1.4287, 1.135, 1.3871, 0.7421, 1.0626, 1.2903, 0.8919, 0.7033, 0.2614, 0.4348, 0.8657, 0.8012, -0.2973, 0.2974, 0.3119, -0.0791, 0.6138, -0.0634, -0.0271, 0.772, 0.5404, -0.2033, -0.0225, -0.5974, -0.2596, -0.0315, -0.3038, -0.3314, 0.0734, 2.2228, 2.2225, 2.2223, 2.2222, 2.2221, 2.2218, 2.2218, 2.2215, 2.2215, 2.2214, 2.2213, 2.2209, 2.2206, 2.2202, 2.2201, 2.2199, 2.2199, 2.2198, 2.2198, 2.2198, 2.2197, 2.2196, 2.2195, 2.2194, 2.2193, 2.2193, 2.2192, 2.2191, 2.2191, 2.2191, 2.2141, 2.0691, 2.0833, 1.967, 1.9165, 1.9948, 2.1376, 1.9781, 1.9144, 2.097, 1.9364, 2.0827, 1.9629, 1.8957, 2.033, 2.0665, 2.0987, 1.9858, 1.8048, 1.994, 1.993, 1.7171, 1.5676, 1.883, 1.7159, 1.5573, 1.8239, 1.8909, 1.3376, 1.8942, 1.7813, 1.6975, 1.5665, 1.4582, 1.5657, 1.3676, 1.4629, 1.29, 1.3042, 1.548, 1.3663, 1.3964, 1.4562, 0.8329, 0.9711, 0.6269, 1.0345, -0.2632, 0.5641, 0.0695, 0.7853, 1.1088, 0.5274, 0.81, 0.0062, 0.2125, 0.5198, -1.5289, 2.315, 2.3148, 2.3147, 2.3146, 2.3141, 2.3138, 2.3135, 2.3131, 2.3131, 2.3126, 2.3124, 2.3123, 2.3112, 2.311, 2.3108, 2.3108, 2.3106, 2.3104, 2.3103, 2.3103, 2.3101, 2.3098, 2.3097, 2.3096, 2.3096, 2.3095, 2.3093, 2.3093, 2.3091, 2.3089, 2.2674, 2.272, 2.233, 2.0705, 2.0964, 2.0234, 2.1579, 1.922, 2.1125, 2.1315, 1.9336, 1.8228, 1.6957, 1.7776, 1.6837, 2.2044, 1.8063, 2.0174, 1.7003, 1.4601, 1.2788, 1.7447, 1.3389, 1.5533, 1.0136, 1.0571, 1.4404, 1.0958, 1.3466, 0.7784, 0.9611, 0.7463, 0.5065, 0.3515, 1.0568, 0.9541, 0.5422, 0.4047, 0.8586, 0.7288, 0.4229, 0.523, 0.4614, 0.6794, 0.7436, 0.3717, 0.8957, 0.4992, 2.6182, 2.618, 2.6178, 2.6176, 2.6175, 2.6171, 2.6171, 2.617, 2.6169, 2.6169, 2.6168, 2.6167, 2.6166, 2.6166, 2.6163, 2.6162, 2.6162, 2.6162, 2.6161, 2.6161, 2.6161, 2.6161, 2.616, 2.6159, 2.6159, 2.6159, 2.6159, 2.6159, 2.6158, 2.6158, 2.578, 2.5956, 2.5404, 2.4982, 2.4522, 2.5481, 2.4737, 2.5174, 2.4659, 2.3318, 2.3684, 2.3087, 2.1074, 2.2422, 2.4143, 1.9552, 1.9638, 2.4249, 1.7743, 1.9762, 1.5686, 1.9535, 2.0402, 1.6884, 1.7022, 2.0548, 2.1372, 1.9554, 0.2547, 1.9031, 0.9896, 1.4744, 1.5725, 0.6975, 1.6402, 1.5382, -0.0561, 1.4522, 1.7028, 0.5826, 1.293, 0.2713, 0.3201, 1.1184, 0.0142, 0.6399, -0.2907, 0.1856, 0.6789, 2.6531, 2.6526, 2.6526, 2.6526, 2.6524, 2.6524, 2.6524, 2.6522, 2.6519, 2.6517, 2.6515, 2.6514, 2.6513, 2.6512, 2.6512, 2.6512, 2.6511, 2.6508, 2.6508, 2.6507, 2.6507, 2.6507, 2.6507, 2.6506, 2.6506, 2.6506, 2.6506, 2.6505, 2.6505, 2.6505, 2.6502, 2.6327, 2.6036, 2.6326, 2.6127, 2.6075, 2.4737, 2.5483, 2.4838, 2.4324, 2.4456, 2.4471, 2.3374, 1.9993, 2.4017, 2.2785, 2.4214, 2.216, 2.3332, 2.447, 2.377, 2.1345, 2.1094, 1.6873, 2.0511, 2.1885, 1.1034, 1.2183, 1.3736, 1.2759, 1.9194, 1.8236, 1.3771, 1.5382, 0.9268, 0.6391, 0.5448, 0.2773, -0.446, 0.1828, 2.068, 1.451, 0.7973, 0.746, 0.4132, 1.294, -1.217, 0.7659, 0.1329, 0.1186, 0.9004, 0.2022, -0.79, 2.7094, 2.7093, 2.7093, 2.7092, 2.709, 2.709, 2.709, 2.7088, 2.7088, 2.7087, 2.7087, 2.7086, 2.7086, 2.7085, 2.7081, 2.708, 2.708, 2.7079, 2.7079, 2.7079, 2.7079, 2.7079, 2.7079, 2.7079, 2.7078, 2.7078, 2.7078, 2.7076, 2.7071, 2.7071, 2.6877, 2.6513, 2.5292, 2.3762, 2.5722, 2.6431, 2.6082, 2.4762, 2.3193, 2.3303, 2.1419, 2.0344, 2.1366, 1.9608, 2.3587, 2.1028, 1.8719, 1.4089, 1.7242, 1.3534, -0.0294, 1.1487, -0.371, 0.6454, 1.818, -0.1894, 0.2478, -0.1916, 0.705, 0.181, -0.4829, -0.0178, 0.4473, 2.9245, 2.9244, 2.9244, 2.9242, 2.9242, 2.9242, 2.9238, 2.9237, 2.9237, 2.9235, 2.9235, 2.9234, 2.9233, 2.9233, 2.9233, 2.9232, 2.9232, 2.9232, 2.9231, 2.9228, 2.9228, 2.9226, 2.9225, 2.9224, 2.9222, 2.9222, 2.922, 2.9219, 2.9218, 2.9218, 2.9158, 2.9158, 2.8967, 2.8384, 2.8965, 2.8563, 2.7978, 2.7906, 2.6208, 2.6858, 2.7112, 2.5295, 2.6146, 1.8673, 2.2294, 2.2155, 2.2666, 2.1717, 2.6552, 2.3626, 2.2543, 2.2768, 1.6064, 2.4823, 2.0697, 1.6401, 2.1497, 2.1132, 1.1338, 1.9913, 2.2459, 2.0543, 0.1558, 0.3236, -1.1179, 1.1712, -0.2617, 0.5456, 4.1109, 4.1109, 4.1104, 4.1103, 4.11, 4.1098, 4.1097, 4.1094, 4.1093, 4.1091, 4.109, 4.1089, 4.1088, 4.1088, 4.1084, 4.1084, 4.1081, 4.1078, 4.1077, 4.1076, 4.1076, 4.1076, 4.1076, 4.1075, 4.1075, 4.1073, 4.1073, 4.1073, 4.1072, 4.1071, 4.0926, 4.0726, 3.8489, 4.0261, 3.9573, 3.6904, 3.8736, 4.0133, 3.1631, 2.5451, 3.9848, 2.702, 3.3769, 3.2073, 3.644, 3.1297, 1.6692, 2.5082, 2.5037, 1.2538, 2.2792, 0.9125, 0.2771, 3.0427], \"Term\": [\"film\", \"show\", \"horror\", \"bad\", \"really\", \"like\", \"great\", \"good\", \"see\", \"war\", \"action\", \"people\", \"watch\", \"would\", \"love\", \"films\", \"story\", \"role\", \"effects\", \"comedy\", \"think\", \"movies\", \"best\", \"characters\", \"could\", \"series\", \"funny\", \"plot\", \"performance\", \"acting\", \"nikki\", \"ringu\", \"highlander\", \"troll\", \"norris\", \"malkovich\", \"unsatisfying\", \"jolie\", \"dafoe\", \"dolph\", \"poirot\", \"mimi\", \"leonardo\", \"taliban\", \"banderas\", \"underdeveloped\", \"sobieski\", \"bees\", \"willem\", \"angelina\", \"mummies\", \"characterisation\", \"sen\", \"segal\", \"harrelson\", \"keystone\", \"uninspiring\", \"skating\", \"hayek\", \"lundgren\", \"directing\", \"overdone\", \"lesbians\", \"overall\", \"uninteresting\", \"twists\", \"disappointment\", \"acting\", \"plot\", \"4/10\", \"good\", \"disappointing\", \"actors\", \"film\", \"script\", \"predictable\", \"storyline\", \"characters\", \"interesting\", \"slow\", \"scenes\", \"development\", \"average\", \"direction\", \"disappointed\", \"expectations\", \"really\", \"story\", \"character\", \"main\", \"films\", \"much\", \"better\", \"quite\", \"bit\", \"action\", \"ending\", \"well\", \"dialogue\", \"lot\", \"seemed\", \"though\", \"pretty\", \"like\", \"movies\", \"great\", \"could\", \"one\", \"even\", \"would\", \"see\", \"little\", \"first\", \"bad\", \"also\", \"time\", \"made\", \"make\", \"watch\", \"blah\", \"seagal\", \"idiots\", \"toilet\", \"stinks\", \"porky\", \"kidding\", \"pie\", \"rap\", \"moronic\", \"stinker\", \"tripe\", \"fart\", \"absurdity\", \"zohan\", \"dumber\", \"yelling\", \"nope\", \"mins\", \"hockey\", \"karate\", \"vinnie\", \"surfing\", \"midget\", \"freaking\", \"geeks\", \"insulted\", \"boobs\", \"peanuts\", \"dumbest\", \"sucks\", \"crap\", \"stupid\", \"gon\", \"wan\", \"garbage\", \"ha\", \"ya\", \"worst\", \"horrible\", \"idiot\", \"yeah\", \"na\", \"oh\", \"waste\", \"dumb\", \"pile\", \"joke\", \"bad\", \"guy\", \"money\", \"unfunny\", \"guys\", \"awful\", \"worse\", \"laugh\", \"pathetic\", \"someone\", \"terrible\", \"mean\", \"get\", \"supposed\", \"thing\", \"jokes\", \"know\", \"ever\", \"like\", \"even\", \"would\", \"want\", \"could\", \"people\", \"ca\", \"minutes\", \"funny\", \"make\", \"go\", \"got\", \"one\", \"nothing\", \"see\", \"time\", \"going\", \"think\", \"watch\", \"really\", \"something\", \"movies\", \"made\", \"say\", \"seen\", \"way\", \"good\", \"never\", \"documentary\", \"religion\", \"insight\", \"cultural\", \"documentaries\", \"discussion\", \"spiritual\", \"profound\", \"homosexuality\", \"asoka\", \"kurosawa\", \"beliefs\", \"fellini\", \"cassavetes\", \"cultures\", \"reflect\", \"delpy\", \"representation\", \"insights\", \"woodstock\", \"exploration\", \"minnelli\", \"aesthetic\", \"crumb\", \"solondz\", \"dern\", \"controversy\", \"demonstrate\", \"osama\", \"layers\", \"society\", \"understanding\", \"social\", \"culture\", \"humanity\", \"issues\", \"environment\", \"media\", \"subject\", \"philosophical\", \"human\", \"symbolism\", \"filmmaker\", \"message\", \"perspective\", \"issue\", \"emotional\", \"nature\", \"us\", \"art\", \"world\", \"images\", \"religious\", \"life\", \"cinema\", \"reality\", \"emotions\", \"film\", \"view\", \"presented\", \"experience\", \"people\", \"history\", \"audience\", \"lives\", \"gay\", \"true\", \"important\", \"many\", \"american\", \"viewer\", \"may\", \"real\", \"story\", \"films\", \"yet\", \"without\", \"one\", \"way\", \"characters\", \"would\", \"work\", \"see\", \"much\", \"point\", \"director\", \"time\", \"also\", \"like\", \"even\", \"make\", \"could\", \"well\", \"love\", \"maria\", \"giallo\", \"holden\", \"sadako\", \"columbo\", \"cronenberg\", \"emmanuelle\", \"bernie\", \"doyle\", \"orphanage\", \"dakota\", \"rani\", \"juan\", \"wilbur\", \"stumbles\", \"lola\", \"architect\", \"conway\", \"kinski\", \"saif\", \"patients\", \"1954\", \"d'amato\", \"housekeeper\", \"sanjay\", \"frankie\", \"snowblood\", \"williamson\", \"sitcoms\", \"jess\", \"murderer\", \"murder\", \"apartment\", \"mother\", \"woman\", \"finds\", \"prostitute\", \"husband\", \"father\", \"laura\", \"daughter\", \"rape\", \"begins\", \"son\", \"hospital\", \"discovers\", \"emily\", \"decides\", \"wife\", \"victim\", \"accident\", \"house\", \"young\", \"doctor\", \"becomes\", \"girl\", \"sister\", \"sees\", \"man\", \"mysterious\", \"eventually\", \"tells\", \"turns\", \"home\", \"town\", \"takes\", \"sex\", \"family\", \"goes\", \"starts\", \"death\", \"women\", \"boy\", \"scene\", \"seems\", \"two\", \"gets\", \"one\", \"little\", \"story\", \"old\", \"comes\", \"end\", \"around\", \"also\", \"character\", \"back\", \"film\", \"episode\", \"episodes\", \"season\", \"disney\", \"cartoons\", \"bambi\", \"seasons\", \"aired\", \"candyman\", \"snoopy\", \"travolta\", \"sopranos\", \"looney\", \"reilly\", \"abc\", \"spock\", \"marple\", \"someday\", \"manga\", \"nbc\", \"harding\", \"pokemon\", \"aubrey\", \"canceled\", \"maury\", \"aladdin\", \"shatner\", \"astro\", \"reruns\", \"cbs\", \"animation\", \"anime\", \"cartoon\", \"show\", \"loved\", \"series\", \"animated\", \"tv\", \"christmas\", \"bugs\", \"television\", \"remember\", \"saw\", \"kids\", \"dvd\", \"cried\", \"ago\", \"adults\", \"children\", \"years\", \"great\", \"favorite\", \"love\", \"watched\", \"see\", \"first\", \"shows\", \"watch\", \"family\", \"time\", \"think\", \"really\", \"like\", \"one\", \"still\", \"best\", \"would\", \"good\", \"seen\", \"movies\", \"story\", \"well\", \"also\", \"many\", \"know\", \"get\", \"back\", \"characters\", \"jane\", \"adaptation\", \"flynn\", \"bogart\", \"fonda\", \"chaney\", \"scorsese\", \"welles\", \"errol\", \"willis\", \"watson\", \"burt\", \"norman\", \"beatles\", \"leigh\", \"diana\", \"duvall\", \"potter\", \"lana\", \"philip\", \"hoffman\", \"humphrey\", \"niro\", \"tarzan\", \"carrey\", \"damme\", \"edwards\", \"phantasm\", \"o'hara\", \"everett\", \"henry\", \"sir\", \"wayne\", \"bruce\", \"novel\", \"batman\", \"howard\", \"warner\", \"davis\", \"robert\", \"peter\", \"richard\", \"john\", \"james\", \"douglas\", \"performance\", \"version\", \"ford\", \"role\", \"mr\", \"cast\", \"michael\", \"de\", \"book\", \"performances\", \"paul\", \"oscar\", \"supporting\", \"film\", \"british\", \"best\", \"actor\", \"production\", \"great\", \"picture\", \"classic\", \"one\", \"excellent\", \"fine\", \"films\", \"screen\", \"also\", \"made\", \"played\", \"well\", \"years\", \"time\", \"character\", \"director\", \"grant\", \"woody\", \"cagney\", \"powell\", \"chaplin\", \"kelly\", \"cary\", \"keaton\", \"wilder\", \"harold\", \"rogers\", \"barrymore\", \"costello\", \"stanwyck\", \"norma\", \"pammy\", \"judy\", \"bloom\", \"loy\", \"nathan\", \"hughes\", \"sally\", \"arkin\", \"daffy\", \"waitress\", \"dorothy\", \"screwball\", \"diane\", \"musicals\", \"violin\", \"stan\", \"allen\", \"singer\", \"hudson\", \"broadway\", \"irene\", \"dance\", \"sandler\", \"eddie\", \"charlie\", \"singing\", \"bob\", \"musical\", \"comedy\", \"dancing\", \"joe\", \"jerry\", \"romantic\", \"comedies\", \"murphy\", \"adam\", \"tom\", \"brothers\", \"plays\", \"york\", \"mary\", \"love\", \"funny\", \"played\", \"role\", \"song\", \"hilarious\", \"play\", \"playing\", \"new\", \"best\", \"two\", \"great\", \"one\", \"also\", \"bill\", \"stars\", \"young\", \"cast\", \"life\", \"star\", \"film\", \"big\", \"character\", \"little\", \"performance\", \"man\", \"good\", \"horror\", \"gore\", \"monster\", \"alien\", \"zombie\", \"vampire\", \"slasher\", \"zombies\", \"aliens\", \"dracula\", \"monsters\", \"holmes\", \"gory\", \"shark\", \"vampires\", \"godzilla\", \"ninja\", \"scares\", \"cannibal\", \"freddy\", \"demon\", \"halloween\", \"predator\", \"chainsaw\", \"jaws\", \"satan\", \"werewolf\", \"13th\", \"sherlock\", \"romero\", \"creature\", \"massacre\", \"blood\", \"effects\", \"giant\", \"metal\", \"scientist\", \"sci-fi\", \"game\", \"scary\", \"killer\", \"special\", \"evil\", \"dead\", \"cult\", \"sequel\", \"budget\", \"original\", \"fans\", \"fun\", \"one\", \"pretty\", \"film\", \"films\", \"flick\", \"like\", \"also\", \"even\", \"look\", \"movies\", \"good\", \"first\", \"scenes\", \"government\", \"military\", \"soldiers\", \"president\", \"arts\", \"martial\", \"nazi\", \"soldier\", \"dunne\", \"vietnam\", \"hong\", \"fu\", \"agents\", \"karloff\", \"lugosi\", \"kung\", \"chan\", \"connery\", \"prisoners\", \"iraq\", \"union\", \"jet\", \"nazis\", \"streep\", \"li\", \"melanie\", \"che\", \"sharpe\", \"bela\", \"soviet\", \"war\", \"terrorists\", \"terrorist\", \"army\", \"oil\", \"fbi\", \"officer\", \"enemy\", \"prison\", \"agent\", \"russian\", \"battle\", \"german\", \"action\", \"fight\", \"police\", \"crime\", \"hero\", \"leader\", \"fighting\", \"cop\", \"gun\", \"american\", \"match\", \"country\", \"men\", \"lee\", \"america\", \"world\", \"general\", \"gang\", \"team\", \"two\", \"man\", \"one\", \"death\", \"also\", \"us\", \"ship\", \"indian\", \"india\", \"khan\", \"bollywood\", \"westerns\", \"mickey\", \"eastwood\", \"titanic\", \"santa\", \"jake\", \"dinosaurs\", \"ho\", \"clint\", \"spaghetti\", \"ali\", \"sinbad\", \"lime\", \"liam\", \"mars\", \"roswell\", \"kapoor\", \"stallone\", \"dodge\", \"bachchan\", \"django\", \"akbar\", \"pierce\", \"colbert\", \"it`s\", \"indians\", \"navy\", \"western\", \"jenny\", \"mitchum\", \"wars\", \"jesse\", \"luke\", \"harry\", \"star\", \"pirate\", \"jack\", \"mexican\", \"planet\", \"phantom\", \"captain\", \"john\", \"songs\", \"crew\", \"role\", \"song\", \"action\", \"best\", \"dirty\"], \"Total\": [117688.0, 17143.0, 10153.0, 26854.0, 34632.0, 58714.0, 27291.0, 43189.0, 33737.0, 5929.0, 10335.0, 27658.0, 19758.0, 39815.0, 18510.0, 20790.0, 34427.0, 9359.0, 6633.0, 9317.0, 21015.0, 22384.0, 18922.0, 21541.0, 28394.0, 8597.0, 12944.0, 19045.0, 8269.0, 17852.0, 439.46404516258883, 337.84018279311283, 306.72230627332834, 254.67696678745244, 251.79070738188975, 226.3410265547631, 207.36287157218217, 205.36597385599939, 204.1044112196339, 191.52873855219735, 187.58940240926302, 159.9577387182118, 148.6500379436204, 146.27329447188495, 141.9740514674368, 141.76105767045445, 139.39714920665804, 137.59501388217643, 135.4901835552863, 135.37604500056733, 128.38906177339103, 123.92523861005952, 123.98170073966942, 121.77114747264432, 118.52922794652906, 112.3345968956555, 111.18320048679466, 108.6684133415623, 108.4949491474021, 102.6361662411063, 1712.4617778863815, 312.7549179562285, 182.00768919996204, 3524.895679423924, 542.0777530128969, 1338.705563422208, 1040.979096252778, 17852.781249954212, 19045.169626627183, 493.4271144065894, 43189.108234648, 1193.4433609959242, 12732.594445854062, 117688.86901157883, 8908.054862641075, 2318.671120344523, 2450.1095258303267, 21541.2768698309, 9464.17042343654, 3044.529623207123, 15187.611128722947, 1845.004224850899, 2224.042877136541, 4321.238968607061, 2588.758645608153, 1036.121581384101, 34632.059800449475, 34427.22639475716, 20464.36587555755, 6586.785217557358, 20790.942823652713, 28388.41005306343, 17152.94748550604, 11047.573060096262, 9074.11640974622, 10335.714581317892, 7194.959625744848, 28676.379431438283, 4511.761988558672, 12357.860413337194, 4307.941023543575, 13002.492120932948, 10492.799772238002, 58714.55890757078, 22384.32363734457, 27291.626955122865, 28394.31763024673, 77609.87116109279, 36760.90842239693, 39815.9640913574, 33737.3293857745, 19295.57544611356, 25792.948283498925, 26854.405217665826, 27127.806095999826, 35244.49305709414, 23177.088888325874, 23669.162008933177, 19758.657420354582, 565.0421734136236, 514.4868100626994, 344.22815247944914, 340.3513641561603, 334.30820763841683, 326.2712722628151, 312.90617090067366, 291.7972489433447, 291.3234436775111, 271.7134295465336, 306.31142463504386, 245.0277797892691, 226.01662341468545, 212.19876035822125, 211.0770571971881, 209.71301879878536, 209.71928212601992, 204.96984232020992, 198.305269713599, 190.04211900988255, 185.70989107291604, 174.25152297684053, 172.97140074906, 172.85686100678362, 171.267040101545, 170.2282455873136, 163.62259506052746, 157.566650164023, 152.262068261837, 149.90901319353384, 820.9762247037168, 2720.63411849994, 4905.473563127665, 831.8058854377934, 469.62763977724546, 1176.3276480299633, 470.57823684626584, 372.21865445410856, 7616.378405618779, 3701.3834482484954, 590.8106505991848, 1338.0631212401663, 1361.2843634610902, 3811.130273383249, 4295.757630827417, 1748.84418115914, 587.2094944386861, 1548.5550436767492, 26854.405217665826, 9184.70977123596, 6772.790257673797, 749.8401496454969, 4170.284069223874, 4754.222712486804, 4078.212724199033, 4063.6545114753653, 1498.368703697398, 6780.574989474854, 4503.77369727784, 4803.109034316363, 27452.88095689439, 4299.591473028745, 13205.474722115025, 2784.3620286674573, 18075.39890261464, 17432.02018014408, 58714.55890757078, 36760.90842239693, 39815.9640913574, 10657.849572588248, 28394.31763024673, 27658.458939993172, 10699.196536658887, 8515.840277043952, 12944.325047911161, 23669.162008933177, 14581.030123968592, 10722.449924274466, 77609.87116109279, 12591.268003233463, 33737.3293857745, 35244.49305709414, 12437.311340212063, 21015.098587015353, 19758.657420354582, 34632.059800449475, 15139.020471594544, 22384.32363734457, 23177.088888325874, 15327.87103385926, 19156.12078225782, 23397.226986889353, 43189.108234648, 19263.385676242902, 2912.943746341028, 565.9764423999017, 523.5909634176281, 522.584005032956, 418.4537125175739, 371.5097871163636, 339.9592224925082, 329.82717354231386, 326.25597304590605, 296.7207842351915, 286.45963788810576, 272.9631471992295, 272.1264154977987, 270.4704790014003, 243.77563302029952, 217.70100058047495, 209.5596803946003, 203.49435184762, 194.47017988777182, 190.33562281983504, 235.41884005488922, 186.74022281705388, 183.848211728067, 174.2380397823041, 172.90838035266347, 171.2050922100712, 165.43748218901274, 164.73671376170208, 163.0699890054287, 161.62484215726417, 1962.5899951829135, 871.8118410867323, 1723.016966955885, 1624.2372443186175, 786.1480824992482, 1375.23882286947, 462.826576237881, 887.1257070857481, 1845.748547444404, 242.58322533153154, 4317.551332201021, 375.98056819658507, 839.7386453073991, 2260.4002044462245, 732.3946918431209, 970.6498120842102, 1838.5972218705049, 1670.2442869644285, 10830.27634323137, 2986.4441128289454, 11168.149145228366, 1320.8082652648425, 775.466150937414, 17427.542040421176, 3976.5186132918197, 2733.084169970918, 1123.1272225056864, 117688.86901157883, 2616.8322351506145, 1208.1770518480314, 3150.738543091006, 27658.458939993172, 3891.199593632201, 6166.808525146523, 4188.376677325164, 2531.6791266451705, 6312.642898702367, 2859.675985976569, 19894.93048505766, 6524.995381448993, 3574.903066782479, 9899.732580862375, 14074.358335146397, 34427.22639475716, 20790.942823652713, 8514.504296653811, 9611.776376949336, 77609.87116109279, 23397.226986889353, 21541.2768698309, 39815.9640913574, 12107.141411199605, 33737.3293857745, 28388.41005306343, 8591.156984071662, 12033.097425914073, 35244.49305709414, 27127.806095999826, 58714.55890757078, 36760.90842239693, 23669.162008933177, 28394.31763024673, 28676.379431438283, 18510.12190931813, 388.87453354286015, 351.7830976410009, 324.46145957957003, 309.6937568111312, 300.50838379297016, 270.79320824249737, 270.7742192029999, 255.2674774563407, 254.23697668247533, 242.60670597077242, 235.9383847925092, 216.97043515205075, 202.9362040967965, 186.08447708901386, 180.60403347627096, 174.1708191314596, 173.42419957380923, 171.37908660606652, 169.41185693580024, 169.49845469217203, 165.73655450925736, 163.98181301457555, 161.30680573073136, 157.07008853209123, 155.18775984268913, 154.70668148532874, 153.01469901799277, 151.56665322439144, 149.48527470966002, 149.36815377199798, 625.312167261604, 3198.3548748541807, 1097.1101850481991, 4841.578012966402, 7662.868409469275, 2830.6522182894405, 473.01152649677624, 3094.928142546944, 5396.839771114403, 673.8635286792698, 3639.17084317164, 764.816352567304, 2383.877101239693, 3902.711607349029, 1119.447030948619, 784.873470470077, 580.3260409666763, 1566.0180582151893, 6258.938961938071, 1211.4754574619053, 1049.9684383485699, 5113.491157933027, 10633.957778632599, 1723.1721601899817, 4028.5700278543154, 8233.777448534089, 2163.657988186571, 1457.2635752672854, 16273.620192640712, 1413.5384033551657, 2044.0605098927074, 2602.353109047818, 3864.5918431958803, 5399.296926785537, 3848.350094783049, 6884.265278043659, 5196.517704004193, 8056.31033989097, 7320.754300980582, 3749.736817392401, 5940.699363266303, 5328.441171921725, 4448.015937716801, 16275.135690715564, 10982.691468963205, 20107.63786736565, 9244.724399213374, 77609.87116109279, 19295.57544611356, 34427.22639475716, 11716.959704410461, 7343.011743846614, 15567.453537485731, 10684.136089874512, 27127.806095999826, 20464.36587555755, 14232.998891700301, 117688.86901157883, 4242.903406349123, 2042.2831893979435, 1762.7658286935296, 1555.5705443656905, 782.4449268014578, 607.9392327847529, 506.40528303999304, 429.4274499812567, 420.4247472863148, 345.0243766027143, 317.20508866339003, 303.172666812857, 221.16758543918056, 213.09430938473412, 201.4160109216471, 200.97307254337187, 194.23495660581628, 183.83264972630437, 182.53174310921463, 180.78397739828367, 173.16210255289272, 164.181570739515, 161.34906488344276, 159.1645994465725, 157.45314766902234, 157.07290549950622, 151.67064411191248, 150.74469386555117, 145.00013423764673, 140.2400192540302, 1894.2950467145838, 933.2331689226268, 1537.2529568605366, 17143.86634031318, 4005.8253025322715, 8597.473751182655, 1221.2971332402929, 7344.02247726672, 1013.5093014500089, 709.4731867771604, 2362.454588309604, 4709.782739267868, 9700.985841823622, 4987.107351690633, 6816.669955247488, 367.70279049288007, 3008.3219328320397, 966.3324470910354, 4391.80664105749, 13168.57574795369, 27291.626955122865, 3500.7963211478004, 18510.12190931813, 6351.117296978961, 33737.3293857745, 25792.948283498925, 7152.425885862391, 19758.657420354582, 8056.31033989097, 35244.49305709414, 21015.098587015353, 34632.059800449475, 58714.55890757078, 77609.87116109279, 15859.580977248508, 18922.07098364144, 39815.9640913574, 43189.108234648, 19156.12078225782, 22384.32363734457, 34427.22639475716, 28676.379431438283, 27127.806095999826, 19894.93048505766, 18075.39890261464, 27452.88095689439, 14232.998891700301, 21541.2768698309, 1169.0193256967718, 973.3069071772233, 771.6693483867823, 653.3370318387788, 621.540188594825, 498.7080814375299, 489.532827195303, 463.07520110403334, 448.58906184394016, 446.09587283075547, 412.4833271485292, 406.13024320714675, 383.3073590442874, 380.40999466331806, 336.75166359028066, 333.3836177058795, 331.5938465935817, 325.55014109699664, 318.25813750196755, 317.86048077400403, 313.53563038415774, 311.2522339835846, 308.92877493140895, 296.981335351869, 293.8723717473364, 291.9718548705624, 291.09298389388283, 290.9740466812937, 286.475352400165, 282.7265445553374, 1422.8815361663676, 479.50000046448355, 874.1653452218799, 1583.151178094731, 2707.2498598389457, 576.2010879411522, 1130.3245606286102, 730.0366484416161, 1115.8448849629563, 3204.3997933711807, 2245.081384704511, 2206.2428749257447, 6758.647709065588, 2838.4004068383665, 948.706487378611, 8269.195364062934, 5381.844863631362, 810.4022859061256, 9359.484056277342, 3914.593634905035, 11272.02202456978, 3282.491489381483, 2327.5446896698973, 5868.964958805418, 5464.606260824939, 2094.9567681179556, 1632.91759938053, 2523.642166774497, 117688.86901157883, 2754.181579841299, 18922.07098364144, 6394.853079787839, 5096.4606002375385, 27291.626955122865, 4349.989908665416, 5161.659480229123, 77609.87116109279, 5944.906171569916, 3753.458618379877, 20790.942823652713, 6833.259546606205, 27127.806095999826, 23177.088888325874, 7880.170866016726, 28676.379431438283, 13168.57574795369, 35244.49305709414, 20464.36587555755, 12033.097425914073, 1522.2997205254694, 790.2768657594124, 789.4426769075428, 789.3565002209726, 708.520884311648, 688.9692179944767, 688.4892014006704, 608.6844217711931, 496.2386219867832, 441.8540364297144, 413.76208332632905, 393.31010604361666, 373.53222091885505, 361.56745980143046, 356.5867734697308, 352.5712785145849, 343.47426652320496, 306.7456455009, 304.0882499932556, 300.0238337372071, 297.4099979917743, 294.6963589339348, 293.7098352973608, 289.19359844266063, 287.4589588995868, 284.3634165634298, 283.8982630661624, 278.6337275120169, 278.09258734203246, 276.8784730767196, 316.4819084204653, 1287.574721813385, 876.0984760308672, 383.1191365382269, 445.2294983510583, 466.525838311381, 1597.1221777006056, 777.5471349769205, 993.2339528069318, 1404.2663392340348, 1244.750851249009, 1135.6377808722825, 2181.2733962154202, 9317.53162701725, 1124.068839354776, 1915.5864362369223, 974.4803816744372, 2291.3989751106556, 1338.0155293876915, 834.6128388062828, 1027.0395693045216, 2356.1068010534923, 2412.479446994543, 6845.277313632477, 2387.829405831614, 1568.2882153903533, 18510.12190931813, 12944.325047911161, 7880.170866016726, 9359.484056277342, 2619.6025937549457, 3050.4245158148365, 6507.861392069855, 4666.499896624736, 12578.33181584009, 18922.07098364144, 20107.63786736565, 27291.626955122865, 77609.87116109279, 27127.806095999826, 1859.5698524173567, 4354.098876075087, 10633.957778632599, 11272.02202456978, 17427.542040421176, 5379.522868913752, 117688.86901157883, 9942.806421638403, 20464.36587555755, 19295.57544611356, 8269.195364062934, 16273.620192640712, 43189.108234648, 10153.493407548633, 2635.1258503154017, 2089.594612368642, 1683.0334238068658, 1378.5623836061402, 1275.2105688142524, 1221.4615317574096, 1045.241293351881, 1023.2898533507515, 940.5636705906319, 898.5264227633726, 847.7405683638984, 814.1158040493036, 768.3100333323073, 564.8838032854552, 527.7574288551889, 516.7835012201924, 511.3412821979997, 508.1509766927351, 500.15497119203457, 495.09315826373654, 494.7178583679096, 488.6717171904389, 487.1937448387164, 483.8698387773022, 481.5112824806683, 465.6046570881056, 426.9160265426948, 351.92573950660807, 347.2280301392502, 964.0335617740296, 794.5040656161331, 3274.2002749494964, 6633.511775000892, 1386.8120782926844, 763.6550611843929, 929.9164107510363, 1847.0974944869886, 3948.033012857367, 2943.604016022866, 4146.271793092607, 6105.744592638354, 3877.1287951233403, 5611.107141086731, 1449.3780892245334, 2681.7398398536748, 4540.193717451325, 9246.906772040002, 4212.229657474905, 7776.52144930993, 77609.87116109279, 10492.799772238002, 117688.86901157883, 20790.942823652713, 3483.0734708125565, 58714.55890757078, 27127.806095999826, 36760.90842239693, 12253.795900024757, 22384.32363734457, 43189.108234648, 25792.948283498925, 15187.611128722947, 1347.7153291616644, 1229.7330257821313, 1187.4843447122635, 1031.9555544592517, 977.7985571943998, 972.8335058617077, 659.5710823834462, 649.6578595933837, 643.1943567968708, 542.0838445697331, 540.4395200927776, 515.1811556937691, 497.759120982921, 497.12373383328304, 489.5473020299262, 473.6389473782501, 470.67974245524186, 460.75244430190673, 438.14380467897126, 383.9711657912413, 380.22514876041964, 361.7532852411553, 346.94831912656946, 329.8301009198765, 308.99703796616114, 308.2131870446963, 290.9499740701128, 277.1111189621476, 273.931636669281, 272.6515936625262, 5929.325966533617, 384.73661521089423, 466.22266231721164, 1234.7765654912253, 444.83379080161814, 626.2190630123931, 1005.4328875752545, 732.9446376415381, 1752.364805203517, 1139.9764625652367, 962.4412428364215, 1926.7477301282042, 1371.1339676131, 10335.714581317892, 3336.62646677053, 3353.6214392465267, 2460.2464670410927, 3091.616429202512, 908.3375940333491, 1720.9421968221438, 2167.3659005088034, 1959.691359796132, 6524.995381448993, 1246.4756026400112, 2664.787909970376, 5701.499304361723, 2193.1359467515085, 2287.6889256733657, 11168.149145228366, 2438.1107566549153, 1699.2319677690257, 2130.2573665612645, 20107.63786736565, 16273.620192640712, 77609.87116109279, 5940.699363266303, 27127.806095999826, 10830.27634323137, 1316.2165403668475, 1257.2230517528808, 779.166580277591, 691.5354963763602, 553.4478774948356, 516.5598344831618, 475.5658237074234, 421.0131638005951, 396.02911497125706, 359.5433477138766, 350.8773041743513, 330.47954498103906, 329.298238421798, 326.7358550246916, 282.2591728028723, 278.68217926225515, 262.17903417261624, 235.13870307465425, 233.65139530010808, 225.9120513772701, 225.25736058380122, 223.9098941583027, 223.8183304627972, 223.1705498325382, 218.98088936006096, 212.14159950918838, 211.44067419100244, 209.88583619977368, 205.92819081650075, 202.83420369495977, 456.45848399434885, 342.1784966961629, 2101.5569775791187, 404.348372982625, 363.2767441197523, 939.5946704058563, 489.5051524608793, 278.4735728102892, 1784.3293536920037, 5379.522868913752, 289.0763985091673, 2901.3668015915428, 861.212666919326, 1104.846464209591, 517.7207578490637, 1177.1516942536027, 6758.647709065588, 2211.902118417099, 2140.187581787292, 9359.484056277342, 2619.6025937549457, 10335.714581317892, 18922.07098364144, 987.0125621369352]}, \"plot.opts\": {\"xlab\": \"PC1\", \"ylab\": \"PC2\"}, \"R\": 30, \"topic.order\": [5, 2, 8, 9, 4, 10, 3, 6, 1, 7], \"token.table\": {\"Topic\": [8, 4, 1, 8, 5, 2, 2, 4, 5, 7, 8, 9, 1, 2, 3, 5, 6, 7, 8, 1, 5, 8, 9, 10, 1, 2, 5, 6, 7, 9, 10, 1, 2, 3, 5, 6, 7, 2, 5, 7, 9, 6, 3, 4, 5, 3, 2, 7, 9, 9, 1, 2, 3, 4, 5, 6, 8, 9, 5, 10, 5, 10, 8, 8, 4, 6, 7, 1, 2, 3, 4, 5, 6, 7, 8, 9, 10, 2, 3, 5, 6, 7, 9, 1, 2, 3, 5, 6, 7, 8, 9, 1, 5, 8, 5, 8, 5, 8, 4, 7, 4, 7, 8, 9, 1, 2, 3, 4, 5, 6, 7, 8, 9, 1, 2, 3, 6, 7, 8, 9, 3, 5, 5, 1, 2, 3, 4, 5, 7, 1, 2, 3, 4, 5, 8, 9, 1, 2, 8, 10, 1, 2, 3, 4, 5, 6, 7, 8, 9, 10, 1, 2, 8, 5, 1, 7, 6, 8, 3, 5, 6, 8, 9, 10, 6, 1, 2, 3, 4, 7, 8, 9, 10, 1, 3, 4, 7, 8, 9, 10, 9, 3, 4, 1, 2, 3, 4, 5, 6, 7, 8, 9, 10, 1, 2, 3, 5, 6, 7, 8, 9, 1, 2, 3, 4, 5, 6, 7, 8, 9, 10, 2, 3, 5, 6, 7, 8, 1, 2, 3, 4, 5, 6, 7, 8, 9, 2, 2, 3, 4, 8, 9, 7, 2, 5, 6, 7, 6, 10, 2, 1, 2, 3, 5, 6, 2, 4, 5, 7, 1, 2, 3, 4, 5, 6, 9, 6, 7, 1, 2, 3, 5, 6, 7, 10, 6, 8, 9, 1, 2, 8, 2, 5, 6, 1, 2, 3, 4, 5, 6, 7, 8, 7, 5, 5, 8, 6, 9, 10, 6, 2, 5, 5, 7, 3, 1, 4, 5, 6, 7, 8, 9, 5, 8, 9, 6, 7, 1, 2, 3, 4, 5, 6, 7, 9, 10, 1, 1, 2, 3, 4, 5, 6, 7, 8, 2, 5, 7, 9, 2, 3, 4, 5, 8, 2, 5, 6, 8, 10, 1, 2, 3, 4, 6, 8, 10, 1, 4, 5, 6, 7, 8, 10, 10, 10, 4, 1, 2, 7, 1, 2, 5, 7, 1, 2, 3, 4, 5, 6, 7, 8, 9, 10, 9, 3, 4, 1, 2, 4, 8, 9, 10, 7, 1, 2, 3, 4, 5, 6, 7, 8, 9, 2, 3, 4, 5, 6, 7, 9, 1, 2, 8, 4, 8, 1, 2, 3, 5, 8, 9, 10, 2, 5, 1, 4, 6, 9, 4, 3, 1, 2, 3, 4, 5, 6, 8, 3, 3, 5, 3, 4, 7, 1, 4, 6, 1, 2, 3, 7, 10, 1, 2, 5, 7, 4, 5, 7, 6, 7, 3, 4, 6, 10, 2, 4, 5, 7, 8, 9, 1, 2, 3, 4, 5, 6, 8, 9, 10, 2, 4, 7, 9, 3, 8, 3, 3, 1, 3, 4, 5, 9, 1, 2, 3, 4, 6, 7, 8, 6, 7, 10, 1, 2, 3, 6, 1, 3, 4, 6, 8, 9, 1, 2, 3, 4, 6, 7, 8, 9, 10, 1, 2, 3, 4, 7, 9, 10, 1, 2, 3, 5, 8, 1, 3, 4, 5, 8, 9, 1, 2, 3, 5, 6, 8, 4, 7, 9, 3, 5, 10, 2, 4, 5, 7, 8, 9, 3, 3, 10, 1, 7, 6, 7, 9, 4, 8, 1, 2, 8, 2, 2, 9, 6, 1, 2, 3, 5, 6, 8, 10, 2, 7, 8, 6, 1, 3, 5, 8, 1, 4, 6, 7, 4, 1, 3, 4, 5, 7, 1, 3, 5, 7, 1, 2, 3, 4, 5, 7, 8, 9, 10, 1, 2, 3, 4, 5, 8, 2, 5, 8, 9, 3, 5, 5, 5, 6, 1, 2, 3, 4, 5, 6, 7, 8, 9, 1, 2, 3, 4, 5, 7, 8, 9, 1, 2, 3, 5, 6, 8, 6, 1, 2, 3, 4, 5, 6, 8, 9, 10, 1, 3, 4, 5, 6, 7, 9, 10, 1, 3, 4, 5, 1, 2, 3, 4, 5, 8, 3, 2, 3, 4, 5, 7, 1, 4, 5, 6, 7, 8, 9, 10, 2, 3, 4, 5, 7, 10, 1, 5, 6, 7, 8, 10, 2, 9, 3, 1, 2, 5, 8, 9, 10, 1, 2, 5, 8, 9, 10, 1, 2, 3, 4, 6, 7, 8, 9, 10, 1, 2, 3, 1, 3, 4, 6, 7, 8, 10, 2, 4, 7, 8, 9, 10, 1, 2, 3, 4, 5, 6, 7, 9, 1, 2, 3, 4, 5, 6, 7, 8, 9, 10, 1, 2, 7, 8, 6, 6, 6, 10, 4, 2, 8, 9, 1, 2, 5, 7, 8, 1, 2, 5, 7, 2, 3, 5, 7, 8, 9, 2, 4, 7, 8, 9, 10, 2, 8, 2, 3, 7, 2, 1, 2, 3, 5, 6, 8, 9, 10, 1, 3, 9, 1, 2, 3, 4, 5, 7, 8, 9, 10, 1, 2, 4, 5, 6, 7, 8, 9, 10, 4, 2, 6, 7, 8, 1, 2, 4, 5, 7, 8, 1, 2, 3, 4, 5, 7, 8, 9, 10, 8, 1, 2, 3, 4, 5, 6, 7, 8, 9, 10, 1, 2, 3, 4, 5, 7, 8, 9, 2, 5, 1, 2, 3, 4, 5, 6, 7, 8, 9, 10, 8, 8, 1, 2, 5, 6, 7, 8, 9, 9, 7, 1, 3, 4, 5, 6, 7, 8, 9, 10, 2, 9, 10, 1, 2, 4, 5, 7, 8, 9, 1, 2, 5, 7, 8, 9, 2, 8, 8, 5, 7, 1, 6, 7, 10, 1, 4, 6, 7, 1, 2, 3, 4, 5, 6, 8, 9, 10, 1, 1, 2, 5, 7, 8, 1, 2, 3, 5, 6, 8, 9, 10, 2, 6, 4, 8, 2, 3, 4, 5, 7, 9, 10, 3, 9, 1, 2, 8, 4, 8, 2, 4, 5, 8, 2, 4, 5, 7, 8, 4, 6, 7, 7, 9, 7, 2, 3, 4, 5, 8, 9, 3, 8, 9, 6, 4, 5, 7, 1, 2, 2, 3, 4, 8, 1, 2, 3, 4, 5, 6, 7, 9, 10, 10, 9, 10, 3, 3, 2, 1, 3, 4, 5, 6, 7, 8, 9, 9, 6, 7, 1, 2, 3, 5, 9, 3, 5, 10, 2, 4, 5, 6, 7, 9, 10, 10, 1, 5, 6, 7, 8, 9, 10, 6, 8, 6, 10, 2, 5, 6, 7, 4, 5, 7, 10, 9, 2, 4, 5, 6, 7, 8, 1, 2, 5, 6, 7, 8, 9, 10, 1, 2, 7, 1, 2, 5, 1, 4, 7, 10, 2, 9, 7, 7, 1, 10, 2, 2, 5, 8, 4, 8, 4, 1, 2, 3, 4, 5, 7, 8, 9, 3, 6, 1, 2, 5, 7, 4, 5, 7, 3, 4, 8, 9, 10, 1, 6, 7, 8, 9, 6, 1, 1, 10, 9, 10, 1, 2, 3, 4, 5, 6, 7, 1, 2, 3, 4, 5, 6, 7, 8, 9, 10, 10, 1, 2, 3, 4, 5, 6, 7, 8, 9, 2, 3, 4, 5, 7, 9, 4, 1, 2, 3, 4, 5, 6, 7, 8, 9, 10, 5, 1, 2, 3, 4, 5, 6, 7, 8, 9, 1, 2, 3, 4, 5, 6, 7, 10, 1, 3, 5, 7, 7, 9, 1, 10, 1, 1, 2, 3, 5, 6, 7, 8, 9, 10, 1, 2, 3, 4, 5, 6, 8, 9, 1, 2, 3, 4, 5, 6, 7, 8, 9, 10, 1, 1, 2, 3, 4, 5, 6, 7, 8, 9, 10, 5, 1, 2, 3, 4, 5, 6, 7, 8, 9, 4, 5, 10, 9, 2, 4, 5, 6, 7, 8, 9, 1, 2, 5, 6, 7, 9, 5, 1, 2, 3, 4, 5, 6, 7, 8, 9, 1, 2, 3, 5, 8, 3, 9, 9, 2, 3, 4, 6, 7, 9, 1, 2, 3, 5, 9, 3, 8, 1, 2, 3, 4, 9, 10, 1, 2, 5, 6, 7, 8, 9, 10, 2, 9, 1, 3, 2, 1, 2, 3, 4, 5, 6, 8, 6, 10, 1, 2, 3, 4, 5, 6, 7, 9, 10, 8, 8, 2, 3, 4, 5, 7, 1, 2, 3, 5, 6, 8, 10, 1, 2, 3, 4, 5, 6, 7, 9, 10, 1, 2, 3, 4, 5, 6, 7, 8, 9, 1, 4, 6, 9, 4, 9, 2, 7, 8, 1, 3, 5, 6, 7, 7, 1, 4, 8, 2, 5, 10, 7, 1, 3, 4, 6, 8, 7, 10, 9, 9, 5, 1, 2, 3, 4, 5, 6, 7, 8, 9, 1, 2, 3, 4, 5, 6, 7, 8, 9, 10, 1, 8, 6, 2, 7, 6, 1, 1, 2, 3, 4, 5, 6, 7, 8, 9, 1, 3, 4, 6, 6, 4, 9, 10, 1, 2, 5, 8, 2, 9, 1, 2, 3, 4, 5, 6, 7, 8, 9, 10, 1, 2, 3, 4, 5, 6, 7, 8, 9, 10, 1, 3, 5, 6, 8, 10, 4, 3, 1, 2, 3, 5, 6, 7, 1, 3, 4, 5, 6, 8, 9, 1, 2, 7, 1, 2, 3, 4, 1, 2, 4, 5, 6, 7, 8, 9, 2, 1, 2, 3, 5, 8, 1, 4, 6, 7, 9, 10, 1, 3, 4, 5, 6, 7, 3, 5, 4, 5, 6, 7, 8, 9, 6, 4, 10, 6, 1, 3, 1, 2, 3, 4, 5, 6, 7, 8, 9, 2, 10, 2, 4, 8, 6, 10, 2, 3, 5, 8, 10, 1, 2, 3, 4, 5, 6, 7, 8, 1, 2, 4, 5, 6, 7, 8, 9, 10, 1, 2, 3, 4, 5, 6, 7, 8, 9, 10, 1, 4, 6, 7, 8, 9, 10, 1, 2, 4, 5, 6, 7, 8, 9, 1, 2, 3, 4, 5, 7, 8, 9, 1, 5, 2, 4, 9, 2, 6, 7, 8, 1, 2, 4, 7, 1, 3, 4, 5, 6, 7, 9, 1, 2, 4, 5, 6, 7, 8, 9, 4, 9, 9, 1, 2, 3, 5, 6, 7, 8, 3, 2, 4, 7, 1, 3, 4, 5, 6, 7, 8, 9, 4, 2, 2, 3, 4, 1, 2, 3, 4, 5, 6, 7, 8, 9, 2, 3, 4, 5, 7, 1, 2, 3, 4, 5, 7, 8, 3, 5, 3, 2, 3, 4, 1, 2, 3, 5, 6, 8, 10, 3, 5, 4, 6, 7, 8, 9, 1, 4, 6, 7, 8, 9, 10, 7, 1, 4, 6, 7, 9, 10, 1, 3, 5, 6, 7, 8, 10, 1, 3, 9, 4, 4, 7, 2, 7, 4, 10, 8, 1, 2, 3, 5, 8, 1, 2, 3, 5, 8, 8, 1, 2, 5, 8, 1, 2, 3, 4, 6, 7, 8, 9, 10, 1, 2, 3, 4, 5, 6, 7, 8, 9, 10, 1, 5, 8, 4, 8, 9, 6, 1, 2, 3, 4, 5, 6, 7, 8, 10, 7, 1, 2, 4, 6, 7, 8, 2, 5, 5, 1, 2, 3, 4, 5, 6, 7, 8, 1, 2, 3, 5, 1, 2, 3, 4, 5, 6, 7, 8, 9, 1, 2, 3, 5, 6, 8, 2, 3, 4, 7, 8, 1, 1, 1, 5, 8, 10, 1, 4, 5, 6, 8, 9, 1, 2, 3, 4, 8, 9, 5, 8, 10, 2, 3, 5, 7, 9, 1, 2, 3, 4, 5, 6, 7, 8, 9, 10, 10, 1, 6, 7, 2, 5, 7, 6, 9, 2, 4, 5, 7, 10, 4, 1, 8, 1, 2, 3, 4, 8, 5, 4, 1, 3, 4, 7, 3, 9, 9, 9, 3, 5, 1, 2, 3, 4, 5, 1, 2, 3, 4, 5, 8, 2, 3, 4, 5, 7, 9, 10, 2, 3, 5, 7, 10, 1, 5, 7, 10, 5, 9, 10, 1, 2, 3, 5, 6, 8, 9, 3, 5, 10, 7, 7, 1, 2, 5, 6, 7, 8, 9, 10, 1, 2, 5, 6, 7, 8, 9, 10, 1, 2, 4, 7, 8, 9, 10, 1, 2, 3, 4, 5, 6, 7, 8, 9, 2, 2, 1, 3, 4, 5, 6, 7, 8, 9, 10, 1, 2, 3, 4, 5, 8, 9, 4, 1, 2, 8, 1, 3, 4, 5, 2, 8, 1, 6, 7, 1, 2, 3, 4, 8, 2, 1, 3, 4, 1, 2, 3, 4, 5, 6, 7, 8, 9, 10, 1, 6, 2, 5, 6, 7, 8, 9, 2, 3, 5, 6, 9, 2, 3, 4, 5, 6, 7, 9, 10, 1, 2, 8, 9, 10, 2, 9, 1, 2, 3, 5, 6, 7, 8, 1, 2, 3, 5, 1, 2, 3, 4, 5, 6, 7, 8, 9, 1, 2, 3, 4, 5, 6, 7, 8, 9, 10, 10, 2, 1, 2, 5, 6, 7, 8, 9, 10, 2, 4, 5, 7, 8, 9, 10, 5, 2, 1, 1, 2, 3, 4, 5, 6, 7, 8, 9, 1, 2, 4, 6, 7, 8, 9, 10, 1, 2, 5, 6, 8, 1, 4, 5, 1, 2, 3, 4, 5, 6, 7, 8, 9, 10, 1, 3, 9, 1, 2, 1, 1, 2, 9, 1, 1, 2, 3, 4, 5, 6, 7, 8, 9, 8, 8, 1, 3, 5, 6, 8, 2, 4, 8, 9, 9, 1, 2, 3, 4, 5, 6, 9, 1, 3, 4, 2, 7, 7, 2, 10, 1, 2, 3, 5, 7, 8, 3, 9, 6, 7, 3, 5, 8, 9, 10, 1, 2, 1, 2, 3, 5, 8, 1, 2, 5, 6, 1, 2, 3, 4, 5, 6, 7, 8, 9, 6, 10, 1, 2, 3, 4, 5, 6, 7, 8, 9, 10, 6, 8, 3, 9, 10, 10, 1, 2, 4, 5, 6, 7, 9, 4, 7, 1, 4, 6, 1, 2, 3, 4, 5, 6, 7, 8, 9, 1, 2, 3, 4, 5, 7, 2, 3, 4, 7, 3, 7, 1, 2, 3, 4, 5, 6, 7, 8, 9, 2, 3, 4, 5, 6, 7, 8, 9, 1, 2, 8, 1, 2, 8, 1, 2, 3, 4, 5, 6, 7, 8, 9, 2, 5, 1, 2, 5, 8, 1, 2, 3, 4, 5, 6, 7, 8, 9, 2, 1, 2, 3, 4, 5, 6, 7, 8, 9, 2, 3, 4, 5, 6, 7, 9, 1, 3, 4, 5, 6, 7, 9, 2, 8, 8], \"Freq\": [0.9978543168076563, 0.994012671304663, 0.8836158112720396, 0.11551858083143637, 0.9979345687577491, 0.994350766440871, 0.11809878799312472, 0.7924047710506433, 0.0552397556742035, 0.021905420353563458, 0.011428914967076586, 0.0009524095805897155, 0.6570964958207891, 0.24752445784946442, 0.0008962189014689818, 0.013835379291427407, 0.048787916448717696, 0.0002800684067090568, 0.03159171627678161, 0.5410366120314221, 0.007836903715047422, 0.06317898920896255, 0.34724256090500244, 0.040829300836419904, 0.42925145671854437, 0.07146372157390703, 0.013604690977964795, 0.31838104403604967, 0.14777509165720382, 0.0009382545502044686, 0.01845233948735455, 0.6320000243642593, 0.12652566661498965, 0.03400720896604005, 0.07814589589193961, 0.12228458281783917, 0.0070684729952508185, 0.1898661023664821, 0.03407853119398397, 0.7584907371461004, 0.01752610175690604, 0.9986572506908293, 0.14280799575283165, 0.11383246038269189, 0.7419806735853645, 0.9953863476827198, 0.1070197534828649, 0.1052653312946212, 0.7868583514272935, 0.9984749230080968, 0.02592807609741776, 0.19745227181879677, 0.08343521923656227, 0.02858736595356317, 0.6013319187208811, 0.020941907617145112, 0.03556800182594488, 0.006980635872381704, 0.9990046048959484, 0.9979158494802927, 0.9931693789193351, 0.9975521245597366, 0.999385975470096, 0.998739503429524, 0.017863040964028427, 0.002329961864873273, 0.9793606372017324, 0.2691703108670011, 0.00836779794122285, 0.14505411849652824, 0.10874451068990046, 0.15662895793945325, 0.09558458176912268, 0.08452581797014976, 0.08526306889008128, 0.041322914062162173, 0.005345069169503582, 0.07868202620555949, 0.35581760739625234, 0.08392749461926345, 0.005245468413703966, 0.03234705521784113, 0.4441163256936025, 0.0536398847108879, 0.1013027536968483, 0.4292723345005629, 0.03800768973800057, 0.09440619709116271, 0.007662840672983986, 0.008275867926822705, 0.2674331394871411, 0.9898353877854714, 0.8548288304174629, 0.1449278764213515, 0.9533889681717109, 0.04645527641146764, 0.9579599501720244, 0.04179019916857825, 0.8677341738087829, 0.13125390864334532, 0.9975539770409683, 0.9975832089632198, 0.08260603808869812, 0.9167650501608458, 0.0787148341171942, 0.33404666226428786, 0.10398594614055023, 0.24288346555781087, 0.08713853812497954, 0.0024335144911379896, 0.03537955683269846, 0.10220760862779556, 0.013197136278863712, 0.15771264494008547, 0.06797381512279692, 0.7118834036998337, 0.05290572802661041, 0.00033484637991525575, 0.009040852257711906, 0.999183311134462, 0.9975708333440498, 0.9950598999775384, 0.9916388428751209, 0.30323626757254785, 0.11594327877773887, 0.49198868225406955, 0.03745859775896179, 0.00891871375213376, 0.04232335071467112, 0.7252558017571766, 0.06249879506772942, 0.039117950869729926, 0.000899263238384596, 0.044063898680845204, 0.07239069068995999, 0.055754320779844956, 0.22695613252741467, 0.725881013301305, 0.04690566965117097, 0.9955206622690799, 0.015597556192423721, 0.3458160881941872, 0.010538889319205217, 0.181760711125226, 0.24183238024469572, 0.007447481785571687, 0.05325652069305036, 0.06126607657564633, 0.06021218764372581, 0.022272186094587025, 0.2710542252193172, 0.6837611874539226, 0.04520673573516295, 0.9984550548243932, 0.9931392289128257, 0.9966690252208485, 0.9319663069689382, 0.06768470385807931, 0.003633065133822281, 0.03840668855754983, 0.01868433497394316, 0.18580533112976808, 0.6731550683667854, 0.07940842363925842, 0.998922229517968, 0.12411351833104622, 0.015390076273049733, 0.09953904170149908, 0.6009576557589259, 0.0856383276484219, 0.020851071079615768, 0.05088654251572895, 0.0024822703666209246, 0.9956756145052905, 0.01929629676633855, 0.7693349623796717, 0.04866022662815808, 0.09522302969475763, 0.06502013040831468, 0.002097423561558538, 0.9965990176212989, 0.9964715119637504, 0.9950347084204744, 0.2829500008021667, 0.01997667170400056, 0.03984764673231858, 0.0019025401622857678, 0.2563672868680072, 0.19606733339111662, 0.13338920471136884, 0.022037756879810144, 0.02578998886654041, 0.021614970177079973, 0.5081925428481444, 0.252551347438128, 0.012067896795866227, 0.13064810009437786, 0.054917675273941965, 0.008161862567252522, 0.03148146990225972, 0.002098764660150648, 0.27004448101862555, 0.28915377390262514, 0.006235663993726177, 0.00020115045141052185, 0.13135124477107077, 0.06577619761124064, 0.15136571468641769, 0.048980134918462065, 0.027658187068946752, 0.009252920764884005, 0.15326124997644638, 0.0010755175436943606, 0.07152191665567498, 0.027425697364206192, 0.5565803288618315, 0.18982884646205464, 0.5623688048038518, 0.044301834123289904, 0.025897838355654547, 0.10270972488285122, 0.10899132822869084, 0.0323998488364359, 0.04650590547270731, 0.07593025798742971, 0.0008816285397669633, 0.9981555829588304, 0.02107384833112089, 0.017714249321811763, 0.08643331996677119, 0.8350130628591959, 0.039704351928198774, 0.997569173313993, 0.03081968616182928, 0.04755037293539375, 0.10742862033551921, 0.813639714672293, 0.9979535342807436, 0.99919075036142, 0.9964037430291681, 0.21042892719048958, 0.00034077559059188597, 0.06406581103127457, 0.3307227106694253, 0.39427735831481203, 0.1881737861824385, 0.4635774756370229, 0.23583548590845638, 0.11240966916513649, 0.0871402240711483, 0.012344865076746009, 0.10166359474967301, 0.0014523370678524716, 0.06462899951943499, 0.4887114233323567, 0.24399262739921523, 0.0381825554303136, 0.9590559511025828, 0.0580315824760337, 0.037720528609421905, 0.15917234050569243, 0.1069439162772621, 0.05720255986923322, 0.5803158247603369, 0.001243533910200722, 0.8862072172339619, 0.08148305846270926, 0.03158258079949971, 0.5046040196906117, 0.06255239702843025, 0.4325806611402712, 0.16632059138982347, 0.8316029569491173, 0.9972170424979401, 0.25011223887991624, 0.5296659408566836, 0.03495589586737245, 0.002897413828579, 0.14085169805382428, 0.0025235539797300965, 0.03719905496046587, 0.0017758342820322903, 0.9994392538932948, 0.9926830498074201, 0.9989897186379812, 0.9977349710115168, 0.13677081788688703, 0.48846720673888216, 0.3746331098640818, 0.9970314604869136, 0.07871183428855646, 0.921123614484264, 0.9994313634273576, 0.9992894566833073, 0.9982605162562016, 0.3999282462519902, 8.871522765128443e-05, 0.058729480705150286, 0.3498041426290145, 0.14842057586059884, 0.04143001131314983, 0.0015081588700718352, 0.9911578787522553, 0.9975497533550814, 0.9985558281057603, 0.9985801685116293, 0.9992648285700794, 0.5179246727922974, 0.0214519229508273, 0.09543418114570779, 0.1336469459464981, 0.062107959158317766, 0.08776230892866932, 0.08038362928043487, 0.0011727702752160711, 0.00019546171253601185, 0.9925338968846301, 0.5714145950762586, 0.00649915048425349, 0.20263422759833202, 0.04609754593474082, 0.16266445212017305, 0.000835605062261163, 0.0028317727109961636, 0.006963375518843025, 0.028484624947870095, 0.16948351843982706, 0.8018421922825432, 0.9967349229944119, 0.029600574575545904, 0.2106194729413843, 0.21858885840403128, 0.5407797278224733, 0.00022769672750419927, 0.05722690449611116, 0.8169633952203456, 0.07005362446937746, 0.003946683068697322, 0.05229355066023951, 0.2524821577960311, 0.03420077037874525, 0.6402585395903339, 0.003017715033418698, 0.015340051419878384, 0.01961514771722154, 0.03495519913709992, 0.10810476788275672, 0.0005812084294771866, 0.22570260678030749, 0.339425722814677, 0.08911862585316861, 0.22182788391712624, 0.015305155309565915, 0.9977478595832833, 0.9954926481273861, 0.99830825421057, 0.11285369764661946, 0.16068572843723963, 0.7257015921514404, 0.22012267648793277, 0.20584850975322042, 0.054306228329056065, 0.5197728533549772, 0.1355029836134747, 0.17826472919601846, 0.10104845612180727, 0.3275222870255343, 0.05651631979858492, 0.01688680398801092, 0.10908330640642536, 0.04058280313247785, 0.018112459116173, 0.016614436181752675, 0.9983669228211111, 0.9973556041640376, 0.9919530052739953, 0.06644009669350019, 0.1684071895356081, 0.16610024173375046, 0.05213702032198279, 0.5112196328916542, 0.035526996148607735, 0.9985751673107455, 0.3417233027520967, 0.4203657983766903, 0.10949373887006789, 0.00021130988524297435, 0.11058550661048991, 0.015918678021637402, 0.001338295939872171, 0.00028174651365729913, 0.00010565494262148717, 0.069048647103043, 0.3838954673174619, 0.033398530392232756, 0.04428119759869062, 0.0003752643864295815, 0.04353066882583145, 0.42517454982471586, 0.0011026841057385887, 0.9788159245272873, 0.019848313903294598, 0.02074616568659258, 0.9781817121228401, 0.11167245433711409, 0.2018514655800556, 0.039716144847927605, 0.07662879711835444, 0.23035364011798012, 0.13924013134920502, 0.20044971929130523, 0.10334433401787252, 0.8947443655757911, 0.06665998801219324, 0.30972506625177587, 0.10608693214135631, 0.5174278337775731, 0.9970707971309715, 0.9928945494115353, 0.08417403361277122, 0.08210418032721127, 0.037947310235265715, 0.06899510951866494, 0.017938728474852884, 0.004829657666306546, 0.7037501170903824, 0.998882466689888, 0.9278201231201297, 0.07203381181490058, 0.9968182504104709, 0.9918986323930262, 0.9958726664452868, 0.9945889889736609, 0.9960227548674013, 0.9966714090610095, 0.0025045046996710323, 0.07388288864029545, 0.04570721076899634, 0.8352523173402893, 0.041950453719489786, 0.0035585009209009215, 0.15034666390806392, 0.06850114272734273, 0.7775324512168513, 0.7493465180720514, 0.09507660258633288, 0.1555299337105908, 0.8576460876385793, 0.1415967417417926, 0.07776435004806298, 0.3596064143106559, 0.5606766674736032, 0.0012889118792496627, 0.18392092220861203, 0.32382201129171323, 0.0005346538436296861, 0.01835644863128589, 0.47299043366439564, 0.00035643589575312407, 0.001851633844327716, 0.07861027320918576, 0.0863534692854653, 0.4236874896520783, 0.036696016187585646, 0.0023566248927807294, 0.19576819645028487, 0.1730435992698993, 0.0016833034948433782, 0.09706146056402207, 0.7873472426015737, 0.10919414313452482, 0.006385622405527767, 0.9973292553531938, 0.9977920150066905, 0.9955279321477314, 0.9929611193539002, 0.7479657669139064, 0.19837352948586212, 0.013550104473078015, 0.02005415462015546, 0.02005415462015546, 0.619713541425799, 0.16002617199907973, 0.054967438581401344, 0.009530644592742976, 0.06494136896915562, 0.03878750706348885, 0.05186443801632224, 0.9958497729570499, 0.9977255893689698, 0.9985489420197956, 0.8636689116795743, 0.018102593821546182, 0.02335818557618862, 0.09460065158356393, 0.6597644843786576, 0.06294491047035948, 0.05577104199763469, 0.21290190306151002, 0.007173868472724794, 0.0013884906721402827, 0.42765381329978663, 0.040471707554799084, 0.25463103069384885, 0.07795166670719002, 0.14368702743788012, 0.0014958742012040728, 0.044211393057809266, 0.0002493123668673455, 0.00964007818553736, 0.02431579994082214, 0.2816580159811898, 0.07598687481506919, 0.13981584965972732, 0.01317105830127866, 0.12056584137324312, 0.34346067416411274, 0.702653375232931, 0.016996563227184697, 0.015451421115622454, 0.25108559312886486, 0.013519993476169646, 0.8027192838045976, 0.020109877673601607, 0.03351646278933601, 0.07038457185760563, 0.05781589831160462, 0.015920319824934605, 0.8376729207521519, 0.01537014533490187, 0.06051994725617611, 0.03746472925382331, 0.04034663150411741, 0.007685072667450935, 0.8536407780463303, 0.08408998709113105, 0.06243044496159729, 0.9986277962679785, 0.9996332250133194, 0.9946186909506217, 0.030757228572075287, 0.7103178824947198, 0.012767151482748233, 0.05048828086359528, 0.1445009417820141, 0.05106860593099293, 0.9989157402503513, 0.9996760162834543, 0.9947549090441523, 0.9972393774626503, 0.9952053728292237, 0.8147936272006435, 0.17392102003635987, 0.010540667880991507, 0.9951345524218523, 0.9994007097996057, 0.05031894833630821, 0.8680018588013166, 0.08119648481540644, 0.996600026060044, 0.9939362338916854, 0.9981430857030233, 0.9982091145548019, 0.1104644943856111, 0.15638134264948397, 0.002053788740237125, 0.5317845845256842, 0.08009776086924789, 0.11926644612948449, 0.997593510398941, 0.11276295950564523, 0.8437085720154527, 0.043292921953060226, 0.9962452413683688, 0.2644149975899853, 0.011758477657935492, 0.007386735964600501, 0.7163626388526854, 0.05169507808063825, 0.8805394966402048, 0.06031092442741129, 0.0051695078080638245, 0.9971407203932532, 0.13706101423542166, 0.7772229735810221, 0.02991411024979441, 0.05493318427689519, 0.0005438929136326256, 0.11129638521371261, 0.7995532313753114, 0.08191413951729248, 0.007122968653677608, 0.35137410154001647, 0.24994453913934261, 0.0860127828084245, 0.1831384942395954, 0.0867193852064026, 0.009250067755349612, 0.009121594592080865, 0.024281427857792727, 0.0001927097449031169, 0.5740129500132459, 0.09117493830718869, 0.005976406017087064, 0.23794435119193147, 0.0740796373745908, 0.016678342373266226, 0.07231105499392543, 0.015007954810059993, 0.03820206678924362, 0.8745544575680414, 0.9571619754443603, 0.04321273026836841, 0.9997870782663186, 0.999371688801727, 0.9986868564259708, 0.28239236856495303, 0.41057200835669355, 0.11441501803142205, 0.018117071328798643, 0.07170660664071055, 0.04074980908489544, 0.0057397928684332035, 0.05494967580206195, 0.0013329376803470473, 0.021525781544651807, 0.00880600154099392, 0.06995879002011837, 0.6418596678768902, 0.02984256077781273, 0.07827556925327929, 0.04745456385980057, 0.10322590695276207, 0.14524994658301688, 0.5053917967600231, 0.06740469480057062, 0.1949860064911826, 0.07210868201218491, 0.01480035000727423, 0.9974302216423291, 0.005674302083457129, 0.040235960228150555, 0.0010316912879012963, 0.11993411221852569, 0.06086978598617648, 0.020375902936050603, 0.5638192888380584, 0.1725503679014918, 0.015475369318519444, 0.2918464900753556, 0.12851338237324017, 0.00016821123347282745, 0.22287988435149636, 0.3113589931582036, 0.02254030528535888, 0.015643644712972953, 0.00723308303933158, 0.7972037402180056, 0.11485138630259402, 0.005790826200130791, 0.08203670450185287, 0.2069356092493669, 0.033960291701966655, 0.6328674920908552, 0.0006347718075133955, 0.11394153944865448, 0.011425892535241119, 0.993973124434058, 0.0035996627210853538, 0.13467703628888306, 0.39261148919975775, 0.3795782276234142, 0.08937093652349844, 0.24595050228601456, 0.0047480791947107056, 0.1775781618821804, 0.10255851060575125, 0.08665244530347038, 0.3731990247042615, 0.001661827718148747, 0.007596926711537129, 0.9955019971569958, 0.0066705704684217985, 0.7330215770299066, 0.10709971474299444, 0.13637610735440123, 0.016861719795177324, 0.10426199256297437, 0.5652999541976063, 0.09454991654340963, 0.17224652469992752, 0.062271546243091544, 0.0011425971787723218, 0.06547229623252238, 0.9341778852689169, 0.9958606903496005, 0.12857297760849526, 0.16573626251165008, 0.026673648035328852, 0.14026143011835845, 0.4987073070874968, 0.03986062009773862, 0.10808032968420656, 0.1388774128737923, 0.037770007685341, 0.1266747950062206, 0.5700365775279926, 0.01859446532201403, 0.496257636686558, 0.0071289664608592245, 0.31219604970785414, 0.023426174651476617, 0.09402758385681546, 0.02084309264420462, 0.04592617845166163, 0.00016144262545449972, 2.5490940861236798e-05, 0.08335926944790713, 0.04644302154954826, 0.8693180956710316, 0.49319552686829515, 0.22913823776092823, 0.0008657616036307112, 0.13048951281389554, 0.019287244614217512, 0.12688217279876757, 9.619573373674569e-05, 0.0031794792528199345, 0.7941632622599125, 0.1543813814980346, 0.008478611340853159, 0.03356116989087708, 0.005652407560568772, 0.3194387155698895, 0.010656837883899567, 0.0908495429602438, 0.06287534351500744, 0.03223693459879619, 0.40016426254042875, 0.07806133749956433, 0.005594839889047272, 0.2817049032214915, 0.15504237654593236, 0.06420359478871318, 0.07536943736066329, 0.28418620157081376, 0.04012724674294573, 0.015740736403513013, 0.06540547367666615, 0.015663195830096694, 0.0025976092094467285, 0.3373457407218825, 0.24346313883587775, 0.008900185499896475, 0.40998273851136013, 0.9991325968976459, 0.9991308871015303, 0.823048023925815, 0.17522161828705507, 0.9954321204582508, 0.9926019618205945, 0.9976907733431463, 0.9977073002754177, 0.24213911223341292, 0.12331991961329951, 0.2053617430890921, 0.1715419945402936, 0.257570176210051, 0.1322587306532655, 0.4937298759375115, 0.13596691936317012, 0.23801936281700406, 0.03951334740412818, 0.013677697178352063, 0.11144790293472051, 0.09574388024846443, 0.6767927196399391, 0.06256280005653629, 0.16419182624389284, 0.08474416838394469, 0.10651871164926383, 0.003531007015997696, 0.5072880079650023, 0.13358976543857948, 0.9563661977035706, 0.04335526762922853, 0.26109153922516143, 0.6189567957122964, 0.11928841882904502, 0.9927847133530868, 0.24117033994252796, 0.040195056657087995, 0.24691249089354053, 0.04388643941131036, 0.015585838295605548, 0.018456913771111833, 0.392927186505003, 0.0012304609180741222, 0.04011278350557182, 0.22681955764059702, 0.7329699531472669, 0.17171239723079584, 0.4903310519990969, 0.026809572414481488, 0.08133936848034941, 0.14319080049093305, 0.04575111814210428, 0.025971773276528942, 0.014643271889431465, 0.00021855629685718604, 0.12352991291954273, 0.3107718387196552, 0.3040653110480163, 0.014711092957143443, 0.00043267920462186594, 0.14408217513908136, 0.0629548242724815, 0.023472846850736227, 0.01600913057100904, 0.9977739190818086, 0.004326469385373863, 0.10599849994165965, 0.017305877541495453, 0.8717835811528334, 0.014088308886785883, 0.25237505057535403, 0.5128873140422137, 0.07347781790090914, 0.14707708674049746, 0.00012145093867918866, 0.15575031261110175, 0.45874673758505485, 0.05383707415223024, 0.11775574053424118, 0.14793193496351673, 0.036554344615463336, 0.013716452013307068, 0.007749795387518493, 0.007886959907651564, 0.998564816308068, 0.12730928558484236, 0.2663659945176423, 0.019260310372814136, 0.3981830123173986, 0.04343814679826167, 0.00013659794590648323, 0.06119587976610449, 0.04821907490498858, 0.03332989880118191, 0.0025953609722231814, 0.2744162228186053, 0.45958486071817983, 0.012462500596801589, 0.11570024747611281, 0.11787113467684598, 0.0041809679421527905, 0.010774032774009115, 0.004985000238720635, 0.9761892939392112, 0.02284186771532637, 0.5772983286558755, 0.14950528649304087, 0.0003473097874238211, 0.0002778478299390569, 0.1480002774142043, 0.031628344641395974, 0.03195250044299154, 0.04107517085932391, 0.018291648804321246, 0.0016439329938060865, 0.9995727527338905, 0.9986294283396124, 0.23101063819308124, 0.49484959477290635, 0.21758087158032238, 0.010352111764001621, 0.028165204979535945, 0.016041110120795305, 0.0020517698991714926, 0.9994692282960754, 0.9991462124652951, 0.3482386746538766, 0.03103515966244039, 3.664127469001227e-05, 0.35472418027400876, 0.146418533661289, 0.0928856313391811, 0.01212826192239406, 0.011285512604523778, 0.0031877908980310673, 0.41435096192110216, 0.5230415467600119, 0.06276498561120143, 0.14524138848434048, 0.742973939293208, 0.01088766030617245, 0.0007621362214320715, 0.07360058366972576, 0.02634813794093733, 0.000217753206123449, 0.12205403554073219, 0.74215567779679, 0.018224178194686927, 0.007433546368885458, 0.00887229727899232, 0.10143193916253382, 0.9732706787917711, 0.025500541802404485, 0.9985489540032416, 0.9932889325333888, 0.9980671525904454, 0.9955350426582732, 0.491501189612431, 0.12105388478481767, 0.3872603443810603, 0.9954380443394683, 0.033031562224520014, 0.9600237020998796, 0.007027991962663833, 0.06307380118635889, 0.10609336814936263, 0.012291304846572499, 0.0669552658747502, 0.0061456524232862495, 0.05983924727936612, 0.13973272878208737, 0.47062759346744704, 0.0750416506422321, 0.9976450807177856, 0.055729948116611305, 0.31372682557410014, 0.1698124301435568, 0.43600488820642963, 0.024586741816152047, 0.0015419409505024544, 0.062191618336932326, 0.5928762954681936, 0.05422492342600298, 0.15290914425816005, 0.008480675227763499, 0.12746711857486956, 0.9960575603804626, 0.994516378709562, 0.9982916442909489, 0.9985777676640918, 0.9991264209930076, 0.20836046160361235, 0.05278465027291513, 0.46450492240165314, 0.15539060203149402, 0.09390111469602797, 0.023336371699604584, 0.0016668836928288987, 0.9961503446690022, 0.9991867358391886, 0.09888194647144494, 0.8691344857886294, 0.03187997181319809, 0.00019697653996732754, 0.999754428604171, 0.06342417107474449, 0.8254075221558297, 0.05627778560153385, 0.05449118923323119, 0.20103681970881468, 0.6017415313657809, 0.04654354386254659, 0.0009778055433308107, 0.14960424812961404, 0.9931871908770676, 0.8652382103916263, 0.13447465028581512, 0.9788078021589068, 0.018271078973632927, 0.9986214384366944, 0.006716770171025679, 0.7606163186775285, 0.0027793531742175224, 0.019455472219522655, 0.20752503700824165, 0.0025477404096993952, 0.9362103862928444, 0.05469707419917433, 0.007632149888256883, 0.9959767871621104, 0.7812782360788927, 0.02584874230203119, 0.19257313015013236, 0.04908510022727071, 0.9495428009482368, 0.9964321556194552, 0.794210656903831, 0.12340928224530454, 0.08176811338952693, 0.18078971272804753, 0.0010490698997759045, 0.593773563273162, 0.019582638129150218, 0.12379024817355673, 0.016435428429822502, 0.004545969565695586, 0.05979698428722656, 0.9985027845044696, 0.9990271799811692, 0.01752623793952539, 0.9814693246134218, 0.9988713261707751, 0.9975822520036586, 0.9961949322445525, 0.6191773539378185, 0.20614590742878564, 0.05695163716253995, 0.06709515695401275, 0.022188949543846734, 0.0008452933159560661, 0.019336084602495012, 0.008241609830571645, 0.9974707324982593, 0.04287007997754472, 0.9538592795003701, 0.04326998210592166, 0.04017926909835583, 0.8458251264038497, 0.02163499105296083, 0.04945140812105333, 0.9118416228124638, 0.08798471799067634, 0.9958872631944545, 0.12373478589576155, 0.06617570722001731, 0.022058569073339106, 0.14855067610326803, 0.3870589542087471, 0.008271963402502164, 0.24436758551558477, 0.9974996838954412, 0.023957155528928263, 0.007398533325110199, 0.6859497325709313, 0.11802422209104364, 0.011626266653744598, 0.10463639988370138, 0.04826662216857606, 0.9991280506024447, 0.998202328999261, 0.07913967790684062, 0.9175256407324335, 0.11288067165702033, 0.07491171846329531, 0.018471382634785146, 0.7922170774474517, 0.990840391760573, 0.05924350306469481, 0.15117307678577296, 0.7885514545852481, 0.9979176823766697, 0.0031322000858320506, 0.11432530313286984, 0.0031322000858320506, 0.12006766995689527, 0.6869958854924965, 0.07256263532177584, 0.022637664601866475, 0.010209142859665272, 0.024265209115726154, 0.599676174061208, 0.11969850106477109, 0.05873956109111758, 0.07782621948092656, 0.08699965219540841, 0.08394922772092088, 0.8691973885566117, 0.04714072018174788, 0.1199556654490961, 0.7193748439956271, 0.1605394684303771, 0.9933485872544924, 0.9953867073597673, 0.9986192079889836, 0.9959363378660729, 0.9961774191519109, 0.9977395289003443, 0.9988755720588322, 0.9985932346915324, 0.9881194491052907, 0.9992256415192478, 0.9971040171625081, 0.4014351123444978, 0.5841061349947663, 0.01423670977845122, 0.4329190389762537, 0.5667742293003879, 0.9975689013552557, 0.17659361307585145, 0.5038892944532755, 0.10129790273868547, 0.009349724501822962, 0.2077409201440546, 0.00011064762724050843, 0.0011064762724050843, 0.998650982184242, 0.9983954532251231, 0.9960468017822175, 0.06939566323949524, 0.7065069119169888, 0.15454069685958516, 0.06939566323949524, 0.8800001406252728, 0.011871840008435382, 0.10684656007591845, 0.9961339967982386, 0.0242200698776674, 0.1398158579301709, 0.7629322011465232, 0.07266020963300221, 0.13451058537294802, 0.31325007508886543, 0.051524393719129244, 0.03966922348286942, 0.4605277668700933, 0.9977678994002085, 0.9956270583404295, 0.9669921132103286, 0.032965640223079386, 0.9967733089846954, 0.9972121060981836, 0.007229935220225406, 0.13071263834661487, 0.4975457801156706, 0.1093671153154732, 0.14522988922532146, 0.0035002067336011885, 0.10638333252617384, 0.2812930950567082, 0.3941782145793445, 0.08161519202662543, 0.004802897360498408, 0.16386055143742972, 0.004598518749413369, 0.013318672822375017, 0.055080035687417914, 0.0004257887730938305, 0.0008175144443401545, 0.9951573132803547, 0.33769399716515985, 0.10696752764715929, 0.04130480597615598, 0.18993991706726684, 0.17076453662664237, 0.011971656437254745, 0.07924096403706712, 0.059443679365935906, 0.0026949183321958734, 0.03318708194334852, 0.5329033589752079, 0.28459713436310385, 0.09812870991882187, 0.04822870901119713, 0.002626315837243408, 0.9932777537747244, 0.2761593246377772, 0.26261250197528574, 0.1341625087779272, 0.00848716600541632, 0.06969269008293785, 0.062103205097325184, 0.05075978130162453, 0.13473376033598408, 0.0004080368271834769, 0.0008976810198036493, 0.9947208112035856, 0.47945192790860924, 0.16540080010889405, 0.04110743955739637, 0.012461704117793387, 0.20221947136601087, 0.00024276046982714392, 0.029212176535866316, 0.06910581374412697, 0.0007282814094814317, 0.1152882736512788, 0.031118109476633828, 0.15964238455460583, 0.10059361084286839, 0.3766587834567553, 0.0007563429386681833, 0.21220821879204457, 0.0037276901977217605, 0.14928259592897772, 0.04268783261514246, 0.8035797262464536, 0.004493456064751837, 0.9964212691766955, 0.9988820242136832, 0.08977512568860999, 0.9049332669411887, 0.9938017341800175, 0.29796667015754946, 0.2993473439839383, 0.11071278245355805, 0.14790468365190843, 0.10035772875564147, 0.001208089598090267, 0.03766650782617154, 0.004573482049913154, 0.00021573028537326196, 0.6095538062024317, 0.08532235095535906, 0.13572630205354272, 0.09959334915785684, 0.049341217189487, 0.00030363825962761233, 0.0025809252068347047, 0.017611019058401515, 0.2881808826787205, 0.4138718555520812, 0.14373132427400778, 0.00904130023357956, 0.07579482532262491, 0.02184276738673193, 0.02509594550816009, 0.020659793524394416, 0.0012674719953616206, 0.0004647397316325942, 0.9940751945187514, 0.002826660537450801, 0.141947518293725, 0.14428258569422783, 0.411709252193921, 0.008971574749300368, 0.10556962615957556, 0.08615169725013093, 0.020769810036051536, 0.07416911453702428, 0.003564050242872749, 0.9970868458266107, 0.30666103631687647, 0.07710506961319268, 0.31158691429738034, 0.004875613919478285, 0.19477323647400366, 0.050867229757855924, 0.015230010490741448, 0.023573844620982637, 0.015380802673818096, 0.9977511164464984, 0.9936419446458213, 0.9959628033488706, 0.9991432183855865, 0.02167968850772577, 0.03762063593987707, 0.0318818948643026, 0.28119831270314893, 0.6280733288267613, 0.9427264534123624, 0.05538045921247523, 0.10509632095690002, 0.024067859761122145, 0.067390007331142, 0.07701715123559086, 0.0842375091639275, 0.6418095936299238, 0.9971220158140319, 0.24788548376992922, 0.07242619880319448, 0.3619289683568282, 0.08485077684056257, 0.09818447034407955, 0.054041863821072594, 0.028182579450615426, 0.049698312149472366, 0.002727346398446654, 0.21257064803346093, 0.6666515328140469, 0.018529664715943216, 0.0884843539806277, 0.013741099676991596, 0.9254607249484694, 0.07439757350377464, 0.9960638055226353, 0.1185653043021247, 0.2537928924928616, 0.258002311580511, 0.0124528648009628, 0.08068053251328013, 0.2765939125509625, 0.03804636003431487, 0.11059988382068277, 0.7750839858153448, 0.06989912657467151, 0.0057511939586755035, 0.06285560384495359, 0.9349771071936847, 0.0011611533810541072, 0.15443339968019626, 0.21829683563817215, 0.05457420890954304, 0.09173111710327446, 0.4795563463753462, 0.03808082988314271, 0.10205662408682246, 0.0009139399171954251, 0.513938880102894, 0.15384655272789655, 0.12520976865577324, 0.06580367403807061, 0.9988102094826488, 0.9950429447706447, 0.9994039146979361, 0.9940125515283822, 0.9960360826077675, 0.9934178768144482, 0.361561501840285, 0.5607197698237613, 0.011390537732545516, 0.03135333582051189, 0.000117428224046861, 0.001056854016421749, 0.03370190030144911, 0.14038883805671884, 0.8560966399145012, 0.08238849554919664, 0.7397246643395613, 0.0299728756209443, 0.08076434957958882, 0.00014764963360071082, 0.00014764963360071082, 0.0626034446467014, 0.0019194452368092407, 0.002657693404812795, 0.9997154412797954, 0.999414126563186, 0.9973743309348962, 0.003304707671166267, 0.7724754181351149, 0.13569955874726483, 0.08840093020369764, 0.37870253027692635, 0.3224131368418754, 0.013491584775702697, 0.2046521518460068, 0.0008488083137031498, 0.07974330736632224, 8.934824354769998e-05, 0.0002554543570201915, 0.16962169306140717, 0.05492268675934118, 0.008174539424646129, 0.0421499689083316, 0.5259805211045743, 0.15506079471125625, 0.004342724069343256, 0.0390845166240893, 0.467409057964066, 0.12874972543964588, 0.14438991096500917, 0.0336404891367611, 0.12011944288623598, 0.036247186724321645, 0.016485600959166697, 0.047589843794517535, 0.005354297747421662, 0.9891808402195293, 0.8554397829680297, 0.03595598502972347, 0.10818061582855931, 0.9899055742202386, 0.009595207504558048, 0.001198160336749989, 0.8135508686532426, 0.18571485219624828, 0.07381009656072467, 0.0440109892535998, 0.07976991802214964, 0.07381009656072467, 0.7289320095127467, 0.9960711382044547, 0.08630823167621168, 0.7180561897652038, 0.19525468805438054, 0.9050276584883541, 0.04774902418972647, 0.04701442381757684, 0.9965874919853738, 0.035922888926054344, 0.7759344008027738, 0.14967870385855975, 0.007184577785210869, 0.03113317040258043, 0.035069415862959356, 0.961486484909469, 0.9991341609741553, 0.9972666847645874, 0.9956634575167218, 0.21081444706827104, 0.3022833108294859, 0.152569234162435, 0.0581933009513745, 0.17323019203812373, 0.06997731461414168, 0.026371272866456956, 0.0038414846301531784, 0.00275133358646106, 0.08840599980035833, 0.028700149215763814, 0.16615875861757998, 0.09985425876731122, 0.23794888255618032, 0.03299324632837114, 0.1778455229796777, 0.08244336492173705, 0.06900756099524374, 0.016695377660139614, 0.998944065691615, 0.9984838888657581, 0.9969935628961233, 0.9952683657789285, 0.9983544721414614, 0.9965892670374316, 0.9968596641627029, 0.38701423865718715, 0.46151031004246146, 0.08982415430356633, 0.02136401194311171, 0.011754177574648821, 7.942011874762716e-05, 0.00015884023749525433, 0.027797041561669508, 0.0005559408312333902, 0.07756949335016049, 0.028072769021962842, 0.0476498316293843, 0.8466156131360373, 0.9983406865680333, 0.08553529635120781, 0.8802178752420804, 0.033816279952803084, 0.0766176905678911, 0.8354476944115249, 0.05929999338473763, 0.028600439287329214, 0.02697636791120399, 0.9711492448033436, 0.02048312924637438, 0.23308094154936843, 0.0011948492060385053, 0.23700687465492354, 0.2816430271376477, 0.054963063477771246, 0.10779246765904517, 0.05530444896521082, 0.008193251698549751, 0.00034138548743957296, 0.2381011554785811, 0.2314267467693487, 0.1101921684968248, 0.08305644505735882, 0.14034297231845366, 0.0689087601872099, 0.04505870126676758, 0.06463095383303008, 0.017549314019255774, 0.0007473276160916556, 0.3615263008932106, 0.00043257708751805033, 0.24527120862273452, 0.11874241052370481, 0.27230727659261267, 0.0017303083500722013, 0.9974992201128788, 0.9934384676668305, 0.10043372676135996, 0.02204642782566438, 0.0018372023188053652, 0.02143402705272926, 0.6179123798915378, 0.23638669835295698, 0.795200838527538, 0.016738084007536475, 0.010780460886209934, 0.08056976030746371, 0.018440262042201203, 0.055604482465714394, 0.022695707128863016, 0.9368357879539618, 0.06075044358745827, 0.9983796793743616, 0.17952857620171284, 0.8095470740991736, 0.01067827962538069, 0.9955558717179908, 0.10787812113327351, 0.021957493681993723, 0.20907352679811414, 0.0004773368191737766, 0.5689854884551417, 0.08496595381293223, 0.00572804183008532, 0.0009546736383475532, 0.9917112103083568, 0.09031595019156974, 0.4183530262876915, 0.3639031379816451, 0.11439538286874565, 0.01305206485955031, 0.29301520804915393, 0.007013983519129562, 0.5149231349043737, 0.17317283447230228, 0.00024186150065964006, 0.011609352031662723, 0.38044827033634315, 0.06185258074732275, 0.005489874030827463, 0.006404853035965373, 0.39984582524526685, 0.14584765341898293, 0.8738457653064041, 0.12424994475450434, 0.09888282959916786, 0.05166850555632195, 0.7785909285556101, 0.011580871935037677, 0.04899599664823633, 0.010244617480994868, 0.9966524619896406, 0.37278783412479516, 0.6258199909659773, 0.9972928979031658, 0.016489186317534175, 0.9811065858932836, 0.16275899826563403, 0.06298865187116345, 0.19977057837971185, 0.06275876628039279, 0.0011494279538533478, 0.3758629409100447, 0.09908068962215857, 0.022988559077066956, 0.012873593083157494, 0.9972677982872296, 0.9957794379277193, 0.9366333569346411, 0.022138606618455153, 0.040871273757147976, 0.11761596648963987, 0.882119748672299, 0.07693376659426533, 0.043444950547349835, 0.08236438541268407, 0.3919096580625516, 0.4045811019721953, 0.18193380723239763, 0.10756221711374861, 0.07145204422556158, 0.001075622171137486, 0.08420584996904891, 0.23817348075187192, 0.2790471232550964, 0.036724814128837026, 0.16852426458504932, 0.005202932867460107, 0.1078656813985632, 0.12144406717461763, 0.2229647084909124, 0.27803965640500233, 0.030329291593243064, 0.047714701418658544, 0.017766112230351586, 0.20336441037669553, 0.13757634505989308, 0.0036429873302463896, 0.030429658876175728, 0.0672881189233745, 0.18557806047019845, 0.32765456634980766, 0.025929498056459596, 0.01500053606572043, 0.0036429873302463896, 0.1452096028338302, 0.1788094103305917, 0.22365784903279076, 0.3804082553111608, 0.006573875379801165, 0.047331902734568394, 0.017968592704789853, 0.6480908409838034, 0.18944436152228492, 0.08437835060041902, 0.0003675472645942335, 0.00021002700833956198, 0.000525067520848905, 0.06663106839572604, 0.010343830160723428, 0.25049012653242064, 0.34430752522439606, 0.32102777368792573, 0.07810356640485792, 0.0002327975153647032, 0.0003491962730470548, 0.001745981365235274, 0.003841159003517603, 0.9968580186210246, 0.9928032681488372, 0.07007350240842881, 0.438033936331838, 0.49170725732552817, 0.996103634089516, 0.9983101186958702, 0.9982815113062439, 0.9986254224117964, 0.7392165214639509, 0.1970956536225353, 0.03665892901075602, 0.027170735619736815, 0.16719403806836106, 0.7871362881337196, 0.007449239319877473, 0.01738155841304744, 0.01738155841304744, 0.0033107730310566546, 0.9990740352575044, 0.4803293791362438, 0.2019480068233533, 0.023825862060329554, 0.03392802757390929, 0.00019060689648263643, 0.04946248963724415, 0.20995349647562403, 0.00038121379296527286, 0.26193176137584684, 0.737860059823464, 0.997389430897444, 0.3867389850729219, 0.04630664661451526, 0.09967701898378707, 0.002158360647286728, 0.3512241416948403, 0.002943219064481902, 0.1106650368245195, 0.9974921000794746, 0.03805404095183858, 0.915411096230339, 0.04439638111047833, 0.5439203676058461, 0.08934088913745548, 0.12210826691633987, 0.05114245426814828, 0.07766411639304642, 0.04227172768712433, 0.07150891835723387, 0.001991387599821703, 0.9955273392369303, 0.9954571329351163, 0.07583519861376917, 0.05622264724813921, 0.8668747703608441, 0.24747131748822077, 0.17421753387341868, 0.2996939469323328, 0.02294953647680026, 0.130307894422451, 0.017194389558469546, 0.06856440464431038, 0.011297140247093626, 0.02842047860904057, 0.12257214895930725, 0.679086293935744, 0.031100396004600347, 0.1470865787511687, 0.02012378565003552, 0.48703427105369834, 0.2618094347331406, 0.012531740892707956, 0.002512123174344682, 0.20827522363848497, 0.0010394992445564202, 0.02679598052634328, 0.9967799845723914, 0.9948646710093118, 0.9982747649429342, 0.0825310039937066, 0.8588382603095093, 0.05802961218307495, 0.05074544055022639, 0.27814446494057143, 0.017622893580204142, 0.6110685267931028, 0.026965150417902727, 0.006369720571158124, 0.008917608799621373, 0.9975706851657967, 0.9931025288845073, 0.030368370029185937, 0.733373473242132, 0.11648762832090724, 0.0013597777625008627, 0.11830066533757506, 0.9975130761942923, 0.026213957501110687, 0.7505305689306095, 0.1345025676545084, 0.07645737604490617, 0.004993134762116321, 0.007489702143174482, 0.9981581605540013, 0.23558990930927667, 0.003953209362559291, 0.42972454205982347, 0.25215065123351155, 0.02104816876822109, 0.057374957505252414, 0.21951655100819326, 0.10037536129599295, 0.008728292286608083, 0.025748462245493844, 0.6454572145946676, 0.9964633323560954, 0.9944181154367497, 0.0893561042194622, 0.10286342229914834, 0.8073220113781643, 0.9977598618122796, 0.9970592375424467, 0.9976370290544007, 0.09902936624193921, 0.900266965835811, 0.9923463046061549, 0.9984887838494818, 0.9989381713383033, 0.18029095480786905, 0.24667596046611243, 0.03174935053220335, 0.538192724443616, 0.003092469207682145, 0.3560181311511227, 0.38929085368861077, 0.08298608444644091, 0.16558072509832314, 0.006132619448086042, 0.997376933479272, 0.11720326447513586, 0.18650606433869446, 0.01189018625110074, 0.684195288849054, 0.26131886583447644, 0.32171774782725576, 0.02783386932118924, 0.24853863444638075, 0.05726526756589045, 0.05241123737521947, 0.025990566717136974, 0.0003686605208104535, 0.004546813089995594, 0.5754031971145696, 0.07427106148818337, 0.06261682577594183, 0.09514333674683065, 0.0010534902338749414, 0.06459211996445735, 0.00790117675406206, 0.10409800373476764, 0.012641882806499296, 0.0022386667469842503, 0.08499822043427387, 0.12289551616930042, 0.7915120909229834, 0.0032260964161037703, 0.9033069965090558, 0.09248143059497475, 0.9989115598266295, 0.3210766377357448, 0.09365954792656182, 0.13522097231897365, 0.0023414886981640457, 0.014487961319890033, 0.2656126241979839, 0.1303916518790103, 0.03541501655973119, 0.0017561165236230343, 0.9968359684329839, 0.6435748419156313, 0.1878075546005322, 0.0012348374779473127, 0.14413921106221358, 0.014481275877745758, 0.008643862345631189, 0.9990537948628069, 0.9995655527914918, 0.9991996863903945, 0.2608683070127946, 0.30390668694491346, 0.13922263811374802, 0.002489823632436626, 0.2720725133587594, 0.0065209666563816404, 0.008003004532832012, 0.006906296504258737, 0.6209462909034047, 0.15181266327133708, 0.05965726981763552, 0.1673653367257401, 0.4016319690364943, 0.09351077583325315, 0.13211697734571598, 0.2853581026888173, 0.0075573460507887165, 0.03523726411632811, 0.027133603893193223, 0.01593416336009669, 0.0015478901549808215, 0.3222990745453165, 0.3211506165537394, 0.08623875464024341, 0.233032567018188, 0.013363874811078882, 0.023908807279195813, 0.07136663659552785, 0.06587689531894877, 0.7157250189339956, 0.14410570851020046, 0.002058652978717149, 0.9936672398293893, 0.9920818900385087, 0.2632619277634783, 0.18868347797212467, 0.545168467974795, 0.002983137991654145, 0.001046819130882717, 0.011282383966180394, 0.7469636065032009, 0.0810703260250282, 0.13597017377798848, 0.023611587063243508, 0.17434752493999567, 0.25478600774895616, 0.10391574334171927, 0.4666586622290171, 0.9982949157560452, 0.9959903486864438, 0.995578286649738, 0.9973695032710426, 0.9990757293123603, 0.1518327282964835, 0.022398681392950315, 0.7829622404624272, 0.038206084146829314, 0.004549732157943033, 0.048934446240375046, 0.08193024427674221, 0.247049047162122, 0.04795575731556754, 0.4169214819679954, 0.026564413673346454, 0.07997286642712721, 0.005173070031125362, 0.04418081431988147, 0.0012583143318953582, 0.995502942573814, 0.039949846915116494, 0.007989969383023298, 0.9508063565797725, 0.05703952717024224, 0.13094990040492233, 0.8122107319593648, 0.9760166831004302, 0.020855057331205774, 0.04991546750441744, 0.6696991890176007, 0.17146887448276732, 0.10630145857422232, 0.0023109012733526593, 0.9967536955689946, 0.9938490558478905, 0.999622147938834, 0.7091407433000104, 0.0630639290012052, 0.025948179120287553, 0.15076220526850614, 0.05058252638638333, 0.9970310022358395, 0.993368617364836, 0.9971509517309478, 0.9303448722458473, 0.013929056103493659, 0.05513584707632906, 0.9777895560000289, 0.021400292523189795, 0.9989873753027548, 0.999592125391446, 0.9947464642788815, 0.9954706102123642, 0.13686154956482124, 0.6464053574812624, 0.11341221079240035, 0.022416977945962098, 0.08081910469991599, 0.3039826789741626, 0.41033037848489745, 0.13395846870047845, 0.04973901722458593, 0.09670374663584834, 0.005284357739663844, 0.011274212503210713, 0.000512464204691396, 0.7194997433867201, 0.1299096758892689, 0.11120473241803294, 0.00640580255864245, 0.021267264494692937, 0.040464152941633524, 0.0003817372919022031, 0.31913237603024175, 0.47984377592106925, 0.1599479253070231, 0.03481166700771706, 0.35580236279316013, 0.4082459130905001, 0.2011843093303129, 0.9961320166979931, 0.9976101600809542, 0.9955389481575797, 0.2749869364048336, 0.0026204830151741144, 0.0165417990332866, 0.17016761579786907, 0.016869359410183363, 0.5090288256975717, 0.00982681130690293, 0.9971784189719125, 0.995158194423475, 0.9963437737154722, 0.9953175572409135, 0.9984305562183552, 0.09852174865965745, 0.12194390022780241, 0.07547137727513381, 0.1823581800662716, 0.25671421679054135, 0.0552093572677703, 0.0009294504590533721, 0.20875457310338738, 0.210146812473126, 0.16076805325812918, 0.06246987212315877, 0.19223265796722017, 0.30040659094518996, 0.05144577704260134, 0.01676581126834776, 0.0057417161877903276, 0.12534213009830433, 0.2013474643068506, 0.5080356549729144, 0.031202189832982143, 0.1274756131638074, 0.001866797682315171, 0.004800336897381868, 0.2531592736125722, 0.12162994739692447, 0.08688754147898492, 0.03953446190662086, 0.2841184774341844, 0.05258650913895024, 0.0502535345128817, 0.08505899379909337, 0.026671574779107855, 0.9957186558202772, 0.9960868216558064, 0.4819441394943961, 0.19266727804160613, 0.11583855040402914, 0.150723730703738, 0.0483338384835267, 0.0006971226704354813, 0.0018009002319583267, 0.006942179926420001, 0.0010456840056532219, 0.7301714397415434, 0.015101365718522698, 0.007346610349551583, 0.013468785640844569, 0.17427792329214034, 0.0591810278158322, 0.9974832469275503, 0.9966554818037864, 0.04525556954759241, 0.9466975899955817, 0.007746448841479782, 0.09427069588699816, 0.8619809031966326, 0.030881779687120085, 0.012461068996557228, 0.9939386494346866, 0.004872248281542581, 0.17633244754693603, 0.5151284984517233, 0.3082845936888005, 0.2837478880617, 0.6707614009589694, 0.02069964101433713, 0.024188344556079343, 0.00046516047223229504, 0.9943840383736658, 0.02659711922870281, 0.9441977326189497, 0.02659711922870281, 0.10545787686530167, 0.0935466566132979, 0.10908934645432722, 0.42415564799818306, 0.015106913490346246, 0.005374574991757799, 0.08584794108456376, 0.09165829242700463, 0.05824877220796966, 0.011620702684881728, 0.991295099515724, 0.9966956329066731, 0.1281535293740991, 0.09341594265731033, 0.01314395173067683, 0.253021070815529, 0.09341594265731033, 0.4187287479915619, 0.08127140345896802, 0.027937044939020255, 0.6827644467672678, 0.20360179720710217, 0.004232885596821251, 0.04457504233253094, 0.2232594792689696, 0.5898507756934052, 0.024593126804155003, 0.01421790143365211, 0.06033001419144274, 0.03650542259991758, 0.006532549307353672, 0.2737704162945058, 0.6756556178298306, 0.050402177209126375, 0.9716387396282012, 0.02573877455968745, 0.007797542218214774, 0.9902878617132762, 0.2704181466509262, 0.5505292428317652, 0.03180499064502633, 0.1065467186608382, 0.0006815355138219927, 0.0002271785046073309, 0.039680512138080465, 0.2998320457032361, 0.34941544383413153, 0.09255250418866755, 0.2581953150271003, 0.45660477582154546, 0.06875605012370922, 0.09090565016356186, 0.09759667517560068, 0.13389740857424806, 0.04268412507679935, 0.034685658395741455, 0.057450525103367775, 0.01745819169807829, 0.2236945212186299, 0.2886692109181051, 0.12106855936579068, 0.03523954786320882, 0.21506906022795722, 0.05450496895750736, 0.023918630312950915, 0.01577551418030926, 0.01986125886010159, 0.002213111701554177, 0.9974014158748612, 0.9960295027478125, 0.00042442897730818796, 0.11035153410012886, 0.05602462500468081, 0.16085858239980325, 0.5950494261860795, 0.04032075284427786, 0.03098331534349772, 0.005942005682314631, 0.050151362336196284, 0.5171047204612985, 0.02364649726732571, 0.21021995922270878, 0.08003429844325624, 0.0875699953746018, 0.031182194198671263, 0.9962009163583475, 0.9958054560582763, 0.9973418609621756, 0.18106520808185683, 0.01900947066476187, 0.4616133126426341, 0.003643481877412692, 0.21274765918979327, 0.08728515280236493, 0.022494540286634883, 0.004277130899571421, 0.007920612776984113, 0.16146595172751133, 0.06210228912596589, 0.5175190760497158, 0.017595648585690335, 0.0804742163257308, 0.09884614352549571, 0.05511578159929473, 0.006986507526671163, 0.02260341665808483, 0.2222215420843039, 0.674834535888364, 0.0796566189456604, 0.00040849548177261744, 0.8276651941055341, 0.15985591294096055, 0.011951843958202658, 0.20648869983572882, 0.13492385420383723, 0.12930409912641977, 0.20226145044121124, 0.0780797829340304, 0.025065102292198296, 0.12134692379556317, 0.0363543447928511, 0.06271248807631359, 0.0034315318614319096, 0.9946314052465407, 0.9612165842521878, 0.0378522043917926, 0.09735408277952617, 0.9015254788898588, 0.9893581001301074, 0.9002398591118528, 0.09961670572139354, 0.9967778334378623, 0.9934276007954116, 0.028531127942373943, 0.16361540036856512, 0.5884429720930393, 0.01237272214976734, 0.10609147574688563, 0.0015696737055674985, 0.0033240149059076437, 0.0035086824006802905, 0.09261074862848241, 0.9990506910436149, 0.9984354246301366, 0.07320909650564532, 0.0018580988960823685, 0.25530278832171743, 0.5193386414550221, 0.14994858091384713, 0.07511501734475828, 0.7940730405017304, 0.10235452912912119, 0.028890391286445497, 0.9980005960690577, 0.11884598325505574, 0.04318198105408778, 0.6714224841772763, 0.01757850556184104, 0.11961026610557056, 0.022928485515444838, 0.006114262804118623, 0.2995885426801047, 0.5390355945327374, 0.1611232498447622, 0.9928177214439218, 0.996827225074749, 0.9984033933005821, 0.979499418343835, 0.019164119054553293, 0.199102078289577, 0.539039321288228, 0.08641518101069764, 0.1724550517889927, 0.0026271716268181696, 0.00028148267430194674, 0.009107274638767971, 0.990837750051145, 0.9040642019943507, 0.09588559718121901, 0.060664456488859125, 0.061728745199189985, 0.13942182105334291, 0.0808859419851455, 0.6566661342741418, 0.1839023678456077, 0.8159212649352595, 0.3259330764733928, 0.3588806592038553, 0.01897902231017427, 0.29541480859863256, 0.0007591608924069707, 0.2448388098169227, 0.2882957304017913, 0.46668953845489314, 0.9988282504607631, 0.2731092878476855, 0.26392016470414054, 0.1997245230222589, 0.09030984745260712, 0.10496970437463468, 0.005598954101415775, 0.036628272251246714, 0.018420986394734343, 0.007308558407191584, 0.924310262831243, 0.07435664243073117, 0.4323070152436681, 0.06782585663055049, 0.1064988000769672, 0.0423693654530174, 0.1665830936370898, 0.0739284401320139, 0.03560421574282368, 0.04728630415991078, 0.02542161927181044, 0.00216205815480418, 0.9976781285167724, 0.9987013508587153, 0.12419363490237512, 0.1065876406824982, 0.7689536934951655, 0.9989162252931997, 0.006390859575919888, 0.034350870220569395, 0.6568205929151665, 0.024125494899097575, 0.038185385966121324, 0.21041905153716228, 0.029717497028027475, 0.9941721249081131, 0.9975039790699399, 0.996382147086794, 0.9962613595250894, 0.9975434141010956, 0.2622824232621333, 0.196425710082867, 0.330532034392621, 0.10039767490993996, 0.077092929645871, 0.008635240432668412, 0.010091787011672721, 0.001976741785791564, 0.012484684962894088, 0.014485437315200847, 0.08534663066794013, 0.027796379712952974, 0.7345813211465366, 0.0003914983058162391, 0.13741590534149992, 0.19292696810036233, 0.270810909502746, 0.436713088297221, 0.09946623841750199, 0.9929828016424477, 0.9983842804784808, 0.35549266782484445, 0.10043659016612706, 0.27405313007500787, 0.06194691005312113, 0.0319646055874105, 0.0946548785611691, 0.07648378494558689, 0.002808259922408158, 0.0022300887619123608, 0.07691516193325651, 0.5774457267841341, 0.0017908070298779163, 0.12374476576456402, 0.013162431669602685, 0.008954035149389581, 0.031070501968381847, 0.166724134481634, 0.23441641342722255, 0.7245821147253584, 0.04094931071375122, 0.12748841355934612, 0.8573628635865397, 0.015099039710942124, 0.25728373615405187, 0.3977801457641423, 0.13705557869901025, 0.0006530044064823651, 0.16983137679360588, 0.027501531734545764, 0.0006278888523868895, 0.00017580887866832908, 0.00909183058256216, 0.9725466353396631, 0.02417933623772643, 0.0014946977973253803, 0.9057868651791805, 0.005978791189301521, 0.08594512334620938, 0.005847253451988936, 0.0882403702754694, 0.12172918550049694, 0.05847253451988936, 0.4252547965082863, 0.13820780886519304, 0.0585484728764087, 0.042677356363867304, 0.06105443864154682, 0.9965702623109891, 0.1896763386019657, 0.12050026217066055, 0.3525748411660068, 0.11509771630335998, 0.09689348566354285, 0.04521695997631999, 0.04263313369195885, 0.03394208164456228, 0.003640846127963428, 0.0033503230927897144, 0.1578839757477153, 0.019683148170139574, 0.02219589048973186, 0.09129630427851972, 0.5473590352845196, 0.1578839757477153, 0.0014105754707941696, 0.11792410935839258, 0.5181513896050582, 0.13052525023082048, 0.07513665341096944, 0.15619772379927438, 0.0004701918235980565, 0.9948973270165411, 0.9995920506660938, 0.9988124336841875], \"Term\": [\"13th\", \"1954\", \"4/10\", \"4/10\", \"abc\", \"absurdity\", \"accident\", \"accident\", \"accident\", \"accident\", \"accident\", \"accident\", \"acting\", \"acting\", \"acting\", \"acting\", \"acting\", \"acting\", \"acting\", \"action\", \"action\", \"action\", \"action\", \"action\", \"actor\", \"actor\", \"actor\", \"actor\", \"actor\", \"actor\", \"actor\", \"actors\", \"actors\", \"actors\", \"actors\", \"actors\", \"actors\", \"adam\", \"adam\", \"adam\", \"adam\", \"adaptation\", \"adults\", \"adults\", \"adults\", \"aesthetic\", \"agent\", \"agent\", \"agent\", \"agents\", \"ago\", \"ago\", \"ago\", \"ago\", \"ago\", \"ago\", \"ago\", \"ago\", \"aired\", \"akbar\", \"aladdin\", \"ali\", \"alien\", \"aliens\", \"allen\", \"allen\", \"allen\", \"also\", \"also\", \"also\", \"also\", \"also\", \"also\", \"also\", \"also\", \"also\", \"also\", \"america\", \"america\", \"america\", \"america\", \"america\", \"america\", \"american\", \"american\", \"american\", \"american\", \"american\", \"american\", \"american\", \"american\", \"angelina\", \"animated\", \"animated\", \"animation\", \"animation\", \"anime\", \"anime\", \"apartment\", \"apartment\", \"architect\", \"arkin\", \"army\", \"army\", \"around\", \"around\", \"around\", \"around\", \"around\", \"around\", \"around\", \"around\", \"around\", \"art\", \"art\", \"art\", \"art\", \"art\", \"art\", \"arts\", \"asoka\", \"astro\", \"aubrey\", \"audience\", \"audience\", \"audience\", \"audience\", \"audience\", \"audience\", \"average\", \"average\", \"average\", \"average\", \"average\", \"average\", \"average\", \"awful\", \"awful\", \"awful\", \"bachchan\", \"back\", \"back\", \"back\", \"back\", \"back\", \"back\", \"back\", \"back\", \"back\", \"back\", \"bad\", \"bad\", \"bad\", \"bambi\", \"banderas\", \"barrymore\", \"batman\", \"batman\", \"battle\", \"battle\", \"battle\", \"battle\", \"battle\", \"battle\", \"beatles\", \"becomes\", \"becomes\", \"becomes\", \"becomes\", \"becomes\", \"becomes\", \"becomes\", \"becomes\", \"bees\", \"begins\", \"begins\", \"begins\", \"begins\", \"begins\", \"begins\", \"bela\", \"beliefs\", \"bernie\", \"best\", \"best\", \"best\", \"best\", \"best\", \"best\", \"best\", \"best\", \"best\", \"best\", \"better\", \"better\", \"better\", \"better\", \"better\", \"better\", \"better\", \"better\", \"big\", \"big\", \"big\", \"big\", \"big\", \"big\", \"big\", \"big\", \"big\", \"big\", \"bill\", \"bill\", \"bill\", \"bill\", \"bill\", \"bill\", \"bit\", \"bit\", \"bit\", \"bit\", \"bit\", \"bit\", \"bit\", \"bit\", \"bit\", \"blah\", \"blood\", \"blood\", \"blood\", \"blood\", \"blood\", \"bloom\", \"bob\", \"bob\", \"bob\", \"bob\", \"bogart\", \"bollywood\", \"boobs\", \"book\", \"book\", \"book\", \"book\", \"book\", \"boy\", \"boy\", \"boy\", \"boy\", \"british\", \"british\", \"british\", \"british\", \"british\", \"british\", \"british\", \"broadway\", \"broadway\", \"brothers\", \"brothers\", \"brothers\", \"brothers\", \"brothers\", \"brothers\", \"brothers\", \"bruce\", \"bruce\", \"bruce\", \"budget\", \"budget\", \"budget\", \"bugs\", \"bugs\", \"burt\", \"ca\", \"ca\", \"ca\", \"ca\", \"ca\", \"ca\", \"ca\", \"ca\", \"cagney\", \"canceled\", \"candyman\", \"cannibal\", \"captain\", \"captain\", \"captain\", \"carrey\", \"cartoon\", \"cartoon\", \"cartoons\", \"cary\", \"cassavetes\", \"cast\", \"cast\", \"cast\", \"cast\", \"cast\", \"cast\", \"cast\", \"cbs\", \"chainsaw\", \"chan\", \"chaney\", \"chaplin\", \"character\", \"character\", \"character\", \"character\", \"character\", \"character\", \"character\", \"character\", \"character\", \"characterisation\", \"characters\", \"characters\", \"characters\", \"characters\", \"characters\", \"characters\", \"characters\", \"characters\", \"charlie\", \"charlie\", \"charlie\", \"che\", \"children\", \"children\", \"children\", \"children\", \"children\", \"christmas\", \"christmas\", \"christmas\", \"christmas\", \"christmas\", \"cinema\", \"cinema\", \"cinema\", \"cinema\", \"cinema\", \"cinema\", \"cinema\", \"classic\", \"classic\", \"classic\", \"classic\", \"classic\", \"classic\", \"classic\", \"clint\", \"colbert\", \"columbo\", \"comedies\", \"comedies\", \"comedies\", \"comedy\", \"comedy\", \"comedy\", \"comedy\", \"comes\", \"comes\", \"comes\", \"comes\", \"comes\", \"comes\", \"comes\", \"comes\", \"comes\", \"comes\", \"connery\", \"controversy\", \"conway\", \"cop\", \"cop\", \"cop\", \"cop\", \"cop\", \"cop\", \"costello\", \"could\", \"could\", \"could\", \"could\", \"could\", \"could\", \"could\", \"could\", \"could\", \"country\", \"country\", \"country\", \"country\", \"country\", \"country\", \"country\", \"crap\", \"crap\", \"crap\", \"creature\", \"creature\", \"crew\", \"crew\", \"crew\", \"crew\", \"crew\", \"crew\", \"crew\", \"cried\", \"cried\", \"crime\", \"crime\", \"crime\", \"crime\", \"cronenberg\", \"crumb\", \"cult\", \"cult\", \"cult\", \"cult\", \"cult\", \"cult\", \"cult\", \"cultural\", \"culture\", \"culture\", \"cultures\", \"d'amato\", \"daffy\", \"dafoe\", \"dakota\", \"damme\", \"dance\", \"dance\", \"dance\", \"dance\", \"dance\", \"dancing\", \"dancing\", \"dancing\", \"dancing\", \"daughter\", \"daughter\", \"daughter\", \"davis\", \"davis\", \"de\", \"de\", \"de\", \"de\", \"dead\", \"dead\", \"dead\", \"dead\", \"dead\", \"dead\", \"death\", \"death\", \"death\", \"death\", \"death\", \"death\", \"death\", \"death\", \"death\", \"decides\", \"decides\", \"decides\", \"decides\", \"delpy\", \"demon\", \"demonstrate\", \"dern\", \"development\", \"development\", \"development\", \"development\", \"development\", \"dialogue\", \"dialogue\", \"dialogue\", \"dialogue\", \"dialogue\", \"dialogue\", \"dialogue\", \"diana\", \"diane\", \"dinosaurs\", \"directing\", \"directing\", \"directing\", \"directing\", \"direction\", \"direction\", \"direction\", \"direction\", \"direction\", \"direction\", \"director\", \"director\", \"director\", \"director\", \"director\", \"director\", \"director\", \"director\", \"director\", \"dirty\", \"dirty\", \"dirty\", \"dirty\", \"dirty\", \"dirty\", \"dirty\", \"disappointed\", \"disappointed\", \"disappointed\", \"disappointed\", \"disappointed\", \"disappointing\", \"disappointing\", \"disappointing\", \"disappointing\", \"disappointing\", \"disappointing\", \"disappointment\", \"disappointment\", \"disappointment\", \"disappointment\", \"disappointment\", \"disappointment\", \"discovers\", \"discovers\", \"discovers\", \"discussion\", \"disney\", \"django\", \"doctor\", \"doctor\", \"doctor\", \"doctor\", \"doctor\", \"doctor\", \"documentaries\", \"documentary\", \"dodge\", \"dolph\", \"dorothy\", \"douglas\", \"douglas\", \"douglas\", \"doyle\", \"dracula\", \"dumb\", \"dumb\", \"dumb\", \"dumber\", \"dumbest\", \"dunne\", \"duvall\", \"dvd\", \"dvd\", \"dvd\", \"dvd\", \"dvd\", \"dvd\", \"eastwood\", \"eddie\", \"eddie\", \"eddie\", \"edwards\", \"effects\", \"effects\", \"effects\", \"effects\", \"emily\", \"emily\", \"emily\", \"emily\", \"emmanuelle\", \"emotional\", \"emotional\", \"emotional\", \"emotional\", \"emotional\", \"emotions\", \"emotions\", \"emotions\", \"emotions\", \"end\", \"end\", \"end\", \"end\", \"end\", \"end\", \"end\", \"end\", \"end\", \"ending\", \"ending\", \"ending\", \"ending\", \"ending\", \"ending\", \"enemy\", \"enemy\", \"enemy\", \"enemy\", \"environment\", \"environment\", \"episode\", \"episodes\", \"errol\", \"even\", \"even\", \"even\", \"even\", \"even\", \"even\", \"even\", \"even\", \"even\", \"eventually\", \"eventually\", \"eventually\", \"eventually\", \"eventually\", \"eventually\", \"eventually\", \"eventually\", \"ever\", \"ever\", \"ever\", \"ever\", \"ever\", \"ever\", \"everett\", \"evil\", \"evil\", \"evil\", \"evil\", \"evil\", \"evil\", \"evil\", \"evil\", \"evil\", \"excellent\", \"excellent\", \"excellent\", \"excellent\", \"excellent\", \"excellent\", \"excellent\", \"excellent\", \"expectations\", \"expectations\", \"expectations\", \"expectations\", \"experience\", \"experience\", \"experience\", \"experience\", \"experience\", \"experience\", \"exploration\", \"family\", \"family\", \"family\", \"family\", \"family\", \"fans\", \"fans\", \"fans\", \"fans\", \"fans\", \"fans\", \"fans\", \"fans\", \"fart\", \"father\", \"father\", \"father\", \"father\", \"father\", \"favorite\", \"favorite\", \"favorite\", \"favorite\", \"favorite\", \"favorite\", \"fbi\", \"fbi\", \"fellini\", \"fight\", \"fight\", \"fight\", \"fight\", \"fight\", \"fight\", \"fighting\", \"fighting\", \"fighting\", \"fighting\", \"fighting\", \"fighting\", \"film\", \"film\", \"film\", \"film\", \"film\", \"film\", \"film\", \"film\", \"film\", \"filmmaker\", \"filmmaker\", \"filmmaker\", \"films\", \"films\", \"films\", \"films\", \"films\", \"films\", \"films\", \"finds\", \"finds\", \"finds\", \"finds\", \"finds\", \"finds\", \"fine\", \"fine\", \"fine\", \"fine\", \"fine\", \"fine\", \"fine\", \"fine\", \"first\", \"first\", \"first\", \"first\", \"first\", \"first\", \"first\", \"first\", \"first\", \"first\", \"flick\", \"flick\", \"flick\", \"flick\", \"flynn\", \"fonda\", \"ford\", \"ford\", \"frankie\", \"freaking\", \"freddy\", \"fu\", \"fun\", \"fun\", \"fun\", \"fun\", \"fun\", \"funny\", \"funny\", \"funny\", \"funny\", \"game\", \"game\", \"game\", \"game\", \"game\", \"game\", \"gang\", \"gang\", \"gang\", \"gang\", \"gang\", \"gang\", \"garbage\", \"garbage\", \"gay\", \"gay\", \"gay\", \"geeks\", \"general\", \"general\", \"general\", \"general\", \"general\", \"general\", \"general\", \"general\", \"german\", \"german\", \"german\", \"get\", \"get\", \"get\", \"get\", \"get\", \"get\", \"get\", \"get\", \"get\", \"gets\", \"gets\", \"gets\", \"gets\", \"gets\", \"gets\", \"gets\", \"gets\", \"gets\", \"giallo\", \"giant\", \"giant\", \"giant\", \"giant\", \"girl\", \"girl\", \"girl\", \"girl\", \"girl\", \"girl\", \"go\", \"go\", \"go\", \"go\", \"go\", \"go\", \"go\", \"go\", \"go\", \"godzilla\", \"goes\", \"goes\", \"goes\", \"goes\", \"goes\", \"goes\", \"goes\", \"goes\", \"goes\", \"goes\", \"going\", \"going\", \"going\", \"going\", \"going\", \"going\", \"going\", \"going\", \"gon\", \"gon\", \"good\", \"good\", \"good\", \"good\", \"good\", \"good\", \"good\", \"good\", \"good\", \"good\", \"gore\", \"gory\", \"got\", \"got\", \"got\", \"got\", \"got\", \"got\", \"got\", \"government\", \"grant\", \"great\", \"great\", \"great\", \"great\", \"great\", \"great\", \"great\", \"great\", \"great\", \"gun\", \"gun\", \"gun\", \"guy\", \"guy\", \"guy\", \"guy\", \"guy\", \"guy\", \"guy\", \"guys\", \"guys\", \"guys\", \"guys\", \"guys\", \"guys\", \"ha\", \"ha\", \"halloween\", \"harding\", \"harold\", \"harrelson\", \"harry\", \"harry\", \"harry\", \"hayek\", \"henry\", \"henry\", \"henry\", \"hero\", \"hero\", \"hero\", \"hero\", \"hero\", \"hero\", \"hero\", \"hero\", \"hero\", \"highlander\", \"hilarious\", \"hilarious\", \"hilarious\", \"hilarious\", \"hilarious\", \"history\", \"history\", \"history\", \"history\", \"history\", \"history\", \"history\", \"ho\", \"hockey\", \"hoffman\", \"holden\", \"holmes\", \"home\", \"home\", \"home\", \"home\", \"home\", \"home\", \"home\", \"homosexuality\", \"hong\", \"horrible\", \"horrible\", \"horrible\", \"horror\", \"horror\", \"hospital\", \"hospital\", \"hospital\", \"hospital\", \"house\", \"house\", \"house\", \"house\", \"house\", \"housekeeper\", \"howard\", \"howard\", \"hudson\", \"hudson\", \"hughes\", \"human\", \"human\", \"human\", \"human\", \"human\", \"human\", \"humanity\", \"humanity\", \"humanity\", \"humphrey\", \"husband\", \"husband\", \"husband\", \"idiot\", \"idiot\", \"idiots\", \"images\", \"images\", \"images\", \"important\", \"important\", \"important\", \"important\", \"important\", \"important\", \"important\", \"important\", \"india\", \"indian\", \"indians\", \"indians\", \"insight\", \"insights\", \"insulted\", \"interesting\", \"interesting\", \"interesting\", \"interesting\", \"interesting\", \"interesting\", \"interesting\", \"interesting\", \"iraq\", \"irene\", \"irene\", \"issue\", \"issue\", \"issue\", \"issue\", \"issue\", \"issues\", \"issues\", \"it`s\", \"jack\", \"jack\", \"jack\", \"jack\", \"jack\", \"jack\", \"jack\", \"jake\", \"james\", \"james\", \"james\", \"james\", \"james\", \"james\", \"james\", \"jane\", \"jaws\", \"jenny\", \"jenny\", \"jerry\", \"jerry\", \"jerry\", \"jerry\", \"jess\", \"jesse\", \"jesse\", \"jesse\", \"jet\", \"joe\", \"joe\", \"joe\", \"joe\", \"joe\", \"joe\", \"john\", \"john\", \"john\", \"john\", \"john\", \"john\", \"john\", \"john\", \"joke\", \"joke\", \"joke\", \"jokes\", \"jokes\", \"jokes\", \"jolie\", \"juan\", \"judy\", \"kapoor\", \"karate\", \"karloff\", \"keaton\", \"kelly\", \"keystone\", \"khan\", \"kidding\", \"kids\", \"kids\", \"kids\", \"killer\", \"killer\", \"kinski\", \"know\", \"know\", \"know\", \"know\", \"know\", \"know\", \"know\", \"kung\", \"kurosawa\", \"lana\", \"laugh\", \"laugh\", \"laugh\", \"laugh\", \"laura\", \"laura\", \"laura\", \"layers\", \"leader\", \"leader\", \"leader\", \"leader\", \"lee\", \"lee\", \"lee\", \"lee\", \"lee\", \"leigh\", \"leonardo\", \"lesbians\", \"lesbians\", \"li\", \"liam\", \"life\", \"life\", \"life\", \"life\", \"life\", \"life\", \"life\", \"like\", \"like\", \"like\", \"like\", \"like\", \"like\", \"like\", \"like\", \"like\", \"like\", \"lime\", \"little\", \"little\", \"little\", \"little\", \"little\", \"little\", \"little\", \"little\", \"little\", \"lives\", \"lives\", \"lives\", \"lives\", \"lives\", \"lives\", \"lola\", \"look\", \"look\", \"look\", \"look\", \"look\", \"look\", \"look\", \"look\", \"look\", \"look\", \"looney\", \"lot\", \"lot\", \"lot\", \"lot\", \"lot\", \"lot\", \"lot\", \"lot\", \"lot\", \"love\", \"love\", \"love\", \"love\", \"love\", \"love\", \"love\", \"love\", \"loved\", \"loved\", \"loved\", \"loved\", \"loy\", \"lugosi\", \"luke\", \"luke\", \"lundgren\", \"made\", \"made\", \"made\", \"made\", \"made\", \"made\", \"made\", \"made\", \"made\", \"main\", \"main\", \"main\", \"main\", \"main\", \"main\", \"main\", \"main\", \"make\", \"make\", \"make\", \"make\", \"make\", \"make\", \"make\", \"make\", \"make\", \"make\", \"malkovich\", \"man\", \"man\", \"man\", \"man\", \"man\", \"man\", \"man\", \"man\", \"man\", \"man\", \"manga\", \"many\", \"many\", \"many\", \"many\", \"many\", \"many\", \"many\", \"many\", \"many\", \"maria\", \"marple\", \"mars\", \"martial\", \"mary\", \"mary\", \"mary\", \"mary\", \"mary\", \"massacre\", \"massacre\", \"match\", \"match\", \"match\", \"match\", \"match\", \"match\", \"maury\", \"may\", \"may\", \"may\", \"may\", \"may\", \"may\", \"may\", \"may\", \"may\", \"mean\", \"mean\", \"mean\", \"mean\", \"mean\", \"media\", \"media\", \"melanie\", \"men\", \"men\", \"men\", \"men\", \"men\", \"men\", \"message\", \"message\", \"message\", \"message\", \"message\", \"metal\", \"metal\", \"mexican\", \"mexican\", \"mexican\", \"mexican\", \"mexican\", \"mexican\", \"michael\", \"michael\", \"michael\", \"michael\", \"michael\", \"michael\", \"michael\", \"mickey\", \"midget\", \"military\", \"mimi\", \"minnelli\", \"mins\", \"minutes\", \"minutes\", \"minutes\", \"minutes\", \"minutes\", \"minutes\", \"minutes\", \"mitchum\", \"mitchum\", \"money\", \"money\", \"money\", \"money\", \"money\", \"money\", \"money\", \"money\", \"money\", \"monster\", \"monsters\", \"moronic\", \"mother\", \"mother\", \"mother\", \"mother\", \"movies\", \"movies\", \"movies\", \"movies\", \"movies\", \"movies\", \"movies\", \"mr\", \"mr\", \"mr\", \"mr\", \"mr\", \"mr\", \"mr\", \"mr\", \"mr\", \"much\", \"much\", \"much\", \"much\", \"much\", \"much\", \"much\", \"much\", \"much\", \"mummies\", \"murder\", \"murder\", \"murder\", \"murderer\", \"murderer\", \"murphy\", \"murphy\", \"murphy\", \"musical\", \"musical\", \"musical\", \"musical\", \"musical\", \"musicals\", \"mysterious\", \"mysterious\", \"mysterious\", \"na\", \"na\", \"na\", \"nathan\", \"nature\", \"nature\", \"nature\", \"nature\", \"nature\", \"navy\", \"navy\", \"nazi\", \"nazis\", \"nbc\", \"never\", \"never\", \"never\", \"never\", \"never\", \"never\", \"never\", \"never\", \"never\", \"new\", \"new\", \"new\", \"new\", \"new\", \"new\", \"new\", \"new\", \"new\", \"new\", \"nikki\", \"ninja\", \"niro\", \"nope\", \"norma\", \"norman\", \"norris\", \"nothing\", \"nothing\", \"nothing\", \"nothing\", \"nothing\", \"nothing\", \"nothing\", \"nothing\", \"nothing\", \"novel\", \"novel\", \"novel\", \"novel\", \"o'hara\", \"officer\", \"officer\", \"officer\", \"oh\", \"oh\", \"oh\", \"oh\", \"oil\", \"oil\", \"old\", \"old\", \"old\", \"old\", \"old\", \"old\", \"old\", \"old\", \"old\", \"old\", \"one\", \"one\", \"one\", \"one\", \"one\", \"one\", \"one\", \"one\", \"one\", \"one\", \"original\", \"original\", \"original\", \"original\", \"original\", \"original\", \"orphanage\", \"osama\", \"oscar\", \"oscar\", \"oscar\", \"oscar\", \"oscar\", \"oscar\", \"overall\", \"overall\", \"overall\", \"overall\", \"overall\", \"overall\", \"overall\", \"overdone\", \"overdone\", \"pammy\", \"pathetic\", \"pathetic\", \"pathetic\", \"patients\", \"paul\", \"paul\", \"paul\", \"paul\", \"paul\", \"paul\", \"paul\", \"paul\", \"peanuts\", \"people\", \"people\", \"people\", \"people\", \"people\", \"performance\", \"performance\", \"performance\", \"performance\", \"performance\", \"performance\", \"performances\", \"performances\", \"performances\", \"performances\", \"performances\", \"performances\", \"perspective\", \"perspective\", \"peter\", \"peter\", \"peter\", \"peter\", \"peter\", \"peter\", \"phantasm\", \"phantom\", \"phantom\", \"philip\", \"philosophical\", \"philosophical\", \"picture\", \"picture\", \"picture\", \"picture\", \"picture\", \"picture\", \"picture\", \"picture\", \"picture\", \"pie\", \"pierce\", \"pile\", \"pile\", \"pile\", \"pirate\", \"pirate\", \"planet\", \"planet\", \"planet\", \"planet\", \"planet\", \"play\", \"play\", \"play\", \"play\", \"play\", \"play\", \"play\", \"play\", \"played\", \"played\", \"played\", \"played\", \"played\", \"played\", \"played\", \"played\", \"played\", \"playing\", \"playing\", \"playing\", \"playing\", \"playing\", \"playing\", \"playing\", \"playing\", \"playing\", \"playing\", \"plays\", \"plays\", \"plays\", \"plays\", \"plays\", \"plays\", \"plays\", \"plot\", \"plot\", \"plot\", \"plot\", \"plot\", \"plot\", \"plot\", \"plot\", \"point\", \"point\", \"point\", \"point\", \"point\", \"point\", \"point\", \"point\", \"poirot\", \"pokemon\", \"police\", \"police\", \"police\", \"porky\", \"potter\", \"powell\", \"predator\", \"predictable\", \"predictable\", \"predictable\", \"predictable\", \"presented\", \"presented\", \"presented\", \"presented\", \"presented\", \"presented\", \"president\", \"pretty\", \"pretty\", \"pretty\", \"pretty\", \"pretty\", \"pretty\", \"pretty\", \"pretty\", \"prison\", \"prison\", \"prisoners\", \"production\", \"production\", \"production\", \"production\", \"production\", \"production\", \"production\", \"profound\", \"prostitute\", \"prostitute\", \"prostitute\", \"quite\", \"quite\", \"quite\", \"quite\", \"quite\", \"quite\", \"quite\", \"quite\", \"rani\", \"rap\", \"rape\", \"rape\", \"rape\", \"real\", \"real\", \"real\", \"real\", \"real\", \"real\", \"real\", \"real\", \"real\", \"reality\", \"reality\", \"reality\", \"reality\", \"reality\", \"really\", \"really\", \"really\", \"really\", \"really\", \"really\", \"really\", \"reflect\", \"reilly\", \"religion\", \"religious\", \"religious\", \"religious\", \"remember\", \"remember\", \"remember\", \"remember\", \"remember\", \"remember\", \"remember\", \"representation\", \"reruns\", \"richard\", \"richard\", \"richard\", \"richard\", \"richard\", \"ringu\", \"robert\", \"robert\", \"robert\", \"robert\", \"robert\", \"robert\", \"rogers\", \"role\", \"role\", \"role\", \"role\", \"role\", \"role\", \"romantic\", \"romantic\", \"romantic\", \"romantic\", \"romantic\", \"romero\", \"roswell\", \"russian\", \"russian\", \"russian\", \"sadako\", \"saif\", \"sally\", \"sandler\", \"sandler\", \"sanjay\", \"santa\", \"satan\", \"saw\", \"saw\", \"saw\", \"saw\", \"saw\", \"say\", \"say\", \"say\", \"say\", \"say\", \"scares\", \"scary\", \"scary\", \"scary\", \"scary\", \"scene\", \"scene\", \"scene\", \"scene\", \"scene\", \"scene\", \"scene\", \"scene\", \"scene\", \"scenes\", \"scenes\", \"scenes\", \"scenes\", \"scenes\", \"scenes\", \"scenes\", \"scenes\", \"scenes\", \"scenes\", \"sci-fi\", \"sci-fi\", \"sci-fi\", \"scientist\", \"scientist\", \"scientist\", \"scorsese\", \"screen\", \"screen\", \"screen\", \"screen\", \"screen\", \"screen\", \"screen\", \"screen\", \"screen\", \"screwball\", \"script\", \"script\", \"script\", \"script\", \"script\", \"script\", \"seagal\", \"season\", \"seasons\", \"see\", \"see\", \"see\", \"see\", \"see\", \"see\", \"see\", \"see\", \"seemed\", \"seemed\", \"seemed\", \"seemed\", \"seems\", \"seems\", \"seems\", \"seems\", \"seems\", \"seems\", \"seems\", \"seems\", \"seems\", \"seen\", \"seen\", \"seen\", \"seen\", \"seen\", \"seen\", \"sees\", \"sees\", \"sees\", \"sees\", \"sees\", \"segal\", \"sen\", \"sequel\", \"sequel\", \"sequel\", \"sequel\", \"series\", \"series\", \"series\", \"series\", \"series\", \"series\", \"sex\", \"sex\", \"sex\", \"sex\", \"shark\", \"sharpe\", \"shatner\", \"sherlock\", \"ship\", \"show\", \"show\", \"show\", \"show\", \"show\", \"shows\", \"shows\", \"shows\", \"shows\", \"shows\", \"shows\", \"shows\", \"shows\", \"shows\", \"shows\", \"sinbad\", \"singer\", \"singer\", \"singer\", \"singing\", \"singing\", \"singing\", \"sir\", \"sir\", \"sister\", \"sister\", \"sister\", \"sister\", \"sister\", \"sitcoms\", \"skating\", \"slasher\", \"slow\", \"slow\", \"slow\", \"slow\", \"slow\", \"snoopy\", \"snowblood\", \"sobieski\", \"social\", \"social\", \"social\", \"society\", \"society\", \"soldier\", \"soldiers\", \"solondz\", \"someday\", \"someone\", \"someone\", \"someone\", \"someone\", \"someone\", \"something\", \"something\", \"something\", \"something\", \"something\", \"something\", \"son\", \"son\", \"son\", \"son\", \"son\", \"son\", \"son\", \"song\", \"song\", \"song\", \"song\", \"song\", \"songs\", \"songs\", \"songs\", \"songs\", \"sopranos\", \"soviet\", \"spaghetti\", \"special\", \"special\", \"special\", \"special\", \"special\", \"special\", \"special\", \"spiritual\", \"spock\", \"stallone\", \"stan\", \"stanwyck\", \"star\", \"star\", \"star\", \"star\", \"star\", \"star\", \"star\", \"star\", \"stars\", \"stars\", \"stars\", \"stars\", \"stars\", \"stars\", \"stars\", \"stars\", \"starts\", \"starts\", \"starts\", \"starts\", \"starts\", \"starts\", \"starts\", \"still\", \"still\", \"still\", \"still\", \"still\", \"still\", \"still\", \"still\", \"still\", \"stinker\", \"stinks\", \"story\", \"story\", \"story\", \"story\", \"story\", \"story\", \"story\", \"story\", \"story\", \"storyline\", \"storyline\", \"storyline\", \"storyline\", \"storyline\", \"storyline\", \"streep\", \"stumbles\", \"stupid\", \"stupid\", \"stupid\", \"subject\", \"subject\", \"subject\", \"subject\", \"sucks\", \"sucks\", \"supporting\", \"supporting\", \"supporting\", \"supposed\", \"supposed\", \"supposed\", \"supposed\", \"supposed\", \"surfing\", \"symbolism\", \"symbolism\", \"symbolism\", \"takes\", \"takes\", \"takes\", \"takes\", \"takes\", \"takes\", \"takes\", \"takes\", \"takes\", \"takes\", \"taliban\", \"tarzan\", \"team\", \"team\", \"team\", \"team\", \"team\", \"team\", \"television\", \"television\", \"television\", \"television\", \"television\", \"tells\", \"tells\", \"tells\", \"tells\", \"tells\", \"tells\", \"tells\", \"tells\", \"terrible\", \"terrible\", \"terrible\", \"terrorist\", \"terrorist\", \"terrorists\", \"terrorists\", \"thing\", \"thing\", \"thing\", \"thing\", \"thing\", \"thing\", \"thing\", \"think\", \"think\", \"think\", \"think\", \"though\", \"though\", \"though\", \"though\", \"though\", \"though\", \"though\", \"though\", \"though\", \"time\", \"time\", \"time\", \"time\", \"time\", \"time\", \"time\", \"time\", \"time\", \"time\", \"titanic\", \"toilet\", \"tom\", \"tom\", \"tom\", \"tom\", \"tom\", \"tom\", \"tom\", \"tom\", \"town\", \"town\", \"town\", \"town\", \"town\", \"town\", \"town\", \"travolta\", \"tripe\", \"troll\", \"true\", \"true\", \"true\", \"true\", \"true\", \"true\", \"true\", \"true\", \"true\", \"turns\", \"turns\", \"turns\", \"turns\", \"turns\", \"turns\", \"turns\", \"turns\", \"tv\", \"tv\", \"tv\", \"tv\", \"tv\", \"twists\", \"twists\", \"twists\", \"two\", \"two\", \"two\", \"two\", \"two\", \"two\", \"two\", \"two\", \"two\", \"two\", \"underdeveloped\", \"understanding\", \"understanding\", \"unfunny\", \"unfunny\", \"uninspiring\", \"uninteresting\", \"uninteresting\", \"union\", \"unsatisfying\", \"us\", \"us\", \"us\", \"us\", \"us\", \"us\", \"us\", \"us\", \"us\", \"vampire\", \"vampires\", \"version\", \"version\", \"version\", \"version\", \"version\", \"victim\", \"victim\", \"victim\", \"victim\", \"vietnam\", \"view\", \"view\", \"view\", \"view\", \"view\", \"view\", \"view\", \"viewer\", \"viewer\", \"viewer\", \"vinnie\", \"violin\", \"waitress\", \"wan\", \"wan\", \"want\", \"want\", \"want\", \"want\", \"want\", \"want\", \"war\", \"war\", \"warner\", \"warner\", \"wars\", \"wars\", \"wars\", \"wars\", \"wars\", \"waste\", \"waste\", \"watch\", \"watch\", \"watch\", \"watch\", \"watch\", \"watched\", \"watched\", \"watched\", \"watson\", \"way\", \"way\", \"way\", \"way\", \"way\", \"way\", \"way\", \"way\", \"way\", \"wayne\", \"wayne\", \"well\", \"well\", \"well\", \"well\", \"well\", \"well\", \"well\", \"well\", \"well\", \"well\", \"welles\", \"werewolf\", \"western\", \"western\", \"western\", \"westerns\", \"wife\", \"wife\", \"wife\", \"wife\", \"wife\", \"wife\", \"wife\", \"wilbur\", \"wilder\", \"willem\", \"williamson\", \"willis\", \"without\", \"without\", \"without\", \"without\", \"without\", \"without\", \"without\", \"without\", \"without\", \"woman\", \"woman\", \"woman\", \"woman\", \"woman\", \"woman\", \"women\", \"women\", \"women\", \"women\", \"woodstock\", \"woody\", \"work\", \"work\", \"work\", \"work\", \"work\", \"work\", \"work\", \"work\", \"work\", \"world\", \"world\", \"world\", \"world\", \"world\", \"world\", \"world\", \"world\", \"worse\", \"worse\", \"worse\", \"worst\", \"worst\", \"worst\", \"would\", \"would\", \"would\", \"would\", \"would\", \"would\", \"would\", \"would\", \"would\", \"ya\", \"ya\", \"yeah\", \"yeah\", \"yeah\", \"yeah\", \"years\", \"years\", \"years\", \"years\", \"years\", \"years\", \"years\", \"years\", \"years\", \"yelling\", \"yet\", \"yet\", \"yet\", \"yet\", \"yet\", \"yet\", \"yet\", \"yet\", \"yet\", \"york\", \"york\", \"york\", \"york\", \"york\", \"york\", \"york\", \"young\", \"young\", \"young\", \"young\", \"young\", \"young\", \"young\", \"zohan\", \"zombie\", \"zombies\"]}, \"mdsDat\": {\"y\": [-0.08276515043647593, -0.03239411276147533, 0.03231300129121749, 0.1611059296213495, -0.09769851290283493, -0.09398144194763322, -0.01223275504364196, 0.031880240961635505, 0.26145179172690713, -0.1676789905090476], \"topics\": [1, 2, 3, 4, 5, 6, 7, 8, 9, 10], \"cluster\": [1, 1, 1, 1, 1, 1, 1, 1, 1, 1], \"Freq\": [18.802265379037024, 17.695645693983792, 14.834426023786158, 10.806178712327382, 9.874447452617604, 7.288196106348095, 7.039021466211162, 6.6557650382508955, 5.365850302484548, 1.6382038249533382], \"x\": [-0.1748466802560328, -0.15709952981621186, -0.11624838037558503, -0.012048486535882934, -0.14438845473189343, 0.0290990841357151, 0.041745580377462434, -0.025820915311360083, 0.16296582067343326, 0.3966419618403556]}, \"lambda.step\": 0.01};\n",
       "\n",
       "function LDAvis_load_lib(url, callback){\n",
       "  var s = document.createElement('script');\n",
       "  s.src = url;\n",
       "  s.async = true;\n",
       "  s.onreadystatechange = s.onload = callback;\n",
       "  s.onerror = function(){console.warn(\"failed to load library \" + url);};\n",
       "  document.getElementsByTagName(\"head\")[0].appendChild(s);\n",
       "}\n",
       "\n",
       "if(typeof(LDAvis) !== \"undefined\"){\n",
       "   // already loaded: just create the visualization\n",
       "   !function(LDAvis){\n",
       "       new LDAvis(\"#\" + \"ldavis_el205281399351131265607320294804\", ldavis_el205281399351131265607320294804_data);\n",
       "   }(LDAvis);\n",
       "}else if(typeof define === \"function\" && define.amd){\n",
       "   // require.js is available: use it to load d3/LDAvis\n",
       "   require.config({paths: {d3: \"https://cdnjs.cloudflare.com/ajax/libs/d3/3.5.5/d3.min\"}});\n",
       "   require([\"d3\"], function(d3){\n",
       "      window.d3 = d3;\n",
       "      LDAvis_load_lib(\"https://cdn.rawgit.com/bmabey/pyLDAvis/files/ldavis.v1.0.0.js\", function(){\n",
       "        new LDAvis(\"#\" + \"ldavis_el205281399351131265607320294804\", ldavis_el205281399351131265607320294804_data);\n",
       "      });\n",
       "    });\n",
       "}else{\n",
       "    // require.js not available: dynamically load d3 & LDAvis\n",
       "    LDAvis_load_lib(\"https://cdnjs.cloudflare.com/ajax/libs/d3/3.5.5/d3.min.js\", function(){\n",
       "         LDAvis_load_lib(\"https://cdn.rawgit.com/bmabey/pyLDAvis/files/ldavis.v1.0.0.js\", function(){\n",
       "                 new LDAvis(\"#\" + \"ldavis_el205281399351131265607320294804\", ldavis_el205281399351131265607320294804_data);\n",
       "            })\n",
       "         });\n",
       "}\n",
       "</script>"
      ],
      "text/plain": [
       "PreparedData(topic_coordinates=            Freq  cluster  topics         x         y\n",
       "topic                                                \n",
       "4      18.802265        1       1 -0.174847 -0.082765\n",
       "1      17.695646        1       2 -0.157100 -0.032394\n",
       "7      14.834426        1       3 -0.116248  0.032313\n",
       "8      10.806179        1       4 -0.012048  0.161106\n",
       "3       9.874447        1       5 -0.144388 -0.097699\n",
       "9       7.288196        1       6  0.029099 -0.093981\n",
       "2       7.039021        1       7  0.041746 -0.012233\n",
       "5       6.655765        1       8 -0.025821  0.031880\n",
       "0       5.365850        1       9  0.162966  0.261452\n",
       "6       1.638204        1      10  0.396642 -0.167679, topic_info=      Category           Freq         Term          Total  loglift  logprob\n",
       "term                                                                       \n",
       "50812  Default  117688.000000         film  117688.000000  30.0000  30.0000\n",
       "20697  Default   17143.000000         show   17143.000000  29.0000  29.0000\n",
       "44065  Default   10153.000000       horror   10153.000000  28.0000  28.0000\n",
       "32976  Default   26854.000000          bad   26854.000000  27.0000  27.0000\n",
       "53836  Default   34632.000000       really   34632.000000  26.0000  26.0000\n",
       "23929  Default   58714.000000         like   58714.000000  25.0000  25.0000\n",
       "33346  Default   27291.000000        great   27291.000000  24.0000  24.0000\n",
       "37084  Default   43189.000000         good   43189.000000  23.0000  23.0000\n",
       "6984   Default   33737.000000          see   33737.000000  22.0000  22.0000\n",
       "28829  Default    5929.000000          war    5929.000000  21.0000  21.0000\n",
       "30464  Default   10335.000000       action   10335.000000  20.0000  20.0000\n",
       "7411   Default   27658.000000       people   27658.000000  19.0000  19.0000\n",
       "16901  Default   19758.000000        watch   19758.000000  18.0000  18.0000\n",
       "18396  Default   39815.000000        would   39815.000000  17.0000  17.0000\n",
       "48314  Default   18510.000000         love   18510.000000  16.0000  16.0000\n",
       "52629  Default   20790.000000        films   20790.000000  15.0000  15.0000\n",
       "13191  Default   34427.000000        story   34427.000000  14.0000  14.0000\n",
       "6979   Default    9359.000000         role    9359.000000  13.0000  13.0000\n",
       "13623  Default    6633.000000      effects    6633.000000  12.0000  12.0000\n",
       "46773  Default    9317.000000       comedy    9317.000000  11.0000  11.0000\n",
       "54099  Default   21015.000000        think   21015.000000  10.0000  10.0000\n",
       "51099  Default   22384.000000       movies   22384.000000   9.0000   9.0000\n",
       "38502  Default   18922.000000         best   18922.000000   8.0000   8.0000\n",
       "21942  Default   21541.000000   characters   21541.000000   7.0000   7.0000\n",
       "40720  Default   28394.000000        could   28394.000000   6.0000   6.0000\n",
       "17525  Default    8597.000000       series    8597.000000   5.0000   5.0000\n",
       "29123  Default   12944.000000        funny   12944.000000   4.0000   4.0000\n",
       "55206  Default   19045.000000         plot   19045.000000   3.0000   3.0000\n",
       "53553  Default    8269.000000  performance    8269.000000   2.0000   2.0000\n",
       "55026  Default   17852.000000       acting   17852.000000   1.0000   1.0000\n",
       "...        ...            ...          ...            ...      ...      ...\n",
       "16345  Topic10     218.085298     bachchan     218.980889   4.1075  -6.4641\n",
       "53823  Topic10     211.245977       django     212.141600   4.1073  -6.4960\n",
       "9201   Topic10     210.545089        akbar     211.440674   4.1073  -6.4993\n",
       "23058  Topic10     208.990053       pierce     209.885836   4.1073  -6.5067\n",
       "44264  Topic10     205.032518      colbert     205.928191   4.1072  -6.5258\n",
       "54528  Topic10     201.938572         it`s     202.834204   4.1071  -6.5411\n",
       "19136  Topic10     447.895536      indians     456.458484   4.0926  -5.7445\n",
       "19924  Topic10     329.089393         navy     342.178497   4.0726  -6.0527\n",
       "25258  Topic10    1616.149643      western    2101.556978   3.8489  -4.4612\n",
       "20990  Topic10     371.227837        jenny     404.348373   4.0261  -5.9322\n",
       "41552  Topic10     311.338077      mitchum     363.276744   3.9573  -6.1081\n",
       "18651  Topic10     616.624385         wars     939.594670   3.6904  -5.4248\n",
       "19109  Topic10     385.849280        jesse     489.505152   3.8736  -5.8936\n",
       "21916  Topic10     252.421768         luke     278.473573   4.0133  -6.3179\n",
       "48183  Topic10     691.100316        harry    1784.329354   3.1631  -5.3107\n",
       "20444  Topic10    1123.101920         star    5379.522869   2.5451  -4.8252\n",
       "3611   Topic10     254.656474       pirate     289.076399   3.9848  -6.3091\n",
       "27998  Topic10     708.666027         jack    2901.366802   2.7020  -5.2856\n",
       "21245  Topic10     413.103930      mexican     861.212667   3.3769  -5.8253\n",
       "29023  Topic10     447.283609       planet    1104.846464   3.2073  -5.7458\n",
       "41402  Topic10     324.369055      phantom     517.720758   3.6440  -6.0671\n",
       "51560  Topic10     440.967893      captain    1177.151694   3.1297  -5.7600\n",
       "31388  Topic10     587.711784         john    6758.647709   1.6692  -5.4728\n",
       "2476   Topic10     445.076856        songs    2211.902118   2.5082  -5.7508\n",
       "31229  Topic10     428.696269         crew    2140.187582   2.5037  -5.7883\n",
       "6979   Topic10     537.225245         role    9359.484056   1.2538  -5.5626\n",
       "13859  Topic10     419.237090         song    2619.602594   2.2792  -5.8106\n",
       "30464  Topic10     421.695537       action   10335.714581   0.9125  -5.8047\n",
       "38502  Topic10     408.957650         best   18922.070984   0.2771  -5.8354\n",
       "9731   Topic10     338.934458        dirty     987.012562   3.0427  -6.0232\n",
       "\n",
       "[820 rows x 6 columns], token_table=       Topic      Freq       Term\n",
       "term                             \n",
       "12877      8  0.997854       13th\n",
       "15019      4  0.994013       1954\n",
       "39164      1  0.883616       4/10\n",
       "39164      8  0.115519       4/10\n",
       "20601      5  0.997935        abc\n",
       "54044      2  0.994351  absurdity\n",
       "33044      2  0.118099   accident\n",
       "33044      4  0.792405   accident\n",
       "33044      5  0.055240   accident\n",
       "33044      7  0.021905   accident\n",
       "33044      8  0.011429   accident\n",
       "33044      9  0.000952   accident\n",
       "55026      1  0.657096     acting\n",
       "55026      2  0.247524     acting\n",
       "55026      3  0.000896     acting\n",
       "55026      5  0.013835     acting\n",
       "55026      6  0.048788     acting\n",
       "55026      7  0.000280     acting\n",
       "55026      8  0.031592     acting\n",
       "30464      1  0.541037     action\n",
       "30464      5  0.007837     action\n",
       "30464      8  0.063179     action\n",
       "30464      9  0.347243     action\n",
       "30464     10  0.040829     action\n",
       "41168      1  0.429251      actor\n",
       "41168      2  0.071464      actor\n",
       "41168      5  0.013605      actor\n",
       "41168      6  0.318381      actor\n",
       "41168      7  0.147775      actor\n",
       "41168      9  0.000938      actor\n",
       "...      ...       ...        ...\n",
       "22731      7  0.058548      years\n",
       "22731      8  0.042677      years\n",
       "22731      9  0.061054      years\n",
       "7490       2  0.996570    yelling\n",
       "49112      1  0.189676        yet\n",
       "49112      2  0.120500        yet\n",
       "49112      3  0.352575        yet\n",
       "49112      4  0.115098        yet\n",
       "49112      5  0.096893        yet\n",
       "49112      6  0.045217        yet\n",
       "49112      7  0.042633        yet\n",
       "49112      8  0.033942        yet\n",
       "49112      9  0.003641        yet\n",
       "33655      2  0.003350       york\n",
       "33655      3  0.157884       york\n",
       "33655      4  0.019683       york\n",
       "33655      5  0.022196       york\n",
       "33655      6  0.091296       york\n",
       "33655      7  0.547359       york\n",
       "33655      9  0.157884       york\n",
       "11342      1  0.001411      young\n",
       "11342      3  0.117924      young\n",
       "11342      4  0.518151      young\n",
       "11342      5  0.130525      young\n",
       "11342      6  0.075137      young\n",
       "11342      7  0.156198      young\n",
       "11342      9  0.000470      young\n",
       "50543      2  0.994897      zohan\n",
       "51871      8  0.999592     zombie\n",
       "14650      8  0.998812    zombies\n",
       "\n",
       "[2335 rows x 3 columns], R=30, lambda_step=0.01, plot_opts={'xlab': 'PC1', 'ylab': 'PC2'}, topic_order=[5, 2, 8, 9, 4, 10, 3, 6, 1, 7])"
      ]
     },
     "execution_count": 94,
     "metadata": {},
     "output_type": "execute_result"
    }
   ],
   "source": [
    "import pyLDAvis\n",
    "import pyLDAvis.gensim\n",
    "pyLDAvis.enable_notebook()\n",
    "pyLDAvis.gensim.prepare(lda_tf, corpus_tf, dictionary)"
   ]
  },
  {
   "cell_type": "markdown",
   "metadata": {},
   "source": [
    "Making predictions with LDA vectors (we'll have to use the labeled set):"
   ]
  },
  {
   "cell_type": "code",
   "execution_count": 90,
   "metadata": {
    "collapsed": false
   },
   "outputs": [
    {
     "name": "stdout",
     "output_type": "stream",
     "text": [
      "Parsing sentences from training set...\n",
      "Creating Dictionary\n",
      "Building dictionary...\n",
      "126471 Tokens extracted from 25000 texts\n",
      "32397 Tokens after cleaning\n",
      "dictionary done\n",
      "Creating Corpora\n",
      "corpus tf done\n",
      "corpus lda tf done\n",
      "Creating lda vectors\n",
      "lda vectors done\n"
     ]
    }
   ],
   "source": [
    "#For predictions we need only the labeled set:\n",
    "print(\"Parsing sentences from training set...\")\n",
    "sentences2 = Text_Cleaning_Utilities.df_to_list_of_tokens(train,\n",
    "                                                         'review', \n",
    "                                                         remove_html=True,\n",
    "                                                         remove_stopwords=True,)\n",
    "\n",
    "print(\"Creating Dictionary\")\n",
    "additional_stopwords=set(['n\\'t', 'movie'])\n",
    "dictionary2 = prep_corpus(sentences2, additional_stopwords)\n",
    "dictionary2.compactify()\n",
    "print('dictionary done')\n",
    "\n",
    "print(\"Creating Corpora\")\n",
    "corpus_tf2 = [dictionary2.doc2bow(sentence) for sentence in sentences2]\n",
    "print('corpus tf done')\n",
    "\n",
    "lda_tf2 = models.LdaModel(corpus_tf2, id2word=dictionary2, num_topics=10, passes=10)\n",
    "corpus_lda_tf2 = lda_tf2[corpus_tf2]\n",
    "print('corpus lda tf done')\n",
    "\n",
    "print('Creating lda vectors')\n",
    "X = gensim.matutils.corpus2csc(corpus_lda_tf2)\n",
    "X = X.T\n",
    "print('lda vectors done')"
   ]
  },
  {
   "cell_type": "markdown",
   "metadata": {},
   "source": [
    "Saving the Sentences, Model and the Corpus"
   ]
  },
  {
   "cell_type": "code",
   "execution_count": null,
   "metadata": {
    "collapsed": true
   },
   "outputs": [],
   "source": [
    "with open(os.path.join(outputs, 'sentences2.pkl'),'wb') as f:\n",
    "    pickle.dump(sentences2,f)\n",
    "\n",
    "lda_tf2.save(os.path.join(outputs, 'model_tf2.lda'))\n",
    "corpora.MmCorpus.serialize(os.path.join(outputs, 'corpus_lda_tf2.mm'), corpus_lda_tf2)"
   ]
  },
  {
   "cell_type": "markdown",
   "metadata": {},
   "source": [
    "Loading the Sentences, Model and the Corpus"
   ]
  },
  {
   "cell_type": "code",
   "execution_count": null,
   "metadata": {
    "collapsed": true
   },
   "outputs": [],
   "source": [
    "with open(os.path.join(outputs, 'sentences2.pkl'),'rb') as f:\n",
    "    sentences2 = pickle.load(f)\n",
    "    \n",
    "lda_tf = models.LdaModel.load(os.path.join(outputs, 'model_tf2.lda'))\n",
    "corpus_lda_tf = corpora.MmCorpus(os.path.join(outputs, 'corpus_lda_tf2.mm'))"
   ]
  },
  {
   "cell_type": "code",
   "execution_count": 97,
   "metadata": {
    "collapsed": false
   },
   "outputs": [],
   "source": [
    "X_traincv_tf, X_testcv_tf, y_traincv_tf, y_testcv_tf = train_test_split(X,\n",
    "                                                                        train[\"sentiment\"],\n",
    "                                                                        test_size=0.2,\n",
    "                                                                        random_state=0)"
   ]
  },
  {
   "cell_type": "code",
   "execution_count": 98,
   "metadata": {
    "collapsed": false
   },
   "outputs": [],
   "source": [
    "from sklearn.linear_model import LogisticRegression as LR\n",
    "\n",
    "clf_LR_tf_lda = LR(penalty='l2',\n",
    "                   dual=False,\n",
    "                   tol=0.0001,\n",
    "                   C=1.0,\n",
    "                   fit_intercept=True,\n",
    "                   intercept_scaling=1,\n",
    "                   class_weight=None,\n",
    "                   random_state=0,\n",
    "                   solver='liblinear',\n",
    "                   max_iter=100,\n",
    "                   multi_class='ovr',\n",
    "                   verbose=0).fit(X_traincv_tf, y_traincv_tf)"
   ]
  },
  {
   "cell_type": "code",
   "execution_count": 99,
   "metadata": {
    "collapsed": false
   },
   "outputs": [
    {
     "name": "stdout",
     "output_type": "stream",
     "text": [
      "0.7938\n"
     ]
    }
   ],
   "source": [
    "eval_LR_tf_lda = clf_LR_tf_lda.score(X_testcv_tf, y_testcv_tf)\n",
    "print(eval_LR_tf_lda)"
   ]
  },
  {
   "cell_type": "markdown",
   "metadata": {},
   "source": [
    "### Distributed Word Vectors\n",
    "\n",
    "https://www.kaggle.com/c/word2vec-nlp-tutorial/details/part-2-word-vectors  \n",
    "\n",
    "Introducing Distributed Word Vectors: This part of the tutorial will focus on using distributed word vectors created by the Word2Vec algorithm.\n",
    "\n",
    "Word2vec, published by Google in 2013, is a neural network implementation that learns distributed representations for words. Other deep or recurrent neural network architectures had been proposed for learning word representations prior to this, but the major problem with these was the long time required to train the models. Word2vec learns quickly relative to other models.\n",
    "\n",
    "Word2Vec does not need labels in order to create meaningful representations. This is useful, since most data in the real world is unlabeled. If the network is given enough training data (tens of billions of words), it produces word vectors with intriguing characteristics. Words with similar meanings appear in clusters, and clusters are spaced such that some word relationships, such as analogies, can be reproduced using vector math. The famous example is that, with highly trained word vectors, \"king - man + woman = queen.\"\n",
    "\n",
    "Distributed word vectors are powerful and can be used for many applications, particularly word prediction and translation. Here, we will try to apply them to sentiment analysis.\n",
    "\n",
    "Using word2vec in Python: In Python, we will use the excellent implementation of word2vec from the gensim package. If you don't already have gensim installed, you'll need to install it. There is an excellent tutorial that accompanies the Python Word2Vec implementation, here.\n",
    "\n",
    "Although Word2Vec does not require graphics processing units (GPUs) like many deep learning algorithms, it is compute intensive. Both Google's version and the Python version rely on multi-threading (running multiple processes in parallel on your computer to save time). ln order to train your model in a reasonable amount of time, you will need to install cython (instructions here). Word2Vec will run without cython installed, but it will take days to run instead of minutes. "
   ]
  },
  {
   "cell_type": "code",
   "execution_count": 100,
   "metadata": {
    "collapsed": true
   },
   "outputs": [],
   "source": [
    "# Import the built-in logging module and configure it so that Word2Vec creates nice output messages\n",
    "logging.basicConfig(format='%(asctime)s : %(levelname)s : %(message)s', level=logging.INFO)"
   ]
  },
  {
   "cell_type": "markdown",
   "metadata": {},
   "source": [
    "Preparing to Train a Model\n",
    "\n",
    "First, we read in the data with pandas, as we did in Part 1. Unlike Part 1, we now use unlabeledTrain.tsv, which contains 50,000 additional reviews with no labels. When we built the Bag of Words model in Part 1, extra unlabeled training reviews were not useful. However, since Word2Vec can learn from unlabeled data, these extra 50,000 reviews can now be used.  \n",
    "\n",
    "The functions we write to clean the data are also similar to Part 1, although now there are a couple of differences. First, to train Word2Vec it is better not to remove stop words because the algorithm relies on the broader context of the sentence in order to produce high-quality word vectors. For this reason, we will make stop word removal optional in the functions below. It also might be better not to remove numbers, but we leave that as an exercise for the reader. "
   ]
  },
  {
   "cell_type": "markdown",
   "metadata": {},
   "source": [
    "Creating Sentences (with stopwords) "
   ]
  },
  {
   "cell_type": "code",
   "execution_count": 102,
   "metadata": {
    "collapsed": false
   },
   "outputs": [
    {
     "name": "stdout",
     "output_type": "stream",
     "text": [
      "Parsing sentences from training set\n",
      "Parsing sentences from unlabeled set\n"
     ]
    }
   ],
   "source": [
    "print(\"Parsing sentences from training set\")\n",
    "sentencesw2v = Text_Cleaning_Utilities.df_to_list_of_tokens(train,\n",
    "                                                         'review', \n",
    "                                                         remove_html=True,\n",
    "                                                         remove_stopwords=False,)\n",
    "print(\"Parsing sentences from unlabeled set\")\n",
    "sentencesw2v += Text_Cleaning_Utilities.df_to_list_of_tokens(unlabeled_train,\n",
    "                                                          'review', \n",
    "                                                          remove_html=True,\n",
    "                                                          remove_stopwords=False,)"
   ]
  },
  {
   "cell_type": "code",
   "execution_count": 103,
   "metadata": {
    "collapsed": true
   },
   "outputs": [],
   "source": [
    "with open(os.path.join(outputs, 'sentencesw2v.pkl'),'wb') as f:\n",
    "    pickle.dump(sentencesw2v,f)"
   ]
  },
  {
   "cell_type": "code",
   "execution_count": 104,
   "metadata": {
    "collapsed": true
   },
   "outputs": [],
   "source": [
    "with open(os.path.join(outputs, 'sentencesw2v.pkl'),'rb') as f:\n",
    "    sentencesw2v = pickle.load(f)"
   ]
  },
  {
   "cell_type": "markdown",
   "metadata": {},
   "source": [
    "https://radimrehurek.com/gensim/models/word2vec.html  \n",
    "\n",
    "Training and Saving Your Model\n",
    "\n",
    "With the list of nicely parsed sentences, we're ready to train the model. There are a number of parameter choices that affect the run time and the quality of the final model that is produced. For details on the algorithms below, see the word2vec API documentation as well as the Google documentation. \n",
    "\n",
    "Architecture: Architecture options are skip-gram (default) or continuous bag of words. We found that skip-gram was very slightly slower but produced better results.\n",
    "\n",
    "Training algorithm: Hierarchical softmax (default) or negative sampling. For us, the default worked well.\n",
    "\n",
    "Downsampling of frequent words: The Google documentation recommends values between .00001 and .001. For us, values closer 0.001 seemed to improve the accuracy of the final model.\n",
    "\n",
    "Word vector dimensionality: More features result in longer runtimes, and often, but not always, result in better models. Reasonable values can be in the tens to hundreds; we used 300.\n",
    "\n",
    "Context / window size: How many words of context should the training algorithm take into account? 10 seems to work well for hierarchical softmax (more is better, up to a point).\n",
    "\n",
    "Worker threads: Number of parallel processes to run. This is computer-specific, but between 4 and 6 should work on most systems.\n",
    "\n",
    "Minimum word count: This helps limit the size of the vocabulary to meaningful words. Any word that does not occur at least this many times across all documents is ignored. Reasonable values could be between 10 and 100. In this case, since each movie occurs 30 times, we set the minimum word count to 40, to avoid attaching too much importance to individual movie titles. This resulted in an overall vocabulary size of around 15,000 words. Higher values also help limit run time.\n",
    "\n",
    "Choosing parameters is not easy, but once we have chosen our parameters, creating a Word2Vec model is straightforward:"
   ]
  },
  {
   "cell_type": "code",
   "execution_count": 115,
   "metadata": {
    "collapsed": true
   },
   "outputs": [],
   "source": [
    "num_features = 200    # Word vector dimensionality\n",
    "min_word_count = 5   # Minimum word count\n",
    "num_workers = -1       # Number of threads to run in parallel\n",
    "context = 7          # Context window size\n",
    "downsampling = 1e-3   # Downsample setting for frequent words"
   ]
  },
  {
   "cell_type": "code",
   "execution_count": 121,
   "metadata": {
    "collapsed": false
   },
   "outputs": [
    {
     "name": "stderr",
     "output_type": "stream",
     "text": [
      "/usr/local/lib/python3.5/dist-packages/gensim/models/word2vec.py:879: DeprecationWarning: The 'warn' method is deprecated, use 'warning' instead\n",
      "  logger.warn(\"supplied example count (%i) did not equal expected count (%i)\", example_count, total_examples)\n",
      "/usr/local/lib/python3.5/dist-packages/gensim/models/word2vec.py:879: DeprecationWarning: The 'warn' method is deprecated, use 'warning' instead\n",
      "  logger.warn(\"supplied example count (%i) did not equal expected count (%i)\", example_count, total_examples)\n"
     ]
    }
   ],
   "source": [
    "# Initialize and train the model (this will take some time)\n",
    "model = Word2Vec(sentencesw2v,\n",
    "                 workers = num_workers,\n",
    "                 size = num_features,\n",
    "                 min_count = min_word_count, \n",
    "                 window = context,\n",
    "                 sample = downsampling,\n",
    "                 seed=1,)\n",
    "\n",
    "##Optionally converting the model for Bigrams (to capture more context):\n",
    "\n",
    "bigram_transformer = gensim.models.Phrases(sentencesw2v)\n",
    "model = Word2Vec(bigram_transformer[sentencesw2v],\n",
    "                 workers = num_workers,\n",
    "                 size = num_features,\n",
    "                 min_count = min_word_count, \n",
    "                 window = context,\n",
    "                 sample = downsampling,\n",
    "                 seed=1,)\n",
    "\n",
    "# If you don't plan to train the model any further, calling init_sims will make the model much more memory-efficient.\n",
    "model.init_sims(replace=True)"
   ]
  },
  {
   "cell_type": "markdown",
   "metadata": {},
   "source": [
    "Saving the Model"
   ]
  },
  {
   "cell_type": "code",
   "execution_count": 107,
   "metadata": {
    "collapsed": true
   },
   "outputs": [],
   "source": [
    "model_name = \"{}features_{}minwords_{}context\".format(num_features, min_word_count, context)\n",
    "model.save(os.path.join(outputs,model_name))\n",
    "model = Word2Vec.load(os.path.join(outputs,model_name))"
   ]
  },
  {
   "cell_type": "markdown",
   "metadata": {},
   "source": [
    "Exploring the Model Results\n",
    "\n",
    "Congratulations on making it successfully through everything so far! Let's take a look at the model we created out of our 75,000 training reviews.\n",
    "\n",
    "The \"doesnt_match\" function will try to deduce which word in a set is most dissimilar from the others:"
   ]
  },
  {
   "cell_type": "code",
   "execution_count": 122,
   "metadata": {
    "collapsed": false
   },
   "outputs": [
    {
     "name": "stdout",
     "output_type": "stream",
     "text": [
      "child\n",
      "france\n",
      "london\n",
      "[('hideout', 0.2941281497478485), ('kidnapped_by', 0.2834531366825104), ('florence_rice', 0.275720477104187), ('colors', 0.2672956585884094), ('native_tongue', 0.26474031805992126), ('elderly', 0.26186975836753845), ('rowing', 0.2612927556037903), ('non-fiction', 0.26122480630874634), ('euphoria', 0.26031196117401123), ('risked', 0.2583904564380646)]\n",
      "[('dasha', 0.2911912202835083), ('richard_denning', 0.28326866030693054), ('lusts', 0.27068430185317993), ('crewmember', 0.2704477608203888), ('mid-flight', 0.26533961296081543), ('shotgun', 0.2647199332714081), ('township', 0.2634584307670593), ('prophecy', 0.2604348361492157), ('newscaster', 0.2574845552444458), ('frederik', 0.25185835361480713)]\n",
      "[('miike_takashi', 0.3124472498893738), ('karas', 0.28163963556289673), ('back.but', 0.27609339356422424), ('bathroom_humor', 0.27261412143707275), ('tian', 0.2697622776031494), ('para-military', 0.2689838111400604), ('deduce', 0.26842665672302246), ('tow', 0.2674688994884491), ('bachelor', 0.26284241676330566), ('palfi', 0.2590547204017639)]\n"
     ]
    }
   ],
   "source": [
    "print(model.doesnt_match(\"man woman child kitchen\".split()))\n",
    "print(model.doesnt_match(\"france england germany berlin\".split()))\n",
    "print(model.doesnt_match(\"paris berlin london austria\".split()))\n",
    "print(model.most_similar(\"man\"))\n",
    "print(model.most_similar(\"queen\"))\n",
    "print(model.most_similar(\"awful\"))"
   ]
  },
  {
   "cell_type": "markdown",
   "metadata": {},
   "source": [
    "So it seems we have a reasonably good model for semantic meaning - at least as good as Bag of Words. But how can we use these fancy distributed word vectors for supervised learning? The next section takes a stab at that."
   ]
  },
  {
   "cell_type": "markdown",
   "metadata": {},
   "source": [
    "Part 3: More Fun With Word Vectors\n",
    "--\n",
    "\n",
    "https://www.kaggle.com/c/word2vec-nlp-tutorial/details/part-3-more-fun-with-word-vectors  \n",
    "\n",
    "Numeric Representations of Words\n",
    "\n",
    "Now that we have a trained model with some semantic understanding of words, how should we use it? If you look beneath the hood, the Word2Vec model trained in Part 2 consists of a feature vector for each word in the vocabulary, stored in a numpy array called \"syn0\":"
   ]
  },
  {
   "cell_type": "code",
   "execution_count": null,
   "metadata": {
    "collapsed": true
   },
   "outputs": [],
   "source": [
    "model = Word2Vec.load(os.path.join(outputs,model_name))"
   ]
  },
  {
   "cell_type": "code",
   "execution_count": null,
   "metadata": {
    "collapsed": false
   },
   "outputs": [],
   "source": [
    "model.syn0.shape"
   ]
  },
  {
   "cell_type": "markdown",
   "metadata": {},
   "source": [
    "The number of rows in syn0 is the number of words in the model's vocabulary, and the number of columns corresponds to the size of the feature vector, which we set in Part 2.  Setting the minimum word count to 40 gave us a total vocabulary of 16,492 words with 300 features apiece. Individual word vectors can be accessed in the following way:"
   ]
  },
  {
   "cell_type": "code",
   "execution_count": null,
   "metadata": {
    "collapsed": false
   },
   "outputs": [],
   "source": [
    "model[\"flower\"][0:10]"
   ]
  },
  {
   "cell_type": "code",
   "execution_count": null,
   "metadata": {
    "collapsed": false
   },
   "outputs": [],
   "source": [
    "model.index2word[0:10]"
   ]
  },
  {
   "cell_type": "markdown",
   "metadata": {},
   "source": [
    "From Words To Paragraphs, \n",
    "--\n",
    "Attempt 1:  Vector Averaging  \n",
    "--\n",
    "\n",
    "One challenge with the IMDB dataset is the variable-length reviews. We need to find a way to take individual word vectors and transform them into a feature set that is the same length for every review.\n",
    "\n",
    "Since each word is a vector in 300-dimensional space, we can use vector operations to combine the words in each review. One method we tried was to simply average the word vectors in a given review (for this purpose, we removed stop words, which would just add noise).\n",
    "\n",
    "The following code averages the feature vectors, building on our code from Part 2. "
   ]
  },
  {
   "cell_type": "code",
   "execution_count": null,
   "metadata": {
    "collapsed": true
   },
   "outputs": [],
   "source": [
    "def makeFeatureVec(words, model, num_features):\n",
    "    # Function to average all of the word vectors in a given paragraph\n",
    "    # Pre-initialize an empty numpy array (for speed)\n",
    "    featureVec = np.zeros((num_features,),dtype=\"float32\")\n",
    "    nwords = 0.\n",
    "    # Index2word is a list that contains the names of the words in the model's vocabulary. \n",
    "    #Convert it to a set, for speed\n",
    "    index2word_set = set(model.index2word)\n",
    "    # Loop over each word in the review and, if it is in the model's\n",
    "    # vocabulary, add its feature vector to the total\n",
    "    for word in words:\n",
    "        if word in index2word_set:\n",
    "            nwords = nwords + 1.\n",
    "            featureVec = np.add(featureVec,model[word])\n",
    "    # Divide the result by the number of words to get the average\n",
    "    featureVec = np.divide(featureVec,nwords)\n",
    "    return featureVec"
   ]
  },
  {
   "cell_type": "code",
   "execution_count": null,
   "metadata": {
    "collapsed": true
   },
   "outputs": [],
   "source": [
    "def getAvgFeatureVecs(reviews, model, num_features):\n",
    "    # Given a set of reviews (each one a list of words), calculate\n",
    "    # the average feature vector for each one and return a 2D numpy array\n",
    "    # Initialize a counter\n",
    "    counter = 0.\n",
    "    # Preallocate a 2D numpy array, for speed\n",
    "    reviewFeatureVecs = np.zeros((len(reviews),num_features),dtype=\"float32\")\n",
    "    # Loop through the reviews\n",
    "    for review in reviews:\n",
    "        # Print a status message every 2000th review\n",
    "        if counter%2000. == 0.:\n",
    "            print(\"Review {} of {}\".format(counter, len(reviews)))\n",
    "        #Call the function (defined above) that makes average feature vectors\n",
    "        reviewFeatureVecs[counter] = makeFeatureVec(review, model, num_features)\n",
    "        counter = counter + 1.\n",
    "    return reviewFeatureVecs"
   ]
  },
  {
   "cell_type": "markdown",
   "metadata": {},
   "source": [
    "Let's use the pickles from Part 1  "
   ]
  },
  {
   "cell_type": "code",
   "execution_count": null,
   "metadata": {
    "collapsed": false
   },
   "outputs": [],
   "source": [
    "with open(os.path.join(outputs, 'clean_reviews.pkl'),'rb') as f:\n",
    "    (clean_train_reviews, \n",
    "     clean_test_reviews,\n",
    "     clean_train_reviews_sw,\n",
    "     clean_test_reviews_sw) = pickle.load(f)"
   ]
  },
  {
   "cell_type": "markdown",
   "metadata": {},
   "source": [
    "Now, we can call these functions to create average vectors for each paragraph. The following operations will take a few minutes:  "
   ]
  },
  {
   "cell_type": "code",
   "execution_count": null,
   "metadata": {
    "collapsed": false
   },
   "outputs": [],
   "source": [
    "# Calculate average feature vectors for training and testing sets, using the functions \n",
    "# we defined above. Notice that we now use stop word removal.\n",
    "trainDataVecs = getAvgFeatureVecs(clean_train_reviews, model, num_features)"
   ]
  },
  {
   "cell_type": "code",
   "execution_count": null,
   "metadata": {
    "collapsed": false
   },
   "outputs": [],
   "source": [
    "trainDataVecs[100]"
   ]
  },
  {
   "cell_type": "code",
   "execution_count": null,
   "metadata": {
    "collapsed": true
   },
   "outputs": [],
   "source": [
    "from sklearn.preprocessing import Imputer\n",
    "trainDataVecs = Imputer().fit_transform(trainDataVecs)"
   ]
  },
  {
   "cell_type": "markdown",
   "metadata": {},
   "source": [
    "Next, use the average paragraph vectors with the classifiers from Part 1.  \n",
    "Note that, as in Part 1, we can only use the labeled training reviews to train the model. "
   ]
  },
  {
   "cell_type": "code",
   "execution_count": null,
   "metadata": {
    "collapsed": true
   },
   "outputs": [],
   "source": [
    "X_traincvWV, X_testcvWV, y_traincvWV, y_testcvWV = train_test_split(trainDataVecs,\n",
    "                                                                    train[\"sentiment\"],\n",
    "                                                                    test_size=0.2,\n",
    "                                                                    random_state=0)"
   ]
  },
  {
   "cell_type": "code",
   "execution_count": null,
   "metadata": {
    "collapsed": false
   },
   "outputs": [],
   "source": [
    "# Initialize a Random Forest classifier with 300 trees\n",
    "clf_RF_WV = RandomForestClassifier(n_estimators=300, \n",
    "                                   criterion='gini', \n",
    "                                   max_depth=None, \n",
    "                                   min_samples_split=2, \n",
    "                                   min_samples_leaf=1, \n",
    "                                   min_weight_fraction_leaf=0.0, \n",
    "                                   max_features='auto', \n",
    "                                   max_leaf_nodes=None, \n",
    "                                   bootstrap=False, \n",
    "                                   oob_score=False, \n",
    "                                   n_jobs=-1, \n",
    "                                   random_state=None, \n",
    "                                   verbose=0, \n",
    "                                   warm_start=False, \n",
    "                                   class_weight=None).fit(X_traincvWV, y_traincvWV)\n",
    "\n",
    "eval_RF_WV_tts = clf_RF_WV.score(X_testcvWV, y_testcvWV)\n",
    "print(eval_RF_WV_tts)"
   ]
  },
  {
   "cell_type": "code",
   "execution_count": null,
   "metadata": {
    "collapsed": false
   },
   "outputs": [],
   "source": [
    "clf_LR_WV = LR(penalty='l2',\n",
    "               dual=False,\n",
    "               tol=0.0001,\n",
    "               C=1.0,\n",
    "               fit_intercept=True,\n",
    "               intercept_scaling=1,\n",
    "               class_weight=None,\n",
    "               random_state=None,\n",
    "               solver='liblinear',\n",
    "               max_iter=100,\n",
    "               multi_class='ovr',\n",
    "               verbose=0).fit(X_traincvWV, y_traincvWV)\n",
    "\n",
    "eval_LR_WV_tts = clf_LR_WV.score(X_testcvWV, y_testcvWV)\n",
    "print(eval_LR_WV_tts)"
   ]
  },
  {
   "cell_type": "markdown",
   "metadata": {},
   "source": [
    "Creating a Submission  \n",
    "--"
   ]
  },
  {
   "cell_type": "code",
   "execution_count": null,
   "metadata": {
    "collapsed": false
   },
   "outputs": [],
   "source": [
    "testDataVecs = getAvgFeatureVecs(clean_test_reviews[0], model, num_features)"
   ]
  },
  {
   "cell_type": "code",
   "execution_count": null,
   "metadata": {
    "collapsed": false
   },
   "outputs": [],
   "source": [
    "print(np.isnan(testDataVecs).any()) #testando se não há valores que inviabilizam o treinamento\n",
    "print(np.isfinite(testDataVecs).all())"
   ]
  },
  {
   "cell_type": "code",
   "execution_count": null,
   "metadata": {
    "collapsed": false
   },
   "outputs": [],
   "source": [
    "from sklearn.preprocessing import Imputer\n",
    "testDataVecs = Imputer().fit_transform(testDataVecs)\n",
    "\n",
    "print(np.isnan(testDataVecs).any()) #testando se não há valores que inviabilizam o treinamento\n",
    "print(np.isfinite(testDataVecs).all())"
   ]
  },
  {
   "cell_type": "code",
   "execution_count": null,
   "metadata": {
    "collapsed": false
   },
   "outputs": [],
   "source": [
    "# Use the random forest to make sentiment label predictions\n",
    "result = clf_RF_WV.predict(testDataVecs)\n",
    "result_prob = clf_RF_WV.predict_proba(testDataVecs)\n",
    "output = pd.DataFrame(data={\"id\":test[\"id\"], \"sentiment\":result,})# \"probs\":result_prob[:,1]})\n",
    "# Use pandas to write the comma-separated output file\n",
    "output.to_csv(os.path.join(outputs,'Word2Vec_AverageVectors.csv'), index=False, quoting=3)"
   ]
  },
  {
   "cell_type": "code",
   "execution_count": null,
   "metadata": {
    "collapsed": false
   },
   "outputs": [],
   "source": [
    "output.head()"
   ]
  },
  {
   "cell_type": "markdown",
   "metadata": {},
   "source": [
    "We found that this produced results much better than chance, but underperformed Bag of Words by a few percentage points.\n",
    "\n",
    "Since the element-wise average of the vectors didn't produce spectacular results, perhaps we could do it in a more intelligent way? A standard way of weighting word vectors is to apply \"tf-idf\" weights, which measure how important a given word is within a given set of documents. One way to extract tf-idf weights in Python is by using scikit-learn's TfidfVectorizer, which has an interface similar to the CountVectorizer that we used in Part 1. However, when we tried weighting our word vectors in this way, we found no substantial improvement in performance."
   ]
  },
  {
   "cell_type": "markdown",
   "metadata": {},
   "source": [
    "From Words to Paragraphs, Attempt 2: Clustering \n",
    "--\n",
    "\n",
    "Word2Vec creates clusters of semantically related words, so another possible approach is to exploit the similarity of words within a cluster. Grouping vectors in this way is known as \"vector quantization.\" To accomplish this, we first need to find the centers of the word clusters, which we can do by using a clustering algorithm such as K-Means.\n",
    "\n",
    "In K-Means, the one parameter we need to set is \"K,\" or the number of clusters. How should we decide how many clusters to create? Trial and error suggested that small clusters, with an average of only 5 words or so per cluster, gave better results than large clusters with many words. Clustering code is given below. We use scikit-learn to perform our K-Means.\n",
    "\n",
    "K-Means clustering with large K can be very slow; the following code took more than 40 minutes on my computer. Below, we set a timer around the K-Means function to see how long it takes."
   ]
  },
  {
   "cell_type": "code",
   "execution_count": null,
   "metadata": {
    "collapsed": false
   },
   "outputs": [],
   "source": [
    "start = time.time()\n",
    "\n",
    "# Set \"k\" (num_clusters) to be 1/5th of the vocabulary size, or an average of 5 words per cluster\n",
    "word_vectors = model.syn0\n",
    "num_clusters = int(word_vectors.shape[0] / 5)\n",
    "\n",
    "# Initalize a k-means object and use it to extract centroids\n",
    "kmeans_clustering = KMeans(n_clusters = num_clusters)\n",
    "idx = kmeans_clustering.fit_predict(word_vectors)\n",
    "\n",
    "end = time.time()\n",
    "elapsed = end - start\n",
    "print(\"Time taken for K Means clustering: \", elapsed, \"seconds.\")"
   ]
  },
  {
   "cell_type": "markdown",
   "metadata": {},
   "source": [
    "The cluster assignment for each word is now stored in idx, and the vocabulary from our original Word2Vec model is still stored in model.index2word. For convenience, we zip these into one dictionary as follows:  "
   ]
  },
  {
   "cell_type": "code",
   "execution_count": null,
   "metadata": {
    "collapsed": true
   },
   "outputs": [],
   "source": [
    "# Create a Word / Index dictionary, mapping each vocabulary word to a cluster number\n",
    "word_centroid_map = dict(zip(model.index2word, idx))"
   ]
  },
  {
   "cell_type": "markdown",
   "metadata": {},
   "source": [
    "This is a little abstract, so let's take a closer look at what our clusters contain. Your clusters may differ, as Word2Vec relies on a random number seed. Here is a loop that prints out the words for clusters 0 through 9:\n",
    "\n",
    "Run k-means on the word vectors and print a few clusters  "
   ]
  },
  {
   "cell_type": "code",
   "execution_count": null,
   "metadata": {
    "collapsed": false
   },
   "outputs": [],
   "source": [
    "# Print the first ten clusters\n",
    "for cluster in range(0,10):\n",
    "    # Print the cluster number\n",
    "    print(\"\\nCluster {}\".format(cluster))\n",
    "    # Find all of the words for that cluster number, and print them out\n",
    "    words = []\n",
    "    for i in range(0,len(word_centroid_map.values())):\n",
    "        #print(len(word_centroid_map.values()))\n",
    "        #print(cluster)\n",
    "        #print(word_centroid_map.keys())\n",
    "        if(list(word_centroid_map.values())[i] == cluster):\n",
    "            words.append(list(word_centroid_map.keys())[i])\n",
    "    print(words)"
   ]
  },
  {
   "cell_type": "markdown",
   "metadata": {},
   "source": [
    "We can see that the clusters are of varying quality. Some make sense, some cointain mostly names, and some contain related adjectives. On the other hand, some are a little mystifying. Perhaps our algorithm works best on adjectives.\n",
    "\n",
    "At any rate, now we have a cluster (or \"centroid\") assignment for each word, and we can define a function to convert reviews into bags-of-centroids. This works just like Bag of Words but uses semantically related clusters instead of individual words:"
   ]
  },
  {
   "cell_type": "code",
   "execution_count": null,
   "metadata": {
    "collapsed": true
   },
   "outputs": [],
   "source": [
    "def create_bag_of_centroids(wordlist, word_centroid_map):\n",
    "    # The number of clusters is equal to the highest cluster index in the word / centroid map\n",
    "    num_centroids = max(word_centroid_map.values()) + 1\n",
    "    # Pre-allocate the bag of centroids vector (for speed)\n",
    "    bag_of_centroids = np.zeros(num_centroids, dtype=\"float32\")\n",
    "    # Loop over the words in the review. If the word is in the vocabulary,\n",
    "    # find which cluster it belongs to, and increment that cluster count by one\n",
    "    for word in wordlist:\n",
    "        if word in word_centroid_map:\n",
    "            index = word_centroid_map[word]\n",
    "            bag_of_centroids[index] += 1\n",
    "    return bag_of_centroids"
   ]
  },
  {
   "cell_type": "markdown",
   "metadata": {
    "collapsed": true
   },
   "source": [
    "The function above will give us a numpy array for each review, each with a number of features equal to the number of clusters. Finally, we create bags of centroids for our training and test set, then train a random forest and extract results:"
   ]
  },
  {
   "cell_type": "code",
   "execution_count": null,
   "metadata": {
    "collapsed": true
   },
   "outputs": [],
   "source": [
    "# ****** Create bags of centroids\n",
    "\n",
    "# Pre-allocate an array for the training set bags of centroids (for speed)\n",
    "train_centroids = np.zeros((train[\"review\"].size, num_clusters), dtype=\"float32\")\n",
    "\n",
    "# Transform the training set reviews into bags of centroids\n",
    "counter = 0\n",
    "for review in clean_train_reviews:\n",
    "    train_centroids[counter] = create_bag_of_centroids(review, word_centroid_map)\n",
    "    counter += 1"
   ]
  },
  {
   "cell_type": "code",
   "execution_count": null,
   "metadata": {
    "collapsed": true
   },
   "outputs": [],
   "source": [
    "X_traincvCT, X_testcvCT, y_traincvCT, y_testcvCT = train_test_split(train_centroids,\n",
    "                                                                    train[\"sentiment\"],\n",
    "                                                                    test_size=0.2,\n",
    "                                                                    random_state=0)"
   ]
  },
  {
   "cell_type": "code",
   "execution_count": null,
   "metadata": {
    "collapsed": true
   },
   "outputs": [],
   "source": [
    "# Initialize a Random Forest classifier with 100 trees\n",
    "clf_RF_CT = RandomForestClassifier(n_estimators=100, \n",
    "                                   criterion='gini', \n",
    "                                   max_depth=None, \n",
    "                                   min_samples_split=2, \n",
    "                                   min_samples_leaf=1, \n",
    "                                   min_weight_fraction_leaf=0.0, \n",
    "                                   max_features='auto', \n",
    "                                   max_leaf_nodes=None, \n",
    "                                   bootstrap=True, \n",
    "                                   oob_score=False, \n",
    "                                   n_jobs=1, \n",
    "                                   random_state=None, \n",
    "                                   verbose=0, \n",
    "                                   warm_start=False, \n",
    "                                   class_weight=None).fit(X_traincvCT, y_traincvCT)"
   ]
  },
  {
   "cell_type": "code",
   "execution_count": null,
   "metadata": {
    "collapsed": false
   },
   "outputs": [],
   "source": [
    "eval_RF_CT_tts = clf_RF_CT.score(X_testcvCT, y_testcvCT)\n",
    "print(eval_RF_CT_tts)"
   ]
  },
  {
   "cell_type": "code",
   "execution_count": null,
   "metadata": {
    "collapsed": true
   },
   "outputs": [],
   "source": [
    "# Repeat for test reviews\n",
    "test_centroids = np.zeros((test[\"review\"].size, num_clusters), dtype=\"float32\")\n",
    "\n",
    "counter = 0\n",
    "for review in clean_test_reviews:\n",
    "    test_centroids[counter] = create_bag_of_centroids(review, word_centroid_map)\n",
    "    counter += 1"
   ]
  },
  {
   "cell_type": "code",
   "execution_count": null,
   "metadata": {
    "collapsed": false
   },
   "outputs": [],
   "source": [
    "result = clf_RF_CT.predict(test_centroids)\n",
    "\n",
    "# Write the test results\n",
    "output = pd.DataFrame(data={\"id\":test[\"id\"], \"sentiment\":result})\n",
    "output.to_csv(os.path.join(outputs,\"BagOfCentroids.csv\"), index=False, quoting=3)\n",
    "print(\"Wrote BagOfCentroids.csv\")"
   ]
  },
  {
   "cell_type": "markdown",
   "metadata": {},
   "source": [
    "We found that the code above gives about the same (or slightly worse) results compared to the Bag of Words in Part 1."
   ]
  },
  {
   "cell_type": "markdown",
   "metadata": {},
   "source": [
    "Part 4: Comparing deep and non-deep learning methods\n",
    "--\n",
    "\n",
    "You may ask: Why is Bag of Words better?\n",
    "\n",
    "The biggest reason is, in our tutorial, averaging the vectors and using the centroids lose the order of words, making it very similar to the concept of Bag of Words. The fact that the performance is similar (within range of standard error) makes all three methods practically equivalent.  \n",
    "\n",
    "A few things to try:\n",
    "\n",
    "First, training Word2Vec on a lot more text should greatly improve performance. Google's results are based on word vectors that were learned out of more than a billion-word corpus; our labeled and unlabeled training sets together are only a measly 18 million words or so. Conveniently, Word2Vec provides functions to load any pre-trained model that is output by Google's original C tool, so it's also possible to train a model in C and then import it into Python.\n",
    "\n",
    "Second, in published literature, distributed word vector techniques have been shown to outperform Bag of Words models. In this paper, an algorithm called Paragraph Vector is used on the IMDB dataset to produce some of the most state-of-the-art results to date. In part, it does better than the approaches we try here because vector averaging and clustering lose the word order, whereas Paragraph Vectors preserves word order information."
   ]
  },
  {
   "cell_type": "markdown",
   "metadata": {},
   "source": [
    "What is Deep Learning?\n",
    "\n",
    "The term \"deep learning\" was coined in 2006, and refers to machine learning algorithms that have multiple non-linear layers and can learn feature hierarchies [1].\n",
    "\n",
    "Most modern machine learning relies on feature engineering or some level of domain knowledge to obtain good results. In deep learning systems, this is not the case -- instead, algorithms can automatically learn feature hierarchies, which represent objects in increasing levels of abstraction. Although the basic ingredients of many deep learning algorithms have been around for many years, they are currently increasing in popularity for many reasons, including advances in compute power, the falling cost of computing hardware, and advances in machine learning research.\n",
    "\n",
    "Deep learning algorithms can be categorized by their architecture (feed-forward, feed-back, or bi-directional) and training protocols (purely supervised, hybrid, or unsupervised) [2]. \n",
    "\n",
    "Some good background materials include:\n",
    "\n",
    "[1] \"Deep Learning for Signal and Information Processing\", by Li Deng and Dong Yu (out of Microsoft)\n",
    "\n",
    "[2] \"Deep Learning Tutorial\" (2013 Presentation by Yann LeCun and Marc'Aurelio Ranzato)\n",
    "\n",
    "Where Does Word2Vec Fit In?\n",
    "\n",
    "Word2Vec works in a way that is similar to deep approaches such as recurrent neural nets or deep neural nets, but it implements certain algorithms, such as hierarchical softmax, that make it computationally more efficient.  \n",
    "\n",
    "See Part 2 of this tutorial for more on Word2Vec, as well as this paper: Efficient Estimation of Word Representations in Vector Space\n",
    "\n",
    "In this tutorial, we use a hybrid approach to training -- consisting of an unsupervised piece (Word2Vec) followed by supervised learning (the Random Forest). \n",
    "\n",
    "Libraries and Packages \n",
    "\n",
    "The lists below should in no way be considered exhaustive.\n",
    "\n",
    "In Python:\n",
    "\n",
    "Theano offers very low-level, nuts and bolts functionality for building deep learning systems. You can also find some good tutorials on their site.  \n",
    "Caffe is a deep learning framework out of the Berkeley Vision and Learning Center.  \n",
    "Pylearn2 wraps Theano and seems slightly more user friendly.  \n",
    "OverFeat was used to win the Kaggle Cats and Dogs competition.  \n",
    "\n",
    "\n",
    "More Tutorials  \n",
    "The O'Reilly Blog has a series of deep learning articles and tutorials:  \n",
    "\n",
    "http://radar.oreilly.com/2014/07/what-is-deep-learning-and-why-should-you-care.html  \n",
    "http://radar.oreilly.com/2014/07/how-to-build-and-run-your-first-deep-learning-network.html  \n",
    "Webcast: How to Get Started with Deep Learning in Computer Vision  \n",
    "There are several tutorials using Theano as well.  \n",
    "\n",
    "If you want to dive into the weeds of creating a neural network from scratch, check out Geoffrey Hinton's Coursera course.\n",
    "\n",
    "For NLP, check out this recent lecture at Stanford: http://techtalks.tv/talks/deep-learning-for-nlp-without-magic-part-1/58414/  \n",
    "\n",
    "This free, online book also introduces neural nets for deep learning: http://neuralnetworksanddeeplearning.com/  "
   ]
  },
  {
   "cell_type": "raw",
   "metadata": {
    "collapsed": true
   },
   "source": [
    "#word2vec example\n",
    "# load up unzipped corpus from http://mattmahoney.net/dc/text8.zip\n",
    "sentences = word2vec.Text8Corpus('/tmp/text8')\n",
    "#train the skip-gram model; default window=5\n",
    "model = word2vec.Word2Vec(sentences, size=200)\n",
    "# ... and some hours later... just as advertised...\n",
    "model.most_similar(positive=['woman', 'king'], negative=['man'], topn=1)\n",
    "[('queen', 0.5359965)]\n",
    " \n",
    "# pickle the entire model to disk, so we can load&resume training later\n",
    "model.save('/tmp/text8.model')\n",
    "# store the learned weights, in a format the original C tool understands\n",
    "model.save_word2vec_format('/tmp/text8.model.bin', binary=True)\n",
    "# or, import word weights created by the (faster) C word2vec\n",
    "# this way, you can switch between the C/Python toolkits easily\n",
    "model = word2vec.Word2Vec.load_word2vec_format('/tmp/vectors.bin', binary=True)\n",
    " \n",
    "# \"boy\" is to \"father\" as \"girl\" is to ...?\n",
    "model.most_similar(['girl', 'father'], ['boy'], topn=3)\n",
    "more_examples = [\"he his she\", \"big bigger bad\", \"going went being\"]\n",
    "for example in more_examples:\n",
    "    a, b, x = example.split()\n",
    "    predicted = model.most_similar([x, b], [a])[0][0]\n",
    "    print \"'%s' is to '%s' as '%s' is to '%s'\" % (a, b, x, predicted)\n",
    "# which word doesn't go with the others?\n",
    "model.doesnt_match(\"breakfast cereal dinner lunch\".split())\n",
    "\n",
    "#http://rare-technologies.com/word2vec-tutorial/\n",
    "Gensim only requires that the input must provide sentences sequentially, when iterated over. No need to keep everything in RAM: we can provide one sentence, process it, forget it, load another sentence…\n",
    "\n",
    "For example, if our input is strewn across several files on disk, with one sentence per line, then instead of loading everything into an in-memory list, we can process the input file by file, line by line:\n",
    ">>> class MySentences(object):\n",
    "...     def __init__(self, dirname):\n",
    "...         self.dirname = dirname\n",
    "... \n",
    "...     def __iter__(self):\n",
    "...         for fname in os.listdir(self.dirname):\n",
    "...             for line in open(os.path.join(self.dirname, fname)):\n",
    "...                 yield line.split()\n",
    ">>>\n",
    ">>> sentences = MySentences('/some/directory') # a memory-friendly iterator\n",
    ">>> model = gensim.models.Word2Vec(sentences)\n",
    "\n",
    "Say we want to further preprocess the words from the files — convert to unicode, lowercase, remove numbers, extract named entities… All of this can be done inside the MySentences iterator and word2vec doesn’t need to know. All that is required is that the input yields one sentence (list of utf8 words) after another.\n",
    "\n",
    "calling Word2Vec(sentences) will run two passes over the sentences iterator. The first pass collects words and their frequencies to build an internal dictionary tree structure.\n",
    "\n",
    "The second pass trains the neural model.\n",
    "\n",
    "These two passes can also be initiated manually, in case your input stream is non-repeatable (you can only afford one pass), and you’re able to initialize the vocabulary some other way:\n",
    "\n",
    ">>> model = gensim.models.Word2Vec() # an empty model, no training\n",
    ">>> model.build_vocab(some_sentences)  # can be a non-repeatable, 1-pass generator\n",
    ">>> model.train(other_sentences)  # can be a non-repeatable, 1-pass generator\n"
   ]
  }
 ],
 "metadata": {
  "kernelspec": {
   "display_name": "Python 3",
   "language": "python",
   "name": "python3"
  },
  "language_info": {
   "codemirror_mode": {
    "name": "ipython",
    "version": 3
   },
   "file_extension": ".py",
   "mimetype": "text/x-python",
   "name": "python",
   "nbconvert_exporter": "python",
   "pygments_lexer": "ipython3",
   "version": "3.5.2"
  }
 },
 "nbformat": 4,
 "nbformat_minor": 0
}
