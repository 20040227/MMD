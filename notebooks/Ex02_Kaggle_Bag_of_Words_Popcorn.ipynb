{
 "cells": [
  {
   "cell_type": "markdown",
   "metadata": {},
   "source": [
    "## Google's Word2Vec for movie reviews"
   ]
  },
  {
   "cell_type": "markdown",
   "metadata": {},
   "source": [
    "https://www.kaggle.com/c/word2vec-nlp-tutorial  \n",
    "https://github.com/wendykan/DeepLearningMovies  \n",
    "http://fastml.com/classifying-text-with-bag-of-words-a-tutorial/  \n",
    "\n",
    "\n",
    "In this tutorial competition, we dig a little \"deeper\" into sentiment analysis. Google's Word2Vec is a deep-learning inspired method that focuses on the meaning of words. Word2Vec attempts to understand meaning and semantic relationships among words. It works in a way that is similar to deep approaches, such as recurrent neural nets or deep neural nets, but is computationally more efficient. This tutorial focuses on Word2Vec for sentiment analysis.\n",
    "\n",
    "Sentiment analysis is a challenging subject in machine learning. People express their emotions in language that is often obscured by sarcasm, ambiguity, and plays on words, all of which could be very misleading for both humans and computers. There's another Kaggle competition for movie review sentiment analysis. In this tutorial we explore how Word2Vec can be applied to a similar problem.\n",
    "\n",
    "Deep learning has been in the news a lot over the past few years, even making it to the front page of the New York Times. These machine learning techniques, inspired by the architecture of the human brain and made possible by recent advances in computing power, have been making waves via breakthrough results in image recognition, speech processing, and natural language tasks. Recently, deep learning approaches won several Kaggle competitions, including a drug discovery task, and cat and dog image recognition."
   ]
  },
  {
   "cell_type": "markdown",
   "metadata": {},
   "source": [
    "#### Let's charge the batteries for our analysis..."
   ]
  },
  {
   "cell_type": "code",
   "execution_count": 1,
   "metadata": {
    "collapsed": false
   },
   "outputs": [],
   "source": [
    "import os\n",
    "import sys\n",
    "import time\n",
    "import re\n",
    "import pickle\n",
    "import logging\n",
    "import string\n",
    "\n",
    "import pandas as pd\n",
    "import numpy as np\n",
    "import pylab\n",
    "import matplotlib\n",
    "import matplotlib.pyplot as plt\n",
    "from matplotlib.font_manager import FontProperties\n",
    "\n",
    "import nltk\n",
    "import nltk.data\n",
    "from nltk.corpus import stopwords\n",
    "from nltk import word_tokenize\n",
    "from nltk.stem.porter import PorterStemmer\n",
    "\n",
    "from sklearn.cross_validation import train_test_split\n",
    "from sklearn.feature_extraction.text import CountVectorizer\n",
    "from sklearn.feature_extraction.text import TfidfVectorizer \n",
    "from sklearn.cluster import KMeans\n",
    "from sklearn.metrics import roc_auc_score as AUC\n",
    "\n",
    "import gensim\n",
    "from gensim import corpora\n",
    "from gensim import models\n",
    "from gensim import similarities\n",
    "from gensim.models import Word2Vec\n",
    "\n",
    "from bs4 import BeautifulSoup\n",
    "\n",
    "%matplotlib inline"
   ]
  },
  {
   "cell_type": "markdown",
   "metadata": {},
   "source": [
    "Data Set  \n",
    "--\n",
    "\n",
    "The labeled data set consists of 50,000 IMDB movie reviews, specially selected for sentiment analysis. The sentiment of reviews is binary, meaning the IMDB rating < 5 results in a sentiment score of 0, and rating >=7 have a sentiment score of 1. No individual movie has more than 30 reviews. The 25,000 review labeled training set does not include any of the same movies as the 25,000 review test set. In addition, there are another 50,000 IMDB reviews provided without any rating labels.\n",
    "\n",
    "File descriptions\n",
    "\n",
    "labeledTrainData - The labeled training set. The file is tab-delimited and has a header row followed by 25,000 rows containing an id, sentiment, and text for each review.  \n",
    "\n",
    "testData - The test set. The tab-delimited file has a header row followed by 25,000 rows containing an id and text for each review. Your task is to predict the sentiment for each one. \n",
    "\n",
    "unlabeledTrainData - An extra training set with no labels. The tab-delimited file has a header row followed by 50,000 rows containing an id and text for each review. \n",
    "\n",
    "sampleSubmission - A comma-delimited sample submission file in the correct format.\n",
    "Data fields\n",
    "\n",
    "id - Unique ID of each review\n",
    "sentiment - Sentiment of the review; 1 for positive reviews and 0 for negative reviews\n",
    "review - Text of the review"
   ]
  },
  {
   "cell_type": "markdown",
   "metadata": {},
   "source": [
    "Loading the dataset:  \n",
    "--"
   ]
  },
  {
   "cell_type": "code",
   "execution_count": 2,
   "metadata": {
    "collapsed": false
   },
   "outputs": [],
   "source": [
    "datapath = \"../datasets/Kaggle/\"\n",
    "outputs = \"../outputs/\""
   ]
  },
  {
   "cell_type": "code",
   "execution_count": 3,
   "metadata": {
    "collapsed": false
   },
   "outputs": [],
   "source": [
    "train = pd.read_csv(os.path.join(datapath, 'BOW_labeledTrainData.tsv'), header=0, delimiter=\"\\t\", quoting=3)\n",
    "test = pd.read_csv(os.path.join(datapath, 'BOW_testData.tsv'), header=0, delimiter=\"\\t\", quoting=3)\n",
    "unlabeled_train = pd.read_csv(os.path.join(datapath, \"BOW_unlabeledTrainData.tsv\"), header=0, delimiter=\"\\t\", quoting=3)"
   ]
  },
  {
   "cell_type": "code",
   "execution_count": 4,
   "metadata": {
    "collapsed": false
   },
   "outputs": [
    {
     "name": "stdout",
     "output_type": "stream",
     "text": [
      "Read 25000 labeled train reviews, 25000 labeled test reviews, and 50000 unlabeled reviews\n",
      "\n"
     ]
    }
   ],
   "source": [
    "print(\"Read {} labeled train reviews, \\\n",
    "{} labeled test reviews, and \\\n",
    "{} unlabeled reviews\\n\".format(train[\"review\"].size,\n",
    "                               test[\"review\"].size,\n",
    "                               unlabeled_train[\"review\"].size))"
   ]
  },
  {
   "cell_type": "code",
   "execution_count": 5,
   "metadata": {
    "collapsed": false
   },
   "outputs": [
    {
     "data": {
      "text/html": [
       "<div>\n",
       "<table border=\"1\" class=\"dataframe\">\n",
       "  <thead>\n",
       "    <tr style=\"text-align: right;\">\n",
       "      <th></th>\n",
       "      <th>id</th>\n",
       "      <th>sentiment</th>\n",
       "      <th>review</th>\n",
       "    </tr>\n",
       "  </thead>\n",
       "  <tbody>\n",
       "    <tr>\n",
       "      <th>0</th>\n",
       "      <td>\"5814_8\"</td>\n",
       "      <td>1</td>\n",
       "      <td>\"With all this stuff going down at the moment ...</td>\n",
       "    </tr>\n",
       "    <tr>\n",
       "      <th>1</th>\n",
       "      <td>\"2381_9\"</td>\n",
       "      <td>1</td>\n",
       "      <td>\"\\\"The Classic War of the Worlds\\\" by Timothy ...</td>\n",
       "    </tr>\n",
       "    <tr>\n",
       "      <th>2</th>\n",
       "      <td>\"7759_3\"</td>\n",
       "      <td>0</td>\n",
       "      <td>\"The film starts with a manager (Nicholas Bell...</td>\n",
       "    </tr>\n",
       "    <tr>\n",
       "      <th>3</th>\n",
       "      <td>\"3630_4\"</td>\n",
       "      <td>0</td>\n",
       "      <td>\"It must be assumed that those who praised thi...</td>\n",
       "    </tr>\n",
       "    <tr>\n",
       "      <th>4</th>\n",
       "      <td>\"9495_8\"</td>\n",
       "      <td>1</td>\n",
       "      <td>\"Superbly trashy and wondrously unpretentious ...</td>\n",
       "    </tr>\n",
       "  </tbody>\n",
       "</table>\n",
       "</div>"
      ],
      "text/plain": [
       "         id  sentiment                                             review\n",
       "0  \"5814_8\"          1  \"With all this stuff going down at the moment ...\n",
       "1  \"2381_9\"          1  \"\\\"The Classic War of the Worlds\\\" by Timothy ...\n",
       "2  \"7759_3\"          0  \"The film starts with a manager (Nicholas Bell...\n",
       "3  \"3630_4\"          0  \"It must be assumed that those who praised thi...\n",
       "4  \"9495_8\"          1  \"Superbly trashy and wondrously unpretentious ..."
      ]
     },
     "execution_count": 5,
     "metadata": {},
     "output_type": "execute_result"
    }
   ],
   "source": [
    "train.head()"
   ]
  },
  {
   "cell_type": "code",
   "execution_count": 6,
   "metadata": {
    "collapsed": false
   },
   "outputs": [
    {
     "name": "stdout",
     "output_type": "stream",
     "text": [
      "<class 'pandas.core.frame.DataFrame'>\n",
      "RangeIndex: 25000 entries, 0 to 24999\n",
      "Data columns (total 3 columns):\n",
      "id           25000 non-null object\n",
      "sentiment    25000 non-null int64\n",
      "review       25000 non-null object\n",
      "dtypes: int64(1), object(2)\n",
      "memory usage: 586.0+ KB\n"
     ]
    }
   ],
   "source": [
    "train.info()"
   ]
  },
  {
   "cell_type": "code",
   "execution_count": 7,
   "metadata": {
    "collapsed": false
   },
   "outputs": [
    {
     "data": {
      "text/html": [
       "<div>\n",
       "<table border=\"1\" class=\"dataframe\">\n",
       "  <thead>\n",
       "    <tr style=\"text-align: right;\">\n",
       "      <th></th>\n",
       "      <th>sentiment</th>\n",
       "    </tr>\n",
       "  </thead>\n",
       "  <tbody>\n",
       "    <tr>\n",
       "      <th>count</th>\n",
       "      <td>25000.00000</td>\n",
       "    </tr>\n",
       "    <tr>\n",
       "      <th>mean</th>\n",
       "      <td>0.50000</td>\n",
       "    </tr>\n",
       "    <tr>\n",
       "      <th>std</th>\n",
       "      <td>0.50001</td>\n",
       "    </tr>\n",
       "    <tr>\n",
       "      <th>min</th>\n",
       "      <td>0.00000</td>\n",
       "    </tr>\n",
       "    <tr>\n",
       "      <th>25%</th>\n",
       "      <td>0.00000</td>\n",
       "    </tr>\n",
       "    <tr>\n",
       "      <th>50%</th>\n",
       "      <td>0.50000</td>\n",
       "    </tr>\n",
       "    <tr>\n",
       "      <th>75%</th>\n",
       "      <td>1.00000</td>\n",
       "    </tr>\n",
       "    <tr>\n",
       "      <th>max</th>\n",
       "      <td>1.00000</td>\n",
       "    </tr>\n",
       "  </tbody>\n",
       "</table>\n",
       "</div>"
      ],
      "text/plain": [
       "         sentiment\n",
       "count  25000.00000\n",
       "mean       0.50000\n",
       "std        0.50001\n",
       "min        0.00000\n",
       "25%        0.00000\n",
       "50%        0.50000\n",
       "75%        1.00000\n",
       "max        1.00000"
      ]
     },
     "execution_count": 7,
     "metadata": {},
     "output_type": "execute_result"
    }
   ],
   "source": [
    "train.describe()"
   ]
  },
  {
   "cell_type": "markdown",
   "metadata": {},
   "source": [
    "Part 1: For Beginners - Bag of Words\n",
    "--\n",
    "https://www.kaggle.com/c/word2vec-nlp-tutorial/details/part-1-for-beginners-bag-of-words  \n",
    "\n",
    "What is NLP?\n",
    "\n",
    "NLP (Natural Language Processing) is a set of techniques for approaching text problems. This page will help you get started with loading and cleaning the IMDB movie reviews, then applying a simple Bag of Words model to get surprisingly accurate predictions of whether a review is thumbs-up or thumbs-down."
   ]
  },
  {
   "cell_type": "code",
   "execution_count": 8,
   "metadata": {
    "collapsed": false
   },
   "outputs": [],
   "source": [
    "class Text_Cleaning_Utilities(object):\n",
    "    \"\"\"Tools for processing text into segments for further learning\"\"\"\n",
    "\n",
    "    @staticmethod\n",
    "    def text_to_wordlist(text, \n",
    "                         remove_stopwords=False, \n",
    "                         remove_html=False, \n",
    "                         remove_non_letters=False, \n",
    "                         steeming=False):\n",
    "        '''Split a text into a list of words'''\n",
    "        #text = text.replace('-\\n','')\n",
    "        text = text.lower()\n",
    "        if remove_html:\n",
    "            text = BeautifulSoup(text, \"lxml\").get_text()\n",
    "        if remove_non_letters:\n",
    "            text = re.sub(\"[^-A-Za-z0-9_]\", \" \", text)\n",
    "        list_words = word_tokenize(text)\n",
    "        list_words = [w.strip(string.punctuation) for w in list_words if w not in string.punctuation]\n",
    "        list_words = [w for w in list_words if len(w) > 1]\n",
    "        if remove_stopwords:\n",
    "            stops = set(stopwords.words(\"english\"))\n",
    "            list_words = [w for w in list_words if w not in stops]\n",
    "        if steeming:\n",
    "            stemmer = PorterStemmer()\n",
    "            list_words = [stemmer.stem(item) for item in list_words]\n",
    "        return list_words\n",
    "    \n",
    "    @staticmethod\n",
    "    def df_to_list_of_texts(dataframe, column, \n",
    "                            remove_stopwords=False, \n",
    "                            remove_html=False, \n",
    "                            remove_non_letters=False, \n",
    "                            steeming=False):\n",
    "        clean_texts = []\n",
    "        for txt_id in range(len(dataframe[column])):\n",
    "            clean_texts.append(' '.join(Text_Cleaning_Utilities.text_to_wordlist(dataframe[column][txt_id],\n",
    "                                                                                 remove_stopwords=remove_stopwords,\n",
    "                                                                                 remove_html=remove_html,\n",
    "                                                                                 remove_non_letters=remove_non_letters,\n",
    "                                                                                 steeming=steeming)))\n",
    "            \n",
    "        return clean_texts\n",
    "\n",
    "    @staticmethod\n",
    "    def df_to_list_of_tokens(dataframe, column, \n",
    "                             remove_stopwords=False, \n",
    "                             remove_html=False, \n",
    "                             remove_non_letters=False, \n",
    "                             steeming=False):\n",
    "        clean_texts = []\n",
    "        for txt_id in range(len(dataframe[column])):\n",
    "            clean_texts.append(Text_Cleaning_Utilities.text_to_wordlist(dataframe[column][txt_id],\n",
    "                                                                        remove_stopwords=remove_stopwords,\n",
    "                                                                        remove_html=remove_html,\n",
    "                                                                        remove_non_letters=remove_non_letters,\n",
    "                                                                        steeming=steeming))\n",
    "            \n",
    "        return clean_texts\n",
    "    \n",
    "    \n",
    "    @staticmethod\n",
    "    def text_to_sentences(text,\n",
    "                          remove_stopwords=False, \n",
    "                          remove_html=False, \n",
    "                          remove_non_letters=False, \n",
    "                          steeming=False,\n",
    "                          tokenizer=None,):\n",
    "        '''Split a text into parsed sentences. Returns a list of sentences, \n",
    "        where each sentence is a list of words'''\n",
    "        \n",
    "        # Load the punkt tokenizer (english) if no tokenizer passed\n",
    "        if not tokenizer:\n",
    "            tokenizer = nltk.data.load('tokenizers/punkt/english.pickle')\n",
    "\n",
    "        raw_sentences = tokenizer.tokenize(text.strip())\n",
    "        sentences = []\n",
    "        for raw_sentence in raw_sentences:\n",
    "            if len(raw_sentence) > 0:\n",
    "                sentences.append(Text_Cleaning_Utilities.text_to_wordlist(raw_sentence, \n",
    "                                                                          remove_stopwords=remove_stopwords,\n",
    "                                                                          remove_html=remove_html,\n",
    "                                                                          remove_non_letters=remove_non_letters,\n",
    "                                                                          steeming=steeming))\n",
    "        return sentences\n",
    "    \n",
    "\n",
    "    \n",
    "    @staticmethod\n",
    "    def df_to_list_of_sentences(dataframe, column, \n",
    "                                remove_stopwords=False, \n",
    "                                remove_html=False, \n",
    "                                remove_non_letters=False, \n",
    "                                steeming=False,\n",
    "                                tokenizer=None):\n",
    "        sentences = []\n",
    "        for txt_id in range(len(dataframe[column])):\n",
    "            sentences.append(Text_Cleaning_Utilities.text_to_sentences(dataframe[column][txt_id],\n",
    "                                                                       remove_stopwords=remove_stopwords,\n",
    "                                                                       remove_html=remove_html,\n",
    "                                                                       remove_non_letters=remove_non_letters,\n",
    "                                                                       steeming=steeming,\n",
    "                                                                       tokenizer=tokenizer))\n",
    "        return sentences"
   ]
  },
  {
   "cell_type": "markdown",
   "metadata": {},
   "source": [
    "Cleaning all the datasets and getting word lists\n",
    "--\n",
    "first set is without stopwords"
   ]
  },
  {
   "cell_type": "code",
   "execution_count": 9,
   "metadata": {
    "collapsed": false
   },
   "outputs": [],
   "source": [
    "clean_train_reviews = Text_Cleaning_Utilities.df_to_list_of_texts(train, 'review', remove_stopwords=True)\n",
    "clean_test_reviews = Text_Cleaning_Utilities.df_to_list_of_texts(test, 'review', remove_stopwords=True)"
   ]
  },
  {
   "cell_type": "code",
   "execution_count": 10,
   "metadata": {
    "collapsed": false
   },
   "outputs": [
    {
     "data": {
      "text/plain": [
       "'stuff going moment mj started listening music watching odd documentary watched w'"
      ]
     },
     "execution_count": 10,
     "metadata": {},
     "output_type": "execute_result"
    }
   ],
   "source": [
    "clean_train_reviews[0][0:80]"
   ]
  },
  {
   "cell_type": "code",
   "execution_count": 11,
   "metadata": {
    "collapsed": false
   },
   "outputs": [
    {
     "data": {
      "text/plain": [
       "'naturally film main themes mortality nostalgia loss innocence perhaps surprising'"
      ]
     },
     "execution_count": 11,
     "metadata": {},
     "output_type": "execute_result"
    }
   ],
   "source": [
    "clean_test_reviews[0][0:80]"
   ]
  },
  {
   "cell_type": "markdown",
   "metadata": {},
   "source": [
    "Second set mantains stopwords"
   ]
  },
  {
   "cell_type": "code",
   "execution_count": 12,
   "metadata": {
    "collapsed": false
   },
   "outputs": [],
   "source": [
    "clean_train_reviews_sw = Text_Cleaning_Utilities.df_to_list_of_texts(train, 'review')\n",
    "clean_test_reviews_sw = Text_Cleaning_Utilities.df_to_list_of_texts(test, 'review')"
   ]
  },
  {
   "cell_type": "code",
   "execution_count": 13,
   "metadata": {
    "collapsed": false
   },
   "outputs": [
    {
     "data": {
      "text/plain": [
       "'with all this stuff going down at the moment with mj ve started listening to his'"
      ]
     },
     "execution_count": 13,
     "metadata": {},
     "output_type": "execute_result"
    }
   ],
   "source": [
    "clean_train_reviews_sw[0][0:80]"
   ]
  },
  {
   "cell_type": "code",
   "execution_count": 14,
   "metadata": {
    "collapsed": false
   },
   "outputs": [
    {
     "data": {
      "text/plain": [
       "'naturally in film who main themes are of mortality nostalgia and loss of innocen'"
      ]
     },
     "execution_count": 14,
     "metadata": {},
     "output_type": "execute_result"
    }
   ],
   "source": [
    "clean_test_reviews_sw[0][0:80]"
   ]
  },
  {
   "cell_type": "markdown",
   "metadata": {
    "collapsed": false
   },
   "source": [
    "Saving Pickle"
   ]
  },
  {
   "cell_type": "code",
   "execution_count": 15,
   "metadata": {
    "collapsed": true
   },
   "outputs": [],
   "source": [
    "with open(os.path.join(outputs, 'clean_reviews.pkl'),'wb') as f:\n",
    "    pickle.dump((clean_train_reviews, \n",
    "                 clean_test_reviews,\n",
    "                 clean_train_reviews_sw, \n",
    "                 clean_test_reviews_sw),f)"
   ]
  },
  {
   "cell_type": "markdown",
   "metadata": {},
   "source": [
    "Loading Pickle  "
   ]
  },
  {
   "cell_type": "code",
   "execution_count": 9,
   "metadata": {
    "collapsed": false
   },
   "outputs": [],
   "source": [
    "with open(os.path.join(outputs, 'clean_reviews.pkl'),'rb') as f:\n",
    "    (clean_train_reviews, \n",
    "     clean_test_reviews,\n",
    "     clean_train_reviews_sw,\n",
    "     clean_test_reviews_sw) = pickle.load(f)"
   ]
  },
  {
   "cell_type": "markdown",
   "metadata": {},
   "source": [
    "Creating Features from a Bag of Words (Using scikit-learn)\n",
    "--\n",
    "\n",
    "Now that we have our training reviews tidied up, how do we convert them to some kind of numeric representation for machine learning? One common approach is called a Bag of Words. The Bag of Words model learns a vocabulary from all of the documents, then models each document by counting the number of times each word appears. For example, consider the following two sentences:\n",
    "\n",
    "Sentence 1: \"The cat sat on the hat\"  \n",
    "Sentence 2: \"The dog ate the cat and the hat\"  \n",
    "\n",
    "From these two sentences, our vocabulary is as follows:\n",
    "\n",
    "{ the, cat, sat, on, hat, dog, ate, and }\n",
    "\n",
    "To get our bags of words, we count the number of times each word occurs in each sentence. In Sentence 1, \"the\" appears twice, and \"cat\", \"sat\", \"on\", and \"hat\" each appear once, so the feature vector for Sentence 1 is:\n",
    "\n",
    "{ the, cat, sat, on, hat, dog, ate, and }\n",
    "\n",
    "Sentence 1: [ 2, 1, 1, 1, 1, 0, 0, 0 ]\n",
    "\n",
    "Similarly, the features for Sentence 2 are: [ 3, 1, 0, 0, 1, 1, 1, 1]\n",
    "\n",
    "In the IMDB data, we have a very large number of reviews, which will give us a large vocabulary. To limit the size of the feature vectors, we should choose some maximum vocabulary size. Below, we use the 5000 most frequent words (remembering that stop words have already been removed).\n",
    "\n",
    "We'll be using the feature_extraction module from scikit-learn to create bag-of-words features.  \n",
    "We will test two strategies: CountVectorizer (term frequecies - TF) and TFIDF Vectorizer:  \n",
    "First we'll start with plain word counts (TF):  "
   ]
  },
  {
   "cell_type": "code",
   "execution_count": 108,
   "metadata": {
    "collapsed": false
   },
   "outputs": [],
   "source": [
    "# Initialize the \"CountVectorizer\" object, which is scikit-learn's bag of words tool.\n",
    "#http://scikit-learn.org/stable/modules/generated/sklearn.feature_extraction.text.CountVectorizer.html\n",
    "vectorizer_tf = CountVectorizer(input='content', \n",
    "                               encoding='utf-8', \n",
    "                               decode_error='strict', \n",
    "                               strip_accents=None, \n",
    "                               lowercase=True, \n",
    "                               preprocessor=None, \n",
    "                               tokenizer=None, \n",
    "                               stop_words=None, \n",
    "                               #token_pattern='(?u)\\b\\w\\w+\\b',\n",
    "                               ngram_range=(1, 2),\n",
    "                               analyzer='word', \n",
    "                               max_df=1.0, \n",
    "                               min_df=1, \n",
    "                               max_features=5000, \n",
    "                               vocabulary=None, \n",
    "                               binary=False, \n",
    "                               dtype=np.int64,\n",
    "                              )"
   ]
  },
  {
   "cell_type": "markdown",
   "metadata": {},
   "source": [
    "Fit_transform() does two functions: First, it fits the model and learns the vocabulary; \n",
    "second, it transforms our training data into feature vectors. \n",
    "The input to fit_transform should be a list of strings."
   ]
  },
  {
   "cell_type": "code",
   "execution_count": 18,
   "metadata": {
    "collapsed": false
   },
   "outputs": [
    {
     "name": "stdout",
     "output_type": "stream",
     "text": [
      "(25000, 5000)\n"
     ]
    }
   ],
   "source": [
    "train_data_features_tf = vectorizer_tf.fit_transform(clean_train_reviews)\n",
    "train_data_features_tf = train_data_features_tf.toarray() # Numpy arrays are easy to work with\n",
    "print(train_data_features_tf.shape)"
   ]
  },
  {
   "cell_type": "code",
   "execution_count": 19,
   "metadata": {
    "collapsed": false
   },
   "outputs": [
    {
     "name": "stdout",
     "output_type": "stream",
     "text": [
      "(25000, 5000)\n"
     ]
    }
   ],
   "source": [
    "test_data_features_tf = vectorizer_tf.fit_transform(clean_test_reviews)\n",
    "test_data_features_tf = test_data_features_tf.toarray() # Numpy arrays are easy to work with\n",
    "print(test_data_features_tf.shape)"
   ]
  },
  {
   "cell_type": "markdown",
   "metadata": {},
   "source": [
    "Now we are going to use TfIDf vectors:"
   ]
  },
  {
   "cell_type": "code",
   "execution_count": 109,
   "metadata": {
    "collapsed": true
   },
   "outputs": [],
   "source": [
    "#http://scikit-learn.org/stable/modules/generated/sklearn.feature_extraction.text.TfidfVectorizer.html\n",
    "#Another approach using TfIDf vectorizer and using the texts with stopwords in:\n",
    "#https://github.com/zygmuntz/classifying-text/blob/master/bow_predict.py \n",
    "vectorizer_tfidf = TfidfVectorizer(input='content',\n",
    "                                  #encoding='utf-8',\n",
    "                                  decode_error='strict',\n",
    "                                  strip_accents=None,\n",
    "                                  lowercase=True,\n",
    "                                  preprocessor=None,\n",
    "                                  tokenizer=None,\n",
    "                                  analyzer='word',\n",
    "                                  stop_words=None,\n",
    "                                  #token_pattern='(?u)\\b\\w\\w+\\b',\n",
    "                                  ngram_range=(1, 2),\n",
    "                                  max_df=1.0,\n",
    "                                  min_df=1,\n",
    "                                  max_features=5000,\n",
    "                                  vocabulary=None, \n",
    "                                  binary=False, \n",
    "                                  dtype=np.int64,\n",
    "                                  norm='l2',\n",
    "                                  use_idf=True,\n",
    "                                  smooth_idf=True,\n",
    "                                  sublinear_tf=True)"
   ]
  },
  {
   "cell_type": "code",
   "execution_count": 21,
   "metadata": {
    "collapsed": false
   },
   "outputs": [
    {
     "name": "stdout",
     "output_type": "stream",
     "text": [
      "(25000, 5000)\n"
     ]
    }
   ],
   "source": [
    "train_data_features_tfidf = vectorizer_tfidf.fit_transform(clean_train_reviews_sw)\n",
    "train_data_features_tfidf = train_data_features_tfidf.toarray() # Numpy arrays are easy to work with\n",
    "print(train_data_features_tfidf.shape)"
   ]
  },
  {
   "cell_type": "code",
   "execution_count": 22,
   "metadata": {
    "collapsed": false
   },
   "outputs": [
    {
     "name": "stdout",
     "output_type": "stream",
     "text": [
      "(25000, 5000)\n"
     ]
    }
   ],
   "source": [
    "test_data_features_tfidf = vectorizer_tfidf.fit_transform(clean_test_reviews_sw)\n",
    "test_data_features_tfidf = test_data_features_tfidf.toarray() # Numpy arrays are easy to work with\n",
    "print(test_data_features_tfidf.shape)"
   ]
  },
  {
   "cell_type": "markdown",
   "metadata": {},
   "source": [
    "Saving Pickle"
   ]
  },
  {
   "cell_type": "code",
   "execution_count": 23,
   "metadata": {
    "collapsed": false
   },
   "outputs": [],
   "source": [
    "with open(os.path.join(outputs, 'train_test_data_features.pkl'),'wb') as f:\n",
    "    pickle.dump((train_data_features_tf, \n",
    "                 test_data_features_tf,\n",
    "                 train_data_features_tfidf,\n",
    "                 test_data_features_tfidf),f)"
   ]
  },
  {
   "cell_type": "markdown",
   "metadata": {},
   "source": [
    "Reading Pickle"
   ]
  },
  {
   "cell_type": "code",
   "execution_count": 103,
   "metadata": {
    "collapsed": false
   },
   "outputs": [],
   "source": [
    "with open(os.path.join(outputs, 'train_test_data_features.pkl'),'rb') as f:\n",
    "    (train_data_features_tf, \n",
    "    test_data_features_tf,\n",
    "    train_data_features_tfidf,\n",
    "    test_data_features_tfidf) = pickle.load(f)"
   ]
  },
  {
   "cell_type": "markdown",
   "metadata": {},
   "source": [
    "Dividing Train set for Cross Validation  \n",
    "--"
   ]
  },
  {
   "cell_type": "markdown",
   "metadata": {
    "collapsed": false
   },
   "source": [
    "https://github.com/zygmuntz/classifying-text/blob/master/bow_validate.py  \n",
    "Alternatively, we can use the indexes to divide the train samples  \n",
    "\n",
    "train_i, test_i = train_test_split(np.arange(len(train)), train_size = 0.8, random_state = 44)  \n",
    "\n",
    "After generating indexes, we can divide ou datasets:  \n",
    "traincv = train_data_features1[train_i]  \n",
    "testcv = train_data_features1[test_i]"
   ]
  },
  {
   "cell_type": "code",
   "execution_count": 111,
   "metadata": {
    "collapsed": true
   },
   "outputs": [],
   "source": [
    "#Plain Word Counts\n",
    "X_traincv_tf, X_testcv_tf, y_traincv_tf, y_testcv_tf = train_test_split(train_data_features_tf,\n",
    "                                                                        train[\"sentiment\"],\n",
    "                                                                        test_size=0.2,\n",
    "                                                                        random_state=0)"
   ]
  },
  {
   "cell_type": "code",
   "execution_count": 26,
   "metadata": {
    "collapsed": true
   },
   "outputs": [],
   "source": [
    "#TfIdf\n",
    "X_traincv_tfidf, X_testcv_tfidf, y_traincv_tfidf, y_testcv_tfidf = train_test_split(train_data_features_tfidf,\n",
    "                                                                                    train[\"sentiment\"],\n",
    "                                                                                    test_size=0.2,\n",
    "                                                                                    random_state=0)"
   ]
  },
  {
   "cell_type": "markdown",
   "metadata": {},
   "source": [
    "Training some Classifiers  \n",
    "--"
   ]
  },
  {
   "cell_type": "markdown",
   "metadata": {},
   "source": [
    "At this point, we have numeric training features from the Bag of Words and the original sentiment labels for each feature vector, so let's do some supervised learning! Here, we'll use some classifiers implementations included in  the scikit-learn package."
   ]
  },
  {
   "cell_type": "markdown",
   "metadata": {},
   "source": [
    "#### Random Forest"
   ]
  },
  {
   "cell_type": "code",
   "execution_count": 27,
   "metadata": {
    "collapsed": false
   },
   "outputs": [],
   "source": [
    "# Initialize a Random Forest classifier with 300 trees\n",
    "from sklearn.ensemble import RandomForestClassifier\n",
    "\n",
    "clf_RF_tf = RandomForestClassifier(n_estimators=300, \n",
    "                                   criterion='gini', \n",
    "                                   max_depth=None, \n",
    "                                   min_samples_split=2, \n",
    "                                   min_samples_leaf=1, \n",
    "                                   min_weight_fraction_leaf=0.0, \n",
    "                                   max_features='auto', \n",
    "                                   max_leaf_nodes=None, \n",
    "                                   bootstrap=False, \n",
    "                                   oob_score=False, \n",
    "                                   n_jobs=-1, \n",
    "                                   random_state=0, \n",
    "                                   verbose=0, \n",
    "                                   warm_start=False, \n",
    "                                   class_weight=None).fit(X_traincv_tf, y_traincv_tf)"
   ]
  },
  {
   "cell_type": "code",
   "execution_count": 28,
   "metadata": {
    "collapsed": false
   },
   "outputs": [
    {
     "name": "stdout",
     "output_type": "stream",
     "text": [
      "0.859\n"
     ]
    }
   ],
   "source": [
    "eval_RF_tf_tts = clf_RF_tf.score(X_testcv_tf, y_testcv_tf)\n",
    "print(eval_RF_tf_tts)"
   ]
  },
  {
   "cell_type": "code",
   "execution_count": 29,
   "metadata": {
    "collapsed": false
   },
   "outputs": [
    {
     "data": {
      "text/plain": [
       "array([[ 0.44666667,  0.55333333],\n",
       "       [ 0.36666667,  0.63333333],\n",
       "       [ 0.36333333,  0.63666667],\n",
       "       ..., \n",
       "       [ 0.32      ,  0.68      ],\n",
       "       [ 0.78      ,  0.22      ],\n",
       "       [ 0.20333333,  0.79666667]])"
      ]
     },
     "execution_count": 29,
     "metadata": {},
     "output_type": "execute_result"
    }
   ],
   "source": [
    "clf_RF_tf.predict_proba(X_testcv_tf)"
   ]
  },
  {
   "cell_type": "markdown",
   "metadata": {},
   "source": [
    "Now we are going to train on the TfIdf samples:"
   ]
  },
  {
   "cell_type": "code",
   "execution_count": 30,
   "metadata": {
    "collapsed": false
   },
   "outputs": [],
   "source": [
    "# Initialize a Random Forest classifier with 300 trees\n",
    "clf_RF_tfidf = RandomForestClassifier(n_estimators=300, \n",
    "                                      criterion='gini', \n",
    "                                      max_depth=None, \n",
    "                                      min_samples_split=2, \n",
    "                                      min_samples_leaf=1, \n",
    "                                      min_weight_fraction_leaf=0.0, \n",
    "                                      max_features='auto', \n",
    "                                      max_leaf_nodes=None, \n",
    "                                      bootstrap=False, \n",
    "                                      oob_score=False, \n",
    "                                      n_jobs=-1, \n",
    "                                      random_state=0, \n",
    "                                      verbose=0, \n",
    "                                      warm_start=False, \n",
    "                                      class_weight=None).fit(X_traincv_tfidf, y_traincv_tfidf)"
   ]
  },
  {
   "cell_type": "code",
   "execution_count": 31,
   "metadata": {
    "collapsed": false
   },
   "outputs": [
    {
     "name": "stdout",
     "output_type": "stream",
     "text": [
      "0.853\n"
     ]
    }
   ],
   "source": [
    "eval_RF_tfidf_tts = clf_RF_tfidf.score(X_testcv_tfidf, y_testcv_tfidf)\n",
    "print(eval_RF_tfidf_tts)"
   ]
  },
  {
   "cell_type": "code",
   "execution_count": 32,
   "metadata": {
    "collapsed": false
   },
   "outputs": [
    {
     "data": {
      "text/plain": [
       "array([[ 0.44333333,  0.55666667],\n",
       "       [ 0.32333333,  0.67666667],\n",
       "       [ 0.24      ,  0.76      ],\n",
       "       ..., \n",
       "       [ 0.27      ,  0.73      ],\n",
       "       [ 0.71      ,  0.29      ],\n",
       "       [ 0.31      ,  0.69      ]])"
      ]
     },
     "execution_count": 32,
     "metadata": {},
     "output_type": "execute_result"
    }
   ],
   "source": [
    "clf_RF_tfidf.predict_proba(X_testcv_tfidf)"
   ]
  },
  {
   "cell_type": "markdown",
   "metadata": {},
   "source": [
    "#### Logistic Regression  "
   ]
  },
  {
   "cell_type": "code",
   "execution_count": 33,
   "metadata": {
    "collapsed": false
   },
   "outputs": [],
   "source": [
    "#http://scikit-learn.org/stable/modules/generated/sklearn.linear_model.LogisticRegression.html\n",
    "from sklearn.linear_model import LogisticRegression as LR\n",
    "\n",
    "clf_LR_tf = LR(penalty='l2',\n",
    "               dual=False,\n",
    "               tol=0.0001,\n",
    "               C=1.0,\n",
    "               fit_intercept=True,\n",
    "               intercept_scaling=1,\n",
    "               class_weight=None,\n",
    "               random_state=0,\n",
    "               solver='liblinear',\n",
    "               max_iter=100,\n",
    "               multi_class='ovr',\n",
    "               verbose=0).fit(X_traincv_tf, y_traincv_tf)"
   ]
  },
  {
   "cell_type": "code",
   "execution_count": 34,
   "metadata": {
    "collapsed": false
   },
   "outputs": [
    {
     "name": "stdout",
     "output_type": "stream",
     "text": [
      "0.851\n"
     ]
    }
   ],
   "source": [
    "eval_LR_tf_tts = clf_LR_tf.score(X_testcv_tf, y_testcv_tf)\n",
    "print(eval_LR_tf_tts)"
   ]
  },
  {
   "cell_type": "code",
   "execution_count": 35,
   "metadata": {
    "collapsed": false
   },
   "outputs": [],
   "source": [
    "clf_LR_tfidf = LR(penalty='l2',\n",
    "                  dual=False,\n",
    "                  tol=0.0001,\n",
    "                  C=1.0,\n",
    "                  fit_intercept=True,\n",
    "                  intercept_scaling=1,\n",
    "                  class_weight=None,\n",
    "                  random_state=0,\n",
    "                  solver='liblinear',\n",
    "                  max_iter=100,\n",
    "                  multi_class='ovr',\n",
    "                  verbose=0).fit(X_traincv_tfidf, y_traincv_tfidf)"
   ]
  },
  {
   "cell_type": "code",
   "execution_count": 37,
   "metadata": {
    "collapsed": false
   },
   "outputs": [
    {
     "name": "stdout",
     "output_type": "stream",
     "text": [
      "0.8926\n"
     ]
    }
   ],
   "source": [
    "eval_LR_tfidf_tts = clf_LR_tfidf.score(X_testcv_tfidf, y_testcv_tfidf)\n",
    "print(eval_LR_tfidf_tts)"
   ]
  },
  {
   "cell_type": "markdown",
   "metadata": {},
   "source": [
    "#### Gradient Boost Classifier  "
   ]
  },
  {
   "cell_type": "code",
   "execution_count": 38,
   "metadata": {
    "collapsed": false
   },
   "outputs": [],
   "source": [
    "#http://scikit-learn.org/stable/modules/generated/sklearn.ensemble.GradientBoostingClassifier.html\n",
    "from sklearn.ensemble import GradientBoostingClassifier\n",
    "\n",
    "clf_GBC_tf = GradientBoostingClassifier(loss='deviance',\n",
    "                                        learning_rate=0.1,\n",
    "                                        n_estimators=100,\n",
    "                                        subsample=1.0,\n",
    "                                        min_samples_split=2,\n",
    "                                        min_samples_leaf=1,\n",
    "                                        min_weight_fraction_leaf=0.0,\n",
    "                                        max_depth=3,\n",
    "                                        init=None,\n",
    "                                        random_state=0,\n",
    "                                        max_features=None,\n",
    "                                        verbose=0,\n",
    "                                        max_leaf_nodes=None,\n",
    "                                        warm_start=False,\n",
    "                                        presort='auto').fit(X_traincv_tf, y_traincv_tf)"
   ]
  },
  {
   "cell_type": "code",
   "execution_count": 39,
   "metadata": {
    "collapsed": false
   },
   "outputs": [
    {
     "name": "stdout",
     "output_type": "stream",
     "text": [
      "0.8082\n"
     ]
    }
   ],
   "source": [
    "eval_GBC_tf_tts = clf_GBC_tf.score(X_testcv_tf, y_testcv_tf)\n",
    "print(eval_GBC_tf_tts)"
   ]
  },
  {
   "cell_type": "code",
   "execution_count": 40,
   "metadata": {
    "collapsed": false
   },
   "outputs": [],
   "source": [
    "clf_GBC_tfidf = GradientBoostingClassifier(loss='deviance',\n",
    "                                           learning_rate=0.1,\n",
    "                                           n_estimators=100,\n",
    "                                           subsample=1.0,\n",
    "                                           min_samples_split=2,\n",
    "                                           min_samples_leaf=1,\n",
    "                                           min_weight_fraction_leaf=0.0,\n",
    "                                           max_depth=3,\n",
    "                                           init=None,\n",
    "                                           random_state=0,\n",
    "                                           max_features=None,\n",
    "                                           verbose=0,\n",
    "                                           max_leaf_nodes=None,\n",
    "                                           warm_start=False,\n",
    "                                           presort='auto').fit(X_traincv_tfidf, y_traincv_tfidf)"
   ]
  },
  {
   "cell_type": "code",
   "execution_count": 41,
   "metadata": {
    "collapsed": false
   },
   "outputs": [
    {
     "name": "stdout",
     "output_type": "stream",
     "text": [
      "0.8132\n"
     ]
    }
   ],
   "source": [
    "eval_GBC_tfidf_tts = clf_GBC_tfidf.score(X_testcv_tfidf, y_testcv_tfidf)\n",
    "print(eval_GBC_tfidf_tts)"
   ]
  },
  {
   "cell_type": "markdown",
   "metadata": {},
   "source": [
    "#### Let's do some voting"
   ]
  },
  {
   "cell_type": "code",
   "execution_count": 42,
   "metadata": {
    "collapsed": false
   },
   "outputs": [],
   "source": [
    "# http://scikit-learn.org/stable/modules/generated/sklearn.ensemble.VotingClassifier.html\n",
    "from sklearn.ensemble import VotingClassifier\n",
    "\n",
    "clf_vot_tf = VotingClassifier(estimators=[('rf', clf_RF_tf),\n",
    "                                          ('lr', clf_LR_tf),\n",
    "                                          ('gbc', clf_GBC_tf)], voting='soft').fit(X_traincv_tf, y_traincv_tf)"
   ]
  },
  {
   "cell_type": "code",
   "execution_count": 43,
   "metadata": {
    "collapsed": false
   },
   "outputs": [
    {
     "name": "stdout",
     "output_type": "stream",
     "text": [
      "0.8684\n"
     ]
    }
   ],
   "source": [
    "eval_vot_tf_tts = clf_vot_tf.score(X_testcv_tf, y_testcv_tf)\n",
    "print(eval_vot_tf_tts)"
   ]
  },
  {
   "cell_type": "code",
   "execution_count": 44,
   "metadata": {
    "collapsed": false
   },
   "outputs": [],
   "source": [
    "clf_vot_tfidf = VotingClassifier(estimators=[('rf', clf_RF_tfidf),\n",
    "                                             ('lr', clf_LR_tfidf),\n",
    "                                             ('gbc', clf_GBC_tfidf)], voting='soft').fit(X_traincv_tfidf, y_traincv_tfidf)"
   ]
  },
  {
   "cell_type": "code",
   "execution_count": 45,
   "metadata": {
    "collapsed": false
   },
   "outputs": [
    {
     "name": "stdout",
     "output_type": "stream",
     "text": [
      "0.8798\n"
     ]
    }
   ],
   "source": [
    "eval_vot_tfidf_tts = clf_vot_tfidf.score(X_testcv_tfidf, y_testcv_tfidf)\n",
    "print(eval_vot_tfidf_tts)"
   ]
  },
  {
   "cell_type": "markdown",
   "metadata": {},
   "source": [
    "Saving the trained classifiers"
   ]
  },
  {
   "cell_type": "code",
   "execution_count": 46,
   "metadata": {
    "collapsed": false
   },
   "outputs": [],
   "source": [
    "with open(os.path.join(outputs, 'classifiers.pkl'),'wb') as f:\n",
    "    pickle.dump((clf_RF_tf, eval_RF_tf_tts,\n",
    "                 clf_RF_tfidf, eval_RF_tfidf_tts,\n",
    "                 clf_LR_tf, eval_LR_tf_tts,\n",
    "                 clf_LR_tfidf, eval_LR_tfidf_tts,                \n",
    "                 clf_GBC_tf, eval_GBC_tf_tts,\n",
    "                 clf_GBC_tfidf, eval_GBC_tfidf_tts,\n",
    "                 clf_vot_tf, eval_vot_tf_tts,\n",
    "                 clf_vot_tfidf, eval_vot_tfidf_tts),f)"
   ]
  },
  {
   "cell_type": "markdown",
   "metadata": {},
   "source": [
    "Loading the classifiers from Pickle"
   ]
  },
  {
   "cell_type": "code",
   "execution_count": 47,
   "metadata": {
    "collapsed": false
   },
   "outputs": [],
   "source": [
    "with open(os.path.join(outputs, 'classifiers.pkl'),'rb') as f:\n",
    "    (clf_RF_tf, eval_RF_tf_tts,\n",
    "     clf_RF_tfidf, eval_RF_tfidf_tts,\n",
    "     clf_LR_tf, eval_LR_tf_tts,\n",
    "     clf_LR_tfidf, eval_LR_tfidf_tts,                \n",
    "     clf_GBC_tf, eval_GBC_tf_tts,\n",
    "     clf_GBC_tfidf, eval_GBC_tfidf_tts,\n",
    "     clf_vot_tf, eval_vot_tf_tts,\n",
    "     clf_vot_tfidf, eval_vot_tfidf_tts) = pickle.load(f)"
   ]
  },
  {
   "cell_type": "code",
   "execution_count": 48,
   "metadata": {
    "collapsed": false
   },
   "outputs": [
    {
     "data": {
      "image/png": "[encoded data removed]",
      "text/plain": [
       "<matplotlib.figure.Figure at 0x7fdab87fc518>"
      ]
     },
     "metadata": {},
     "output_type": "display_data"
    }
   ],
   "source": [
    "dic_results = {'RandomForest_TF': eval_RF_tf_tts,\n",
    "               'RandomForest_TFIDF': eval_RF_tfidf_tts,\n",
    "               'LogiReg_TF': eval_LR_tf_tts,\n",
    "               'LogiReg_TFIDF': eval_LR_tfidf_tts,\n",
    "               'GradBoost_TF': eval_GBC_tf_tts,\n",
    "               'GradBoost_TFIDF': eval_GBC_tfidf_tts,\n",
    "               'Voting_TF': eval_vot_tf_tts,\n",
    "               'Voting_TFIDF': eval_vot_tfidf_tts,\n",
    "              }\n",
    "\n",
    "import operator\n",
    "tup_results = sorted(dic_results.items(), key=operator.itemgetter(1))\n",
    "\n",
    "N = len(dic_results)\n",
    "ind = np.arange(N)  # the x locations for the groups\n",
    "width = 0.40       # the width of the bars\n",
    "\n",
    "fig = plt.figure(figsize=(12,8))\n",
    "ax = fig.add_subplot(111)\n",
    "rects = ax.bar(ind, list(zip(*tup_results))[1], width,)\n",
    "for rect in rects:\n",
    "    height = rect.get_height()\n",
    "    ax.text(rect.get_x()+rect.get_width()/2., \n",
    "            1.005*height, \n",
    "            '{0:.4f}'.format(height), \n",
    "            ha='center', \n",
    "            va='bottom',)\n",
    "\n",
    "ax.set_ylabel('Scores')\n",
    "ax.set_ylim(ymin=0.78,ymax = 0.92)\n",
    "ax.set_title(\"Classificators' performance\")\n",
    "ax.set_xticks(ind + width/2.)\n",
    "ax.set_xticklabels(list(zip(*tup_results))[0], rotation=45)\n",
    "\n",
    "plt.show()"
   ]
  },
  {
   "cell_type": "markdown",
   "metadata": {},
   "source": [
    "Creating a Submission  \n",
    "--\n",
    "\n",
    "All that remains is to run the best classifier on our test set and create a submission file. If you haven't already done so, download testData.tsv from the Data page. This file contains another 25,000 reviews and ids; our task is to predict the sentiment label.\n",
    "\n",
    "Note that when we use the Bag of Words for the test set, we only call \"transform\", not \"fit_transform\" as we did for the training set. In machine learning, you shouldn't use the test set to fit your model, otherwise you run the risk of overfitting. For this reason, we keep the test set off-limits until we are ready to make predictions."
   ]
  },
  {
   "cell_type": "code",
   "execution_count": 49,
   "metadata": {
    "collapsed": false
   },
   "outputs": [
    {
     "name": "stdout",
     "output_type": "stream",
     "text": [
      "<class 'pandas.core.frame.DataFrame'>\n",
      "RangeIndex: 25000 entries, 0 to 24999\n",
      "Data columns (total 2 columns):\n",
      "id        25000 non-null object\n",
      "review    25000 non-null object\n",
      "dtypes: object(2)\n",
      "memory usage: 390.7+ KB\n"
     ]
    }
   ],
   "source": [
    "test.info()"
   ]
  },
  {
   "cell_type": "code",
   "execution_count": 50,
   "metadata": {
    "collapsed": false
   },
   "outputs": [
    {
     "data": {
      "text/html": [
       "<div>\n",
       "<table border=\"1\" class=\"dataframe\">\n",
       "  <thead>\n",
       "    <tr style=\"text-align: right;\">\n",
       "      <th></th>\n",
       "      <th>id</th>\n",
       "      <th>review</th>\n",
       "    </tr>\n",
       "  </thead>\n",
       "  <tbody>\n",
       "    <tr>\n",
       "      <th>0</th>\n",
       "      <td>\"12311_10\"</td>\n",
       "      <td>\"Naturally in a film who's main themes are of ...</td>\n",
       "    </tr>\n",
       "    <tr>\n",
       "      <th>1</th>\n",
       "      <td>\"8348_2\"</td>\n",
       "      <td>\"This movie is a disaster within a disaster fi...</td>\n",
       "    </tr>\n",
       "    <tr>\n",
       "      <th>2</th>\n",
       "      <td>\"5828_4\"</td>\n",
       "      <td>\"All in all, this is a movie for kids. We saw ...</td>\n",
       "    </tr>\n",
       "    <tr>\n",
       "      <th>3</th>\n",
       "      <td>\"7186_2\"</td>\n",
       "      <td>\"Afraid of the Dark left me with the impressio...</td>\n",
       "    </tr>\n",
       "    <tr>\n",
       "      <th>4</th>\n",
       "      <td>\"12128_7\"</td>\n",
       "      <td>\"A very accurate depiction of small time mob l...</td>\n",
       "    </tr>\n",
       "  </tbody>\n",
       "</table>\n",
       "</div>"
      ],
      "text/plain": [
       "           id                                             review\n",
       "0  \"12311_10\"  \"Naturally in a film who's main themes are of ...\n",
       "1    \"8348_2\"  \"This movie is a disaster within a disaster fi...\n",
       "2    \"5828_4\"  \"All in all, this is a movie for kids. We saw ...\n",
       "3    \"7186_2\"  \"Afraid of the Dark left me with the impressio...\n",
       "4   \"12128_7\"  \"A very accurate depiction of small time mob l..."
      ]
     },
     "execution_count": 50,
     "metadata": {},
     "output_type": "execute_result"
    }
   ],
   "source": [
    "test.head()"
   ]
  },
  {
   "cell_type": "code",
   "execution_count": 51,
   "metadata": {
    "collapsed": false
   },
   "outputs": [
    {
     "data": {
      "text/plain": [
       "(25000, 5000)"
      ]
     },
     "execution_count": 51,
     "metadata": {},
     "output_type": "execute_result"
    }
   ],
   "source": [
    "test_data_features_tfidf.shape"
   ]
  },
  {
   "cell_type": "code",
   "execution_count": 52,
   "metadata": {
    "collapsed": false
   },
   "outputs": [],
   "source": [
    "# Use the logistic regression with tfidf vectors to make sentiment label predictions\n",
    "result = clf_LR_tfidf.predict(test_data_features_tfidf)\n",
    "result_prob = clf_LR_tfidf.predict_proba(test_data_features_tfidf)\n",
    "output = pd.DataFrame(data={\"id\":test[\"id\"], \"sentiment\":result,})# \"probs\":result_prob[:,1]})\n",
    "# Use pandas to write the comma-separated output file\n",
    "output.to_csv(os.path.join(outputs,'LR_tfidf_model.csv'), index=False, quoting=3)"
   ]
  },
  {
   "cell_type": "code",
   "execution_count": 53,
   "metadata": {
    "collapsed": false
   },
   "outputs": [
    {
     "data": {
      "text/html": [
       "<div>\n",
       "<table border=\"1\" class=\"dataframe\">\n",
       "  <thead>\n",
       "    <tr style=\"text-align: right;\">\n",
       "      <th></th>\n",
       "      <th>id</th>\n",
       "      <th>sentiment</th>\n",
       "    </tr>\n",
       "  </thead>\n",
       "  <tbody>\n",
       "    <tr>\n",
       "      <th>0</th>\n",
       "      <td>\"12311_10\"</td>\n",
       "      <td>0</td>\n",
       "    </tr>\n",
       "    <tr>\n",
       "      <th>1</th>\n",
       "      <td>\"8348_2\"</td>\n",
       "      <td>1</td>\n",
       "    </tr>\n",
       "    <tr>\n",
       "      <th>2</th>\n",
       "      <td>\"5828_4\"</td>\n",
       "      <td>1</td>\n",
       "    </tr>\n",
       "    <tr>\n",
       "      <th>3</th>\n",
       "      <td>\"7186_2\"</td>\n",
       "      <td>0</td>\n",
       "    </tr>\n",
       "    <tr>\n",
       "      <th>4</th>\n",
       "      <td>\"12128_7\"</td>\n",
       "      <td>0</td>\n",
       "    </tr>\n",
       "  </tbody>\n",
       "</table>\n",
       "</div>"
      ],
      "text/plain": [
       "           id  sentiment\n",
       "0  \"12311_10\"          0\n",
       "1    \"8348_2\"          1\n",
       "2    \"5828_4\"          1\n",
       "3    \"7186_2\"          0\n",
       "4   \"12128_7\"          0"
      ]
     },
     "execution_count": 53,
     "metadata": {},
     "output_type": "execute_result"
    }
   ],
   "source": [
    "output.head()"
   ]
  },
  {
   "cell_type": "markdown",
   "metadata": {},
   "source": [
    "Part 2: Alternative Vectors\n",
    "--\n",
    "\n",
    "In the subsequent sections, we are going to explore alternate ways to codify text into vectors. We are going to explore three techniques, namely Latent Semantic Indexing (LSI), Latent Dirichlet Allocation (LDA) and Word2vec."
   ]
  },
  {
   "cell_type": "markdown",
   "metadata": {},
   "source": [
    "### Topic Modeling and Topic Vectors"
   ]
  },
  {
   "cell_type": "markdown",
   "metadata": {},
   "source": [
    "To build the models, the more we have texts, the better. The size of the Corpus is essential for having good results. We don't need labels in order to create the models, so we will use the train examples and also some unlabeled reviews. The list of cleaned sentences will be used for all the subsequent models."
   ]
  },
  {
   "cell_type": "code",
   "execution_count": 10,
   "metadata": {
    "collapsed": true
   },
   "outputs": [],
   "source": [
    "import logging\n",
    "logging.basicConfig(format='%(asctime)s : %(levelname)s : %(message)s', level=logging.INFO)"
   ]
  },
  {
   "cell_type": "code",
   "execution_count": 55,
   "metadata": {
    "collapsed": false
   },
   "outputs": [
    {
     "name": "stdout",
     "output_type": "stream",
     "text": [
      "Parsing sentences from training set\n",
      "Parsing sentences from unlabeled set\n"
     ]
    }
   ],
   "source": [
    "print(\"Parsing sentences from training set\")\n",
    "sentences = Text_Cleaning_Utilities.df_to_list_of_tokens(train,\n",
    "                                                         'review', \n",
    "                                                         remove_html=True,\n",
    "                                                         remove_stopwords=True,)\n",
    "print(\"Parsing sentences from unlabeled set\")\n",
    "sentences += Text_Cleaning_Utilities.df_to_list_of_tokens(unlabeled_train,\n",
    "                                                          'review', \n",
    "                                                          remove_html=True,\n",
    "                                                          remove_stopwords=True,)"
   ]
  },
  {
   "cell_type": "code",
   "execution_count": 12,
   "metadata": {
    "collapsed": false
   },
   "outputs": [
    {
     "data": {
      "text/plain": [
       "75000"
      ]
     },
     "execution_count": 12,
     "metadata": {},
     "output_type": "execute_result"
    }
   ],
   "source": [
    "len(sentences)"
   ]
  },
  {
   "cell_type": "markdown",
   "metadata": {},
   "source": [
    "Saving sentences to a Pickle"
   ]
  },
  {
   "cell_type": "code",
   "execution_count": 57,
   "metadata": {
    "collapsed": true
   },
   "outputs": [],
   "source": [
    "with open(os.path.join(outputs, 'sentences.pkl'),'wb') as f:\n",
    "    pickle.dump(sentences,f)"
   ]
  },
  {
   "cell_type": "markdown",
   "metadata": {},
   "source": [
    "Loading sentences from a Pickle"
   ]
  },
  {
   "cell_type": "code",
   "execution_count": 11,
   "metadata": {
    "collapsed": true
   },
   "outputs": [],
   "source": [
    "with open(os.path.join(outputs, 'sentences.pkl'),'rb') as f:\n",
    "    sentences = pickle.load(f)"
   ]
  },
  {
   "cell_type": "code",
   "execution_count": 60,
   "metadata": {
    "collapsed": true
   },
   "outputs": [],
   "source": [
    "def nltk_stopwords():\n",
    "    return set(nltk.corpus.stopwords.words('english'))\n",
    "\n",
    "def prep_corpus(docs, additional_stopwords=set(), no_below=4, no_above=0.7):\n",
    "    print('Building dictionary...')\n",
    "    dictionary = corpora.Dictionary(docs)\n",
    "    print('{} Tokens extracted from {} texts'.format(len(dictionary.keys()), dictionary.num_docs))\n",
    "    stopwords = nltk_stopwords().union(additional_stopwords)\n",
    "    #stopword_ids = [dictionary.token2id[sw] for sw in stopwords if sw in dictionary.token2id]\n",
    "    stopword_ids = map(dictionary.token2id.get, stopwords)\n",
    "    dictionary.filter_tokens(stopword_ids)\n",
    "    #low_freq_ids = [tokenid for tokenid, docfreq in dictionary.dfs.items() if docfreq < 4]\n",
    "    #dictionary.filter_tokens(low_freq_ids)\n",
    "    dictionary.filter_extremes(no_below=no_below, no_above=no_above, keep_n=None)\n",
    "    dictionary.compactify()\n",
    "    print('{} Tokens after cleaning'.format(len(dictionary.keys())))\n",
    "    #print('Building corpus...')\n",
    "    #corpus = [dictionary.doc2bow(doc) for doc in docs]\n",
    "    return dictionary #, corpus"
   ]
  },
  {
   "cell_type": "markdown",
   "metadata": {},
   "source": [
    "Compacting and saving the dictionary"
   ]
  },
  {
   "cell_type": "code",
   "execution_count": 63,
   "metadata": {
    "collapsed": false
   },
   "outputs": [
    {
     "name": "stdout",
     "output_type": "stream",
     "text": [
      "Building dictionary...\n",
      "256791 Tokens extracted from 75000 texts\n",
      "56377 Tokens after cleaning\n",
      "dictionary done\n",
      "dictionary saved\n"
     ]
    }
   ],
   "source": [
    "additional_stopwords=set(['n\\'t', 'movie'])\n",
    "\n",
    "dictionary = prep_corpus(sentences, additional_stopwords)\n",
    "dictionary.compactify()\n",
    "print('dictionary done')\n",
    "\n",
    "dictionary.save(os.path.join(outputs, 'reviews.dict'))\n",
    "print('dictionary saved')"
   ]
  },
  {
   "cell_type": "code",
   "execution_count": 65,
   "metadata": {
    "collapsed": false
   },
   "outputs": [
    {
     "name": "stdout",
     "output_type": "stream",
     "text": [
      "47720\n"
     ]
    }
   ],
   "source": [
    "#print(dictionary.token2id['movie'])\n",
    "#print(dictionary.token2id['n\\'t'])\n",
    "print(dictionary.token2id['like'])"
   ]
  },
  {
   "cell_type": "markdown",
   "metadata": {},
   "source": [
    "Loading dictionary"
   ]
  },
  {
   "cell_type": "code",
   "execution_count": 66,
   "metadata": {
    "collapsed": false
   },
   "outputs": [],
   "source": [
    "dictionary = corpora.dictionary.Dictionary.load(os.path.join(outputs, 'reviews.dict'))"
   ]
  },
  {
   "cell_type": "markdown",
   "metadata": {},
   "source": [
    "Generating the Corpora (tf and tfidf"
   ]
  },
  {
   "cell_type": "code",
   "execution_count": 66,
   "metadata": {
    "collapsed": false
   },
   "outputs": [
    {
     "name": "stdout",
     "output_type": "stream",
     "text": [
      "corpus tf done\n",
      "corpus tfidf done\n"
     ]
    }
   ],
   "source": [
    "corpus_tf = [dictionary.doc2bow(sentence) for sentence in sentences]\n",
    "print('corpus tf done')\n",
    "tfidf = models.TfidfModel(corpus_tf)\n",
    "corpus_tfidf = tfidf[corpus_tf]\n",
    "print('corpus tfidf done')"
   ]
  },
  {
   "cell_type": "markdown",
   "metadata": {},
   "source": [
    "Saving the Corpora"
   ]
  },
  {
   "cell_type": "code",
   "execution_count": 67,
   "metadata": {
    "collapsed": false
   },
   "outputs": [],
   "source": [
    "corpora.MmCorpus.serialize(os.path.join(outputs, 'corpus_tf.mm'), corpus_tf)\n",
    "corpora.MmCorpus.serialize(os.path.join(outputs, 'corpus_tfidf.mm'), corpus_tfidf)"
   ]
  },
  {
   "cell_type": "markdown",
   "metadata": {},
   "source": [
    "Loading the Corpora"
   ]
  },
  {
   "cell_type": "code",
   "execution_count": 69,
   "metadata": {
    "collapsed": false
   },
   "outputs": [],
   "source": [
    "corpus_tf = corpora.MmCorpus(os.path.join(outputs, 'corpus_tf.mm'))\n",
    "corpus_tfidf = corpora.MmCorpus(os.path.join(outputs, 'corpus_tfidf.mm'))"
   ]
  },
  {
   "cell_type": "markdown",
   "metadata": {},
   "source": [
    "### Latent Semantic Indexing\n",
    "https://en.wikipedia.org/wiki/Latent_semantic_analysis  "
   ]
  },
  {
   "cell_type": "markdown",
   "metadata": {},
   "source": [
    "Generating the Models and the Corpora"
   ]
  },
  {
   "cell_type": "code",
   "execution_count": 68,
   "metadata": {
    "collapsed": false
   },
   "outputs": [
    {
     "name": "stdout",
     "output_type": "stream",
     "text": [
      "corpus lsi - TF done\n",
      "corpus lsi - TFIDF done\n"
     ]
    }
   ],
   "source": [
    "lsi_tf = models.LsiModel(corpus_tf, id2word=dictionary, num_topics=10)\n",
    "corpus_lsi_tf = lsi_tf[corpus_tf]\n",
    "print('corpus lsi - TF done')\n",
    "lsi_tfidf = models.LsiModel(corpus_tfidf, id2word=dictionary, num_topics=10)\n",
    "corpus_lsi_tfidf = lsi_tfidf[corpus_tfidf]\n",
    "print('corpus lsi - TFIDF done')"
   ]
  },
  {
   "cell_type": "markdown",
   "metadata": {},
   "source": [
    "Saving the Models and the Corpora"
   ]
  },
  {
   "cell_type": "code",
   "execution_count": 69,
   "metadata": {
    "collapsed": false
   },
   "outputs": [],
   "source": [
    "lsi_tf.save(os.path.join(outputs, 'tf.lsi'))\n",
    "corpora.MmCorpus.serialize(os.path.join(outputs, 'corpus_lsi_tf.mm'), corpus_lsi_tf)\n",
    "lsi_tfidf.save(os.path.join(outputs, 'tfidf.lsi'))\n",
    "corpora.MmCorpus.serialize(os.path.join(outputs, 'corpus_lsi_tfidf.mm'), corpus_lsi_tfidf)"
   ]
  },
  {
   "cell_type": "markdown",
   "metadata": {},
   "source": [
    "Loading the Models and the Corpora"
   ]
  },
  {
   "cell_type": "code",
   "execution_count": 133,
   "metadata": {
    "collapsed": true
   },
   "outputs": [],
   "source": [
    "lsi_tf = models.LsiModel.load(os.path.join(outputs, 'model_tf.lsi'))\n",
    "corpus_lsi_tf = corpora.MmCorpus(os.path.join(outputs, 'corpus_lsi_tf.mm'))\n",
    "lsi_tfidf = models.LsiModel.load(os.path.join(outputs, 'model_tfidf.lsi'))\n",
    "corpus_lsi_tfidf = corpora.MmCorpus(os.path.join(outputs, 'corpus_lsi_tfidf.mm'))"
   ]
  },
  {
   "cell_type": "markdown",
   "metadata": {},
   "source": [
    "#### Visualizing the topics"
   ]
  },
  {
   "cell_type": "code",
   "execution_count": 70,
   "metadata": {
    "collapsed": false
   },
   "outputs": [
    {
     "data": {
      "text/plain": [
       "[(0,\n",
       "  '0.508*\"film\" + 0.290*\"one\" + 0.218*\"like\" + 0.147*\"would\" + 0.145*\"good\" + 0.137*\"even\" + 0.125*\"time\" + 0.123*\"really\" + 0.119*\"story\" + 0.117*\"see\"'),\n",
       " (1,\n",
       "  '-0.833*\"film\" + 0.214*\"one\" + 0.195*\"like\" + 0.113*\"show\" + 0.105*\"movies\" + 0.105*\"good\" + 0.101*\"would\" + 0.093*\"even\" + 0.092*\"really\" + 0.085*\"get\"'),\n",
       " (2,\n",
       "  '0.728*\"one\" + -0.456*\"like\" + -0.179*\"bad\" + -0.164*\"really\" + -0.153*\"good\" + -0.124*\"would\" + -0.095*\"people\" + -0.079*\"think\" + 0.076*\"two\" + -0.071*\"could\"'),\n",
       " (3,\n",
       "  '-0.493*\"one\" + -0.423*\"like\" + 0.331*\"story\" + -0.244*\"bad\" + 0.139*\"show\" + 0.139*\"great\" + 0.137*\"also\" + 0.136*\"life\" + 0.128*\"love\" + 0.119*\"character\"'),\n",
       " (4,\n",
       "  '-0.622*\"good\" + 0.408*\"like\" + -0.310*\"bad\" + -0.249*\"really\" + 0.158*\"would\" + 0.144*\"people\" + 0.130*\"show\" + -0.128*\"acting\" + 0.117*\"life\" + -0.117*\"great\"'),\n",
       " (5,\n",
       "  '-0.524*\"like\" + 0.478*\"would\" + 0.234*\"bad\" + -0.225*\"story\" + 0.223*\"even\" + -0.196*\"good\" + 0.195*\"could\" + -0.184*\"great\" + -0.144*\"also\" + 0.099*\"get\"'),\n",
       " (6,\n",
       "  '-0.691*\"show\" + 0.391*\"story\" + -0.179*\"great\" + 0.171*\"even\" + -0.158*\"good\" + -0.147*\"series\" + 0.145*\"bad\" + -0.115*\"really\" + -0.103*\"episode\" + -0.089*\"one\"'),\n",
       " (7,\n",
       "  '0.678*\"would\" + 0.271*\"story\" + -0.223*\"bad\" + -0.199*\"get\" + 0.188*\"good\" + -0.166*\"time\" + 0.160*\"one\" + 0.157*\"like\" + -0.143*\"really\" + -0.142*\"people\"'),\n",
       " (8,\n",
       "  '0.509*\"really\" + 0.339*\"people\" + 0.322*\"see\" + -0.268*\"even\" + 0.248*\"story\" + -0.196*\"good\" + 0.143*\"think\" + -0.139*\"time\" + -0.127*\"first\" + 0.121*\"love\"'),\n",
       " (9,\n",
       "  '0.471*\"story\" + 0.387*\"show\" + -0.349*\"good\" + 0.245*\"even\" + 0.243*\"characters\" + -0.220*\"would\" + 0.191*\"bad\" + -0.169*\"see\" + -0.144*\"man\" + -0.114*\"get\"')]"
      ]
     },
     "execution_count": 70,
     "metadata": {},
     "output_type": "execute_result"
    }
   ],
   "source": [
    "lsi_tf.print_topics(10)"
   ]
  },
  {
   "cell_type": "code",
   "execution_count": 71,
   "metadata": {
    "collapsed": false
   },
   "outputs": [
    {
     "data": {
      "text/plain": [
       "[('film', -0.83285600483689348),\n",
       " ('one', 0.21357289624985293),\n",
       " ('like', 0.19496853514245824),\n",
       " ('show', 0.11341594035355809),\n",
       " ('movies', 0.10547663412430963),\n",
       " ('good', 0.10517358970456236),\n",
       " ('would', 0.10068810445705931),\n",
       " ('even', 0.092783699333241848),\n",
       " ('really', 0.091522650232337882),\n",
       " ('get', 0.08475636517360019)]"
      ]
     },
     "execution_count": 71,
     "metadata": {},
     "output_type": "execute_result"
    }
   ],
   "source": [
    "lsi_tf.show_topic(1)"
   ]
  },
  {
   "cell_type": "code",
   "execution_count": 72,
   "metadata": {
    "collapsed": false
   },
   "outputs": [
    {
     "data": {
      "text/plain": [
       "[(0,\n",
       "  '0.146*\"film\" + 0.103*\"bad\" + 0.101*\"good\" + 0.101*\"like\" + 0.101*\"really\" + 0.095*\"one\" + 0.094*\"would\" + 0.091*\"story\" + 0.089*\"see\" + 0.088*\"even\"'),\n",
       " (1,\n",
       "  '-0.336*\"bad\" + -0.197*\"worst\" + -0.133*\"waste\" + -0.130*\"acting\" + -0.128*\"movies\" + -0.115*\"ever\" + -0.114*\"terrible\" + -0.107*\"horrible\" + -0.105*\"horror\" + -0.102*\"stupid\"'),\n",
       " (2,\n",
       "  '0.672*\"show\" + 0.214*\"episode\" + 0.209*\"series\" + -0.171*\"film\" + 0.151*\"episodes\" + 0.147*\"tv\" + 0.141*\"season\" + -0.135*\"horror\" + 0.126*\"funny\" + 0.118*\"shows\"'),\n",
       " (3,\n",
       "  '0.229*\"book\" + -0.224*\"show\" + 0.218*\"great\" + -0.159*\"horror\" + 0.112*\"movies\" + 0.111*\"read\" + 0.105*\"seen\" + 0.103*\"love\" + -0.102*\"killer\" + 0.102*\"best\"'),\n",
       " (4,\n",
       "  '-0.261*\"horror\" + -0.236*\"series\" + -0.169*\"action\" + 0.162*\"life\" + 0.149*\"people\" + -0.149*\"show\" + -0.127*\"effects\" + -0.121*\"original\" + -0.110*\"episode\" + -0.107*\"great\"'),\n",
       " (5,\n",
       "  '0.384*\"book\" + -0.358*\"funny\" + -0.255*\"comedy\" + 0.185*\"series\" + 0.158*\"read\" + -0.125*\"great\" + -0.119*\"fun\" + 0.118*\"show\" + -0.115*\"jokes\" + -0.109*\"laugh\"'),\n",
       " (6,\n",
       "  '0.381*\"horror\" + -0.240*\"bad\" + -0.185*\"worst\" + 0.129*\"scary\" + -0.124*\"ever\" + 0.122*\"really\" + 0.117*\"gore\" + -0.109*\"show\" + -0.105*\"script\" + 0.105*\"book\"'),\n",
       " (7,\n",
       "  '0.273*\"book\" + -0.249*\"ever\" + -0.219*\"horror\" + -0.206*\"worst\" + -0.202*\"seen\" + 0.157*\"characters\" + -0.144*\"films\" + -0.132*\"movies\" + 0.131*\"character\" + 0.127*\"funny\"'),\n",
       " (8,\n",
       "  '-0.497*\"book\" + 0.192*\"film\" + -0.160*\"read\" + 0.153*\"show\" + -0.130*\"version\" + 0.129*\"people\" + -0.107*\"series\" + 0.107*\"characters\" + 0.101*\"films\" + -0.099*\"bad\"'),\n",
       " (9,\n",
       "  '0.335*\"horror\" + -0.304*\"action\" + -0.281*\"game\" + 0.236*\"book\" + 0.193*\"comedy\" + 0.188*\"show\" + 0.188*\"funny\" + 0.146*\"film\" + -0.136*\"series\" + -0.109*\"war\"')]"
      ]
     },
     "execution_count": 72,
     "metadata": {},
     "output_type": "execute_result"
    }
   ],
   "source": [
    "lsi_tfidf.print_topics(10)"
   ]
  },
  {
   "cell_type": "code",
   "execution_count": 73,
   "metadata": {
    "collapsed": false
   },
   "outputs": [
    {
     "data": {
      "text/plain": [
       "[('bad', -0.33599886556888925),\n",
       " ('worst', -0.19727757776744526),\n",
       " ('waste', -0.13313209776721924),\n",
       " ('acting', -0.12962714587169755),\n",
       " ('movies', -0.12797969445268104),\n",
       " ('ever', -0.11502830908546922),\n",
       " ('terrible', -0.1143549949325687),\n",
       " ('horrible', -0.10652427465263842),\n",
       " ('horror', -0.10503665400091435),\n",
       " ('stupid', -0.10203307133608017)]"
      ]
     },
     "execution_count": 73,
     "metadata": {},
     "output_type": "execute_result"
    }
   ],
   "source": [
    "lsi_tfidf.show_topic(1)"
   ]
  },
  {
   "cell_type": "markdown",
   "metadata": {},
   "source": [
    "### Latent Dirichlet Allocation\n",
    "\n",
    "https://en.wikipedia.org/wiki/Latent_Dirichlet_allocation  "
   ]
  },
  {
   "cell_type": "raw",
   "metadata": {
    "collapsed": false
   },
   "source": [
    "documents = [\"Human machine interface for lab abc computer applications\",\n",
    "             \"A survey of user opinion of computer system response time\",\n",
    "             \"The EPS user interface management system\",\n",
    "             \"System and human system engineering testing of EPS\",\n",
    "             \"Relation of user perceived response time to error measurement\",\n",
    "             \"The generation of random binary unordered trees\",\n",
    "             \"The intersection graph of paths in trees\",\n",
    "             \"Graph minors IV Widths of trees and well quasi ordering\",\n",
    "             \"Graph minors A survey\"]\n",
    "\n",
    "stoplist = set('for a of the and to in'.split())\n",
    "texts = [[word for word in document.lower().split() if word not in stoplist] for document in documents]\n",
    "texts = [[token for token in text] for text in texts]\n",
    "dictionary = corpora.Dictionary(texts)\n",
    "dictionary.save('/tmp/deerwester.dict')  # store the dictionary, for future reference\n",
    "print(dictionary)\n",
    "print(dictionary.token2id)\n",
    "print(texts)\n",
    "corpus = [dictionary.doc2bow(text) for text in texts]\n",
    "lda = gensim.models.ldamodel.LdaModel(corpus=corpus, id2word=dictionary, num_topics=100, update_every=0, passes=20)\n",
    "lda.show_topics()"
   ]
  },
  {
   "cell_type": "markdown",
   "metadata": {},
   "source": [
    "#### Using Gensim"
   ]
  },
  {
   "cell_type": "markdown",
   "metadata": {},
   "source": [
    "Generating the Models and the Corpora"
   ]
  },
  {
   "cell_type": "code",
   "execution_count": 74,
   "metadata": {
    "collapsed": false
   },
   "outputs": [
    {
     "name": "stdout",
     "output_type": "stream",
     "text": [
      "corpus lda tf done\n",
      "corpus lda tfidf done\n"
     ]
    }
   ],
   "source": [
    "lda_tf = models.LdaModel(corpus_tf, id2word=dictionary, num_topics=10, passes=10)\n",
    "corpus_lda_tf = lda_tf[corpus_tf]\n",
    "print('corpus lda tf done')\n",
    "lda_tfidf = models.LdaModel(corpus_tfidf, id2word=dictionary, num_topics=10, passes=10)\n",
    "corpus_lda_tfidf = lda_tfidf[corpus_tfidf]\n",
    "print('corpus lda tfidf done')"
   ]
  },
  {
   "cell_type": "markdown",
   "metadata": {},
   "source": [
    "Saving the Models and the Corpora"
   ]
  },
  {
   "cell_type": "code",
   "execution_count": 75,
   "metadata": {
    "collapsed": true
   },
   "outputs": [],
   "source": [
    "lda_tf.save(os.path.join(outputs, 'model_tf.lda'))\n",
    "corpora.MmCorpus.serialize(os.path.join(outputs, 'corpus_lda_tf.mm'), corpus_lda_tf)\n",
    "lda_tfidf.save(os.path.join(outputs, 'model_tfidf.lda'))\n",
    "corpora.MmCorpus.serialize(os.path.join(outputs, 'corpus_lda_tfidf.mm'), corpus_lda_tfidf)"
   ]
  },
  {
   "cell_type": "markdown",
   "metadata": {},
   "source": [
    "Loading the Models and the Corpora"
   ]
  },
  {
   "cell_type": "code",
   "execution_count": 87,
   "metadata": {
    "collapsed": false
   },
   "outputs": [],
   "source": [
    "lda_tf = models.LdaModel.load(os.path.join(outputs, 'model_tf.lda'))\n",
    "corpus_lda_tf = corpora.MmCorpus(os.path.join(outputs, 'corpus_lda_tf.mm'))\n",
    "lda_tfidf = models.LdaModel.load(os.path.join(outputs, 'model_tfidf.lda'))\n",
    "corpus_lda_tfidf = corpora.MmCorpus(os.path.join(outputs, 'corpus_lda_tfidf.mm'))"
   ]
  },
  {
   "cell_type": "markdown",
   "metadata": {},
   "source": [
    "#### Visualizing the topics"
   ]
  },
  {
   "cell_type": "code",
   "execution_count": 89,
   "metadata": {
    "collapsed": false
   },
   "outputs": [
    {
     "data": {
      "text/plain": [
       "[(0,\n",
       "  '0.015*like + 0.013*bad + 0.013*film + 0.012*one + 0.011*even + 0.010*would + 0.009*good'),\n",
       " (1,\n",
       "  '0.008*role + 0.008*one + 0.007*film + 0.007*cast + 0.006*john + 0.006*best + 0.006*great'),\n",
       " (2,\n",
       "  '0.017*film + 0.009*horror + 0.008*one + 0.005*also + 0.005*killer + 0.005*films + 0.004*murder'),\n",
       " (3,\n",
       "  '0.012*war + 0.010*people + 0.008*world + 0.007*american + 0.006*us + 0.006*would + 0.005*history'),\n",
       " (4,\n",
       "  '0.009*one + 0.008*man + 0.008*get + 0.007*girl + 0.006*life + 0.006*woman + 0.006*young'),\n",
       " (5,\n",
       "  '0.031*film + 0.009*story + 0.008*characters + 0.007*character + 0.005*one + 0.005*much + 0.004*director'),\n",
       " (6,\n",
       "  '0.032*show + 0.014*series + 0.011*episode + 0.010*new + 0.009*tv + 0.008*shows + 0.006*life'),\n",
       " (7,\n",
       "  '0.016*action + 0.007*one + 0.007*game + 0.005*fight + 0.005*effects + 0.004*hero + 0.004*star'),\n",
       " (8,\n",
       "  '0.027*film + 0.015*one + 0.013*great + 0.012*good + 0.012*like + 0.011*see + 0.010*really'),\n",
       " (9,\n",
       "  '0.024*funny + 0.019*comedy + 0.008*like + 0.008*humor + 0.008*fun + 0.007*hilarious + 0.006*jokes')]"
      ]
     },
     "execution_count": 89,
     "metadata": {},
     "output_type": "execute_result"
    }
   ],
   "source": [
    "lda_tf.print_topics(num_topics=10, num_words=7)"
   ]
  },
  {
   "cell_type": "code",
   "execution_count": 90,
   "metadata": {
    "collapsed": false
   },
   "outputs": [
    {
     "data": {
      "text/plain": [
       "[('film', 0.030524768267918882),\n",
       " ('story', 0.0087631754481573079),\n",
       " ('characters', 0.008223725732907498),\n",
       " ('character', 0.0074848929011918581),\n",
       " ('one', 0.0053165850522363823),\n",
       " ('much', 0.0045162430837986239),\n",
       " ('director', 0.0043377573343705081),\n",
       " ('even', 0.0040207902445807443),\n",
       " ('work', 0.003792990016390618),\n",
       " ('life', 0.0034611804566033371)]"
      ]
     },
     "execution_count": 90,
     "metadata": {},
     "output_type": "execute_result"
    }
   ],
   "source": [
    "lda_tf.show_topic(5)"
   ]
  },
  {
   "cell_type": "code",
   "execution_count": 91,
   "metadata": {
    "collapsed": false
   },
   "outputs": [
    {
     "data": {
      "text/plain": [
       "[(0,\n",
       "  '0.003*holmes + 0.003*flynn + 0.002*godzilla + 0.002*powell + 0.002*chaney + 0.002*werewolf + 0.002*jim'),\n",
       " (1,\n",
       "  \"0.002*stanwyck + 0.002*streep + 0.001*christie + 0.001*daffy + 0.001*jenny + 0.001*o'hara + 0.001*cliche\"),\n",
       " (2,\n",
       "  '0.002*unique + 0.002*chaplin + 0.002*friday + 0.001*bambi + 0.001*penn + 0.001*beast + 0.001*karloff'),\n",
       " (3,\n",
       "  '0.003*cagney + 0.002*ninja + 0.002*jaws + 0.002*scorsese + 0.002*mitchum + 0.002*woo + 0.002*louise'),\n",
       " (4,\n",
       "  '0.004*seagal + 0.003*angus + 0.002*franco + 0.002*li + 0.002*ripoff + 0.002*mins + 0.002*violin'),\n",
       " (5,\n",
       "  '0.004*sandler + 0.003*bollywood + 0.002*khan + 0.002*todd + 0.002*mickey + 0.002*highlander + 0.002*crow'),\n",
       " (6,\n",
       "  '0.003*film + 0.002*good + 0.002*like + 0.002*bad + 0.002*one + 0.002*really + 0.002*story'),\n",
       " (7,\n",
       "  '0.002*alien + 0.002*sci-fi + 0.001*park + 0.001*chuck + 0.001*crawford + 0.001*rate + 0.001*steve'),\n",
       " (8,\n",
       "  '0.004*punk + 0.003*ringu + 0.003*frustrating + 0.003*shore + 0.003*sadako + 0.002*clerks + 0.002*brody'),\n",
       " (9,\n",
       "  '0.003*stellar + 0.003*damme + 0.002*hercules + 0.002*voiced + 0.002*lohan + 0.002*nikki + 0.002*bachchan')]"
      ]
     },
     "execution_count": 91,
     "metadata": {},
     "output_type": "execute_result"
    }
   ],
   "source": [
    "lda_tfidf.print_topics(num_topics=10, num_words=7)\n",
    "#lda_tfidf.print_topics(10)"
   ]
  },
  {
   "cell_type": "code",
   "execution_count": 87,
   "metadata": {
    "collapsed": false
   },
   "outputs": [
    {
     "data": {
      "text/plain": [
       "[(0,\n",
       "  [('holmes', 0.0034680266405948952),\n",
       "   ('flynn', 0.0031582106043233677),\n",
       "   ('godzilla', 0.0024674413784979642),\n",
       "   ('powell', 0.0023910323974197858),\n",
       "   ('chaney', 0.0021924772103542171),\n",
       "   ('werewolf', 0.0021347528955833008),\n",
       "   ('jim', 0.0021224116525657929),\n",
       "   ('errol', 0.0020599477834904985),\n",
       "   ('carrey', 0.0016810289318546843),\n",
       "   ('irene', 0.0016432120651780826),\n",
       "   ('sherlock', 0.0016211807014353411),\n",
       "   ('coppola', 0.0015588998146462635),\n",
       "   ('1940', 0.0015357069544381936),\n",
       "   ('album', 0.0014748939053617618),\n",
       "   ('reno', 0.0014240987694166183),\n",
       "   ('mason', 0.0013947264890239895),\n",
       "   ('ace', 0.0013602758293381539),\n",
       "   ('snoopy', 0.0012479968101371502),\n",
       "   ('ernest', 0.0012359438479679177),\n",
       "   ('underlying', 0.0012177853415220709)]),\n",
       " (1,\n",
       "  [('stanwyck', 0.0016226446627600731),\n",
       "   ('streep', 0.0016088970096939659),\n",
       "   ('christie', 0.0013669072400327195),\n",
       "   ('daffy', 0.001338172027284139),\n",
       "   ('jenny', 0.0013169073172366061),\n",
       "   (\"o'hara\", 0.0012330620257127098),\n",
       "   ('cliche', 0.0012232531544726531),\n",
       "   ('kennedy', 0.0012037067890060948),\n",
       "   ('uma', 0.0011907346597233531),\n",
       "   ('meryl', 0.0011693200324560313),\n",
       "   ('karen', 0.0011576360942308743),\n",
       "   ('thurman', 0.0011397605148892838),\n",
       "   ('everett', 0.0011202380937726773),\n",
       "   ('moronic', 0.0010878075931948855),\n",
       "   ('unpleasant', 0.0010733992868259845),\n",
       "   ('barbara', 0.0010607304179835347),\n",
       "   ('mothers', 0.001056706458769276),\n",
       "   ('travesty', 0.0010562425616369871),\n",
       "   ('waits', 0.0010469981050482209),\n",
       "   ('perfection', 0.0010457451651246074)]),\n",
       " (2,\n",
       "  [('unique', 0.0017588930385305482),\n",
       "   ('chaplin', 0.001540448258005402),\n",
       "   ('friday', 0.0015363024939295676),\n",
       "   ('bambi', 0.0013900256057716722),\n",
       "   ('penn', 0.0013086197126937569),\n",
       "   ('beast', 0.0011705148566267377),\n",
       "   ('karloff', 0.0011519316186529296),\n",
       "   ('lugosi', 0.0011421066403800543),\n",
       "   ('jane', 0.0010999618224964041),\n",
       "   ('sci-fi', 0.0010754982829355292),\n",
       "   ('sarah', 0.001067391734481581),\n",
       "   ('accident', 0.0010534558999838162),\n",
       "   ('gold', 0.0010456740204594791),\n",
       "   ('choices', 0.0010081076370062733),\n",
       "   ('locations', 0.0009918331491626858),\n",
       "   ('tight', 0.00098368891201377128),\n",
       "   ('piano', 0.00098276120730832607),\n",
       "   ('korean', 0.0009615114242988664),\n",
       "   ('arts', 0.00095637218900919624),\n",
       "   ('murderer', 0.00094831549463475105)]),\n",
       " (3,\n",
       "  [('cagney', 0.0030978913158452304),\n",
       "   ('ninja', 0.0024605815766242213),\n",
       "   ('jaws', 0.0022373428159259173),\n",
       "   ('scorsese', 0.0020886180993174058),\n",
       "   ('mitchum', 0.0018873911396447207),\n",
       "   ('woo', 0.0018594769494054489),\n",
       "   ('louise', 0.0017717651965514474),\n",
       "   ('buscemi', 0.0017694256263955455),\n",
       "   ('welles', 0.001663826913088601),\n",
       "   ('em', 0.0014952750862768068),\n",
       "   ('giallo', 0.0014314037290656784),\n",
       "   ('hogan', 0.0014025609452169149),\n",
       "   ('ninjas', 0.0013809199370409973),\n",
       "   ('fonda', 0.0013118746766861823),\n",
       "   ('skull', 0.0012531874015384186),\n",
       "   ('sheep', 0.0012427200387116644),\n",
       "   ('persons', 0.0012420736944200603),\n",
       "   ('dialogues', 0.0012400421703958296),\n",
       "   ('crocodile', 0.0012006947715850218),\n",
       "   ('sharpe', 0.0011981863514816194)]),\n",
       " (4,\n",
       "  [('seagal', 0.0035435151921456676),\n",
       "   ('angus', 0.0026168556269814658),\n",
       "   ('franco', 0.0023335871144135774),\n",
       "   ('li', 0.0021426743873458253),\n",
       "   ('ripoff', 0.0019783135909155185),\n",
       "   ('mins', 0.0018981041515631453),\n",
       "   ('violin', 0.0018633307605128646),\n",
       "   ('conway', 0.0017518937294624375),\n",
       "   ('mysteries', 0.0016834433957583837),\n",
       "   ('21', 0.001597184679149947),\n",
       "   ('tends', 0.0015838049711130631),\n",
       "   ('year-old', 0.0015545706025913827),\n",
       "   ('russians', 0.0015455732884031908),\n",
       "   ('lime', 0.001520570520792778),\n",
       "   ('tribe', 0.001490589859989443),\n",
       "   ('grodin', 0.0014447619252168312),\n",
       "   ('geeks', 0.0014223115245881404),\n",
       "   ('progressed', 0.0014166803261723507),\n",
       "   ('delta', 0.0014101051536788626),\n",
       "   ('god-awful', 0.001393363910122049)]),\n",
       " (5,\n",
       "  [('sandler', 0.0041680280213689204),\n",
       "   ('bollywood', 0.0027011400992463272),\n",
       "   ('khan', 0.0024032700592572544),\n",
       "   ('todd', 0.0023053120277656855),\n",
       "   ('mickey', 0.0019691289073271237),\n",
       "   ('highlander', 0.0019566254516344794),\n",
       "   ('crow', 0.0019531281701028612),\n",
       "   ('predator', 0.0017997940403109392),\n",
       "   ('baseball', 0.0016260856185426528),\n",
       "   ('baldwin', 0.001548670506536862),\n",
       "   ('crowe', 0.0015390054458598347),\n",
       "   ('matt', 0.0015331919593593068),\n",
       "   ('costner', 0.0014047053585200149),\n",
       "   ('asoka', 0.0013473617636665571),\n",
       "   ('burt', 0.0013162132078195987),\n",
       "   ('dave', 0.0012869072295614598),\n",
       "   ('courtroom', 0.0012744746959745597),\n",
       "   ('niro', 0.0012738662226391652),\n",
       "   ('dumber', 0.0012537622444632624),\n",
       "   ('areas', 0.0012517257483024981)]),\n",
       " (6,\n",
       "  [('film', 0.0031738795041779794),\n",
       "   ('good', 0.0021403821476648835),\n",
       "   ('like', 0.0021044385925217796),\n",
       "   ('bad', 0.0020721140102888899),\n",
       "   ('one', 0.0020542612917218693),\n",
       "   ('really', 0.0020178950939237278),\n",
       "   ('story', 0.001960818466261532),\n",
       "   ('would', 0.0019573378428287252),\n",
       "   ('great', 0.0019181756918497056),\n",
       "   ('see', 0.0018710881424214227),\n",
       "   ('even', 0.0018309029071994225),\n",
       "   ('time', 0.0017968382344863264),\n",
       "   ('movies', 0.0017830982697025237),\n",
       "   ('people', 0.0017707333377283484),\n",
       "   ('could', 0.0017399619507566912),\n",
       "   ('well', 0.0017024507524454485),\n",
       "   ('watch', 0.0016492216660383538),\n",
       "   ('much', 0.0016313500386068104),\n",
       "   ('get', 0.0016143968414717451),\n",
       "   ('show', 0.0016098732824370043)]),\n",
       " (7,\n",
       "  [('alien', 0.0019164376299737179),\n",
       "   ('sci-fi', 0.0015110407063442105),\n",
       "   ('park', 0.001350390122078485),\n",
       "   ('chuck', 0.001244728348136107),\n",
       "   ('crawford', 0.0012144787259051747),\n",
       "   ('rate', 0.001210991626940047),\n",
       "   ('steve', 0.0011842985490078323),\n",
       "   ('adds', 0.0011724928960340295),\n",
       "   ('noir', 0.0011342892789229194),\n",
       "   ('control', 0.0011150961609823434),\n",
       "   ('kevin', 0.0010894647470224604),\n",
       "   ('fat', 0.0010721420230518472),\n",
       "   ('marriage', 0.0010672741206570319),\n",
       "   ('ford', 0.0010641429420756711),\n",
       "   ('nick', 0.0010625070396766696),\n",
       "   ('chris', 0.0010538646289098091),\n",
       "   ('sean', 0.0010440840431015902),\n",
       "   ('adult', 0.0010349054328861378),\n",
       "   ('dunne', 0.0010242327904964766),\n",
       "   ('computer', 0.0010151277602664834)]),\n",
       " (8,\n",
       "  [('punk', 0.0036418645706608622),\n",
       "   ('ringu', 0.0031308529237895066),\n",
       "   ('frustrating', 0.0031283823401996248),\n",
       "   ('shore', 0.0028478046631407209),\n",
       "   ('sadako', 0.0026284613335331615),\n",
       "   ('clerks', 0.0022762581763224104),\n",
       "   ('brody', 0.0022440176012023705),\n",
       "   ('stalin', 0.0021409035687452323),\n",
       "   ('regards', 0.0020653399940659461),\n",
       "   ('levy', 0.0020472252858928916),\n",
       "   ('randolph', 0.0019648699278623561),\n",
       "   ('asia', 0.0019480524236581323),\n",
       "   ('bullock', 0.001933047249258522),\n",
       "   ('beowulf', 0.001797663964820247),\n",
       "   ('lola', 0.0017802280804919684),\n",
       "   ('buffy', 0.0017597182303257172),\n",
       "   ('babes', 0.0017280345921406714),\n",
       "   ('agatha', 0.0017232268590350219),\n",
       "   ('sylvester', 0.0017086792754796194),\n",
       "   ('williamson', 0.0016742863278731718)]),\n",
       " (9,\n",
       "  [('stellar', 0.0034026089486674954),\n",
       "   ('damme', 0.0032223850893244497),\n",
       "   ('hercules', 0.0022559370030905937),\n",
       "   ('voiced', 0.0022528645503028769),\n",
       "   ('lohan', 0.0021591584639262147),\n",
       "   ('nikki', 0.0020843003192683803),\n",
       "   ('bachchan', 0.0020408298502867426),\n",
       "   ('nemo', 0.0019078813095734207),\n",
       "   ('garfield', 0.0018744750183135169),\n",
       "   ('shifts', 0.0018259606991438341),\n",
       "   ('darren', 0.0018060677630677123),\n",
       "   ('osama', 0.0017576818576368874),\n",
       "   ('outdoor', 0.001756500672256868),\n",
       "   ('overused', 0.0016574452987275362),\n",
       "   ('trevor', 0.0016518557473284288),\n",
       "   ('addict', 0.0016428300633435902),\n",
       "   ('radical', 0.0016301566641820145),\n",
       "   ('marines', 0.0016187415990908962),\n",
       "   ('amelie', 0.0016085611265447832),\n",
       "   ('lounge', 0.0014997394282988945)])]"
      ]
     },
     "execution_count": 87,
     "metadata": {},
     "output_type": "execute_result"
    }
   ],
   "source": [
    "lda_tfidf.show_topics(formatted=False, num_words=20)"
   ]
  },
  {
   "cell_type": "code",
   "execution_count": 97,
   "metadata": {
    "collapsed": false
   },
   "outputs": [
    {
     "name": "stderr",
     "output_type": "stream",
     "text": [
      "/home/rsouza/.local/lib/python3.5/site-packages/funcy/decorators.py:56: DeprecationWarning: inspect.getargspec() is deprecated, use inspect.signature() instead\n",
      "  spec = inspect.getargspec(func)\n",
      "/home/rsouza/.local/lib/python3.5/site-packages/funcy/decorators.py:56: DeprecationWarning: inspect.getargspec() is deprecated, use inspect.signature() instead\n",
      "  spec = inspect.getargspec(func)\n",
      "/home/rsouza/.local/lib/python3.5/site-packages/funcy/decorators.py:56: DeprecationWarning: inspect.getargspec() is deprecated, use inspect.signature() instead\n",
      "  spec = inspect.getargspec(func)\n",
      "/home/rsouza/.local/lib/python3.5/site-packages/funcy/decorators.py:56: DeprecationWarning: inspect.getargspec() is deprecated, use inspect.signature() instead\n",
      "  spec = inspect.getargspec(func)\n",
      "/home/rsouza/.local/lib/python3.5/site-packages/funcy/decorators.py:56: DeprecationWarning: inspect.getargspec() is deprecated, use inspect.signature() instead\n",
      "  spec = inspect.getargspec(func)\n",
      "/home/rsouza/.local/lib/python3.5/site-packages/funcy/decorators.py:56: DeprecationWarning: inspect.getargspec() is deprecated, use inspect.signature() instead\n",
      "  spec = inspect.getargspec(func)\n"
     ]
    },
    {
     "data": {
      "text/html": [
       "\n",
       "<link rel=\"stylesheet\" type=\"text/css\" href=\"https://cdn.rawgit.com/bmabey/pyLDAvis/files/ldavis.v1.0.0.css\">\n",
       "\n",
       "\n",
       "<div id=\"ldavis_el355141396302770825924044099671\"></div>\n",
       "<script type=\"text/javascript\">\n",
       "\n",
       "var ldavis_el355141396302770825924044099671_data = {\"tinfo\": {\"Term\": [\"film\", \"show\", \"funny\", \"bad\", \"comedy\", \"people\", \"action\", \"great\", \"really\", \"horror\", \"good\", \"series\", \"see\", \"like\", \"war\", \"movies\", \"tv\", \"life\", \"think\", \"new\", \"watch\", \"characters\", \"seen\", \"story\", \"would\", \"best\", \"role\", \"girl\", \"episode\", \"fun\", \"worst\", \"waste\", \"crap\", \"na\", \"garbage\", \"gon\", \"sucks\", \"rubbish\", \"blah\", \"atrocious\", \"ninja\", \"suck\", \"unwatchable\", \"horrid\", \"1/10\", \"mst3k\", \"3/10\", \"stinker\", \"hellraiser\", \"abysmal\", \"2/10\", \"screwed\", \"scifi\", \"nope\", \"hercules\", \"dont\", \"saif\", \"shelves\", \"abomination\", \"frost\", \"terrible\", \"horrible\", \"stupid\", \"awful\", \"bad\", \"lame\", \"crappy\", \"worse\", \"laughable\", \"boring\", \"poorly\", \"bother\", \"redeeming\", \"annoying\", \"pointless\", \"yeah\", \"minutes\", \"ridiculous\", \"trash\", \"ok\", \"supposed\", \"oh\", \"nothing\", \"thing\", \"pathetic\", \"could\", \"acting\", \"even\", \"like\", \"poor\", \"would\", \"money\", \"really\", \"watching\", \"make\", \"plot\", \"say\", \"ever\", \"better\", \"watch\", \"movies\", \"good\", \"actually\", \"get\", \"one\", \"know\", \"made\", \"think\", \"film\", \"time\", \"see\", \"people\", \"seen\", \"much\", \"something\", \"first\", \"bambi\", \"nikki\", \"beatles\", \"ringu\", \"highlander\", \"malkovich\", \"rani\", \"maris\", \"frogs\", \"hai\", \"solondz\", \"sh*t\", \"melody\", \"hoskins\", \"salman\", \"maury\", \"festivals\", \"donnie\", \"crouching\", \"ebay\", \"penguins\", \"abel\", \"amelie\", \"todays\", \"popping\", \"herzog\", \"lumi\\u00e8re\", \"oliveira\", \"dundee\", \"owl\", \"10/10\", \"amazing\", \"enjoyed\", \"loved\", \"fantastic\", \"great\", \"festival\", \"liked\", \"recommend\", \"wonderful\", \"pleasantly\", \"excellent\", \"saw\", \"definitely\", \"dvd\", \"perfect\", \"vhs\", \"see\", \"subtitles\", \"love\", \"music\", \"well\", \"best\", \"seen\", \"enjoy\", \"opinion\", \"good\", \"really\", \"think\", \"movies\", \"film\", \"different\", \"story\", \"watch\", \"many\", \"films\", \"one\", \"also\", \"like\", \"lot\", \"time\", \"first\", \"still\", \"would\", \"much\", \"people\", \"made\", \"say\", \"ever\", \"way\", \"could\", \"khan\", \"bollywood\", \"streep\", \"shields\", \"asoka\", \"ali\", \"sophie\", \"empathy\", \"kapoor\", \"meryl\", \"bachchan\", \"symbolic\", \"django\", \"akbar\", \"pierce\", \"avery\", \"shah\", \"delpy\", \"walt\", \"dafoe\", \"sensitivity\", \"accessible\", \"hindi\", \"amitabh\", \"marple\", \"wilbur\", \"minnelli\", \"aesthetic\", \"farrah\", \"cinderella\", \"kurosawa\", \"symbolism\", \"narrative\", \"subtlety\", \"emotional\", \"ultimately\", \"viewer\", \"storytelling\", \"conventional\", \"convey\", \"nature\", \"subtle\", \"audience\", \"artistic\", \"perhaps\", \"cinematic\", \"themes\", \"terms\", \"characters\", \"contrast\", \"depth\", \"film\", \"visual\", \"character\", \"art\", \"focus\", \"filmmaker\", \"rather\", \"director\", \"entirely\", \"often\", \"story\", \"dramatic\", \"work\", \"yet\", \"human\", \"cinema\", \"seems\", \"sense\", \"simply\", \"without\", \"may\", \"however\", \"given\", \"much\", \"life\", \"us\", \"drama\", \"point\", \"two\", \"seem\", \"even\", \"one\", \"films\", \"many\", \"way\", \"scenes\", \"interesting\", \"make\", \"could\", \"plot\", \"lugosi\", \"ants\", \"travolta\", \"bela\", \"tribe\", \"cemetery\", \"leatherface\", \"gremlins\", \"midler\", \"21\", \"woodstock\", \"enid\", \"olsen\", \"volcano\", \"lohan\", \"granny\", \"astro\", \"buys\", \"ness\", \"maine\", \"bury\", \"iris\", \"sadie\", \"martins\", \"oxygen\", \"harbour\", \"jafar\", \"mummies\", \"limb\", \"gwen\", \"mothers\", \"pregnant\", \"mom\", \"mother\", \"neighbor\", \"parents\", \"father\", \"son\", \"daughter\", \"girl\", \"hears\", \"grandmother\", \"sister\", \"dad\", \"boy\", \"asks\", \"decides\", \"husband\", \"baby\", \"woman\", \"girls\", \"boyfriend\", \"finds\", \"home\", \"wants\", \"meets\", \"wife\", \"child\", \"family\", \"house\", \"brother\", \"women\", \"town\", \"young\", \"children\", \"tells\", \"man\", \"school\", \"friend\", \"back\", \"gets\", \"life\", \"get\", \"old\", \"goes\", \"go\", \"love\", \"one\", \"away\", \"find\", \"around\", \"two\", \"like\", \"little\", \"way\", \"see\", \"scene\", \"end\", \"detective\", \"serial\", \"hitchcock\", \"murders\", \"noir\", \"dracula\", \"murderer\", \"werewolf\", \"spooky\", \"candyman\", \"heist\", \"robbery\", \"argento\", \"bronson\", \"giallo\", \"peterson\", \"holden\", \"sadako\", \"investigating\", \"cronenberg\", \"murdering\", \"troll\", \"lime\", \"orphanage\", \"keane\", \"brody\", \"kidman\", \"femme\", \"dana\", \"sleaze\", \"murder\", \"killer\", \"gruesome\", \"thriller\", \"killings\", \"cop\", \"cannibal\", \"police\", \"slasher\", \"crime\", \"horror\", \"vampire\", \"massacre\", \"killers\", \"creepy\", \"supernatural\", \"gore\", \"blood\", \"gory\", \"suspense\", \"mystery\", \"victims\", \"italian\", \"violence\", \"prison\", \"atmosphere\", \"dark\", \"dead\", \"film\", \"death\", \"dr\", \"genre\", \"films\", \"also\", \"one\", \"plot\", \"director\", \"quite\", \"scenes\", \"scene\", \"well\", \"little\", \"good\", \"man\", \"cast\", \"two\", \"pretty\", \"grant\", \"henry\", \"joan\", \"jane\", \"davis\", \"crawford\", \"powell\", \"chaplin\", \"cary\", \"dunne\", \"bogart\", \"fonda\", \"cooper\", \"bette\", \"ann\", \"mgm\", \"brooks\", \"irene\", \"broadway\", \"rogers\", \"barrymore\", \"costello\", \"hudson\", \"stanwyck\", \"betty\", \"christie\", \"stan\", \"lana\", \"humphrey\", \"columbo\", \"arthur\", \"robinson\", \"stewart\", \"douglas\", \"wayne\", \"warner\", \"kelly\", \"mary\", \"william\", \"charles\", \"scott\", \"howard\", \"george\", \"role\", \"john\", \"stage\", \"musical\", \"frank\", \"supporting\", \"james\", \"robert\", \"version\", \"plays\", \"cast\", \"career\", \"performance\", \"novel\", \"richard\", \"mr\", \"played\", \"play\", \"star\", \"best\", \"actor\", \"one\", \"great\", \"film\", \"roles\", \"screen\", \"playing\", \"good\", \"also\", \"young\", \"made\", \"stars\", \"book\", \"well\", \"americans\", \"war\", \"holmes\", \"united\", \"nazi\", \"propaganda\", \"religion\", \"karloff\", \"africa\", \"connery\", \"civil\", \"iraq\", \"nation\", \"african\", \"sherlock\", \"norma\", \"nazis\", \"che\", \"jews\", \"hitler\", \"germans\", \"communist\", \"leaders\", \"global\", \"dakota\", \"9/11\", \"deniro\", \"flag\", \"economic\", \"rathbone\", \"political\", \"wwii\", \"union\", \"facts\", \"government\", \"documentary\", \"indians\", \"states\", \"native\", \"german\", \"america\", \"holocaust\", \"country\", \"soldiers\", \"russian\", \"american\", \"history\", \"countries\", \"south\", \"north\", \"historical\", \"military\", \"politics\", \"world\", \"religious\", \"white\", \"culture\", \"us\", \"people\", \"black\", \"british\", \"power\", \"would\", \"men\", \"truth\", \"many\", \"general\", \"fact\", \"man\", \"made\", \"years\", \"time\", \"real\", \"one\", \"also\", \"even\", \"alien\", \"martial\", \"kong\", \"flynn\", \"dragon\", \"sword\", \"hong\", \"fu\", \"woo\", \"seagal\", \"predator\", \"tiger\", \"chaney\", \"kung\", \"chan\", \"trek\", \"errol\", \"superman\", \"virus\", \"jet\", \"angus\", \"dinosaurs\", \"helicopter\", \"li\", \"commander\", \"lance\", \"damme\", \"phantasm\", \"terminator\", \"sinbad\", \"robots\", \"aliens\", \"arts\", \"game\", \"action\", \"fight\", \"wars\", \"sci-fi\", \"ship\", \"fights\", \"planet\", \"hero\", \"fighting\", \"space\", \"captain\", \"games\", \"gun\", \"giant\", \"monster\", \"earth\", \"flying\", \"battle\", \"effects\", \"crew\", \"star\", \"team\", \"special\", \"lee\", \"evil\", \"one\", \"back\", \"villain\", \"series\", \"also\", \"john\", \"scenes\", \"time\", \"first\", \"get\", \"like\", \"two\", \"good\", \"man\", \"big\", \"cartoon\", \"animated\", \"funniest\", \"murphy\", \"sandler\", \"cartoons\", \"gags\", \"slapstick\", \"funnier\", \"keaton\", \"godzilla\", \"freddy\", \"miike\", \"duck\", \"snoopy\", \"porky\", \"bunny\", \"melanie\", \"comedians\", \"carrey\", \"daffy\", \"sharpe\", \"voiced\", \"beowulf\", \"seth\", \"pryor\", \"hooper\", \"meg\", \"sketch\", \"panther\", \"jokes\", \"comedy\", \"hilarious\", \"pink\", \"funny\", \"animation\", \"adam\", \"laughs\", \"disney\", \"humor\", \"comedies\", \"eddie\", \"unfunny\", \"woody\", \"batman\", \"comedic\", \"laugh\", \"comic\", \"fun\", \"humour\", \"kids\", \"allen\", \"steve\", \"like\", \"show\", \"little\", \"original\", \"great\", \"moments\", \"one\", \"short\", \"best\", \"classic\", \"still\", \"also\", \"series\", \"old\", \"season\", \"cagney\", \"episodes\", \"seasons\", \"welles\", \"lenny\", \"pammy\", \"homosexuality\", \"sopranos\", \"bunuel\", \"doris\", \"orson\", \"cabaret\", \"vienna\", \"abc\", \"pursue\", \"immigrant\", \"camps\", \"nbc\", \"les\", \"magnum\", \"charley\", \"malone\", \"eva\", \"goodfellas\", \"regime\", \"canceled\", \"thai\", \"thailand\", \"wally\", \"episode\", \"scorsese\", \"show\", \"york\", \"series\", \"television\", \"emmanuelle\", \"network\", \"gay\", \"tv\", \"shows\", \"program\", \"new\", \"san\", \"tony\", \"city\", \"aired\", \"years\", \"family\", \"life\", \"week\", \"stories\", \"first\", \"tom\", \"year\", \"last\", \"de\", \"time\", \"two\", \"always\", \"day\", \"reality\", \"every\", \"later\", \"best\", \"also\", \"never\", \"one\"], \"Freq\": [117699.0, 17125.0, 12923.0, 27019.0, 9302.0, 27529.0, 10276.0, 26962.0, 34493.0, 10158.0, 43038.0, 8549.0, 33511.0, 58622.0, 5972.0, 22335.0, 7305.0, 17413.0, 20906.0, 12596.0, 19659.0, 21619.0, 19075.0, 34392.0, 39746.0, 18791.0, 9383.0, 8218.0, 4233.0, 7746.0, 7675.061991581907, 4325.698679012878, 2744.1723697755215, 1372.4335959971177, 1186.272068148745, 837.5897463535777, 827.3404476116066, 766.741521095702, 569.1121124302972, 533.9131511359697, 525.4774992898557, 458.94468627701855, 401.94432214027745, 377.3524774960819, 367.5894472239252, 348.6738160721635, 337.2153848174315, 308.10447466456, 281.07510173643203, 275.20953740494105, 262.25974142689046, 224.370629354396, 216.94603776887612, 205.8724492106441, 186.93613832456313, 176.89182523007517, 169.97728994967994, 165.90583559382702, 163.63366939026474, 163.14000427736866, 4395.475275841244, 3624.1022568662725, 4753.320978789234, 4594.393692506856, 24999.35397690807, 1991.477314294071, 736.924900453732, 3856.992254205128, 1111.9607795484233, 4945.902447853738, 1889.210933852767, 1199.3729738830816, 870.6274605361222, 2457.8329709402024, 1410.9395258815655, 1232.3123958173508, 6795.9210805556995, 2345.2112415405413, 1029.229700356994, 2583.766065640761, 3493.847490531003, 3102.8444458467425, 8839.929780836645, 8956.694207570674, 1355.0528787176913, 17067.660426100425, 11300.464189288405, 20560.7562675856, 28858.75453810523, 4089.5970467109123, 20138.0926155766, 4681.877555554893, 16721.10506343434, 7684.282984473607, 12105.002672297087, 10238.113800657062, 8629.14060676414, 9383.510900119925, 9266.198385359376, 10168.310139156867, 10964.783245391392, 17430.079474740163, 7204.395253947088, 12034.523458824897, 23339.552686669685, 9086.749896217907, 10560.919114049757, 9776.825502257421, 24871.534072392045, 12581.680068282054, 11860.144401092914, 10778.099808962754, 8967.764651453015, 10159.007397432133, 8022.024707239033, 8094.991974834207, 590.9173108210813, 437.7760583687137, 370.74823508340484, 336.33754945722956, 305.2760617282326, 225.04044999850743, 217.43915662579096, 210.32495187208417, 187.53249960204457, 176.07535606763403, 170.66345282466725, 165.99424842815299, 161.6177379014565, 157.5984066519777, 156.87363030070057, 152.40287272112826, 152.17228666246552, 150.6764575754292, 148.72552030652068, 137.4603510738674, 136.25835984667233, 135.41008454611537, 135.20858949618662, 134.32611055423328, 132.2480232672949, 131.54830727710274, 131.1139549600851, 130.9903921914991, 125.28804950602077, 124.35271329866059, 524.586759761108, 2992.2121250844334, 3189.6397204719465, 3391.014714293308, 1713.570023430691, 19045.03920850134, 1220.4065661219063, 3197.0435260621116, 3399.4230569067813, 3189.1347471168524, 360.83557594644884, 4011.489574152791, 6147.057579839673, 3285.723688093665, 4392.429340741426, 2942.558153042873, 596.1963033224164, 17289.977112192864, 576.0204047229167, 9757.498147822083, 5237.356452340741, 13773.009485339506, 9657.50410744674, 9663.492626720152, 3103.8086934185476, 1778.613668187775, 18511.115195367634, 15277.244708361495, 10070.228377974867, 10335.196604792734, 40172.05747800853, 4152.064254286067, 14085.935966590941, 8846.947159379326, 8754.416508513545, 8854.635281589091, 22611.225861764276, 10237.713803466875, 17444.55584371911, 5875.185527647052, 11295.499895632165, 9232.599721171151, 6686.726329968377, 11234.131415707265, 8776.098124603099, 8497.614468313262, 7769.950961866107, 5990.727100399889, 6140.92871592745, 6247.502183752875, 6272.680282837176, 736.0286363198855, 588.8659666236017, 342.16142348183376, 303.4265801080456, 300.05947219316124, 296.0425946797845, 257.46252809072485, 254.33847644257148, 237.67075876194772, 234.1414898206805, 232.41780319093576, 226.07841448455653, 225.12867876051305, 224.38202648306336, 222.72470393871413, 213.4879703652895, 212.31332778140342, 211.65202098027473, 210.6256378114762, 207.37658088670412, 200.79567249376993, 196.6414329604592, 196.5316867611967, 195.5957255740844, 192.41283390528508, 190.52264186359557, 188.5060600714579, 185.57306620508263, 182.3631922271574, 174.2188937600817, 288.52059563076455, 372.1216370902432, 1063.4161377784096, 326.35481091870514, 1459.0476351522047, 1306.923558496863, 2590.6102720587032, 488.66400154689245, 285.9871221622262, 364.2846532081622, 1251.3104984627757, 964.5867537444889, 3679.6540872212313, 666.3151821566316, 2933.3100301679287, 927.1651436955707, 787.7288344520736, 966.9828872579242, 9244.957090417614, 567.8948177129312, 1002.8300047119274, 34315.367753890234, 1038.2886242760528, 8414.375180460373, 1817.3793458414734, 1036.3181709174667, 659.5456400914995, 3669.338289303268, 4876.424838006052, 1080.4459671772518, 2177.2203178497675, 9851.39626797507, 1175.3231639385212, 4264.007711929868, 3244.6381349743688, 2025.1275979168063, 1910.1152105563058, 3694.3568282265683, 2841.6565527312055, 2397.0980365780797, 3172.9452899445037, 3149.6747240988066, 3027.9733427326037, 2102.318286486397, 5077.075145215479, 3890.9936740043545, 3001.776767342521, 1727.7470661456375, 2564.823997958772, 3674.7503505244013, 2227.0201860136503, 4520.096424419125, 5976.8044645262635, 3413.2447119547664, 3156.683419396453, 3278.992298213459, 2819.651727884082, 2436.3993058034107, 2760.1297721773535, 2781.401520878372, 2438.6607769794746, 494.38904698793374, 308.52496748509736, 306.174574542996, 276.2427518633209, 227.33344605849243, 222.18964480238438, 211.19399754302893, 209.64408366854187, 207.12237825724048, 190.74188526900403, 186.89448853856615, 184.53319846983445, 183.37661006856845, 182.51298243876644, 176.58105703087043, 160.41395688252553, 145.0511457527412, 139.8767354195135, 139.6226112116632, 138.73175397678384, 133.557495762884, 133.07990291072116, 130.0341465710031, 129.63568450787363, 127.71915414992, 127.46930310728462, 127.01806705298607, 126.54909316423701, 119.87409573548301, 148.38303820700455, 273.6444814895752, 512.9929994414646, 1040.8055247619632, 4363.9223585639675, 326.4598154916279, 2215.672285595393, 4538.386278467138, 3326.147780162065, 2971.341596470249, 6356.736545393684, 247.82111901235373, 280.6115909087952, 1748.7051903747106, 1085.7638057709319, 3339.2156179578483, 810.6240582830965, 1275.9875187901805, 2384.6630578380377, 1471.09921263371, 5320.809529008725, 2495.6741488198413, 886.7558316674491, 2034.0934974043064, 3540.247128360998, 2579.113643482513, 1372.355601554894, 3890.390241489645, 2287.3680113673563, 4678.650553395781, 3156.0678540417707, 1973.7707210868318, 3249.521090548023, 2434.937197545536, 5161.684691894105, 2566.80639481951, 1733.3314234457694, 6825.964073114189, 2477.346380606782, 2419.9821095333664, 4866.38335538467, 3701.843320323274, 5331.207860753422, 6705.9841467363785, 4091.368211256852, 3124.173155823757, 4214.873380700077, 4596.016777229219, 7729.891041596812, 3123.837468012752, 3455.418506514078, 3248.787319581066, 3729.327921702062, 4609.39776078632, 3513.062233125662, 3560.131111591904, 3518.1983043244363, 3284.9192247678707, 3165.4347884500307, 1487.9761321420413, 1166.3127700789287, 1029.1545770551588, 1007.8094360577408, 972.3209934139044, 933.1515871633442, 613.7917211929396, 461.48756587180713, 415.67081260146756, 398.88074974502865, 389.7175689816746, 384.159969998442, 357.2904252238132, 356.33372443794826, 344.8823574333973, 321.96281436967996, 318.0283242103211, 303.51370221975793, 280.4786469566347, 265.2792538766593, 255.65800634136284, 247.42876137298418, 238.49773570127348, 237.5752330147891, 231.09899416257284, 227.11600219352923, 224.90394548235264, 206.6965292642217, 205.57233885338152, 202.69346745332209, 3044.5690999370186, 3681.105104704365, 451.83942369281425, 2102.3144904140013, 396.2219724144692, 1842.7810360951528, 477.6873228364822, 2720.7398202165527, 1069.0563990233845, 1981.5235206020648, 7134.595485109102, 1086.9622112779196, 707.6355265450463, 645.9981439498902, 1273.117991162298, 619.5508225147896, 1890.775298975588, 2164.4123547540753, 697.2780097403025, 1440.5573352870106, 1460.5132836755135, 889.350845150623, 1179.018810764053, 1933.2408195713845, 1190.4216376998452, 1184.0150936052598, 1895.557262928611, 2246.438649094133, 13318.947746461674, 2254.283311945577, 1230.047496911778, 1687.2618150747103, 3516.250513206414, 3900.694459890568, 5800.442181470942, 2962.0833637857554, 2323.116720827254, 2218.9277242977696, 2418.942599323919, 2313.210465518778, 2493.815990713552, 2024.980365012545, 2286.1382288623136, 1910.2918150169253, 1778.1054691952115, 1901.935238747138, 1695.2547096423023, 1547.1645166075516, 1425.6466882998898, 1353.6190727187254, 1169.8576926979765, 1119.0412795159828, 971.6625106489187, 801.832226568277, 719.6261395456736, 699.2549225845358, 669.9747057785574, 653.412745776908, 621.5687994925205, 620.5945470605164, 573.0347442725895, 563.9269929883983, 511.91889039174754, 478.04918747460744, 473.2166944845176, 451.6086383352795, 419.8704140108834, 399.0718258842313, 378.9586295240807, 388.84077860072455, 366.7910601558934, 397.1789096700642, 339.70877640194044, 320.93855624397605, 317.83817852267333, 310.82197969113025, 309.0938442724484, 650.8341753923545, 394.28238168843797, 586.9864943958294, 869.7917756629356, 782.5492506002144, 656.4914885751124, 631.180814874574, 1240.3997653531062, 1421.1801318717692, 1196.4390028290936, 1189.638759670129, 907.4637785212618, 1607.8190093702112, 4443.200141221973, 3360.4786507400872, 1372.5932966634293, 1444.0400145355636, 997.8485231803793, 1541.415807282578, 1657.9066041727197, 1776.4252288736557, 2404.34024233186, 2775.332775301844, 3619.3416204842765, 1666.741454787191, 2985.8114266920934, 1532.6928758048155, 1345.0473542383959, 1861.3474788138603, 2632.5427104649475, 2361.34060745198, 1943.4515640059576, 3291.5741036117784, 2049.785643944409, 4437.176927008258, 3060.1357739394, 4012.609513055034, 1493.9112937123195, 1778.9429686824233, 1592.566790747339, 2557.6294354650086, 2075.1705715337157, 1744.304745904274, 1718.0139750265143, 1512.7832075853837, 1529.8319550258243, 1624.6467365940691, 1065.9668408499313, 5967.272016734682, 852.5610936338788, 674.3426067705612, 663.6058858905301, 607.9905202837647, 555.1342289155967, 499.9430173130333, 486.1078668602452, 463.2996188110996, 405.57560332082653, 385.9439885708413, 383.5393442150751, 362.36021631968373, 353.4009019322104, 349.37907228563375, 348.64413096348676, 292.226901552238, 280.6388699036634, 279.37116366086184, 267.7928313623265, 264.5412897636029, 261.99778052867055, 248.65597408952075, 234.20453357096483, 228.24798467610717, 218.28434454458514, 215.31208133771221, 214.23660289655857, 211.52944869280478, 1637.0337628598031, 436.11408188403976, 370.75070559676516, 818.3429938428525, 1168.52472832454, 2290.883125056902, 443.1222234602146, 911.4072030494774, 716.0562313235007, 1129.315016827916, 1748.8826508381117, 464.58929541077214, 1930.3901056343864, 972.4712132037014, 794.1753941507061, 3732.6887415573638, 2364.518714356812, 496.5021166950897, 887.6522595783165, 668.6282062254131, 912.9339987384008, 903.1120074843525, 532.8792326847919, 3970.568537829708, 626.6485376166977, 1717.4159601130596, 982.3535081780115, 3065.6543307388147, 5301.04420292675, 2049.188951304236, 1189.0829149383185, 1222.7490390656133, 3034.5541445635017, 1404.755620465293, 995.784514372942, 1835.6518695285329, 947.9759258038487, 1250.8620177819225, 1347.835666370452, 1339.253538397246, 1167.80923695607, 1211.757231194711, 1118.5323990785769, 1271.8264958355483, 1086.8989314157752, 1039.155168219378, 1678.7350990948773, 970.6838918037666, 740.6754633194822, 739.0788872088743, 619.891461956899, 593.6408291150523, 538.8487849493134, 513.6231037934349, 512.5308175976334, 507.63111206243656, 486.79268408107635, 484.21835923690395, 477.34413583790047, 472.1345819627806, 469.1791587326248, 453.7602713168661, 429.2863682814544, 426.2668397784501, 391.9562046337019, 360.393502260259, 359.9542117554785, 337.2318900496079, 333.21939362375775, 307.7055008842934, 306.62170635559477, 301.432659365193, 279.1108357604551, 278.15399546981837, 277.42054050299134, 267.34644120040963, 368.5873566747594, 971.7875320149816, 896.7996162242293, 3196.000740447001, 7420.343443153475, 2516.207239274683, 832.2117810969153, 1466.1708260704, 1118.6626512901184, 763.5798823922764, 880.7510150243592, 1938.9022196377737, 1205.6387075324424, 1386.4199130141299, 879.52893040575, 764.2660351301992, 1185.8248916423734, 946.9317305405127, 1223.4084006446628, 1232.4381313977055, 704.6450142009917, 1114.686831481349, 2280.8926059402675, 1167.789402075078, 1842.0777819574744, 1094.0060930412967, 1831.9629302067606, 1083.3830274472048, 1252.7797989292221, 3515.6789698859247, 1704.6328947964528, 890.1981351892855, 1323.055585235197, 1645.7596383689931, 1211.4726689160116, 1361.3904512315648, 1544.139391254309, 1431.5740221444821, 1374.40821291301, 1481.1801121681406, 1306.6180072855796, 1346.5533383780125, 1224.7996660908098, 1156.2032734562717, 1500.3670225590304, 1196.2667577337193, 1090.9851691469044, 831.3047774372035, 771.986545115565, 761.1876384809434, 729.9458332055274, 720.1839951578736, 605.701260624655, 603.2373130238585, 535.9607389760787, 507.8816407888428, 451.6726499842093, 339.5488051425941, 335.16686049873204, 327.816069677505, 314.055485038455, 312.85358555532054, 304.52636612780196, 286.3623300659831, 286.1415555286808, 281.19175537101125, 273.5689594831039, 270.9197082841461, 265.9525143671611, 263.6763890799154, 260.3549558885363, 240.57622689498808, 240.02661534641055, 239.62599100318891, 2528.142114352986, 7586.586436559263, 2639.7477311841544, 476.98644257302357, 9429.183193943682, 1567.6512796741642, 897.9397987796514, 1530.8513969421956, 1246.6130726926604, 3047.081982778825, 1091.1290591210916, 827.484270800496, 649.5116125807925, 671.6168910486946, 508.22545494384565, 739.0998802952777, 2085.255735387975, 1378.7150506328999, 2994.894599227025, 932.948262735438, 1813.1068839517254, 819.1468133073154, 816.2351469362735, 3264.3658322033407, 1827.0120677944428, 1707.8001169519705, 1379.0558503463988, 1767.1337204930458, 1136.2198732443776, 2042.917029952166, 1060.8979693475035, 1281.8874166926373, 1019.0430999074765, 1183.117772923641, 1199.1893599456948, 1056.8406990279357, 1062.9419084624237, 1763.5855805183419, 804.3622590003896, 2041.746806957923, 506.0066581063814, 464.2792622751232, 388.87106118603793, 358.7312953437174, 331.9386862813095, 302.5769127526627, 292.73275651323405, 271.1003178838568, 270.02614479504103, 245.65955660623928, 204.9017822269967, 200.72154799092297, 198.0006222843395, 190.68183050337606, 190.04994215080816, 180.06955100226457, 179.91694063469868, 176.69326712521317, 168.34382577411944, 168.30419748691673, 162.97408722630018, 159.82044275310443, 158.54752870498612, 158.4291496636651, 157.96247370274142, 157.42643904971015, 155.84174096941206, 3876.9457585139444, 468.88949252919844, 11666.256420255935, 1704.828585530735, 5086.513742271987, 1632.336216685218, 253.67306581769213, 483.35001674460943, 1530.6396325356316, 3320.724392596562, 2868.717038910527, 429.2917729442299, 3814.8363785854403, 382.1277726095848, 654.3797110569814, 1366.9831707610508, 318.91925776075516, 2025.0588429550878, 1491.8384384754704, 2060.5636908279707, 539.5392929882563, 782.6379425193227, 1640.629867951913, 654.8570127616368, 879.3428933164804, 1014.6555210659992, 608.7454280731365, 1266.2933095290555, 1022.0431372775843, 824.2875841637873, 748.9858814079709, 624.9736558520594, 765.5172143565964, 682.9782152644692, 749.6807365910869, 750.483667164257, 710.5191686763415, 658.7823002281483], \"Total\": [117699.0, 17125.0, 12923.0, 27019.0, 9302.0, 27529.0, 10276.0, 26962.0, 34493.0, 10158.0, 43038.0, 8549.0, 33511.0, 58622.0, 5972.0, 22335.0, 7305.0, 17413.0, 20906.0, 12596.0, 19659.0, 21619.0, 19075.0, 34392.0, 39746.0, 18791.0, 9383.0, 8218.0, 4233.0, 7746.0, 7675.957466277208, 4326.594096153343, 2745.0677892065937, 1373.3291112051797, 1187.1674953055867, 838.4852100809242, 828.2358497612715, 767.6369718489075, 570.0075581715292, 534.8086137196691, 526.3730777128563, 459.8401194709515, 402.8397643950898, 378.24800972244316, 368.48483517052733, 349.5692334449453, 338.1108080217769, 308.99990371968045, 281.9705878635931, 276.1049831451288, 263.15514853764796, 225.26607486549852, 217.84156470315276, 206.76799999436037, 187.83174896697767, 177.78726098432963, 170.87342226630193, 166.80144181076395, 164.52921936971956, 164.03608618608837, 4532.643228685488, 3731.0874022805788, 4946.791008061566, 4793.2543048294165, 27019.77985590776, 2072.116681403055, 752.495083978294, 4110.1782594243305, 1164.614728340512, 5469.765493392817, 2025.6707065508035, 1263.7775659185845, 913.669020543152, 2817.878995000506, 1552.6676403841598, 1349.2561745046578, 8564.652248563463, 2715.173735402792, 1116.088134478081, 3069.6743587099013, 4323.533931655051, 3831.3996240399024, 12659.559653208327, 13229.876873811556, 1512.262716209456, 28443.02813370647, 17883.994488523367, 36856.8233441999, 58622.6206564555, 5578.200053872887, 39746.1426054886, 6822.5577028177195, 34493.62985646769, 13113.736922676006, 23713.631091476833, 19071.459805842045, 15302.109429977916, 17394.540107643148, 17134.339681460096, 19659.747556956172, 22335.007723342263, 43038.602217047744, 12409.739885196514, 27406.32225178666, 77384.29795893801, 18016.039018750726, 23125.124860301035, 20906.32749613441, 117699.12061472844, 35120.79178637016, 33511.03045912949, 27529.25660503242, 19075.803540741068, 28369.46415087517, 15160.501663025754, 25670.934539954167, 591.812912153239, 438.6727543685824, 371.6438813946573, 337.2331937781833, 306.1717563378354, 225.9362621128825, 218.33480812803887, 211.22067839105998, 188.4284545701754, 176.97104870226238, 171.55915655362574, 166.89037273117924, 162.51385381041615, 158.49431548702563, 157.76930891342204, 153.2989573660966, 153.06803032399753, 151.57230961350854, 149.62154081071773, 138.355974344785, 137.15434354805177, 136.30697619796462, 136.10417633311934, 135.2217854028981, 133.14401704916088, 132.4443355113538, 132.0113733670211, 131.88770294731995, 126.183685258419, 125.24856996377295, 535.3701740165516, 3412.690973985741, 3671.846291121297, 3919.94881206863, 1976.6037702092442, 26962.803413136007, 1462.6164223892638, 4348.03433375711, 4677.202615139388, 4401.530804782489, 402.7235765494567, 5891.031789765084, 9579.01083892247, 4752.437381788728, 6732.879481204523, 4399.321017355973, 717.7647734260311, 33511.03045912949, 696.8494026825504, 18327.90321576671, 8893.950842481847, 28517.66548821063, 18791.59181487327, 19075.803540741068, 5038.961491919712, 2630.6875887079586, 43038.602217047744, 34493.62985646769, 20906.32749613441, 22335.007723342263, 117699.12061472844, 7448.285621058367, 34392.33096069814, 19659.747556956172, 19794.431976136664, 20733.638951797715, 77384.29795893801, 26953.020392257626, 58622.6206564555, 12290.014126473288, 35120.79178637016, 25670.934539954167, 15737.389815798044, 39746.1426054886, 28369.46415087517, 27529.25660503242, 23125.124860301035, 15302.109429977916, 17394.540107643148, 23383.243926605504, 28443.02813370647, 736.9220318769876, 589.7592958319947, 343.05481751191127, 304.3202458466899, 300.9528439687107, 296.9359915267457, 258.3560754339815, 255.23189062863307, 238.56407646966926, 235.034883078325, 233.31113681122952, 226.97192058516725, 226.02235701236023, 225.2753782624112, 223.61834022705287, 214.38194029453572, 213.20665297553109, 212.54556437811627, 211.51920502353585, 208.27012560954614, 201.68912716535945, 197.5348940001728, 197.4250115231258, 196.48906527923555, 193.30635074826873, 191.416073734356, 189.39985442275182, 186.4664975644263, 183.25689301688922, 175.1122914406482, 290.52025961525226, 381.3187794925991, 1129.6086906962523, 347.0376555007118, 1856.4413517441644, 1653.1828429180125, 3609.011389120222, 550.7003947514655, 301.61853861208317, 399.67049108489033, 1686.8014893559707, 1248.4707817574886, 6221.915712798827, 824.6599530879613, 5000.227750101595, 1249.436583474875, 1028.946441928198, 1334.6980799289174, 21619.22915826833, 698.3086683652108, 1413.8556091267278, 117699.12061472844, 1493.177175103754, 20560.115048732896, 3007.4644251463983, 1489.9344858011596, 848.273894168424, 8232.925656420097, 12049.334174207394, 1671.3584783385288, 4327.6617694355355, 34392.33096069814, 1901.112841397805, 12147.911047189029, 8526.879790023557, 4326.508641666474, 4000.421096964782, 11026.86981639805, 7556.582640552836, 5982.192619913673, 9639.035044234772, 9890.847981373727, 9790.621964372112, 5213.902575716313, 28369.46415087517, 17413.0210550377, 10816.857917212923, 3909.9879882198334, 8638.969718238872, 20141.376109780085, 6529.904713409399, 36856.8233441999, 77384.29795893801, 20733.638951797715, 19794.431976136664, 23383.243926605504, 15181.36158398118, 9453.422402289645, 23713.631091476833, 28443.02813370647, 19071.459805842045, 495.2853738915227, 309.42116000884874, 307.0709271375533, 277.1390514212309, 228.22970496123096, 223.08590918377746, 212.0902849469505, 210.54040881145986, 208.01869278603584, 191.63838856532934, 187.79073785878103, 185.42938201983048, 184.27298205489762, 183.4093583148819, 177.47719637532688, 161.31028372484366, 145.94739447555372, 140.77287595790517, 140.51893002663974, 139.62815756027837, 134.45389172178136, 133.97635391494222, 130.93036531006533, 130.53263785753305, 128.61549839983596, 128.36562706177784, 127.91423056608713, 127.44540888870017, 120.77081537576655, 149.50488081699453, 276.7869519603045, 524.150576790677, 1089.2444582989751, 4831.403816126878, 338.0515713001461, 2531.67246995553, 5400.634316939937, 3902.116768935241, 3635.3697728783222, 8218.203736643534, 259.3710340804083, 296.65673802620444, 2154.985529789665, 1289.9030564168331, 4420.051530403859, 941.8220375913149, 1559.8125983221764, 3107.481397752697, 1837.1219561244945, 7675.386257932568, 3383.1335204972493, 1077.6694756461454, 2820.5678264989333, 5384.512707089254, 3791.534443684772, 1832.9581289112753, 6272.5378846937065, 3429.649346008359, 7996.82282646272, 5095.818019079598, 2907.6176055572714, 5319.126460801092, 3848.46109154224, 10619.386060494737, 4313.508847781628, 2595.9433992581235, 16247.125988985976, 4451.534611765818, 4343.050785950307, 14193.130617365756, 9234.388024286312, 17413.0210550377, 27406.32225178666, 11657.717680450392, 7309.68585296367, 14553.455741870786, 18327.90321576671, 77384.29795893801, 8268.67857215448, 12512.264973158475, 10669.536226217097, 20141.376109780085, 58622.6206564555, 19227.29930457299, 23383.243926605504, 33511.03045912949, 16291.148965561713, 15564.05503336766, 1488.874059658764, 1167.2106871610881, 1030.0525063140537, 1008.707330323814, 973.2188925162544, 934.049467073878, 614.6896572728718, 462.3854099370536, 416.57525219727955, 399.77857370267145, 390.6155094906844, 385.05792918598104, 358.18830144623365, 357.2316900615933, 345.7801727913818, 322.86126004489074, 318.9263881199212, 304.4115576510947, 281.37665029771046, 266.17713169752784, 256.55594726411067, 248.32675441884723, 239.39581677047585, 238.47329082604224, 231.99703111563343, 228.01400815121804, 225.80211918302552, 207.59450460859435, 206.4706570800494, 203.59135886129712, 3148.2402999443943, 4109.952445862425, 467.66955259704434, 2360.832953630567, 409.611609481463, 2149.6745177803696, 505.30608959034214, 3323.1245924003815, 1216.674871787789, 2439.7667916559462, 10158.796658167335, 1270.9626178158326, 790.8602995616567, 714.0000640747678, 1580.4807744419359, 689.4227719944612, 2635.4930186933443, 3267.6542032487773, 811.313590044407, 2091.3260744998724, 2214.6986263617846, 1155.6334744168742, 1710.2893746263812, 3371.2537507120032, 1748.3422698359382, 1881.042368174306, 3934.5763835096996, 5608.323494943456, 117699.12061472844, 5913.140013925835, 2092.95185904507, 3688.181545207037, 20733.638951797715, 26953.020392257626, 77384.29795893801, 19071.459805842045, 12049.334174207394, 11019.55281141013, 15181.36158398118, 16291.148965561713, 28517.66548821063, 19227.29930457299, 43038.602217047744, 16247.125988985976, 11213.41131830499, 20141.376109780085, 10486.087573435138, 1548.0936427597703, 1426.5398406322558, 1354.5121801790604, 1170.750830462343, 1119.9343985627806, 972.555555881791, 802.7252585393188, 720.5192691620202, 700.1479993299804, 670.8677327750456, 654.3058207616984, 622.4619482611669, 621.4876661981727, 573.927782154715, 564.8200688421826, 512.8119402145977, 478.9423974470043, 474.10976235376125, 452.50169655361645, 420.7635524584116, 399.96486271831765, 379.85169151831775, 389.78739283589186, 367.6840973812979, 398.21643807457133, 340.6018589641871, 321.8318191517445, 318.731328853801, 311.7150647773497, 309.986884621381, 653.2926412902035, 399.2482007338223, 612.5644328062593, 949.4286475479265, 877.3904291858836, 730.338858942832, 697.3958072615727, 1578.8721445809517, 1909.8902069724606, 1556.1939305623102, 1545.6949747955282, 1125.829200534081, 2374.832077309681, 9383.220367692744, 6737.277485181807, 2032.1579229290776, 2198.1069978736655, 1331.4811396605749, 2527.096454700008, 2830.754489153564, 3184.6542398930824, 5348.955245801399, 6836.127303405435, 11213.41131830499, 3116.8186555055663, 8256.862112497303, 2717.375365148358, 2191.144309007563, 3920.2022611822586, 7866.6607486836865, 6518.572017430782, 5409.992902884387, 18791.59181487327, 6406.740461409587, 77384.29795893801, 26962.803413136007, 117699.12061472844, 3252.577299510849, 6858.727549235094, 4669.796937884733, 43038.602217047744, 26953.020392257626, 10619.386060494737, 23125.124860301035, 4352.486819956799, 5814.912172471045, 28517.66548821063, 1066.8634259471778, 5972.2960987720835, 853.4576614973618, 675.2395700052083, 664.5024833014859, 608.8870453334372, 556.030834286507, 500.8397132831269, 487.004517649014, 464.19629628194537, 406.4721358947218, 386.84054358708124, 384.43593642141246, 363.2571676607799, 354.29749183792194, 350.2758035566996, 349.5406939649679, 293.1233727885261, 281.5353772806385, 280.26777205842166, 268.6893503246431, 265.4378038068909, 262.8943351595259, 249.55253170763476, 235.1013138631086, 229.14451024527716, 219.1811171786395, 216.20866285518332, 215.1334367011471, 212.42612787920902, 1668.8428156525406, 448.88310433291525, 383.5060502074299, 901.0913479798946, 1356.1547535929703, 2867.3171750264055, 471.8877007320816, 1055.8637885836108, 813.8067001402109, 1374.5181941889123, 2283.2607724043714, 503.10541259941465, 2658.7866154275953, 1194.4233942225856, 966.6370418708979, 6497.469455194466, 3855.613952985628, 546.7706591538073, 1158.1110938614408, 807.4713769989169, 1239.9045507849744, 1236.0133909054418, 601.1850801751572, 11122.812252771499, 766.1454909411717, 3779.746755143986, 1607.2755321398704, 10816.857917212923, 27529.25660503242, 6017.456098775204, 2732.7896121449207, 2970.6090999415883, 39746.1426054886, 5710.37679900535, 2302.7711954042993, 19794.431976136664, 2443.3121900824435, 10536.687534559576, 16247.125988985976, 23125.124860301035, 13052.918877186628, 35120.79178637016, 14040.443048247518, 77384.29795893801, 26953.020392257626, 36856.8233441999, 1679.6381109360557, 971.5812546842394, 741.5728833741817, 739.9763740340783, 620.7888670191154, 594.5382550289889, 539.7461761817437, 514.5204598544344, 513.4282633839474, 508.528464121305, 487.69006637830927, 485.1158035040413, 478.24161949331256, 473.03194859607885, 470.07656860793065, 454.6576598415538, 430.1839266507326, 427.16424395321053, 392.8536172828795, 361.2909090791606, 360.8517016086418, 338.1293075173336, 334.1168117524951, 308.6028540547235, 307.5191861853182, 302.3302257951332, 280.00816308612485, 279.05138968264714, 278.3179324087316, 268.24387927155914, 371.815900439076, 1022.2300151677222, 979.8158617942859, 3923.5826250171967, 10276.837920398777, 3329.375204797291, 950.5255771313363, 1838.2556990891617, 1350.4481185842087, 874.8605115750022, 1110.9128589384343, 3096.6124177859742, 1716.5446372074505, 2110.136973545282, 1186.4835301949572, 998.9551748320744, 1955.9421414507312, 1386.2184006092657, 2090.723822587745, 2233.2804662074104, 896.3741445592372, 1930.8582930113264, 6659.954746256018, 2148.030363462055, 5409.992902884387, 2125.390765444384, 6092.142322579741, 2177.0307134152144, 3864.8095581829057, 77384.29795893801, 14193.130617365756, 1580.5236655144938, 8549.773413292165, 26953.020392257626, 6737.277485181807, 15181.36158398118, 35120.79178637016, 25670.934539954167, 27406.32225178666, 58622.6206564555, 20141.376109780085, 43038.602217047744, 16247.125988985976, 9928.192763676558, 1501.2625275264663, 1197.1623076846306, 1091.88072155084, 832.200361576888, 772.8820039034952, 762.0831483068652, 730.8413410537177, 721.0795353614675, 606.5968070866312, 604.1328501674205, 536.8562454346302, 508.7772172983974, 452.5682599554226, 340.44435630980456, 336.06235350430035, 328.7115411396243, 314.95101288347007, 313.74956492795167, 305.42191000331786, 287.25780436422065, 287.03705630053446, 282.08741767386226, 274.46452428433753, 271.81530067429156, 266.8481011751844, 264.57193423019197, 261.2505590068829, 241.47187420687524, 240.92220647710425, 240.52152003984583, 2787.618982307722, 9302.255541281273, 3036.0207115231697, 500.8110749009919, 12923.556851765881, 1848.6002758354562, 1021.3856001532808, 1877.3173531350972, 1514.9187050261535, 4237.061768452425, 1338.050485721966, 992.4739502701453, 754.9465720177255, 787.0184574068529, 563.6872968868994, 951.2354824610717, 4068.177278305886, 2312.8721712260094, 7746.457702674059, 1462.7268772528046, 4917.142366582302, 1287.4895386598635, 1282.1421358017164, 58622.6206564555, 17125.521276075287, 19227.29930457299, 9201.583985953297, 26962.803413136007, 4838.808969335925, 77384.29795893801, 5139.487048503844, 18791.59181487327, 5106.541752889912, 15737.389815798044, 26953.020392257626, 8549.773413292165, 11657.717680450392, 1764.4783412107765, 805.2550573346613, 2044.2228356214418, 506.8993759445719, 465.1720743077003, 389.7638353671479, 359.6243915750779, 332.83159862676155, 303.4696665150112, 293.6255963468994, 271.99321915638893, 270.9189536937035, 246.55241774901515, 205.79462136630005, 201.6143245315606, 198.8936372386854, 191.57472823443769, 190.9428440289991, 180.9622838280578, 180.80978122332937, 177.58606251240704, 169.2366462615351, 169.19711301191126, 163.86694469622446, 160.71325260814575, 159.4406123039618, 159.3219362799538, 158.85532082439934, 158.3193064005722, 156.73463153313398, 4233.181225412041, 490.661322199076, 17125.521276075287, 2422.2432853313394, 8549.773413292165, 2358.093498588744, 278.87618591259115, 611.7144302283026, 2560.9699033673223, 7305.47470211196, 7134.904722494401, 593.3809989950851, 12596.277321524654, 528.4890663303216, 1168.012524770235, 3837.0257991053095, 426.873041167513, 13052.918877186628, 7996.82282646272, 17413.0210550377, 1293.9612542627658, 3336.875551235734, 25670.934539954167, 2359.1541187727707, 5525.250426292462, 8835.343375246932, 2303.7714915170677, 35120.79178637016, 20141.376109780085, 9060.675894342105, 7255.695581982178, 2744.4585908403715, 11762.954358268607, 6318.15759356888, 18791.59181487327, 26953.020392257626, 19235.514237477477, 77384.29795893801], \"logprob\": [30.0, 29.0, 28.0, 27.0, 26.0, 25.0, 24.0, 23.0, 22.0, 21.0, 20.0, 19.0, 18.0, 17.0, 16.0, 15.0, 14.0, 13.0, 12.0, 11.0, 10.0, 9.0, 8.0, 7.0, 6.0, 5.0, 4.0, 3.0, 2.0, 1.0, -5.5384, -6.1118, -6.5669, -7.2598, -7.4056, -7.7536, -7.7659, -7.842, -8.1401, -8.2039, -8.2198, -8.3552, -8.4878, -8.551, -8.5772, -8.63, -8.6634, -8.7537, -8.8455, -8.8666, -8.9148, -9.0709, -9.1045, -9.1569, -9.2534, -9.3086, -9.3485, -9.3727, -9.3865, -9.3895, -6.0958, -6.2888, -6.0176, -6.0516, -4.3575, -6.8875, -7.8817, -6.2265, -7.4703, -5.9778, -6.9402, -7.3946, -7.7149, -6.6771, -7.2321, -7.3675, -5.6601, -6.724, -7.5476, -6.6271, -6.3254, -6.4441, -5.3971, -5.384, -7.2726, -4.7392, -5.1516, -4.553, -4.214, -6.168, -4.5738, -6.0327, -4.7597, -5.5372, -5.0828, -5.2503, -5.4213, -5.3374, -5.35, -5.2571, -5.1817, -4.7182, -5.6017, -5.0886, -4.4262, -5.3696, -5.2192, -5.2964, -4.3627, -5.0442, -5.1032, -5.1989, -5.3828, -5.258, -5.4942, -5.4852, -7.8448, -8.1448, -8.311, -8.4084, -8.5053, -8.8102, -8.8446, -8.8778, -8.9925, -9.0556, -9.0868, -9.1145, -9.1413, -9.1664, -9.171, -9.2, -9.2015, -9.2113, -9.2244, -9.3031, -9.3119, -9.3182, -9.3197, -9.3262, -9.3418, -9.3471, -9.3504, -9.3514, -9.3959, -9.4034, -7.9639, -6.2227, -6.1588, -6.0976, -6.7802, -4.3719, -7.1195, -6.1565, -6.0951, -6.159, -8.3381, -5.9296, -5.5028, -6.1291, -5.8388, -6.2394, -7.8359, -4.4686, -7.8703, -5.0407, -5.6629, -4.696, -5.051, -5.0504, -6.1861, -6.7429, -4.4004, -4.5924, -5.0091, -4.9832, -3.6256, -5.8951, -4.6736, -5.1387, -5.1492, -5.1378, -4.2003, -4.9927, -4.4597, -5.548, -4.8943, -5.096, -5.4186, -4.8998, -5.1467, -5.1789, -5.2685, -5.5285, -5.5038, -5.4865, -5.4825, -7.3313, -7.5544, -8.0973, -8.2174, -8.2286, -8.2421, -8.3817, -8.3939, -8.4617, -8.4766, -8.484, -8.5117, -8.5159, -8.5192, -8.5266, -8.569, -8.5745, -8.5776, -8.5825, -8.598, -8.6303, -8.6512, -8.6517, -8.6565, -8.6729, -8.6828, -8.6934, -8.7091, -8.7266, -8.7723, -8.2678, -8.0133, -6.9633, -8.1446, -6.647, -6.7571, -6.0729, -7.7409, -8.2766, -8.0346, -6.8006, -7.0609, -5.722, -7.4308, -5.9487, -7.1004, -7.2634, -7.0584, -4.8007, -7.5906, -7.022, -3.4892, -6.9872, -4.8949, -6.4274, -6.9891, -7.441, -5.7248, -5.4404, -6.9474, -6.2468, -4.7372, -6.8633, -5.5746, -5.8478, -6.3192, -6.3776, -5.718, -5.9804, -6.1506, -5.8701, -5.8775, -5.9169, -6.2818, -5.4001, -5.6661, -5.9256, -6.478, -6.0829, -5.7233, -6.2241, -5.5163, -5.2369, -5.7971, -5.8753, -5.8373, -5.9882, -6.1343, -6.0095, -6.0019, -6.1334, -7.4881, -7.9596, -7.9672, -8.0701, -8.265, -8.2878, -8.3386, -8.346, -8.3581, -8.4405, -8.4608, -8.4735, -8.4798, -8.4846, -8.5176, -8.6136, -8.7143, -8.7506, -8.7524, -8.7588, -8.7968, -8.8004, -8.8236, -8.8266, -8.8415, -8.8435, -8.847, -8.8507, -8.9049, -8.6916, -8.0795, -7.4511, -6.7436, -5.3102, -7.9031, -5.9881, -5.271, -5.5818, -5.6946, -4.9341, -8.1787, -8.0544, -6.2247, -6.7013, -5.5779, -6.9936, -6.5399, -5.9146, -6.3976, -5.112, -5.8691, -6.9038, -6.0736, -5.5194, -5.8362, -6.4671, -5.4251, -5.9562, -5.2406, -5.6343, -6.1037, -5.6051, -5.8937, -5.1424, -5.841, -6.2336, -4.8629, -5.8764, -5.8999, -5.2013, -5.4748, -5.11, -4.8806, -5.3747, -5.6444, -5.345, -5.2584, -4.7385, -5.6446, -5.5437, -5.6053, -5.4674, -5.2555, -5.5271, -5.5138, -5.5257, -5.5943, -5.6313, -6.2477, -6.4913, -6.6164, -6.6374, -6.6732, -6.7143, -7.1332, -7.4184, -7.523, -7.5642, -7.5875, -7.6018, -7.6743, -7.677, -7.7097, -7.7785, -7.7908, -7.8375, -7.9164, -7.9721, -8.009, -8.0418, -8.0785, -8.0824, -8.11, -8.1274, -8.1372, -8.2216, -8.2271, -8.2412, -5.5318, -5.3419, -7.4396, -5.9021, -7.5709, -6.0339, -7.3839, -5.6442, -6.5784, -5.9613, -4.6802, -6.5617, -6.991, -7.0821, -6.4037, -7.1239, -6.0081, -5.873, -7.0057, -6.2801, -6.2663, -6.7624, -6.4805, -5.9859, -6.4708, -6.4762, -6.0056, -5.8358, -4.0559, -5.8323, -6.4381, -6.122, -5.3877, -5.284, -4.8872, -5.5592, -5.8022, -5.8481, -5.7618, -5.8065, -5.7313, -5.9396, -5.8183, -5.9979, -6.0696, -6.0023, -6.1173, -5.8846, -5.9664, -6.0182, -6.1641, -6.2085, -6.3498, -6.5419, -6.65, -6.6788, -6.7215, -6.7466, -6.7965, -6.7981, -6.8778, -6.8938, -6.9906, -7.0591, -7.0692, -7.116, -7.1888, -7.2396, -7.2913, -7.2656, -7.324, -7.2444, -7.4007, -7.4575, -7.4672, -7.4895, -7.4951, -6.7505, -7.2517, -6.8538, -6.4605, -6.5662, -6.7419, -6.7812, -6.1056, -5.9695, -6.1417, -6.1474, -6.4181, -5.8461, -4.8296, -5.1089, -6.0043, -5.9536, -6.3232, -5.8883, -5.8155, -5.7464, -5.4437, -5.3002, -5.0347, -5.8101, -5.2271, -5.894, -6.0246, -5.6997, -5.3531, -5.4618, -5.6565, -5.1296, -5.6033, -4.831, -5.2026, -4.9316, -5.9196, -5.745, -5.8557, -5.3819, -5.591, -5.7647, -5.7798, -5.9071, -5.8959, -5.8357, -6.1812, -4.4588, -6.4046, -6.6391, -6.6552, -6.7427, -6.8337, -6.9384, -6.9665, -7.0145, -7.1476, -7.1972, -7.2034, -7.2602, -7.2853, -7.2967, -7.2988, -7.4754, -7.5158, -7.5203, -7.5627, -7.5749, -7.5845, -7.6368, -7.6967, -7.7225, -7.7671, -7.7808, -7.7858, -7.7985, -5.7522, -7.075, -7.2374, -6.4456, -6.0894, -5.4162, -7.059, -6.3379, -6.5791, -6.1235, -5.6862, -7.0117, -5.5874, -6.273, -6.4756, -4.928, -5.3846, -6.9453, -6.3643, -6.6477, -6.3362, -6.347, -6.8746, -4.8662, -6.7125, -5.7043, -6.2629, -5.1249, -4.5772, -5.5277, -6.0719, -6.044, -5.1351, -5.9053, -6.2494, -5.6377, -6.2986, -6.0213, -5.9466, -5.953, -6.09, -6.0531, -6.1331, -6.0047, -6.1618, -6.2067, -5.6409, -6.1887, -6.4592, -6.4613, -6.6372, -6.6804, -6.7773, -6.8252, -6.8274, -6.837, -6.8789, -6.8842, -6.8985, -6.9095, -6.9157, -6.9492, -7.0046, -7.0117, -7.0956, -7.1795, -7.1807, -7.246, -7.2579, -7.3376, -7.3411, -7.3582, -7.4351, -7.4385, -7.4412, -7.4782, -7.157, -6.1876, -6.2679, -4.9971, -4.1547, -5.2362, -6.3426, -5.7763, -6.0468, -6.4287, -6.2859, -5.4968, -5.972, -5.8322, -6.2873, -6.4278, -5.9885, -6.2135, -5.9573, -5.95, -6.509, -6.0504, -5.3344, -6.0039, -5.5481, -6.0691, -5.5536, -6.0789, -5.9336, -4.9017, -5.6256, -6.2753, -5.879, -5.6608, -5.9671, -5.8505, -5.7245, -5.8002, -5.8409, -5.7661, -5.8915, -5.8614, -5.9562, -6.0138, -5.5757, -5.8022, -5.8944, -6.1662, -6.2402, -6.2543, -6.2962, -6.3097, -6.4828, -6.4869, -6.6051, -6.659, -6.7762, -7.0616, -7.0746, -7.0968, -7.1396, -7.1435, -7.1704, -7.2319, -7.2327, -7.2502, -7.2777, -7.2874, -7.3059, -7.3145, -7.3272, -7.4062, -7.4085, -7.4101, -5.054, -3.9551, -5.0108, -6.7217, -3.7376, -5.5319, -6.0891, -5.5556, -5.761, -4.8673, -5.8942, -6.1708, -6.413, -6.3795, -6.6583, -6.2838, -5.2466, -5.6603, -4.8845, -6.0509, -5.3864, -6.1809, -6.1845, -4.7984, -5.3788, -5.4462, -5.6601, -5.4121, -5.8537, -5.2671, -5.9223, -5.7331, -5.9626, -5.8133, -5.7998, -5.9262, -5.9204, -5.3346, -6.1197, -5.1881, -6.5832, -6.6692, -6.8465, -6.9271, -7.0048, -7.0974, -7.1305, -7.2072, -7.2112, -7.3058, -7.4872, -7.5078, -7.5214, -7.5591, -7.5624, -7.6164, -7.6172, -7.6353, -7.6837, -7.6839, -7.7161, -7.7357, -7.7437, -7.7444, -7.7474, -7.7508, -7.7609, -4.5469, -6.6593, -3.4453, -5.3685, -4.2754, -5.4119, -7.2737, -6.629, -5.4763, -4.7018, -4.8481, -6.7476, -4.5631, -6.864, -6.326, -5.5893, -7.0448, -5.1964, -5.5019, -5.179, -6.519, -6.147, -5.4069, -6.3253, -6.0305, -5.8874, -6.3983, -5.6659, -5.8802, -6.0952, -6.191, -6.372, -6.1692, -6.2832, -6.1901, -6.189, -6.2437, -6.3193], \"Category\": [\"Default\", \"Default\", \"Default\", \"Default\", \"Default\", \"Default\", \"Default\", \"Default\", \"Default\", \"Default\", \"Default\", \"Default\", \"Default\", \"Default\", \"Default\", \"Default\", \"Default\", \"Default\", \"Default\", \"Default\", \"Default\", \"Default\", \"Default\", \"Default\", \"Default\", \"Default\", \"Default\", \"Default\", \"Default\", \"Default\", \"Topic1\", \"Topic1\", \"Topic1\", \"Topic1\", \"Topic1\", \"Topic1\", \"Topic1\", \"Topic1\", \"Topic1\", \"Topic1\", \"Topic1\", \"Topic1\", \"Topic1\", \"Topic1\", \"Topic1\", \"Topic1\", \"Topic1\", \"Topic1\", \"Topic1\", \"Topic1\", \"Topic1\", \"Topic1\", \"Topic1\", \"Topic1\", \"Topic1\", \"Topic1\", \"Topic1\", \"Topic1\", \"Topic1\", \"Topic1\", \"Topic1\", \"Topic1\", \"Topic1\", \"Topic1\", \"Topic1\", \"Topic1\", \"Topic1\", \"Topic1\", \"Topic1\", \"Topic1\", \"Topic1\", \"Topic1\", \"Topic1\", \"Topic1\", \"Topic1\", \"Topic1\", \"Topic1\", \"Topic1\", \"Topic1\", \"Topic1\", \"Topic1\", \"Topic1\", \"Topic1\", \"Topic1\", \"Topic1\", \"Topic1\", \"Topic1\", \"Topic1\", \"Topic1\", \"Topic1\", \"Topic1\", \"Topic1\", \"Topic1\", \"Topic1\", \"Topic1\", \"Topic1\", \"Topic1\", \"Topic1\", \"Topic1\", \"Topic1\", \"Topic1\", \"Topic1\", \"Topic1\", \"Topic1\", \"Topic1\", \"Topic1\", \"Topic1\", \"Topic1\", \"Topic1\", \"Topic1\", \"Topic1\", \"Topic1\", \"Topic1\", \"Topic1\", \"Topic1\", \"Topic1\", \"Topic2\", \"Topic2\", \"Topic2\", \"Topic2\", \"Topic2\", \"Topic2\", \"Topic2\", \"Topic2\", \"Topic2\", \"Topic2\", \"Topic2\", \"Topic2\", \"Topic2\", \"Topic2\", \"Topic2\", \"Topic2\", \"Topic2\", \"Topic2\", \"Topic2\", \"Topic2\", \"Topic2\", \"Topic2\", \"Topic2\", \"Topic2\", \"Topic2\", \"Topic2\", \"Topic2\", \"Topic2\", \"Topic2\", \"Topic2\", \"Topic2\", \"Topic2\", \"Topic2\", \"Topic2\", \"Topic2\", \"Topic2\", \"Topic2\", \"Topic2\", \"Topic2\", \"Topic2\", \"Topic2\", \"Topic2\", \"Topic2\", \"Topic2\", \"Topic2\", \"Topic2\", \"Topic2\", \"Topic2\", \"Topic2\", \"Topic2\", \"Topic2\", \"Topic2\", \"Topic2\", \"Topic2\", \"Topic2\", \"Topic2\", \"Topic2\", \"Topic2\", \"Topic2\", \"Topic2\", \"Topic2\", \"Topic2\", \"Topic2\", \"Topic2\", \"Topic2\", \"Topic2\", \"Topic2\", \"Topic2\", \"Topic2\", \"Topic2\", \"Topic2\", \"Topic2\", \"Topic2\", \"Topic2\", \"Topic2\", \"Topic2\", \"Topic2\", \"Topic2\", \"Topic2\", \"Topic2\", \"Topic2\", \"Topic3\", \"Topic3\", \"Topic3\", \"Topic3\", \"Topic3\", \"Topic3\", \"Topic3\", \"Topic3\", \"Topic3\", \"Topic3\", \"Topic3\", \"Topic3\", \"Topic3\", \"Topic3\", \"Topic3\", \"Topic3\", \"Topic3\", \"Topic3\", \"Topic3\", \"Topic3\", \"Topic3\", \"Topic3\", \"Topic3\", \"Topic3\", \"Topic3\", \"Topic3\", \"Topic3\", \"Topic3\", \"Topic3\", \"Topic3\", \"Topic3\", \"Topic3\", \"Topic3\", \"Topic3\", \"Topic3\", \"Topic3\", \"Topic3\", \"Topic3\", \"Topic3\", \"Topic3\", \"Topic3\", \"Topic3\", \"Topic3\", \"Topic3\", \"Topic3\", \"Topic3\", \"Topic3\", \"Topic3\", \"Topic3\", \"Topic3\", \"Topic3\", \"Topic3\", \"Topic3\", \"Topic3\", \"Topic3\", \"Topic3\", \"Topic3\", \"Topic3\", \"Topic3\", \"Topic3\", \"Topic3\", \"Topic3\", \"Topic3\", \"Topic3\", \"Topic3\", \"Topic3\", \"Topic3\", \"Topic3\", \"Topic3\", \"Topic3\", \"Topic3\", \"Topic3\", \"Topic3\", \"Topic3\", \"Topic3\", \"Topic3\", \"Topic3\", \"Topic3\", \"Topic3\", \"Topic3\", \"Topic3\", \"Topic3\", \"Topic3\", \"Topic3\", \"Topic3\", \"Topic3\", \"Topic3\", \"Topic3\", \"Topic3\", \"Topic3\", \"Topic3\", \"Topic4\", \"Topic4\", \"Topic4\", \"Topic4\", \"Topic4\", \"Topic4\", \"Topic4\", \"Topic4\", \"Topic4\", \"Topic4\", \"Topic4\", \"Topic4\", \"Topic4\", \"Topic4\", \"Topic4\", \"Topic4\", \"Topic4\", \"Topic4\", \"Topic4\", \"Topic4\", \"Topic4\", \"Topic4\", \"Topic4\", \"Topic4\", \"Topic4\", \"Topic4\", \"Topic4\", \"Topic4\", \"Topic4\", \"Topic4\", \"Topic4\", \"Topic4\", \"Topic4\", \"Topic4\", \"Topic4\", \"Topic4\", \"Topic4\", \"Topic4\", \"Topic4\", \"Topic4\", \"Topic4\", \"Topic4\", \"Topic4\", \"Topic4\", \"Topic4\", \"Topic4\", \"Topic4\", \"Topic4\", \"Topic4\", \"Topic4\", \"Topic4\", \"Topic4\", \"Topic4\", \"Topic4\", \"Topic4\", \"Topic4\", \"Topic4\", \"Topic4\", \"Topic4\", \"Topic4\", \"Topic4\", \"Topic4\", \"Topic4\", \"Topic4\", \"Topic4\", \"Topic4\", \"Topic4\", \"Topic4\", \"Topic4\", \"Topic4\", \"Topic4\", \"Topic4\", \"Topic4\", \"Topic4\", \"Topic4\", \"Topic4\", \"Topic4\", \"Topic4\", \"Topic4\", \"Topic4\", \"Topic4\", \"Topic4\", \"Topic4\", \"Topic4\", \"Topic4\", \"Topic4\", \"Topic4\", \"Topic4\", \"Topic5\", \"Topic5\", \"Topic5\", \"Topic5\", \"Topic5\", \"Topic5\", \"Topic5\", \"Topic5\", \"Topic5\", \"Topic5\", \"Topic5\", \"Topic5\", \"Topic5\", \"Topic5\", \"Topic5\", \"Topic5\", \"Topic5\", \"Topic5\", \"Topic5\", \"Topic5\", \"Topic5\", \"Topic5\", \"Topic5\", \"Topic5\", \"Topic5\", \"Topic5\", \"Topic5\", \"Topic5\", \"Topic5\", \"Topic5\", \"Topic5\", \"Topic5\", \"Topic5\", \"Topic5\", \"Topic5\", \"Topic5\", \"Topic5\", \"Topic5\", \"Topic5\", \"Topic5\", \"Topic5\", \"Topic5\", \"Topic5\", \"Topic5\", \"Topic5\", \"Topic5\", \"Topic5\", \"Topic5\", \"Topic5\", \"Topic5\", \"Topic5\", \"Topic5\", \"Topic5\", \"Topic5\", \"Topic5\", \"Topic5\", \"Topic5\", \"Topic5\", \"Topic5\", \"Topic5\", \"Topic5\", \"Topic5\", \"Topic5\", \"Topic5\", \"Topic5\", \"Topic5\", \"Topic5\", \"Topic5\", \"Topic5\", \"Topic5\", \"Topic5\", \"Topic5\", \"Topic5\", \"Topic5\", \"Topic5\", \"Topic5\", \"Topic5\", \"Topic6\", \"Topic6\", \"Topic6\", \"Topic6\", \"Topic6\", \"Topic6\", \"Topic6\", \"Topic6\", \"Topic6\", \"Topic6\", \"Topic6\", \"Topic6\", \"Topic6\", \"Topic6\", \"Topic6\", \"Topic6\", \"Topic6\", \"Topic6\", \"Topic6\", \"Topic6\", \"Topic6\", \"Topic6\", \"Topic6\", \"Topic6\", \"Topic6\", \"Topic6\", \"Topic6\", \"Topic6\", \"Topic6\", \"Topic6\", \"Topic6\", \"Topic6\", \"Topic6\", \"Topic6\", \"Topic6\", \"Topic6\", \"Topic6\", \"Topic6\", \"Topic6\", \"Topic6\", \"Topic6\", \"Topic6\", \"Topic6\", \"Topic6\", \"Topic6\", \"Topic6\", \"Topic6\", \"Topic6\", \"Topic6\", \"Topic6\", \"Topic6\", \"Topic6\", \"Topic6\", \"Topic6\", \"Topic6\", \"Topic6\", \"Topic6\", \"Topic6\", \"Topic6\", \"Topic6\", \"Topic6\", \"Topic6\", \"Topic6\", \"Topic6\", \"Topic6\", \"Topic6\", \"Topic6\", \"Topic6\", \"Topic6\", \"Topic6\", \"Topic6\", \"Topic6\", \"Topic6\", \"Topic6\", \"Topic6\", \"Topic6\", \"Topic6\", \"Topic7\", \"Topic7\", \"Topic7\", \"Topic7\", \"Topic7\", \"Topic7\", \"Topic7\", \"Topic7\", \"Topic7\", \"Topic7\", \"Topic7\", \"Topic7\", \"Topic7\", \"Topic7\", \"Topic7\", \"Topic7\", \"Topic7\", \"Topic7\", \"Topic7\", \"Topic7\", \"Topic7\", \"Topic7\", \"Topic7\", \"Topic7\", \"Topic7\", \"Topic7\", \"Topic7\", \"Topic7\", \"Topic7\", \"Topic7\", \"Topic7\", \"Topic7\", \"Topic7\", \"Topic7\", \"Topic7\", \"Topic7\", \"Topic7\", \"Topic7\", \"Topic7\", \"Topic7\", \"Topic7\", \"Topic7\", \"Topic7\", \"Topic7\", \"Topic7\", \"Topic7\", \"Topic7\", \"Topic7\", \"Topic7\", \"Topic7\", \"Topic7\", \"Topic7\", \"Topic7\", \"Topic7\", \"Topic7\", \"Topic7\", \"Topic7\", \"Topic7\", \"Topic7\", \"Topic7\", \"Topic7\", \"Topic7\", \"Topic7\", \"Topic7\", \"Topic7\", \"Topic7\", \"Topic7\", \"Topic7\", \"Topic7\", \"Topic7\", \"Topic7\", \"Topic7\", \"Topic7\", \"Topic7\", \"Topic7\", \"Topic7\", \"Topic8\", \"Topic8\", \"Topic8\", \"Topic8\", \"Topic8\", \"Topic8\", \"Topic8\", \"Topic8\", \"Topic8\", \"Topic8\", \"Topic8\", \"Topic8\", \"Topic8\", \"Topic8\", \"Topic8\", \"Topic8\", \"Topic8\", \"Topic8\", \"Topic8\", \"Topic8\", \"Topic8\", \"Topic8\", \"Topic8\", \"Topic8\", \"Topic8\", \"Topic8\", \"Topic8\", \"Topic8\", \"Topic8\", \"Topic8\", \"Topic8\", \"Topic8\", \"Topic8\", \"Topic8\", \"Topic8\", \"Topic8\", \"Topic8\", \"Topic8\", \"Topic8\", \"Topic8\", \"Topic8\", \"Topic8\", \"Topic8\", \"Topic8\", \"Topic8\", \"Topic8\", \"Topic8\", \"Topic8\", \"Topic8\", \"Topic8\", \"Topic8\", \"Topic8\", \"Topic8\", \"Topic8\", \"Topic8\", \"Topic8\", \"Topic8\", \"Topic8\", \"Topic8\", \"Topic8\", \"Topic8\", \"Topic8\", \"Topic8\", \"Topic8\", \"Topic8\", \"Topic8\", \"Topic8\", \"Topic8\", \"Topic8\", \"Topic8\", \"Topic8\", \"Topic8\", \"Topic8\", \"Topic8\", \"Topic9\", \"Topic9\", \"Topic9\", \"Topic9\", \"Topic9\", \"Topic9\", \"Topic9\", \"Topic9\", \"Topic9\", \"Topic9\", \"Topic9\", \"Topic9\", \"Topic9\", \"Topic9\", \"Topic9\", \"Topic9\", \"Topic9\", \"Topic9\", \"Topic9\", \"Topic9\", \"Topic9\", \"Topic9\", \"Topic9\", \"Topic9\", \"Topic9\", \"Topic9\", \"Topic9\", \"Topic9\", \"Topic9\", \"Topic9\", \"Topic9\", \"Topic9\", \"Topic9\", \"Topic9\", \"Topic9\", \"Topic9\", \"Topic9\", \"Topic9\", \"Topic9\", \"Topic9\", \"Topic9\", \"Topic9\", \"Topic9\", \"Topic9\", \"Topic9\", \"Topic9\", \"Topic9\", \"Topic9\", \"Topic9\", \"Topic9\", \"Topic9\", \"Topic9\", \"Topic9\", \"Topic9\", \"Topic9\", \"Topic9\", \"Topic9\", \"Topic9\", \"Topic9\", \"Topic9\", \"Topic9\", \"Topic9\", \"Topic9\", \"Topic9\", \"Topic9\", \"Topic9\", \"Topic9\", \"Topic10\", \"Topic10\", \"Topic10\", \"Topic10\", \"Topic10\", \"Topic10\", \"Topic10\", \"Topic10\", \"Topic10\", \"Topic10\", \"Topic10\", \"Topic10\", \"Topic10\", \"Topic10\", \"Topic10\", \"Topic10\", \"Topic10\", \"Topic10\", \"Topic10\", \"Topic10\", \"Topic10\", \"Topic10\", \"Topic10\", \"Topic10\", \"Topic10\", \"Topic10\", \"Topic10\", \"Topic10\", \"Topic10\", \"Topic10\", \"Topic10\", \"Topic10\", \"Topic10\", \"Topic10\", \"Topic10\", \"Topic10\", \"Topic10\", \"Topic10\", \"Topic10\", \"Topic10\", \"Topic10\", \"Topic10\", \"Topic10\", \"Topic10\", \"Topic10\", \"Topic10\", \"Topic10\", \"Topic10\", \"Topic10\", \"Topic10\", \"Topic10\", \"Topic10\", \"Topic10\", \"Topic10\", \"Topic10\", \"Topic10\", \"Topic10\", \"Topic10\", \"Topic10\", \"Topic10\", \"Topic10\", \"Topic10\", \"Topic10\", \"Topic10\", \"Topic10\", \"Topic10\", \"Topic10\", \"Topic10\"], \"loglift\": [30.0, 29.0, 28.0, 27.0, 26.0, 25.0, 24.0, 23.0, 22.0, 21.0, 20.0, 19.0, 18.0, 17.0, 16.0, 15.0, 14.0, 13.0, 12.0, 11.0, 10.0, 9.0, 8.0, 7.0, 6.0, 5.0, 4.0, 3.0, 2.0, 1.0, 1.4763, 1.4762, 1.4761, 1.4758, 1.4757, 1.4754, 1.4754, 1.4753, 1.4749, 1.4748, 1.4747, 1.4745, 1.4742, 1.4741, 1.474, 1.4739, 1.4738, 1.4735, 1.4733, 1.4732, 1.473, 1.4725, 1.4723, 1.4721, 1.4717, 1.4714, 1.4712, 1.4711, 1.471, 1.471, 1.4457, 1.4473, 1.4365, 1.4341, 1.3987, 1.4367, 1.4555, 1.4129, 1.4302, 1.3758, 1.4067, 1.4241, 1.4282, 1.3397, 1.3807, 1.3858, 1.2451, 1.33, 1.3954, 1.3041, 1.2634, 1.2655, 1.1173, 1.0864, 1.3667, 0.9657, 1.0174, 0.8928, 0.7677, 1.166, 0.7965, 1.0999, 0.7523, 0.942, 0.804, 0.8544, 0.9036, 0.8592, 0.8617, 0.8171, 0.765, 0.5725, 0.9326, 0.6534, 0.2778, 0.792, 0.6927, 0.7164, -0.078, 0.4499, 0.4377, 0.5387, 0.7216, 0.4495, 0.8399, 0.3223, 1.7326, 1.7321, 1.7317, 1.7314, 1.7312, 1.7301, 1.73, 1.7299, 1.7293, 1.729, 1.7289, 1.7287, 1.7286, 1.7284, 1.7284, 1.7282, 1.7282, 1.7282, 1.7281, 1.7276, 1.7275, 1.7275, 1.7275, 1.7275, 1.7273, 1.7273, 1.7273, 1.7273, 1.727, 1.7269, 1.7138, 1.6026, 1.5933, 1.5892, 1.5913, 1.3864, 1.5531, 1.4266, 1.415, 1.4119, 1.6243, 1.3498, 1.2905, 1.365, 1.307, 1.3319, 1.5485, 1.0724, 1.5437, 1.1037, 1.2045, 1.0063, 1.0684, 1.054, 1.2495, 1.3427, 0.8904, 0.9197, 1.0036, 0.9635, 0.6591, 1.1497, 0.8414, 0.9356, 0.9183, 0.8833, 0.5038, 0.7661, 0.522, 0.9961, 0.5997, 0.7115, 0.8782, 0.4705, 0.5608, 0.5586, 0.6434, 0.7963, 0.6929, 0.4143, 0.2224, 2.0268, 2.0265, 2.0254, 2.0251, 2.025, 2.025, 2.0246, 2.0245, 2.0243, 2.0242, 2.0242, 2.0241, 2.0241, 2.024, 2.024, 2.0238, 2.0238, 2.0238, 2.0238, 2.0237, 2.0236, 2.0235, 2.0235, 2.0235, 2.0234, 2.0233, 2.0233, 2.0232, 2.0231, 2.0229, 2.0211, 2.0036, 1.9676, 1.9666, 1.7871, 1.793, 1.6965, 1.9085, 1.9748, 1.9353, 1.7294, 1.77, 1.5028, 1.8148, 1.4947, 1.7297, 1.7609, 1.7057, 1.1785, 1.8213, 1.6845, 0.7955, 1.6647, 1.1346, 1.5243, 1.665, 1.7764, 1.2199, 1.1234, 1.5918, 1.341, 0.7778, 1.5471, 0.9811, 1.0618, 1.2689, 1.2888, 0.9345, 1.05, 1.1135, 0.9169, 0.8837, 0.8545, 1.1197, 0.3074, 0.5295, 0.7461, 1.2113, 0.8136, 0.3267, 0.9523, -0.0705, -0.5329, 0.2239, 0.1921, 0.0635, 0.3446, 0.6722, -0.1228, -0.2969, -0.0287, 2.2674, 2.2663, 2.2663, 2.266, 2.2653, 2.2652, 2.265, 2.2649, 2.2649, 2.2645, 2.2644, 2.2644, 2.2643, 2.2643, 2.2642, 2.2636, 2.2631, 2.2628, 2.2628, 2.2628, 2.2625, 2.2625, 2.2623, 2.2623, 2.2622, 2.2622, 2.2622, 2.2622, 2.2618, 2.2617, 2.2578, 2.2477, 2.2237, 2.1674, 2.2343, 2.1359, 2.0953, 2.1095, 2.0675, 2.0124, 2.2237, 2.2136, 2.0603, 2.0969, 1.9888, 2.1192, 2.0684, 2.0045, 2.047, 1.9028, 1.965, 2.0742, 1.9423, 1.8499, 1.8839, 1.9798, 1.7915, 1.8642, 1.7332, 1.7901, 1.8818, 1.7764, 1.8115, 1.5478, 1.7501, 1.8653, 1.402, 1.6832, 1.6844, 1.1988, 1.3551, 1.0856, 0.8614, 1.2221, 1.4192, 1.03, 0.886, -0.0345, 1.2958, 0.9824, 1.0801, 0.5827, -0.2738, 0.5694, 0.387, 0.0153, 0.6679, 0.6765, 2.4071, 2.4069, 2.4068, 2.4068, 2.4068, 2.4067, 2.4062, 2.4058, 2.4055, 2.4054, 2.4054, 2.4054, 2.4052, 2.4052, 2.4051, 2.4049, 2.4049, 2.4047, 2.4045, 2.4043, 2.4042, 2.4041, 2.4039, 2.4039, 2.4038, 2.4037, 2.4037, 2.4034, 2.4033, 2.4033, 2.3742, 2.2975, 2.3733, 2.2917, 2.3745, 2.2537, 2.3515, 2.2077, 2.2783, 2.1997, 2.0543, 2.2513, 2.2965, 2.3076, 2.1914, 2.3008, 2.0756, 1.9958, 2.2562, 2.0349, 1.9914, 2.1458, 2.0357, 1.8516, 2.0233, 1.9448, 1.6774, 1.4928, 0.2288, 1.4434, 1.8762, 1.6257, 0.6333, 0.4748, -0.1832, 0.5454, 0.7616, 0.805, 0.571, 0.4557, -0.029, 0.1569, -0.5275, 0.267, 0.5661, 0.0478, 0.5855, 2.7312, 2.7312, 2.7312, 2.7311, 2.731, 2.7309, 2.7307, 2.7306, 2.7305, 2.7305, 2.7304, 2.7304, 2.7304, 2.7303, 2.7302, 2.7301, 2.7299, 2.7299, 2.7298, 2.7297, 2.7296, 2.7295, 2.7294, 2.7294, 2.7292, 2.7292, 2.729, 2.729, 2.7289, 2.7289, 2.728, 2.7193, 2.6892, 2.6442, 2.6174, 2.6252, 2.6321, 2.4905, 2.4363, 2.4689, 2.47, 2.5162, 2.3418, 1.9843, 2.0362, 2.3394, 2.3117, 2.4434, 2.2374, 2.1968, 2.1481, 1.9322, 1.8304, 1.601, 2.1059, 1.7146, 2.1592, 2.2438, 1.987, 1.6371, 1.7164, 1.708, 0.9898, 1.5922, -0.1269, 0.5558, -0.6469, 1.9538, 1.3823, 1.656, -0.0912, 0.1678, 0.9255, 0.1321, 1.675, 1.3965, -0.1334, 2.8069, 2.8069, 2.8066, 2.8064, 2.8064, 2.8062, 2.8061, 2.8059, 2.8059, 2.8058, 2.8055, 2.8054, 2.8054, 2.8052, 2.8052, 2.8051, 2.8051, 2.8046, 2.8045, 2.8045, 2.8044, 2.8043, 2.8043, 2.8041, 2.8039, 2.8038, 2.8036, 2.8035, 2.8035, 2.8035, 2.7885, 2.7788, 2.7739, 2.7114, 2.6588, 2.5833, 2.7448, 2.6606, 2.6797, 2.6112, 2.5411, 2.7281, 2.4876, 2.6021, 2.6112, 2.2534, 2.3187, 2.7113, 2.5417, 2.619, 2.5016, 2.4939, 2.6871, 1.7776, 2.6067, 2.0189, 2.3154, 1.5469, 1.1604, 1.7305, 1.9756, 1.92, 0.2353, 1.4053, 1.9694, 0.4297, 1.8609, 0.6767, 0.3183, -0.0411, 0.3938, -0.559, 0.2778, -1.3006, -0.4031, -0.7609, 2.8933, 2.8929, 2.8927, 2.8926, 2.8924, 2.8924, 2.8922, 2.8921, 2.8921, 2.8921, 2.892, 2.892, 2.892, 2.892, 2.892, 2.8919, 2.8918, 2.8918, 2.8916, 2.8914, 2.8914, 2.8912, 2.8912, 2.891, 2.8909, 2.8909, 2.8907, 2.8906, 2.8906, 2.8905, 2.8851, 2.8433, 2.8053, 2.6888, 2.5682, 2.6138, 2.7609, 2.6677, 2.7056, 2.7578, 2.6617, 2.4257, 2.5406, 2.4738, 2.5945, 2.6261, 2.3934, 2.5128, 2.358, 2.2994, 2.6532, 2.3445, 1.8223, 2.2844, 1.8165, 2.2298, 1.6923, 2.196, 1.7673, -0.1977, 0.7745, 2.3198, 1.0279, 0.098, 1.178, 0.4823, -0.2305, 0.0073, -0.0989, -0.7844, 0.1585, -0.5707, 0.3087, 0.7436, 3.0708, 3.0706, 3.0706, 3.0703, 3.0702, 3.0702, 3.0702, 3.0701, 3.0699, 3.0699, 3.0697, 3.0696, 3.0694, 3.0687, 3.0687, 3.0687, 3.0685, 3.0685, 3.0684, 3.0683, 3.0683, 3.0682, 3.0681, 3.0681, 3.068, 3.068, 3.0679, 3.0677, 3.0677, 3.0676, 2.9737, 2.8675, 2.9315, 3.0226, 2.7561, 2.9065, 2.9426, 2.8674, 2.8764, 2.7417, 2.8674, 2.8896, 2.921, 2.9128, 2.9678, 2.8191, 2.4031, 2.554, 2.1211, 2.6217, 2.0737, 2.6192, 2.6198, 0.1833, 0.8335, 0.6503, 1.1734, 0.3463, 1.6224, -0.563, 1.4935, 0.3863, 1.4597, 0.4835, -0.0411, 0.9808, 0.6765, 3.1504, 3.1498, 3.1497, 3.1491, 3.149, 3.1486, 3.1484, 3.1482, 3.1479, 3.1478, 3.1476, 3.1476, 3.1472, 3.1465, 3.1464, 3.1464, 3.1462, 3.1462, 3.1459, 3.1459, 3.1458, 3.1456, 3.1456, 3.1454, 3.1453, 3.1453, 3.1453, 3.1452, 3.1452, 3.1452, 3.063, 3.1055, 2.767, 2.7996, 2.6316, 2.783, 3.0562, 2.9154, 2.6362, 2.3624, 2.2397, 2.8272, 1.9564, 2.8266, 2.5715, 2.1188, 2.8593, 1.2875, 1.4718, 1.0166, 2.2761, 1.7008, 0.4006, 1.8692, 1.313, 0.9867, 1.82, -0.1718, 0.1699, 0.7537, 0.8801, 1.6712, 0.4187, 0.9262, -0.0706, -0.4303, -0.1476, -1.6153]}, \"lambda.step\": 0.01, \"token.table\": {\"Term\": [\"1/10\", \"10/10\", \"10/10\", \"2/10\", \"21\", \"3/10\", \"9/11\", \"abc\", \"abel\", \"abomination\", \"abysmal\", \"accessible\", \"acting\", \"acting\", \"acting\", \"acting\", \"acting\", \"action\", \"action\", \"action\", \"action\", \"action\", \"actor\", \"actor\", \"actor\", \"actor\", \"actor\", \"actor\", \"actor\", \"actually\", \"actually\", \"actually\", \"actually\", \"actually\", \"actually\", \"actually\", \"actually\", \"actually\", \"actually\", \"adam\", \"adam\", \"adam\", \"aesthetic\", \"africa\", \"african\", \"aired\", \"aired\", \"aired\", \"akbar\", \"ali\", \"alien\", \"aliens\", \"aliens\", \"allen\", \"allen\", \"allen\", \"allen\", \"also\", \"also\", \"also\", \"also\", \"also\", \"also\", \"also\", \"also\", \"also\", \"also\", \"always\", \"always\", \"always\", \"always\", \"always\", \"always\", \"always\", \"always\", \"always\", \"always\", \"amazing\", \"amazing\", \"amazing\", \"amazing\", \"amazing\", \"amazing\", \"amelie\", \"america\", \"america\", \"america\", \"america\", \"america\", \"america\", \"american\", \"american\", \"american\", \"american\", \"american\", \"american\", \"american\", \"american\", \"american\", \"americans\", \"amitabh\", \"angus\", \"animated\", \"animation\", \"animation\", \"ann\", \"annoying\", \"annoying\", \"annoying\", \"annoying\", \"ants\", \"argento\", \"around\", \"around\", \"around\", \"around\", \"around\", \"around\", \"around\", \"around\", \"around\", \"around\", \"art\", \"art\", \"art\", \"arthur\", \"arthur\", \"artistic\", \"artistic\", \"artistic\", \"arts\", \"arts\", \"asks\", \"asks\", \"asks\", \"asks\", \"asks\", \"asks\", \"asoka\", \"astro\", \"atmosphere\", \"atmosphere\", \"atmosphere\", \"atrocious\", \"audience\", \"audience\", \"audience\", \"audience\", \"audience\", \"audience\", \"audience\", \"avery\", \"away\", \"away\", \"away\", \"away\", \"away\", \"away\", \"away\", \"away\", \"away\", \"awful\", \"awful\", \"baby\", \"baby\", \"baby\", \"baby\", \"baby\", \"bachchan\", \"back\", \"back\", \"back\", \"back\", \"back\", \"back\", \"back\", \"back\", \"back\", \"bad\", \"bad\", \"bad\", \"bad\", \"bad\", \"bad\", \"bad\", \"bambi\", \"barrymore\", \"batman\", \"batman\", \"battle\", \"battle\", \"battle\", \"beatles\", \"bela\", \"beowulf\", \"best\", \"best\", \"best\", \"best\", \"best\", \"best\", \"best\", \"best\", \"best\", \"bette\", \"better\", \"better\", \"better\", \"better\", \"better\", \"better\", \"better\", \"better\", \"better\", \"betty\", \"big\", \"big\", \"big\", \"big\", \"big\", \"big\", \"big\", \"big\", \"big\", \"big\", \"black\", \"black\", \"black\", \"black\", \"black\", \"black\", \"black\", \"black\", \"black\", \"blah\", \"blood\", \"blood\", \"blood\", \"blood\", \"bogart\", \"bollywood\", \"book\", \"book\", \"book\", \"book\", \"book\", \"boring\", \"boring\", \"boring\", \"boring\", \"bother\", \"bother\", \"bother\", \"bother\", \"boy\", \"boy\", \"boy\", \"boy\", \"boy\", \"boy\", \"boy\", \"boyfriend\", \"boyfriend\", \"boyfriend\", \"boyfriend\", \"british\", \"british\", \"british\", \"british\", \"british\", \"british\", \"british\", \"british\", \"broadway\", \"brody\", \"bronson\", \"brooks\", \"brother\", \"brother\", \"brother\", \"brother\", \"brother\", \"brother\", \"brother\", \"brother\", \"bunny\", \"bunuel\", \"bury\", \"buys\", \"cabaret\", \"cagney\", \"camps\", \"canceled\", \"candyman\", \"cannibal\", \"cannibal\", \"captain\", \"captain\", \"captain\", \"career\", \"career\", \"career\", \"career\", \"career\", \"career\", \"career\", \"career\", \"carrey\", \"cartoon\", \"cartoons\", \"cary\", \"cast\", \"cast\", \"cast\", \"cast\", \"cast\", \"cast\", \"cast\", \"cast\", \"cemetery\", \"chan\", \"chaney\", \"chaplin\", \"character\", \"character\", \"character\", \"character\", \"character\", \"character\", \"character\", \"character\", \"character\", \"characters\", \"characters\", \"characters\", \"characters\", \"characters\", \"characters\", \"characters\", \"charles\", \"charles\", \"charles\", \"charles\", \"charley\", \"che\", \"child\", \"child\", \"child\", \"child\", \"child\", \"child\", \"children\", \"children\", \"children\", \"children\", \"children\", \"children\", \"christie\", \"cinderella\", \"cinema\", \"cinema\", \"cinema\", \"cinema\", \"cinema\", \"cinematic\", \"cinematic\", \"cinematic\", \"cinematic\", \"cinematic\", \"city\", \"city\", \"city\", \"city\", \"city\", \"city\", \"city\", \"civil\", \"classic\", \"classic\", \"classic\", \"classic\", \"classic\", \"classic\", \"classic\", \"columbo\", \"comedians\", \"comedic\", \"comedic\", \"comedic\", \"comedic\", \"comedies\", \"comedies\", \"comedies\", \"comedy\", \"comedy\", \"comedy\", \"comedy\", \"comedy\", \"comic\", \"comic\", \"comic\", \"comic\", \"comic\", \"commander\", \"communist\", \"connery\", \"contrast\", \"contrast\", \"contrast\", \"contrast\", \"contrast\", \"conventional\", \"conventional\", \"convey\", \"convey\", \"convey\", \"cooper\", \"cop\", \"cop\", \"cop\", \"cop\", \"costello\", \"could\", \"could\", \"could\", \"could\", \"could\", \"could\", \"could\", \"could\", \"could\", \"could\", \"countries\", \"countries\", \"country\", \"country\", \"country\", \"country\", \"country\", \"crap\", \"crappy\", \"crappy\", \"crawford\", \"creepy\", \"creepy\", \"creepy\", \"crew\", \"crew\", \"crew\", \"crew\", \"crew\", \"crew\", \"crime\", \"crime\", \"crime\", \"cronenberg\", \"crouching\", \"culture\", \"culture\", \"culture\", \"culture\", \"culture\", \"dad\", \"dad\", \"dad\", \"dad\", \"daffy\", \"dafoe\", \"dakota\", \"damme\", \"dana\", \"dark\", \"dark\", \"dark\", \"dark\", \"dark\", \"dark\", \"dark\", \"daughter\", \"daughter\", \"daughter\", \"daughter\", \"davis\", \"day\", \"day\", \"day\", \"day\", \"day\", \"day\", \"day\", \"day\", \"de\", \"de\", \"de\", \"de\", \"de\", \"de\", \"dead\", \"dead\", \"dead\", \"dead\", \"dead\", \"death\", \"death\", \"death\", \"death\", \"death\", \"death\", \"death\", \"death\", \"decides\", \"decides\", \"decides\", \"definitely\", \"definitely\", \"definitely\", \"definitely\", \"definitely\", \"delpy\", \"deniro\", \"depth\", \"depth\", \"depth\", \"detective\", \"different\", \"different\", \"different\", \"different\", \"different\", \"different\", \"different\", \"different\", \"different\", \"dinosaurs\", \"director\", \"director\", \"director\", \"director\", \"director\", \"director\", \"disney\", \"disney\", \"django\", \"documentary\", \"documentary\", \"donnie\", \"dont\", \"doris\", \"douglas\", \"douglas\", \"douglas\", \"dr\", \"dr\", \"dr\", \"dr\", \"dr\", \"dr\", \"dracula\", \"dragon\", \"drama\", \"drama\", \"drama\", \"drama\", \"drama\", \"drama\", \"dramatic\", \"dramatic\", \"dramatic\", \"dramatic\", \"dramatic\", \"duck\", \"dundee\", \"dunne\", \"dvd\", \"dvd\", \"dvd\", \"dvd\", \"dvd\", \"dvd\", \"dvd\", \"earth\", \"earth\", \"earth\", \"earth\", \"earth\", \"earth\", \"ebay\", \"economic\", \"eddie\", \"eddie\", \"effects\", \"effects\", \"effects\", \"effects\", \"emmanuelle\", \"emmanuelle\", \"emotional\", \"emotional\", \"empathy\", \"end\", \"end\", \"end\", \"end\", \"end\", \"end\", \"end\", \"end\", \"end\", \"enid\", \"enjoy\", \"enjoy\", \"enjoy\", \"enjoy\", \"enjoy\", \"enjoy\", \"enjoyed\", \"enjoyed\", \"enjoyed\", \"entirely\", \"entirely\", \"entirely\", \"entirely\", \"entirely\", \"episode\", \"episode\", \"episode\", \"episode\", \"episodes\", \"episodes\", \"errol\", \"eva\", \"even\", \"even\", \"even\", \"even\", \"even\", \"even\", \"even\", \"even\", \"even\", \"even\", \"ever\", \"ever\", \"ever\", \"ever\", \"ever\", \"ever\", \"ever\", \"ever\", \"ever\", \"ever\", \"every\", \"every\", \"every\", \"every\", \"every\", \"every\", \"every\", \"every\", \"every\", \"every\", \"evil\", \"evil\", \"evil\", \"evil\", \"evil\", \"evil\", \"evil\", \"excellent\", \"excellent\", \"excellent\", \"excellent\", \"excellent\", \"excellent\", \"fact\", \"fact\", \"fact\", \"fact\", \"fact\", \"fact\", \"fact\", \"fact\", \"fact\", \"fact\", \"facts\", \"facts\", \"facts\", \"family\", \"family\", \"family\", \"family\", \"family\", \"fantastic\", \"fantastic\", \"fantastic\", \"fantastic\", \"fantastic\", \"fantastic\", \"fantastic\", \"farrah\", \"father\", \"father\", \"father\", \"father\", \"femme\", \"festival\", \"festival\", \"festival\", \"festivals\", \"fight\", \"fight\", \"fight\", \"fight\", \"fight\", \"fighting\", \"fighting\", \"fighting\", \"fighting\", \"fighting\", \"fights\", \"fights\", \"fights\", \"fights\", \"film\", \"film\", \"film\", \"film\", \"film\", \"film\", \"film\", \"film\", \"film\", \"filmmaker\", \"filmmaker\", \"filmmaker\", \"filmmaker\", \"filmmaker\", \"films\", \"films\", \"films\", \"films\", \"films\", \"films\", \"films\", \"find\", \"find\", \"find\", \"find\", \"find\", \"find\", \"find\", \"find\", \"find\", \"find\", \"finds\", \"finds\", \"finds\", \"finds\", \"finds\", \"first\", \"first\", \"first\", \"first\", \"first\", \"first\", \"first\", \"first\", \"first\", \"first\", \"flag\", \"flying\", \"flying\", \"flying\", \"flying\", \"flying\", \"flying\", \"flynn\", \"focus\", \"focus\", \"focus\", \"focus\", \"focus\", \"focus\", \"fonda\", \"frank\", \"frank\", \"frank\", \"freddy\", \"friend\", \"friend\", \"friend\", \"friend\", \"friend\", \"friend\", \"friend\", \"frogs\", \"frost\", \"fu\", \"fun\", \"fun\", \"fun\", \"fun\", \"fun\", \"fun\", \"funnier\", \"funniest\", \"funny\", \"funny\", \"funny\", \"gags\", \"game\", \"game\", \"game\", \"game\", \"game\", \"game\", \"game\", \"game\", \"games\", \"games\", \"games\", \"games\", \"garbage\", \"gay\", \"gay\", \"gay\", \"gay\", \"gay\", \"general\", \"general\", \"general\", \"general\", \"general\", \"general\", \"general\", \"general\", \"genre\", \"genre\", \"genre\", \"genre\", \"genre\", \"genre\", \"george\", \"george\", \"george\", \"george\", \"george\", \"george\", \"german\", \"german\", \"german\", \"german\", \"german\", \"germans\", \"get\", \"get\", \"get\", \"get\", \"get\", \"get\", \"get\", \"get\", \"get\", \"gets\", \"gets\", \"gets\", \"gets\", \"gets\", \"gets\", \"gets\", \"giallo\", \"giant\", \"giant\", \"giant\", \"giant\", \"giant\", \"girl\", \"girl\", \"girl\", \"girl\", \"girl\", \"girls\", \"girls\", \"girls\", \"girls\", \"girls\", \"given\", \"given\", \"given\", \"given\", \"given\", \"given\", \"given\", \"given\", \"given\", \"global\", \"go\", \"go\", \"go\", \"go\", \"go\", \"go\", \"go\", \"go\", \"go\", \"go\", \"godzilla\", \"goes\", \"goes\", \"goes\", \"goes\", \"goes\", \"goes\", \"goes\", \"goes\", \"goes\", \"goes\", \"gon\", \"good\", \"good\", \"good\", \"good\", \"good\", \"good\", \"good\", \"good\", \"good\", \"goodfellas\", \"gore\", \"gore\", \"gory\", \"gory\", \"government\", \"government\", \"grandmother\", \"grandmother\", \"granny\", \"grant\", \"great\", \"great\", \"great\", \"great\", \"great\", \"great\", \"great\", \"great\", \"great\", \"gremlins\", \"gruesome\", \"gruesome\", \"gun\", \"gun\", \"gun\", \"gun\", \"gwen\", \"hai\", \"harbour\", \"hears\", \"hears\", \"heist\", \"helicopter\", \"hellraiser\", \"henry\", \"hercules\", \"hero\", \"hero\", \"hero\", \"hero\", \"hero\", \"hero\", \"herzog\", \"highlander\", \"hilarious\", \"hilarious\", \"hilarious\", \"hilarious\", \"hindi\", \"historical\", \"historical\", \"history\", \"history\", \"history\", \"history\", \"history\", \"history\", \"hitchcock\", \"hitler\", \"holden\", \"holmes\", \"holocaust\", \"holocaust\", \"home\", \"home\", \"home\", \"home\", \"home\", \"home\", \"home\", \"home\", \"home\", \"homosexuality\", \"hong\", \"hooper\", \"horrible\", \"horrible\", \"horrid\", \"horror\", \"horror\", \"hoskins\", \"house\", \"house\", \"house\", \"howard\", \"howard\", \"howard\", \"however\", \"however\", \"however\", \"however\", \"however\", \"however\", \"however\", \"however\", \"however\", \"however\", \"hudson\", \"human\", \"human\", \"human\", \"human\", \"human\", \"human\", \"human\", \"humor\", \"humor\", \"humor\", \"humor\", \"humor\", \"humour\", \"humour\", \"humour\", \"humour\", \"humphrey\", \"husband\", \"husband\", \"husband\", \"husband\", \"immigrant\", \"indians\", \"indians\", \"interesting\", \"interesting\", \"interesting\", \"interesting\", \"interesting\", \"interesting\", \"interesting\", \"investigating\", \"iraq\", \"irene\", \"iris\", \"italian\", \"italian\", \"italian\", \"italian\", \"jafar\", \"james\", \"james\", \"james\", \"james\", \"james\", \"jane\", \"jet\", \"jews\", \"joan\", \"john\", \"john\", \"john\", \"john\", \"john\", \"john\", \"john\", \"john\", \"jokes\", \"jokes\", \"kapoor\", \"karloff\", \"keane\", \"keaton\", \"kelly\", \"kelly\", \"khan\", \"kidman\", \"kids\", \"kids\", \"kids\", \"kids\", \"killer\", \"killer\", \"killers\", \"killers\", \"killers\", \"killings\", \"killings\", \"know\", \"know\", \"know\", \"know\", \"know\", \"know\", \"know\", \"kong\", \"kung\", \"kurosawa\", \"kurosawa\", \"lame\", \"lame\", \"lana\", \"lance\", \"last\", \"last\", \"last\", \"last\", \"last\", \"last\", \"last\", \"last\", \"last\", \"last\", \"later\", \"later\", \"later\", \"later\", \"later\", \"later\", \"later\", \"later\", \"later\", \"later\", \"laugh\", \"laugh\", \"laugh\", \"laughable\", \"laughable\", \"laughs\", \"laughs\", \"laughs\", \"leaders\", \"leatherface\", \"lee\", \"lee\", \"lee\", \"lee\", \"lee\", \"lee\", \"lenny\", \"les\", \"li\", \"life\", \"life\", \"life\", \"life\", \"life\", \"life\", \"like\", \"like\", \"like\", \"like\", \"like\", \"like\", \"like\", \"like\", \"like\", \"like\", \"liked\", \"liked\", \"liked\", \"liked\", \"limb\", \"lime\", \"little\", \"little\", \"little\", \"little\", \"little\", \"little\", \"little\", \"little\", \"little\", \"little\", \"lohan\", \"lot\", \"lot\", \"lot\", \"lot\", \"lot\", \"lot\", \"lot\", \"lot\", \"love\", \"love\", \"love\", \"love\", \"love\", \"love\", \"love\", \"loved\", \"loved\", \"loved\", \"loved\", \"loved\", \"lugosi\", \"lumi\\u00e8re\", \"made\", \"made\", \"made\", \"made\", \"made\", \"made\", \"made\", \"made\", \"made\", \"made\", \"magnum\", \"maine\", \"make\", \"make\", \"make\", \"make\", \"make\", \"make\", \"make\", \"make\", \"make\", \"make\", \"malkovich\", \"malone\", \"man\", \"man\", \"man\", \"man\", \"man\", \"man\", \"man\", \"man\", \"man\", \"man\", \"many\", \"many\", \"many\", \"many\", \"many\", \"many\", \"many\", \"many\", \"many\", \"many\", \"maris\", \"marple\", \"martial\", \"martins\", \"mary\", \"mary\", \"mary\", \"mary\", \"massacre\", \"massacre\", \"massacre\", \"maury\", \"may\", \"may\", \"may\", \"may\", \"may\", \"may\", \"may\", \"may\", \"may\", \"may\", \"meets\", \"meets\", \"meets\", \"meets\", \"meets\", \"meets\", \"meets\", \"meets\", \"meg\", \"melanie\", \"melody\", \"men\", \"men\", \"men\", \"men\", \"men\", \"men\", \"men\", \"men\", \"men\", \"men\", \"meryl\", \"mgm\", \"midler\", \"miike\", \"military\", \"military\", \"minnelli\", \"minutes\", \"minutes\", \"minutes\", \"minutes\", \"minutes\", \"minutes\", \"minutes\", \"mom\", \"mom\", \"moments\", \"moments\", \"moments\", \"moments\", \"moments\", \"moments\", \"moments\", \"money\", \"money\", \"money\", \"money\", \"money\", \"money\", \"monster\", \"monster\", \"monster\", \"monster\", \"mother\", \"mother\", \"mother\", \"mother\", \"mothers\", \"mothers\", \"movies\", \"movies\", \"movies\", \"movies\", \"movies\", \"mr\", \"mr\", \"mr\", \"mr\", \"mr\", \"mr\", \"mr\", \"mr\", \"mr\", \"mr\", \"mst3k\", \"much\", \"much\", \"much\", \"much\", \"much\", \"much\", \"much\", \"much\", \"much\", \"much\", \"mummies\", \"murder\", \"murder\", \"murder\", \"murderer\", \"murdering\", \"murders\", \"murphy\", \"music\", \"music\", \"music\", \"music\", \"music\", \"music\", \"music\", \"musical\", \"musical\", \"musical\", \"musical\", \"mystery\", \"mystery\", \"mystery\", \"mystery\", \"mystery\", \"mystery\", \"na\", \"narrative\", \"narrative\", \"nation\", \"native\", \"native\", \"nature\", \"nature\", \"nature\", \"nature\", \"nature\", \"nazi\", \"nazis\", \"nbc\", \"neighbor\", \"neighbor\", \"ness\", \"network\", \"network\", \"never\", \"never\", \"never\", \"never\", \"never\", \"never\", \"never\", \"never\", \"never\", \"never\", \"new\", \"new\", \"new\", \"new\", \"new\", \"new\", \"new\", \"new\", \"new\", \"new\", \"nikki\", \"ninja\", \"noir\", \"nope\", \"norma\", \"north\", \"north\", \"north\", \"north\", \"north\", \"nothing\", \"nothing\", \"nothing\", \"nothing\", \"nothing\", \"nothing\", \"nothing\", \"nothing\", \"nothing\", \"novel\", \"novel\", \"novel\", \"often\", \"often\", \"often\", \"often\", \"often\", \"often\", \"often\", \"often\", \"oh\", \"oh\", \"oh\", \"oh\", \"oh\", \"ok\", \"ok\", \"ok\", \"ok\", \"old\", \"old\", \"old\", \"old\", \"old\", \"old\", \"old\", \"old\", \"old\", \"oliveira\", \"olsen\", \"one\", \"one\", \"one\", \"one\", \"one\", \"one\", \"one\", \"one\", \"one\", \"one\", \"opinion\", \"opinion\", \"opinion\", \"opinion\", \"opinion\", \"opinion\", \"original\", \"original\", \"original\", \"original\", \"original\", \"original\", \"original\", \"orphanage\", \"orson\", \"owl\", \"oxygen\", \"pammy\", \"panther\", \"parents\", \"parents\", \"parents\", \"parents\", \"pathetic\", \"pathetic\", \"pathetic\", \"penguins\", \"people\", \"people\", \"people\", \"people\", \"people\", \"people\", \"perfect\", \"perfect\", \"perfect\", \"perfect\", \"perfect\", \"perfect\", \"perfect\", \"perfect\", \"performance\", \"performance\", \"performance\", \"performance\", \"performance\", \"perhaps\", \"perhaps\", \"perhaps\", \"perhaps\", \"perhaps\", \"perhaps\", \"perhaps\", \"perhaps\", \"peterson\", \"phantasm\", \"pierce\", \"pink\", \"pink\", \"planet\", \"planet\", \"planet\", \"play\", \"play\", \"play\", \"play\", \"play\", \"play\", \"play\", \"play\", \"play\", \"played\", \"played\", \"played\", \"played\", \"played\", \"played\", \"played\", \"played\", \"played\", \"playing\", \"playing\", \"playing\", \"playing\", \"playing\", \"playing\", \"playing\", \"playing\", \"playing\", \"plays\", \"plays\", \"plays\", \"plays\", \"plays\", \"plays\", \"plays\", \"plays\", \"pleasantly\", \"pleasantly\", \"plot\", \"plot\", \"plot\", \"plot\", \"plot\", \"plot\", \"plot\", \"point\", \"point\", \"point\", \"point\", \"point\", \"point\", \"point\", \"pointless\", \"pointless\", \"pointless\", \"police\", \"police\", \"police\", \"police\", \"political\", \"political\", \"politics\", \"politics\", \"poor\", \"poor\", \"poor\", \"poor\", \"poor\", \"poor\", \"poor\", \"poorly\", \"poorly\", \"poorly\", \"popping\", \"porky\", \"powell\", \"power\", \"power\", \"power\", \"power\", \"power\", \"power\", \"power\", \"power\", \"power\", \"predator\", \"pregnant\", \"pregnant\", \"pretty\", \"pretty\", \"pretty\", \"pretty\", \"pretty\", \"pretty\", \"pretty\", \"prison\", \"prison\", \"prison\", \"program\", \"program\", \"program\", \"propaganda\", \"pryor\", \"pursue\", \"quite\", \"quite\", \"quite\", \"quite\", \"quite\", \"quite\", \"quite\", \"quite\", \"rani\", \"rathbone\", \"rather\", \"rather\", \"rather\", \"rather\", \"rather\", \"rather\", \"rather\", \"rather\", \"rather\", \"rather\", \"real\", \"real\", \"real\", \"real\", \"real\", \"real\", \"real\", \"real\", \"real\", \"reality\", \"reality\", \"reality\", \"reality\", \"reality\", \"reality\", \"really\", \"really\", \"really\", \"really\", \"really\", \"really\", \"really\", \"recommend\", \"recommend\", \"recommend\", \"redeeming\", \"redeeming\", \"regime\", \"religion\", \"religious\", \"religious\", \"religious\", \"religious\", \"religious\", \"richard\", \"richard\", \"richard\", \"richard\", \"richard\", \"richard\", \"richard\", \"ridiculous\", \"ridiculous\", \"ridiculous\", \"ridiculous\", \"ridiculous\", \"ridiculous\", \"ridiculous\", \"ridiculous\", \"ringu\", \"robbery\", \"robert\", \"robert\", \"robert\", \"robert\", \"robert\", \"robert\", \"robert\", \"robinson\", \"robinson\", \"robots\", \"robots\", \"robots\", \"rogers\", \"role\", \"role\", \"role\", \"role\", \"role\", \"role\", \"roles\", \"roles\", \"roles\", \"roles\", \"roles\", \"roles\", \"roles\", \"rubbish\", \"russian\", \"russian\", \"russian\", \"russian\", \"sadako\", \"sadie\", \"saif\", \"salman\", \"san\", \"san\", \"san\", \"san\", \"sandler\", \"saw\", \"saw\", \"saw\", \"saw\", \"saw\", \"say\", \"say\", \"say\", \"say\", \"say\", \"say\", \"say\", \"scene\", \"scene\", \"scene\", \"scene\", \"scene\", \"scene\", \"scene\", \"scene\", \"scenes\", \"scenes\", \"scenes\", \"scenes\", \"scenes\", \"scenes\", \"scenes\", \"scenes\", \"school\", \"school\", \"school\", \"school\", \"school\", \"school\", \"sci-fi\", \"sci-fi\", \"sci-fi\", \"scifi\", \"scorsese\", \"scorsese\", \"scorsese\", \"scott\", \"scott\", \"scott\", \"scott\", \"screen\", \"screen\", \"screen\", \"screen\", \"screen\", \"screen\", \"screwed\", \"seagal\", \"season\", \"seasons\", \"see\", \"see\", \"see\", \"see\", \"see\", \"see\", \"see\", \"see\", \"see\", \"see\", \"seem\", \"seem\", \"seem\", \"seem\", \"seem\", \"seem\", \"seem\", \"seem\", \"seem\", \"seems\", \"seems\", \"seems\", \"seems\", \"seems\", \"seems\", \"seems\", \"seems\", \"seems\", \"seems\", \"seen\", \"seen\", \"seen\", \"seen\", \"seen\", \"seen\", \"seen\", \"seen\", \"seen\", \"sense\", \"sense\", \"sense\", \"sense\", \"sense\", \"sense\", \"sense\", \"sensitivity\", \"serial\", \"series\", \"series\", \"series\", \"series\", \"series\", \"series\", \"seth\", \"sh*t\", \"shah\", \"sharpe\", \"shelves\", \"sherlock\", \"shields\", \"ship\", \"ship\", \"ship\", \"short\", \"short\", \"short\", \"short\", \"short\", \"short\", \"short\", \"short\", \"short\", \"show\", \"show\", \"show\", \"show\", \"shows\", \"shows\", \"shows\", \"shows\", \"shows\", \"shows\", \"shows\", \"shows\", \"shows\", \"shows\", \"simply\", \"simply\", \"simply\", \"simply\", \"simply\", \"simply\", \"simply\", \"sinbad\", \"sister\", \"sister\", \"sister\", \"sister\", \"sister\", \"sketch\", \"slapstick\", \"slasher\", \"slasher\", \"sleaze\", \"snoopy\", \"soldiers\", \"soldiers\", \"solondz\", \"something\", \"something\", \"something\", \"something\", \"something\", \"something\", \"something\", \"something\", \"son\", \"son\", \"son\", \"son\", \"son\", \"sophie\", \"sopranos\", \"south\", \"south\", \"south\", \"south\", \"space\", \"space\", \"space\", \"space\", \"space\", \"special\", \"special\", \"special\", \"special\", \"special\", \"spooky\", \"stage\", \"stage\", \"stage\", \"stage\", \"stage\", \"stan\", \"stanwyck\", \"star\", \"star\", \"star\", \"star\", \"star\", \"star\", \"star\", \"star\", \"stars\", \"stars\", \"stars\", \"stars\", \"stars\", \"stars\", \"stars\", \"states\", \"states\", \"states\", \"states\", \"states\", \"states\", \"states\", \"steve\", \"steve\", \"steve\", \"steve\", \"steve\", \"steve\", \"steve\", \"stewart\", \"stewart\", \"still\", \"still\", \"still\", \"still\", \"still\", \"still\", \"still\", \"still\", \"still\", \"still\", \"stinker\", \"stories\", \"stories\", \"stories\", \"stories\", \"stories\", \"stories\", \"stories\", \"story\", \"story\", \"story\", \"story\", \"story\", \"story\", \"story\", \"story\", \"story\", \"storytelling\", \"storytelling\", \"streep\", \"stupid\", \"stupid\", \"subtitles\", \"subtitles\", \"subtitles\", \"subtle\", \"subtle\", \"subtle\", \"subtle\", \"subtlety\", \"subtlety\", \"suck\", \"sucks\", \"superman\", \"supernatural\", \"supernatural\", \"supernatural\", \"supernatural\", \"supporting\", \"supporting\", \"supporting\", \"supporting\", \"supporting\", \"supporting\", \"supposed\", \"supposed\", \"supposed\", \"supposed\", \"supposed\", \"supposed\", \"supposed\", \"suspense\", \"suspense\", \"suspense\", \"sword\", \"symbolic\", \"symbolism\", \"symbolism\", \"team\", \"team\", \"team\", \"team\", \"team\", \"team\", \"team\", \"team\", \"team\", \"television\", \"television\", \"television\", \"television\", \"television\", \"tells\", \"tells\", \"tells\", \"tells\", \"tells\", \"tells\", \"tells\", \"tells\", \"terminator\", \"terms\", \"terms\", \"terms\", \"terms\", \"terms\", \"terms\", \"terrible\", \"terrible\", \"terrible\", \"terrible\", \"thai\", \"thailand\", \"themes\", \"themes\", \"themes\", \"themes\", \"thing\", \"thing\", \"thing\", \"thing\", \"thing\", \"thing\", \"thing\", \"thing\", \"thing\", \"thing\", \"think\", \"think\", \"think\", \"think\", \"think\", \"thriller\", \"thriller\", \"thriller\", \"tiger\", \"time\", \"time\", \"time\", \"time\", \"time\", \"time\", \"time\", \"time\", \"time\", \"time\", \"todays\", \"tom\", \"tom\", \"tom\", \"tom\", \"tom\", \"tom\", \"tom\", \"tom\", \"tom\", \"tony\", \"tony\", \"tony\", \"tony\", \"town\", \"town\", \"town\", \"town\", \"town\", \"trash\", \"trash\", \"trash\", \"travolta\", \"trek\", \"tribe\", \"troll\", \"truth\", \"truth\", \"truth\", \"truth\", \"truth\", \"truth\", \"truth\", \"truth\", \"tv\", \"tv\", \"tv\", \"tv\", \"tv\", \"tv\", \"two\", \"two\", \"two\", \"two\", \"two\", \"two\", \"two\", \"two\", \"two\", \"two\", \"ultimately\", \"ultimately\", \"ultimately\", \"ultimately\", \"unfunny\", \"unfunny\", \"union\", \"union\", \"united\", \"unwatchable\", \"us\", \"us\", \"us\", \"us\", \"us\", \"us\", \"us\", \"us\", \"vampire\", \"vampire\", \"version\", \"version\", \"version\", \"version\", \"version\", \"version\", \"version\", \"vhs\", \"vhs\", \"vhs\", \"vhs\", \"victims\", \"victims\", \"victims\", \"victims\", \"vienna\", \"viewer\", \"viewer\", \"viewer\", \"viewer\", \"viewer\", \"viewer\", \"villain\", \"villain\", \"villain\", \"villain\", \"villain\", \"villain\", \"violence\", \"violence\", \"violence\", \"violence\", \"violence\", \"violence\", \"virus\", \"visual\", \"visual\", \"visual\", \"visual\", \"visual\", \"visual\", \"voiced\", \"volcano\", \"wally\", \"walt\", \"wants\", \"wants\", \"wants\", \"wants\", \"wants\", \"wants\", \"wants\", \"wants\", \"wants\", \"wants\", \"war\", \"war\", \"warner\", \"warner\", \"warner\", \"wars\", \"wars\", \"wars\", \"waste\", \"watch\", \"watch\", \"watch\", \"watch\", \"watch\", \"watch\", \"watching\", \"watching\", \"watching\", \"watching\", \"watching\", \"watching\", \"way\", \"way\", \"way\", \"way\", \"way\", \"way\", \"way\", \"way\", \"way\", \"way\", \"wayne\", \"wayne\", \"wayne\", \"week\", \"week\", \"week\", \"week\", \"well\", \"well\", \"well\", \"well\", \"well\", \"well\", \"well\", \"well\", \"well\", \"well\", \"welles\", \"werewolf\", \"white\", \"white\", \"white\", \"white\", \"white\", \"white\", \"white\", \"white\", \"wife\", \"wife\", \"wife\", \"wife\", \"wife\", \"wilbur\", \"william\", \"william\", \"william\", \"william\", \"without\", \"without\", \"without\", \"without\", \"without\", \"without\", \"without\", \"without\", \"without\", \"without\", \"woman\", \"woman\", \"woman\", \"woman\", \"woman\", \"woman\", \"woman\", \"women\", \"women\", \"women\", \"women\", \"women\", \"women\", \"women\", \"women\", \"women\", \"wonderful\", \"wonderful\", \"wonderful\", \"wonderful\", \"woo\", \"woodstock\", \"woody\", \"woody\", \"woody\", \"work\", \"work\", \"work\", \"work\", \"work\", \"work\", \"work\", \"work\", \"work\", \"work\", \"world\", \"world\", \"world\", \"world\", \"world\", \"world\", \"world\", \"world\", \"worse\", \"worse\", \"worse\", \"worse\", \"worse\", \"worst\", \"would\", \"would\", \"would\", \"would\", \"would\", \"would\", \"would\", \"would\", \"would\", \"would\", \"wwii\", \"wwii\", \"yeah\", \"yeah\", \"yeah\", \"yeah\", \"year\", \"year\", \"year\", \"year\", \"year\", \"year\", \"year\", \"year\", \"years\", \"years\", \"years\", \"years\", \"years\", \"years\", \"years\", \"years\", \"years\", \"yet\", \"yet\", \"yet\", \"yet\", \"yet\", \"yet\", \"yet\", \"yet\", \"yet\", \"yet\", \"york\", \"york\", \"york\", \"york\", \"york\", \"york\", \"young\", \"young\", \"young\", \"young\", \"young\", \"young\", \"young\"], \"Topic\": [1, 2, 9, 1, 4, 1, 7, 10, 2, 1, 1, 3, 1, 2, 3, 5, 6, 1, 2, 3, 5, 8, 1, 2, 3, 5, 6, 8, 10, 1, 2, 3, 4, 5, 6, 7, 8, 9, 10, 3, 4, 9, 3, 7, 7, 1, 2, 10, 3, 3, 8, 1, 8, 3, 5, 6, 9, 1, 2, 3, 4, 5, 6, 7, 8, 9, 10, 1, 2, 3, 4, 5, 6, 7, 8, 9, 10, 1, 2, 6, 8, 9, 10, 2, 1, 2, 7, 8, 9, 10, 1, 2, 3, 5, 6, 7, 8, 9, 10, 7, 3, 8, 9, 2, 9, 6, 1, 3, 4, 9, 4, 5, 1, 2, 3, 4, 5, 6, 7, 8, 9, 10, 1, 2, 3, 6, 10, 1, 2, 3, 3, 8, 3, 4, 5, 6, 7, 8, 3, 4, 2, 3, 5, 1, 1, 2, 3, 4, 5, 9, 10, 3, 1, 2, 3, 4, 5, 6, 7, 8, 10, 1, 6, 4, 5, 6, 9, 10, 3, 1, 2, 4, 5, 6, 7, 8, 9, 10, 1, 2, 4, 5, 6, 8, 9, 2, 6, 8, 9, 6, 7, 8, 2, 4, 9, 1, 2, 3, 4, 5, 6, 8, 9, 10, 6, 1, 2, 3, 4, 5, 6, 8, 9, 10, 6, 1, 2, 3, 4, 5, 6, 7, 8, 9, 10, 1, 2, 4, 5, 6, 7, 8, 9, 10, 1, 1, 4, 5, 8, 6, 3, 1, 2, 3, 6, 7, 1, 2, 3, 5, 1, 2, 4, 7, 1, 2, 4, 6, 8, 9, 10, 1, 4, 5, 10, 1, 2, 3, 5, 6, 7, 9, 10, 6, 5, 5, 6, 1, 2, 4, 5, 6, 8, 9, 10, 9, 10, 4, 4, 10, 10, 10, 10, 5, 1, 5, 6, 7, 8, 1, 2, 3, 5, 6, 8, 9, 10, 9, 9, 9, 6, 1, 2, 3, 5, 6, 8, 9, 10, 4, 8, 8, 6, 1, 2, 3, 4, 5, 6, 8, 9, 10, 1, 2, 3, 4, 5, 9, 10, 5, 6, 9, 10, 10, 7, 1, 2, 3, 4, 9, 10, 2, 3, 4, 7, 9, 10, 6, 3, 1, 2, 3, 5, 7, 1, 2, 3, 5, 8, 2, 3, 4, 5, 7, 8, 10, 7, 1, 2, 3, 5, 6, 8, 9, 6, 9, 2, 3, 6, 9, 2, 6, 9, 1, 2, 3, 6, 9, 2, 3, 6, 8, 9, 8, 7, 7, 2, 3, 6, 7, 10, 3, 5, 1, 2, 3, 6, 1, 5, 8, 9, 6, 1, 2, 3, 4, 5, 6, 7, 8, 9, 10, 2, 7, 2, 4, 6, 7, 10, 1, 1, 9, 6, 1, 4, 5, 1, 2, 3, 5, 7, 8, 5, 7, 10, 5, 2, 2, 3, 7, 9, 10, 2, 4, 9, 10, 9, 3, 7, 8, 5, 1, 2, 3, 4, 5, 8, 9, 4, 5, 6, 10, 6, 1, 2, 4, 6, 7, 8, 9, 10, 2, 3, 5, 6, 7, 10, 1, 4, 5, 8, 9, 1, 2, 3, 4, 5, 7, 8, 10, 4, 5, 8, 1, 2, 5, 8, 9, 3, 7, 1, 2, 3, 5, 1, 2, 3, 4, 5, 7, 8, 9, 10, 8, 1, 2, 3, 5, 6, 7, 2, 9, 3, 2, 7, 2, 1, 10, 5, 6, 8, 4, 5, 6, 7, 8, 9, 5, 8, 1, 2, 3, 5, 6, 10, 1, 2, 3, 6, 10, 9, 2, 6, 1, 2, 5, 6, 8, 9, 10, 1, 2, 4, 7, 8, 9, 2, 7, 6, 9, 1, 2, 5, 8, 5, 10, 2, 3, 3, 1, 2, 3, 4, 5, 6, 7, 8, 10, 4, 1, 2, 4, 5, 6, 9, 1, 2, 9, 1, 2, 3, 5, 7, 1, 8, 9, 10, 9, 10, 8, 10, 1, 2, 3, 4, 5, 6, 7, 8, 9, 10, 1, 2, 3, 4, 5, 6, 7, 8, 9, 10, 1, 2, 3, 4, 5, 6, 7, 8, 9, 10, 1, 2, 4, 5, 7, 8, 9, 2, 3, 5, 6, 8, 10, 1, 2, 3, 4, 5, 6, 7, 8, 9, 10, 1, 2, 7, 2, 3, 4, 9, 10, 2, 3, 5, 6, 8, 9, 10, 3, 3, 4, 6, 10, 5, 1, 2, 10, 2, 1, 2, 4, 7, 8, 1, 2, 4, 7, 8, 1, 2, 4, 8, 1, 2, 3, 4, 5, 6, 7, 8, 9, 1, 2, 3, 5, 7, 1, 2, 3, 5, 6, 8, 9, 1, 2, 3, 4, 5, 6, 7, 8, 9, 10, 4, 5, 6, 8, 10, 1, 2, 3, 4, 5, 6, 7, 8, 9, 10, 7, 1, 2, 4, 7, 8, 9, 8, 1, 2, 3, 5, 7, 10, 6, 4, 5, 6, 9, 1, 2, 4, 5, 6, 9, 10, 2, 1, 8, 1, 2, 5, 6, 8, 9, 9, 9, 1, 2, 9, 9, 1, 2, 3, 4, 5, 6, 8, 9, 1, 2, 4, 8, 1, 1, 2, 3, 4, 10, 1, 2, 3, 5, 6, 7, 8, 9, 1, 2, 3, 5, 8, 9, 1, 5, 6, 7, 8, 9, 1, 2, 5, 7, 10, 7, 1, 2, 4, 5, 6, 7, 8, 9, 10, 1, 2, 4, 5, 6, 8, 9, 5, 1, 4, 6, 8, 9, 1, 2, 4, 5, 6, 1, 2, 4, 5, 9, 1, 2, 3, 4, 5, 6, 7, 8, 10, 7, 1, 2, 3, 4, 5, 6, 7, 8, 9, 10, 9, 1, 2, 3, 4, 5, 6, 7, 8, 9, 10, 1, 1, 2, 3, 4, 5, 6, 8, 9, 10, 10, 1, 5, 1, 5, 7, 8, 4, 10, 4, 6, 1, 2, 3, 5, 6, 7, 8, 9, 10, 4, 1, 5, 1, 4, 5, 8, 4, 2, 4, 4, 6, 5, 8, 1, 6, 1, 2, 3, 4, 5, 7, 8, 2, 2, 1, 2, 6, 9, 3, 3, 7, 1, 2, 3, 6, 7, 10, 5, 7, 5, 7, 1, 7, 1, 2, 4, 5, 6, 7, 8, 9, 10, 10, 8, 9, 1, 4, 1, 1, 5, 2, 1, 4, 5, 5, 6, 9, 1, 2, 3, 4, 5, 6, 7, 8, 9, 10, 6, 1, 2, 3, 4, 5, 7, 8, 1, 2, 3, 6, 9, 2, 3, 5, 9, 6, 4, 5, 6, 10, 10, 6, 7, 1, 2, 3, 5, 6, 7, 10, 5, 7, 6, 4, 2, 5, 7, 10, 4, 2, 5, 6, 8, 10, 6, 8, 7, 6, 2, 3, 5, 6, 7, 8, 9, 10, 1, 9, 3, 7, 5, 9, 5, 6, 3, 5, 1, 2, 4, 9, 1, 5, 1, 5, 7, 1, 5, 1, 2, 4, 7, 8, 9, 10, 8, 8, 2, 3, 1, 9, 6, 8, 1, 2, 3, 4, 5, 6, 7, 8, 9, 10, 1, 2, 3, 4, 5, 6, 7, 8, 9, 10, 1, 2, 9, 1, 5, 1, 6, 9, 7, 4, 2, 5, 6, 8, 9, 10, 10, 10, 8, 1, 2, 3, 4, 7, 10, 1, 2, 3, 4, 5, 6, 7, 8, 9, 10, 1, 2, 4, 9, 4, 5, 1, 2, 3, 4, 5, 6, 7, 8, 9, 10, 4, 1, 2, 4, 5, 6, 8, 9, 10, 1, 2, 3, 4, 6, 9, 10, 1, 2, 4, 9, 10, 4, 2, 1, 2, 3, 4, 5, 6, 7, 8, 9, 10, 10, 4, 1, 2, 3, 4, 5, 6, 7, 8, 9, 10, 2, 10, 1, 2, 3, 4, 5, 6, 7, 8, 9, 10, 1, 2, 3, 4, 5, 6, 7, 8, 9, 10, 2, 3, 8, 4, 4, 6, 9, 10, 1, 5, 7, 2, 1, 2, 3, 4, 5, 6, 7, 8, 9, 10, 2, 3, 4, 5, 6, 8, 9, 10, 9, 9, 2, 1, 2, 3, 4, 5, 6, 7, 8, 9, 10, 3, 6, 4, 9, 7, 8, 3, 1, 2, 3, 4, 5, 6, 8, 4, 9, 1, 2, 3, 4, 5, 6, 9, 1, 4, 5, 6, 7, 10, 1, 5, 8, 9, 3, 4, 6, 10, 4, 10, 1, 2, 6, 8, 9, 1, 2, 3, 4, 5, 6, 7, 8, 9, 10, 1, 1, 2, 3, 4, 5, 6, 7, 8, 9, 10, 4, 5, 6, 7, 5, 5, 5, 9, 1, 2, 3, 5, 6, 8, 9, 2, 3, 6, 9, 1, 2, 3, 5, 6, 10, 1, 3, 5, 7, 4, 7, 2, 3, 4, 5, 7, 7, 7, 10, 4, 10, 4, 1, 10, 1, 2, 3, 4, 5, 6, 7, 8, 9, 10, 1, 2, 3, 4, 5, 6, 7, 8, 9, 10, 2, 1, 5, 1, 7, 2, 7, 8, 9, 10, 1, 2, 3, 4, 5, 6, 7, 8, 9, 3, 5, 6, 1, 2, 3, 5, 6, 7, 9, 10, 1, 2, 4, 8, 9, 1, 2, 4, 8, 1, 2, 4, 5, 6, 7, 8, 9, 10, 2, 4, 1, 2, 3, 4, 5, 6, 7, 8, 9, 10, 1, 2, 3, 6, 7, 9, 1, 2, 3, 5, 6, 8, 9, 5, 10, 2, 4, 10, 9, 2, 4, 9, 10, 1, 3, 10, 2, 1, 2, 3, 4, 7, 10, 2, 3, 4, 5, 6, 8, 9, 10, 2, 3, 5, 6, 10, 1, 2, 3, 4, 5, 6, 7, 9, 5, 8, 3, 4, 9, 1, 7, 8, 1, 2, 3, 4, 5, 6, 8, 9, 10, 1, 2, 3, 4, 5, 6, 8, 9, 10, 1, 2, 3, 4, 5, 6, 8, 9, 10, 2, 3, 4, 5, 6, 8, 9, 10, 2, 9, 1, 2, 3, 5, 6, 8, 9, 1, 2, 3, 4, 5, 7, 8, 1, 3, 5, 4, 5, 7, 8, 3, 7, 3, 7, 1, 3, 4, 5, 6, 7, 10, 1, 3, 5, 2, 9, 6, 1, 2, 3, 4, 5, 6, 7, 8, 10, 8, 4, 5, 1, 2, 4, 5, 6, 8, 9, 5, 7, 10, 1, 7, 10, 7, 9, 10, 1, 2, 3, 4, 5, 6, 8, 9, 2, 7, 1, 2, 3, 4, 5, 6, 7, 8, 9, 10, 1, 2, 3, 4, 5, 6, 7, 8, 10, 1, 2, 3, 4, 7, 10, 1, 2, 4, 5, 6, 8, 9, 1, 2, 9, 1, 3, 10, 7, 1, 3, 4, 7, 10, 2, 5, 6, 7, 8, 9, 10, 1, 3, 4, 5, 6, 7, 8, 9, 2, 5, 2, 5, 6, 7, 8, 9, 10, 6, 8, 1, 8, 9, 6, 2, 3, 5, 6, 9, 10, 1, 2, 3, 5, 6, 9, 10, 1, 2, 6, 7, 8, 5, 4, 1, 2, 5, 6, 8, 10, 9, 1, 2, 4, 9, 10, 1, 2, 3, 4, 5, 7, 9, 1, 2, 3, 4, 5, 6, 8, 9, 1, 2, 3, 4, 5, 6, 8, 9, 1, 2, 4, 7, 9, 10, 1, 2, 8, 1, 2, 5, 10, 2, 5, 6, 8, 1, 2, 3, 5, 6, 8, 1, 8, 10, 10, 1, 2, 3, 4, 5, 6, 7, 8, 9, 10, 1, 2, 3, 4, 5, 6, 7, 8, 9, 1, 2, 3, 4, 5, 6, 7, 8, 9, 10, 1, 2, 3, 4, 5, 6, 8, 9, 10, 1, 2, 3, 4, 5, 7, 9, 3, 5, 1, 2, 5, 8, 9, 10, 9, 2, 3, 9, 1, 7, 3, 6, 7, 8, 1, 2, 3, 4, 5, 6, 7, 8, 9, 1, 2, 9, 10, 1, 2, 3, 4, 5, 6, 7, 8, 9, 10, 1, 2, 3, 5, 6, 7, 9, 8, 2, 4, 5, 6, 10, 9, 9, 1, 5, 5, 9, 7, 8, 2, 1, 2, 3, 4, 5, 7, 9, 10, 3, 4, 5, 6, 10, 3, 10, 2, 4, 7, 9, 1, 3, 7, 8, 9, 1, 2, 5, 8, 9, 5, 1, 2, 3, 6, 10, 6, 6, 1, 2, 3, 5, 6, 8, 9, 10, 1, 2, 5, 6, 8, 9, 10, 2, 4, 5, 6, 7, 8, 10, 2, 5, 6, 7, 8, 9, 10, 6, 10, 1, 2, 3, 4, 5, 6, 7, 8, 9, 10, 1, 1, 2, 3, 4, 5, 7, 10, 1, 2, 3, 4, 5, 6, 7, 8, 10, 2, 3, 3, 1, 9, 1, 2, 3, 2, 3, 5, 9, 3, 5, 1, 1, 8, 1, 2, 4, 5, 2, 3, 5, 6, 9, 10, 1, 3, 4, 5, 6, 7, 9, 1, 2, 5, 8, 3, 3, 4, 1, 2, 4, 5, 6, 7, 8, 9, 10, 1, 2, 6, 9, 10, 2, 3, 4, 5, 6, 7, 8, 10, 8, 1, 2, 3, 5, 7, 8, 1, 4, 5, 7, 10, 10, 2, 3, 5, 10, 1, 2, 3, 4, 5, 6, 7, 8, 9, 10, 1, 2, 4, 7, 9, 1, 2, 5, 8, 1, 2, 3, 4, 5, 6, 7, 8, 9, 10, 2, 1, 2, 3, 4, 5, 6, 8, 9, 10, 5, 6, 8, 10, 4, 5, 6, 8, 10, 1, 4, 5, 4, 8, 4, 5, 1, 2, 3, 4, 5, 6, 7, 10, 1, 2, 6, 8, 9, 10, 1, 2, 3, 4, 5, 6, 7, 8, 9, 10, 3, 4, 5, 7, 1, 9, 7, 10, 7, 1, 1, 2, 3, 4, 5, 7, 8, 10, 1, 5, 1, 2, 3, 5, 6, 8, 9, 1, 2, 6, 8, 1, 4, 5, 7, 10, 1, 2, 3, 5, 7, 10, 1, 3, 5, 6, 8, 9, 1, 2, 3, 5, 7, 8, 8, 1, 2, 3, 5, 8, 9, 9, 4, 10, 3, 1, 2, 3, 4, 5, 6, 7, 8, 9, 10, 7, 8, 6, 8, 9, 2, 7, 8, 1, 1, 2, 4, 6, 9, 10, 1, 2, 3, 4, 9, 10, 1, 2, 3, 4, 5, 6, 7, 8, 9, 10, 6, 8, 9, 1, 2, 4, 10, 1, 2, 3, 4, 5, 6, 7, 8, 9, 10, 10, 5, 1, 2, 4, 5, 6, 7, 8, 9, 3, 4, 5, 6, 10, 3, 5, 6, 8, 10, 1, 2, 3, 4, 5, 6, 7, 8, 9, 10, 1, 2, 3, 4, 5, 6, 10, 1, 2, 3, 4, 5, 6, 7, 9, 10, 2, 3, 6, 10, 8, 4, 3, 6, 9, 1, 2, 3, 4, 5, 6, 7, 8, 9, 10, 1, 2, 3, 4, 7, 8, 9, 10, 1, 3, 4, 5, 6, 1, 1, 2, 3, 4, 5, 6, 7, 8, 9, 10, 6, 7, 1, 4, 8, 9, 1, 2, 4, 6, 7, 8, 9, 10, 1, 2, 4, 5, 6, 7, 8, 9, 10, 1, 2, 3, 4, 5, 6, 7, 8, 9, 10, 2, 4, 5, 6, 8, 10, 2, 3, 4, 5, 6, 7, 10], \"Freq\": [0.9986842466113891, 0.9806298996099267, 0.018678664754474796, 0.99561038974891, 0.9966687855700075, 0.9967146627808912, 0.9950052905738301, 0.9969529718040225, 0.9904115237941569, 0.9967834323183025, 0.99599796015073, 0.9972921543665478, 0.6318498927771147, 0.27728704586563824, 0.0443972402535424, 0.02214270420705641, 0.02426750915621839, 0.06247057752323568, 0.14780811099345018, 0.035516761364456424, 0.03201373832577031, 0.7220119707514155, 0.2762715316253924, 0.26815507984882725, 0.09287093859723644, 0.025598040218397945, 0.31997550272997427, 0.00046825683326337704, 0.01654507477530599, 0.5805117646819977, 0.21023808912483788, 0.04141907926798263, 0.02852598066316313, 0.058663598651928696, 0.011764952476897789, 0.026430852139879963, 0.006527131168689869, 0.03593951236093434, 8.058186628012183e-05, 0.0019581243359019914, 0.11748746015411948, 0.8791978268199941, 0.9974982231633052, 0.9979373545570721, 0.99653918002809, 0.0702785069723516, 0.18038150122903582, 0.7472947908060055, 0.9943385811967184, 0.9968478340334119, 0.9996200902254474, 0.048912670590871135, 0.9508623162865348, 0.04271879370549994, 0.02951480292379996, 0.2912645025374996, 0.6361216735418992, 0.06797011887121378, 0.37984611190146655, 0.07965712075136244, 0.07709711081571083, 0.1447333153474918, 0.0769858060358999, 0.04032943188483045, 0.06106922252293553, 0.04448481033110553, 0.0278261949527349, 0.09039060767104809, 0.4806484693619224, 0.04006323636702132, 0.04767856228802537, 0.04414681693335682, 0.10573162655538959, 0.008498262259671189, 0.02516368565201339, 0.0667720606117022, 0.09094244288271505, 0.037800082393437066, 0.8767274924121217, 0.010548860202819647, 0.06417223290048618, 0.0008790716835683039, 0.009669788519251342, 0.9918872707446035, 0.0030657908569193784, 0.08321432325924027, 0.7660097441074276, 0.006131581713838757, 0.038103400650283704, 0.10336094889042476, 0.08064678158372611, 0.16821933639506229, 0.04016948472013839, 0.019392165037308187, 0.03801479971599304, 0.5745313657481862, 0.0024624971475946905, 0.03247418113390498, 0.043863230441530426, 0.999190687461789, 0.9975109796642346, 0.997639746175936, 0.9990291143672252, 0.1514659516500704, 0.8482093292403943, 0.998548088342782, 0.8722872786095481, 0.00212926105437644, 0.017743842119803663, 0.10788256008840628, 0.9986388778038429, 0.9966824671787556, 0.29195270852971544, 0.10637763216090755, 0.052954504115341645, 0.3045118298597257, 0.1025349159330686, 0.003186642725524984, 0.032335051185474105, 0.0721680852545364, 0.015089690553221248, 0.018932406781060198, 0.12402474219851926, 0.2713249051849644, 0.6041634224523044, 0.9964906365917796, 0.0030614151661805824, 0.06426891447988965, 0.12732520793185687, 0.8076056045963492, 0.08368919426333603, 0.915478137246493, 0.03928555345193082, 0.8610968607977268, 0.010617717149170492, 0.027606064587843277, 0.058397444320437704, 0.0031853151447511475, 0.9968339094053893, 0.9935086578355299, 0.25730414592934375, 0.11323508901435997, 0.6294382412817005, 0.998488031608083, 0.20620658639923353, 0.12375609628013236, 0.591457706897256, 0.01703655351388835, 0.025072663661948894, 0.030858662968552483, 0.0054645549006811685, 0.9935538399706753, 0.3029504627783952, 0.17221615129598195, 0.062404167183094585, 0.3778112757364098, 0.030476453740581076, 0.0021768895528986483, 0.011005386072987611, 0.03349991145294031, 0.00737723681815653, 0.9584302663372859, 0.04130805240199883, 0.800708954076817, 0.05769894570505955, 0.0587876050579852, 0.06967419858724172, 0.013063912235107823, 0.9943803076477642, 0.2434980761588618, 0.1810735114954499, 0.342841909313953, 0.005354703063678674, 0.022405204924339714, 0.010920775985134138, 0.12012853583647551, 0.030719085996893443, 0.04297853774794725, 0.9252110910346324, 0.024537579637423947, 0.00303481377114444, 0.0051813893653685555, 0.00792012374420622, 0.03253172322970686, 0.0015544168096105668, 0.998626403485721, 0.9975876312940091, 0.09757182803967894, 0.9012088844392164, 0.012947609925848324, 0.4096623780538409, 0.5774634026928352, 0.9982674774780604, 0.9958899642060923, 0.9970005342882867, 0.08998705467099377, 0.5139532667134582, 0.02735265884144932, 0.0037250702702362882, 0.03006663860976433, 0.17518473328025516, 0.051618830887559995, 0.06822200123489888, 0.03991146718110309, 0.9983834513965645, 0.5407853569067566, 0.31521494848406995, 0.017391974569200674, 5.8362330769129786e-05, 0.018150684869199362, 0.07482050804602439, 0.020193366446118906, 0.012547901115362903, 0.0007587102999986871, 0.9969452841262582, 0.3211057718040757, 0.2822265911527666, 0.00020144653187206753, 0.06254914814627698, 0.007856414743010635, 0.12147225871885672, 0.00010072326593603376, 0.11643609542205503, 0.06194480855066077, 0.025986602611496712, 0.08508578901044458, 0.08026647674227487, 0.10768670171634394, 0.21204973979946737, 0.018280149982712705, 0.3405093392234394, 0.051350603133256595, 0.10103937444990295, 0.003656029996542541, 0.9982323775236221, 0.23594907907741705, 0.0006120598679051026, 0.6622487770733211, 0.10068384827038938, 0.9980042654057727, 0.9987125326597464, 0.21049329098978664, 0.39364309074805687, 0.13018253372489255, 0.2631166137372333, 0.0024076030015171674, 0.9042435193930165, 0.07477468650055474, 0.01809949624341056, 0.0029251711100461513, 0.9487429056619623, 0.025320911577300077, 0.0015825569735812548, 0.023738354603718825, 0.0776009052475142, 0.09094916591691168, 0.7554210572053933, 0.03597243129549492, 0.009049668250438974, 0.029411421813926666, 0.0015836919438268204, 0.056603626045384485, 0.82307239839764, 0.1197027501615508, 0.0009279282958259752, 0.00768445543947946, 0.11563275804169092, 0.07062380475331123, 0.09440902397074766, 0.22358106064390237, 0.43508654845433703, 0.0029274115959921753, 0.050131923581366, 0.9988912824914524, 0.9955528690564242, 0.9965521254248721, 0.9980323365564884, 0.01616443644795995, 0.023386844222580354, 0.678906330814318, 0.03473634215412671, 0.027857858559250128, 0.09079598345237079, 0.025794313480787156, 0.10248940556366097, 0.9969804418955086, 0.9978694079988848, 0.9966241830863433, 0.9945097665111546, 0.9977594308177602, 0.9984414163894662, 0.9950621662006045, 0.991702735286678, 0.9980524876672092, 0.053432959855855354, 0.9459612892999577, 0.09439659055494576, 0.1635083800683882, 0.741687497217431, 0.10042291021555425, 0.0349715565926371, 0.07828495237250875, 0.09528947071571761, 0.5348402278892298, 0.011871078843372228, 0.029517277124060673, 0.1148607088088448, 0.9956213396290329, 0.9991590228202482, 0.9985787006191232, 0.9983603476249607, 0.16212729100842502, 0.2541599446501712, 0.04717565288418968, 0.15856013389052787, 0.32273854024174375, 0.005618272460687996, 0.039149549368921115, 0.010344755641901706, 0.9951323273273934, 0.9977098015944109, 0.9974037820158187, 0.9992793125954506, 0.21716804548110613, 0.16084540345039597, 0.4092389551350564, 0.011770362151495562, 0.07898788485135864, 0.06984396714689102, 0.0006322921816919103, 0.032879193447979335, 0.018725576150106574, 0.2736452792414854, 0.24311690123280041, 0.42762856771256463, 4.6255118194977247e-05, 0.005226828356032429, 0.036264012664862164, 0.014061555931273083, 0.16321873194057532, 0.7685417456729452, 0.03277226507468245, 0.03470004537319318, 0.9926927985820281, 0.9961675768880547, 0.01603662487070652, 0.21489077326746736, 0.055107674555700585, 0.6668320196237421, 0.029157499764920946, 0.017786074856601778, 0.21745637556357375, 0.0006954894740839246, 0.5951071599911448, 0.04126570879564619, 0.13654776674514385, 0.008809533338396378, 0.99823295455281, 0.993648124689036, 0.11373802631558455, 0.3699610526309124, 0.47744973684124503, 0.037496052631511394, 0.0009998947368403037, 0.14646601709952248, 0.003201442996710874, 0.741934414487745, 0.10564761889145884, 0.0024010822475331556, 0.09929565761294565, 0.011467215052413672, 0.15767420697068799, 0.13526101391369763, 0.021370718961316388, 0.21839832304369675, 0.3562655221965793, 0.9988384544645783, 0.0009791362221155606, 0.35248903996160175, 0.0003916544888462242, 0.15803258624945146, 0.20268119797792103, 0.08596816030174621, 0.19954796206715122, 0.9968163665292278, 0.9986185994210001, 0.009461379612033465, 0.09671632492300875, 0.11669034854841273, 0.7768843925880812, 0.0007473559560500697, 0.18310220923226708, 0.815365348050626, 0.016770126267517362, 0.0657904953571835, 0.006987552611465568, 0.09492321470652455, 0.8156086409721425, 0.00994434551383276, 0.1418150142842237, 0.172512776522577, 0.07912240126223456, 0.596228367981538, 0.9983116949815115, 0.9983506350617285, 0.9974228655171804, 0.03723281863429794, 0.8133938840108165, 0.05584922795144691, 0.03866485012023248, 0.05298516497957784, 0.9482175774607461, 0.0497316911255636, 0.052543283701021556, 0.03502885580068104, 0.910750250817707, 0.9992153244147933, 0.037214936186061975, 0.8573390923864027, 0.07489505907444972, 0.030237135651175355, 0.9977578314449163, 0.600076754126384, 0.2205461377217487, 0.09777439964995746, 0.034700946585583606, 7.031600118659292e-05, 0.025208286425393564, 0.017825106300801304, 7.031600118659292e-05, 3.515800059329646e-05, 0.003656432061702832, 0.08961709846653684, 0.9089734273034451, 0.06431505221508692, 0.13013455009602382, 0.022566684987749795, 0.7258950337726184, 0.05679282388583698, 0.9996110153596963, 0.9794083917513793, 0.019933685042429698, 0.99942876694454, 0.1702013743855779, 0.02404331682770245, 0.8054511137280321, 0.296085200106267, 0.08845312581790996, 0.014431825791343203, 0.00046554276746268395, 0.05633067486298476, 0.5437539523964149, 0.8123727262697737, 0.07213804229237143, 0.11558481776391331, 0.9955776377556526, 0.9958459135806921, 0.08772609125224319, 0.2171376301208005, 0.6109717844659773, 0.0827487243726833, 0.0006221708599449872, 0.026358569995521334, 0.8419237357392991, 0.0992322635125509, 0.03256058646505577, 0.9963870299051262, 0.9939015468213271, 0.9953155775907324, 0.996399522517439, 0.9977204650447404, 0.05693116060443303, 0.2490738276443945, 0.14563194208187558, 0.016266045886980867, 0.4818816094018082, 0.04701903889205407, 0.0033040405707929887, 0.817248364159582, 0.04071112685816834, 0.10205289232689496, 0.03988590131374601, 0.9991656666997819, 0.18440685457127087, 0.27909109155965883, 0.29245989940226963, 0.045619333978393614, 0.07304606346993539, 0.016400908590419455, 0.00578855597308922, 0.10322924818675776, 0.08724823652871862, 0.028214603852570696, 0.4292960493875757, 0.15279293163238286, 0.037764162079594626, 0.26434913455716236, 0.28636008629815884, 0.2528384821735923, 0.4004761854456194, 0.05973264564749889, 0.0005349192147537213, 0.0884470854348621, 0.022154050080242706, 0.01437476531924145, 0.24521658485764827, 0.38118495328906155, 0.1268361645815422, 0.10079247212079888, 0.020970245877481645, 0.8180469893450909, 0.16348117733777287, 0.017950874374343687, 0.15570957396212506, 0.6914346757291121, 0.07932771538340697, 0.005470876922993584, 0.06817554319422774, 0.9974331885978777, 0.9946112274914775, 0.10043458404334989, 0.18955259523674486, 0.7094076605315489, 0.9994129391582225, 0.12660631559749505, 0.5574437140623536, 0.19239326643818708, 0.06551843267399532, 0.0020138862502252657, 0.02121293516903947, 0.01785645808533069, 0.0018796271668769149, 0.014902758251666967, 0.9966601312213207, 0.24258601825957535, 0.12423923001525293, 0.40466966302897345, 0.1927907356883317, 0.0345247292493956, 0.0010788977890436125, 0.1769071826170192, 0.8231464803112797, 0.9954767438678452, 0.2008846475084137, 0.7990047351419718, 0.996224180953844, 0.9955718931718115, 0.9963483679502397, 0.028438156010704384, 0.9163405825671412, 0.05476978194654177, 0.08313616925684532, 0.5876867137121825, 0.06689117066642727, 0.09699219746631954, 0.08552513963778915, 0.0793138166473352, 0.9988764330896032, 0.9987292506985453, 0.05242982858710362, 0.2700775560389338, 0.44194509170007346, 0.060102486429118786, 0.014322294638428306, 0.16138156994371897, 0.05838685510029303, 0.19146680411267264, 0.6180590517373361, 0.0931033635383051, 0.03892457006686202, 0.9986947755145038, 0.9906193478499629, 0.9987065516305931, 0.2658595040943413, 0.6523211966381826, 0.0028219723898282034, 0.028219723898282034, 0.022575779118625627, 0.02331840343173831, 0.0047527956039211845, 0.1858252943504042, 0.034478428108388255, 0.034926199902003685, 0.18672083793763508, 0.5516548497342121, 0.005821033317000614, 0.9901993798879555, 0.9947314712276846, 0.1652436317903963, 0.8332712407966936, 0.4399429292889923, 0.1516526821098574, 0.06591636380814594, 0.3424948196956285, 0.08605969678430118, 0.9107984576338541, 0.21331134410895874, 0.7859122501388153, 0.9951734455063631, 0.35492035900394453, 0.22905341778585486, 0.11153905561745976, 0.20335317455602542, 0.056926038754072206, 0.000963759121118604, 0.008609581481992862, 0.031739800388839355, 0.002827026755281238, 0.997684390601137, 0.24548709133491226, 0.6159999446269746, 0.002976803856122622, 0.0007938143616326993, 0.016670101594286686, 0.11807988629286402, 0.079524026020934, 0.8687727500232173, 0.05174508542458034, 0.17590481264812846, 0.034702309978202214, 0.6461809444216964, 0.11367998096307623, 0.02871915308540873, 0.03354451237465702, 0.04960808168083081, 0.0009449158415396345, 0.9158596794122906, 0.000978366920254074, 0.9989126255794094, 0.9972478593983037, 0.9947094595689716, 0.5578614252233339, 0.1557920482288013, 0.12263672204705361, 0.035190227543147906, 0.033182458199899685, 0.02762039447873907, 0.028190166859931132, 0.010418694970369157, 0.02656224577081095, 0.0025775417244402864, 0.5394796264763951, 0.35304181438528803, 0.010865478410490056, 0.00856590626012179, 0.0002874465187960332, 0.03512596459687526, 0.00942824581650989, 0.01592453714130024, 0.02437546479390362, 0.0029894437954787454, 0.38740267633502457, 0.28232703272078485, 0.14018587080896544, 0.05619336604289033, 0.0017002531329165002, 0.000765113909812425, 0.017767645238977427, 0.008416253007936676, 0.040295999250121055, 0.06511969499070196, 0.13040746055206992, 0.00181121472988986, 0.09444191091568555, 0.34335456379483487, 0.07218984423418155, 0.3242074366502849, 0.033636844983668826, 0.6808654482171699, 0.08114028527743884, 0.04922736972899009, 0.1461543632298637, 0.0023764937110546938, 0.03989114443556094, 0.38873697132665413, 0.20518782519732084, 0.16969279900685, 0.044226423007378134, 0.05333744577284659, 0.01509013145530713, 0.11872801541251082, 0.002277755691367114, 0.0018981297428059284, 0.0008541583842626677, 0.03662225819167038, 0.05437850458763178, 0.9077880969935264, 0.16268961164111206, 0.006752681805242161, 0.5851073734579273, 0.05877334163821881, 0.18657409728557972, 0.8671439495526992, 0.003035509741724735, 0.02529591451437279, 0.027825505965810068, 0.033896525449259536, 0.03794387177155919, 0.005059182902874558, 0.9931413602173568, 0.022219612171037236, 0.8402716669347249, 0.04592053182014362, 0.09147073677076996, 0.9971362218392281, 0.049226850524749385, 0.8341216338915868, 0.11623006373899161, 0.993022512135703, 0.051060631362619416, 0.061272757635143296, 0.05766847777425251, 0.07418809380333527, 0.7556973441667674, 0.039614466484614905, 0.03145854691425301, 0.030293415547058458, 0.1963246353722827, 0.7025742144183174, 0.019431669134768785, 0.012573432969556273, 0.09372922759123767, 0.8732820717037266, 0.21131848623928978, 0.3413109612899947, 0.291548482442153, 0.00020390976478541954, 0.11316142321570845, 0.03409541192016202, 0.008207368032613136, 8.49624019939248e-06, 0.00015293232358906466, 0.13556942019621654, 0.035365935703360836, 0.7780505854739385, 0.005894322617226807, 0.04479685189092373, 0.1725698035119768, 0.4270837367519716, 0.1646117214606978, 0.16957949389270832, 0.05006357072259136, 0.0065111580419555245, 0.00954969846153477, 0.23992458651091084, 0.332234012700152, 0.025494984376076134, 0.2761290627565613, 0.03692377047569647, 0.00039960790558113066, 0.03444620146109346, 0.016383924128826357, 0.03308753458211762, 0.005035059610322246, 0.7211313909528384, 0.2077595846107981, 0.043608240455850114, 0.024817697820402503, 0.0024817697820402503, 0.3153371758788511, 0.3596674669412516, 0.04740770142613487, 0.05843184234938562, 0.03622774225661909, 0.030618285391078064, 0.0025710010633729673, 0.05578293216288014, 0.030111876090716725, 0.06392443553022786, 0.9944097390029516, 0.032352561902886885, 0.06247391264005744, 0.029005745154312382, 0.023427717240021538, 0.7865019359150088, 0.06693633497149011, 0.9986805335030422, 0.08523864720918266, 0.08590981765964865, 0.6953325866827813, 0.04362607928029034, 0.03624320432516428, 0.05302246558681441, 0.9992578690754393, 0.07585537413301041, 0.17424204751344968, 0.7495412216311327, 0.9984723818756579, 0.1627887940631808, 0.12779035460405283, 0.557211996651906, 0.005756322279461839, 0.06539182109468648, 0.00046050578235694707, 0.08035825902128726, 0.9977261684221062, 0.9936837911085431, 0.9989884564462574, 0.16123498609807785, 0.28064440334445256, 0.03175645042444127, 0.02568916111570656, 0.11398758424707986, 0.3866283293544781, 0.9990161387602787, 0.9991933903278473, 0.18493360824836927, 0.0853480208778039, 0.7295979046752611, 0.998848804786406, 0.05505172711866958, 0.04332774819524921, 0.011978848030451251, 0.02981968552261269, 0.009430156960142475, 0.007391204103895453, 0.8145616660706851, 0.028290470880427424, 0.041042882636743085, 0.12112655607429057, 0.07207530609379274, 0.7647990813285785, 0.99901657069436, 0.1542384389135653, 0.0019523853027033583, 0.00234286236324403, 0.24326720871683846, 0.5978203796877684, 0.1448852919561029, 0.15020593827087503, 0.18090197470225278, 0.032333158374384545, 0.007367048743530656, 0.3879979004926145, 0.06712199966327931, 0.02905891448837092, 0.14424452632798368, 0.2033522457631349, 0.13963520875735264, 0.45740698480321146, 0.05287158389841508, 0.002169090621473439, 0.026107109042520785, 0.1313777100204272, 0.677100505489894, 0.08379539837841349, 0.06189911337500896, 0.01936979057993478, 0.027646050929448315, 0.11058420371779326, 0.02837357858548643, 0.8213787236670302, 0.010912914840571704, 0.9974343965482435, 0.43913225165464953, 0.21115565769218586, 0.24468806643922555, 0.015178979367539194, 0.009413886242368058, 0.0031379620807893524, 0.0501344174302857, 0.025322624233346636, 0.0018243965585984607, 0.18517740379792616, 0.05706929345117373, 0.400892835590598, 0.13124854584975817, 0.06140092862773341, 0.10850746117281988, 0.05576980289820583, 0.9977437318482326, 0.0923375421533446, 0.03823351354786925, 0.01370635391338709, 0.6831535345251354, 0.17241150448944811, 0.11109483644571776, 0.05828524277929771, 0.7735266980125167, 0.01971233680635956, 0.03735609505896534, 0.24474351809747713, 0.016257117748020824, 0.7377775618010904, 0.00029558395905492405, 0.0011823358362196962, 0.26007390439467615, 0.10472002345095367, 0.4031529107946971, 0.020522055877750994, 0.07192309302950115, 0.07134770828526514, 0.056195910020383565, 0.009973335566757491, 0.0021097440621987004, 0.9977859102295862, 0.39172826723195575, 0.24482157799464274, 0.0002061366079101679, 0.2896219341137859, 0.007833191100586381, 0.002473639294922015, 0.011612362245606125, 0.029821095944337624, 0.017590323875000993, 0.004260156563476804, 0.9984050750235066, 0.20944812551407593, 0.0744218029259682, 0.04090463065232443, 0.4273781476851556, 0.16129284126786123, 0.014501307187780567, 0.003420119619759568, 0.038989363665259076, 0.028592200021189985, 0.0010944382783230617, 0.9994213254150573, 0.40498527141050866, 0.43010225812277253, 0.000906163257889262, 0.0014870371411516096, 0.05311510788550905, 0.05943501573540339, 0.03129748483017528, 0.01854149435373413, 0.00011617477665246948, 0.9955619552428273, 0.282300121731633, 0.7175128094012339, 0.13928029973442818, 0.8591006098663403, 0.8619960199253617, 0.13788986802912115, 0.9472227122485873, 0.0505634899776826, 0.9918772461706243, 0.999293555163872, 0.04376399523148679, 0.7063434654098864, 0.0002967050524168596, 0.024774871876807776, 0.1134896825494488, 0.00018544065776053724, 0.036717250236586375, 0.06553472845257387, 0.008901151572505789, 0.9974332299699115, 0.03207392894556121, 0.9664943922262443, 0.15286750751135733, 0.012270301606262796, 0.22802310484971697, 0.6063574043761532, 0.9899342362017156, 0.9945129516416209, 0.9893614272524792, 0.956159198266977, 0.04241028701990624, 0.9984242574200728, 0.9966574212574422, 0.996557840053649, 0.9996215733925689, 0.9955718403754846, 0.028418151233443194, 0.13401741774862416, 0.05231523295247498, 0.05748216954037374, 0.1017240640742569, 0.6261681277459813, 0.9966451150240719, 0.9961728790667992, 0.07509830191033597, 0.04677174943538468, 0.008234462928764908, 0.8695592852775743, 0.997847225537196, 0.2629234643857157, 0.7363470030188908, 0.06847158538669809, 0.16754789454472335, 0.06847158538669809, 0.042535378800827604, 0.613391285755837, 0.03942303401052314, 0.998978201297893, 0.9954765685361876, 0.9970952917211325, 0.9994637560619483, 0.07553089083988164, 0.924259585277499, 0.09973047315739182, 0.10437341883511024, 0.6574411079649293, 0.0031572030608485306, 0.0230290105614834, 0.049400942010924064, 0.0044572278506096906, 0.010400198318089277, 0.04791519939405417, 0.9975014432818499, 0.9986175424399997, 0.9952131815080635, 0.9712986079567252, 0.028409948245974852, 0.9967005517798787, 0.29757461456516193, 0.7023469649098347, 0.996881178447904, 0.102829417777098, 0.6193313788254223, 0.2776786758675452, 0.11280574348200649, 0.8056284199856684, 0.08082931225876056, 0.18987557754398707, 0.21112039740904856, 0.3092755507279144, 0.012563042516358477, 0.13921485325037888, 0.04841367603864974, 0.018487078824885237, 0.038404097448380387, 0.027577410401762512, 0.005106927852178243, 0.9979799427832614, 0.017334993689302254, 0.057321045799292786, 0.46804482961116084, 0.1058590281293391, 0.006240597728148812, 0.22003885322954328, 0.12481195456297622, 0.026197399534381213, 0.1949464145531431, 0.04767454690040545, 0.012036643029310288, 0.7191304178491852, 0.21466755337793048, 0.141516508118572, 0.005469237028737082, 0.6378497684764622, 0.997706030737204, 0.7675025831931965, 0.002252628126772485, 0.19372601890243368, 0.03668565806458046, 0.996999978860811, 0.05933615128464059, 0.9387826792534208, 0.28275474069079914, 0.30137233678566655, 0.2576844550403242, 0.13444866270782105, 0.0055006533916653775, 0.013116942703202055, 0.005077526207691118, 0.995107446562272, 0.9978271574657427, 0.9976592712450135, 0.9927124907760807, 0.12044745354569102, 0.6893570278173287, 0.03742056809186517, 0.15260575424963765, 0.9928527845413198, 0.003179364383059277, 0.07948410957648193, 0.5857095719013646, 0.24410453207710672, 0.08760915188874452, 0.9993586761223595, 0.9964269538847496, 0.9980983658756859, 0.9996218711159964, 0.09469700504443204, 0.00014842790759315367, 0.14293607501220698, 0.49871776951299635, 0.0011874232607452294, 0.1797461960953091, 0.05432461417909425, 0.028052874535106045, 0.0929108323783861, 0.9068671206662551, 0.9976355347459827, 0.998323389178501, 0.9957023970917263, 0.998124832696804, 0.09320388697952181, 0.9047946566781271, 0.9987488067433143, 0.9964476897474316, 0.17510170253590698, 0.09049971849997515, 0.36565953677068613, 0.36871008907967406, 0.10413745794817568, 0.895630800717838, 0.029411762066454027, 0.904761823568062, 0.06442576452651834, 0.031737381702772065, 0.9667694734075183, 0.5043838987328144, 0.3148305792464536, 0.1408744728715619, 0.03841021876561105, 0.0001665182894462907, 0.0001665182894462907, 0.0012211341226061316, 0.9992274752933588, 0.9978184378472922, 0.003442100737911843, 0.9947671132565227, 0.9608532269774839, 0.0386078644692108, 0.997705500565536, 0.995600089962442, 0.27005175675283993, 0.269599029583095, 0.02546590329815129, 0.06507953065083108, 0.09065861574141859, 0.06507953065083108, 0.024107721788916556, 0.06564543961301221, 0.00939408877220692, 0.11487951932277138, 0.01851805661180276, 0.13326669800972585, 0.007755425418618249, 0.29249033007360253, 0.10778458591998016, 0.1639718517079287, 0.04922321031000562, 0.10398601020473856, 0.0150360288728313, 0.1081011338962503, 0.39255909729308547, 0.09463697711824541, 0.5125145384195887, 0.9548222025188673, 0.04464995911059451, 0.1582044716648539, 0.02610107444975704, 0.8155254078077149, 0.9965981193205126, 0.9948593357436282, 0.12861554881821136, 0.1644441659889988, 0.16582218972633678, 0.49746656917901033, 0.008268142424027873, 0.03582861717078745, 0.9980402610559587, 0.995521363845194, 0.9980465052516443, 0.07540334304139261, 0.2517081892996373, 0.2234534712673714, 0.30615020697156436, 0.024923877288624822, 0.11835970297662617, 0.4922843720877234, 0.2975813739585687, 0.01768941729980142, 0.07862152780596407, 0.00806855774619679, 0.00825619862401532, 0.011719025732848191, 0.025263285459022084, 0.05567816592724381, 0.004810429776802315, 0.22630916052351674, 0.7352747827171575, 0.002299889842718666, 0.03587828154641119, 0.9936175360465338, 0.9941694187087066, 0.2185954425227242, 0.25578215234993046, 0.10578708781613634, 0.18270896730486086, 0.10531900335677291, 0.03328600599917761, 0.00026004692186857507, 0.009049632881026413, 0.08883202851030525, 0.0003640656906160051, 0.9973112242864277, 0.3544340921966041, 0.4780303699850893, 0.035720056582715605, 0.05711954378375025, 0.001383236815276003, 0.012937332566404969, 0.0600487511572759, 0.00024410061446047114, 0.03459206394404118, 0.5323576780788798, 0.06754727943647158, 0.25076518278677173, 0.07813223275688796, 0.025043781309644957, 0.011512500776329163, 0.032653487618490615, 0.8650623165179818, 0.03596985745474356, 0.04107196489513273, 0.025000326457906875, 0.9974047812447533, 0.9923387406613122, 0.4566894260592771, 0.3359981858233674, 0.035156566933641914, 0.0007783741756525886, 0.010767509429860808, 0.07429149076506372, 0.05790239006660089, 0.008951303020004768, 0.01193507069333969, 0.007524283697975023, 0.9966998394799924, 0.9955012114228665, 0.5104658984237461, 0.20330079275513258, 0.11638875503094087, 0.08134561900532063, 0.01218708340722533, 0.020072843258959368, 0.029097188757735218, 0.002867549036994195, 0.02285605261839491, 0.0013916046797177713, 0.9958560785943483, 0.9929247432736812, 0.03274425275957397, 0.06333427836391281, 0.0925086689805257, 0.4201358446181427, 0.11755925332854564, 0.09035444182529058, 0.0829685201501987, 0.07539795043322954, 0.002400424544404859, 0.022650159803615077, 0.19884379631328022, 0.44224557747115223, 0.1594892949596102, 0.009851255152715866, 0.02238003093668271, 0.01495370012925075, 0.09275335620710938, 0.007628407836205619, 0.028593899571472715, 0.023289377566164175, 0.9942208386017964, 0.9932420701999082, 0.9994017436200657, 0.9959195043762589, 0.17860850922469443, 0.7853707497823443, 0.02406781329978152, 0.01203390664989076, 0.07839564084120065, 0.8952276405737107, 0.026553362220406676, 0.9915266392647764, 0.16004694470899544, 0.29411027299966375, 0.3184762323647098, 0.031241001841490583, 0.09968811590844567, 0.013952292084549192, 0.05409040771908564, 0.0025275891457516653, 0.022242784482614655, 0.0037408319357124646, 0.037644067756738134, 0.0038189633956111154, 0.7485168255397786, 0.0430997297504683, 0.09165512149466677, 0.04037189875360322, 0.013639154984325412, 0.02018594937680161, 0.9980458419498125, 0.9976109451239437, 0.996838092271102, 0.009981828171116208, 0.02451677094660121, 0.03852635434465905, 0.43394684575484144, 0.022240213644416813, 0.03327276057038736, 0.24604330842839073, 0.09106229208737593, 0.003327276057038736, 0.0970163650315505, 0.9955968958106524, 0.9984166901140057, 0.9951028786288757, 0.9987443663073531, 0.7305746091783902, 0.26860550414975143, 0.997888834582421, 0.793493979996664, 0.0716900093758022, 0.07122297348410316, 0.009924512698604539, 0.040632122577816225, 0.002218420485570426, 0.010741825509077853, 0.9557083279778018, 0.044067242788601815, 0.07770507213298854, 0.28126756163031225, 0.2742410391502016, 0.002066624258856078, 0.12833736647496247, 0.0016532994070848626, 0.2347685158060505, 0.6862528986843647, 0.19288953751999655, 0.0005862903875987738, 0.02696935782954359, 0.025357059263646963, 0.06786311236455805, 0.17362407988956913, 0.23102046993570768, 0.5849648752202288, 0.010044368258074247, 0.026286355857087156, 0.9032571414199082, 0.008693125559036697, 0.06167979563316514, 0.9899310572967175, 0.007225774140851952, 0.4909333426619103, 0.4627265021806514, 0.00022386381334332434, 0.02364001868905505, 0.0224311540970011, 0.06632310852287222, 0.08596495220079976, 0.12754443946706195, 0.06402730861246511, 0.015815510493915684, 0.4747204036964046, 0.01683586600965218, 0.04081422062945983, 0.09106672977948224, 0.016580777130718056, 0.998371614574499, 0.3580962948743819, 0.3093466959166823, 0.17896002451788923, 0.019210796407770264, 0.05904235593213797, 0.027212357480364484, 0.008177806911197617, 0.01085674365796925, 0.027705845828453996, 0.0013747175411064959, 0.9965051005557277, 0.9672069822795236, 0.0260462964029297, 0.006670392981238094, 0.9988780398942589, 0.9978330369261004, 0.9992987754698016, 0.9985576050764824, 0.19530128182216175, 0.5888271807154065, 0.1307630344036696, 0.002248719422247113, 0.05801696109397551, 0.00022487194222471128, 0.02451104170249353, 0.2311079490176833, 0.07188003138738969, 0.65692889445184, 0.039579510953815844, 0.17519313706235073, 0.11784899168369468, 0.017158090743219917, 0.6596834362064289, 0.029349365744981436, 0.00045152870376894517, 0.9990321976033747, 0.9410338365445852, 0.05754205021203954, 0.998866036236179, 0.1191929238027751, 0.8798158086885255, 0.06639785458261728, 0.7416403221683413, 0.13042435721585538, 0.01659946364565432, 0.04446284905085979, 0.9992438202804158, 0.9984531301381977, 0.9946824066998838, 0.9643499030227968, 0.032539413905677196, 0.9963070454170029, 0.20761321578207884, 0.7895841198641266, 0.35481245345146656, 0.2939874614312152, 0.10220678146308913, 0.11915459975249251, 0.010917306260045126, 0.05365076219222176, 0.02381012508143175, 0.0027553201513447222, 0.0017675638706739728, 0.036962879766152784, 0.07359317172351647, 0.20236137510598004, 0.0811350825258186, 0.12035301869778961, 0.05009416543423829, 0.024769222845455383, 0.004286980877098047, 0.08970904428001468, 0.050808662247087966, 0.3028672601135009, 0.9984663867042513, 0.9973914362816151, 0.9987475659118136, 0.996285692203913, 0.9963577171367674, 0.12136653111374802, 0.8285123399499738, 0.017338075873392575, 0.011145905918609512, 0.021053377846262412, 0.698286531456066, 0.07409420435585858, 0.12599174408059108, 0.06098158396878766, 0.018010105109952834, 0.008373119042346493, 0.013112620387070922, 0.0010268919580236264, 0.000157983378157481, 0.4335065427869903, 0.0022080129513768606, 0.5641473090767879, 0.04089968427063246, 0.21582093281791365, 0.5030430093625247, 0.15112086730504876, 0.003928218263281083, 0.013633228090210819, 0.04089968427063246, 0.03073253111861083, 0.8098868049499197, 0.059247278351154294, 0.0903064242709224, 0.013050061310826937, 0.027405128752736565, 0.8417831007605586, 0.13714809807283096, 0.007818418892512929, 0.01335646560804292, 0.16727116348597854, 0.21239148758527326, 0.35092632298519905, 0.017842257438504375, 0.08792458593493743, 0.0018013817606182304, 0.03474093395478016, 0.09118422912081804, 0.03585607504468668, 0.9932692515869009, 0.9930918681583045, 0.3016115751594047, 0.2921910593800043, 0.0772378913765108, 0.09989106580900593, 0.07495060565229422, 0.057337213324005085, 0.016437443170641077, 0.045435574047149395, 0.026400704715109847, 0.008515939504286535, 0.2839561805842871, 0.676249056572218, 0.009503218895056464, 0.00038012875580225854, 0.02888978544097165, 0.0007602575116045171, 0.31331562091929516, 0.3045127886978373, 0.04575299216337955, 0.05553391685388825, 0.0583595173200352, 0.07259619659177563, 0.1498655016467943, 0.9980153298325242, 0.9966080125396378, 0.9900312637171499, 0.9952144305507995, 0.998263767448189, 0.9978317115251915, 0.048189487956213785, 0.8753106992702437, 0.050164466970812706, 0.026069722992705817, 0.8960083360359231, 0.08199633481066751, 0.02182160523187119, 0.9915836165433044, 0.39151075361874293, 0.30868977400742975, 0.0011260747227853992, 0.10512452412067565, 0.19255877759630324, 0.0009444497674974315, 0.6689668674755557, 0.06637387879811833, 0.05546310420116738, 0.022503472606211355, 0.10819851475309701, 0.017048085307735876, 0.05205348713962021, 0.009319619968228944, 0.2559083549187331, 0.2629328152051914, 0.11893137933279502, 0.36163859336835635, 0.0006055569212464105, 0.157592821643772, 0.13759373260268418, 0.5865732815751057, 0.001199945342465269, 0.05139765883559569, 0.03399845136984929, 0.025798824863003285, 0.0057997358219154665, 0.9973324144099203, 0.9962322721852672, 0.9972348411743642, 0.04592550195609591, 0.952454975350337, 0.06751204596881566, 0.13952489500221904, 0.7930414999803546, 0.15432827884848668, 0.21446414893656499, 0.1396011269901818, 0.05706771345093145, 0.0016874861504307687, 0.3621958910151859, 0.04111329893776782, 0.028533856725465725, 0.0009204469911440557, 0.03775426569014006, 0.24813577988940536, 0.02211866070735478, 0.12101704019196409, 0.09750007334793745, 0.33470364162336286, 0.06139835127386414, 0.012076280271256921, 0.06521191346478737, 0.15075601987929035, 0.19422686083880164, 0.058246644044271274, 0.11606500394115819, 0.03619001045397737, 0.34112832339163285, 0.04518397754904867, 0.05032338731766084, 0.00792325672661043, 0.09976408714042817, 0.03525387830035658, 0.1388212884109477, 0.2306861663056528, 0.4059315862385457, 0.023405064431772003, 0.05573330967815708, 0.010239715688900251, 0.8963964888598152, 0.10180680344391253, 0.5368230908503321, 0.135228242948135, 0.12788743100058214, 0.15531060706179756, 0.004404487168531734, 0.03990255637205535, 0.0004194749684315937, 0.440909057935267, 0.05521491746787145, 0.2969104052517616, 0.11251341672698334, 0.010649418044117764, 0.07987063533088323, 0.003819899950607459, 0.9087585541815578, 0.08501497459388067, 0.0057964755404918645, 0.09057740437669828, 0.8188076987009835, 0.06740644046638011, 0.023170963910318164, 0.018575745845709604, 0.9809192241750523, 0.1114465448485171, 0.8865822149889494, 0.7332114231292861, 0.08855903252466193, 0.07744433613492704, 0.00627442538130196, 0.03746728299120313, 0.056469828431717634, 0.0007170771864345096, 0.9325306397980555, 0.06466993849314202, 0.0019746546104776187, 0.9914076721244, 0.9978353630750006, 0.9990965046488776, 0.04376206886411148, 0.05318774523484318, 0.21409750613519155, 0.055544164327526103, 0.002019787793728222, 0.015485039751916369, 0.41170007862160257, 0.18851352741463406, 0.015821671050871074, 0.9985850308917837, 0.9787263864919298, 0.01907848706611949, 0.5028567578777733, 0.16765070744341465, 0.024890122094841424, 0.16164274693776326, 0.02527157990472405, 0.059412053889219184, 0.0582676804595713, 0.6806447573401447, 0.25166696910055775, 0.06692053496537557, 0.12639434044402426, 0.14998795066024212, 0.7229756273398188, 0.998543169311557, 0.9978382656805376, 0.9955069591411164, 0.1501875827743518, 0.35536832274583785, 0.17686743131553573, 0.003629911366147475, 0.2013693330370312, 0.06198073657696814, 0.011434220803364547, 0.03911229497023905, 0.9938864162820246, 0.9979939949785681, 0.2142616213987575, 0.08040883977663123, 0.4456495968889123, 0.005708784697132428, 0.18025184022435156, 0.023563919813695555, 0.017490744603980205, 0.009474153327155945, 0.023078065796918328, 0.00012146350419430698, 0.2427273831950321, 0.3361717278992229, 0.14244564741492494, 0.12485360995918171, 0.022506412291558142, 0.015740244039349205, 0.07969833972865051, 0.0026352444771761117, 0.03326105867138497, 0.07979715953117761, 0.1012950244277049, 0.36473496205803096, 0.07833967716531134, 0.14793446013542513, 0.22773161966660274, 0.4847561729391245, 0.4428933708504877, 0.04165986606743149, 0.017162589221934196, 0.0004928446229271645, 0.0007247715043046536, 0.012292124713006924, 0.24758388619978347, 0.7267164328092091, 0.025442558253691048, 0.9532992587208589, 0.04596850616105175, 0.9972365114659631, 0.998146084312339, 0.009136645823498678, 0.08353504752913075, 0.07439840170563208, 0.818382418761953, 0.014357586294069349, 0.048832931523557936, 0.23868806716654953, 0.6138345130764993, 0.006845738064050178, 0.040161663309094375, 0.04335634107231779, 0.008214885676860214, 0.8636648069417638, 0.012522218949262247, 0.005892808917299881, 0.035725154061130526, 0.008102612261287336, 0.01694182563723716, 0.029464044586499406, 0.02725424124251195, 0.9963432016748789, 0.9972525453813729, 0.04615885710875012, 0.24680858290801083, 0.5576743552730626, 0.0009420174920153084, 0.029516548083146334, 0.0009420174920153084, 0.11743818067124179, 0.9868547917706929, 0.010018830373306527, 0.0026895030546544773, 0.9924266271675022, 0.0026895030546544773, 0.9981853170172408, 0.20344827523958145, 0.1602861215088164, 0.14280811357833376, 0.4735048124093559, 0.007992991431623159, 0.011936200537890582, 0.018139461284708877, 0.2690174343071232, 0.15064976321198897, 0.061797147766550584, 0.4593280535483909, 0.039660856029278733, 0.0015372424817549897, 0.9991702173393586, 0.05586378098596819, 0.039311549582718354, 0.821404483386273, 0.08276115701624917, 0.9986480222555596, 0.992894197554081, 0.9948884837986055, 0.9951238367035999, 0.07379528259837985, 0.12109995093067463, 0.08136402953154702, 0.7228153321174642, 0.9988588116956527, 0.3375087526640356, 0.6417155281861512, 0.017955924979342446, 0.0016703186027295298, 0.0011483440393765516, 0.5639091812462913, 0.3915146488407152, 0.016795070063772958, 0.017056471932469813, 6.535046717421385e-05, 0.00882231306851887, 0.0018298130808779877, 0.3088793804928846, 0.1188989189218437, 0.11644359793223412, 0.2016432362716864, 0.1419789362241737, 0.05039546331173654, 0.044870991085115, 0.016880331803565834, 0.31472802841621084, 0.23206087151743632, 0.18575408960521442, 0.0007904429344902741, 0.1593401215443311, 0.015808858689805482, 0.08964940282010526, 0.001844366847143973, 0.2776570571265778, 0.08581310341614297, 0.5564373224130527, 0.012579931390848184, 0.052566141883187055, 0.014377064446683638, 0.16646215221942198, 0.03535960749758964, 0.7974951475610217, 0.9961368038083112, 0.0020380656773966587, 0.04076131354793317, 0.9558528026990329, 0.029760076049988517, 0.06081406844997653, 0.7698802282497029, 0.13974296579994608, 0.21651246376824107, 0.18895633201591946, 0.2770193139122276, 0.032075920558257934, 0.25937755760518577, 0.026098135363309866, 0.9943796469741195, 0.9989607973622123, 0.9997289050255792, 0.9982257308111774, 0.35391331861503383, 0.515949517609944, 0.0004177728887529911, 0.10498035875950161, 2.984092062521365e-05, 0.005311683871288029, 0.010056390250697, 0.0038494787606525604, 0.003968842443153415, 0.0015517278725111097, 0.3272635809848178, 0.16922145858129323, 0.34104632421768327, 0.07703022051257058, 0.060031503858703116, 0.005513097293146204, 0.0012251327318102676, 0.001684557506239118, 0.016998716653867464, 0.2616336320312514, 0.06275579666052893, 0.33499987408091597, 0.14337704410447433, 0.14836486031304238, 0.032284774004549564, 0.00036275026971404006, 0.0011789383765706302, 0.013421759979419483, 0.0014510010788561603, 0.4701243636131307, 0.5065579533445229, 0.004455906657796176, 0.0050325534017462694, 0.003879259913846083, 0.003879259913846083, 0.00010484486253638062, 0.005451932851891792, 0.0004718018814137128, 0.4283682391863821, 0.10361826731014433, 0.37609593319978313, 0.017203543742424984, 0.07251955362191455, 0.0015880194223776907, 0.0005293398074592302, 0.996583221043966, 0.9989627518198683, 0.060469438780240685, 0.060118552288285707, 0.006198994691204557, 0.15474094295214394, 0.12362900733213618, 0.5949865281916525, 0.9968217829864653, 0.9946649245453276, 0.994340453458225, 0.9961451039439146, 0.9951952345131814, 0.9963378463923321, 0.9956616562167375, 0.03702474705390335, 0.13402958433513013, 0.8286138390663569, 0.1714178850312441, 0.24165835778524994, 0.27473558872203935, 0.01887347882863868, 0.02004091050876066, 0.05039413419193215, 0.0042805828271139275, 0.012258032641280793, 0.20644083543490352, 0.1656007986140516, 0.046480336987582895, 0.10668288401546978, 0.6812055418305805, 0.0854951851111392, 0.2641941375975367, 0.01808012931038845, 0.07554410618836725, 0.0004204681234974059, 0.0025228087409844354, 0.06643396351259012, 0.024106839080517938, 0.06124818998945546, 0.40210768210468584, 0.37912520443594955, 0.16615981182069395, 0.4006892041591583, 0.018053581163616644, 0.00016716278855200597, 0.02825051126528901, 0.0075223254848402685, 0.9953628792018032, 0.027842414332061072, 0.8116063777795803, 0.05614886890298983, 0.06589371391921121, 0.03851533982601782, 0.9961721815079263, 0.998502890030118, 0.1208211029985335, 0.8786242116015803, 0.9970953636509691, 0.9968388202569475, 0.8137817834961661, 0.18502651661795547, 0.9967407361702029, 0.5291381629913002, 0.23976779138286916, 0.10217339995930243, 0.11965303261857625, 0.00791530535514286, 0.0002638435118380954, 0.0008574914134738099, 0.0001978826338785715, 0.0030752539481985835, 0.8523578859757074, 0.009482033006945632, 0.04792270735942793, 0.08687592403660999, 0.9947511378174343, 0.9984523444454769, 0.04058332594266918, 0.03540247582232844, 0.7667658178104305, 0.157152453650336, 0.2360036368460482, 0.06350298662122582, 0.012321475016058741, 0.6568293989329775, 0.030803687540146854, 0.36079262164532766, 0.2851213757042466, 0.018056045669238418, 0.3007152333276798, 0.035127216120154736, 0.9986190917625439, 0.07725777520956933, 0.028541088930923702, 0.2155344302024928, 0.6756364672785904, 0.0024604387009416985, 0.9974153607497949, 0.9981394425645, 0.1471351283244023, 0.09075797488351951, 0.009426999427819745, 0.003881705646749307, 0.3591501938873287, 0.3404810381577249, 0.02606288077103106, 0.02292054762842448, 0.23090247979429268, 0.15462424766324276, 0.08615764171428832, 0.3476173651032486, 0.06800709852647824, 0.10063212552228876, 0.011947192984381313, 0.04735459302669384, 0.03883076628188895, 0.0009470918605338769, 0.0018941837210677537, 0.8628006849463619, 0.022730204652813044, 0.026518572094948553, 0.016378839298397143, 0.046796683709706126, 0.03431756805378449, 0.006239557827960817, 0.10997220671780938, 0.6364348984520033, 0.1497493878710596, 0.9582665407308347, 0.04081203325088734, 0.2085479255718347, 0.4249116326321934, 0.008705382633559218, 0.060556420801328, 0.064114825381469, 0.04251022614489867, 0.020079568702224184, 0.05591778625935848, 0.07517129675547851, 0.03952370801513747, 0.9967640646238274, 0.06353248622697084, 0.412661478936504, 0.2760066972407554, 0.0005993630776129325, 0.010788535397032785, 0.0017980892328387974, 0.23465064488546306, 0.19094373124940103, 0.40956805213629704, 0.2864301349989111, 0.05323861305278716, 0.04445758566778349, 0.011746804846163852, 0.0005815249923843491, 0.0005815249923843491, 0.002442404968014266, 0.11076803390985343, 0.8879601406871857, 0.9969252216903363, 0.9608249049240704, 0.039015191805248386, 0.021525454341005223, 0.8265774466946005, 0.15067818038703656, 0.15218618070703627, 0.7729456020120526, 0.02162645725836831, 0.05366565319669174, 0.9393793291095217, 0.05763063368770072, 0.9981730183266349, 0.998507852851784, 0.9972744817252587, 0.027559286945271728, 0.03916319723801771, 0.03336124209164472, 0.8993030476878142, 0.17569570768627718, 0.11436049441741915, 0.06924943433580745, 0.609790733208453, 0.022951241094153325, 0.007518510013601951, 0.8081352095836323, 0.0427890709138443, 0.0982992169642369, 0.003931968678569476, 0.0034693841281495373, 0.04325165546426423, 0.00023129227520996917, 0.18791904561988665, 0.12288853619417524, 0.6890365006062511, 0.9990946671228705, 0.9957178818302216, 0.9755617084870587, 0.020979821687893738, 0.04281565605700437, 0.0366991337631466, 0.05598970407454417, 0.0004705017149121359, 0.1270354630262767, 0.06398823322805049, 0.5147288761138767, 0.15385406077626845, 0.0037640137192970873, 0.13739913205049137, 0.06700328044437542, 0.052584853006978176, 0.05046449603089035, 0.6920845169950677, 0.09437802074961142, 0.07010938684256848, 0.6675800406492922, 0.038906857533513285, 0.004237380523451941, 0.11055711002097339, 0.008859977458126786, 0.0050078133458977495, 0.9952646514821182, 0.06443404788937745, 0.07717101084425439, 0.7245084221979999, 0.02097852721979731, 0.08541257510917476, 0.02772162525473216, 0.9696329003318874, 0.012354821938244755, 0.012134200117918955, 0.005515545508144979, 0.9946157244216904, 0.9916668002749194, 0.17202061525020698, 0.7658318916223904, 0.04956526202124608, 0.012634282476003903, 0.6770282207032716, 0.2037811860015653, 0.007860995305698365, 0.07437710943083838, 0.0026455272663407957, 0.007483062839078251, 0.004157257132821251, 0.007407476345754229, 0.014966125678156502, 0.00030234597329609095, 0.4676574592934972, 0.4816723550256231, 0.039318239903779764, 0.01018830304076045, 0.0011001453987675603, 0.0050829517529167, 0.10420051093479235, 0.8903637153859086, 0.9976999234080157, 0.3582493263971025, 0.3216043666869554, 0.05740189493058009, 0.07981027355675396, 0.008000958569192959, 0.04023257814330836, 0.03450947254755112, 0.043962562387309355, 0.02018747197707405, 0.036047023304620236, 0.9909645816370658, 0.008901495596618408, 0.04450747798309204, 0.0025432844561766883, 0.08180898334035014, 0.08859107522348797, 0.1877791690143788, 0.0462030009538765, 0.2619582989861989, 0.2776418864659551, 0.37328366841423005, 0.038526984125321906, 0.028253121691902732, 0.559925502621345, 0.6327204412567397, 0.18033182186126379, 0.11303219381793912, 0.051449136496441256, 0.022346594639868423, 0.9219701994961121, 0.021503678122358302, 0.056447155071190545, 0.996512443729088, 0.9985535054181579, 0.9946119854931248, 0.9946572232140182, 0.03474075069188728, 0.12506670249079418, 0.171966715924842, 0.16545282517011314, 0.016067597194997865, 0.052545385421479504, 0.4325223461139966, 0.002605556301891546, 0.29183592948226267, 0.19327970564209893, 0.0005475345768897986, 0.00013688364422244966, 0.059544385236765605, 0.45459058246275535, 0.17188497852035792, 0.13931520789373897, 0.1824602241658912, 0.18514127235771655, 0.0944324752009592, 0.06330252675143164, 0.012213663984982104, 0.0648912960502911, 0.03564801114315915, 0.05074131948232403, 0.7905961555305223, 0.04597192641187429, 0.11855917864114948, 0.0447621388747197, 0.13908268994369932, 0.860988080603853, 0.96739021405095, 0.03129024951108194, 0.9981642515334243, 0.99791538852588, 0.123788258128938, 0.2024617515327664, 0.2775297616901209, 0.09152380548741496, 0.0005546897302267572, 0.283446452145873, 0.0017565174790513981, 0.018951899116080875, 0.14398535207470392, 0.8552572552196893, 0.13011886770716904, 0.3230537405143507, 0.009534572202680489, 0.0052346670916677196, 0.4494335602988999, 0.05290752810507017, 0.029538478588696418, 0.12399605455027511, 0.8303556012580221, 0.027864281921410137, 0.018111783248916588, 0.019037177865673258, 0.027690440531888374, 0.7692750510265239, 0.18344916852376048, 0.9961387651386394, 0.09670238255609291, 0.06123560614583534, 0.7179251381170108, 0.11415868657051656, 0.00609585219551302, 0.003602094479166785, 0.02594076943900339, 0.02087915588992956, 0.21195506736746675, 0.09617065743240281, 0.5631045073344638, 0.08161851847881554, 0.0616981145237349, 0.1693731893896761, 0.10767507486594119, 0.5733771892999018, 0.08720791187489452, 0.00029662555059487933, 0.9978271365075281, 0.02143081245383788, 0.13327286494730434, 0.6951619789713663, 0.07232899203170286, 0.07165927914252042, 0.006027416002641904, 0.9983075252237106, 0.9977680620081605, 0.995312895905978, 0.9975453528038833, 0.0651451288834805, 0.0279570188730726, 0.028484509795206045, 0.6801995440910777, 0.043518001076009234, 0.061452692428546375, 0.016615964047203526, 0.032440691711206886, 0.03903432823787495, 0.005011163760267731, 0.9991132223378589, 0.0006697591569216416, 0.8982131951044783, 0.0041076822946851145, 0.09584592020931933, 0.001052049544019611, 0.1220377471062749, 0.8753052206243165, 0.9998626873378597, 0.5171989096270097, 0.45000577827204513, 0.004272689654668452, 0.0019328834152071567, 0.022787678158231742, 0.0037131707713190113, 0.5859504461091471, 0.3925654472371017, 0.001601374202016149, 0.005642937664247383, 0.004346587119758119, 0.00991326886962378, 0.33720727649034316, 0.26719988123166316, 0.14022861884741095, 0.15224577099627415, 0.03729166076088513, 0.007270163221732193, 0.02719896358248044, 0.01081971350057791, 0.013257356463158704, 0.007312928887742382, 0.892419126028686, 0.007978204191827334, 0.099157680669854, 0.2673959508912293, 0.25425799954686257, 0.06028001205062395, 0.41732316035047345, 0.19770201745057925, 0.48296379679794754, 0.0776711544258661, 0.027070939601249944, 0.08745456394497067, 0.05698222390159477, 0.014447185383050488, 0.03857258233338723, 0.014061459559716617, 0.003155938554549864, 0.9974803424959577, 0.9970037767038492, 0.08572002861277872, 0.06005693362685423, 0.1706463532569206, 0.029102478850017467, 0.06508372542822088, 0.4542632380498181, 0.026456798954561333, 0.10820830772415585, 0.00031885020652970704, 0.6201636517002802, 0.113191823318046, 0.20980343589654724, 0.05643648655575814, 0.9978263385815059, 0.23090332543202519, 0.7440218263920811, 0.020943612284083916, 0.004188722456816783, 0.27305637835337393, 0.19877508393809437, 0.3291823284632429, 0.09980252126745658, 0.031330937029908405, 0.00031123447380703714, 0.048967557212307174, 0.008610820441994694, 0.00145242754443284, 0.008507075617392348, 0.002345158848702483, 0.0100320684083384, 0.04872718941192937, 0.6932550129969951, 0.11308877114854196, 0.10748644723219714, 0.02501502771949315, 0.07482431616037548, 0.022560095324736323, 0.007144030186166503, 0.6110025817116088, 0.05959625181617846, 0.0016920071493552243, 0.11975650601547533, 0.0007520031774912109, 0.10246043293317747, 0.7245206591613508, 0.003407905264164397, 0.23696301270156442, 0.03476063369447685, 0.999165874934261, 0.9957892606004047, 0.04574225631075591, 0.09910822200663781, 0.8538554511341103, 0.23057462218149338, 0.19731787553339508, 0.35100685076111665, 0.041900208029410975, 0.06453784498046798, 0.0740044931600009, 0.003375065872703045, 0.00032927471928810196, 0.018357065600311685, 0.01860402163977776, 0.0339842111338176, 0.1953642613592213, 0.20507403596888346, 0.09709774609662172, 0.3570140275460045, 0.06832804354947454, 0.006922709675407289, 0.03632174946577331, 0.9384021218924479, 0.03527827525911458, 0.016787593054337285, 0.0019463876005028735, 0.0072989535018857755, 0.9998752642544706, 0.50666551971811, 0.2826437803413074, 0.04594156515072346, 0.04297272359114768, 2.515967423369302e-05, 0.030342567125833782, 0.07635961129925832, 0.001358622408619423, 0.0002515967423369302, 0.013435266040792072, 0.02673301775934113, 0.9712996452560609, 0.9130956917445976, 0.04150434962475444, 0.03483400772077604, 0.01037608740618861, 0.21591781511349947, 0.3512962943296752, 0.12162344656854288, 0.09664720307678853, 0.004343694520305102, 0.019365638069693582, 0.03149178527221199, 0.15908781180617437, 0.09201007156330834, 0.4068055620326122, 0.12119894522327543, 0.0016854467730164724, 0.08940529018682833, 0.08948190140378363, 0.03194687747035768, 0.012411017146757661, 0.15513771433447077, 0.15691554624300663, 0.22305931909880314, 0.3805612463068434, 0.07482221113829464, 0.0750567635243081, 0.000586380965033657, 0.01336948600276738, 0.031547295918810746, 0.02087516235519819, 0.02322068621533282, 0.07059571639048175, 0.07018287594375379, 0.06110038611573859, 0.08793501515305621, 0.006192606700919452, 0.7038929616711777, 0.11469589607737227, 0.10339580779388731, 0.4860921309945777, 0.08220814226235303, 0.1642279497199813, 0.004990872325205854, 0.044447013915040814]}, \"plot.opts\": {\"ylab\": \"PC2\", \"xlab\": \"PC1\"}, \"mdsDat\": {\"y\": [-0.17813049125521369, -0.12728348690050773, -0.15178819347627354, -0.0076816978174734365, -0.06299272332225049, 0.06943410510123084, 0.029317743284230972, 0.08089697887801378, 0.0648625646553032, 0.2833652008529401], \"x\": [-0.005647505443861362, -0.014106855803809847, 0.07958788589332169, 0.05997642317708268, -0.05235052814688261, -0.14242661847974614, 0.2734767328679946, -0.05706088865043263, -0.24261116261007787, 0.10116251719641181], \"topics\": [1, 2, 3, 4, 5, 6, 7, 8, 9, 10], \"Freq\": [22.84509471457104, 17.6558793304023, 13.15958039954819, 10.339358646470368, 9.002255762030948, 6.510098359465047, 6.034356808345824, 5.536197994400854, 4.6357140855952625, 4.28146389917017], \"cluster\": [1, 1, 1, 1, 1, 1, 1, 1, 1, 1]}, \"topic.order\": [1, 9, 6, 5, 3, 2, 4, 8, 10, 7], \"R\": 30};\n",
       "\n",
       "function LDAvis_load_lib(url, callback){\n",
       "  var s = document.createElement('script');\n",
       "  s.src = url;\n",
       "  s.async = true;\n",
       "  s.onreadystatechange = s.onload = callback;\n",
       "  s.onerror = function(){console.warn(\"failed to load library \" + url);};\n",
       "  document.getElementsByTagName(\"head\")[0].appendChild(s);\n",
       "}\n",
       "\n",
       "if(typeof(LDAvis) !== \"undefined\"){\n",
       "   // already loaded: just create the visualization\n",
       "   !function(LDAvis){\n",
       "       new LDAvis(\"#\" + \"ldavis_el355141396302770825924044099671\", ldavis_el355141396302770825924044099671_data);\n",
       "   }(LDAvis);\n",
       "}else if(typeof define === \"function\" && define.amd){\n",
       "   // require.js is available: use it to load d3/LDAvis\n",
       "   require.config({paths: {d3: \"https://cdnjs.cloudflare.com/ajax/libs/d3/3.5.5/d3.min\"}});\n",
       "   require([\"d3\"], function(d3){\n",
       "      window.d3 = d3;\n",
       "      LDAvis_load_lib(\"https://cdn.rawgit.com/bmabey/pyLDAvis/files/ldavis.v1.0.0.js\", function(){\n",
       "        new LDAvis(\"#\" + \"ldavis_el355141396302770825924044099671\", ldavis_el355141396302770825924044099671_data);\n",
       "      });\n",
       "    });\n",
       "}else{\n",
       "    // require.js not available: dynamically load d3 & LDAvis\n",
       "    LDAvis_load_lib(\"https://cdnjs.cloudflare.com/ajax/libs/d3/3.5.5/d3.min.js\", function(){\n",
       "         LDAvis_load_lib(\"https://cdn.rawgit.com/bmabey/pyLDAvis/files/ldavis.v1.0.0.js\", function(){\n",
       "                 new LDAvis(\"#\" + \"ldavis_el355141396302770825924044099671\", ldavis_el355141396302770825924044099671_data);\n",
       "            })\n",
       "         });\n",
       "}\n",
       "</script>"
      ],
      "text/plain": [
       "PreparedData(topic_coordinates=            Freq  cluster  topics         x         y\n",
       "topic                                                \n",
       "0      22.845095        1       1 -0.005648 -0.178130\n",
       "8      17.655879        1       2 -0.014107 -0.127283\n",
       "5      13.159580        1       3  0.079588 -0.151788\n",
       "4      10.339359        1       4  0.059976 -0.007682\n",
       "2       9.002256        1       5 -0.052351 -0.062993\n",
       "1       6.510098        1       6 -0.142427  0.069434\n",
       "3       6.034357        1       7  0.273477  0.029318\n",
       "7       5.536198        1       8 -0.057061  0.080897\n",
       "9       4.635714        1       9 -0.242611  0.064863\n",
       "6       4.281464        1      10  0.101163  0.283365, topic_info=      Category           Freq        Term          Total  loglift  logprob\n",
       "term                                                                      \n",
       "40666  Default  117699.000000        film  117699.000000  30.0000  30.0000\n",
       "52142  Default   17125.000000        show   17125.000000  29.0000  29.0000\n",
       "45055  Default   12923.000000       funny   12923.000000  28.0000  28.0000\n",
       "30515  Default   27019.000000         bad   27019.000000  27.0000  27.0000\n",
       "13229  Default    9302.000000      comedy    9302.000000  26.0000  26.0000\n",
       "34351  Default   27529.000000      people   27529.000000  25.0000  25.0000\n",
       "34285  Default   10276.000000      action   10276.000000  24.0000  24.0000\n",
       "31129  Default   26962.000000       great   26962.000000  23.0000  23.0000\n",
       "17435  Default   34493.000000      really   34493.000000  22.0000  22.0000\n",
       "8903   Default   10158.000000      horror   10158.000000  21.0000  21.0000\n",
       "43252  Default   43038.000000        good   43038.000000  20.0000  20.0000\n",
       "41684  Default    8549.000000      series    8549.000000  19.0000  19.0000\n",
       "31841  Default   33511.000000         see   33511.000000  18.0000  18.0000\n",
       "17691  Default   58622.000000        like   58622.000000  17.0000  17.0000\n",
       "8370   Default    5972.000000         war    5972.000000  16.0000  16.0000\n",
       "49701  Default   22335.000000      movies   22335.000000  15.0000  15.0000\n",
       "4003   Default    7305.000000          tv    7305.000000  14.0000  14.0000\n",
       "39     Default   17413.000000        life   17413.000000  13.0000  13.0000\n",
       "85     Default   20906.000000       think   20906.000000  12.0000  12.0000\n",
       "35632  Default   12596.000000         new   12596.000000  11.0000  11.0000\n",
       "39853  Default   19659.000000       watch   19659.000000  10.0000  10.0000\n",
       "28556  Default   21619.000000  characters   21619.000000   9.0000   9.0000\n",
       "49042  Default   19075.000000        seen   19075.000000   8.0000   8.0000\n",
       "9352   Default   34392.000000       story   34392.000000   7.0000   7.0000\n",
       "50120  Default   39746.000000       would   39746.000000   6.0000   6.0000\n",
       "45295  Default   18791.000000        best   18791.000000   5.0000   5.0000\n",
       "19546  Default    9383.000000        role    9383.000000   4.0000   4.0000\n",
       "35874  Default    8218.000000        girl    8218.000000   3.0000   3.0000\n",
       "26415  Default    4233.000000     episode    4233.000000   2.0000   2.0000\n",
       "43097  Default    7746.000000         fun    7746.000000   1.0000   1.0000\n",
       "...        ...            ...         ...            ...      ...      ...\n",
       "31961  Topic10    1530.639633         gay    2560.969903   2.6362  -5.4763\n",
       "4003   Topic10    3320.724393          tv    7305.474702   2.3624  -4.7018\n",
       "26380  Topic10    2868.717039       shows    7134.904722   2.2397  -4.8481\n",
       "7298   Topic10     429.291773     program     593.380999   2.8272  -6.7476\n",
       "35632  Topic10    3814.836379         new   12596.277322   1.9564  -4.5631\n",
       "11837  Topic10     382.127773         san     528.489066   2.8266  -6.8640\n",
       "6677   Topic10     654.379711        tony    1168.012525   2.5715  -6.3260\n",
       "35735  Topic10    1366.983171        city    3837.025799   2.1188  -5.5893\n",
       "45547  Topic10     318.919258       aired     426.873041   2.8593  -7.0448\n",
       "2933   Topic10    2025.058843       years   13052.918877   1.2875  -5.1964\n",
       "41447  Topic10    1491.838438      family    7996.822826   1.4718  -5.5019\n",
       "39     Topic10    2060.563691        life   17413.021055   1.0166  -5.1790\n",
       "36014  Topic10     539.539293        week    1293.961254   2.2761  -6.5190\n",
       "27856  Topic10     782.637943     stories    3336.875551   1.7008  -6.1470\n",
       "46622  Topic10    1640.629868       first   25670.934540   0.4006  -5.4069\n",
       "25113  Topic10     654.857013         tom    2359.154119   1.8692  -6.3253\n",
       "37088  Topic10     879.342893        year    5525.250426   1.3130  -6.0305\n",
       "736    Topic10    1014.655521        last    8835.343375   0.9867  -5.8874\n",
       "49579  Topic10     608.745428          de    2303.771492   1.8200  -6.3983\n",
       "23410  Topic10    1266.293310        time   35120.791786  -0.1718  -5.6659\n",
       "26532  Topic10    1022.043137         two   20141.376110   0.1699  -5.8802\n",
       "6251   Topic10     824.287584      always    9060.675894   0.7537  -6.0952\n",
       "8993   Topic10     748.985881         day    7255.695582   0.8801  -6.1910\n",
       "24192  Topic10     624.973656     reality    2744.458591   1.6712  -6.3720\n",
       "19710  Topic10     765.517214       every   11762.954358   0.4187  -6.1692\n",
       "55222  Topic10     682.978215       later    6318.157594   0.9262  -6.2832\n",
       "45295  Topic10     749.680737        best   18791.591815  -0.0706  -6.1901\n",
       "13264  Topic10     750.483667        also   26953.020392  -0.4303  -6.1890\n",
       "55303  Topic10     710.519169       never   19235.514237  -0.1476  -6.2437\n",
       "6753   Topic10     658.782300         one   77384.297959  -1.6153  -6.3193\n",
       "\n",
       "[815 rows x 6 columns], token_table=       Topic      Freq         Term\n",
       "term                               \n",
       "27902      1  0.998684         1/10\n",
       "38171      2  0.980630        10/10\n",
       "38171      9  0.018679        10/10\n",
       "16196      1  0.995610         2/10\n",
       "45041      4  0.996669           21\n",
       "56040      1  0.996715         3/10\n",
       "39115      7  0.995005         9/11\n",
       "36065     10  0.996953          abc\n",
       "1672       2  0.990412         abel\n",
       "20339      1  0.996783  abomination\n",
       "20532      1  0.995998      abysmal\n",
       "40562      3  0.997292   accessible\n",
       "25726      1  0.631850       acting\n",
       "25726      2  0.277287       acting\n",
       "25726      3  0.044397       acting\n",
       "25726      5  0.022143       acting\n",
       "25726      6  0.024268       acting\n",
       "34285      1  0.062471       action\n",
       "34285      2  0.147808       action\n",
       "34285      3  0.035517       action\n",
       "34285      5  0.032014       action\n",
       "34285      8  0.722012       action\n",
       "2739       1  0.276272        actor\n",
       "2739       2  0.268155        actor\n",
       "2739       3  0.092871        actor\n",
       "2739       5  0.025598        actor\n",
       "2739       6  0.319976        actor\n",
       "2739       8  0.000468        actor\n",
       "2739      10  0.016545        actor\n",
       "16249      1  0.580512     actually\n",
       "...      ...       ...          ...\n",
       "2933       4  0.121199        years\n",
       "2933       5  0.001685        years\n",
       "2933       6  0.089405        years\n",
       "2933       7  0.089482        years\n",
       "2933       8  0.031947        years\n",
       "2933       9  0.012411        years\n",
       "2933      10  0.155138        years\n",
       "34682      1  0.156916          yet\n",
       "34682      2  0.223059          yet\n",
       "34682      3  0.380561          yet\n",
       "34682      4  0.074822          yet\n",
       "34682      5  0.075057          yet\n",
       "34682      6  0.000586          yet\n",
       "34682      7  0.013369          yet\n",
       "34682      8  0.031547          yet\n",
       "34682      9  0.020875          yet\n",
       "34682     10  0.023221          yet\n",
       "10837      2  0.070596         york\n",
       "10837      4  0.070183         york\n",
       "10837      5  0.061100         york\n",
       "10837      6  0.087935         york\n",
       "10837      8  0.006193         york\n",
       "10837     10  0.703893         york\n",
       "36892      2  0.114696        young\n",
       "36892      3  0.103396        young\n",
       "36892      4  0.486092        young\n",
       "36892      5  0.082208        young\n",
       "36892      6  0.164228        young\n",
       "36892      7  0.004991        young\n",
       "36892     10  0.044447        young\n",
       "\n",
       "[2440 rows x 3 columns], R=30, lambda_step=0.01, plot_opts={'ylab': 'PC2', 'xlab': 'PC1'}, topic_order=[1, 9, 6, 5, 3, 2, 4, 8, 10, 7])"
      ]
     },
     "execution_count": 97,
     "metadata": {},
     "output_type": "execute_result"
    }
   ],
   "source": [
    "# http://nbviewer.jupyter.org/github/bmabey/pyLDAvis/blob/master/notebooks/pyLDAvis_overview.ipynb  \n",
    "\n",
    "import pyLDAvis\n",
    "import pyLDAvis.gensim\n",
    "pyLDAvis.enable_notebook()\n",
    "pyLDAvis.gensim.prepare(lda_tf, corpus_tf, dictionary)"
   ]
  },
  {
   "cell_type": "markdown",
   "metadata": {},
   "source": [
    "Making predictions with LDA vectors:"
   ]
  },
  {
   "cell_type": "code",
   "execution_count": 116,
   "metadata": {
    "collapsed": false
   },
   "outputs": [
    {
     "name": "stdout",
     "output_type": "stream",
     "text": [
      "Parsing sentences from training set\n"
     ]
    }
   ],
   "source": [
    "#For predictions we need the labeled set:\n",
    "print(\"Parsing sentences from training set\")\n",
    "sentences2 = Text_Cleaning_Utilities.df_to_list_of_tokens(train,\n",
    "                                                         'review', \n",
    "                                                         remove_html=True,\n",
    "                                                         remove_stopwords=True,)"
   ]
  },
  {
   "cell_type": "code",
   "execution_count": 117,
   "metadata": {
    "collapsed": false
   },
   "outputs": [
    {
     "name": "stdout",
     "output_type": "stream",
     "text": [
      "Building dictionary...\n",
      "126469 Tokens extracted from 25000 texts\n",
      "32397 Tokens after cleaning\n",
      "dictionary done\n",
      "corpus tf done\n",
      "corpus lda tf done\n",
      "lda vectors done\n"
     ]
    }
   ],
   "source": [
    "additional_stopwords=set(['n\\'t', 'movie'])\n",
    "dictionary2 = prep_corpus(sentences2, additional_stopwords)\n",
    "dictionary2.compactify()\n",
    "print('dictionary done')\n",
    "\n",
    "corpus_tf2 = [dictionary2.doc2bow(sentence) for sentence in sentences2]\n",
    "print('corpus tf done')\n",
    "\n",
    "lda_tf2 = models.LdaModel(corpus_tf2, id2word=dictionary2, num_topics=10, passes=10)\n",
    "corpus_lda_tf2 = lda_tf2[corpus_tf2]\n",
    "print('corpus lda tf done')\n",
    "\n",
    "X = gensim.matutils.corpus2csc(corpus_lda_tf2)\n",
    "X = X.T\n",
    "print('lda vectors done')"
   ]
  },
  {
   "cell_type": "code",
   "execution_count": 119,
   "metadata": {
    "collapsed": false
   },
   "outputs": [],
   "source": [
    "X_traincv_tf, X_testcv_tf, y_traincv_tf, y_testcv_tf = train_test_split(X,\n",
    "                                                                        train[\"sentiment\"],\n",
    "                                                                        test_size=0.2,\n",
    "                                                                        random_state=0)"
   ]
  },
  {
   "cell_type": "code",
   "execution_count": 121,
   "metadata": {
    "collapsed": false
   },
   "outputs": [],
   "source": [
    "from sklearn.linear_model import LogisticRegression as LR\n",
    "\n",
    "clf_LR_tf_lda = LR(penalty='l2',\n",
    "                   dual=False,\n",
    "                   tol=0.0001,\n",
    "                   C=1.0,\n",
    "                   fit_intercept=True,\n",
    "                   intercept_scaling=1,\n",
    "                   class_weight=None,\n",
    "                   random_state=0,\n",
    "                   solver='liblinear',\n",
    "                   max_iter=100,\n",
    "                   multi_class='ovr',\n",
    "                   verbose=0).fit(X_traincv_tf, y_traincv_tf)"
   ]
  },
  {
   "cell_type": "code",
   "execution_count": 122,
   "metadata": {
    "collapsed": false
   },
   "outputs": [
    {
     "name": "stdout",
     "output_type": "stream",
     "text": [
      "0.7768\n"
     ]
    }
   ],
   "source": [
    "eval_LR_tf_lda = clf_LR_tf_lda.score(X_testcv_tf, y_testcv_tf)\n",
    "print(eval_LR_tf_lda)"
   ]
  },
  {
   "cell_type": "markdown",
   "metadata": {},
   "source": [
    "#### Using Scikit-learn implementation"
   ]
  },
  {
   "cell_type": "code",
   "execution_count": 98,
   "metadata": {
    "collapsed": true
   },
   "outputs": [],
   "source": [
    "from sklearn.decomposition import LatentDirichletAllocation"
   ]
  },
  {
   "cell_type": "raw",
   "metadata": {
    "collapsed": false
   },
   "source": [
    "# for TF\n",
    "lda_tf2 = LatentDirichletAllocation(n_topics=10, random_state=0)\n",
    "lda_tf2.fit(X_traincv_tf, y_traincv_tf)"
   ]
  },
  {
   "cell_type": "raw",
   "metadata": {
    "collapsed": false
   },
   "source": [
    "# for TFIDF\n",
    "lda_tfidf2 = LatentDirichletAllocation(n_topics=20, random_state=0)\n",
    "lda_tfidf2.fit(X_traincv_tfidf, y_traincv_tfidf)"
   ]
  },
  {
   "cell_type": "raw",
   "metadata": {
    "collapsed": true
   },
   "source": [
    "# http://nbviewer.jupyter.org/github/bmabey/pyLDAvis/blob/master/notebooks/sklearn.ipynb\n",
    "import pyLDAvis\n",
    "import pyLDAvis.sklearn\n",
    "pyLDAvis.enable_notebook()"
   ]
  },
  {
   "cell_type": "raw",
   "metadata": {
    "collapsed": false
   },
   "source": [
    "pyLDAvis.sklearn.prepare(lda_tf2, test_data_features_tf, vectorizer_tf)"
   ]
  },
  {
   "cell_type": "markdown",
   "metadata": {},
   "source": [
    "### Distributed Word Vectors\n",
    "\n",
    "https://www.kaggle.com/c/word2vec-nlp-tutorial/details/part-2-word-vectors  \n",
    "\n",
    "Introducing Distributed Word Vectors: This part of the tutorial will focus on using distributed word vectors created by the Word2Vec algorithm.\n",
    "\n",
    "Word2vec, published by Google in 2013, is a neural network implementation that learns distributed representations for words. Other deep or recurrent neural network architectures had been proposed for learning word representations prior to this, but the major problem with these was the long time required to train the models. Word2vec learns quickly relative to other models.\n",
    "\n",
    "Word2Vec does not need labels in order to create meaningful representations. This is useful, since most data in the real world is unlabeled. If the network is given enough training data (tens of billions of words), it produces word vectors with intriguing characteristics. Words with similar meanings appear in clusters, and clusters are spaced such that some word relationships, such as analogies, can be reproduced using vector math. The famous example is that, with highly trained word vectors, \"king - man + woman = queen.\"\n",
    "\n",
    "Distributed word vectors are powerful and can be used for many applications, particularly word prediction and translation. Here, we will try to apply them to sentiment analysis.\n",
    "\n",
    "Using word2vec in Python: In Python, we will use the excellent implementation of word2vec from the gensim package. If you don't already have gensim installed, you'll need to install it. There is an excellent tutorial that accompanies the Python Word2Vec implementation, here.\n",
    "\n",
    "Although Word2Vec does not require graphics processing units (GPUs) like many deep learning algorithms, it is compute intensive. Both Google's version and the Python version rely on multi-threading (running multiple processes in parallel on your computer to save time). ln order to train your model in a reasonable amount of time, you will need to install cython (instructions here). Word2Vec will run without cython installed, but it will take days to run instead of minutes.\n",
    "\n",
    "Preparing to Train a Model\n",
    "\n",
    "First, we read in the data with pandas, as we did in Part 1. Unlike Part 1, we now use unlabeledTrain.tsv, which contains 50,000 additional reviews with no labels. When we built the Bag of Words model in Part 1, extra unlabeled training reviews were not useful. However, since Word2Vec can learn from unlabeled data, these extra 50,000 reviews can now be used.  \n",
    "\n",
    "The functions we write to clean the data are also similar to Part 1, although now there are a couple of differences. First, to train Word2Vec it is better not to remove stop words because the algorithm relies on the broader context of the sentence in order to produce high-quality word vectors. For this reason, we will make stop word removal optional in the functions below. It also might be better not to remove numbers, but we leave that as an exercise for the reader.  "
   ]
  },
  {
   "cell_type": "code",
   "execution_count": null,
   "metadata": {
    "collapsed": true
   },
   "outputs": [],
   "source": [
    "# Import the built-in logging module and configure it so that Word2Vec creates nice output messages\n",
    "logging.basicConfig(format='%(asctime)s : %(levelname)s : %(message)s', level=logging.INFO)"
   ]
  },
  {
   "cell_type": "markdown",
   "metadata": {},
   "source": [
    "https://radimrehurek.com/gensim/models/word2vec.html  \n",
    "\n",
    "Training and Saving Your Model\n",
    "\n",
    "With the list of nicely parsed sentences, we're ready to train the model. There are a number of parameter choices that affect the run time and the quality of the final model that is produced. For details on the algorithms below, see the word2vec API documentation as well as the Google documentation. \n",
    "\n",
    "Architecture: Architecture options are skip-gram (default) or continuous bag of words. We found that skip-gram was very slightly slower but produced better results.\n",
    "\n",
    "Training algorithm: Hierarchical softmax (default) or negative sampling. For us, the default worked well.\n",
    "\n",
    "Downsampling of frequent words: The Google documentation recommends values between .00001 and .001. For us, values closer 0.001 seemed to improve the accuracy of the final model.\n",
    "\n",
    "Word vector dimensionality: More features result in longer runtimes, and often, but not always, result in better models. Reasonable values can be in the tens to hundreds; we used 300.\n",
    "\n",
    "Context / window size: How many words of context should the training algorithm take into account? 10 seems to work well for hierarchical softmax (more is better, up to a point).\n",
    "\n",
    "Worker threads: Number of parallel processes to run. This is computer-specific, but between 4 and 6 should work on most systems.\n",
    "\n",
    "Minimum word count: This helps limit the size of the vocabulary to meaningful words. Any word that does not occur at least this many times across all documents is ignored. Reasonable values could be between 10 and 100. In this case, since each movie occurs 30 times, we set the minimum word count to 40, to avoid attaching too much importance to individual movie titles. This resulted in an overall vocabulary size of around 15,000 words. Higher values also help limit run time.\n",
    "\n",
    "Choosing parameters is not easy, but once we have chosen our parameters, creating a Word2Vec model is straightforward:"
   ]
  },
  {
   "cell_type": "raw",
   "metadata": {},
   "source": [
    "# Split the labeled and unlabeled training sets into clean sentences\n",
    "sentences = []  # Initialize an empty list of sentences\n",
    "print(\"Parsing sentences from training set\")\n",
    "for review in train[\"review\"]:\n",
    "    sentences += KaggleWord2VecUtility.review_to_sentences(review, tokenizer)\n",
    "    \n",
    "print(\"Parsing sentences from unlabeled set\")\n",
    "for review in unlabeled_train[\"review\"]:\n",
    "    sentences += KaggleWord2VecUtility.review_to_sentences(review, tokenizer)"
   ]
  },
  {
   "cell_type": "code",
   "execution_count": 123,
   "metadata": {
    "collapsed": true
   },
   "outputs": [],
   "source": [
    "sentences_w2v = Text_Cleaning_Utilities.df_to_list_of_texts(train, 'review')\n",
    "#sentences_w2v += Text_Cleaning_Utilities.df_to_list_of_texts(unlabeled_train, 'review')"
   ]
  },
  {
   "cell_type": "code",
   "execution_count": 124,
   "metadata": {
    "collapsed": true
   },
   "outputs": [],
   "source": [
    "num_features = 300    # Word vector dimensionality\n",
    "min_word_count = 20   # Minimum word count\n",
    "num_workers = -1       # Number of threads to run in parallel\n",
    "context = 10          # Context window size\n",
    "downsampling = 1e-3   # Downsample setting for frequent words"
   ]
  },
  {
   "cell_type": "code",
   "execution_count": 125,
   "metadata": {
    "collapsed": false
   },
   "outputs": [],
   "source": [
    "# Initialize and train the model (this will take some time)\n",
    "model = Word2Vec(sentences,\n",
    "                 workers = num_workers,\n",
    "                 size = num_features,\n",
    "                 min_count = min_word_count, \n",
    "                 window = context,\n",
    "                 sample = downsampling,\n",
    "                 seed=1,)"
   ]
  },
  {
   "cell_type": "raw",
   "metadata": {
    "collapsed": true
   },
   "source": [
    "#Optionally converting the model for Bigrams (to capture more context):\n",
    "bigram_transformer = gensim.models.Phrases(sentences)\n",
    "model = Word2Vec(bigram_transformer[sentences],\n",
    "                 workers = num_workers,\n",
    "                 size = num_features,\n",
    "                 min_count = min_word_count, \n",
    "                 window = context,\n",
    "                 sample = downsampling,\n",
    "                 seed=1,)"
   ]
  },
  {
   "cell_type": "code",
   "execution_count": 126,
   "metadata": {
    "collapsed": true
   },
   "outputs": [],
   "source": [
    "# If you don't plan to train the model any further, calling init_sims will make the model much more memory-efficient.\n",
    "model.init_sims(replace=True)"
   ]
  },
  {
   "cell_type": "code",
   "execution_count": 127,
   "metadata": {
    "collapsed": true
   },
   "outputs": [],
   "source": [
    "# It can be helpful to create a meaningful model name and save the model for later use. \n",
    "#You can load it later using Word2Vec.load()\n",
    "model_name = \"300features_20minwords_10context\"\n",
    "model.save(os.path.join(outputs,model_name))\n",
    "model = Word2Vec.load(os.path.join(outputs,model_name))"
   ]
  },
  {
   "cell_type": "markdown",
   "metadata": {},
   "source": [
    "Exploring the Model Results\n",
    "\n",
    "Congratulations on making it successfully through everything so far! Let's take a look at the model we created out of our 75,000 training reviews.\n",
    "\n",
    "The \"doesnt_match\" function will try to deduce which word in a set is most dissimilar from the others:"
   ]
  },
  {
   "cell_type": "code",
   "execution_count": 128,
   "metadata": {
    "collapsed": false
   },
   "outputs": [
    {
     "name": "stdout",
     "output_type": "stream",
     "text": [
      "kitchen\n",
      "berlin\n",
      "london\n",
      "[('soapy', 0.22598186135292053), ('portrayed', 0.22396528720855713), ('misanthropic', 0.2223636656999588), ('ewoks', 0.21959269046783447), ('summarise', 0.21522025763988495), ('reverse', 0.21521294116973877), ('himalayas', 0.21373456716537476), ('chopra', 0.21082362532615662), ('earthy', 0.20966412127017975), ('float', 0.20761945843696594)]\n",
      "[('fighter', 0.23674684762954712), ('mill', 0.22305384278297424), ('topic', 0.21647556126117706), ('mouthing', 0.21262910962104797), ('spoke', 0.21038804948329926), ('frenchman', 0.20189017057418823), ('rhythm', 0.20006999373435974), ('limited', 0.1959758698940277), ('greengrass', 0.19358870387077332), ('perilous', 0.19223643839359283)]\n",
      "[('stupider', 0.2112359255552292), ('tai', 0.21006527543067932), ('pushy', 0.20658734440803528), ('pollack', 0.2029731571674347), ('ackles', 0.20099854469299316), ('welfare', 0.19981776177883148), ('set-pieces', 0.19950991868972778), ('huppert', 0.1992773562669754), ('ooze', 0.19832481443881989), ('unadulterated', 0.19812852144241333)]\n"
     ]
    }
   ],
   "source": [
    "print(model.doesnt_match(\"man woman child kitchen\".split()))\n",
    "print(model.doesnt_match(\"france england germany berlin\".split()))\n",
    "print(model.doesnt_match(\"paris berlin london austria\".split()))\n",
    "print(model.most_similar(\"man\"))\n",
    "print(model.most_similar(\"queen\"))\n",
    "print(model.most_similar(\"awful\"))"
   ]
  },
  {
   "cell_type": "markdown",
   "metadata": {},
   "source": [
    "So it seems we have a reasonably good model for semantic meaning - at least as good as Bag of Words. But how can we use these fancy distributed word vectors for supervised learning? The next section takes a stab at that."
   ]
  },
  {
   "cell_type": "markdown",
   "metadata": {},
   "source": [
    "Part 3: More Fun With Word Vectors\n",
    "--\n",
    "\n",
    "https://www.kaggle.com/c/word2vec-nlp-tutorial/details/part-3-more-fun-with-word-vectors  \n",
    "\n",
    "Numeric Representations of Words\n",
    "\n",
    "Now that we have a trained model with some semantic understanding of words, how should we use it? If you look beneath the hood, the Word2Vec model trained in Part 2 consists of a feature vector for each word in the vocabulary, stored in a numpy array called \"syn0\":"
   ]
  },
  {
   "cell_type": "code",
   "execution_count": 129,
   "metadata": {
    "collapsed": true
   },
   "outputs": [],
   "source": [
    "model = Word2Vec.load(os.path.join(outputs,model_name))"
   ]
  },
  {
   "cell_type": "code",
   "execution_count": 130,
   "metadata": {
    "collapsed": false
   },
   "outputs": [
    {
     "data": {
      "text/plain": [
       "(24776, 300)"
      ]
     },
     "execution_count": 130,
     "metadata": {},
     "output_type": "execute_result"
    }
   ],
   "source": [
    "model.syn0.shape"
   ]
  },
  {
   "cell_type": "markdown",
   "metadata": {},
   "source": [
    "The number of rows in syn0 is the number of words in the model's vocabulary, and the number of columns corresponds to the size of the feature vector, which we set in Part 2.  Setting the minimum word count to 40 gave us a total vocabulary of 16,492 words with 300 features apiece. Individual word vectors can be accessed in the following way:"
   ]
  },
  {
   "cell_type": "code",
   "execution_count": 131,
   "metadata": {
    "collapsed": false
   },
   "outputs": [
    {
     "data": {
      "text/plain": [
       "array([ 0.04111996, -0.05338654, -0.04709391, -0.00913357,  0.00059291,\n",
       "       -0.04773742,  0.08250792, -0.03551444,  0.01362412, -0.0618704 ], dtype=float32)"
      ]
     },
     "execution_count": 131,
     "metadata": {},
     "output_type": "execute_result"
    }
   ],
   "source": [
    "model[\"flower\"][0:10]"
   ]
  },
  {
   "cell_type": "code",
   "execution_count": 132,
   "metadata": {
    "collapsed": false
   },
   "outputs": [
    {
     "data": {
      "text/plain": [
       "['movie',\n",
       " 'film',\n",
       " \"n't\",\n",
       " 'one',\n",
       " 'like',\n",
       " 'good',\n",
       " 'would',\n",
       " 'even',\n",
       " 'time',\n",
       " 'really']"
      ]
     },
     "execution_count": 132,
     "metadata": {},
     "output_type": "execute_result"
    }
   ],
   "source": [
    "model.index2word[0:10]"
   ]
  },
  {
   "cell_type": "markdown",
   "metadata": {},
   "source": [
    "From Words To Paragraphs, \n",
    "--\n",
    "Attempt 1:  Vector Averaging  \n",
    "--\n",
    "\n",
    "One challenge with the IMDB dataset is the variable-length reviews. We need to find a way to take individual word vectors and transform them into a feature set that is the same length for every review.\n",
    "\n",
    "Since each word is a vector in 300-dimensional space, we can use vector operations to combine the words in each review. One method we tried was to simply average the word vectors in a given review (for this purpose, we removed stop words, which would just add noise).\n",
    "\n",
    "The following code averages the feature vectors, building on our code from Part 2. "
   ]
  },
  {
   "cell_type": "code",
   "execution_count": 133,
   "metadata": {
    "collapsed": true
   },
   "outputs": [],
   "source": [
    "def makeFeatureVec(words, model, num_features):\n",
    "    # Function to average all of the word vectors in a given paragraph\n",
    "    # Pre-initialize an empty numpy array (for speed)\n",
    "    featureVec = np.zeros((num_features,),dtype=\"float32\")\n",
    "    nwords = 0.\n",
    "    # Index2word is a list that contains the names of the words in the model's vocabulary. \n",
    "    #Convert it to a set, for speed\n",
    "    index2word_set = set(model.index2word)\n",
    "    # Loop over each word in the review and, if it is in the model's\n",
    "    # vocabulary, add its feature vector to the total\n",
    "    for word in words:\n",
    "        if word in index2word_set:\n",
    "            nwords = nwords + 1.\n",
    "            featureVec = np.add(featureVec,model[word])\n",
    "    # Divide the result by the number of words to get the average\n",
    "    featureVec = np.divide(featureVec,nwords)\n",
    "    return featureVec"
   ]
  },
  {
   "cell_type": "code",
   "execution_count": 134,
   "metadata": {
    "collapsed": true
   },
   "outputs": [],
   "source": [
    "def getAvgFeatureVecs(reviews, model, num_features):\n",
    "    # Given a set of reviews (each one a list of words), calculate\n",
    "    # the average feature vector for each one and return a 2D numpy array\n",
    "    # Initialize a counter\n",
    "    counter = 0.\n",
    "    # Preallocate a 2D numpy array, for speed\n",
    "    reviewFeatureVecs = np.zeros((len(reviews),num_features),dtype=\"float32\")\n",
    "    # Loop through the reviews\n",
    "    for review in reviews:\n",
    "        # Print a status message every 2000th review\n",
    "        if counter%2000. == 0.:\n",
    "            print(\"Review {} of {}\".format(counter, len(reviews)))\n",
    "        #Call the function (defined above) that makes average feature vectors\n",
    "        reviewFeatureVecs[counter] = makeFeatureVec(review, model, num_features)\n",
    "        counter = counter + 1.\n",
    "    return reviewFeatureVecs"
   ]
  },
  {
   "cell_type": "markdown",
   "metadata": {},
   "source": [
    "Let's use the pickles from Part 1  "
   ]
  },
  {
   "cell_type": "code",
   "execution_count": 135,
   "metadata": {
    "collapsed": false
   },
   "outputs": [
    {
     "ename": "FileNotFoundError",
     "evalue": "[Errno 2] No such file or directory: '../outputs/clean_reviews_sw.pkl'",
     "output_type": "error",
     "traceback": [
      "\u001b[1;31m\u001b[0m",
      "\u001b[1;31mFileNotFoundError\u001b[0mTraceback (most recent call last)",
      "\u001b[1;32m<ipython-input-135-497da171c243>\u001b[0m in \u001b[0;36m<module>\u001b[1;34m()\u001b[0m\n\u001b[0;32m      3\u001b[0m     \u001b[0mclean_test_reviews\u001b[0m \u001b[1;33m=\u001b[0m \u001b[0mpickle\u001b[0m\u001b[1;33m.\u001b[0m\u001b[0mload\u001b[0m\u001b[1;33m(\u001b[0m\u001b[0mf\u001b[0m\u001b[1;33m)\u001b[0m\u001b[1;33m\u001b[0m\u001b[0m\n\u001b[0;32m      4\u001b[0m \u001b[1;33m\u001b[0m\u001b[0m\n\u001b[1;32m----> 5\u001b[1;33m \u001b[1;32mwith\u001b[0m \u001b[0mopen\u001b[0m\u001b[1;33m(\u001b[0m\u001b[0mos\u001b[0m\u001b[1;33m.\u001b[0m\u001b[0mpath\u001b[0m\u001b[1;33m.\u001b[0m\u001b[0mjoin\u001b[0m\u001b[1;33m(\u001b[0m\u001b[0moutputs\u001b[0m\u001b[1;33m,\u001b[0m \u001b[1;34m'clean_reviews_sw.pkl'\u001b[0m\u001b[1;33m)\u001b[0m\u001b[1;33m,\u001b[0m\u001b[1;34m'rb'\u001b[0m\u001b[1;33m)\u001b[0m \u001b[1;32mas\u001b[0m \u001b[0mf\u001b[0m\u001b[1;33m:\u001b[0m\u001b[1;33m\u001b[0m\u001b[0m\n\u001b[0m\u001b[0;32m      6\u001b[0m     \u001b[0mclean_train_reviews_sw\u001b[0m\u001b[1;33m,\u001b[0m\u001b[1;33m\u001b[0m\u001b[0m\n\u001b[0;32m      7\u001b[0m     \u001b[0mclean_test_reviews_sw\u001b[0m \u001b[1;33m=\u001b[0m \u001b[0mpickle\u001b[0m\u001b[1;33m.\u001b[0m\u001b[0mload\u001b[0m\u001b[1;33m(\u001b[0m\u001b[0mf\u001b[0m\u001b[1;33m)\u001b[0m\u001b[1;33m\u001b[0m\u001b[0m\n",
      "\u001b[1;31mFileNotFoundError\u001b[0m: [Errno 2] No such file or directory: '../outputs/clean_reviews_sw.pkl'"
     ]
    }
   ],
   "source": [
    "with open(os.path.join(outputs, 'clean_reviews.pkl'),'rb') as f:\n",
    "    clean_train_reviews, \n",
    "    clean_test_reviews = pickle.load(f)\n",
    "\n",
    "with open(os.path.join(outputs, 'clean_reviews_sw.pkl'),'rb') as f:\n",
    "    clean_train_reviews_sw, \n",
    "    clean_test_reviews_sw = pickle.load(f)"
   ]
  },
  {
   "cell_type": "markdown",
   "metadata": {},
   "source": [
    "Now, we can call these functions to create average vectors for each paragraph. The following operations will take a few minutes:  "
   ]
  },
  {
   "cell_type": "code",
   "execution_count": null,
   "metadata": {
    "collapsed": false
   },
   "outputs": [],
   "source": [
    "# Calculate average feature vectors for training and testing sets, using the functions \n",
    "# we defined above. Notice that we now use stop word removal.\n",
    "trainDataVecs = getAvgFeatureVecs(clean_train_reviews, model, num_features)"
   ]
  },
  {
   "cell_type": "markdown",
   "metadata": {},
   "source": [
    "Next, use the average paragraph vectors with the classifiers from Part 1.  \n",
    "Note that, as in Part 1, we can only use the labeled training reviews to train the model. "
   ]
  },
  {
   "cell_type": "code",
   "execution_count": null,
   "metadata": {
    "collapsed": true
   },
   "outputs": [],
   "source": [
    "X_traincvWV, X_testcvWV, y_traincvWV, y_testcvWV = train_test_split(trainDataVecs,\n",
    "                                                                    train[\"sentiment\"],\n",
    "                                                                    test_size=0.2,\n",
    "                                                                    random_state=0)"
   ]
  },
  {
   "cell_type": "code",
   "execution_count": null,
   "metadata": {
    "collapsed": false
   },
   "outputs": [],
   "source": [
    "# Initialize a Random Forest classifier with 300 trees\n",
    "clf_RF_WV = RandomForestClassifier(n_estimators=300, \n",
    "                                   criterion='gini', \n",
    "                                   max_depth=None, \n",
    "                                   min_samples_split=2, \n",
    "                                   min_samples_leaf=1, \n",
    "                                   min_weight_fraction_leaf=0.0, \n",
    "                                   max_features='auto', \n",
    "                                   max_leaf_nodes=None, \n",
    "                                   bootstrap=False, \n",
    "                                   oob_score=False, \n",
    "                                   n_jobs=-1, \n",
    "                                   random_state=None, \n",
    "                                   verbose=0, \n",
    "                                   warm_start=False, \n",
    "                                   class_weight=None).fit(X_traincvWV, y_traincvWV)\n",
    "\n",
    "eval_RF_WV_tts = clf_RF_WV.score(X_testcvWV, y_testcvWV)\n",
    "print(eval_RF_WV_tts)"
   ]
  },
  {
   "cell_type": "code",
   "execution_count": null,
   "metadata": {
    "collapsed": false
   },
   "outputs": [],
   "source": [
    "clf_LR_WV = LR(penalty='l2',\n",
    "               dual=False,\n",
    "               tol=0.0001,\n",
    "               C=1.0,\n",
    "               fit_intercept=True,\n",
    "               intercept_scaling=1,\n",
    "               class_weight=None,\n",
    "               random_state=None,\n",
    "               solver='liblinear',\n",
    "               max_iter=100,\n",
    "               multi_class='ovr',\n",
    "               verbose=0).fit(X_traincvWV, y_traincvWV)\n",
    "\n",
    "eval_LR_WV_tts = clf_LR_WV.score(X_testcvWV, y_testcvWV)\n",
    "print(eval_LR_WV_tts)"
   ]
  },
  {
   "cell_type": "markdown",
   "metadata": {},
   "source": [
    "Creating a Submission  \n",
    "--"
   ]
  },
  {
   "cell_type": "code",
   "execution_count": null,
   "metadata": {
    "collapsed": false
   },
   "outputs": [],
   "source": [
    "testDataVecs = getAvgFeatureVecs(clean_test_reviews[0], model, num_features)"
   ]
  },
  {
   "cell_type": "code",
   "execution_count": null,
   "metadata": {
    "collapsed": false
   },
   "outputs": [],
   "source": [
    "print(np.isnan(testDataVecs).any()) #testando se não há valores que inviabilizam o treinamento\n",
    "print(np.isfinite(testDataVecs).all())"
   ]
  },
  {
   "cell_type": "code",
   "execution_count": null,
   "metadata": {
    "collapsed": false
   },
   "outputs": [],
   "source": [
    "from sklearn.preprocessing import Imputer\n",
    "testDataVecs = Imputer().fit_transform(testDataVecs)\n",
    "\n",
    "print(np.isnan(testDataVecs).any()) #testando se não há valores que inviabilizam o treinamento\n",
    "print(np.isfinite(testDataVecs).all())"
   ]
  },
  {
   "cell_type": "code",
   "execution_count": null,
   "metadata": {
    "collapsed": false
   },
   "outputs": [],
   "source": [
    "# Use the random forest to make sentiment label predictions\n",
    "result = clf_RF_WV.predict(testDataVecs)\n",
    "result_prob = clf_RF_WV.predict_proba(testDataVecs)\n",
    "output = pd.DataFrame(data={\"id\":test[\"id\"], \"sentiment\":result,})# \"probs\":result_prob[:,1]})\n",
    "# Use pandas to write the comma-separated output file\n",
    "output.to_csv(os.path.join(outputs,'Word2Vec_AverageVectors.csv'), index=False, quoting=3)"
   ]
  },
  {
   "cell_type": "code",
   "execution_count": null,
   "metadata": {
    "collapsed": false
   },
   "outputs": [],
   "source": [
    "output.head()"
   ]
  },
  {
   "cell_type": "markdown",
   "metadata": {},
   "source": [
    "We found that this produced results much better than chance, but underperformed Bag of Words by a few percentage points.\n",
    "\n",
    "Since the element-wise average of the vectors didn't produce spectacular results, perhaps we could do it in a more intelligent way? A standard way of weighting word vectors is to apply \"tf-idf\" weights, which measure how important a given word is within a given set of documents. One way to extract tf-idf weights in Python is by using scikit-learn's TfidfVectorizer, which has an interface similar to the CountVectorizer that we used in Part 1. However, when we tried weighting our word vectors in this way, we found no substantial improvement in performance."
   ]
  },
  {
   "cell_type": "markdown",
   "metadata": {},
   "source": [
    "From Words to Paragraphs, Attempt 2: Clustering \n",
    "--\n",
    "\n",
    "Word2Vec creates clusters of semantically related words, so another possible approach is to exploit the similarity of words within a cluster. Grouping vectors in this way is known as \"vector quantization.\" To accomplish this, we first need to find the centers of the word clusters, which we can do by using a clustering algorithm such as K-Means.\n",
    "\n",
    "In K-Means, the one parameter we need to set is \"K,\" or the number of clusters. How should we decide how many clusters to create? Trial and error suggested that small clusters, with an average of only 5 words or so per cluster, gave better results than large clusters with many words. Clustering code is given below. We use scikit-learn to perform our K-Means.\n",
    "\n",
    "K-Means clustering with large K can be very slow; the following code took more than 40 minutes on my computer. Below, we set a timer around the K-Means function to see how long it takes."
   ]
  },
  {
   "cell_type": "code",
   "execution_count": null,
   "metadata": {
    "collapsed": false
   },
   "outputs": [],
   "source": [
    "start = time.time()\n",
    "\n",
    "# Set \"k\" (num_clusters) to be 1/5th of the vocabulary size, or an average of 5 words per cluster\n",
    "word_vectors = model.syn0\n",
    "num_clusters = int(word_vectors.shape[0] / 5)\n",
    "\n",
    "# Initalize a k-means object and use it to extract centroids\n",
    "kmeans_clustering = KMeans(n_clusters = num_clusters)\n",
    "idx = kmeans_clustering.fit_predict(word_vectors)\n",
    "\n",
    "end = time.time()\n",
    "elapsed = end - start\n",
    "print(\"Time taken for K Means clustering: \", elapsed, \"seconds.\")"
   ]
  },
  {
   "cell_type": "markdown",
   "metadata": {},
   "source": [
    "The cluster assignment for each word is now stored in idx, and the vocabulary from our original Word2Vec model is still stored in model.index2word. For convenience, we zip these into one dictionary as follows:  "
   ]
  },
  {
   "cell_type": "code",
   "execution_count": null,
   "metadata": {
    "collapsed": true
   },
   "outputs": [],
   "source": [
    "# Create a Word / Index dictionary, mapping each vocabulary word to a cluster number\n",
    "word_centroid_map = dict(zip(model.index2word, idx))"
   ]
  },
  {
   "cell_type": "markdown",
   "metadata": {},
   "source": [
    "This is a little abstract, so let's take a closer look at what our clusters contain. Your clusters may differ, as Word2Vec relies on a random number seed. Here is a loop that prints out the words for clusters 0 through 9:\n",
    "\n",
    "Run k-means on the word vectors and print a few clusters  "
   ]
  },
  {
   "cell_type": "code",
   "execution_count": null,
   "metadata": {
    "collapsed": false
   },
   "outputs": [],
   "source": [
    "# Print the first ten clusters\n",
    "for cluster in range(0,10):\n",
    "    # Print the cluster number\n",
    "    print(\"\\nCluster {}\".format(cluster))\n",
    "    # Find all of the words for that cluster number, and print them out\n",
    "    words = []\n",
    "    for i in range(0,len(word_centroid_map.values())):\n",
    "        #print(len(word_centroid_map.values()))\n",
    "        #print(cluster)\n",
    "        #print(word_centroid_map.keys())\n",
    "        if(list(word_centroid_map.values())[i] == cluster):\n",
    "            words.append(list(word_centroid_map.keys())[i])\n",
    "    print(words)"
   ]
  },
  {
   "cell_type": "markdown",
   "metadata": {},
   "source": [
    "We can see that the clusters are of varying quality. Some make sense, some cointain mostly names, and some contain related adjectives. On the other hand, some are a little mystifying. Perhaps our algorithm works best on adjectives.\n",
    "\n",
    "At any rate, now we have a cluster (or \"centroid\") assignment for each word, and we can define a function to convert reviews into bags-of-centroids. This works just like Bag of Words but uses semantically related clusters instead of individual words:"
   ]
  },
  {
   "cell_type": "code",
   "execution_count": null,
   "metadata": {
    "collapsed": true
   },
   "outputs": [],
   "source": [
    "def create_bag_of_centroids(wordlist, word_centroid_map):\n",
    "    # The number of clusters is equal to the highest cluster index in the word / centroid map\n",
    "    num_centroids = max(word_centroid_map.values()) + 1\n",
    "    # Pre-allocate the bag of centroids vector (for speed)\n",
    "    bag_of_centroids = np.zeros(num_centroids, dtype=\"float32\")\n",
    "    # Loop over the words in the review. If the word is in the vocabulary,\n",
    "    # find which cluster it belongs to, and increment that cluster count by one\n",
    "    for word in wordlist:\n",
    "        if word in word_centroid_map:\n",
    "            index = word_centroid_map[word]\n",
    "            bag_of_centroids[index] += 1\n",
    "    return bag_of_centroids"
   ]
  },
  {
   "cell_type": "markdown",
   "metadata": {
    "collapsed": true
   },
   "source": [
    "The function above will give us a numpy array for each review, each with a number of features equal to the number of clusters. Finally, we create bags of centroids for our training and test set, then train a random forest and extract results:"
   ]
  },
  {
   "cell_type": "code",
   "execution_count": null,
   "metadata": {
    "collapsed": true
   },
   "outputs": [],
   "source": [
    "# ****** Create bags of centroids\n",
    "\n",
    "# Pre-allocate an array for the training set bags of centroids (for speed)\n",
    "train_centroids = np.zeros((train[\"review\"].size, num_clusters), dtype=\"float32\")\n",
    "\n",
    "# Transform the training set reviews into bags of centroids\n",
    "counter = 0\n",
    "for review in clean_train_reviews:\n",
    "    train_centroids[counter] = create_bag_of_centroids(review, word_centroid_map)\n",
    "    counter += 1"
   ]
  },
  {
   "cell_type": "code",
   "execution_count": null,
   "metadata": {
    "collapsed": true
   },
   "outputs": [],
   "source": [
    "X_traincvCT, X_testcvCT, y_traincvCT, y_testcvCT = train_test_split(train_centroids,\n",
    "                                                                    train[\"sentiment\"],\n",
    "                                                                    test_size=0.2,\n",
    "                                                                    random_state=0)"
   ]
  },
  {
   "cell_type": "code",
   "execution_count": null,
   "metadata": {
    "collapsed": true
   },
   "outputs": [],
   "source": [
    "# Initialize a Random Forest classifier with 100 trees\n",
    "clf_RF_CT = RandomForestClassifier(n_estimators=100, \n",
    "                                   criterion='gini', \n",
    "                                   max_depth=None, \n",
    "                                   min_samples_split=2, \n",
    "                                   min_samples_leaf=1, \n",
    "                                   min_weight_fraction_leaf=0.0, \n",
    "                                   max_features='auto', \n",
    "                                   max_leaf_nodes=None, \n",
    "                                   bootstrap=True, \n",
    "                                   oob_score=False, \n",
    "                                   n_jobs=1, \n",
    "                                   random_state=None, \n",
    "                                   verbose=0, \n",
    "                                   warm_start=False, \n",
    "                                   class_weight=None).fit(X_traincvCT, y_traincvCT)"
   ]
  },
  {
   "cell_type": "code",
   "execution_count": null,
   "metadata": {
    "collapsed": false
   },
   "outputs": [],
   "source": [
    "eval_RF_CT_tts = clf_RF_CT.score(X_testcvCT, y_testcvCT)\n",
    "print(eval_RF_CT_tts)"
   ]
  },
  {
   "cell_type": "code",
   "execution_count": null,
   "metadata": {
    "collapsed": true
   },
   "outputs": [],
   "source": [
    "# Repeat for test reviews\n",
    "test_centroids = np.zeros((test[\"review\"].size, num_clusters), dtype=\"float32\")\n",
    "\n",
    "counter = 0\n",
    "for review in clean_test_reviews:\n",
    "    test_centroids[counter] = create_bag_of_centroids(review, word_centroid_map)\n",
    "    counter += 1"
   ]
  },
  {
   "cell_type": "code",
   "execution_count": null,
   "metadata": {
    "collapsed": false
   },
   "outputs": [],
   "source": [
    "result = clf_RF_CT.predict(test_centroids)\n",
    "\n",
    "# Write the test results\n",
    "output = pd.DataFrame(data={\"id\":test[\"id\"], \"sentiment\":result})\n",
    "output.to_csv(os.path.join(outputs,\"BagOfCentroids.csv\"), index=False, quoting=3)\n",
    "print(\"Wrote BagOfCentroids.csv\")"
   ]
  },
  {
   "cell_type": "markdown",
   "metadata": {},
   "source": [
    "We found that the code above gives about the same (or slightly worse) results compared to the Bag of Words in Part 1."
   ]
  },
  {
   "cell_type": "markdown",
   "metadata": {},
   "source": [
    "Part 4: Comparing deep and non-deep learning methods\n",
    "--\n",
    "\n",
    "You may ask: Why is Bag of Words better?\n",
    "\n",
    "The biggest reason is, in our tutorial, averaging the vectors and using the centroids lose the order of words, making it very similar to the concept of Bag of Words. The fact that the performance is similar (within range of standard error) makes all three methods practically equivalent.  \n",
    "\n",
    "A few things to try:\n",
    "\n",
    "First, training Word2Vec on a lot more text should greatly improve performance. Google's results are based on word vectors that were learned out of more than a billion-word corpus; our labeled and unlabeled training sets together are only a measly 18 million words or so. Conveniently, Word2Vec provides functions to load any pre-trained model that is output by Google's original C tool, so it's also possible to train a model in C and then import it into Python.\n",
    "\n",
    "Second, in published literature, distributed word vector techniques have been shown to outperform Bag of Words models. In this paper, an algorithm called Paragraph Vector is used on the IMDB dataset to produce some of the most state-of-the-art results to date. In part, it does better than the approaches we try here because vector averaging and clustering lose the word order, whereas Paragraph Vectors preserves word order information."
   ]
  },
  {
   "cell_type": "markdown",
   "metadata": {},
   "source": [
    "What is Deep Learning?\n",
    "\n",
    "The term \"deep learning\" was coined in 2006, and refers to machine learning algorithms that have multiple non-linear layers and can learn feature hierarchies [1].\n",
    "\n",
    "Most modern machine learning relies on feature engineering or some level of domain knowledge to obtain good results. In deep learning systems, this is not the case -- instead, algorithms can automatically learn feature hierarchies, which represent objects in increasing levels of abstraction. Although the basic ingredients of many deep learning algorithms have been around for many years, they are currently increasing in popularity for many reasons, including advances in compute power, the falling cost of computing hardware, and advances in machine learning research.\n",
    "\n",
    "Deep learning algorithms can be categorized by their architecture (feed-forward, feed-back, or bi-directional) and training protocols (purely supervised, hybrid, or unsupervised) [2]. \n",
    "\n",
    "Some good background materials include:\n",
    "\n",
    "[1] \"Deep Learning for Signal and Information Processing\", by Li Deng and Dong Yu (out of Microsoft)\n",
    "\n",
    "[2] \"Deep Learning Tutorial\" (2013 Presentation by Yann LeCun and Marc'Aurelio Ranzato)\n",
    "\n",
    "Where Does Word2Vec Fit In?\n",
    "\n",
    "Word2Vec works in a way that is similar to deep approaches such as recurrent neural nets or deep neural nets, but it implements certain algorithms, such as hierarchical softmax, that make it computationally more efficient.  \n",
    "\n",
    "See Part 2 of this tutorial for more on Word2Vec, as well as this paper: Efficient Estimation of Word Representations in Vector Space\n",
    "\n",
    "In this tutorial, we use a hybrid approach to training -- consisting of an unsupervised piece (Word2Vec) followed by supervised learning (the Random Forest). \n",
    "\n",
    "Libraries and Packages \n",
    "\n",
    "The lists below should in no way be considered exhaustive.\n",
    "\n",
    "In Python:\n",
    "\n",
    "Theano offers very low-level, nuts and bolts functionality for building deep learning systems. You can also find some good tutorials on their site.  \n",
    "Caffe is a deep learning framework out of the Berkeley Vision and Learning Center.  \n",
    "Pylearn2 wraps Theano and seems slightly more user friendly.  \n",
    "OverFeat was used to win the Kaggle Cats and Dogs competition.  \n",
    "\n",
    "\n",
    "More Tutorials  \n",
    "The O'Reilly Blog has a series of deep learning articles and tutorials:  \n",
    "\n",
    "http://radar.oreilly.com/2014/07/what-is-deep-learning-and-why-should-you-care.html  \n",
    "http://radar.oreilly.com/2014/07/how-to-build-and-run-your-first-deep-learning-network.html  \n",
    "Webcast: How to Get Started with Deep Learning in Computer Vision  \n",
    "There are several tutorials using Theano as well.  \n",
    "\n",
    "If you want to dive into the weeds of creating a neural network from scratch, check out Geoffrey Hinton's Coursera course.\n",
    "\n",
    "For NLP, check out this recent lecture at Stanford: http://techtalks.tv/talks/deep-learning-for-nlp-without-magic-part-1/58414/  \n",
    "\n",
    "This free, online book also introduces neural nets for deep learning: http://neuralnetworksanddeeplearning.com/  "
   ]
  },
  {
   "cell_type": "raw",
   "metadata": {
    "collapsed": true
   },
   "source": [
    "#word2vec example\n",
    "# load up unzipped corpus from http://mattmahoney.net/dc/text8.zip\n",
    "sentences = word2vec.Text8Corpus('/tmp/text8')\n",
    "#train the skip-gram model; default window=5\n",
    "model = word2vec.Word2Vec(sentences, size=200)\n",
    "# ... and some hours later... just as advertised...\n",
    "model.most_similar(positive=['woman', 'king'], negative=['man'], topn=1)\n",
    "[('queen', 0.5359965)]\n",
    " \n",
    "# pickle the entire model to disk, so we can load&resume training later\n",
    "model.save('/tmp/text8.model')\n",
    "# store the learned weights, in a format the original C tool understands\n",
    "model.save_word2vec_format('/tmp/text8.model.bin', binary=True)\n",
    "# or, import word weights created by the (faster) C word2vec\n",
    "# this way, you can switch between the C/Python toolkits easily\n",
    "model = word2vec.Word2Vec.load_word2vec_format('/tmp/vectors.bin', binary=True)\n",
    " \n",
    "# \"boy\" is to \"father\" as \"girl\" is to ...?\n",
    "model.most_similar(['girl', 'father'], ['boy'], topn=3)\n",
    "more_examples = [\"he his she\", \"big bigger bad\", \"going went being\"]\n",
    "for example in more_examples:\n",
    "    a, b, x = example.split()\n",
    "    predicted = model.most_similar([x, b], [a])[0][0]\n",
    "    print \"'%s' is to '%s' as '%s' is to '%s'\" % (a, b, x, predicted)\n",
    "# which word doesn't go with the others?\n",
    "model.doesnt_match(\"breakfast cereal dinner lunch\".split())\n",
    "\n",
    "#http://rare-technologies.com/word2vec-tutorial/\n",
    "Gensim only requires that the input must provide sentences sequentially, when iterated over. No need to keep everything in RAM: we can provide one sentence, process it, forget it, load another sentence…\n",
    "\n",
    "For example, if our input is strewn across several files on disk, with one sentence per line, then instead of loading everything into an in-memory list, we can process the input file by file, line by line:\n",
    ">>> class MySentences(object):\n",
    "...     def __init__(self, dirname):\n",
    "...         self.dirname = dirname\n",
    "... \n",
    "...     def __iter__(self):\n",
    "...         for fname in os.listdir(self.dirname):\n",
    "...             for line in open(os.path.join(self.dirname, fname)):\n",
    "...                 yield line.split()\n",
    ">>>\n",
    ">>> sentences = MySentences('/some/directory') # a memory-friendly iterator\n",
    ">>> model = gensim.models.Word2Vec(sentences)\n",
    "\n",
    "Say we want to further preprocess the words from the files — convert to unicode, lowercase, remove numbers, extract named entities… All of this can be done inside the MySentences iterator and word2vec doesn’t need to know. All that is required is that the input yields one sentence (list of utf8 words) after another.\n",
    "\n",
    "calling Word2Vec(sentences) will run two passes over the sentences iterator. The first pass collects words and their frequencies to build an internal dictionary tree structure.\n",
    "\n",
    "The second pass trains the neural model.\n",
    "\n",
    "These two passes can also be initiated manually, in case your input stream is non-repeatable (you can only afford one pass), and you’re able to initialize the vocabulary some other way:\n",
    "\n",
    ">>> model = gensim.models.Word2Vec() # an empty model, no training\n",
    ">>> model.build_vocab(some_sentences)  # can be a non-repeatable, 1-pass generator\n",
    ">>> model.train(other_sentences)  # can be a non-repeatable, 1-pass generator\n"
   ]
  }
 ],
 "metadata": {
  "kernelspec": {
   "display_name": "Python 3",
   "language": "python",
   "name": "python3"
  },
  "language_info": {
   "codemirror_mode": {
    "name": "ipython",
    "version": 3
   },
   "file_extension": ".py",
   "mimetype": "text/x-python",
   "name": "python",
   "nbconvert_exporter": "python",
   "pygments_lexer": "ipython3",
   "version": "3.5.2"
  }
 },
 "nbformat": 4,
 "nbformat_minor": 0
}
