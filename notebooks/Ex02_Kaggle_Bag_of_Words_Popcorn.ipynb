{
 "cells": [
  {
   "cell_type": "markdown",
   "metadata": {
    "collapsed": true
   },
   "source": [
    "## Google's Word2Vec for movie reviews"
   ]
  },
  {
   "cell_type": "markdown",
   "metadata": {},
   "source": [
    "https://www.kaggle.com/c/word2vec-nlp-tutorial  \n",
    "https://github.com/wendykan/DeepLearningMovies  \n",
    "http://fastml.com/classifying-text-with-bag-of-words-a-tutorial/  \n",
    "\n",
    "\n",
    "In this tutorial competition, we dig a little \"deeper\" into sentiment analysis. Google's Word2Vec is a deep-learning inspired method that focuses on the meaning of words. Word2Vec attempts to understand meaning and semantic relationships among words. It works in a way that is similar to deep approaches, such as recurrent neural nets or deep neural nets, but is computationally more efficient. This tutorial focuses on Word2Vec for sentiment analysis.\n",
    "\n",
    "Sentiment analysis is a challenging subject in machine learning. People express their emotions in language that is often obscured by sarcasm, ambiguity, and plays on words, all of which could be very misleading for both humans and computers. There's another Kaggle competition for movie review sentiment analysis. In this tutorial we explore how Word2Vec can be applied to a similar problem.\n",
    "\n",
    "Deep learning has been in the news a lot over the past few years, even making it to the front page of the New York Times. These machine learning techniques, inspired by the architecture of the human brain and made possible by recent advances in computing power, have been making waves via breakthrough results in image recognition, speech processing, and natural language tasks. Recently, deep learning approaches won several Kaggle competitions, including a drug discovery task, and cat and dog image recognition."
   ]
  },
  {
   "cell_type": "markdown",
   "metadata": {},
   "source": [
    "#### Let's charge the batteries for our analysis..."
   ]
  },
  {
   "cell_type": "code",
   "execution_count": 1,
   "metadata": {
    "collapsed": false
   },
   "outputs": [
    {
     "name": "stderr",
     "output_type": "stream",
     "text": [
      "/usr/local/lib/python3.5/dist-packages/matplotlib/backends/backend_gtk3agg.py:18: UserWarning: The Gtk3Agg backend is known to not work on Python 3.x with pycairo. Try installing cairocffi.\n",
      "  \"The Gtk3Agg backend is known to not work on Python 3.x with pycairo. \"\n"
     ]
    }
   ],
   "source": [
    "import os\n",
    "import sys\n",
    "import time\n",
    "import re\n",
    "import pickle\n",
    "import logging\n",
    "import string\n",
    "\n",
    "import pandas as pd\n",
    "import numpy as np\n",
    "import pylab\n",
    "import matplotlib\n",
    "import matplotlib.pyplot as plt\n",
    "from matplotlib.font_manager import FontProperties\n",
    "\n",
    "import nltk\n",
    "import nltk.data\n",
    "from nltk.corpus import stopwords\n",
    "from nltk import word_tokenize\n",
    "from nltk.stem.porter import PorterStemmer\n",
    "\n",
    "from sklearn.cross_validation import train_test_split\n",
    "from sklearn.feature_extraction.text import CountVectorizer\n",
    "from sklearn.feature_extraction.text import TfidfVectorizer \n",
    "from sklearn.cluster import KMeans\n",
    "from sklearn.metrics import roc_auc_score as AUC\n",
    "\n",
    "import gensim\n",
    "from gensim import corpora\n",
    "from gensim import models\n",
    "from gensim import similarities\n",
    "from gensim.models import Word2Vec\n",
    "\n",
    "from bs4 import BeautifulSoup\n",
    "\n",
    "%matplotlib inline"
   ]
  },
  {
   "cell_type": "code",
   "execution_count": 2,
   "metadata": {
    "collapsed": true
   },
   "outputs": [],
   "source": [
    "import warnings\n",
    "warnings.filterwarnings('ignore')"
   ]
  },
  {
   "cell_type": "markdown",
   "metadata": {},
   "source": [
    "Data Set  \n",
    "--\n",
    "\n",
    "The labeled data set consists of 50,000 IMDB movie reviews, specially selected for sentiment analysis. The sentiment of reviews is binary, meaning the IMDB rating < 5 results in a sentiment score of 0, and rating >=7 have a sentiment score of 1. No individual movie has more than 30 reviews. The 25,000 review labeled training set does not include any of the same movies as the 25,000 review test set. In addition, there are another 50,000 IMDB reviews provided without any rating labels.\n",
    "\n",
    "File descriptions\n",
    "\n",
    "labeledTrainData - The labeled training set. The file is tab-delimited and has a header row followed by 25,000 rows containing an id, sentiment, and text for each review.  \n",
    "\n",
    "testData - The test set. The tab-delimited file has a header row followed by 25,000 rows containing an id and text for each review. Your task is to predict the sentiment for each one. \n",
    "\n",
    "unlabeledTrainData - An extra training set with no labels. The tab-delimited file has a header row followed by 50,000 rows containing an id and text for each review. \n",
    "\n",
    "sampleSubmission - A comma-delimited sample submission file in the correct format.\n",
    "Data fields\n",
    "\n",
    "id - Unique ID of each review  \n",
    "sentiment - Sentiment of the review; 1 for positive reviews and 0 for negative reviews  \n",
    "review - Text of the review  "
   ]
  },
  {
   "cell_type": "markdown",
   "metadata": {},
   "source": [
    "Loading the dataset:  \n",
    "--"
   ]
  },
  {
   "cell_type": "code",
   "execution_count": 3,
   "metadata": {
    "collapsed": false
   },
   "outputs": [],
   "source": [
    "datapath = \"../datasets/Kaggle/\"\n",
    "outputs = \"../outputs/\""
   ]
  },
  {
   "cell_type": "code",
   "execution_count": 4,
   "metadata": {
    "collapsed": false
   },
   "outputs": [],
   "source": [
    "train = pd.read_csv(os.path.join(datapath, 'BOW_labeledTrainData.tsv'), header=0, delimiter=\"\\t\", quoting=3)\n",
    "test = pd.read_csv(os.path.join(datapath, 'BOW_testData.tsv'), header=0, delimiter=\"\\t\", quoting=3)\n",
    "unlabeled_train = pd.read_csv(os.path.join(datapath, \"BOW_unlabeledTrainData.tsv\"), header=0, delimiter=\"\\t\", quoting=3)"
   ]
  },
  {
   "cell_type": "code",
   "execution_count": 5,
   "metadata": {
    "collapsed": false
   },
   "outputs": [
    {
     "name": "stdout",
     "output_type": "stream",
     "text": [
      "Read 25000 labeled train reviews, 25000 labeled test reviews, and 50000 unlabeled reviews\n",
      "\n"
     ]
    }
   ],
   "source": [
    "print(\"Read {} labeled train reviews, \\\n",
    "{} labeled test reviews, and \\\n",
    "{} unlabeled reviews\\n\".format(train[\"review\"].size,\n",
    "                               test[\"review\"].size,\n",
    "                               unlabeled_train[\"review\"].size))"
   ]
  },
  {
   "cell_type": "code",
   "execution_count": 6,
   "metadata": {
    "collapsed": false
   },
   "outputs": [
    {
     "data": {
      "text/html": [
       "<div>\n",
       "<table border=\"1\" class=\"dataframe\">\n",
       "  <thead>\n",
       "    <tr style=\"text-align: right;\">\n",
       "      <th></th>\n",
       "      <th>id</th>\n",
       "      <th>sentiment</th>\n",
       "      <th>review</th>\n",
       "    </tr>\n",
       "  </thead>\n",
       "  <tbody>\n",
       "    <tr>\n",
       "      <th>0</th>\n",
       "      <td>\"5814_8\"</td>\n",
       "      <td>1</td>\n",
       "      <td>\"With all this stuff going down at the moment ...</td>\n",
       "    </tr>\n",
       "    <tr>\n",
       "      <th>1</th>\n",
       "      <td>\"2381_9\"</td>\n",
       "      <td>1</td>\n",
       "      <td>\"\\\"The Classic War of the Worlds\\\" by Timothy ...</td>\n",
       "    </tr>\n",
       "    <tr>\n",
       "      <th>2</th>\n",
       "      <td>\"7759_3\"</td>\n",
       "      <td>0</td>\n",
       "      <td>\"The film starts with a manager (Nicholas Bell...</td>\n",
       "    </tr>\n",
       "    <tr>\n",
       "      <th>3</th>\n",
       "      <td>\"3630_4\"</td>\n",
       "      <td>0</td>\n",
       "      <td>\"It must be assumed that those who praised thi...</td>\n",
       "    </tr>\n",
       "    <tr>\n",
       "      <th>4</th>\n",
       "      <td>\"9495_8\"</td>\n",
       "      <td>1</td>\n",
       "      <td>\"Superbly trashy and wondrously unpretentious ...</td>\n",
       "    </tr>\n",
       "  </tbody>\n",
       "</table>\n",
       "</div>"
      ],
      "text/plain": [
       "         id  sentiment                                             review\n",
       "0  \"5814_8\"          1  \"With all this stuff going down at the moment ...\n",
       "1  \"2381_9\"          1  \"\\\"The Classic War of the Worlds\\\" by Timothy ...\n",
       "2  \"7759_3\"          0  \"The film starts with a manager (Nicholas Bell...\n",
       "3  \"3630_4\"          0  \"It must be assumed that those who praised thi...\n",
       "4  \"9495_8\"          1  \"Superbly trashy and wondrously unpretentious ..."
      ]
     },
     "execution_count": 6,
     "metadata": {},
     "output_type": "execute_result"
    }
   ],
   "source": [
    "train.head()"
   ]
  },
  {
   "cell_type": "code",
   "execution_count": 7,
   "metadata": {
    "collapsed": false
   },
   "outputs": [
    {
     "name": "stdout",
     "output_type": "stream",
     "text": [
      "<class 'pandas.core.frame.DataFrame'>\n",
      "RangeIndex: 25000 entries, 0 to 24999\n",
      "Data columns (total 3 columns):\n",
      "id           25000 non-null object\n",
      "sentiment    25000 non-null int64\n",
      "review       25000 non-null object\n",
      "dtypes: int64(1), object(2)\n",
      "memory usage: 586.0+ KB\n"
     ]
    }
   ],
   "source": [
    "train.info()"
   ]
  },
  {
   "cell_type": "code",
   "execution_count": 8,
   "metadata": {
    "collapsed": false
   },
   "outputs": [
    {
     "data": {
      "text/html": [
       "<div>\n",
       "<table border=\"1\" class=\"dataframe\">\n",
       "  <thead>\n",
       "    <tr style=\"text-align: right;\">\n",
       "      <th></th>\n",
       "      <th>sentiment</th>\n",
       "    </tr>\n",
       "  </thead>\n",
       "  <tbody>\n",
       "    <tr>\n",
       "      <th>count</th>\n",
       "      <td>25000.00000</td>\n",
       "    </tr>\n",
       "    <tr>\n",
       "      <th>mean</th>\n",
       "      <td>0.50000</td>\n",
       "    </tr>\n",
       "    <tr>\n",
       "      <th>std</th>\n",
       "      <td>0.50001</td>\n",
       "    </tr>\n",
       "    <tr>\n",
       "      <th>min</th>\n",
       "      <td>0.00000</td>\n",
       "    </tr>\n",
       "    <tr>\n",
       "      <th>25%</th>\n",
       "      <td>0.00000</td>\n",
       "    </tr>\n",
       "    <tr>\n",
       "      <th>50%</th>\n",
       "      <td>0.50000</td>\n",
       "    </tr>\n",
       "    <tr>\n",
       "      <th>75%</th>\n",
       "      <td>1.00000</td>\n",
       "    </tr>\n",
       "    <tr>\n",
       "      <th>max</th>\n",
       "      <td>1.00000</td>\n",
       "    </tr>\n",
       "  </tbody>\n",
       "</table>\n",
       "</div>"
      ],
      "text/plain": [
       "         sentiment\n",
       "count  25000.00000\n",
       "mean       0.50000\n",
       "std        0.50001\n",
       "min        0.00000\n",
       "25%        0.00000\n",
       "50%        0.50000\n",
       "75%        1.00000\n",
       "max        1.00000"
      ]
     },
     "execution_count": 8,
     "metadata": {},
     "output_type": "execute_result"
    }
   ],
   "source": [
    "train.describe()"
   ]
  },
  {
   "cell_type": "markdown",
   "metadata": {},
   "source": [
    "Part 1: For Beginners - Bag of Words\n",
    "--\n",
    "https://www.kaggle.com/c/word2vec-nlp-tutorial/details/part-1-for-beginners-bag-of-words  \n",
    "\n",
    "What is NLP?\n",
    "\n",
    "NLP (Natural Language Processing) is a set of techniques for approaching text problems. This page will help you get started with loading and cleaning the IMDB movie reviews, then applying a simple Bag of Words model to get surprisingly accurate predictions of whether a review is thumbs-up or thumbs-down."
   ]
  },
  {
   "cell_type": "code",
   "execution_count": 9,
   "metadata": {
    "collapsed": false
   },
   "outputs": [],
   "source": [
    "class Text_Cleaning_Utilities(object):\n",
    "    \"\"\"Tools for processing text into segments for further learning\"\"\"\n",
    "\n",
    "    @staticmethod\n",
    "    def text_to_wordlist(text, \n",
    "                         remove_stopwords=False, \n",
    "                         remove_html=False, \n",
    "                         remove_non_letters=False, \n",
    "                         steeming=False):\n",
    "        '''Split a text into a list of words'''\n",
    "        #text = text.replace('-\\n','')\n",
    "        text = text.lower()\n",
    "        if remove_html:\n",
    "            text = BeautifulSoup(text, \"html5lib\").get_text()\n",
    "        if remove_non_letters:\n",
    "            text = re.sub(\"[^-A-Za-z0-9_]\", \" \", text)\n",
    "        list_words = word_tokenize(text)\n",
    "        list_words = [w.strip(string.punctuation) for w in list_words if w not in string.punctuation]\n",
    "        list_words = [w for w in list_words if len(w) > 1]\n",
    "        if remove_stopwords:\n",
    "            stops = set(stopwords.words(\"english\"))\n",
    "            list_words = [w for w in list_words if w not in stops]\n",
    "        if steeming:\n",
    "            stemmer = PorterStemmer()\n",
    "            list_words = [stemmer.stem(item) for item in list_words]\n",
    "        return list_words\n",
    "    \n",
    "    @staticmethod\n",
    "    def df_to_list_of_texts(dataframe, column, \n",
    "                            remove_stopwords=False, \n",
    "                            remove_html=False, \n",
    "                            remove_non_letters=False, \n",
    "                            steeming=False):\n",
    "        clean_texts = []\n",
    "        for txt_id in range(len(dataframe[column])):\n",
    "            clean_texts.append(' '.join(Text_Cleaning_Utilities.text_to_wordlist(dataframe[column][txt_id],\n",
    "                                                                                 remove_stopwords=remove_stopwords,\n",
    "                                                                                 remove_html=remove_html,\n",
    "                                                                                 remove_non_letters=remove_non_letters,\n",
    "                                                                                 steeming=steeming)))\n",
    "            \n",
    "        return clean_texts\n",
    "\n",
    "    @staticmethod\n",
    "    def df_to_list_of_tokens(dataframe, column, \n",
    "                             remove_stopwords=False, \n",
    "                             remove_html=False, \n",
    "                             remove_non_letters=False, \n",
    "                             steeming=False):\n",
    "        clean_texts = []\n",
    "        for txt_id in range(len(dataframe[column])):\n",
    "            clean_texts.append(Text_Cleaning_Utilities.text_to_wordlist(dataframe[column][txt_id],\n",
    "                                                                        remove_stopwords=remove_stopwords,\n",
    "                                                                        remove_html=remove_html,\n",
    "                                                                        remove_non_letters=remove_non_letters,\n",
    "                                                                        steeming=steeming))\n",
    "            \n",
    "        return clean_texts"
   ]
  },
  {
   "cell_type": "markdown",
   "metadata": {},
   "source": [
    "Cleaning all the datasets and getting word lists\n",
    "--\n",
    "first set is without stopwords"
   ]
  },
  {
   "cell_type": "code",
   "execution_count": 10,
   "metadata": {
    "collapsed": false
   },
   "outputs": [],
   "source": [
    "clean_train_reviews = Text_Cleaning_Utilities.df_to_list_of_texts(train, \n",
    "                                                                  'review', \n",
    "                                                                  remove_stopwords=True,\n",
    "                                                                  remove_html=True,)\n",
    "clean_test_reviews = Text_Cleaning_Utilities.df_to_list_of_texts(test, \n",
    "                                                                 'review', \n",
    "                                                                 remove_stopwords=True,\n",
    "                                                                 remove_html=True,)"
   ]
  },
  {
   "cell_type": "code",
   "execution_count": 11,
   "metadata": {
    "collapsed": false
   },
   "outputs": [
    {
     "data": {
      "text/plain": [
       "'stuff going moment mj started listening music watching odd documentary watched w'"
      ]
     },
     "execution_count": 11,
     "metadata": {},
     "output_type": "execute_result"
    }
   ],
   "source": [
    "clean_train_reviews[0][0:80]"
   ]
  },
  {
   "cell_type": "code",
   "execution_count": 12,
   "metadata": {
    "collapsed": false
   },
   "outputs": [
    {
     "data": {
      "text/plain": [
       "'naturally film main themes mortality nostalgia loss innocence perhaps surprising'"
      ]
     },
     "execution_count": 12,
     "metadata": {},
     "output_type": "execute_result"
    }
   ],
   "source": [
    "clean_test_reviews[0][0:80]"
   ]
  },
  {
   "cell_type": "markdown",
   "metadata": {},
   "source": [
    "Second set mantains stopwords"
   ]
  },
  {
   "cell_type": "code",
   "execution_count": 13,
   "metadata": {
    "collapsed": false
   },
   "outputs": [],
   "source": [
    "clean_train_reviews_sw = Text_Cleaning_Utilities.df_to_list_of_texts(train, \n",
    "                                                                     'review',\n",
    "                                                                     remove_html=True,)\n",
    "\n",
    "clean_test_reviews_sw = Text_Cleaning_Utilities.df_to_list_of_texts(test, \n",
    "                                                                    'review',\n",
    "                                                                    remove_html=True,)"
   ]
  },
  {
   "cell_type": "code",
   "execution_count": 14,
   "metadata": {
    "collapsed": false
   },
   "outputs": [
    {
     "data": {
      "text/plain": [
       "'with all this stuff going down at the moment with mj ve started listening to his'"
      ]
     },
     "execution_count": 14,
     "metadata": {},
     "output_type": "execute_result"
    }
   ],
   "source": [
    "clean_train_reviews_sw[0][0:80]"
   ]
  },
  {
   "cell_type": "code",
   "execution_count": 15,
   "metadata": {
    "collapsed": false
   },
   "outputs": [
    {
     "data": {
      "text/plain": [
       "'naturally in film who main themes are of mortality nostalgia and loss of innocen'"
      ]
     },
     "execution_count": 15,
     "metadata": {},
     "output_type": "execute_result"
    }
   ],
   "source": [
    "clean_test_reviews_sw[0][0:80]"
   ]
  },
  {
   "cell_type": "markdown",
   "metadata": {
    "collapsed": false
   },
   "source": [
    "Saving Pickle"
   ]
  },
  {
   "cell_type": "code",
   "execution_count": 16,
   "metadata": {
    "collapsed": true
   },
   "outputs": [],
   "source": [
    "with open(os.path.join(outputs, 'clean_reviews.pkl'),'wb') as f:\n",
    "    pickle.dump((clean_train_reviews, \n",
    "                 clean_test_reviews,\n",
    "                 clean_train_reviews_sw, \n",
    "                 clean_test_reviews_sw),f)"
   ]
  },
  {
   "cell_type": "markdown",
   "metadata": {},
   "source": [
    "Loading Pickle  "
   ]
  },
  {
   "cell_type": "code",
   "execution_count": 10,
   "metadata": {
    "collapsed": false
   },
   "outputs": [],
   "source": [
    "with open(os.path.join(outputs, 'clean_reviews.pkl'),'rb') as f:\n",
    "    (clean_train_reviews, \n",
    "     clean_test_reviews,\n",
    "     clean_train_reviews_sw,\n",
    "     clean_test_reviews_sw) = pickle.load(f)"
   ]
  },
  {
   "cell_type": "markdown",
   "metadata": {},
   "source": [
    "Creating Features from a Bag of Words (Using scikit-learn)\n",
    "--\n",
    "\n",
    "Now that we have our training reviews tidied up, how do we convert them to some kind of numeric representation for machine learning? One common approach is called a Bag of Words. The Bag of Words model learns a vocabulary from all of the documents, then models each document by counting the number of times each word appears. For example, consider the following two sentences:\n",
    "\n",
    "Sentence 1: \"The cat sat on the hat\"  \n",
    "Sentence 2: \"The dog ate the cat and the hat\"  \n",
    "\n",
    "From these two sentences, our vocabulary is as follows:\n",
    "\n",
    "{ the, cat, sat, on, hat, dog, ate, and }\n",
    "\n",
    "To get our bags of words, we count the number of times each word occurs in each sentence. In Sentence 1, \"the\" appears twice, and \"cat\", \"sat\", \"on\", and \"hat\" each appear once, so the feature vector for Sentence 1 is:\n",
    "\n",
    "{ the, cat, sat, on, hat, dog, ate, and }\n",
    "\n",
    "Sentence 1: [ 2, 1, 1, 1, 1, 0, 0, 0 ]\n",
    "\n",
    "Similarly, the features for Sentence 2 are: [ 3, 1, 0, 0, 1, 1, 1, 1]\n",
    "\n",
    "In the IMDB data, we have a very large number of reviews, which will give us a large vocabulary. To limit the size of the feature vectors, we should choose some maximum vocabulary size. Below, we use the 5000 most frequent words (remembering that stop words have already been removed).\n",
    "\n",
    "We'll be using the feature_extraction module from scikit-learn to create bag-of-words features.  \n",
    "We will test two strategies: CountVectorizer (term frequecies - TF) and TFIDF Vectorizer:  \n",
    "First we'll start with plain word counts (TF):  "
   ]
  },
  {
   "cell_type": "code",
   "execution_count": 18,
   "metadata": {
    "collapsed": false
   },
   "outputs": [],
   "source": [
    "# Initialize the \"CountVectorizer\" object, which is scikit-learn's bag of words tool.\n",
    "#http://scikit-learn.org/stable/modules/generated/sklearn.feature_extraction.text.CountVectorizer.html\n",
    "vectorizer_tf = CountVectorizer(input='content', \n",
    "                               encoding='utf-8', \n",
    "                               decode_error='strict', \n",
    "                               strip_accents=None, \n",
    "                               lowercase=True, \n",
    "                               preprocessor=None, \n",
    "                               tokenizer=None, \n",
    "                               stop_words=None, \n",
    "                               #token_pattern='(?u)\\b\\w\\w+\\b',\n",
    "                               ngram_range=(1, 2),\n",
    "                               analyzer='word', \n",
    "                               max_df=1.0, \n",
    "                               min_df=1, \n",
    "                               max_features=5000, \n",
    "                               vocabulary=None, \n",
    "                               binary=False, \n",
    "                               dtype=np.int64,\n",
    "                              )"
   ]
  },
  {
   "cell_type": "markdown",
   "metadata": {},
   "source": [
    "Fit_transform() does two functions: First, it fits the model and learns the vocabulary; \n",
    "second, it transforms our training data into feature vectors. \n",
    "The input to fit_transform should be a list of strings."
   ]
  },
  {
   "cell_type": "code",
   "execution_count": 19,
   "metadata": {
    "collapsed": false
   },
   "outputs": [
    {
     "name": "stdout",
     "output_type": "stream",
     "text": [
      "(25000, 5000)\n"
     ]
    }
   ],
   "source": [
    "train_data_features_tf = vectorizer_tf.fit_transform(clean_train_reviews)\n",
    "train_data_features_tf = train_data_features_tf.toarray() # Numpy arrays are easy to work with\n",
    "print(train_data_features_tf.shape)"
   ]
  },
  {
   "cell_type": "code",
   "execution_count": 20,
   "metadata": {
    "collapsed": false
   },
   "outputs": [
    {
     "name": "stdout",
     "output_type": "stream",
     "text": [
      "(25000, 5000)\n"
     ]
    }
   ],
   "source": [
    "test_data_features_tf = vectorizer_tf.fit_transform(clean_test_reviews)\n",
    "test_data_features_tf = test_data_features_tf.toarray() # Numpy arrays are easy to work with\n",
    "print(test_data_features_tf.shape)"
   ]
  },
  {
   "cell_type": "markdown",
   "metadata": {},
   "source": [
    "Now we are going to use TfIDf vectors and the train/test cleaned reviews with stopwords:"
   ]
  },
  {
   "cell_type": "code",
   "execution_count": 21,
   "metadata": {
    "collapsed": true
   },
   "outputs": [],
   "source": [
    "#http://scikit-learn.org/stable/modules/generated/sklearn.feature_extraction.text.TfidfVectorizer.html\n",
    "#Another approach using TfIDf vectorizer and using the texts with stopwords in:\n",
    "#https://github.com/zygmuntz/classifying-text/blob/master/bow_predict.py \n",
    "vectorizer_tfidf = TfidfVectorizer(input='content',\n",
    "                                  #encoding='utf-8',\n",
    "                                  decode_error='strict',\n",
    "                                  strip_accents=None,\n",
    "                                  lowercase=True,\n",
    "                                  preprocessor=None,\n",
    "                                  tokenizer=None,\n",
    "                                  analyzer='word',\n",
    "                                  stop_words=None,\n",
    "                                  #token_pattern='(?u)\\b\\w\\w+\\b',\n",
    "                                  ngram_range=(1, 2),\n",
    "                                  max_df=1.0,\n",
    "                                  min_df=1,\n",
    "                                  max_features=5000,\n",
    "                                  vocabulary=None, \n",
    "                                  binary=False, \n",
    "                                  dtype=np.int64,\n",
    "                                  norm='l2',\n",
    "                                  use_idf=True,\n",
    "                                  smooth_idf=True,\n",
    "                                  sublinear_tf=True)"
   ]
  },
  {
   "cell_type": "code",
   "execution_count": 22,
   "metadata": {
    "collapsed": false
   },
   "outputs": [
    {
     "name": "stdout",
     "output_type": "stream",
     "text": [
      "(25000, 5000)\n"
     ]
    }
   ],
   "source": [
    "train_data_features_tfidf = vectorizer_tfidf.fit_transform(clean_train_reviews_sw)\n",
    "train_data_features_tfidf = train_data_features_tfidf.toarray() # Numpy arrays are easy to work with\n",
    "print(train_data_features_tfidf.shape)"
   ]
  },
  {
   "cell_type": "code",
   "execution_count": 23,
   "metadata": {
    "collapsed": false
   },
   "outputs": [
    {
     "name": "stdout",
     "output_type": "stream",
     "text": [
      "(25000, 5000)\n"
     ]
    }
   ],
   "source": [
    "test_data_features_tfidf = vectorizer_tfidf.fit_transform(clean_test_reviews_sw)\n",
    "test_data_features_tfidf = test_data_features_tfidf.toarray() # Numpy arrays are easy to work with\n",
    "print(test_data_features_tfidf.shape)"
   ]
  },
  {
   "cell_type": "markdown",
   "metadata": {},
   "source": [
    "Saving Pickle"
   ]
  },
  {
   "cell_type": "code",
   "execution_count": 24,
   "metadata": {
    "collapsed": false
   },
   "outputs": [],
   "source": [
    "with open(os.path.join(outputs, 'train_test_data_features.pkl'),'wb') as f:\n",
    "    pickle.dump((train_data_features_tf, \n",
    "                 test_data_features_tf,\n",
    "                 train_data_features_tfidf,\n",
    "                 test_data_features_tfidf),f)"
   ]
  },
  {
   "cell_type": "markdown",
   "metadata": {},
   "source": [
    "Reading Pickle"
   ]
  },
  {
   "cell_type": "code",
   "execution_count": 11,
   "metadata": {
    "collapsed": false
   },
   "outputs": [],
   "source": [
    "with open(os.path.join(outputs, 'train_test_data_features.pkl'),'rb') as f:\n",
    "    (train_data_features_tf, \n",
    "    test_data_features_tf,\n",
    "    train_data_features_tfidf,\n",
    "    test_data_features_tfidf) = pickle.load(f)"
   ]
  },
  {
   "cell_type": "markdown",
   "metadata": {},
   "source": [
    "Dividing Train set for Cross Validation  \n",
    "--"
   ]
  },
  {
   "cell_type": "markdown",
   "metadata": {
    "collapsed": false
   },
   "source": [
    "https://github.com/zygmuntz/classifying-text/blob/master/bow_validate.py  \n",
    "Alternatively, we can use the indexes to divide the train samples  \n",
    "\n",
    "train_i, test_i = train_test_split(np.arange(len(train)), train_size = 0.8, random_state = 44)  \n",
    "\n",
    "After generating indexes, we can divide ou datasets:  \n",
    "traincv = train_data_features1[train_i]  \n",
    "testcv = train_data_features1[test_i]"
   ]
  },
  {
   "cell_type": "code",
   "execution_count": 26,
   "metadata": {
    "collapsed": true
   },
   "outputs": [],
   "source": [
    "#Plain Word Counts\n",
    "X_traincv_tf, X_testcv_tf, y_traincv_tf, y_testcv_tf = train_test_split(train_data_features_tf,\n",
    "                                                                        train[\"sentiment\"],\n",
    "                                                                        test_size=0.2,\n",
    "                                                                        random_state=0)"
   ]
  },
  {
   "cell_type": "code",
   "execution_count": 27,
   "metadata": {
    "collapsed": true
   },
   "outputs": [],
   "source": [
    "#TfIdf\n",
    "X_traincv_tfidf, X_testcv_tfidf, y_traincv_tfidf, y_testcv_tfidf = train_test_split(train_data_features_tfidf,\n",
    "                                                                                    train[\"sentiment\"],\n",
    "                                                                                    test_size=0.2,\n",
    "                                                                                    random_state=0)"
   ]
  },
  {
   "cell_type": "markdown",
   "metadata": {},
   "source": [
    "Training some Classifiers  \n",
    "--"
   ]
  },
  {
   "cell_type": "markdown",
   "metadata": {},
   "source": [
    "At this point, we have numeric training features from the Bag of Words and the original sentiment labels for each feature vector, so let's do some supervised learning! Here, we'll use some classifiers implementations included in  the scikit-learn package."
   ]
  },
  {
   "cell_type": "markdown",
   "metadata": {},
   "source": [
    "#### Random Forest"
   ]
  },
  {
   "cell_type": "code",
   "execution_count": 28,
   "metadata": {
    "collapsed": false
   },
   "outputs": [],
   "source": [
    "# Initialize a Random Forest classifier with 300 trees\n",
    "from sklearn.ensemble import RandomForestClassifier\n",
    "\n",
    "clf_RF_tf = RandomForestClassifier(n_estimators=300, \n",
    "                                   criterion='gini', \n",
    "                                   max_depth=None, \n",
    "                                   min_samples_split=2, \n",
    "                                   min_samples_leaf=1, \n",
    "                                   min_weight_fraction_leaf=0.0, \n",
    "                                   max_features='auto', \n",
    "                                   max_leaf_nodes=None, \n",
    "                                   bootstrap=False, \n",
    "                                   oob_score=False, \n",
    "                                   n_jobs=-1, \n",
    "                                   random_state=0, \n",
    "                                   verbose=0, \n",
    "                                   warm_start=False, \n",
    "                                   class_weight=None).fit(X_traincv_tf, y_traincv_tf)"
   ]
  },
  {
   "cell_type": "code",
   "execution_count": 29,
   "metadata": {
    "collapsed": false
   },
   "outputs": [
    {
     "name": "stdout",
     "output_type": "stream",
     "text": [
      "0.8632\n"
     ]
    }
   ],
   "source": [
    "eval_RF_tf_tts = clf_RF_tf.score(X_testcv_tf, y_testcv_tf)\n",
    "print(eval_RF_tf_tts)"
   ]
  },
  {
   "cell_type": "code",
   "execution_count": 30,
   "metadata": {
    "collapsed": false
   },
   "outputs": [
    {
     "data": {
      "text/plain": [
       "array([[ 0.44666667,  0.55333333],\n",
       "       [ 0.38666667,  0.61333333],\n",
       "       [ 0.31333333,  0.68666667],\n",
       "       ..., \n",
       "       [ 0.39333333,  0.60666667],\n",
       "       [ 0.8       ,  0.2       ],\n",
       "       [ 0.22      ,  0.78      ]])"
      ]
     },
     "execution_count": 30,
     "metadata": {},
     "output_type": "execute_result"
    }
   ],
   "source": [
    "clf_RF_tf.predict_proba(X_testcv_tf)"
   ]
  },
  {
   "cell_type": "markdown",
   "metadata": {},
   "source": [
    "Now we are going to train on the TfIdf samples:"
   ]
  },
  {
   "cell_type": "code",
   "execution_count": 31,
   "metadata": {
    "collapsed": false
   },
   "outputs": [],
   "source": [
    "# Initialize a Random Forest classifier with 300 trees\n",
    "clf_RF_tfidf = RandomForestClassifier(n_estimators=300, \n",
    "                                      criterion='gini', \n",
    "                                      max_depth=None, \n",
    "                                      min_samples_split=2, \n",
    "                                      min_samples_leaf=1, \n",
    "                                      min_weight_fraction_leaf=0.0, \n",
    "                                      max_features='auto', \n",
    "                                      max_leaf_nodes=None, \n",
    "                                      bootstrap=False, \n",
    "                                      oob_score=False, \n",
    "                                      n_jobs=-1, \n",
    "                                      random_state=0, \n",
    "                                      verbose=0, \n",
    "                                      warm_start=False, \n",
    "                                      class_weight=None).fit(X_traincv_tfidf, y_traincv_tfidf)"
   ]
  },
  {
   "cell_type": "code",
   "execution_count": 32,
   "metadata": {
    "collapsed": false
   },
   "outputs": [
    {
     "name": "stdout",
     "output_type": "stream",
     "text": [
      "0.8536\n"
     ]
    }
   ],
   "source": [
    "eval_RF_tfidf_tts = clf_RF_tfidf.score(X_testcv_tfidf, y_testcv_tfidf)\n",
    "print(eval_RF_tfidf_tts)"
   ]
  },
  {
   "cell_type": "code",
   "execution_count": 33,
   "metadata": {
    "collapsed": false
   },
   "outputs": [
    {
     "data": {
      "text/plain": [
       "array([[ 0.42333333,  0.57666667],\n",
       "       [ 0.36666667,  0.63333333],\n",
       "       [ 0.33      ,  0.67      ],\n",
       "       ..., \n",
       "       [ 0.25666667,  0.74333333],\n",
       "       [ 0.75333333,  0.24666667],\n",
       "       [ 0.33      ,  0.67      ]])"
      ]
     },
     "execution_count": 33,
     "metadata": {},
     "output_type": "execute_result"
    }
   ],
   "source": [
    "clf_RF_tfidf.predict_proba(X_testcv_tfidf)"
   ]
  },
  {
   "cell_type": "markdown",
   "metadata": {},
   "source": [
    "#### Logistic Regression  "
   ]
  },
  {
   "cell_type": "code",
   "execution_count": 34,
   "metadata": {
    "collapsed": false
   },
   "outputs": [],
   "source": [
    "#http://scikit-learn.org/stable/modules/generated/sklearn.linear_model.LogisticRegression.html\n",
    "from sklearn.linear_model import LogisticRegression as LR\n",
    "\n",
    "clf_LR_tf = LR(penalty='l2',\n",
    "               dual=False,\n",
    "               tol=0.0001,\n",
    "               C=1.0,\n",
    "               fit_intercept=True,\n",
    "               intercept_scaling=1,\n",
    "               class_weight=None,\n",
    "               random_state=0,\n",
    "               solver='liblinear',\n",
    "               max_iter=100,\n",
    "               multi_class='ovr',\n",
    "               verbose=0).fit(X_traincv_tf, y_traincv_tf)"
   ]
  },
  {
   "cell_type": "code",
   "execution_count": 35,
   "metadata": {
    "collapsed": false
   },
   "outputs": [
    {
     "name": "stdout",
     "output_type": "stream",
     "text": [
      "0.8522\n"
     ]
    }
   ],
   "source": [
    "eval_LR_tf_tts = clf_LR_tf.score(X_testcv_tf, y_testcv_tf)\n",
    "print(eval_LR_tf_tts)"
   ]
  },
  {
   "cell_type": "code",
   "execution_count": 36,
   "metadata": {
    "collapsed": false
   },
   "outputs": [],
   "source": [
    "clf_LR_tfidf = LR(penalty='l2',\n",
    "                  dual=False,\n",
    "                  tol=0.0001,\n",
    "                  C=1.0,\n",
    "                  fit_intercept=True,\n",
    "                  intercept_scaling=1,\n",
    "                  class_weight=None,\n",
    "                  random_state=0,\n",
    "                  solver='liblinear',\n",
    "                  max_iter=100,\n",
    "                  multi_class='ovr',\n",
    "                  verbose=0).fit(X_traincv_tfidf, y_traincv_tfidf)"
   ]
  },
  {
   "cell_type": "code",
   "execution_count": 37,
   "metadata": {
    "collapsed": false
   },
   "outputs": [
    {
     "name": "stdout",
     "output_type": "stream",
     "text": [
      "0.8926\n"
     ]
    }
   ],
   "source": [
    "eval_LR_tfidf_tts = clf_LR_tfidf.score(X_testcv_tfidf, y_testcv_tfidf)\n",
    "print(eval_LR_tfidf_tts)"
   ]
  },
  {
   "cell_type": "markdown",
   "metadata": {},
   "source": [
    "#### Gradient Boost Classifier  "
   ]
  },
  {
   "cell_type": "code",
   "execution_count": 38,
   "metadata": {
    "collapsed": false
   },
   "outputs": [],
   "source": [
    "#http://scikit-learn.org/stable/modules/generated/sklearn.ensemble.GradientBoostingClassifier.html\n",
    "from sklearn.ensemble import GradientBoostingClassifier\n",
    "\n",
    "clf_GBC_tf = GradientBoostingClassifier(loss='deviance',\n",
    "                                        learning_rate=0.1,\n",
    "                                        n_estimators=100,\n",
    "                                        subsample=1.0,\n",
    "                                        min_samples_split=2,\n",
    "                                        min_samples_leaf=1,\n",
    "                                        min_weight_fraction_leaf=0.0,\n",
    "                                        max_depth=3,\n",
    "                                        init=None,\n",
    "                                        random_state=0,\n",
    "                                        max_features=None,\n",
    "                                        verbose=0,\n",
    "                                        max_leaf_nodes=None,\n",
    "                                        warm_start=False,\n",
    "                                        presort='auto').fit(X_traincv_tf, y_traincv_tf)"
   ]
  },
  {
   "cell_type": "code",
   "execution_count": 39,
   "metadata": {
    "collapsed": false
   },
   "outputs": [
    {
     "name": "stdout",
     "output_type": "stream",
     "text": [
      "0.811\n"
     ]
    }
   ],
   "source": [
    "eval_GBC_tf_tts = clf_GBC_tf.score(X_testcv_tf, y_testcv_tf)\n",
    "print(eval_GBC_tf_tts)"
   ]
  },
  {
   "cell_type": "code",
   "execution_count": 40,
   "metadata": {
    "collapsed": false
   },
   "outputs": [],
   "source": [
    "clf_GBC_tfidf = GradientBoostingClassifier(loss='deviance',\n",
    "                                           learning_rate=0.1,\n",
    "                                           n_estimators=100,\n",
    "                                           subsample=1.0,\n",
    "                                           min_samples_split=2,\n",
    "                                           min_samples_leaf=1,\n",
    "                                           min_weight_fraction_leaf=0.0,\n",
    "                                           max_depth=3,\n",
    "                                           init=None,\n",
    "                                           random_state=0,\n",
    "                                           max_features=None,\n",
    "                                           verbose=0,\n",
    "                                           max_leaf_nodes=None,\n",
    "                                           warm_start=False,\n",
    "                                           presort='auto').fit(X_traincv_tfidf, y_traincv_tfidf)"
   ]
  },
  {
   "cell_type": "code",
   "execution_count": 41,
   "metadata": {
    "collapsed": false
   },
   "outputs": [
    {
     "name": "stdout",
     "output_type": "stream",
     "text": [
      "0.8128\n"
     ]
    }
   ],
   "source": [
    "eval_GBC_tfidf_tts = clf_GBC_tfidf.score(X_testcv_tfidf, y_testcv_tfidf)\n",
    "print(eval_GBC_tfidf_tts)"
   ]
  },
  {
   "cell_type": "markdown",
   "metadata": {},
   "source": [
    "#### Let's do some voting"
   ]
  },
  {
   "cell_type": "code",
   "execution_count": 42,
   "metadata": {
    "collapsed": false
   },
   "outputs": [],
   "source": [
    "# http://scikit-learn.org/stable/modules/generated/sklearn.ensemble.VotingClassifier.html\n",
    "from sklearn.ensemble import VotingClassifier\n",
    "\n",
    "clf_vot_tf = VotingClassifier(estimators=[('rf', clf_RF_tf),\n",
    "                                          ('lr', clf_LR_tf),\n",
    "                                          ('gbc', clf_GBC_tf)], voting='soft').fit(X_traincv_tf, y_traincv_tf)"
   ]
  },
  {
   "cell_type": "code",
   "execution_count": 43,
   "metadata": {
    "collapsed": false
   },
   "outputs": [
    {
     "name": "stdout",
     "output_type": "stream",
     "text": [
      "0.867\n"
     ]
    }
   ],
   "source": [
    "eval_vot_tf_tts = clf_vot_tf.score(X_testcv_tf, y_testcv_tf)\n",
    "print(eval_vot_tf_tts)"
   ]
  },
  {
   "cell_type": "code",
   "execution_count": 44,
   "metadata": {
    "collapsed": false
   },
   "outputs": [],
   "source": [
    "clf_vot_tfidf = VotingClassifier(estimators=[('rf', clf_RF_tfidf),\n",
    "                                             ('lr', clf_LR_tfidf),\n",
    "                                             ('gbc', clf_GBC_tfidf)], voting='soft').fit(X_traincv_tfidf, y_traincv_tfidf)"
   ]
  },
  {
   "cell_type": "code",
   "execution_count": 45,
   "metadata": {
    "collapsed": false
   },
   "outputs": [
    {
     "name": "stdout",
     "output_type": "stream",
     "text": [
      "0.8788\n"
     ]
    }
   ],
   "source": [
    "eval_vot_tfidf_tts = clf_vot_tfidf.score(X_testcv_tfidf, y_testcv_tfidf)\n",
    "print(eval_vot_tfidf_tts)"
   ]
  },
  {
   "cell_type": "markdown",
   "metadata": {},
   "source": [
    "Saving the trained classifiers"
   ]
  },
  {
   "cell_type": "code",
   "execution_count": 46,
   "metadata": {
    "collapsed": false
   },
   "outputs": [],
   "source": [
    "with open(os.path.join(outputs, 'classifiers.pkl'),'wb') as f:\n",
    "    pickle.dump((clf_RF_tf, eval_RF_tf_tts,\n",
    "                 clf_RF_tfidf, eval_RF_tfidf_tts,\n",
    "                 clf_LR_tf, eval_LR_tf_tts,\n",
    "                 clf_LR_tfidf, eval_LR_tfidf_tts,                \n",
    "                 clf_GBC_tf, eval_GBC_tf_tts,\n",
    "                 clf_GBC_tfidf, eval_GBC_tfidf_tts,\n",
    "                 clf_vot_tf, eval_vot_tf_tts,\n",
    "                 clf_vot_tfidf, eval_vot_tfidf_tts),f)"
   ]
  },
  {
   "cell_type": "markdown",
   "metadata": {},
   "source": [
    "Loading the classifiers from Pickle"
   ]
  },
  {
   "cell_type": "code",
   "execution_count": 47,
   "metadata": {
    "collapsed": false
   },
   "outputs": [],
   "source": [
    "with open(os.path.join(outputs, 'classifiers.pkl'),'rb') as f:\n",
    "    (clf_RF_tf, eval_RF_tf_tts,\n",
    "     clf_RF_tfidf, eval_RF_tfidf_tts,\n",
    "     clf_LR_tf, eval_LR_tf_tts,\n",
    "     clf_LR_tfidf, eval_LR_tfidf_tts,                \n",
    "     clf_GBC_tf, eval_GBC_tf_tts,\n",
    "     clf_GBC_tfidf, eval_GBC_tfidf_tts,\n",
    "     clf_vot_tf, eval_vot_tf_tts,\n",
    "     clf_vot_tfidf, eval_vot_tfidf_tts) = pickle.load(f)"
   ]
  },
  {
   "cell_type": "code",
   "execution_count": 48,
   "metadata": {
    "collapsed": false
   },
   "outputs": [
    {
     "data": {
      "image/png": "[encoded data removed]",
      "text/plain": [
       "<matplotlib.figure.Figure at 0x7f3e48622f28>"
      ]
     },
     "metadata": {},
     "output_type": "display_data"
    }
   ],
   "source": [
    "dic_results = {'RandomForest_TF': eval_RF_tf_tts,\n",
    "               'RandomForest_TFIDF': eval_RF_tfidf_tts,\n",
    "               'LogiReg_TF': eval_LR_tf_tts,\n",
    "               'LogiReg_TFIDF': eval_LR_tfidf_tts,\n",
    "               'GradBoost_TF': eval_GBC_tf_tts,\n",
    "               'GradBoost_TFIDF': eval_GBC_tfidf_tts,\n",
    "               'Voting_TF': eval_vot_tf_tts,\n",
    "               'Voting_TFIDF': eval_vot_tfidf_tts,\n",
    "              }\n",
    "\n",
    "import operator\n",
    "tup_results = sorted(dic_results.items(), key=operator.itemgetter(1))\n",
    "\n",
    "N = len(dic_results)\n",
    "ind = np.arange(N)  # the x locations for the groups\n",
    "width = 0.40       # the width of the bars\n",
    "\n",
    "fig = plt.figure(figsize=(12,8))\n",
    "ax = fig.add_subplot(111)\n",
    "rects = ax.bar(ind, list(zip(*tup_results))[1], width,)\n",
    "for rect in rects:\n",
    "    height = rect.get_height()\n",
    "    ax.text(rect.get_x()+rect.get_width()/2., \n",
    "            1.005*height, \n",
    "            '{0:.4f}'.format(height), \n",
    "            ha='center', \n",
    "            va='bottom',)\n",
    "\n",
    "ax.set_ylabel('Scores')\n",
    "ax.set_ylim(ymin=0.78,ymax = 0.92)\n",
    "ax.set_title(\"Classificators' performance\")\n",
    "ax.set_xticks(ind + width/2.)\n",
    "ax.set_xticklabels(list(zip(*tup_results))[0], rotation=45)\n",
    "\n",
    "plt.show()"
   ]
  },
  {
   "cell_type": "markdown",
   "metadata": {},
   "source": [
    "Creating a Submission  \n",
    "--\n",
    "\n",
    "All that remains is to run the best classifier on our test set and create a submission file. If you haven't already done so, download testData.tsv from the Data page. This file contains another 25,000 reviews and ids; our task is to predict the sentiment label.\n",
    "\n",
    "Note that when we use the Bag of Words for the test set, we only call \"transform\", not \"fit_transform\" as we did for the training set. In machine learning, you shouldn't use the test set to fit your model, otherwise you run the risk of overfitting. For this reason, we keep the test set off-limits until we are ready to make predictions."
   ]
  },
  {
   "cell_type": "code",
   "execution_count": 49,
   "metadata": {
    "collapsed": false
   },
   "outputs": [
    {
     "name": "stdout",
     "output_type": "stream",
     "text": [
      "<class 'pandas.core.frame.DataFrame'>\n",
      "RangeIndex: 25000 entries, 0 to 24999\n",
      "Data columns (total 2 columns):\n",
      "id        25000 non-null object\n",
      "review    25000 non-null object\n",
      "dtypes: object(2)\n",
      "memory usage: 390.7+ KB\n"
     ]
    }
   ],
   "source": [
    "test.info()"
   ]
  },
  {
   "cell_type": "code",
   "execution_count": 50,
   "metadata": {
    "collapsed": false
   },
   "outputs": [
    {
     "data": {
      "text/html": [
       "<div>\n",
       "<table border=\"1\" class=\"dataframe\">\n",
       "  <thead>\n",
       "    <tr style=\"text-align: right;\">\n",
       "      <th></th>\n",
       "      <th>id</th>\n",
       "      <th>review</th>\n",
       "    </tr>\n",
       "  </thead>\n",
       "  <tbody>\n",
       "    <tr>\n",
       "      <th>0</th>\n",
       "      <td>\"12311_10\"</td>\n",
       "      <td>\"Naturally in a film who's main themes are of ...</td>\n",
       "    </tr>\n",
       "    <tr>\n",
       "      <th>1</th>\n",
       "      <td>\"8348_2\"</td>\n",
       "      <td>\"This movie is a disaster within a disaster fi...</td>\n",
       "    </tr>\n",
       "    <tr>\n",
       "      <th>2</th>\n",
       "      <td>\"5828_4\"</td>\n",
       "      <td>\"All in all, this is a movie for kids. We saw ...</td>\n",
       "    </tr>\n",
       "    <tr>\n",
       "      <th>3</th>\n",
       "      <td>\"7186_2\"</td>\n",
       "      <td>\"Afraid of the Dark left me with the impressio...</td>\n",
       "    </tr>\n",
       "    <tr>\n",
       "      <th>4</th>\n",
       "      <td>\"12128_7\"</td>\n",
       "      <td>\"A very accurate depiction of small time mob l...</td>\n",
       "    </tr>\n",
       "  </tbody>\n",
       "</table>\n",
       "</div>"
      ],
      "text/plain": [
       "           id                                             review\n",
       "0  \"12311_10\"  \"Naturally in a film who's main themes are of ...\n",
       "1    \"8348_2\"  \"This movie is a disaster within a disaster fi...\n",
       "2    \"5828_4\"  \"All in all, this is a movie for kids. We saw ...\n",
       "3    \"7186_2\"  \"Afraid of the Dark left me with the impressio...\n",
       "4   \"12128_7\"  \"A very accurate depiction of small time mob l..."
      ]
     },
     "execution_count": 50,
     "metadata": {},
     "output_type": "execute_result"
    }
   ],
   "source": [
    "test.head()"
   ]
  },
  {
   "cell_type": "code",
   "execution_count": 51,
   "metadata": {
    "collapsed": false
   },
   "outputs": [
    {
     "data": {
      "text/plain": [
       "(25000, 5000)"
      ]
     },
     "execution_count": 51,
     "metadata": {},
     "output_type": "execute_result"
    }
   ],
   "source": [
    "test_data_features_tfidf.shape"
   ]
  },
  {
   "cell_type": "code",
   "execution_count": 52,
   "metadata": {
    "collapsed": false
   },
   "outputs": [],
   "source": [
    "# Use the logistic regression with tfidf vectors to make sentiment label predictions\n",
    "result = clf_LR_tfidf.predict(test_data_features_tfidf)\n",
    "result_prob = clf_LR_tfidf.predict_proba(test_data_features_tfidf)\n",
    "output = pd.DataFrame(data={\"id\":test[\"id\"], \"sentiment\":result,})# \"probs\":result_prob[:,1]})\n",
    "# Use pandas to write the comma-separated output file\n",
    "output.to_csv(os.path.join(outputs,'LR_tfidf_model.csv'), index=False, quoting=3)"
   ]
  },
  {
   "cell_type": "code",
   "execution_count": 53,
   "metadata": {
    "collapsed": false
   },
   "outputs": [
    {
     "data": {
      "text/html": [
       "<div>\n",
       "<table border=\"1\" class=\"dataframe\">\n",
       "  <thead>\n",
       "    <tr style=\"text-align: right;\">\n",
       "      <th></th>\n",
       "      <th>id</th>\n",
       "      <th>sentiment</th>\n",
       "    </tr>\n",
       "  </thead>\n",
       "  <tbody>\n",
       "    <tr>\n",
       "      <th>0</th>\n",
       "      <td>\"12311_10\"</td>\n",
       "      <td>0</td>\n",
       "    </tr>\n",
       "    <tr>\n",
       "      <th>1</th>\n",
       "      <td>\"8348_2\"</td>\n",
       "      <td>0</td>\n",
       "    </tr>\n",
       "    <tr>\n",
       "      <th>2</th>\n",
       "      <td>\"5828_4\"</td>\n",
       "      <td>0</td>\n",
       "    </tr>\n",
       "    <tr>\n",
       "      <th>3</th>\n",
       "      <td>\"7186_2\"</td>\n",
       "      <td>0</td>\n",
       "    </tr>\n",
       "    <tr>\n",
       "      <th>4</th>\n",
       "      <td>\"12128_7\"</td>\n",
       "      <td>0</td>\n",
       "    </tr>\n",
       "  </tbody>\n",
       "</table>\n",
       "</div>"
      ],
      "text/plain": [
       "           id  sentiment\n",
       "0  \"12311_10\"          0\n",
       "1    \"8348_2\"          0\n",
       "2    \"5828_4\"          0\n",
       "3    \"7186_2\"          0\n",
       "4   \"12128_7\"          0"
      ]
     },
     "execution_count": 53,
     "metadata": {},
     "output_type": "execute_result"
    }
   ],
   "source": [
    "output.head()"
   ]
  },
  {
   "cell_type": "markdown",
   "metadata": {},
   "source": [
    "Part 2: Alternative Vectors\n",
    "--\n",
    "\n",
    "In the subsequent sections, we are going to explore alternate ways to codify text into vectors. We are going to explore three techniques, namely Latent Semantic Indexing (LSI), Latent Dirichlet Allocation (LDA) and Word2vec."
   ]
  },
  {
   "cell_type": "markdown",
   "metadata": {},
   "source": [
    "### Topic Modeling and Topic Vectors"
   ]
  },
  {
   "cell_type": "markdown",
   "metadata": {},
   "source": [
    "To build the models, the more we have texts, the better. The size of the Corpus is essential for having good results. We don't need labels in order to create the models, so we will use the train examples and also some unlabeled reviews. The list of cleaned sentences will be used for all the subsequent models."
   ]
  },
  {
   "cell_type": "code",
   "execution_count": 28,
   "metadata": {
    "collapsed": true
   },
   "outputs": [],
   "source": [
    "import logging\n",
    "logging.basicConfig(format='%(asctime)s : %(levelname)s : %(message)s', level=logging.INFO)"
   ]
  },
  {
   "cell_type": "code",
   "execution_count": 29,
   "metadata": {
    "collapsed": false
   },
   "outputs": [
    {
     "name": "stdout",
     "output_type": "stream",
     "text": [
      "Parsing sentences from training set\n",
      "Parsing sentences from unlabeled set\n",
      "Parsing sentences with stopwords from training set\n",
      "Parsing sentences with stopwords from unlabeled set\n"
     ]
    }
   ],
   "source": [
    "print(\"Parsing sentences from training set\")\n",
    "labeled_sentences = Text_Cleaning_Utilities.df_to_list_of_tokens(train,\n",
    "                                                                 'review', \n",
    "                                                                 remove_html=True,\n",
    "                                                                 remove_stopwords=True,)\n",
    "print(\"Parsing sentences from unlabeled set\")\n",
    "all_sentences = labeled_sentences + Text_Cleaning_Utilities.df_to_list_of_tokens(unlabeled_train,\n",
    "                                                                                 'review', \n",
    "                                                                                 remove_html=True,\n",
    "                                                                                 remove_stopwords=True,)\n",
    "\n",
    "print(\"Parsing sentences from test set\")\n",
    "test_labeled_sentences = Text_Cleaning_Utilities.df_to_list_of_tokens(test,\n",
    "                                                                      'review', \n",
    "                                                                      remove_html=True,\n",
    "                                                                      remove_stopwords=True,)\n",
    "\n",
    "print(\"Parsing sentences with stopwords from training set\")\n",
    "labeled_sentences_sw = Text_Cleaning_Utilities.df_to_list_of_tokens(train,\n",
    "                                                                    'review', \n",
    "                                                                    remove_html=True,\n",
    "                                                                    remove_stopwords=False,)\n",
    "\n",
    "print(\"Parsing sentences with stopwords from unlabeled set\")\n",
    "all_sentences_sw = labeled_sentences_sw + Text_Cleaning_Utilities.df_to_list_of_tokens(unlabeled_train,\n",
    "                                                                                       'review', \n",
    "                                                                                       remove_html=True,\n",
    "                                                                                       remove_stopwords=False,)\n",
    "\n",
    "print(\"Parsing sentences with stopwords from test set\")\n",
    "test_labeled_sentences_sw = Text_Cleaning_Utilities.df_to_list_of_tokens(test,\n",
    "                                                                         'review', \n",
    "                                                                         remove_html=True,\n",
    "                                                                         remove_stopwords=False,)"
   ]
  },
  {
   "cell_type": "code",
   "execution_count": 30,
   "metadata": {
    "collapsed": false
   },
   "outputs": [
    {
     "name": "stdout",
     "output_type": "stream",
     "text": [
      "25000\n",
      "75000\n",
      "25000\n",
      "75000\n"
     ]
    }
   ],
   "source": [
    "print(len(labeled_sentences))\n",
    "print(len(all_sentences))\n",
    "print(len(test_labeled_sentences))\n",
    "print(len(labeled_sentences_sw))\n",
    "print(len(all_sentences_sw))\n",
    "print(len(test_labeled_sentences_sw))"
   ]
  },
  {
   "cell_type": "markdown",
   "metadata": {},
   "source": [
    "Saving sentences to a Pickle"
   ]
  },
  {
   "cell_type": "code",
   "execution_count": 31,
   "metadata": {
    "collapsed": true
   },
   "outputs": [],
   "source": [
    "with open(os.path.join(outputs, 'sentences.pkl'),'wb') as f:\n",
    "    pickle.dump((labeled_sentences,\n",
    "                 all_sentences,\n",
    "                 test_labeled_sentences,\n",
    "                 labeled_sentences_sw,\n",
    "                 all_sentences_sw,\n",
    "                 test_labeled_sentences_sw,), f)"
   ]
  },
  {
   "cell_type": "markdown",
   "metadata": {},
   "source": [
    "Loading sentences from a Pickle"
   ]
  },
  {
   "cell_type": "code",
   "execution_count": 12,
   "metadata": {
    "collapsed": true
   },
   "outputs": [],
   "source": [
    "with open(os.path.join(outputs, 'sentences.pkl'),'rb') as f:\n",
    "    (labeled_sentences,\n",
    "     all_sentences,\n",
    "     test_labeled_sentences,\n",
    "     labeled_sentences_sw,\n",
    "     all_sentences_sw,\n",
    "     test_labeled_sentences_sw,) = pickle.load(f)"
   ]
  },
  {
   "cell_type": "code",
   "execution_count": 32,
   "metadata": {
    "collapsed": true
   },
   "outputs": [],
   "source": [
    "def nltk_stopwords():\n",
    "    return set(nltk.corpus.stopwords.words('english'))\n",
    "\n",
    "def prep_corpus(docs, additional_stopwords=set(), no_below=4, no_above=0.7):\n",
    "    print('Building dictionary...')\n",
    "    dictionary = corpora.Dictionary(docs)\n",
    "    print('{} Tokens extracted from {} texts'.format(len(dictionary.keys()), dictionary.num_docs))\n",
    "    stopwords = nltk_stopwords().union(additional_stopwords)\n",
    "    #stopword_ids = [dictionary.token2id[sw] for sw in stopwords if sw in dictionary.token2id]\n",
    "    stopword_ids = map(dictionary.token2id.get, stopwords)\n",
    "    dictionary.filter_tokens(stopword_ids)\n",
    "    #low_freq_ids = [tokenid for tokenid, docfreq in dictionary.dfs.items() if docfreq < 4]\n",
    "    #dictionary.filter_tokens(low_freq_ids)\n",
    "    dictionary.filter_extremes(no_below=no_below, no_above=no_above, keep_n=None)\n",
    "    dictionary.compactify()\n",
    "    print('{} Tokens after cleaning'.format(len(dictionary.keys())))\n",
    "    #print('Building corpus...')\n",
    "    #corpus = [dictionary.doc2bow(doc) for doc in docs]\n",
    "    return dictionary #, corpus"
   ]
  },
  {
   "cell_type": "markdown",
   "metadata": {},
   "source": [
    "Compacting and saving the dictionary"
   ]
  },
  {
   "cell_type": "code",
   "execution_count": 33,
   "metadata": {
    "collapsed": false
   },
   "outputs": [
    {
     "name": "stdout",
     "output_type": "stream",
     "text": [
      "Building dictionary...\n",
      "256792 Tokens extracted from 75000 texts\n",
      "56378 Tokens after cleaning\n",
      "dictionary done\n",
      "dictionary saved\n"
     ]
    }
   ],
   "source": [
    "additional_stopwords=set(['n\\'t', 'movie'])\n",
    "\n",
    "dictionary = prep_corpus(all_sentences, additional_stopwords)\n",
    "dictionary.compactify()\n",
    "print('dictionary done')\n",
    "\n",
    "dictionary.save(os.path.join(outputs, 'reviews.dict'))\n",
    "print('dictionary saved')"
   ]
  },
  {
   "cell_type": "code",
   "execution_count": 34,
   "metadata": {
    "collapsed": false
   },
   "outputs": [
    {
     "name": "stdout",
     "output_type": "stream",
     "text": [
      "15396\n"
     ]
    }
   ],
   "source": [
    "#print(dictionary.token2id['movie']) #verify if these words were in the stopwords list\n",
    "#print(dictionary.token2id['n\\'t'])\n",
    "print(dictionary.token2id['like'])"
   ]
  },
  {
   "cell_type": "markdown",
   "metadata": {},
   "source": [
    "Loading dictionary"
   ]
  },
  {
   "cell_type": "code",
   "execution_count": 13,
   "metadata": {
    "collapsed": false
   },
   "outputs": [],
   "source": [
    "dictionary = corpora.dictionary.Dictionary.load(os.path.join(outputs, 'reviews.dict'))"
   ]
  },
  {
   "cell_type": "markdown",
   "metadata": {},
   "source": [
    "Generating the Corpora (tf and tfidf"
   ]
  },
  {
   "cell_type": "code",
   "execution_count": 35,
   "metadata": {
    "collapsed": false
   },
   "outputs": [
    {
     "name": "stdout",
     "output_type": "stream",
     "text": [
      "corpus tf done\n",
      "corpus tfidf done\n"
     ]
    }
   ],
   "source": [
    "corpus_tf = [dictionary.doc2bow(sentence) for sentence in all_sentences]\n",
    "print('corpus tf done')\n",
    "tfidf = models.TfidfModel(corpus_tf)\n",
    "corpus_tfidf = tfidf[corpus_tf]\n",
    "print('corpus tfidf done')"
   ]
  },
  {
   "cell_type": "markdown",
   "metadata": {},
   "source": [
    "Saving the Corpora"
   ]
  },
  {
   "cell_type": "code",
   "execution_count": 36,
   "metadata": {
    "collapsed": false
   },
   "outputs": [],
   "source": [
    "corpora.MmCorpus.serialize(os.path.join(outputs, 'corpus_tf.mm'), corpus_tf)\n",
    "corpora.MmCorpus.serialize(os.path.join(outputs, 'corpus_tfidf.mm'), corpus_tfidf)"
   ]
  },
  {
   "cell_type": "markdown",
   "metadata": {},
   "source": [
    "Loading the Corpora"
   ]
  },
  {
   "cell_type": "code",
   "execution_count": 14,
   "metadata": {
    "collapsed": false
   },
   "outputs": [],
   "source": [
    "corpus_tf = corpora.MmCorpus(os.path.join(outputs, 'corpus_tf.mm'))\n",
    "corpus_tfidf = corpora.MmCorpus(os.path.join(outputs, 'corpus_tfidf.mm'))"
   ]
  },
  {
   "cell_type": "markdown",
   "metadata": {},
   "source": [
    "### Latent Semantic Indexing\n",
    "https://en.wikipedia.org/wiki/Latent_semantic_analysis  "
   ]
  },
  {
   "cell_type": "markdown",
   "metadata": {},
   "source": [
    "Generating the Models and the Corpora"
   ]
  },
  {
   "cell_type": "code",
   "execution_count": 37,
   "metadata": {
    "collapsed": false
   },
   "outputs": [
    {
     "name": "stdout",
     "output_type": "stream",
     "text": [
      "corpus lsi - TF done\n",
      "corpus lsi - TFIDF done\n"
     ]
    }
   ],
   "source": [
    "lsi_tf = models.LsiModel(corpus_tf, id2word=dictionary, num_topics=10)\n",
    "corpus_lsi_tf = lsi_tf[corpus_tf]\n",
    "print('corpus lsi - TF done')\n",
    "lsi_tfidf = models.LsiModel(corpus_tfidf, id2word=dictionary, num_topics=10)\n",
    "corpus_lsi_tfidf = lsi_tfidf[corpus_tfidf]\n",
    "print('corpus lsi - TFIDF done')"
   ]
  },
  {
   "cell_type": "markdown",
   "metadata": {},
   "source": [
    "Saving the Models and the Corpora"
   ]
  },
  {
   "cell_type": "code",
   "execution_count": 38,
   "metadata": {
    "collapsed": false
   },
   "outputs": [],
   "source": [
    "lsi_tf.save(os.path.join(outputs, 'model_tf.lsi'))\n",
    "corpora.MmCorpus.serialize(os.path.join(outputs, 'corpus_lsi_tf.mm'), corpus_lsi_tf)\n",
    "lsi_tfidf.save(os.path.join(outputs, 'model_tfidf.lsi'))\n",
    "corpora.MmCorpus.serialize(os.path.join(outputs, 'corpus_lsi_tfidf.mm'), corpus_lsi_tfidf)"
   ]
  },
  {
   "cell_type": "markdown",
   "metadata": {},
   "source": [
    "Loading the Models and the Corpora"
   ]
  },
  {
   "cell_type": "code",
   "execution_count": 15,
   "metadata": {
    "collapsed": false
   },
   "outputs": [],
   "source": [
    "lsi_tf = models.LsiModel.load(os.path.join(outputs, 'model_tf.lsi'))\n",
    "corpus_lsi_tf = corpora.MmCorpus(os.path.join(outputs, 'corpus_lsi_tf.mm'))\n",
    "lsi_tfidf = models.LsiModel.load(os.path.join(outputs, 'model_tfidf.lsi'))\n",
    "corpus_lsi_tfidf = corpora.MmCorpus(os.path.join(outputs, 'corpus_lsi_tfidf.mm'))"
   ]
  },
  {
   "cell_type": "markdown",
   "metadata": {},
   "source": [
    "#### Visualizing the topics"
   ]
  },
  {
   "cell_type": "code",
   "execution_count": 16,
   "metadata": {
    "collapsed": false
   },
   "outputs": [
    {
     "data": {
      "text/plain": [
       "[(0,\n",
       "  '0.508*\"film\" + 0.290*\"one\" + 0.218*\"like\" + 0.147*\"would\" + 0.145*\"good\" + 0.137*\"even\" + 0.125*\"time\" + 0.123*\"really\" + 0.119*\"story\" + 0.117*\"see\"'),\n",
       " (1,\n",
       "  '0.833*\"film\" + -0.214*\"one\" + -0.195*\"like\" + -0.113*\"show\" + -0.105*\"movies\" + -0.105*\"good\" + -0.101*\"would\" + -0.093*\"even\" + -0.092*\"really\" + -0.085*\"get\"'),\n",
       " (2,\n",
       "  '-0.728*\"one\" + 0.456*\"like\" + 0.179*\"bad\" + 0.164*\"really\" + 0.153*\"good\" + 0.124*\"would\" + 0.095*\"people\" + 0.079*\"think\" + -0.076*\"two\" + 0.072*\"could\"'),\n",
       " (3,\n",
       "  '0.493*\"one\" + 0.424*\"like\" + -0.332*\"story\" + 0.243*\"bad\" + -0.138*\"great\" + -0.138*\"show\" + -0.137*\"also\" + -0.136*\"life\" + -0.129*\"love\" + -0.119*\"character\"'),\n",
       " (4,\n",
       "  '-0.622*\"good\" + 0.408*\"like\" + -0.310*\"bad\" + -0.249*\"really\" + 0.157*\"would\" + 0.145*\"people\" + 0.131*\"show\" + -0.129*\"acting\" + 0.117*\"life\" + -0.116*\"great\"'),\n",
       " (5,\n",
       "  '-0.524*\"like\" + 0.478*\"would\" + 0.234*\"bad\" + -0.226*\"story\" + 0.223*\"even\" + -0.197*\"good\" + 0.194*\"could\" + -0.183*\"great\" + -0.144*\"also\" + 0.100*\"get\"'),\n",
       " (6,\n",
       "  '0.690*\"show\" + -0.389*\"story\" + 0.179*\"great\" + -0.173*\"even\" + 0.159*\"good\" + 0.147*\"series\" + -0.147*\"bad\" + 0.115*\"really\" + 0.103*\"episode\" + 0.089*\"shows\"'),\n",
       " (7,\n",
       "  '-0.678*\"would\" + -0.276*\"story\" + 0.224*\"bad\" + 0.200*\"get\" + -0.188*\"good\" + 0.167*\"time\" + -0.161*\"one\" + -0.156*\"like\" + 0.143*\"really\" + 0.140*\"people\"'),\n",
       " (8,\n",
       "  '0.508*\"really\" + 0.339*\"people\" + 0.325*\"see\" + -0.268*\"even\" + 0.246*\"story\" + -0.193*\"good\" + 0.143*\"think\" + -0.139*\"time\" + -0.130*\"first\" + 0.122*\"love\"'),\n",
       " (9,\n",
       "  '0.473*\"story\" + 0.384*\"show\" + -0.350*\"good\" + 0.246*\"even\" + 0.245*\"characters\" + -0.221*\"would\" + 0.189*\"bad\" + -0.170*\"see\" + -0.143*\"man\" + -0.115*\"get\"')]"
      ]
     },
     "execution_count": 16,
     "metadata": {},
     "output_type": "execute_result"
    }
   ],
   "source": [
    "lsi_tf.print_topics(10)"
   ]
  },
  {
   "cell_type": "code",
   "execution_count": 17,
   "metadata": {
    "collapsed": false
   },
   "outputs": [
    {
     "data": {
      "text/plain": [
       "[('film', 0.83285462736015625),\n",
       " ('one', -0.21359457939321594),\n",
       " ('like', -0.19494951026010632),\n",
       " ('show', -0.11341149917356452),\n",
       " ('movies', -0.1054687113033366),\n",
       " ('good', -0.10518222159932963),\n",
       " ('would', -0.10067188971328787),\n",
       " ('even', -0.092793051339174537),\n",
       " ('really', -0.091544912924963154),\n",
       " ('get', -0.084739382907682362)]"
      ]
     },
     "execution_count": 17,
     "metadata": {},
     "output_type": "execute_result"
    }
   ],
   "source": [
    "lsi_tf.show_topic(1)"
   ]
  },
  {
   "cell_type": "code",
   "execution_count": 18,
   "metadata": {
    "collapsed": false
   },
   "outputs": [
    {
     "data": {
      "text/plain": [
       "[(0,\n",
       "  '0.146*\"film\" + 0.103*\"bad\" + 0.101*\"good\" + 0.101*\"like\" + 0.101*\"really\" + 0.095*\"one\" + 0.094*\"would\" + 0.091*\"story\" + 0.089*\"see\" + 0.088*\"even\"'),\n",
       " (1,\n",
       "  '0.333*\"bad\" + 0.198*\"worst\" + 0.130*\"waste\" + 0.129*\"movies\" + 0.129*\"acting\" + 0.114*\"ever\" + 0.114*\"terrible\" + 0.108*\"horror\" + 0.105*\"horrible\" + 0.103*\"stupid\"'),\n",
       " (2,\n",
       "  '-0.672*\"show\" + -0.215*\"episode\" + -0.212*\"series\" + 0.171*\"film\" + -0.151*\"episodes\" + -0.147*\"tv\" + -0.143*\"season\" + 0.137*\"horror\" + -0.124*\"funny\" + -0.116*\"shows\"'),\n",
       " (3,\n",
       "  '0.232*\"show\" + -0.218*\"book\" + -0.212*\"great\" + 0.176*\"horror\" + -0.115*\"movies\" + -0.108*\"love\" + -0.107*\"read\" + -0.106*\"best\" + -0.106*\"seen\" + -0.100*\"saw\"'),\n",
       " (4,\n",
       "  '0.257*\"horror\" + 0.212*\"series\" + 0.172*\"action\" + -0.160*\"life\" + -0.159*\"people\" + 0.135*\"show\" + 0.134*\"great\" + 0.129*\"effects\" + 0.128*\"original\" + 0.118*\"good\"'),\n",
       " (5,\n",
       "  '0.394*\"book\" + -0.350*\"funny\" + -0.266*\"comedy\" + 0.193*\"series\" + 0.160*\"read\" + -0.122*\"laugh\" + -0.120*\"jokes\" + -0.110*\"fun\" + 0.108*\"show\" + 0.099*\"episode\"'),\n",
       " (6,\n",
       "  '0.417*\"horror\" + -0.250*\"bad\" + -0.144*\"worst\" + 0.137*\"scary\" + -0.117*\"script\" + -0.112*\"show\" + 0.111*\"gore\" + 0.105*\"kids\" + 0.102*\"saw\" + -0.097*\"comedy\"'),\n",
       " (7,\n",
       "  '-0.297*\"book\" + 0.261*\"ever\" + 0.239*\"worst\" + 0.216*\"seen\" + -0.153*\"really\" + -0.150*\"characters\" + 0.143*\"films\" + 0.130*\"horror\" + -0.124*\"good\" + 0.123*\"dvd\"'),\n",
       " (8,\n",
       "  '0.498*\"book\" + -0.185*\"film\" + 0.159*\"read\" + -0.155*\"show\" + 0.131*\"version\" + -0.124*\"people\" + -0.119*\"characters\" + 0.097*\"bad\" + 0.096*\"original\" + -0.093*\"films\"'),\n",
       " (9,\n",
       "  '0.343*\"horror\" + -0.315*\"action\" + -0.268*\"game\" + 0.220*\"book\" + 0.196*\"funny\" + 0.191*\"comedy\" + 0.183*\"show\" + 0.154*\"film\" + -0.122*\"war\" + -0.122*\"series\"')]"
      ]
     },
     "execution_count": 18,
     "metadata": {},
     "output_type": "execute_result"
    }
   ],
   "source": [
    "lsi_tfidf.print_topics(10)"
   ]
  },
  {
   "cell_type": "code",
   "execution_count": 19,
   "metadata": {
    "collapsed": false
   },
   "outputs": [
    {
     "data": {
      "text/plain": [
       "[('bad', 0.33287570998873706),\n",
       " ('worst', 0.19803570559152009),\n",
       " ('waste', 0.13015400747408037),\n",
       " ('movies', 0.12895109813496661),\n",
       " ('acting', 0.12882569047142323),\n",
       " ('ever', 0.11435301330696659),\n",
       " ('terrible', 0.11416123625149992),\n",
       " ('horror', 0.10793702673735864),\n",
       " ('horrible', 0.10539834673617944),\n",
       " ('stupid', 0.10266224952274329)]"
      ]
     },
     "execution_count": 19,
     "metadata": {},
     "output_type": "execute_result"
    }
   ],
   "source": [
    "lsi_tfidf.show_topic(1)"
   ]
  },
  {
   "cell_type": "markdown",
   "metadata": {},
   "source": [
    "### Latent Dirichlet Allocation\n",
    "\n",
    "https://en.wikipedia.org/wiki/Latent_Dirichlet_allocation  "
   ]
  },
  {
   "cell_type": "markdown",
   "metadata": {},
   "source": [
    "#### Using Gensim"
   ]
  },
  {
   "cell_type": "markdown",
   "metadata": {},
   "source": [
    "Generating the Models and the Corpora"
   ]
  },
  {
   "cell_type": "code",
   "execution_count": 44,
   "metadata": {
    "collapsed": false
   },
   "outputs": [
    {
     "name": "stdout",
     "output_type": "stream",
     "text": [
      "corpus lda tf done\n",
      "corpus lda tfidf done\n"
     ]
    }
   ],
   "source": [
    "lda_tf = models.LdaModel(corpus_tf, id2word=dictionary, num_topics=10, passes=10)\n",
    "corpus_lda_tf = lda_tf[corpus_tf]\n",
    "print('corpus lda tf done')\n",
    "\n",
    "lda_tfidf = models.LdaModel(corpus_tfidf, id2word=dictionary, num_topics=10, passes=10)\n",
    "corpus_lda_tfidf = lda_tfidf[corpus_tfidf]\n",
    "print('corpus lda tfidf done')"
   ]
  },
  {
   "cell_type": "markdown",
   "metadata": {},
   "source": [
    "Saving the Models and the Corpora"
   ]
  },
  {
   "cell_type": "code",
   "execution_count": 45,
   "metadata": {
    "collapsed": true
   },
   "outputs": [],
   "source": [
    "lda_tf.save(os.path.join(outputs, 'model_tf.lda'))\n",
    "corpora.MmCorpus.serialize(os.path.join(outputs, 'corpus_lda_tf.mm'), corpus_lda_tf)\n",
    "\n",
    "lda_tfidf.save(os.path.join(outputs, 'model_tfidf.lda'))\n",
    "corpora.MmCorpus.serialize(os.path.join(outputs, 'corpus_lda_tfidf.mm'), corpus_lda_tfidf)"
   ]
  },
  {
   "cell_type": "markdown",
   "metadata": {},
   "source": [
    "Loading the Models and the Corpora"
   ]
  },
  {
   "cell_type": "code",
   "execution_count": 20,
   "metadata": {
    "collapsed": false
   },
   "outputs": [],
   "source": [
    "lda_tf = models.LdaModel.load(os.path.join(outputs, 'model_tf.lda'))\n",
    "corpus_lda_tf = corpora.MmCorpus(os.path.join(outputs, 'corpus_lda_tf.mm'))\n",
    "\n",
    "lda_tfidf = models.LdaModel.load(os.path.join(outputs, 'model_tfidf.lda'))\n",
    "corpus_lda_tfidf = corpora.MmCorpus(os.path.join(outputs, 'corpus_lda_tfidf.mm'))"
   ]
  },
  {
   "cell_type": "markdown",
   "metadata": {},
   "source": [
    "#### Visualizing the topics"
   ]
  },
  {
   "cell_type": "code",
   "execution_count": 21,
   "metadata": {
    "collapsed": false
   },
   "outputs": [
    {
     "data": {
      "text/plain": [
       "[(0,\n",
       "  '0.008*man + 0.007*woman + 0.007*girl + 0.007*young + 0.006*wife + 0.006*one + 0.006*father'),\n",
       " (1,\n",
       "  '0.022*film + 0.007*one + 0.006*people + 0.006*story + 0.006*life + 0.005*world + 0.005*us'),\n",
       " (2,\n",
       "  '0.043*film + 0.014*great + 0.013*good + 0.012*one + 0.010*story + 0.010*well + 0.009*best'),\n",
       " (3,\n",
       "  '0.040*show + 0.032*series + 0.018*episode + 0.014*tv + 0.009*episodes + 0.008*shows + 0.007*season'),\n",
       " (4,\n",
       "  '0.012*horror + 0.010*one + 0.010*film + 0.008*action + 0.006*like + 0.005*films + 0.005*also'),\n",
       " (5,\n",
       "  '0.005*police + 0.005*black + 0.004*city + 0.004*man + 0.004*men + 0.004*western + 0.004*town'),\n",
       " (6,\n",
       "  '0.015*like + 0.014*one + 0.011*see + 0.010*really + 0.009*good + 0.009*great + 0.009*funny'),\n",
       " (7,\n",
       "  '0.017*film + 0.013*like + 0.012*bad + 0.011*one + 0.010*even + 0.010*would + 0.009*could'),\n",
       " (8,\n",
       "  '0.035*book + 0.016*original + 0.013*story + 0.012*read + 0.012*version + 0.011*novel + 0.011*animation'),\n",
       " (9,\n",
       "  '0.008*film + 0.007*one + 0.005*role + 0.004*john + 0.004*cast + 0.004*play + 0.003*version')]"
      ]
     },
     "execution_count": 21,
     "metadata": {},
     "output_type": "execute_result"
    }
   ],
   "source": [
    "lda_tf.print_topics(num_topics=10, num_words=7)"
   ]
  },
  {
   "cell_type": "code",
   "execution_count": 22,
   "metadata": {
    "collapsed": false
   },
   "outputs": [
    {
     "data": {
      "text/plain": [
       "[('police', 0.0053816920837383431),\n",
       " ('black', 0.004638240528993082),\n",
       " ('city', 0.0043634931535324727),\n",
       " ('man', 0.0043487630058285376),\n",
       " ('men', 0.0043066541174216497),\n",
       " ('western', 0.0037615075918023635),\n",
       " ('town', 0.0037395994405569543),\n",
       " ('crime', 0.0037369579217632664),\n",
       " ('get', 0.0037022617861218023),\n",
       " ('white', 0.0036299540992608867)]"
      ]
     },
     "execution_count": 22,
     "metadata": {},
     "output_type": "execute_result"
    }
   ],
   "source": [
    "lda_tf.show_topic(5)"
   ]
  },
  {
   "cell_type": "code",
   "execution_count": 23,
   "metadata": {
    "collapsed": false
   },
   "outputs": [
    {
     "data": {
      "text/plain": [
       "[(0,\n",
       "  '0.005*holmes + 0.002*sherlock + 0.002*tarzan + 0.002*tripe + 0.002*christie + 0.002*phantom + 0.002*tarantino'),\n",
       " (1,\n",
       "  '0.002*sandler + 0.001*christmas + 0.001*list + 0.001*trailer + 0.001*van + 0.001*ryan + 0.001*kevin'),\n",
       " (2,\n",
       "  '0.002*japanese + 0.002*grant + 0.001*alien + 0.001*island + 0.001*depth + 0.001*animated + 0.001*science'),\n",
       " (3,\n",
       "  '0.005*dunne + 0.003*angus + 0.002*baseball + 0.002*damme + 0.002*costner + 0.002*jersey + 0.002*seth'),\n",
       " (4,\n",
       "  '0.003*film + 0.002*good + 0.002*like + 0.002*bad + 0.002*one + 0.002*really + 0.002*story'),\n",
       " (5,\n",
       "  '0.002*crawford + 0.001*powell + 0.001*fonda + 0.001*dennis + 0.001*lugosi + 0.001*ford + 0.001*karloff'),\n",
       " (6,\n",
       "  '0.003*chaplin + 0.003*anime + 0.002*gangster + 0.002*pink + 0.002*waters + 0.002*jaws + 0.002*nicholson'),\n",
       " (7,\n",
       "  '0.003*franco + 0.003*spider + 0.003*it`s + 0.003*fellini + 0.002*brody + 0.002*sheep + 0.002*emmanuelle'),\n",
       " (8,\n",
       "  '0.004*bugs + 0.004*candyman + 0.003*dinosaurs + 0.003*jenny + 0.002*benjamin + 0.002*pryor + 0.002*underlying'),\n",
       " (9,\n",
       "  '0.004*bambi + 0.003*werewolf + 0.003*chaney + 0.002*laura + 0.002*duvall + 0.002*melanie + 0.002*frustrating')]"
      ]
     },
     "execution_count": 23,
     "metadata": {},
     "output_type": "execute_result"
    }
   ],
   "source": [
    "lda_tfidf.print_topics(num_topics=10, num_words=7)\n",
    "#lda_tfidf.print_topics(10)"
   ]
  },
  {
   "cell_type": "code",
   "execution_count": 24,
   "metadata": {
    "collapsed": false
   },
   "outputs": [
    {
     "data": {
      "text/plain": [
       "[(0,\n",
       "  [('holmes', 0.0046614277812745027),\n",
       "   ('sherlock', 0.0021790518605045751),\n",
       "   ('tarzan', 0.0020079083434685553),\n",
       "   ('tripe', 0.00187556640449669),\n",
       "   ('christie', 0.0018706469884420785),\n",
       "   ('phantom', 0.0017999342015613861),\n",
       "   ('tarantino', 0.001742231235923384),\n",
       "   ('burned', 0.0015632432518825402),\n",
       "   ('quentin', 0.0015446498106818651),\n",
       "   ('puzzles', 0.0015390736485287138),\n",
       "   ('conway', 0.0015125063978258817),\n",
       "   ('sinbad', 0.0015050747469974775),\n",
       "   ('regards', 0.0014925892812757292),\n",
       "   ('doyle', 0.0014893088207416001),\n",
       "   (\"o'brien\", 0.00148568238131621),\n",
       "   ('axe', 0.0014416095571239925),\n",
       "   ('nightclub', 0.0014397481215961678),\n",
       "   ('christine', 0.0013986228575379421),\n",
       "   ('pianist', 0.0013967004867951986),\n",
       "   ('neon', 0.0013826532827784612)]),\n",
       " (1,\n",
       "  [('sandler', 0.0020015607027395327),\n",
       "   ('christmas', 0.0013358458162006769),\n",
       "   ('list', 0.001274695575303182),\n",
       "   ('trailer', 0.0012087980021585881),\n",
       "   ('van', 0.0012080393903129596),\n",
       "   ('ryan', 0.0012023317376785028),\n",
       "   ('kevin', 0.0011869519137149066),\n",
       "   ('ninja', 0.0011596878258151907),\n",
       "   ('khan', 0.0011540991196234702),\n",
       "   ('holocaust', 0.0011399318667482932),\n",
       "   ('80s', 0.0011347355805846856),\n",
       "   ('outer', 0.0011134455780244907),\n",
       "   ('metal', 0.0011061372929943641),\n",
       "   ('bottom', 0.0011045563285831093),\n",
       "   ('drunk', 0.001059285401408012),\n",
       "   ('stereotypes', 0.0010257533505220206),\n",
       "   ('movie.i', 0.0010104593500088607),\n",
       "   ('hopkins', 0.00098717074277175675),\n",
       "   ('blockbuster', 0.00098494105059074039),\n",
       "   ('rubbish', 0.00096337833412809995)])]"
      ]
     },
     "execution_count": 24,
     "metadata": {},
     "output_type": "execute_result"
    }
   ],
   "source": [
    "lda_tfidf.show_topics(formatted=False, num_words=20)[0:2]"
   ]
  },
  {
   "cell_type": "markdown",
   "metadata": {},
   "source": [
    "Visualizing using PyLDAvis  \n",
    "http://nbviewer.jupyter.org/github/bmabey/pyLDAvis/blob/master/notebooks/pyLDAvis_overview.ipynb  "
   ]
  },
  {
   "cell_type": "code",
   "execution_count": 50,
   "metadata": {
    "collapsed": false
   },
   "outputs": [
    {
     "name": "stderr",
     "output_type": "stream",
     "text": [
      "/usr/local/lib/python3.5/dist-packages/funcy/decorators.py:56: DeprecationWarning: inspect.getargspec() is deprecated, use inspect.signature() instead\n",
      "  spec = inspect.getargspec(func)\n",
      "/usr/local/lib/python3.5/dist-packages/funcy/decorators.py:56: DeprecationWarning: inspect.getargspec() is deprecated, use inspect.signature() instead\n",
      "  spec = inspect.getargspec(func)\n",
      "/usr/local/lib/python3.5/dist-packages/funcy/decorators.py:56: DeprecationWarning: inspect.getargspec() is deprecated, use inspect.signature() instead\n",
      "  spec = inspect.getargspec(func)\n",
      "/usr/local/lib/python3.5/dist-packages/funcy/decorators.py:56: DeprecationWarning: inspect.getargspec() is deprecated, use inspect.signature() instead\n",
      "  spec = inspect.getargspec(func)\n",
      "/usr/local/lib/python3.5/dist-packages/funcy/decorators.py:56: DeprecationWarning: inspect.getargspec() is deprecated, use inspect.signature() instead\n",
      "  spec = inspect.getargspec(func)\n",
      "/usr/local/lib/python3.5/dist-packages/funcy/decorators.py:56: DeprecationWarning: inspect.getargspec() is deprecated, use inspect.signature() instead\n",
      "  spec = inspect.getargspec(func)\n"
     ]
    },
    {
     "data": {
      "text/html": [
       "\n",
       "<link rel=\"stylesheet\" type=\"text/css\" href=\"https://cdn.rawgit.com/bmabey/pyLDAvis/files/ldavis.v1.0.0.css\">\n",
       "\n",
       "\n",
       "<div id=\"ldavis_el55761404852563972326066841973\"></div>\n",
       "<script type=\"text/javascript\">\n",
       "\n",
       "var ldavis_el55761404852563972326066841973_data = {\"mdsDat\": {\"cluster\": [1, 1, 1, 1, 1, 1, 1, 1, 1, 1], \"x\": [-0.1713927301003473, -0.10434182516148423, -0.13143018568236356, -0.11483101010313246, -0.06134915082835954, -0.06659337864007052, 0.021681174496267476, 0.06507697198403023, 0.20607855697294108, 0.357101577062519], \"topics\": [1, 2, 3, 4, 5, 6, 7, 8, 9, 10], \"Freq\": [23.22903947278865, 17.853277416241983, 14.337649995288643, 9.813486168811195, 9.001899883994465, 8.869535434398559, 6.547729418493054, 5.514383083571048, 2.80196569988859, 2.031033426523816], \"y\": [-0.07255101122648178, -0.03933417482239325, -0.06847017493824353, -0.1523367896728519, 0.18014781884946576, 0.014513862081394628, -0.046241021819637254, 0.3300856663727425, -0.003837480490712792, -0.14197669433328172]}, \"token.table\": {\"Term\": [\"1/10\", \"13th\", \"1930s\", \"1930s\", \"1940\", \"2/10\", \"3-d\", \"9/11\", \"abbott\", \"abc\", \"abomination\", \"acting\", \"acting\", \"acting\", \"acting\", \"acting\", \"acting\", \"action\", \"action\", \"action\", \"action\", \"action\", \"action\", \"actor\", \"actor\", \"actor\", \"actor\", \"actor\", \"actors\", \"actors\", \"actors\", \"actors\", \"actors\", \"actors\", \"actress\", \"actress\", \"actress\", \"actress\", \"actress\", \"adaptation\", \"adaptation\", \"agent\", \"agent\", \"agent\", \"agent\", \"agent\", \"agent\", \"agents\", \"ago\", \"ago\", \"ago\", \"ago\", \"ago\", \"ago\", \"ago\", \"ago\", \"aids\", \"akbar\", \"album\", \"album\", \"ali\", \"alien\", \"alien\", \"allen\", \"allen\", \"allen\", \"also\", \"also\", \"also\", \"also\", \"also\", \"also\", \"also\", \"also\", \"also\", \"also\", \"american\", \"american\", \"american\", \"american\", \"american\", \"american\", \"american\", \"angeles\", \"angus\", \"animated\", \"animated\", \"animation\", \"anime\", \"anime\", \"anime\", \"annoying\", \"annoying\", \"annoying\", \"annoying\", \"annoying\", \"ants\", \"anything\", \"anything\", \"anything\", \"anything\", \"anything\", \"anything\", \"anything\", \"apartment\", \"apartment\", \"argento\", \"arizona\", \"arkin\", \"around\", \"around\", \"around\", \"around\", \"around\", \"around\", \"around\", \"around\", \"around\", \"arthur\", \"arts\", \"asoka\", \"audience\", \"audience\", \"audience\", \"audience\", \"audience\", \"audience\", \"avery\", \"avoid\", \"avoid\", \"avoid\", \"avoid\", \"avoid\", \"avoid\", \"avoid\", \"awake\", \"awful\", \"awful\", \"axe\", \"baby\", \"baby\", \"baby\", \"baby\", \"baby\", \"baby\", \"bachchan\", \"back\", \"back\", \"back\", \"back\", \"back\", \"back\", \"back\", \"back\", \"back\", \"back\", \"bad\", \"bad\", \"bad\", \"bad\", \"bambi\", \"bank\", \"baseball\", \"baseball\", \"baseball\", \"based\", \"based\", \"based\", \"based\", \"based\", \"based\", \"based\", \"based\", \"based\", \"batman\", \"beast\", \"beast\", \"beatles\", \"beautiful\", \"beautiful\", \"beautiful\", \"beautiful\", \"beautiful\", \"begins\", \"begins\", \"begins\", \"begins\", \"bela\", \"beliefs\", \"benny\", \"beowulf\", \"bernie\", \"berry\", \"best\", \"best\", \"best\", \"best\", \"best\", \"best\", \"best\", \"best\", \"best\", \"best\", \"beth\", \"bette\", \"better\", \"better\", \"better\", \"better\", \"better\", \"better\", \"better\", \"better\", \"better\", \"big\", \"big\", \"big\", \"big\", \"big\", \"big\", \"big\", \"big\", \"big\", \"big\", \"black\", \"black\", \"black\", \"black\", \"black\", \"black\", \"black\", \"black\", \"blah\", \"blood\", \"blood\", \"blood\", \"blood\", \"bloom\", \"bloom\", \"bollywood\", \"book\", \"books\", \"boring\", \"boring\", \"boring\", \"boring\", \"boss\", \"boss\", \"boss\", \"boss\", \"boss\", \"boss\", \"bother\", \"bother\", \"bother\", \"boy\", \"boy\", \"boy\", \"boy\", \"boy\", \"boy\", \"boy\", \"boyfriend\", \"boyfriend\", \"brad\", \"brad\", \"brad\", \"brad\", \"brilliant\", \"brilliant\", \"brilliant\", \"brilliant\", \"brilliant\", \"brilliant\", \"british\", \"british\", \"british\", \"british\", \"british\", \"british\", \"broadway\", \"bronson\", \"brooks\", \"brother\", \"brother\", \"brother\", \"brother\", \"brother\", \"brother\", \"brother\", \"bug\", \"bugs\", \"bullock\", \"bunuel\", \"buscemi\", \"cagney\", \"candyman\", \"cannibal\", \"car\", \"car\", \"car\", \"car\", \"car\", \"career\", \"career\", \"career\", \"career\", \"career\", \"career\", \"career\", \"career\", \"carrey\", \"carrey\", \"cartoon\", \"cartoon\", \"cartoon\", \"cary\", \"cassavetes\", \"cast\", \"cast\", \"cast\", \"cast\", \"cast\", \"cast\", \"cast\", \"cast\", \"cate\", \"chainsaw\", \"chan\", \"chaney\", \"chaplin\", \"character\", \"character\", \"character\", \"character\", \"character\", \"character\", \"character\", \"character\", \"character\", \"character\", \"characters\", \"characters\", \"characters\", \"characters\", \"characters\", \"characters\", \"characters\", \"charles\", \"charles\", \"charles\", \"chase\", \"chase\", \"chase\", \"chase\", \"chase\", \"chase\", \"che\", \"chemistry\", \"chemistry\", \"chemistry\", \"chemistry\", \"chemistry\", \"chemistry\", \"children\", \"children\", \"children\", \"children\", \"chop\", \"christie\", \"cia\", \"cinderella\", \"cinematography\", \"cinematography\", \"cinematography\", \"cinematography\", \"city\", \"city\", \"city\", \"city\", \"city\", \"city\", \"city\", \"clint\", \"clockwork\", \"columbo\", \"comedians\", \"comedy\", \"comedy\", \"comedy\", \"comedy\", \"comes\", \"comes\", \"comes\", \"comes\", \"comes\", \"comes\", \"comes\", \"comes\", \"comes\", \"comic\", \"comic\", \"comic\", \"comic\", \"comic\", \"comic\", \"compassion\", \"connery\", \"connery\", \"cooper\", \"cooper\", \"cop\", \"cop\", \"cop\", \"cop\", \"cop\", \"coppola\", \"costello\", \"costner\", \"could\", \"could\", \"could\", \"could\", \"could\", \"could\", \"could\", \"could\", \"could\", \"could\", \"crap\", \"crappy\", \"crappy\", \"crappy\", \"crawford\", \"creature\", \"creature\", \"creepy\", \"creepy\", \"creepy\", \"crew\", \"crew\", \"crew\", \"crew\", \"crew\", \"crew\", \"crew\", \"cried\", \"crime\", \"crime\", \"crime\", \"crime\", \"crime\", \"crime\", \"criminal\", \"criminal\", \"criminal\", \"criminal\", \"criminal\", \"criminals\", \"criminals\", \"crowe\", \"cultural\", \"culture\", \"culture\", \"cultures\", \"cute\", \"cute\", \"cute\", \"cute\", \"cute\", \"cute\", \"daffy\", \"dafoe\", \"dakota\", \"damme\", \"danish\", \"daughter\", \"daughter\", \"daughter\", \"daughter\", \"davis\", \"davis\", \"de\", \"de\", \"de\", \"de\", \"de\", \"dead\", \"dead\", \"dead\", \"dead\", \"dead\", \"dead\", \"death\", \"death\", \"death\", \"death\", \"death\", \"death\", \"death\", \"deceased\", \"decides\", \"decides\", \"decides\", \"delpy\", \"demon\", \"dinosaurs\", \"dinosaurs\", \"direction\", \"direction\", \"direction\", \"direction\", \"direction\", \"director\", \"director\", \"director\", \"director\", \"director\", \"director\", \"director\", \"discovers\", \"discovers\", \"disney\", \"django\", \"doctor\", \"doctor\", \"doctor\", \"doctor\", \"doctor\", \"documentaries\", \"documentary\", \"documentary\", \"doris\", \"dorothy\", \"douglas\", \"douglas\", \"dracula\", \"drivel\", \"dunne\", \"duvall\", \"dvd\", \"dvd\", \"dvd\", \"dvd\", \"dvd\", \"dvd\", \"dvd\", \"early\", \"early\", \"early\", \"early\", \"early\", \"early\", \"early\", \"early\", \"early\", \"earth\", \"earth\", \"earth\", \"earth\", \"earth\", \"earth\", \"eastwood\", \"economic\", \"eddie\", \"eddie\", \"effects\", \"effects\", \"effects\", \"effects\", \"effects\", \"effects\", \"effects\", \"emily\", \"emmanuelle\", \"emotional\", \"emotional\", \"emotional\", \"emperor\", \"end\", \"end\", \"end\", \"end\", \"end\", \"end\", \"end\", \"end\", \"end\", \"enid\", \"enjoy\", \"enjoy\", \"enjoy\", \"enjoy\", \"enjoy\", \"enjoy\", \"enjoyed\", \"enjoyed\", \"enjoyed\", \"enjoyed\", \"enjoyed\", \"enjoyed\", \"enterprise\", \"episode\", \"episodes\", \"errol\", \"escape\", \"escape\", \"escape\", \"escape\", \"escape\", \"escape\", \"escape\", \"estate\", \"estate\", \"even\", \"even\", \"even\", \"even\", \"even\", \"even\", \"even\", \"even\", \"even\", \"even\", \"events\", \"events\", \"events\", \"events\", \"events\", \"ever\", \"ever\", \"ever\", \"ever\", \"ever\", \"ever\", \"ever\", \"ever\", \"ever\", \"evil\", \"evil\", \"evil\", \"evil\", \"evil\", \"evil\", \"evil\", \"evil\", \"evil\", \"excellent\", \"excellent\", \"excellent\", \"excellent\", \"excellent\", \"excellent\", \"fact\", \"fact\", \"fact\", \"fact\", \"fact\", \"fact\", \"fact\", \"fact\", \"fact\", \"fact\", \"facts\", \"facts\", \"facts\", \"family\", \"family\", \"family\", \"family\", \"fans\", \"fans\", \"fans\", \"fans\", \"fans\", \"fans\", \"fans\", \"fantasy\", \"fantasy\", \"fantasy\", \"fantasy\", \"fantasy\", \"fantasy\", \"farrow\", \"fart\", \"father\", \"father\", \"father\", \"father\", \"father\", \"father\", \"favorite\", \"favorite\", \"favorite\", \"favorite\", \"favorite\", \"favorite\", \"fbi\", \"fellini\", \"femme\", \"fiction\", \"fiction\", \"fiction\", \"fiction\", \"fight\", \"fight\", \"fight\", \"fight\", \"fight\", \"fight\", \"fight\", \"film\", \"film\", \"film\", \"film\", \"film\", \"film\", \"film\", \"film\", \"film\", \"films\", \"films\", \"films\", \"films\", \"films\", \"films\", \"finds\", \"finds\", \"finds\", \"finds\", \"first\", \"first\", \"first\", \"first\", \"first\", \"first\", \"first\", \"first\", \"first\", \"first\", \"flick\", \"flick\", \"flick\", \"flick\", \"flynn\", \"francisco\", \"freddy\", \"friend\", \"friend\", \"friend\", \"friend\", \"friend\", \"friend\", \"friend\", \"fu\", \"fun\", \"fun\", \"fun\", \"fun\", \"fun\", \"funnier\", \"funniest\", \"funny\", \"funny\", \"funny\", \"future\", \"future\", \"future\", \"future\", \"future\", \"future\", \"future\", \"future\", \"gags\", \"gags\", \"game\", \"game\", \"game\", \"game\", \"game\", \"game\", \"gang\", \"gang\", \"gang\", \"gang\", \"garbage\", \"garbo\", \"garcia\", \"genre\", \"genre\", \"genre\", \"genre\", \"genre\", \"genre\", \"george\", \"george\", \"george\", \"george\", \"george\", \"george\", \"george\", \"germans\", \"get\", \"get\", \"get\", \"get\", \"get\", \"get\", \"get\", \"get\", \"get\", \"gets\", \"gets\", \"gets\", \"gets\", \"gets\", \"gets\", \"gets\", \"giallo\", \"giant\", \"giant\", \"giant\", \"giant\", \"girl\", \"girl\", \"girl\", \"girl\", \"girl\", \"girl\", \"godzilla\", \"goes\", \"goes\", \"goes\", \"goes\", \"goes\", \"goes\", \"goes\", \"goes\", \"goldblum\", \"goldblum\", \"good\", \"good\", \"good\", \"good\", \"good\", \"good\", \"good\", \"good\", \"good\", \"good\", \"gore\", \"gory\", \"graham\", \"grant\", \"great\", \"great\", \"great\", \"great\", \"great\", \"great\", \"great\", \"great\", \"great\", \"gregory\", \"gregory\", \"gun\", \"gun\", \"gun\", \"hale\", \"halloween\", \"harry\", \"harry\", \"harry\", \"harry\", \"harry\", \"hayes\", \"hayward\", \"heist\", \"henry\", \"henry\", \"henry\", \"henry\", \"hero\", \"hero\", \"hero\", \"hero\", \"hero\", \"hero\", \"hero\", \"hero\", \"hero\", \"highlander\", \"hilarious\", \"hilarious\", \"hilarious\", \"hilarious\", \"hilarious\", \"history\", \"history\", \"history\", \"history\", \"history\", \"history\", \"history\", \"history\", \"hoffman\", \"holden\", \"hollywood\", \"hollywood\", \"hollywood\", \"hollywood\", \"hollywood\", \"hollywood\", \"holmes\", \"home\", \"home\", \"home\", \"home\", \"home\", \"home\", \"homosexuality\", \"hong\", \"horrible\", \"horrid\", \"horror\", \"horror\", \"hospital\", \"hospital\", \"hospital\", \"hospital\", \"house\", \"house\", \"house\", \"house\", \"human\", \"human\", \"human\", \"human\", \"human\", \"human\", \"humanity\", \"humor\", \"humor\", \"humor\", \"humor\", \"humor\", \"humor\", \"humor\", \"husband\", \"idiotic\", \"images\", \"images\", \"images\", \"images\", \"images\", \"important\", \"important\", \"important\", \"important\", \"important\", \"important\", \"important\", \"individual\", \"individual\", \"individual\", \"individuals\", \"individuals\", \"insight\", \"insight\", \"insult\", \"insult\", \"iraq\", \"iraq\", \"irene\", \"issues\", \"issues\", \"it`s\", \"jack\", \"jack\", \"jack\", \"jack\", \"jack\", \"jack\", \"jenny\", \"jews\", \"joan\", \"joan\", \"jock\", \"joe\", \"joe\", \"joe\", \"joe\", \"joe\", \"joe\", \"john\", \"john\", \"john\", \"john\", \"john\", \"john\", \"john\", \"jokes\", \"jolie\", \"kapoor\", \"karen\", \"karloff\", \"keane\", \"keitel\", \"khan\", \"kidman\", \"kids\", \"kids\", \"kids\", \"kids\", \"kids\", \"kill\", \"kill\", \"kill\", \"kill\", \"killer\", \"killer\", \"killer\", \"king\", \"king\", \"king\", \"know\", \"know\", \"know\", \"know\", \"know\", \"know\", \"know\", \"know\", \"kong\", \"kung\", \"kurosawa\", \"kyle\", \"lame\", \"lame\", \"lame\", \"lancaster\", \"lance\", \"last\", \"last\", \"last\", \"last\", \"last\", \"last\", \"last\", \"last\", \"last\", \"later\", \"later\", \"later\", \"later\", \"later\", \"later\", \"later\", \"later\", \"later\", \"later\", \"laugh\", \"laugh\", \"laughs\", \"laughs\", \"laughs\", \"laughs\", \"laughs\", \"laughs\", \"lauren\", \"law\", \"law\", \"law\", \"law\", \"law\", \"leatherface\", \"lenny\", \"levy\", \"liam\", \"life\", \"life\", \"life\", \"life\", \"life\", \"life\", \"like\", \"like\", \"like\", \"like\", \"like\", \"like\", \"like\", \"like\", \"like\", \"like\", \"liked\", \"liked\", \"liked\", \"liked\", \"liked\", \"lime\", \"lion\", \"lion\", \"little\", \"little\", \"little\", \"little\", \"little\", \"little\", \"little\", \"little\", \"little\", \"lives\", \"lives\", \"lives\", \"lives\", \"lives\", \"local\", \"local\", \"local\", \"local\", \"local\", \"local\", \"lohan\", \"looney\", \"los\", \"los\", \"los\", \"lot\", \"lot\", \"lot\", \"lot\", \"lot\", \"lot\", \"lot\", \"love\", \"love\", \"love\", \"love\", \"love\", \"love\", \"loved\", \"loved\", \"loved\", \"loved\", \"loy\", \"lucas\", \"lucy\", \"lucy\", \"lucy\", \"lucy\", \"lucy\", \"lugosi\", \"lynch\", \"lynch\", \"lynch\", \"made\", \"made\", \"made\", \"made\", \"made\", \"made\", \"made\", \"made\", \"made\", \"magic\", \"magic\", \"magic\", \"magic\", \"magic\", \"magic\", \"magic\", \"magic\", \"magnum\", \"make\", \"make\", \"make\", \"make\", \"make\", \"make\", \"make\", \"make\", \"make\", \"make\", \"makes\", \"makes\", \"makes\", \"makes\", \"makes\", \"makes\", \"makes\", \"makes\", \"man\", \"man\", \"man\", \"man\", \"man\", \"man\", \"man\", \"man\", \"maniacs\", \"many\", \"many\", \"many\", \"many\", \"many\", \"many\", \"many\", \"many\", \"maris\", \"marple\", \"married\", \"married\", \"married\", \"married\", \"marry\", \"marry\", \"martial\", \"mason\", \"massacre\", \"massacre\", \"may\", \"may\", \"may\", \"may\", \"may\", \"may\", \"may\", \"may\", \"mayor\", \"media\", \"media\", \"meets\", \"meets\", \"meets\", \"meets\", \"meets\", \"meets\", \"men\", \"men\", \"men\", \"men\", \"men\", \"men\", \"men\", \"meryl\", \"message\", \"message\", \"message\", \"metal\", \"metal\", \"metaphor\", \"mexican\", \"mexican\", \"mexico\", \"mexico\", \"mgm\", \"mia\", \"midler\", \"minutes\", \"minutes\", \"minutes\", \"minutes\", \"minutes\", \"minutes\", \"minutes\", \"mob\", \"mob\", \"money\", \"money\", \"money\", \"money\", \"monster\", \"monsters\", \"moore\", \"moore\", \"moore\", \"moore\", \"moral\", \"moral\", \"moral\", \"moral\", \"mother\", \"mother\", \"mother\", \"mother\", \"mother\", \"movies\", \"movies\", \"movies\", \"movies\", \"movies\", \"mr\", \"mr\", \"mr\", \"mr\", \"mr\", \"mr\", \"mr\", \"mr\", \"mr\", \"much\", \"much\", \"much\", \"much\", \"much\", \"much\", \"much\", \"much\", \"much\", \"much\", \"murder\", \"murder\", \"murder\", \"murder\", \"murder\", \"murphy\", \"music\", \"music\", \"music\", \"music\", \"music\", \"music\", \"music\", \"musical\", \"musical\", \"musical\", \"muslim\", \"narrative\", \"narrative\", \"nature\", \"nature\", \"nature\", \"network\", \"network\", \"network\", \"never\", \"never\", \"never\", \"never\", \"never\", \"never\", \"never\", \"never\", \"never\", \"never\", \"new\", \"new\", \"new\", \"new\", \"new\", \"new\", \"new\", \"new\", \"new\", \"new\", \"nicholson\", \"nikita\", \"nikki\", \"ninja\", \"niro\", \"norma\", \"norway\", \"norwegian\", \"nothing\", \"nothing\", \"nothing\", \"nothing\", \"nothing\", \"nothing\", \"nothing\", \"nothing\", \"novel\", \"novel\", \"novel\", \"o'hara\", \"officer\", \"officer\", \"officer\", \"officer\", \"oil\", \"old\", \"old\", \"old\", \"old\", \"old\", \"old\", \"old\", \"old\", \"old\", \"old\", \"olsen\", \"one\", \"one\", \"one\", \"one\", \"one\", \"one\", \"one\", \"one\", \"one\", \"one\", \"original\", \"original\", \"original\", \"original\", \"original\", \"original\", \"original\", \"orphanage\", \"osama\", \"oscar\", \"oscar\", \"oscar\", \"outstanding\", \"outstanding\", \"outstanding\", \"outstanding\", \"pammy\", \"panther\", \"pathetic\", \"pathetic\", \"pathetic\", \"penn\", \"penn\", \"penn\", \"penn\", \"people\", \"people\", \"people\", \"people\", \"people\", \"people\", \"perfect\", \"perfect\", \"perfect\", \"perfect\", \"perfect\", \"perfect\", \"perfect\", \"perfect\", \"perfect\", \"performance\", \"performance\", \"performance\", \"performance\", \"performance\", \"performances\", \"performances\", \"performances\", \"performances\", \"performances\", \"performances\", \"performances\", \"performances\", \"perhaps\", \"perhaps\", \"perhaps\", \"perhaps\", \"perhaps\", \"perhaps\", \"peterson\", \"phantasm\", \"philosophical\", \"philosophy\", \"pie\", \"pilot\", \"pilot\", \"pilot\", \"pitiful\", \"pitt\", \"planet\", \"planet\", \"planet\", \"play\", \"play\", \"play\", \"play\", \"play\", \"play\", \"play\", \"play\", \"played\", \"played\", \"played\", \"played\", \"played\", \"played\", \"played\", \"played\", \"played\", \"plays\", \"plays\", \"plays\", \"plays\", \"plays\", \"plays\", \"plays\", \"plays\", \"plight\", \"plot\", \"plot\", \"plot\", \"plot\", \"plot\", \"plot\", \"plot\", \"plot\", \"point\", \"point\", \"point\", \"point\", \"point\", \"point\", \"point\", \"point\", \"point\", \"pointless\", \"pointless\", \"poirot\", \"police\", \"police\", \"police\", \"political\", \"political\", \"political\", \"politics\", \"poor\", \"poor\", \"poor\", \"poor\", \"poor\", \"poor\", \"poor\", \"poorly\", \"poorly\", \"porky\", \"powell\", \"predator\", \"pregnant\", \"pregnant\", \"pregnant\", \"president\", \"pretty\", \"pretty\", \"pretty\", \"pretty\", \"pretty\", \"pretty\", \"pretty\", \"prince\", \"prince\", \"princess\", \"princess\", \"princess\", \"princess\", \"princess\", \"prison\", \"prison\", \"prison\", \"production\", \"production\", \"production\", \"production\", \"production\", \"production\", \"programme\", \"propaganda\", \"propaganda\", \"protection\", \"pryor\", \"quite\", \"quite\", \"quite\", \"quite\", \"quite\", \"quite\", \"quite\", \"quite\", \"rani\", \"rathbone\", \"rather\", \"rather\", \"rather\", \"rather\", \"rather\", \"rather\", \"rather\", \"read\", \"read\", \"read\", \"read\", \"real\", \"real\", \"real\", \"real\", \"real\", \"real\", \"real\", \"real\", \"real\", \"reality\", \"reality\", \"reality\", \"reality\", \"really\", \"really\", \"really\", \"really\", \"really\", \"really\", \"rebecca\", \"redeeming\", \"reggie\", \"religion\", \"remember\", \"remember\", \"remember\", \"remember\", \"remember\", \"remember\", \"remember\", \"remember\", \"reno\", \"richard\", \"richard\", \"richard\", \"richard\", \"richard\", \"richard\", \"ridiculous\", \"ridiculous\", \"ridiculous\", \"ridiculous\", \"ridiculous\", \"ringu\", \"robbery\", \"robbery\", \"robert\", \"robert\", \"robert\", \"robert\", \"robert\", \"robert\", \"robin\", \"robin\", \"robin\", \"robin\", \"robin\", \"robots\", \"rodman\", \"rogers\", \"rogers\", \"role\", \"role\", \"role\", \"role\", \"role\", \"role\", \"role\", \"role\", \"roles\", \"roles\", \"roles\", \"roles\", \"roles\", \"roles\", \"roles\", \"roswell\", \"rubbish\", \"saif\", \"san\", \"sandler\", \"saturday\", \"saturday\", \"saw\", \"saw\", \"saw\", \"saw\", \"saw\", \"say\", \"say\", \"say\", \"say\", \"say\", \"scarlett\", \"scary\", \"scary\", \"scary\", \"scary\", \"scene\", \"scene\", \"scene\", \"scene\", \"scene\", \"scene\", \"scene\", \"scene\", \"scenes\", \"scenes\", \"scenes\", \"scenes\", \"scenes\", \"scenes\", \"scenes\", \"sci-fi\", \"sci-fi\", \"sci-fi\", \"science\", \"science\", \"science\", \"science\", \"score\", \"score\", \"score\", \"score\", \"score\", \"score\", \"scorsese\", \"scott\", \"scott\", \"scott\", \"scott\", \"scott\", \"scott\", \"screen\", \"screen\", \"screen\", \"screen\", \"screen\", \"screen\", \"screen\", \"screen\", \"screwball\", \"script\", \"script\", \"script\", \"script\", \"seagal\", \"seagal\", \"season\", \"seasons\", \"security\", \"security\", \"security\", \"see\", \"see\", \"see\", \"see\", \"see\", \"see\", \"see\", \"see\", \"see\", \"seen\", \"seen\", \"seen\", \"seen\", \"seen\", \"sellers\", \"sequel\", \"sequel\", \"sequel\", \"sequel\", \"series\", \"series\", \"series\", \"sexuality\", \"shah\", \"shark\", \"shark\", \"sharpe\", \"shelves\", \"sherlock\", \"shields\", \"ship\", \"ship\", \"ship\", \"ship\", \"ship\", \"shot\", \"shot\", \"shot\", \"shot\", \"shot\", \"shot\", \"shot\", \"show\", \"show\", \"show\", \"show\", \"shows\", \"shows\", \"shows\", \"shows\", \"shows\", \"shows\", \"shows\", \"shows\", \"shows\", \"silent\", \"silent\", \"silent\", \"silent\", \"silent\", \"silent\", \"sister\", \"sister\", \"sister\", \"sister\", \"sketch\", \"skits\", \"slasher\", \"snipes\", \"snoopy\", \"social\", \"social\", \"society\", \"society\", \"soderbergh\", \"something\", \"something\", \"something\", \"something\", \"something\", \"something\", \"son\", \"son\", \"son\", \"son\", \"sopranos\", \"space\", \"space\", \"space\", \"space\", \"spaghetti\", \"special\", \"special\", \"special\", \"special\", \"special\", \"special\", \"special\", \"spiritual\", \"spock\", \"squid\", \"stage\", \"stage\", \"stage\", \"stage\", \"stage\", \"stage\", \"stanwyck\", \"star\", \"star\", \"star\", \"star\", \"star\", \"star\", \"star\", \"starts\", \"starts\", \"starts\", \"starts\", \"starts\", \"starts\", \"starts\", \"stella\", \"still\", \"still\", \"still\", \"still\", \"still\", \"still\", \"still\", \"still\", \"still\", \"still\", \"stiller\", \"stinker\", \"stinks\", \"stooges\", \"story\", \"story\", \"story\", \"story\", \"story\", \"story\", \"story\", \"story\", \"story\", \"streep\", \"studio\", \"studio\", \"studio\", \"studio\", \"studio\", \"studio\", \"stupid\", \"stupid\", \"stupid\", \"subject\", \"subject\", \"subject\", \"subject\", \"sucks\", \"sucks\", \"superb\", \"superb\", \"superb\", \"superb\", \"superb\", \"supporting\", \"supporting\", \"supporting\", \"supposed\", \"supposed\", \"supposed\", \"supposed\", \"supposed\", \"supposed\", \"symbolic\", \"symbolism\", \"take\", \"take\", \"take\", \"take\", \"take\", \"take\", \"take\", \"take\", \"take\", \"takes\", \"takes\", \"takes\", \"takes\", \"takes\", \"takes\", \"takes\", \"takes\", \"taliban\", \"tarzan\", \"television\", \"television\", \"television\", \"television\", \"terrible\", \"terrible\", \"terrible\", \"themes\", \"themes\", \"themes\", \"themes\", \"thing\", \"thing\", \"thing\", \"thing\", \"thing\", \"thing\", \"thing\", \"thing\", \"thing\", \"think\", \"think\", \"think\", \"think\", \"think\", \"time\", \"time\", \"time\", \"time\", \"time\", \"time\", \"time\", \"time\", \"time\", \"time\", \"tony\", \"tony\", \"tony\", \"tony\", \"town\", \"town\", \"town\", \"town\", \"train\", \"train\", \"train\", \"train\", \"train\", \"train\", \"trek\", \"troll\", \"true\", \"true\", \"true\", \"true\", \"true\", \"true\", \"true\", \"true\", \"true\", \"tv\", \"tv\", \"tv\", \"tv\", \"tv\", \"twilight\", \"two\", \"two\", \"two\", \"two\", \"two\", \"two\", \"two\", \"two\", \"two\", \"two\", \"undercover\", \"understanding\", \"understanding\", \"understanding\", \"unoriginal\", \"unwatchable\", \"us\", \"us\", \"us\", \"us\", \"us\", \"us\", \"us\", \"us\", \"us\", \"vampire\", \"vampires\", \"veronica\", \"version\", \"version\", \"version\", \"version\", \"version\", \"version\", \"view\", \"view\", \"view\", \"view\", \"view\", \"viewer\", \"viewer\", \"viewer\", \"viewer\", \"viewer\", \"voice\", \"voice\", \"voice\", \"voice\", \"voice\", \"voice\", \"voice\", \"voice\", \"voice\", \"voiced\", \"volcano\", \"walt\", \"walter\", \"walter\", \"walter\", \"wants\", \"wants\", \"wants\", \"wants\", \"wants\", \"wants\", \"wants\", \"war\", \"war\", \"war\", \"warner\", \"wars\", \"wars\", \"wars\", \"waste\", \"wasted\", \"wasted\", \"wasting\", \"watch\", \"watch\", \"watch\", \"watch\", \"watch\", \"watched\", \"watched\", \"watched\", \"watched\", \"watching\", \"watching\", \"watching\", \"watching\", \"watching\", \"watching\", \"way\", \"way\", \"way\", \"way\", \"way\", \"way\", \"way\", \"way\", \"way\", \"well\", \"well\", \"well\", \"well\", \"well\", \"well\", \"well\", \"well\", \"well\", \"well\", \"welles\", \"werewolf\", \"west\", \"west\", \"west\", \"west\", \"western\", \"western\", \"western\", \"westerns\", \"whatsoever\", \"whatsoever\", \"whatsoever\", \"wheelchair\", \"white\", \"white\", \"white\", \"white\", \"white\", \"white\", \"white\", \"wife\", \"wife\", \"wife\", \"wife\", \"wife\", \"wife\", \"wife\", \"wilbur\", \"william\", \"william\", \"william\", \"william\", \"william\", \"williams\", \"williams\", \"williams\", \"williams\", \"williams\", \"willis\", \"without\", \"without\", \"without\", \"without\", \"without\", \"without\", \"without\", \"without\", \"without\", \"without\", \"woman\", \"woman\", \"woman\", \"woman\", \"woman\", \"woman\", \"woman\", \"woman\", \"women\", \"women\", \"women\", \"women\", \"women\", \"women\", \"wonderful\", \"wonderful\", \"wonderful\", \"wonderful\", \"wonderful\", \"wonderful\", \"woodstock\", \"woody\", \"work\", \"work\", \"work\", \"work\", \"work\", \"work\", \"work\", \"work\", \"work\", \"work\", \"world\", \"world\", \"world\", \"world\", \"world\", \"world\", \"world\", \"world\", \"world\", \"worse\", \"worse\", \"worse\", \"worse\", \"worse\", \"worst\", \"would\", \"would\", \"would\", \"would\", \"would\", \"would\", \"would\", \"would\", \"would\", \"would\", \"writers\", \"writers\", \"writers\", \"writers\", \"writers\", \"writers\", \"yawn\", \"years\", \"years\", \"years\", \"years\", \"years\", \"years\", \"years\", \"years\", \"years\", \"years\", \"yet\", \"yet\", \"yet\", \"yet\", \"yet\", \"yet\", \"yet\", \"yet\", \"yet\", \"yet\", \"york\", \"york\", \"york\", \"york\", \"york\", \"york\", \"young\", \"young\", \"young\", \"young\", \"young\", \"young\", \"young\", \"zohan\", \"zombie\", \"zombies\"], \"Freq\": [0.9965443191970099, 0.9978470033083182, 0.020039897658992497, 0.9762293002452059, 0.9972505351695912, 0.9961776270324564, 0.9970136209094144, 0.9945686366849736, 0.9967480957215652, 0.9968790639454054, 0.9973378040229138, 0.6835324937560079, 0.00022361413061454418, 0.015205760881789003, 0.2842694635437393, 0.016715156263437177, 5.5903532653636045e-05, 0.1013722443929619, 0.009737967761091442, 0.007206096143207667, 0.21569598590817543, 0.5839859266326537, 0.08189630887077902, 0.26803659933400503, 0.05761534378207585, 0.490200112450216, 0.17769949780613067, 0.00626253736761694, 0.48970999883176336, 0.010225232869921174, 0.08919549288069702, 0.37794033799977883, 0.03004645351007607, 0.002831602948593556, 0.15381471623817308, 0.00559326240866084, 0.5528007680559797, 0.12180882578861385, 0.16593345145693825, 0.17148023831579212, 0.8274918476866713, 0.06332339471292, 0.03299951555462029, 0.025864485164432117, 0.03478327315216733, 0.799123403701075, 0.04281018234112902, 0.9975779949531901, 0.13958445970879843, 0.13184845350806984, 0.6367069451295311, 0.04237986005616531, 0.020180885741031097, 0.013117575731670213, 0.0006726961913677032, 0.015808360497141027, 0.9956556443213516, 0.9963061595178413, 0.9676770857352414, 0.028461090756918866, 0.9953004576532988, 0.8299951242713385, 0.16966424548851436, 0.18677869294969143, 0.03568536003510365, 0.7767260279981071, 0.051882651415146634, 0.18562295256660166, 0.20849276610052506, 0.24327856662137945, 0.0774539154150513, 0.14769162753056364, 0.053214873562753826, 0.010546758668556913, 0.016208702795887465, 0.005624937956563687, 0.041588507669665944, 0.5245369712727609, 0.13059712187042702, 0.00414350445417336, 0.05724174671876531, 0.10512224263365746, 0.13658218385978854, 0.9991614986740224, 0.9967588762326345, 0.007087461290522196, 0.9922445806731075, 0.9995623441157966, 0.08447752048610452, 0.3389931270788553, 0.575096966386173, 0.8670570614957265, 0.10115074192643556, 0.020939978153191922, 0.002484404187666838, 0.00851795721485773, 0.9959592531746829, 0.6513009387044789, 0.1468923074752454, 0.17238499099664434, 0.004207530289939632, 0.01101382928837139, 0.014231352451266402, 0.00012375089088057742, 0.0009103958152918457, 0.9987042093751547, 0.9972391630163678, 0.9951386903657582, 0.9965493679686332, 0.27601151932441614, 0.15136115575855077, 0.15482887263970643, 0.004123771426239154, 0.21959082844723496, 0.15211093238150336, 0.002061885713119577, 0.03870721815992661, 0.001218387012297932, 0.9978922364818025, 0.9990690874135782, 0.997422714607881, 0.2739715017668876, 0.5189590207818409, 0.09197152068770223, 0.11399287071151826, 0.0004857650740547653, 0.0008096084567579421, 0.9943810080817749, 0.8629175255320766, 0.07314381521670747, 0.00044873506267918695, 0.03500133488897658, 0.004936085689471056, 0.01929560769520504, 0.0040386155641126825, 0.9974000342855662, 0.9668657358253344, 0.03299455426790558, 0.9942903077517052, 0.004351810069780483, 0.18984771429417355, 0.7365438543103466, 0.06364522227053955, 0.0016319287761676808, 0.0038078338110579223, 0.9968175590192114, 0.22719840061075522, 0.032880265430003705, 0.28759648474827276, 7.055850950644571e-05, 0.22896236334841635, 0.07189912118706819, 0.004092393551373852, 0.10583776425966858, 0.041417845080283636, 7.055850950644571e-05, 0.9045542289795537, 0.04527402284714375, 0.045125826373012344, 0.005038680120467717, 0.9979067514704199, 0.9983489565302408, 0.21025437045876344, 0.03885135106303237, 0.7496025381573305, 0.15342027582505638, 0.39062811300099926, 0.05319482777862818, 0.04314945257579711, 0.007534031402123305, 0.0025113438007077684, 0.12762192587233112, 0.03264746940920099, 0.18903569699873018, 0.9988726188361813, 0.5089620152269265, 0.4890515207437216, 0.9987609206396261, 0.2161278965505454, 0.08462329543874135, 0.5522516260332261, 0.1399669306556782, 0.007108356816854273, 0.17843627327814335, 0.6316476528249769, 0.13696868864308187, 0.052358061407905915, 0.9965219329842706, 0.9963209180646561, 0.9969997744612219, 0.9986190812657608, 0.9954489987271868, 0.9967557656713775, 0.07055509283611396, 0.03179498531725406, 0.29742666867009904, 0.41519571963618224, 0.012866866967851978, 0.05098894802549606, 0.08522970144407736, 0.002658443588399169, 0.032007660804325995, 0.0012760529224316011, 0.9966967190830769, 0.999147954869519, 0.5347602217918023, 0.015522284918880337, 0.2062246424936959, 0.14121778008906172, 0.00017506336374677073, 0.04790900721203292, 0.041431662753402404, 0.0038513940024289556, 0.00886987709650305, 0.28520748833938325, 0.0009115296147210402, 0.3157943709666893, 0.13622303686664433, 0.012660133537792224, 0.07363133665579959, 0.04284189189188889, 0.13014617276850407, 0.0014179349562327293, 0.001012810683023378, 0.06504184266955818, 0.17138274739408002, 0.1534920605929419, 0.016887470718831298, 0.052836047001491984, 0.14797437214025447, 0.0269196315418994, 0.36533785664006324, 0.998813275230079, 0.015648540777271257, 0.02577406716256442, 0.027921906092778125, 0.9306279250483083, 0.06207234730754799, 0.9341888269785972, 0.9988322026342987, 0.9998137049507155, 0.9992841648308912, 0.9423245596120196, 0.004393121490032725, 0.02580958875394226, 0.02727396258395317, 0.018264605631588604, 0.04957535814288336, 0.16525119380961117, 0.008697431253137431, 0.7157985921332105, 0.04174767001505967, 0.9667286408871432, 0.017404279950505034, 0.015822072682277304, 0.08455663863361576, 0.03675395225941165, 0.2376605256528827, 0.6076803763135853, 0.0024803280665860626, 0.007215499830068545, 0.023675858817412413, 0.07944430840179237, 0.920075943816107, 0.09120069357396508, 0.0378149217257904, 0.8341526851277294, 0.03559051456544979, 0.0035568611726592993, 0.17369338726486244, 0.15709470179245238, 0.5919209801500518, 0.0005928101954432166, 0.07261924894179403, 0.045477371063788415, 0.20067792310687588, 0.047642960162064055, 0.04367271348189205, 0.603838426902524, 0.05847090565344225, 0.99824238774136, 0.9976594273007703, 0.9977478625002418, 0.037949332334691666, 0.020009647958291972, 0.146622420384036, 0.007589866466938334, 0.6727381641149887, 0.011729793630722879, 0.10349817909461365, 0.997850659095238, 0.9993699596904319, 0.9943268927475357, 0.9969798564708227, 0.9979265377701418, 0.9983973221785013, 0.9980709938572673, 0.9984847979804614, 0.2321756824787822, 0.03027100670292983, 0.2665611949471588, 0.039087804771744346, 0.4317292121029507, 0.09963359608895742, 0.00032348570158752406, 0.05466908356829157, 0.21155964883824074, 0.08281233960640616, 0.48037626685747326, 0.0698729115429052, 0.0009704571047625722, 0.9903011180872405, 0.006949481530436776, 0.5329733911156356, 0.0006475982881113434, 0.46627076744016727, 0.9986394204772745, 0.9981093274034599, 0.15663039943732598, 0.0737345832672023, 0.45752798109347237, 0.0008894400876622713, 0.04562827649707452, 0.21408822910030872, 0.0005336640525973629, 0.05087597301428192, 0.9948627833710926, 0.9981274164670929, 0.9982654735039691, 0.9990843579433976, 0.9983306267185956, 0.2920856570743615, 0.17995521271136738, 0.050795384065220564, 0.3227287898245618, 0.07460724518321062, 0.0009758959474586084, 0.025373294633923817, 0.00019517918949172168, 0.04230508932233067, 0.011027624206282276, 0.34087199136885604, 0.2873355282153302, 0.09719996816705073, 0.17089951484593038, 0.009872958140000861, 0.06243603105437164, 0.031380247233711654, 0.06481786030338041, 0.7661471087859565, 0.1685264367887891, 0.030777108493751242, 0.005524096396314326, 0.07023493989599643, 0.009469879536538843, 0.16256626537725016, 0.720500001404997, 0.9977369245215143, 0.03147260862634532, 0.16762585029249139, 0.6835029569069342, 0.006157684296458867, 0.092365264446883, 0.0184730528893766, 0.24305794988523088, 0.3359985717719921, 0.21412790336655768, 0.20661064718454022, 0.9960120819811863, 0.9983342314663328, 0.9978621221041193, 0.995419022555081, 0.17200833735772988, 0.13025527621487845, 0.691245123364985, 0.00606668409767927, 0.24577577840895906, 0.04846282954542855, 0.07961750568177547, 0.03248607255243013, 0.04393608173074566, 0.5474702062934126, 0.0023965135489497635, 0.9981014157437085, 0.9937387039741135, 0.9985621682761574, 0.9969497069548527, 0.019846113904064704, 0.6952576443905045, 0.1510450182536384, 0.13388081163390675, 0.17476791039493902, 0.16114609352861486, 0.10911075309925657, 0.09589759073892212, 0.34653902107928675, 0.0742389019214667, 0.0069471266018253245, 0.031193960623882338, 0.0002724363373264833, 0.2628849923861726, 0.24792405786013025, 0.05086717738854396, 0.22954348115670678, 0.003419642177381107, 0.2051785306428664, 0.9944466140200378, 0.88462910014658, 0.11216589068844197, 0.9483075242473578, 0.050080976578650925, 0.05830746806521915, 0.011285316399719835, 0.0018808860666199726, 0.2120699040114019, 0.7161473698655545, 0.997741879260579, 0.9986913088705438, 0.9971575326142761, 0.6283810494432476, 0.1318185977081989, 0.17762265808078362, 0.03394847792591725, 0.0018645278031850924, 7.035953974283367e-05, 0.0240277828221777, 0.00014071907948566735, 0.001758988493570842, 0.0003869774685855852, 0.9998364906910006, 0.9660215990444697, 0.0013306082631466525, 0.03193459831551966, 0.9992598642370034, 0.027090269917363127, 0.9721239166499922, 0.06691378970215857, 0.18243476626343233, 0.7505707165647786, 0.3325499302911186, 0.027025407558093663, 0.004122519796997339, 0.15848798330678657, 0.006412808573106971, 0.11176609227415006, 0.3600333956044342, 0.9971812210685078, 0.028571454749046384, 0.06335409531310285, 0.07577646694312302, 0.0819876527581331, 0.7287791356278498, 0.02153211082536829, 0.0446852640232157, 0.0834908880433767, 0.004703712002443758, 0.045861192023826644, 0.8196218164258249, 0.02034921756492548, 0.9767624431164231, 0.9958607623143465, 0.9987475652710639, 0.8593918835361346, 0.14004447779088483, 0.9966635898446988, 0.12211480546316568, 0.7307192391424914, 0.001969593636502672, 0.12671052394833857, 0.013787155455518705, 0.004595718485172902, 0.9954663390596862, 0.9941294133963026, 0.9977254016032091, 0.9960932269116034, 0.9945067585180926, 0.0002753377243132031, 0.046256737684618125, 0.9521178506750564, 0.0011013508972528125, 0.9330684020323906, 0.0663914055292278, 0.002180282963603077, 0.7591745279265915, 0.004360565927206154, 0.013517754374339079, 0.22064463591663142, 0.15388906697681332, 0.0035663746692193125, 0.01301726754265049, 0.3272148759008719, 0.5012539597587744, 0.0008915936673048281, 0.06457976444039866, 0.2379697049040732, 0.3191989398642622, 0.31045376342962483, 0.0038680588076280453, 0.04759394098081464, 0.016144941110099665, 0.9953481403803213, 0.9064324940149249, 0.07729269328809436, 0.015969564728945118, 0.9938552191530979, 0.9984370855467234, 0.1908566214028226, 0.8076830934728145, 0.33307797385929483, 0.05006600024607354, 0.526388363698301, 0.03523162980279249, 0.055165315085951405, 0.31111342982145357, 0.23992575381846928, 0.3135251618355734, 0.0010811212477088738, 0.08332949924648396, 0.05072953546941638, 0.0003326526916027304, 0.9414047112502745, 0.05724758379224642, 0.9995365410310127, 0.9966185770783496, 0.004615622493718474, 0.6917664212460563, 0.1627006929035762, 0.04904098899575878, 0.09173549706265467, 0.9987764680869102, 0.8786650070427646, 0.12091090010909036, 0.9979589313437327, 0.9984595538859093, 0.0824192386369411, 0.9171781940623702, 0.9987844498510585, 0.9975594544296834, 0.9987361511770421, 0.9966817803535947, 0.2200095482213931, 0.5653785490706198, 0.06675947181363917, 0.07417719090404352, 0.059638461486850994, 0.013945311889960184, 0.00014835438180808706, 0.002328553073768206, 0.18884565428260153, 0.1613687280121367, 0.060542379917973364, 0.012341331290971492, 0.11316767938513482, 0.3995797074586242, 0.027709781577841652, 0.03399687487701581, 0.23535181340211503, 0.12072676354145531, 0.010460080595649558, 0.16431043268999512, 0.003922530223368584, 0.4654735865064053, 0.9972685031730749, 0.9954199846030678, 0.2914305357039704, 0.7072047666416348, 0.3044349317915872, 0.009193332098656842, 0.000452131086819189, 0.058777041286494566, 0.6011836351072483, 0.01612600876321774, 0.009796173547749094, 0.9986150850001826, 0.9953862972236183, 0.7674717124483191, 0.013054090077079845, 0.21919992921096573, 0.9983176424970681, 0.4292196090226241, 0.1673392050119585, 0.11500160773723328, 0.08697277194182283, 0.1542548056932772, 0.039445615593083364, 0.0007055313358112471, 0.0017317587333548793, 0.005259415412411115, 0.9952529379354532, 0.1971746579171359, 0.05157486021977398, 0.5425278565426224, 0.14083904136938277, 0.06704731828570618, 0.0007934593879965228, 0.08256221406708647, 0.057576280862573465, 0.6129701222020203, 0.2248733988406171, 0.021183725977739293, 0.0005431724609676742, 0.9970196201946016, 0.9998388990998942, 0.9996110197073019, 0.998612652525772, 0.10302838561044605, 0.008682167326722981, 0.13196894336618933, 0.23152446204594618, 0.0011576223102297309, 0.5047233272601627, 0.01794314580856083, 0.9804024288205032, 0.015176508186075901, 0.5599175556528286, 0.1339901669756187, 0.14675630897410658, 0.03740207985514432, 0.011054935730605474, 0.06008235340564941, 0.04307893874383362, 0.0034224125357648397, 0.0011679661828403818, 0.0031236304889917187, 0.09360247470582259, 0.7614050043297166, 0.07865754176959881, 0.034216030669775487, 0.03185630441668752, 0.5283110743570684, 0.05048765322459916, 0.2782277499658229, 0.11183101345653533, 0.012463959897312875, 0.011774708658751794, 0.0009190016514147742, 0.005628885114915492, 0.0003446256192805403, 0.045156882922629434, 0.10037729975373057, 0.010063533908471702, 0.11353730563403971, 0.6216167483463675, 0.02322353978878085, 0.049801590880385604, 0.008257258591566525, 0.027868247746537022, 0.13577395866833578, 0.1408527850524381, 0.6483968350370648, 0.027087074048545788, 0.04723308537215172, 0.0005078826384102335, 0.4160293382526324, 0.31524556738605347, 0.1260982269544214, 0.019720624967308007, 0.008532962726239043, 0.057170850265801584, 0.05309399029659848, 0.0032235636965791937, 0.0007584855756656927, 0.00018962139391642317, 0.07203029330586816, 0.900378666323352, 0.027284202009798544, 0.20672042873439433, 0.29912483600634043, 0.4936999700179993, 0.00025041844789145285, 0.003330924368092087, 0.197000384055732, 0.13870920761412048, 0.4420612482796498, 0.06733225686929005, 0.11753404555982079, 0.03402301318836917, 0.27243210968687454, 0.08253637947233329, 0.060816279611192944, 0.21099525579393472, 0.03909617975005261, 0.3344895378615612, 0.9945214165285453, 0.9952293978334469, 0.08884504768106405, 0.001292963271865797, 0.024566302165450145, 0.822139931867809, 0.000738836155351884, 0.0624316551272342, 0.656350586595394, 0.19603775229589304, 0.0387449244950585, 0.041925477998384204, 0.04105805431565901, 0.025444428026605584, 0.9992000147131315, 0.9957100889847772, 0.9957577284938098, 0.14218707505172792, 0.39518661235034236, 0.02937197794495788, 0.4332366746881287, 0.03920273441921521, 0.0452339243298637, 0.08715069420887074, 0.016284212758750933, 0.03920273441921521, 0.5976909201452657, 0.1749045074088063, 0.28748141268814514, 0.284955841665328, 0.01739837815718475, 0.3042930420218471, 0.00019558294116092342, 0.06686385505862351, 0.038716918743725404, 2.5510818412294357e-05, 5.952524296202017e-05, 0.19756435976371625, 0.19028288104164617, 0.03660028046391522, 0.3017232606886924, 0.1926939667112058, 0.08106070021059483, 0.04033923054990479, 0.844293018351516, 0.030431349362208877, 0.08457084299497583, 0.2791940987042945, 0.11006092532441009, 0.27624048630152076, 0.08258455731439669, 0.039562860868732154, 0.09649762626430446, 0.033033822925758675, 0.001321352917030347, 0.05984951447725689, 0.021685733167733343, 0.33988655269043777, 0.13428681904097667, 0.041407498804926425, 0.4839501422825776, 0.9983912688617642, 0.9977053587330486, 0.998376727609159, 0.15033424770922132, 0.014317547400878221, 0.23185189662067313, 0.005542276413243182, 0.5696998296446222, 0.0004618563677702652, 0.028173238433986177, 0.9977845096413046, 0.02703178692739477, 0.6025889727020681, 0.03906028541661828, 0.2854504964055515, 0.04591523616854136, 0.9989983830376264, 0.9993609073895662, 0.16141230431289344, 0.8119293890473358, 0.026580101811218452, 0.09301516329641955, 0.37360447332337815, 0.1296808915667924, 0.06136685047357141, 0.068314041093221, 0.013894381239299187, 0.0065612355852246165, 0.25357245761721015, 0.8751894068638625, 0.12405332714113938, 0.0005024386854728364, 0.19620230667714258, 0.5778044882937617, 0.014068283193239418, 0.05501703605927558, 0.15676086986752494, 0.07080513333563614, 0.0072005220341324885, 0.05820421977590428, 0.8634626005930542, 0.9996033546025512, 0.9970379540751776, 0.9945729477124563, 0.04040230647968619, 0.10520869069878015, 0.01464244664364466, 0.2855277095510709, 0.5414993693955257, 0.012473195289030637, 0.008418885409926191, 0.10734078897655895, 0.03535931872169001, 0.09850095929613645, 0.7273916994176229, 0.007156052598437263, 0.015574938008363454, 0.9982378495054767, 0.42382497390996027, 0.02790917773377087, 0.29359432126481216, 0.004566292168483454, 0.12694292228384002, 0.05928873751558917, 7.306067469573527e-05, 0.06370890833468115, 0.00010959101204360289, 0.20227660174130538, 0.11193000160698506, 0.05694113453843717, 0.39793718594576377, 0.12483665876903083, 0.003253779116482124, 0.10292787938471785, 0.9975489574492813, 0.7740500559686811, 0.09325904288779291, 0.004304263517898134, 0.12841052828396102, 0.12477112313593992, 0.007653924788280638, 0.17421790708562596, 0.0035232352200021987, 0.6594524404886873, 0.03025122654415681, 0.9975627426544819, 0.24040968781839694, 0.06755539578059618, 0.08765791233878978, 0.036239230530076896, 0.3923409524180778, 0.10516214444388353, 0.06933316935376976, 0.001504269946531494, 0.9540765234980862, 0.04558727416031812, 0.3888088318385176, 0.004271349039243372, 0.25941481257361243, 0.2446972294710021, 0.007428433111727604, 0.07927530961421801, 0.013603318135851174, 0.00027856624168978516, 0.001857108277931901, 0.0003714216555863802, 0.9997326114725658, 0.9984117678863215, 0.9981464092504564, 0.9994859925523173, 0.021677188279571283, 0.03477228154060922, 0.4120885280450923, 0.4303994635372216, 3.699178887298853e-05, 0.0474234733351713, 0.031923913797389104, 0.01834792728100231, 0.003329260998568968, 0.08418520723757995, 0.9142905065104614, 0.15955250194974252, 0.16732291600573648, 0.6729178572490765, 0.9953060977603897, 0.9971636063839892, 0.06695712024604832, 0.12378627272378681, 0.5812328169257808, 0.01800527603255081, 0.20931133387840314, 0.9960960026671569, 0.9934090365478071, 0.9981804804112223, 0.1340439335171719, 0.6688160661877739, 0.0007018006990427848, 0.19580239503293695, 0.013032023630092924, 0.159316488877886, 0.011403020676331308, 0.05864410633541815, 0.009774017722569693, 0.3482808315142334, 0.005538610042789493, 0.3850962982692459, 0.008796615950312723, 0.9979445897376124, 0.003294294442829924, 0.78272435961639, 0.08598108495786101, 0.0998171216177467, 0.028001502764054356, 0.0795363289051769, 0.6706708508326852, 0.07132612721173928, 0.001539412817519553, 0.1470139240731173, 0.014367852963515828, 0.010006183313877095, 0.00513137605839851, 0.9957013839579494, 0.9968069746693367, 0.1819597374054258, 0.22909155898390127, 0.12420393965147429, 0.19895809928618743, 0.2628951195422341, 0.0028974480478570984, 0.9986718582884369, 0.11033910953985038, 0.1338904825004571, 0.1793242334874543, 0.555218981449264, 0.003708877631591609, 0.017617168750060145, 0.9960052754972135, 0.9975954856068368, 0.9998176961256567, 0.9972752782870321, 0.06738621125342985, 0.9325382137974647, 0.08123767088601397, 0.801664048963083, 0.10623387731247981, 0.009819938238968722, 0.07001579685367945, 0.07392729388461126, 0.6373784411903389, 0.21845710917754177, 0.005555553875503232, 0.7678238418768425, 0.018749994329823407, 0.17847216825054132, 0.02592591808568175, 0.0032407397607102186, 0.999405746363177, 0.006843452127256303, 0.055927522557232545, 0.7787376558601999, 0.08849291543865909, 0.0535677114788683, 0.01628269644071327, 0.0004719622156728485, 0.9995908792503111, 0.9985047228884874, 0.0053024318915694734, 0.8173320015719231, 0.01742227621515684, 0.01742227621515684, 0.14240817080215157, 0.08523961837292654, 0.678772862699165, 0.12751008486114013, 0.05205206203920514, 0.00663751126674428, 0.017816477610734648, 0.0321395282389723, 0.9380350504842208, 0.017459197217134396, 0.0444415929163421, 0.026245350907464104, 0.9710779835761719, 0.9493566250166219, 0.0496645316910104, 0.9896086299531099, 0.009163042869936204, 0.027937570883215107, 0.9701956433989246, 0.9973080793022264, 0.9122478275854663, 0.08743589401777632, 0.9959012287930213, 0.11564584783293842, 0.15477153886623793, 0.20116837602077012, 0.10595098633796154, 0.35870987531414433, 0.06336284477074171, 0.9975799741915556, 0.9978951790023337, 0.08259569021083245, 0.9167377508085188, 0.9969401157523267, 0.1498840047128528, 0.10636929366718585, 0.05264742817870815, 0.02363762081493019, 0.06178014531174936, 0.6054454240551437, 0.11884157724109748, 0.1689194745691071, 0.08117103954957978, 0.06981008373785223, 0.36564339362481063, 0.18895063350031097, 0.006577395469947534, 0.9996704960493007, 0.9934861037190857, 0.9961559657221649, 0.9978250390041389, 0.9972925687370117, 0.9968511670569163, 0.9981474751137397, 0.9992148874806356, 0.9970946002376593, 0.07363622776382364, 0.8057502614926086, 0.04875365629417994, 0.026905544759858638, 0.04491000704277156, 0.2088246702567018, 0.23205778147636102, 0.4624755786313343, 0.09648574424164363, 0.024692681276067316, 0.27161949403674046, 0.7034993312573689, 0.11157990950962891, 0.32615665856660764, 0.5621910825292842, 0.503282223995249, 0.11043741109789001, 0.3341922460203953, 0.00055384860129333, 0.04724328569032105, 0.001550776083621324, 0.002603088426078651, 0.000110769720258666, 0.999222325999882, 0.9983878356579076, 0.9982461560603604, 0.9956803842172697, 0.8878242123336452, 0.022739911705548406, 0.08902433518767887, 0.9974564557558672, 0.9967172233924074, 0.2281841366220705, 0.1276475615757127, 0.23247670948921836, 0.07116633963955664, 0.07963852292998005, 0.0950014152966145, 0.0754589125067045, 0.01434623037178364, 0.07613668716993838, 0.021496864697124626, 0.11111982266234274, 0.14557803225038074, 0.003319368813526597, 0.274085024888339, 0.10890691011999168, 0.22476868823022955, 0.0583260520091102, 0.052319575108443026, 0.0003161303631930092, 0.31975816576836996, 0.6800386797331923, 0.1282826780794486, 0.7095469289622613, 0.036728235632705206, 0.013307331750980146, 0.04790639430352853, 0.0638751924047047, 0.9927653830490216, 0.07158708588316622, 0.057580916906025, 0.1945301246825169, 0.0023343614961902027, 0.6738523519002385, 0.9974079866861755, 0.9985505927577577, 0.9948235249112944, 0.995413251662012, 0.09593523585894033, 0.5081056972996906, 0.16787227534524832, 0.03999699395438724, 0.1880721960330036, 5.754963158904638e-05, 0.452814477507955, 0.0865679753391423, 0.3160114898784139, 0.049296837188201235, 0.0076589203797586, 0.07445698765622781, 0.0031897953474718443, 0.00834122954499322, 0.0012281564974223145, 0.0004093854991407715, 0.21909224315900355, 0.002985533711810321, 0.6085895643305654, 0.13825317650075486, 0.03077396287558331, 0.9966990105557052, 0.15795068060112655, 0.8398964762123395, 0.22897123899157237, 0.12495005693212137, 0.2440836523611681, 0.09680253787259943, 0.13808902800603107, 0.10739680703891397, 0.0398843074496547, 0.002440836523611681, 0.017345519125240457, 0.00023902090458564367, 0.6092642857888058, 0.0908279437425446, 0.29734200530454075, 0.0021511881412707933, 0.11578762414484298, 0.022163967658088757, 0.11578762414484298, 0.28239951895392396, 0.10394136556896795, 0.3595912683838193, 0.9951274739961316, 0.9963151947983483, 0.022043687035248786, 0.014695791356832523, 0.9625743338725303, 0.31667788437142974, 0.06447382857677633, 0.3667609592810063, 0.11967903614755959, 0.002439110791050807, 0.1296793903908679, 0.0002439110791050807, 0.02398166686861278, 0.1493403800454523, 0.4252385566111748, 0.24826475587848004, 0.1488498459504125, 0.0043057992786827495, 0.054961271805573655, 0.8335792890512005, 0.10839584161654804, 0.002798953656765325, 0.9955061542963244, 0.9970854325396754, 0.044065754023064965, 0.18785926715096118, 0.01623475148218183, 0.11364326037527281, 0.6366341831227018, 0.9989358822200106, 0.0030814237723320865, 0.9413749624474524, 0.053924916015811515, 0.45120188258078203, 0.11347023019125968, 0.21648356940525934, 0.09929725399067584, 0.03659911842041011, 0.07548838238542675, 0.00220372495801761, 0.003456823463557035, 0.0018148323183674435, 0.05224497747335558, 0.22379564977392613, 0.1731102238669394, 0.006238206265475293, 0.19260461844654966, 0.0202741703627947, 0.016375291446872643, 0.3158091921896867, 0.9926897904262555, 0.5252341922345544, 0.1487037640715515, 0.18167867597952472, 0.070889727392429, 0.02617726681554853, 0.022081791200857872, 0.008697608006456447, 0.015875245681687494, 0.0001266641942687832, 0.0005488781751647273, 0.25670438321304045, 0.184245093649127, 0.1526794093179886, 0.20894542819666084, 0.08775707984259755, 0.09417468942292356, 0.01320833599671749, 0.0022387010163927947, 0.053346763736533964, 0.22578323935196631, 0.04650110966167238, 0.055690320987387486, 0.37885453136824065, 0.06777814259705298, 0.04569936639164355, 0.12636707386839086, 0.9942525489186221, 0.1964492222162206, 0.3422214097189043, 0.25494990272716606, 0.12699543758890314, 0.047244725589512454, 0.026045169235244046, 0.00449228694173783, 0.0016152042936585455, 0.9971478563472378, 0.9973332842058903, 0.04403501275768412, 0.008468271684170022, 0.8349715880591643, 0.11234573767665564, 0.8563303064145367, 0.14272171773575612, 0.9990078057635436, 0.9965245623130978, 0.03663366919654653, 0.9625812388885675, 0.17093813170225694, 0.424865764882223, 0.16476452244598835, 0.09877774810029769, 0.015484626495231092, 0.08349553502330491, 0.0406850970659013, 0.0010120670911915746, 0.9970169701519068, 0.05176667795495766, 0.9475552790885728, 0.03218888894710725, 0.02073182677949281, 0.09383879489665166, 0.7981753310104731, 0.03873578161431551, 0.016367231668020638, 0.012721806540158531, 0.3609812605769983, 0.06307895742828605, 0.18075566792475245, 0.012015039510149724, 0.011838347752647521, 0.3585075759719675, 0.9967811118657577, 0.09385312275433552, 0.7552520161268698, 0.15096186254353025, 0.9475224115548893, 0.05249431642963375, 0.9952221400864688, 0.05305862307646436, 0.9468016517866863, 0.12269672719589911, 0.8761583195538147, 0.9985523078402647, 0.9951674439453913, 0.9974749749966436, 0.8479312071427226, 0.005960646666337541, 0.02395946209018031, 0.041724526664362785, 0.01963507137146484, 0.04114014954021204, 0.01963507137146484, 0.04734895850909456, 0.9522401655717907, 0.6785095005616281, 0.046386236267439845, 0.12098830414978738, 0.15407912237878904, 0.9996417309061242, 0.9992403564555173, 0.11767177457079636, 0.16159152141764288, 0.697743902736694, 0.02237421065782748, 0.013594521010815043, 0.884614902918036, 0.0951616470757053, 0.006797260505407522, 0.06709526328280332, 0.02766389316890968, 0.002270916603417959, 0.8662514607219777, 0.03654111261863443, 0.4110468634582245, 0.009766563077263537, 0.37646068595525456, 0.09860644648191304, 0.10416173924145744, 0.05920185877992225, 0.037930195235621175, 0.16632903181025774, 0.14582622357478683, 0.1635098956778805, 0.36110571004723135, 0.028191361323772497, 0.01050768922067884, 0.027678791117885723, 0.35967248517766043, 0.19274973381651547, 0.19952402429661267, 0.1160802899974988, 0.005327697200493106, 0.08150318233866936, 0.03732916316636892, 0.00014113105166869156, 0.00024697934042021023, 0.007409380212606306, 0.02882541052016942, 0.6510782941403485, 0.04825123065332707, 0.0877295102787765, 0.1839186519058636, 0.9987703784894606, 0.1657057932403044, 0.06355992748185471, 0.3373738451647474, 0.376297269781954, 0.034648597636126106, 0.010012094771477999, 0.012486994602629862, 0.23144778844428432, 0.2021737598663511, 0.5662694903043952, 0.9954832027670436, 0.934127788734068, 0.0644226061195909, 0.9032653710870014, 0.03349858329859078, 0.06280984368485772, 0.053541396202954186, 0.1638691217120719, 0.7804064113218474, 0.3775020471483539, 0.18261193295076106, 0.23515838659186325, 0.07054751597755897, 0.0566565227872874, 0.00967687166063862, 0.05145390361490105, 0.010873474070287482, 0.005202619172386355, 0.00026013095861931773, 0.04596263365634971, 0.16158738394810446, 0.1945432306496191, 0.10349572196577357, 0.1412393430064913, 0.06535311973012224, 0.003032257081495293, 0.12528009520914765, 0.13230216423997884, 0.027130721255484203, 0.996277668821471, 0.993560745163063, 0.9970995446937452, 0.9973595927900073, 0.9973816221971072, 0.9961864780353981, 0.9918530394084422, 0.9918438353849545, 0.7407162042986597, 0.09902072788818372, 0.05936494477708856, 0.021925452937671376, 0.039180863552878455, 0.03181961040051947, 0.007202946632953412, 0.0007123793373250628, 0.004667257210299374, 0.2861387689698924, 0.7087050563946895, 0.9953386803058499, 0.02628617661649729, 0.011121074722364238, 0.9109171204409253, 0.05055033964711017, 0.9970945341499493, 0.12618636730780672, 0.023278764833502805, 0.37675521239757676, 0.009019447629216953, 0.28647483660417655, 0.06193354038728975, 0.07189788253004371, 0.03908427305994013, 0.002233387031996579, 0.0031782815455335934, 0.9961187596451968, 0.288710296292897, 0.13577857169966595, 0.21584814608762537, 0.12686616545225637, 0.05933854246463712, 0.10250558837600353, 0.05116237847244833, 0.013885270602848259, 0.00529577762527236, 0.0006199934780806665, 0.17912897796977015, 0.09400260993159879, 0.11271757777918671, 0.23399056943155647, 0.011122038035137968, 0.06887108167912358, 0.30018808427531035, 0.9944332004935457, 0.9957088060232819, 0.07039339999520487, 0.7323383543360787, 0.19697802279359958, 0.09016816759669258, 0.08552032390614141, 0.763175933988501, 0.06042196797716513, 0.9981723585853964, 0.9959821780190191, 0.9406021863181682, 0.03712031179268317, 0.021874469449259727, 0.0768884681487973, 0.017995173396527026, 0.019631098250756755, 0.8850353461382837, 0.39121275005248224, 0.34543215022644597, 0.25238949469997124, 0.00010839921032210647, 0.010442457261029589, 0.00039746377118105703, 0.0004536741230461681, 0.07803194916394092, 0.29965175827199403, 0.5351086281329552, 0.06419488841103278, 0.0018146964921846723, 0.0031757188613231765, 0.014744408999000463, 0.002722044738277009, 0.0003644007967745111, 0.0002429338645163407, 0.7877130556942348, 0.008381218325813754, 0.203214177667919, 0.03398659704610722, 0.0426210298091723, 0.011941236799983618, 0.7590952378081894, 0.011022680123061802, 0.002571958695381087, 0.13833463554442563, 0.00018371133538436338, 0.24491948071838435, 0.5145722094896105, 0.021113748337791755, 0.10275357524391987, 0.00583141620758058, 0.11059582462652824, 0.9969326238265102, 0.9951721361926716, 0.9973393727340145, 0.9979742024775142, 0.9983985771766534, 0.0011266792057324278, 0.17125523927132902, 0.8281092162133344, 0.9962724713843162, 0.9987633659189117, 0.08739441573351826, 0.18430703516078603, 0.7277099369493947, 0.15225446717902635, 0.06320867273795942, 0.21961553447641377, 0.17932192801085325, 0.04829081080223664, 0.011226844549564569, 0.31019925282837996, 0.015840616282262337, 0.025752752326955952, 0.004717088297511734, 0.1843489102216748, 0.27614089871379505, 0.19862766398711573, 0.024350374724993004, 0.2081893294550449, 0.056987526188857975, 0.020908175156538495, 0.00014668141750352975, 0.04283097391103069, 0.3361938089180902, 0.2779612861691889, 0.03373672602581185, 0.22456925019790405, 0.08316836372450137, 0.001320132757531768, 0.996712180444652, 0.612528824002825, 0.02772785794091173, 0.014099799217590274, 0.17800341317076793, 0.007862341571146993, 0.13376463793044752, 0.02584089596383645, 0.00015724683142293987, 0.5125023855742148, 0.3610495746198782, 0.044681480626375156, 0.00046422317533896263, 0.05767972953586611, 0.004758287547224367, 0.004990399134893848, 0.013114304703325695, 0.0008123905568431846, 0.9814512904735627, 0.018079365877144576, 0.9973870956176684, 0.17249451826466594, 0.055977057073542384, 0.7712056504425541, 0.9215095535187657, 0.0011821803124038046, 0.07625063015004539, 0.9985883082303009, 0.7743781843848037, 0.06977834462026608, 0.08376988929990811, 0.007533908673653406, 0.0387458160359318, 0.010403969120759466, 0.015426574903195071, 0.9893972303264714, 0.01038347917883853, 0.9961686295987039, 0.998863287531978, 0.997164707962563, 0.02663983929787806, 0.9552285233953419, 0.015222765313073178, 0.9990196521693708, 0.4085014769430523, 0.19838228698075347, 0.04608881414704374, 0.04293988895687305, 0.2699487685755419, 0.032920581533602666, 0.0011450637055166145, 0.12529281058992814, 0.8743455127498582, 0.017112372502176707, 0.007605498889856314, 0.04563299333913788, 0.2205594678058331, 0.7092127714791012, 0.032688478099015525, 0.03677453786139247, 0.930454180175549, 0.36505409179305304, 0.09440377320024651, 0.09597389832623814, 0.08341289731830513, 0.33522171439921217, 0.02590706457886183, 0.9952041395120176, 0.9741489287668715, 0.02580526963620852, 0.9957776897228786, 0.9961688191811117, 0.17604709245994182, 0.153927890317704, 0.10470360030444531, 0.3186434243031388, 0.01949028057615216, 0.16535010126000715, 0.060374543552173664, 0.001450439484736905, 0.9966948160491164, 0.9965157689530706, 0.24497787298395457, 0.37258575010544737, 0.029738607466708915, 0.08872830424493479, 0.019135087591284013, 0.14393973532042306, 0.10091625812473352, 0.41759476515338007, 0.07728910105635985, 0.10337660619880877, 0.4016307694691949, 0.2596372362287984, 0.33139877560873504, 0.21443031409957247, 0.08101649981584112, 0.058092674736139154, 0.02157117701599285, 0.019364224912046386, 0.013099328616972555, 0.0014238400670622342, 0.08541724977769317, 0.670561913853087, 0.10950929458678613, 0.13396637037783501, 0.4610042915878394, 0.02369770065473843, 0.33730113535833683, 0.1135635532598712, 0.005272593544208306, 0.05912837046005029, 0.9981465987179277, 0.9985874095732659, 0.9963516841517867, 0.9981412906213665, 0.17796547752309508, 0.03950017836459529, 0.7165847575055384, 0.014812566886723232, 0.0053668720604069685, 0.009875044591148822, 0.035206680716269714, 0.0006440246472488362, 0.9967376872730849, 0.009153467264198576, 0.1446247827743375, 0.08055051192494747, 0.5949753721729074, 0.15789731030742543, 0.012814854169878006, 0.8439044945477892, 0.019917326357334182, 0.012171699440593112, 0.108438776834375, 0.015122414456494473, 0.9965302947228396, 0.02897735396734434, 0.9694242054529743, 0.2540527895306861, 0.08186145440433219, 0.04516494036101086, 0.5181422324749302, 0.028855378563979163, 0.0721384464099479, 0.0276851600551378, 0.20586401066640928, 0.007098758988496871, 0.02981478775168686, 0.7297524240174784, 0.9979153084072215, 0.9934337639380927, 0.04306037812816434, 0.9545050485076427, 0.00021378495285546343, 0.0008551398114218537, 0.022233635096968195, 0.5736919209876361, 0.056973689935981, 0.3050711277247463, 0.022447420049823662, 0.018385505945569855, 0.024992526431847358, 0.00030854970903515256, 0.08670246823887787, 0.5689656634608213, 0.011416339234300644, 0.3057727616538362, 0.0015427485451757629, 0.9966660863268757, 0.9984508946184235, 0.9954431089776152, 0.999135566362253, 0.9984885384039195, 0.9397289436645027, 0.057718476386303424, 0.28855856401189234, 0.04762414725656728, 0.6324528439827283, 0.030846274809505286, 0.00041684155147980116, 0.5724729032849418, 0.09537950868962253, 0.2702745831451316, 0.05359793061887755, 0.008291031898413457, 0.9954063812992894, 0.2762674486479673, 0.1155362023866038, 0.0003398123599605994, 0.6075844996095517, 0.3641138225452297, 0.05079658084428222, 0.054789056968681665, 0.17665171282727407, 0.1851894694625283, 0.11578180760758401, 0.0238320113271844, 0.02874582809567603, 0.33374607532685335, 0.09172906358025153, 0.029345386982898583, 0.28831018402074743, 0.0023080641447223607, 0.23443337241394263, 0.020113130404009142, 0.06879714176142224, 0.5013125058584256, 0.42931549703833255, 0.14799030228298407, 0.07499961020676116, 0.17477587735682734, 0.6026754391614736, 0.09037585402288392, 0.004470890305018993, 0.5623741305098889, 0.21619948117841842, 0.11656249723799515, 0.010219177840043411, 0.997126242480932, 0.027783966896684345, 0.054275656263290346, 0.052337239968172834, 0.7960429585282585, 0.0012922775300783416, 0.06784457032911294, 0.2609549544083573, 0.08654566669772121, 0.03016650988110079, 0.3494043328946917, 0.04495688608494147, 0.21277640221960897, 0.0007321968417742911, 0.014497497467130962, 0.9966108396520083, 0.6395040741213508, 0.2708052496936809, 0.0021305589002815475, 0.08757718426946781, 0.00394317043261885, 0.99367894901995, 0.9993247772116841, 0.9980700238594006, 0.04240367695741583, 0.08480735391483166, 0.871631137457992, 0.3511745229641719, 0.1359692507967738, 0.3915366735947378, 0.09304725875453478, 0.010358428037932854, 0.01741287471893885, 0.0002976559781015188, 5.953119562030376e-05, 8.929679343045565e-05, 0.4573300424872291, 0.07388283603726589, 0.3082029574169717, 0.13116690593433808, 0.029427465522993215, 0.997822379370061, 0.17637941715675062, 0.0889307985664289, 0.5087582767987786, 0.22566190136231332, 0.11515331813540404, 0.8723840698261996, 0.012411734888845944, 0.9970978861444687, 0.9955372351964307, 0.9849403546150814, 0.013080217192763366, 0.9957553249750376, 0.9957492062549815, 0.9981603739303844, 0.9951584825203227, 0.0014394217632048873, 0.008636530579229324, 0.10939605400357144, 0.287164641759375, 0.5930417664404136, 0.4004909816913924, 0.09786633357284137, 0.12600511664351366, 0.01628156001573491, 0.15166627101613933, 0.017166427407894418, 0.1904234627927257, 0.06372580008368597, 0.01322281226599334, 0.372044501951099, 0.5509893445992555, 0.021694571171710756, 0.25697569465329645, 0.3068032258605805, 0.07838038616876145, 0.0482879164789691, 0.008537863493382942, 0.004478879209643511, 0.022394396048217555, 0.25263678041895427, 0.03593961175019716, 0.08851793264400411, 0.015973160777865404, 0.11846760910250174, 0.06788593330592796, 0.6728693977675801, 0.001854472526398168, 0.14093991200626077, 0.855375452801155, 0.001854472526398168, 0.9945041493624893, 0.9946522565249047, 0.9994160918329321, 0.997708409485392, 0.9975750306196196, 0.9647159407523814, 0.03428809668939187, 0.9718170585640243, 0.028042989622781397, 0.9926625939530247, 0.5526412044338026, 0.18513744265057905, 0.1993229558971487, 0.004222664408281204, 0.03813593793728962, 0.020453530727612083, 0.059736440812536554, 0.060505579535444755, 0.03948245444262073, 0.8401558649900528, 0.9983220054295058, 0.22156134759817875, 0.027176963634703837, 0.182868721406397, 0.568413103817365, 0.9963762518518327, 0.2603985680522338, 0.004430221384631577, 0.13881360338512275, 0.11239635735083815, 0.4162767278818634, 0.06530474485493955, 0.002297151829068225, 0.9970343331972238, 0.9941545743878963, 0.9941722201310622, 0.06545191449060095, 0.08429413229850122, 0.06644361016470096, 0.11999517656610173, 0.0014875435111500214, 0.6624527102988096, 0.9985107530195289, 0.15085158397960638, 0.060194707029347164, 0.1406367246049293, 0.05216874609210088, 0.2863808788971971, 0.005107429687338547, 0.3046216992091205, 0.20554254120731275, 0.008264356390955506, 0.011730054232323943, 0.0410551898131338, 0.4963945677406178, 0.23460108464647889, 0.002399329274793534, 0.995437339671619, 0.1728224812983151, 0.13064745375212078, 0.360739182981584, 0.11155770444173808, 0.026636859502859576, 0.12487613419316787, 0.053146876817610295, 0.0026002648562315303, 0.015791852419552464, 0.0011415796929796962, 0.996167402100472, 0.9973353102934611, 0.996883760388824, 0.994139964267554, 0.26424053421032156, 0.27610771094162956, 0.07500403875411017, 0.2519671460505581, 0.04645317835409299, 0.019178982443507474, 0.00043522653048806676, 0.00040621142845552894, 0.06618344773621868, 0.9985386571793942, 0.20666307071212006, 0.04672954783618001, 0.034882620215740005, 0.018428554076240004, 0.6318361397568002, 0.061209126038940014, 0.92048222174684, 0.07864431896760835, 0.0010108524288895673, 0.08176655471538724, 0.8983491011445526, 0.011371507609424717, 0.008664005797656927, 0.9797444178617456, 0.01932911305275947, 0.11482550370291594, 0.004686755253180242, 0.8295556798129029, 0.04100910846532712, 0.010545199319655547, 0.6342597108875573, 0.36425197189529934, 0.0011929649734562207, 0.8470568227597275, 0.04234127248430214, 0.04303539170535627, 0.05969425301065547, 0.004858834547378934, 0.003007849957901245, 0.9963445036677663, 0.9967104336621659, 0.28642104813491925, 0.218225560483748, 0.1703415346222062, 0.011480391446312284, 0.13433039222223517, 0.07859652605552256, 0.0014718450572195234, 0.09910423385278125, 9.81230038146349e-05, 0.07526816559531467, 0.18474913373395419, 0.03843480796356494, 0.09797964302833032, 0.33761484722540563, 0.15868916924350676, 0.001747036725616588, 0.1055501355060022, 0.9936930198179309, 0.9957900262753552, 0.0333144025642651, 0.22603189587906447, 0.10711212976358653, 0.6333953500193187, 0.9610027392993543, 0.0064037406800738226, 0.03268115933279054, 0.8794658814563828, 0.014706787315324129, 0.08529936642887995, 0.019609049753765505, 0.6415129686389617, 0.04481823638111502, 0.23588147680516017, 0.015720393199446753, 0.012697240661091607, 0.04353339655231408, 0.0018894703364719654, 0.003930098299861688, 7.557881345887861e-05, 0.4525397976463241, 0.11867235621822382, 0.4138256862653992, 0.014845978593671604, 0.0001432087967235203, 0.36414229791274555, 0.15289654348561868, 0.2694527889287191, 0.06204579837932304, 0.032245616572938736, 0.02846372327117432, 0.051837529993357424, 0.0144166910074779, 0.023288500858233533, 0.0012227173832772185, 0.11633879319044287, 0.1462789237909245, 0.2241232633521767, 0.5124039494196712, 0.06646831537617635, 0.4230761026324876, 0.04563102603205758, 0.46475068132072517, 0.1272156714425864, 0.018976923364363716, 0.029519658566788003, 0.13705555763151572, 0.07942193852492963, 0.6072615476596389, 0.997837428585895, 0.9978850567332684, 0.08839213092253699, 0.4826591897137092, 0.22384194305563324, 0.15039380549050357, 0.0015897865273837588, 0.0033385517075058936, 0.008425868595133923, 0.0006359146109535035, 0.0408575137537626, 0.16078920773757185, 0.37317800034604953, 0.0032675198862842716, 0.4616733305995819, 0.0009530266334995792, 0.997834618821729, 0.19891111740378523, 0.20517995201931222, 0.12154573782327346, 0.09796297903152905, 0.1697560611760168, 0.07811166941569354, 0.06517597893920926, 0.04676749633805856, 0.01597060247289021, 0.0006467845238242141, 0.9967471277216842, 0.04814765097555101, 0.9205372317468442, 0.029805688699150623, 0.9984363459760739, 0.9984917735585945, 0.1345325410076715, 0.6500405550404993, 0.17543708161604382, 0.0019390414283878528, 0.0002770059183411218, 0.011726583876440825, 0.000646347142795951, 0.02345316775288165, 0.0019390414283878528, 0.9990504375453885, 0.99780985055985, 0.9971020828900498, 0.03385885502333782, 0.11298552708874683, 0.004600387910779594, 0.12255433394316839, 0.3536778225807352, 0.3722633897402848, 0.10610018443548311, 0.7086113400925766, 0.1528302295659125, 0.029110519917316665, 0.003447298411261184, 0.1761202755619864, 0.6637306105965193, 0.12085591017169589, 0.027073956782112014, 0.012001857130214604, 0.18740252140685826, 0.010284284711351978, 0.21444638120337642, 0.07275179184697139, 0.0038089943375377694, 0.0007617988675075539, 0.2133036829021151, 0.020949468856457733, 0.2765329889052421, 0.9958461713257326, 0.9972065804995536, 0.9970678933457141, 0.045662852849740726, 0.9113544381260753, 0.04185761511226233, 0.09348355489308356, 0.09269132137704049, 0.11645832685833292, 0.005281556773620541, 0.5936469813549488, 0.00792233516043081, 0.09031462082891124, 0.6965279147608924, 0.20772193434289332, 0.0956180332689509, 0.998900263014284, 0.19477712872997058, 0.045180261818807604, 0.7590283985559678, 0.9998000235470148, 0.9239429882905541, 0.07594834205354987, 0.9977003077759177, 0.481717711238469, 0.019764601800629094, 0.41205892185887394, 0.08403766421141523, 0.002337202269483132, 0.42177653947792865, 0.026688684983914128, 0.5390161199429799, 0.012391175171102988, 0.5606140476876822, 0.03779078114339363, 0.348040903756093, 0.05013373788780849, 0.00022857327304471955, 0.0032000258226260736, 0.35485609590544254, 0.2480186212071425, 0.20657526132617662, 0.05230673801281864, 0.07980733698439868, 0.04024582213414746, 0.006629226812744799, 0.011462147005261976, 8.553841048702967e-05, 0.19568033734098675, 0.13614675590349465, 0.22805456592986403, 0.29353800559450116, 0.01714959136059444, 0.09547772496265639, 0.029189304479052578, 0.0004549891585463831, 0.0029399299475304755, 0.0012949691435550903, 0.9978660970350928, 0.9990918635160306, 0.11931395808332575, 0.06437803493704626, 0.15965752664387473, 0.6557975825587113, 0.15109945979034087, 0.006652177475046454, 0.8419756061273083, 0.9981523991042317, 0.9716263116283202, 0.0070069205165503865, 0.02102076154965116, 0.99675301296847, 0.06718133084394672, 0.19592324373613146, 0.15845158509807353, 0.004014820568363349, 0.0647724385029287, 0.052192667388723545, 0.45768954479342183, 0.030673740513709632, 0.013899038670274677, 0.004473253824915988, 0.06805736176479324, 0.783138937490649, 0.07348916998076266, 0.026200486688793642, 0.9976606491076818, 0.08577850159972082, 0.12396039560447461, 0.71708735178791, 0.035566695785250096, 0.03765885436085305, 0.13015690093689974, 0.12923380234869478, 0.0009230985882049627, 0.3203152101071221, 0.4190867590450531, 0.9986436034369679, 0.3328739299175194, 0.3823734583901027, 0.09920703815723633, 0.10243074694431634, 0.04804365998809558, 0.018406337268166487, 0.0010399060603483892, 0.010399060603483891, 0.004055633635358718, 0.001143896666383228, 0.05844999805317986, 0.12939710036717322, 0.00039053450815042224, 0.04660378463928372, 0.7442285943653213, 0.018745656391220267, 0.001692316201985163, 0.0006508908469173704, 0.08581126835955588, 0.34380838592198426, 0.07529610199602169, 0.3975108427071768, 0.02478574928547347, 0.07285508123305838, 0.04564673523404922, 0.3043115682269948, 0.5307284589152887, 0.10128579061883558, 0.007267141927808831, 0.010673614706469221, 0.9933095937769011, 0.9985247118206477, 0.28696587484299385, 0.2719233088229982, 0.08504835403612922, 0.22770477684114285, 0.047607241909436764, 0.008761054934722737, 0.057029508537346126, 0.01198446193900752, 0.0004132573082416386, 0.002562195311098159, 0.04430008655062472, 0.6687884034094314, 0.1461188338645606, 0.002232867265656488, 0.03903051980367541, 0.025008113375352668, 0.021524840440928544, 0.03929846387555419, 0.013665147665817707, 0.9650254782328134, 0.020952333029038615, 0.002923581352889109, 0.005603530926370792, 0.005359899146963366, 0.9999453786882778, 0.5164771210467917, 0.17099495480101495, 0.2541056380924868, 0.008190472416269596, 0.0020099318812931526, 0.0009547176436142474, 0.03984689954663675, 0.0031656427130367154, 0.0037434981289084963, 0.0005024829703232881, 0.5125997937761879, 0.08235382886620526, 0.05807000753386268, 0.002111636637595007, 0.3067152216106747, 0.03800945947671012, 0.9958322105185153, 0.04818202220941772, 0.18905707762171525, 0.4263726568531806, 0.01078359544686968, 0.09315190960487425, 0.030591760132963632, 0.13682164719467985, 0.00749498123257609, 0.051317677623046495, 0.006271310827257544, 0.17639079956345938, 0.3854726939793466, 0.12312077809529465, 0.16333788039576339, 0.05033017480877374, 0.0722026339546427, 0.014581639430579309, 0.0011759386637563958, 0.013052919167695994, 0.00023518773275127918, 0.021338668481370174, 0.10541302229796867, 0.28295074406296855, 0.1331532913237499, 0.047371844028641794, 0.4097024348423074, 0.2203309541235428, 0.11831367181666086, 0.07356924975223895, 0.49623919039026226, 0.00018839756658703958, 0.08835845872932156, 0.0030143610653926333, 0.9952507717506803, 0.9992207724231277, 0.9987297825968224], \"Topic\": [1, 6, 2, 7, 7, 1, 10, 2, 8, 9, 1, 1, 2, 3, 4, 6, 7, 1, 2, 3, 4, 6, 8, 1, 3, 4, 7, 9, 1, 2, 3, 4, 7, 9, 1, 3, 4, 5, 7, 7, 10, 1, 4, 5, 6, 8, 9, 8, 1, 2, 3, 5, 6, 7, 9, 10, 2, 4, 3, 4, 4, 6, 9, 4, 5, 9, 1, 2, 3, 4, 5, 6, 7, 8, 9, 10, 1, 2, 3, 4, 6, 7, 8, 8, 10, 3, 10, 10, 3, 6, 9, 1, 3, 5, 6, 9, 10, 1, 2, 3, 4, 5, 6, 8, 2, 5, 6, 8, 3, 1, 2, 3, 4, 5, 6, 7, 8, 9, 7, 6, 2, 1, 2, 3, 4, 5, 6, 3, 1, 2, 3, 5, 6, 8, 9, 1, 1, 7, 10, 1, 3, 5, 6, 7, 8, 4, 1, 2, 3, 4, 5, 6, 7, 8, 9, 10, 1, 3, 6, 8, 10, 8, 3, 8, 10, 1, 2, 3, 4, 5, 6, 7, 9, 10, 5, 6, 10, 3, 2, 3, 4, 5, 10, 2, 5, 6, 8, 7, 2, 3, 10, 8, 7, 1, 2, 3, 4, 5, 6, 7, 8, 9, 10, 5, 7, 1, 2, 3, 4, 5, 6, 7, 9, 10, 1, 2, 3, 4, 5, 6, 7, 8, 9, 10, 1, 2, 3, 4, 5, 6, 7, 8, 1, 1, 2, 5, 6, 7, 10, 4, 10, 10, 1, 3, 4, 6, 3, 4, 5, 6, 8, 9, 1, 6, 10, 1, 2, 3, 5, 6, 8, 10, 1, 5, 1, 3, 9, 10, 1, 2, 3, 4, 6, 9, 1, 2, 3, 4, 7, 9, 7, 8, 7, 1, 2, 3, 4, 5, 6, 8, 10, 10, 10, 2, 4, 4, 1, 6, 1, 3, 5, 6, 8, 1, 2, 3, 4, 5, 7, 8, 9, 3, 9, 3, 9, 10, 7, 2, 1, 3, 4, 5, 6, 7, 8, 9, 9, 6, 6, 7, 7, 1, 2, 3, 4, 5, 6, 7, 8, 9, 10, 1, 2, 3, 4, 6, 9, 10, 5, 7, 8, 1, 3, 4, 5, 6, 8, 3, 1, 3, 4, 5, 7, 9, 2, 3, 5, 10, 10, 7, 8, 10, 1, 2, 4, 6, 2, 3, 4, 5, 6, 8, 9, 8, 10, 5, 3, 1, 3, 4, 7, 1, 2, 3, 4, 5, 6, 7, 8, 9, 3, 4, 6, 7, 9, 10, 2, 4, 7, 7, 10, 1, 4, 5, 6, 8, 10, 8, 9, 1, 2, 3, 4, 5, 6, 7, 8, 9, 10, 1, 1, 3, 6, 7, 5, 6, 1, 5, 6, 1, 2, 4, 6, 7, 8, 9, 3, 1, 2, 4, 5, 8, 9, 1, 2, 4, 5, 8, 6, 8, 4, 2, 2, 3, 2, 1, 3, 4, 5, 6, 10, 7, 10, 9, 4, 10, 2, 3, 5, 7, 7, 9, 2, 4, 5, 7, 8, 1, 2, 3, 5, 6, 8, 1, 2, 5, 6, 7, 8, 9, 5, 5, 6, 8, 4, 6, 1, 10, 1, 2, 4, 6, 7, 1, 2, 4, 5, 6, 7, 8, 5, 6, 10, 8, 2, 5, 6, 7, 9, 2, 2, 3, 7, 7, 4, 7, 6, 1, 7, 4, 1, 3, 4, 6, 7, 9, 10, 1, 2, 3, 4, 5, 6, 7, 8, 9, 1, 2, 3, 6, 8, 9, 8, 2, 5, 10, 1, 2, 3, 4, 6, 9, 10, 5, 4, 2, 3, 4, 2, 1, 2, 3, 4, 5, 6, 7, 8, 9, 5, 1, 2, 3, 4, 6, 7, 1, 2, 3, 4, 6, 10, 9, 9, 9, 8, 2, 3, 5, 6, 7, 8, 9, 5, 8, 1, 2, 3, 4, 5, 6, 7, 8, 9, 10, 1, 2, 5, 6, 10, 1, 2, 3, 4, 6, 7, 8, 9, 10, 1, 2, 3, 5, 6, 7, 8, 9, 10, 2, 3, 4, 7, 9, 10, 1, 2, 3, 4, 5, 6, 7, 8, 9, 10, 1, 2, 7, 2, 3, 5, 10, 1, 3, 4, 6, 7, 9, 10, 2, 3, 4, 6, 9, 10, 5, 3, 2, 3, 4, 5, 8, 10, 3, 4, 6, 7, 9, 10, 8, 2, 4, 1, 2, 6, 9, 1, 2, 3, 4, 5, 6, 8, 1, 2, 3, 4, 5, 6, 7, 8, 10, 1, 2, 3, 4, 6, 7, 2, 5, 6, 8, 1, 2, 3, 4, 5, 6, 7, 8, 9, 10, 1, 3, 4, 6, 8, 8, 6, 1, 2, 3, 4, 5, 7, 8, 6, 1, 3, 4, 6, 7, 3, 3, 1, 3, 4, 1, 2, 3, 4, 6, 7, 8, 9, 3, 7, 1, 3, 6, 7, 9, 10, 3, 5, 6, 8, 1, 4, 4, 1, 2, 3, 4, 6, 7, 1, 3, 5, 6, 7, 8, 9, 7, 1, 2, 3, 4, 5, 6, 7, 8, 9, 1, 3, 4, 5, 6, 7, 8, 5, 6, 7, 9, 10, 1, 2, 3, 4, 5, 6, 6, 1, 2, 3, 4, 5, 6, 8, 9, 9, 10, 1, 2, 3, 4, 5, 6, 7, 8, 9, 10, 6, 6, 7, 7, 1, 2, 3, 4, 5, 6, 7, 9, 10, 5, 7, 1, 6, 8, 4, 6, 5, 7, 8, 9, 10, 7, 3, 8, 5, 7, 8, 10, 1, 2, 3, 4, 5, 6, 7, 8, 10, 2, 1, 3, 4, 6, 7, 1, 2, 3, 4, 7, 8, 9, 10, 4, 9, 1, 2, 3, 4, 7, 8, 5, 1, 2, 3, 5, 7, 8, 2, 6, 1, 1, 1, 6, 1, 5, 6, 9, 1, 3, 5, 6, 1, 2, 3, 6, 9, 10, 2, 1, 2, 3, 4, 6, 7, 9, 5, 1, 1, 2, 3, 4, 6, 1, 2, 3, 4, 6, 9, 10, 2, 3, 9, 1, 2, 2, 3, 1, 8, 1, 2, 7, 2, 3, 3, 3, 4, 5, 7, 8, 9, 5, 2, 5, 7, 10, 3, 4, 5, 6, 7, 8, 3, 4, 5, 6, 7, 8, 9, 3, 4, 4, 5, 7, 5, 9, 4, 4, 1, 3, 5, 6, 10, 1, 5, 6, 8, 1, 5, 6, 6, 7, 10, 1, 2, 3, 4, 5, 6, 8, 10, 6, 6, 2, 9, 1, 3, 6, 8, 5, 1, 2, 3, 4, 5, 6, 7, 8, 9, 1, 2, 3, 4, 5, 6, 7, 8, 9, 10, 1, 3, 1, 3, 4, 5, 6, 7, 9, 2, 4, 5, 7, 8, 1, 4, 3, 4, 1, 2, 3, 4, 5, 8, 1, 2, 3, 4, 5, 6, 7, 8, 9, 10, 1, 2, 3, 4, 6, 8, 6, 10, 1, 2, 3, 4, 5, 6, 7, 8, 10, 1, 2, 3, 5, 8, 1, 2, 3, 5, 6, 8, 3, 3, 4, 6, 8, 1, 2, 3, 4, 5, 6, 7, 1, 2, 3, 4, 5, 7, 2, 3, 4, 10, 7, 9, 3, 5, 6, 7, 9, 7, 1, 2, 5, 1, 2, 3, 4, 6, 7, 8, 9, 10, 2, 3, 4, 5, 6, 7, 9, 10, 10, 1, 2, 3, 4, 5, 6, 7, 8, 9, 10, 1, 2, 3, 4, 5, 6, 7, 8, 1, 2, 3, 4, 5, 6, 7, 8, 1, 1, 2, 3, 4, 6, 7, 9, 10, 4, 5, 3, 4, 5, 7, 5, 7, 6, 7, 2, 6, 1, 2, 3, 4, 5, 6, 7, 9, 8, 1, 2, 2, 3, 4, 5, 6, 8, 1, 2, 3, 5, 6, 7, 8, 9, 1, 2, 3, 6, 10, 2, 1, 8, 2, 8, 7, 5, 5, 1, 2, 3, 4, 5, 6, 7, 4, 8, 1, 3, 5, 8, 6, 6, 2, 3, 7, 9, 1, 2, 3, 8, 2, 3, 4, 5, 10, 1, 2, 3, 4, 6, 1, 2, 3, 4, 5, 7, 8, 9, 10, 1, 2, 3, 4, 5, 6, 7, 8, 9, 10, 2, 5, 6, 7, 8, 10, 1, 2, 3, 4, 6, 7, 10, 3, 4, 7, 2, 2, 7, 2, 5, 6, 1, 3, 9, 1, 2, 3, 4, 5, 6, 7, 8, 9, 10, 1, 2, 3, 4, 5, 6, 7, 8, 9, 10, 4, 3, 5, 6, 4, 8, 10, 10, 1, 2, 3, 4, 5, 6, 7, 8, 2, 7, 10, 8, 5, 7, 8, 9, 8, 1, 2, 3, 4, 5, 6, 7, 8, 9, 10, 3, 1, 2, 3, 4, 5, 6, 7, 8, 9, 10, 1, 3, 4, 6, 7, 9, 10, 5, 10, 3, 4, 7, 2, 3, 4, 7, 5, 4, 1, 2, 4, 1, 2, 3, 4, 1, 2, 3, 5, 6, 8, 1, 2, 3, 4, 5, 6, 7, 9, 10, 1, 2, 4, 5, 7, 1, 2, 3, 4, 5, 6, 7, 9, 1, 2, 3, 4, 6, 7, 8, 5, 2, 2, 3, 7, 8, 9, 1, 9, 1, 6, 9, 1, 2, 3, 4, 5, 6, 7, 10, 1, 2, 3, 4, 5, 6, 7, 8, 9, 1, 3, 4, 5, 6, 7, 8, 9, 2, 1, 2, 3, 4, 5, 6, 7, 8, 1, 2, 3, 4, 5, 6, 7, 8, 10, 1, 6, 1, 5, 6, 8, 2, 7, 8, 2, 1, 2, 5, 6, 7, 8, 10, 1, 6, 3, 7, 6, 1, 5, 6, 8, 1, 3, 4, 5, 6, 7, 8, 7, 10, 3, 4, 6, 7, 10, 5, 6, 8, 1, 2, 4, 6, 7, 9, 9, 2, 7, 5, 3, 1, 2, 3, 4, 5, 6, 7, 10, 10, 9, 1, 2, 3, 4, 5, 6, 7, 1, 2, 3, 10, 1, 2, 3, 4, 5, 6, 7, 8, 9, 1, 2, 3, 9, 1, 2, 3, 4, 5, 6, 9, 1, 5, 2, 1, 2, 3, 4, 6, 7, 9, 10, 4, 3, 4, 5, 7, 8, 9, 1, 3, 5, 6, 7, 6, 5, 8, 4, 5, 6, 7, 8, 9, 3, 4, 5, 7, 10, 6, 1, 4, 7, 1, 2, 3, 4, 5, 7, 8, 9, 1, 2, 3, 4, 5, 7, 9, 9, 1, 1, 8, 3, 3, 8, 1, 2, 3, 4, 6, 1, 2, 3, 4, 6, 9, 1, 3, 5, 6, 1, 2, 3, 4, 5, 6, 7, 8, 1, 2, 3, 4, 5, 6, 7, 1, 6, 9, 1, 2, 6, 9, 1, 2, 4, 6, 7, 10, 4, 3, 5, 6, 7, 8, 9, 1, 2, 3, 4, 6, 7, 9, 10, 7, 1, 4, 6, 7, 1, 6, 9, 9, 2, 6, 8, 1, 2, 3, 4, 5, 6, 7, 9, 10, 1, 2, 3, 4, 6, 4, 1, 3, 6, 10, 6, 9, 10, 2, 4, 6, 8, 2, 1, 5, 8, 1, 6, 7, 8, 9, 1, 2, 4, 5, 6, 7, 8, 1, 2, 3, 9, 1, 2, 3, 4, 5, 6, 7, 8, 9, 1, 2, 3, 4, 6, 7, 1, 3, 5, 10, 3, 3, 6, 4, 5, 2, 8, 2, 8, 3, 1, 2, 3, 4, 5, 6, 2, 3, 4, 5, 9, 1, 2, 6, 9, 8, 1, 2, 3, 4, 6, 9, 10, 2, 9, 10, 1, 2, 3, 4, 5, 7, 5, 1, 3, 4, 6, 7, 8, 9, 1, 2, 3, 4, 5, 6, 8, 5, 1, 2, 3, 4, 5, 6, 7, 8, 9, 10, 3, 1, 1, 3, 1, 2, 3, 4, 5, 6, 7, 9, 10, 9, 1, 3, 4, 6, 7, 10, 1, 3, 6, 1, 2, 3, 9, 1, 3, 2, 3, 4, 7, 9, 4, 7, 8, 1, 2, 3, 5, 6, 8, 2, 2, 1, 2, 3, 4, 5, 6, 7, 8, 10, 1, 2, 3, 4, 5, 6, 7, 8, 10, 5, 1, 3, 7, 9, 1, 5, 6, 2, 3, 4, 6, 1, 2, 3, 4, 5, 6, 7, 9, 10, 1, 2, 3, 4, 6, 1, 2, 3, 4, 5, 6, 7, 8, 9, 10, 4, 6, 8, 9, 3, 5, 6, 8, 1, 2, 4, 5, 7, 8, 9, 1, 1, 2, 3, 4, 5, 6, 7, 9, 10, 1, 3, 7, 9, 10, 9, 1, 2, 3, 4, 5, 6, 7, 8, 9, 10, 8, 1, 2, 3, 1, 1, 1, 2, 3, 4, 5, 6, 7, 8, 9, 6, 6, 3, 1, 3, 4, 6, 7, 10, 1, 2, 3, 4, 7, 1, 2, 4, 5, 6, 1, 2, 3, 4, 5, 6, 7, 9, 10, 10, 9, 10, 4, 7, 8, 1, 2, 3, 4, 5, 6, 8, 2, 7, 8, 7, 2, 6, 9, 1, 1, 7, 1, 1, 2, 3, 4, 6, 1, 2, 3, 4, 1, 2, 3, 4, 6, 9, 1, 2, 3, 4, 5, 6, 7, 8, 9, 1, 2, 3, 4, 5, 6, 7, 8, 9, 10, 7, 6, 2, 3, 7, 8, 2, 7, 8, 8, 1, 2, 6, 5, 1, 2, 3, 5, 6, 7, 8, 1, 2, 3, 4, 5, 7, 8, 9, 4, 5, 7, 8, 9, 3, 4, 5, 7, 10, 9, 1, 2, 3, 4, 5, 6, 7, 8, 9, 10, 1, 2, 3, 4, 5, 6, 7, 8, 1, 2, 3, 5, 6, 8, 2, 3, 4, 7, 9, 10, 3, 9, 1, 2, 3, 4, 5, 6, 7, 8, 9, 10, 1, 2, 3, 5, 6, 7, 8, 9, 10, 1, 5, 6, 7, 8, 1, 1, 2, 3, 4, 5, 6, 7, 8, 9, 10, 1, 2, 3, 7, 9, 10, 1, 1, 2, 3, 4, 5, 6, 7, 8, 9, 10, 1, 2, 3, 4, 5, 6, 7, 8, 9, 10, 2, 3, 4, 5, 7, 8, 2, 3, 4, 5, 6, 7, 8, 3, 6, 6]}, \"R\": 30, \"topic.order\": [8, 2, 7, 3, 1, 5, 10, 6, 4, 9], \"lambda.step\": 0.01, \"tinfo\": {\"Category\": [\"Default\", \"Default\", \"Default\", \"Default\", \"Default\", \"Default\", \"Default\", \"Default\", \"Default\", \"Default\", \"Default\", \"Default\", \"Default\", \"Default\", \"Default\", \"Default\", \"Default\", \"Default\", \"Default\", \"Default\", \"Default\", \"Default\", \"Default\", \"Default\", \"Default\", \"Default\", \"Default\", \"Default\", \"Default\", \"Default\", \"Topic1\", \"Topic1\", \"Topic1\", \"Topic1\", \"Topic1\", \"Topic1\", \"Topic1\", \"Topic1\", \"Topic1\", \"Topic1\", \"Topic1\", \"Topic1\", \"Topic1\", \"Topic1\", \"Topic1\", \"Topic1\", \"Topic1\", \"Topic1\", \"Topic1\", \"Topic1\", \"Topic1\", \"Topic1\", \"Topic1\", \"Topic1\", \"Topic1\", \"Topic1\", \"Topic1\", \"Topic1\", \"Topic1\", \"Topic1\", \"Topic1\", \"Topic1\", \"Topic1\", \"Topic1\", \"Topic1\", \"Topic1\", \"Topic1\", \"Topic1\", \"Topic1\", \"Topic1\", \"Topic1\", \"Topic1\", \"Topic1\", \"Topic1\", \"Topic1\", \"Topic1\", \"Topic1\", \"Topic1\", \"Topic1\", \"Topic1\", \"Topic1\", \"Topic1\", \"Topic1\", \"Topic1\", \"Topic1\", \"Topic1\", \"Topic1\", \"Topic1\", \"Topic1\", \"Topic1\", \"Topic1\", \"Topic1\", \"Topic1\", \"Topic1\", \"Topic1\", \"Topic1\", \"Topic1\", \"Topic1\", \"Topic1\", \"Topic1\", \"Topic1\", \"Topic1\", \"Topic1\", \"Topic1\", \"Topic1\", \"Topic1\", \"Topic1\", \"Topic1\", \"Topic1\", \"Topic1\", \"Topic1\", \"Topic1\", \"Topic1\", \"Topic1\", \"Topic1\", \"Topic2\", \"Topic2\", \"Topic2\", \"Topic2\", \"Topic2\", \"Topic2\", \"Topic2\", \"Topic2\", \"Topic2\", \"Topic2\", \"Topic2\", \"Topic2\", \"Topic2\", \"Topic2\", \"Topic2\", \"Topic2\", \"Topic2\", \"Topic2\", \"Topic2\", \"Topic2\", \"Topic2\", \"Topic2\", \"Topic2\", \"Topic2\", \"Topic2\", \"Topic2\", \"Topic2\", \"Topic2\", \"Topic2\", \"Topic2\", \"Topic2\", \"Topic2\", \"Topic2\", \"Topic2\", \"Topic2\", \"Topic2\", \"Topic2\", \"Topic2\", \"Topic2\", \"Topic2\", \"Topic2\", \"Topic2\", \"Topic2\", \"Topic2\", \"Topic2\", \"Topic2\", \"Topic2\", \"Topic2\", \"Topic2\", \"Topic2\", \"Topic2\", \"Topic2\", \"Topic2\", \"Topic2\", \"Topic2\", \"Topic2\", \"Topic2\", \"Topic2\", \"Topic2\", \"Topic2\", \"Topic2\", \"Topic2\", \"Topic2\", \"Topic2\", \"Topic2\", \"Topic2\", \"Topic2\", \"Topic2\", \"Topic2\", \"Topic2\", \"Topic2\", \"Topic2\", \"Topic2\", \"Topic2\", \"Topic2\", \"Topic2\", \"Topic2\", \"Topic2\", \"Topic2\", \"Topic2\", \"Topic2\", \"Topic2\", \"Topic2\", \"Topic2\", \"Topic2\", \"Topic2\", \"Topic2\", \"Topic2\", \"Topic2\", \"Topic2\", \"Topic2\", \"Topic2\", \"Topic2\", \"Topic2\", \"Topic2\", \"Topic2\", \"Topic2\", \"Topic2\", \"Topic3\", \"Topic3\", \"Topic3\", \"Topic3\", \"Topic3\", \"Topic3\", \"Topic3\", \"Topic3\", \"Topic3\", \"Topic3\", \"Topic3\", \"Topic3\", \"Topic3\", \"Topic3\", \"Topic3\", \"Topic3\", \"Topic3\", \"Topic3\", \"Topic3\", \"Topic3\", \"Topic3\", \"Topic3\", \"Topic3\", \"Topic3\", \"Topic3\", \"Topic3\", \"Topic3\", \"Topic3\", \"Topic3\", \"Topic3\", \"Topic3\", \"Topic3\", \"Topic3\", \"Topic3\", \"Topic3\", \"Topic3\", \"Topic3\", \"Topic3\", \"Topic3\", \"Topic3\", \"Topic3\", \"Topic3\", \"Topic3\", \"Topic3\", \"Topic3\", \"Topic3\", \"Topic3\", \"Topic3\", \"Topic3\", \"Topic3\", \"Topic3\", \"Topic3\", \"Topic3\", \"Topic3\", \"Topic3\", \"Topic3\", \"Topic3\", \"Topic3\", \"Topic3\", \"Topic3\", \"Topic3\", \"Topic3\", \"Topic3\", \"Topic3\", \"Topic3\", \"Topic3\", \"Topic3\", \"Topic3\", \"Topic3\", \"Topic3\", \"Topic3\", \"Topic3\", \"Topic3\", \"Topic3\", \"Topic3\", \"Topic3\", \"Topic3\", \"Topic3\", \"Topic3\", \"Topic3\", \"Topic3\", \"Topic3\", \"Topic3\", \"Topic4\", \"Topic4\", \"Topic4\", \"Topic4\", \"Topic4\", \"Topic4\", \"Topic4\", \"Topic4\", \"Topic4\", \"Topic4\", \"Topic4\", \"Topic4\", \"Topic4\", \"Topic4\", \"Topic4\", \"Topic4\", \"Topic4\", \"Topic4\", \"Topic4\", \"Topic4\", \"Topic4\", \"Topic4\", \"Topic4\", \"Topic4\", \"Topic4\", \"Topic4\", \"Topic4\", \"Topic4\", \"Topic4\", \"Topic4\", \"Topic4\", \"Topic4\", \"Topic4\", \"Topic4\", \"Topic4\", \"Topic4\", \"Topic4\", \"Topic4\", \"Topic4\", \"Topic4\", \"Topic4\", \"Topic4\", \"Topic4\", \"Topic4\", \"Topic4\", \"Topic4\", \"Topic4\", \"Topic4\", \"Topic4\", \"Topic4\", \"Topic4\", \"Topic4\", \"Topic4\", \"Topic4\", \"Topic4\", \"Topic4\", \"Topic4\", \"Topic4\", \"Topic4\", \"Topic4\", \"Topic4\", \"Topic4\", \"Topic4\", \"Topic4\", \"Topic4\", \"Topic4\", \"Topic4\", \"Topic4\", \"Topic4\", \"Topic4\", \"Topic4\", \"Topic4\", \"Topic4\", \"Topic4\", \"Topic4\", \"Topic4\", \"Topic4\", \"Topic4\", \"Topic4\", \"Topic4\", \"Topic5\", \"Topic5\", \"Topic5\", \"Topic5\", \"Topic5\", \"Topic5\", \"Topic5\", \"Topic5\", \"Topic5\", \"Topic5\", \"Topic5\", \"Topic5\", \"Topic5\", \"Topic5\", \"Topic5\", \"Topic5\", \"Topic5\", \"Topic5\", \"Topic5\", \"Topic5\", \"Topic5\", \"Topic5\", \"Topic5\", \"Topic5\", \"Topic5\", \"Topic5\", \"Topic5\", \"Topic5\", \"Topic5\", \"Topic5\", \"Topic5\", \"Topic5\", \"Topic5\", \"Topic5\", \"Topic5\", \"Topic5\", \"Topic5\", \"Topic5\", \"Topic5\", \"Topic5\", \"Topic5\", \"Topic5\", \"Topic5\", \"Topic5\", \"Topic5\", \"Topic5\", \"Topic5\", \"Topic5\", \"Topic5\", \"Topic5\", \"Topic5\", \"Topic5\", \"Topic5\", \"Topic5\", \"Topic5\", \"Topic5\", \"Topic5\", \"Topic5\", \"Topic5\", \"Topic5\", \"Topic5\", \"Topic5\", \"Topic5\", \"Topic5\", \"Topic5\", \"Topic5\", \"Topic5\", \"Topic5\", \"Topic5\", \"Topic5\", \"Topic5\", \"Topic5\", \"Topic5\", \"Topic5\", \"Topic5\", \"Topic5\", \"Topic5\", \"Topic5\", \"Topic6\", \"Topic6\", \"Topic6\", \"Topic6\", \"Topic6\", \"Topic6\", \"Topic6\", \"Topic6\", \"Topic6\", \"Topic6\", \"Topic6\", \"Topic6\", \"Topic6\", \"Topic6\", \"Topic6\", \"Topic6\", \"Topic6\", \"Topic6\", \"Topic6\", \"Topic6\", \"Topic6\", \"Topic6\", \"Topic6\", \"Topic6\", \"Topic6\", \"Topic6\", \"Topic6\", \"Topic6\", \"Topic6\", \"Topic6\", \"Topic6\", \"Topic6\", \"Topic6\", \"Topic6\", \"Topic6\", \"Topic6\", \"Topic6\", \"Topic6\", \"Topic6\", \"Topic6\", \"Topic6\", \"Topic6\", \"Topic6\", \"Topic6\", \"Topic6\", \"Topic6\", \"Topic6\", \"Topic6\", \"Topic6\", \"Topic6\", \"Topic6\", \"Topic6\", \"Topic6\", \"Topic6\", \"Topic6\", \"Topic6\", \"Topic6\", \"Topic6\", \"Topic6\", \"Topic6\", \"Topic6\", \"Topic6\", \"Topic6\", \"Topic6\", \"Topic6\", \"Topic6\", \"Topic6\", \"Topic6\", \"Topic6\", \"Topic6\", \"Topic6\", \"Topic6\", \"Topic7\", \"Topic7\", \"Topic7\", \"Topic7\", \"Topic7\", \"Topic7\", \"Topic7\", \"Topic7\", \"Topic7\", \"Topic7\", \"Topic7\", \"Topic7\", \"Topic7\", \"Topic7\", \"Topic7\", \"Topic7\", \"Topic7\", \"Topic7\", \"Topic7\", \"Topic7\", \"Topic7\", \"Topic7\", \"Topic7\", \"Topic7\", \"Topic7\", \"Topic7\", \"Topic7\", \"Topic7\", \"Topic7\", \"Topic7\", \"Topic7\", \"Topic7\", \"Topic7\", \"Topic7\", \"Topic7\", \"Topic7\", \"Topic7\", \"Topic7\", \"Topic7\", \"Topic7\", \"Topic7\", \"Topic7\", \"Topic7\", \"Topic7\", \"Topic7\", \"Topic7\", \"Topic7\", \"Topic7\", \"Topic7\", \"Topic7\", \"Topic7\", \"Topic7\", \"Topic7\", \"Topic7\", \"Topic7\", \"Topic7\", \"Topic7\", \"Topic7\", \"Topic7\", \"Topic7\", \"Topic7\", \"Topic7\", \"Topic7\", \"Topic7\", \"Topic7\", \"Topic7\", \"Topic7\", \"Topic7\", \"Topic7\", \"Topic7\", \"Topic7\", \"Topic7\", \"Topic7\", \"Topic7\", \"Topic7\", \"Topic7\", \"Topic7\", \"Topic8\", \"Topic8\", \"Topic8\", \"Topic8\", \"Topic8\", \"Topic8\", \"Topic8\", \"Topic8\", \"Topic8\", \"Topic8\", \"Topic8\", \"Topic8\", \"Topic8\", \"Topic8\", \"Topic8\", \"Topic8\", \"Topic8\", \"Topic8\", \"Topic8\", \"Topic8\", \"Topic8\", \"Topic8\", \"Topic8\", \"Topic8\", \"Topic8\", \"Topic8\", \"Topic8\", \"Topic8\", \"Topic8\", \"Topic8\", \"Topic8\", \"Topic8\", \"Topic8\", \"Topic8\", \"Topic8\", \"Topic8\", \"Topic8\", \"Topic8\", \"Topic8\", \"Topic8\", \"Topic8\", \"Topic8\", \"Topic8\", \"Topic8\", \"Topic8\", \"Topic8\", \"Topic8\", \"Topic8\", \"Topic8\", \"Topic8\", \"Topic8\", \"Topic8\", \"Topic8\", \"Topic8\", \"Topic8\", \"Topic8\", \"Topic8\", \"Topic8\", \"Topic8\", \"Topic8\", \"Topic8\", \"Topic8\", \"Topic8\", \"Topic8\", \"Topic8\", \"Topic8\", \"Topic8\", \"Topic8\", \"Topic8\", \"Topic8\", \"Topic8\", \"Topic8\", \"Topic8\", \"Topic8\", \"Topic8\", \"Topic8\", \"Topic9\", \"Topic9\", \"Topic9\", \"Topic9\", \"Topic9\", \"Topic9\", \"Topic9\", \"Topic9\", \"Topic9\", \"Topic9\", \"Topic9\", \"Topic9\", \"Topic9\", \"Topic9\", \"Topic9\", \"Topic9\", \"Topic9\", \"Topic9\", \"Topic9\", \"Topic9\", \"Topic9\", \"Topic9\", \"Topic9\", \"Topic9\", \"Topic9\", \"Topic9\", \"Topic9\", \"Topic9\", \"Topic9\", \"Topic9\", \"Topic9\", \"Topic9\", \"Topic9\", \"Topic9\", \"Topic9\", \"Topic9\", \"Topic9\", \"Topic9\", \"Topic9\", \"Topic9\", \"Topic9\", \"Topic9\", \"Topic9\", \"Topic9\", \"Topic9\", \"Topic9\", \"Topic9\", \"Topic9\", \"Topic9\", \"Topic9\", \"Topic9\", \"Topic9\", \"Topic9\", \"Topic9\", \"Topic9\", \"Topic9\", \"Topic9\", \"Topic9\", \"Topic9\", \"Topic9\", \"Topic9\", \"Topic9\", \"Topic9\", \"Topic10\", \"Topic10\", \"Topic10\", \"Topic10\", \"Topic10\", \"Topic10\", \"Topic10\", \"Topic10\", \"Topic10\", \"Topic10\", \"Topic10\", \"Topic10\", \"Topic10\", \"Topic10\", \"Topic10\", \"Topic10\", \"Topic10\", \"Topic10\", \"Topic10\", \"Topic10\", \"Topic10\", \"Topic10\", \"Topic10\", \"Topic10\", \"Topic10\", \"Topic10\", \"Topic10\", \"Topic10\", \"Topic10\", \"Topic10\", \"Topic10\", \"Topic10\", \"Topic10\", \"Topic10\", \"Topic10\", \"Topic10\", \"Topic10\", \"Topic10\", \"Topic10\", \"Topic10\", \"Topic10\", \"Topic10\", \"Topic10\", \"Topic10\", \"Topic10\", \"Topic10\", \"Topic10\", \"Topic10\", \"Topic10\", \"Topic10\", \"Topic10\", \"Topic10\", \"Topic10\", \"Topic10\", \"Topic10\", \"Topic10\", \"Topic10\", \"Topic10\", \"Topic10\"], \"logprob\": [30.0, 29.0, 28.0, 27.0, 26.0, 25.0, 24.0, 23.0, 22.0, 21.0, 20.0, 19.0, 18.0, 17.0, 16.0, 15.0, 14.0, 13.0, 12.0, 11.0, 10.0, 9.0, 8.0, 7.0, 6.0, 5.0, 4.0, 3.0, 2.0, 1.0, -5.5557, -6.1289, -6.277, -6.5842, -7.4229, -7.6859, -7.8593, -8.1574, -8.3358, -8.4138, -8.4874, -8.5051, -8.5527, -8.5683, -8.5945, -8.6157, -8.6833, -8.771, -8.8373, -8.856, -8.9321, -8.9649, -9.1412, -9.2719, -9.3658, -9.3825, -9.39, -9.4038, -9.4247, -9.4399, -6.8996, -7.1741, -8.0272, -6.0605, -6.2166, -7.8029, -6.1225, -5.9545, -7.393, -4.3979, -7.7769, -6.0774, -7.2434, -7.9129, -7.112, -5.6114, -6.2953, -6.986, -6.7, -5.3568, -6.9392, -6.7652, -5.0895, -6.1305, -4.7104, -4.5671, -5.1347, -5.4544, -4.5699, -4.3142, -5.0721, -5.4219, -5.8522, -6.0686, -5.9323, -4.8259, -5.4677, -5.3778, -5.3741, -4.0724, -4.7747, -5.3863, -5.5973, -4.4862, -5.3437, -5.1419, -5.2472, -5.0432, -5.3439, -5.211, -5.1251, -5.4259, -5.2713, -5.3766, -5.3841, -7.5699, -7.8259, -7.9005, -7.9804, -8.1707, -8.2031, -8.3098, -8.4113, -8.4526, -8.4393, -8.5084, -8.5477, -8.5782, -8.5827, -8.583, -8.5911, -8.6017, -8.623, -8.6314, -8.6345, -8.6406, -8.681, -8.7425, -8.7449, -8.7497, -8.7552, -8.7893, -8.8308, -8.8345, -8.8527, -6.6851, -6.8228, -7.8346, -7.5018, -6.8855, -7.2863, -8.2281, -6.3907, -6.8235, -6.9179, -7.1054, -7.8218, -7.5488, -7.8564, -8.0288, -6.9982, -7.5226, -8.2922, -6.1307, -7.4234, -7.4384, -5.3165, -5.3783, -5.889, -6.6692, -6.7958, -7.2538, -6.3689, -5.1518, -6.9857, -6.4637, -6.7147, -3.818, -6.6659, -6.3942, -6.7218, -6.1009, -5.0723, -6.1653, -5.4159, -5.8952, -5.0768, -6.2193, -5.5054, -5.7918, -6.3901, -6.0279, -5.5722, -4.9773, -6.1427, -5.412, -5.6319, -5.7172, -6.2125, -5.6478, -6.1949, -5.9131, -6.1283, -5.7339, -5.8108, -5.9571, -5.7055, -6.0322, -5.9715, -6.0249, -6.009, -6.0743, -6.071, -6.0842, -7.0218, -7.3677, -7.6103, -8.1006, -8.1347, -8.2242, -8.2979, -8.3287, -8.3362, -8.3446, -8.4419, -8.5359, -8.5925, -8.646, -8.6482, -8.6612, -8.6666, -8.6747, -8.7317, -8.7418, -8.7654, -8.7799, -8.7868, -8.7989, -8.8044, -8.8367, -8.8753, -8.9423, -8.954, -8.3644, -4.7584, -7.7619, -5.9239, -5.7285, -8.4126, -5.9167, -6.2452, -5.2417, -7.5537, -5.905, -5.3074, -6.0921, -5.5719, -6.2909, -6.8228, -7.0036, -5.7727, -6.1358, -6.2964, -6.4726, -4.7, -4.5338, -5.8888, -4.9508, -5.0562, -5.0175, -4.1914, -4.982, -4.6558, -6.1043, -5.3923, -5.2564, -4.2945, -4.6969, -5.3722, -4.8618, -5.0266, -4.7966, -5.3131, -5.1494, -5.338, -5.1667, -5.3888, -5.2362, -5.604, -5.3817, -5.378, -5.4909, -5.5328, -5.4236, -5.4991, -5.4914, -6.9705, -7.0535, -7.2765, -7.4644, -7.6973, -7.8438, -7.8548, -7.911, -7.9258, -7.9549, -7.9642, -7.9824, -8.0284, -8.0826, -8.0952, -8.1321, -8.1411, -8.1541, -8.1836, -8.1839, -8.1934, -8.2062, -8.2376, -8.2414, -8.2799, -8.284, -8.2967, -8.2998, -8.314, -8.3508, -8.2783, -4.862, -5.3126, -6.3839, -6.1772, -7.3464, -5.3886, -6.0704, -5.0512, -6.5606, -7.6026, -4.2775, -6.9284, -5.5488, -3.1539, -6.2644, -4.6761, -6.0396, -5.0936, -5.8732, -5.5901, -5.8825, -6.1193, -5.9113, -6.7327, -6.1654, -6.1556, -5.1617, -4.6047, -4.8422, -4.3762, -4.8977, -4.5699, -5.524, -4.8484, -5.1051, -5.2562, -5.4044, -5.4744, -4.4468, -5.2153, -5.4267, -5.5089, -5.3654, -5.5407, -5.7181, -5.7018, -5.675, -5.5915, -5.6701, -5.5162, -6.798, -7.19, -6.5528, -7.2218, -7.4744, -7.5195, -7.6762, -7.6786, -7.6893, -7.7014, -7.742, -7.7453, -7.8289, -7.8473, -7.8888, -7.9093, -8.0621, -8.0897, -8.1264, -8.1404, -8.2112, -8.2171, -8.2248, -8.2444, -8.2812, -8.3186, -8.3287, -8.3326, -8.3386, -5.4043, -7.7747, -6.9463, -7.3333, -5.2111, -6.2952, -6.6491, -5.4582, -5.152, -5.7753, -6.0327, -5.0554, -4.9017, -6.2539, -4.9535, -6.265, -5.4636, -6.7527, -6.3424, -5.9773, -5.9138, -5.6538, -4.9834, -7.0982, -5.5486, -5.8351, -5.2731, -5.7422, -4.8299, -6.234, -5.3451, -6.4637, -5.5913, -6.0236, -5.4405, -5.7114, -5.4681, -5.8953, -5.461, -5.4178, -5.8039, -5.5416, -5.3996, -5.1204, -5.6404, -5.6673, -5.7675, -5.7938, -5.6664, -5.8985, -6.3146, -6.3926, -6.4357, -6.5916, -6.6577, -6.6628, -6.6973, -6.7415, -6.8418, -6.9332, -7.2078, -7.2513, -7.2758, -7.2969, -7.2993, -7.3138, -7.3297, -7.3398, -7.3406, -7.3529, -7.356, -7.3835, -7.3898, -7.4014, -7.4883, -7.6249, -7.6573, -7.7413, -7.3149, -6.9137, -4.3856, -5.5206, -6.6995, -6.9017, -6.9567, -6.2908, -5.5636, -4.839, -5.2468, -5.7512, -6.4572, -6.5541, -5.7976, -5.9464, -6.0493, -5.5966, -5.9385, -5.6992, -6.1096, -6.011, -5.362, -4.5589, -5.245, -5.5905, -4.5682, -6.1045, -5.2463, -5.8388, -5.1566, -5.8473, -5.402, -5.6936, -5.6269, -5.7207, -5.7867, -6.0171, -5.7929, -5.8363, -5.9036, -5.9171, -5.8964, -6.3616, -6.5537, -6.6619, -6.6906, -6.6458, -6.7333, -6.7599, -6.8896, -6.9914, -7.0024, -7.0068, -7.0289, -7.0709, -7.081, -7.1031, -7.1278, -7.2654, -7.3039, -7.3933, -7.4125, -7.5094, -7.5598, -7.5767, -7.5783, -7.5888, -7.6156, -7.6192, -7.6393, -7.6411, -6.2877, -6.1183, -6.8589, -6.4688, -7.4013, -7.2459, -6.1179, -5.78, -6.1596, -7.0631, -6.0112, -7.0877, -6.0375, -5.8121, -6.3157, -6.0648, -6.3746, -5.825, -6.1132, -5.4322, -6.4987, -5.9315, -5.278, -6.3678, -5.7865, -5.6734, -5.6254, -5.7917, -5.4485, -5.984, -5.8757, -4.9502, -4.8109, -5.8119, -5.8367, -5.9007, -5.745, -6.0187, -5.9533, -5.9748, -5.7691, -5.7264, -5.8072, -5.855, -5.8654, -5.8658, -5.9637, -6.146, -6.4776, -6.5157, -6.6467, -6.8147, -6.8531, -6.8633, -6.876, -6.9889, -7.0196, -7.0209, -7.1127, -7.1891, -7.2022, -7.2356, -7.2733, -7.2737, -7.3037, -7.4086, -7.4205, -7.4463, -7.4705, -7.5229, -7.5505, -7.5566, -7.562, -7.6037, -7.6342, -7.673, -7.7071, -6.8882, -5.6886, -6.3748, -6.8015, -6.7661, -6.2587, -7.1551, -5.7914, -5.5829, -5.2248, -5.5895, -6.2651, -5.7342, -6.7434, -6.5167, -5.8935, -6.2458, -5.4345, -6.835, -6.3496, -6.0353, -5.5888, -6.299, -5.6185, -5.3734, -6.1223, -5.4476, -5.7703, -6.301, -6.4236, -5.9874, -6.2915, -5.4379, -6.1196, -6.196, -5.704, -5.9208, -5.7494, -5.5988, -5.9041, -6.0818, -6.2161, -6.1134, -6.1454, -6.0829, -6.2079, -4.022, -4.7534, -4.9007, -5.6847, -6.1492, -6.2117, -6.2727, -6.3182, -6.3235, -6.5347, -6.5622, -6.6634, -6.7346, -6.7442, -6.8026, -6.8818, -6.8819, -6.893, -6.914, -6.9808, -6.9836, -6.9919, -7.0724, -7.0738, -7.0761, -7.0972, -7.1202, -7.133, -7.1354, -7.163, -3.451, -6.7067, -5.7865, -5.455, -3.231, -5.7577, -5.6509, -5.0711, -4.2569, -6.2094, -5.2681, -5.5837, -6.4597, -5.6714, -5.4124, -6.0769, -4.965, -4.8875, -5.6949, -5.991, -6.1103, -5.7187, -4.9722, -5.911, -5.0465, -5.1799, -5.8976, -5.6204, -6.0211, -5.6777, -5.8731, -5.8773, -5.9187, -3.3456, -4.4828, -4.6819, -4.8877, -5.2816, -5.462, -5.6224, -6.0994, -6.2593, -6.2666, -6.393, -6.4027, -6.5527, -6.573, -6.5757, -6.6221, -6.6408, -6.6761, -6.6916, -6.8107, -6.8575, -6.859, -6.8658, -6.9061, -6.9232, -6.9245, -6.9371, -6.9756, -6.9862, -7.0265, -4.9252, -5.1868, -6.3554, -5.3429, -4.4761, -5.1289, -5.4733, -4.7908, -6.2492, -4.4322, -4.4518, -4.1243, -5.4853, -6.1436, -6.2707, -6.3877, -5.4766, -5.2534, -4.3317, -5.3448, -5.775, -5.9467, -5.6526, -5.6285, -6.0893, -5.8899, -5.5469, -5.7401, -6.0596], \"Freq\": [117597.0, 17167.0, 34464.0, 8701.0, 26991.0, 27033.0, 6115.0, 10120.0, 43077.0, 9350.0, 7345.0, 17887.0, 12942.0, 21574.0, 34518.0, 58624.0, 5136.0, 4289.0, 27675.0, 33595.0, 8232.0, 20948.0, 39802.0, 19681.0, 18807.0, 5434.0, 10269.0, 18347.0, 20737.0, 22321.0, 7670.51814319092, 4323.964028416424, 3728.7790449785475, 2742.5477158549825, 1185.5697555861464, 911.3878187491491, 766.2874429378759, 568.775180894908, 475.8119307905908, 440.1131909859899, 408.8894797326344, 401.7063636136819, 383.0361573124453, 377.12911723261936, 367.3718188159363, 359.66286581887647, 336.14946730129367, 307.92208740491674, 288.17651456904787, 282.83673668880283, 262.1044589440913, 253.63744736732872, 212.65254947655285, 186.58873346543356, 169.87625994292284, 167.0642877686438, 165.8075932787365, 163.53687923595606, 160.15667186913822, 157.74196849257245, 2000.7004624560661, 1520.3746074526496, 647.862206930727, 4629.956129956238, 3960.765352724232, 810.726978922534, 4351.559414521365, 5148.019394139583, 1221.5165220466456, 24414.692927143064, 832.0738035186891, 4552.5279801062325, 1418.664692109862, 726.2628095373834, 1617.833085154128, 7254.598959551384, 3661.0430107146904, 1835.0341991984144, 2442.652130758001, 9358.3236528256, 1923.0886758302331, 2288.4575011030906, 12226.61934876823, 4317.260292464374, 17862.202129036894, 20613.617874256965, 11686.167752807272, 8488.333801611709, 20556.949015000082, 26546.142702935125, 12440.256785555417, 8768.625116405581, 5702.5176183098265, 4592.934787867534, 5263.206528655229, 15913.493515247565, 8376.364502585855, 9164.40286542434, 9197.673693014058, 33807.40285365387, 16749.276726062883, 9086.858390754072, 7358.199900237224, 22352.0582943521, 9481.493095957137, 11601.863401281902, 10441.973065167891, 12806.130334601708, 9480.272325642176, 10827.453268483769, 11798.406585848435, 8733.516278197927, 10194.232023823188, 9174.678456165986, 9106.829113931823, 786.5676780450557, 608.960575906239, 565.1519330044445, 521.7543566049786, 431.3542190983808, 417.6119004425104, 375.33747302572965, 339.10817807298423, 325.40327266474605, 329.7423625872661, 307.733899285051, 295.8645990685882, 286.96919652349567, 285.7031225647136, 285.6023329729226, 283.3059492040008, 280.3214673462031, 274.4152223910624, 272.10419325801445, 271.2674216683158, 269.6109823871818, 258.95415514219064, 243.51089478640142, 242.91328620304893, 241.74543396029537, 240.44007625381906, 232.36674690280427, 222.91796613086808, 222.10713398854563, 218.1027964736929, 1905.5121903276238, 1660.4645140887055, 603.6656548870634, 842.0589842128375, 1559.4994832376037, 1044.4875749596074, 407.29898101908555, 2557.9535161111826, 1659.3285811832093, 1509.7725019308418, 1251.6689945759636, 611.443683435594, 803.3778329496892, 590.6455507008995, 497.0922818759207, 1393.3052054787825, 824.6858285929023, 382.01594518991203, 3317.423403685578, 910.6838168186025, 897.1416120411671, 7488.369045733019, 7039.746539525589, 4224.554307346446, 1936.1682227767426, 1705.8751731234809, 1079.0665074004003, 2614.2873001323387, 8828.96322676624, 1410.8680067666635, 2377.7796905827604, 1849.9032613576037, 33509.96362849823, 1942.571544766927, 2549.0317562119276, 1836.882059501376, 3417.743014708244, 9559.67223442306, 3204.523627969832, 6779.997136279344, 4198.352826477319, 9516.403632993639, 3036.217006303948, 6199.377133388135, 4655.449495529577, 2559.4303519949235, 3676.6030952040496, 5799.14523858463, 10511.994356393712, 3277.646063753263, 6806.490574946091, 5462.675917339014, 5016.337205004036, 3056.939479586694, 5376.597084653166, 3110.9852188014165, 4123.661763938213, 3325.444856380342, 4933.145258241822, 4568.118237880771, 3946.2096814276397, 5075.269551347015, 3660.8454356425477, 3889.9805739506883, 3687.521120081497, 3746.8208558940264, 3509.875741585196, 3521.522399791989, 2791.0190719174357, 1092.798204658816, 773.2694386033666, 606.707776122422, 371.5607894105739, 359.11400761024373, 328.36072237222237, 305.032373724275, 295.7706681691126, 293.57073642615404, 291.1065192645833, 264.1145819044023, 240.42535726438018, 227.18738860243462, 215.36658258217977, 214.89439640065748, 212.11088582667327, 210.9675240153855, 209.27983389766374, 197.6739521552566, 195.68899444558838, 191.12613636409685, 188.36551876410275, 187.07228499252727, 184.81978811391244, 183.8071957845069, 177.97081791808134, 171.23315244055044, 160.13603051549663, 158.2670150338891, 285.39811777241033, 10508.156931532305, 521.3735964256217, 3276.056268662296, 3982.9557015389837, 271.9844569199651, 3299.706680898696, 2375.887114954123, 6480.976049173891, 642.0067780270783, 3338.4966437289786, 6068.936434404427, 2768.9900105593765, 4658.537105305092, 2269.6600375641756, 1333.3941513746956, 1112.8524743971664, 3811.0367431729464, 2650.496712482231, 2257.3866407601, 1892.7004721671813, 11140.394901615575, 13154.18190254655, 3393.2093372072845, 8668.925112664161, 7801.964907121654, 8109.663915790377, 18526.25012527295, 8402.918445475694, 11643.24134663005, 2735.4892845825702, 5574.705043785213, 6386.579473257061, 16710.95315977064, 11174.56093518076, 5687.8444993724615, 9476.036035833686, 8036.549947235652, 10114.360554175077, 6034.114193876939, 7107.725170143014, 5885.9051826792265, 6985.405410954878, 5594.171944955619, 6516.479703036804, 4511.148023447406, 5634.054779762041, 5655.138345907331, 5051.202545599947, 4844.095061322381, 5402.834065405011, 5009.995618493769, 5048.7010797518315, 787.3629340425529, 724.6693539793558, 579.7778742923292, 480.48309827361237, 380.6526945529974, 328.7832040281591, 325.18169125414266, 307.4250178481782, 302.89517004035594, 294.1981199819571, 291.47369583321733, 286.2214028359376, 273.3650424443664, 258.94738370095706, 255.687603020545, 246.44186141384105, 244.22391954551833, 241.07184792915186, 234.07221205615878, 234.00275509452257, 231.7754677844128, 228.83087260846665, 221.75920141197753, 220.9191104102212, 212.56446819115254, 211.70588490712285, 209.03663286059503, 208.38564149540935, 205.4437389828747, 198.03330703375974, 212.90692385826523, 6484.905261618664, 4132.289245530808, 1415.5916321169761, 1740.6594884924095, 540.6571756399546, 3830.045652331653, 1936.8726968761907, 5366.853067500592, 1186.2571213333626, 418.4480837227523, 11634.529545182093, 821.2261147375184, 3262.8174930986406, 35784.17230549257, 1595.206445608917, 7809.199711084776, 1997.468501936301, 5144.078491904082, 2359.0705413191663, 3130.8273117652066, 2337.2562678440154, 1844.3401374098141, 2270.9158356956527, 998.7236959764358, 1761.287811804297, 1778.5669821991062, 4805.319086297495, 8387.248135429552, 6614.282098280148, 10541.141736802418, 6257.291617990905, 8684.287525683085, 3344.8072088025947, 6573.644315942697, 5085.209252156967, 4371.910455252085, 3770.0299038460926, 3515.092045415276, 9822.208164319069, 4554.706528805755, 3686.610644148301, 3395.678763242658, 3919.896765917877, 3289.573204705719, 2754.74724350023, 2800.1328396412896, 2876.1539535231186, 3126.417178696875, 2890.193410324844, 3092.170073727667, 858.2397185172088, 579.9030342530517, 1096.700228033748, 561.7329296012028, 436.3668354608861, 417.11032019169335, 356.63118307596267, 355.7547388213686, 351.9635374208167, 347.73556380565805, 333.91062048245004, 332.82445785104983, 306.10626909190864, 300.53212919738024, 288.3161959470455, 282.4667985516602, 242.45330537944287, 235.8441419954638, 227.34907079870968, 224.18638825926402, 208.86400919519966, 207.625047656735, 206.04265998663666, 202.04274134677559, 194.7448944121767, 187.60129711863812, 185.70452778009096, 184.98106535865526, 183.87871299906888, 3458.465788321213, 323.17743591996185, 739.905244267013, 502.49104755376845, 4195.529537105699, 1418.9560783973259, 995.9971986691919, 3276.95015324775, 4450.870978114662, 2386.4363121543183, 1844.8201855233629, 4902.327657215204, 5716.5497163841765, 1478.8224851000157, 5428.382931321599, 1462.5189352019697, 3259.447037841735, 897.9895088456736, 1353.5932092119192, 1950.0005169067333, 2077.750127594442, 2694.873418154038, 5268.366939555887, 635.6902278056382, 2993.657606423385, 2248.050211664179, 3943.4810937589987, 2466.8138110544005, 6142.679422681681, 1508.4994263521742, 3669.237207860848, 1198.8770340811689, 2868.5648304005213, 1861.6698090212178, 3335.3218728506267, 2543.824046872494, 3244.724620740501, 2116.511957813706, 3267.82288606706, 3412.1068865259203, 2319.151650552385, 3014.8116636742534, 3474.7289358051457, 4593.758240642866, 2731.183867048795, 2658.73067185786, 2405.09616847114, 2342.7068364156403, 2621.798287045518, 2078.842035221505, 1371.1661576732117, 1268.302163843201, 1214.8068688532805, 1039.4184472723655, 973.0034775743559, 968.0583629598824, 935.2348540953246, 894.7773245517285, 809.3839162293626, 738.6720829530906, 561.3283306180184, 537.391296043861, 524.3772549878742, 513.4551161539234, 512.2338588533721, 504.86335321427055, 496.9049922113913, 491.867126801973, 491.4935440007351, 485.47601868217475, 484.00502445615086, 470.857555621468, 467.91013938183943, 462.51787634145904, 424.0118205088205, 369.8697884581685, 358.08808094293005, 329.24251948118956, 504.2845333081466, 753.2095312419406, 9437.994149775885, 3033.3690912688407, 933.1010515259378, 762.3023712296789, 721.5498767183328, 1404.203678505841, 2905.8102793550106, 5997.169162187243, 3988.7346954450677, 2408.6571193736427, 1188.931041898664, 1079.1844898405132, 2299.555631110922, 1981.6923352922702, 1787.8164272557985, 2811.487917808772, 1997.3477598186432, 2537.2900434146322, 1683.2521318273164, 1857.5807636166683, 3554.819310838546, 7935.599910487893, 3995.895158668933, 2828.551058496607, 7862.618984134194, 1691.8946715462134, 3990.6625282974, 2206.65612917766, 4365.187114942657, 2188.0009083885243, 3415.4146633614027, 2551.5779400683004, 2727.6747458241102, 2483.378083329342, 2324.8374313512973, 1846.3410417594816, 2310.3350219240706, 2212.289742357745, 2068.340729602772, 2040.5445111932138, 1537.8918750889675, 965.8164815583473, 797.0079883362273, 715.296554441554, 695.0478666307608, 726.8452911264964, 665.9437650991376, 648.4696430046624, 569.5870563274774, 514.4963307050291, 508.8389285153012, 506.64106638882754, 495.5555607719331, 475.1730488311324, 470.3696005325942, 460.0846335800771, 448.8914752532731, 391.1788543421043, 376.4121979037474, 344.2204383280446, 337.66486587903455, 306.48226150600027, 291.42614206573074, 286.54374869944, 286.0735588225795, 283.0887034031649, 275.5880964704053, 274.6063172136127, 269.15516470787566, 268.6511254813868, 1039.8942294824303, 1231.8646069644205, 587.3696480362303, 867.6347450915806, 341.46255623698585, 398.8606466914081, 1232.3259479905153, 1727.751496322697, 1182.0300552620438, 478.8632590064377, 1371.0546065848825, 467.2498016438407, 1335.5244299278138, 1673.1145218391594, 1011.183457630612, 1299.5813523102636, 953.2943783510837, 1651.613479626845, 1238.0752625913672, 2446.398489094013, 842.0941803475869, 1484.8679756425206, 2854.2062309120756, 959.7953508596559, 1716.4671146370551, 1922.0240588398974, 2016.641460115635, 1707.6735589223247, 2406.854657217124, 1408.8937156231007, 1569.9734699869189, 3961.3214161875044, 4553.391245445266, 1673.4945813652823, 1632.5356804324908, 1531.1971332726134, 1789.1891442870467, 1360.766735944263, 1452.7924662978412, 1421.8737796678047, 1746.648558623801, 1822.827448086703, 1681.3652221353423, 1602.9157777847913, 1586.36628802908, 1585.6510724012971, 1437.7506226234725, 1009.0852305490714, 724.2618276614525, 697.2479120499155, 611.5852199874208, 517.0522690680161, 497.52607072629246, 492.50892318681076, 486.27511447306676, 434.3599232466695, 421.24835617750387, 420.68009339849607, 383.79521284009564, 355.56171911754893, 350.91871192419615, 339.3929298319374, 326.8472972082365, 326.7172434336391, 317.0703910967492, 285.4815983061486, 282.1208757385525, 274.9180248035339, 268.3501385029745, 254.6415982663704, 247.72768546185722, 246.2197236962773, 244.8947932561827, 234.87333698559763, 227.8390628561687, 219.16502401693998, 211.814539281825, 480.4011045156152, 1594.2820851144172, 802.6774890255873, 523.9220888155287, 542.7566226065892, 901.4914177271579, 367.8499546920002, 1438.5631918167635, 1771.991176711063, 2535.236379408901, 1760.4261864408709, 895.7876251642451, 1523.2320142496876, 555.2156859015424, 696.5435055968828, 1298.924266764874, 913.1923762354321, 2055.5777647636687, 506.6309544687143, 823.1732229430488, 1127.1640403417916, 1761.6705672858632, 865.8785592360184, 1710.0182516644531, 2185.007232406307, 1033.2582864747983, 2028.8017266930187, 1469.2636516828502, 864.2165119517799, 764.4741698619773, 1182.4551805909011, 872.4129947810635, 2048.63860775654, 1036.0574438016477, 959.8240341523431, 1569.9325940693407, 1263.9776160537374, 1500.2315203358537, 1744.0813447192609, 1285.2060619571096, 1076.0282338754675, 940.7256737901133, 1042.559381721458, 1009.6518522564592, 1074.8379579597477, 948.5272215471708, 4288.793993588311, 2063.90610603242, 1781.3063029411414, 813.3040602447892, 511.0910954996777, 480.1431966736341, 451.71674104930304, 431.6377435806831, 429.3568865244396, 347.6121822776641, 338.18548268763493, 305.61722612769006, 284.6320445612103, 281.90651707738147, 265.8979929086057, 245.66366981192527, 245.6367044837299, 242.91553243962898, 237.87146280316023, 222.51671852803307, 221.87881917396484, 220.05726132231914, 203.03954474322651, 202.73839887270262, 202.29069474236996, 198.05706650962847, 193.55768743298833, 191.08902422859018, 190.63784780556182, 185.45099082728157, 7590.969675987015, 292.6679271977116, 734.525350742461, 1023.3072688100474, 9459.310028947446, 756.0148487333461, 841.1910951328764, 1502.1500764255995, 3390.9945092476155, 481.2317630684061, 1233.5529590011467, 899.6557397590975, 374.6850582302942, 824.139948139736, 1067.7852667351253, 549.426616360527, 1670.2695403098078, 1804.8987653095737, 805.0043042175369, 598.6829511556332, 531.374825288339, 786.084726529037, 1658.3072404219552, 648.5845617274828, 1539.5460836357572, 1347.276750903428, 657.3196215512262, 867.3124035741718, 580.9368761145419, 818.9723463711734, 673.6105753704835, 670.793797863117, 643.5719714760025, 6114.244397370514, 1960.9530031300033, 1606.8503116147597, 1308.0421711341041, 882.1910341546007, 736.5697762842849, 627.4205018539503, 389.370032471046, 331.8564421410301, 329.4399950288471, 290.31475343643825, 287.5035103275292, 247.4694610249352, 242.49469266657445, 241.83004585171372, 230.87114222427238, 226.59399549690767, 218.74921547408834, 215.3748053284634, 191.19473747837702, 182.44529711145157, 182.17199948935146, 180.9382155519162, 173.80154246845507, 170.84202460265715, 170.6297041846302, 168.48505443830763, 162.12591651745123, 160.4208571448764, 154.08261884702145, 1259.8733690283248, 969.855424877464, 301.43972106664563, 829.748050828622, 1974.1679574191423, 1027.6551647606034, 728.2425685637315, 1441.0539292794722, 335.2020683299986, 2062.6657603226595, 2022.608393807799, 2806.54395553641, 719.6119732765968, 372.5616453152054, 328.0909869787191, 291.87285496547815, 725.8726904391661, 907.3694517216895, 2280.815525374634, 828.1773400065675, 538.5958525703309, 453.64066754420907, 608.7324348573367, 623.5538490269867, 393.3593823016391, 480.1456559830025, 676.6279743215501, 557.7069263380321, 405.19797965579403], \"Term\": [\"film\", \"show\", \"story\", \"series\", \"bad\", \"great\", \"book\", \"horror\", \"good\", \"original\", \"tv\", \"acting\", \"funny\", \"characters\", \"really\", \"like\", \"read\", \"episode\", \"people\", \"see\", \"performance\", \"think\", \"would\", \"watch\", \"best\", \"version\", \"action\", \"love\", \"films\", \"movies\", \"worst\", \"waste\", \"horrible\", \"crap\", \"garbage\", \"redeeming\", \"rubbish\", \"blah\", \"idiotic\", \"wasting\", \"candyman\", \"unwatchable\", \"drivel\", \"horrid\", \"1/10\", \"unoriginal\", \"stinks\", \"stinker\", \"pitiful\", \"awake\", \"2/10\", \"troll\", \"leatherface\", \"poirot\", \"saif\", \"maniacs\", \"shelves\", \"abomination\", \"rodman\", \"yawn\", \"poorly\", \"pointless\", \"insult\", \"awful\", \"worse\", \"sucks\", \"terrible\", \"boring\", \"bother\", \"bad\", \"whatsoever\", \"stupid\", \"pathetic\", \"crappy\", \"wasted\", \"minutes\", \"supposed\", \"lame\", \"annoying\", \"nothing\", \"avoid\", \"ridiculous\", \"acting\", \"poor\", \"could\", \"even\", \"plot\", \"thing\", \"would\", \"like\", \"make\", \"say\", \"script\", \"money\", \"anything\", \"really\", \"something\", \"better\", \"ever\", \"film\", \"good\", \"know\", \"watching\", \"one\", \"watch\", \"get\", \"made\", \"time\", \"think\", \"people\", \"see\", \"seen\", \"much\", \"movies\", \"story\", \"humanity\", \"politics\", \"religion\", \"cultural\", \"sexuality\", \"documentaries\", \"symbolism\", \"spiritual\", \"homosexuality\", \"philosophy\", \"highlander\", \"asoka\", \"bunuel\", \"jews\", \"kurosawa\", \"sharpe\", \"aids\", \"metaphor\", \"beliefs\", \"fellini\", \"cassavetes\", \"plight\", \"emperor\", \"cultures\", \"philosophical\", \"compassion\", \"9/11\", \"symbolic\", \"muslim\", \"economic\", \"society\", \"social\", \"propaganda\", \"media\", \"political\", \"narrative\", \"individuals\", \"documentary\", \"subject\", \"nature\", \"issues\", \"lynch\", \"understanding\", \"individual\", \"insight\", \"culture\", \"facts\", \"iraq\", \"human\", \"moral\", \"themes\", \"world\", \"us\", \"war\", \"events\", \"message\", \"images\", \"history\", \"life\", \"emotional\", \"viewer\", \"view\", \"film\", \"important\", \"lives\", \"reality\", \"american\", \"people\", \"audience\", \"many\", \"may\", \"story\", \"true\", \"characters\", \"real\", \"perhaps\", \"without\", \"way\", \"one\", \"yet\", \"would\", \"much\", \"also\", \"rather\", \"time\", \"point\", \"two\", \"fact\", \"even\", \"see\", \"films\", \"like\", \"man\", \"well\", \"character\", \"could\", \"never\", \"make\", \"jokes\", \"funniest\", \"sandler\", \"funnier\", \"beatles\", \"cried\", \"porky\", \"comedians\", \"che\", \"pie\", \"arkin\", \"pryor\", \"sketch\", \"fart\", \"stooges\", \"looney\", \"zohan\", \"it`s\", \"avery\", \"veronica\", \"benny\", \"skits\", \"woodstock\", \"levy\", \"olsen\", \"stiller\", \"lohan\", \"hayward\", \"nikita\", \"soderbergh\", \"carrey\", \"funny\", \"saturday\", \"loved\", \"kids\", \"album\", \"humor\", \"hilarious\", \"comedy\", \"gags\", \"remember\", \"saw\", \"laugh\", \"fun\", \"favorite\", \"laughs\", \"cute\", \"dvd\", \"liked\", \"enjoyed\", \"ago\", \"great\", \"see\", \"watched\", \"think\", \"love\", \"watch\", \"like\", \"movies\", \"really\", \"enjoy\", \"years\", \"show\", \"one\", \"good\", \"still\", \"time\", \"get\", \"would\", \"know\", \"first\", \"seen\", \"people\", \"best\", \"well\", \"lot\", \"also\", \"much\", \"many\", \"ever\", \"even\", \"made\", \"could\", \"cagney\", \"khan\", \"bollywood\", \"scorsese\", \"lenny\", \"buscemi\", \"duvall\", \"hoffman\", \"niro\", \"nicholson\", \"ali\", \"damme\", \"emmanuelle\", \"reno\", \"snipes\", \"garcia\", \"liam\", \"panther\", \"crowe\", \"kapoor\", \"kidman\", \"bachchan\", \"garbo\", \"akbar\", \"sellers\", \"maris\", \"shah\", \"delpy\", \"jolie\", \"hale\", \"femme\", \"performance\", \"performances\", \"superb\", \"de\", \"penn\", \"excellent\", \"cinematography\", \"role\", \"oscar\", \"connery\", \"great\", \"outstanding\", \"beautiful\", \"film\", \"supporting\", \"best\", \"brilliant\", \"cast\", \"perfect\", \"actor\", \"wonderful\", \"roles\", \"direction\", \"chemistry\", \"score\", \"actress\", \"actors\", \"well\", \"character\", \"good\", \"films\", \"story\", \"music\", \"also\", \"acting\", \"scenes\", \"director\", \"quite\", \"one\", \"love\", \"characters\", \"plot\", \"really\", \"much\", \"work\", \"makes\", \"scene\", \"see\", \"like\", \"husband\", \"holmes\", \"emily\", \"apartment\", \"batman\", \"nikki\", \"jenny\", \"stanwyck\", \"sherlock\", \"giallo\", \"pammy\", \"snoopy\", \"karen\", \"lance\", \"columbo\", \"tarzan\", \"phantasm\", \"orphanage\", \"keane\", \"farrow\", \"mia\", \"reggie\", \"midler\", \"stella\", \"deceased\", \"beth\", \"marple\", \"wheelchair\", \"enid\", \"protection\", \"daughter\", \"estate\", \"discovers\", \"pregnant\", \"mother\", \"decides\", \"boyfriend\", \"son\", \"father\", \"finds\", \"sister\", \"wife\", \"woman\", \"married\", \"girl\", \"meets\", \"house\", \"hospital\", \"baby\", \"brother\", \"murder\", \"boy\", \"young\", \"marry\", \"home\", \"wants\", \"family\", \"friend\", \"man\", \"begins\", \"gets\", \"doctor\", \"goes\", \"starts\", \"old\", \"comes\", \"back\", \"women\", \"life\", \"two\", \"takes\", \"scene\", \"get\", \"one\", \"love\", \"little\", \"end\", \"around\", \"gore\", \"monster\", \"zombie\", \"vampire\", \"slasher\", \"zombies\", \"arts\", \"martial\", \"dracula\", \"monsters\", \"gory\", \"kong\", \"vampires\", \"hong\", \"godzilla\", \"ninja\", \"fu\", \"cannibal\", \"freddy\", \"demon\", \"halloween\", \"predator\", \"chainsaw\", \"kung\", \"chan\", \"werewolf\", \"13th\", \"robots\", \"argento\", \"ringu\", \"seagal\", \"shark\", \"horror\", \"blood\", \"creature\", \"massacre\", \"metal\", \"alien\", \"killer\", \"action\", \"effects\", \"evil\", \"creepy\", \"giant\", \"game\", \"fight\", \"scary\", \"dead\", \"genre\", \"special\", \"flick\", \"fans\", \"scenes\", \"one\", \"films\", \"pretty\", \"film\", \"kill\", \"also\", \"fun\", \"like\", \"original\", \"good\", \"plot\", \"well\", \"first\", \"movies\", \"death\", \"much\", \"even\", \"little\", \"really\", \"grant\", \"crawford\", \"powell\", \"chaplin\", \"cary\", \"warner\", \"dunne\", \"arthur\", \"bette\", \"karloff\", \"mgm\", \"lugosi\", \"chaney\", \"brooks\", \"irene\", \"welles\", \"broadway\", \"1940\", \"mason\", \"berry\", \"christie\", \"loy\", \"daffy\", \"dorothy\", \"screwball\", \"bela\", \"germans\", \"graham\", \"hayes\", \"doris\", \"davis\", \"joan\", \"cooper\", \"douglas\", \"1930s\", \"rogers\", \"scott\", \"george\", \"charles\", \"walter\", \"william\", \"gregory\", \"stage\", \"british\", \"silent\", \"richard\", \"henry\", \"robert\", \"musical\", \"john\", \"moore\", \"career\", \"role\", \"studio\", \"early\", \"version\", \"play\", \"production\", \"cast\", \"mr\", \"star\", \"one\", \"film\", \"performance\", \"played\", \"plays\", \"years\", \"hollywood\", \"screen\", \"later\", \"made\", \"time\", \"films\", \"best\", \"even\", \"would\", \"also\", \"president\", \"flynn\", \"bank\", \"fbi\", \"westerns\", \"san\", \"angeles\", \"agents\", \"oil\", \"eastwood\", \"errol\", \"heist\", \"costello\", \"bronson\", \"norma\", \"francisco\", \"clint\", \"peterson\", \"shields\", \"spaghetti\", \"mayor\", \"o'hara\", \"cia\", \"lancaster\", \"bernie\", \"undercover\", \"lime\", \"abbott\", \"arizona\", \"django\", \"criminals\", \"prison\", \"mexican\", \"los\", \"mob\", \"officer\", \"robbery\", \"gang\", \"western\", \"police\", \"crime\", \"agent\", \"cop\", \"security\", \"criminal\", \"gun\", \"chase\", \"city\", \"mexico\", \"boss\", \"joe\", \"town\", \"law\", \"white\", \"black\", \"harry\", \"men\", \"car\", \"train\", \"west\", \"hero\", \"escape\", \"man\", \"jack\", \"york\", \"new\", \"john\", \"back\", \"get\", \"big\", \"shot\", \"local\", \"money\", \"take\", \"one\", \"gets\", \"episode\", \"episodes\", \"season\", \"woody\", \"seasons\", \"trek\", \"willis\", \"pitt\", \"lucas\", \"streep\", \"holden\", \"sopranos\", \"rebecca\", \"costner\", \"enterprise\", \"dakota\", \"twilight\", \"roswell\", \"meryl\", \"keitel\", \"rathbone\", \"kyle\", \"scarlett\", \"abc\", \"spock\", \"programme\", \"wilbur\", \"cate\", \"volcano\", \"lauren\", \"series\", \"goldblum\", \"pilot\", \"allen\", \"show\", \"wars\", \"planet\", \"television\", \"tv\", \"network\", \"space\", \"science\", \"brad\", \"ship\", \"earth\", \"lucy\", \"star\", \"shows\", \"sci-fi\", \"tony\", \"anime\", \"crew\", \"new\", \"fiction\", \"first\", \"characters\", \"future\", \"character\", \"writers\", \"time\", \"last\", \"years\", \"original\", \"book\", \"animation\", \"disney\", \"books\", \"murphy\", \"bugs\", \"bambi\", \"angus\", \"coppola\", \"ants\", \"voiced\", \"beowulf\", \"danish\", \"axe\", \"3-d\", \"rani\", \"bug\", \"walt\", \"dafoe\", \"bullock\", \"magnum\", \"squid\", \"cinderella\", \"chop\", \"osama\", \"jock\", \"norway\", \"clockwork\", \"norwegian\", \"taliban\", \"animated\", \"prince\", \"bloom\", \"adaptation\", \"novel\", \"robin\", \"eddie\", \"king\", \"lion\", \"read\", \"version\", \"original\", \"cartoon\", \"princess\", \"baseball\", \"dinosaurs\", \"voice\", \"children\", \"story\", \"based\", \"fantasy\", \"williams\", \"sequel\", \"game\", \"beast\", \"comic\", \"characters\", \"first\", \"magic\"], \"loglift\": [30.0, 29.0, 28.0, 27.0, 26.0, 25.0, 24.0, 23.0, 22.0, 21.0, 20.0, 19.0, 18.0, 17.0, 16.0, 15.0, 14.0, 13.0, 12.0, 11.0, 10.0, 9.0, 8.0, 7.0, 6.0, 5.0, 4.0, 3.0, 2.0, 1.0, 1.4596, 1.4596, 1.4595, 1.4594, 1.459, 1.4588, 1.4586, 1.4582, 1.4579, 1.4577, 1.4576, 1.4575, 1.4574, 1.4574, 1.4573, 1.4573, 1.4571, 1.4568, 1.4566, 1.4566, 1.4563, 1.4562, 1.4555, 1.4549, 1.4545, 1.4544, 1.4543, 1.4543, 1.4542, 1.454, 1.449, 1.4413, 1.4491, 1.4261, 1.4241, 1.439, 1.4199, 1.4004, 1.4255, 1.3594, 1.4311, 1.3768, 1.3983, 1.4256, 1.3806, 1.2948, 1.2938, 1.3408, 1.317, 1.1597, 1.3124, 1.2903, 1.0793, 1.2041, 0.9952, 0.8798, 0.9696, 1.0159, 0.799, 0.6675, 0.8159, 0.9019, 1.0126, 1.0719, 1.031, 0.6855, 0.8668, 0.8339, 0.8217, 0.2132, 0.5151, 0.7731, 0.8811, 0.2174, 0.7294, 0.6013, 0.6639, 0.4496, 0.6669, 0.5213, 0.4133, 0.6774, 0.4372, 0.5707, 0.1289, 1.7218, 1.7215, 1.7214, 1.7213, 1.7209, 1.7208, 1.7206, 1.7203, 1.7202, 1.7202, 1.7201, 1.7199, 1.7199, 1.7198, 1.7198, 1.7198, 1.7198, 1.7197, 1.7197, 1.7197, 1.7196, 1.7195, 1.7193, 1.7193, 1.7193, 1.7192, 1.7191, 1.719, 1.7189, 1.7189, 1.6941, 1.6873, 1.6962, 1.6692, 1.6416, 1.6553, 1.6944, 1.5936, 1.616, 1.6211, 1.6309, 1.6633, 1.6407, 1.6584, 1.6712, 1.5717, 1.6177, 1.6928, 1.4589, 1.6, 1.5947, 1.3207, 1.2922, 1.3612, 1.4505, 1.4422, 1.5213, 1.3236, 1.0459, 1.4582, 1.313, 1.3785, 0.4676, 1.3353, 1.2275, 1.3233, 1.0777, 0.66, 1.0669, 0.6507, 0.8671, 0.4361, 0.9946, 0.4759, 0.6186, 1.0587, 0.7615, 0.3288, -0.2737, 0.7696, -0.0431, 0.0766, 0.039, 0.7357, -0.1551, 0.7042, 0.139, 0.5687, -0.287, -0.2723, 0.0638, -0.7238, 0.2348, -0.271, 0.0078, -0.3034, 0.0226, -0.183, 1.942, 1.9415, 1.9411, 1.9408, 1.9399, 1.9398, 1.9395, 1.9393, 1.9392, 1.9392, 1.9392, 1.9389, 1.9385, 1.9383, 1.9381, 1.9381, 1.938, 1.938, 1.938, 1.9377, 1.9377, 1.9376, 1.9375, 1.9375, 1.9374, 1.9374, 1.9372, 1.937, 1.9367, 1.9366, 1.9339, 1.734, 1.8808, 1.7603, 1.7263, 1.9094, 1.6921, 1.6973, 1.5788, 1.809, 1.6092, 1.4841, 1.5567, 1.4357, 1.5211, 1.5994, 1.6284, 1.372, 1.4459, 1.453, 1.4907, 1.0558, 1.0046, 1.3243, 1.06, 1.0872, 1.0557, 0.7903, 0.9653, 0.8555, 1.3309, 1.0898, 0.9535, 0.4091, 0.5929, 0.9227, 0.6309, 0.7167, 0.5723, 0.8463, 0.6558, 0.7653, 0.5656, 0.7297, 0.4642, 0.9393, 0.3744, 0.3305, 0.5756, 0.663, 0.0233, 0.412, 0.2141, 2.3203, 2.3202, 2.3199, 2.3195, 2.3191, 2.3187, 2.3186, 2.3185, 2.3184, 2.3184, 2.3183, 2.3183, 2.3181, 2.3179, 2.3179, 2.3178, 2.3177, 2.3177, 2.3176, 2.3176, 2.3175, 2.3175, 2.3174, 2.3173, 2.3172, 2.3172, 2.3171, 2.3171, 2.317, 2.3169, 2.3167, 2.0828, 2.0459, 2.1343, 2.0457, 2.1987, 1.8882, 1.9521, 1.7657, 2.0101, 2.1999, 1.4783, 2.0514, 1.7276, 1.1317, 1.8662, 1.4424, 1.7973, 1.5395, 1.6962, 1.6084, 1.688, 1.7577, 1.6797, 1.9406, 1.746, 1.7284, 1.3485, 1.0957, 1.1905, 0.9137, 1.1232, 0.943, 1.344, 0.9078, 1.0636, 1.0777, 1.1615, 1.1778, 0.2568, 0.9281, 0.5546, 0.5954, 0.146, 0.1678, 0.8416, 0.7558, 0.5879, -0.0531, -0.6884, 2.4074, 2.4067, 2.4062, 2.4062, 2.4061, 2.4057, 2.4056, 2.4052, 2.4052, 2.4052, 2.4051, 2.405, 2.405, 2.4048, 2.4047, 2.4046, 2.4045, 2.404, 2.4039, 2.4038, 2.4037, 2.4034, 2.4034, 2.4034, 2.4033, 2.4031, 2.4029, 2.4029, 2.4029, 2.4028, 2.3588, 2.3885, 2.3472, 2.3629, 2.264, 2.3095, 2.3244, 2.2336, 2.2119, 2.2387, 2.2514, 2.1634, 2.1122, 2.2273, 1.9915, 2.182, 1.9575, 2.1867, 2.1016, 2.0113, 1.9785, 1.9096, 1.7071, 2.2521, 1.8192, 1.8863, 1.702, 1.845, 1.4371, 1.9486, 1.4863, 2.0391, 1.472, 1.7072, 1.1577, 1.3479, 0.9335, 1.485, 0.7368, 0.6344, 1.322, 0.7213, 0.3436, -0.4168, 0.503, 0.4278, 0.5386, 0.8916, 2.4222, 2.4221, 2.4219, 2.4218, 2.4218, 2.4217, 2.4216, 2.4216, 2.4216, 2.4215, 2.4214, 2.4213, 2.4209, 2.4209, 2.4208, 2.4208, 2.4208, 2.4208, 2.4207, 2.4207, 2.4207, 2.4207, 2.4207, 2.4206, 2.4206, 2.4206, 2.4204, 2.4201, 2.42, 2.4198, 2.4168, 2.4077, 2.3527, 2.3508, 2.3944, 2.3848, 2.368, 2.2364, 2.0708, 1.8847, 1.9136, 1.947, 2.1356, 2.1666, 1.8738, 1.9077, 1.9242, 1.7321, 1.8093, 1.5463, 1.6969, 1.606, 0.9719, 0.1447, 0.7759, 1.1129, -0.2826, 1.6513, 0.5098, 1.1687, -0.1749, 0.9701, -0.1122, 0.4107, 0.0736, 0.0845, 0.1607, 1.253, -0.0844, -0.3894, 0.1915, -0.4057, 2.7255, 2.7251, 2.7249, 2.7248, 2.7248, 2.7247, 2.7247, 2.7247, 2.7245, 2.7243, 2.7243, 2.7243, 2.7242, 2.7242, 2.7241, 2.7241, 2.7241, 2.7238, 2.7237, 2.7234, 2.7234, 2.7231, 2.723, 2.7229, 2.7229, 2.7229, 2.7228, 2.7228, 2.7227, 2.7227, 2.6567, 2.639, 2.6736, 2.6392, 2.7033, 2.6791, 2.4982, 2.4076, 2.4597, 2.6329, 2.3935, 2.637, 2.3139, 2.2217, 2.33, 2.2065, 2.3241, 2.0683, 2.1574, 1.7201, 2.3663, 1.9928, 1.5389, 2.2667, 1.809, 1.6867, 1.5553, 1.6329, 1.1846, 1.7074, 1.4756, -0.2466, -0.5253, 1.1329, 1.1565, 1.2326, 0.7371, 1.3899, 1.1784, 1.2333, 0.1421, -0.2337, 0.2137, 0.2636, -0.4184, -0.4969, -0.2075, 2.8969, 2.8966, 2.8965, 2.8963, 2.8961, 2.896, 2.896, 2.896, 2.8957, 2.8957, 2.8957, 2.8955, 2.8953, 2.8952, 2.8951, 2.895, 2.895, 2.895, 2.8946, 2.8946, 2.8945, 2.8944, 2.8943, 2.8942, 2.8941, 2.8941, 2.894, 2.8938, 2.8937, 2.8935, 2.8751, 2.8259, 2.8427, 2.8595, 2.8484, 2.8051, 2.8663, 2.7507, 2.7258, 2.6381, 2.5817, 2.6733, 2.5641, 2.7608, 2.6982, 2.5016, 2.5702, 2.2952, 2.7649, 2.5637, 2.3962, 2.1314, 2.5029, 2.1163, 1.8909, 2.3555, 1.8719, 2.058, 2.3993, 2.4765, 1.9439, 2.2145, 0.8291, 1.8726, 2.0053, 0.8206, 1.2315, 0.6521, 0.1444, 0.8589, 1.2393, 1.8747, 1.0271, 0.5859, -1.3793, 0.6236, 3.5746, 3.5744, 3.5743, 3.5737, 3.5731, 3.573, 3.5729, 3.5728, 3.5728, 3.5723, 3.5722, 3.5719, 3.5717, 3.5717, 3.5715, 3.5712, 3.5712, 3.5712, 3.5711, 3.5708, 3.5708, 3.5708, 3.5704, 3.5704, 3.5704, 3.5703, 3.5702, 3.5702, 3.5702, 3.57, 3.4383, 3.5267, 3.3856, 3.3225, 2.9788, 3.2992, 3.2572, 3.1183, 2.8019, 3.3274, 3.0096, 3.0681, 3.3927, 3.0525, 2.8099, 3.1241, 2.3863, 2.199, 2.7293, 2.9057, 3.0223, 2.5534, 1.5524, 2.7377, 0.7586, 0.8014, 2.2032, 0.4124, 2.3929, -0.185, 0.999, 0.6048, 0.8987, 3.8965, 3.8962, 3.8961, 3.8959, 3.8956, 3.8954, 3.8952, 3.8943, 3.8939, 3.8939, 3.8935, 3.8935, 3.893, 3.8929, 3.8929, 3.8928, 3.8927, 3.8925, 3.8925, 3.892, 3.8917, 3.8917, 3.8917, 3.8915, 3.8914, 3.8914, 3.8913, 3.8911, 3.8911, 3.8908, 3.8887, 3.7622, 3.83, 3.707, 3.5524, 3.5812, 3.5505, 3.3207, 3.7228, 2.9842, 2.9083, 2.6931, 3.1331, 3.5518, 3.6087, 3.6826, 2.611, 2.3201, 1.1812, 2.231, 2.8007, 3.0262, 2.4075, 2.0429, 3.1823, 2.3131, 0.4345, 0.065, 2.7445], \"Total\": [117597.0, 17167.0, 34464.0, 8701.0, 26991.0, 27033.0, 6115.0, 10120.0, 43077.0, 9350.0, 7345.0, 17887.0, 12942.0, 21574.0, 34518.0, 58624.0, 5136.0, 4289.0, 27675.0, 33595.0, 8232.0, 20948.0, 39802.0, 19681.0, 18807.0, 5434.0, 10269.0, 18347.0, 20737.0, 22321.0, 7671.419022969805, 4324.86487113657, 3729.6799351022296, 2743.44857938149, 1186.4706081059135, 912.2886902702936, 767.1884557655097, 569.6760486777966, 476.71281776516895, 441.01419691936536, 409.7904883692978, 402.6072228590168, 383.9370157831501, 378.03002662168996, 368.2726326669739, 360.5637970321113, 337.0503295880221, 308.822917248736, 289.07754482046994, 283.73770831350714, 263.00530436572814, 254.5383341359058, 213.55353360231146, 187.48989316348977, 170.77821772717985, 167.9653727633226, 166.70864406141678, 164.4377655579494, 161.05754183926715, 158.661266758716, 2022.4435026361757, 1548.7268851280237, 654.8043139343922, 4788.669024502918, 4104.554842690282, 827.7669004432566, 4528.603116337573, 5463.085884251569, 1264.0568907512666, 26991.19546159556, 856.2962839135917, 4946.320409490983, 1508.6080179703185, 751.5359912429653, 1751.190301247445, 8556.118631896099, 4322.024097595237, 2066.850593291102, 2817.576960604733, 12633.718481777425, 2228.4864348006777, 2711.2072690477107, 17887.957210070133, 5574.795477263598, 28425.427558367533, 36816.13443244403, 19078.285857036015, 13231.221214449022, 39802.34392248632, 58624.45067148641, 23684.672825802354, 15317.755564817242, 8917.847799227331, 6769.249356417558, 8080.749907206923, 34518.116838328715, 15156.307442876001, 17136.652328579166, 17410.197223659503, 117597.16805299427, 43077.725165863245, 18055.475768374807, 13124.89408773991, 77420.16923886865, 19681.651263402553, 27374.507672275096, 23142.633936440838, 35167.570681581536, 20948.433815778906, 27675.47836451529, 33595.831213540725, 19097.805061087576, 28342.45159166031, 22321.055859200038, 34464.81073471985, 787.4679556965542, 609.8609356635372, 566.052126396128, 522.6545907607066, 432.2544516331998, 418.5120628649283, 376.2376587372074, 340.00835148065283, 326.3034925570625, 330.6698702038196, 308.6343702519414, 296.7648477068894, 287.8694069265774, 286.6032485355169, 286.50248063936107, 284.2063636537364, 281.22172720755344, 275.31541850163603, 273.004405576827, 272.1675746765916, 270.51144858288603, 259.85435422737106, 244.41118699424024, 243.8134617096472, 242.64558947131852, 241.34025559180404, 233.26695759609524, 223.81816648667933, 223.0072786591769, 219.00303728272982, 1961.2744839201962, 1720.7137664848442, 620.0283982907774, 888.6025106734633, 1691.7892972970164, 1117.6201078600081, 419.121849000374, 2911.2346337874615, 1846.7208325653478, 1671.7124870876496, 1372.4340712477094, 649.0506167823706, 872.3166997560746, 630.0404230043657, 523.5124366370733, 1620.9136095959288, 916.2811502063274, 393.7350189099225, 4320.001306409082, 1029.8266477253874, 1019.9372356714747, 11196.366387076627, 10830.093515567485, 6065.801399288325, 2542.667816721678, 2258.8486539219252, 1320.1489699715994, 3897.589997767958, 17376.3058491991, 1838.5042433665142, 3582.778859427326, 2610.7400422893406, 117597.16805299427, 2862.5186815418483, 4183.7344801851405, 2739.493493515749, 6516.223235335358, 27675.47836451529, 6175.824817866134, 19811.73534867089, 9880.767873033326, 34464.81073471985, 6290.152688900035, 21574.081139574388, 14046.521419547766, 4973.062969215145, 9616.253218728047, 23381.308918561954, 77420.16923886865, 8503.844892773737, 39802.34392248632, 28342.45159166031, 27022.52027911395, 8204.822645887083, 35167.570681581536, 8616.545257740123, 20099.429595401383, 10547.33307614811, 36816.13443244403, 33595.831213540725, 20737.54600728565, 58624.45067148641, 16214.666821627905, 28572.109369666963, 20493.988167573858, 28425.427558367533, 19221.0878187595, 23684.672825802354, 2791.9199486531174, 1093.6989749329186, 774.1701284179364, 607.6085910713009, 372.4615093687926, 360.01480213929557, 329.26152285294444, 305.93318586913637, 296.6713897473054, 294.4715734986275, 292.0076108152821, 265.01532161689016, 241.32629326267576, 228.0881176683135, 216.2673343067987, 215.7951631396282, 213.01164090240766, 211.86840009799027, 210.1810053705415, 198.5754552092671, 196.58981377996628, 192.02691065851678, 189.26626821871318, 187.97303774724693, 185.72082716913627, 184.70791115230853, 178.87155630947032, 172.13453241198772, 161.03695801079664, 159.167879360504, 287.7912533820778, 12942.01212783958, 554.415189095213, 3930.040061010657, 4943.2189976851, 281.08550260166004, 4237.627364192108, 3035.5513672328634, 9321.72418712713, 733.5554966330442, 4658.206813691821, 9595.972344407292, 4071.8272100145755, 7731.638332358766, 3458.517515425543, 1878.6636170063646, 1523.1568301200336, 6740.6165413678955, 4354.330332487609, 3682.0717980380564, 2973.110336679129, 27033.02625978712, 33595.831213540725, 6294.802464087586, 20948.433815778906, 18347.348514621903, 19681.651263402553, 58624.45067148641, 22321.055859200038, 34518.116838328715, 5041.215795681694, 13075.416329804011, 17167.30113334533, 77420.16923886865, 43077.725165863245, 15767.624556299937, 35167.570681581536, 27374.507672275096, 39802.34392248632, 18055.475768374807, 25731.202891966775, 19097.805061087576, 27675.47836451529, 18807.99736288872, 28572.109369666963, 12299.564296165297, 27022.52027911395, 28342.45159166031, 19811.73534867089, 17410.197223659503, 36816.13443244403, 23142.633936440838, 28425.427558367533, 788.2633321599534, 725.5696538188841, 580.6781143722843, 481.38337910525814, 381.55302571877627, 329.68358646433796, 326.08201173768737, 308.3253723919352, 303.79545126621525, 295.0984541767177, 292.37402410736803, 287.12171940647136, 274.2653789402822, 259.84770447336314, 256.58799461462115, 247.34233981107812, 245.12432358379843, 241.97220122888373, 234.97260747194414, 234.9029750882045, 232.67601684404107, 229.73110568529475, 222.65952774678524, 221.81936535146198, 213.46484545122132, 212.6063839485155, 209.93689900384484, 209.28601670698552, 206.344104092235, 198.93377569527016, 213.9074534949232, 8232.693305158664, 5443.322252858194, 1706.9378637963916, 2293.2803142841303, 611.2750212300228, 5906.876457503163, 2802.189750823374, 9355.195364718526, 1619.4700072416672, 472.51441302432715, 27033.02625978712, 1075.7676748391416, 5908.53851067463, 117597.16805299427, 2514.7427349090513, 18807.99736288872, 3373.7611386806416, 11243.02821371943, 4408.450688285058, 6387.187437289664, 4403.381730793932, 3240.968864067448, 4314.3050960405, 1461.5884099767309, 3131.367366424466, 3218.1576126534046, 12713.646882547933, 28572.109369666963, 20493.988167573858, 43077.725165863245, 20737.54600728565, 34464.81073471985, 8889.248656888383, 27022.52027911395, 17887.957210070133, 15164.223264778539, 12024.553238177281, 11031.139298377719, 77420.16923886865, 18347.348514621903, 21574.081139574388, 19078.285857036015, 34518.116838328715, 28342.45159166031, 12098.999582788781, 13400.62821266719, 16280.623346189039, 33595.831213540725, 58624.45067148641, 3093.2655191081644, 859.141061079336, 580.8043646766, 1098.423326648783, 562.6343033156763, 437.2682770945558, 418.01159885746415, 357.53245412773015, 356.65611388499065, 352.8648868523296, 348.63718375570267, 334.8119086266062, 333.72584068680476, 307.0078381494245, 301.4334105202721, 289.21759849034925, 283.36806241267493, 243.354706862053, 236.74547194117426, 228.2504893583501, 225.0877491650458, 209.76529003202893, 208.52653471401615, 206.94421616528527, 202.94406731178103, 195.64627460537102, 188.50268308220737, 186.60590695990572, 185.88239526703924, 184.78019933465927, 3631.9033379620605, 329.45654815297934, 786.0593761180672, 525.528695704825, 4843.859075865617, 1565.4778589354448, 1082.5193362506473, 3900.4667307045447, 5413.920219016526, 2826.0330810962646, 2156.9475649062124, 6259.425710215733, 7681.779554406213, 1771.3177563775994, 8231.071214138778, 1832.93061456544, 5113.131837207484, 1120.169977887275, 1838.3155219831417, 2898.601720574743, 3191.6284396236683, 4434.897200974088, 10615.848369124242, 742.70406551759, 5392.466936531767, 3786.762285675455, 7986.632042647777, 4330.350601542063, 16214.666821627905, 2387.40695584893, 9220.048112065759, 1733.2440014077013, 7312.517294760499, 3751.048301102592, 11641.511134215194, 7341.164617123862, 14172.634980457562, 5325.640894679875, 17376.3058491991, 20099.429595401383, 6868.773749312451, 16280.623346189039, 27374.507672275096, 77420.16923886865, 18347.348514621903, 19255.693507263066, 15591.086379390614, 10669.84453115716, 2622.7012802332215, 2079.7451083954775, 1372.069154122268, 1269.2051895952377, 1215.7098629177426, 1040.321434390862, 973.9066219323563, 968.9613979143593, 936.1379225912356, 895.6803978321328, 810.2869237135357, 739.5751483640161, 562.2313707218211, 538.294336479824, 525.2802431310266, 514.3581148750343, 513.1368497432976, 505.76633817702043, 497.80807810913217, 492.7701576014587, 492.39663065974855, 486.37902658124216, 484.9080307934382, 471.7605555456564, 468.8131688630812, 463.42084938075476, 424.9148402452946, 370.77294724595333, 358.99111594970935, 330.14550760998515, 507.2060754603761, 764.5132991776699, 10120.764876290434, 3259.0898235108934, 959.7541877327574, 791.6214956358737, 761.9872534890169, 1691.5762020079171, 4130.778624630798, 10269.08308318243, 6635.243820780953, 3875.3782075667227, 1584.1278826355363, 1393.9666972179089, 3980.5852093531266, 3316.095214426689, 2942.8005506213726, 5607.93574848322, 3687.9082652104394, 6094.50355994915, 3477.630964342809, 4203.037491367308, 15164.223264778539, 77420.16923886865, 20737.54600728565, 10479.766271681801, 117597.16805299427, 3658.5715617835676, 27022.52027911395, 7731.638332358766, 58624.45067148641, 9350.804202559975, 43077.725165863245, 19078.285857036015, 28572.109369666963, 25731.202891966775, 22321.055859200038, 5946.135036686261, 28342.45159166031, 36816.13443244403, 19255.693507263066, 34518.116838328715, 1538.7909500087312, 966.7155007147221, 797.9069908247925, 716.1955977952188, 695.9468910889201, 727.8003890060083, 666.84278847331, 649.3687156887876, 570.4860798863743, 515.3953976122958, 509.7379436245048, 507.5400824257665, 496.4545746877768, 476.07218000919033, 471.2686177463225, 460.98369447240856, 449.79055739750237, 392.07800468465734, 377.3113219881324, 345.11964901280953, 338.5639692065377, 307.38132424334106, 292.3253038117567, 287.4427901290777, 286.97259614381085, 283.987728350849, 276.48721207749173, 275.51068405536546, 270.0542912326953, 269.5501704041033, 1114.6020996260222, 1343.8957858050844, 618.9975139824854, 946.3809820373618, 349.3031810398938, 418.01769474538844, 1547.6551696126405, 2375.611381575431, 1542.7846512049202, 525.5913396163611, 1911.9009651776635, 510.7785727562474, 2016.7477304113927, 2770.608701705014, 1502.5204049318581, 2184.964388109502, 1424.9059617124087, 3188.3137417869725, 2186.2382155438386, 6689.577994973591, 1206.746482050942, 3091.326742086109, 9355.195364718526, 1519.3812756097068, 4294.512378804144, 5434.3243406540105, 6502.27227051356, 5095.1353287512875, 11243.02821371943, 3901.904513821473, 5482.209587615614, 77420.16923886865, 117597.16805299427, 8232.693305158664, 7843.821795644045, 6817.496156089001, 13075.416329804011, 5176.969440778666, 6828.76477298616, 6326.503977028383, 23142.633936440838, 35167.570681581536, 20737.54600728565, 18807.99736288872, 36816.13443244403, 39802.34392248632, 27022.52027911395, 1009.9901416443179, 725.1665980867507, 698.1526804239088, 612.4899829747342, 517.9569777761086, 498.43086040182254, 493.4137280652383, 487.1799523031829, 435.2646465663329, 422.1531098801141, 421.5848847249959, 384.69996912963353, 356.46650455245606, 351.8234684050973, 340.2977328788377, 327.75207343302833, 327.6220180053995, 317.9753500123851, 286.38654546581716, 283.02561354296023, 275.8227876082196, 269.25508402592004, 255.54632684353228, 248.63240752907546, 247.12466466342678, 245.79955455704098, 235.77830168505614, 228.74385311460907, 220.0698275729865, 212.7192938962581, 491.4193859343417, 1713.1418547652283, 848.1185034739624, 544.3735424482979, 570.2342955402909, 989.113037598717, 379.6067788796834, 1666.5458341932215, 2104.5740364740095, 3287.060978540935, 2414.9977873388816, 1121.2285810304752, 2126.6572553159267, 636.7372345354609, 850.392200441236, 1930.3990613510841, 1267.1755700480528, 3755.455504912174, 578.6625415577754, 1149.7647649002909, 1861.4394546936956, 3791.2800794455234, 1285.1479965275958, 3736.157007413854, 5980.765366324184, 1777.2568408364777, 5659.573565493221, 3402.595791108294, 1422.7806837594453, 1164.9936204691662, 3069.362144773427, 1727.679211368256, 16214.666821627905, 2888.1279030657047, 2343.1640096781452, 12531.918956311285, 6689.577994973591, 14172.634980457562, 27374.507672275096, 9873.513547614482, 5650.564191090342, 2616.859981693434, 6769.249356417558, 10191.290126921813, 77420.16923886865, 9220.048112065759, 4289.691073093051, 2064.8031677405515, 1782.203384338519, 814.2011813785024, 511.9881248652602, 481.0402839671403, 452.61392397085456, 432.5348873829975, 430.2540043206674, 348.50929155112266, 339.0826996491695, 306.5143293804791, 285.52920018569324, 282.8038607507408, 266.79515087986056, 246.5608268614906, 246.53383973637202, 243.8128509976244, 238.76856931459676, 223.413879772214, 222.77620376567745, 220.95443827885364, 203.93680793469204, 203.63553347842944, 203.18771869492423, 198.95415637749068, 194.45489823971272, 191.9862750848881, 191.53503770935606, 186.34815753931753, 8701.442704601786, 307.1032488313687, 887.5640864871766, 1317.0667173811937, 17167.30113334533, 996.0101643604781, 1155.6802474424417, 2371.3467425269046, 7345.0203320084765, 616.3455258975708, 2170.956284632897, 1493.3410945901594, 449.55798463032966, 1389.4468258885981, 2294.4373879855016, 862.3476629972105, 5482.209587615614, 7144.644564448298, 1875.0778985463073, 1168.9995767565886, 923.3225543454488, 2183.1308139636353, 12531.918956311285, 1498.026455094531, 25731.202891966775, 21574.081139574388, 2590.975400774003, 20493.988167573858, 1894.2652958302974, 35167.570681581536, 8852.49969565422, 13075.416329804011, 9350.804202559975, 6115.139220162401, 1961.8586189685668, 1607.745123897516, 1308.9369831266692, 883.0858613707948, 737.4646324453214, 628.3152199101899, 390.2648968326929, 332.7513928212008, 330.334799291529, 291.20963493180267, 288.3982545526336, 248.3643252138909, 243.38968017018263, 242.72486847196984, 231.7660293606027, 227.48895130842862, 219.64401969171217, 216.26962959025917, 192.08974572962273, 183.34025569241547, 183.06687343970128, 181.8329727468961, 174.69667602213553, 171.73695659371484, 171.52484617489515, 169.37993162797386, 163.0207209924874, 161.31571754731004, 154.97743964048033, 1269.8482053137097, 1109.401244536961, 322.2046670944568, 1003.0310296353257, 2785.3618119251105, 1408.6969308585376, 1029.4048263519453, 2563.1854449148777, 398.85868019204133, 5136.558642472815, 5434.3243406540105, 9350.804202559975, 1544.1671455253556, 525.9352552578664, 437.56522063851077, 361.52793386386304, 2625.3648900051276, 4389.899612433269, 34464.81073471985, 4380.12509354549, 1611.4106391664834, 1083.3079074951008, 2698.7275934638833, 3980.5852093531266, 803.5963151742133, 2339.426052501992, 21574.081139574388, 25731.202891966775, 1282.4199232197839]}, \"plot.opts\": {\"xlab\": \"PC1\", \"ylab\": \"PC2\"}};\n",
       "\n",
       "function LDAvis_load_lib(url, callback){\n",
       "  var s = document.createElement('script');\n",
       "  s.src = url;\n",
       "  s.async = true;\n",
       "  s.onreadystatechange = s.onload = callback;\n",
       "  s.onerror = function(){console.warn(\"failed to load library \" + url);};\n",
       "  document.getElementsByTagName(\"head\")[0].appendChild(s);\n",
       "}\n",
       "\n",
       "if(typeof(LDAvis) !== \"undefined\"){\n",
       "   // already loaded: just create the visualization\n",
       "   !function(LDAvis){\n",
       "       new LDAvis(\"#\" + \"ldavis_el55761404852563972326066841973\", ldavis_el55761404852563972326066841973_data);\n",
       "   }(LDAvis);\n",
       "}else if(typeof define === \"function\" && define.amd){\n",
       "   // require.js is available: use it to load d3/LDAvis\n",
       "   require.config({paths: {d3: \"https://cdnjs.cloudflare.com/ajax/libs/d3/3.5.5/d3.min\"}});\n",
       "   require([\"d3\"], function(d3){\n",
       "      window.d3 = d3;\n",
       "      LDAvis_load_lib(\"https://cdn.rawgit.com/bmabey/pyLDAvis/files/ldavis.v1.0.0.js\", function(){\n",
       "        new LDAvis(\"#\" + \"ldavis_el55761404852563972326066841973\", ldavis_el55761404852563972326066841973_data);\n",
       "      });\n",
       "    });\n",
       "}else{\n",
       "    // require.js not available: dynamically load d3 & LDAvis\n",
       "    LDAvis_load_lib(\"https://cdnjs.cloudflare.com/ajax/libs/d3/3.5.5/d3.min.js\", function(){\n",
       "         LDAvis_load_lib(\"https://cdn.rawgit.com/bmabey/pyLDAvis/files/ldavis.v1.0.0.js\", function(){\n",
       "                 new LDAvis(\"#\" + \"ldavis_el55761404852563972326066841973\", ldavis_el55761404852563972326066841973_data);\n",
       "            })\n",
       "         });\n",
       "}\n",
       "</script>"
      ],
      "text/plain": [
       "PreparedData(topic_coordinates=            Freq  cluster  topics         x         y\n",
       "topic                                                \n",
       "7      23.229039        1       1 -0.171393 -0.072551\n",
       "1      17.853277        1       2 -0.104342 -0.039334\n",
       "6      14.337650        1       3 -0.131430 -0.068470\n",
       "2       9.813486        1       4 -0.114831 -0.152337\n",
       "0       9.001900        1       5 -0.061349  0.180148\n",
       "4       8.869535        1       6 -0.066593  0.014514\n",
       "9       6.547729        1       7  0.021681 -0.046241\n",
       "5       5.514383        1       8  0.065077  0.330086\n",
       "3       2.801966        1       9  0.206079 -0.003837\n",
       "8       2.031033        1      10  0.357102 -0.141977, topic_info=      Category           Freq         Term          Total  loglift  logprob\n",
       "term                                                                       \n",
       "30986  Default  117597.000000         film  117597.000000  30.0000  30.0000\n",
       "52127  Default   17167.000000         show   17167.000000  29.0000  29.0000\n",
       "23981  Default   34464.000000        story   34464.000000  28.0000  28.0000\n",
       "42329  Default    8701.000000       series    8701.000000  27.0000  27.0000\n",
       "45938  Default   26991.000000          bad   26991.000000  26.0000  26.0000\n",
       "40852  Default   27033.000000        great   27033.000000  25.0000  25.0000\n",
       "32830  Default    6115.000000         book    6115.000000  24.0000  24.0000\n",
       "13429  Default   10120.000000       horror   10120.000000  23.0000  23.0000\n",
       "26325  Default   43077.000000         good   43077.000000  22.0000  22.0000\n",
       "24062  Default    9350.000000     original    9350.000000  21.0000  21.0000\n",
       "30847  Default    7345.000000           tv    7345.000000  20.0000  20.0000\n",
       "34421  Default   17887.000000       acting   17887.000000  19.0000  19.0000\n",
       "33763  Default   12942.000000        funny   12942.000000  18.0000  18.0000\n",
       "29866  Default   21574.000000   characters   21574.000000  17.0000  17.0000\n",
       "10427  Default   34518.000000       really   34518.000000  16.0000  16.0000\n",
       "15425  Default   58624.000000         like   58624.000000  15.0000  15.0000\n",
       "2698   Default    5136.000000         read    5136.000000  14.0000  14.0000\n",
       "24881  Default    4289.000000      episode    4289.000000  13.0000  13.0000\n",
       "3613   Default   27675.000000       people   27675.000000  12.0000  12.0000\n",
       "3015   Default   33595.000000          see   33595.000000  11.0000  11.0000\n",
       "48280  Default    8232.000000  performance    8232.000000  10.0000  10.0000\n",
       "30024  Default   20948.000000        think   20948.000000   9.0000   9.0000\n",
       "19312  Default   39802.000000        would   39802.000000   8.0000   8.0000\n",
       "2782   Default   19681.000000        watch   19681.000000   7.0000   7.0000\n",
       "24745  Default   18807.000000         best   18807.000000   6.0000   6.0000\n",
       "2516   Default    5434.000000      version    5434.000000   5.0000   5.0000\n",
       "2453   Default   10269.000000       action   10269.000000   4.0000   4.0000\n",
       "5989   Default   18347.000000         love   18347.000000   3.0000   3.0000\n",
       "18106  Default   20737.000000        films   20737.000000   2.0000   2.0000\n",
       "55427  Default   22321.000000       movies   22321.000000   1.0000   1.0000\n",
       "...        ...            ...          ...            ...      ...      ...\n",
       "34288  Topic10     154.082619      taliban     154.977440   3.8908  -7.0265\n",
       "44365  Topic10    1259.873369     animated    1269.848205   3.8887  -4.9252\n",
       "38873  Topic10     969.855425       prince    1109.401245   3.7622  -5.1868\n",
       "38030  Topic10     301.439721        bloom     322.204667   3.8300  -6.3554\n",
       "49215  Topic10     829.748051   adaptation    1003.031030   3.7070  -5.3429\n",
       "51455  Topic10    1974.167957        novel    2785.361812   3.5524  -4.4761\n",
       "17467  Topic10    1027.655165        robin    1408.696931   3.5812  -5.1289\n",
       "42364  Topic10     728.242569        eddie    1029.404826   3.5505  -5.4733\n",
       "8738   Topic10    1441.053929         king    2563.185445   3.3207  -4.7908\n",
       "53936  Topic10     335.202068         lion     398.858680   3.7228  -6.2492\n",
       "2698   Topic10    2062.665760         read    5136.558642   2.9842  -4.4322\n",
       "2516   Topic10    2022.608394      version    5434.324341   2.9083  -4.4518\n",
       "24062  Topic10    2806.543956     original    9350.804203   2.6931  -4.1243\n",
       "26208  Topic10     719.611973      cartoon    1544.167146   3.1331  -5.4853\n",
       "18211  Topic10     372.561645     princess     525.935255   3.5518  -6.1436\n",
       "35282  Topic10     328.090987     baseball     437.565221   3.6087  -6.2707\n",
       "24022  Topic10     291.872855    dinosaurs     361.527934   3.6826  -6.3877\n",
       "32155  Topic10     725.872690        voice    2625.364890   2.6110  -5.4766\n",
       "16117  Topic10     907.369452     children    4389.899612   2.3201  -5.2534\n",
       "23981  Topic10    2280.815525        story   34464.810735   1.1812  -4.3317\n",
       "28686  Topic10     828.177340        based    4380.125094   2.2310  -5.3448\n",
       "40044  Topic10     538.595853      fantasy    1611.410639   2.8007  -5.7750\n",
       "8976   Topic10     453.640668     williams    1083.307907   3.0262  -5.9467\n",
       "25274  Topic10     608.732435       sequel    2698.727593   2.4075  -5.6526\n",
       "45261  Topic10     623.553849         game    3980.585209   2.0429  -5.6285\n",
       "50434  Topic10     393.359382        beast     803.596315   3.1823  -6.0893\n",
       "53502  Topic10     480.145656        comic    2339.426053   2.3131  -5.8899\n",
       "29866  Topic10     676.627974   characters   21574.081140   0.4345  -5.5469\n",
       "35265  Topic10     557.706926        first   25731.202892   0.0650  -5.7401\n",
       "40638  Topic10     405.197980        magic    1282.419923   2.7445  -6.0596\n",
       "\n",
       "[801 rows x 6 columns], token_table=       Topic      Freq         Term\n",
       "term                               \n",
       "18483      1  0.996544         1/10\n",
       "39391      6  0.997847         13th\n",
       "1409       2  0.020040        1930s\n",
       "1409       7  0.976229        1930s\n",
       "46485      7  0.997251         1940\n",
       "10951      1  0.996178         2/10\n",
       "7181      10  0.997014          3-d\n",
       "6170       2  0.994569         9/11\n",
       "35285      8  0.996748       abbott\n",
       "47838      9  0.996879          abc\n",
       "50380      1  0.997338  abomination\n",
       "34421      1  0.683532       acting\n",
       "34421      2  0.000224       acting\n",
       "34421      3  0.015206       acting\n",
       "34421      4  0.284269       acting\n",
       "34421      6  0.016715       acting\n",
       "34421      7  0.000056       acting\n",
       "2453       1  0.101372       action\n",
       "2453       2  0.009738       action\n",
       "2453       3  0.007206       action\n",
       "2453       4  0.215696       action\n",
       "2453       6  0.583986       action\n",
       "2453       8  0.081896       action\n",
       "52513      1  0.268037        actor\n",
       "52513      3  0.057615        actor\n",
       "52513      4  0.490200        actor\n",
       "52513      7  0.177699        actor\n",
       "52513      9  0.006263        actor\n",
       "6250       1  0.489710       actors\n",
       "6250       2  0.010225       actors\n",
       "...      ...       ...          ...\n",
       "21835      7  0.136822        years\n",
       "21835      8  0.007495        years\n",
       "21835      9  0.051318        years\n",
       "21835     10  0.006271        years\n",
       "55040      1  0.176391          yet\n",
       "55040      2  0.385473          yet\n",
       "55040      3  0.123121          yet\n",
       "55040      4  0.163338          yet\n",
       "55040      5  0.050330          yet\n",
       "55040      6  0.072203          yet\n",
       "55040      7  0.014582          yet\n",
       "55040      8  0.001176          yet\n",
       "55040      9  0.013053          yet\n",
       "55040     10  0.000235          yet\n",
       "17318      2  0.021339         york\n",
       "17318      3  0.105413         york\n",
       "17318      4  0.282951         york\n",
       "17318      5  0.133153         york\n",
       "17318      7  0.047372         york\n",
       "17318      8  0.409702         york\n",
       "37750      2  0.220331        young\n",
       "37750      3  0.118314        young\n",
       "37750      4  0.073569        young\n",
       "37750      5  0.496239        young\n",
       "37750      6  0.000188        young\n",
       "37750      7  0.088358        young\n",
       "37750      8  0.003014        young\n",
       "15825      3  0.995251        zohan\n",
       "32263      6  0.999221       zombie\n",
       "56187      6  0.998730      zombies\n",
       "\n",
       "[2269 rows x 3 columns], R=30, lambda_step=0.01, plot_opts={'xlab': 'PC1', 'ylab': 'PC2'}, topic_order=[8, 2, 7, 3, 1, 5, 10, 6, 4, 9])"
      ]
     },
     "execution_count": 50,
     "metadata": {},
     "output_type": "execute_result"
    }
   ],
   "source": [
    "import pyLDAvis\n",
    "import pyLDAvis.gensim\n",
    "pyLDAvis.enable_notebook()\n",
    "pyLDAvis.gensim.prepare(lda_tf, corpus_tf, dictionary)"
   ]
  },
  {
   "cell_type": "markdown",
   "metadata": {},
   "source": [
    "Making predictions with LDA vectors (we'll have to use only the labeled sentences):"
   ]
  },
  {
   "cell_type": "code",
   "execution_count": 27,
   "metadata": {
    "collapsed": false
   },
   "outputs": [
    {
     "name": "stdout",
     "output_type": "stream",
     "text": [
      "Creating lda vectors\n",
      "lda vectors done\n"
     ]
    }
   ],
   "source": [
    "#For predictions we need only the labeled set:\n",
    "print(\"Creating Corpora for predictions\")\n",
    "corpus_tf2 = [dictionary.doc2bow(sentence) for sentence in labeled_sentences]\n",
    "print('corpus tf done')\n",
    "\n",
    "lda_tf2 = models.LdaModel(corpus_tf2, id2word=dictionary, num_topics=10, passes=10)\n",
    "corpus_lda_tf2 = lda_tf2[corpus_tf2]\n",
    "print('corpus lda tf done')\n",
    "\n",
    "print('Creating lda vectors')\n",
    "X = gensim.matutils.corpus2csc(corpus_lda_tf2)\n",
    "X = X.T\n",
    "print('lda vectors done')"
   ]
  },
  {
   "cell_type": "code",
   "execution_count": 28,
   "metadata": {
    "collapsed": false
   },
   "outputs": [
    {
     "data": {
      "text/plain": [
       "matrix([[ 0.01896492,  0.        ,  0.04325159,  0.        ,  0.        ,\n",
       "          0.10360744,  0.3827466 ,  0.        ,  0.32292411,  0.12661805]])"
      ]
     },
     "execution_count": 28,
     "metadata": {},
     "output_type": "execute_result"
    }
   ],
   "source": [
    "X[0].todense()"
   ]
  },
  {
   "cell_type": "markdown",
   "metadata": {},
   "source": [
    "Saving the Sentences, Model and the Corpus"
   ]
  },
  {
   "cell_type": "code",
   "execution_count": 53,
   "metadata": {
    "collapsed": true
   },
   "outputs": [],
   "source": [
    "lda_tf2.save(os.path.join(outputs, 'model_tf2.lda'))\n",
    "corpora.MmCorpus.serialize(os.path.join(outputs, 'corpus_lda_tf2.mm'), corpus_lda_tf2)"
   ]
  },
  {
   "cell_type": "markdown",
   "metadata": {},
   "source": [
    "Loading the Sentences, Model and the Corpus"
   ]
  },
  {
   "cell_type": "code",
   "execution_count": 25,
   "metadata": {
    "collapsed": true
   },
   "outputs": [],
   "source": [
    "lda_tf2 = models.LdaModel.load(os.path.join(outputs, 'model_tf2.lda'))\n",
    "corpus_lda_tf2 = corpora.MmCorpus(os.path.join(outputs, 'corpus_lda_tf2.mm'))"
   ]
  },
  {
   "cell_type": "code",
   "execution_count": 29,
   "metadata": {
    "collapsed": false
   },
   "outputs": [],
   "source": [
    "X_traincv_tf, X_testcv_tf, y_traincv_tf, y_testcv_tf = train_test_split(X,\n",
    "                                                                        train[\"sentiment\"],\n",
    "                                                                        test_size=0.2,\n",
    "                                                                        random_state=0)"
   ]
  },
  {
   "cell_type": "code",
   "execution_count": 30,
   "metadata": {
    "collapsed": false
   },
   "outputs": [],
   "source": [
    "from sklearn.linear_model import LogisticRegression as LR\n",
    "\n",
    "clf_LR_tf_lda = LR(penalty='l2',\n",
    "                   dual=False,\n",
    "                   tol=0.0001,\n",
    "                   C=1.0,\n",
    "                   fit_intercept=True,\n",
    "                   intercept_scaling=1,\n",
    "                   class_weight=None,\n",
    "                   random_state=0,\n",
    "                   solver='liblinear',\n",
    "                   max_iter=100,\n",
    "                   multi_class='ovr',\n",
    "                   verbose=0).fit(X_traincv_tf, y_traincv_tf)"
   ]
  },
  {
   "cell_type": "code",
   "execution_count": 31,
   "metadata": {
    "collapsed": false
   },
   "outputs": [
    {
     "name": "stdout",
     "output_type": "stream",
     "text": [
      "0.8108\n"
     ]
    }
   ],
   "source": [
    "eval_LR_tf_lda = clf_LR_tf_lda.score(X_testcv_tf, y_testcv_tf)\n",
    "print(eval_LR_tf_lda)"
   ]
  },
  {
   "cell_type": "markdown",
   "metadata": {},
   "source": [
    "### Distributed Word Vectors\n",
    "\n",
    "https://www.kaggle.com/c/word2vec-nlp-tutorial/details/part-2-word-vectors  \n",
    "\n",
    "Introducing Distributed Word Vectors: This part of the tutorial will focus on using distributed word vectors created by the Word2Vec algorithm, using the Gensim implementation.  \n",
    "\n",
    "https://radimrehurek.com/gensim/models/word2vec.html  \n",
    "\n",
    "Word2vec, published by Google in 2013, is a neural network implementation that learns distributed representations for words. Other deep or recurrent neural network architectures had been proposed for learning word representations prior to this, but the major problem with these was the long time required to train the models. Word2vec learns quickly relative to other models.\n",
    "\n",
    "Word2Vec does not need labels in order to create meaningful representations. This is useful, since most data in the real world is unlabeled. If the network is given enough training data (tens of billions of words), it produces word vectors with intriguing characteristics. Words with similar meanings appear in clusters, and clusters are spaced such that some word relationships, such as analogies, can be reproduced using vector math. The famous example is that, with highly trained word vectors, \"king - man + woman = queen.\"\n",
    "\n",
    "Distributed word vectors are powerful and can be used for many applications, particularly word prediction and translation. Here, we will try to apply them to sentiment analysis.\n",
    "\n",
    "Using word2vec in Python: In Python, we will use the excellent implementation of word2vec from the gensim package. If you don't already have gensim installed, you'll need to install it. There is an excellent tutorial that accompanies the Python Word2Vec implementation, here.\n",
    "\n",
    "Although Word2Vec does not require graphics processing units (GPUs) like many deep learning algorithms, it is compute intensive. Both Google's version and the Python version rely on multi-threading (running multiple processes in parallel on your computer to save time). ln order to train your model in a reasonable amount of time, you will need to install cython (instructions here). Word2Vec will run without cython installed, but it will take days to run instead of minutes. "
   ]
  },
  {
   "cell_type": "markdown",
   "metadata": {},
   "source": [
    "#### Preparing to Train a Model\n",
    "\n",
    "We are going to use the whole set of sentences for training, the labeled and the unlabeled, which contains 50,000 additional reviews with no labels. When we built the Bag of Words model in Part 1, extra unlabeled training reviews were not useful. However, since Word2Vec can learn from unlabeled data, these extra 50,000 reviews can now be used.  \n",
    "\n",
    "To train Word2Vec it is better not to remove stop words because the algorithm relies on the broader context of the sentence in order to produce high-quality word vectors."
   ]
  },
  {
   "cell_type": "markdown",
   "metadata": {},
   "source": [
    "#### Training and Saving Your Model  \n",
    "\n",
    "With the list of nicely parsed sentences, we're ready to train the model. There are a number of parameter choices that affect the run time and the quality of the final model that is produced. For details on the algorithms below, see the word2vec API documentation as well as the Google documentation. \n",
    "\n",
    "Architecture: Architecture options are skip-gram (default) or continuous bag of words. We found that skip-gram was very slightly slower but produced better results.\n",
    "\n",
    "Training algorithm: Hierarchical softmax (default) or negative sampling. For us, the default worked well.\n",
    "\n",
    "Downsampling of frequent words: The Google documentation recommends values between .00001 and .001. For us, values closer 0.001 seemed to improve the accuracy of the final model.\n",
    "\n",
    "Word vector dimensionality: More features result in longer runtimes, and often, but not always, result in better models. Reasonable values can be in the tens to hundreds; we used 300.\n",
    "\n",
    "Context / window size: How many words of context should the training algorithm take into account? 10 seems to work well for hierarchical softmax (more is better, up to a point).\n",
    "\n",
    "Worker threads: Number of parallel processes to run. This is computer-specific, but between 4 and 6 should work on most systems.\n",
    "\n",
    "Minimum word count: This helps limit the size of the vocabulary to meaningful words. Any word that does not occur at least this many times across all documents is ignored. Reasonable values could be between 10 and 100. In this case, since each movie occurs 30 times, we set the minimum word count to 40, to avoid attaching too much importance to individual movie titles. This resulted in an overall vocabulary size of around 15,000 words. Higher values also help limit run time.\n",
    "\n",
    "Choosing parameters is not easy, but once we have chosen our parameters, creating a Word2Vec model is straightforward:"
   ]
  },
  {
   "cell_type": "code",
   "execution_count": 33,
   "metadata": {
    "collapsed": true
   },
   "outputs": [],
   "source": [
    "# Import the built-in logging module and configure it so that Word2Vec creates nice output messages\n",
    "logging.basicConfig(format='%(asctime)s : %(levelname)s : %(message)s', level=logging.INFO)"
   ]
  },
  {
   "cell_type": "code",
   "execution_count": 60,
   "metadata": {
    "collapsed": true
   },
   "outputs": [],
   "source": [
    "num_features = 300    # Word vector dimensionality\n",
    "min_word_count = 5   # Minimum word count\n",
    "num_workers = -1       # Number of threads to run in parallel\n",
    "context = 10          # Context window size\n",
    "downsampling = 1e-5   # Downsample setting for frequent words"
   ]
  },
  {
   "cell_type": "code",
   "execution_count": 61,
   "metadata": {
    "collapsed": false
   },
   "outputs": [],
   "source": [
    "# Initialize and train the model (this will take some time)\n",
    "model = Word2Vec(all_sentences_sw,\n",
    "                 workers = num_workers,\n",
    "                 size = num_features,\n",
    "                 min_count = min_word_count, \n",
    "                 window = context,\n",
    "                 sample = downsampling,\n",
    "                 seed=1,)"
   ]
  },
  {
   "cell_type": "code",
   "execution_count": 55,
   "metadata": {
    "collapsed": true
   },
   "outputs": [],
   "source": [
    "##Optionally converting the model for Bigrams (to capture more context):\n",
    "bigram_transformer = gensim.models.Phrases(all_sentences_sw)\n",
    "model = Word2Vec(bigram_transformer[all_sentences_sw],\n",
    "                 workers = num_workers,\n",
    "                 size = num_features,\n",
    "                 min_count = min_word_count, \n",
    "                 window = context,\n",
    "                 sample = downsampling,\n",
    "                 seed=1,)"
   ]
  },
  {
   "cell_type": "code",
   "execution_count": 63,
   "metadata": {
    "collapsed": true
   },
   "outputs": [],
   "source": [
    "# If you don't plan to train the model any further, calling init_sims will make the model much more memory-efficient.\n",
    "model.init_sims(replace=True)"
   ]
  },
  {
   "cell_type": "markdown",
   "metadata": {},
   "source": [
    "Saving the Model"
   ]
  },
  {
   "cell_type": "code",
   "execution_count": 64,
   "metadata": {
    "collapsed": true
   },
   "outputs": [],
   "source": [
    "model_name = \"{}features_{}minwords_{}context\".format(num_features, min_word_count, context)\n",
    "model.save(os.path.join(outputs,model_name))\n",
    "model = Word2Vec.load(os.path.join(outputs,model_name))"
   ]
  },
  {
   "cell_type": "markdown",
   "metadata": {},
   "source": [
    "Exploring the Model Results\n",
    "\n",
    "Congratulations on making it successfully through everything so far! Let's take a look at the model we created out of our 75,000 training reviews.\n",
    "\n",
    "The \"doesnt_match\" function will try to deduce which word in a set is most dissimilar from the others:"
   ]
  },
  {
   "cell_type": "code",
   "execution_count": 62,
   "metadata": {
    "collapsed": false
   },
   "outputs": [
    {
     "name": "stdout",
     "output_type": "stream",
     "text": [
      "starship\n",
      "daughter\n",
      "england\n",
      "[('arc', 0.23729783296585083), ('milking', 0.21906495094299316), ('story.if', 0.2168010026216507), ('nidia', 0.21602632105350494), ('cinecitta', 0.21124885976314545), ('roc', 0.2045246660709381), ('guerilla', 0.20118668675422668), ('subzero', 0.20115667581558228), ('snuck', 0.20055042207241058), ('cathedrals', 0.19973723590373993)]\n",
      "[('shinoda', 0.23928317427635193), ('affluence', 0.2363918125629425), ('jell', 0.23341681063175201), ('achieved', 0.23074406385421753), ('nikita', 0.21294328570365906), ('bunuel', 0.2100229561328888), ('gallagher', 0.208898663520813), ('cocky', 0.20569762587547302), ('dodie', 0.2034970223903656), ('nato', 0.20246535539627075)]\n",
      "[('deneuve', 0.2524747848510742), ('gators', 0.22563475370407104), ('sleaziness', 0.21868905425071716), ('abundantly', 0.21673744916915894), ('located', 0.21401284635066986), ('leads', 0.21312116086483002), ('that.for', 0.2130611389875412), ('colizzi', 0.21241071820259094), ('books', 0.21183273196220398), ('cruiserweight', 0.20901650190353394)]\n"
     ]
    }
   ],
   "source": [
    "print(model.doesnt_match(\"captain onion starship alien\".split()))\n",
    "print(model.doesnt_match(\"father mother son daughter film\".split()))\n",
    "print(model.doesnt_match(\"france england germany berlin\".split()))\n",
    "print(model.most_similar(\"man\"))\n",
    "print(model.most_similar(\"queen\"))\n",
    "print(model.most_similar(\"awful\"))"
   ]
  },
  {
   "cell_type": "markdown",
   "metadata": {},
   "source": [
    "So it seems we have a reasonably good model for semantic meaning - at least as good as Bag of Words. But how can we use these fancy distributed word vectors for supervised learning? The next section takes a stab at that."
   ]
  },
  {
   "cell_type": "markdown",
   "metadata": {},
   "source": [
    "Part 3: More Fun With Word Vectors\n",
    "--\n",
    "\n",
    "https://www.kaggle.com/c/word2vec-nlp-tutorial/details/part-3-more-fun-with-word-vectors  \n",
    "\n",
    "Numeric Representations of Words\n",
    "\n",
    "Now that we have a trained model with some semantic understanding of words, how should we use it? If you look beneath the hood, the Word2Vec model trained in Part 2 consists of a feature vector for each word in the vocabulary, stored in a numpy array called \"syn0\":"
   ]
  },
  {
   "cell_type": "code",
   "execution_count": 65,
   "metadata": {
    "collapsed": true
   },
   "outputs": [],
   "source": [
    "model = Word2Vec.load(os.path.join(outputs,model_name))"
   ]
  },
  {
   "cell_type": "code",
   "execution_count": 66,
   "metadata": {
    "collapsed": false
   },
   "outputs": [
    {
     "data": {
      "text/plain": [
       "(52835, 300)"
      ]
     },
     "execution_count": 66,
     "metadata": {},
     "output_type": "execute_result"
    }
   ],
   "source": [
    "model.syn0.shape"
   ]
  },
  {
   "cell_type": "markdown",
   "metadata": {},
   "source": [
    "The number of rows in syn0 is the number of words in the model's vocabulary, and the number of columns corresponds to the size of the feature vector, which we set in Part 2.  Setting the minimum word count to 40 gave us a total vocabulary of 16,492 words with 300 features apiece. Individual word vectors can be accessed in the following way:"
   ]
  },
  {
   "cell_type": "code",
   "execution_count": 67,
   "metadata": {
    "collapsed": false
   },
   "outputs": [
    {
     "data": {
      "text/plain": [
       "array([ 0.04955623, -0.05314142,  0.01763536, -0.04026343,  0.03616985,\n",
       "        0.04666306,  0.03231314,  0.03189966,  0.0827719 ,  0.02315803], dtype=float32)"
      ]
     },
     "execution_count": 67,
     "metadata": {},
     "output_type": "execute_result"
    }
   ],
   "source": [
    "model[\"flower\"][0:10]"
   ]
  },
  {
   "cell_type": "code",
   "execution_count": 68,
   "metadata": {
    "collapsed": false
   },
   "outputs": [
    {
     "data": {
      "text/plain": [
       "['the', 'and', 'of', 'to', 'is', 'it', 'in', 'this', 'that', 'was']"
      ]
     },
     "execution_count": 68,
     "metadata": {},
     "output_type": "execute_result"
    }
   ],
   "source": [
    "model.index2word[0:10]"
   ]
  },
  {
   "cell_type": "markdown",
   "metadata": {},
   "source": [
    "From Words To Paragraphs, \n",
    "--\n",
    "Attempt 1:  Vector Averaging  \n",
    "--\n",
    "\n",
    "One challenge with the IMDB dataset is the variable-length reviews. We need to find a way to take individual word vectors and transform them into a feature set that is the same length for every review.\n",
    "\n",
    "Since each word is a vector in 300-dimensional space, we can use vector operations to combine the words in each review. One method we tried was to simply average the word vectors in a given review (for this purpose, we removed stop words, which would just add noise).\n",
    "\n",
    "The following code averages the feature vectors, building on our code from Part 2. "
   ]
  },
  {
   "cell_type": "code",
   "execution_count": 69,
   "metadata": {
    "collapsed": true
   },
   "outputs": [],
   "source": [
    "def makeFeatureVec(words, model, num_features):\n",
    "    # Function to average all of the word vectors in a given paragraph\n",
    "    # Pre-initialize an empty numpy array (for speed)\n",
    "    featureVec = np.zeros((num_features,),dtype=\"float32\")\n",
    "    nwords = 0.\n",
    "    # Index2word is a list that contains the names of the words in the model's vocabulary. \n",
    "    #Convert it to a set, for speed\n",
    "    index2word_set = set(model.index2word)\n",
    "    # Loop over each word in the review and, if it is in the model's\n",
    "    # vocabulary, add its feature vector to the total\n",
    "    for word in words:\n",
    "        if word in index2word_set:\n",
    "            nwords = nwords + 1.\n",
    "            featureVec = np.add(featureVec,model[word])\n",
    "    # Divide the result by the number of words to get the average\n",
    "    featureVec = np.divide(featureVec,nwords)\n",
    "    return featureVec"
   ]
  },
  {
   "cell_type": "code",
   "execution_count": 70,
   "metadata": {
    "collapsed": true
   },
   "outputs": [],
   "source": [
    "def getAvgFeatureVecs(reviews, model, num_features):\n",
    "    # Given a set of reviews (each one a list of words), calculate\n",
    "    # the average feature vector for each one and return a 2D numpy array\n",
    "    # Initialize a counter\n",
    "    counter = 0.\n",
    "    # Preallocate a 2D numpy array, for speed\n",
    "    reviewFeatureVecs = np.zeros((len(reviews),num_features),dtype=\"float32\")\n",
    "    # Loop through the reviews\n",
    "    for review in reviews:\n",
    "        # Print a status message every 2000th review\n",
    "        if counter%2000. == 0.:\n",
    "            print(\"Review {} of {}\".format(counter, len(reviews)))\n",
    "        #Call the function (defined above) that makes average feature vectors\n",
    "        reviewFeatureVecs[counter] = makeFeatureVec(review, model, num_features)\n",
    "        counter = counter + 1.\n",
    "    return reviewFeatureVecs"
   ]
  },
  {
   "cell_type": "markdown",
   "metadata": {},
   "source": [
    "Now, we can call these functions to create average vectors for each paragraph. The following operations will take a few minutes:  "
   ]
  },
  {
   "cell_type": "code",
   "execution_count": 71,
   "metadata": {
    "collapsed": false
   },
   "outputs": [
    {
     "name": "stdout",
     "output_type": "stream",
     "text": [
      "Review 0.0 of 25000\n",
      "Review 2000.0 of 25000\n",
      "Review 4000.0 of 25000\n",
      "Review 6000.0 of 25000\n",
      "Review 8000.0 of 25000\n",
      "Review 10000.0 of 25000\n",
      "Review 12000.0 of 25000\n",
      "Review 14000.0 of 25000\n",
      "Review 16000.0 of 25000\n",
      "Review 18000.0 of 25000\n",
      "Review 20000.0 of 25000\n",
      "Review 22000.0 of 25000\n",
      "Review 24000.0 of 25000\n"
     ]
    }
   ],
   "source": [
    "# Calculate average feature vectors for training and testing sets, using the functions \n",
    "# we defined above. Notice that we now use stop word removal.\n",
    "trainDataVecs = getAvgFeatureVecs(labeled_sentences_sw, model, num_features)"
   ]
  },
  {
   "cell_type": "code",
   "execution_count": 75,
   "metadata": {
    "collapsed": false
   },
   "outputs": [
    {
     "data": {
      "text/plain": [
       "array([-0.00812569, -0.0110856 , -0.00304324, -0.00014489,  0.00162439,\n",
       "       -0.00699132,  0.00368456, -0.01442842,  0.00281143,  0.01667704], dtype=float32)"
      ]
     },
     "execution_count": 75,
     "metadata": {},
     "output_type": "execute_result"
    }
   ],
   "source": [
    "trainDataVecs[100][0:10]"
   ]
  },
  {
   "cell_type": "markdown",
   "metadata": {},
   "source": [
    "Check for Nan values:  "
   ]
  },
  {
   "cell_type": "code",
   "execution_count": 80,
   "metadata": {
    "collapsed": false
   },
   "outputs": [
    {
     "name": "stdout",
     "output_type": "stream",
     "text": [
      "False\n",
      "True\n",
      "False\n"
     ]
    }
   ],
   "source": [
    "print(np.isnan(testDataVecs).any()) #testando se não há valores que inviabilizam o treinamento\n",
    "print(np.isfinite(testDataVecs).all())"
   ]
  },
  {
   "cell_type": "code",
   "execution_count": 81,
   "metadata": {
    "collapsed": true
   },
   "outputs": [],
   "source": [
    "# If there are Nan values we can use inputer  \n",
    "from sklearn.preprocessing import Imputer\n",
    "trainDataVecs = Imputer().fit_transform(trainDataVecs)"
   ]
  },
  {
   "cell_type": "code",
   "execution_count": 89,
   "metadata": {
    "collapsed": false
   },
   "outputs": [
    {
     "name": "stdout",
     "output_type": "stream",
     "text": [
      "False\n",
      "True\n"
     ]
    }
   ],
   "source": [
    "print(np.isnan(testDataVecs).any()) #testando se não há valores que inviabilizam o treinamento\n",
    "print(np.isfinite(testDataVecs).all())"
   ]
  },
  {
   "cell_type": "markdown",
   "metadata": {},
   "source": [
    "Next, use the average paragraph vectors with the classifiers from Part 1.  \n",
    "Note that, as in Part 1, we can only use the labeled training reviews to train the model. "
   ]
  },
  {
   "cell_type": "code",
   "execution_count": 82,
   "metadata": {
    "collapsed": true
   },
   "outputs": [],
   "source": [
    "X_traincvWV, X_testcvWV, y_traincvWV, y_testcvWV = train_test_split(trainDataVecs,\n",
    "                                                                    train[\"sentiment\"],\n",
    "                                                                    test_size=0.2,\n",
    "                                                                    random_state=0)"
   ]
  },
  {
   "cell_type": "code",
   "execution_count": 83,
   "metadata": {
    "collapsed": false
   },
   "outputs": [
    {
     "name": "stdout",
     "output_type": "stream",
     "text": [
      "0.6974\n"
     ]
    }
   ],
   "source": [
    "# Initialize a Random Forest classifier with 300 trees\n",
    "from sklearn.ensemble import RandomForestClassifier\n",
    "\n",
    "clf_RF_WV = RandomForestClassifier(n_estimators=300, \n",
    "                                   criterion='gini', \n",
    "                                   max_depth=None, \n",
    "                                   min_samples_split=2, \n",
    "                                   min_samples_leaf=1, \n",
    "                                   min_weight_fraction_leaf=0.0, \n",
    "                                   max_features='auto', \n",
    "                                   max_leaf_nodes=None, \n",
    "                                   bootstrap=False, \n",
    "                                   oob_score=False, \n",
    "                                   n_jobs=-1, \n",
    "                                   random_state=None, \n",
    "                                   verbose=0, \n",
    "                                   warm_start=False, \n",
    "                                   class_weight=None).fit(X_traincvWV, y_traincvWV)\n",
    "\n",
    "eval_RF_WV_tts = clf_RF_WV.score(X_testcvWV, y_testcvWV)\n",
    "print(eval_RF_WV_tts)"
   ]
  },
  {
   "cell_type": "code",
   "execution_count": 84,
   "metadata": {
    "collapsed": false
   },
   "outputs": [
    {
     "name": "stdout",
     "output_type": "stream",
     "text": [
      "0.6938\n"
     ]
    }
   ],
   "source": [
    "from sklearn.linear_model import LogisticRegression as LR\n",
    "\n",
    "clf_LR_WV = LR(penalty='l2',\n",
    "               dual=False,\n",
    "               tol=0.0001,\n",
    "               C=1.0,\n",
    "               fit_intercept=True,\n",
    "               intercept_scaling=1,\n",
    "               class_weight=None,\n",
    "               random_state=None,\n",
    "               solver='liblinear',\n",
    "               max_iter=100,\n",
    "               multi_class='ovr',\n",
    "               verbose=0).fit(X_traincvWV, y_traincvWV)\n",
    "\n",
    "eval_LR_WV_tts = clf_LR_WV.score(X_testcvWV, y_testcvWV)\n",
    "print(eval_LR_WV_tts)"
   ]
  },
  {
   "cell_type": "markdown",
   "metadata": {},
   "source": [
    "Creating a Submission  \n",
    "--"
   ]
  },
  {
   "cell_type": "code",
   "execution_count": 99,
   "metadata": {
    "collapsed": false
   },
   "outputs": [
    {
     "name": "stdout",
     "output_type": "stream",
     "text": [
      "Review 0.0 of 25000\n",
      "Review 2000.0 of 25000\n",
      "Review 4000.0 of 25000\n",
      "Review 6000.0 of 25000\n",
      "Review 8000.0 of 25000\n",
      "Review 10000.0 of 25000\n",
      "Review 12000.0 of 25000\n",
      "Review 14000.0 of 25000\n",
      "Review 16000.0 of 25000\n",
      "Review 18000.0 of 25000\n",
      "Review 20000.0 of 25000\n",
      "Review 22000.0 of 25000\n",
      "Review 24000.0 of 25000\n"
     ]
    }
   ],
   "source": [
    "testDataVecs = getAvgFeatureVecs(test_labeled_sentences, model, num_features)"
   ]
  },
  {
   "cell_type": "code",
   "execution_count": 100,
   "metadata": {
    "collapsed": false
   },
   "outputs": [
    {
     "name": "stdout",
     "output_type": "stream",
     "text": [
      "False\n",
      "True\n"
     ]
    }
   ],
   "source": [
    "print(np.isnan(testDataVecs).any()) #testando se não há valores que inviabilizam o treinamento\n",
    "print(np.isfinite(testDataVecs).all())"
   ]
  },
  {
   "cell_type": "code",
   "execution_count": 101,
   "metadata": {
    "collapsed": false
   },
   "outputs": [
    {
     "name": "stdout",
     "output_type": "stream",
     "text": [
      "False\n",
      "True\n"
     ]
    }
   ],
   "source": [
    "from sklearn.preprocessing import Imputer\n",
    "testDataVecs = Imputer().fit_transform(testDataVecs)\n",
    "\n",
    "print(np.isnan(testDataVecs).any()) #testando se não há valores que inviabilizam o treinamento\n",
    "print(np.isfinite(testDataVecs).all())"
   ]
  },
  {
   "cell_type": "code",
   "execution_count": 105,
   "metadata": {
    "collapsed": false
   },
   "outputs": [
    {
     "data": {
      "text/plain": [
       "array([ 0.00588693,  0.00648132,  0.00063225,  0.027399  , -0.0007137 ,\n",
       "        0.00439175, -0.00251994,  0.00624938, -0.00527476,  0.0048684 ], dtype=float32)"
      ]
     },
     "execution_count": 105,
     "metadata": {},
     "output_type": "execute_result"
    }
   ],
   "source": [
    "testDataVecs[0][0:10]"
   ]
  },
  {
   "cell_type": "code",
   "execution_count": 109,
   "metadata": {
    "collapsed": false
   },
   "outputs": [
    {
     "name": "stdout",
     "output_type": "stream",
     "text": [
      "[0 0 1 1 1 0 1 0 1 0]\n",
      "[[ 0.50333333  0.49666667]\n",
      " [ 0.54666667  0.45333333]\n",
      " [ 0.47        0.53      ]\n",
      " [ 0.49666667  0.50333333]\n",
      " [ 0.47        0.53      ]\n",
      " [ 0.5         0.5       ]\n",
      " [ 0.44333333  0.55666667]\n",
      " [ 0.51666667  0.48333333]\n",
      " [ 0.48        0.52      ]\n",
      " [ 0.53        0.47      ]]\n"
     ]
    }
   ],
   "source": [
    "# Use the random forest to make sentiment label predictions\n",
    "result = clf_RF_WV.predict(testDataVecs)\n",
    "result_prob = clf_RF_WV.predict_proba(testDataVecs)\n",
    "print(result[0:10])\n",
    "print(result_prob[0:10])"
   ]
  },
  {
   "cell_type": "code",
   "execution_count": 110,
   "metadata": {
    "collapsed": true
   },
   "outputs": [],
   "source": [
    "output = pd.DataFrame(data={\"id\":test[\"id\"], \"sentiment\":result,})# \"probs\":result_prob[:,1]})\n",
    "# Use pandas to write the comma-separated output file\n",
    "output.to_csv(os.path.join(outputs,'Word2Vec_AverageVectors.csv'), index=False, quoting=3)"
   ]
  },
  {
   "cell_type": "code",
   "execution_count": 111,
   "metadata": {
    "collapsed": false
   },
   "outputs": [
    {
     "data": {
      "text/html": [
       "<div>\n",
       "<table border=\"1\" class=\"dataframe\">\n",
       "  <thead>\n",
       "    <tr style=\"text-align: right;\">\n",
       "      <th></th>\n",
       "      <th>id</th>\n",
       "      <th>sentiment</th>\n",
       "    </tr>\n",
       "  </thead>\n",
       "  <tbody>\n",
       "    <tr>\n",
       "      <th>0</th>\n",
       "      <td>\"12311_10\"</td>\n",
       "      <td>0</td>\n",
       "    </tr>\n",
       "    <tr>\n",
       "      <th>1</th>\n",
       "      <td>\"8348_2\"</td>\n",
       "      <td>0</td>\n",
       "    </tr>\n",
       "    <tr>\n",
       "      <th>2</th>\n",
       "      <td>\"5828_4\"</td>\n",
       "      <td>1</td>\n",
       "    </tr>\n",
       "    <tr>\n",
       "      <th>3</th>\n",
       "      <td>\"7186_2\"</td>\n",
       "      <td>1</td>\n",
       "    </tr>\n",
       "    <tr>\n",
       "      <th>4</th>\n",
       "      <td>\"12128_7\"</td>\n",
       "      <td>1</td>\n",
       "    </tr>\n",
       "  </tbody>\n",
       "</table>\n",
       "</div>"
      ],
      "text/plain": [
       "           id  sentiment\n",
       "0  \"12311_10\"          0\n",
       "1    \"8348_2\"          0\n",
       "2    \"5828_4\"          1\n",
       "3    \"7186_2\"          1\n",
       "4   \"12128_7\"          1"
      ]
     },
     "execution_count": 111,
     "metadata": {},
     "output_type": "execute_result"
    }
   ],
   "source": [
    "output.head()"
   ]
  },
  {
   "cell_type": "markdown",
   "metadata": {},
   "source": [
    "We found that this produced results much better than chance, but underperformed Bag of Words by a few percentage points.\n",
    "\n",
    "Since the element-wise average of the vectors didn't produce spectacular results, perhaps we could do it in a more intelligent way? A standard way of weighting word vectors is to apply \"tf-idf\" weights, which measure how important a given word is within a given set of documents. One way to extract tf-idf weights in Python is by using scikit-learn's TfidfVectorizer, which has an interface similar to the CountVectorizer that we used in Part 1. However, when we tried weighting our word vectors in this way, we found no substantial improvement in performance."
   ]
  },
  {
   "cell_type": "markdown",
   "metadata": {},
   "source": [
    "From Words to Paragraphs, Attempt 2: Clustering \n",
    "--\n",
    "\n",
    "Word2Vec creates clusters of semantically related words, so another possible approach is to exploit the similarity of words within a cluster. Grouping vectors in this way is known as \"vector quantization.\" To accomplish this, we first need to find the centers of the word clusters, which we can do by using a clustering algorithm such as K-Means.\n",
    "\n",
    "In K-Means, the one parameter we need to set is \"K,\" or the number of clusters. How should we decide how many clusters to create? Trial and error suggested that small clusters, with an average of only 5 words or so per cluster, gave better results than large clusters with many words. Clustering code is given below. We use scikit-learn to perform our K-Means.\n",
    "\n",
    "K-Means clustering with large K can be very slow; the following code took more than 40 minutes on my computer. Below, we set a timer around the K-Means function to see how long it takes."
   ]
  },
  {
   "cell_type": "code",
   "execution_count": 112,
   "metadata": {
    "collapsed": false
   },
   "outputs": [
    {
     "ename": "KeyboardInterrupt",
     "evalue": "",
     "output_type": "error",
     "traceback": [
      "\u001b[0;31m---------------------------------------------------------------------------\u001b[0m",
      "\u001b[0;31mKeyboardInterrupt\u001b[0m                         Traceback (most recent call last)",
      "\u001b[0;32m<ipython-input-112-42c1d1195fda>\u001b[0m in \u001b[0;36m<module>\u001b[0;34m()\u001b[0m\n\u001b[1;32m      7\u001b[0m \u001b[0;31m# Initalize a k-means object and use it to extract centroids\u001b[0m\u001b[0;34m\u001b[0m\u001b[0;34m\u001b[0m\u001b[0m\n\u001b[1;32m      8\u001b[0m \u001b[0mkmeans_clustering\u001b[0m \u001b[0;34m=\u001b[0m \u001b[0mKMeans\u001b[0m\u001b[0;34m(\u001b[0m\u001b[0mn_clusters\u001b[0m \u001b[0;34m=\u001b[0m \u001b[0mnum_clusters\u001b[0m\u001b[0;34m)\u001b[0m\u001b[0;34m\u001b[0m\u001b[0m\n\u001b[0;32m----> 9\u001b[0;31m \u001b[0midx\u001b[0m \u001b[0;34m=\u001b[0m \u001b[0mkmeans_clustering\u001b[0m\u001b[0;34m.\u001b[0m\u001b[0mfit_predict\u001b[0m\u001b[0;34m(\u001b[0m\u001b[0mword_vectors\u001b[0m\u001b[0;34m)\u001b[0m\u001b[0;34m\u001b[0m\u001b[0m\n\u001b[0m\u001b[1;32m     10\u001b[0m \u001b[0;34m\u001b[0m\u001b[0m\n\u001b[1;32m     11\u001b[0m \u001b[0mend\u001b[0m \u001b[0;34m=\u001b[0m \u001b[0mtime\u001b[0m\u001b[0;34m.\u001b[0m\u001b[0mtime\u001b[0m\u001b[0;34m(\u001b[0m\u001b[0;34m)\u001b[0m\u001b[0;34m\u001b[0m\u001b[0m\n",
      "\u001b[0;32m/usr/local/lib/python3.5/dist-packages/sklearn/cluster/k_means_.py\u001b[0m in \u001b[0;36mfit_predict\u001b[0;34m(self, X, y)\u001b[0m\n\u001b[1;32m    828\u001b[0m         \u001b[0mpredict\u001b[0m\u001b[0;34m(\u001b[0m\u001b[0mX\u001b[0m\u001b[0;34m)\u001b[0m\u001b[0;34m.\u001b[0m\u001b[0;34m\u001b[0m\u001b[0m\n\u001b[1;32m    829\u001b[0m         \"\"\"\n\u001b[0;32m--> 830\u001b[0;31m         \u001b[0;32mreturn\u001b[0m \u001b[0mself\u001b[0m\u001b[0;34m.\u001b[0m\u001b[0mfit\u001b[0m\u001b[0;34m(\u001b[0m\u001b[0mX\u001b[0m\u001b[0;34m)\u001b[0m\u001b[0;34m.\u001b[0m\u001b[0mlabels_\u001b[0m\u001b[0;34m\u001b[0m\u001b[0m\n\u001b[0m\u001b[1;32m    831\u001b[0m \u001b[0;34m\u001b[0m\u001b[0m\n\u001b[1;32m    832\u001b[0m     \u001b[0;32mdef\u001b[0m \u001b[0mfit_transform\u001b[0m\u001b[0;34m(\u001b[0m\u001b[0mself\u001b[0m\u001b[0;34m,\u001b[0m \u001b[0mX\u001b[0m\u001b[0;34m,\u001b[0m \u001b[0my\u001b[0m\u001b[0;34m=\u001b[0m\u001b[0;32mNone\u001b[0m\u001b[0;34m)\u001b[0m\u001b[0;34m:\u001b[0m\u001b[0;34m\u001b[0m\u001b[0m\n",
      "\u001b[0;32m/usr/local/lib/python3.5/dist-packages/sklearn/cluster/k_means_.py\u001b[0m in \u001b[0;36mfit\u001b[0;34m(self, X, y)\u001b[0m\n\u001b[1;32m    819\u001b[0m                 \u001b[0mprecompute_distances\u001b[0m\u001b[0;34m=\u001b[0m\u001b[0mself\u001b[0m\u001b[0;34m.\u001b[0m\u001b[0mprecompute_distances\u001b[0m\u001b[0;34m,\u001b[0m\u001b[0;34m\u001b[0m\u001b[0m\n\u001b[1;32m    820\u001b[0m                 \u001b[0mtol\u001b[0m\u001b[0;34m=\u001b[0m\u001b[0mself\u001b[0m\u001b[0;34m.\u001b[0m\u001b[0mtol\u001b[0m\u001b[0;34m,\u001b[0m \u001b[0mrandom_state\u001b[0m\u001b[0;34m=\u001b[0m\u001b[0mrandom_state\u001b[0m\u001b[0;34m,\u001b[0m \u001b[0mcopy_x\u001b[0m\u001b[0;34m=\u001b[0m\u001b[0mself\u001b[0m\u001b[0;34m.\u001b[0m\u001b[0mcopy_x\u001b[0m\u001b[0;34m,\u001b[0m\u001b[0;34m\u001b[0m\u001b[0m\n\u001b[0;32m--> 821\u001b[0;31m                 n_jobs=self.n_jobs)\n\u001b[0m\u001b[1;32m    822\u001b[0m         \u001b[0;32mreturn\u001b[0m \u001b[0mself\u001b[0m\u001b[0;34m\u001b[0m\u001b[0m\n\u001b[1;32m    823\u001b[0m \u001b[0;34m\u001b[0m\u001b[0m\n",
      "\u001b[0;32m/usr/local/lib/python3.5/dist-packages/sklearn/cluster/k_means_.py\u001b[0m in \u001b[0;36mk_means\u001b[0;34m(X, n_clusters, init, precompute_distances, n_init, max_iter, verbose, tol, random_state, copy_x, n_jobs, return_n_iter)\u001b[0m\n\u001b[1;32m    322\u001b[0m                 \u001b[0mX\u001b[0m\u001b[0;34m,\u001b[0m \u001b[0mn_clusters\u001b[0m\u001b[0;34m,\u001b[0m \u001b[0mmax_iter\u001b[0m\u001b[0;34m=\u001b[0m\u001b[0mmax_iter\u001b[0m\u001b[0;34m,\u001b[0m \u001b[0minit\u001b[0m\u001b[0;34m=\u001b[0m\u001b[0minit\u001b[0m\u001b[0;34m,\u001b[0m \u001b[0mverbose\u001b[0m\u001b[0;34m=\u001b[0m\u001b[0mverbose\u001b[0m\u001b[0;34m,\u001b[0m\u001b[0;34m\u001b[0m\u001b[0m\n\u001b[1;32m    323\u001b[0m                 \u001b[0mprecompute_distances\u001b[0m\u001b[0;34m=\u001b[0m\u001b[0mprecompute_distances\u001b[0m\u001b[0;34m,\u001b[0m \u001b[0mtol\u001b[0m\u001b[0;34m=\u001b[0m\u001b[0mtol\u001b[0m\u001b[0;34m,\u001b[0m\u001b[0;34m\u001b[0m\u001b[0m\n\u001b[0;32m--> 324\u001b[0;31m                 x_squared_norms=x_squared_norms, random_state=random_state)\n\u001b[0m\u001b[1;32m    325\u001b[0m             \u001b[0;31m# determine if these results are the best so far\u001b[0m\u001b[0;34m\u001b[0m\u001b[0;34m\u001b[0m\u001b[0m\n\u001b[1;32m    326\u001b[0m             \u001b[0;32mif\u001b[0m \u001b[0mbest_inertia\u001b[0m \u001b[0;32mis\u001b[0m \u001b[0;32mNone\u001b[0m \u001b[0;32mor\u001b[0m \u001b[0minertia\u001b[0m \u001b[0;34m<\u001b[0m \u001b[0mbest_inertia\u001b[0m\u001b[0;34m:\u001b[0m\u001b[0;34m\u001b[0m\u001b[0m\n",
      "\u001b[0;32m/usr/local/lib/python3.5/dist-packages/sklearn/cluster/k_means_.py\u001b[0m in \u001b[0;36m_kmeans_single\u001b[0;34m(X, n_clusters, x_squared_norms, max_iter, init, verbose, random_state, tol, precompute_distances)\u001b[0m\n\u001b[1;32m    430\u001b[0m     \u001b[0;31m# init\u001b[0m\u001b[0;34m\u001b[0m\u001b[0;34m\u001b[0m\u001b[0m\n\u001b[1;32m    431\u001b[0m     centers = _init_centroids(X, n_clusters, init, random_state=random_state,\n\u001b[0;32m--> 432\u001b[0;31m                               x_squared_norms=x_squared_norms)\n\u001b[0m\u001b[1;32m    433\u001b[0m     \u001b[0;32mif\u001b[0m \u001b[0mverbose\u001b[0m\u001b[0;34m:\u001b[0m\u001b[0;34m\u001b[0m\u001b[0m\n\u001b[1;32m    434\u001b[0m         \u001b[0mprint\u001b[0m\u001b[0;34m(\u001b[0m\u001b[0;34m\"Initialization complete\"\u001b[0m\u001b[0;34m)\u001b[0m\u001b[0;34m\u001b[0m\u001b[0m\n",
      "\u001b[0;32m/usr/local/lib/python3.5/dist-packages/sklearn/cluster/k_means_.py\u001b[0m in \u001b[0;36m_init_centroids\u001b[0;34m(X, k, init, random_state, x_squared_norms, init_size)\u001b[0m\n\u001b[1;32m    638\u001b[0m     \u001b[0;32mif\u001b[0m \u001b[0misinstance\u001b[0m\u001b[0;34m(\u001b[0m\u001b[0minit\u001b[0m\u001b[0;34m,\u001b[0m \u001b[0mstring_types\u001b[0m\u001b[0;34m)\u001b[0m \u001b[0;32mand\u001b[0m \u001b[0minit\u001b[0m \u001b[0;34m==\u001b[0m \u001b[0;34m'k-means++'\u001b[0m\u001b[0;34m:\u001b[0m\u001b[0;34m\u001b[0m\u001b[0m\n\u001b[1;32m    639\u001b[0m         centers = _k_init(X, k, random_state=random_state,\n\u001b[0;32m--> 640\u001b[0;31m                           x_squared_norms=x_squared_norms)\n\u001b[0m\u001b[1;32m    641\u001b[0m     \u001b[0;32melif\u001b[0m \u001b[0misinstance\u001b[0m\u001b[0;34m(\u001b[0m\u001b[0minit\u001b[0m\u001b[0;34m,\u001b[0m \u001b[0mstring_types\u001b[0m\u001b[0;34m)\u001b[0m \u001b[0;32mand\u001b[0m \u001b[0minit\u001b[0m \u001b[0;34m==\u001b[0m \u001b[0;34m'random'\u001b[0m\u001b[0;34m:\u001b[0m\u001b[0;34m\u001b[0m\u001b[0m\n\u001b[1;32m    642\u001b[0m         \u001b[0mseeds\u001b[0m \u001b[0;34m=\u001b[0m \u001b[0mrandom_state\u001b[0m\u001b[0;34m.\u001b[0m\u001b[0mpermutation\u001b[0m\u001b[0;34m(\u001b[0m\u001b[0mn_samples\u001b[0m\u001b[0;34m)\u001b[0m\u001b[0;34m[\u001b[0m\u001b[0;34m:\u001b[0m\u001b[0mk\u001b[0m\u001b[0;34m]\u001b[0m\u001b[0;34m\u001b[0m\u001b[0m\n",
      "\u001b[0;32m/usr/local/lib/python3.5/dist-packages/sklearn/cluster/k_means_.py\u001b[0m in \u001b[0;36m_k_init\u001b[0;34m(X, n_clusters, x_squared_norms, random_state, n_local_trials)\u001b[0m\n\u001b[1;32m    110\u001b[0m         \u001b[0;31m# Compute distances to center candidates\u001b[0m\u001b[0;34m\u001b[0m\u001b[0;34m\u001b[0m\u001b[0m\n\u001b[1;32m    111\u001b[0m         distance_to_candidates = euclidean_distances(\n\u001b[0;32m--> 112\u001b[0;31m             X[candidate_ids], X, Y_norm_squared=x_squared_norms, squared=True)\n\u001b[0m\u001b[1;32m    113\u001b[0m \u001b[0;34m\u001b[0m\u001b[0m\n\u001b[1;32m    114\u001b[0m         \u001b[0;31m# Decide which candidate is the best\u001b[0m\u001b[0;34m\u001b[0m\u001b[0;34m\u001b[0m\u001b[0m\n",
      "\u001b[0;32m/usr/local/lib/python3.5/dist-packages/sklearn/metrics/pairwise.py\u001b[0m in \u001b[0;36meuclidean_distances\u001b[0;34m(X, Y, Y_norm_squared, squared, X_norm_squared)\u001b[0m\n\u001b[1;32m    229\u001b[0m         \u001b[0mYY\u001b[0m \u001b[0;34m=\u001b[0m \u001b[0mrow_norms\u001b[0m\u001b[0;34m(\u001b[0m\u001b[0mY\u001b[0m\u001b[0;34m,\u001b[0m \u001b[0msquared\u001b[0m\u001b[0;34m=\u001b[0m\u001b[0;32mTrue\u001b[0m\u001b[0;34m)\u001b[0m\u001b[0;34m[\u001b[0m\u001b[0mnp\u001b[0m\u001b[0;34m.\u001b[0m\u001b[0mnewaxis\u001b[0m\u001b[0;34m,\u001b[0m \u001b[0;34m:\u001b[0m\u001b[0;34m]\u001b[0m\u001b[0;34m\u001b[0m\u001b[0m\n\u001b[1;32m    230\u001b[0m \u001b[0;34m\u001b[0m\u001b[0m\n\u001b[0;32m--> 231\u001b[0;31m     \u001b[0mdistances\u001b[0m \u001b[0;34m=\u001b[0m \u001b[0msafe_sparse_dot\u001b[0m\u001b[0;34m(\u001b[0m\u001b[0mX\u001b[0m\u001b[0;34m,\u001b[0m \u001b[0mY\u001b[0m\u001b[0;34m.\u001b[0m\u001b[0mT\u001b[0m\u001b[0;34m,\u001b[0m \u001b[0mdense_output\u001b[0m\u001b[0;34m=\u001b[0m\u001b[0;32mTrue\u001b[0m\u001b[0;34m)\u001b[0m\u001b[0;34m\u001b[0m\u001b[0m\n\u001b[0m\u001b[1;32m    232\u001b[0m     \u001b[0mdistances\u001b[0m \u001b[0;34m*=\u001b[0m \u001b[0;34m-\u001b[0m\u001b[0;36m2\u001b[0m\u001b[0;34m\u001b[0m\u001b[0m\n\u001b[1;32m    233\u001b[0m     \u001b[0mdistances\u001b[0m \u001b[0;34m+=\u001b[0m \u001b[0mXX\u001b[0m\u001b[0;34m\u001b[0m\u001b[0m\n",
      "\u001b[0;32m/usr/local/lib/python3.5/dist-packages/sklearn/utils/extmath.py\u001b[0m in \u001b[0;36msafe_sparse_dot\u001b[0;34m(a, b, dense_output)\u001b[0m\n\u001b[1;32m    182\u001b[0m         \u001b[0;32mreturn\u001b[0m \u001b[0mret\u001b[0m\u001b[0;34m\u001b[0m\u001b[0m\n\u001b[1;32m    183\u001b[0m     \u001b[0;32melse\u001b[0m\u001b[0;34m:\u001b[0m\u001b[0;34m\u001b[0m\u001b[0m\n\u001b[0;32m--> 184\u001b[0;31m         \u001b[0;32mreturn\u001b[0m \u001b[0mfast_dot\u001b[0m\u001b[0;34m(\u001b[0m\u001b[0ma\u001b[0m\u001b[0;34m,\u001b[0m \u001b[0mb\u001b[0m\u001b[0;34m)\u001b[0m\u001b[0;34m\u001b[0m\u001b[0m\n\u001b[0m\u001b[1;32m    185\u001b[0m \u001b[0;34m\u001b[0m\u001b[0m\n\u001b[1;32m    186\u001b[0m \u001b[0;34m\u001b[0m\u001b[0m\n",
      "\u001b[0;31mKeyboardInterrupt\u001b[0m: "
     ]
    }
   ],
   "source": [
    "start = time.time()\n",
    "\n",
    "# Set \"k\" (num_clusters) to be 1/5th of the vocabulary size, or an average of 5 words per cluster\n",
    "word_vectors = model.syn0\n",
    "num_clusters = int(word_vectors.shape[0] / 5)\n",
    "\n",
    "# Initalize a k-means object and use it to extract centroids\n",
    "kmeans_clustering = KMeans(n_clusters = num_clusters)\n",
    "idx = kmeans_clustering.fit_predict(word_vectors)\n",
    "\n",
    "end = time.time()\n",
    "elapsed = end - start\n",
    "print(\"Time taken for K Means clustering: \", elapsed, \"seconds.\")"
   ]
  },
  {
   "cell_type": "markdown",
   "metadata": {},
   "source": [
    "The cluster assignment for each word is now stored in idx, and the vocabulary from our original Word2Vec model is still stored in model.index2word. For convenience, we zip these into one dictionary as follows:  "
   ]
  },
  {
   "cell_type": "code",
   "execution_count": null,
   "metadata": {
    "collapsed": true
   },
   "outputs": [],
   "source": [
    "# Create a Word / Index dictionary, mapping each vocabulary word to a cluster number\n",
    "word_centroid_map = dict(zip(model.index2word, idx))"
   ]
  },
  {
   "cell_type": "markdown",
   "metadata": {},
   "source": [
    "This is a little abstract, so let's take a closer look at what our clusters contain. Your clusters may differ, as Word2Vec relies on a random number seed. Here is a loop that prints out the words for clusters 0 through 9:\n",
    "\n",
    "Run k-means on the word vectors and print a few clusters  "
   ]
  },
  {
   "cell_type": "code",
   "execution_count": null,
   "metadata": {
    "collapsed": false
   },
   "outputs": [],
   "source": [
    "# Print the first ten clusters\n",
    "for cluster in range(0,10):\n",
    "    # Print the cluster number\n",
    "    print(\"\\nCluster {}\".format(cluster))\n",
    "    # Find all of the words for that cluster number, and print them out\n",
    "    words = []\n",
    "    for i in range(0,len(word_centroid_map.values())):\n",
    "        #print(len(word_centroid_map.values()))\n",
    "        #print(cluster)\n",
    "        #print(word_centroid_map.keys())\n",
    "        if(list(word_centroid_map.values())[i] == cluster):\n",
    "            words.append(list(word_centroid_map.keys())[i])\n",
    "    print(words)"
   ]
  },
  {
   "cell_type": "markdown",
   "metadata": {},
   "source": [
    "We can see that the clusters are of varying quality. Some make sense, some cointain mostly names, and some contain related adjectives. On the other hand, some are a little mystifying. Perhaps our algorithm works best on adjectives.\n",
    "\n",
    "At any rate, now we have a cluster (or \"centroid\") assignment for each word, and we can define a function to convert reviews into bags-of-centroids. This works just like Bag of Words but uses semantically related clusters instead of individual words:"
   ]
  },
  {
   "cell_type": "code",
   "execution_count": null,
   "metadata": {
    "collapsed": true
   },
   "outputs": [],
   "source": [
    "def create_bag_of_centroids(wordlist, word_centroid_map):\n",
    "    # The number of clusters is equal to the highest cluster index in the word / centroid map\n",
    "    num_centroids = max(word_centroid_map.values()) + 1\n",
    "    # Pre-allocate the bag of centroids vector (for speed)\n",
    "    bag_of_centroids = np.zeros(num_centroids, dtype=\"float32\")\n",
    "    # Loop over the words in the review. If the word is in the vocabulary,\n",
    "    # find which cluster it belongs to, and increment that cluster count by one\n",
    "    for word in wordlist:\n",
    "        if word in word_centroid_map:\n",
    "            index = word_centroid_map[word]\n",
    "            bag_of_centroids[index] += 1\n",
    "    return bag_of_centroids"
   ]
  },
  {
   "cell_type": "markdown",
   "metadata": {
    "collapsed": true
   },
   "source": [
    "The function above will give us a numpy array for each review, each with a number of features equal to the number of clusters. Finally, we create bags of centroids for our training and test set, then train a random forest and extract results:"
   ]
  },
  {
   "cell_type": "code",
   "execution_count": null,
   "metadata": {
    "collapsed": true
   },
   "outputs": [],
   "source": [
    "# ****** Create bags of centroids\n",
    "\n",
    "# Pre-allocate an array for the training set bags of centroids (for speed)\n",
    "train_centroids = np.zeros((train[\"review\"].size, num_clusters), dtype=\"float32\")\n",
    "\n",
    "# Transform the training set reviews into bags of centroids\n",
    "counter = 0\n",
    "for review in clean_train_reviews:\n",
    "    train_centroids[counter] = create_bag_of_centroids(review, word_centroid_map)\n",
    "    counter += 1"
   ]
  },
  {
   "cell_type": "code",
   "execution_count": null,
   "metadata": {
    "collapsed": true
   },
   "outputs": [],
   "source": [
    "X_traincvCT, X_testcvCT, y_traincvCT, y_testcvCT = train_test_split(train_centroids,\n",
    "                                                                    train[\"sentiment\"],\n",
    "                                                                    test_size=0.2,\n",
    "                                                                    random_state=0)"
   ]
  },
  {
   "cell_type": "code",
   "execution_count": null,
   "metadata": {
    "collapsed": true
   },
   "outputs": [],
   "source": [
    "# Initialize a Random Forest classifier with 100 trees\n",
    "clf_RF_CT = RandomForestClassifier(n_estimators=100, \n",
    "                                   criterion='gini', \n",
    "                                   max_depth=None, \n",
    "                                   min_samples_split=2, \n",
    "                                   min_samples_leaf=1, \n",
    "                                   min_weight_fraction_leaf=0.0, \n",
    "                                   max_features='auto', \n",
    "                                   max_leaf_nodes=None, \n",
    "                                   bootstrap=True, \n",
    "                                   oob_score=False, \n",
    "                                   n_jobs=1, \n",
    "                                   random_state=None, \n",
    "                                   verbose=0, \n",
    "                                   warm_start=False, \n",
    "                                   class_weight=None).fit(X_traincvCT, y_traincvCT)"
   ]
  },
  {
   "cell_type": "code",
   "execution_count": null,
   "metadata": {
    "collapsed": false
   },
   "outputs": [],
   "source": [
    "eval_RF_CT_tts = clf_RF_CT.score(X_testcvCT, y_testcvCT)\n",
    "print(eval_RF_CT_tts)"
   ]
  },
  {
   "cell_type": "code",
   "execution_count": null,
   "metadata": {
    "collapsed": true
   },
   "outputs": [],
   "source": [
    "# Repeat for test reviews\n",
    "test_centroids = np.zeros((test[\"review\"].size, num_clusters), dtype=\"float32\")\n",
    "\n",
    "counter = 0\n",
    "for review in clean_test_reviews:\n",
    "    test_centroids[counter] = create_bag_of_centroids(review, word_centroid_map)\n",
    "    counter += 1"
   ]
  },
  {
   "cell_type": "code",
   "execution_count": null,
   "metadata": {
    "collapsed": false
   },
   "outputs": [],
   "source": [
    "result = clf_RF_CT.predict(test_centroids)\n",
    "\n",
    "# Write the test results\n",
    "output = pd.DataFrame(data={\"id\":test[\"id\"], \"sentiment\":result})\n",
    "output.to_csv(os.path.join(outputs,\"BagOfCentroids.csv\"), index=False, quoting=3)\n",
    "print(\"Wrote BagOfCentroids.csv\")"
   ]
  },
  {
   "cell_type": "markdown",
   "metadata": {},
   "source": [
    "We found that the code above gives about the same (or slightly worse) results compared to the Bag of Words in Part 1."
   ]
  },
  {
   "cell_type": "markdown",
   "metadata": {},
   "source": [
    "Part 4: Comparing deep and non-deep learning methods\n",
    "--\n",
    "\n",
    "You may ask: Why is Bag of Words better?\n",
    "\n",
    "The biggest reason is, in our tutorial, averaging the vectors and using the centroids lose the order of words, making it very similar to the concept of Bag of Words. The fact that the performance is similar (within range of standard error) makes all three methods practically equivalent.  \n",
    "\n",
    "A few things to try:\n",
    "\n",
    "First, training Word2Vec on a lot more text should greatly improve performance. Google's results are based on word vectors that were learned out of more than a billion-word corpus; our labeled and unlabeled training sets together are only a measly 18 million words or so. Conveniently, Word2Vec provides functions to load any pre-trained model that is output by Google's original C tool, so it's also possible to train a model in C and then import it into Python.\n",
    "\n",
    "Second, in published literature, distributed word vector techniques have been shown to outperform Bag of Words models. In this paper, an algorithm called Paragraph Vector is used on the IMDB dataset to produce some of the most state-of-the-art results to date. In part, it does better than the approaches we try here because vector averaging and clustering lose the word order, whereas Paragraph Vectors preserves word order information."
   ]
  },
  {
   "cell_type": "markdown",
   "metadata": {},
   "source": [
    "What is Deep Learning?\n",
    "\n",
    "The term \"deep learning\" was coined in 2006, and refers to machine learning algorithms that have multiple non-linear layers and can learn feature hierarchies [1].\n",
    "\n",
    "Most modern machine learning relies on feature engineering or some level of domain knowledge to obtain good results. In deep learning systems, this is not the case -- instead, algorithms can automatically learn feature hierarchies, which represent objects in increasing levels of abstraction. Although the basic ingredients of many deep learning algorithms have been around for many years, they are currently increasing in popularity for many reasons, including advances in compute power, the falling cost of computing hardware, and advances in machine learning research.\n",
    "\n",
    "Deep learning algorithms can be categorized by their architecture (feed-forward, feed-back, or bi-directional) and training protocols (purely supervised, hybrid, or unsupervised) [2]. \n",
    "\n",
    "Some good background materials include:\n",
    "\n",
    "[1] \"Deep Learning for Signal and Information Processing\", by Li Deng and Dong Yu (out of Microsoft)\n",
    "\n",
    "[2] \"Deep Learning Tutorial\" (2013 Presentation by Yann LeCun and Marc'Aurelio Ranzato)\n",
    "\n",
    "Where Does Word2Vec Fit In?\n",
    "\n",
    "Word2Vec works in a way that is similar to deep approaches such as recurrent neural nets or deep neural nets, but it implements certain algorithms, such as hierarchical softmax, that make it computationally more efficient.  \n",
    "\n",
    "See Part 2 of this tutorial for more on Word2Vec, as well as this paper: Efficient Estimation of Word Representations in Vector Space\n",
    "\n",
    "In this tutorial, we use a hybrid approach to training -- consisting of an unsupervised piece (Word2Vec) followed by supervised learning (the Random Forest). \n",
    "\n",
    "Libraries and Packages \n",
    "\n",
    "The lists below should in no way be considered exhaustive.\n",
    "\n",
    "In Python:\n",
    "\n",
    "Theano offers very low-level, nuts and bolts functionality for building deep learning systems. You can also find some good tutorials on their site.  \n",
    "Caffe is a deep learning framework out of the Berkeley Vision and Learning Center.  \n",
    "Pylearn2 wraps Theano and seems slightly more user friendly.  \n",
    "OverFeat was used to win the Kaggle Cats and Dogs competition.  \n",
    "\n",
    "\n",
    "More Tutorials  \n",
    "The O'Reilly Blog has a series of deep learning articles and tutorials:  \n",
    "\n",
    "http://radar.oreilly.com/2014/07/what-is-deep-learning-and-why-should-you-care.html  \n",
    "http://radar.oreilly.com/2014/07/how-to-build-and-run-your-first-deep-learning-network.html  \n",
    "Webcast: How to Get Started with Deep Learning in Computer Vision  \n",
    "There are several tutorials using Theano as well.  \n",
    "\n",
    "If you want to dive into the weeds of creating a neural network from scratch, check out Geoffrey Hinton's Coursera course.\n",
    "\n",
    "For NLP, check out this recent lecture at Stanford: http://techtalks.tv/talks/deep-learning-for-nlp-without-magic-part-1/58414/  \n",
    "\n",
    "This free, online book also introduces neural nets for deep learning: http://neuralnetworksanddeeplearning.com/  "
   ]
  },
  {
   "cell_type": "raw",
   "metadata": {
    "collapsed": true
   },
   "source": [
    "#word2vec example\n",
    "# load up unzipped corpus from http://mattmahoney.net/dc/text8.zip\n",
    "sentences = word2vec.Text8Corpus('/tmp/text8')\n",
    "#train the skip-gram model; default window=5\n",
    "model = word2vec.Word2Vec(sentences, size=200)\n",
    "# ... and some hours later... just as advertised...\n",
    "model.most_similar(positive=['woman', 'king'], negative=['man'], topn=1)\n",
    "[('queen', 0.5359965)]\n",
    " \n",
    "# pickle the entire model to disk, so we can load&resume training later\n",
    "model.save('/tmp/text8.model')\n",
    "# store the learned weights, in a format the original C tool understands\n",
    "model.save_word2vec_format('/tmp/text8.model.bin', binary=True)\n",
    "# or, import word weights created by the (faster) C word2vec\n",
    "# this way, you can switch between the C/Python toolkits easily\n",
    "model = word2vec.Word2Vec.load_word2vec_format('/tmp/vectors.bin', binary=True)\n",
    " \n",
    "# \"boy\" is to \"father\" as \"girl\" is to ...?\n",
    "model.most_similar(['girl', 'father'], ['boy'], topn=3)\n",
    "more_examples = [\"he his she\", \"big bigger bad\", \"going went being\"]\n",
    "for example in more_examples:\n",
    "    a, b, x = example.split()\n",
    "    predicted = model.most_similar([x, b], [a])[0][0]\n",
    "    print \"'%s' is to '%s' as '%s' is to '%s'\" % (a, b, x, predicted)\n",
    "# which word doesn't go with the others?\n",
    "model.doesnt_match(\"breakfast cereal dinner lunch\".split())\n",
    "\n",
    "#http://rare-technologies.com/word2vec-tutorial/\n",
    "Gensim only requires that the input must provide sentences sequentially, when iterated over. No need to keep everything in RAM: we can provide one sentence, process it, forget it, load another sentence…\n",
    "\n",
    "For example, if our input is strewn across several files on disk, with one sentence per line, then instead of loading everything into an in-memory list, we can process the input file by file, line by line:\n",
    ">>> class MySentences(object):\n",
    "...     def __init__(self, dirname):\n",
    "...         self.dirname = dirname\n",
    "... \n",
    "...     def __iter__(self):\n",
    "...         for fname in os.listdir(self.dirname):\n",
    "...             for line in open(os.path.join(self.dirname, fname)):\n",
    "...                 yield line.split()\n",
    ">>>\n",
    ">>> sentences = MySentences('/some/directory') # a memory-friendly iterator\n",
    ">>> model = gensim.models.Word2Vec(sentences)\n",
    "\n",
    "Say we want to further preprocess the words from the files — convert to unicode, lowercase, remove numbers, extract named entities… All of this can be done inside the MySentences iterator and word2vec doesn’t need to know. All that is required is that the input yields one sentence (list of utf8 words) after another.\n",
    "\n",
    "calling Word2Vec(sentences) will run two passes over the sentences iterator. The first pass collects words and their frequencies to build an internal dictionary tree structure.\n",
    "\n",
    "The second pass trains the neural model.\n",
    "\n",
    "These two passes can also be initiated manually, in case your input stream is non-repeatable (you can only afford one pass), and you’re able to initialize the vocabulary some other way:\n",
    "\n",
    ">>> model = gensim.models.Word2Vec() # an empty model, no training\n",
    ">>> model.build_vocab(some_sentences)  # can be a non-repeatable, 1-pass generator\n",
    ">>> model.train(other_sentences)  # can be a non-repeatable, 1-pass generator\n"
   ]
  }
 ],
 "metadata": {
  "kernelspec": {
   "display_name": "Python 3",
   "language": "python",
   "name": "python3"
  },
  "language_info": {
   "codemirror_mode": {
    "name": "ipython",
    "version": 3
   },
   "file_extension": ".py",
   "mimetype": "text/x-python",
   "name": "python",
   "nbconvert_exporter": "python",
   "pygments_lexer": "ipython3",
   "version": "3.5.2"
  }
 },
 "nbformat": 4,
 "nbformat_minor": 0
}
