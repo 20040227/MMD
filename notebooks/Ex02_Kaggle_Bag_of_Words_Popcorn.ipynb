{
 "cells": [
  {
   "cell_type": "markdown",
   "metadata": {},
   "source": [
    "## Google's Word2Vec for movie reviews"
   ]
  },
  {
   "cell_type": "markdown",
   "metadata": {},
   "source": [
    "https://www.kaggle.com/c/word2vec-nlp-tutorial  \n",
    "https://github.com/wendykan/DeepLearningMovies  \n",
    "http://fastml.com/classifying-text-with-bag-of-words-a-tutorial/  \n",
    "\n",
    "\n",
    "In this tutorial competition, we dig a little \"deeper\" into sentiment analysis. Google's Word2Vec is a deep-learning inspired method that focuses on the meaning of words. Word2Vec attempts to understand meaning and semantic relationships among words. It works in a way that is similar to deep approaches, such as recurrent neural nets or deep neural nets, but is computationally more efficient. This tutorial focuses on Word2Vec for sentiment analysis.\n",
    "\n",
    "Sentiment analysis is a challenging subject in machine learning. People express their emotions in language that is often obscured by sarcasm, ambiguity, and plays on words, all of which could be very misleading for both humans and computers. There's another Kaggle competition for movie review sentiment analysis. In this tutorial we explore how Word2Vec can be applied to a similar problem.\n",
    "\n",
    "Deep learning has been in the news a lot over the past few years, even making it to the front page of the New York Times. These machine learning techniques, inspired by the architecture of the human brain and made possible by recent advances in computing power, have been making waves via breakthrough results in image recognition, speech processing, and natural language tasks. Recently, deep learning approaches won several Kaggle competitions, including a drug discovery task, and cat and dog image recognition."
   ]
  },
  {
   "cell_type": "markdown",
   "metadata": {},
   "source": [
    "#### Let's charge the batteries for our analysis..."
   ]
  },
  {
   "cell_type": "code",
   "execution_count": 1,
   "metadata": {
    "collapsed": false
   },
   "outputs": [
    {
     "name": "stderr",
     "output_type": "stream",
     "text": [
      "Using gpu device 0: Quadro K4200 (CNMeM is disabled, cuDNN 5103)\n",
      "/home/rsouza/python/3/venv/local/lib/python3.5/site-packages/theano/sandbox/cuda/__init__.py:600: UserWarning: Your cuDNN version is more recent than the one Theano officially supports. If you see any problems, try updating Theano or downgrading cuDNN to version 5.\n",
      "  warnings.warn(warn)\n"
     ]
    }
   ],
   "source": [
    "import os\n",
    "import sys\n",
    "import time\n",
    "import re\n",
    "import pickle\n",
    "import logging\n",
    "import string\n",
    "\n",
    "import pandas as pd\n",
    "import numpy as np\n",
    "import pylab\n",
    "import matplotlib\n",
    "import matplotlib.pyplot as plt\n",
    "from matplotlib.font_manager import FontProperties\n",
    "\n",
    "import nltk\n",
    "import nltk.data\n",
    "from nltk.corpus import stopwords\n",
    "from nltk import word_tokenize\n",
    "from nltk.stem.porter import PorterStemmer\n",
    "\n",
    "from sklearn.cross_validation import train_test_split\n",
    "from sklearn.feature_extraction.text import CountVectorizer\n",
    "from sklearn.feature_extraction.text import TfidfVectorizer \n",
    "from sklearn.cluster import KMeans\n",
    "from sklearn.metrics import roc_auc_score as AUC\n",
    "\n",
    "import gensim\n",
    "from gensim import corpora\n",
    "from gensim import models\n",
    "from gensim import similarities\n",
    "from gensim.models import Word2Vec\n",
    "\n",
    "from bs4 import BeautifulSoup\n",
    "\n",
    "%matplotlib inline"
   ]
  },
  {
   "cell_type": "markdown",
   "metadata": {},
   "source": [
    "Data Set  \n",
    "--\n",
    "\n",
    "The labeled data set consists of 50,000 IMDB movie reviews, specially selected for sentiment analysis. The sentiment of reviews is binary, meaning the IMDB rating < 5 results in a sentiment score of 0, and rating >=7 have a sentiment score of 1. No individual movie has more than 30 reviews. The 25,000 review labeled training set does not include any of the same movies as the 25,000 review test set. In addition, there are another 50,000 IMDB reviews provided without any rating labels.\n",
    "\n",
    "File descriptions\n",
    "\n",
    "labeledTrainData - The labeled training set. The file is tab-delimited and has a header row followed by 25,000 rows containing an id, sentiment, and text for each review.  \n",
    "\n",
    "testData - The test set. The tab-delimited file has a header row followed by 25,000 rows containing an id and text for each review. Your task is to predict the sentiment for each one. \n",
    "\n",
    "unlabeledTrainData - An extra training set with no labels. The tab-delimited file has a header row followed by 50,000 rows containing an id and text for each review. \n",
    "\n",
    "sampleSubmission - A comma-delimited sample submission file in the correct format.\n",
    "Data fields\n",
    "\n",
    "id - Unique ID of each review\n",
    "sentiment - Sentiment of the review; 1 for positive reviews and 0 for negative reviews\n",
    "review - Text of the review"
   ]
  },
  {
   "cell_type": "markdown",
   "metadata": {},
   "source": [
    "Loading the dataset:  \n",
    "--"
   ]
  },
  {
   "cell_type": "code",
   "execution_count": 2,
   "metadata": {
    "collapsed": false
   },
   "outputs": [],
   "source": [
    "datapath = \"../datasets/Kaggle/\"\n",
    "outputs = \"../outputs/\""
   ]
  },
  {
   "cell_type": "code",
   "execution_count": 3,
   "metadata": {
    "collapsed": false
   },
   "outputs": [],
   "source": [
    "train = pd.read_csv(os.path.join(datapath, 'BOW_labeledTrainData.tsv'), header=0, delimiter=\"\\t\", quoting=3)\n",
    "test = pd.read_csv(os.path.join(datapath, 'BOW_testData.tsv'), header=0, delimiter=\"\\t\", quoting=3)\n",
    "unlabeled_train = pd.read_csv(os.path.join(datapath, \"BOW_unlabeledTrainData.tsv\"), header=0, delimiter=\"\\t\", quoting=3)"
   ]
  },
  {
   "cell_type": "code",
   "execution_count": 4,
   "metadata": {
    "collapsed": false
   },
   "outputs": [
    {
     "name": "stdout",
     "output_type": "stream",
     "text": [
      "Read 25000 labeled train reviews, 25000 labeled test reviews, and 50000 unlabeled reviews\n",
      "\n"
     ]
    }
   ],
   "source": [
    "print(\"Read {} labeled train reviews, \\\n",
    "{} labeled test reviews, and \\\n",
    "{} unlabeled reviews\\n\".format(train[\"review\"].size,\n",
    "                               test[\"review\"].size,\n",
    "                               unlabeled_train[\"review\"].size))"
   ]
  },
  {
   "cell_type": "code",
   "execution_count": 5,
   "metadata": {
    "collapsed": false
   },
   "outputs": [
    {
     "data": {
      "text/html": [
       "<div>\n",
       "<table border=\"1\" class=\"dataframe\">\n",
       "  <thead>\n",
       "    <tr style=\"text-align: right;\">\n",
       "      <th></th>\n",
       "      <th>id</th>\n",
       "      <th>sentiment</th>\n",
       "      <th>review</th>\n",
       "    </tr>\n",
       "  </thead>\n",
       "  <tbody>\n",
       "    <tr>\n",
       "      <th>0</th>\n",
       "      <td>\"5814_8\"</td>\n",
       "      <td>1</td>\n",
       "      <td>\"With all this stuff going down at the moment ...</td>\n",
       "    </tr>\n",
       "    <tr>\n",
       "      <th>1</th>\n",
       "      <td>\"2381_9\"</td>\n",
       "      <td>1</td>\n",
       "      <td>\"\\\"The Classic War of the Worlds\\\" by Timothy ...</td>\n",
       "    </tr>\n",
       "    <tr>\n",
       "      <th>2</th>\n",
       "      <td>\"7759_3\"</td>\n",
       "      <td>0</td>\n",
       "      <td>\"The film starts with a manager (Nicholas Bell...</td>\n",
       "    </tr>\n",
       "    <tr>\n",
       "      <th>3</th>\n",
       "      <td>\"3630_4\"</td>\n",
       "      <td>0</td>\n",
       "      <td>\"It must be assumed that those who praised thi...</td>\n",
       "    </tr>\n",
       "    <tr>\n",
       "      <th>4</th>\n",
       "      <td>\"9495_8\"</td>\n",
       "      <td>1</td>\n",
       "      <td>\"Superbly trashy and wondrously unpretentious ...</td>\n",
       "    </tr>\n",
       "  </tbody>\n",
       "</table>\n",
       "</div>"
      ],
      "text/plain": [
       "         id  sentiment                                             review\n",
       "0  \"5814_8\"          1  \"With all this stuff going down at the moment ...\n",
       "1  \"2381_9\"          1  \"\\\"The Classic War of the Worlds\\\" by Timothy ...\n",
       "2  \"7759_3\"          0  \"The film starts with a manager (Nicholas Bell...\n",
       "3  \"3630_4\"          0  \"It must be assumed that those who praised thi...\n",
       "4  \"9495_8\"          1  \"Superbly trashy and wondrously unpretentious ..."
      ]
     },
     "execution_count": 5,
     "metadata": {},
     "output_type": "execute_result"
    }
   ],
   "source": [
    "train.head()"
   ]
  },
  {
   "cell_type": "code",
   "execution_count": 6,
   "metadata": {
    "collapsed": false
   },
   "outputs": [
    {
     "name": "stdout",
     "output_type": "stream",
     "text": [
      "<class 'pandas.core.frame.DataFrame'>\n",
      "RangeIndex: 25000 entries, 0 to 24999\n",
      "Data columns (total 3 columns):\n",
      "id           25000 non-null object\n",
      "sentiment    25000 non-null int64\n",
      "review       25000 non-null object\n",
      "dtypes: int64(1), object(2)\n",
      "memory usage: 586.0+ KB\n"
     ]
    }
   ],
   "source": [
    "train.info()"
   ]
  },
  {
   "cell_type": "code",
   "execution_count": 7,
   "metadata": {
    "collapsed": false
   },
   "outputs": [
    {
     "data": {
      "text/html": [
       "<div>\n",
       "<table border=\"1\" class=\"dataframe\">\n",
       "  <thead>\n",
       "    <tr style=\"text-align: right;\">\n",
       "      <th></th>\n",
       "      <th>sentiment</th>\n",
       "    </tr>\n",
       "  </thead>\n",
       "  <tbody>\n",
       "    <tr>\n",
       "      <th>count</th>\n",
       "      <td>25000.00000</td>\n",
       "    </tr>\n",
       "    <tr>\n",
       "      <th>mean</th>\n",
       "      <td>0.50000</td>\n",
       "    </tr>\n",
       "    <tr>\n",
       "      <th>std</th>\n",
       "      <td>0.50001</td>\n",
       "    </tr>\n",
       "    <tr>\n",
       "      <th>min</th>\n",
       "      <td>0.00000</td>\n",
       "    </tr>\n",
       "    <tr>\n",
       "      <th>25%</th>\n",
       "      <td>0.00000</td>\n",
       "    </tr>\n",
       "    <tr>\n",
       "      <th>50%</th>\n",
       "      <td>0.50000</td>\n",
       "    </tr>\n",
       "    <tr>\n",
       "      <th>75%</th>\n",
       "      <td>1.00000</td>\n",
       "    </tr>\n",
       "    <tr>\n",
       "      <th>max</th>\n",
       "      <td>1.00000</td>\n",
       "    </tr>\n",
       "  </tbody>\n",
       "</table>\n",
       "</div>"
      ],
      "text/plain": [
       "         sentiment\n",
       "count  25000.00000\n",
       "mean       0.50000\n",
       "std        0.50001\n",
       "min        0.00000\n",
       "25%        0.00000\n",
       "50%        0.50000\n",
       "75%        1.00000\n",
       "max        1.00000"
      ]
     },
     "execution_count": 7,
     "metadata": {},
     "output_type": "execute_result"
    }
   ],
   "source": [
    "train.describe()"
   ]
  },
  {
   "cell_type": "markdown",
   "metadata": {},
   "source": [
    "Part 1: For Beginners - Bag of Words\n",
    "--\n",
    "https://www.kaggle.com/c/word2vec-nlp-tutorial/details/part-1-for-beginners-bag-of-words  \n",
    "\n",
    "What is NLP?\n",
    "\n",
    "NLP (Natural Language Processing) is a set of techniques for approaching text problems. This page will help you get started with loading and cleaning the IMDB movie reviews, then applying a simple Bag of Words model to get surprisingly accurate predictions of whether a review is thumbs-up or thumbs-down."
   ]
  },
  {
   "cell_type": "code",
   "execution_count": 8,
   "metadata": {
    "collapsed": false
   },
   "outputs": [],
   "source": [
    "class Text_Cleaning_Utilities(object):\n",
    "    \"\"\"Tools for processing text into segments for further learning\"\"\"\n",
    "\n",
    "    @staticmethod\n",
    "    def text_to_wordlist(text, \n",
    "                         remove_stopwords=False, \n",
    "                         remove_html=False, \n",
    "                         remove_non_letters=False, \n",
    "                         steeming=False):\n",
    "        '''Split a text into a list of words'''\n",
    "        #text = text.replace('-\\n','')\n",
    "        text = text.lower()\n",
    "        if remove_html:\n",
    "            text = BeautifulSoup(text, \"lxml\").get_text()\n",
    "        if remove_non_letters:\n",
    "            text = re.sub(\"[^-A-Za-z0-9_]\", \" \", text)\n",
    "        list_words = word_tokenize(text)\n",
    "        list_words = [w.strip(string.punctuation) for w in list_words if w not in string.punctuation]\n",
    "        list_words = [w for w in list_words if len(w) > 1]\n",
    "        if remove_stopwords:\n",
    "            stops = set(stopwords.words(\"english\"))\n",
    "            list_words = [w for w in list_words if w not in stops]\n",
    "        if steeming:\n",
    "            stemmer = PorterStemmer()\n",
    "            list_words = [stemmer.stem(item) for item in list_words]\n",
    "        return list_words\n",
    "    \n",
    "    @staticmethod\n",
    "    def df_to_list_of_texts(dataframe, column, \n",
    "                            remove_stopwords=False, \n",
    "                            remove_html=False, \n",
    "                            remove_non_letters=False, \n",
    "                            steeming=False):\n",
    "        clean_texts = []\n",
    "        for txt_id in range(len(dataframe[column])):\n",
    "            clean_texts.append(' '.join(Text_Cleaning_Utilities.text_to_wordlist(dataframe[column][txt_id],\n",
    "                                                                                 remove_stopwords=remove_stopwords,\n",
    "                                                                                 remove_html=remove_html,\n",
    "                                                                                 remove_non_letters=remove_non_letters,\n",
    "                                                                                 steeming=steeming)))\n",
    "            \n",
    "        return clean_texts\n",
    "\n",
    "    @staticmethod\n",
    "    def df_to_list_of_tokens(dataframe, column, \n",
    "                             remove_stopwords=False, \n",
    "                             remove_html=False, \n",
    "                             remove_non_letters=False, \n",
    "                             steeming=False):\n",
    "        clean_texts = []\n",
    "        for txt_id in range(len(dataframe[column])):\n",
    "            clean_texts.append(Text_Cleaning_Utilities.text_to_wordlist(dataframe[column][txt_id],\n",
    "                                                                        remove_stopwords=remove_stopwords,\n",
    "                                                                        remove_html=remove_html,\n",
    "                                                                        remove_non_letters=remove_non_letters,\n",
    "                                                                        steeming=steeming))\n",
    "            \n",
    "        return clean_texts\n",
    "    \n",
    "    \n",
    "    @staticmethod\n",
    "    def text_to_sentences(text,\n",
    "                          remove_stopwords=False, \n",
    "                          remove_html=False, \n",
    "                          remove_non_letters=False, \n",
    "                          steeming=False,\n",
    "                          tokenizer=None,):\n",
    "        '''Split a text into parsed sentences. Returns a list of sentences, \n",
    "        where each sentence is a list of words'''\n",
    "        \n",
    "        # Load the punkt tokenizer (english) if no tokenizer passed\n",
    "        if not tokenizer:\n",
    "            tokenizer = nltk.data.load('tokenizers/punkt/english.pickle')\n",
    "\n",
    "        raw_sentences = tokenizer.tokenize(text.strip())\n",
    "        sentences = []\n",
    "        for raw_sentence in raw_sentences:\n",
    "            if len(raw_sentence) > 0:\n",
    "                sentences.append(Text_Cleaning_Utilities.text_to_wordlist(raw_sentence, \n",
    "                                                                          remove_stopwords=remove_stopwords,\n",
    "                                                                          remove_html=remove_html,\n",
    "                                                                          remove_non_letters=remove_non_letters,\n",
    "                                                                          steeming=steeming))\n",
    "        return sentences\n",
    "    \n",
    "\n",
    "    \n",
    "    @staticmethod\n",
    "    def df_to_list_of_sentences(dataframe, column, \n",
    "                                remove_stopwords=False, \n",
    "                                remove_html=False, \n",
    "                                remove_non_letters=False, \n",
    "                                steeming=False,\n",
    "                                tokenizer=None):\n",
    "        sentences = []\n",
    "        for txt_id in range(len(dataframe[column])):\n",
    "            sentences.append(Text_Cleaning_Utilities.text_to_sentences(dataframe[column][txt_id],\n",
    "                                                                       remove_stopwords=remove_stopwords,\n",
    "                                                                       remove_html=remove_html,\n",
    "                                                                       remove_non_letters=remove_non_letters,\n",
    "                                                                       steeming=steeming,\n",
    "                                                                       tokenizer=tokenizer))\n",
    "        return sentences"
   ]
  },
  {
   "cell_type": "markdown",
   "metadata": {},
   "source": [
    "Cleaning all the datasets and getting word lists\n",
    "--\n",
    "first set is without stopwords"
   ]
  },
  {
   "cell_type": "code",
   "execution_count": 9,
   "metadata": {
    "collapsed": false
   },
   "outputs": [],
   "source": [
    "clean_train_reviews = Text_Cleaning_Utilities.df_to_list_of_texts(train, 'review', remove_stopwords=True)\n",
    "clean_test_reviews = Text_Cleaning_Utilities.df_to_list_of_texts(test, 'review', remove_stopwords=True)"
   ]
  },
  {
   "cell_type": "code",
   "execution_count": 10,
   "metadata": {
    "collapsed": false
   },
   "outputs": [
    {
     "data": {
      "text/plain": [
       "'stuff going moment mj started listening music watching odd documentary watched w'"
      ]
     },
     "execution_count": 10,
     "metadata": {},
     "output_type": "execute_result"
    }
   ],
   "source": [
    "clean_train_reviews[0][0:80]"
   ]
  },
  {
   "cell_type": "code",
   "execution_count": 11,
   "metadata": {
    "collapsed": false
   },
   "outputs": [
    {
     "data": {
      "text/plain": [
       "'naturally film main themes mortality nostalgia loss innocence perhaps surprising'"
      ]
     },
     "execution_count": 11,
     "metadata": {},
     "output_type": "execute_result"
    }
   ],
   "source": [
    "clean_test_reviews[0][0:80]"
   ]
  },
  {
   "cell_type": "markdown",
   "metadata": {},
   "source": [
    "Second set mantains stopwords"
   ]
  },
  {
   "cell_type": "code",
   "execution_count": 12,
   "metadata": {
    "collapsed": false
   },
   "outputs": [],
   "source": [
    "clean_train_reviews_sw = Text_Cleaning_Utilities.df_to_list_of_texts(train, 'review')\n",
    "clean_test_reviews_sw = Text_Cleaning_Utilities.df_to_list_of_texts(test, 'review')"
   ]
  },
  {
   "cell_type": "code",
   "execution_count": 13,
   "metadata": {
    "collapsed": false
   },
   "outputs": [
    {
     "data": {
      "text/plain": [
       "'with all this stuff going down at the moment with mj ve started listening to his'"
      ]
     },
     "execution_count": 13,
     "metadata": {},
     "output_type": "execute_result"
    }
   ],
   "source": [
    "clean_train_reviews_sw[0][0:80]"
   ]
  },
  {
   "cell_type": "code",
   "execution_count": 14,
   "metadata": {
    "collapsed": false
   },
   "outputs": [
    {
     "data": {
      "text/plain": [
       "'naturally in film who main themes are of mortality nostalgia and loss of innocen'"
      ]
     },
     "execution_count": 14,
     "metadata": {},
     "output_type": "execute_result"
    }
   ],
   "source": [
    "clean_test_reviews_sw[0][0:80]"
   ]
  },
  {
   "cell_type": "markdown",
   "metadata": {
    "collapsed": false
   },
   "source": [
    "Saving Pickle"
   ]
  },
  {
   "cell_type": "code",
   "execution_count": 15,
   "metadata": {
    "collapsed": true
   },
   "outputs": [],
   "source": [
    "with open(os.path.join(outputs, 'clean_reviews.pkl'),'wb') as f:\n",
    "    pickle.dump((clean_train_reviews, \n",
    "                 clean_test_reviews,\n",
    "                 clean_train_reviews_sw, \n",
    "                 clean_test_reviews_sw),f)"
   ]
  },
  {
   "cell_type": "markdown",
   "metadata": {},
   "source": [
    "Loading Pickle  "
   ]
  },
  {
   "cell_type": "code",
   "execution_count": 16,
   "metadata": {
    "collapsed": false
   },
   "outputs": [],
   "source": [
    "with open(os.path.join(outputs, 'clean_reviews.pkl'),'rb') as f:\n",
    "    (clean_train_reviews, \n",
    "     clean_test_reviews,\n",
    "     clean_train_reviews_sw,\n",
    "     clean_test_reviews_sw) = pickle.load(f)"
   ]
  },
  {
   "cell_type": "markdown",
   "metadata": {},
   "source": [
    "Creating Features from a Bag of Words (Using scikit-learn)\n",
    "--\n",
    "\n",
    "Now that we have our training reviews tidied up, how do we convert them to some kind of numeric representation for machine learning? One common approach is called a Bag of Words. The Bag of Words model learns a vocabulary from all of the documents, then models each document by counting the number of times each word appears. For example, consider the following two sentences:\n",
    "\n",
    "Sentence 1: \"The cat sat on the hat\"  \n",
    "Sentence 2: \"The dog ate the cat and the hat\"  \n",
    "\n",
    "From these two sentences, our vocabulary is as follows:\n",
    "\n",
    "{ the, cat, sat, on, hat, dog, ate, and }\n",
    "\n",
    "To get our bags of words, we count the number of times each word occurs in each sentence. In Sentence 1, \"the\" appears twice, and \"cat\", \"sat\", \"on\", and \"hat\" each appear once, so the feature vector for Sentence 1 is:\n",
    "\n",
    "{ the, cat, sat, on, hat, dog, ate, and }\n",
    "\n",
    "Sentence 1: [ 2, 1, 1, 1, 1, 0, 0, 0 ]\n",
    "\n",
    "Similarly, the features for Sentence 2 are: [ 3, 1, 0, 0, 1, 1, 1, 1]\n",
    "\n",
    "In the IMDB data, we have a very large number of reviews, which will give us a large vocabulary. To limit the size of the feature vectors, we should choose some maximum vocabulary size. Below, we use the 5000 most frequent words (remembering that stop words have already been removed).\n",
    "\n",
    "We'll be using the feature_extraction module from scikit-learn to create bag-of-words features.  \n",
    "We will test two strategies: CountVectorizer (term frequecies - TF) and TFIDF Vectorizer:  \n",
    "First we'll start with plain word counts (TF):  "
   ]
  },
  {
   "cell_type": "code",
   "execution_count": 17,
   "metadata": {
    "collapsed": false
   },
   "outputs": [],
   "source": [
    "# Initialize the \"CountVectorizer\" object, which is scikit-learn's bag of words tool.\n",
    "#http://scikit-learn.org/stable/modules/generated/sklearn.feature_extraction.text.CountVectorizer.html\n",
    "vectorizer_tf = CountVectorizer(input='content', \n",
    "                               encoding='utf-8', \n",
    "                               decode_error='strict', \n",
    "                               strip_accents=None, \n",
    "                               lowercase=True, \n",
    "                               preprocessor=None, \n",
    "                               tokenizer=None, \n",
    "                               stop_words=None, \n",
    "                               #token_pattern='(?u)\\b\\w\\w+\\b',\n",
    "                               ngram_range=(1, 2),\n",
    "                               analyzer='word', \n",
    "                               max_df=1.0, \n",
    "                               min_df=1, \n",
    "                               max_features=5000, \n",
    "                               vocabulary=None, \n",
    "                               binary=False, \n",
    "                               dtype=np.int64,\n",
    "                              )"
   ]
  },
  {
   "cell_type": "markdown",
   "metadata": {},
   "source": [
    "Fit_transform() does two functions: First, it fits the model and learns the vocabulary; \n",
    "second, it transforms our training data into feature vectors. \n",
    "The input to fit_transform should be a list of strings."
   ]
  },
  {
   "cell_type": "code",
   "execution_count": 18,
   "metadata": {
    "collapsed": false
   },
   "outputs": [
    {
     "name": "stdout",
     "output_type": "stream",
     "text": [
      "(25000, 5000)\n"
     ]
    }
   ],
   "source": [
    "train_data_features_tf = vectorizer_tf.fit_transform(clean_train_reviews)\n",
    "train_data_features_tf = train_data_features_tf.toarray() # Numpy arrays are easy to work with\n",
    "print(train_data_features_tf.shape)"
   ]
  },
  {
   "cell_type": "code",
   "execution_count": 19,
   "metadata": {
    "collapsed": false
   },
   "outputs": [
    {
     "name": "stdout",
     "output_type": "stream",
     "text": [
      "(25000, 5000)\n"
     ]
    }
   ],
   "source": [
    "test_data_features_tf = vectorizer_tf.fit_transform(clean_test_reviews)\n",
    "test_data_features_tf = test_data_features_tf.toarray() # Numpy arrays are easy to work with\n",
    "print(test_data_features_tf.shape)"
   ]
  },
  {
   "cell_type": "markdown",
   "metadata": {},
   "source": [
    "Now we are going to use TfIDf vectors:"
   ]
  },
  {
   "cell_type": "code",
   "execution_count": 20,
   "metadata": {
    "collapsed": true
   },
   "outputs": [],
   "source": [
    "#http://scikit-learn.org/stable/modules/generated/sklearn.feature_extraction.text.TfidfVectorizer.html\n",
    "#Another approach using TfIDf vectorizer and using the texts with stopwords in:\n",
    "#https://github.com/zygmuntz/classifying-text/blob/master/bow_predict.py \n",
    "vectorizer_tfidf = TfidfVectorizer(input='content',\n",
    "                                  #encoding='utf-8',\n",
    "                                  decode_error='strict',\n",
    "                                  strip_accents=None,\n",
    "                                  lowercase=True,\n",
    "                                  preprocessor=None,\n",
    "                                  tokenizer=None,\n",
    "                                  analyzer='word',\n",
    "                                  stop_words=None,\n",
    "                                  #token_pattern='(?u)\\b\\w\\w+\\b',\n",
    "                                  ngram_range=(1, 2),\n",
    "                                  max_df=1.0,\n",
    "                                  min_df=1,\n",
    "                                  max_features=5000,\n",
    "                                  vocabulary=None, \n",
    "                                  binary=False, \n",
    "                                  dtype=np.int64,\n",
    "                                  norm='l2',\n",
    "                                  use_idf=True,\n",
    "                                  smooth_idf=True,\n",
    "                                  sublinear_tf=True)"
   ]
  },
  {
   "cell_type": "code",
   "execution_count": 21,
   "metadata": {
    "collapsed": false
   },
   "outputs": [
    {
     "name": "stdout",
     "output_type": "stream",
     "text": [
      "(25000, 5000)\n"
     ]
    }
   ],
   "source": [
    "train_data_features_tfidf = vectorizer_tfidf.fit_transform(clean_train_reviews_sw)\n",
    "train_data_features_tfidf = train_data_features_tfidf.toarray() # Numpy arrays are easy to work with\n",
    "print(train_data_features_tfidf.shape)"
   ]
  },
  {
   "cell_type": "code",
   "execution_count": 22,
   "metadata": {
    "collapsed": false
   },
   "outputs": [
    {
     "name": "stdout",
     "output_type": "stream",
     "text": [
      "(25000, 5000)\n"
     ]
    }
   ],
   "source": [
    "test_data_features_tfidf = vectorizer_tfidf.fit_transform(clean_test_reviews_sw)\n",
    "test_data_features_tfidf = test_data_features_tfidf.toarray() # Numpy arrays are easy to work with\n",
    "print(test_data_features_tfidf.shape)"
   ]
  },
  {
   "cell_type": "markdown",
   "metadata": {},
   "source": [
    "Saving Pickle"
   ]
  },
  {
   "cell_type": "code",
   "execution_count": 23,
   "metadata": {
    "collapsed": false
   },
   "outputs": [],
   "source": [
    "with open(os.path.join(outputs, 'train_test_data_features.pkl'),'wb') as f:\n",
    "    pickle.dump((train_data_features_tf, \n",
    "                 test_data_features_tf,\n",
    "                 train_data_features_tfidf,\n",
    "                 test_data_features_tfidf),f)"
   ]
  },
  {
   "cell_type": "markdown",
   "metadata": {},
   "source": [
    "Reading Pickle"
   ]
  },
  {
   "cell_type": "code",
   "execution_count": 24,
   "metadata": {
    "collapsed": false
   },
   "outputs": [],
   "source": [
    "with open(os.path.join(outputs, 'train_test_data_features.pkl'),'rb') as f:\n",
    "    (train_data_features_tf, \n",
    "    test_data_features_tf,\n",
    "    train_data_features_tfidf,\n",
    "    test_data_features_tfidf) = pickle.load(f)"
   ]
  },
  {
   "cell_type": "markdown",
   "metadata": {},
   "source": [
    "Dividing Train set for Cross Validation  \n",
    "--"
   ]
  },
  {
   "cell_type": "markdown",
   "metadata": {
    "collapsed": false
   },
   "source": [
    "https://github.com/zygmuntz/classifying-text/blob/master/bow_validate.py  \n",
    "Alternatively, we can use the indexes to divide the train samples  \n",
    "\n",
    "train_i, test_i = train_test_split(np.arange(len(train)), train_size = 0.8, random_state = 44)  \n",
    "\n",
    "After generating indexes, we can divide ou datasets:  \n",
    "traincv = train_data_features1[train_i]  \n",
    "testcv = train_data_features1[test_i]"
   ]
  },
  {
   "cell_type": "code",
   "execution_count": 25,
   "metadata": {
    "collapsed": true
   },
   "outputs": [],
   "source": [
    "#Plain Word Counts\n",
    "X_traincv_tf, X_testcv_tf, y_traincv_tf, y_testcv_tf = train_test_split(train_data_features_tf,\n",
    "                                                                        train[\"sentiment\"],\n",
    "                                                                        test_size=0.2,\n",
    "                                                                        random_state=0)"
   ]
  },
  {
   "cell_type": "code",
   "execution_count": 26,
   "metadata": {
    "collapsed": true
   },
   "outputs": [],
   "source": [
    "#TfIdf\n",
    "X_traincv_tfidf, X_testcv_tfidf, y_traincv_tfidf, y_testcv_tfidf = train_test_split(train_data_features_tfidf,\n",
    "                                                                                    train[\"sentiment\"],\n",
    "                                                                                    test_size=0.2,\n",
    "                                                                                    random_state=0)"
   ]
  },
  {
   "cell_type": "markdown",
   "metadata": {},
   "source": [
    "Training some Classifiers  \n",
    "--"
   ]
  },
  {
   "cell_type": "markdown",
   "metadata": {},
   "source": [
    "At this point, we have numeric training features from the Bag of Words and the original sentiment labels for each feature vector, so let's do some supervised learning! Here, we'll use some classifiers implementations included in  the scikit-learn package."
   ]
  },
  {
   "cell_type": "markdown",
   "metadata": {},
   "source": [
    "#### Random Forest"
   ]
  },
  {
   "cell_type": "code",
   "execution_count": 27,
   "metadata": {
    "collapsed": false
   },
   "outputs": [],
   "source": [
    "# Initialize a Random Forest classifier with 300 trees\n",
    "from sklearn.ensemble import RandomForestClassifier\n",
    "\n",
    "clf_RF_tf = RandomForestClassifier(n_estimators=300, \n",
    "                                   criterion='gini', \n",
    "                                   max_depth=None, \n",
    "                                   min_samples_split=2, \n",
    "                                   min_samples_leaf=1, \n",
    "                                   min_weight_fraction_leaf=0.0, \n",
    "                                   max_features='auto', \n",
    "                                   max_leaf_nodes=None, \n",
    "                                   bootstrap=False, \n",
    "                                   oob_score=False, \n",
    "                                   n_jobs=-1, \n",
    "                                   random_state=0, \n",
    "                                   verbose=0, \n",
    "                                   warm_start=False, \n",
    "                                   class_weight=None).fit(X_traincv_tf, y_traincv_tf)"
   ]
  },
  {
   "cell_type": "code",
   "execution_count": 28,
   "metadata": {
    "collapsed": false
   },
   "outputs": [
    {
     "name": "stdout",
     "output_type": "stream",
     "text": [
      "0.859\n"
     ]
    }
   ],
   "source": [
    "eval_RF_tf_tts = clf_RF_tf.score(X_testcv_tf, y_testcv_tf)\n",
    "print(eval_RF_tf_tts)"
   ]
  },
  {
   "cell_type": "code",
   "execution_count": 29,
   "metadata": {
    "collapsed": false
   },
   "outputs": [
    {
     "data": {
      "text/plain": [
       "array([[ 0.44666667,  0.55333333],\n",
       "       [ 0.36666667,  0.63333333],\n",
       "       [ 0.36333333,  0.63666667],\n",
       "       ..., \n",
       "       [ 0.32      ,  0.68      ],\n",
       "       [ 0.78      ,  0.22      ],\n",
       "       [ 0.20333333,  0.79666667]])"
      ]
     },
     "execution_count": 29,
     "metadata": {},
     "output_type": "execute_result"
    }
   ],
   "source": [
    "clf_RF_tf.predict_proba(X_testcv_tf)"
   ]
  },
  {
   "cell_type": "markdown",
   "metadata": {},
   "source": [
    "Now we are going to train on the TfIdf samples:"
   ]
  },
  {
   "cell_type": "code",
   "execution_count": 30,
   "metadata": {
    "collapsed": false
   },
   "outputs": [],
   "source": [
    "# Initialize a Random Forest classifier with 300 trees\n",
    "clf_RF_tfidf = RandomForestClassifier(n_estimators=300, \n",
    "                                      criterion='gini', \n",
    "                                      max_depth=None, \n",
    "                                      min_samples_split=2, \n",
    "                                      min_samples_leaf=1, \n",
    "                                      min_weight_fraction_leaf=0.0, \n",
    "                                      max_features='auto', \n",
    "                                      max_leaf_nodes=None, \n",
    "                                      bootstrap=False, \n",
    "                                      oob_score=False, \n",
    "                                      n_jobs=-1, \n",
    "                                      random_state=0, \n",
    "                                      verbose=0, \n",
    "                                      warm_start=False, \n",
    "                                      class_weight=None).fit(X_traincv_tfidf, y_traincv_tfidf)"
   ]
  },
  {
   "cell_type": "code",
   "execution_count": 31,
   "metadata": {
    "collapsed": false
   },
   "outputs": [
    {
     "name": "stdout",
     "output_type": "stream",
     "text": [
      "0.853\n"
     ]
    }
   ],
   "source": [
    "eval_RF_tfidf_tts = clf_RF_tfidf.score(X_testcv_tfidf, y_testcv_tfidf)\n",
    "print(eval_RF_tfidf_tts)"
   ]
  },
  {
   "cell_type": "code",
   "execution_count": 32,
   "metadata": {
    "collapsed": false
   },
   "outputs": [
    {
     "data": {
      "text/plain": [
       "array([[ 0.44333333,  0.55666667],\n",
       "       [ 0.32333333,  0.67666667],\n",
       "       [ 0.24      ,  0.76      ],\n",
       "       ..., \n",
       "       [ 0.27      ,  0.73      ],\n",
       "       [ 0.71      ,  0.29      ],\n",
       "       [ 0.31      ,  0.69      ]])"
      ]
     },
     "execution_count": 32,
     "metadata": {},
     "output_type": "execute_result"
    }
   ],
   "source": [
    "clf_RF_tfidf.predict_proba(X_testcv_tfidf)"
   ]
  },
  {
   "cell_type": "markdown",
   "metadata": {},
   "source": [
    "#### Logistic Regression  "
   ]
  },
  {
   "cell_type": "code",
   "execution_count": 33,
   "metadata": {
    "collapsed": false
   },
   "outputs": [],
   "source": [
    "#http://scikit-learn.org/stable/modules/generated/sklearn.linear_model.LogisticRegression.html\n",
    "from sklearn.linear_model import LogisticRegression as LR\n",
    "\n",
    "clf_LR_tf = LR(penalty='l2',\n",
    "               dual=False,\n",
    "               tol=0.0001,\n",
    "               C=1.0,\n",
    "               fit_intercept=True,\n",
    "               intercept_scaling=1,\n",
    "               class_weight=None,\n",
    "               random_state=0,\n",
    "               solver='liblinear',\n",
    "               max_iter=100,\n",
    "               multi_class='ovr',\n",
    "               verbose=0).fit(X_traincv_tf, y_traincv_tf)"
   ]
  },
  {
   "cell_type": "code",
   "execution_count": 34,
   "metadata": {
    "collapsed": false
   },
   "outputs": [
    {
     "name": "stdout",
     "output_type": "stream",
     "text": [
      "0.851\n"
     ]
    }
   ],
   "source": [
    "eval_LR_tf_tts = clf_LR_tf.score(X_testcv_tf, y_testcv_tf)\n",
    "print(eval_LR_tf_tts)"
   ]
  },
  {
   "cell_type": "code",
   "execution_count": 35,
   "metadata": {
    "collapsed": false
   },
   "outputs": [],
   "source": [
    "clf_LR_tfidf = LR(penalty='l2',\n",
    "                  dual=False,\n",
    "                  tol=0.0001,\n",
    "                  C=1.0,\n",
    "                  fit_intercept=True,\n",
    "                  intercept_scaling=1,\n",
    "                  class_weight=None,\n",
    "                  random_state=0,\n",
    "                  solver='liblinear',\n",
    "                  max_iter=100,\n",
    "                  multi_class='ovr',\n",
    "                  verbose=0).fit(X_traincv_tfidf, y_traincv_tfidf)"
   ]
  },
  {
   "cell_type": "code",
   "execution_count": 36,
   "metadata": {
    "collapsed": false
   },
   "outputs": [
    {
     "name": "stdout",
     "output_type": "stream",
     "text": [
      "0.8926\n"
     ]
    }
   ],
   "source": [
    "eval_LR_tfidf_tts = clf_LR_tfidf.score(X_testcv_tfidf, y_testcv_tfidf)\n",
    "print(eval_LR_tfidf_tts)"
   ]
  },
  {
   "cell_type": "markdown",
   "metadata": {},
   "source": [
    "#### Gradient Boost Classifier  "
   ]
  },
  {
   "cell_type": "code",
   "execution_count": 37,
   "metadata": {
    "collapsed": false
   },
   "outputs": [],
   "source": [
    "#http://scikit-learn.org/stable/modules/generated/sklearn.ensemble.GradientBoostingClassifier.html\n",
    "from sklearn.ensemble import GradientBoostingClassifier\n",
    "\n",
    "clf_GBC_tf = GradientBoostingClassifier(loss='deviance',\n",
    "                                        learning_rate=0.1,\n",
    "                                        n_estimators=100,\n",
    "                                        subsample=1.0,\n",
    "                                        min_samples_split=2,\n",
    "                                        min_samples_leaf=1,\n",
    "                                        min_weight_fraction_leaf=0.0,\n",
    "                                        max_depth=3,\n",
    "                                        init=None,\n",
    "                                        random_state=0,\n",
    "                                        max_features=None,\n",
    "                                        verbose=0,\n",
    "                                        max_leaf_nodes=None,\n",
    "                                        warm_start=False,\n",
    "                                        presort='auto').fit(X_traincv_tf, y_traincv_tf)"
   ]
  },
  {
   "cell_type": "code",
   "execution_count": 38,
   "metadata": {
    "collapsed": false
   },
   "outputs": [
    {
     "name": "stdout",
     "output_type": "stream",
     "text": [
      "0.8082\n"
     ]
    }
   ],
   "source": [
    "eval_GBC_tf_tts = clf_GBC_tf.score(X_testcv_tf, y_testcv_tf)\n",
    "print(eval_GBC_tf_tts)"
   ]
  },
  {
   "cell_type": "code",
   "execution_count": 39,
   "metadata": {
    "collapsed": false
   },
   "outputs": [],
   "source": [
    "clf_GBC_tfidf = GradientBoostingClassifier(loss='deviance',\n",
    "                                           learning_rate=0.1,\n",
    "                                           n_estimators=100,\n",
    "                                           subsample=1.0,\n",
    "                                           min_samples_split=2,\n",
    "                                           min_samples_leaf=1,\n",
    "                                           min_weight_fraction_leaf=0.0,\n",
    "                                           max_depth=3,\n",
    "                                           init=None,\n",
    "                                           random_state=0,\n",
    "                                           max_features=None,\n",
    "                                           verbose=0,\n",
    "                                           max_leaf_nodes=None,\n",
    "                                           warm_start=False,\n",
    "                                           presort='auto').fit(X_traincv_tfidf, y_traincv_tfidf)"
   ]
  },
  {
   "cell_type": "code",
   "execution_count": 40,
   "metadata": {
    "collapsed": false
   },
   "outputs": [
    {
     "name": "stdout",
     "output_type": "stream",
     "text": [
      "0.8132\n"
     ]
    }
   ],
   "source": [
    "eval_GBC_tfidf_tts = clf_GBC_tfidf.score(X_testcv_tfidf, y_testcv_tfidf)\n",
    "print(eval_GBC_tfidf_tts)"
   ]
  },
  {
   "cell_type": "markdown",
   "metadata": {},
   "source": [
    "#### Let's do some voting"
   ]
  },
  {
   "cell_type": "code",
   "execution_count": 41,
   "metadata": {
    "collapsed": false
   },
   "outputs": [],
   "source": [
    "# http://scikit-learn.org/stable/modules/generated/sklearn.ensemble.VotingClassifier.html\n",
    "from sklearn.ensemble import VotingClassifier\n",
    "\n",
    "clf_vot_tf = VotingClassifier(estimators=[('rf', clf_RF_tf),\n",
    "                                          ('lr', clf_LR_tf),\n",
    "                                          ('gbc', clf_GBC_tf)], voting='soft').fit(X_traincv_tf, y_traincv_tf)"
   ]
  },
  {
   "cell_type": "code",
   "execution_count": 42,
   "metadata": {
    "collapsed": false
   },
   "outputs": [
    {
     "name": "stdout",
     "output_type": "stream",
     "text": [
      "0.8684\n"
     ]
    }
   ],
   "source": [
    "eval_vot_tf_tts = clf_vot_tf.score(X_testcv_tf, y_testcv_tf)\n",
    "print(eval_vot_tf_tts)"
   ]
  },
  {
   "cell_type": "code",
   "execution_count": 43,
   "metadata": {
    "collapsed": false
   },
   "outputs": [],
   "source": [
    "clf_vot_tfidf = VotingClassifier(estimators=[('rf', clf_RF_tfidf),\n",
    "                                             ('lr', clf_LR_tfidf),\n",
    "                                             ('gbc', clf_GBC_tfidf)], voting='soft').fit(X_traincv_tfidf, y_traincv_tfidf)"
   ]
  },
  {
   "cell_type": "code",
   "execution_count": 44,
   "metadata": {
    "collapsed": false
   },
   "outputs": [
    {
     "name": "stdout",
     "output_type": "stream",
     "text": [
      "0.8798\n"
     ]
    }
   ],
   "source": [
    "eval_vot_tfidf_tts = clf_vot_tfidf.score(X_testcv_tfidf, y_testcv_tfidf)\n",
    "print(eval_vot_tfidf_tts)"
   ]
  },
  {
   "cell_type": "markdown",
   "metadata": {},
   "source": [
    "Saving the trained classifiers"
   ]
  },
  {
   "cell_type": "code",
   "execution_count": 45,
   "metadata": {
    "collapsed": false
   },
   "outputs": [],
   "source": [
    "with open(os.path.join(outputs, 'classifiers.pkl'),'wb') as f:\n",
    "    pickle.dump((clf_RF_tf, eval_RF_tf_tts,\n",
    "                 clf_RF_tfidf, eval_RF_tfidf_tts,\n",
    "                 clf_LR_tf, eval_LR_tf_tts,\n",
    "                 clf_LR_tfidf, eval_LR_tfidf_tts,                \n",
    "                 clf_GBC_tf, eval_GBC_tf_tts,\n",
    "                 clf_GBC_tfidf, eval_GBC_tfidf_tts,\n",
    "                 clf_vot_tf, eval_vot_tf_tts,\n",
    "                 clf_vot_tfidf, eval_vot_tfidf_tts),f)"
   ]
  },
  {
   "cell_type": "markdown",
   "metadata": {},
   "source": [
    "Loading the classifiers from Pickle"
   ]
  },
  {
   "cell_type": "code",
   "execution_count": 46,
   "metadata": {
    "collapsed": false
   },
   "outputs": [],
   "source": [
    "with open(os.path.join(outputs, 'classifiers.pkl'),'rb') as f:\n",
    "    (clf_RF_tf, eval_RF_tf_tts,\n",
    "     clf_RF_tfidf, eval_RF_tfidf_tts,\n",
    "     clf_LR_tf, eval_LR_tf_tts,\n",
    "     clf_LR_tfidf, eval_LR_tfidf_tts,                \n",
    "     clf_GBC_tf, eval_GBC_tf_tts,\n",
    "     clf_GBC_tfidf, eval_GBC_tfidf_tts,\n",
    "     clf_vot_tf, eval_vot_tf_tts,\n",
    "     clf_vot_tfidf, eval_vot_tfidf_tts) = pickle.load(f)"
   ]
  },
  {
   "cell_type": "code",
   "execution_count": 47,
   "metadata": {
    "collapsed": false
   },
   "outputs": [
    {
     "data": {
      "image/png": "[encoded data removed]",
      "text/plain": [
       "<matplotlib.figure.Figure at 0x7f2734911eb8>"
      ]
     },
     "metadata": {},
     "output_type": "display_data"
    }
   ],
   "source": [
    "dic_results = {'RandomForest_TF': eval_RF_tf_tts,\n",
    "               'RandomForest_TFIDF': eval_RF_tfidf_tts,\n",
    "               'LogiReg_TF': eval_LR_tf_tts,\n",
    "               'LogiReg_TFIDF': eval_LR_tfidf_tts,\n",
    "               'GradBoost_TF': eval_GBC_tf_tts,\n",
    "               'GradBoost_TFIDF': eval_GBC_tfidf_tts,\n",
    "               'Voting_TF': eval_vot_tf_tts,\n",
    "               'Voting_TFIDF': eval_vot_tfidf_tts,\n",
    "              }\n",
    "\n",
    "import operator\n",
    "tup_results = sorted(dic_results.items(), key=operator.itemgetter(1))\n",
    "\n",
    "N = len(dic_results)\n",
    "ind = np.arange(N)  # the x locations for the groups\n",
    "width = 0.40       # the width of the bars\n",
    "\n",
    "fig = plt.figure(figsize=(12,8))\n",
    "ax = fig.add_subplot(111)\n",
    "rects = ax.bar(ind, list(zip(*tup_results))[1], width,)\n",
    "for rect in rects:\n",
    "    height = rect.get_height()\n",
    "    ax.text(rect.get_x()+rect.get_width()/2., \n",
    "            1.005*height, \n",
    "            '{0:.4f}'.format(height), \n",
    "            ha='center', \n",
    "            va='bottom',)\n",
    "\n",
    "ax.set_ylabel('Scores')\n",
    "ax.set_ylim(ymin=0.78,ymax = 0.92)\n",
    "ax.set_title(\"Classificators' performance\")\n",
    "ax.set_xticks(ind + width/2.)\n",
    "ax.set_xticklabels(list(zip(*tup_results))[0], rotation=45)\n",
    "\n",
    "plt.show()"
   ]
  },
  {
   "cell_type": "markdown",
   "metadata": {},
   "source": [
    "Creating a Submission  \n",
    "--\n",
    "\n",
    "All that remains is to run the best classifier on our test set and create a submission file. If you haven't already done so, download testData.tsv from the Data page. This file contains another 25,000 reviews and ids; our task is to predict the sentiment label.\n",
    "\n",
    "Note that when we use the Bag of Words for the test set, we only call \"transform\", not \"fit_transform\" as we did for the training set. In machine learning, you shouldn't use the test set to fit your model, otherwise you run the risk of overfitting. For this reason, we keep the test set off-limits until we are ready to make predictions."
   ]
  },
  {
   "cell_type": "code",
   "execution_count": 48,
   "metadata": {
    "collapsed": false
   },
   "outputs": [
    {
     "name": "stdout",
     "output_type": "stream",
     "text": [
      "<class 'pandas.core.frame.DataFrame'>\n",
      "RangeIndex: 25000 entries, 0 to 24999\n",
      "Data columns (total 2 columns):\n",
      "id        25000 non-null object\n",
      "review    25000 non-null object\n",
      "dtypes: object(2)\n",
      "memory usage: 390.7+ KB\n"
     ]
    }
   ],
   "source": [
    "test.info()"
   ]
  },
  {
   "cell_type": "code",
   "execution_count": 49,
   "metadata": {
    "collapsed": false
   },
   "outputs": [
    {
     "data": {
      "text/html": [
       "<div>\n",
       "<table border=\"1\" class=\"dataframe\">\n",
       "  <thead>\n",
       "    <tr style=\"text-align: right;\">\n",
       "      <th></th>\n",
       "      <th>id</th>\n",
       "      <th>review</th>\n",
       "    </tr>\n",
       "  </thead>\n",
       "  <tbody>\n",
       "    <tr>\n",
       "      <th>0</th>\n",
       "      <td>\"12311_10\"</td>\n",
       "      <td>\"Naturally in a film who's main themes are of ...</td>\n",
       "    </tr>\n",
       "    <tr>\n",
       "      <th>1</th>\n",
       "      <td>\"8348_2\"</td>\n",
       "      <td>\"This movie is a disaster within a disaster fi...</td>\n",
       "    </tr>\n",
       "    <tr>\n",
       "      <th>2</th>\n",
       "      <td>\"5828_4\"</td>\n",
       "      <td>\"All in all, this is a movie for kids. We saw ...</td>\n",
       "    </tr>\n",
       "    <tr>\n",
       "      <th>3</th>\n",
       "      <td>\"7186_2\"</td>\n",
       "      <td>\"Afraid of the Dark left me with the impressio...</td>\n",
       "    </tr>\n",
       "    <tr>\n",
       "      <th>4</th>\n",
       "      <td>\"12128_7\"</td>\n",
       "      <td>\"A very accurate depiction of small time mob l...</td>\n",
       "    </tr>\n",
       "  </tbody>\n",
       "</table>\n",
       "</div>"
      ],
      "text/plain": [
       "           id                                             review\n",
       "0  \"12311_10\"  \"Naturally in a film who's main themes are of ...\n",
       "1    \"8348_2\"  \"This movie is a disaster within a disaster fi...\n",
       "2    \"5828_4\"  \"All in all, this is a movie for kids. We saw ...\n",
       "3    \"7186_2\"  \"Afraid of the Dark left me with the impressio...\n",
       "4   \"12128_7\"  \"A very accurate depiction of small time mob l..."
      ]
     },
     "execution_count": 49,
     "metadata": {},
     "output_type": "execute_result"
    }
   ],
   "source": [
    "test.head()"
   ]
  },
  {
   "cell_type": "code",
   "execution_count": 50,
   "metadata": {
    "collapsed": false
   },
   "outputs": [
    {
     "data": {
      "text/plain": [
       "(25000, 5000)"
      ]
     },
     "execution_count": 50,
     "metadata": {},
     "output_type": "execute_result"
    }
   ],
   "source": [
    "test_data_features_tfidf.shape"
   ]
  },
  {
   "cell_type": "code",
   "execution_count": 51,
   "metadata": {
    "collapsed": false
   },
   "outputs": [],
   "source": [
    "# Use the logistic regression with tfidf vectors to make sentiment label predictions\n",
    "result = clf_LR_tfidf.predict(test_data_features_tfidf)\n",
    "result_prob = clf_LR_tfidf.predict_proba(test_data_features_tfidf)\n",
    "output = pd.DataFrame(data={\"id\":test[\"id\"], \"sentiment\":result,})# \"probs\":result_prob[:,1]})\n",
    "# Use pandas to write the comma-separated output file\n",
    "output.to_csv(os.path.join(outputs,'LR_tfidf_model.csv'), index=False, quoting=3)"
   ]
  },
  {
   "cell_type": "code",
   "execution_count": 52,
   "metadata": {
    "collapsed": false
   },
   "outputs": [
    {
     "data": {
      "text/html": [
       "<div>\n",
       "<table border=\"1\" class=\"dataframe\">\n",
       "  <thead>\n",
       "    <tr style=\"text-align: right;\">\n",
       "      <th></th>\n",
       "      <th>id</th>\n",
       "      <th>sentiment</th>\n",
       "    </tr>\n",
       "  </thead>\n",
       "  <tbody>\n",
       "    <tr>\n",
       "      <th>0</th>\n",
       "      <td>\"12311_10\"</td>\n",
       "      <td>0</td>\n",
       "    </tr>\n",
       "    <tr>\n",
       "      <th>1</th>\n",
       "      <td>\"8348_2\"</td>\n",
       "      <td>1</td>\n",
       "    </tr>\n",
       "    <tr>\n",
       "      <th>2</th>\n",
       "      <td>\"5828_4\"</td>\n",
       "      <td>1</td>\n",
       "    </tr>\n",
       "    <tr>\n",
       "      <th>3</th>\n",
       "      <td>\"7186_2\"</td>\n",
       "      <td>0</td>\n",
       "    </tr>\n",
       "    <tr>\n",
       "      <th>4</th>\n",
       "      <td>\"12128_7\"</td>\n",
       "      <td>0</td>\n",
       "    </tr>\n",
       "  </tbody>\n",
       "</table>\n",
       "</div>"
      ],
      "text/plain": [
       "           id  sentiment\n",
       "0  \"12311_10\"          0\n",
       "1    \"8348_2\"          1\n",
       "2    \"5828_4\"          1\n",
       "3    \"7186_2\"          0\n",
       "4   \"12128_7\"          0"
      ]
     },
     "execution_count": 52,
     "metadata": {},
     "output_type": "execute_result"
    }
   ],
   "source": [
    "output.head()"
   ]
  },
  {
   "cell_type": "markdown",
   "metadata": {},
   "source": [
    "Part 2: Alternative Vectors\n",
    "--\n",
    "\n",
    "In the subsequent sections, we are going to explore alternate ways to codify text into vectors. We are going to explore three techniques, namely Latent Semantic Indexing (LSI), Latent Dirichlet Allocation (LDA) and Word2vec."
   ]
  },
  {
   "cell_type": "markdown",
   "metadata": {},
   "source": [
    "### Topic Modeling and Topic Vectors"
   ]
  },
  {
   "cell_type": "markdown",
   "metadata": {},
   "source": [
    "To build the models, the more we have texts, the better. The size of the Corpus is essential for having good results. We don't need labels in order to create the models, so we will use the train examples and also some unlabeled reviews. The list of cleaned sentences will be used for all the subsequent models."
   ]
  },
  {
   "cell_type": "code",
   "execution_count": 53,
   "metadata": {
    "collapsed": true
   },
   "outputs": [],
   "source": [
    "import logging\n",
    "logging.basicConfig(format='%(asctime)s : %(levelname)s : %(message)s', level=logging.INFO)"
   ]
  },
  {
   "cell_type": "code",
   "execution_count": 54,
   "metadata": {
    "collapsed": false
   },
   "outputs": [
    {
     "name": "stdout",
     "output_type": "stream",
     "text": [
      "Parsing sentences from training set\n",
      "Parsing sentences from unlabeled set\n"
     ]
    }
   ],
   "source": [
    "print(\"Parsing sentences from training set\")\n",
    "sentences = Text_Cleaning_Utilities.df_to_list_of_tokens(train,\n",
    "                                                         'review', \n",
    "                                                         remove_html=True,\n",
    "                                                         remove_stopwords=True,)\n",
    "print(\"Parsing sentences from unlabeled set\")\n",
    "sentences += Text_Cleaning_Utilities.df_to_list_of_tokens(unlabeled_train,\n",
    "                                                          'review', \n",
    "                                                          remove_html=True,\n",
    "                                                          remove_stopwords=True,)"
   ]
  },
  {
   "cell_type": "code",
   "execution_count": 55,
   "metadata": {
    "collapsed": false
   },
   "outputs": [
    {
     "data": {
      "text/plain": [
       "75000"
      ]
     },
     "execution_count": 55,
     "metadata": {},
     "output_type": "execute_result"
    }
   ],
   "source": [
    "len(sentences)"
   ]
  },
  {
   "cell_type": "markdown",
   "metadata": {},
   "source": [
    "Saving sentences to a Pickle"
   ]
  },
  {
   "cell_type": "code",
   "execution_count": 56,
   "metadata": {
    "collapsed": true
   },
   "outputs": [],
   "source": [
    "with open(os.path.join(outputs, 'sentences.pkl'),'wb') as f:\n",
    "    pickle.dump(sentences,f)"
   ]
  },
  {
   "cell_type": "markdown",
   "metadata": {},
   "source": [
    "Loading sentences from a Pickle"
   ]
  },
  {
   "cell_type": "code",
   "execution_count": 57,
   "metadata": {
    "collapsed": true
   },
   "outputs": [],
   "source": [
    "with open(os.path.join(outputs, 'sentences.pkl'),'rb') as f:\n",
    "    sentences = pickle.load(f)"
   ]
  },
  {
   "cell_type": "code",
   "execution_count": 58,
   "metadata": {
    "collapsed": true
   },
   "outputs": [],
   "source": [
    "def nltk_stopwords():\n",
    "    return set(nltk.corpus.stopwords.words('english'))\n",
    "\n",
    "def prep_corpus(docs, additional_stopwords=set(), no_below=4, no_above=0.7):\n",
    "    print('Building dictionary...')\n",
    "    dictionary = corpora.Dictionary(docs)\n",
    "    print('{} Tokens extracted from {} texts'.format(len(dictionary.keys()), dictionary.num_docs))\n",
    "    stopwords = nltk_stopwords().union(additional_stopwords)\n",
    "    #stopword_ids = [dictionary.token2id[sw] for sw in stopwords if sw in dictionary.token2id]\n",
    "    stopword_ids = map(dictionary.token2id.get, stopwords)\n",
    "    dictionary.filter_tokens(stopword_ids)\n",
    "    #low_freq_ids = [tokenid for tokenid, docfreq in dictionary.dfs.items() if docfreq < 4]\n",
    "    #dictionary.filter_tokens(low_freq_ids)\n",
    "    dictionary.filter_extremes(no_below=no_below, no_above=no_above, keep_n=None)\n",
    "    dictionary.compactify()\n",
    "    print('{} Tokens after cleaning'.format(len(dictionary.keys())))\n",
    "    #print('Building corpus...')\n",
    "    #corpus = [dictionary.doc2bow(doc) for doc in docs]\n",
    "    return dictionary #, corpus"
   ]
  },
  {
   "cell_type": "markdown",
   "metadata": {},
   "source": [
    "Compacting and saving the dictionary"
   ]
  },
  {
   "cell_type": "code",
   "execution_count": 59,
   "metadata": {
    "collapsed": false
   },
   "outputs": [
    {
     "name": "stdout",
     "output_type": "stream",
     "text": [
      "Building dictionary...\n",
      "256791 Tokens extracted from 75000 texts\n",
      "56377 Tokens after cleaning\n",
      "dictionary done\n",
      "dictionary saved\n"
     ]
    }
   ],
   "source": [
    "additional_stopwords=set(['n\\'t', 'movie'])\n",
    "\n",
    "dictionary = prep_corpus(sentences, additional_stopwords)\n",
    "dictionary.compactify()\n",
    "print('dictionary done')\n",
    "\n",
    "dictionary.save(os.path.join(outputs, 'reviews.dict'))\n",
    "print('dictionary saved')"
   ]
  },
  {
   "cell_type": "code",
   "execution_count": 60,
   "metadata": {
    "collapsed": false
   },
   "outputs": [
    {
     "name": "stdout",
     "output_type": "stream",
     "text": [
      "21059\n"
     ]
    }
   ],
   "source": [
    "#print(dictionary.token2id['movie'])\n",
    "#print(dictionary.token2id['n\\'t'])\n",
    "print(dictionary.token2id['like'])"
   ]
  },
  {
   "cell_type": "markdown",
   "metadata": {},
   "source": [
    "Loading dictionary"
   ]
  },
  {
   "cell_type": "code",
   "execution_count": 61,
   "metadata": {
    "collapsed": false
   },
   "outputs": [],
   "source": [
    "dictionary = corpora.dictionary.Dictionary.load(os.path.join(outputs, 'reviews.dict'))"
   ]
  },
  {
   "cell_type": "markdown",
   "metadata": {},
   "source": [
    "Generating the Corpora (tf and tfidf"
   ]
  },
  {
   "cell_type": "code",
   "execution_count": 62,
   "metadata": {
    "collapsed": false
   },
   "outputs": [
    {
     "name": "stdout",
     "output_type": "stream",
     "text": [
      "corpus tf done\n",
      "corpus tfidf done\n"
     ]
    }
   ],
   "source": [
    "corpus_tf = [dictionary.doc2bow(sentence) for sentence in sentences]\n",
    "print('corpus tf done')\n",
    "tfidf = models.TfidfModel(corpus_tf)\n",
    "corpus_tfidf = tfidf[corpus_tf]\n",
    "print('corpus tfidf done')"
   ]
  },
  {
   "cell_type": "markdown",
   "metadata": {},
   "source": [
    "Saving the Corpora"
   ]
  },
  {
   "cell_type": "code",
   "execution_count": 63,
   "metadata": {
    "collapsed": false
   },
   "outputs": [],
   "source": [
    "corpora.MmCorpus.serialize(os.path.join(outputs, 'corpus_tf.mm'), corpus_tf)\n",
    "corpora.MmCorpus.serialize(os.path.join(outputs, 'corpus_tfidf.mm'), corpus_tfidf)"
   ]
  },
  {
   "cell_type": "markdown",
   "metadata": {},
   "source": [
    "Loading the Corpora"
   ]
  },
  {
   "cell_type": "code",
   "execution_count": 64,
   "metadata": {
    "collapsed": false
   },
   "outputs": [],
   "source": [
    "corpus_tf = corpora.MmCorpus(os.path.join(outputs, 'corpus_tf.mm'))\n",
    "corpus_tfidf = corpora.MmCorpus(os.path.join(outputs, 'corpus_tfidf.mm'))"
   ]
  },
  {
   "cell_type": "markdown",
   "metadata": {},
   "source": [
    "### Latent Semantic Indexing\n",
    "https://en.wikipedia.org/wiki/Latent_semantic_analysis  "
   ]
  },
  {
   "cell_type": "markdown",
   "metadata": {},
   "source": [
    "Generating the Models and the Corpora"
   ]
  },
  {
   "cell_type": "code",
   "execution_count": 65,
   "metadata": {
    "collapsed": false
   },
   "outputs": [
    {
     "name": "stdout",
     "output_type": "stream",
     "text": [
      "corpus lsi - TF done\n",
      "corpus lsi - TFIDF done\n"
     ]
    }
   ],
   "source": [
    "lsi_tf = models.LsiModel(corpus_tf, id2word=dictionary, num_topics=10)\n",
    "corpus_lsi_tf = lsi_tf[corpus_tf]\n",
    "print('corpus lsi - TF done')\n",
    "lsi_tfidf = models.LsiModel(corpus_tfidf, id2word=dictionary, num_topics=10)\n",
    "corpus_lsi_tfidf = lsi_tfidf[corpus_tfidf]\n",
    "print('corpus lsi - TFIDF done')"
   ]
  },
  {
   "cell_type": "markdown",
   "metadata": {},
   "source": [
    "Saving the Models and the Corpora"
   ]
  },
  {
   "cell_type": "code",
   "execution_count": 66,
   "metadata": {
    "collapsed": false
   },
   "outputs": [],
   "source": [
    "lsi_tf.save(os.path.join(outputs, 'model_tf.lsi'))\n",
    "corpora.MmCorpus.serialize(os.path.join(outputs, 'corpus_lsi_tf.mm'), corpus_lsi_tf)\n",
    "lsi_tfidf.save(os.path.join(outputs, 'model_tfidf.lsi'))\n",
    "corpora.MmCorpus.serialize(os.path.join(outputs, 'corpus_lsi_tfidf.mm'), corpus_lsi_tfidf)"
   ]
  },
  {
   "cell_type": "markdown",
   "metadata": {},
   "source": [
    "Loading the Models and the Corpora"
   ]
  },
  {
   "cell_type": "code",
   "execution_count": 67,
   "metadata": {
    "collapsed": false
   },
   "outputs": [],
   "source": [
    "lsi_tf = models.LsiModel.load(os.path.join(outputs, 'model_tf.lsi'))\n",
    "corpus_lsi_tf = corpora.MmCorpus(os.path.join(outputs, 'corpus_lsi_tf.mm'))\n",
    "lsi_tfidf = models.LsiModel.load(os.path.join(outputs, 'model_tfidf.lsi'))\n",
    "corpus_lsi_tfidf = corpora.MmCorpus(os.path.join(outputs, 'corpus_lsi_tfidf.mm'))"
   ]
  },
  {
   "cell_type": "markdown",
   "metadata": {},
   "source": [
    "#### Visualizing the topics"
   ]
  },
  {
   "cell_type": "code",
   "execution_count": 68,
   "metadata": {
    "collapsed": false
   },
   "outputs": [
    {
     "data": {
      "text/plain": [
       "[(0,\n",
       "  '0.508*\"film\" + 0.290*\"one\" + 0.218*\"like\" + 0.147*\"would\" + 0.145*\"good\" + 0.137*\"even\" + 0.125*\"time\" + 0.123*\"really\" + 0.119*\"story\" + 0.117*\"see\"'),\n",
       " (1,\n",
       "  '-0.833*\"film\" + 0.214*\"one\" + 0.195*\"like\" + 0.113*\"show\" + 0.105*\"movies\" + 0.105*\"good\" + 0.101*\"would\" + 0.093*\"even\" + 0.092*\"really\" + 0.085*\"get\"'),\n",
       " (2,\n",
       "  '0.728*\"one\" + -0.456*\"like\" + -0.179*\"bad\" + -0.164*\"really\" + -0.152*\"good\" + -0.124*\"would\" + -0.095*\"people\" + -0.079*\"think\" + 0.076*\"two\" + -0.071*\"could\"'),\n",
       " (3,\n",
       "  '-0.492*\"one\" + -0.424*\"like\" + 0.332*\"story\" + -0.244*\"bad\" + 0.138*\"great\" + 0.138*\"show\" + 0.137*\"also\" + 0.137*\"life\" + 0.129*\"love\" + 0.119*\"character\"'),\n",
       " (4,\n",
       "  '-0.622*\"good\" + 0.408*\"like\" + -0.310*\"bad\" + -0.249*\"really\" + 0.157*\"would\" + 0.144*\"people\" + 0.131*\"show\" + -0.129*\"acting\" + 0.117*\"life\" + -0.116*\"great\"'),\n",
       " (5,\n",
       "  '-0.523*\"like\" + 0.479*\"would\" + 0.235*\"bad\" + -0.225*\"story\" + 0.224*\"even\" + -0.196*\"good\" + 0.195*\"could\" + -0.184*\"great\" + -0.143*\"also\" + 0.099*\"get\"'),\n",
       " (6,\n",
       "  '-0.691*\"show\" + 0.390*\"story\" + -0.179*\"great\" + 0.171*\"even\" + -0.159*\"good\" + -0.148*\"series\" + 0.146*\"bad\" + -0.114*\"really\" + -0.102*\"episode\" + -0.090*\"shows\"'),\n",
       " (7,\n",
       "  '-0.678*\"would\" + -0.273*\"story\" + 0.224*\"bad\" + 0.200*\"get\" + -0.188*\"good\" + 0.168*\"time\" + -0.160*\"one\" + -0.158*\"like\" + 0.144*\"really\" + 0.141*\"people\"'),\n",
       " (8,\n",
       "  '-0.511*\"really\" + -0.338*\"people\" + -0.321*\"see\" + 0.265*\"even\" + -0.251*\"story\" + 0.199*\"good\" + -0.143*\"think\" + 0.137*\"time\" + 0.128*\"first\" + -0.120*\"love\"'),\n",
       " (9,\n",
       "  '-0.469*\"story\" + -0.386*\"show\" + 0.346*\"good\" + -0.250*\"even\" + -0.244*\"characters\" + 0.222*\"would\" + -0.188*\"bad\" + 0.173*\"see\" + 0.143*\"man\" + -0.117*\"character\"')]"
      ]
     },
     "execution_count": 68,
     "metadata": {},
     "output_type": "execute_result"
    }
   ],
   "source": [
    "lsi_tf.print_topics(10)"
   ]
  },
  {
   "cell_type": "code",
   "execution_count": 69,
   "metadata": {
    "collapsed": false
   },
   "outputs": [
    {
     "data": {
      "text/plain": [
       "[('film', -0.83285275960902827),\n",
       " ('one', 0.2135816347425652),\n",
       " ('like', 0.19497935512233891),\n",
       " ('show', 0.11341713971511141),\n",
       " ('movies', 0.10548689553667118),\n",
       " ('good', 0.10519124415054265),\n",
       " ('would', 0.10067523246040629),\n",
       " ('even', 0.092802462102535344),\n",
       " ('really', 0.091517742907227681),\n",
       " ('get', 0.084739735187402521)]"
      ]
     },
     "execution_count": 69,
     "metadata": {},
     "output_type": "execute_result"
    }
   ],
   "source": [
    "lsi_tf.show_topic(1)"
   ]
  },
  {
   "cell_type": "code",
   "execution_count": 70,
   "metadata": {
    "collapsed": false
   },
   "outputs": [
    {
     "data": {
      "text/plain": [
       "[(0,\n",
       "  '0.146*\"film\" + 0.103*\"bad\" + 0.101*\"good\" + 0.101*\"like\" + 0.101*\"really\" + 0.095*\"one\" + 0.094*\"would\" + 0.091*\"story\" + 0.089*\"see\" + 0.088*\"even\"'),\n",
       " (1,\n",
       "  '-0.334*\"bad\" + -0.197*\"worst\" + -0.132*\"waste\" + -0.130*\"acting\" + -0.128*\"movies\" + -0.115*\"terrible\" + -0.113*\"ever\" + -0.107*\"horror\" + -0.106*\"horrible\" + -0.100*\"stupid\"'),\n",
       " (2,\n",
       "  '-0.669*\"show\" + -0.212*\"episode\" + -0.211*\"series\" + 0.172*\"film\" + -0.150*\"episodes\" + -0.149*\"tv\" + -0.142*\"season\" + 0.138*\"horror\" + -0.126*\"funny\" + -0.118*\"shows\"'),\n",
       " (3,\n",
       "  '0.226*\"show\" + -0.222*\"great\" + -0.217*\"book\" + 0.165*\"horror\" + -0.119*\"movies\" + -0.107*\"seen\" + -0.107*\"love\" + -0.107*\"best\" + -0.106*\"read\" + 0.102*\"killer\"'),\n",
       " (4,\n",
       "  '-0.270*\"horror\" + -0.222*\"series\" + -0.157*\"action\" + 0.157*\"life\" + -0.151*\"show\" + 0.146*\"people\" + -0.138*\"effects\" + -0.132*\"original\" + -0.122*\"great\" + -0.106*\"episode\"'),\n",
       " (5,\n",
       "  '0.394*\"book\" + -0.371*\"funny\" + -0.268*\"comedy\" + 0.190*\"series\" + 0.160*\"read\" + -0.130*\"jokes\" + -0.127*\"laugh\" + -0.110*\"great\" + -0.109*\"fun\" + 0.108*\"episode\"'),\n",
       " (6,\n",
       "  '-0.390*\"horror\" + 0.237*\"bad\" + 0.154*\"worst\" + 0.137*\"show\" + -0.133*\"scary\" + 0.119*\"script\" + -0.111*\"kids\" + -0.110*\"gore\" + 0.101*\"actors\" + -0.101*\"really\"'),\n",
       " (7,\n",
       "  '-0.352*\"book\" + 0.244*\"ever\" + 0.220*\"worst\" + 0.206*\"seen\" + 0.160*\"horror\" + 0.159*\"films\" + -0.142*\"characters\" + -0.127*\"really\" + -0.126*\"good\" + -0.120*\"character\"'),\n",
       " (8,\n",
       "  '-0.473*\"book\" + 0.155*\"film\" + -0.149*\"read\" + -0.136*\"version\" + 0.130*\"characters\" + 0.122*\"people\" + 0.121*\"show\" + -0.111*\"bad\" + -0.099*\"series\" + 0.098*\"really\"'),\n",
       " (9,\n",
       "  '0.338*\"horror\" + -0.293*\"action\" + -0.282*\"game\" + 0.195*\"book\" + 0.192*\"funny\" + 0.190*\"comedy\" + 0.178*\"show\" + 0.151*\"film\" + -0.109*\"series\" + -0.101*\"disney\"')]"
      ]
     },
     "execution_count": 70,
     "metadata": {},
     "output_type": "execute_result"
    }
   ],
   "source": [
    "lsi_tfidf.print_topics(10)"
   ]
  },
  {
   "cell_type": "code",
   "execution_count": 71,
   "metadata": {
    "collapsed": false
   },
   "outputs": [
    {
     "data": {
      "text/plain": [
       "[('bad', -0.33442191016348427),\n",
       " ('worst', -0.19741258320557062),\n",
       " ('waste', -0.13216149754201856),\n",
       " ('acting', -0.13019870982944831),\n",
       " ('movies', -0.12762439472004156),\n",
       " ('terrible', -0.11510303285150465),\n",
       " ('ever', -0.11311748235942777),\n",
       " ('horror', -0.10677246546836013),\n",
       " ('horrible', -0.10609702207205204),\n",
       " ('stupid', -0.1004881646044201)]"
      ]
     },
     "execution_count": 71,
     "metadata": {},
     "output_type": "execute_result"
    }
   ],
   "source": [
    "lsi_tfidf.show_topic(1)"
   ]
  },
  {
   "cell_type": "markdown",
   "metadata": {},
   "source": [
    "### Latent Dirichlet Allocation\n",
    "\n",
    "https://en.wikipedia.org/wiki/Latent_Dirichlet_allocation  "
   ]
  },
  {
   "cell_type": "markdown",
   "metadata": {},
   "source": [
    "#### Using Gensim"
   ]
  },
  {
   "cell_type": "markdown",
   "metadata": {},
   "source": [
    "Generating the Models and the Corpora"
   ]
  },
  {
   "cell_type": "code",
   "execution_count": 72,
   "metadata": {
    "collapsed": false
   },
   "outputs": [
    {
     "name": "stdout",
     "output_type": "stream",
     "text": [
      "corpus lda tf done\n",
      "corpus lda tfidf done\n"
     ]
    }
   ],
   "source": [
    "lda_tf = models.LdaModel(corpus_tf, id2word=dictionary, num_topics=10, passes=10)\n",
    "corpus_lda_tf = lda_tf[corpus_tf]\n",
    "print('corpus lda tf done')\n",
    "lda_tfidf = models.LdaModel(corpus_tfidf, id2word=dictionary, num_topics=10, passes=10)\n",
    "corpus_lda_tfidf = lda_tfidf[corpus_tfidf]\n",
    "print('corpus lda tfidf done')"
   ]
  },
  {
   "cell_type": "markdown",
   "metadata": {},
   "source": [
    "Saving the Models and the Corpora"
   ]
  },
  {
   "cell_type": "code",
   "execution_count": 73,
   "metadata": {
    "collapsed": true
   },
   "outputs": [],
   "source": [
    "lda_tf.save(os.path.join(outputs, 'model_tf.lda'))\n",
    "corpora.MmCorpus.serialize(os.path.join(outputs, 'corpus_lda_tf.mm'), corpus_lda_tf)\n",
    "lda_tfidf.save(os.path.join(outputs, 'model_tfidf.lda'))\n",
    "corpora.MmCorpus.serialize(os.path.join(outputs, 'corpus_lda_tfidf.mm'), corpus_lda_tfidf)"
   ]
  },
  {
   "cell_type": "markdown",
   "metadata": {},
   "source": [
    "Loading the Models and the Corpora"
   ]
  },
  {
   "cell_type": "code",
   "execution_count": 74,
   "metadata": {
    "collapsed": false
   },
   "outputs": [],
   "source": [
    "lda_tf = models.LdaModel.load(os.path.join(outputs, 'model_tf.lda'))\n",
    "corpus_lda_tf = corpora.MmCorpus(os.path.join(outputs, 'corpus_lda_tf.mm'))\n",
    "lda_tfidf = models.LdaModel.load(os.path.join(outputs, 'model_tfidf.lda'))\n",
    "corpus_lda_tfidf = corpora.MmCorpus(os.path.join(outputs, 'corpus_lda_tfidf.mm'))"
   ]
  },
  {
   "cell_type": "markdown",
   "metadata": {},
   "source": [
    "#### Visualizing the topics"
   ]
  },
  {
   "cell_type": "code",
   "execution_count": 75,
   "metadata": {
    "collapsed": false
   },
   "outputs": [
    {
     "data": {
      "text/plain": [
       "[(0,\n",
       "  '0.008*one + 0.006*man + 0.006*get + 0.005*gets + 0.005*police + 0.004*scene + 0.004*killer'),\n",
       " (1,\n",
       "  '0.019*film + 0.013*bad + 0.013*like + 0.012*one + 0.010*even + 0.008*good + 0.008*really'),\n",
       " (2,\n",
       "  '0.012*like + 0.011*one + 0.010*time + 0.010*see + 0.010*would + 0.009*years + 0.008*get'),\n",
       " (3,\n",
       "  '0.015*music + 0.009*musical + 0.009*song + 0.008*songs + 0.006*dance + 0.006*singing + 0.005*stage'),\n",
       " (4,\n",
       "  '0.045*film + 0.010*one + 0.010*films + 0.008*story + 0.006*well + 0.005*also + 0.005*great'),\n",
       " (5,\n",
       "  '0.010*action + 0.005*fight + 0.004*effects + 0.004*evil + 0.004*series + 0.004*hero + 0.004*monster'),\n",
       " (6,\n",
       "  '0.008*john + 0.007*role + 0.007*cast + 0.005*comedy + 0.005*played + 0.005*plays + 0.004*one'),\n",
       " (7,\n",
       "  '0.015*film + 0.010*people + 0.007*would + 0.006*one + 0.006*us + 0.006*life + 0.006*world'),\n",
       " (8,\n",
       "  '0.016*good + 0.014*one + 0.013*like + 0.013*great + 0.012*really + 0.009*show + 0.009*see'),\n",
       " (9,\n",
       "  '0.013*love + 0.011*life + 0.009*young + 0.009*family + 0.008*story + 0.008*mother + 0.008*woman')]"
      ]
     },
     "execution_count": 75,
     "metadata": {},
     "output_type": "execute_result"
    }
   ],
   "source": [
    "lda_tf.print_topics(num_topics=10, num_words=7)"
   ]
  },
  {
   "cell_type": "code",
   "execution_count": 76,
   "metadata": {
    "collapsed": false
   },
   "outputs": [
    {
     "data": {
      "text/plain": [
       "[('action', 0.010124960759870627),\n",
       " ('fight', 0.0047728103203308831),\n",
       " ('effects', 0.0043571006002814669),\n",
       " ('evil', 0.0042985905394775214),\n",
       " ('series', 0.0040305402926623978),\n",
       " ('hero', 0.0038007430199052672),\n",
       " ('monster', 0.0037246827454529927),\n",
       " ('battle', 0.0035922983589424151),\n",
       " ('one', 0.0034292170112894278),\n",
       " ('special', 0.0032160693536200302)]"
      ]
     },
     "execution_count": 76,
     "metadata": {},
     "output_type": "execute_result"
    }
   ],
   "source": [
    "lda_tf.show_topic(5)"
   ]
  },
  {
   "cell_type": "code",
   "execution_count": 77,
   "metadata": {
    "collapsed": false
   },
   "outputs": [
    {
     "data": {
      "text/plain": [
       "[(0,\n",
       "  '0.003*candyman + 0.002*row + 0.002*frustrating + 0.002*wilder + 0.002*swedish + 0.002*melanie + 0.002*visitor'),\n",
       " (1,\n",
       "  '0.003*highlander + 0.002*myers + 0.002*edwards + 0.002*hbo + 0.002*cannibal + 0.002*belle + 0.002*spider'),\n",
       " (2,\n",
       "  '0.003*film + 0.002*good + 0.002*like + 0.002*bad + 0.002*one + 0.002*really + 0.002*story'),\n",
       " (3,\n",
       "  '0.001*crawford + 0.001*shark + 0.001*howard + 0.001*suddenly + 0.001*redeeming + 0.001*beast + 0.001*grant'),\n",
       " (4,\n",
       "  '0.002*sandler + 0.001*flynn + 0.001*computer + 0.001*ship + 0.001*grant + 0.001*bogart + 0.001*lucy'),\n",
       " (5,\n",
       "  '0.002*jackie + 0.002*chan + 0.002*ernest + 0.002*ringu + 0.001*coppola + 0.001*slater + 0.001*pryor'),\n",
       " (6,\n",
       "  '0.002*streep + 0.002*movie.i + 0.002*carradine + 0.002*chicago + 0.002*chuck + 0.002*norris + 0.002*album'),\n",
       " (7,\n",
       "  '0.003*ants + 0.003*lance + 0.003*franco + 0.003*dolph + 0.002*conway + 0.002*cells + 0.002*hercules'),\n",
       " (8,\n",
       "  '0.006*dunne + 0.005*seagal + 0.004*quaid + 0.003*crowe + 0.003*freddie + 0.003*jenny + 0.003*hogan'),\n",
       " (9,\n",
       "  '0.002*todd + 0.001*choices + 0.001*travolta + 0.001*punk + 0.001*lenny + 0.001*hilariously + 0.001*baldwin')]"
      ]
     },
     "execution_count": 77,
     "metadata": {},
     "output_type": "execute_result"
    }
   ],
   "source": [
    "lda_tfidf.print_topics(num_topics=10, num_words=7)\n",
    "#lda_tfidf.print_topics(10)"
   ]
  },
  {
   "cell_type": "code",
   "execution_count": 78,
   "metadata": {
    "collapsed": false
   },
   "outputs": [
    {
     "data": {
      "text/plain": [
       "[(0,\n",
       "  [('candyman', 0.0027246182475976067),\n",
       "   ('row', 0.0024231933261207993),\n",
       "   ('frustrating', 0.0022130812801050641),\n",
       "   ('wilder', 0.0021929344256087467),\n",
       "   ('swedish', 0.002079716926387044),\n",
       "   ('melanie', 0.0019287867005264689),\n",
       "   ('visitor', 0.0019280991947496163),\n",
       "   ('giallo', 0.0017708161015226511),\n",
       "   ('bernie', 0.0017432624822354568),\n",
       "   ('ash', 0.0016006864829283978),\n",
       "   ('races', 0.0015941928587228393),\n",
       "   ('allan', 0.0014553121397503424),\n",
       "   ('resort', 0.0014552341284019231),\n",
       "   ('campus', 0.0014352197713372184),\n",
       "   ('absurdity', 0.0014214569453683144),\n",
       "   ('stan', 0.0014122170776700723),\n",
       "   ('axe', 0.00141118062191216),\n",
       "   ('delpy', 0.0013984031084378135),\n",
       "   ('spock', 0.0013115851889367162),\n",
       "   ('noah', 0.0013088151278187099)]),\n",
       " (1,\n",
       "  [('highlander', 0.0027055979345287739),\n",
       "   ('myers', 0.0022405399231328975),\n",
       "   ('edwards', 0.0021951703615793721),\n",
       "   ('hbo', 0.0021339199414397826),\n",
       "   ('cannibal', 0.0020902727435479045),\n",
       "   ('belle', 0.0020738395406057282),\n",
       "   ('spider', 0.0020621871202545685),\n",
       "   ('carrey', 0.0019257534675989087),\n",
       "   ('asoka', 0.0018631104228750408),\n",
       "   ('bronson', 0.0018551633109125918),\n",
       "   ('gable', 0.0017569545099003702),\n",
       "   ('mins', 0.0017071810075616571),\n",
       "   ('malcolm', 0.0016643007169866073),\n",
       "   ('arizona', 0.0016577292642896793),\n",
       "   ('shore', 0.0016464338040791389),\n",
       "   ('sharpe', 0.001626092007975474),\n",
       "   ('3rd', 0.0016127180466030393),\n",
       "   ('crazed', 0.0015861344987243423),\n",
       "   ('sophie', 0.0015830271854634145),\n",
       "   ('jolie', 0.0015555314047955291)]),\n",
       " (2,\n",
       "  [('film', 0.0031112471533285791),\n",
       "   ('good', 0.002098144512196096),\n",
       "   ('like', 0.0020629102538984511),\n",
       "   ('bad', 0.0020312235563232917),\n",
       "   ('one', 0.0020137231388641834),\n",
       "   ('really', 0.0019780745810528749),\n",
       "   ('story', 0.0019221242878713824),\n",
       "   ('would', 0.0019187123477924191),\n",
       "   ('great', 0.0018803230166428231),\n",
       "   ('see', 0.0018341646728099778),\n",
       "   ('even', 0.001794772439014563),\n",
       "   ('time', 0.0017613799897357929),\n",
       "   ('movies', 0.0017479111631045689),\n",
       "   ('people', 0.0017357902374528849),\n",
       "   ('could', 0.0017056260837660332),\n",
       "   ('well', 0.0016688551254492561),\n",
       "   ('watch', 0.0016166764390738437),\n",
       "   ('much', 0.0015991574877174581),\n",
       "   ('get', 0.0015825388408356211),\n",
       "   ('show', 0.0015781045382669255)]),\n",
       " (3,\n",
       "  [('crawford', 0.0013574451367741104),\n",
       "   ('shark', 0.0013437994186148567),\n",
       "   ('howard', 0.0012347290409791135),\n",
       "   ('suddenly', 0.0012299591425155763),\n",
       "   ('redeeming', 0.0011607066694827065),\n",
       "   ('beast', 0.0011595456505607269),\n",
       "   ('grant', 0.0011509730790572638),\n",
       "   ('creature', 0.0011085940814412622),\n",
       "   ('surprisingly', 0.0010890069798978994),\n",
       "   ('unfunny', 0.0010849284514550263),\n",
       "   ('india', 0.0010521103024561885),\n",
       "   ('kevin', 0.0010441009802458568),\n",
       "   ('bollywood', 0.0010317603872624303),\n",
       "   ('immediately', 0.0010202316895398062),\n",
       "   ('disappointing', 0.0010196267902913075),\n",
       "   ('murders', 0.00098586507090504339),\n",
       "   ('costs', 0.0009618444502647659),\n",
       "   ('ha', 0.00094324629698957433),\n",
       "   ('jungle', 0.00093893460533031636),\n",
       "   ('lake', 0.00092994255338547764)]),\n",
       " (4,\n",
       "  [('sandler', 0.0017994809535057589),\n",
       "   ('flynn', 0.0014829336650443936),\n",
       "   ('computer', 0.0014718211118996316),\n",
       "   ('ship', 0.0013599842371001486),\n",
       "   ('grant', 0.0013194410362513816),\n",
       "   ('bogart', 0.00131844295298215),\n",
       "   ('lucy', 0.0013109929351131637),\n",
       "   ('cary', 0.0012842432171051026),\n",
       "   ('lugosi', 0.0011550847023704654),\n",
       "   ('karloff', 0.0011304108797479092),\n",
       "   ('chuck', 0.0010806159241302186),\n",
       "   ('nazi', 0.0010714531144657342),\n",
       "   ('freddy', 0.0010614857484229632),\n",
       "   ('fonda', 0.0010324819619008435),\n",
       "   ('sarah', 0.00099967625397638974),\n",
       "   ('errol', 0.00096725002450571626),\n",
       "   ('hopkins', 0.00095319263632156809),\n",
       "   ('godzilla', 0.00095200289961057144),\n",
       "   ('skin', 0.00093345513429522601),\n",
       "   ('graphics', 0.00092185900064630584)]),\n",
       " (5,\n",
       "  [('jackie', 0.0023457441420313098),\n",
       "   ('chan', 0.0022870098653956362),\n",
       "   ('ernest', 0.0016463131766155388),\n",
       "   ('ringu', 0.0016067867268399131),\n",
       "   ('coppola', 0.001488085571327318),\n",
       "   ('slater', 0.0014666552217080383),\n",
       "   ('pryor', 0.0014624196191248637),\n",
       "   ('hammer', 0.0014131522800580841),\n",
       "   ('keaton', 0.0013893436003924835),\n",
       "   ('thru', 0.0013721857898523549),\n",
       "   ('reno', 0.0013594026675503817),\n",
       "   ('jet', 0.0013287971739769943),\n",
       "   ('li', 0.0013136962644588314),\n",
       "   ('frankenstein', 0.0013052010091697932),\n",
       "   ('frogs', 0.0012927849057361412),\n",
       "   ('useless', 0.0012716123162670367),\n",
       "   ('panther', 0.0012503721753644159),\n",
       "   ('ratings', 0.0012456527692701607),\n",
       "   ('shields', 0.0012370217022856702),\n",
       "   ('rolling', 0.0011844993002241993)]),\n",
       " (6,\n",
       "  [('streep', 0.0020635752256170335),\n",
       "   ('movie.i', 0.0020441181962823473),\n",
       "   ('carradine', 0.0019161492377982668),\n",
       "   ('chicago', 0.0018900426387766433),\n",
       "   ('chuck', 0.0018239587707915871),\n",
       "   ('norris', 0.001822580424936122),\n",
       "   ('album', 0.0017834275365644912),\n",
       "   ('loy', 0.0017621215133222308),\n",
       "   ('holden', 0.0016801729581963428),\n",
       "   ('seth', 0.0015674921267887993),\n",
       "   ('gray', 0.0015498731262029151),\n",
       "   ('meryl', 0.0014997734299806045),\n",
       "   ('it`s', 0.0014987521546515757),\n",
       "   ('fellini', 0.00148813054025291),\n",
       "   ('brody', 0.0014588426479794653),\n",
       "   ('stuart', 0.0014189562277460383),\n",
       "   ('ace', 0.0013599828415352237),\n",
       "   ('virgin', 0.0013346569194623602),\n",
       "   ('eagle', 0.0012948837985825353),\n",
       "   ('aircraft', 0.0012816046776426694)]),\n",
       " (7,\n",
       "  [('ants', 0.003480679765415422),\n",
       "   ('lance', 0.0033711263210603713),\n",
       "   ('franco', 0.0033171626162875625),\n",
       "   ('dolph', 0.0025914916732929258),\n",
       "   ('conway', 0.002490434041034599),\n",
       "   ('cells', 0.0023797124205498102),\n",
       "   ('hercules', 0.0023066983406107491),\n",
       "   ('rodman', 0.0020019631930559751),\n",
       "   ('heather', 0.001877030742023315),\n",
       "   ('tucci', 0.0018608999453507287),\n",
       "   ('woodstock', 0.0018382143472774832),\n",
       "   ('grandma', 0.0017780633946461602),\n",
       "   ('groundbreaking', 0.0017776410294546845),\n",
       "   ('judged', 0.0017691198803045671),\n",
       "   ('wakes', 0.0017637319133708348),\n",
       "   ('hypocritical', 0.0017555009444024188),\n",
       "   ('crypt', 0.0016987430503070495),\n",
       "   ('overused', 0.0016947839884182277),\n",
       "   ('movie-making', 0.0016908750931606364),\n",
       "   ('terence', 0.0016806183507969848)]),\n",
       " (8,\n",
       "  [('dunne', 0.0062904830647414348),\n",
       "   ('seagal', 0.0048373571242345103),\n",
       "   ('quaid', 0.0037046564928382014),\n",
       "   ('crowe', 0.0032301548699748533),\n",
       "   ('freddie', 0.0030875114926950413),\n",
       "   ('jenny', 0.002968821189845202),\n",
       "   ('hogan', 0.0028891584292854385),\n",
       "   ('columbo', 0.0027399030976801735),\n",
       "   ('troll', 0.0027019339662951091),\n",
       "   ('malkovich', 0.002644544057397656),\n",
       "   ('birch', 0.0020340453643643598),\n",
       "   ('shyamalan', 0.0018944721428776439),\n",
       "   ('griffin', 0.0018788316017407842),\n",
       "   ('mobster', 0.0018780659805093408),\n",
       "   ('arquette', 0.0018139779153977464),\n",
       "   ('confuse', 0.001811522649318249),\n",
       "   ('prinze', 0.0017944885149852922),\n",
       "   ('crooked', 0.0017863526984205627),\n",
       "   ('amateurs', 0.0017638538012532405),\n",
       "   ('schindler', 0.0017388625427295305)]),\n",
       " (9,\n",
       "  [('todd', 0.001938964561346843),\n",
       "   ('choices', 0.0014318087576028597),\n",
       "   ('travolta', 0.0014282146424101157),\n",
       "   ('punk', 0.0013915902672359578),\n",
       "   ('lenny', 0.0013484802789618118),\n",
       "   ('hilariously', 0.0012767718355820019),\n",
       "   ('baldwin', 0.0012170839566062184),\n",
       "   ('technology', 0.0011935810889815044),\n",
       "   ('judy', 0.0011898229297665121),\n",
       "   ('brat', 0.0011589201161456707),\n",
       "   ('linda', 0.0011322432187397414),\n",
       "   ('stanwyck', 0.0011284238060811388),\n",
       "   ('danish', 0.0010784974831243126),\n",
       "   (\"o'hara\", 0.0010408679985095602),\n",
       "   ('daniels', 0.0010302866724638004),\n",
       "   ('purchase', 0.0010263149378931459),\n",
       "   ('hints', 0.0010198043873062028),\n",
       "   ('sketches', 0.0010126344915507765),\n",
       "   ('fields', 0.00099191004450046292),\n",
       "   ('insanity', 0.0009860255068498058)])]"
      ]
     },
     "execution_count": 78,
     "metadata": {},
     "output_type": "execute_result"
    }
   ],
   "source": [
    "lda_tfidf.show_topics(formatted=False, num_words=20)"
   ]
  },
  {
   "cell_type": "markdown",
   "metadata": {},
   "source": [
    "Visualizing using PyLDAvis  \n",
    "http://nbviewer.jupyter.org/github/bmabey/pyLDAvis/blob/master/notebooks/pyLDAvis_overview.ipynb  "
   ]
  },
  {
   "cell_type": "code",
   "execution_count": 79,
   "metadata": {
    "collapsed": false
   },
   "outputs": [
    {
     "name": "stderr",
     "output_type": "stream",
     "text": [
      "/home/rsouza/python/3/venv/local/lib/python3.5/site-packages/funcy/decorators.py:56: DeprecationWarning: inspect.getargspec() is deprecated, use inspect.signature() instead\n",
      "  spec = inspect.getargspec(func)\n",
      "/home/rsouza/python/3/venv/local/lib/python3.5/site-packages/funcy/decorators.py:56: DeprecationWarning: inspect.getargspec() is deprecated, use inspect.signature() instead\n",
      "  spec = inspect.getargspec(func)\n",
      "/home/rsouza/python/3/venv/local/lib/python3.5/site-packages/funcy/decorators.py:56: DeprecationWarning: inspect.getargspec() is deprecated, use inspect.signature() instead\n",
      "  spec = inspect.getargspec(func)\n",
      "/home/rsouza/python/3/venv/local/lib/python3.5/site-packages/funcy/decorators.py:56: DeprecationWarning: inspect.getargspec() is deprecated, use inspect.signature() instead\n",
      "  spec = inspect.getargspec(func)\n",
      "/home/rsouza/python/3/venv/local/lib/python3.5/site-packages/funcy/decorators.py:56: DeprecationWarning: inspect.getargspec() is deprecated, use inspect.signature() instead\n",
      "  spec = inspect.getargspec(func)\n",
      "/home/rsouza/python/3/venv/local/lib/python3.5/site-packages/funcy/decorators.py:56: DeprecationWarning: inspect.getargspec() is deprecated, use inspect.signature() instead\n",
      "  spec = inspect.getargspec(func)\n"
     ]
    },
    {
     "data": {
      "text/html": [
       "\n",
       "<link rel=\"stylesheet\" type=\"text/css\" href=\"https://cdn.rawgit.com/bmabey/pyLDAvis/files/ldavis.v1.0.0.css\">\n",
       "\n",
       "\n",
       "<div id=\"ldavis_el93571398062721089684575120421\"></div>\n",
       "<script type=\"text/javascript\">\n",
       "\n",
       "var ldavis_el93571398062721089684575120421_data = {\"mdsDat\": {\"cluster\": [1, 1, 1, 1, 1, 1, 1, 1, 1, 1], \"topics\": [1, 2, 3, 4, 5, 6, 7, 8, 9, 10], \"y\": [0.03728361785334098, 0.1194027369619553, 0.05637251604345495, 0.01937979850445343, 0.029097117741632234, -0.17558252447994985, -0.0010525885707383454, -0.2918879684303094, 0.03422006469327152, 0.17276722968288924], \"Freq\": [21.11241597108869, 14.88358964094552, 14.123828200174367, 12.566811554513011, 8.962270734573984, 8.159377932747896, 6.918296858943701, 5.4156411029924385, 5.221888935315282, 2.635879068705107], \"x\": [0.17678977692669046, 0.1397096574319879, 0.04664399046591942, 0.1484901151033365, 0.12221380131008874, -0.010375211908658468, 0.035242666669316726, -0.10692279530048562, -0.21654137069892598, -0.3352506299992699]}, \"lambda.step\": 0.01, \"R\": 30, \"token.table\": {\"Term\": [\"1/10\", \"12\", \"12\", \"12\", \"12\", \"12\", \"13\", \"13\", \"13\", \"13\", \"13\", \"2/10\", \"3/10\", \"3d\", \"9/11\", \"93\", \"abbott\", \"abc\", \"abysmal\", \"acting\", \"acting\", \"acting\", \"acting\", \"action\", \"action\", \"action\", \"action\", \"action\", \"actor\", \"actor\", \"actor\", \"actor\", \"actor\", \"actor\", \"actor\", \"actually\", \"actually\", \"actually\", \"actually\", \"actually\", \"actually\", \"actually\", \"actually\", \"actually\", \"agent\", \"agent\", \"agent\", \"agents\", \"agents\", \"ago\", \"ago\", \"ago\", \"ago\", \"ago\", \"ago\", \"akbar\", \"album\", \"album\", \"alien\", \"alien\", \"alien\", \"aliens\", \"aliens\", \"also\", \"also\", \"also\", \"also\", \"also\", \"also\", \"also\", \"also\", \"also\", \"also\", \"always\", \"always\", \"always\", \"always\", \"always\", \"always\", \"always\", \"always\", \"always\", \"always\", \"amateurish\", \"amelie\", \"america\", \"america\", \"america\", \"america\", \"america\", \"america\", \"american\", \"american\", \"american\", \"american\", \"american\", \"american\", \"american\", \"american\", \"american\", \"americans\", \"amitabh\", \"anthology\", \"ants\", \"apes\", \"army\", \"army\", \"army\", \"around\", \"around\", \"around\", \"around\", \"around\", \"around\", \"around\", \"around\", \"around\", \"arthur\", \"arthur\", \"arts\", \"asoka\", \"astro\", \"atmosphere\", \"atmosphere\", \"atmosphere\", \"atmosphere\", \"atmosphere\", \"atmospheric\", \"atmospheric\", \"atmospheric\", \"atrocious\", \"attorney\", \"attorney\", \"audience\", \"audience\", \"audience\", \"audience\", \"audience\", \"audience\", \"available\", \"available\", \"available\", \"available\", \"avery\", \"awful\", \"awful\", \"awful\", \"axe\", \"bachchan\", \"back\", \"back\", \"back\", \"back\", \"back\", \"back\", \"back\", \"back\", \"back\", \"back\", \"bad\", \"bad\", \"bad\", \"bad\", \"bad\", \"bad\", \"bad\", \"bambi\", \"band\", \"band\", \"band\", \"band\", \"band\", \"banderas\", \"bands\", \"barrymore\", \"batman\", \"batman\", \"battle\", \"battle\", \"battle\", \"bava\", \"beast\", \"beast\", \"beast\", \"beatles\", \"beautiful\", \"beautiful\", \"beautiful\", \"beautiful\", \"beautiful\", \"beautiful\", \"beautifully\", \"beautifully\", \"beautifully\", \"beliefs\", \"belle\", \"belle\", \"beowulf\", \"best\", \"best\", \"best\", \"best\", \"best\", \"best\", \"best\", \"best\", \"best\", \"best\", \"beth\", \"bette\", \"better\", \"better\", \"better\", \"better\", \"better\", \"better\", \"better\", \"better\", \"better\", \"better\", \"billy\", \"billy\", \"billy\", \"birch\", \"blah\", \"bloom\", \"bogart\", \"boiled\", \"bollywood\", \"book\", \"book\", \"book\", \"book\", \"book\", \"boring\", \"boring\", \"boring\", \"boring\", \"boss\", \"boss\", \"boss\", \"boss\", \"boss\", \"bought\", \"bought\", \"bought\", \"bounty\", \"boy\", \"boy\", \"boy\", \"boy\", \"boy\", \"boy\", \"boy\", \"brando\", \"broadway\", \"brooks\", \"brooks\", \"brooks\", \"brooks\", \"brown\", \"brown\", \"brown\", \"brown\", \"budget\", \"budget\", \"budget\", \"bugs\", \"bunny\", \"bunny\", \"bunny\", \"bunuel\", \"buscemi\", \"cabaret\", \"cagney\", \"came\", \"came\", \"came\", \"came\", \"came\", \"came\", \"came\", \"came\", \"came\", \"canceled\", \"candyman\", \"captain\", \"captain\", \"captain\", \"car\", \"car\", \"car\", \"career\", \"career\", \"career\", \"career\", \"career\", \"career\", \"career\", \"carrey\", \"cary\", \"cassavetes\", \"cast\", \"cast\", \"cast\", \"cast\", \"cast\", \"cast\", \"cast\", \"cast\", \"chan\", \"channel\", \"channel\", \"channel\", \"chaplin\", \"character\", \"character\", \"character\", \"character\", \"character\", \"character\", \"character\", \"characters\", \"characters\", \"characters\", \"characters\", \"characters\", \"chase\", \"chase\", \"chase\", \"chase\", \"chase\", \"chases\", \"che\", \"cheap\", \"cheap\", \"cheap\", \"cheap\", \"cheap\", \"cheap\", \"cheap\", \"cheap\", \"chicken\", \"chicken\", \"chicken\", \"child\", \"child\", \"child\", \"child\", \"child\", \"child\", \"child\", \"children\", \"children\", \"children\", \"children\", \"chop\", \"christie\", \"cinema\", \"cinema\", \"cinema\", \"cinema\", \"cinema\", \"cinema\", \"cinematography\", \"cinematography\", \"cinematography\", \"claire\", \"claire\", \"columbo\", \"combat\", \"comedy\", \"comedy\", \"comedy\", \"comedy\", \"communist\", \"concert\", \"connery\", \"cooper\", \"cop\", \"cop\", \"coppola\", \"cops\", \"copy\", \"copy\", \"copy\", \"copy\", \"costello\", \"could\", \"could\", \"could\", \"could\", \"could\", \"could\", \"could\", \"could\", \"could\", \"countries\", \"countries\", \"country\", \"country\", \"country\", \"country\", \"country\", \"country\", \"country\", \"crap\", \"crap\", \"crawford\", \"crawford\", \"creature\", \"creature\", \"creature\", \"creek\", \"crew\", \"crew\", \"crew\", \"crew\", \"crew\", \"crew\", \"crime\", \"crime\", \"crime\", \"criminal\", \"criminal\", \"criminal\", \"criminal\", \"criminals\", \"cronenberg\", \"crow\", \"crow\", \"crumb\", \"cuba\", \"cultural\", \"culture\", \"culture\", \"culture\", \"culture\", \"cultures\", \"daffy\", \"dakota\", \"damme\", \"dance\", \"dance\", \"dancing\", \"dancing\", \"dancing\", \"dark\", \"dark\", \"dark\", \"dark\", \"dark\", \"dark\", \"daughter\", \"daughter\", \"daughter\", \"daughter\", \"daughters\", \"daughters\", \"davis\", \"davis\", \"davis\", \"day\", \"day\", \"day\", \"day\", \"day\", \"day\", \"day\", \"day\", \"day\", \"de\", \"de\", \"de\", \"de\", \"de\", \"dead\", \"dead\", \"dead\", \"dead\", \"dead\", \"dead\", \"dead\", \"dealer\", \"death\", \"death\", \"death\", \"death\", \"death\", \"death\", \"death\", \"definitely\", \"definitely\", \"definitely\", \"definitely\", \"definitely\", \"delpy\", \"detective\", \"detective\", \"detectives\", \"dinosaurs\", \"direction\", \"direction\", \"direction\", \"direction\", \"direction\", \"director\", \"director\", \"director\", \"director\", \"director\", \"director\", \"director\", \"director\", \"directorial\", \"directorial\", \"disney\", \"disney\", \"disney\", \"divorce\", \"divorce\", \"divorced\", \"documentary\", \"documentary\", \"dolph\", \"donnie\", \"downside\", \"dracula\", \"dragon\", \"dragon\", \"driver\", \"driver\", \"driver\", \"driver\", \"driver\", \"dud\", \"dunne\", \"dvd\", \"dvd\", \"dvd\", \"dvd\", \"dvd\", \"early\", \"early\", \"early\", \"early\", \"early\", \"early\", \"early\", \"early\", \"early\", \"earth\", \"earth\", \"earth\", \"earth\", \"ebay\", \"economic\", \"effective\", \"effective\", \"effective\", \"effective\", \"effective\", \"effects\", \"effects\", \"effects\", \"effects\", \"effects\", \"elements\", \"elements\", \"elements\", \"elements\", \"elements\", \"elliott\", \"end\", \"end\", \"end\", \"end\", \"end\", \"end\", \"end\", \"end\", \"englund\", \"enid\", \"enjoy\", \"enjoy\", \"enjoy\", \"enjoy\", \"enjoy\", \"enjoy\", \"enjoy\", \"enjoyed\", \"enjoyed\", \"enjoyed\", \"enjoyed\", \"enjoyed\", \"enjoyed\", \"enterprise\", \"episode\", \"episode\", \"episode\", \"episode\", \"episodes\", \"episodes\", \"episodes\", \"errol\", \"even\", \"even\", \"even\", \"even\", \"even\", \"even\", \"even\", \"even\", \"even\", \"even\", \"events\", \"events\", \"events\", \"events\", \"events\", \"events\", \"ever\", \"ever\", \"ever\", \"ever\", \"ever\", \"ever\", \"ever\", \"ever\", \"evil\", \"evil\", \"evil\", \"evil\", \"evil\", \"evil\", \"evil\", \"excellent\", \"excellent\", \"excellent\", \"excellent\", \"excellent\", \"fact\", \"fact\", \"fact\", \"fact\", \"fact\", \"fact\", \"fact\", \"fact\", \"fact\", \"fact\", \"facts\", \"family\", \"family\", \"family\", \"family\", \"family\", \"family\", \"fan\", \"fan\", \"fan\", \"fan\", \"farrow\", \"father\", \"father\", \"father\", \"father\", \"favorite\", \"favorite\", \"favorite\", \"favorite\", \"favorite\", \"favorite\", \"favorite\", \"fbi\", \"fight\", \"fight\", \"fight\", \"fight\", \"fight\", \"fight\", \"fight\", \"fighter\", \"fighting\", \"fighting\", \"fighting\", \"fighting\", \"fighting\", \"fighting\", \"fighting\", \"film\", \"film\", \"film\", \"film\", \"film\", \"film\", \"film\", \"film\", \"film\", \"film\", \"films\", \"films\", \"films\", \"films\", \"films\", \"films\", \"films\", \"films\", \"films\", \"find\", \"find\", \"find\", \"find\", \"find\", \"find\", \"find\", \"find\", \"finds\", \"finds\", \"finds\", \"finds\", \"first\", \"first\", \"first\", \"first\", \"first\", \"first\", \"first\", \"first\", \"first\", \"first\", \"flynn\", \"fonda\", \"ford\", \"ford\", \"frankenstein\", \"freddy\", \"freedom\", \"freedom\", \"freedom\", \"friend\", \"friend\", \"friend\", \"friend\", \"friend\", \"friend\", \"fu\", \"fun\", \"fun\", \"fun\", \"fun\", \"fun\", \"fun\", \"fun\", \"fun\", \"funniest\", \"funniest\", \"funniest\", \"funniest\", \"funny\", \"funny\", \"funny\", \"gable\", \"game\", \"game\", \"game\", \"game\", \"game\", \"game\", \"game\", \"games\", \"games\", \"games\", \"games\", \"gang\", \"gang\", \"gang\", \"gang\", \"garbo\", \"garfield\", \"gator\", \"genre\", \"genre\", \"genre\", \"genre\", \"george\", \"george\", \"george\", \"george\", \"george\", \"george\", \"get\", \"get\", \"get\", \"get\", \"get\", \"get\", \"get\", \"get\", \"get\", \"gets\", \"gets\", \"gets\", \"gets\", \"gets\", \"gets\", \"gets\", \"gets\", \"gets\", \"giallo\", \"giant\", \"giant\", \"giant\", \"girl\", \"girl\", \"girl\", \"girl\", \"girl\", \"girl\", \"girl\", \"go\", \"go\", \"go\", \"go\", \"go\", \"go\", \"go\", \"godzilla\", \"goes\", \"goes\", \"goes\", \"goes\", \"goes\", \"goes\", \"goes\", \"goes\", \"goes\", \"goldie\", \"good\", \"good\", \"good\", \"good\", \"good\", \"good\", \"good\", \"good\", \"good\", \"good\", \"gore\", \"gore\", \"got\", \"got\", \"got\", \"got\", \"got\", \"got\", \"got\", \"got\", \"grant\", \"grant\", \"graphics\", \"great\", \"great\", \"great\", \"great\", \"great\", \"great\", \"great\", \"great\", \"great\", \"great\", \"gremlins\", \"gun\", \"gun\", \"gun\", \"guy\", \"guy\", \"guy\", \"guy\", \"guy\", \"guy\", \"hackman\", \"hai\", \"hangs\", \"harding\", \"hardy\", \"harold\", \"harold\", \"harriet\", \"haunting\", \"haunting\", \"hawn\", \"hayward\", \"heart\", \"heart\", \"heart\", \"heart\", \"heart\", \"heart\", \"heart\", \"heart\", \"heist\", \"hellraiser\", \"henry\", \"henry\", \"hercules\", \"hero\", \"hero\", \"hero\", \"hero\", \"hero\", \"hero\", \"hero\", \"hero\", \"heroes\", \"heroes\", \"heroes\", \"heroes\", \"highlander\", \"hilarious\", \"hilarious\", \"hilarious\", \"hilarious\", \"hilarious\", \"hilarious\", \"hindi\", \"historical\", \"historical\", \"history\", \"history\", \"history\", \"history\", \"history\", \"history\", \"history\", \"history\", \"hitchcock\", \"hitchcock\", \"hitler\", \"hogan\", \"hollywood\", \"hollywood\", \"hollywood\", \"hollywood\", \"hollywood\", \"hollywood\", \"hollywood\", \"hollywood\", \"holmes\", \"holocaust\", \"home\", \"home\", \"home\", \"home\", \"home\", \"home\", \"home\", \"homosexuality\", \"hong\", \"horrible\", \"horrible\", \"horrible\", \"horrible\", \"horrid\", \"horror\", \"horror\", \"hostage\", \"house\", \"house\", \"house\", \"house\", \"house\", \"howard\", \"howard\", \"howard\", \"however\", \"however\", \"however\", \"however\", \"however\", \"however\", \"however\", \"however\", \"however\", \"hughes\", \"human\", \"human\", \"human\", \"human\", \"human\", \"human\", \"human\", \"humanity\", \"humanity\", \"humanity\", \"humor\", \"humor\", \"humor\", \"humor\", \"humor\", \"humphrey\", \"husband\", \"husband\", \"idiotic\", \"idiotic\", \"imagery\", \"imagery\", \"imagery\", \"india\", \"india\", \"indian\", \"indian\", \"indian\", \"indian\", \"indian\", \"interesting\", \"interesting\", \"interesting\", \"interesting\", \"interesting\", \"interviewed\", \"investigating\", \"investigating\", \"iraq\", \"island\", \"island\", \"island\", \"issue\", \"issue\", \"issue\", \"issues\", \"issues\", \"issues\", \"italian\", \"italian\", \"italian\", \"jack\", \"jack\", \"jack\", \"jail\", \"jail\", \"jake\", \"james\", \"james\", \"james\", \"james\", \"james\", \"james\", \"japanese\", \"japanese\", \"japanese\", \"japanese\", \"jeanne\", \"jenny\", \"jet\", \"jews\", \"joan\", \"joan\", \"joan\", \"john\", \"john\", \"john\", \"john\", \"john\", \"john\", \"john\", \"jokes\", \"jokes\", \"juan\", \"jungle\", \"jurassic\", \"kapoor\", \"karloff\", \"keane\", \"keaton\", \"keitel\", \"kelly\", \"kelly\", \"khan\", \"kid\", \"kid\", \"kid\", \"kid\", \"kid\", \"kid\", \"kids\", \"kids\", \"kids\", \"kids\", \"kill\", \"kill\", \"kill\", \"kill\", \"killed\", \"killed\", \"killed\", \"killed\", \"killed\", \"killer\", \"killer\", \"killing\", \"killing\", \"killing\", \"killing\", \"king\", \"king\", \"king\", \"king\", \"king\", \"king\", \"know\", \"know\", \"know\", \"know\", \"know\", \"know\", \"kong\", \"korean\", \"kubrick\", \"kung\", \"kurosawa\", \"lame\", \"lame\", \"lana\", \"laugh\", \"laugh\", \"laugh\", \"laughable\", \"laughable\", \"leatherface\", \"lenny\", \"levy\", \"lewton\", \"li\", \"life\", \"life\", \"life\", \"life\", \"life\", \"life\", \"life\", \"life\", \"life\", \"like\", \"like\", \"like\", \"like\", \"like\", \"like\", \"like\", \"like\", \"like\", \"like\", \"liked\", \"liked\", \"liked\", \"liked\", \"liked\", \"little\", \"little\", \"little\", \"little\", \"little\", \"little\", \"little\", \"little\", \"little\", \"little\", \"lives\", \"lives\", \"lives\", \"lives\", \"lives\", \"lives\", \"lives\", \"lloyd\", \"lloyd\", \"lloyd\", \"lohan\", \"lot\", \"lot\", \"lot\", \"lot\", \"lot\", \"lot\", \"lot\", \"lot\", \"lousy\", \"love\", \"love\", \"love\", \"love\", \"love\", \"love\", \"love\", \"loved\", \"loved\", \"loved\", \"loved\", \"low\", \"low\", \"low\", \"low\", \"low\", \"loy\", \"lugosi\", \"lynch\", \"made\", \"made\", \"made\", \"made\", \"made\", \"made\", \"made\", \"made\", \"made\", \"made\", \"make\", \"make\", \"make\", \"make\", \"make\", \"make\", \"make\", \"make\", \"make\", \"make\", \"man\", \"man\", \"man\", \"man\", \"man\", \"man\", \"man\", \"man\", \"man\", \"man\", \"many\", \"many\", \"many\", \"many\", \"many\", \"many\", \"many\", \"many\", \"many\", \"many\", \"margaret\", \"maris\", \"marriage\", \"marriage\", \"married\", \"married\", \"married\", \"married\", \"marry\", \"marry\", \"marry\", \"martial\", \"marx\", \"mary\", \"mary\", \"mary\", \"mary\", \"masterful\", \"may\", \"may\", \"may\", \"may\", \"may\", \"may\", \"may\", \"may\", \"may\", \"may\", \"mayor\", \"mcclane\", \"media\", \"media\", \"men\", \"men\", \"men\", \"men\", \"men\", \"men\", \"men\", \"men\", \"mess\", \"mess\", \"mess\", \"mess\", \"mess\", \"mess\", \"message\", \"message\", \"message\", \"message\", \"message\", \"metal\", \"metal\", \"minutes\", \"minutes\", \"minutes\", \"minutes\", \"minutes\", \"minutes\", \"minutes\", \"mitchum\", \"mom\", \"mom\", \"mom\", \"monday\", \"monster\", \"monster\", \"monster\", \"moody\", \"moore\", \"moore\", \"moral\", \"moral\", \"moral\", \"moral\", \"moral\", \"mother\", \"mother\", \"mother\", \"movies\", \"movies\", \"movies\", \"movies\", \"movies\", \"movies\", \"movies\", \"mr\", \"mr\", \"mr\", \"mr\", \"mr\", \"mr\", \"mr\", \"mr\", \"mr\", \"much\", \"much\", \"much\", \"much\", \"much\", \"much\", \"much\", \"much\", \"much\", \"much\", \"mulder\", \"mummy\", \"murder\", \"murder\", \"murdered\", \"murdered\", \"murdered\", \"murderer\", \"murders\", \"murders\", \"murders\", \"music\", \"music\", \"music\", \"music\", \"music\", \"music\", \"musical\", \"musical\", \"musicals\", \"musician\", \"musicians\", \"mutant\", \"narrative\", \"narrative\", \"nathan\", \"nation\", \"nation\", \"nero\", \"never\", \"never\", \"never\", \"never\", \"never\", \"never\", \"never\", \"never\", \"never\", \"new\", \"new\", \"new\", \"new\", \"new\", \"new\", \"new\", \"new\", \"new\", \"new\", \"night\", \"night\", \"night\", \"night\", \"night\", \"night\", \"night\", \"nikki\", \"ninja\", \"noah\", \"norma\", \"norway\", \"nothing\", \"nothing\", \"nothing\", \"nothing\", \"nothing\", \"nothing\", \"nothing\", \"nothing\", \"nothing\", \"nothing\", \"novel\", \"novel\", \"novel\", \"novel\", \"number\", \"number\", \"number\", \"number\", \"number\", \"number\", \"number\", \"number\", \"number\", \"number\", \"numbers\", \"numbers\", \"numbers\", \"o'toole\", \"old\", \"old\", \"old\", \"old\", \"old\", \"old\", \"old\", \"old\", \"old\", \"olsen\", \"one\", \"one\", \"one\", \"one\", \"one\", \"one\", \"one\", \"one\", \"one\", \"one\", \"opera\", \"opera\", \"opera\", \"opera\", \"opera\", \"opera\", \"orson\", \"osama\", \"oscar\", \"oscar\", \"oscar\", \"oscar\", \"oscar\", \"palma\", \"paltrow\", \"pammy\", \"parents\", \"parents\", \"parents\", \"parents\", \"particularly\", \"particularly\", \"particularly\", \"particularly\", \"particularly\", \"particularly\", \"particularly\", \"particularly\", \"particularly\", \"pathetic\", \"pathetic\", \"pathetic\", \"payne\", \"penguins\", \"people\", \"people\", \"people\", \"people\", \"people\", \"people\", \"performance\", \"performance\", \"performance\", \"performance\", \"performance\", \"performance\", \"performance\", \"performances\", \"performances\", \"performances\", \"performances\", \"performances\", \"performances\", \"peterson\", \"phantasm\", \"photography\", \"photography\", \"pierce\", \"pinhead\", \"play\", \"play\", \"play\", \"play\", \"play\", \"play\", \"play\", \"play\", \"play\", \"played\", \"played\", \"played\", \"played\", \"played\", \"played\", \"played\", \"played\", \"played\", \"played\", \"playing\", \"playing\", \"playing\", \"playing\", \"playing\", \"playing\", \"playing\", \"playing\", \"playing\", \"plays\", \"plays\", \"plays\", \"plays\", \"plays\", \"plays\", \"plays\", \"plays\", \"plot\", \"plot\", \"plot\", \"plot\", \"plot\", \"plot\", \"plot\", \"point\", \"point\", \"point\", \"point\", \"point\", \"point\", \"point\", \"point\", \"point\", \"point\", \"pointless\", \"pointless\", \"police\", \"policeman\", \"political\", \"politicians\", \"politics\", \"poor\", \"poor\", \"poor\", \"poor\", \"poor\", \"poor\", \"poor\", \"poor\", \"poor\", \"poorly\", \"poorly\", \"porky\", \"powell\", \"predator\", \"predator\", \"pretty\", \"pretty\", \"pretty\", \"pretty\", \"pretty\", \"pretty\", \"pretty\", \"pretty\", \"pretty\", \"prince\", \"prince\", \"prince\", \"prison\", \"prison\", \"propaganda\", \"pryor\", \"pryor\", \"puzzles\", \"quite\", \"quite\", \"quite\", \"quite\", \"quite\", \"quite\", \"quite\", \"quite\", \"quite\", \"racism\", \"racism\", \"raimi\", \"rani\", \"rathbone\", \"rather\", \"rather\", \"rather\", \"rather\", \"rather\", \"rather\", \"rather\", \"rather\", \"real\", \"real\", \"real\", \"real\", \"real\", \"real\", \"real\", \"real\", \"real\", \"reality\", \"reality\", \"reality\", \"reality\", \"reality\", \"really\", \"really\", \"really\", \"really\", \"really\", \"really\", \"really\", \"recommend\", \"recommend\", \"recommend\", \"recommend\", \"recommend\", \"recommend\", \"redeeming\", \"reeves\", \"reggie\", \"reilly\", \"relationship\", \"relationship\", \"relationship\", \"relationship\", \"released\", \"released\", \"released\", \"released\", \"released\", \"released\", \"released\", \"released\", \"religion\", \"religious\", \"religious\", \"remember\", \"remember\", \"remember\", \"remember\", \"remember\", \"remember\", \"reruns\", \"ridiculous\", \"ridiculous\", \"ridiculous\", \"ridiculous\", \"ridiculous\", \"ridiculous\", \"ringu\", \"robbers\", \"robbery\", \"robert\", \"robert\", \"robert\", \"robert\", \"robert\", \"robin\", \"robin\", \"rock\", \"rock\", \"rock\", \"rock\", \"rock\", \"rock\", \"role\", \"role\", \"role\", \"role\", \"role\", \"role\", \"roles\", \"roles\", \"roles\", \"roles\", \"roles\", \"roles\", \"rubbish\", \"rubbish\", \"rukh\", \"russell\", \"russians\", \"sadako\", \"saif\", \"samurai\", \"sandler\", \"sandler\", \"saw\", \"saw\", \"saw\", \"saw\", \"saw\", \"say\", \"say\", \"say\", \"say\", \"say\", \"say\", \"scary\", \"scary\", \"scary\", \"scary\", \"scary\", \"scene\", \"scene\", \"scene\", \"scene\", \"scene\", \"scene\", \"scene\", \"scene\", \"scene\", \"scene\", \"scenes\", \"scenes\", \"scenes\", \"scenes\", \"scenes\", \"scenes\", \"scenes\", \"scenes\", \"sci-fi\", \"sci-fi\", \"sci-fi\", \"sci-fi\", \"science\", \"science\", \"science\", \"science\", \"scientist\", \"scientist\", \"scientists\", \"scientists\", \"score\", \"score\", \"score\", \"score\", \"score\", \"scorsese\", \"scott\", \"scott\", \"scott\", \"scott\", \"scott\", \"screen\", \"screen\", \"screen\", \"screen\", \"screen\", \"screen\", \"screen\", \"screen\", \"screen\", \"screwball\", \"script\", \"script\", \"script\", \"script\", \"script\", \"script\", \"scully\", \"seagal\", \"season\", \"season\", \"seasons\", \"see\", \"see\", \"see\", \"see\", \"see\", \"see\", \"see\", \"see\", \"seen\", \"seen\", \"seen\", \"seen\", \"seen\", \"seen\", \"sellers\", \"sergio\", \"serial\", \"serial\", \"series\", \"series\", \"series\", \"series\", \"series\", \"series\", \"set\", \"set\", \"set\", \"set\", \"set\", \"set\", \"set\", \"set\", \"set\", \"set\", \"seth\", \"seth\", \"sf\", \"sh*t\", \"shah\", \"shark\", \"shark\", \"sharks\", \"shelves\", \"sheriff\", \"sheriff\", \"sherlock\", \"shields\", \"ship\", \"ship\", \"show\", \"show\", \"show\", \"show\", \"show\", \"show\", \"show\", \"simpsons\", \"simpsons\", \"sinatra\", \"sinbad\", \"sing\", \"sing\", \"singer\", \"singer\", \"singing\", \"sister\", \"sister\", \"sister\", \"sister\", \"sister\", \"sister\", \"slasher\", \"slavery\", \"snl\", \"snoopy\", \"sobieski\", \"social\", \"social\", \"social\", \"society\", \"society\", \"society\", \"something\", \"something\", \"something\", \"something\", \"something\", \"something\", \"something\", \"son\", \"son\", \"son\", \"son\", \"song\", \"song\", \"song\", \"song\", \"songs\", \"songs\", \"songs\", \"sorority\", \"soviet\", \"soviet\", \"space\", \"space\", \"space\", \"spaceship\", \"special\", \"special\", \"special\", \"special\", \"special\", \"squid\", \"stage\", \"stage\", \"stage\", \"stage\", \"stage\", \"stage\", \"stalin\", \"stallone\", \"stan\", \"stanwyck\", \"star\", \"star\", \"star\", \"star\", \"star\", \"star\", \"star\", \"star\", \"star\", \"stars\", \"stars\", \"stars\", \"stars\", \"stars\", \"stars\", \"stars\", \"stars\", \"stars\", \"starts\", \"starts\", \"starts\", \"starts\", \"starts\", \"starts\", \"starts\", \"still\", \"still\", \"still\", \"still\", \"still\", \"still\", \"still\", \"still\", \"still\", \"still\", \"stiller\", \"stinker\", \"stinks\", \"stores\", \"stores\", \"story\", \"story\", \"story\", \"story\", \"story\", \"story\", \"story\", \"story\", \"streep\", \"stunning\", \"stunning\", \"stunning\", \"stunning\", \"stunning\", \"stupid\", \"stupid\", \"stupid\", \"style\", \"style\", \"style\", \"style\", \"style\", \"style\", \"style\", \"subject\", \"subject\", \"subject\", \"subject\", \"subject\", \"sung\", \"supporting\", \"supporting\", \"supporting\", \"supporting\", \"supporting\", \"supposed\", \"supposed\", \"supposed\", \"supposed\", \"supposed\", \"surfing\", \"sword\", \"takes\", \"takes\", \"takes\", \"takes\", \"takes\", \"takes\", \"takes\", \"takes\", \"takes\", \"takes\", \"tale\", \"tale\", \"tale\", \"tale\", \"tale\", \"tale\", \"tale\", \"tale\", \"taliban\", \"tape\", \"tape\", \"tape\", \"taped\", \"tarzan\", \"terrible\", \"terrible\", \"terrible\", \"thing\", \"thing\", \"thing\", \"thing\", \"thing\", \"thing\", \"thing\", \"thing\", \"think\", \"think\", \"think\", \"think\", \"though\", \"though\", \"though\", \"though\", \"though\", \"though\", \"though\", \"though\", \"though\", \"though\", \"thugs\", \"thurman\", \"tiger\", \"time\", \"time\", \"time\", \"time\", \"time\", \"time\", \"time\", \"time\", \"time\", \"time\", \"titanic\", \"titanic\", \"town\", \"town\", \"town\", \"town\", \"town\", \"town\", \"tramp\", \"troll\", \"troma\", \"truth\", \"truth\", \"truth\", \"truth\", \"truth\", \"truth\", \"truth\", \"truth\", \"turns\", \"turns\", \"turns\", \"turns\", \"turns\", \"turns\", \"turns\", \"tv\", \"tv\", \"tv\", \"tv\", \"tv\", \"tv\", \"tv\", \"two\", \"two\", \"two\", \"two\", \"two\", \"two\", \"two\", \"two\", \"two\", \"two\", \"uma\", \"undercover\", \"understand\", \"understand\", \"understand\", \"understand\", \"understand\", \"understanding\", \"understanding\", \"understanding\", \"understanding\", \"uninteresting\", \"unsettling\", \"unwatchable\", \"us\", \"us\", \"us\", \"us\", \"us\", \"us\", \"us\", \"us\", \"us\", \"vampires\", \"veronica\", \"version\", \"version\", \"version\", \"version\", \"version\", \"version\", \"version\", \"vhs\", \"video\", \"video\", \"video\", \"video\", \"vienna\", \"view\", \"view\", \"view\", \"view\", \"view\", \"view\", \"violin\", \"visual\", \"visual\", \"visual\", \"visual\", \"visual\", \"visually\", \"visually\", \"visually\", \"voice\", \"voice\", \"voice\", \"voice\", \"voice\", \"voice\", \"voice\", \"voice\", \"voice\", \"walter\", \"walter\", \"wants\", \"wants\", \"wants\", \"wants\", \"wants\", \"wants\", \"wants\", \"wants\", \"wants\", \"war\", \"war\", \"war\", \"warner\", \"warner\", \"warner\", \"warrior\", \"wars\", \"wars\", \"wars\", \"wars\", \"waste\", \"wasted\", \"wasted\", \"wasted\", \"watch\", \"watch\", \"watch\", \"watch\", \"watch\", \"watch\", \"watson\", \"way\", \"way\", \"way\", \"way\", \"way\", \"way\", \"way\", \"way\", \"way\", \"wayne\", \"wayne\", \"wedding\", \"wedding\", \"wedding\", \"wedding\", \"wedding\", \"wedding\", \"well\", \"well\", \"well\", \"well\", \"well\", \"well\", \"well\", \"well\", \"well\", \"well\", \"welles\", \"wife\", \"wife\", \"wife\", \"wife\", \"wife\", \"wife\", \"wilbur\", \"william\", \"william\", \"william\", \"william\", \"without\", \"without\", \"without\", \"without\", \"without\", \"without\", \"without\", \"without\", \"woman\", \"woman\", \"woman\", \"woman\", \"woman\", \"woman\", \"woman\", \"women\", \"women\", \"women\", \"women\", \"women\", \"women\", \"women\", \"woo\", \"woodstock\", \"work\", \"work\", \"work\", \"work\", \"work\", \"work\", \"work\", \"work\", \"work\", \"world\", \"world\", \"world\", \"world\", \"world\", \"world\", \"world\", \"world\", \"world\", \"worse\", \"worse\", \"worse\", \"worse\", \"worse\", \"worse\", \"worst\", \"worst\", \"worst\", \"would\", \"would\", \"would\", \"would\", \"would\", \"would\", \"would\", \"would\", \"would\", \"would\", \"year\", \"year\", \"year\", \"year\", \"year\", \"year\", \"year\", \"year\", \"years\", \"years\", \"years\", \"years\", \"years\", \"years\", \"years\", \"years\", \"years\", \"years\", \"yor\", \"york\", \"york\", \"york\", \"york\", \"york\", \"york\", \"york\", \"york\", \"young\", \"young\", \"young\", \"young\", \"young\", \"young\", \"young\", \"young\", \"young\", \"young\", \"zohan\", \"zombie\", \"zombies\", \"zombies\"], \"Freq\": [0.99816698821012, 0.07906403323663155, 0.06270595739456986, 0.8001825432741848, 0.0054526919473539, 0.05180057349986205, 0.045869565076288074, 0.10750679314755017, 0.02006793472087603, 0.7840828780227993, 0.04156929335038607, 0.997803127526261, 0.9959480486139315, 0.9937790300174573, 0.9942235789220358, 0.9933787673787927, 0.9972971535317311, 0.9956803310108386, 0.9981920479910013, 0.6119867571898824, 0.23850304171927972, 0.13269381109685838, 0.016844695649958483, 0.12660967751337443, 0.24104163031935558, 0.04784106135047354, 0.1317320537791827, 0.4527020835669052, 0.18985870587774617, 0.3510506269571198, 0.16933767413683468, 0.01519496243411005, 0.04527158910781241, 0.2122595267857641, 0.01691810250395758, 0.5055018305825142, 0.23238138516048817, 0.060184528867636804, 0.09754875573472775, 0.06830019964952108, 0.010606619239690331, 0.0029730675141556233, 0.021534651183613703, 0.000964238112699121, 0.881926741095069, 0.022270877300380527, 0.09531935484562866, 0.05697574626328631, 0.9400998133442241, 0.005066287311641924, 0.12935920269059045, 0.045934338292220114, 0.018914139296796518, 0.7748042061937715, 0.025669189045652414, 0.9943487658764768, 0.9743006037563492, 0.021491925082860644, 0.013603493316542373, 0.1384007580900398, 0.8475567792437053, 0.31147056744759, 0.6875495807744014, 0.08331018811915246, 0.28999774259738664, 0.23726416607515713, 0.09512723607931592, 0.042467516106837466, 0.09723214774722004, 0.07075457466147876, 0.04863453801104778, 0.026957640659122914, 0.008271933572114427, 0.02487247218684081, 0.4621217288165689, 0.1632118418278094, 0.08309166593391511, 0.099930109494033, 0.04039025350694946, 0.05711864188039992, 0.0020910485466813073, 0.06548283606712514, 0.0016508278000115582, 0.9981072481744068, 0.9963759419249646, 0.02394794590802448, 0.6831695841761892, 0.10493554479697999, 0.0004354171983277178, 0.10101679001203052, 0.08621260526888812, 0.04784080711288274, 0.06847502104335931, 0.1135645996321785, 0.5739368393254782, 0.016813063202610546, 0.00794799351396135, 0.08987346511940911, 0.05410749430658303, 0.02751228524063544, 0.9992606953591152, 0.9955775907845164, 0.9969505404239856, 0.9966271012591809, 0.9953056942519968, 0.27473032737818504, 0.02570576162602901, 0.6988753942076636, 0.29720343806237964, 0.04689230641564841, 0.05786510611691014, 0.1006308895679815, 0.20754534819565987, 0.15830842645922905, 0.09406596666979071, 0.030855137621496654, 0.006564922898190778, 0.10055858454482787, 0.8971711214858862, 0.9993663837535086, 0.9969200327390736, 0.9924221326821058, 0.11809764540589, 0.010925332834906125, 0.8552974847897937, 0.0031215236671160353, 0.01300634861298348, 0.02239955873651235, 0.9538478761964843, 0.020532928841802987, 0.9988185431206082, 0.9650402818322505, 0.03252944770221069, 0.19817321628422496, 0.12941924328765714, 0.2528528465732601, 0.38955192229584795, 0.02879578163150371, 0.0011324183787669998, 0.2655078876746439, 0.03205822792356382, 0.674866798083228, 0.026304187014206205, 0.996817430122356, 0.9778164972688661, 0.0008371716586206045, 0.021347877294825415, 0.9945419067989002, 0.9948581174751905, 0.14850547942844625, 0.10989405477705022, 0.006364520546933411, 0.017325639266652062, 0.3810226300764135, 0.18803622371439932, 0.096599278523456, 0.03846999086146417, 0.012304739724071262, 0.0014850547942844626, 0.8767197521842891, 0.08846848798715751, 0.00022228263313356158, 0.009224729275042805, 0.021672556730522253, 0.0010373189546232873, 0.0026303444920804785, 0.9991406730688273, 0.056277446698102127, 0.0015632624082806146, 0.2016608506681993, 0.09379574449683688, 0.6471906370281745, 0.9950089906065692, 0.9976654539744255, 0.9987134400707482, 0.9242920388743026, 0.07352323036500134, 0.13779747144689392, 0.004128763189420042, 0.8577505526020137, 0.9957549001507814, 0.0025475018021149797, 0.8508656019064033, 0.14520760272055383, 0.9970290311368665, 0.1419672876013344, 0.39579268687907565, 0.0010092461203886332, 0.018671053227189715, 0.39024183321693817, 0.05231259057347749, 0.09659520955621578, 0.7500828011626148, 0.15287241860201106, 0.9966088057433928, 0.03505522653767596, 0.9624253103980127, 0.9958259875456984, 0.05497711447058341, 0.4315624115708165, 0.2450952783712631, 0.004233079073769656, 0.0651894177360527, 0.017726018621410437, 0.049421198186260736, 0.009894822334936573, 0.066194774016073, 0.055717903308493105, 0.9952228558247279, 0.9988439051551498, 0.44061482758685755, 0.3743132299827106, 0.07415310258358546, 0.053622871044757485, 0.023496355642171392, 0.005234336652958973, 0.0034895577686393157, 0.0029079648071994296, 0.018262018989212418, 0.00372219495321527, 0.07489068066587293, 0.14253387610601623, 0.7819231282426088, 0.9972968624612578, 0.9986783662212207, 0.9980594298808556, 0.9982601046726722, 0.9931297179138171, 0.9985697831543694, 0.007902054960570159, 0.6082864481604116, 0.18741612960830528, 0.13089925825987958, 0.06527784532644913, 0.8597966544818535, 0.13314868420820875, 0.003109241252114765, 0.0036579308848408995, 0.058037699854968754, 0.7380316459169161, 0.09355330722890486, 0.017324686523871268, 0.09268707290271129, 0.20496252060742493, 0.13988318012258563, 0.6545335968302803, 0.994665344569299, 0.11118965758109522, 0.000675240835512724, 0.234083489644411, 0.05919611324661547, 0.5789064763129087, 0.006077167519614516, 0.00990353225418662, 0.9974198980783849, 0.9981753017774418, 0.14467040578072754, 0.04753456189938191, 0.008266880330327289, 0.801887392041747, 0.12086989792336462, 0.1824036641388957, 0.16921785709271048, 0.5274322818474093, 0.8361043480025383, 0.12878280883198093, 0.034764798988599264, 0.9993320608841608, 0.02551092338806216, 0.9502818962053154, 0.02232205796455439, 0.9974601109244059, 0.996496996269732, 0.9968555063086338, 0.9989671235232332, 0.14619908387614017, 0.24045638075101794, 0.03649963410899521, 0.081021165824363, 0.44601750691431513, 0.0018049269614338294, 0.002807664162230401, 0.0405105829121815, 0.004813138563823545, 0.9926973819773348, 0.997917670898403, 0.10638578172931708, 0.8477089274304314, 0.04559390645542161, 0.07375452495236583, 0.1371419480037967, 0.7890845561168778, 0.09551951146933903, 0.03248962975147586, 0.16537221543501213, 0.044510792759521925, 0.10071785222957516, 0.4876693425696526, 0.0737514595358502, 0.996009339417263, 0.9982771812450549, 0.9953472056307752, 0.15033317697388074, 0.29683450652044857, 0.27384342195657113, 0.00846570943243549, 0.00044556365433870995, 0.002316931002561292, 0.258694257709055, 0.009089498548509684, 0.9988983621570121, 0.20137934302817004, 0.1727158598964232, 0.6254519011568347, 0.9985849587276762, 0.1814573473338385, 0.31667139328846683, 0.22198737916567005, 0.09610012366872825, 0.06313895320308213, 0.08423410230109564, 0.036379365921342756, 0.255668161708265, 0.3592610444888982, 0.2298974042916959, 0.14016325616493716, 0.015017491731957554, 0.06262942474969721, 0.09081266588706095, 0.7272841949058588, 0.04540633294353048, 0.07358957408089421, 0.9969592250097714, 0.995903702729501, 0.861554679403469, 0.0023118640771112764, 0.020421466014482942, 0.030824854361483685, 0.022733330091594218, 0.010018077667482198, 0.05124632037596663, 0.0007706213590370921, 0.009765171175366849, 0.8715415274014913, 0.11718205410440219, 0.07415646377789614, 0.01448368433162034, 0.020277158064268476, 0.04229235824833139, 0.23115960193266064, 0.006662494792545356, 0.610921805107746, 0.07248702734394283, 0.12702488601224268, 0.33459091351775516, 0.4655277978310995, 0.9948535545201543, 0.9967615068522947, 0.19201264585866695, 0.0022560232542141023, 0.596592816114396, 0.14288147276689317, 0.040859087826322076, 0.025317594297291593, 0.16220140579220518, 0.7982016548195361, 0.03948323693626047, 0.05382005544367673, 0.9445419730365266, 0.9970922782279288, 0.9967910060409017, 0.09034724240685033, 0.6440849565193685, 0.0065221086234531, 0.2590667081086371, 0.9957495989146221, 0.9981390371065504, 0.9978631233899997, 0.9989282163455463, 0.03663141728604616, 0.9632184212010343, 0.9984181137657013, 0.9987599265757692, 0.19409056254597895, 0.06887084477437963, 0.025043943554319863, 0.7120448496921398, 0.9973872775046918, 0.46966055022793096, 0.22394922561209074, 0.022746491204242183, 0.14920573210325166, 0.10673624002485205, 0.00038672550733642047, 0.02109411858198657, 0.002742235415658254, 0.003480529566027784, 0.9338515860049116, 0.06502641604676367, 0.000748937137242522, 0.6538221208127217, 0.12170228480190982, 0.10897035346878695, 0.03257876547004971, 0.002995748548970088, 0.07938733654770733, 0.9581769128235311, 0.041628112828461336, 0.007397498360903768, 0.991264780361105, 0.06818759844404934, 0.02066290861940889, 0.911234270115932, 0.993473002866171, 0.2333527315561856, 0.0612376949610666, 0.021804330781591896, 0.01809295532940604, 0.16886758307445637, 0.49639646672985804, 0.10510613699943995, 0.04055276151946896, 0.853677010353719, 0.0397821552377511, 0.0959451979263409, 0.8389354501608101, 0.025741394565603655, 0.9989459779835886, 0.9983647897990096, 0.9517464935263836, 0.046897653304198615, 0.9966783616573068, 0.9923911789482184, 0.9988793598522435, 0.04574373080686995, 0.9093111894176445, 0.01978107278134917, 0.02472634097668646, 0.9965129001032961, 0.9960526033857617, 0.9959415169318414, 0.9955785578175705, 0.14867647009365673, 0.8507935145767621, 0.08136448305219128, 0.09434817715626435, 0.823166206198233, 0.12970549351874197, 0.09658919730119082, 0.5787825407112915, 0.0624693769558351, 0.08404514570363357, 0.048420039166570984, 0.21037411618909801, 0.7775053824168884, 0.010161674019577842, 0.001922478868568781, 0.9567660463581265, 0.04170518663612346, 0.0018334801087447664, 0.10084140598096215, 0.8965717731761907, 0.08247551532656358, 0.09943954272650893, 0.029790487141367446, 0.10840427265330932, 0.3984477655157896, 0.06799402852173218, 0.12495454328740235, 0.04123775766328179, 0.04703035238521435, 0.6861259388732899, 0.12848638325685188, 0.07397700854182382, 0.09084895785838012, 0.02033286199687555, 0.47804774576786535, 0.00142594405896455, 0.038856975606783986, 0.03368792839303749, 0.3313537507018873, 0.04972979905638868, 0.06666288475659271, 0.9972308735490851, 0.13744931174141659, 0.07489550442982477, 0.1381255691177581, 0.04869053109659038, 0.3809019672243685, 0.09399977531147309, 0.12595293634361052, 0.1584115876459125, 0.5764768143597315, 0.23345959701622016, 0.0008315568905297245, 0.03076760494959981, 0.9944169520036401, 0.006095776746407618, 0.9936116096644416, 0.9948354968892881, 0.9973655492464948, 0.31848699339970044, 0.07211026265653595, 0.5784999597093253, 0.00023112263671966652, 0.030739310683715645, 0.33443261482490666, 0.00804762184024211, 0.4954680168033596, 0.10420425805509372, 0.0038993631597049397, 0.027212576944323837, 0.024723621736001535, 0.0019911641666578417, 0.9737508327578437, 0.022979370684550884, 0.19265628505039323, 0.16825315561067675, 0.6383344911336362, 0.9506370408091155, 0.0445114333489218, 0.9929236889240126, 0.8786635295585165, 0.12108790690029025, 0.9941698691252219, 0.9954010014419673, 0.9906283384266827, 0.9994133102055269, 0.07846909502285851, 0.9208108089417071, 0.04760750426520201, 0.06441015282939094, 0.012601986423141706, 0.8541346353462713, 0.019603089991553767, 0.9942606984888934, 0.998945991206977, 0.10689763396324553, 0.10689763396324553, 0.12265722951276435, 0.6617543376500777, 0.0017841051565492996, 0.0063125101449993375, 0.014495393666294775, 0.4379011667253244, 0.011689833601850625, 0.20971561481720022, 0.02034031046722009, 0.014729190338331788, 0.26091708599330593, 0.023847260547775275, 0.0740616381783644, 0.09056935271209623, 0.2819696104140139, 0.553231514103445, 0.994681047903366, 0.9947982209149722, 0.05165398987848217, 0.8420222687420045, 0.043563605921611466, 0.059744373835352874, 0.0024893489098063697, 0.5225364049838118, 0.06471918288272041, 0.08235628122027469, 0.028847118467355746, 0.3013253410890631, 0.15873946772214312, 0.0638362470732479, 0.6868780185081474, 0.017448574200021095, 0.07319889664399093, 0.9938151902745697, 0.3509078700633683, 0.18787857782349784, 0.059137447086617057, 0.12662219940804434, 0.05156066233502008, 0.10626761664316094, 0.10395605519352119, 0.013612528536767443, 0.9939241036822323, 0.99416338993003, 0.20577293223418147, 0.5710445009369629, 0.08349064427492148, 0.024023251418727406, 0.09963741981865629, 0.013783832781237036, 0.002166030865622963, 0.034741186887607245, 0.7543415850557201, 0.09345109961240089, 0.033125317730044124, 0.08294795008824056, 0.0013465576313026065, 0.997719678290934, 0.8515331557246548, 0.0752339366622233, 0.007906751305265507, 0.06517079863733993, 0.9393448068964726, 0.01589584020131524, 0.044707050566199114, 0.9975066761015247, 0.4972195610151193, 0.17045124955576138, 0.08046449246894609, 0.12444053504890618, 0.07254283643356772, 0.008925427519313306, 0.01736253377617178, 0.011963870930143367, 0.011258517995486389, 0.005371533887003144, 0.04777662866565872, 0.013029989636088741, 0.2779731122365598, 0.5843752927700405, 0.003948481707905679, 0.07304691159625507, 0.4160007565898415, 0.24957749902182652, 0.08992594641692393, 0.030243123013222024, 0.20653700137492612, 0.0029841411701850952, 0.004361437094885908, 0.0003443239811752033, 0.2097047005549311, 0.03709763744460697, 0.014684481488490261, 0.04328057701870814, 0.04534155687674186, 0.13757040552375085, 0.5124111172036339, 0.41332882819032457, 0.49478040877617796, 0.023946427418615295, 0.06711745149724568, 0.0006745472512285998, 0.34049051586929496, 0.1423369760188369, 0.11959338464432236, 0.2800304687987104, 0.06965224858445082, 0.010992735831015368, 0.013646154824708732, 0.010329381082592026, 0.012508975255983004, 0.0003790598562419092, 0.9990919104458421, 0.1256110236828337, 0.05881786029593007, 0.12124952980495754, 0.04535953632991217, 0.6488656749171777, 0.000124614110796462, 0.2951335772791455, 0.5662283316764581, 0.053517087437657186, 0.08492547645844616, 0.9980126559025657, 0.15124354303844526, 0.833778506493993, 0.006094062173710248, 0.008864090434487633, 0.6064753147770569, 0.098106300919818, 0.19132167188175653, 0.002877017622282053, 0.004890929957879491, 0.04257986080977439, 0.053224826012217986, 0.999060081616426, 0.09925181473617348, 0.09566439974570937, 0.027802466176096784, 0.01315385496503504, 0.09058222850921856, 0.01315385496503504, 0.6600843582453947, 0.9965644872258268, 0.08446336532145225, 0.06190123348900953, 0.11281065916221363, 0.0052066458074867825, 0.01099180781580543, 0.03181839104575256, 0.692483892395742, 0.28715308642207404, 0.08325624979561641, 0.463467421715897, 0.13253675940068033, 0.0024928544087902253, 0.00012718644942807272, 0.023614284110478837, 2.5437289885614544e-05, 0.005392705455750283, 0.0019247549346781672, 0.2814481557816821, 0.09744279644144409, 0.5615542563246232, 0.022671147425874595, 0.004888915512556467, 9.586108848149934e-05, 0.007429234357316199, 0.024396647018541582, 4.793054424074967e-05, 0.1901642659233541, 0.19279767791473917, 0.0470024140280552, 0.12680277740336116, 0.23158065451513787, 0.11203971017892955, 0.09137141606472532, 0.008219437427656514, 0.52737879227441, 0.42931985523893823, 0.041006464578470014, 0.002139467717137566, 0.22844878984319014, 0.2959185243052143, 0.15231214824693132, 0.04030306142691191, 0.1813832089483104, 0.030392472551441767, 0.04185766360345625, 0.020909399274521318, 0.00652932914148621, 0.002020982829507637, 0.9988474573310913, 0.9990160229346523, 0.0012517723756315963, 0.9976625833783823, 0.9976342386687268, 0.9974161716613199, 0.9442558933507188, 0.04080986722380155, 0.014072368008207433, 0.12259239548728454, 0.07864417823712593, 0.18319467401118744, 0.22112892469027173, 0.3872069246145553, 0.007170498603973246, 0.9976876454625829, 0.21631825956247877, 0.5515603016332397, 0.0016659581601375735, 0.06920133895956074, 0.01986334729394799, 0.09137139755216075, 0.044596418440605815, 0.00512602510811561, 0.0027205154005269273, 0.7925768200201782, 0.08796333128370398, 0.11607532375581557, 0.23700535990081537, 0.7160766923693674, 0.04684900514377165, 0.9949014086830827, 0.000504856734665845, 0.038116683467271296, 0.010601991427982745, 0.7757123728140708, 0.02221369632529718, 0.12873846733979047, 0.02423312326396056, 0.03852515499917782, 0.14817367307376086, 0.791247414213883, 0.020744314230326518, 0.09717553051577543, 0.8471560052939687, 0.029808444943489398, 0.025039093752531095, 0.9950790064558094, 0.9929757873583878, 0.9971003089712938, 0.32062641189045565, 0.059800429861333944, 0.6012078930701966, 0.018153701922190662, 0.008518624653180441, 0.01448166191040675, 0.1311868196589788, 0.07964914050723712, 0.7270646141489506, 0.03918567340463003, 0.3492880758118738, 0.18822989781831845, 0.05646166511973619, 0.21620508247660947, 0.14301674036797343, 0.04302188972254155, 3.652112879672457e-05, 0.0025930001445674446, 0.0011321549926984619, 0.24235351503576646, 0.11698699086818543, 0.00010882510778435854, 0.03471520938321038, 0.3934027646404561, 0.15289927643702375, 0.028403353131717577, 0.028076877808364504, 0.003047103017962039, 0.9976610491709386, 0.10740883439335207, 0.04108928564040985, 0.8513411638828777, 0.2760199931578564, 0.0004846707518136197, 0.06022034091284224, 0.11632098043526871, 0.5451334281023688, 0.0004846707518136197, 0.0012116768795340492, 0.3019784549196393, 0.1926864344971766, 0.06649571072843741, 0.22043877657805336, 0.12193170097414918, 0.09637756420660919, 0.00013738783208354838, 0.9991770624926906, 0.2598447558714538, 0.08208513682574187, 0.02690415855826991, 0.04996486589392984, 0.055455510497658386, 0.34165536046700923, 0.16430753976657697, 0.017844594962117797, 0.0019217256113049936, 0.993690109148633, 0.3474069419735448, 0.46747569753891777, 0.07938353744903238, 0.019152780135403915, 0.00905656189756132, 0.04093935633285372, 0.0239120958264693, 0.009218286217160629, 0.003326900288900077, 0.00016172431959930928, 0.9572937063108803, 0.04254638694715024, 0.3817780594596427, 0.28675359380440646, 0.0028936723333126955, 0.2721918878690264, 0.025669673924548105, 0.0025202952580465413, 0.021095804752537715, 0.007094164430056931, 0.0351764567012911, 0.9643658789995466, 0.9978406485127815, 0.006063368011225007, 0.6076964654644117, 0.22030237107450856, 0.008819444379963647, 0.07198871475145326, 0.008929687434713191, 0.02451070583931563, 0.004262731450315762, 0.030316840056125033, 0.01712442117109608, 0.9963413586363318, 0.12856749508275653, 0.7750193177478616, 0.09603836982085427, 0.5175567809482851, 0.17022885273077812, 0.030970527979206266, 0.2623770785844024, 0.015812417454172212, 0.0029443811811217225, 0.9936174282829052, 0.9973039767726177, 0.9960342033970329, 0.9939499869340965, 0.9968534789931179, 0.982943181494687, 0.016001400628983278, 0.9931019445387799, 0.9462679747201801, 0.052664824445826895, 0.995979006411831, 0.992954925984508, 0.1690916094399954, 0.14331717651028086, 0.06259505140073532, 0.13057157780877365, 0.03682061847102077, 0.44779536771295264, 0.002549119740301438, 0.006797652640803835, 0.9967352592764374, 0.995199084587268, 0.025930511370648723, 0.9738347603643632, 0.9977602422766626, 0.008748454034768394, 0.07873608631291555, 0.0003240168161025331, 0.07387583407137754, 0.003240168161025331, 0.26310165467525687, 0.0019441008966151986, 0.5696215627082533, 0.11434285981743127, 0.11954026253640541, 0.038980520392306116, 0.7267701468698852, 0.9984106188607139, 0.14059168305268618, 0.6509721882741819, 0.013078296097924297, 0.0019617444146886446, 0.02419484778115995, 0.16936393446811965, 0.9959921074095721, 0.2098296840865297, 0.7896643836233522, 0.026545755146728155, 0.033762076934188236, 0.12473927661180997, 0.6280777212871507, 0.07963726544018447, 0.02087578802800952, 0.07370957254334226, 0.012370837349931567, 0.9792314486497644, 0.019716069435901297, 0.9958415873823329, 0.9981538574883574, 0.09212838627956972, 0.18386967849914126, 0.20593403991903822, 0.21774040874898307, 0.035225559459835486, 0.0005806410899972882, 0.22528874291894782, 0.03909650005981741, 0.9992673578879302, 0.9982232460793855, 0.07538198014389089, 0.05788591561666683, 0.2726780269402473, 0.1980405601804936, 0.36462542988119073, 0.0016751551143086864, 0.02959440701945346, 0.9968921159216736, 0.9989806452146754, 0.9557333967551388, 0.00832473596499278, 0.009398895444346687, 0.026048367374332245, 0.9988989125838585, 0.776017822530842, 0.22387360201562406, 0.9983095624935213, 0.2780643062548233, 0.04434900015073399, 0.14953069962327123, 0.34184052328574605, 0.18603031921635318, 0.05790264754566532, 0.9237281741269421, 0.018094577358020413, 0.20378803448852512, 0.21164566025498302, 0.29430380143460516, 0.15194811384747817, 0.036022622020255066, 0.03612466910813114, 0.0533706269591881, 0.012347697633005278, 0.00030614126362823004, 0.9957235457694384, 0.0062685102248783335, 0.06059559884049056, 0.6324230315766142, 0.04248656930195315, 0.00023216704536586422, 0.046433409073172845, 0.21173634537366817, 0.08413721352352153, 0.8630438417488496, 0.05226705688582398, 0.10385720692995151, 0.7117961276753209, 0.08374072090297892, 0.01567214609078097, 0.08467637141586137, 0.998356868347267, 0.14561102094608674, 0.8540584606043101, 0.989491005593587, 0.010504150802479692, 0.046151981504308555, 0.94380802176311, 0.00923039630086171, 0.1074807841947801, 0.8916019597976077, 0.1449270438117803, 0.024280970690978895, 0.7648505767658352, 0.0478031610478647, 0.017451947684141083, 0.29876847399448125, 0.21888610951906087, 0.3077262589290601, 0.1709356136927861, 0.0037938853840569046, 0.9957076459610757, 0.0035839649820475017, 0.9927583000271579, 0.9968186014742313, 0.13988166576501443, 0.8063766614689067, 0.05320988854590745, 0.03199845880481398, 0.88666697139791, 0.08051225118630614, 0.0810609927840486, 0.8303274666257952, 0.08836378492675569, 0.12695109294430548, 0.776641980365163, 0.09593136887646612, 0.1639256827873872, 0.41328720872243807, 0.42266431345815725, 0.938887527911234, 0.05966174926526236, 0.9979136974532198, 0.10666915184061944, 0.0675212139597187, 0.2553594847093617, 0.020471857423957265, 0.5107189694187234, 0.039147937880900735, 0.016185154162278843, 0.1173423676765216, 0.2520259719554848, 0.6138797757264333, 0.9924453336716528, 0.9970193461334876, 0.9967832118964073, 0.9983636822250744, 0.06898539856971946, 0.924859189616019, 0.0060646504237116, 0.07862275189545512, 0.11013187002149628, 0.003300955232251932, 0.1808023206756172, 0.04321250485857075, 0.5554607395362114, 0.02850824973308487, 0.23226467722076866, 0.7674678401744359, 0.9979496748550268, 0.9993478404775491, 0.993042517764282, 0.9941971788963977, 0.9978601678129041, 0.995521707433776, 0.99797667025665, 0.9951129764874705, 0.13335050160229886, 0.8667782604149427, 0.9986061729897514, 0.21801422253493954, 0.10122088903407907, 0.5161976962136796, 0.05681058444362842, 0.10352791784397261, 0.0040373004173136955, 0.08299700044972916, 0.20211494486046513, 0.6308989594088213, 0.08380870705559447, 0.30501425223161477, 0.04420098524688567, 0.5029577948589723, 0.14770267119766764, 0.22905124883091701, 0.013313773656838593, 0.03613738563999047, 0.6338986518653967, 0.0872188029356161, 0.3106809973176993, 0.6891026356191794, 0.26514998679115465, 0.03074848586317592, 0.6501745054257053, 0.053921257818033135, 0.09234991200225014, 0.059281384560396375, 0.052022439512184576, 0.5315160874190641, 0.043553670289270804, 0.22099454924555928, 0.34513251056381444, 0.2530787230629927, 0.13805300422552577, 0.2228000569397519, 0.018986439634865813, 0.021920204359786772, 0.9994217429097331, 0.9989660116722895, 0.9960759521224134, 0.9989667099769542, 0.9954821114017679, 0.9555582303567549, 0.04398371217120116, 0.9972367826001225, 0.402484740004349, 0.5884722305339511, 0.009030888647762834, 0.9393863505856377, 0.0602170737554896, 0.9943479447587538, 0.9971836951389381, 0.9964250375396871, 0.9945416497892778, 0.9961131109703699, 0.0683963088810118, 0.09293851383243368, 0.01413906889473017, 0.34422310410788204, 0.0809835287507106, 0.009081190590924255, 0.3898589606217672, 0.0001149517796319526, 0.0001724276694479289, 0.3965132990412459, 0.2900043441649668, 0.03304277492010382, 0.08577856752290462, 0.15347969307974113, 0.016870011693640243, 0.018519599530619178, 0.0030951029518573835, 0.0022107878227552737, 0.0004931757450761765, 0.1502974716826762, 0.7373685050128873, 0.02482185517183592, 0.06307939341833532, 0.024366408287949025, 0.24372558062384989, 0.2279679080356639, 0.1764444654282401, 0.03483274993177948, 0.11009637032008872, 0.06137198797504004, 0.09765610248731033, 0.014617314703514604, 0.03177451742288813, 0.0015550334790972982, 0.002869629662368607, 0.008369753181908437, 0.008130617376711053, 0.4309227209656858, 0.04352271654592387, 0.0609796303253329, 0.44527086927752885, 0.05759632758309279, 0.9306353983162888, 0.010609849817938147, 0.9944427372436655, 0.3059352594395702, 0.4446808591378644, 0.07264548289386519, 0.06480720498429353, 0.07248386891634825, 0.030383427773184996, 0.004929226314266715, 0.004121156426682007, 0.9979032822803418, 0.042452345523837955, 0.34638731417856045, 0.04721740471528915, 0.02100957916230756, 0.08111430305447609, 0.43183348922526493, 0.029944065146278558, 0.6760603389991271, 0.0025292193752305537, 0.2347115580213954, 0.08649930263288494, 0.8143311570501603, 0.07347164030114603, 0.09853554435036642, 0.011794778376103711, 0.0017200718465151246, 0.9971231973801716, 0.9990602134382683, 0.998047837016375, 0.35587342787181014, 0.23858714651231133, 0.12427942732204529, 0.1057605407915981, 0.1333446165327537, 0.00012950270301012012, 0.0022878810865121224, 0.0022878810865121224, 0.03423188116234176, 0.0032375675752530034, 0.4463093190593385, 0.21225930029113504, 0.051463186190523404, 0.1513127259819648, 0.05930278703527144, 0.020863453861023003, 0.05066236674939323, 0.0008008194411301758, 0.006490852312318268, 0.000547929091299594, 0.06328603502295803, 0.007848951609292646, 0.08701829815656728, 0.1378819766955267, 0.051358100687576284, 0.2739716731023173, 0.247334679845584, 0.07403971675537473, 0.05630232217374488, 0.0009270415286566116, 0.1431093940538619, 0.28264482856575257, 0.21418588522658544, 0.2444386976874968, 0.09750365679997555, 0.00010067491667524579, 0.00815466825069491, 0.002919572583582128, 0.005637795333813764, 0.0012584364584405723, 0.9959648410955328, 0.9951901495093568, 0.056847318024488246, 0.9420412701200909, 0.010088196817200395, 0.8619803724919003, 0.12498154945753821, 0.0033627322724001313, 0.8781620660696052, 0.12029617343419251, 0.0013366241492688057, 0.9993472421753773, 0.9954496025598537, 0.008380777356727038, 0.0522186896842223, 0.25593604697081795, 0.6827110169826102, 0.9963184242525365, 0.14756034038982327, 0.1766283144201031, 0.28956950518358615, 0.25222523299190724, 0.07155969995648748, 0.008074437230633284, 0.03966567289548601, 0.01100142072673785, 0.0005046523269145802, 0.0032297748922533137, 0.9976296942500851, 0.9969111944603027, 0.958106784923935, 0.04067434464299724, 0.02598646184910103, 0.0007023368067324603, 0.3938353643752271, 0.010535052100986904, 0.20332650554904727, 0.16733174420400868, 0.1141297310940248, 0.08428041680789523, 0.8843311450806913, 0.00927429331670065, 0.0021821866627530937, 0.04746255991487979, 0.028913973281478496, 0.027822879950101947, 0.005323485688137414, 0.08961200908364646, 0.7750107914313384, 0.08207040435878513, 0.04791137119323672, 0.876929580656428, 0.12323714521059269, 0.7354514060940687, 0.030989763494184797, 0.09273540547505112, 0.0022219075712811742, 0.1291045241418114, 0.00935540030013126, 0.00011694250375164075, 0.998763856258265, 0.19841199954750055, 0.06371027508405981, 0.7372188974012635, 0.9919925699226607, 0.1789528403274129, 0.00047593840512609816, 0.8200418720322672, 0.9959830192199126, 0.2661167527529764, 0.7326632116933212, 0.058454777476030756, 0.045789575689557424, 0.8047274365866901, 0.03799560535941999, 0.0516350534371605, 0.021529597959509348, 0.035882663265848914, 0.9423812592562378, 0.407940427277998, 0.4148003121656167, 0.03608121272059166, 0.022361442945354335, 0.1164398642612674, 0.0002227235353122942, 0.002138145938998024, 0.03252693460164156, 0.1520505117489435, 0.15101791065047868, 0.028396530207782315, 0.03304323515087397, 0.10609976286725938, 0.09138519721413582, 0.3673478407788567, 0.03794809036858182, 0.312576147235836, 0.29584166898994035, 0.18186440328995385, 0.12575468211253912, 0.039480712332228524, 0.006714885178500132, 0.018632927458665287, 0.011812572879455729, 0.0062578511087592855, 0.0010898504739974037, 0.9963270663647728, 0.998631368003848, 0.1285895127060576, 0.871090247363616, 0.012502803959355237, 0.025005607918710475, 0.9614656244744177, 0.9993256164059611, 0.05067710101597678, 0.1122845571530466, 0.8366690010873029, 0.16413787545145478, 0.14496444368028552, 0.20525546612835535, 0.10074363861267549, 0.010861250367483167, 0.3739373340804919, 0.08021685096330763, 0.9193742418739091, 0.9952194164895026, 0.994855847498209, 0.9977073634736516, 0.9968647149065251, 0.8073244219500375, 0.19222010046429464, 0.9966479828542922, 0.9545927221430901, 0.04362386095815197, 0.9952610182311687, 0.2608658235456498, 0.2070173737311808, 0.09874817173706488, 0.1370924302039863, 0.17512452374444698, 0.02840700830792277, 0.052495735133139335, 0.035586801616518636, 0.004682473896910348, 0.047205307192108616, 0.22127487746300914, 0.12072438359603453, 0.09026420226599148, 0.11498319758618349, 0.13420022298026824, 0.11530215236450854, 0.05103276453200931, 0.033490251724131115, 0.0715256090393943, 0.1667173018681662, 0.05330524737151045, 0.10724319797591715, 0.36348800729890507, 0.2236605928288302, 0.06089768616626564, 0.02467542608295439, 0.998030562305605, 0.9991765544255535, 0.9964883273017988, 0.9977180954191041, 0.9945956712022207, 0.6564183739389668, 0.12398837897328364, 0.01440069238872854, 0.14076281186564876, 0.019702046180183553, 0.02049329301472908, 0.02120541516582005, 0.00023737405036365728, 0.0022946158201820202, 0.00047474810072731455, 0.008946326888263861, 0.9561386861832002, 0.014910544813773102, 0.01975647187824936, 0.13110185368932833, 0.08715912710647868, 0.1252912452155631, 0.1278333864228354, 0.07009046471479327, 0.1031383004093331, 0.0010894890888309835, 0.040674259316356716, 0.05701659564882147, 0.2567562619345018, 0.15838891968167781, 0.11394886308034376, 0.7269937464525932, 0.9939351317408947, 0.13639926459241336, 0.10805432925519899, 0.025424548060046823, 0.3392802866121113, 0.07051876336925149, 0.20296691576314407, 0.03195247256195074, 0.08185673750413723, 0.0035216434812902694, 0.995081608205759, 0.26906160630070053, 0.22894030748454372, 0.15325020695351696, 0.08271874336445828, 0.10455267422133821, 0.07098284432148087, 0.041230405758679936, 0.020453995474903466, 0.022891451429983386, 0.00591953589090838, 0.21937036009062255, 0.01750295426254967, 0.02567099958507285, 0.10851831642780797, 0.03850649937760928, 0.5892661268391723, 0.9949435588115522, 0.9972210527502289, 0.28792292377989437, 0.14304450990338702, 0.08497088408790938, 0.16749656287832496, 0.316042784701073, 0.9945547200143828, 0.9976239081491878, 0.9963061139131268, 0.009784977997172097, 0.013307570076154051, 0.27319658568104493, 0.7033442184367303, 0.11758897066913479, 0.08526088507731829, 0.5794187648379422, 0.0955632420241609, 0.000710507375644319, 0.011368118010309104, 0.03730163722132675, 0.07069548387660975, 0.0017762684391107975, 0.8874098086896783, 0.07168306607216549, 0.04048765768890828, 0.9930492287154337, 0.9922018535413496, 0.27718450407659223, 0.180621662499975, 0.40399551122193283, 0.13295460110792476, 0.002240604856942467, 0.002999519405261689, 0.0016983758497411423, 0.2058674155007656, 0.46960092245342583, 0.007036128520356161, 0.1265290008057151, 0.14496851003147607, 0.044157772093269695, 0.01794998614218225, 0.19744984756400474, 0.6141459544360927, 0.07399790205552682, 0.07088412894922991, 0.025276511098175004, 0.9979994339648385, 0.9982162550344373, 0.13480721650477684, 0.8647389741647881, 0.9971838695826979, 0.9914359094589515, 0.08882425738091247, 0.21867978936511842, 0.12370852455300094, 0.025049055282160438, 0.1101851082043499, 0.0064543578027652666, 0.0817551988350267, 0.20776885117472954, 0.13753929127321224, 0.014943852360638414, 0.2668180135160141, 0.07740149171407588, 0.0005109009354064414, 0.03090950659208971, 0.13347286937493283, 0.17894305262610613, 0.014305226191380362, 0.25838814808180777, 0.02426779443180597, 0.1140747090161279, 0.196354583880868, 0.08163538498329304, 0.08829511375824589, 0.06487864806566973, 0.08034640522039894, 0.0030076194467529016, 0.2803530984294669, 0.09130273320499879, 0.005894967455165241, 0.12585755516777788, 0.12128895539002482, 0.23741981425678008, 0.18731259088787552, 0.004273851404994799, 0.2966642371811907, 0.021221882838594865, 0.5741955824956932, 0.16246477322776784, 0.18620439570778285, 0.000679768925639196, 0.043557501158265406, 0.03283806810010886, 5.228991735686123e-05, 0.39594224820939317, 0.07521275237565395, 0.06370415502605621, 0.3559527786309929, 0.03440954359071649, 0.05219555767645846, 0.01732102025343499, 0.0002324969161534898, 0.004882435239223286, 0.0001162484580767449, 0.950764292174776, 0.04847540578729313, 0.9997381376331603, 0.9964434847073571, 0.9992736035107632, 0.9942361806807578, 0.9992686098130492, 0.7449950605043577, 0.003593801546089521, 0.006468842782961138, 0.13243158697339885, 0.002335971004958189, 0.05660237435090996, 0.00592977255104771, 0.044024068939596636, 0.003773491623393997, 0.9747880551214669, 0.02476595668499662, 0.9979496870974204, 0.9987619891716033, 0.018354562702643636, 0.9809494066635098, 0.5472351749995626, 0.2694358668155193, 0.014255865969075096, 0.005227150855327535, 0.09465895003465863, 0.0031362905131965208, 0.05341197783080136, 0.012069966520483581, 0.0005702346387630038, 0.17944208682075943, 0.11192006446037057, 0.7075937959684586, 0.06837677302795235, 0.9311989343721985, 0.9993425969233343, 0.9707981556398448, 0.026136873421072744, 0.9963502629029365, 0.20824928731061898, 0.2717157367767124, 0.39378047055098864, 0.03741275075060904, 0.016768124432803087, 0.022537801656993397, 0.042551369528403535, 0.005499223604306389, 0.0014424193060475774, 0.9772689223326241, 0.019771336578983726, 0.9974595802764429, 0.9945514262215298, 0.9961011503392262, 0.24058066694469774, 0.1178577685891871, 0.3477351500479731, 0.19569984485036332, 0.02189308394845581, 0.006324668696220568, 0.050232464837290276, 0.01970377555361023, 0.19217542000929874, 0.23854787517068393, 0.08378336223943521, 0.27610102904370754, 0.06436667472554232, 0.04779492311112093, 0.08911761705094423, 0.007894697121033368, 0.00021337019246036129, 0.1215376642584234, 0.0385542439490467, 0.6488128481711001, 0.11529554857143488, 0.07563975479527256, 0.41457264962131163, 0.44310423968909746, 0.02541905296948188, 0.05354716600600605, 0.041068197824843174, 0.009251151931069937, 0.013026544152160783, 0.19885858448439866, 0.5781315137408903, 0.09773327019968846, 0.046428603413734865, 0.07886502497675511, 0.00021200275531385783, 0.9991103620367514, 0.9949380687519401, 0.9935620914112298, 0.9949129318487974, 0.08140028154849849, 0.11980993820991119, 0.11769564518267746, 0.6808023547692601, 0.05924569778063763, 0.06337039825903645, 0.28497930578028224, 0.5035884311354198, 0.03562241322253528, 0.002624809395344705, 0.04537170526238704, 0.004874646019925881, 0.9985650973992727, 0.9486888136177233, 0.05047593960585431, 0.05899906247614242, 0.2639885058239073, 0.00861300182133466, 0.001291950273200199, 0.6653543906981025, 0.001722600364266932, 0.9918684145553661, 0.8191428535426515, 0.03063941272827403, 0.04835859117354094, 0.0003691495509430606, 0.04060645060373667, 0.06054052635466194, 0.9973856433615772, 0.9944886508485564, 0.9980234761415693, 0.026116882591539218, 0.25607284882436016, 0.15287931273096128, 0.026753879727918223, 0.5376255831038805, 0.3207878210861519, 0.678618115738834, 0.049497583662444944, 0.01667853362538906, 0.46161876937367136, 0.05272568694477831, 0.10007120175233435, 0.31958222495100325, 0.23315808499739743, 0.23240665470504854, 0.04830623307957129, 0.12785049688393202, 0.34501385137276025, 0.013311050893037421, 0.32888882562837696, 0.2506114287478695, 0.0006187936512293075, 0.06868609528645313, 0.3505466034214027, 0.00030939682561465377, 0.9882730135110636, 0.011749613106472354, 0.9950715254469821, 0.998249756035676, 0.9947781120041566, 0.9967564146258404, 0.9944061800885794, 0.9967590232935398, 0.9588476761621143, 0.0408563590375335, 0.14566193901159355, 0.3266453353371572, 0.012190591462343667, 0.022297321136252518, 0.49314589223309896, 0.43054371751567977, 0.3246990063261216, 0.013678393446035213, 0.12017445670445223, 0.11079498691288522, 6.513520688588197e-05, 0.8004749529853548, 0.07078801973173086, 0.03958761293054144, 0.07783327288038655, 0.011071112090744639, 0.38304924893949044, 0.08597559750783686, 0.18080072042034026, 0.008665160292069332, 0.025319475463351525, 0.1865774939483865, 0.08849525404666553, 0.020894712761018248, 0.006637144053499914, 0.013520108257129454, 0.41687472218807525, 0.15322998203106825, 0.32003232447310404, 0.004327419261467909, 0.011605351655754848, 0.015736070041701487, 0.07809024758194363, 6.556695850708954e-05, 0.12688783883404642, 0.14092649334334517, 0.09233115081115718, 0.6392987284234509, 0.08474542129471858, 0.10472604907965223, 0.1832705858893914, 0.6262893329829202, 0.043985270391274735, 0.9548022109325491, 0.004785008720100503, 0.9928893094208544, 0.1440043938196347, 0.05317085310263435, 0.6440636075229816, 0.05855123704754378, 0.10001184274066938, 0.999097575242583, 0.07189566210868475, 0.042213966742713986, 0.09893898455323591, 0.050788678737327765, 0.7361060450760751, 0.20527054325688388, 0.14762507351831491, 0.4248792997989956, 0.004681865562523367, 0.0238482527091034, 0.024433485904418822, 0.009510039423875589, 0.11309631499470509, 0.04652603902757596, 0.9968296747230884, 0.5976329655484102, 0.10379468515438967, 0.23328556803889308, 0.0012343151748089583, 0.0638477576787543, 0.00022442094087435604, 0.992907479635784, 0.9983311428241437, 0.993630606108585, 0.0057468513944973106, 0.99809908959363, 0.2448912722860442, 0.3445583969273205, 0.03970647963211752, 0.11267493173093035, 0.21926173457286738, 0.002197666037978083, 0.036588169713364836, 5.9396379404813046e-05, 0.3673765861392026, 0.30852322258854425, 0.1172889569962543, 0.0331605020893239, 0.17347903612714016, 0.00010444252626558709, 0.9950453931926249, 0.994746194121877, 0.1470927535035179, 0.8524498170876388, 0.6988248331012008, 0.038143403963070935, 0.0008240858880910387, 0.028254373305978468, 0.219560025898541, 0.014480366319313966, 0.13165174455408224, 0.051931830031714095, 0.30566892939719437, 0.07136830442954861, 0.11525221928090935, 0.08564196531545834, 0.01199594904241349, 0.15078452403945058, 0.05603171135000731, 0.019436474397834514, 0.9577909356634601, 0.04067837950694232, 0.9968391656414121, 0.9926611096352078, 0.9935830657750123, 0.037607022016161354, 0.9609242522060538, 0.9984661319338078, 0.9954869314716889, 0.8796089349762222, 0.11940927746316995, 0.997601622194107, 0.9964417401484162, 0.07382052117296935, 0.9249711302973059, 0.00318495693124792, 0.7098915115648142, 0.05827291570505454, 0.2108559449853947, 0.0008257295747679793, 0.014568228926263634, 0.002418208040391939, 0.9748121150213713, 0.0202243177390326, 0.9966903993793849, 0.997697683792639, 0.017024313902103544, 0.9808623932827351, 0.11639970528970825, 0.8835291915799759, 0.9989518219147043, 0.043533759160696676, 0.0013893752923626599, 0.09910877085520307, 0.19312316563840973, 0.6479120113384538, 0.01528312821598926, 0.9996757140390998, 0.9931734085682458, 0.9929676705136214, 0.9974401245710703, 0.9962238510982658, 0.9154119010027981, 0.07744897126804845, 0.0064055540146506235, 0.0700012669364448, 0.9233013821471223, 0.0061314978338491795, 0.44257018174624285, 0.2160116898395052, 0.04218720826892991, 0.1652552048909489, 0.10533618564648438, 0.017995481027215415, 0.01061271958015268, 0.026597636526075955, 0.15753984711598834, 0.7687739942056185, 0.04705735693074977, 0.07658155610977609, 0.07323575996905772, 0.11375706878442467, 0.7364469060847885, 0.027185994345305366, 0.16399293363135817, 0.8085640898829531, 0.9976834646668553, 0.9769132653798828, 0.021549557324556236, 0.08943410671288678, 0.3577364268515471, 0.5522201192271898, 0.9939956195876524, 0.36361920851810764, 0.19308081961743181, 0.07203776772528547, 0.12806714262272972, 0.2430662094676299, 0.995977588224637, 0.04015323508846171, 0.21104932101374388, 0.022035311938789964, 0.02399400633334907, 0.1043004765102725, 0.5988708111364472, 0.9940861894656835, 0.9959336117678781, 0.9964075586590457, 0.99795176170009, 0.090212421005355, 0.1748676086838914, 0.01945031664386504, 0.058536191042489076, 0.0020376522198334805, 0.0012966877762576694, 0.26637671746550406, 0.30175776964624906, 0.08502566990032431, 0.1984967460293751, 0.2421198681218773, 0.04223826107369261, 0.023542637319763093, 0.10478781708992592, 0.003231342377222385, 0.012694559339087943, 0.31805641398660334, 0.05470201024297895, 0.314447892455973, 0.021732320212400864, 0.00939050873375346, 0.013415012476790656, 0.42445099476565634, 0.1819075691852813, 0.03461073219011989, 0.13905548562638922, 0.30163468232736546, 0.18351024069476196, 0.05058862596685374, 0.24212981103385373, 0.023586946857045557, 0.020551629299034334, 0.0246619551588412, 0.009801546281077912, 0.004426504772099702, 0.9951885043681251, 0.9957175372473086, 0.9985077742969473, 0.9811593864419547, 0.016700585301139655, 0.1973944126088267, 0.2613946283613874, 0.29242327849969274, 0.10616438145451955, 0.005248771658909598, 0.001304943230115646, 0.1358010921473682, 0.00028998738447014356, 0.9964068317743809, 0.048719935340570064, 0.8214181098420114, 0.010718385774925414, 0.09451667456070593, 0.023385568963473633, 0.9028870764819821, 0.08518947987425245, 0.011736317892414827, 0.13268299831286137, 0.1769106644171485, 0.5994796607710628, 0.04743589058853593, 0.0034373833759808645, 0.030478132600363667, 0.009395514561014364, 0.026595230482760173, 0.041792505044337416, 0.12429199552147102, 0.7761465222519807, 0.0309373089289251, 0.9946305441380385, 0.21723966658496108, 0.27685055115431506, 0.019603579489250633, 0.4792875148596379, 0.007201314914418599, 0.728267833791065, 0.10350897351497808, 0.12388657903917957, 0.00046312739827730683, 0.04353397543806684, 0.992007286583493, 0.9989449379617483, 0.11648390266536959, 0.047321585457806396, 0.16962968325644448, 0.05285457083441145, 0.023296780533073918, 0.2925202005684094, 0.19845944916612346, 0.0923134928623054, 0.00509617074160992, 0.002475282931639104, 0.6622505703581644, 0.01069526114919516, 0.009839640257259547, 0.014545555162905418, 0.25882531981052287, 0.03721950879919916, 0.002994673121774645, 0.003850294013710258, 0.990674049552042, 0.07169932176382532, 0.8561742540033258, 0.07169932176382532, 0.991185349069992, 0.9954921156454375, 0.9769668997355797, 0.022540290380689693, 0.00044196647805273907, 0.5472180655075328, 0.22258566554230544, 0.0006793051847679718, 0.0662699946918088, 0.1514095778493946, 0.005057049708828235, 0.0063401817245010705, 0.00045287012317864786, 0.2953022461663196, 0.41683011221671923, 0.15521687511997012, 0.13261478570182608, 0.24070210410034137, 0.3083779905576257, 0.253669479169821, 0.06798280657727206, 0.022865548939082474, 0.02179132851912558, 0.0404367258083774, 0.03951596544841435, 0.0019949807799199476, 0.002608821019895316, 0.9961256806816216, 0.9942042012369677, 0.9986914108482221, 0.2631424833614945, 0.2182989978751498, 0.1017230080036054, 0.09762563369520842, 0.22268091206607435, 0.03135629505453794, 0.03257981654940648, 0.007767938793002594, 0.018779632246819458, 0.006032245509584432, 0.1286708752483305, 0.8691353460170249, 0.01210252938456761, 0.143388663360638, 0.5575056470847557, 0.12918134625701513, 0.15680668506961512, 0.0007892953946457136, 0.997877879973885, 0.9969229256938521, 0.9949306772529809, 0.013422084045788341, 0.04199813394972481, 0.022947434013767164, 0.6022619002481155, 0.04156516349663486, 0.04459595666826449, 0.137684604082603, 0.09525349967978823, 0.13412029213282317, 0.03541817423313389, 0.16875718311081442, 0.42605980180446357, 0.13724542515339383, 0.08932671883797738, 0.008854543558283473, 0.048466855108589925, 0.46630361738378395, 0.0013808220828658098, 0.005247123914890077, 0.42253155735693776, 0.00041424662485974295, 0.05564712993949213, 0.18754025997895787, 0.13397155285462586, 0.1565241776941448, 0.10081471368659137, 0.05078074467176454, 0.1354651041685013, 0.12874412325606185, 0.05207515581045658, 0.04415933384691681, 0.00990722371537367, 0.9948186038499691, 0.9982465089953708, 0.23667847530605998, 0.28336462395133766, 0.42220517035729394, 0.0562263616293127, 0.0014208827848562777, 0.05289120215466815, 0.8451094257321976, 0.02529579233484129, 0.07588737700452387, 0.9974849893086131, 0.9974629833521113, 0.9976290274429884, 0.0674728761166137, 0.07958102237863617, 0.08087502274251643, 0.5657554448079349, 0.15075104239205062, 0.00674728761166137, 0.04418086956676898, 0.004621429871000939, 9.242859742001877e-05, 0.998084689475401, 0.9953587791540693, 0.009525132077682914, 0.18994233966673574, 0.4125689560706187, 0.2000277736313412, 0.04239617611047101, 0.002054440252049256, 0.14343728305216621, 0.9984507723699043, 0.38979344943511135, 0.01890874126423977, 0.03918437948734024, 0.5519985552199151, 0.993447675832723, 0.015722608988957092, 0.11274261079886305, 0.15415826374538416, 0.5940078371681594, 0.11120869772676968, 0.012654782844770342, 0.9963259890710078, 0.11095823636023519, 0.0020174224792770036, 0.8163836299474274, 0.01613937983421603, 0.05379793278072009, 0.0755336769692541, 0.8879403359274537, 0.03524904925231858, 0.11836876520305506, 0.28691975772520467, 0.07086803094681289, 0.0325609871917789, 0.08312628494842378, 0.0076614087510068, 0.07010189007171222, 0.00881062006365782, 0.3217791675422856, 0.95764832924268, 0.04062750487696218, 0.10515259743561131, 0.04782065360765238, 0.06235179144423183, 0.026684453118082267, 0.2869239216459143, 0.44412441278709197, 0.007926075183588793, 0.01849417542837385, 0.0002642025061196264, 0.7654889748059212, 0.22929851681970737, 0.005139735373399081, 0.037768452358630314, 0.8686744042484972, 0.09232288354331854, 0.9975328264324771, 0.06269604341248365, 0.024033483308118733, 0.06583084558310784, 0.8474415201254041, 0.9997583747697862, 0.8722867289246735, 0.013181731120412281, 0.11405063012878451, 0.37596429205503096, 0.41921816588165045, 0.004457073649581399, 0.03464361791265542, 0.15093272131537008, 0.014789380746338277, 0.9977307662694826, 0.28595650438179254, 0.22870538890717695, 0.08779928529875745, 0.18892868106623137, 0.071820242621514, 0.06639420406533775, 0.06430069312634061, 0.002478033356363957, 0.0036316006084644204, 0.049026487102439974, 0.9501800119377652, 0.036112160842005483, 0.0194450096841568, 0.008333575578924344, 0.8375243456818965, 0.02361179747361897, 0.07500218021031908, 0.1678261538366845, 0.3703605404851086, 0.23682444798050412, 0.07541025683193216, 0.059380350111650826, 0.03575366151088835, 0.03498701379817924, 0.014601154164777991, 0.0035196099538009, 0.0013939049321983763, 0.9971374910535528, 0.02008390768936181, 0.009318933167863879, 0.014299742274825607, 0.3550834879479168, 0.5037044048491941, 0.09720611321651115, 0.9954851866682289, 0.16700149020525795, 0.09201037517678225, 0.7382104089327963, 0.0021274075185383177, 0.23647953682265344, 0.16849816667671264, 0.1662113315953507, 0.2912596317261868, 0.0367972554000964, 0.04469723113571032, 0.05415641260861646, 0.0017670998355978499, 0.12601201948562366, 0.05089948307735418, 0.01457990308098125, 0.21114823926206774, 0.5917878518405425, 0.005337285949287779, 0.00013017770608018972, 0.18665032048607266, 0.33211401057401496, 0.0982862770864475, 0.37273900510307995, 0.0026209673889719333, 0.004680298908878452, 0.0028081793453270712, 0.9989776116299456, 0.9973259356575335, 0.2204162627309476, 0.16950018856209897, 0.3311607870982002, 0.15043760649888338, 0.0020630500068415164, 0.033586454111379886, 0.043654138144766486, 0.0356495041182214, 0.013533608044880347, 0.00026919415606553137, 0.0537490998277511, 0.0721440338255624, 0.5333633545511729, 0.17641190360827824, 0.05841513186622031, 0.10175539099277087, 0.0010767766242621255, 0.002781672946010491, 0.9250987784104633, 0.011954071767434784, 0.042205192158494234, 0.0043912916696699205, 0.007318819449449868, 0.009270504635969833, 0.9823520587653171, 0.01096724786500354, 0.006658686203752149, 0.3381420655255957, 0.23934035625557698, 0.013242243332985728, 0.2013725580086293, 0.1855170446440866, 0.0027137804173860696, 0.005402433238314861, 0.00012563798228639212, 0.013041222561327502, 0.0010804866476629722, 0.06528558299178101, 0.11584099266229668, 0.07565126051415294, 0.0010911239497233597, 0.49809808304871367, 0.14475577732996572, 0.09456407564269118, 0.004728203782134559, 0.00015379847362711384, 0.08059040018060765, 0.11211908727416599, 0.06321117266074379, 0.5418320225883221, 0.006459535892338781, 0.06913241389538767, 0.0003075969472542277, 0.11373397124725068, 0.012380777126982663, 0.993299629133936, 0.06049483738361025, 0.11300771705688303, 0.025626285280557118, 0.015123709345902563, 0.32389944182474656, 0.1163685413559725, 0.0949432864492772, 0.2508015133195508, 0.0019769150803379113, 0.00028241644004827306, 0.1805582440041959, 0.03492549975263644, 0.09216189826908644, 0.09564503436301515, 0.49724121211165945, 0.0012238045735425166, 0.08284215574749343, 0.013085295055569985, 0.9974884140161304, 0.999236526684551, 0.9355418404060828, 0.06406530226345783], \"Topic\": [1, 2, 3, 5, 6, 7, 1, 2, 3, 5, 7, 1, 1, 5, 4, 5, 10, 2, 1, 1, 2, 3, 7, 1, 2, 3, 6, 8, 1, 2, 3, 6, 7, 9, 10, 1, 2, 3, 4, 5, 6, 7, 8, 9, 6, 8, 9, 4, 6, 1, 2, 3, 4, 5, 7, 7, 5, 9, 1, 5, 8, 1, 5, 1, 2, 3, 4, 5, 6, 7, 8, 9, 10, 1, 2, 3, 4, 5, 6, 7, 8, 9, 10, 1, 5, 2, 4, 5, 6, 8, 9, 1, 2, 3, 4, 5, 6, 8, 9, 10, 4, 7, 3, 8, 6, 4, 6, 8, 1, 2, 3, 4, 5, 6, 7, 8, 9, 3, 9, 8, 7, 5, 1, 2, 3, 5, 8, 1, 3, 8, 1, 6, 9, 1, 2, 3, 4, 7, 10, 3, 4, 5, 10, 2, 1, 2, 9, 5, 7, 1, 2, 3, 4, 5, 6, 7, 8, 9, 10, 1, 2, 4, 5, 6, 8, 9, 10, 1, 4, 5, 8, 10, 2, 5, 7, 2, 8, 4, 5, 8, 3, 1, 8, 10, 10, 2, 3, 4, 5, 7, 10, 2, 3, 7, 4, 6, 7, 6, 1, 2, 3, 4, 5, 6, 7, 8, 9, 10, 7, 7, 1, 2, 3, 4, 5, 6, 7, 8, 9, 10, 2, 6, 9, 2, 1, 3, 6, 5, 7, 1, 2, 3, 4, 5, 1, 2, 4, 7, 2, 6, 7, 8, 9, 1, 2, 5, 6, 1, 2, 5, 6, 7, 8, 9, 10, 10, 2, 3, 6, 10, 5, 6, 9, 10, 1, 3, 8, 5, 2, 5, 7, 4, 10, 10, 10, 1, 2, 3, 4, 5, 6, 7, 9, 10, 2, 8, 6, 8, 9, 1, 5, 6, 1, 2, 3, 6, 7, 9, 10, 2, 9, 3, 1, 2, 3, 6, 7, 8, 9, 10, 8, 1, 2, 5, 9, 1, 2, 3, 4, 6, 7, 9, 1, 2, 3, 4, 7, 1, 2, 6, 8, 9, 6, 4, 1, 2, 3, 4, 5, 6, 8, 9, 2, 5, 8, 1, 2, 3, 4, 5, 6, 7, 2, 4, 5, 7, 5, 10, 1, 2, 3, 4, 5, 7, 1, 3, 7, 2, 7, 6, 8, 1, 2, 7, 9, 4, 10, 6, 9, 1, 6, 10, 6, 1, 2, 3, 5, 10, 1, 2, 3, 4, 5, 6, 7, 9, 10, 4, 5, 3, 4, 5, 6, 7, 8, 9, 1, 5, 7, 9, 1, 5, 8, 5, 1, 2, 3, 4, 5, 8, 3, 4, 6, 3, 4, 6, 9, 6, 3, 2, 9, 4, 4, 4, 2, 4, 5, 10, 4, 9, 6, 2, 7, 10, 1, 7, 10, 1, 2, 3, 5, 6, 8, 6, 7, 8, 9, 7, 9, 3, 7, 9, 1, 2, 3, 4, 5, 6, 7, 9, 10, 3, 6, 7, 9, 10, 1, 2, 3, 5, 6, 7, 8, 6, 1, 3, 4, 5, 6, 7, 8, 1, 2, 3, 4, 5, 3, 3, 6, 6, 5, 1, 2, 3, 4, 7, 1, 2, 3, 4, 6, 7, 9, 10, 3, 6, 2, 5, 10, 7, 9, 7, 4, 5, 1, 2, 2, 8, 5, 8, 2, 4, 5, 6, 7, 1, 9, 1, 2, 3, 5, 10, 1, 2, 3, 4, 5, 6, 8, 9, 10, 1, 4, 5, 8, 5, 4, 1, 3, 4, 6, 8, 1, 2, 3, 5, 8, 1, 2, 3, 4, 8, 3, 1, 2, 3, 4, 5, 6, 7, 8, 1, 2, 1, 2, 3, 4, 5, 7, 10, 1, 2, 3, 4, 5, 7, 10, 2, 5, 6, 8, 2, 5, 8, 9, 1, 2, 3, 4, 5, 6, 7, 8, 9, 10, 1, 2, 3, 4, 5, 6, 1, 2, 3, 4, 5, 7, 9, 10, 1, 2, 3, 4, 5, 6, 8, 2, 3, 4, 7, 9, 1, 2, 3, 4, 5, 6, 7, 8, 9, 10, 4, 2, 4, 5, 6, 7, 9, 1, 2, 3, 5, 3, 6, 7, 8, 9, 2, 3, 5, 6, 7, 9, 10, 6, 1, 2, 4, 5, 6, 7, 8, 8, 1, 2, 4, 5, 6, 7, 8, 1, 2, 3, 4, 5, 6, 7, 8, 9, 10, 1, 2, 3, 4, 5, 7, 8, 9, 10, 1, 2, 3, 4, 5, 6, 7, 8, 6, 7, 8, 9, 1, 2, 3, 4, 5, 6, 7, 8, 9, 10, 9, 9, 6, 9, 8, 1, 4, 6, 7, 1, 2, 5, 6, 7, 9, 8, 1, 2, 3, 5, 6, 8, 9, 10, 1, 2, 5, 9, 1, 2, 9, 10, 1, 2, 3, 5, 6, 8, 9, 2, 3, 5, 7, 5, 6, 8, 9, 7, 3, 5, 1, 2, 3, 8, 1, 2, 3, 8, 9, 10, 1, 2, 4, 5, 6, 7, 8, 9, 10, 1, 2, 3, 5, 6, 7, 8, 9, 10, 3, 1, 5, 8, 1, 2, 5, 6, 7, 9, 10, 1, 2, 4, 5, 6, 7, 9, 8, 1, 2, 3, 4, 5, 6, 7, 8, 9, 2, 1, 2, 3, 4, 5, 6, 7, 8, 9, 10, 1, 3, 1, 2, 4, 5, 6, 7, 9, 10, 7, 9, 5, 1, 2, 3, 4, 5, 6, 7, 8, 9, 10, 5, 1, 6, 8, 1, 2, 5, 6, 7, 9, 6, 7, 4, 7, 9, 9, 10, 7, 3, 7, 2, 7, 2, 3, 4, 5, 6, 7, 8, 10, 6, 1, 3, 9, 1, 1, 2, 3, 4, 5, 6, 7, 8, 2, 4, 6, 8, 3, 1, 2, 5, 6, 8, 9, 7, 3, 4, 1, 2, 3, 4, 5, 8, 9, 10, 3, 6, 4, 6, 1, 2, 3, 4, 5, 7, 9, 10, 9, 8, 1, 4, 5, 6, 7, 8, 9, 4, 8, 1, 2, 4, 5, 1, 1, 3, 6, 1, 3, 5, 6, 7, 3, 9, 10, 1, 2, 3, 4, 6, 7, 8, 9, 10, 9, 1, 3, 4, 5, 6, 7, 8, 3, 4, 5, 1, 2, 3, 4, 9, 6, 6, 7, 1, 2, 1, 3, 4, 4, 7, 4, 6, 7, 8, 9, 1, 2, 3, 4, 6, 4, 3, 6, 4, 5, 8, 9, 1, 4, 7, 2, 4, 7, 1, 3, 6, 2, 6, 9, 6, 7, 9, 2, 3, 6, 8, 9, 10, 1, 3, 4, 8, 7, 9, 8, 4, 7, 9, 10, 2, 3, 5, 6, 8, 9, 10, 1, 2, 3, 8, 5, 7, 8, 3, 9, 10, 6, 10, 7, 1, 2, 5, 6, 7, 9, 1, 2, 5, 7, 1, 5, 6, 8, 1, 4, 5, 6, 8, 1, 6, 1, 4, 6, 8, 2, 3, 7, 8, 9, 10, 1, 2, 4, 5, 6, 7, 8, 4, 3, 8, 3, 1, 2, 10, 1, 2, 5, 1, 8, 1, 9, 6, 3, 8, 1, 2, 3, 4, 5, 6, 7, 9, 10, 1, 2, 3, 4, 5, 6, 7, 8, 9, 10, 1, 2, 4, 5, 7, 1, 2, 3, 4, 5, 6, 7, 8, 9, 10, 1, 2, 3, 4, 5, 6, 7, 2, 9, 10, 7, 1, 2, 3, 4, 5, 6, 7, 8, 1, 1, 2, 3, 4, 5, 7, 10, 2, 4, 5, 7, 1, 2, 3, 4, 6, 9, 8, 3, 1, 2, 3, 4, 5, 6, 7, 8, 9, 10, 1, 2, 3, 4, 5, 6, 7, 8, 9, 10, 1, 2, 3, 4, 5, 6, 7, 8, 9, 10, 1, 2, 3, 4, 5, 6, 7, 8, 9, 10, 9, 7, 4, 7, 6, 7, 9, 10, 7, 9, 10, 8, 9, 1, 2, 7, 9, 3, 1, 2, 3, 4, 5, 6, 7, 8, 9, 10, 6, 5, 4, 5, 1, 2, 4, 5, 6, 7, 8, 9, 1, 3, 4, 6, 8, 9, 1, 2, 4, 5, 7, 5, 8, 1, 2, 3, 4, 5, 6, 8, 6, 5, 6, 7, 5, 1, 5, 8, 3, 4, 9, 2, 3, 4, 6, 7, 5, 6, 7, 1, 2, 3, 4, 5, 7, 8, 1, 2, 3, 4, 5, 6, 7, 9, 10, 1, 2, 3, 4, 5, 6, 7, 8, 9, 10, 2, 8, 3, 6, 1, 4, 6, 6, 1, 3, 6, 1, 2, 3, 5, 7, 10, 3, 10, 10, 10, 10, 8, 3, 4, 10, 4, 9, 4, 1, 2, 3, 4, 5, 6, 7, 9, 10, 1, 2, 3, 4, 5, 6, 7, 8, 9, 10, 1, 2, 3, 5, 6, 7, 9, 2, 8, 7, 9, 5, 1, 2, 3, 4, 5, 6, 7, 8, 9, 10, 2, 3, 4, 7, 1, 2, 3, 4, 5, 6, 7, 8, 9, 10, 1, 4, 10, 4, 1, 2, 3, 5, 6, 7, 8, 9, 10, 2, 1, 2, 3, 4, 5, 6, 7, 8, 9, 10, 1, 2, 3, 7, 9, 10, 3, 4, 2, 3, 7, 9, 10, 3, 2, 10, 2, 4, 5, 7, 1, 2, 3, 4, 6, 7, 8, 9, 10, 1, 4, 7, 7, 2, 1, 2, 4, 5, 6, 7, 1, 2, 3, 6, 7, 9, 10, 1, 2, 3, 7, 9, 10, 9, 8, 1, 3, 7, 5, 1, 2, 3, 4, 5, 6, 7, 9, 10, 1, 2, 3, 4, 5, 6, 7, 8, 9, 10, 1, 2, 3, 5, 6, 7, 8, 9, 10, 1, 2, 3, 6, 7, 8, 9, 10, 1, 2, 3, 4, 6, 8, 10, 1, 2, 3, 4, 5, 6, 7, 8, 9, 10, 1, 4, 6, 6, 4, 4, 4, 1, 2, 3, 4, 6, 7, 8, 9, 10, 1, 4, 9, 9, 1, 8, 1, 2, 3, 5, 6, 7, 8, 9, 10, 7, 8, 10, 4, 6, 4, 2, 6, 2, 1, 2, 3, 4, 6, 7, 8, 9, 10, 4, 9, 1, 7, 3, 1, 2, 3, 4, 6, 7, 8, 9, 1, 2, 3, 4, 5, 6, 7, 9, 10, 2, 3, 4, 5, 7, 1, 2, 3, 4, 5, 6, 7, 1, 2, 3, 4, 5, 7, 1, 10, 1, 10, 2, 3, 4, 7, 1, 2, 3, 5, 6, 8, 9, 10, 4, 4, 6, 1, 2, 3, 4, 5, 7, 2, 1, 2, 4, 5, 6, 8, 3, 6, 6, 2, 3, 6, 8, 9, 2, 9, 1, 2, 5, 6, 9, 10, 2, 3, 6, 7, 9, 10, 2, 3, 6, 7, 9, 10, 1, 4, 7, 9, 4, 3, 2, 8, 2, 7, 1, 2, 3, 4, 5, 1, 2, 3, 4, 5, 7, 1, 2, 3, 5, 6, 1, 2, 3, 4, 5, 6, 7, 8, 9, 10, 1, 2, 3, 4, 6, 7, 8, 10, 1, 2, 5, 8, 1, 4, 5, 8, 6, 8, 5, 8, 1, 2, 3, 8, 10, 3, 2, 3, 6, 8, 9, 1, 2, 3, 4, 5, 7, 8, 9, 10, 9, 1, 2, 3, 7, 9, 10, 2, 1, 2, 9, 2, 1, 2, 3, 4, 5, 6, 7, 10, 1, 2, 3, 4, 5, 7, 2, 3, 1, 6, 2, 3, 4, 5, 8, 9, 1, 2, 3, 4, 5, 6, 7, 8, 9, 10, 2, 7, 5, 2, 7, 1, 8, 8, 5, 6, 9, 9, 10, 5, 8, 1, 2, 4, 5, 6, 9, 10, 2, 6, 10, 10, 7, 10, 7, 10, 10, 1, 2, 5, 6, 7, 9, 1, 4, 2, 10, 5, 4, 7, 9, 3, 4, 7, 1, 2, 3, 4, 5, 6, 7, 5, 6, 7, 8, 2, 5, 7, 10, 2, 7, 10, 1, 4, 8, 1, 5, 8, 5, 1, 2, 3, 5, 8, 5, 1, 3, 4, 7, 9, 10, 4, 6, 9, 9, 1, 2, 3, 5, 6, 7, 8, 9, 10, 1, 2, 3, 5, 6, 7, 8, 9, 10, 1, 2, 3, 5, 6, 7, 8, 1, 2, 3, 4, 5, 6, 7, 8, 9, 10, 2, 1, 1, 5, 10, 1, 2, 3, 4, 5, 6, 7, 8, 3, 2, 3, 5, 7, 10, 1, 2, 5, 1, 2, 3, 4, 6, 8, 10, 1, 2, 3, 4, 7, 10, 2, 3, 7, 9, 10, 1, 2, 4, 5, 6, 5, 8, 1, 2, 3, 4, 5, 6, 7, 8, 9, 10, 3, 4, 5, 6, 7, 8, 9, 10, 5, 1, 5, 6, 5, 8, 1, 4, 7, 1, 2, 3, 4, 5, 6, 7, 9, 1, 2, 4, 5, 1, 2, 3, 4, 5, 6, 7, 8, 9, 10, 6, 7, 8, 1, 2, 3, 4, 5, 6, 7, 8, 9, 10, 2, 5, 3, 5, 6, 7, 9, 10, 9, 10, 1, 1, 2, 3, 4, 5, 6, 7, 9, 1, 2, 3, 6, 7, 8, 9, 1, 2, 3, 4, 5, 6, 9, 1, 2, 3, 4, 5, 6, 7, 8, 9, 10, 7, 6, 1, 2, 4, 5, 7, 3, 4, 5, 7, 1, 3, 1, 1, 2, 3, 4, 5, 6, 7, 8, 10, 1, 2, 1, 2, 3, 5, 8, 9, 10, 5, 1, 2, 3, 5, 3, 1, 2, 3, 4, 5, 7, 7, 1, 2, 3, 4, 8, 1, 3, 8, 1, 2, 3, 4, 5, 7, 8, 9, 10, 9, 10, 1, 2, 4, 5, 6, 7, 8, 9, 10, 4, 8, 9, 8, 9, 10, 8, 2, 4, 5, 8, 1, 1, 7, 9, 1, 2, 3, 4, 5, 7, 9, 1, 2, 3, 4, 5, 6, 7, 8, 9, 2, 9, 1, 2, 6, 7, 9, 10, 1, 2, 3, 4, 5, 6, 7, 8, 9, 10, 3, 1, 2, 3, 6, 7, 9, 7, 3, 6, 9, 10, 1, 2, 3, 4, 5, 6, 7, 8, 1, 3, 4, 6, 7, 8, 9, 1, 4, 6, 7, 8, 9, 10, 6, 2, 1, 2, 3, 4, 5, 6, 7, 9, 10, 1, 2, 3, 4, 5, 7, 8, 9, 10, 1, 2, 4, 5, 6, 7, 1, 4, 5, 1, 2, 3, 4, 5, 6, 7, 8, 9, 10, 1, 2, 3, 4, 5, 7, 9, 10, 1, 2, 3, 4, 5, 6, 7, 8, 9, 10, 5, 2, 3, 4, 5, 6, 7, 9, 10, 1, 2, 3, 4, 5, 6, 7, 8, 9, 10, 2, 1, 1, 8]}, \"tinfo\": {\"Category\": [\"Default\", \"Default\", \"Default\", \"Default\", \"Default\", \"Default\", \"Default\", \"Default\", \"Default\", \"Default\", \"Default\", \"Default\", \"Default\", \"Default\", \"Default\", \"Default\", \"Default\", \"Default\", \"Default\", \"Default\", \"Default\", \"Default\", \"Default\", \"Default\", \"Default\", \"Default\", \"Default\", \"Default\", \"Default\", \"Default\", \"Topic1\", \"Topic1\", \"Topic1\", \"Topic1\", \"Topic1\", \"Topic1\", \"Topic1\", \"Topic1\", \"Topic1\", \"Topic1\", \"Topic1\", \"Topic1\", \"Topic1\", \"Topic1\", \"Topic1\", \"Topic1\", \"Topic1\", \"Topic1\", \"Topic1\", \"Topic1\", \"Topic1\", \"Topic1\", \"Topic1\", \"Topic1\", \"Topic1\", \"Topic1\", \"Topic1\", \"Topic1\", \"Topic1\", \"Topic1\", \"Topic1\", \"Topic1\", \"Topic1\", \"Topic1\", \"Topic1\", \"Topic1\", \"Topic1\", \"Topic1\", \"Topic1\", \"Topic1\", \"Topic1\", \"Topic1\", \"Topic1\", \"Topic1\", \"Topic1\", \"Topic1\", \"Topic1\", \"Topic1\", \"Topic1\", \"Topic1\", \"Topic1\", \"Topic1\", \"Topic1\", \"Topic1\", \"Topic1\", \"Topic1\", \"Topic1\", \"Topic1\", \"Topic1\", \"Topic1\", \"Topic1\", \"Topic1\", \"Topic1\", \"Topic1\", \"Topic1\", \"Topic1\", \"Topic1\", \"Topic1\", \"Topic1\", \"Topic1\", \"Topic1\", \"Topic1\", \"Topic1\", \"Topic1\", \"Topic1\", \"Topic1\", \"Topic1\", \"Topic1\", \"Topic1\", \"Topic1\", \"Topic1\", \"Topic1\", \"Topic1\", \"Topic1\", \"Topic1\", \"Topic1\", \"Topic1\", \"Topic1\", \"Topic1\", \"Topic1\", \"Topic2\", \"Topic2\", \"Topic2\", \"Topic2\", \"Topic2\", \"Topic2\", \"Topic2\", \"Topic2\", \"Topic2\", \"Topic2\", \"Topic2\", \"Topic2\", \"Topic2\", \"Topic2\", \"Topic2\", \"Topic2\", \"Topic2\", \"Topic2\", \"Topic2\", \"Topic2\", \"Topic2\", \"Topic2\", \"Topic2\", \"Topic2\", \"Topic2\", \"Topic2\", \"Topic2\", \"Topic2\", \"Topic2\", \"Topic2\", \"Topic2\", \"Topic2\", \"Topic2\", \"Topic2\", \"Topic2\", \"Topic2\", \"Topic2\", \"Topic2\", \"Topic2\", \"Topic2\", \"Topic2\", \"Topic2\", \"Topic2\", \"Topic2\", \"Topic2\", \"Topic2\", \"Topic2\", \"Topic2\", \"Topic2\", \"Topic2\", \"Topic2\", \"Topic2\", \"Topic2\", \"Topic2\", \"Topic2\", \"Topic2\", \"Topic2\", \"Topic2\", \"Topic2\", \"Topic2\", \"Topic2\", \"Topic2\", \"Topic2\", \"Topic2\", \"Topic2\", \"Topic2\", \"Topic2\", \"Topic2\", \"Topic2\", \"Topic2\", \"Topic2\", \"Topic2\", \"Topic2\", \"Topic2\", \"Topic2\", \"Topic2\", \"Topic2\", \"Topic2\", \"Topic2\", \"Topic2\", \"Topic2\", \"Topic2\", \"Topic2\", \"Topic2\", \"Topic2\", \"Topic3\", \"Topic3\", \"Topic3\", \"Topic3\", \"Topic3\", \"Topic3\", \"Topic3\", \"Topic3\", \"Topic3\", \"Topic3\", \"Topic3\", \"Topic3\", \"Topic3\", \"Topic3\", \"Topic3\", \"Topic3\", \"Topic3\", \"Topic3\", \"Topic3\", \"Topic3\", \"Topic3\", \"Topic3\", \"Topic3\", \"Topic3\", \"Topic3\", \"Topic3\", \"Topic3\", \"Topic3\", \"Topic3\", \"Topic3\", \"Topic3\", \"Topic3\", \"Topic3\", \"Topic3\", \"Topic3\", \"Topic3\", \"Topic3\", \"Topic3\", \"Topic3\", \"Topic3\", \"Topic3\", \"Topic3\", \"Topic3\", \"Topic3\", \"Topic3\", \"Topic3\", \"Topic3\", \"Topic3\", \"Topic3\", \"Topic3\", \"Topic3\", \"Topic3\", \"Topic3\", \"Topic3\", \"Topic3\", \"Topic3\", \"Topic3\", \"Topic3\", \"Topic3\", \"Topic3\", \"Topic3\", \"Topic3\", \"Topic3\", \"Topic3\", \"Topic3\", \"Topic3\", \"Topic3\", \"Topic3\", \"Topic3\", \"Topic3\", \"Topic3\", \"Topic3\", \"Topic3\", \"Topic3\", \"Topic3\", \"Topic3\", \"Topic3\", \"Topic3\", \"Topic3\", \"Topic3\", \"Topic3\", \"Topic3\", \"Topic3\", \"Topic3\", \"Topic3\", \"Topic3\", \"Topic3\", \"Topic3\", \"Topic3\", \"Topic4\", \"Topic4\", \"Topic4\", \"Topic4\", \"Topic4\", \"Topic4\", \"Topic4\", \"Topic4\", \"Topic4\", \"Topic4\", \"Topic4\", \"Topic4\", \"Topic4\", \"Topic4\", \"Topic4\", \"Topic4\", \"Topic4\", \"Topic4\", \"Topic4\", \"Topic4\", \"Topic4\", \"Topic4\", \"Topic4\", \"Topic4\", \"Topic4\", \"Topic4\", \"Topic4\", \"Topic4\", \"Topic4\", \"Topic4\", \"Topic4\", \"Topic4\", \"Topic4\", \"Topic4\", \"Topic4\", \"Topic4\", \"Topic4\", \"Topic4\", \"Topic4\", \"Topic4\", \"Topic4\", \"Topic4\", \"Topic4\", \"Topic4\", \"Topic4\", \"Topic4\", \"Topic4\", \"Topic4\", \"Topic4\", \"Topic4\", \"Topic4\", \"Topic4\", \"Topic4\", \"Topic4\", \"Topic4\", \"Topic4\", \"Topic4\", \"Topic4\", \"Topic4\", \"Topic4\", \"Topic4\", \"Topic4\", \"Topic4\", \"Topic4\", \"Topic4\", \"Topic4\", \"Topic4\", \"Topic4\", \"Topic4\", \"Topic4\", \"Topic4\", \"Topic4\", \"Topic4\", \"Topic4\", \"Topic4\", \"Topic4\", \"Topic4\", \"Topic4\", \"Topic4\", \"Topic4\", \"Topic4\", \"Topic4\", \"Topic4\", \"Topic4\", \"Topic4\", \"Topic4\", \"Topic4\", \"Topic4\", \"Topic4\", \"Topic5\", \"Topic5\", \"Topic5\", \"Topic5\", \"Topic5\", \"Topic5\", \"Topic5\", \"Topic5\", \"Topic5\", \"Topic5\", \"Topic5\", \"Topic5\", \"Topic5\", \"Topic5\", \"Topic5\", \"Topic5\", \"Topic5\", \"Topic5\", \"Topic5\", \"Topic5\", \"Topic5\", \"Topic5\", \"Topic5\", \"Topic5\", \"Topic5\", \"Topic5\", \"Topic5\", \"Topic5\", \"Topic5\", \"Topic5\", \"Topic5\", \"Topic5\", \"Topic5\", \"Topic5\", \"Topic5\", \"Topic5\", \"Topic5\", \"Topic5\", \"Topic5\", \"Topic5\", \"Topic5\", \"Topic5\", \"Topic5\", \"Topic5\", \"Topic5\", \"Topic5\", \"Topic5\", \"Topic5\", \"Topic5\", \"Topic5\", \"Topic5\", \"Topic5\", \"Topic5\", \"Topic5\", \"Topic5\", \"Topic5\", \"Topic5\", \"Topic5\", \"Topic5\", \"Topic5\", \"Topic5\", \"Topic5\", \"Topic5\", \"Topic5\", \"Topic5\", \"Topic5\", \"Topic5\", \"Topic5\", \"Topic5\", \"Topic5\", \"Topic5\", \"Topic5\", \"Topic5\", \"Topic5\", \"Topic5\", \"Topic5\", \"Topic5\", \"Topic5\", \"Topic5\", \"Topic5\", \"Topic5\", \"Topic5\", \"Topic6\", \"Topic6\", \"Topic6\", \"Topic6\", \"Topic6\", \"Topic6\", \"Topic6\", \"Topic6\", \"Topic6\", \"Topic6\", \"Topic6\", \"Topic6\", \"Topic6\", \"Topic6\", \"Topic6\", \"Topic6\", \"Topic6\", \"Topic6\", \"Topic6\", \"Topic6\", \"Topic6\", \"Topic6\", \"Topic6\", \"Topic6\", \"Topic6\", \"Topic6\", \"Topic6\", \"Topic6\", \"Topic6\", \"Topic6\", \"Topic6\", \"Topic6\", \"Topic6\", \"Topic6\", \"Topic6\", \"Topic6\", \"Topic6\", \"Topic6\", \"Topic6\", \"Topic6\", \"Topic6\", \"Topic6\", \"Topic6\", \"Topic6\", \"Topic6\", \"Topic6\", \"Topic6\", \"Topic6\", \"Topic6\", \"Topic6\", \"Topic6\", \"Topic6\", \"Topic6\", \"Topic6\", \"Topic6\", \"Topic6\", \"Topic6\", \"Topic6\", \"Topic6\", \"Topic6\", \"Topic6\", \"Topic6\", \"Topic6\", \"Topic6\", \"Topic6\", \"Topic6\", \"Topic6\", \"Topic6\", \"Topic6\", \"Topic6\", \"Topic6\", \"Topic6\", \"Topic6\", \"Topic6\", \"Topic6\", \"Topic6\", \"Topic6\", \"Topic6\", \"Topic6\", \"Topic7\", \"Topic7\", \"Topic7\", \"Topic7\", \"Topic7\", \"Topic7\", \"Topic7\", \"Topic7\", \"Topic7\", \"Topic7\", \"Topic7\", \"Topic7\", \"Topic7\", \"Topic7\", \"Topic7\", \"Topic7\", \"Topic7\", \"Topic7\", \"Topic7\", \"Topic7\", \"Topic7\", \"Topic7\", \"Topic7\", \"Topic7\", \"Topic7\", \"Topic7\", \"Topic7\", \"Topic7\", \"Topic7\", \"Topic7\", \"Topic7\", \"Topic7\", \"Topic7\", \"Topic7\", \"Topic7\", \"Topic7\", \"Topic7\", \"Topic7\", \"Topic7\", \"Topic7\", \"Topic7\", \"Topic7\", \"Topic7\", \"Topic7\", \"Topic7\", \"Topic7\", \"Topic7\", \"Topic7\", \"Topic7\", \"Topic7\", \"Topic7\", \"Topic7\", \"Topic7\", \"Topic7\", \"Topic7\", \"Topic7\", \"Topic7\", \"Topic7\", \"Topic7\", \"Topic7\", \"Topic7\", \"Topic7\", \"Topic7\", \"Topic7\", \"Topic7\", \"Topic7\", \"Topic7\", \"Topic7\", \"Topic7\", \"Topic7\", \"Topic7\", \"Topic7\", \"Topic7\", \"Topic7\", \"Topic7\", \"Topic8\", \"Topic8\", \"Topic8\", \"Topic8\", \"Topic8\", \"Topic8\", \"Topic8\", \"Topic8\", \"Topic8\", \"Topic8\", \"Topic8\", \"Topic8\", \"Topic8\", \"Topic8\", \"Topic8\", \"Topic8\", \"Topic8\", \"Topic8\", \"Topic8\", \"Topic8\", \"Topic8\", \"Topic8\", \"Topic8\", \"Topic8\", \"Topic8\", \"Topic8\", \"Topic8\", \"Topic8\", \"Topic8\", \"Topic8\", \"Topic8\", \"Topic8\", \"Topic8\", \"Topic8\", \"Topic8\", \"Topic8\", \"Topic8\", \"Topic8\", \"Topic8\", \"Topic8\", \"Topic8\", \"Topic8\", \"Topic8\", \"Topic8\", \"Topic8\", \"Topic8\", \"Topic8\", \"Topic8\", \"Topic8\", \"Topic8\", \"Topic8\", \"Topic8\", \"Topic8\", \"Topic8\", \"Topic8\", \"Topic8\", \"Topic8\", \"Topic8\", \"Topic8\", \"Topic8\", \"Topic8\", \"Topic8\", \"Topic8\", \"Topic8\", \"Topic8\", \"Topic8\", \"Topic8\", \"Topic8\", \"Topic8\", \"Topic8\", \"Topic8\", \"Topic9\", \"Topic9\", \"Topic9\", \"Topic9\", \"Topic9\", \"Topic9\", \"Topic9\", \"Topic9\", \"Topic9\", \"Topic9\", \"Topic9\", \"Topic9\", \"Topic9\", \"Topic9\", \"Topic9\", \"Topic9\", \"Topic9\", \"Topic9\", \"Topic9\", \"Topic9\", \"Topic9\", \"Topic9\", \"Topic9\", \"Topic9\", \"Topic9\", \"Topic9\", \"Topic9\", \"Topic9\", \"Topic9\", \"Topic9\", \"Topic9\", \"Topic9\", \"Topic9\", \"Topic9\", \"Topic9\", \"Topic9\", \"Topic9\", \"Topic9\", \"Topic9\", \"Topic9\", \"Topic9\", \"Topic9\", \"Topic9\", \"Topic9\", \"Topic9\", \"Topic9\", \"Topic9\", \"Topic9\", \"Topic9\", \"Topic9\", \"Topic9\", \"Topic9\", \"Topic9\", \"Topic9\", \"Topic9\", \"Topic9\", \"Topic9\", \"Topic9\", \"Topic9\", \"Topic9\", \"Topic9\", \"Topic9\", \"Topic9\", \"Topic9\", \"Topic9\", \"Topic9\", \"Topic9\", \"Topic9\", \"Topic9\", \"Topic9\", \"Topic9\", \"Topic9\", \"Topic9\", \"Topic10\", \"Topic10\", \"Topic10\", \"Topic10\", \"Topic10\", \"Topic10\", \"Topic10\", \"Topic10\", \"Topic10\", \"Topic10\", \"Topic10\", \"Topic10\", \"Topic10\", \"Topic10\", \"Topic10\", \"Topic10\", \"Topic10\", \"Topic10\", \"Topic10\", \"Topic10\", \"Topic10\", \"Topic10\", \"Topic10\", \"Topic10\", \"Topic10\", \"Topic10\", \"Topic10\", \"Topic10\", \"Topic10\", \"Topic10\", \"Topic10\", \"Topic10\", \"Topic10\", \"Topic10\", \"Topic10\", \"Topic10\", \"Topic10\", \"Topic10\", \"Topic10\", \"Topic10\", \"Topic10\", \"Topic10\", \"Topic10\", \"Topic10\", \"Topic10\", \"Topic10\", \"Topic10\", \"Topic10\", \"Topic10\", \"Topic10\", \"Topic10\", \"Topic10\", \"Topic10\", \"Topic10\", \"Topic10\", \"Topic10\", \"Topic10\", \"Topic10\"], \"logprob\": [30.0, 29.0, 28.0, 27.0, 26.0, 25.0, 24.0, 23.0, 22.0, 21.0, 20.0, 19.0, 18.0, 17.0, 16.0, 15.0, 14.0, 13.0, 12.0, 11.0, 10.0, 9.0, 8.0, 7.0, 6.0, 5.0, 4.0, 3.0, 2.0, 1.0, -6.0352, -7.1609, -7.282, -7.5919, -7.9961, -8.0316, -8.054, -8.0634, -8.1128, -8.1273, -8.1573, -8.1759, -8.4112, -8.4743, -8.5005, -8.5868, -8.5893, -8.677, -8.7689, -8.79, -8.8238, -8.8382, -9.0472, -9.0608, -9.1091, -9.1363, -9.1571, -9.1622, -9.1767, -9.1872, -5.4794, -5.9559, -6.0111, -7.7766, -6.8204, -8.2511, -6.228, -6.5329, -6.5557, -6.8157, -4.3335, -6.1647, -7.1114, -6.0019, -7.4095, -5.9497, -7.5046, -6.1561, -5.4145, -6.6928, -7.0145, -6.2993, -5.6587, -7.0777, -7.2072, -6.7005, -6.0754, -5.3818, -5.1022, -6.6278, -5.1014, -4.5891, -6.3517, -4.3484, -4.9054, -5.5165, -4.8313, -5.825, -3.9751, -5.1377, -4.787, -5.7469, -4.4595, -4.898, -5.2829, -5.4725, -5.2395, -5.6584, -5.5167, -5.3881, -5.3125, -5.5933, -5.2731, -5.493, -5.609, -5.5467, -5.3877, -5.4602, -5.5965, -5.5795, -7.843, -7.9599, -8.3849, -8.3914, -8.6867, -8.6889, -8.7001, -8.7572, -8.7628, -8.7632, -8.7676, -8.8054, -8.8181, -8.8244, -8.8299, -8.8502, -8.8653, -8.9078, -8.9296, -8.9334, -8.9647, -9.0042, -9.0265, -9.0306, -9.0849, -9.0941, -9.0967, -9.098, -6.6003, -9.127, -6.5109, -7.4349, -8.5696, -8.4964, -5.8799, -8.2129, -7.7867, -4.66, -4.9137, -8.5, -6.118, -5.3669, -5.9729, -6.3774, -4.3423, -6.0349, -5.3522, -6.1647, -7.2826, -4.1406, -5.8834, -4.4152, -6.4595, -5.6883, -5.9762, -6.0834, -6.1282, -6.1448, -6.2679, -6.4022, -5.0492, -4.9166, -4.9777, -5.0344, -4.7844, -4.6967, -5.4426, -4.3116, -5.1001, -4.2714, -5.2859, -5.7132, -5.0179, -5.2921, -4.9492, -5.087, -5.118, -4.894, -5.2784, -5.3716, -5.1103, -5.4225, -5.2964, -4.8636, -5.31, -7.5257, -7.8242, -7.8799, -8.1257, -8.1743, -8.1793, -8.2535, -8.2712, -8.2774, -8.3052, -8.3459, -8.3691, -8.3881, -8.4035, -8.4218, -8.5261, -8.5524, -8.5627, -8.6029, -8.6144, -8.6282, -8.6431, -8.6596, -8.6777, -8.6942, -8.6978, -8.7052, -8.745, -8.7877, -8.7916, -7.053, -6.1535, -8.1759, -7.7667, -7.6815, -6.5986, -7.9901, -7.0451, -6.793, -6.2871, -6.9014, -7.7314, -3.0944, -6.794, -4.6346, -7.2661, -7.1975, -5.8856, -6.617, -6.6342, -6.3849, -5.3085, -6.1338, -6.2284, -6.2836, -6.6586, -6.178, -6.2597, -7.209, -5.742, -6.019, -4.7846, -5.6211, -6.6062, -6.0293, -5.5101, -5.706, -5.1792, -5.2353, -4.6204, -5.3045, -5.5626, -5.4941, -5.5812, -5.4521, -5.6473, -6.0451, -5.8998, -6.0241, -5.9727, -5.7298, -5.8256, -5.8707, -6.0362, -5.8216, -5.8614, -5.9501, -6.0164, -6.0084, -6.4538, -6.9009, -7.0709, -7.4624, -7.4787, -7.5533, -7.6332, -7.7475, -7.9169, -8.1054, -8.195, -8.2311, -8.2355, -8.24, -8.2843, -8.2946, -8.3977, -8.4421, -8.5055, -8.5059, -8.5336, -8.5423, -8.5489, -8.6724, -8.7153, -8.7315, -8.735, -8.7365, -8.7559, -8.8016, -7.1436, -8.0404, -6.3871, -7.2897, -6.5262, -7.3784, -6.5927, -6.0439, -7.6379, -8.2803, -7.9682, -7.1306, -5.4489, -6.8501, -6.421, -6.6211, -7.3692, -7.2863, -5.167, -6.9932, -5.1963, -5.9767, -5.6558, -6.088, -4.5647, -6.5283, -6.4214, -6.4092, -7.1693, -5.1888, -6.5414, -6.5865, -6.6486, -4.2295, -4.8975, -5.8598, -5.3985, -5.6223, -6.0998, -6.2461, -6.1711, -5.4921, -5.8951, -5.9484, -5.1202, -5.5333, -5.4554, -5.3606, -5.7006, -5.6453, -5.7041, -5.7964, -5.681, -5.7459, -5.8722, -6.0627, -6.0099, -6.0326, -6.0598, -6.9787, -7.0109, -7.366, -7.7136, -7.9889, -8.122, -8.2019, -8.2041, -8.33, -8.3827, -8.3981, -8.408, -8.4434, -8.455, -8.4861, -8.4884, -8.5305, -8.5484, -8.5703, -8.5754, -8.5852, -8.5849, -8.6209, -8.6239, -8.6297, -8.6337, -8.6393, -8.6462, -8.6503, -8.6644, -8.0882, -7.9414, -7.8507, -5.5181, -7.033, -5.8103, -7.1364, -5.1476, -5.5125, -6.8622, -5.5064, -7.6714, -4.6882, -6.4166, -7.1734, -7.6682, -7.2445, -5.0861, -5.7557, -6.8375, -5.633, -6.7741, -4.9566, -6.0584, -6.9786, -5.5221, -5.8412, -5.5797, -5.267, -6.8025, -6.3461, -4.5833, -4.6415, -4.8623, -5.8086, -4.6416, -4.4407, -5.298, -5.2481, -5.5706, -5.1002, -4.5479, -5.3668, -5.3602, -5.4748, -5.5752, -5.4271, -5.4401, -5.3381, -5.5127, -5.5487, -5.5301, -5.3575, -6.6643, -7.0294, -7.0319, -7.0436, -7.2288, -7.2528, -7.3385, -7.4699, -7.4978, -7.5122, -7.5614, -7.7724, -7.778, -7.7978, -7.8314, -7.8541, -7.8855, -7.9133, -7.918, -7.9471, -8.0207, -8.0273, -8.0384, -8.0958, -8.151, -8.1556, -8.2068, -8.2283, -8.2575, -6.1636, -7.8313, -5.8287, -6.8096, -6.0722, -5.5425, -7.0607, -5.8226, -7.5803, -6.5572, -6.1952, -7.3185, -5.5671, -6.5562, -6.8423, -6.1406, -5.5073, -6.7189, -6.8798, -5.6997, -7.0405, -6.1693, -5.7958, -6.6201, -6.7071, -5.2616, -5.9413, -6.1556, -5.0578, -5.7348, -5.6348, -5.7536, -6.0546, -6.0881, -5.6689, -5.9267, -5.1818, -5.4362, -5.8493, -4.8414, -5.569, -5.9917, -5.5457, -5.5788, -5.9731, -6.0233, -6.0264, -5.9746, -6.0432, -6.7019, -6.9249, -6.955, -7.3168, -7.5992, -7.6687, -7.8323, -7.8546, -7.886, -7.8898, -7.8972, -7.8991, -7.9149, -7.9324, -7.9451, -7.9554, -7.9756, -8.0061, -8.0223, -8.0271, -8.0534, -8.0966, -8.1016, -8.1059, -8.1058, -8.1101, -8.1114, -8.1166, -8.1402, -8.1589, -4.8567, -6.2331, -7.3229, -4.8744, -5.4046, -5.9514, -7.5796, -6.6964, -7.429, -5.3413, -5.2814, -6.8021, -7.5879, -4.7319, -5.7958, -4.8677, -6.8875, -6.3738, -5.7231, -4.8779, -5.6358, -4.7175, -5.4373, -4.3056, -6.0457, -5.2391, -6.5928, -4.4674, -5.677, -5.7602, -5.5401, -5.8621, -4.9951, -5.9235, -5.6931, -5.7093, -4.838, -5.8667, -5.522, -5.4317, -5.2197, -5.3575, -5.7487, -5.7318, -5.8366, -6.1564, -6.1615, -6.196, -6.4319, -6.619, -6.6532, -6.7501, -6.7746, -6.7956, -6.798, -6.8301, -6.8338, -6.8492, -6.857, -6.8788, -6.8822, -6.8885, -7.0459, -7.1466, -7.1523, -7.1833, -7.2053, -7.2989, -7.3104, -7.3207, -7.3592, -7.3908, -7.3992, -7.4113, -7.4172, -7.0172, -6.2531, -6.8698, -6.4369, -5.9111, -6.263, -5.629, -5.7771, -5.5928, -5.9709, -5.7514, -6.1331, -6.691, -5.3448, -6.3462, -4.5928, -5.9573, -5.5726, -5.4495, -5.9679, -6.5397, -6.3129, -5.8608, -5.922, -6.0769, -6.276, -5.9824, -5.4359, -6.2323, -6.069, -5.5139, -5.7736, -5.7396, -5.8129, -5.6754, -5.8614, -5.9623, -5.9566, -6.0113, -6.0923, -6.1441, -6.2528, -6.3489, -6.3869, -6.4244, -6.4571, -6.4858, -6.5285, -6.6035, -6.6051, -6.6091, -6.3271, -6.9302, -6.9743, -6.9814, -7.0143, -7.0756, -7.1115, -7.131, -7.1335, -7.1449, -7.2129, -7.219, -7.2645, -7.2673, -7.3046, -7.3222, -7.3269, -7.355, -7.3579, -7.3735, -6.1641, -5.799, -5.7266, -6.9454, -6.3064, -5.9018, -6.08, -6.1231, -6.8035, -6.5888, -5.566, -5.7726, -6.6604, -6.1302, -4.7917, -5.991, -6.5772, -6.0428, -6.2395, -5.5767, -4.9331, -6.1884, -5.7483, -5.6941, -5.0349, -5.2155, -5.401, -5.3957, -5.9202, -5.7476, -5.6123, -5.9042, -5.7798, -5.8343, -5.7964, -5.7988, -5.9757, -5.7089, -5.5265, -5.9483, -5.9226, -5.8762, -5.9912, -5.1675, -5.6215, -5.902, -6.1079, -6.1957, -6.3681, -6.3711, -6.429, -6.4695, -6.4804, -6.4948, -6.5389, -6.547, -6.5906, -6.5908, -6.667, -6.6765, -6.7319, -6.7384, -6.749, -6.7536, -6.7757, -6.8076, -6.8161, -6.8301, -6.8381, -6.8552, -6.9165, -6.9416, -6.953, -5.7054, -4.6928, -5.079, -4.805, -5.6442, -5.4666, -4.7335, -5.9103, -5.6843, -5.216, -5.4227, -5.8661, -5.6056, -4.2007, -6.3648, -6.0992, -5.5912, -6.1508, -5.7635, -5.5277, -5.9378, -5.6809, -5.3653, -5.9332, -5.5261, -6.0762, -6.0189, -6.0088], \"Freq\": [117937.0, 26992.0, 18467.0, 9022.0, 17398.0, 27671.0, 16954.0, 58802.0, 27212.0, 34698.0, 43283.0, 39796.0, 34484.0, 33672.0, 10346.0, 13041.0, 20863.0, 9352.0, 22449.0, 21015.0, 8024.0, 13004.0, 27381.0, 8253.0, 19743.0, 7681.0, 11221.0, 10622.0, 9597.0, 4877.0, 4316.1468546126525, 1400.1734731185704, 1240.5063617126484, 909.9140186403187, 607.3791200463892, 586.2150105503734, 573.203212142001, 567.855428815752, 540.4652410452652, 532.7342173023005, 516.9679252674852, 507.41709822357524, 401.05676917782796, 376.51906984293504, 366.77774082611506, 336.47076830464556, 335.60586585144694, 307.42415552584544, 280.454498900645, 274.60181266266255, 265.4540290080715, 261.68062355839413, 212.30884655612974, 209.45781324769587, 199.56815528908393, 194.22356292599974, 190.2179724217894, 189.2590457560984, 186.52334641779998, 184.57489864833875, 7524.052722982489, 4671.968335740943, 4421.27633391875, 756.5097427513188, 1968.1144503713338, 470.6806821744875, 3559.1205635083, 2623.845137058858, 2564.624884967477, 1977.4494800426842, 23665.077537390593, 3791.8341787971526, 1471.314558840391, 4462.330856128496, 1092.0227581911606, 4701.295462679477, 992.9112264483355, 3824.2944236114104, 8028.365824108821, 2235.971574432912, 1620.9740692770727, 3314.122608327219, 6289.393080876348, 1521.747260078961, 1336.885164574974, 2218.9975994734796, 4146.017986670356, 8295.61901528823, 10971.664348228736, 2386.194799096155, 10980.695861636756, 18327.72904405047, 3145.1175057624714, 23315.840989726763, 13358.703585817331, 7249.853977114953, 14385.279889755238, 5325.695633581644, 33866.23326359362, 10588.945324620945, 15037.419638490619, 5758.313690193784, 20863.10375733237, 13457.406365285611, 9158.061896334348, 7576.4545117463085, 9564.365034788401, 6290.886189136178, 7248.802607471931, 8243.822728254665, 8890.576244663936, 6714.1284908246935, 9247.85565866405, 7422.813043198205, 6609.651134342649, 7034.653741027603, 8246.410511801781, 7669.877930736428, 6692.801394344902, 6807.39438766207, 499.0555977447644, 443.9799549280774, 290.2671783386257, 288.3841769882947, 214.64645361778994, 214.1707641420439, 211.78133789435233, 200.0370167136535, 198.90866299732156, 198.83395309569678, 197.96407755587242, 190.61682024730715, 188.20890088680895, 187.02936981128428, 186.00449654688327, 182.2609637242926, 179.5338765215594, 172.0725882281116, 168.34687228619472, 167.72447972085408, 162.54680446812515, 156.25280143903203, 152.8118391658667, 152.1817067495046, 144.13383405229462, 142.82247165049728, 142.44810826483643, 142.2693562143587, 1729.0662549877316, 138.1897706870283, 1890.9270562069232, 750.5358297880011, 241.31993532495142, 259.62208740648816, 3553.7800258343764, 344.74417238612074, 527.9530361402915, 12035.66191039465, 9339.084386270595, 258.70221514121926, 2800.8082509888372, 5935.924029425689, 3238.271404643637, 2160.7860486396953, 16536.592419338715, 3043.467150017645, 6023.876525236043, 2672.949453118867, 874.0373717242709, 20233.726135769517, 3541.4556696305913, 15374.961853448365, 1990.625635865726, 4304.471064386965, 3227.418773189513, 2899.5448063740996, 2772.551483242271, 2726.7240052121883, 2410.8915888017364, 2107.9724779649223, 8155.836580556756, 9311.978453612424, 8760.126356931765, 8277.37253784918, 10628.01980406015, 11602.434026061605, 5503.08369664607, 17053.096011720656, 7750.8583143257365, 17751.803874122903, 6436.480808057185, 4198.543716471386, 8415.068641211894, 6397.241970368428, 9013.680793496875, 7853.167522449717, 7613.7219146517145, 9524.731840545819, 6485.017460920288, 5908.190012361945, 7672.097350815425, 5614.8240096337495, 6369.687486336861, 9818.837987903285, 6283.3416492110555, 650.3762406424207, 482.54114432792755, 456.41390803724, 356.9419105564459, 339.99610798436447, 338.32375598672263, 314.1267431351174, 308.59658416827295, 306.7016823900494, 298.3066868249316, 286.4028845455584, 279.81697271120714, 274.55533604947595, 270.36695757113733, 265.4515784688515, 239.1799313181394, 232.96585012575036, 230.56456179138104, 221.47986882213652, 218.96765659846938, 215.9500613298839, 212.75615580672397, 209.27802024507255, 205.52793129809805, 202.17177446473258, 201.43035793635136, 199.95759156368632, 192.1561300894524, 184.11474985449627, 183.39932111241507, 1043.3966645037165, 2565.072932023542, 339.4586478006131, 511.1169997690647, 556.5475035368293, 1643.622452658591, 408.76704103880024, 1051.6935490492276, 1353.3112817475203, 2244.3976159096524, 1214.2734389141947, 529.482231878217, 54659.87481733467, 1351.9207062243609, 11716.132468946047, 843.1871689268014, 903.0669018077851, 3353.2348389810686, 1613.6096546682857, 1586.150011634317, 2035.2059627884425, 5971.606338527398, 2616.0787775390363, 2380.1290508319644, 2252.217321142529, 1547.8937210858207, 2503.007044158541, 2306.615190629985, 892.7031008756993, 3870.995973841567, 2934.486986197083, 10083.599928803193, 4368.3308981704095, 1631.1326365498196, 2904.2641678297186, 4881.3767309830155, 4012.776741725837, 6795.598118018292, 6425.455540968475, 11882.613556431965, 5995.318153900884, 4631.63467461668, 4960.249723747341, 4546.481260546439, 5172.609047352531, 4255.403909096984, 2858.8558883651585, 3305.9129354143056, 2919.5295393619153, 3073.450475100083, 3918.7100655895138, 3560.596605879031, 3403.6867591612836, 2884.347931523842, 3574.714740368008, 3435.5346673912604, 3143.764276830079, 2942.129059320997, 2965.612119094648, 1690.3327257442304, 1080.9039560660328, 911.9330977557544, 616.5101106861314, 606.5484381289959, 562.91319755249, 519.6874858469246, 463.58443828276614, 391.3520916137904, 324.11429081152687, 296.3217976970487, 285.8324168676895, 284.5714024964724, 283.285868150755, 271.0263113280299, 268.2482239219288, 241.95095095667747, 231.44631918428573, 217.2388728907986, 217.13737550546685, 211.2117834398472, 209.37910543526277, 208.0007671752011, 183.8364074223286, 176.1244386487267, 173.29339830457883, 172.68081647419555, 172.42280493545152, 169.10962441315115, 161.55563334615505, 848.0146921210437, 345.87758997966245, 1806.8408237909216, 732.6920007113897, 1572.2770144613517, 670.5551243379318, 1471.0507802955344, 2546.7566544667698, 517.2573193268992, 272.0910030594559, 371.75608363688644, 859.1205426039414, 4617.285714019567, 1137.2355367239318, 1746.617226417233, 1429.9331444030659, 676.7380490303273, 735.2297371005233, 6120.806478631778, 985.6312908207143, 5944.406654489302, 2723.794632910598, 3754.521549173875, 2436.8420432764233, 11178.749145188292, 1569.0023262086013, 1745.9978846939637, 1767.3737388828247, 826.4467251846219, 5989.184280659311, 1548.5222109901642, 1480.3161103126, 1391.1742291707028, 15630.619672660827, 8013.893343338103, 3061.6751395290994, 4856.042354233795, 3882.3437788471438, 2408.3839201835635, 2080.488481117392, 2242.666617723496, 4421.9370777756, 2955.476993159426, 2801.8606836549816, 6414.228867722745, 4243.7073251778365, 4587.277991618199, 5043.821416898618, 3589.740504367504, 3794.078035427344, 3577.3095933517366, 3261.8962297131, 3660.958912505573, 3430.9091754910305, 3023.73459017662, 2499.293404860978, 2634.8670336521277, 2575.6532052460493, 2506.5727883279355, 713.2095814529896, 690.5651375028305, 484.1507134783541, 342.0067080938486, 259.71169538954774, 227.34898160560394, 209.874400174336, 209.41164234275146, 184.64138170807368, 175.1604428234349, 172.4892032299195, 170.7936096353984, 164.85121429479088, 162.94629894505357, 157.96176618097417, 157.60426211222128, 151.09521231872588, 148.41954582366256, 145.21052588599215, 144.45866001082874, 143.0564634017246, 143.0922730323544, 138.03427426346164, 137.62619173614206, 136.8359621149656, 136.2780667733867, 135.52446527764772, 134.59416616229063, 134.04218705959042, 132.16875835092728, 235.15613425680357, 272.3481336703362, 298.1849086478613, 3072.6523195827767, 675.5031077577178, 2294.1436384658628, 609.1111994288672, 4450.717190363016, 3090.1669354943756, 801.3041696558319, 3108.867364176573, 356.76057488080517, 7046.045867549518, 1251.145725638403, 586.9968756111193, 357.9018444000236, 546.7157277106372, 4733.319044833828, 2422.8373432706103, 821.3655489487712, 2739.117402349414, 875.0877880477303, 5387.508500083404, 1790.118631113159, 713.2669967838856, 3060.455740519188, 2224.3491469797136, 2889.083917302038, 3949.8432124993446, 850.6254999509172, 1342.519980770353, 7825.8292906207525, 7382.94981388377, 5920.342021548207, 2298.088875262649, 7382.593215535695, 9024.952214515475, 3829.4328577096794, 4025.107495231115, 2915.628637413304, 4666.786682161401, 8107.177923358022, 3574.876883860461, 3598.513034933156, 3208.916175218828, 2902.15405318447, 3365.6112015610283, 3321.974348127298, 3678.8790089678164, 3089.410381641284, 2980.1765606635413, 3036.143169582431, 3284.961093860329, 889.2044739275613, 617.1760397629729, 615.6802319551747, 608.5081100547295, 505.6184198396591, 493.62192294469736, 453.0706565291415, 397.31146973581184, 386.36498438110794, 380.85520438490596, 362.5498628417775, 293.58448705933483, 291.95226102880434, 286.2129603267924, 276.75873491754203, 270.5595310184205, 262.1986414146225, 255.01078730393368, 253.8059322598307, 246.5345472724571, 229.03369225514288, 227.52224372507249, 225.01938984914946, 212.46243457966924, 201.0482864235071, 200.1389572501432, 190.15362668362755, 186.09819288622384, 180.74982933493513, 1467.0496243326074, 276.8057542405218, 2050.6458789627072, 768.8788334581105, 1607.374772150448, 2730.0516586835465, 598.1934314738675, 2063.240061417485, 355.78158052688235, 989.6786403913261, 1421.3495781273023, 462.2535059633674, 2663.740287315096, 990.6301772359724, 744.2099488333782, 1501.1362735583373, 2827.9668183050235, 841.9419723798459, 716.7807992819216, 2332.9859071657283, 610.3779492605763, 1458.6760967606867, 2119.0854299867597, 929.3440252725605, 851.9433760075844, 3615.4082705099986, 1832.2086778539208, 1478.7844965871373, 4432.708680512848, 2252.5512864901657, 2489.402342506672, 2210.4348403958397, 1635.9129673994119, 1582.0725508414187, 2406.0236482517694, 1859.2205891338883, 3915.8946344206634, 3036.2729177807287, 2008.7301638874515, 5503.540188944414, 2658.6179977165148, 1742.2016537006916, 2721.38609413216, 2632.8565095661347, 1774.849245806778, 1688.0134495936456, 1682.7280109975197, 1772.1271976358053, 1654.6778031993879, 726.1180433748535, 580.9368530670871, 563.7573093480448, 392.610824753922, 296.0191747051009, 276.12236256420016, 234.4705454320346, 229.28831463159653, 222.20250289166313, 221.36074738737977, 219.7257975049873, 219.30453850155848, 215.86577245600665, 212.12925278394704, 209.45454058678888, 207.3113776786469, 203.16195870978848, 197.05019577762198, 193.8853911333408, 192.96205449003676, 187.95729691999816, 179.99627456042157, 179.1049826890839, 178.34106153614783, 178.35030340634748, 177.5859057004128, 177.3660467821633, 176.44412415100106, 172.3247546502771, 169.13327078724132, 4595.8579767625915, 1160.3948500472122, 390.19775933209775, 4515.11183470859, 2657.072551602803, 1537.8564579340375, 301.8775583751855, 730.0973366999159, 350.9447429851504, 2830.723416380445, 3005.5975958832287, 656.8600958124534, 299.3804461226735, 5206.742048270681, 1796.8911324469734, 4545.527021584165, 603.0991577610877, 1008.0278518269861, 1932.2769540146953, 4499.175081188621, 2108.6459004916915, 5282.284327246598, 2571.5144100522907, 7974.522322980326, 1399.4648088533825, 3135.3024515004245, 809.7896645991697, 6783.1101654328995, 2023.4474365345097, 1861.8917091163673, 2320.3068849336655, 1681.4897618411467, 4001.6814902130486, 1581.4479561742298, 1991.1808969491044, 1959.265595285998, 4682.688504512365, 1673.839836126544, 2362.744299044827, 2585.9863626371766, 3196.7640514511227, 2785.2505104238026, 1883.5489835242154, 1915.640720257682, 1724.9557803327746, 980.7244088065648, 975.7400482836495, 942.656100516752, 744.5335585384627, 617.505773399382, 596.7330456344243, 541.6555687219274, 528.5382545213903, 517.5294544880594, 516.2984948968361, 499.99230034700184, 498.17046329751963, 490.56440065756306, 486.7406003635486, 476.23118247449395, 474.5938780308055, 471.623028469588, 402.9433803316437, 364.35537457720346, 362.2707298160462, 351.2324646382678, 343.5738870063731, 312.876649691598, 309.3082888888414, 306.1381227852479, 294.55571720325395, 285.39310304152445, 283.022660470041, 279.60283209719034, 277.97684095861916, 414.68987256089497, 890.357112683715, 480.52215598464886, 740.8860241258254, 1253.3408500098262, 881.5294752998889, 1661.9444967810493, 1433.1017624924364, 1723.1909414348734, 1180.6510016008338, 1470.483674048361, 1003.8943419363526, 574.6261289080835, 2208.097728382717, 811.1610268857042, 4684.221947518029, 1196.8460668278406, 1758.3795426920442, 1988.7042158444133, 1184.1424799220595, 668.4950086072175, 838.6402442879983, 1318.0426083757577, 1239.7573883172056, 1061.8841155898174, 870.1769653730333, 1167.106878910847, 2015.7733687496498, 909.0363187608185, 1070.349694796136, 1864.6931822268302, 1438.0927557213327, 1487.8855343988077, 1382.663089784533, 1586.4963793982515, 1317.314354409442, 1190.8198683391065, 1197.6882938278486, 1133.8623995045052, 1045.665359562097, 992.8543954532332, 858.7334052315506, 780.0704222314599, 750.9701802471137, 723.3711732367569, 700.0954969994971, 680.2771244517903, 651.7915356739533, 604.6993978605077, 603.7515961246479, 601.3220554980495, 797.2874611831612, 436.1934053232155, 417.3500881927761, 414.4102932997282, 401.0156077467184, 377.16830714264694, 363.86445683541837, 356.8362953892625, 355.95946517257977, 351.9086565230081, 328.7626627119537, 326.7636963848044, 312.22834672146865, 311.3635090245828, 299.96895511898543, 294.73081655929616, 293.36197057042637, 285.233031954334, 284.401670550055, 279.9941126750624, 938.3707005116247, 1351.9427357183508, 1453.3643517298383, 429.60287007893436, 813.9414098826379, 1219.8115102651636, 1020.7521050026444, 977.7091435502457, 495.084033466839, 613.7052983793467, 1706.6684581351424, 1388.0619014447932, 571.2948472999111, 970.7798042963973, 3701.617735585687, 1115.7088377370799, 620.8564234192395, 1059.470516521167, 870.2681038752655, 1688.401418863419, 3213.557963074406, 915.8978467983258, 1422.1926944500472, 1501.482714810949, 2902.6972283690584, 2423.034610536293, 2012.8483016212865, 2023.3809599466317, 1197.6292833858972, 1423.1642429558667, 1629.3799252417593, 1216.9438201421951, 1378.1801161971432, 1305.034425377169, 1355.4728806551273, 1352.2161629093027, 1132.9461753355224, 1479.3470032007244, 1775.427640634255, 1164.3598315237468, 1194.713556108605, 1251.4179200627955, 1115.52742539514, 1283.183018126918, 814.9506460145031, 615.6378336357014, 501.0420539816856, 458.94705550692066, 386.258206814622, 385.1165192125236, 363.45336584107696, 349.0037134107122, 345.2289197244721, 340.3030540203727, 325.6243967486876, 323.0029373654116, 309.21133542641314, 309.1470856303912, 286.48184496325, 283.76323471001933, 268.4813650430136, 266.7181209053378, 263.92271243464614, 262.7123217839614, 256.961394486694, 248.89346130172748, 246.77738852854597, 243.36438811731458, 241.4089637814059, 237.31370778241657, 223.20313561713087, 217.6718957047974, 215.20721393357974, 749.387550708333, 2062.730079850675, 1401.9720357245378, 1843.9581748113376, 796.6438949754863, 951.4520115044345, 1980.557232352666, 610.5422360954846, 765.3635219168619, 1222.534373686861, 994.1856437714639, 638.1208424567714, 828.0472393780382, 3374.3803508667893, 387.5378702527117, 505.4350537068498, 839.9908694136291, 480.0275920340684, 707.0589093329058, 895.1213512672525, 593.9962428241655, 767.9778142510838, 1052.9601073563174, 596.7247014638674, 896.5569480883091, 517.1781662996717, 547.6945596941786, 553.255568583234], \"loglift\": [30.0, 29.0, 28.0, 27.0, 26.0, 25.0, 24.0, 23.0, 22.0, 21.0, 20.0, 19.0, 18.0, 17.0, 16.0, 15.0, 14.0, 13.0, 12.0, 11.0, 10.0, 9.0, 8.0, 7.0, 6.0, 5.0, 4.0, 3.0, 2.0, 1.0, 1.5551, 1.5547, 1.5546, 1.5543, 1.5538, 1.5538, 1.5537, 1.5537, 1.5537, 1.5536, 1.5536, 1.5535, 1.5531, 1.5529, 1.5529, 1.5526, 1.5526, 1.5524, 1.5521, 1.5521, 1.5519, 1.5519, 1.5511, 1.551, 1.5508, 1.5507, 1.5506, 1.5506, 1.5505, 1.5505, 1.5375, 1.5329, 1.5321, 1.5429, 1.5298, 1.5441, 1.5101, 1.5125, 1.5115, 1.5101, 1.4237, 1.4774, 1.505, 1.4532, 1.4928, 1.4043, 1.4886, 1.3764, 1.3018, 1.4063, 1.4324, 1.35, 1.2481, 1.4185, 1.4358, 1.3558, 1.2609, 1.1343, 1.0642, 1.3328, 1.0005, 0.8566, 1.2383, 0.6303, 0.7995, 0.9524, 0.6748, 1.0405, 0.3076, 0.7486, 0.4981, 0.9525, 0.2425, 0.471, 0.6587, 0.7358, 0.5035, 0.8731, 0.6782, 0.5221, 0.3924, 0.7402, 0.2202, 0.577, 0.7125, 0.5539, 0.1484, 0.2722, 0.3034, -0.0672, 1.9031, 1.9029, 1.9018, 1.9018, 1.9008, 1.9007, 1.9007, 1.9004, 1.9004, 1.9004, 1.9004, 1.9002, 1.9002, 1.9001, 1.9001, 1.9, 1.8999, 1.8997, 1.8996, 1.8996, 1.8994, 1.8992, 1.8991, 1.899, 1.8987, 1.8987, 1.8986, 1.8986, 1.8986, 1.8985, 1.8423, 1.8623, 1.8807, 1.8738, 1.7441, 1.8547, 1.8261, 1.5622, 1.571, 1.8606, 1.6229, 1.5465, 1.6003, 1.6402, 1.4068, 1.5651, 1.465, 1.5134, 1.6725, 1.1445, 1.4079, 1.091, 1.4754, 1.31, 1.3363, 1.3445, 1.3539, 1.3569, 1.3746, 1.4048, 1.0645, 1.025, 1.0298, 1.0356, 0.9116, 0.8395, 1.0945, 0.6671, 0.8812, 0.4306, 0.9223, 1.1329, 0.687, 0.8448, 0.5632, 0.6671, 0.6872, 0.475, 0.755, 0.729, 0.383, 0.6413, 0.4085, -0.5809, 0.1357, 1.9559, 1.9555, 1.9553, 1.9548, 1.9547, 1.9547, 1.9545, 1.9544, 1.9544, 1.9543, 1.9542, 1.9541, 1.9541, 1.954, 1.9539, 1.9536, 1.9535, 1.9534, 1.9533, 1.9532, 1.9532, 1.9531, 1.953, 1.953, 1.9529, 1.9529, 1.9528, 1.9527, 1.9525, 1.9524, 1.9367, 1.9125, 1.9321, 1.9103, 1.9013, 1.8008, 1.8989, 1.8117, 1.7856, 1.7321, 1.7547, 1.8394, 1.1883, 1.7045, 1.3803, 1.7608, 1.7434, 1.4699, 1.5815, 1.5807, 1.5175, 1.255, 1.4456, 1.4408, 1.4486, 1.5451, 1.41, 1.4103, 1.6694, 1.2014, 1.2538, 0.7277, 1.0254, 1.4117, 1.1014, 0.8181, 0.8521, 0.5168, 0.5188, 0.0816, 0.4446, 0.5511, 0.4872, 0.4523, 0.2527, 0.4165, 0.9009, 0.5856, 0.7786, 0.6623, 0.0754, 0.2763, 0.2225, 0.7343, -0.3283, -0.5763, 0.1027, 0.247, -0.5628, 2.0736, 2.0733, 2.0731, 2.0727, 2.0726, 2.0725, 2.0724, 2.0722, 2.0718, 2.0714, 2.0711, 2.071, 2.071, 2.071, 2.0708, 2.0708, 2.0704, 2.0702, 2.07, 2.07, 2.0699, 2.0698, 2.0698, 2.0692, 2.069, 2.069, 2.0689, 2.0689, 2.0688, 2.0686, 2.0313, 2.0508, 1.9942, 2.021, 1.9859, 2.0161, 1.9791, 1.9447, 2.0062, 2.0511, 2.027, 1.954, 1.8069, 1.8884, 1.819, 1.8207, 1.9264, 1.9061, 1.5045, 1.8376, 1.4456, 1.6158, 1.5187, 1.609, 1.1677, 1.6931, 1.6492, 1.6417, 1.8574, 1.0077, 1.5529, 1.5371, 1.5672, 0.0532, 0.4715, 1.041, 0.6653, 0.7872, 1.1315, 1.2121, 1.1421, 0.4077, 0.8014, 0.8405, -0.4182, 0.1716, -0.0098, -0.3819, 0.1856, -0.1091, 0.0008, 0.2111, -0.1687, -0.2525, 0.1091, 0.6968, 0.087, -0.2786, 0.2737, 2.4109, 2.4108, 2.4103, 2.4095, 2.4087, 2.4082, 2.4079, 2.4079, 2.4073, 2.407, 2.407, 2.4069, 2.4067, 2.4067, 2.4065, 2.4065, 2.4062, 2.4061, 2.406, 2.406, 2.4059, 2.4059, 2.4057, 2.4057, 2.4056, 2.4056, 2.4056, 2.4055, 2.4055, 2.4054, 2.3938, 2.3874, 2.3618, 2.1581, 2.2801, 2.1571, 2.257, 1.9992, 2.0048, 2.1784, 1.9515, 2.274, 1.7994, 2.0726, 2.1892, 2.2716, 2.1684, 1.7053, 1.8179, 2.0194, 1.7152, 1.9884, 1.4472, 1.7509, 2.0379, 1.5508, 1.6049, 1.492, 1.3312, 1.9424, 1.7258, 0.9101, 0.8947, 0.8807, 1.4002, 0.7275, 0.538, 0.994, 0.9107, 1.1108, 0.705, 0.1541, 0.8555, 0.8347, 0.9, 0.9494, 0.6698, 0.6604, 0.3944, 0.3975, 0.5213, 0.1748, 2.5057, 2.505, 2.5045, 2.5045, 2.5045, 2.5042, 2.5042, 2.504, 2.5037, 2.5037, 2.5036, 2.5035, 2.5029, 2.5029, 2.5029, 2.5028, 2.5027, 2.5026, 2.5025, 2.5025, 2.5024, 2.5021, 2.5021, 2.502, 2.5018, 2.5015, 2.5015, 2.5013, 2.5012, 2.501, 2.4996, 2.498, 2.4684, 2.4665, 2.435, 2.368, 2.4433, 2.3479, 2.4698, 2.38, 2.3404, 2.4448, 2.269, 2.346, 2.378, 2.2512, 2.1336, 2.3276, 2.3301, 2.0501, 2.349, 2.0753, 1.9218, 2.1879, 2.2022, 1.5732, 1.8189, 1.866, 1.2112, 1.5406, 1.4322, 1.4708, 1.6528, 1.6491, 1.168, 1.4016, 0.5612, 0.8272, 1.2766, -0.1394, 0.8347, 1.4327, 0.5071, 0.1753, 0.4016, 0.6628, 0.4974, -0.6896, 0.264, 2.6698, 2.6695, 2.6694, 2.6687, 2.668, 2.6678, 2.6672, 2.6671, 2.667, 2.667, 2.6669, 2.6669, 2.6669, 2.6668, 2.6667, 2.6667, 2.6666, 2.6665, 2.6664, 2.6664, 2.6662, 2.666, 2.666, 2.666, 2.666, 2.666, 2.666, 2.6659, 2.6658, 2.6657, 2.6116, 2.6116, 2.6273, 2.4892, 2.5133, 2.5224, 2.6323, 2.5564, 2.6138, 2.4192, 2.4079, 2.5409, 2.6216, 2.2384, 2.319, 2.1463, 2.4939, 2.403, 2.2867, 2.0643, 2.178, 1.9724, 2.1242, 1.8312, 2.2373, 1.9853, 2.3659, 1.729, 1.9066, 1.8619, 1.7301, 1.8596, 1.2739, 1.8679, 1.6842, 1.6623, 0.6744, 1.7221, 1.0762, 0.6211, -0.5177, -1.0748, 0.3445, 0.0223, 0.1968, 2.915, 2.915, 2.9149, 2.9147, 2.9144, 2.9144, 2.9142, 2.9142, 2.9141, 2.9141, 2.9141, 2.9141, 2.9141, 2.914, 2.914, 2.914, 2.914, 2.9137, 2.9134, 2.9134, 2.9133, 2.9133, 2.913, 2.913, 2.913, 2.9128, 2.9127, 2.9127, 2.9127, 2.9127, 2.908, 2.87, 2.8957, 2.8759, 2.8382, 2.8224, 2.7624, 2.7506, 2.7176, 2.7546, 2.701, 2.7506, 2.8327, 2.5005, 2.7505, 2.1234, 2.5483, 2.3533, 2.2471, 2.4686, 2.7551, 2.5963, 2.2839, 2.3237, 2.4278, 2.5578, 2.3222, 1.7162, 2.448, 2.2158, 1.3996, 1.5931, 1.5014, 1.4429, -0.9734, -0.1073, 0.3658, 0.3125, 0.6306, -0.0395, 1.0238, 2.9513, 2.9512, 2.9511, 2.9511, 2.951, 2.951, 2.9509, 2.9508, 2.9508, 2.9508, 2.9503, 2.9503, 2.9502, 2.9502, 2.9501, 2.9499, 2.9499, 2.9498, 2.9498, 2.9498, 2.9496, 2.9495, 2.9494, 2.9494, 2.9493, 2.9493, 2.9493, 2.9492, 2.9492, 2.9491, 2.9439, 2.9258, 2.9163, 2.9342, 2.9011, 2.874, 2.8727, 2.8428, 2.9092, 2.8799, 2.6334, 2.6488, 2.8443, 2.7061, 2.3643, 2.6457, 2.8113, 2.5711, 2.6415, 2.332, 1.888, 2.5645, 2.2805, 2.2345, 1.6001, 1.6017, 1.7371, 1.5992, 2.2165, 1.951, 1.7544, 2.0911, 1.8069, 1.6806, 1.4027, 1.3811, 1.904, 0.7787, -0.8244, 1.4622, 1.0208, 0.2375, 1.6083, 3.635, 3.6349, 3.6345, 3.6342, 3.634, 3.6336, 3.6336, 3.6335, 3.6334, 3.6334, 3.6333, 3.6332, 3.6332, 3.6331, 3.6331, 3.6328, 3.6328, 3.6326, 3.6326, 3.6326, 3.6326, 3.6325, 3.6324, 3.6323, 3.6323, 3.6323, 3.6322, 3.632, 3.6319, 3.6318, 3.6171, 3.5518, 3.4743, 3.4234, 3.5117, 3.4418, 3.3298, 3.4922, 3.2905, 3.1229, 3.1872, 3.3173, 3.2009, 2.6524, 3.414, 3.1079, 2.5021, 2.9963, 2.2764, 1.6522, 2.4952, 1.6941, 0.7485, 2.2524, 0.9978, 2.4844, 2.1258, 0.128], \"Term\": [\"film\", \"bad\", \"love\", \"music\", \"life\", \"people\", \"show\", \"like\", \"great\", \"really\", \"good\", \"would\", \"story\", \"see\", \"action\", \"funny\", \"films\", \"comedy\", \"movies\", \"think\", \"family\", \"years\", \"get\", \"girl\", \"watch\", \"woman\", \"cast\", \"young\", \"saw\", \"mother\", \"waste\", \"zombie\", \"slasher\", \"redeeming\", \"lousy\", \"amateurish\", \"vampires\", \"blah\", \"uninteresting\", \"atrocious\", \"seagal\", \"freddy\", \"unwatchable\", \"horrid\", \"1/10\", \"3/10\", \"stinks\", \"stinker\", \"hellraiser\", \"abysmal\", \"troma\", \"2/10\", \"leatherface\", \"reggie\", \"sorority\", \"dud\", \"dolph\", \"englund\", \"hercules\", \"raimi\", \"worst\", \"awful\", \"terrible\", \"rubbish\", \"poorly\", \"idiotic\", \"horrible\", \"crap\", \"gore\", \"lame\", \"bad\", \"worse\", \"pointless\", \"stupid\", \"laughable\", \"boring\", \"zombies\", \"budget\", \"horror\", \"cheap\", \"mess\", \"low\", \"minutes\", \"wasted\", \"pathetic\", \"ridiculous\", \"poor\", \"nothing\", \"acting\", \"scary\", \"plot\", \"even\", \"supposed\", \"like\", \"could\", \"thing\", \"really\", \"script\", \"film\", \"make\", \"good\", \"pretty\", \"one\", \"would\", \"movies\", \"better\", \"get\", \"actually\", \"ever\", \"made\", \"much\", \"something\", \"time\", \"watch\", \"say\", \"seen\", \"see\", \"people\", \"way\", \"story\", \"seasons\", \"nikki\", \"carrey\", \"damme\", \"zohan\", \"sellers\", \"avery\", \"veronica\", \"hawn\", \"puzzles\", \"abc\", \"woodstock\", \"enid\", \"olsen\", \"stiller\", \"goldie\", \"paltrow\", \"saif\", \"sh*t\", \"mulder\", \"birch\", \"canceled\", \"donnie\", \"snl\", \"scully\", \"banderas\", \"downside\", \"reruns\", \"season\", \"penguins\", \"episodes\", \"sandler\", \"simpsons\", \"pryor\", \"episode\", \"crow\", \"batman\", \"show\", \"funny\", \"seth\", \"enjoyed\", \"series\", \"liked\", \"jokes\", \"great\", \"humor\", \"comedy\", \"loved\", \"funniest\", \"good\", \"book\", \"really\", \"hilarious\", \"fun\", \"fan\", \"enjoy\", \"definitely\", \"recommend\", \"laugh\", \"favorite\", \"best\", \"movies\", \"think\", \"watch\", \"well\", \"see\", \"lot\", \"like\", \"characters\", \"one\", \"better\", \"always\", \"much\", \"love\", \"story\", \"also\", \"first\", \"would\", \"character\", \"seen\", \"time\", \"many\", \"could\", \"film\", \"even\", \"lynch\", \"scorsese\", \"welles\", \"giallo\", \"ringu\", \"streep\", \"sadako\", \"highlander\", \"bloom\", \"moody\", \"kurosawa\", \"unsettling\", \"cronenberg\", \"cassavetes\", \"orson\", \"keane\", \"masterful\", \"farrow\", \"elliott\", \"kubrick\", \"rathbone\", \"anthology\", \"delpy\", \"juan\", \"sergio\", \"vienna\", \"bava\", \"palma\", \"lewton\", \"garfield\", \"hitchcock\", \"novel\", \"directorial\", \"atmospheric\", \"haunting\", \"atmosphere\", \"imagery\", \"photography\", \"effective\", \"cinematography\", \"visual\", \"visually\", \"film\", \"italian\", \"films\", \"stunning\", \"narrative\", \"performances\", \"elements\", \"de\", \"score\", \"director\", \"style\", \"cinema\", \"genre\", \"tale\", \"direction\", \"dark\", \"beautifully\", \"performance\", \"excellent\", \"story\", \"quite\", \"particularly\", \"screen\", \"scenes\", \"work\", \"well\", \"also\", \"one\", \"great\", \"best\", \"characters\", \"character\", \"much\", \"many\", \"rather\", \"though\", \"interesting\", \"cast\", \"first\", \"plot\", \"little\", \"however\", \"time\", \"good\", \"two\", \"scene\", \"even\", \"political\", \"americans\", \"facts\", \"propaganda\", \"politics\", \"religion\", \"cultural\", \"korean\", \"iraq\", \"homosexuality\", \"che\", \"bunuel\", \"jews\", \"hitler\", \"beliefs\", \"communist\", \"cultures\", \"9/11\", \"economic\", \"nero\", \"russians\", \"o'toole\", \"interviewed\", \"hangs\", \"politicians\", \"slavery\", \"crumb\", \"cuba\", \"stalin\", \"osama\", \"media\", \"racism\", \"society\", \"religious\", \"social\", \"freedom\", \"culture\", \"documentary\", \"countries\", \"soviet\", \"nation\", \"issue\", \"war\", \"issues\", \"message\", \"subject\", \"humanity\", \"understanding\", \"us\", \"historical\", \"world\", \"human\", \"american\", \"history\", \"people\", \"america\", \"country\", \"reality\", \"moral\", \"life\", \"view\", \"events\", \"truth\", \"film\", \"would\", \"point\", \"many\", \"real\", \"audience\", \"understand\", \"men\", \"way\", \"fact\", \"without\", \"one\", \"could\", \"even\", \"like\", \"make\", \"see\", \"much\", \"think\", \"story\", \"time\", \"characters\", \"may\", \"never\", \"also\", \"something\", \"vhs\", \"bugs\", \"graphics\", \"dinosaurs\", \"bands\", \"axe\", \"gremlins\", \"3d\", \"gator\", \"spaceship\", \"surfing\", \"squid\", \"shelves\", \"chop\", \"norway\", \"sf\", \"creek\", \"taped\", \"astro\", \"taliban\", \"93\", \"boiled\", \"yor\", \"sobieski\", \"ebay\", \"pinhead\", \"mcclane\", \"amelie\", \"jurassic\", \"monday\", \"stores\", \"album\", \"bunny\", \"game\", \"metal\", \"ago\", \"tape\", \"dvd\", \"remember\", \"games\", \"kids\", \"chicken\", \"years\", \"copy\", \"12\", \"titanic\", \"13\", \"saw\", \"video\", \"available\", \"year\", \"bought\", \"back\", \"kid\", \"aliens\", \"tv\", \"came\", \"day\", \"old\", \"channel\", \"released\", \"time\", \"see\", \"get\", \"night\", \"would\", \"like\", \"still\", \"know\", \"got\", \"first\", \"one\", \"show\", \"ever\", \"go\", \"find\", \"never\", \"seen\", \"people\", \"made\", \"watch\", \"could\", \"police\", \"cops\", \"bogart\", \"fbi\", \"murderer\", \"woo\", \"criminals\", \"connery\", \"chases\", \"heist\", \"robbery\", \"mitchum\", \"humphrey\", \"columbo\", \"thugs\", \"mayor\", \"hostage\", \"beowulf\", \"policeman\", \"dealer\", \"undercover\", \"dakota\", \"hogan\", \"stallone\", \"hackman\", \"apes\", \"detectives\", \"robbers\", \"bounty\", \"levy\", \"detective\", \"investigating\", \"cop\", \"murdered\", \"prison\", \"murder\", \"jail\", \"crime\", \"attorney\", \"agent\", \"gang\", \"agents\", \"car\", \"serial\", \"sheriff\", \"gun\", \"killer\", \"murders\", \"criminal\", \"killed\", \"driver\", \"killing\", \"town\", \"chase\", \"boss\", \"gets\", \"kill\", \"finds\", \"man\", \"death\", \"goes\", \"wife\", \"turns\", \"starts\", \"guy\", \"dead\", \"get\", \"scene\", \"takes\", \"one\", \"back\", \"house\", \"two\", \"also\", \"go\", \"around\", \"new\", \"good\", \"end\", \"khan\", \"bollywood\", \"bette\", \"barrymore\", \"asoka\", \"violin\", \"kapoor\", \"bachchan\", \"garbo\", \"akbar\", \"pierce\", \"rani\", \"noah\", \"maris\", \"shah\", \"thurman\", \"uma\", \"beth\", \"hindi\", \"amitabh\", \"wilbur\", \"rukh\", \"lohan\", \"harriet\", \"payne\", \"hai\", \"divorced\", \"jeanne\", \"hayward\", \"harding\", \"mother\", \"marriage\", \"daughters\", \"father\", \"husband\", \"married\", \"belle\", \"india\", \"claire\", \"daughter\", \"son\", \"marry\", \"divorce\", \"family\", \"parents\", \"woman\", \"wedding\", \"indian\", \"relationship\", \"girl\", \"child\", \"young\", \"boy\", \"love\", \"sister\", \"wife\", \"mom\", \"life\", \"children\", \"lives\", \"beautiful\", \"wants\", \"man\", \"heart\", \"women\", \"home\", \"story\", \"friend\", \"old\", \"two\", \"one\", \"film\", \"little\", \"also\", \"character\", \"arts\", \"martial\", \"dracula\", \"kong\", \"jungle\", \"sword\", \"hong\", \"godzilla\", \"ninja\", \"fu\", \"holocaust\", \"karloff\", \"lugosi\", \"tiger\", \"frankenstein\", \"kung\", \"chan\", \"candyman\", \"fighter\", \"jet\", \"combat\", \"mummy\", \"warrior\", \"li\", \"ants\", \"sharks\", \"tarzan\", \"samurai\", \"phantasm\", \"mutant\", \"scientists\", \"scientist\", \"predator\", \"shark\", \"ship\", \"creature\", \"battle\", \"alien\", \"monster\", \"giant\", \"island\", \"captain\", \"dragon\", \"fight\", \"wars\", \"action\", \"fighting\", \"hero\", \"evil\", \"sci-fi\", \"beast\", \"heroes\", \"king\", \"earth\", \"japanese\", \"army\", \"space\", \"effects\", \"science\", \"crew\", \"series\", \"star\", \"special\", \"war\", \"one\", \"also\", \"scenes\", \"man\", \"world\", \"two\", \"set\", \"holmes\", \"powell\", \"flynn\", \"russell\", \"chaplin\", \"cary\", \"dunne\", \"fonda\", \"cooper\", \"keaton\", \"ford\", \"errol\", \"jenny\", \"hardy\", \"watson\", \"lenny\", \"jake\", \"stanwyck\", \"sherlock\", \"norma\", \"peterson\", \"porky\", \"stan\", \"margaret\", \"loy\", \"tramp\", \"hughes\", \"daffy\", \"marx\", \"screwball\", \"crawford\", \"henry\", \"grant\", \"harold\", \"wayne\", \"joan\", \"howard\", \"davis\", \"walter\", \"lloyd\", \"george\", \"william\", \"arthur\", \"billy\", \"john\", \"scott\", \"warner\", \"mary\", \"moore\", \"robert\", \"role\", \"robin\", \"james\", \"career\", \"cast\", \"comedy\", \"plays\", \"played\", \"supporting\", \"mr\", \"star\", \"jack\", \"stars\", \"playing\", \"actor\", \"play\", \"roles\", \"years\", \"one\", \"hollywood\", \"performance\", \"best\", \"early\", \"singing\", \"cagney\", \"bambi\", \"concert\", \"broadway\", \"beatles\", \"costello\", \"pammy\", \"snoopy\", \"christie\", \"buscemi\", \"coppola\", \"lana\", \"shields\", \"nathan\", \"musicals\", \"sinbad\", \"gable\", \"enterprise\", \"troll\", \"musicians\", \"sinatra\", \"cabaret\", \"abbott\", \"musician\", \"sung\", \"reeves\", \"keitel\", \"brando\", \"reilly\", \"sing\", \"musical\", \"dance\", \"songs\", \"singer\", \"dancing\", \"song\", \"kelly\", \"prince\", \"stage\", \"disney\", \"numbers\", \"band\", \"music\", \"brooks\", \"opera\", \"voice\", \"brown\", \"number\", \"play\", \"rock\", \"version\", \"best\", \"york\", \"new\", \"oscar\", \"king\", \"love\"], \"Total\": [117937.0, 26992.0, 18467.0, 9022.0, 17398.0, 27671.0, 16954.0, 58802.0, 27212.0, 34698.0, 43283.0, 39796.0, 34484.0, 33672.0, 10346.0, 13041.0, 20863.0, 9352.0, 22449.0, 21015.0, 8024.0, 13004.0, 27381.0, 8253.0, 19743.0, 7681.0, 11221.0, 10622.0, 9597.0, 4877.0, 4317.043106534459, 1401.0696793132404, 1241.40256942509, 910.8102914125582, 608.275381771392, 587.1112559014338, 574.099578965761, 568.7516814339206, 541.361530035946, 533.63046137965, 517.8642414554723, 508.3133945537787, 401.95301957862887, 377.41556753206544, 367.67395068644004, 337.366994661633, 336.50213713816976, 308.32037050257327, 281.3507411093756, 275.4980873204463, 266.35021520461015, 262.57684784928125, 213.2050467016703, 210.35424137724684, 200.46438282585314, 195.11985165947613, 191.11422091999484, 190.15536427761816, 187.41977488831225, 185.47117463018182, 7659.168556593289, 4777.992612161216, 4525.230078108647, 765.982668403123, 2018.900405744888, 476.0023055666395, 3723.841828781279, 2738.5339438702026, 2679.428458675167, 2068.947696951857, 26992.66206908219, 4099.021735295712, 1547.1763213101306, 4941.924761384093, 1162.4610037384714, 5467.57186771447, 1061.4169854434056, 4573.591811997599, 10345.123226446176, 2595.3082879756184, 1833.0237592752553, 4069.5974497705083, 8551.21079093511, 1744.8391102731457, 1506.6319832256222, 2708.9292061857195, 5565.137569090968, 12638.28120809329, 17928.492522258442, 2980.7303665173563, 19124.145734928854, 36860.97940833564, 4318.466165982389, 58802.5674205057, 28443.94742866256, 13248.831602947506, 34698.38160607043, 8911.824325340998, 117937.09209944487, 23725.697734293, 43283.5334682088, 10521.984446640517, 77539.86266135542, 39796.88235204611, 22449.356297210335, 17194.155815163886, 27381.409965884894, 12445.058789897113, 17425.449077120782, 23165.539639474257, 28444.26895214054, 15170.475275827815, 35144.45817285791, 19743.896313731504, 15352.680183422426, 19149.28785726799, 33672.08607731963, 27671.099528278854, 23405.657494903124, 34484.25874895112, 499.950360843596, 444.8761558707093, 291.1619284309832, 289.2790305079803, 215.54135063519968, 215.06556531393642, 212.676858965014, 200.93257244385288, 199.80340822336044, 199.7289581880568, 198.85900507744853, 191.51211571979664, 189.10372470387549, 187.92428526257405, 186.89926499713434, 183.1556924280274, 180.42871519983885, 172.9675493214238, 169.24204884156103, 168.61932759989105, 163.4418056803343, 157.14758881429364, 153.70689780134808, 153.07648427403143, 145.0286184296061, 143.71729436618006, 143.34336551034326, 143.16415153078106, 1740.0832757873534, 139.08460209729785, 2013.105290109313, 783.2318090459938, 247.2271284756411, 267.82086316247296, 4173.648408294267, 362.49148522913487, 571.2480231281148, 16954.703365122707, 13041.899142253813, 270.41391848273355, 3713.1719309801824, 8494.260247818604, 4391.291434319409, 2815.753164991033, 27212.598624153838, 4275.1005262394965, 9352.803444678575, 3953.789101069352, 1102.7322247170298, 43283.5334682088, 5821.270571962835, 34698.38160607043, 3058.502399739102, 7803.317220719679, 5699.114331573048, 5078.413320225858, 4810.254169683917, 4716.919827384119, 4097.049741518603, 3475.821601700163, 18898.772880412584, 22449.356297210335, 21015.75616361776, 19743.896313731504, 28696.361621243854, 33672.08607731963, 12375.16723941991, 58802.5674205057, 21574.84124399555, 77539.86266135542, 17194.155815163886, 9086.350496335825, 28444.26895214054, 18467.766393726495, 34484.25874895112, 27079.521135799245, 25730.055318019964, 39796.88235204611, 20478.64170064958, 19149.28785726799, 35144.45817285791, 19865.92158254813, 28443.94742866256, 117937.09209944487, 36860.97940833564, 651.2713878957442, 483.43626485403746, 457.3090512504958, 357.83696306142133, 340.89121120098326, 339.21887046689204, 315.02180010335667, 309.49190058955884, 307.596913378844, 299.20188823440344, 287.297980269354, 280.7121714522393, 275.4504193355646, 271.2621268966085, 266.3467667618646, 240.07512665503452, 233.86097690083625, 231.45999064620293, 222.3753492225677, 219.86275196520944, 216.8454478005977, 213.6515216787132, 210.17340822568252, 206.423234748712, 203.06687393593668, 202.3257035973422, 200.85263950969778, 193.05121793321072, 185.00984854579562, 184.294523924732, 1065.12102061077, 2682.66522112937, 348.1383415507732, 535.7248390987019, 588.6281844893989, 1922.1382375560775, 433.35084102798237, 1216.5520826860832, 1606.845864090275, 2811.3196539380037, 1487.0459860619424, 595.7607494510985, 117937.09209944487, 1740.8278642938078, 20863.52274610348, 1026.2739400305402, 1118.5094559865595, 5459.61424280441, 2349.7621943201775, 2311.528992191176, 3159.62581370876, 12053.250255243329, 4363.784413695117, 3989.3205813320383, 3745.792472051025, 2337.4838305730664, 4326.707302205629, 3985.9529922323254, 1190.5352297317925, 8243.169497572524, 5929.903342893358, 34484.25874895112, 11092.47493632219, 2814.8898499277548, 6834.882286272458, 15251.584376784434, 12117.980619517044, 28696.361621243854, 27079.521135799245, 77539.86266135542, 27212.598624153838, 18898.772880412584, 21574.84124399555, 20478.64170064958, 28444.26895214054, 19865.92158254813, 8221.774530430921, 13032.707012366956, 9488.952974510848, 11221.741161587395, 25730.055318019964, 19124.145734928854, 19292.18914142935, 9799.397717398599, 35144.45817285791, 43283.5334682088, 20086.35372704858, 16272.059055739372, 36860.97940833564, 1691.2285024466744, 1081.7997795975646, 912.8289304164443, 617.4058845280402, 607.4442787846225, 563.8090110162207, 520.5833866433276, 464.4802671747105, 392.2478968808727, 325.0100936954916, 297.21749119793867, 286.7282579700823, 285.46711491429096, 284.1817449539271, 271.9221408021325, 269.143969821452, 242.8468311598524, 232.34210583745806, 218.13468846015107, 218.03325562339822, 212.10760214144958, 210.27529194378397, 208.8966584154674, 184.732611964988, 177.02031310054724, 174.18911794003427, 173.57655855227998, 173.31875136404727, 170.00537960479733, 162.4514439935071, 885.0787963758378, 354.0478900875507, 1957.107435275198, 772.645349537519, 1717.2597366037464, 710.612456565071, 1617.7080158246827, 2898.7205162364453, 553.6211618076974, 278.42799318957964, 389.6949886280806, 968.7966595233715, 6031.43892591082, 1369.3392615571674, 2254.1621604694446, 1842.435621370654, 784.4329189907024, 869.7098595997796, 10819.162336259942, 1248.6317231071857, 11144.372685674847, 4307.243512636058, 6542.5317608346595, 3880.093048047837, 27671.099528278854, 2296.6479134049905, 2670.4510973560614, 2723.4355869815017, 1026.4344950180139, 17398.59971201411, 2607.7097019201265, 2532.6190520214204, 2309.626425691125, 117937.09209944487, 39796.88235204611, 8602.264636833463, 19865.92158254813, 14060.070740936895, 6181.460961117341, 4926.514751678162, 5695.273210312772, 23405.657494903124, 10552.42314408327, 9620.282712690376, 77539.86266135542, 28443.94742866256, 36860.97940833564, 58802.5674205057, 23725.697734293, 33672.08607731963, 28444.26895214054, 21015.75616361776, 34484.25874895112, 35144.45817285791, 21574.84124399555, 9907.811246149911, 19220.60901597017, 27079.521135799245, 15170.475275827815, 714.1063132312837, 691.4618544196776, 485.0473877982135, 342.90336202045427, 260.60840230984377, 228.24578677698716, 210.77113599642385, 210.30832175672754, 185.5380028824423, 176.057113886072, 173.38582319528507, 171.6906103327216, 165.74803222787713, 163.84321014827097, 158.8585236943742, 158.50099539210575, 151.99205168571746, 149.31616991601544, 146.1071808305253, 145.35557892640188, 143.95314727466044, 143.98924674249795, 138.93088847755138, 138.52308379072116, 137.7325930646561, 137.17477721199165, 136.42137911153284, 135.49102735176902, 134.9388345442501, 133.06551278936615, 239.5125636541037, 279.1746191589358, 313.59115772906915, 3961.5198979642446, 770.8714757848383, 2960.7479949925455, 711.3037996090388, 6726.060936458264, 4644.141593110873, 1012.3255831373634, 4927.888933139568, 409.6190356693601, 13004.030227562745, 1756.9118020316885, 733.5826117851996, 411.9036254141566, 697.6303338995939, 9597.565496424773, 4389.504242515058, 1216.5363629264662, 5498.916966785691, 1336.8297735018884, 14140.89236358335, 3467.663674459777, 1037.0161220910545, 7242.062626378068, 4986.351355098836, 7250.636720876567, 11642.291509013941, 1360.616217531663, 2666.860310853436, 35144.45817285791, 33672.08607731963, 27381.409965884894, 6322.0792814501265, 39796.88235204611, 58802.5674205057, 15813.831364468553, 18065.525006074902, 10713.030512515214, 25730.055318019964, 77539.86266135542, 16954.703365122707, 17425.449077120782, 14557.329929944297, 12531.271258715193, 19220.60901597017, 19149.28785726799, 27671.099528278854, 23165.539639474257, 19743.896313731504, 28443.94742866256, 3285.8604431927592, 890.1037940598206, 618.0753864768674, 616.579534439355, 609.4109767647574, 506.51785796721055, 494.5212362706122, 453.9700780414067, 398.21086965327885, 387.2643175884136, 381.7545469701509, 363.44927554740605, 294.4838757775095, 292.85153077201016, 287.11236498219586, 277.65813467312637, 271.45888427945283, 263.09817505940197, 255.91014835617125, 254.7053112144725, 247.43387307067, 229.93317991750305, 228.42169900912236, 225.91867303343977, 213.3617969708547, 201.94800568387961, 201.03826273325802, 191.0529595665881, 186.99756758946904, 181.64938974929245, 1476.4320240737013, 279.0205833508744, 2129.319741873929, 799.82058684664, 1725.732215408319, 3134.0036331051083, 636.924000183904, 2416.6048458364844, 368.8965183132969, 1122.5422179292793, 1677.3770015440116, 491.43717873586627, 3376.064047064448, 1162.5317762231593, 845.8304257904247, 1936.725918473587, 4103.887946182294, 1006.3716940699, 854.6545504336036, 3680.3990561181913, 714.1731230143856, 2244.01293471929, 3800.8583609519123, 1277.3548586742652, 1154.4220423522515, 9189.055911449603, 3642.452743999497, 2804.4358659580585, 16180.504903309673, 5914.907755445855, 7285.119122959997, 6223.88839529525, 3839.8365512802543, 3727.167610652999, 9170.008344406615, 5610.318265787512, 27381.409965884894, 16272.059055739372, 6867.901758908342, 77539.86266135542, 14140.89236358335, 5095.943521429302, 20086.35372704858, 27079.521135799245, 14557.329929944297, 10662.729949089158, 12540.962769096555, 43283.5334682088, 15573.888379913249, 727.013330817304, 581.8321461367342, 564.6527921821721, 393.50626939811696, 296.9144868989435, 277.01776630091456, 235.36578554744062, 230.18357691162, 223.0978631442556, 222.25602080895405, 220.62129834898525, 220.19977471855657, 216.76119436829262, 213.02461655646317, 210.3498008362052, 208.2067242750081, 204.05730171750477, 197.94561474047813, 194.78065996382767, 193.85731638245872, 188.8526343914908, 180.8915192494778, 180.00030901340892, 179.23638250720316, 179.24589723538, 178.48118943236045, 178.2614333552733, 177.3397425819617, 173.22035018806437, 170.02867570962147, 4877.007002057037, 1231.368557613324, 407.62316083907035, 5415.107207530935, 3111.0282522346, 1784.2633650158339, 313.79058378577696, 818.751004277412, 371.60868444162446, 3641.1323497205763, 3910.1218598141168, 748.1534734704933, 314.5259306806646, 8024.773387287947, 2554.936761965649, 7681.8068939085315, 719.9790705893437, 1317.9044778423522, 2837.8280222823264, 8253.025347686344, 3452.1602967306817, 10622.611061477915, 4442.859261795148, 18467.766393726495, 2159.24381014322, 6223.88839529525, 1098.723870013769, 17398.59971201411, 4345.605159187454, 4181.724268244126, 5945.031522825734, 3784.9754519255657, 16180.504903309673, 3530.6305379502232, 5341.53918087911, 5372.6367923332145, 34484.25874895112, 4323.269790865392, 11642.291509013941, 20086.35372704858, 77539.86266135542, 117937.09209944487, 19292.18914142935, 27079.521135799245, 20478.64170064958, 981.6219716291371, 976.6375077750201, 943.5535732519655, 745.4310507904247, 618.4032975992444, 597.6305372927976, 542.5530540519403, 529.4356924890576, 518.4268963334598, 517.1959403794701, 500.88995819702296, 499.0679216021914, 491.46186926033437, 487.63811795114424, 477.1287728007298, 475.4913204374529, 472.52054651563094, 403.84092972037274, 365.2548376606116, 363.1682352587832, 352.12998298822663, 344.4714546546013, 313.77413525266775, 310.20573526934675, 307.03559998858816, 295.4531862073782, 286.29056475773024, 283.9201786856141, 280.5003410712244, 278.87435059437104, 417.9720700609282, 932.1302253068128, 490.3412925606621, 771.1325823017163, 1354.6368734743737, 967.9179426469411, 1937.6262655363728, 1690.7421839970407, 2101.1122221478504, 1387.222949039117, 1822.969426374801, 1184.3687939483154, 624.4496637271783, 3345.026999078121, 956.9981889487649, 10346.760419333807, 1728.560062038145, 3086.2595714277873, 3881.648803512522, 1852.0293367700185, 785.0828597410866, 1154.4227616027927, 2479.6991684672134, 2241.3762925445726, 1729.9804326397375, 1244.8571050156165, 2113.2877259763195, 6690.442936905622, 1451.4058473111336, 2155.535084785969, 8494.260247818604, 5398.369698681424, 6121.788805029943, 6031.43892591082, 77539.86266135542, 27079.521135799245, 15251.584376784434, 16180.504903309673, 11144.372685674847, 20086.35372704858, 6585.556484166744, 859.6298009929976, 780.966845411238, 751.8665582897545, 724.2676450743465, 700.9919325160763, 681.1735385475821, 652.6879388266233, 605.5958924690583, 604.6480518987223, 602.2184865758842, 798.8672856719963, 437.08980646022724, 418.2466484899775, 415.3067714807646, 401.9120323404878, 378.06474558077525, 364.7610018070361, 357.7327218620489, 356.8558752110086, 352.80506749969084, 329.6595056100917, 327.67182978041063, 313.1248827737579, 312.26001879535113, 300.8655307470692, 295.62735673399266, 294.2583825047406, 286.12946648724557, 285.2982202912918, 280.89051429752215, 946.2658399487357, 1388.325879324892, 1506.6895580206267, 437.4617049035649, 856.6797762246711, 1319.1197251405556, 1105.3035174173333, 1090.8217604658041, 516.8912061815553, 659.7642869708723, 2347.7968350833453, 1880.2227430070793, 636.4449170569771, 1241.8100513056138, 6664.737462977183, 1516.085905645108, 714.8823505824787, 1551.1687575813276, 1187.4487296683942, 3139.7315400332113, 9315.568019115633, 1349.8018675830963, 2784.3101297342732, 3077.905188976721, 11221.741161587395, 9352.803444678575, 6785.448826346195, 7829.306471748471, 2499.543515859872, 3873.712710500579, 5398.369698681424, 2879.3535703138564, 4332.5647256339935, 4654.844220772258, 6383.6946238347955, 6507.231437030927, 3232.09521627567, 13004.030227562745, 77539.86266135542, 5166.7028938892545, 8243.169497572524, 18898.772880412584, 4277.220848728289, 1284.3462235654736, 815.8426646971084, 616.5298006615791, 501.93408069913886, 459.8390675291833, 387.1502112228988, 386.0085331780151, 364.3458520737853, 349.89568937792694, 346.1209101959471, 341.1952080866772, 326.5165119755654, 323.89499227839684, 310.1034285797538, 310.039256904988, 287.37381451903843, 284.65536666418325, 269.37342500574255, 267.610237433989, 264.8148549861642, 263.6043489589275, 257.8533917453481, 249.78544876784557, 247.66941239659437, 244.25649264773253, 242.3010246572049, 238.20578128776907, 224.0951583076937, 218.56391718271885, 216.09931192720168, 763.613739429094, 2243.9175539605094, 1647.873398162235, 2280.5860698895685, 902.0641395840701, 1155.2952403040977, 2689.9427285691168, 704.9092344649981, 1081.128755450677, 2042.176671925576, 1557.1773322709344, 877.5866410311737, 1279.3757397388836, 9022.902215144235, 483.8584617374809, 856.9981829921628, 2610.4859628291942, 910.0694373858371, 2753.584254082788, 6507.231437030927, 1858.6765896979068, 5354.2564642742755, 18898.772880412584, 2380.368412049218, 12540.962769096555, 1635.8544634676632, 2479.6991684672134, 18467.766393726495]}, \"plot.opts\": {\"ylab\": \"PC2\", \"xlab\": \"PC1\"}, \"topic.order\": [2, 9, 5, 8, 3, 1, 10, 6, 7, 4]};\n",
       "\n",
       "function LDAvis_load_lib(url, callback){\n",
       "  var s = document.createElement('script');\n",
       "  s.src = url;\n",
       "  s.async = true;\n",
       "  s.onreadystatechange = s.onload = callback;\n",
       "  s.onerror = function(){console.warn(\"failed to load library \" + url);};\n",
       "  document.getElementsByTagName(\"head\")[0].appendChild(s);\n",
       "}\n",
       "\n",
       "if(typeof(LDAvis) !== \"undefined\"){\n",
       "   // already loaded: just create the visualization\n",
       "   !function(LDAvis){\n",
       "       new LDAvis(\"#\" + \"ldavis_el93571398062721089684575120421\", ldavis_el93571398062721089684575120421_data);\n",
       "   }(LDAvis);\n",
       "}else if(typeof define === \"function\" && define.amd){\n",
       "   // require.js is available: use it to load d3/LDAvis\n",
       "   require.config({paths: {d3: \"https://cdnjs.cloudflare.com/ajax/libs/d3/3.5.5/d3.min\"}});\n",
       "   require([\"d3\"], function(d3){\n",
       "      window.d3 = d3;\n",
       "      LDAvis_load_lib(\"https://cdn.rawgit.com/bmabey/pyLDAvis/files/ldavis.v1.0.0.js\", function(){\n",
       "        new LDAvis(\"#\" + \"ldavis_el93571398062721089684575120421\", ldavis_el93571398062721089684575120421_data);\n",
       "      });\n",
       "    });\n",
       "}else{\n",
       "    // require.js not available: dynamically load d3 & LDAvis\n",
       "    LDAvis_load_lib(\"https://cdnjs.cloudflare.com/ajax/libs/d3/3.5.5/d3.min.js\", function(){\n",
       "         LDAvis_load_lib(\"https://cdn.rawgit.com/bmabey/pyLDAvis/files/ldavis.v1.0.0.js\", function(){\n",
       "                 new LDAvis(\"#\" + \"ldavis_el93571398062721089684575120421\", ldavis_el93571398062721089684575120421_data);\n",
       "            })\n",
       "         });\n",
       "}\n",
       "</script>"
      ],
      "text/plain": [
       "PreparedData(topic_coordinates=            Freq  cluster  topics         x         y\n",
       "topic                                                \n",
       "1      21.112416        1       1  0.176790  0.037284\n",
       "8      14.883590        1       2  0.139710  0.119403\n",
       "4      14.123828        1       3  0.046644  0.056373\n",
       "7      12.566812        1       4  0.148490  0.019380\n",
       "2       8.962271        1       5  0.122214  0.029097\n",
       "0       8.159378        1       6 -0.010375 -0.175583\n",
       "9       6.918297        1       7  0.035243 -0.001053\n",
       "5       5.415641        1       8 -0.106923 -0.291888\n",
       "6       5.221889        1       9 -0.216541  0.034220\n",
       "3       2.635879        1      10 -0.335251  0.172767, topic_info=      Category           Freq     Term          Total  loglift  logprob\n",
       "term                                                                   \n",
       "52079  Default  117937.000000     film  117937.000000  30.0000  30.0000\n",
       "1950   Default   26992.000000      bad   26992.000000  29.0000  29.0000\n",
       "19066  Default   18467.000000     love   18467.000000  28.0000  28.0000\n",
       "41777  Default    9022.000000    music    9022.000000  27.0000  27.0000\n",
       "42470  Default   17398.000000     life   17398.000000  26.0000  26.0000\n",
       "30551  Default   27671.000000   people   27671.000000  25.0000  25.0000\n",
       "28193  Default   16954.000000     show   16954.000000  24.0000  24.0000\n",
       "21009  Default   58802.000000     like   58802.000000  23.0000  23.0000\n",
       "26797  Default   27212.000000    great   27212.000000  22.0000  22.0000\n",
       "37634  Default   34698.000000   really   34698.000000  21.0000  21.0000\n",
       "15488  Default   43283.000000     good   43283.000000  20.0000  20.0000\n",
       "36017  Default   39796.000000    would   39796.000000  19.0000  19.0000\n",
       "3305   Default   34484.000000    story   34484.000000  18.0000  18.0000\n",
       "18241  Default   33672.000000      see   33672.000000  17.0000  17.0000\n",
       "25838  Default   10346.000000   action   10346.000000  16.0000  16.0000\n",
       "44610  Default   13041.000000    funny   13041.000000  15.0000  15.0000\n",
       "40088  Default   20863.000000    films   20863.000000  14.0000  14.0000\n",
       "33842  Default    9352.000000   comedy    9352.000000  13.0000  13.0000\n",
       "33340  Default   22449.000000   movies   22449.000000  12.0000  12.0000\n",
       "45376  Default   21015.000000    think   21015.000000  11.0000  11.0000\n",
       "17691  Default    8024.000000   family    8024.000000  10.0000  10.0000\n",
       "35260  Default   13004.000000    years   13004.000000   9.0000   9.0000\n",
       "2388   Default   27381.000000      get   27381.000000   8.0000   8.0000\n",
       "9837   Default    8253.000000     girl    8253.000000   7.0000   7.0000\n",
       "53030  Default   19743.000000    watch   19743.000000   6.0000   6.0000\n",
       "29393  Default    7681.000000    woman    7681.000000   5.0000   5.0000\n",
       "1657   Default   11221.000000     cast   11221.000000   4.0000   4.0000\n",
       "17674  Default   10622.000000    young   10622.000000   3.0000   3.0000\n",
       "24095  Default    9597.000000      saw    9597.000000   2.0000   2.0000\n",
       "27415  Default    4877.000000   mother    4877.000000   1.0000   1.0000\n",
       "...        ...            ...      ...            ...      ...      ...\n",
       "5929   Topic10     217.671896   brando     218.563917   3.6319  -6.9416\n",
       "50504  Topic10     215.207214   reilly     216.099312   3.6318  -6.9530\n",
       "55755  Topic10     749.387551     sing     763.613739   3.6171  -5.7054\n",
       "26886  Topic10    2062.730080  musical    2243.917554   3.5518  -4.6928\n",
       "17721  Topic10    1401.972036    dance    1647.873398   3.4743  -5.0790\n",
       "52289  Topic10    1843.958175    songs    2280.586070   3.4234  -4.8050\n",
       "49972  Topic10     796.643895   singer     902.064140   3.5117  -5.6442\n",
       "37838  Topic10     951.452012  dancing    1155.295240   3.4418  -5.4666\n",
       "18633  Topic10    1980.557232     song    2689.942729   3.3298  -4.7335\n",
       "12448  Topic10     610.542236    kelly     704.909234   3.4922  -5.9103\n",
       "42661  Topic10     765.363522   prince    1081.128755   3.2905  -5.6843\n",
       "26232  Topic10    1222.534374    stage    2042.176672   3.1229  -5.2160\n",
       "7988   Topic10     994.185644   disney    1557.177332   3.1872  -5.4227\n",
       "23128  Topic10     638.120842  numbers     877.586641   3.3173  -5.8661\n",
       "47246  Topic10     828.047239     band    1279.375740   3.2009  -5.6056\n",
       "41777  Topic10    3374.380351    music    9022.902215   2.6524  -4.2007\n",
       "8407   Topic10     387.537870   brooks     483.858462   3.4140  -6.3648\n",
       "10313  Topic10     505.435054    opera     856.998183   3.1079  -6.0992\n",
       "51915  Topic10     839.990869    voice    2610.485963   2.5021  -5.5912\n",
       "24105  Topic10     480.027592    brown     910.069437   2.9963  -6.1508\n",
       "44563  Topic10     707.058909   number    2753.584254   2.2764  -5.7635\n",
       "53649  Topic10     895.121351     play    6507.231437   1.6522  -5.5277\n",
       "46400  Topic10     593.996243     rock    1858.676590   2.4952  -5.9378\n",
       "52957  Topic10     767.977814  version    5354.256464   1.6941  -5.6809\n",
       "2244   Topic10    1052.960107     best   18898.772880   0.7485  -5.3653\n",
       "21545  Topic10     596.724701     york    2380.368412   2.2524  -5.9332\n",
       "31669  Topic10     896.556948      new   12540.962769   0.9978  -5.5261\n",
       "17470  Topic10     517.178166    oscar    1635.854463   2.4844  -6.0762\n",
       "5477   Topic10     547.694560     king    2479.699168   2.1258  -6.0189\n",
       "19066  Topic10     553.255569     love   18467.766394   0.1280  -6.0088\n",
       "\n",
       "[821 rows x 6 columns], token_table=       Topic      Freq     Term\n",
       "term                           \n",
       "29042      1  0.998167     1/10\n",
       "32033      2  0.079064       12\n",
       "32033      3  0.062706       12\n",
       "32033      5  0.800183       12\n",
       "32033      6  0.005453       12\n",
       "32033      7  0.051801       12\n",
       "46070      1  0.045870       13\n",
       "46070      2  0.107507       13\n",
       "46070      3  0.020068       13\n",
       "46070      5  0.784083       13\n",
       "46070      7  0.041569       13\n",
       "20483      1  0.997803     2/10\n",
       "26732      1  0.995948     3/10\n",
       "11391      5  0.993779       3d\n",
       "6802       4  0.994224     9/11\n",
       "3236       5  0.993379       93\n",
       "1318      10  0.997297   abbott\n",
       "45236      2  0.995680      abc\n",
       "2080       1  0.998192  abysmal\n",
       "13051      1  0.611987   acting\n",
       "13051      2  0.238503   acting\n",
       "13051      3  0.132694   acting\n",
       "13051      7  0.016845   acting\n",
       "25838      1  0.126610   action\n",
       "25838      2  0.241042   action\n",
       "25838      3  0.047841   action\n",
       "25838      6  0.131732   action\n",
       "25838      8  0.452702   action\n",
       "16348      1  0.189859    actor\n",
       "16348      2  0.351051    actor\n",
       "...      ...       ...      ...\n",
       "35260      4  0.063211    years\n",
       "35260      5  0.541832    years\n",
       "35260      6  0.006460    years\n",
       "35260      7  0.069132    years\n",
       "35260      8  0.000308    years\n",
       "35260      9  0.113734    years\n",
       "35260     10  0.012381    years\n",
       "48113      5  0.993300      yor\n",
       "21545      2  0.060495     york\n",
       "21545      3  0.113008     york\n",
       "21545      4  0.025626     york\n",
       "21545      5  0.015124     york\n",
       "21545      6  0.323899     york\n",
       "21545      7  0.116369     york\n",
       "21545      9  0.094943     york\n",
       "21545     10  0.250802     york\n",
       "17674      1  0.001977    young\n",
       "17674      2  0.000282    young\n",
       "17674      3  0.180558    young\n",
       "17674      4  0.034925    young\n",
       "17674      5  0.092162    young\n",
       "17674      6  0.095645    young\n",
       "17674      7  0.497241    young\n",
       "17674      8  0.001224    young\n",
       "17674      9  0.082842    young\n",
       "17674     10  0.013085    young\n",
       "19615      2  0.997488    zohan\n",
       "9070       1  0.999237   zombie\n",
       "38144      1  0.935542  zombies\n",
       "38144      8  0.064065  zombies\n",
       "\n",
       "[2355 rows x 3 columns], R=30, lambda_step=0.01, plot_opts={'ylab': 'PC2', 'xlab': 'PC1'}, topic_order=[2, 9, 5, 8, 3, 1, 10, 6, 7, 4])"
      ]
     },
     "execution_count": 79,
     "metadata": {},
     "output_type": "execute_result"
    }
   ],
   "source": [
    "import pyLDAvis\n",
    "import pyLDAvis.gensim\n",
    "pyLDAvis.enable_notebook()\n",
    "pyLDAvis.gensim.prepare(lda_tf, corpus_tf, dictionary)"
   ]
  },
  {
   "cell_type": "markdown",
   "metadata": {},
   "source": [
    "Making predictions with LDA vectors (we'll have to use the labeled set):"
   ]
  },
  {
   "cell_type": "code",
   "execution_count": null,
   "metadata": {
    "collapsed": true
   },
   "outputs": [],
   "source": [
    "#For predictions we need only the labeled set:\n",
    "print(\"Parsing sentences from training set...\")\n",
    "sentences2 = Text_Cleaning_Utilities.df_to_list_of_tokens(train,\n",
    "                                                         'review', \n",
    "                                                         remove_html=True,\n",
    "                                                         remove_stopwords=True,)\n",
    "\n",
    "print(\"Creating Dictionary\")\n",
    "additional_stopwords=set(['n\\'t', 'movie'])\n",
    "dictionary2 = prep_corpus(sentences2, additional_stopwords)\n",
    "dictionary2.compactify()\n",
    "print('dictionary done')\n",
    "\n",
    "print(\"Creating Corpora\")\n",
    "corpus_tf2 = [dictionary2.doc2bow(sentence) for sentence in sentences2]\n",
    "print('corpus tf done')\n",
    "\n",
    "lda_tf2 = models.LdaModel(corpus_tf2, id2word=dictionary2, num_topics=10, passes=10)\n",
    "corpus_lda_tf2 = lda_tf2[corpus_tf2]\n",
    "print('corpus lda tf done')\n",
    "\n",
    "print('Creating lda vectors')\n",
    "X = gensim.matutils.corpus2csc(corpus_lda_tf2)\n",
    "X = X.T\n",
    "print('lda vectors done')"
   ]
  },
  {
   "cell_type": "code",
   "execution_count": 81,
   "metadata": {
    "collapsed": false
   },
   "outputs": [],
   "source": [
    "X_traincv_tf, X_testcv_tf, y_traincv_tf, y_testcv_tf = train_test_split(X,\n",
    "                                                                        train[\"sentiment\"],\n",
    "                                                                        test_size=0.2,\n",
    "                                                                        random_state=0)"
   ]
  },
  {
   "cell_type": "code",
   "execution_count": 82,
   "metadata": {
    "collapsed": false
   },
   "outputs": [],
   "source": [
    "from sklearn.linear_model import LogisticRegression as LR\n",
    "\n",
    "clf_LR_tf_lda = LR(penalty='l2',\n",
    "                   dual=False,\n",
    "                   tol=0.0001,\n",
    "                   C=1.0,\n",
    "                   fit_intercept=True,\n",
    "                   intercept_scaling=1,\n",
    "                   class_weight=None,\n",
    "                   random_state=0,\n",
    "                   solver='liblinear',\n",
    "                   max_iter=100,\n",
    "                   multi_class='ovr',\n",
    "                   verbose=0).fit(X_traincv_tf, y_traincv_tf)"
   ]
  },
  {
   "cell_type": "code",
   "execution_count": 83,
   "metadata": {
    "collapsed": false
   },
   "outputs": [
    {
     "name": "stdout",
     "output_type": "stream",
     "text": [
      "0.7626\n"
     ]
    }
   ],
   "source": [
    "eval_LR_tf_lda = clf_LR_tf_lda.score(X_testcv_tf, y_testcv_tf)\n",
    "print(eval_LR_tf_lda)"
   ]
  },
  {
   "cell_type": "markdown",
   "metadata": {},
   "source": [
    "### Distributed Word Vectors\n",
    "\n",
    "https://www.kaggle.com/c/word2vec-nlp-tutorial/details/part-2-word-vectors  \n",
    "\n",
    "Introducing Distributed Word Vectors: This part of the tutorial will focus on using distributed word vectors created by the Word2Vec algorithm.\n",
    "\n",
    "Word2vec, published by Google in 2013, is a neural network implementation that learns distributed representations for words. Other deep or recurrent neural network architectures had been proposed for learning word representations prior to this, but the major problem with these was the long time required to train the models. Word2vec learns quickly relative to other models.\n",
    "\n",
    "Word2Vec does not need labels in order to create meaningful representations. This is useful, since most data in the real world is unlabeled. If the network is given enough training data (tens of billions of words), it produces word vectors with intriguing characteristics. Words with similar meanings appear in clusters, and clusters are spaced such that some word relationships, such as analogies, can be reproduced using vector math. The famous example is that, with highly trained word vectors, \"king - man + woman = queen.\"\n",
    "\n",
    "Distributed word vectors are powerful and can be used for many applications, particularly word prediction and translation. Here, we will try to apply them to sentiment analysis.\n",
    "\n",
    "Using word2vec in Python: In Python, we will use the excellent implementation of word2vec from the gensim package. If you don't already have gensim installed, you'll need to install it. There is an excellent tutorial that accompanies the Python Word2Vec implementation, here.\n",
    "\n",
    "Although Word2Vec does not require graphics processing units (GPUs) like many deep learning algorithms, it is compute intensive. Both Google's version and the Python version rely on multi-threading (running multiple processes in parallel on your computer to save time). ln order to train your model in a reasonable amount of time, you will need to install cython (instructions here). Word2Vec will run without cython installed, but it will take days to run instead of minutes. "
   ]
  },
  {
   "cell_type": "code",
   "execution_count": 84,
   "metadata": {
    "collapsed": true
   },
   "outputs": [],
   "source": [
    "# Import the built-in logging module and configure it so that Word2Vec creates nice output messages\n",
    "logging.basicConfig(format='%(asctime)s : %(levelname)s : %(message)s', level=logging.INFO)"
   ]
  },
  {
   "cell_type": "markdown",
   "metadata": {},
   "source": [
    "Preparing to Train a Model\n",
    "\n",
    "First, we read in the data with pandas, as we did in Part 1. Unlike Part 1, we now use unlabeledTrain.tsv, which contains 50,000 additional reviews with no labels. When we built the Bag of Words model in Part 1, extra unlabeled training reviews were not useful. However, since Word2Vec can learn from unlabeled data, these extra 50,000 reviews can now be used.  \n",
    "\n",
    "The functions we write to clean the data are also similar to Part 1, although now there are a couple of differences. First, to train Word2Vec it is better not to remove stop words because the algorithm relies on the broader context of the sentence in order to produce high-quality word vectors. For this reason, we will make stop word removal optional in the functions below. It also might be better not to remove numbers, but we leave that as an exercise for the reader. "
   ]
  },
  {
   "cell_type": "markdown",
   "metadata": {},
   "source": [
    "Creating Sentences (with stopwords) "
   ]
  },
  {
   "cell_type": "code",
   "execution_count": null,
   "metadata": {
    "collapsed": true
   },
   "outputs": [],
   "source": [
    "print(\"Parsing sentences from training set\")\n",
    "sentences_w2v = Text_Cleaning_Utilities.df_to_list_of_tokens(train,\n",
    "                                                         'review', \n",
    "                                                         remove_html=True,\n",
    "                                                         remove_stopwords=False,)\n",
    "print(\"Parsing sentences from unlabeled set\")\n",
    "sentencesw2v += Text_Cleaning_Utilities.df_to_list_of_tokens(unlabeled_train,\n",
    "                                                          'review', \n",
    "                                                          remove_html=True,\n",
    "                                                          remove_stopwords=False,)"
   ]
  },
  {
   "cell_type": "markdown",
   "metadata": {},
   "source": [
    "https://radimrehurek.com/gensim/models/word2vec.html  \n",
    "\n",
    "Training and Saving Your Model\n",
    "\n",
    "With the list of nicely parsed sentences, we're ready to train the model. There are a number of parameter choices that affect the run time and the quality of the final model that is produced. For details on the algorithms below, see the word2vec API documentation as well as the Google documentation. \n",
    "\n",
    "Architecture: Architecture options are skip-gram (default) or continuous bag of words. We found that skip-gram was very slightly slower but produced better results.\n",
    "\n",
    "Training algorithm: Hierarchical softmax (default) or negative sampling. For us, the default worked well.\n",
    "\n",
    "Downsampling of frequent words: The Google documentation recommends values between .00001 and .001. For us, values closer 0.001 seemed to improve the accuracy of the final model.\n",
    "\n",
    "Word vector dimensionality: More features result in longer runtimes, and often, but not always, result in better models. Reasonable values can be in the tens to hundreds; we used 300.\n",
    "\n",
    "Context / window size: How many words of context should the training algorithm take into account? 10 seems to work well for hierarchical softmax (more is better, up to a point).\n",
    "\n",
    "Worker threads: Number of parallel processes to run. This is computer-specific, but between 4 and 6 should work on most systems.\n",
    "\n",
    "Minimum word count: This helps limit the size of the vocabulary to meaningful words. Any word that does not occur at least this many times across all documents is ignored. Reasonable values could be between 10 and 100. In this case, since each movie occurs 30 times, we set the minimum word count to 40, to avoid attaching too much importance to individual movie titles. This resulted in an overall vocabulary size of around 15,000 words. Higher values also help limit run time.\n",
    "\n",
    "Choosing parameters is not easy, but once we have chosen our parameters, creating a Word2Vec model is straightforward:"
   ]
  },
  {
   "cell_type": "code",
   "execution_count": null,
   "metadata": {
    "collapsed": true
   },
   "outputs": [],
   "source": [
    "num_features = 300    # Word vector dimensionality\n",
    "min_word_count = 10   # Minimum word count\n",
    "num_workers = -1       # Number of threads to run in parallel\n",
    "context = 10          # Context window size\n",
    "downsampling = 1e-3   # Downsample setting for frequent words"
   ]
  },
  {
   "cell_type": "code",
   "execution_count": null,
   "metadata": {
    "collapsed": false
   },
   "outputs": [],
   "source": [
    "# Initialize and train the model (this will take some time)\n",
    "model = Word2Vec(sentencesw2v,\n",
    "                 workers = num_workers,\n",
    "                 size = num_features,\n",
    "                 min_count = min_word_count, \n",
    "                 window = context,\n",
    "                 sample = downsampling,\n",
    "                 seed=1,)\n",
    "\n",
    "##Optionally converting the model for Bigrams (to capture more context):\n",
    "\n",
    "#bigram_transformer = gensim.models.Phrases(sentences_w2v)\n",
    "#model = Word2Vec(bigram_transformer[sentences_w2v],\n",
    "#                 workers = num_workers,\n",
    "#                 size = num_features,\n",
    "#                 min_count = min_word_count, \n",
    "#                 window = context,\n",
    "#                 sample = downsampling,\n",
    "#                 seed=1,)\n",
    "\n",
    "# If you don't plan to train the model any further, calling init_sims will make the model much more memory-efficient.\n",
    "model.init_sims(replace=True)"
   ]
  },
  {
   "cell_type": "markdown",
   "metadata": {},
   "source": [
    "Saving the Model"
   ]
  },
  {
   "cell_type": "code",
   "execution_count": null,
   "metadata": {
    "collapsed": true
   },
   "outputs": [],
   "source": [
    "model_name = \"{}features_{}minwords_{}context\".format(num_features, min_word_count, context)\n",
    "model.save(os.path.join(outputs,model_name))\n",
    "model = Word2Vec.load(os.path.join(outputs,model_name))"
   ]
  },
  {
   "cell_type": "markdown",
   "metadata": {},
   "source": [
    "Exploring the Model Results\n",
    "\n",
    "Congratulations on making it successfully through everything so far! Let's take a look at the model we created out of our 75,000 training reviews.\n",
    "\n",
    "The \"doesnt_match\" function will try to deduce which word in a set is most dissimilar from the others:"
   ]
  },
  {
   "cell_type": "code",
   "execution_count": null,
   "metadata": {
    "collapsed": false
   },
   "outputs": [],
   "source": [
    "print(model.doesnt_match(\"man woman child kitchen\".split()))\n",
    "print(model.doesnt_match(\"france england germany berlin\".split()))\n",
    "print(model.doesnt_match(\"paris berlin london austria\".split()))\n",
    "print(model.most_similar(\"man\"))\n",
    "print(model.most_similar(\"queen\"))\n",
    "print(model.most_similar(\"awful\"))"
   ]
  },
  {
   "cell_type": "markdown",
   "metadata": {},
   "source": [
    "So it seems we have a reasonably good model for semantic meaning - at least as good as Bag of Words. But how can we use these fancy distributed word vectors for supervised learning? The next section takes a stab at that."
   ]
  },
  {
   "cell_type": "markdown",
   "metadata": {},
   "source": [
    "Part 3: More Fun With Word Vectors\n",
    "--\n",
    "\n",
    "https://www.kaggle.com/c/word2vec-nlp-tutorial/details/part-3-more-fun-with-word-vectors  \n",
    "\n",
    "Numeric Representations of Words\n",
    "\n",
    "Now that we have a trained model with some semantic understanding of words, how should we use it? If you look beneath the hood, the Word2Vec model trained in Part 2 consists of a feature vector for each word in the vocabulary, stored in a numpy array called \"syn0\":"
   ]
  },
  {
   "cell_type": "code",
   "execution_count": null,
   "metadata": {
    "collapsed": true
   },
   "outputs": [],
   "source": [
    "model = Word2Vec.load(os.path.join(outputs,model_name))"
   ]
  },
  {
   "cell_type": "code",
   "execution_count": null,
   "metadata": {
    "collapsed": false
   },
   "outputs": [],
   "source": [
    "model.syn0.shape"
   ]
  },
  {
   "cell_type": "markdown",
   "metadata": {},
   "source": [
    "The number of rows in syn0 is the number of words in the model's vocabulary, and the number of columns corresponds to the size of the feature vector, which we set in Part 2.  Setting the minimum word count to 40 gave us a total vocabulary of 16,492 words with 300 features apiece. Individual word vectors can be accessed in the following way:"
   ]
  },
  {
   "cell_type": "code",
   "execution_count": null,
   "metadata": {
    "collapsed": false
   },
   "outputs": [],
   "source": [
    "model[\"flower\"][0:10]"
   ]
  },
  {
   "cell_type": "code",
   "execution_count": null,
   "metadata": {
    "collapsed": false
   },
   "outputs": [],
   "source": [
    "model.index2word[0:10]"
   ]
  },
  {
   "cell_type": "markdown",
   "metadata": {},
   "source": [
    "From Words To Paragraphs, \n",
    "--\n",
    "Attempt 1:  Vector Averaging  \n",
    "--\n",
    "\n",
    "One challenge with the IMDB dataset is the variable-length reviews. We need to find a way to take individual word vectors and transform them into a feature set that is the same length for every review.\n",
    "\n",
    "Since each word is a vector in 300-dimensional space, we can use vector operations to combine the words in each review. One method we tried was to simply average the word vectors in a given review (for this purpose, we removed stop words, which would just add noise).\n",
    "\n",
    "The following code averages the feature vectors, building on our code from Part 2. "
   ]
  },
  {
   "cell_type": "code",
   "execution_count": null,
   "metadata": {
    "collapsed": true
   },
   "outputs": [],
   "source": [
    "def makeFeatureVec(words, model, num_features):\n",
    "    # Function to average all of the word vectors in a given paragraph\n",
    "    # Pre-initialize an empty numpy array (for speed)\n",
    "    featureVec = np.zeros((num_features,),dtype=\"float32\")\n",
    "    nwords = 0.\n",
    "    # Index2word is a list that contains the names of the words in the model's vocabulary. \n",
    "    #Convert it to a set, for speed\n",
    "    index2word_set = set(model.index2word)\n",
    "    # Loop over each word in the review and, if it is in the model's\n",
    "    # vocabulary, add its feature vector to the total\n",
    "    for word in words:\n",
    "        if word in index2word_set:\n",
    "            nwords = nwords + 1.\n",
    "            featureVec = np.add(featureVec,model[word])\n",
    "    # Divide the result by the number of words to get the average\n",
    "    featureVec = np.divide(featureVec,nwords)\n",
    "    return featureVec"
   ]
  },
  {
   "cell_type": "code",
   "execution_count": null,
   "metadata": {
    "collapsed": true
   },
   "outputs": [],
   "source": [
    "def getAvgFeatureVecs(reviews, model, num_features):\n",
    "    # Given a set of reviews (each one a list of words), calculate\n",
    "    # the average feature vector for each one and return a 2D numpy array\n",
    "    # Initialize a counter\n",
    "    counter = 0.\n",
    "    # Preallocate a 2D numpy array, for speed\n",
    "    reviewFeatureVecs = np.zeros((len(reviews),num_features),dtype=\"float32\")\n",
    "    # Loop through the reviews\n",
    "    for review in reviews:\n",
    "        # Print a status message every 2000th review\n",
    "        if counter%2000. == 0.:\n",
    "            print(\"Review {} of {}\".format(counter, len(reviews)))\n",
    "        #Call the function (defined above) that makes average feature vectors\n",
    "        reviewFeatureVecs[counter] = makeFeatureVec(review, model, num_features)\n",
    "        counter = counter + 1.\n",
    "    return reviewFeatureVecs"
   ]
  },
  {
   "cell_type": "markdown",
   "metadata": {},
   "source": [
    "Let's use the pickles from Part 1  "
   ]
  },
  {
   "cell_type": "code",
   "execution_count": null,
   "metadata": {
    "collapsed": false
   },
   "outputs": [],
   "source": [
    "with open(os.path.join(outputs, 'clean_reviews.pkl'),'rb') as f:\n",
    "    (clean_train_reviews, \n",
    "     clean_test_reviews,\n",
    "     clean_train_reviews_sw,\n",
    "     clean_test_reviews_sw) = pickle.load(f)"
   ]
  },
  {
   "cell_type": "markdown",
   "metadata": {},
   "source": [
    "Now, we can call these functions to create average vectors for each paragraph. The following operations will take a few minutes:  "
   ]
  },
  {
   "cell_type": "code",
   "execution_count": null,
   "metadata": {
    "collapsed": false
   },
   "outputs": [],
   "source": [
    "# Calculate average feature vectors for training and testing sets, using the functions \n",
    "# we defined above. Notice that we now use stop word removal.\n",
    "trainDataVecs = getAvgFeatureVecs(clean_train_reviews, model, num_features)"
   ]
  },
  {
   "cell_type": "code",
   "execution_count": null,
   "metadata": {
    "collapsed": false
   },
   "outputs": [],
   "source": [
    "trainDataVecs[100]"
   ]
  },
  {
   "cell_type": "code",
   "execution_count": null,
   "metadata": {
    "collapsed": true
   },
   "outputs": [],
   "source": [
    "from sklearn.preprocessing import Imputer\n",
    "trainDataVecs = Imputer().fit_transform(trainDataVecs)"
   ]
  },
  {
   "cell_type": "markdown",
   "metadata": {},
   "source": [
    "Next, use the average paragraph vectors with the classifiers from Part 1.  \n",
    "Note that, as in Part 1, we can only use the labeled training reviews to train the model. "
   ]
  },
  {
   "cell_type": "code",
   "execution_count": null,
   "metadata": {
    "collapsed": true
   },
   "outputs": [],
   "source": [
    "X_traincvWV, X_testcvWV, y_traincvWV, y_testcvWV = train_test_split(trainDataVecs,\n",
    "                                                                    train[\"sentiment\"],\n",
    "                                                                    test_size=0.2,\n",
    "                                                                    random_state=0)"
   ]
  },
  {
   "cell_type": "code",
   "execution_count": null,
   "metadata": {
    "collapsed": false
   },
   "outputs": [],
   "source": [
    "# Initialize a Random Forest classifier with 300 trees\n",
    "clf_RF_WV = RandomForestClassifier(n_estimators=300, \n",
    "                                   criterion='gini', \n",
    "                                   max_depth=None, \n",
    "                                   min_samples_split=2, \n",
    "                                   min_samples_leaf=1, \n",
    "                                   min_weight_fraction_leaf=0.0, \n",
    "                                   max_features='auto', \n",
    "                                   max_leaf_nodes=None, \n",
    "                                   bootstrap=False, \n",
    "                                   oob_score=False, \n",
    "                                   n_jobs=-1, \n",
    "                                   random_state=None, \n",
    "                                   verbose=0, \n",
    "                                   warm_start=False, \n",
    "                                   class_weight=None).fit(X_traincvWV, y_traincvWV)\n",
    "\n",
    "eval_RF_WV_tts = clf_RF_WV.score(X_testcvWV, y_testcvWV)\n",
    "print(eval_RF_WV_tts)"
   ]
  },
  {
   "cell_type": "code",
   "execution_count": null,
   "metadata": {
    "collapsed": false
   },
   "outputs": [],
   "source": [
    "clf_LR_WV = LR(penalty='l2',\n",
    "               dual=False,\n",
    "               tol=0.0001,\n",
    "               C=1.0,\n",
    "               fit_intercept=True,\n",
    "               intercept_scaling=1,\n",
    "               class_weight=None,\n",
    "               random_state=None,\n",
    "               solver='liblinear',\n",
    "               max_iter=100,\n",
    "               multi_class='ovr',\n",
    "               verbose=0).fit(X_traincvWV, y_traincvWV)\n",
    "\n",
    "eval_LR_WV_tts = clf_LR_WV.score(X_testcvWV, y_testcvWV)\n",
    "print(eval_LR_WV_tts)"
   ]
  },
  {
   "cell_type": "markdown",
   "metadata": {},
   "source": [
    "Creating a Submission  \n",
    "--"
   ]
  },
  {
   "cell_type": "code",
   "execution_count": null,
   "metadata": {
    "collapsed": false
   },
   "outputs": [],
   "source": [
    "testDataVecs = getAvgFeatureVecs(clean_test_reviews[0], model, num_features)"
   ]
  },
  {
   "cell_type": "code",
   "execution_count": null,
   "metadata": {
    "collapsed": false
   },
   "outputs": [],
   "source": [
    "print(np.isnan(testDataVecs).any()) #testando se não há valores que inviabilizam o treinamento\n",
    "print(np.isfinite(testDataVecs).all())"
   ]
  },
  {
   "cell_type": "code",
   "execution_count": null,
   "metadata": {
    "collapsed": false
   },
   "outputs": [],
   "source": [
    "from sklearn.preprocessing import Imputer\n",
    "testDataVecs = Imputer().fit_transform(testDataVecs)\n",
    "\n",
    "print(np.isnan(testDataVecs).any()) #testando se não há valores que inviabilizam o treinamento\n",
    "print(np.isfinite(testDataVecs).all())"
   ]
  },
  {
   "cell_type": "code",
   "execution_count": null,
   "metadata": {
    "collapsed": false
   },
   "outputs": [],
   "source": [
    "# Use the random forest to make sentiment label predictions\n",
    "result = clf_RF_WV.predict(testDataVecs)\n",
    "result_prob = clf_RF_WV.predict_proba(testDataVecs)\n",
    "output = pd.DataFrame(data={\"id\":test[\"id\"], \"sentiment\":result,})# \"probs\":result_prob[:,1]})\n",
    "# Use pandas to write the comma-separated output file\n",
    "output.to_csv(os.path.join(outputs,'Word2Vec_AverageVectors.csv'), index=False, quoting=3)"
   ]
  },
  {
   "cell_type": "code",
   "execution_count": null,
   "metadata": {
    "collapsed": false
   },
   "outputs": [],
   "source": [
    "output.head()"
   ]
  },
  {
   "cell_type": "markdown",
   "metadata": {},
   "source": [
    "We found that this produced results much better than chance, but underperformed Bag of Words by a few percentage points.\n",
    "\n",
    "Since the element-wise average of the vectors didn't produce spectacular results, perhaps we could do it in a more intelligent way? A standard way of weighting word vectors is to apply \"tf-idf\" weights, which measure how important a given word is within a given set of documents. One way to extract tf-idf weights in Python is by using scikit-learn's TfidfVectorizer, which has an interface similar to the CountVectorizer that we used in Part 1. However, when we tried weighting our word vectors in this way, we found no substantial improvement in performance."
   ]
  },
  {
   "cell_type": "markdown",
   "metadata": {},
   "source": [
    "From Words to Paragraphs, Attempt 2: Clustering \n",
    "--\n",
    "\n",
    "Word2Vec creates clusters of semantically related words, so another possible approach is to exploit the similarity of words within a cluster. Grouping vectors in this way is known as \"vector quantization.\" To accomplish this, we first need to find the centers of the word clusters, which we can do by using a clustering algorithm such as K-Means.\n",
    "\n",
    "In K-Means, the one parameter we need to set is \"K,\" or the number of clusters. How should we decide how many clusters to create? Trial and error suggested that small clusters, with an average of only 5 words or so per cluster, gave better results than large clusters with many words. Clustering code is given below. We use scikit-learn to perform our K-Means.\n",
    "\n",
    "K-Means clustering with large K can be very slow; the following code took more than 40 minutes on my computer. Below, we set a timer around the K-Means function to see how long it takes."
   ]
  },
  {
   "cell_type": "code",
   "execution_count": null,
   "metadata": {
    "collapsed": false
   },
   "outputs": [],
   "source": [
    "start = time.time()\n",
    "\n",
    "# Set \"k\" (num_clusters) to be 1/5th of the vocabulary size, or an average of 5 words per cluster\n",
    "word_vectors = model.syn0\n",
    "num_clusters = int(word_vectors.shape[0] / 5)\n",
    "\n",
    "# Initalize a k-means object and use it to extract centroids\n",
    "kmeans_clustering = KMeans(n_clusters = num_clusters)\n",
    "idx = kmeans_clustering.fit_predict(word_vectors)\n",
    "\n",
    "end = time.time()\n",
    "elapsed = end - start\n",
    "print(\"Time taken for K Means clustering: \", elapsed, \"seconds.\")"
   ]
  },
  {
   "cell_type": "markdown",
   "metadata": {},
   "source": [
    "The cluster assignment for each word is now stored in idx, and the vocabulary from our original Word2Vec model is still stored in model.index2word. For convenience, we zip these into one dictionary as follows:  "
   ]
  },
  {
   "cell_type": "code",
   "execution_count": null,
   "metadata": {
    "collapsed": true
   },
   "outputs": [],
   "source": [
    "# Create a Word / Index dictionary, mapping each vocabulary word to a cluster number\n",
    "word_centroid_map = dict(zip(model.index2word, idx))"
   ]
  },
  {
   "cell_type": "markdown",
   "metadata": {},
   "source": [
    "This is a little abstract, so let's take a closer look at what our clusters contain. Your clusters may differ, as Word2Vec relies on a random number seed. Here is a loop that prints out the words for clusters 0 through 9:\n",
    "\n",
    "Run k-means on the word vectors and print a few clusters  "
   ]
  },
  {
   "cell_type": "code",
   "execution_count": null,
   "metadata": {
    "collapsed": false
   },
   "outputs": [],
   "source": [
    "# Print the first ten clusters\n",
    "for cluster in range(0,10):\n",
    "    # Print the cluster number\n",
    "    print(\"\\nCluster {}\".format(cluster))\n",
    "    # Find all of the words for that cluster number, and print them out\n",
    "    words = []\n",
    "    for i in range(0,len(word_centroid_map.values())):\n",
    "        #print(len(word_centroid_map.values()))\n",
    "        #print(cluster)\n",
    "        #print(word_centroid_map.keys())\n",
    "        if(list(word_centroid_map.values())[i] == cluster):\n",
    "            words.append(list(word_centroid_map.keys())[i])\n",
    "    print(words)"
   ]
  },
  {
   "cell_type": "markdown",
   "metadata": {},
   "source": [
    "We can see that the clusters are of varying quality. Some make sense, some cointain mostly names, and some contain related adjectives. On the other hand, some are a little mystifying. Perhaps our algorithm works best on adjectives.\n",
    "\n",
    "At any rate, now we have a cluster (or \"centroid\") assignment for each word, and we can define a function to convert reviews into bags-of-centroids. This works just like Bag of Words but uses semantically related clusters instead of individual words:"
   ]
  },
  {
   "cell_type": "code",
   "execution_count": null,
   "metadata": {
    "collapsed": true
   },
   "outputs": [],
   "source": [
    "def create_bag_of_centroids(wordlist, word_centroid_map):\n",
    "    # The number of clusters is equal to the highest cluster index in the word / centroid map\n",
    "    num_centroids = max(word_centroid_map.values()) + 1\n",
    "    # Pre-allocate the bag of centroids vector (for speed)\n",
    "    bag_of_centroids = np.zeros(num_centroids, dtype=\"float32\")\n",
    "    # Loop over the words in the review. If the word is in the vocabulary,\n",
    "    # find which cluster it belongs to, and increment that cluster count by one\n",
    "    for word in wordlist:\n",
    "        if word in word_centroid_map:\n",
    "            index = word_centroid_map[word]\n",
    "            bag_of_centroids[index] += 1\n",
    "    return bag_of_centroids"
   ]
  },
  {
   "cell_type": "markdown",
   "metadata": {
    "collapsed": true
   },
   "source": [
    "The function above will give us a numpy array for each review, each with a number of features equal to the number of clusters. Finally, we create bags of centroids for our training and test set, then train a random forest and extract results:"
   ]
  },
  {
   "cell_type": "code",
   "execution_count": null,
   "metadata": {
    "collapsed": true
   },
   "outputs": [],
   "source": [
    "# ****** Create bags of centroids\n",
    "\n",
    "# Pre-allocate an array for the training set bags of centroids (for speed)\n",
    "train_centroids = np.zeros((train[\"review\"].size, num_clusters), dtype=\"float32\")\n",
    "\n",
    "# Transform the training set reviews into bags of centroids\n",
    "counter = 0\n",
    "for review in clean_train_reviews:\n",
    "    train_centroids[counter] = create_bag_of_centroids(review, word_centroid_map)\n",
    "    counter += 1"
   ]
  },
  {
   "cell_type": "code",
   "execution_count": null,
   "metadata": {
    "collapsed": true
   },
   "outputs": [],
   "source": [
    "X_traincvCT, X_testcvCT, y_traincvCT, y_testcvCT = train_test_split(train_centroids,\n",
    "                                                                    train[\"sentiment\"],\n",
    "                                                                    test_size=0.2,\n",
    "                                                                    random_state=0)"
   ]
  },
  {
   "cell_type": "code",
   "execution_count": null,
   "metadata": {
    "collapsed": true
   },
   "outputs": [],
   "source": [
    "# Initialize a Random Forest classifier with 100 trees\n",
    "clf_RF_CT = RandomForestClassifier(n_estimators=100, \n",
    "                                   criterion='gini', \n",
    "                                   max_depth=None, \n",
    "                                   min_samples_split=2, \n",
    "                                   min_samples_leaf=1, \n",
    "                                   min_weight_fraction_leaf=0.0, \n",
    "                                   max_features='auto', \n",
    "                                   max_leaf_nodes=None, \n",
    "                                   bootstrap=True, \n",
    "                                   oob_score=False, \n",
    "                                   n_jobs=1, \n",
    "                                   random_state=None, \n",
    "                                   verbose=0, \n",
    "                                   warm_start=False, \n",
    "                                   class_weight=None).fit(X_traincvCT, y_traincvCT)"
   ]
  },
  {
   "cell_type": "code",
   "execution_count": null,
   "metadata": {
    "collapsed": false
   },
   "outputs": [],
   "source": [
    "eval_RF_CT_tts = clf_RF_CT.score(X_testcvCT, y_testcvCT)\n",
    "print(eval_RF_CT_tts)"
   ]
  },
  {
   "cell_type": "code",
   "execution_count": null,
   "metadata": {
    "collapsed": true
   },
   "outputs": [],
   "source": [
    "# Repeat for test reviews\n",
    "test_centroids = np.zeros((test[\"review\"].size, num_clusters), dtype=\"float32\")\n",
    "\n",
    "counter = 0\n",
    "for review in clean_test_reviews:\n",
    "    test_centroids[counter] = create_bag_of_centroids(review, word_centroid_map)\n",
    "    counter += 1"
   ]
  },
  {
   "cell_type": "code",
   "execution_count": null,
   "metadata": {
    "collapsed": false
   },
   "outputs": [],
   "source": [
    "result = clf_RF_CT.predict(test_centroids)\n",
    "\n",
    "# Write the test results\n",
    "output = pd.DataFrame(data={\"id\":test[\"id\"], \"sentiment\":result})\n",
    "output.to_csv(os.path.join(outputs,\"BagOfCentroids.csv\"), index=False, quoting=3)\n",
    "print(\"Wrote BagOfCentroids.csv\")"
   ]
  },
  {
   "cell_type": "markdown",
   "metadata": {},
   "source": [
    "We found that the code above gives about the same (or slightly worse) results compared to the Bag of Words in Part 1."
   ]
  },
  {
   "cell_type": "markdown",
   "metadata": {},
   "source": [
    "Part 4: Comparing deep and non-deep learning methods\n",
    "--\n",
    "\n",
    "You may ask: Why is Bag of Words better?\n",
    "\n",
    "The biggest reason is, in our tutorial, averaging the vectors and using the centroids lose the order of words, making it very similar to the concept of Bag of Words. The fact that the performance is similar (within range of standard error) makes all three methods practically equivalent.  \n",
    "\n",
    "A few things to try:\n",
    "\n",
    "First, training Word2Vec on a lot more text should greatly improve performance. Google's results are based on word vectors that were learned out of more than a billion-word corpus; our labeled and unlabeled training sets together are only a measly 18 million words or so. Conveniently, Word2Vec provides functions to load any pre-trained model that is output by Google's original C tool, so it's also possible to train a model in C and then import it into Python.\n",
    "\n",
    "Second, in published literature, distributed word vector techniques have been shown to outperform Bag of Words models. In this paper, an algorithm called Paragraph Vector is used on the IMDB dataset to produce some of the most state-of-the-art results to date. In part, it does better than the approaches we try here because vector averaging and clustering lose the word order, whereas Paragraph Vectors preserves word order information."
   ]
  },
  {
   "cell_type": "markdown",
   "metadata": {},
   "source": [
    "What is Deep Learning?\n",
    "\n",
    "The term \"deep learning\" was coined in 2006, and refers to machine learning algorithms that have multiple non-linear layers and can learn feature hierarchies [1].\n",
    "\n",
    "Most modern machine learning relies on feature engineering or some level of domain knowledge to obtain good results. In deep learning systems, this is not the case -- instead, algorithms can automatically learn feature hierarchies, which represent objects in increasing levels of abstraction. Although the basic ingredients of many deep learning algorithms have been around for many years, they are currently increasing in popularity for many reasons, including advances in compute power, the falling cost of computing hardware, and advances in machine learning research.\n",
    "\n",
    "Deep learning algorithms can be categorized by their architecture (feed-forward, feed-back, or bi-directional) and training protocols (purely supervised, hybrid, or unsupervised) [2]. \n",
    "\n",
    "Some good background materials include:\n",
    "\n",
    "[1] \"Deep Learning for Signal and Information Processing\", by Li Deng and Dong Yu (out of Microsoft)\n",
    "\n",
    "[2] \"Deep Learning Tutorial\" (2013 Presentation by Yann LeCun and Marc'Aurelio Ranzato)\n",
    "\n",
    "Where Does Word2Vec Fit In?\n",
    "\n",
    "Word2Vec works in a way that is similar to deep approaches such as recurrent neural nets or deep neural nets, but it implements certain algorithms, such as hierarchical softmax, that make it computationally more efficient.  \n",
    "\n",
    "See Part 2 of this tutorial for more on Word2Vec, as well as this paper: Efficient Estimation of Word Representations in Vector Space\n",
    "\n",
    "In this tutorial, we use a hybrid approach to training -- consisting of an unsupervised piece (Word2Vec) followed by supervised learning (the Random Forest). \n",
    "\n",
    "Libraries and Packages \n",
    "\n",
    "The lists below should in no way be considered exhaustive.\n",
    "\n",
    "In Python:\n",
    "\n",
    "Theano offers very low-level, nuts and bolts functionality for building deep learning systems. You can also find some good tutorials on their site.  \n",
    "Caffe is a deep learning framework out of the Berkeley Vision and Learning Center.  \n",
    "Pylearn2 wraps Theano and seems slightly more user friendly.  \n",
    "OverFeat was used to win the Kaggle Cats and Dogs competition.  \n",
    "\n",
    "\n",
    "More Tutorials  \n",
    "The O'Reilly Blog has a series of deep learning articles and tutorials:  \n",
    "\n",
    "http://radar.oreilly.com/2014/07/what-is-deep-learning-and-why-should-you-care.html  \n",
    "http://radar.oreilly.com/2014/07/how-to-build-and-run-your-first-deep-learning-network.html  \n",
    "Webcast: How to Get Started with Deep Learning in Computer Vision  \n",
    "There are several tutorials using Theano as well.  \n",
    "\n",
    "If you want to dive into the weeds of creating a neural network from scratch, check out Geoffrey Hinton's Coursera course.\n",
    "\n",
    "For NLP, check out this recent lecture at Stanford: http://techtalks.tv/talks/deep-learning-for-nlp-without-magic-part-1/58414/  \n",
    "\n",
    "This free, online book also introduces neural nets for deep learning: http://neuralnetworksanddeeplearning.com/  "
   ]
  },
  {
   "cell_type": "raw",
   "metadata": {
    "collapsed": true
   },
   "source": [
    "#word2vec example\n",
    "# load up unzipped corpus from http://mattmahoney.net/dc/text8.zip\n",
    "sentences = word2vec.Text8Corpus('/tmp/text8')\n",
    "#train the skip-gram model; default window=5\n",
    "model = word2vec.Word2Vec(sentences, size=200)\n",
    "# ... and some hours later... just as advertised...\n",
    "model.most_similar(positive=['woman', 'king'], negative=['man'], topn=1)\n",
    "[('queen', 0.5359965)]\n",
    " \n",
    "# pickle the entire model to disk, so we can load&resume training later\n",
    "model.save('/tmp/text8.model')\n",
    "# store the learned weights, in a format the original C tool understands\n",
    "model.save_word2vec_format('/tmp/text8.model.bin', binary=True)\n",
    "# or, import word weights created by the (faster) C word2vec\n",
    "# this way, you can switch between the C/Python toolkits easily\n",
    "model = word2vec.Word2Vec.load_word2vec_format('/tmp/vectors.bin', binary=True)\n",
    " \n",
    "# \"boy\" is to \"father\" as \"girl\" is to ...?\n",
    "model.most_similar(['girl', 'father'], ['boy'], topn=3)\n",
    "more_examples = [\"he his she\", \"big bigger bad\", \"going went being\"]\n",
    "for example in more_examples:\n",
    "    a, b, x = example.split()\n",
    "    predicted = model.most_similar([x, b], [a])[0][0]\n",
    "    print \"'%s' is to '%s' as '%s' is to '%s'\" % (a, b, x, predicted)\n",
    "# which word doesn't go with the others?\n",
    "model.doesnt_match(\"breakfast cereal dinner lunch\".split())\n",
    "\n",
    "#http://rare-technologies.com/word2vec-tutorial/\n",
    "Gensim only requires that the input must provide sentences sequentially, when iterated over. No need to keep everything in RAM: we can provide one sentence, process it, forget it, load another sentence…\n",
    "\n",
    "For example, if our input is strewn across several files on disk, with one sentence per line, then instead of loading everything into an in-memory list, we can process the input file by file, line by line:\n",
    ">>> class MySentences(object):\n",
    "...     def __init__(self, dirname):\n",
    "...         self.dirname = dirname\n",
    "... \n",
    "...     def __iter__(self):\n",
    "...         for fname in os.listdir(self.dirname):\n",
    "...             for line in open(os.path.join(self.dirname, fname)):\n",
    "...                 yield line.split()\n",
    ">>>\n",
    ">>> sentences = MySentences('/some/directory') # a memory-friendly iterator\n",
    ">>> model = gensim.models.Word2Vec(sentences)\n",
    "\n",
    "Say we want to further preprocess the words from the files — convert to unicode, lowercase, remove numbers, extract named entities… All of this can be done inside the MySentences iterator and word2vec doesn’t need to know. All that is required is that the input yields one sentence (list of utf8 words) after another.\n",
    "\n",
    "calling Word2Vec(sentences) will run two passes over the sentences iterator. The first pass collects words and their frequencies to build an internal dictionary tree structure.\n",
    "\n",
    "The second pass trains the neural model.\n",
    "\n",
    "These two passes can also be initiated manually, in case your input stream is non-repeatable (you can only afford one pass), and you’re able to initialize the vocabulary some other way:\n",
    "\n",
    ">>> model = gensim.models.Word2Vec() # an empty model, no training\n",
    ">>> model.build_vocab(some_sentences)  # can be a non-repeatable, 1-pass generator\n",
    ">>> model.train(other_sentences)  # can be a non-repeatable, 1-pass generator\n"
   ]
  }
 ],
 "metadata": {
  "kernelspec": {
   "display_name": "Python 3",
   "language": "python",
   "name": "python3"
  },
  "language_info": {
   "codemirror_mode": {
    "name": "ipython",
    "version": 3
   },
   "file_extension": ".py",
   "mimetype": "text/x-python",
   "name": "python",
   "nbconvert_exporter": "python",
   "pygments_lexer": "ipython3",
   "version": "3.5.1+"
  }
 },
 "nbformat": 4,
 "nbformat_minor": 0
}
