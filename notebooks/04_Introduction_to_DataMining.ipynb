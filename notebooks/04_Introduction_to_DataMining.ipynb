{
 "cells": [
  {
   "cell_type": "markdown",
   "metadata": {},
   "source": [
    "Mestrado em Modelagem Matematica da Informacao\n",
    "----------------------------------------------\n",
    "Disciplina: Modelagem e Mineracao de Dados\n",
    "------------------------------------------\n",
    "\n",
    "Master Program - Mathematical Modeling of Information\n",
    "-----------------------------------------------------\n",
    "Course: Data Mining and Modeling\n",
    "--------------------------------\n",
    "\n",
    "Professor: Renato Rocha Souza\n",
    "-----------------------------  "
   ]
  },
  {
   "cell_type": "markdown",
   "metadata": {},
   "source": [
    "Introduction to Data Mining  \n",
    "--------------------------------------------\n",
    "Comparing Weka and Python for the same tasks  \n",
    "http://www.reddit.com/r/MachineLearning/comments/1rwj8p/why_are_python_r_so_much_more_popular_here_than/\n",
    "____________________________________________"
   ]
  },
  {
   "cell_type": "code",
   "execution_count": 1,
   "metadata": {
    "collapsed": false
   },
   "outputs": [],
   "source": [
    "import pylab as pl\n",
    "import pandas as pd\n",
    "import numpy as np\n",
    "import matplotlib.pyplot as plt\n",
    "import matplotlib.dates as md\n",
    "import scipy.stats as ss\n",
    "from scipy.io.arff import loadarff\n",
    "import os"
   ]
  },
  {
   "cell_type": "code",
   "execution_count": 2,
   "metadata": {
    "collapsed": false
   },
   "outputs": [
    {
     "name": "stdout",
     "output_type": "stream",
     "text": [
      "Populating the interactive namespace from numpy and matplotlib\n"
     ]
    }
   ],
   "source": [
    "%pylab inline"
   ]
  },
  {
   "cell_type": "code",
   "execution_count": 3,
   "metadata": {
    "collapsed": false
   },
   "outputs": [],
   "source": [
    "datapath = \"/home/rsouza/Dropbox/Renato/ModMinDados/Git/datasets/\"\n",
    "outputs = \"/home/rsouza/Dropbox/Renato/ModMinDados/outputs/\""
   ]
  },
  {
   "cell_type": "code",
   "execution_count": 4,
   "metadata": {
    "collapsed": false
   },
   "outputs": [],
   "source": [
    "dataset1 = \"bank.arff\"\n",
    "dataset2 = \"zoo.arff\"\n",
    "dataset3 = \"weather.nominal.arff\"\n",
    "dataset4 = \"vote.arff\"\n",
    "dataset5 = \"\""
   ]
  },
  {
   "cell_type": "markdown",
   "metadata": {},
   "source": [
    "#### Explorando os dados: Bank.arff"
   ]
  },
  {
   "cell_type": "code",
   "execution_count": 5,
   "metadata": {
    "collapsed": false
   },
   "outputs": [],
   "source": [
    "bank = loadarff(os.path.join(datapath,dataset1))\n",
    "df_bank = pd.DataFrame(bank[0])"
   ]
  },
  {
   "cell_type": "code",
   "execution_count": 6,
   "metadata": {
    "collapsed": false
   },
   "outputs": [
    {
     "data": {
      "text/html": [
       "<div>\n",
       "<table border=\"1\" class=\"dataframe\">\n",
       "  <thead>\n",
       "    <tr style=\"text-align: right;\">\n",
       "      <th></th>\n",
       "      <th>age</th>\n",
       "      <th>sex</th>\n",
       "      <th>region</th>\n",
       "      <th>income</th>\n",
       "      <th>married</th>\n",
       "      <th>children</th>\n",
       "      <th>car</th>\n",
       "      <th>save_act</th>\n",
       "      <th>current_act</th>\n",
       "      <th>mortgage</th>\n",
       "      <th>pep</th>\n",
       "    </tr>\n",
       "  </thead>\n",
       "  <tbody>\n",
       "    <tr>\n",
       "      <th>0</th>\n",
       "      <td>48.0</td>\n",
       "      <td>b'FEMALE'</td>\n",
       "      <td>b'INNER_CITY'</td>\n",
       "      <td>17546.0</td>\n",
       "      <td>b'NO'</td>\n",
       "      <td>b'1'</td>\n",
       "      <td>b'NO'</td>\n",
       "      <td>b'NO'</td>\n",
       "      <td>b'NO'</td>\n",
       "      <td>b'NO'</td>\n",
       "      <td>b'YES'</td>\n",
       "    </tr>\n",
       "    <tr>\n",
       "      <th>1</th>\n",
       "      <td>40.0</td>\n",
       "      <td>b'MALE'</td>\n",
       "      <td>b'TOWN'</td>\n",
       "      <td>30085.1</td>\n",
       "      <td>b'YES'</td>\n",
       "      <td>b'3'</td>\n",
       "      <td>b'YES'</td>\n",
       "      <td>b'NO'</td>\n",
       "      <td>b'YES'</td>\n",
       "      <td>b'YES'</td>\n",
       "      <td>b'NO'</td>\n",
       "    </tr>\n",
       "    <tr>\n",
       "      <th>2</th>\n",
       "      <td>51.0</td>\n",
       "      <td>b'FEMALE'</td>\n",
       "      <td>b'INNER_CITY'</td>\n",
       "      <td>16575.4</td>\n",
       "      <td>b'YES'</td>\n",
       "      <td>b'0'</td>\n",
       "      <td>b'YES'</td>\n",
       "      <td>b'YES'</td>\n",
       "      <td>b'YES'</td>\n",
       "      <td>b'NO'</td>\n",
       "      <td>b'NO'</td>\n",
       "    </tr>\n",
       "    <tr>\n",
       "      <th>3</th>\n",
       "      <td>23.0</td>\n",
       "      <td>b'FEMALE'</td>\n",
       "      <td>b'TOWN'</td>\n",
       "      <td>20375.4</td>\n",
       "      <td>b'YES'</td>\n",
       "      <td>b'3'</td>\n",
       "      <td>b'NO'</td>\n",
       "      <td>b'NO'</td>\n",
       "      <td>b'YES'</td>\n",
       "      <td>b'NO'</td>\n",
       "      <td>b'NO'</td>\n",
       "    </tr>\n",
       "    <tr>\n",
       "      <th>4</th>\n",
       "      <td>57.0</td>\n",
       "      <td>b'FEMALE'</td>\n",
       "      <td>b'RURAL'</td>\n",
       "      <td>50576.3</td>\n",
       "      <td>b'YES'</td>\n",
       "      <td>b'0'</td>\n",
       "      <td>b'NO'</td>\n",
       "      <td>b'YES'</td>\n",
       "      <td>b'NO'</td>\n",
       "      <td>b'NO'</td>\n",
       "      <td>b'NO'</td>\n",
       "    </tr>\n",
       "  </tbody>\n",
       "</table>\n",
       "</div>"
      ],
      "text/plain": [
       "    age        sex         region   income married children     car save_act  \\\n",
       "0  48.0  b'FEMALE'  b'INNER_CITY'  17546.0   b'NO'     b'1'   b'NO'    b'NO'   \n",
       "1  40.0    b'MALE'        b'TOWN'  30085.1  b'YES'     b'3'  b'YES'    b'NO'   \n",
       "2  51.0  b'FEMALE'  b'INNER_CITY'  16575.4  b'YES'     b'0'  b'YES'   b'YES'   \n",
       "3  23.0  b'FEMALE'        b'TOWN'  20375.4  b'YES'     b'3'   b'NO'    b'NO'   \n",
       "4  57.0  b'FEMALE'       b'RURAL'  50576.3  b'YES'     b'0'   b'NO'   b'YES'   \n",
       "\n",
       "  current_act mortgage     pep  \n",
       "0       b'NO'    b'NO'  b'YES'  \n",
       "1      b'YES'   b'YES'   b'NO'  \n",
       "2      b'YES'    b'NO'   b'NO'  \n",
       "3      b'YES'    b'NO'   b'NO'  \n",
       "4       b'NO'    b'NO'   b'NO'  "
      ]
     },
     "execution_count": 6,
     "metadata": {},
     "output_type": "execute_result"
    }
   ],
   "source": [
    "df_bank.head()"
   ]
  },
  {
   "cell_type": "code",
   "execution_count": 7,
   "metadata": {
    "collapsed": false
   },
   "outputs": [
    {
     "name": "stdout",
     "output_type": "stream",
     "text": [
      "<class 'pandas.core.frame.DataFrame'>\n",
      "RangeIndex: 600 entries, 0 to 599\n",
      "Data columns (total 11 columns):\n",
      "age            600 non-null float64\n",
      "sex            600 non-null object\n",
      "region         600 non-null object\n",
      "income         600 non-null float64\n",
      "married        600 non-null object\n",
      "children       600 non-null object\n",
      "car            600 non-null object\n",
      "save_act       600 non-null object\n",
      "current_act    600 non-null object\n",
      "mortgage       600 non-null object\n",
      "pep            600 non-null object\n",
      "dtypes: float64(2), object(9)\n",
      "memory usage: 51.6+ KB\n"
     ]
    }
   ],
   "source": [
    "df_bank.info()"
   ]
  },
  {
   "cell_type": "code",
   "execution_count": 8,
   "metadata": {
    "collapsed": false
   },
   "outputs": [
    {
     "data": {
      "text/plain": [
       "Index(['age', 'sex', 'region', 'income', 'married', 'children', 'car',\n",
       "       'save_act', 'current_act', 'mortgage', 'pep'],\n",
       "      dtype='object')"
      ]
     },
     "execution_count": 8,
     "metadata": {},
     "output_type": "execute_result"
    }
   ],
   "source": [
    "df_bank.columns"
   ]
  },
  {
   "cell_type": "code",
   "execution_count": 9,
   "metadata": {
    "collapsed": false
   },
   "outputs": [
    {
     "data": {
      "text/plain": [
       "{'car',\n",
       " 'children',\n",
       " 'current_act',\n",
       " 'married',\n",
       " 'mortgage',\n",
       " 'pep',\n",
       " 'region',\n",
       " 'save_act',\n",
       " 'sex'}"
      ]
     },
     "execution_count": 9,
     "metadata": {},
     "output_type": "execute_result"
    }
   ],
   "source": [
    "features = set(df_bank.columns)\n",
    "features -= set(['age','income']) # retiro os valores numéricos\n",
    "features"
   ]
  },
  {
   "cell_type": "code",
   "execution_count": 10,
   "metadata": {
    "collapsed": false
   },
   "outputs": [
    {
     "name": "stdout",
     "output_type": "stream",
     "text": [
      "Feature sex possui os valores únicos: [b'FEMALE' b'MALE']\n",
      "Feature save_act possui os valores únicos: [b'NO' b'YES']\n",
      "Feature current_act possui os valores únicos: [b'NO' b'YES']\n",
      "Feature region possui os valores únicos: [b'INNER_CITY' b'TOWN' b'RURAL' b'SUBURBAN']\n",
      "Feature children possui os valores únicos: [b'1' b'3' b'0' b'2']\n",
      "Feature married possui os valores únicos: [b'NO' b'YES']\n",
      "Feature mortgage possui os valores únicos: [b'NO' b'YES']\n",
      "Feature car possui os valores únicos: [b'NO' b'YES']\n",
      "Feature pep possui os valores únicos: [b'YES' b'NO']\n"
     ]
    }
   ],
   "source": [
    "for feature in features:\n",
    "    print(u'Feature {} possui os valores únicos: {}'.format(feature, df_bank[feature].unique()))"
   ]
  },
  {
   "cell_type": "markdown",
   "metadata": {},
   "source": [
    "#### Discretizando os dados"
   ]
  },
  {
   "cell_type": "markdown",
   "metadata": {},
   "source": [
    "http://stackoverflow.com/questions/19798153/difference-between-map-applymap-and-apply-methods-in-pandas"
   ]
  },
  {
   "cell_type": "code",
   "execution_count": 11,
   "metadata": {
    "collapsed": false
   },
   "outputs": [],
   "source": [
    "df_bank2 = df_bank.copy()\n",
    "\n",
    "df_bank2.children = df_bank.children.map(int)\n",
    "df_bank2.age = df_bank.age.map(int)\n",
    "\n",
    "d1 = {'YES': True, 'NO': False}\n",
    "df_bank2['married'] = df_bank['married'].map(d1)\n",
    "df_bank2['save_act'] = df_bank['save_act'].map(d1)\n",
    "df_bank2['current_act'] = df_bank['current_act'].map(d1)\n",
    "df_bank2['mortgage'] = df_bank['mortgage'].map(d1)\n",
    "df_bank2['pep'] = df_bank['pep'].map(d1)\n",
    "df_bank2['car'] = df_bank['car'].map(d1)\n",
    "\n",
    "d2 = {'FEMALE':1, 'MALE':0}\n",
    "df_bank2['sex'] = df_bank['sex'].map(d2)\n",
    "\n",
    "d3 = {'INNER_CITY':0, 'TOWN':1, 'SUBURBAN':2, 'RURAL':3}\n",
    "df_bank2['region'] = df_bank['region'].map(d3)"
   ]
  },
  {
   "cell_type": "code",
   "execution_count": 12,
   "metadata": {
    "collapsed": false
   },
   "outputs": [
    {
     "name": "stdout",
     "output_type": "stream",
     "text": [
      "<class 'pandas.core.frame.DataFrame'>\n",
      "RangeIndex: 600 entries, 0 to 599\n",
      "Data columns (total 11 columns):\n",
      "age            600 non-null int64\n",
      "sex            0 non-null float64\n",
      "region         0 non-null float64\n",
      "income         600 non-null float64\n",
      "married        0 non-null object\n",
      "children       600 non-null int64\n",
      "car            0 non-null object\n",
      "save_act       0 non-null object\n",
      "current_act    0 non-null object\n",
      "mortgage       0 non-null object\n",
      "pep            0 non-null object\n",
      "dtypes: float64(3), int64(2), object(6)\n",
      "memory usage: 51.6+ KB\n"
     ]
    }
   ],
   "source": [
    "df_bank2.info()"
   ]
  },
  {
   "cell_type": "code",
   "execution_count": 13,
   "metadata": {
    "collapsed": false
   },
   "outputs": [
    {
     "data": {
      "text/html": [
       "<div>\n",
       "<table border=\"1\" class=\"dataframe\">\n",
       "  <thead>\n",
       "    <tr style=\"text-align: right;\">\n",
       "      <th></th>\n",
       "      <th>age</th>\n",
       "      <th>sex</th>\n",
       "      <th>region</th>\n",
       "      <th>income</th>\n",
       "      <th>married</th>\n",
       "      <th>children</th>\n",
       "      <th>car</th>\n",
       "      <th>save_act</th>\n",
       "      <th>current_act</th>\n",
       "      <th>mortgage</th>\n",
       "      <th>pep</th>\n",
       "    </tr>\n",
       "  </thead>\n",
       "  <tbody>\n",
       "    <tr>\n",
       "      <th>0</th>\n",
       "      <td>48</td>\n",
       "      <td>NaN</td>\n",
       "      <td>NaN</td>\n",
       "      <td>17546.0</td>\n",
       "      <td>NaN</td>\n",
       "      <td>1</td>\n",
       "      <td>NaN</td>\n",
       "      <td>NaN</td>\n",
       "      <td>NaN</td>\n",
       "      <td>NaN</td>\n",
       "      <td>NaN</td>\n",
       "    </tr>\n",
       "    <tr>\n",
       "      <th>1</th>\n",
       "      <td>40</td>\n",
       "      <td>NaN</td>\n",
       "      <td>NaN</td>\n",
       "      <td>30085.1</td>\n",
       "      <td>NaN</td>\n",
       "      <td>3</td>\n",
       "      <td>NaN</td>\n",
       "      <td>NaN</td>\n",
       "      <td>NaN</td>\n",
       "      <td>NaN</td>\n",
       "      <td>NaN</td>\n",
       "    </tr>\n",
       "    <tr>\n",
       "      <th>2</th>\n",
       "      <td>51</td>\n",
       "      <td>NaN</td>\n",
       "      <td>NaN</td>\n",
       "      <td>16575.4</td>\n",
       "      <td>NaN</td>\n",
       "      <td>0</td>\n",
       "      <td>NaN</td>\n",
       "      <td>NaN</td>\n",
       "      <td>NaN</td>\n",
       "      <td>NaN</td>\n",
       "      <td>NaN</td>\n",
       "    </tr>\n",
       "    <tr>\n",
       "      <th>3</th>\n",
       "      <td>23</td>\n",
       "      <td>NaN</td>\n",
       "      <td>NaN</td>\n",
       "      <td>20375.4</td>\n",
       "      <td>NaN</td>\n",
       "      <td>3</td>\n",
       "      <td>NaN</td>\n",
       "      <td>NaN</td>\n",
       "      <td>NaN</td>\n",
       "      <td>NaN</td>\n",
       "      <td>NaN</td>\n",
       "    </tr>\n",
       "    <tr>\n",
       "      <th>4</th>\n",
       "      <td>57</td>\n",
       "      <td>NaN</td>\n",
       "      <td>NaN</td>\n",
       "      <td>50576.3</td>\n",
       "      <td>NaN</td>\n",
       "      <td>0</td>\n",
       "      <td>NaN</td>\n",
       "      <td>NaN</td>\n",
       "      <td>NaN</td>\n",
       "      <td>NaN</td>\n",
       "      <td>NaN</td>\n",
       "    </tr>\n",
       "  </tbody>\n",
       "</table>\n",
       "</div>"
      ],
      "text/plain": [
       "   age  sex  region   income married  children  car save_act current_act  \\\n",
       "0   48  NaN     NaN  17546.0     NaN         1  NaN      NaN         NaN   \n",
       "1   40  NaN     NaN  30085.1     NaN         3  NaN      NaN         NaN   \n",
       "2   51  NaN     NaN  16575.4     NaN         0  NaN      NaN         NaN   \n",
       "3   23  NaN     NaN  20375.4     NaN         3  NaN      NaN         NaN   \n",
       "4   57  NaN     NaN  50576.3     NaN         0  NaN      NaN         NaN   \n",
       "\n",
       "  mortgage  pep  \n",
       "0      NaN  NaN  \n",
       "1      NaN  NaN  \n",
       "2      NaN  NaN  \n",
       "3      NaN  NaN  \n",
       "4      NaN  NaN  "
      ]
     },
     "execution_count": 13,
     "metadata": {},
     "output_type": "execute_result"
    }
   ],
   "source": [
    "df_bank2.head()"
   ]
  },
  {
   "cell_type": "code",
   "execution_count": 14,
   "metadata": {
    "collapsed": false
   },
   "outputs": [
    {
     "data": {
      "text/html": [
       "<div>\n",
       "<table border=\"1\" class=\"dataframe\">\n",
       "  <thead>\n",
       "    <tr style=\"text-align: right;\">\n",
       "      <th></th>\n",
       "    </tr>\n",
       "  </thead>\n",
       "  <tbody>\n",
       "  </tbody>\n",
       "</table>\n",
       "</div>"
      ],
      "text/plain": [
       "Empty DataFrame\n",
       "Columns: []\n",
       "Index: []"
      ]
     },
     "execution_count": 14,
     "metadata": {},
     "output_type": "execute_result"
    }
   ],
   "source": [
    "byPEP = df_bank2.groupby(['pep'])\n",
    "byPEP.describe()"
   ]
  },
  {
   "cell_type": "code",
   "execution_count": 15,
   "metadata": {
    "collapsed": false
   },
   "outputs": [
    {
     "data": {
      "text/html": [
       "<div>\n",
       "<table border=\"1\" class=\"dataframe\">\n",
       "  <thead>\n",
       "    <tr style=\"text-align: right;\">\n",
       "      <th></th>\n",
       "      <th>age</th>\n",
       "      <th>sex</th>\n",
       "      <th>region</th>\n",
       "      <th>income</th>\n",
       "      <th>children</th>\n",
       "    </tr>\n",
       "  </thead>\n",
       "  <tbody>\n",
       "    <tr>\n",
       "      <th>count</th>\n",
       "      <td>0.0</td>\n",
       "      <td>0.0</td>\n",
       "      <td>0.0</td>\n",
       "      <td>0.0</td>\n",
       "      <td>0.0</td>\n",
       "    </tr>\n",
       "    <tr>\n",
       "      <th>mean</th>\n",
       "      <td>NaN</td>\n",
       "      <td>NaN</td>\n",
       "      <td>NaN</td>\n",
       "      <td>NaN</td>\n",
       "      <td>NaN</td>\n",
       "    </tr>\n",
       "    <tr>\n",
       "      <th>std</th>\n",
       "      <td>NaN</td>\n",
       "      <td>NaN</td>\n",
       "      <td>NaN</td>\n",
       "      <td>NaN</td>\n",
       "      <td>NaN</td>\n",
       "    </tr>\n",
       "    <tr>\n",
       "      <th>min</th>\n",
       "      <td>NaN</td>\n",
       "      <td>NaN</td>\n",
       "      <td>NaN</td>\n",
       "      <td>NaN</td>\n",
       "      <td>NaN</td>\n",
       "    </tr>\n",
       "    <tr>\n",
       "      <th>25%</th>\n",
       "      <td>NaN</td>\n",
       "      <td>NaN</td>\n",
       "      <td>NaN</td>\n",
       "      <td>NaN</td>\n",
       "      <td>NaN</td>\n",
       "    </tr>\n",
       "    <tr>\n",
       "      <th>50%</th>\n",
       "      <td>NaN</td>\n",
       "      <td>NaN</td>\n",
       "      <td>NaN</td>\n",
       "      <td>NaN</td>\n",
       "      <td>NaN</td>\n",
       "    </tr>\n",
       "    <tr>\n",
       "      <th>75%</th>\n",
       "      <td>NaN</td>\n",
       "      <td>NaN</td>\n",
       "      <td>NaN</td>\n",
       "      <td>NaN</td>\n",
       "      <td>NaN</td>\n",
       "    </tr>\n",
       "    <tr>\n",
       "      <th>max</th>\n",
       "      <td>NaN</td>\n",
       "      <td>NaN</td>\n",
       "      <td>NaN</td>\n",
       "      <td>NaN</td>\n",
       "      <td>NaN</td>\n",
       "    </tr>\n",
       "  </tbody>\n",
       "</table>\n",
       "</div>"
      ],
      "text/plain": [
       "       age  sex  region  income  children\n",
       "count  0.0  0.0     0.0     0.0       0.0\n",
       "mean   NaN  NaN     NaN     NaN       NaN\n",
       "std    NaN  NaN     NaN     NaN       NaN\n",
       "min    NaN  NaN     NaN     NaN       NaN\n",
       "25%    NaN  NaN     NaN     NaN       NaN\n",
       "50%    NaN  NaN     NaN     NaN       NaN\n",
       "75%    NaN  NaN     NaN     NaN       NaN\n",
       "max    NaN  NaN     NaN     NaN       NaN"
      ]
     },
     "execution_count": 15,
     "metadata": {},
     "output_type": "execute_result"
    }
   ],
   "source": [
    "df_bank2[(df_bank2.sex == 0) & (df_bank2.pep == True)].describe()"
   ]
  },
  {
   "cell_type": "code",
   "execution_count": 16,
   "metadata": {
    "collapsed": false
   },
   "outputs": [
    {
     "data": {
      "image/png": "[encoded data removed]",
      "text/plain": [
       "<matplotlib.figure.Figure at 0x7f2990f246a0>"
      ]
     },
     "metadata": {},
     "output_type": "display_data"
    }
   ],
   "source": [
    "fig, axes = plt.subplots(nrows=3, ncols=2, figsize=(16,12))\n",
    "\n",
    "df_bank2[(df_bank2.sex == 0) & (df_bank2.pep == True)]['age'].hist(ax=axes[0,0], bins=12, alpha=0.5, label='Yes')\n",
    "df_bank2[(df_bank2.sex == 0) & (df_bank2.pep == False)]['age'].hist(ax=axes[0,0], bins=12, alpha=0.5, label='No')\n",
    "axes[0,0].set_title('Male / Pep by Age')\n",
    "axes[0,0].legend()\n",
    "\n",
    "df_bank2[(df_bank2.sex == 1) & (df_bank2.pep == True)]['age'].hist(ax=axes[0,1], bins=12, alpha=0.5, label='Yes')\n",
    "df_bank2[(df_bank2.sex == 1) & (df_bank2.pep == False)]['age'].hist(ax=axes[0,1], bins=12, alpha=0.5, label='No')\n",
    "axes[0,1].set_title('Female / Pep by Age')\n",
    "axes[0,1].legend()\n",
    "\n",
    "df_bank2[(df_bank2.sex == 0) & (df_bank2.pep == True)]['income'].hist(ax=axes[1,0], bins=12, alpha=0.5, label='Yes')\n",
    "df_bank2[(df_bank2.sex == 0) & (df_bank2.pep == False)]['income'].hist(ax=axes[1,0], bins=12, alpha=0.5, label='No')\n",
    "axes[1,0].set_title('Male / Pep by Income')\n",
    "axes[1,0].legend()\n",
    "\n",
    "df_bank2[(df_bank2.sex == 1) & (df_bank2.pep == True)]['income'].hist(ax=axes[1,1], bins=12, alpha=0.5, label='Yes')\n",
    "df_bank2[(df_bank2.sex == 1) & (df_bank2.pep == False)]['income'].hist(ax=axes[1,1], bins=12, alpha=0.5, label='No')\n",
    "axes[1,1].set_title('Female / Pep by Income')\n",
    "axes[1,1].legend()\n",
    "\n",
    "df_bank2[(df_bank2.sex == 0) & (df_bank2.pep == True)]['children'].hist(ax=axes[2,0], bins=4, alpha=0.5, label='Yes')\n",
    "df_bank2[(df_bank2.sex == 0) & (df_bank2.pep == False)]['children'].hist(ax=axes[2,0], bins=4, alpha=0.5, label='No')\n",
    "axes[2,0].set_title('Male / Pep by Children')\n",
    "axes[2,0].legend()\n",
    "\n",
    "df_bank2[(df_bank2.sex == 1) & (df_bank2.pep == True)]['children'].hist(ax=axes[2,1], bins=4, alpha=0.5, label='Yes')\n",
    "df_bank2[(df_bank2.sex == 1) & (df_bank2.pep == False)]['children'].hist(ax=axes[2,1], bins=4, alpha=0.5, label='No')\n",
    "axes[2,1].set_title('Female / Pep by Children')\n",
    "axes[2,1].legend()\n",
    "\n",
    "fig.tight_layout()"
   ]
  },
  {
   "cell_type": "markdown",
   "metadata": {},
   "source": [
    "#### Construindo uma árvore de decisão:"
   ]
  },
  {
   "cell_type": "markdown",
   "metadata": {},
   "source": [
    "http://scikit-learn.org/stable/modules/tree.html  \n",
    "http://scikit-learn.org/stable/modules/generated/sklearn.tree.DecisionTreeClassifier.html#sklearn.tree.DecisionTreeClassifier  \n",
    "http://stackoverflow.com/questions/18753709/how-to-make-sense-the-output-of-decisiontreeclassifier-in-scikit-learn  \n",
    "http://stackoverflow.com/questions/23557545/how-to-explain-the-decision-tree-from-scikit-learn  \n",
    "https://github.com/paulgb/sklearn-pandas  "
   ]
  },
  {
   "cell_type": "code",
   "execution_count": 18,
   "metadata": {
    "collapsed": false
   },
   "outputs": [
    {
     "name": "stdout",
     "output_type": "stream",
     "text": [
      "Couldn't import dot_parser, loading of dot files will not be possible.\n"
     ]
    }
   ],
   "source": [
    "from sklearn import tree\n",
    "from sklearn.externals.six import StringIO\n",
    "from IPython.display import Image #needed to render in notebook\n",
    "import pydot  #Install http://www.graphviz.org/ & https://pypi.python.org/pypi/pydot2/1.0.32 pydot --> pip install pydot2"
   ]
  },
  {
   "cell_type": "code",
   "execution_count": 19,
   "metadata": {
    "collapsed": false
   },
   "outputs": [
    {
     "ename": "ValueError",
     "evalue": "Input contains NaN, infinity or a value too large for dtype('float32').",
     "output_type": "error",
     "traceback": [
      "\u001b[1;31m---------------------------------------------------------------------------\u001b[0m",
      "\u001b[1;31mValueError\u001b[0m                                Traceback (most recent call last)",
      "\u001b[1;32m<ipython-input-19-328178d9bf7e>\u001b[0m in \u001b[0;36m<module>\u001b[1;34m()\u001b[0m\n\u001b[0;32m      2\u001b[0m \u001b[0mclf\u001b[0m \u001b[1;33m=\u001b[0m \u001b[0mtree\u001b[0m\u001b[1;33m.\u001b[0m\u001b[0mDecisionTreeClassifier\u001b[0m\u001b[1;33m(\u001b[0m\u001b[0mcriterion\u001b[0m\u001b[1;33m=\u001b[0m\u001b[1;34m'gini'\u001b[0m\u001b[1;33m,\u001b[0m \u001b[0mmax_features\u001b[0m\u001b[1;33m=\u001b[0m\u001b[1;34m\"auto\"\u001b[0m\u001b[1;33m,\u001b[0m \u001b[0mmin_samples_leaf\u001b[0m\u001b[1;33m=\u001b[0m\u001b[1;36m15\u001b[0m\u001b[1;33m)\u001b[0m\u001b[1;33m\u001b[0m\u001b[0m\n\u001b[0;32m      3\u001b[0m \u001b[0mfeatures_list\u001b[0m\u001b[1;33m=\u001b[0m\u001b[1;33m[\u001b[0m\u001b[1;34m'age'\u001b[0m\u001b[1;33m,\u001b[0m \u001b[1;34m'sex'\u001b[0m\u001b[1;33m,\u001b[0m \u001b[1;34m'region'\u001b[0m\u001b[1;33m,\u001b[0m \u001b[1;34m'income'\u001b[0m\u001b[1;33m,\u001b[0m \u001b[1;34m'married'\u001b[0m\u001b[1;33m,\u001b[0m \u001b[1;34m'children'\u001b[0m\u001b[1;33m,\u001b[0m \u001b[1;34m'car'\u001b[0m\u001b[1;33m,\u001b[0m \u001b[1;34m'save_act'\u001b[0m\u001b[1;33m,\u001b[0m \u001b[1;34m'current_act'\u001b[0m\u001b[1;33m,\u001b[0m \u001b[1;34m'mortgage'\u001b[0m\u001b[1;33m]\u001b[0m\u001b[1;33m\u001b[0m\u001b[0m\n\u001b[1;32m----> 4\u001b[1;33m \u001b[0mclf\u001b[0m\u001b[1;33m.\u001b[0m\u001b[0mfit\u001b[0m\u001b[1;33m(\u001b[0m\u001b[0mdf_bank2\u001b[0m\u001b[1;33m[\u001b[0m\u001b[0mfeatures_list\u001b[0m\u001b[1;33m]\u001b[0m\u001b[1;33m,\u001b[0m \u001b[0mdf_bank2\u001b[0m\u001b[1;33m.\u001b[0m\u001b[0mpep\u001b[0m\u001b[1;33m)\u001b[0m\u001b[1;33m\u001b[0m\u001b[0m\n\u001b[0m",
      "\u001b[1;32m/home/rsouza/python/3/venv/local/lib/python3.5/site-packages/sklearn/tree/tree.py\u001b[0m in \u001b[0;36mfit\u001b[1;34m(self, X, y, sample_weight, check_input, X_idx_sorted)\u001b[0m\n\u001b[0;32m    152\u001b[0m         \u001b[0mrandom_state\u001b[0m \u001b[1;33m=\u001b[0m \u001b[0mcheck_random_state\u001b[0m\u001b[1;33m(\u001b[0m\u001b[0mself\u001b[0m\u001b[1;33m.\u001b[0m\u001b[0mrandom_state\u001b[0m\u001b[1;33m)\u001b[0m\u001b[1;33m\u001b[0m\u001b[0m\n\u001b[0;32m    153\u001b[0m         \u001b[1;32mif\u001b[0m \u001b[0mcheck_input\u001b[0m\u001b[1;33m:\u001b[0m\u001b[1;33m\u001b[0m\u001b[0m\n\u001b[1;32m--> 154\u001b[1;33m             \u001b[0mX\u001b[0m \u001b[1;33m=\u001b[0m \u001b[0mcheck_array\u001b[0m\u001b[1;33m(\u001b[0m\u001b[0mX\u001b[0m\u001b[1;33m,\u001b[0m \u001b[0mdtype\u001b[0m\u001b[1;33m=\u001b[0m\u001b[0mDTYPE\u001b[0m\u001b[1;33m,\u001b[0m \u001b[0maccept_sparse\u001b[0m\u001b[1;33m=\u001b[0m\u001b[1;34m\"csc\"\u001b[0m\u001b[1;33m)\u001b[0m\u001b[1;33m\u001b[0m\u001b[0m\n\u001b[0m\u001b[0;32m    155\u001b[0m             \u001b[1;32mif\u001b[0m \u001b[0missparse\u001b[0m\u001b[1;33m(\u001b[0m\u001b[0mX\u001b[0m\u001b[1;33m)\u001b[0m\u001b[1;33m:\u001b[0m\u001b[1;33m\u001b[0m\u001b[0m\n\u001b[0;32m    156\u001b[0m                 \u001b[0mX\u001b[0m\u001b[1;33m.\u001b[0m\u001b[0msort_indices\u001b[0m\u001b[1;33m(\u001b[0m\u001b[1;33m)\u001b[0m\u001b[1;33m\u001b[0m\u001b[0m\n",
      "\u001b[1;32m/home/rsouza/python/3/venv/local/lib/python3.5/site-packages/sklearn/utils/validation.py\u001b[0m in \u001b[0;36mcheck_array\u001b[1;34m(array, accept_sparse, dtype, order, copy, force_all_finite, ensure_2d, allow_nd, ensure_min_samples, ensure_min_features, warn_on_dtype, estimator)\u001b[0m\n\u001b[0;32m    396\u001b[0m                              % (array.ndim, estimator_name))\n\u001b[0;32m    397\u001b[0m         \u001b[1;32mif\u001b[0m \u001b[0mforce_all_finite\u001b[0m\u001b[1;33m:\u001b[0m\u001b[1;33m\u001b[0m\u001b[0m\n\u001b[1;32m--> 398\u001b[1;33m             \u001b[0m_assert_all_finite\u001b[0m\u001b[1;33m(\u001b[0m\u001b[0marray\u001b[0m\u001b[1;33m)\u001b[0m\u001b[1;33m\u001b[0m\u001b[0m\n\u001b[0m\u001b[0;32m    399\u001b[0m \u001b[1;33m\u001b[0m\u001b[0m\n\u001b[0;32m    400\u001b[0m     \u001b[0mshape_repr\u001b[0m \u001b[1;33m=\u001b[0m \u001b[0m_shape_repr\u001b[0m\u001b[1;33m(\u001b[0m\u001b[0marray\u001b[0m\u001b[1;33m.\u001b[0m\u001b[0mshape\u001b[0m\u001b[1;33m)\u001b[0m\u001b[1;33m\u001b[0m\u001b[0m\n",
      "\u001b[1;32m/home/rsouza/python/3/venv/local/lib/python3.5/site-packages/sklearn/utils/validation.py\u001b[0m in \u001b[0;36m_assert_all_finite\u001b[1;34m(X)\u001b[0m\n\u001b[0;32m     52\u001b[0m             and not np.isfinite(X).all()):\n\u001b[0;32m     53\u001b[0m         raise ValueError(\"Input contains NaN, infinity\"\n\u001b[1;32m---> 54\u001b[1;33m                          \" or a value too large for %r.\" % X.dtype)\n\u001b[0m\u001b[0;32m     55\u001b[0m \u001b[1;33m\u001b[0m\u001b[0m\n\u001b[0;32m     56\u001b[0m \u001b[1;33m\u001b[0m\u001b[0m\n",
      "\u001b[1;31mValueError\u001b[0m: Input contains NaN, infinity or a value too large for dtype('float32')."
     ]
    }
   ],
   "source": [
    "#clf = tree.DecisionTreeClassifier(criterion='entropy', max_features=\"auto\", min_samples_leaf=10)\n",
    "clf = tree.DecisionTreeClassifier(criterion='gini', max_features=\"auto\", min_samples_leaf=15)\n",
    "features_list=['age', 'sex', 'region', 'income', 'married', 'children', 'car', 'save_act', 'current_act', 'mortgage']\n",
    "clf.fit(df_bank2[features_list], df_bank2.pep)"
   ]
  },
  {
   "cell_type": "code",
   "execution_count": null,
   "metadata": {
    "collapsed": false
   },
   "outputs": [],
   "source": [
    "clf.feature_importances_"
   ]
  },
  {
   "cell_type": "code",
   "execution_count": null,
   "metadata": {
    "collapsed": false
   },
   "outputs": [],
   "source": [
    "dot_data = StringIO()\n",
    "tree.export_graphviz(clf, out_file=dot_data, feature_names=features_list) \n",
    "graph = pydot.graph_from_dot_data(dot_data.getvalue())\n",
    "Image(graph.create_png())"
   ]
  },
  {
   "cell_type": "code",
   "execution_count": null,
   "metadata": {
    "collapsed": false
   },
   "outputs": [],
   "source": [
    "with open(\"bank_pep.dot\", 'w') as f:\n",
    "    f = tree.export_graphviz(clf, out_file=f, feature_names=features_list)\n",
    "#Chamando um programa externo ao Ipython com o operador !\n",
    "!dot -Tpng bank_pep.dot -o bank_pep.png\n",
    "Image(\"bank_pep.png\")"
   ]
  },
  {
   "cell_type": "markdown",
   "metadata": {},
   "source": [
    "A partir de nossa árvore treinada, podemos classificar novos elementos:"
   ]
  },
  {
   "cell_type": "code",
   "execution_count": null,
   "metadata": {
    "collapsed": false
   },
   "outputs": [],
   "source": [
    "#df_bank[features_list][0:5]\n",
    "df_bank[0:5]"
   ]
  },
  {
   "cell_type": "code",
   "execution_count": null,
   "metadata": {
    "collapsed": false
   },
   "outputs": [],
   "source": [
    "#clf.predict(df_bank2[features_list].ix[1])\n",
    "clf.predict([40,0,1,17000.0,True,1,True,False,True,True])"
   ]
  },
  {
   "cell_type": "markdown",
   "metadata": {},
   "source": [
    "#### Visualizando a superfície de decisão"
   ]
  },
  {
   "cell_type": "code",
   "execution_count": null,
   "metadata": {
    "collapsed": false
   },
   "outputs": [],
   "source": [
    "from sklearn.datasets import load_iris\n",
    "from sklearn.tree import DecisionTreeClassifier\n",
    "\n",
    "# Parameters\n",
    "n_classes = 2\n",
    "plot_colors = \"by\"\n",
    "plot_step = 0.02\n",
    "outcome = ['False','True']\n",
    "\n",
    "for pairidx, pair in enumerate([['sex','region'], ['sex', 'car'], ['sex', 'children'],\n",
    "                                ['region', 'car'], ['region', 'children'], ['car', 'children']]):\n",
    "    # We only take the two corresponding features\n",
    "    X = df_bank2[pair].values\n",
    "    y = df_bank2.pep\n",
    "\n",
    "    # Shuffle\n",
    "    #idx = np.arange(X.shape[0])\n",
    "    #np.random.seed(13)\n",
    "    #np.random.shuffle(idx)\n",
    "    #X = X[idx]\n",
    "    #y = y[idx]\n",
    "\n",
    "    # Standardize\n",
    "    #mean = X.mean(axis=0)\n",
    "    #std = X.std(axis=0)\n",
    "    #X = (X - mean) / std\n",
    "\n",
    "    # Train\n",
    "    clf2 = DecisionTreeClassifier().fit(X, y)\n",
    "\n",
    "    # Plot the decision boundary\n",
    "    plt.subplot(2, 3, pairidx + 1)\n",
    "\n",
    "    x_min, x_max = X[:, 0].min() - 1, X[:, 0].max() + 1\n",
    "    y_min, y_max = X[:, 1].min() - 1, X[:, 1].max() + 1\n",
    "    xx, yy = np.meshgrid(np.arange(x_min, x_max, plot_step),\n",
    "                         np.arange(y_min, y_max, plot_step))\n",
    "\n",
    "    Z = clf2.predict(np.c_[xx.ravel(), yy.ravel()])\n",
    "    Z = Z.reshape(xx.shape)\n",
    "    cs = plt.contourf(xx, yy, Z, cmap=plt.cm.Paired)\n",
    "\n",
    "    plt.xlabel(pair[0])\n",
    "    plt.ylabel(pair[1])\n",
    "    plt.axis(\"tight\")\n",
    "\n",
    "    # Plot the training points\n",
    "    for i, color in zip(range(n_classes), plot_colors):\n",
    "        idx = np.where(y == i)\n",
    "        plt.scatter(X[:, 0], X[:, 1], c=color, label=outcome[i], cmap=plt.cm.Paired)\n",
    "    plt.axis(\"tight\")\n",
    "\n",
    "plt.suptitle(\"Decision surface of a decision tree using paired features\")\n",
    "fig = plt.gcf()\n",
    "fig.set_size_inches(18.5,10.5)\n",
    "plt.legend()\n",
    "plt.show()"
   ]
  },
  {
   "cell_type": "markdown",
   "metadata": {},
   "source": [
    "#### Aplicando K-Means"
   ]
  },
  {
   "cell_type": "markdown",
   "metadata": {},
   "source": [
    "Seguindo o exemplo: http://scikit-learn.org/stable/auto_examples/cluster/plot_cluster_iris.html  "
   ]
  },
  {
   "cell_type": "code",
   "execution_count": null,
   "metadata": {
    "collapsed": false
   },
   "outputs": [],
   "source": [
    "from sklearn.cluster import KMeans\n",
    "from sklearn.preprocessing import scale\n",
    "from mpl_toolkits.mplot3d import Axes3D"
   ]
  },
  {
   "cell_type": "code",
   "execution_count": null,
   "metadata": {
    "collapsed": false
   },
   "outputs": [],
   "source": [
    "centers = [[1, 1], [-1, -1], [1, -1]]\n",
    "\n",
    "X = df_bank2[['age','income','region']].values\n",
    "\n",
    "estimators = {'k_means_3': KMeans(n_clusters=3),\n",
    "              'k_means_8': KMeans(n_clusters=8),\n",
    "              'k_means_bad_init': KMeans(n_clusters=3, n_init=1, init='random')}"
   ]
  },
  {
   "cell_type": "code",
   "execution_count": null,
   "metadata": {
    "collapsed": false
   },
   "outputs": [],
   "source": [
    "fignum = 1\n",
    "for name, est in estimators.items():\n",
    "    fig = plt.figure(fignum, figsize=(8,8))\n",
    "    plt.clf()\n",
    "    ax = Axes3D(fig, rect=[0, 0, .95, 1], elev=48, azim=134)\n",
    "\n",
    "    plt.cla()\n",
    "    est.fit(X)\n",
    "    labels = est.labels_\n",
    "\n",
    "    ax.scatter(X[:, 0], X[:, 1], X[:, 2], c=labels.astype(np.float))\n",
    "    ax.w_xaxis.set_ticklabels([])\n",
    "    ax.w_yaxis.set_ticklabels([])\n",
    "    ax.w_zaxis.set_ticklabels([])\n",
    "    ax.set_xlabel('Age')\n",
    "    ax.set_ylabel('Income')\n",
    "    ax.set_zlabel('Region')\n",
    "    ax.set_label(name)\n",
    "    fignum = fignum + 1"
   ]
  },
  {
   "cell_type": "code",
   "execution_count": null,
   "metadata": {
    "collapsed": false
   },
   "outputs": [],
   "source": [
    "# Plot the ground truth\n",
    "fig = plt.figure(fignum, figsize=(8, 8))\n",
    "plt.clf()\n",
    "ax = Axes3D(fig, rect=[0, 0, .95, 1], elev=30, azim=100)\n",
    "\n",
    "plt.cla()\n",
    "\n",
    "X = df_bank2[['age','income','region']].values\n",
    "y = df_bank2.pep\n",
    "\n",
    "for name, label in [('PEP', True),('No PEP', False)]:\n",
    "    ax.text3D(X[y == label, 2].mean(),\n",
    "              X[y == label, 1].mean() + 1.5,\n",
    "              X[y == label, 0].mean(), name,\n",
    "              horizontalalignment='center',\n",
    "              bbox=dict(alpha=.5, edgecolor='w', facecolor='w'))\n",
    "# Reorder the labels to have colors matching the cluster results\n",
    "y = np.choose(y, ['b','g'])\n",
    "ax.scatter(X[:, 2], X[:, 1], X[:, 0], c=y)\n",
    "\n",
    "ax.w_xaxis.set_ticklabels([])\n",
    "ax.w_yaxis.set_ticklabels([])\n",
    "ax.w_zaxis.set_ticklabels([])\n",
    "ax.set_xlabel('Region')\n",
    "ax.set_ylabel('Income')\n",
    "ax.set_zlabel('Age')\n",
    "plt.show()"
   ]
  },
  {
   "cell_type": "markdown",
   "metadata": {},
   "source": [
    "Desafio:  \n",
    "Implementar o exemplo: http://scikit-learn.org/stable/auto_examples/cluster/plot_kmeans_digits.html  "
   ]
  }
 ],
 "metadata": {
  "kernelspec": {
   "display_name": "Python 3",
   "language": "python",
   "name": "python3"
  },
  "language_info": {
   "codemirror_mode": {
    "name": "ipython",
    "version": 3
   },
   "file_extension": ".py",
   "mimetype": "text/x-python",
   "name": "python",
   "nbconvert_exporter": "python",
   "pygments_lexer": "ipython3",
   "version": "3.5.1+"
  }
 },
 "nbformat": 4,
 "nbformat_minor": 0
}
