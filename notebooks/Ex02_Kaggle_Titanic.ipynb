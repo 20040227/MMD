{
 "cells": [
  {
   "cell_type": "markdown",
   "metadata": {},
   "source": [
    "## Introdução à Análise Preditiva: o afundamento do Titanic"
   ]
  },
  {
   "cell_type": "markdown",
   "metadata": {},
   "source": [
    "https://www.kaggle.com/c/titanic-gettingStarted\n",
    "\n",
    "The sinking of the RMS Titanic is one of the most infamous shipwrecks in history.  On April 15, 1912, during her maiden voyage, the Titanic sank after colliding with an iceberg, killing 1502 out of 2224 passengers and crew. This sensational tragedy shocked the international community and led to better safety regulations for ships.\n",
    "\n",
    "One of the reasons that the shipwreck led to such loss of life was that there were not enough lifeboats for the passengers and crew. Although there was some element of luck involved in surviving the sinking, some groups of people were more likely to survive than others, such as women, children, and the upper-class.\n",
    "\n",
    "In this challenge, we ask you to complete the analysis of what sorts of people were likely to survive. In particular, we ask you to apply the tools of machine learning to predict which passengers survived the tragedy."
   ]
  },
  {
   "cell_type": "raw",
   "metadata": {},
   "source": [
    "VARIABLE DESCRIPTIONS:\n",
    "survival        Survival\n",
    "                (0 = No; 1 = Yes)\n",
    "pclass          Passenger Class\n",
    "                (1 = 1st; 2 = 2nd; 3 = 3rd)\n",
    "name            Name\n",
    "sex             Sex\n",
    "age             Age\n",
    "sibsp           Number of Siblings/Spouses Aboard\n",
    "parch           Number of Parents/Children Aboard\n",
    "ticket          Ticket Number\n",
    "fare            Passenger Fare\n",
    "cabin           Cabin\n",
    "embarked        Port of Embarkation\n",
    "                (C = Cherbourg; Q = Queenstown; S = Southampton)\n",
    "\n",
    "SPECIAL NOTES:\n",
    "Pclass is a proxy for socio-economic status (SES)\n",
    " 1st ~ Upper; 2nd ~ Middle; 3rd ~ Lower\n",
    "\n",
    "Age is in Years; Fractional if Age less than One (1)\n",
    " If the Age is Estimated, it is in the form xx.5\n",
    "\n",
    "With respect to the family relation variables (i.e. sibsp and parch)\n",
    "some relations were ignored.  The following are the definitions used\n",
    "for sibsp and parch.\n",
    "\n",
    "Sibling:  Brother, Sister, Stepbrother, or Stepsister of Passenger Aboard Titanic\n",
    "Spouse:   Husband or Wife of Passenger Aboard Titanic (Mistresses and Fiances Ignored)\n",
    "Parent:   Mother or Father of Passenger Aboard Titanic\n",
    "Child:    Son, Daughter, Stepson, or Stepdaughter of Passenger Aboard Titanic\n",
    "\n",
    "Other family relatives excluded from this study include cousins,\n",
    "nephews/nieces, aunts/uncles, and in-laws.  Some children travelled\n",
    "only with a nanny, therefore parch=0 for them.  As well, some\n",
    "travelled with very close friends or neighbors in a village, however,\n",
    "the definitions do not support such relations."
   ]
  },
  {
   "cell_type": "markdown",
   "metadata": {},
   "source": [
    "#### Vamos carregar as baterias para nossa análise..."
   ]
  },
  {
   "cell_type": "code",
   "execution_count": 1,
   "metadata": {
    "collapsed": false
   },
   "outputs": [],
   "source": [
    "import os\n",
    "import sys\n",
    "import time\n",
    "import pickle\n",
    "import pandas as pd\n",
    "import numpy as np\n",
    "import pylab\n",
    "import statsmodels.api as sm\n",
    "#from statsmodels import api as smf\n",
    "import matplotlib\n",
    "import matplotlib.pyplot as plt\n",
    "from matplotlib.font_manager import FontProperties\n",
    "#import seaborn as sns\n",
    "import seaborn.apionly as sns\n",
    "%matplotlib inline\n",
    "#matplotlib.rcdefaults()\n",
    "#matplotlib.verbose.set_level('silent')"
   ]
  },
  {
   "cell_type": "code",
   "execution_count": 3,
   "metadata": {
    "collapsed": true
   },
   "outputs": [],
   "source": [
    "datapath = \"../datasets/\"\n",
    "outputs = \"../outputs/\""
   ]
  },
  {
   "cell_type": "code",
   "execution_count": 4,
   "metadata": {
    "collapsed": false
   },
   "outputs": [],
   "source": [
    "df_train = pd.read_csv(os.path.join(datapath,'Kaggle/kaggle_titanic_train.csv'))\n",
    "df_test = pd.read_csv(os.path.join(datapath,'Kaggle/kaggle_titanic_test.csv'))"
   ]
  },
  {
   "cell_type": "code",
   "execution_count": 5,
   "metadata": {
    "collapsed": false
   },
   "outputs": [
    {
     "name": "stdout",
     "output_type": "stream",
     "text": [
      "<class 'pandas.core.frame.DataFrame'>\n",
      "RangeIndex: 891 entries, 0 to 890\n",
      "Data columns (total 12 columns):\n",
      "PassengerId    891 non-null int64\n",
      "Survived       891 non-null int64\n",
      "Pclass         891 non-null int64\n",
      "Name           891 non-null object\n",
      "Sex            891 non-null object\n",
      "Age            714 non-null float64\n",
      "SibSp          891 non-null int64\n",
      "Parch          891 non-null int64\n",
      "Ticket         891 non-null object\n",
      "Fare           891 non-null float64\n",
      "Cabin          204 non-null object\n",
      "Embarked       889 non-null object\n",
      "dtypes: float64(2), int64(5), object(5)\n",
      "memory usage: 83.6+ KB\n"
     ]
    }
   ],
   "source": [
    "#df_train.columns\n",
    "#df_train.dtypes\n",
    "df_train.info()"
   ]
  },
  {
   "cell_type": "code",
   "execution_count": 6,
   "metadata": {
    "collapsed": false
   },
   "outputs": [
    {
     "data": {
      "text/html": [
       "<div>\n",
       "<table border=\"1\" class=\"dataframe\">\n",
       "  <thead>\n",
       "    <tr style=\"text-align: right;\">\n",
       "      <th></th>\n",
       "      <th>PassengerId</th>\n",
       "      <th>Survived</th>\n",
       "      <th>Pclass</th>\n",
       "      <th>Name</th>\n",
       "      <th>Sex</th>\n",
       "      <th>Age</th>\n",
       "      <th>SibSp</th>\n",
       "      <th>Parch</th>\n",
       "      <th>Ticket</th>\n",
       "      <th>Fare</th>\n",
       "      <th>Cabin</th>\n",
       "      <th>Embarked</th>\n",
       "    </tr>\n",
       "  </thead>\n",
       "  <tbody>\n",
       "    <tr>\n",
       "      <th>0</th>\n",
       "      <td>1</td>\n",
       "      <td>0</td>\n",
       "      <td>3</td>\n",
       "      <td>Braund, Mr. Owen Harris</td>\n",
       "      <td>male</td>\n",
       "      <td>22.0</td>\n",
       "      <td>1</td>\n",
       "      <td>0</td>\n",
       "      <td>A/5 21171</td>\n",
       "      <td>7.2500</td>\n",
       "      <td>NaN</td>\n",
       "      <td>S</td>\n",
       "    </tr>\n",
       "    <tr>\n",
       "      <th>1</th>\n",
       "      <td>2</td>\n",
       "      <td>1</td>\n",
       "      <td>1</td>\n",
       "      <td>Cumings, Mrs. John Bradley (Florence Briggs Th...</td>\n",
       "      <td>female</td>\n",
       "      <td>38.0</td>\n",
       "      <td>1</td>\n",
       "      <td>0</td>\n",
       "      <td>PC 17599</td>\n",
       "      <td>71.2833</td>\n",
       "      <td>C85</td>\n",
       "      <td>C</td>\n",
       "    </tr>\n",
       "    <tr>\n",
       "      <th>2</th>\n",
       "      <td>3</td>\n",
       "      <td>1</td>\n",
       "      <td>3</td>\n",
       "      <td>Heikkinen, Miss. Laina</td>\n",
       "      <td>female</td>\n",
       "      <td>26.0</td>\n",
       "      <td>0</td>\n",
       "      <td>0</td>\n",
       "      <td>STON/O2. 3101282</td>\n",
       "      <td>7.9250</td>\n",
       "      <td>NaN</td>\n",
       "      <td>S</td>\n",
       "    </tr>\n",
       "    <tr>\n",
       "      <th>3</th>\n",
       "      <td>4</td>\n",
       "      <td>1</td>\n",
       "      <td>1</td>\n",
       "      <td>Futrelle, Mrs. Jacques Heath (Lily May Peel)</td>\n",
       "      <td>female</td>\n",
       "      <td>35.0</td>\n",
       "      <td>1</td>\n",
       "      <td>0</td>\n",
       "      <td>113803</td>\n",
       "      <td>53.1000</td>\n",
       "      <td>C123</td>\n",
       "      <td>S</td>\n",
       "    </tr>\n",
       "    <tr>\n",
       "      <th>4</th>\n",
       "      <td>5</td>\n",
       "      <td>0</td>\n",
       "      <td>3</td>\n",
       "      <td>Allen, Mr. William Henry</td>\n",
       "      <td>male</td>\n",
       "      <td>35.0</td>\n",
       "      <td>0</td>\n",
       "      <td>0</td>\n",
       "      <td>373450</td>\n",
       "      <td>8.0500</td>\n",
       "      <td>NaN</td>\n",
       "      <td>S</td>\n",
       "    </tr>\n",
       "  </tbody>\n",
       "</table>\n",
       "</div>"
      ],
      "text/plain": [
       "   PassengerId  Survived  Pclass  \\\n",
       "0            1         0       3   \n",
       "1            2         1       1   \n",
       "2            3         1       3   \n",
       "3            4         1       1   \n",
       "4            5         0       3   \n",
       "\n",
       "                                                Name     Sex   Age  SibSp  \\\n",
       "0                            Braund, Mr. Owen Harris    male  22.0      1   \n",
       "1  Cumings, Mrs. John Bradley (Florence Briggs Th...  female  38.0      1   \n",
       "2                             Heikkinen, Miss. Laina  female  26.0      0   \n",
       "3       Futrelle, Mrs. Jacques Heath (Lily May Peel)  female  35.0      1   \n",
       "4                           Allen, Mr. William Henry    male  35.0      0   \n",
       "\n",
       "   Parch            Ticket     Fare Cabin Embarked  \n",
       "0      0         A/5 21171   7.2500   NaN        S  \n",
       "1      0          PC 17599  71.2833   C85        C  \n",
       "2      0  STON/O2. 3101282   7.9250   NaN        S  \n",
       "3      0            113803  53.1000  C123        S  \n",
       "4      0            373450   8.0500   NaN        S  "
      ]
     },
     "execution_count": 6,
     "metadata": {},
     "output_type": "execute_result"
    }
   ],
   "source": [
    "df_train.head()"
   ]
  },
  {
   "cell_type": "code",
   "execution_count": 7,
   "metadata": {
    "collapsed": false
   },
   "outputs": [
    {
     "data": {
      "text/plain": [
       "Index(['PassengerId', 'Survived', 'Pclass', 'Name', 'Sex', 'Age', 'SibSp',\n",
       "       'Parch', 'Ticket', 'Fare', 'Cabin', 'Embarked'],\n",
       "      dtype='object')"
      ]
     },
     "execution_count": 7,
     "metadata": {},
     "output_type": "execute_result"
    }
   ],
   "source": [
    "df_train.columns"
   ]
  },
  {
   "cell_type": "code",
   "execution_count": 8,
   "metadata": {
    "collapsed": false
   },
   "outputs": [
    {
     "name": "stderr",
     "output_type": "stream",
     "text": [
      "/home/rsouza/python/3/venv/local/lib/python3.5/site-packages/numpy/lib/function_base.py:3834: RuntimeWarning: Invalid value encountered in percentile\n",
      "  RuntimeWarning)\n"
     ]
    },
    {
     "data": {
      "text/html": [
       "<div>\n",
       "<table border=\"1\" class=\"dataframe\">\n",
       "  <thead>\n",
       "    <tr style=\"text-align: right;\">\n",
       "      <th></th>\n",
       "      <th>PassengerId</th>\n",
       "      <th>Survived</th>\n",
       "      <th>Pclass</th>\n",
       "      <th>Age</th>\n",
       "      <th>SibSp</th>\n",
       "      <th>Parch</th>\n",
       "      <th>Fare</th>\n",
       "    </tr>\n",
       "  </thead>\n",
       "  <tbody>\n",
       "    <tr>\n",
       "      <th>count</th>\n",
       "      <td>891.000000</td>\n",
       "      <td>891.000000</td>\n",
       "      <td>891.000000</td>\n",
       "      <td>714.000000</td>\n",
       "      <td>891.000000</td>\n",
       "      <td>891.000000</td>\n",
       "      <td>891.000000</td>\n",
       "    </tr>\n",
       "    <tr>\n",
       "      <th>mean</th>\n",
       "      <td>446.000000</td>\n",
       "      <td>0.383838</td>\n",
       "      <td>2.308642</td>\n",
       "      <td>29.699118</td>\n",
       "      <td>0.523008</td>\n",
       "      <td>0.381594</td>\n",
       "      <td>32.204208</td>\n",
       "    </tr>\n",
       "    <tr>\n",
       "      <th>std</th>\n",
       "      <td>257.353842</td>\n",
       "      <td>0.486592</td>\n",
       "      <td>0.836071</td>\n",
       "      <td>14.526497</td>\n",
       "      <td>1.102743</td>\n",
       "      <td>0.806057</td>\n",
       "      <td>49.693429</td>\n",
       "    </tr>\n",
       "    <tr>\n",
       "      <th>min</th>\n",
       "      <td>1.000000</td>\n",
       "      <td>0.000000</td>\n",
       "      <td>1.000000</td>\n",
       "      <td>0.420000</td>\n",
       "      <td>0.000000</td>\n",
       "      <td>0.000000</td>\n",
       "      <td>0.000000</td>\n",
       "    </tr>\n",
       "    <tr>\n",
       "      <th>25%</th>\n",
       "      <td>223.500000</td>\n",
       "      <td>0.000000</td>\n",
       "      <td>2.000000</td>\n",
       "      <td>NaN</td>\n",
       "      <td>0.000000</td>\n",
       "      <td>0.000000</td>\n",
       "      <td>7.910400</td>\n",
       "    </tr>\n",
       "    <tr>\n",
       "      <th>50%</th>\n",
       "      <td>446.000000</td>\n",
       "      <td>0.000000</td>\n",
       "      <td>3.000000</td>\n",
       "      <td>NaN</td>\n",
       "      <td>0.000000</td>\n",
       "      <td>0.000000</td>\n",
       "      <td>14.454200</td>\n",
       "    </tr>\n",
       "    <tr>\n",
       "      <th>75%</th>\n",
       "      <td>668.500000</td>\n",
       "      <td>1.000000</td>\n",
       "      <td>3.000000</td>\n",
       "      <td>NaN</td>\n",
       "      <td>1.000000</td>\n",
       "      <td>0.000000</td>\n",
       "      <td>31.000000</td>\n",
       "    </tr>\n",
       "    <tr>\n",
       "      <th>max</th>\n",
       "      <td>891.000000</td>\n",
       "      <td>1.000000</td>\n",
       "      <td>3.000000</td>\n",
       "      <td>80.000000</td>\n",
       "      <td>8.000000</td>\n",
       "      <td>6.000000</td>\n",
       "      <td>512.329200</td>\n",
       "    </tr>\n",
       "  </tbody>\n",
       "</table>\n",
       "</div>"
      ],
      "text/plain": [
       "       PassengerId    Survived      Pclass         Age       SibSp  \\\n",
       "count   891.000000  891.000000  891.000000  714.000000  891.000000   \n",
       "mean    446.000000    0.383838    2.308642   29.699118    0.523008   \n",
       "std     257.353842    0.486592    0.836071   14.526497    1.102743   \n",
       "min       1.000000    0.000000    1.000000    0.420000    0.000000   \n",
       "25%     223.500000    0.000000    2.000000         NaN    0.000000   \n",
       "50%     446.000000    0.000000    3.000000         NaN    0.000000   \n",
       "75%     668.500000    1.000000    3.000000         NaN    1.000000   \n",
       "max     891.000000    1.000000    3.000000   80.000000    8.000000   \n",
       "\n",
       "            Parch        Fare  \n",
       "count  891.000000  891.000000  \n",
       "mean     0.381594   32.204208  \n",
       "std      0.806057   49.693429  \n",
       "min      0.000000    0.000000  \n",
       "25%      0.000000    7.910400  \n",
       "50%      0.000000   14.454200  \n",
       "75%      0.000000   31.000000  \n",
       "max      6.000000  512.329200  "
      ]
     },
     "execution_count": 8,
     "metadata": {},
     "output_type": "execute_result"
    }
   ],
   "source": [
    "df_train.describe()"
   ]
  },
  {
   "cell_type": "code",
   "execution_count": 9,
   "metadata": {
    "collapsed": false
   },
   "outputs": [
    {
     "name": "stdout",
     "output_type": "stream",
     "text": [
      "[0, 1]\n",
      "[1, 2, 3]\n",
      "[0, 1, 2, 3, 4, 5, 8]\n",
      "['S' 'C' 'Q' nan]\n"
     ]
    }
   ],
   "source": [
    "print(sorted(df_train.Survived.unique()))\n",
    "print(sorted(df_train.Pclass.unique()))\n",
    "print(sorted(df_train.SibSp.unique()))\n",
    "print(df_train.Embarked.unique())"
   ]
  },
  {
   "cell_type": "code",
   "execution_count": 10,
   "metadata": {
    "collapsed": false
   },
   "outputs": [
    {
     "name": "stderr",
     "output_type": "stream",
     "text": [
      "/home/rsouza/python/3/venv/local/lib/python3.5/site-packages/numpy/lib/function_base.py:3834: RuntimeWarning: Invalid value encountered in percentile\n",
      "  RuntimeWarning)\n"
     ]
    },
    {
     "data": {
      "text/html": [
       "<div>\n",
       "<table border=\"1\" class=\"dataframe\">\n",
       "  <thead>\n",
       "    <tr style=\"text-align: right;\">\n",
       "      <th></th>\n",
       "      <th></th>\n",
       "      <th>Age</th>\n",
       "      <th>Fare</th>\n",
       "      <th>Parch</th>\n",
       "      <th>PassengerId</th>\n",
       "      <th>Pclass</th>\n",
       "      <th>SibSp</th>\n",
       "      <th>Survived</th>\n",
       "    </tr>\n",
       "    <tr>\n",
       "      <th>Sex</th>\n",
       "      <th></th>\n",
       "      <th></th>\n",
       "      <th></th>\n",
       "      <th></th>\n",
       "      <th></th>\n",
       "      <th></th>\n",
       "      <th></th>\n",
       "      <th></th>\n",
       "    </tr>\n",
       "  </thead>\n",
       "  <tbody>\n",
       "    <tr>\n",
       "      <th rowspan=\"8\" valign=\"top\">female</th>\n",
       "      <th>count</th>\n",
       "      <td>261.000000</td>\n",
       "      <td>314.000000</td>\n",
       "      <td>314.000000</td>\n",
       "      <td>314.000000</td>\n",
       "      <td>314.000000</td>\n",
       "      <td>314.000000</td>\n",
       "      <td>314.000000</td>\n",
       "    </tr>\n",
       "    <tr>\n",
       "      <th>mean</th>\n",
       "      <td>27.915709</td>\n",
       "      <td>44.479818</td>\n",
       "      <td>0.649682</td>\n",
       "      <td>431.028662</td>\n",
       "      <td>2.159236</td>\n",
       "      <td>0.694268</td>\n",
       "      <td>0.742038</td>\n",
       "    </tr>\n",
       "    <tr>\n",
       "      <th>std</th>\n",
       "      <td>14.110146</td>\n",
       "      <td>57.997698</td>\n",
       "      <td>1.022846</td>\n",
       "      <td>256.846324</td>\n",
       "      <td>0.857290</td>\n",
       "      <td>1.156520</td>\n",
       "      <td>0.438211</td>\n",
       "    </tr>\n",
       "    <tr>\n",
       "      <th>min</th>\n",
       "      <td>0.750000</td>\n",
       "      <td>6.750000</td>\n",
       "      <td>0.000000</td>\n",
       "      <td>2.000000</td>\n",
       "      <td>1.000000</td>\n",
       "      <td>0.000000</td>\n",
       "      <td>0.000000</td>\n",
       "    </tr>\n",
       "    <tr>\n",
       "      <th>25%</th>\n",
       "      <td>NaN</td>\n",
       "      <td>12.071875</td>\n",
       "      <td>0.000000</td>\n",
       "      <td>231.750000</td>\n",
       "      <td>1.000000</td>\n",
       "      <td>0.000000</td>\n",
       "      <td>0.000000</td>\n",
       "    </tr>\n",
       "    <tr>\n",
       "      <th>50%</th>\n",
       "      <td>NaN</td>\n",
       "      <td>23.000000</td>\n",
       "      <td>0.000000</td>\n",
       "      <td>414.500000</td>\n",
       "      <td>2.000000</td>\n",
       "      <td>0.000000</td>\n",
       "      <td>1.000000</td>\n",
       "    </tr>\n",
       "    <tr>\n",
       "      <th>75%</th>\n",
       "      <td>NaN</td>\n",
       "      <td>55.000000</td>\n",
       "      <td>1.000000</td>\n",
       "      <td>641.250000</td>\n",
       "      <td>3.000000</td>\n",
       "      <td>1.000000</td>\n",
       "      <td>1.000000</td>\n",
       "    </tr>\n",
       "    <tr>\n",
       "      <th>max</th>\n",
       "      <td>63.000000</td>\n",
       "      <td>512.329200</td>\n",
       "      <td>6.000000</td>\n",
       "      <td>889.000000</td>\n",
       "      <td>3.000000</td>\n",
       "      <td>8.000000</td>\n",
       "      <td>1.000000</td>\n",
       "    </tr>\n",
       "    <tr>\n",
       "      <th rowspan=\"8\" valign=\"top\">male</th>\n",
       "      <th>count</th>\n",
       "      <td>453.000000</td>\n",
       "      <td>577.000000</td>\n",
       "      <td>577.000000</td>\n",
       "      <td>577.000000</td>\n",
       "      <td>577.000000</td>\n",
       "      <td>577.000000</td>\n",
       "      <td>577.000000</td>\n",
       "    </tr>\n",
       "    <tr>\n",
       "      <th>mean</th>\n",
       "      <td>30.726645</td>\n",
       "      <td>25.523893</td>\n",
       "      <td>0.235702</td>\n",
       "      <td>454.147314</td>\n",
       "      <td>2.389948</td>\n",
       "      <td>0.429809</td>\n",
       "      <td>0.188908</td>\n",
       "    </tr>\n",
       "    <tr>\n",
       "      <th>std</th>\n",
       "      <td>14.678201</td>\n",
       "      <td>43.138263</td>\n",
       "      <td>0.612294</td>\n",
       "      <td>257.486139</td>\n",
       "      <td>0.813580</td>\n",
       "      <td>1.061811</td>\n",
       "      <td>0.391775</td>\n",
       "    </tr>\n",
       "    <tr>\n",
       "      <th>min</th>\n",
       "      <td>0.420000</td>\n",
       "      <td>0.000000</td>\n",
       "      <td>0.000000</td>\n",
       "      <td>1.000000</td>\n",
       "      <td>1.000000</td>\n",
       "      <td>0.000000</td>\n",
       "      <td>0.000000</td>\n",
       "    </tr>\n",
       "    <tr>\n",
       "      <th>25%</th>\n",
       "      <td>NaN</td>\n",
       "      <td>7.895800</td>\n",
       "      <td>0.000000</td>\n",
       "      <td>222.000000</td>\n",
       "      <td>2.000000</td>\n",
       "      <td>0.000000</td>\n",
       "      <td>0.000000</td>\n",
       "    </tr>\n",
       "    <tr>\n",
       "      <th>50%</th>\n",
       "      <td>NaN</td>\n",
       "      <td>10.500000</td>\n",
       "      <td>0.000000</td>\n",
       "      <td>464.000000</td>\n",
       "      <td>3.000000</td>\n",
       "      <td>0.000000</td>\n",
       "      <td>0.000000</td>\n",
       "    </tr>\n",
       "    <tr>\n",
       "      <th>75%</th>\n",
       "      <td>NaN</td>\n",
       "      <td>26.550000</td>\n",
       "      <td>0.000000</td>\n",
       "      <td>680.000000</td>\n",
       "      <td>3.000000</td>\n",
       "      <td>0.000000</td>\n",
       "      <td>0.000000</td>\n",
       "    </tr>\n",
       "    <tr>\n",
       "      <th>max</th>\n",
       "      <td>80.000000</td>\n",
       "      <td>512.329200</td>\n",
       "      <td>5.000000</td>\n",
       "      <td>891.000000</td>\n",
       "      <td>3.000000</td>\n",
       "      <td>8.000000</td>\n",
       "      <td>1.000000</td>\n",
       "    </tr>\n",
       "  </tbody>\n",
       "</table>\n",
       "</div>"
      ],
      "text/plain": [
       "                     Age        Fare       Parch  PassengerId      Pclass  \\\n",
       "Sex                                                                         \n",
       "female count  261.000000  314.000000  314.000000   314.000000  314.000000   \n",
       "       mean    27.915709   44.479818    0.649682   431.028662    2.159236   \n",
       "       std     14.110146   57.997698    1.022846   256.846324    0.857290   \n",
       "       min      0.750000    6.750000    0.000000     2.000000    1.000000   \n",
       "       25%           NaN   12.071875    0.000000   231.750000    1.000000   \n",
       "       50%           NaN   23.000000    0.000000   414.500000    2.000000   \n",
       "       75%           NaN   55.000000    1.000000   641.250000    3.000000   \n",
       "       max     63.000000  512.329200    6.000000   889.000000    3.000000   \n",
       "male   count  453.000000  577.000000  577.000000   577.000000  577.000000   \n",
       "       mean    30.726645   25.523893    0.235702   454.147314    2.389948   \n",
       "       std     14.678201   43.138263    0.612294   257.486139    0.813580   \n",
       "       min      0.420000    0.000000    0.000000     1.000000    1.000000   \n",
       "       25%           NaN    7.895800    0.000000   222.000000    2.000000   \n",
       "       50%           NaN   10.500000    0.000000   464.000000    3.000000   \n",
       "       75%           NaN   26.550000    0.000000   680.000000    3.000000   \n",
       "       max     80.000000  512.329200    5.000000   891.000000    3.000000   \n",
       "\n",
       "                   SibSp    Survived  \n",
       "Sex                                   \n",
       "female count  314.000000  314.000000  \n",
       "       mean     0.694268    0.742038  \n",
       "       std      1.156520    0.438211  \n",
       "       min      0.000000    0.000000  \n",
       "       25%      0.000000    0.000000  \n",
       "       50%      0.000000    1.000000  \n",
       "       75%      1.000000    1.000000  \n",
       "       max      8.000000    1.000000  \n",
       "male   count  577.000000  577.000000  \n",
       "       mean     0.429809    0.188908  \n",
       "       std      1.061811    0.391775  \n",
       "       min      0.000000    0.000000  \n",
       "       25%      0.000000    0.000000  \n",
       "       50%      0.000000    0.000000  \n",
       "       75%      0.000000    0.000000  \n",
       "       max      8.000000    1.000000  "
      ]
     },
     "execution_count": 10,
     "metadata": {},
     "output_type": "execute_result"
    }
   ],
   "source": [
    "df_by_sex = df_train.groupby('Sex')\n",
    "df_by_sex.describe()"
   ]
  },
  {
   "cell_type": "code",
   "execution_count": 11,
   "metadata": {
    "collapsed": false
   },
   "outputs": [],
   "source": [
    "df_train['Gender'] = df_train['Sex'].map( {'female': 0, 'male': 1} ).astype(int)\n",
    "df_train['Embarked'] = df_train['Embarked'].map( {np.nan:0,'C':1, 'Q':2,'S':3} ).astype(int)\n",
    "df_test['Gender'] = df_test['Sex'].map( {'female': 0, 'male': 1} ).astype(int)\n",
    "df_test['Embarked'] = df_test['Embarked'].map( {np.nan:0,'C':1, 'Q':2,'S':3} ).astype(int)"
   ]
  },
  {
   "cell_type": "code",
   "execution_count": 12,
   "metadata": {
    "collapsed": false
   },
   "outputs": [
    {
     "name": "stderr",
     "output_type": "stream",
     "text": [
      "/home/rsouza/python/3/venv/local/lib/python3.5/site-packages/numpy/lib/function_base.py:3834: RuntimeWarning: Invalid value encountered in percentile\n",
      "  RuntimeWarning)\n"
     ]
    },
    {
     "data": {
      "text/html": [
       "<div>\n",
       "<table border=\"1\" class=\"dataframe\">\n",
       "  <thead>\n",
       "    <tr style=\"text-align: right;\">\n",
       "      <th></th>\n",
       "      <th></th>\n",
       "      <th>Age</th>\n",
       "      <th>Embarked</th>\n",
       "      <th>Fare</th>\n",
       "      <th>Gender</th>\n",
       "      <th>Parch</th>\n",
       "      <th>PassengerId</th>\n",
       "      <th>SibSp</th>\n",
       "      <th>Survived</th>\n",
       "    </tr>\n",
       "    <tr>\n",
       "      <th>Pclass</th>\n",
       "      <th></th>\n",
       "      <th></th>\n",
       "      <th></th>\n",
       "      <th></th>\n",
       "      <th></th>\n",
       "      <th></th>\n",
       "      <th></th>\n",
       "      <th></th>\n",
       "      <th></th>\n",
       "    </tr>\n",
       "  </thead>\n",
       "  <tbody>\n",
       "    <tr>\n",
       "      <th rowspan=\"8\" valign=\"top\">1</th>\n",
       "      <th>count</th>\n",
       "      <td>186.000000</td>\n",
       "      <td>216.000000</td>\n",
       "      <td>216.000000</td>\n",
       "      <td>216.000000</td>\n",
       "      <td>216.000000</td>\n",
       "      <td>216.000000</td>\n",
       "      <td>216.000000</td>\n",
       "      <td>216.000000</td>\n",
       "    </tr>\n",
       "    <tr>\n",
       "      <th>mean</th>\n",
       "      <td>38.233441</td>\n",
       "      <td>2.175926</td>\n",
       "      <td>84.154687</td>\n",
       "      <td>0.564815</td>\n",
       "      <td>0.356481</td>\n",
       "      <td>461.597222</td>\n",
       "      <td>0.416667</td>\n",
       "      <td>0.629630</td>\n",
       "    </tr>\n",
       "    <tr>\n",
       "      <th>std</th>\n",
       "      <td>14.802856</td>\n",
       "      <td>0.996073</td>\n",
       "      <td>78.380373</td>\n",
       "      <td>0.496933</td>\n",
       "      <td>0.693997</td>\n",
       "      <td>246.737616</td>\n",
       "      <td>0.611898</td>\n",
       "      <td>0.484026</td>\n",
       "    </tr>\n",
       "    <tr>\n",
       "      <th>min</th>\n",
       "      <td>0.920000</td>\n",
       "      <td>0.000000</td>\n",
       "      <td>0.000000</td>\n",
       "      <td>0.000000</td>\n",
       "      <td>0.000000</td>\n",
       "      <td>2.000000</td>\n",
       "      <td>0.000000</td>\n",
       "      <td>0.000000</td>\n",
       "    </tr>\n",
       "    <tr>\n",
       "      <th>25%</th>\n",
       "      <td>NaN</td>\n",
       "      <td>1.000000</td>\n",
       "      <td>30.923950</td>\n",
       "      <td>0.000000</td>\n",
       "      <td>0.000000</td>\n",
       "      <td>270.750000</td>\n",
       "      <td>0.000000</td>\n",
       "      <td>0.000000</td>\n",
       "    </tr>\n",
       "    <tr>\n",
       "      <th>50%</th>\n",
       "      <td>NaN</td>\n",
       "      <td>3.000000</td>\n",
       "      <td>60.287500</td>\n",
       "      <td>1.000000</td>\n",
       "      <td>0.000000</td>\n",
       "      <td>472.000000</td>\n",
       "      <td>0.000000</td>\n",
       "      <td>1.000000</td>\n",
       "    </tr>\n",
       "    <tr>\n",
       "      <th>75%</th>\n",
       "      <td>NaN</td>\n",
       "      <td>3.000000</td>\n",
       "      <td>93.500000</td>\n",
       "      <td>1.000000</td>\n",
       "      <td>0.000000</td>\n",
       "      <td>670.500000</td>\n",
       "      <td>1.000000</td>\n",
       "      <td>1.000000</td>\n",
       "    </tr>\n",
       "    <tr>\n",
       "      <th>max</th>\n",
       "      <td>80.000000</td>\n",
       "      <td>3.000000</td>\n",
       "      <td>512.329200</td>\n",
       "      <td>1.000000</td>\n",
       "      <td>4.000000</td>\n",
       "      <td>890.000000</td>\n",
       "      <td>3.000000</td>\n",
       "      <td>1.000000</td>\n",
       "    </tr>\n",
       "    <tr>\n",
       "      <th rowspan=\"8\" valign=\"top\">2</th>\n",
       "      <th>count</th>\n",
       "      <td>173.000000</td>\n",
       "      <td>184.000000</td>\n",
       "      <td>184.000000</td>\n",
       "      <td>184.000000</td>\n",
       "      <td>184.000000</td>\n",
       "      <td>184.000000</td>\n",
       "      <td>184.000000</td>\n",
       "      <td>184.000000</td>\n",
       "    </tr>\n",
       "    <tr>\n",
       "      <th>mean</th>\n",
       "      <td>29.877630</td>\n",
       "      <td>2.798913</td>\n",
       "      <td>20.662183</td>\n",
       "      <td>0.586957</td>\n",
       "      <td>0.380435</td>\n",
       "      <td>445.956522</td>\n",
       "      <td>0.402174</td>\n",
       "      <td>0.472826</td>\n",
       "    </tr>\n",
       "    <tr>\n",
       "      <th>std</th>\n",
       "      <td>14.001077</td>\n",
       "      <td>0.589340</td>\n",
       "      <td>13.417399</td>\n",
       "      <td>0.493724</td>\n",
       "      <td>0.690963</td>\n",
       "      <td>250.852161</td>\n",
       "      <td>0.601633</td>\n",
       "      <td>0.500623</td>\n",
       "    </tr>\n",
       "    <tr>\n",
       "      <th>min</th>\n",
       "      <td>0.670000</td>\n",
       "      <td>1.000000</td>\n",
       "      <td>0.000000</td>\n",
       "      <td>0.000000</td>\n",
       "      <td>0.000000</td>\n",
       "      <td>10.000000</td>\n",
       "      <td>0.000000</td>\n",
       "      <td>0.000000</td>\n",
       "    </tr>\n",
       "    <tr>\n",
       "      <th>25%</th>\n",
       "      <td>NaN</td>\n",
       "      <td>3.000000</td>\n",
       "      <td>13.000000</td>\n",
       "      <td>0.000000</td>\n",
       "      <td>0.000000</td>\n",
       "      <td>234.500000</td>\n",
       "      <td>0.000000</td>\n",
       "      <td>0.000000</td>\n",
       "    </tr>\n",
       "    <tr>\n",
       "      <th>50%</th>\n",
       "      <td>NaN</td>\n",
       "      <td>3.000000</td>\n",
       "      <td>14.250000</td>\n",
       "      <td>1.000000</td>\n",
       "      <td>0.000000</td>\n",
       "      <td>435.500000</td>\n",
       "      <td>0.000000</td>\n",
       "      <td>0.000000</td>\n",
       "    </tr>\n",
       "    <tr>\n",
       "      <th>75%</th>\n",
       "      <td>NaN</td>\n",
       "      <td>3.000000</td>\n",
       "      <td>26.000000</td>\n",
       "      <td>1.000000</td>\n",
       "      <td>1.000000</td>\n",
       "      <td>668.000000</td>\n",
       "      <td>1.000000</td>\n",
       "      <td>1.000000</td>\n",
       "    </tr>\n",
       "    <tr>\n",
       "      <th>max</th>\n",
       "      <td>70.000000</td>\n",
       "      <td>3.000000</td>\n",
       "      <td>73.500000</td>\n",
       "      <td>1.000000</td>\n",
       "      <td>3.000000</td>\n",
       "      <td>887.000000</td>\n",
       "      <td>3.000000</td>\n",
       "      <td>1.000000</td>\n",
       "    </tr>\n",
       "    <tr>\n",
       "      <th rowspan=\"8\" valign=\"top\">3</th>\n",
       "      <th>count</th>\n",
       "      <td>355.000000</td>\n",
       "      <td>491.000000</td>\n",
       "      <td>491.000000</td>\n",
       "      <td>491.000000</td>\n",
       "      <td>491.000000</td>\n",
       "      <td>491.000000</td>\n",
       "      <td>491.000000</td>\n",
       "      <td>491.000000</td>\n",
       "    </tr>\n",
       "    <tr>\n",
       "      <th>mean</th>\n",
       "      <td>25.140620</td>\n",
       "      <td>2.584521</td>\n",
       "      <td>13.675550</td>\n",
       "      <td>0.706721</td>\n",
       "      <td>0.393075</td>\n",
       "      <td>439.154786</td>\n",
       "      <td>0.615071</td>\n",
       "      <td>0.242363</td>\n",
       "    </tr>\n",
       "    <tr>\n",
       "      <th>std</th>\n",
       "      <td>12.495398</td>\n",
       "      <td>0.716058</td>\n",
       "      <td>11.778142</td>\n",
       "      <td>0.455730</td>\n",
       "      <td>0.888861</td>\n",
       "      <td>264.441453</td>\n",
       "      <td>1.374883</td>\n",
       "      <td>0.428949</td>\n",
       "    </tr>\n",
       "    <tr>\n",
       "      <th>min</th>\n",
       "      <td>0.420000</td>\n",
       "      <td>1.000000</td>\n",
       "      <td>0.000000</td>\n",
       "      <td>0.000000</td>\n",
       "      <td>0.000000</td>\n",
       "      <td>1.000000</td>\n",
       "      <td>0.000000</td>\n",
       "      <td>0.000000</td>\n",
       "    </tr>\n",
       "    <tr>\n",
       "      <th>25%</th>\n",
       "      <td>NaN</td>\n",
       "      <td>2.000000</td>\n",
       "      <td>7.750000</td>\n",
       "      <td>0.000000</td>\n",
       "      <td>0.000000</td>\n",
       "      <td>200.000000</td>\n",
       "      <td>0.000000</td>\n",
       "      <td>0.000000</td>\n",
       "    </tr>\n",
       "    <tr>\n",
       "      <th>50%</th>\n",
       "      <td>NaN</td>\n",
       "      <td>3.000000</td>\n",
       "      <td>8.050000</td>\n",
       "      <td>1.000000</td>\n",
       "      <td>0.000000</td>\n",
       "      <td>432.000000</td>\n",
       "      <td>0.000000</td>\n",
       "      <td>0.000000</td>\n",
       "    </tr>\n",
       "    <tr>\n",
       "      <th>75%</th>\n",
       "      <td>NaN</td>\n",
       "      <td>3.000000</td>\n",
       "      <td>15.500000</td>\n",
       "      <td>1.000000</td>\n",
       "      <td>0.000000</td>\n",
       "      <td>666.500000</td>\n",
       "      <td>1.000000</td>\n",
       "      <td>0.000000</td>\n",
       "    </tr>\n",
       "    <tr>\n",
       "      <th>max</th>\n",
       "      <td>74.000000</td>\n",
       "      <td>3.000000</td>\n",
       "      <td>69.550000</td>\n",
       "      <td>1.000000</td>\n",
       "      <td>6.000000</td>\n",
       "      <td>891.000000</td>\n",
       "      <td>8.000000</td>\n",
       "      <td>1.000000</td>\n",
       "    </tr>\n",
       "  </tbody>\n",
       "</table>\n",
       "</div>"
      ],
      "text/plain": [
       "                     Age    Embarked        Fare      Gender       Parch  \\\n",
       "Pclass                                                                     \n",
       "1      count  186.000000  216.000000  216.000000  216.000000  216.000000   \n",
       "       mean    38.233441    2.175926   84.154687    0.564815    0.356481   \n",
       "       std     14.802856    0.996073   78.380373    0.496933    0.693997   \n",
       "       min      0.920000    0.000000    0.000000    0.000000    0.000000   \n",
       "       25%           NaN    1.000000   30.923950    0.000000    0.000000   \n",
       "       50%           NaN    3.000000   60.287500    1.000000    0.000000   \n",
       "       75%           NaN    3.000000   93.500000    1.000000    0.000000   \n",
       "       max     80.000000    3.000000  512.329200    1.000000    4.000000   \n",
       "2      count  173.000000  184.000000  184.000000  184.000000  184.000000   \n",
       "       mean    29.877630    2.798913   20.662183    0.586957    0.380435   \n",
       "       std     14.001077    0.589340   13.417399    0.493724    0.690963   \n",
       "       min      0.670000    1.000000    0.000000    0.000000    0.000000   \n",
       "       25%           NaN    3.000000   13.000000    0.000000    0.000000   \n",
       "       50%           NaN    3.000000   14.250000    1.000000    0.000000   \n",
       "       75%           NaN    3.000000   26.000000    1.000000    1.000000   \n",
       "       max     70.000000    3.000000   73.500000    1.000000    3.000000   \n",
       "3      count  355.000000  491.000000  491.000000  491.000000  491.000000   \n",
       "       mean    25.140620    2.584521   13.675550    0.706721    0.393075   \n",
       "       std     12.495398    0.716058   11.778142    0.455730    0.888861   \n",
       "       min      0.420000    1.000000    0.000000    0.000000    0.000000   \n",
       "       25%           NaN    2.000000    7.750000    0.000000    0.000000   \n",
       "       50%           NaN    3.000000    8.050000    1.000000    0.000000   \n",
       "       75%           NaN    3.000000   15.500000    1.000000    0.000000   \n",
       "       max     74.000000    3.000000   69.550000    1.000000    6.000000   \n",
       "\n",
       "              PassengerId       SibSp    Survived  \n",
       "Pclass                                             \n",
       "1      count   216.000000  216.000000  216.000000  \n",
       "       mean    461.597222    0.416667    0.629630  \n",
       "       std     246.737616    0.611898    0.484026  \n",
       "       min       2.000000    0.000000    0.000000  \n",
       "       25%     270.750000    0.000000    0.000000  \n",
       "       50%     472.000000    0.000000    1.000000  \n",
       "       75%     670.500000    1.000000    1.000000  \n",
       "       max     890.000000    3.000000    1.000000  \n",
       "2      count   184.000000  184.000000  184.000000  \n",
       "       mean    445.956522    0.402174    0.472826  \n",
       "       std     250.852161    0.601633    0.500623  \n",
       "       min      10.000000    0.000000    0.000000  \n",
       "       25%     234.500000    0.000000    0.000000  \n",
       "       50%     435.500000    0.000000    0.000000  \n",
       "       75%     668.000000    1.000000    1.000000  \n",
       "       max     887.000000    3.000000    1.000000  \n",
       "3      count   491.000000  491.000000  491.000000  \n",
       "       mean    439.154786    0.615071    0.242363  \n",
       "       std     264.441453    1.374883    0.428949  \n",
       "       min       1.000000    0.000000    0.000000  \n",
       "       25%     200.000000    0.000000    0.000000  \n",
       "       50%     432.000000    0.000000    0.000000  \n",
       "       75%     666.500000    1.000000    0.000000  \n",
       "       max     891.000000    8.000000    1.000000  "
      ]
     },
     "execution_count": 12,
     "metadata": {},
     "output_type": "execute_result"
    }
   ],
   "source": [
    "df_by_class = df_train.groupby('Pclass')\n",
    "df_by_class.describe()"
   ]
  },
  {
   "cell_type": "code",
   "execution_count": 13,
   "metadata": {
    "collapsed": false
   },
   "outputs": [
    {
     "data": {
      "text/html": [
       "<div>\n",
       "<table border=\"1\" class=\"dataframe\">\n",
       "  <thead>\n",
       "    <tr style=\"text-align: right;\">\n",
       "      <th></th>\n",
       "      <th>Pclass</th>\n",
       "      <th>Age</th>\n",
       "      <th>Survived</th>\n",
       "    </tr>\n",
       "  </thead>\n",
       "  <tbody>\n",
       "    <tr>\n",
       "      <th>count</th>\n",
       "      <td>22.000000</td>\n",
       "      <td>22.000000</td>\n",
       "      <td>22.000000</td>\n",
       "    </tr>\n",
       "    <tr>\n",
       "      <th>mean</th>\n",
       "      <td>1.590909</td>\n",
       "      <td>66.022727</td>\n",
       "      <td>0.227273</td>\n",
       "    </tr>\n",
       "    <tr>\n",
       "      <th>std</th>\n",
       "      <td>0.854071</td>\n",
       "      <td>5.024884</td>\n",
       "      <td>0.428932</td>\n",
       "    </tr>\n",
       "    <tr>\n",
       "      <th>min</th>\n",
       "      <td>1.000000</td>\n",
       "      <td>61.000000</td>\n",
       "      <td>0.000000</td>\n",
       "    </tr>\n",
       "    <tr>\n",
       "      <th>25%</th>\n",
       "      <td>1.000000</td>\n",
       "      <td>62.000000</td>\n",
       "      <td>0.000000</td>\n",
       "    </tr>\n",
       "    <tr>\n",
       "      <th>50%</th>\n",
       "      <td>1.000000</td>\n",
       "      <td>64.500000</td>\n",
       "      <td>0.000000</td>\n",
       "    </tr>\n",
       "    <tr>\n",
       "      <th>75%</th>\n",
       "      <td>2.000000</td>\n",
       "      <td>70.000000</td>\n",
       "      <td>0.000000</td>\n",
       "    </tr>\n",
       "    <tr>\n",
       "      <th>max</th>\n",
       "      <td>3.000000</td>\n",
       "      <td>80.000000</td>\n",
       "      <td>1.000000</td>\n",
       "    </tr>\n",
       "  </tbody>\n",
       "</table>\n",
       "</div>"
      ],
      "text/plain": [
       "          Pclass        Age   Survived\n",
       "count  22.000000  22.000000  22.000000\n",
       "mean    1.590909  66.022727   0.227273\n",
       "std     0.854071   5.024884   0.428932\n",
       "min     1.000000  61.000000   0.000000\n",
       "25%     1.000000  62.000000   0.000000\n",
       "50%     1.000000  64.500000   0.000000\n",
       "75%     2.000000  70.000000   0.000000\n",
       "max     3.000000  80.000000   1.000000"
      ]
     },
     "execution_count": 13,
     "metadata": {},
     "output_type": "execute_result"
    }
   ],
   "source": [
    "df_train[df_train['Age'] > 60][['Sex', 'Pclass', 'Age', 'Survived']].describe()\n",
    "#df_train[df_train['Age'].isnull()][['Sex', 'Pclass', 'Age']]"
   ]
  },
  {
   "cell_type": "code",
   "execution_count": 14,
   "metadata": {
    "collapsed": false
   },
   "outputs": [
    {
     "name": "stdout",
     "output_type": "stream",
     "text": [
      "Homens\n",
      "1 122\n",
      "2 108\n",
      "3 347\n",
      "\n",
      "Mulheres\n",
      "1 94\n",
      "2 76\n",
      "3 144\n"
     ]
    }
   ],
   "source": [
    "print('Homens')\n",
    "for i in range(1,4):\n",
    "    print(i, len(df_train[ (df_train['Sex'] == 'male') & (df_train['Pclass'] == i) ]))\n",
    "print()\n",
    "print('Mulheres')\n",
    "for i in range(1,4):\n",
    "    print(i, len(df_train[ (df_train['Sex'] == 'female') & (df_train['Pclass'] == i) ]))"
   ]
  },
  {
   "cell_type": "code",
   "execution_count": 15,
   "metadata": {
    "collapsed": false
   },
   "outputs": [
    {
     "data": {
      "text/plain": [
       "<matplotlib.axes._subplots.AxesSubplot at 0x7fe8742eab70>"
      ]
     },
     "execution_count": 15,
     "metadata": {},
     "output_type": "execute_result"
    },
    {
     "data": {
      "image/png": "[encoded data removed]",
      "text/plain": [
       "<matplotlib.figure.Figure at 0x7fe87425b1d0>"
      ]
     },
     "metadata": {},
     "output_type": "display_data"
    }
   ],
   "source": [
    "#df_train['Age'].hist()\n",
    "df_train['Age'].dropna().hist(bins=16, range=(0,80), alpha = .5)"
   ]
  },
  {
   "cell_type": "markdown",
   "metadata": {},
   "source": [
    "Resolvendo a questão dos valores nulos"
   ]
  },
  {
   "cell_type": "code",
   "execution_count": 16,
   "metadata": {
    "collapsed": false
   },
   "outputs": [],
   "source": [
    "df_train['AgeFill'] = df_train['Age']\n",
    "df_test['AgeFill'] = df_test['Age']"
   ]
  },
  {
   "cell_type": "code",
   "execution_count": 17,
   "metadata": {
    "collapsed": false
   },
   "outputs": [
    {
     "data": {
      "text/html": [
       "<div>\n",
       "<table border=\"1\" class=\"dataframe\">\n",
       "  <thead>\n",
       "    <tr style=\"text-align: right;\">\n",
       "      <th></th>\n",
       "      <th>Gender</th>\n",
       "      <th>Pclass</th>\n",
       "      <th>Age</th>\n",
       "      <th>AgeFill</th>\n",
       "    </tr>\n",
       "  </thead>\n",
       "  <tbody>\n",
       "    <tr>\n",
       "      <th>5</th>\n",
       "      <td>1</td>\n",
       "      <td>3</td>\n",
       "      <td>NaN</td>\n",
       "      <td>NaN</td>\n",
       "    </tr>\n",
       "    <tr>\n",
       "      <th>17</th>\n",
       "      <td>1</td>\n",
       "      <td>2</td>\n",
       "      <td>NaN</td>\n",
       "      <td>NaN</td>\n",
       "    </tr>\n",
       "    <tr>\n",
       "      <th>19</th>\n",
       "      <td>0</td>\n",
       "      <td>3</td>\n",
       "      <td>NaN</td>\n",
       "      <td>NaN</td>\n",
       "    </tr>\n",
       "    <tr>\n",
       "      <th>26</th>\n",
       "      <td>1</td>\n",
       "      <td>3</td>\n",
       "      <td>NaN</td>\n",
       "      <td>NaN</td>\n",
       "    </tr>\n",
       "  </tbody>\n",
       "</table>\n",
       "</div>"
      ],
      "text/plain": [
       "    Gender  Pclass  Age  AgeFill\n",
       "5        1       3  NaN      NaN\n",
       "17       1       2  NaN      NaN\n",
       "19       0       3  NaN      NaN\n",
       "26       1       3  NaN      NaN"
      ]
     },
     "execution_count": 17,
     "metadata": {},
     "output_type": "execute_result"
    }
   ],
   "source": [
    "df_train[df_train['Age'].isnull()][['Gender','Pclass','Age','AgeFill']].head(4)"
   ]
  },
  {
   "cell_type": "code",
   "execution_count": 18,
   "metadata": {
    "collapsed": false
   },
   "outputs": [
    {
     "data": {
      "text/plain": [
       "177"
      ]
     },
     "execution_count": 18,
     "metadata": {},
     "output_type": "execute_result"
    }
   ],
   "source": [
    "len(df_train[df_train['Age'].isnull()])"
   ]
  },
  {
   "cell_type": "code",
   "execution_count": 19,
   "metadata": {
    "collapsed": false
   },
   "outputs": [
    {
     "data": {
      "text/plain": [
       "array([[ 35. ,  28. ,  21.5],\n",
       "       [ 40. ,  30. ,  25. ]])"
      ]
     },
     "execution_count": 19,
     "metadata": {},
     "output_type": "execute_result"
    }
   ],
   "source": [
    "median_ages = np.zeros((2,3))\n",
    "for i in range(0, 2):\n",
    "    for j in range(0, 3):\n",
    "        median_ages[i,j] = df_train[(df_train['Gender'] == i) & (df_train['Pclass'] == j+1)]['Age'].dropna().median()\n",
    "median_ages"
   ]
  },
  {
   "cell_type": "code",
   "execution_count": 20,
   "metadata": {
    "collapsed": false
   },
   "outputs": [],
   "source": [
    "for i in range(0, 2):\n",
    "    for j in range(0, 3):\n",
    "        df_train.loc[(df_train.Age.isnull()) & (df_train.Gender == i) & (df_train.Pclass == j+1),'AgeFill'] = median_ages[i,j]\n",
    "        df_test.loc[(df_test.Age.isnull()) & (df_test.Gender == i) & (df_test.Pclass == j+1),'AgeFill'] = median_ages[i,j]"
   ]
  },
  {
   "cell_type": "code",
   "execution_count": 21,
   "metadata": {
    "collapsed": false
   },
   "outputs": [
    {
     "name": "stdout",
     "output_type": "stream",
     "text": [
      "<class 'pandas.core.frame.DataFrame'>\n",
      "RangeIndex: 891 entries, 0 to 890\n",
      "Data columns (total 14 columns):\n",
      "PassengerId    891 non-null int64\n",
      "Survived       891 non-null int64\n",
      "Pclass         891 non-null int64\n",
      "Name           891 non-null object\n",
      "Sex            891 non-null object\n",
      "Age            714 non-null float64\n",
      "SibSp          891 non-null int64\n",
      "Parch          891 non-null int64\n",
      "Ticket         891 non-null object\n",
      "Fare           891 non-null float64\n",
      "Cabin          204 non-null object\n",
      "Embarked       891 non-null int64\n",
      "Gender         891 non-null int64\n",
      "AgeFill        891 non-null float64\n",
      "dtypes: float64(3), int64(7), object(4)\n",
      "memory usage: 97.5+ KB\n"
     ]
    }
   ],
   "source": [
    "df_train.info()"
   ]
  },
  {
   "cell_type": "code",
   "execution_count": 22,
   "metadata": {
    "collapsed": false
   },
   "outputs": [
    {
     "data": {
      "text/plain": [
       "Name      object\n",
       "Sex       object\n",
       "Ticket    object\n",
       "Cabin     object\n",
       "dtype: object"
      ]
     },
     "execution_count": 22,
     "metadata": {},
     "output_type": "execute_result"
    }
   ],
   "source": [
    "df_train.dtypes[df_train.dtypes.map(lambda x: x=='object')]"
   ]
  },
  {
   "cell_type": "code",
   "execution_count": 23,
   "metadata": {
    "collapsed": false
   },
   "outputs": [
    {
     "data": {
      "text/html": [
       "<div>\n",
       "<table border=\"1\" class=\"dataframe\">\n",
       "  <thead>\n",
       "    <tr style=\"text-align: right;\">\n",
       "      <th></th>\n",
       "      <th>PassengerId</th>\n",
       "      <th>Survived</th>\n",
       "      <th>Pclass</th>\n",
       "      <th>SibSp</th>\n",
       "      <th>Parch</th>\n",
       "      <th>Fare</th>\n",
       "      <th>Gender</th>\n",
       "      <th>AgeFill</th>\n",
       "      <th>FamilySize</th>\n",
       "      <th>Age*Class</th>\n",
       "    </tr>\n",
       "  </thead>\n",
       "  <tbody>\n",
       "    <tr>\n",
       "      <th>0</th>\n",
       "      <td>1</td>\n",
       "      <td>0</td>\n",
       "      <td>3</td>\n",
       "      <td>1</td>\n",
       "      <td>0</td>\n",
       "      <td>7.2500</td>\n",
       "      <td>1</td>\n",
       "      <td>22.0</td>\n",
       "      <td>1</td>\n",
       "      <td>66.0</td>\n",
       "    </tr>\n",
       "    <tr>\n",
       "      <th>1</th>\n",
       "      <td>2</td>\n",
       "      <td>1</td>\n",
       "      <td>1</td>\n",
       "      <td>1</td>\n",
       "      <td>0</td>\n",
       "      <td>71.2833</td>\n",
       "      <td>0</td>\n",
       "      <td>38.0</td>\n",
       "      <td>1</td>\n",
       "      <td>38.0</td>\n",
       "    </tr>\n",
       "    <tr>\n",
       "      <th>2</th>\n",
       "      <td>3</td>\n",
       "      <td>1</td>\n",
       "      <td>3</td>\n",
       "      <td>0</td>\n",
       "      <td>0</td>\n",
       "      <td>7.9250</td>\n",
       "      <td>0</td>\n",
       "      <td>26.0</td>\n",
       "      <td>0</td>\n",
       "      <td>78.0</td>\n",
       "    </tr>\n",
       "    <tr>\n",
       "      <th>3</th>\n",
       "      <td>4</td>\n",
       "      <td>1</td>\n",
       "      <td>1</td>\n",
       "      <td>1</td>\n",
       "      <td>0</td>\n",
       "      <td>53.1000</td>\n",
       "      <td>0</td>\n",
       "      <td>35.0</td>\n",
       "      <td>1</td>\n",
       "      <td>35.0</td>\n",
       "    </tr>\n",
       "    <tr>\n",
       "      <th>4</th>\n",
       "      <td>5</td>\n",
       "      <td>0</td>\n",
       "      <td>3</td>\n",
       "      <td>0</td>\n",
       "      <td>0</td>\n",
       "      <td>8.0500</td>\n",
       "      <td>1</td>\n",
       "      <td>35.0</td>\n",
       "      <td>0</td>\n",
       "      <td>105.0</td>\n",
       "    </tr>\n",
       "  </tbody>\n",
       "</table>\n",
       "</div>"
      ],
      "text/plain": [
       "   PassengerId  Survived  Pclass  SibSp  Parch     Fare  Gender  AgeFill  \\\n",
       "0            1         0       3      1      0   7.2500       1     22.0   \n",
       "1            2         1       1      1      0  71.2833       0     38.0   \n",
       "2            3         1       3      0      0   7.9250       0     26.0   \n",
       "3            4         1       1      1      0  53.1000       0     35.0   \n",
       "4            5         0       3      0      0   8.0500       1     35.0   \n",
       "\n",
       "   FamilySize  Age*Class  \n",
       "0           1       66.0  \n",
       "1           1       38.0  \n",
       "2           0       78.0  \n",
       "3           1       35.0  \n",
       "4           0      105.0  "
      ]
     },
     "execution_count": 23,
     "metadata": {},
     "output_type": "execute_result"
    }
   ],
   "source": [
    "df_train['FamilySize'] = df_train['SibSp'] + df_train['Parch']\n",
    "df_train['Age*Class'] = df_train.AgeFill * df_train.Pclass\n",
    "df_train2 = df_train.drop(['Age','Name', 'Sex', 'Ticket', 'Cabin', 'Embarked'], axis=1)\n",
    "df_train2 = df_train2.dropna()\n",
    "df_train2.head()"
   ]
  },
  {
   "cell_type": "code",
   "execution_count": 24,
   "metadata": {
    "collapsed": false
   },
   "outputs": [
    {
     "name": "stdout",
     "output_type": "stream",
     "text": [
      "(891, 10)\n"
     ]
    },
    {
     "data": {
      "text/plain": [
       "array([[   1. ,    0. ,    3. , ...,   22. ,    1. ,   66. ],\n",
       "       [   2. ,    1. ,    1. , ...,   38. ,    1. ,   38. ],\n",
       "       [   3. ,    1. ,    3. , ...,   26. ,    0. ,   78. ],\n",
       "       ..., \n",
       "       [ 889. ,    0. ,    3. , ...,   21.5,    3. ,   64.5],\n",
       "       [ 890. ,    1. ,    1. , ...,   26. ,    0. ,   26. ],\n",
       "       [ 891. ,    0. ,    3. , ...,   32. ,    0. ,   96. ]])"
      ]
     },
     "execution_count": 24,
     "metadata": {},
     "output_type": "execute_result"
    }
   ],
   "source": [
    "train_data = df_train2.values\n",
    "print(train_data.shape)\n",
    "train_data"
   ]
  },
  {
   "cell_type": "code",
   "execution_count": 25,
   "metadata": {
    "collapsed": false
   },
   "outputs": [
    {
     "data": {
      "text/html": [
       "<div>\n",
       "<table border=\"1\" class=\"dataframe\">\n",
       "  <thead>\n",
       "    <tr style=\"text-align: right;\">\n",
       "      <th></th>\n",
       "      <th>PassengerId</th>\n",
       "      <th>Pclass</th>\n",
       "      <th>SibSp</th>\n",
       "      <th>Parch</th>\n",
       "      <th>Fare</th>\n",
       "      <th>Gender</th>\n",
       "      <th>AgeFill</th>\n",
       "      <th>FamilySize</th>\n",
       "      <th>Age*Class</th>\n",
       "    </tr>\n",
       "  </thead>\n",
       "  <tbody>\n",
       "    <tr>\n",
       "      <th>0</th>\n",
       "      <td>892</td>\n",
       "      <td>3</td>\n",
       "      <td>0</td>\n",
       "      <td>0</td>\n",
       "      <td>7.8292</td>\n",
       "      <td>1</td>\n",
       "      <td>34.5</td>\n",
       "      <td>0</td>\n",
       "      <td>103.5</td>\n",
       "    </tr>\n",
       "    <tr>\n",
       "      <th>1</th>\n",
       "      <td>893</td>\n",
       "      <td>3</td>\n",
       "      <td>1</td>\n",
       "      <td>0</td>\n",
       "      <td>7.0000</td>\n",
       "      <td>0</td>\n",
       "      <td>47.0</td>\n",
       "      <td>1</td>\n",
       "      <td>141.0</td>\n",
       "    </tr>\n",
       "    <tr>\n",
       "      <th>2</th>\n",
       "      <td>894</td>\n",
       "      <td>2</td>\n",
       "      <td>0</td>\n",
       "      <td>0</td>\n",
       "      <td>9.6875</td>\n",
       "      <td>1</td>\n",
       "      <td>62.0</td>\n",
       "      <td>0</td>\n",
       "      <td>124.0</td>\n",
       "    </tr>\n",
       "    <tr>\n",
       "      <th>3</th>\n",
       "      <td>895</td>\n",
       "      <td>3</td>\n",
       "      <td>0</td>\n",
       "      <td>0</td>\n",
       "      <td>8.6625</td>\n",
       "      <td>1</td>\n",
       "      <td>27.0</td>\n",
       "      <td>0</td>\n",
       "      <td>81.0</td>\n",
       "    </tr>\n",
       "    <tr>\n",
       "      <th>4</th>\n",
       "      <td>896</td>\n",
       "      <td>3</td>\n",
       "      <td>1</td>\n",
       "      <td>1</td>\n",
       "      <td>12.2875</td>\n",
       "      <td>0</td>\n",
       "      <td>22.0</td>\n",
       "      <td>2</td>\n",
       "      <td>66.0</td>\n",
       "    </tr>\n",
       "  </tbody>\n",
       "</table>\n",
       "</div>"
      ],
      "text/plain": [
       "   PassengerId  Pclass  SibSp  Parch     Fare  Gender  AgeFill  FamilySize  \\\n",
       "0          892       3      0      0   7.8292       1     34.5           0   \n",
       "1          893       3      1      0   7.0000       0     47.0           1   \n",
       "2          894       2      0      0   9.6875       1     62.0           0   \n",
       "3          895       3      0      0   8.6625       1     27.0           0   \n",
       "4          896       3      1      1  12.2875       0     22.0           2   \n",
       "\n",
       "   Age*Class  \n",
       "0      103.5  \n",
       "1      141.0  \n",
       "2      124.0  \n",
       "3       81.0  \n",
       "4       66.0  "
      ]
     },
     "execution_count": 25,
     "metadata": {},
     "output_type": "execute_result"
    }
   ],
   "source": [
    "df_test['FamilySize'] = df_test['SibSp'] + df_test['Parch']\n",
    "df_test['Age*Class'] = df_test.AgeFill * df_test.Pclass\n",
    "df_test2 = df_test.drop(['Age','Name', 'Sex', 'Ticket', 'Cabin', 'Embarked'], axis=1)\n",
    "df_test2 = df_test2.dropna()\n",
    "df_test2.head()"
   ]
  },
  {
   "cell_type": "code",
   "execution_count": 26,
   "metadata": {
    "collapsed": false
   },
   "outputs": [
    {
     "name": "stdout",
     "output_type": "stream",
     "text": [
      "(417, 9)\n"
     ]
    },
    {
     "data": {
      "text/plain": [
       "array([[  8.92000000e+02,   3.00000000e+00,   0.00000000e+00, ...,\n",
       "          3.45000000e+01,   0.00000000e+00,   1.03500000e+02],\n",
       "       [  8.93000000e+02,   3.00000000e+00,   1.00000000e+00, ...,\n",
       "          4.70000000e+01,   1.00000000e+00,   1.41000000e+02],\n",
       "       [  8.94000000e+02,   2.00000000e+00,   0.00000000e+00, ...,\n",
       "          6.20000000e+01,   0.00000000e+00,   1.24000000e+02],\n",
       "       ..., \n",
       "       [  1.30700000e+03,   3.00000000e+00,   0.00000000e+00, ...,\n",
       "          3.85000000e+01,   0.00000000e+00,   1.15500000e+02],\n",
       "       [  1.30800000e+03,   3.00000000e+00,   0.00000000e+00, ...,\n",
       "          2.50000000e+01,   0.00000000e+00,   7.50000000e+01],\n",
       "       [  1.30900000e+03,   3.00000000e+00,   1.00000000e+00, ...,\n",
       "          2.50000000e+01,   2.00000000e+00,   7.50000000e+01]])"
      ]
     },
     "execution_count": 26,
     "metadata": {},
     "output_type": "execute_result"
    }
   ],
   "source": [
    "test_data = df_test2.values\n",
    "print(test_data.shape)\n",
    "test_data"
   ]
  },
  {
   "cell_type": "markdown",
   "metadata": {},
   "source": [
    "http://scikit-learn.org/stable/modules/generated/sklearn.preprocessing.StandardScaler.html  \n",
    "Adjusting features scales:  "
   ]
  },
  {
   "cell_type": "code",
   "execution_count": 27,
   "metadata": {
    "collapsed": true
   },
   "outputs": [],
   "source": [
    "from sklearn.preprocessing import StandardScaler\n",
    "\n",
    "scaler = StandardScaler()\n",
    "X_train = scaler.fit_transform(train_data[0::,2::])\n",
    "y_train = train_data[0::,1]\n",
    "X_test = scaler.fit_transform(test_data[0::,1::])"
   ]
  },
  {
   "cell_type": "code",
   "execution_count": 28,
   "metadata": {
    "collapsed": false
   },
   "outputs": [
    {
     "data": {
      "text/plain": [
       "array([ 0.82737724,  0.43279337, -0.47367361, -0.50244517,  0.73769513,\n",
       "       -0.53489116,  0.05915988,  0.10799818])"
      ]
     },
     "execution_count": 28,
     "metadata": {},
     "output_type": "execute_result"
    }
   ],
   "source": [
    "X_train[0]"
   ]
  },
  {
   "cell_type": "markdown",
   "metadata": {},
   "source": [
    "http://stats.stackexchange.com/questions/95797/how-to-split-the-dataset-for-cross-validation-learning-curve-and-final-evaluat  \n",
    "http://scikit-learn.org/stable/modules/cross_validation.html  "
   ]
  },
  {
   "cell_type": "code",
   "execution_count": 29,
   "metadata": {
    "collapsed": true
   },
   "outputs": [],
   "source": [
    "from sklearn import cross_validation"
   ]
  },
  {
   "cell_type": "markdown",
   "metadata": {},
   "source": [
    "Creating cross-validation with subsets (60% train / 40% test):  "
   ]
  },
  {
   "cell_type": "code",
   "execution_count": 30,
   "metadata": {
    "collapsed": false
   },
   "outputs": [],
   "source": [
    "X_traincv, X_testcv, y_traincv, y_testcv = cross_validation.train_test_split(X_train, \n",
    "                                                                             y_train, \n",
    "                                                                             test_size=0.4, \n",
    "                                                                             random_state=0)"
   ]
  },
  {
   "cell_type": "markdown",
   "metadata": {},
   "source": [
    "Creating another train/test set using k-fold or other cross-validation method:  \n",
    "http://scikit-learn.org/stable/modules/generated/sklearn.cross_validation.KFold.html  \n",
    "http://www.analyticsvidhya.com/blog/2015/05/k-fold-cross-validation-simple/  \n",
    "http://scikit-learn.org/stable/modules/generated/sklearn.cross_validation.cross_val_score.html  \n",
    "http://stackoverflow.com/questions/25375203/identical-learning-curves-on-subsequent-runs-using-shufflesplit  \n",
    "http://stackoverflow.com/questions/28064634/random-state-pseudo-random-numberin-scikit-learn  "
   ]
  },
  {
   "cell_type": "code",
   "execution_count": 31,
   "metadata": {
    "collapsed": false
   },
   "outputs": [],
   "source": [
    "cv = cross_validation.KFold(len(X_train), n_folds=10)\n",
    "#cv = cross_validation.ShuffleSplit(X_train.shape[0], n_iter=10, test_size=0.2, random_state=0)\n",
    "\n",
    "def mean_scores_cv(clf, cv, X, y):\n",
    "    scores = cross_validation.cross_val_score(clf, X, y, \n",
    "                                              scoring=None, \n",
    "                                              cv=cv, \n",
    "                                              n_jobs=1,\n",
    "                                              verbose=0,\n",
    "                                              fit_params=None,\n",
    "                                              pre_dispatch='2*n_jobs')\n",
    "    return scores.mean()"
   ]
  },
  {
   "cell_type": "code",
   "execution_count": 32,
   "metadata": {
    "collapsed": true
   },
   "outputs": [],
   "source": [
    "#Example on how to choose the best parameters using GridSearchCV\n",
    "#http://scikit-learn.org/0.11/tutorial/statistical_inference/model_selection.html\n",
    "#http://scikit-learn.org/stable/modules/generated/sklearn.grid_search.GridSearchCV.html\n",
    "from sklearn.grid_search import GridSearchCV"
   ]
  },
  {
   "cell_type": "code",
   "execution_count": 33,
   "metadata": {
    "collapsed": false
   },
   "outputs": [
    {
     "name": "stdout",
     "output_type": "stream",
     "text": [
      "0.821548821549\n",
      "poly\n",
      "1.57777777778\n",
      "2\n",
      "0.278255940221\n"
     ]
    }
   ],
   "source": [
    "#http://scikit-learn.org/stable/modules/generated/sklearn.svm.SVC.html\n",
    "from sklearn import svm\n",
    "\n",
    "\n",
    "estimator = svm.SVC()\n",
    "kernels = ['linear', 'poly']\n",
    "Cs = np.linspace(0.1,2,10)\n",
    "degrees = [2,3,4]\n",
    "gammas = np.logspace(-5, 0, 10)\n",
    "param_grid=dict(kernel=kernels, C=Cs, gamma=gammas, degree=degrees)\n",
    "\n",
    "clf1 = GridSearchCV(estimator=estimator,\n",
    "                    cv=cv,\n",
    "                    param_grid=param_grid, n_jobs=-1).fit(X_train, y_train)\n",
    "\n",
    "with open(os.path.join(outputs,'best_parameters_svm.pickle'), 'wb') as f:\n",
    "    pickle.dump(clf1,f)\n",
    "\n",
    "with open(os.path.join(outputs,'best_parameters_svm.pickle'), 'rb') as f:\n",
    "    clf1 = pickle.load(f)\n",
    "\n",
    "print(clf1.best_score_)\n",
    "print(clf1.best_estimator_.kernel)\n",
    "print(clf1.best_estimator_.C)\n",
    "print(clf1.best_estimator_.degree)\n",
    "print(clf1.best_estimator_.gamma)"
   ]
  },
  {
   "cell_type": "markdown",
   "metadata": {},
   "source": [
    "Testing some classifiers:  \n",
    "Note that only the first classifier (svm) had its parameters optimized  "
   ]
  },
  {
   "cell_type": "code",
   "execution_count": 34,
   "metadata": {
    "collapsed": false
   },
   "outputs": [
    {
     "name": "stdout",
     "output_type": "stream",
     "text": [
      "0.803921568627\n",
      "0.821573033708\n"
     ]
    }
   ],
   "source": [
    "#http://scikit-learn.org/stable/modules/generated/sklearn.svm.SVC.html\n",
    "clf1b = svm.SVC(kernel=clf1.best_estimator_.kernel,\n",
    "               C=clf1.best_estimator_.C,\n",
    "               degree=clf1.best_estimator_.degree, \n",
    "               gamma=clf1.best_estimator_.gamma, \n",
    "               coef0=0.0, \n",
    "               shrinking=True, \n",
    "               probability=False, \n",
    "               tol=0.001, \n",
    "               cache_size=200, \n",
    "               class_weight=None, \n",
    "               verbose=False, \n",
    "               max_iter=-1, \n",
    "               random_state=0).fit(X_traincv, y_traincv)\n",
    "\n",
    "eval1_tts = clf1b.score(X_testcv, y_testcv)\n",
    "print(eval1_tts)\n",
    "\n",
    "eval1_cv = mean_scores_cv(clf1b, cv, X_train, y_train)\n",
    "print(eval1_cv)"
   ]
  },
  {
   "cell_type": "markdown",
   "metadata": {},
   "source": [
    "For this first classifier, we'll also display the learning curve  \n",
    "http://scikit-learn.org/stable/modules/generated/sklearn.learning_curve.learning_curve.html  "
   ]
  },
  {
   "cell_type": "code",
   "execution_count": 35,
   "metadata": {
    "collapsed": true
   },
   "outputs": [],
   "source": [
    "#http://scikit-learn.org/stable/modules/generated/sklearn.learning_curve.learning_curve.html\n",
    "from sklearn.learning_curve import learning_curve\n",
    "\n",
    "def plot_learning_curve(estimator, \n",
    "                        title, \n",
    "                        X, \n",
    "                        y, \n",
    "                        ylim=None, \n",
    "                        cv=None,\n",
    "                        n_jobs=-1, \n",
    "                        train_sizes=np.linspace(.1, 1.0, 5)):\n",
    "    \n",
    "    plt.figure(figsize=(16,8))\n",
    "    plt.title(title)\n",
    "    if ylim is not None:\n",
    "        plt.ylim(*ylim)\n",
    "    plt.xlabel(\"Training examples\")\n",
    "    plt.ylabel(\"Score\")\n",
    "    train_sizes, train_scores, test_scores = learning_curve(estimator, \n",
    "                                                            X, y, cv=cv, \n",
    "                                                            n_jobs=n_jobs, \n",
    "                                                            train_sizes=train_sizes)\n",
    "    train_scores_mean = np.mean(train_scores, axis=1)\n",
    "    train_scores_std = np.std(train_scores, axis=1)\n",
    "    test_scores_mean = np.mean(test_scores, axis=1)\n",
    "    test_scores_std = np.std(test_scores, axis=1)\n",
    "    \n",
    "    plt.grid()\n",
    "    plt.fill_between(train_sizes, train_scores_mean - train_scores_std,\n",
    "                     train_scores_mean + train_scores_std, alpha=0.1, color=\"r\")\n",
    "    plt.fill_between(train_sizes, test_scores_mean - test_scores_std,\n",
    "                     test_scores_mean + test_scores_std, alpha=0.1, color=\"g\")\n",
    "    plt.plot(train_sizes, train_scores_mean, 'o-', color=\"r\", label=\"Training score\")\n",
    "    plt.plot(train_sizes, test_scores_mean, 'o-', color=\"g\", label=\"Cross-validation score\")\n",
    "\n",
    "    plt.legend(loc=\"best\")\n",
    "    return plt"
   ]
  },
  {
   "cell_type": "code",
   "execution_count": 36,
   "metadata": {
    "collapsed": false
   },
   "outputs": [
    {
     "data": {
      "image/png": "[encoded data removed]",
      "text/plain": [
       "<matplotlib.figure.Figure at 0x7fe8c0244d68>"
      ]
     },
     "metadata": {},
     "output_type": "display_data"
    }
   ],
   "source": [
    "title = 'Learning Curves (SVM, kernel:{1}{0} , $\\gamma={2:.6f}$)'.format(clf1.best_estimator_.degree,\n",
    "                                                                         clf1.best_estimator_.kernel,\n",
    "                                                                         clf1.best_estimator_.gamma)\n",
    "graph = plot_learning_curve(clf1b, title, X_train, y_train, cv=cv)\n",
    "#matplotlib.rcdefaults()\n",
    "#matplotlib.verbose.set_level('silent')\n",
    "graph.show()"
   ]
  },
  {
   "cell_type": "markdown",
   "metadata": {},
   "source": [
    "Agora vamos testar outros estimadores:"
   ]
  },
  {
   "cell_type": "code",
   "execution_count": 37,
   "metadata": {
    "collapsed": false
   },
   "outputs": [
    {
     "name": "stdout",
     "output_type": "stream",
     "text": [
      "0.803921568627\n",
      "0.810399500624\n"
     ]
    }
   ],
   "source": [
    "#http://scikit-learn.org/stable/modules/ensemble.html\n",
    "#http://scikit-learn.org/stable/modules/generated/sklearn.ensemble.RandomForestClassifier.html\n",
    "#http://blog.yhathq.com/posts/random-forests-in-python.html\n",
    "#http://www.analyticsvidhya.com/blog/2015/06/tuning-random-forest-model/\n",
    "from sklearn.ensemble import RandomForestClassifier\n",
    "clf2 = RandomForestClassifier(n_estimators=300, \n",
    "                              criterion='gini', \n",
    "                              max_depth=None, \n",
    "                              min_samples_split=2, \n",
    "                              min_samples_leaf=1, \n",
    "                              min_weight_fraction_leaf=0.0, \n",
    "                              max_features='auto', \n",
    "                              max_leaf_nodes=None, \n",
    "                              bootstrap=True, \n",
    "                              oob_score=False, \n",
    "                              n_jobs=-1, \n",
    "                              random_state=0, \n",
    "                              verbose=0, \n",
    "                              warm_start=False, \n",
    "                              class_weight=None).fit(X_traincv, y_traincv)\n",
    "\n",
    "\n",
    "\n",
    "eval2_tts = clf2.score(X_testcv, y_testcv)\n",
    "print(eval2_tts)\n",
    "\n",
    "eval2_cv = mean_scores_cv(clf2, cv, X_train, y_train)\n",
    "print(eval2_cv)"
   ]
  },
  {
   "cell_type": "code",
   "execution_count": 38,
   "metadata": {
    "collapsed": false
   },
   "outputs": [
    {
     "name": "stdout",
     "output_type": "stream",
     "text": [
      "0.775910364146\n",
      "0.786816479401\n"
     ]
    }
   ],
   "source": [
    "# http://scikit-learn.org/stable/modules/generated/sklearn.tree.DecisionTreeClassifier.html\n",
    "from sklearn.tree import DecisionTreeClassifier\n",
    "clf3 = DecisionTreeClassifier(criterion='gini', \n",
    "                              splitter='best', \n",
    "                              max_depth=None, \n",
    "                              min_samples_split=1, \n",
    "                              min_samples_leaf=1, \n",
    "                              min_weight_fraction_leaf=0.0, \n",
    "                              max_features=None, \n",
    "                              random_state=0, \n",
    "                              max_leaf_nodes=None, \n",
    "                              class_weight=None, \n",
    "                              presort=False).fit(X_traincv, y_traincv)\n",
    "\n",
    "eval3_tts = clf3.score(X_testcv, y_testcv)\n",
    "print(eval3_tts)\n",
    "\n",
    "eval3_cv = mean_scores_cv(clf3, cv, X_train, y_train)\n",
    "print(eval3_cv)"
   ]
  },
  {
   "cell_type": "code",
   "execution_count": 39,
   "metadata": {
    "collapsed": false
   },
   "outputs": [
    {
     "name": "stdout",
     "output_type": "stream",
     "text": [
      "0.795518207283\n",
      "0.802534332085\n"
     ]
    }
   ],
   "source": [
    "#http://scikit-learn.org/stable/modules/generated/sklearn.ensemble.ExtraTreesClassifier.html\n",
    "from sklearn.ensemble import ExtraTreesClassifier\n",
    "clf4 = ExtraTreesClassifier(n_estimators=300,\n",
    "                            max_depth=None,\n",
    "                            min_samples_split=1,\n",
    "                            random_state=0).fit(X_traincv, y_traincv)\n",
    "\n",
    "eval4_tts = clf4.score(X_testcv, y_testcv)\n",
    "print(eval4_tts)\n",
    "\n",
    "eval4_cv = mean_scores_cv(clf4, cv, X_train, y_train)\n",
    "print(eval4_cv)"
   ]
  },
  {
   "cell_type": "code",
   "execution_count": 40,
   "metadata": {
    "collapsed": false
   },
   "outputs": [
    {
     "name": "stdout",
     "output_type": "stream",
     "text": [
      "0.820728291317\n",
      "0.821573033708\n"
     ]
    }
   ],
   "source": [
    "#http://scikit-learn.org/stable/modules/generated/sklearn.ensemble.AdaBoostClassifier.html\n",
    "from sklearn.ensemble import AdaBoostClassifier\n",
    "clf5 = AdaBoostClassifier(base_estimator=None,\n",
    "                          n_estimators=200,\n",
    "                          learning_rate=0.1,\n",
    "                          algorithm='SAMME.R',\n",
    "                          random_state=0).fit(X_traincv, y_traincv)\n",
    "\n",
    "eval5_tts = clf5.score(X_testcv, y_testcv)\n",
    "print(eval5_tts)\n",
    "\n",
    "eval5_cv = mean_scores_cv(clf5, cv, X_train, y_train)\n",
    "print(eval5_cv)"
   ]
  },
  {
   "cell_type": "code",
   "execution_count": 41,
   "metadata": {
    "collapsed": false
   },
   "outputs": [
    {
     "name": "stdout",
     "output_type": "stream",
     "text": [
      "0.803921568627\n",
      "0.839525593009\n"
     ]
    }
   ],
   "source": [
    "#http://scikit-learn.org/stable/modules/generated/sklearn.ensemble.GradientBoostingClassifier.html\n",
    "from sklearn.ensemble import GradientBoostingClassifier\n",
    "clf6 = GradientBoostingClassifier(loss='deviance',\n",
    "                                  learning_rate=0.1,\n",
    "                                  n_estimators=200,\n",
    "                                  subsample=1.0, \n",
    "                                  min_samples_split=2, \n",
    "                                  min_samples_leaf=1, \n",
    "                                  min_weight_fraction_leaf=0.0, \n",
    "                                  max_depth=3, \n",
    "                                  init=None, \n",
    "                                  random_state=0, \n",
    "                                  max_features=None, \n",
    "                                  verbose=0, \n",
    "                                  max_leaf_nodes=None, \n",
    "                                  warm_start=False, \n",
    "                                  presort='auto').fit(X_traincv, y_traincv)\n",
    "\n",
    "eval6_tts = clf6.score(X_testcv, y_testcv)\n",
    "print(eval6_tts)\n",
    "\n",
    "eval6_cv = mean_scores_cv(clf6, cv, X_train, y_train)\n",
    "print(eval6_cv)"
   ]
  },
  {
   "cell_type": "code",
   "execution_count": 42,
   "metadata": {
    "collapsed": false
   },
   "outputs": [
    {
     "name": "stdout",
     "output_type": "stream",
     "text": [
      "0.781512605042\n",
      "0.791285892634\n"
     ]
    }
   ],
   "source": [
    "#http://scikit-learn.org/stable/modules/generated/sklearn.linear_model.SGDClassifier.html\n",
    "from sklearn.linear_model import SGDClassifier\n",
    "clf7 = SGDClassifier(loss='hinge',\n",
    "                     penalty='l2', \n",
    "                     alpha=0.0001,\n",
    "                     l1_ratio=0.15, \n",
    "                     fit_intercept=True,\n",
    "                     n_iter=200, \n",
    "                     shuffle=True,\n",
    "                     verbose=0,\n",
    "                     epsilon=0.1,\n",
    "                     n_jobs=-1,\n",
    "                     random_state=0,\n",
    "                     learning_rate='optimal',\n",
    "                     eta0=0.0, \n",
    "                     power_t=0.5,\n",
    "                     class_weight=None,\n",
    "                     warm_start=False, \n",
    "                     average=False).fit(X_traincv, y_traincv)\n",
    "\n",
    "eval7_tts = clf7.score(X_testcv, y_testcv)\n",
    "print(eval7_tts)\n",
    "\n",
    "eval7_cv = mean_scores_cv(clf7, cv, X_train, y_train)\n",
    "print(eval7_cv)"
   ]
  },
  {
   "cell_type": "code",
   "execution_count": 43,
   "metadata": {
    "collapsed": false
   },
   "outputs": [
    {
     "name": "stdout",
     "output_type": "stream",
     "text": [
      "0.781512605042\n",
      "0.795730337079\n"
     ]
    }
   ],
   "source": [
    "#http://scikit-learn.org/stable/modules/generated/sklearn.linear_model.RidgeClassifier.html\n",
    "from sklearn.linear_model import RidgeClassifier\n",
    "\n",
    "clf8 = RidgeClassifier(alpha=1.0, \n",
    "                       fit_intercept=True, \n",
    "                       normalize=False, \n",
    "                       copy_X=True, \n",
    "                       max_iter=None, \n",
    "                       tol=0.001, \n",
    "                       class_weight=None, \n",
    "                       solver='auto', \n",
    "                       random_state=0).fit(X_traincv, y_traincv)\n",
    "\n",
    "eval8_tts = clf8.score(X_testcv, y_testcv)\n",
    "print(eval8_tts)\n",
    "\n",
    "eval8_cv = mean_scores_cv(clf8, cv, X_train, y_train)\n",
    "\n",
    "print(eval8_cv)"
   ]
  },
  {
   "cell_type": "code",
   "execution_count": 44,
   "metadata": {
    "collapsed": false
   },
   "outputs": [
    {
     "name": "stdout",
     "output_type": "stream",
     "text": [
      "0.641456582633\n",
      "0.71606741573\n"
     ]
    }
   ],
   "source": [
    "#http://scikit-learn.org/stable/modules/generated/sklearn.linear_model.Perceptron.html#sklearn.linear_model.Perceptron\n",
    "from sklearn.linear_model import Perceptron\n",
    "\n",
    "clf9 = Perceptron(penalty=None,\n",
    "                  alpha=0.0001,\n",
    "                  fit_intercept=True,\n",
    "                  n_iter=5,\n",
    "                  shuffle=True,\n",
    "                  verbose=0,\n",
    "                  eta0=1.0,\n",
    "                  n_jobs=-1, \n",
    "                  random_state=0, \n",
    "                  class_weight=None, \n",
    "                  warm_start=False).fit(X_traincv, y_traincv)\n",
    "\n",
    "eval9_tts = clf9.score(X_testcv, y_testcv)\n",
    "print(eval9_tts)\n",
    "\n",
    "eval9_cv = mean_scores_cv(clf9, cv, X_train, y_train)\n",
    "\n",
    "print(eval9_cv)"
   ]
  },
  {
   "cell_type": "code",
   "execution_count": 45,
   "metadata": {
    "collapsed": false
   },
   "outputs": [
    {
     "name": "stdout",
     "output_type": "stream",
     "text": [
      "0.775910364146\n",
      "0.753358302122\n"
     ]
    }
   ],
   "source": [
    "#http://scikit-learn.org/stable/modules/generated/sklearn.linear_model.PassiveAggressiveClassifier.html\n",
    "from sklearn.linear_model import PassiveAggressiveClassifier\n",
    "\n",
    "clf10 = PassiveAggressiveClassifier(C=1.0, \n",
    "                                    fit_intercept=True, \n",
    "                                    n_iter=300, \n",
    "                                    shuffle=True, \n",
    "                                    verbose=0, \n",
    "                                    loss='hinge', \n",
    "                                    n_jobs=-1, \n",
    "                                    random_state=0, \n",
    "                                    warm_start=False, \n",
    "                                    class_weight=None).fit(X_traincv, y_traincv)\n",
    "\n",
    "eval10_tts = clf10.score(X_testcv, y_testcv)\n",
    "print(eval10_tts)\n",
    "\n",
    "eval10_cv = mean_scores_cv(clf10, cv, X_train, y_train)\n",
    "\n",
    "print(eval10_cv)"
   ]
  },
  {
   "cell_type": "code",
   "execution_count": 46,
   "metadata": {
    "collapsed": false
   },
   "outputs": [
    {
     "name": "stdout",
     "output_type": "stream",
     "text": [
      "0.806722689076\n",
      "0.799101123596\n"
     ]
    }
   ],
   "source": [
    "#http://scikit-learn.org/stable/modules/generated/sklearn.linear_model.LogisticRegression.html\n",
    "from sklearn.linear_model import LogisticRegression\n",
    "\n",
    "clf11 = LogisticRegression(penalty='l2',\n",
    "                           dual=False, \n",
    "                           tol=0.0001, \n",
    "                           C=1.0, \n",
    "                           fit_intercept=True, \n",
    "                           intercept_scaling=1, \n",
    "                           class_weight=None, \n",
    "                           random_state=0, \n",
    "                           solver='liblinear', \n",
    "                           max_iter=100, \n",
    "                           multi_class='ovr', \n",
    "                           verbose=0, \n",
    "                           warm_start=False, \n",
    "                           n_jobs=-1).fit(X_traincv, y_traincv)\n",
    "\n",
    "eval11_tts = clf11.score(X_testcv, y_testcv)\n",
    "print(eval11_tts)\n",
    "\n",
    "eval11_cv = mean_scores_cv(clf11, cv, X_train, y_train)\n",
    "\n",
    "print(eval11_cv)"
   ]
  },
  {
   "cell_type": "code",
   "execution_count": 47,
   "metadata": {
    "collapsed": false
   },
   "outputs": [
    {
     "name": "stdout",
     "output_type": "stream",
     "text": [
      "0.78431372549\n",
      "0.780062421973\n"
     ]
    }
   ],
   "source": [
    "#http://scikit-learn.org/stable/modules/naive_bayes.html\n",
    "#http://scikit-learn.org/stable/modules/generated/sklearn.naive_bayes.GaussianNB.html\n",
    "\n",
    "from sklearn.naive_bayes import GaussianNB\n",
    "\n",
    "clf12 = GaussianNB().fit(X_traincv, y_traincv)\n",
    "\n",
    "eval12_tts = clf12.score(X_testcv, y_testcv)\n",
    "print(eval12_tts)\n",
    "\n",
    "eval12_cv = mean_scores_cv(clf12, cv, X_train, y_train)\n",
    "\n",
    "print(eval12_cv)"
   ]
  },
  {
   "cell_type": "code",
   "execution_count": 48,
   "metadata": {
    "collapsed": false
   },
   "outputs": [
    {
     "name": "stdout",
     "output_type": "stream",
     "text": [
      "0.719887955182\n",
      "0.727365792759\n"
     ]
    }
   ],
   "source": [
    "#http://scikit-learn.org/stable/modules/generated/sklearn.naive_bayes.BernoulliNB.html\n",
    "from sklearn.naive_bayes import BernoulliNB\n",
    "\n",
    "clf13 = BernoulliNB(alpha=1.0, \n",
    "                    binarize=0.0, \n",
    "                    fit_prior=True, \n",
    "                    class_prior=None).fit(X_traincv, y_traincv)\n",
    "\n",
    "eval13_tts = clf13.score(X_testcv, y_testcv)\n",
    "print(eval13_tts)\n",
    "\n",
    "eval13_cv = mean_scores_cv(clf13, cv, X_train, y_train)\n",
    "\n",
    "print(eval13_cv)"
   ]
  },
  {
   "cell_type": "raw",
   "metadata": {},
   "source": [
    "#http://scikit-learn.org/stable/modules/generated/sklearn.naive_bayes.MultinomialNB.html\n",
    "from sklearn.naive_bayes import MultinomialNB\n",
    "\n",
    "clf14 = MultinomialNB(alpha=1.0,\n",
    "                      fit_prior=True,\n",
    "                      class_prior=None).fit(X_traincv, y_traincv)\n",
    "\n",
    "eval14_tts = clf14.score(X_testcv, y_testcv)\n",
    "print(eval14_tts)\n",
    "\n",
    "eval14_cv = mean_scores_cv(clf14, cv, X_train, y_train)\n",
    "\n",
    "print(eval14_cv)"
   ]
  },
  {
   "cell_type": "raw",
   "metadata": {},
   "source": [
    "#from sklearn.neighbors import KNeighborsClassifier"
   ]
  },
  {
   "cell_type": "code",
   "execution_count": 49,
   "metadata": {
    "collapsed": false,
    "scrolled": true
   },
   "outputs": [
    {
     "name": "stderr",
     "output_type": "stream",
     "text": [
      "Using gpu device 0: Quadro K4200 (CNMeM is disabled, cuDNN 5103)\n",
      "/home/rsouza/python/3/venv/local/lib/python3.5/site-packages/theano/sandbox/cuda/__init__.py:600: UserWarning: Your cuDNN version is more recent than the one Theano officially supports. If you see any problems, try updating Theano or downgrading cuDNN to version 5.\n",
      "  warnings.warn(warn)\n",
      "/home/rsouza/python/3/venv/local/lib/python3.5/site-packages/theano/tensor/signal/downsample.py:6: UserWarning: downsample module has been moved to the theano.tensor.signal.pool module.\n",
      "  \"downsample module has been moved to the theano.tensor.signal.pool module.\")\n"
     ]
    },
    {
     "name": "stdout",
     "output_type": "stream",
     "text": [
      "0.8123249299719888\n",
      "0.819325842697\n"
     ]
    }
   ],
   "source": [
    "#pip install -r https://raw.githubusercontent.com/Lasagne/Lasagne/v0.1/requirements.txt \n",
    "#pip install https://github.com/dnouri/nolearn/archive/master.zip#egg=nolearn\n",
    "#sudo pip install --upgrade theano\n",
    "\n",
    "#http://stackoverflow.com/questions/30034492/does-nolearn-lasagne-support-python-3\n",
    "#https://gist.github.com/dnouri/fe855653e9757e1ce8c4\n",
    "#https://github.com/dnouri/nolearn/issues/62\n",
    "\n",
    "#https://github.com/dnouri/nolearn/blob/master/nolearn/lasagne/base.py\n",
    "#https://github.com/Lasagne/Lasagne/blob/master/lasagne/objectives.py\n",
    "\n",
    "#http://nbviewer.ipython.org/github/ottogroup/kaggle/blob/master/Otto_Group_Competition.ipynb\n",
    "#http://danielnouri.org/notes/2014/12/17/using-convolutional-neural-nets-to-detect-facial-keypoints-tutorial/\n",
    "\n",
    "import lasagne\n",
    "import nolearn\n",
    "from nolearn.lasagne import NeuralNet, BatchIterator\n",
    "clf15_layers = [('input', lasagne.layers.InputLayer),\n",
    "                #('input', lasagne.layers.InputLayer(shape=(None, X.shape[1])))\n",
    "                #('dropout0', lasagne.layers.DropoutLayer),\n",
    "                ('dense0', lasagne.layers.DenseLayer),\n",
    "                ('dropout1', lasagne.layers.DropoutLayer),#\n",
    "                ('dense1', lasagne.layers.DenseLayer),\n",
    "                #('dropout2', lasagne.layers.DropoutLayer),#\n",
    "                ('output', lasagne.layers.DenseLayer)]\n",
    "\n",
    "#l = InputLayer(shape=(None, X.shape[1]))\n",
    "#l = DenseLayer(l, num_units=len(np.unique(y)), nonlinearity=softmax)\n",
    "#net = NeuralNet(l, update_learning_rate=0.01)\n",
    "\n",
    "clf15 = nolearn.lasagne.NeuralNet(layers=clf15_layers,\n",
    "                                  input_shape=(None, X_traincv.shape[1]), #num_features\n",
    "                                  #dropout0_p=0.5, #0.15                 \n",
    "                                  dense0_num_units=200,\n",
    "                                  dropout1_p=0.25,\n",
    "                                  dense1_num_units=200,\n",
    "                                  #dropout2_p=0.25,\n",
    "                                  output_num_units=len(np.unique(y_traincv)), #num_classes\n",
    "                                  output_nonlinearity=lasagne.nonlinearities.softmax,\n",
    "                                  #update=lasagne.updates.adagrad,\n",
    "                                  update=lasagne.updates.nesterov_momentum,\n",
    "                                  update_momentum=0.5, #0.9 #only used with nesterov_momentum\n",
    "                                  update_learning_rate=0.01,\n",
    "                                  train_split=nolearn.lasagne.TrainSplit(eval_size=0.2), #split\n",
    "                                  verbose=0,\n",
    "                                  max_epochs=150, #To tune,verify the behaviour of outputs\n",
    "                                 )\n",
    "\n",
    "clf15.fit(X_traincv.astype(np.float32), y_traincv.astype(np.int32))\n",
    "\n",
    "eval15_tts = clf15.score(X_testcv.astype(np.float32), y_testcv.astype(np.int32))\n",
    "print(eval15_tts)\n",
    "\n",
    "eval15_cv = mean_scores_cv(clf15, cv, X_train.astype(np.float32), y_train.astype(np.int32))\n",
    "print(eval15_cv)"
   ]
  },
  {
   "cell_type": "code",
   "execution_count": 50,
   "metadata": {
    "collapsed": false
   },
   "outputs": [
    {
     "data": {
      "image/png": "[encoded data removed]",
      "text/plain": [
       "<matplotlib.figure.Figure at 0x7fe874842b00>"
      ]
     },
     "metadata": {},
     "output_type": "display_data"
    }
   ],
   "source": [
    "train_loss = np.array([i[\"train_loss\"] for i in clf15.train_history_])\n",
    "valid_loss = np.array([i[\"valid_loss\"] for i in clf15.train_history_])\n",
    "plt.figure(figsize=(16,8))\n",
    "plt.plot(train_loss, linewidth=3, label=\"train\")\n",
    "plt.plot(valid_loss, linewidth=3, label=\"valid\")\n",
    "plt.grid()\n",
    "plt.legend()\n",
    "plt.xlabel(\"epoch\")\n",
    "plt.ylabel(\"loss\")\n",
    "#plt.ylim(1e-1, 1e1)\n",
    "plt.ylim(0.3, 0.8)\n",
    "#plt.yscale(\"log\")\n",
    "plt.show()"
   ]
  },
  {
   "cell_type": "code",
   "execution_count": 51,
   "metadata": {
    "collapsed": false
   },
   "outputs": [],
   "source": [
    "#http://lasagne.readthedocs.org/en/latest/\n",
    "#http://lasagne.readthedocs.org/en/latest/user/tutorial.html\n",
    "#https://github.com/Lasagne\n",
    "#https://martin-thoma.com/lasagne-for-python-newbies/\n",
    "#http://deeplearning.net/tutorial/\n",
    "#http://deeplearning.net/software/theano/tutorial/\n",
    "#http://cs231n.github.io/\n",
    "#http://neuralnetworksanddeeplearning.com/\n",
    "\n",
    "import theano\n",
    "import theano.tensor as T\n",
    "#import lasagne\n",
    "\n",
    "def build_mlp(input_var=None):\n",
    "    l_in = lasagne.layers.InputLayer(shape=(534,8),\n",
    "                                     input_var=input_var)\n",
    "    l_in_drop = lasagne.layers.DropoutLayer(l_in,\n",
    "                                            p=0.2)\n",
    "    l_hid1 = lasagne.layers.DenseLayer(l_in_drop, \n",
    "                                       num_units=800,\n",
    "                                       nonlinearity=lasagne.nonlinearities.rectify,\n",
    "                                       W=lasagne.init.GlorotUniform())\n",
    "    l_hid1_drop = lasagne.layers.DropoutLayer(l_hid1,\n",
    "                                              p=0.6)\n",
    "    l_hid2 = lasagne.layers.DenseLayer(l_hid1_drop,\n",
    "                                       num_units=800,\n",
    "                                       nonlinearity=lasagne.nonlinearities.rectify)\n",
    "    l_hid2_drop = lasagne.layers.DropoutLayer(l_hid2,\n",
    "                                              p=0.6)\n",
    "    l_out = lasagne.layers.DenseLayer(l_hid2_drop,\n",
    "                                      num_units=10,\n",
    "                                      nonlinearity=lasagne.nonlinearities.softmax)\n",
    "    return l_out\n",
    "\n",
    "def build_custom_mlp(input_var=None, depth=2, width=800, drop_input=.2, drop_hidden=.5):\n",
    "    # Input layer and dropout (with shortcut `dropout` for `DropoutLayer`):\n",
    "    network = lasagne.layers.InputLayer(shape=(534,8),\n",
    "                                        input_var=input_var)\n",
    "    if drop_input:\n",
    "        network = lasagne.layers.dropout(network, p=drop_input)\n",
    "    # Hidden layers and dropout:\n",
    "    nonlin = lasagne.nonlinearities.rectify\n",
    "    for _ in range(depth):\n",
    "        network = lasagne.layers.DenseLayer(network, \n",
    "                                            width, \n",
    "                                            nonlinearity=nonlin)\n",
    "    if drop_hidden:\n",
    "        network = lasagne.layers.dropout(network, p=drop_hidden)\n",
    "    # Output layer:\n",
    "    softmax = lasagne.nonlinearities.softmax\n",
    "    network = lasagne.layers.DenseLayer(network, 10, nonlinearity=softmax)\n",
    "    return network\n",
    "\n",
    "def build_cnn(input_var=None):\n",
    "    network = lasagne.layers.InputLayer(shape=(534,8),\n",
    "                                        input_var=input_var)\n",
    "    network = lasagne.layers.Conv2DLayer(network,\n",
    "                                         num_filters=32,\n",
    "                                         filter_size=(5, 5),\n",
    "                                         nonlinearity=lasagne.nonlinearities.rectify,\n",
    "                                         W=lasagne.init.GlorotUniform())\n",
    "    network = lasagne.layers.MaxPool2DLayer(network, pool_size=(2, 2))\n",
    "    network = lasagne.layers.Conv2DLayer(network, \n",
    "                                         num_filters=32,\n",
    "                                         filter_size=(5, 5),\n",
    "                                         nonlinearity=lasagne.nonlinearities.rectify)\n",
    "    network = lasagne.layers.MaxPool2DLayer(network, pool_size=(2, 2))\n",
    "    network = lasagne.layers.DenseLayer(lasagne.layers.dropout(network, p=.5),\n",
    "                                        num_units=256,\n",
    "                                        nonlinearity=lasagne.nonlinearities.rectify)\n",
    "    network = lasagne.layers.DenseLayer(lasagne.layers.dropout(network, p=.5),\n",
    "                                        num_units=10,\n",
    "                                        nonlinearity=lasagne.nonlinearities.softmax)\n",
    "    return network"
   ]
  },
  {
   "cell_type": "code",
   "execution_count": 52,
   "metadata": {
    "collapsed": false
   },
   "outputs": [],
   "source": [
    "# Prepare Theano variables for inputs and targets\n",
    "input_var = T.matrix('inputs')\n",
    "target_var = T.ivector('targets')\n",
    "\n",
    "# Create neural network model\n",
    "network = build_mlp(input_var)\n",
    "prediction = lasagne.layers.get_output(network)\n",
    "loss = lasagne.objectives.categorical_crossentropy(prediction, target_var)\n",
    "loss = loss.mean()\n",
    "params = lasagne.layers.get_all_params(network, trainable=True)\n",
    "updates = lasagne.updates.nesterov_momentum(loss,\n",
    "                                            params,\n",
    "                                            learning_rate=0.01, \n",
    "                                            momentum=0.9)\n",
    "# Monitoring progress during training\n",
    "test_prediction = lasagne.layers.get_output(network, deterministic=True)\n",
    "test_loss = lasagne.objectives.categorical_crossentropy(test_prediction,\n",
    "                                                        target_var)\n",
    "test_loss = test_loss.mean()\n",
    "test_acc = T.mean(T.eq(T.argmax(test_prediction, axis=1), target_var),\n",
    "                  dtype=theano.config.floatX)\n",
    "\n",
    "# Compilation\n",
    "train_fn = theano.function([input_var, target_var], loss, updates=updates, allow_input_downcast=True)\n",
    "val_fn = theano.function([input_var, target_var], [test_loss, test_acc], allow_input_downcast=True)"
   ]
  },
  {
   "cell_type": "code",
   "execution_count": 53,
   "metadata": {
    "collapsed": true
   },
   "outputs": [
    {
     "name": "stdout",
     "output_type": "stream",
     "text": [
      "Epoch 1 of 150 took 0.011s\n",
      "  training loss:\t\t2.367393\n",
      "  validation loss:\t\t2.263944\n",
      "  validation accuracy:\t\t21.29 %\n",
      "Epoch 2 of 150 took 0.010s\n",
      "  training loss:\t\t2.283876\n",
      "  validation loss:\t\t2.189968\n",
      "  validation accuracy:\t\t35.85 %\n",
      "Epoch 3 of 150 took 0.011s\n",
      "  training loss:\t\t2.210721\n",
      "  validation loss:\t\t2.099443\n",
      "  validation accuracy:\t\t46.50 %\n",
      "Epoch 4 of 150 took 0.010s\n",
      "  training loss:\t\t2.099513\n",
      "  validation loss:\t\t1.995664\n",
      "  validation accuracy:\t\t74.51 %\n",
      "Epoch 5 of 150 took 0.009s\n",
      "  training loss:\t\t1.985056\n",
      "  validation loss:\t\t1.883175\n",
      "  validation accuracy:\t\t76.75 %\n",
      "Epoch 6 of 150 took 0.010s\n",
      "  training loss:\t\t1.838583\n",
      "  validation loss:\t\t1.765387\n",
      "  validation accuracy:\t\t75.91 %\n",
      "Epoch 7 of 150 took 0.010s\n",
      "  training loss:\t\t1.722147\n",
      "  validation loss:\t\t1.646171\n",
      "  validation accuracy:\t\t75.35 %\n",
      "Epoch 8 of 150 took 0.010s\n",
      "  training loss:\t\t1.580253\n",
      "  validation loss:\t\t1.527650\n",
      "  validation accuracy:\t\t74.23 %\n",
      "Epoch 9 of 150 took 0.009s\n",
      "  training loss:\t\t1.452444\n",
      "  validation loss:\t\t1.411724\n",
      "  validation accuracy:\t\t73.39 %\n",
      "Epoch 10 of 150 took 0.009s\n",
      "  training loss:\t\t1.321096\n",
      "  validation loss:\t\t1.300815\n",
      "  validation accuracy:\t\t73.95 %\n",
      "Epoch 11 of 150 took 0.009s\n",
      "  training loss:\t\t1.212190\n",
      "  validation loss:\t\t1.196272\n",
      "  validation accuracy:\t\t73.67 %\n",
      "Epoch 12 of 150 took 0.010s\n",
      "  training loss:\t\t1.129307\n",
      "  validation loss:\t\t1.099787\n",
      "  validation accuracy:\t\t73.67 %\n",
      "Epoch 13 of 150 took 0.010s\n",
      "  training loss:\t\t1.031369\n",
      "  validation loss:\t\t1.011756\n",
      "  validation accuracy:\t\t74.23 %\n",
      "Epoch 14 of 150 took 0.009s\n",
      "  training loss:\t\t0.923233\n",
      "  validation loss:\t\t0.932605\n",
      "  validation accuracy:\t\t74.79 %\n",
      "Epoch 15 of 150 took 0.009s\n",
      "  training loss:\t\t0.863204\n",
      "  validation loss:\t\t0.862418\n",
      "  validation accuracy:\t\t75.63 %\n",
      "Epoch 16 of 150 took 0.009s\n",
      "  training loss:\t\t0.818964\n",
      "  validation loss:\t\t0.801033\n",
      "  validation accuracy:\t\t75.07 %\n",
      "Epoch 17 of 150 took 0.009s\n",
      "  training loss:\t\t0.770932\n",
      "  validation loss:\t\t0.748007\n",
      "  validation accuracy:\t\t75.07 %\n",
      "Epoch 18 of 150 took 0.009s\n",
      "  training loss:\t\t0.709757\n",
      "  validation loss:\t\t0.702111\n",
      "  validation accuracy:\t\t75.63 %\n",
      "Epoch 19 of 150 took 0.009s\n",
      "  training loss:\t\t0.684433\n",
      "  validation loss:\t\t0.662998\n",
      "  validation accuracy:\t\t76.75 %\n",
      "Epoch 20 of 150 took 0.009s\n",
      "  training loss:\t\t0.653641\n",
      "  validation loss:\t\t0.629818\n",
      "  validation accuracy:\t\t77.31 %\n",
      "Epoch 21 of 150 took 0.009s\n",
      "  training loss:\t\t0.626966\n",
      "  validation loss:\t\t0.601668\n",
      "  validation accuracy:\t\t77.31 %\n",
      "Epoch 22 of 150 took 0.009s\n",
      "  training loss:\t\t0.615599\n",
      "  validation loss:\t\t0.578154\n",
      "  validation accuracy:\t\t78.15 %\n",
      "Epoch 23 of 150 took 0.011s\n",
      "  training loss:\t\t0.574399\n",
      "  validation loss:\t\t0.558513\n",
      "  validation accuracy:\t\t78.43 %\n",
      "Epoch 24 of 150 took 0.010s\n",
      "  training loss:\t\t0.575397\n",
      "  validation loss:\t\t0.542114\n",
      "  validation accuracy:\t\t78.71 %\n",
      "Epoch 25 of 150 took 0.009s\n",
      "  training loss:\t\t0.571552\n",
      "  validation loss:\t\t0.528548\n",
      "  validation accuracy:\t\t78.15 %\n",
      "Epoch 26 of 150 took 0.010s\n",
      "  training loss:\t\t0.547044\n",
      "  validation loss:\t\t0.517215\n",
      "  validation accuracy:\t\t78.43 %\n",
      "Epoch 27 of 150 took 0.010s\n",
      "  training loss:\t\t0.536472\n",
      "  validation loss:\t\t0.507780\n",
      "  validation accuracy:\t\t79.27 %\n",
      "Epoch 28 of 150 took 0.009s\n",
      "  training loss:\t\t0.543455\n",
      "  validation loss:\t\t0.499821\n",
      "  validation accuracy:\t\t78.99 %\n",
      "Epoch 29 of 150 took 0.009s\n",
      "  training loss:\t\t0.539091\n",
      "  validation loss:\t\t0.493032\n",
      "  validation accuracy:\t\t78.71 %\n",
      "Epoch 30 of 150 took 0.010s\n",
      "  training loss:\t\t0.542465\n",
      "  validation loss:\t\t0.487318\n",
      "  validation accuracy:\t\t78.99 %\n",
      "Epoch 31 of 150 took 0.009s\n",
      "  training loss:\t\t0.518064\n",
      "  validation loss:\t\t0.482351\n",
      "  validation accuracy:\t\t78.99 %\n",
      "Epoch 32 of 150 took 0.009s\n",
      "  training loss:\t\t0.518307\n",
      "  validation loss:\t\t0.478074\n",
      "  validation accuracy:\t\t79.27 %\n",
      "Epoch 33 of 150 took 0.010s\n",
      "  training loss:\t\t0.509253\n",
      "  validation loss:\t\t0.474358\n",
      "  validation accuracy:\t\t79.27 %\n",
      "Epoch 34 of 150 took 0.009s\n",
      "  training loss:\t\t0.504631\n",
      "  validation loss:\t\t0.471097\n",
      "  validation accuracy:\t\t79.27 %\n",
      "Epoch 35 of 150 took 0.009s\n",
      "  training loss:\t\t0.520878\n",
      "  validation loss:\t\t0.468334\n",
      "  validation accuracy:\t\t79.83 %\n",
      "Epoch 36 of 150 took 0.009s\n",
      "  training loss:\t\t0.500056\n",
      "  validation loss:\t\t0.465793\n",
      "  validation accuracy:\t\t79.83 %\n",
      "Epoch 37 of 150 took 0.008s\n",
      "  training loss:\t\t0.469134\n",
      "  validation loss:\t\t0.463526\n",
      "  validation accuracy:\t\t80.67 %\n",
      "Epoch 38 of 150 took 0.008s\n",
      "  training loss:\t\t0.516524\n",
      "  validation loss:\t\t0.461627\n",
      "  validation accuracy:\t\t81.23 %\n",
      "Epoch 39 of 150 took 0.008s\n",
      "  training loss:\t\t0.499906\n",
      "  validation loss:\t\t0.459943\n",
      "  validation accuracy:\t\t81.23 %\n",
      "Epoch 40 of 150 took 0.008s\n",
      "  training loss:\t\t0.513197\n",
      "  validation loss:\t\t0.458410\n",
      "  validation accuracy:\t\t81.23 %\n",
      "Epoch 41 of 150 took 0.008s\n",
      "  training loss:\t\t0.486728\n",
      "  validation loss:\t\t0.457010\n",
      "  validation accuracy:\t\t80.95 %\n",
      "Epoch 42 of 150 took 0.008s\n",
      "  training loss:\t\t0.500973\n",
      "  validation loss:\t\t0.455735\n",
      "  validation accuracy:\t\t80.95 %\n",
      "Epoch 43 of 150 took 0.008s\n",
      "  training loss:\t\t0.494831\n",
      "  validation loss:\t\t0.454593\n",
      "  validation accuracy:\t\t80.95 %\n",
      "Epoch 44 of 150 took 0.009s\n",
      "  training loss:\t\t0.495767\n",
      "  validation loss:\t\t0.453649\n",
      "  validation accuracy:\t\t80.95 %\n",
      "Epoch 45 of 150 took 0.008s\n",
      "  training loss:\t\t0.501230\n",
      "  validation loss:\t\t0.452737\n",
      "  validation accuracy:\t\t81.23 %\n",
      "Epoch 46 of 150 took 0.009s\n",
      "  training loss:\t\t0.488742\n",
      "  validation loss:\t\t0.451933\n",
      "  validation accuracy:\t\t81.23 %\n",
      "Epoch 47 of 150 took 0.008s\n",
      "  training loss:\t\t0.481496\n",
      "  validation loss:\t\t0.451185\n",
      "  validation accuracy:\t\t81.23 %\n",
      "Epoch 48 of 150 took 0.008s\n",
      "  training loss:\t\t0.480595\n",
      "  validation loss:\t\t0.450488\n",
      "  validation accuracy:\t\t81.51 %\n",
      "Epoch 49 of 150 took 0.008s\n",
      "  training loss:\t\t0.501684\n",
      "  validation loss:\t\t0.449916\n",
      "  validation accuracy:\t\t81.23 %\n",
      "Epoch 50 of 150 took 0.008s\n",
      "  training loss:\t\t0.508516\n",
      "  validation loss:\t\t0.449369\n",
      "  validation accuracy:\t\t81.23 %\n",
      "Epoch 51 of 150 took 0.008s\n",
      "  training loss:\t\t0.475592\n",
      "  validation loss:\t\t0.448803\n",
      "  validation accuracy:\t\t81.23 %\n",
      "Epoch 52 of 150 took 0.008s\n",
      "  training loss:\t\t0.485831\n",
      "  validation loss:\t\t0.448361\n",
      "  validation accuracy:\t\t81.23 %\n",
      "Epoch 53 of 150 took 0.008s\n",
      "  training loss:\t\t0.511362\n",
      "  validation loss:\t\t0.448027\n",
      "  validation accuracy:\t\t80.95 %\n",
      "Epoch 54 of 150 took 0.008s\n",
      "  training loss:\t\t0.497883\n",
      "  validation loss:\t\t0.447650\n",
      "  validation accuracy:\t\t80.95 %\n",
      "Epoch 55 of 150 took 0.008s\n",
      "  training loss:\t\t0.498672\n",
      "  validation loss:\t\t0.447389\n",
      "  validation accuracy:\t\t81.23 %\n",
      "Epoch 56 of 150 took 0.009s\n",
      "  training loss:\t\t0.466324\n",
      "  validation loss:\t\t0.447160\n",
      "  validation accuracy:\t\t81.23 %\n",
      "Epoch 57 of 150 took 0.008s\n",
      "  training loss:\t\t0.502918\n",
      "  validation loss:\t\t0.446860\n",
      "  validation accuracy:\t\t81.51 %\n",
      "Epoch 58 of 150 took 0.008s\n",
      "  training loss:\t\t0.501091\n",
      "  validation loss:\t\t0.446711\n",
      "  validation accuracy:\t\t81.51 %\n",
      "Epoch 59 of 150 took 0.008s\n",
      "  training loss:\t\t0.482666\n",
      "  validation loss:\t\t0.446565\n",
      "  validation accuracy:\t\t81.23 %\n",
      "Epoch 60 of 150 took 0.008s\n",
      "  training loss:\t\t0.471184\n",
      "  validation loss:\t\t0.446479\n",
      "  validation accuracy:\t\t80.95 %\n",
      "Epoch 61 of 150 took 0.008s\n",
      "  training loss:\t\t0.519121\n",
      "  validation loss:\t\t0.446284\n",
      "  validation accuracy:\t\t80.95 %\n",
      "Epoch 62 of 150 took 0.008s\n",
      "  training loss:\t\t0.548176\n",
      "  validation loss:\t\t0.446324\n",
      "  validation accuracy:\t\t80.95 %\n",
      "Epoch 63 of 150 took 0.008s\n",
      "  training loss:\t\t0.504442\n",
      "  validation loss:\t\t0.446341\n",
      "  validation accuracy:\t\t81.23 %\n",
      "Epoch 64 of 150 took 0.008s\n",
      "  training loss:\t\t0.497558\n",
      "  validation loss:\t\t0.446356\n",
      "  validation accuracy:\t\t81.23 %\n",
      "Epoch 65 of 150 took 0.008s\n",
      "  training loss:\t\t0.490807\n",
      "  validation loss:\t\t0.446380\n",
      "  validation accuracy:\t\t81.23 %\n",
      "Epoch 66 of 150 took 0.008s\n",
      "  training loss:\t\t0.474231\n",
      "  validation loss:\t\t0.446363\n",
      "  validation accuracy:\t\t81.23 %\n",
      "Epoch 67 of 150 took 0.009s\n",
      "  training loss:\t\t0.485247\n",
      "  validation loss:\t\t0.446251\n",
      "  validation accuracy:\t\t81.23 %\n",
      "Epoch 68 of 150 took 0.008s\n",
      "  training loss:\t\t0.459445\n",
      "  validation loss:\t\t0.446068\n",
      "  validation accuracy:\t\t81.23 %\n",
      "Epoch 69 of 150 took 0.008s\n",
      "  training loss:\t\t0.488990\n",
      "  validation loss:\t\t0.445830\n",
      "  validation accuracy:\t\t81.23 %\n",
      "Epoch 70 of 150 took 0.008s\n",
      "  training loss:\t\t0.501667\n",
      "  validation loss:\t\t0.445615\n",
      "  validation accuracy:\t\t81.23 %\n",
      "Epoch 71 of 150 took 0.009s\n",
      "  training loss:\t\t0.497799\n",
      "  validation loss:\t\t0.445384\n",
      "  validation accuracy:\t\t81.23 %\n",
      "Epoch 72 of 150 took 0.008s\n",
      "  training loss:\t\t0.489334\n",
      "  validation loss:\t\t0.445222\n",
      "  validation accuracy:\t\t81.23 %\n",
      "Epoch 73 of 150 took 0.008s\n",
      "  training loss:\t\t0.466934\n",
      "  validation loss:\t\t0.445041\n",
      "  validation accuracy:\t\t81.23 %\n",
      "Epoch 74 of 150 took 0.008s\n",
      "  training loss:\t\t0.485436\n",
      "  validation loss:\t\t0.444781\n",
      "  validation accuracy:\t\t81.23 %\n",
      "Epoch 75 of 150 took 0.009s\n",
      "  training loss:\t\t0.500660\n",
      "  validation loss:\t\t0.444511\n",
      "  validation accuracy:\t\t81.51 %\n",
      "Epoch 76 of 150 took 0.008s\n",
      "  training loss:\t\t0.477585\n",
      "  validation loss:\t\t0.444289\n",
      "  validation accuracy:\t\t81.23 %\n",
      "Epoch 77 of 150 took 0.008s\n",
      "  training loss:\t\t0.484619\n",
      "  validation loss:\t\t0.444144\n",
      "  validation accuracy:\t\t81.23 %\n",
      "Epoch 78 of 150 took 0.008s\n",
      "  training loss:\t\t0.462760\n",
      "  validation loss:\t\t0.443979\n",
      "  validation accuracy:\t\t81.23 %\n",
      "Epoch 79 of 150 took 0.009s\n",
      "  training loss:\t\t0.475382\n",
      "  validation loss:\t\t0.443714\n",
      "  validation accuracy:\t\t81.23 %\n",
      "Epoch 80 of 150 took 0.009s\n",
      "  training loss:\t\t0.482790\n",
      "  validation loss:\t\t0.443501\n",
      "  validation accuracy:\t\t81.23 %\n",
      "Epoch 81 of 150 took 0.008s\n",
      "  training loss:\t\t0.480463\n",
      "  validation loss:\t\t0.443255\n",
      "  validation accuracy:\t\t81.23 %\n",
      "Epoch 82 of 150 took 0.008s\n",
      "  training loss:\t\t0.486853\n",
      "  validation loss:\t\t0.443021\n",
      "  validation accuracy:\t\t81.23 %\n",
      "Epoch 83 of 150 took 0.008s\n",
      "  training loss:\t\t0.486461\n",
      "  validation loss:\t\t0.443010\n",
      "  validation accuracy:\t\t81.23 %\n",
      "Epoch 84 of 150 took 0.009s\n",
      "  training loss:\t\t0.487305\n",
      "  validation loss:\t\t0.442944\n",
      "  validation accuracy:\t\t81.23 %\n",
      "Epoch 85 of 150 took 0.008s\n",
      "  training loss:\t\t0.470847\n",
      "  validation loss:\t\t0.442783\n",
      "  validation accuracy:\t\t81.23 %\n",
      "Epoch 86 of 150 took 0.008s\n",
      "  training loss:\t\t0.458453\n",
      "  validation loss:\t\t0.442686\n",
      "  validation accuracy:\t\t80.95 %\n",
      "Epoch 87 of 150 took 0.008s\n",
      "  training loss:\t\t0.481618\n",
      "  validation loss:\t\t0.442543\n",
      "  validation accuracy:\t\t80.95 %\n",
      "Epoch 88 of 150 took 0.008s\n",
      "  training loss:\t\t0.478770\n",
      "  validation loss:\t\t0.442482\n",
      "  validation accuracy:\t\t81.23 %\n",
      "Epoch 89 of 150 took 0.009s\n",
      "  training loss:\t\t0.468799\n",
      "  validation loss:\t\t0.442272\n",
      "  validation accuracy:\t\t81.23 %\n",
      "Epoch 90 of 150 took 0.009s\n",
      "  training loss:\t\t0.493436\n",
      "  validation loss:\t\t0.442090\n",
      "  validation accuracy:\t\t81.51 %\n",
      "Epoch 91 of 150 took 0.009s\n",
      "  training loss:\t\t0.481511\n",
      "  validation loss:\t\t0.442012\n",
      "  validation accuracy:\t\t81.23 %\n",
      "Epoch 92 of 150 took 0.009s\n",
      "  training loss:\t\t0.496071\n",
      "  validation loss:\t\t0.441945\n",
      "  validation accuracy:\t\t81.23 %\n",
      "Epoch 93 of 150 took 0.008s\n",
      "  training loss:\t\t0.468443\n",
      "  validation loss:\t\t0.441751\n",
      "  validation accuracy:\t\t81.23 %\n",
      "Epoch 94 of 150 took 0.009s\n",
      "  training loss:\t\t0.496122\n",
      "  validation loss:\t\t0.441614\n",
      "  validation accuracy:\t\t81.23 %\n",
      "Epoch 95 of 150 took 0.008s\n",
      "  training loss:\t\t0.480940\n",
      "  validation loss:\t\t0.441479\n",
      "  validation accuracy:\t\t81.51 %\n",
      "Epoch 96 of 150 took 0.008s\n",
      "  training loss:\t\t0.487271\n",
      "  validation loss:\t\t0.441398\n",
      "  validation accuracy:\t\t81.51 %\n",
      "Epoch 97 of 150 took 0.008s\n",
      "  training loss:\t\t0.500663\n",
      "  validation loss:\t\t0.441171\n",
      "  validation accuracy:\t\t81.51 %\n",
      "Epoch 98 of 150 took 0.009s\n",
      "  training loss:\t\t0.490697\n",
      "  validation loss:\t\t0.440924\n",
      "  validation accuracy:\t\t81.23 %\n",
      "Epoch 99 of 150 took 0.009s\n",
      "  training loss:\t\t0.455343\n",
      "  validation loss:\t\t0.440592\n",
      "  validation accuracy:\t\t81.51 %\n",
      "Epoch 100 of 150 took 0.009s\n",
      "  training loss:\t\t0.478442\n",
      "  validation loss:\t\t0.440372\n",
      "  validation accuracy:\t\t81.51 %\n",
      "Epoch 101 of 150 took 0.009s\n",
      "  training loss:\t\t0.490434\n",
      "  validation loss:\t\t0.440153\n",
      "  validation accuracy:\t\t81.51 %\n",
      "Epoch 102 of 150 took 0.009s\n",
      "  training loss:\t\t0.475649\n",
      "  validation loss:\t\t0.439883\n",
      "  validation accuracy:\t\t81.23 %\n",
      "Epoch 103 of 150 took 0.009s\n",
      "  training loss:\t\t0.473522\n",
      "  validation loss:\t\t0.439689\n",
      "  validation accuracy:\t\t81.51 %\n",
      "Epoch 104 of 150 took 0.008s\n",
      "  training loss:\t\t0.486342\n",
      "  validation loss:\t\t0.439591\n",
      "  validation accuracy:\t\t81.23 %\n",
      "Epoch 105 of 150 took 0.008s\n",
      "  training loss:\t\t0.489691\n",
      "  validation loss:\t\t0.439444\n",
      "  validation accuracy:\t\t81.51 %\n",
      "Epoch 106 of 150 took 0.008s\n",
      "  training loss:\t\t0.481727\n",
      "  validation loss:\t\t0.439346\n",
      "  validation accuracy:\t\t81.51 %\n",
      "Epoch 107 of 150 took 0.008s\n",
      "  training loss:\t\t0.476627\n",
      "  validation loss:\t\t0.439282\n",
      "  validation accuracy:\t\t81.51 %\n",
      "Epoch 108 of 150 took 0.008s\n",
      "  training loss:\t\t0.462013\n",
      "  validation loss:\t\t0.439279\n",
      "  validation accuracy:\t\t81.51 %\n",
      "Epoch 109 of 150 took 0.008s\n",
      "  training loss:\t\t0.460915\n",
      "  validation loss:\t\t0.439282\n",
      "  validation accuracy:\t\t81.51 %\n",
      "Epoch 110 of 150 took 0.008s\n",
      "  training loss:\t\t0.492451\n",
      "  validation loss:\t\t0.439106\n",
      "  validation accuracy:\t\t81.51 %\n",
      "Epoch 111 of 150 took 0.008s\n",
      "  training loss:\t\t0.491657\n",
      "  validation loss:\t\t0.439002\n",
      "  validation accuracy:\t\t81.51 %\n",
      "Epoch 112 of 150 took 0.009s\n",
      "  training loss:\t\t0.477365\n",
      "  validation loss:\t\t0.438840\n",
      "  validation accuracy:\t\t81.51 %\n",
      "Epoch 113 of 150 took 0.008s\n",
      "  training loss:\t\t0.484628\n",
      "  validation loss:\t\t0.438721\n",
      "  validation accuracy:\t\t81.79 %\n",
      "Epoch 114 of 150 took 0.009s\n",
      "  training loss:\t\t0.474450\n",
      "  validation loss:\t\t0.438589\n",
      "  validation accuracy:\t\t81.79 %\n",
      "Epoch 115 of 150 took 0.008s\n",
      "  training loss:\t\t0.486091\n",
      "  validation loss:\t\t0.438491\n",
      "  validation accuracy:\t\t81.79 %\n",
      "Epoch 116 of 150 took 0.008s\n",
      "  training loss:\t\t0.485843\n",
      "  validation loss:\t\t0.438519\n",
      "  validation accuracy:\t\t81.51 %\n",
      "Epoch 117 of 150 took 0.008s\n",
      "  training loss:\t\t0.475793\n",
      "  validation loss:\t\t0.438476\n",
      "  validation accuracy:\t\t81.51 %\n",
      "Epoch 118 of 150 took 0.008s\n",
      "  training loss:\t\t0.474911\n",
      "  validation loss:\t\t0.438562\n",
      "  validation accuracy:\t\t81.23 %\n",
      "Epoch 119 of 150 took 0.009s\n",
      "  training loss:\t\t0.483320\n",
      "  validation loss:\t\t0.438527\n",
      "  validation accuracy:\t\t81.51 %\n",
      "Epoch 120 of 150 took 0.008s\n",
      "  training loss:\t\t0.491380\n",
      "  validation loss:\t\t0.438606\n",
      "  validation accuracy:\t\t81.23 %\n",
      "Epoch 121 of 150 took 0.008s\n",
      "  training loss:\t\t0.481118\n",
      "  validation loss:\t\t0.438519\n",
      "  validation accuracy:\t\t81.51 %\n",
      "Epoch 122 of 150 took 0.008s\n",
      "  training loss:\t\t0.471610\n",
      "  validation loss:\t\t0.438352\n",
      "  validation accuracy:\t\t81.51 %\n",
      "Epoch 123 of 150 took 0.008s\n",
      "  training loss:\t\t0.472018\n",
      "  validation loss:\t\t0.438246\n",
      "  validation accuracy:\t\t81.51 %\n",
      "Epoch 124 of 150 took 0.009s\n",
      "  training loss:\t\t0.458454\n",
      "  validation loss:\t\t0.438084\n",
      "  validation accuracy:\t\t81.51 %\n",
      "Epoch 125 of 150 took 0.009s\n",
      "  training loss:\t\t0.469282\n",
      "  validation loss:\t\t0.437958\n",
      "  validation accuracy:\t\t81.51 %\n",
      "Epoch 126 of 150 took 0.009s\n",
      "  training loss:\t\t0.463380\n",
      "  validation loss:\t\t0.437768\n",
      "  validation accuracy:\t\t81.51 %\n",
      "Epoch 127 of 150 took 0.009s\n",
      "  training loss:\t\t0.468104\n",
      "  validation loss:\t\t0.437527\n",
      "  validation accuracy:\t\t81.79 %\n",
      "Epoch 128 of 150 took 0.008s\n",
      "  training loss:\t\t0.482337\n",
      "  validation loss:\t\t0.437380\n",
      "  validation accuracy:\t\t81.79 %\n",
      "Epoch 129 of 150 took 0.008s\n",
      "  training loss:\t\t0.448223\n",
      "  validation loss:\t\t0.437203\n",
      "  validation accuracy:\t\t82.07 %\n",
      "Epoch 130 of 150 took 0.008s\n",
      "  training loss:\t\t0.481404\n",
      "  validation loss:\t\t0.437088\n",
      "  validation accuracy:\t\t82.07 %\n",
      "Epoch 131 of 150 took 0.008s\n",
      "  training loss:\t\t0.487022\n",
      "  validation loss:\t\t0.436819\n",
      "  validation accuracy:\t\t81.79 %\n",
      "Epoch 132 of 150 took 0.008s\n",
      "  training loss:\t\t0.479298\n",
      "  validation loss:\t\t0.436599\n",
      "  validation accuracy:\t\t82.07 %\n",
      "Epoch 133 of 150 took 0.008s\n",
      "  training loss:\t\t0.493012\n",
      "  validation loss:\t\t0.436465\n",
      "  validation accuracy:\t\t82.07 %\n",
      "Epoch 134 of 150 took 0.008s\n",
      "  training loss:\t\t0.463615\n",
      "  validation loss:\t\t0.436259\n",
      "  validation accuracy:\t\t82.07 %\n",
      "Epoch 135 of 150 took 0.009s\n",
      "  training loss:\t\t0.482622\n",
      "  validation loss:\t\t0.436075\n",
      "  validation accuracy:\t\t82.07 %\n",
      "Epoch 136 of 150 took 0.009s\n",
      "  training loss:\t\t0.475792\n",
      "  validation loss:\t\t0.435952\n",
      "  validation accuracy:\t\t82.07 %\n",
      "Epoch 137 of 150 took 0.009s\n",
      "  training loss:\t\t0.470090\n",
      "  validation loss:\t\t0.435792\n",
      "  validation accuracy:\t\t82.07 %\n",
      "Epoch 138 of 150 took 0.008s\n",
      "  training loss:\t\t0.465463\n",
      "  validation loss:\t\t0.435693\n",
      "  validation accuracy:\t\t82.07 %\n",
      "Epoch 139 of 150 took 0.008s\n",
      "  training loss:\t\t0.482844\n",
      "  validation loss:\t\t0.435600\n",
      "  validation accuracy:\t\t82.07 %\n",
      "Epoch 140 of 150 took 0.008s\n",
      "  training loss:\t\t0.465243\n",
      "  validation loss:\t\t0.435530\n",
      "  validation accuracy:\t\t82.07 %\n",
      "Epoch 141 of 150 took 0.008s\n",
      "  training loss:\t\t0.464095\n",
      "  validation loss:\t\t0.435537\n",
      "  validation accuracy:\t\t82.07 %\n",
      "Epoch 142 of 150 took 0.008s\n",
      "  training loss:\t\t0.442629\n",
      "  validation loss:\t\t0.435539\n",
      "  validation accuracy:\t\t82.07 %\n",
      "Epoch 143 of 150 took 0.009s\n",
      "  training loss:\t\t0.486560\n",
      "  validation loss:\t\t0.435489\n",
      "  validation accuracy:\t\t82.07 %\n",
      "Epoch 144 of 150 took 0.008s\n",
      "  training loss:\t\t0.464197\n",
      "  validation loss:\t\t0.435419\n",
      "  validation accuracy:\t\t82.07 %\n",
      "Epoch 145 of 150 took 0.008s\n",
      "  training loss:\t\t0.475477\n",
      "  validation loss:\t\t0.435251\n",
      "  validation accuracy:\t\t82.07 %\n",
      "Epoch 146 of 150 took 0.009s\n",
      "  training loss:\t\t0.465319\n",
      "  validation loss:\t\t0.435060\n",
      "  validation accuracy:\t\t82.07 %\n",
      "Epoch 147 of 150 took 0.009s\n",
      "  training loss:\t\t0.466096\n",
      "  validation loss:\t\t0.434909\n",
      "  validation accuracy:\t\t82.07 %\n",
      "Epoch 148 of 150 took 0.009s\n",
      "  training loss:\t\t0.466203\n",
      "  validation loss:\t\t0.434698\n",
      "  validation accuracy:\t\t82.07 %\n",
      "Epoch 149 of 150 took 0.009s\n",
      "  training loss:\t\t0.459176\n",
      "  validation loss:\t\t0.434544\n",
      "  validation accuracy:\t\t82.07 %\n",
      "Epoch 150 of 150 took 0.008s\n",
      "  training loss:\t\t0.472608\n",
      "  validation loss:\t\t0.434462\n",
      "  validation accuracy:\t\t82.07 %\n"
     ]
    }
   ],
   "source": [
    "num_epochs = 150\n",
    "for epoch in range(num_epochs):\n",
    "    # In each epoch, we do a full pass over the training data:\n",
    "    train_err = 0\n",
    "    start_time = time.time()\n",
    "    inputs, targets = X_traincv, y_traincv\n",
    "    train_err += train_fn(inputs, targets)\n",
    "    \n",
    "    # And a full pass over the validation data:\n",
    "    val_err = 0\n",
    "    val_acc = 0\n",
    "    inputs, targets = X_testcv, y_testcv\n",
    "    err, acc = val_fn(inputs, targets)\n",
    "    val_err += err\n",
    "    val_acc += acc\n",
    "    \n",
    "    # Then we print the results for this epoch:\n",
    "    print(\"Epoch {} of {} took {:.3f}s\".format(epoch + 1, num_epochs, time.time() - start_time))\n",
    "    print(\"  training loss:\\t\\t{:.6f}\".format(train_err))\n",
    "    print(\"  validation loss:\\t\\t{:.6f}\".format(val_err))\n",
    "    print(\"  validation accuracy:\\t\\t{:.2f} %\".format(val_acc * 100))"
   ]
  },
  {
   "cell_type": "code",
   "execution_count": 54,
   "metadata": {
    "collapsed": false
   },
   "outputs": [
    {
     "name": "stdout",
     "output_type": "stream",
     "text": [
      "Final results:\n",
      "  test loss:\t\t\t0.434462\n",
      "  test accuracy:\t\t82.07 %\n"
     ]
    }
   ],
   "source": [
    "test_err = 0\n",
    "test_acc = 0\n",
    "inputs, targets = X_testcv, y_testcv\n",
    "err, acc = val_fn(inputs, targets)\n",
    "test_err += err\n",
    "test_acc += acc\n",
    "print(\"Final results:\")\n",
    "print(\"  test loss:\\t\\t\\t{:.6f}\".format(test_err))\n",
    "print(\"  test accuracy:\\t\\t{:.2f} %\".format(test_acc * 100))"
   ]
  },
  {
   "cell_type": "markdown",
   "metadata": {},
   "source": [
    "Plotting the results:  "
   ]
  },
  {
   "cell_type": "code",
   "execution_count": 55,
   "metadata": {
    "collapsed": false
   },
   "outputs": [
    {
     "data": {
      "image/png": "[encoded data removed]",
      "text/plain": [
       "<matplotlib.figure.Figure at 0x7fe8b2046160>"
      ]
     },
     "metadata": {},
     "output_type": "display_data"
    }
   ],
   "source": [
    "dic_results = {'SVM': eval1_cv,\n",
    "               'RandomForest': eval2_cv,\n",
    "               'DecisionTree': eval3_cv,\n",
    "               'ExtraTree': eval4_cv,\n",
    "               'AdaBoost': eval5_cv,\n",
    "               'GradBoost': eval6_cv,\n",
    "               'SGDC': eval7_cv,\n",
    "               'Ridge': eval8_cv,\n",
    "               'Perceptron': eval9_cv,\n",
    "               'PassAgre': eval10_cv,\n",
    "               'LogiReg': eval11_cv,\n",
    "               'GaussianNB': eval12_cv,\n",
    "               'BernouNB': eval13_cv,\n",
    "               'NoLearn_Lasagne': eval15_cv,\n",
    "               'Lasagne': test_acc,\n",
    "              }\n",
    "\n",
    "import operator\n",
    "tup_results = sorted(dic_results.items(), key=operator.itemgetter(1))\n",
    "\n",
    "N = len(dic_results)\n",
    "ind = np.arange(N)  # the x locations for the groups\n",
    "width = 0.40       # the width of the bars\n",
    "\n",
    "fig = plt.figure(figsize=(12,8))\n",
    "ax = fig.add_subplot(111)\n",
    "rects = ax.bar(ind, list(zip(*tup_results))[1], width,)\n",
    "for rect in rects:\n",
    "    height = rect.get_height()\n",
    "    ax.text(rect.get_x()+rect.get_width()/2., \n",
    "            1.005*height, \n",
    "            '{0:.4f}'.format(height), \n",
    "            ha='center', \n",
    "            va='bottom',)\n",
    "\n",
    "ax.set_ylabel('Scores')\n",
    "ax.set_ylim(ymin=0.65,ymax = 0.85)\n",
    "ax.set_title(\"Classificators' performance\")\n",
    "ax.set_xticks(ind + width/2.)\n",
    "ax.set_xticklabels(list(zip(*tup_results))[0], rotation=45)\n",
    "\n",
    "plt.show()"
   ]
  },
  {
   "cell_type": "markdown",
   "metadata": {},
   "source": [
    "Choosing the best classifier and training with all training data:"
   ]
  },
  {
   "cell_type": "code",
   "execution_count": 59,
   "metadata": {
    "collapsed": false
   },
   "outputs": [
    {
     "name": "stdout",
     "output_type": "stream",
     "text": [
      "[ 0.  0.  1.  0.  1.  1.  0.  0.  0.  0.]\n",
      "[[ 0.78714635  0.21285365]\n",
      " [ 0.88567483  0.11432517]\n",
      " [ 0.00499748  0.99500252]\n",
      " [ 0.95625227  0.04374773]\n",
      " [ 0.0366157   0.9633843 ]\n",
      " [ 0.08812646  0.91187354]\n",
      " [ 0.87053286  0.12946714]\n",
      " [ 0.96453513  0.03546487]\n",
      " [ 0.8269453   0.1730547 ]\n",
      " [ 0.99306746  0.00693254]]\n"
     ]
    }
   ],
   "source": [
    "# Fit the training data to the Survived labels and create the decision trees\n",
    "clf = GradientBoostingClassifier(loss='deviance',\n",
    "                                  learning_rate=0.1,\n",
    "                                  n_estimators=200,\n",
    "                                  subsample=1.0, \n",
    "                                  min_samples_split=2, \n",
    "                                  min_samples_leaf=1, \n",
    "                                  min_weight_fraction_leaf=0.0, \n",
    "                                  max_depth=3, \n",
    "                                  init=None, \n",
    "                                  random_state=0, \n",
    "                                  max_features=None, \n",
    "                                  verbose=0, \n",
    "                                  max_leaf_nodes=None, \n",
    "                                  warm_start=False, \n",
    "                                  presort='auto').fit(X_train,y_train)\n",
    "# Take the same decision trees and run it on the test data\n",
    "\n",
    "output = clf.predict(X_test)\n",
    "print(output[10:20])\n",
    "\n",
    "output_prob = clf.predict_proba(X_test)\n",
    "print(output_prob[10:20])"
   ]
  },
  {
   "cell_type": "markdown",
   "metadata": {},
   "source": [
    "Runnng correlation hypothesis:"
   ]
  },
  {
   "cell_type": "code",
   "execution_count": 60,
   "metadata": {
    "collapsed": false
   },
   "outputs": [
    {
     "name": "stdout",
     "output_type": "stream",
     "text": [
      "Optimization terminated successfully.\n",
      "         Current function value: 0.558118\n",
      "         Iterations 5\n",
      "                           Logit Regression Results                           \n",
      "==============================================================================\n",
      "Dep. Variable:               Survived   No. Observations:                  891\n",
      "Model:                          Logit   Df Residuals:                      890\n",
      "Method:                           MLE   Df Model:                            0\n",
      "Date:                Tue, 12 Jul 2016   Pseudo R-squ.:                  0.1619\n",
      "Time:                        13:50:19   Log-Likelihood:                -497.28\n",
      "converged:                       True   LL-Null:                       -593.33\n",
      "                                        LLR p-value:                       nan\n",
      "==============================================================================\n",
      "                 coef    std err          z      P>|z|      [95.0% Conf. Int.]\n",
      "------------------------------------------------------------------------------\n",
      "Gender        -1.4571      0.106    -13.701      0.000        -1.666    -1.249\n",
      "==============================================================================\n"
     ]
    }
   ],
   "source": [
    "y = df_train2.Survived\n",
    "X = df_train2.Gender\n",
    "model = sm.Logit(y, X)\n",
    "results = model.fit()\n",
    "print(results.summary())"
   ]
  },
  {
   "cell_type": "code",
   "execution_count": 61,
   "metadata": {
    "collapsed": false
   },
   "outputs": [
    {
     "name": "stdout",
     "output_type": "stream",
     "text": [
      "Optimization terminated successfully.\n",
      "         Current function value: 0.529672\n",
      "         Iterations 6\n",
      "                           Logit Regression Results                           \n",
      "==============================================================================\n",
      "Dep. Variable:               Survived   No. Observations:                  891\n",
      "Model:                          Logit   Df Residuals:                      888\n",
      "Method:                           MLE   Df Model:                            2\n",
      "Date:                Tue, 12 Jul 2016   Pseudo R-squ.:                  0.2046\n",
      "Time:                        13:50:21   Log-Likelihood:                -471.94\n",
      "converged:                       True   LL-Null:                       -593.33\n",
      "                                        LLR p-value:                 1.910e-53\n",
      "==============================================================================\n",
      "                 coef    std err          z      P>|z|      [95.0% Conf. Int.]\n",
      "------------------------------------------------------------------------------\n",
      "Gender        -2.1764      0.170    -12.829      0.000        -2.509    -1.844\n",
      "Pclass        -0.0671      0.056     -1.190      0.234        -0.178     0.043\n",
      "AgeFill        0.0276      0.004      6.248      0.000         0.019     0.036\n",
      "==============================================================================\n"
     ]
    }
   ],
   "source": [
    "y = df_train2.Survived\n",
    "X = df_train2[['Gender','Pclass','AgeFill']]\n",
    "model = sm.Logit(y, X)\n",
    "results = model.fit()\n",
    "print(results.summary())"
   ]
  },
  {
   "cell_type": "code",
   "execution_count": null,
   "metadata": {
    "collapsed": true
   },
   "outputs": [],
   "source": []
  }
 ],
 "metadata": {
  "kernelspec": {
   "display_name": "Python 3",
   "language": "python",
   "name": "python3"
  },
  "language_info": {
   "codemirror_mode": {
    "name": "ipython",
    "version": 3
   },
   "file_extension": ".py",
   "mimetype": "text/x-python",
   "name": "python",
   "nbconvert_exporter": "python",
   "pygments_lexer": "ipython3",
   "version": "3.5.1+"
  }
 },
 "nbformat": 4,
 "nbformat_minor": 0
}
