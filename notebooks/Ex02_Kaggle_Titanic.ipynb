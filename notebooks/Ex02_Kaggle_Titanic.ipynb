{
 "cells": [
  {
   "cell_type": "markdown",
   "metadata": {
    "deletable": true,
    "editable": true
   },
   "source": [
    "## Introduction to predictive analysis: the sinking of Titanic"
   ]
  },
  {
   "cell_type": "markdown",
   "metadata": {
    "deletable": true,
    "editable": true
   },
   "source": [
    "https://www.kaggle.com/c/titanic-gettingStarted\n",
    "\n",
    "The sinking of the RMS Titanic is one of the most infamous shipwrecks in history.  On April 15, 1912, during her maiden voyage, the Titanic sank after colliding with an iceberg, killing 1502 out of 2224 passengers and crew. This sensational tragedy shocked the international community and led to better safety regulations for ships.\n",
    "\n",
    "One of the reasons that the shipwreck led to such loss of life was that there were not enough lifeboats for the passengers and crew. Although there was some element of luck involved in surviving the sinking, some groups of people were more likely to survive than others, such as women, children, and the upper-class.\n",
    "\n",
    "In this challenge, we ask you to complete the analysis of what sorts of people were likely to survive. In particular, we ask you to apply the tools of machine learning to predict which passengers survived the tragedy."
   ]
  },
  {
   "cell_type": "markdown",
   "metadata": {
    "deletable": true,
    "editable": true
   },
   "source": [
    "VARIABLE DESCRIPTIONS:\n",
    "survival        Survival\n",
    "                (0 = No; 1 = Yes)\n",
    "pclass          Passenger Class\n",
    "                (1 = 1st; 2 = 2nd; 3 = 3rd)\n",
    "name            Name\n",
    "sex             Sex\n",
    "age             Age\n",
    "sibsp           Number of Siblings/Spouses Aboard\n",
    "parch           Number of Parents/Children Aboard\n",
    "ticket          Ticket Number\n",
    "fare            Passenger Fare\n",
    "cabin           Cabin\n",
    "embarked        Port of Embarkation\n",
    "                (C = Cherbourg; Q = Queenstown; S = Southampton)\n",
    "\n",
    "SPECIAL NOTES:\n",
    "Pclass is a proxy for socio-economic status (SES)\n",
    " 1st ~ Upper; 2nd ~ Middle; 3rd ~ Lower\n",
    "\n",
    "Age is in Years; Fractional if Age less than One (1)\n",
    " If the Age is Estimated, it is in the form xx.5\n",
    "\n",
    "With respect to the family relation variables (i.e. sibsp and parch)\n",
    "some relations were ignored.  The following are the definitions used\n",
    "for sibsp and parch.\n",
    "\n",
    "Sibling:  Brother, Sister, Stepbrother, or Stepsister of Passenger Aboard Titanic\n",
    "Spouse:   Husband or Wife of Passenger Aboard Titanic (Mistresses and Fiances Ignored)\n",
    "Parent:   Mother or Father of Passenger Aboard Titanic\n",
    "Child:    Son, Daughter, Stepson, or Stepdaughter of Passenger Aboard Titanic\n",
    "\n",
    "Other family relatives excluded from this study include cousins,\n",
    "nephews/nieces, aunts/uncles, and in-laws.  Some children travelled\n",
    "only with a nanny, therefore parch=0 for them.  As well, some\n",
    "travelled with very close friends or neighbors in a village, however,\n",
    "the definitions do not support such relations."
   ]
  },
  {
   "cell_type": "markdown",
   "metadata": {
    "deletable": true,
    "editable": true
   },
   "source": [
    "#### Loading the usual packages...  "
   ]
  },
  {
   "cell_type": "code",
   "execution_count": 1,
   "metadata": {
    "collapsed": false,
    "deletable": true,
    "editable": true
   },
   "outputs": [],
   "source": [
    "import os\n",
    "import sys\n",
    "import time\n",
    "import pickle\n",
    "import itertools\n",
    "import pandas as pd\n",
    "import numpy as np\n",
    "import pylab\n",
    "import statsmodels.api as sm\n",
    "import matplotlib\n",
    "import matplotlib.pyplot as plt\n",
    "from matplotlib.font_manager import FontProperties\n",
    "\n",
    "#import seaborn as sns\n",
    "import seaborn.apionly as sns\n",
    "\n",
    "%matplotlib inline\n",
    "#%matplotlib notebook\n",
    "#matplotlib.rcdefaults()\n",
    "#matplotlib.verbose.set_level('silent')"
   ]
  },
  {
   "cell_type": "code",
   "execution_count": 2,
   "metadata": {
    "collapsed": true,
    "deletable": true,
    "editable": true
   },
   "outputs": [],
   "source": [
    "datapath = \"../datasets/\"\n",
    "outputs = \"../outputs/\""
   ]
  },
  {
   "cell_type": "code",
   "execution_count": 3,
   "metadata": {
    "collapsed": false,
    "deletable": true,
    "editable": true
   },
   "outputs": [],
   "source": [
    "df_train = pd.read_csv(os.path.join(datapath,'Kaggle/kaggle_titanic_train.csv'))\n",
    "df_test = pd.read_csv(os.path.join(datapath,'Kaggle/kaggle_titanic_test.csv'))"
   ]
  },
  {
   "cell_type": "code",
   "execution_count": 4,
   "metadata": {
    "collapsed": false,
    "deletable": true,
    "editable": true
   },
   "outputs": [
    {
     "name": "stdout",
     "output_type": "stream",
     "text": [
      "<class 'pandas.core.frame.DataFrame'>\n",
      "RangeIndex: 891 entries, 0 to 890\n",
      "Data columns (total 12 columns):\n",
      "PassengerId    891 non-null int64\n",
      "Survived       891 non-null int64\n",
      "Pclass         891 non-null int64\n",
      "Name           891 non-null object\n",
      "Sex            891 non-null object\n",
      "Age            714 non-null float64\n",
      "SibSp          891 non-null int64\n",
      "Parch          891 non-null int64\n",
      "Ticket         891 non-null object\n",
      "Fare           891 non-null float64\n",
      "Cabin          204 non-null object\n",
      "Embarked       889 non-null object\n",
      "dtypes: float64(2), int64(5), object(5)\n",
      "memory usage: 83.6+ KB\n"
     ]
    }
   ],
   "source": [
    "#df_train.columns\n",
    "#df_train.dtypes\n",
    "df_train.info()"
   ]
  },
  {
   "cell_type": "code",
   "execution_count": 5,
   "metadata": {
    "collapsed": false,
    "deletable": true,
    "editable": true
   },
   "outputs": [
    {
     "data": {
      "text/html": [
       "<div>\n",
       "<table border=\"1\" class=\"dataframe\">\n",
       "  <thead>\n",
       "    <tr style=\"text-align: right;\">\n",
       "      <th></th>\n",
       "      <th>PassengerId</th>\n",
       "      <th>Survived</th>\n",
       "      <th>Pclass</th>\n",
       "      <th>Name</th>\n",
       "      <th>Sex</th>\n",
       "      <th>Age</th>\n",
       "      <th>SibSp</th>\n",
       "      <th>Parch</th>\n",
       "      <th>Ticket</th>\n",
       "      <th>Fare</th>\n",
       "      <th>Cabin</th>\n",
       "      <th>Embarked</th>\n",
       "    </tr>\n",
       "  </thead>\n",
       "  <tbody>\n",
       "    <tr>\n",
       "      <th>0</th>\n",
       "      <td>1</td>\n",
       "      <td>0</td>\n",
       "      <td>3</td>\n",
       "      <td>Braund, Mr. Owen Harris</td>\n",
       "      <td>male</td>\n",
       "      <td>22.0</td>\n",
       "      <td>1</td>\n",
       "      <td>0</td>\n",
       "      <td>A/5 21171</td>\n",
       "      <td>7.2500</td>\n",
       "      <td>NaN</td>\n",
       "      <td>S</td>\n",
       "    </tr>\n",
       "    <tr>\n",
       "      <th>1</th>\n",
       "      <td>2</td>\n",
       "      <td>1</td>\n",
       "      <td>1</td>\n",
       "      <td>Cumings, Mrs. John Bradley (Florence Briggs Th...</td>\n",
       "      <td>female</td>\n",
       "      <td>38.0</td>\n",
       "      <td>1</td>\n",
       "      <td>0</td>\n",
       "      <td>PC 17599</td>\n",
       "      <td>71.2833</td>\n",
       "      <td>C85</td>\n",
       "      <td>C</td>\n",
       "    </tr>\n",
       "    <tr>\n",
       "      <th>2</th>\n",
       "      <td>3</td>\n",
       "      <td>1</td>\n",
       "      <td>3</td>\n",
       "      <td>Heikkinen, Miss. Laina</td>\n",
       "      <td>female</td>\n",
       "      <td>26.0</td>\n",
       "      <td>0</td>\n",
       "      <td>0</td>\n",
       "      <td>STON/O2. 3101282</td>\n",
       "      <td>7.9250</td>\n",
       "      <td>NaN</td>\n",
       "      <td>S</td>\n",
       "    </tr>\n",
       "    <tr>\n",
       "      <th>3</th>\n",
       "      <td>4</td>\n",
       "      <td>1</td>\n",
       "      <td>1</td>\n",
       "      <td>Futrelle, Mrs. Jacques Heath (Lily May Peel)</td>\n",
       "      <td>female</td>\n",
       "      <td>35.0</td>\n",
       "      <td>1</td>\n",
       "      <td>0</td>\n",
       "      <td>113803</td>\n",
       "      <td>53.1000</td>\n",
       "      <td>C123</td>\n",
       "      <td>S</td>\n",
       "    </tr>\n",
       "    <tr>\n",
       "      <th>4</th>\n",
       "      <td>5</td>\n",
       "      <td>0</td>\n",
       "      <td>3</td>\n",
       "      <td>Allen, Mr. William Henry</td>\n",
       "      <td>male</td>\n",
       "      <td>35.0</td>\n",
       "      <td>0</td>\n",
       "      <td>0</td>\n",
       "      <td>373450</td>\n",
       "      <td>8.0500</td>\n",
       "      <td>NaN</td>\n",
       "      <td>S</td>\n",
       "    </tr>\n",
       "  </tbody>\n",
       "</table>\n",
       "</div>"
      ],
      "text/plain": [
       "   PassengerId  Survived  Pclass  \\\n",
       "0            1         0       3   \n",
       "1            2         1       1   \n",
       "2            3         1       3   \n",
       "3            4         1       1   \n",
       "4            5         0       3   \n",
       "\n",
       "                                                Name     Sex   Age  SibSp  \\\n",
       "0                            Braund, Mr. Owen Harris    male  22.0      1   \n",
       "1  Cumings, Mrs. John Bradley (Florence Briggs Th...  female  38.0      1   \n",
       "2                             Heikkinen, Miss. Laina  female  26.0      0   \n",
       "3       Futrelle, Mrs. Jacques Heath (Lily May Peel)  female  35.0      1   \n",
       "4                           Allen, Mr. William Henry    male  35.0      0   \n",
       "\n",
       "   Parch            Ticket     Fare Cabin Embarked  \n",
       "0      0         A/5 21171   7.2500   NaN        S  \n",
       "1      0          PC 17599  71.2833   C85        C  \n",
       "2      0  STON/O2. 3101282   7.9250   NaN        S  \n",
       "3      0            113803  53.1000  C123        S  \n",
       "4      0            373450   8.0500   NaN        S  "
      ]
     },
     "execution_count": 5,
     "metadata": {},
     "output_type": "execute_result"
    }
   ],
   "source": [
    "df_train.head()"
   ]
  },
  {
   "cell_type": "code",
   "execution_count": 6,
   "metadata": {
    "collapsed": false,
    "deletable": true,
    "editable": true
   },
   "outputs": [
    {
     "data": {
      "text/plain": [
       "Index(['PassengerId', 'Survived', 'Pclass', 'Name', 'Sex', 'Age', 'SibSp',\n",
       "       'Parch', 'Ticket', 'Fare', 'Cabin', 'Embarked'],\n",
       "      dtype='object')"
      ]
     },
     "execution_count": 6,
     "metadata": {},
     "output_type": "execute_result"
    }
   ],
   "source": [
    "df_train.columns"
   ]
  },
  {
   "cell_type": "code",
   "execution_count": 7,
   "metadata": {
    "collapsed": false,
    "deletable": true,
    "editable": true
   },
   "outputs": [
    {
     "data": {
      "text/html": [
       "<div>\n",
       "<table border=\"1\" class=\"dataframe\">\n",
       "  <thead>\n",
       "    <tr style=\"text-align: right;\">\n",
       "      <th></th>\n",
       "      <th>PassengerId</th>\n",
       "      <th>Survived</th>\n",
       "      <th>Pclass</th>\n",
       "      <th>Age</th>\n",
       "      <th>SibSp</th>\n",
       "      <th>Parch</th>\n",
       "      <th>Fare</th>\n",
       "    </tr>\n",
       "  </thead>\n",
       "  <tbody>\n",
       "    <tr>\n",
       "      <th>count</th>\n",
       "      <td>891.000000</td>\n",
       "      <td>891.000000</td>\n",
       "      <td>891.000000</td>\n",
       "      <td>714.000000</td>\n",
       "      <td>891.000000</td>\n",
       "      <td>891.000000</td>\n",
       "      <td>891.000000</td>\n",
       "    </tr>\n",
       "    <tr>\n",
       "      <th>mean</th>\n",
       "      <td>446.000000</td>\n",
       "      <td>0.383838</td>\n",
       "      <td>2.308642</td>\n",
       "      <td>29.699118</td>\n",
       "      <td>0.523008</td>\n",
       "      <td>0.381594</td>\n",
       "      <td>32.204208</td>\n",
       "    </tr>\n",
       "    <tr>\n",
       "      <th>std</th>\n",
       "      <td>257.353842</td>\n",
       "      <td>0.486592</td>\n",
       "      <td>0.836071</td>\n",
       "      <td>14.526497</td>\n",
       "      <td>1.102743</td>\n",
       "      <td>0.806057</td>\n",
       "      <td>49.693429</td>\n",
       "    </tr>\n",
       "    <tr>\n",
       "      <th>min</th>\n",
       "      <td>1.000000</td>\n",
       "      <td>0.000000</td>\n",
       "      <td>1.000000</td>\n",
       "      <td>0.420000</td>\n",
       "      <td>0.000000</td>\n",
       "      <td>0.000000</td>\n",
       "      <td>0.000000</td>\n",
       "    </tr>\n",
       "    <tr>\n",
       "      <th>25%</th>\n",
       "      <td>223.500000</td>\n",
       "      <td>0.000000</td>\n",
       "      <td>2.000000</td>\n",
       "      <td>20.125000</td>\n",
       "      <td>0.000000</td>\n",
       "      <td>0.000000</td>\n",
       "      <td>7.910400</td>\n",
       "    </tr>\n",
       "    <tr>\n",
       "      <th>50%</th>\n",
       "      <td>446.000000</td>\n",
       "      <td>0.000000</td>\n",
       "      <td>3.000000</td>\n",
       "      <td>28.000000</td>\n",
       "      <td>0.000000</td>\n",
       "      <td>0.000000</td>\n",
       "      <td>14.454200</td>\n",
       "    </tr>\n",
       "    <tr>\n",
       "      <th>75%</th>\n",
       "      <td>668.500000</td>\n",
       "      <td>1.000000</td>\n",
       "      <td>3.000000</td>\n",
       "      <td>38.000000</td>\n",
       "      <td>1.000000</td>\n",
       "      <td>0.000000</td>\n",
       "      <td>31.000000</td>\n",
       "    </tr>\n",
       "    <tr>\n",
       "      <th>max</th>\n",
       "      <td>891.000000</td>\n",
       "      <td>1.000000</td>\n",
       "      <td>3.000000</td>\n",
       "      <td>80.000000</td>\n",
       "      <td>8.000000</td>\n",
       "      <td>6.000000</td>\n",
       "      <td>512.329200</td>\n",
       "    </tr>\n",
       "  </tbody>\n",
       "</table>\n",
       "</div>"
      ],
      "text/plain": [
       "       PassengerId    Survived      Pclass         Age       SibSp  \\\n",
       "count   891.000000  891.000000  891.000000  714.000000  891.000000   \n",
       "mean    446.000000    0.383838    2.308642   29.699118    0.523008   \n",
       "std     257.353842    0.486592    0.836071   14.526497    1.102743   \n",
       "min       1.000000    0.000000    1.000000    0.420000    0.000000   \n",
       "25%     223.500000    0.000000    2.000000   20.125000    0.000000   \n",
       "50%     446.000000    0.000000    3.000000   28.000000    0.000000   \n",
       "75%     668.500000    1.000000    3.000000   38.000000    1.000000   \n",
       "max     891.000000    1.000000    3.000000   80.000000    8.000000   \n",
       "\n",
       "            Parch        Fare  \n",
       "count  891.000000  891.000000  \n",
       "mean     0.381594   32.204208  \n",
       "std      0.806057   49.693429  \n",
       "min      0.000000    0.000000  \n",
       "25%      0.000000    7.910400  \n",
       "50%      0.000000   14.454200  \n",
       "75%      0.000000   31.000000  \n",
       "max      6.000000  512.329200  "
      ]
     },
     "execution_count": 7,
     "metadata": {},
     "output_type": "execute_result"
    }
   ],
   "source": [
    "df_train.describe()"
   ]
  },
  {
   "cell_type": "code",
   "execution_count": 8,
   "metadata": {
    "collapsed": false,
    "deletable": true,
    "editable": true
   },
   "outputs": [
    {
     "name": "stdout",
     "output_type": "stream",
     "text": [
      "[0, 1]\n",
      "[1, 2, 3]\n",
      "[0, 1, 2, 3, 4, 5, 8]\n",
      "['S' 'C' 'Q' nan]\n"
     ]
    }
   ],
   "source": [
    "print(sorted(df_train.Survived.unique()))\n",
    "print(sorted(df_train.Pclass.unique()))\n",
    "print(sorted(df_train.SibSp.unique()))\n",
    "print(df_train.Embarked.unique())"
   ]
  },
  {
   "cell_type": "code",
   "execution_count": 9,
   "metadata": {
    "collapsed": false,
    "deletable": true,
    "editable": true
   },
   "outputs": [
    {
     "name": "stdout",
     "output_type": "stream",
     "text": [
      "0    549\n",
      "1    342\n",
      "Name: Survived, dtype: int64\n"
     ]
    }
   ],
   "source": [
    "print(df_train.Survived.value_counts())"
   ]
  },
  {
   "cell_type": "code",
   "execution_count": 10,
   "metadata": {
    "collapsed": false,
    "deletable": true,
    "editable": true
   },
   "outputs": [],
   "source": [
    "df_train['Gender'] = df_train['Sex'].map( {'female': 0, 'male': 1} ).astype(int)\n",
    "df_train['Embarked'] = df_train['Embarked'].map( {np.nan:0,'C':1, 'Q':2,'S':3} ).astype(int)\n",
    "df_test['Gender'] = df_test['Sex'].map( {'female': 0, 'male': 1} ).astype(int)\n",
    "df_test['Embarked'] = df_test['Embarked'].map( {np.nan:0,'C':1, 'Q':2,'S':3} ).astype(int)"
   ]
  },
  {
   "cell_type": "code",
   "execution_count": 11,
   "metadata": {
    "collapsed": false,
    "deletable": true,
    "editable": true
   },
   "outputs": [
    {
     "data": {
      "text/html": [
       "<div>\n",
       "<table border=\"1\" class=\"dataframe\">\n",
       "  <thead>\n",
       "    <tr style=\"text-align: right;\">\n",
       "      <th></th>\n",
       "      <th></th>\n",
       "      <th>Age</th>\n",
       "      <th>Embarked</th>\n",
       "      <th>Fare</th>\n",
       "      <th>Gender</th>\n",
       "      <th>Parch</th>\n",
       "      <th>PassengerId</th>\n",
       "      <th>Pclass</th>\n",
       "      <th>SibSp</th>\n",
       "      <th>Survived</th>\n",
       "    </tr>\n",
       "    <tr>\n",
       "      <th>Sex</th>\n",
       "      <th></th>\n",
       "      <th></th>\n",
       "      <th></th>\n",
       "      <th></th>\n",
       "      <th></th>\n",
       "      <th></th>\n",
       "      <th></th>\n",
       "      <th></th>\n",
       "      <th></th>\n",
       "      <th></th>\n",
       "    </tr>\n",
       "  </thead>\n",
       "  <tbody>\n",
       "    <tr>\n",
       "      <th rowspan=\"8\" valign=\"top\">female</th>\n",
       "      <th>count</th>\n",
       "      <td>261.000000</td>\n",
       "      <td>314.000000</td>\n",
       "      <td>314.000000</td>\n",
       "      <td>314.0</td>\n",
       "      <td>314.000000</td>\n",
       "      <td>314.000000</td>\n",
       "      <td>314.000000</td>\n",
       "      <td>314.000000</td>\n",
       "      <td>314.000000</td>\n",
       "    </tr>\n",
       "    <tr>\n",
       "      <th>mean</th>\n",
       "      <td>27.915709</td>\n",
       "      <td>2.401274</td>\n",
       "      <td>44.479818</td>\n",
       "      <td>0.0</td>\n",
       "      <td>0.649682</td>\n",
       "      <td>431.028662</td>\n",
       "      <td>2.159236</td>\n",
       "      <td>0.694268</td>\n",
       "      <td>0.742038</td>\n",
       "    </tr>\n",
       "    <tr>\n",
       "      <th>std</th>\n",
       "      <td>14.110146</td>\n",
       "      <td>0.863605</td>\n",
       "      <td>57.997698</td>\n",
       "      <td>0.0</td>\n",
       "      <td>1.022846</td>\n",
       "      <td>256.846324</td>\n",
       "      <td>0.857290</td>\n",
       "      <td>1.156520</td>\n",
       "      <td>0.438211</td>\n",
       "    </tr>\n",
       "    <tr>\n",
       "      <th>min</th>\n",
       "      <td>0.750000</td>\n",
       "      <td>0.000000</td>\n",
       "      <td>6.750000</td>\n",
       "      <td>0.0</td>\n",
       "      <td>0.000000</td>\n",
       "      <td>2.000000</td>\n",
       "      <td>1.000000</td>\n",
       "      <td>0.000000</td>\n",
       "      <td>0.000000</td>\n",
       "    </tr>\n",
       "    <tr>\n",
       "      <th>25%</th>\n",
       "      <td>18.000000</td>\n",
       "      <td>2.000000</td>\n",
       "      <td>12.071875</td>\n",
       "      <td>0.0</td>\n",
       "      <td>0.000000</td>\n",
       "      <td>231.750000</td>\n",
       "      <td>1.000000</td>\n",
       "      <td>0.000000</td>\n",
       "      <td>0.000000</td>\n",
       "    </tr>\n",
       "    <tr>\n",
       "      <th>50%</th>\n",
       "      <td>27.000000</td>\n",
       "      <td>3.000000</td>\n",
       "      <td>23.000000</td>\n",
       "      <td>0.0</td>\n",
       "      <td>0.000000</td>\n",
       "      <td>414.500000</td>\n",
       "      <td>2.000000</td>\n",
       "      <td>0.000000</td>\n",
       "      <td>1.000000</td>\n",
       "    </tr>\n",
       "    <tr>\n",
       "      <th>75%</th>\n",
       "      <td>37.000000</td>\n",
       "      <td>3.000000</td>\n",
       "      <td>55.000000</td>\n",
       "      <td>0.0</td>\n",
       "      <td>1.000000</td>\n",
       "      <td>641.250000</td>\n",
       "      <td>3.000000</td>\n",
       "      <td>1.000000</td>\n",
       "      <td>1.000000</td>\n",
       "    </tr>\n",
       "    <tr>\n",
       "      <th>max</th>\n",
       "      <td>63.000000</td>\n",
       "      <td>3.000000</td>\n",
       "      <td>512.329200</td>\n",
       "      <td>0.0</td>\n",
       "      <td>6.000000</td>\n",
       "      <td>889.000000</td>\n",
       "      <td>3.000000</td>\n",
       "      <td>8.000000</td>\n",
       "      <td>1.000000</td>\n",
       "    </tr>\n",
       "    <tr>\n",
       "      <th rowspan=\"8\" valign=\"top\">male</th>\n",
       "      <th>count</th>\n",
       "      <td>453.000000</td>\n",
       "      <td>577.000000</td>\n",
       "      <td>577.000000</td>\n",
       "      <td>577.0</td>\n",
       "      <td>577.000000</td>\n",
       "      <td>577.000000</td>\n",
       "      <td>577.000000</td>\n",
       "      <td>577.000000</td>\n",
       "      <td>577.000000</td>\n",
       "    </tr>\n",
       "    <tr>\n",
       "      <th>mean</th>\n",
       "      <td>30.726645</td>\n",
       "      <td>2.599653</td>\n",
       "      <td>25.523893</td>\n",
       "      <td>1.0</td>\n",
       "      <td>0.235702</td>\n",
       "      <td>454.147314</td>\n",
       "      <td>2.389948</td>\n",
       "      <td>0.429809</td>\n",
       "      <td>0.188908</td>\n",
       "    </tr>\n",
       "    <tr>\n",
       "      <th>std</th>\n",
       "      <td>14.678201</td>\n",
       "      <td>0.755213</td>\n",
       "      <td>43.138263</td>\n",
       "      <td>0.0</td>\n",
       "      <td>0.612294</td>\n",
       "      <td>257.486139</td>\n",
       "      <td>0.813580</td>\n",
       "      <td>1.061811</td>\n",
       "      <td>0.391775</td>\n",
       "    </tr>\n",
       "    <tr>\n",
       "      <th>min</th>\n",
       "      <td>0.420000</td>\n",
       "      <td>1.000000</td>\n",
       "      <td>0.000000</td>\n",
       "      <td>1.0</td>\n",
       "      <td>0.000000</td>\n",
       "      <td>1.000000</td>\n",
       "      <td>1.000000</td>\n",
       "      <td>0.000000</td>\n",
       "      <td>0.000000</td>\n",
       "    </tr>\n",
       "    <tr>\n",
       "      <th>25%</th>\n",
       "      <td>21.000000</td>\n",
       "      <td>3.000000</td>\n",
       "      <td>7.895800</td>\n",
       "      <td>1.0</td>\n",
       "      <td>0.000000</td>\n",
       "      <td>222.000000</td>\n",
       "      <td>2.000000</td>\n",
       "      <td>0.000000</td>\n",
       "      <td>0.000000</td>\n",
       "    </tr>\n",
       "    <tr>\n",
       "      <th>50%</th>\n",
       "      <td>29.000000</td>\n",
       "      <td>3.000000</td>\n",
       "      <td>10.500000</td>\n",
       "      <td>1.0</td>\n",
       "      <td>0.000000</td>\n",
       "      <td>464.000000</td>\n",
       "      <td>3.000000</td>\n",
       "      <td>0.000000</td>\n",
       "      <td>0.000000</td>\n",
       "    </tr>\n",
       "    <tr>\n",
       "      <th>75%</th>\n",
       "      <td>39.000000</td>\n",
       "      <td>3.000000</td>\n",
       "      <td>26.550000</td>\n",
       "      <td>1.0</td>\n",
       "      <td>0.000000</td>\n",
       "      <td>680.000000</td>\n",
       "      <td>3.000000</td>\n",
       "      <td>0.000000</td>\n",
       "      <td>0.000000</td>\n",
       "    </tr>\n",
       "    <tr>\n",
       "      <th>max</th>\n",
       "      <td>80.000000</td>\n",
       "      <td>3.000000</td>\n",
       "      <td>512.329200</td>\n",
       "      <td>1.0</td>\n",
       "      <td>5.000000</td>\n",
       "      <td>891.000000</td>\n",
       "      <td>3.000000</td>\n",
       "      <td>8.000000</td>\n",
       "      <td>1.000000</td>\n",
       "    </tr>\n",
       "  </tbody>\n",
       "</table>\n",
       "</div>"
      ],
      "text/plain": [
       "                     Age    Embarked        Fare  Gender       Parch  \\\n",
       "Sex                                                                    \n",
       "female count  261.000000  314.000000  314.000000   314.0  314.000000   \n",
       "       mean    27.915709    2.401274   44.479818     0.0    0.649682   \n",
       "       std     14.110146    0.863605   57.997698     0.0    1.022846   \n",
       "       min      0.750000    0.000000    6.750000     0.0    0.000000   \n",
       "       25%     18.000000    2.000000   12.071875     0.0    0.000000   \n",
       "       50%     27.000000    3.000000   23.000000     0.0    0.000000   \n",
       "       75%     37.000000    3.000000   55.000000     0.0    1.000000   \n",
       "       max     63.000000    3.000000  512.329200     0.0    6.000000   \n",
       "male   count  453.000000  577.000000  577.000000   577.0  577.000000   \n",
       "       mean    30.726645    2.599653   25.523893     1.0    0.235702   \n",
       "       std     14.678201    0.755213   43.138263     0.0    0.612294   \n",
       "       min      0.420000    1.000000    0.000000     1.0    0.000000   \n",
       "       25%     21.000000    3.000000    7.895800     1.0    0.000000   \n",
       "       50%     29.000000    3.000000   10.500000     1.0    0.000000   \n",
       "       75%     39.000000    3.000000   26.550000     1.0    0.000000   \n",
       "       max     80.000000    3.000000  512.329200     1.0    5.000000   \n",
       "\n",
       "              PassengerId      Pclass       SibSp    Survived  \n",
       "Sex                                                            \n",
       "female count   314.000000  314.000000  314.000000  314.000000  \n",
       "       mean    431.028662    2.159236    0.694268    0.742038  \n",
       "       std     256.846324    0.857290    1.156520    0.438211  \n",
       "       min       2.000000    1.000000    0.000000    0.000000  \n",
       "       25%     231.750000    1.000000    0.000000    0.000000  \n",
       "       50%     414.500000    2.000000    0.000000    1.000000  \n",
       "       75%     641.250000    3.000000    1.000000    1.000000  \n",
       "       max     889.000000    3.000000    8.000000    1.000000  \n",
       "male   count   577.000000  577.000000  577.000000  577.000000  \n",
       "       mean    454.147314    2.389948    0.429809    0.188908  \n",
       "       std     257.486139    0.813580    1.061811    0.391775  \n",
       "       min       1.000000    1.000000    0.000000    0.000000  \n",
       "       25%     222.000000    2.000000    0.000000    0.000000  \n",
       "       50%     464.000000    3.000000    0.000000    0.000000  \n",
       "       75%     680.000000    3.000000    0.000000    0.000000  \n",
       "       max     891.000000    3.000000    8.000000    1.000000  "
      ]
     },
     "execution_count": 11,
     "metadata": {},
     "output_type": "execute_result"
    }
   ],
   "source": [
    "df_by_sex = df_train.groupby('Sex')\n",
    "df_by_sex.describe()"
   ]
  },
  {
   "cell_type": "code",
   "execution_count": 12,
   "metadata": {
    "collapsed": false,
    "deletable": true,
    "editable": true
   },
   "outputs": [
    {
     "data": {
      "text/html": [
       "<div>\n",
       "<table border=\"1\" class=\"dataframe\">\n",
       "  <thead>\n",
       "    <tr style=\"text-align: right;\">\n",
       "      <th></th>\n",
       "      <th></th>\n",
       "      <th>Age</th>\n",
       "      <th>Embarked</th>\n",
       "      <th>Fare</th>\n",
       "      <th>Gender</th>\n",
       "      <th>Parch</th>\n",
       "      <th>PassengerId</th>\n",
       "      <th>SibSp</th>\n",
       "      <th>Survived</th>\n",
       "    </tr>\n",
       "    <tr>\n",
       "      <th>Pclass</th>\n",
       "      <th></th>\n",
       "      <th></th>\n",
       "      <th></th>\n",
       "      <th></th>\n",
       "      <th></th>\n",
       "      <th></th>\n",
       "      <th></th>\n",
       "      <th></th>\n",
       "      <th></th>\n",
       "    </tr>\n",
       "  </thead>\n",
       "  <tbody>\n",
       "    <tr>\n",
       "      <th rowspan=\"8\" valign=\"top\">1</th>\n",
       "      <th>count</th>\n",
       "      <td>186.000000</td>\n",
       "      <td>216.000000</td>\n",
       "      <td>216.000000</td>\n",
       "      <td>216.000000</td>\n",
       "      <td>216.000000</td>\n",
       "      <td>216.000000</td>\n",
       "      <td>216.000000</td>\n",
       "      <td>216.000000</td>\n",
       "    </tr>\n",
       "    <tr>\n",
       "      <th>mean</th>\n",
       "      <td>38.233441</td>\n",
       "      <td>2.175926</td>\n",
       "      <td>84.154687</td>\n",
       "      <td>0.564815</td>\n",
       "      <td>0.356481</td>\n",
       "      <td>461.597222</td>\n",
       "      <td>0.416667</td>\n",
       "      <td>0.629630</td>\n",
       "    </tr>\n",
       "    <tr>\n",
       "      <th>std</th>\n",
       "      <td>14.802856</td>\n",
       "      <td>0.996073</td>\n",
       "      <td>78.380373</td>\n",
       "      <td>0.496933</td>\n",
       "      <td>0.693997</td>\n",
       "      <td>246.737616</td>\n",
       "      <td>0.611898</td>\n",
       "      <td>0.484026</td>\n",
       "    </tr>\n",
       "    <tr>\n",
       "      <th>min</th>\n",
       "      <td>0.920000</td>\n",
       "      <td>0.000000</td>\n",
       "      <td>0.000000</td>\n",
       "      <td>0.000000</td>\n",
       "      <td>0.000000</td>\n",
       "      <td>2.000000</td>\n",
       "      <td>0.000000</td>\n",
       "      <td>0.000000</td>\n",
       "    </tr>\n",
       "    <tr>\n",
       "      <th>25%</th>\n",
       "      <td>27.000000</td>\n",
       "      <td>1.000000</td>\n",
       "      <td>30.923950</td>\n",
       "      <td>0.000000</td>\n",
       "      <td>0.000000</td>\n",
       "      <td>270.750000</td>\n",
       "      <td>0.000000</td>\n",
       "      <td>0.000000</td>\n",
       "    </tr>\n",
       "    <tr>\n",
       "      <th>50%</th>\n",
       "      <td>37.000000</td>\n",
       "      <td>3.000000</td>\n",
       "      <td>60.287500</td>\n",
       "      <td>1.000000</td>\n",
       "      <td>0.000000</td>\n",
       "      <td>472.000000</td>\n",
       "      <td>0.000000</td>\n",
       "      <td>1.000000</td>\n",
       "    </tr>\n",
       "    <tr>\n",
       "      <th>75%</th>\n",
       "      <td>49.000000</td>\n",
       "      <td>3.000000</td>\n",
       "      <td>93.500000</td>\n",
       "      <td>1.000000</td>\n",
       "      <td>0.000000</td>\n",
       "      <td>670.500000</td>\n",
       "      <td>1.000000</td>\n",
       "      <td>1.000000</td>\n",
       "    </tr>\n",
       "    <tr>\n",
       "      <th>max</th>\n",
       "      <td>80.000000</td>\n",
       "      <td>3.000000</td>\n",
       "      <td>512.329200</td>\n",
       "      <td>1.000000</td>\n",
       "      <td>4.000000</td>\n",
       "      <td>890.000000</td>\n",
       "      <td>3.000000</td>\n",
       "      <td>1.000000</td>\n",
       "    </tr>\n",
       "    <tr>\n",
       "      <th rowspan=\"8\" valign=\"top\">2</th>\n",
       "      <th>count</th>\n",
       "      <td>173.000000</td>\n",
       "      <td>184.000000</td>\n",
       "      <td>184.000000</td>\n",
       "      <td>184.000000</td>\n",
       "      <td>184.000000</td>\n",
       "      <td>184.000000</td>\n",
       "      <td>184.000000</td>\n",
       "      <td>184.000000</td>\n",
       "    </tr>\n",
       "    <tr>\n",
       "      <th>mean</th>\n",
       "      <td>29.877630</td>\n",
       "      <td>2.798913</td>\n",
       "      <td>20.662183</td>\n",
       "      <td>0.586957</td>\n",
       "      <td>0.380435</td>\n",
       "      <td>445.956522</td>\n",
       "      <td>0.402174</td>\n",
       "      <td>0.472826</td>\n",
       "    </tr>\n",
       "    <tr>\n",
       "      <th>std</th>\n",
       "      <td>14.001077</td>\n",
       "      <td>0.589340</td>\n",
       "      <td>13.417399</td>\n",
       "      <td>0.493724</td>\n",
       "      <td>0.690963</td>\n",
       "      <td>250.852161</td>\n",
       "      <td>0.601633</td>\n",
       "      <td>0.500623</td>\n",
       "    </tr>\n",
       "    <tr>\n",
       "      <th>min</th>\n",
       "      <td>0.670000</td>\n",
       "      <td>1.000000</td>\n",
       "      <td>0.000000</td>\n",
       "      <td>0.000000</td>\n",
       "      <td>0.000000</td>\n",
       "      <td>10.000000</td>\n",
       "      <td>0.000000</td>\n",
       "      <td>0.000000</td>\n",
       "    </tr>\n",
       "    <tr>\n",
       "      <th>25%</th>\n",
       "      <td>23.000000</td>\n",
       "      <td>3.000000</td>\n",
       "      <td>13.000000</td>\n",
       "      <td>0.000000</td>\n",
       "      <td>0.000000</td>\n",
       "      <td>234.500000</td>\n",
       "      <td>0.000000</td>\n",
       "      <td>0.000000</td>\n",
       "    </tr>\n",
       "    <tr>\n",
       "      <th>50%</th>\n",
       "      <td>29.000000</td>\n",
       "      <td>3.000000</td>\n",
       "      <td>14.250000</td>\n",
       "      <td>1.000000</td>\n",
       "      <td>0.000000</td>\n",
       "      <td>435.500000</td>\n",
       "      <td>0.000000</td>\n",
       "      <td>0.000000</td>\n",
       "    </tr>\n",
       "    <tr>\n",
       "      <th>75%</th>\n",
       "      <td>36.000000</td>\n",
       "      <td>3.000000</td>\n",
       "      <td>26.000000</td>\n",
       "      <td>1.000000</td>\n",
       "      <td>1.000000</td>\n",
       "      <td>668.000000</td>\n",
       "      <td>1.000000</td>\n",
       "      <td>1.000000</td>\n",
       "    </tr>\n",
       "    <tr>\n",
       "      <th>max</th>\n",
       "      <td>70.000000</td>\n",
       "      <td>3.000000</td>\n",
       "      <td>73.500000</td>\n",
       "      <td>1.000000</td>\n",
       "      <td>3.000000</td>\n",
       "      <td>887.000000</td>\n",
       "      <td>3.000000</td>\n",
       "      <td>1.000000</td>\n",
       "    </tr>\n",
       "    <tr>\n",
       "      <th rowspan=\"8\" valign=\"top\">3</th>\n",
       "      <th>count</th>\n",
       "      <td>355.000000</td>\n",
       "      <td>491.000000</td>\n",
       "      <td>491.000000</td>\n",
       "      <td>491.000000</td>\n",
       "      <td>491.000000</td>\n",
       "      <td>491.000000</td>\n",
       "      <td>491.000000</td>\n",
       "      <td>491.000000</td>\n",
       "    </tr>\n",
       "    <tr>\n",
       "      <th>mean</th>\n",
       "      <td>25.140620</td>\n",
       "      <td>2.584521</td>\n",
       "      <td>13.675550</td>\n",
       "      <td>0.706721</td>\n",
       "      <td>0.393075</td>\n",
       "      <td>439.154786</td>\n",
       "      <td>0.615071</td>\n",
       "      <td>0.242363</td>\n",
       "    </tr>\n",
       "    <tr>\n",
       "      <th>std</th>\n",
       "      <td>12.495398</td>\n",
       "      <td>0.716058</td>\n",
       "      <td>11.778142</td>\n",
       "      <td>0.455730</td>\n",
       "      <td>0.888861</td>\n",
       "      <td>264.441453</td>\n",
       "      <td>1.374883</td>\n",
       "      <td>0.428949</td>\n",
       "    </tr>\n",
       "    <tr>\n",
       "      <th>min</th>\n",
       "      <td>0.420000</td>\n",
       "      <td>1.000000</td>\n",
       "      <td>0.000000</td>\n",
       "      <td>0.000000</td>\n",
       "      <td>0.000000</td>\n",
       "      <td>1.000000</td>\n",
       "      <td>0.000000</td>\n",
       "      <td>0.000000</td>\n",
       "    </tr>\n",
       "    <tr>\n",
       "      <th>25%</th>\n",
       "      <td>18.000000</td>\n",
       "      <td>2.000000</td>\n",
       "      <td>7.750000</td>\n",
       "      <td>0.000000</td>\n",
       "      <td>0.000000</td>\n",
       "      <td>200.000000</td>\n",
       "      <td>0.000000</td>\n",
       "      <td>0.000000</td>\n",
       "    </tr>\n",
       "    <tr>\n",
       "      <th>50%</th>\n",
       "      <td>24.000000</td>\n",
       "      <td>3.000000</td>\n",
       "      <td>8.050000</td>\n",
       "      <td>1.000000</td>\n",
       "      <td>0.000000</td>\n",
       "      <td>432.000000</td>\n",
       "      <td>0.000000</td>\n",
       "      <td>0.000000</td>\n",
       "    </tr>\n",
       "    <tr>\n",
       "      <th>75%</th>\n",
       "      <td>32.000000</td>\n",
       "      <td>3.000000</td>\n",
       "      <td>15.500000</td>\n",
       "      <td>1.000000</td>\n",
       "      <td>0.000000</td>\n",
       "      <td>666.500000</td>\n",
       "      <td>1.000000</td>\n",
       "      <td>0.000000</td>\n",
       "    </tr>\n",
       "    <tr>\n",
       "      <th>max</th>\n",
       "      <td>74.000000</td>\n",
       "      <td>3.000000</td>\n",
       "      <td>69.550000</td>\n",
       "      <td>1.000000</td>\n",
       "      <td>6.000000</td>\n",
       "      <td>891.000000</td>\n",
       "      <td>8.000000</td>\n",
       "      <td>1.000000</td>\n",
       "    </tr>\n",
       "  </tbody>\n",
       "</table>\n",
       "</div>"
      ],
      "text/plain": [
       "                     Age    Embarked        Fare      Gender       Parch  \\\n",
       "Pclass                                                                     \n",
       "1      count  186.000000  216.000000  216.000000  216.000000  216.000000   \n",
       "       mean    38.233441    2.175926   84.154687    0.564815    0.356481   \n",
       "       std     14.802856    0.996073   78.380373    0.496933    0.693997   \n",
       "       min      0.920000    0.000000    0.000000    0.000000    0.000000   \n",
       "       25%     27.000000    1.000000   30.923950    0.000000    0.000000   \n",
       "       50%     37.000000    3.000000   60.287500    1.000000    0.000000   \n",
       "       75%     49.000000    3.000000   93.500000    1.000000    0.000000   \n",
       "       max     80.000000    3.000000  512.329200    1.000000    4.000000   \n",
       "2      count  173.000000  184.000000  184.000000  184.000000  184.000000   \n",
       "       mean    29.877630    2.798913   20.662183    0.586957    0.380435   \n",
       "       std     14.001077    0.589340   13.417399    0.493724    0.690963   \n",
       "       min      0.670000    1.000000    0.000000    0.000000    0.000000   \n",
       "       25%     23.000000    3.000000   13.000000    0.000000    0.000000   \n",
       "       50%     29.000000    3.000000   14.250000    1.000000    0.000000   \n",
       "       75%     36.000000    3.000000   26.000000    1.000000    1.000000   \n",
       "       max     70.000000    3.000000   73.500000    1.000000    3.000000   \n",
       "3      count  355.000000  491.000000  491.000000  491.000000  491.000000   \n",
       "       mean    25.140620    2.584521   13.675550    0.706721    0.393075   \n",
       "       std     12.495398    0.716058   11.778142    0.455730    0.888861   \n",
       "       min      0.420000    1.000000    0.000000    0.000000    0.000000   \n",
       "       25%     18.000000    2.000000    7.750000    0.000000    0.000000   \n",
       "       50%     24.000000    3.000000    8.050000    1.000000    0.000000   \n",
       "       75%     32.000000    3.000000   15.500000    1.000000    0.000000   \n",
       "       max     74.000000    3.000000   69.550000    1.000000    6.000000   \n",
       "\n",
       "              PassengerId       SibSp    Survived  \n",
       "Pclass                                             \n",
       "1      count   216.000000  216.000000  216.000000  \n",
       "       mean    461.597222    0.416667    0.629630  \n",
       "       std     246.737616    0.611898    0.484026  \n",
       "       min       2.000000    0.000000    0.000000  \n",
       "       25%     270.750000    0.000000    0.000000  \n",
       "       50%     472.000000    0.000000    1.000000  \n",
       "       75%     670.500000    1.000000    1.000000  \n",
       "       max     890.000000    3.000000    1.000000  \n",
       "2      count   184.000000  184.000000  184.000000  \n",
       "       mean    445.956522    0.402174    0.472826  \n",
       "       std     250.852161    0.601633    0.500623  \n",
       "       min      10.000000    0.000000    0.000000  \n",
       "       25%     234.500000    0.000000    0.000000  \n",
       "       50%     435.500000    0.000000    0.000000  \n",
       "       75%     668.000000    1.000000    1.000000  \n",
       "       max     887.000000    3.000000    1.000000  \n",
       "3      count   491.000000  491.000000  491.000000  \n",
       "       mean    439.154786    0.615071    0.242363  \n",
       "       std     264.441453    1.374883    0.428949  \n",
       "       min       1.000000    0.000000    0.000000  \n",
       "       25%     200.000000    0.000000    0.000000  \n",
       "       50%     432.000000    0.000000    0.000000  \n",
       "       75%     666.500000    1.000000    0.000000  \n",
       "       max     891.000000    8.000000    1.000000  "
      ]
     },
     "execution_count": 12,
     "metadata": {},
     "output_type": "execute_result"
    }
   ],
   "source": [
    "df_by_class = df_train.groupby('Pclass')\n",
    "df_by_class.describe()"
   ]
  },
  {
   "cell_type": "code",
   "execution_count": 13,
   "metadata": {
    "collapsed": false,
    "deletable": true,
    "editable": true
   },
   "outputs": [
    {
     "data": {
      "text/html": [
       "<div>\n",
       "<table border=\"1\" class=\"dataframe\">\n",
       "  <thead>\n",
       "    <tr style=\"text-align: right;\">\n",
       "      <th></th>\n",
       "      <th>Pclass</th>\n",
       "      <th>Age</th>\n",
       "      <th>Survived</th>\n",
       "    </tr>\n",
       "  </thead>\n",
       "  <tbody>\n",
       "    <tr>\n",
       "      <th>count</th>\n",
       "      <td>22.000000</td>\n",
       "      <td>22.000000</td>\n",
       "      <td>22.000000</td>\n",
       "    </tr>\n",
       "    <tr>\n",
       "      <th>mean</th>\n",
       "      <td>1.590909</td>\n",
       "      <td>66.022727</td>\n",
       "      <td>0.227273</td>\n",
       "    </tr>\n",
       "    <tr>\n",
       "      <th>std</th>\n",
       "      <td>0.854071</td>\n",
       "      <td>5.024884</td>\n",
       "      <td>0.428932</td>\n",
       "    </tr>\n",
       "    <tr>\n",
       "      <th>min</th>\n",
       "      <td>1.000000</td>\n",
       "      <td>61.000000</td>\n",
       "      <td>0.000000</td>\n",
       "    </tr>\n",
       "    <tr>\n",
       "      <th>25%</th>\n",
       "      <td>1.000000</td>\n",
       "      <td>62.000000</td>\n",
       "      <td>0.000000</td>\n",
       "    </tr>\n",
       "    <tr>\n",
       "      <th>50%</th>\n",
       "      <td>1.000000</td>\n",
       "      <td>64.500000</td>\n",
       "      <td>0.000000</td>\n",
       "    </tr>\n",
       "    <tr>\n",
       "      <th>75%</th>\n",
       "      <td>2.000000</td>\n",
       "      <td>70.000000</td>\n",
       "      <td>0.000000</td>\n",
       "    </tr>\n",
       "    <tr>\n",
       "      <th>max</th>\n",
       "      <td>3.000000</td>\n",
       "      <td>80.000000</td>\n",
       "      <td>1.000000</td>\n",
       "    </tr>\n",
       "  </tbody>\n",
       "</table>\n",
       "</div>"
      ],
      "text/plain": [
       "          Pclass        Age   Survived\n",
       "count  22.000000  22.000000  22.000000\n",
       "mean    1.590909  66.022727   0.227273\n",
       "std     0.854071   5.024884   0.428932\n",
       "min     1.000000  61.000000   0.000000\n",
       "25%     1.000000  62.000000   0.000000\n",
       "50%     1.000000  64.500000   0.000000\n",
       "75%     2.000000  70.000000   0.000000\n",
       "max     3.000000  80.000000   1.000000"
      ]
     },
     "execution_count": 13,
     "metadata": {},
     "output_type": "execute_result"
    }
   ],
   "source": [
    "df_train[df_train['Age'] > 60][['Sex', 'Pclass', 'Age', 'Survived']].describe()\n",
    "#df_train[df_train['Age'].isnull()][['Sex', 'Pclass', 'Age']]"
   ]
  },
  {
   "cell_type": "code",
   "execution_count": 14,
   "metadata": {
    "collapsed": false,
    "deletable": true,
    "editable": true
   },
   "outputs": [
    {
     "name": "stdout",
     "output_type": "stream",
     "text": [
      "Homens\n",
      "1 122\n",
      "2 108\n",
      "3 347\n",
      "\n",
      "Mulheres\n",
      "1 94\n",
      "2 76\n",
      "3 144\n"
     ]
    }
   ],
   "source": [
    "print('Homens')\n",
    "for i in range(1,4):\n",
    "    print(i, len(df_train[ (df_train['Sex'] == 'male') & (df_train['Pclass'] == i) ]))\n",
    "print()\n",
    "print('Mulheres')\n",
    "for i in range(1,4):\n",
    "    print(i, len(df_train[ (df_train['Sex'] == 'female') & (df_train['Pclass'] == i) ]))"
   ]
  },
  {
   "cell_type": "code",
   "execution_count": 15,
   "metadata": {
    "collapsed": false,
    "deletable": true,
    "editable": true
   },
   "outputs": [
    {
     "data": {
      "text/plain": [
       "<matplotlib.axes._subplots.AxesSubplot at 0x7fb620edf2b0>"
      ]
     },
     "execution_count": 15,
     "metadata": {},
     "output_type": "execute_result"
    },
    {
     "data": {
      "image/png": "[encoded data removed]",
      "text/plain": [
       "<matplotlib.figure.Figure at 0x7fb620ed7be0>"
      ]
     },
     "metadata": {},
     "output_type": "display_data"
    }
   ],
   "source": [
    "#df_train['Age'].hist()\n",
    "df_train['Age'].dropna().hist(bins=16, range=(0,80), alpha = .5, figsize=(10,6))"
   ]
  },
  {
   "cell_type": "markdown",
   "metadata": {
    "deletable": true,
    "editable": true
   },
   "source": [
    "#### Solving the null values for Age"
   ]
  },
  {
   "cell_type": "code",
   "execution_count": 16,
   "metadata": {
    "collapsed": false,
    "deletable": true,
    "editable": true
   },
   "outputs": [
    {
     "name": "stdout",
     "output_type": "stream",
     "text": [
      "177\n",
      "86\n"
     ]
    }
   ],
   "source": [
    "print(len(df_train[df_train['Age'].isnull()]))\n",
    "print(len(df_test[df_test['Age'].isnull()]))"
   ]
  },
  {
   "cell_type": "code",
   "execution_count": 17,
   "metadata": {
    "collapsed": false,
    "deletable": true,
    "editable": true
   },
   "outputs": [],
   "source": [
    "df_train['AgeFill'] = df_train['Age']\n",
    "df_test['AgeFill'] = df_test['Age']"
   ]
  },
  {
   "cell_type": "code",
   "execution_count": 18,
   "metadata": {
    "collapsed": false,
    "deletable": true,
    "editable": true
   },
   "outputs": [
    {
     "data": {
      "text/html": [
       "<div>\n",
       "<table border=\"1\" class=\"dataframe\">\n",
       "  <thead>\n",
       "    <tr style=\"text-align: right;\">\n",
       "      <th></th>\n",
       "      <th>Gender</th>\n",
       "      <th>Pclass</th>\n",
       "      <th>Age</th>\n",
       "      <th>AgeFill</th>\n",
       "    </tr>\n",
       "  </thead>\n",
       "  <tbody>\n",
       "    <tr>\n",
       "      <th>5</th>\n",
       "      <td>1</td>\n",
       "      <td>3</td>\n",
       "      <td>NaN</td>\n",
       "      <td>NaN</td>\n",
       "    </tr>\n",
       "    <tr>\n",
       "      <th>17</th>\n",
       "      <td>1</td>\n",
       "      <td>2</td>\n",
       "      <td>NaN</td>\n",
       "      <td>NaN</td>\n",
       "    </tr>\n",
       "    <tr>\n",
       "      <th>19</th>\n",
       "      <td>0</td>\n",
       "      <td>3</td>\n",
       "      <td>NaN</td>\n",
       "      <td>NaN</td>\n",
       "    </tr>\n",
       "    <tr>\n",
       "      <th>26</th>\n",
       "      <td>1</td>\n",
       "      <td>3</td>\n",
       "      <td>NaN</td>\n",
       "      <td>NaN</td>\n",
       "    </tr>\n",
       "  </tbody>\n",
       "</table>\n",
       "</div>"
      ],
      "text/plain": [
       "    Gender  Pclass  Age  AgeFill\n",
       "5        1       3  NaN      NaN\n",
       "17       1       2  NaN      NaN\n",
       "19       0       3  NaN      NaN\n",
       "26       1       3  NaN      NaN"
      ]
     },
     "execution_count": 18,
     "metadata": {},
     "output_type": "execute_result"
    }
   ],
   "source": [
    "df_train[df_train['Age'].isnull()][['Gender','Pclass','Age','AgeFill']].head(4)"
   ]
  },
  {
   "cell_type": "code",
   "execution_count": 19,
   "metadata": {
    "collapsed": false,
    "deletable": true,
    "editable": true
   },
   "outputs": [
    {
     "data": {
      "text/plain": [
       "array([[ 35. ,  28. ,  21.5],\n",
       "       [ 40. ,  30. ,  25. ]])"
      ]
     },
     "execution_count": 19,
     "metadata": {},
     "output_type": "execute_result"
    }
   ],
   "source": [
    "median_ages = np.zeros((2,3))\n",
    "for i in range(0, 2):\n",
    "    for j in range(0, 3):\n",
    "        median_ages[i,j] = df_train[(df_train['Gender'] == i) & (df_train['Pclass'] == j+1)]['Age'].dropna().median()\n",
    "\n",
    "median_ages"
   ]
  },
  {
   "cell_type": "code",
   "execution_count": 20,
   "metadata": {
    "collapsed": false,
    "deletable": true,
    "editable": true
   },
   "outputs": [],
   "source": [
    "for i in range(0, 2):\n",
    "    for j in range(0, 3):\n",
    "        df_train.loc[(df_train.Age.isnull()) & (df_train.Gender == i) & (df_train.Pclass == j+1),'AgeFill'] = median_ages[i,j]\n",
    "        df_test.loc[(df_test.Age.isnull()) & (df_test.Gender == i) & (df_test.Pclass == j+1),'AgeFill'] = median_ages[i,j]"
   ]
  },
  {
   "cell_type": "code",
   "execution_count": 21,
   "metadata": {
    "collapsed": false,
    "deletable": true,
    "editable": true
   },
   "outputs": [
    {
     "name": "stdout",
     "output_type": "stream",
     "text": [
      "<class 'pandas.core.frame.DataFrame'>\n",
      "RangeIndex: 891 entries, 0 to 890\n",
      "Data columns (total 14 columns):\n",
      "PassengerId    891 non-null int64\n",
      "Survived       891 non-null int64\n",
      "Pclass         891 non-null int64\n",
      "Name           891 non-null object\n",
      "Sex            891 non-null object\n",
      "Age            714 non-null float64\n",
      "SibSp          891 non-null int64\n",
      "Parch          891 non-null int64\n",
      "Ticket         891 non-null object\n",
      "Fare           891 non-null float64\n",
      "Cabin          204 non-null object\n",
      "Embarked       891 non-null int64\n",
      "Gender         891 non-null int64\n",
      "AgeFill        891 non-null float64\n",
      "dtypes: float64(3), int64(7), object(4)\n",
      "memory usage: 97.5+ KB\n"
     ]
    }
   ],
   "source": [
    "df_train.info()"
   ]
  },
  {
   "cell_type": "code",
   "execution_count": 22,
   "metadata": {
    "collapsed": false,
    "deletable": true,
    "editable": true
   },
   "outputs": [
    {
     "data": {
      "text/plain": [
       "PassengerId      int64\n",
       "Survived         int64\n",
       "Pclass           int64\n",
       "Name            object\n",
       "Sex             object\n",
       "Age            float64\n",
       "SibSp            int64\n",
       "Parch            int64\n",
       "Ticket          object\n",
       "Fare           float64\n",
       "Cabin           object\n",
       "Embarked         int64\n",
       "Gender           int64\n",
       "AgeFill        float64\n",
       "dtype: object"
      ]
     },
     "execution_count": 22,
     "metadata": {},
     "output_type": "execute_result"
    }
   ],
   "source": [
    "df_train.dtypes"
   ]
  },
  {
   "cell_type": "code",
   "execution_count": 23,
   "metadata": {
    "collapsed": false,
    "deletable": true,
    "editable": true
   },
   "outputs": [
    {
     "data": {
      "text/plain": [
       "PassengerId    int64\n",
       "Survived       int64\n",
       "Pclass         int64\n",
       "SibSp          int64\n",
       "Parch          int64\n",
       "Embarked       int64\n",
       "Gender         int64\n",
       "dtype: object"
      ]
     },
     "execution_count": 23,
     "metadata": {},
     "output_type": "execute_result"
    }
   ],
   "source": [
    "df_train.dtypes[df_train.dtypes.map(lambda x: x=='int64')]"
   ]
  },
  {
   "cell_type": "code",
   "execution_count": 24,
   "metadata": {
    "collapsed": false,
    "deletable": true,
    "editable": true
   },
   "outputs": [
    {
     "data": {
      "text/plain": [
       "Age        float64\n",
       "Fare       float64\n",
       "AgeFill    float64\n",
       "dtype: object"
      ]
     },
     "execution_count": 24,
     "metadata": {},
     "output_type": "execute_result"
    }
   ],
   "source": [
    "df_train.dtypes[df_train.dtypes.map(lambda x: x=='float64')]"
   ]
  },
  {
   "cell_type": "code",
   "execution_count": 25,
   "metadata": {
    "collapsed": false,
    "deletable": true,
    "editable": true
   },
   "outputs": [
    {
     "data": {
      "text/plain": [
       "Name      object\n",
       "Sex       object\n",
       "Ticket    object\n",
       "Cabin     object\n",
       "dtype: object"
      ]
     },
     "execution_count": 25,
     "metadata": {},
     "output_type": "execute_result"
    }
   ],
   "source": [
    "df_train.dtypes[df_train.dtypes.map(lambda x: x=='object')]"
   ]
  },
  {
   "cell_type": "markdown",
   "metadata": {
    "deletable": true,
    "editable": true
   },
   "source": [
    "#### Some feature engineering"
   ]
  },
  {
   "cell_type": "code",
   "execution_count": 26,
   "metadata": {
    "collapsed": false,
    "deletable": true,
    "editable": true
   },
   "outputs": [],
   "source": [
    "df_train['FamilySize'] = df_train['SibSp'] + df_train['Parch']\n",
    "df_train['Age*Class'] = df_train.AgeFill * df_train.Pclass\n",
    "\n",
    "df_test['FamilySize'] = df_test['SibSp'] + df_test['Parch']\n",
    "df_test['Age*Class'] = df_test.AgeFill * df_test.Pclass"
   ]
  },
  {
   "cell_type": "code",
   "execution_count": 27,
   "metadata": {
    "collapsed": false,
    "deletable": true,
    "editable": true
   },
   "outputs": [],
   "source": [
    "df_train2 = df_train.drop(['Age','Name', 'Sex', 'Ticket', 'Cabin', 'Embarked'], axis=1)\n",
    "df_train2 = df_train2.dropna()\n",
    "\n",
    "df_test2 = df_test.drop(['Age','Name', 'Sex', 'Ticket', 'Cabin', 'Embarked'], axis=1)\n",
    "df_test2 = df_test2.dropna()"
   ]
  },
  {
   "cell_type": "code",
   "execution_count": 28,
   "metadata": {
    "collapsed": false,
    "deletable": true,
    "editable": true
   },
   "outputs": [
    {
     "data": {
      "text/html": [
       "<div>\n",
       "<table border=\"1\" class=\"dataframe\">\n",
       "  <thead>\n",
       "    <tr style=\"text-align: right;\">\n",
       "      <th></th>\n",
       "      <th>PassengerId</th>\n",
       "      <th>Survived</th>\n",
       "      <th>Pclass</th>\n",
       "      <th>SibSp</th>\n",
       "      <th>Parch</th>\n",
       "      <th>Fare</th>\n",
       "      <th>Gender</th>\n",
       "      <th>AgeFill</th>\n",
       "      <th>FamilySize</th>\n",
       "      <th>Age*Class</th>\n",
       "    </tr>\n",
       "  </thead>\n",
       "  <tbody>\n",
       "    <tr>\n",
       "      <th>0</th>\n",
       "      <td>1</td>\n",
       "      <td>0</td>\n",
       "      <td>3</td>\n",
       "      <td>1</td>\n",
       "      <td>0</td>\n",
       "      <td>7.2500</td>\n",
       "      <td>1</td>\n",
       "      <td>22.0</td>\n",
       "      <td>1</td>\n",
       "      <td>66.0</td>\n",
       "    </tr>\n",
       "    <tr>\n",
       "      <th>1</th>\n",
       "      <td>2</td>\n",
       "      <td>1</td>\n",
       "      <td>1</td>\n",
       "      <td>1</td>\n",
       "      <td>0</td>\n",
       "      <td>71.2833</td>\n",
       "      <td>0</td>\n",
       "      <td>38.0</td>\n",
       "      <td>1</td>\n",
       "      <td>38.0</td>\n",
       "    </tr>\n",
       "    <tr>\n",
       "      <th>2</th>\n",
       "      <td>3</td>\n",
       "      <td>1</td>\n",
       "      <td>3</td>\n",
       "      <td>0</td>\n",
       "      <td>0</td>\n",
       "      <td>7.9250</td>\n",
       "      <td>0</td>\n",
       "      <td>26.0</td>\n",
       "      <td>0</td>\n",
       "      <td>78.0</td>\n",
       "    </tr>\n",
       "    <tr>\n",
       "      <th>3</th>\n",
       "      <td>4</td>\n",
       "      <td>1</td>\n",
       "      <td>1</td>\n",
       "      <td>1</td>\n",
       "      <td>0</td>\n",
       "      <td>53.1000</td>\n",
       "      <td>0</td>\n",
       "      <td>35.0</td>\n",
       "      <td>1</td>\n",
       "      <td>35.0</td>\n",
       "    </tr>\n",
       "    <tr>\n",
       "      <th>4</th>\n",
       "      <td>5</td>\n",
       "      <td>0</td>\n",
       "      <td>3</td>\n",
       "      <td>0</td>\n",
       "      <td>0</td>\n",
       "      <td>8.0500</td>\n",
       "      <td>1</td>\n",
       "      <td>35.0</td>\n",
       "      <td>0</td>\n",
       "      <td>105.0</td>\n",
       "    </tr>\n",
       "  </tbody>\n",
       "</table>\n",
       "</div>"
      ],
      "text/plain": [
       "   PassengerId  Survived  Pclass  SibSp  Parch     Fare  Gender  AgeFill  \\\n",
       "0            1         0       3      1      0   7.2500       1     22.0   \n",
       "1            2         1       1      1      0  71.2833       0     38.0   \n",
       "2            3         1       3      0      0   7.9250       0     26.0   \n",
       "3            4         1       1      1      0  53.1000       0     35.0   \n",
       "4            5         0       3      0      0   8.0500       1     35.0   \n",
       "\n",
       "   FamilySize  Age*Class  \n",
       "0           1       66.0  \n",
       "1           1       38.0  \n",
       "2           0       78.0  \n",
       "3           1       35.0  \n",
       "4           0      105.0  "
      ]
     },
     "execution_count": 28,
     "metadata": {},
     "output_type": "execute_result"
    }
   ],
   "source": [
    "df_train2.head()"
   ]
  },
  {
   "cell_type": "code",
   "execution_count": 29,
   "metadata": {
    "collapsed": false,
    "deletable": true,
    "editable": true
   },
   "outputs": [
    {
     "data": {
      "text/html": [
       "<div>\n",
       "<table border=\"1\" class=\"dataframe\">\n",
       "  <thead>\n",
       "    <tr style=\"text-align: right;\">\n",
       "      <th></th>\n",
       "      <th>PassengerId</th>\n",
       "      <th>Pclass</th>\n",
       "      <th>SibSp</th>\n",
       "      <th>Parch</th>\n",
       "      <th>Fare</th>\n",
       "      <th>Gender</th>\n",
       "      <th>AgeFill</th>\n",
       "      <th>FamilySize</th>\n",
       "      <th>Age*Class</th>\n",
       "    </tr>\n",
       "  </thead>\n",
       "  <tbody>\n",
       "    <tr>\n",
       "      <th>0</th>\n",
       "      <td>892</td>\n",
       "      <td>3</td>\n",
       "      <td>0</td>\n",
       "      <td>0</td>\n",
       "      <td>7.8292</td>\n",
       "      <td>1</td>\n",
       "      <td>34.5</td>\n",
       "      <td>0</td>\n",
       "      <td>103.5</td>\n",
       "    </tr>\n",
       "    <tr>\n",
       "      <th>1</th>\n",
       "      <td>893</td>\n",
       "      <td>3</td>\n",
       "      <td>1</td>\n",
       "      <td>0</td>\n",
       "      <td>7.0000</td>\n",
       "      <td>0</td>\n",
       "      <td>47.0</td>\n",
       "      <td>1</td>\n",
       "      <td>141.0</td>\n",
       "    </tr>\n",
       "    <tr>\n",
       "      <th>2</th>\n",
       "      <td>894</td>\n",
       "      <td>2</td>\n",
       "      <td>0</td>\n",
       "      <td>0</td>\n",
       "      <td>9.6875</td>\n",
       "      <td>1</td>\n",
       "      <td>62.0</td>\n",
       "      <td>0</td>\n",
       "      <td>124.0</td>\n",
       "    </tr>\n",
       "    <tr>\n",
       "      <th>3</th>\n",
       "      <td>895</td>\n",
       "      <td>3</td>\n",
       "      <td>0</td>\n",
       "      <td>0</td>\n",
       "      <td>8.6625</td>\n",
       "      <td>1</td>\n",
       "      <td>27.0</td>\n",
       "      <td>0</td>\n",
       "      <td>81.0</td>\n",
       "    </tr>\n",
       "    <tr>\n",
       "      <th>4</th>\n",
       "      <td>896</td>\n",
       "      <td>3</td>\n",
       "      <td>1</td>\n",
       "      <td>1</td>\n",
       "      <td>12.2875</td>\n",
       "      <td>0</td>\n",
       "      <td>22.0</td>\n",
       "      <td>2</td>\n",
       "      <td>66.0</td>\n",
       "    </tr>\n",
       "  </tbody>\n",
       "</table>\n",
       "</div>"
      ],
      "text/plain": [
       "   PassengerId  Pclass  SibSp  Parch     Fare  Gender  AgeFill  FamilySize  \\\n",
       "0          892       3      0      0   7.8292       1     34.5           0   \n",
       "1          893       3      1      0   7.0000       0     47.0           1   \n",
       "2          894       2      0      0   9.6875       1     62.0           0   \n",
       "3          895       3      0      0   8.6625       1     27.0           0   \n",
       "4          896       3      1      1  12.2875       0     22.0           2   \n",
       "\n",
       "   Age*Class  \n",
       "0      103.5  \n",
       "1      141.0  \n",
       "2      124.0  \n",
       "3       81.0  \n",
       "4       66.0  "
      ]
     },
     "execution_count": 29,
     "metadata": {},
     "output_type": "execute_result"
    }
   ],
   "source": [
    "df_test2.head()"
   ]
  },
  {
   "cell_type": "code",
   "execution_count": 30,
   "metadata": {
    "collapsed": false,
    "deletable": true,
    "editable": true
   },
   "outputs": [
    {
     "name": "stdout",
     "output_type": "stream",
     "text": [
      "<class 'pandas.core.frame.DataFrame'>\n",
      "Int64Index: 417 entries, 0 to 417\n",
      "Data columns (total 9 columns):\n",
      "PassengerId    417 non-null int64\n",
      "Pclass         417 non-null int64\n",
      "SibSp          417 non-null int64\n",
      "Parch          417 non-null int64\n",
      "Fare           417 non-null float64\n",
      "Gender         417 non-null int64\n",
      "AgeFill        417 non-null float64\n",
      "FamilySize     417 non-null int64\n",
      "Age*Class      417 non-null float64\n",
      "dtypes: float64(3), int64(6)\n",
      "memory usage: 32.6 KB\n"
     ]
    }
   ],
   "source": [
    "df_test2.info()"
   ]
  },
  {
   "cell_type": "markdown",
   "metadata": {
    "deletable": true,
    "editable": true
   },
   "source": [
    "#### Runnng correlation hypothesis:"
   ]
  },
  {
   "cell_type": "code",
   "execution_count": 31,
   "metadata": {
    "collapsed": false,
    "deletable": true,
    "editable": true
   },
   "outputs": [
    {
     "name": "stdout",
     "output_type": "stream",
     "text": [
      "Optimization terminated successfully.\n",
      "         Current function value: 0.558118\n",
      "         Iterations 5\n",
      "                           Logit Regression Results                           \n",
      "==============================================================================\n",
      "Dep. Variable:               Survived   No. Observations:                  891\n",
      "Model:                          Logit   Df Residuals:                      890\n",
      "Method:                           MLE   Df Model:                            0\n",
      "Date:                Mon, 27 Mar 2017   Pseudo R-squ.:                  0.1619\n",
      "Time:                        22:28:59   Log-Likelihood:                -497.28\n",
      "converged:                       True   LL-Null:                       -593.33\n",
      "                                        LLR p-value:                       nan\n",
      "==============================================================================\n",
      "                 coef    std err          z      P>|z|      [0.025      0.975]\n",
      "------------------------------------------------------------------------------\n",
      "Gender        -1.4571      0.106    -13.701      0.000      -1.666      -1.249\n",
      "==============================================================================\n"
     ]
    }
   ],
   "source": [
    "y = df_train2.Survived\n",
    "X = df_train2.Gender\n",
    "model = sm.Logit(y, X)\n",
    "results = model.fit()\n",
    "print(results.summary())"
   ]
  },
  {
   "cell_type": "code",
   "execution_count": 32,
   "metadata": {
    "collapsed": false,
    "deletable": true,
    "editable": true
   },
   "outputs": [
    {
     "name": "stdout",
     "output_type": "stream",
     "text": [
      "Optimization terminated successfully.\n",
      "         Current function value: 0.529672\n",
      "         Iterations 6\n",
      "                           Logit Regression Results                           \n",
      "==============================================================================\n",
      "Dep. Variable:               Survived   No. Observations:                  891\n",
      "Model:                          Logit   Df Residuals:                      888\n",
      "Method:                           MLE   Df Model:                            2\n",
      "Date:                Mon, 27 Mar 2017   Pseudo R-squ.:                  0.2046\n",
      "Time:                        22:28:59   Log-Likelihood:                -471.94\n",
      "converged:                       True   LL-Null:                       -593.33\n",
      "                                        LLR p-value:                 1.910e-53\n",
      "==============================================================================\n",
      "                 coef    std err          z      P>|z|      [0.025      0.975]\n",
      "------------------------------------------------------------------------------\n",
      "Gender        -2.1764      0.170    -12.829      0.000      -2.509      -1.844\n",
      "Pclass        -0.0671      0.056     -1.190      0.234      -0.178       0.043\n",
      "AgeFill        0.0276      0.004      6.248      0.000       0.019       0.036\n",
      "==============================================================================\n"
     ]
    }
   ],
   "source": [
    "y = df_train2.Survived\n",
    "X = df_train2[['Gender','Pclass','AgeFill']]\n",
    "model = sm.Logit(y, X)\n",
    "results = model.fit()\n",
    "print(results.summary())"
   ]
  },
  {
   "cell_type": "markdown",
   "metadata": {
    "deletable": true,
    "editable": true
   },
   "source": [
    "#### Preparing Data for predictions"
   ]
  },
  {
   "cell_type": "code",
   "execution_count": 33,
   "metadata": {
    "collapsed": false,
    "deletable": true,
    "editable": true
   },
   "outputs": [
    {
     "name": "stdout",
     "output_type": "stream",
     "text": [
      "(891, 10)\n"
     ]
    },
    {
     "data": {
      "text/plain": [
       "array([[   1. ,    0. ,    3. , ...,   22. ,    1. ,   66. ],\n",
       "       [   2. ,    1. ,    1. , ...,   38. ,    1. ,   38. ],\n",
       "       [   3. ,    1. ,    3. , ...,   26. ,    0. ,   78. ],\n",
       "       ..., \n",
       "       [ 889. ,    0. ,    3. , ...,   21.5,    3. ,   64.5],\n",
       "       [ 890. ,    1. ,    1. , ...,   26. ,    0. ,   26. ],\n",
       "       [ 891. ,    0. ,    3. , ...,   32. ,    0. ,   96. ]])"
      ]
     },
     "execution_count": 33,
     "metadata": {},
     "output_type": "execute_result"
    }
   ],
   "source": [
    "train_data = df_train2.values\n",
    "print(train_data.shape)\n",
    "train_data"
   ]
  },
  {
   "cell_type": "code",
   "execution_count": 34,
   "metadata": {
    "collapsed": false,
    "deletable": true,
    "editable": true
   },
   "outputs": [
    {
     "name": "stdout",
     "output_type": "stream",
     "text": [
      "(417, 9)\n"
     ]
    },
    {
     "data": {
      "text/plain": [
       "array([[  8.92000000e+02,   3.00000000e+00,   0.00000000e+00, ...,\n",
       "          3.45000000e+01,   0.00000000e+00,   1.03500000e+02],\n",
       "       [  8.93000000e+02,   3.00000000e+00,   1.00000000e+00, ...,\n",
       "          4.70000000e+01,   1.00000000e+00,   1.41000000e+02],\n",
       "       [  8.94000000e+02,   2.00000000e+00,   0.00000000e+00, ...,\n",
       "          6.20000000e+01,   0.00000000e+00,   1.24000000e+02],\n",
       "       ..., \n",
       "       [  1.30700000e+03,   3.00000000e+00,   0.00000000e+00, ...,\n",
       "          3.85000000e+01,   0.00000000e+00,   1.15500000e+02],\n",
       "       [  1.30800000e+03,   3.00000000e+00,   0.00000000e+00, ...,\n",
       "          2.50000000e+01,   0.00000000e+00,   7.50000000e+01],\n",
       "       [  1.30900000e+03,   3.00000000e+00,   1.00000000e+00, ...,\n",
       "          2.50000000e+01,   2.00000000e+00,   7.50000000e+01]])"
      ]
     },
     "execution_count": 34,
     "metadata": {},
     "output_type": "execute_result"
    }
   ],
   "source": [
    "test_data = df_test2.values\n",
    "print(test_data.shape)\n",
    "test_data"
   ]
  },
  {
   "cell_type": "markdown",
   "metadata": {
    "deletable": true,
    "editable": true
   },
   "source": [
    "#### Adjusting features scales:   \n",
    "http://scikit-learn.org/stable/modules/generated/sklearn.preprocessing.StandardScaler.html  "
   ]
  },
  {
   "cell_type": "code",
   "execution_count": 35,
   "metadata": {
    "collapsed": false,
    "deletable": true,
    "editable": true
   },
   "outputs": [],
   "source": [
    "from sklearn.preprocessing import StandardScaler\n",
    "\n",
    "scaler = StandardScaler()\n",
    "X_train = scaler.fit_transform(train_data[0::,2::])\n",
    "X_test = scaler.fit_transform(test_data[0::,1::])\n",
    "\n",
    "y_train = train_data[0::,1]"
   ]
  },
  {
   "cell_type": "code",
   "execution_count": 36,
   "metadata": {
    "collapsed": false,
    "deletable": true,
    "editable": true
   },
   "outputs": [
    {
     "data": {
      "text/plain": [
       "array([ 0.82737724,  0.43279337, -0.47367361, -0.50244517,  0.73769513,\n",
       "       -0.53489116,  0.05915988,  0.10799818])"
      ]
     },
     "execution_count": 36,
     "metadata": {},
     "output_type": "execute_result"
    }
   ],
   "source": [
    "X_train[0]"
   ]
  },
  {
   "cell_type": "code",
   "execution_count": 37,
   "metadata": {
    "collapsed": false,
    "deletable": true,
    "editable": true
   },
   "outputs": [
    {
     "data": {
      "text/plain": [
       "array([ 0.87532977, -0.50021819, -0.40080432, -0.49781052,  0.75735388,\n",
       "        0.4054536 , -0.55430942,  1.65753892])"
      ]
     },
     "execution_count": 37,
     "metadata": {},
     "output_type": "execute_result"
    }
   ],
   "source": [
    "X_test[0]"
   ]
  },
  {
   "cell_type": "markdown",
   "metadata": {
    "deletable": true,
    "editable": true
   },
   "source": [
    "http://stats.stackexchange.com/questions/95797/how-to-split-the-dataset-for-cross-validation-learning-curve-and-final-evaluat  \n",
    "http://scikit-learn.org/stable/modules/cross_validation.html  "
   ]
  },
  {
   "cell_type": "markdown",
   "metadata": {
    "deletable": true,
    "editable": true
   },
   "source": [
    "#### Importing modules for cross validation and evaluation of the models"
   ]
  },
  {
   "cell_type": "code",
   "execution_count": 38,
   "metadata": {
    "collapsed": false,
    "deletable": true,
    "editable": true
   },
   "outputs": [],
   "source": [
    "from sklearn import model_selection\n",
    "\n",
    "from sklearn.metrics import confusion_matrix\n",
    "from sklearn.metrics import classification_report\n",
    "from sklearn.metrics import confusion_matrix\n",
    "from sklearn.metrics import roc_auc_score\n",
    "from sklearn.metrics import roc_curve\n",
    "from sklearn.metrics import accuracy_score\n",
    "from sklearn.metrics import average_precision_score\n",
    "from sklearn.metrics import f1_score"
   ]
  },
  {
   "cell_type": "markdown",
   "metadata": {
    "deletable": true,
    "editable": true
   },
   "source": [
    "#### Creating functions to help evaluate the models"
   ]
  },
  {
   "cell_type": "code",
   "execution_count": 39,
   "metadata": {
    "collapsed": true,
    "deletable": true,
    "editable": true
   },
   "outputs": [],
   "source": [
    "def plot_confusion_matrix(cm, classes,\n",
    "                          normalize=False,\n",
    "                          title='Confusion matrix',\n",
    "                          cmap=plt.cm.Blues):\n",
    "    \"\"\"\n",
    "    This function prints and plots the confusion matrix.\n",
    "    Normalization can be applied by setting `normalize=True`.\n",
    "    \"\"\"\n",
    "    plt.imshow(cm, interpolation='nearest', cmap=cmap)\n",
    "    plt.title(title)\n",
    "    plt.colorbar()\n",
    "    tick_marks = np.arange(len(classes))\n",
    "    plt.xticks(tick_marks, classes, rotation=45)\n",
    "    plt.yticks(tick_marks, classes)\n",
    "\n",
    "    if normalize:\n",
    "        cm = cm.astype('float') / cm.sum(axis=1)[:, np.newaxis]\n",
    "        print(\"Normalized confusion matrix\")\n",
    "    else:\n",
    "        print('Confusion matrix, without normalization')\n",
    "\n",
    "    print(cm)\n",
    "\n",
    "    thresh = cm.max() / 2.\n",
    "    for i, j in itertools.product(range(cm.shape[0]), range(cm.shape[1])):\n",
    "        plt.text(j, i, cm[i, j],\n",
    "                 horizontalalignment=\"center\",\n",
    "                 color=\"white\" if cm[i, j] > thresh else \"black\")\n",
    "\n",
    "    plt.tight_layout()\n",
    "    plt.ylabel('True label')\n",
    "    plt.xlabel('Predicted label')\n",
    "    \n",
    "def clf_eval(clf, X, y_true, classes=['Não Sobreviveu', 'Sobreviveu']):\n",
    "    y_pred = clf.predict(X)\n",
    "    clf_matrix = confusion_matrix(y_true, y_pred)\n",
    "    print('Classification Report')\n",
    "    print(classification_report(y_true, y_pred, target_names=classes))\n",
    "    print('ROC Score: {}'.format(roc_auc_score(y_true, y_pred)))\n",
    "    print('Accuracy Score: {}'.format(accuracy_score(y_true, y_pred)))\n",
    "    print('Average Precision Score: {}'.format(average_precision_score(y_true, y_pred)))\n",
    "    print('f1 Score: {}'.format(f1_score(y_true, y_pred)))\n",
    "    plot_confusion_matrix(clf_matrix, classes=classes)\n",
    "    return roc_auc_score(y_true, y_pred)"
   ]
  },
  {
   "cell_type": "markdown",
   "metadata": {
    "deletable": true,
    "editable": true
   },
   "source": [
    "#### Creating cross-validation with subsets (60% train / 40% test):  \n",
    "\n",
    "http://scikit-learn.org/stable/modules/cross_validation.html  \n",
    "http://www.analyticsvidhya.com/blog/2015/05/k-fold-cross-validation-simple/  \n",
    "http://scikit-learn.org/stable/modules/generated/sklearn.cross_validation.cross_val_score.html  \n",
    "http://stackoverflow.com/questions/25375203/identical-learning-curves-on-subsequent-runs-using-shufflesplit  \n",
    "http://stackoverflow.com/questions/28064634/random-state-pseudo-random-numberin-scikit-learn  "
   ]
  },
  {
   "cell_type": "code",
   "execution_count": 40,
   "metadata": {
    "collapsed": false,
    "deletable": true,
    "editable": true
   },
   "outputs": [],
   "source": [
    "X_traincv, X_testcv, y_traincv, y_testcv = model_selection.train_test_split(X_train,\n",
    "                                                                            y_train,\n",
    "                                                                            test_size=0.4,\n",
    "                                                                            random_state=0)"
   ]
  },
  {
   "cell_type": "markdown",
   "metadata": {
    "deletable": true,
    "editable": true
   },
   "source": [
    "#### Check if classes are balanced"
   ]
  },
  {
   "cell_type": "code",
   "execution_count": 41,
   "metadata": {
    "collapsed": false,
    "deletable": true,
    "editable": true
   },
   "outputs": [
    {
     "name": "stdout",
     "output_type": "stream",
     "text": [
      "328\n",
      "206\n"
     ]
    }
   ],
   "source": [
    "print(len(y_traincv[y_traincv == 0]))\n",
    "print(len(y_traincv[y_traincv == 1]))"
   ]
  },
  {
   "cell_type": "markdown",
   "metadata": {
    "deletable": true,
    "editable": true
   },
   "source": [
    "#### Oversampling the minority class  \n",
    "http://contrib.scikit-learn.org/imbalanced-learn/  "
   ]
  },
  {
   "cell_type": "code",
   "execution_count": 42,
   "metadata": {
    "collapsed": true,
    "deletable": true,
    "editable": true
   },
   "outputs": [],
   "source": [
    "from imblearn.over_sampling import SMOTE\n",
    "\n",
    "smote = SMOTE(kind='regular')\n",
    "X_traincv_res, y_traincv_res = smote.fit_sample(X_traincv, y_traincv)"
   ]
  },
  {
   "cell_type": "code",
   "execution_count": 43,
   "metadata": {
    "collapsed": false,
    "deletable": true,
    "editable": true
   },
   "outputs": [
    {
     "name": "stdout",
     "output_type": "stream",
     "text": [
      "328\n",
      "328\n"
     ]
    }
   ],
   "source": [
    "print(len(y_traincv_res[y_traincv_res == 0]))\n",
    "print(len(y_traincv_res[y_traincv_res == 1]))"
   ]
  },
  {
   "cell_type": "markdown",
   "metadata": {
    "deletable": true,
    "editable": true
   },
   "source": [
    "#### Creating another train/test set using k-fold or other cross-validation method:  "
   ]
  },
  {
   "cell_type": "code",
   "execution_count": 44,
   "metadata": {
    "collapsed": false,
    "deletable": true,
    "editable": true
   },
   "outputs": [],
   "source": [
    "cv = model_selection.StratifiedKFold(n_splits=10)\n",
    "\n",
    "def mean_scores_cv(clf, cv, X, y):\n",
    "    scores = model_selection.cross_val_score(clf, X, y, \n",
    "                                              scoring=None, \n",
    "                                              cv=cv, \n",
    "                                              n_jobs=1,\n",
    "                                              verbose=0,\n",
    "                                              fit_params=None,\n",
    "                                              pre_dispatch='2*n_jobs')\n",
    "    return scores.mean()"
   ]
  },
  {
   "cell_type": "markdown",
   "metadata": {
    "deletable": true,
    "editable": true
   },
   "source": [
    "#### Choosing the best parameters using GridSearchCV and RandomizedSearchCV  \n",
    "http://scikit-learn.org/stable/modules/grid_search.html  "
   ]
  },
  {
   "cell_type": "code",
   "execution_count": 45,
   "metadata": {
    "collapsed": false,
    "deletable": true,
    "editable": true
   },
   "outputs": [
    {
     "name": "stdout",
     "output_type": "stream",
     "text": [
      "0.793490460157\n",
      "poly\n",
      "0.311111111111\n",
      "4\n",
      "0.278255940221\n"
     ]
    }
   ],
   "source": [
    "#http://scikit-learn.org/stable/modules/generated/sklearn.svm.SVC.html\n",
    "from sklearn import svm\n",
    "\n",
    "\n",
    "estimator = svm.SVC()\n",
    "cv = model_selection.StratifiedKFold(n_splits=10)\n",
    "\n",
    "kernels = ['linear', 'poly']\n",
    "Cs = np.linspace(0.1,2,10)\n",
    "degrees = [2,3,4]\n",
    "gammas = np.logspace(-5, 0, 10)\n",
    "\n",
    "param_grid=dict(kernel=kernels, C=Cs, gamma=gammas, degree=degrees)\n",
    "\n",
    "clf_svc = model_selection.RandomizedSearchCV(estimator=estimator,\n",
    "                                             cv=cv,\n",
    "                                             param_distributions=param_grid, \n",
    "                                             n_jobs=-1).fit(X_train, y_train)\n",
    "\n",
    "with open(os.path.join(outputs,'best_parameters_svm.pickle'), 'wb') as f:\n",
    "    pickle.dump(clf_svc,f)\n",
    "\n",
    "with open(os.path.join(outputs,'best_parameters_svm.pickle'), 'rb') as f:\n",
    "    clf_svc = pickle.load(f)\n",
    "\n",
    "print(clf_svc.best_score_)\n",
    "print(clf_svc.best_estimator_.kernel)\n",
    "print(clf_svc.best_estimator_.C)\n",
    "print(clf_svc.best_estimator_.degree)\n",
    "print(clf_svc.best_estimator_.gamma)"
   ]
  },
  {
   "cell_type": "markdown",
   "metadata": {
    "deletable": true,
    "editable": true
   },
   "source": [
    "#### Testing some classifiers:  \n",
    "Note that only the first classifier (svm) had its parameters optimized  "
   ]
  },
  {
   "cell_type": "code",
   "execution_count": 46,
   "metadata": {
    "collapsed": false,
    "deletable": true,
    "editable": true
   },
   "outputs": [
    {
     "name": "stdout",
     "output_type": "stream",
     "text": [
      "Classification Report\n",
      "                precision    recall  f1-score   support\n",
      "\n",
      "Não Sobreviveu       0.77      0.88      0.82       221\n",
      "    Sobreviveu       0.75      0.58      0.65       136\n",
      "\n",
      "   avg / total       0.76      0.76      0.76       357\n",
      "\n",
      "ROC Score: 0.7293552036199096\n",
      "Accuracy Score: 0.7647058823529411\n",
      "Average Precision Score: 0.7429146186776597\n",
      "f1 Score: 0.6528925619834711\n",
      "Confusion matrix, without normalization\n",
      "[[194  27]\n",
      " [ 57  79]]\n"
     ]
    },
    {
     "data": {
      "image/png": "[encoded data removed]",
      "text/plain": [
       "<matplotlib.figure.Figure at 0x7fb61a5e0588>"
      ]
     },
     "metadata": {},
     "output_type": "display_data"
    }
   ],
   "source": [
    "#http://scikit-learn.org/stable/modules/generated/sklearn.svm.SVC.html\n",
    "clf_svc2 = svm.SVC(kernel=clf_svc.best_estimator_.kernel,\n",
    "                   C=clf_svc.best_estimator_.C,\n",
    "                   degree=clf_svc.best_estimator_.degree, \n",
    "                   gamma=clf_svc.best_estimator_.gamma, \n",
    "                   coef0=0.0, \n",
    "                   shrinking=True, \n",
    "                   probability=False, \n",
    "                   tol=0.001, \n",
    "                   cache_size=200, \n",
    "                   class_weight=None, \n",
    "                   verbose=False, \n",
    "                   max_iter=-1, \n",
    "                   random_state=0).fit(X_traincv, y_traincv)\n",
    "\n",
    "roc_svc2 = clf_eval(clf_svc2, X_testcv, y_testcv)"
   ]
  },
  {
   "cell_type": "markdown",
   "metadata": {
    "deletable": true,
    "editable": true
   },
   "source": [
    "For this first classifier, we'll also display the learning curve  \n",
    "http://scikit-learn.org/stable/modules/generated/sklearn.learning_curve.learning_curve.html  "
   ]
  },
  {
   "cell_type": "code",
   "execution_count": 47,
   "metadata": {
    "collapsed": false,
    "deletable": true,
    "editable": true
   },
   "outputs": [],
   "source": [
    "#http://scikit-learn.org/stable/modules/generated/sklearn.learning_curve.learning_curve.html\n",
    "\n",
    "def plot_learning_curve(estimator, \n",
    "                        title, \n",
    "                        X, \n",
    "                        y, \n",
    "                        ylim=None, \n",
    "                        cv=None,\n",
    "                        n_jobs=-1, \n",
    "                        train_sizes=np.linspace(.1, 1.0, 5)):\n",
    "    \n",
    "    plt.figure(figsize=(16,8))\n",
    "    plt.title(title)\n",
    "    if ylim is not None:\n",
    "        plt.ylim(*ylim)\n",
    "    plt.xlabel(\"Training examples\")\n",
    "    plt.ylabel(\"Score\")\n",
    "    train_sizes, train_scores, test_scores = model_selection.learning_curve(estimator, \n",
    "                                                            X, y, cv=cv, \n",
    "                                                            n_jobs=n_jobs, \n",
    "                                                            train_sizes=train_sizes)\n",
    "    train_scores_mean = np.mean(train_scores, axis=1)\n",
    "    train_scores_std = np.std(train_scores, axis=1)\n",
    "    test_scores_mean = np.mean(test_scores, axis=1)\n",
    "    test_scores_std = np.std(test_scores, axis=1)\n",
    "    \n",
    "    plt.grid()\n",
    "    plt.fill_between(train_sizes, train_scores_mean - train_scores_std,\n",
    "                     train_scores_mean + train_scores_std, alpha=0.1, color=\"r\")\n",
    "    plt.fill_between(train_sizes, test_scores_mean - test_scores_std,\n",
    "                     test_scores_mean + test_scores_std, alpha=0.1, color=\"g\")\n",
    "    plt.plot(train_sizes, train_scores_mean, 'o-', color=\"r\", label=\"Training score\")\n",
    "    plt.plot(train_sizes, test_scores_mean, 'o-', color=\"g\", label=\"Cross-validation score\")\n",
    "\n",
    "    plt.legend(loc=\"best\")\n",
    "    return plt"
   ]
  },
  {
   "cell_type": "code",
   "execution_count": 48,
   "metadata": {
    "collapsed": false,
    "deletable": true,
    "editable": true
   },
   "outputs": [
    {
     "data": {
      "image/png": "[encoded data removed]",
      "text/plain": [
       "<matplotlib.figure.Figure at 0x7fb61a4e9588>"
      ]
     },
     "metadata": {},
     "output_type": "display_data"
    }
   ],
   "source": [
    "title = 'Learning Curves (SVM, kernel:{1}{0} , $\\gamma={2:.6f}$)'.format(clf_svc.best_estimator_.degree,\n",
    "                                                                         clf_svc.best_estimator_.kernel,\n",
    "                                                                         clf_svc.best_estimator_.gamma)\n",
    "graph = plot_learning_curve(clf_svc2, title, X_train, y_train, cv=cv)\n",
    "#matplotlib.rcdefaults()\n",
    "#matplotlib.verbose.set_level('silent')\n",
    "graph.show()"
   ]
  },
  {
   "cell_type": "markdown",
   "metadata": {
    "deletable": true,
    "editable": true
   },
   "source": [
    "Agora vamos testar outros estimadores:"
   ]
  },
  {
   "cell_type": "code",
   "execution_count": 49,
   "metadata": {
    "collapsed": false,
    "deletable": true,
    "editable": true
   },
   "outputs": [
    {
     "name": "stdout",
     "output_type": "stream",
     "text": [
      "Classification Report\n",
      "                precision    recall  f1-score   support\n",
      "\n",
      "Não Sobreviveu       0.82      0.87      0.85       221\n",
      "    Sobreviveu       0.77      0.70      0.73       136\n",
      "\n",
      "   avg / total       0.80      0.80      0.80       357\n",
      "\n",
      "ROC Score: 0.7836538461538461\n",
      "Accuracy Score: 0.803921568627451\n",
      "Average Precision Score: 0.7897521911990603\n",
      "f1 Score: 0.7307692307692308\n",
      "Confusion matrix, without normalization\n",
      "[[192  29]\n",
      " [ 41  95]]\n"
     ]
    },
    {
     "data": {
      "image/png": "[encoded data removed]",
      "text/plain": [
       "<matplotlib.figure.Figure at 0x7fb619324b00>"
      ]
     },
     "metadata": {},
     "output_type": "display_data"
    }
   ],
   "source": [
    "#http://scikit-learn.org/stable/modules/ensemble.html\n",
    "#http://scikit-learn.org/stable/modules/generated/sklearn.ensemble.RandomForestClassifier.html\n",
    "#http://blog.yhathq.com/posts/random-forests-in-python.html\n",
    "#http://www.analyticsvidhya.com/blog/2015/06/tuning-random-forest-model/\n",
    "from sklearn.ensemble import RandomForestClassifier\n",
    "\n",
    "clf_rf = RandomForestClassifier(n_estimators=300, \n",
    "                                criterion='gini', \n",
    "                                max_depth=None, \n",
    "                                min_samples_split=2, \n",
    "                                min_samples_leaf=1, \n",
    "                                min_weight_fraction_leaf=0.0, \n",
    "                                max_features='auto', \n",
    "                                max_leaf_nodes=None, \n",
    "                                bootstrap=True, \n",
    "                                oob_score=False, \n",
    "                                n_jobs=-1, \n",
    "                                random_state=0, \n",
    "                                verbose=0, \n",
    "                                warm_start=False, \n",
    "                                class_weight=None).fit(X_traincv, y_traincv)\n",
    "\n",
    "\n",
    "\n",
    "roc_rf = clf_eval(clf_rf, X_testcv, y_testcv)"
   ]
  },
  {
   "cell_type": "markdown",
   "metadata": {
    "deletable": true,
    "editable": true
   },
   "source": [
    "Plotting the confidence intervals  \n",
    "https://github.com/scikit-learn-contrib/forest-confidence-interval  "
   ]
  },
  {
   "cell_type": "code",
   "execution_count": 50,
   "metadata": {
    "collapsed": false,
    "deletable": true,
    "editable": true
   },
   "outputs": [
    {
     "name": "stderr",
     "output_type": "stream",
     "text": [
      "/usr/local/lib/python3.5/dist-packages/ipykernel/__main__.py:15: RuntimeWarning: invalid value encountered in sqrt\n",
      "/usr/local/lib/python3.5/dist-packages/ipykernel/__main__.py:22: RuntimeWarning: invalid value encountered in sqrt\n"
     ]
    },
    {
     "data": {
      "image/png": "[encoded data removed]",
      "text/plain": [
       "<matplotlib.figure.Figure at 0x7fb61a5356d8>"
      ]
     },
     "metadata": {},
     "output_type": "display_data"
    }
   ],
   "source": [
    "import forestci as fci\n",
    "\n",
    "y_predicted = clf_rf.predict_proba(X_testcv)\n",
    "\n",
    "# calculate inbag and unbiased variance\n",
    "inbag = fci.calc_inbag(X_traincv.shape[0], clf_rf)\n",
    "unbiased = fci.random_forest_error(clf_rf, inbag,X_traincv, X_testcv)\n",
    "\n",
    "# Plot forest prediction for survivors and standard deviation for estimates\n",
    "# Blue points are survivors; Green points are non-survivors\n",
    "idx = np.where(y_testcv == 1)[0]\n",
    "\n",
    "plt.figure(figsize=(12,6))\n",
    "plt.errorbar(y_predicted[idx, 1], \n",
    "             np.sqrt(unbiased[idx]),\n",
    "             fmt='.', \n",
    "             alpha=0.75, \n",
    "             label='Survived')\n",
    "\n",
    "idx = np.where(y_testcv == 0)[0]\n",
    "plt.errorbar(y_predicted[idx, 1],\n",
    "             np.sqrt(unbiased[idx]),\n",
    "             fmt='.', \n",
    "             alpha=0.75, \n",
    "             label='Not Survived')\n",
    "\n",
    "plt.xlabel('Prediction (Surviving probability)')\n",
    "plt.ylabel('Standard deviation')\n",
    "plt.legend()\n",
    "plt.show()"
   ]
  },
  {
   "cell_type": "code",
   "execution_count": 51,
   "metadata": {
    "collapsed": false,
    "deletable": true,
    "editable": true
   },
   "outputs": [
    {
     "name": "stdout",
     "output_type": "stream",
     "text": [
      "Classification Report\n",
      "                precision    recall  f1-score   support\n",
      "\n",
      "Não Sobreviveu       0.80      0.86      0.83       221\n",
      "    Sobreviveu       0.73      0.65      0.69       136\n",
      "\n",
      "   avg / total       0.77      0.78      0.77       357\n",
      "\n",
      "ROC Score: 0.7511312217194569\n",
      "Accuracy Score: 0.7759103641456583\n",
      "Average Precision Score: 0.757422969187675\n",
      "f1 Score: 0.6875\n",
      "Confusion matrix, without normalization\n",
      "[[189  32]\n",
      " [ 48  88]]\n"
     ]
    },
    {
     "data": {
      "image/png": "[encoded data removed]",
      "text/plain": [
       "<matplotlib.figure.Figure at 0x7fb6192ce2e8>"
      ]
     },
     "metadata": {},
     "output_type": "display_data"
    }
   ],
   "source": [
    "# http://scikit-learn.org/stable/modules/generated/sklearn.tree.DecisionTreeClassifier.html\n",
    "from sklearn.tree import DecisionTreeClassifier\n",
    "\n",
    "clf_dtc = DecisionTreeClassifier(criterion='gini', \n",
    "                                 splitter='best', \n",
    "                                 max_depth=None, \n",
    "                                 min_samples_split=2, \n",
    "                                 min_samples_leaf=1, \n",
    "                                 min_weight_fraction_leaf=0.0, \n",
    "                                 max_features=None, \n",
    "                                 random_state=0, \n",
    "                                 max_leaf_nodes=None, \n",
    "                                 class_weight=None, \n",
    "                                 presort=False).fit(X_traincv, y_traincv)\n",
    "\n",
    "roc_dtc = clf_eval(clf_dtc, X_testcv, y_testcv)"
   ]
  },
  {
   "cell_type": "code",
   "execution_count": 52,
   "metadata": {
    "collapsed": false,
    "deletable": true,
    "editable": true
   },
   "outputs": [
    {
     "name": "stdout",
     "output_type": "stream",
     "text": [
      "Classification Report\n",
      "                precision    recall  f1-score   support\n",
      "\n",
      "Não Sobreviveu       0.82      0.86      0.84       221\n",
      "    Sobreviveu       0.75      0.70      0.72       136\n",
      "\n",
      "   avg / total       0.79      0.80      0.79       357\n",
      "\n",
      "ROC Score: 0.7768665158371041\n",
      "Accuracy Score: 0.7955182072829131\n",
      "Average Precision Score: 0.780703423101524\n",
      "f1 Score: 0.7224334600760457\n",
      "Confusion matrix, without normalization\n",
      "[[189  32]\n",
      " [ 41  95]]\n"
     ]
    },
    {
     "data": {
      "image/png": "[encoded data removed]",
      "text/plain": [
       "<matplotlib.figure.Figure at 0x7fb6191b3198>"
      ]
     },
     "metadata": {},
     "output_type": "display_data"
    }
   ],
   "source": [
    "#http://scikit-learn.org/stable/modules/generated/sklearn.ensemble.ExtraTreesClassifier.html\n",
    "from sklearn.ensemble import ExtraTreesClassifier\n",
    "\n",
    "clf_etc = ExtraTreesClassifier(n_estimators=300,\n",
    "                               max_depth=None,\n",
    "                               min_samples_split=2,\n",
    "                               random_state=0).fit(X_traincv, y_traincv)\n",
    "\n",
    "roc_etc = clf_eval(clf_etc, X_testcv, y_testcv)"
   ]
  },
  {
   "cell_type": "code",
   "execution_count": 53,
   "metadata": {
    "collapsed": false,
    "deletable": true,
    "editable": true
   },
   "outputs": [
    {
     "name": "stdout",
     "output_type": "stream",
     "text": [
      "Classification Report\n",
      "                precision    recall  f1-score   support\n",
      "\n",
      "Não Sobreviveu       0.83      0.89      0.86       221\n",
      "    Sobreviveu       0.80      0.71      0.75       136\n",
      "\n",
      "   avg / total       0.82      0.82      0.82       357\n",
      "\n",
      "ROC Score: 0.8000565610859729\n",
      "Accuracy Score: 0.8207282913165266\n",
      "Average Precision Score: 0.8087804794048766\n",
      "f1 Score: 0.751937984496124\n",
      "Confusion matrix, without normalization\n",
      "[[196  25]\n",
      " [ 39  97]]\n"
     ]
    },
    {
     "data": {
      "image/png": "[encoded data removed]",
      "text/plain": [
       "<matplotlib.figure.Figure at 0x7fb619103898>"
      ]
     },
     "metadata": {},
     "output_type": "display_data"
    }
   ],
   "source": [
    "#http://scikit-learn.org/stable/modules/generated/sklearn.ensemble.AdaBoostClassifier.html\n",
    "from sklearn.ensemble import AdaBoostClassifier\n",
    "\n",
    "clf_abc = AdaBoostClassifier(base_estimator=None,\n",
    "                             n_estimators=200,\n",
    "                             learning_rate=0.1,\n",
    "                             algorithm='SAMME.R',\n",
    "                             random_state=0).fit(X_traincv, y_traincv)\n",
    "\n",
    "roc_abc = clf_eval(clf_abc, X_testcv, y_testcv)"
   ]
  },
  {
   "cell_type": "code",
   "execution_count": 54,
   "metadata": {
    "collapsed": false,
    "deletable": true,
    "editable": true
   },
   "outputs": [
    {
     "name": "stdout",
     "output_type": "stream",
     "text": [
      "Classification Report\n",
      "                precision    recall  f1-score   support\n",
      "\n",
      "Não Sobreviveu       0.82      0.88      0.85       221\n",
      "    Sobreviveu       0.78      0.68      0.73       136\n",
      "\n",
      "   avg / total       0.80      0.80      0.80       357\n",
      "\n",
      "ROC Score: 0.7808257918552036\n",
      "Accuracy Score: 0.803921568627451\n",
      "Average Precision Score: 0.7896358543417367\n",
      "f1 Score: 0.7265625\n",
      "Confusion matrix, without normalization\n",
      "[[194  27]\n",
      " [ 43  93]]\n"
     ]
    },
    {
     "data": {
      "image/png": "[encoded data removed]",
      "text/plain": [
       "<matplotlib.figure.Figure at 0x7fb6190dcf28>"
      ]
     },
     "metadata": {},
     "output_type": "display_data"
    }
   ],
   "source": [
    "#http://scikit-learn.org/stable/modules/generated/sklearn.ensemble.GradientBoostingClassifier.html\n",
    "from sklearn.ensemble import GradientBoostingClassifier\n",
    "\n",
    "clf_gbc = GradientBoostingClassifier(loss='deviance',\n",
    "                                     learning_rate=0.1,\n",
    "                                     n_estimators=200,\n",
    "                                     subsample=1.0, \n",
    "                                     min_samples_split=2, \n",
    "                                     min_samples_leaf=1, \n",
    "                                     min_weight_fraction_leaf=0.0, \n",
    "                                     max_depth=3, \n",
    "                                     init=None, \n",
    "                                     random_state=0, \n",
    "                                     max_features=None, \n",
    "                                     verbose=0, \n",
    "                                     max_leaf_nodes=None, \n",
    "                                     warm_start=False, \n",
    "                                     presort='auto').fit(X_traincv, y_traincv)\n",
    "\n",
    "roc_gbc = clf_eval(clf_gbc, X_testcv, y_testcv)"
   ]
  },
  {
   "cell_type": "code",
   "execution_count": 55,
   "metadata": {
    "collapsed": false,
    "deletable": true,
    "editable": true
   },
   "outputs": [
    {
     "name": "stderr",
     "output_type": "stream",
     "text": [
      "/usr/local/lib/python3.5/dist-packages/sklearn/cross_validation.py:44: DeprecationWarning: This module was deprecated in version 0.18 in favor of the model_selection module into which all the refactored classes and functions are moved. Also note that the interface of the new CV iterators are different from that of this module. This module will be removed in 0.20.\n",
      "  \"This module will be removed in 0.20.\", DeprecationWarning)\n"
     ]
    },
    {
     "name": "stdout",
     "output_type": "stream",
     "text": [
      "Classification Report\n",
      "                precision    recall  f1-score   support\n",
      "\n",
      "Não Sobreviveu       0.80      0.90      0.85       221\n",
      "    Sobreviveu       0.80      0.63      0.71       136\n",
      "\n",
      "   avg / total       0.80      0.80      0.80       357\n",
      "\n",
      "ROC Score: 0.7686651583710407\n",
      "Accuracy Score: 0.8011204481792717\n",
      "Average Precision Score: 0.7880736406712217\n",
      "f1 Score: 0.7078189300411524\n",
      "Confusion matrix, without normalization\n",
      "[[200  21]\n",
      " [ 50  86]]\n"
     ]
    },
    {
     "data": {
      "image/png": "[encoded data removed]",
      "text/plain": [
       "<matplotlib.figure.Figure at 0x7fb619fe45c0>"
      ]
     },
     "metadata": {},
     "output_type": "display_data"
    }
   ],
   "source": [
    "#https://github.com/dmlc/xgboost/tree/master/python-package  \n",
    "#https://xgboost.readthedocs.io/en/latest/build.html#building-on-ubuntu-debian\n",
    "#http://xgboost.readthedocs.io/en/latest/build.html#python-package-installation  \n",
    "#http://xgboost.readthedocs.io/en/latest/parameter.html  \n",
    "#https://www.analyticsvidhya.com/blog/2016/03/complete-guide-parameter-tuning-xgboost-with-codes-python/  \n",
    "#https://www.kaggle.com/cbrogan/titanic/xgboost-example-python/run/1620  \n",
    "#http://xgboost.readthedocs.io/en/latest//python/python_api.html#module-xgboost.sklearn\n",
    "\n",
    "import xgboost\n",
    "\n",
    "clf_xgb = xgboost.sklearn.XGBClassifier(base_score=0.5,\n",
    "                                        learning_rate=0.1,\n",
    "                                        n_estimators=250,\n",
    "                                        max_delta_step=0,\n",
    "                                        max_depth=3,\n",
    "                                        min_child_weight=1,\n",
    "                                        missing=None,\n",
    "                                        gamma=0,\n",
    "                                        subsample=1,\n",
    "                                        colsample_bylevel=1,\n",
    "                                        colsample_bytree=1,\n",
    "                                        objective= 'binary:logitraw',\n",
    "                                        #objective='multi:softprob',\n",
    "                                        reg_alpha=0, \n",
    "                                        reg_lambda=1,\n",
    "                                        nthread=-1,\n",
    "                                        scale_pos_weight=1,\n",
    "                                        seed=0,\n",
    "                                        silent=False,).fit(X_traincv, y_traincv)\n",
    "\n",
    "roc_xgb = clf_eval(clf_xgb, X_testcv, y_testcv)"
   ]
  },
  {
   "cell_type": "code",
   "execution_count": 56,
   "metadata": {
    "collapsed": false,
    "deletable": true,
    "editable": true
   },
   "outputs": [
    {
     "name": "stdout",
     "output_type": "stream",
     "text": [
      "Classification Report\n",
      "                precision    recall  f1-score   support\n",
      "\n",
      "Não Sobreviveu       0.80      0.86      0.83       221\n",
      "    Sobreviveu       0.74      0.65      0.70       136\n",
      "\n",
      "   avg / total       0.78      0.78      0.78       357\n",
      "\n",
      "ROC Score: 0.7570701357466063\n",
      "Accuracy Score: 0.7815126050420168\n",
      "Average Precision Score: 0.7638655462184875\n",
      "f1 Score: 0.6953125\n",
      "Confusion matrix, without normalization\n",
      "[[190  31]\n",
      " [ 47  89]]\n"
     ]
    },
    {
     "data": {
      "image/png": "[encoded data removed]",
      "text/plain": [
       "<matplotlib.figure.Figure at 0x7fb6191efe48>"
      ]
     },
     "metadata": {},
     "output_type": "display_data"
    }
   ],
   "source": [
    "#http://scikit-learn.org/stable/modules/generated/sklearn.linear_model.SGDClassifier.html\n",
    "from sklearn.linear_model import SGDClassifier\n",
    "\n",
    "clf_sgdc = SGDClassifier(loss='hinge',\n",
    "                         penalty='l2', \n",
    "                         alpha=0.0001,\n",
    "                         l1_ratio=0.15, \n",
    "                         fit_intercept=True,\n",
    "                         n_iter=200, \n",
    "                         shuffle=True,\n",
    "                         verbose=0,\n",
    "                         epsilon=0.1,\n",
    "                         n_jobs=-1,\n",
    "                         random_state=0,\n",
    "                         learning_rate='optimal',\n",
    "                         eta0=0.0, \n",
    "                         power_t=0.5,\n",
    "                         class_weight=None,\n",
    "                         warm_start=False, \n",
    "                         average=False).fit(X_traincv, y_traincv)\n",
    "\n",
    "roc_sgdc = clf_eval(clf_sgdc, X_testcv, y_testcv)"
   ]
  },
  {
   "cell_type": "code",
   "execution_count": 57,
   "metadata": {
    "collapsed": false,
    "deletable": true,
    "editable": true
   },
   "outputs": [
    {
     "name": "stdout",
     "output_type": "stream",
     "text": [
      "Classification Report\n",
      "                precision    recall  f1-score   support\n",
      "\n",
      "Não Sobreviveu       0.80      0.86      0.83       221\n",
      "    Sobreviveu       0.75      0.65      0.69       136\n",
      "\n",
      "   avg / total       0.78      0.78      0.78       357\n",
      "\n",
      "ROC Score: 0.755656108597285\n",
      "Accuracy Score: 0.7815126050420168\n",
      "Average Precision Score: 0.7636376584532119\n",
      "f1 Score: 0.6929133858267716\n",
      "Confusion matrix, without normalization\n",
      "[[191  30]\n",
      " [ 48  88]]\n"
     ]
    },
    {
     "data": {
      "image/png": "[encoded data removed]",
      "text/plain": [
       "<matplotlib.figure.Figure at 0x7fb6191fc6d8>"
      ]
     },
     "metadata": {},
     "output_type": "display_data"
    }
   ],
   "source": [
    "#http://scikit-learn.org/stable/modules/generated/sklearn.linear_model.RidgeClassifier.html\n",
    "from sklearn.linear_model import RidgeClassifier\n",
    "\n",
    "clf_rdg = RidgeClassifier(alpha=1.0, \n",
    "                          fit_intercept=True, \n",
    "                          normalize=False, \n",
    "                          copy_X=True, \n",
    "                          max_iter=None, \n",
    "                          tol=0.001, \n",
    "                          class_weight=None, \n",
    "                          solver='auto', \n",
    "                          random_state=0).fit(X_traincv, y_traincv)\n",
    "\n",
    "roc_rdg = clf_eval(clf_rdg, X_testcv, y_testcv)"
   ]
  },
  {
   "cell_type": "code",
   "execution_count": 58,
   "metadata": {
    "collapsed": false,
    "deletable": true,
    "editable": true
   },
   "outputs": [
    {
     "name": "stdout",
     "output_type": "stream",
     "text": [
      "Classification Report\n",
      "                precision    recall  f1-score   support\n",
      "\n",
      "Não Sobreviveu       0.83      0.80      0.82       221\n",
      "    Sobreviveu       0.70      0.74      0.72       136\n",
      "\n",
      "   avg / total       0.78      0.78      0.78       357\n",
      "\n",
      "ROC Score: 0.7717760180995475\n",
      "Accuracy Score: 0.7787114845938375\n",
      "Average Precision Score: 0.7686189993238673\n",
      "f1 Score: 0.7188612099644128\n",
      "Confusion matrix, without normalization\n",
      "[[177  44]\n",
      " [ 35 101]]\n"
     ]
    },
    {
     "data": {
      "image/png": "[encoded data removed]",
      "text/plain": [
       "<matplotlib.figure.Figure at 0x7fb61d5f0898>"
      ]
     },
     "metadata": {},
     "output_type": "display_data"
    }
   ],
   "source": [
    "#http://scikit-learn.org/stable/modules/generated/sklearn.linear_model.Perceptron.html#sklearn.linear_model.Perceptron\n",
    "from sklearn.linear_model import Perceptron\n",
    "\n",
    "clf_pcp = Perceptron(penalty=None,\n",
    "                     alpha=0.0001,\n",
    "                     fit_intercept=True,\n",
    "                     n_iter=200,\n",
    "                     shuffle=True,\n",
    "                     verbose=0,\n",
    "                     eta0=1.0,\n",
    "                     n_jobs=-1, \n",
    "                     random_state=0, \n",
    "                     class_weight=None, \n",
    "                     warm_start=False).fit(X_traincv, y_traincv)\n",
    "\n",
    "roc_pcp = clf_eval(clf_pcp, X_testcv, y_testcv)"
   ]
  },
  {
   "cell_type": "code",
   "execution_count": 59,
   "metadata": {
    "collapsed": false,
    "deletable": true,
    "editable": true
   },
   "outputs": [
    {
     "name": "stdout",
     "output_type": "stream",
     "text": [
      "Classification Report\n",
      "                precision    recall  f1-score   support\n",
      "\n",
      "Não Sobreviveu       0.81      0.85      0.83       221\n",
      "    Sobreviveu       0.73      0.67      0.70       136\n",
      "\n",
      "   avg / total       0.78      0.78      0.78       357\n",
      "\n",
      "ROC Score: 0.7576357466063348\n",
      "Accuracy Score: 0.7787114845938375\n",
      "Average Precision Score: 0.7615840336134454\n",
      "f1 Score: 0.6973180076628351\n",
      "Confusion matrix, without normalization\n",
      "[[187  34]\n",
      " [ 45  91]]\n"
     ]
    },
    {
     "data": {
      "image/png": "[encoded data removed]",
      "text/plain": [
       "<matplotlib.figure.Figure at 0x7fb6191037b8>"
      ]
     },
     "metadata": {},
     "output_type": "display_data"
    }
   ],
   "source": [
    "#http://scikit-learn.org/stable/modules/generated/sklearn.linear_model.PassiveAggressiveClassifier.html\n",
    "from sklearn.linear_model import PassiveAggressiveClassifier\n",
    "\n",
    "clf_pac = PassiveAggressiveClassifier(C=1.0, \n",
    "                                      fit_intercept=True, \n",
    "                                      n_iter=200, \n",
    "                                      shuffle=True, \n",
    "                                      verbose=0, \n",
    "                                      loss='hinge', \n",
    "                                      n_jobs=-1, \n",
    "                                      random_state=0, \n",
    "                                      warm_start=False, \n",
    "                                      class_weight=None).fit(X_traincv, y_traincv)\n",
    "\n",
    "roc_pac = clf_eval(clf_pac, X_testcv, y_testcv)"
   ]
  },
  {
   "cell_type": "code",
   "execution_count": 60,
   "metadata": {
    "collapsed": false,
    "deletable": true,
    "editable": true
   },
   "outputs": [
    {
     "name": "stdout",
     "output_type": "stream",
     "text": [
      "Classification Report\n",
      "                precision    recall  f1-score   support\n",
      "\n",
      "Não Sobreviveu       0.81      0.89      0.85       221\n",
      "    Sobreviveu       0.79      0.67      0.73       136\n",
      "\n",
      "   avg / total       0.81      0.81      0.80       357\n",
      "\n",
      "ROC Score: 0.780260180995475\n",
      "Accuracy Score: 0.8067226890756303\n",
      "Average Precision Score: 0.7932362075264887\n",
      "f1 Score: 0.7250996015936254\n",
      "Confusion matrix, without normalization\n",
      "[[197  24]\n",
      " [ 45  91]]\n"
     ]
    },
    {
     "data": {
      "image/png": "[encoded data removed]",
      "text/plain": [
       "<matplotlib.figure.Figure at 0x7fb61a59ab00>"
      ]
     },
     "metadata": {},
     "output_type": "display_data"
    }
   ],
   "source": [
    "#http://scikit-learn.org/stable/modules/generated/sklearn.linear_model.LogisticRegression.html\n",
    "from sklearn.linear_model import LogisticRegression\n",
    "\n",
    "clf_lr = LogisticRegression(penalty='l2',\n",
    "                            dual=False, \n",
    "                            tol=0.0001, \n",
    "                            C=1.0, \n",
    "                            fit_intercept=True, \n",
    "                            intercept_scaling=1, \n",
    "                            class_weight=None, \n",
    "                            random_state=0, \n",
    "                            solver='liblinear', \n",
    "                            max_iter=100, \n",
    "                            multi_class='ovr', \n",
    "                            verbose=0, \n",
    "                            warm_start=False, \n",
    "                            n_jobs=-1).fit(X_traincv, y_traincv)\n",
    "\n",
    "roc_lr = clf_eval(clf_lr, X_testcv, y_testcv)"
   ]
  },
  {
   "cell_type": "code",
   "execution_count": 61,
   "metadata": {
    "collapsed": false,
    "deletable": true,
    "editable": true
   },
   "outputs": [
    {
     "name": "stdout",
     "output_type": "stream",
     "text": [
      "Classification Report\n",
      "                precision    recall  f1-score   support\n",
      "\n",
      "Não Sobreviveu       0.85      0.79      0.82       221\n",
      "    Sobreviveu       0.69      0.78      0.73       136\n",
      "\n",
      "   avg / total       0.79      0.78      0.79       357\n",
      "\n",
      "ROC Score: 0.7833710407239819\n",
      "Accuracy Score: 0.7843137254901961\n",
      "Average Precision Score: 0.7781279178338002\n",
      "f1 Score: 0.7335640138408304\n",
      "Confusion matrix, without normalization\n",
      "[[174  47]\n",
      " [ 30 106]]\n"
     ]
    },
    {
     "data": {
      "image/png": "[encoded data removed]",
      "text/plain": [
       "<matplotlib.figure.Figure at 0x7fb619fe4e10>"
      ]
     },
     "metadata": {},
     "output_type": "display_data"
    }
   ],
   "source": [
    "#http://scikit-learn.org/stable/modules/naive_bayes.html\n",
    "#http://scikit-learn.org/stable/modules/generated/sklearn.naive_bayes.GaussianNB.html\n",
    "from sklearn.naive_bayes import GaussianNB\n",
    "\n",
    "clf_gnb = GaussianNB().fit(X_traincv, y_traincv)\n",
    "\n",
    "roc_gnb = clf_eval(clf_gnb, X_testcv, y_testcv)"
   ]
  },
  {
   "cell_type": "code",
   "execution_count": 62,
   "metadata": {
    "collapsed": false,
    "deletable": true,
    "editable": true
   },
   "outputs": [
    {
     "name": "stdout",
     "output_type": "stream",
     "text": [
      "Classification Report\n",
      "                precision    recall  f1-score   support\n",
      "\n",
      "Não Sobreviveu       0.78      0.76      0.77       221\n",
      "    Sobreviveu       0.63      0.65      0.64       136\n",
      "\n",
      "   avg / total       0.72      0.72      0.72       357\n",
      "\n",
      "ROC Score: 0.7072963800904977\n",
      "Accuracy Score: 0.7198879551820728\n",
      "Average Precision Score: 0.706412494575295\n",
      "f1 Score: 0.6402877697841727\n",
      "Confusion matrix, without normalization\n",
      "[[168  53]\n",
      " [ 47  89]]\n"
     ]
    },
    {
     "data": {
      "image/png": "[encoded data removed]",
      "text/plain": [
       "<matplotlib.figure.Figure at 0x7fb61a066588>"
      ]
     },
     "metadata": {},
     "output_type": "display_data"
    }
   ],
   "source": [
    "#http://scikit-learn.org/stable/modules/generated/sklearn.naive_bayes.BernoulliNB.html\n",
    "from sklearn.naive_bayes import BernoulliNB\n",
    "\n",
    "clf_bnb = BernoulliNB(alpha=1.0, \n",
    "                     binarize=0.0, \n",
    "                     fit_prior=True, \n",
    "                     class_prior=None).fit(X_traincv, y_traincv)\n",
    "\n",
    "roc_bnb = clf_eval(clf_bnb, X_testcv, y_testcv)"
   ]
  },
  {
   "cell_type": "code",
   "execution_count": 63,
   "metadata": {
    "collapsed": false,
    "deletable": true,
    "editable": true
   },
   "outputs": [
    {
     "name": "stdout",
     "output_type": "stream",
     "text": [
      "Classification Report\n",
      "                precision    recall  f1-score   support\n",
      "\n",
      "Não Sobreviveu       0.82      0.86      0.84       221\n",
      "    Sobreviveu       0.75      0.68      0.72       136\n",
      "\n",
      "   avg / total       0.79      0.79      0.79       357\n",
      "\n",
      "ROC Score: 0.7717760180995475\n",
      "Accuracy Score: 0.7927170868347339\n",
      "Average Precision Score: 0.7771358543417367\n",
      "f1 Score: 0.7153846153846155\n",
      "Confusion matrix, without normalization\n",
      "[[190  31]\n",
      " [ 43  93]]\n"
     ]
    },
    {
     "data": {
      "image/png": "[encoded data removed]",
      "text/plain": [
       "<matplotlib.figure.Figure at 0x7fb618d5f390>"
      ]
     },
     "metadata": {},
     "output_type": "display_data"
    }
   ],
   "source": [
    "from sklearn.neighbors import KNeighborsClassifier\n",
    "\n",
    "clf_knn = KNeighborsClassifier(n_neighbors=5,\n",
    "                               weights='uniform', \n",
    "                               algorithm='auto', \n",
    "                               leaf_size=30, \n",
    "                               p=2, \n",
    "                               metric='minkowski', \n",
    "                               metric_params=None, \n",
    "                               n_jobs=1).fit(X_traincv, y_traincv)\n",
    "\n",
    "roc_knn = clf_eval(clf_knn, X_testcv, y_testcv)"
   ]
  },
  {
   "cell_type": "code",
   "execution_count": 64,
   "metadata": {
    "collapsed": false,
    "deletable": true,
    "editable": true
   },
   "outputs": [
    {
     "name": "stdout",
     "output_type": "stream",
     "text": [
      "Classification Report\n",
      "                precision    recall  f1-score   support\n",
      "\n",
      "Não Sobreviveu       0.82      0.92      0.86       221\n",
      "    Sobreviveu       0.83      0.66      0.74       136\n",
      "\n",
      "   avg / total       0.82      0.82      0.82       357\n",
      "\n",
      "ROC Score: 0.790158371040724\n",
      "Accuracy Score: 0.8207282913165266\n",
      "Average Precision Score: 0.8119747899159665\n",
      "f1 Score: 0.7377049180327869\n",
      "Confusion matrix, without normalization\n",
      "[[203  18]\n",
      " [ 46  90]]\n"
     ]
    },
    {
     "data": {
      "image/png": "[encoded data removed]",
      "text/plain": [
       "<matplotlib.figure.Figure at 0x7fb618d9dcf8>"
      ]
     },
     "metadata": {},
     "output_type": "display_data"
    }
   ],
   "source": [
    "from sklearn.ensemble import BaggingClassifier\n",
    "\n",
    "clf_bgc = BaggingClassifier().fit(X_traincv, y_traincv)\n",
    "\n",
    "roc_bgc = clf_eval(clf_bgc, X_testcv, y_testcv)"
   ]
  },
  {
   "cell_type": "markdown",
   "metadata": {
    "deletable": true,
    "editable": true
   },
   "source": [
    "#### Keras (with TensorFlow / Theano backends)"
   ]
  },
  {
   "cell_type": "code",
   "execution_count": 65,
   "metadata": {
    "collapsed": false,
    "deletable": true,
    "editable": true,
    "scrolled": true
   },
   "outputs": [
    {
     "name": "stderr",
     "output_type": "stream",
     "text": [
      "Using TensorFlow backend.\n"
     ]
    },
    {
     "name": "stdout",
     "output_type": "stream",
     "text": [
      "Keras using tensorflow backend\n",
      "534 train samples\n",
      "357 test samples\n",
      "_________________________________________________________________\n",
      "Layer (type)                 Output Shape              Param #   \n",
      "=================================================================\n",
      "dense_1 (Dense)              (None, 200)               1800      \n",
      "_________________________________________________________________\n",
      "dropout_1 (Dropout)          (None, 200)               0         \n",
      "_________________________________________________________________\n",
      "dense_2 (Dense)              (None, 200)               40200     \n",
      "_________________________________________________________________\n",
      "dropout_2 (Dropout)          (None, 200)               0         \n",
      "_________________________________________________________________\n",
      "dense_3 (Dense)              (None, 24)                4824      \n",
      "_________________________________________________________________\n",
      "dropout_3 (Dropout)          (None, 24)                0         \n",
      "_________________________________________________________________\n",
      "dense_4 (Dense)              (None, 1)                 25        \n",
      "=================================================================\n",
      "Total params: 46,849.0\n",
      "Trainable params: 46,849.0\n",
      "Non-trainable params: 0.0\n",
      "_________________________________________________________________\n",
      "Train on 534 samples, validate on 357 samples\n",
      "Epoch 1/20\n",
      "534/534 [==============================] - 0s - loss: 0.6781 - acc: 0.6873 - val_loss: 0.6333 - val_acc: 0.7395\b\b\b\b\b\b\b\b\b\b\b\b\b\b\b\b\b\b\b\b\b\b\b\b\b\b\b\b\b\b\b\b\b\b\b\b\b\b\b\b\b\b\b\b\b\b\b\n",
      "Epoch 2/20\n",
      "534/534 [==============================] - 0s - loss: 0.6112 - acc: 0.7528 - val_loss: 0.5561 - val_acc: 0.7787\b\b\b\b\b\b\b\b\b\b\b\b\b\b\b\b\b\b\b\b\b\b\b\b\b\b\b\b\b\b\b\b\b\b\b\b\b\b\b\b\b\b\b\b\b\b\b\n",
      "Epoch 3/20\n",
      "534/534 [==============================] - 0s - loss: 0.5295 - acc: 0.8034 - val_loss: 0.5012 - val_acc: 0.7787\b\b\b\b\b\b\b\b\b\b\b\b\b\b\b\b\b\b\b\b\b\b\b\b\b\b\b\b\b\b\b\b\b\b\b\b\b\b\b\b\b\b\b\b\b\b\b\n",
      "Epoch 4/20\n",
      "534/534 [==============================] - 0s - loss: 0.4742 - acc: 0.8109 - val_loss: 0.4693 - val_acc: 0.7927\b\b\b\b\b\b\b\b\b\b\b\b\b\b\b\b\b\b\b\b\b\b\b\b\b\b\b\b\b\b\b\b\b\b\b\b\b\b\b\b\b\b\b\b\b\b\b\n",
      "Epoch 5/20\n",
      "534/534 [==============================] - 0s - loss: 0.4616 - acc: 0.8090 - val_loss: 0.4566 - val_acc: 0.8123\b\b\b\b\b\b\b\b\b\b\b\b\b\b\b\b\b\b\b\b\b\b\b\b\b\b\b\b\b\b\b\b\b\b\b\b\b\b\b\b\b\b\b\b\b\b\b\n",
      "Epoch 6/20\n",
      "534/534 [==============================] - 0s - loss: 0.4462 - acc: 0.8109 - val_loss: 0.4504 - val_acc: 0.8011\b\b\b\b\b\b\b\b\b\b\b\b\b\b\b\b\b\b\b\b\b\b\b\b\b\b\b\b\b\b\b\b\b\b\b\b\b\b\b\b\b\b\b\b\b\b\b\n",
      "Epoch 7/20\n",
      "534/534 [==============================] - 0s - loss: 0.4450 - acc: 0.8146 - val_loss: 0.4464 - val_acc: 0.8151\b\b\b\b\b\b\b\b\b\b\b\b\b\b\b\b\b\b\b\b\b\b\b\b\b\b\b\b\b\b\b\b\b\b\b\b\b\b\b\b\b\b\b\b\b\b\b\n",
      "Epoch 8/20\n",
      "534/534 [==============================] - 0s - loss: 0.4314 - acc: 0.8146 - val_loss: 0.4436 - val_acc: 0.8123\b\b\b\b\b\b\b\b\b\b\b\b\b\b\b\b\b\b\b\b\b\b\b\b\b\b\b\b\b\b\b\b\b\b\b\b\b\b\b\b\b\b\b\b\b\b\b\n",
      "Epoch 9/20\n",
      "534/534 [==============================] - 0s - loss: 0.4271 - acc: 0.8109 - val_loss: 0.4428 - val_acc: 0.8151\b\b\b\b\b\b\b\b\b\b\b\b\b\b\b\b\b\b\b\b\b\b\b\b\b\b\b\b\b\b\b\b\b\b\b\b\b\b\b\b\b\b\b\b\b\b\b\n",
      "Epoch 10/20\n",
      "534/534 [==============================] - 0s - loss: 0.4256 - acc: 0.8296 - val_loss: 0.4400 - val_acc: 0.8095\b\b\b\b\b\b\b\b\b\b\b\b\b\b\b\b\b\b\b\b\b\b\b\b\b\b\b\b\b\b\b\b\b\b\b\b\b\b\b\b\b\b\b\b\b\b\b\n",
      "Epoch 11/20\n",
      "534/534 [==============================] - 0s - loss: 0.4333 - acc: 0.8296 - val_loss: 0.4402 - val_acc: 0.8123\b\b\b\b\b\b\b\b\b\b\b\b\b\b\b\b\b\b\b\b\b\b\b\b\b\b\b\b\b\b\b\b\b\b\b\b\b\b\b\b\b\b\b\b\b\b\b\n",
      "Epoch 12/20\n",
      "534/534 [==============================] - 0s - loss: 0.4188 - acc: 0.8352 - val_loss: 0.4344 - val_acc: 0.8123\b\b\b\b\b\b\b\b\b\b\b\b\b\b\b\b\b\b\b\b\b\b\b\b\b\b\b\b\b\b\b\b\b\b\b\b\b\b\b\b\b\b\b\b\b\b\b\n",
      "Epoch 13/20\n",
      "534/534 [==============================] - 0s - loss: 0.4173 - acc: 0.8315 - val_loss: 0.4342 - val_acc: 0.8123\b\b\b\b\b\b\b\b\b\b\b\b\b\b\b\b\b\b\b\b\b\b\b\b\b\b\b\b\b\b\b\b\b\b\b\b\b\b\b\b\b\b\b\b\b\b\b\n",
      "Epoch 14/20\n",
      "534/534 [==============================] - 0s - loss: 0.4090 - acc: 0.8352 - val_loss: 0.4344 - val_acc: 0.8151\b\b\b\b\b\b\b\b\b\b\b\b\b\b\b\b\b\b\b\b\b\b\b\b\b\b\b\b\b\b\b\b\b\b\b\b\b\b\b\b\b\b\b\b\b\b\b\n",
      "Epoch 15/20\n",
      "534/534 [==============================] - 0s - loss: 0.4105 - acc: 0.8296 - val_loss: 0.4330 - val_acc: 0.8235\b\b\b\b\b\b\b\b\b\b\b\b\b\b\b\b\b\b\b\b\b\b\b\b\b\b\b\b\b\b\b\b\b\b\b\b\b\b\b\b\b\b\b\b\b\b\b\n",
      "Epoch 16/20\n",
      "534/534 [==============================] - 0s - loss: 0.4219 - acc: 0.8390 - val_loss: 0.4377 - val_acc: 0.8123\b\b\b\b\b\b\b\b\b\b\b\b\b\b\b\b\b\b\b\b\b\b\b\b\b\b\b\b\b\b\b\b\b\b\b\b\b\b\b\b\b\b\b\b\b\b\b\n",
      "Epoch 17/20\n",
      "534/534 [==============================] - 0s - loss: 0.4096 - acc: 0.8202 - val_loss: 0.4291 - val_acc: 0.8235\b\b\b\b\b\b\b\b\b\b\b\b\b\b\b\b\b\b\b\b\b\b\b\b\b\b\b\b\b\b\b\b\b\b\b\b\b\b\b\b\b\b\b\b\b\b\b\n",
      "Epoch 18/20\n",
      "534/534 [==============================] - 0s - loss: 0.4176 - acc: 0.8333 - val_loss: 0.4315 - val_acc: 0.8207\b\b\b\b\b\b\b\b\b\b\b\b\b\b\b\b\b\b\b\b\b\b\b\b\b\b\b\b\b\b\b\b\b\b\b\b\b\b\b\b\b\b\b\b\b\b\b\n",
      "Epoch 19/20\n",
      "534/534 [==============================] - 0s - loss: 0.4116 - acc: 0.8352 - val_loss: 0.4329 - val_acc: 0.8179\b\b\b\b\b\b\b\b\b\b\b\b\b\b\b\b\b\b\b\b\b\b\b\b\b\b\b\b\b\b\b\b\b\b\b\b\b\b\b\b\b\b\b\b\b\b\b\n",
      "Epoch 20/20\n",
      "534/534 [==============================] - 0s - loss: 0.4065 - acc: 0.8352 - val_loss: 0.4343 - val_acc: 0.8179\b\b\b\b\b\b\b\b\b\b\b\b\b\b\b\b\b\b\b\b\b\b\b\b\b\b\b\b\b\b\b\b\b\b\b\b\b\b\b\b\b\b\b\b\b\b\b\n",
      "Test loss: 0.434286075292\n",
      "Test accuracy: 0.817927170868\n",
      " 32/357 [=>............................] - ETA: 0sClassification Report\n",
      "                precision    recall  f1-score   support\n",
      "\n",
      "Não Sobreviveu       0.83      0.88      0.86       221\n",
      "    Sobreviveu       0.79      0.71      0.75       136\n",
      "\n",
      "   avg / total       0.82      0.82      0.82       357\n",
      "\n",
      "ROC Score: 0.7977941176470588\n",
      "Accuracy Score: 0.8179271708683473\n",
      "Average Precision Score: 0.8055484388877502\n",
      "f1 Score: 0.749034749034749\n",
      "Confusion matrix, without normalization\n",
      "[[195  26]\n",
      " [ 39  97]]\n"
     ]
    },
    {
     "data": {
      "image/png": "[encoded data removed]",
      "text/plain": [
       "<matplotlib.figure.Figure at 0x7fb609085a58>"
      ]
     },
     "metadata": {},
     "output_type": "display_data"
    }
   ],
   "source": [
    "# https://elitedatascience.com/keras-tutorial-deep-learning-in-python\n",
    "# http://machinelearningmastery.com/tutorial-first-neural-network-python-keras/\n",
    "# https://www.kaggle.com/cstahl12/titanic/titanic-with-keras\n",
    "\n",
    "import keras\n",
    "from keras.models import Sequential\n",
    "from keras.layers import Dense, Dropout, Activation\n",
    "from keras.optimizers import SGD, RMSprop\n",
    "from keras.utils.np_utils import to_categorical\n",
    "\n",
    "print('Keras using {} backend'.format(keras.backend.backend()))  #https://keras.io/backend/\n",
    "\n",
    "batch_size = 128\n",
    "num_classes = 2\n",
    "epochs = 20\n",
    "\n",
    "x_train_kr = X_traincv.astype('float32') \n",
    "x_test_kr = X_testcv.astype('float32')\n",
    "\n",
    "print(x_train_kr.shape[0], 'train samples')\n",
    "print(x_test_kr.shape[0], 'test samples')\n",
    "\n",
    "y_train_kr = y_traincv\n",
    "y_test_kr = y_testcv\n",
    "\n",
    "# convert class vectors to binary class matrices for categorical cross_entropy\n",
    "#y_train_kr = to_categorical(y_traincv)\n",
    "#y_test_kr = to_categorical(y_testcv)\n",
    "\n",
    "model = Sequential()\n",
    "model.add(Dense(input_dim=x_train_kr.shape[1],activation='relu', units=200))\n",
    "model.add(Dropout(0.2))\n",
    "model.add(Dense(input_dim=200, activation='relu', units=200))\n",
    "model.add(Dropout(0.2))\n",
    "model.add(Dense(input_dim=200, activation='relu', units=24)) #activation='softmax'\n",
    "model.add(Dropout(0.2))\n",
    "model.add(Dense(input_dim=24, kernel_initializer='uniform', activation='sigmoid', units=1)) #units=2 for cat.cr.ent\n",
    "model.summary()\n",
    "\n",
    "\n",
    "model.compile(loss='binary_crossentropy',\n",
    "              #loss='categorical_crossentropy',\n",
    "              #loss='mean_squared_error',\n",
    "              optimizer=RMSprop(), \n",
    "              #optimizer=SGD(lr=0.001),\n",
    "              metrics=['accuracy'])\n",
    "\n",
    "history = model.fit(x_train_kr, y_train_kr,\n",
    "                    batch_size=batch_size,\n",
    "                    epochs=epochs,\n",
    "                    verbose=1,\n",
    "                    validation_data=(x_test_kr, y_test_kr))\n",
    "\n",
    "score = model.evaluate(x_test_kr, y_test_kr, verbose=0)\n",
    "print('Test loss:', score[0])\n",
    "print('Test accuracy:', score[1])\n",
    "\n",
    "\n",
    "y_pred = model.predict_classes(x_test_kr) #y_pred = np.around(model.predict(x_test_kr)[:,1])\n",
    "#y_test_kr = y_test_kr[:,1] #for categorical cross_entropy\n",
    "clf_matrix = confusion_matrix(y_test_kr, y_pred)\n",
    "print('Classification Report')\n",
    "print(classification_report(y_test_kr, y_pred, target_names=['Não Sobreviveu', 'Sobreviveu']))\n",
    "print('ROC Score: {}'.format(roc_auc_score(y_test_kr, y_pred)))\n",
    "print('Accuracy Score: {}'.format(accuracy_score(y_test_kr, y_pred)))\n",
    "print('Average Precision Score: {}'.format(average_precision_score(y_test_kr, y_pred)))\n",
    "print('f1 Score: {}'.format(f1_score(y_test_kr, y_pred)))\n",
    "plot_confusion_matrix(clf_matrix, classes=['Não Sobreviveu', 'Sobreviveu'])\n",
    "roc_keras = roc_auc_score(y_test_kr, y_pred)"
   ]
  },
  {
   "cell_type": "markdown",
   "metadata": {
    "deletable": true,
    "editable": true
   },
   "source": [
    "#### Theano Neural Networks (with Lasagne and Nolearn)"
   ]
  },
  {
   "cell_type": "code",
   "execution_count": 66,
   "metadata": {
    "collapsed": false,
    "deletable": true,
    "editable": true,
    "scrolled": true
   },
   "outputs": [
    {
     "name": "stdout",
     "output_type": "stream",
     "text": [
      "# Neural Network with 42402 learnable parameters\n",
      "\n",
      "## Layer information\n",
      "\n",
      "  #  name        size\n",
      "---  --------  ------\n",
      "  0  input          8\n",
      "  1  dense0       200\n",
      "  2  dropout1     200\n",
      "  3  dense1       200\n",
      "  4  output         2\n",
      "\n",
      "  epoch    trn loss    val loss    trn/val    valid acc  dur\n",
      "-------  ----------  ----------  ---------  -----------  -----\n",
      "      1     \u001b[36m0.70932\u001b[0m     \u001b[32m0.68922\u001b[0m    1.02915      0.41667  0.01s\n",
      "      2     \u001b[36m0.68535\u001b[0m     \u001b[32m0.66775\u001b[0m    1.02636      0.70370  0.01s\n",
      "      3     \u001b[36m0.65998\u001b[0m     \u001b[32m0.64813\u001b[0m    1.01828      0.79630  0.01s\n",
      "      4     \u001b[36m0.64991\u001b[0m     \u001b[32m0.63032\u001b[0m    1.03108      0.83333  0.01s\n",
      "      5     \u001b[36m0.63371\u001b[0m     \u001b[32m0.61419\u001b[0m    1.03177      0.80556  0.01s\n",
      "      6     \u001b[36m0.61848\u001b[0m     \u001b[32m0.59930\u001b[0m    1.03199      0.80556  0.01s\n",
      "      7     \u001b[36m0.60316\u001b[0m     \u001b[32m0.58554\u001b[0m    1.03009      0.80556  0.01s\n",
      "      8     \u001b[36m0.58421\u001b[0m     \u001b[32m0.57288\u001b[0m    1.01977      0.82407  0.01s\n",
      "      9     \u001b[36m0.57492\u001b[0m     \u001b[32m0.56109\u001b[0m    1.02466      0.82407  0.02s\n",
      "     10     \u001b[36m0.56960\u001b[0m     \u001b[32m0.55026\u001b[0m    1.03516      0.81481  0.02s\n",
      "     11     \u001b[36m0.55430\u001b[0m     \u001b[32m0.54062\u001b[0m    1.02530      0.81481  0.01s\n",
      "     12     \u001b[36m0.54934\u001b[0m     \u001b[32m0.53128\u001b[0m    1.03401      0.81481  0.02s\n",
      "     13     \u001b[36m0.53737\u001b[0m     \u001b[32m0.52238\u001b[0m    1.02870      0.81481  0.01s\n",
      "     14     \u001b[36m0.53100\u001b[0m     \u001b[32m0.51431\u001b[0m    1.03244      0.81481  0.01s\n",
      "     15     \u001b[36m0.52750\u001b[0m     \u001b[32m0.50672\u001b[0m    1.04102      0.81481  0.01s\n",
      "     16     \u001b[36m0.51958\u001b[0m     \u001b[32m0.49981\u001b[0m    1.03955      0.81481  0.01s\n",
      "     17     \u001b[36m0.51218\u001b[0m     \u001b[32m0.49344\u001b[0m    1.03796      0.81481  0.02s\n",
      "     18     \u001b[36m0.50419\u001b[0m     \u001b[32m0.48731\u001b[0m    1.03465      0.81481  0.02s\n",
      "     19     \u001b[36m0.49923\u001b[0m     \u001b[32m0.48136\u001b[0m    1.03711      0.81481  0.01s\n",
      "     20     \u001b[36m0.49399\u001b[0m     \u001b[32m0.47583\u001b[0m    1.03816      0.81481  0.01s\n",
      "     21     \u001b[36m0.48592\u001b[0m     \u001b[32m0.47132\u001b[0m    1.03098      0.81481  0.01s\n",
      "     22     0.48672     \u001b[32m0.46698\u001b[0m    1.04227      0.81481  0.01s\n",
      "     23     \u001b[36m0.47834\u001b[0m     \u001b[32m0.46316\u001b[0m    1.03278      0.81481  0.01s\n",
      "     24     \u001b[36m0.47212\u001b[0m     \u001b[32m0.45912\u001b[0m    1.02833      0.81481  0.02s\n",
      "     25     \u001b[36m0.47125\u001b[0m     \u001b[32m0.45553\u001b[0m    1.03450      0.83333  0.01s\n",
      "     26     0.47150     \u001b[32m0.45201\u001b[0m    1.04311      0.83333  0.01s\n",
      "     27     \u001b[36m0.46465\u001b[0m     \u001b[32m0.44945\u001b[0m    1.03382      0.81481  0.01s\n",
      "     28     \u001b[36m0.45938\u001b[0m     \u001b[32m0.44639\u001b[0m    1.02909      0.81481  0.01s\n",
      "     29     0.46591     \u001b[32m0.44330\u001b[0m    1.05100      0.81481  0.01s\n",
      "     30     0.46030     \u001b[32m0.44113\u001b[0m    1.04344      0.81481  0.01s\n",
      "     31     \u001b[36m0.45382\u001b[0m     \u001b[32m0.43919\u001b[0m    1.03331      0.81481  0.01s\n",
      "     32     0.45500     \u001b[32m0.43723\u001b[0m    1.04065      0.81481  0.01s\n",
      "     33     0.45522     \u001b[32m0.43558\u001b[0m    1.04508      0.81481  0.01s\n",
      "     34     \u001b[36m0.44535\u001b[0m     \u001b[32m0.43352\u001b[0m    1.02729      0.81481  0.01s\n",
      "     35     0.45247     \u001b[32m0.43215\u001b[0m    1.04702      0.81481  0.01s\n",
      "     36     \u001b[36m0.44403\u001b[0m     \u001b[32m0.43076\u001b[0m    1.03081      0.81481  0.01s\n",
      "     37     0.44993     \u001b[32m0.42944\u001b[0m    1.04772      0.81481  0.01s\n",
      "     38     \u001b[36m0.44216\u001b[0m     \u001b[32m0.42809\u001b[0m    1.03287      0.81481  0.01s\n",
      "     39     \u001b[36m0.43886\u001b[0m     \u001b[32m0.42683\u001b[0m    1.02819      0.81481  0.01s\n",
      "     40     \u001b[36m0.43336\u001b[0m     \u001b[32m0.42531\u001b[0m    1.01892      0.81481  0.01s\n",
      "     41     0.44655     \u001b[32m0.42390\u001b[0m    1.05342      0.81481  0.01s\n",
      "     42     \u001b[36m0.43167\u001b[0m     \u001b[32m0.42324\u001b[0m    1.01992      0.81481  0.01s\n",
      "     43     0.44670     \u001b[32m0.42220\u001b[0m    1.05801      0.81481  0.02s\n",
      "     44     0.44112     \u001b[32m0.42167\u001b[0m    1.04613      0.81481  0.02s\n",
      "     45     0.43383     \u001b[32m0.42117\u001b[0m    1.03006      0.81481  0.02s\n",
      "     46     0.44085     \u001b[32m0.42066\u001b[0m    1.04799      0.81481  0.02s\n",
      "     47     0.43602     \u001b[32m0.42029\u001b[0m    1.03743      0.81481  0.02s\n",
      "     48     0.44242     \u001b[32m0.41994\u001b[0m    1.05353      0.81481  0.01s\n",
      "     49     0.43404     \u001b[32m0.41933\u001b[0m    1.03509      0.81481  0.02s\n",
      "     50     0.43295     \u001b[32m0.41871\u001b[0m    1.03401      0.81481  0.01s\n",
      "     51     0.43854     \u001b[32m0.41838\u001b[0m    1.04817      0.81481  0.01s\n",
      "     52     \u001b[36m0.42789\u001b[0m     \u001b[32m0.41750\u001b[0m    1.02489      0.82407  0.01s\n",
      "     53     0.43520     \u001b[32m0.41696\u001b[0m    1.04373      0.82407  0.01s\n",
      "     54     \u001b[36m0.42328\u001b[0m     0.41703    1.01498      0.81481  0.01s\n",
      "     55     0.43292     \u001b[32m0.41672\u001b[0m    1.03887      0.81481  0.01s\n",
      "     56     \u001b[36m0.42294\u001b[0m     \u001b[32m0.41559\u001b[0m    1.01768      0.81481  0.02s\n",
      "     57     0.43200     \u001b[32m0.41478\u001b[0m    1.04152      0.81481  0.01s\n",
      "     58     0.42342     \u001b[32m0.41474\u001b[0m    1.02092      0.81481  0.01s\n",
      "     59     0.43366     \u001b[32m0.41449\u001b[0m    1.04625      0.81481  0.02s\n",
      "     60     0.43362     \u001b[32m0.41388\u001b[0m    1.04769      0.81481  0.01s\n",
      "     61     0.43051     \u001b[32m0.41336\u001b[0m    1.04150      0.81481  0.01s\n",
      "     62     0.43167     \u001b[32m0.41322\u001b[0m    1.04464      0.81481  0.01s\n",
      "     63     0.42781     0.41355    1.03448      0.81481  0.01s\n",
      "     64     0.42335     0.41338    1.02411      0.81481  0.01s\n",
      "     65     0.42651     \u001b[32m0.41308\u001b[0m    1.03250      0.81481  0.01s\n",
      "     66     0.42888     0.41316    1.03804      0.81481  0.01s\n",
      "     67     0.42539     \u001b[32m0.41287\u001b[0m    1.03032      0.81481  0.01s\n",
      "     68     0.42612     \u001b[32m0.41225\u001b[0m    1.03364      0.81481  0.01s\n",
      "     69     0.43022     0.41253    1.04288      0.81481  0.01s\n",
      "     70     0.43565     0.41272    1.05557      0.81481  0.01s\n",
      "     71     0.42424     0.41258    1.02826      0.81481  0.01s\n",
      "     72     0.43086     \u001b[32m0.41221\u001b[0m    1.04524      0.81481  0.01s\n",
      "     73     0.42824     0.41281    1.03738      0.81481  0.01s\n",
      "     74     0.42524     \u001b[32m0.41210\u001b[0m    1.03190      0.81481  0.01s\n",
      "     75     0.42644     \u001b[32m0.41200\u001b[0m    1.03504      0.81481  0.01s\n",
      "     76     \u001b[36m0.42214\u001b[0m     \u001b[32m0.41150\u001b[0m    1.02585      0.81481  0.01s\n",
      "     77     \u001b[36m0.42061\u001b[0m     \u001b[32m0.41141\u001b[0m    1.02235      0.81481  0.01s\n",
      "     78     0.42130     0.41147    1.02390      0.81481  0.01s\n",
      "     79     0.42422     \u001b[32m0.41112\u001b[0m    1.03185      0.81481  0.01s\n",
      "     80     \u001b[36m0.42004\u001b[0m     \u001b[32m0.41095\u001b[0m    1.02213      0.81481  0.01s\n",
      "     81     0.42966     \u001b[32m0.41080\u001b[0m    1.04589      0.81481  0.01s\n",
      "     82     0.42104     0.41120    1.02392      0.81481  0.01s\n",
      "     83     0.42033     0.41104    1.02259      0.81481  0.01s\n",
      "     84     0.43027     0.41178    1.04491      0.81481  0.01s\n",
      "     85     0.42182     0.41122    1.02576      0.81481  0.01s\n",
      "     86     \u001b[36m0.41123\u001b[0m     \u001b[32m0.41035\u001b[0m    1.00215      0.81481  0.02s\n",
      "     87     0.42367     \u001b[32m0.41020\u001b[0m    1.03284      0.81481  0.01s\n",
      "     88     0.41136     \u001b[32m0.40993\u001b[0m    1.00348      0.81481  0.01s\n",
      "     89     \u001b[36m0.40821\u001b[0m     \u001b[32m0.40965\u001b[0m    0.99647      0.81481  0.01s\n",
      "     90     0.42293     0.40991    1.03178      0.81481  0.01s\n",
      "     91     0.42733     0.40993    1.04243      0.81481  0.01s\n",
      "     92     0.41633     0.40974    1.01608      0.81481  0.01s\n",
      "     93     0.41796     0.41017    1.01899      0.81481  0.01s\n",
      "     94     0.41979     0.41035    1.02301      0.81481  0.01s\n",
      "     95     0.42228     0.41012    1.02966      0.81481  0.01s\n",
      "     96     0.42528     \u001b[32m0.40946\u001b[0m    1.03865      0.82407  0.01s\n",
      "     97     0.41121     \u001b[32m0.40851\u001b[0m    1.00662      0.82407  0.01s\n",
      "     98     0.41333     \u001b[32m0.40840\u001b[0m    1.01208      0.83333  0.02s\n",
      "     99     0.42242     0.40895    1.03295      0.82407  0.02s\n",
      "    100     0.41646     0.40854    1.01937      0.82407  0.01s\n",
      "    101     0.41741     0.40859    1.02158      0.82407  0.01s\n",
      "    102     0.42179     0.40887    1.03160      0.81481  0.01s\n",
      "    103     0.41825     \u001b[32m0.40832\u001b[0m    1.02432      0.81481  0.01s\n",
      "    104     0.42169     \u001b[32m0.40769\u001b[0m    1.03433      0.82407  0.01s\n",
      "    105     0.42098     \u001b[32m0.40751\u001b[0m    1.03305      0.82407  0.01s\n",
      "    106     0.41917     \u001b[32m0.40704\u001b[0m    1.02980      0.83333  0.01s\n",
      "    107     0.41161     \u001b[32m0.40668\u001b[0m    1.01214      0.83333  0.01s\n",
      "    108     0.41980     \u001b[32m0.40667\u001b[0m    1.03230      0.83333  0.01s\n",
      "    109     0.41818     \u001b[32m0.40660\u001b[0m    1.02848      0.83333  0.01s\n",
      "    110     0.41051     \u001b[32m0.40613\u001b[0m    1.01078      0.83333  0.01s\n",
      "    111     0.41892     0.40641    1.03076      0.83333  0.01s\n",
      "    112     0.41633     0.40683    1.02335      0.83333  0.01s\n",
      "    113     0.41254     0.40636    1.01520      0.83333  0.01s\n",
      "    114     0.40953     0.40633    1.00786      0.82407  0.01s\n",
      "    115     0.41345     \u001b[32m0.40607\u001b[0m    1.01817      0.83333  0.01s\n",
      "    116     \u001b[36m0.40001\u001b[0m     0.40651    0.98402      0.82407  0.01s\n",
      "    117     0.41866     \u001b[32m0.40604\u001b[0m    1.03108      0.82407  0.01s\n",
      "    118     0.41820     \u001b[32m0.40588\u001b[0m    1.03036      0.82407  0.01s\n",
      "    119     0.41958     \u001b[32m0.40577\u001b[0m    1.03404      0.82407  0.01s\n",
      "    120     0.42316     0.40599    1.04230      0.82407  0.02s\n",
      "    121     0.41594     \u001b[32m0.40573\u001b[0m    1.02517      0.82407  0.02s\n",
      "    122     0.42107     \u001b[32m0.40550\u001b[0m    1.03841      0.82407  0.01s\n",
      "    123     0.40105     \u001b[32m0.40508\u001b[0m    0.99006      0.82407  0.01s\n",
      "    124     0.41884     0.40521    1.03364      0.82407  0.02s\n",
      "    125     0.41478     0.40545    1.02302      0.82407  0.02s\n",
      "    126     0.41119     0.40581    1.01325      0.82407  0.02s\n",
      "    127     0.41354     0.40625    1.01793      0.82407  0.02s\n",
      "    128     0.41361     0.40572    1.01944      0.82407  0.02s\n",
      "    129     0.40488     0.40539    0.99875      0.82407  0.02s\n",
      "    130     0.40940     0.40545    1.00975      0.82407  0.02s\n",
      "    131     0.40601     0.40545    1.00139      0.82407  0.02s\n",
      "    132     0.40649     0.40555    1.00233      0.82407  0.02s\n",
      "    133     0.40763     0.40578    1.00458      0.82407  0.02s\n",
      "    134     0.41520     0.40561    1.02364      0.82407  0.02s\n",
      "    135     0.41011     0.40516    1.01223      0.82407  0.02s\n",
      "    136     0.41467     0.40537    1.02293      0.82407  0.01s\n",
      "    137     0.41187     0.40560    1.01544      0.82407  0.01s\n",
      "    138     0.41163     0.40624    1.01326      0.82407  0.01s\n",
      "    139     0.40479     0.40611    0.99676      0.82407  0.01s\n",
      "    140     0.41168     0.40531    1.01571      0.83333  0.01s\n",
      "    141     0.41362     0.40517    1.02086      0.83333  0.01s\n",
      "    142     0.40351     \u001b[32m0.40441\u001b[0m    0.99775      0.83333  0.01s\n",
      "    143     0.40275     \u001b[32m0.40395\u001b[0m    0.99702      0.83333  0.02s\n",
      "    144     0.41564     0.40407    1.02862      0.83333  0.01s\n",
      "    145     0.40362     0.40425    0.99844      0.83333  0.02s\n",
      "    146     0.41852     0.40412    1.03564      0.83333  0.01s\n",
      "    147     0.41001     0.40437    1.01394      0.83333  0.01s\n",
      "    148     0.41336     0.40458    1.02172      0.83333  0.01s\n",
      "    149     0.41585     0.40417    1.02890      0.83333  0.01s\n",
      "    150     0.41156     0.40487    1.01651      0.83333  0.01s\n",
      "    151     0.41725     0.40491    1.03046      0.83333  0.01s\n",
      "    152     0.41094     0.40543    1.01361      0.83333  0.01s\n",
      "    153     0.40837     0.40466    1.00915      0.83333  0.01s\n",
      "    154     0.41158     0.40455    1.01738      0.83333  0.01s\n",
      "    155     0.41038     0.40494    1.01345      0.83333  0.01s\n",
      "    156     0.40634     0.40475    1.00394      0.83333  0.01s\n",
      "    157     0.41277     0.40463    1.02013      0.83333  0.01s\n",
      "    158     0.41230     0.40491    1.01823      0.83333  0.01s\n",
      "    159     0.40631     0.40492    1.00343      0.83333  0.01s\n",
      "    160     0.41507     0.40488    1.02517      0.83333  0.01s\n",
      "    161     0.41602     0.40469    1.02799      0.83333  0.01s\n",
      "    162     0.40909     0.40472    1.01081      0.83333  0.01s\n",
      "    163     0.41589     0.40417    1.02898      0.83333  0.01s\n",
      "    164     \u001b[36m0.39968\u001b[0m     \u001b[32m0.40385\u001b[0m    0.98966      0.83333  0.01s\n",
      "    165     0.40699     0.40449    1.00618      0.83333  0.01s\n",
      "    166     0.41201     \u001b[32m0.40374\u001b[0m    1.02048      0.83333  0.01s\n",
      "    167     0.40556     0.40399    1.00386      0.83333  0.01s\n",
      "    168     0.41548     0.40435    1.02752      0.83333  0.01s\n",
      "    169     0.41868     0.40455    1.03494      0.83333  0.01s\n",
      "    170     0.41057     0.40403    1.01620      0.83333  0.01s\n",
      "    171     0.40034     0.40427    0.99028      0.83333  0.01s\n",
      "    172     0.40704     0.40451    1.00626      0.83333  0.01s\n",
      "    173     0.40673     0.40457    1.00534      0.83333  0.01s\n",
      "    174     0.40692     0.40439    1.00626      0.83333  0.01s\n",
      "    175     0.41587     0.40399    1.02940      0.83333  0.01s\n",
      "    176     \u001b[36m0.39397\u001b[0m     0.40378    0.97572      0.83333  0.01s\n",
      "    177     0.40946     0.40461    1.01197      0.83333  0.01s\n",
      "    178     0.40156     0.40446    0.99281      0.83333  0.01s\n",
      "    179     0.40403     0.40422    0.99954      0.83333  0.01s\n",
      "    180     0.39982     0.40419    0.98917      0.83333  0.01s\n",
      "    181     0.40584     0.40393    1.00475      0.83333  0.01s\n",
      "    182     0.41158     \u001b[32m0.40322\u001b[0m    1.02073      0.83333  0.01s\n",
      "    183     0.41367     \u001b[32m0.40276\u001b[0m    1.02709      0.83333  0.01s\n",
      "    184     0.40877     0.40310    1.01406      0.83333  0.01s\n",
      "    185     0.40605     0.40306    1.00740      0.83333  0.01s\n",
      "    186     0.40533     0.40284    1.00619      0.83333  0.01s\n",
      "    187     0.40544     \u001b[32m0.40271\u001b[0m    1.00679      0.83333  0.02s\n",
      "    188     0.40362     0.40288    1.00184      0.83333  0.02s\n",
      "    189     0.40003     \u001b[32m0.40266\u001b[0m    0.99346      0.83333  0.01s\n",
      "    190     0.40711     \u001b[32m0.40255\u001b[0m    1.01133      0.83333  0.01s\n",
      "    191     0.40294     0.40267    1.00067      0.83333  0.01s\n",
      "    192     0.40562     0.40262    1.00746      0.83333  0.01s\n",
      "    193     0.41674     0.40277    1.03468      0.83333  0.02s\n",
      "    194     0.40082     0.40271    0.99532      0.83333  0.01s\n",
      "    195     0.40433     0.40344    1.00221      0.83333  0.01s\n",
      "    196     0.40545     0.40273    1.00674      0.83333  0.01s\n",
      "    197     0.40352     \u001b[32m0.40254\u001b[0m    1.00243      0.83333  0.01s\n",
      "    198     0.41617     0.40255    1.03384      0.83333  0.01s\n",
      "    199     0.40442     \u001b[32m0.40233\u001b[0m    1.00519      0.83333  0.01s\n",
      "    200     0.39978     0.40251    0.99322      0.83333  0.01s\n",
      "Classification Report\n",
      "                precision    recall  f1-score   support\n",
      "\n",
      "Não Sobreviveu       0.84      0.86      0.85       221\n",
      "    Sobreviveu       0.76      0.73      0.74       136\n",
      "\n",
      "   avg / total       0.81      0.81      0.81       357\n",
      "\n",
      "ROC Score: 0.7915723981900453\n",
      "Accuracy Score: 0.8067226890756303\n",
      "Average Precision Score: 0.793653911946458\n",
      "f1 Score: 0.7415730337078652\n",
      "Confusion matrix, without normalization\n",
      "[[189  32]\n",
      " [ 37  99]]\n"
     ]
    },
    {
     "data": {
      "image/png": "[encoded data removed]",
      "text/plain": [
       "<matplotlib.figure.Figure at 0x7fb5e6e1e320>"
      ]
     },
     "metadata": {},
     "output_type": "display_data"
    }
   ],
   "source": [
    "#sudo -H pip3 install --upgrade theano nolearn\n",
    "#sudo -H pip3 install git+https://github.com/Lasagne/Lasagne.git\n",
    "\n",
    "#http://stackoverflow.com/questions/30034492/does-nolearn-lasagne-support-python-3\n",
    "#https://gist.github.com/dnouri/fe855653e9757e1ce8c4\n",
    "#https://github.com/dnouri/nolearn/issues/62\n",
    "\n",
    "#https://github.com/dnouri/nolearn/blob/master/nolearn/lasagne/base.py\n",
    "#https://github.com/Lasagne/Lasagne/blob/master/lasagne/objectives.py\n",
    "\n",
    "#http://nbviewer.ipython.org/github/ottogroup/kaggle/blob/master/Otto_Group_Competition.ipynb\n",
    "#http://danielnouri.org/notes/2014/12/17/using-convolutional-neural-nets-to-detect-facial-keypoints-tutorial/\n",
    "\n",
    "#https://github.com/IssamLaradji/NeuralNetworks/tree/master/multilayer_perceptron\n",
    "#https://github.com/fchollet/keras\n",
    "\n",
    "import lasagne\n",
    "import nolearn\n",
    "from nolearn.lasagne import NeuralNet, BatchIterator\n",
    "\n",
    "clf_lsgn_layers = [('input', lasagne.layers.InputLayer),\n",
    "                  #('input', lasagne.layers.InputLayer(shape=(None, X.shape[1])))\n",
    "                  #('dropout0', lasagne.layers.DropoutLayer),\n",
    "                  ('dense0', lasagne.layers.DenseLayer),\n",
    "                  ('dropout1', lasagne.layers.DropoutLayer),#\n",
    "                  ('dense1', lasagne.layers.DenseLayer),\n",
    "                  #('dropout2', lasagne.layers.DropoutLayer),#\n",
    "                  ('output', lasagne.layers.DenseLayer)]\n",
    "\n",
    "#l = InputLayer(shape=(None, X.shape[1]))\n",
    "#l = DenseLayer(l, num_units=len(np.unique(y)), nonlinearity=softmax)\n",
    "#net = NeuralNet(l, update_learning_rate=0.01)\n",
    "\n",
    "clf_lsgn = nolearn.lasagne.NeuralNet(layers=clf_lsgn_layers,\n",
    "                                     input_shape=(None, X_traincv.shape[1]), #num_features\n",
    "                                     #dropout0_p=0.5, #0.15                 \n",
    "                                     dense0_num_units=200,\n",
    "                                     dropout1_p=0.25,\n",
    "                                     dense1_num_units=200,\n",
    "                                     #dropout2_p=0.25,\n",
    "                                     output_num_units=len(np.unique(y_traincv)), #num_classes\n",
    "                                     output_nonlinearity=lasagne.nonlinearities.softmax,\n",
    "                                     #update=lasagne.updates.adagrad,\n",
    "                                     update=lasagne.updates.nesterov_momentum,\n",
    "                                     update_momentum=0.5, #0.9 #only used with nesterov_momentum\n",
    "                                     update_learning_rate=0.01,\n",
    "                                     train_split=nolearn.lasagne.TrainSplit(eval_size=0.2), #split\n",
    "                                     verbose=1,\n",
    "                                     max_epochs=200, #To tune,verify the behaviour of outputs\n",
    "                                     )\n",
    "\n",
    "clf_lsgn.fit(X_traincv.astype(np.float32), y_traincv.astype(np.int32))\n",
    "\n",
    "roc_lsgn = clf_eval(clf_lsgn, X_testcv.astype(np.float32), y_testcv.astype(np.int32))"
   ]
  },
  {
   "cell_type": "code",
   "execution_count": 67,
   "metadata": {
    "collapsed": false,
    "deletable": true,
    "editable": true
   },
   "outputs": [
    {
     "data": {
      "image/png": "[encoded data removed]",
      "text/plain": [
       "<matplotlib.figure.Figure at 0x7fb618dc1160>"
      ]
     },
     "metadata": {},
     "output_type": "display_data"
    }
   ],
   "source": [
    "train_loss = np.array([i[\"train_loss\"] for i in clf_lsgn.train_history_])\n",
    "valid_loss = np.array([i[\"valid_loss\"] for i in clf_lsgn.train_history_])\n",
    "plt.figure(figsize=(16,8))\n",
    "plt.plot(train_loss, linewidth=3, label=\"train\")\n",
    "plt.plot(valid_loss, linewidth=3, label=\"test\")\n",
    "plt.grid()\n",
    "plt.legend()\n",
    "plt.xlabel(\"epoch\")\n",
    "plt.ylabel(\"loss\")\n",
    "#plt.ylim(1e-1, 1e1)\n",
    "plt.ylim(0.3, 0.8)\n",
    "#plt.yscale(\"log\")\n",
    "plt.show()"
   ]
  },
  {
   "cell_type": "markdown",
   "metadata": {
    "deletable": true,
    "editable": true
   },
   "source": [
    "#### Theano Neural Networks (with  Lasagne layers)"
   ]
  },
  {
   "cell_type": "code",
   "execution_count": 68,
   "metadata": {
    "collapsed": false,
    "deletable": true,
    "editable": true
   },
   "outputs": [],
   "source": [
    "#http://lasagne.readthedocs.org/en/latest/\n",
    "#http://lasagne.readthedocs.org/en/latest/user/tutorial.html\n",
    "#https://github.com/Lasagne\n",
    "#https://martin-thoma.com/lasagne-for-python-newbies/\n",
    "#http://deeplearning.net/tutorial/\n",
    "#http://deeplearning.net/software/theano/tutorial/\n",
    "#http://cs231n.github.io/\n",
    "#http://neuralnetworksanddeeplearning.com/\n",
    "\n",
    "import theano\n",
    "import theano.tensor as T\n",
    "#import lasagne\n",
    "\n",
    "def build_mlp(input_var=None):\n",
    "    l_in = lasagne.layers.InputLayer(shape=(534,8), input_var=input_var)\n",
    "    l_in_drop = lasagne.layers.DropoutLayer(l_in, p=0.2)\n",
    "    l_hid1 = lasagne.layers.DenseLayer(l_in_drop, \n",
    "                                       num_units=800,\n",
    "                                       nonlinearity=lasagne.nonlinearities.rectify,\n",
    "                                       W=lasagne.init.GlorotUniform())\n",
    "    l_hid1_drop = lasagne.layers.DropoutLayer(l_hid1, p=0.6)\n",
    "    l_hid2 = lasagne.layers.DenseLayer(l_hid1_drop,\n",
    "                                       num_units=800,\n",
    "                                       nonlinearity=lasagne.nonlinearities.rectify)\n",
    "    l_hid2_drop = lasagne.layers.DropoutLayer(l_hid2, p=0.6)\n",
    "    l_out = lasagne.layers.DenseLayer(l_hid2_drop,\n",
    "                                      num_units=10,\n",
    "                                      nonlinearity=lasagne.nonlinearities.softmax)\n",
    "    return l_out\n",
    "\n",
    "def build_custom_mlp(input_var=None, depth=2, width=800, drop_input=.2, drop_hidden=.5):\n",
    "    # Input layer and dropout (with shortcut `dropout` for `DropoutLayer`):\n",
    "    network = lasagne.layers.InputLayer(shape=(534,8), input_var=input_var)\n",
    "    if drop_input:\n",
    "        network = lasagne.layers.dropout(network, p=drop_input)\n",
    "    \n",
    "    # Hidden layers and dropout:\n",
    "    nonlin = lasagne.nonlinearities.rectify\n",
    "    for _ in range(depth):\n",
    "        network = lasagne.layers.DenseLayer(network, \n",
    "                                            width, \n",
    "                                            nonlinearity=nonlin)\n",
    "    if drop_hidden:\n",
    "        network = lasagne.layers.dropout(network, p=drop_hidden)\n",
    "    \n",
    "    # Output layer:\n",
    "    softmax = lasagne.nonlinearities.softmax\n",
    "    network = lasagne.layers.DenseLayer(network, 10, nonlinearity=softmax)\n",
    "    return network\n",
    "\n",
    "def build_cnn(input_var=None):\n",
    "    network = lasagne.layers.InputLayer(shape=(534,8),\n",
    "                                        input_var=input_var)\n",
    "    network = lasagne.layers.Conv2DLayer(network,\n",
    "                                         num_filters=32,\n",
    "                                         filter_size=(5, 5),\n",
    "                                         nonlinearity=lasagne.nonlinearities.rectify,\n",
    "                                         W=lasagne.init.GlorotUniform())\n",
    "    network = lasagne.layers.MaxPool2DLayer(network, pool_size=(2, 2))\n",
    "    network = lasagne.layers.Conv2DLayer(network, \n",
    "                                         num_filters=32,\n",
    "                                         filter_size=(5, 5),\n",
    "                                         nonlinearity=lasagne.nonlinearities.rectify)\n",
    "    network = lasagne.layers.MaxPool2DLayer(network, pool_size=(2, 2))\n",
    "    network = lasagne.layers.DenseLayer(lasagne.layers.dropout(network, p=.5),\n",
    "                                        num_units=256,\n",
    "                                        nonlinearity=lasagne.nonlinearities.rectify)\n",
    "    network = lasagne.layers.DenseLayer(lasagne.layers.dropout(network, p=.5),\n",
    "                                        num_units=10,\n",
    "                                        nonlinearity=lasagne.nonlinearities.softmax)\n",
    "    return network"
   ]
  },
  {
   "cell_type": "code",
   "execution_count": 69,
   "metadata": {
    "collapsed": false,
    "deletable": true,
    "editable": true
   },
   "outputs": [],
   "source": [
    "# Prepare Theano variables for inputs and targets\n",
    "input_var = T.matrix('inputs')\n",
    "target_var = T.ivector('targets')\n",
    "\n",
    "# Create neural network model\n",
    "network = build_mlp(input_var)\n",
    "prediction = lasagne.layers.get_output(network)\n",
    "loss = lasagne.objectives.categorical_crossentropy(prediction, target_var)\n",
    "loss = loss.mean()\n",
    "params = lasagne.layers.get_all_params(network, trainable=True)\n",
    "updates = lasagne.updates.nesterov_momentum(loss,\n",
    "                                            params,\n",
    "                                            learning_rate=0.01, \n",
    "                                            momentum=0.9)\n",
    "# Monitoring progress during training\n",
    "test_prediction = lasagne.layers.get_output(network, deterministic=True)\n",
    "test_loss = lasagne.objectives.categorical_crossentropy(test_prediction,\n",
    "                                                        target_var)\n",
    "test_loss = test_loss.mean()\n",
    "test_acc = T.mean(T.eq(T.argmax(test_prediction, axis=1), target_var),\n",
    "                  dtype=theano.config.floatX)\n",
    "\n",
    "# Compilation\n",
    "train_fn = theano.function([input_var, target_var], loss, updates=updates, allow_input_downcast=True)\n",
    "val_fn = theano.function([input_var, target_var], [test_loss, test_acc], allow_input_downcast=True)"
   ]
  },
  {
   "cell_type": "code",
   "execution_count": 70,
   "metadata": {
    "collapsed": false,
    "deletable": true,
    "editable": true
   },
   "outputs": [
    {
     "name": "stdout",
     "output_type": "stream",
     "text": [
      "Epoch 1 of 150 took 0.163s\n",
      "  training loss:\t\t2.285353\n",
      "  validation loss:\t\t2.212359\n",
      "  validation accuracy:\t\t31.37 %\n",
      "Epoch 2 of 150 took 0.159s\n",
      "  training loss:\t\t2.227901\n",
      "  validation loss:\t\t2.143126\n",
      "  validation accuracy:\t\t57.70 %\n",
      "Epoch 3 of 150 took 0.159s\n",
      "  training loss:\t\t2.146845\n",
      "  validation loss:\t\t2.059100\n",
      "  validation accuracy:\t\t64.15 %\n",
      "Epoch 4 of 150 took 0.163s\n",
      "  training loss:\t\t2.037413\n",
      "  validation loss:\t\t1.962324\n",
      "  validation accuracy:\t\t72.83 %\n",
      "Epoch 5 of 150 took 0.170s\n",
      "  training loss:\t\t1.904458\n",
      "  validation loss:\t\t1.857066\n",
      "  validation accuracy:\t\t74.51 %\n",
      "Epoch 6 of 150 took 0.174s\n",
      "  training loss:\t\t1.822604\n",
      "  validation loss:\t\t1.745607\n",
      "  validation accuracy:\t\t71.99 %\n",
      "Epoch 7 of 150 took 0.186s\n",
      "  training loss:\t\t1.694956\n",
      "  validation loss:\t\t1.631729\n",
      "  validation accuracy:\t\t69.19 %\n",
      "Epoch 8 of 150 took 0.171s\n",
      "  training loss:\t\t1.548572\n",
      "  validation loss:\t\t1.518051\n",
      "  validation accuracy:\t\t68.35 %\n",
      "Epoch 9 of 150 took 0.157s\n",
      "  training loss:\t\t1.450668\n",
      "  validation loss:\t\t1.406443\n",
      "  validation accuracy:\t\t68.63 %\n",
      "Epoch 10 of 150 took 0.157s\n",
      "  training loss:\t\t1.326449\n",
      "  validation loss:\t\t1.298939\n",
      "  validation accuracy:\t\t68.63 %\n",
      "Epoch 11 of 150 took 0.157s\n",
      "  training loss:\t\t1.233743\n",
      "  validation loss:\t\t1.197318\n",
      "  validation accuracy:\t\t68.91 %\n",
      "Epoch 12 of 150 took 0.159s\n",
      "  training loss:\t\t1.123873\n",
      "  validation loss:\t\t1.102843\n",
      "  validation accuracy:\t\t68.91 %\n",
      "Epoch 13 of 150 took 0.171s\n",
      "  training loss:\t\t1.033302\n",
      "  validation loss:\t\t1.016627\n",
      "  validation accuracy:\t\t69.19 %\n",
      "Epoch 14 of 150 took 0.186s\n",
      "  training loss:\t\t0.950922\n",
      "  validation loss:\t\t0.939098\n",
      "  validation accuracy:\t\t69.75 %\n",
      "Epoch 15 of 150 took 0.173s\n",
      "  training loss:\t\t0.893432\n",
      "  validation loss:\t\t0.870494\n",
      "  validation accuracy:\t\t71.15 %\n",
      "Epoch 16 of 150 took 0.167s\n",
      "  training loss:\t\t0.802482\n",
      "  validation loss:\t\t0.810049\n",
      "  validation accuracy:\t\t72.55 %\n",
      "Epoch 17 of 150 took 0.180s\n",
      "  training loss:\t\t0.757846\n",
      "  validation loss:\t\t0.757125\n",
      "  validation accuracy:\t\t74.23 %\n",
      "Epoch 18 of 150 took 0.177s\n",
      "  training loss:\t\t0.728871\n",
      "  validation loss:\t\t0.711550\n",
      "  validation accuracy:\t\t75.07 %\n",
      "Epoch 19 of 150 took 0.164s\n",
      "  training loss:\t\t0.689758\n",
      "  validation loss:\t\t0.672225\n",
      "  validation accuracy:\t\t75.63 %\n",
      "Epoch 20 of 150 took 0.157s\n",
      "  training loss:\t\t0.664714\n",
      "  validation loss:\t\t0.638294\n",
      "  validation accuracy:\t\t75.91 %\n",
      "Epoch 21 of 150 took 0.158s\n",
      "  training loss:\t\t0.636131\n",
      "  validation loss:\t\t0.609722\n",
      "  validation accuracy:\t\t77.03 %\n",
      "Epoch 22 of 150 took 0.156s\n",
      "  training loss:\t\t0.601301\n",
      "  validation loss:\t\t0.585761\n",
      "  validation accuracy:\t\t76.75 %\n",
      "Epoch 23 of 150 took 0.160s\n",
      "  training loss:\t\t0.601891\n",
      "  validation loss:\t\t0.565780\n",
      "  validation accuracy:\t\t77.87 %\n",
      "Epoch 24 of 150 took 0.163s\n",
      "  training loss:\t\t0.574271\n",
      "  validation loss:\t\t0.549197\n",
      "  validation accuracy:\t\t78.43 %\n",
      "Epoch 25 of 150 took 0.173s\n",
      "  training loss:\t\t0.557862\n",
      "  validation loss:\t\t0.535382\n",
      "  validation accuracy:\t\t78.43 %\n",
      "Epoch 26 of 150 took 0.166s\n",
      "  training loss:\t\t0.546599\n",
      "  validation loss:\t\t0.523888\n",
      "  validation accuracy:\t\t77.87 %\n",
      "Epoch 27 of 150 took 0.159s\n",
      "  training loss:\t\t0.549280\n",
      "  validation loss:\t\t0.514214\n",
      "  validation accuracy:\t\t77.87 %\n",
      "Epoch 28 of 150 took 0.158s\n",
      "  training loss:\t\t0.522793\n",
      "  validation loss:\t\t0.506093\n",
      "  validation accuracy:\t\t78.43 %\n",
      "Epoch 29 of 150 took 0.158s\n",
      "  training loss:\t\t0.543343\n",
      "  validation loss:\t\t0.499227\n",
      "  validation accuracy:\t\t79.27 %\n",
      "Epoch 30 of 150 took 0.164s\n",
      "  training loss:\t\t0.517590\n",
      "  validation loss:\t\t0.493363\n",
      "  validation accuracy:\t\t78.99 %\n",
      "Epoch 31 of 150 took 0.177s\n",
      "  training loss:\t\t0.516744\n",
      "  validation loss:\t\t0.488215\n",
      "  validation accuracy:\t\t78.99 %\n",
      "Epoch 32 of 150 took 0.166s\n",
      "  training loss:\t\t0.522477\n",
      "  validation loss:\t\t0.483731\n",
      "  validation accuracy:\t\t78.99 %\n",
      "Epoch 33 of 150 took 0.159s\n",
      "  training loss:\t\t0.518256\n",
      "  validation loss:\t\t0.479865\n",
      "  validation accuracy:\t\t78.99 %\n",
      "Epoch 34 of 150 took 0.158s\n",
      "  training loss:\t\t0.521927\n",
      "  validation loss:\t\t0.476474\n",
      "  validation accuracy:\t\t79.27 %\n",
      "Epoch 35 of 150 took 0.160s\n",
      "  training loss:\t\t0.497284\n",
      "  validation loss:\t\t0.473459\n",
      "  validation accuracy:\t\t79.27 %\n",
      "Epoch 36 of 150 took 0.179s\n",
      "  training loss:\t\t0.490310\n",
      "  validation loss:\t\t0.470730\n",
      "  validation accuracy:\t\t79.83 %\n",
      "Epoch 37 of 150 took 0.177s\n",
      "  training loss:\t\t0.528951\n",
      "  validation loss:\t\t0.468401\n",
      "  validation accuracy:\t\t79.55 %\n",
      "Epoch 38 of 150 took 0.160s\n",
      "  training loss:\t\t0.494125\n",
      "  validation loss:\t\t0.466488\n",
      "  validation accuracy:\t\t79.55 %\n",
      "Epoch 39 of 150 took 0.159s\n",
      "  training loss:\t\t0.504936\n",
      "  validation loss:\t\t0.464842\n",
      "  validation accuracy:\t\t79.83 %\n",
      "Epoch 40 of 150 took 0.158s\n",
      "  training loss:\t\t0.494341\n",
      "  validation loss:\t\t0.463361\n",
      "  validation accuracy:\t\t80.11 %\n",
      "Epoch 41 of 150 took 0.158s\n",
      "  training loss:\t\t0.488574\n",
      "  validation loss:\t\t0.461956\n",
      "  validation accuracy:\t\t80.11 %\n",
      "Epoch 42 of 150 took 0.158s\n",
      "  training loss:\t\t0.474424\n",
      "  validation loss:\t\t0.460608\n",
      "  validation accuracy:\t\t80.39 %\n",
      "Epoch 43 of 150 took 0.162s\n",
      "  training loss:\t\t0.506720\n",
      "  validation loss:\t\t0.459499\n",
      "  validation accuracy:\t\t80.39 %\n",
      "Epoch 44 of 150 took 0.172s\n",
      "  training loss:\t\t0.481031\n",
      "  validation loss:\t\t0.458294\n",
      "  validation accuracy:\t\t80.95 %\n",
      "Epoch 45 of 150 took 0.160s\n",
      "  training loss:\t\t0.508067\n",
      "  validation loss:\t\t0.457179\n",
      "  validation accuracy:\t\t80.95 %\n",
      "Epoch 46 of 150 took 0.157s\n",
      "  training loss:\t\t0.519814\n",
      "  validation loss:\t\t0.456170\n",
      "  validation accuracy:\t\t81.23 %\n",
      "Epoch 47 of 150 took 0.157s\n",
      "  training loss:\t\t0.489033\n",
      "  validation loss:\t\t0.455348\n",
      "  validation accuracy:\t\t81.23 %\n",
      "Epoch 48 of 150 took 0.160s\n",
      "  training loss:\t\t0.501004\n",
      "  validation loss:\t\t0.454309\n",
      "  validation accuracy:\t\t81.23 %\n",
      "Epoch 49 of 150 took 0.163s\n",
      "  training loss:\t\t0.510083\n",
      "  validation loss:\t\t0.453428\n",
      "  validation accuracy:\t\t81.23 %\n",
      "Epoch 50 of 150 took 0.163s\n",
      "  training loss:\t\t0.491322\n",
      "  validation loss:\t\t0.452639\n",
      "  validation accuracy:\t\t81.23 %\n",
      "Epoch 51 of 150 took 0.157s\n",
      "  training loss:\t\t0.481169\n",
      "  validation loss:\t\t0.451828\n",
      "  validation accuracy:\t\t81.23 %\n",
      "Epoch 52 of 150 took 0.157s\n",
      "  training loss:\t\t0.485884\n",
      "  validation loss:\t\t0.451194\n",
      "  validation accuracy:\t\t81.23 %\n",
      "Epoch 53 of 150 took 0.157s\n",
      "  training loss:\t\t0.492399\n",
      "  validation loss:\t\t0.450656\n",
      "  validation accuracy:\t\t81.51 %\n",
      "Epoch 54 of 150 took 0.157s\n",
      "  training loss:\t\t0.495698\n",
      "  validation loss:\t\t0.450210\n",
      "  validation accuracy:\t\t81.51 %\n",
      "Epoch 55 of 150 took 0.158s\n",
      "  training loss:\t\t0.483570\n",
      "  validation loss:\t\t0.449873\n",
      "  validation accuracy:\t\t81.51 %\n",
      "Epoch 56 of 150 took 0.161s\n",
      "  training loss:\t\t0.494810\n",
      "  validation loss:\t\t0.449688\n",
      "  validation accuracy:\t\t81.23 %\n",
      "Epoch 57 of 150 took 0.159s\n",
      "  training loss:\t\t0.502362\n",
      "  validation loss:\t\t0.449362\n",
      "  validation accuracy:\t\t81.23 %\n",
      "Epoch 58 of 150 took 0.158s\n",
      "  training loss:\t\t0.498184\n",
      "  validation loss:\t\t0.449109\n",
      "  validation accuracy:\t\t81.23 %\n",
      "Epoch 59 of 150 took 0.158s\n",
      "  training loss:\t\t0.479276\n",
      "  validation loss:\t\t0.448903\n",
      "  validation accuracy:\t\t81.23 %\n",
      "Epoch 60 of 150 took 0.158s\n",
      "  training loss:\t\t0.482507\n",
      "  validation loss:\t\t0.448686\n",
      "  validation accuracy:\t\t81.23 %\n",
      "Epoch 61 of 150 took 0.159s\n",
      "  training loss:\t\t0.513435\n",
      "  validation loss:\t\t0.448434\n",
      "  validation accuracy:\t\t81.23 %\n",
      "Epoch 62 of 150 took 0.161s\n",
      "  training loss:\t\t0.483100\n",
      "  validation loss:\t\t0.448155\n",
      "  validation accuracy:\t\t81.23 %\n",
      "Epoch 63 of 150 took 0.158s\n",
      "  training loss:\t\t0.466657\n",
      "  validation loss:\t\t0.447757\n",
      "  validation accuracy:\t\t81.23 %\n",
      "Epoch 64 of 150 took 0.164s\n",
      "  training loss:\t\t0.478508\n",
      "  validation loss:\t\t0.447487\n",
      "  validation accuracy:\t\t81.23 %\n",
      "Epoch 65 of 150 took 0.157s\n",
      "  training loss:\t\t0.469148\n",
      "  validation loss:\t\t0.447244\n",
      "  validation accuracy:\t\t81.23 %\n",
      "Epoch 66 of 150 took 0.157s\n",
      "  training loss:\t\t0.463265\n",
      "  validation loss:\t\t0.446965\n",
      "  validation accuracy:\t\t81.23 %\n",
      "Epoch 67 of 150 took 0.157s\n",
      "  training loss:\t\t0.472104\n",
      "  validation loss:\t\t0.446721\n",
      "  validation accuracy:\t\t81.23 %\n",
      "Epoch 68 of 150 took 0.159s\n",
      "  training loss:\t\t0.497946\n",
      "  validation loss:\t\t0.446496\n",
      "  validation accuracy:\t\t81.23 %\n",
      "Epoch 69 of 150 took 0.157s\n",
      "  training loss:\t\t0.484970\n",
      "  validation loss:\t\t0.446270\n",
      "  validation accuracy:\t\t81.23 %\n",
      "Epoch 70 of 150 took 0.158s\n",
      "  training loss:\t\t0.488165\n",
      "  validation loss:\t\t0.446050\n",
      "  validation accuracy:\t\t81.23 %\n",
      "Epoch 71 of 150 took 0.160s\n",
      "  training loss:\t\t0.481858\n",
      "  validation loss:\t\t0.445801\n",
      "  validation accuracy:\t\t81.23 %\n",
      "Epoch 72 of 150 took 0.158s\n",
      "  training loss:\t\t0.492300\n",
      "  validation loss:\t\t0.445769\n",
      "  validation accuracy:\t\t81.51 %\n",
      "Epoch 73 of 150 took 0.159s\n",
      "  training loss:\t\t0.472017\n",
      "  validation loss:\t\t0.445678\n",
      "  validation accuracy:\t\t81.51 %\n",
      "Epoch 74 of 150 took 0.163s\n",
      "  training loss:\t\t0.495542\n",
      "  validation loss:\t\t0.445468\n",
      "  validation accuracy:\t\t81.51 %\n",
      "Epoch 75 of 150 took 0.165s\n",
      "  training loss:\t\t0.473663\n",
      "  validation loss:\t\t0.445399\n",
      "  validation accuracy:\t\t81.51 %\n",
      "Epoch 76 of 150 took 0.160s\n",
      "  training loss:\t\t0.471393\n",
      "  validation loss:\t\t0.445408\n",
      "  validation accuracy:\t\t81.23 %\n",
      "Epoch 77 of 150 took 0.158s\n",
      "  training loss:\t\t0.465390\n",
      "  validation loss:\t\t0.445325\n",
      "  validation accuracy:\t\t81.51 %\n",
      "Epoch 78 of 150 took 0.159s\n",
      "  training loss:\t\t0.475199\n",
      "  validation loss:\t\t0.445270\n",
      "  validation accuracy:\t\t81.51 %\n",
      "Epoch 79 of 150 took 0.161s\n",
      "  training loss:\t\t0.522284\n",
      "  validation loss:\t\t0.445355\n",
      "  validation accuracy:\t\t81.51 %\n",
      "Epoch 80 of 150 took 0.164s\n",
      "  training loss:\t\t0.487453\n",
      "  validation loss:\t\t0.445205\n",
      "  validation accuracy:\t\t81.51 %\n",
      "Epoch 81 of 150 took 0.172s\n",
      "  training loss:\t\t0.503975\n",
      "  validation loss:\t\t0.445195\n",
      "  validation accuracy:\t\t81.51 %\n",
      "Epoch 82 of 150 took 0.176s\n",
      "  training loss:\t\t0.494792\n",
      "  validation loss:\t\t0.444850\n",
      "  validation accuracy:\t\t81.51 %\n",
      "Epoch 83 of 150 took 0.165s\n",
      "  training loss:\t\t0.478374\n",
      "  validation loss:\t\t0.444515\n",
      "  validation accuracy:\t\t81.51 %\n",
      "Epoch 84 of 150 took 0.158s\n",
      "  training loss:\t\t0.474989\n",
      "  validation loss:\t\t0.444222\n",
      "  validation accuracy:\t\t81.51 %\n",
      "Epoch 85 of 150 took 0.160s\n",
      "  training loss:\t\t0.506064\n",
      "  validation loss:\t\t0.443968\n",
      "  validation accuracy:\t\t81.51 %\n",
      "Epoch 86 of 150 took 0.160s\n",
      "  training loss:\t\t0.497963\n",
      "  validation loss:\t\t0.443680\n",
      "  validation accuracy:\t\t81.51 %\n",
      "Epoch 87 of 150 took 0.162s\n",
      "  training loss:\t\t0.477319\n",
      "  validation loss:\t\t0.443487\n",
      "  validation accuracy:\t\t81.51 %\n",
      "Epoch 88 of 150 took 0.178s\n",
      "  training loss:\t\t0.481761\n",
      "  validation loss:\t\t0.443339\n",
      "  validation accuracy:\t\t81.51 %\n",
      "Epoch 89 of 150 took 0.187s\n",
      "  training loss:\t\t0.509734\n",
      "  validation loss:\t\t0.443417\n",
      "  validation accuracy:\t\t81.51 %\n",
      "Epoch 90 of 150 took 0.161s\n",
      "  training loss:\t\t0.460463\n",
      "  validation loss:\t\t0.443292\n",
      "  validation accuracy:\t\t81.51 %\n",
      "Epoch 91 of 150 took 0.159s\n",
      "  training loss:\t\t0.475363\n",
      "  validation loss:\t\t0.443259\n",
      "  validation accuracy:\t\t81.79 %\n",
      "Epoch 92 of 150 took 0.160s\n",
      "  training loss:\t\t0.475795\n",
      "  validation loss:\t\t0.443282\n",
      "  validation accuracy:\t\t81.79 %\n",
      "Epoch 93 of 150 took 0.159s\n",
      "  training loss:\t\t0.496002\n",
      "  validation loss:\t\t0.443176\n",
      "  validation accuracy:\t\t81.79 %\n",
      "Epoch 94 of 150 took 0.157s\n",
      "  training loss:\t\t0.467936\n",
      "  validation loss:\t\t0.442906\n",
      "  validation accuracy:\t\t81.79 %\n",
      "Epoch 95 of 150 took 0.158s\n",
      "  training loss:\t\t0.483777\n",
      "  validation loss:\t\t0.442624\n",
      "  validation accuracy:\t\t81.51 %\n",
      "Epoch 96 of 150 took 0.161s\n",
      "  training loss:\t\t0.492401\n",
      "  validation loss:\t\t0.442325\n",
      "  validation accuracy:\t\t81.51 %\n",
      "Epoch 97 of 150 took 0.158s\n",
      "  training loss:\t\t0.512359\n",
      "  validation loss:\t\t0.442132\n",
      "  validation accuracy:\t\t81.79 %\n",
      "Epoch 98 of 150 took 0.159s\n",
      "  training loss:\t\t0.474050\n",
      "  validation loss:\t\t0.442001\n",
      "  validation accuracy:\t\t81.79 %\n",
      "Epoch 99 of 150 took 0.159s\n",
      "  training loss:\t\t0.475634\n",
      "  validation loss:\t\t0.441767\n",
      "  validation accuracy:\t\t81.79 %\n",
      "Epoch 100 of 150 took 0.158s\n",
      "  training loss:\t\t0.479909\n",
      "  validation loss:\t\t0.441545\n",
      "  validation accuracy:\t\t82.07 %\n",
      "Epoch 101 of 150 took 0.158s\n",
      "  training loss:\t\t0.479493\n",
      "  validation loss:\t\t0.441355\n",
      "  validation accuracy:\t\t82.35 %\n",
      "Epoch 102 of 150 took 0.158s\n",
      "  training loss:\t\t0.497326\n",
      "  validation loss:\t\t0.441273\n",
      "  validation accuracy:\t\t82.35 %\n",
      "Epoch 103 of 150 took 0.158s\n",
      "  training loss:\t\t0.463963\n",
      "  validation loss:\t\t0.441190\n",
      "  validation accuracy:\t\t82.35 %\n",
      "Epoch 104 of 150 took 0.159s\n",
      "  training loss:\t\t0.501687\n",
      "  validation loss:\t\t0.441163\n",
      "  validation accuracy:\t\t82.35 %\n",
      "Epoch 105 of 150 took 0.158s\n",
      "  training loss:\t\t0.481268\n",
      "  validation loss:\t\t0.441207\n",
      "  validation accuracy:\t\t81.79 %\n",
      "Epoch 106 of 150 took 0.159s\n",
      "  training loss:\t\t0.468101\n",
      "  validation loss:\t\t0.441281\n",
      "  validation accuracy:\t\t81.51 %\n",
      "Epoch 107 of 150 took 0.158s\n",
      "  training loss:\t\t0.474839\n",
      "  validation loss:\t\t0.441312\n",
      "  validation accuracy:\t\t81.51 %\n",
      "Epoch 108 of 150 took 0.158s\n",
      "  training loss:\t\t0.486238\n",
      "  validation loss:\t\t0.441295\n",
      "  validation accuracy:\t\t81.51 %\n",
      "Epoch 109 of 150 took 0.158s\n",
      "  training loss:\t\t0.501122\n",
      "  validation loss:\t\t0.441397\n",
      "  validation accuracy:\t\t81.51 %\n",
      "Epoch 110 of 150 took 0.161s\n",
      "  training loss:\t\t0.478911\n",
      "  validation loss:\t\t0.441357\n",
      "  validation accuracy:\t\t81.51 %\n",
      "Epoch 111 of 150 took 0.176s\n",
      "  training loss:\t\t0.488925\n",
      "  validation loss:\t\t0.441183\n",
      "  validation accuracy:\t\t81.51 %\n",
      "Epoch 112 of 150 took 0.165s\n",
      "  training loss:\t\t0.487239\n",
      "  validation loss:\t\t0.440956\n",
      "  validation accuracy:\t\t81.79 %\n",
      "Epoch 113 of 150 took 0.158s\n",
      "  training loss:\t\t0.473942\n",
      "  validation loss:\t\t0.440736\n",
      "  validation accuracy:\t\t82.07 %\n",
      "Epoch 114 of 150 took 0.159s\n",
      "  training loss:\t\t0.469247\n",
      "  validation loss:\t\t0.440470\n",
      "  validation accuracy:\t\t82.07 %\n",
      "Epoch 115 of 150 took 0.158s\n",
      "  training loss:\t\t0.495294\n",
      "  validation loss:\t\t0.440237\n",
      "  validation accuracy:\t\t82.07 %\n",
      "Epoch 116 of 150 took 0.158s\n",
      "  training loss:\t\t0.468643\n",
      "  validation loss:\t\t0.440007\n",
      "  validation accuracy:\t\t82.07 %\n",
      "Epoch 117 of 150 took 0.159s\n",
      "  training loss:\t\t0.466418\n",
      "  validation loss:\t\t0.439770\n",
      "  validation accuracy:\t\t82.07 %\n",
      "Epoch 118 of 150 took 0.160s\n",
      "  training loss:\t\t0.463019\n",
      "  validation loss:\t\t0.439667\n",
      "  validation accuracy:\t\t82.07 %\n",
      "Epoch 119 of 150 took 0.158s\n",
      "  training loss:\t\t0.478040\n",
      "  validation loss:\t\t0.439562\n",
      "  validation accuracy:\t\t82.07 %\n",
      "Epoch 120 of 150 took 0.169s\n",
      "  training loss:\t\t0.496185\n",
      "  validation loss:\t\t0.439471\n",
      "  validation accuracy:\t\t82.07 %\n",
      "Epoch 121 of 150 took 0.158s\n",
      "  training loss:\t\t0.456717\n",
      "  validation loss:\t\t0.439301\n",
      "  validation accuracy:\t\t82.07 %\n",
      "Epoch 122 of 150 took 0.160s\n",
      "  training loss:\t\t0.459554\n",
      "  validation loss:\t\t0.439096\n",
      "  validation accuracy:\t\t82.07 %\n",
      "Epoch 123 of 150 took 0.159s\n",
      "  training loss:\t\t0.482086\n",
      "  validation loss:\t\t0.438986\n",
      "  validation accuracy:\t\t82.07 %\n",
      "Epoch 124 of 150 took 0.159s\n",
      "  training loss:\t\t0.455016\n",
      "  validation loss:\t\t0.438938\n",
      "  validation accuracy:\t\t82.07 %\n",
      "Epoch 125 of 150 took 0.159s\n",
      "  training loss:\t\t0.459738\n",
      "  validation loss:\t\t0.439012\n",
      "  validation accuracy:\t\t82.07 %\n",
      "Epoch 126 of 150 took 0.158s\n",
      "  training loss:\t\t0.478097\n",
      "  validation loss:\t\t0.439100\n",
      "  validation accuracy:\t\t82.07 %\n",
      "Epoch 127 of 150 took 0.158s\n",
      "  training loss:\t\t0.458591\n",
      "  validation loss:\t\t0.439249\n",
      "  validation accuracy:\t\t82.07 %\n",
      "Epoch 128 of 150 took 0.158s\n",
      "  training loss:\t\t0.506560\n",
      "  validation loss:\t\t0.439415\n",
      "  validation accuracy:\t\t81.79 %\n",
      "Epoch 129 of 150 took 0.158s\n",
      "  training loss:\t\t0.474105\n",
      "  validation loss:\t\t0.439738\n",
      "  validation accuracy:\t\t81.79 %\n",
      "Epoch 130 of 150 took 0.158s\n",
      "  training loss:\t\t0.476788\n",
      "  validation loss:\t\t0.439737\n",
      "  validation accuracy:\t\t81.51 %\n",
      "Epoch 131 of 150 took 0.159s\n",
      "  training loss:\t\t0.471897\n",
      "  validation loss:\t\t0.439696\n",
      "  validation accuracy:\t\t81.51 %\n",
      "Epoch 132 of 150 took 0.158s\n",
      "  training loss:\t\t0.478516\n",
      "  validation loss:\t\t0.439594\n",
      "  validation accuracy:\t\t81.51 %\n",
      "Epoch 133 of 150 took 0.158s\n",
      "  training loss:\t\t0.475989\n",
      "  validation loss:\t\t0.439483\n",
      "  validation accuracy:\t\t81.51 %\n",
      "Epoch 134 of 150 took 0.158s\n",
      "  training loss:\t\t0.470521\n",
      "  validation loss:\t\t0.439297\n",
      "  validation accuracy:\t\t81.51 %\n",
      "Epoch 135 of 150 took 0.158s\n",
      "  training loss:\t\t0.481412\n",
      "  validation loss:\t\t0.439032\n",
      "  validation accuracy:\t\t81.51 %\n",
      "Epoch 136 of 150 took 0.159s\n",
      "  training loss:\t\t0.473909\n",
      "  validation loss:\t\t0.438698\n",
      "  validation accuracy:\t\t81.79 %\n",
      "Epoch 137 of 150 took 0.159s\n",
      "  training loss:\t\t0.474132\n",
      "  validation loss:\t\t0.438378\n",
      "  validation accuracy:\t\t81.51 %\n",
      "Epoch 138 of 150 took 0.159s\n",
      "  training loss:\t\t0.476966\n",
      "  validation loss:\t\t0.438237\n",
      "  validation accuracy:\t\t81.51 %\n",
      "Epoch 139 of 150 took 0.158s\n",
      "  training loss:\t\t0.502454\n",
      "  validation loss:\t\t0.437844\n",
      "  validation accuracy:\t\t82.07 %\n",
      "Epoch 140 of 150 took 0.158s\n",
      "  training loss:\t\t0.487899\n",
      "  validation loss:\t\t0.437636\n",
      "  validation accuracy:\t\t82.35 %\n",
      "Epoch 141 of 150 took 0.158s\n",
      "  training loss:\t\t0.479045\n",
      "  validation loss:\t\t0.437492\n",
      "  validation accuracy:\t\t82.63 %\n",
      "Epoch 142 of 150 took 0.158s\n",
      "  training loss:\t\t0.481150\n",
      "  validation loss:\t\t0.437563\n",
      "  validation accuracy:\t\t82.63 %\n",
      "Epoch 143 of 150 took 0.161s\n",
      "  training loss:\t\t0.478488\n",
      "  validation loss:\t\t0.437506\n",
      "  validation accuracy:\t\t82.63 %\n",
      "Epoch 144 of 150 took 0.159s\n",
      "  training loss:\t\t0.470712\n",
      "  validation loss:\t\t0.437460\n",
      "  validation accuracy:\t\t82.63 %\n",
      "Epoch 145 of 150 took 0.159s\n",
      "  training loss:\t\t0.453398\n",
      "  validation loss:\t\t0.437446\n",
      "  validation accuracy:\t\t82.63 %\n",
      "Epoch 146 of 150 took 0.158s\n",
      "  training loss:\t\t0.483145\n",
      "  validation loss:\t\t0.437467\n",
      "  validation accuracy:\t\t82.35 %\n",
      "Epoch 147 of 150 took 0.161s\n",
      "  training loss:\t\t0.479346\n",
      "  validation loss:\t\t0.437519\n",
      "  validation accuracy:\t\t82.35 %\n",
      "Epoch 148 of 150 took 0.172s\n",
      "  training loss:\t\t0.454360\n",
      "  validation loss:\t\t0.437535\n",
      "  validation accuracy:\t\t82.63 %\n",
      "Epoch 149 of 150 took 0.182s\n",
      "  training loss:\t\t0.475904\n",
      "  validation loss:\t\t0.437622\n",
      "  validation accuracy:\t\t82.63 %\n",
      "Epoch 150 of 150 took 0.171s\n",
      "  training loss:\t\t0.479071\n",
      "  validation loss:\t\t0.437642\n",
      "  validation accuracy:\t\t82.63 %\n"
     ]
    }
   ],
   "source": [
    "num_epochs = 150\n",
    "for epoch in range(num_epochs):\n",
    "    # In each epoch, we do a full pass over the training data:\n",
    "    train_err = 0\n",
    "    start_time = time.time()\n",
    "    inputs, targets = X_traincv, y_traincv\n",
    "    train_err += train_fn(inputs, targets)\n",
    "    \n",
    "    # And a full pass over the validation data:\n",
    "    val_err = 0\n",
    "    val_acc = 0\n",
    "    inputs, targets = X_testcv, y_testcv\n",
    "    err, acc = val_fn(inputs, targets)\n",
    "    val_err += err\n",
    "    val_acc += acc\n",
    "    \n",
    "    # Then we print the results for this epoch:\n",
    "    print(\"Epoch {} of {} took {:.3f}s\".format(epoch + 1, num_epochs, time.time() - start_time))\n",
    "    print(\"  training loss:\\t\\t{:.6f}\".format(train_err))\n",
    "    print(\"  validation loss:\\t\\t{:.6f}\".format(val_err))\n",
    "    print(\"  validation accuracy:\\t\\t{:.2f} %\".format(val_acc * 100))"
   ]
  },
  {
   "cell_type": "code",
   "execution_count": 71,
   "metadata": {
    "collapsed": false,
    "deletable": true,
    "editable": true
   },
   "outputs": [
    {
     "name": "stdout",
     "output_type": "stream",
     "text": [
      "Final results:\n",
      "  test loss:\t\t\t0.437642\n",
      "  test accuracy:\t\t82.63 %\n"
     ]
    }
   ],
   "source": [
    "test_err = 0\n",
    "test_acc = 0\n",
    "inputs, targets = X_testcv, y_testcv\n",
    "err, acc = val_fn(inputs, targets)\n",
    "test_err += err\n",
    "test_acc += acc\n",
    "print(\"Final results:\")\n",
    "print(\"  test loss:\\t\\t\\t{:.6f}\".format(test_err))\n",
    "print(\"  test accuracy:\\t\\t{:.2f} %\".format(test_acc * 100))"
   ]
  },
  {
   "cell_type": "markdown",
   "metadata": {
    "deletable": true,
    "editable": true
   },
   "source": [
    "#### Voting Classifier"
   ]
  },
  {
   "cell_type": "code",
   "execution_count": 72,
   "metadata": {
    "collapsed": false,
    "deletable": true,
    "editable": true
   },
   "outputs": [
    {
     "name": "stdout",
     "output_type": "stream",
     "text": [
      "Classification Report\n",
      "                precision    recall  f1-score   support\n",
      "\n",
      "Não Sobreviveu       0.83      0.90      0.86       221\n",
      "    Sobreviveu       0.82      0.69      0.75       136\n",
      "\n",
      "   avg / total       0.82      0.82      0.82       357\n",
      "\n",
      "ROC Score: 0.7980769230769231\n",
      "Accuracy Score: 0.8235294117647058\n",
      "Average Precision Score: 0.8131074168797954\n",
      "f1 Score: 0.7490039840637451\n",
      "Confusion matrix, without normalization\n",
      "[[200  21]\n",
      " [ 42  94]]\n"
     ]
    },
    {
     "data": {
      "image/png": "[encoded data removed]",
      "text/plain": [
       "<matplotlib.figure.Figure at 0x7fb5e5770748>"
      ]
     },
     "metadata": {},
     "output_type": "display_data"
    }
   ],
   "source": [
    "from sklearn.ensemble import VotingClassifier \n",
    "#http://scikit-learn.org/stable/modules/ensemble.html#votingclassifier\n",
    "\n",
    "ensemble = VotingClassifier(estimators=[#('clf_sgdc', clf_sgdc),\n",
    "                                        ('clf_lgr', clf_lr),\n",
    "                                        #('clf_rdg', clf_rdg),\n",
    "                                        ('clf_bgc', clf_bgc),\n",
    "                                        ('clf_etc', clf_etc),\n",
    "                                        ('clf_abc', clf_abc),\n",
    "                                        #('clf_pct', clf_pcp),\n",
    "                                        ('clf_xgb', clf_xgb),\n",
    "                                        ('clf_rf', clf_rf),\n",
    "                                        ('clf_etc', clf_etc),\n",
    "                                        ('clf_knn', clf_knn),\n",
    "                                        ],\n",
    "                            voting='soft',\n",
    "                            weights=[1,2,1,6,1,3,1,1]).fit(X_traincv, y_traincv)\n",
    "\n",
    "roc_ens = clf_eval(ensemble, X_testcv, y_testcv)"
   ]
  },
  {
   "cell_type": "markdown",
   "metadata": {
    "deletable": true,
    "editable": true
   },
   "source": [
    "### Plotting the results:  "
   ]
  },
  {
   "cell_type": "code",
   "execution_count": 73,
   "metadata": {
    "collapsed": false,
    "deletable": true,
    "editable": true
   },
   "outputs": [
    {
     "data": {
      "image/png": "[encoded data removed]",
      "text/plain": [
       "<matplotlib.figure.Figure at 0x7fb5e451e898>"
      ]
     },
     "metadata": {},
     "output_type": "display_data"
    }
   ],
   "source": [
    "dic_results = {'SVM': roc_svc2,\n",
    "               'RandomForest': roc_rf,\n",
    "               'DecisionTree': roc_dtc,\n",
    "               'ExtraTree': roc_etc,\n",
    "               'AdaBoost': roc_abc,\n",
    "               'GradBoost': roc_gbc,\n",
    "               'SGDC': roc_sgdc,\n",
    "               'Ridge': roc_rdg,\n",
    "               'Perceptron': roc_pcp,\n",
    "               'PassAgre': roc_pac,\n",
    "               'LogiReg': roc_lr,\n",
    "               'GaussianNB': roc_gnb,\n",
    "               'BernouNB': roc_bnb,\n",
    "               'NoLearn_Lasagne': roc_lsgn,\n",
    "               #'Theano': roc_thn,\n",
    "               'XGBoost':roc_xgb,\n",
    "               'Knn':roc_knn,\n",
    "               'Keras+Tflow': roc_keras,\n",
    "               'Bagging': roc_bgc,\n",
    "               'Voting': roc_ens, \n",
    "              }\n",
    "\n",
    "import operator\n",
    "tup_results = sorted(dic_results.items(), key=operator.itemgetter(1))\n",
    "\n",
    "N = len(dic_results)\n",
    "ind = np.arange(N)  # the x locations for the groups\n",
    "width = 0.40       # the width of the bars\n",
    "\n",
    "fig = plt.figure(figsize=(12,8))\n",
    "ax = fig.add_subplot(111)\n",
    "rects = ax.bar(ind+0.7, list(zip(*tup_results))[1], width,)\n",
    "for rect in rects:\n",
    "    height = rect.get_height()\n",
    "    ax.text(rect.get_x()+rect.get_width()/2., \n",
    "            1.005*height, \n",
    "            '{0:.4f}'.format(height), \n",
    "            ha='center', \n",
    "            va='bottom',)\n",
    "\n",
    "ax.set_ylabel('Scores')\n",
    "ax.set_ylim(ymin=0.65,ymax = 0.85)\n",
    "ax.set_title(\"Classificators' performance\")\n",
    "ax.set_xticks(ind + width/2.)\n",
    "ax.set_xticklabels(list(zip(*tup_results))[0], rotation=45)\n",
    "\n",
    "plt.show()"
   ]
  },
  {
   "cell_type": "markdown",
   "metadata": {
    "deletable": true,
    "editable": true
   },
   "source": [
    "Choosing the best classifier and training with all training data:"
   ]
  },
  {
   "cell_type": "code",
   "execution_count": 74,
   "metadata": {
    "collapsed": false,
    "deletable": true,
    "editable": true
   },
   "outputs": [
    {
     "name": "stdout",
     "output_type": "stream",
     "text": [
      "[ 0.  0.  1.  0.  1.  1.  0.  0.  1.  0.]\n",
      "\n",
      "[[ 0.52717721  0.47282279]\n",
      " [ 0.51256771  0.48743229]\n",
      " [ 0.44637924  0.55362076]\n",
      " [ 0.5840469   0.4159531 ]\n",
      " [ 0.46976686  0.53023314]\n",
      " [ 0.48510112  0.51489888]\n",
      " [ 0.51766736  0.48233264]\n",
      " [ 0.57180148  0.42819852]\n",
      " [ 0.48896583  0.51103417]\n",
      " [ 0.58819799  0.41180201]]\n"
     ]
    }
   ],
   "source": [
    "output = clf_abc.predict(X_test)\n",
    "print(output[10:20])\n",
    "print()\n",
    "output_prob = clf_abc.predict_proba(X_test)\n",
    "print(output_prob[10:20])"
   ]
  }
 ],
 "metadata": {
  "kernelspec": {
   "display_name": "Python 3",
   "language": "python",
   "name": "python3"
  },
  "language_info": {
   "codemirror_mode": {
    "name": "ipython",
    "version": 3
   },
   "file_extension": ".py",
   "mimetype": "text/x-python",
   "name": "python",
   "nbconvert_exporter": "python",
   "pygments_lexer": "ipython3",
   "version": "3.5.2+"
  }
 },
 "nbformat": 4,
 "nbformat_minor": 0
}
