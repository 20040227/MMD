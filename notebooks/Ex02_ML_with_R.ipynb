{
 "cells": [
  {
   "cell_type": "code",
   "execution_count": null,
   "metadata": {
    "collapsed": true
   },
   "outputs": [],
   "source": []
  },
  {
   "cell_type": "markdown",
   "metadata": {},
   "source": [
    "https://datahack.analyticsvidhya.com/contest/practice-problem-loan-prediction-iii/  \n",
    "https://www.analyticsvidhya.com/blog/2016/08/practicing-machine-learning-techniques-in-r-with-mlr-package/  \n",
    "http://mlr-org.github.io/mlr-tutorial/release/html/integrated_learners/  \n"
   ]
  },
  {
   "cell_type": "markdown",
   "metadata": {},
   "source": [
    "### Getting Data"
   ]
  },
  {
   "cell_type": "code",
   "execution_count": 9,
   "metadata": {
    "collapsed": false
   },
   "outputs": [
    {
     "data": {
      "text/html": [
       "'/home/rsouza/MMD/datasets/MLR_Package'"
      ],
      "text/latex": [
       "'/home/rsouza/MMD/datasets/MLR\\_Package'"
      ],
      "text/markdown": [
       "'/home/rsouza/MMD/datasets/MLR_Package'"
      ],
      "text/plain": [
       "[1] \"/home/rsouza/MMD/datasets/MLR_Package\""
      ]
     },
     "execution_count": 9,
     "metadata": {},
     "output_type": "execute_result"
    }
   ],
   "source": [
    "getwd()"
   ]
  },
  {
   "cell_type": "code",
   "execution_count": 12,
   "metadata": {
    "collapsed": false
   },
   "outputs": [],
   "source": [
    "path <- \"/home/rsouza/MMD/datasets/AVidhya/\"\n",
    "setwd(path)"
   ]
  },
  {
   "cell_type": "code",
   "execution_count": 13,
   "metadata": {
    "collapsed": false
   },
   "outputs": [],
   "source": [
    "#load libraries and data\n",
    "#install.packages(\"mlr\")\n",
    "library(mlr)"
   ]
  },
  {
   "cell_type": "code",
   "execution_count": 14,
   "metadata": {
    "collapsed": true
   },
   "outputs": [],
   "source": [
    "train <- read.csv(\"train.csv\", na.strings = c(\"\",\" \",NA))\n",
    "test <- read.csv(\"test.csv\", na.strings = c(\"\",\" \",NA))"
   ]
  },
  {
   "cell_type": "markdown",
   "metadata": {},
   "source": [
    "### Exploring Data"
   ]
  },
  {
   "cell_type": "code",
   "execution_count": 15,
   "metadata": {
    "collapsed": false
   },
   "outputs": [
    {
     "data": {
      "text/html": [
       "<table>\n",
       "<thead><tr><th scope=col>name</th><th scope=col>type</th><th scope=col>na</th><th scope=col>mean</th><th scope=col>disp</th><th scope=col>median</th><th scope=col>mad</th><th scope=col>min</th><th scope=col>max</th><th scope=col>nlevs</th></tr></thead>\n",
       "<tbody>\n",
       "\t<tr><td>Loan_ID          </td><td>factor           </td><td> 0               </td><td>          NA     </td><td>   0.9983713     </td><td>    NA           </td><td>       NA        </td><td>  1              </td><td>    1            </td><td>614              </td></tr>\n",
       "\t<tr><td>Gender           </td><td>factor           </td><td>13               </td><td>          NA     </td><td>          NA     </td><td>    NA           </td><td>       NA        </td><td>112              </td><td>  489            </td><td>  2              </td></tr>\n",
       "\t<tr><td>Married          </td><td>factor           </td><td> 3               </td><td>          NA     </td><td>          NA     </td><td>    NA           </td><td>       NA        </td><td>213              </td><td>  398            </td><td>  2              </td></tr>\n",
       "\t<tr><td>Dependents       </td><td>factor           </td><td>15               </td><td>          NA     </td><td>          NA     </td><td>    NA           </td><td>       NA        </td><td> 51              </td><td>  345            </td><td>  4              </td></tr>\n",
       "\t<tr><td>Education        </td><td>factor           </td><td> 0               </td><td>          NA     </td><td>   0.2182410     </td><td>    NA           </td><td>       NA        </td><td>134              </td><td>  480            </td><td>  2              </td></tr>\n",
       "\t<tr><td>Self_Employed    </td><td>factor           </td><td>32               </td><td>          NA     </td><td>          NA     </td><td>    NA           </td><td>       NA        </td><td> 82              </td><td>  500            </td><td>  2              </td></tr>\n",
       "\t<tr><td>ApplicantIncome  </td><td>integer          </td><td> 0               </td><td>5403.4592834     </td><td>6109.0416734     </td><td>3812.5           </td><td>1822.8567        </td><td>150              </td><td>81000            </td><td>  0              </td></tr>\n",
       "\t<tr><td>CoapplicantIncome</td><td>numeric          </td><td> 0               </td><td>1621.2457980     </td><td>2926.2483692     </td><td>1188.5           </td><td>1762.0701        </td><td>  0              </td><td>41667            </td><td>  0              </td></tr>\n",
       "\t<tr><td>LoanAmount       </td><td>integer          </td><td>22               </td><td> 146.4121622     </td><td>  85.5873252     </td><td> 128.0           </td><td>  47.4432        </td><td>  9              </td><td>  700            </td><td>  0              </td></tr>\n",
       "\t<tr><td>Loan_Amount_Term </td><td>integer          </td><td>14               </td><td> 342.0000000     </td><td>  65.1204099     </td><td> 360.0           </td><td>   0.0000        </td><td> 12              </td><td>  480            </td><td>  0              </td></tr>\n",
       "\t<tr><td>Credit_History   </td><td>integer          </td><td>50               </td><td>   0.8421986     </td><td>   0.3648783     </td><td>   1.0           </td><td>   0.0000        </td><td>  0              </td><td>    1            </td><td>  0              </td></tr>\n",
       "\t<tr><td>Property_Area    </td><td>factor           </td><td> 0               </td><td>          NA     </td><td>   0.6205212     </td><td>    NA           </td><td>       NA        </td><td>179              </td><td>  233            </td><td>  3              </td></tr>\n",
       "\t<tr><td>Loan_Status      </td><td>factor           </td><td> 0               </td><td>          NA     </td><td>   0.3127036     </td><td>    NA           </td><td>       NA        </td><td>192              </td><td>  422            </td><td>  2              </td></tr>\n",
       "</tbody>\n",
       "</table>\n"
      ],
      "text/latex": [
       "\\begin{tabular}{r|llllllllll}\n",
       " name & type & na & mean & disp & median & mad & min & max & nlevs\\\\\n",
       "\\hline\n",
       "\t Loan\\_ID           & factor              &  0                  &           NA        &    0.9983713        &     NA              &        NA           &   1                 &     1               & 614                \\\\\n",
       "\t Gender            & factor            & 13                &           NA      &           NA      &     NA            &        NA         & 112               &   489             &   2              \\\\\n",
       "\t Married           & factor            &  3                &           NA      &           NA      &     NA            &        NA         & 213               &   398             &   2              \\\\\n",
       "\t Dependents        & factor            & 15                &           NA      &           NA      &     NA            &        NA         &  51               &   345             &   4              \\\\\n",
       "\t Education         & factor            &  0                &           NA      &    0.2182410      &     NA            &        NA         & 134               &   480             &   2              \\\\\n",
       "\t Self\\_Employed     & factor              & 32                  &           NA        &           NA        &     NA              &        NA           &  82                 &   500               &   2                \\\\\n",
       "\t ApplicantIncome   & integer           &  0                & 5403.4592834      & 6109.0416734      & 3812.5            & 1822.8567         & 150               & 81000             &   0              \\\\\n",
       "\t CoapplicantIncome & numeric           &  0                & 1621.2457980      & 2926.2483692      & 1188.5            & 1762.0701         &   0               & 41667             &   0              \\\\\n",
       "\t LoanAmount        & integer           & 22                &  146.4121622      &   85.5873252      &  128.0            &   47.4432         &   9               &   700             &   0              \\\\\n",
       "\t Loan\\_Amount\\_Term  & integer               & 14                    &  342.0000000          &   65.1204099          &  360.0                &    0.0000             &  12                   &   480                 &   0                  \\\\\n",
       "\t Credit\\_History    & integer             & 50                  &    0.8421986        &    0.3648783        &    1.0              &    0.0000           &   0                 &     1               &   0                \\\\\n",
       "\t Property\\_Area     & factor              &  0                  &           NA        &    0.6205212        &     NA              &        NA           & 179                 &   233               &   3                \\\\\n",
       "\t Loan\\_Status       & factor              &  0                  &           NA        &    0.3127036        &     NA              &        NA           & 192                 &   422               &   2                \\\\\n",
       "\\end{tabular}\n"
      ],
      "text/plain": [
       "   name              type    na mean         disp         median mad       min\n",
       "1  Loan_ID           factor   0           NA    0.9983713     NA        NA   1\n",
       "2  Gender            factor  13           NA           NA     NA        NA 112\n",
       "3  Married           factor   3           NA           NA     NA        NA 213\n",
       "4  Dependents        factor  15           NA           NA     NA        NA  51\n",
       "5  Education         factor   0           NA    0.2182410     NA        NA 134\n",
       "6  Self_Employed     factor  32           NA           NA     NA        NA  82\n",
       "7  ApplicantIncome   integer  0 5403.4592834 6109.0416734 3812.5 1822.8567 150\n",
       "8  CoapplicantIncome numeric  0 1621.2457980 2926.2483692 1188.5 1762.0701   0\n",
       "9  LoanAmount        integer 22  146.4121622   85.5873252  128.0   47.4432   9\n",
       "10 Loan_Amount_Term  integer 14  342.0000000   65.1204099  360.0    0.0000  12\n",
       "11 Credit_History    integer 50    0.8421986    0.3648783    1.0    0.0000   0\n",
       "12 Property_Area     factor   0           NA    0.6205212     NA        NA 179\n",
       "13 Loan_Status       factor   0           NA    0.3127036     NA        NA 192\n",
       "   max   nlevs\n",
       "1      1 614  \n",
       "2    489   2  \n",
       "3    398   2  \n",
       "4    345   4  \n",
       "5    480   2  \n",
       "6    500   2  \n",
       "7  81000   0  \n",
       "8  41667   0  \n",
       "9    700   0  \n",
       "10   480   0  \n",
       "11     1   0  \n",
       "12   233   3  \n",
       "13   422   2  "
      ]
     },
     "execution_count": 15,
     "metadata": {},
     "output_type": "execute_result"
    }
   ],
   "source": [
    "summarizeColumns(train)"
   ]
  },
  {
   "cell_type": "code",
   "execution_count": 16,
   "metadata": {
    "collapsed": false
   },
   "outputs": [
    {
     "data": {
      "text/html": [
       "<table>\n",
       "<thead><tr><th scope=col>name</th><th scope=col>type</th><th scope=col>na</th><th scope=col>mean</th><th scope=col>disp</th><th scope=col>median</th><th scope=col>mad</th><th scope=col>min</th><th scope=col>max</th><th scope=col>nlevs</th></tr></thead>\n",
       "<tbody>\n",
       "\t<tr><td>Loan_ID          </td><td>factor           </td><td> 0               </td><td>          NA     </td><td>   0.9972752     </td><td>  NA             </td><td>       NA        </td><td>  1              </td><td>    1            </td><td>367              </td></tr>\n",
       "\t<tr><td>Gender           </td><td>factor           </td><td>11               </td><td>          NA     </td><td>          NA     </td><td>  NA             </td><td>       NA        </td><td> 70              </td><td>  286            </td><td>  2              </td></tr>\n",
       "\t<tr><td>Married          </td><td>factor           </td><td> 0               </td><td>          NA     </td><td>   0.3651226     </td><td>  NA             </td><td>       NA        </td><td>134              </td><td>  233            </td><td>  2              </td></tr>\n",
       "\t<tr><td>Dependents       </td><td>factor           </td><td>10               </td><td>          NA     </td><td>          NA     </td><td>  NA             </td><td>       NA        </td><td> 40              </td><td>  200            </td><td>  4              </td></tr>\n",
       "\t<tr><td>Education        </td><td>factor           </td><td> 0               </td><td>          NA     </td><td>   0.2288828     </td><td>  NA             </td><td>       NA        </td><td> 84              </td><td>  283            </td><td>  2              </td></tr>\n",
       "\t<tr><td>Self_Employed    </td><td>factor           </td><td>23               </td><td>          NA     </td><td>          NA     </td><td>  NA             </td><td>       NA        </td><td> 37              </td><td>  307            </td><td>  2              </td></tr>\n",
       "\t<tr><td>ApplicantIncome  </td><td>integer          </td><td> 0               </td><td>4805.5994550     </td><td>4910.6853990     </td><td>3786             </td><td>1598.2428        </td><td>  0              </td><td>72529            </td><td>  0              </td></tr>\n",
       "\t<tr><td>CoapplicantIncome</td><td>integer          </td><td> 0               </td><td>1569.5776567     </td><td>2334.2320987     </td><td>1025             </td><td>1519.6650        </td><td>  0              </td><td>24000            </td><td>  0              </td></tr>\n",
       "\t<tr><td>LoanAmount       </td><td>integer          </td><td> 5               </td><td> 136.1325967     </td><td>  61.3666524     </td><td> 125             </td><td>  38.5476        </td><td> 28              </td><td>  550            </td><td>  0              </td></tr>\n",
       "\t<tr><td>Loan_Amount_Term </td><td>integer          </td><td> 6               </td><td> 342.5373961     </td><td>  65.1566434     </td><td> 360             </td><td>   0.0000        </td><td>  6              </td><td>  480            </td><td>  0              </td></tr>\n",
       "\t<tr><td>Credit_History   </td><td>integer          </td><td>29               </td><td>   0.8254438     </td><td>   0.3801498     </td><td>   1             </td><td>   0.0000        </td><td>  0              </td><td>    1            </td><td>  0              </td></tr>\n",
       "\t<tr><td>Property_Area    </td><td>factor           </td><td> 0               </td><td>          NA     </td><td>   0.6185286     </td><td>  NA             </td><td>       NA        </td><td>111              </td><td>  140            </td><td>  3              </td></tr>\n",
       "</tbody>\n",
       "</table>\n"
      ],
      "text/latex": [
       "\\begin{tabular}{r|llllllllll}\n",
       " name & type & na & mean & disp & median & mad & min & max & nlevs\\\\\n",
       "\\hline\n",
       "\t Loan\\_ID           & factor              &  0                  &           NA        &    0.9972752        &   NA                &        NA           &   1                 &     1               & 367                \\\\\n",
       "\t Gender            & factor            & 11                &           NA      &           NA      &   NA              &        NA         &  70               &   286             &   2              \\\\\n",
       "\t Married           & factor            &  0                &           NA      &    0.3651226      &   NA              &        NA         & 134               &   233             &   2              \\\\\n",
       "\t Dependents        & factor            & 10                &           NA      &           NA      &   NA              &        NA         &  40               &   200             &   4              \\\\\n",
       "\t Education         & factor            &  0                &           NA      &    0.2288828      &   NA              &        NA         &  84               &   283             &   2              \\\\\n",
       "\t Self\\_Employed     & factor              & 23                  &           NA        &           NA        &   NA                &        NA           &  37                 &   307               &   2                \\\\\n",
       "\t ApplicantIncome   & integer           &  0                & 4805.5994550      & 4910.6853990      & 3786              & 1598.2428         &   0               & 72529             &   0              \\\\\n",
       "\t CoapplicantIncome & integer           &  0                & 1569.5776567      & 2334.2320987      & 1025              & 1519.6650         &   0               & 24000             &   0              \\\\\n",
       "\t LoanAmount        & integer           &  5                &  136.1325967      &   61.3666524      &  125              &   38.5476         &  28               &   550             &   0              \\\\\n",
       "\t Loan\\_Amount\\_Term  & integer               &  6                    &  342.5373961          &   65.1566434          &  360                  &    0.0000             &   6                   &   480                 &   0                  \\\\\n",
       "\t Credit\\_History    & integer             & 29                  &    0.8254438        &    0.3801498        &    1                &    0.0000           &   0                 &     1               &   0                \\\\\n",
       "\t Property\\_Area     & factor              &  0                  &           NA        &    0.6185286        &   NA                &        NA           & 111                 &   140               &   3                \\\\\n",
       "\\end{tabular}\n"
      ],
      "text/plain": [
       "   name              type    na mean         disp         median mad       min\n",
       "1  Loan_ID           factor   0           NA    0.9972752   NA          NA   1\n",
       "2  Gender            factor  11           NA           NA   NA          NA  70\n",
       "3  Married           factor   0           NA    0.3651226   NA          NA 134\n",
       "4  Dependents        factor  10           NA           NA   NA          NA  40\n",
       "5  Education         factor   0           NA    0.2288828   NA          NA  84\n",
       "6  Self_Employed     factor  23           NA           NA   NA          NA  37\n",
       "7  ApplicantIncome   integer  0 4805.5994550 4910.6853990 3786   1598.2428   0\n",
       "8  CoapplicantIncome integer  0 1569.5776567 2334.2320987 1025   1519.6650   0\n",
       "9  LoanAmount        integer  5  136.1325967   61.3666524  125     38.5476  28\n",
       "10 Loan_Amount_Term  integer  6  342.5373961   65.1566434  360      0.0000   6\n",
       "11 Credit_History    integer 29    0.8254438    0.3801498    1      0.0000   0\n",
       "12 Property_Area     factor   0           NA    0.6185286   NA          NA 111\n",
       "   max   nlevs\n",
       "1      1 367  \n",
       "2    286   2  \n",
       "3    233   2  \n",
       "4    200   4  \n",
       "5    283   2  \n",
       "6    307   2  \n",
       "7  72529   0  \n",
       "8  24000   0  \n",
       "9    550   0  \n",
       "10   480   0  \n",
       "11     1   0  \n",
       "12   140   3  "
      ]
     },
     "execution_count": 16,
     "metadata": {},
     "output_type": "execute_result"
    }
   ],
   "source": [
    "summarizeColumns(test)"
   ]
  },
  {
   "cell_type": "code",
   "execution_count": 17,
   "metadata": {
    "collapsed": false
   },
   "outputs": [
    {
     "data": {
      "image/png": "[encoded data removed]",
      "image/svg+xml": [
       "<?xml version=\"1.0\" encoding=\"UTF-8\"?>\n",
       "<svg xmlns=\"http://www.w3.org/2000/svg\" xmlns:xlink=\"http://www.w3.org/1999/xlink\" width=\"504pt\" height=\"504pt\" viewBox=\"0 0 504 504\" version=\"1.1\">\n",
       "<defs>\n",
       "<g>\n",
       "<symbol overflow=\"visible\" id=\"glyph0-0\">\n",
       "<path style=\"stroke:none;\" d=\"\"/>\n",
       "</symbol>\n",
       "<symbol overflow=\"visible\" id=\"glyph0-1\">\n",
       "<path style=\"stroke:none;\" d=\"M 10.125 0 L 6.5 -10.5 L 4.109375 -10.5 L 0.375 0 L 2.578125 0 L 3.28125 -2.125 L 7.21875 -2.125 L 7.90625 0 Z M 6.625 -3.921875 L 3.890625 -3.921875 L 5.265625 -8.03125 Z M 6.625 -3.921875 \"/>\n",
       "</symbol>\n",
       "<symbol overflow=\"visible\" id=\"glyph0-2\">\n",
       "<path style=\"stroke:none;\" d=\"M 8.265625 -3.890625 C 8.265625 -6.1875 7.046875 -7.90625 5.015625 -7.90625 C 4.03125 -7.90625 3.34375 -7.484375 2.859375 -6.625 L 2.859375 -7.78125 L 0.828125 -7.78125 L 0.828125 3.140625 L 2.859375 3.140625 L 2.859375 -1.03125 C 3.34375 -0.171875 4.03125 0.125 5.015625 0.125 C 6.890625 0.125 8.265625 -1.53125 8.265625 -3.890625 Z M 6.25 -3.859375 C 6.25 -2.453125 5.546875 -1.5625 4.546875 -1.5625 C 3.546875 -1.5625 2.859375 -2.4375 2.859375 -3.890625 C 2.859375 -5.34375 3.546875 -6.21875 4.546875 -6.21875 C 5.578125 -6.21875 6.25 -5.34375 6.25 -3.859375 Z M 6.25 -3.859375 \"/>\n",
       "</symbol>\n",
       "<symbol overflow=\"visible\" id=\"glyph0-3\">\n",
       "<path style=\"stroke:none;\" d=\"M 2.984375 0 L 2.984375 -10.5 L 0.96875 -10.5 L 0.96875 0 Z M 2.984375 0 \"/>\n",
       "</symbol>\n",
       "<symbol overflow=\"visible\" id=\"glyph0-4\">\n",
       "<path style=\"stroke:none;\" d=\"M 2.984375 0 L 2.984375 -7.78125 L 0.96875 -7.78125 L 0.96875 0 Z M 3.015625 -8.71875 L 3.015625 -10.734375 L 1 -10.734375 L 1 -8.71875 Z M 3.015625 -8.71875 \"/>\n",
       "</symbol>\n",
       "<symbol overflow=\"visible\" id=\"glyph0-5\">\n",
       "<path style=\"stroke:none;\" d=\"M 7.515625 -2.6875 L 5.59375 -2.6875 C 5.328125 -1.890625 4.921875 -1.5 4.15625 -1.5 C 3.125 -1.5 2.5 -2.3125 2.5 -3.828125 C 2.5 -5.265625 2.875 -6.28125 4.15625 -6.28125 C 4.96875 -6.28125 5.359375 -5.890625 5.59375 -4.875 L 7.515625 -4.875 C 7.375 -6.765625 6.109375 -7.90625 4.15625 -7.90625 C 1.84375 -7.90625 0.484375 -6.484375 0.484375 -3.828125 C 0.484375 -1.265625 1.828125 0.125 4.140625 0.125 C 6.015625 0.125 7.328125 -1.03125 7.515625 -2.6875 Z M 7.515625 -2.6875 \"/>\n",
       "</symbol>\n",
       "<symbol overflow=\"visible\" id=\"glyph0-6\">\n",
       "<path style=\"stroke:none;\" d=\"M 7.546875 0 L 7.546875 -0.25 C 7.1875 -0.578125 7.09375 -0.796875 7.09375 -1.203125 L 7.09375 -5.515625 C 7.09375 -7.109375 6 -7.90625 3.90625 -7.90625 C 1.796875 -7.90625 0.703125 -7.015625 0.578125 -5.21875 L 2.515625 -5.21875 C 2.625 -6.015625 2.953125 -6.28125 3.953125 -6.28125 C 4.71875 -6.28125 5.109375 -6.015625 5.109375 -5.5 C 5.109375 -4.6875 4.515625 -4.765625 3.5 -4.59375 L 2.6875 -4.453125 C 1.15625 -4.171875 0.40625 -3.515625 0.40625 -2.109375 C 0.40625 -0.59375 1.46875 0.125 2.765625 0.125 C 3.625 0.125 4.421875 -0.25 5.125 -0.984375 C 5.125 -0.578125 5.171875 -0.234375 5.359375 0 Z M 5.109375 -3.328125 C 5.109375 -2.15625 4.53125 -1.5 3.515625 -1.5 C 2.84375 -1.5 2.421875 -1.75 2.421875 -2.328125 C 2.421875 -2.921875 2.734375 -3.140625 3.578125 -3.296875 L 4.265625 -3.421875 C 4.796875 -3.53125 4.890625 -3.5625 5.109375 -3.671875 Z M 5.109375 -3.328125 \"/>\n",
       "</symbol>\n",
       "<symbol overflow=\"visible\" id=\"glyph0-7\">\n",
       "<path style=\"stroke:none;\" d=\"M 7.859375 0 L 7.859375 -5.21875 C 7.859375 -6.921875 6.921875 -7.90625 5.265625 -7.90625 C 4.203125 -7.90625 3.5 -7.515625 2.921875 -6.65625 L 2.921875 -7.78125 L 0.90625 -7.78125 L 0.90625 0 L 2.921875 0 L 2.921875 -4.671875 C 2.921875 -5.59375 3.578125 -6.1875 4.546875 -6.1875 C 5.421875 -6.1875 5.84375 -5.71875 5.84375 -4.796875 L 5.84375 0 Z M 7.859375 0 \"/>\n",
       "</symbol>\n",
       "<symbol overflow=\"visible\" id=\"glyph0-8\">\n",
       "<path style=\"stroke:none;\" d=\"M 4.34375 0 L 4.34375 -1.40625 C 4.140625 -1.390625 4.015625 -1.375 3.875 -1.375 C 3.34375 -1.375 3.21875 -1.53125 3.21875 -2.21875 L 3.21875 -6.28125 L 4.34375 -6.28125 L 4.34375 -7.625 L 3.21875 -7.625 L 3.21875 -9.703125 L 1.203125 -9.703125 L 1.203125 -7.625 L 0.203125 -7.625 L 0.203125 -6.28125 L 1.203125 -6.28125 L 1.203125 -1.671875 C 1.203125 -0.453125 1.84375 0.0625 3.171875 0.0625 C 3.609375 0.0625 3.96875 0.015625 4.34375 0 Z M 4.34375 0 \"/>\n",
       "</symbol>\n",
       "<symbol overflow=\"visible\" id=\"glyph0-9\">\n",
       "<path style=\"stroke:none;\" d=\"\"/>\n",
       "</symbol>\n",
       "<symbol overflow=\"visible\" id=\"glyph0-10\">\n",
       "<path style=\"stroke:none;\" d=\"M 3.0625 0 L 3.0625 -10.5 L 0.90625 -10.5 L 0.90625 0 Z M 3.0625 0 \"/>\n",
       "</symbol>\n",
       "<symbol overflow=\"visible\" id=\"glyph0-11\">\n",
       "<path style=\"stroke:none;\" d=\"M 8.203125 -3.828125 C 8.203125 -6.46875 6.765625 -7.90625 4.34375 -7.90625 C 1.953125 -7.90625 0.5 -6.4375 0.5 -3.890625 C 0.5 -1.328125 1.953125 0.125 4.34375 0.125 C 6.71875 0.125 8.203125 -1.34375 8.203125 -3.828125 Z M 6.1875 -3.859375 C 6.1875 -2.40625 5.4375 -1.5 4.34375 -1.5 C 3.25 -1.5 2.515625 -2.40625 2.515625 -3.890625 C 2.515625 -5.375 3.25 -6.28125 4.34375 -6.28125 C 5.453125 -6.28125 6.1875 -5.390625 6.1875 -3.859375 Z M 6.1875 -3.859375 \"/>\n",
       "</symbol>\n",
       "<symbol overflow=\"visible\" id=\"glyph0-12\">\n",
       "<path style=\"stroke:none;\" d=\"M 11.875 0 L 11.875 -5.5 C 11.875 -7.015625 10.953125 -7.90625 9.390625 -7.90625 C 8.40625 -7.90625 7.71875 -7.5625 7.109375 -6.75 C 6.734375 -7.484375 5.96875 -7.90625 5 -7.90625 C 4.109375 -7.90625 3.53125 -7.609375 2.859375 -6.8125 L 2.859375 -7.78125 L 0.859375 -7.78125 L 0.859375 0 L 2.875 0 L 2.875 -4.671875 C 2.875 -5.625 3.40625 -6.1875 4.265625 -6.1875 C 4.9375 -6.1875 5.359375 -5.8125 5.359375 -5.1875 L 5.359375 0 L 7.375 0 L 7.375 -4.671875 C 7.375 -5.625 7.890625 -6.1875 8.765625 -6.1875 C 9.4375 -6.1875 9.859375 -5.8125 9.859375 -5.1875 L 9.859375 0 Z M 11.875 0 \"/>\n",
       "</symbol>\n",
       "<symbol overflow=\"visible\" id=\"glyph0-13\">\n",
       "<path style=\"stroke:none;\" d=\"M 7.5625 -3.59375 C 7.5625 -6.28125 6.203125 -7.90625 3.921875 -7.90625 C 1.6875 -7.90625 0.3125 -6.390625 0.3125 -3.78125 C 0.3125 -1.296875 1.671875 0.125 3.875 0.125 C 5.625 0.125 7.03125 -0.65625 7.484375 -2.1875 L 5.484375 -2.1875 C 5.3125 -1.625 4.6875 -1.40625 3.953125 -1.40625 C 3 -1.40625 2.390625 -1.84375 2.328125 -3.359375 L 7.546875 -3.359375 Z M 5.453125 -4.703125 L 2.359375 -4.703125 C 2.5 -5.78125 3 -6.375 3.890625 -6.375 C 4.75 -6.375 5.359375 -5.8125 5.453125 -4.703125 Z M 5.453125 -4.703125 \"/>\n",
       "</symbol>\n",
       "<symbol overflow=\"visible\" id=\"glyph0-14\">\n",
       "<path style=\"stroke:none;\" d=\"M 9.875 -3.59375 L 7.765625 -3.59375 C 7.640625 -2.25 6.78125 -1.640625 5.453125 -1.640625 C 3.78125 -1.640625 2.796875 -2.921875 2.796875 -5.21875 C 2.796875 -7.53125 3.8125 -8.828125 5.515625 -8.828125 C 6.6875 -8.828125 7.453125 -8.296875 7.765625 -6.9375 L 9.828125 -6.9375 C 9.640625 -9.359375 7.8125 -10.671875 5.453125 -10.671875 C 2.484375 -10.671875 0.640625 -8.640625 0.640625 -5.25 C 0.640625 -1.875 2.46875 0.171875 5.390625 0.171875 C 8 0.171875 9.734375 -1.1875 9.875 -3.59375 Z M 9.875 -3.59375 \"/>\n",
       "</symbol>\n",
       "<symbol overflow=\"visible\" id=\"glyph0-15\">\n",
       "<path style=\"stroke:none;\" d=\"M 7.796875 0 L 7.796875 -5.21875 C 7.796875 -7.03125 6.734375 -7.90625 5.265625 -7.90625 C 4.265625 -7.90625 3.546875 -7.5 2.984375 -6.65625 L 2.984375 -10.5 L 0.96875 -10.5 L 0.96875 0 L 2.984375 0 L 2.984375 -4.671875 C 2.984375 -5.5625 3.625 -6.1875 4.53125 -6.1875 C 5.265625 -6.1875 5.78125 -5.8125 5.78125 -4.75 L 5.78125 0 Z M 7.796875 0 \"/>\n",
       "</symbol>\n",
       "<symbol overflow=\"visible\" id=\"glyph0-16\">\n",
       "<path style=\"stroke:none;\" d=\"M 5.328125 -5.84375 L 5.328125 -7.890625 C 5.21875 -7.90625 5.140625 -7.90625 5.078125 -7.90625 C 4.15625 -7.90625 3.359375 -7.296875 2.921875 -6.25 L 2.921875 -7.78125 L 0.90625 -7.78125 L 0.90625 0 L 2.921875 0 L 2.921875 -4.140625 C 2.921875 -5.3125 3.515625 -5.90625 4.703125 -5.90625 C 4.90625 -5.90625 5.0625 -5.890625 5.328125 -5.84375 Z M 5.328125 -5.84375 \"/>\n",
       "</symbol>\n",
       "<symbol overflow=\"visible\" id=\"glyph1-0\">\n",
       "<path style=\"stroke:none;\" d=\"\"/>\n",
       "</symbol>\n",
       "<symbol overflow=\"visible\" id=\"glyph1-1\">\n",
       "<path style=\"stroke:none;\" d=\"M 7.84375 0 L 4.765625 -8.75 L 3.328125 -8.75 L 0.203125 0 L 1.390625 0 L 2.3125 -2.625 L 5.6875 -2.625 L 6.59375 0 Z M 5.375 -3.5625 L 2.59375 -3.5625 L 4.03125 -7.546875 Z M 5.375 -3.5625 \"/>\n",
       "</symbol>\n",
       "<symbol overflow=\"visible\" id=\"glyph1-2\">\n",
       "<path style=\"stroke:none;\" d=\"M 6.28125 -3.078125 C 6.28125 -5.203125 5.25 -6.46875 3.578125 -6.46875 C 2.71875 -6.46875 2.046875 -6.078125 1.578125 -5.34375 L 1.578125 -6.28125 L 0.65625 -6.28125 L 0.65625 2.609375 L 1.65625 2.609375 L 1.65625 -0.75 C 2.1875 -0.109375 2.765625 0.1875 3.59375 0.1875 C 5.203125 0.1875 6.28125 -1.078125 6.28125 -3.078125 Z M 5.234375 -3.109375 C 5.234375 -1.6875 4.5 -0.75 3.40625 -0.75 C 2.359375 -0.75 1.65625 -1.625 1.65625 -3.09375 C 1.65625 -4.578125 2.359375 -5.53125 3.40625 -5.53125 C 4.515625 -5.53125 5.234375 -4.609375 5.234375 -3.109375 Z M 5.234375 -3.109375 \"/>\n",
       "</symbol>\n",
       "<symbol overflow=\"visible\" id=\"glyph1-3\">\n",
       "<path style=\"stroke:none;\" d=\"M 1.8125 0 L 1.8125 -8.75 L 0.8125 -8.75 L 0.8125 0 Z M 1.8125 0 \"/>\n",
       "</symbol>\n",
       "<symbol overflow=\"visible\" id=\"glyph1-4\">\n",
       "<path style=\"stroke:none;\" d=\"M 1.84375 0 L 1.84375 -6.28125 L 0.84375 -6.28125 L 0.84375 0 Z M 1.96875 -7.234375 L 1.96875 -8.484375 L 0.71875 -8.484375 L 0.71875 -7.234375 Z M 1.96875 -7.234375 \"/>\n",
       "</symbol>\n",
       "<symbol overflow=\"visible\" id=\"glyph1-5\">\n",
       "<path style=\"stroke:none;\" d=\"M 5.71875 -2.15625 L 4.71875 -2.15625 C 4.546875 -1.15625 4.03125 -0.75 3.1875 -0.75 C 2.078125 -0.75 1.421875 -1.59375 1.421875 -3.078125 C 1.421875 -4.65625 2.0625 -5.546875 3.15625 -5.546875 C 4 -5.546875 4.53125 -5.046875 4.640625 -4.171875 L 5.65625 -4.171875 C 5.53125 -5.71875 4.578125 -6.46875 3.171875 -6.46875 C 1.46875 -6.46875 0.375 -5.171875 0.375 -3.078125 C 0.375 -1.0625 1.453125 0.1875 3.15625 0.1875 C 4.65625 0.1875 5.609375 -0.71875 5.71875 -2.15625 Z M 5.71875 -2.15625 \"/>\n",
       "</symbol>\n",
       "<symbol overflow=\"visible\" id=\"glyph1-6\">\n",
       "<path style=\"stroke:none;\" d=\"M 6.421875 -0.03125 L 6.421875 -0.78125 C 6.3125 -0.75 6.265625 -0.75 6.203125 -0.75 C 5.859375 -0.75 5.65625 -0.9375 5.65625 -1.25 L 5.65625 -4.75 C 5.65625 -5.875 4.84375 -6.46875 3.296875 -6.46875 C 1.78125 -6.46875 0.84375 -5.875 0.78125 -4.421875 L 1.78125 -4.421875 C 1.875 -5.203125 2.328125 -5.546875 3.265625 -5.546875 C 4.15625 -5.546875 4.671875 -5.203125 4.671875 -4.609375 L 4.671875 -4.34375 C 4.671875 -3.921875 4.421875 -3.75 3.625 -3.640625 C 2.203125 -3.46875 1.984375 -3.421875 1.609375 -3.265625 C 0.875 -2.96875 0.5 -2.40625 0.5 -1.625 C 0.5 -0.484375 1.296875 0.1875 2.5625 0.1875 C 3.375 0.1875 4.15625 -0.15625 4.703125 -0.75 C 4.8125 -0.265625 5.25 0.078125 5.734375 0.078125 C 5.9375 0.078125 6.09375 0.0625 6.421875 -0.03125 Z M 4.671875 -2.171875 C 4.671875 -1.265625 3.75 -0.703125 2.78125 -0.703125 C 2 -0.703125 1.546875 -0.96875 1.546875 -1.65625 C 1.546875 -2.3125 1.984375 -2.609375 3.0625 -2.765625 C 4.109375 -2.90625 4.328125 -2.953125 4.671875 -3.109375 Z M 4.671875 -2.171875 \"/>\n",
       "</symbol>\n",
       "<symbol overflow=\"visible\" id=\"glyph1-7\">\n",
       "<path style=\"stroke:none;\" d=\"M 5.84375 0 L 5.84375 -4.75 C 5.84375 -5.796875 5.0625 -6.46875 3.859375 -6.46875 C 2.921875 -6.46875 2.3125 -6.109375 1.765625 -5.234375 L 1.765625 -6.28125 L 0.84375 -6.28125 L 0.84375 0 L 1.84375 0 L 1.84375 -3.46875 C 1.84375 -4.75 2.53125 -5.59375 3.546875 -5.59375 C 4.34375 -5.59375 4.84375 -5.109375 4.84375 -4.359375 L 4.84375 0 Z M 5.84375 0 \"/>\n",
       "</symbol>\n",
       "<symbol overflow=\"visible\" id=\"glyph1-8\">\n",
       "<path style=\"stroke:none;\" d=\"M 3.046875 0 L 3.046875 -0.84375 C 2.921875 -0.796875 2.765625 -0.796875 2.5625 -0.796875 C 2.140625 -0.796875 2.015625 -0.90625 2.015625 -1.359375 L 2.015625 -5.46875 L 3.046875 -5.46875 L 3.046875 -6.28125 L 2.015625 -6.28125 L 2.015625 -8.015625 L 1.015625 -8.015625 L 1.015625 -6.28125 L 0.171875 -6.28125 L 0.171875 -5.46875 L 1.015625 -5.46875 L 1.015625 -0.90625 C 1.015625 -0.28125 1.453125 0.078125 2.234375 0.078125 C 2.46875 0.078125 2.71875 0.0625 3.046875 0 Z M 3.046875 0 \"/>\n",
       "</symbol>\n",
       "<symbol overflow=\"visible\" id=\"glyph1-9\">\n",
       "<path style=\"stroke:none;\" d=\"M 2.3125 0 L 2.3125 -8.75 L 1.203125 -8.75 L 1.203125 0 Z M 2.3125 0 \"/>\n",
       "</symbol>\n",
       "<symbol overflow=\"visible\" id=\"glyph1-10\">\n",
       "<path style=\"stroke:none;\" d=\"M 6.125 -3.09375 C 6.125 -5.265625 5.078125 -6.46875 3.265625 -6.46875 C 1.5 -6.46875 0.4375 -5.25 0.4375 -3.140625 C 0.4375 -1.03125 1.484375 0.1875 3.28125 0.1875 C 5.046875 0.1875 6.125 -1.03125 6.125 -3.09375 Z M 5.078125 -3.109375 C 5.078125 -1.625 4.375 -0.75 3.28125 -0.75 C 2.15625 -0.75 1.46875 -1.625 1.46875 -3.140625 C 1.46875 -4.65625 2.15625 -5.546875 3.28125 -5.546875 C 4.40625 -5.546875 5.078125 -4.671875 5.078125 -3.109375 Z M 5.078125 -3.109375 \"/>\n",
       "</symbol>\n",
       "<symbol overflow=\"visible\" id=\"glyph1-11\">\n",
       "<path style=\"stroke:none;\" d=\"M 9.125 0 L 9.125 -4.71875 C 9.125 -5.84375 8.5 -6.46875 7.3125 -6.46875 C 6.484375 -6.46875 5.96875 -6.21875 5.390625 -5.515625 C 5.015625 -6.1875 4.515625 -6.46875 3.703125 -6.46875 C 2.859375 -6.46875 2.296875 -6.15625 1.765625 -5.40625 L 1.765625 -6.28125 L 0.859375 -6.28125 L 0.859375 0 L 1.84375 0 L 1.84375 -3.953125 C 1.84375 -4.859375 2.515625 -5.59375 3.328125 -5.59375 C 4.0625 -5.59375 4.484375 -5.140625 4.484375 -4.328125 L 4.484375 0 L 5.484375 0 L 5.484375 -3.953125 C 5.484375 -4.859375 6.15625 -5.59375 6.96875 -5.59375 C 7.703125 -5.59375 8.125 -5.125 8.125 -4.328125 L 8.125 0 Z M 9.125 0 \"/>\n",
       "</symbol>\n",
       "<symbol overflow=\"visible\" id=\"glyph1-12\">\n",
       "<path style=\"stroke:none;\" d=\"M 6.15625 -2.859375 C 6.15625 -3.765625 6.078125 -4.34375 5.90625 -4.8125 C 5.5 -5.84375 4.53125 -6.46875 3.359375 -6.46875 C 1.609375 -6.46875 0.484375 -5.171875 0.484375 -3.109375 C 0.484375 -1.046875 1.578125 0.1875 3.34375 0.1875 C 4.78125 0.1875 5.765625 -0.640625 6.03125 -1.90625 L 5.015625 -1.90625 C 4.734375 -1.078125 4.171875 -0.75 3.375 -0.75 C 2.328125 -0.75 1.546875 -1.421875 1.53125 -2.859375 Z M 5.09375 -3.75 C 5.09375 -3.75 5.09375 -3.703125 5.078125 -3.671875 L 1.546875 -3.671875 C 1.625 -4.78125 2.34375 -5.546875 3.34375 -5.546875 C 4.328125 -5.546875 5.09375 -4.734375 5.09375 -3.75 Z M 5.09375 -3.75 \"/>\n",
       "</symbol>\n",
       "<symbol overflow=\"visible\" id=\"glyph1-13\">\n",
       "<path style=\"stroke:none;\" d=\"M 6.078125 -4.09375 C 6.078125 -7.046875 5.140625 -8.515625 3.296875 -8.515625 C 1.46875 -8.515625 0.515625 -7.015625 0.515625 -4.15625 C 0.515625 -1.296875 1.46875 0.1875 3.296875 0.1875 C 5.09375 0.1875 6.078125 -1.296875 6.078125 -4.09375 Z M 5 -4.1875 C 5 -1.78125 4.453125 -0.703125 3.28125 -0.703125 C 2.15625 -0.703125 1.59375 -1.828125 1.59375 -4.15625 C 1.59375 -6.484375 2.15625 -7.578125 3.296875 -7.578125 C 4.4375 -7.578125 5 -6.46875 5 -4.1875 Z M 5 -4.1875 \"/>\n",
       "</symbol>\n",
       "<symbol overflow=\"visible\" id=\"glyph1-14\">\n",
       "<path style=\"stroke:none;\" d=\"M 6.125 -6.015625 C 6.125 -7.453125 5.015625 -8.515625 3.40625 -8.515625 C 1.671875 -8.515625 0.65625 -7.625 0.59375 -5.5625 L 1.65625 -5.5625 C 1.734375 -6.984375 2.328125 -7.578125 3.375 -7.578125 C 4.328125 -7.578125 5.046875 -6.90625 5.046875 -5.984375 C 5.046875 -5.3125 4.65625 -4.734375 3.90625 -4.3125 L 2.796875 -3.6875 C 1.015625 -2.671875 0.5 -1.875 0.40625 0 L 6.078125 0 L 6.078125 -1.046875 L 1.59375 -1.046875 C 1.703125 -1.734375 2.09375 -2.1875 3.125 -2.796875 L 4.328125 -3.4375 C 5.515625 -4.078125 6.125 -4.96875 6.125 -6.015625 Z M 6.125 -6.015625 \"/>\n",
       "</symbol>\n",
       "<symbol overflow=\"visible\" id=\"glyph1-15\">\n",
       "<path style=\"stroke:none;\" d=\"M 6.234375 -2.046875 L 6.234375 -2.984375 L 4.984375 -2.984375 L 4.984375 -8.515625 L 4.203125 -8.515625 L 0.34375 -3.15625 L 0.34375 -2.046875 L 3.921875 -2.046875 L 3.921875 0 L 4.984375 0 L 4.984375 -2.046875 Z M 3.921875 -2.984375 L 1.265625 -2.984375 L 3.921875 -6.703125 Z M 3.921875 -2.984375 \"/>\n",
       "</symbol>\n",
       "<symbol overflow=\"visible\" id=\"glyph1-16\">\n",
       "<path style=\"stroke:none;\" d=\"M 6.15625 -2.640625 C 6.15625 -4.21875 5.078125 -5.296875 3.546875 -5.296875 C 2.71875 -5.296875 2.046875 -4.96875 1.59375 -4.34375 C 1.609375 -6.421875 2.28125 -7.578125 3.484375 -7.578125 C 4.234375 -7.578125 4.75 -7.109375 4.921875 -6.28125 L 5.96875 -6.28125 C 5.765625 -7.6875 4.859375 -8.515625 3.5625 -8.515625 C 1.578125 -8.515625 0.515625 -6.84375 0.515625 -3.875 C 0.515625 -1.21875 1.421875 0.1875 3.375 0.1875 C 4.984375 0.1875 6.15625 -0.96875 6.15625 -2.640625 Z M 5.078125 -2.5625 C 5.078125 -1.484375 4.359375 -0.75 3.390625 -0.75 C 2.40625 -0.75 1.65625 -1.53125 1.65625 -2.609375 C 1.65625 -3.671875 2.375 -4.359375 3.421875 -4.359375 C 4.4375 -4.359375 5.078125 -3.703125 5.078125 -2.5625 Z M 5.078125 -2.5625 \"/>\n",
       "</symbol>\n",
       "<symbol overflow=\"visible\" id=\"glyph1-17\">\n",
       "<path style=\"stroke:none;\" d=\"M 6.15625 -2.40625 C 6.15625 -3.34375 5.671875 -4.015625 4.6875 -4.46875 C 5.5625 -5 5.859375 -5.4375 5.859375 -6.234375 C 5.859375 -7.578125 4.8125 -8.515625 3.296875 -8.515625 C 1.796875 -8.515625 0.75 -7.578125 0.75 -6.234375 C 0.75 -5.453125 1.03125 -5.015625 1.890625 -4.46875 C 0.921875 -4.015625 0.4375 -3.34375 0.4375 -2.40625 C 0.4375 -0.859375 1.625 0.1875 3.296875 0.1875 C 4.984375 0.1875 6.15625 -0.859375 6.15625 -2.40625 Z M 4.78125 -6.21875 C 4.78125 -5.421875 4.1875 -4.890625 3.296875 -4.890625 C 2.40625 -4.890625 1.828125 -5.421875 1.828125 -6.234375 C 1.828125 -7.046875 2.40625 -7.578125 3.296875 -7.578125 C 4.203125 -7.578125 4.78125 -7.046875 4.78125 -6.21875 Z M 5.078125 -2.390625 C 5.078125 -1.375 4.359375 -0.75 3.28125 -0.75 C 2.25 -0.75 1.53125 -1.390625 1.53125 -2.390625 C 1.53125 -3.390625 2.25 -4.015625 3.296875 -4.015625 C 4.359375 -4.015625 5.078125 -3.390625 5.078125 -2.390625 Z M 5.078125 -2.390625 \"/>\n",
       "</symbol>\n",
       "<symbol overflow=\"visible\" id=\"glyph2-0\">\n",
       "<path style=\"stroke:none;\" d=\"\"/>\n",
       "</symbol>\n",
       "<symbol overflow=\"visible\" id=\"glyph2-1\">\n",
       "<path style=\"stroke:none;\" d=\"M -7.765625 -6.953125 L -8.75 -6.953125 L -8.75 -1.078125 L 0 -1.078125 L 0 -2.203125 L -3.984375 -2.203125 L -3.984375 -6.375 L -4.96875 -6.375 L -4.96875 -2.203125 L -7.765625 -2.203125 Z M -7.765625 -6.953125 \"/>\n",
       "</symbol>\n",
       "<symbol overflow=\"visible\" id=\"glyph2-2\">\n",
       "<path style=\"stroke:none;\" d=\"M -5.40625 -3.859375 L -6.4375 -3.859375 C -6.453125 -3.6875 -6.46875 -3.59375 -6.46875 -3.46875 C -6.46875 -2.8125 -6.078125 -2.328125 -5.140625 -1.75 L -6.28125 -1.75 L -6.28125 -0.84375 L 0 -0.84375 L 0 -1.84375 L -3.265625 -1.84375 C -4.6875 -1.84375 -5.390625 -2.296875 -5.40625 -3.859375 Z M -5.40625 -3.859375 \"/>\n",
       "</symbol>\n",
       "<symbol overflow=\"visible\" id=\"glyph2-3\">\n",
       "<path style=\"stroke:none;\" d=\"M -2.859375 -6.15625 C -3.765625 -6.15625 -4.34375 -6.078125 -4.8125 -5.90625 C -5.84375 -5.5 -6.46875 -4.53125 -6.46875 -3.359375 C -6.46875 -1.609375 -5.171875 -0.484375 -3.109375 -0.484375 C -1.046875 -0.484375 0.1875 -1.578125 0.1875 -3.34375 C 0.1875 -4.78125 -0.640625 -5.765625 -1.90625 -6.03125 L -1.90625 -5.015625 C -1.078125 -4.734375 -0.75 -4.171875 -0.75 -3.375 C -0.75 -2.328125 -1.421875 -1.546875 -2.859375 -1.53125 Z M -3.75 -5.09375 C -3.75 -5.09375 -3.703125 -5.09375 -3.671875 -5.078125 L -3.671875 -1.546875 C -4.78125 -1.625 -5.546875 -2.34375 -5.546875 -3.34375 C -5.546875 -4.328125 -4.734375 -5.09375 -3.75 -5.09375 Z M -3.75 -5.09375 \"/>\n",
       "</symbol>\n",
       "<symbol overflow=\"visible\" id=\"glyph2-4\">\n",
       "<path style=\"stroke:none;\" d=\"M 2.609375 -5.9375 L -6.28125 -5.9375 L -6.28125 -5.046875 L -5.453125 -5.046875 C -6.109375 -4.578125 -6.46875 -3.875 -6.46875 -3.046875 C -6.46875 -1.390625 -5.15625 -0.3125 -3.078125 -0.3125 C -1.03125 -0.3125 0.1875 -1.34375 0.1875 -3 C 0.1875 -3.875 -0.125 -4.46875 -0.8125 -4.9375 L 2.609375 -4.9375 Z M -3.109375 -4.9375 C -1.671875 -4.9375 -0.75 -4.25 -0.75 -3.1875 C -0.75 -2.09375 -1.6875 -1.359375 -3.140625 -1.359375 C -4.59375 -1.359375 -5.53125 -2.09375 -5.53125 -3.1875 C -5.53125 -4.265625 -4.578125 -4.9375 -3.109375 -4.9375 Z M -3.109375 -4.9375 \"/>\n",
       "</symbol>\n",
       "<symbol overflow=\"visible\" id=\"glyph2-5\">\n",
       "<path style=\"stroke:none;\" d=\"M 0 -5.78125 L -6.28125 -5.78125 L -6.28125 -4.78125 L -2.8125 -4.78125 C -1.53125 -4.78125 -0.703125 -4.109375 -0.703125 -3.078125 C -0.703125 -2.28125 -1.171875 -1.78125 -1.9375 -1.78125 L -6.28125 -1.78125 L -6.28125 -0.78125 L -1.53125 -0.78125 C -0.484375 -0.78125 0.1875 -1.5625 0.1875 -2.78125 C 0.1875 -3.703125 -0.140625 -4.296875 -0.96875 -4.890625 L 0 -4.890625 Z M 0 -5.78125 \"/>\n",
       "</symbol>\n",
       "<symbol overflow=\"visible\" id=\"glyph2-6\">\n",
       "<path style=\"stroke:none;\" d=\"M 0 -5.84375 L -4.75 -5.84375 C -5.796875 -5.84375 -6.46875 -5.0625 -6.46875 -3.859375 C -6.46875 -2.921875 -6.109375 -2.3125 -5.234375 -1.765625 L -6.28125 -1.765625 L -6.28125 -0.84375 L 0 -0.84375 L 0 -1.84375 L -3.46875 -1.84375 C -4.75 -1.84375 -5.59375 -2.53125 -5.59375 -3.546875 C -5.59375 -4.34375 -5.109375 -4.84375 -4.359375 -4.84375 L 0 -4.84375 Z M 0 -5.84375 \"/>\n",
       "</symbol>\n",
       "<symbol overflow=\"visible\" id=\"glyph2-7\">\n",
       "<path style=\"stroke:none;\" d=\"M -2.15625 -5.71875 L -2.15625 -4.71875 C -1.15625 -4.546875 -0.75 -4.03125 -0.75 -3.1875 C -0.75 -2.078125 -1.59375 -1.421875 -3.078125 -1.421875 C -4.65625 -1.421875 -5.546875 -2.0625 -5.546875 -3.15625 C -5.546875 -4 -5.046875 -4.53125 -4.171875 -4.640625 L -4.171875 -5.65625 C -5.71875 -5.53125 -6.46875 -4.578125 -6.46875 -3.171875 C -6.46875 -1.46875 -5.171875 -0.375 -3.078125 -0.375 C -1.0625 -0.375 0.1875 -1.453125 0.1875 -3.15625 C 0.1875 -4.65625 -0.71875 -5.609375 -2.15625 -5.71875 Z M -2.15625 -5.71875 \"/>\n",
       "</symbol>\n",
       "<symbol overflow=\"visible\" id=\"glyph2-8\">\n",
       "<path style=\"stroke:none;\" d=\"M -6.28125 -5.734375 L -6.28125 -4.65625 L -1.390625 -2.921875 L -6.28125 -1.3125 L -6.28125 -0.234375 L 0.03125 -2.359375 L 1.015625 -1.984375 C 1.46875 -1.8125 1.625 -1.609375 1.625 -1.171875 C 1.625 -1.03125 1.609375 -0.859375 1.5625 -0.640625 L 2.453125 -0.640625 C 2.5625 -0.859375 2.609375 -1.0625 2.609375 -1.3125 C 2.609375 -2.03125 2.21875 -2.609375 1.3125 -2.9375 Z M -6.28125 -5.734375 \"/>\n",
       "</symbol>\n",
       "<symbol overflow=\"visible\" id=\"glyph2-9\">\n",
       "<path style=\"stroke:none;\" d=\"M -4.09375 -6.078125 C -7.046875 -6.078125 -8.515625 -5.140625 -8.515625 -3.296875 C -8.515625 -1.46875 -7.015625 -0.515625 -4.15625 -0.515625 C -1.296875 -0.515625 0.1875 -1.46875 0.1875 -3.296875 C 0.1875 -5.09375 -1.296875 -6.078125 -4.09375 -6.078125 Z M -4.1875 -5 C -1.78125 -5 -0.703125 -4.453125 -0.703125 -3.28125 C -0.703125 -2.15625 -1.828125 -1.59375 -4.15625 -1.59375 C -6.484375 -1.59375 -7.578125 -2.15625 -7.578125 -3.296875 C -7.578125 -4.4375 -6.46875 -5 -4.1875 -5 Z M -4.1875 -5 \"/>\n",
       "</symbol>\n",
       "<symbol overflow=\"visible\" id=\"glyph2-10\">\n",
       "<path style=\"stroke:none;\" d=\"M 0 -4.15625 L -8.515625 -4.15625 L -8.515625 -3.46875 C -7.203125 -3.09375 -7.015625 -2.859375 -6.8125 -1.21875 L -6.0625 -1.21875 L -6.0625 -3.109375 L 0 -3.109375 Z M 0 -4.15625 \"/>\n",
       "</symbol>\n",
       "<symbol overflow=\"visible\" id=\"glyph2-11\">\n",
       "<path style=\"stroke:none;\" d=\"M -6.015625 -6.125 C -7.453125 -6.125 -8.515625 -5.015625 -8.515625 -3.40625 C -8.515625 -1.671875 -7.625 -0.65625 -5.5625 -0.59375 L -5.5625 -1.65625 C -6.984375 -1.734375 -7.578125 -2.328125 -7.578125 -3.375 C -7.578125 -4.328125 -6.90625 -5.046875 -5.984375 -5.046875 C -5.3125 -5.046875 -4.734375 -4.65625 -4.3125 -3.90625 L -3.6875 -2.796875 C -2.671875 -1.015625 -1.875 -0.5 0 -0.40625 L 0 -6.078125 L -1.046875 -6.078125 L -1.046875 -1.59375 C -1.734375 -1.703125 -2.1875 -2.09375 -2.796875 -3.125 L -3.4375 -4.328125 C -4.078125 -5.515625 -4.96875 -6.125 -6.015625 -6.125 Z M -6.015625 -6.125 \"/>\n",
       "</symbol>\n",
       "<symbol overflow=\"visible\" id=\"glyph2-12\">\n",
       "<path style=\"stroke:none;\" d=\"M -2.46875 -6.078125 C -3.5 -6.078125 -4.109375 -5.65625 -4.453125 -4.625 C -4.765625 -5.421875 -5.3125 -5.8125 -6.171875 -5.8125 C -7.625 -5.8125 -8.515625 -4.84375 -8.515625 -3.234375 C -8.515625 -1.515625 -7.578125 -0.59375 -5.765625 -0.5625 L -5.765625 -1.625 C -7.015625 -1.640625 -7.578125 -2.15625 -7.578125 -3.234375 C -7.578125 -4.171875 -7.03125 -4.734375 -6.125 -4.734375 C -5.21875 -4.734375 -4.84375 -4.34375 -4.84375 -2.65625 L -3.953125 -2.65625 L -3.953125 -3.234375 C -3.953125 -4.390625 -3.40625 -4.984375 -2.453125 -4.984375 C -1.390625 -4.984375 -0.75 -4.328125 -0.75 -3.234375 C -0.75 -2.078125 -1.328125 -1.515625 -2.5625 -1.4375 L -2.5625 -0.390625 C -0.671875 -0.515625 0.1875 -1.453125 0.1875 -3.1875 C 0.1875 -4.9375 -0.859375 -6.078125 -2.46875 -6.078125 Z M -2.46875 -6.078125 \"/>\n",
       "</symbol>\n",
       "<symbol overflow=\"visible\" id=\"glyph2-13\">\n",
       "<path style=\"stroke:none;\" d=\"M -2.046875 -6.234375 L -2.984375 -6.234375 L -2.984375 -4.984375 L -8.515625 -4.984375 L -8.515625 -4.203125 L -3.15625 -0.34375 L -2.046875 -0.34375 L -2.046875 -3.921875 L 0 -3.921875 L 0 -4.984375 L -2.046875 -4.984375 Z M -2.984375 -3.921875 L -2.984375 -1.265625 L -6.703125 -3.921875 Z M -2.984375 -3.921875 \"/>\n",
       "</symbol>\n",
       "</g>\n",
       "</defs>\n",
       "<g id=\"surface61\">\n",
       "<rect x=\"0\" y=\"0\" width=\"504\" height=\"504\" style=\"fill:rgb(100%,100%,100%);fill-opacity:1;stroke:none;\"/>\n",
       "<g style=\"fill:rgb(0%,0%,0%);fill-opacity:1;\">\n",
       "  <use xlink:href=\"#glyph0-1\" x=\"185.398438\" y=\"34.21875\"/>\n",
       "  <use xlink:href=\"#glyph0-2\" x=\"195.799805\" y=\"34.21875\"/>\n",
       "  <use xlink:href=\"#glyph0-2\" x=\"204.601562\" y=\"34.21875\"/>\n",
       "  <use xlink:href=\"#glyph0-3\" x=\"213.40332\" y=\"34.21875\"/>\n",
       "  <use xlink:href=\"#glyph0-4\" x=\"217.408203\" y=\"34.21875\"/>\n",
       "  <use xlink:href=\"#glyph0-5\" x=\"221.413086\" y=\"34.21875\"/>\n",
       "  <use xlink:href=\"#glyph0-6\" x=\"229.422852\" y=\"34.21875\"/>\n",
       "  <use xlink:href=\"#glyph0-7\" x=\"237.432617\" y=\"34.21875\"/>\n",
       "  <use xlink:href=\"#glyph0-8\" x=\"246.234375\" y=\"34.21875\"/>\n",
       "  <use xlink:href=\"#glyph0-9\" x=\"251.03125\" y=\"34.21875\"/>\n",
       "  <use xlink:href=\"#glyph0-10\" x=\"255.036133\" y=\"34.21875\"/>\n",
       "  <use xlink:href=\"#glyph0-7\" x=\"259.041016\" y=\"34.21875\"/>\n",
       "  <use xlink:href=\"#glyph0-5\" x=\"267.842773\" y=\"34.21875\"/>\n",
       "  <use xlink:href=\"#glyph0-11\" x=\"275.852539\" y=\"34.21875\"/>\n",
       "  <use xlink:href=\"#glyph0-12\" x=\"284.654297\" y=\"34.21875\"/>\n",
       "  <use xlink:href=\"#glyph0-13\" x=\"297.460938\" y=\"34.21875\"/>\n",
       "  <use xlink:href=\"#glyph0-9\" x=\"305.470703\" y=\"34.21875\"/>\n",
       "  <use xlink:href=\"#glyph0-14\" x=\"309.475586\" y=\"34.21875\"/>\n",
       "  <use xlink:href=\"#glyph0-15\" x=\"319.876953\" y=\"34.21875\"/>\n",
       "  <use xlink:href=\"#glyph0-6\" x=\"328.678711\" y=\"34.21875\"/>\n",
       "  <use xlink:href=\"#glyph0-16\" x=\"336.688477\" y=\"34.21875\"/>\n",
       "  <use xlink:href=\"#glyph0-8\" x=\"342.581055\" y=\"34.21875\"/>\n",
       "</g>\n",
       "<g style=\"fill:rgb(0%,0%,0%);fill-opacity:1;\">\n",
       "  <use xlink:href=\"#glyph1-1\" x=\"221.898438\" y=\"485.057617\"/>\n",
       "  <use xlink:href=\"#glyph1-2\" x=\"229.902344\" y=\"485.057617\"/>\n",
       "  <use xlink:href=\"#glyph1-2\" x=\"236.574219\" y=\"485.057617\"/>\n",
       "  <use xlink:href=\"#glyph1-3\" x=\"243.246094\" y=\"485.057617\"/>\n",
       "  <use xlink:href=\"#glyph1-4\" x=\"245.910156\" y=\"485.057617\"/>\n",
       "  <use xlink:href=\"#glyph1-5\" x=\"248.574219\" y=\"485.057617\"/>\n",
       "  <use xlink:href=\"#glyph1-6\" x=\"254.574219\" y=\"485.057617\"/>\n",
       "  <use xlink:href=\"#glyph1-7\" x=\"261.246094\" y=\"485.057617\"/>\n",
       "  <use xlink:href=\"#glyph1-8\" x=\"267.917969\" y=\"485.057617\"/>\n",
       "  <use xlink:href=\"#glyph1-9\" x=\"271.253906\" y=\"485.057617\"/>\n",
       "  <use xlink:href=\"#glyph1-7\" x=\"274.589844\" y=\"485.057617\"/>\n",
       "  <use xlink:href=\"#glyph1-5\" x=\"281.261719\" y=\"485.057617\"/>\n",
       "  <use xlink:href=\"#glyph1-10\" x=\"287.261719\" y=\"485.057617\"/>\n",
       "  <use xlink:href=\"#glyph1-11\" x=\"293.933594\" y=\"485.057617\"/>\n",
       "  <use xlink:href=\"#glyph1-12\" x=\"303.929688\" y=\"485.057617\"/>\n",
       "</g>\n",
       "<g style=\"fill:rgb(0%,0%,0%);fill-opacity:1;\">\n",
       "  <use xlink:href=\"#glyph2-1\" x=\"12.737305\" y=\"273.300781\"/>\n",
       "  <use xlink:href=\"#glyph2-2\" x=\"12.737305\" y=\"266.388672\"/>\n",
       "  <use xlink:href=\"#glyph2-3\" x=\"12.737305\" y=\"262.511719\"/>\n",
       "  <use xlink:href=\"#glyph2-4\" x=\"12.737305\" y=\"255.839844\"/>\n",
       "  <use xlink:href=\"#glyph2-5\" x=\"12.737305\" y=\"249.108398\"/>\n",
       "  <use xlink:href=\"#glyph2-3\" x=\"12.737305\" y=\"242.436523\"/>\n",
       "  <use xlink:href=\"#glyph2-6\" x=\"12.737305\" y=\"235.764648\"/>\n",
       "  <use xlink:href=\"#glyph2-7\" x=\"12.737305\" y=\"229.092773\"/>\n",
       "  <use xlink:href=\"#glyph2-8\" x=\"12.737305\" y=\"223.092773\"/>\n",
       "</g>\n",
       "<path style=\"fill:none;stroke-width:0.75;stroke-linecap:round;stroke-linejoin:round;stroke:rgb(0%,0%,0%);stroke-opacity:1;stroke-miterlimit:10;\" d=\"M 74.398438 430.558594 L 453.660156 430.558594 \"/>\n",
       "<path style=\"fill:none;stroke-width:0.75;stroke-linecap:round;stroke-linejoin:round;stroke:rgb(0%,0%,0%);stroke-opacity:1;stroke-miterlimit:10;\" d=\"M 74.398438 430.558594 L 74.398438 437.761719 \"/>\n",
       "<path style=\"fill:none;stroke-width:0.75;stroke-linecap:round;stroke-linejoin:round;stroke:rgb(0%,0%,0%);stroke-opacity:1;stroke-miterlimit:10;\" d=\"M 169.214844 430.558594 L 169.214844 437.761719 \"/>\n",
       "<path style=\"fill:none;stroke-width:0.75;stroke-linecap:round;stroke-linejoin:round;stroke:rgb(0%,0%,0%);stroke-opacity:1;stroke-miterlimit:10;\" d=\"M 264.03125 430.558594 L 264.03125 437.761719 \"/>\n",
       "<path style=\"fill:none;stroke-width:0.75;stroke-linecap:round;stroke-linejoin:round;stroke:rgb(0%,0%,0%);stroke-opacity:1;stroke-miterlimit:10;\" d=\"M 358.84375 430.558594 L 358.84375 437.761719 \"/>\n",
       "<path style=\"fill:none;stroke-width:0.75;stroke-linecap:round;stroke-linejoin:round;stroke:rgb(0%,0%,0%);stroke-opacity:1;stroke-miterlimit:10;\" d=\"M 453.660156 430.558594 L 453.660156 437.761719 \"/>\n",
       "<g style=\"fill:rgb(0%,0%,0%);fill-opacity:1;\">\n",
       "  <use xlink:href=\"#glyph1-13\" x=\"70.898438\" y=\"456.256836\"/>\n",
       "</g>\n",
       "<g style=\"fill:rgb(0%,0%,0%);fill-opacity:1;\">\n",
       "  <use xlink:href=\"#glyph1-14\" x=\"152.214844\" y=\"456.256836\"/>\n",
       "  <use xlink:href=\"#glyph1-13\" x=\"158.886719\" y=\"456.256836\"/>\n",
       "  <use xlink:href=\"#glyph1-13\" x=\"165.558594\" y=\"456.256836\"/>\n",
       "  <use xlink:href=\"#glyph1-13\" x=\"172.230469\" y=\"456.256836\"/>\n",
       "  <use xlink:href=\"#glyph1-13\" x=\"178.902344\" y=\"456.256836\"/>\n",
       "</g>\n",
       "<g style=\"fill:rgb(0%,0%,0%);fill-opacity:1;\">\n",
       "  <use xlink:href=\"#glyph1-15\" x=\"247.03125\" y=\"456.256836\"/>\n",
       "  <use xlink:href=\"#glyph1-13\" x=\"253.703125\" y=\"456.256836\"/>\n",
       "  <use xlink:href=\"#glyph1-13\" x=\"260.375\" y=\"456.256836\"/>\n",
       "  <use xlink:href=\"#glyph1-13\" x=\"267.046875\" y=\"456.256836\"/>\n",
       "  <use xlink:href=\"#glyph1-13\" x=\"273.71875\" y=\"456.256836\"/>\n",
       "</g>\n",
       "<g style=\"fill:rgb(0%,0%,0%);fill-opacity:1;\">\n",
       "  <use xlink:href=\"#glyph1-16\" x=\"341.84375\" y=\"456.256836\"/>\n",
       "  <use xlink:href=\"#glyph1-13\" x=\"348.515625\" y=\"456.256836\"/>\n",
       "  <use xlink:href=\"#glyph1-13\" x=\"355.1875\" y=\"456.256836\"/>\n",
       "  <use xlink:href=\"#glyph1-13\" x=\"361.859375\" y=\"456.256836\"/>\n",
       "  <use xlink:href=\"#glyph1-13\" x=\"368.53125\" y=\"456.256836\"/>\n",
       "</g>\n",
       "<g style=\"fill:rgb(0%,0%,0%);fill-opacity:1;\">\n",
       "  <use xlink:href=\"#glyph1-17\" x=\"436.660156\" y=\"456.256836\"/>\n",
       "  <use xlink:href=\"#glyph1-13\" x=\"443.332031\" y=\"456.256836\"/>\n",
       "  <use xlink:href=\"#glyph1-13\" x=\"450.003906\" y=\"456.256836\"/>\n",
       "  <use xlink:href=\"#glyph1-13\" x=\"456.675781\" y=\"456.256836\"/>\n",
       "  <use xlink:href=\"#glyph1-13\" x=\"463.347656\" y=\"456.256836\"/>\n",
       "</g>\n",
       "<path style=\"fill:none;stroke-width:0.75;stroke-linecap:round;stroke-linejoin:round;stroke:rgb(0%,0%,0%);stroke-opacity:1;stroke-miterlimit:10;\" d=\"M 59.039062 416.800781 L 59.039062 72.800781 \"/>\n",
       "<path style=\"fill:none;stroke-width:0.75;stroke-linecap:round;stroke-linejoin:round;stroke:rgb(0%,0%,0%);stroke-opacity:1;stroke-miterlimit:10;\" d=\"M 59.039062 416.800781 L 51.839844 416.800781 \"/>\n",
       "<path style=\"fill:none;stroke-width:0.75;stroke-linecap:round;stroke-linejoin:round;stroke:rgb(0%,0%,0%);stroke-opacity:1;stroke-miterlimit:10;\" d=\"M 59.039062 330.800781 L 51.839844 330.800781 \"/>\n",
       "<path style=\"fill:none;stroke-width:0.75;stroke-linecap:round;stroke-linejoin:round;stroke:rgb(0%,0%,0%);stroke-opacity:1;stroke-miterlimit:10;\" d=\"M 59.039062 244.800781 L 51.839844 244.800781 \"/>\n",
       "<path style=\"fill:none;stroke-width:0.75;stroke-linecap:round;stroke-linejoin:round;stroke:rgb(0%,0%,0%);stroke-opacity:1;stroke-miterlimit:10;\" d=\"M 59.039062 158.800781 L 51.839844 158.800781 \"/>\n",
       "<path style=\"fill:none;stroke-width:0.75;stroke-linecap:round;stroke-linejoin:round;stroke:rgb(0%,0%,0%);stroke-opacity:1;stroke-miterlimit:10;\" d=\"M 59.039062 72.800781 L 51.839844 72.800781 \"/>\n",
       "<g style=\"fill:rgb(0%,0%,0%);fill-opacity:1;\">\n",
       "  <use xlink:href=\"#glyph2-9\" x=\"41.538086\" y=\"420.300781\"/>\n",
       "</g>\n",
       "<g style=\"fill:rgb(0%,0%,0%);fill-opacity:1;\">\n",
       "  <use xlink:href=\"#glyph2-10\" x=\"41.538086\" y=\"337.800781\"/>\n",
       "  <use xlink:href=\"#glyph2-9\" x=\"41.538086\" y=\"331.128906\"/>\n",
       "</g>\n",
       "<g style=\"fill:rgb(0%,0%,0%);fill-opacity:1;\">\n",
       "  <use xlink:href=\"#glyph2-11\" x=\"41.538086\" y=\"251.800781\"/>\n",
       "  <use xlink:href=\"#glyph2-9\" x=\"41.538086\" y=\"245.128906\"/>\n",
       "</g>\n",
       "<g style=\"fill:rgb(0%,0%,0%);fill-opacity:1;\">\n",
       "  <use xlink:href=\"#glyph2-12\" x=\"41.538086\" y=\"165.800781\"/>\n",
       "  <use xlink:href=\"#glyph2-9\" x=\"41.538086\" y=\"159.128906\"/>\n",
       "</g>\n",
       "<g style=\"fill:rgb(0%,0%,0%);fill-opacity:1;\">\n",
       "  <use xlink:href=\"#glyph2-13\" x=\"41.538086\" y=\"79.800781\"/>\n",
       "  <use xlink:href=\"#glyph2-9\" x=\"41.538086\" y=\"73.128906\"/>\n",
       "</g>\n",
       "<path style=\"fill:none;stroke-width:0.75;stroke-linecap:round;stroke-linejoin:round;stroke:rgb(0%,0%,0%);stroke-opacity:1;stroke-miterlimit:10;\" d=\"M 74.398438 416.800781 L 75.347656 416.800781 L 75.347656 408.199219 L 74.398438 408.199219 Z M 74.398438 416.800781 \"/>\n",
       "<path style=\"fill:none;stroke-width:0.75;stroke-linecap:round;stroke-linejoin:round;stroke:rgb(0%,0%,0%);stroke-opacity:1;stroke-miterlimit:10;\" d=\"M 75.347656 416.800781 L 76.296875 416.800781 L 76.296875 408.199219 L 75.347656 408.199219 Z M 75.347656 416.800781 \"/>\n",
       "<path style=\"fill:none;stroke-width:0.75;stroke-linecap:round;stroke-linejoin:round;stroke:rgb(0%,0%,0%);stroke-opacity:1;stroke-miterlimit:10;\" d=\"M 76.296875 416.800781 L 77.246094 416.800781 L 77.246094 408.199219 L 76.296875 408.199219 Z M 76.296875 416.800781 \"/>\n",
       "<path style=\"fill:none;stroke-width:0.75;stroke-linecap:round;stroke-linejoin:round;stroke:rgb(0%,0%,0%);stroke-opacity:1;stroke-miterlimit:10;\" d=\"M 77.246094 416.800781 L 78.195312 416.800781 L 78.195312 399.601562 L 77.246094 399.601562 Z M 77.246094 416.800781 \"/>\n",
       "<path style=\"fill:none;stroke-width:0.75;stroke-linecap:round;stroke-linejoin:round;stroke:rgb(0%,0%,0%);stroke-opacity:1;stroke-miterlimit:10;\" d=\"M 78.191406 416.800781 L 79.140625 416.800781 L 79.140625 408.199219 L 78.191406 408.199219 Z M 78.191406 416.800781 \"/>\n",
       "<path style=\"fill:none;stroke-width:0.75;stroke-linecap:round;stroke-linejoin:round;stroke:rgb(0%,0%,0%);stroke-opacity:1;stroke-miterlimit:10;\" d=\"M 79.140625 416.800781 L 80.089844 416.800781 L 80.089844 399.601562 L 79.140625 399.601562 Z M 79.140625 416.800781 \"/>\n",
       "<path style=\"fill:none;stroke-width:0.75;stroke-linecap:round;stroke-linejoin:round;stroke:rgb(0%,0%,0%);stroke-opacity:1;stroke-miterlimit:10;\" d=\"M 80.089844 416.800781 L 81.039062 416.800781 L 81.039062 399.601562 L 80.089844 399.601562 Z M 80.089844 416.800781 \"/>\n",
       "<path style=\"fill:none;stroke-width:0.75;stroke-linecap:round;stroke-linejoin:round;stroke:rgb(0%,0%,0%);stroke-opacity:1;stroke-miterlimit:10;\" d=\"M 81.035156 416.800781 L 81.984375 416.800781 L 81.984375 382.402344 L 81.035156 382.402344 Z M 81.035156 416.800781 \"/>\n",
       "<path style=\"fill:none;stroke-width:0.75;stroke-linecap:round;stroke-linejoin:round;stroke:rgb(0%,0%,0%);stroke-opacity:1;stroke-miterlimit:10;\" d=\"M 81.984375 416.800781 L 82.933594 416.800781 L 82.933594 365.199219 L 81.984375 365.199219 Z M 81.984375 416.800781 \"/>\n",
       "<path style=\"fill:none;stroke-width:0.75;stroke-linecap:round;stroke-linejoin:round;stroke:rgb(0%,0%,0%);stroke-opacity:1;stroke-miterlimit:10;\" d=\"M 82.933594 416.800781 L 83.882812 416.800781 L 83.882812 236.199219 L 82.933594 236.199219 Z M 82.933594 416.800781 \"/>\n",
       "<path style=\"fill:none;stroke-width:0.75;stroke-linecap:round;stroke-linejoin:round;stroke:rgb(0%,0%,0%);stroke-opacity:1;stroke-miterlimit:10;\" d=\"M 83.882812 416.800781 L 84.832031 416.800781 L 84.832031 262 L 83.882812 262 Z M 83.882812 416.800781 \"/>\n",
       "<path style=\"fill:none;stroke-width:0.75;stroke-linecap:round;stroke-linejoin:round;stroke:rgb(0%,0%,0%);stroke-opacity:1;stroke-miterlimit:10;\" d=\"M 84.828125 416.800781 L 85.777344 416.800781 L 85.777344 184.601562 L 84.828125 184.601562 Z M 84.828125 416.800781 \"/>\n",
       "<path style=\"fill:none;stroke-width:0.75;stroke-linecap:round;stroke-linejoin:round;stroke:rgb(0%,0%,0%);stroke-opacity:1;stroke-miterlimit:10;\" d=\"M 85.777344 416.800781 L 86.726562 416.800781 L 86.726562 98.601562 L 85.777344 98.601562 Z M 85.777344 416.800781 \"/>\n",
       "<path style=\"fill:none;stroke-width:0.75;stroke-linecap:round;stroke-linejoin:round;stroke:rgb(0%,0%,0%);stroke-opacity:1;stroke-miterlimit:10;\" d=\"M 86.726562 416.800781 L 87.675781 416.800781 L 87.675781 193.199219 L 86.726562 193.199219 Z M 86.726562 416.800781 \"/>\n",
       "<path style=\"fill:none;stroke-width:0.75;stroke-linecap:round;stroke-linejoin:round;stroke:rgb(0%,0%,0%);stroke-opacity:1;stroke-miterlimit:10;\" d=\"M 87.675781 416.800781 L 88.625 416.800781 L 88.625 176 L 87.675781 176 Z M 87.675781 416.800781 \"/>\n",
       "<path style=\"fill:none;stroke-width:0.75;stroke-linecap:round;stroke-linejoin:round;stroke:rgb(0%,0%,0%);stroke-opacity:1;stroke-miterlimit:10;\" d=\"M 88.621094 416.800781 L 89.570312 416.800781 L 89.570312 72.800781 L 88.621094 72.800781 Z M 88.621094 416.800781 \"/>\n",
       "<path style=\"fill:none;stroke-width:0.75;stroke-linecap:round;stroke-linejoin:round;stroke:rgb(0%,0%,0%);stroke-opacity:1;stroke-miterlimit:10;\" d=\"M 89.570312 416.800781 L 90.519531 416.800781 L 90.519531 176 L 89.570312 176 Z M 89.570312 416.800781 \"/>\n",
       "<path style=\"fill:none;stroke-width:0.75;stroke-linecap:round;stroke-linejoin:round;stroke:rgb(0%,0%,0%);stroke-opacity:1;stroke-miterlimit:10;\" d=\"M 90.519531 416.800781 L 91.46875 416.800781 L 91.46875 133 L 90.519531 133 Z M 90.519531 416.800781 \"/>\n",
       "<path style=\"fill:none;stroke-width:0.75;stroke-linecap:round;stroke-linejoin:round;stroke:rgb(0%,0%,0%);stroke-opacity:1;stroke-miterlimit:10;\" d=\"M 91.464844 416.800781 L 92.414062 416.800781 L 92.414062 176 L 91.464844 176 Z M 91.464844 416.800781 \"/>\n",
       "<path style=\"fill:none;stroke-width:0.75;stroke-linecap:round;stroke-linejoin:round;stroke:rgb(0%,0%,0%);stroke-opacity:1;stroke-miterlimit:10;\" d=\"M 92.414062 416.800781 L 93.363281 416.800781 L 93.363281 176 L 92.414062 176 Z M 92.414062 416.800781 \"/>\n",
       "<path style=\"fill:none;stroke-width:0.75;stroke-linecap:round;stroke-linejoin:round;stroke:rgb(0%,0%,0%);stroke-opacity:1;stroke-miterlimit:10;\" d=\"M 93.363281 416.800781 L 94.3125 416.800781 L 94.3125 244.800781 L 93.363281 244.800781 Z M 93.363281 416.800781 \"/>\n",
       "<path style=\"fill:none;stroke-width:0.75;stroke-linecap:round;stroke-linejoin:round;stroke:rgb(0%,0%,0%);stroke-opacity:1;stroke-miterlimit:10;\" d=\"M 94.3125 416.800781 L 95.261719 416.800781 L 95.261719 253.402344 L 94.3125 253.402344 Z M 94.3125 416.800781 \"/>\n",
       "<path style=\"fill:none;stroke-width:0.75;stroke-linecap:round;stroke-linejoin:round;stroke:rgb(0%,0%,0%);stroke-opacity:1;stroke-miterlimit:10;\" d=\"M 95.257812 416.800781 L 96.207031 416.800781 L 96.207031 305 L 95.257812 305 Z M 95.257812 416.800781 \"/>\n",
       "<path style=\"fill:none;stroke-width:0.75;stroke-linecap:round;stroke-linejoin:round;stroke:rgb(0%,0%,0%);stroke-opacity:1;stroke-miterlimit:10;\" d=\"M 96.207031 416.800781 L 97.15625 416.800781 L 97.15625 244.800781 L 96.207031 244.800781 Z M 96.207031 416.800781 \"/>\n",
       "<path style=\"fill:none;stroke-width:0.75;stroke-linecap:round;stroke-linejoin:round;stroke:rgb(0%,0%,0%);stroke-opacity:1;stroke-miterlimit:10;\" d=\"M 97.15625 416.800781 L 98.105469 416.800781 L 98.105469 270.601562 L 97.15625 270.601562 Z M 97.15625 416.800781 \"/>\n",
       "<path style=\"fill:none;stroke-width:0.75;stroke-linecap:round;stroke-linejoin:round;stroke:rgb(0%,0%,0%);stroke-opacity:1;stroke-miterlimit:10;\" d=\"M 98.105469 416.800781 L 99.054688 416.800781 L 99.054688 348 L 98.105469 348 Z M 98.105469 416.800781 \"/>\n",
       "<path style=\"fill:none;stroke-width:0.75;stroke-linecap:round;stroke-linejoin:round;stroke:rgb(0%,0%,0%);stroke-opacity:1;stroke-miterlimit:10;\" d=\"M 99.050781 416.800781 L 100 416.800781 L 100 356.601562 L 99.050781 356.601562 Z M 99.050781 416.800781 \"/>\n",
       "<path style=\"fill:none;stroke-width:0.75;stroke-linecap:round;stroke-linejoin:round;stroke:rgb(0%,0%,0%);stroke-opacity:1;stroke-miterlimit:10;\" d=\"M 100 416.800781 L 100.949219 416.800781 L 100.949219 322.199219 L 100 322.199219 Z M 100 416.800781 \"/>\n",
       "<path style=\"fill:none;stroke-width:0.75;stroke-linecap:round;stroke-linejoin:round;stroke:rgb(0%,0%,0%);stroke-opacity:1;stroke-miterlimit:10;\" d=\"M 100.949219 416.800781 L 101.898438 416.800781 L 101.898438 313.601562 L 100.949219 313.601562 Z M 100.949219 416.800781 \"/>\n",
       "<path style=\"fill:none;stroke-width:0.75;stroke-linecap:round;stroke-linejoin:round;stroke:rgb(0%,0%,0%);stroke-opacity:1;stroke-miterlimit:10;\" d=\"M 101.894531 416.800781 L 102.84375 416.800781 L 102.84375 279.199219 L 101.894531 279.199219 Z M 101.894531 416.800781 \"/>\n",
       "<path style=\"fill:none;stroke-width:0.75;stroke-linecap:round;stroke-linejoin:round;stroke:rgb(0%,0%,0%);stroke-opacity:1;stroke-miterlimit:10;\" d=\"M 102.84375 416.800781 L 103.792969 416.800781 L 103.792969 339.402344 L 102.84375 339.402344 Z M 102.84375 416.800781 \"/>\n",
       "<path style=\"fill:none;stroke-width:0.75;stroke-linecap:round;stroke-linejoin:round;stroke:rgb(0%,0%,0%);stroke-opacity:1;stroke-miterlimit:10;\" d=\"M 103.792969 416.800781 L 104.742188 416.800781 L 104.742188 305 L 103.792969 305 Z M 103.792969 416.800781 \"/>\n",
       "<path style=\"fill:none;stroke-width:0.75;stroke-linecap:round;stroke-linejoin:round;stroke:rgb(0%,0%,0%);stroke-opacity:1;stroke-miterlimit:10;\" d=\"M 104.742188 416.800781 L 105.691406 416.800781 L 105.691406 382.402344 L 104.742188 382.402344 Z M 104.742188 416.800781 \"/>\n",
       "<path style=\"fill:none;stroke-width:0.75;stroke-linecap:round;stroke-linejoin:round;stroke:rgb(0%,0%,0%);stroke-opacity:1;stroke-miterlimit:10;\" d=\"M 105.6875 416.800781 L 106.636719 416.800781 L 106.636719 373.800781 L 105.6875 373.800781 Z M 105.6875 416.800781 \"/>\n",
       "<path style=\"fill:none;stroke-width:0.75;stroke-linecap:round;stroke-linejoin:round;stroke:rgb(0%,0%,0%);stroke-opacity:1;stroke-miterlimit:10;\" d=\"M 106.636719 416.800781 L 107.585938 416.800781 L 107.585938 391 L 106.636719 391 Z M 106.636719 416.800781 \"/>\n",
       "<path style=\"fill:none;stroke-width:0.75;stroke-linecap:round;stroke-linejoin:round;stroke:rgb(0%,0%,0%);stroke-opacity:1;stroke-miterlimit:10;\" d=\"M 107.585938 416.800781 L 108.535156 416.800781 L 108.535156 373.800781 L 107.585938 373.800781 Z M 107.585938 416.800781 \"/>\n",
       "<path style=\"fill:none;stroke-width:0.75;stroke-linecap:round;stroke-linejoin:round;stroke:rgb(0%,0%,0%);stroke-opacity:1;stroke-miterlimit:10;\" d=\"M 108.535156 416.800781 L 109.484375 416.800781 L 109.484375 391 L 108.535156 391 Z M 108.535156 416.800781 \"/>\n",
       "<path style=\"fill:none;stroke-width:0.75;stroke-linecap:round;stroke-linejoin:round;stroke:rgb(0%,0%,0%);stroke-opacity:1;stroke-miterlimit:10;\" d=\"M 109.480469 416.800781 L 110.429688 416.800781 L 110.429688 382.402344 L 109.480469 382.402344 Z M 109.480469 416.800781 \"/>\n",
       "<path style=\"fill:none;stroke-width:0.75;stroke-linecap:round;stroke-linejoin:round;stroke:rgb(0%,0%,0%);stroke-opacity:1;stroke-miterlimit:10;\" d=\"M 110.429688 416.800781 L 111.378906 416.800781 L 111.378906 382.402344 L 110.429688 382.402344 Z M 110.429688 416.800781 \"/>\n",
       "<path style=\"fill:none;stroke-width:0.75;stroke-linecap:round;stroke-linejoin:round;stroke:rgb(0%,0%,0%);stroke-opacity:1;stroke-miterlimit:10;\" d=\"M 111.378906 416.800781 L 112.328125 416.800781 L 112.328125 382.402344 L 111.378906 382.402344 Z M 111.378906 416.800781 \"/>\n",
       "<path style=\"fill:none;stroke-width:0.75;stroke-linecap:round;stroke-linejoin:round;stroke:rgb(0%,0%,0%);stroke-opacity:1;stroke-miterlimit:10;\" d=\"M 112.324219 416.800781 L 113.273438 416.800781 L 113.273438 399.601562 L 112.324219 399.601562 Z M 112.324219 416.800781 \"/>\n",
       "<path style=\"fill:none;stroke-width:0.75;stroke-linecap:round;stroke-linejoin:round;stroke:rgb(0%,0%,0%);stroke-opacity:1;stroke-miterlimit:10;\" d=\"M 113.273438 416.800781 L 114.222656 416.800781 L 114.222656 365.199219 L 113.273438 365.199219 Z M 113.273438 416.800781 \"/>\n",
       "<path style=\"fill:none;stroke-width:0.75;stroke-linecap:round;stroke-linejoin:round;stroke:rgb(0%,0%,0%);stroke-opacity:1;stroke-miterlimit:10;\" d=\"M 114.222656 416.800781 L 115.171875 416.800781 L 115.171875 408.199219 L 114.222656 408.199219 Z M 114.222656 416.800781 \"/>\n",
       "<path style=\"fill:none;stroke-width:0.75;stroke-linecap:round;stroke-linejoin:round;stroke:rgb(0%,0%,0%);stroke-opacity:1;stroke-miterlimit:10;\" d=\"M 115.171875 416.800781 L 116.121094 416.800781 L 116.121094 373.800781 L 115.171875 373.800781 Z M 115.171875 416.800781 \"/>\n",
       "<path style=\"fill:none;stroke-width:0.75;stroke-linecap:round;stroke-linejoin:round;stroke:rgb(0%,0%,0%);stroke-opacity:1;stroke-miterlimit:10;\" d=\"M 116.117188 416.800781 L 117.066406 416.800781 Z M 116.117188 416.800781 \"/>\n",
       "<path style=\"fill:none;stroke-width:0.75;stroke-linecap:round;stroke-linejoin:round;stroke:rgb(0%,0%,0%);stroke-opacity:1;stroke-miterlimit:10;\" d=\"M 117.066406 416.800781 L 118.015625 416.800781 L 118.015625 391 L 117.066406 391 Z M 117.066406 416.800781 \"/>\n",
       "<path style=\"fill:none;stroke-width:0.75;stroke-linecap:round;stroke-linejoin:round;stroke:rgb(0%,0%,0%);stroke-opacity:1;stroke-miterlimit:10;\" d=\"M 118.015625 416.800781 L 118.964844 416.800781 L 118.964844 382.402344 L 118.015625 382.402344 Z M 118.015625 416.800781 \"/>\n",
       "<path style=\"fill:none;stroke-width:0.75;stroke-linecap:round;stroke-linejoin:round;stroke:rgb(0%,0%,0%);stroke-opacity:1;stroke-miterlimit:10;\" d=\"M 118.964844 416.800781 L 119.914062 416.800781 L 119.914062 382.402344 L 118.964844 382.402344 Z M 118.964844 416.800781 \"/>\n",
       "<path style=\"fill:none;stroke-width:0.75;stroke-linecap:round;stroke-linejoin:round;stroke:rgb(0%,0%,0%);stroke-opacity:1;stroke-miterlimit:10;\" d=\"M 119.910156 416.800781 L 120.859375 416.800781 L 120.859375 408.199219 L 119.910156 408.199219 Z M 119.910156 416.800781 \"/>\n",
       "<path style=\"fill:none;stroke-width:0.75;stroke-linecap:round;stroke-linejoin:round;stroke:rgb(0%,0%,0%);stroke-opacity:1;stroke-miterlimit:10;\" d=\"M 120.859375 416.800781 L 121.808594 416.800781 L 121.808594 373.800781 L 120.859375 373.800781 Z M 120.859375 416.800781 \"/>\n",
       "<path style=\"fill:none;stroke-width:0.75;stroke-linecap:round;stroke-linejoin:round;stroke:rgb(0%,0%,0%);stroke-opacity:1;stroke-miterlimit:10;\" d=\"M 121.808594 416.800781 L 122.757812 416.800781 L 122.757812 399.601562 L 121.808594 399.601562 Z M 121.808594 416.800781 \"/>\n",
       "<path style=\"fill:none;stroke-width:0.75;stroke-linecap:round;stroke-linejoin:round;stroke:rgb(0%,0%,0%);stroke-opacity:1;stroke-miterlimit:10;\" d=\"M 122.753906 416.800781 L 123.703125 416.800781 Z M 122.753906 416.800781 \"/>\n",
       "<path style=\"fill:none;stroke-width:0.75;stroke-linecap:round;stroke-linejoin:round;stroke:rgb(0%,0%,0%);stroke-opacity:1;stroke-miterlimit:10;\" d=\"M 123.703125 416.800781 L 124.652344 416.800781 L 124.652344 391 L 123.703125 391 Z M 123.703125 416.800781 \"/>\n",
       "<path style=\"fill:none;stroke-width:0.75;stroke-linecap:round;stroke-linejoin:round;stroke:rgb(0%,0%,0%);stroke-opacity:1;stroke-miterlimit:10;\" d=\"M 124.652344 416.800781 L 125.601562 416.800781 L 125.601562 408.199219 L 124.652344 408.199219 Z M 124.652344 416.800781 \"/>\n",
       "<path style=\"fill:none;stroke-width:0.75;stroke-linecap:round;stroke-linejoin:round;stroke:rgb(0%,0%,0%);stroke-opacity:1;stroke-miterlimit:10;\" d=\"M 125.601562 416.800781 L 126.550781 416.800781 L 126.550781 399.601562 L 125.601562 399.601562 Z M 125.601562 416.800781 \"/>\n",
       "<path style=\"fill:none;stroke-width:0.75;stroke-linecap:round;stroke-linejoin:round;stroke:rgb(0%,0%,0%);stroke-opacity:1;stroke-miterlimit:10;\" d=\"M 126.546875 416.800781 L 127.496094 416.800781 L 127.496094 408.199219 L 126.546875 408.199219 Z M 126.546875 416.800781 \"/>\n",
       "<path style=\"fill:none;stroke-width:0.75;stroke-linecap:round;stroke-linejoin:round;stroke:rgb(0%,0%,0%);stroke-opacity:1;stroke-miterlimit:10;\" d=\"M 127.496094 416.800781 L 128.445312 416.800781 L 128.445312 408.199219 L 127.496094 408.199219 Z M 127.496094 416.800781 \"/>\n",
       "<path style=\"fill:none;stroke-width:0.75;stroke-linecap:round;stroke-linejoin:round;stroke:rgb(0%,0%,0%);stroke-opacity:1;stroke-miterlimit:10;\" d=\"M 128.445312 416.800781 L 129.394531 416.800781 L 129.394531 399.601562 L 128.445312 399.601562 Z M 128.445312 416.800781 \"/>\n",
       "<path style=\"fill:none;stroke-width:0.75;stroke-linecap:round;stroke-linejoin:round;stroke:rgb(0%,0%,0%);stroke-opacity:1;stroke-miterlimit:10;\" d=\"M 129.394531 416.800781 L 130.34375 416.800781 L 130.34375 408.199219 L 129.394531 408.199219 Z M 129.394531 416.800781 \"/>\n",
       "<path style=\"fill:none;stroke-width:0.75;stroke-linecap:round;stroke-linejoin:round;stroke:rgb(0%,0%,0%);stroke-opacity:1;stroke-miterlimit:10;\" d=\"M 130.339844 416.800781 L 131.289062 416.800781 L 131.289062 399.601562 L 130.339844 399.601562 Z M 130.339844 416.800781 \"/>\n",
       "<path style=\"fill:none;stroke-width:0.75;stroke-linecap:round;stroke-linejoin:round;stroke:rgb(0%,0%,0%);stroke-opacity:1;stroke-miterlimit:10;\" d=\"M 131.289062 416.800781 L 132.238281 416.800781 Z M 131.289062 416.800781 \"/>\n",
       "<path style=\"fill:none;stroke-width:0.75;stroke-linecap:round;stroke-linejoin:round;stroke:rgb(0%,0%,0%);stroke-opacity:1;stroke-miterlimit:10;\" d=\"M 132.238281 416.800781 L 133.1875 416.800781 Z M 132.238281 416.800781 \"/>\n",
       "<path style=\"fill:none;stroke-width:0.75;stroke-linecap:round;stroke-linejoin:round;stroke:rgb(0%,0%,0%);stroke-opacity:1;stroke-miterlimit:10;\" d=\"M 133.183594 416.800781 L 134.132812 416.800781 L 134.132812 408.199219 L 133.183594 408.199219 Z M 133.183594 416.800781 \"/>\n",
       "<path style=\"fill:none;stroke-width:0.75;stroke-linecap:round;stroke-linejoin:round;stroke:rgb(0%,0%,0%);stroke-opacity:1;stroke-miterlimit:10;\" d=\"M 134.132812 416.800781 L 135.082031 416.800781 Z M 134.132812 416.800781 \"/>\n",
       "<path style=\"fill:none;stroke-width:0.75;stroke-linecap:round;stroke-linejoin:round;stroke:rgb(0%,0%,0%);stroke-opacity:1;stroke-miterlimit:10;\" d=\"M 135.082031 416.800781 L 136.03125 416.800781 L 136.03125 399.601562 L 135.082031 399.601562 Z M 135.082031 416.800781 \"/>\n",
       "<path style=\"fill:none;stroke-width:0.75;stroke-linecap:round;stroke-linejoin:round;stroke:rgb(0%,0%,0%);stroke-opacity:1;stroke-miterlimit:10;\" d=\"M 136.03125 416.800781 L 136.980469 416.800781 Z M 136.03125 416.800781 \"/>\n",
       "<path style=\"fill:none;stroke-width:0.75;stroke-linecap:round;stroke-linejoin:round;stroke:rgb(0%,0%,0%);stroke-opacity:1;stroke-miterlimit:10;\" d=\"M 136.976562 416.800781 L 137.925781 416.800781 L 137.925781 408.199219 L 136.976562 408.199219 Z M 136.976562 416.800781 \"/>\n",
       "<path style=\"fill:none;stroke-width:0.75;stroke-linecap:round;stroke-linejoin:round;stroke:rgb(0%,0%,0%);stroke-opacity:1;stroke-miterlimit:10;\" d=\"M 137.925781 416.800781 L 138.875 416.800781 Z M 137.925781 416.800781 \"/>\n",
       "<path style=\"fill:none;stroke-width:0.75;stroke-linecap:round;stroke-linejoin:round;stroke:rgb(0%,0%,0%);stroke-opacity:1;stroke-miterlimit:10;\" d=\"M 138.875 416.800781 L 139.824219 416.800781 L 139.824219 408.199219 L 138.875 408.199219 Z M 138.875 416.800781 \"/>\n",
       "<path style=\"fill:none;stroke-width:0.75;stroke-linecap:round;stroke-linejoin:round;stroke:rgb(0%,0%,0%);stroke-opacity:1;stroke-miterlimit:10;\" d=\"M 139.820312 416.800781 L 140.769531 416.800781 Z M 139.820312 416.800781 \"/>\n",
       "<path style=\"fill:none;stroke-width:0.75;stroke-linecap:round;stroke-linejoin:round;stroke:rgb(0%,0%,0%);stroke-opacity:1;stroke-miterlimit:10;\" d=\"M 140.769531 416.800781 L 141.71875 416.800781 Z M 140.769531 416.800781 \"/>\n",
       "<path style=\"fill:none;stroke-width:0.75;stroke-linecap:round;stroke-linejoin:round;stroke:rgb(0%,0%,0%);stroke-opacity:1;stroke-miterlimit:10;\" d=\"M 141.71875 416.800781 L 142.667969 416.800781 Z M 141.71875 416.800781 \"/>\n",
       "<path style=\"fill:none;stroke-width:0.75;stroke-linecap:round;stroke-linejoin:round;stroke:rgb(0%,0%,0%);stroke-opacity:1;stroke-miterlimit:10;\" d=\"M 142.667969 416.800781 L 143.617188 416.800781 L 143.617188 399.601562 L 142.667969 399.601562 Z M 142.667969 416.800781 \"/>\n",
       "<path style=\"fill:none;stroke-width:0.75;stroke-linecap:round;stroke-linejoin:round;stroke:rgb(0%,0%,0%);stroke-opacity:1;stroke-miterlimit:10;\" d=\"M 143.613281 416.800781 L 144.5625 416.800781 L 144.5625 408.199219 L 143.613281 408.199219 Z M 143.613281 416.800781 \"/>\n",
       "<path style=\"fill:none;stroke-width:0.75;stroke-linecap:round;stroke-linejoin:round;stroke:rgb(0%,0%,0%);stroke-opacity:1;stroke-miterlimit:10;\" d=\"M 144.5625 416.800781 L 145.511719 416.800781 L 145.511719 382.402344 L 144.5625 382.402344 Z M 144.5625 416.800781 \"/>\n",
       "<path style=\"fill:none;stroke-width:0.75;stroke-linecap:round;stroke-linejoin:round;stroke:rgb(0%,0%,0%);stroke-opacity:1;stroke-miterlimit:10;\" d=\"M 145.511719 416.800781 L 146.460938 416.800781 Z M 145.511719 416.800781 \"/>\n",
       "<path style=\"fill:none;stroke-width:0.75;stroke-linecap:round;stroke-linejoin:round;stroke:rgb(0%,0%,0%);stroke-opacity:1;stroke-miterlimit:10;\" d=\"M 146.460938 416.800781 L 147.410156 416.800781 Z M 146.460938 416.800781 \"/>\n",
       "<path style=\"fill:none;stroke-width:0.75;stroke-linecap:round;stroke-linejoin:round;stroke:rgb(0%,0%,0%);stroke-opacity:1;stroke-miterlimit:10;\" d=\"M 147.40625 416.800781 L 148.355469 416.800781 Z M 147.40625 416.800781 \"/>\n",
       "<path style=\"fill:none;stroke-width:0.75;stroke-linecap:round;stroke-linejoin:round;stroke:rgb(0%,0%,0%);stroke-opacity:1;stroke-miterlimit:10;\" d=\"M 148.355469 416.800781 L 149.304688 416.800781 L 149.304688 408.199219 L 148.355469 408.199219 Z M 148.355469 416.800781 \"/>\n",
       "<path style=\"fill:none;stroke-width:0.75;stroke-linecap:round;stroke-linejoin:round;stroke:rgb(0%,0%,0%);stroke-opacity:1;stroke-miterlimit:10;\" d=\"M 149.304688 416.800781 L 150.253906 416.800781 Z M 149.304688 416.800781 \"/>\n",
       "<path style=\"fill:none;stroke-width:0.75;stroke-linecap:round;stroke-linejoin:round;stroke:rgb(0%,0%,0%);stroke-opacity:1;stroke-miterlimit:10;\" d=\"M 150.25 416.800781 L 151.199219 416.800781 L 151.199219 408.199219 L 150.25 408.199219 Z M 150.25 416.800781 \"/>\n",
       "<path style=\"fill:none;stroke-width:0.75;stroke-linecap:round;stroke-linejoin:round;stroke:rgb(0%,0%,0%);stroke-opacity:1;stroke-miterlimit:10;\" d=\"M 151.199219 416.800781 L 152.148438 416.800781 L 152.148438 408.199219 L 151.199219 408.199219 Z M 151.199219 416.800781 \"/>\n",
       "<path style=\"fill:none;stroke-width:0.75;stroke-linecap:round;stroke-linejoin:round;stroke:rgb(0%,0%,0%);stroke-opacity:1;stroke-miterlimit:10;\" d=\"M 152.148438 416.800781 L 153.097656 416.800781 L 153.097656 408.199219 L 152.148438 408.199219 Z M 152.148438 416.800781 \"/>\n",
       "<path style=\"fill:none;stroke-width:0.75;stroke-linecap:round;stroke-linejoin:round;stroke:rgb(0%,0%,0%);stroke-opacity:1;stroke-miterlimit:10;\" d=\"M 153.097656 416.800781 L 154.046875 416.800781 L 154.046875 391 L 153.097656 391 Z M 153.097656 416.800781 \"/>\n",
       "<path style=\"fill:none;stroke-width:0.75;stroke-linecap:round;stroke-linejoin:round;stroke:rgb(0%,0%,0%);stroke-opacity:1;stroke-miterlimit:10;\" d=\"M 154.042969 416.800781 L 154.992188 416.800781 Z M 154.042969 416.800781 \"/>\n",
       "<path style=\"fill:none;stroke-width:0.75;stroke-linecap:round;stroke-linejoin:round;stroke:rgb(0%,0%,0%);stroke-opacity:1;stroke-miterlimit:10;\" d=\"M 154.992188 416.800781 L 155.941406 416.800781 Z M 154.992188 416.800781 \"/>\n",
       "<path style=\"fill:none;stroke-width:0.75;stroke-linecap:round;stroke-linejoin:round;stroke:rgb(0%,0%,0%);stroke-opacity:1;stroke-miterlimit:10;\" d=\"M 155.941406 416.800781 L 156.890625 416.800781 L 156.890625 408.199219 L 155.941406 408.199219 Z M 155.941406 416.800781 \"/>\n",
       "<path style=\"fill:none;stroke-width:0.75;stroke-linecap:round;stroke-linejoin:round;stroke:rgb(0%,0%,0%);stroke-opacity:1;stroke-miterlimit:10;\" d=\"M 156.890625 416.800781 L 157.839844 416.800781 L 157.839844 408.199219 L 156.890625 408.199219 Z M 156.890625 416.800781 \"/>\n",
       "<path style=\"fill:none;stroke-width:0.75;stroke-linecap:round;stroke-linejoin:round;stroke:rgb(0%,0%,0%);stroke-opacity:1;stroke-miterlimit:10;\" d=\"M 157.835938 416.800781 L 158.785156 416.800781 Z M 157.835938 416.800781 \"/>\n",
       "<path style=\"fill:none;stroke-width:0.75;stroke-linecap:round;stroke-linejoin:round;stroke:rgb(0%,0%,0%);stroke-opacity:1;stroke-miterlimit:10;\" d=\"M 158.785156 416.800781 L 159.734375 416.800781 Z M 158.785156 416.800781 \"/>\n",
       "<path style=\"fill:none;stroke-width:0.75;stroke-linecap:round;stroke-linejoin:round;stroke:rgb(0%,0%,0%);stroke-opacity:1;stroke-miterlimit:10;\" d=\"M 159.734375 416.800781 L 160.683594 416.800781 L 160.683594 408.199219 L 159.734375 408.199219 Z M 159.734375 416.800781 \"/>\n",
       "<path style=\"fill:none;stroke-width:0.75;stroke-linecap:round;stroke-linejoin:round;stroke:rgb(0%,0%,0%);stroke-opacity:1;stroke-miterlimit:10;\" d=\"M 160.679688 416.800781 L 161.628906 416.800781 L 161.628906 408.199219 L 160.679688 408.199219 Z M 160.679688 416.800781 \"/>\n",
       "<path style=\"fill:none;stroke-width:0.75;stroke-linecap:round;stroke-linejoin:round;stroke:rgb(0%,0%,0%);stroke-opacity:1;stroke-miterlimit:10;\" d=\"M 161.628906 416.800781 L 162.578125 416.800781 Z M 161.628906 416.800781 \"/>\n",
       "<path style=\"fill:none;stroke-width:0.75;stroke-linecap:round;stroke-linejoin:round;stroke:rgb(0%,0%,0%);stroke-opacity:1;stroke-miterlimit:10;\" d=\"M 162.578125 416.800781 L 163.527344 416.800781 Z M 162.578125 416.800781 \"/>\n",
       "<path style=\"fill:none;stroke-width:0.75;stroke-linecap:round;stroke-linejoin:round;stroke:rgb(0%,0%,0%);stroke-opacity:1;stroke-miterlimit:10;\" d=\"M 163.527344 416.800781 L 164.476562 416.800781 Z M 163.527344 416.800781 \"/>\n",
       "<path style=\"fill:none;stroke-width:0.75;stroke-linecap:round;stroke-linejoin:round;stroke:rgb(0%,0%,0%);stroke-opacity:1;stroke-miterlimit:10;\" d=\"M 164.472656 416.800781 L 165.421875 416.800781 Z M 164.472656 416.800781 \"/>\n",
       "<path style=\"fill:none;stroke-width:0.75;stroke-linecap:round;stroke-linejoin:round;stroke:rgb(0%,0%,0%);stroke-opacity:1;stroke-miterlimit:10;\" d=\"M 165.421875 416.800781 L 166.371094 416.800781 Z M 165.421875 416.800781 \"/>\n",
       "<path style=\"fill:none;stroke-width:0.75;stroke-linecap:round;stroke-linejoin:round;stroke:rgb(0%,0%,0%);stroke-opacity:1;stroke-miterlimit:10;\" d=\"M 166.371094 416.800781 L 167.320312 416.800781 L 167.320312 408.199219 L 166.371094 408.199219 Z M 166.371094 416.800781 \"/>\n",
       "<path style=\"fill:none;stroke-width:0.75;stroke-linecap:round;stroke-linejoin:round;stroke:rgb(0%,0%,0%);stroke-opacity:1;stroke-miterlimit:10;\" d=\"M 167.320312 416.800781 L 168.269531 416.800781 L 168.269531 408.199219 L 167.320312 408.199219 Z M 167.320312 416.800781 \"/>\n",
       "<path style=\"fill:none;stroke-width:0.75;stroke-linecap:round;stroke-linejoin:round;stroke:rgb(0%,0%,0%);stroke-opacity:1;stroke-miterlimit:10;\" d=\"M 168.265625 416.800781 L 169.214844 416.800781 Z M 168.265625 416.800781 \"/>\n",
       "<path style=\"fill:none;stroke-width:0.75;stroke-linecap:round;stroke-linejoin:round;stroke:rgb(0%,0%,0%);stroke-opacity:1;stroke-miterlimit:10;\" d=\"M 169.214844 416.800781 L 170.164062 416.800781 L 170.164062 408.199219 L 169.214844 408.199219 Z M 169.214844 416.800781 \"/>\n",
       "<path style=\"fill:none;stroke-width:0.75;stroke-linecap:round;stroke-linejoin:round;stroke:rgb(0%,0%,0%);stroke-opacity:1;stroke-miterlimit:10;\" d=\"M 170.164062 416.800781 L 171.113281 416.800781 L 171.113281 408.199219 L 170.164062 408.199219 Z M 170.164062 416.800781 \"/>\n",
       "<path style=\"fill:none;stroke-width:0.75;stroke-linecap:round;stroke-linejoin:round;stroke:rgb(0%,0%,0%);stroke-opacity:1;stroke-miterlimit:10;\" d=\"M 171.109375 416.800781 L 172.058594 416.800781 Z M 171.109375 416.800781 \"/>\n",
       "<path style=\"fill:none;stroke-width:0.75;stroke-linecap:round;stroke-linejoin:round;stroke:rgb(0%,0%,0%);stroke-opacity:1;stroke-miterlimit:10;\" d=\"M 172.058594 416.800781 L 173.007812 416.800781 L 173.007812 408.199219 L 172.058594 408.199219 Z M 172.058594 416.800781 \"/>\n",
       "<path style=\"fill:none;stroke-width:0.75;stroke-linecap:round;stroke-linejoin:round;stroke:rgb(0%,0%,0%);stroke-opacity:1;stroke-miterlimit:10;\" d=\"M 173.007812 416.800781 L 173.957031 416.800781 L 173.957031 408.199219 L 173.007812 408.199219 Z M 173.007812 416.800781 \"/>\n",
       "<path style=\"fill:none;stroke-width:0.75;stroke-linecap:round;stroke-linejoin:round;stroke:rgb(0%,0%,0%);stroke-opacity:1;stroke-miterlimit:10;\" d=\"M 173.957031 416.800781 L 174.90625 416.800781 Z M 173.957031 416.800781 \"/>\n",
       "<path style=\"fill:none;stroke-width:0.75;stroke-linecap:round;stroke-linejoin:round;stroke:rgb(0%,0%,0%);stroke-opacity:1;stroke-miterlimit:10;\" d=\"M 174.902344 416.800781 L 175.851562 416.800781 Z M 174.902344 416.800781 \"/>\n",
       "<path style=\"fill:none;stroke-width:0.75;stroke-linecap:round;stroke-linejoin:round;stroke:rgb(0%,0%,0%);stroke-opacity:1;stroke-miterlimit:10;\" d=\"M 175.851562 416.800781 L 176.800781 416.800781 Z M 175.851562 416.800781 \"/>\n",
       "<path style=\"fill:none;stroke-width:0.75;stroke-linecap:round;stroke-linejoin:round;stroke:rgb(0%,0%,0%);stroke-opacity:1;stroke-miterlimit:10;\" d=\"M 176.800781 416.800781 L 177.75 416.800781 Z M 176.800781 416.800781 \"/>\n",
       "<path style=\"fill:none;stroke-width:0.75;stroke-linecap:round;stroke-linejoin:round;stroke:rgb(0%,0%,0%);stroke-opacity:1;stroke-miterlimit:10;\" d=\"M 177.75 416.800781 L 178.699219 416.800781 Z M 177.75 416.800781 \"/>\n",
       "<path style=\"fill:none;stroke-width:0.75;stroke-linecap:round;stroke-linejoin:round;stroke:rgb(0%,0%,0%);stroke-opacity:1;stroke-miterlimit:10;\" d=\"M 178.695312 416.800781 L 179.644531 416.800781 Z M 178.695312 416.800781 \"/>\n",
       "<path style=\"fill:none;stroke-width:0.75;stroke-linecap:round;stroke-linejoin:round;stroke:rgb(0%,0%,0%);stroke-opacity:1;stroke-miterlimit:10;\" d=\"M 179.644531 416.800781 L 180.59375 416.800781 Z M 179.644531 416.800781 \"/>\n",
       "<path style=\"fill:none;stroke-width:0.75;stroke-linecap:round;stroke-linejoin:round;stroke:rgb(0%,0%,0%);stroke-opacity:1;stroke-miterlimit:10;\" d=\"M 180.59375 416.800781 L 181.542969 416.800781 Z M 180.59375 416.800781 \"/>\n",
       "<path style=\"fill:none;stroke-width:0.75;stroke-linecap:round;stroke-linejoin:round;stroke:rgb(0%,0%,0%);stroke-opacity:1;stroke-miterlimit:10;\" d=\"M 181.539062 416.800781 L 182.488281 416.800781 Z M 181.539062 416.800781 \"/>\n",
       "<path style=\"fill:none;stroke-width:0.75;stroke-linecap:round;stroke-linejoin:round;stroke:rgb(0%,0%,0%);stroke-opacity:1;stroke-miterlimit:10;\" d=\"M 182.488281 416.800781 L 183.4375 416.800781 Z M 182.488281 416.800781 \"/>\n",
       "<path style=\"fill:none;stroke-width:0.75;stroke-linecap:round;stroke-linejoin:round;stroke:rgb(0%,0%,0%);stroke-opacity:1;stroke-miterlimit:10;\" d=\"M 183.4375 416.800781 L 184.386719 416.800781 Z M 183.4375 416.800781 \"/>\n",
       "<path style=\"fill:none;stroke-width:0.75;stroke-linecap:round;stroke-linejoin:round;stroke:rgb(0%,0%,0%);stroke-opacity:1;stroke-miterlimit:10;\" d=\"M 184.386719 416.800781 L 185.335938 416.800781 Z M 184.386719 416.800781 \"/>\n",
       "<path style=\"fill:none;stroke-width:0.75;stroke-linecap:round;stroke-linejoin:round;stroke:rgb(0%,0%,0%);stroke-opacity:1;stroke-miterlimit:10;\" d=\"M 185.332031 416.800781 L 186.28125 416.800781 Z M 185.332031 416.800781 \"/>\n",
       "<path style=\"fill:none;stroke-width:0.75;stroke-linecap:round;stroke-linejoin:round;stroke:rgb(0%,0%,0%);stroke-opacity:1;stroke-miterlimit:10;\" d=\"M 186.28125 416.800781 L 187.230469 416.800781 Z M 186.28125 416.800781 \"/>\n",
       "<path style=\"fill:none;stroke-width:0.75;stroke-linecap:round;stroke-linejoin:round;stroke:rgb(0%,0%,0%);stroke-opacity:1;stroke-miterlimit:10;\" d=\"M 187.230469 416.800781 L 188.179688 416.800781 L 188.179688 408.199219 L 187.230469 408.199219 Z M 187.230469 416.800781 \"/>\n",
       "<path style=\"fill:none;stroke-width:0.75;stroke-linecap:round;stroke-linejoin:round;stroke:rgb(0%,0%,0%);stroke-opacity:1;stroke-miterlimit:10;\" d=\"M 188.179688 416.800781 L 189.128906 416.800781 Z M 188.179688 416.800781 \"/>\n",
       "<path style=\"fill:none;stroke-width:0.75;stroke-linecap:round;stroke-linejoin:round;stroke:rgb(0%,0%,0%);stroke-opacity:1;stroke-miterlimit:10;\" d=\"M 189.125 416.800781 L 190.074219 416.800781 Z M 189.125 416.800781 \"/>\n",
       "<path style=\"fill:none;stroke-width:0.75;stroke-linecap:round;stroke-linejoin:round;stroke:rgb(0%,0%,0%);stroke-opacity:1;stroke-miterlimit:10;\" d=\"M 190.074219 416.800781 L 191.023438 416.800781 Z M 190.074219 416.800781 \"/>\n",
       "<path style=\"fill:none;stroke-width:0.75;stroke-linecap:round;stroke-linejoin:round;stroke:rgb(0%,0%,0%);stroke-opacity:1;stroke-miterlimit:10;\" d=\"M 191.023438 416.800781 L 191.972656 416.800781 Z M 191.023438 416.800781 \"/>\n",
       "<path style=\"fill:none;stroke-width:0.75;stroke-linecap:round;stroke-linejoin:round;stroke:rgb(0%,0%,0%);stroke-opacity:1;stroke-miterlimit:10;\" d=\"M 191.96875 416.800781 L 192.917969 416.800781 Z M 191.96875 416.800781 \"/>\n",
       "<path style=\"fill:none;stroke-width:0.75;stroke-linecap:round;stroke-linejoin:round;stroke:rgb(0%,0%,0%);stroke-opacity:1;stroke-miterlimit:10;\" d=\"M 192.917969 416.800781 L 193.867188 416.800781 Z M 192.917969 416.800781 \"/>\n",
       "<path style=\"fill:none;stroke-width:0.75;stroke-linecap:round;stroke-linejoin:round;stroke:rgb(0%,0%,0%);stroke-opacity:1;stroke-miterlimit:10;\" d=\"M 193.867188 416.800781 L 194.816406 416.800781 Z M 193.867188 416.800781 \"/>\n",
       "<path style=\"fill:none;stroke-width:0.75;stroke-linecap:round;stroke-linejoin:round;stroke:rgb(0%,0%,0%);stroke-opacity:1;stroke-miterlimit:10;\" d=\"M 194.816406 416.800781 L 195.765625 416.800781 Z M 194.816406 416.800781 \"/>\n",
       "<path style=\"fill:none;stroke-width:0.75;stroke-linecap:round;stroke-linejoin:round;stroke:rgb(0%,0%,0%);stroke-opacity:1;stroke-miterlimit:10;\" d=\"M 195.761719 416.800781 L 196.710938 416.800781 Z M 195.761719 416.800781 \"/>\n",
       "<path style=\"fill:none;stroke-width:0.75;stroke-linecap:round;stroke-linejoin:round;stroke:rgb(0%,0%,0%);stroke-opacity:1;stroke-miterlimit:10;\" d=\"M 196.710938 416.800781 L 197.660156 416.800781 Z M 196.710938 416.800781 \"/>\n",
       "<path style=\"fill:none;stroke-width:0.75;stroke-linecap:round;stroke-linejoin:round;stroke:rgb(0%,0%,0%);stroke-opacity:1;stroke-miterlimit:10;\" d=\"M 197.660156 416.800781 L 198.609375 416.800781 Z M 197.660156 416.800781 \"/>\n",
       "<path style=\"fill:none;stroke-width:0.75;stroke-linecap:round;stroke-linejoin:round;stroke:rgb(0%,0%,0%);stroke-opacity:1;stroke-miterlimit:10;\" d=\"M 198.605469 416.800781 L 199.554688 416.800781 Z M 198.605469 416.800781 \"/>\n",
       "<path style=\"fill:none;stroke-width:0.75;stroke-linecap:round;stroke-linejoin:round;stroke:rgb(0%,0%,0%);stroke-opacity:1;stroke-miterlimit:10;\" d=\"M 199.554688 416.800781 L 200.503906 416.800781 Z M 199.554688 416.800781 \"/>\n",
       "<path style=\"fill:none;stroke-width:0.75;stroke-linecap:round;stroke-linejoin:round;stroke:rgb(0%,0%,0%);stroke-opacity:1;stroke-miterlimit:10;\" d=\"M 200.503906 416.800781 L 201.453125 416.800781 Z M 200.503906 416.800781 \"/>\n",
       "<path style=\"fill:none;stroke-width:0.75;stroke-linecap:round;stroke-linejoin:round;stroke:rgb(0%,0%,0%);stroke-opacity:1;stroke-miterlimit:10;\" d=\"M 201.453125 416.800781 L 202.402344 416.800781 Z M 201.453125 416.800781 \"/>\n",
       "<path style=\"fill:none;stroke-width:0.75;stroke-linecap:round;stroke-linejoin:round;stroke:rgb(0%,0%,0%);stroke-opacity:1;stroke-miterlimit:10;\" d=\"M 202.398438 416.800781 L 203.347656 416.800781 Z M 202.398438 416.800781 \"/>\n",
       "<path style=\"fill:none;stroke-width:0.75;stroke-linecap:round;stroke-linejoin:round;stroke:rgb(0%,0%,0%);stroke-opacity:1;stroke-miterlimit:10;\" d=\"M 203.347656 416.800781 L 204.296875 416.800781 Z M 203.347656 416.800781 \"/>\n",
       "<path style=\"fill:none;stroke-width:0.75;stroke-linecap:round;stroke-linejoin:round;stroke:rgb(0%,0%,0%);stroke-opacity:1;stroke-miterlimit:10;\" d=\"M 204.296875 416.800781 L 205.246094 416.800781 Z M 204.296875 416.800781 \"/>\n",
       "<path style=\"fill:none;stroke-width:0.75;stroke-linecap:round;stroke-linejoin:round;stroke:rgb(0%,0%,0%);stroke-opacity:1;stroke-miterlimit:10;\" d=\"M 205.246094 416.800781 L 206.195312 416.800781 Z M 205.246094 416.800781 \"/>\n",
       "<path style=\"fill:none;stroke-width:0.75;stroke-linecap:round;stroke-linejoin:round;stroke:rgb(0%,0%,0%);stroke-opacity:1;stroke-miterlimit:10;\" d=\"M 206.191406 416.800781 L 207.140625 416.800781 Z M 206.191406 416.800781 \"/>\n",
       "<path style=\"fill:none;stroke-width:0.75;stroke-linecap:round;stroke-linejoin:round;stroke:rgb(0%,0%,0%);stroke-opacity:1;stroke-miterlimit:10;\" d=\"M 207.140625 416.800781 L 208.089844 416.800781 Z M 207.140625 416.800781 \"/>\n",
       "<path style=\"fill:none;stroke-width:0.75;stroke-linecap:round;stroke-linejoin:round;stroke:rgb(0%,0%,0%);stroke-opacity:1;stroke-miterlimit:10;\" d=\"M 208.089844 416.800781 L 209.039062 416.800781 Z M 208.089844 416.800781 \"/>\n",
       "<path style=\"fill:none;stroke-width:0.75;stroke-linecap:round;stroke-linejoin:round;stroke:rgb(0%,0%,0%);stroke-opacity:1;stroke-miterlimit:10;\" d=\"M 209.035156 416.800781 L 209.984375 416.800781 Z M 209.035156 416.800781 \"/>\n",
       "<path style=\"fill:none;stroke-width:0.75;stroke-linecap:round;stroke-linejoin:round;stroke:rgb(0%,0%,0%);stroke-opacity:1;stroke-miterlimit:10;\" d=\"M 209.984375 416.800781 L 210.933594 416.800781 Z M 209.984375 416.800781 \"/>\n",
       "<path style=\"fill:none;stroke-width:0.75;stroke-linecap:round;stroke-linejoin:round;stroke:rgb(0%,0%,0%);stroke-opacity:1;stroke-miterlimit:10;\" d=\"M 210.933594 416.800781 L 211.882812 416.800781 Z M 210.933594 416.800781 \"/>\n",
       "<path style=\"fill:none;stroke-width:0.75;stroke-linecap:round;stroke-linejoin:round;stroke:rgb(0%,0%,0%);stroke-opacity:1;stroke-miterlimit:10;\" d=\"M 211.882812 416.800781 L 212.832031 416.800781 Z M 211.882812 416.800781 \"/>\n",
       "<path style=\"fill:none;stroke-width:0.75;stroke-linecap:round;stroke-linejoin:round;stroke:rgb(0%,0%,0%);stroke-opacity:1;stroke-miterlimit:10;\" d=\"M 212.828125 416.800781 L 213.777344 416.800781 Z M 212.828125 416.800781 \"/>\n",
       "<path style=\"fill:none;stroke-width:0.75;stroke-linecap:round;stroke-linejoin:round;stroke:rgb(0%,0%,0%);stroke-opacity:1;stroke-miterlimit:10;\" d=\"M 213.777344 416.800781 L 214.726562 416.800781 Z M 213.777344 416.800781 \"/>\n",
       "<path style=\"fill:none;stroke-width:0.75;stroke-linecap:round;stroke-linejoin:round;stroke:rgb(0%,0%,0%);stroke-opacity:1;stroke-miterlimit:10;\" d=\"M 214.726562 416.800781 L 215.675781 416.800781 Z M 214.726562 416.800781 \"/>\n",
       "<path style=\"fill:none;stroke-width:0.75;stroke-linecap:round;stroke-linejoin:round;stroke:rgb(0%,0%,0%);stroke-opacity:1;stroke-miterlimit:10;\" d=\"M 215.675781 416.800781 L 216.625 416.800781 Z M 215.675781 416.800781 \"/>\n",
       "<path style=\"fill:none;stroke-width:0.75;stroke-linecap:round;stroke-linejoin:round;stroke:rgb(0%,0%,0%);stroke-opacity:1;stroke-miterlimit:10;\" d=\"M 216.621094 416.800781 L 217.570312 416.800781 Z M 216.621094 416.800781 \"/>\n",
       "<path style=\"fill:none;stroke-width:0.75;stroke-linecap:round;stroke-linejoin:round;stroke:rgb(0%,0%,0%);stroke-opacity:1;stroke-miterlimit:10;\" d=\"M 217.570312 416.800781 L 218.519531 416.800781 Z M 217.570312 416.800781 \"/>\n",
       "<path style=\"fill:none;stroke-width:0.75;stroke-linecap:round;stroke-linejoin:round;stroke:rgb(0%,0%,0%);stroke-opacity:1;stroke-miterlimit:10;\" d=\"M 218.519531 416.800781 L 219.46875 416.800781 Z M 218.519531 416.800781 \"/>\n",
       "<path style=\"fill:none;stroke-width:0.75;stroke-linecap:round;stroke-linejoin:round;stroke:rgb(0%,0%,0%);stroke-opacity:1;stroke-miterlimit:10;\" d=\"M 219.464844 416.800781 L 220.414062 416.800781 Z M 219.464844 416.800781 \"/>\n",
       "<path style=\"fill:none;stroke-width:0.75;stroke-linecap:round;stroke-linejoin:round;stroke:rgb(0%,0%,0%);stroke-opacity:1;stroke-miterlimit:10;\" d=\"M 220.414062 416.800781 L 221.363281 416.800781 Z M 220.414062 416.800781 \"/>\n",
       "<path style=\"fill:none;stroke-width:0.75;stroke-linecap:round;stroke-linejoin:round;stroke:rgb(0%,0%,0%);stroke-opacity:1;stroke-miterlimit:10;\" d=\"M 221.363281 416.800781 L 222.3125 416.800781 Z M 221.363281 416.800781 \"/>\n",
       "<path style=\"fill:none;stroke-width:0.75;stroke-linecap:round;stroke-linejoin:round;stroke:rgb(0%,0%,0%);stroke-opacity:1;stroke-miterlimit:10;\" d=\"M 222.3125 416.800781 L 223.261719 416.800781 Z M 222.3125 416.800781 \"/>\n",
       "<path style=\"fill:none;stroke-width:0.75;stroke-linecap:round;stroke-linejoin:round;stroke:rgb(0%,0%,0%);stroke-opacity:1;stroke-miterlimit:10;\" d=\"M 223.257812 416.800781 L 224.207031 416.800781 Z M 223.257812 416.800781 \"/>\n",
       "<path style=\"fill:none;stroke-width:0.75;stroke-linecap:round;stroke-linejoin:round;stroke:rgb(0%,0%,0%);stroke-opacity:1;stroke-miterlimit:10;\" d=\"M 224.207031 416.800781 L 225.15625 416.800781 Z M 224.207031 416.800781 \"/>\n",
       "<path style=\"fill:none;stroke-width:0.75;stroke-linecap:round;stroke-linejoin:round;stroke:rgb(0%,0%,0%);stroke-opacity:1;stroke-miterlimit:10;\" d=\"M 225.15625 416.800781 L 226.105469 416.800781 Z M 225.15625 416.800781 \"/>\n",
       "<path style=\"fill:none;stroke-width:0.75;stroke-linecap:round;stroke-linejoin:round;stroke:rgb(0%,0%,0%);stroke-opacity:1;stroke-miterlimit:10;\" d=\"M 226.105469 416.800781 L 227.054688 416.800781 Z M 226.105469 416.800781 \"/>\n",
       "<path style=\"fill:none;stroke-width:0.75;stroke-linecap:round;stroke-linejoin:round;stroke:rgb(0%,0%,0%);stroke-opacity:1;stroke-miterlimit:10;\" d=\"M 227.050781 416.800781 L 228 416.800781 Z M 227.050781 416.800781 \"/>\n",
       "<path style=\"fill:none;stroke-width:0.75;stroke-linecap:round;stroke-linejoin:round;stroke:rgb(0%,0%,0%);stroke-opacity:1;stroke-miterlimit:10;\" d=\"M 228 416.800781 L 228.949219 416.800781 Z M 228 416.800781 \"/>\n",
       "<path style=\"fill:none;stroke-width:0.75;stroke-linecap:round;stroke-linejoin:round;stroke:rgb(0%,0%,0%);stroke-opacity:1;stroke-miterlimit:10;\" d=\"M 228.949219 416.800781 L 229.898438 416.800781 Z M 228.949219 416.800781 \"/>\n",
       "<path style=\"fill:none;stroke-width:0.75;stroke-linecap:round;stroke-linejoin:round;stroke:rgb(0%,0%,0%);stroke-opacity:1;stroke-miterlimit:10;\" d=\"M 229.894531 416.800781 L 230.84375 416.800781 Z M 229.894531 416.800781 \"/>\n",
       "<path style=\"fill:none;stroke-width:0.75;stroke-linecap:round;stroke-linejoin:round;stroke:rgb(0%,0%,0%);stroke-opacity:1;stroke-miterlimit:10;\" d=\"M 230.84375 416.800781 L 231.792969 416.800781 Z M 230.84375 416.800781 \"/>\n",
       "<path style=\"fill:none;stroke-width:0.75;stroke-linecap:round;stroke-linejoin:round;stroke:rgb(0%,0%,0%);stroke-opacity:1;stroke-miterlimit:10;\" d=\"M 231.792969 416.800781 L 232.742188 416.800781 Z M 231.792969 416.800781 \"/>\n",
       "<path style=\"fill:none;stroke-width:0.75;stroke-linecap:round;stroke-linejoin:round;stroke:rgb(0%,0%,0%);stroke-opacity:1;stroke-miterlimit:10;\" d=\"M 232.742188 416.800781 L 233.691406 416.800781 Z M 232.742188 416.800781 \"/>\n",
       "<path style=\"fill:none;stroke-width:0.75;stroke-linecap:round;stroke-linejoin:round;stroke:rgb(0%,0%,0%);stroke-opacity:1;stroke-miterlimit:10;\" d=\"M 233.6875 416.800781 L 234.636719 416.800781 Z M 233.6875 416.800781 \"/>\n",
       "<path style=\"fill:none;stroke-width:0.75;stroke-linecap:round;stroke-linejoin:round;stroke:rgb(0%,0%,0%);stroke-opacity:1;stroke-miterlimit:10;\" d=\"M 234.636719 416.800781 L 235.585938 416.800781 L 235.585938 408.199219 L 234.636719 408.199219 Z M 234.636719 416.800781 \"/>\n",
       "<path style=\"fill:none;stroke-width:0.75;stroke-linecap:round;stroke-linejoin:round;stroke:rgb(0%,0%,0%);stroke-opacity:1;stroke-miterlimit:10;\" d=\"M 235.585938 416.800781 L 236.535156 416.800781 Z M 235.585938 416.800781 \"/>\n",
       "<path style=\"fill:none;stroke-width:0.75;stroke-linecap:round;stroke-linejoin:round;stroke:rgb(0%,0%,0%);stroke-opacity:1;stroke-miterlimit:10;\" d=\"M 236.535156 416.800781 L 237.484375 416.800781 Z M 236.535156 416.800781 \"/>\n",
       "<path style=\"fill:none;stroke-width:0.75;stroke-linecap:round;stroke-linejoin:round;stroke:rgb(0%,0%,0%);stroke-opacity:1;stroke-miterlimit:10;\" d=\"M 237.480469 416.800781 L 238.429688 416.800781 Z M 237.480469 416.800781 \"/>\n",
       "<path style=\"fill:none;stroke-width:0.75;stroke-linecap:round;stroke-linejoin:round;stroke:rgb(0%,0%,0%);stroke-opacity:1;stroke-miterlimit:10;\" d=\"M 238.429688 416.800781 L 239.378906 416.800781 Z M 238.429688 416.800781 \"/>\n",
       "<path style=\"fill:none;stroke-width:0.75;stroke-linecap:round;stroke-linejoin:round;stroke:rgb(0%,0%,0%);stroke-opacity:1;stroke-miterlimit:10;\" d=\"M 239.378906 416.800781 L 240.328125 416.800781 Z M 239.378906 416.800781 \"/>\n",
       "<path style=\"fill:none;stroke-width:0.75;stroke-linecap:round;stroke-linejoin:round;stroke:rgb(0%,0%,0%);stroke-opacity:1;stroke-miterlimit:10;\" d=\"M 240.324219 416.800781 L 241.273438 416.800781 Z M 240.324219 416.800781 \"/>\n",
       "<path style=\"fill:none;stroke-width:0.75;stroke-linecap:round;stroke-linejoin:round;stroke:rgb(0%,0%,0%);stroke-opacity:1;stroke-miterlimit:10;\" d=\"M 241.273438 416.800781 L 242.222656 416.800781 Z M 241.273438 416.800781 \"/>\n",
       "<path style=\"fill:none;stroke-width:0.75;stroke-linecap:round;stroke-linejoin:round;stroke:rgb(0%,0%,0%);stroke-opacity:1;stroke-miterlimit:10;\" d=\"M 242.222656 416.800781 L 243.171875 416.800781 Z M 242.222656 416.800781 \"/>\n",
       "<path style=\"fill:none;stroke-width:0.75;stroke-linecap:round;stroke-linejoin:round;stroke:rgb(0%,0%,0%);stroke-opacity:1;stroke-miterlimit:10;\" d=\"M 243.171875 416.800781 L 244.121094 416.800781 Z M 243.171875 416.800781 \"/>\n",
       "<path style=\"fill:none;stroke-width:0.75;stroke-linecap:round;stroke-linejoin:round;stroke:rgb(0%,0%,0%);stroke-opacity:1;stroke-miterlimit:10;\" d=\"M 244.117188 416.800781 L 245.066406 416.800781 Z M 244.117188 416.800781 \"/>\n",
       "<path style=\"fill:none;stroke-width:0.75;stroke-linecap:round;stroke-linejoin:round;stroke:rgb(0%,0%,0%);stroke-opacity:1;stroke-miterlimit:10;\" d=\"M 245.066406 416.800781 L 246.015625 416.800781 Z M 245.066406 416.800781 \"/>\n",
       "<path style=\"fill:none;stroke-width:0.75;stroke-linecap:round;stroke-linejoin:round;stroke:rgb(0%,0%,0%);stroke-opacity:1;stroke-miterlimit:10;\" d=\"M 246.015625 416.800781 L 246.964844 416.800781 Z M 246.015625 416.800781 \"/>\n",
       "<path style=\"fill:none;stroke-width:0.75;stroke-linecap:round;stroke-linejoin:round;stroke:rgb(0%,0%,0%);stroke-opacity:1;stroke-miterlimit:10;\" d=\"M 246.964844 416.800781 L 247.914062 416.800781 Z M 246.964844 416.800781 \"/>\n",
       "<path style=\"fill:none;stroke-width:0.75;stroke-linecap:round;stroke-linejoin:round;stroke:rgb(0%,0%,0%);stroke-opacity:1;stroke-miterlimit:10;\" d=\"M 247.910156 416.800781 L 248.859375 416.800781 Z M 247.910156 416.800781 \"/>\n",
       "<path style=\"fill:none;stroke-width:0.75;stroke-linecap:round;stroke-linejoin:round;stroke:rgb(0%,0%,0%);stroke-opacity:1;stroke-miterlimit:10;\" d=\"M 248.859375 416.800781 L 249.808594 416.800781 Z M 248.859375 416.800781 \"/>\n",
       "<path style=\"fill:none;stroke-width:0.75;stroke-linecap:round;stroke-linejoin:round;stroke:rgb(0%,0%,0%);stroke-opacity:1;stroke-miterlimit:10;\" d=\"M 249.808594 416.800781 L 250.757812 416.800781 Z M 249.808594 416.800781 \"/>\n",
       "<path style=\"fill:none;stroke-width:0.75;stroke-linecap:round;stroke-linejoin:round;stroke:rgb(0%,0%,0%);stroke-opacity:1;stroke-miterlimit:10;\" d=\"M 250.753906 416.800781 L 251.703125 416.800781 Z M 250.753906 416.800781 \"/>\n",
       "<path style=\"fill:none;stroke-width:0.75;stroke-linecap:round;stroke-linejoin:round;stroke:rgb(0%,0%,0%);stroke-opacity:1;stroke-miterlimit:10;\" d=\"M 251.703125 416.800781 L 252.652344 416.800781 Z M 251.703125 416.800781 \"/>\n",
       "<path style=\"fill:none;stroke-width:0.75;stroke-linecap:round;stroke-linejoin:round;stroke:rgb(0%,0%,0%);stroke-opacity:1;stroke-miterlimit:10;\" d=\"M 252.652344 416.800781 L 253.601562 416.800781 L 253.601562 408.199219 L 252.652344 408.199219 Z M 252.652344 416.800781 \"/>\n",
       "<path style=\"fill:none;stroke-width:0.75;stroke-linecap:round;stroke-linejoin:round;stroke:rgb(0%,0%,0%);stroke-opacity:1;stroke-miterlimit:10;\" d=\"M 253.601562 416.800781 L 254.550781 416.800781 Z M 253.601562 416.800781 \"/>\n",
       "<path style=\"fill:none;stroke-width:0.75;stroke-linecap:round;stroke-linejoin:round;stroke:rgb(0%,0%,0%);stroke-opacity:1;stroke-miterlimit:10;\" d=\"M 254.546875 416.800781 L 255.496094 416.800781 Z M 254.546875 416.800781 \"/>\n",
       "<path style=\"fill:none;stroke-width:0.75;stroke-linecap:round;stroke-linejoin:round;stroke:rgb(0%,0%,0%);stroke-opacity:1;stroke-miterlimit:10;\" d=\"M 255.496094 416.800781 L 256.445312 416.800781 Z M 255.496094 416.800781 \"/>\n",
       "<path style=\"fill:none;stroke-width:0.75;stroke-linecap:round;stroke-linejoin:round;stroke:rgb(0%,0%,0%);stroke-opacity:1;stroke-miterlimit:10;\" d=\"M 256.445312 416.800781 L 257.394531 416.800781 Z M 256.445312 416.800781 \"/>\n",
       "<path style=\"fill:none;stroke-width:0.75;stroke-linecap:round;stroke-linejoin:round;stroke:rgb(0%,0%,0%);stroke-opacity:1;stroke-miterlimit:10;\" d=\"M 257.394531 416.800781 L 258.34375 416.800781 Z M 257.394531 416.800781 \"/>\n",
       "<path style=\"fill:none;stroke-width:0.75;stroke-linecap:round;stroke-linejoin:round;stroke:rgb(0%,0%,0%);stroke-opacity:1;stroke-miterlimit:10;\" d=\"M 258.339844 416.800781 L 259.289062 416.800781 Z M 258.339844 416.800781 \"/>\n",
       "<path style=\"fill:none;stroke-width:0.75;stroke-linecap:round;stroke-linejoin:round;stroke:rgb(0%,0%,0%);stroke-opacity:1;stroke-miterlimit:10;\" d=\"M 259.289062 416.800781 L 260.238281 416.800781 L 260.238281 408.199219 L 259.289062 408.199219 Z M 259.289062 416.800781 \"/>\n",
       "<path style=\"fill:none;stroke-width:0.75;stroke-linecap:round;stroke-linejoin:round;stroke:rgb(0%,0%,0%);stroke-opacity:1;stroke-miterlimit:10;\" d=\"M 260.238281 416.800781 L 261.1875 416.800781 Z M 260.238281 416.800781 \"/>\n",
       "<path style=\"fill:none;stroke-width:0.75;stroke-linecap:round;stroke-linejoin:round;stroke:rgb(0%,0%,0%);stroke-opacity:1;stroke-miterlimit:10;\" d=\"M 261.183594 416.800781 L 262.132812 416.800781 Z M 261.183594 416.800781 \"/>\n",
       "<path style=\"fill:none;stroke-width:0.75;stroke-linecap:round;stroke-linejoin:round;stroke:rgb(0%,0%,0%);stroke-opacity:1;stroke-miterlimit:10;\" d=\"M 262.132812 416.800781 L 263.082031 416.800781 Z M 262.132812 416.800781 \"/>\n",
       "<path style=\"fill:none;stroke-width:0.75;stroke-linecap:round;stroke-linejoin:round;stroke:rgb(0%,0%,0%);stroke-opacity:1;stroke-miterlimit:10;\" d=\"M 263.082031 416.800781 L 264.03125 416.800781 L 264.03125 408.199219 L 263.082031 408.199219 Z M 263.082031 416.800781 \"/>\n",
       "<path style=\"fill:none;stroke-width:0.75;stroke-linecap:round;stroke-linejoin:round;stroke:rgb(0%,0%,0%);stroke-opacity:1;stroke-miterlimit:10;\" d=\"M 264.03125 416.800781 L 264.980469 416.800781 Z M 264.03125 416.800781 \"/>\n",
       "<path style=\"fill:none;stroke-width:0.75;stroke-linecap:round;stroke-linejoin:round;stroke:rgb(0%,0%,0%);stroke-opacity:1;stroke-miterlimit:10;\" d=\"M 264.976562 416.800781 L 265.925781 416.800781 Z M 264.976562 416.800781 \"/>\n",
       "<path style=\"fill:none;stroke-width:0.75;stroke-linecap:round;stroke-linejoin:round;stroke:rgb(0%,0%,0%);stroke-opacity:1;stroke-miterlimit:10;\" d=\"M 265.925781 416.800781 L 266.875 416.800781 Z M 265.925781 416.800781 \"/>\n",
       "<path style=\"fill:none;stroke-width:0.75;stroke-linecap:round;stroke-linejoin:round;stroke:rgb(0%,0%,0%);stroke-opacity:1;stroke-miterlimit:10;\" d=\"M 266.875 416.800781 L 267.824219 416.800781 Z M 266.875 416.800781 \"/>\n",
       "<path style=\"fill:none;stroke-width:0.75;stroke-linecap:round;stroke-linejoin:round;stroke:rgb(0%,0%,0%);stroke-opacity:1;stroke-miterlimit:10;\" d=\"M 267.820312 416.800781 L 268.769531 416.800781 Z M 267.820312 416.800781 \"/>\n",
       "<path style=\"fill:none;stroke-width:0.75;stroke-linecap:round;stroke-linejoin:round;stroke:rgb(0%,0%,0%);stroke-opacity:1;stroke-miterlimit:10;\" d=\"M 268.769531 416.800781 L 269.71875 416.800781 Z M 268.769531 416.800781 \"/>\n",
       "<path style=\"fill:none;stroke-width:0.75;stroke-linecap:round;stroke-linejoin:round;stroke:rgb(0%,0%,0%);stroke-opacity:1;stroke-miterlimit:10;\" d=\"M 269.71875 416.800781 L 270.667969 416.800781 Z M 269.71875 416.800781 \"/>\n",
       "<path style=\"fill:none;stroke-width:0.75;stroke-linecap:round;stroke-linejoin:round;stroke:rgb(0%,0%,0%);stroke-opacity:1;stroke-miterlimit:10;\" d=\"M 270.667969 416.800781 L 271.617188 416.800781 Z M 270.667969 416.800781 \"/>\n",
       "<path style=\"fill:none;stroke-width:0.75;stroke-linecap:round;stroke-linejoin:round;stroke:rgb(0%,0%,0%);stroke-opacity:1;stroke-miterlimit:10;\" d=\"M 271.613281 416.800781 L 272.5625 416.800781 Z M 271.613281 416.800781 \"/>\n",
       "<path style=\"fill:none;stroke-width:0.75;stroke-linecap:round;stroke-linejoin:round;stroke:rgb(0%,0%,0%);stroke-opacity:1;stroke-miterlimit:10;\" d=\"M 272.5625 416.800781 L 273.511719 416.800781 Z M 272.5625 416.800781 \"/>\n",
       "<path style=\"fill:none;stroke-width:0.75;stroke-linecap:round;stroke-linejoin:round;stroke:rgb(0%,0%,0%);stroke-opacity:1;stroke-miterlimit:10;\" d=\"M 273.511719 416.800781 L 274.460938 416.800781 Z M 273.511719 416.800781 \"/>\n",
       "<path style=\"fill:none;stroke-width:0.75;stroke-linecap:round;stroke-linejoin:round;stroke:rgb(0%,0%,0%);stroke-opacity:1;stroke-miterlimit:10;\" d=\"M 274.460938 416.800781 L 275.410156 416.800781 Z M 274.460938 416.800781 \"/>\n",
       "<path style=\"fill:none;stroke-width:0.75;stroke-linecap:round;stroke-linejoin:round;stroke:rgb(0%,0%,0%);stroke-opacity:1;stroke-miterlimit:10;\" d=\"M 275.40625 416.800781 L 276.355469 416.800781 Z M 275.40625 416.800781 \"/>\n",
       "<path style=\"fill:none;stroke-width:0.75;stroke-linecap:round;stroke-linejoin:round;stroke:rgb(0%,0%,0%);stroke-opacity:1;stroke-miterlimit:10;\" d=\"M 276.355469 416.800781 L 277.304688 416.800781 Z M 276.355469 416.800781 \"/>\n",
       "<path style=\"fill:none;stroke-width:0.75;stroke-linecap:round;stroke-linejoin:round;stroke:rgb(0%,0%,0%);stroke-opacity:1;stroke-miterlimit:10;\" d=\"M 277.304688 416.800781 L 278.253906 416.800781 Z M 277.304688 416.800781 \"/>\n",
       "<path style=\"fill:none;stroke-width:0.75;stroke-linecap:round;stroke-linejoin:round;stroke:rgb(0%,0%,0%);stroke-opacity:1;stroke-miterlimit:10;\" d=\"M 278.25 416.800781 L 279.199219 416.800781 Z M 278.25 416.800781 \"/>\n",
       "<path style=\"fill:none;stroke-width:0.75;stroke-linecap:round;stroke-linejoin:round;stroke:rgb(0%,0%,0%);stroke-opacity:1;stroke-miterlimit:10;\" d=\"M 279.199219 416.800781 L 280.148438 416.800781 Z M 279.199219 416.800781 \"/>\n",
       "<path style=\"fill:none;stroke-width:0.75;stroke-linecap:round;stroke-linejoin:round;stroke:rgb(0%,0%,0%);stroke-opacity:1;stroke-miterlimit:10;\" d=\"M 280.148438 416.800781 L 281.097656 416.800781 Z M 280.148438 416.800781 \"/>\n",
       "<path style=\"fill:none;stroke-width:0.75;stroke-linecap:round;stroke-linejoin:round;stroke:rgb(0%,0%,0%);stroke-opacity:1;stroke-miterlimit:10;\" d=\"M 281.097656 416.800781 L 282.046875 416.800781 Z M 281.097656 416.800781 \"/>\n",
       "<path style=\"fill:none;stroke-width:0.75;stroke-linecap:round;stroke-linejoin:round;stroke:rgb(0%,0%,0%);stroke-opacity:1;stroke-miterlimit:10;\" d=\"M 282.042969 416.800781 L 282.992188 416.800781 Z M 282.042969 416.800781 \"/>\n",
       "<path style=\"fill:none;stroke-width:0.75;stroke-linecap:round;stroke-linejoin:round;stroke:rgb(0%,0%,0%);stroke-opacity:1;stroke-miterlimit:10;\" d=\"M 282.992188 416.800781 L 283.941406 416.800781 Z M 282.992188 416.800781 \"/>\n",
       "<path style=\"fill:none;stroke-width:0.75;stroke-linecap:round;stroke-linejoin:round;stroke:rgb(0%,0%,0%);stroke-opacity:1;stroke-miterlimit:10;\" d=\"M 283.941406 416.800781 L 284.890625 416.800781 Z M 283.941406 416.800781 \"/>\n",
       "<path style=\"fill:none;stroke-width:0.75;stroke-linecap:round;stroke-linejoin:round;stroke:rgb(0%,0%,0%);stroke-opacity:1;stroke-miterlimit:10;\" d=\"M 284.890625 416.800781 L 285.839844 416.800781 Z M 284.890625 416.800781 \"/>\n",
       "<path style=\"fill:none;stroke-width:0.75;stroke-linecap:round;stroke-linejoin:round;stroke:rgb(0%,0%,0%);stroke-opacity:1;stroke-miterlimit:10;\" d=\"M 285.835938 416.800781 L 286.785156 416.800781 Z M 285.835938 416.800781 \"/>\n",
       "<path style=\"fill:none;stroke-width:0.75;stroke-linecap:round;stroke-linejoin:round;stroke:rgb(0%,0%,0%);stroke-opacity:1;stroke-miterlimit:10;\" d=\"M 286.785156 416.800781 L 287.734375 416.800781 Z M 286.785156 416.800781 \"/>\n",
       "<path style=\"fill:none;stroke-width:0.75;stroke-linecap:round;stroke-linejoin:round;stroke:rgb(0%,0%,0%);stroke-opacity:1;stroke-miterlimit:10;\" d=\"M 287.734375 416.800781 L 288.683594 416.800781 Z M 287.734375 416.800781 \"/>\n",
       "<path style=\"fill:none;stroke-width:0.75;stroke-linecap:round;stroke-linejoin:round;stroke:rgb(0%,0%,0%);stroke-opacity:1;stroke-miterlimit:10;\" d=\"M 288.679688 416.800781 L 289.628906 416.800781 Z M 288.679688 416.800781 \"/>\n",
       "<path style=\"fill:none;stroke-width:0.75;stroke-linecap:round;stroke-linejoin:round;stroke:rgb(0%,0%,0%);stroke-opacity:1;stroke-miterlimit:10;\" d=\"M 289.628906 416.800781 L 290.578125 416.800781 Z M 289.628906 416.800781 \"/>\n",
       "<path style=\"fill:none;stroke-width:0.75;stroke-linecap:round;stroke-linejoin:round;stroke:rgb(0%,0%,0%);stroke-opacity:1;stroke-miterlimit:10;\" d=\"M 290.578125 416.800781 L 291.527344 416.800781 Z M 290.578125 416.800781 \"/>\n",
       "<path style=\"fill:none;stroke-width:0.75;stroke-linecap:round;stroke-linejoin:round;stroke:rgb(0%,0%,0%);stroke-opacity:1;stroke-miterlimit:10;\" d=\"M 291.527344 416.800781 L 292.476562 416.800781 Z M 291.527344 416.800781 \"/>\n",
       "<path style=\"fill:none;stroke-width:0.75;stroke-linecap:round;stroke-linejoin:round;stroke:rgb(0%,0%,0%);stroke-opacity:1;stroke-miterlimit:10;\" d=\"M 292.472656 416.800781 L 293.421875 416.800781 Z M 292.472656 416.800781 \"/>\n",
       "<path style=\"fill:none;stroke-width:0.75;stroke-linecap:round;stroke-linejoin:round;stroke:rgb(0%,0%,0%);stroke-opacity:1;stroke-miterlimit:10;\" d=\"M 293.421875 416.800781 L 294.371094 416.800781 Z M 293.421875 416.800781 \"/>\n",
       "<path style=\"fill:none;stroke-width:0.75;stroke-linecap:round;stroke-linejoin:round;stroke:rgb(0%,0%,0%);stroke-opacity:1;stroke-miterlimit:10;\" d=\"M 294.371094 416.800781 L 295.320312 416.800781 Z M 294.371094 416.800781 \"/>\n",
       "<path style=\"fill:none;stroke-width:0.75;stroke-linecap:round;stroke-linejoin:round;stroke:rgb(0%,0%,0%);stroke-opacity:1;stroke-miterlimit:10;\" d=\"M 295.320312 416.800781 L 296.269531 416.800781 Z M 295.320312 416.800781 \"/>\n",
       "<path style=\"fill:none;stroke-width:0.75;stroke-linecap:round;stroke-linejoin:round;stroke:rgb(0%,0%,0%);stroke-opacity:1;stroke-miterlimit:10;\" d=\"M 296.265625 416.800781 L 297.214844 416.800781 Z M 296.265625 416.800781 \"/>\n",
       "<path style=\"fill:none;stroke-width:0.75;stroke-linecap:round;stroke-linejoin:round;stroke:rgb(0%,0%,0%);stroke-opacity:1;stroke-miterlimit:10;\" d=\"M 297.214844 416.800781 L 298.164062 416.800781 Z M 297.214844 416.800781 \"/>\n",
       "<path style=\"fill:none;stroke-width:0.75;stroke-linecap:round;stroke-linejoin:round;stroke:rgb(0%,0%,0%);stroke-opacity:1;stroke-miterlimit:10;\" d=\"M 298.164062 416.800781 L 299.113281 416.800781 Z M 298.164062 416.800781 \"/>\n",
       "<path style=\"fill:none;stroke-width:0.75;stroke-linecap:round;stroke-linejoin:round;stroke:rgb(0%,0%,0%);stroke-opacity:1;stroke-miterlimit:10;\" d=\"M 299.109375 416.800781 L 300.058594 416.800781 Z M 299.109375 416.800781 \"/>\n",
       "<path style=\"fill:none;stroke-width:0.75;stroke-linecap:round;stroke-linejoin:round;stroke:rgb(0%,0%,0%);stroke-opacity:1;stroke-miterlimit:10;\" d=\"M 300.058594 416.800781 L 301.007812 416.800781 Z M 300.058594 416.800781 \"/>\n",
       "<path style=\"fill:none;stroke-width:0.75;stroke-linecap:round;stroke-linejoin:round;stroke:rgb(0%,0%,0%);stroke-opacity:1;stroke-miterlimit:10;\" d=\"M 301.007812 416.800781 L 301.957031 416.800781 Z M 301.007812 416.800781 \"/>\n",
       "<path style=\"fill:none;stroke-width:0.75;stroke-linecap:round;stroke-linejoin:round;stroke:rgb(0%,0%,0%);stroke-opacity:1;stroke-miterlimit:10;\" d=\"M 301.957031 416.800781 L 302.90625 416.800781 Z M 301.957031 416.800781 \"/>\n",
       "<path style=\"fill:none;stroke-width:0.75;stroke-linecap:round;stroke-linejoin:round;stroke:rgb(0%,0%,0%);stroke-opacity:1;stroke-miterlimit:10;\" d=\"M 302.902344 416.800781 L 303.851562 416.800781 Z M 302.902344 416.800781 \"/>\n",
       "<path style=\"fill:none;stroke-width:0.75;stroke-linecap:round;stroke-linejoin:round;stroke:rgb(0%,0%,0%);stroke-opacity:1;stroke-miterlimit:10;\" d=\"M 303.851562 416.800781 L 304.800781 416.800781 Z M 303.851562 416.800781 \"/>\n",
       "<path style=\"fill:none;stroke-width:0.75;stroke-linecap:round;stroke-linejoin:round;stroke:rgb(0%,0%,0%);stroke-opacity:1;stroke-miterlimit:10;\" d=\"M 304.800781 416.800781 L 305.75 416.800781 Z M 304.800781 416.800781 \"/>\n",
       "<path style=\"fill:none;stroke-width:0.75;stroke-linecap:round;stroke-linejoin:round;stroke:rgb(0%,0%,0%);stroke-opacity:1;stroke-miterlimit:10;\" d=\"M 305.75 416.800781 L 306.699219 416.800781 Z M 305.75 416.800781 \"/>\n",
       "<path style=\"fill:none;stroke-width:0.75;stroke-linecap:round;stroke-linejoin:round;stroke:rgb(0%,0%,0%);stroke-opacity:1;stroke-miterlimit:10;\" d=\"M 306.695312 416.800781 L 307.644531 416.800781 Z M 306.695312 416.800781 \"/>\n",
       "<path style=\"fill:none;stroke-width:0.75;stroke-linecap:round;stroke-linejoin:round;stroke:rgb(0%,0%,0%);stroke-opacity:1;stroke-miterlimit:10;\" d=\"M 307.644531 416.800781 L 308.59375 416.800781 Z M 307.644531 416.800781 \"/>\n",
       "<path style=\"fill:none;stroke-width:0.75;stroke-linecap:round;stroke-linejoin:round;stroke:rgb(0%,0%,0%);stroke-opacity:1;stroke-miterlimit:10;\" d=\"M 308.59375 416.800781 L 309.542969 416.800781 Z M 308.59375 416.800781 \"/>\n",
       "<path style=\"fill:none;stroke-width:0.75;stroke-linecap:round;stroke-linejoin:round;stroke:rgb(0%,0%,0%);stroke-opacity:1;stroke-miterlimit:10;\" d=\"M 309.539062 416.800781 L 310.488281 416.800781 Z M 309.539062 416.800781 \"/>\n",
       "<path style=\"fill:none;stroke-width:0.75;stroke-linecap:round;stroke-linejoin:round;stroke:rgb(0%,0%,0%);stroke-opacity:1;stroke-miterlimit:10;\" d=\"M 310.488281 416.800781 L 311.4375 416.800781 Z M 310.488281 416.800781 \"/>\n",
       "<path style=\"fill:none;stroke-width:0.75;stroke-linecap:round;stroke-linejoin:round;stroke:rgb(0%,0%,0%);stroke-opacity:1;stroke-miterlimit:10;\" d=\"M 311.4375 416.800781 L 312.386719 416.800781 Z M 311.4375 416.800781 \"/>\n",
       "<path style=\"fill:none;stroke-width:0.75;stroke-linecap:round;stroke-linejoin:round;stroke:rgb(0%,0%,0%);stroke-opacity:1;stroke-miterlimit:10;\" d=\"M 312.386719 416.800781 L 313.335938 416.800781 Z M 312.386719 416.800781 \"/>\n",
       "<path style=\"fill:none;stroke-width:0.75;stroke-linecap:round;stroke-linejoin:round;stroke:rgb(0%,0%,0%);stroke-opacity:1;stroke-miterlimit:10;\" d=\"M 313.332031 416.800781 L 314.28125 416.800781 Z M 313.332031 416.800781 \"/>\n",
       "<path style=\"fill:none;stroke-width:0.75;stroke-linecap:round;stroke-linejoin:round;stroke:rgb(0%,0%,0%);stroke-opacity:1;stroke-miterlimit:10;\" d=\"M 314.28125 416.800781 L 315.230469 416.800781 Z M 314.28125 416.800781 \"/>\n",
       "<path style=\"fill:none;stroke-width:0.75;stroke-linecap:round;stroke-linejoin:round;stroke:rgb(0%,0%,0%);stroke-opacity:1;stroke-miterlimit:10;\" d=\"M 315.230469 416.800781 L 316.179688 416.800781 Z M 315.230469 416.800781 \"/>\n",
       "<path style=\"fill:none;stroke-width:0.75;stroke-linecap:round;stroke-linejoin:round;stroke:rgb(0%,0%,0%);stroke-opacity:1;stroke-miterlimit:10;\" d=\"M 316.179688 416.800781 L 317.128906 416.800781 Z M 316.179688 416.800781 \"/>\n",
       "<path style=\"fill:none;stroke-width:0.75;stroke-linecap:round;stroke-linejoin:round;stroke:rgb(0%,0%,0%);stroke-opacity:1;stroke-miterlimit:10;\" d=\"M 317.125 416.800781 L 318.074219 416.800781 Z M 317.125 416.800781 \"/>\n",
       "<path style=\"fill:none;stroke-width:0.75;stroke-linecap:round;stroke-linejoin:round;stroke:rgb(0%,0%,0%);stroke-opacity:1;stroke-miterlimit:10;\" d=\"M 318.074219 416.800781 L 319.023438 416.800781 Z M 318.074219 416.800781 \"/>\n",
       "<path style=\"fill:none;stroke-width:0.75;stroke-linecap:round;stroke-linejoin:round;stroke:rgb(0%,0%,0%);stroke-opacity:1;stroke-miterlimit:10;\" d=\"M 319.023438 416.800781 L 319.972656 416.800781 L 319.972656 408.199219 L 319.023438 408.199219 Z M 319.023438 416.800781 \"/>\n",
       "<path style=\"fill:none;stroke-width:0.75;stroke-linecap:round;stroke-linejoin:round;stroke:rgb(0%,0%,0%);stroke-opacity:1;stroke-miterlimit:10;\" d=\"M 319.96875 416.800781 L 320.917969 416.800781 Z M 319.96875 416.800781 \"/>\n",
       "<path style=\"fill:none;stroke-width:0.75;stroke-linecap:round;stroke-linejoin:round;stroke:rgb(0%,0%,0%);stroke-opacity:1;stroke-miterlimit:10;\" d=\"M 320.917969 416.800781 L 321.867188 416.800781 Z M 320.917969 416.800781 \"/>\n",
       "<path style=\"fill:none;stroke-width:0.75;stroke-linecap:round;stroke-linejoin:round;stroke:rgb(0%,0%,0%);stroke-opacity:1;stroke-miterlimit:10;\" d=\"M 321.867188 416.800781 L 322.816406 416.800781 Z M 321.867188 416.800781 \"/>\n",
       "<path style=\"fill:none;stroke-width:0.75;stroke-linecap:round;stroke-linejoin:round;stroke:rgb(0%,0%,0%);stroke-opacity:1;stroke-miterlimit:10;\" d=\"M 322.816406 416.800781 L 323.765625 416.800781 Z M 322.816406 416.800781 \"/>\n",
       "<path style=\"fill:none;stroke-width:0.75;stroke-linecap:round;stroke-linejoin:round;stroke:rgb(0%,0%,0%);stroke-opacity:1;stroke-miterlimit:10;\" d=\"M 323.761719 416.800781 L 324.710938 416.800781 Z M 323.761719 416.800781 \"/>\n",
       "<path style=\"fill:none;stroke-width:0.75;stroke-linecap:round;stroke-linejoin:round;stroke:rgb(0%,0%,0%);stroke-opacity:1;stroke-miterlimit:10;\" d=\"M 324.710938 416.800781 L 325.660156 416.800781 Z M 324.710938 416.800781 \"/>\n",
       "<path style=\"fill:none;stroke-width:0.75;stroke-linecap:round;stroke-linejoin:round;stroke:rgb(0%,0%,0%);stroke-opacity:1;stroke-miterlimit:10;\" d=\"M 325.660156 416.800781 L 326.609375 416.800781 Z M 325.660156 416.800781 \"/>\n",
       "<path style=\"fill:none;stroke-width:0.75;stroke-linecap:round;stroke-linejoin:round;stroke:rgb(0%,0%,0%);stroke-opacity:1;stroke-miterlimit:10;\" d=\"M 326.605469 416.800781 L 327.554688 416.800781 Z M 326.605469 416.800781 \"/>\n",
       "<path style=\"fill:none;stroke-width:0.75;stroke-linecap:round;stroke-linejoin:round;stroke:rgb(0%,0%,0%);stroke-opacity:1;stroke-miterlimit:10;\" d=\"M 327.554688 416.800781 L 328.503906 416.800781 Z M 327.554688 416.800781 \"/>\n",
       "<path style=\"fill:none;stroke-width:0.75;stroke-linecap:round;stroke-linejoin:round;stroke:rgb(0%,0%,0%);stroke-opacity:1;stroke-miterlimit:10;\" d=\"M 328.503906 416.800781 L 329.453125 416.800781 Z M 328.503906 416.800781 \"/>\n",
       "<path style=\"fill:none;stroke-width:0.75;stroke-linecap:round;stroke-linejoin:round;stroke:rgb(0%,0%,0%);stroke-opacity:1;stroke-miterlimit:10;\" d=\"M 329.453125 416.800781 L 330.402344 416.800781 Z M 329.453125 416.800781 \"/>\n",
       "<path style=\"fill:none;stroke-width:0.75;stroke-linecap:round;stroke-linejoin:round;stroke:rgb(0%,0%,0%);stroke-opacity:1;stroke-miterlimit:10;\" d=\"M 330.398438 416.800781 L 331.347656 416.800781 Z M 330.398438 416.800781 \"/>\n",
       "<path style=\"fill:none;stroke-width:0.75;stroke-linecap:round;stroke-linejoin:round;stroke:rgb(0%,0%,0%);stroke-opacity:1;stroke-miterlimit:10;\" d=\"M 331.347656 416.800781 L 332.296875 416.800781 Z M 331.347656 416.800781 \"/>\n",
       "<path style=\"fill:none;stroke-width:0.75;stroke-linecap:round;stroke-linejoin:round;stroke:rgb(0%,0%,0%);stroke-opacity:1;stroke-miterlimit:10;\" d=\"M 332.296875 416.800781 L 333.246094 416.800781 Z M 332.296875 416.800781 \"/>\n",
       "<path style=\"fill:none;stroke-width:0.75;stroke-linecap:round;stroke-linejoin:round;stroke:rgb(0%,0%,0%);stroke-opacity:1;stroke-miterlimit:10;\" d=\"M 333.246094 416.800781 L 334.195312 416.800781 Z M 333.246094 416.800781 \"/>\n",
       "<path style=\"fill:none;stroke-width:0.75;stroke-linecap:round;stroke-linejoin:round;stroke:rgb(0%,0%,0%);stroke-opacity:1;stroke-miterlimit:10;\" d=\"M 334.191406 416.800781 L 335.140625 416.800781 Z M 334.191406 416.800781 \"/>\n",
       "<path style=\"fill:none;stroke-width:0.75;stroke-linecap:round;stroke-linejoin:round;stroke:rgb(0%,0%,0%);stroke-opacity:1;stroke-miterlimit:10;\" d=\"M 335.140625 416.800781 L 336.089844 416.800781 Z M 335.140625 416.800781 \"/>\n",
       "<path style=\"fill:none;stroke-width:0.75;stroke-linecap:round;stroke-linejoin:round;stroke:rgb(0%,0%,0%);stroke-opacity:1;stroke-miterlimit:10;\" d=\"M 336.089844 416.800781 L 337.039062 416.800781 Z M 336.089844 416.800781 \"/>\n",
       "<path style=\"fill:none;stroke-width:0.75;stroke-linecap:round;stroke-linejoin:round;stroke:rgb(0%,0%,0%);stroke-opacity:1;stroke-miterlimit:10;\" d=\"M 337.035156 416.800781 L 337.984375 416.800781 Z M 337.035156 416.800781 \"/>\n",
       "<path style=\"fill:none;stroke-width:0.75;stroke-linecap:round;stroke-linejoin:round;stroke:rgb(0%,0%,0%);stroke-opacity:1;stroke-miterlimit:10;\" d=\"M 337.984375 416.800781 L 338.933594 416.800781 Z M 337.984375 416.800781 \"/>\n",
       "<path style=\"fill:none;stroke-width:0.75;stroke-linecap:round;stroke-linejoin:round;stroke:rgb(0%,0%,0%);stroke-opacity:1;stroke-miterlimit:10;\" d=\"M 338.933594 416.800781 L 339.882812 416.800781 Z M 338.933594 416.800781 \"/>\n",
       "<path style=\"fill:none;stroke-width:0.75;stroke-linecap:round;stroke-linejoin:round;stroke:rgb(0%,0%,0%);stroke-opacity:1;stroke-miterlimit:10;\" d=\"M 339.882812 416.800781 L 340.832031 416.800781 Z M 339.882812 416.800781 \"/>\n",
       "<path style=\"fill:none;stroke-width:0.75;stroke-linecap:round;stroke-linejoin:round;stroke:rgb(0%,0%,0%);stroke-opacity:1;stroke-miterlimit:10;\" d=\"M 340.828125 416.800781 L 341.777344 416.800781 Z M 340.828125 416.800781 \"/>\n",
       "<path style=\"fill:none;stroke-width:0.75;stroke-linecap:round;stroke-linejoin:round;stroke:rgb(0%,0%,0%);stroke-opacity:1;stroke-miterlimit:10;\" d=\"M 341.777344 416.800781 L 342.726562 416.800781 Z M 341.777344 416.800781 \"/>\n",
       "<path style=\"fill:none;stroke-width:0.75;stroke-linecap:round;stroke-linejoin:round;stroke:rgb(0%,0%,0%);stroke-opacity:1;stroke-miterlimit:10;\" d=\"M 342.726562 416.800781 L 343.675781 416.800781 Z M 342.726562 416.800781 \"/>\n",
       "<path style=\"fill:none;stroke-width:0.75;stroke-linecap:round;stroke-linejoin:round;stroke:rgb(0%,0%,0%);stroke-opacity:1;stroke-miterlimit:10;\" d=\"M 343.675781 416.800781 L 344.625 416.800781 Z M 343.675781 416.800781 \"/>\n",
       "<path style=\"fill:none;stroke-width:0.75;stroke-linecap:round;stroke-linejoin:round;stroke:rgb(0%,0%,0%);stroke-opacity:1;stroke-miterlimit:10;\" d=\"M 344.621094 416.800781 L 345.570312 416.800781 Z M 344.621094 416.800781 \"/>\n",
       "<path style=\"fill:none;stroke-width:0.75;stroke-linecap:round;stroke-linejoin:round;stroke:rgb(0%,0%,0%);stroke-opacity:1;stroke-miterlimit:10;\" d=\"M 345.570312 416.800781 L 346.519531 416.800781 Z M 345.570312 416.800781 \"/>\n",
       "<path style=\"fill:none;stroke-width:0.75;stroke-linecap:round;stroke-linejoin:round;stroke:rgb(0%,0%,0%);stroke-opacity:1;stroke-miterlimit:10;\" d=\"M 346.519531 416.800781 L 347.46875 416.800781 Z M 346.519531 416.800781 \"/>\n",
       "<path style=\"fill:none;stroke-width:0.75;stroke-linecap:round;stroke-linejoin:round;stroke:rgb(0%,0%,0%);stroke-opacity:1;stroke-miterlimit:10;\" d=\"M 347.464844 416.800781 L 348.414062 416.800781 Z M 347.464844 416.800781 \"/>\n",
       "<path style=\"fill:none;stroke-width:0.75;stroke-linecap:round;stroke-linejoin:round;stroke:rgb(0%,0%,0%);stroke-opacity:1;stroke-miterlimit:10;\" d=\"M 348.414062 416.800781 L 349.363281 416.800781 Z M 348.414062 416.800781 \"/>\n",
       "<path style=\"fill:none;stroke-width:0.75;stroke-linecap:round;stroke-linejoin:round;stroke:rgb(0%,0%,0%);stroke-opacity:1;stroke-miterlimit:10;\" d=\"M 349.363281 416.800781 L 350.3125 416.800781 Z M 349.363281 416.800781 \"/>\n",
       "<path style=\"fill:none;stroke-width:0.75;stroke-linecap:round;stroke-linejoin:round;stroke:rgb(0%,0%,0%);stroke-opacity:1;stroke-miterlimit:10;\" d=\"M 350.3125 416.800781 L 351.261719 416.800781 Z M 350.3125 416.800781 \"/>\n",
       "<path style=\"fill:none;stroke-width:0.75;stroke-linecap:round;stroke-linejoin:round;stroke:rgb(0%,0%,0%);stroke-opacity:1;stroke-miterlimit:10;\" d=\"M 351.257812 416.800781 L 352.207031 416.800781 Z M 351.257812 416.800781 \"/>\n",
       "<path style=\"fill:none;stroke-width:0.75;stroke-linecap:round;stroke-linejoin:round;stroke:rgb(0%,0%,0%);stroke-opacity:1;stroke-miterlimit:10;\" d=\"M 352.207031 416.800781 L 353.15625 416.800781 Z M 352.207031 416.800781 \"/>\n",
       "<path style=\"fill:none;stroke-width:0.75;stroke-linecap:round;stroke-linejoin:round;stroke:rgb(0%,0%,0%);stroke-opacity:1;stroke-miterlimit:10;\" d=\"M 353.15625 416.800781 L 354.105469 416.800781 Z M 353.15625 416.800781 \"/>\n",
       "<path style=\"fill:none;stroke-width:0.75;stroke-linecap:round;stroke-linejoin:round;stroke:rgb(0%,0%,0%);stroke-opacity:1;stroke-miterlimit:10;\" d=\"M 354.105469 416.800781 L 355.054688 416.800781 Z M 354.105469 416.800781 \"/>\n",
       "<path style=\"fill:none;stroke-width:0.75;stroke-linecap:round;stroke-linejoin:round;stroke:rgb(0%,0%,0%);stroke-opacity:1;stroke-miterlimit:10;\" d=\"M 355.050781 416.800781 L 356 416.800781 Z M 355.050781 416.800781 \"/>\n",
       "<path style=\"fill:none;stroke-width:0.75;stroke-linecap:round;stroke-linejoin:round;stroke:rgb(0%,0%,0%);stroke-opacity:1;stroke-miterlimit:10;\" d=\"M 356 416.800781 L 356.949219 416.800781 Z M 356 416.800781 \"/>\n",
       "<path style=\"fill:none;stroke-width:0.75;stroke-linecap:round;stroke-linejoin:round;stroke:rgb(0%,0%,0%);stroke-opacity:1;stroke-miterlimit:10;\" d=\"M 356.949219 416.800781 L 357.898438 416.800781 Z M 356.949219 416.800781 \"/>\n",
       "<path style=\"fill:none;stroke-width:0.75;stroke-linecap:round;stroke-linejoin:round;stroke:rgb(0%,0%,0%);stroke-opacity:1;stroke-miterlimit:10;\" d=\"M 357.894531 416.800781 L 358.84375 416.800781 Z M 357.894531 416.800781 \"/>\n",
       "<path style=\"fill:none;stroke-width:0.75;stroke-linecap:round;stroke-linejoin:round;stroke:rgb(0%,0%,0%);stroke-opacity:1;stroke-miterlimit:10;\" d=\"M 358.84375 416.800781 L 359.792969 416.800781 Z M 358.84375 416.800781 \"/>\n",
       "<path style=\"fill:none;stroke-width:0.75;stroke-linecap:round;stroke-linejoin:round;stroke:rgb(0%,0%,0%);stroke-opacity:1;stroke-miterlimit:10;\" d=\"M 359.792969 416.800781 L 360.742188 416.800781 Z M 359.792969 416.800781 \"/>\n",
       "<path style=\"fill:none;stroke-width:0.75;stroke-linecap:round;stroke-linejoin:round;stroke:rgb(0%,0%,0%);stroke-opacity:1;stroke-miterlimit:10;\" d=\"M 360.742188 416.800781 L 361.691406 416.800781 Z M 360.742188 416.800781 \"/>\n",
       "<path style=\"fill:none;stroke-width:0.75;stroke-linecap:round;stroke-linejoin:round;stroke:rgb(0%,0%,0%);stroke-opacity:1;stroke-miterlimit:10;\" d=\"M 361.6875 416.800781 L 362.636719 416.800781 Z M 361.6875 416.800781 \"/>\n",
       "<path style=\"fill:none;stroke-width:0.75;stroke-linecap:round;stroke-linejoin:round;stroke:rgb(0%,0%,0%);stroke-opacity:1;stroke-miterlimit:10;\" d=\"M 362.636719 416.800781 L 363.585938 416.800781 Z M 362.636719 416.800781 \"/>\n",
       "<path style=\"fill:none;stroke-width:0.75;stroke-linecap:round;stroke-linejoin:round;stroke:rgb(0%,0%,0%);stroke-opacity:1;stroke-miterlimit:10;\" d=\"M 363.585938 416.800781 L 364.535156 416.800781 Z M 363.585938 416.800781 \"/>\n",
       "<path style=\"fill:none;stroke-width:0.75;stroke-linecap:round;stroke-linejoin:round;stroke:rgb(0%,0%,0%);stroke-opacity:1;stroke-miterlimit:10;\" d=\"M 364.535156 416.800781 L 365.484375 416.800781 Z M 364.535156 416.800781 \"/>\n",
       "<path style=\"fill:none;stroke-width:0.75;stroke-linecap:round;stroke-linejoin:round;stroke:rgb(0%,0%,0%);stroke-opacity:1;stroke-miterlimit:10;\" d=\"M 365.480469 416.800781 L 366.429688 416.800781 Z M 365.480469 416.800781 \"/>\n",
       "<path style=\"fill:none;stroke-width:0.75;stroke-linecap:round;stroke-linejoin:round;stroke:rgb(0%,0%,0%);stroke-opacity:1;stroke-miterlimit:10;\" d=\"M 366.429688 416.800781 L 367.378906 416.800781 Z M 366.429688 416.800781 \"/>\n",
       "<path style=\"fill:none;stroke-width:0.75;stroke-linecap:round;stroke-linejoin:round;stroke:rgb(0%,0%,0%);stroke-opacity:1;stroke-miterlimit:10;\" d=\"M 367.378906 416.800781 L 368.328125 416.800781 Z M 367.378906 416.800781 \"/>\n",
       "<path style=\"fill:none;stroke-width:0.75;stroke-linecap:round;stroke-linejoin:round;stroke:rgb(0%,0%,0%);stroke-opacity:1;stroke-miterlimit:10;\" d=\"M 368.324219 416.800781 L 369.273438 416.800781 Z M 368.324219 416.800781 \"/>\n",
       "<path style=\"fill:none;stroke-width:0.75;stroke-linecap:round;stroke-linejoin:round;stroke:rgb(0%,0%,0%);stroke-opacity:1;stroke-miterlimit:10;\" d=\"M 369.273438 416.800781 L 370.222656 416.800781 Z M 369.273438 416.800781 \"/>\n",
       "<path style=\"fill:none;stroke-width:0.75;stroke-linecap:round;stroke-linejoin:round;stroke:rgb(0%,0%,0%);stroke-opacity:1;stroke-miterlimit:10;\" d=\"M 370.222656 416.800781 L 371.171875 416.800781 Z M 370.222656 416.800781 \"/>\n",
       "<path style=\"fill:none;stroke-width:0.75;stroke-linecap:round;stroke-linejoin:round;stroke:rgb(0%,0%,0%);stroke-opacity:1;stroke-miterlimit:10;\" d=\"M 371.171875 416.800781 L 372.121094 416.800781 Z M 371.171875 416.800781 \"/>\n",
       "<path style=\"fill:none;stroke-width:0.75;stroke-linecap:round;stroke-linejoin:round;stroke:rgb(0%,0%,0%);stroke-opacity:1;stroke-miterlimit:10;\" d=\"M 372.117188 416.800781 L 373.066406 416.800781 Z M 372.117188 416.800781 \"/>\n",
       "<path style=\"fill:none;stroke-width:0.75;stroke-linecap:round;stroke-linejoin:round;stroke:rgb(0%,0%,0%);stroke-opacity:1;stroke-miterlimit:10;\" d=\"M 373.066406 416.800781 L 374.015625 416.800781 Z M 373.066406 416.800781 \"/>\n",
       "<path style=\"fill:none;stroke-width:0.75;stroke-linecap:round;stroke-linejoin:round;stroke:rgb(0%,0%,0%);stroke-opacity:1;stroke-miterlimit:10;\" d=\"M 374.015625 416.800781 L 374.964844 416.800781 L 374.964844 408.199219 L 374.015625 408.199219 Z M 374.015625 416.800781 \"/>\n",
       "<path style=\"fill:none;stroke-width:0.75;stroke-linecap:round;stroke-linejoin:round;stroke:rgb(0%,0%,0%);stroke-opacity:1;stroke-miterlimit:10;\" d=\"M 374.964844 416.800781 L 375.914062 416.800781 Z M 374.964844 416.800781 \"/>\n",
       "<path style=\"fill:none;stroke-width:0.75;stroke-linecap:round;stroke-linejoin:round;stroke:rgb(0%,0%,0%);stroke-opacity:1;stroke-miterlimit:10;\" d=\"M 375.910156 416.800781 L 376.859375 416.800781 Z M 375.910156 416.800781 \"/>\n",
       "<path style=\"fill:none;stroke-width:0.75;stroke-linecap:round;stroke-linejoin:round;stroke:rgb(0%,0%,0%);stroke-opacity:1;stroke-miterlimit:10;\" d=\"M 376.859375 416.800781 L 377.808594 416.800781 Z M 376.859375 416.800781 \"/>\n",
       "<path style=\"fill:none;stroke-width:0.75;stroke-linecap:round;stroke-linejoin:round;stroke:rgb(0%,0%,0%);stroke-opacity:1;stroke-miterlimit:10;\" d=\"M 377.808594 416.800781 L 378.757812 416.800781 Z M 377.808594 416.800781 \"/>\n",
       "<path style=\"fill:none;stroke-width:0.75;stroke-linecap:round;stroke-linejoin:round;stroke:rgb(0%,0%,0%);stroke-opacity:1;stroke-miterlimit:10;\" d=\"M 378.753906 416.800781 L 379.703125 416.800781 Z M 378.753906 416.800781 \"/>\n",
       "<path style=\"fill:none;stroke-width:0.75;stroke-linecap:round;stroke-linejoin:round;stroke:rgb(0%,0%,0%);stroke-opacity:1;stroke-miterlimit:10;\" d=\"M 379.703125 416.800781 L 380.652344 416.800781 Z M 379.703125 416.800781 \"/>\n",
       "<path style=\"fill:none;stroke-width:0.75;stroke-linecap:round;stroke-linejoin:round;stroke:rgb(0%,0%,0%);stroke-opacity:1;stroke-miterlimit:10;\" d=\"M 380.652344 416.800781 L 381.601562 416.800781 Z M 380.652344 416.800781 \"/>\n",
       "<path style=\"fill:none;stroke-width:0.75;stroke-linecap:round;stroke-linejoin:round;stroke:rgb(0%,0%,0%);stroke-opacity:1;stroke-miterlimit:10;\" d=\"M 381.601562 416.800781 L 382.550781 416.800781 Z M 381.601562 416.800781 \"/>\n",
       "<path style=\"fill:none;stroke-width:0.75;stroke-linecap:round;stroke-linejoin:round;stroke:rgb(0%,0%,0%);stroke-opacity:1;stroke-miterlimit:10;\" d=\"M 382.546875 416.800781 L 383.496094 416.800781 Z M 382.546875 416.800781 \"/>\n",
       "<path style=\"fill:none;stroke-width:0.75;stroke-linecap:round;stroke-linejoin:round;stroke:rgb(0%,0%,0%);stroke-opacity:1;stroke-miterlimit:10;\" d=\"M 383.496094 416.800781 L 384.445312 416.800781 Z M 383.496094 416.800781 \"/>\n",
       "<path style=\"fill:none;stroke-width:0.75;stroke-linecap:round;stroke-linejoin:round;stroke:rgb(0%,0%,0%);stroke-opacity:1;stroke-miterlimit:10;\" d=\"M 384.445312 416.800781 L 385.394531 416.800781 Z M 384.445312 416.800781 \"/>\n",
       "<path style=\"fill:none;stroke-width:0.75;stroke-linecap:round;stroke-linejoin:round;stroke:rgb(0%,0%,0%);stroke-opacity:1;stroke-miterlimit:10;\" d=\"M 385.394531 416.800781 L 386.34375 416.800781 Z M 385.394531 416.800781 \"/>\n",
       "<path style=\"fill:none;stroke-width:0.75;stroke-linecap:round;stroke-linejoin:round;stroke:rgb(0%,0%,0%);stroke-opacity:1;stroke-miterlimit:10;\" d=\"M 386.339844 416.800781 L 387.289062 416.800781 Z M 386.339844 416.800781 \"/>\n",
       "<path style=\"fill:none;stroke-width:0.75;stroke-linecap:round;stroke-linejoin:round;stroke:rgb(0%,0%,0%);stroke-opacity:1;stroke-miterlimit:10;\" d=\"M 387.289062 416.800781 L 388.238281 416.800781 Z M 387.289062 416.800781 \"/>\n",
       "<path style=\"fill:none;stroke-width:0.75;stroke-linecap:round;stroke-linejoin:round;stroke:rgb(0%,0%,0%);stroke-opacity:1;stroke-miterlimit:10;\" d=\"M 388.238281 416.800781 L 389.1875 416.800781 Z M 388.238281 416.800781 \"/>\n",
       "<path style=\"fill:none;stroke-width:0.75;stroke-linecap:round;stroke-linejoin:round;stroke:rgb(0%,0%,0%);stroke-opacity:1;stroke-miterlimit:10;\" d=\"M 389.183594 416.800781 L 390.132812 416.800781 Z M 389.183594 416.800781 \"/>\n",
       "<path style=\"fill:none;stroke-width:0.75;stroke-linecap:round;stroke-linejoin:round;stroke:rgb(0%,0%,0%);stroke-opacity:1;stroke-miterlimit:10;\" d=\"M 390.132812 416.800781 L 391.082031 416.800781 Z M 390.132812 416.800781 \"/>\n",
       "<path style=\"fill:none;stroke-width:0.75;stroke-linecap:round;stroke-linejoin:round;stroke:rgb(0%,0%,0%);stroke-opacity:1;stroke-miterlimit:10;\" d=\"M 391.082031 416.800781 L 392.03125 416.800781 Z M 391.082031 416.800781 \"/>\n",
       "<path style=\"fill:none;stroke-width:0.75;stroke-linecap:round;stroke-linejoin:round;stroke:rgb(0%,0%,0%);stroke-opacity:1;stroke-miterlimit:10;\" d=\"M 392.03125 416.800781 L 392.980469 416.800781 Z M 392.03125 416.800781 \"/>\n",
       "<path style=\"fill:none;stroke-width:0.75;stroke-linecap:round;stroke-linejoin:round;stroke:rgb(0%,0%,0%);stroke-opacity:1;stroke-miterlimit:10;\" d=\"M 392.976562 416.800781 L 393.925781 416.800781 Z M 392.976562 416.800781 \"/>\n",
       "<path style=\"fill:none;stroke-width:0.75;stroke-linecap:round;stroke-linejoin:round;stroke:rgb(0%,0%,0%);stroke-opacity:1;stroke-miterlimit:10;\" d=\"M 393.925781 416.800781 L 394.875 416.800781 Z M 393.925781 416.800781 \"/>\n",
       "<path style=\"fill:none;stroke-width:0.75;stroke-linecap:round;stroke-linejoin:round;stroke:rgb(0%,0%,0%);stroke-opacity:1;stroke-miterlimit:10;\" d=\"M 394.875 416.800781 L 395.824219 416.800781 Z M 394.875 416.800781 \"/>\n",
       "<path style=\"fill:none;stroke-width:0.75;stroke-linecap:round;stroke-linejoin:round;stroke:rgb(0%,0%,0%);stroke-opacity:1;stroke-miterlimit:10;\" d=\"M 395.820312 416.800781 L 396.769531 416.800781 Z M 395.820312 416.800781 \"/>\n",
       "<path style=\"fill:none;stroke-width:0.75;stroke-linecap:round;stroke-linejoin:round;stroke:rgb(0%,0%,0%);stroke-opacity:1;stroke-miterlimit:10;\" d=\"M 396.769531 416.800781 L 397.71875 416.800781 Z M 396.769531 416.800781 \"/>\n",
       "<path style=\"fill:none;stroke-width:0.75;stroke-linecap:round;stroke-linejoin:round;stroke:rgb(0%,0%,0%);stroke-opacity:1;stroke-miterlimit:10;\" d=\"M 397.71875 416.800781 L 398.667969 416.800781 Z M 397.71875 416.800781 \"/>\n",
       "<path style=\"fill:none;stroke-width:0.75;stroke-linecap:round;stroke-linejoin:round;stroke:rgb(0%,0%,0%);stroke-opacity:1;stroke-miterlimit:10;\" d=\"M 398.667969 416.800781 L 399.617188 416.800781 Z M 398.667969 416.800781 \"/>\n",
       "<path style=\"fill:none;stroke-width:0.75;stroke-linecap:round;stroke-linejoin:round;stroke:rgb(0%,0%,0%);stroke-opacity:1;stroke-miterlimit:10;\" d=\"M 399.613281 416.800781 L 400.5625 416.800781 Z M 399.613281 416.800781 \"/>\n",
       "<path style=\"fill:none;stroke-width:0.75;stroke-linecap:round;stroke-linejoin:round;stroke:rgb(0%,0%,0%);stroke-opacity:1;stroke-miterlimit:10;\" d=\"M 400.5625 416.800781 L 401.511719 416.800781 Z M 400.5625 416.800781 \"/>\n",
       "<path style=\"fill:none;stroke-width:0.75;stroke-linecap:round;stroke-linejoin:round;stroke:rgb(0%,0%,0%);stroke-opacity:1;stroke-miterlimit:10;\" d=\"M 401.511719 416.800781 L 402.460938 416.800781 Z M 401.511719 416.800781 \"/>\n",
       "<path style=\"fill:none;stroke-width:0.75;stroke-linecap:round;stroke-linejoin:round;stroke:rgb(0%,0%,0%);stroke-opacity:1;stroke-miterlimit:10;\" d=\"M 402.460938 416.800781 L 403.410156 416.800781 Z M 402.460938 416.800781 \"/>\n",
       "<path style=\"fill:none;stroke-width:0.75;stroke-linecap:round;stroke-linejoin:round;stroke:rgb(0%,0%,0%);stroke-opacity:1;stroke-miterlimit:10;\" d=\"M 403.40625 416.800781 L 404.355469 416.800781 Z M 403.40625 416.800781 \"/>\n",
       "<path style=\"fill:none;stroke-width:0.75;stroke-linecap:round;stroke-linejoin:round;stroke:rgb(0%,0%,0%);stroke-opacity:1;stroke-miterlimit:10;\" d=\"M 404.355469 416.800781 L 405.304688 416.800781 Z M 404.355469 416.800781 \"/>\n",
       "<path style=\"fill:none;stroke-width:0.75;stroke-linecap:round;stroke-linejoin:round;stroke:rgb(0%,0%,0%);stroke-opacity:1;stroke-miterlimit:10;\" d=\"M 405.304688 416.800781 L 406.253906 416.800781 Z M 405.304688 416.800781 \"/>\n",
       "<path style=\"fill:none;stroke-width:0.75;stroke-linecap:round;stroke-linejoin:round;stroke:rgb(0%,0%,0%);stroke-opacity:1;stroke-miterlimit:10;\" d=\"M 406.25 416.800781 L 407.199219 416.800781 Z M 406.25 416.800781 \"/>\n",
       "<path style=\"fill:none;stroke-width:0.75;stroke-linecap:round;stroke-linejoin:round;stroke:rgb(0%,0%,0%);stroke-opacity:1;stroke-miterlimit:10;\" d=\"M 407.199219 416.800781 L 408.148438 416.800781 Z M 407.199219 416.800781 \"/>\n",
       "<path style=\"fill:none;stroke-width:0.75;stroke-linecap:round;stroke-linejoin:round;stroke:rgb(0%,0%,0%);stroke-opacity:1;stroke-miterlimit:10;\" d=\"M 408.148438 416.800781 L 409.097656 416.800781 Z M 408.148438 416.800781 \"/>\n",
       "<path style=\"fill:none;stroke-width:0.75;stroke-linecap:round;stroke-linejoin:round;stroke:rgb(0%,0%,0%);stroke-opacity:1;stroke-miterlimit:10;\" d=\"M 409.097656 416.800781 L 410.046875 416.800781 Z M 409.097656 416.800781 \"/>\n",
       "<path style=\"fill:none;stroke-width:0.75;stroke-linecap:round;stroke-linejoin:round;stroke:rgb(0%,0%,0%);stroke-opacity:1;stroke-miterlimit:10;\" d=\"M 410.042969 416.800781 L 410.992188 416.800781 Z M 410.042969 416.800781 \"/>\n",
       "<path style=\"fill:none;stroke-width:0.75;stroke-linecap:round;stroke-linejoin:round;stroke:rgb(0%,0%,0%);stroke-opacity:1;stroke-miterlimit:10;\" d=\"M 410.992188 416.800781 L 411.941406 416.800781 Z M 410.992188 416.800781 \"/>\n",
       "<path style=\"fill:none;stroke-width:0.75;stroke-linecap:round;stroke-linejoin:round;stroke:rgb(0%,0%,0%);stroke-opacity:1;stroke-miterlimit:10;\" d=\"M 411.941406 416.800781 L 412.890625 416.800781 Z M 411.941406 416.800781 \"/>\n",
       "<path style=\"fill:none;stroke-width:0.75;stroke-linecap:round;stroke-linejoin:round;stroke:rgb(0%,0%,0%);stroke-opacity:1;stroke-miterlimit:10;\" d=\"M 412.890625 416.800781 L 413.839844 416.800781 Z M 412.890625 416.800781 \"/>\n",
       "<path style=\"fill:none;stroke-width:0.75;stroke-linecap:round;stroke-linejoin:round;stroke:rgb(0%,0%,0%);stroke-opacity:1;stroke-miterlimit:10;\" d=\"M 413.835938 416.800781 L 414.785156 416.800781 Z M 413.835938 416.800781 \"/>\n",
       "<path style=\"fill:none;stroke-width:0.75;stroke-linecap:round;stroke-linejoin:round;stroke:rgb(0%,0%,0%);stroke-opacity:1;stroke-miterlimit:10;\" d=\"M 414.785156 416.800781 L 415.734375 416.800781 Z M 414.785156 416.800781 \"/>\n",
       "<path style=\"fill:none;stroke-width:0.75;stroke-linecap:round;stroke-linejoin:round;stroke:rgb(0%,0%,0%);stroke-opacity:1;stroke-miterlimit:10;\" d=\"M 415.734375 416.800781 L 416.683594 416.800781 Z M 415.734375 416.800781 \"/>\n",
       "<path style=\"fill:none;stroke-width:0.75;stroke-linecap:round;stroke-linejoin:round;stroke:rgb(0%,0%,0%);stroke-opacity:1;stroke-miterlimit:10;\" d=\"M 416.679688 416.800781 L 417.628906 416.800781 Z M 416.679688 416.800781 \"/>\n",
       "<path style=\"fill:none;stroke-width:0.75;stroke-linecap:round;stroke-linejoin:round;stroke:rgb(0%,0%,0%);stroke-opacity:1;stroke-miterlimit:10;\" d=\"M 417.628906 416.800781 L 418.578125 416.800781 Z M 417.628906 416.800781 \"/>\n",
       "<path style=\"fill:none;stroke-width:0.75;stroke-linecap:round;stroke-linejoin:round;stroke:rgb(0%,0%,0%);stroke-opacity:1;stroke-miterlimit:10;\" d=\"M 418.578125 416.800781 L 419.527344 416.800781 Z M 418.578125 416.800781 \"/>\n",
       "<path style=\"fill:none;stroke-width:0.75;stroke-linecap:round;stroke-linejoin:round;stroke:rgb(0%,0%,0%);stroke-opacity:1;stroke-miterlimit:10;\" d=\"M 419.527344 416.800781 L 420.476562 416.800781 Z M 419.527344 416.800781 \"/>\n",
       "<path style=\"fill:none;stroke-width:0.75;stroke-linecap:round;stroke-linejoin:round;stroke:rgb(0%,0%,0%);stroke-opacity:1;stroke-miterlimit:10;\" d=\"M 420.472656 416.800781 L 421.421875 416.800781 Z M 420.472656 416.800781 \"/>\n",
       "<path style=\"fill:none;stroke-width:0.75;stroke-linecap:round;stroke-linejoin:round;stroke:rgb(0%,0%,0%);stroke-opacity:1;stroke-miterlimit:10;\" d=\"M 421.421875 416.800781 L 422.371094 416.800781 Z M 421.421875 416.800781 \"/>\n",
       "<path style=\"fill:none;stroke-width:0.75;stroke-linecap:round;stroke-linejoin:round;stroke:rgb(0%,0%,0%);stroke-opacity:1;stroke-miterlimit:10;\" d=\"M 422.371094 416.800781 L 423.320312 416.800781 Z M 422.371094 416.800781 \"/>\n",
       "<path style=\"fill:none;stroke-width:0.75;stroke-linecap:round;stroke-linejoin:round;stroke:rgb(0%,0%,0%);stroke-opacity:1;stroke-miterlimit:10;\" d=\"M 423.320312 416.800781 L 424.269531 416.800781 Z M 423.320312 416.800781 \"/>\n",
       "<path style=\"fill:none;stroke-width:0.75;stroke-linecap:round;stroke-linejoin:round;stroke:rgb(0%,0%,0%);stroke-opacity:1;stroke-miterlimit:10;\" d=\"M 424.265625 416.800781 L 425.214844 416.800781 Z M 424.265625 416.800781 \"/>\n",
       "<path style=\"fill:none;stroke-width:0.75;stroke-linecap:round;stroke-linejoin:round;stroke:rgb(0%,0%,0%);stroke-opacity:1;stroke-miterlimit:10;\" d=\"M 425.214844 416.800781 L 426.164062 416.800781 Z M 425.214844 416.800781 \"/>\n",
       "<path style=\"fill:none;stroke-width:0.75;stroke-linecap:round;stroke-linejoin:round;stroke:rgb(0%,0%,0%);stroke-opacity:1;stroke-miterlimit:10;\" d=\"M 426.164062 416.800781 L 427.113281 416.800781 Z M 426.164062 416.800781 \"/>\n",
       "<path style=\"fill:none;stroke-width:0.75;stroke-linecap:round;stroke-linejoin:round;stroke:rgb(0%,0%,0%);stroke-opacity:1;stroke-miterlimit:10;\" d=\"M 427.109375 416.800781 L 428.058594 416.800781 Z M 427.109375 416.800781 \"/>\n",
       "<path style=\"fill:none;stroke-width:0.75;stroke-linecap:round;stroke-linejoin:round;stroke:rgb(0%,0%,0%);stroke-opacity:1;stroke-miterlimit:10;\" d=\"M 428.058594 416.800781 L 429.007812 416.800781 Z M 428.058594 416.800781 \"/>\n",
       "<path style=\"fill:none;stroke-width:0.75;stroke-linecap:round;stroke-linejoin:round;stroke:rgb(0%,0%,0%);stroke-opacity:1;stroke-miterlimit:10;\" d=\"M 429.007812 416.800781 L 429.957031 416.800781 Z M 429.007812 416.800781 \"/>\n",
       "<path style=\"fill:none;stroke-width:0.75;stroke-linecap:round;stroke-linejoin:round;stroke:rgb(0%,0%,0%);stroke-opacity:1;stroke-miterlimit:10;\" d=\"M 429.957031 416.800781 L 430.90625 416.800781 Z M 429.957031 416.800781 \"/>\n",
       "<path style=\"fill:none;stroke-width:0.75;stroke-linecap:round;stroke-linejoin:round;stroke:rgb(0%,0%,0%);stroke-opacity:1;stroke-miterlimit:10;\" d=\"M 430.902344 416.800781 L 431.851562 416.800781 Z M 430.902344 416.800781 \"/>\n",
       "<path style=\"fill:none;stroke-width:0.75;stroke-linecap:round;stroke-linejoin:round;stroke:rgb(0%,0%,0%);stroke-opacity:1;stroke-miterlimit:10;\" d=\"M 431.851562 416.800781 L 432.800781 416.800781 Z M 431.851562 416.800781 \"/>\n",
       "<path style=\"fill:none;stroke-width:0.75;stroke-linecap:round;stroke-linejoin:round;stroke:rgb(0%,0%,0%);stroke-opacity:1;stroke-miterlimit:10;\" d=\"M 432.800781 416.800781 L 433.75 416.800781 Z M 432.800781 416.800781 \"/>\n",
       "<path style=\"fill:none;stroke-width:0.75;stroke-linecap:round;stroke-linejoin:round;stroke:rgb(0%,0%,0%);stroke-opacity:1;stroke-miterlimit:10;\" d=\"M 433.75 416.800781 L 434.699219 416.800781 Z M 433.75 416.800781 \"/>\n",
       "<path style=\"fill:none;stroke-width:0.75;stroke-linecap:round;stroke-linejoin:round;stroke:rgb(0%,0%,0%);stroke-opacity:1;stroke-miterlimit:10;\" d=\"M 434.695312 416.800781 L 435.644531 416.800781 Z M 434.695312 416.800781 \"/>\n",
       "<path style=\"fill:none;stroke-width:0.75;stroke-linecap:round;stroke-linejoin:round;stroke:rgb(0%,0%,0%);stroke-opacity:1;stroke-miterlimit:10;\" d=\"M 435.644531 416.800781 L 436.59375 416.800781 Z M 435.644531 416.800781 \"/>\n",
       "<path style=\"fill:none;stroke-width:0.75;stroke-linecap:round;stroke-linejoin:round;stroke:rgb(0%,0%,0%);stroke-opacity:1;stroke-miterlimit:10;\" d=\"M 436.59375 416.800781 L 437.542969 416.800781 Z M 436.59375 416.800781 \"/>\n",
       "<path style=\"fill:none;stroke-width:0.75;stroke-linecap:round;stroke-linejoin:round;stroke:rgb(0%,0%,0%);stroke-opacity:1;stroke-miterlimit:10;\" d=\"M 437.539062 416.800781 L 438.488281 416.800781 Z M 437.539062 416.800781 \"/>\n",
       "<path style=\"fill:none;stroke-width:0.75;stroke-linecap:round;stroke-linejoin:round;stroke:rgb(0%,0%,0%);stroke-opacity:1;stroke-miterlimit:10;\" d=\"M 438.488281 416.800781 L 439.4375 416.800781 Z M 438.488281 416.800781 \"/>\n",
       "<path style=\"fill:none;stroke-width:0.75;stroke-linecap:round;stroke-linejoin:round;stroke:rgb(0%,0%,0%);stroke-opacity:1;stroke-miterlimit:10;\" d=\"M 439.4375 416.800781 L 440.386719 416.800781 Z M 439.4375 416.800781 \"/>\n",
       "<path style=\"fill:none;stroke-width:0.75;stroke-linecap:round;stroke-linejoin:round;stroke:rgb(0%,0%,0%);stroke-opacity:1;stroke-miterlimit:10;\" d=\"M 440.386719 416.800781 L 441.335938 416.800781 Z M 440.386719 416.800781 \"/>\n",
       "<path style=\"fill:none;stroke-width:0.75;stroke-linecap:round;stroke-linejoin:round;stroke:rgb(0%,0%,0%);stroke-opacity:1;stroke-miterlimit:10;\" d=\"M 441.332031 416.800781 L 442.28125 416.800781 Z M 441.332031 416.800781 \"/>\n",
       "<path style=\"fill:none;stroke-width:0.75;stroke-linecap:round;stroke-linejoin:round;stroke:rgb(0%,0%,0%);stroke-opacity:1;stroke-miterlimit:10;\" d=\"M 442.28125 416.800781 L 443.230469 416.800781 Z M 442.28125 416.800781 \"/>\n",
       "<path style=\"fill:none;stroke-width:0.75;stroke-linecap:round;stroke-linejoin:round;stroke:rgb(0%,0%,0%);stroke-opacity:1;stroke-miterlimit:10;\" d=\"M 443.230469 416.800781 L 444.179688 416.800781 Z M 443.230469 416.800781 \"/>\n",
       "<path style=\"fill:none;stroke-width:0.75;stroke-linecap:round;stroke-linejoin:round;stroke:rgb(0%,0%,0%);stroke-opacity:1;stroke-miterlimit:10;\" d=\"M 444.179688 416.800781 L 445.128906 416.800781 Z M 444.179688 416.800781 \"/>\n",
       "<path style=\"fill:none;stroke-width:0.75;stroke-linecap:round;stroke-linejoin:round;stroke:rgb(0%,0%,0%);stroke-opacity:1;stroke-miterlimit:10;\" d=\"M 445.125 416.800781 L 446.074219 416.800781 Z M 445.125 416.800781 \"/>\n",
       "<path style=\"fill:none;stroke-width:0.75;stroke-linecap:round;stroke-linejoin:round;stroke:rgb(0%,0%,0%);stroke-opacity:1;stroke-miterlimit:10;\" d=\"M 446.074219 416.800781 L 447.023438 416.800781 Z M 446.074219 416.800781 \"/>\n",
       "<path style=\"fill:none;stroke-width:0.75;stroke-linecap:round;stroke-linejoin:round;stroke:rgb(0%,0%,0%);stroke-opacity:1;stroke-miterlimit:10;\" d=\"M 447.023438 416.800781 L 447.972656 416.800781 Z M 447.023438 416.800781 \"/>\n",
       "<path style=\"fill:none;stroke-width:0.75;stroke-linecap:round;stroke-linejoin:round;stroke:rgb(0%,0%,0%);stroke-opacity:1;stroke-miterlimit:10;\" d=\"M 447.96875 416.800781 L 448.917969 416.800781 Z M 447.96875 416.800781 \"/>\n",
       "<path style=\"fill:none;stroke-width:0.75;stroke-linecap:round;stroke-linejoin:round;stroke:rgb(0%,0%,0%);stroke-opacity:1;stroke-miterlimit:10;\" d=\"M 448.917969 416.800781 L 449.867188 416.800781 Z M 448.917969 416.800781 \"/>\n",
       "<path style=\"fill:none;stroke-width:0.75;stroke-linecap:round;stroke-linejoin:round;stroke:rgb(0%,0%,0%);stroke-opacity:1;stroke-miterlimit:10;\" d=\"M 449.867188 416.800781 L 450.816406 416.800781 Z M 449.867188 416.800781 \"/>\n",
       "<path style=\"fill:none;stroke-width:0.75;stroke-linecap:round;stroke-linejoin:round;stroke:rgb(0%,0%,0%);stroke-opacity:1;stroke-miterlimit:10;\" d=\"M 450.816406 416.800781 L 451.765625 416.800781 Z M 450.816406 416.800781 \"/>\n",
       "<path style=\"fill:none;stroke-width:0.75;stroke-linecap:round;stroke-linejoin:round;stroke:rgb(0%,0%,0%);stroke-opacity:1;stroke-miterlimit:10;\" d=\"M 451.761719 416.800781 L 452.710938 416.800781 Z M 451.761719 416.800781 \"/>\n",
       "<path style=\"fill:none;stroke-width:0.75;stroke-linecap:round;stroke-linejoin:round;stroke:rgb(0%,0%,0%);stroke-opacity:1;stroke-miterlimit:10;\" d=\"M 452.710938 416.800781 L 453.660156 416.800781 Z M 452.710938 416.800781 \"/>\n",
       "<path style=\"fill:none;stroke-width:0.75;stroke-linecap:round;stroke-linejoin:round;stroke:rgb(0%,0%,0%);stroke-opacity:1;stroke-miterlimit:10;\" d=\"M 453.660156 416.800781 L 454.609375 416.800781 Z M 453.660156 416.800781 \"/>\n",
       "<path style=\"fill:none;stroke-width:0.75;stroke-linecap:round;stroke-linejoin:round;stroke:rgb(0%,0%,0%);stroke-opacity:1;stroke-miterlimit:10;\" d=\"M 454.605469 416.800781 L 455.554688 416.800781 Z M 454.605469 416.800781 \"/>\n",
       "<path style=\"fill:none;stroke-width:0.75;stroke-linecap:round;stroke-linejoin:round;stroke:rgb(0%,0%,0%);stroke-opacity:1;stroke-miterlimit:10;\" d=\"M 455.554688 416.800781 L 456.503906 416.800781 Z M 455.554688 416.800781 \"/>\n",
       "<path style=\"fill:none;stroke-width:0.75;stroke-linecap:round;stroke-linejoin:round;stroke:rgb(0%,0%,0%);stroke-opacity:1;stroke-miterlimit:10;\" d=\"M 456.503906 416.800781 L 457.453125 416.800781 Z M 456.503906 416.800781 \"/>\n",
       "<path style=\"fill:none;stroke-width:0.75;stroke-linecap:round;stroke-linejoin:round;stroke:rgb(0%,0%,0%);stroke-opacity:1;stroke-miterlimit:10;\" d=\"M 457.453125 416.800781 L 458.402344 416.800781 L 458.402344 408.199219 L 457.453125 408.199219 Z M 457.453125 416.800781 \"/>\n",
       "</g>\n",
       "</svg>\n"
      ],
      "text/plain": [
       "Plot with title “Applicant Income Chart”"
      ]
     },
     "metadata": {
      "image/svg+xml": {
       "isolated": true
      }
     },
     "output_type": "display_data"
    }
   ],
   "source": [
    "hist(train$ApplicantIncome, breaks = 300, main = \"Applicant Income Chart\",xlab = \"ApplicantIncome\")"
   ]
  },
  {
   "cell_type": "code",
   "execution_count": 18,
   "metadata": {
    "collapsed": false
   },
   "outputs": [
    {
     "data": {
      "image/png": "[encoded data removed]",
      "image/svg+xml": [
       "<?xml version=\"1.0\" encoding=\"UTF-8\"?>\n",
       "<svg xmlns=\"http://www.w3.org/2000/svg\" xmlns:xlink=\"http://www.w3.org/1999/xlink\" width=\"504pt\" height=\"504pt\" viewBox=\"0 0 504 504\" version=\"1.1\">\n",
       "<defs>\n",
       "<g>\n",
       "<symbol overflow=\"visible\" id=\"glyph0-0\">\n",
       "<path style=\"stroke:none;\" d=\"\"/>\n",
       "</symbol>\n",
       "<symbol overflow=\"visible\" id=\"glyph0-1\">\n",
       "<path style=\"stroke:none;\" d=\"M 9.875 -3.59375 L 7.765625 -3.59375 C 7.640625 -2.25 6.78125 -1.640625 5.453125 -1.640625 C 3.78125 -1.640625 2.796875 -2.921875 2.796875 -5.21875 C 2.796875 -7.53125 3.8125 -8.828125 5.515625 -8.828125 C 6.6875 -8.828125 7.453125 -8.296875 7.765625 -6.9375 L 9.828125 -6.9375 C 9.640625 -9.359375 7.8125 -10.671875 5.453125 -10.671875 C 2.484375 -10.671875 0.640625 -8.640625 0.640625 -5.25 C 0.640625 -1.875 2.46875 0.171875 5.390625 0.171875 C 8 0.171875 9.734375 -1.1875 9.875 -3.59375 Z M 9.875 -3.59375 \"/>\n",
       "</symbol>\n",
       "<symbol overflow=\"visible\" id=\"glyph0-2\">\n",
       "<path style=\"stroke:none;\" d=\"M 8.203125 -3.828125 C 8.203125 -6.46875 6.765625 -7.90625 4.34375 -7.90625 C 1.953125 -7.90625 0.5 -6.4375 0.5 -3.890625 C 0.5 -1.328125 1.953125 0.125 4.34375 0.125 C 6.71875 0.125 8.203125 -1.34375 8.203125 -3.828125 Z M 6.1875 -3.859375 C 6.1875 -2.40625 5.4375 -1.5 4.34375 -1.5 C 3.25 -1.5 2.515625 -2.40625 2.515625 -3.890625 C 2.515625 -5.375 3.25 -6.28125 4.34375 -6.28125 C 5.453125 -6.28125 6.1875 -5.390625 6.1875 -3.859375 Z M 6.1875 -3.859375 \"/>\n",
       "</symbol>\n",
       "<symbol overflow=\"visible\" id=\"glyph0-3\">\n",
       "<path style=\"stroke:none;\" d=\"M 7.546875 0 L 7.546875 -0.25 C 7.1875 -0.578125 7.09375 -0.796875 7.09375 -1.203125 L 7.09375 -5.515625 C 7.09375 -7.109375 6 -7.90625 3.90625 -7.90625 C 1.796875 -7.90625 0.703125 -7.015625 0.578125 -5.21875 L 2.515625 -5.21875 C 2.625 -6.015625 2.953125 -6.28125 3.953125 -6.28125 C 4.71875 -6.28125 5.109375 -6.015625 5.109375 -5.5 C 5.109375 -4.6875 4.515625 -4.765625 3.5 -4.59375 L 2.6875 -4.453125 C 1.15625 -4.171875 0.40625 -3.515625 0.40625 -2.109375 C 0.40625 -0.59375 1.46875 0.125 2.765625 0.125 C 3.625 0.125 4.421875 -0.25 5.125 -0.984375 C 5.125 -0.578125 5.171875 -0.234375 5.359375 0 Z M 5.109375 -3.328125 C 5.109375 -2.15625 4.53125 -1.5 3.515625 -1.5 C 2.84375 -1.5 2.421875 -1.75 2.421875 -2.328125 C 2.421875 -2.921875 2.734375 -3.140625 3.578125 -3.296875 L 4.265625 -3.421875 C 4.796875 -3.53125 4.890625 -3.5625 5.109375 -3.671875 Z M 5.109375 -3.328125 \"/>\n",
       "</symbol>\n",
       "<symbol overflow=\"visible\" id=\"glyph0-4\">\n",
       "<path style=\"stroke:none;\" d=\"M 8.265625 -3.890625 C 8.265625 -6.1875 7.046875 -7.90625 5.015625 -7.90625 C 4.03125 -7.90625 3.34375 -7.484375 2.859375 -6.625 L 2.859375 -7.78125 L 0.828125 -7.78125 L 0.828125 3.140625 L 2.859375 3.140625 L 2.859375 -1.03125 C 3.34375 -0.171875 4.03125 0.125 5.015625 0.125 C 6.890625 0.125 8.265625 -1.53125 8.265625 -3.890625 Z M 6.25 -3.859375 C 6.25 -2.453125 5.546875 -1.5625 4.546875 -1.5625 C 3.546875 -1.5625 2.859375 -2.4375 2.859375 -3.890625 C 2.859375 -5.34375 3.546875 -6.21875 4.546875 -6.21875 C 5.578125 -6.21875 6.25 -5.34375 6.25 -3.859375 Z M 6.25 -3.859375 \"/>\n",
       "</symbol>\n",
       "<symbol overflow=\"visible\" id=\"glyph0-5\">\n",
       "<path style=\"stroke:none;\" d=\"M 2.984375 0 L 2.984375 -10.5 L 0.96875 -10.5 L 0.96875 0 Z M 2.984375 0 \"/>\n",
       "</symbol>\n",
       "<symbol overflow=\"visible\" id=\"glyph0-6\">\n",
       "<path style=\"stroke:none;\" d=\"M 2.984375 0 L 2.984375 -7.78125 L 0.96875 -7.78125 L 0.96875 0 Z M 3.015625 -8.71875 L 3.015625 -10.734375 L 1 -10.734375 L 1 -8.71875 Z M 3.015625 -8.71875 \"/>\n",
       "</symbol>\n",
       "<symbol overflow=\"visible\" id=\"glyph0-7\">\n",
       "<path style=\"stroke:none;\" d=\"M 7.515625 -2.6875 L 5.59375 -2.6875 C 5.328125 -1.890625 4.921875 -1.5 4.15625 -1.5 C 3.125 -1.5 2.5 -2.3125 2.5 -3.828125 C 2.5 -5.265625 2.875 -6.28125 4.15625 -6.28125 C 4.96875 -6.28125 5.359375 -5.890625 5.59375 -4.875 L 7.515625 -4.875 C 7.375 -6.765625 6.109375 -7.90625 4.15625 -7.90625 C 1.84375 -7.90625 0.484375 -6.484375 0.484375 -3.828125 C 0.484375 -1.265625 1.828125 0.125 4.140625 0.125 C 6.015625 0.125 7.328125 -1.03125 7.515625 -2.6875 Z M 7.515625 -2.6875 \"/>\n",
       "</symbol>\n",
       "<symbol overflow=\"visible\" id=\"glyph0-8\">\n",
       "<path style=\"stroke:none;\" d=\"M 7.859375 0 L 7.859375 -5.21875 C 7.859375 -6.921875 6.921875 -7.90625 5.265625 -7.90625 C 4.203125 -7.90625 3.5 -7.515625 2.921875 -6.65625 L 2.921875 -7.78125 L 0.90625 -7.78125 L 0.90625 0 L 2.921875 0 L 2.921875 -4.671875 C 2.921875 -5.59375 3.578125 -6.1875 4.546875 -6.1875 C 5.421875 -6.1875 5.84375 -5.71875 5.84375 -4.796875 L 5.84375 0 Z M 7.859375 0 \"/>\n",
       "</symbol>\n",
       "<symbol overflow=\"visible\" id=\"glyph0-9\">\n",
       "<path style=\"stroke:none;\" d=\"M 4.34375 0 L 4.34375 -1.40625 C 4.140625 -1.390625 4.015625 -1.375 3.875 -1.375 C 3.34375 -1.375 3.21875 -1.53125 3.21875 -2.21875 L 3.21875 -6.28125 L 4.34375 -6.28125 L 4.34375 -7.625 L 3.21875 -7.625 L 3.21875 -9.703125 L 1.203125 -9.703125 L 1.203125 -7.625 L 0.203125 -7.625 L 0.203125 -6.28125 L 1.203125 -6.28125 L 1.203125 -1.671875 C 1.203125 -0.453125 1.84375 0.0625 3.171875 0.0625 C 3.609375 0.0625 3.96875 0.015625 4.34375 0 Z M 4.34375 0 \"/>\n",
       "</symbol>\n",
       "<symbol overflow=\"visible\" id=\"glyph0-10\">\n",
       "<path style=\"stroke:none;\" d=\"\"/>\n",
       "</symbol>\n",
       "<symbol overflow=\"visible\" id=\"glyph0-11\">\n",
       "<path style=\"stroke:none;\" d=\"M 3.0625 0 L 3.0625 -10.5 L 0.90625 -10.5 L 0.90625 0 Z M 3.0625 0 \"/>\n",
       "</symbol>\n",
       "<symbol overflow=\"visible\" id=\"glyph0-12\">\n",
       "<path style=\"stroke:none;\" d=\"M 11.875 0 L 11.875 -5.5 C 11.875 -7.015625 10.953125 -7.90625 9.390625 -7.90625 C 8.40625 -7.90625 7.71875 -7.5625 7.109375 -6.75 C 6.734375 -7.484375 5.96875 -7.90625 5 -7.90625 C 4.109375 -7.90625 3.53125 -7.609375 2.859375 -6.8125 L 2.859375 -7.78125 L 0.859375 -7.78125 L 0.859375 0 L 2.875 0 L 2.875 -4.671875 C 2.875 -5.625 3.40625 -6.1875 4.265625 -6.1875 C 4.9375 -6.1875 5.359375 -5.8125 5.359375 -5.1875 L 5.359375 0 L 7.375 0 L 7.375 -4.671875 C 7.375 -5.625 7.890625 -6.1875 8.765625 -6.1875 C 9.4375 -6.1875 9.859375 -5.8125 9.859375 -5.1875 L 9.859375 0 Z M 11.875 0 \"/>\n",
       "</symbol>\n",
       "<symbol overflow=\"visible\" id=\"glyph0-13\">\n",
       "<path style=\"stroke:none;\" d=\"M 7.5625 -3.59375 C 7.5625 -6.28125 6.203125 -7.90625 3.921875 -7.90625 C 1.6875 -7.90625 0.3125 -6.390625 0.3125 -3.78125 C 0.3125 -1.296875 1.671875 0.125 3.875 0.125 C 5.625 0.125 7.03125 -0.65625 7.484375 -2.1875 L 5.484375 -2.1875 C 5.3125 -1.625 4.6875 -1.40625 3.953125 -1.40625 C 3 -1.40625 2.390625 -1.84375 2.328125 -3.359375 L 7.546875 -3.359375 Z M 5.453125 -4.703125 L 2.359375 -4.703125 C 2.5 -5.78125 3 -6.375 3.890625 -6.375 C 4.75 -6.375 5.359375 -5.8125 5.453125 -4.703125 Z M 5.453125 -4.703125 \"/>\n",
       "</symbol>\n",
       "<symbol overflow=\"visible\" id=\"glyph0-14\">\n",
       "<path style=\"stroke:none;\" d=\"M 7.796875 0 L 7.796875 -5.21875 C 7.796875 -7.03125 6.734375 -7.90625 5.265625 -7.90625 C 4.265625 -7.90625 3.546875 -7.5 2.984375 -6.65625 L 2.984375 -10.5 L 0.96875 -10.5 L 0.96875 0 L 2.984375 0 L 2.984375 -4.671875 C 2.984375 -5.5625 3.625 -6.1875 4.53125 -6.1875 C 5.265625 -6.1875 5.78125 -5.8125 5.78125 -4.75 L 5.78125 0 Z M 7.796875 0 \"/>\n",
       "</symbol>\n",
       "<symbol overflow=\"visible\" id=\"glyph0-15\">\n",
       "<path style=\"stroke:none;\" d=\"M 5.328125 -5.84375 L 5.328125 -7.890625 C 5.21875 -7.90625 5.140625 -7.90625 5.078125 -7.90625 C 4.15625 -7.90625 3.359375 -7.296875 2.921875 -6.25 L 2.921875 -7.78125 L 0.90625 -7.78125 L 0.90625 0 L 2.921875 0 L 2.921875 -4.140625 C 2.921875 -5.3125 3.515625 -5.90625 4.703125 -5.90625 C 4.90625 -5.90625 5.0625 -5.890625 5.328125 -5.84375 Z M 5.328125 -5.84375 \"/>\n",
       "</symbol>\n",
       "<symbol overflow=\"visible\" id=\"glyph1-0\">\n",
       "<path style=\"stroke:none;\" d=\"\"/>\n",
       "</symbol>\n",
       "<symbol overflow=\"visible\" id=\"glyph1-1\">\n",
       "<path style=\"stroke:none;\" d=\"M 8.125 -3.1875 L 6.96875 -3.1875 C 6.703125 -1.53125 6.015625 -0.765625 4.53125 -0.765625 C 2.796875 -0.765625 1.6875 -2.09375 1.6875 -4.28125 C 1.6875 -6.53125 2.75 -7.984375 4.4375 -7.984375 C 5.8125 -7.984375 6.53125 -7.375 6.796875 -6.03125 L 7.9375 -6.03125 C 7.59375 -7.953125 6.484375 -8.96875 4.578125 -8.96875 C 1.921875 -8.96875 0.578125 -6.828125 0.578125 -4.265625 C 0.578125 -1.71875 1.953125 0.21875 4.53125 0.21875 C 6.65625 0.21875 7.859375 -0.90625 8.125 -3.1875 Z M 8.125 -3.1875 \"/>\n",
       "</symbol>\n",
       "<symbol overflow=\"visible\" id=\"glyph1-2\">\n",
       "<path style=\"stroke:none;\" d=\"M 6.125 -3.09375 C 6.125 -5.265625 5.078125 -6.46875 3.265625 -6.46875 C 1.5 -6.46875 0.4375 -5.25 0.4375 -3.140625 C 0.4375 -1.03125 1.484375 0.1875 3.28125 0.1875 C 5.046875 0.1875 6.125 -1.03125 6.125 -3.09375 Z M 5.078125 -3.109375 C 5.078125 -1.625 4.375 -0.75 3.28125 -0.75 C 2.15625 -0.75 1.46875 -1.625 1.46875 -3.140625 C 1.46875 -4.65625 2.15625 -5.546875 3.28125 -5.546875 C 4.40625 -5.546875 5.078125 -4.671875 5.078125 -3.109375 Z M 5.078125 -3.109375 \"/>\n",
       "</symbol>\n",
       "<symbol overflow=\"visible\" id=\"glyph1-3\">\n",
       "<path style=\"stroke:none;\" d=\"M 6.421875 -0.03125 L 6.421875 -0.78125 C 6.3125 -0.75 6.265625 -0.75 6.203125 -0.75 C 5.859375 -0.75 5.65625 -0.9375 5.65625 -1.25 L 5.65625 -4.75 C 5.65625 -5.875 4.84375 -6.46875 3.296875 -6.46875 C 1.78125 -6.46875 0.84375 -5.875 0.78125 -4.421875 L 1.78125 -4.421875 C 1.875 -5.203125 2.328125 -5.546875 3.265625 -5.546875 C 4.15625 -5.546875 4.671875 -5.203125 4.671875 -4.609375 L 4.671875 -4.34375 C 4.671875 -3.921875 4.421875 -3.75 3.625 -3.640625 C 2.203125 -3.46875 1.984375 -3.421875 1.609375 -3.265625 C 0.875 -2.96875 0.5 -2.40625 0.5 -1.625 C 0.5 -0.484375 1.296875 0.1875 2.5625 0.1875 C 3.375 0.1875 4.15625 -0.15625 4.703125 -0.75 C 4.8125 -0.265625 5.25 0.078125 5.734375 0.078125 C 5.9375 0.078125 6.09375 0.0625 6.421875 -0.03125 Z M 4.671875 -2.171875 C 4.671875 -1.265625 3.75 -0.703125 2.78125 -0.703125 C 2 -0.703125 1.546875 -0.96875 1.546875 -1.65625 C 1.546875 -2.3125 1.984375 -2.609375 3.0625 -2.765625 C 4.109375 -2.90625 4.328125 -2.953125 4.671875 -3.109375 Z M 4.671875 -2.171875 \"/>\n",
       "</symbol>\n",
       "<symbol overflow=\"visible\" id=\"glyph1-4\">\n",
       "<path style=\"stroke:none;\" d=\"M 6.28125 -3.078125 C 6.28125 -5.203125 5.25 -6.46875 3.578125 -6.46875 C 2.71875 -6.46875 2.046875 -6.078125 1.578125 -5.34375 L 1.578125 -6.28125 L 0.65625 -6.28125 L 0.65625 2.609375 L 1.65625 2.609375 L 1.65625 -0.75 C 2.1875 -0.109375 2.765625 0.1875 3.59375 0.1875 C 5.203125 0.1875 6.28125 -1.078125 6.28125 -3.078125 Z M 5.234375 -3.109375 C 5.234375 -1.6875 4.5 -0.75 3.40625 -0.75 C 2.359375 -0.75 1.65625 -1.625 1.65625 -3.09375 C 1.65625 -4.578125 2.359375 -5.53125 3.40625 -5.53125 C 4.515625 -5.53125 5.234375 -4.609375 5.234375 -3.109375 Z M 5.234375 -3.109375 \"/>\n",
       "</symbol>\n",
       "<symbol overflow=\"visible\" id=\"glyph1-5\">\n",
       "<path style=\"stroke:none;\" d=\"M 1.8125 0 L 1.8125 -8.75 L 0.8125 -8.75 L 0.8125 0 Z M 1.8125 0 \"/>\n",
       "</symbol>\n",
       "<symbol overflow=\"visible\" id=\"glyph1-6\">\n",
       "<path style=\"stroke:none;\" d=\"M 1.84375 0 L 1.84375 -6.28125 L 0.84375 -6.28125 L 0.84375 0 Z M 1.96875 -7.234375 L 1.96875 -8.484375 L 0.71875 -8.484375 L 0.71875 -7.234375 Z M 1.96875 -7.234375 \"/>\n",
       "</symbol>\n",
       "<symbol overflow=\"visible\" id=\"glyph1-7\">\n",
       "<path style=\"stroke:none;\" d=\"M 5.71875 -2.15625 L 4.71875 -2.15625 C 4.546875 -1.15625 4.03125 -0.75 3.1875 -0.75 C 2.078125 -0.75 1.421875 -1.59375 1.421875 -3.078125 C 1.421875 -4.65625 2.0625 -5.546875 3.15625 -5.546875 C 4 -5.546875 4.53125 -5.046875 4.640625 -4.171875 L 5.65625 -4.171875 C 5.53125 -5.71875 4.578125 -6.46875 3.171875 -6.46875 C 1.46875 -6.46875 0.375 -5.171875 0.375 -3.078125 C 0.375 -1.0625 1.453125 0.1875 3.15625 0.1875 C 4.65625 0.1875 5.609375 -0.71875 5.71875 -2.15625 Z M 5.71875 -2.15625 \"/>\n",
       "</symbol>\n",
       "<symbol overflow=\"visible\" id=\"glyph1-8\">\n",
       "<path style=\"stroke:none;\" d=\"M 5.84375 0 L 5.84375 -4.75 C 5.84375 -5.796875 5.0625 -6.46875 3.859375 -6.46875 C 2.921875 -6.46875 2.3125 -6.109375 1.765625 -5.234375 L 1.765625 -6.28125 L 0.84375 -6.28125 L 0.84375 0 L 1.84375 0 L 1.84375 -3.46875 C 1.84375 -4.75 2.53125 -5.59375 3.546875 -5.59375 C 4.34375 -5.59375 4.84375 -5.109375 4.84375 -4.359375 L 4.84375 0 Z M 5.84375 0 \"/>\n",
       "</symbol>\n",
       "<symbol overflow=\"visible\" id=\"glyph1-9\">\n",
       "<path style=\"stroke:none;\" d=\"M 3.046875 0 L 3.046875 -0.84375 C 2.921875 -0.796875 2.765625 -0.796875 2.5625 -0.796875 C 2.140625 -0.796875 2.015625 -0.90625 2.015625 -1.359375 L 2.015625 -5.46875 L 3.046875 -5.46875 L 3.046875 -6.28125 L 2.015625 -6.28125 L 2.015625 -8.015625 L 1.015625 -8.015625 L 1.015625 -6.28125 L 0.171875 -6.28125 L 0.171875 -5.46875 L 1.015625 -5.46875 L 1.015625 -0.90625 C 1.015625 -0.28125 1.453125 0.078125 2.234375 0.078125 C 2.46875 0.078125 2.71875 0.0625 3.046875 0 Z M 3.046875 0 \"/>\n",
       "</symbol>\n",
       "<symbol overflow=\"visible\" id=\"glyph1-10\">\n",
       "<path style=\"stroke:none;\" d=\"M 2.3125 0 L 2.3125 -8.75 L 1.203125 -8.75 L 1.203125 0 Z M 2.3125 0 \"/>\n",
       "</symbol>\n",
       "<symbol overflow=\"visible\" id=\"glyph1-11\">\n",
       "<path style=\"stroke:none;\" d=\"M 9.125 0 L 9.125 -4.71875 C 9.125 -5.84375 8.5 -6.46875 7.3125 -6.46875 C 6.484375 -6.46875 5.96875 -6.21875 5.390625 -5.515625 C 5.015625 -6.1875 4.515625 -6.46875 3.703125 -6.46875 C 2.859375 -6.46875 2.296875 -6.15625 1.765625 -5.40625 L 1.765625 -6.28125 L 0.859375 -6.28125 L 0.859375 0 L 1.84375 0 L 1.84375 -3.953125 C 1.84375 -4.859375 2.515625 -5.59375 3.328125 -5.59375 C 4.0625 -5.59375 4.484375 -5.140625 4.484375 -4.328125 L 4.484375 0 L 5.484375 0 L 5.484375 -3.953125 C 5.484375 -4.859375 6.15625 -5.59375 6.96875 -5.59375 C 7.703125 -5.59375 8.125 -5.125 8.125 -4.328125 L 8.125 0 Z M 9.125 0 \"/>\n",
       "</symbol>\n",
       "<symbol overflow=\"visible\" id=\"glyph1-12\">\n",
       "<path style=\"stroke:none;\" d=\"M 6.15625 -2.859375 C 6.15625 -3.765625 6.078125 -4.34375 5.90625 -4.8125 C 5.5 -5.84375 4.53125 -6.46875 3.359375 -6.46875 C 1.609375 -6.46875 0.484375 -5.171875 0.484375 -3.109375 C 0.484375 -1.046875 1.578125 0.1875 3.34375 0.1875 C 4.78125 0.1875 5.765625 -0.640625 6.03125 -1.90625 L 5.015625 -1.90625 C 4.734375 -1.078125 4.171875 -0.75 3.375 -0.75 C 2.328125 -0.75 1.546875 -1.421875 1.53125 -2.859375 Z M 5.09375 -3.75 C 5.09375 -3.75 5.09375 -3.703125 5.078125 -3.671875 L 1.546875 -3.671875 C 1.625 -4.78125 2.34375 -5.546875 3.34375 -5.546875 C 4.328125 -5.546875 5.09375 -4.734375 5.09375 -3.75 Z M 5.09375 -3.75 \"/>\n",
       "</symbol>\n",
       "<symbol overflow=\"visible\" id=\"glyph1-13\">\n",
       "<path style=\"stroke:none;\" d=\"M 6.078125 -4.09375 C 6.078125 -7.046875 5.140625 -8.515625 3.296875 -8.515625 C 1.46875 -8.515625 0.515625 -7.015625 0.515625 -4.15625 C 0.515625 -1.296875 1.46875 0.1875 3.296875 0.1875 C 5.09375 0.1875 6.078125 -1.296875 6.078125 -4.09375 Z M 5 -4.1875 C 5 -1.78125 4.453125 -0.703125 3.28125 -0.703125 C 2.15625 -0.703125 1.59375 -1.828125 1.59375 -4.15625 C 1.59375 -6.484375 2.15625 -7.578125 3.296875 -7.578125 C 4.4375 -7.578125 5 -6.46875 5 -4.1875 Z M 5 -4.1875 \"/>\n",
       "</symbol>\n",
       "<symbol overflow=\"visible\" id=\"glyph1-14\">\n",
       "<path style=\"stroke:none;\" d=\"M 4.15625 0 L 4.15625 -8.515625 L 3.46875 -8.515625 C 3.09375 -7.203125 2.859375 -7.015625 1.21875 -6.8125 L 1.21875 -6.0625 L 3.109375 -6.0625 L 3.109375 0 Z M 4.15625 0 \"/>\n",
       "</symbol>\n",
       "<symbol overflow=\"visible\" id=\"glyph1-15\">\n",
       "<path style=\"stroke:none;\" d=\"M 6.125 -6.015625 C 6.125 -7.453125 5.015625 -8.515625 3.40625 -8.515625 C 1.671875 -8.515625 0.65625 -7.625 0.59375 -5.5625 L 1.65625 -5.5625 C 1.734375 -6.984375 2.328125 -7.578125 3.375 -7.578125 C 4.328125 -7.578125 5.046875 -6.90625 5.046875 -5.984375 C 5.046875 -5.3125 4.65625 -4.734375 3.90625 -4.3125 L 2.796875 -3.6875 C 1.015625 -2.671875 0.5 -1.875 0.40625 0 L 6.078125 0 L 6.078125 -1.046875 L 1.59375 -1.046875 C 1.703125 -1.734375 2.09375 -2.1875 3.125 -2.796875 L 4.328125 -3.4375 C 5.515625 -4.078125 6.125 -4.96875 6.125 -6.015625 Z M 6.125 -6.015625 \"/>\n",
       "</symbol>\n",
       "<symbol overflow=\"visible\" id=\"glyph1-16\">\n",
       "<path style=\"stroke:none;\" d=\"M 6.078125 -2.46875 C 6.078125 -3.5 5.65625 -4.109375 4.625 -4.453125 C 5.421875 -4.765625 5.8125 -5.3125 5.8125 -6.171875 C 5.8125 -7.625 4.84375 -8.515625 3.234375 -8.515625 C 1.515625 -8.515625 0.59375 -7.578125 0.5625 -5.765625 L 1.625 -5.765625 C 1.640625 -7.015625 2.15625 -7.578125 3.234375 -7.578125 C 4.171875 -7.578125 4.734375 -7.03125 4.734375 -6.125 C 4.734375 -5.21875 4.34375 -4.84375 2.65625 -4.84375 L 2.65625 -3.953125 L 3.234375 -3.953125 C 4.390625 -3.953125 4.984375 -3.40625 4.984375 -2.453125 C 4.984375 -1.390625 4.328125 -0.75 3.234375 -0.75 C 2.078125 -0.75 1.515625 -1.328125 1.4375 -2.5625 L 0.390625 -2.5625 C 0.515625 -0.671875 1.453125 0.1875 3.1875 0.1875 C 4.9375 0.1875 6.078125 -0.859375 6.078125 -2.46875 Z M 6.078125 -2.46875 \"/>\n",
       "</symbol>\n",
       "<symbol overflow=\"visible\" id=\"glyph1-17\">\n",
       "<path style=\"stroke:none;\" d=\"M 6.234375 -2.046875 L 6.234375 -2.984375 L 4.984375 -2.984375 L 4.984375 -8.515625 L 4.203125 -8.515625 L 0.34375 -3.15625 L 0.34375 -2.046875 L 3.921875 -2.046875 L 3.921875 0 L 4.984375 0 L 4.984375 -2.046875 Z M 3.921875 -2.984375 L 1.265625 -2.984375 L 3.921875 -6.703125 Z M 3.921875 -2.984375 \"/>\n",
       "</symbol>\n",
       "<symbol overflow=\"visible\" id=\"glyph2-0\">\n",
       "<path style=\"stroke:none;\" d=\"\"/>\n",
       "</symbol>\n",
       "<symbol overflow=\"visible\" id=\"glyph2-1\">\n",
       "<path style=\"stroke:none;\" d=\"M -7.765625 -6.953125 L -8.75 -6.953125 L -8.75 -1.078125 L 0 -1.078125 L 0 -2.203125 L -3.984375 -2.203125 L -3.984375 -6.375 L -4.96875 -6.375 L -4.96875 -2.203125 L -7.765625 -2.203125 Z M -7.765625 -6.953125 \"/>\n",
       "</symbol>\n",
       "<symbol overflow=\"visible\" id=\"glyph2-2\">\n",
       "<path style=\"stroke:none;\" d=\"M -5.40625 -3.859375 L -6.4375 -3.859375 C -6.453125 -3.6875 -6.46875 -3.59375 -6.46875 -3.46875 C -6.46875 -2.8125 -6.078125 -2.328125 -5.140625 -1.75 L -6.28125 -1.75 L -6.28125 -0.84375 L 0 -0.84375 L 0 -1.84375 L -3.265625 -1.84375 C -4.6875 -1.84375 -5.390625 -2.296875 -5.40625 -3.859375 Z M -5.40625 -3.859375 \"/>\n",
       "</symbol>\n",
       "<symbol overflow=\"visible\" id=\"glyph2-3\">\n",
       "<path style=\"stroke:none;\" d=\"M -2.859375 -6.15625 C -3.765625 -6.15625 -4.34375 -6.078125 -4.8125 -5.90625 C -5.84375 -5.5 -6.46875 -4.53125 -6.46875 -3.359375 C -6.46875 -1.609375 -5.171875 -0.484375 -3.109375 -0.484375 C -1.046875 -0.484375 0.1875 -1.578125 0.1875 -3.34375 C 0.1875 -4.78125 -0.640625 -5.765625 -1.90625 -6.03125 L -1.90625 -5.015625 C -1.078125 -4.734375 -0.75 -4.171875 -0.75 -3.375 C -0.75 -2.328125 -1.421875 -1.546875 -2.859375 -1.53125 Z M -3.75 -5.09375 C -3.75 -5.09375 -3.703125 -5.09375 -3.671875 -5.078125 L -3.671875 -1.546875 C -4.78125 -1.625 -5.546875 -2.34375 -5.546875 -3.34375 C -5.546875 -4.328125 -4.734375 -5.09375 -3.75 -5.09375 Z M -3.75 -5.09375 \"/>\n",
       "</symbol>\n",
       "<symbol overflow=\"visible\" id=\"glyph2-4\">\n",
       "<path style=\"stroke:none;\" d=\"M 2.609375 -5.9375 L -6.28125 -5.9375 L -6.28125 -5.046875 L -5.453125 -5.046875 C -6.109375 -4.578125 -6.46875 -3.875 -6.46875 -3.046875 C -6.46875 -1.390625 -5.15625 -0.3125 -3.078125 -0.3125 C -1.03125 -0.3125 0.1875 -1.34375 0.1875 -3 C 0.1875 -3.875 -0.125 -4.46875 -0.8125 -4.9375 L 2.609375 -4.9375 Z M -3.109375 -4.9375 C -1.671875 -4.9375 -0.75 -4.25 -0.75 -3.1875 C -0.75 -2.09375 -1.6875 -1.359375 -3.140625 -1.359375 C -4.59375 -1.359375 -5.53125 -2.09375 -5.53125 -3.1875 C -5.53125 -4.265625 -4.578125 -4.9375 -3.109375 -4.9375 Z M -3.109375 -4.9375 \"/>\n",
       "</symbol>\n",
       "<symbol overflow=\"visible\" id=\"glyph2-5\">\n",
       "<path style=\"stroke:none;\" d=\"M 0 -5.78125 L -6.28125 -5.78125 L -6.28125 -4.78125 L -2.8125 -4.78125 C -1.53125 -4.78125 -0.703125 -4.109375 -0.703125 -3.078125 C -0.703125 -2.28125 -1.171875 -1.78125 -1.9375 -1.78125 L -6.28125 -1.78125 L -6.28125 -0.78125 L -1.53125 -0.78125 C -0.484375 -0.78125 0.1875 -1.5625 0.1875 -2.78125 C 0.1875 -3.703125 -0.140625 -4.296875 -0.96875 -4.890625 L 0 -4.890625 Z M 0 -5.78125 \"/>\n",
       "</symbol>\n",
       "<symbol overflow=\"visible\" id=\"glyph2-6\">\n",
       "<path style=\"stroke:none;\" d=\"M 0 -5.84375 L -4.75 -5.84375 C -5.796875 -5.84375 -6.46875 -5.0625 -6.46875 -3.859375 C -6.46875 -2.921875 -6.109375 -2.3125 -5.234375 -1.765625 L -6.28125 -1.765625 L -6.28125 -0.84375 L 0 -0.84375 L 0 -1.84375 L -3.46875 -1.84375 C -4.75 -1.84375 -5.59375 -2.53125 -5.59375 -3.546875 C -5.59375 -4.34375 -5.109375 -4.84375 -4.359375 -4.84375 L 0 -4.84375 Z M 0 -5.84375 \"/>\n",
       "</symbol>\n",
       "<symbol overflow=\"visible\" id=\"glyph2-7\">\n",
       "<path style=\"stroke:none;\" d=\"M -2.15625 -5.71875 L -2.15625 -4.71875 C -1.15625 -4.546875 -0.75 -4.03125 -0.75 -3.1875 C -0.75 -2.078125 -1.59375 -1.421875 -3.078125 -1.421875 C -4.65625 -1.421875 -5.546875 -2.0625 -5.546875 -3.15625 C -5.546875 -4 -5.046875 -4.53125 -4.171875 -4.640625 L -4.171875 -5.65625 C -5.71875 -5.53125 -6.46875 -4.578125 -6.46875 -3.171875 C -6.46875 -1.46875 -5.171875 -0.375 -3.078125 -0.375 C -1.0625 -0.375 0.1875 -1.453125 0.1875 -3.15625 C 0.1875 -4.65625 -0.71875 -5.609375 -2.15625 -5.71875 Z M -2.15625 -5.71875 \"/>\n",
       "</symbol>\n",
       "<symbol overflow=\"visible\" id=\"glyph2-8\">\n",
       "<path style=\"stroke:none;\" d=\"M -6.28125 -5.734375 L -6.28125 -4.65625 L -1.390625 -2.921875 L -6.28125 -1.3125 L -6.28125 -0.234375 L 0.03125 -2.359375 L 1.015625 -1.984375 C 1.46875 -1.8125 1.625 -1.609375 1.625 -1.171875 C 1.625 -1.03125 1.609375 -0.859375 1.5625 -0.640625 L 2.453125 -0.640625 C 2.5625 -0.859375 2.609375 -1.0625 2.609375 -1.3125 C 2.609375 -2.03125 2.21875 -2.609375 1.3125 -2.9375 Z M -6.28125 -5.734375 \"/>\n",
       "</symbol>\n",
       "<symbol overflow=\"visible\" id=\"glyph2-9\">\n",
       "<path style=\"stroke:none;\" d=\"M -4.09375 -6.078125 C -7.046875 -6.078125 -8.515625 -5.140625 -8.515625 -3.296875 C -8.515625 -1.46875 -7.015625 -0.515625 -4.15625 -0.515625 C -1.296875 -0.515625 0.1875 -1.46875 0.1875 -3.296875 C 0.1875 -5.09375 -1.296875 -6.078125 -4.09375 -6.078125 Z M -4.1875 -5 C -1.78125 -5 -0.703125 -4.453125 -0.703125 -3.28125 C -0.703125 -2.15625 -1.828125 -1.59375 -4.15625 -1.59375 C -6.484375 -1.59375 -7.578125 -2.15625 -7.578125 -3.296875 C -7.578125 -4.4375 -6.46875 -5 -4.1875 -5 Z M -4.1875 -5 \"/>\n",
       "</symbol>\n",
       "<symbol overflow=\"visible\" id=\"glyph2-10\">\n",
       "<path style=\"stroke:none;\" d=\"M -2.8125 -6.15625 C -4.5 -6.15625 -5.609375 -5.046875 -5.609375 -3.40625 C -5.609375 -2.8125 -5.453125 -2.328125 -5.09375 -1.84375 L -7.28125 -2.171875 L -7.28125 -5.71875 L -8.328125 -5.71875 L -8.328125 -1.3125 L -3.875 -0.6875 L -3.875 -1.65625 C -4.46875 -2.140625 -4.671875 -2.5625 -4.671875 -3.21875 C -4.671875 -4.359375 -3.9375 -5.078125 -2.671875 -5.078125 C -1.453125 -5.078125 -0.75 -4.375 -0.75 -3.21875 C -0.75 -2.296875 -1.21875 -1.734375 -2.1875 -1.46875 L -2.1875 -0.421875 C -0.484375 -0.765625 0.1875 -1.734375 0.1875 -3.234375 C 0.1875 -4.953125 -1.015625 -6.15625 -2.8125 -6.15625 Z M -2.8125 -6.15625 \"/>\n",
       "</symbol>\n",
       "<symbol overflow=\"visible\" id=\"glyph2-11\">\n",
       "<path style=\"stroke:none;\" d=\"M 0 -4.15625 L -8.515625 -4.15625 L -8.515625 -3.46875 C -7.203125 -3.09375 -7.015625 -2.859375 -6.8125 -1.21875 L -6.0625 -1.21875 L -6.0625 -3.109375 L 0 -3.109375 Z M 0 -4.15625 \"/>\n",
       "</symbol>\n",
       "<symbol overflow=\"visible\" id=\"glyph2-12\">\n",
       "<path style=\"stroke:none;\" d=\"M -6.015625 -6.125 C -7.453125 -6.125 -8.515625 -5.015625 -8.515625 -3.40625 C -8.515625 -1.671875 -7.625 -0.65625 -5.5625 -0.59375 L -5.5625 -1.65625 C -6.984375 -1.734375 -7.578125 -2.328125 -7.578125 -3.375 C -7.578125 -4.328125 -6.90625 -5.046875 -5.984375 -5.046875 C -5.3125 -5.046875 -4.734375 -4.65625 -4.3125 -3.90625 L -3.6875 -2.796875 C -2.671875 -1.015625 -1.875 -0.5 0 -0.40625 L 0 -6.078125 L -1.046875 -6.078125 L -1.046875 -1.59375 C -1.734375 -1.703125 -2.1875 -2.09375 -2.796875 -3.125 L -3.4375 -4.328125 C -4.078125 -5.515625 -4.96875 -6.125 -6.015625 -6.125 Z M -6.015625 -6.125 \"/>\n",
       "</symbol>\n",
       "</g>\n",
       "</defs>\n",
       "<g id=\"surface85\">\n",
       "<rect x=\"0\" y=\"0\" width=\"504\" height=\"504\" style=\"fill:rgb(100%,100%,100%);fill-opacity:1;stroke:none;\"/>\n",
       "<g style=\"fill:rgb(0%,0%,0%);fill-opacity:1;\">\n",
       "  <use xlink:href=\"#glyph0-1\" x=\"176.898438\" y=\"34.21875\"/>\n",
       "  <use xlink:href=\"#glyph0-2\" x=\"187.299805\" y=\"34.21875\"/>\n",
       "  <use xlink:href=\"#glyph0-3\" x=\"196.101562\" y=\"34.21875\"/>\n",
       "  <use xlink:href=\"#glyph0-4\" x=\"204.111328\" y=\"34.21875\"/>\n",
       "  <use xlink:href=\"#glyph0-4\" x=\"212.913086\" y=\"34.21875\"/>\n",
       "  <use xlink:href=\"#glyph0-5\" x=\"221.714844\" y=\"34.21875\"/>\n",
       "  <use xlink:href=\"#glyph0-6\" x=\"225.719727\" y=\"34.21875\"/>\n",
       "  <use xlink:href=\"#glyph0-7\" x=\"229.724609\" y=\"34.21875\"/>\n",
       "  <use xlink:href=\"#glyph0-3\" x=\"237.734375\" y=\"34.21875\"/>\n",
       "  <use xlink:href=\"#glyph0-8\" x=\"245.744141\" y=\"34.21875\"/>\n",
       "  <use xlink:href=\"#glyph0-9\" x=\"254.545898\" y=\"34.21875\"/>\n",
       "  <use xlink:href=\"#glyph0-10\" x=\"259.342773\" y=\"34.21875\"/>\n",
       "  <use xlink:href=\"#glyph0-11\" x=\"263.347656\" y=\"34.21875\"/>\n",
       "  <use xlink:href=\"#glyph0-8\" x=\"267.352539\" y=\"34.21875\"/>\n",
       "  <use xlink:href=\"#glyph0-7\" x=\"276.154297\" y=\"34.21875\"/>\n",
       "  <use xlink:href=\"#glyph0-2\" x=\"284.164062\" y=\"34.21875\"/>\n",
       "  <use xlink:href=\"#glyph0-12\" x=\"292.96582\" y=\"34.21875\"/>\n",
       "  <use xlink:href=\"#glyph0-13\" x=\"305.772461\" y=\"34.21875\"/>\n",
       "  <use xlink:href=\"#glyph0-10\" x=\"313.782227\" y=\"34.21875\"/>\n",
       "  <use xlink:href=\"#glyph0-1\" x=\"317.787109\" y=\"34.21875\"/>\n",
       "  <use xlink:href=\"#glyph0-14\" x=\"328.188477\" y=\"34.21875\"/>\n",
       "  <use xlink:href=\"#glyph0-3\" x=\"336.990234\" y=\"34.21875\"/>\n",
       "  <use xlink:href=\"#glyph0-15\" x=\"345\" y=\"34.21875\"/>\n",
       "  <use xlink:href=\"#glyph0-9\" x=\"350.892578\" y=\"34.21875\"/>\n",
       "</g>\n",
       "<g style=\"fill:rgb(0%,0%,0%);fill-opacity:1;\">\n",
       "  <use xlink:href=\"#glyph1-1\" x=\"214.898438\" y=\"485.057617\"/>\n",
       "  <use xlink:href=\"#glyph1-2\" x=\"223.5625\" y=\"485.057617\"/>\n",
       "  <use xlink:href=\"#glyph1-3\" x=\"230.234375\" y=\"485.057617\"/>\n",
       "  <use xlink:href=\"#glyph1-4\" x=\"236.90625\" y=\"485.057617\"/>\n",
       "  <use xlink:href=\"#glyph1-4\" x=\"243.578125\" y=\"485.057617\"/>\n",
       "  <use xlink:href=\"#glyph1-5\" x=\"250.25\" y=\"485.057617\"/>\n",
       "  <use xlink:href=\"#glyph1-6\" x=\"252.914062\" y=\"485.057617\"/>\n",
       "  <use xlink:href=\"#glyph1-7\" x=\"255.578125\" y=\"485.057617\"/>\n",
       "  <use xlink:href=\"#glyph1-3\" x=\"261.578125\" y=\"485.057617\"/>\n",
       "  <use xlink:href=\"#glyph1-8\" x=\"268.25\" y=\"485.057617\"/>\n",
       "  <use xlink:href=\"#glyph1-9\" x=\"274.921875\" y=\"485.057617\"/>\n",
       "  <use xlink:href=\"#glyph1-10\" x=\"278.257812\" y=\"485.057617\"/>\n",
       "  <use xlink:href=\"#glyph1-8\" x=\"281.59375\" y=\"485.057617\"/>\n",
       "  <use xlink:href=\"#glyph1-7\" x=\"288.265625\" y=\"485.057617\"/>\n",
       "  <use xlink:href=\"#glyph1-2\" x=\"294.265625\" y=\"485.057617\"/>\n",
       "  <use xlink:href=\"#glyph1-11\" x=\"300.9375\" y=\"485.057617\"/>\n",
       "  <use xlink:href=\"#glyph1-12\" x=\"310.933594\" y=\"485.057617\"/>\n",
       "</g>\n",
       "<g style=\"fill:rgb(0%,0%,0%);fill-opacity:1;\">\n",
       "  <use xlink:href=\"#glyph2-1\" x=\"12.737305\" y=\"273.300781\"/>\n",
       "  <use xlink:href=\"#glyph2-2\" x=\"12.737305\" y=\"266.388672\"/>\n",
       "  <use xlink:href=\"#glyph2-3\" x=\"12.737305\" y=\"262.511719\"/>\n",
       "  <use xlink:href=\"#glyph2-4\" x=\"12.737305\" y=\"255.839844\"/>\n",
       "  <use xlink:href=\"#glyph2-5\" x=\"12.737305\" y=\"249.108398\"/>\n",
       "  <use xlink:href=\"#glyph2-3\" x=\"12.737305\" y=\"242.436523\"/>\n",
       "  <use xlink:href=\"#glyph2-6\" x=\"12.737305\" y=\"235.764648\"/>\n",
       "  <use xlink:href=\"#glyph2-7\" x=\"12.737305\" y=\"229.092773\"/>\n",
       "  <use xlink:href=\"#glyph2-8\" x=\"12.737305\" y=\"223.092773\"/>\n",
       "</g>\n",
       "<path style=\"fill:none;stroke-width:0.75;stroke-linecap:round;stroke-linejoin:round;stroke:rgb(0%,0%,0%);stroke-opacity:1;stroke-miterlimit:10;\" d=\"M 74.398438 430.558594 L 440.113281 430.558594 \"/>\n",
       "<path style=\"fill:none;stroke-width:0.75;stroke-linecap:round;stroke-linejoin:round;stroke:rgb(0%,0%,0%);stroke-opacity:1;stroke-miterlimit:10;\" d=\"M 74.398438 430.558594 L 74.398438 437.761719 \"/>\n",
       "<path style=\"fill:none;stroke-width:0.75;stroke-linecap:round;stroke-linejoin:round;stroke:rgb(0%,0%,0%);stroke-opacity:1;stroke-miterlimit:10;\" d=\"M 165.828125 430.558594 L 165.828125 437.761719 \"/>\n",
       "<path style=\"fill:none;stroke-width:0.75;stroke-linecap:round;stroke-linejoin:round;stroke:rgb(0%,0%,0%);stroke-opacity:1;stroke-miterlimit:10;\" d=\"M 257.257812 430.558594 L 257.257812 437.761719 \"/>\n",
       "<path style=\"fill:none;stroke-width:0.75;stroke-linecap:round;stroke-linejoin:round;stroke:rgb(0%,0%,0%);stroke-opacity:1;stroke-miterlimit:10;\" d=\"M 348.6875 430.558594 L 348.6875 437.761719 \"/>\n",
       "<path style=\"fill:none;stroke-width:0.75;stroke-linecap:round;stroke-linejoin:round;stroke:rgb(0%,0%,0%);stroke-opacity:1;stroke-miterlimit:10;\" d=\"M 440.113281 430.558594 L 440.113281 437.761719 \"/>\n",
       "<g style=\"fill:rgb(0%,0%,0%);fill-opacity:1;\">\n",
       "  <use xlink:href=\"#glyph1-13\" x=\"70.898438\" y=\"456.256836\"/>\n",
       "</g>\n",
       "<g style=\"fill:rgb(0%,0%,0%);fill-opacity:1;\">\n",
       "  <use xlink:href=\"#glyph1-14\" x=\"148.828125\" y=\"456.256836\"/>\n",
       "  <use xlink:href=\"#glyph1-13\" x=\"155.5\" y=\"456.256836\"/>\n",
       "  <use xlink:href=\"#glyph1-13\" x=\"162.171875\" y=\"456.256836\"/>\n",
       "  <use xlink:href=\"#glyph1-13\" x=\"168.84375\" y=\"456.256836\"/>\n",
       "  <use xlink:href=\"#glyph1-13\" x=\"175.515625\" y=\"456.256836\"/>\n",
       "</g>\n",
       "<g style=\"fill:rgb(0%,0%,0%);fill-opacity:1;\">\n",
       "  <use xlink:href=\"#glyph1-15\" x=\"240.257812\" y=\"456.256836\"/>\n",
       "  <use xlink:href=\"#glyph1-13\" x=\"246.929688\" y=\"456.256836\"/>\n",
       "  <use xlink:href=\"#glyph1-13\" x=\"253.601562\" y=\"456.256836\"/>\n",
       "  <use xlink:href=\"#glyph1-13\" x=\"260.273438\" y=\"456.256836\"/>\n",
       "  <use xlink:href=\"#glyph1-13\" x=\"266.945312\" y=\"456.256836\"/>\n",
       "</g>\n",
       "<g style=\"fill:rgb(0%,0%,0%);fill-opacity:1;\">\n",
       "  <use xlink:href=\"#glyph1-16\" x=\"331.6875\" y=\"456.256836\"/>\n",
       "  <use xlink:href=\"#glyph1-13\" x=\"338.359375\" y=\"456.256836\"/>\n",
       "  <use xlink:href=\"#glyph1-13\" x=\"345.03125\" y=\"456.256836\"/>\n",
       "  <use xlink:href=\"#glyph1-13\" x=\"351.703125\" y=\"456.256836\"/>\n",
       "  <use xlink:href=\"#glyph1-13\" x=\"358.375\" y=\"456.256836\"/>\n",
       "</g>\n",
       "<g style=\"fill:rgb(0%,0%,0%);fill-opacity:1;\">\n",
       "  <use xlink:href=\"#glyph1-17\" x=\"423.113281\" y=\"456.256836\"/>\n",
       "  <use xlink:href=\"#glyph1-13\" x=\"429.785156\" y=\"456.256836\"/>\n",
       "  <use xlink:href=\"#glyph1-13\" x=\"436.457031\" y=\"456.256836\"/>\n",
       "  <use xlink:href=\"#glyph1-13\" x=\"443.128906\" y=\"456.256836\"/>\n",
       "  <use xlink:href=\"#glyph1-13\" x=\"449.800781\" y=\"456.256836\"/>\n",
       "</g>\n",
       "<path style=\"fill:none;stroke-width:0.75;stroke-linecap:round;stroke-linejoin:round;stroke:rgb(0%,0%,0%);stroke-opacity:1;stroke-miterlimit:10;\" d=\"M 59.039062 416.800781 L 59.039062 108.554688 \"/>\n",
       "<path style=\"fill:none;stroke-width:0.75;stroke-linecap:round;stroke-linejoin:round;stroke:rgb(0%,0%,0%);stroke-opacity:1;stroke-miterlimit:10;\" d=\"M 59.039062 416.800781 L 51.839844 416.800781 \"/>\n",
       "<path style=\"fill:none;stroke-width:0.75;stroke-linecap:round;stroke-linejoin:round;stroke:rgb(0%,0%,0%);stroke-opacity:1;stroke-miterlimit:10;\" d=\"M 59.039062 355.152344 L 51.839844 355.152344 \"/>\n",
       "<path style=\"fill:none;stroke-width:0.75;stroke-linecap:round;stroke-linejoin:round;stroke:rgb(0%,0%,0%);stroke-opacity:1;stroke-miterlimit:10;\" d=\"M 59.039062 293.503906 L 51.839844 293.503906 \"/>\n",
       "<path style=\"fill:none;stroke-width:0.75;stroke-linecap:round;stroke-linejoin:round;stroke:rgb(0%,0%,0%);stroke-opacity:1;stroke-miterlimit:10;\" d=\"M 59.039062 231.855469 L 51.839844 231.855469 \"/>\n",
       "<path style=\"fill:none;stroke-width:0.75;stroke-linecap:round;stroke-linejoin:round;stroke:rgb(0%,0%,0%);stroke-opacity:1;stroke-miterlimit:10;\" d=\"M 59.039062 170.203125 L 51.839844 170.203125 \"/>\n",
       "<path style=\"fill:none;stroke-width:0.75;stroke-linecap:round;stroke-linejoin:round;stroke:rgb(0%,0%,0%);stroke-opacity:1;stroke-miterlimit:10;\" d=\"M 59.039062 108.554688 L 51.839844 108.554688 \"/>\n",
       "<g style=\"fill:rgb(0%,0%,0%);fill-opacity:1;\">\n",
       "  <use xlink:href=\"#glyph2-9\" x=\"41.538086\" y=\"420.300781\"/>\n",
       "</g>\n",
       "<g style=\"fill:rgb(0%,0%,0%);fill-opacity:1;\">\n",
       "  <use xlink:href=\"#glyph2-10\" x=\"41.538086\" y=\"362.152344\"/>\n",
       "  <use xlink:href=\"#glyph2-9\" x=\"41.538086\" y=\"355.480469\"/>\n",
       "</g>\n",
       "<g style=\"fill:rgb(0%,0%,0%);fill-opacity:1;\">\n",
       "  <use xlink:href=\"#glyph2-11\" x=\"41.538086\" y=\"304.003906\"/>\n",
       "  <use xlink:href=\"#glyph2-9\" x=\"41.538086\" y=\"297.332031\"/>\n",
       "  <use xlink:href=\"#glyph2-9\" x=\"41.538086\" y=\"290.660156\"/>\n",
       "</g>\n",
       "<g style=\"fill:rgb(0%,0%,0%);fill-opacity:1;\">\n",
       "  <use xlink:href=\"#glyph2-11\" x=\"41.538086\" y=\"242.355469\"/>\n",
       "  <use xlink:href=\"#glyph2-10\" x=\"41.538086\" y=\"235.683594\"/>\n",
       "  <use xlink:href=\"#glyph2-9\" x=\"41.538086\" y=\"229.011719\"/>\n",
       "</g>\n",
       "<g style=\"fill:rgb(0%,0%,0%);fill-opacity:1;\">\n",
       "  <use xlink:href=\"#glyph2-12\" x=\"41.538086\" y=\"180.703125\"/>\n",
       "  <use xlink:href=\"#glyph2-9\" x=\"41.538086\" y=\"174.03125\"/>\n",
       "  <use xlink:href=\"#glyph2-9\" x=\"41.538086\" y=\"167.359375\"/>\n",
       "</g>\n",
       "<g style=\"fill:rgb(0%,0%,0%);fill-opacity:1;\">\n",
       "  <use xlink:href=\"#glyph2-12\" x=\"41.538086\" y=\"119.054688\"/>\n",
       "  <use xlink:href=\"#glyph2-10\" x=\"41.538086\" y=\"112.382812\"/>\n",
       "  <use xlink:href=\"#glyph2-9\" x=\"41.538086\" y=\"105.710938\"/>\n",
       "</g>\n",
       "<path style=\"fill:none;stroke-width:0.75;stroke-linecap:round;stroke-linejoin:round;stroke:rgb(0%,0%,0%);stroke-opacity:1;stroke-miterlimit:10;\" d=\"M 74.398438 416.800781 L 78.96875 416.800781 L 78.96875 72.800781 L 74.398438 72.800781 Z M 74.398438 416.800781 \"/>\n",
       "<path style=\"fill:none;stroke-width:0.75;stroke-linecap:round;stroke-linejoin:round;stroke:rgb(0%,0%,0%);stroke-opacity:1;stroke-miterlimit:10;\" d=\"M 78.972656 416.800781 L 83.542969 416.800781 L 83.542969 397.074219 L 78.972656 397.074219 Z M 78.972656 416.800781 \"/>\n",
       "<path style=\"fill:none;stroke-width:0.75;stroke-linecap:round;stroke-linejoin:round;stroke:rgb(0%,0%,0%);stroke-opacity:1;stroke-miterlimit:10;\" d=\"M 83.542969 416.800781 L 88.113281 416.800781 L 88.113281 362.550781 L 83.542969 362.550781 Z M 83.542969 416.800781 \"/>\n",
       "<path style=\"fill:none;stroke-width:0.75;stroke-linecap:round;stroke-linejoin:round;stroke:rgb(0%,0%,0%);stroke-opacity:1;stroke-miterlimit:10;\" d=\"M 88.113281 416.800781 L 92.683594 416.800781 L 92.683594 320.628906 L 88.113281 320.628906 Z M 88.113281 416.800781 \"/>\n",
       "<path style=\"fill:none;stroke-width:0.75;stroke-linecap:round;stroke-linejoin:round;stroke:rgb(0%,0%,0%);stroke-opacity:1;stroke-miterlimit:10;\" d=\"M 92.6875 416.800781 L 97.257812 416.800781 L 97.257812 330.492188 L 92.6875 330.492188 Z M 92.6875 416.800781 \"/>\n",
       "<path style=\"fill:none;stroke-width:0.75;stroke-linecap:round;stroke-linejoin:round;stroke:rgb(0%,0%,0%);stroke-opacity:1;stroke-miterlimit:10;\" d=\"M 97.257812 416.800781 L 101.828125 416.800781 L 101.828125 379.8125 L 97.257812 379.8125 Z M 97.257812 416.800781 \"/>\n",
       "<path style=\"fill:none;stroke-width:0.75;stroke-linecap:round;stroke-linejoin:round;stroke:rgb(0%,0%,0%);stroke-opacity:1;stroke-miterlimit:10;\" d=\"M 101.828125 416.800781 L 106.398438 416.800781 L 106.398438 383.511719 L 101.828125 383.511719 Z M 101.828125 416.800781 \"/>\n",
       "<path style=\"fill:none;stroke-width:0.75;stroke-linecap:round;stroke-linejoin:round;stroke:rgb(0%,0%,0%);stroke-opacity:1;stroke-miterlimit:10;\" d=\"M 106.398438 416.800781 L 110.96875 416.800781 L 110.96875 398.304688 L 106.398438 398.304688 Z M 106.398438 416.800781 \"/>\n",
       "<path style=\"fill:none;stroke-width:0.75;stroke-linecap:round;stroke-linejoin:round;stroke:rgb(0%,0%,0%);stroke-opacity:1;stroke-miterlimit:10;\" d=\"M 110.972656 416.800781 L 115.542969 416.800781 L 115.542969 397.074219 L 110.972656 397.074219 Z M 110.972656 416.800781 \"/>\n",
       "<path style=\"fill:none;stroke-width:0.75;stroke-linecap:round;stroke-linejoin:round;stroke:rgb(0%,0%,0%);stroke-opacity:1;stroke-miterlimit:10;\" d=\"M 115.542969 416.800781 L 120.113281 416.800781 L 120.113281 405.703125 L 115.542969 405.703125 Z M 115.542969 416.800781 \"/>\n",
       "<path style=\"fill:none;stroke-width:0.75;stroke-linecap:round;stroke-linejoin:round;stroke:rgb(0%,0%,0%);stroke-opacity:1;stroke-miterlimit:10;\" d=\"M 120.113281 416.800781 L 124.683594 416.800781 L 124.683594 409.402344 L 120.113281 409.402344 Z M 120.113281 416.800781 \"/>\n",
       "<path style=\"fill:none;stroke-width:0.75;stroke-linecap:round;stroke-linejoin:round;stroke:rgb(0%,0%,0%);stroke-opacity:1;stroke-miterlimit:10;\" d=\"M 124.6875 416.800781 L 129.257812 416.800781 L 129.257812 409.402344 L 124.6875 409.402344 Z M 124.6875 416.800781 \"/>\n",
       "<path style=\"fill:none;stroke-width:0.75;stroke-linecap:round;stroke-linejoin:round;stroke:rgb(0%,0%,0%);stroke-opacity:1;stroke-miterlimit:10;\" d=\"M 129.257812 416.800781 L 133.828125 416.800781 L 133.828125 415.566406 L 129.257812 415.566406 Z M 129.257812 416.800781 \"/>\n",
       "<path style=\"fill:none;stroke-width:0.75;stroke-linecap:round;stroke-linejoin:round;stroke:rgb(0%,0%,0%);stroke-opacity:1;stroke-miterlimit:10;\" d=\"M 133.828125 416.800781 L 138.398438 416.800781 L 138.398438 414.335938 L 133.828125 414.335938 Z M 133.828125 416.800781 \"/>\n",
       "<path style=\"fill:none;stroke-width:0.75;stroke-linecap:round;stroke-linejoin:round;stroke:rgb(0%,0%,0%);stroke-opacity:1;stroke-miterlimit:10;\" d=\"M 138.398438 416.800781 L 142.96875 416.800781 L 142.96875 411.867188 L 138.398438 411.867188 Z M 138.398438 416.800781 \"/>\n",
       "<path style=\"fill:none;stroke-width:0.75;stroke-linecap:round;stroke-linejoin:round;stroke:rgb(0%,0%,0%);stroke-opacity:1;stroke-miterlimit:10;\" d=\"M 142.972656 416.800781 L 147.542969 416.800781 L 147.542969 414.335938 L 142.972656 414.335938 Z M 142.972656 416.800781 \"/>\n",
       "<path style=\"fill:none;stroke-width:0.75;stroke-linecap:round;stroke-linejoin:round;stroke:rgb(0%,0%,0%);stroke-opacity:1;stroke-miterlimit:10;\" d=\"M 147.542969 416.800781 L 152.113281 416.800781 L 152.113281 414.335938 L 147.542969 414.335938 Z M 147.542969 416.800781 \"/>\n",
       "<path style=\"fill:none;stroke-width:0.75;stroke-linecap:round;stroke-linejoin:round;stroke:rgb(0%,0%,0%);stroke-opacity:1;stroke-miterlimit:10;\" d=\"M 152.113281 416.800781 L 156.683594 416.800781 L 156.683594 415.566406 L 152.113281 415.566406 Z M 152.113281 416.800781 \"/>\n",
       "<path style=\"fill:none;stroke-width:0.75;stroke-linecap:round;stroke-linejoin:round;stroke:rgb(0%,0%,0%);stroke-opacity:1;stroke-miterlimit:10;\" d=\"M 156.6875 416.800781 L 161.257812 416.800781 Z M 156.6875 416.800781 \"/>\n",
       "<path style=\"fill:none;stroke-width:0.75;stroke-linecap:round;stroke-linejoin:round;stroke:rgb(0%,0%,0%);stroke-opacity:1;stroke-miterlimit:10;\" d=\"M 161.257812 416.800781 L 165.828125 416.800781 Z M 161.257812 416.800781 \"/>\n",
       "<path style=\"fill:none;stroke-width:0.75;stroke-linecap:round;stroke-linejoin:round;stroke:rgb(0%,0%,0%);stroke-opacity:1;stroke-miterlimit:10;\" d=\"M 165.828125 416.800781 L 170.398438 416.800781 Z M 165.828125 416.800781 \"/>\n",
       "<path style=\"fill:none;stroke-width:0.75;stroke-linecap:round;stroke-linejoin:round;stroke:rgb(0%,0%,0%);stroke-opacity:1;stroke-miterlimit:10;\" d=\"M 170.398438 416.800781 L 174.96875 416.800781 L 174.96875 415.566406 L 170.398438 415.566406 Z M 170.398438 416.800781 \"/>\n",
       "<path style=\"fill:none;stroke-width:0.75;stroke-linecap:round;stroke-linejoin:round;stroke:rgb(0%,0%,0%);stroke-opacity:1;stroke-miterlimit:10;\" d=\"M 174.972656 416.800781 L 179.542969 416.800781 L 179.542969 415.566406 L 174.972656 415.566406 Z M 174.972656 416.800781 \"/>\n",
       "<path style=\"fill:none;stroke-width:0.75;stroke-linecap:round;stroke-linejoin:round;stroke:rgb(0%,0%,0%);stroke-opacity:1;stroke-miterlimit:10;\" d=\"M 179.542969 416.800781 L 184.113281 416.800781 Z M 179.542969 416.800781 \"/>\n",
       "<path style=\"fill:none;stroke-width:0.75;stroke-linecap:round;stroke-linejoin:round;stroke:rgb(0%,0%,0%);stroke-opacity:1;stroke-miterlimit:10;\" d=\"M 184.113281 416.800781 L 188.683594 416.800781 Z M 184.113281 416.800781 \"/>\n",
       "<path style=\"fill:none;stroke-width:0.75;stroke-linecap:round;stroke-linejoin:round;stroke:rgb(0%,0%,0%);stroke-opacity:1;stroke-miterlimit:10;\" d=\"M 188.6875 416.800781 L 193.257812 416.800781 Z M 188.6875 416.800781 \"/>\n",
       "<path style=\"fill:none;stroke-width:0.75;stroke-linecap:round;stroke-linejoin:round;stroke:rgb(0%,0%,0%);stroke-opacity:1;stroke-miterlimit:10;\" d=\"M 193.257812 416.800781 L 197.828125 416.800781 Z M 193.257812 416.800781 \"/>\n",
       "<path style=\"fill:none;stroke-width:0.75;stroke-linecap:round;stroke-linejoin:round;stroke:rgb(0%,0%,0%);stroke-opacity:1;stroke-miterlimit:10;\" d=\"M 197.828125 416.800781 L 202.398438 416.800781 Z M 197.828125 416.800781 \"/>\n",
       "<path style=\"fill:none;stroke-width:0.75;stroke-linecap:round;stroke-linejoin:round;stroke:rgb(0%,0%,0%);stroke-opacity:1;stroke-miterlimit:10;\" d=\"M 202.398438 416.800781 L 206.96875 416.800781 Z M 202.398438 416.800781 \"/>\n",
       "<path style=\"fill:none;stroke-width:0.75;stroke-linecap:round;stroke-linejoin:round;stroke:rgb(0%,0%,0%);stroke-opacity:1;stroke-miterlimit:10;\" d=\"M 206.972656 416.800781 L 211.542969 416.800781 Z M 206.972656 416.800781 \"/>\n",
       "<path style=\"fill:none;stroke-width:0.75;stroke-linecap:round;stroke-linejoin:round;stroke:rgb(0%,0%,0%);stroke-opacity:1;stroke-miterlimit:10;\" d=\"M 211.542969 416.800781 L 216.113281 416.800781 Z M 211.542969 416.800781 \"/>\n",
       "<path style=\"fill:none;stroke-width:0.75;stroke-linecap:round;stroke-linejoin:round;stroke:rgb(0%,0%,0%);stroke-opacity:1;stroke-miterlimit:10;\" d=\"M 216.113281 416.800781 L 220.683594 416.800781 Z M 216.113281 416.800781 \"/>\n",
       "<path style=\"fill:none;stroke-width:0.75;stroke-linecap:round;stroke-linejoin:round;stroke:rgb(0%,0%,0%);stroke-opacity:1;stroke-miterlimit:10;\" d=\"M 220.6875 416.800781 L 225.257812 416.800781 Z M 220.6875 416.800781 \"/>\n",
       "<path style=\"fill:none;stroke-width:0.75;stroke-linecap:round;stroke-linejoin:round;stroke:rgb(0%,0%,0%);stroke-opacity:1;stroke-miterlimit:10;\" d=\"M 225.257812 416.800781 L 229.828125 416.800781 Z M 225.257812 416.800781 \"/>\n",
       "<path style=\"fill:none;stroke-width:0.75;stroke-linecap:round;stroke-linejoin:round;stroke:rgb(0%,0%,0%);stroke-opacity:1;stroke-miterlimit:10;\" d=\"M 229.828125 416.800781 L 234.398438 416.800781 Z M 229.828125 416.800781 \"/>\n",
       "<path style=\"fill:none;stroke-width:0.75;stroke-linecap:round;stroke-linejoin:round;stroke:rgb(0%,0%,0%);stroke-opacity:1;stroke-miterlimit:10;\" d=\"M 234.398438 416.800781 L 238.96875 416.800781 Z M 234.398438 416.800781 \"/>\n",
       "<path style=\"fill:none;stroke-width:0.75;stroke-linecap:round;stroke-linejoin:round;stroke:rgb(0%,0%,0%);stroke-opacity:1;stroke-miterlimit:10;\" d=\"M 238.972656 416.800781 L 243.542969 416.800781 Z M 238.972656 416.800781 \"/>\n",
       "<path style=\"fill:none;stroke-width:0.75;stroke-linecap:round;stroke-linejoin:round;stroke:rgb(0%,0%,0%);stroke-opacity:1;stroke-miterlimit:10;\" d=\"M 243.542969 416.800781 L 248.113281 416.800781 Z M 243.542969 416.800781 \"/>\n",
       "<path style=\"fill:none;stroke-width:0.75;stroke-linecap:round;stroke-linejoin:round;stroke:rgb(0%,0%,0%);stroke-opacity:1;stroke-miterlimit:10;\" d=\"M 248.113281 416.800781 L 252.683594 416.800781 Z M 248.113281 416.800781 \"/>\n",
       "<path style=\"fill:none;stroke-width:0.75;stroke-linecap:round;stroke-linejoin:round;stroke:rgb(0%,0%,0%);stroke-opacity:1;stroke-miterlimit:10;\" d=\"M 252.6875 416.800781 L 257.257812 416.800781 L 257.257812 414.335938 L 252.6875 414.335938 Z M 252.6875 416.800781 \"/>\n",
       "<path style=\"fill:none;stroke-width:0.75;stroke-linecap:round;stroke-linejoin:round;stroke:rgb(0%,0%,0%);stroke-opacity:1;stroke-miterlimit:10;\" d=\"M 257.257812 416.800781 L 261.828125 416.800781 Z M 257.257812 416.800781 \"/>\n",
       "<path style=\"fill:none;stroke-width:0.75;stroke-linecap:round;stroke-linejoin:round;stroke:rgb(0%,0%,0%);stroke-opacity:1;stroke-miterlimit:10;\" d=\"M 261.828125 416.800781 L 266.398438 416.800781 Z M 261.828125 416.800781 \"/>\n",
       "<path style=\"fill:none;stroke-width:0.75;stroke-linecap:round;stroke-linejoin:round;stroke:rgb(0%,0%,0%);stroke-opacity:1;stroke-miterlimit:10;\" d=\"M 266.398438 416.800781 L 270.96875 416.800781 Z M 266.398438 416.800781 \"/>\n",
       "<path style=\"fill:none;stroke-width:0.75;stroke-linecap:round;stroke-linejoin:round;stroke:rgb(0%,0%,0%);stroke-opacity:1;stroke-miterlimit:10;\" d=\"M 270.972656 416.800781 L 275.542969 416.800781 Z M 270.972656 416.800781 \"/>\n",
       "<path style=\"fill:none;stroke-width:0.75;stroke-linecap:round;stroke-linejoin:round;stroke:rgb(0%,0%,0%);stroke-opacity:1;stroke-miterlimit:10;\" d=\"M 275.542969 416.800781 L 280.113281 416.800781 Z M 275.542969 416.800781 \"/>\n",
       "<path style=\"fill:none;stroke-width:0.75;stroke-linecap:round;stroke-linejoin:round;stroke:rgb(0%,0%,0%);stroke-opacity:1;stroke-miterlimit:10;\" d=\"M 280.113281 416.800781 L 284.683594 416.800781 Z M 280.113281 416.800781 \"/>\n",
       "<path style=\"fill:none;stroke-width:0.75;stroke-linecap:round;stroke-linejoin:round;stroke:rgb(0%,0%,0%);stroke-opacity:1;stroke-miterlimit:10;\" d=\"M 284.6875 416.800781 L 289.257812 416.800781 Z M 284.6875 416.800781 \"/>\n",
       "<path style=\"fill:none;stroke-width:0.75;stroke-linecap:round;stroke-linejoin:round;stroke:rgb(0%,0%,0%);stroke-opacity:1;stroke-miterlimit:10;\" d=\"M 289.257812 416.800781 L 293.828125 416.800781 Z M 289.257812 416.800781 \"/>\n",
       "<path style=\"fill:none;stroke-width:0.75;stroke-linecap:round;stroke-linejoin:round;stroke:rgb(0%,0%,0%);stroke-opacity:1;stroke-miterlimit:10;\" d=\"M 293.828125 416.800781 L 298.398438 416.800781 Z M 293.828125 416.800781 \"/>\n",
       "<path style=\"fill:none;stroke-width:0.75;stroke-linecap:round;stroke-linejoin:round;stroke:rgb(0%,0%,0%);stroke-opacity:1;stroke-miterlimit:10;\" d=\"M 298.398438 416.800781 L 302.96875 416.800781 Z M 298.398438 416.800781 \"/>\n",
       "<path style=\"fill:none;stroke-width:0.75;stroke-linecap:round;stroke-linejoin:round;stroke:rgb(0%,0%,0%);stroke-opacity:1;stroke-miterlimit:10;\" d=\"M 302.972656 416.800781 L 307.542969 416.800781 Z M 302.972656 416.800781 \"/>\n",
       "<path style=\"fill:none;stroke-width:0.75;stroke-linecap:round;stroke-linejoin:round;stroke:rgb(0%,0%,0%);stroke-opacity:1;stroke-miterlimit:10;\" d=\"M 307.542969 416.800781 L 312.113281 416.800781 Z M 307.542969 416.800781 \"/>\n",
       "<path style=\"fill:none;stroke-width:0.75;stroke-linecap:round;stroke-linejoin:round;stroke:rgb(0%,0%,0%);stroke-opacity:1;stroke-miterlimit:10;\" d=\"M 312.113281 416.800781 L 316.683594 416.800781 Z M 312.113281 416.800781 \"/>\n",
       "<path style=\"fill:none;stroke-width:0.75;stroke-linecap:round;stroke-linejoin:round;stroke:rgb(0%,0%,0%);stroke-opacity:1;stroke-miterlimit:10;\" d=\"M 316.6875 416.800781 L 321.257812 416.800781 Z M 316.6875 416.800781 \"/>\n",
       "<path style=\"fill:none;stroke-width:0.75;stroke-linecap:round;stroke-linejoin:round;stroke:rgb(0%,0%,0%);stroke-opacity:1;stroke-miterlimit:10;\" d=\"M 321.257812 416.800781 L 325.828125 416.800781 Z M 321.257812 416.800781 \"/>\n",
       "<path style=\"fill:none;stroke-width:0.75;stroke-linecap:round;stroke-linejoin:round;stroke:rgb(0%,0%,0%);stroke-opacity:1;stroke-miterlimit:10;\" d=\"M 325.828125 416.800781 L 330.398438 416.800781 Z M 325.828125 416.800781 \"/>\n",
       "<path style=\"fill:none;stroke-width:0.75;stroke-linecap:round;stroke-linejoin:round;stroke:rgb(0%,0%,0%);stroke-opacity:1;stroke-miterlimit:10;\" d=\"M 330.398438 416.800781 L 334.96875 416.800781 Z M 330.398438 416.800781 \"/>\n",
       "<path style=\"fill:none;stroke-width:0.75;stroke-linecap:round;stroke-linejoin:round;stroke:rgb(0%,0%,0%);stroke-opacity:1;stroke-miterlimit:10;\" d=\"M 334.972656 416.800781 L 339.542969 416.800781 Z M 334.972656 416.800781 \"/>\n",
       "<path style=\"fill:none;stroke-width:0.75;stroke-linecap:round;stroke-linejoin:round;stroke:rgb(0%,0%,0%);stroke-opacity:1;stroke-miterlimit:10;\" d=\"M 339.542969 416.800781 L 344.113281 416.800781 Z M 339.542969 416.800781 \"/>\n",
       "<path style=\"fill:none;stroke-width:0.75;stroke-linecap:round;stroke-linejoin:round;stroke:rgb(0%,0%,0%);stroke-opacity:1;stroke-miterlimit:10;\" d=\"M 344.113281 416.800781 L 348.683594 416.800781 Z M 344.113281 416.800781 \"/>\n",
       "<path style=\"fill:none;stroke-width:0.75;stroke-linecap:round;stroke-linejoin:round;stroke:rgb(0%,0%,0%);stroke-opacity:1;stroke-miterlimit:10;\" d=\"M 348.6875 416.800781 L 353.257812 416.800781 Z M 348.6875 416.800781 \"/>\n",
       "<path style=\"fill:none;stroke-width:0.75;stroke-linecap:round;stroke-linejoin:round;stroke:rgb(0%,0%,0%);stroke-opacity:1;stroke-miterlimit:10;\" d=\"M 353.257812 416.800781 L 357.828125 416.800781 Z M 353.257812 416.800781 \"/>\n",
       "<path style=\"fill:none;stroke-width:0.75;stroke-linecap:round;stroke-linejoin:round;stroke:rgb(0%,0%,0%);stroke-opacity:1;stroke-miterlimit:10;\" d=\"M 357.828125 416.800781 L 362.398438 416.800781 Z M 357.828125 416.800781 \"/>\n",
       "<path style=\"fill:none;stroke-width:0.75;stroke-linecap:round;stroke-linejoin:round;stroke:rgb(0%,0%,0%);stroke-opacity:1;stroke-miterlimit:10;\" d=\"M 362.398438 416.800781 L 366.96875 416.800781 Z M 362.398438 416.800781 \"/>\n",
       "<path style=\"fill:none;stroke-width:0.75;stroke-linecap:round;stroke-linejoin:round;stroke:rgb(0%,0%,0%);stroke-opacity:1;stroke-miterlimit:10;\" d=\"M 366.972656 416.800781 L 371.542969 416.800781 Z M 366.972656 416.800781 \"/>\n",
       "<path style=\"fill:none;stroke-width:0.75;stroke-linecap:round;stroke-linejoin:round;stroke:rgb(0%,0%,0%);stroke-opacity:1;stroke-miterlimit:10;\" d=\"M 371.542969 416.800781 L 376.113281 416.800781 Z M 371.542969 416.800781 \"/>\n",
       "<path style=\"fill:none;stroke-width:0.75;stroke-linecap:round;stroke-linejoin:round;stroke:rgb(0%,0%,0%);stroke-opacity:1;stroke-miterlimit:10;\" d=\"M 376.113281 416.800781 L 380.683594 416.800781 Z M 376.113281 416.800781 \"/>\n",
       "<path style=\"fill:none;stroke-width:0.75;stroke-linecap:round;stroke-linejoin:round;stroke:rgb(0%,0%,0%);stroke-opacity:1;stroke-miterlimit:10;\" d=\"M 380.6875 416.800781 L 385.257812 416.800781 L 385.257812 415.566406 L 380.6875 415.566406 Z M 380.6875 416.800781 \"/>\n",
       "<path style=\"fill:none;stroke-width:0.75;stroke-linecap:round;stroke-linejoin:round;stroke:rgb(0%,0%,0%);stroke-opacity:1;stroke-miterlimit:10;\" d=\"M 385.257812 416.800781 L 389.828125 416.800781 Z M 385.257812 416.800781 \"/>\n",
       "<path style=\"fill:none;stroke-width:0.75;stroke-linecap:round;stroke-linejoin:round;stroke:rgb(0%,0%,0%);stroke-opacity:1;stroke-miterlimit:10;\" d=\"M 389.828125 416.800781 L 394.398438 416.800781 Z M 389.828125 416.800781 \"/>\n",
       "<path style=\"fill:none;stroke-width:0.75;stroke-linecap:round;stroke-linejoin:round;stroke:rgb(0%,0%,0%);stroke-opacity:1;stroke-miterlimit:10;\" d=\"M 394.398438 416.800781 L 398.96875 416.800781 Z M 394.398438 416.800781 \"/>\n",
       "<path style=\"fill:none;stroke-width:0.75;stroke-linecap:round;stroke-linejoin:round;stroke:rgb(0%,0%,0%);stroke-opacity:1;stroke-miterlimit:10;\" d=\"M 398.972656 416.800781 L 403.542969 416.800781 Z M 398.972656 416.800781 \"/>\n",
       "<path style=\"fill:none;stroke-width:0.75;stroke-linecap:round;stroke-linejoin:round;stroke:rgb(0%,0%,0%);stroke-opacity:1;stroke-miterlimit:10;\" d=\"M 403.542969 416.800781 L 408.113281 416.800781 Z M 403.542969 416.800781 \"/>\n",
       "<path style=\"fill:none;stroke-width:0.75;stroke-linecap:round;stroke-linejoin:round;stroke:rgb(0%,0%,0%);stroke-opacity:1;stroke-miterlimit:10;\" d=\"M 408.113281 416.800781 L 412.683594 416.800781 Z M 408.113281 416.800781 \"/>\n",
       "<path style=\"fill:none;stroke-width:0.75;stroke-linecap:round;stroke-linejoin:round;stroke:rgb(0%,0%,0%);stroke-opacity:1;stroke-miterlimit:10;\" d=\"M 412.6875 416.800781 L 417.257812 416.800781 Z M 412.6875 416.800781 \"/>\n",
       "<path style=\"fill:none;stroke-width:0.75;stroke-linecap:round;stroke-linejoin:round;stroke:rgb(0%,0%,0%);stroke-opacity:1;stroke-miterlimit:10;\" d=\"M 417.257812 416.800781 L 421.828125 416.800781 Z M 417.257812 416.800781 \"/>\n",
       "<path style=\"fill:none;stroke-width:0.75;stroke-linecap:round;stroke-linejoin:round;stroke:rgb(0%,0%,0%);stroke-opacity:1;stroke-miterlimit:10;\" d=\"M 421.828125 416.800781 L 426.398438 416.800781 Z M 421.828125 416.800781 \"/>\n",
       "<path style=\"fill:none;stroke-width:0.75;stroke-linecap:round;stroke-linejoin:round;stroke:rgb(0%,0%,0%);stroke-opacity:1;stroke-miterlimit:10;\" d=\"M 426.398438 416.800781 L 430.96875 416.800781 Z M 426.398438 416.800781 \"/>\n",
       "<path style=\"fill:none;stroke-width:0.75;stroke-linecap:round;stroke-linejoin:round;stroke:rgb(0%,0%,0%);stroke-opacity:1;stroke-miterlimit:10;\" d=\"M 430.972656 416.800781 L 435.542969 416.800781 Z M 430.972656 416.800781 \"/>\n",
       "<path style=\"fill:none;stroke-width:0.75;stroke-linecap:round;stroke-linejoin:round;stroke:rgb(0%,0%,0%);stroke-opacity:1;stroke-miterlimit:10;\" d=\"M 435.542969 416.800781 L 440.113281 416.800781 Z M 435.542969 416.800781 \"/>\n",
       "<path style=\"fill:none;stroke-width:0.75;stroke-linecap:round;stroke-linejoin:round;stroke:rgb(0%,0%,0%);stroke-opacity:1;stroke-miterlimit:10;\" d=\"M 440.113281 416.800781 L 444.683594 416.800781 Z M 440.113281 416.800781 \"/>\n",
       "<path style=\"fill:none;stroke-width:0.75;stroke-linecap:round;stroke-linejoin:round;stroke:rgb(0%,0%,0%);stroke-opacity:1;stroke-miterlimit:10;\" d=\"M 444.6875 416.800781 L 449.257812 416.800781 Z M 444.6875 416.800781 \"/>\n",
       "<path style=\"fill:none;stroke-width:0.75;stroke-linecap:round;stroke-linejoin:round;stroke:rgb(0%,0%,0%);stroke-opacity:1;stroke-miterlimit:10;\" d=\"M 449.257812 416.800781 L 453.828125 416.800781 Z M 449.257812 416.800781 \"/>\n",
       "<path style=\"fill:none;stroke-width:0.75;stroke-linecap:round;stroke-linejoin:round;stroke:rgb(0%,0%,0%);stroke-opacity:1;stroke-miterlimit:10;\" d=\"M 453.828125 416.800781 L 458.398438 416.800781 L 458.398438 415.566406 L 453.828125 415.566406 Z M 453.828125 416.800781 \"/>\n",
       "</g>\n",
       "</svg>\n"
      ],
      "text/plain": [
       "Plot with title “Coapplicant Income Chart”"
      ]
     },
     "metadata": {
      "image/svg+xml": {
       "isolated": true
      }
     },
     "output_type": "display_data"
    }
   ],
   "source": [
    "hist(train$CoapplicantIncome, breaks = 100,main = \"Coapplicant Income Chart\",xlab = \"CoapplicantIncome\")"
   ]
  },
  {
   "cell_type": "code",
   "execution_count": 19,
   "metadata": {
    "collapsed": false
   },
   "outputs": [
    {
     "data": {
      "image/png": "[encoded data removed]",
      "image/svg+xml": [
       "<?xml version=\"1.0\" encoding=\"UTF-8\"?>\n",
       "<svg xmlns=\"http://www.w3.org/2000/svg\" xmlns:xlink=\"http://www.w3.org/1999/xlink\" width=\"504pt\" height=\"504pt\" viewBox=\"0 0 504 504\" version=\"1.1\">\n",
       "<defs>\n",
       "<g>\n",
       "<symbol overflow=\"visible\" id=\"glyph0-0\">\n",
       "<path style=\"stroke:none;\" d=\"\"/>\n",
       "</symbol>\n",
       "<symbol overflow=\"visible\" id=\"glyph0-1\">\n",
       "<path style=\"stroke:none;\" d=\"M -4.09375 -6.078125 C -7.046875 -6.078125 -8.515625 -5.140625 -8.515625 -3.296875 C -8.515625 -1.46875 -7.015625 -0.515625 -4.15625 -0.515625 C -1.296875 -0.515625 0.1875 -1.46875 0.1875 -3.296875 C 0.1875 -5.09375 -1.296875 -6.078125 -4.09375 -6.078125 Z M -4.1875 -5 C -1.78125 -5 -0.703125 -4.453125 -0.703125 -3.28125 C -0.703125 -2.15625 -1.828125 -1.59375 -4.15625 -1.59375 C -6.484375 -1.59375 -7.578125 -2.15625 -7.578125 -3.296875 C -7.578125 -4.4375 -6.46875 -5 -4.1875 -5 Z M -4.1875 -5 \"/>\n",
       "</symbol>\n",
       "<symbol overflow=\"visible\" id=\"glyph0-2\">\n",
       "<path style=\"stroke:none;\" d=\"M -6.015625 -6.125 C -7.453125 -6.125 -8.515625 -5.015625 -8.515625 -3.40625 C -8.515625 -1.671875 -7.625 -0.65625 -5.5625 -0.59375 L -5.5625 -1.65625 C -6.984375 -1.734375 -7.578125 -2.328125 -7.578125 -3.375 C -7.578125 -4.328125 -6.90625 -5.046875 -5.984375 -5.046875 C -5.3125 -5.046875 -4.734375 -4.65625 -4.3125 -3.90625 L -3.6875 -2.796875 C -2.671875 -1.015625 -1.875 -0.5 0 -0.40625 L 0 -6.078125 L -1.046875 -6.078125 L -1.046875 -1.59375 C -1.734375 -1.703125 -2.1875 -2.09375 -2.796875 -3.125 L -3.4375 -4.328125 C -4.078125 -5.515625 -4.96875 -6.125 -6.015625 -6.125 Z M -6.015625 -6.125 \"/>\n",
       "</symbol>\n",
       "<symbol overflow=\"visible\" id=\"glyph0-3\">\n",
       "<path style=\"stroke:none;\" d=\"M -2.046875 -6.234375 L -2.984375 -6.234375 L -2.984375 -4.984375 L -8.515625 -4.984375 L -8.515625 -4.203125 L -3.15625 -0.34375 L -2.046875 -0.34375 L -2.046875 -3.921875 L 0 -3.921875 L 0 -4.984375 L -2.046875 -4.984375 Z M -2.984375 -3.921875 L -2.984375 -1.265625 L -6.703125 -3.921875 Z M -2.984375 -3.921875 \"/>\n",
       "</symbol>\n",
       "<symbol overflow=\"visible\" id=\"glyph0-4\">\n",
       "<path style=\"stroke:none;\" d=\"M -2.640625 -6.15625 C -4.21875 -6.15625 -5.296875 -5.078125 -5.296875 -3.546875 C -5.296875 -2.71875 -4.96875 -2.046875 -4.34375 -1.59375 C -6.421875 -1.609375 -7.578125 -2.28125 -7.578125 -3.484375 C -7.578125 -4.234375 -7.109375 -4.75 -6.28125 -4.921875 L -6.28125 -5.96875 C -7.6875 -5.765625 -8.515625 -4.859375 -8.515625 -3.5625 C -8.515625 -1.578125 -6.84375 -0.515625 -3.875 -0.515625 C -1.21875 -0.515625 0.1875 -1.421875 0.1875 -3.375 C 0.1875 -4.984375 -0.96875 -6.15625 -2.640625 -6.15625 Z M -2.5625 -5.078125 C -1.484375 -5.078125 -0.75 -4.359375 -0.75 -3.390625 C -0.75 -2.40625 -1.53125 -1.65625 -2.609375 -1.65625 C -3.671875 -1.65625 -4.359375 -2.375 -4.359375 -3.421875 C -4.359375 -4.4375 -3.703125 -5.078125 -2.5625 -5.078125 Z M -2.5625 -5.078125 \"/>\n",
       "</symbol>\n",
       "<symbol overflow=\"visible\" id=\"glyph0-5\">\n",
       "<path style=\"stroke:none;\" d=\"M -2.40625 -6.15625 C -3.34375 -6.15625 -4.015625 -5.671875 -4.46875 -4.6875 C -5 -5.5625 -5.4375 -5.859375 -6.234375 -5.859375 C -7.578125 -5.859375 -8.515625 -4.8125 -8.515625 -3.296875 C -8.515625 -1.796875 -7.578125 -0.75 -6.234375 -0.75 C -5.453125 -0.75 -5.015625 -1.03125 -4.46875 -1.890625 C -4.015625 -0.921875 -3.34375 -0.4375 -2.40625 -0.4375 C -0.859375 -0.4375 0.1875 -1.625 0.1875 -3.296875 C 0.1875 -4.984375 -0.859375 -6.15625 -2.40625 -6.15625 Z M -6.21875 -4.78125 C -5.421875 -4.78125 -4.890625 -4.1875 -4.890625 -3.296875 C -4.890625 -2.40625 -5.421875 -1.828125 -6.234375 -1.828125 C -7.046875 -1.828125 -7.578125 -2.40625 -7.578125 -3.296875 C -7.578125 -4.203125 -7.046875 -4.78125 -6.21875 -4.78125 Z M -2.390625 -5.078125 C -1.375 -5.078125 -0.75 -4.359375 -0.75 -3.28125 C -0.75 -2.25 -1.390625 -1.53125 -2.390625 -1.53125 C -3.390625 -1.53125 -4.015625 -2.25 -4.015625 -3.296875 C -4.015625 -4.359375 -3.390625 -5.078125 -2.390625 -5.078125 Z M -2.390625 -5.078125 \"/>\n",
       "</symbol>\n",
       "</g>\n",
       "</defs>\n",
       "<g id=\"surface98\">\n",
       "<rect x=\"0\" y=\"0\" width=\"504\" height=\"504\" style=\"fill:rgb(100%,100%,100%);fill-opacity:1;stroke:none;\"/>\n",
       "<path style=\"fill:none;stroke-width:2.25;stroke-linecap:butt;stroke-linejoin:round;stroke:rgb(0%,0%,0%);stroke-opacity:1;stroke-miterlimit:10;\" d=\"M 189.601562 401.21875 L 343.199219 401.21875 \"/>\n",
       "<path style=\"fill:none;stroke-width:0.75;stroke-linecap:round;stroke-linejoin:round;stroke:rgb(0%,0%,0%);stroke-opacity:1;stroke-dasharray:3,3;stroke-miterlimit:10;\" d=\"M 266.398438 416.800781 L 266.398438 405.203125 \"/>\n",
       "<path style=\"fill:none;stroke-width:0.75;stroke-linecap:round;stroke-linejoin:round;stroke:rgb(0%,0%,0%);stroke-opacity:1;stroke-dasharray:3,3;stroke-miterlimit:10;\" d=\"M 266.398438 374.300781 L 266.398438 392.761719 \"/>\n",
       "<path style=\"fill:none;stroke-width:0.75;stroke-linecap:round;stroke-linejoin:round;stroke:rgb(0%,0%,0%);stroke-opacity:1;stroke-miterlimit:10;\" d=\"M 228 416.800781 L 304.800781 416.800781 \"/>\n",
       "<path style=\"fill:none;stroke-width:0.75;stroke-linecap:round;stroke-linejoin:round;stroke:rgb(0%,0%,0%);stroke-opacity:1;stroke-miterlimit:10;\" d=\"M 228 374.300781 L 304.800781 374.300781 \"/>\n",
       "<path style=\"fill:none;stroke-width:0.75;stroke-linecap:round;stroke-linejoin:round;stroke:rgb(0%,0%,0%);stroke-opacity:1;stroke-miterlimit:10;\" d=\"M 189.601562 405.203125 L 343.199219 405.203125 L 343.199219 392.761719 L 189.601562 392.761719 L 189.601562 405.203125 \"/>\n",
       "<path style=\"fill:none;stroke-width:0.75;stroke-linecap:round;stroke-linejoin:round;stroke:rgb(0%,0%,0%);stroke-opacity:1;stroke-miterlimit:10;\" d=\"M 269.101562 362.800781 C 269.101562 366.402344 263.699219 366.402344 263.699219 362.800781 C 263.699219 359.203125 269.101562 359.203125 269.101562 362.800781 \"/>\n",
       "<path style=\"fill:none;stroke-width:0.75;stroke-linecap:round;stroke-linejoin:round;stroke:rgb(0%,0%,0%);stroke-opacity:1;stroke-miterlimit:10;\" d=\"M 269.101562 364.253906 C 269.101562 367.851562 263.699219 367.851562 263.699219 364.253906 C 263.699219 360.652344 269.101562 360.652344 269.101562 364.253906 \"/>\n",
       "<path style=\"fill:none;stroke-width:0.75;stroke-linecap:round;stroke-linejoin:round;stroke:rgb(0%,0%,0%);stroke-opacity:1;stroke-miterlimit:10;\" d=\"M 269.101562 368.507812 C 269.101562 372.109375 263.699219 372.109375 263.699219 368.507812 C 263.699219 364.90625 269.101562 364.90625 269.101562 368.507812 \"/>\n",
       "<path style=\"fill:none;stroke-width:0.75;stroke-linecap:round;stroke-linejoin:round;stroke:rgb(0%,0%,0%);stroke-opacity:1;stroke-miterlimit:10;\" d=\"M 269.101562 371.699219 C 269.101562 375.300781 263.699219 375.300781 263.699219 371.699219 C 263.699219 368.097656 269.101562 368.097656 269.101562 371.699219 \"/>\n",
       "<path style=\"fill:none;stroke-width:0.75;stroke-linecap:round;stroke-linejoin:round;stroke:rgb(0%,0%,0%);stroke-opacity:1;stroke-miterlimit:10;\" d=\"M 269.101562 359.359375 C 269.101562 362.960938 263.699219 362.960938 263.699219 359.359375 C 263.699219 355.761719 269.101562 355.761719 269.101562 359.359375 \"/>\n",
       "<path style=\"fill:none;stroke-width:0.75;stroke-linecap:round;stroke-linejoin:round;stroke:rgb(0%,0%,0%);stroke-opacity:1;stroke-miterlimit:10;\" d=\"M 269.101562 368.859375 C 269.101562 372.460938 263.699219 372.460938 263.699219 368.859375 C 263.699219 365.261719 269.101562 365.261719 269.101562 368.859375 \"/>\n",
       "<path style=\"fill:none;stroke-width:0.75;stroke-linecap:round;stroke-linejoin:round;stroke:rgb(0%,0%,0%);stroke-opacity:1;stroke-miterlimit:10;\" d=\"M 269.101562 355.390625 C 269.101562 358.992188 263.699219 358.992188 263.699219 355.390625 C 263.699219 351.789062 269.101562 351.789062 269.101562 355.390625 \"/>\n",
       "<path style=\"fill:none;stroke-width:0.75;stroke-linecap:round;stroke-linejoin:round;stroke:rgb(0%,0%,0%);stroke-opacity:1;stroke-miterlimit:10;\" d=\"M 269.101562 373.15625 C 269.101562 376.753906 263.699219 376.753906 263.699219 373.15625 C 263.699219 369.554688 269.101562 369.554688 269.101562 373.15625 \"/>\n",
       "<path style=\"fill:none;stroke-width:0.75;stroke-linecap:round;stroke-linejoin:round;stroke:rgb(0%,0%,0%);stroke-opacity:1;stroke-miterlimit:10;\" d=\"M 269.101562 316.160156 C 269.101562 319.761719 263.699219 319.761719 263.699219 316.160156 C 263.699219 312.5625 269.101562 312.5625 269.101562 316.160156 \"/>\n",
       "<path style=\"fill:none;stroke-width:0.75;stroke-linecap:round;stroke-linejoin:round;stroke:rgb(0%,0%,0%);stroke-opacity:1;stroke-miterlimit:10;\" d=\"M 269.101562 372.707031 C 269.101562 376.308594 263.699219 376.308594 263.699219 372.707031 C 263.699219 369.109375 269.101562 369.109375 269.101562 372.707031 \"/>\n",
       "<path style=\"fill:none;stroke-width:0.75;stroke-linecap:round;stroke-linejoin:round;stroke:rgb(0%,0%,0%);stroke-opacity:1;stroke-miterlimit:10;\" d=\"M 269.101562 331.636719 C 269.101562 335.234375 263.699219 335.234375 263.699219 331.636719 C 263.699219 328.035156 269.101562 328.035156 269.101562 331.636719 \"/>\n",
       "<path style=\"fill:none;stroke-width:0.75;stroke-linecap:round;stroke-linejoin:round;stroke:rgb(0%,0%,0%);stroke-opacity:1;stroke-miterlimit:10;\" d=\"M 269.101562 353.621094 C 269.101562 357.21875 263.699219 357.21875 263.699219 353.621094 C 263.699219 350.019531 269.101562 350.019531 269.101562 353.621094 \"/>\n",
       "<path style=\"fill:none;stroke-width:0.75;stroke-linecap:round;stroke-linejoin:round;stroke:rgb(0%,0%,0%);stroke-opacity:1;stroke-miterlimit:10;\" d=\"M 269.101562 367.414062 C 269.101562 371.015625 263.699219 371.015625 263.699219 367.414062 C 263.699219 363.816406 269.101562 363.816406 269.101562 367.414062 \"/>\n",
       "<path style=\"fill:none;stroke-width:0.75;stroke-linecap:round;stroke-linejoin:round;stroke:rgb(0%,0%,0%);stroke-opacity:1;stroke-miterlimit:10;\" d=\"M 269.101562 354.1875 C 269.101562 357.785156 263.699219 357.785156 263.699219 354.1875 C 263.699219 350.585938 269.101562 350.585938 269.101562 354.1875 \"/>\n",
       "<path style=\"fill:none;stroke-width:0.75;stroke-linecap:round;stroke-linejoin:round;stroke:rgb(0%,0%,0%);stroke-opacity:1;stroke-miterlimit:10;\" d=\"M 269.101562 247.25 C 269.101562 250.851562 263.699219 250.851562 263.699219 247.25 C 263.699219 243.652344 269.101562 243.652344 269.101562 247.25 \"/>\n",
       "<path style=\"fill:none;stroke-width:0.75;stroke-linecap:round;stroke-linejoin:round;stroke:rgb(0%,0%,0%);stroke-opacity:1;stroke-miterlimit:10;\" d=\"M 269.101562 197.199219 C 269.101562 200.796875 263.699219 200.796875 263.699219 197.199219 C 263.699219 193.597656 269.101562 193.597656 269.101562 197.199219 \"/>\n",
       "<path style=\"fill:none;stroke-width:0.75;stroke-linecap:round;stroke-linejoin:round;stroke:rgb(0%,0%,0%);stroke-opacity:1;stroke-miterlimit:10;\" d=\"M 269.101562 273.429688 C 269.101562 277.03125 263.699219 277.03125 263.699219 273.429688 C 263.699219 269.832031 269.101562 269.832031 269.101562 273.429688 \"/>\n",
       "<path style=\"fill:none;stroke-width:0.75;stroke-linecap:round;stroke-linejoin:round;stroke:rgb(0%,0%,0%);stroke-opacity:1;stroke-miterlimit:10;\" d=\"M 269.101562 250.875 C 269.101562 254.476562 263.699219 254.476562 263.699219 250.875 C 263.699219 247.277344 269.101562 247.277344 269.101562 250.875 \"/>\n",
       "<path style=\"fill:none;stroke-width:0.75;stroke-linecap:round;stroke-linejoin:round;stroke:rgb(0%,0%,0%);stroke-opacity:1;stroke-miterlimit:10;\" d=\"M 269.101562 366.378906 C 269.101562 369.980469 263.699219 369.980469 263.699219 366.378906 C 263.699219 362.78125 269.101562 362.78125 269.101562 366.378906 \"/>\n",
       "<path style=\"fill:none;stroke-width:0.75;stroke-linecap:round;stroke-linejoin:round;stroke:rgb(0%,0%,0%);stroke-opacity:1;stroke-miterlimit:10;\" d=\"M 269.101562 370.636719 C 269.101562 374.234375 263.699219 374.234375 263.699219 370.636719 C 263.699219 367.035156 269.101562 367.035156 269.101562 370.636719 \"/>\n",
       "<path style=\"fill:none;stroke-width:0.75;stroke-linecap:round;stroke-linejoin:round;stroke:rgb(0%,0%,0%);stroke-opacity:1;stroke-miterlimit:10;\" d=\"M 269.101562 348.296875 C 269.101562 351.898438 263.699219 351.898438 263.699219 348.296875 C 263.699219 344.699219 269.101562 344.699219 269.101562 348.296875 \"/>\n",
       "<path style=\"fill:none;stroke-width:0.75;stroke-linecap:round;stroke-linejoin:round;stroke:rgb(0%,0%,0%);stroke-opacity:1;stroke-miterlimit:10;\" d=\"M 269.101562 354.964844 C 269.101562 358.566406 263.699219 358.566406 263.699219 354.964844 C 263.699219 351.363281 269.101562 351.363281 269.101562 354.964844 \"/>\n",
       "<path style=\"fill:none;stroke-width:0.75;stroke-linecap:round;stroke-linejoin:round;stroke:rgb(0%,0%,0%);stroke-opacity:1;stroke-miterlimit:10;\" d=\"M 269.101562 370.015625 C 269.101562 373.613281 263.699219 373.613281 263.699219 370.015625 C 263.699219 366.414062 269.101562 366.414062 269.101562 370.015625 \"/>\n",
       "<path style=\"fill:none;stroke-width:0.75;stroke-linecap:round;stroke-linejoin:round;stroke:rgb(0%,0%,0%);stroke-opacity:1;stroke-miterlimit:10;\" d=\"M 269.101562 355.390625 C 269.101562 358.992188 263.699219 358.992188 263.699219 355.390625 C 263.699219 351.789062 269.101562 351.789062 269.101562 355.390625 \"/>\n",
       "<path style=\"fill:none;stroke-width:0.75;stroke-linecap:round;stroke-linejoin:round;stroke:rgb(0%,0%,0%);stroke-opacity:1;stroke-miterlimit:10;\" d=\"M 269.101562 329.503906 C 269.101562 333.105469 263.699219 333.105469 263.699219 329.503906 C 263.699219 325.90625 269.101562 325.90625 269.101562 329.503906 \"/>\n",
       "<path style=\"fill:none;stroke-width:0.75;stroke-linecap:round;stroke-linejoin:round;stroke:rgb(0%,0%,0%);stroke-opacity:1;stroke-miterlimit:10;\" d=\"M 269.101562 331.351562 C 269.101562 334.949219 263.699219 334.949219 263.699219 331.351562 C 263.699219 327.75 269.101562 327.75 269.101562 331.351562 \"/>\n",
       "<path style=\"fill:none;stroke-width:0.75;stroke-linecap:round;stroke-linejoin:round;stroke:rgb(0%,0%,0%);stroke-opacity:1;stroke-miterlimit:10;\" d=\"M 269.101562 353.617188 C 269.101562 357.214844 263.699219 357.214844 263.699219 353.617188 C 263.699219 350.015625 269.101562 350.015625 269.101562 353.617188 \"/>\n",
       "<path style=\"fill:none;stroke-width:0.75;stroke-linecap:round;stroke-linejoin:round;stroke:rgb(0%,0%,0%);stroke-opacity:1;stroke-miterlimit:10;\" d=\"M 269.101562 147.953125 C 269.101562 151.550781 263.699219 151.550781 263.699219 147.953125 C 263.699219 144.351562 269.101562 144.351562 269.101562 147.953125 \"/>\n",
       "<path style=\"fill:none;stroke-width:0.75;stroke-linecap:round;stroke-linejoin:round;stroke:rgb(0%,0%,0%);stroke-opacity:1;stroke-miterlimit:10;\" d=\"M 269.101562 333.492188 C 269.101562 337.089844 263.699219 337.089844 263.699219 333.492188 C 263.699219 329.890625 269.101562 329.890625 269.101562 333.492188 \"/>\n",
       "<path style=\"fill:none;stroke-width:0.75;stroke-linecap:round;stroke-linejoin:round;stroke:rgb(0%,0%,0%);stroke-opacity:1;stroke-miterlimit:10;\" d=\"M 269.101562 350.386719 C 269.101562 353.988281 263.699219 353.988281 263.699219 350.386719 C 263.699219 346.785156 269.101562 346.785156 269.101562 350.386719 \"/>\n",
       "<path style=\"fill:none;stroke-width:0.75;stroke-linecap:round;stroke-linejoin:round;stroke:rgb(0%,0%,0%);stroke-opacity:1;stroke-miterlimit:10;\" d=\"M 269.101562 72.800781 C 269.101562 76.398438 263.699219 76.398438 263.699219 72.800781 C 263.699219 69.199219 269.101562 69.199219 269.101562 72.800781 \"/>\n",
       "<path style=\"fill:none;stroke-width:0.75;stroke-linecap:round;stroke-linejoin:round;stroke:rgb(0%,0%,0%);stroke-opacity:1;stroke-miterlimit:10;\" d=\"M 269.101562 354.125 C 269.101562 357.726562 263.699219 357.726562 263.699219 354.125 C 263.699219 350.527344 269.101562 350.527344 269.101562 354.125 \"/>\n",
       "<path style=\"fill:none;stroke-width:0.75;stroke-linecap:round;stroke-linejoin:round;stroke:rgb(0%,0%,0%);stroke-opacity:1;stroke-miterlimit:10;\" d=\"M 269.101562 362.652344 C 269.101562 366.253906 263.699219 366.253906 263.699219 362.652344 C 263.699219 359.054688 269.101562 359.054688 269.101562 362.652344 \"/>\n",
       "<path style=\"fill:none;stroke-width:0.75;stroke-linecap:round;stroke-linejoin:round;stroke:rgb(0%,0%,0%);stroke-opacity:1;stroke-miterlimit:10;\" d=\"M 269.101562 373.121094 C 269.101562 376.71875 263.699219 376.71875 263.699219 373.121094 C 263.699219 369.519531 269.101562 369.519531 269.101562 373.121094 \"/>\n",
       "<path style=\"fill:none;stroke-width:0.75;stroke-linecap:round;stroke-linejoin:round;stroke:rgb(0%,0%,0%);stroke-opacity:1;stroke-miterlimit:10;\" d=\"M 269.101562 256.953125 C 269.101562 260.550781 263.699219 260.550781 263.699219 256.953125 C 263.699219 253.351562 269.101562 253.351562 269.101562 256.953125 \"/>\n",
       "<path style=\"fill:none;stroke-width:0.75;stroke-linecap:round;stroke-linejoin:round;stroke:rgb(0%,0%,0%);stroke-opacity:1;stroke-miterlimit:10;\" d=\"M 269.101562 346.417969 C 269.101562 350.015625 263.699219 350.015625 263.699219 346.417969 C 263.699219 342.816406 269.101562 342.816406 269.101562 346.417969 \"/>\n",
       "<path style=\"fill:none;stroke-width:0.75;stroke-linecap:round;stroke-linejoin:round;stroke:rgb(0%,0%,0%);stroke-opacity:1;stroke-miterlimit:10;\" d=\"M 269.101562 347.128906 C 269.101562 350.726562 263.699219 350.726562 263.699219 347.128906 C 263.699219 343.527344 269.101562 343.527344 269.101562 347.128906 \"/>\n",
       "<path style=\"fill:none;stroke-width:0.75;stroke-linecap:round;stroke-linejoin:round;stroke:rgb(0%,0%,0%);stroke-opacity:1;stroke-miterlimit:10;\" d=\"M 269.101562 346.523438 C 269.101562 350.125 263.699219 350.125 263.699219 346.523438 C 263.699219 342.921875 269.101562 342.921875 269.101562 346.523438 \"/>\n",
       "<path style=\"fill:none;stroke-width:0.75;stroke-linecap:round;stroke-linejoin:round;stroke:rgb(0%,0%,0%);stroke-opacity:1;stroke-miterlimit:10;\" d=\"M 269.101562 371.347656 C 269.101562 374.945312 263.699219 374.945312 263.699219 371.347656 C 263.699219 367.746094 269.101562 367.746094 269.101562 371.347656 \"/>\n",
       "<path style=\"fill:none;stroke-width:0.75;stroke-linecap:round;stroke-linejoin:round;stroke:rgb(0%,0%,0%);stroke-opacity:1;stroke-miterlimit:10;\" d=\"M 269.101562 339.433594 C 269.101562 343.035156 263.699219 343.035156 263.699219 339.433594 C 263.699219 335.835938 269.101562 335.835938 269.101562 339.433594 \"/>\n",
       "<path style=\"fill:none;stroke-width:0.75;stroke-linecap:round;stroke-linejoin:round;stroke:rgb(0%,0%,0%);stroke-opacity:1;stroke-miterlimit:10;\" d=\"M 269.101562 343.988281 C 269.101562 347.585938 263.699219 347.585938 263.699219 343.988281 C 263.699219 340.386719 269.101562 340.386719 269.101562 343.988281 \"/>\n",
       "<path style=\"fill:none;stroke-width:0.75;stroke-linecap:round;stroke-linejoin:round;stroke:rgb(0%,0%,0%);stroke-opacity:1;stroke-miterlimit:10;\" d=\"M 269.101562 328.796875 C 269.101562 332.398438 263.699219 332.398438 263.699219 328.796875 C 263.699219 325.199219 269.101562 325.199219 269.101562 328.796875 \"/>\n",
       "<path style=\"fill:none;stroke-width:0.75;stroke-linecap:round;stroke-linejoin:round;stroke:rgb(0%,0%,0%);stroke-opacity:1;stroke-miterlimit:10;\" d=\"M 269.101562 361.011719 C 269.101562 364.609375 263.699219 364.609375 263.699219 361.011719 C 263.699219 357.410156 269.101562 357.410156 269.101562 361.011719 \"/>\n",
       "<path style=\"fill:none;stroke-width:0.75;stroke-linecap:round;stroke-linejoin:round;stroke:rgb(0%,0%,0%);stroke-opacity:1;stroke-miterlimit:10;\" d=\"M 269.101562 342.980469 C 269.101562 346.578125 263.699219 346.578125 263.699219 342.980469 C 263.699219 339.378906 269.101562 339.378906 269.101562 342.980469 \"/>\n",
       "<path style=\"fill:none;stroke-width:0.75;stroke-linecap:round;stroke-linejoin:round;stroke:rgb(0%,0%,0%);stroke-opacity:1;stroke-miterlimit:10;\" d=\"M 269.101562 369.570312 C 269.101562 373.171875 263.699219 373.171875 263.699219 369.570312 C 263.699219 365.972656 269.101562 365.972656 269.101562 369.570312 \"/>\n",
       "<path style=\"fill:none;stroke-width:0.75;stroke-linecap:round;stroke-linejoin:round;stroke:rgb(0%,0%,0%);stroke-opacity:1;stroke-miterlimit:10;\" d=\"M 269.101562 340.148438 C 269.101562 343.75 263.699219 343.75 263.699219 340.148438 C 263.699219 336.550781 269.101562 336.550781 269.101562 340.148438 \"/>\n",
       "<path style=\"fill:none;stroke-width:0.75;stroke-linecap:round;stroke-linejoin:round;stroke:rgb(0%,0%,0%);stroke-opacity:1;stroke-miterlimit:10;\" d=\"M 269.101562 334.539062 C 269.101562 338.136719 263.699219 338.136719 263.699219 334.539062 C 263.699219 330.9375 269.101562 330.9375 269.101562 334.539062 \"/>\n",
       "<path style=\"fill:none;stroke-width:0.75;stroke-linecap:round;stroke-linejoin:round;stroke:rgb(0%,0%,0%);stroke-opacity:1;stroke-miterlimit:10;\" d=\"M 269.101562 346.527344 C 269.101562 350.128906 263.699219 350.128906 263.699219 346.527344 C 263.699219 342.929688 269.101562 342.929688 269.101562 346.527344 \"/>\n",
       "<path style=\"fill:none;stroke-width:0.75;stroke-linecap:round;stroke-linejoin:round;stroke:rgb(0%,0%,0%);stroke-opacity:1;stroke-miterlimit:10;\" d=\"M 269.101562 348.851562 C 269.101562 352.449219 263.699219 352.449219 263.699219 348.851562 C 263.699219 345.25 269.101562 345.25 269.101562 348.851562 \"/>\n",
       "<path style=\"fill:none;stroke-width:0.75;stroke-linecap:round;stroke-linejoin:round;stroke:rgb(0%,0%,0%);stroke-opacity:1;stroke-miterlimit:10;\" d=\"M 269.101562 366.378906 C 269.101562 369.980469 263.699219 369.980469 263.699219 366.378906 C 263.699219 362.78125 269.101562 362.78125 269.101562 366.378906 \"/>\n",
       "<path style=\"fill:none;stroke-width:0.75;stroke-linecap:round;stroke-linejoin:round;stroke:rgb(0%,0%,0%);stroke-opacity:1;stroke-miterlimit:10;\" d=\"M 59.039062 417.4375 L 59.039062 77.054688 \"/>\n",
       "<path style=\"fill:none;stroke-width:0.75;stroke-linecap:round;stroke-linejoin:round;stroke:rgb(0%,0%,0%);stroke-opacity:1;stroke-miterlimit:10;\" d=\"M 59.039062 417.4375 L 51.839844 417.4375 \"/>\n",
       "<path style=\"fill:none;stroke-width:0.75;stroke-linecap:round;stroke-linejoin:round;stroke:rgb(0%,0%,0%);stroke-opacity:1;stroke-miterlimit:10;\" d=\"M 59.039062 332.34375 L 51.839844 332.34375 \"/>\n",
       "<path style=\"fill:none;stroke-width:0.75;stroke-linecap:round;stroke-linejoin:round;stroke:rgb(0%,0%,0%);stroke-opacity:1;stroke-miterlimit:10;\" d=\"M 59.039062 247.246094 L 51.839844 247.246094 \"/>\n",
       "<path style=\"fill:none;stroke-width:0.75;stroke-linecap:round;stroke-linejoin:round;stroke:rgb(0%,0%,0%);stroke-opacity:1;stroke-miterlimit:10;\" d=\"M 59.039062 162.152344 L 51.839844 162.152344 \"/>\n",
       "<path style=\"fill:none;stroke-width:0.75;stroke-linecap:round;stroke-linejoin:round;stroke:rgb(0%,0%,0%);stroke-opacity:1;stroke-miterlimit:10;\" d=\"M 59.039062 77.054688 L 51.839844 77.054688 \"/>\n",
       "<g style=\"fill:rgb(0%,0%,0%);fill-opacity:1;\">\n",
       "  <use xlink:href=\"#glyph0-1\" x=\"41.538086\" y=\"420.9375\"/>\n",
       "</g>\n",
       "<g style=\"fill:rgb(0%,0%,0%);fill-opacity:1;\">\n",
       "  <use xlink:href=\"#glyph0-2\" x=\"41.538086\" y=\"349.34375\"/>\n",
       "  <use xlink:href=\"#glyph0-1\" x=\"41.538086\" y=\"342.671875\"/>\n",
       "  <use xlink:href=\"#glyph0-1\" x=\"41.538086\" y=\"336\"/>\n",
       "  <use xlink:href=\"#glyph0-1\" x=\"41.538086\" y=\"329.328125\"/>\n",
       "  <use xlink:href=\"#glyph0-1\" x=\"41.538086\" y=\"322.65625\"/>\n",
       "</g>\n",
       "<g style=\"fill:rgb(0%,0%,0%);fill-opacity:1;\">\n",
       "  <use xlink:href=\"#glyph0-3\" x=\"41.538086\" y=\"264.246094\"/>\n",
       "  <use xlink:href=\"#glyph0-1\" x=\"41.538086\" y=\"257.574219\"/>\n",
       "  <use xlink:href=\"#glyph0-1\" x=\"41.538086\" y=\"250.902344\"/>\n",
       "  <use xlink:href=\"#glyph0-1\" x=\"41.538086\" y=\"244.230469\"/>\n",
       "  <use xlink:href=\"#glyph0-1\" x=\"41.538086\" y=\"237.558594\"/>\n",
       "</g>\n",
       "<g style=\"fill:rgb(0%,0%,0%);fill-opacity:1;\">\n",
       "  <use xlink:href=\"#glyph0-4\" x=\"41.538086\" y=\"179.152344\"/>\n",
       "  <use xlink:href=\"#glyph0-1\" x=\"41.538086\" y=\"172.480469\"/>\n",
       "  <use xlink:href=\"#glyph0-1\" x=\"41.538086\" y=\"165.808594\"/>\n",
       "  <use xlink:href=\"#glyph0-1\" x=\"41.538086\" y=\"159.136719\"/>\n",
       "  <use xlink:href=\"#glyph0-1\" x=\"41.538086\" y=\"152.464844\"/>\n",
       "</g>\n",
       "<g style=\"fill:rgb(0%,0%,0%);fill-opacity:1;\">\n",
       "  <use xlink:href=\"#glyph0-5\" x=\"41.538086\" y=\"94.054688\"/>\n",
       "  <use xlink:href=\"#glyph0-1\" x=\"41.538086\" y=\"87.382812\"/>\n",
       "  <use xlink:href=\"#glyph0-1\" x=\"41.538086\" y=\"80.710938\"/>\n",
       "  <use xlink:href=\"#glyph0-1\" x=\"41.538086\" y=\"74.039062\"/>\n",
       "  <use xlink:href=\"#glyph0-1\" x=\"41.538086\" y=\"67.367188\"/>\n",
       "</g>\n",
       "<path style=\"fill:none;stroke-width:0.75;stroke-linecap:round;stroke-linejoin:round;stroke:rgb(0%,0%,0%);stroke-opacity:1;stroke-miterlimit:10;\" d=\"M 59.039062 430.558594 L 473.761719 430.558594 L 473.761719 59.039062 L 59.039062 59.039062 L 59.039062 430.558594 \"/>\n",
       "</g>\n",
       "</svg>\n"
      ],
      "text/plain": [
       "plot without title"
      ]
     },
     "metadata": {
      "image/svg+xml": {
       "isolated": true
      }
     },
     "output_type": "display_data"
    }
   ],
   "source": [
    "boxplot(train$ApplicantIncome)"
   ]
  },
  {
   "cell_type": "code",
   "execution_count": 20,
   "metadata": {
    "collapsed": true
   },
   "outputs": [],
   "source": [
    "train$Credit_History <- as.factor(train$Credit_History)\n",
    "test$Credit_History <- as.factor(test$Credit_History)"
   ]
  },
  {
   "cell_type": "code",
   "execution_count": 21,
   "metadata": {
    "collapsed": false
   },
   "outputs": [
    {
     "data": {
      "text/html": [
       "'factor'"
      ],
      "text/latex": [
       "'factor'"
      ],
      "text/markdown": [
       "'factor'"
      ],
      "text/plain": [
       "[1] \"factor\""
      ]
     },
     "execution_count": 21,
     "metadata": {},
     "output_type": "execute_result"
    }
   ],
   "source": [
    "class(train$Credit_History)"
   ]
  },
  {
   "cell_type": "code",
   "execution_count": 22,
   "metadata": {
    "collapsed": false
   },
   "outputs": [
    {
     "data": {
      "text/plain": [
       "     Loan_ID       Gender    Married    Dependents        Education  \n",
       " LP001002:  1   Female:112   No  :213   0   :345   Graduate    :480  \n",
       " LP001003:  1   Male  :489   Yes :398   1   :102   Not Graduate:134  \n",
       " LP001005:  1   NA's  : 13   NA's:  3   2   :101                     \n",
       " LP001006:  1                           3+  : 51                     \n",
       " LP001008:  1                           NA's: 15                     \n",
       " LP001011:  1                                                        \n",
       " (Other) :608                                                        \n",
       " Self_Employed ApplicantIncome CoapplicantIncome   LoanAmount   \n",
       " No  :500      Min.   :  150   Min.   :    0     Min.   :  9.0  \n",
       " Yes : 82      1st Qu.: 2878   1st Qu.:    0     1st Qu.:100.0  \n",
       " NA's: 32      Median : 3812   Median : 1188     Median :128.0  \n",
       "               Mean   : 5403   Mean   : 1621     Mean   :146.4  \n",
       "               3rd Qu.: 5795   3rd Qu.: 2297     3rd Qu.:168.0  \n",
       "               Max.   :81000   Max.   :41667     Max.   :700.0  \n",
       "                                                 NA's   :22     \n",
       " Loan_Amount_Term Credit_History   Property_Area Loan_Status\n",
       " Min.   : 12      0   : 89       Rural    :179   N:192      \n",
       " 1st Qu.:360      1   :475       Semiurban:233   Y:422      \n",
       " Median :360      NA's: 50       Urban    :202              \n",
       " Mean   :342                                                \n",
       " 3rd Qu.:360                                                \n",
       " Max.   :480                                                \n",
       " NA's   :14                                                 "
      ]
     },
     "execution_count": 22,
     "metadata": {},
     "output_type": "execute_result"
    }
   ],
   "source": [
    "summary(train)"
   ]
  },
  {
   "cell_type": "code",
   "execution_count": 23,
   "metadata": {
    "collapsed": false
   },
   "outputs": [
    {
     "data": {
      "text/plain": [
       "     Loan_ID       Gender    Married   Dependents        Education  \n",
       " LP001015:  1   Female: 70   No :134   0   :200   Graduate    :283  \n",
       " LP001022:  1   Male  :286   Yes:233   1   : 58   Not Graduate: 84  \n",
       " LP001031:  1   NA's  : 11             2   : 59                     \n",
       " LP001035:  1                          3+  : 40                     \n",
       " LP001051:  1                          NA's: 10                     \n",
       " LP001054:  1                                                       \n",
       " (Other) :361                                                       \n",
       " Self_Employed ApplicantIncome CoapplicantIncome   LoanAmount   \n",
       " No  :307      Min.   :    0   Min.   :    0     Min.   : 28.0  \n",
       " Yes : 37      1st Qu.: 2864   1st Qu.:    0     1st Qu.:100.2  \n",
       " NA's: 23      Median : 3786   Median : 1025     Median :125.0  \n",
       "               Mean   : 4806   Mean   : 1570     Mean   :136.1  \n",
       "               3rd Qu.: 5060   3rd Qu.: 2430     3rd Qu.:158.0  \n",
       "               Max.   :72529   Max.   :24000     Max.   :550.0  \n",
       "                                                 NA's   :5      \n",
       " Loan_Amount_Term Credit_History   Property_Area\n",
       " Min.   :  6.0    0   : 59       Rural    :111  \n",
       " 1st Qu.:360.0    1   :279       Semiurban:116  \n",
       " Median :360.0    NA's: 29       Urban    :140  \n",
       " Mean   :342.5                                  \n",
       " 3rd Qu.:360.0                                  \n",
       " Max.   :480.0                                  \n",
       " NA's   :6                                      "
      ]
     },
     "execution_count": 23,
     "metadata": {},
     "output_type": "execute_result"
    }
   ],
   "source": [
    "summary(test)"
   ]
  },
  {
   "cell_type": "code",
   "execution_count": 24,
   "metadata": {
    "collapsed": true
   },
   "outputs": [],
   "source": [
    "#rename level of Dependents\n",
    "levels(train$Dependents)[4] <- \"3\"\n",
    "levels(test$Dependents)[4] <- \"3\""
   ]
  },
  {
   "cell_type": "markdown",
   "metadata": {},
   "source": [
    "### Missing Value Imputation"
   ]
  },
  {
   "cell_type": "code",
   "execution_count": 25,
   "metadata": {
    "collapsed": true
   },
   "outputs": [],
   "source": [
    "#impute missing values by mean and mode\n",
    "imp <- impute(train, classes = list(factor = imputeMode(), \n",
    "                                    integer = imputeMean()), \n",
    "              dummy.classes = c(\"integer\",\"factor\"), \n",
    "              dummy.type = \"numeric\")\n",
    "\n",
    "imp1 <- impute(test, classes = list(factor = imputeMode(), \n",
    "                                    integer = imputeMean()), \n",
    "               dummy.classes = c(\"integer\",\"factor\"), \n",
    "               dummy.type = \"numeric\")"
   ]
  },
  {
   "cell_type": "code",
   "execution_count": 26,
   "metadata": {
    "collapsed": true
   },
   "outputs": [],
   "source": [
    "imp_train <- imp$data\n",
    "imp_test <- imp1$data"
   ]
  },
  {
   "cell_type": "code",
   "execution_count": 28,
   "metadata": {
    "collapsed": false
   },
   "outputs": [
    {
     "data": {
      "text/html": [
       "<table>\n",
       "<thead><tr><th scope=col>name</th><th scope=col>type</th><th scope=col>na</th><th scope=col>mean</th><th scope=col>disp</th><th scope=col>median</th><th scope=col>mad</th><th scope=col>min</th><th scope=col>max</th><th scope=col>nlevs</th></tr></thead>\n",
       "<tbody>\n",
       "\t<tr><td>Loan_ID               </td><td>factor                </td><td>0                     </td><td>          NA          </td><td>9.983713e-01          </td><td>    NA                </td><td>       NA             </td><td>  1                   </td><td>    1                 </td><td>614                   </td></tr>\n",
       "\t<tr><td>Gender                </td><td>factor                </td><td>0                     </td><td>          NA          </td><td>1.824104e-01          </td><td>    NA                </td><td>       NA             </td><td>112                   </td><td>  502                 </td><td>  2                   </td></tr>\n",
       "\t<tr><td>Married               </td><td>factor                </td><td>0                     </td><td>          NA          </td><td>3.469055e-01          </td><td>    NA                </td><td>       NA             </td><td>213                   </td><td>  401                 </td><td>  2                   </td></tr>\n",
       "\t<tr><td>Dependents            </td><td>factor                </td><td>0                     </td><td>          NA          </td><td>4.136808e-01          </td><td>    NA                </td><td>       NA             </td><td> 51                   </td><td>  360                 </td><td>  4                   </td></tr>\n",
       "\t<tr><td>Education             </td><td>factor                </td><td>0                     </td><td>          NA          </td><td>2.182410e-01          </td><td>    NA                </td><td>       NA             </td><td>134                   </td><td>  480                 </td><td>  2                   </td></tr>\n",
       "\t<tr><td>Self_Employed         </td><td>factor                </td><td>0                     </td><td>          NA          </td><td>1.335505e-01          </td><td>    NA                </td><td>       NA             </td><td> 82                   </td><td>  532                 </td><td>  2                   </td></tr>\n",
       "\t<tr><td>ApplicantIncome       </td><td>numeric               </td><td>0                     </td><td>5.403459e+03          </td><td>6.109042e+03          </td><td>3812.5                </td><td>1822.8567             </td><td>150                   </td><td>81000                 </td><td>  0                   </td></tr>\n",
       "\t<tr><td>CoapplicantIncome     </td><td>numeric               </td><td>0                     </td><td>1.621246e+03          </td><td>2.926248e+03          </td><td>1188.5                </td><td>1762.0701             </td><td>  0                   </td><td>41667                 </td><td>  0                   </td></tr>\n",
       "\t<tr><td>LoanAmount            </td><td>numeric               </td><td>0                     </td><td>1.464122e+02          </td><td>8.403747e+01          </td><td> 129.0                </td><td>  45.2193             </td><td>  9                   </td><td>  700                 </td><td>  0                   </td></tr>\n",
       "\t<tr><td>Loan_Amount_Term      </td><td>numeric               </td><td>0                     </td><td>3.420000e+02          </td><td>6.437249e+01          </td><td> 360.0                </td><td>   0.0000             </td><td> 12                   </td><td>  480                 </td><td>  0                   </td></tr>\n",
       "\t<tr><td>Credit_History        </td><td>factor                </td><td>0                     </td><td>          NA          </td><td>1.449511e-01          </td><td>    NA                </td><td>       NA             </td><td> 89                   </td><td>  525                 </td><td>  2                   </td></tr>\n",
       "\t<tr><td>Property_Area         </td><td>factor                </td><td>0                     </td><td>          NA          </td><td>6.205212e-01          </td><td>    NA                </td><td>       NA             </td><td>179                   </td><td>  233                 </td><td>  3                   </td></tr>\n",
       "\t<tr><td>Loan_Status           </td><td>factor                </td><td>0                     </td><td>          NA          </td><td>3.127036e-01          </td><td>    NA                </td><td>       NA             </td><td>192                   </td><td>  422                 </td><td>  2                   </td></tr>\n",
       "\t<tr><td>Gender.dummy          </td><td>numeric               </td><td>0                     </td><td>2.117264e-02          </td><td>1.440769e-01          </td><td>   0.0                </td><td>   0.0000             </td><td>  0                   </td><td>    1                 </td><td>  0                   </td></tr>\n",
       "\t<tr><td>Married.dummy         </td><td>numeric               </td><td>0                     </td><td>4.885993e-03          </td><td>6.978576e-02          </td><td>   0.0                </td><td>   0.0000             </td><td>  0                   </td><td>    1                 </td><td>  0                   </td></tr>\n",
       "\t<tr><td>Dependents.dummy      </td><td>numeric               </td><td>0                     </td><td>2.442997e-02          </td><td>1.545057e-01          </td><td>   0.0                </td><td>   0.0000             </td><td>  0                   </td><td>    1                 </td><td>  0                   </td></tr>\n",
       "\t<tr><td>Self_Employed.dummy   </td><td>numeric               </td><td>0                     </td><td>5.211726e-02          </td><td>2.224447e-01          </td><td>   0.0                </td><td>   0.0000             </td><td>  0                   </td><td>    1                 </td><td>  0                   </td></tr>\n",
       "\t<tr><td>LoanAmount.dummy      </td><td>numeric               </td><td>0                     </td><td>3.583062e-02          </td><td>1.860192e-01          </td><td>   0.0                </td><td>   0.0000             </td><td>  0                   </td><td>    1                 </td><td>  0                   </td></tr>\n",
       "\t<tr><td>Loan_Amount_Term.dummy</td><td>numeric               </td><td>0                     </td><td>2.280130e-02          </td><td>1.493913e-01          </td><td>   0.0                </td><td>   0.0000             </td><td>  0                   </td><td>    1                 </td><td>  0                   </td></tr>\n",
       "\t<tr><td>Credit_History.dummy  </td><td>numeric               </td><td>0                     </td><td>8.143322e-02          </td><td>2.737223e-01          </td><td>   0.0                </td><td>   0.0000             </td><td>  0                   </td><td>    1                 </td><td>  0                   </td></tr>\n",
       "</tbody>\n",
       "</table>\n"
      ],
      "text/latex": [
       "\\begin{tabular}{r|llllllllll}\n",
       " name & type & na & mean & disp & median & mad & min & max & nlevs\\\\\n",
       "\\hline\n",
       "\t Loan\\_ID                & factor                   & 0                        &           NA             & 9.983713e-01             &     NA                   &        NA                &   1                      &     1                    & 614                     \\\\\n",
       "\t Gender                 & factor                 & 0                      &           NA           & 1.824104e-01           &     NA                 &        NA              & 112                    &   502                  &   2                   \\\\\n",
       "\t Married                & factor                 & 0                      &           NA           & 3.469055e-01           &     NA                 &        NA              & 213                    &   401                  &   2                   \\\\\n",
       "\t Dependents             & factor                 & 0                      &           NA           & 4.136808e-01           &     NA                 &        NA              &  51                    &   360                  &   4                   \\\\\n",
       "\t Education              & factor                 & 0                      &           NA           & 2.182410e-01           &     NA                 &        NA              & 134                    &   480                  &   2                   \\\\\n",
       "\t Self\\_Employed          & factor                   & 0                        &           NA             & 1.335505e-01             &     NA                   &        NA                &  82                      &   532                    &   2                     \\\\\n",
       "\t ApplicantIncome        & numeric                & 0                      & 5.403459e+03           & 6.109042e+03           & 3812.5                 & 1822.8567              & 150                    & 81000                  &   0                   \\\\\n",
       "\t CoapplicantIncome      & numeric                & 0                      & 1.621246e+03           & 2.926248e+03           & 1188.5                 & 1762.0701              &   0                    & 41667                  &   0                   \\\\\n",
       "\t LoanAmount             & numeric                & 0                      & 1.464122e+02           & 8.403747e+01           &  129.0                 &   45.2193              &   9                    &   700                  &   0                   \\\\\n",
       "\t Loan\\_Amount\\_Term       & numeric                    & 0                          & 3.420000e+02               & 6.437249e+01               &  360.0                     &    0.0000                  &  12                        &   480                      &   0                       \\\\\n",
       "\t Credit\\_History         & factor                   & 0                        &           NA             & 1.449511e-01             &     NA                   &        NA                &  89                      &   525                    &   2                     \\\\\n",
       "\t Property\\_Area          & factor                   & 0                        &           NA             & 6.205212e-01             &     NA                   &        NA                & 179                      &   233                    &   3                     \\\\\n",
       "\t Loan\\_Status            & factor                   & 0                        &           NA             & 3.127036e-01             &     NA                   &        NA                & 192                      &   422                    &   2                     \\\\\n",
       "\t Gender.dummy           & numeric                & 0                      & 2.117264e-02           & 1.440769e-01           &    0.0                 &    0.0000              &   0                    &     1                  &   0                   \\\\\n",
       "\t Married.dummy          & numeric                & 0                      & 4.885993e-03           & 6.978576e-02           &    0.0                 &    0.0000              &   0                    &     1                  &   0                   \\\\\n",
       "\t Dependents.dummy       & numeric                & 0                      & 2.442997e-02           & 1.545057e-01           &    0.0                 &    0.0000              &   0                    &     1                  &   0                   \\\\\n",
       "\t Self\\_Employed.dummy    & numeric                  & 0                        & 5.211726e-02             & 2.224447e-01             &    0.0                   &    0.0000                &   0                      &     1                    &   0                     \\\\\n",
       "\t LoanAmount.dummy       & numeric                & 0                      & 3.583062e-02           & 1.860192e-01           &    0.0                 &    0.0000              &   0                    &     1                  &   0                   \\\\\n",
       "\t Loan\\_Amount\\_Term.dummy & numeric                    & 0                          & 2.280130e-02               & 1.493913e-01               &    0.0                     &    0.0000                  &   0                        &     1                      &   0                       \\\\\n",
       "\t Credit\\_History.dummy   & numeric                  & 0                        & 8.143322e-02             & 2.737223e-01             &    0.0                   &    0.0000                &   0                      &     1                    &   0                     \\\\\n",
       "\\end{tabular}\n"
      ],
      "text/plain": [
       "   name                   type    na mean         disp         median mad      \n",
       "1  Loan_ID                factor  0            NA 9.983713e-01     NA        NA\n",
       "2  Gender                 factor  0            NA 1.824104e-01     NA        NA\n",
       "3  Married                factor  0            NA 3.469055e-01     NA        NA\n",
       "4  Dependents             factor  0            NA 4.136808e-01     NA        NA\n",
       "5  Education              factor  0            NA 2.182410e-01     NA        NA\n",
       "6  Self_Employed          factor  0            NA 1.335505e-01     NA        NA\n",
       "7  ApplicantIncome        numeric 0  5.403459e+03 6.109042e+03 3812.5 1822.8567\n",
       "8  CoapplicantIncome      numeric 0  1.621246e+03 2.926248e+03 1188.5 1762.0701\n",
       "9  LoanAmount             numeric 0  1.464122e+02 8.403747e+01  129.0   45.2193\n",
       "10 Loan_Amount_Term       numeric 0  3.420000e+02 6.437249e+01  360.0    0.0000\n",
       "11 Credit_History         factor  0            NA 1.449511e-01     NA        NA\n",
       "12 Property_Area          factor  0            NA 6.205212e-01     NA        NA\n",
       "13 Loan_Status            factor  0            NA 3.127036e-01     NA        NA\n",
       "14 Gender.dummy           numeric 0  2.117264e-02 1.440769e-01    0.0    0.0000\n",
       "15 Married.dummy          numeric 0  4.885993e-03 6.978576e-02    0.0    0.0000\n",
       "16 Dependents.dummy       numeric 0  2.442997e-02 1.545057e-01    0.0    0.0000\n",
       "17 Self_Employed.dummy    numeric 0  5.211726e-02 2.224447e-01    0.0    0.0000\n",
       "18 LoanAmount.dummy       numeric 0  3.583062e-02 1.860192e-01    0.0    0.0000\n",
       "19 Loan_Amount_Term.dummy numeric 0  2.280130e-02 1.493913e-01    0.0    0.0000\n",
       "20 Credit_History.dummy   numeric 0  8.143322e-02 2.737223e-01    0.0    0.0000\n",
       "   min max   nlevs\n",
       "1    1     1 614  \n",
       "2  112   502   2  \n",
       "3  213   401   2  \n",
       "4   51   360   4  \n",
       "5  134   480   2  \n",
       "6   82   532   2  \n",
       "7  150 81000   0  \n",
       "8    0 41667   0  \n",
       "9    9   700   0  \n",
       "10  12   480   0  \n",
       "11  89   525   2  \n",
       "12 179   233   3  \n",
       "13 192   422   2  \n",
       "14   0     1   0  \n",
       "15   0     1   0  \n",
       "16   0     1   0  \n",
       "17   0     1   0  \n",
       "18   0     1   0  \n",
       "19   0     1   0  \n",
       "20   0     1   0  "
      ]
     },
     "execution_count": 28,
     "metadata": {},
     "output_type": "execute_result"
    }
   ],
   "source": [
    "summarizeColumns(imp_train)"
   ]
  },
  {
   "cell_type": "code",
   "execution_count": 29,
   "metadata": {
    "collapsed": false
   },
   "outputs": [
    {
     "data": {
      "text/html": [
       "<table>\n",
       "<thead><tr><th scope=col>name</th><th scope=col>type</th><th scope=col>na</th><th scope=col>mean</th><th scope=col>disp</th><th scope=col>median</th><th scope=col>mad</th><th scope=col>min</th><th scope=col>max</th><th scope=col>nlevs</th></tr></thead>\n",
       "<tbody>\n",
       "\t<tr><td>Loan_ID               </td><td>factor                </td><td>0                     </td><td>          NA          </td><td>   0.9972752          </td><td>  NA                  </td><td>       NA             </td><td>  1                   </td><td>    1                 </td><td>367                   </td></tr>\n",
       "\t<tr><td>Gender                </td><td>factor                </td><td>0                     </td><td>          NA          </td><td>   0.1907357          </td><td>  NA                  </td><td>       NA             </td><td> 70                   </td><td>  297                 </td><td>  2                   </td></tr>\n",
       "\t<tr><td>Married               </td><td>factor                </td><td>0                     </td><td>          NA          </td><td>   0.3651226          </td><td>  NA                  </td><td>       NA             </td><td>134                   </td><td>  233                 </td><td>  2                   </td></tr>\n",
       "\t<tr><td>Dependents            </td><td>factor                </td><td>0                     </td><td>          NA          </td><td>   0.4277929          </td><td>  NA                  </td><td>       NA             </td><td> 40                   </td><td>  210                 </td><td>  4                   </td></tr>\n",
       "\t<tr><td>Education             </td><td>factor                </td><td>0                     </td><td>          NA          </td><td>   0.2288828          </td><td>  NA                  </td><td>       NA             </td><td> 84                   </td><td>  283                 </td><td>  2                   </td></tr>\n",
       "\t<tr><td>Self_Employed         </td><td>factor                </td><td>0                     </td><td>          NA          </td><td>   0.1008174          </td><td>  NA                  </td><td>       NA             </td><td> 37                   </td><td>  330                 </td><td>  2                   </td></tr>\n",
       "\t<tr><td>ApplicantIncome       </td><td>numeric               </td><td>0                     </td><td>4.805599e+03          </td><td>4910.6853990          </td><td>3786                  </td><td>1598.2428             </td><td>  0                   </td><td>72529                 </td><td>  0                   </td></tr>\n",
       "\t<tr><td>CoapplicantIncome     </td><td>numeric               </td><td>0                     </td><td>1.569578e+03          </td><td>2334.2320987          </td><td>1025                  </td><td>1519.6650             </td><td>  0                   </td><td>24000                 </td><td>  0                   </td></tr>\n",
       "\t<tr><td>LoanAmount            </td><td>numeric               </td><td>0                     </td><td>1.361326e+02          </td><td>  60.9460398          </td><td> 126                  </td><td>  38.5476             </td><td> 28                   </td><td>  550                 </td><td>  0                   </td></tr>\n",
       "\t<tr><td>Loan_Amount_Term      </td><td>numeric               </td><td>0                     </td><td>3.425374e+02          </td><td>  64.6203656          </td><td> 360                  </td><td>   0.0000             </td><td>  6                   </td><td>  480                 </td><td>  0                   </td></tr>\n",
       "\t<tr><td>Credit_History        </td><td>factor                </td><td>0                     </td><td>          NA          </td><td>   0.1607629          </td><td>  NA                  </td><td>       NA             </td><td> 59                   </td><td>  308                 </td><td>  2                   </td></tr>\n",
       "\t<tr><td>Property_Area         </td><td>factor                </td><td>0                     </td><td>          NA          </td><td>   0.6185286          </td><td>  NA                  </td><td>       NA             </td><td>111                   </td><td>  140                 </td><td>  3                   </td></tr>\n",
       "\t<tr><td>Gender.dummy          </td><td>numeric               </td><td>0                     </td><td>2.997275e-02          </td><td>   0.1707449          </td><td>   0                  </td><td>   0.0000             </td><td>  0                   </td><td>    1                 </td><td>  0                   </td></tr>\n",
       "\t<tr><td>Dependents.dummy      </td><td>numeric               </td><td>0                     </td><td>2.724796e-02          </td><td>   0.1630274          </td><td>   0                  </td><td>   0.0000             </td><td>  0                   </td><td>    1                 </td><td>  0                   </td></tr>\n",
       "\t<tr><td>Self_Employed.dummy   </td><td>numeric               </td><td>0                     </td><td>6.267030e-02          </td><td>   0.2426999          </td><td>   0                  </td><td>   0.0000             </td><td>  0                   </td><td>    1                 </td><td>  0                   </td></tr>\n",
       "\t<tr><td>LoanAmount.dummy      </td><td>numeric               </td><td>0                     </td><td>1.362398e-02          </td><td>   0.1160822          </td><td>   0                  </td><td>   0.0000             </td><td>  0                   </td><td>    1                 </td><td>  0                   </td></tr>\n",
       "\t<tr><td>Loan_Amount_Term.dummy</td><td>numeric               </td><td>0                     </td><td>1.634877e-02          </td><td>   0.1269859          </td><td>   0                  </td><td>   0.0000             </td><td>  0                   </td><td>    1                 </td><td>  0                   </td></tr>\n",
       "\t<tr><td>Credit_History.dummy  </td><td>numeric               </td><td>0                     </td><td>7.901907e-02          </td><td>   0.2701368          </td><td>   0                  </td><td>   0.0000             </td><td>  0                   </td><td>    1                 </td><td>  0                   </td></tr>\n",
       "</tbody>\n",
       "</table>\n"
      ],
      "text/latex": [
       "\\begin{tabular}{r|llllllllll}\n",
       " name & type & na & mean & disp & median & mad & min & max & nlevs\\\\\n",
       "\\hline\n",
       "\t Loan\\_ID                & factor                   & 0                        &           NA             &    0.9972752             &   NA                     &        NA                &   1                      &     1                    & 367                     \\\\\n",
       "\t Gender                 & factor                 & 0                      &           NA           &    0.1907357           &   NA                   &        NA              &  70                    &   297                  &   2                   \\\\\n",
       "\t Married                & factor                 & 0                      &           NA           &    0.3651226           &   NA                   &        NA              & 134                    &   233                  &   2                   \\\\\n",
       "\t Dependents             & factor                 & 0                      &           NA           &    0.4277929           &   NA                   &        NA              &  40                    &   210                  &   4                   \\\\\n",
       "\t Education              & factor                 & 0                      &           NA           &    0.2288828           &   NA                   &        NA              &  84                    &   283                  &   2                   \\\\\n",
       "\t Self\\_Employed          & factor                   & 0                        &           NA             &    0.1008174             &   NA                     &        NA                &  37                      &   330                    &   2                     \\\\\n",
       "\t ApplicantIncome        & numeric                & 0                      & 4.805599e+03           & 4910.6853990           & 3786                   & 1598.2428              &   0                    & 72529                  &   0                   \\\\\n",
       "\t CoapplicantIncome      & numeric                & 0                      & 1.569578e+03           & 2334.2320987           & 1025                   & 1519.6650              &   0                    & 24000                  &   0                   \\\\\n",
       "\t LoanAmount             & numeric                & 0                      & 1.361326e+02           &   60.9460398           &  126                   &   38.5476              &  28                    &   550                  &   0                   \\\\\n",
       "\t Loan\\_Amount\\_Term       & numeric                    & 0                          & 3.425374e+02               &   64.6203656               &  360                       &    0.0000                  &   6                        &   480                      &   0                       \\\\\n",
       "\t Credit\\_History         & factor                   & 0                        &           NA             &    0.1607629             &   NA                     &        NA                &  59                      &   308                    &   2                     \\\\\n",
       "\t Property\\_Area          & factor                   & 0                        &           NA             &    0.6185286             &   NA                     &        NA                & 111                      &   140                    &   3                     \\\\\n",
       "\t Gender.dummy           & numeric                & 0                      & 2.997275e-02           &    0.1707449           &    0                   &    0.0000              &   0                    &     1                  &   0                   \\\\\n",
       "\t Dependents.dummy       & numeric                & 0                      & 2.724796e-02           &    0.1630274           &    0                   &    0.0000              &   0                    &     1                  &   0                   \\\\\n",
       "\t Self\\_Employed.dummy    & numeric                  & 0                        & 6.267030e-02             &    0.2426999             &    0                     &    0.0000                &   0                      &     1                    &   0                     \\\\\n",
       "\t LoanAmount.dummy       & numeric                & 0                      & 1.362398e-02           &    0.1160822           &    0                   &    0.0000              &   0                    &     1                  &   0                   \\\\\n",
       "\t Loan\\_Amount\\_Term.dummy & numeric                    & 0                          & 1.634877e-02               &    0.1269859               &    0                       &    0.0000                  &   0                        &     1                      &   0                       \\\\\n",
       "\t Credit\\_History.dummy   & numeric                  & 0                        & 7.901907e-02             &    0.2701368             &    0                     &    0.0000                &   0                      &     1                    &   0                     \\\\\n",
       "\\end{tabular}\n"
      ],
      "text/plain": [
       "   name                   type    na mean         disp         median mad      \n",
       "1  Loan_ID                factor  0            NA    0.9972752   NA          NA\n",
       "2  Gender                 factor  0            NA    0.1907357   NA          NA\n",
       "3  Married                factor  0            NA    0.3651226   NA          NA\n",
       "4  Dependents             factor  0            NA    0.4277929   NA          NA\n",
       "5  Education              factor  0            NA    0.2288828   NA          NA\n",
       "6  Self_Employed          factor  0            NA    0.1008174   NA          NA\n",
       "7  ApplicantIncome        numeric 0  4.805599e+03 4910.6853990 3786   1598.2428\n",
       "8  CoapplicantIncome      numeric 0  1.569578e+03 2334.2320987 1025   1519.6650\n",
       "9  LoanAmount             numeric 0  1.361326e+02   60.9460398  126     38.5476\n",
       "10 Loan_Amount_Term       numeric 0  3.425374e+02   64.6203656  360      0.0000\n",
       "11 Credit_History         factor  0            NA    0.1607629   NA          NA\n",
       "12 Property_Area          factor  0            NA    0.6185286   NA          NA\n",
       "13 Gender.dummy           numeric 0  2.997275e-02    0.1707449    0      0.0000\n",
       "14 Dependents.dummy       numeric 0  2.724796e-02    0.1630274    0      0.0000\n",
       "15 Self_Employed.dummy    numeric 0  6.267030e-02    0.2426999    0      0.0000\n",
       "16 LoanAmount.dummy       numeric 0  1.362398e-02    0.1160822    0      0.0000\n",
       "17 Loan_Amount_Term.dummy numeric 0  1.634877e-02    0.1269859    0      0.0000\n",
       "18 Credit_History.dummy   numeric 0  7.901907e-02    0.2701368    0      0.0000\n",
       "   min max   nlevs\n",
       "1    1     1 367  \n",
       "2   70   297   2  \n",
       "3  134   233   2  \n",
       "4   40   210   4  \n",
       "5   84   283   2  \n",
       "6   37   330   2  \n",
       "7    0 72529   0  \n",
       "8    0 24000   0  \n",
       "9   28   550   0  \n",
       "10   6   480   0  \n",
       "11  59   308   2  \n",
       "12 111   140   3  \n",
       "13   0     1   0  \n",
       "14   0     1   0  \n",
       "15   0     1   0  \n",
       "16   0     1   0  \n",
       "17   0     1   0  \n",
       "18   0     1   0  "
      ]
     },
     "execution_count": 29,
     "metadata": {},
     "output_type": "execute_result"
    }
   ],
   "source": [
    "summarizeColumns(imp_test)"
   ]
  },
  {
   "cell_type": "code",
   "execution_count": 30,
   "metadata": {
    "collapsed": false
   },
   "outputs": [
    {
     "name": "stderr",
     "output_type": "stream",
     "text": [
      "Warning message:\n",
      "In listLearners.character(\"classif\", check.packages = TRUE, properties = \"missings\"): The following learners could not be constructed, probably because their packages are not installed:\n",
      "classif.ada,classif.bartMachine,classif.bdk,classif.blackboost,classif.boosting,classif.bst,classif.C50,classif.cforest,classif.clusterSVM,classif.ctree,classif.cvglmnet,classif.dbnDNN,classif.dcSVM,classif.extraTrees,classif.fnn,classif.gaterSVM,classif.gausspr,classif.gbm,classif.geoDA,classif.glmboost,classif.glmnet,classif.h2o.deeplearning,classif.h2o.gbm,classif.h2o.glm,classif.h2o.randomForest,classif.hdrda,classif.IBk,classif.J48,classif.JRip,classif.kknn,classif.ksvm,classif.LiblineaRL1L2SVC,classif.LiblineaRL1LogReg,classif.LiblineaRL2L1SVC,classif.LiblineaRL2LogReg,classif.LiblineaRL2SVC,classif.LiblineaRMultiClassSVC,classif.linDA,classif.lqa,classif.lssvm,classif.mda,classif.mlp,classif.naiveBayes,classif.neuralnet,classif.nnTrain,classif.nodeHarvest,classif.OneR,classif.pamr,classif.PART,classif.penalized.fusedlasso,classif.penalized.lasso,classif.penalized.ridge,classif.plr,classif.plsdaCaret,classif.quaDA,classif.randomForest,classif.randomForestSRC,classif.randomForestSRCSyn,classif.ranger,classif.rda,classif.rFerns,classif.rknn,classif.rotationForest,classif.RRF,classif.rrlda,classif.saeDNN,classif.sda,classif.sparseLDA,classif.svm,classif.xgboost,classif.xyf,cluster.cmeans,cluster.Cobweb,cluster.dbscan,cluster.EM,cluster.FarthestFirst,cluster.kkmeans,cluster.kmeans,cluster.SimpleKMeans,cluster.XMeans,multilabel.randomForestSRC,multilabel.rFerns,regr.bcart,regr.bdk,regr.bgp,regr.bgpllm,regr.blackboost,regr.blm,regr.brnn,regr.bst,regr.btgp,regr.btgpllm,regr.btlm,regr.cforest,regr.crs,regr.ctree,regr.cubist,regr.earth,regr.elmNN,regr.extraTrees,regr.fnn,regr.frbs,regr.gausspr,regr.gbm,regr.glmboost,regr.glmnet,regr.GPfit,regr.h2o.deeplearning,regr.h2o.gbm,regr.h2o.glm,regr.h2o.randomForest,regr.IBk,regr.kknn,regr.km,regr.ksvm,regr.laGP,regr.LiblineaRL2L1SVR,regr.LiblineaRL2L2SVR,regr.mars,regr.mob,regr.nodeHarvest,regr.pcr,regr.penalized.fusedlasso,regr.penalized.lasso,regr.penalized.ridge,regr.plsr,regr.randomForest,regr.randomForestSRC,regr.randomForestSRCSyn,regr.ranger,regr.rknn,regr.RRF,regr.rsm,regr.rvm,regr.slim,regr.svm,regr.xgboost,regr.xyf,surv.cforest,surv.CoxBoost,surv.cv.CoxBoost,surv.cvglmnet,surv.glmboost,surv.glmnet,surv.penalized.fusedlasso,surv.penalized.lasso,surv.penalized.ridge,surv.randomForestSRC,surv.ranger\n",
      "Check ?learners to see which packages you need or install mlr with all suggestions."
     ]
    },
    {
     "data": {
      "text/html": [
       "<table>\n",
       "<thead><tr><th scope=col>class</th><th scope=col>package</th></tr></thead>\n",
       "<tbody>\n",
       "\t<tr><td>classif.rpart</td><td>rpart        </td></tr>\n",
       "</tbody>\n",
       "</table>\n"
      ],
      "text/latex": [
       "\\begin{tabular}{r|ll}\n",
       " class & package\\\\\n",
       "\\hline\n",
       "\t classif.rpart & rpart        \\\\\n",
       "\\end{tabular}\n"
      ],
      "text/plain": [
       "  class         package\n",
       "1 classif.rpart rpart  "
      ]
     },
     "execution_count": 30,
     "metadata": {},
     "output_type": "execute_result"
    }
   ],
   "source": [
    "listLearners(\"classif\", check.packages = TRUE, properties = \"missings\")[c(\"class\",\"package\")]"
   ]
  },
  {
   "cell_type": "code",
   "execution_count": null,
   "metadata": {
    "collapsed": true
   },
   "outputs": [],
   "source": [
    "rpart_imp <- impute(train, target = \"Loan_Status\",\n",
    "                    classes = list(numeric = imputeLearner(makeLearner(\"regr.rpart\")),\n",
    "                                   factor = imputeLearner(makeLearner(\"classif.rpart\"))),\n",
    "                    dummy.classes = c(\"numeric\",\"factor\"),dummy.type = \"numeric\")"
   ]
  },
  {
   "cell_type": "markdown",
   "metadata": {},
   "source": [
    "### Feature Engineering"
   ]
  },
  {
   "cell_type": "code",
   "execution_count": null,
   "metadata": {
    "collapsed": true
   },
   "outputs": [],
   "source": [
    "#for train data set\n",
    "cd <- capLargeValues(imp_train, target = \"Loan_Status\",cols = c(\"ApplicantIncome\"),threshold = 40000)\n",
    "cd <- capLargeValues(cd, target = \"Loan_Status\",cols = c(\"CoapplicantIncome\"),threshold = 21000)\n",
    "cd <- capLargeValues(cd, target = \"Loan_Status\",cols = c(\"LoanAmount\"),threshold = 520)"
   ]
  },
  {
   "cell_type": "code",
   "execution_count": null,
   "metadata": {
    "collapsed": true
   },
   "outputs": [],
   "source": [
    "#rename the train data as cd_train\n",
    "cd_train <- cd"
   ]
  },
  {
   "cell_type": "code",
   "execution_count": null,
   "metadata": {
    "collapsed": true
   },
   "outputs": [],
   "source": [
    "#add a dummy Loan_Status column in test data\n",
    "imp_test$Loan_Status <- sample(0:1,size = 367,replace = T)\n",
    "\n",
    "cde <- capLargeValues(imp_test, target = \"Loan_Status\",cols = c(\"ApplicantIncome\"),threshold = 33000)\n",
    "cde <- capLargeValues(cde, target = \"Loan_Status\",cols = c(\"CoapplicantIncome\"),threshold = 16000)\n",
    "cde <- capLargeValues(cde, target = \"Loan_Status\",cols = c(\"LoanAmount\"),threshold = 470)\n",
    "\n",
    "#renaming test data\n",
    "cd_test <- cde"
   ]
  },
  {
   "cell_type": "code",
   "execution_count": null,
   "metadata": {
    "collapsed": true
   },
   "outputs": [],
   "source": [
    "summary(cd_train$ApplicantIncome)"
   ]
  },
  {
   "cell_type": "code",
   "execution_count": null,
   "metadata": {
    "collapsed": true
   },
   "outputs": [],
   "source": [
    "#convert numeric to factor - train\n",
    "for (f in names(cd_train[, c(14:20)])) \n",
    "{\n",
    "    if( class(cd_train[, c(14:20)] [[f]]) == \"numeric\")\n",
    "    {\n",
    "        levels <- unique(cd_train[, c(14:20)][[f]])\n",
    "        cd_train[, c(14:20)][[f]] <- as.factor(factor(cd_train[, c(14:20)][[f]], levels = levels))\n",
    "    }\n",
    "}"
   ]
  },
  {
   "cell_type": "code",
   "execution_count": null,
   "metadata": {
    "collapsed": true
   },
   "outputs": [],
   "source": [
    "#convert numeric to factor - test\n",
    "for (f in names(cd_test[, c(13:18)]))\n",
    "{\n",
    "    if( class(cd_test[, c(13:18)] [[f]]) == \"numeric\")\n",
    "    {\n",
    "        levels <- unique(cd_test[, c(13:18)][[f]])\n",
    "        cd_test[, c(13:18)][[f]] <- as.factor(factor(cd_test[, c(13:18)][[f]], levels = levels))\n",
    "    }\n",
    "}"
   ]
  },
  {
   "cell_type": "code",
   "execution_count": null,
   "metadata": {
    "collapsed": true
   },
   "outputs": [],
   "source": [
    "#Total_Income\n",
    "cd_train$Total_Income <- cd_train$ApplicantIncome + cd_train$CoapplicantIncome\n",
    "cd_test$Total_Income <- cd_test$ApplicantIncome + cd_test$CoapplicantIncome\n",
    "\n",
    "#Income by loan\n",
    "cd_train$Income_by_loan <- cd_train$Total_Income/cd_train$LoanAmount\n",
    "cd_test$Income_by_loan <- cd_test$Total_Income/cd_test$LoanAmount\n",
    "\n",
    "#change variable class\n",
    "cd_train$Loan_Amount_Term <- as.numeric(cd_train$Loan_Amount_Term)\n",
    "cd_test$Loan_Amount_Term <- as.numeric(cd_test$Loan_Amount_Term)\n",
    "\n",
    "#Loan amount by term\n",
    "cd_train$Loan_amount_by_term <- cd_train$LoanAmount/cd_train$Loan_Amount_Term\n",
    "cd_test$Loan_amount_by_term <- cd_test$LoanAmount/cd_test$Loan_Amount_Term"
   ]
  },
  {
   "cell_type": "code",
   "execution_count": null,
   "metadata": {
    "collapsed": true
   },
   "outputs": [],
   "source": [
    "#splitting the data based on class\n",
    "az <- split(names(cd_train), sapply(cd_train, function(x){ class(x)}))\n",
    "\n",
    "#creating a data frame of numeric variables\n",
    "xs <- cd_train[az$numeric]\n",
    "\n",
    "#check correlation\n",
    "cor(xs)"
   ]
  },
  {
   "cell_type": "code",
   "execution_count": null,
   "metadata": {
    "collapsed": true
   },
   "outputs": [],
   "source": [
    "cd_train$Total_Income <- NULL\n",
    "cd_test$Total_Income <- NULL"
   ]
  },
  {
   "cell_type": "code",
   "execution_count": null,
   "metadata": {
    "collapsed": true
   },
   "outputs": [],
   "source": [
    "summarizeColumns(cd_train)\n",
    "summarizeColumns(cd_test)"
   ]
  },
  {
   "cell_type": "markdown",
   "metadata": {},
   "source": [
    "### Machine Learning"
   ]
  },
  {
   "cell_type": "code",
   "execution_count": null,
   "metadata": {
    "collapsed": true
   },
   "outputs": [],
   "source": [
    "#create a task\n",
    "trainTask <- makeClassifTask(data = cd_train,target = \"Loan_Status\")\n",
    "testTask <- makeClassifTask(data = cd_test, target = \"Loan_Status\")"
   ]
  },
  {
   "cell_type": "code",
   "execution_count": null,
   "metadata": {
    "collapsed": true
   },
   "outputs": [],
   "source": [
    "trainTask"
   ]
  },
  {
   "cell_type": "code",
   "execution_count": null,
   "metadata": {
    "collapsed": true
   },
   "outputs": [],
   "source": [
    "trainTask <- makeClassifTask(data = cd_train,target = \"Loan_Status\", positive = \"Y\")"
   ]
  },
  {
   "cell_type": "code",
   "execution_count": null,
   "metadata": {
    "collapsed": true
   },
   "outputs": [],
   "source": [
    "str(getTaskData(trainTask))"
   ]
  },
  {
   "cell_type": "code",
   "execution_count": null,
   "metadata": {
    "collapsed": true
   },
   "outputs": [],
   "source": [
    "#normalize the variables\n",
    "trainTask <- normalizeFeatures(trainTask,method = \"standardize\")\n",
    "testTask <- normalizeFeatures(testTask,method = \"standardize\")"
   ]
  },
  {
   "cell_type": "code",
   "execution_count": null,
   "metadata": {
    "collapsed": true
   },
   "outputs": [],
   "source": [
    "trainTask <- dropFeatures(task = trainTask,features = c(\"Loan_ID\",\"Married.dummy\"))"
   ]
  },
  {
   "cell_type": "code",
   "execution_count": null,
   "metadata": {
    "collapsed": true
   },
   "outputs": [],
   "source": [
    "#Feature importance\n",
    "im_feat <- generateFilterValuesData(trainTask, method = c(\"information.gain\",\"chi.squared\"))\n",
    "plotFilterValues(im_feat,n.show = 20)"
   ]
  },
  {
   "cell_type": "code",
   "execution_count": null,
   "metadata": {
    "collapsed": true
   },
   "outputs": [],
   "source": [
    "#to launch its shiny application\n",
    "plotFilterValuesGGVIS(im_feat)"
   ]
  },
  {
   "cell_type": "markdown",
   "metadata": {},
   "source": [
    "#### 1. Quadratic Discriminant Analysis (QDA)."
   ]
  },
  {
   "cell_type": "code",
   "execution_count": null,
   "metadata": {
    "collapsed": true
   },
   "outputs": [],
   "source": [
    "#load qda \n",
    "qda.learner <- makeLearner(\"classif.qda\", predict.type = \"response\")\n",
    "\n",
    "#train model\n",
    "qmodel <- train(qda.learner, trainTask)\n",
    "\n",
    "#predict on test data\n",
    "qpredict <- predict(qmodel, testTask)\n",
    "\n",
    "#create submission file\n",
    "submit <- data.frame(Loan_ID = test$Loan_ID, Loan_Status = qpredict$data$response)\n",
    "write.csv(submit, \"submit1.csv\",row.names = F)"
   ]
  },
  {
   "cell_type": "markdown",
   "metadata": {},
   "source": [
    "#### 2. Logistic Regression"
   ]
  },
  {
   "cell_type": "code",
   "execution_count": null,
   "metadata": {
    "collapsed": true
   },
   "outputs": [],
   "source": [
    "#logistic regression\n",
    "logistic.learner <- makeLearner(\"classif.logreg\",predict.type = \"response\")\n",
    "\n",
    "#cross validation (cv) accuracy\n",
    "cv.logistic <- crossval(learner = logistic.learner,task = trainTask,iters = 3,stratify = TRUE,measures = acc,show.info = F)"
   ]
  },
  {
   "cell_type": "code",
   "execution_count": null,
   "metadata": {
    "collapsed": true
   },
   "outputs": [],
   "source": [
    "#cross validation accuracy\n",
    "cv.logistic$aggr"
   ]
  },
  {
   "cell_type": "code",
   "execution_count": null,
   "metadata": {
    "collapsed": true
   },
   "outputs": [],
   "source": [
    "cv.logistic$measures.test"
   ]
  },
  {
   "cell_type": "code",
   "execution_count": null,
   "metadata": {
    "collapsed": true
   },
   "outputs": [],
   "source": [
    "#train model\n",
    "fmodel <- train(logistic.learner,trainTask)\n",
    "getLearnerModel(fmodel)\n",
    "\n",
    "#predict on test data\n",
    "fpmodel <- predict(fmodel, testTask)\n",
    "\n",
    "#create submission file\n",
    "submit <- data.frame(Loan_ID = test$Loan_ID, Loan_Status = fpmodel$data$response)\n",
    "#write.csv(submit, \"submit2.csv\",row.names = F)"
   ]
  },
  {
   "cell_type": "markdown",
   "metadata": {},
   "source": [
    "#### 3. Decision Tree"
   ]
  },
  {
   "cell_type": "code",
   "execution_count": null,
   "metadata": {
    "collapsed": true
   },
   "outputs": [],
   "source": [
    "getParamSet(\"classif.rpart\")"
   ]
  },
  {
   "cell_type": "code",
   "execution_count": null,
   "metadata": {
    "collapsed": true
   },
   "outputs": [],
   "source": [
    "#make tree learner\n",
    "makeatree <- makeLearner(\"classif.rpart\", predict.type = \"response\")\n",
    "\n",
    "#set 3 fold cross validation\n",
    "set_cv <- makeResampleDesc(\"CV\",iters = 3L)"
   ]
  },
  {
   "cell_type": "code",
   "execution_count": null,
   "metadata": {
    "collapsed": true
   },
   "outputs": [],
   "source": [
    "#Search for hyperparameters\n",
    "gs <- makeParamSet(makeIntegerParam(\"minsplit\",lower = 10, upper = 50),\n",
    "                   makeIntegerParam(\"minbucket\", lower = 5, upper = 50),\n",
    "                   makeNumericParam(\"cp\", lower = 0.001, upper = 0.2))"
   ]
  },
  {
   "cell_type": "code",
   "execution_count": null,
   "metadata": {
    "collapsed": true
   },
   "outputs": [],
   "source": [
    "#do a grid search\n",
    "gscontrol <- makeTuneControlGrid()\n",
    "\n",
    "#hypertune the parameters\n",
    "stune <- tuneParams(learner = makeatree, resampling = set_cv, task = trainTask, par.set = gs, control = gscontrol, measures = acc)"
   ]
  },
  {
   "cell_type": "code",
   "execution_count": null,
   "metadata": {
    "collapsed": true
   },
   "outputs": [],
   "source": [
    "#check best parameter\n",
    "stune$x"
   ]
  },
  {
   "cell_type": "code",
   "execution_count": null,
   "metadata": {
    "collapsed": true
   },
   "outputs": [],
   "source": [
    "#cross validation result\n",
    "stune$y"
   ]
  },
  {
   "cell_type": "code",
   "execution_count": null,
   "metadata": {
    "collapsed": true
   },
   "outputs": [],
   "source": [
    "#using hyperparameters for modeling\n",
    "t.tree <- setHyperPars(makeatree, par.vals = stune$x)\n",
    "\n",
    "#train the model\n",
    "t.rpart <- train(t.tree, trainTask)\n",
    "getLearnerModel(t.rpart)\n",
    "\n",
    "#make predictions\n",
    "tpmodel <- predict(t.rpart, testTask)\n",
    "\n",
    "#create a submission file\n",
    "submit <- data.frame(Loan_ID = test$Loan_ID, Loan_Status = tpmodel$data$response)\n",
    "#write.csv(submit, \"submit3.csv\",row.names = F)"
   ]
  },
  {
   "cell_type": "markdown",
   "metadata": {},
   "source": [
    "#### 4. Random Forest"
   ]
  },
  {
   "cell_type": "code",
   "execution_count": null,
   "metadata": {
    "collapsed": true
   },
   "outputs": [],
   "source": [
    "getParamSet(\"classif.randomForest\")\n",
    "\n",
    "#create a learner\n",
    "rf <- makeLearner(\"classif.randomForest\", predict.type = \"response\", par.vals = list(ntree = 200, mtry = 3))\n",
    "rf$par.vals <- list(\n",
    "importance = TRUE\n",
    ")\n",
    "\n",
    "#set tunable parameters\n",
    "#grid search to find hyperparameters\n",
    "rf_param <- makeParamSet(makeIntegerParam(\"ntree\",lower = 50, upper = 500),\n",
    "                         makeIntegerParam(\"mtry\", lower = 3, upper = 10),\n",
    "                         makeIntegerParam(\"nodesize\", lower = 10, upper = 50))\n",
    "\n",
    "#let's do random search for 50 iterations\n",
    "rancontrol <- makeTuneControlRandom(maxit = 50L)"
   ]
  },
  {
   "cell_type": "code",
   "execution_count": null,
   "metadata": {
    "collapsed": true
   },
   "outputs": [],
   "source": [
    "#set 3 fold cross validation\n",
    "set_cv <- makeResampleDesc(\"CV\",iters = 3L)\n",
    "\n",
    "#hypertuning\n",
    "rf_tune <- tuneParams(learner = rf, resampling = set_cv, task = trainTask, par.set = rf_param, control = rancontrol, measures = acc)"
   ]
  },
  {
   "cell_type": "code",
   "execution_count": null,
   "metadata": {
    "collapsed": true
   },
   "outputs": [],
   "source": [
    "#cv accuracy\n",
    "rf_tune$y"
   ]
  },
  {
   "cell_type": "code",
   "execution_count": null,
   "metadata": {
    "collapsed": true
   },
   "outputs": [],
   "source": [
    "#best parameters\n",
    "rf_tune$x"
   ]
  },
  {
   "cell_type": "code",
   "execution_count": null,
   "metadata": {
    "collapsed": true
   },
   "outputs": [],
   "source": [
    "#using hyperparameters for modeling\n",
    "rf.tree <- setHyperPars(rf, par.vals = rf_tune$x)\n",
    "\n",
    "#train a model\n",
    "rforest <- train(rf.tree, trainTask)\n",
    "getLearnerModel(t.rpart)\n",
    "\n",
    "#make predictions\n",
    "rfmodel <- predict(rforest, testTask)\n",
    "\n",
    "#submission file\n",
    "submit <- data.frame(Loan_ID = test$Loan_ID, Loan_Status = rfmodel$data$response)\n",
    "#write.csv(submit, \"submit4.csv\",row.names = F)"
   ]
  },
  {
   "cell_type": "markdown",
   "metadata": {},
   "source": [
    "#### 5. SVM"
   ]
  },
  {
   "cell_type": "code",
   "execution_count": null,
   "metadata": {
    "collapsed": true
   },
   "outputs": [],
   "source": [
    "#load svm\n",
    "getParamSet(\"classif.ksvm\") #do install kernlab package \n",
    "ksvm <- makeLearner(\"classif.ksvm\", predict.type = \"response\")\n",
    "\n",
    "#Set parameters\n",
    "pssvm <- makeParamSet(makeDiscreteParam(\"C\", values = 2^c(-8,-4,-2,0)), #cost parameters\n",
    "                      makeDiscreteParam(\"sigma\", values = 2^c(-8,-4,0,4)) #RBF Kernel Parameter)"
   ]
  },
  {
   "cell_type": "code",
   "execution_count": null,
   "metadata": {
    "collapsed": true
   },
   "outputs": [],
   "source": [
    "#specify search function\n",
    "ctrl <- makeTuneControlGrid()"
   ]
  },
  {
   "cell_type": "code",
   "execution_count": null,
   "metadata": {
    "collapsed": true
   },
   "outputs": [],
   "source": [
    "#tune model\n",
    "res <- tuneParams(ksvm, task = trainTask, resampling = set_cv, par.set = pssvm, control = ctrl,measures = acc)"
   ]
  },
  {
   "cell_type": "code",
   "execution_count": null,
   "metadata": {
    "collapsed": true
   },
   "outputs": [],
   "source": [
    "#CV accuracy\n",
    "res$y"
   ]
  },
  {
   "cell_type": "code",
   "execution_count": null,
   "metadata": {
    "collapsed": true
   },
   "outputs": [],
   "source": [
    "#set the model with best params\n",
    "t.svm <- setHyperPars(ksvm, par.vals = res$x)"
   ]
  },
  {
   "cell_type": "code",
   "execution_count": null,
   "metadata": {
    "collapsed": true
   },
   "outputs": [],
   "source": [
    "#train\n",
    "par.svm <- train(ksvm, trainTask)"
   ]
  },
  {
   "cell_type": "code",
   "execution_count": null,
   "metadata": {
    "collapsed": true
   },
   "outputs": [],
   "source": [
    "#test\n",
    "predict.svm <- predict(par.svm, testTask)"
   ]
  },
  {
   "cell_type": "code",
   "execution_count": null,
   "metadata": {
    "collapsed": true
   },
   "outputs": [],
   "source": [
    "#submission file\n",
    "submit <- data.frame(Loan_ID = test$Loan_ID, Loan_Status = predict.svm$data$response)\n",
    "write.csv(submit, \"submit5.csv\",row.names = F)"
   ]
  },
  {
   "cell_type": "markdown",
   "metadata": {},
   "source": [
    "#### 6. GBM"
   ]
  },
  {
   "cell_type": "code",
   "execution_count": null,
   "metadata": {
    "collapsed": true
   },
   "outputs": [],
   "source": [
    "#load GBM\n",
    "getParamSet(\"classif.gbm\")\n",
    "g.gbm <- makeLearner(\"classif.gbm\", predict.type = \"response\")\n",
    "\n",
    "#specify tuning method\n",
    "rancontrol <- makeTuneControlRandom(maxit = 50L)\n",
    "\n",
    "#3 fold cross validation\n",
    "set_cv <- makeResampleDesc(\"CV\",iters = 3L)"
   ]
  },
  {
   "cell_type": "code",
   "execution_count": null,
   "metadata": {
    "collapsed": true
   },
   "outputs": [],
   "source": [
    "#parameters\n",
    "gbm_par<- makeParamSet(makeDiscreteParam(\"distribution\", values = \"bernoulli\"),\n",
    "                       makeIntegerParam(\"n.trees\", lower = 100, upper = 1000), #number of trees\n",
    "                       makeIntegerParam(\"interaction.depth\", lower = 2, upper = 10), #depth of tree\n",
    "                       makeIntegerParam(\"n.minobsinnode\", lower = 10, upper = 80),\n",
    "                       makeNumericParam(\"shrinkage\",lower = 0.01, upper = 1)\n",
    "                      )"
   ]
  },
  {
   "cell_type": "code",
   "execution_count": null,
   "metadata": {
    "collapsed": true
   },
   "outputs": [],
   "source": [
    "#tune parameters\n",
    "tune_gbm <- tuneParams(learner = g.gbm, task = trainTask,resampling = set_cv,measures = acc,par.set = gbm_par,control = rancontrol)\n",
    "\n",
    "#check CV accuracy\n",
    "tune_gbm$y\n",
    "\n",
    "#set parameters\n",
    "final_gbm <- setHyperPars(learner = g.gbm, par.vals = tune_gbm$x)\n",
    "\n",
    "#train\n",
    "to.gbm <- train(final_gbm, traintask)\n",
    "\n",
    "#test \n",
    "pr.gbm <- predict(to.gbm, testTask)\n",
    "\n",
    "#submission file\n",
    "submit <- data.frame(Loan_ID = test$Loan_ID, Loan_Status = pr.gbm$data$response)\n",
    "write.csv(submit, \"submit6.csv\",row.names = F)"
   ]
  },
  {
   "cell_type": "markdown",
   "metadata": {},
   "source": [
    "#### 7. Xgboost"
   ]
  },
  {
   "cell_type": "code",
   "execution_count": null,
   "metadata": {
    "collapsed": true
   },
   "outputs": [],
   "source": [
    "#load xgboost\n",
    "set.seed(1001)\n",
    "getParamSet(\"classif.xgboost\")\n",
    "\n",
    "#make learner with inital parameters\n",
    "xg_set <- makeLearner(\"classif.xgboost\", predict.type = \"response\")\n",
    "xg_set$par.vals <- list(objective = \"binary:logistic\",eval_metric = \"error\",nrounds = 250)"
   ]
  },
  {
   "cell_type": "code",
   "execution_count": null,
   "metadata": {
    "collapsed": true
   },
   "outputs": [],
   "source": [
    "#define parameters for tuning\n",
    "xg_ps <- makeParamSet(makeIntegerParam(\"nrounds\",lower=200,upper=600),\n",
    "                      makeIntegerParam(\"max_depth\",lower=3,upper=20),\n",
    "                      makeNumericParam(\"lambda\",lower=0.55,upper=0.60),\n",
    "                      makeNumericParam(\"eta\", lower = 0.001, upper = 0.5),\n",
    "                      makeNumericParam(\"subsample\", lower = 0.10, upper = 0.80),\n",
    "                      makeNumericParam(\"min_child_weight\",lower=1,upper=5),\n",
    "                      makeNumericParam(\"colsample_bytree\",lower = 0.2,upper = 0.8))"
   ]
  },
  {
   "cell_type": "code",
   "execution_count": null,
   "metadata": {
    "collapsed": true
   },
   "outputs": [],
   "source": [
    "#define search function\n",
    "rancontrol <- makeTuneControlRandom(maxit = 100L) #do 100 iterations\n",
    "\n",
    "#3 fold cross validation\n",
    "set_cv <- makeResampleDesc(\"CV\",iters = 3L)\n",
    "\n",
    "#tune parameters\n",
    "xg_tune <- tuneParams(learner = xg_set, task = trainTask, resampling = set_cv,measures = acc,par.set = xg_ps, control = rancontrol)\n",
    "\n",
    "#set parameters\n",
    "xg_new <- setHyperPars(learner = xg_set, par.vals = xg_tune$x)\n",
    "\n",
    "#train model\n",
    "xgmodel <- train(xg_new, trainTask)\n",
    "\n",
    "#test model\n",
    "predict.xg <- predict(xgmodel, testTask)\n",
    "\n",
    "#submission file\n",
    "submit <- data.frame(Loan_ID = test$Loan_ID, Loan_Status = predict.xg$data$response)\n",
    "#write.csv(submit, \"submit7.csv\",row.names = F)"
   ]
  },
  {
   "cell_type": "code",
   "execution_count": null,
   "metadata": {
    "collapsed": true
   },
   "outputs": [],
   "source": [
    "#selecting top 6 important features\n",
    "top_task <- filterFeatures(trainTask, method = \"rf.importance\", abs = 6)"
   ]
  },
  {
   "cell_type": "code",
   "execution_count": null,
   "metadata": {
    "collapsed": true
   },
   "outputs": [],
   "source": []
  },
  {
   "cell_type": "code",
   "execution_count": null,
   "metadata": {
    "collapsed": true
   },
   "outputs": [],
   "source": []
  },
  {
   "cell_type": "code",
   "execution_count": null,
   "metadata": {
    "collapsed": true
   },
   "outputs": [],
   "source": []
  },
  {
   "cell_type": "code",
   "execution_count": null,
   "metadata": {
    "collapsed": true
   },
   "outputs": [],
   "source": []
  }
 ],
 "metadata": {
  "kernelspec": {
   "display_name": "R",
   "language": "R",
   "name": "ir"
  },
  "language_info": {
   "codemirror_mode": "r",
   "file_extension": ".r",
   "mimetype": "text/x-r-source",
   "name": "R",
   "pygments_lexer": "r",
   "version": "3.3.1"
  }
 },
 "nbformat": 4,
 "nbformat_minor": 0
}
