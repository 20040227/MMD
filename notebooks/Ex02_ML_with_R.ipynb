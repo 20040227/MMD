{
 "cells": [
  {
   "cell_type": "code",
   "execution_count": null,
   "metadata": {
    "collapsed": true
   },
   "outputs": [],
   "source": []
  },
  {
   "cell_type": "markdown",
   "metadata": {},
   "source": [
    "https://datahack.analyticsvidhya.com/contest/practice-problem-loan-prediction-iii/  \n",
    "https://www.analyticsvidhya.com/blog/2016/08/practicing-machine-learning-techniques-in-r-with-mlr-package/  \n"
   ]
  },
  {
   "cell_type": "markdown",
   "metadata": {},
   "source": [
    "### Getting Data"
   ]
  },
  {
   "cell_type": "code",
   "execution_count": 9,
   "metadata": {
    "collapsed": false
   },
   "outputs": [
    {
     "data": {
      "text/html": [
       "'/home/rsouza/MMD/datasets/MLR_Package'"
      ],
      "text/latex": [
       "'/home/rsouza/MMD/datasets/MLR\\_Package'"
      ],
      "text/markdown": [
       "'/home/rsouza/MMD/datasets/MLR_Package'"
      ],
      "text/plain": [
       "[1] \"/home/rsouza/MMD/datasets/MLR_Package\""
      ]
     },
     "execution_count": 9,
     "metadata": {},
     "output_type": "execute_result"
    }
   ],
   "source": [
    "getwd()"
   ]
  },
  {
   "cell_type": "code",
   "execution_count": 12,
   "metadata": {
    "collapsed": false
   },
   "outputs": [],
   "source": [
    "path <- \"/home/rsouza/MMD/datasets/AVidhya/\"\n",
    "setwd(path)"
   ]
  },
  {
   "cell_type": "code",
   "execution_count": 13,
   "metadata": {
    "collapsed": false
   },
   "outputs": [],
   "source": [
    "#load libraries and data\n",
    "#install.packages(\"mlr\")\n",
    "library(mlr)"
   ]
  },
  {
   "cell_type": "code",
   "execution_count": null,
   "metadata": {
    "collapsed": true
   },
   "outputs": [],
   "source": [
    "train <- read.csv(\"train_loa\", na.strings = c(\"\",\" \",NA))\n",
    "test <- read.csv(\"test_Y3wMUE5.csv\", na.strings = c(\"\",\" \",NA))"
   ]
  },
  {
   "cell_type": "markdown",
   "metadata": {},
   "source": [
    "### Exploring Data"
   ]
  },
  {
   "cell_type": "code",
   "execution_count": null,
   "metadata": {
    "collapsed": true
   },
   "outputs": [],
   "source": [
    "summarizeColumns(train)"
   ]
  },
  {
   "cell_type": "code",
   "execution_count": null,
   "metadata": {
    "collapsed": true
   },
   "outputs": [],
   "source": [
    "summarizeColumns(test)"
   ]
  },
  {
   "cell_type": "code",
   "execution_count": null,
   "metadata": {
    "collapsed": true
   },
   "outputs": [],
   "source": [
    "hist(train$ApplicantIncome, breaks = 300, main = \"Applicant Income Chart\",xlab = \"ApplicantIncome\")"
   ]
  },
  {
   "cell_type": "code",
   "execution_count": null,
   "metadata": {
    "collapsed": true
   },
   "outputs": [],
   "source": [
    "hist(train$CoapplicantIncome, breaks = 100,main = \"Coapplicant Income Chart\",xlab = \"CoapplicantIncome\")"
   ]
  },
  {
   "cell_type": "code",
   "execution_count": null,
   "metadata": {
    "collapsed": true
   },
   "outputs": [],
   "source": [
    "boxplot(train$ApplicantIncome)"
   ]
  },
  {
   "cell_type": "code",
   "execution_count": null,
   "metadata": {
    "collapsed": true
   },
   "outputs": [],
   "source": [
    "train$Credit_History <- as.factor(train$Credit_History)\n",
    "test$Credit_History <- as.factor(test$Credit_History)"
   ]
  },
  {
   "cell_type": "code",
   "execution_count": null,
   "metadata": {
    "collapsed": true
   },
   "outputs": [],
   "source": [
    "class(train$Credit_History)"
   ]
  },
  {
   "cell_type": "code",
   "execution_count": null,
   "metadata": {
    "collapsed": true
   },
   "outputs": [],
   "source": [
    "summary(train)"
   ]
  },
  {
   "cell_type": "code",
   "execution_count": null,
   "metadata": {
    "collapsed": true
   },
   "outputs": [],
   "source": [
    "summary(test)"
   ]
  },
  {
   "cell_type": "code",
   "execution_count": null,
   "metadata": {
    "collapsed": true
   },
   "outputs": [],
   "source": [
    "#rename level of Dependents\n",
    "levels(train$Dependents)[4] <- \"3\"\n",
    "levels(test$Dependents)[4] <- \"3\""
   ]
  },
  {
   "cell_type": "markdown",
   "metadata": {},
   "source": [
    "### Missing Value Imputation"
   ]
  },
  {
   "cell_type": "code",
   "execution_count": null,
   "metadata": {
    "collapsed": true
   },
   "outputs": [],
   "source": [
    "#impute missing values by mean and mode\n",
    "imp <- impute(train, classes = list(factor = imputeMode(), \n",
    "                                    integer = imputeMean()), \n",
    "              dummy.classes = c(\"integer\",\"factor\"), \n",
    "              dummy.type = \"numeric\")\n",
    "\n",
    "imp1 <- impute(test, classes = list(factor = imputeMode(), \n",
    "                                    integer = imputeMean()), \n",
    "               dummy.classes = c(\"integer\",\"factor\"), \n",
    "               dummy.type = \"numeric\")"
   ]
  },
  {
   "cell_type": "code",
   "execution_count": null,
   "metadata": {
    "collapsed": true
   },
   "outputs": [],
   "source": [
    "imp_train <- imp$data\n",
    "imp_test <- imp1$data"
   ]
  },
  {
   "cell_type": "code",
   "execution_count": null,
   "metadata": {
    "collapsed": true
   },
   "outputs": [],
   "source": [
    "summarizeColumns(imp_train)\n",
    "summarizeColumns(imp_test)"
   ]
  },
  {
   "cell_type": "code",
   "execution_count": null,
   "metadata": {
    "collapsed": true
   },
   "outputs": [],
   "source": [
    "listLearners(\"classif\", check.packages = TRUE, properties = \"missings\")[c(\"class\",\"package\")]"
   ]
  },
  {
   "cell_type": "code",
   "execution_count": null,
   "metadata": {
    "collapsed": true
   },
   "outputs": [],
   "source": [
    "rpart_imp <- impute(train, target = \"Loan_Status\",\n",
    "                    classes = list(numeric = imputeLearner(makeLearner(\"regr.rpart\")),\n",
    "                                   factor = imputeLearner(makeLearner(\"classif.rpart\"))),\n",
    "                    dummy.classes = c(\"numeric\",\"factor\"),dummy.type = \"numeric\")"
   ]
  },
  {
   "cell_type": "markdown",
   "metadata": {},
   "source": [
    "### Feature Engineering"
   ]
  },
  {
   "cell_type": "code",
   "execution_count": null,
   "metadata": {
    "collapsed": true
   },
   "outputs": [],
   "source": [
    "#for train data set\n",
    "cd <- capLargeValues(imp_train, target = \"Loan_Status\",cols = c(\"ApplicantIncome\"),threshold = 40000)\n",
    "cd <- capLargeValues(cd, target = \"Loan_Status\",cols = c(\"CoapplicantIncome\"),threshold = 21000)\n",
    "cd <- capLargeValues(cd, target = \"Loan_Status\",cols = c(\"LoanAmount\"),threshold = 520)"
   ]
  },
  {
   "cell_type": "code",
   "execution_count": null,
   "metadata": {
    "collapsed": true
   },
   "outputs": [],
   "source": [
    "#rename the train data as cd_train\n",
    "cd_train <- cd"
   ]
  },
  {
   "cell_type": "code",
   "execution_count": null,
   "metadata": {
    "collapsed": true
   },
   "outputs": [],
   "source": [
    "#add a dummy Loan_Status column in test data\n",
    "imp_test$Loan_Status <- sample(0:1,size = 367,replace = T)\n",
    "\n",
    "cde <- capLargeValues(imp_test, target = \"Loan_Status\",cols = c(\"ApplicantIncome\"),threshold = 33000)\n",
    "cde <- capLargeValues(cde, target = \"Loan_Status\",cols = c(\"CoapplicantIncome\"),threshold = 16000)\n",
    "cde <- capLargeValues(cde, target = \"Loan_Status\",cols = c(\"LoanAmount\"),threshold = 470)\n",
    "\n",
    "#renaming test data\n",
    "cd_test <- cde"
   ]
  },
  {
   "cell_type": "code",
   "execution_count": null,
   "metadata": {
    "collapsed": true
   },
   "outputs": [],
   "source": [
    "summary(cd_train$ApplicantIncome)"
   ]
  },
  {
   "cell_type": "code",
   "execution_count": null,
   "metadata": {
    "collapsed": true
   },
   "outputs": [],
   "source": [
    "#convert numeric to factor - train\n",
    "for (f in names(cd_train[, c(14:20)])) \n",
    "{\n",
    "    if( class(cd_train[, c(14:20)] [[f]]) == \"numeric\")\n",
    "    {\n",
    "        levels <- unique(cd_train[, c(14:20)][[f]])\n",
    "        cd_train[, c(14:20)][[f]] <- as.factor(factor(cd_train[, c(14:20)][[f]], levels = levels))\n",
    "    }\n",
    "}"
   ]
  },
  {
   "cell_type": "code",
   "execution_count": null,
   "metadata": {
    "collapsed": true
   },
   "outputs": [],
   "source": [
    "#convert numeric to factor - test\n",
    "for (f in names(cd_test[, c(13:18)]))\n",
    "{\n",
    "    if( class(cd_test[, c(13:18)] [[f]]) == \"numeric\")\n",
    "    {\n",
    "        levels <- unique(cd_test[, c(13:18)][[f]])\n",
    "        cd_test[, c(13:18)][[f]] <- as.factor(factor(cd_test[, c(13:18)][[f]], levels = levels))\n",
    "    }\n",
    "}"
   ]
  },
  {
   "cell_type": "code",
   "execution_count": null,
   "metadata": {
    "collapsed": true
   },
   "outputs": [],
   "source": [
    "#Total_Income\n",
    "cd_train$Total_Income <- cd_train$ApplicantIncome + cd_train$CoapplicantIncome\n",
    "cd_test$Total_Income <- cd_test$ApplicantIncome + cd_test$CoapplicantIncome\n",
    "\n",
    "#Income by loan\n",
    "cd_train$Income_by_loan <- cd_train$Total_Income/cd_train$LoanAmount\n",
    "cd_test$Income_by_loan <- cd_test$Total_Income/cd_test$LoanAmount\n",
    "\n",
    "#change variable class\n",
    "cd_train$Loan_Amount_Term <- as.numeric(cd_train$Loan_Amount_Term)\n",
    "cd_test$Loan_Amount_Term <- as.numeric(cd_test$Loan_Amount_Term)\n",
    "\n",
    "#Loan amount by term\n",
    "cd_train$Loan_amount_by_term <- cd_train$LoanAmount/cd_train$Loan_Amount_Term\n",
    "cd_test$Loan_amount_by_term <- cd_test$LoanAmount/cd_test$Loan_Amount_Term"
   ]
  },
  {
   "cell_type": "code",
   "execution_count": null,
   "metadata": {
    "collapsed": true
   },
   "outputs": [],
   "source": [
    "#splitting the data based on class\n",
    "az <- split(names(cd_train), sapply(cd_train, function(x){ class(x)}))\n",
    "\n",
    "#creating a data frame of numeric variables\n",
    "xs <- cd_train[az$numeric]\n",
    "\n",
    "#check correlation\n",
    "cor(xs)"
   ]
  },
  {
   "cell_type": "code",
   "execution_count": null,
   "metadata": {
    "collapsed": true
   },
   "outputs": [],
   "source": [
    "cd_train$Total_Income <- NULL\n",
    "cd_test$Total_Income <- NULL"
   ]
  },
  {
   "cell_type": "code",
   "execution_count": null,
   "metadata": {
    "collapsed": true
   },
   "outputs": [],
   "source": [
    "summarizeColumns(cd_train)\n",
    "summarizeColumns(cd_test)"
   ]
  },
  {
   "cell_type": "markdown",
   "metadata": {},
   "source": [
    "### Machine Learning"
   ]
  },
  {
   "cell_type": "code",
   "execution_count": null,
   "metadata": {
    "collapsed": true
   },
   "outputs": [],
   "source": [
    "#create a task\n",
    "> trainTask <- makeClassifTask(data = cd_train,target = \"Loan_Status\")\n",
    "> testTask <- makeClassifTask(data = cd_test, target = \"Loan_Status\")"
   ]
  },
  {
   "cell_type": "code",
   "execution_count": null,
   "metadata": {
    "collapsed": true
   },
   "outputs": [],
   "source": [
    "trainTask"
   ]
  },
  {
   "cell_type": "code",
   "execution_count": null,
   "metadata": {
    "collapsed": true
   },
   "outputs": [],
   "source": [
    "trainTask <- makeClassifTask(data = cd_train,target = \"Loan_Status\", positive = \"Y\")"
   ]
  },
  {
   "cell_type": "code",
   "execution_count": null,
   "metadata": {
    "collapsed": true
   },
   "outputs": [],
   "source": [
    "str(getTaskData(trainTask))"
   ]
  },
  {
   "cell_type": "code",
   "execution_count": null,
   "metadata": {
    "collapsed": true
   },
   "outputs": [],
   "source": [
    "#normalize the variables\n",
    "> trainTask <- normalizeFeatures(trainTask,method = \"standardize\")\n",
    "> testTask <- normalizeFeatures(testTask,method = \"standardize\")"
   ]
  },
  {
   "cell_type": "code",
   "execution_count": null,
   "metadata": {
    "collapsed": true
   },
   "outputs": [],
   "source": [
    "trainTask <- dropFeatures(task = trainTask,features = c(\"Loan_ID\",\"Married.dummy\"))"
   ]
  },
  {
   "cell_type": "code",
   "execution_count": null,
   "metadata": {
    "collapsed": true
   },
   "outputs": [],
   "source": [
    "#Feature importance\n",
    "> im_feat <- generateFilterValuesData(trainTask, method = c(\"information.gain\",\"chi.squared\"))\n",
    "> plotFilterValues(im_feat,n.show = 20)"
   ]
  },
  {
   "cell_type": "code",
   "execution_count": null,
   "metadata": {
    "collapsed": true
   },
   "outputs": [],
   "source": [
    "#to launch its shiny application\n",
    "> plotFilterValuesGGVIS(im_feat)"
   ]
  },
  {
   "cell_type": "markdown",
   "metadata": {},
   "source": [
    "#### 1. Quadratic Discriminant Analysis (QDA)."
   ]
  },
  {
   "cell_type": "code",
   "execution_count": null,
   "metadata": {
    "collapsed": true
   },
   "outputs": [],
   "source": [
    "#load qda \n",
    "> qda.learner <- makeLearner(\"classif.qda\", predict.type = \"response\")\n",
    "\n",
    "#train model\n",
    "> qmodel <- train(qda.learner, trainTask)\n",
    "\n",
    "#predict on test data\n",
    "> qpredict <- predict(qmodel, testTask)\n",
    "\n",
    "#create submission file\n",
    "> submit <- data.frame(Loan_ID = test$Loan_ID, Loan_Status = qpredict$data$response)\n",
    "> write.csv(submit, \"submit1.csv\",row.names = F)"
   ]
  },
  {
   "cell_type": "markdown",
   "metadata": {},
   "source": [
    "#### 2. Logistic Regression"
   ]
  },
  {
   "cell_type": "code",
   "execution_count": null,
   "metadata": {
    "collapsed": true
   },
   "outputs": [],
   "source": [
    "#logistic regression\n",
    "> logistic.learner <- makeLearner(\"classif.logreg\",predict.type = \"response\")\n",
    "\n",
    "#cross validation (cv) accuracy\n",
    "> cv.logistic <- crossval(learner = logistic.learner,task = trainTask,iters = 3,stratify = TRUE,measures = acc,show.info = F)"
   ]
  },
  {
   "cell_type": "code",
   "execution_count": null,
   "metadata": {
    "collapsed": true
   },
   "outputs": [],
   "source": [
    "#cross validation accuracy\n",
    "> cv.logistic$aggr"
   ]
  },
  {
   "cell_type": "code",
   "execution_count": null,
   "metadata": {
    "collapsed": true
   },
   "outputs": [],
   "source": [
    "cv.logistic$measures.test"
   ]
  },
  {
   "cell_type": "code",
   "execution_count": null,
   "metadata": {
    "collapsed": true
   },
   "outputs": [],
   "source": [
    "#train model\n",
    "> fmodel <- train(logistic.learner,trainTask)\n",
    "> getLearnerModel(fmodel)\n",
    "\n",
    "#predict on test data\n",
    "> fpmodel <- predict(fmodel, testTask)\n",
    "\n",
    "#create submission file\n",
    "> submit <- data.frame(Loan_ID = test$Loan_ID, Loan_Status = fpmodel$data$response)\n",
    "> write.csv(submit, \"submit2.csv\",row.names = F)"
   ]
  },
  {
   "cell_type": "markdown",
   "metadata": {},
   "source": [
    "#### 3. Decision Tree"
   ]
  },
  {
   "cell_type": "code",
   "execution_count": null,
   "metadata": {
    "collapsed": true
   },
   "outputs": [],
   "source": [
    "getParamSet(\"classif.rpart\")"
   ]
  },
  {
   "cell_type": "code",
   "execution_count": null,
   "metadata": {
    "collapsed": true
   },
   "outputs": [],
   "source": [
    "#make tree learner\n",
    "> makeatree <- makeLearner(\"classif.rpart\", predict.type = \"response\")\n",
    "\n",
    "#set 3 fold cross validation\n",
    "> set_cv <- makeResampleDesc(\"CV\",iters = 3L)"
   ]
  },
  {
   "cell_type": "code",
   "execution_count": null,
   "metadata": {
    "collapsed": true
   },
   "outputs": [],
   "source": [
    "#Search for hyperparameters\n",
    "> gs <- makeParamSet(\n",
    "makeIntegerParam(\"minsplit\",lower = 10, upper = 50),\n",
    "makeIntegerParam(\"minbucket\", lower = 5, upper = 50),\n",
    "makeNumericParam(\"cp\", lower = 0.001, upper = 0.2)\n",
    ")"
   ]
  },
  {
   "cell_type": "code",
   "execution_count": null,
   "metadata": {
    "collapsed": true
   },
   "outputs": [],
   "source": [
    "#do a grid search\n",
    "> gscontrol <- makeTuneControlGrid()\n",
    "\n",
    "#hypertune the parameters\n",
    "> stune <- tuneParams(learner = makeatree, resampling = set_cv, task = trainTask, par.set = gs, control = gscontrol, measures = acc)"
   ]
  },
  {
   "cell_type": "code",
   "execution_count": null,
   "metadata": {
    "collapsed": true
   },
   "outputs": [],
   "source": [
    "#check best parameter\n",
    "> stune$x"
   ]
  },
  {
   "cell_type": "code",
   "execution_count": null,
   "metadata": {
    "collapsed": true
   },
   "outputs": [],
   "source": [
    "#cross validation result\n",
    "> stune$y"
   ]
  },
  {
   "cell_type": "code",
   "execution_count": null,
   "metadata": {
    "collapsed": true
   },
   "outputs": [],
   "source": [
    "#using hyperparameters for modeling\n",
    "> t.tree <- setHyperPars(makeatree, par.vals = stune$x)\n",
    "\n",
    "#train the model\n",
    "> t.rpart <- train(t.tree, trainTask)\n",
    "getLearnerModel(t.rpart)\n",
    "\n",
    "#make predictions\n",
    "> tpmodel <- predict(t.rpart, testTask)\n",
    "\n",
    "#create a submission file\n",
    "> submit <- data.frame(Loan_ID = test$Loan_ID, Loan_Status = tpmodel$data$response)\n",
    "> write.csv(submit, \"submit3.csv\",row.names = F)"
   ]
  },
  {
   "cell_type": "markdown",
   "metadata": {},
   "source": [
    "#### 4. Random Forest"
   ]
  },
  {
   "cell_type": "code",
   "execution_count": null,
   "metadata": {
    "collapsed": true
   },
   "outputs": [],
   "source": [
    "> getParamSet(\"classif.randomForest\")\n",
    "\n",
    "#create a learner\n",
    "> rf <- makeLearner(\"classif.randomForest\", predict.type = \"response\", par.vals = list(ntree = 200, mtry = 3))\n",
    "> rf$par.vals <- list(\n",
    "importance = TRUE\n",
    ")\n",
    "\n",
    "#set tunable parameters\n",
    "#grid search to find hyperparameters\n",
    "> rf_param <- makeParamSet(\n",
    "makeIntegerParam(\"ntree\",lower = 50, upper = 500),\n",
    "makeIntegerParam(\"mtry\", lower = 3, upper = 10),\n",
    "makeIntegerParam(\"nodesize\", lower = 10, upper = 50)\n",
    ")\n",
    "\n",
    "#let's do random search for 50 iterations\n",
    "> rancontrol <- makeTuneControlRandom(maxit = 50L)"
   ]
  },
  {
   "cell_type": "code",
   "execution_count": null,
   "metadata": {
    "collapsed": true
   },
   "outputs": [],
   "source": [
    "#set 3 fold cross validation\n",
    "> set_cv <- makeResampleDesc(\"CV\",iters = 3L)\n",
    "\n",
    "#hypertuning\n",
    "> rf_tune <- tuneParams(learner = rf, resampling = set_cv, task = trainTask, par.set = rf_param, control = rancontrol, measures = acc)"
   ]
  },
  {
   "cell_type": "code",
   "execution_count": null,
   "metadata": {
    "collapsed": true
   },
   "outputs": [],
   "source": [
    "#cv accuracy\n",
    "> rf_tune$y"
   ]
  },
  {
   "cell_type": "code",
   "execution_count": null,
   "metadata": {
    "collapsed": true
   },
   "outputs": [],
   "source": [
    "#best parameters\n",
    "> rf_tune$x"
   ]
  },
  {
   "cell_type": "code",
   "execution_count": null,
   "metadata": {
    "collapsed": true
   },
   "outputs": [],
   "source": [
    "#using hyperparameters for modeling\n",
    "> rf.tree <- setHyperPars(rf, par.vals = rf_tune$x)\n",
    "\n",
    "#train a model\n",
    "> rforest <- train(rf.tree, trainTask)\n",
    "> getLearnerModel(t.rpart)\n",
    "\n",
    "#make predictions\n",
    "> rfmodel <- predict(rforest, testTask)\n",
    "\n",
    "#submission file\n",
    "> submit <- data.frame(Loan_ID = test$Loan_ID, Loan_Status = rfmodel$data$response)\n",
    "> write.csv(submit, \"submit4.csv\",row.names = F)"
   ]
  },
  {
   "cell_type": "markdown",
   "metadata": {},
   "source": [
    "#### 5. SVM"
   ]
  },
  {
   "cell_type": "code",
   "execution_count": null,
   "metadata": {
    "collapsed": true
   },
   "outputs": [],
   "source": [
    "#load svm\n",
    "> getParamSet(\"classif.ksvm\") #do install kernlab package \n",
    "> ksvm <- makeLearner(\"classif.ksvm\", predict.type = \"response\")\n",
    "\n",
    "#Set parameters\n",
    "> pssvm <- makeParamSet(\n",
    "makeDiscreteParam(\"C\", values = 2^c(-8,-4,-2,0)), #cost parameters\n",
    "makeDiscreteParam(\"sigma\", values = 2^c(-8,-4,0,4)) #RBF Kernel Parameter\n",
    ")"
   ]
  },
  {
   "cell_type": "code",
   "execution_count": null,
   "metadata": {
    "collapsed": true
   },
   "outputs": [],
   "source": [
    "#specify search function\n",
    "> ctrl <- makeTuneControlGrid()"
   ]
  },
  {
   "cell_type": "code",
   "execution_count": null,
   "metadata": {
    "collapsed": true
   },
   "outputs": [],
   "source": [
    "#tune model\n",
    "> res <- tuneParams(ksvm, task = trainTask, resampling = set_cv, par.set = pssvm, control = ctrl,measures = acc)"
   ]
  },
  {
   "cell_type": "code",
   "execution_count": null,
   "metadata": {
    "collapsed": true
   },
   "outputs": [],
   "source": [
    "#CV accuracy\n",
    "> res$y"
   ]
  },
  {
   "cell_type": "code",
   "execution_count": null,
   "metadata": {
    "collapsed": true
   },
   "outputs": [],
   "source": [
    "#set the model with best params\n",
    "> t.svm <- setHyperPars(ksvm, par.vals = res$x)"
   ]
  },
  {
   "cell_type": "code",
   "execution_count": null,
   "metadata": {
    "collapsed": true
   },
   "outputs": [],
   "source": [
    "#train\n",
    "> par.svm <- train(ksvm, trainTask)"
   ]
  },
  {
   "cell_type": "code",
   "execution_count": null,
   "metadata": {
    "collapsed": true
   },
   "outputs": [],
   "source": [
    "#test\n",
    "> predict.svm <- predict(par.svm, testTask)"
   ]
  },
  {
   "cell_type": "code",
   "execution_count": null,
   "metadata": {
    "collapsed": true
   },
   "outputs": [],
   "source": [
    "#submission file\n",
    "> submit <- data.frame(Loan_ID = test$Loan_ID, Loan_Status = predict.svm$data$response)\n",
    "> write.csv(submit, \"submit5.csv\",row.names = F)"
   ]
  },
  {
   "cell_type": "markdown",
   "metadata": {},
   "source": [
    "#### 6. GBM"
   ]
  },
  {
   "cell_type": "code",
   "execution_count": null,
   "metadata": {
    "collapsed": true
   },
   "outputs": [],
   "source": [
    "#load GBM\n",
    "> getParamSet(\"classif.gbm\")\n",
    "> g.gbm <- makeLearner(\"classif.gbm\", predict.type = \"response\")\n",
    "\n",
    "#specify tuning method\n",
    "> rancontrol <- makeTuneControlRandom(maxit = 50L)\n",
    "\n",
    "#3 fold cross validation\n",
    "> set_cv <- makeResampleDesc(\"CV\",iters = 3L)"
   ]
  },
  {
   "cell_type": "code",
   "execution_count": null,
   "metadata": {
    "collapsed": true
   },
   "outputs": [],
   "source": [
    "#parameters\n",
    "> gbm_par<- makeParamSet(\n",
    "makeDiscreteParam(\"distribution\", values = \"bernoulli\"),\n",
    "makeIntegerParam(\"n.trees\", lower = 100, upper = 1000), #number of trees\n",
    "makeIntegerParam(\"interaction.depth\", lower = 2, upper = 10), #depth of tree\n",
    "makeIntegerParam(\"n.minobsinnode\", lower = 10, upper = 80),\n",
    "makeNumericParam(\"shrinkage\",lower = 0.01, upper = 1)\n",
    ")"
   ]
  },
  {
   "cell_type": "code",
   "execution_count": null,
   "metadata": {
    "collapsed": true
   },
   "outputs": [],
   "source": [
    "#tune parameters\n",
    "> tune_gbm <- tuneParams(learner = g.gbm, task = trainTask,resampling = set_cv,measures = acc,par.set = gbm_par,control = rancontrol)\n",
    "\n",
    "#check CV accuracy\n",
    "> tune_gbm$y\n",
    "\n",
    "#set parameters\n",
    "> final_gbm <- setHyperPars(learner = g.gbm, par.vals = tune_gbm$x)\n",
    "\n",
    "#train\n",
    "> to.gbm <- train(final_gbm, traintask)\n",
    "\n",
    "#test \n",
    "> pr.gbm <- predict(to.gbm, testTask)\n",
    "\n",
    "#submission file\n",
    "> submit <- data.frame(Loan_ID = test$Loan_ID, Loan_Status = pr.gbm$data$response)\n",
    "> write.csv(submit, \"submit6.csv\",row.names = F)"
   ]
  },
  {
   "cell_type": "markdown",
   "metadata": {},
   "source": [
    "#### 7. Xgboost"
   ]
  },
  {
   "cell_type": "code",
   "execution_count": null,
   "metadata": {
    "collapsed": true
   },
   "outputs": [],
   "source": [
    "#load xgboost\n",
    "> set.seed(1001)\n",
    "> getParamSet(\"classif.xgboost\")\n",
    "\n",
    "#make learner with inital parameters\n",
    "> xg_set <- makeLearner(\"classif.xgboost\", predict.type = \"response\")\n",
    "> xg_set$par.vals <- list(\n",
    "objective = \"binary:logistic\",\n",
    "eval_metric = \"error\",\n",
    "nrounds = 250\n",
    ")"
   ]
  },
  {
   "cell_type": "code",
   "execution_count": null,
   "metadata": {
    "collapsed": true
   },
   "outputs": [],
   "source": [
    "#define parameters for tuning\n",
    "> xg_ps <- makeParamSet(\n",
    "makeIntegerParam(\"nrounds\",lower=200,upper=600),\n",
    "makeIntegerParam(\"max_depth\",lower=3,upper=20),\n",
    "makeNumericParam(\"lambda\",lower=0.55,upper=0.60),\n",
    "makeNumericParam(\"eta\", lower = 0.001, upper = 0.5),\n",
    "makeNumericParam(\"subsample\", lower = 0.10, upper = 0.80),\n",
    "makeNumericParam(\"min_child_weight\",lower=1,upper=5),\n",
    "makeNumericParam(\"colsample_bytree\",lower = 0.2,upper = 0.8)\n",
    ")"
   ]
  },
  {
   "cell_type": "code",
   "execution_count": null,
   "metadata": {
    "collapsed": true
   },
   "outputs": [],
   "source": [
    "#define search function\n",
    "> rancontrol <- makeTuneControlRandom(maxit = 100L) #do 100 iterations\n",
    "\n",
    "#3 fold cross validation\n",
    "> set_cv <- makeResampleDesc(\"CV\",iters = 3L)\n",
    "\n",
    "#tune parameters\n",
    "> xg_tune <- tuneParams(learner = xg_set, task = trainTask, resampling = set_cv,measures = acc,par.set = xg_ps, control = rancontrol)\n",
    "\n",
    "#set parameters\n",
    "> xg_new <- setHyperPars(learner = xg_set, par.vals = xg_tune$x)\n",
    "\n",
    "#train model\n",
    "> xgmodel <- train(xg_new, trainTask)\n",
    "\n",
    "#test model\n",
    "> predict.xg <- predict(xgmodel, testTask)\n",
    "\n",
    "#submission file\n",
    "> submit <- data.frame(Loan_ID = test$Loan_ID, Loan_Status = predict.xg$data$response)\n",
    "> write.csv(submit, \"submit7.csv\",row.names = F)"
   ]
  },
  {
   "cell_type": "code",
   "execution_count": null,
   "metadata": {
    "collapsed": true
   },
   "outputs": [],
   "source": [
    "#selecting top 6 important features\n",
    "> top_task <- filterFeatures(trainTask, method = \"rf.importance\", abs = 6)"
   ]
  },
  {
   "cell_type": "code",
   "execution_count": null,
   "metadata": {
    "collapsed": true
   },
   "outputs": [],
   "source": []
  },
  {
   "cell_type": "code",
   "execution_count": null,
   "metadata": {
    "collapsed": true
   },
   "outputs": [],
   "source": []
  },
  {
   "cell_type": "code",
   "execution_count": null,
   "metadata": {
    "collapsed": true
   },
   "outputs": [],
   "source": []
  },
  {
   "cell_type": "code",
   "execution_count": null,
   "metadata": {
    "collapsed": true
   },
   "outputs": [],
   "source": []
  }
 ],
 "metadata": {
  "kernelspec": {
   "display_name": "R",
   "language": "R",
   "name": "ir"
  },
  "language_info": {
   "codemirror_mode": "r",
   "file_extension": ".r",
   "mimetype": "text/x-r-source",
   "name": "R",
   "pygments_lexer": "r",
   "version": "3.3.1"
  }
 },
 "nbformat": 4,
 "nbformat_minor": 0
}
