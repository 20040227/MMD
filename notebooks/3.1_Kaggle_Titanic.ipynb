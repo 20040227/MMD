{
 "cells": [
  {
   "cell_type": "markdown",
   "metadata": {
    "deletable": true,
    "editable": true
   },
   "source": [
    "## Introduction to predictive analysis: the sinking of Titanic"
   ]
  },
  {
   "cell_type": "markdown",
   "metadata": {
    "deletable": true,
    "editable": true
   },
   "source": [
    "https://www.kaggle.com/c/titanic-gettingStarted\n",
    "\n",
    "The sinking of the RMS Titanic is one of the most infamous shipwrecks in history.  On April 15, 1912, during her maiden voyage, the Titanic sank after colliding with an iceberg, killing 1502 out of 2224 passengers and crew. This sensational tragedy shocked the international community and led to better safety regulations for ships.\n",
    "\n",
    "One of the reasons that the shipwreck led to such loss of life was that there were not enough lifeboats for the passengers and crew. Although there was some element of luck involved in surviving the sinking, some groups of people were more likely to survive than others, such as women, children, and the upper-class.\n",
    "\n",
    "In this challenge, we ask you to complete the analysis of what sorts of people were likely to survive. In particular, we ask you to apply the tools of machine learning to predict which passengers survived the tragedy."
   ]
  },
  {
   "cell_type": "markdown",
   "metadata": {
    "deletable": true,
    "editable": true
   },
   "source": [
    "VARIABLE DESCRIPTIONS:\n",
    "survival        Survival\n",
    "                (0 = No; 1 = Yes)\n",
    "pclass          Passenger Class\n",
    "                (1 = 1st; 2 = 2nd; 3 = 3rd)\n",
    "name            Name\n",
    "sex             Sex\n",
    "age             Age\n",
    "sibsp           Number of Siblings/Spouses Aboard\n",
    "parch           Number of Parents/Children Aboard\n",
    "ticket          Ticket Number\n",
    "fare            Passenger Fare\n",
    "cabin           Cabin\n",
    "embarked        Port of Embarkation\n",
    "                (C = Cherbourg; Q = Queenstown; S = Southampton)\n",
    "\n",
    "SPECIAL NOTES:\n",
    "Pclass is a proxy for socio-economic status (SES)\n",
    " 1st ~ Upper; 2nd ~ Middle; 3rd ~ Lower\n",
    "\n",
    "Age is in Years; Fractional if Age less than One (1)\n",
    " If the Age is Estimated, it is in the form xx.5\n",
    "\n",
    "With respect to the family relation variables (i.e. sibsp and parch)\n",
    "some relations were ignored.  The following are the definitions used\n",
    "for sibsp and parch.\n",
    "\n",
    "Sibling:  Brother, Sister, Stepbrother, or Stepsister of Passenger Aboard Titanic\n",
    "Spouse:   Husband or Wife of Passenger Aboard Titanic (Mistresses and Fiances Ignored)\n",
    "Parent:   Mother or Father of Passenger Aboard Titanic\n",
    "Child:    Son, Daughter, Stepson, or Stepdaughter of Passenger Aboard Titanic\n",
    "\n",
    "Other family relatives excluded from this study include cousins,\n",
    "nephews/nieces, aunts/uncles, and in-laws.  Some children travelled\n",
    "only with a nanny, therefore parch=0 for them.  As well, some\n",
    "travelled with very close friends or neighbors in a village, however,\n",
    "the definitions do not support such relations."
   ]
  },
  {
   "cell_type": "markdown",
   "metadata": {
    "deletable": true,
    "editable": true
   },
   "source": [
    "#### Loading the usual packages...  "
   ]
  },
  {
   "cell_type": "code",
   "execution_count": 1,
   "metadata": {
    "collapsed": false,
    "deletable": true,
    "editable": true
   },
   "outputs": [
    {
     "name": "stderr",
     "output_type": "stream",
     "text": [
      "/usr/local/lib/python3.5/dist-packages/statsmodels/compat/pandas.py:56: FutureWarning: The pandas.core.datetools module is deprecated and will be removed in a future version. Please use the pandas.tseries module instead.\n",
      "  from pandas.core import datetools\n"
     ]
    }
   ],
   "source": [
    "import os\n",
    "import sys\n",
    "import time\n",
    "import pickle\n",
    "import itertools\n",
    "import pandas as pd\n",
    "import numpy as np\n",
    "import pylab\n",
    "import statsmodels.api as sm\n",
    "import matplotlib\n",
    "import matplotlib.pyplot as plt\n",
    "from matplotlib.font_manager import FontProperties\n",
    "\n",
    "#import seaborn as sns\n",
    "import seaborn.apionly as sns\n",
    "\n",
    "%matplotlib inline\n",
    "#%matplotlib notebook\n",
    "#matplotlib.rcdefaults()\n",
    "#matplotlib.verbose.set_level('silent')"
   ]
  },
  {
   "cell_type": "markdown",
   "metadata": {
    "deletable": true,
    "editable": true
   },
   "source": [
    "#### Importing the datasets"
   ]
  },
  {
   "cell_type": "code",
   "execution_count": 2,
   "metadata": {
    "collapsed": true,
    "deletable": true,
    "editable": true
   },
   "outputs": [],
   "source": [
    "datapath = \"../datasets/\"\n",
    "outputs = \"../outputs/\""
   ]
  },
  {
   "cell_type": "code",
   "execution_count": 3,
   "metadata": {
    "collapsed": true,
    "deletable": true,
    "editable": true
   },
   "outputs": [],
   "source": [
    "df_train = pd.read_csv(os.path.join(datapath,'Kaggle/kaggle_titanic_train.csv'))\n",
    "df_test = pd.read_csv(os.path.join(datapath,'Kaggle/kaggle_titanic_test.csv'))"
   ]
  },
  {
   "cell_type": "markdown",
   "metadata": {
    "deletable": true,
    "editable": true
   },
   "source": [
    "#### Exploring Data"
   ]
  },
  {
   "cell_type": "code",
   "execution_count": 4,
   "metadata": {
    "collapsed": false,
    "deletable": true,
    "editable": true
   },
   "outputs": [
    {
     "data": {
      "text/html": [
       "<div>\n",
       "<style>\n",
       "    .dataframe thead tr:only-child th {\n",
       "        text-align: right;\n",
       "    }\n",
       "\n",
       "    .dataframe thead th {\n",
       "        text-align: left;\n",
       "    }\n",
       "\n",
       "    .dataframe tbody tr th {\n",
       "        vertical-align: top;\n",
       "    }\n",
       "</style>\n",
       "<table border=\"1\" class=\"dataframe\">\n",
       "  <thead>\n",
       "    <tr style=\"text-align: right;\">\n",
       "      <th></th>\n",
       "      <th>PassengerId</th>\n",
       "      <th>Survived</th>\n",
       "      <th>Pclass</th>\n",
       "      <th>Name</th>\n",
       "      <th>Sex</th>\n",
       "      <th>Age</th>\n",
       "      <th>SibSp</th>\n",
       "      <th>Parch</th>\n",
       "      <th>Ticket</th>\n",
       "      <th>Fare</th>\n",
       "      <th>Cabin</th>\n",
       "      <th>Embarked</th>\n",
       "    </tr>\n",
       "  </thead>\n",
       "  <tbody>\n",
       "    <tr>\n",
       "      <th>0</th>\n",
       "      <td>1</td>\n",
       "      <td>0</td>\n",
       "      <td>3</td>\n",
       "      <td>Braund, Mr. Owen Harris</td>\n",
       "      <td>male</td>\n",
       "      <td>22.0</td>\n",
       "      <td>1</td>\n",
       "      <td>0</td>\n",
       "      <td>A/5 21171</td>\n",
       "      <td>7.2500</td>\n",
       "      <td>NaN</td>\n",
       "      <td>S</td>\n",
       "    </tr>\n",
       "    <tr>\n",
       "      <th>1</th>\n",
       "      <td>2</td>\n",
       "      <td>1</td>\n",
       "      <td>1</td>\n",
       "      <td>Cumings, Mrs. John Bradley (Florence Briggs Th...</td>\n",
       "      <td>female</td>\n",
       "      <td>38.0</td>\n",
       "      <td>1</td>\n",
       "      <td>0</td>\n",
       "      <td>PC 17599</td>\n",
       "      <td>71.2833</td>\n",
       "      <td>C85</td>\n",
       "      <td>C</td>\n",
       "    </tr>\n",
       "    <tr>\n",
       "      <th>2</th>\n",
       "      <td>3</td>\n",
       "      <td>1</td>\n",
       "      <td>3</td>\n",
       "      <td>Heikkinen, Miss. Laina</td>\n",
       "      <td>female</td>\n",
       "      <td>26.0</td>\n",
       "      <td>0</td>\n",
       "      <td>0</td>\n",
       "      <td>STON/O2. 3101282</td>\n",
       "      <td>7.9250</td>\n",
       "      <td>NaN</td>\n",
       "      <td>S</td>\n",
       "    </tr>\n",
       "    <tr>\n",
       "      <th>3</th>\n",
       "      <td>4</td>\n",
       "      <td>1</td>\n",
       "      <td>1</td>\n",
       "      <td>Futrelle, Mrs. Jacques Heath (Lily May Peel)</td>\n",
       "      <td>female</td>\n",
       "      <td>35.0</td>\n",
       "      <td>1</td>\n",
       "      <td>0</td>\n",
       "      <td>113803</td>\n",
       "      <td>53.1000</td>\n",
       "      <td>C123</td>\n",
       "      <td>S</td>\n",
       "    </tr>\n",
       "    <tr>\n",
       "      <th>4</th>\n",
       "      <td>5</td>\n",
       "      <td>0</td>\n",
       "      <td>3</td>\n",
       "      <td>Allen, Mr. William Henry</td>\n",
       "      <td>male</td>\n",
       "      <td>35.0</td>\n",
       "      <td>0</td>\n",
       "      <td>0</td>\n",
       "      <td>373450</td>\n",
       "      <td>8.0500</td>\n",
       "      <td>NaN</td>\n",
       "      <td>S</td>\n",
       "    </tr>\n",
       "  </tbody>\n",
       "</table>\n",
       "</div>"
      ],
      "text/plain": [
       "   PassengerId  Survived  Pclass  \\\n",
       "0            1         0       3   \n",
       "1            2         1       1   \n",
       "2            3         1       3   \n",
       "3            4         1       1   \n",
       "4            5         0       3   \n",
       "\n",
       "                                                Name     Sex   Age  SibSp  \\\n",
       "0                            Braund, Mr. Owen Harris    male  22.0      1   \n",
       "1  Cumings, Mrs. John Bradley (Florence Briggs Th...  female  38.0      1   \n",
       "2                             Heikkinen, Miss. Laina  female  26.0      0   \n",
       "3       Futrelle, Mrs. Jacques Heath (Lily May Peel)  female  35.0      1   \n",
       "4                           Allen, Mr. William Henry    male  35.0      0   \n",
       "\n",
       "   Parch            Ticket     Fare Cabin Embarked  \n",
       "0      0         A/5 21171   7.2500   NaN        S  \n",
       "1      0          PC 17599  71.2833   C85        C  \n",
       "2      0  STON/O2. 3101282   7.9250   NaN        S  \n",
       "3      0            113803  53.1000  C123        S  \n",
       "4      0            373450   8.0500   NaN        S  "
      ]
     },
     "execution_count": 4,
     "metadata": {},
     "output_type": "execute_result"
    }
   ],
   "source": [
    "df_train.head()"
   ]
  },
  {
   "cell_type": "code",
   "execution_count": 5,
   "metadata": {
    "collapsed": false,
    "deletable": true,
    "editable": true
   },
   "outputs": [
    {
     "name": "stdout",
     "output_type": "stream",
     "text": [
      "<class 'pandas.core.frame.DataFrame'>\n",
      "RangeIndex: 891 entries, 0 to 890\n",
      "Data columns (total 12 columns):\n",
      "PassengerId    891 non-null int64\n",
      "Survived       891 non-null int64\n",
      "Pclass         891 non-null int64\n",
      "Name           891 non-null object\n",
      "Sex            891 non-null object\n",
      "Age            714 non-null float64\n",
      "SibSp          891 non-null int64\n",
      "Parch          891 non-null int64\n",
      "Ticket         891 non-null object\n",
      "Fare           891 non-null float64\n",
      "Cabin          204 non-null object\n",
      "Embarked       889 non-null object\n",
      "dtypes: float64(2), int64(5), object(5)\n",
      "memory usage: 83.6+ KB\n"
     ]
    }
   ],
   "source": [
    "df_train.info()"
   ]
  },
  {
   "cell_type": "code",
   "execution_count": 6,
   "metadata": {
    "collapsed": false,
    "deletable": true,
    "editable": true
   },
   "outputs": [
    {
     "data": {
      "text/plain": [
       "PassengerId      int64\n",
       "Survived         int64\n",
       "Pclass           int64\n",
       "Name            object\n",
       "Sex             object\n",
       "Age            float64\n",
       "SibSp            int64\n",
       "Parch            int64\n",
       "Ticket          object\n",
       "Fare           float64\n",
       "Cabin           object\n",
       "Embarked        object\n",
       "dtype: object"
      ]
     },
     "execution_count": 6,
     "metadata": {},
     "output_type": "execute_result"
    }
   ],
   "source": [
    "df_train.dtypes"
   ]
  },
  {
   "cell_type": "code",
   "execution_count": 7,
   "metadata": {
    "collapsed": false,
    "deletable": true,
    "editable": true
   },
   "outputs": [
    {
     "data": {
      "text/plain": [
       "PassengerId    int64\n",
       "Survived       int64\n",
       "Pclass         int64\n",
       "SibSp          int64\n",
       "Parch          int64\n",
       "dtype: object"
      ]
     },
     "execution_count": 7,
     "metadata": {},
     "output_type": "execute_result"
    }
   ],
   "source": [
    "df_train.dtypes[df_train.dtypes.map(lambda x: x=='int64')]"
   ]
  },
  {
   "cell_type": "code",
   "execution_count": 8,
   "metadata": {
    "collapsed": false,
    "deletable": true,
    "editable": true
   },
   "outputs": [
    {
     "data": {
      "text/plain": [
       "Age     float64\n",
       "Fare    float64\n",
       "dtype: object"
      ]
     },
     "execution_count": 8,
     "metadata": {},
     "output_type": "execute_result"
    }
   ],
   "source": [
    "df_train.dtypes[df_train.dtypes.map(lambda x: x=='float64')]"
   ]
  },
  {
   "cell_type": "code",
   "execution_count": 9,
   "metadata": {
    "collapsed": false,
    "deletable": true,
    "editable": true
   },
   "outputs": [
    {
     "data": {
      "text/plain": [
       "Name        object\n",
       "Sex         object\n",
       "Ticket      object\n",
       "Cabin       object\n",
       "Embarked    object\n",
       "dtype: object"
      ]
     },
     "execution_count": 9,
     "metadata": {},
     "output_type": "execute_result"
    }
   ],
   "source": [
    "df_train.dtypes[df_train.dtypes.map(lambda x: x=='object')]"
   ]
  },
  {
   "cell_type": "code",
   "execution_count": 10,
   "metadata": {
    "collapsed": false,
    "deletable": true,
    "editable": true
   },
   "outputs": [
    {
     "data": {
      "text/plain": [
       "Index(['PassengerId', 'Survived', 'Pclass', 'Name', 'Sex', 'Age', 'SibSp',\n",
       "       'Parch', 'Ticket', 'Fare', 'Cabin', 'Embarked'],\n",
       "      dtype='object')"
      ]
     },
     "execution_count": 10,
     "metadata": {},
     "output_type": "execute_result"
    }
   ],
   "source": [
    "df_train.columns"
   ]
  },
  {
   "cell_type": "code",
   "execution_count": 11,
   "metadata": {
    "collapsed": false,
    "deletable": true,
    "editable": true
   },
   "outputs": [
    {
     "name": "stdout",
     "output_type": "stream",
     "text": [
      "Number of levels in category 'PassengerId': \b 891.00 \n",
      "Number of levels in category 'Survived': \b 2.00 \n",
      "Number of levels in category 'Pclass': \b 3.00 \n",
      "Number of levels in category 'Name': \b 891.00 \n",
      "Number of levels in category 'Sex': \b 2.00 \n",
      "Number of levels in category 'Age': \b 89.00 \n",
      "Number of levels in category 'SibSp': \b 7.00 \n",
      "Number of levels in category 'Parch': \b 7.00 \n",
      "Number of levels in category 'Ticket': \b 681.00 \n",
      "Number of levels in category 'Fare': \b 248.00 \n",
      "Number of levels in category 'Cabin': \b 148.00 \n",
      "Number of levels in category 'Embarked': \b 4.00 \n"
     ]
    }
   ],
   "source": [
    "for cat in df_train.columns:\n",
    "    print(\"Number of levels in category '{0}': \\b {1:2.2f} \".format(cat, df_train[cat].unique().size))"
   ]
  },
  {
   "cell_type": "markdown",
   "metadata": {
    "deletable": true,
    "editable": true
   },
   "source": [
    "#### Describing the numeric values"
   ]
  },
  {
   "cell_type": "code",
   "execution_count": 12,
   "metadata": {
    "collapsed": false,
    "deletable": true,
    "editable": true
   },
   "outputs": [
    {
     "data": {
      "text/html": [
       "<div>\n",
       "<style>\n",
       "    .dataframe thead tr:only-child th {\n",
       "        text-align: right;\n",
       "    }\n",
       "\n",
       "    .dataframe thead th {\n",
       "        text-align: left;\n",
       "    }\n",
       "\n",
       "    .dataframe tbody tr th {\n",
       "        vertical-align: top;\n",
       "    }\n",
       "</style>\n",
       "<table border=\"1\" class=\"dataframe\">\n",
       "  <thead>\n",
       "    <tr style=\"text-align: right;\">\n",
       "      <th></th>\n",
       "      <th>PassengerId</th>\n",
       "      <th>Survived</th>\n",
       "      <th>Pclass</th>\n",
       "      <th>Age</th>\n",
       "      <th>SibSp</th>\n",
       "      <th>Parch</th>\n",
       "      <th>Fare</th>\n",
       "    </tr>\n",
       "  </thead>\n",
       "  <tbody>\n",
       "    <tr>\n",
       "      <th>count</th>\n",
       "      <td>891.000000</td>\n",
       "      <td>891.000000</td>\n",
       "      <td>891.000000</td>\n",
       "      <td>714.000000</td>\n",
       "      <td>891.000000</td>\n",
       "      <td>891.000000</td>\n",
       "      <td>891.000000</td>\n",
       "    </tr>\n",
       "    <tr>\n",
       "      <th>mean</th>\n",
       "      <td>446.000000</td>\n",
       "      <td>0.383838</td>\n",
       "      <td>2.308642</td>\n",
       "      <td>29.699118</td>\n",
       "      <td>0.523008</td>\n",
       "      <td>0.381594</td>\n",
       "      <td>32.204208</td>\n",
       "    </tr>\n",
       "    <tr>\n",
       "      <th>std</th>\n",
       "      <td>257.353842</td>\n",
       "      <td>0.486592</td>\n",
       "      <td>0.836071</td>\n",
       "      <td>14.526497</td>\n",
       "      <td>1.102743</td>\n",
       "      <td>0.806057</td>\n",
       "      <td>49.693429</td>\n",
       "    </tr>\n",
       "    <tr>\n",
       "      <th>min</th>\n",
       "      <td>1.000000</td>\n",
       "      <td>0.000000</td>\n",
       "      <td>1.000000</td>\n",
       "      <td>0.420000</td>\n",
       "      <td>0.000000</td>\n",
       "      <td>0.000000</td>\n",
       "      <td>0.000000</td>\n",
       "    </tr>\n",
       "    <tr>\n",
       "      <th>25%</th>\n",
       "      <td>223.500000</td>\n",
       "      <td>0.000000</td>\n",
       "      <td>2.000000</td>\n",
       "      <td>20.125000</td>\n",
       "      <td>0.000000</td>\n",
       "      <td>0.000000</td>\n",
       "      <td>7.910400</td>\n",
       "    </tr>\n",
       "    <tr>\n",
       "      <th>50%</th>\n",
       "      <td>446.000000</td>\n",
       "      <td>0.000000</td>\n",
       "      <td>3.000000</td>\n",
       "      <td>28.000000</td>\n",
       "      <td>0.000000</td>\n",
       "      <td>0.000000</td>\n",
       "      <td>14.454200</td>\n",
       "    </tr>\n",
       "    <tr>\n",
       "      <th>75%</th>\n",
       "      <td>668.500000</td>\n",
       "      <td>1.000000</td>\n",
       "      <td>3.000000</td>\n",
       "      <td>38.000000</td>\n",
       "      <td>1.000000</td>\n",
       "      <td>0.000000</td>\n",
       "      <td>31.000000</td>\n",
       "    </tr>\n",
       "    <tr>\n",
       "      <th>max</th>\n",
       "      <td>891.000000</td>\n",
       "      <td>1.000000</td>\n",
       "      <td>3.000000</td>\n",
       "      <td>80.000000</td>\n",
       "      <td>8.000000</td>\n",
       "      <td>6.000000</td>\n",
       "      <td>512.329200</td>\n",
       "    </tr>\n",
       "  </tbody>\n",
       "</table>\n",
       "</div>"
      ],
      "text/plain": [
       "       PassengerId    Survived      Pclass         Age       SibSp  \\\n",
       "count   891.000000  891.000000  891.000000  714.000000  891.000000   \n",
       "mean    446.000000    0.383838    2.308642   29.699118    0.523008   \n",
       "std     257.353842    0.486592    0.836071   14.526497    1.102743   \n",
       "min       1.000000    0.000000    1.000000    0.420000    0.000000   \n",
       "25%     223.500000    0.000000    2.000000   20.125000    0.000000   \n",
       "50%     446.000000    0.000000    3.000000   28.000000    0.000000   \n",
       "75%     668.500000    1.000000    3.000000   38.000000    1.000000   \n",
       "max     891.000000    1.000000    3.000000   80.000000    8.000000   \n",
       "\n",
       "            Parch        Fare  \n",
       "count  891.000000  891.000000  \n",
       "mean     0.381594   32.204208  \n",
       "std      0.806057   49.693429  \n",
       "min      0.000000    0.000000  \n",
       "25%      0.000000    7.910400  \n",
       "50%      0.000000   14.454200  \n",
       "75%      0.000000   31.000000  \n",
       "max      6.000000  512.329200  "
      ]
     },
     "execution_count": 12,
     "metadata": {},
     "output_type": "execute_result"
    }
   ],
   "source": [
    "df_train.describe()"
   ]
  },
  {
   "cell_type": "markdown",
   "metadata": {
    "deletable": true,
    "editable": true
   },
   "source": [
    "#### Examining the categorical values"
   ]
  },
  {
   "cell_type": "code",
   "execution_count": 13,
   "metadata": {
    "collapsed": false,
    "deletable": true,
    "editable": true
   },
   "outputs": [
    {
     "name": "stdout",
     "output_type": "stream",
     "text": [
      "Unique values for category 'Sex': \b ['male' 'female'] \n",
      "Unique values for category 'Survived': \b [0 1] \n",
      "Unique values for category 'Pclass': \b [3 1 2] \n",
      "Unique values for category 'SibSp': \b [1 0 3 4 2 5 8] \n",
      "Unique values for category 'Embarked': \b ['S' 'C' 'Q' nan] \n",
      "Unique values for category 'Cabin': \b [nan 'C85' 'C123' 'E46' 'G6' 'C103' 'D56' 'A6' 'C23 C25 C27' 'B78' 'D33'\n",
      " 'B30' 'C52' 'B28' 'C83' 'F33' 'F G73' 'E31' 'A5' 'D10 D12' 'D26' 'C110'\n",
      " 'B58 B60' 'E101' 'F E69' 'D47' 'B86' 'F2' 'C2' 'E33' 'B19' 'A7' 'C49' 'F4'\n",
      " 'A32' 'B4' 'B80' 'A31' 'D36' 'D15' 'C93' 'C78' 'D35' 'C87' 'B77' 'E67'\n",
      " 'B94' 'C125' 'C99' 'C118' 'D7' 'A19' 'B49' 'D' 'C22 C26' 'C106' 'C65'\n",
      " 'E36' 'C54' 'B57 B59 B63 B66' 'C7' 'E34' 'C32' 'B18' 'C124' 'C91' 'E40'\n",
      " 'T' 'C128' 'D37' 'B35' 'E50' 'C82' 'B96 B98' 'E10' 'E44' 'A34' 'C104'\n",
      " 'C111' 'C92' 'E38' 'D21' 'E12' 'E63' 'A14' 'B37' 'C30' 'D20' 'B79' 'E25'\n",
      " 'D46' 'B73' 'C95' 'B38' 'B39' 'B22' 'C86' 'C70' 'A16' 'C101' 'C68' 'A10'\n",
      " 'E68' 'B41' 'A20' 'D19' 'D50' 'D9' 'A23' 'B50' 'A26' 'D48' 'E58' 'C126'\n",
      " 'B71' 'B51 B53 B55' 'D49' 'B5' 'B20' 'F G63' 'C62 C64' 'E24' 'C90' 'C45'\n",
      " 'E8' 'B101' 'D45' 'C46' 'D30' 'E121' 'D11' 'E77' 'F38' 'B3' 'D6' 'B82 B84'\n",
      " 'D17' 'A36' 'B102' 'B69' 'E49' 'C47' 'D28' 'E17' 'A24' 'C50' 'B42' 'C148'] \n"
     ]
    }
   ],
   "source": [
    "# There are many values for name and ticket\n",
    "\n",
    "for cat in ['Sex', 'Survived', 'Pclass', 'SibSp', 'Embarked', 'Cabin']:\n",
    "    print(\"Unique values for category '{0}': \\b {1} \".format(cat, df_train[cat].unique()))"
   ]
  },
  {
   "cell_type": "code",
   "execution_count": 14,
   "metadata": {
    "collapsed": false,
    "deletable": true,
    "editable": true
   },
   "outputs": [
    {
     "name": "stdout",
     "output_type": "stream",
     "text": [
      "0    549\n",
      "1    342\n",
      "Name: Survived, dtype: int64\n"
     ]
    }
   ],
   "source": [
    "print(df_train.Survived.value_counts())"
   ]
  },
  {
   "cell_type": "code",
   "execution_count": 15,
   "metadata": {
    "collapsed": false,
    "deletable": true,
    "editable": true
   },
   "outputs": [
    {
     "data": {
      "text/plain": [
       "Sex     Survived\n",
       "female  1           233\n",
       "        0            81\n",
       "male    0           468\n",
       "        1           109\n",
       "Name: Survived, dtype: int64"
      ]
     },
     "execution_count": 15,
     "metadata": {},
     "output_type": "execute_result"
    }
   ],
   "source": [
    "df_train.groupby('Sex').Survived.value_counts()"
   ]
  },
  {
   "cell_type": "code",
   "execution_count": 16,
   "metadata": {
    "collapsed": false,
    "deletable": true,
    "editable": true
   },
   "outputs": [
    {
     "data": {
      "text/html": [
       "<div>\n",
       "<style>\n",
       "    .dataframe thead tr:only-child th {\n",
       "        text-align: right;\n",
       "    }\n",
       "\n",
       "    .dataframe thead th {\n",
       "        text-align: left;\n",
       "    }\n",
       "\n",
       "    .dataframe tbody tr th {\n",
       "        vertical-align: top;\n",
       "    }\n",
       "</style>\n",
       "<table border=\"1\" class=\"dataframe\">\n",
       "  <thead>\n",
       "    <tr>\n",
       "      <th></th>\n",
       "      <th colspan=\"8\" halign=\"left\">Age</th>\n",
       "      <th colspan=\"2\" halign=\"left\">Fare</th>\n",
       "      <th>...</th>\n",
       "      <th colspan=\"2\" halign=\"left\">SibSp</th>\n",
       "      <th colspan=\"8\" halign=\"left\">Survived</th>\n",
       "    </tr>\n",
       "    <tr>\n",
       "      <th></th>\n",
       "      <th>count</th>\n",
       "      <th>mean</th>\n",
       "      <th>std</th>\n",
       "      <th>min</th>\n",
       "      <th>25%</th>\n",
       "      <th>50%</th>\n",
       "      <th>75%</th>\n",
       "      <th>max</th>\n",
       "      <th>count</th>\n",
       "      <th>mean</th>\n",
       "      <th>...</th>\n",
       "      <th>75%</th>\n",
       "      <th>max</th>\n",
       "      <th>count</th>\n",
       "      <th>mean</th>\n",
       "      <th>std</th>\n",
       "      <th>min</th>\n",
       "      <th>25%</th>\n",
       "      <th>50%</th>\n",
       "      <th>75%</th>\n",
       "      <th>max</th>\n",
       "    </tr>\n",
       "    <tr>\n",
       "      <th>Sex</th>\n",
       "      <th></th>\n",
       "      <th></th>\n",
       "      <th></th>\n",
       "      <th></th>\n",
       "      <th></th>\n",
       "      <th></th>\n",
       "      <th></th>\n",
       "      <th></th>\n",
       "      <th></th>\n",
       "      <th></th>\n",
       "      <th></th>\n",
       "      <th></th>\n",
       "      <th></th>\n",
       "      <th></th>\n",
       "      <th></th>\n",
       "      <th></th>\n",
       "      <th></th>\n",
       "      <th></th>\n",
       "      <th></th>\n",
       "      <th></th>\n",
       "      <th></th>\n",
       "    </tr>\n",
       "  </thead>\n",
       "  <tbody>\n",
       "    <tr>\n",
       "      <th>female</th>\n",
       "      <td>261.0</td>\n",
       "      <td>27.915709</td>\n",
       "      <td>14.110146</td>\n",
       "      <td>0.75</td>\n",
       "      <td>18.0</td>\n",
       "      <td>27.0</td>\n",
       "      <td>37.0</td>\n",
       "      <td>63.0</td>\n",
       "      <td>314.0</td>\n",
       "      <td>44.479818</td>\n",
       "      <td>...</td>\n",
       "      <td>1.0</td>\n",
       "      <td>8.0</td>\n",
       "      <td>314.0</td>\n",
       "      <td>0.742038</td>\n",
       "      <td>0.438211</td>\n",
       "      <td>0.0</td>\n",
       "      <td>0.0</td>\n",
       "      <td>1.0</td>\n",
       "      <td>1.0</td>\n",
       "      <td>1.0</td>\n",
       "    </tr>\n",
       "    <tr>\n",
       "      <th>male</th>\n",
       "      <td>453.0</td>\n",
       "      <td>30.726645</td>\n",
       "      <td>14.678201</td>\n",
       "      <td>0.42</td>\n",
       "      <td>21.0</td>\n",
       "      <td>29.0</td>\n",
       "      <td>39.0</td>\n",
       "      <td>80.0</td>\n",
       "      <td>577.0</td>\n",
       "      <td>25.523893</td>\n",
       "      <td>...</td>\n",
       "      <td>0.0</td>\n",
       "      <td>8.0</td>\n",
       "      <td>577.0</td>\n",
       "      <td>0.188908</td>\n",
       "      <td>0.391775</td>\n",
       "      <td>0.0</td>\n",
       "      <td>0.0</td>\n",
       "      <td>0.0</td>\n",
       "      <td>0.0</td>\n",
       "      <td>1.0</td>\n",
       "    </tr>\n",
       "  </tbody>\n",
       "</table>\n",
       "<p>2 rows × 56 columns</p>\n",
       "</div>"
      ],
      "text/plain": [
       "          Age                                                       Fare  \\\n",
       "        count       mean        std   min   25%   50%   75%   max  count   \n",
       "Sex                                                                        \n",
       "female  261.0  27.915709  14.110146  0.75  18.0  27.0  37.0  63.0  314.0   \n",
       "male    453.0  30.726645  14.678201  0.42  21.0  29.0  39.0  80.0  577.0   \n",
       "\n",
       "                  ...  SibSp      Survived                                     \\\n",
       "             mean ...    75%  max    count      mean       std  min  25%  50%   \n",
       "Sex               ...                                                           \n",
       "female  44.479818 ...    1.0  8.0    314.0  0.742038  0.438211  0.0  0.0  1.0   \n",
       "male    25.523893 ...    0.0  8.0    577.0  0.188908  0.391775  0.0  0.0  0.0   \n",
       "\n",
       "                  \n",
       "        75%  max  \n",
       "Sex               \n",
       "female  1.0  1.0  \n",
       "male    0.0  1.0  \n",
       "\n",
       "[2 rows x 56 columns]"
      ]
     },
     "execution_count": 16,
     "metadata": {},
     "output_type": "execute_result"
    }
   ],
   "source": [
    "df_by_sex = df_train.groupby('Sex')\n",
    "df_by_sex.describe()"
   ]
  },
  {
   "cell_type": "code",
   "execution_count": 17,
   "metadata": {
    "collapsed": false,
    "deletable": true,
    "editable": true
   },
   "outputs": [
    {
     "data": {
      "text/plain": [
       "Pclass  Survived\n",
       "1       1           136\n",
       "        0            80\n",
       "2       0            97\n",
       "        1            87\n",
       "3       0           372\n",
       "        1           119\n",
       "Name: Survived, dtype: int64"
      ]
     },
     "execution_count": 17,
     "metadata": {},
     "output_type": "execute_result"
    }
   ],
   "source": [
    "df_train.groupby('Pclass').Survived.value_counts()"
   ]
  },
  {
   "cell_type": "code",
   "execution_count": 18,
   "metadata": {
    "collapsed": false,
    "deletable": true,
    "editable": true
   },
   "outputs": [
    {
     "data": {
      "text/plain": [
       "Pclass  Survived\n",
       "1       1           136\n",
       "        0            80\n",
       "2       0            97\n",
       "        1            87\n",
       "3       0           372\n",
       "        1           119\n",
       "Name: Survived, dtype: int64"
      ]
     },
     "execution_count": 18,
     "metadata": {},
     "output_type": "execute_result"
    }
   ],
   "source": [
    "df_train.groupby(['Pclass']).Survived.value_counts()"
   ]
  },
  {
   "cell_type": "code",
   "execution_count": 19,
   "metadata": {
    "collapsed": false,
    "deletable": true,
    "editable": true
   },
   "outputs": [
    {
     "data": {
      "text/plain": [
       "Pclass  Sex   \n",
       "1       male      122\n",
       "        female     94\n",
       "2       male      108\n",
       "        female     76\n",
       "3       male      347\n",
       "        female    144\n",
       "Name: Sex, dtype: int64"
      ]
     },
     "execution_count": 19,
     "metadata": {},
     "output_type": "execute_result"
    }
   ],
   "source": [
    "df_train.groupby(['Pclass']).Sex.value_counts()"
   ]
  },
  {
   "cell_type": "code",
   "execution_count": 20,
   "metadata": {
    "collapsed": false,
    "deletable": true,
    "editable": true
   },
   "outputs": [
    {
     "name": "stdout",
     "output_type": "stream",
     "text": [
      "Male\n",
      "1 122\n",
      "2 108\n",
      "3 347\n",
      "\n",
      "Female\n",
      "1 94\n",
      "2 76\n",
      "3 144\n"
     ]
    }
   ],
   "source": [
    "print('Male')\n",
    "for i in range(1,4):\n",
    "    print(i, len(df_train[ (df_train['Sex'] == 'male') & (df_train['Pclass'] == i) ]))\n",
    "print()\n",
    "print('Female')\n",
    "for i in range(1,4):\n",
    "    print(i, len(df_train[ (df_train['Sex'] == 'female') & (df_train['Pclass'] == i) ]))"
   ]
  },
  {
   "cell_type": "code",
   "execution_count": 21,
   "metadata": {
    "collapsed": false,
    "deletable": true,
    "editable": true
   },
   "outputs": [
    {
     "data": {
      "text/html": [
       "<div>\n",
       "<style>\n",
       "    .dataframe thead tr:only-child th {\n",
       "        text-align: right;\n",
       "    }\n",
       "\n",
       "    .dataframe thead th {\n",
       "        text-align: left;\n",
       "    }\n",
       "\n",
       "    .dataframe tbody tr th {\n",
       "        vertical-align: top;\n",
       "    }\n",
       "</style>\n",
       "<table border=\"1\" class=\"dataframe\">\n",
       "  <thead>\n",
       "    <tr>\n",
       "      <th></th>\n",
       "      <th colspan=\"8\" halign=\"left\">Age</th>\n",
       "      <th colspan=\"2\" halign=\"left\">Fare</th>\n",
       "      <th>...</th>\n",
       "      <th colspan=\"2\" halign=\"left\">SibSp</th>\n",
       "      <th colspan=\"8\" halign=\"left\">Survived</th>\n",
       "    </tr>\n",
       "    <tr>\n",
       "      <th></th>\n",
       "      <th>count</th>\n",
       "      <th>mean</th>\n",
       "      <th>std</th>\n",
       "      <th>min</th>\n",
       "      <th>25%</th>\n",
       "      <th>50%</th>\n",
       "      <th>75%</th>\n",
       "      <th>max</th>\n",
       "      <th>count</th>\n",
       "      <th>mean</th>\n",
       "      <th>...</th>\n",
       "      <th>75%</th>\n",
       "      <th>max</th>\n",
       "      <th>count</th>\n",
       "      <th>mean</th>\n",
       "      <th>std</th>\n",
       "      <th>min</th>\n",
       "      <th>25%</th>\n",
       "      <th>50%</th>\n",
       "      <th>75%</th>\n",
       "      <th>max</th>\n",
       "    </tr>\n",
       "    <tr>\n",
       "      <th>Pclass</th>\n",
       "      <th></th>\n",
       "      <th></th>\n",
       "      <th></th>\n",
       "      <th></th>\n",
       "      <th></th>\n",
       "      <th></th>\n",
       "      <th></th>\n",
       "      <th></th>\n",
       "      <th></th>\n",
       "      <th></th>\n",
       "      <th></th>\n",
       "      <th></th>\n",
       "      <th></th>\n",
       "      <th></th>\n",
       "      <th></th>\n",
       "      <th></th>\n",
       "      <th></th>\n",
       "      <th></th>\n",
       "      <th></th>\n",
       "      <th></th>\n",
       "      <th></th>\n",
       "    </tr>\n",
       "  </thead>\n",
       "  <tbody>\n",
       "    <tr>\n",
       "      <th>1</th>\n",
       "      <td>186.0</td>\n",
       "      <td>38.233441</td>\n",
       "      <td>14.802856</td>\n",
       "      <td>0.92</td>\n",
       "      <td>27.0</td>\n",
       "      <td>37.0</td>\n",
       "      <td>49.0</td>\n",
       "      <td>80.0</td>\n",
       "      <td>216.0</td>\n",
       "      <td>84.154687</td>\n",
       "      <td>...</td>\n",
       "      <td>1.0</td>\n",
       "      <td>3.0</td>\n",
       "      <td>216.0</td>\n",
       "      <td>0.629630</td>\n",
       "      <td>0.484026</td>\n",
       "      <td>0.0</td>\n",
       "      <td>0.0</td>\n",
       "      <td>1.0</td>\n",
       "      <td>1.0</td>\n",
       "      <td>1.0</td>\n",
       "    </tr>\n",
       "    <tr>\n",
       "      <th>2</th>\n",
       "      <td>173.0</td>\n",
       "      <td>29.877630</td>\n",
       "      <td>14.001077</td>\n",
       "      <td>0.67</td>\n",
       "      <td>23.0</td>\n",
       "      <td>29.0</td>\n",
       "      <td>36.0</td>\n",
       "      <td>70.0</td>\n",
       "      <td>184.0</td>\n",
       "      <td>20.662183</td>\n",
       "      <td>...</td>\n",
       "      <td>1.0</td>\n",
       "      <td>3.0</td>\n",
       "      <td>184.0</td>\n",
       "      <td>0.472826</td>\n",
       "      <td>0.500623</td>\n",
       "      <td>0.0</td>\n",
       "      <td>0.0</td>\n",
       "      <td>0.0</td>\n",
       "      <td>1.0</td>\n",
       "      <td>1.0</td>\n",
       "    </tr>\n",
       "    <tr>\n",
       "      <th>3</th>\n",
       "      <td>355.0</td>\n",
       "      <td>25.140620</td>\n",
       "      <td>12.495398</td>\n",
       "      <td>0.42</td>\n",
       "      <td>18.0</td>\n",
       "      <td>24.0</td>\n",
       "      <td>32.0</td>\n",
       "      <td>74.0</td>\n",
       "      <td>491.0</td>\n",
       "      <td>13.675550</td>\n",
       "      <td>...</td>\n",
       "      <td>1.0</td>\n",
       "      <td>8.0</td>\n",
       "      <td>491.0</td>\n",
       "      <td>0.242363</td>\n",
       "      <td>0.428949</td>\n",
       "      <td>0.0</td>\n",
       "      <td>0.0</td>\n",
       "      <td>0.0</td>\n",
       "      <td>0.0</td>\n",
       "      <td>1.0</td>\n",
       "    </tr>\n",
       "  </tbody>\n",
       "</table>\n",
       "<p>3 rows × 48 columns</p>\n",
       "</div>"
      ],
      "text/plain": [
       "          Age                                                       Fare  \\\n",
       "        count       mean        std   min   25%   50%   75%   max  count   \n",
       "Pclass                                                                     \n",
       "1       186.0  38.233441  14.802856  0.92  27.0  37.0  49.0  80.0  216.0   \n",
       "2       173.0  29.877630  14.001077  0.67  23.0  29.0  36.0  70.0  184.0   \n",
       "3       355.0  25.140620  12.495398  0.42  18.0  24.0  32.0  74.0  491.0   \n",
       "\n",
       "                  ...  SibSp      Survived                                     \\\n",
       "             mean ...    75%  max    count      mean       std  min  25%  50%   \n",
       "Pclass            ...                                                           \n",
       "1       84.154687 ...    1.0  3.0    216.0  0.629630  0.484026  0.0  0.0  1.0   \n",
       "2       20.662183 ...    1.0  3.0    184.0  0.472826  0.500623  0.0  0.0  0.0   \n",
       "3       13.675550 ...    1.0  8.0    491.0  0.242363  0.428949  0.0  0.0  0.0   \n",
       "\n",
       "                  \n",
       "        75%  max  \n",
       "Pclass            \n",
       "1       1.0  1.0  \n",
       "2       1.0  1.0  \n",
       "3       0.0  1.0  \n",
       "\n",
       "[3 rows x 48 columns]"
      ]
     },
     "execution_count": 21,
     "metadata": {},
     "output_type": "execute_result"
    }
   ],
   "source": [
    "df_by_class = df_train.groupby('Pclass')\n",
    "df_by_class.describe()"
   ]
  },
  {
   "cell_type": "code",
   "execution_count": 22,
   "metadata": {
    "collapsed": false,
    "deletable": true,
    "editable": true
   },
   "outputs": [
    {
     "data": {
      "text/plain": [
       "Pclass  Sex     Survived\n",
       "1       female  1            91\n",
       "                0             3\n",
       "        male    0            77\n",
       "                1            45\n",
       "2       female  1            70\n",
       "                0             6\n",
       "        male    0            91\n",
       "                1            17\n",
       "3       female  0            72\n",
       "                1            72\n",
       "        male    0           300\n",
       "                1            47\n",
       "Name: Survived, dtype: int64"
      ]
     },
     "execution_count": 22,
     "metadata": {},
     "output_type": "execute_result"
    }
   ],
   "source": [
    "df_train.groupby(['Pclass','Sex']).Survived.value_counts()"
   ]
  },
  {
   "cell_type": "code",
   "execution_count": 23,
   "metadata": {
    "collapsed": false,
    "deletable": true,
    "editable": true
   },
   "outputs": [
    {
     "data": {
      "text/html": [
       "<div>\n",
       "<style>\n",
       "    .dataframe thead tr:only-child th {\n",
       "        text-align: right;\n",
       "    }\n",
       "\n",
       "    .dataframe thead th {\n",
       "        text-align: left;\n",
       "    }\n",
       "\n",
       "    .dataframe tbody tr th {\n",
       "        vertical-align: top;\n",
       "    }\n",
       "</style>\n",
       "<table border=\"1\" class=\"dataframe\">\n",
       "  <thead>\n",
       "    <tr style=\"text-align: right;\">\n",
       "      <th></th>\n",
       "      <th>Survived</th>\n",
       "      <th>No</th>\n",
       "      <th>Yes</th>\n",
       "    </tr>\n",
       "    <tr>\n",
       "      <th>Pclass</th>\n",
       "      <th>Sex</th>\n",
       "      <th></th>\n",
       "      <th></th>\n",
       "    </tr>\n",
       "  </thead>\n",
       "  <tbody>\n",
       "    <tr>\n",
       "      <th rowspan=\"2\" valign=\"top\">1</th>\n",
       "      <th>female</th>\n",
       "      <td>0.031915</td>\n",
       "      <td>0.968085</td>\n",
       "    </tr>\n",
       "    <tr>\n",
       "      <th>male</th>\n",
       "      <td>0.631148</td>\n",
       "      <td>0.368852</td>\n",
       "    </tr>\n",
       "    <tr>\n",
       "      <th rowspan=\"2\" valign=\"top\">2</th>\n",
       "      <th>female</th>\n",
       "      <td>0.078947</td>\n",
       "      <td>0.921053</td>\n",
       "    </tr>\n",
       "    <tr>\n",
       "      <th>male</th>\n",
       "      <td>0.842593</td>\n",
       "      <td>0.157407</td>\n",
       "    </tr>\n",
       "    <tr>\n",
       "      <th rowspan=\"2\" valign=\"top\">3</th>\n",
       "      <th>female</th>\n",
       "      <td>0.500000</td>\n",
       "      <td>0.500000</td>\n",
       "    </tr>\n",
       "    <tr>\n",
       "      <th>male</th>\n",
       "      <td>0.864553</td>\n",
       "      <td>0.135447</td>\n",
       "    </tr>\n",
       "  </tbody>\n",
       "</table>\n",
       "</div>"
      ],
      "text/plain": [
       "Survived             No       Yes\n",
       "Pclass Sex                       \n",
       "1      female  0.031915  0.968085\n",
       "       male    0.631148  0.368852\n",
       "2      female  0.078947  0.921053\n",
       "       male    0.842593  0.157407\n",
       "3      female  0.500000  0.500000\n",
       "       male    0.864553  0.135447"
      ]
     },
     "execution_count": 23,
     "metadata": {},
     "output_type": "execute_result"
    }
   ],
   "source": [
    "id = pd.crosstab([df_train.Pclass, df_train.Sex], df_train.Survived.astype(float))\n",
    "id.columns = (['No', 'Yes'])\n",
    "id.columns.name = \"Survived\"\n",
    "id.div(id.sum(1).astype(float), 0)"
   ]
  },
  {
   "cell_type": "code",
   "execution_count": 24,
   "metadata": {
    "collapsed": false,
    "deletable": true,
    "editable": true
   },
   "outputs": [
    {
     "data": {
      "text/plain": [
       "<matplotlib.axes._subplots.AxesSubplot at 0x7f7c9643c828>"
      ]
     },
     "execution_count": 24,
     "metadata": {},
     "output_type": "execute_result"
    },
    {
     "data": {
      "image/png": "[encoded data removed]",
      "text/plain": [
       "<matplotlib.figure.Figure at 0x7f7c9641ef28>"
      ]
     },
     "metadata": {},
     "output_type": "display_data"
    }
   ],
   "source": [
    "#df_train['Age'].hist()\n",
    "df_train['Age'].dropna().hist(bins=16, range=(0,80), alpha = .5, figsize=(10,6))"
   ]
  },
  {
   "cell_type": "code",
   "execution_count": 25,
   "metadata": {
    "collapsed": false,
    "deletable": true,
    "editable": true
   },
   "outputs": [
    {
     "name": "stdout",
     "output_type": "stream",
     "text": [
      "[  0.42  19.    25.    31.8   41.    80.  ]\n"
     ]
    },
    {
     "data": {
      "text/plain": [
       "Age  Survived\n",
       "0.0  0           85\n",
       "     1           79\n",
       "1.0  0           92\n",
       "     1           45\n",
       "2.0  0           77\n",
       "     1           50\n",
       "3.0  0           81\n",
       "     1           63\n",
       "4.0  0           89\n",
       "     1           53\n",
       "Name: Survived, dtype: int64"
      ]
     },
     "execution_count": 25,
     "metadata": {},
     "output_type": "execute_result"
    }
   ],
   "source": [
    "ser, bins = pd.qcut(df_train.Age.dropna(), 5, retbins=True, labels=False)\n",
    "print(bins)\n",
    "df_train.groupby(ser).Survived.value_counts()"
   ]
  },
  {
   "cell_type": "markdown",
   "metadata": {
    "deletable": true,
    "editable": true
   },
   "source": [
    "#### Feature engineering"
   ]
  },
  {
   "cell_type": "code",
   "execution_count": 26,
   "metadata": {
    "collapsed": true,
    "deletable": true,
    "editable": true
   },
   "outputs": [],
   "source": [
    "df_train['Gender'] = df_train['Sex'].map( {'female': 0, 'male': 1} ).astype(int)\n",
    "df_test['Gender'] = df_test['Sex'].map( {'female': 0, 'male': 1} ).astype(int)"
   ]
  },
  {
   "cell_type": "markdown",
   "metadata": {
    "deletable": true,
    "editable": true
   },
   "source": [
    "#### Filling the null values for Age"
   ]
  },
  {
   "cell_type": "code",
   "execution_count": 27,
   "metadata": {
    "collapsed": false,
    "deletable": true,
    "editable": true
   },
   "outputs": [
    {
     "name": "stdout",
     "output_type": "stream",
     "text": [
      "177\n",
      "86\n"
     ]
    }
   ],
   "source": [
    "print(len(df_train[df_train['Age'].isnull()]))\n",
    "print(len(df_test[df_test['Age'].isnull()]))"
   ]
  },
  {
   "cell_type": "code",
   "execution_count": 28,
   "metadata": {
    "collapsed": true,
    "deletable": true,
    "editable": true
   },
   "outputs": [],
   "source": [
    "df_train['AgeFill'] = df_train['Age']\n",
    "df_test['AgeFill'] = df_test['Age']"
   ]
  },
  {
   "cell_type": "code",
   "execution_count": 29,
   "metadata": {
    "collapsed": false,
    "deletable": true,
    "editable": true
   },
   "outputs": [
    {
     "data": {
      "text/html": [
       "<div>\n",
       "<style>\n",
       "    .dataframe thead tr:only-child th {\n",
       "        text-align: right;\n",
       "    }\n",
       "\n",
       "    .dataframe thead th {\n",
       "        text-align: left;\n",
       "    }\n",
       "\n",
       "    .dataframe tbody tr th {\n",
       "        vertical-align: top;\n",
       "    }\n",
       "</style>\n",
       "<table border=\"1\" class=\"dataframe\">\n",
       "  <thead>\n",
       "    <tr style=\"text-align: right;\">\n",
       "      <th></th>\n",
       "      <th>Gender</th>\n",
       "      <th>Pclass</th>\n",
       "      <th>Age</th>\n",
       "      <th>AgeFill</th>\n",
       "    </tr>\n",
       "  </thead>\n",
       "  <tbody>\n",
       "    <tr>\n",
       "      <th>5</th>\n",
       "      <td>1</td>\n",
       "      <td>3</td>\n",
       "      <td>NaN</td>\n",
       "      <td>NaN</td>\n",
       "    </tr>\n",
       "    <tr>\n",
       "      <th>17</th>\n",
       "      <td>1</td>\n",
       "      <td>2</td>\n",
       "      <td>NaN</td>\n",
       "      <td>NaN</td>\n",
       "    </tr>\n",
       "    <tr>\n",
       "      <th>19</th>\n",
       "      <td>0</td>\n",
       "      <td>3</td>\n",
       "      <td>NaN</td>\n",
       "      <td>NaN</td>\n",
       "    </tr>\n",
       "    <tr>\n",
       "      <th>26</th>\n",
       "      <td>1</td>\n",
       "      <td>3</td>\n",
       "      <td>NaN</td>\n",
       "      <td>NaN</td>\n",
       "    </tr>\n",
       "  </tbody>\n",
       "</table>\n",
       "</div>"
      ],
      "text/plain": [
       "    Gender  Pclass  Age  AgeFill\n",
       "5        1       3  NaN      NaN\n",
       "17       1       2  NaN      NaN\n",
       "19       0       3  NaN      NaN\n",
       "26       1       3  NaN      NaN"
      ]
     },
     "execution_count": 29,
     "metadata": {},
     "output_type": "execute_result"
    }
   ],
   "source": [
    "df_train[df_train['Age'].isnull()][['Gender','Pclass','Age','AgeFill']].head(4)"
   ]
  },
  {
   "cell_type": "code",
   "execution_count": 30,
   "metadata": {
    "collapsed": false,
    "deletable": true,
    "editable": true
   },
   "outputs": [
    {
     "data": {
      "text/plain": [
       "array([[ 35. ,  28. ,  21.5],\n",
       "       [ 40. ,  30. ,  25. ]])"
      ]
     },
     "execution_count": 30,
     "metadata": {},
     "output_type": "execute_result"
    }
   ],
   "source": [
    "median_ages = np.zeros((2,3))\n",
    "for i in range(0, 2):\n",
    "    for j in range(0, 3):\n",
    "        median_ages[i,j] = df_train[(df_train['Gender'] == i) & (df_train['Pclass'] == j+1)]['Age'].dropna().median()\n",
    "\n",
    "median_ages"
   ]
  },
  {
   "cell_type": "code",
   "execution_count": 31,
   "metadata": {
    "collapsed": true,
    "deletable": true,
    "editable": true
   },
   "outputs": [],
   "source": [
    "for i in range(0, 2):\n",
    "    for j in range(0, 3):\n",
    "        df_train.loc[(df_train.Age.isnull()) & (df_train.Gender == i) & (df_train.Pclass == j+1),'AgeFill'] = median_ages[i,j]\n",
    "        df_test.loc[(df_test.Age.isnull()) & (df_test.Gender == i) & (df_test.Pclass == j+1),'AgeFill'] = median_ages[i,j]"
   ]
  },
  {
   "cell_type": "code",
   "execution_count": 32,
   "metadata": {
    "collapsed": false,
    "deletable": true,
    "editable": true
   },
   "outputs": [
    {
     "data": {
      "text/html": [
       "<div>\n",
       "<style>\n",
       "    .dataframe thead tr:only-child th {\n",
       "        text-align: right;\n",
       "    }\n",
       "\n",
       "    .dataframe thead th {\n",
       "        text-align: left;\n",
       "    }\n",
       "\n",
       "    .dataframe tbody tr th {\n",
       "        vertical-align: top;\n",
       "    }\n",
       "</style>\n",
       "<table border=\"1\" class=\"dataframe\">\n",
       "  <thead>\n",
       "    <tr style=\"text-align: right;\">\n",
       "      <th></th>\n",
       "      <th>Gender</th>\n",
       "      <th>Pclass</th>\n",
       "      <th>Age</th>\n",
       "      <th>AgeFill</th>\n",
       "    </tr>\n",
       "  </thead>\n",
       "  <tbody>\n",
       "    <tr>\n",
       "      <th>5</th>\n",
       "      <td>1</td>\n",
       "      <td>3</td>\n",
       "      <td>NaN</td>\n",
       "      <td>25.0</td>\n",
       "    </tr>\n",
       "    <tr>\n",
       "      <th>17</th>\n",
       "      <td>1</td>\n",
       "      <td>2</td>\n",
       "      <td>NaN</td>\n",
       "      <td>30.0</td>\n",
       "    </tr>\n",
       "    <tr>\n",
       "      <th>19</th>\n",
       "      <td>0</td>\n",
       "      <td>3</td>\n",
       "      <td>NaN</td>\n",
       "      <td>21.5</td>\n",
       "    </tr>\n",
       "    <tr>\n",
       "      <th>26</th>\n",
       "      <td>1</td>\n",
       "      <td>3</td>\n",
       "      <td>NaN</td>\n",
       "      <td>25.0</td>\n",
       "    </tr>\n",
       "  </tbody>\n",
       "</table>\n",
       "</div>"
      ],
      "text/plain": [
       "    Gender  Pclass  Age  AgeFill\n",
       "5        1       3  NaN     25.0\n",
       "17       1       2  NaN     30.0\n",
       "19       0       3  NaN     21.5\n",
       "26       1       3  NaN     25.0"
      ]
     },
     "execution_count": 32,
     "metadata": {},
     "output_type": "execute_result"
    }
   ],
   "source": [
    "df_train[df_train['Age'].isnull()][['Gender','Pclass','Age','AgeFill']].head(4)"
   ]
  },
  {
   "cell_type": "markdown",
   "metadata": {
    "deletable": true,
    "editable": true
   },
   "source": [
    "#### One-Hot-Enconding the field \"Embarked\""
   ]
  },
  {
   "cell_type": "code",
   "execution_count": 33,
   "metadata": {
    "collapsed": true,
    "deletable": true,
    "editable": true
   },
   "outputs": [],
   "source": [
    "from sklearn.preprocessing import LabelBinarizer, MultiLabelBinarizer\n",
    "lb = LabelBinarizer()\n",
    "mlb = MultiLabelBinarizer()"
   ]
  },
  {
   "cell_type": "code",
   "execution_count": 34,
   "metadata": {
    "collapsed": false,
    "deletable": true,
    "editable": true
   },
   "outputs": [
    {
     "data": {
      "text/plain": [
       "Embarked  Survived\n",
       "C         1            93\n",
       "          0            75\n",
       "Q         0            47\n",
       "          1            30\n",
       "S         0           427\n",
       "          1           217\n",
       "Name: Survived, dtype: int64"
      ]
     },
     "execution_count": 34,
     "metadata": {},
     "output_type": "execute_result"
    }
   ],
   "source": [
    "df_train.groupby(['Embarked']).Survived.value_counts()"
   ]
  },
  {
   "cell_type": "code",
   "execution_count": 35,
   "metadata": {
    "collapsed": false,
    "deletable": true,
    "editable": true
   },
   "outputs": [
    {
     "data": {
      "text/html": [
       "<div>\n",
       "<style>\n",
       "    .dataframe thead tr:only-child th {\n",
       "        text-align: right;\n",
       "    }\n",
       "\n",
       "    .dataframe thead th {\n",
       "        text-align: left;\n",
       "    }\n",
       "\n",
       "    .dataframe tbody tr th {\n",
       "        vertical-align: top;\n",
       "    }\n",
       "</style>\n",
       "<table border=\"1\" class=\"dataframe\">\n",
       "  <thead>\n",
       "    <tr style=\"text-align: right;\">\n",
       "      <th></th>\n",
       "      <th>PassengerId</th>\n",
       "      <th>Survived</th>\n",
       "      <th>Pclass</th>\n",
       "      <th>Name</th>\n",
       "      <th>Sex</th>\n",
       "      <th>Age</th>\n",
       "      <th>SibSp</th>\n",
       "      <th>Parch</th>\n",
       "      <th>Ticket</th>\n",
       "      <th>Fare</th>\n",
       "      <th>Cabin</th>\n",
       "      <th>Embarked</th>\n",
       "      <th>Gender</th>\n",
       "      <th>AgeFill</th>\n",
       "    </tr>\n",
       "  </thead>\n",
       "  <tbody>\n",
       "    <tr>\n",
       "      <th>61</th>\n",
       "      <td>62</td>\n",
       "      <td>1</td>\n",
       "      <td>1</td>\n",
       "      <td>Icard, Miss. Amelie</td>\n",
       "      <td>female</td>\n",
       "      <td>38.0</td>\n",
       "      <td>0</td>\n",
       "      <td>0</td>\n",
       "      <td>113572</td>\n",
       "      <td>80.0</td>\n",
       "      <td>B28</td>\n",
       "      <td>NaN</td>\n",
       "      <td>0</td>\n",
       "      <td>38.0</td>\n",
       "    </tr>\n",
       "    <tr>\n",
       "      <th>829</th>\n",
       "      <td>830</td>\n",
       "      <td>1</td>\n",
       "      <td>1</td>\n",
       "      <td>Stone, Mrs. George Nelson (Martha Evelyn)</td>\n",
       "      <td>female</td>\n",
       "      <td>62.0</td>\n",
       "      <td>0</td>\n",
       "      <td>0</td>\n",
       "      <td>113572</td>\n",
       "      <td>80.0</td>\n",
       "      <td>B28</td>\n",
       "      <td>NaN</td>\n",
       "      <td>0</td>\n",
       "      <td>62.0</td>\n",
       "    </tr>\n",
       "  </tbody>\n",
       "</table>\n",
       "</div>"
      ],
      "text/plain": [
       "     PassengerId  Survived  Pclass                                       Name  \\\n",
       "61            62         1       1                        Icard, Miss. Amelie   \n",
       "829          830         1       1  Stone, Mrs. George Nelson (Martha Evelyn)   \n",
       "\n",
       "        Sex   Age  SibSp  Parch  Ticket  Fare Cabin Embarked  Gender  AgeFill  \n",
       "61   female  38.0      0      0  113572  80.0   B28      NaN       0     38.0  \n",
       "829  female  62.0      0      0  113572  80.0   B28      NaN       0     62.0  "
      ]
     },
     "execution_count": 35,
     "metadata": {},
     "output_type": "execute_result"
    }
   ],
   "source": [
    "df_train[df_train['Embarked'].isnull()]"
   ]
  },
  {
   "cell_type": "code",
   "execution_count": 36,
   "metadata": {
    "collapsed": false,
    "deletable": true,
    "editable": true
   },
   "outputs": [
    {
     "data": {
      "text/html": [
       "<div>\n",
       "<style>\n",
       "    .dataframe thead tr:only-child th {\n",
       "        text-align: right;\n",
       "    }\n",
       "\n",
       "    .dataframe thead th {\n",
       "        text-align: left;\n",
       "    }\n",
       "\n",
       "    .dataframe tbody tr th {\n",
       "        vertical-align: top;\n",
       "    }\n",
       "</style>\n",
       "<table border=\"1\" class=\"dataframe\">\n",
       "  <thead>\n",
       "    <tr style=\"text-align: right;\">\n",
       "      <th></th>\n",
       "      <th>PassengerId</th>\n",
       "      <th>Survived</th>\n",
       "      <th>Pclass</th>\n",
       "      <th>Name</th>\n",
       "      <th>Sex</th>\n",
       "      <th>Age</th>\n",
       "      <th>SibSp</th>\n",
       "      <th>Parch</th>\n",
       "      <th>Ticket</th>\n",
       "      <th>Fare</th>\n",
       "      <th>Cabin</th>\n",
       "      <th>Embarked</th>\n",
       "      <th>Gender</th>\n",
       "      <th>AgeFill</th>\n",
       "    </tr>\n",
       "  </thead>\n",
       "  <tbody>\n",
       "    <tr>\n",
       "      <th>59</th>\n",
       "      <td>60</td>\n",
       "      <td>0</td>\n",
       "      <td>3</td>\n",
       "      <td>Goodwin, Master. William Frederick</td>\n",
       "      <td>male</td>\n",
       "      <td>11.0</td>\n",
       "      <td>5</td>\n",
       "      <td>2</td>\n",
       "      <td>CA 2144</td>\n",
       "      <td>46.9000</td>\n",
       "      <td>NaN</td>\n",
       "      <td>S</td>\n",
       "      <td>1</td>\n",
       "      <td>11.0</td>\n",
       "    </tr>\n",
       "    <tr>\n",
       "      <th>60</th>\n",
       "      <td>61</td>\n",
       "      <td>0</td>\n",
       "      <td>3</td>\n",
       "      <td>Sirayanian, Mr. Orsen</td>\n",
       "      <td>male</td>\n",
       "      <td>22.0</td>\n",
       "      <td>0</td>\n",
       "      <td>0</td>\n",
       "      <td>2669</td>\n",
       "      <td>7.2292</td>\n",
       "      <td>NaN</td>\n",
       "      <td>C</td>\n",
       "      <td>1</td>\n",
       "      <td>22.0</td>\n",
       "    </tr>\n",
       "    <tr>\n",
       "      <th>61</th>\n",
       "      <td>62</td>\n",
       "      <td>1</td>\n",
       "      <td>1</td>\n",
       "      <td>Icard, Miss. Amelie</td>\n",
       "      <td>female</td>\n",
       "      <td>38.0</td>\n",
       "      <td>0</td>\n",
       "      <td>0</td>\n",
       "      <td>113572</td>\n",
       "      <td>80.0000</td>\n",
       "      <td>B28</td>\n",
       "      <td>NaN</td>\n",
       "      <td>0</td>\n",
       "      <td>38.0</td>\n",
       "    </tr>\n",
       "    <tr>\n",
       "      <th>62</th>\n",
       "      <td>63</td>\n",
       "      <td>0</td>\n",
       "      <td>1</td>\n",
       "      <td>Harris, Mr. Henry Birkhardt</td>\n",
       "      <td>male</td>\n",
       "      <td>45.0</td>\n",
       "      <td>1</td>\n",
       "      <td>0</td>\n",
       "      <td>36973</td>\n",
       "      <td>83.4750</td>\n",
       "      <td>C83</td>\n",
       "      <td>S</td>\n",
       "      <td>1</td>\n",
       "      <td>45.0</td>\n",
       "    </tr>\n",
       "    <tr>\n",
       "      <th>63</th>\n",
       "      <td>64</td>\n",
       "      <td>0</td>\n",
       "      <td>3</td>\n",
       "      <td>Skoog, Master. Harald</td>\n",
       "      <td>male</td>\n",
       "      <td>4.0</td>\n",
       "      <td>3</td>\n",
       "      <td>2</td>\n",
       "      <td>347088</td>\n",
       "      <td>27.9000</td>\n",
       "      <td>NaN</td>\n",
       "      <td>S</td>\n",
       "      <td>1</td>\n",
       "      <td>4.0</td>\n",
       "    </tr>\n",
       "  </tbody>\n",
       "</table>\n",
       "</div>"
      ],
      "text/plain": [
       "    PassengerId  Survived  Pclass                                Name     Sex  \\\n",
       "59           60         0       3  Goodwin, Master. William Frederick    male   \n",
       "60           61         0       3               Sirayanian, Mr. Orsen    male   \n",
       "61           62         1       1                 Icard, Miss. Amelie  female   \n",
       "62           63         0       1         Harris, Mr. Henry Birkhardt    male   \n",
       "63           64         0       3               Skoog, Master. Harald    male   \n",
       "\n",
       "     Age  SibSp  Parch   Ticket     Fare Cabin Embarked  Gender  AgeFill  \n",
       "59  11.0      5      2  CA 2144  46.9000   NaN        S       1     11.0  \n",
       "60  22.0      0      0     2669   7.2292   NaN        C       1     22.0  \n",
       "61  38.0      0      0   113572  80.0000   B28      NaN       0     38.0  \n",
       "62  45.0      1      0    36973  83.4750   C83        S       1     45.0  \n",
       "63   4.0      3      2   347088  27.9000   NaN        S       1      4.0  "
      ]
     },
     "execution_count": 36,
     "metadata": {},
     "output_type": "execute_result"
    }
   ],
   "source": [
    "df_train[59:64]"
   ]
  },
  {
   "cell_type": "code",
   "execution_count": 37,
   "metadata": {
    "collapsed": false,
    "deletable": true,
    "editable": true
   },
   "outputs": [
    {
     "data": {
      "text/html": [
       "<div>\n",
       "<style>\n",
       "    .dataframe thead tr:only-child th {\n",
       "        text-align: right;\n",
       "    }\n",
       "\n",
       "    .dataframe thead th {\n",
       "        text-align: left;\n",
       "    }\n",
       "\n",
       "    .dataframe tbody tr th {\n",
       "        vertical-align: top;\n",
       "    }\n",
       "</style>\n",
       "<table border=\"1\" class=\"dataframe\">\n",
       "  <thead>\n",
       "    <tr style=\"text-align: right;\">\n",
       "      <th></th>\n",
       "      <th>PassengerId</th>\n",
       "      <th>Survived</th>\n",
       "      <th>Pclass</th>\n",
       "      <th>Name</th>\n",
       "      <th>Sex</th>\n",
       "      <th>Age</th>\n",
       "      <th>SibSp</th>\n",
       "      <th>Parch</th>\n",
       "      <th>Ticket</th>\n",
       "      <th>Fare</th>\n",
       "      <th>Cabin</th>\n",
       "      <th>Embarked</th>\n",
       "      <th>Gender</th>\n",
       "      <th>AgeFill</th>\n",
       "    </tr>\n",
       "  </thead>\n",
       "  <tbody>\n",
       "    <tr>\n",
       "      <th>826</th>\n",
       "      <td>827</td>\n",
       "      <td>0</td>\n",
       "      <td>3</td>\n",
       "      <td>Lam, Mr. Len</td>\n",
       "      <td>male</td>\n",
       "      <td>NaN</td>\n",
       "      <td>0</td>\n",
       "      <td>0</td>\n",
       "      <td>1601</td>\n",
       "      <td>56.4958</td>\n",
       "      <td>NaN</td>\n",
       "      <td>S</td>\n",
       "      <td>1</td>\n",
       "      <td>25.00</td>\n",
       "    </tr>\n",
       "    <tr>\n",
       "      <th>827</th>\n",
       "      <td>828</td>\n",
       "      <td>1</td>\n",
       "      <td>2</td>\n",
       "      <td>Mallet, Master. Andre</td>\n",
       "      <td>male</td>\n",
       "      <td>1.00</td>\n",
       "      <td>0</td>\n",
       "      <td>2</td>\n",
       "      <td>S.C./PARIS 2079</td>\n",
       "      <td>37.0042</td>\n",
       "      <td>NaN</td>\n",
       "      <td>C</td>\n",
       "      <td>1</td>\n",
       "      <td>1.00</td>\n",
       "    </tr>\n",
       "    <tr>\n",
       "      <th>828</th>\n",
       "      <td>829</td>\n",
       "      <td>1</td>\n",
       "      <td>3</td>\n",
       "      <td>McCormack, Mr. Thomas Joseph</td>\n",
       "      <td>male</td>\n",
       "      <td>NaN</td>\n",
       "      <td>0</td>\n",
       "      <td>0</td>\n",
       "      <td>367228</td>\n",
       "      <td>7.7500</td>\n",
       "      <td>NaN</td>\n",
       "      <td>Q</td>\n",
       "      <td>1</td>\n",
       "      <td>25.00</td>\n",
       "    </tr>\n",
       "    <tr>\n",
       "      <th>829</th>\n",
       "      <td>830</td>\n",
       "      <td>1</td>\n",
       "      <td>1</td>\n",
       "      <td>Stone, Mrs. George Nelson (Martha Evelyn)</td>\n",
       "      <td>female</td>\n",
       "      <td>62.00</td>\n",
       "      <td>0</td>\n",
       "      <td>0</td>\n",
       "      <td>113572</td>\n",
       "      <td>80.0000</td>\n",
       "      <td>B28</td>\n",
       "      <td>NaN</td>\n",
       "      <td>0</td>\n",
       "      <td>62.00</td>\n",
       "    </tr>\n",
       "    <tr>\n",
       "      <th>830</th>\n",
       "      <td>831</td>\n",
       "      <td>1</td>\n",
       "      <td>3</td>\n",
       "      <td>Yasbeck, Mrs. Antoni (Selini Alexander)</td>\n",
       "      <td>female</td>\n",
       "      <td>15.00</td>\n",
       "      <td>1</td>\n",
       "      <td>0</td>\n",
       "      <td>2659</td>\n",
       "      <td>14.4542</td>\n",
       "      <td>NaN</td>\n",
       "      <td>C</td>\n",
       "      <td>0</td>\n",
       "      <td>15.00</td>\n",
       "    </tr>\n",
       "    <tr>\n",
       "      <th>831</th>\n",
       "      <td>832</td>\n",
       "      <td>1</td>\n",
       "      <td>2</td>\n",
       "      <td>Richards, Master. George Sibley</td>\n",
       "      <td>male</td>\n",
       "      <td>0.83</td>\n",
       "      <td>1</td>\n",
       "      <td>1</td>\n",
       "      <td>29106</td>\n",
       "      <td>18.7500</td>\n",
       "      <td>NaN</td>\n",
       "      <td>S</td>\n",
       "      <td>1</td>\n",
       "      <td>0.83</td>\n",
       "    </tr>\n",
       "  </tbody>\n",
       "</table>\n",
       "</div>"
      ],
      "text/plain": [
       "     PassengerId  Survived  Pclass                                       Name  \\\n",
       "826          827         0       3                               Lam, Mr. Len   \n",
       "827          828         1       2                      Mallet, Master. Andre   \n",
       "828          829         1       3               McCormack, Mr. Thomas Joseph   \n",
       "829          830         1       1  Stone, Mrs. George Nelson (Martha Evelyn)   \n",
       "830          831         1       3    Yasbeck, Mrs. Antoni (Selini Alexander)   \n",
       "831          832         1       2            Richards, Master. George Sibley   \n",
       "\n",
       "        Sex    Age  SibSp  Parch           Ticket     Fare Cabin Embarked  \\\n",
       "826    male    NaN      0      0             1601  56.4958   NaN        S   \n",
       "827    male   1.00      0      2  S.C./PARIS 2079  37.0042   NaN        C   \n",
       "828    male    NaN      0      0           367228   7.7500   NaN        Q   \n",
       "829  female  62.00      0      0           113572  80.0000   B28      NaN   \n",
       "830  female  15.00      1      0             2659  14.4542   NaN        C   \n",
       "831    male   0.83      1      1            29106  18.7500   NaN        S   \n",
       "\n",
       "     Gender  AgeFill  \n",
       "826       1    25.00  \n",
       "827       1     1.00  \n",
       "828       1    25.00  \n",
       "829       0    62.00  \n",
       "830       0    15.00  \n",
       "831       1     0.83  "
      ]
     },
     "execution_count": 37,
     "metadata": {},
     "output_type": "execute_result"
    }
   ],
   "source": [
    "df_train[826:832]"
   ]
  },
  {
   "cell_type": "code",
   "execution_count": 38,
   "metadata": {
    "collapsed": false,
    "deletable": true,
    "editable": true
   },
   "outputs": [
    {
     "data": {
      "text/plain": [
       "Embarked\n",
       "C    59.954144\n",
       "Q    13.276030\n",
       "S    27.079812\n",
       "Name: Fare, dtype: float64"
      ]
     },
     "execution_count": 38,
     "metadata": {},
     "output_type": "execute_result"
    }
   ],
   "source": [
    "df_train.groupby(['Embarked']).Fare.mean()"
   ]
  },
  {
   "cell_type": "markdown",
   "metadata": {
    "collapsed": true,
    "deletable": true,
    "editable": true
   },
   "source": [
    "#### Associating the missing values to the most likely class"
   ]
  },
  {
   "cell_type": "code",
   "execution_count": 39,
   "metadata": {
    "collapsed": true,
    "deletable": true,
    "editable": true
   },
   "outputs": [],
   "source": [
    "df_train['Embarked'] = df_train['Embarked'].map({np.nan:1,'C':1, 'Q':2,'S':3} ).astype(int)\n",
    "df_test['Embarked'] = df_test['Embarked'].map({np.nan:1,'C':1, 'Q':2,'S':3} ).astype(int)"
   ]
  },
  {
   "cell_type": "code",
   "execution_count": 40,
   "metadata": {
    "collapsed": true,
    "deletable": true,
    "editable": true
   },
   "outputs": [],
   "source": [
    "embarked = pd.DataFrame(lb.fit_transform(df_train['Embarked'].values), columns=['Emb1','Emb2','Emb3'])\n",
    "df_train = pd.concat([df_train, embarked], axis=1)"
   ]
  },
  {
   "cell_type": "code",
   "execution_count": 41,
   "metadata": {
    "collapsed": true,
    "deletable": true,
    "editable": true
   },
   "outputs": [],
   "source": [
    "embarked = pd.DataFrame(lb.fit_transform(df_test['Embarked'].values), columns=['Emb1','Emb2','Emb3'])\n",
    "df_test = pd.concat([df_test, embarked], axis=1)"
   ]
  },
  {
   "cell_type": "markdown",
   "metadata": {
    "deletable": true,
    "editable": true
   },
   "source": [
    "#### One-Hot-Enconding the field \"Cabin\""
   ]
  },
  {
   "cell_type": "code",
   "execution_count": 42,
   "metadata": {
    "collapsed": false,
    "deletable": true,
    "editable": true,
    "scrolled": true
   },
   "outputs": [
    {
     "data": {
      "text/plain": [
       "C23 C25 C27    4\n",
       "B96 B98        4\n",
       "G6             4\n",
       "C22 C26        3\n",
       "D              3\n",
       "E101           3\n",
       "F2             3\n",
       "F33            3\n",
       "E33            2\n",
       "E121           2\n",
       "B77            2\n",
       "F G73          2\n",
       "D33            2\n",
       "C125           2\n",
       "E44            2\n",
       "B58 B60        2\n",
       "D36            2\n",
       "C65            2\n",
       "E25            2\n",
       "C92            2\n",
       "E67            2\n",
       "B35            2\n",
       "D26            2\n",
       "B22            2\n",
       "B51 B53 B55    2\n",
       "D35            2\n",
       "B20            2\n",
       "B5             2\n",
       "E24            2\n",
       "C126           2\n",
       "              ..\n",
       "A23            1\n",
       "A19            1\n",
       "B80            1\n",
       "A31            1\n",
       "C82            1\n",
       "D10 D12        1\n",
       "A20            1\n",
       "C50            1\n",
       "T              1\n",
       "D28            1\n",
       "D30            1\n",
       "B73            1\n",
       "C110           1\n",
       "C87            1\n",
       "A34            1\n",
       "C101           1\n",
       "C95            1\n",
       "B82 B84        1\n",
       "A10            1\n",
       "C47            1\n",
       "E50            1\n",
       "A24            1\n",
       "D46            1\n",
       "B38            1\n",
       "D11            1\n",
       "E40            1\n",
       "E34            1\n",
       "B101           1\n",
       "C106           1\n",
       "D37            1\n",
       "Name: Cabin, Length: 147, dtype: int64"
      ]
     },
     "execution_count": 42,
     "metadata": {},
     "output_type": "execute_result"
    }
   ],
   "source": [
    "df_train['Cabin'].value_counts()"
   ]
  },
  {
   "cell_type": "code",
   "execution_count": 43,
   "metadata": {
    "collapsed": true,
    "deletable": true,
    "editable": true
   },
   "outputs": [],
   "source": [
    "CabinTrans = pd.DataFrame(mlb.fit_transform([{str(val)} for val in df_train['Cabin'].values]))"
   ]
  },
  {
   "cell_type": "code",
   "execution_count": 44,
   "metadata": {
    "collapsed": false,
    "deletable": true,
    "editable": true
   },
   "outputs": [
    {
     "data": {
      "text/html": [
       "<div>\n",
       "<style>\n",
       "    .dataframe thead tr:only-child th {\n",
       "        text-align: right;\n",
       "    }\n",
       "\n",
       "    .dataframe thead th {\n",
       "        text-align: left;\n",
       "    }\n",
       "\n",
       "    .dataframe tbody tr th {\n",
       "        vertical-align: top;\n",
       "    }\n",
       "</style>\n",
       "<table border=\"1\" class=\"dataframe\">\n",
       "  <thead>\n",
       "    <tr style=\"text-align: right;\">\n",
       "      <th></th>\n",
       "      <th>0</th>\n",
       "      <th>1</th>\n",
       "      <th>2</th>\n",
       "      <th>3</th>\n",
       "      <th>4</th>\n",
       "      <th>5</th>\n",
       "      <th>6</th>\n",
       "      <th>7</th>\n",
       "      <th>8</th>\n",
       "      <th>9</th>\n",
       "      <th>...</th>\n",
       "      <th>138</th>\n",
       "      <th>139</th>\n",
       "      <th>140</th>\n",
       "      <th>141</th>\n",
       "      <th>142</th>\n",
       "      <th>143</th>\n",
       "      <th>144</th>\n",
       "      <th>145</th>\n",
       "      <th>146</th>\n",
       "      <th>147</th>\n",
       "    </tr>\n",
       "  </thead>\n",
       "  <tbody>\n",
       "    <tr>\n",
       "      <th>0</th>\n",
       "      <td>0</td>\n",
       "      <td>0</td>\n",
       "      <td>0</td>\n",
       "      <td>0</td>\n",
       "      <td>0</td>\n",
       "      <td>0</td>\n",
       "      <td>0</td>\n",
       "      <td>0</td>\n",
       "      <td>0</td>\n",
       "      <td>0</td>\n",
       "      <td>...</td>\n",
       "      <td>0</td>\n",
       "      <td>0</td>\n",
       "      <td>0</td>\n",
       "      <td>0</td>\n",
       "      <td>0</td>\n",
       "      <td>0</td>\n",
       "      <td>0</td>\n",
       "      <td>0</td>\n",
       "      <td>0</td>\n",
       "      <td>1</td>\n",
       "    </tr>\n",
       "    <tr>\n",
       "      <th>1</th>\n",
       "      <td>0</td>\n",
       "      <td>0</td>\n",
       "      <td>0</td>\n",
       "      <td>0</td>\n",
       "      <td>0</td>\n",
       "      <td>0</td>\n",
       "      <td>0</td>\n",
       "      <td>0</td>\n",
       "      <td>0</td>\n",
       "      <td>0</td>\n",
       "      <td>...</td>\n",
       "      <td>0</td>\n",
       "      <td>0</td>\n",
       "      <td>0</td>\n",
       "      <td>0</td>\n",
       "      <td>0</td>\n",
       "      <td>0</td>\n",
       "      <td>0</td>\n",
       "      <td>0</td>\n",
       "      <td>0</td>\n",
       "      <td>0</td>\n",
       "    </tr>\n",
       "    <tr>\n",
       "      <th>2</th>\n",
       "      <td>0</td>\n",
       "      <td>0</td>\n",
       "      <td>0</td>\n",
       "      <td>0</td>\n",
       "      <td>0</td>\n",
       "      <td>0</td>\n",
       "      <td>0</td>\n",
       "      <td>0</td>\n",
       "      <td>0</td>\n",
       "      <td>0</td>\n",
       "      <td>...</td>\n",
       "      <td>0</td>\n",
       "      <td>0</td>\n",
       "      <td>0</td>\n",
       "      <td>0</td>\n",
       "      <td>0</td>\n",
       "      <td>0</td>\n",
       "      <td>0</td>\n",
       "      <td>0</td>\n",
       "      <td>0</td>\n",
       "      <td>1</td>\n",
       "    </tr>\n",
       "    <tr>\n",
       "      <th>3</th>\n",
       "      <td>0</td>\n",
       "      <td>0</td>\n",
       "      <td>0</td>\n",
       "      <td>0</td>\n",
       "      <td>0</td>\n",
       "      <td>0</td>\n",
       "      <td>0</td>\n",
       "      <td>0</td>\n",
       "      <td>0</td>\n",
       "      <td>0</td>\n",
       "      <td>...</td>\n",
       "      <td>0</td>\n",
       "      <td>0</td>\n",
       "      <td>0</td>\n",
       "      <td>0</td>\n",
       "      <td>0</td>\n",
       "      <td>0</td>\n",
       "      <td>0</td>\n",
       "      <td>0</td>\n",
       "      <td>0</td>\n",
       "      <td>0</td>\n",
       "    </tr>\n",
       "    <tr>\n",
       "      <th>4</th>\n",
       "      <td>0</td>\n",
       "      <td>0</td>\n",
       "      <td>0</td>\n",
       "      <td>0</td>\n",
       "      <td>0</td>\n",
       "      <td>0</td>\n",
       "      <td>0</td>\n",
       "      <td>0</td>\n",
       "      <td>0</td>\n",
       "      <td>0</td>\n",
       "      <td>...</td>\n",
       "      <td>0</td>\n",
       "      <td>0</td>\n",
       "      <td>0</td>\n",
       "      <td>0</td>\n",
       "      <td>0</td>\n",
       "      <td>0</td>\n",
       "      <td>0</td>\n",
       "      <td>0</td>\n",
       "      <td>0</td>\n",
       "      <td>1</td>\n",
       "    </tr>\n",
       "    <tr>\n",
       "      <th>5</th>\n",
       "      <td>0</td>\n",
       "      <td>0</td>\n",
       "      <td>0</td>\n",
       "      <td>0</td>\n",
       "      <td>0</td>\n",
       "      <td>0</td>\n",
       "      <td>0</td>\n",
       "      <td>0</td>\n",
       "      <td>0</td>\n",
       "      <td>0</td>\n",
       "      <td>...</td>\n",
       "      <td>0</td>\n",
       "      <td>0</td>\n",
       "      <td>0</td>\n",
       "      <td>0</td>\n",
       "      <td>0</td>\n",
       "      <td>0</td>\n",
       "      <td>0</td>\n",
       "      <td>0</td>\n",
       "      <td>0</td>\n",
       "      <td>1</td>\n",
       "    </tr>\n",
       "    <tr>\n",
       "      <th>6</th>\n",
       "      <td>0</td>\n",
       "      <td>0</td>\n",
       "      <td>0</td>\n",
       "      <td>0</td>\n",
       "      <td>0</td>\n",
       "      <td>0</td>\n",
       "      <td>0</td>\n",
       "      <td>0</td>\n",
       "      <td>0</td>\n",
       "      <td>0</td>\n",
       "      <td>...</td>\n",
       "      <td>0</td>\n",
       "      <td>0</td>\n",
       "      <td>0</td>\n",
       "      <td>0</td>\n",
       "      <td>0</td>\n",
       "      <td>0</td>\n",
       "      <td>0</td>\n",
       "      <td>0</td>\n",
       "      <td>0</td>\n",
       "      <td>0</td>\n",
       "    </tr>\n",
       "    <tr>\n",
       "      <th>7</th>\n",
       "      <td>0</td>\n",
       "      <td>0</td>\n",
       "      <td>0</td>\n",
       "      <td>0</td>\n",
       "      <td>0</td>\n",
       "      <td>0</td>\n",
       "      <td>0</td>\n",
       "      <td>0</td>\n",
       "      <td>0</td>\n",
       "      <td>0</td>\n",
       "      <td>...</td>\n",
       "      <td>0</td>\n",
       "      <td>0</td>\n",
       "      <td>0</td>\n",
       "      <td>0</td>\n",
       "      <td>0</td>\n",
       "      <td>0</td>\n",
       "      <td>0</td>\n",
       "      <td>0</td>\n",
       "      <td>0</td>\n",
       "      <td>1</td>\n",
       "    </tr>\n",
       "    <tr>\n",
       "      <th>8</th>\n",
       "      <td>0</td>\n",
       "      <td>0</td>\n",
       "      <td>0</td>\n",
       "      <td>0</td>\n",
       "      <td>0</td>\n",
       "      <td>0</td>\n",
       "      <td>0</td>\n",
       "      <td>0</td>\n",
       "      <td>0</td>\n",
       "      <td>0</td>\n",
       "      <td>...</td>\n",
       "      <td>0</td>\n",
       "      <td>0</td>\n",
       "      <td>0</td>\n",
       "      <td>0</td>\n",
       "      <td>0</td>\n",
       "      <td>0</td>\n",
       "      <td>0</td>\n",
       "      <td>0</td>\n",
       "      <td>0</td>\n",
       "      <td>1</td>\n",
       "    </tr>\n",
       "    <tr>\n",
       "      <th>9</th>\n",
       "      <td>0</td>\n",
       "      <td>0</td>\n",
       "      <td>0</td>\n",
       "      <td>0</td>\n",
       "      <td>0</td>\n",
       "      <td>0</td>\n",
       "      <td>0</td>\n",
       "      <td>0</td>\n",
       "      <td>0</td>\n",
       "      <td>0</td>\n",
       "      <td>...</td>\n",
       "      <td>0</td>\n",
       "      <td>0</td>\n",
       "      <td>0</td>\n",
       "      <td>0</td>\n",
       "      <td>0</td>\n",
       "      <td>0</td>\n",
       "      <td>0</td>\n",
       "      <td>0</td>\n",
       "      <td>0</td>\n",
       "      <td>1</td>\n",
       "    </tr>\n",
       "    <tr>\n",
       "      <th>10</th>\n",
       "      <td>0</td>\n",
       "      <td>0</td>\n",
       "      <td>0</td>\n",
       "      <td>0</td>\n",
       "      <td>0</td>\n",
       "      <td>0</td>\n",
       "      <td>0</td>\n",
       "      <td>0</td>\n",
       "      <td>0</td>\n",
       "      <td>0</td>\n",
       "      <td>...</td>\n",
       "      <td>0</td>\n",
       "      <td>0</td>\n",
       "      <td>0</td>\n",
       "      <td>0</td>\n",
       "      <td>0</td>\n",
       "      <td>0</td>\n",
       "      <td>0</td>\n",
       "      <td>1</td>\n",
       "      <td>0</td>\n",
       "      <td>0</td>\n",
       "    </tr>\n",
       "    <tr>\n",
       "      <th>11</th>\n",
       "      <td>0</td>\n",
       "      <td>0</td>\n",
       "      <td>0</td>\n",
       "      <td>0</td>\n",
       "      <td>0</td>\n",
       "      <td>0</td>\n",
       "      <td>0</td>\n",
       "      <td>0</td>\n",
       "      <td>0</td>\n",
       "      <td>0</td>\n",
       "      <td>...</td>\n",
       "      <td>0</td>\n",
       "      <td>0</td>\n",
       "      <td>0</td>\n",
       "      <td>0</td>\n",
       "      <td>0</td>\n",
       "      <td>0</td>\n",
       "      <td>0</td>\n",
       "      <td>0</td>\n",
       "      <td>0</td>\n",
       "      <td>0</td>\n",
       "    </tr>\n",
       "    <tr>\n",
       "      <th>12</th>\n",
       "      <td>0</td>\n",
       "      <td>0</td>\n",
       "      <td>0</td>\n",
       "      <td>0</td>\n",
       "      <td>0</td>\n",
       "      <td>0</td>\n",
       "      <td>0</td>\n",
       "      <td>0</td>\n",
       "      <td>0</td>\n",
       "      <td>0</td>\n",
       "      <td>...</td>\n",
       "      <td>0</td>\n",
       "      <td>0</td>\n",
       "      <td>0</td>\n",
       "      <td>0</td>\n",
       "      <td>0</td>\n",
       "      <td>0</td>\n",
       "      <td>0</td>\n",
       "      <td>0</td>\n",
       "      <td>0</td>\n",
       "      <td>1</td>\n",
       "    </tr>\n",
       "    <tr>\n",
       "      <th>13</th>\n",
       "      <td>0</td>\n",
       "      <td>0</td>\n",
       "      <td>0</td>\n",
       "      <td>0</td>\n",
       "      <td>0</td>\n",
       "      <td>0</td>\n",
       "      <td>0</td>\n",
       "      <td>0</td>\n",
       "      <td>0</td>\n",
       "      <td>0</td>\n",
       "      <td>...</td>\n",
       "      <td>0</td>\n",
       "      <td>0</td>\n",
       "      <td>0</td>\n",
       "      <td>0</td>\n",
       "      <td>0</td>\n",
       "      <td>0</td>\n",
       "      <td>0</td>\n",
       "      <td>0</td>\n",
       "      <td>0</td>\n",
       "      <td>1</td>\n",
       "    </tr>\n",
       "    <tr>\n",
       "      <th>14</th>\n",
       "      <td>0</td>\n",
       "      <td>0</td>\n",
       "      <td>0</td>\n",
       "      <td>0</td>\n",
       "      <td>0</td>\n",
       "      <td>0</td>\n",
       "      <td>0</td>\n",
       "      <td>0</td>\n",
       "      <td>0</td>\n",
       "      <td>0</td>\n",
       "      <td>...</td>\n",
       "      <td>0</td>\n",
       "      <td>0</td>\n",
       "      <td>0</td>\n",
       "      <td>0</td>\n",
       "      <td>0</td>\n",
       "      <td>0</td>\n",
       "      <td>0</td>\n",
       "      <td>0</td>\n",
       "      <td>0</td>\n",
       "      <td>1</td>\n",
       "    </tr>\n",
       "    <tr>\n",
       "      <th>15</th>\n",
       "      <td>0</td>\n",
       "      <td>0</td>\n",
       "      <td>0</td>\n",
       "      <td>0</td>\n",
       "      <td>0</td>\n",
       "      <td>0</td>\n",
       "      <td>0</td>\n",
       "      <td>0</td>\n",
       "      <td>0</td>\n",
       "      <td>0</td>\n",
       "      <td>...</td>\n",
       "      <td>0</td>\n",
       "      <td>0</td>\n",
       "      <td>0</td>\n",
       "      <td>0</td>\n",
       "      <td>0</td>\n",
       "      <td>0</td>\n",
       "      <td>0</td>\n",
       "      <td>0</td>\n",
       "      <td>0</td>\n",
       "      <td>1</td>\n",
       "    </tr>\n",
       "    <tr>\n",
       "      <th>16</th>\n",
       "      <td>0</td>\n",
       "      <td>0</td>\n",
       "      <td>0</td>\n",
       "      <td>0</td>\n",
       "      <td>0</td>\n",
       "      <td>0</td>\n",
       "      <td>0</td>\n",
       "      <td>0</td>\n",
       "      <td>0</td>\n",
       "      <td>0</td>\n",
       "      <td>...</td>\n",
       "      <td>0</td>\n",
       "      <td>0</td>\n",
       "      <td>0</td>\n",
       "      <td>0</td>\n",
       "      <td>0</td>\n",
       "      <td>0</td>\n",
       "      <td>0</td>\n",
       "      <td>0</td>\n",
       "      <td>0</td>\n",
       "      <td>1</td>\n",
       "    </tr>\n",
       "    <tr>\n",
       "      <th>17</th>\n",
       "      <td>0</td>\n",
       "      <td>0</td>\n",
       "      <td>0</td>\n",
       "      <td>0</td>\n",
       "      <td>0</td>\n",
       "      <td>0</td>\n",
       "      <td>0</td>\n",
       "      <td>0</td>\n",
       "      <td>0</td>\n",
       "      <td>0</td>\n",
       "      <td>...</td>\n",
       "      <td>0</td>\n",
       "      <td>0</td>\n",
       "      <td>0</td>\n",
       "      <td>0</td>\n",
       "      <td>0</td>\n",
       "      <td>0</td>\n",
       "      <td>0</td>\n",
       "      <td>0</td>\n",
       "      <td>0</td>\n",
       "      <td>1</td>\n",
       "    </tr>\n",
       "    <tr>\n",
       "      <th>18</th>\n",
       "      <td>0</td>\n",
       "      <td>0</td>\n",
       "      <td>0</td>\n",
       "      <td>0</td>\n",
       "      <td>0</td>\n",
       "      <td>0</td>\n",
       "      <td>0</td>\n",
       "      <td>0</td>\n",
       "      <td>0</td>\n",
       "      <td>0</td>\n",
       "      <td>...</td>\n",
       "      <td>0</td>\n",
       "      <td>0</td>\n",
       "      <td>0</td>\n",
       "      <td>0</td>\n",
       "      <td>0</td>\n",
       "      <td>0</td>\n",
       "      <td>0</td>\n",
       "      <td>0</td>\n",
       "      <td>0</td>\n",
       "      <td>1</td>\n",
       "    </tr>\n",
       "    <tr>\n",
       "      <th>19</th>\n",
       "      <td>0</td>\n",
       "      <td>0</td>\n",
       "      <td>0</td>\n",
       "      <td>0</td>\n",
       "      <td>0</td>\n",
       "      <td>0</td>\n",
       "      <td>0</td>\n",
       "      <td>0</td>\n",
       "      <td>0</td>\n",
       "      <td>0</td>\n",
       "      <td>...</td>\n",
       "      <td>0</td>\n",
       "      <td>0</td>\n",
       "      <td>0</td>\n",
       "      <td>0</td>\n",
       "      <td>0</td>\n",
       "      <td>0</td>\n",
       "      <td>0</td>\n",
       "      <td>0</td>\n",
       "      <td>0</td>\n",
       "      <td>1</td>\n",
       "    </tr>\n",
       "    <tr>\n",
       "      <th>20</th>\n",
       "      <td>0</td>\n",
       "      <td>0</td>\n",
       "      <td>0</td>\n",
       "      <td>0</td>\n",
       "      <td>0</td>\n",
       "      <td>0</td>\n",
       "      <td>0</td>\n",
       "      <td>0</td>\n",
       "      <td>0</td>\n",
       "      <td>0</td>\n",
       "      <td>...</td>\n",
       "      <td>0</td>\n",
       "      <td>0</td>\n",
       "      <td>0</td>\n",
       "      <td>0</td>\n",
       "      <td>0</td>\n",
       "      <td>0</td>\n",
       "      <td>0</td>\n",
       "      <td>0</td>\n",
       "      <td>0</td>\n",
       "      <td>1</td>\n",
       "    </tr>\n",
       "    <tr>\n",
       "      <th>21</th>\n",
       "      <td>0</td>\n",
       "      <td>0</td>\n",
       "      <td>0</td>\n",
       "      <td>0</td>\n",
       "      <td>0</td>\n",
       "      <td>0</td>\n",
       "      <td>0</td>\n",
       "      <td>0</td>\n",
       "      <td>0</td>\n",
       "      <td>0</td>\n",
       "      <td>...</td>\n",
       "      <td>0</td>\n",
       "      <td>0</td>\n",
       "      <td>0</td>\n",
       "      <td>0</td>\n",
       "      <td>0</td>\n",
       "      <td>0</td>\n",
       "      <td>0</td>\n",
       "      <td>0</td>\n",
       "      <td>0</td>\n",
       "      <td>0</td>\n",
       "    </tr>\n",
       "    <tr>\n",
       "      <th>22</th>\n",
       "      <td>0</td>\n",
       "      <td>0</td>\n",
       "      <td>0</td>\n",
       "      <td>0</td>\n",
       "      <td>0</td>\n",
       "      <td>0</td>\n",
       "      <td>0</td>\n",
       "      <td>0</td>\n",
       "      <td>0</td>\n",
       "      <td>0</td>\n",
       "      <td>...</td>\n",
       "      <td>0</td>\n",
       "      <td>0</td>\n",
       "      <td>0</td>\n",
       "      <td>0</td>\n",
       "      <td>0</td>\n",
       "      <td>0</td>\n",
       "      <td>0</td>\n",
       "      <td>0</td>\n",
       "      <td>0</td>\n",
       "      <td>1</td>\n",
       "    </tr>\n",
       "    <tr>\n",
       "      <th>23</th>\n",
       "      <td>0</td>\n",
       "      <td>0</td>\n",
       "      <td>0</td>\n",
       "      <td>0</td>\n",
       "      <td>0</td>\n",
       "      <td>0</td>\n",
       "      <td>0</td>\n",
       "      <td>0</td>\n",
       "      <td>0</td>\n",
       "      <td>0</td>\n",
       "      <td>...</td>\n",
       "      <td>0</td>\n",
       "      <td>0</td>\n",
       "      <td>0</td>\n",
       "      <td>0</td>\n",
       "      <td>0</td>\n",
       "      <td>0</td>\n",
       "      <td>0</td>\n",
       "      <td>0</td>\n",
       "      <td>0</td>\n",
       "      <td>0</td>\n",
       "    </tr>\n",
       "    <tr>\n",
       "      <th>24</th>\n",
       "      <td>0</td>\n",
       "      <td>0</td>\n",
       "      <td>0</td>\n",
       "      <td>0</td>\n",
       "      <td>0</td>\n",
       "      <td>0</td>\n",
       "      <td>0</td>\n",
       "      <td>0</td>\n",
       "      <td>0</td>\n",
       "      <td>0</td>\n",
       "      <td>...</td>\n",
       "      <td>0</td>\n",
       "      <td>0</td>\n",
       "      <td>0</td>\n",
       "      <td>0</td>\n",
       "      <td>0</td>\n",
       "      <td>0</td>\n",
       "      <td>0</td>\n",
       "      <td>0</td>\n",
       "      <td>0</td>\n",
       "      <td>1</td>\n",
       "    </tr>\n",
       "    <tr>\n",
       "      <th>25</th>\n",
       "      <td>0</td>\n",
       "      <td>0</td>\n",
       "      <td>0</td>\n",
       "      <td>0</td>\n",
       "      <td>0</td>\n",
       "      <td>0</td>\n",
       "      <td>0</td>\n",
       "      <td>0</td>\n",
       "      <td>0</td>\n",
       "      <td>0</td>\n",
       "      <td>...</td>\n",
       "      <td>0</td>\n",
       "      <td>0</td>\n",
       "      <td>0</td>\n",
       "      <td>0</td>\n",
       "      <td>0</td>\n",
       "      <td>0</td>\n",
       "      <td>0</td>\n",
       "      <td>0</td>\n",
       "      <td>0</td>\n",
       "      <td>1</td>\n",
       "    </tr>\n",
       "    <tr>\n",
       "      <th>26</th>\n",
       "      <td>0</td>\n",
       "      <td>0</td>\n",
       "      <td>0</td>\n",
       "      <td>0</td>\n",
       "      <td>0</td>\n",
       "      <td>0</td>\n",
       "      <td>0</td>\n",
       "      <td>0</td>\n",
       "      <td>0</td>\n",
       "      <td>0</td>\n",
       "      <td>...</td>\n",
       "      <td>0</td>\n",
       "      <td>0</td>\n",
       "      <td>0</td>\n",
       "      <td>0</td>\n",
       "      <td>0</td>\n",
       "      <td>0</td>\n",
       "      <td>0</td>\n",
       "      <td>0</td>\n",
       "      <td>0</td>\n",
       "      <td>1</td>\n",
       "    </tr>\n",
       "    <tr>\n",
       "      <th>27</th>\n",
       "      <td>0</td>\n",
       "      <td>0</td>\n",
       "      <td>0</td>\n",
       "      <td>0</td>\n",
       "      <td>0</td>\n",
       "      <td>0</td>\n",
       "      <td>0</td>\n",
       "      <td>0</td>\n",
       "      <td>0</td>\n",
       "      <td>0</td>\n",
       "      <td>...</td>\n",
       "      <td>0</td>\n",
       "      <td>0</td>\n",
       "      <td>0</td>\n",
       "      <td>0</td>\n",
       "      <td>0</td>\n",
       "      <td>0</td>\n",
       "      <td>0</td>\n",
       "      <td>0</td>\n",
       "      <td>0</td>\n",
       "      <td>0</td>\n",
       "    </tr>\n",
       "    <tr>\n",
       "      <th>28</th>\n",
       "      <td>0</td>\n",
       "      <td>0</td>\n",
       "      <td>0</td>\n",
       "      <td>0</td>\n",
       "      <td>0</td>\n",
       "      <td>0</td>\n",
       "      <td>0</td>\n",
       "      <td>0</td>\n",
       "      <td>0</td>\n",
       "      <td>0</td>\n",
       "      <td>...</td>\n",
       "      <td>0</td>\n",
       "      <td>0</td>\n",
       "      <td>0</td>\n",
       "      <td>0</td>\n",
       "      <td>0</td>\n",
       "      <td>0</td>\n",
       "      <td>0</td>\n",
       "      <td>0</td>\n",
       "      <td>0</td>\n",
       "      <td>1</td>\n",
       "    </tr>\n",
       "    <tr>\n",
       "      <th>29</th>\n",
       "      <td>0</td>\n",
       "      <td>0</td>\n",
       "      <td>0</td>\n",
       "      <td>0</td>\n",
       "      <td>0</td>\n",
       "      <td>0</td>\n",
       "      <td>0</td>\n",
       "      <td>0</td>\n",
       "      <td>0</td>\n",
       "      <td>0</td>\n",
       "      <td>...</td>\n",
       "      <td>0</td>\n",
       "      <td>0</td>\n",
       "      <td>0</td>\n",
       "      <td>0</td>\n",
       "      <td>0</td>\n",
       "      <td>0</td>\n",
       "      <td>0</td>\n",
       "      <td>0</td>\n",
       "      <td>0</td>\n",
       "      <td>1</td>\n",
       "    </tr>\n",
       "    <tr>\n",
       "      <th>...</th>\n",
       "      <td>...</td>\n",
       "      <td>...</td>\n",
       "      <td>...</td>\n",
       "      <td>...</td>\n",
       "      <td>...</td>\n",
       "      <td>...</td>\n",
       "      <td>...</td>\n",
       "      <td>...</td>\n",
       "      <td>...</td>\n",
       "      <td>...</td>\n",
       "      <td>...</td>\n",
       "      <td>...</td>\n",
       "      <td>...</td>\n",
       "      <td>...</td>\n",
       "      <td>...</td>\n",
       "      <td>...</td>\n",
       "      <td>...</td>\n",
       "      <td>...</td>\n",
       "      <td>...</td>\n",
       "      <td>...</td>\n",
       "      <td>...</td>\n",
       "    </tr>\n",
       "    <tr>\n",
       "      <th>861</th>\n",
       "      <td>0</td>\n",
       "      <td>0</td>\n",
       "      <td>0</td>\n",
       "      <td>0</td>\n",
       "      <td>0</td>\n",
       "      <td>0</td>\n",
       "      <td>0</td>\n",
       "      <td>0</td>\n",
       "      <td>0</td>\n",
       "      <td>0</td>\n",
       "      <td>...</td>\n",
       "      <td>0</td>\n",
       "      <td>0</td>\n",
       "      <td>0</td>\n",
       "      <td>0</td>\n",
       "      <td>0</td>\n",
       "      <td>0</td>\n",
       "      <td>0</td>\n",
       "      <td>0</td>\n",
       "      <td>0</td>\n",
       "      <td>1</td>\n",
       "    </tr>\n",
       "    <tr>\n",
       "      <th>862</th>\n",
       "      <td>0</td>\n",
       "      <td>0</td>\n",
       "      <td>0</td>\n",
       "      <td>0</td>\n",
       "      <td>0</td>\n",
       "      <td>0</td>\n",
       "      <td>0</td>\n",
       "      <td>0</td>\n",
       "      <td>0</td>\n",
       "      <td>0</td>\n",
       "      <td>...</td>\n",
       "      <td>0</td>\n",
       "      <td>0</td>\n",
       "      <td>0</td>\n",
       "      <td>0</td>\n",
       "      <td>0</td>\n",
       "      <td>0</td>\n",
       "      <td>0</td>\n",
       "      <td>0</td>\n",
       "      <td>0</td>\n",
       "      <td>0</td>\n",
       "    </tr>\n",
       "    <tr>\n",
       "      <th>863</th>\n",
       "      <td>0</td>\n",
       "      <td>0</td>\n",
       "      <td>0</td>\n",
       "      <td>0</td>\n",
       "      <td>0</td>\n",
       "      <td>0</td>\n",
       "      <td>0</td>\n",
       "      <td>0</td>\n",
       "      <td>0</td>\n",
       "      <td>0</td>\n",
       "      <td>...</td>\n",
       "      <td>0</td>\n",
       "      <td>0</td>\n",
       "      <td>0</td>\n",
       "      <td>0</td>\n",
       "      <td>0</td>\n",
       "      <td>0</td>\n",
       "      <td>0</td>\n",
       "      <td>0</td>\n",
       "      <td>0</td>\n",
       "      <td>1</td>\n",
       "    </tr>\n",
       "    <tr>\n",
       "      <th>864</th>\n",
       "      <td>0</td>\n",
       "      <td>0</td>\n",
       "      <td>0</td>\n",
       "      <td>0</td>\n",
       "      <td>0</td>\n",
       "      <td>0</td>\n",
       "      <td>0</td>\n",
       "      <td>0</td>\n",
       "      <td>0</td>\n",
       "      <td>0</td>\n",
       "      <td>...</td>\n",
       "      <td>0</td>\n",
       "      <td>0</td>\n",
       "      <td>0</td>\n",
       "      <td>0</td>\n",
       "      <td>0</td>\n",
       "      <td>0</td>\n",
       "      <td>0</td>\n",
       "      <td>0</td>\n",
       "      <td>0</td>\n",
       "      <td>1</td>\n",
       "    </tr>\n",
       "    <tr>\n",
       "      <th>865</th>\n",
       "      <td>0</td>\n",
       "      <td>0</td>\n",
       "      <td>0</td>\n",
       "      <td>0</td>\n",
       "      <td>0</td>\n",
       "      <td>0</td>\n",
       "      <td>0</td>\n",
       "      <td>0</td>\n",
       "      <td>0</td>\n",
       "      <td>0</td>\n",
       "      <td>...</td>\n",
       "      <td>0</td>\n",
       "      <td>0</td>\n",
       "      <td>0</td>\n",
       "      <td>0</td>\n",
       "      <td>0</td>\n",
       "      <td>0</td>\n",
       "      <td>0</td>\n",
       "      <td>0</td>\n",
       "      <td>0</td>\n",
       "      <td>1</td>\n",
       "    </tr>\n",
       "    <tr>\n",
       "      <th>866</th>\n",
       "      <td>0</td>\n",
       "      <td>0</td>\n",
       "      <td>0</td>\n",
       "      <td>0</td>\n",
       "      <td>0</td>\n",
       "      <td>0</td>\n",
       "      <td>0</td>\n",
       "      <td>0</td>\n",
       "      <td>0</td>\n",
       "      <td>0</td>\n",
       "      <td>...</td>\n",
       "      <td>0</td>\n",
       "      <td>0</td>\n",
       "      <td>0</td>\n",
       "      <td>0</td>\n",
       "      <td>0</td>\n",
       "      <td>0</td>\n",
       "      <td>0</td>\n",
       "      <td>0</td>\n",
       "      <td>0</td>\n",
       "      <td>1</td>\n",
       "    </tr>\n",
       "    <tr>\n",
       "      <th>867</th>\n",
       "      <td>0</td>\n",
       "      <td>0</td>\n",
       "      <td>0</td>\n",
       "      <td>0</td>\n",
       "      <td>0</td>\n",
       "      <td>0</td>\n",
       "      <td>1</td>\n",
       "      <td>0</td>\n",
       "      <td>0</td>\n",
       "      <td>0</td>\n",
       "      <td>...</td>\n",
       "      <td>0</td>\n",
       "      <td>0</td>\n",
       "      <td>0</td>\n",
       "      <td>0</td>\n",
       "      <td>0</td>\n",
       "      <td>0</td>\n",
       "      <td>0</td>\n",
       "      <td>0</td>\n",
       "      <td>0</td>\n",
       "      <td>0</td>\n",
       "    </tr>\n",
       "    <tr>\n",
       "      <th>868</th>\n",
       "      <td>0</td>\n",
       "      <td>0</td>\n",
       "      <td>0</td>\n",
       "      <td>0</td>\n",
       "      <td>0</td>\n",
       "      <td>0</td>\n",
       "      <td>0</td>\n",
       "      <td>0</td>\n",
       "      <td>0</td>\n",
       "      <td>0</td>\n",
       "      <td>...</td>\n",
       "      <td>0</td>\n",
       "      <td>0</td>\n",
       "      <td>0</td>\n",
       "      <td>0</td>\n",
       "      <td>0</td>\n",
       "      <td>0</td>\n",
       "      <td>0</td>\n",
       "      <td>0</td>\n",
       "      <td>0</td>\n",
       "      <td>1</td>\n",
       "    </tr>\n",
       "    <tr>\n",
       "      <th>869</th>\n",
       "      <td>0</td>\n",
       "      <td>0</td>\n",
       "      <td>0</td>\n",
       "      <td>0</td>\n",
       "      <td>0</td>\n",
       "      <td>0</td>\n",
       "      <td>0</td>\n",
       "      <td>0</td>\n",
       "      <td>0</td>\n",
       "      <td>0</td>\n",
       "      <td>...</td>\n",
       "      <td>0</td>\n",
       "      <td>0</td>\n",
       "      <td>0</td>\n",
       "      <td>0</td>\n",
       "      <td>0</td>\n",
       "      <td>0</td>\n",
       "      <td>0</td>\n",
       "      <td>0</td>\n",
       "      <td>0</td>\n",
       "      <td>1</td>\n",
       "    </tr>\n",
       "    <tr>\n",
       "      <th>870</th>\n",
       "      <td>0</td>\n",
       "      <td>0</td>\n",
       "      <td>0</td>\n",
       "      <td>0</td>\n",
       "      <td>0</td>\n",
       "      <td>0</td>\n",
       "      <td>0</td>\n",
       "      <td>0</td>\n",
       "      <td>0</td>\n",
       "      <td>0</td>\n",
       "      <td>...</td>\n",
       "      <td>0</td>\n",
       "      <td>0</td>\n",
       "      <td>0</td>\n",
       "      <td>0</td>\n",
       "      <td>0</td>\n",
       "      <td>0</td>\n",
       "      <td>0</td>\n",
       "      <td>0</td>\n",
       "      <td>0</td>\n",
       "      <td>1</td>\n",
       "    </tr>\n",
       "    <tr>\n",
       "      <th>871</th>\n",
       "      <td>0</td>\n",
       "      <td>0</td>\n",
       "      <td>0</td>\n",
       "      <td>0</td>\n",
       "      <td>0</td>\n",
       "      <td>0</td>\n",
       "      <td>0</td>\n",
       "      <td>0</td>\n",
       "      <td>0</td>\n",
       "      <td>0</td>\n",
       "      <td>...</td>\n",
       "      <td>0</td>\n",
       "      <td>0</td>\n",
       "      <td>0</td>\n",
       "      <td>0</td>\n",
       "      <td>0</td>\n",
       "      <td>0</td>\n",
       "      <td>0</td>\n",
       "      <td>0</td>\n",
       "      <td>0</td>\n",
       "      <td>0</td>\n",
       "    </tr>\n",
       "    <tr>\n",
       "      <th>872</th>\n",
       "      <td>0</td>\n",
       "      <td>0</td>\n",
       "      <td>0</td>\n",
       "      <td>0</td>\n",
       "      <td>0</td>\n",
       "      <td>0</td>\n",
       "      <td>0</td>\n",
       "      <td>0</td>\n",
       "      <td>0</td>\n",
       "      <td>0</td>\n",
       "      <td>...</td>\n",
       "      <td>0</td>\n",
       "      <td>0</td>\n",
       "      <td>0</td>\n",
       "      <td>0</td>\n",
       "      <td>0</td>\n",
       "      <td>0</td>\n",
       "      <td>0</td>\n",
       "      <td>0</td>\n",
       "      <td>0</td>\n",
       "      <td>0</td>\n",
       "    </tr>\n",
       "    <tr>\n",
       "      <th>873</th>\n",
       "      <td>0</td>\n",
       "      <td>0</td>\n",
       "      <td>0</td>\n",
       "      <td>0</td>\n",
       "      <td>0</td>\n",
       "      <td>0</td>\n",
       "      <td>0</td>\n",
       "      <td>0</td>\n",
       "      <td>0</td>\n",
       "      <td>0</td>\n",
       "      <td>...</td>\n",
       "      <td>0</td>\n",
       "      <td>0</td>\n",
       "      <td>0</td>\n",
       "      <td>0</td>\n",
       "      <td>0</td>\n",
       "      <td>0</td>\n",
       "      <td>0</td>\n",
       "      <td>0</td>\n",
       "      <td>0</td>\n",
       "      <td>1</td>\n",
       "    </tr>\n",
       "    <tr>\n",
       "      <th>874</th>\n",
       "      <td>0</td>\n",
       "      <td>0</td>\n",
       "      <td>0</td>\n",
       "      <td>0</td>\n",
       "      <td>0</td>\n",
       "      <td>0</td>\n",
       "      <td>0</td>\n",
       "      <td>0</td>\n",
       "      <td>0</td>\n",
       "      <td>0</td>\n",
       "      <td>...</td>\n",
       "      <td>0</td>\n",
       "      <td>0</td>\n",
       "      <td>0</td>\n",
       "      <td>0</td>\n",
       "      <td>0</td>\n",
       "      <td>0</td>\n",
       "      <td>0</td>\n",
       "      <td>0</td>\n",
       "      <td>0</td>\n",
       "      <td>1</td>\n",
       "    </tr>\n",
       "    <tr>\n",
       "      <th>875</th>\n",
       "      <td>0</td>\n",
       "      <td>0</td>\n",
       "      <td>0</td>\n",
       "      <td>0</td>\n",
       "      <td>0</td>\n",
       "      <td>0</td>\n",
       "      <td>0</td>\n",
       "      <td>0</td>\n",
       "      <td>0</td>\n",
       "      <td>0</td>\n",
       "      <td>...</td>\n",
       "      <td>0</td>\n",
       "      <td>0</td>\n",
       "      <td>0</td>\n",
       "      <td>0</td>\n",
       "      <td>0</td>\n",
       "      <td>0</td>\n",
       "      <td>0</td>\n",
       "      <td>0</td>\n",
       "      <td>0</td>\n",
       "      <td>1</td>\n",
       "    </tr>\n",
       "    <tr>\n",
       "      <th>876</th>\n",
       "      <td>0</td>\n",
       "      <td>0</td>\n",
       "      <td>0</td>\n",
       "      <td>0</td>\n",
       "      <td>0</td>\n",
       "      <td>0</td>\n",
       "      <td>0</td>\n",
       "      <td>0</td>\n",
       "      <td>0</td>\n",
       "      <td>0</td>\n",
       "      <td>...</td>\n",
       "      <td>0</td>\n",
       "      <td>0</td>\n",
       "      <td>0</td>\n",
       "      <td>0</td>\n",
       "      <td>0</td>\n",
       "      <td>0</td>\n",
       "      <td>0</td>\n",
       "      <td>0</td>\n",
       "      <td>0</td>\n",
       "      <td>1</td>\n",
       "    </tr>\n",
       "    <tr>\n",
       "      <th>877</th>\n",
       "      <td>0</td>\n",
       "      <td>0</td>\n",
       "      <td>0</td>\n",
       "      <td>0</td>\n",
       "      <td>0</td>\n",
       "      <td>0</td>\n",
       "      <td>0</td>\n",
       "      <td>0</td>\n",
       "      <td>0</td>\n",
       "      <td>0</td>\n",
       "      <td>...</td>\n",
       "      <td>0</td>\n",
       "      <td>0</td>\n",
       "      <td>0</td>\n",
       "      <td>0</td>\n",
       "      <td>0</td>\n",
       "      <td>0</td>\n",
       "      <td>0</td>\n",
       "      <td>0</td>\n",
       "      <td>0</td>\n",
       "      <td>1</td>\n",
       "    </tr>\n",
       "    <tr>\n",
       "      <th>878</th>\n",
       "      <td>0</td>\n",
       "      <td>0</td>\n",
       "      <td>0</td>\n",
       "      <td>0</td>\n",
       "      <td>0</td>\n",
       "      <td>0</td>\n",
       "      <td>0</td>\n",
       "      <td>0</td>\n",
       "      <td>0</td>\n",
       "      <td>0</td>\n",
       "      <td>...</td>\n",
       "      <td>0</td>\n",
       "      <td>0</td>\n",
       "      <td>0</td>\n",
       "      <td>0</td>\n",
       "      <td>0</td>\n",
       "      <td>0</td>\n",
       "      <td>0</td>\n",
       "      <td>0</td>\n",
       "      <td>0</td>\n",
       "      <td>1</td>\n",
       "    </tr>\n",
       "    <tr>\n",
       "      <th>879</th>\n",
       "      <td>0</td>\n",
       "      <td>0</td>\n",
       "      <td>0</td>\n",
       "      <td>0</td>\n",
       "      <td>0</td>\n",
       "      <td>0</td>\n",
       "      <td>0</td>\n",
       "      <td>0</td>\n",
       "      <td>0</td>\n",
       "      <td>0</td>\n",
       "      <td>...</td>\n",
       "      <td>0</td>\n",
       "      <td>0</td>\n",
       "      <td>0</td>\n",
       "      <td>0</td>\n",
       "      <td>0</td>\n",
       "      <td>0</td>\n",
       "      <td>0</td>\n",
       "      <td>0</td>\n",
       "      <td>0</td>\n",
       "      <td>0</td>\n",
       "    </tr>\n",
       "    <tr>\n",
       "      <th>880</th>\n",
       "      <td>0</td>\n",
       "      <td>0</td>\n",
       "      <td>0</td>\n",
       "      <td>0</td>\n",
       "      <td>0</td>\n",
       "      <td>0</td>\n",
       "      <td>0</td>\n",
       "      <td>0</td>\n",
       "      <td>0</td>\n",
       "      <td>0</td>\n",
       "      <td>...</td>\n",
       "      <td>0</td>\n",
       "      <td>0</td>\n",
       "      <td>0</td>\n",
       "      <td>0</td>\n",
       "      <td>0</td>\n",
       "      <td>0</td>\n",
       "      <td>0</td>\n",
       "      <td>0</td>\n",
       "      <td>0</td>\n",
       "      <td>1</td>\n",
       "    </tr>\n",
       "    <tr>\n",
       "      <th>881</th>\n",
       "      <td>0</td>\n",
       "      <td>0</td>\n",
       "      <td>0</td>\n",
       "      <td>0</td>\n",
       "      <td>0</td>\n",
       "      <td>0</td>\n",
       "      <td>0</td>\n",
       "      <td>0</td>\n",
       "      <td>0</td>\n",
       "      <td>0</td>\n",
       "      <td>...</td>\n",
       "      <td>0</td>\n",
       "      <td>0</td>\n",
       "      <td>0</td>\n",
       "      <td>0</td>\n",
       "      <td>0</td>\n",
       "      <td>0</td>\n",
       "      <td>0</td>\n",
       "      <td>0</td>\n",
       "      <td>0</td>\n",
       "      <td>1</td>\n",
       "    </tr>\n",
       "    <tr>\n",
       "      <th>882</th>\n",
       "      <td>0</td>\n",
       "      <td>0</td>\n",
       "      <td>0</td>\n",
       "      <td>0</td>\n",
       "      <td>0</td>\n",
       "      <td>0</td>\n",
       "      <td>0</td>\n",
       "      <td>0</td>\n",
       "      <td>0</td>\n",
       "      <td>0</td>\n",
       "      <td>...</td>\n",
       "      <td>0</td>\n",
       "      <td>0</td>\n",
       "      <td>0</td>\n",
       "      <td>0</td>\n",
       "      <td>0</td>\n",
       "      <td>0</td>\n",
       "      <td>0</td>\n",
       "      <td>0</td>\n",
       "      <td>0</td>\n",
       "      <td>1</td>\n",
       "    </tr>\n",
       "    <tr>\n",
       "      <th>883</th>\n",
       "      <td>0</td>\n",
       "      <td>0</td>\n",
       "      <td>0</td>\n",
       "      <td>0</td>\n",
       "      <td>0</td>\n",
       "      <td>0</td>\n",
       "      <td>0</td>\n",
       "      <td>0</td>\n",
       "      <td>0</td>\n",
       "      <td>0</td>\n",
       "      <td>...</td>\n",
       "      <td>0</td>\n",
       "      <td>0</td>\n",
       "      <td>0</td>\n",
       "      <td>0</td>\n",
       "      <td>0</td>\n",
       "      <td>0</td>\n",
       "      <td>0</td>\n",
       "      <td>0</td>\n",
       "      <td>0</td>\n",
       "      <td>1</td>\n",
       "    </tr>\n",
       "    <tr>\n",
       "      <th>884</th>\n",
       "      <td>0</td>\n",
       "      <td>0</td>\n",
       "      <td>0</td>\n",
       "      <td>0</td>\n",
       "      <td>0</td>\n",
       "      <td>0</td>\n",
       "      <td>0</td>\n",
       "      <td>0</td>\n",
       "      <td>0</td>\n",
       "      <td>0</td>\n",
       "      <td>...</td>\n",
       "      <td>0</td>\n",
       "      <td>0</td>\n",
       "      <td>0</td>\n",
       "      <td>0</td>\n",
       "      <td>0</td>\n",
       "      <td>0</td>\n",
       "      <td>0</td>\n",
       "      <td>0</td>\n",
       "      <td>0</td>\n",
       "      <td>1</td>\n",
       "    </tr>\n",
       "    <tr>\n",
       "      <th>885</th>\n",
       "      <td>0</td>\n",
       "      <td>0</td>\n",
       "      <td>0</td>\n",
       "      <td>0</td>\n",
       "      <td>0</td>\n",
       "      <td>0</td>\n",
       "      <td>0</td>\n",
       "      <td>0</td>\n",
       "      <td>0</td>\n",
       "      <td>0</td>\n",
       "      <td>...</td>\n",
       "      <td>0</td>\n",
       "      <td>0</td>\n",
       "      <td>0</td>\n",
       "      <td>0</td>\n",
       "      <td>0</td>\n",
       "      <td>0</td>\n",
       "      <td>0</td>\n",
       "      <td>0</td>\n",
       "      <td>0</td>\n",
       "      <td>1</td>\n",
       "    </tr>\n",
       "    <tr>\n",
       "      <th>886</th>\n",
       "      <td>0</td>\n",
       "      <td>0</td>\n",
       "      <td>0</td>\n",
       "      <td>0</td>\n",
       "      <td>0</td>\n",
       "      <td>0</td>\n",
       "      <td>0</td>\n",
       "      <td>0</td>\n",
       "      <td>0</td>\n",
       "      <td>0</td>\n",
       "      <td>...</td>\n",
       "      <td>0</td>\n",
       "      <td>0</td>\n",
       "      <td>0</td>\n",
       "      <td>0</td>\n",
       "      <td>0</td>\n",
       "      <td>0</td>\n",
       "      <td>0</td>\n",
       "      <td>0</td>\n",
       "      <td>0</td>\n",
       "      <td>1</td>\n",
       "    </tr>\n",
       "    <tr>\n",
       "      <th>887</th>\n",
       "      <td>0</td>\n",
       "      <td>0</td>\n",
       "      <td>0</td>\n",
       "      <td>0</td>\n",
       "      <td>0</td>\n",
       "      <td>0</td>\n",
       "      <td>0</td>\n",
       "      <td>0</td>\n",
       "      <td>0</td>\n",
       "      <td>0</td>\n",
       "      <td>...</td>\n",
       "      <td>0</td>\n",
       "      <td>0</td>\n",
       "      <td>0</td>\n",
       "      <td>0</td>\n",
       "      <td>0</td>\n",
       "      <td>0</td>\n",
       "      <td>0</td>\n",
       "      <td>0</td>\n",
       "      <td>0</td>\n",
       "      <td>0</td>\n",
       "    </tr>\n",
       "    <tr>\n",
       "      <th>888</th>\n",
       "      <td>0</td>\n",
       "      <td>0</td>\n",
       "      <td>0</td>\n",
       "      <td>0</td>\n",
       "      <td>0</td>\n",
       "      <td>0</td>\n",
       "      <td>0</td>\n",
       "      <td>0</td>\n",
       "      <td>0</td>\n",
       "      <td>0</td>\n",
       "      <td>...</td>\n",
       "      <td>0</td>\n",
       "      <td>0</td>\n",
       "      <td>0</td>\n",
       "      <td>0</td>\n",
       "      <td>0</td>\n",
       "      <td>0</td>\n",
       "      <td>0</td>\n",
       "      <td>0</td>\n",
       "      <td>0</td>\n",
       "      <td>1</td>\n",
       "    </tr>\n",
       "    <tr>\n",
       "      <th>889</th>\n",
       "      <td>0</td>\n",
       "      <td>0</td>\n",
       "      <td>0</td>\n",
       "      <td>0</td>\n",
       "      <td>0</td>\n",
       "      <td>0</td>\n",
       "      <td>0</td>\n",
       "      <td>0</td>\n",
       "      <td>0</td>\n",
       "      <td>0</td>\n",
       "      <td>...</td>\n",
       "      <td>0</td>\n",
       "      <td>0</td>\n",
       "      <td>0</td>\n",
       "      <td>0</td>\n",
       "      <td>0</td>\n",
       "      <td>0</td>\n",
       "      <td>0</td>\n",
       "      <td>0</td>\n",
       "      <td>0</td>\n",
       "      <td>0</td>\n",
       "    </tr>\n",
       "    <tr>\n",
       "      <th>890</th>\n",
       "      <td>0</td>\n",
       "      <td>0</td>\n",
       "      <td>0</td>\n",
       "      <td>0</td>\n",
       "      <td>0</td>\n",
       "      <td>0</td>\n",
       "      <td>0</td>\n",
       "      <td>0</td>\n",
       "      <td>0</td>\n",
       "      <td>0</td>\n",
       "      <td>...</td>\n",
       "      <td>0</td>\n",
       "      <td>0</td>\n",
       "      <td>0</td>\n",
       "      <td>0</td>\n",
       "      <td>0</td>\n",
       "      <td>0</td>\n",
       "      <td>0</td>\n",
       "      <td>0</td>\n",
       "      <td>0</td>\n",
       "      <td>1</td>\n",
       "    </tr>\n",
       "  </tbody>\n",
       "</table>\n",
       "<p>891 rows × 148 columns</p>\n",
       "</div>"
      ],
      "text/plain": [
       "     0    1    2    3    4    5    6    7    8    9   ...   138  139  140  \\\n",
       "0      0    0    0    0    0    0    0    0    0    0 ...     0    0    0   \n",
       "1      0    0    0    0    0    0    0    0    0    0 ...     0    0    0   \n",
       "2      0    0    0    0    0    0    0    0    0    0 ...     0    0    0   \n",
       "3      0    0    0    0    0    0    0    0    0    0 ...     0    0    0   \n",
       "4      0    0    0    0    0    0    0    0    0    0 ...     0    0    0   \n",
       "5      0    0    0    0    0    0    0    0    0    0 ...     0    0    0   \n",
       "6      0    0    0    0    0    0    0    0    0    0 ...     0    0    0   \n",
       "7      0    0    0    0    0    0    0    0    0    0 ...     0    0    0   \n",
       "8      0    0    0    0    0    0    0    0    0    0 ...     0    0    0   \n",
       "9      0    0    0    0    0    0    0    0    0    0 ...     0    0    0   \n",
       "10     0    0    0    0    0    0    0    0    0    0 ...     0    0    0   \n",
       "11     0    0    0    0    0    0    0    0    0    0 ...     0    0    0   \n",
       "12     0    0    0    0    0    0    0    0    0    0 ...     0    0    0   \n",
       "13     0    0    0    0    0    0    0    0    0    0 ...     0    0    0   \n",
       "14     0    0    0    0    0    0    0    0    0    0 ...     0    0    0   \n",
       "15     0    0    0    0    0    0    0    0    0    0 ...     0    0    0   \n",
       "16     0    0    0    0    0    0    0    0    0    0 ...     0    0    0   \n",
       "17     0    0    0    0    0    0    0    0    0    0 ...     0    0    0   \n",
       "18     0    0    0    0    0    0    0    0    0    0 ...     0    0    0   \n",
       "19     0    0    0    0    0    0    0    0    0    0 ...     0    0    0   \n",
       "20     0    0    0    0    0    0    0    0    0    0 ...     0    0    0   \n",
       "21     0    0    0    0    0    0    0    0    0    0 ...     0    0    0   \n",
       "22     0    0    0    0    0    0    0    0    0    0 ...     0    0    0   \n",
       "23     0    0    0    0    0    0    0    0    0    0 ...     0    0    0   \n",
       "24     0    0    0    0    0    0    0    0    0    0 ...     0    0    0   \n",
       "25     0    0    0    0    0    0    0    0    0    0 ...     0    0    0   \n",
       "26     0    0    0    0    0    0    0    0    0    0 ...     0    0    0   \n",
       "27     0    0    0    0    0    0    0    0    0    0 ...     0    0    0   \n",
       "28     0    0    0    0    0    0    0    0    0    0 ...     0    0    0   \n",
       "29     0    0    0    0    0    0    0    0    0    0 ...     0    0    0   \n",
       "..   ...  ...  ...  ...  ...  ...  ...  ...  ...  ... ...   ...  ...  ...   \n",
       "861    0    0    0    0    0    0    0    0    0    0 ...     0    0    0   \n",
       "862    0    0    0    0    0    0    0    0    0    0 ...     0    0    0   \n",
       "863    0    0    0    0    0    0    0    0    0    0 ...     0    0    0   \n",
       "864    0    0    0    0    0    0    0    0    0    0 ...     0    0    0   \n",
       "865    0    0    0    0    0    0    0    0    0    0 ...     0    0    0   \n",
       "866    0    0    0    0    0    0    0    0    0    0 ...     0    0    0   \n",
       "867    0    0    0    0    0    0    1    0    0    0 ...     0    0    0   \n",
       "868    0    0    0    0    0    0    0    0    0    0 ...     0    0    0   \n",
       "869    0    0    0    0    0    0    0    0    0    0 ...     0    0    0   \n",
       "870    0    0    0    0    0    0    0    0    0    0 ...     0    0    0   \n",
       "871    0    0    0    0    0    0    0    0    0    0 ...     0    0    0   \n",
       "872    0    0    0    0    0    0    0    0    0    0 ...     0    0    0   \n",
       "873    0    0    0    0    0    0    0    0    0    0 ...     0    0    0   \n",
       "874    0    0    0    0    0    0    0    0    0    0 ...     0    0    0   \n",
       "875    0    0    0    0    0    0    0    0    0    0 ...     0    0    0   \n",
       "876    0    0    0    0    0    0    0    0    0    0 ...     0    0    0   \n",
       "877    0    0    0    0    0    0    0    0    0    0 ...     0    0    0   \n",
       "878    0    0    0    0    0    0    0    0    0    0 ...     0    0    0   \n",
       "879    0    0    0    0    0    0    0    0    0    0 ...     0    0    0   \n",
       "880    0    0    0    0    0    0    0    0    0    0 ...     0    0    0   \n",
       "881    0    0    0    0    0    0    0    0    0    0 ...     0    0    0   \n",
       "882    0    0    0    0    0    0    0    0    0    0 ...     0    0    0   \n",
       "883    0    0    0    0    0    0    0    0    0    0 ...     0    0    0   \n",
       "884    0    0    0    0    0    0    0    0    0    0 ...     0    0    0   \n",
       "885    0    0    0    0    0    0    0    0    0    0 ...     0    0    0   \n",
       "886    0    0    0    0    0    0    0    0    0    0 ...     0    0    0   \n",
       "887    0    0    0    0    0    0    0    0    0    0 ...     0    0    0   \n",
       "888    0    0    0    0    0    0    0    0    0    0 ...     0    0    0   \n",
       "889    0    0    0    0    0    0    0    0    0    0 ...     0    0    0   \n",
       "890    0    0    0    0    0    0    0    0    0    0 ...     0    0    0   \n",
       "\n",
       "     141  142  143  144  145  146  147  \n",
       "0      0    0    0    0    0    0    1  \n",
       "1      0    0    0    0    0    0    0  \n",
       "2      0    0    0    0    0    0    1  \n",
       "3      0    0    0    0    0    0    0  \n",
       "4      0    0    0    0    0    0    1  \n",
       "5      0    0    0    0    0    0    1  \n",
       "6      0    0    0    0    0    0    0  \n",
       "7      0    0    0    0    0    0    1  \n",
       "8      0    0    0    0    0    0    1  \n",
       "9      0    0    0    0    0    0    1  \n",
       "10     0    0    0    0    1    0    0  \n",
       "11     0    0    0    0    0    0    0  \n",
       "12     0    0    0    0    0    0    1  \n",
       "13     0    0    0    0    0    0    1  \n",
       "14     0    0    0    0    0    0    1  \n",
       "15     0    0    0    0    0    0    1  \n",
       "16     0    0    0    0    0    0    1  \n",
       "17     0    0    0    0    0    0    1  \n",
       "18     0    0    0    0    0    0    1  \n",
       "19     0    0    0    0    0    0    1  \n",
       "20     0    0    0    0    0    0    1  \n",
       "21     0    0    0    0    0    0    0  \n",
       "22     0    0    0    0    0    0    1  \n",
       "23     0    0    0    0    0    0    0  \n",
       "24     0    0    0    0    0    0    1  \n",
       "25     0    0    0    0    0    0    1  \n",
       "26     0    0    0    0    0    0    1  \n",
       "27     0    0    0    0    0    0    0  \n",
       "28     0    0    0    0    0    0    1  \n",
       "29     0    0    0    0    0    0    1  \n",
       "..   ...  ...  ...  ...  ...  ...  ...  \n",
       "861    0    0    0    0    0    0    1  \n",
       "862    0    0    0    0    0    0    0  \n",
       "863    0    0    0    0    0    0    1  \n",
       "864    0    0    0    0    0    0    1  \n",
       "865    0    0    0    0    0    0    1  \n",
       "866    0    0    0    0    0    0    1  \n",
       "867    0    0    0    0    0    0    0  \n",
       "868    0    0    0    0    0    0    1  \n",
       "869    0    0    0    0    0    0    1  \n",
       "870    0    0    0    0    0    0    1  \n",
       "871    0    0    0    0    0    0    0  \n",
       "872    0    0    0    0    0    0    0  \n",
       "873    0    0    0    0    0    0    1  \n",
       "874    0    0    0    0    0    0    1  \n",
       "875    0    0    0    0    0    0    1  \n",
       "876    0    0    0    0    0    0    1  \n",
       "877    0    0    0    0    0    0    1  \n",
       "878    0    0    0    0    0    0    1  \n",
       "879    0    0    0    0    0    0    0  \n",
       "880    0    0    0    0    0    0    1  \n",
       "881    0    0    0    0    0    0    1  \n",
       "882    0    0    0    0    0    0    1  \n",
       "883    0    0    0    0    0    0    1  \n",
       "884    0    0    0    0    0    0    1  \n",
       "885    0    0    0    0    0    0    1  \n",
       "886    0    0    0    0    0    0    1  \n",
       "887    0    0    0    0    0    0    0  \n",
       "888    0    0    0    0    0    0    1  \n",
       "889    0    0    0    0    0    0    0  \n",
       "890    0    0    0    0    0    0    1  \n",
       "\n",
       "[891 rows x 148 columns]"
      ]
     },
     "execution_count": 44,
     "metadata": {},
     "output_type": "execute_result"
    }
   ],
   "source": [
    "CabinTrans"
   ]
  },
  {
   "cell_type": "code",
   "execution_count": 45,
   "metadata": {
    "collapsed": true,
    "deletable": true,
    "editable": true
   },
   "outputs": [],
   "source": [
    "#Give up using the feature\n",
    "#df_train = pd.concat([df_train, CabinTrans], axis=1)"
   ]
  },
  {
   "cell_type": "markdown",
   "metadata": {
    "deletable": true,
    "editable": true
   },
   "source": [
    "#### Creating a feature for number of relatives"
   ]
  },
  {
   "cell_type": "code",
   "execution_count": 46,
   "metadata": {
    "collapsed": true,
    "deletable": true,
    "editable": true
   },
   "outputs": [],
   "source": [
    "df_train['FamilySize'] = df_train['SibSp'] + df_train['Parch']\n",
    "df_train['Age*Class'] = df_train.AgeFill * df_train.Pclass\n",
    "\n",
    "df_test['FamilySize'] = df_test['SibSp'] + df_test['Parch']\n",
    "df_test['Age*Class'] = df_test.AgeFill * df_test.Pclass"
   ]
  },
  {
   "cell_type": "markdown",
   "metadata": {
    "deletable": true,
    "editable": true
   },
   "source": [
    "#### Discarding unused columns for predictive analysis"
   ]
  },
  {
   "cell_type": "code",
   "execution_count": 47,
   "metadata": {
    "collapsed": true,
    "deletable": true,
    "editable": true
   },
   "outputs": [],
   "source": [
    "df_train2 = df_train.drop(['Age','Name', 'Sex', 'Ticket', 'Cabin', 'Embarked'], axis=1)\n",
    "df_train2 = df_train2.dropna()\n",
    "\n",
    "df_test2 = df_test.drop(['Age','Name', 'Sex', 'Ticket', 'Cabin', 'Embarked'], axis=1)\n",
    "df_test2 = df_test2.dropna()"
   ]
  },
  {
   "cell_type": "code",
   "execution_count": 48,
   "metadata": {
    "collapsed": false,
    "deletable": true,
    "editable": true
   },
   "outputs": [
    {
     "data": {
      "text/html": [
       "<div>\n",
       "<style>\n",
       "    .dataframe thead tr:only-child th {\n",
       "        text-align: right;\n",
       "    }\n",
       "\n",
       "    .dataframe thead th {\n",
       "        text-align: left;\n",
       "    }\n",
       "\n",
       "    .dataframe tbody tr th {\n",
       "        vertical-align: top;\n",
       "    }\n",
       "</style>\n",
       "<table border=\"1\" class=\"dataframe\">\n",
       "  <thead>\n",
       "    <tr style=\"text-align: right;\">\n",
       "      <th></th>\n",
       "      <th>PassengerId</th>\n",
       "      <th>Survived</th>\n",
       "      <th>Pclass</th>\n",
       "      <th>SibSp</th>\n",
       "      <th>Parch</th>\n",
       "      <th>Fare</th>\n",
       "      <th>Gender</th>\n",
       "      <th>AgeFill</th>\n",
       "      <th>Emb1</th>\n",
       "      <th>Emb2</th>\n",
       "      <th>Emb3</th>\n",
       "      <th>FamilySize</th>\n",
       "      <th>Age*Class</th>\n",
       "    </tr>\n",
       "  </thead>\n",
       "  <tbody>\n",
       "    <tr>\n",
       "      <th>0</th>\n",
       "      <td>1</td>\n",
       "      <td>0</td>\n",
       "      <td>3</td>\n",
       "      <td>1</td>\n",
       "      <td>0</td>\n",
       "      <td>7.2500</td>\n",
       "      <td>1</td>\n",
       "      <td>22.0</td>\n",
       "      <td>0</td>\n",
       "      <td>0</td>\n",
       "      <td>1</td>\n",
       "      <td>1</td>\n",
       "      <td>66.0</td>\n",
       "    </tr>\n",
       "    <tr>\n",
       "      <th>1</th>\n",
       "      <td>2</td>\n",
       "      <td>1</td>\n",
       "      <td>1</td>\n",
       "      <td>1</td>\n",
       "      <td>0</td>\n",
       "      <td>71.2833</td>\n",
       "      <td>0</td>\n",
       "      <td>38.0</td>\n",
       "      <td>1</td>\n",
       "      <td>0</td>\n",
       "      <td>0</td>\n",
       "      <td>1</td>\n",
       "      <td>38.0</td>\n",
       "    </tr>\n",
       "    <tr>\n",
       "      <th>2</th>\n",
       "      <td>3</td>\n",
       "      <td>1</td>\n",
       "      <td>3</td>\n",
       "      <td>0</td>\n",
       "      <td>0</td>\n",
       "      <td>7.9250</td>\n",
       "      <td>0</td>\n",
       "      <td>26.0</td>\n",
       "      <td>0</td>\n",
       "      <td>0</td>\n",
       "      <td>1</td>\n",
       "      <td>0</td>\n",
       "      <td>78.0</td>\n",
       "    </tr>\n",
       "    <tr>\n",
       "      <th>3</th>\n",
       "      <td>4</td>\n",
       "      <td>1</td>\n",
       "      <td>1</td>\n",
       "      <td>1</td>\n",
       "      <td>0</td>\n",
       "      <td>53.1000</td>\n",
       "      <td>0</td>\n",
       "      <td>35.0</td>\n",
       "      <td>0</td>\n",
       "      <td>0</td>\n",
       "      <td>1</td>\n",
       "      <td>1</td>\n",
       "      <td>35.0</td>\n",
       "    </tr>\n",
       "    <tr>\n",
       "      <th>4</th>\n",
       "      <td>5</td>\n",
       "      <td>0</td>\n",
       "      <td>3</td>\n",
       "      <td>0</td>\n",
       "      <td>0</td>\n",
       "      <td>8.0500</td>\n",
       "      <td>1</td>\n",
       "      <td>35.0</td>\n",
       "      <td>0</td>\n",
       "      <td>0</td>\n",
       "      <td>1</td>\n",
       "      <td>0</td>\n",
       "      <td>105.0</td>\n",
       "    </tr>\n",
       "  </tbody>\n",
       "</table>\n",
       "</div>"
      ],
      "text/plain": [
       "   PassengerId  Survived  Pclass  SibSp  Parch     Fare  Gender  AgeFill  \\\n",
       "0            1         0       3      1      0   7.2500       1     22.0   \n",
       "1            2         1       1      1      0  71.2833       0     38.0   \n",
       "2            3         1       3      0      0   7.9250       0     26.0   \n",
       "3            4         1       1      1      0  53.1000       0     35.0   \n",
       "4            5         0       3      0      0   8.0500       1     35.0   \n",
       "\n",
       "   Emb1  Emb2  Emb3  FamilySize  Age*Class  \n",
       "0     0     0     1           1       66.0  \n",
       "1     1     0     0           1       38.0  \n",
       "2     0     0     1           0       78.0  \n",
       "3     0     0     1           1       35.0  \n",
       "4     0     0     1           0      105.0  "
      ]
     },
     "execution_count": 48,
     "metadata": {},
     "output_type": "execute_result"
    }
   ],
   "source": [
    "df_train2.head()"
   ]
  },
  {
   "cell_type": "code",
   "execution_count": 49,
   "metadata": {
    "collapsed": false,
    "deletable": true,
    "editable": true
   },
   "outputs": [
    {
     "data": {
      "text/html": [
       "<div>\n",
       "<style>\n",
       "    .dataframe thead tr:only-child th {\n",
       "        text-align: right;\n",
       "    }\n",
       "\n",
       "    .dataframe thead th {\n",
       "        text-align: left;\n",
       "    }\n",
       "\n",
       "    .dataframe tbody tr th {\n",
       "        vertical-align: top;\n",
       "    }\n",
       "</style>\n",
       "<table border=\"1\" class=\"dataframe\">\n",
       "  <thead>\n",
       "    <tr style=\"text-align: right;\">\n",
       "      <th></th>\n",
       "      <th>PassengerId</th>\n",
       "      <th>Pclass</th>\n",
       "      <th>SibSp</th>\n",
       "      <th>Parch</th>\n",
       "      <th>Fare</th>\n",
       "      <th>Gender</th>\n",
       "      <th>AgeFill</th>\n",
       "      <th>Emb1</th>\n",
       "      <th>Emb2</th>\n",
       "      <th>Emb3</th>\n",
       "      <th>FamilySize</th>\n",
       "      <th>Age*Class</th>\n",
       "    </tr>\n",
       "  </thead>\n",
       "  <tbody>\n",
       "    <tr>\n",
       "      <th>0</th>\n",
       "      <td>892</td>\n",
       "      <td>3</td>\n",
       "      <td>0</td>\n",
       "      <td>0</td>\n",
       "      <td>7.8292</td>\n",
       "      <td>1</td>\n",
       "      <td>34.5</td>\n",
       "      <td>0</td>\n",
       "      <td>1</td>\n",
       "      <td>0</td>\n",
       "      <td>0</td>\n",
       "      <td>103.5</td>\n",
       "    </tr>\n",
       "    <tr>\n",
       "      <th>1</th>\n",
       "      <td>893</td>\n",
       "      <td>3</td>\n",
       "      <td>1</td>\n",
       "      <td>0</td>\n",
       "      <td>7.0000</td>\n",
       "      <td>0</td>\n",
       "      <td>47.0</td>\n",
       "      <td>0</td>\n",
       "      <td>0</td>\n",
       "      <td>1</td>\n",
       "      <td>1</td>\n",
       "      <td>141.0</td>\n",
       "    </tr>\n",
       "    <tr>\n",
       "      <th>2</th>\n",
       "      <td>894</td>\n",
       "      <td>2</td>\n",
       "      <td>0</td>\n",
       "      <td>0</td>\n",
       "      <td>9.6875</td>\n",
       "      <td>1</td>\n",
       "      <td>62.0</td>\n",
       "      <td>0</td>\n",
       "      <td>1</td>\n",
       "      <td>0</td>\n",
       "      <td>0</td>\n",
       "      <td>124.0</td>\n",
       "    </tr>\n",
       "    <tr>\n",
       "      <th>3</th>\n",
       "      <td>895</td>\n",
       "      <td>3</td>\n",
       "      <td>0</td>\n",
       "      <td>0</td>\n",
       "      <td>8.6625</td>\n",
       "      <td>1</td>\n",
       "      <td>27.0</td>\n",
       "      <td>0</td>\n",
       "      <td>0</td>\n",
       "      <td>1</td>\n",
       "      <td>0</td>\n",
       "      <td>81.0</td>\n",
       "    </tr>\n",
       "    <tr>\n",
       "      <th>4</th>\n",
       "      <td>896</td>\n",
       "      <td>3</td>\n",
       "      <td>1</td>\n",
       "      <td>1</td>\n",
       "      <td>12.2875</td>\n",
       "      <td>0</td>\n",
       "      <td>22.0</td>\n",
       "      <td>0</td>\n",
       "      <td>0</td>\n",
       "      <td>1</td>\n",
       "      <td>2</td>\n",
       "      <td>66.0</td>\n",
       "    </tr>\n",
       "  </tbody>\n",
       "</table>\n",
       "</div>"
      ],
      "text/plain": [
       "   PassengerId  Pclass  SibSp  Parch     Fare  Gender  AgeFill  Emb1  Emb2  \\\n",
       "0          892       3      0      0   7.8292       1     34.5     0     1   \n",
       "1          893       3      1      0   7.0000       0     47.0     0     0   \n",
       "2          894       2      0      0   9.6875       1     62.0     0     1   \n",
       "3          895       3      0      0   8.6625       1     27.0     0     0   \n",
       "4          896       3      1      1  12.2875       0     22.0     0     0   \n",
       "\n",
       "   Emb3  FamilySize  Age*Class  \n",
       "0     0           0      103.5  \n",
       "1     1           1      141.0  \n",
       "2     0           0      124.0  \n",
       "3     1           0       81.0  \n",
       "4     1           2       66.0  "
      ]
     },
     "execution_count": 49,
     "metadata": {},
     "output_type": "execute_result"
    }
   ],
   "source": [
    "df_test2.head()"
   ]
  },
  {
   "cell_type": "code",
   "execution_count": 50,
   "metadata": {
    "collapsed": false,
    "deletable": true,
    "editable": true
   },
   "outputs": [
    {
     "name": "stdout",
     "output_type": "stream",
     "text": [
      "<class 'pandas.core.frame.DataFrame'>\n",
      "Int64Index: 417 entries, 0 to 417\n",
      "Data columns (total 12 columns):\n",
      "PassengerId    417 non-null int64\n",
      "Pclass         417 non-null int64\n",
      "SibSp          417 non-null int64\n",
      "Parch          417 non-null int64\n",
      "Fare           417 non-null float64\n",
      "Gender         417 non-null int64\n",
      "AgeFill        417 non-null float64\n",
      "Emb1           417 non-null int64\n",
      "Emb2           417 non-null int64\n",
      "Emb3           417 non-null int64\n",
      "FamilySize     417 non-null int64\n",
      "Age*Class      417 non-null float64\n",
      "dtypes: float64(3), int64(9)\n",
      "memory usage: 42.4 KB\n"
     ]
    }
   ],
   "source": [
    "df_test2.info()"
   ]
  },
  {
   "cell_type": "code",
   "execution_count": 51,
   "metadata": {
    "collapsed": true,
    "deletable": true,
    "editable": true
   },
   "outputs": [],
   "source": [
    "df_train.rename(columns={'Survived': 'class'}, inplace=True)  #For the TPOT genetic algorithm we must rename our target "
   ]
  },
  {
   "cell_type": "markdown",
   "metadata": {
    "deletable": true,
    "editable": true
   },
   "source": [
    "#### Runnng correlation hypothesis:"
   ]
  },
  {
   "cell_type": "code",
   "execution_count": 52,
   "metadata": {
    "collapsed": false,
    "deletable": true,
    "editable": true
   },
   "outputs": [
    {
     "name": "stdout",
     "output_type": "stream",
     "text": [
      "Optimization terminated successfully.\n",
      "         Current function value: 0.558118\n",
      "         Iterations 5\n",
      "                           Logit Regression Results                           \n",
      "==============================================================================\n",
      "Dep. Variable:               Survived   No. Observations:                  891\n",
      "Model:                          Logit   Df Residuals:                      890\n",
      "Method:                           MLE   Df Model:                            0\n",
      "Date:                sex, 26 mai 2017   Pseudo R-squ.:                  0.1619\n",
      "Time:                        10:59:07   Log-Likelihood:                -497.28\n",
      "converged:                       True   LL-Null:                       -593.33\n",
      "                                        LLR p-value:                       nan\n",
      "==============================================================================\n",
      "                 coef    std err          z      P>|z|      [0.025      0.975]\n",
      "------------------------------------------------------------------------------\n",
      "Gender        -1.4571      0.106    -13.701      0.000      -1.666      -1.249\n",
      "==============================================================================\n"
     ]
    }
   ],
   "source": [
    "y = df_train2.Survived\n",
    "X = df_train2.Gender\n",
    "model = sm.Logit(y, X)\n",
    "results = model.fit()\n",
    "print(results.summary())"
   ]
  },
  {
   "cell_type": "code",
   "execution_count": 53,
   "metadata": {
    "collapsed": false,
    "deletable": true,
    "editable": true
   },
   "outputs": [
    {
     "name": "stdout",
     "output_type": "stream",
     "text": [
      "Optimization terminated successfully.\n",
      "         Current function value: 0.529672\n",
      "         Iterations 6\n",
      "                           Logit Regression Results                           \n",
      "==============================================================================\n",
      "Dep. Variable:               Survived   No. Observations:                  891\n",
      "Model:                          Logit   Df Residuals:                      888\n",
      "Method:                           MLE   Df Model:                            2\n",
      "Date:                sex, 26 mai 2017   Pseudo R-squ.:                  0.2046\n",
      "Time:                        10:59:07   Log-Likelihood:                -471.94\n",
      "converged:                       True   LL-Null:                       -593.33\n",
      "                                        LLR p-value:                 1.910e-53\n",
      "==============================================================================\n",
      "                 coef    std err          z      P>|z|      [0.025      0.975]\n",
      "------------------------------------------------------------------------------\n",
      "Gender        -2.1764      0.170    -12.829      0.000      -2.509      -1.844\n",
      "Pclass        -0.0671      0.056     -1.190      0.234      -0.178       0.043\n",
      "AgeFill        0.0276      0.004      6.248      0.000       0.019       0.036\n",
      "==============================================================================\n"
     ]
    }
   ],
   "source": [
    "y = df_train2.Survived\n",
    "X = df_train2[['Gender','Pclass','AgeFill']]\n",
    "model = sm.Logit(y, X)\n",
    "results = model.fit()\n",
    "print(results.summary())"
   ]
  },
  {
   "cell_type": "markdown",
   "metadata": {
    "deletable": true,
    "editable": true
   },
   "source": [
    "#### Preparing Data for predictions"
   ]
  },
  {
   "cell_type": "code",
   "execution_count": 54,
   "metadata": {
    "collapsed": false,
    "deletable": true,
    "editable": true
   },
   "outputs": [
    {
     "name": "stdout",
     "output_type": "stream",
     "text": [
      "(891, 13)\n"
     ]
    },
    {
     "data": {
      "text/plain": [
       "array([[   1. ,    0. ,    3. , ...,    1. ,    1. ,   66. ],\n",
       "       [   2. ,    1. ,    1. , ...,    0. ,    1. ,   38. ],\n",
       "       [   3. ,    1. ,    3. , ...,    1. ,    0. ,   78. ],\n",
       "       ..., \n",
       "       [ 889. ,    0. ,    3. , ...,    1. ,    3. ,   64.5],\n",
       "       [ 890. ,    1. ,    1. , ...,    0. ,    0. ,   26. ],\n",
       "       [ 891. ,    0. ,    3. , ...,    0. ,    0. ,   96. ]])"
      ]
     },
     "execution_count": 54,
     "metadata": {},
     "output_type": "execute_result"
    }
   ],
   "source": [
    "train_data = df_train2.values\n",
    "print(train_data.shape)\n",
    "train_data"
   ]
  },
  {
   "cell_type": "code",
   "execution_count": 55,
   "metadata": {
    "collapsed": false,
    "deletable": true,
    "editable": true
   },
   "outputs": [
    {
     "name": "stdout",
     "output_type": "stream",
     "text": [
      "(417, 12)\n"
     ]
    },
    {
     "data": {
      "text/plain": [
       "array([[  8.92000000e+02,   3.00000000e+00,   0.00000000e+00, ...,\n",
       "          0.00000000e+00,   0.00000000e+00,   1.03500000e+02],\n",
       "       [  8.93000000e+02,   3.00000000e+00,   1.00000000e+00, ...,\n",
       "          1.00000000e+00,   1.00000000e+00,   1.41000000e+02],\n",
       "       [  8.94000000e+02,   2.00000000e+00,   0.00000000e+00, ...,\n",
       "          0.00000000e+00,   0.00000000e+00,   1.24000000e+02],\n",
       "       ..., \n",
       "       [  1.30700000e+03,   3.00000000e+00,   0.00000000e+00, ...,\n",
       "          1.00000000e+00,   0.00000000e+00,   1.15500000e+02],\n",
       "       [  1.30800000e+03,   3.00000000e+00,   0.00000000e+00, ...,\n",
       "          1.00000000e+00,   0.00000000e+00,   7.50000000e+01],\n",
       "       [  1.30900000e+03,   3.00000000e+00,   1.00000000e+00, ...,\n",
       "          0.00000000e+00,   2.00000000e+00,   7.50000000e+01]])"
      ]
     },
     "execution_count": 55,
     "metadata": {},
     "output_type": "execute_result"
    }
   ],
   "source": [
    "test_data = df_test2.values\n",
    "print(test_data.shape)\n",
    "test_data"
   ]
  },
  {
   "cell_type": "markdown",
   "metadata": {
    "deletable": true,
    "editable": true
   },
   "source": [
    "#### Adjusting features scales:   \n",
    "http://scikit-learn.org/stable/modules/generated/sklearn.preprocessing.StandardScaler.html  "
   ]
  },
  {
   "cell_type": "code",
   "execution_count": 56,
   "metadata": {
    "collapsed": true,
    "deletable": true,
    "editable": true
   },
   "outputs": [],
   "source": [
    "from sklearn.preprocessing import StandardScaler\n",
    "\n",
    "scaler = StandardScaler()\n",
    "X_train = scaler.fit_transform(train_data[0::,2::])\n",
    "X_test = scaler.fit_transform(test_data[0::,1::])\n",
    "\n",
    "y_train = train_data[0::,1]"
   ]
  },
  {
   "cell_type": "code",
   "execution_count": 57,
   "metadata": {
    "collapsed": false,
    "deletable": true,
    "editable": true
   },
   "outputs": [
    {
     "data": {
      "text/plain": [
       "array([ 0.82737724,  0.43279337, -0.47367361, -0.50244517,  0.73769513,\n",
       "       -0.53489116, -0.48557557, -0.30756234,  0.61930636,  0.05915988,\n",
       "        0.10799818])"
      ]
     },
     "execution_count": 57,
     "metadata": {},
     "output_type": "execute_result"
    }
   ],
   "source": [
    "X_train[0]"
   ]
  },
  {
   "cell_type": "code",
   "execution_count": 58,
   "metadata": {
    "collapsed": false,
    "deletable": true,
    "editable": true
   },
   "outputs": [
    {
     "data": {
      "text/plain": [
       "array([ 0.87532977, -0.50021819, -0.40080432, -0.49781052,  0.75735388,\n",
       "        0.4054536 , -0.56904264,  2.83993264, -1.34817194, -0.55430942,\n",
       "        1.65753892])"
      ]
     },
     "execution_count": 58,
     "metadata": {},
     "output_type": "execute_result"
    }
   ],
   "source": [
    "X_test[0]"
   ]
  },
  {
   "cell_type": "code",
   "execution_count": 59,
   "metadata": {
    "collapsed": false
   },
   "outputs": [
    {
     "name": "stdout",
     "output_type": "stream",
     "text": [
      "(891, 11)\n",
      "(417, 11)\n",
      "(891,)\n"
     ]
    }
   ],
   "source": [
    "print(X_train.shape)\n",
    "print(X_test.shape)\n",
    "print(y_train.shape)"
   ]
  },
  {
   "cell_type": "markdown",
   "metadata": {
    "deletable": true,
    "editable": true
   },
   "source": [
    "http://stats.stackexchange.com/questions/95797/how-to-split-the-dataset-for-cross-validation-learning-curve-and-final-evaluat  \n",
    "http://scikit-learn.org/stable/modules/cross_validation.html  "
   ]
  },
  {
   "cell_type": "markdown",
   "metadata": {
    "deletable": true,
    "editable": true
   },
   "source": [
    "#### Importing modules for cross validation and evaluation of the models"
   ]
  },
  {
   "cell_type": "code",
   "execution_count": 60,
   "metadata": {
    "collapsed": true,
    "deletable": true,
    "editable": true
   },
   "outputs": [],
   "source": [
    "from sklearn import model_selection\n",
    "\n",
    "from sklearn.metrics import confusion_matrix\n",
    "from sklearn.metrics import classification_report\n",
    "from sklearn.metrics import confusion_matrix\n",
    "from sklearn.metrics import roc_auc_score\n",
    "from sklearn.metrics import roc_curve\n",
    "from sklearn.metrics import accuracy_score\n",
    "from sklearn.metrics import average_precision_score\n",
    "from sklearn.metrics import f1_score"
   ]
  },
  {
   "cell_type": "markdown",
   "metadata": {
    "deletable": true,
    "editable": true
   },
   "source": [
    "#### Creating functions to help evaluate the models"
   ]
  },
  {
   "cell_type": "code",
   "execution_count": 61,
   "metadata": {
    "collapsed": true,
    "deletable": true,
    "editable": true
   },
   "outputs": [],
   "source": [
    "def plot_confusion_matrix(cm, classes,\n",
    "                          normalize=False,\n",
    "                          title='Confusion matrix',\n",
    "                          cmap=plt.cm.Blues):\n",
    "    \"\"\"\n",
    "    This function prints and plots the confusion matrix.\n",
    "    Normalization can be applied by setting `normalize=True`.\n",
    "    \"\"\"\n",
    "    plt.imshow(cm, interpolation='nearest', cmap=cmap)\n",
    "    plt.title(title)\n",
    "    plt.colorbar()\n",
    "    tick_marks = np.arange(len(classes))\n",
    "    plt.xticks(tick_marks, classes, rotation=45)\n",
    "    plt.yticks(tick_marks, classes)\n",
    "\n",
    "    if normalize:\n",
    "        cm = cm.astype('float') / cm.sum(axis=1)[:, np.newaxis]\n",
    "        print(\"Normalized confusion matrix\")\n",
    "    else:\n",
    "        print('Confusion matrix, without normalization')\n",
    "\n",
    "    print(cm)\n",
    "\n",
    "    thresh = cm.max() / 2.\n",
    "    for i, j in itertools.product(range(cm.shape[0]), range(cm.shape[1])):\n",
    "        plt.text(j, i, cm[i, j],\n",
    "                 horizontalalignment=\"center\",\n",
    "                 color=\"white\" if cm[i, j] > thresh else \"black\")\n",
    "\n",
    "    plt.tight_layout()\n",
    "    plt.ylabel('True label')\n",
    "    plt.xlabel('Predicted label')\n",
    "    \n",
    "def clf_eval(clf, X, y_true, classes=['Não Sobreviveu', 'Sobreviveu']):\n",
    "    y_pred = clf.predict(X)\n",
    "    clf_matrix = confusion_matrix(y_true, y_pred)\n",
    "    print('Classification Report')\n",
    "    print(classification_report(y_true, y_pred, target_names=classes))\n",
    "    print('ROC Score: {}'.format(roc_auc_score(y_true, y_pred)))\n",
    "    print('Accuracy Score: {}'.format(accuracy_score(y_true, y_pred)))\n",
    "    print('Average Precision Score: {}'.format(average_precision_score(y_true, y_pred)))\n",
    "    print('f1 Score: {}'.format(f1_score(y_true, y_pred)))\n",
    "    plot_confusion_matrix(clf_matrix, classes=classes)\n",
    "    return roc_auc_score(y_true, y_pred)"
   ]
  },
  {
   "cell_type": "markdown",
   "metadata": {
    "deletable": true,
    "editable": true
   },
   "source": [
    "#### Creating cross-validation with subsets (70% train / 30% test):  \n",
    "\n",
    "http://scikit-learn.org/stable/modules/cross_validation.html  \n",
    "http://www.analyticsvidhya.com/blog/2015/05/k-fold-cross-validation-simple/  \n",
    "http://scikit-learn.org/stable/modules/generated/sklearn.cross_validation.cross_val_score.html  \n",
    "http://stackoverflow.com/questions/25375203/identical-learning-curves-on-subsequent-runs-using-shufflesplit  \n",
    "http://stackoverflow.com/questions/28064634/random-state-pseudo-random-numberin-scikit-learn  "
   ]
  },
  {
   "cell_type": "code",
   "execution_count": 62,
   "metadata": {
    "collapsed": true,
    "deletable": true,
    "editable": true
   },
   "outputs": [],
   "source": [
    "X_traincv, X_testcv, y_traincv, y_testcv = model_selection.train_test_split(X_train,\n",
    "                                                                            y_train,\n",
    "                                                                            test_size=0.3,\n",
    "                                                                            random_state=0)"
   ]
  },
  {
   "cell_type": "code",
   "execution_count": 63,
   "metadata": {
    "collapsed": false
   },
   "outputs": [
    {
     "name": "stdout",
     "output_type": "stream",
     "text": [
      "(623, 11)\n",
      "(268, 11)\n",
      "(623,)\n",
      "(268,)\n"
     ]
    }
   ],
   "source": [
    "print(X_traincv.shape)\n",
    "print(X_testcv.shape)\n",
    "print(y_traincv.shape)\n",
    "print(y_testcv.shape)"
   ]
  },
  {
   "cell_type": "markdown",
   "metadata": {
    "deletable": true,
    "editable": true
   },
   "source": [
    "#### Check if classes are balanced"
   ]
  },
  {
   "cell_type": "code",
   "execution_count": 64,
   "metadata": {
    "collapsed": false,
    "deletable": true,
    "editable": true
   },
   "outputs": [
    {
     "name": "stdout",
     "output_type": "stream",
     "text": [
      "381\n",
      "242\n"
     ]
    }
   ],
   "source": [
    "print(len(y_traincv[y_traincv == 0]))\n",
    "print(len(y_traincv[y_traincv == 1]))"
   ]
  },
  {
   "cell_type": "markdown",
   "metadata": {
    "deletable": true,
    "editable": true
   },
   "source": [
    "#### Oversampling the minority class  \n",
    "http://contrib.scikit-learn.org/imbalanced-learn/  "
   ]
  },
  {
   "cell_type": "code",
   "execution_count": 65,
   "metadata": {
    "collapsed": true,
    "deletable": true,
    "editable": true
   },
   "outputs": [],
   "source": [
    "from imblearn.over_sampling import SMOTE\n",
    "\n",
    "smote = SMOTE(kind='regular')\n",
    "X_traincv_res, y_traincv_res = smote.fit_sample(X_traincv, y_traincv)"
   ]
  },
  {
   "cell_type": "code",
   "execution_count": 66,
   "metadata": {
    "collapsed": false,
    "deletable": true,
    "editable": true
   },
   "outputs": [
    {
     "name": "stdout",
     "output_type": "stream",
     "text": [
      "381\n",
      "381\n"
     ]
    }
   ],
   "source": [
    "print(len(y_traincv_res[y_traincv_res == 0]))\n",
    "print(len(y_traincv_res[y_traincv_res == 1]))"
   ]
  },
  {
   "cell_type": "markdown",
   "metadata": {
    "deletable": true,
    "editable": true
   },
   "source": [
    "#### Creating another train/test set using k-fold or other cross-validation method:  "
   ]
  },
  {
   "cell_type": "code",
   "execution_count": 67,
   "metadata": {
    "collapsed": true,
    "deletable": true,
    "editable": true
   },
   "outputs": [],
   "source": [
    "cv = model_selection.StratifiedKFold(n_splits=10)\n",
    "\n",
    "def mean_scores_cv(clf, cv, X, y):\n",
    "    scores = model_selection.cross_val_score(clf, X, y, \n",
    "                                              scoring=None, \n",
    "                                              cv=cv, \n",
    "                                              n_jobs=1,\n",
    "                                              verbose=0,\n",
    "                                              fit_params=None,\n",
    "                                              pre_dispatch='2*n_jobs')\n",
    "    return scores.mean()"
   ]
  },
  {
   "cell_type": "markdown",
   "metadata": {
    "deletable": true,
    "editable": true
   },
   "source": [
    "#### Choosing the best parameters using GridSearchCV and RandomizedSearchCV  \n",
    "http://scikit-learn.org/stable/modules/grid_search.html  "
   ]
  },
  {
   "cell_type": "code",
   "execution_count": 68,
   "metadata": {
    "collapsed": false,
    "deletable": true,
    "editable": true
   },
   "outputs": [
    {
     "name": "stdout",
     "output_type": "stream",
     "text": [
      "0.786756453423\n",
      "linear\n",
      "0.1\n",
      "4\n",
      "0.0774263682681\n"
     ]
    }
   ],
   "source": [
    "#http://scikit-learn.org/stable/modules/generated/sklearn.svm.SVC.html\n",
    "from sklearn import svm\n",
    "\n",
    "\n",
    "estimator = svm.SVC()\n",
    "cv = model_selection.StratifiedKFold(n_splits=10)\n",
    "\n",
    "kernels = ['linear', 'poly']\n",
    "Cs = np.linspace(0.1,2,10)\n",
    "degrees = [2,3,4]\n",
    "gammas = np.logspace(-5, 0, 10)\n",
    "\n",
    "param_grid=dict(kernel=kernels, C=Cs, gamma=gammas, degree=degrees)\n",
    "\n",
    "clf_svc = model_selection.RandomizedSearchCV(estimator=estimator,\n",
    "                                             cv=cv,\n",
    "                                             param_distributions=param_grid, \n",
    "                                             n_jobs=-1).fit(X_train, y_train)\n",
    "\n",
    "with open(os.path.join(outputs,'best_parameters_svm.pickle'), 'wb') as f:\n",
    "    pickle.dump(clf_svc,f)\n",
    "\n",
    "with open(os.path.join(outputs,'best_parameters_svm.pickle'), 'rb') as f:\n",
    "    clf_svc = pickle.load(f)\n",
    "\n",
    "print(clf_svc.best_score_)\n",
    "print(clf_svc.best_estimator_.kernel)\n",
    "print(clf_svc.best_estimator_.C)\n",
    "print(clf_svc.best_estimator_.degree)\n",
    "print(clf_svc.best_estimator_.gamma)"
   ]
  },
  {
   "cell_type": "markdown",
   "metadata": {
    "deletable": true,
    "editable": true
   },
   "source": [
    "#### Testing some classifiers:  \n",
    "Note that only the first classifier (svm) had its parameters optimized  "
   ]
  },
  {
   "cell_type": "code",
   "execution_count": 69,
   "metadata": {
    "collapsed": false,
    "deletable": true,
    "editable": true
   },
   "outputs": [
    {
     "name": "stdout",
     "output_type": "stream",
     "text": [
      "Classification Report\n",
      "                precision    recall  f1-score   support\n",
      "\n",
      "Não Sobreviveu       0.83      0.83      0.83       168\n",
      "    Sobreviveu       0.72      0.71      0.71       100\n",
      "\n",
      "   avg / total       0.79      0.79      0.79       268\n",
      "\n",
      "ROC Score: 0.7716666666666667\n",
      "Accuracy Score: 0.7873134328358209\n",
      "Average Precision Score: 0.7676903361977989\n",
      "f1 Score: 0.7135678391959798\n",
      "Confusion matrix, without normalization\n",
      "[[140  28]\n",
      " [ 29  71]]\n"
     ]
    },
    {
     "data": {
      "image/png": "[encoded data removed]",
      "text/plain": [
       "<matplotlib.figure.Figure at 0x7f7c902407f0>"
      ]
     },
     "metadata": {},
     "output_type": "display_data"
    }
   ],
   "source": [
    "#http://scikit-learn.org/stable/modules/generated/sklearn.svm.SVC.html\n",
    "clf_svc2 = svm.SVC(kernel=clf_svc.best_estimator_.kernel,\n",
    "                   C=clf_svc.best_estimator_.C,\n",
    "                   degree=clf_svc.best_estimator_.degree, \n",
    "                   gamma=clf_svc.best_estimator_.gamma, \n",
    "                   coef0=0.0, \n",
    "                   shrinking=True, \n",
    "                   probability=False, \n",
    "                   tol=0.001, \n",
    "                   cache_size=200, \n",
    "                   class_weight=None, \n",
    "                   verbose=False, \n",
    "                   max_iter=-1, \n",
    "                   random_state=0).fit(X_traincv, y_traincv)\n",
    "\n",
    "roc_svc2 = clf_eval(clf_svc2, X_testcv, y_testcv)"
   ]
  },
  {
   "cell_type": "markdown",
   "metadata": {
    "deletable": true,
    "editable": true
   },
   "source": [
    "For this first classifier, we'll also display the learning curve  \n",
    "http://scikit-learn.org/stable/modules/generated/sklearn.learning_curve.learning_curve.html  "
   ]
  },
  {
   "cell_type": "code",
   "execution_count": 70,
   "metadata": {
    "collapsed": true,
    "deletable": true,
    "editable": true
   },
   "outputs": [],
   "source": [
    "#http://scikit-learn.org/stable/modules/generated/sklearn.learning_curve.learning_curve.html\n",
    "\n",
    "def plot_learning_curve(estimator, \n",
    "                        title, \n",
    "                        X, \n",
    "                        y, \n",
    "                        ylim=None, \n",
    "                        cv=None,\n",
    "                        n_jobs=-1, \n",
    "                        train_sizes=np.linspace(.1, 1.0, 5)):\n",
    "    \n",
    "    plt.figure(figsize=(16,8))\n",
    "    plt.title(title)\n",
    "    if ylim is not None:\n",
    "        plt.ylim(*ylim)\n",
    "    plt.xlabel(\"Training examples\")\n",
    "    plt.ylabel(\"Score\")\n",
    "    train_sizes, train_scores, test_scores = model_selection.learning_curve(estimator, \n",
    "                                                            X, y, cv=cv, \n",
    "                                                            n_jobs=n_jobs, \n",
    "                                                            train_sizes=train_sizes)\n",
    "    train_scores_mean = np.mean(train_scores, axis=1)\n",
    "    train_scores_std = np.std(train_scores, axis=1)\n",
    "    test_scores_mean = np.mean(test_scores, axis=1)\n",
    "    test_scores_std = np.std(test_scores, axis=1)\n",
    "    \n",
    "    plt.grid()\n",
    "    plt.fill_between(train_sizes, train_scores_mean - train_scores_std,\n",
    "                     train_scores_mean + train_scores_std, alpha=0.1, color=\"r\")\n",
    "    plt.fill_between(train_sizes, test_scores_mean - test_scores_std,\n",
    "                     test_scores_mean + test_scores_std, alpha=0.1, color=\"g\")\n",
    "    plt.plot(train_sizes, train_scores_mean, 'o-', color=\"r\", label=\"Training score\")\n",
    "    plt.plot(train_sizes, test_scores_mean, 'o-', color=\"g\", label=\"Cross-validation score\")\n",
    "\n",
    "    plt.legend(loc=\"best\")\n",
    "    return plt"
   ]
  },
  {
   "cell_type": "code",
   "execution_count": 71,
   "metadata": {
    "collapsed": false,
    "deletable": true,
    "editable": true
   },
   "outputs": [
    {
     "data": {
      "image/png": "[encoded data removed]",
      "text/plain": [
       "<matplotlib.figure.Figure at 0x7f7c902409e8>"
      ]
     },
     "metadata": {},
     "output_type": "display_data"
    }
   ],
   "source": [
    "title = 'Learning Curves (SVM, kernel:{1}{0} , $\\gamma={2:.6f}$)'.format(clf_svc.best_estimator_.degree,\n",
    "                                                                         clf_svc.best_estimator_.kernel,\n",
    "                                                                         clf_svc.best_estimator_.gamma)\n",
    "graph = plot_learning_curve(clf_svc2, title, X_train, y_train, cv=cv)\n",
    "#matplotlib.rcdefaults()\n",
    "#matplotlib.verbose.set_level('silent')\n",
    "graph.show()"
   ]
  },
  {
   "cell_type": "markdown",
   "metadata": {
    "deletable": true,
    "editable": true
   },
   "source": [
    "Agora vamos testar outros estimadores:"
   ]
  },
  {
   "cell_type": "code",
   "execution_count": 72,
   "metadata": {
    "collapsed": false,
    "deletable": true,
    "editable": true
   },
   "outputs": [
    {
     "name": "stdout",
     "output_type": "stream",
     "text": [
      "Classification Report\n",
      "                precision    recall  f1-score   support\n",
      "\n",
      "Não Sobreviveu       0.83      0.86      0.85       168\n",
      "    Sobreviveu       0.75      0.70      0.73       100\n",
      "\n",
      "   avg / total       0.80      0.80      0.80       268\n",
      "\n",
      "ROC Score: 0.7815476190476192\n",
      "Accuracy Score: 0.8022388059701493\n",
      "Average Precision Score: 0.7823142352752367\n",
      "f1 Score: 0.7253886010362695\n",
      "Confusion matrix, without normalization\n",
      "[[145  23]\n",
      " [ 30  70]]\n"
     ]
    },
    {
     "data": {
      "image/png": "[encoded data removed]",
      "text/plain": [
       "<matplotlib.figure.Figure at 0x7f7c90080e10>"
      ]
     },
     "metadata": {},
     "output_type": "display_data"
    }
   ],
   "source": [
    "#http://scikit-learn.org/stable/modules/ensemble.html\n",
    "#http://scikit-learn.org/stable/modules/generated/sklearn.ensemble.RandomForestClassifier.html\n",
    "#http://blog.yhathq.com/posts/random-forests-in-python.html\n",
    "#http://www.analyticsvidhya.com/blog/2015/06/tuning-random-forest-model/\n",
    "from sklearn.ensemble import RandomForestClassifier\n",
    "\n",
    "clf_rf = RandomForestClassifier(n_estimators=300, \n",
    "                                criterion='gini', \n",
    "                                max_depth=None, \n",
    "                                min_samples_split=2, \n",
    "                                min_samples_leaf=1, \n",
    "                                min_weight_fraction_leaf=0.0, \n",
    "                                max_features='auto', \n",
    "                                max_leaf_nodes=None, \n",
    "                                bootstrap=True, \n",
    "                                oob_score=False, \n",
    "                                n_jobs=-1, \n",
    "                                random_state=0, \n",
    "                                verbose=0, \n",
    "                                warm_start=False, \n",
    "                                class_weight=None).fit(X_traincv, y_traincv)\n",
    "\n",
    "\n",
    "\n",
    "roc_rf = clf_eval(clf_rf, X_testcv, y_testcv)"
   ]
  },
  {
   "cell_type": "markdown",
   "metadata": {
    "deletable": true,
    "editable": true
   },
   "source": [
    "Plotting the confidence intervals  \n",
    "https://github.com/scikit-learn-contrib/forest-confidence-interval  "
   ]
  },
  {
   "cell_type": "code",
   "execution_count": 73,
   "metadata": {
    "collapsed": false,
    "deletable": true,
    "editable": true
   },
   "outputs": [
    {
     "name": "stderr",
     "output_type": "stream",
     "text": [
      "/usr/local/lib/python3.5/dist-packages/ipykernel_launcher.py:15: RuntimeWarning: invalid value encountered in sqrt\n",
      "  from ipykernel import kernelapp as app\n",
      "/usr/local/lib/python3.5/dist-packages/ipykernel_launcher.py:22: RuntimeWarning: invalid value encountered in sqrt\n"
     ]
    },
    {
     "data": {
      "image/png": "[encoded data removed]",
      "text/plain": [
       "<matplotlib.figure.Figure at 0x7f7c9017a320>"
      ]
     },
     "metadata": {},
     "output_type": "display_data"
    }
   ],
   "source": [
    "import forestci as fci\n",
    "\n",
    "y_predicted = clf_rf.predict_proba(X_testcv)\n",
    "\n",
    "# calculate inbag and unbiased variance\n",
    "inbag = fci.calc_inbag(X_traincv.shape[0], clf_rf)\n",
    "unbiased = fci.random_forest_error(clf_rf, inbag,X_traincv, X_testcv)\n",
    "\n",
    "# Plot forest prediction for survivors and standard deviation for estimates\n",
    "# Blue points are survivors; Green points are non-survivors\n",
    "idx = np.where(y_testcv == 1)[0]\n",
    "\n",
    "plt.figure(figsize=(12,6))\n",
    "plt.errorbar(y_predicted[idx, 1], \n",
    "             np.sqrt(unbiased[idx]),\n",
    "             fmt='.', \n",
    "             alpha=0.75, \n",
    "             label='Survived')\n",
    "\n",
    "idx = np.where(y_testcv == 0)[0]\n",
    "plt.errorbar(y_predicted[idx, 1],\n",
    "             np.sqrt(unbiased[idx]),\n",
    "             fmt='.', \n",
    "             alpha=0.75, \n",
    "             label='Not Survived')\n",
    "\n",
    "plt.xlabel('Prediction (Surviving probability)')\n",
    "plt.ylabel('Standard deviation')\n",
    "plt.legend()\n",
    "plt.show()"
   ]
  },
  {
   "cell_type": "code",
   "execution_count": 74,
   "metadata": {
    "collapsed": false,
    "deletable": true,
    "editable": true
   },
   "outputs": [
    {
     "name": "stdout",
     "output_type": "stream",
     "text": [
      "Classification Report\n",
      "                precision    recall  f1-score   support\n",
      "\n",
      "Não Sobreviveu       0.80      0.86      0.83       168\n",
      "    Sobreviveu       0.73      0.65      0.69       100\n",
      "\n",
      "   avg / total       0.78      0.78      0.78       268\n",
      "\n",
      "ROC Score: 0.7535714285714286\n",
      "Accuracy Score: 0.7798507462686567\n",
      "Average Precision Score: 0.7554670467885293\n",
      "f1 Score: 0.6878306878306878\n",
      "Confusion matrix, without normalization\n",
      "[[144  24]\n",
      " [ 35  65]]\n"
     ]
    },
    {
     "data": {
      "image/png": "[encoded data removed]",
      "text/plain": [
       "<matplotlib.figure.Figure at 0x7f7c9006d4a8>"
      ]
     },
     "metadata": {},
     "output_type": "display_data"
    }
   ],
   "source": [
    "# http://scikit-learn.org/stable/modules/generated/sklearn.tree.DecisionTreeClassifier.html\n",
    "from sklearn.tree import DecisionTreeClassifier\n",
    "\n",
    "clf_dtc = DecisionTreeClassifier(criterion='gini', \n",
    "                                 splitter='best', \n",
    "                                 max_depth=None, \n",
    "                                 min_samples_split=2, \n",
    "                                 min_samples_leaf=1, \n",
    "                                 min_weight_fraction_leaf=0.0, \n",
    "                                 max_features=None, \n",
    "                                 random_state=0, \n",
    "                                 max_leaf_nodes=None, \n",
    "                                 class_weight=None, \n",
    "                                 presort=False).fit(X_traincv, y_traincv)\n",
    "\n",
    "roc_dtc = clf_eval(clf_dtc, X_testcv, y_testcv)"
   ]
  },
  {
   "cell_type": "code",
   "execution_count": 75,
   "metadata": {
    "collapsed": false,
    "deletable": true,
    "editable": true
   },
   "outputs": [
    {
     "name": "stdout",
     "output_type": "stream",
     "text": [
      "Classification Report\n",
      "                precision    recall  f1-score   support\n",
      "\n",
      "Não Sobreviveu       0.83      0.83      0.83       168\n",
      "    Sobreviveu       0.72      0.72      0.72       100\n",
      "\n",
      "   avg / total       0.79      0.79      0.79       268\n",
      "\n",
      "ROC Score: 0.7766666666666666\n",
      "Accuracy Score: 0.7910447761194029\n",
      "Average Precision Score: 0.7722388059701493\n",
      "f1 Score: 0.72\n",
      "Confusion matrix, without normalization\n",
      "[[140  28]\n",
      " [ 28  72]]\n"
     ]
    },
    {
     "data": {
      "image/png": "[encoded data removed]",
      "text/plain": [
       "<matplotlib.figure.Figure at 0x7f7c8ad5e828>"
      ]
     },
     "metadata": {},
     "output_type": "display_data"
    }
   ],
   "source": [
    "#http://scikit-learn.org/stable/modules/generated/sklearn.ensemble.ExtraTreesClassifier.html\n",
    "from sklearn.ensemble import ExtraTreesClassifier\n",
    "\n",
    "clf_etc = ExtraTreesClassifier(n_estimators=300,\n",
    "                               max_depth=None,\n",
    "                               min_samples_split=2,\n",
    "                               random_state=0).fit(X_traincv, y_traincv)\n",
    "\n",
    "roc_etc = clf_eval(clf_etc, X_testcv, y_testcv)"
   ]
  },
  {
   "cell_type": "code",
   "execution_count": 76,
   "metadata": {
    "collapsed": false,
    "deletable": true,
    "editable": true
   },
   "outputs": [
    {
     "name": "stdout",
     "output_type": "stream",
     "text": [
      "Classification Report\n",
      "                precision    recall  f1-score   support\n",
      "\n",
      "Não Sobreviveu       0.85      0.88      0.86       168\n",
      "    Sobreviveu       0.78      0.74      0.76       100\n",
      "\n",
      "   avg / total       0.82      0.82      0.82       268\n",
      "\n",
      "ROC Score: 0.8075\n",
      "Accuracy Score: 0.8246268656716418\n",
      "Average Precision Score: 0.8079811468970934\n",
      "f1 Score: 0.7589743589743589\n",
      "Confusion matrix, without normalization\n",
      "[[147  21]\n",
      " [ 26  74]]\n"
     ]
    },
    {
     "data": {
      "image/png": "[encoded data removed]",
      "text/plain": [
       "<matplotlib.figure.Figure at 0x7f7c8ad040f0>"
      ]
     },
     "metadata": {},
     "output_type": "display_data"
    }
   ],
   "source": [
    "#http://scikit-learn.org/stable/modules/generated/sklearn.ensemble.AdaBoostClassifier.html\n",
    "from sklearn.ensemble import AdaBoostClassifier\n",
    "\n",
    "clf_abc = AdaBoostClassifier(base_estimator=None,\n",
    "                             n_estimators=200,\n",
    "                             learning_rate=0.1,\n",
    "                             algorithm='SAMME.R',\n",
    "                             random_state=0).fit(X_traincv, y_traincv)\n",
    "\n",
    "roc_abc = clf_eval(clf_abc, X_testcv, y_testcv)"
   ]
  },
  {
   "cell_type": "code",
   "execution_count": 77,
   "metadata": {
    "collapsed": false,
    "deletable": true,
    "editable": true
   },
   "outputs": [
    {
     "name": "stdout",
     "output_type": "stream",
     "text": [
      "Classification Report\n",
      "                precision    recall  f1-score   support\n",
      "\n",
      "Não Sobreviveu       0.84      0.86      0.85       168\n",
      "    Sobreviveu       0.75      0.73      0.74       100\n",
      "\n",
      "   avg / total       0.81      0.81      0.81       268\n",
      "\n",
      "ROC Score: 0.7935714285714286\n",
      "Accuracy Score: 0.8097014925373134\n",
      "Average Precision Score: 0.7916617941221726\n",
      "f1 Score: 0.7411167512690355\n",
      "Confusion matrix, without normalization\n",
      "[[144  24]\n",
      " [ 27  73]]\n"
     ]
    },
    {
     "data": {
      "image/png": "[encoded data removed]",
      "text/plain": [
       "<matplotlib.figure.Figure at 0x7f7c8ad2ff28>"
      ]
     },
     "metadata": {},
     "output_type": "display_data"
    }
   ],
   "source": [
    "#http://scikit-learn.org/stable/modules/generated/sklearn.ensemble.GradientBoostingClassifier.html\n",
    "from sklearn.ensemble import GradientBoostingClassifier\n",
    "\n",
    "clf_gbc = GradientBoostingClassifier(loss='deviance',\n",
    "                                     learning_rate=0.1,\n",
    "                                     n_estimators=200,\n",
    "                                     subsample=1.0, \n",
    "                                     min_samples_split=2, \n",
    "                                     min_samples_leaf=1, \n",
    "                                     min_weight_fraction_leaf=0.0, \n",
    "                                     max_depth=3, \n",
    "                                     init=None, \n",
    "                                     random_state=0, \n",
    "                                     max_features=None, \n",
    "                                     verbose=0, \n",
    "                                     max_leaf_nodes=None, \n",
    "                                     warm_start=False, \n",
    "                                     presort='auto').fit(X_traincv, y_traincv)\n",
    "\n",
    "roc_gbc = clf_eval(clf_gbc, X_testcv, y_testcv)"
   ]
  },
  {
   "cell_type": "code",
   "execution_count": 78,
   "metadata": {
    "collapsed": false,
    "deletable": true,
    "editable": true
   },
   "outputs": [
    {
     "name": "stderr",
     "output_type": "stream",
     "text": [
      "/usr/local/lib/python3.5/dist-packages/sklearn/cross_validation.py:44: DeprecationWarning: This module was deprecated in version 0.18 in favor of the model_selection module into which all the refactored classes and functions are moved. Also note that the interface of the new CV iterators are different from that of this module. This module will be removed in 0.20.\n",
      "  \"This module will be removed in 0.20.\", DeprecationWarning)\n"
     ]
    },
    {
     "name": "stdout",
     "output_type": "stream",
     "text": [
      "Classification Report\n",
      "                precision    recall  f1-score   support\n",
      "\n",
      "Não Sobreviveu       0.82      0.91      0.86       168\n",
      "    Sobreviveu       0.82      0.67      0.74       100\n",
      "\n",
      "   avg / total       0.82      0.82      0.82       268\n",
      "\n",
      "ROC Score: 0.7903571428571428\n",
      "Accuracy Score: 0.8208955223880597\n",
      "Average Precision Score: 0.805103749544958\n",
      "f1 Score: 0.7362637362637363\n",
      "Confusion matrix, without normalization\n",
      "[[153  15]\n",
      " [ 33  67]]\n"
     ]
    },
    {
     "data": {
      "image/png": "[encoded data removed]",
      "text/plain": [
       "<matplotlib.figure.Figure at 0x7f7c8af0bf60>"
      ]
     },
     "metadata": {},
     "output_type": "display_data"
    }
   ],
   "source": [
    "#https://github.com/dmlc/xgboost/tree/master/python-package  \n",
    "#https://xgboost.readthedocs.io/en/latest/build.html#building-on-ubuntu-debian\n",
    "#http://xgboost.readthedocs.io/en/latest/build.html#python-package-installation  \n",
    "#http://xgboost.readthedocs.io/en/latest/parameter.html  \n",
    "#https://www.analyticsvidhya.com/blog/2016/03/complete-guide-parameter-tuning-xgboost-with-codes-python/  \n",
    "#https://www.kaggle.com/cbrogan/titanic/xgboost-example-python/run/1620  \n",
    "#http://xgboost.readthedocs.io/en/latest//python/python_api.html#module-xgboost.sklearn\n",
    "\n",
    "import xgboost\n",
    "\n",
    "clf_xgb = xgboost.sklearn.XGBClassifier(base_score=0.5,\n",
    "                                        learning_rate=0.1,\n",
    "                                        n_estimators=250,\n",
    "                                        max_delta_step=0,\n",
    "                                        max_depth=3,\n",
    "                                        min_child_weight=1,\n",
    "                                        missing=None,\n",
    "                                        gamma=0,\n",
    "                                        subsample=1,\n",
    "                                        colsample_bylevel=1,\n",
    "                                        colsample_bytree=1,\n",
    "                                        objective= 'binary:logitraw',\n",
    "                                        #objective='multi:softprob',\n",
    "                                        reg_alpha=0, \n",
    "                                        reg_lambda=1,\n",
    "                                        nthread=-1,\n",
    "                                        scale_pos_weight=1,\n",
    "                                        seed=0,\n",
    "                                        silent=False,).fit(X_traincv, y_traincv)\n",
    "\n",
    "roc_xgb = clf_eval(clf_xgb, X_testcv, y_testcv)"
   ]
  },
  {
   "cell_type": "code",
   "execution_count": 79,
   "metadata": {
    "collapsed": false,
    "deletable": true,
    "editable": true
   },
   "outputs": [
    {
     "name": "stdout",
     "output_type": "stream",
     "text": [
      "Classification Report\n",
      "                precision    recall  f1-score   support\n",
      "\n",
      "Não Sobreviveu       0.82      0.83      0.83       168\n",
      "    Sobreviveu       0.71      0.70      0.71       100\n",
      "\n",
      "   avg / total       0.78      0.78      0.78       268\n",
      "\n",
      "ROC Score: 0.7666666666666667\n",
      "Accuracy Score: 0.7835820895522388\n",
      "Average Precision Score: 0.7631130063965885\n",
      "f1 Score: 0.7070707070707072\n",
      "Confusion matrix, without normalization\n",
      "[[140  28]\n",
      " [ 30  70]]\n"
     ]
    },
    {
     "data": {
      "image/png": "[encoded data removed]",
      "text/plain": [
       "<matplotlib.figure.Figure at 0x7f7c8ae05080>"
      ]
     },
     "metadata": {},
     "output_type": "display_data"
    }
   ],
   "source": [
    "#http://scikit-learn.org/stable/modules/generated/sklearn.linear_model.SGDClassifier.html\n",
    "from sklearn.linear_model import SGDClassifier\n",
    "\n",
    "clf_sgdc = SGDClassifier(loss='hinge',\n",
    "                         penalty='l2', \n",
    "                         alpha=0.0001,\n",
    "                         l1_ratio=0.15, \n",
    "                         fit_intercept=True,\n",
    "                         n_iter=200, \n",
    "                         shuffle=True,\n",
    "                         verbose=0,\n",
    "                         epsilon=0.1,\n",
    "                         n_jobs=-1,\n",
    "                         random_state=0,\n",
    "                         learning_rate='optimal',\n",
    "                         eta0=0.0, \n",
    "                         power_t=0.5,\n",
    "                         class_weight=None,\n",
    "                         warm_start=False, \n",
    "                         average=False).fit(X_traincv, y_traincv)\n",
    "\n",
    "roc_sgdc = clf_eval(clf_sgdc, X_testcv, y_testcv)"
   ]
  },
  {
   "cell_type": "code",
   "execution_count": 80,
   "metadata": {
    "collapsed": false,
    "deletable": true,
    "editable": true
   },
   "outputs": [
    {
     "name": "stdout",
     "output_type": "stream",
     "text": [
      "Classification Report\n",
      "                precision    recall  f1-score   support\n",
      "\n",
      "Não Sobreviveu       0.84      0.85      0.84       168\n",
      "    Sobreviveu       0.74      0.72      0.73       100\n",
      "\n",
      "   avg / total       0.80      0.80      0.80       268\n",
      "\n",
      "ROC Score: 0.7855952380952381\n",
      "Accuracy Score: 0.8022388059701493\n",
      "Average Precision Score: 0.7833728265887059\n",
      "f1 Score: 0.7309644670050761\n",
      "Confusion matrix, without normalization\n",
      "[[143  25]\n",
      " [ 28  72]]\n"
     ]
    },
    {
     "data": {
      "image/png": "[encoded data removed]",
      "text/plain": [
       "<matplotlib.figure.Figure at 0x7f7c8ae852b0>"
      ]
     },
     "metadata": {},
     "output_type": "display_data"
    }
   ],
   "source": [
    "#http://scikit-learn.org/stable/modules/generated/sklearn.linear_model.RidgeClassifier.html\n",
    "from sklearn.linear_model import RidgeClassifier\n",
    "\n",
    "clf_rdg = RidgeClassifier(alpha=1.0, \n",
    "                          fit_intercept=True, \n",
    "                          normalize=False, \n",
    "                          copy_X=True, \n",
    "                          max_iter=None, \n",
    "                          tol=0.001, \n",
    "                          class_weight=None, \n",
    "                          solver='auto', \n",
    "                          random_state=0).fit(X_traincv, y_traincv)\n",
    "\n",
    "roc_rdg = clf_eval(clf_rdg, X_testcv, y_testcv)"
   ]
  },
  {
   "cell_type": "code",
   "execution_count": 81,
   "metadata": {
    "collapsed": false,
    "deletable": true,
    "editable": true
   },
   "outputs": [
    {
     "name": "stdout",
     "output_type": "stream",
     "text": [
      "Classification Report\n",
      "                precision    recall  f1-score   support\n",
      "\n",
      "Não Sobreviveu       0.82      0.84      0.83       168\n",
      "    Sobreviveu       0.72      0.68      0.70       100\n",
      "\n",
      "   avg / total       0.78      0.78      0.78       268\n",
      "\n",
      "ROC Score: 0.7596428571428572\n",
      "Accuracy Score: 0.7798507462686567\n",
      "Average Precision Score: 0.7575962293794187\n",
      "f1 Score: 0.6974358974358974\n",
      "Confusion matrix, without normalization\n",
      "[[141  27]\n",
      " [ 32  68]]\n"
     ]
    },
    {
     "data": {
      "image/png": "[encoded data removed]",
      "text/plain": [
       "<matplotlib.figure.Figure at 0x7f7c8bbc5f60>"
      ]
     },
     "metadata": {},
     "output_type": "display_data"
    }
   ],
   "source": [
    "#http://scikit-learn.org/stable/modules/generated/sklearn.linear_model.Perceptron.html#sklearn.linear_model.Perceptron\n",
    "from sklearn.linear_model import Perceptron\n",
    "\n",
    "clf_pcp = Perceptron(penalty=None,\n",
    "                     alpha=0.0001,\n",
    "                     fit_intercept=True,\n",
    "                     n_iter=200,\n",
    "                     shuffle=True,\n",
    "                     verbose=0,\n",
    "                     eta0=1.0,\n",
    "                     n_jobs=-1, \n",
    "                     random_state=0, \n",
    "                     class_weight=None, \n",
    "                     warm_start=False).fit(X_traincv, y_traincv)\n",
    "\n",
    "roc_pcp = clf_eval(clf_pcp, X_testcv, y_testcv)"
   ]
  },
  {
   "cell_type": "code",
   "execution_count": 82,
   "metadata": {
    "collapsed": false,
    "deletable": true,
    "editable": true
   },
   "outputs": [
    {
     "name": "stdout",
     "output_type": "stream",
     "text": [
      "Classification Report\n",
      "                precision    recall  f1-score   support\n",
      "\n",
      "Não Sobreviveu       0.83      0.79      0.81       168\n",
      "    Sobreviveu       0.67      0.73      0.70       100\n",
      "\n",
      "   avg / total       0.77      0.76      0.77       268\n",
      "\n",
      "ROC Score: 0.7578571428571428\n",
      "Accuracy Score: 0.7649253731343284\n",
      "Average Precision Score: 0.7502355196494591\n",
      "f1 Score: 0.6985645933014354\n",
      "Confusion matrix, without normalization\n",
      "[[132  36]\n",
      " [ 27  73]]\n"
     ]
    },
    {
     "data": {
      "image/png": "[encoded data removed]",
      "text/plain": [
       "<matplotlib.figure.Figure at 0x7f7c8a992a90>"
      ]
     },
     "metadata": {},
     "output_type": "display_data"
    }
   ],
   "source": [
    "#http://scikit-learn.org/stable/modules/generated/sklearn.linear_model.PassiveAggressiveClassifier.html\n",
    "from sklearn.linear_model import PassiveAggressiveClassifier\n",
    "\n",
    "clf_pac = PassiveAggressiveClassifier(C=1.0, \n",
    "                                      fit_intercept=True, \n",
    "                                      n_iter=200, \n",
    "                                      shuffle=True, \n",
    "                                      verbose=0, \n",
    "                                      loss='hinge', \n",
    "                                      n_jobs=-1, \n",
    "                                      random_state=0, \n",
    "                                      warm_start=False, \n",
    "                                      class_weight=None).fit(X_traincv, y_traincv)\n",
    "\n",
    "roc_pac = clf_eval(clf_pac, X_testcv, y_testcv)"
   ]
  },
  {
   "cell_type": "code",
   "execution_count": 83,
   "metadata": {
    "collapsed": false,
    "deletable": true,
    "editable": true
   },
   "outputs": [
    {
     "name": "stdout",
     "output_type": "stream",
     "text": [
      "Classification Report\n",
      "                precision    recall  f1-score   support\n",
      "\n",
      "Não Sobreviveu       0.84      0.86      0.85       168\n",
      "    Sobreviveu       0.75      0.72      0.73       100\n",
      "\n",
      "   avg / total       0.80      0.81      0.81       268\n",
      "\n",
      "ROC Score: 0.7885714285714286\n",
      "Accuracy Score: 0.8059701492537313\n",
      "Average Precision Score: 0.7872388059701493\n",
      "f1 Score: 0.7346938775510204\n",
      "Confusion matrix, without normalization\n",
      "[[144  24]\n",
      " [ 28  72]]\n"
     ]
    },
    {
     "data": {
      "image/png": "[encoded data removed]",
      "text/plain": [
       "<matplotlib.figure.Figure at 0x7f7c8add3e48>"
      ]
     },
     "metadata": {},
     "output_type": "display_data"
    }
   ],
   "source": [
    "#http://scikit-learn.org/stable/modules/generated/sklearn.linear_model.LogisticRegression.html\n",
    "from sklearn.linear_model import LogisticRegression\n",
    "\n",
    "clf_lr = LogisticRegression(penalty='l2',\n",
    "                            dual=False, \n",
    "                            tol=0.0001, \n",
    "                            C=1.0, \n",
    "                            fit_intercept=True, \n",
    "                            intercept_scaling=1, \n",
    "                            class_weight=None, \n",
    "                            random_state=0, \n",
    "                            solver='liblinear', \n",
    "                            max_iter=100, \n",
    "                            multi_class='ovr', \n",
    "                            verbose=0, \n",
    "                            warm_start=False, \n",
    "                            n_jobs=-1).fit(X_traincv, y_traincv)\n",
    "\n",
    "roc_lr = clf_eval(clf_lr, X_testcv, y_testcv)"
   ]
  },
  {
   "cell_type": "code",
   "execution_count": 84,
   "metadata": {
    "collapsed": false,
    "deletable": true,
    "editable": true
   },
   "outputs": [
    {
     "name": "stdout",
     "output_type": "stream",
     "text": [
      "Classification Report\n",
      "                precision    recall  f1-score   support\n",
      "\n",
      "Não Sobreviveu       0.84      0.76      0.79       168\n",
      "    Sobreviveu       0.65      0.75      0.69       100\n",
      "\n",
      "   avg / total       0.77      0.75      0.76       268\n",
      "\n",
      "ROC Score: 0.7529761904761904\n",
      "Accuracy Score: 0.753731343283582\n",
      "Average Precision Score: 0.7449176531137417\n",
      "f1 Score: 0.6944444444444444\n",
      "Confusion matrix, without normalization\n",
      "[[127  41]\n",
      " [ 25  75]]\n"
     ]
    },
    {
     "data": {
      "image/png": "[encoded data removed]",
      "text/plain": [
       "<matplotlib.figure.Figure at 0x7f7c8a923b00>"
      ]
     },
     "metadata": {},
     "output_type": "display_data"
    }
   ],
   "source": [
    "#http://scikit-learn.org/stable/modules/naive_bayes.html\n",
    "#http://scikit-learn.org/stable/modules/generated/sklearn.naive_bayes.GaussianNB.html\n",
    "from sklearn.naive_bayes import GaussianNB\n",
    "\n",
    "clf_gnb = GaussianNB().fit(X_traincv, y_traincv)\n",
    "\n",
    "roc_gnb = clf_eval(clf_gnb, X_testcv, y_testcv)"
   ]
  },
  {
   "cell_type": "code",
   "execution_count": 85,
   "metadata": {
    "collapsed": false,
    "deletable": true,
    "editable": true
   },
   "outputs": [
    {
     "name": "stdout",
     "output_type": "stream",
     "text": [
      "Classification Report\n",
      "                precision    recall  f1-score   support\n",
      "\n",
      "Não Sobreviveu       0.80      0.79      0.79       168\n",
      "    Sobreviveu       0.65      0.66      0.66       100\n",
      "\n",
      "   avg / total       0.74      0.74      0.74       268\n",
      "\n",
      "ROC Score: 0.7258333333333333\n",
      "Accuracy Score: 0.7425373134328358\n",
      "Average Precision Score: 0.7201655090882223\n",
      "f1 Score: 0.6567164179104478\n",
      "Confusion matrix, without normalization\n",
      "[[133  35]\n",
      " [ 34  66]]\n"
     ]
    },
    {
     "data": {
      "image/png": "[encoded data removed]",
      "text/plain": [
       "<matplotlib.figure.Figure at 0x7f7c962f9748>"
      ]
     },
     "metadata": {},
     "output_type": "display_data"
    }
   ],
   "source": [
    "#http://scikit-learn.org/stable/modules/generated/sklearn.naive_bayes.BernoulliNB.html\n",
    "from sklearn.naive_bayes import BernoulliNB\n",
    "\n",
    "clf_bnb = BernoulliNB(alpha=1.0, \n",
    "                     binarize=0.0, \n",
    "                     fit_prior=True, \n",
    "                     class_prior=None).fit(X_traincv, y_traincv)\n",
    "\n",
    "roc_bnb = clf_eval(clf_bnb, X_testcv, y_testcv)"
   ]
  },
  {
   "cell_type": "code",
   "execution_count": 86,
   "metadata": {
    "collapsed": false,
    "deletable": true,
    "editable": true
   },
   "outputs": [
    {
     "name": "stdout",
     "output_type": "stream",
     "text": [
      "Classification Report\n",
      "                precision    recall  f1-score   support\n",
      "\n",
      "Não Sobreviveu       0.82      0.89      0.86       168\n",
      "    Sobreviveu       0.79      0.68      0.73       100\n",
      "\n",
      "   avg / total       0.81      0.81      0.81       268\n",
      "\n",
      "ROC Score: 0.7864285714285716\n",
      "Accuracy Score: 0.8134328358208955\n",
      "Average Precision Score: 0.7950503297466158\n",
      "f1 Score: 0.7311827956989247\n",
      "Confusion matrix, without normalization\n",
      "[[150  18]\n",
      " [ 32  68]]\n"
     ]
    },
    {
     "data": {
      "image/png": "[encoded data removed]",
      "text/plain": [
       "<matplotlib.figure.Figure at 0x7f7c962f9a90>"
      ]
     },
     "metadata": {},
     "output_type": "display_data"
    }
   ],
   "source": [
    "from sklearn.neighbors import KNeighborsClassifier\n",
    "\n",
    "clf_knn = KNeighborsClassifier(n_neighbors=5,\n",
    "                               weights='uniform', \n",
    "                               algorithm='auto', \n",
    "                               leaf_size=30, \n",
    "                               p=2, \n",
    "                               metric='minkowski', \n",
    "                               metric_params=None, \n",
    "                               n_jobs=1).fit(X_traincv, y_traincv)\n",
    "\n",
    "roc_knn = clf_eval(clf_knn, X_testcv, y_testcv)"
   ]
  },
  {
   "cell_type": "code",
   "execution_count": 87,
   "metadata": {
    "collapsed": false,
    "deletable": true,
    "editable": true
   },
   "outputs": [
    {
     "name": "stdout",
     "output_type": "stream",
     "text": [
      "Classification Report\n",
      "                precision    recall  f1-score   support\n",
      "\n",
      "Não Sobreviveu       0.80      0.92      0.86       168\n",
      "    Sobreviveu       0.82      0.62      0.70       100\n",
      "\n",
      "   avg / total       0.81      0.81      0.80       268\n",
      "\n",
      "ROC Score: 0.7683333333333334\n",
      "Accuracy Score: 0.8059701492537313\n",
      "Average Precision Score: 0.788790259230165\n",
      "f1 Score: 0.7045454545454546\n",
      "Confusion matrix, without normalization\n",
      "[[154  14]\n",
      " [ 38  62]]\n"
     ]
    },
    {
     "data": {
      "image/png": "[encoded data removed]",
      "text/plain": [
       "<matplotlib.figure.Figure at 0x7f7c90056f98>"
      ]
     },
     "metadata": {},
     "output_type": "display_data"
    }
   ],
   "source": [
    "from sklearn.ensemble import BaggingClassifier\n",
    "\n",
    "clf_bgc = BaggingClassifier().fit(X_traincv, y_traincv)\n",
    "\n",
    "roc_bgc = clf_eval(clf_bgc, X_testcv, y_testcv)"
   ]
  },
  {
   "cell_type": "markdown",
   "metadata": {
    "deletable": true,
    "editable": true
   },
   "source": [
    "#### Keras (with TensorFlow / Theano backends)"
   ]
  },
  {
   "cell_type": "code",
   "execution_count": 88,
   "metadata": {
    "collapsed": false,
    "deletable": true,
    "editable": true,
    "scrolled": true
   },
   "outputs": [
    {
     "name": "stderr",
     "output_type": "stream",
     "text": [
      "Using TensorFlow backend.\n"
     ]
    },
    {
     "name": "stdout",
     "output_type": "stream",
     "text": [
      "Keras using tensorflow backend\n",
      "623 train samples\n",
      "268 test samples\n",
      "_________________________________________________________________\n",
      "Layer (type)                 Output Shape              Param #   \n",
      "=================================================================\n",
      "dense_1 (Dense)              (None, 200)               2400      \n",
      "_________________________________________________________________\n",
      "dropout_1 (Dropout)          (None, 200)               0         \n",
      "_________________________________________________________________\n",
      "dense_2 (Dense)              (None, 200)               40200     \n",
      "_________________________________________________________________\n",
      "dropout_2 (Dropout)          (None, 200)               0         \n",
      "_________________________________________________________________\n",
      "dense_3 (Dense)              (None, 24)                4824      \n",
      "_________________________________________________________________\n",
      "dropout_3 (Dropout)          (None, 24)                0         \n",
      "_________________________________________________________________\n",
      "dense_4 (Dense)              (None, 1)                 25        \n",
      "=================================================================\n",
      "Total params: 47,449.0\n",
      "Trainable params: 47,449.0\n",
      "Non-trainable params: 0.0\n",
      "_________________________________________________________________\n"
     ]
    },
    {
     "name": "stderr",
     "output_type": "stream",
     "text": [
      "/usr/local/lib/python3.5/dist-packages/ipykernel_launcher.py:31: UserWarning: Update your `Dense` call to the Keras 2 API: `Dense(input_dim=11, activation=\"relu\", units=200)`\n",
      "/usr/local/lib/python3.5/dist-packages/ipykernel_launcher.py:33: UserWarning: Update your `Dense` call to the Keras 2 API: `Dense(input_dim=200, activation=\"relu\", units=200)`\n",
      "/usr/local/lib/python3.5/dist-packages/ipykernel_launcher.py:35: UserWarning: Update your `Dense` call to the Keras 2 API: `Dense(input_dim=200, activation=\"relu\", units=24)`\n",
      "/usr/local/lib/python3.5/dist-packages/ipykernel_launcher.py:37: UserWarning: Update your `Dense` call to the Keras 2 API: `Dense(input_dim=24, activation=\"sigmoid\", units=1)`\n"
     ]
    },
    {
     "name": "stdout",
     "output_type": "stream",
     "text": [
      "Train on 623 samples, validate on 268 samples\n",
      "Epoch 1/10\n",
      "623/623 [==============================] - 0s - loss: 0.6105 - acc: 0.6950 - val_loss: 0.4807 - val_acc: 0.7910\b\b\b\b\b\b\b\b\b\b\b\b\b\b\b\b\b\b\b\b\b\b\b\b\b\b\b\b\b\b\b\b\b\b\b\b\b\b\b\b\b\b\b\b\b\b\b\n",
      "Epoch 2/10\n",
      "623/623 [==============================] - 0s - loss: 0.4760 - acc: 0.8106 - val_loss: 0.4351 - val_acc: 0.8172\b\b\b\b\b\b\b\b\b\b\b\b\b\b\b\b\b\b\b\b\b\b\b\b\b\b\b\b\b\b\b\b\b\b\b\b\b\b\b\b\b\b\b\b\b\b\b\n",
      "Epoch 3/10\n",
      "623/623 [==============================] - 0s - loss: 0.4579 - acc: 0.8090 - val_loss: 0.4306 - val_acc: 0.8172\b\b\b\b\b\b\b\b\b\b\b\b\b\b\b\b\b\b\b\b\b\b\b\b\b\b\b\b\b\b\b\b\b\b\b\b\b\b\b\b\b\b\b\b\b\b\b\n",
      "Epoch 4/10\n",
      "623/623 [==============================] - 0s - loss: 0.4436 - acc: 0.8202 - val_loss: 0.4263 - val_acc: 0.8209\b\b\b\b\b\b\b\b\b\b\b\b\b\b\b\b\b\b\b\b\b\b\b\b\b\b\b\b\b\b\b\b\b\b\b\b\b\b\b\b\b\b\b\b\b\b\b\n",
      "Epoch 5/10\n",
      "623/623 [==============================] - 0s - loss: 0.4296 - acc: 0.8170 - val_loss: 0.4273 - val_acc: 0.8209\b\b\b\b\b\b\b\b\b\b\b\b\b\b\b\b\b\b\b\b\b\b\b\b\b\b\b\b\b\b\b\b\b\b\b\b\b\b\b\b\b\b\b\b\b\b\b\n",
      "Epoch 6/10\n",
      "623/623 [==============================] - 0s - loss: 0.4212 - acc: 0.8202 - val_loss: 0.4252 - val_acc: 0.8134\b\b\b\b\b\b\b\b\b\b\b\b\b\b\b\b\b\b\b\b\b\b\b\b\b\b\b\b\b\b\b\b\b\b\b\b\b\b\b\b\b\b\b\b\b\b\b\n",
      "Epoch 7/10\n",
      "623/623 [==============================] - 0s - loss: 0.4183 - acc: 0.8250 - val_loss: 0.4324 - val_acc: 0.8172\b\b\b\b\b\b\b\b\b\b\b\b\b\b\b\b\b\b\b\b\b\b\b\b\b\b\b\b\b\b\b\b\b\b\b\b\b\b\b\b\b\b\b\b\b\b\b\n",
      "Epoch 8/10\n",
      "623/623 [==============================] - 0s - loss: 0.4029 - acc: 0.8347 - val_loss: 0.4271 - val_acc: 0.8209\b\b\b\b\b\b\b\b\b\b\b\b\b\b\b\b\b\b\b\b\b\b\b\b\b\b\b\b\b\b\b\b\b\b\b\b\b\b\b\b\b\b\b\b\b\b\b\n",
      "Epoch 9/10\n",
      "623/623 [==============================] - 0s - loss: 0.4108 - acc: 0.8283 - val_loss: 0.4336 - val_acc: 0.8284\b\b\b\b\b\b\b\b\b\b\b\b\b\b\b\b\b\b\b\b\b\b\b\b\b\b\b\b\b\b\b\b\b\b\b\b\b\b\b\b\b\b\b\b\b\b\b\n",
      "Epoch 10/10\n",
      "623/623 [==============================] - 0s - loss: 0.4116 - acc: 0.8234 - val_loss: 0.4316 - val_acc: 0.8134\b\b\b\b\b\b\b\b\b\b\b\b\b\b\b\b\b\b\b\b\b\b\b\b\b\b\b\b\b\b\b\b\b\b\b\b\b\b\b\b\b\b\b\b\b\b\b\n",
      "Test loss: 0.431603350746\n",
      "Test accuracy: 0.813432834931\n",
      " 32/268 [==>...........................] - ETA: 0sClassification Report\n",
      "                precision    recall  f1-score   support\n",
      "\n",
      "Não Sobreviveu       0.82      0.89      0.86       168\n",
      "    Sobreviveu       0.79      0.68      0.73       100\n",
      "\n",
      "   avg / total       0.81      0.81      0.81       268\n",
      "\n",
      "ROC Score: 0.7864285714285716\n",
      "Accuracy Score: 0.8134328358208955\n",
      "Average Precision Score: 0.7950503297466158\n",
      "f1 Score: 0.7311827956989247\n",
      "Confusion matrix, without normalization\n",
      "[[150  18]\n",
      " [ 32  68]]\n"
     ]
    },
    {
     "data": {
      "image/png": "[encoded data removed]",
      "text/plain": [
       "<matplotlib.figure.Figure at 0x7f7c73bad240>"
      ]
     },
     "metadata": {},
     "output_type": "display_data"
    }
   ],
   "source": [
    "# https://elitedatascience.com/keras-tutorial-deep-learning-in-python\n",
    "# http://machinelearningmastery.com/tutorial-first-neural-network-python-keras/\n",
    "# https://www.kaggle.com/cstahl12/titanic/titanic-with-keras\n",
    "\n",
    "import keras\n",
    "from keras.models import Sequential\n",
    "from keras.layers import Dense, Dropout, Activation\n",
    "from keras.optimizers import SGD, RMSprop\n",
    "from keras.utils.np_utils import to_categorical\n",
    "\n",
    "print('Keras using {} backend'.format(keras.backend.backend()))  #https://keras.io/backend/\n",
    "\n",
    "batch_size = 128\n",
    "num_classes = 2\n",
    "epochs = 20\n",
    "\n",
    "x_train_kr = X_traincv.astype('float32') \n",
    "x_test_kr = X_testcv.astype('float32')\n",
    "\n",
    "print(x_train_kr.shape[0], 'train samples')\n",
    "print(x_test_kr.shape[0], 'test samples')\n",
    "\n",
    "y_train_kr = y_traincv\n",
    "y_test_kr = y_testcv\n",
    "\n",
    "# convert class vectors to binary class matrices for categorical cross_entropy\n",
    "#y_train_kr = to_categorical(y_traincv)\n",
    "#y_test_kr = to_categorical(y_testcv)\n",
    "\n",
    "model = Sequential()\n",
    "model.add(Dense(input_dim=x_train_kr.shape[1], activation='relu', output_dim=200))\n",
    "model.add(Dropout(0.2))\n",
    "model.add(Dense(input_dim=200, activation='relu', output_dim=200))\n",
    "model.add(Dropout(0.2))\n",
    "model.add(Dense(input_dim=200, activation='relu', output_dim=24)) #activation='softmax'\n",
    "model.add(Dropout(0.2))\n",
    "model.add(Dense(input_dim=24,  activation='sigmoid', output_dim=1)) #kernel_initializer='uniform',\n",
    "model.summary()\n",
    "\n",
    "\n",
    "model.compile(loss='binary_crossentropy',\n",
    "              #loss='categorical_crossentropy',\n",
    "              #loss='mean_squared_error',\n",
    "              optimizer=RMSprop(), \n",
    "              #optimizer=SGD(lr=0.001),\n",
    "              metrics=['accuracy'])\n",
    "\n",
    "history = model.fit(x_train_kr, y_train_kr,\n",
    "                    batch_size=batch_size,\n",
    "                    #epochs=epochs,\n",
    "                    verbose=1,\n",
    "                    validation_data=(x_test_kr, y_test_kr))\n",
    "\n",
    "score = model.evaluate(x_test_kr, y_test_kr, verbose=0)\n",
    "print('Test loss:', score[0])\n",
    "print('Test accuracy:', score[1])\n",
    "\n",
    "\n",
    "y_pred = model.predict_classes(x_test_kr) #y_pred = np.around(model.predict(x_test_kr)[:,1])\n",
    "#y_test_kr = y_test_kr[:,1] #for categorical cross_entropy\n",
    "clf_matrix = confusion_matrix(y_test_kr, y_pred)\n",
    "print('Classification Report')\n",
    "print(classification_report(y_test_kr, y_pred, target_names=['Não Sobreviveu', 'Sobreviveu']))\n",
    "print('ROC Score: {}'.format(roc_auc_score(y_test_kr, y_pred)))\n",
    "print('Accuracy Score: {}'.format(accuracy_score(y_test_kr, y_pred)))\n",
    "print('Average Precision Score: {}'.format(average_precision_score(y_test_kr, y_pred)))\n",
    "print('f1 Score: {}'.format(f1_score(y_test_kr, y_pred)))\n",
    "plot_confusion_matrix(clf_matrix, classes=['Não Sobreviveu', 'Sobreviveu'])\n",
    "roc_keras = roc_auc_score(y_test_kr, y_pred)"
   ]
  },
  {
   "cell_type": "markdown",
   "metadata": {
    "deletable": true,
    "editable": true
   },
   "source": [
    "#### Theano Neural Networks (with Lasagne and Nolearn)"
   ]
  },
  {
   "cell_type": "code",
   "execution_count": 89,
   "metadata": {
    "collapsed": false,
    "deletable": true,
    "editable": true,
    "scrolled": true
   },
   "outputs": [
    {
     "name": "stdout",
     "output_type": "stream",
     "text": [
      "# Neural Network with 43002 learnable parameters\n",
      "\n",
      "## Layer information\n",
      "\n",
      "  #  name        size\n",
      "---  --------  ------\n",
      "  0  input         11\n",
      "  1  dense0       200\n",
      "  2  dropout1     200\n",
      "  3  dense1       200\n",
      "  4  output         2\n",
      "\n",
      "  epoch    trn loss    val loss    trn/val    valid acc  dur\n",
      "-------  ----------  ----------  ---------  -----------  -----\n",
      "      1     \u001b[36m0.68094\u001b[0m     \u001b[32m0.67483\u001b[0m    1.00905      0.61111  0.01s\n",
      "      2     \u001b[36m0.66242\u001b[0m     \u001b[32m0.65330\u001b[0m    1.01396      0.63492  0.02s\n",
      "      3     \u001b[36m0.64105\u001b[0m     \u001b[32m0.63572\u001b[0m    1.00839      0.69841  0.01s\n",
      "      4     \u001b[36m0.61571\u001b[0m     \u001b[32m0.62091\u001b[0m    0.99162      0.72222  0.02s\n",
      "      5     \u001b[36m0.61240\u001b[0m     \u001b[32m0.60795\u001b[0m    1.00733      0.73016  0.02s\n",
      "      6     \u001b[36m0.59508\u001b[0m     \u001b[32m0.59640\u001b[0m    0.99779      0.72222  0.01s\n",
      "      7     \u001b[36m0.58198\u001b[0m     \u001b[32m0.58599\u001b[0m    0.99315      0.71429  0.01s\n",
      "      8     \u001b[36m0.58002\u001b[0m     \u001b[32m0.57627\u001b[0m    1.00652      0.72222  0.01s\n",
      "      9     \u001b[36m0.56655\u001b[0m     \u001b[32m0.56735\u001b[0m    0.99860      0.73810  0.01s\n",
      "     10     \u001b[36m0.55894\u001b[0m     \u001b[32m0.55905\u001b[0m    0.99980      0.74603  0.01s\n",
      "     11     \u001b[36m0.54860\u001b[0m     \u001b[32m0.55153\u001b[0m    0.99470      0.75397  0.02s\n",
      "     12     \u001b[36m0.53742\u001b[0m     \u001b[32m0.54506\u001b[0m    0.98598      0.75397  0.01s\n",
      "     13     \u001b[36m0.53568\u001b[0m     \u001b[32m0.53861\u001b[0m    0.99455      0.76190  0.02s\n",
      "     14     \u001b[36m0.53023\u001b[0m     \u001b[32m0.53261\u001b[0m    0.99552      0.77778  0.01s\n",
      "     15     \u001b[36m0.51821\u001b[0m     \u001b[32m0.52682\u001b[0m    0.98365      0.76984  0.01s\n",
      "     16     \u001b[36m0.51739\u001b[0m     \u001b[32m0.52146\u001b[0m    0.99220      0.76984  0.01s\n",
      "     17     \u001b[36m0.50959\u001b[0m     \u001b[32m0.51643\u001b[0m    0.98674      0.76984  0.02s\n",
      "     18     \u001b[36m0.50733\u001b[0m     \u001b[32m0.51196\u001b[0m    0.99095      0.79365  0.01s\n",
      "     19     \u001b[36m0.49499\u001b[0m     \u001b[32m0.50764\u001b[0m    0.97509      0.81746  0.02s\n",
      "     20     \u001b[36m0.49208\u001b[0m     \u001b[32m0.50359\u001b[0m    0.97714      0.83333  0.01s\n",
      "     21     \u001b[36m0.49040\u001b[0m     \u001b[32m0.50005\u001b[0m    0.98070      0.83333  0.01s\n",
      "     22     \u001b[36m0.48625\u001b[0m     \u001b[32m0.49662\u001b[0m    0.97912      0.83333  0.01s\n",
      "     23     \u001b[36m0.48113\u001b[0m     \u001b[32m0.49312\u001b[0m    0.97569      0.84127  0.01s\n",
      "     24     \u001b[36m0.47590\u001b[0m     \u001b[32m0.48976\u001b[0m    0.97170      0.84921  0.01s\n",
      "     25     0.48185     \u001b[32m0.48644\u001b[0m    0.99056      0.84921  0.02s\n",
      "     26     \u001b[36m0.46871\u001b[0m     \u001b[32m0.48365\u001b[0m    0.96911      0.84921  0.01s\n",
      "     27     0.47232     \u001b[32m0.48086\u001b[0m    0.98224      0.85714  0.01s\n",
      "     28     0.47106     \u001b[32m0.47828\u001b[0m    0.98490      0.84921  0.01s\n",
      "     29     \u001b[36m0.46116\u001b[0m     \u001b[32m0.47574\u001b[0m    0.96935      0.84921  0.01s\n",
      "     30     \u001b[36m0.46049\u001b[0m     \u001b[32m0.47355\u001b[0m    0.97241      0.84921  0.01s\n",
      "     31     0.46627     \u001b[32m0.47157\u001b[0m    0.98876      0.84921  0.01s\n",
      "     32     \u001b[36m0.45715\u001b[0m     \u001b[32m0.46954\u001b[0m    0.97362      0.84921  0.01s\n",
      "     33     \u001b[36m0.45146\u001b[0m     \u001b[32m0.46751\u001b[0m    0.96567      0.84921  0.01s\n",
      "     34     0.45275     \u001b[32m0.46573\u001b[0m    0.97214      0.84921  0.01s\n",
      "     35     0.45314     \u001b[32m0.46399\u001b[0m    0.97660      0.84127  0.01s\n",
      "     36     \u001b[36m0.43843\u001b[0m     \u001b[32m0.46254\u001b[0m    0.94788      0.84127  0.01s\n",
      "     37     0.45109     \u001b[32m0.46082\u001b[0m    0.97889      0.84127  0.01s\n",
      "     38     0.44716     \u001b[32m0.45943\u001b[0m    0.97329      0.81746  0.01s\n",
      "     39     0.44883     \u001b[32m0.45836\u001b[0m    0.97920      0.81746  0.02s\n",
      "     40     0.44243     \u001b[32m0.45687\u001b[0m    0.96839      0.81746  0.01s\n",
      "     41     0.44054     \u001b[32m0.45537\u001b[0m    0.96742      0.80952  0.02s\n",
      "     42     \u001b[36m0.43093\u001b[0m     \u001b[32m0.45428\u001b[0m    0.94860      0.80952  0.02s\n",
      "     43     0.43592     \u001b[32m0.45329\u001b[0m    0.96167      0.80159  0.01s\n",
      "     44     \u001b[36m0.42571\u001b[0m     \u001b[32m0.45214\u001b[0m    0.94154      0.80952  0.02s\n",
      "     45     0.43068     \u001b[32m0.45091\u001b[0m    0.95514      0.80952  0.01s\n",
      "     46     \u001b[36m0.42263\u001b[0m     \u001b[32m0.44991\u001b[0m    0.93937      0.80952  0.01s\n",
      "     47     0.42960     \u001b[32m0.44864\u001b[0m    0.95756      0.80952  0.02s\n",
      "     48     0.43130     \u001b[32m0.44773\u001b[0m    0.96330      0.80952  0.02s\n",
      "     49     0.42912     \u001b[32m0.44671\u001b[0m    0.96062      0.80952  0.01s\n",
      "     50     0.43265     \u001b[32m0.44563\u001b[0m    0.97086      0.80952  0.02s\n",
      "     51     0.42486     \u001b[32m0.44484\u001b[0m    0.95510      0.80952  0.01s\n",
      "     52     0.42782     \u001b[32m0.44367\u001b[0m    0.96428      0.81746  0.02s\n",
      "     53     0.43407     \u001b[32m0.44295\u001b[0m    0.97996      0.80952  0.01s\n",
      "     54     \u001b[36m0.42024\u001b[0m     \u001b[32m0.44241\u001b[0m    0.94990      0.80952  0.01s\n",
      "     55     \u001b[36m0.41996\u001b[0m     \u001b[32m0.44170\u001b[0m    0.95079      0.80952  0.02s\n",
      "     56     0.42418     \u001b[32m0.44076\u001b[0m    0.96237      0.80159  0.01s\n",
      "     57     0.42844     \u001b[32m0.44022\u001b[0m    0.97324      0.80159  0.01s\n",
      "     58     0.42512     \u001b[32m0.43949\u001b[0m    0.96730      0.80159  0.01s\n",
      "     59     0.42166     \u001b[32m0.43887\u001b[0m    0.96078      0.80159  0.01s\n",
      "     60     \u001b[36m0.41668\u001b[0m     \u001b[32m0.43840\u001b[0m    0.95047      0.80159  0.01s\n",
      "     61     0.41765     \u001b[32m0.43812\u001b[0m    0.95328      0.80952  0.01s\n",
      "     62     0.42027     \u001b[32m0.43753\u001b[0m    0.96056      0.80952  0.01s\n",
      "     63     0.41977     \u001b[32m0.43661\u001b[0m    0.96143      0.80952  0.01s\n",
      "     64     \u001b[36m0.41477\u001b[0m     \u001b[32m0.43623\u001b[0m    0.95080      0.80952  0.01s\n",
      "     65     \u001b[36m0.41291\u001b[0m     \u001b[32m0.43584\u001b[0m    0.94738      0.80159  0.01s\n",
      "     66     0.41939     \u001b[32m0.43537\u001b[0m    0.96328      0.80952  0.01s\n",
      "     67     0.41837     \u001b[32m0.43501\u001b[0m    0.96175      0.80952  0.01s\n",
      "     68     0.41553     \u001b[32m0.43428\u001b[0m    0.95683      0.80952  0.02s\n",
      "     69     0.41527     \u001b[32m0.43359\u001b[0m    0.95774      0.80952  0.01s\n",
      "     70     0.42043     \u001b[32m0.43297\u001b[0m    0.97103      0.80952  0.01s\n",
      "     71     0.42179     \u001b[32m0.43244\u001b[0m    0.97536      0.80952  0.02s\n",
      "     72     0.41341     \u001b[32m0.43164\u001b[0m    0.95775      0.80952  0.01s\n",
      "     73     \u001b[36m0.41212\u001b[0m     \u001b[32m0.43084\u001b[0m    0.95655      0.80159  0.01s\n",
      "     74     0.41412     \u001b[32m0.43056\u001b[0m    0.96181      0.80159  0.01s\n",
      "     75     \u001b[36m0.41167\u001b[0m     \u001b[32m0.43003\u001b[0m    0.95730      0.80159  0.01s\n",
      "     76     0.41671     \u001b[32m0.42961\u001b[0m    0.96997      0.80159  0.01s\n",
      "     77     0.41920     \u001b[32m0.42933\u001b[0m    0.97640      0.80159  0.01s\n",
      "     78     \u001b[36m0.41097\u001b[0m     \u001b[32m0.42894\u001b[0m    0.95811      0.80159  0.01s\n",
      "     79     0.41614     \u001b[32m0.42848\u001b[0m    0.97119      0.80159  0.02s\n",
      "     80     0.41773     \u001b[32m0.42818\u001b[0m    0.97558      0.80159  0.01s\n",
      "     81     0.41856     \u001b[32m0.42767\u001b[0m    0.97871      0.80159  0.01s\n",
      "     82     0.41122     \u001b[32m0.42711\u001b[0m    0.96279      0.80159  0.02s\n",
      "     83     0.41325     \u001b[32m0.42630\u001b[0m    0.96939      0.81746  0.02s\n",
      "     84     0.41196     \u001b[32m0.42603\u001b[0m    0.96698      0.80952  0.01s\n",
      "     85     0.41171     \u001b[32m0.42577\u001b[0m    0.96698      0.80159  0.02s\n",
      "     86     0.41385     \u001b[32m0.42554\u001b[0m    0.97254      0.81746  0.01s\n",
      "     87     \u001b[36m0.41081\u001b[0m     \u001b[32m0.42516\u001b[0m    0.96625      0.81746  0.01s\n",
      "     88     0.41858     \u001b[32m0.42448\u001b[0m    0.98609      0.81746  0.01s\n",
      "     89     0.41558     \u001b[32m0.42434\u001b[0m    0.97935      0.81746  0.01s\n",
      "     90     0.41163     \u001b[32m0.42370\u001b[0m    0.97151      0.81746  0.01s\n",
      "     91     0.41441     \u001b[32m0.42315\u001b[0m    0.97934      0.81746  0.01s\n",
      "     92     0.41506     \u001b[32m0.42277\u001b[0m    0.98177      0.81746  0.01s\n",
      "     93     \u001b[36m0.40777\u001b[0m     \u001b[32m0.42269\u001b[0m    0.96472      0.81746  0.01s\n",
      "     94     0.41389     \u001b[32m0.42260\u001b[0m    0.97937      0.81746  0.01s\n",
      "     95     \u001b[36m0.40367\u001b[0m     \u001b[32m0.42213\u001b[0m    0.95626      0.81746  0.01s\n",
      "     96     0.40788     \u001b[32m0.42202\u001b[0m    0.96649      0.81746  0.01s\n",
      "     97     \u001b[36m0.40324\u001b[0m     \u001b[32m0.42163\u001b[0m    0.95639      0.81746  0.01s\n",
      "     98     0.40587     \u001b[32m0.42144\u001b[0m    0.96306      0.81746  0.01s\n",
      "     99     0.40847     \u001b[32m0.42087\u001b[0m    0.97055      0.81746  0.01s\n",
      "    100     \u001b[36m0.40192\u001b[0m     \u001b[32m0.42062\u001b[0m    0.95554      0.81746  0.01s\n",
      "    101     0.40881     \u001b[32m0.42006\u001b[0m    0.97321      0.81746  0.01s\n",
      "    102     0.41497     \u001b[32m0.41979\u001b[0m    0.98852      0.81746  0.01s\n",
      "    103     0.40779     \u001b[32m0.41932\u001b[0m    0.97250      0.81746  0.01s\n",
      "    104     \u001b[36m0.40110\u001b[0m     \u001b[32m0.41901\u001b[0m    0.95728      0.81746  0.01s\n",
      "    105     0.40942     \u001b[32m0.41870\u001b[0m    0.97784      0.81746  0.01s\n",
      "    106     0.41868     \u001b[32m0.41842\u001b[0m    1.00061      0.81746  0.01s\n",
      "    107     0.40293     \u001b[32m0.41812\u001b[0m    0.96367      0.81746  0.02s\n",
      "    108     0.40493     \u001b[32m0.41808\u001b[0m    0.96854      0.81746  0.01s\n",
      "    109     0.41217     \u001b[32m0.41771\u001b[0m    0.98674      0.81746  0.01s\n",
      "    110     0.40735     \u001b[32m0.41719\u001b[0m    0.97641      0.81746  0.01s\n",
      "    111     0.41710     0.41728    0.99958      0.81746  0.01s\n",
      "    112     0.41165     \u001b[32m0.41713\u001b[0m    0.98686      0.82540  0.02s\n",
      "    113     0.40846     \u001b[32m0.41644\u001b[0m    0.98083      0.81746  0.01s\n",
      "    114     0.40485     \u001b[32m0.41630\u001b[0m    0.97250      0.81746  0.01s\n",
      "    115     0.41423     \u001b[32m0.41616\u001b[0m    0.99537      0.82540  0.02s\n",
      "    116     0.41104     \u001b[32m0.41588\u001b[0m    0.98837      0.82540  0.02s\n",
      "    117     0.40362     \u001b[32m0.41555\u001b[0m    0.97131      0.81746  0.02s\n",
      "    118     \u001b[36m0.40076\u001b[0m     \u001b[32m0.41511\u001b[0m    0.96545      0.81746  0.02s\n",
      "    119     \u001b[36m0.39653\u001b[0m     \u001b[32m0.41507\u001b[0m    0.95533      0.81746  0.02s\n",
      "    120     0.40141     \u001b[32m0.41476\u001b[0m    0.96782      0.81746  0.02s\n",
      "    121     0.40413     \u001b[32m0.41437\u001b[0m    0.97529      0.81746  0.02s\n",
      "    122     0.40320     0.41438    0.97301      0.81746  0.02s\n",
      "    123     0.40774     \u001b[32m0.41406\u001b[0m    0.98474      0.81746  0.02s\n",
      "    124     \u001b[36m0.39513\u001b[0m     \u001b[32m0.41397\u001b[0m    0.95447      0.82540  0.02s\n",
      "    125     0.40832     \u001b[32m0.41347\u001b[0m    0.98755      0.82540  0.02s\n",
      "    126     0.40685     \u001b[32m0.41326\u001b[0m    0.98448      0.81746  0.02s\n",
      "    127     0.40268     \u001b[32m0.41293\u001b[0m    0.97518      0.81746  0.02s\n",
      "    128     \u001b[36m0.39395\u001b[0m     \u001b[32m0.41238\u001b[0m    0.95531      0.81746  0.02s\n",
      "    129     0.40083     \u001b[32m0.41198\u001b[0m    0.97293      0.81746  0.02s\n",
      "    130     0.39945     \u001b[32m0.41170\u001b[0m    0.97025      0.81746  0.02s\n",
      "    131     0.39935     \u001b[32m0.41152\u001b[0m    0.97044      0.81746  0.01s\n",
      "    132     \u001b[36m0.39245\u001b[0m     0.41158    0.95350      0.81746  0.01s\n",
      "    133     \u001b[36m0.38888\u001b[0m     \u001b[32m0.41150\u001b[0m    0.94502      0.81746  0.01s\n",
      "    134     0.40433     \u001b[32m0.41115\u001b[0m    0.98342      0.81746  0.01s\n",
      "    135     0.39517     \u001b[32m0.41089\u001b[0m    0.96173      0.81746  0.01s\n",
      "    136     0.39374     \u001b[32m0.41043\u001b[0m    0.95933      0.82540  0.01s\n",
      "    137     0.39815     \u001b[32m0.41016\u001b[0m    0.97072      0.82540  0.01s\n",
      "    138     0.40740     \u001b[32m0.40972\u001b[0m    0.99433      0.82540  0.01s\n",
      "    139     0.39576     \u001b[32m0.40940\u001b[0m    0.96667      0.82540  0.01s\n",
      "    140     0.40223     \u001b[32m0.40916\u001b[0m    0.98305      0.82540  0.01s\n",
      "    141     0.41005     \u001b[32m0.40899\u001b[0m    1.00259      0.82540  0.01s\n",
      "    142     0.39977     \u001b[32m0.40855\u001b[0m    0.97849      0.82540  0.02s\n",
      "    143     0.39090     \u001b[32m0.40839\u001b[0m    0.95719      0.82540  0.01s\n",
      "    144     0.40356     \u001b[32m0.40830\u001b[0m    0.98840      0.82540  0.01s\n",
      "    145     0.40000     \u001b[32m0.40800\u001b[0m    0.98038      0.82540  0.01s\n",
      "    146     0.39910     0.40817    0.97778      0.82540  0.01s\n",
      "    147     0.39247     \u001b[32m0.40799\u001b[0m    0.96197      0.82540  0.01s\n",
      "    148     0.40349     0.40802    0.98891      0.82540  0.01s\n",
      "    149     0.39806     \u001b[32m0.40764\u001b[0m    0.97650      0.82540  0.01s\n",
      "    150     0.40393     0.40765    0.99087      0.82540  0.01s\n",
      "    151     0.39639     \u001b[32m0.40749\u001b[0m    0.97276      0.82540  0.01s\n",
      "    152     0.39269     \u001b[32m0.40696\u001b[0m    0.96492      0.82540  0.01s\n",
      "    153     0.40596     \u001b[32m0.40682\u001b[0m    0.99788      0.82540  0.01s\n",
      "    154     0.39270     \u001b[32m0.40648\u001b[0m    0.96610      0.82540  0.01s\n",
      "    155     0.39633     0.40664    0.97464      0.82540  0.01s\n",
      "    156     0.39567     \u001b[32m0.40641\u001b[0m    0.97356      0.82540  0.01s\n",
      "    157     0.39849     0.40643    0.98046      0.82540  0.01s\n",
      "    158     0.39218     \u001b[32m0.40579\u001b[0m    0.96645      0.82540  0.01s\n",
      "    159     0.39242     \u001b[32m0.40540\u001b[0m    0.96798      0.82540  0.01s\n",
      "    160     \u001b[36m0.38696\u001b[0m     \u001b[32m0.40514\u001b[0m    0.95511      0.82540  0.01s\n",
      "    161     0.39403     \u001b[32m0.40480\u001b[0m    0.97339      0.82540  0.01s\n",
      "    162     0.40017     \u001b[32m0.40477\u001b[0m    0.98864      0.82540  0.01s\n",
      "    163     0.39912     0.40489    0.98575      0.82540  0.01s\n",
      "    164     0.39753     0.40484    0.98194      0.82540  0.01s\n",
      "    165     0.39266     \u001b[32m0.40462\u001b[0m    0.97045      0.82540  0.01s\n",
      "    166     0.39538     \u001b[32m0.40437\u001b[0m    0.97777      0.82540  0.01s\n",
      "    167     0.39842     \u001b[32m0.40416\u001b[0m    0.98581      0.82540  0.01s\n",
      "    168     0.39195     \u001b[32m0.40402\u001b[0m    0.97014      0.82540  0.01s\n",
      "    169     0.39313     0.40411    0.97283      0.82540  0.02s\n",
      "    170     0.39171     0.40410    0.96933      0.82540  0.02s\n",
      "    171     0.39304     \u001b[32m0.40390\u001b[0m    0.97311      0.82540  0.02s\n",
      "    172     0.39835     \u001b[32m0.40382\u001b[0m    0.98645      0.82540  0.02s\n",
      "    173     0.39946     \u001b[32m0.40353\u001b[0m    0.98993      0.82540  0.02s\n",
      "    174     0.39671     \u001b[32m0.40319\u001b[0m    0.98393      0.82540  0.02s\n",
      "    175     0.40128     \u001b[32m0.40306\u001b[0m    0.99558      0.82540  0.02s\n",
      "    176     0.40004     0.40312    0.99236      0.82540  0.02s\n",
      "    177     0.38887     \u001b[32m0.40296\u001b[0m    0.96503      0.82540  0.02s\n",
      "    178     0.39194     \u001b[32m0.40257\u001b[0m    0.97360      0.82540  0.02s\n",
      "    179     0.39052     \u001b[32m0.40254\u001b[0m    0.97013      0.82540  0.02s\n",
      "    180     0.39013     \u001b[32m0.40238\u001b[0m    0.96955      0.82540  0.02s\n",
      "    181     0.38993     \u001b[32m0.40222\u001b[0m    0.96947      0.82540  0.02s\n",
      "    182     0.39198     0.40223    0.97452      0.82540  0.02s\n",
      "    183     0.39844     0.40225    0.99054      0.82540  0.02s\n",
      "    184     0.40072     \u001b[32m0.40213\u001b[0m    0.99649      0.82540  0.02s\n",
      "    185     0.40093     0.40213    0.99701      0.82540  0.02s\n",
      "    186     0.39105     \u001b[32m0.40173\u001b[0m    0.97343      0.82540  0.02s\n",
      "    187     0.39747     0.40199    0.98873      0.82540  0.02s\n",
      "    188     0.39448     \u001b[32m0.40173\u001b[0m    0.98196      0.82540  0.02s\n",
      "    189     0.39622     \u001b[32m0.40135\u001b[0m    0.98723      0.82540  0.02s\n",
      "    190     0.39224     \u001b[32m0.40099\u001b[0m    0.97817      0.82540  0.02s\n",
      "    191     0.39073     \u001b[32m0.40084\u001b[0m    0.97479      0.82540  0.02s\n",
      "    192     0.39116     \u001b[32m0.40055\u001b[0m    0.97656      0.82540  0.02s\n",
      "    193     0.39958     \u001b[32m0.40040\u001b[0m    0.99795      0.82540  0.02s\n",
      "    194     0.39489     \u001b[32m0.40020\u001b[0m    0.98673      0.82540  0.02s\n",
      "    195     0.38813     0.40027    0.96968      0.82540  0.02s\n",
      "    196     \u001b[36m0.38204\u001b[0m     \u001b[32m0.39998\u001b[0m    0.95516      0.82540  0.02s\n",
      "    197     0.39195     0.40004    0.97978      0.82540  0.01s\n",
      "    198     0.38908     0.40012    0.97242      0.82540  0.01s\n",
      "    199     \u001b[36m0.38087\u001b[0m     \u001b[32m0.39992\u001b[0m    0.95238      0.82540  0.01s\n",
      "    200     0.39063     \u001b[32m0.39982\u001b[0m    0.97702      0.82540  0.01s\n",
      "Classification Report\n",
      "                precision    recall  f1-score   support\n",
      "\n",
      "Não Sobreviveu       0.84      0.89      0.87       168\n",
      "    Sobreviveu       0.80      0.72      0.76       100\n",
      "\n",
      "   avg / total       0.83      0.83      0.83       268\n",
      "\n",
      "ROC Score: 0.8064285714285715\n",
      "Accuracy Score: 0.8283582089552238\n",
      "Average Precision Score: 0.8122388059701493\n",
      "f1 Score: 0.7578947368421052\n",
      "Confusion matrix, without normalization\n",
      "[[150  18]\n",
      " [ 28  72]]\n"
     ]
    },
    {
     "data": {
      "image/png": "[encoded data removed]",
      "text/plain": [
       "<matplotlib.figure.Figure at 0x7f7c600b4320>"
      ]
     },
     "metadata": {},
     "output_type": "display_data"
    }
   ],
   "source": [
    "#sudo -H pip3 install --upgrade theano nolearn\n",
    "#sudo -H pip3 install git+https://github.com/Lasagne/Lasagne.git\n",
    "\n",
    "#http://stackoverflow.com/questions/30034492/does-nolearn-lasagne-support-python-3\n",
    "#https://gist.github.com/dnouri/fe855653e9757e1ce8c4\n",
    "#https://github.com/dnouri/nolearn/issues/62\n",
    "\n",
    "#https://github.com/dnouri/nolearn/blob/master/nolearn/lasagne/base.py\n",
    "#https://github.com/Lasagne/Lasagne/blob/master/lasagne/objectives.py\n",
    "\n",
    "#http://nbviewer.ipython.org/github/ottogroup/kaggle/blob/master/Otto_Group_Competition.ipynb\n",
    "#http://danielnouri.org/notes/2014/12/17/using-convolutional-neural-nets-to-detect-facial-keypoints-tutorial/\n",
    "\n",
    "#https://github.com/IssamLaradji/NeuralNetworks/tree/master/multilayer_perceptron\n",
    "#https://github.com/fchollet/keras\n",
    "\n",
    "import lasagne\n",
    "import nolearn\n",
    "from nolearn.lasagne import NeuralNet, BatchIterator\n",
    "\n",
    "clf_lsgn_layers = [('input', lasagne.layers.InputLayer),\n",
    "                  #('input', lasagne.layers.InputLayer(shape=(None, X.shape[1])))\n",
    "                  #('dropout0', lasagne.layers.DropoutLayer),\n",
    "                  ('dense0', lasagne.layers.DenseLayer),\n",
    "                  ('dropout1', lasagne.layers.DropoutLayer),#\n",
    "                  ('dense1', lasagne.layers.DenseLayer),\n",
    "                  #('dropout2', lasagne.layers.DropoutLayer),#\n",
    "                  ('output', lasagne.layers.DenseLayer)]\n",
    "\n",
    "#l = InputLayer(shape=(None, X.shape[1]))\n",
    "#l = DenseLayer(l, num_units=len(np.unique(y)), nonlinearity=softmax)\n",
    "#net = NeuralNet(l, update_learning_rate=0.01)\n",
    "\n",
    "clf_lsgn = nolearn.lasagne.NeuralNet(layers=clf_lsgn_layers,\n",
    "                                     input_shape=(None, X_traincv.shape[1]), #num_features\n",
    "                                     #dropout0_p=0.5, #0.15                 \n",
    "                                     dense0_num_units=200,\n",
    "                                     dropout1_p=0.25,\n",
    "                                     dense1_num_units=200,\n",
    "                                     #dropout2_p=0.25,\n",
    "                                     output_num_units=len(np.unique(y_traincv)), #num_classes\n",
    "                                     output_nonlinearity=lasagne.nonlinearities.softmax,\n",
    "                                     #update=lasagne.updates.adagrad,\n",
    "                                     update=lasagne.updates.nesterov_momentum,\n",
    "                                     update_momentum=0.5, #0.9 #only used with nesterov_momentum\n",
    "                                     update_learning_rate=0.01,\n",
    "                                     train_split=nolearn.lasagne.TrainSplit(eval_size=0.2), #split\n",
    "                                     verbose=1,\n",
    "                                     max_epochs=200, #To tune,verify the behaviour of outputs\n",
    "                                     )\n",
    "\n",
    "clf_lsgn.fit(X_traincv.astype(np.float32), y_traincv.astype(np.int32))\n",
    "\n",
    "roc_lsgn = clf_eval(clf_lsgn, X_testcv.astype(np.float32), y_testcv.astype(np.int32))"
   ]
  },
  {
   "cell_type": "code",
   "execution_count": 90,
   "metadata": {
    "collapsed": false,
    "deletable": true,
    "editable": true
   },
   "outputs": [
    {
     "data": {
      "image/png": "[encoded data removed]",
      "text/plain": [
       "<matplotlib.figure.Figure at 0x7f7c90042080>"
      ]
     },
     "metadata": {},
     "output_type": "display_data"
    }
   ],
   "source": [
    "train_loss = np.array([i[\"train_loss\"] for i in clf_lsgn.train_history_])\n",
    "valid_loss = np.array([i[\"valid_loss\"] for i in clf_lsgn.train_history_])\n",
    "plt.figure(figsize=(16,8))\n",
    "plt.plot(train_loss, linewidth=3, label=\"train\")\n",
    "plt.plot(valid_loss, linewidth=3, label=\"test\")\n",
    "plt.grid()\n",
    "plt.legend()\n",
    "plt.xlabel(\"epoch\")\n",
    "plt.ylabel(\"loss\")\n",
    "#plt.ylim(1e-1, 1e1)\n",
    "plt.ylim(0.3, 0.8)\n",
    "#plt.yscale(\"log\")\n",
    "plt.show()"
   ]
  },
  {
   "cell_type": "markdown",
   "metadata": {
    "deletable": true,
    "editable": true
   },
   "source": [
    "#### Theano Neural Networks (with  Lasagne layers)"
   ]
  },
  {
   "cell_type": "code",
   "execution_count": 91,
   "metadata": {
    "collapsed": true,
    "deletable": true,
    "editable": true
   },
   "outputs": [],
   "source": [
    "#http://lasagne.readthedocs.org/en/latest/\n",
    "#http://lasagne.readthedocs.org/en/latest/user/tutorial.html\n",
    "#https://github.com/Lasagne\n",
    "#https://martin-thoma.com/lasagne-for-python-newbies/\n",
    "#http://deeplearning.net/tutorial/\n",
    "#http://deeplearning.net/software/theano/tutorial/\n",
    "#http://cs231n.github.io/\n",
    "#http://neuralnetworksanddeeplearning.com/\n",
    "\n",
    "import theano\n",
    "import theano.tensor as T\n",
    "#import lasagne\n",
    "\n",
    "def build_mlp(input_var=None):\n",
    "    l_in = lasagne.layers.InputLayer(shape=X_traincv.shape, input_var=input_var)\n",
    "    l_in_drop = lasagne.layers.DropoutLayer(l_in, p=0.2)\n",
    "    l_hid1 = lasagne.layers.DenseLayer(l_in_drop, \n",
    "                                       num_units=800,\n",
    "                                       nonlinearity=lasagne.nonlinearities.rectify,\n",
    "                                       W=lasagne.init.GlorotUniform())\n",
    "    l_hid1_drop = lasagne.layers.DropoutLayer(l_hid1, p=0.6)\n",
    "    l_hid2 = lasagne.layers.DenseLayer(l_hid1_drop,\n",
    "                                       num_units=800,\n",
    "                                       nonlinearity=lasagne.nonlinearities.rectify)\n",
    "    l_hid2_drop = lasagne.layers.DropoutLayer(l_hid2, p=0.6)\n",
    "    l_out = lasagne.layers.DenseLayer(l_hid2_drop,\n",
    "                                      num_units=10,\n",
    "                                      nonlinearity=lasagne.nonlinearities.softmax)\n",
    "    return l_out\n",
    "\n",
    "def build_custom_mlp(input_var=None, depth=2, width=800, drop_input=.2, drop_hidden=.5):\n",
    "    # Input layer and dropout (with shortcut `dropout` for `DropoutLayer`):\n",
    "    network = lasagne.layers.InputLayer(shape=X_traincv.shape, input_var=input_var)\n",
    "    if drop_input:\n",
    "        network = lasagne.layers.dropout(network, p=drop_input)\n",
    "    \n",
    "    # Hidden layers and dropout:\n",
    "    nonlin = lasagne.nonlinearities.rectify\n",
    "    for _ in range(depth):\n",
    "        network = lasagne.layers.DenseLayer(network, \n",
    "                                            width, \n",
    "                                            nonlinearity=nonlin)\n",
    "    if drop_hidden:\n",
    "        network = lasagne.layers.dropout(network, p=drop_hidden)\n",
    "    \n",
    "    # Output layer:\n",
    "    softmax = lasagne.nonlinearities.softmax\n",
    "    network = lasagne.layers.DenseLayer(network, 10, nonlinearity=softmax)\n",
    "    return network\n",
    "\n",
    "def build_cnn(input_var=None):\n",
    "    network = lasagne.layers.InputLayer(shape=X_traincv.shape,\n",
    "                                        input_var=input_var)\n",
    "    network = lasagne.layers.Conv2DLayer(network,\n",
    "                                         num_filters=32,\n",
    "                                         filter_size=(5, 5),\n",
    "                                         nonlinearity=lasagne.nonlinearities.rectify,\n",
    "                                         W=lasagne.init.GlorotUniform())\n",
    "    network = lasagne.layers.MaxPool2DLayer(network, pool_size=(2, 2))\n",
    "    network = lasagne.layers.Conv2DLayer(network, \n",
    "                                         num_filters=32,\n",
    "                                         filter_size=(5, 5),\n",
    "                                         nonlinearity=lasagne.nonlinearities.rectify)\n",
    "    network = lasagne.layers.MaxPool2DLayer(network, pool_size=(2, 2))\n",
    "    network = lasagne.layers.DenseLayer(lasagne.layers.dropout(network, p=.5),\n",
    "                                        num_units=256,\n",
    "                                        nonlinearity=lasagne.nonlinearities.rectify)\n",
    "    network = lasagne.layers.DenseLayer(lasagne.layers.dropout(network, p=.5),\n",
    "                                        num_units=10,\n",
    "                                        nonlinearity=lasagne.nonlinearities.softmax)\n",
    "    return network"
   ]
  },
  {
   "cell_type": "code",
   "execution_count": 92,
   "metadata": {
    "collapsed": true,
    "deletable": true,
    "editable": true
   },
   "outputs": [],
   "source": [
    "# Prepare Theano variables for inputs and targets\n",
    "input_var = T.matrix('inputs')\n",
    "target_var = T.ivector('targets')\n",
    "\n",
    "# Create neural network model\n",
    "network = build_mlp(input_var)\n",
    "prediction = lasagne.layers.get_output(network)\n",
    "loss = lasagne.objectives.categorical_crossentropy(prediction, target_var)\n",
    "loss = loss.mean()\n",
    "params = lasagne.layers.get_all_params(network, trainable=True)\n",
    "updates = lasagne.updates.nesterov_momentum(loss,\n",
    "                                            params,\n",
    "                                            learning_rate=0.01, \n",
    "                                            momentum=0.9)\n",
    "# Monitoring progress during training\n",
    "test_prediction = lasagne.layers.get_output(network, deterministic=True)\n",
    "test_loss = lasagne.objectives.categorical_crossentropy(test_prediction, target_var)\n",
    "test_loss = test_loss.mean()\n",
    "test_acc = T.mean(T.eq(T.argmax(test_prediction, axis=1), target_var),\n",
    "                  dtype=theano.config.floatX)\n",
    "\n",
    "# Compilation\n",
    "train_fn = theano.function([input_var, target_var], loss, updates=updates, allow_input_downcast=True)\n",
    "val_fn = theano.function([input_var, target_var], [test_loss, test_acc], allow_input_downcast=True)"
   ]
  },
  {
   "cell_type": "code",
   "execution_count": 93,
   "metadata": {
    "collapsed": false,
    "deletable": true,
    "editable": true
   },
   "outputs": [
    {
     "name": "stdout",
     "output_type": "stream",
     "text": [
      "Epoch 1 of 150 took 0.199s\n",
      "  training loss:\t\t2.410224\n",
      "  validation loss:\t\t2.284812\n",
      "  validation accuracy:\t\t18.66 %\n",
      "Epoch 2 of 150 took 0.220s\n",
      "  training loss:\t\t2.338553\n",
      "  validation loss:\t\t2.196511\n",
      "  validation accuracy:\t\t51.49 %\n",
      "Epoch 3 of 150 took 0.190s\n",
      "  training loss:\t\t2.212524\n",
      "  validation loss:\t\t2.089820\n",
      "  validation accuracy:\t\t61.57 %\n",
      "Epoch 4 of 150 took 0.189s\n",
      "  training loss:\t\t2.090223\n",
      "  validation loss:\t\t1.969579\n",
      "  validation accuracy:\t\t64.18 %\n",
      "Epoch 5 of 150 took 0.198s\n",
      "  training loss:\t\t1.957248\n",
      "  validation loss:\t\t1.839487\n",
      "  validation accuracy:\t\t63.43 %\n",
      "Epoch 6 of 150 took 0.198s\n",
      "  training loss:\t\t1.807040\n",
      "  validation loss:\t\t1.705830\n",
      "  validation accuracy:\t\t63.06 %\n",
      "Epoch 7 of 150 took 0.188s\n",
      "  training loss:\t\t1.643188\n",
      "  validation loss:\t\t1.572412\n",
      "  validation accuracy:\t\t63.06 %\n",
      "Epoch 8 of 150 took 0.187s\n",
      "  training loss:\t\t1.491279\n",
      "  validation loss:\t\t1.442697\n",
      "  validation accuracy:\t\t64.55 %\n",
      "Epoch 9 of 150 took 0.199s\n",
      "  training loss:\t\t1.351717\n",
      "  validation loss:\t\t1.319772\n",
      "  validation accuracy:\t\t64.93 %\n",
      "Epoch 10 of 150 took 0.200s\n",
      "  training loss:\t\t1.232860\n",
      "  validation loss:\t\t1.205208\n",
      "  validation accuracy:\t\t66.79 %\n",
      "Epoch 11 of 150 took 0.189s\n",
      "  training loss:\t\t1.108661\n",
      "  validation loss:\t\t1.100271\n",
      "  validation accuracy:\t\t70.52 %\n",
      "Epoch 12 of 150 took 0.184s\n",
      "  training loss:\t\t1.032846\n",
      "  validation loss:\t\t1.005953\n",
      "  validation accuracy:\t\t71.27 %\n",
      "Epoch 13 of 150 took 0.187s\n",
      "  training loss:\t\t0.928731\n",
      "  validation loss:\t\t0.922646\n",
      "  validation accuracy:\t\t73.51 %\n",
      "Epoch 14 of 150 took 0.216s\n",
      "  training loss:\t\t0.871894\n",
      "  validation loss:\t\t0.849639\n",
      "  validation accuracy:\t\t75.37 %\n",
      "Epoch 15 of 150 took 0.239s\n",
      "  training loss:\t\t0.813802\n",
      "  validation loss:\t\t0.786818\n",
      "  validation accuracy:\t\t76.12 %\n",
      "Epoch 16 of 150 took 0.185s\n",
      "  training loss:\t\t0.754907\n",
      "  validation loss:\t\t0.733095\n",
      "  validation accuracy:\t\t75.75 %\n",
      "Epoch 17 of 150 took 0.187s\n",
      "  training loss:\t\t0.733103\n",
      "  validation loss:\t\t0.687741\n",
      "  validation accuracy:\t\t77.24 %\n",
      "Epoch 18 of 150 took 0.244s\n",
      "  training loss:\t\t0.677305\n",
      "  validation loss:\t\t0.649929\n",
      "  validation accuracy:\t\t78.73 %\n",
      "Epoch 19 of 150 took 0.233s\n",
      "  training loss:\t\t0.650258\n",
      "  validation loss:\t\t0.618841\n",
      "  validation accuracy:\t\t78.36 %\n",
      "Epoch 20 of 150 took 0.184s\n",
      "  training loss:\t\t0.627112\n",
      "  validation loss:\t\t0.593301\n",
      "  validation accuracy:\t\t79.10 %\n",
      "Epoch 21 of 150 took 0.190s\n",
      "  training loss:\t\t0.605831\n",
      "  validation loss:\t\t0.572401\n",
      "  validation accuracy:\t\t79.10 %\n",
      "Epoch 22 of 150 took 0.188s\n",
      "  training loss:\t\t0.599194\n",
      "  validation loss:\t\t0.555236\n",
      "  validation accuracy:\t\t78.73 %\n",
      "Epoch 23 of 150 took 0.199s\n",
      "  training loss:\t\t0.567231\n",
      "  validation loss:\t\t0.540923\n",
      "  validation accuracy:\t\t79.10 %\n",
      "Epoch 24 of 150 took 0.200s\n",
      "  training loss:\t\t0.585304\n",
      "  validation loss:\t\t0.528699\n",
      "  validation accuracy:\t\t79.10 %\n",
      "Epoch 25 of 150 took 0.187s\n",
      "  training loss:\t\t0.562073\n",
      "  validation loss:\t\t0.518201\n",
      "  validation accuracy:\t\t79.48 %\n",
      "Epoch 26 of 150 took 0.193s\n",
      "  training loss:\t\t0.561643\n",
      "  validation loss:\t\t0.509104\n",
      "  validation accuracy:\t\t79.48 %\n",
      "Epoch 27 of 150 took 0.199s\n",
      "  training loss:\t\t0.554073\n",
      "  validation loss:\t\t0.500866\n",
      "  validation accuracy:\t\t79.48 %\n",
      "Epoch 28 of 150 took 0.202s\n",
      "  training loss:\t\t0.549252\n",
      "  validation loss:\t\t0.493718\n",
      "  validation accuracy:\t\t79.48 %\n",
      "Epoch 29 of 150 took 0.184s\n",
      "  training loss:\t\t0.553920\n",
      "  validation loss:\t\t0.487478\n",
      "  validation accuracy:\t\t79.85 %\n",
      "Epoch 30 of 150 took 0.193s\n",
      "  training loss:\t\t0.521992\n",
      "  validation loss:\t\t0.481748\n",
      "  validation accuracy:\t\t79.85 %\n",
      "Epoch 31 of 150 took 0.211s\n",
      "  training loss:\t\t0.529768\n",
      "  validation loss:\t\t0.477104\n",
      "  validation accuracy:\t\t79.85 %\n",
      "Epoch 32 of 150 took 0.191s\n",
      "  training loss:\t\t0.525934\n",
      "  validation loss:\t\t0.473038\n",
      "  validation accuracy:\t\t79.85 %\n",
      "Epoch 33 of 150 took 0.183s\n",
      "  training loss:\t\t0.508729\n",
      "  validation loss:\t\t0.469649\n",
      "  validation accuracy:\t\t79.85 %\n",
      "Epoch 34 of 150 took 0.191s\n",
      "  training loss:\t\t0.527233\n",
      "  validation loss:\t\t0.466491\n",
      "  validation accuracy:\t\t80.22 %\n",
      "Epoch 35 of 150 took 0.203s\n",
      "  training loss:\t\t0.530097\n",
      "  validation loss:\t\t0.463579\n",
      "  validation accuracy:\t\t80.22 %\n",
      "Epoch 36 of 150 took 0.193s\n",
      "  training loss:\t\t0.534489\n",
      "  validation loss:\t\t0.461121\n",
      "  validation accuracy:\t\t80.60 %\n",
      "Epoch 37 of 150 took 0.184s\n",
      "  training loss:\t\t0.513484\n",
      "  validation loss:\t\t0.458872\n",
      "  validation accuracy:\t\t79.48 %\n",
      "Epoch 38 of 150 took 0.183s\n",
      "  training loss:\t\t0.537408\n",
      "  validation loss:\t\t0.456889\n",
      "  validation accuracy:\t\t79.85 %\n",
      "Epoch 39 of 150 took 0.184s\n",
      "  training loss:\t\t0.504796\n",
      "  validation loss:\t\t0.455018\n",
      "  validation accuracy:\t\t80.22 %\n",
      "Epoch 40 of 150 took 0.208s\n",
      "  training loss:\t\t0.509420\n",
      "  validation loss:\t\t0.453351\n",
      "  validation accuracy:\t\t79.48 %\n",
      "Epoch 41 of 150 took 0.209s\n",
      "  training loss:\t\t0.498215\n",
      "  validation loss:\t\t0.451947\n",
      "  validation accuracy:\t\t79.48 %\n",
      "Epoch 42 of 150 took 0.189s\n",
      "  training loss:\t\t0.524266\n",
      "  validation loss:\t\t0.450705\n",
      "  validation accuracy:\t\t79.48 %\n",
      "Epoch 43 of 150 took 0.187s\n",
      "  training loss:\t\t0.491268\n",
      "  validation loss:\t\t0.449572\n",
      "  validation accuracy:\t\t80.22 %\n",
      "Epoch 44 of 150 took 0.186s\n",
      "  training loss:\t\t0.494771\n",
      "  validation loss:\t\t0.448533\n",
      "  validation accuracy:\t\t80.60 %\n",
      "Epoch 45 of 150 took 0.207s\n",
      "  training loss:\t\t0.512484\n",
      "  validation loss:\t\t0.447554\n",
      "  validation accuracy:\t\t80.97 %\n",
      "Epoch 46 of 150 took 0.224s\n",
      "  training loss:\t\t0.488555\n",
      "  validation loss:\t\t0.446618\n",
      "  validation accuracy:\t\t81.34 %\n",
      "Epoch 47 of 150 took 0.193s\n",
      "  training loss:\t\t0.482387\n",
      "  validation loss:\t\t0.445735\n",
      "  validation accuracy:\t\t81.34 %\n",
      "Epoch 48 of 150 took 0.185s\n",
      "  training loss:\t\t0.486512\n",
      "  validation loss:\t\t0.445021\n",
      "  validation accuracy:\t\t81.34 %\n",
      "Epoch 49 of 150 took 0.184s\n",
      "  training loss:\t\t0.518857\n",
      "  validation loss:\t\t0.444411\n",
      "  validation accuracy:\t\t81.34 %\n",
      "Epoch 50 of 150 took 0.186s\n",
      "  training loss:\t\t0.481413\n",
      "  validation loss:\t\t0.444071\n",
      "  validation accuracy:\t\t81.34 %\n",
      "Epoch 51 of 150 took 0.184s\n",
      "  training loss:\t\t0.511450\n",
      "  validation loss:\t\t0.443742\n",
      "  validation accuracy:\t\t81.34 %\n",
      "Epoch 52 of 150 took 0.184s\n",
      "  training loss:\t\t0.505600\n",
      "  validation loss:\t\t0.443457\n",
      "  validation accuracy:\t\t82.09 %\n",
      "Epoch 53 of 150 took 0.186s\n",
      "  training loss:\t\t0.499493\n",
      "  validation loss:\t\t0.443211\n",
      "  validation accuracy:\t\t81.72 %\n",
      "Epoch 54 of 150 took 0.217s\n",
      "  training loss:\t\t0.512163\n",
      "  validation loss:\t\t0.443032\n",
      "  validation accuracy:\t\t81.72 %\n",
      "Epoch 55 of 150 took 0.204s\n",
      "  training loss:\t\t0.515778\n",
      "  validation loss:\t\t0.442749\n",
      "  validation accuracy:\t\t82.09 %\n",
      "Epoch 56 of 150 took 0.192s\n",
      "  training loss:\t\t0.506995\n",
      "  validation loss:\t\t0.442417\n",
      "  validation accuracy:\t\t82.46 %\n",
      "Epoch 57 of 150 took 0.184s\n",
      "  training loss:\t\t0.509070\n",
      "  validation loss:\t\t0.442383\n",
      "  validation accuracy:\t\t82.46 %\n",
      "Epoch 58 of 150 took 0.194s\n",
      "  training loss:\t\t0.498205\n",
      "  validation loss:\t\t0.442108\n",
      "  validation accuracy:\t\t82.46 %\n",
      "Epoch 59 of 150 took 0.213s\n",
      "  training loss:\t\t0.471764\n",
      "  validation loss:\t\t0.441807\n",
      "  validation accuracy:\t\t82.46 %\n",
      "Epoch 60 of 150 took 0.192s\n",
      "  training loss:\t\t0.505626\n",
      "  validation loss:\t\t0.441787\n",
      "  validation accuracy:\t\t82.46 %\n",
      "Epoch 61 of 150 took 0.185s\n",
      "  training loss:\t\t0.483642\n",
      "  validation loss:\t\t0.441630\n",
      "  validation accuracy:\t\t82.46 %\n",
      "Epoch 62 of 150 took 0.184s\n",
      "  training loss:\t\t0.499570\n",
      "  validation loss:\t\t0.441355\n",
      "  validation accuracy:\t\t82.46 %\n",
      "Epoch 63 of 150 took 0.184s\n",
      "  training loss:\t\t0.490882\n",
      "  validation loss:\t\t0.441333\n",
      "  validation accuracy:\t\t82.46 %\n",
      "Epoch 64 of 150 took 0.184s\n",
      "  training loss:\t\t0.493972\n",
      "  validation loss:\t\t0.441100\n",
      "  validation accuracy:\t\t81.72 %\n",
      "Epoch 65 of 150 took 0.183s\n",
      "  training loss:\t\t0.495681\n",
      "  validation loss:\t\t0.440830\n",
      "  validation accuracy:\t\t81.72 %\n",
      "Epoch 66 of 150 took 0.185s\n",
      "  training loss:\t\t0.503915\n",
      "  validation loss:\t\t0.440628\n",
      "  validation accuracy:\t\t82.09 %\n",
      "Epoch 67 of 150 took 0.184s\n",
      "  training loss:\t\t0.497364\n",
      "  validation loss:\t\t0.440614\n",
      "  validation accuracy:\t\t82.09 %\n",
      "Epoch 68 of 150 took 0.184s\n",
      "  training loss:\t\t0.509744\n",
      "  validation loss:\t\t0.440713\n",
      "  validation accuracy:\t\t81.72 %\n",
      "Epoch 69 of 150 took 0.186s\n",
      "  training loss:\t\t0.514922\n",
      "  validation loss:\t\t0.440950\n",
      "  validation accuracy:\t\t81.72 %\n",
      "Epoch 70 of 150 took 0.192s\n",
      "  training loss:\t\t0.478564\n",
      "  validation loss:\t\t0.441012\n",
      "  validation accuracy:\t\t82.09 %\n",
      "Epoch 71 of 150 took 0.216s\n",
      "  training loss:\t\t0.498576\n",
      "  validation loss:\t\t0.441130\n",
      "  validation accuracy:\t\t82.09 %\n",
      "Epoch 72 of 150 took 0.193s\n",
      "  training loss:\t\t0.490670\n",
      "  validation loss:\t\t0.441087\n",
      "  validation accuracy:\t\t82.09 %\n",
      "Epoch 73 of 150 took 0.185s\n",
      "  training loss:\t\t0.504705\n",
      "  validation loss:\t\t0.440995\n",
      "  validation accuracy:\t\t82.09 %\n",
      "Epoch 74 of 150 took 0.211s\n",
      "  training loss:\t\t0.500816\n",
      "  validation loss:\t\t0.440739\n",
      "  validation accuracy:\t\t82.09 %\n",
      "Epoch 75 of 150 took 0.201s\n",
      "  training loss:\t\t0.490429\n",
      "  validation loss:\t\t0.440477\n",
      "  validation accuracy:\t\t82.09 %\n",
      "Epoch 76 of 150 took 0.192s\n",
      "  training loss:\t\t0.504014\n",
      "  validation loss:\t\t0.440272\n",
      "  validation accuracy:\t\t82.09 %\n",
      "Epoch 77 of 150 took 0.185s\n",
      "  training loss:\t\t0.493338\n",
      "  validation loss:\t\t0.440153\n",
      "  validation accuracy:\t\t81.72 %\n",
      "Epoch 78 of 150 took 0.184s\n",
      "  training loss:\t\t0.489231\n",
      "  validation loss:\t\t0.439998\n",
      "  validation accuracy:\t\t81.72 %\n",
      "Epoch 79 of 150 took 0.190s\n",
      "  training loss:\t\t0.489678\n",
      "  validation loss:\t\t0.439859\n",
      "  validation accuracy:\t\t81.72 %\n",
      "Epoch 80 of 150 took 0.228s\n",
      "  training loss:\t\t0.482475\n",
      "  validation loss:\t\t0.439526\n",
      "  validation accuracy:\t\t81.72 %\n",
      "Epoch 81 of 150 took 0.223s\n",
      "  training loss:\t\t0.480435\n",
      "  validation loss:\t\t0.439375\n",
      "  validation accuracy:\t\t81.72 %\n",
      "Epoch 82 of 150 took 0.185s\n",
      "  training loss:\t\t0.507867\n",
      "  validation loss:\t\t0.439319\n",
      "  validation accuracy:\t\t81.72 %\n",
      "Epoch 83 of 150 took 0.188s\n",
      "  training loss:\t\t0.507807\n",
      "  validation loss:\t\t0.439287\n",
      "  validation accuracy:\t\t81.72 %\n",
      "Epoch 84 of 150 took 0.218s\n",
      "  training loss:\t\t0.491362\n",
      "  validation loss:\t\t0.439307\n",
      "  validation accuracy:\t\t81.72 %\n",
      "Epoch 85 of 150 took 0.217s\n",
      "  training loss:\t\t0.484051\n",
      "  validation loss:\t\t0.439484\n",
      "  validation accuracy:\t\t81.72 %\n",
      "Epoch 86 of 150 took 0.186s\n",
      "  training loss:\t\t0.474375\n",
      "  validation loss:\t\t0.439400\n",
      "  validation accuracy:\t\t81.72 %\n",
      "Epoch 87 of 150 took 0.184s\n",
      "  training loss:\t\t0.495490\n",
      "  validation loss:\t\t0.439501\n",
      "  validation accuracy:\t\t81.72 %\n",
      "Epoch 88 of 150 took 0.185s\n",
      "  training loss:\t\t0.503531\n",
      "  validation loss:\t\t0.439637\n",
      "  validation accuracy:\t\t82.09 %\n",
      "Epoch 89 of 150 took 0.202s\n",
      "  training loss:\t\t0.480341\n",
      "  validation loss:\t\t0.439394\n",
      "  validation accuracy:\t\t82.09 %\n",
      "Epoch 90 of 150 took 0.254s\n",
      "  training loss:\t\t0.478029\n",
      "  validation loss:\t\t0.438921\n",
      "  validation accuracy:\t\t81.34 %\n",
      "Epoch 91 of 150 took 0.192s\n",
      "  training loss:\t\t0.494292\n",
      "  validation loss:\t\t0.438580\n",
      "  validation accuracy:\t\t81.34 %\n",
      "Epoch 92 of 150 took 0.183s\n",
      "  training loss:\t\t0.466314\n",
      "  validation loss:\t\t0.438068\n",
      "  validation accuracy:\t\t81.72 %\n",
      "Epoch 93 of 150 took 0.199s\n",
      "  training loss:\t\t0.479323\n",
      "  validation loss:\t\t0.437707\n",
      "  validation accuracy:\t\t81.72 %\n",
      "Epoch 94 of 150 took 0.224s\n",
      "  training loss:\t\t0.488756\n",
      "  validation loss:\t\t0.437364\n",
      "  validation accuracy:\t\t81.72 %\n",
      "Epoch 95 of 150 took 0.201s\n",
      "  training loss:\t\t0.469508\n",
      "  validation loss:\t\t0.436984\n",
      "  validation accuracy:\t\t81.72 %\n",
      "Epoch 96 of 150 took 0.187s\n",
      "  training loss:\t\t0.500271\n",
      "  validation loss:\t\t0.436800\n",
      "  validation accuracy:\t\t81.72 %\n",
      "Epoch 97 of 150 took 0.184s\n",
      "  training loss:\t\t0.466589\n",
      "  validation loss:\t\t0.436654\n",
      "  validation accuracy:\t\t81.72 %\n",
      "Epoch 98 of 150 took 0.185s\n",
      "  training loss:\t\t0.495031\n",
      "  validation loss:\t\t0.436576\n",
      "  validation accuracy:\t\t81.72 %\n",
      "Epoch 99 of 150 took 0.185s\n",
      "  training loss:\t\t0.497143\n",
      "  validation loss:\t\t0.436459\n",
      "  validation accuracy:\t\t81.72 %\n",
      "Epoch 100 of 150 took 0.185s\n",
      "  training loss:\t\t0.480210\n",
      "  validation loss:\t\t0.436358\n",
      "  validation accuracy:\t\t81.72 %\n",
      "Epoch 101 of 150 took 0.184s\n",
      "  training loss:\t\t0.474318\n",
      "  validation loss:\t\t0.436269\n",
      "  validation accuracy:\t\t81.72 %\n",
      "Epoch 102 of 150 took 0.186s\n",
      "  training loss:\t\t0.482707\n",
      "  validation loss:\t\t0.436135\n",
      "  validation accuracy:\t\t81.72 %\n",
      "Epoch 103 of 150 took 0.185s\n",
      "  training loss:\t\t0.479933\n",
      "  validation loss:\t\t0.436098\n",
      "  validation accuracy:\t\t81.72 %\n",
      "Epoch 104 of 150 took 0.185s\n",
      "  training loss:\t\t0.478641\n",
      "  validation loss:\t\t0.436244\n",
      "  validation accuracy:\t\t81.72 %\n",
      "Epoch 105 of 150 took 0.186s\n",
      "  training loss:\t\t0.469498\n",
      "  validation loss:\t\t0.436227\n",
      "  validation accuracy:\t\t81.72 %\n",
      "Epoch 106 of 150 took 0.191s\n",
      "  training loss:\t\t0.461170\n",
      "  validation loss:\t\t0.436299\n",
      "  validation accuracy:\t\t81.72 %\n",
      "Epoch 107 of 150 took 0.187s\n",
      "  training loss:\t\t0.480505\n",
      "  validation loss:\t\t0.436162\n",
      "  validation accuracy:\t\t81.72 %\n",
      "Epoch 108 of 150 took 0.185s\n",
      "  training loss:\t\t0.487139\n",
      "  validation loss:\t\t0.436023\n",
      "  validation accuracy:\t\t81.72 %\n",
      "Epoch 109 of 150 took 0.184s\n",
      "  training loss:\t\t0.482526\n",
      "  validation loss:\t\t0.436013\n",
      "  validation accuracy:\t\t81.72 %\n",
      "Epoch 110 of 150 took 0.185s\n",
      "  training loss:\t\t0.460601\n",
      "  validation loss:\t\t0.435992\n",
      "  validation accuracy:\t\t81.34 %\n",
      "Epoch 111 of 150 took 0.184s\n",
      "  training loss:\t\t0.473138\n",
      "  validation loss:\t\t0.435950\n",
      "  validation accuracy:\t\t81.34 %\n",
      "Epoch 112 of 150 took 0.187s\n",
      "  training loss:\t\t0.494379\n",
      "  validation loss:\t\t0.435959\n",
      "  validation accuracy:\t\t81.34 %\n",
      "Epoch 113 of 150 took 0.184s\n",
      "  training loss:\t\t0.495981\n",
      "  validation loss:\t\t0.436034\n",
      "  validation accuracy:\t\t81.34 %\n",
      "Epoch 114 of 150 took 0.185s\n",
      "  training loss:\t\t0.481811\n",
      "  validation loss:\t\t0.436115\n",
      "  validation accuracy:\t\t81.34 %\n",
      "Epoch 115 of 150 took 0.196s\n",
      "  training loss:\t\t0.474101\n",
      "  validation loss:\t\t0.435817\n",
      "  validation accuracy:\t\t81.34 %\n",
      "Epoch 116 of 150 took 0.203s\n",
      "  training loss:\t\t0.497517\n",
      "  validation loss:\t\t0.435618\n",
      "  validation accuracy:\t\t81.34 %\n",
      "Epoch 117 of 150 took 0.198s\n",
      "  training loss:\t\t0.476545\n",
      "  validation loss:\t\t0.435283\n",
      "  validation accuracy:\t\t80.97 %\n",
      "Epoch 118 of 150 took 0.192s\n",
      "  training loss:\t\t0.492187\n",
      "  validation loss:\t\t0.435105\n",
      "  validation accuracy:\t\t80.97 %\n",
      "Epoch 119 of 150 took 0.186s\n",
      "  training loss:\t\t0.482646\n",
      "  validation loss:\t\t0.434996\n",
      "  validation accuracy:\t\t80.97 %\n",
      "Epoch 120 of 150 took 0.197s\n",
      "  training loss:\t\t0.476867\n",
      "  validation loss:\t\t0.434945\n",
      "  validation accuracy:\t\t80.97 %\n",
      "Epoch 121 of 150 took 0.201s\n",
      "  training loss:\t\t0.481157\n",
      "  validation loss:\t\t0.434878\n",
      "  validation accuracy:\t\t80.97 %\n",
      "Epoch 122 of 150 took 0.192s\n",
      "  training loss:\t\t0.477902\n",
      "  validation loss:\t\t0.434811\n",
      "  validation accuracy:\t\t80.97 %\n",
      "Epoch 123 of 150 took 0.187s\n",
      "  training loss:\t\t0.473766\n",
      "  validation loss:\t\t0.434768\n",
      "  validation accuracy:\t\t80.97 %\n",
      "Epoch 124 of 150 took 0.184s\n",
      "  training loss:\t\t0.513779\n",
      "  validation loss:\t\t0.434622\n",
      "  validation accuracy:\t\t80.97 %\n",
      "Epoch 125 of 150 took 0.185s\n",
      "  training loss:\t\t0.468394\n",
      "  validation loss:\t\t0.434635\n",
      "  validation accuracy:\t\t80.97 %\n",
      "Epoch 126 of 150 took 0.184s\n",
      "  training loss:\t\t0.459921\n",
      "  validation loss:\t\t0.434579\n",
      "  validation accuracy:\t\t80.97 %\n",
      "Epoch 127 of 150 took 0.184s\n",
      "  training loss:\t\t0.462481\n",
      "  validation loss:\t\t0.434590\n",
      "  validation accuracy:\t\t80.97 %\n",
      "Epoch 128 of 150 took 0.187s\n",
      "  training loss:\t\t0.485635\n",
      "  validation loss:\t\t0.434851\n",
      "  validation accuracy:\t\t80.97 %\n",
      "Epoch 129 of 150 took 0.184s\n",
      "  training loss:\t\t0.470961\n",
      "  validation loss:\t\t0.434964\n",
      "  validation accuracy:\t\t80.97 %\n",
      "Epoch 130 of 150 took 0.186s\n",
      "  training loss:\t\t0.473154\n",
      "  validation loss:\t\t0.434924\n",
      "  validation accuracy:\t\t80.97 %\n",
      "Epoch 131 of 150 took 0.203s\n",
      "  training loss:\t\t0.480727\n",
      "  validation loss:\t\t0.434762\n",
      "  validation accuracy:\t\t80.97 %\n",
      "Epoch 132 of 150 took 0.196s\n",
      "  training loss:\t\t0.460644\n",
      "  validation loss:\t\t0.434597\n",
      "  validation accuracy:\t\t80.97 %\n",
      "Epoch 133 of 150 took 0.187s\n",
      "  training loss:\t\t0.494494\n",
      "  validation loss:\t\t0.434591\n",
      "  validation accuracy:\t\t80.97 %\n",
      "Epoch 134 of 150 took 0.184s\n",
      "  training loss:\t\t0.474673\n",
      "  validation loss:\t\t0.434382\n",
      "  validation accuracy:\t\t80.97 %\n",
      "Epoch 135 of 150 took 0.189s\n",
      "  training loss:\t\t0.474883\n",
      "  validation loss:\t\t0.434323\n",
      "  validation accuracy:\t\t81.34 %\n",
      "Epoch 136 of 150 took 0.198s\n",
      "  training loss:\t\t0.485941\n",
      "  validation loss:\t\t0.434450\n",
      "  validation accuracy:\t\t81.34 %\n",
      "Epoch 137 of 150 took 0.187s\n",
      "  training loss:\t\t0.463493\n",
      "  validation loss:\t\t0.434318\n",
      "  validation accuracy:\t\t81.34 %\n",
      "Epoch 138 of 150 took 0.189s\n",
      "  training loss:\t\t0.454944\n",
      "  validation loss:\t\t0.434332\n",
      "  validation accuracy:\t\t81.34 %\n",
      "Epoch 139 of 150 took 0.193s\n",
      "  training loss:\t\t0.497908\n",
      "  validation loss:\t\t0.434527\n",
      "  validation accuracy:\t\t81.34 %\n",
      "Epoch 140 of 150 took 0.198s\n",
      "  training loss:\t\t0.476757\n",
      "  validation loss:\t\t0.434529\n",
      "  validation accuracy:\t\t81.34 %\n",
      "Epoch 141 of 150 took 0.229s\n",
      "  training loss:\t\t0.454740\n",
      "  validation loss:\t\t0.434369\n",
      "  validation accuracy:\t\t81.34 %\n",
      "Epoch 142 of 150 took 0.193s\n",
      "  training loss:\t\t0.490228\n",
      "  validation loss:\t\t0.434308\n",
      "  validation accuracy:\t\t81.34 %\n",
      "Epoch 143 of 150 took 0.185s\n",
      "  training loss:\t\t0.491626\n",
      "  validation loss:\t\t0.434176\n",
      "  validation accuracy:\t\t81.34 %\n",
      "Epoch 144 of 150 took 0.190s\n",
      "  training loss:\t\t0.493255\n",
      "  validation loss:\t\t0.434013\n",
      "  validation accuracy:\t\t81.72 %\n",
      "Epoch 145 of 150 took 0.187s\n",
      "  training loss:\t\t0.483512\n",
      "  validation loss:\t\t0.433933\n",
      "  validation accuracy:\t\t81.72 %\n",
      "Epoch 146 of 150 took 0.187s\n",
      "  training loss:\t\t0.462121\n",
      "  validation loss:\t\t0.433926\n",
      "  validation accuracy:\t\t81.72 %\n",
      "Epoch 147 of 150 took 0.191s\n",
      "  training loss:\t\t0.469311\n",
      "  validation loss:\t\t0.433787\n",
      "  validation accuracy:\t\t82.09 %\n",
      "Epoch 148 of 150 took 0.190s\n",
      "  training loss:\t\t0.470825\n",
      "  validation loss:\t\t0.433570\n",
      "  validation accuracy:\t\t81.72 %\n",
      "Epoch 149 of 150 took 0.187s\n",
      "  training loss:\t\t0.475381\n",
      "  validation loss:\t\t0.433419\n",
      "  validation accuracy:\t\t81.72 %\n",
      "Epoch 150 of 150 took 0.189s\n",
      "  training loss:\t\t0.468582\n",
      "  validation loss:\t\t0.433231\n",
      "  validation accuracy:\t\t81.72 %\n"
     ]
    }
   ],
   "source": [
    "num_epochs = 150\n",
    "for epoch in range(num_epochs):\n",
    "    # In each epoch, we do a full pass over the training data:\n",
    "    train_err = 0\n",
    "    start_time = time.time()\n",
    "    inputs, targets = X_traincv, y_traincv\n",
    "    train_err += train_fn(inputs, targets)\n",
    "    \n",
    "    # And a full pass over the validation data:\n",
    "    val_err = 0\n",
    "    val_acc = 0\n",
    "    inputs, targets = X_testcv, y_testcv\n",
    "    err, acc = val_fn(inputs, targets)\n",
    "    val_err += err\n",
    "    val_acc += acc\n",
    "    \n",
    "    # Then we print the results for this epoch:\n",
    "    print(\"Epoch {} of {} took {:.3f}s\".format(epoch + 1, num_epochs, time.time() - start_time))\n",
    "    print(\"  training loss:\\t\\t{:.6f}\".format(train_err))\n",
    "    print(\"  validation loss:\\t\\t{:.6f}\".format(val_err))\n",
    "    print(\"  validation accuracy:\\t\\t{:.2f} %\".format(val_acc * 100))"
   ]
  },
  {
   "cell_type": "code",
   "execution_count": 94,
   "metadata": {
    "collapsed": false,
    "deletable": true,
    "editable": true
   },
   "outputs": [
    {
     "name": "stdout",
     "output_type": "stream",
     "text": [
      "Final results:\n",
      "  test loss:\t\t\t0.433231\n",
      "  test accuracy:\t\t81.72 %\n"
     ]
    }
   ],
   "source": [
    "test_err = 0\n",
    "test_acc = 0\n",
    "inputs, targets = X_testcv, y_testcv\n",
    "err, acc = val_fn(inputs, targets)\n",
    "test_err += err\n",
    "test_acc += acc\n",
    "print(\"Final results:\")\n",
    "print(\"  test loss:\\t\\t\\t{:.6f}\".format(test_err))\n",
    "print(\"  test accuracy:\\t\\t{:.2f} %\".format(test_acc * 100))"
   ]
  },
  {
   "cell_type": "markdown",
   "metadata": {
    "collapsed": true,
    "deletable": true,
    "editable": true
   },
   "source": [
    "#### Genetic Algorithms"
   ]
  },
  {
   "cell_type": "code",
   "execution_count": 95,
   "metadata": {
    "collapsed": true,
    "deletable": true,
    "editable": true
   },
   "outputs": [],
   "source": [
    "# https://github.com/rhiever/tpot\n",
    "# https://github.com/rhiever/tpot/blob/master/tutorials/Titanic_Kaggle.ipynb\n",
    "\n",
    "from tpot import TPOTClassifier"
   ]
  },
  {
   "cell_type": "code",
   "execution_count": 97,
   "metadata": {
    "collapsed": false,
    "deletable": true,
    "editable": true,
    "scrolled": true
   },
   "outputs": [
    {
     "name": "stderr",
     "output_type": "stream",
     "text": [
      "Optimization Progress: 100%|██████████| 200/200 [00:44<00:00,  4.55pipeline/s]"
     ]
    },
    {
     "name": "stdout",
     "output_type": "stream",
     "text": [
      "Generation 1 - Current best internal CV score: 0.8266664618535586\n"
     ]
    },
    {
     "name": "stderr",
     "output_type": "stream",
     "text": [
      "Optimization Progress: 100%|██████████| 300/300 [01:09<00:00,  6.52pipeline/s]"
     ]
    },
    {
     "name": "stdout",
     "output_type": "stream",
     "text": [
      "Generation 2 - Current best internal CV score: 0.8266664618535586\n"
     ]
    },
    {
     "name": "stderr",
     "output_type": "stream",
     "text": [
      "Optimization Progress: 100%|██████████| 400/400 [01:43<00:00,  5.84pipeline/s]"
     ]
    },
    {
     "name": "stdout",
     "output_type": "stream",
     "text": [
      "Generation 3 - Current best internal CV score: 0.8267047619047618\n"
     ]
    },
    {
     "name": "stderr",
     "output_type": "stream",
     "text": [
      "Optimization Progress: 100%|██████████| 500/500 [02:15<00:00,  3.51pipeline/s]"
     ]
    },
    {
     "name": "stdout",
     "output_type": "stream",
     "text": [
      "Generation 4 - Current best internal CV score: 0.8281763440860216\n"
     ]
    },
    {
     "name": "stderr",
     "output_type": "stream",
     "text": [
      "Optimization Progress: 100%|██████████| 600/600 [02:57<00:00,  3.39pipeline/s]"
     ]
    },
    {
     "name": "stdout",
     "output_type": "stream",
     "text": [
      "Generation 5 - Current best internal CV score: 0.8281763440860216\n"
     ]
    },
    {
     "name": "stderr",
     "output_type": "stream",
     "text": [
      "Optimization Progress: 100%|██████████| 700/700 [03:36<00:00,  4.57pipeline/s]"
     ]
    },
    {
     "name": "stdout",
     "output_type": "stream",
     "text": [
      "Generation 6 - Current best internal CV score: 0.8281763440860216\n"
     ]
    },
    {
     "name": "stderr",
     "output_type": "stream",
     "text": [
      "Optimization Progress: 100%|██████████| 800/800 [04:17<00:00,  3.01pipeline/s]"
     ]
    },
    {
     "name": "stdout",
     "output_type": "stream",
     "text": [
      "Generation 7 - Current best internal CV score: 0.828189247311828\n"
     ]
    },
    {
     "name": "stderr",
     "output_type": "stream",
     "text": [
      "Optimization Progress: 100%|██████████| 900/900 [04:50<00:00,  4.50pipeline/s]"
     ]
    },
    {
     "name": "stdout",
     "output_type": "stream",
     "text": [
      "Generation 8 - Current best internal CV score: 0.8282275473630312\n"
     ]
    },
    {
     "name": "stderr",
     "output_type": "stream",
     "text": [
      "Optimization Progress: 100%|██████████| 1000/1000 [05:19<00:00,  5.30pipeline/s]"
     ]
    },
    {
     "name": "stdout",
     "output_type": "stream",
     "text": [
      "Generation 9 - Current best internal CV score: 0.8282660522273426\n"
     ]
    },
    {
     "name": "stderr",
     "output_type": "stream",
     "text": [
      "Optimization Progress: 100%|██████████| 1100/1100 [05:40<00:00,  5.96pipeline/s]"
     ]
    },
    {
     "name": "stdout",
     "output_type": "stream",
     "text": [
      "Generation 10 - Current best internal CV score: 0.8283047619047619\n"
     ]
    },
    {
     "name": "stderr",
     "output_type": "stream",
     "text": [
      "Optimization Progress: 100%|██████████| 1200/1200 [06:08<00:00,  4.15pipeline/s]"
     ]
    },
    {
     "name": "stdout",
     "output_type": "stream",
     "text": [
      "Generation 11 - Current best internal CV score: 0.8314406554019458\n"
     ]
    },
    {
     "name": "stderr",
     "output_type": "stream",
     "text": [
      "Optimization Progress: 100%|██████████| 1300/1300 [06:29<00:00,  4.45pipeline/s]"
     ]
    },
    {
     "name": "stdout",
     "output_type": "stream",
     "text": [
      "Generation 12 - Current best internal CV score: 0.8314406554019458\n"
     ]
    },
    {
     "name": "stderr",
     "output_type": "stream",
     "text": [
      "Optimization Progress: 100%|██████████| 1400/1400 [06:57<00:00,  4.97pipeline/s]"
     ]
    },
    {
     "name": "stdout",
     "output_type": "stream",
     "text": [
      "Generation 13 - Current best internal CV score: 0.831504761904762\n"
     ]
    },
    {
     "name": "stderr",
     "output_type": "stream",
     "text": [
      "Optimization Progress: 100%|██████████| 1500/1500 [07:11<00:00,  7.92pipeline/s]"
     ]
    },
    {
     "name": "stdout",
     "output_type": "stream",
     "text": [
      "Generation 14 - Current best internal CV score: 0.8378025601638506\n"
     ]
    },
    {
     "name": "stderr",
     "output_type": "stream",
     "text": [
      "Optimization Progress: 100%|██████████| 1600/1600 [07:33<00:00,  5.72pipeline/s]"
     ]
    },
    {
     "name": "stdout",
     "output_type": "stream",
     "text": [
      "Generation 15 - Current best internal CV score: 0.8378025601638506\n"
     ]
    },
    {
     "name": "stderr",
     "output_type": "stream",
     "text": [
      "Optimization Progress: 100%|██████████| 1700/1700 [08:00<00:00,  5.53pipeline/s]"
     ]
    },
    {
     "name": "stdout",
     "output_type": "stream",
     "text": [
      "Generation 16 - Current best internal CV score: 0.8378025601638506\n"
     ]
    },
    {
     "name": "stderr",
     "output_type": "stream",
     "text": [
      "Optimization Progress: 100%|██████████| 1800/1800 [08:31<00:00,  6.15pipeline/s]"
     ]
    },
    {
     "name": "stdout",
     "output_type": "stream",
     "text": [
      "Generation 17 - Current best internal CV score: 0.8378025601638506\n"
     ]
    },
    {
     "name": "stderr",
     "output_type": "stream",
     "text": [
      "Optimization Progress: 100%|██████████| 1900/1900 [09:00<00:00,  4.90pipeline/s]"
     ]
    },
    {
     "name": "stdout",
     "output_type": "stream",
     "text": [
      "Generation 18 - Current best internal CV score: 0.8378025601638506\n"
     ]
    },
    {
     "name": "stderr",
     "output_type": "stream",
     "text": [
      "Optimization Progress: 100%|██████████| 2000/2000 [09:35<00:00,  4.08pipeline/s]"
     ]
    },
    {
     "name": "stdout",
     "output_type": "stream",
     "text": [
      "Generation 19 - Current best internal CV score: 0.8378025601638506\n"
     ]
    },
    {
     "name": "stderr",
     "output_type": "stream",
     "text": [
      "Optimization Progress: 100%|██████████| 2100/2100 [10:14<00:00,  3.48pipeline/s]"
     ]
    },
    {
     "name": "stdout",
     "output_type": "stream",
     "text": [
      "Generation 20 - Current best internal CV score: 0.8378025601638506\n"
     ]
    },
    {
     "name": "stderr",
     "output_type": "stream",
     "text": [
      "Optimization Progress: 100%|██████████| 2200/2200 [10:48<00:00,  3.67pipeline/s]"
     ]
    },
    {
     "name": "stdout",
     "output_type": "stream",
     "text": [
      "Generation 21 - Current best internal CV score: 0.8378025601638506\n"
     ]
    },
    {
     "name": "stderr",
     "output_type": "stream",
     "text": [
      "Optimization Progress: 100%|██████████| 2300/2300 [11:24<00:00,  3.76pipeline/s]"
     ]
    },
    {
     "name": "stdout",
     "output_type": "stream",
     "text": [
      "Generation 22 - Current best internal CV score: 0.8378025601638506\n"
     ]
    },
    {
     "name": "stderr",
     "output_type": "stream",
     "text": [
      "Optimization Progress: 100%|██████████| 2400/2400 [12:01<00:00,  4.71pipeline/s]"
     ]
    },
    {
     "name": "stdout",
     "output_type": "stream",
     "text": [
      "Generation 23 - Current best internal CV score: 0.8378922683051716\n"
     ]
    },
    {
     "name": "stderr",
     "output_type": "stream",
     "text": [
      "Optimization Progress: 100%|██████████| 2500/2500 [12:32<00:00,  4.11pipeline/s]"
     ]
    },
    {
     "name": "stdout",
     "output_type": "stream",
     "text": [
      "Generation 24 - Current best internal CV score: 0.8378922683051716\n"
     ]
    },
    {
     "name": "stderr",
     "output_type": "stream",
     "text": [
      "Optimization Progress: 100%|██████████| 2600/2600 [13:06<00:00,  3.35pipeline/s]"
     ]
    },
    {
     "name": "stdout",
     "output_type": "stream",
     "text": [
      "Generation 25 - Current best internal CV score: 0.8378922683051716\n"
     ]
    },
    {
     "name": "stderr",
     "output_type": "stream",
     "text": [
      "Optimization Progress: 100%|██████████| 2700/2700 [13:43<00:00,  4.08pipeline/s]"
     ]
    },
    {
     "name": "stdout",
     "output_type": "stream",
     "text": [
      "Generation 26 - Current best internal CV score: 0.8378922683051716\n"
     ]
    },
    {
     "name": "stderr",
     "output_type": "stream",
     "text": [
      "Optimization Progress: 100%|██████████| 2800/2800 [14:16<00:00,  5.05pipeline/s]"
     ]
    },
    {
     "name": "stdout",
     "output_type": "stream",
     "text": [
      "Generation 27 - Current best internal CV score: 0.8378922683051716\n"
     ]
    },
    {
     "name": "stderr",
     "output_type": "stream",
     "text": [
      "Optimization Progress: 100%|██████████| 2900/2900 [14:46<00:00,  4.21pipeline/s]"
     ]
    },
    {
     "name": "stdout",
     "output_type": "stream",
     "text": [
      "Generation 28 - Current best internal CV score: 0.8378922683051716\n"
     ]
    },
    {
     "name": "stderr",
     "output_type": "stream",
     "text": [
      "Optimization Progress: 100%|██████████| 3000/3000 [15:15<00:00,  4.02pipeline/s]"
     ]
    },
    {
     "name": "stdout",
     "output_type": "stream",
     "text": [
      "Generation 29 - Current best internal CV score: 0.8378922683051716\n"
     ]
    },
    {
     "name": "stderr",
     "output_type": "stream",
     "text": [
      "Optimization Progress: 100%|██████████| 3100/3100 [15:50<00:00,  4.03pipeline/s]"
     ]
    },
    {
     "name": "stdout",
     "output_type": "stream",
     "text": [
      "Generation 30 - Current best internal CV score: 0.8378922683051716\n"
     ]
    },
    {
     "name": "stderr",
     "output_type": "stream",
     "text": [
      "Optimization Progress: 100%|██████████| 3200/3200 [16:18<00:00,  5.23pipeline/s]"
     ]
    },
    {
     "name": "stdout",
     "output_type": "stream",
     "text": [
      "Generation 31 - Current best internal CV score: 0.8378922683051716\n"
     ]
    },
    {
     "name": "stderr",
     "output_type": "stream",
     "text": [
      "Optimization Progress: 100%|██████████| 3300/3300 [16:50<00:00,  4.52pipeline/s]"
     ]
    },
    {
     "name": "stdout",
     "output_type": "stream",
     "text": [
      "Generation 32 - Current best internal CV score: 0.8378922683051716\n"
     ]
    },
    {
     "name": "stderr",
     "output_type": "stream",
     "text": [
      "Optimization Progress: 100%|██████████| 3400/3400 [17:24<00:00,  2.84pipeline/s]"
     ]
    },
    {
     "name": "stdout",
     "output_type": "stream",
     "text": [
      "Generation 33 - Current best internal CV score: 0.8378922683051716\n"
     ]
    },
    {
     "name": "stderr",
     "output_type": "stream",
     "text": [
      "Optimization Progress: 100%|██████████| 3500/3500 [17:57<00:00,  3.96pipeline/s]"
     ]
    },
    {
     "name": "stdout",
     "output_type": "stream",
     "text": [
      "Generation 34 - Current best internal CV score: 0.8378922683051716\n"
     ]
    },
    {
     "name": "stderr",
     "output_type": "stream",
     "text": [
      "Optimization Progress: 100%|██████████| 3600/3600 [18:29<00:00,  3.05pipeline/s]"
     ]
    },
    {
     "name": "stdout",
     "output_type": "stream",
     "text": [
      "Generation 35 - Current best internal CV score: 0.8378922683051716\n"
     ]
    },
    {
     "name": "stderr",
     "output_type": "stream",
     "text": [
      "Optimization Progress: 100%|██████████| 3700/3700 [18:59<00:00,  3.05pipeline/s]"
     ]
    },
    {
     "name": "stdout",
     "output_type": "stream",
     "text": [
      "Generation 36 - Current best internal CV score: 0.8394922683051715\n"
     ]
    },
    {
     "name": "stderr",
     "output_type": "stream",
     "text": [
      "Optimization Progress: 100%|██████████| 3800/3800 [19:27<00:00,  3.40pipeline/s]"
     ]
    },
    {
     "name": "stdout",
     "output_type": "stream",
     "text": [
      "Generation 37 - Current best internal CV score: 0.8394922683051715\n"
     ]
    },
    {
     "name": "stderr",
     "output_type": "stream",
     "text": [
      "Optimization Progress: 100%|██████████| 3900/3900 [19:56<00:00,  3.54pipeline/s]"
     ]
    },
    {
     "name": "stdout",
     "output_type": "stream",
     "text": [
      "Generation 38 - Current best internal CV score: 0.8394922683051715\n"
     ]
    },
    {
     "name": "stderr",
     "output_type": "stream",
     "text": [
      "Optimization Progress: 100%|██████████| 4000/4000 [20:34<00:00,  2.86pipeline/s]"
     ]
    },
    {
     "name": "stdout",
     "output_type": "stream",
     "text": [
      "Generation 39 - Current best internal CV score: 0.8394922683051715\n"
     ]
    },
    {
     "name": "stderr",
     "output_type": "stream",
     "text": [
      "Optimization Progress: 100%|██████████| 4100/4100 [21:09<00:00,  4.70pipeline/s]"
     ]
    },
    {
     "name": "stdout",
     "output_type": "stream",
     "text": [
      "Generation 40 - Current best internal CV score: 0.8394922683051715\n"
     ]
    },
    {
     "name": "stderr",
     "output_type": "stream",
     "text": [
      "Optimization Progress: 100%|██████████| 4200/4200 [21:48<00:00,  2.85pipeline/s]"
     ]
    },
    {
     "name": "stdout",
     "output_type": "stream",
     "text": [
      "Generation 41 - Current best internal CV score: 0.8394922683051715\n"
     ]
    },
    {
     "name": "stderr",
     "output_type": "stream",
     "text": [
      "Optimization Progress: 100%|██████████| 4300/4300 [22:31<00:00,  3.91pipeline/s]"
     ]
    },
    {
     "name": "stdout",
     "output_type": "stream",
     "text": [
      "Generation 42 - Current best internal CV score: 0.8394922683051715\n"
     ]
    },
    {
     "name": "stderr",
     "output_type": "stream",
     "text": [
      "Optimization Progress: 100%|██████████| 4400/4400 [23:05<00:00,  4.18pipeline/s]"
     ]
    },
    {
     "name": "stdout",
     "output_type": "stream",
     "text": [
      "Generation 43 - Current best internal CV score: 0.8394922683051715\n"
     ]
    },
    {
     "name": "stderr",
     "output_type": "stream",
     "text": [
      "Optimization Progress: 100%|██████████| 4500/4500 [23:44<00:00,  3.18pipeline/s]"
     ]
    },
    {
     "name": "stdout",
     "output_type": "stream",
     "text": [
      "Generation 44 - Current best internal CV score: 0.8394922683051715\n"
     ]
    },
    {
     "name": "stderr",
     "output_type": "stream",
     "text": [
      "Optimization Progress: 100%|██████████| 4600/4600 [24:27<00:00,  2.55pipeline/s]"
     ]
    },
    {
     "name": "stdout",
     "output_type": "stream",
     "text": [
      "Generation 45 - Current best internal CV score: 0.8394922683051715\n"
     ]
    },
    {
     "name": "stderr",
     "output_type": "stream",
     "text": [
      "Optimization Progress: 100%|██████████| 4700/4700 [25:01<00:00,  2.79pipeline/s]"
     ]
    },
    {
     "name": "stdout",
     "output_type": "stream",
     "text": [
      "Generation 46 - Current best internal CV score: 0.8394922683051715\n"
     ]
    },
    {
     "name": "stderr",
     "output_type": "stream",
     "text": [
      "Optimization Progress: 100%|██████████| 4800/4800 [25:43<00:00,  2.87pipeline/s]"
     ]
    },
    {
     "name": "stdout",
     "output_type": "stream",
     "text": [
      "Generation 47 - Current best internal CV score: 0.8394922683051715\n"
     ]
    },
    {
     "name": "stderr",
     "output_type": "stream",
     "text": [
      "Optimization Progress: 100%|██████████| 4900/4900 [26:12<00:00,  3.56pipeline/s]"
     ]
    },
    {
     "name": "stdout",
     "output_type": "stream",
     "text": [
      "Generation 48 - Current best internal CV score: 0.8394922683051715\n"
     ]
    },
    {
     "name": "stderr",
     "output_type": "stream",
     "text": [
      "Optimization Progress: 100%|██████████| 5000/5000 [26:44<00:00,  3.15pipeline/s]"
     ]
    },
    {
     "name": "stdout",
     "output_type": "stream",
     "text": [
      "Generation 49 - Current best internal CV score: 0.8394922683051715\n"
     ]
    },
    {
     "name": "stderr",
     "output_type": "stream",
     "text": [
      "Optimization Progress: 100%|██████████| 5100/5100 [27:14<00:00,  3.18pipeline/s]"
     ]
    },
    {
     "name": "stdout",
     "output_type": "stream",
     "text": [
      "Generation 50 - Current best internal CV score: 0.8394922683051715\n"
     ]
    },
    {
     "name": "stderr",
     "output_type": "stream",
     "text": [
      "Optimization Progress: 100%|██████████| 5200/5200 [27:44<00:00,  3.42pipeline/s]"
     ]
    },
    {
     "name": "stdout",
     "output_type": "stream",
     "text": [
      "Generation 51 - Current best internal CV score: 0.8394922683051715\n"
     ]
    },
    {
     "name": "stderr",
     "output_type": "stream",
     "text": [
      "Optimization Progress: 100%|██████████| 5300/5300 [28:13<00:00,  4.17pipeline/s]"
     ]
    },
    {
     "name": "stdout",
     "output_type": "stream",
     "text": [
      "Generation 52 - Current best internal CV score: 0.8394922683051715\n"
     ]
    },
    {
     "name": "stderr",
     "output_type": "stream",
     "text": [
      "Optimization Progress: 100%|██████████| 5400/5400 [28:43<00:00,  2.56pipeline/s]"
     ]
    },
    {
     "name": "stdout",
     "output_type": "stream",
     "text": [
      "Generation 53 - Current best internal CV score: 0.8394922683051715\n"
     ]
    },
    {
     "name": "stderr",
     "output_type": "stream",
     "text": [
      "Optimization Progress: 100%|██████████| 5500/5500 [29:11<00:00,  3.63pipeline/s]"
     ]
    },
    {
     "name": "stdout",
     "output_type": "stream",
     "text": [
      "Generation 54 - Current best internal CV score: 0.8394922683051715\n"
     ]
    },
    {
     "name": "stderr",
     "output_type": "stream",
     "text": [
      "Optimization Progress: 100%|██████████| 5600/5600 [29:43<00:00,  2.36pipeline/s]"
     ]
    },
    {
     "name": "stdout",
     "output_type": "stream",
     "text": [
      "Generation 55 - Current best internal CV score: 0.8394922683051715\n"
     ]
    },
    {
     "name": "stderr",
     "output_type": "stream",
     "text": [
      "Optimization Progress: 100%|██████████| 5700/5700 [30:18<00:00,  4.01pipeline/s]"
     ]
    },
    {
     "name": "stdout",
     "output_type": "stream",
     "text": [
      "Generation 56 - Current best internal CV score: 0.8394922683051715\n"
     ]
    },
    {
     "name": "stderr",
     "output_type": "stream",
     "text": [
      "Optimization Progress: 100%|██████████| 5800/5800 [30:41<00:00,  2.84pipeline/s]"
     ]
    },
    {
     "name": "stdout",
     "output_type": "stream",
     "text": [
      "Generation 57 - Current best internal CV score: 0.8394922683051715\n"
     ]
    },
    {
     "name": "stderr",
     "output_type": "stream",
     "text": [
      "Optimization Progress: 100%|██████████| 5900/5900 [31:13<00:00,  3.09pipeline/s]"
     ]
    },
    {
     "name": "stdout",
     "output_type": "stream",
     "text": [
      "Generation 58 - Current best internal CV score: 0.8394922683051715\n"
     ]
    },
    {
     "name": "stderr",
     "output_type": "stream",
     "text": [
      "Optimization Progress: 100%|██████████| 6000/6000 [31:40<00:00,  2.78pipeline/s]"
     ]
    },
    {
     "name": "stdout",
     "output_type": "stream",
     "text": [
      "Generation 59 - Current best internal CV score: 0.8394922683051715\n"
     ]
    },
    {
     "name": "stderr",
     "output_type": "stream",
     "text": [
      "Optimization Progress: 100%|██████████| 6100/6100 [32:08<00:00,  3.21pipeline/s]"
     ]
    },
    {
     "name": "stdout",
     "output_type": "stream",
     "text": [
      "Generation 60 - Current best internal CV score: 0.8394922683051715\n"
     ]
    },
    {
     "name": "stderr",
     "output_type": "stream",
     "text": [
      "Optimization Progress: 100%|██████████| 6200/6200 [32:37<00:00,  3.23pipeline/s]"
     ]
    },
    {
     "name": "stdout",
     "output_type": "stream",
     "text": [
      "Generation 61 - Current best internal CV score: 0.8394922683051715\n"
     ]
    },
    {
     "name": "stderr",
     "output_type": "stream",
     "text": [
      "Optimization Progress: 100%|██████████| 6300/6300 [32:59<00:00,  3.86pipeline/s]"
     ]
    },
    {
     "name": "stdout",
     "output_type": "stream",
     "text": [
      "Generation 62 - Current best internal CV score: 0.8394922683051715\n"
     ]
    },
    {
     "name": "stderr",
     "output_type": "stream",
     "text": [
      "Optimization Progress: 100%|██████████| 6400/6400 [33:20<00:00,  3.77pipeline/s]"
     ]
    },
    {
     "name": "stdout",
     "output_type": "stream",
     "text": [
      "Generation 63 - Current best internal CV score: 0.8394922683051715\n"
     ]
    },
    {
     "name": "stderr",
     "output_type": "stream",
     "text": [
      "Optimization Progress: 100%|██████████| 6500/6500 [33:42<00:00,  3.52pipeline/s]"
     ]
    },
    {
     "name": "stdout",
     "output_type": "stream",
     "text": [
      "Generation 64 - Current best internal CV score: 0.8394922683051715\n"
     ]
    },
    {
     "name": "stderr",
     "output_type": "stream",
     "text": [
      "Optimization Progress: 100%|██████████| 6600/6600 [34:04<00:00,  2.59pipeline/s]"
     ]
    },
    {
     "name": "stdout",
     "output_type": "stream",
     "text": [
      "Generation 65 - Current best internal CV score: 0.8394922683051715\n"
     ]
    },
    {
     "name": "stderr",
     "output_type": "stream",
     "text": [
      "Optimization Progress: 100%|██████████| 6700/6700 [34:23<00:00,  3.25pipeline/s]"
     ]
    },
    {
     "name": "stdout",
     "output_type": "stream",
     "text": [
      "Generation 66 - Current best internal CV score: 0.8394922683051715\n"
     ]
    },
    {
     "name": "stderr",
     "output_type": "stream",
     "text": [
      "Optimization Progress: 100%|██████████| 6800/6800 [34:47<00:00,  3.18pipeline/s]"
     ]
    },
    {
     "name": "stdout",
     "output_type": "stream",
     "text": [
      "Generation 67 - Current best internal CV score: 0.8394922683051715\n"
     ]
    },
    {
     "name": "stderr",
     "output_type": "stream",
     "text": [
      "Optimization Progress: 100%|██████████| 6900/6900 [35:10<00:00,  2.96pipeline/s]"
     ]
    },
    {
     "name": "stdout",
     "output_type": "stream",
     "text": [
      "Generation 68 - Current best internal CV score: 0.8394922683051715\n"
     ]
    },
    {
     "name": "stderr",
     "output_type": "stream",
     "text": [
      "Optimization Progress: 100%|██████████| 7000/7000 [35:36<00:00,  2.79pipeline/s]"
     ]
    },
    {
     "name": "stdout",
     "output_type": "stream",
     "text": [
      "Generation 69 - Current best internal CV score: 0.8394922683051715\n"
     ]
    },
    {
     "name": "stderr",
     "output_type": "stream",
     "text": [
      "Optimization Progress: 100%|██████████| 7100/7100 [35:58<00:00,  2.41pipeline/s]"
     ]
    },
    {
     "name": "stdout",
     "output_type": "stream",
     "text": [
      "Generation 70 - Current best internal CV score: 0.8394922683051715\n"
     ]
    },
    {
     "name": "stderr",
     "output_type": "stream",
     "text": [
      "Optimization Progress: 100%|██████████| 7200/7200 [36:16<00:00,  3.48pipeline/s]"
     ]
    },
    {
     "name": "stdout",
     "output_type": "stream",
     "text": [
      "Generation 71 - Current best internal CV score: 0.8394922683051715\n"
     ]
    },
    {
     "name": "stderr",
     "output_type": "stream",
     "text": [
      "Optimization Progress: 100%|██████████| 7300/7300 [36:28<00:00,  2.85pipeline/s]"
     ]
    },
    {
     "name": "stdout",
     "output_type": "stream",
     "text": [
      "Generation 72 - Current best internal CV score: 0.8394922683051715\n"
     ]
    },
    {
     "name": "stderr",
     "output_type": "stream",
     "text": [
      "Optimization Progress: 100%|██████████| 7400/7400 [36:44<00:00,  3.55pipeline/s]"
     ]
    },
    {
     "name": "stdout",
     "output_type": "stream",
     "text": [
      "Generation 73 - Current best internal CV score: 0.8394922683051715\n"
     ]
    },
    {
     "name": "stderr",
     "output_type": "stream",
     "text": [
      "Optimization Progress: 100%|██████████| 7500/7500 [37:04<00:00,  2.57pipeline/s]"
     ]
    },
    {
     "name": "stdout",
     "output_type": "stream",
     "text": [
      "Generation 74 - Current best internal CV score: 0.8394922683051715\n"
     ]
    },
    {
     "name": "stderr",
     "output_type": "stream",
     "text": [
      "Optimization Progress: 100%|██████████| 7600/7600 [37:23<00:00,  3.22pipeline/s]"
     ]
    },
    {
     "name": "stdout",
     "output_type": "stream",
     "text": [
      "Generation 75 - Current best internal CV score: 0.8394922683051715\n"
     ]
    },
    {
     "name": "stderr",
     "output_type": "stream",
     "text": [
      "Optimization Progress: 100%|██████████| 7700/7700 [37:46<00:00,  2.78pipeline/s]"
     ]
    },
    {
     "name": "stdout",
     "output_type": "stream",
     "text": [
      "Generation 76 - Current best internal CV score: 0.8394922683051715\n"
     ]
    },
    {
     "name": "stderr",
     "output_type": "stream",
     "text": [
      "Optimization Progress: 100%|██████████| 7800/7800 [38:01<00:00,  2.81pipeline/s]"
     ]
    },
    {
     "name": "stdout",
     "output_type": "stream",
     "text": [
      "Generation 77 - Current best internal CV score: 0.8394922683051715\n"
     ]
    },
    {
     "name": "stderr",
     "output_type": "stream",
     "text": [
      "Optimization Progress: 100%|██████████| 7900/7900 [38:20<00:00,  2.53pipeline/s]"
     ]
    },
    {
     "name": "stdout",
     "output_type": "stream",
     "text": [
      "Generation 78 - Current best internal CV score: 0.8394922683051715\n"
     ]
    },
    {
     "name": "stderr",
     "output_type": "stream",
     "text": [
      "Optimization Progress: 100%|██████████| 8000/8000 [38:44<00:00,  2.53pipeline/s]"
     ]
    },
    {
     "name": "stdout",
     "output_type": "stream",
     "text": [
      "Generation 79 - Current best internal CV score: 0.8394922683051715\n"
     ]
    },
    {
     "name": "stderr",
     "output_type": "stream",
     "text": [
      "Optimization Progress: 100%|██████████| 8100/8100 [39:02<00:00,  3.15pipeline/s]"
     ]
    },
    {
     "name": "stdout",
     "output_type": "stream",
     "text": [
      "Generation 80 - Current best internal CV score: 0.8394922683051715\n"
     ]
    },
    {
     "name": "stderr",
     "output_type": "stream",
     "text": [
      "Optimization Progress: 100%|██████████| 8200/8200 [39:19<00:00,  2.53pipeline/s]"
     ]
    },
    {
     "name": "stdout",
     "output_type": "stream",
     "text": [
      "Generation 81 - Current best internal CV score: 0.8394922683051715\n"
     ]
    },
    {
     "name": "stderr",
     "output_type": "stream",
     "text": [
      "Optimization Progress: 100%|██████████| 8300/8300 [39:39<00:00,  3.31pipeline/s]"
     ]
    },
    {
     "name": "stdout",
     "output_type": "stream",
     "text": [
      "Generation 82 - Current best internal CV score: 0.8394922683051715\n"
     ]
    },
    {
     "name": "stderr",
     "output_type": "stream",
     "text": [
      "Optimization Progress: 100%|██████████| 8400/8400 [39:52<00:00,  3.92pipeline/s]"
     ]
    },
    {
     "name": "stdout",
     "output_type": "stream",
     "text": [
      "Generation 83 - Current best internal CV score: 0.8394922683051715\n"
     ]
    },
    {
     "name": "stderr",
     "output_type": "stream",
     "text": [
      "Optimization Progress: 100%|██████████| 8500/8500 [40:08<00:00,  3.25pipeline/s]"
     ]
    },
    {
     "name": "stdout",
     "output_type": "stream",
     "text": [
      "Generation 84 - Current best internal CV score: 0.8394922683051715\n"
     ]
    },
    {
     "name": "stderr",
     "output_type": "stream",
     "text": [
      "Optimization Progress: 100%|██████████| 8600/8600 [40:22<00:00,  2.64pipeline/s]"
     ]
    },
    {
     "name": "stdout",
     "output_type": "stream",
     "text": [
      "Generation 85 - Current best internal CV score: 0.8394922683051715\n"
     ]
    },
    {
     "name": "stderr",
     "output_type": "stream",
     "text": [
      "Optimization Progress: 100%|██████████| 8700/8700 [40:37<00:00,  3.24pipeline/s]"
     ]
    },
    {
     "name": "stdout",
     "output_type": "stream",
     "text": [
      "Generation 86 - Current best internal CV score: 0.8394922683051715\n"
     ]
    },
    {
     "name": "stderr",
     "output_type": "stream",
     "text": [
      "Optimization Progress: 100%|██████████| 8800/8800 [40:51<00:00,  3.35pipeline/s]"
     ]
    },
    {
     "name": "stdout",
     "output_type": "stream",
     "text": [
      "Generation 87 - Current best internal CV score: 0.8394922683051715\n"
     ]
    },
    {
     "name": "stderr",
     "output_type": "stream",
     "text": [
      "Optimization Progress: 100%|██████████| 8900/8900 [41:07<00:00,  2.85pipeline/s]"
     ]
    },
    {
     "name": "stdout",
     "output_type": "stream",
     "text": [
      "Generation 88 - Current best internal CV score: 0.8394922683051715\n"
     ]
    },
    {
     "name": "stderr",
     "output_type": "stream",
     "text": [
      "Optimization Progress: 100%|██████████| 9000/9000 [41:18<00:00,  2.97pipeline/s]"
     ]
    },
    {
     "name": "stdout",
     "output_type": "stream",
     "text": [
      "Generation 89 - Current best internal CV score: 0.8394922683051715\n"
     ]
    },
    {
     "name": "stderr",
     "output_type": "stream",
     "text": [
      "Optimization Progress: 100%|██████████| 9100/9100 [41:35<00:00,  2.68pipeline/s]"
     ]
    },
    {
     "name": "stdout",
     "output_type": "stream",
     "text": [
      "Generation 90 - Current best internal CV score: 0.8394922683051715\n"
     ]
    },
    {
     "name": "stderr",
     "output_type": "stream",
     "text": [
      "Optimization Progress: 100%|██████████| 9200/9200 [41:51<00:00,  3.27pipeline/s]"
     ]
    },
    {
     "name": "stdout",
     "output_type": "stream",
     "text": [
      "Generation 91 - Current best internal CV score: 0.8394922683051715\n"
     ]
    },
    {
     "name": "stderr",
     "output_type": "stream",
     "text": [
      "Optimization Progress: 100%|██████████| 9300/9300 [42:12<00:00,  2.81pipeline/s]"
     ]
    },
    {
     "name": "stdout",
     "output_type": "stream",
     "text": [
      "Generation 92 - Current best internal CV score: 0.8394922683051715\n"
     ]
    },
    {
     "name": "stderr",
     "output_type": "stream",
     "text": [
      "Optimization Progress: 100%|██████████| 9400/9400 [42:30<00:00,  1.87pipeline/s]"
     ]
    },
    {
     "name": "stdout",
     "output_type": "stream",
     "text": [
      "Generation 93 - Current best internal CV score: 0.8394922683051715\n"
     ]
    },
    {
     "name": "stderr",
     "output_type": "stream",
     "text": [
      "Optimization Progress: 100%|██████████| 9500/9500 [42:45<00:00,  2.64pipeline/s]"
     ]
    },
    {
     "name": "stdout",
     "output_type": "stream",
     "text": [
      "Generation 94 - Current best internal CV score: 0.8394922683051715\n"
     ]
    },
    {
     "name": "stderr",
     "output_type": "stream",
     "text": [
      "Optimization Progress: 100%|██████████| 9600/9600 [43:00<00:00,  2.63pipeline/s]"
     ]
    },
    {
     "name": "stdout",
     "output_type": "stream",
     "text": [
      "Generation 95 - Current best internal CV score: 0.8394922683051715\n"
     ]
    },
    {
     "name": "stderr",
     "output_type": "stream",
     "text": [
      "Optimization Progress: 100%|██████████| 9700/9700 [43:13<00:00,  2.87pipeline/s]"
     ]
    },
    {
     "name": "stdout",
     "output_type": "stream",
     "text": [
      "Generation 96 - Current best internal CV score: 0.8394922683051715\n"
     ]
    },
    {
     "name": "stderr",
     "output_type": "stream",
     "text": [
      "Optimization Progress: 100%|██████████| 9800/9800 [43:29<00:00,  2.77pipeline/s]"
     ]
    },
    {
     "name": "stdout",
     "output_type": "stream",
     "text": [
      "Generation 97 - Current best internal CV score: 0.8394922683051715\n"
     ]
    },
    {
     "name": "stderr",
     "output_type": "stream",
     "text": [
      "Optimization Progress: 100%|██████████| 9900/9900 [43:48<00:00,  2.34pipeline/s]"
     ]
    },
    {
     "name": "stdout",
     "output_type": "stream",
     "text": [
      "Generation 98 - Current best internal CV score: 0.8394922683051715\n"
     ]
    },
    {
     "name": "stderr",
     "output_type": "stream",
     "text": [
      "Optimization Progress: 100%|██████████| 10000/10000 [44:02<00:00,  2.80pipeline/s]"
     ]
    },
    {
     "name": "stdout",
     "output_type": "stream",
     "text": [
      "Generation 99 - Current best internal CV score: 0.8394922683051715\n"
     ]
    },
    {
     "name": "stderr",
     "output_type": "stream",
     "text": [
      "Optimization Progress: 100%|██████████| 10100/10100 [44:26<00:00,  2.14pipeline/s]"
     ]
    },
    {
     "name": "stdout",
     "output_type": "stream",
     "text": [
      "Generation 100 - Current best internal CV score: 0.8394922683051715\n"
     ]
    },
    {
     "name": "stderr",
     "output_type": "stream",
     "text": [
      "Optimization Progress: 100%|██████████| 10200/10200 [44:43<00:00,  2.77pipeline/s]"
     ]
    },
    {
     "name": "stdout",
     "output_type": "stream",
     "text": [
      "Generation 101 - Current best internal CV score: 0.8394922683051715\n"
     ]
    },
    {
     "name": "stderr",
     "output_type": "stream",
     "text": [
      "Optimization Progress: 100%|██████████| 10300/10300 [44:56<00:00,  3.02pipeline/s]"
     ]
    },
    {
     "name": "stdout",
     "output_type": "stream",
     "text": [
      "Generation 102 - Current best internal CV score: 0.8394922683051715\n"
     ]
    },
    {
     "name": "stderr",
     "output_type": "stream",
     "text": [
      "Optimization Progress: 100%|██████████| 10400/10400 [45:10<00:00,  2.83pipeline/s]"
     ]
    },
    {
     "name": "stdout",
     "output_type": "stream",
     "text": [
      "Generation 103 - Current best internal CV score: 0.8394922683051715\n"
     ]
    },
    {
     "name": "stderr",
     "output_type": "stream",
     "text": [
      "Optimization Progress: 100%|██████████| 10500/10500 [45:25<00:00,  3.16pipeline/s]"
     ]
    },
    {
     "name": "stdout",
     "output_type": "stream",
     "text": [
      "Generation 104 - Current best internal CV score: 0.8394922683051715\n"
     ]
    },
    {
     "name": "stderr",
     "output_type": "stream",
     "text": [
      "Optimization Progress: 100%|██████████| 10600/10600 [45:38<00:00,  2.54pipeline/s]"
     ]
    },
    {
     "name": "stdout",
     "output_type": "stream",
     "text": [
      "Generation 105 - Current best internal CV score: 0.8394922683051715\n"
     ]
    },
    {
     "name": "stderr",
     "output_type": "stream",
     "text": [
      "Optimization Progress: 100%|██████████| 10700/10700 [45:58<00:00,  1.88pipeline/s]"
     ]
    },
    {
     "name": "stdout",
     "output_type": "stream",
     "text": [
      "Generation 106 - Current best internal CV score: 0.8394922683051715\n"
     ]
    },
    {
     "name": "stderr",
     "output_type": "stream",
     "text": [
      "Optimization Progress: 100%|██████████| 10800/10800 [46:17<00:00,  1.94pipeline/s]"
     ]
    },
    {
     "name": "stdout",
     "output_type": "stream",
     "text": [
      "Generation 107 - Current best internal CV score: 0.8394922683051715\n"
     ]
    },
    {
     "name": "stderr",
     "output_type": "stream",
     "text": [
      "Optimization Progress: 100%|██████████| 10900/10900 [46:32<00:00,  2.75pipeline/s]"
     ]
    },
    {
     "name": "stdout",
     "output_type": "stream",
     "text": [
      "Generation 108 - Current best internal CV score: 0.8394922683051715\n"
     ]
    },
    {
     "name": "stderr",
     "output_type": "stream",
     "text": [
      "Optimization Progress: 100%|██████████| 11000/11000 [46:49<00:00,  2.81pipeline/s]"
     ]
    },
    {
     "name": "stdout",
     "output_type": "stream",
     "text": [
      "Generation 109 - Current best internal CV score: 0.8394922683051715\n"
     ]
    },
    {
     "name": "stderr",
     "output_type": "stream",
     "text": [
      "Optimization Progress: 100%|██████████| 11100/11100 [47:04<00:00,  2.73pipeline/s]"
     ]
    },
    {
     "name": "stdout",
     "output_type": "stream",
     "text": [
      "Generation 110 - Current best internal CV score: 0.8394922683051715\n"
     ]
    },
    {
     "name": "stderr",
     "output_type": "stream",
     "text": [
      "Optimization Progress: 100%|██████████| 11200/11200 [47:19<00:00,  3.05pipeline/s]"
     ]
    },
    {
     "name": "stdout",
     "output_type": "stream",
     "text": [
      "Generation 111 - Current best internal CV score: 0.8394922683051715\n"
     ]
    },
    {
     "name": "stderr",
     "output_type": "stream",
     "text": [
      "Optimization Progress: 100%|██████████| 11300/11300 [47:33<00:00,  1.96pipeline/s]"
     ]
    },
    {
     "name": "stdout",
     "output_type": "stream",
     "text": [
      "Generation 112 - Current best internal CV score: 0.8394922683051715\n"
     ]
    },
    {
     "name": "stderr",
     "output_type": "stream",
     "text": [
      "Optimization Progress: 100%|██████████| 11400/11400 [47:48<00:00,  2.96pipeline/s]"
     ]
    },
    {
     "name": "stdout",
     "output_type": "stream",
     "text": [
      "Generation 113 - Current best internal CV score: 0.8394922683051715\n"
     ]
    },
    {
     "name": "stderr",
     "output_type": "stream",
     "text": [
      "Optimization Progress: 100%|██████████| 11500/11500 [48:06<00:00,  2.10pipeline/s]"
     ]
    },
    {
     "name": "stdout",
     "output_type": "stream",
     "text": [
      "Generation 114 - Current best internal CV score: 0.8394922683051715\n"
     ]
    },
    {
     "name": "stderr",
     "output_type": "stream",
     "text": [
      "Optimization Progress: 100%|██████████| 11600/11600 [48:20<00:00,  1.89pipeline/s]"
     ]
    },
    {
     "name": "stdout",
     "output_type": "stream",
     "text": [
      "Generation 115 - Current best internal CV score: 0.8394922683051715\n"
     ]
    },
    {
     "name": "stderr",
     "output_type": "stream",
     "text": [
      "Optimization Progress: 100%|██████████| 11700/11700 [48:36<00:00,  3.12pipeline/s]"
     ]
    },
    {
     "name": "stdout",
     "output_type": "stream",
     "text": [
      "Generation 116 - Current best internal CV score: 0.8394922683051715\n"
     ]
    },
    {
     "name": "stderr",
     "output_type": "stream",
     "text": [
      "Optimization Progress: 100%|██████████| 11800/11800 [48:49<00:00,  2.71pipeline/s]"
     ]
    },
    {
     "name": "stdout",
     "output_type": "stream",
     "text": [
      "Generation 117 - Current best internal CV score: 0.8394922683051715\n"
     ]
    },
    {
     "name": "stderr",
     "output_type": "stream",
     "text": [
      "Optimization Progress: 100%|██████████| 11900/11900 [49:02<00:00,  3.17pipeline/s]"
     ]
    },
    {
     "name": "stdout",
     "output_type": "stream",
     "text": [
      "Generation 118 - Current best internal CV score: 0.8394922683051715\n"
     ]
    },
    {
     "name": "stderr",
     "output_type": "stream",
     "text": [
      "Optimization Progress: 100%|██████████| 12000/12000 [49:19<00:00,  2.26pipeline/s]"
     ]
    },
    {
     "name": "stdout",
     "output_type": "stream",
     "text": [
      "Generation 119 - Current best internal CV score: 0.8394922683051715\n"
     ]
    },
    {
     "name": "stderr",
     "output_type": "stream",
     "text": [
      "Optimization Progress: 100%|██████████| 12100/12100 [49:36<00:00,  2.51pipeline/s]"
     ]
    },
    {
     "name": "stdout",
     "output_type": "stream",
     "text": [
      "Generation 120 - Current best internal CV score: 0.8394922683051715\n"
     ]
    },
    {
     "name": "stderr",
     "output_type": "stream",
     "text": [
      "Optimization Progress: 100%|██████████| 12200/12200 [49:50<00:00,  3.31pipeline/s]"
     ]
    },
    {
     "name": "stdout",
     "output_type": "stream",
     "text": [
      "Generation 121 - Current best internal CV score: 0.8394922683051715\n"
     ]
    },
    {
     "name": "stderr",
     "output_type": "stream",
     "text": [
      "Optimization Progress: 100%|██████████| 12300/12300 [50:03<00:00,  2.47pipeline/s]"
     ]
    },
    {
     "name": "stdout",
     "output_type": "stream",
     "text": [
      "Generation 122 - Current best internal CV score: 0.8394922683051715\n"
     ]
    },
    {
     "name": "stderr",
     "output_type": "stream",
     "text": [
      "Optimization Progress: 100%|██████████| 12400/12400 [50:21<00:00,  2.35pipeline/s]"
     ]
    },
    {
     "name": "stdout",
     "output_type": "stream",
     "text": [
      "Generation 123 - Current best internal CV score: 0.8394922683051715\n"
     ]
    },
    {
     "name": "stderr",
     "output_type": "stream",
     "text": [
      "Optimization Progress: 100%|██████████| 12500/12500 [50:36<00:00,  3.16pipeline/s]"
     ]
    },
    {
     "name": "stdout",
     "output_type": "stream",
     "text": [
      "Generation 124 - Current best internal CV score: 0.8394922683051715\n"
     ]
    },
    {
     "name": "stderr",
     "output_type": "stream",
     "text": [
      "Optimization Progress: 100%|██████████| 12600/12600 [50:56<00:00,  2.85pipeline/s]"
     ]
    },
    {
     "name": "stdout",
     "output_type": "stream",
     "text": [
      "Generation 125 - Current best internal CV score: 0.8394922683051715\n"
     ]
    },
    {
     "name": "stderr",
     "output_type": "stream",
     "text": [
      "Optimization Progress: 100%|██████████| 12700/12700 [51:09<00:00,  3.23pipeline/s]"
     ]
    },
    {
     "name": "stdout",
     "output_type": "stream",
     "text": [
      "Generation 126 - Current best internal CV score: 0.8394922683051715\n"
     ]
    },
    {
     "name": "stderr",
     "output_type": "stream",
     "text": [
      "Optimization Progress: 100%|██████████| 12800/12800 [51:24<00:00,  3.29pipeline/s]"
     ]
    },
    {
     "name": "stdout",
     "output_type": "stream",
     "text": [
      "Generation 127 - Current best internal CV score: 0.8394922683051715\n"
     ]
    },
    {
     "name": "stderr",
     "output_type": "stream",
     "text": [
      "Optimization Progress: 100%|██████████| 12900/12900 [51:37<00:00,  2.65pipeline/s]"
     ]
    },
    {
     "name": "stdout",
     "output_type": "stream",
     "text": [
      "Generation 128 - Current best internal CV score: 0.8394922683051715\n"
     ]
    },
    {
     "name": "stderr",
     "output_type": "stream",
     "text": [
      "Optimization Progress: 100%|██████████| 13000/13000 [51:51<00:00,  2.30pipeline/s]"
     ]
    },
    {
     "name": "stdout",
     "output_type": "stream",
     "text": [
      "Generation 129 - Current best internal CV score: 0.8394922683051715\n"
     ]
    },
    {
     "name": "stderr",
     "output_type": "stream",
     "text": [
      "Optimization Progress: 100%|██████████| 13100/13100 [52:08<00:00,  2.35pipeline/s]"
     ]
    },
    {
     "name": "stdout",
     "output_type": "stream",
     "text": [
      "Generation 130 - Current best internal CV score: 0.8394922683051715\n"
     ]
    },
    {
     "name": "stderr",
     "output_type": "stream",
     "text": [
      "Optimization Progress: 100%|██████████| 13200/13200 [52:26<00:00,  2.88pipeline/s]"
     ]
    },
    {
     "name": "stdout",
     "output_type": "stream",
     "text": [
      "Generation 131 - Current best internal CV score: 0.8394922683051715\n"
     ]
    },
    {
     "name": "stderr",
     "output_type": "stream",
     "text": [
      "Optimization Progress: 100%|██████████| 13300/13300 [52:38<00:00,  1.85pipeline/s]"
     ]
    },
    {
     "name": "stdout",
     "output_type": "stream",
     "text": [
      "Generation 132 - Current best internal CV score: 0.8394922683051715\n"
     ]
    },
    {
     "name": "stderr",
     "output_type": "stream",
     "text": [
      "Optimization Progress: 100%|██████████| 13400/13400 [52:52<00:00,  3.09pipeline/s]"
     ]
    },
    {
     "name": "stdout",
     "output_type": "stream",
     "text": [
      "Generation 133 - Current best internal CV score: 0.8394922683051715\n"
     ]
    },
    {
     "name": "stderr",
     "output_type": "stream",
     "text": [
      "Optimization Progress: 100%|██████████| 13500/13500 [53:08<00:00,  1.91pipeline/s]"
     ]
    },
    {
     "name": "stdout",
     "output_type": "stream",
     "text": [
      "Generation 134 - Current best internal CV score: 0.8394922683051715\n"
     ]
    },
    {
     "name": "stderr",
     "output_type": "stream",
     "text": [
      "Optimization Progress: 100%|██████████| 13600/13600 [53:27<00:00,  2.84pipeline/s]"
     ]
    },
    {
     "name": "stdout",
     "output_type": "stream",
     "text": [
      "Generation 135 - Current best internal CV score: 0.8394922683051715\n"
     ]
    },
    {
     "name": "stderr",
     "output_type": "stream",
     "text": [
      "Optimization Progress: 100%|██████████| 13700/13700 [53:43<00:00,  2.26pipeline/s]"
     ]
    },
    {
     "name": "stdout",
     "output_type": "stream",
     "text": [
      "Generation 136 - Current best internal CV score: 0.8394922683051715\n"
     ]
    },
    {
     "name": "stderr",
     "output_type": "stream",
     "text": [
      "Optimization Progress: 100%|██████████| 13800/13800 [53:58<00:00,  2.55pipeline/s]"
     ]
    },
    {
     "name": "stdout",
     "output_type": "stream",
     "text": [
      "Generation 137 - Current best internal CV score: 0.8394922683051715\n"
     ]
    },
    {
     "name": "stderr",
     "output_type": "stream",
     "text": [
      "Optimization Progress: 100%|██████████| 13900/13900 [54:13<00:00,  1.45pipeline/s]"
     ]
    },
    {
     "name": "stdout",
     "output_type": "stream",
     "text": [
      "Generation 138 - Current best internal CV score: 0.8394922683051715\n"
     ]
    },
    {
     "name": "stderr",
     "output_type": "stream",
     "text": [
      "Optimization Progress: 100%|██████████| 14000/14000 [54:28<00:00,  2.85pipeline/s]"
     ]
    },
    {
     "name": "stdout",
     "output_type": "stream",
     "text": [
      "Generation 139 - Current best internal CV score: 0.8394922683051715\n"
     ]
    },
    {
     "name": "stderr",
     "output_type": "stream",
     "text": [
      "Optimization Progress: 100%|██████████| 14100/14100 [54:39<00:00,  1.86pipeline/s]"
     ]
    },
    {
     "name": "stdout",
     "output_type": "stream",
     "text": [
      "Generation 140 - Current best internal CV score: 0.8394922683051715\n"
     ]
    },
    {
     "name": "stderr",
     "output_type": "stream",
     "text": [
      "Optimization Progress: 100%|██████████| 14200/14200 [54:59<00:00,  2.69pipeline/s]"
     ]
    },
    {
     "name": "stdout",
     "output_type": "stream",
     "text": [
      "Generation 141 - Current best internal CV score: 0.8394922683051715\n"
     ]
    },
    {
     "name": "stderr",
     "output_type": "stream",
     "text": [
      "Optimization Progress: 100%|██████████| 14300/14300 [55:15<00:00,  3.41pipeline/s]"
     ]
    },
    {
     "name": "stdout",
     "output_type": "stream",
     "text": [
      "Generation 142 - Current best internal CV score: 0.8394922683051715\n"
     ]
    },
    {
     "name": "stderr",
     "output_type": "stream",
     "text": [
      "Optimization Progress: 100%|██████████| 14400/14400 [55:25<00:00,  2.23pipeline/s]"
     ]
    },
    {
     "name": "stdout",
     "output_type": "stream",
     "text": [
      "Generation 143 - Current best internal CV score: 0.8394922683051715\n"
     ]
    },
    {
     "name": "stderr",
     "output_type": "stream",
     "text": [
      "Optimization Progress: 100%|██████████| 14500/14500 [55:37<00:00,  2.37pipeline/s]"
     ]
    },
    {
     "name": "stdout",
     "output_type": "stream",
     "text": [
      "Generation 144 - Current best internal CV score: 0.8394922683051715\n"
     ]
    },
    {
     "name": "stderr",
     "output_type": "stream",
     "text": [
      "Optimization Progress: 100%|██████████| 14600/14600 [55:52<00:00,  2.37pipeline/s]"
     ]
    },
    {
     "name": "stdout",
     "output_type": "stream",
     "text": [
      "Generation 145 - Current best internal CV score: 0.8394922683051715\n"
     ]
    },
    {
     "name": "stderr",
     "output_type": "stream",
     "text": [
      "Optimization Progress: 100%|██████████| 14700/14700 [56:07<00:00,  3.11pipeline/s]"
     ]
    },
    {
     "name": "stdout",
     "output_type": "stream",
     "text": [
      "Generation 146 - Current best internal CV score: 0.8394922683051715\n"
     ]
    },
    {
     "name": "stderr",
     "output_type": "stream",
     "text": [
      "Optimization Progress: 100%|██████████| 14800/14800 [56:24<00:00,  2.08pipeline/s]"
     ]
    },
    {
     "name": "stdout",
     "output_type": "stream",
     "text": [
      "Generation 147 - Current best internal CV score: 0.8394922683051715\n"
     ]
    },
    {
     "name": "stderr",
     "output_type": "stream",
     "text": [
      "Optimization Progress: 100%|██████████| 14900/14900 [56:39<00:00,  3.23pipeline/s]"
     ]
    },
    {
     "name": "stdout",
     "output_type": "stream",
     "text": [
      "Generation 148 - Current best internal CV score: 0.8394922683051715\n"
     ]
    },
    {
     "name": "stderr",
     "output_type": "stream",
     "text": [
      "Optimization Progress: 100%|██████████| 15000/15000 [56:54<00:00,  2.28pipeline/s]"
     ]
    },
    {
     "name": "stdout",
     "output_type": "stream",
     "text": [
      "Generation 149 - Current best internal CV score: 0.8394922683051715\n"
     ]
    },
    {
     "name": "stderr",
     "output_type": "stream",
     "text": [
      "Optimization Progress: 100%|██████████| 15100/15100 [57:10<00:00,  2.56pipeline/s]"
     ]
    },
    {
     "name": "stdout",
     "output_type": "stream",
     "text": [
      "Generation 150 - Current best internal CV score: 0.8394922683051715\n"
     ]
    },
    {
     "name": "stderr",
     "output_type": "stream",
     "text": [
      "Optimization Progress: 100%|██████████| 15200/15200 [57:21<00:00,  2.47pipeline/s]"
     ]
    },
    {
     "name": "stdout",
     "output_type": "stream",
     "text": [
      "Generation 151 - Current best internal CV score: 0.8394922683051715\n"
     ]
    },
    {
     "name": "stderr",
     "output_type": "stream",
     "text": [
      "Optimization Progress: 100%|██████████| 15300/15300 [57:37<00:00,  2.93pipeline/s]"
     ]
    },
    {
     "name": "stdout",
     "output_type": "stream",
     "text": [
      "Generation 152 - Current best internal CV score: 0.8394922683051715\n"
     ]
    },
    {
     "name": "stderr",
     "output_type": "stream",
     "text": [
      "Optimization Progress: 100%|██████████| 15400/15400 [57:51<00:00,  2.75pipeline/s]"
     ]
    },
    {
     "name": "stdout",
     "output_type": "stream",
     "text": [
      "Generation 153 - Current best internal CV score: 0.8394922683051715\n"
     ]
    },
    {
     "name": "stderr",
     "output_type": "stream",
     "text": [
      "Optimization Progress: 100%|██████████| 15500/15500 [58:06<00:00,  3.30pipeline/s]"
     ]
    },
    {
     "name": "stdout",
     "output_type": "stream",
     "text": [
      "Generation 154 - Current best internal CV score: 0.8394922683051715\n"
     ]
    },
    {
     "name": "stderr",
     "output_type": "stream",
     "text": [
      "Optimization Progress: 100%|██████████| 15600/15600 [58:19<00:00,  2.06pipeline/s]"
     ]
    },
    {
     "name": "stdout",
     "output_type": "stream",
     "text": [
      "Generation 155 - Current best internal CV score: 0.8394922683051715\n"
     ]
    },
    {
     "name": "stderr",
     "output_type": "stream",
     "text": [
      "Optimization Progress: 100%|██████████| 15700/15700 [58:32<00:00,  3.07pipeline/s]"
     ]
    },
    {
     "name": "stdout",
     "output_type": "stream",
     "text": [
      "Generation 156 - Current best internal CV score: 0.8394922683051715\n"
     ]
    },
    {
     "name": "stderr",
     "output_type": "stream",
     "text": [
      "Optimization Progress: 100%|██████████| 15800/15800 [58:44<00:00,  2.01pipeline/s]"
     ]
    },
    {
     "name": "stdout",
     "output_type": "stream",
     "text": [
      "Generation 157 - Current best internal CV score: 0.8394922683051715\n"
     ]
    },
    {
     "name": "stderr",
     "output_type": "stream",
     "text": [
      "Optimization Progress: 100%|██████████| 15900/15900 [59:00<00:00,  2.06pipeline/s]"
     ]
    },
    {
     "name": "stdout",
     "output_type": "stream",
     "text": [
      "Generation 158 - Current best internal CV score: 0.8394922683051715\n"
     ]
    },
    {
     "name": "stderr",
     "output_type": "stream",
     "text": [
      "Optimization Progress: 100%|██████████| 16000/16000 [59:18<00:00,  2.28pipeline/s]"
     ]
    },
    {
     "name": "stdout",
     "output_type": "stream",
     "text": [
      "Generation 159 - Current best internal CV score: 0.8394922683051715\n"
     ]
    },
    {
     "name": "stderr",
     "output_type": "stream",
     "text": [
      "Optimization Progress: 100%|██████████| 16100/16100 [59:32<00:00,  2.69pipeline/s]"
     ]
    },
    {
     "name": "stdout",
     "output_type": "stream",
     "text": [
      "Generation 160 - Current best internal CV score: 0.8394922683051715\n"
     ]
    },
    {
     "name": "stderr",
     "output_type": "stream",
     "text": [
      "Optimization Progress: 100%|██████████| 16200/16200 [59:48<00:00,  2.67pipeline/s]"
     ]
    },
    {
     "name": "stdout",
     "output_type": "stream",
     "text": [
      "Generation 161 - Current best internal CV score: 0.8394922683051715\n"
     ]
    },
    {
     "name": "stderr",
     "output_type": "stream",
     "text": [
      "Optimization Progress: 100%|██████████| 16300/16300 [1:00:05<00:00,  2.29pipeline/s]"
     ]
    },
    {
     "name": "stdout",
     "output_type": "stream",
     "text": [
      "Generation 162 - Current best internal CV score: 0.8394922683051715\n"
     ]
    },
    {
     "name": "stderr",
     "output_type": "stream",
     "text": [
      "                                                                                    \r"
     ]
    },
    {
     "name": "stdout",
     "output_type": "stream",
     "text": [
      "\n",
      "TPOT closed prematurely. Will use the current best pipeline.\n",
      "\n",
      "Best pipeline: GradientBoostingClassifier(MaxAbsScaler(input_matrix), GradientBoostingClassifier__learning_rate=DEFAULT, GradientBoostingClassifier__max_depth=5, GradientBoostingClassifier__max_features=0.95, GradientBoostingClassifier__min_samples_leaf=14, GradientBoostingClassifier__min_samples_split=17, GradientBoostingClassifier__n_estimators=DEFAULT, GradientBoostingClassifier__subsample=0.4)\n",
      "Classification Report\n",
      "                precision    recall  f1-score   support\n",
      "\n",
      "Não Sobreviveu       0.84      0.89      0.86       168\n",
      "    Sobreviveu       0.80      0.71      0.75       100\n",
      "\n",
      "   avg / total       0.82      0.82      0.82       268\n",
      "\n",
      "ROC Score: 0.8014285714285715\n",
      "Accuracy Score: 0.8246268656716418\n",
      "Average Precision Score: 0.8079808821063222\n",
      "f1 Score: 0.7513227513227513\n",
      "Confusion matrix, without normalization\n",
      "[[150  18]\n",
      " [ 29  71]]\n"
     ]
    },
    {
     "data": {
      "image/png": "[encoded data removed]",
      "text/plain": [
       "<matplotlib.figure.Figure at 0x7f7cc68677b8>"
      ]
     },
     "metadata": {},
     "output_type": "display_data"
    }
   ],
   "source": [
    "clf_tpot = TPOTClassifier(verbosity=2, \n",
    "                          max_time_mins=40, \n",
    "                          max_eval_time_mins=15, \n",
    "                          population_size=100,\n",
    "                          generations=100).fit(X_traincv, y_traincv)\n",
    "                          \n",
    "roc_tpot = clf_eval(clf_tpot, X_testcv, y_testcv)"
   ]
  },
  {
   "cell_type": "code",
   "execution_count": 98,
   "metadata": {
    "collapsed": false,
    "deletable": true,
    "editable": true,
    "scrolled": true
   },
   "outputs": [
    {
     "name": "stdout",
     "output_type": "stream",
     "text": [
      "[WARNING] [2017-05-26 12:01:06,387:smac.intensification.intensification.Intensifier] Challenger was the same as the current incumbent; Skipping challenger\n",
      "[WARNING] [2017-05-26 12:01:06,387:smac.intensification.intensification.Intensifier] Challenger was the same as the current incumbent; Skipping challenger\n"
     ]
    },
    {
     "name": "stderr",
     "output_type": "stream",
     "text": [
      "You are already timing task: index_run2\n",
      "You are already timing task: index_run3\n",
      "You are already timing task: index_run3\n",
      "You are already timing task: index_run3\n",
      "You are already timing task: index_run3\n",
      "You are already timing task: index_run3\n",
      "You are already timing task: index_run3\n"
     ]
    },
    {
     "name": "stdout",
     "output_type": "stream",
     "text": [
      "Classification Report\n",
      "                precision    recall  f1-score   support\n",
      "\n",
      "Não Sobreviveu       0.84      0.88      0.85       168\n",
      "    Sobreviveu       0.77      0.71      0.74       100\n",
      "\n",
      "   avg / total       0.81      0.81      0.81       268\n",
      "\n",
      "ROC Score: 0.7925\n",
      "Accuracy Score: 0.8134328358208955\n",
      "Average Precision Score: 0.7949740428293317\n",
      "f1 Score: 0.7395833333333333\n",
      "Confusion matrix, without normalization\n",
      "[[147  21]\n",
      " [ 29  71]]\n"
     ]
    },
    {
     "data": {
      "image/png": "[encoded data removed]",
      "text/plain": [
       "<matplotlib.figure.Figure at 0x7f7c5cb489b0>"
      ]
     },
     "metadata": {},
     "output_type": "display_data"
    }
   ],
   "source": [
    "# https://github.com/automl/auto-sklearn\n",
    "\n",
    "import autosklearn.classification as asklclf\n",
    "clf_autoskl = asklclf.AutoSklearnClassifier(time_left_for_this_task=60,\n",
    "                                            per_run_time_limit=30,\n",
    "                                            seed=0).fit(X_traincv, \n",
    "                                                        y_traincv, \n",
    "                                                        metric=autosklearn.metrics.accuracy)\n",
    "\n",
    "roc_autoskl = clf_eval(clf_autoskl, X_testcv, y_testcv)"
   ]
  },
  {
   "cell_type": "markdown",
   "metadata": {
    "deletable": true,
    "editable": true
   },
   "source": [
    "#### Voting Classifier"
   ]
  },
  {
   "cell_type": "code",
   "execution_count": 104,
   "metadata": {
    "collapsed": false,
    "deletable": true,
    "editable": true,
    "scrolled": true
   },
   "outputs": [
    {
     "name": "stdout",
     "output_type": "stream",
     "text": [
      "[WARNING] [2017-05-26 12:10:33,399:smac.intensification.intensification.Intensifier] Challenger was the same as the current incumbent; Skipping challenger\n",
      "[WARNING] [2017-05-26 12:10:33,399:smac.intensification.intensification.Intensifier] Challenger was the same as the current incumbent; Skipping challenger\n"
     ]
    },
    {
     "name": "stderr",
     "output_type": "stream",
     "text": [
      "You are already timing task: index_run2\n",
      "You are already timing task: index_run3\n",
      "You are already timing task: index_run3\n",
      "You are already timing task: index_run3\n",
      "You are already timing task: index_run3\n",
      "You are already timing task: index_run3\n",
      "You are already timing task: index_run3\n",
      "You are already timing task: index_run3\n",
      "Optimization Progress: 100%|██████████| 200/200 [00:45<00:00,  6.21pipeline/s]"
     ]
    },
    {
     "name": "stdout",
     "output_type": "stream",
     "text": [
      "Generation 1 - Current best internal CV score: 0.8249380440348182\n"
     ]
    },
    {
     "name": "stderr",
     "output_type": "stream",
     "text": [
      "Optimization Progress: 100%|██████████| 300/300 [01:36<00:00,  3.61pipeline/s]"
     ]
    },
    {
     "name": "stdout",
     "output_type": "stream",
     "text": [
      "Generation 2 - Current best internal CV score: 0.8249380440348182\n"
     ]
    },
    {
     "name": "stderr",
     "output_type": "stream",
     "text": [
      "Optimization Progress: 100%|██████████| 400/400 [02:38<00:00,  2.86pipeline/s]"
     ]
    },
    {
     "name": "stdout",
     "output_type": "stream",
     "text": [
      "Generation 3 - Current best internal CV score: 0.8249380440348182\n"
     ]
    },
    {
     "name": "stderr",
     "output_type": "stream",
     "text": [
      "Optimization Progress: 100%|██████████| 500/500 [03:54<00:00,  2.61pipeline/s]"
     ]
    },
    {
     "name": "stdout",
     "output_type": "stream",
     "text": [
      "Generation 4 - Current best internal CV score: 0.8249894521249359\n"
     ]
    },
    {
     "name": "stderr",
     "output_type": "stream",
     "text": [
      "Optimization Progress: 100%|██████████| 600/600 [05:09<00:00,  2.51pipeline/s]"
     ]
    },
    {
     "name": "stdout",
     "output_type": "stream",
     "text": [
      "Generation 5 - Current best internal CV score: 0.8266023553507426\n"
     ]
    },
    {
     "name": "stderr",
     "output_type": "stream",
     "text": [
      "Optimization Progress: 100%|██████████| 700/700 [06:12<00:00,  2.87pipeline/s]"
     ]
    },
    {
     "name": "stdout",
     "output_type": "stream",
     "text": [
      "Generation 6 - Current best internal CV score: 0.8266662570404506\n"
     ]
    },
    {
     "name": "stderr",
     "output_type": "stream",
     "text": [
      "Optimization Progress: 100%|██████████| 800/800 [07:41<00:00,  2.37pipeline/s]"
     ]
    },
    {
     "name": "stdout",
     "output_type": "stream",
     "text": [
      "Generation 7 - Current best internal CV score: 0.8281382488479263\n"
     ]
    },
    {
     "name": "stderr",
     "output_type": "stream",
     "text": [
      "                                                                              \r"
     ]
    },
    {
     "name": "stdout",
     "output_type": "stream",
     "text": [
      "\n",
      "TPOT closed prematurely. Will use the current best pipeline.\n",
      "\n",
      "Best pipeline: RandomForestClassifier(input_matrix, RandomForestClassifier__bootstrap=DEFAULT, RandomForestClassifier__criterion=DEFAULT, RandomForestClassifier__max_features=0.5, RandomForestClassifier__min_samples_leaf=5, RandomForestClassifier__min_samples_split=13, RandomForestClassifier__n_estimators=100)\n",
      "Classification Report\n",
      "                precision    recall  f1-score   support\n",
      "\n",
      "Não Sobreviveu       0.85      0.89      0.87       168\n",
      "    Sobreviveu       0.80      0.74      0.77       100\n",
      "\n",
      "   avg / total       0.83      0.84      0.83       268\n",
      "\n",
      "ROC Score: 0.8164285714285714\n",
      "Accuracy Score: 0.835820895522388\n",
      "Average Precision Score: 0.8206813757300455\n",
      "f1 Score: 0.7708333333333333\n",
      "Confusion matrix, without normalization\n",
      "[[150  18]\n",
      " [ 26  74]]\n"
     ]
    },
    {
     "data": {
      "image/png": "[encoded data removed]",
      "text/plain": [
       "<matplotlib.figure.Figure at 0x7f7c5c5f1940>"
      ]
     },
     "metadata": {},
     "output_type": "display_data"
    }
   ],
   "source": [
    "from sklearn.ensemble import VotingClassifier \n",
    "#http://scikit-learn.org/stable/modules/ensemble.html#votingclassifier\n",
    "\n",
    "ensemble = VotingClassifier(estimators=[#('clf_sgdc', clf_sgdc),\n",
    "                                        ('clf_lgr', clf_lr),\n",
    "                                        #('clf_rdg', clf_rdg),\n",
    "                                        ('clf_bgc', clf_bgc),\n",
    "                                        ('clf_etc', clf_etc),\n",
    "                                        ('clf_abc', clf_abc),\n",
    "                                        #('clf_pct', clf_pcp),\n",
    "                                        ('clf_xgb', clf_xgb),\n",
    "                                        ('clf_rf', clf_rf),\n",
    "                                        ('clf_etc', clf_etc),\n",
    "                                        ('clf_knn', clf_knn),\n",
    "                                        ('clf_autoskl', clf_autoskl),\n",
    "                                        ('clf_tpot', clf_tpot),\n",
    "                                        ],\n",
    "                            voting='soft',\n",
    "                            weights=[1,2,1,6,1,3,1,1,1,1]).fit(X_traincv, y_traincv)\n",
    "\n",
    "roc_ens = clf_eval(ensemble, X_testcv, y_testcv)"
   ]
  },
  {
   "cell_type": "markdown",
   "metadata": {
    "deletable": true,
    "editable": true
   },
   "source": [
    "### Plotting the results:  "
   ]
  },
  {
   "cell_type": "code",
   "execution_count": 105,
   "metadata": {
    "collapsed": false,
    "deletable": true,
    "editable": true
   },
   "outputs": [
    {
     "data": {
      "image/png": "[encoded data removed]",
      "text/plain": [
       "<matplotlib.figure.Figure at 0x7f7caf010d30>"
      ]
     },
     "metadata": {},
     "output_type": "display_data"
    }
   ],
   "source": [
    "dic_results = {'SVM': roc_svc2,\n",
    "               'RandomForest': roc_rf,\n",
    "               'DecisionTree': roc_dtc,\n",
    "               'ExtraTree': roc_etc,\n",
    "               'AdaBoost': roc_abc,\n",
    "               'GradBoost': roc_gbc,\n",
    "               'SGDC': roc_sgdc,\n",
    "               'Ridge': roc_rdg,\n",
    "               'Perceptron': roc_pcp,\n",
    "               'PassAgre': roc_pac,\n",
    "               'LogiReg': roc_lr,\n",
    "               'GaussianNB': roc_gnb,\n",
    "               'BernouNB': roc_bnb,\n",
    "               'NoLearn_Lasagne': roc_lsgn,\n",
    "               #'Theano': roc_thn,\n",
    "               'XGBoost':roc_xgb,\n",
    "               'Knn':roc_knn,\n",
    "               'Keras+Tflow': roc_keras,\n",
    "               'Bagging': roc_bgc,\n",
    "               'Voting': roc_ens,\n",
    "               'Tpot': roc_tpot,\n",
    "               'AutoSKL': roc_autoskl,\n",
    "              }\n",
    "\n",
    "import operator\n",
    "tup_results = sorted(dic_results.items(), key=operator.itemgetter(1))\n",
    "\n",
    "N = len(dic_results)\n",
    "ind = np.arange(N)  # the x locations for the groups\n",
    "width = 0.40       # the width of the bars\n",
    "\n",
    "fig = plt.figure(figsize=(16,10))\n",
    "ax = fig.add_subplot(111)\n",
    "rects = ax.bar(ind+0.5, list(zip(*tup_results))[1], width,)\n",
    "for rect in rects:\n",
    "    height = rect.get_height()\n",
    "    ax.text(rect.get_x()+rect.get_width()/2., \n",
    "            1.005*height, \n",
    "            '{0:.4f}'.format(height), \n",
    "            ha='center', \n",
    "            va='bottom',)\n",
    "\n",
    "ax.set_ylabel('Scores')\n",
    "ax.set_ylim(ymin=0.65,ymax = 0.85)\n",
    "ax.set_title(\"Classificators' performance\")\n",
    "ax.set_xticks(ind + width/2.)\n",
    "ax.set_xticklabels(list(zip(*tup_results))[0], rotation=45)\n",
    "\n",
    "plt.show()"
   ]
  },
  {
   "cell_type": "markdown",
   "metadata": {
    "deletable": true,
    "editable": true
   },
   "source": [
    "Choosing the best classifier and training with all training data:"
   ]
  },
  {
   "cell_type": "code",
   "execution_count": 106,
   "metadata": {
    "collapsed": false,
    "deletable": true,
    "editable": true
   },
   "outputs": [
    {
     "name": "stdout",
     "output_type": "stream",
     "text": [
      "[ 0.  0.  1.  0.  1.  1.  0.  0.  0.  0.]\n",
      "\n",
      "[[ 0.70053177  0.29946823]\n",
      " [ 0.79773823  0.20226177]\n",
      " [ 0.03288359  0.96711641]\n",
      " [ 1.09436164 -0.09436164]\n",
      " [ 0.05466978  0.94533021]\n",
      " [ 0.13098049  0.86901951]\n",
      " [ 0.85710362  0.14289638]\n",
      " [ 0.63962475  0.36037524]\n",
      " [ 0.74971996  0.25028004]\n",
      " [ 0.87219638  0.12780362]]\n"
     ]
    }
   ],
   "source": [
    "output = ensemble.predict(X_test)\n",
    "print(output[10:20])\n",
    "print()\n",
    "output_prob = ensemble.predict_proba(X_test)\n",
    "print(output_prob[10:20])"
   ]
  },
  {
   "cell_type": "code",
   "execution_count": null,
   "metadata": {
    "collapsed": true,
    "deletable": true,
    "editable": true
   },
   "outputs": [],
   "source": []
  }
 ],
 "metadata": {
  "kernelspec": {
   "display_name": "Python 3",
   "language": "python",
   "name": "python3"
  },
  "language_info": {
   "codemirror_mode": {
    "name": "ipython",
    "version": 3
   },
   "file_extension": ".py",
   "mimetype": "text/x-python",
   "name": "python",
   "nbconvert_exporter": "python",
   "pygments_lexer": "ipython3",
   "version": "3.5.2+"
  }
 },
 "nbformat": 4,
 "nbformat_minor": 1
}
