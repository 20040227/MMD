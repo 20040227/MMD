{
 "cells": [
  {
   "cell_type": "code",
   "execution_count": 1,
   "metadata": {
    "collapsed": false
   },
   "outputs": [
    {
     "name": "stderr",
     "output_type": "stream",
     "text": [
      "Using Theano backend.\n"
     ]
    },
    {
     "name": "stdout",
     "output_type": "stream",
     "text": [
      "Couldn't import dot_parser, loading of dot files will not be possible.\n"
     ]
    },
    {
     "name": "stderr",
     "output_type": "stream",
     "text": [
      "Using cuDNN version 5103 on context None\n",
      "Mapped name None to device cuda: Quadro K4200 (0000:08:00.0)\n"
     ]
    }
   ],
   "source": [
    "# Create first network with Keras\n",
    "## http://machinelearningmastery.com/tutorial-first-neural-network-python-keras/\n",
    "\n",
    "from keras.models import Sequential\n",
    "from keras.layers import Dense\n",
    "import numpy"
   ]
  },
  {
   "cell_type": "code",
   "execution_count": 2,
   "metadata": {
    "collapsed": true
   },
   "outputs": [],
   "source": [
    "# fix random seed for reproducibility\n",
    "seed = 7\n",
    "numpy.random.seed(seed)"
   ]
  },
  {
   "cell_type": "code",
   "execution_count": 3,
   "metadata": {
    "collapsed": false
   },
   "outputs": [],
   "source": [
    "# load pima indians dataset\n",
    "dataset = numpy.loadtxt(\"../../datasets/pima-indians-diabetes.data\", delimiter=\",\")"
   ]
  },
  {
   "cell_type": "code",
   "execution_count": 4,
   "metadata": {
    "collapsed": true
   },
   "outputs": [],
   "source": [
    "# split into input (X) and output (Y) variables\n",
    "X = dataset[:,0:8]\n",
    "Y = dataset[:,8]"
   ]
  },
  {
   "cell_type": "code",
   "execution_count": 5,
   "metadata": {
    "collapsed": true
   },
   "outputs": [],
   "source": [
    "# create model\n",
    "model = Sequential()\n",
    "model.add(Dense(12, input_dim=8, init='uniform', activation='relu'))\n",
    "model.add(Dense(8, init='uniform', activation='relu'))\n",
    "model.add(Dense(1, init='uniform', activation='sigmoid'))"
   ]
  },
  {
   "cell_type": "code",
   "execution_count": 6,
   "metadata": {
    "collapsed": false
   },
   "outputs": [
    {
     "name": "stderr",
     "output_type": "stream",
     "text": [
      "/usr/local/lib/python3.5/dist-packages/theano/tensor/basic.py:2140: UserWarning: theano.tensor.round() changed its default from `half_away_from_zero` to `half_to_even` to have the same default as NumPy. Use the Theano flag `warn.round=False` to disable this warning.\n",
      "  \"theano.tensor.round() changed its default from\"\n"
     ]
    }
   ],
   "source": [
    "# Compile model\n",
    "model.compile(loss='binary_crossentropy', optimizer='adam', metrics=['accuracy'])"
   ]
  },
  {
   "cell_type": "code",
   "execution_count": 7,
   "metadata": {
    "collapsed": false
   },
   "outputs": [
    {
     "name": "stdout",
     "output_type": "stream",
     "text": [
      "Epoch 1/150\n",
      "0s - loss: 0.6826 - acc: 0.6328\n",
      "Epoch 2/150\n",
      "0s - loss: 0.6590 - acc: 0.6510\n",
      "Epoch 3/150\n",
      "0s - loss: 0.6475 - acc: 0.6549\n",
      "Epoch 4/150\n",
      "0s - loss: 0.6416 - acc: 0.6615\n",
      "Epoch 5/150\n",
      "0s - loss: 0.6216 - acc: 0.6745\n",
      "Epoch 6/150\n",
      "0s - loss: 0.6128 - acc: 0.6680\n",
      "Epoch 7/150\n",
      "0s - loss: 0.6018 - acc: 0.6927\n",
      "Epoch 8/150\n",
      "0s - loss: 0.5962 - acc: 0.6927\n",
      "Epoch 9/150\n",
      "0s - loss: 0.5991 - acc: 0.6953\n",
      "Epoch 10/150\n",
      "0s - loss: 0.5920 - acc: 0.6927\n",
      "Epoch 11/150\n",
      "0s - loss: 0.5905 - acc: 0.6979\n",
      "Epoch 12/150\n",
      "0s - loss: 0.5883 - acc: 0.6901\n",
      "Epoch 13/150\n",
      "0s - loss: 0.5870 - acc: 0.6953\n",
      "Epoch 14/150\n",
      "0s - loss: 0.5869 - acc: 0.6836\n",
      "Epoch 15/150\n",
      "0s - loss: 0.5815 - acc: 0.6953\n",
      "Epoch 16/150\n",
      "0s - loss: 0.5779 - acc: 0.6966\n",
      "Epoch 17/150\n",
      "0s - loss: 0.5815 - acc: 0.6836\n",
      "Epoch 18/150\n",
      "0s - loss: 0.5818 - acc: 0.6953\n",
      "Epoch 19/150\n",
      "0s - loss: 0.5798 - acc: 0.6927\n",
      "Epoch 20/150\n",
      "0s - loss: 0.5746 - acc: 0.7083\n",
      "Epoch 21/150\n",
      "0s - loss: 0.5757 - acc: 0.7005\n",
      "Epoch 22/150\n",
      "0s - loss: 0.5738 - acc: 0.7161\n",
      "Epoch 23/150\n",
      "0s - loss: 0.5732 - acc: 0.6927\n",
      "Epoch 24/150\n",
      "0s - loss: 0.5755 - acc: 0.6914\n",
      "Epoch 25/150\n",
      "0s - loss: 0.5731 - acc: 0.7044\n",
      "Epoch 26/150\n",
      "0s - loss: 0.5682 - acc: 0.7057\n",
      "Epoch 27/150\n",
      "0s - loss: 0.5685 - acc: 0.7005\n",
      "Epoch 28/150\n",
      "0s - loss: 0.5710 - acc: 0.7083\n",
      "Epoch 29/150\n",
      "0s - loss: 0.5621 - acc: 0.7174\n",
      "Epoch 30/150\n",
      "0s - loss: 0.5645 - acc: 0.7122\n",
      "Epoch 31/150\n",
      "0s - loss: 0.5621 - acc: 0.7161\n",
      "Epoch 32/150\n",
      "0s - loss: 0.5606 - acc: 0.7135\n",
      "Epoch 33/150\n",
      "0s - loss: 0.5584 - acc: 0.7188\n",
      "Epoch 34/150\n",
      "0s - loss: 0.5582 - acc: 0.7174\n",
      "Epoch 35/150\n",
      "0s - loss: 0.5614 - acc: 0.7135\n",
      "Epoch 36/150\n",
      "0s - loss: 0.5599 - acc: 0.7174\n",
      "Epoch 37/150\n",
      "0s - loss: 0.5523 - acc: 0.7122\n",
      "Epoch 38/150\n",
      "0s - loss: 0.5508 - acc: 0.7188\n",
      "Epoch 39/150\n",
      "0s - loss: 0.5547 - acc: 0.7292\n",
      "Epoch 40/150\n",
      "0s - loss: 0.5563 - acc: 0.7318\n",
      "Epoch 41/150\n",
      "0s - loss: 0.5522 - acc: 0.7344\n",
      "Epoch 42/150\n",
      "0s - loss: 0.5421 - acc: 0.7474\n",
      "Epoch 43/150\n",
      "0s - loss: 0.5432 - acc: 0.7344\n",
      "Epoch 44/150\n",
      "0s - loss: 0.5366 - acc: 0.7344\n",
      "Epoch 45/150\n",
      "0s - loss: 0.5397 - acc: 0.7500\n",
      "Epoch 46/150\n",
      "0s - loss: 0.5293 - acc: 0.7461\n",
      "Epoch 47/150\n",
      "0s - loss: 0.5332 - acc: 0.7474\n",
      "Epoch 48/150\n",
      "0s - loss: 0.5291 - acc: 0.7370\n",
      "Epoch 49/150\n",
      "0s - loss: 0.5316 - acc: 0.7409\n",
      "Epoch 50/150\n",
      "0s - loss: 0.5408 - acc: 0.7396\n",
      "Epoch 51/150\n",
      "0s - loss: 0.5226 - acc: 0.7487\n",
      "Epoch 52/150\n",
      "0s - loss: 0.5215 - acc: 0.7526\n",
      "Epoch 53/150\n",
      "0s - loss: 0.5255 - acc: 0.7422\n",
      "Epoch 54/150\n",
      "0s - loss: 0.5218 - acc: 0.7513\n",
      "Epoch 55/150\n",
      "0s - loss: 0.5177 - acc: 0.7552\n",
      "Epoch 56/150\n",
      "0s - loss: 0.5201 - acc: 0.7487\n",
      "Epoch 57/150\n",
      "0s - loss: 0.5197 - acc: 0.7513\n",
      "Epoch 58/150\n",
      "0s - loss: 0.5215 - acc: 0.7565\n",
      "Epoch 59/150\n",
      "0s - loss: 0.5195 - acc: 0.7539\n",
      "Epoch 60/150\n",
      "0s - loss: 0.5171 - acc: 0.7513\n",
      "Epoch 61/150\n",
      "0s - loss: 0.5124 - acc: 0.7539\n",
      "Epoch 62/150\n",
      "0s - loss: 0.5128 - acc: 0.7539\n",
      "Epoch 63/150\n",
      "0s - loss: 0.5069 - acc: 0.7552\n",
      "Epoch 64/150\n",
      "0s - loss: 0.5126 - acc: 0.7578\n",
      "Epoch 65/150\n",
      "0s - loss: 0.5081 - acc: 0.7500\n",
      "Epoch 66/150\n",
      "0s - loss: 0.5116 - acc: 0.7630\n",
      "Epoch 67/150\n",
      "0s - loss: 0.5070 - acc: 0.7565\n",
      "Epoch 68/150\n",
      "0s - loss: 0.5106 - acc: 0.7669\n",
      "Epoch 69/150\n",
      "0s - loss: 0.5124 - acc: 0.7487\n",
      "Epoch 70/150\n",
      "0s - loss: 0.5147 - acc: 0.7539\n",
      "Epoch 71/150\n",
      "0s - loss: 0.5200 - acc: 0.7383\n",
      "Epoch 72/150\n",
      "0s - loss: 0.5084 - acc: 0.7474\n",
      "Epoch 73/150\n",
      "0s - loss: 0.4981 - acc: 0.7656\n",
      "Epoch 74/150\n",
      "0s - loss: 0.4967 - acc: 0.7578\n",
      "Epoch 75/150\n",
      "0s - loss: 0.5056 - acc: 0.7591\n",
      "Epoch 76/150\n",
      "0s - loss: 0.5016 - acc: 0.7591\n",
      "Epoch 77/150\n",
      "0s - loss: 0.4964 - acc: 0.7552\n",
      "Epoch 78/150\n",
      "0s - loss: 0.4914 - acc: 0.7630\n",
      "Epoch 79/150\n",
      "0s - loss: 0.5005 - acc: 0.7708\n",
      "Epoch 80/150\n",
      "0s - loss: 0.5018 - acc: 0.7591\n",
      "Epoch 81/150\n",
      "0s - loss: 0.5056 - acc: 0.7604\n",
      "Epoch 82/150\n",
      "0s - loss: 0.4955 - acc: 0.7669\n",
      "Epoch 83/150\n",
      "0s - loss: 0.4938 - acc: 0.7656\n",
      "Epoch 84/150\n",
      "0s - loss: 0.4930 - acc: 0.7721\n",
      "Epoch 85/150\n",
      "0s - loss: 0.4962 - acc: 0.7591\n",
      "Epoch 86/150\n",
      "0s - loss: 0.4887 - acc: 0.7656\n",
      "Epoch 87/150\n",
      "0s - loss: 0.4949 - acc: 0.7604\n",
      "Epoch 88/150\n",
      "0s - loss: 0.4888 - acc: 0.7656\n",
      "Epoch 89/150\n",
      "0s - loss: 0.4883 - acc: 0.7682\n",
      "Epoch 90/150\n",
      "0s - loss: 0.4875 - acc: 0.7656\n",
      "Epoch 91/150\n",
      "0s - loss: 0.4917 - acc: 0.7656\n",
      "Epoch 92/150\n",
      "0s - loss: 0.4894 - acc: 0.7656\n",
      "Epoch 93/150\n",
      "0s - loss: 0.4894 - acc: 0.7591\n",
      "Epoch 94/150\n",
      "0s - loss: 0.4833 - acc: 0.7617\n",
      "Epoch 95/150\n",
      "0s - loss: 0.4800 - acc: 0.7695\n",
      "Epoch 96/150\n",
      "0s - loss: 0.4821 - acc: 0.7656\n",
      "Epoch 97/150\n",
      "0s - loss: 0.4732 - acc: 0.7839\n",
      "Epoch 98/150\n",
      "0s - loss: 0.4994 - acc: 0.7448\n",
      "Epoch 99/150\n",
      "0s - loss: 0.4823 - acc: 0.7682\n",
      "Epoch 100/150\n",
      "0s - loss: 0.4787 - acc: 0.7773\n",
      "Epoch 101/150\n",
      "0s - loss: 0.4803 - acc: 0.7786\n",
      "Epoch 102/150\n",
      "0s - loss: 0.4755 - acc: 0.7826\n",
      "Epoch 103/150\n",
      "0s - loss: 0.4824 - acc: 0.7565\n",
      "Epoch 104/150\n",
      "0s - loss: 0.4803 - acc: 0.7786\n",
      "Epoch 105/150\n",
      "0s - loss: 0.4778 - acc: 0.7747\n",
      "Epoch 106/150\n",
      "0s - loss: 0.4785 - acc: 0.7839\n",
      "Epoch 107/150\n",
      "0s - loss: 0.4831 - acc: 0.7747\n",
      "Epoch 108/150\n",
      "0s - loss: 0.4731 - acc: 0.7852\n",
      "Epoch 109/150\n",
      "0s - loss: 0.4733 - acc: 0.7799\n",
      "Epoch 110/150\n",
      "0s - loss: 0.4766 - acc: 0.7760\n",
      "Epoch 111/150\n",
      "0s - loss: 0.4687 - acc: 0.7786\n",
      "Epoch 112/150\n",
      "0s - loss: 0.4695 - acc: 0.7852\n",
      "Epoch 113/150\n",
      "0s - loss: 0.4752 - acc: 0.7747\n",
      "Epoch 114/150\n",
      "0s - loss: 0.4799 - acc: 0.7682\n",
      "Epoch 115/150\n",
      "0s - loss: 0.4768 - acc: 0.7708\n",
      "Epoch 116/150\n",
      "0s - loss: 0.4689 - acc: 0.7839\n",
      "Epoch 117/150\n",
      "0s - loss: 0.4655 - acc: 0.7852\n",
      "Epoch 118/150\n",
      "0s - loss: 0.4621 - acc: 0.7930\n",
      "Epoch 119/150\n",
      "0s - loss: 0.4681 - acc: 0.7839\n",
      "Epoch 120/150\n",
      "0s - loss: 0.4662 - acc: 0.7904\n",
      "Epoch 121/150\n",
      "0s - loss: 0.4718 - acc: 0.7891\n",
      "Epoch 122/150\n",
      "0s - loss: 0.4696 - acc: 0.7812\n",
      "Epoch 123/150\n",
      "0s - loss: 0.4654 - acc: 0.7786\n",
      "Epoch 124/150\n",
      "0s - loss: 0.4662 - acc: 0.7826\n",
      "Epoch 125/150\n",
      "0s - loss: 0.4669 - acc: 0.7734\n",
      "Epoch 126/150\n",
      "0s - loss: 0.4641 - acc: 0.7786\n",
      "Epoch 127/150\n",
      "0s - loss: 0.4673 - acc: 0.7734\n",
      "Epoch 128/150\n",
      "0s - loss: 0.4534 - acc: 0.7891\n",
      "Epoch 129/150\n",
      "0s - loss: 0.4629 - acc: 0.7891\n",
      "Epoch 130/150\n",
      "0s - loss: 0.4685 - acc: 0.7839\n",
      "Epoch 131/150\n",
      "0s - loss: 0.4587 - acc: 0.7734\n",
      "Epoch 132/150\n",
      "0s - loss: 0.4633 - acc: 0.7786\n",
      "Epoch 133/150\n",
      "0s - loss: 0.4729 - acc: 0.7812\n",
      "Epoch 134/150\n",
      "0s - loss: 0.4699 - acc: 0.7773\n",
      "Epoch 135/150\n",
      "0s - loss: 0.4579 - acc: 0.7917\n",
      "Epoch 136/150\n",
      "0s - loss: 0.4549 - acc: 0.7839\n",
      "Epoch 137/150\n",
      "0s - loss: 0.4572 - acc: 0.7878\n",
      "Epoch 138/150\n",
      "0s - loss: 0.4667 - acc: 0.7747\n",
      "Epoch 139/150\n",
      "0s - loss: 0.4592 - acc: 0.7773\n",
      "Epoch 140/150\n",
      "0s - loss: 0.4562 - acc: 0.7826\n",
      "Epoch 141/150\n",
      "0s - loss: 0.4575 - acc: 0.7760\n",
      "Epoch 142/150\n",
      "0s - loss: 0.4575 - acc: 0.7786\n",
      "Epoch 143/150\n",
      "0s - loss: 0.4604 - acc: 0.7865\n",
      "Epoch 144/150\n",
      "0s - loss: 0.4503 - acc: 0.8034\n",
      "Epoch 145/150\n",
      "0s - loss: 0.4543 - acc: 0.7773\n",
      "Epoch 146/150\n",
      "0s - loss: 0.4632 - acc: 0.7826\n",
      "Epoch 147/150\n",
      "0s - loss: 0.4513 - acc: 0.7943\n",
      "Epoch 148/150\n",
      "0s - loss: 0.4620 - acc: 0.7747\n",
      "Epoch 149/150\n",
      "0s - loss: 0.4569 - acc: 0.7799\n",
      "Epoch 150/150\n",
      "0s - loss: 0.4576 - acc: 0.7799\n"
     ]
    },
    {
     "data": {
      "text/plain": [
       "<keras.callbacks.History at 0x7f149c0d27b8>"
      ]
     },
     "execution_count": 7,
     "metadata": {},
     "output_type": "execute_result"
    }
   ],
   "source": [
    "# Fit the model\n",
    "model.fit(X, Y, nb_epoch=150, batch_size=10,  verbose=2)"
   ]
  },
  {
   "cell_type": "code",
   "execution_count": 8,
   "metadata": {
    "collapsed": false
   },
   "outputs": [
    {
     "name": "stdout",
     "output_type": "stream",
     "text": [
      "640/768 [========================>.....] - ETA: 0s\n",
      "acc: 79.43%\n"
     ]
    }
   ],
   "source": [
    "# evaluate the model\n",
    "scores = model.evaluate(X, Y)\n",
    "print(\"\\n%s: %.2f%%\" % (model.metrics_names[1], scores[1]*100))"
   ]
  },
  {
   "cell_type": "code",
   "execution_count": 9,
   "metadata": {
    "collapsed": true
   },
   "outputs": [],
   "source": [
    "# calculate predictions\n",
    "predictions = model.predict(X)"
   ]
  },
  {
   "cell_type": "code",
   "execution_count": 10,
   "metadata": {
    "collapsed": false
   },
   "outputs": [
    {
     "name": "stdout",
     "output_type": "stream",
     "text": [
      "[1.0, 0.0, 1.0, 0.0, 1.0, 0.0, 0.0, 1.0, 1.0, 0.0, 0.0, 1.0, 0.0, 1.0, 1.0, 0.0, 1.0, 0.0, 0.0, 0.0, 1.0, 0.0, 1.0, 0.0, 1.0, 1.0, 1.0, 0.0, 0.0, 0.0, 0.0, 1.0, 0.0, 0.0, 1.0, 0.0, 1.0, 1.0, 0.0, 1.0, 1.0, 1.0, 0.0, 1.0, 1.0, 1.0, 1.0, 0.0, 1.0, 0.0, 0.0, 0.0, 0.0, 1.0, 1.0, 0.0, 1.0, 0.0, 1.0, 0.0, 0.0, 1.0, 0.0, 1.0, 1.0, 0.0, 0.0, 1.0, 0.0, 0.0, 0.0, 1.0, 1.0, 0.0, 0.0, 0.0, 0.0, 0.0, 1.0, 0.0, 0.0, 0.0, 0.0, 0.0, 1.0, 0.0, 1.0, 0.0, 1.0, 0.0, 0.0, 0.0, 0.0, 0.0, 0.0, 1.0, 0.0, 0.0, 0.0, 1.0, 1.0, 1.0, 0.0, 0.0, 0.0, 0.0, 0.0, 1.0, 0.0, 0.0, 1.0, 1.0, 0.0, 0.0, 1.0, 1.0, 1.0, 0.0, 0.0, 0.0, 1.0, 0.0, 0.0, 0.0, 0.0, 0.0, 0.0, 0.0, 0.0, 0.0, 1.0, 1.0, 1.0, 0.0, 0.0, 0.0, 0.0, 0.0, 0.0, 0.0, 0.0, 0.0, 0.0, 1.0, 1.0, 0.0, 0.0, 0.0, 1.0, 0.0, 1.0, 0.0, 1.0, 1.0, 1.0, 1.0, 0.0, 0.0, 0.0, 1.0, 0.0, 0.0, 0.0, 0.0, 0.0, 0.0, 1.0, 1.0, 0.0, 0.0, 0.0, 1.0, 1.0, 0.0, 0.0, 1.0, 0.0, 0.0, 1.0, 1.0, 0.0, 0.0, 0.0, 0.0, 1.0, 1.0, 1.0, 0.0, 0.0, 1.0, 0.0, 1.0, 1.0, 1.0, 0.0, 1.0, 0.0, 0.0, 0.0, 1.0, 0.0, 0.0, 0.0, 0.0, 0.0, 0.0, 1.0, 1.0, 0.0, 1.0, 0.0, 0.0, 1.0, 0.0, 1.0, 1.0, 0.0, 0.0, 0.0, 1.0, 0.0, 1.0, 0.0, 0.0, 0.0, 0.0, 0.0, 1.0, 1.0, 0.0, 1.0, 1.0, 0.0, 1.0, 0.0, 1.0, 1.0, 1.0, 1.0, 0.0, 0.0, 0.0, 1.0, 1.0, 1.0, 1.0, 1.0, 0.0, 1.0, 0.0, 0.0, 0.0, 0.0, 0.0, 1.0, 0.0, 0.0, 0.0, 1.0, 1.0, 1.0, 1.0, 0.0, 1.0, 1.0, 0.0, 1.0, 1.0, 0.0, 1.0, 1.0, 0.0, 0.0, 0.0, 0.0, 0.0, 0.0, 0.0, 0.0, 0.0, 1.0, 1.0, 0.0, 1.0, 0.0, 1.0, 1.0, 0.0, 0.0, 0.0, 0.0, 0.0, 1.0, 1.0, 0.0, 1.0, 1.0, 0.0, 1.0, 0.0, 1.0, 1.0, 0.0, 0.0, 0.0, 0.0, 1.0, 0.0, 0.0, 0.0, 0.0, 0.0, 0.0, 0.0, 1.0, 0.0, 0.0, 1.0, 0.0, 1.0, 0.0, 0.0, 0.0, 1.0, 0.0, 0.0, 0.0, 1.0, 0.0, 0.0, 1.0, 0.0, 1.0, 0.0, 0.0, 1.0, 0.0, 1.0, 1.0, 1.0, 0.0, 0.0, 0.0, 0.0, 0.0, 0.0, 0.0, 1.0, 0.0, 0.0, 0.0, 0.0, 0.0, 0.0, 0.0, 1.0, 1.0, 1.0, 0.0, 1.0, 1.0, 1.0, 0.0, 1.0, 0.0, 0.0, 0.0, 0.0, 0.0, 0.0, 1.0, 0.0, 0.0, 0.0, 1.0, 1.0, 0.0, 0.0, 1.0, 0.0, 0.0, 0.0, 0.0, 0.0, 0.0, 0.0, 0.0, 0.0, 1.0, 0.0, 0.0, 1.0, 0.0, 0.0, 1.0, 0.0, 0.0, 0.0, 0.0, 1.0, 0.0, 0.0, 0.0, 0.0, 1.0, 1.0, 0.0, 0.0, 1.0, 1.0, 0.0, 0.0, 0.0, 0.0, 0.0, 0.0, 0.0, 1.0, 0.0, 0.0, 0.0, 0.0, 0.0, 0.0, 1.0, 1.0, 0.0, 1.0, 0.0, 0.0, 0.0, 0.0, 0.0, 0.0, 0.0, 1.0, 1.0, 1.0, 0.0, 0.0, 1.0, 0.0, 0.0, 1.0, 1.0, 1.0, 0.0, 0.0, 0.0, 0.0, 0.0, 0.0, 0.0, 0.0, 0.0, 1.0, 0.0, 0.0, 1.0, 0.0, 0.0, 0.0, 0.0, 0.0, 0.0, 0.0, 0.0, 0.0, 0.0, 1.0, 1.0, 0.0, 0.0, 1.0, 0.0, 0.0, 0.0, 0.0, 0.0, 0.0, 1.0, 0.0, 0.0, 0.0, 1.0, 1.0, 1.0, 1.0, 0.0, 1.0, 0.0, 0.0, 0.0, 1.0, 0.0, 0.0, 0.0, 0.0, 1.0, 1.0, 0.0, 0.0, 0.0, 0.0, 0.0, 0.0, 1.0, 0.0, 0.0, 0.0, 0.0, 0.0, 0.0, 0.0, 0.0, 1.0, 1.0, 1.0, 0.0, 0.0, 0.0, 0.0, 0.0, 1.0, 1.0, 0.0, 0.0, 0.0, 0.0, 0.0, 0.0, 0.0, 0.0, 0.0, 0.0, 1.0, 0.0, 0.0, 0.0, 0.0, 1.0, 0.0, 0.0, 0.0, 0.0, 1.0, 1.0, 0.0, 1.0, 0.0, 0.0, 0.0, 0.0, 0.0, 0.0, 1.0, 0.0, 0.0, 1.0, 0.0, 1.0, 1.0, 0.0, 0.0, 0.0, 0.0, 0.0, 0.0, 1.0, 0.0, 0.0, 0.0, 0.0, 0.0, 0.0, 0.0, 1.0, 0.0, 1.0, 1.0, 0.0, 0.0, 0.0, 1.0, 1.0, 0.0, 1.0, 0.0, 1.0, 0.0, 1.0, 0.0, 1.0, 0.0, 1.0, 0.0, 0.0, 0.0, 1.0, 0.0, 0.0, 0.0, 0.0, 1.0, 1.0, 1.0, 1.0, 0.0, 1.0, 0.0, 0.0, 1.0, 1.0, 0.0, 1.0, 0.0, 0.0, 0.0, 1.0, 1.0, 0.0, 0.0, 1.0, 0.0, 0.0, 0.0, 0.0, 0.0, 1.0, 0.0, 1.0, 0.0, 0.0, 0.0, 0.0, 1.0, 0.0, 0.0, 0.0, 0.0, 0.0, 1.0, 1.0, 0.0, 0.0, 1.0, 1.0, 1.0, 1.0, 0.0, 0.0, 0.0, 0.0, 1.0, 0.0, 1.0, 0.0, 1.0, 1.0, 0.0, 1.0, 1.0, 1.0, 1.0, 1.0, 0.0, 1.0, 1.0, 0.0, 1.0, 1.0, 0.0, 0.0, 0.0, 0.0, 1.0, 1.0, 0.0, 1.0, 0.0, 0.0, 1.0, 0.0, 0.0, 0.0, 0.0, 0.0, 0.0, 0.0, 1.0, 0.0, 1.0, 0.0, 1.0, 0.0, 1.0, 1.0, 1.0, 0.0, 1.0, 0.0, 1.0, 1.0, 0.0, 0.0, 0.0, 0.0, 0.0, 1.0, 0.0, 0.0, 0.0, 1.0, 0.0, 0.0, 1.0, 1.0, 0.0, 0.0, 0.0, 0.0, 0.0, 1.0, 0.0, 0.0, 0.0, 0.0, 0.0, 0.0, 0.0, 0.0, 0.0, 1.0, 0.0, 0.0, 0.0, 0.0, 0.0, 0.0, 0.0, 1.0, 0.0, 0.0, 1.0, 1.0, 0.0, 1.0, 0.0, 1.0, 1.0, 1.0, 0.0, 0.0, 1.0, 1.0, 0.0, 0.0, 1.0, 0.0, 1.0, 0.0, 1.0, 0.0, 0.0, 0.0, 0.0, 1.0, 0.0]\n"
     ]
    }
   ],
   "source": [
    "# round predictions\n",
    "rounded = [round(x[0]) for x in predictions]\n",
    "print(rounded)"
   ]
  },
  {
   "cell_type": "code",
   "execution_count": null,
   "metadata": {
    "collapsed": true
   },
   "outputs": [],
   "source": []
  }
 ],
 "metadata": {
  "kernelspec": {
   "display_name": "Python 3",
   "language": "python",
   "name": "python3"
  },
  "language_info": {
   "codemirror_mode": {
    "name": "ipython",
    "version": 3
   },
   "file_extension": ".py",
   "mimetype": "text/x-python",
   "name": "python",
   "nbconvert_exporter": "python",
   "pygments_lexer": "ipython3",
   "version": "3.5.2"
  }
 },
 "nbformat": 4,
 "nbformat_minor": 0
}
