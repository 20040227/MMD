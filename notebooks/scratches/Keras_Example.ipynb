{
 "cells": [
  {
   "cell_type": "code",
   "execution_count": 1,
   "metadata": {},
   "outputs": [
    {
     "name": "stderr",
     "output_type": "stream",
     "text": [
      "Using TensorFlow backend.\n"
     ]
    }
   ],
   "source": [
    "# Create first network with Keras\n",
    "## http://machinelearningmastery.com/tutorial-first-neural-network-python-keras/\n",
    "\n",
    "from keras.models import Sequential\n",
    "from keras.layers import Dense\n",
    "import numpy"
   ]
  },
  {
   "cell_type": "code",
   "execution_count": 2,
   "metadata": {
    "collapsed": true
   },
   "outputs": [],
   "source": [
    "# fix random seed for reproducibility\n",
    "seed = 7\n",
    "numpy.random.seed(seed)"
   ]
  },
  {
   "cell_type": "code",
   "execution_count": 3,
   "metadata": {},
   "outputs": [],
   "source": [
    "# load pima indians dataset\n",
    "dataset = numpy.loadtxt(\"../../datasets/pima-indians-diabetes.data\", delimiter=\",\")"
   ]
  },
  {
   "cell_type": "code",
   "execution_count": 4,
   "metadata": {
    "collapsed": true
   },
   "outputs": [],
   "source": [
    "# split into input (X) and output (Y) variables\n",
    "X = dataset[:,0:8]\n",
    "Y = dataset[:,8]"
   ]
  },
  {
   "cell_type": "code",
   "execution_count": 5,
   "metadata": {},
   "outputs": [
    {
     "name": "stderr",
     "output_type": "stream",
     "text": [
      "/usr/local/lib/python3.5/dist-packages/ipykernel/__main__.py:3: UserWarning: Update your `Dense` call to the Keras 2 API: `Dense(12, activation=\"relu\", input_dim=8, kernel_initializer=\"uniform\")`\n",
      "  app.launch_new_instance()\n",
      "/usr/local/lib/python3.5/dist-packages/ipykernel/__main__.py:4: UserWarning: Update your `Dense` call to the Keras 2 API: `Dense(8, activation=\"relu\", kernel_initializer=\"uniform\")`\n",
      "/usr/local/lib/python3.5/dist-packages/ipykernel/__main__.py:5: UserWarning: Update your `Dense` call to the Keras 2 API: `Dense(1, activation=\"sigmoid\", kernel_initializer=\"uniform\")`\n"
     ]
    }
   ],
   "source": [
    "# create model\n",
    "model = Sequential()\n",
    "model.add(Dense(12, input_dim=8, init='uniform', activation='relu'))\n",
    "model.add(Dense(8, init='uniform', activation='relu'))\n",
    "model.add(Dense(1, init='uniform', activation='sigmoid'))"
   ]
  },
  {
   "cell_type": "code",
   "execution_count": 6,
   "metadata": {},
   "outputs": [],
   "source": [
    "# Compile model\n",
    "model.compile(loss='binary_crossentropy', optimizer='adam', metrics=['accuracy'])"
   ]
  },
  {
   "cell_type": "code",
   "execution_count": 7,
   "metadata": {},
   "outputs": [
    {
     "name": "stderr",
     "output_type": "stream",
     "text": [
      "/usr/local/lib/python3.5/dist-packages/keras/models.py:826: UserWarning: The `nb_epoch` argument in `fit` has been renamed `epochs`.\n",
      "  warnings.warn('The `nb_epoch` argument in `fit` '\n"
     ]
    },
    {
     "name": "stdout",
     "output_type": "stream",
     "text": [
      "Epoch 1/150\n",
      "0s - loss: 0.6771 - acc: 0.6510\n",
      "Epoch 2/150\n",
      "0s - loss: 0.6585 - acc: 0.6510\n",
      "Epoch 3/150\n",
      "0s - loss: 0.6470 - acc: 0.6510\n",
      "Epoch 4/150\n",
      "0s - loss: 0.6392 - acc: 0.6510\n",
      "Epoch 5/150\n",
      "0s - loss: 0.6325 - acc: 0.6510\n",
      "Epoch 6/150\n",
      "0s - loss: 0.6185 - acc: 0.6510\n",
      "Epoch 7/150\n",
      "0s - loss: 0.6182 - acc: 0.6510\n",
      "Epoch 8/150\n",
      "0s - loss: 0.6133 - acc: 0.6510\n",
      "Epoch 9/150\n",
      "0s - loss: 0.6084 - acc: 0.6510\n",
      "Epoch 10/150\n",
      "0s - loss: 0.6171 - acc: 0.6510\n",
      "Epoch 11/150\n",
      "0s - loss: 0.6057 - acc: 0.6510\n",
      "Epoch 12/150\n",
      "0s - loss: 0.6040 - acc: 0.6510\n",
      "Epoch 13/150\n",
      "0s - loss: 0.6000 - acc: 0.6510\n",
      "Epoch 14/150\n",
      "0s - loss: 0.6035 - acc: 0.6510\n",
      "Epoch 15/150\n",
      "0s - loss: 0.5993 - acc: 0.6510\n",
      "Epoch 16/150\n",
      "0s - loss: 0.5990 - acc: 0.6510\n",
      "Epoch 17/150\n",
      "0s - loss: 0.5989 - acc: 0.6510\n",
      "Epoch 18/150\n",
      "0s - loss: 0.6008 - acc: 0.6510\n",
      "Epoch 19/150\n",
      "0s - loss: 0.5974 - acc: 0.6510\n",
      "Epoch 20/150\n",
      "0s - loss: 0.6006 - acc: 0.6510\n",
      "Epoch 21/150\n",
      "0s - loss: 0.5968 - acc: 0.6510\n",
      "Epoch 22/150\n",
      "0s - loss: 0.5958 - acc: 0.6510\n",
      "Epoch 23/150\n",
      "0s - loss: 0.5929 - acc: 0.6510\n",
      "Epoch 24/150\n",
      "0s - loss: 0.5999 - acc: 0.6510\n",
      "Epoch 25/150\n",
      "0s - loss: 0.5952 - acc: 0.6510\n",
      "Epoch 26/150\n",
      "0s - loss: 0.5995 - acc: 0.6510\n",
      "Epoch 27/150\n",
      "0s - loss: 0.5958 - acc: 0.6510\n",
      "Epoch 28/150\n",
      "0s - loss: 0.5895 - acc: 0.6510\n",
      "Epoch 29/150\n",
      "0s - loss: 0.5937 - acc: 0.6510\n",
      "Epoch 30/150\n",
      "0s - loss: 0.5906 - acc: 0.6510\n",
      "Epoch 31/150\n",
      "0s - loss: 0.5907 - acc: 0.6510\n",
      "Epoch 32/150\n",
      "0s - loss: 0.5904 - acc: 0.6510\n",
      "Epoch 33/150\n",
      "0s - loss: 0.5866 - acc: 0.6510\n",
      "Epoch 34/150\n",
      "0s - loss: 0.5912 - acc: 0.6510\n",
      "Epoch 35/150\n",
      "0s - loss: 0.5931 - acc: 0.6510\n",
      "Epoch 36/150\n",
      "0s - loss: 0.5842 - acc: 0.6510\n",
      "Epoch 37/150\n",
      "0s - loss: 0.5825 - acc: 0.6510\n",
      "Epoch 38/150\n",
      "0s - loss: 0.5936 - acc: 0.6510\n",
      "Epoch 39/150\n",
      "0s - loss: 0.5845 - acc: 0.6510\n",
      "Epoch 40/150\n",
      "0s - loss: 0.5857 - acc: 0.6510\n",
      "Epoch 41/150\n",
      "0s - loss: 0.5831 - acc: 0.6706\n",
      "Epoch 42/150\n",
      "0s - loss: 0.5824 - acc: 0.7057\n",
      "Epoch 43/150\n",
      "0s - loss: 0.5795 - acc: 0.7070\n",
      "Epoch 44/150\n",
      "0s - loss: 0.5868 - acc: 0.7083\n",
      "Epoch 45/150\n",
      "0s - loss: 0.5803 - acc: 0.7135\n",
      "Epoch 46/150\n",
      "0s - loss: 0.5776 - acc: 0.7018\n",
      "Epoch 47/150\n",
      "0s - loss: 0.5787 - acc: 0.7070\n",
      "Epoch 48/150\n",
      "0s - loss: 0.5767 - acc: 0.6966\n",
      "Epoch 49/150\n",
      "0s - loss: 0.5751 - acc: 0.7135\n",
      "Epoch 50/150\n",
      "0s - loss: 0.5760 - acc: 0.7109\n",
      "Epoch 51/150\n",
      "0s - loss: 0.5737 - acc: 0.7148\n",
      "Epoch 52/150\n",
      "0s - loss: 0.5727 - acc: 0.7122\n",
      "Epoch 53/150\n",
      "0s - loss: 0.5748 - acc: 0.7070\n",
      "Epoch 54/150\n",
      "0s - loss: 0.5756 - acc: 0.7005\n",
      "Epoch 55/150\n",
      "0s - loss: 0.5726 - acc: 0.7057\n",
      "Epoch 56/150\n",
      "0s - loss: 0.5741 - acc: 0.7070\n",
      "Epoch 57/150\n",
      "0s - loss: 0.5701 - acc: 0.7070\n",
      "Epoch 58/150\n",
      "0s - loss: 0.5730 - acc: 0.7031\n",
      "Epoch 59/150\n",
      "0s - loss: 0.5713 - acc: 0.7161\n",
      "Epoch 60/150\n",
      "0s - loss: 0.5707 - acc: 0.7031\n",
      "Epoch 61/150\n",
      "0s - loss: 0.5681 - acc: 0.7070\n",
      "Epoch 62/150\n",
      "0s - loss: 0.5715 - acc: 0.7188\n",
      "Epoch 63/150\n",
      "0s - loss: 0.5696 - acc: 0.7096\n",
      "Epoch 64/150\n",
      "0s - loss: 0.5689 - acc: 0.7148\n",
      "Epoch 65/150\n",
      "0s - loss: 0.5651 - acc: 0.7044\n",
      "Epoch 66/150\n",
      "0s - loss: 0.5633 - acc: 0.7057\n",
      "Epoch 67/150\n",
      "0s - loss: 0.5608 - acc: 0.7135\n",
      "Epoch 68/150\n",
      "0s - loss: 0.5645 - acc: 0.7083\n",
      "Epoch 69/150\n",
      "0s - loss: 0.5618 - acc: 0.7240\n",
      "Epoch 70/150\n",
      "0s - loss: 0.5651 - acc: 0.6992\n",
      "Epoch 71/150\n",
      "0s - loss: 0.5592 - acc: 0.7161\n",
      "Epoch 72/150\n",
      "0s - loss: 0.5586 - acc: 0.7070\n",
      "Epoch 73/150\n",
      "0s - loss: 0.5574 - acc: 0.7161\n",
      "Epoch 74/150\n",
      "0s - loss: 0.5608 - acc: 0.7096\n",
      "Epoch 75/150\n",
      "0s - loss: 0.5548 - acc: 0.7148\n",
      "Epoch 76/150\n",
      "0s - loss: 0.5565 - acc: 0.7083\n",
      "Epoch 77/150\n",
      "0s - loss: 0.5533 - acc: 0.7214\n",
      "Epoch 78/150\n",
      "0s - loss: 0.5512 - acc: 0.7148\n",
      "Epoch 79/150\n",
      "0s - loss: 0.5542 - acc: 0.7148\n",
      "Epoch 80/150\n",
      "0s - loss: 0.5503 - acc: 0.7240\n",
      "Epoch 81/150\n",
      "0s - loss: 0.5502 - acc: 0.7201\n",
      "Epoch 82/150\n",
      "0s - loss: 0.5554 - acc: 0.7148\n",
      "Epoch 83/150\n",
      "0s - loss: 0.5513 - acc: 0.7214\n",
      "Epoch 84/150\n",
      "0s - loss: 0.5461 - acc: 0.7240\n",
      "Epoch 85/150\n",
      "0s - loss: 0.5499 - acc: 0.7031\n",
      "Epoch 86/150\n",
      "0s - loss: 0.5484 - acc: 0.7279\n",
      "Epoch 87/150\n",
      "0s - loss: 0.5445 - acc: 0.7174\n",
      "Epoch 88/150\n",
      "0s - loss: 0.5431 - acc: 0.7253\n",
      "Epoch 89/150\n",
      "0s - loss: 0.5522 - acc: 0.7331\n",
      "Epoch 90/150\n",
      "0s - loss: 0.5445 - acc: 0.7214\n",
      "Epoch 91/150\n",
      "0s - loss: 0.5449 - acc: 0.7253\n",
      "Epoch 92/150\n",
      "0s - loss: 0.5422 - acc: 0.7201\n",
      "Epoch 93/150\n",
      "0s - loss: 0.5425 - acc: 0.7188\n",
      "Epoch 94/150\n",
      "0s - loss: 0.5427 - acc: 0.7279\n",
      "Epoch 95/150\n",
      "0s - loss: 0.5358 - acc: 0.7292\n",
      "Epoch 96/150\n",
      "0s - loss: 0.5426 - acc: 0.7357\n",
      "Epoch 97/150\n",
      "0s - loss: 0.5385 - acc: 0.7188\n",
      "Epoch 98/150\n",
      "0s - loss: 0.5359 - acc: 0.7305\n",
      "Epoch 99/150\n",
      "0s - loss: 0.5317 - acc: 0.7318\n",
      "Epoch 100/150\n",
      "0s - loss: 0.5377 - acc: 0.7240\n",
      "Epoch 101/150\n",
      "0s - loss: 0.5336 - acc: 0.7266\n",
      "Epoch 102/150\n",
      "0s - loss: 0.5362 - acc: 0.7305\n",
      "Epoch 103/150\n",
      "0s - loss: 0.5408 - acc: 0.7214\n",
      "Epoch 104/150\n",
      "0s - loss: 0.5386 - acc: 0.7370\n",
      "Epoch 105/150\n",
      "0s - loss: 0.5316 - acc: 0.7383\n",
      "Epoch 106/150\n",
      "0s - loss: 0.5311 - acc: 0.7305\n",
      "Epoch 107/150\n",
      "0s - loss: 0.5328 - acc: 0.7383\n",
      "Epoch 108/150\n",
      "0s - loss: 0.5326 - acc: 0.7227\n",
      "Epoch 109/150\n",
      "0s - loss: 0.5275 - acc: 0.7396\n",
      "Epoch 110/150\n",
      "0s - loss: 0.5298 - acc: 0.7305\n",
      "Epoch 111/150\n",
      "0s - loss: 0.5314 - acc: 0.7318\n",
      "Epoch 112/150\n",
      "0s - loss: 0.5295 - acc: 0.7214\n",
      "Epoch 113/150\n",
      "0s - loss: 0.5242 - acc: 0.7370\n",
      "Epoch 114/150\n",
      "0s - loss: 0.5273 - acc: 0.7279\n",
      "Epoch 115/150\n",
      "0s - loss: 0.5187 - acc: 0.7409\n",
      "Epoch 116/150\n",
      "0s - loss: 0.5243 - acc: 0.7396\n",
      "Epoch 117/150\n",
      "0s - loss: 0.5209 - acc: 0.7383\n",
      "Epoch 118/150\n",
      "0s - loss: 0.5286 - acc: 0.7396\n",
      "Epoch 119/150\n",
      "0s - loss: 0.5184 - acc: 0.7396\n",
      "Epoch 120/150\n",
      "0s - loss: 0.5163 - acc: 0.7461\n",
      "Epoch 121/150\n",
      "0s - loss: 0.5138 - acc: 0.7552\n",
      "Epoch 122/150\n",
      "0s - loss: 0.5141 - acc: 0.7448\n",
      "Epoch 123/150\n",
      "0s - loss: 0.5119 - acc: 0.7435\n",
      "Epoch 124/150\n",
      "0s - loss: 0.5053 - acc: 0.7604\n",
      "Epoch 125/150\n",
      "0s - loss: 0.5042 - acc: 0.7565\n",
      "Epoch 126/150\n",
      "0s - loss: 0.5068 - acc: 0.7487\n",
      "Epoch 127/150\n",
      "0s - loss: 0.5083 - acc: 0.7539\n",
      "Epoch 128/150\n",
      "0s - loss: 0.5025 - acc: 0.7578\n",
      "Epoch 129/150\n",
      "0s - loss: 0.5144 - acc: 0.7552\n",
      "Epoch 130/150\n",
      "0s - loss: 0.5006 - acc: 0.7708\n",
      "Epoch 131/150\n",
      "0s - loss: 0.5048 - acc: 0.7461\n",
      "Epoch 132/150\n",
      "0s - loss: 0.4967 - acc: 0.7617\n",
      "Epoch 133/150\n",
      "0s - loss: 0.5066 - acc: 0.7565\n",
      "Epoch 134/150\n",
      "0s - loss: 0.4986 - acc: 0.7578\n",
      "Epoch 135/150\n",
      "0s - loss: 0.4952 - acc: 0.7656\n",
      "Epoch 136/150\n",
      "0s - loss: 0.4942 - acc: 0.7565\n",
      "Epoch 137/150\n",
      "0s - loss: 0.5020 - acc: 0.7500\n",
      "Epoch 138/150\n",
      "0s - loss: 0.4926 - acc: 0.7786\n",
      "Epoch 139/150\n",
      "0s - loss: 0.4815 - acc: 0.7826\n",
      "Epoch 140/150\n",
      "0s - loss: 0.4936 - acc: 0.7604\n",
      "Epoch 141/150\n",
      "0s - loss: 0.4834 - acc: 0.7747\n",
      "Epoch 142/150\n",
      "0s - loss: 0.4916 - acc: 0.7526\n",
      "Epoch 143/150\n",
      "0s - loss: 0.4859 - acc: 0.7643\n",
      "Epoch 144/150\n",
      "0s - loss: 0.4870 - acc: 0.7695\n",
      "Epoch 145/150\n",
      "0s - loss: 0.4894 - acc: 0.7643\n",
      "Epoch 146/150\n",
      "0s - loss: 0.4850 - acc: 0.7669\n",
      "Epoch 147/150\n",
      "0s - loss: 0.4826 - acc: 0.7799\n",
      "Epoch 148/150\n",
      "0s - loss: 0.4843 - acc: 0.7734\n",
      "Epoch 149/150\n",
      "0s - loss: 0.4753 - acc: 0.7708\n",
      "Epoch 150/150\n",
      "0s - loss: 0.4758 - acc: 0.7604\n"
     ]
    },
    {
     "data": {
      "text/plain": [
       "<keras.callbacks.History at 0x7f64d53987f0>"
      ]
     },
     "execution_count": 7,
     "metadata": {},
     "output_type": "execute_result"
    }
   ],
   "source": [
    "# Fit the model\n",
    "model.fit(X, Y, nb_epoch=150, batch_size=10,  verbose=2)"
   ]
  },
  {
   "cell_type": "code",
   "execution_count": 8,
   "metadata": {},
   "outputs": [
    {
     "name": "stdout",
     "output_type": "stream",
     "text": [
      " 32/768 [>.............................] - ETA: 0s\n",
      "acc: 74.48%\n"
     ]
    }
   ],
   "source": [
    "# evaluate the model\n",
    "scores = model.evaluate(X, Y)\n",
    "print(\"\\n%s: %.2f%%\" % (model.metrics_names[1], scores[1]*100))"
   ]
  },
  {
   "cell_type": "code",
   "execution_count": 9,
   "metadata": {
    "collapsed": true
   },
   "outputs": [],
   "source": [
    "# calculate predictions\n",
    "predictions = model.predict(X)"
   ]
  },
  {
   "cell_type": "code",
   "execution_count": 10,
   "metadata": {},
   "outputs": [
    {
     "name": "stdout",
     "output_type": "stream",
     "text": [
      "[1.0, 0.0, 1.0, 0.0, 1.0, 0.0, 0.0, 1.0, 1.0, 1.0, 0.0, 1.0, 1.0, 1.0, 1.0, 0.0, 1.0, 0.0, 0.0, 0.0, 1.0, 0.0, 1.0, 0.0, 1.0, 1.0, 1.0, 0.0, 1.0, 0.0, 0.0, 1.0, 0.0, 0.0, 1.0, 1.0, 1.0, 0.0, 0.0, 1.0, 1.0, 1.0, 0.0, 1.0, 1.0, 1.0, 1.0, 0.0, 1.0, 0.0, 0.0, 0.0, 0.0, 1.0, 1.0, 0.0, 1.0, 1.0, 1.0, 0.0, 0.0, 1.0, 0.0, 1.0, 1.0, 0.0, 0.0, 0.0, 0.0, 0.0, 0.0, 1.0, 1.0, 0.0, 0.0, 0.0, 0.0, 0.0, 1.0, 0.0, 0.0, 0.0, 0.0, 0.0, 1.0, 0.0, 1.0, 0.0, 1.0, 0.0, 0.0, 1.0, 0.0, 1.0, 0.0, 1.0, 0.0, 0.0, 0.0, 1.0, 1.0, 0.0, 0.0, 0.0, 0.0, 1.0, 0.0, 1.0, 0.0, 0.0, 1.0, 1.0, 0.0, 0.0, 1.0, 1.0, 1.0, 0.0, 0.0, 0.0, 1.0, 0.0, 0.0, 1.0, 0.0, 0.0, 1.0, 0.0, 1.0, 0.0, 1.0, 1.0, 1.0, 0.0, 0.0, 0.0, 0.0, 0.0, 0.0, 1.0, 1.0, 0.0, 0.0, 0.0, 1.0, 0.0, 0.0, 1.0, 1.0, 0.0, 1.0, 0.0, 1.0, 1.0, 1.0, 1.0, 0.0, 0.0, 0.0, 1.0, 0.0, 1.0, 1.0, 0.0, 0.0, 1.0, 1.0, 1.0, 1.0, 0.0, 0.0, 1.0, 0.0, 0.0, 0.0, 1.0, 0.0, 0.0, 1.0, 1.0, 0.0, 0.0, 0.0, 0.0, 1.0, 1.0, 1.0, 0.0, 1.0, 1.0, 0.0, 1.0, 1.0, 1.0, 0.0, 1.0, 0.0, 0.0, 1.0, 1.0, 0.0, 1.0, 0.0, 0.0, 1.0, 0.0, 1.0, 1.0, 0.0, 1.0, 0.0, 0.0, 1.0, 0.0, 1.0, 1.0, 1.0, 1.0, 0.0, 1.0, 1.0, 1.0, 0.0, 1.0, 0.0, 0.0, 0.0, 1.0, 1.0, 0.0, 1.0, 1.0, 0.0, 1.0, 0.0, 1.0, 1.0, 1.0, 1.0, 0.0, 0.0, 0.0, 0.0, 1.0, 1.0, 1.0, 1.0, 1.0, 1.0, 0.0, 0.0, 0.0, 0.0, 0.0, 1.0, 0.0, 0.0, 0.0, 1.0, 1.0, 1.0, 1.0, 0.0, 1.0, 1.0, 0.0, 1.0, 1.0, 0.0, 1.0, 1.0, 0.0, 0.0, 0.0, 0.0, 0.0, 0.0, 0.0, 0.0, 0.0, 1.0, 1.0, 1.0, 1.0, 0.0, 1.0, 1.0, 1.0, 0.0, 0.0, 0.0, 0.0, 1.0, 1.0, 1.0, 1.0, 1.0, 0.0, 1.0, 0.0, 1.0, 1.0, 0.0, 1.0, 0.0, 0.0, 1.0, 0.0, 1.0, 1.0, 0.0, 0.0, 1.0, 0.0, 1.0, 0.0, 0.0, 1.0, 1.0, 1.0, 1.0, 0.0, 0.0, 1.0, 0.0, 0.0, 1.0, 1.0, 0.0, 0.0, 1.0, 0.0, 1.0, 0.0, 0.0, 1.0, 0.0, 0.0, 1.0, 1.0, 0.0, 0.0, 0.0, 1.0, 0.0, 1.0, 1.0, 0.0, 0.0, 0.0, 0.0, 0.0, 0.0, 0.0, 0.0, 1.0, 1.0, 1.0, 1.0, 1.0, 1.0, 1.0, 0.0, 1.0, 1.0, 0.0, 1.0, 0.0, 0.0, 0.0, 1.0, 0.0, 0.0, 0.0, 1.0, 1.0, 0.0, 0.0, 1.0, 0.0, 0.0, 0.0, 0.0, 0.0, 0.0, 0.0, 1.0, 0.0, 1.0, 0.0, 1.0, 1.0, 0.0, 0.0, 1.0, 1.0, 1.0, 0.0, 0.0, 1.0, 0.0, 1.0, 1.0, 0.0, 1.0, 1.0, 0.0, 0.0, 1.0, 1.0, 0.0, 1.0, 0.0, 0.0, 1.0, 1.0, 0.0, 1.0, 0.0, 0.0, 1.0, 0.0, 0.0, 0.0, 1.0, 1.0, 0.0, 1.0, 1.0, 1.0, 0.0, 0.0, 0.0, 0.0, 0.0, 1.0, 1.0, 1.0, 0.0, 0.0, 1.0, 0.0, 0.0, 1.0, 1.0, 1.0, 0.0, 0.0, 0.0, 0.0, 0.0, 0.0, 1.0, 0.0, 0.0, 1.0, 1.0, 0.0, 1.0, 1.0, 0.0, 0.0, 0.0, 0.0, 1.0, 0.0, 0.0, 0.0, 0.0, 1.0, 1.0, 0.0, 0.0, 1.0, 0.0, 0.0, 1.0, 0.0, 1.0, 0.0, 1.0, 0.0, 0.0, 0.0, 1.0, 1.0, 1.0, 1.0, 0.0, 1.0, 0.0, 0.0, 0.0, 1.0, 0.0, 1.0, 0.0, 0.0, 1.0, 1.0, 0.0, 0.0, 0.0, 1.0, 0.0, 0.0, 1.0, 1.0, 0.0, 0.0, 0.0, 0.0, 0.0, 0.0, 0.0, 1.0, 1.0, 1.0, 0.0, 1.0, 0.0, 0.0, 0.0, 1.0, 0.0, 0.0, 0.0, 0.0, 1.0, 0.0, 0.0, 1.0, 0.0, 0.0, 0.0, 1.0, 0.0, 0.0, 1.0, 1.0, 1.0, 1.0, 0.0, 0.0, 0.0, 1.0, 1.0, 1.0, 1.0, 1.0, 0.0, 0.0, 0.0, 0.0, 0.0, 1.0, 0.0, 0.0, 1.0, 0.0, 1.0, 1.0, 0.0, 0.0, 0.0, 0.0, 0.0, 1.0, 1.0, 1.0, 0.0, 0.0, 0.0, 0.0, 0.0, 0.0, 1.0, 1.0, 1.0, 1.0, 0.0, 0.0, 0.0, 0.0, 1.0, 0.0, 1.0, 0.0, 1.0, 0.0, 1.0, 1.0, 1.0, 0.0, 1.0, 1.0, 0.0, 0.0, 1.0, 0.0, 0.0, 0.0, 0.0, 1.0, 1.0, 0.0, 1.0, 0.0, 1.0, 0.0, 0.0, 1.0, 1.0, 0.0, 1.0, 0.0, 0.0, 0.0, 0.0, 0.0, 1.0, 0.0, 1.0, 0.0, 0.0, 0.0, 0.0, 0.0, 1.0, 0.0, 1.0, 0.0, 0.0, 0.0, 0.0, 0.0, 0.0, 0.0, 1.0, 0.0, 0.0, 1.0, 1.0, 0.0, 1.0, 1.0, 1.0, 1.0, 1.0, 0.0, 0.0, 0.0, 0.0, 0.0, 0.0, 1.0, 0.0, 1.0, 0.0, 0.0, 1.0, 1.0, 1.0, 1.0, 1.0, 0.0, 1.0, 0.0, 1.0, 1.0, 1.0, 0.0, 0.0, 1.0, 0.0, 1.0, 1.0, 0.0, 1.0, 0.0, 0.0, 1.0, 0.0, 1.0, 1.0, 1.0, 0.0, 0.0, 1.0, 1.0, 0.0, 1.0, 0.0, 1.0, 0.0, 1.0, 1.0, 0.0, 0.0, 1.0, 1.0, 1.0, 1.0, 1.0, 0.0, 0.0, 0.0, 1.0, 1.0, 1.0, 1.0, 1.0, 1.0, 0.0, 0.0, 1.0, 1.0, 0.0, 1.0, 0.0, 0.0, 1.0, 1.0, 1.0, 0.0, 0.0, 1.0, 0.0, 0.0, 0.0, 0.0, 0.0, 1.0, 0.0, 0.0, 0.0, 0.0, 0.0, 0.0, 0.0, 1.0, 0.0, 0.0, 1.0, 1.0, 1.0, 1.0, 0.0, 1.0, 1.0, 1.0, 0.0, 0.0, 1.0, 1.0, 1.0, 1.0, 1.0, 0.0, 1.0, 0.0, 1.0, 0.0, 1.0, 0.0, 0.0, 1.0, 0.0]\n"
     ]
    }
   ],
   "source": [
    "# round predictions\n",
    "rounded = [round(x[0]) for x in predictions]\n",
    "print(rounded)"
   ]
  },
  {
   "cell_type": "code",
   "execution_count": null,
   "metadata": {
    "collapsed": true
   },
   "outputs": [],
   "source": []
  }
 ],
 "metadata": {
  "kernelspec": {
   "display_name": "Python 3",
   "language": "python",
   "name": "python3"
  },
  "language_info": {
   "codemirror_mode": {
    "name": "ipython",
    "version": 3
   },
   "file_extension": ".py",
   "mimetype": "text/x-python",
   "name": "python",
   "nbconvert_exporter": "python",
   "pygments_lexer": "ipython3",
   "version": "3.5.2"
  }
 },
 "nbformat": 4,
 "nbformat_minor": 1
}
