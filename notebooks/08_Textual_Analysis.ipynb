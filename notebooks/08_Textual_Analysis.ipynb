{
 "cells": [
  {
   "cell_type": "markdown",
   "metadata": {},
   "source": [
    "Mestrado em Modelagem Matematica da Informacao\n",
    "----------------------------------------------\n",
    "Disciplina: Modelagem e Mineracao de Dados\n",
    "------------------------------------------\n",
    "\n",
    "Master Program - Mathematical Modeling of Information\n",
    "-----------------------------------------------------\n",
    "Course: Data Mining and Modeling\n",
    "--------------------------------\n",
    "\n",
    "Professor: Renato Rocha Souza\n",
    "-----------------------------"
   ]
  },
  {
   "cell_type": "markdown",
   "metadata": {},
   "source": [
    "### Topic: Textual Analysis"
   ]
  },
  {
   "cell_type": "markdown",
   "metadata": {},
   "source": [
    "Information on the Python Packages used:  \n",
    "http://docs.python.org/library/re.html  \n",
    "http://www.pythonware.com/library/pil/handbook/index.htm  \n",
    "http://nltk.org/  \n",
    "https://networkx.github.io/  \n",
    "https://github.com/grangier/python-goose  \n",
    "https://pypi.python.org/pypi/Topics  \n",
    "http://radimrehurek.com/gensim/  \n",
    "http://docs.python-requests.org/en/latest/  "
   ]
  },
  {
   "cell_type": "code",
   "execution_count": 1,
   "metadata": {
    "collapsed": false
   },
   "outputs": [],
   "source": [
    "import os\n",
    "import time\n",
    "import codecs\n",
    "import string\n",
    "import urllib2\n",
    "import requests\n",
    "import numpy as np\n",
    "import matplotlib.pyplot as plt\n",
    "import pandas as pd\n",
    "import nltk\n",
    "import networkx as nx\n",
    "import re\n",
    "import re2\n",
    "import gensim\n",
    "from collections import OrderedDict, Counter\n",
    "from bs4 import BeautifulSoup\n",
    "from goose import Goose #https://github.com/codelucas/newspaper\n",
    "from IPython.core.display import Image\n",
    "from Topics.onlineldavb import onlineldavb\n",
    "from Topics.visualization.wordcloud import make_wordcloud\n",
    "from Topics.visualization.topiccloud import GenCloud\n",
    "from Topics.visualization.printtopics import list_topics\n",
    "%matplotlib inline"
   ]
  },
  {
   "cell_type": "markdown",
   "metadata": {},
   "source": [
    "Specifying the path to the files"
   ]
  },
  {
   "cell_type": "code",
   "execution_count": 2,
   "metadata": {
    "collapsed": false
   },
   "outputs": [],
   "source": [
    "datapath = '/home/rsouza/Dropbox/Renato/ModMinDados/Git/datasets/'\n",
    "outputs = '/home/rsouza/Dropbox/Renato/ModMinDados/outputs/'\n",
    "oplexicon = 'oplexicon_v3.0/lexico_v3.0.txt'"
   ]
  },
  {
   "cell_type": "markdown",
   "metadata": {},
   "source": [
    "#### Basic Polarizing Functions for Sentiment Analysis"
   ]
  },
  {
   "cell_type": "markdown",
   "metadata": {},
   "source": [
    "Loading the polarized lexycom file - OpLexicon (BR)"
   ]
  },
  {
   "cell_type": "code",
   "execution_count": 3,
   "metadata": {
    "collapsed": false
   },
   "outputs": [
    {
     "name": "stdout",
     "output_type": "stream",
     "text": [
      "Corpus com 32119 palavras polarizadas\n"
     ]
    }
   ],
   "source": [
    "df_o = pd.read_csv(os.path.join(datapath,oplexicon), header=None, encoding='utf-8', usecols=[0,2], names=[u'palavra',u'polaridade'])\n",
    "df_o.drop_duplicates(subset=[u'palavra'], take_last=False, inplace=True)\n",
    "df_o = df_o.set_index(u'palavra')\n",
    "print(u'Corpus com {} palavras polarizadas'.format(len(df_o)))"
   ]
  },
  {
   "cell_type": "code",
   "execution_count": 4,
   "metadata": {
    "collapsed": false
   },
   "outputs": [],
   "source": [
    "def polariza_texto(texto, df1):\n",
    "    polaridades = []\n",
    "    ausentes = []\n",
    "    l_palavras = texto.split()\n",
    "    for palavra in l_palavras:\n",
    "        p = palavra.lower().strip()\n",
    "        if p in df1.index:\n",
    "            polaridades.append(df1.polaridade[p])\n",
    "        else:\n",
    "            ausentes.append(p)\n",
    "    num_pal = len(l_palavras)\n",
    "    num_pol = len(polaridades)\n",
    "    razao_pol = num_pol/float(num_pal) if num_pal else 0.0\n",
    "    polaridade = sum(polaridades)/float(num_pol) if num_pol else 0.0\n",
    "    #print('Foram polarizadas {} palavras de um total de {} ({:.2%})'.format(num_pol, num_pal, razao_pol))\n",
    "    #print('A polaridade mensurada do texto é de {:.3}'.format(polaridade))\n",
    "    return polaridade, ausentes"
   ]
  },
  {
   "cell_type": "code",
   "execution_count": 5,
   "metadata": {
    "collapsed": false
   },
   "outputs": [],
   "source": [
    "def polariza_counter(dicionario, df1):\n",
    "    polaridades = []\n",
    "    fator_div = 0\n",
    "    ausentes = []\n",
    "    for palavra, frequencia in dicionario.iteritems():\n",
    "        p = palavra.lower().strip()\n",
    "        if p in df1.index:\n",
    "            polaridades.append(df1.polaridade[p] * frequencia)\n",
    "            fator_div += frequencia\n",
    "        else:\n",
    "            ausentes.append((palavra,frequencia))\n",
    "    num_pal = len(dicionario)\n",
    "    num_pol = len(polaridades)\n",
    "    razao_pol = num_pol/float(num_pal) if num_pal else 0.0\n",
    "    polaridade = sum(polaridades)/float(fator_div)\n",
    "    print('Foram polarizadas {} palavras de um total de {} ({:.2%})'.format(num_pol, num_pal, razao_pol))\n",
    "    print('A polaridade mensurada do texto é de {:.3}'.format(polaridade))\n",
    "    return polaridade, ausentes"
   ]
  },
  {
   "cell_type": "markdown",
   "metadata": {},
   "source": [
    "#### Capturing some html pages from a newspaper:"
   ]
  },
  {
   "cell_type": "code",
   "execution_count": 55,
   "metadata": {
    "collapsed": false
   },
   "outputs": [],
   "source": [
    "url_uol = u'http://busca.uol.com.br/uol/?ref=homeuol&ad=on&q={}&start={}'\n",
    "query = u'Corrupção'\n",
    "results_pages_to_capture = 5"
   ]
  },
  {
   "cell_type": "code",
   "execution_count": 56,
   "metadata": {
    "collapsed": false
   },
   "outputs": [
    {
     "name": "stdout",
     "output_type": "stream",
     "text": [
      "Page 0 captured\n",
      "Page 10 captured\n",
      "Page 20 captured\n",
      "Page 30 captured\n",
      "Page 40 captured\n"
     ]
    }
   ],
   "source": [
    "rawpages = ''\n",
    "query4url = urllib2.quote(query.encode('utf8'))\n",
    "for i in range(0,10*(results_pages_to_capture),10):\n",
    "    try:\n",
    "        print(u'Page {} captured'.format(i)) \n",
    "        request = url_uol.format(query4url,str(i))\n",
    "        rawpages = rawpages + urllib2.urlopen(request).read()\n",
    "    except Exception as inst:\n",
    "        print type(inst)"
   ]
  },
  {
   "cell_type": "code",
   "execution_count": 54,
   "metadata": {
    "collapsed": false
   },
   "outputs": [
    {
     "name": "stdout",
     "output_type": "stream",
     "text": [
      "19 extracted links\n",
      "http://www1.folha.uol.com.br/colunas/demetriomagnoli/2014/11/1551703-500-anos-de-corrupcao.shtml\n",
      "http://www1.folha.uol.com.br/colunas/gregorioduvivier/2015/04/1618686-contra-a-corrupcao.shtml\n",
      "http://www1.folha.uol.com.br/colunas/raquelrolnik/2014/10/1535070-a-falacia-da-corrupcao.shtml\n",
      "http://www1.folha.uol.com.br/esporte/2015/05/1634207-ex-presidente-da-cbf-e-outros-6-cartolas-sao-detidos-por-corrupcao-na-suica.shtml\n",
      "http://www1.folha.uol.com.br/esporte/2015/05/1635890-entenda-melhor-o-escandalo-de-corrupcao-no-futebol-mundial.shtml\n",
      "http://www1.folha.uol.com.br/esporte/2015/07/1653009-para-romario-corrupcao-no-futebol-brasileiro-foi-culpada-pelo-7-a-1.shtml\n",
      "http://www1.folha.uol.com.br/mercado/2015/04/1619695-com-perdas-em-corrupcao-petrobras-tem-prejuizo-de-r-21-bi-em-2014.shtml\n",
      "http://www1.folha.uol.com.br/poder/2014/12/1558727-datafolha-mostra-que-68-responsabilizam-dilma-por-corrupcao.shtml\n",
      "http://www1.folha.uol.com.br/poder/2015/01/1575179-procuradoria-diz-nao-haver-provas-de-que-corrupcao-na-petrobras-acabou.shtml\n",
      "http://www1.folha.uol.com.br/poder/2015/03/1603638-a-corrupcao-e-uma-senhora-idosa-diz-dilma-apos-os-protestos.shtml\n",
      "http://www1.folha.uol.com.br/poder/2015/03/1603885-maioria-foi-as-ruas-contra-corrupcao-diz-datafolha.shtml\n",
      "http://www1.folha.uol.com.br/poder/2015/03/1604553-em-meio-a-crise-dilma-anuncia-medidas-de-combate-a-corrupcao.shtml\n",
      "http://www1.folha.uol.com.br/poder/2015/03/1605688-pacote-do-mpf-quer-aumentar-pena-e-tornar-corrupcao-crime-hediondo.shtml\n",
      "http://www1.folha.uol.com.br/poder/2015/03/1606342-para-84-presidente-sabia-de-corrupcao-dentro-da-petrobras.shtml\n",
      "http://www1.folha.uol.com.br/poder/2015/04/1615756-irritacao-com-corrupcao-foi-motivacao-para-maioria.shtml\n",
      "http://www1.folha.uol.com.br/poder/2015/05/1627288-tornar-a-corrupcao-crime-hediondo-e-inocuo-diz-ex-ministro-do-stj.shtml\n",
      "http://www1.folha.uol.com.br/poder/2015/06/1638414-entrevista-roberto-jefferson.shtml\n",
      "http://www1.folha.uol.com.br/poder/2015/06/1642113-perda-com-corrupcao-chega-a-r-280-mi-em-subsidiarias-da-petrobras.shtml\n",
      "http://www1.folha.uol.com.br/poder/2015/07/1653541-ao-stf-pf-diz-ter-encontrado-indicios-de-que-doacoes-eram-corrupcao.shtml\n"
     ]
    }
   ],
   "source": [
    "links = re.findall(r'(https?://\\S+)', rawpages)\n",
    "links = [l.strip('\"') for l in links]\n",
    "links = [l.split('\"')[0] for l in links]\n",
    "links = [l for l in links if l.endswith('shtml')]\n",
    "links = sorted(list(set(links)))\n",
    "\n",
    "print('{} extracted links'.format(len(links)))\n",
    "for link in links:\n",
    "    print link"
   ]
  },
  {
   "cell_type": "code",
   "execution_count": 9,
   "metadata": {
    "collapsed": false
   },
   "outputs": [],
   "source": [
    "def goose_extract(htmltxt):\n",
    "    g = Goose({'use_meta_language': False, 'target_language':'pt'})\n",
    "    article = g.extract(url=htmltxt)\n",
    "    title = article.title\n",
    "    meta = article.meta_description\n",
    "    txt = article.cleaned_text\n",
    "    fig = article.top_image.src\n",
    "    return txt, title, meta, fig"
   ]
  },
  {
   "cell_type": "code",
   "execution_count": 10,
   "metadata": {
    "collapsed": false
   },
   "outputs": [
    {
     "name": "stdout",
     "output_type": "stream",
     "text": [
      "http://www1.folha.uol.com.br/colunas/demetriomagnoli/2014/11/1551703-500-anos-de-corrupcao.shtml\n",
      "Sucesso!\n",
      "\n",
      "http://www1.folha.uol.com.br/colunas/gregorioduvivier/2015/04/1618686-contra-a-corrupcao.shtml\n",
      "Sucesso!\n",
      "\n",
      "http://www1.folha.uol.com.br/colunas/luizfelipeponde/2014/10/1527816-politica-corrupcao-e-pizza.shtml\n",
      "Sucesso!\n",
      "\n",
      "http://www1.folha.uol.com.br/colunas/raquelrolnik/2014/10/1535070-a-falacia-da-corrupcao.shtml\n",
      "Sucesso!\n",
      "\n",
      "http://www1.folha.uol.com.br/cotidiano/2015/04/1612495-ilha-da-indonesia-tornou-se-paraiso-da-corrupcao-dizem-turistas-e-moradores.shtml\n",
      "Sucesso!\n",
      "\n",
      "http://www1.folha.uol.com.br/esporte/2015/05/1634207-ex-presidente-da-cbf-e-outros-6-cartolas-sao-detidos-por-corrupcao-na-suica.shtml\n",
      "Sucesso!\n",
      "\n",
      "http://www1.folha.uol.com.br/esporte/2015/05/1635890-entenda-melhor-o-escandalo-de-corrupcao-no-futebol-mundial.shtml\n",
      "Sucesso!\n",
      "\n",
      "http://www1.folha.uol.com.br/esporte/2015/07/1653009-para-romario-corrupcao-no-futebol-brasileiro-foi-culpada-pelo-7-a-1.shtml\n",
      "Sucesso!\n",
      "\n",
      "http://www1.folha.uol.com.br/mercado/2015/04/1619695-com-perdas-em-corrupcao-petrobras-tem-prejuizo-de-r-21-bi-em-2014.shtml\n",
      "Sucesso!\n",
      "\n",
      "http://www1.folha.uol.com.br/poder/2014/10/1529797-doleiro-diz-que-corrupcao-na-petrobras-atingiu-alto-escalao.shtml\n",
      "Sucesso!\n",
      "\n",
      "http://www1.folha.uol.com.br/poder/2014/12/1558727-datafolha-mostra-que-68-responsabilizam-dilma-por-corrupcao.shtml\n",
      "Sucesso!\n",
      "\n",
      "http://www1.folha.uol.com.br/poder/2015/01/1575179-procuradoria-diz-nao-haver-provas-de-que-corrupcao-na-petrobras-acabou.shtml\n",
      "Sucesso!\n",
      "\n",
      "http://www1.folha.uol.com.br/poder/2015/03/1603638-a-corrupcao-e-uma-senhora-idosa-diz-dilma-apos-os-protestos.shtml\n",
      "Sucesso!\n",
      "\n",
      "http://www1.folha.uol.com.br/poder/2015/03/1603885-maioria-foi-as-ruas-contra-corrupcao-diz-datafolha.shtml\n",
      "Sucesso!\n",
      "\n",
      "http://www1.folha.uol.com.br/poder/2015/03/1604553-em-meio-a-crise-dilma-anuncia-medidas-de-combate-a-corrupcao.shtml\n",
      "Sucesso!\n",
      "\n",
      "http://www1.folha.uol.com.br/poder/2015/03/1605688-pacote-do-mpf-quer-aumentar-pena-e-tornar-corrupcao-crime-hediondo.shtml\n",
      "Sucesso!\n",
      "\n",
      "http://www1.folha.uol.com.br/poder/2015/03/1606342-para-84-presidente-sabia-de-corrupcao-dentro-da-petrobras.shtml\n",
      "Sucesso!\n",
      "\n",
      "http://www1.folha.uol.com.br/poder/2015/04/1615756-irritacao-com-corrupcao-foi-motivacao-para-maioria.shtml\n",
      "Sucesso!\n",
      "\n",
      "http://www1.folha.uol.com.br/poder/2015/05/1627288-tornar-a-corrupcao-crime-hediondo-e-inocuo-diz-ex-ministro-do-stj.shtml\n",
      "Sucesso!\n",
      "\n",
      "http://www1.folha.uol.com.br/poder/2015/06/1638414-entrevista-roberto-jefferson.shtml\n",
      "Sucesso!\n",
      "\n",
      "http://www1.folha.uol.com.br/poder/2015/06/1642113-perda-com-corrupcao-chega-a-r-280-mi-em-subsidiarias-da-petrobras.shtml\n",
      "Sucesso!\n",
      "\n",
      "http://www1.folha.uol.com.br/poder/2015/06/1649156-corrupcao-na-petrobras-e-descomunal-diz-janot-que-cobra-independencia.shtml\n",
      "Sucesso!\n",
      "\n",
      "http://www1.folha.uol.com.br/poder/2015/07/1653541-ao-stf-pf-diz-ter-encontrado-indicios-de-que-doacoes-eram-corrupcao.shtml\n",
      "Sucesso!\n",
      "\n"
     ]
    }
   ],
   "source": [
    "deupau = []\n",
    "for link in links:\n",
    "    try:\n",
    "        print(link)\n",
    "        rawpage = goose_extract(link)[0]\n",
    "        if rawpage:\n",
    "            f = codecs.open(os.path.join(outputs,'html_out','{}'.format(link[29:].replace('/','_'))), mode='w', encoding='utf-8')\n",
    "            f.write(rawpage)\n",
    "            f.close()\n",
    "            print('Sucesso!\\n')\n",
    "            time.sleep(1)\n",
    "    except Exception as inst:\n",
    "        print(inst)\n",
    "        print(type(inst))\n",
    "        deupau.append(link)\n",
    "        print('Insucesso!\\n')\n",
    "        time.sleep(0.3)"
   ]
  },
  {
   "cell_type": "code",
   "execution_count": 11,
   "metadata": {
    "collapsed": false
   },
   "outputs": [],
   "source": [
    "for biziu in deupau:\n",
    "    print biziu"
   ]
  },
  {
   "cell_type": "markdown",
   "metadata": {},
   "source": [
    "Examinando os arquivos e pastas:"
   ]
  },
  {
   "cell_type": "code",
   "execution_count": 12,
   "metadata": {
    "collapsed": false
   },
   "outputs": [
    {
     "name": "stdout",
     "output_type": "stream",
     "text": [
      "Files in the folder:\n",
      "1 -- esporte_2015_05_1635890-entenda-melhor-o-escandalo-de-corrupcao-no-futebol-mundial.shtml\n",
      "2 -- poder_2015_05_1627288-tornar-a-corrupcao-crime-hediondo-e-inocuo-diz-ex-ministro-do-stj.shtml\n",
      "3 -- poder_2015_03_1605688-pacote-do-mpf-quer-aumentar-pena-e-tornar-corrupcao-crime-hediondo.shtml\n",
      "4 -- colunas_gregorioduvivier_2015_04_1618686-contra-a-corrupcao.shtml\n",
      "5 -- poder_2015_06_1649156-corrupcao-na-petrobras-e-descomunal-diz-janot-que-cobra-independencia.shtml\n",
      "6 -- colunas_luizfelipeponde_2014_10_1527816-politica-corrupcao-e-pizza.shtml\n",
      "7 -- poder_2015_04_1615756-irritacao-com-corrupcao-foi-motivacao-para-maioria.shtml\n",
      "8 -- esporte_2015_07_1653009-para-romario-corrupcao-no-futebol-brasileiro-foi-culpada-pelo-7-a-1.shtml\n",
      "9 -- poder_2015_03_1603638-a-corrupcao-e-uma-senhora-idosa-diz-dilma-apos-os-protestos.shtml\n",
      "10 -- poder_2015_07_1653541-ao-stf-pf-diz-ter-encontrado-indicios-de-que-doacoes-eram-corrupcao.shtml\n",
      "11 -- poder_2015_01_1575179-procuradoria-diz-nao-haver-provas-de-que-corrupcao-na-petrobras-acabou.shtml\n",
      "12 -- cotidiano_2015_04_1612495-ilha-da-indonesia-tornou-se-paraiso-da-corrupcao-dizem-turistas-e-moradores.shtml\n",
      "13 -- poder_2015_03_1606342-para-84-presidente-sabia-de-corrupcao-dentro-da-petrobras.shtml\n",
      "14 -- poder_2015_03_1604553-em-meio-a-crise-dilma-anuncia-medidas-de-combate-a-corrupcao.shtml\n",
      "15 -- poder_2014_10_1529797-doleiro-diz-que-corrupcao-na-petrobras-atingiu-alto-escalao.shtml\n",
      "16 -- esporte_2015_05_1634207-ex-presidente-da-cbf-e-outros-6-cartolas-sao-detidos-por-corrupcao-na-suica.shtml\n",
      "17 -- poder_2015_06_1638414-entrevista-roberto-jefferson.shtml\n",
      "18 -- poder_2015_06_1642113-perda-com-corrupcao-chega-a-r-280-mi-em-subsidiarias-da-petrobras.shtml\n",
      "19 -- poder_2014_12_1558727-datafolha-mostra-que-68-responsabilizam-dilma-por-corrupcao.shtml\n",
      "20 -- colunas_raquelrolnik_2014_10_1535070-a-falacia-da-corrupcao.shtml\n",
      "21 -- poder_2015_03_1603885-maioria-foi-as-ruas-contra-corrupcao-diz-datafolha.shtml\n",
      "22 -- colunas_demetriomagnoli_2014_11_1551703-500-anos-de-corrupcao.shtml\n",
      "23 -- mercado_2015_04_1619695-com-perdas-em-corrupcao-petrobras-tem-prejuizo-de-r-21-bi-em-2014.shtml\n"
     ]
    }
   ],
   "source": [
    "corpuspath = os.path.join(outputs,'html_out')\n",
    "onlydirs = [f for f in os.listdir(corpuspath) if os.path.isdir(os.path.join(corpuspath,f)) and not f.startswith('.')]\n",
    "onlyfiles = [f for f in os.listdir(corpuspath) if os.path.isfile(os.path.join(corpuspath,f)) and not f.startswith('.')]\n",
    "onlydirs.sort()\n",
    "\n",
    "print 'Files in the folder:'\n",
    "for i, w in enumerate(onlyfiles[0:]):\n",
    "    print i+1, '--' ,w"
   ]
  },
  {
   "cell_type": "markdown",
   "metadata": {},
   "source": [
    "Carregando os corpora:"
   ]
  },
  {
   "cell_type": "code",
   "execution_count": 13,
   "metadata": {
    "collapsed": false
   },
   "outputs": [
    {
     "data": {
      "text/plain": [
       "23"
      ]
     },
     "execution_count": 13,
     "metadata": {},
     "output_type": "execute_result"
    }
   ],
   "source": [
    "raw_texts = ''\n",
    "list_raw_texts = []\n",
    "for filename in onlyfiles:\n",
    "    page_txt = codecs.open(os.path.join(corpuspath,filename), encoding='utf-8').read()\n",
    "    raw_texts += u'\\n'+ page_txt.lower()\n",
    "    list_raw_texts.append(page_txt)\n",
    "len(list_raw_texts)"
   ]
  },
  {
   "cell_type": "markdown",
   "metadata": {},
   "source": [
    "Ocorrências de determinada expressão no corpus"
   ]
  },
  {
   "cell_type": "code",
   "execution_count": 14,
   "metadata": {
    "collapsed": false
   },
   "outputs": [],
   "source": [
    "#expressao = u'nova_classe_média'.lower()\n",
    "#expressao = u'Marcelo Néri'.lower()\n",
    "expressao = u'Brasil'.lower()\n",
    "#expressao = u'índice'.lower()\n",
    "#expressao = u'Instituto de Pesquisa'.lower() #muitas grafias diferentes para o Ipea\n",
    "#expressao = u'Ipea'.lower()\n",
    "#expressao = u'porta dos fundos'.lower()"
   ]
  },
  {
   "cell_type": "code",
   "execution_count": 15,
   "metadata": {
    "collapsed": false
   },
   "outputs": [
    {
     "name": "stdout",
     "output_type": "stream",
     "text": [
      "A expressão buscada ocorre 42 vezes\n"
     ]
    }
   ],
   "source": [
    "pos = 0 \n",
    "positions = []\n",
    "while pos != -1:\n",
    "    position = raw_texts.find(expressao,pos+1)\n",
    "    pos = position\n",
    "    positions.append(position)\n",
    "positions.pop()\n",
    "print(u'A expressão buscada ocorre {} vezes'.format(len(positions)))"
   ]
  },
  {
   "cell_type": "code",
   "execution_count": 16,
   "metadata": {
    "collapsed": false
   },
   "outputs": [
    {
     "name": "stdout",
     "output_type": "stream",
     "text": [
      "ro aparece nos documentos com identidade protegida como sócio de marin e do ex-presidente ricardo teixeira (também identificado apenas por um número) no recebimento de propina em contratos da copa do brasil.\n",
      "\n",
      "5 - o escândalo acabou ou acontecerão novas prisões?\n",
      "\n",
      " é provável que as prisões feitas na última quarta sejam só o início. a receita federal dos eua já prevê uma nova rodada de indiciamentos\n",
      "os aos acusados estão sendo examinados concomitantemente por um juiz de primeiro grau e pelo supremo tribunal federal, com passagens pelo tribunal regional federal e pelo stj. isso nunca aconteceu no brasil.\n",
      "\n",
      "é um processo que envolve todos os graus da justiça. e temos acordos de delação sobre os mesmos ilícitos que são feitos no primeiro grau e homologados no supremo, no caso de deputados e senad\n",
      "dade, como os protestos de junho de 2013, lançaram um pacote de leis de ocasião, como se estivessem dando uma resposta à sociedade: criam-se leis, aumentam-se penas. até a oab (ordem dos advogados do brasil) lançou um pacote de ocasião. não precisa de lei nova nem aumento de pena.\n",
      "\n",
      "se aumento de pena fosse intimidar, não teríamos mais crimes hediondos. nenhum. mas o tráfico aumenta, o homicídio au\n",
      "argurou-me doze anos de vida, levou-me à cadeia -mas isso não foi o pior. o pior foi a incoercível sensação de repugnância que desde então passei a sentir sempre que leio ou ouço a expressão 'governo brasileiro'\".\n",
      "\n",
      "em 1936, monteiro lobato escrevia \"o escândalo do petróleo\", em que denunciava a corrupção do serviço geológico nacional -quase 20 anos antes da criação da petrobras.\n",
      "\n",
      " foi preso e sua\n",
      "ão vai ofender ninguém. é preciso atacar o amianto, o glutamato monossódico, os agrotóxicos e as tantas substâncias cancerígenas defendidas por muita gente e consumidas por todos nós.\n",
      "\n",
      "a corrupção no brasil é permitida e incentivada pela lei -e a lei não deve mudar tão cedo. quem poderia mudar a legislação é quem mais lucra com ela.\n",
      "\n",
      "não é de se espantar que eduardo cunha (pmdb) -o homem-amianto-,\n",
      "s de mercado\" é malvado e quem afirma que elas podem ser negadas se quisermos fazer o mundo melhor é visto como gente legal.\n",
      "\n",
      "se acho um candidato \"fodão\", arrumo razões pra votar nele. se acho que o brasil precisa de um modo de vida \"x\", arrumo alguém que pareça concordar comigo. se acho o candidato alguém comprometido com a \"justiça social\", ele pode até roubar. se busco santos, direi: o brasil\n",
      "que o brasil precisa de um modo de vida \"x\", arrumo alguém que pareça concordar comigo. se acho o candidato alguém comprometido com a \"justiça social\", ele pode até roubar. se busco santos, direi: o brasil precisa de um choque de sinceridade na política.\n",
      "\n",
      "a crença de que exista racionalidade na política é tão necessária para a maioria das pessoas hoje quanto deus é necessário para uma porrada de\n",
      "para garantir seu tempo livre. americanos para defender seu quintal. argentinos por masoquismo. franceses para garantir a aposentadoria. ingleses já não sabem se são pós-cristãos ou neomuçulmanos.\n",
      "\n",
      "e brasileiros votam porque querem mais estado nas suas vidas. mais bolsa família e mais bolsa empresário. em mil anos rirão de nossa fé na democracia.'\n",
      "o impeachment da presidente dilma rousseff conta c\n",
      "r votando e para isso é preciso limpar a política\", diz maria luiza.\n",
      "\n",
      "boa parte dos manifestantes deste domingo apareceram em família e havia também muitos casais. muitos vestiam camisetas da seleção brasileira de futebol e outras peças de roupas amarelas.\n",
      "\n",
      "muitas exibiam faixas amarelas na cabeça com a inscrição \"fora dilma\", que podiam ser compradas por r$ 5 dos camelôs. questionados pelo datafo\n",
      "e 26% de direita.\n",
      "\n",
      "o datafolha entrevistou 1.320 pessoas na região da paulista, entre 12 horas e 18 horas. a margem de erro é de três pontos percentuais, para mais ou para menos.\n",
      "há um ano, a seleção brasileira masculina de futebol entrava em campo para passar o maior vexame de sua história, tomar uma goleada de 7x1 da alemanha, em uma copa do mundo em casa.\n",
      "\n",
      "sentado no sofá, assim como milhões de\n",
      "rasileira masculina de futebol entrava em campo para passar o maior vexame de sua história, tomar uma goleada de 7x1 da alemanha, em uma copa do mundo em casa.\n",
      "\n",
      "sentado no sofá, assim como milhões de brasileiros, fiquei triste. mas tive outro sentimento em particular, aquele que só quem já esteve em campo, com aquela camisa, poderia sentir: impotência.\n",
      "\n",
      "não porque eu queria estar em campo, mas por\n",
      "aquele que só quem já esteve em campo, com aquela camisa, poderia sentir: impotência.\n",
      "\n",
      "não porque eu queria estar em campo, mas porque eu via, já há alguns anos, com uma visão privilegiada, o futebol brasileiro se deteriorando. sabia exatamente quais eram os motivos e, embora tentasse, não tive força para - sozinho - mudar algo.\n",
      "\n",
      "dentro de campo, o diagnóstico era evidente, pânico e incapacidade d\n",
      "não tem sido feito até agora, pelo menos não pela cbf. precisamos de uma mudança estrutural profunda.\n",
      "\n",
      "por sorte, essa teia de corrupção começou a ser desmontada pelo fbi. tranquilos com a impunidade brasileira, a quadrilha da cbf deixou pontas soltas nos estados unidos, o que possibilitou a prisão de um dos chefes da organização criminosa, josé maria marin.\n",
      "\n",
      "a prisão de marin abriu uma enorme jan\n",
      "uadrilha da cbf deixou pontas soltas nos estados unidos, o que possibilitou a prisão de um dos chefes da organização criminosa, josé maria marin.\n",
      "\n",
      "a prisão de marin abriu uma enorme janela, a justiça brasileira, no rastro dessa investigação tem a oportunidade de varrer do futebol dezenas de ratos de uma só vez. paralelo a isso, temos a chance de investigação efetiva no legislativo, com a cpi do fu\n",
      "ara resgatarmos, em alguns anos, nossa real vocação: o jogo bonito do futebol arte.\n",
      "\n",
      "texto encaminhado pelo senador romário (psb-rj) na véspera do aniversário de um ano da goleada da alemanha sobre o brasil por 7 a 1, após convite da reportagem\n",
      "\"a corrupção é uma senhora idosa e não poupa ninguém. pode estar em todo lugar, inclusive no setor privado\", disse a petista em entrevista coletiva após so\n",
      "propina que teria sido paga a cerveró, ao lobista fernando baiano e ao consultor júlio camargo.\n",
      "\n",
      "a procuradoria chega a fazer comparações entre cerveró e personalidades como o ex-diretor do banco do brasil henrique pizzolato, condenado pelo mensalão que fugiu para a itália, para justificar que não bastaria a entrega do passaporte de cerveró, e com o deputado paulo maluf (pp-sp), para dizer que ce\n",
      "dizer que cerveró deve manter seu dinheiro escondido no exterior em contas registradas em nome de empresas de fachada.\n",
      "\n",
      "\"sabe-se que o dinheiro não está com cerveró, porque não está em suas contas no brasil. se fosse mantido sob seu nome, no exterior, provavelmente bancos e países já teriam comunicado. como no caso de paulo roberto costa, paulo maluf, nicolau dos santos neto e tantos outros, o pro\n",
      "ção rígida estabeleceu o cenário perfeito para a única lei vigente: a corrupção. \"você pode conseguir qualquer coisa, desde que esteja disposto a girar a roleta\", afirma.\n",
      "\n",
      "a embaixada da indonésia no brasil não retornou os e-mails e as ligações da folha para se manifestar.\n",
      "\n",
      "além do circuito de praias célebres, como uluwatu e padang-padang, os bairros mais famosos, por onde os turistas circulam, sã\n",
      "de para negociar.\n",
      "\n",
      "a roleta começa a girar em torno de r$ 32 mil. ser pego em casa ou no hotel custa bem mais barato do que ser preso no aeroporto. se o caso vai parar nos jornais, como foi o caso do brasileiro marco archer, pego com 13 quilos de cocaína no aeroporto de jacarta, a capital da indonésia, negociar torna-se bem mais difícil.\n",
      "\n",
      "\"eles te levam para um lugar neutro e começam a negociar. t\n",
      "donésia, negociar torna-se bem mais difícil.\n",
      "\n",
      "\"eles te levam para um lugar neutro e começam a negociar. tem que ser rápido para levantar o dinheiro ou te arrastam para uma delegacia\", diz um surfista brasileiro que vive em bali desde o fim dos anos 1980.\n",
      "\n",
      "o fotógrafo e cineasta marcos prado, produtor de \"tropa de elite\", frequenta bali desde os anos 1990. ainda na adolescência conheceu marco arche\n",
      "dos anos 1980.\n",
      "\n",
      "o fotógrafo e cineasta marcos prado, produtor de \"tropa de elite\", frequenta bali desde os anos 1990. ainda na adolescência conheceu marco archer.\n",
      "\n",
      "prado acompanhou os últimos anos do brasileiro no corredor da morte e estava em bali para finalizar um documentário sobre o traficante fuzilado. segundo ele, archer tentou vender um apartamento no rio de janeiro para comprar a redução d\n",
      "archer tentou vender um apartamento no rio de janeiro para comprar a redução de pena.\n",
      "\n",
      "\"ele conhecia os esquemas. queria levantar us$ 1 milhão com a venda do apartamento em ipanema\", conta prado. \"o brasil não é tão diferente na corrupção. mas bali vai além.\"\n",
      "\n",
      "comprar drogas é uma artimanha na qual só quem mora ou frequenta bali há muito tempo se arrisca. jovens com quem conversamos nas ruas diss\n",
      "iano chris manschrell, 31, habitué no verão balinês.\n",
      "\n",
      "\"parte da droga vendida nas ruas é falsa. também existe o risco de te venderem e avisarem a polícia. bali é um jogo de sorte ou azar.\"\n",
      "de cada 10 brasileiros, 8 acreditam que a presidente dilma rousseff sabia da corrupção que acontecia na petrobras, investigada pela força-tarefa da operação lava jato. é o que mostra pesquisa datafolha feita nos\n",
      "(mg) para a presidência, 94% têm convicção de que dilma sabia da corrupção na petrobras; 3% acham que ela não sabia; outros 3% não souberam responder à pergunta.\n",
      "\n",
      "o datafolha também investigou se os brasileiros acreditam que o esquema desbaratado pela operação lava jato irá prejudicar a petrobras, a maior empresa do país.\n",
      "\n",
      "a maioria, 51%, acredita que a petrobras será prejudicada \"por muito tempo\n",
      "cidadão\", afirmou a presidente.\n",
      "\n",
      "dilma ainda criticou o patrimonialismo que confunde o público com o privado, e que, segundo ela, \"ainda é um traço da nossa característica, e que a sociedade atual, o brasil moderno, exige que seja superado.\"\n",
      "\n",
      "\"temos de abrir bem os olhos e dizer: a hora de o brasil dar um basta a esse processo, a esses crimes, a essas práticas, que teimam em corroer as nossas entr\n",
      "o com o privado, e que, segundo ela, \"ainda é um traço da nossa característica, e que a sociedade atual, o brasil moderno, exige que seja superado.\"\n",
      "\n",
      "\"temos de abrir bem os olhos e dizer: a hora de o brasil dar um basta a esse processo, a esses crimes, a essas práticas, que teimam em corroer as nossas entranhas, essa hora chegou. temos de construir todos os mecanismos, firmar todos os acordos, [fa\n",
      "petiu que o combate à corrupção é \"coerente\" com sua vida, prática política e com sua \"atuação como presidente da republica\". ela voltou a afirmar que o problema é anterior à atual gestão.\n",
      "\n",
      "\"todos os brasileiros de boa fé, mesmo os que não votaram em mim, sabem que a corrupção não foi inventada recentemente. sabem que o que diferencia alguns países e governos de outros é que alguns países criam co\n",
      "executivos do setor na comercialização de jogos e direitos de marketing de campeonatos como eliminatórias da copa do mundo na américa do norte, a concacaf, a copa américa, a libertadores e a copa do brasil –esta última, organizada pela cbf.\n",
      "\n",
      "os alvos da operação são principalmente dirigentes da concacaf, como webb, presidente da entidade que engloba os países das américas do norte e central e do\n",
      "ffic group, maior agência de marketing esportivo da américa latina, que tem os direitos de transmissão, patrocínio e promoção de campeonatos de futebol e jogadores, além de empresas de comunicação no brasil, também é citado pela justiça americana.\n",
      "\n",
      "segundo a nota do governo dos estados unidos, o executivo teria concordado com o confisco de us$ 151 milhões (r$ 473 milhões na cotação atual) de seu p\n",
      "acreditou que a estante caiu em mim, não quero convencer ninguém. é minha versão. quem não acredita, paciência.\n",
      "\n",
      "o sr. também foi acusado de usar órgãos do governo, como o instituto de resseguros do brasil, para financiar o ptb.\n",
      "\n",
      " o lídio duarte nos procurou para ter aval para ser presidente do irb, fez um acordo conosco. ele colocaria cinco brokers, operadores de mercado, recebendo r$ 60 mil de\n",
      "iretor da petrobras. é para fazer obra positiva, a favor do povo? não existe isso.\n",
      "\n",
      " as estatais são as grandes promotoras da infraestrutura do país. elas é que são fortes. não tem empresa privada no brasil. e tem as paraestatais, que são as empreiteiras. funcionam em função do governo.\n",
      "\n",
      "o que acha da proposta de financiamento público?\n",
      "\n",
      " o brasil não tem financiamento privado. o financiamento é pú\n",
      "o país. elas é que são fortes. não tem empresa privada no brasil. e tem as paraestatais, que são as empreiteiras. funcionam em função do governo.\n",
      "\n",
      "o que acha da proposta de financiamento público?\n",
      "\n",
      " o brasil não tem financiamento privado. o financiamento é público de segunda linha, mas é. quem financia campanha no brasil são as empresas que têm grandes contratos com bndes, banco do brasil, petrobra\n",
      "uncionam em função do governo.\n",
      "\n",
      "o que acha da proposta de financiamento público?\n",
      "\n",
      " o brasil não tem financiamento privado. o financiamento é público de segunda linha, mas é. quem financia campanha no brasil são as empresas que têm grandes contratos com bndes, banco do brasil, petrobras.\n",
      "\n",
      " eu acho uma graça isso: \"temos que acabar com o financiamento privado\". não tem financiamento privado, é estat\n",
      "to público?\n",
      "\n",
      " o brasil não tem financiamento privado. o financiamento é público de segunda linha, mas é. quem financia campanha no brasil são as empresas que têm grandes contratos com bndes, banco do brasil, petrobras.\n",
      "\n",
      " eu acho uma graça isso: \"temos que acabar com o financiamento privado\". não tem financiamento privado, é estatal. os empreiteiros não são privados, são braços das estatais. é aí q\n",
      "os desvios apurados pela lava jato.\n",
      "\n",
      "as empresas disseram ainda que nenhum pagamento indevido foi feito pelas companhias, mas sim por um cartel com a conivência de funcionários da estatal.\n",
      "de cada 10 brasileiros, 7 acham que a presidente dilma rousseff tem alguma responsabilidade no escândalo da petrobras, envolvendo empreiteiras e políticos. é o que mostra a pesquisa datafolha realizada em 2 e 3\n",
      "es grupos, quem terminam definindo que projetos e políticas serão executados, onde e como, e, evidentemente, ganhando as licitações para implementá-los.\n",
      "\n",
      "não se fala do grau de privatização do estado brasileiro –não no sentido de repasse da prestação de serviços para empresas privadas, mas no sentido do controle dos processos decisórios sobre sua implementação. não se fala nos uísques caros e pass\n",
      "aticamente todos os partidos, absolutamente necessárias para garantir a perpetuação de seus contratos, de suas concessões, de seus monopólios.\n",
      "\n",
      "pouco se fala, aliás, de práticas cotidianas da cultura brasileira, como \"molhar\" a mão do guarda, acertar \"por fora\", que de tão banais nem parecem corrupção, mas são.\n",
      "\n",
      "a corrupção não acaba porque, infelizmente, ela depende menos da existência de polític\n",
      "upção, mas são.\n",
      "\n",
      "a corrupção não acaba porque, infelizmente, ela depende menos da existência de políticos corretos –que, sim existem!– que de um modelo de relacionamento do setor privado com o estado brasileiro –do qual o financiamento de campanhas é um dos mecanismos–, que hoje perpetua relações de privilégios e benefícios privados para empresas, partidos políticos e indivíduos.\n",
      "\n",
      " falar em corrup\n",
      "e repente, como um raio no céu claro, o governo foi tomado por extraordinário interesse pela corrupção –no passado. na austrália, dilma rousseff ensaiou \"listar uma quantidade imensa de escândalos no brasil que não foram investigados\". a historiadora amadora, porém, só fingia falar sobre o passado: \"talvez esses escândalos que não foram investigados sejam responsáveis pelo que aconteceu na petrobr\n",
      "çaram a honrar a memória do incauto paulo francis privatista de 1996, submetido a processo intimidador depois de afirmar que \"os diretores da petrobras\" constituíam \"a maior quadrilha que já atuou no brasil\". mas, num tour de force, os neo-historiadores da corrupção já se aventuram em tempos anteriores, reavivando a memória da ditadura militar, que converteu em potências a odebrecht, a camargo cor\n",
      "somos assim, sempre fomos, sussurram, inoculando-nos o soro da letargia, enquanto o ministro da justiça critica a \"politização\" do escândalo (não a da petrobras!). a corrupção mora na índole do povo brasileiro: \"cada um de nós tem um dedão na lama\", assegura um célebre empresário, enquanto a presidente antecipa que pretende violar a lei sobre declaração de inidoneidade (\"a gente não vai colocar u\n",
      "deixando a presidente dilma rousseff irritada. o episódio gerou uma crise que resultou na saída de graça e de cinco diretores, no início de fevereiro.\n",
      "\n",
      "em 2014, a produção de petróleo da petrobras no brasil cresceu 5,3%, abaixo da meta inicial –de 7,5% com um ponto percentual de tolerância para menos.\n"
     ]
    }
   ],
   "source": [
    "for position in positions: #[0:10]:\n",
    "    print raw_texts[position - 200:position + 200].strip()"
   ]
  },
  {
   "cell_type": "markdown",
   "metadata": {},
   "source": [
    "Um passo opcional - retirar as stopwords que podem interferir nas análises"
   ]
  },
  {
   "cell_type": "code",
   "execution_count": 17,
   "metadata": {
    "collapsed": false
   },
   "outputs": [],
   "source": [
    "ignore_words = [w for w in nltk.corpus.stopwords.words('portuguese')]\n",
    "#ignore_words.extend([s.decode('utf-8') for s in string.punctuation])\n",
    "ignore_words.extend([u' ', u'', u'é', u'r',u'c',u'ainda',u'vai',u'ser',u'globo',u'sobre',u'nesta',u'\\u2013',u'\\u2014', u'pode',\n",
    "                     u'ter', u'disse'])\n",
    "ignore_expressions = [u'Copyright © 2013', u'Copyright © 2014',u'Todos os direitos reservados', \n",
    "                      u'Agência Estado', u'Jornal O Globo', u'Folha de S.Paulo', 'Globo Digital', u'SEGUNDO CADERNO',\n",
    "                      u'Noblat', u'Agamenon Mendes Pedreira', u'Agamenon', u'Merval Pereira', u'Merval', u'Amaury de Souza',\n",
    "                      u'Boa Viagem', u'v\\xeddeos pol\\xedticos', u'Esta\\xe7\\xe3o Jazz e Tal', u'a r\\xe1dio do blog',\n",
    "                      u'Siga o', u'Leia a', u'Ou\\xe7a a', u'Curta a P\\xe1gina', u'Visite a p\\xe1gina', u'no Twitter','no Facebook', u'Blog do', \n",
    "                      u'Tradu\\xe7\\xe3o', u'mat&eacute;ria na &iacute;ntegra', u'\\xedntegra da mat\\xe9ria', u'para assinantes',\n",
    "                      u'por exemplo', u'cada vez', 'datafolha']"
   ]
  },
  {
   "cell_type": "code",
   "execution_count": 18,
   "metadata": {
    "collapsed": false
   },
   "outputs": [
    {
     "name": "stdout",
     "output_type": "stream",
     "text": [
      "Copyright © 2013\n",
      "Copyright © 2014\n",
      "Todos os direitos reservados\n",
      "Agência Estado\n",
      "Jornal O Globo\n",
      "Folha de S.Paulo\n",
      "Globo Digital\n",
      "SEGUNDO CADERNO\n",
      "Noblat\n",
      "Agamenon Mendes Pedreira\n",
      "Agamenon\n",
      "Merval Pereira\n",
      "Merval\n",
      "Amaury de Souza\n",
      "Boa Viagem\n",
      "vídeos políticos\n",
      "Estação Jazz e Tal\n",
      "a rádio do blog\n",
      "Siga o\n",
      "Leia a\n",
      "Ouça a\n",
      "Curta a Página\n",
      "Visite a página\n",
      "no Twitter\n",
      "no Facebook\n",
      "Blog do\n",
      "Tradução\n",
      "mat&eacute;ria na &iacute;ntegra\n",
      "íntegra da matéria\n",
      "para assinantes\n",
      "por exemplo\n",
      "cada vez\n",
      "datafolha\n"
     ]
    }
   ],
   "source": [
    "for e in ignore_expressions:\n",
    "    print e"
   ]
  },
  {
   "cell_type": "code",
   "execution_count": 19,
   "metadata": {
    "collapsed": false
   },
   "outputs": [],
   "source": [
    "def corrige_distorcoes(texto):\n",
    "    texto = texto.replace(u'\\xe0', u'a a') #separa o a com crase\n",
    "    texto = texto.replace(u'\\u201c', '') #retira um certo tipo de aspas\n",
    "    texto = texto.replace(u'\\u201d', '') #retira um certo tipo de aspas\n",
    "    texto = texto.replace(u'\\u2018', '') #retira um certo tipo de aspas\n",
    "    texto = texto.replace(u'\\u2019', '') #retira um certo tipo de aspas\n",
    "    texto = texto.replace(u'get\\xfalio vargas', u'getulio vargas') #homogeniza as formas de Getulio Vargas\n",
    "    return texto\n",
    "    \n",
    "def limpa_stopwords(texto):\n",
    "    for expression in ignore_expressions:\n",
    "        texto = texto.replace(expression.lower(),'') #retira as expressoes\n",
    "    lista = [w.strip(string.punctuation) for w in texto.split() if w.strip(string.punctuation) not in ignore_words] #retira stopw.\n",
    "    texto = u' '.join(lista)\n",
    "    return texto, lista"
   ]
  },
  {
   "cell_type": "code",
   "execution_count": 20,
   "metadata": {
    "collapsed": false
   },
   "outputs": [],
   "source": [
    "raw_texts = corrige_distorcoes(raw_texts)\n",
    "cleaned_texts, list_cleaned_words = limpa_stopwords(raw_texts)"
   ]
  },
  {
   "cell_type": "markdown",
   "metadata": {},
   "source": [
    "A primeira coisa a se analisar são - pura e simplesmente - as palavras (sem stopwords)"
   ]
  },
  {
   "cell_type": "code",
   "execution_count": 21,
   "metadata": {
    "collapsed": false
   },
   "outputs": [
    {
     "data": {
      "text/html": [
       "<div style=\"max-height:1000px;max-width:1500px;overflow:auto;\">\n",
       "<table border=\"1\" class=\"dataframe\">\n",
       "  <thead>\n",
       "    <tr style=\"text-align: right;\">\n",
       "      <th></th>\n",
       "      <th>Frequência</th>\n",
       "    </tr>\n",
       "    <tr>\n",
       "      <th>Tokens</th>\n",
       "      <th></th>\n",
       "    </tr>\n",
       "  </thead>\n",
       "  <tbody>\n",
       "    <tr>\n",
       "      <th>corrupção</th>\n",
       "      <td>90</td>\n",
       "    </tr>\n",
       "    <tr>\n",
       "      <th>petrobras</th>\n",
       "      <td>58</td>\n",
       "    </tr>\n",
       "    <tr>\n",
       "      <th>anos</th>\n",
       "      <td>38</td>\n",
       "    </tr>\n",
       "    <tr>\n",
       "      <th>presidente</th>\n",
       "      <td>35</td>\n",
       "    </tr>\n",
       "    <tr>\n",
       "      <th>dilma</th>\n",
       "      <td>34</td>\n",
       "    </tr>\n",
       "    <tr>\n",
       "      <th>pt</th>\n",
       "      <td>30</td>\n",
       "    </tr>\n",
       "    <tr>\n",
       "      <th>segundo</th>\n",
       "      <td>30</td>\n",
       "    </tr>\n",
       "    <tr>\n",
       "      <th>paulo</th>\n",
       "      <td>30</td>\n",
       "    </tr>\n",
       "    <tr>\n",
       "      <th>esquema</th>\n",
       "      <td>27</td>\n",
       "    </tr>\n",
       "    <tr>\n",
       "      <th>costa</th>\n",
       "      <td>26</td>\n",
       "    </tr>\n",
       "    <tr>\n",
       "      <th>roberto</th>\n",
       "      <td>26</td>\n",
       "    </tr>\n",
       "    <tr>\n",
       "      <th>empresas</th>\n",
       "      <td>26</td>\n",
       "    </tr>\n",
       "    <tr>\n",
       "      <th>público</th>\n",
       "      <td>25</td>\n",
       "    </tr>\n",
       "    <tr>\n",
       "      <th>justiça</th>\n",
       "      <td>24</td>\n",
       "    </tr>\n",
       "    <tr>\n",
       "      <th>acordo</th>\n",
       "      <td>23</td>\n",
       "    </tr>\n",
       "    <tr>\n",
       "      <th>dinheiro</th>\n",
       "      <td>23</td>\n",
       "    </tr>\n",
       "    <tr>\n",
       "      <th>país</th>\n",
       "      <td>23</td>\n",
       "    </tr>\n",
       "    <tr>\n",
       "      <th>brasil</th>\n",
       "      <td>23</td>\n",
       "    </tr>\n",
       "    <tr>\n",
       "      <th>lei</th>\n",
       "      <td>23</td>\n",
       "    </tr>\n",
       "    <tr>\n",
       "      <th>políticos</th>\n",
       "      <td>23</td>\n",
       "    </tr>\n",
       "    <tr>\n",
       "      <th>milhões</th>\n",
       "      <td>22</td>\n",
       "    </tr>\n",
       "    <tr>\n",
       "      <th>jato</th>\n",
       "      <td>21</td>\n",
       "    </tr>\n",
       "    <tr>\n",
       "      <th>governo</th>\n",
       "      <td>21</td>\n",
       "    </tr>\n",
       "    <tr>\n",
       "      <th>lava</th>\n",
       "      <td>21</td>\n",
       "    </tr>\n",
       "    <tr>\n",
       "      <th>investigação</th>\n",
       "      <td>20</td>\n",
       "    </tr>\n",
       "    <tr>\n",
       "      <th>contratos</th>\n",
       "      <td>20</td>\n",
       "    </tr>\n",
       "    <tr>\n",
       "      <th>afirmou</th>\n",
       "      <td>20</td>\n",
       "    </tr>\n",
       "    <tr>\n",
       "      <th>porque</th>\n",
       "      <td>20</td>\n",
       "    </tr>\n",
       "    <tr>\n",
       "      <th>federal</th>\n",
       "      <td>19</td>\n",
       "    </tr>\n",
       "    <tr>\n",
       "      <th>política</th>\n",
       "      <td>19</td>\n",
       "    </tr>\n",
       "    <tr>\n",
       "      <th>todos</th>\n",
       "      <td>19</td>\n",
       "    </tr>\n",
       "    <tr>\n",
       "      <th>estatal</th>\n",
       "      <td>19</td>\n",
       "    </tr>\n",
       "    <tr>\n",
       "      <th>mil</th>\n",
       "      <td>18</td>\n",
       "    </tr>\n",
       "    <tr>\n",
       "      <th>operação</th>\n",
       "      <td>18</td>\n",
       "    </tr>\n",
       "    <tr>\n",
       "      <th>contra</th>\n",
       "      <td>17</td>\n",
       "    </tr>\n",
       "    <tr>\n",
       "      <th>prisão</th>\n",
       "      <td>17</td>\n",
       "    </tr>\n",
       "    <tr>\n",
       "      <th>maior</th>\n",
       "      <td>17</td>\n",
       "    </tr>\n",
       "    <tr>\n",
       "      <th>youssef</th>\n",
       "      <td>17</td>\n",
       "    </tr>\n",
       "    <tr>\n",
       "      <th>bilhões</th>\n",
       "      <td>17</td>\n",
       "    </tr>\n",
       "    <tr>\n",
       "      <th>além</th>\n",
       "      <td>17</td>\n",
       "    </tr>\n",
       "  </tbody>\n",
       "</table>\n",
       "</div>"
      ],
      "text/plain": [
       "              Frequência\n",
       "Tokens                  \n",
       "corrupção             90\n",
       "petrobras             58\n",
       "anos                  38\n",
       "presidente            35\n",
       "dilma                 34\n",
       "pt                    30\n",
       "segundo               30\n",
       "paulo                 30\n",
       "esquema               27\n",
       "costa                 26\n",
       "roberto               26\n",
       "empresas              26\n",
       "público               25\n",
       "justiça               24\n",
       "acordo                23\n",
       "dinheiro              23\n",
       "país                  23\n",
       "brasil                23\n",
       "lei                   23\n",
       "políticos             23\n",
       "milhões               22\n",
       "jato                  21\n",
       "governo               21\n",
       "lava                  21\n",
       "investigação          20\n",
       "contratos             20\n",
       "afirmou               20\n",
       "porque                20\n",
       "federal               19\n",
       "política              19\n",
       "todos                 19\n",
       "estatal               19\n",
       "mil                   18\n",
       "operação              18\n",
       "contra                17\n",
       "prisão                17\n",
       "maior                 17\n",
       "youssef               17\n",
       "bilhões               17\n",
       "além                  17"
      ]
     },
     "execution_count": 21,
     "metadata": {},
     "output_type": "execute_result"
    }
   ],
   "source": [
    "freq_words = Counter(list_cleaned_words)\n",
    "df_freq_words = pd.DataFrame(freq_words.values(), columns = [u'Frequência'], index=freq_words.keys())\n",
    "df_freq_words = df_freq_words.sort_index(by=u'Frequência', ascending=False)\n",
    "df_freq_words.index.name = u'Tokens'\n",
    "df_freq_words[0:40]"
   ]
  },
  {
   "cell_type": "markdown",
   "metadata": {},
   "source": [
    "Calculando a polaridade total dos textos"
   ]
  },
  {
   "cell_type": "code",
   "execution_count": 22,
   "metadata": {
    "collapsed": false
   },
   "outputs": [
    {
     "name": "stdout",
     "output_type": "stream",
     "text": [
      "Foram polarizadas 845 palavras de um total de 3407 (24.80%)\n",
      "A polaridade mensurada do texto é de 0.0138\n"
     ]
    }
   ],
   "source": [
    "polariza_counter(freq_words, df_o);"
   ]
  },
  {
   "cell_type": "markdown",
   "metadata": {},
   "source": [
    "Vamos visualizar as palavras mais frequentes de várias formas:"
   ]
  },
  {
   "cell_type": "code",
   "execution_count": 23,
   "metadata": {
    "collapsed": false
   },
   "outputs": [],
   "source": [
    "def print_vk(lst):\n",
    "    \"\"\"Print a list of value/key pairs nicely formatted in key/value order.\"\"\"\n",
    "\n",
    "    # Find the longest key: remember, the list has value/key pairs, so the key\n",
    "    # is element [1], not [0]\n",
    "    longest_key = max([len(word) for word, count in lst])\n",
    "    # Make a format string out of it\n",
    "    fmt = '%'+str(longest_key)+'s -> %s'\n",
    "    # Do actual printing\n",
    "    for k,v in lst:\n",
    "        print fmt % (k,v)\n",
    "    print('\\n')"
   ]
  },
  {
   "cell_type": "code",
   "execution_count": 24,
   "metadata": {
    "collapsed": false
   },
   "outputs": [],
   "source": [
    "def plot_word_histogram(freqs, show=10, title=None):\n",
    "    \"\"\"Plot a histogram of word frequencies, limited to the top <show> ones.\n",
    "    \"\"\"\n",
    "    sorted_f = sort_freqs(freqs) if isinstance(freqs, dict) else freqs\n",
    "\n",
    "    # Don't show the tail\n",
    "    if isinstance(show, int):\n",
    "        # interpret as number of words to show in histogram\n",
    "        show_f = sorted_f[-show:]\n",
    "    else:\n",
    "        # interpret as a fraction\n",
    "        start = -int(round(show*len(freqs)))\n",
    "        show_f = sorted_f[start:]\n",
    "\n",
    "    # Now, extract words and counts, plot\n",
    "    n_words = len(show_f)\n",
    "    ind = np.arange(n_words)\n",
    "    words = [i[0] for i in show_f]\n",
    "    counts = [i[1] for i in show_f]\n",
    "\n",
    "    fig = plt.figure(figsize=(8,8))\n",
    "    ax = fig.add_subplot(111)\n",
    "\n",
    "    if n_words<=20:\n",
    "        # Only show bars and x labels for small histograms, they don't make\n",
    "        # sense otherwise\n",
    "        ax.bar(ind, counts)\n",
    "        ax.set_xticks(ind)\n",
    "        ax.set_xticklabels(words, rotation=45)\n",
    "        fig.subplots_adjust(bottom=0.25)\n",
    "    else:\n",
    "        # For larger ones, do a step plot\n",
    "        ax.step(ind, counts)\n",
    "\n",
    "    # If it spans more than two decades, use a log scale\n",
    "    if float(max(counts))/min(counts) > 100:\n",
    "        ax.set_yscale('log')\n",
    "\n",
    "    if title:\n",
    "        ax.set_title(title)\n",
    "    return ax"
   ]
  },
  {
   "cell_type": "code",
   "execution_count": 25,
   "metadata": {
    "collapsed": false
   },
   "outputs": [
    {
     "name": "stdout",
     "output_type": "stream",
     "text": [
      "Number of unique words: 3407\n",
      " corrupção -> 90\n",
      " petrobras -> 58\n",
      "      anos -> 38\n",
      "presidente -> 35\n",
      "     dilma -> 34\n",
      "     paulo -> 30\n",
      "        pt -> 30\n",
      "   segundo -> 30\n",
      "   esquema -> 27\n",
      "\n",
      "\n"
     ]
    },
    {
     "data": {
      "image/png": "[encoded data removed]",
      "text/plain": [
       "<matplotlib.figure.Figure at 0x7f0d5185d0d0>"
      ]
     },
     "metadata": {},
     "output_type": "display_data"
    }
   ],
   "source": [
    "number_words=15      \n",
    "w_items = freq_words.items()\n",
    "w_items.sort(key = lambda wc: wc[1])\n",
    "print 'Number of unique words:',len(w_items)\n",
    "#print('{} least frequent words:').format(number_words)\n",
    "#print_vk(w_items[:10])\n",
    "#print('{} most frequent words:').format(number_words)\n",
    "print_vk(w_items[:-10:-1])\n",
    "plot_word_histogram(w_items, number_words,'Frequencies for {} most frequent words'.format(number_words));"
   ]
  },
  {
   "cell_type": "code",
   "execution_count": 26,
   "metadata": {
    "collapsed": false
   },
   "outputs": [
    {
     "data": {
      "image/png": "[encoded data removed]",
      "text/plain": [
       "<matplotlib.figure.Figure at 0x7f0d508e84d0>"
      ]
     },
     "metadata": {},
     "output_type": "display_data"
    }
   ],
   "source": [
    "fd_words = nltk.FreqDist(freq_words)\n",
    "fig, axes = plt.subplots(nrows=1, ncols=1, figsize=(8,8)) \n",
    "fd_words.plot(30)"
   ]
  },
  {
   "cell_type": "markdown",
   "metadata": {},
   "source": [
    "E a distribuição cumulativa das frequências:"
   ]
  },
  {
   "cell_type": "code",
   "execution_count": 27,
   "metadata": {
    "collapsed": false
   },
   "outputs": [
    {
     "data": {
      "image/png": "[encoded data removed]",
      "text/plain": [
       "<matplotlib.figure.Figure at 0x7f0d506ce910>"
      ]
     },
     "metadata": {},
     "output_type": "display_data"
    }
   ],
   "source": [
    "fig, axes = plt.subplots(nrows=1, ncols=1, figsize=(8,8)) \n",
    "fd_words.plot(30, cumulative = True)"
   ]
  },
  {
   "cell_type": "code",
   "execution_count": 28,
   "metadata": {
    "collapsed": false
   },
   "outputs": [
    {
     "data": {
      "image/png": "[encoded data removed]",
      "text/plain": [
       "<IPython.core.display.Image object>"
      ]
     },
     "execution_count": 28,
     "metadata": {
      "image/png": {
       "height": 480,
       "width": 640
      }
     },
     "output_type": "execute_result"
    }
   ],
   "source": [
    "count = np.array(freq_words.values())\n",
    "words = np.array(freq_words.keys())\n",
    "count = count.astype(int)\n",
    "make_wordcloud(words, count, 'test.png')\n",
    "Image(filename='test.png', width=640, height=480)"
   ]
  },
  {
   "cell_type": "markdown",
   "metadata": {},
   "source": [
    "Vamos agora construir um grafo de palavras para estudar co-ocorrências nos textos dos feeds\n",
    "\n",
    "Abordagem e funções aproveitadas de https://github.com/ipython/talks/blob/master/notebook/text_utils.py"
   ]
  },
  {
   "cell_type": "code",
   "execution_count": 29,
   "metadata": {
    "collapsed": false
   },
   "outputs": [],
   "source": [
    "def all_pairs(items):\n",
    "    \"\"\"Make all unique pairs (order doesn't matter)\"\"\"\n",
    "    pairs = []\n",
    "    nitems = len(items)\n",
    "    for i, wi in enumerate(items):\n",
    "        for j in range(i+1, nitems):\n",
    "            pairs.append((wi, items[j]))\n",
    "    return pairs\n",
    "\n",
    "def co_occurrences(lines, words):\n",
    "    \"\"\"Return histogram of co-occurrences of words in a list of lines.\n",
    "\n",
    "    Parameters\n",
    "    ----------\n",
    "    lines : list\n",
    "      A list of strings considered as 'sentences' to search for co-occurrences.\n",
    "\n",
    "    words : list\n",
    "      A list of words from which all unordered pairs will be constructed and\n",
    "      searched for co-occurrences.\n",
    "    \"\"\"\n",
    "    wpairs = all_pairs(words)\n",
    "\n",
    "    # Now build histogram of co-occurrences\n",
    "    co_occur = {}\n",
    "    for w1, w2 in wpairs:\n",
    "        rx = re.compile('%s .*%s|%s .*%s' % (w1, w2, w2, w1))\n",
    "        co_occur[w1, w2] = sum([1 for line in lines if rx.search(line)])\n",
    "\n",
    "    return co_occur\n",
    "\n",
    "def co_occurrences_graph(word_hist, co_occur, cutoff=0):\n",
    "    \"\"\"Convert a word histogram with co-occurrences to a weighted graph.\n",
    "    Edges are only added if the count is above cutoff.\n",
    "    \"\"\"\n",
    "    g = nx.Graph()\n",
    "    for word, count in word_hist:\n",
    "        g.add_node(word, count=count)\n",
    "    for (w1, w2), count in co_occur.iteritems():\n",
    "        if count<=cutoff:\n",
    "            continue\n",
    "        g.add_edge(w1, w2, weight=count)\n",
    "    return g"
   ]
  },
  {
   "cell_type": "code",
   "execution_count": 30,
   "metadata": {
    "collapsed": false
   },
   "outputs": [
    {
     "name": "stdout",
     "output_type": "stream",
     "text": [
      "\n",
      "Graph centrality\n",
      "      corrupção: 0.598\n",
      "            lei: 0.401\n",
      "           anos: 0.35\n",
      "        esquema: 0.336\n",
      "     presidente: 0.315\n",
      "        segundo: 0.237\n",
      "        público: 0.222\n",
      "       empresas: 0.182\n",
      "             pt: 0.0893\n"
     ]
    }
   ],
   "source": [
    "n_nodes = 15\n",
    "popular = w_items[-n_nodes:]\n",
    "pop_words = [wc[0] for wc in popular]\n",
    "co_occur = co_occurrences(list_raw_texts, pop_words)\n",
    "wgraph = co_occurrences_graph(popular, co_occur, cutoff=1)\n",
    "wsubgraph = list(nx.connected_component_subgraphs(wgraph))[1] #we have to choose the biggest con. comp.\n",
    "centrality = nx.eigenvector_centrality_numpy(wsubgraph)\n",
    "c = centrality.items()\n",
    "c.sort(key=lambda x:x[1], reverse=True)\n",
    "print '\\nGraph centrality'\n",
    "for node, cent in c:\n",
    "    print \"%15s: %.3g\" % (node, float(cent))"
   ]
  },
  {
   "cell_type": "code",
   "execution_count": 31,
   "metadata": {
    "collapsed": false
   },
   "outputs": [],
   "source": [
    "rad0 = 0.2\n",
    "def rescale_arr(arr, amin, amax):\n",
    "    \"\"\"Rescale an array to a new range.\n",
    "    Return a new array whose range of values is (amin, amax).\n",
    "    Parameters\n",
    "    ----------\n",
    "    arr : array-like\n",
    "    amin : float\n",
    "      new minimum value\n",
    "    amax : float\n",
    "      new maximum value\n",
    "\n",
    "    Examples\n",
    "    --------\n",
    "    >>> a = np.arange(5)\n",
    "    >>> rescale_arr(a,3,6)\n",
    "    array([ 3.  ,  3.75,  4.5 ,  5.25,  6.  ])\n",
    "    \"\"\"\n",
    "    # old bounds\n",
    "    m = arr.min()\n",
    "    M = arr.max()\n",
    "    # scale/offset\n",
    "    s = float(amax-amin)/(M-m)\n",
    "    d = amin - s*m\n",
    "\n",
    "    # Apply clip before returning to cut off possible overflows outside the\n",
    "    # intended range due to roundoff error, so that we can absolutely guarantee\n",
    "    # that on output, there are no values > amax or < amin.\n",
    "    return np.clip(s*arr+d,amin,amax)\n",
    "\n",
    "def plot_graph(wgraph, pos=None, fig=None, title=None):\n",
    "    \"\"\"Conveniently summarize graph visually\"\"\"\n",
    "\n",
    "    # config parameters\n",
    "    edge_min_width= 3\n",
    "    edge_max_width= 12\n",
    "    label_font = 16\n",
    "    node_font = 18\n",
    "    node_alpha = 0.4\n",
    "    edge_alpha = 0.55\n",
    "    edge_cmap = plt.cm.Spectral\n",
    "\n",
    "    # Create figure\n",
    "    if fig is None:\n",
    "        fig, ax = plt.subplots()\n",
    "    else:\n",
    "        ax = fig.add_subplot(111)\n",
    "    fig.subplots_adjust(0,0,1)\n",
    "\n",
    "    # Plot nodes with size according to count\n",
    "    sizes = []\n",
    "    degrees = []\n",
    "    for n, d in wgraph.nodes_iter(data=True):\n",
    "        sizes.append(d['count'])\n",
    "        degrees.append(wgraph.degree(n))\n",
    "\n",
    "    sizes = rescale_arr(np.array(sizes, dtype=float), 100, 1000)\n",
    "\n",
    "    # Compute layout and label edges according to weight\n",
    "    pos = nx.spring_layout(wgraph) if pos is None else pos\n",
    "    labels = {}\n",
    "    width = []\n",
    "    for n1, n2, d in wgraph.edges_iter(data=True):\n",
    "        w = d['weight']\n",
    "        labels[n1, n2] = w\n",
    "        width.append(w)\n",
    "\n",
    "    width = rescale_arr(np.array(width, dtype=float), edge_min_width, \n",
    "                        edge_max_width)\n",
    "\n",
    "    # Draw\n",
    "    nx.draw_networkx_nodes(wgraph, pos, node_size=sizes, node_color=degrees,alpha=node_alpha)\n",
    "    nx.draw_networkx_edges(wgraph, pos, width=width, edge_color=width, edge_cmap=edge_cmap, alpha=edge_alpha)\n",
    "    nx.draw_networkx_edge_labels(wgraph, pos, edge_labels=labels,font_size=label_font)\n",
    "    nx.draw_networkx_labels(wgraph, pos, font_size=node_font, font_weight='bold')\n",
    "    if title is not None:\n",
    "        ax.set_title(title, fontsize=label_font)\n",
    "    ax.set_xticks([])\n",
    "    ax.set_yticks([])\n",
    "\n",
    "    # Mark centrality axes\n",
    "    kw = dict(color='k', linestyle='-')\n",
    "    cross = [ax.axhline(0, **kw), ax.axvline(rad0, **kw)]\n",
    "    [ l.set_zorder(0) for l in cross]\n",
    "    \n",
    "def centrality_layout(wgraph, centrality):\n",
    "    \"\"\"Compute a layout based on centrality.\n",
    "    \"\"\"\n",
    "    # Create a list of centralities, sorted by centrality value\n",
    "    cent = sorted(centrality.items(), key=lambda x:float(x[1]), reverse=True)\n",
    "    nodes = [c[0] for c in cent]\n",
    "    cent  = np.array([float(c[1]) for c in cent])\n",
    "    rad = (cent - cent[0])/(cent[-1]-cent[0])\n",
    "    rad = rescale_arr(rad, rad0, 1)\n",
    "    angles = np.linspace(0, 2*np.pi, len(centrality))\n",
    "    layout = {}\n",
    "    for n, node in enumerate(nodes):\n",
    "        r = rad[n]\n",
    "        th = angles[n]\n",
    "        layout[node] = r*np.cos(th), r*np.sin(th)\n",
    "    return layout"
   ]
  },
  {
   "cell_type": "code",
   "execution_count": 32,
   "metadata": {
    "collapsed": false
   },
   "outputs": [
    {
     "name": "stdout",
     "output_type": "stream",
     "text": [
      "Graph visualization for query:\n"
     ]
    },
    {
     "data": {
      "image/png": "[encoded data removed]",
      "text/plain": [
       "<matplotlib.figure.Figure at 0x7f0d50618f90>"
      ]
     },
     "metadata": {},
     "output_type": "display_data"
    }
   ],
   "source": [
    "print \"Graph visualization for query:\"\n",
    "plot_graph(wsubgraph, centrality_layout(wsubgraph, centrality), \n",
    "           plt.figure(figsize=(12,12)), \n",
    "           title = u'Centrality and term co-occurrence graph, q=\"{}\"'.format(query))"
   ]
  },
  {
   "cell_type": "markdown",
   "metadata": {},
   "source": [
    "Para entender os contextos, uma análise de concordâncias\n",
    "(palavras associadas à expressão escolhida, posicionadas na mesma sentença):"
   ]
  },
  {
   "cell_type": "code",
   "execution_count": 57,
   "metadata": {
    "collapsed": false
   },
   "outputs": [
    {
     "name": "stdout",
     "output_type": "stream",
     "text": [
      "Displaying 10 of 90 matches:\n",
      "                                                       corrupção revelado na última quarta - feira ( 27 ) pela justiça \n",
      " justiça ), o advogado gilson dipp diz que transformar corrupção em crime hediondo ou aumentar a pena é uma medida inóc\n",
      "estigar a petrobras , querem aperfeiçoar o combate a a corrupção e reduzir a impunidade no país , numa espécie de cruza\n",
      " tráfico aumenta , o homicídio aumenta . transformar a corrupção em crime hediondo é inócuo . os presídios estão lotado\n",
      "ssimas condições . alguém acha que vai deixar de haver corrupção no mundo se a pena for aumentada ? ou é a impunidade q\n",
      "ões internacionais . o que é curioso é que as palavras corrupção e suborno não aparecem na lei . aparecem atos ilícitos\n",
      "r de gerarem empregos . o sr . concorda que combater a corrupção é mais importante do que preservar empregos ? não . te\n",
      "o enviadas ao congresso e visam melhorar o combate a a corrupção . entre as medidas , há um anteprojeto de lei para tra\n",
      "jeto de lei para transformar em hediondos os crimes de corrupção que envolvam altos valores , elevando a pena máxima de\n",
      "inistério público em diversas operações de combate a a corrupção . ele citou , como exemplo , a ararath e a lava jato .\n"
     ]
    }
   ],
   "source": [
    "tknzr = nltk.tokenize.WordPunctTokenizer()\n",
    "tokens = tknzr.tokenize(raw_texts) # texto com stopwords\n",
    "#tokens = tknzr.tokenize(cleaned_texts) # texto sem stopwords\n",
    "nltk_text = nltk.Text(tokens)\n",
    "nltk_text.concordance(query.lower(), width=120, lines=10)"
   ]
  },
  {
   "cell_type": "markdown",
   "metadata": {},
   "source": [
    "Palavras que ocorrem em contextos similares (associadas às mesmas palavras que a consulta):"
   ]
  },
  {
   "cell_type": "code",
   "execution_count": 58,
   "metadata": {
    "collapsed": false
   },
   "outputs": [
    {
     "name": "stdout",
     "output_type": "stream",
     "text": [
      "petrobras prisão entidade impunidade anos investigação democracia\n",
      "propina empresas lei operação concacaf que serviços recursos\n",
      "comunicação legislação campanha depoimentos contratos\n"
     ]
    }
   ],
   "source": [
    "nltk_text.similar(query)"
   ]
  },
  {
   "cell_type": "markdown",
   "metadata": {},
   "source": [
    "As colocações (que não são co-ocorrências) nos informam sobre as palavras (quaisquer, não necessariamente ligadas à consulta) que ocorrem conjuntamente (bigramas frequentes):\n",
    "http://en.wikipedia.org/wiki/Collocation\n",
    "http://en.wikipedia.org/wiki/Co-occurrence"
   ]
  },
  {
   "cell_type": "code",
   "execution_count": 59,
   "metadata": {
    "collapsed": false
   },
   "outputs": [
    {
     "name": "stdout",
     "output_type": "stream",
     "text": [
      "lava jato; paulo roberto; ministério público; roberto costa; delação\n",
      "premiada; dilma rousseff; nesta quarta; protestar contra; operação\n",
      "lava; autoridades suíças; polícia federal; financiamento privado;\n",
      "acordo com; aécio neves; estados unidos; maria marin; josé maria;\n",
      "salários mínimos; vaccari neto; presidente dilma; andrade gutierrez;\n",
      "carlos frederico; del nero; foro privilegiado; renan calheiros; sergio\n",
      "moro; dos eua; queiroz galvão; terceiro trimestre; justiça americana;\n",
      "alberto youssef; prisão preventiva; segundo turno; joão vaccari;\n",
      "pesquisa datafolha; dos manifestantes; crime hediondo; disse que;\n",
      "rodrigo janot; caixa dois; uma nova; entrevista coletiva; ano passado;\n",
      "eduardo cunha; até agora; primeiro grau; enriquecimento ilícito;\n",
      "figueiredo basto; habeas corpus; mendes júnior; organização criminosa;\n",
      "varas especializadas; doleiro alberto; empresas investigadas; afirmou\n",
      "que; partidos políticos; ações penais; ano zero; porque ele; padrão\n",
      "fifa; está sendo; que ela; teriam sido; 500 mil; para garantir; acham\n",
      "que; camargo corrêa; contribuições financeiras; dívida líquida; ensino\n",
      "superior; polo del; sérgio machado; nas eleições; polícia suíça;\n",
      "supremo tribunal; muito tempo; não tem; última quarta; foi feita; ter\n",
      "recebido; américa latina; gilson dipp; marco polo; souberam responder;\n",
      "fosse intimidar; homicídio aumenta; seleção brasileira; tráfico\n",
      "aumenta; público federal; tribunal federal; suíças relataram; fernando\n",
      "soares; lobista fernando; maria luiza; marketing esportivo; justiça\n",
      "eleitoral; ato liderado; segunda instância; alguns casos; bolsa\n",
      "família\n"
     ]
    }
   ],
   "source": [
    "nltk_text.collocations(num=100, window_size=2)"
   ]
  },
  {
   "cell_type": "markdown",
   "metadata": {},
   "source": [
    "Collocations are expressions of multiple words which commonly co-occur.\n",
    "\n",
    "Below we are using Pointwise Mutual Information.\n",
    "\n",
    "http://en.wikipedia.org/wiki/Pointwise_mutual_information"
   ]
  },
  {
   "cell_type": "code",
   "execution_count": 60,
   "metadata": {
    "collapsed": false
   },
   "outputs": [
    {
     "name": "stdout",
     "output_type": "stream",
     "text": [
      "delação premiada\n",
      "lava jato\n",
      "ministério público\n",
      "paulo roberto\n",
      "roberto costa\n",
      "todos os\n",
      "acordo com\n",
      "no brasil\n",
      "da estatal\n",
      "diretor da\n",
      "o sr\n",
      "da petrobras\n",
      "na petrobras\n",
      "presidente da\n",
      "do pt\n",
      "o ex\n",
      "o governo\n",
      "o pt\n",
      "o esquema\n",
      "é um\n",
      "disse que\n",
      "de acordo\n",
      "não se\n",
      "de r\n",
      "sobre o\n",
      "a corrupção\n",
      "de corrupção\n",
      "a presidente\n",
      "com o\n",
      "a petrobras\n",
      "com a\n",
      "que não\n",
      "que as\n",
      "de uma\n",
      "e não\n",
      "é que\n",
      "para o\n",
      "que o\n",
      "é o\n",
      "para a\n",
      "a as\n",
      "o que\n",
      "e a\n",
      "a a\n",
      "que a\n",
      "e o\n",
      "e que\n",
      "de que\n"
     ]
    }
   ],
   "source": [
    "max_items = 50\n",
    "freq_min_b = 10\n",
    "bigram_measures = nltk.collocations.BigramAssocMeasures()\n",
    "finder2 = nltk.collocations.BigramCollocationFinder.from_words(nltk_text)\n",
    "finder2.apply_word_filter(lambda w: w in string.punctuation)\n",
    "finder2.apply_freq_filter(freq_min_b)\n",
    "for a, b in finder2.nbest(bigram_measures.pmi, max_items):\n",
    "    print a, b"
   ]
  },
  {
   "cell_type": "code",
   "execution_count": 61,
   "metadata": {
    "collapsed": false
   },
   "outputs": [
    {
     "name": "stdout",
     "output_type": "stream",
     "text": [
      "operação lava jato\n",
      "paulo roberto costa\n",
      "presidente dilma rousseff\n",
      "do ministério público\n",
      "presidente da cbf\n",
      "o ministério público\n",
      "diretor da petrobras\n",
      "esquema de corrupção\n",
      "a corrupção é\n",
      "a a corrupção\n"
     ]
    }
   ],
   "source": [
    "max_items = 50\n",
    "freq_min_t = 6\n",
    "trigram_measures = nltk.collocations.TrigramAssocMeasures()\n",
    "finder3 = nltk.collocations.TrigramCollocationFinder.from_words(nltk_text)\n",
    "finder3.apply_word_filter(lambda w: w in string.punctuation)\n",
    "finder3.apply_ngram_filter(lambda w1, w2, w3:  w1 in ['da', 'de', 'das'])\n",
    "finder3.apply_freq_filter(freq_min_t)\n",
    "for a, b, c in finder3.nbest(trigram_measures.pmi, max_items):\n",
    "    print a, b, c"
   ]
  },
  {
   "cell_type": "code",
   "execution_count": 62,
   "metadata": {
    "collapsed": false
   },
   "outputs": [
    {
     "name": "stdout",
     "output_type": "stream",
     "text": [
      "a a\n",
      "que o\n",
      "a corrupção\n",
      "que a\n",
      "com a\n",
      "da petrobras\n",
      "de corrupção\n",
      "o que\n",
      "e a\n",
      "com o\n",
      "paulo roberto\n",
      "lava jato\n",
      "de r\n",
      "para a\n",
      "o ex\n",
      "para o\n",
      "presidente da\n",
      "que não\n",
      "todos os\n",
      "é um\n",
      "o pt\n",
      "roberto costa\n",
      "a petrobras\n",
      "e o\n",
      "ministério público\n",
      "é que\n",
      "de que\n",
      "é o\n",
      "a presidente\n",
      "da estatal\n",
      "disse que\n",
      "e que\n",
      "o esquema\n",
      "acordo com\n",
      "de acordo\n",
      "de uma\n",
      "o sr\n",
      "a as\n",
      "delação premiada\n",
      "diretor da\n",
      "do pt\n",
      "e não\n",
      "na petrobras\n",
      "no brasil\n",
      "não se\n",
      "o governo\n",
      "que as\n",
      "sobre o\n"
     ]
    }
   ],
   "source": [
    "for a, b in (finder2.above_score(bigram_measures.raw_freq,1.0 / len(list(nltk.bigrams(tokens))))):\n",
    "        print a, b"
   ]
  },
  {
   "cell_type": "code",
   "execution_count": 63,
   "metadata": {
    "collapsed": false
   },
   "outputs": [
    {
     "name": "stdout",
     "output_type": "stream",
     "text": [
      "paulo roberto costa\n",
      "operação lava jato\n",
      "a a corrupção\n",
      "esquema de corrupção\n",
      "presidente dilma rousseff\n",
      "diretor da petrobras\n",
      "o ministério público\n",
      "a corrupção é\n",
      "do ministério público\n",
      "presidente da cbf\n"
     ]
    }
   ],
   "source": [
    "for a, b, c in finder3.above_score(trigram_measures.raw_freq,1.0 / len(list(nltk.trigrams(tokens)))):\n",
    "        print a, b, c"
   ]
  },
  {
   "cell_type": "code",
   "execution_count": 64,
   "metadata": {
    "collapsed": false
   },
   "outputs": [
    {
     "data": {
      "text/html": [
       "<div style=\"max-height:1000px;max-width:1500px;overflow:auto;\">\n",
       "<table border=\"1\" class=\"dataframe\">\n",
       "  <thead>\n",
       "    <tr style=\"text-align: right;\">\n",
       "      <th></th>\n",
       "      <th>Frequência</th>\n",
       "    </tr>\n",
       "    <tr>\n",
       "      <th>n-gramas</th>\n",
       "      <th></th>\n",
       "    </tr>\n",
       "  </thead>\n",
       "  <tbody>\n",
       "    <tr>\n",
       "      <th>(o, ex, -, diretor)</th>\n",
       "      <td>10</td>\n",
       "    </tr>\n",
       "    <tr>\n",
       "      <th>(ex, -, diretor, da)</th>\n",
       "      <td>9</td>\n",
       "    </tr>\n",
       "    <tr>\n",
       "      <th>(., de, acordo, com)</th>\n",
       "      <td>7</td>\n",
       "    </tr>\n",
       "    <tr>\n",
       "      <th>(-, diretor, da, petrobras)</th>\n",
       "      <td>6</td>\n",
       "    </tr>\n",
       "    <tr>\n",
       "      <th>(ex, -, presidente, da)</th>\n",
       "      <td>5</td>\n",
       "    </tr>\n",
       "    <tr>\n",
       "      <th>(combate, a, a, corrupção)</th>\n",
       "      <td>5</td>\n",
       "    </tr>\n",
       "    <tr>\n",
       "      <th>(quarta, -, feira, ()</th>\n",
       "      <td>5</td>\n",
       "    </tr>\n",
       "    <tr>\n",
       "      <th>(de, acordo, com, a)</th>\n",
       "      <td>5</td>\n",
       "    </tr>\n",
       "    <tr>\n",
       "      <th>(o, procurador, -, geral)</th>\n",
       "      <td>5</td>\n",
       "    </tr>\n",
       "    <tr>\n",
       "      <th>(., o, ex, -)</th>\n",
       "      <td>5</td>\n",
       "    </tr>\n",
       "    <tr>\n",
       "      <th>(de, acordo, com, o)</th>\n",
       "      <td>5</td>\n",
       "    </tr>\n",
       "    <tr>\n",
       "      <th>(paulo, roberto, costa, ,)</th>\n",
       "      <td>5</td>\n",
       "    </tr>\n",
       "    <tr>\n",
       "      <th>(a, presidente, dilma, rousseff)</th>\n",
       "      <td>5</td>\n",
       "    </tr>\n",
       "    <tr>\n",
       "      <th>(de, paulo, roberto, costa)</th>\n",
       "      <td>4</td>\n",
       "    </tr>\n",
       "    <tr>\n",
       "      <th>(acordo, de, delação, premiada)</th>\n",
       "      <td>4</td>\n",
       "    </tr>\n",
       "    <tr>\n",
       "      <th>(procurador, -, geral, da)</th>\n",
       "      <td>4</td>\n",
       "    </tr>\n",
       "    <tr>\n",
       "      <th>(presidente, da, cbf, ,)</th>\n",
       "      <td>4</td>\n",
       "    </tr>\n",
       "    <tr>\n",
       "      <th>(o, combate, a, a)</th>\n",
       "      <td>4</td>\n",
       "    </tr>\n",
       "    <tr>\n",
       "      <th>(o, ex, -, presidente)</th>\n",
       "      <td>4</td>\n",
       "    </tr>\n",
       "    <tr>\n",
       "      <th>(o, esquema, de, corrupção)</th>\n",
       "      <td>4</td>\n",
       "    </tr>\n",
       "    <tr>\n",
       "      <th>(a, a, corrupção, .)</th>\n",
       "      <td>4</td>\n",
       "    </tr>\n",
       "    <tr>\n",
       "      <th>(-, presidente, da, cbf)</th>\n",
       "      <td>4</td>\n",
       "    </tr>\n",
       "    <tr>\n",
       "      <th>(-, geral, da, república)</th>\n",
       "      <td>4</td>\n",
       "    </tr>\n",
       "    <tr>\n",
       "      <th>(., não, se, fala)</th>\n",
       "      <td>4</td>\n",
       "    </tr>\n",
       "    <tr>\n",
       "      <th>(de, justiça, dos, eua)</th>\n",
       "      <td>3</td>\n",
       "    </tr>\n",
       "    <tr>\n",
       "      <th>(da, república, ,, rodrigo)</th>\n",
       "      <td>3</td>\n",
       "    </tr>\n",
       "    <tr>\n",
       "      <th>(justiça, dos, eua, ,)</th>\n",
       "      <td>3</td>\n",
       "    </tr>\n",
       "    <tr>\n",
       "      <th>(senado, ,, renan, calheiros)</th>\n",
       "      <td>3</td>\n",
       "    </tr>\n",
       "    <tr>\n",
       "      <th>(., o, sr, .)</th>\n",
       "      <td>3</td>\n",
       "    </tr>\n",
       "    <tr>\n",
       "      <th>(a, margem, de, erro)</th>\n",
       "      <td>3</td>\n",
       "    </tr>\n",
       "    <tr>\n",
       "      <th>(,, josé, maria, marin)</th>\n",
       "      <td>3</td>\n",
       "    </tr>\n",
       "    <tr>\n",
       "      <th>(margem, de, erro, é)</th>\n",
       "      <td>3</td>\n",
       "    </tr>\n",
       "    <tr>\n",
       "      <th>(departamento, de, justiça, dos)</th>\n",
       "      <td>3</td>\n",
       "    </tr>\n",
       "    <tr>\n",
       "      <th>(., segundo, o, departamento)</th>\n",
       "      <td>3</td>\n",
       "    </tr>\n",
       "    <tr>\n",
       "      <th>(o, príncipe, da, jordânia)</th>\n",
       "      <td>3</td>\n",
       "    </tr>\n",
       "    <tr>\n",
       "      <th>(o, ministério, público, federal)</th>\n",
       "      <td>3</td>\n",
       "    </tr>\n",
       "    <tr>\n",
       "      <th>(r, $, 6, ,)</th>\n",
       "      <td>3</td>\n",
       "    </tr>\n",
       "    <tr>\n",
       "      <th>(pmdb, -, al, ),)</th>\n",
       "      <td>3</td>\n",
       "    </tr>\n",
       "    <tr>\n",
       "      <th>(da, operação, lava, jato)</th>\n",
       "      <td>3</td>\n",
       "    </tr>\n",
       "    <tr>\n",
       "      <th>(renan, calheiros, (, pmdb)</th>\n",
       "      <td>3</td>\n",
       "    </tr>\n",
       "  </tbody>\n",
       "</table>\n",
       "</div>"
      ],
      "text/plain": [
       "                                   Frequência\n",
       "n-gramas                                     \n",
       "(o, ex, -, diretor)                        10\n",
       "(ex, -, diretor, da)                        9\n",
       "(., de, acordo, com)                        7\n",
       "(-, diretor, da, petrobras)                 6\n",
       "(ex, -, presidente, da)                     5\n",
       "(combate, a, a, corrupção)                  5\n",
       "(quarta, -, feira, ()                       5\n",
       "(de, acordo, com, a)                        5\n",
       "(o, procurador, -, geral)                   5\n",
       "(., o, ex, -)                               5\n",
       "(de, acordo, com, o)                        5\n",
       "(paulo, roberto, costa, ,)                  5\n",
       "(a, presidente, dilma, rousseff)            5\n",
       "(de, paulo, roberto, costa)                 4\n",
       "(acordo, de, delação, premiada)             4\n",
       "(procurador, -, geral, da)                  4\n",
       "(presidente, da, cbf, ,)                    4\n",
       "(o, combate, a, a)                          4\n",
       "(o, ex, -, presidente)                      4\n",
       "(o, esquema, de, corrupção)                 4\n",
       "(a, a, corrupção, .)                        4\n",
       "(-, presidente, da, cbf)                    4\n",
       "(-, geral, da, república)                   4\n",
       "(., não, se, fala)                          4\n",
       "(de, justiça, dos, eua)                     3\n",
       "(da, república, ,, rodrigo)                 3\n",
       "(justiça, dos, eua, ,)                      3\n",
       "(senado, ,, renan, calheiros)               3\n",
       "(., o, sr, .)                               3\n",
       "(a, margem, de, erro)                       3\n",
       "(,, josé, maria, marin)                     3\n",
       "(margem, de, erro, é)                       3\n",
       "(departamento, de, justiça, dos)            3\n",
       "(., segundo, o, departamento)               3\n",
       "(o, príncipe, da, jordânia)                 3\n",
       "(o, ministério, público, federal)           3\n",
       "(r, $, 6, ,)                                3\n",
       "(pmdb, -, al, ),)                           3\n",
       "(da, operação, lava, jato)                  3\n",
       "(renan, calheiros, (, pmdb)                 3"
      ]
     },
     "execution_count": 64,
     "metadata": {},
     "output_type": "execute_result"
    }
   ],
   "source": [
    "from nltk.util import ngrams\n",
    "n = 4\n",
    "xgrams = ngrams(tokens, n)\n",
    "xgrams_counter = Counter(xgrams)\n",
    "df_ngrams = pd.DataFrame(xgrams_counter.items(), columns = [u'n-gramas',u'Frequência'])\n",
    "df_ngrams = df_ngrams.sort_index(by=u'Frequência', ascending=False)\n",
    "df_ngrams.set_index([u'n-gramas'], inplace=True)\n",
    "df_ngrams[0:40]"
   ]
  },
  {
   "cell_type": "code",
   "execution_count": 65,
   "metadata": {
    "collapsed": false
   },
   "outputs": [
    {
     "data": {
      "image/png": "[encoded data removed]",
      "text/plain": [
       "<matplotlib.figure.Figure at 0x7f0d4e36ca10>"
      ]
     },
     "metadata": {},
     "output_type": "display_data"
    }
   ],
   "source": [
    "nltk_text.dispersion_plot([u'fgv', \n",
    "                      u'ipea', \n",
    "                      u'ibge',\n",
    "                      u'aécio',\n",
    "                      u'dilma',\n",
    "                      u'lula',\n",
    "                      u'renda',\n",
    "                      u'cps-fgv',\n",
    "                      ])"
   ]
  },
  {
   "cell_type": "markdown",
   "metadata": {},
   "source": [
    "As funções a seguir permitem extrair as frases mais significativas do texto (sumarização automática)"
   ]
  },
  {
   "cell_type": "code",
   "execution_count": 66,
   "metadata": {
    "collapsed": false
   },
   "outputs": [],
   "source": [
    "def score_sentences(sentences, important_words):\n",
    "    # Approach taken from \"The Automatic Creation of Literature Abstracts\" by H.P. Luhn\n",
    "    CLUSTER_THRESHOLD = 5  # Distance between words to consider\n",
    "    scores = []\n",
    "    sentence_idx = -1\n",
    "    #for s in [nltk.tokenize.word_tokenize(s) for s in sentences]:\n",
    "    punktw2 = nltk.tokenize.WordPunctTokenizer() #trocando pelo punkt (melhor?)\n",
    "    for s in [punktw2.tokenize(s) for s in sentences]:    \n",
    "        sentence_idx += 1\n",
    "        word_idx = []\n",
    "        # For each word in the word list...\n",
    "        for w in important_words:\n",
    "            try:\n",
    "                # Compute an index for where any important words occur in the sentence\n",
    "                word_idx.append(s.index(w))\n",
    "            except ValueError, e: # w not in this particular sentence\n",
    "                pass\n",
    "        word_idx.sort()\n",
    "        # It is possible that some sentences may not contain any important words at all\n",
    "        if len(word_idx)== 0: continue\n",
    "        # Using the word index, compute clusters by using a max distance threshold\n",
    "        # for any two consecutive words\n",
    "        clusters = []\n",
    "        cluster = [word_idx[0]]\n",
    "        i = 1\n",
    "        while i < len(word_idx):\n",
    "            if word_idx[i] - word_idx[i - 1] < CLUSTER_THRESHOLD:\n",
    "                cluster.append(word_idx[i])\n",
    "            else:\n",
    "                clusters.append(cluster[:])\n",
    "                cluster = [word_idx[i]]\n",
    "            i += 1\n",
    "        clusters.append(cluster)\n",
    "        # Score each cluster. The max score for any given cluster is the score \n",
    "        # for the sentence\n",
    "        max_cluster_score = 0\n",
    "        for c in clusters:\n",
    "            significant_words_in_cluster = len(c)\n",
    "            total_words_in_cluster = c[-1] - c[0] + 1\n",
    "            score = 1.0 * significant_words_in_cluster \\\n",
    "                * significant_words_in_cluster / total_words_in_cluster\n",
    "            if score > max_cluster_score:\n",
    "                max_cluster_score = score\n",
    "        scores.append((sentence_idx, score))\n",
    "    return scores"
   ]
  },
  {
   "cell_type": "code",
   "execution_count": 67,
   "metadata": {
    "collapsed": false
   },
   "outputs": [],
   "source": [
    "def summarize(txt):\n",
    "    TOP_SENTENCES = 10  # Number of sentences to choose on \"top n\"\n",
    "    N = 100  # Number of words to consider\n",
    "    #sentences = [s for s in nltk.tokenize.sent_tokenize(txt)]\n",
    "    punkts = nltk.tokenize.PunktSentenceTokenizer() #trocando pelo punkt (melhor?)\n",
    "    punktw = nltk.tokenize.WordPunctTokenizer() #trocando pelo punkt (melhor?)\n",
    "    sentences = [s for s in punkts.tokenize(txt)]\n",
    "    normalized_sentences = [s.lower() for s in sentences]\n",
    "    words = [w.lower() for sentence in normalized_sentences for w in punktw.tokenize(sentence)]\n",
    "    fdist = nltk.FreqDist(words)\n",
    "    top_n_words = [w[0] for w in fdist.items() if w[0] not in ignore_words][:N]\n",
    "    scored_sentences = score_sentences(normalized_sentences, top_n_words)\n",
    "    # First approach:\n",
    "    # Filter out non-significant sentences by using the average score plus a\n",
    "    # fraction of the std dev as a filter\n",
    "    avg = np.mean([s[1] for s in scored_sentences])\n",
    "    std = np.std([s[1] for s in scored_sentences])\n",
    "    mean_scored = [(sent_idx, score) for (sent_idx, score) in scored_sentences\n",
    "                   if score > avg + 0.5 * std]\n",
    "    # Second Approach: \n",
    "    # Return only the top N ranked sentences\n",
    "    top_n_scored = sorted(scored_sentences, key=lambda s: s[1])[-TOP_SENTENCES:]\n",
    "    top_n_scored = sorted(top_n_scored, key=lambda s: s[0])\n",
    "    # Decorate the post object with summaries\n",
    "    return dict(top_n_summary=[sentences[idx] for (idx, score) in top_n_scored],\n",
    "                mean_scored_summary=[sentences[idx] for (idx, score) in mean_scored])"
   ]
  },
  {
   "cell_type": "code",
   "execution_count": 68,
   "metadata": {
    "collapsed": false
   },
   "outputs": [
    {
     "name": "stdout",
     "output_type": "stream",
     "text": [
      "frases mais importantes(1):\n",
      "\n",
      "o adiamento de projetos em refino levou ao reconhecimento de perda de r$ 21,8 bilhões no comperj, refinaria em construção no estado do rio e de r$ 9,1 bilhões na refinaria de abreu e lima, em pernambuco.\n",
      "\n",
      "conselheiros e diretores concluíram, porém, que o número incorporava outras perdas além da corrupção, como variação do câmbio e do barril, além de ineficiência dos projetos.\n",
      "\n",
      "as obras das duas refinarias foram alguns dos principais alvos de atuação do cartel que sustentou o esquema de corrupção na empresa.\n",
      "\n",
      "foi reconhecida uma baixa de r$ 3 bilhões relativas a a petroquímica de suape, em pernambuco.\n",
      "\n",
      "com as evidências do desvio, a empresa teve de calcular o que foi lançado indevidamente como investimento mas que, na verdade, foi desviado em propina.\n",
      "\n",
      "janot concorre a a indicação dos colegas para permanecer no comando da instituição por mais dois anos –seu mandato termina em setembro.\n",
      "\n",
      "em janeiro, duas consultorias contratadas por graça chegou a uma conta que mostrava ativos superavaliados em r$ 88,6 bilhões.\n",
      "\n",
      "o lançamento das perdas de corrupção foi exigência da pwc, empresa que audita as demonstrações financeiras da estatal.\n",
      "\n",
      "carlos frederico santos chegou a enviar uma mensagem interna aos colegas para rebater boatos de que teria ligações com o presidente da câmara, eduardo cunha (pmdb-rj), um dos 35 políticos investigados na lava jato.\n",
      "\n",
      "o ex-jogador português luís figo era candidato até semana passada, quando saiu da disputa disparando contra o comando da entidade.\n",
      "\n"
     ]
    }
   ],
   "source": [
    "sumarios = summarize(raw_texts)\n",
    "sumarios['top_n_summary'] = set(sumarios['top_n_summary'])\n",
    "sumarios['mean_scored_summary'] = set(sumarios['mean_scored_summary'])\n",
    "\n",
    "print(u'frases mais importantes(1):\\n')\n",
    "for s in sumarios['top_n_summary']:\n",
    "    print(u'{}\\n'.format(s))"
   ]
  },
  {
   "cell_type": "code",
   "execution_count": 69,
   "metadata": {
    "collapsed": false
   },
   "outputs": [
    {
     "name": "stdout",
     "output_type": "stream",
     "text": [
      "\n",
      "frases mais importantes(2):\n",
      "\n",
      "janot concorre a a indicação dos colegas para permanecer no comando da instituição por mais dois anos –seu mandato termina em setembro.\n",
      "\n",
      "carlos frederico santos chegou a enviar uma mensagem interna aos colegas para rebater boatos de que teria ligações com o presidente da câmara, eduardo cunha (pmdb-rj), um dos 35 políticos investigados na lava jato.\n",
      "\n",
      "o ex-jogador português luís figo era candidato até semana passada, quando saiu da disputa disparando contra o comando da entidade.\n",
      "\n"
     ]
    }
   ],
   "source": [
    "print(u'\\nfrases mais importantes(2):\\n')\n",
    "for s in sumarios['mean_scored_summary']:\n",
    "    print(u'{}\\n'.format(s))"
   ]
  },
  {
   "cell_type": "markdown",
   "metadata": {},
   "source": [
    "Extração de palavras relevantes usando TF-IDf  \n",
    "http://radimrehurek.com/gensim/models/tfidfmodel.html  \n",
    "http://radimrehurek.com/gensim/tutorial.html  \n",
    "http://radimrehurek.com/gensim/tut2.html  "
   ]
  },
  {
   "cell_type": "code",
   "execution_count": 70,
   "metadata": {
    "collapsed": false
   },
   "outputs": [],
   "source": [
    "tokens_once = [key for key in freq_words.keys() if freq_words[key]==1]\n",
    "texts = [[word.strip(string.punctuation) for word in document.lower().split() if word not in ignore_words]\n",
    "         for document in list_raw_texts]\n",
    "texts = [[word for word in text if word not in tokens_once and len(word) > 1] for text in texts]\n",
    "dictionary = gensim.corpora.Dictionary(texts)\n",
    "corpus = [dictionary.doc2bow(text) for text in texts]\n",
    "tfidf = gensim.models.TfidfModel(corpus)\n",
    "corpus_tfidf = tfidf[corpus]"
   ]
  },
  {
   "cell_type": "code",
   "execution_count": 71,
   "metadata": {
    "collapsed": false
   },
   "outputs": [
    {
     "name": "stdout",
     "output_type": "stream",
     "text": [
      "\n",
      "Relevant Words in Document 1:\n",
      "\n",
      "eua\t0.271318117274\n",
      "\n",
      "Relevant Words in Document 2:\n",
      "\n",
      "supremo\t0.236194490204\n",
      "\n",
      "Relevant Words in Document 3:\n",
      "\n",
      "propostas\t0.285890159244\n",
      "\n",
      "Relevant Words in Document 4:\n",
      "\n",
      "bandeira\t0.228046663566\n",
      "\n",
      "Relevant Words in Document 5:\n",
      "\n",
      "janot\t0.318591362554\n",
      "\n",
      "Relevant Words in Document 6:\n",
      "\n",
      "política\t0.415655921552\n",
      "\n",
      "Relevant Words in Document 7:\n",
      "\n",
      "manifestantes\t0.391926427329\n",
      "\n",
      "Relevant Words in Document 8:\n",
      "\n",
      "futebol\t0.385810077936\n",
      "\n",
      "Relevant Words in Document 9:\n",
      "\n",
      "depois\t0.280372668672\n",
      "\n",
      "Relevant Words in Document 10:\n",
      "\n",
      "pf\t0.432308393258\n",
      "\n",
      "Relevant Words in Document 11:\n",
      "\n",
      "cerveró\t0.670705054197\n",
      "\n",
      "Relevant Words in Document 12:\n",
      "\n",
      "bali\t0.632665193666\n",
      "\n",
      "Relevant Words in Document 13:\n",
      "\n",
      "acreditam\t0.473793702456\n",
      "\n",
      "Relevant Words in Document 14:\n",
      "\n",
      "projeto\t0.263372060271\n",
      "\n",
      "Relevant Words in Document 15:\n",
      "\n",
      "costa\t0.375765694444\n",
      "\n",
      "Relevant Words in Document 16:\n",
      "\n",
      "entidade\t0.322124387706\n",
      "\n",
      "Relevant Words in Document 17:\n",
      "\n",
      "ptb\t0.327177066213\n",
      "\n",
      "Relevant Words in Document 18:\n",
      "\n",
      "br\t0.344748614203\n",
      "\n",
      "Relevant Words in Document 19:\n",
      "\n",
      "patamar\t0.299241136096\n",
      "\n",
      "Relevant Words in Document 20:\n",
      "\n",
      "fala\t0.440660808\n",
      "\n",
      "Relevant Words in Document 21:\n",
      "\n",
      "domingo\t0.337748197058\n",
      "\n",
      "Relevant Words in Document 22:\n",
      "\n",
      "zero\t0.215283221144\n",
      "\n",
      "Relevant Words in Document 23:\n",
      "\n",
      "bilhões\t0.408700608231\n"
     ]
    }
   ],
   "source": [
    "x = 1\n",
    "for doc in corpus_tfidf:\n",
    "    print(u'\\nRelevant Words in Document {}:\\n'.format(x))\n",
    "    relev = 0\n",
    "    top_w = ''\n",
    "    x+=1\n",
    "    for w_in_dic, tfidf_w in doc:\n",
    "        if tfidf_w > relev:\n",
    "            top_w = w_in_dic\n",
    "            relev = tfidf_w\n",
    "    if top_w != '' and relev > 0:\n",
    "        print('{}\\t{}'.format(dictionary[top_w], relev)) #Rever questão do UTF-8\n",
    "    else:\n",
    "        print('Nothing relevant')"
   ]
  },
  {
   "cell_type": "code",
   "execution_count": null,
   "metadata": {
    "collapsed": true
   },
   "outputs": [],
   "source": []
  }
 ],
 "metadata": {
  "kernelspec": {
   "display_name": "Python 3",
   "language": "python",
   "name": "python3"
  },
  "language_info": {
   "codemirror_mode": {
    "name": "ipython",
    "version": 3
   },
   "file_extension": ".py",
   "mimetype": "text/x-python",
   "name": "python",
   "nbconvert_exporter": "python",
   "pygments_lexer": "ipython3",
   "version": "3.5.2+"
  }
 },
 "nbformat": 4,
 "nbformat_minor": 0
}
