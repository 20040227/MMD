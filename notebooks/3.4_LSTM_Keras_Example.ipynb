{
 "cells": [
  {
   "cell_type": "markdown",
   "metadata": {},
   "source": [
    "### Develop a Small LSTM Recurrent Neural Network"
   ]
  },
  {
   "cell_type": "markdown",
   "metadata": {},
   "source": [
    "Let’s start off by importing the classes and functions we intend to use to train our model."
   ]
  },
  {
   "cell_type": "code",
   "execution_count": 1,
   "metadata": {},
   "outputs": [
    {
     "name": "stderr",
     "output_type": "stream",
     "text": [
      "Using TensorFlow backend.\n"
     ]
    }
   ],
   "source": [
    "import os\n",
    "#os.environ[\"KERAS_BACKEND\"] = \"theano\"\n",
    "os.environ[\"KERAS_BACKEND\"] = \"tensorflow\"\n",
    "\n",
    "import sys\n",
    "import re\n",
    "import numpy\n",
    "import matplotlib.pyplot as plt\n",
    "from keras.models import Sequential\n",
    "from keras.layers import Dense\n",
    "from keras.layers import Dropout\n",
    "from keras.layers import LSTM\n",
    "from keras.callbacks import ModelCheckpoint\n",
    "from keras.utils import np_utils\n",
    "import tensorflow as tf"
   ]
  },
  {
   "cell_type": "code",
   "execution_count": 2,
   "metadata": {},
   "outputs": [],
   "source": [
    "# fix random seed for reproducibility\n",
    "seed = 7\n",
    "numpy.random.seed(seed)"
   ]
  },
  {
   "cell_type": "markdown",
   "metadata": {},
   "source": [
    "First we'll develop a small ANN with Keras:"
   ]
  },
  {
   "cell_type": "code",
   "execution_count": 3,
   "metadata": {},
   "outputs": [],
   "source": [
    "# load pima indians dataset\n",
    "dataset = numpy.loadtxt(\"../../datasets/CSVs/pima-indians-diabetes.data\", delimiter=\",\")"
   ]
  },
  {
   "cell_type": "code",
   "execution_count": 4,
   "metadata": {},
   "outputs": [],
   "source": [
    "# split into input (X) and output (Y) variables\n",
    "X = dataset[:,0:8]\n",
    "Y = dataset[:,8]"
   ]
  },
  {
   "cell_type": "code",
   "execution_count": 5,
   "metadata": {},
   "outputs": [],
   "source": [
    "# create model\n",
    "model = Sequential()\n",
    "model.add(Dense(12, input_dim=8, activation=\"relu\", kernel_initializer=\"uniform\"))\n",
    "model.add(Dense(8, activation=\"relu\", kernel_initializer=\"uniform\"))\n",
    "model.add(Dense(1, activation=\"sigmoid\", kernel_initializer=\"uniform\"))"
   ]
  },
  {
   "cell_type": "code",
   "execution_count": 6,
   "metadata": {},
   "outputs": [],
   "source": [
    "# Compile model\n",
    "model.compile(loss='binary_crossentropy', optimizer='adam', metrics=['accuracy'])"
   ]
  },
  {
   "cell_type": "code",
   "execution_count": 7,
   "metadata": {
    "scrolled": true
   },
   "outputs": [
    {
     "name": "stdout",
     "output_type": "stream",
     "text": [
      "Train on 514 samples, validate on 254 samples\n",
      "Epoch 1/150\n",
      "514/514 [==============================] - 0s - loss: 0.6800 - acc: 0.6401 - val_loss: 0.6587 - val_acc: 0.6732\n",
      "Epoch 2/150\n",
      "514/514 [==============================] - 0s - loss: 0.6688 - acc: 0.6401 - val_loss: 0.6535 - val_acc: 0.6732\n",
      "Epoch 3/150\n",
      "514/514 [==============================] - 0s - loss: 0.6613 - acc: 0.6401 - val_loss: 0.6506 - val_acc: 0.6732\n",
      "Epoch 4/150\n",
      "514/514 [==============================] - 0s - loss: 0.6517 - acc: 0.6362 - val_loss: 0.6426 - val_acc: 0.6969\n",
      "Epoch 5/150\n",
      "514/514 [==============================] - 0s - loss: 0.6380 - acc: 0.6576 - val_loss: 0.6306 - val_acc: 0.6772\n",
      "Epoch 6/150\n",
      "514/514 [==============================] - 0s - loss: 0.6291 - acc: 0.6479 - val_loss: 0.6173 - val_acc: 0.6890\n",
      "Epoch 7/150\n",
      "514/514 [==============================] - 0s - loss: 0.6165 - acc: 0.6751 - val_loss: 0.6123 - val_acc: 0.6811\n",
      "Epoch 8/150\n",
      "514/514 [==============================] - 0s - loss: 0.6133 - acc: 0.6576 - val_loss: 0.6061 - val_acc: 0.6417\n",
      "Epoch 9/150\n",
      "514/514 [==============================] - 0s - loss: 0.6027 - acc: 0.6751 - val_loss: 0.6004 - val_acc: 0.6732\n",
      "Epoch 10/150\n",
      "514/514 [==============================] - 0s - loss: 0.5980 - acc: 0.6848 - val_loss: 0.6004 - val_acc: 0.6575\n",
      "Epoch 11/150\n",
      "514/514 [==============================] - 0s - loss: 0.5975 - acc: 0.6770 - val_loss: 0.6042 - val_acc: 0.6496\n",
      "Epoch 12/150\n",
      "514/514 [==============================] - 0s - loss: 0.6011 - acc: 0.6751 - val_loss: 0.6004 - val_acc: 0.6417\n",
      "Epoch 13/150\n",
      "514/514 [==============================] - 0s - loss: 0.5956 - acc: 0.6946 - val_loss: 0.5943 - val_acc: 0.6654\n",
      "Epoch 14/150\n",
      "514/514 [==============================] - 0s - loss: 0.5890 - acc: 0.6926 - val_loss: 0.5901 - val_acc: 0.6811\n",
      "Epoch 15/150\n",
      "514/514 [==============================] - 0s - loss: 0.5899 - acc: 0.6965 - val_loss: 0.5877 - val_acc: 0.6654\n",
      "Epoch 16/150\n",
      "514/514 [==============================] - 0s - loss: 0.5948 - acc: 0.6887 - val_loss: 0.5867 - val_acc: 0.6850\n",
      "Epoch 17/150\n",
      "514/514 [==============================] - 0s - loss: 0.5872 - acc: 0.7004 - val_loss: 0.5844 - val_acc: 0.6850\n",
      "Epoch 18/150\n",
      "514/514 [==============================] - 0s - loss: 0.5848 - acc: 0.6984 - val_loss: 0.5806 - val_acc: 0.6890\n",
      "Epoch 19/150\n",
      "514/514 [==============================] - 0s - loss: 0.5843 - acc: 0.7140 - val_loss: 0.5807 - val_acc: 0.7244\n",
      "Epoch 20/150\n",
      "514/514 [==============================] - 0s - loss: 0.5816 - acc: 0.7218 - val_loss: 0.5870 - val_acc: 0.6496\n",
      "Epoch 21/150\n",
      "514/514 [==============================] - 0s - loss: 0.5823 - acc: 0.7062 - val_loss: 0.5894 - val_acc: 0.6496\n",
      "Epoch 22/150\n",
      "514/514 [==============================] - 0s - loss: 0.5782 - acc: 0.7276 - val_loss: 0.5840 - val_acc: 0.7008\n",
      "Epoch 23/150\n",
      "514/514 [==============================] - 0s - loss: 0.5783 - acc: 0.7082 - val_loss: 0.5757 - val_acc: 0.7047\n",
      "Epoch 24/150\n",
      "514/514 [==============================] - 0s - loss: 0.5672 - acc: 0.7335 - val_loss: 0.5815 - val_acc: 0.6929\n",
      "Epoch 25/150\n",
      "514/514 [==============================] - 0s - loss: 0.5780 - acc: 0.7101 - val_loss: 0.5756 - val_acc: 0.6811\n",
      "Epoch 26/150\n",
      "514/514 [==============================] - 0s - loss: 0.5715 - acc: 0.7296 - val_loss: 0.5728 - val_acc: 0.7283\n",
      "Epoch 27/150\n",
      "514/514 [==============================] - 0s - loss: 0.5713 - acc: 0.7374 - val_loss: 0.5708 - val_acc: 0.7047\n",
      "Epoch 28/150\n",
      "514/514 [==============================] - 0s - loss: 0.5760 - acc: 0.7101 - val_loss: 0.6219 - val_acc: 0.6063\n",
      "Epoch 29/150\n",
      "514/514 [==============================] - 0s - loss: 0.5704 - acc: 0.7198 - val_loss: 0.5794 - val_acc: 0.7165\n",
      "Epoch 30/150\n",
      "514/514 [==============================] - 0s - loss: 0.5645 - acc: 0.7257 - val_loss: 0.5731 - val_acc: 0.7244\n",
      "Epoch 31/150\n",
      "514/514 [==============================] - 0s - loss: 0.5597 - acc: 0.7276 - val_loss: 0.5695 - val_acc: 0.6850\n",
      "Epoch 32/150\n",
      "514/514 [==============================] - 0s - loss: 0.5649 - acc: 0.7198 - val_loss: 0.5920 - val_acc: 0.6496\n",
      "Epoch 33/150\n",
      "514/514 [==============================] - 0s - loss: 0.5726 - acc: 0.7276 - val_loss: 0.5831 - val_acc: 0.7205\n",
      "Epoch 34/150\n",
      "514/514 [==============================] - 0s - loss: 0.5568 - acc: 0.7354 - val_loss: 0.5715 - val_acc: 0.6850\n",
      "Epoch 35/150\n",
      "514/514 [==============================] - 0s - loss: 0.5535 - acc: 0.7374 - val_loss: 0.5631 - val_acc: 0.7008\n",
      "Epoch 36/150\n",
      "514/514 [==============================] - 0s - loss: 0.5625 - acc: 0.7296 - val_loss: 0.5749 - val_acc: 0.7008\n",
      "Epoch 37/150\n",
      "514/514 [==============================] - 0s - loss: 0.5531 - acc: 0.7335 - val_loss: 0.5633 - val_acc: 0.7126\n",
      "Epoch 38/150\n",
      "514/514 [==============================] - 0s - loss: 0.5518 - acc: 0.7257 - val_loss: 0.5532 - val_acc: 0.7126\n",
      "Epoch 39/150\n",
      "514/514 [==============================] - 0s - loss: 0.5566 - acc: 0.7121 - val_loss: 0.5527 - val_acc: 0.7126\n",
      "Epoch 40/150\n",
      "514/514 [==============================] - 0s - loss: 0.5547 - acc: 0.7354 - val_loss: 0.5528 - val_acc: 0.6969\n",
      "Epoch 41/150\n",
      "514/514 [==============================] - 0s - loss: 0.5493 - acc: 0.7432 - val_loss: 0.5519 - val_acc: 0.7165\n",
      "Epoch 42/150\n",
      "514/514 [==============================] - 0s - loss: 0.5508 - acc: 0.7432 - val_loss: 0.5628 - val_acc: 0.7362\n",
      "Epoch 43/150\n",
      "514/514 [==============================] - 0s - loss: 0.5499 - acc: 0.7451 - val_loss: 0.5562 - val_acc: 0.7126\n",
      "Epoch 44/150\n",
      "514/514 [==============================] - 0s - loss: 0.5482 - acc: 0.7237 - val_loss: 0.5551 - val_acc: 0.7165\n",
      "Epoch 45/150\n",
      "514/514 [==============================] - 0s - loss: 0.5408 - acc: 0.7374 - val_loss: 0.5834 - val_acc: 0.6496\n",
      "Epoch 46/150\n",
      "514/514 [==============================] - 0s - loss: 0.5538 - acc: 0.7237 - val_loss: 0.5615 - val_acc: 0.7165\n",
      "Epoch 47/150\n",
      "514/514 [==============================] - 0s - loss: 0.5464 - acc: 0.7335 - val_loss: 0.5492 - val_acc: 0.7205\n",
      "Epoch 48/150\n",
      "514/514 [==============================] - 0s - loss: 0.5489 - acc: 0.7276 - val_loss: 0.5491 - val_acc: 0.7283\n",
      "Epoch 49/150\n",
      "514/514 [==============================] - 0s - loss: 0.5444 - acc: 0.7412 - val_loss: 0.5459 - val_acc: 0.7008\n",
      "Epoch 50/150\n",
      "514/514 [==============================] - 0s - loss: 0.5422 - acc: 0.7490 - val_loss: 0.5591 - val_acc: 0.6969\n",
      "Epoch 51/150\n",
      "514/514 [==============================] - 0s - loss: 0.5359 - acc: 0.7432 - val_loss: 0.5381 - val_acc: 0.7362\n",
      "Epoch 52/150\n",
      "514/514 [==============================] - 0s - loss: 0.5431 - acc: 0.7354 - val_loss: 0.5572 - val_acc: 0.7165\n",
      "Epoch 53/150\n",
      "514/514 [==============================] - 0s - loss: 0.5383 - acc: 0.7412 - val_loss: 0.5483 - val_acc: 0.7283\n",
      "Epoch 54/150\n",
      "514/514 [==============================] - 0s - loss: 0.5391 - acc: 0.7315 - val_loss: 0.5453 - val_acc: 0.7205\n",
      "Epoch 55/150\n",
      "514/514 [==============================] - 0s - loss: 0.5365 - acc: 0.7315 - val_loss: 0.5447 - val_acc: 0.7087\n",
      "Epoch 56/150\n",
      "514/514 [==============================] - 0s - loss: 0.5424 - acc: 0.7179 - val_loss: 0.5527 - val_acc: 0.7126\n",
      "Epoch 57/150\n",
      "514/514 [==============================] - 0s - loss: 0.5380 - acc: 0.7315 - val_loss: 0.5607 - val_acc: 0.7323\n",
      "Epoch 58/150\n",
      "514/514 [==============================] - 0s - loss: 0.5338 - acc: 0.7218 - val_loss: 0.5599 - val_acc: 0.6929\n",
      "Epoch 59/150\n",
      "514/514 [==============================] - 0s - loss: 0.5393 - acc: 0.7412 - val_loss: 0.5414 - val_acc: 0.7402\n",
      "Epoch 60/150\n",
      "514/514 [==============================] - 0s - loss: 0.5368 - acc: 0.7315 - val_loss: 0.5394 - val_acc: 0.7283\n",
      "Epoch 61/150\n",
      "514/514 [==============================] - 0s - loss: 0.5433 - acc: 0.7471 - val_loss: 0.5535 - val_acc: 0.7126\n",
      "Epoch 62/150\n",
      "514/514 [==============================] - 0s - loss: 0.5368 - acc: 0.7335 - val_loss: 0.5481 - val_acc: 0.7244\n",
      "Epoch 63/150\n",
      "514/514 [==============================] - 0s - loss: 0.5305 - acc: 0.7432 - val_loss: 0.5440 - val_acc: 0.7244\n",
      "Epoch 64/150\n",
      "514/514 [==============================] - 0s - loss: 0.5325 - acc: 0.7374 - val_loss: 0.5387 - val_acc: 0.7402\n",
      "Epoch 65/150\n",
      "514/514 [==============================] - 0s - loss: 0.5346 - acc: 0.7393 - val_loss: 0.5530 - val_acc: 0.7087\n",
      "Epoch 66/150\n"
     ]
    },
    {
     "name": "stdout",
     "output_type": "stream",
     "text": [
      "514/514 [==============================] - 0s - loss: 0.5390 - acc: 0.7276 - val_loss: 0.5300 - val_acc: 0.7598\n",
      "Epoch 67/150\n",
      "514/514 [==============================] - 0s - loss: 0.5301 - acc: 0.7315 - val_loss: 0.5513 - val_acc: 0.7244\n",
      "Epoch 68/150\n",
      "514/514 [==============================] - 0s - loss: 0.5357 - acc: 0.7354 - val_loss: 0.5547 - val_acc: 0.7244\n",
      "Epoch 69/150\n",
      "514/514 [==============================] - 0s - loss: 0.5324 - acc: 0.7412 - val_loss: 0.5422 - val_acc: 0.7402\n",
      "Epoch 70/150\n",
      "514/514 [==============================] - 0s - loss: 0.5353 - acc: 0.7393 - val_loss: 0.5454 - val_acc: 0.7323\n",
      "Epoch 71/150\n",
      "514/514 [==============================] - 0s - loss: 0.5328 - acc: 0.7471 - val_loss: 0.5460 - val_acc: 0.7323\n",
      "Epoch 72/150\n",
      "514/514 [==============================] - 0s - loss: 0.5287 - acc: 0.7471 - val_loss: 0.5284 - val_acc: 0.7598\n",
      "Epoch 73/150\n",
      "514/514 [==============================] - 0s - loss: 0.5361 - acc: 0.7335 - val_loss: 0.5323 - val_acc: 0.7480\n",
      "Epoch 74/150\n",
      "514/514 [==============================] - 0s - loss: 0.5256 - acc: 0.7451 - val_loss: 0.5357 - val_acc: 0.7402\n",
      "Epoch 75/150\n",
      "514/514 [==============================] - 0s - loss: 0.5285 - acc: 0.7393 - val_loss: 0.5377 - val_acc: 0.7520\n",
      "Epoch 76/150\n",
      "514/514 [==============================] - 0s - loss: 0.5232 - acc: 0.7374 - val_loss: 0.5313 - val_acc: 0.7362\n",
      "Epoch 77/150\n",
      "514/514 [==============================] - 0s - loss: 0.5256 - acc: 0.7471 - val_loss: 0.5260 - val_acc: 0.7598\n",
      "Epoch 78/150\n",
      "514/514 [==============================] - 0s - loss: 0.5236 - acc: 0.7412 - val_loss: 0.5259 - val_acc: 0.7480\n",
      "Epoch 79/150\n",
      "514/514 [==============================] - 0s - loss: 0.5325 - acc: 0.7568 - val_loss: 0.5358 - val_acc: 0.7323\n",
      "Epoch 80/150\n",
      "514/514 [==============================] - 0s - loss: 0.5235 - acc: 0.7549 - val_loss: 0.5306 - val_acc: 0.7441\n",
      "Epoch 81/150\n",
      "514/514 [==============================] - 0s - loss: 0.5327 - acc: 0.7490 - val_loss: 0.5250 - val_acc: 0.7598\n",
      "Epoch 82/150\n",
      "514/514 [==============================] - 0s - loss: 0.5250 - acc: 0.7335 - val_loss: 0.5249 - val_acc: 0.7441\n",
      "Epoch 83/150\n",
      "514/514 [==============================] - 0s - loss: 0.5180 - acc: 0.7315 - val_loss: 0.5321 - val_acc: 0.7362\n",
      "Epoch 84/150\n",
      "514/514 [==============================] - 0s - loss: 0.5298 - acc: 0.7393 - val_loss: 0.5256 - val_acc: 0.7677\n",
      "Epoch 85/150\n",
      "514/514 [==============================] - 0s - loss: 0.5241 - acc: 0.7490 - val_loss: 0.5321 - val_acc: 0.7520\n",
      "Epoch 86/150\n",
      "514/514 [==============================] - 0s - loss: 0.5200 - acc: 0.7412 - val_loss: 0.5309 - val_acc: 0.7441\n",
      "Epoch 87/150\n",
      "514/514 [==============================] - 0s - loss: 0.5173 - acc: 0.7471 - val_loss: 0.5211 - val_acc: 0.7559\n",
      "Epoch 88/150\n",
      "514/514 [==============================] - 0s - loss: 0.5179 - acc: 0.7451 - val_loss: 0.5286 - val_acc: 0.7480\n",
      "Epoch 89/150\n",
      "514/514 [==============================] - 0s - loss: 0.5188 - acc: 0.7471 - val_loss: 0.5264 - val_acc: 0.7402\n",
      "Epoch 90/150\n",
      "514/514 [==============================] - 0s - loss: 0.5220 - acc: 0.7451 - val_loss: 0.5334 - val_acc: 0.7441\n",
      "Epoch 91/150\n",
      "514/514 [==============================] - 0s - loss: 0.5223 - acc: 0.7393 - val_loss: 0.5291 - val_acc: 0.7480\n",
      "Epoch 92/150\n",
      "514/514 [==============================] - 0s - loss: 0.5277 - acc: 0.7354 - val_loss: 0.5184 - val_acc: 0.7598\n",
      "Epoch 93/150\n",
      "514/514 [==============================] - 0s - loss: 0.5178 - acc: 0.7549 - val_loss: 0.5218 - val_acc: 0.7520\n",
      "Epoch 94/150\n",
      "514/514 [==============================] - 0s - loss: 0.5218 - acc: 0.7471 - val_loss: 0.5174 - val_acc: 0.7638\n",
      "Epoch 95/150\n",
      "514/514 [==============================] - 0s - loss: 0.5193 - acc: 0.7646 - val_loss: 0.5391 - val_acc: 0.7244\n",
      "Epoch 96/150\n",
      "514/514 [==============================] - 0s - loss: 0.5248 - acc: 0.7354 - val_loss: 0.5219 - val_acc: 0.7598\n",
      "Epoch 97/150\n",
      "514/514 [==============================] - 0s - loss: 0.5177 - acc: 0.7568 - val_loss: 0.5144 - val_acc: 0.7559\n",
      "Epoch 98/150\n",
      "514/514 [==============================] - 0s - loss: 0.5232 - acc: 0.7374 - val_loss: 0.5183 - val_acc: 0.7362\n",
      "Epoch 99/150\n",
      "514/514 [==============================] - 0s - loss: 0.5254 - acc: 0.7412 - val_loss: 0.5249 - val_acc: 0.7402\n",
      "Epoch 100/150\n",
      "514/514 [==============================] - 0s - loss: 0.5211 - acc: 0.7354 - val_loss: 0.5081 - val_acc: 0.7913\n",
      "Epoch 101/150\n",
      "514/514 [==============================] - 0s - loss: 0.5163 - acc: 0.7588 - val_loss: 0.5203 - val_acc: 0.7402\n",
      "Epoch 102/150\n",
      "514/514 [==============================] - 0s - loss: 0.5118 - acc: 0.7510 - val_loss: 0.5087 - val_acc: 0.7677\n",
      "Epoch 103/150\n",
      "514/514 [==============================] - 0s - loss: 0.5233 - acc: 0.7451 - val_loss: 0.5260 - val_acc: 0.7638\n",
      "Epoch 104/150\n",
      "514/514 [==============================] - 0s - loss: 0.5174 - acc: 0.7412 - val_loss: 0.5061 - val_acc: 0.7835\n",
      "Epoch 105/150\n",
      "514/514 [==============================] - 0s - loss: 0.5124 - acc: 0.7549 - val_loss: 0.5118 - val_acc: 0.7677\n",
      "Epoch 106/150\n",
      "514/514 [==============================] - 0s - loss: 0.5169 - acc: 0.7393 - val_loss: 0.5084 - val_acc: 0.7598\n",
      "Epoch 107/150\n",
      "514/514 [==============================] - 0s - loss: 0.5149 - acc: 0.7471 - val_loss: 0.5306 - val_acc: 0.7323\n",
      "Epoch 108/150\n",
      "514/514 [==============================] - 0s - loss: 0.5283 - acc: 0.7607 - val_loss: 0.5119 - val_acc: 0.7598\n",
      "Epoch 109/150\n",
      "514/514 [==============================] - 0s - loss: 0.5150 - acc: 0.7471 - val_loss: 0.5039 - val_acc: 0.7795\n",
      "Epoch 110/150\n",
      "514/514 [==============================] - 0s - loss: 0.5091 - acc: 0.7607 - val_loss: 0.5357 - val_acc: 0.7441\n",
      "Epoch 111/150\n",
      "514/514 [==============================] - 0s - loss: 0.5249 - acc: 0.7510 - val_loss: 0.5084 - val_acc: 0.7717\n",
      "Epoch 112/150\n",
      "514/514 [==============================] - 0s - loss: 0.5060 - acc: 0.7549 - val_loss: 0.5129 - val_acc: 0.7795\n",
      "Epoch 113/150\n",
      "514/514 [==============================] - 0s - loss: 0.5108 - acc: 0.7490 - val_loss: 0.5083 - val_acc: 0.7638\n",
      "Epoch 114/150\n",
      "514/514 [==============================] - 0s - loss: 0.5066 - acc: 0.7568 - val_loss: 0.5156 - val_acc: 0.7717\n",
      "Epoch 115/150\n",
      "514/514 [==============================] - 0s - loss: 0.5138 - acc: 0.7296 - val_loss: 0.5020 - val_acc: 0.7756\n",
      "Epoch 116/150\n",
      "514/514 [==============================] - 0s - loss: 0.5078 - acc: 0.7588 - val_loss: 0.5017 - val_acc: 0.7913\n",
      "Epoch 117/150\n",
      "514/514 [==============================] - 0s - loss: 0.5187 - acc: 0.7296 - val_loss: 0.5296 - val_acc: 0.7402\n",
      "Epoch 118/150\n",
      "514/514 [==============================] - 0s - loss: 0.5090 - acc: 0.7432 - val_loss: 0.5012 - val_acc: 0.7756\n",
      "Epoch 119/150\n",
      "514/514 [==============================] - 0s - loss: 0.5103 - acc: 0.7588 - val_loss: 0.5198 - val_acc: 0.7441\n",
      "Epoch 120/150\n",
      "514/514 [==============================] - 0s - loss: 0.5089 - acc: 0.7335 - val_loss: 0.5052 - val_acc: 0.7677\n",
      "Epoch 121/150\n",
      "514/514 [==============================] - 0s - loss: 0.5108 - acc: 0.7490 - val_loss: 0.5188 - val_acc: 0.7441\n",
      "Epoch 122/150\n",
      "514/514 [==============================] - 0s - loss: 0.5119 - acc: 0.7471 - val_loss: 0.5057 - val_acc: 0.7835\n",
      "Epoch 123/150\n",
      "514/514 [==============================] - 0s - loss: 0.5085 - acc: 0.7354 - val_loss: 0.5116 - val_acc: 0.7677\n",
      "Epoch 124/150\n",
      "514/514 [==============================] - 0s - loss: 0.5090 - acc: 0.7432 - val_loss: 0.5054 - val_acc: 0.7638\n",
      "Epoch 125/150\n",
      "514/514 [==============================] - 0s - loss: 0.5154 - acc: 0.7510 - val_loss: 0.5227 - val_acc: 0.7480\n",
      "Epoch 126/150\n",
      "514/514 [==============================] - 0s - loss: 0.5092 - acc: 0.7393 - val_loss: 0.5082 - val_acc: 0.7598\n",
      "Epoch 127/150\n",
      "514/514 [==============================] - 0s - loss: 0.5054 - acc: 0.7568 - val_loss: 0.5005 - val_acc: 0.7874\n",
      "Epoch 128/150\n",
      "514/514 [==============================] - 0s - loss: 0.5012 - acc: 0.7646 - val_loss: 0.5024 - val_acc: 0.7559\n",
      "Epoch 129/150\n",
      "514/514 [==============================] - 0s - loss: 0.5106 - acc: 0.7432 - val_loss: 0.5029 - val_acc: 0.7677\n",
      "Epoch 130/150\n",
      "514/514 [==============================] - 0s - loss: 0.5039 - acc: 0.7510 - val_loss: 0.4955 - val_acc: 0.7835\n",
      "Epoch 131/150\n"
     ]
    },
    {
     "name": "stdout",
     "output_type": "stream",
     "text": [
      "514/514 [==============================] - 0s - loss: 0.5041 - acc: 0.7529 - val_loss: 0.5062 - val_acc: 0.7598\n",
      "Epoch 132/150\n",
      "514/514 [==============================] - 0s - loss: 0.5069 - acc: 0.7510 - val_loss: 0.4950 - val_acc: 0.7795\n",
      "Epoch 133/150\n",
      "514/514 [==============================] - 0s - loss: 0.5018 - acc: 0.7665 - val_loss: 0.4961 - val_acc: 0.7835\n",
      "Epoch 134/150\n",
      "514/514 [==============================] - 0s - loss: 0.5016 - acc: 0.7568 - val_loss: 0.5027 - val_acc: 0.7638\n",
      "Epoch 135/150\n",
      "514/514 [==============================] - 0s - loss: 0.5004 - acc: 0.7510 - val_loss: 0.4930 - val_acc: 0.7795\n",
      "Epoch 136/150\n",
      "514/514 [==============================] - 0s - loss: 0.5042 - acc: 0.7393 - val_loss: 0.4991 - val_acc: 0.7874\n",
      "Epoch 137/150\n",
      "514/514 [==============================] - 0s - loss: 0.5077 - acc: 0.7471 - val_loss: 0.5053 - val_acc: 0.7756\n",
      "Epoch 138/150\n",
      "514/514 [==============================] - 0s - loss: 0.5001 - acc: 0.7529 - val_loss: 0.4965 - val_acc: 0.7717\n",
      "Epoch 139/150\n",
      "514/514 [==============================] - 0s - loss: 0.4982 - acc: 0.7529 - val_loss: 0.4964 - val_acc: 0.7677\n",
      "Epoch 140/150\n",
      "514/514 [==============================] - 0s - loss: 0.4951 - acc: 0.7432 - val_loss: 0.4959 - val_acc: 0.7756\n",
      "Epoch 141/150\n",
      "514/514 [==============================] - 0s - loss: 0.5005 - acc: 0.7549 - val_loss: 0.4888 - val_acc: 0.7835\n",
      "Epoch 142/150\n",
      "514/514 [==============================] - 0s - loss: 0.4967 - acc: 0.7549 - val_loss: 0.4999 - val_acc: 0.7638\n",
      "Epoch 143/150\n",
      "514/514 [==============================] - 0s - loss: 0.5109 - acc: 0.7529 - val_loss: 0.4957 - val_acc: 0.7835\n",
      "Epoch 144/150\n",
      "514/514 [==============================] - 0s - loss: 0.5107 - acc: 0.7549 - val_loss: 0.4956 - val_acc: 0.7756\n",
      "Epoch 145/150\n",
      "514/514 [==============================] - 0s - loss: 0.5081 - acc: 0.7432 - val_loss: 0.4880 - val_acc: 0.7874\n",
      "Epoch 146/150\n",
      "514/514 [==============================] - 0s - loss: 0.4996 - acc: 0.7412 - val_loss: 0.5007 - val_acc: 0.7677\n",
      "Epoch 147/150\n",
      "514/514 [==============================] - 0s - loss: 0.4966 - acc: 0.7510 - val_loss: 0.4884 - val_acc: 0.7913\n",
      "Epoch 148/150\n",
      "514/514 [==============================] - 0s - loss: 0.5012 - acc: 0.7490 - val_loss: 0.4887 - val_acc: 0.7677\n",
      "Epoch 149/150\n",
      "514/514 [==============================] - 0s - loss: 0.4946 - acc: 0.7588 - val_loss: 0.4908 - val_acc: 0.7874\n",
      "Epoch 150/150\n",
      "514/514 [==============================] - 0s - loss: 0.4921 - acc: 0.7626 - val_loss: 0.4851 - val_acc: 0.7717\n"
     ]
    }
   ],
   "source": [
    "# Fit the model\n",
    "history = model.fit(X, Y, validation_split=0.33, epochs=150, batch_size=10, verbose=1)"
   ]
  },
  {
   "cell_type": "code",
   "execution_count": 8,
   "metadata": {},
   "outputs": [
    {
     "name": "stdout",
     "output_type": "stream",
     "text": [
      "dict_keys(['val_loss', 'val_acc', 'loss', 'acc'])\n"
     ]
    }
   ],
   "source": [
    "# list all data in history\n",
    "print(history.history.keys())"
   ]
  },
  {
   "cell_type": "code",
   "execution_count": 9,
   "metadata": {},
   "outputs": [
    {
     "data": {
      "image/png": "[encoded data removed]",
      "text/plain": [
       "<matplotlib.figure.Figure at 0x7fd2797dcda0>"
      ]
     },
     "metadata": {},
     "output_type": "display_data"
    }
   ],
   "source": [
    "# summarize history for accuracy\n",
    "plt.figure(figsize=(12,8))\n",
    "plt.plot(history.history['acc'])\n",
    "plt.plot(history.history['val_acc'])\n",
    "plt.title('model accuracy')\n",
    "plt.ylabel('accuracy')\n",
    "plt.xlabel('epoch')\n",
    "plt.legend(['train', 'test'], loc='upper left')\n",
    "plt.show()"
   ]
  },
  {
   "cell_type": "code",
   "execution_count": 10,
   "metadata": {},
   "outputs": [
    {
     "data": {
      "image/png": "[encoded data removed]",
      "text/plain": [
       "<matplotlib.figure.Figure at 0x7fd279816ef0>"
      ]
     },
     "metadata": {},
     "output_type": "display_data"
    }
   ],
   "source": [
    "# summarize history for loss\n",
    "plt.figure(figsize=(12,8))\n",
    "plt.plot(history.history['loss'])\n",
    "plt.plot(history.history['val_loss'])\n",
    "plt.title('model loss')\n",
    "plt.ylabel('loss')\n",
    "plt.xlabel('epoch')\n",
    "plt.legend(['train', 'test'], loc='upper left')\n",
    "plt.show()"
   ]
  },
  {
   "cell_type": "code",
   "execution_count": 11,
   "metadata": {},
   "outputs": [
    {
     "name": "stdout",
     "output_type": "stream",
     "text": [
      " 32/768 [>.............................] - ETA: 0s\n",
      "acc: 76.43%\n"
     ]
    }
   ],
   "source": [
    "# evaluate the model\n",
    "scores = model.evaluate(X, Y)\n",
    "print(\"\\n%s: %.2f%%\" % (model.metrics_names[1], scores[1]*100))"
   ]
  },
  {
   "cell_type": "code",
   "execution_count": 12,
   "metadata": {},
   "outputs": [
    {
     "name": "stdout",
     "output_type": "stream",
     "text": [
      "[[ 0.54486835]\n",
      " [ 0.13029267]\n",
      " [ 0.86865544]\n",
      " [ 0.11162878]\n",
      " [ 0.72059649]\n",
      " [ 0.21847236]\n",
      " [ 0.2145002 ]\n",
      " [ 0.58715749]\n",
      " [ 0.84625387]\n",
      " [ 0.0499662 ]]\n",
      "\n",
      "[1.0, 0.0, 1.0, 0.0, 1.0, 0.0, 0.0, 1.0, 1.0, 0.0]\n"
     ]
    }
   ],
   "source": [
    "# calculate predictions\n",
    "predictions = model.predict(X)\n",
    "print(predictions[0:10])\n",
    "\n",
    "print()\n",
    "\n",
    "# round predictions\n",
    "rounded = [round(x[0]) for x in predictions]\n",
    "print(rounded[0:10])"
   ]
  },
  {
   "cell_type": "markdown",
   "metadata": {},
   "source": [
    "### Develop a Small LSTM Recurrent Neural Network\n",
    "\n",
    "Based on this [post](https://machinelearningmastery.com/text-generation-lstm-recurrent-neural-networks-python-keras/)\n",
    "\n",
    "In this section we will develop a simple LSTM network to learn sequences of characters from Alice in Wonderland. In the next section we will use this model to generate new sequences of characters."
   ]
  },
  {
   "cell_type": "markdown",
   "metadata": {},
   "source": [
    "Next, we need to load the ASCII text for the book into memory and convert all of the characters to lowercase to reduce the vocabulary that the network must learn."
   ]
  },
  {
   "cell_type": "code",
   "execution_count": 13,
   "metadata": {},
   "outputs": [],
   "source": [
    "# load ascii text and covert to lowercase\n",
    "filename = \"../../datasets/texts/Gutenberg/wonderland.txt\"\n",
    "raw_text = open(filename).read()\n",
    "raw_text = raw_text.lower()"
   ]
  },
  {
   "cell_type": "code",
   "execution_count": 14,
   "metadata": {},
   "outputs": [
    {
     "data": {
      "text/plain": [
       "\"\\ufeffproject gutenberg's alice's adventures in wonderland, by lewis carroll\\n\\nthis ebook is for the use of anyone anywhere at no cost and with\\nalmost no restrictions whatsoever.  you may copy it, give it away or\\nre-use it under the terms of the project gutenberg license included\\nwith this ebook or online at www.gutenberg.org\\n\\n\\ntitle: alice's adventures in wonderland\\n\\nauthor: lewis carroll\\n\\nposting date: june 25, 2008 [ebook #11]\\nrelease date: march, 1994\\n[last updated: december 20, 2011]\\n\\nlanguage: english\\n\\n\\n*** start of this project gutenberg ebook alice's adventures in wonderland ***\\n\\n\\n\\n\\n\\n\\n\\n\\n\\n\\nalice's adventures in wonderland\\n\\nlewis carroll\\n\\nthe millennium fulcrum edition 3.0\\n\\n\\n\\n\\nchapter i. down the rabbit-hole\\n\\nalice was beginning to get very tired of sitting by her sister on the\\nbank, and of having nothing to do: once or twice she had peeped into the\\nbook her sister was reading, but it had no pictures or conversations in\\nit, 'and what is the use of a book,' thought alice 'without pictur\""
      ]
     },
     "execution_count": 14,
     "metadata": {},
     "output_type": "execute_result"
    }
   ],
   "source": [
    "raw_text[0:1000]"
   ]
  },
  {
   "cell_type": "markdown",
   "metadata": {},
   "source": [
    "Cleaning the text:"
   ]
  },
  {
   "cell_type": "code",
   "execution_count": 15,
   "metadata": {},
   "outputs": [],
   "source": [
    "raw_text = raw_text[raw_text.find('\\n\\n\\n\\n'):]\n",
    "raw_text = re.sub(r'[\\n ]+',' ', raw_text)\n",
    "\n",
    "import string\n",
    "for char in string.punctuation:\n",
    "    raw_text = raw_text.replace(char, ' ')"
   ]
  },
  {
   "cell_type": "markdown",
   "metadata": {},
   "source": [
    "Now that the book is loaded, we must prepare the data for modeling by the neural network. We cannot model the characters directly, instead we must convert the characters to integers.\n",
    "\n",
    "We can do this easily by first creating a set of all of the distinct characters in the book, then creating a map of each character to a unique integer."
   ]
  },
  {
   "cell_type": "code",
   "execution_count": 16,
   "metadata": {},
   "outputs": [],
   "source": [
    "# create mapping of unique chars to integers\n",
    "chars = sorted(list(set(raw_text)))\n",
    "char_to_int = dict((c, i) for i, c in enumerate(chars))"
   ]
  },
  {
   "cell_type": "markdown",
   "metadata": {},
   "source": [
    "For example, the list of unique sorted lowercase characters in the book is as follows:"
   ]
  },
  {
   "cell_type": "code",
   "execution_count": 17,
   "metadata": {},
   "outputs": [
    {
     "data": {
      "text/plain": [
       "{' ': 0,\n",
       " '0': 1,\n",
       " '1': 2,\n",
       " '2': 3,\n",
       " '3': 4,\n",
       " '4': 5,\n",
       " '5': 6,\n",
       " '6': 7,\n",
       " '7': 8,\n",
       " '8': 9,\n",
       " '9': 10,\n",
       " 'a': 11,\n",
       " 'b': 12,\n",
       " 'c': 13,\n",
       " 'd': 14,\n",
       " 'e': 15,\n",
       " 'f': 16,\n",
       " 'g': 17,\n",
       " 'h': 18,\n",
       " 'i': 19,\n",
       " 'j': 20,\n",
       " 'k': 21,\n",
       " 'l': 22,\n",
       " 'm': 23,\n",
       " 'n': 24,\n",
       " 'o': 25,\n",
       " 'p': 26,\n",
       " 'q': 27,\n",
       " 'r': 28,\n",
       " 's': 29,\n",
       " 't': 30,\n",
       " 'u': 31,\n",
       " 'v': 32,\n",
       " 'w': 33,\n",
       " 'x': 34,\n",
       " 'y': 35,\n",
       " 'z': 36}"
      ]
     },
     "execution_count": 17,
     "metadata": {},
     "output_type": "execute_result"
    }
   ],
   "source": [
    "char_to_int"
   ]
  },
  {
   "cell_type": "markdown",
   "metadata": {},
   "source": [
    "You can see that there may be some characters that we could remove to further clean up the dataset that will reduce the vocabulary and may improve the modeling process.\n",
    "\n",
    "Now that the book has been loaded and the mapping prepared, we can summarize the dataset."
   ]
  },
  {
   "cell_type": "code",
   "execution_count": 18,
   "metadata": {},
   "outputs": [
    {
     "name": "stdout",
     "output_type": "stream",
     "text": [
      "Total Characters:  160965\n",
      "Total Vocab:  37\n"
     ]
    }
   ],
   "source": [
    "n_chars = len(raw_text)\n",
    "n_vocab = len(chars)\n",
    "print(\"Total Characters: \", n_chars)\n",
    "print(\"Total Vocab: \", n_vocab)"
   ]
  },
  {
   "cell_type": "markdown",
   "metadata": {},
   "source": [
    "We can see that the book has just under 150,000 characters and that when converted to lowercase that there are only 37 distinct characters in the vocabulary for the network to learn. Much more than the 26 in the alphabet.\n",
    "\n",
    "We now need to define the training data for the network. There is a lot of flexibility in how you choose to break up the text and expose it to the network during training.\n",
    "\n",
    "In this tutorial we will split the book text up into subsequences with a fixed length of 100 characters, an arbitrary length. We could just as easily split the data up by sentences and pad the shorter sequences and truncate the longer ones.\n",
    "\n",
    "Each training pattern of the network is comprised of 100 time steps of one character (X) followed by one character output (y). When creating these sequences, we slide this window along the whole book one character at a time, allowing each character a chance to be learned from the 100 characters that preceded it (except the first 100 characters of course).\n",
    "\n",
    "For example, if the sequence length is 5 (for simplicity) then the first two training patterns would be as follows:  \n",
    "\n",
    "CHAPT -> E\n",
    "HAPTE -> R\n",
    "\n",
    "As we split up the book into these sequences, we convert the characters to integers using our lookup table we prepared earlier.  "
   ]
  },
  {
   "cell_type": "code",
   "execution_count": 19,
   "metadata": {},
   "outputs": [
    {
     "name": "stdout",
     "output_type": "stream",
     "text": [
      "Total Patterns:  160865\n"
     ]
    }
   ],
   "source": [
    "# prepare the dataset of input to output pairs encoded as integers\n",
    "seq_length = 100\n",
    "dataX = []\n",
    "dataY = []\n",
    "for i in range(0, n_chars - seq_length, 1):\n",
    "    seq_in = raw_text[i:i + seq_length]\n",
    "    seq_out = raw_text[i + seq_length]\n",
    "    dataX.append([char_to_int[char] for char in seq_in])\n",
    "    dataY.append(char_to_int[seq_out])\n",
    "n_patterns = len(dataX)\n",
    "print(\"Total Patterns: \", n_patterns)"
   ]
  },
  {
   "cell_type": "markdown",
   "metadata": {},
   "source": [
    "Running the code to this point shows us that when we split up the dataset into training data for the network to learn that we have just under 150,000 training pattens. This makes sense as excluding the first 100 characters, we have one training pattern to predict each of the remaining characters.  "
   ]
  },
  {
   "cell_type": "markdown",
   "metadata": {},
   "source": [
    "Now that we have prepared our training data we need to transform it so that it is suitable for use with Keras.\n",
    "\n",
    "First we must transform the list of input sequences into the form [samples, time steps, features] expected by an LSTM network.\n",
    "\n",
    "Next we need to rescale the integers to the range 0-to-1 to make the patterns easier to learn by the LSTM network that uses the sigmoid activation function by default.\n",
    "\n",
    "Finally, we need to convert the output patterns (single characters converted to integers) into a one hot encoding. This is so that we can configure the network to predict the probability of each of the 47 different characters in the vocabulary (an easier representation) rather than trying to force it to predict precisely the next character. Each y value is converted into a sparse vector with a length of 47, full of zeros except with a 1 in the column for the letter (integer) that the pattern represents.\n",
    "\n",
    "We can implement these steps as below.  "
   ]
  },
  {
   "cell_type": "code",
   "execution_count": 20,
   "metadata": {},
   "outputs": [],
   "source": [
    "# reshape X to be [samples, time steps, features]\n",
    "X = numpy.reshape(dataX, (n_patterns, seq_length, 1))\n",
    "# normalize\n",
    "X = X / float(n_vocab)\n",
    "# one hot encode the output variable\n",
    "y = np_utils.to_categorical(dataY)"
   ]
  },
  {
   "cell_type": "markdown",
   "metadata": {},
   "source": [
    "We can now define our LSTM model. Here we define a single hidden LSTM layer with 256 memory units. The network uses dropout with a probability of 20. The output layer is a Dense layer using the softmax activation function to output a probability prediction for each of the 47 characters between 0 and 1.\n",
    "\n",
    "The problem is really a single character classification problem with 47 classes and as such is defined as optimizing the log loss (cross entropy), here using the ADAM optimization algorithm for speed."
   ]
  },
  {
   "cell_type": "code",
   "execution_count": 21,
   "metadata": {},
   "outputs": [],
   "source": [
    "# define the LSTM model\n",
    "model = Sequential()\n",
    "model.add(LSTM(256, input_shape=(X.shape[1], X.shape[2])))\n",
    "model.add(Dropout(0.2))\n",
    "model.add(Dense(y.shape[1], activation='softmax'))\n",
    "model.compile(loss='categorical_crossentropy', optimizer='adam')"
   ]
  },
  {
   "cell_type": "markdown",
   "metadata": {},
   "source": [
    "There is no test dataset. We are modeling the entire training dataset to learn the probability of each character in a sequence.\n",
    "\n",
    "We are not interested in the most accurate (classification accuracy) model of the training dataset. This would be a model that predicts each character in the training dataset perfectly. Instead we are interested in a generalization of the dataset that minimizes the chosen loss function. We are seeking a balance between generalization and overfitting but short of memorization.\n",
    "\n",
    "The network is slow to train (about 300 seconds per epoch on an Nvidia K520 GPU). Because of the slowness and because of our optimization requirements, we will use model checkpointing to record all of the network weights to file each time an improvement in loss is observed at the end of the epoch. We will use the best set of weights (lowest loss) to instantiate our generative model in the next section."
   ]
  },
  {
   "cell_type": "code",
   "execution_count": 22,
   "metadata": {},
   "outputs": [],
   "source": [
    "# define the checkpoint\n",
    "filepath=\"weights-improvement-{epoch:02d}-{loss:.4f}.hdf5\"\n",
    "checkpoint = ModelCheckpoint(filepath, monitor='loss', verbose=1, save_best_only=True, mode='min')\n",
    "callbacks_list = [checkpoint]"
   ]
  },
  {
   "cell_type": "markdown",
   "metadata": {},
   "source": [
    "We can now fit our model to the data. Here we use a modest number of 20 epochs and a large batch size of 32/64/128 patterns."
   ]
  },
  {
   "cell_type": "code",
   "execution_count": 23,
   "metadata": {
    "scrolled": true
   },
   "outputs": [
    {
     "name": "stdout",
     "output_type": "stream",
     "text": [
      "Epoch 1/20\n",
      "160864/160865 [============================>.] - ETA: 0s - loss: 2.6167Epoch 00000: loss improved from inf to 2.61664, saving model to weights-improvement-00-2.6166.hdf5\n",
      "160865/160865 [==============================] - 1018s - loss: 2.6166  \n",
      "Epoch 2/20\n",
      "160864/160865 [============================>.] - ETA: 0s - loss: 2.4242Epoch 00001: loss improved from 2.61664 to 2.42419, saving model to weights-improvement-01-2.4242.hdf5\n",
      "160865/160865 [==============================] - 1023s - loss: 2.4242  \n",
      "Epoch 3/20\n",
      "160864/160865 [============================>.] - ETA: 0s - loss: 2.3082Epoch 00002: loss improved from 2.42419 to 2.30817, saving model to weights-improvement-02-2.3082.hdf5\n",
      "160865/160865 [==============================] - 1027s - loss: 2.3082  \n",
      "Epoch 4/20\n",
      "160864/160865 [============================>.] - ETA: 0s - loss: 2.2003Epoch 00003: loss improved from 2.30817 to 2.20034, saving model to weights-improvement-03-2.2003.hdf5\n",
      "160865/160865 [==============================] - 1029s - loss: 2.2003  \n",
      "Epoch 5/20\n",
      "160864/160865 [============================>.] - ETA: 0s - loss: 2.1106Epoch 00004: loss improved from 2.20034 to 2.11062, saving model to weights-improvement-04-2.1106.hdf5\n",
      "160865/160865 [==============================] - 1022s - loss: 2.1106  \n",
      "Epoch 6/20\n",
      "160864/160865 [============================>.] - ETA: 0s - loss: 2.0388Epoch 00005: loss improved from 2.11062 to 2.03878, saving model to weights-improvement-05-2.0388.hdf5\n",
      "160865/160865 [==============================] - 1028s - loss: 2.0388  \n",
      "Epoch 7/20\n",
      "160864/160865 [============================>.] - ETA: 0s - loss: 1.9748Epoch 00006: loss improved from 2.03878 to 1.97477, saving model to weights-improvement-06-1.9748.hdf5\n",
      "160865/160865 [==============================] - 1019s - loss: 1.9748  \n",
      "Epoch 8/20\n",
      "160864/160865 [============================>.] - ETA: 0s - loss: 1.9196Epoch 00007: loss improved from 1.97477 to 1.91963, saving model to weights-improvement-07-1.9196.hdf5\n",
      "160865/160865 [==============================] - 1016s - loss: 1.9196  \n",
      "Epoch 9/20\n",
      "160864/160865 [============================>.] - ETA: 0s - loss: 1.8684Epoch 00008: loss improved from 1.91963 to 1.86841, saving model to weights-improvement-08-1.8684.hdf5\n",
      "160865/160865 [==============================] - 1027s - loss: 1.8684  \n",
      "Epoch 10/20\n",
      "160864/160865 [============================>.] - ETA: 0s - loss: 1.8240Epoch 00009: loss improved from 1.86841 to 1.82398, saving model to weights-improvement-09-1.8240.hdf5\n",
      "160865/160865 [==============================] - 1026s - loss: 1.8240  \n",
      "Epoch 11/20\n",
      "160864/160865 [============================>.] - ETA: 0s - loss: 1.7855Epoch 00010: loss improved from 1.82398 to 1.78552, saving model to weights-improvement-10-1.7855.hdf5\n",
      "160865/160865 [==============================] - 1019s - loss: 1.7855  \n",
      "Epoch 12/20\n",
      "160864/160865 [============================>.] - ETA: 0s - loss: 1.7514Epoch 00011: loss improved from 1.78552 to 1.75139, saving model to weights-improvement-11-1.7514.hdf5\n",
      "160865/160865 [==============================] - 1019s - loss: 1.7514  \n",
      "Epoch 13/20\n",
      "160864/160865 [============================>.] - ETA: 0s - loss: 1.7188Epoch 00012: loss improved from 1.75139 to 1.71875, saving model to weights-improvement-12-1.7188.hdf5\n",
      "160865/160865 [==============================] - 1026s - loss: 1.7188  \n",
      "Epoch 14/20\n",
      "160864/160865 [============================>.] - ETA: 0s - loss: 1.6914Epoch 00013: loss improved from 1.71875 to 1.69139, saving model to weights-improvement-13-1.6914.hdf5\n",
      "160865/160865 [==============================] - 1034s - loss: 1.6914  \n",
      "Epoch 15/20\n",
      "160864/160865 [============================>.] - ETA: 0s - loss: 1.6687Epoch 00014: loss improved from 1.69139 to 1.66871, saving model to weights-improvement-14-1.6687.hdf5\n",
      "160865/160865 [==============================] - 1019s - loss: 1.6687  \n",
      "Epoch 16/20\n",
      "160864/160865 [============================>.] - ETA: 0s - loss: 1.6438Epoch 00015: loss improved from 1.66871 to 1.64383, saving model to weights-improvement-15-1.6438.hdf5\n",
      "160865/160865 [==============================] - 1028s - loss: 1.6438  \n",
      "Epoch 17/20\n",
      "160864/160865 [============================>.] - ETA: 0s - loss: 1.6238Epoch 00016: loss improved from 1.64383 to 1.62377, saving model to weights-improvement-16-1.6238.hdf5\n",
      "160865/160865 [==============================] - 1016s - loss: 1.6238  \n",
      "Epoch 18/20\n",
      "160864/160865 [============================>.] - ETA: 0s - loss: 1.6045Epoch 00017: loss improved from 1.62377 to 1.60446, saving model to weights-improvement-17-1.6045.hdf5\n",
      "160865/160865 [==============================] - 1012s - loss: 1.6045  \n",
      "Epoch 19/20\n",
      "160864/160865 [============================>.] - ETA: 0s - loss: 1.5871Epoch 00018: loss improved from 1.60446 to 1.58712, saving model to weights-improvement-18-1.5871.hdf5\n",
      "160865/160865 [==============================] - 1012s - loss: 1.5871  \n",
      "Epoch 20/20\n",
      "160864/160865 [============================>.] - ETA: 0s - loss: 1.5721Epoch 00019: loss improved from 1.58712 to 1.57205, saving model to weights-improvement-19-1.5720.hdf5\n",
      "160865/160865 [==============================] - 1029s - loss: 1.5720  \n"
     ]
    }
   ],
   "source": [
    "history = model.fit(X, y, epochs=20, batch_size=32, callbacks=callbacks_list, verbose=1)"
   ]
  },
  {
   "cell_type": "code",
   "execution_count": 25,
   "metadata": {},
   "outputs": [
    {
     "name": "stdout",
     "output_type": "stream",
     "text": [
      "dict_keys(['loss'])\n"
     ]
    }
   ],
   "source": [
    "# list all data in history\n",
    "print(history.history.keys())"
   ]
  },
  {
   "cell_type": "code",
   "execution_count": 26,
   "metadata": {},
   "outputs": [
    {
     "data": {
      "text/plain": [
       "<matplotlib.figure.Figure at 0x7fd190684ac8>"
      ]
     },
     "metadata": {},
     "output_type": "display_data"
    },
    {
     "data": {
      "image/png": "[encoded data removed]",
      "text/plain": [
       "<matplotlib.figure.Figure at 0x7fd19063ef60>"
      ]
     },
     "metadata": {},
     "output_type": "display_data"
    }
   ],
   "source": [
    "# summarize history for loss\n",
    "plt.figure(figsize=(12,8))\n",
    "plt.plot(history.history['loss'])\n",
    "plt.title('model loss')\n",
    "plt.ylabel('loss')\n",
    "plt.xlabel('epoch')\n",
    "plt.legend(['train', 'test'], loc='upper left')\n",
    "plt.show()"
   ]
  },
  {
   "cell_type": "markdown",
   "metadata": {},
   "source": [
    "The network loss decreased almost every epoch and I expect the network could benefit from training for many more epochs.\n",
    "\n",
    "In the next section we will look at using this model to generate new text sequences."
   ]
  },
  {
   "cell_type": "markdown",
   "metadata": {},
   "source": [
    "You will see different results because of the stochastic nature of the model, and because it is hard to fix the random seed for LSTM models to get 100% reproducible results. This is not a concern for this generative model.\n",
    "\n",
    "After running the example, you should have a number of weight checkpoint files in the local directory.\n",
    "\n",
    "You can delete them all except the one with the smallest loss value."
   ]
  },
  {
   "cell_type": "code",
   "execution_count": 27,
   "metadata": {},
   "outputs": [
    {
     "name": "stdout",
     "output_type": "stream",
     "text": [
      "weights-improvement-00-2.3555.hdf5  weights-improvement-06-2.0546.hdf5\r\n",
      "weights-improvement-00-2.6166.hdf5  weights-improvement-07-1.9196.hdf5\r\n",
      "weights-improvement-01-2.3107.hdf5  weights-improvement-08-1.8684.hdf5\r\n",
      "weights-improvement-01-2.4242.hdf5  weights-improvement-09-1.8240.hdf5\r\n",
      "weights-improvement-02-2.2315.hdf5  weights-improvement-10-1.7855.hdf5\r\n",
      "weights-improvement-02-2.3082.hdf5  weights-improvement-11-1.7514.hdf5\r\n",
      "weights-improvement-03-2.1843.hdf5  weights-improvement-12-1.7188.hdf5\r\n",
      "weights-improvement-03-2.2003.hdf5  weights-improvement-13-1.6914.hdf5\r\n",
      "weights-improvement-04-2.1106.hdf5  weights-improvement-14-1.6687.hdf5\r\n",
      "weights-improvement-04-2.1347.hdf5  weights-improvement-15-1.6438.hdf5\r\n",
      "weights-improvement-05-2.0388.hdf5  weights-improvement-16-1.6238.hdf5\r\n",
      "weights-improvement-05-2.0917.hdf5  weights-improvement-17-1.6045.hdf5\r\n",
      "weights-improvement-05-2.3903.hdf5  weights-improvement-18-1.5871.hdf5\r\n",
      "weights-improvement-06-1.9748.hdf5  weights-improvement-19-1.5720.hdf5\r\n"
     ]
    }
   ],
   "source": [
    "!ls *.hdf5"
   ]
  },
  {
   "cell_type": "code",
   "execution_count": 28,
   "metadata": {},
   "outputs": [],
   "source": [
    "filename = \"weights-improvement-19-1.5720.hdf5\""
   ]
  },
  {
   "cell_type": "markdown",
   "metadata": {},
   "source": [
    "### Generating Text with an LSTM Network\n",
    "\n",
    "Generating text using the trained LSTM network is relatively straightforward.\n",
    "\n",
    "Firstly, we load the data and define the network in exactly the same way, except the network weights are loaded from a checkpoint file and the network does not need to be trained."
   ]
  },
  {
   "cell_type": "code",
   "execution_count": 29,
   "metadata": {},
   "outputs": [],
   "source": [
    "# load the network weights\n",
    "model.load_weights(filename)\n",
    "model.compile(loss='categorical_crossentropy', optimizer='adam')"
   ]
  },
  {
   "cell_type": "markdown",
   "metadata": {},
   "source": [
    "Also, when preparing the mapping of unique characters to integers, we must also create a reverse mapping that we can use to convert the integers back to characters so that we can understand the predictions."
   ]
  },
  {
   "cell_type": "code",
   "execution_count": 30,
   "metadata": {},
   "outputs": [],
   "source": [
    "int_to_char = dict((i, c) for i, c in enumerate(chars))"
   ]
  },
  {
   "cell_type": "markdown",
   "metadata": {},
   "source": [
    "Finally, we need to actually make predictions.\n",
    "\n",
    "The simplest way to use the Keras LSTM model to make predictions is to first start off with a seed sequence as input, generate the next character then update the seed sequence to add the generated character on the end and trim off the first character. This process is repeated for as long as we want to predict new characters (e.g. a sequence of 1,000 characters in length).\n",
    "\n",
    "We can pick a random input pattern as our seed sequence, then print generated characters as we generate them."
   ]
  },
  {
   "cell_type": "markdown",
   "metadata": {},
   "source": [
    "Running this example first outputs the selected random seed, then each character as it is generated.\n",
    "\n",
    "For example, below are the results from one run of this text generator. The random seed was:"
   ]
  },
  {
   "cell_type": "code",
   "execution_count": 31,
   "metadata": {},
   "outputs": [
    {
     "name": "stdout",
     "output_type": "stream",
     "text": [
      "Seed:\n",
      "\" th what porpoise     don t you mean  purpose    said alice   i mean what i say   the mock turtle rep \"\n",
      "lied   sha say   said the dat   i d nedely dorn the foemn tf to to to the tea   she said to herself   io whuh the dorsouse   said the dat   i d nedely dore to toen to de   said the dat   i d nedely dore to toen to de   said the dat   i d nedely dore to toen to de   said the dat   i d nedely dore to toen to de   said the dat   i d nedely dore to toen to de   said the dat   i d nedely dore to toen to de   said the dat   i d nedely dore to toen to de   said the dat   i d nedely dore to toen to de   said the dat   i d nedely dore to toen to de   said the dat   i d nedely dore to toen to de   said the dat   i d nedely dore to toen to de   said the dat   i d nedely dore to toen to de   said the dat   i d nedely dore to toen to de   said the dat   i d nedely dore to toen to de   said the dat   i d nedely dore to toen to de   said the dat   i d nedely dore to toen to de   said the dat   i d nedely dore to toen to de   said the dat   i d nedely dore to toen to de   said the dat   i d nedely dor\n",
      "Done.\n"
     ]
    }
   ],
   "source": [
    "#pick a random seed\n",
    "start = numpy.random.randint(0, len(dataX)-1)\n",
    "pattern = dataX[start]\n",
    "print(\"Seed:\")\n",
    "print(\"\\\"\", ''.join([int_to_char[value] for value in pattern]), \"\\\"\")\n",
    "# generate characters\n",
    "for i in range(1000):\n",
    "    x = numpy.reshape(pattern, (1, len(pattern), 1))\n",
    "    x = x / float(n_vocab)\n",
    "    prediction = model.predict(x, verbose=0)\n",
    "    index = numpy.argmax(prediction)\n",
    "    result = int_to_char[index]\n",
    "    seq_in = [int_to_char[value] for value in pattern]\n",
    "    sys.stdout.write(result)\n",
    "    pattern.append(index)\n",
    "    pattern = pattern[1:len(pattern)]\n",
    "print(\"\\nDone.\")"
   ]
  },
  {
   "cell_type": "markdown",
   "metadata": {},
   "source": [
    "We can note some observations about the generated text.  \n",
    "+ It generally conforms to the line format observed in the original text of less than 80 characters before a new line.\n",
    "+ The characters are separated into word-like groups and most groups are actual English words (e.g. “the”, “little” and “was”), but many do not (e.g. “lott”, “tiie” and “taede”).\n",
    "+ Some of the words in sequence make sense(e.g. “and the white rabbit“), but many do not (e.g. “wese tilel“).\n",
    "\n",
    "The fact that this character based model of the book produces output like this is very impressive. It gives you a sense of the learning capabilities of LSTM networks.\n",
    "\n",
    "The results are not perfect. In the next section we look at improving the quality of results by developing a much larger LSTM network."
   ]
  },
  {
   "cell_type": "markdown",
   "metadata": {},
   "source": [
    "### Larger LSTM Recurrent Neural Network\n",
    "\n",
    "We got results, but not excellent results in the previous section. Now, we can try to improve the quality of the generated text by creating a much larger network.\n",
    "\n",
    "We will keep the number of memory units the same at 256, but add a second layer."
   ]
  },
  {
   "cell_type": "code",
   "execution_count": 32,
   "metadata": {},
   "outputs": [],
   "source": [
    "model = Sequential()\n",
    "model.add(LSTM(256, input_shape=(X.shape[1], X.shape[2]), return_sequences=True))\n",
    "model.add(Dropout(0.2))\n",
    "model.add(LSTM(256))\n",
    "model.add(Dropout(0.2))\n",
    "model.add(Dense(y.shape[1], activation='softmax'))\n",
    "model.compile(loss='categorical_crossentropy', optimizer='adam')"
   ]
  },
  {
   "cell_type": "markdown",
   "metadata": {},
   "source": [
    "We will also change the filename of the checkpointed weights so that we can tell the difference between weights for this network and the previous (by appending the word “bigger” in the filename)."
   ]
  },
  {
   "cell_type": "code",
   "execution_count": 33,
   "metadata": {},
   "outputs": [],
   "source": [
    "filepath=\"weights-improvement-{epoch:02d}-{loss:.4f}-bigger.hdf5\""
   ]
  },
  {
   "cell_type": "markdown",
   "metadata": {},
   "source": [
    "Finally, we will increase the number of training epochs from 20 to 50 and use batch size 32/64 to give the network more of an opportunity to be updated and learn."
   ]
  },
  {
   "cell_type": "code",
   "execution_count": null,
   "metadata": {},
   "outputs": [],
   "source": [
    "checkpoint = ModelCheckpoint(filepath, monitor='loss', verbose=1, save_best_only=True, mode='min')\n",
    "callbacks_list = [checkpoint]\n",
    "# fit the model\n",
    "model.fit(X, y, epochs=50, batch_size=32, callbacks=callbacks_list)"
   ]
  },
  {
   "cell_type": "code",
   "execution_count": null,
   "metadata": {},
   "outputs": [],
   "source": [
    "One example of running this text generation script produces the output below.\n",
    "\n",
    "The randomly chosen seed text was:"
   ]
  },
  {
   "cell_type": "code",
   "execution_count": null,
   "metadata": {},
   "outputs": [],
   "source": [
    "#pick a random seed\n",
    "start = numpy.random.randint(0, len(dataX)-1)\n",
    "pattern = dataX[start]\n",
    "print(\"Seed:\")\n",
    "print(\"\\\"\", ''.join([int_to_char[value] for value in pattern]), \"\\\"\")\n",
    "# generate characters\n",
    "for i in range(1000):\n",
    "    x = numpy.reshape(pattern, (1, len(pattern), 1))\n",
    "    x = x / float(n_vocab)\n",
    "    prediction = model.predict(x, verbose=0)\n",
    "    index = numpy.argmax(prediction)\n",
    "    result = int_to_char[index]\n",
    "    seq_in = [int_to_char[value] for value in pattern]\n",
    "    sys.stdout.write(result)\n",
    "    pattern.append(index)\n",
    "    pattern = pattern[1:len(pattern)]\n",
    "print(\"\\nDone.\")"
   ]
  },
  {
   "cell_type": "markdown",
   "metadata": {},
   "source": [
    "We can see that generally there are fewer spelling mistakes and the text looks more realistic, but is still quite nonsensical.\n",
    "\n",
    "For example the same phrases get repeated again and again like “said to herself” and “little“. Quotes are opened but not closed.\n",
    "\n",
    "These are better results but there is still a lot of room for improvement."
   ]
  },
  {
   "cell_type": "markdown",
   "metadata": {},
   "source": [
    "### 10 Extension Ideas to Improve the Model\n",
    "\n",
    "Below are 10 ideas that may further improve the model that you could experiment with are:\n",
    "\n",
    "  + Predict fewer than 1,000 characters as output for a given seed.\n",
    "  + Remove all punctuation from the source text, and therefore from the models’ vocabulary.\n",
    "  + Try a one hot encoded for the input sequences.\n",
    "  + Train the model on padded sentences rather than random sequences of characters.\n",
    "  + Increase the number of training epochs to 100 or many hundreds.\n",
    "  + Add dropout to the visible input layer and consider tuning the dropout percentage.\n",
    "  + Tune the batch size, try a batch size of 1 as a (very slow) baseline and larger sizes from there.\n",
    "  + Add more memory units to the layers and/or more layers.\n",
    "  + Experiment with scale factors (temperature) when interpreting the prediction probabilities.\n",
    "  + Change the LSTM layers to be “stateful” to maintain state across batches.\n"
   ]
  },
  {
   "cell_type": "markdown",
   "metadata": {},
   "source": [
    "#### Resources\n",
    "\n",
    "This character text model is a popular way for generating text using recurrent neural networks.\n",
    "\n",
    "Below are some more resources and tutorials on the topic if you are interested in going deeper. Perhaps the most popular is the tutorial by Andrej Karpathy titled “The Unreasonable Effectiveness of Recurrent Neural Networks“.\n",
    "\n",
    "+ [Generating Text with Recurrent Neural Networks](http://www.cs.utoronto.ca/~ilya/pubs/2011/LANG-RNN.pdf)\n",
    "+ [Keras code example of LSTM for text generation](https://github.com/fchollet/keras/blob/master/examples/lstm_text_generation.py)\n",
    "+ [Lasagne code example of LSTM for text generation](https://github.com/Lasagne/Recipes/blob/master/examples/lstm_text_generation.py)  \n",
    "+ [MXNet tutorial for using an LSTM for text generation](http://mxnetjl.readthedocs.io/en/latest/tutorial/char-lstm.html)\n",
    "+ [Auto-Generating Clickbait With Recurrent Neural Networks](https://larseidnes.com/2015/10/13/auto-generating-clickbait-with-recurrent-neural-networks/)\n",
    "\n",
    "#### Summary\n",
    "\n",
    "In this notebook you discovered how you can develop an LSTM recurrent neural network for text generation in Python with the Keras deep learning library.\n",
    "\n",
    "+ Where to download the ASCII text for classical books for free that you can use for training.\n",
    "+ How to train an LSTM network on text sequences and how to use the trained network to generate new sequences.\n",
    "+ How to develop stacked LSTM networks and lift the performance of the model."
   ]
  }
 ],
 "metadata": {
  "kernelspec": {
   "display_name": "Python 3",
   "language": "python",
   "name": "python3"
  },
  "language_info": {
   "codemirror_mode": {
    "name": "ipython",
    "version": 3
   },
   "file_extension": ".py",
   "mimetype": "text/x-python",
   "name": "python",
   "nbconvert_exporter": "python",
   "pygments_lexer": "ipython3",
   "version": "3.6.3"
  }
 },
 "nbformat": 4,
 "nbformat_minor": 2
}
