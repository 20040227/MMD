{
 "cells": [
  {
   "cell_type": "markdown",
   "metadata": {},
   "source": [
    "### Develop a Small LSTM Recurrent Neural Network"
   ]
  },
  {
   "cell_type": "markdown",
   "metadata": {},
   "source": [
    "Let’s start off by importing the classes and functions we intend to use to train our model."
   ]
  },
  {
   "cell_type": "code",
   "execution_count": 50,
   "metadata": {},
   "outputs": [],
   "source": [
    "import os\n",
    "#os.environ[\"KERAS_BACKEND\"] = \"theano\"\n",
    "os.environ[\"KERAS_BACKEND\"] = \"tensorflow\"\n",
    "\n",
    "import sys\n",
    "import time\n",
    "import re\n",
    "import numpy\n",
    "import matplotlib.pyplot as plt\n",
    "from keras.models import Sequential\n",
    "from keras.layers import Dense\n",
    "from keras.layers import Dropout\n",
    "from keras.layers import LSTM\n",
    "from keras.callbacks import ModelCheckpoint\n",
    "from keras.utils import np_utils\n",
    "import tensorflow as tf"
   ]
  },
  {
   "cell_type": "code",
   "execution_count": 2,
   "metadata": {},
   "outputs": [],
   "source": [
    "# fix random seed for reproducibility\n",
    "seed = 7\n",
    "numpy.random.seed(seed)"
   ]
  },
  {
   "cell_type": "markdown",
   "metadata": {},
   "source": [
    "First we'll develop a small ANN with Keras:"
   ]
  },
  {
   "cell_type": "code",
   "execution_count": 4,
   "metadata": {},
   "outputs": [],
   "source": [
    "# load pima indians dataset\n",
    "dataset = numpy.loadtxt(\"../datasets/CSVs/pima-indians-diabetes.data\", delimiter=\",\")"
   ]
  },
  {
   "cell_type": "code",
   "execution_count": 5,
   "metadata": {},
   "outputs": [],
   "source": [
    "# split into input (X) and output (Y) variables\n",
    "X = dataset[:,0:8]\n",
    "Y = dataset[:,8]"
   ]
  },
  {
   "cell_type": "code",
   "execution_count": 6,
   "metadata": {},
   "outputs": [],
   "source": [
    "# create model\n",
    "model = Sequential()\n",
    "model.add(Dense(12, input_dim=8, activation=\"relu\", kernel_initializer=\"uniform\"))\n",
    "model.add(Dense(8, activation=\"relu\", kernel_initializer=\"uniform\"))\n",
    "model.add(Dense(1, activation=\"sigmoid\", kernel_initializer=\"uniform\"))"
   ]
  },
  {
   "cell_type": "code",
   "execution_count": 7,
   "metadata": {},
   "outputs": [],
   "source": [
    "# Compile model\n",
    "model.compile(loss='binary_crossentropy', optimizer='adam', metrics=['accuracy'])"
   ]
  },
  {
   "cell_type": "code",
   "execution_count": 8,
   "metadata": {
    "scrolled": true
   },
   "outputs": [
    {
     "name": "stdout",
     "output_type": "stream",
     "text": [
      "Train on 514 samples, validate on 254 samples\n",
      "Epoch 1/200\n",
      "514/514 [==============================] - 4s - loss: 0.6796 - acc: 0.6401 - val_loss: 0.6584 - val_acc: 0.6732\n",
      "Epoch 2/200\n",
      "514/514 [==============================] - 0s - loss: 0.6688 - acc: 0.6401 - val_loss: 0.6537 - val_acc: 0.6732\n",
      "Epoch 3/200\n",
      "514/514 [==============================] - 0s - loss: 0.6615 - acc: 0.6401 - val_loss: 0.6507 - val_acc: 0.6732\n",
      "Epoch 4/200\n",
      "514/514 [==============================] - 0s - loss: 0.6537 - acc: 0.6401 - val_loss: 0.6443 - val_acc: 0.6732\n",
      "Epoch 5/200\n",
      "514/514 [==============================] - 0s - loss: 0.6440 - acc: 0.6518 - val_loss: 0.6340 - val_acc: 0.6772\n",
      "Epoch 6/200\n",
      "514/514 [==============================] - 0s - loss: 0.6377 - acc: 0.6420 - val_loss: 0.6238 - val_acc: 0.6929\n",
      "Epoch 7/200\n",
      "514/514 [==============================] - 0s - loss: 0.6291 - acc: 0.6595 - val_loss: 0.6123 - val_acc: 0.6850\n",
      "Epoch 8/200\n",
      "514/514 [==============================] - 0s - loss: 0.6219 - acc: 0.6751 - val_loss: 0.6057 - val_acc: 0.7047\n",
      "Epoch 9/200\n",
      "514/514 [==============================] - 0s - loss: 0.6136 - acc: 0.6615 - val_loss: 0.6026 - val_acc: 0.7047\n",
      "Epoch 10/200\n",
      "514/514 [==============================] - 0s - loss: 0.6081 - acc: 0.6868 - val_loss: 0.6007 - val_acc: 0.6929\n",
      "Epoch 11/200\n",
      "514/514 [==============================] - 0s - loss: 0.6034 - acc: 0.6809 - val_loss: 0.6025 - val_acc: 0.6850\n",
      "Epoch 12/200\n",
      "514/514 [==============================] - 0s - loss: 0.6051 - acc: 0.6829 - val_loss: 0.5844 - val_acc: 0.7008\n",
      "Epoch 13/200\n",
      "514/514 [==============================] - 0s - loss: 0.6050 - acc: 0.6887 - val_loss: 0.5862 - val_acc: 0.6929\n",
      "Epoch 14/200\n",
      "514/514 [==============================] - 0s - loss: 0.5932 - acc: 0.7023 - val_loss: 0.5841 - val_acc: 0.7165\n",
      "Epoch 15/200\n",
      "514/514 [==============================] - 0s - loss: 0.5896 - acc: 0.6984 - val_loss: 0.5808 - val_acc: 0.6890\n",
      "Epoch 16/200\n",
      "514/514 [==============================] - 0s - loss: 0.5963 - acc: 0.6984 - val_loss: 0.5778 - val_acc: 0.7087\n",
      "Epoch 17/200\n",
      "514/514 [==============================] - 0s - loss: 0.5894 - acc: 0.7023 - val_loss: 0.5784 - val_acc: 0.6929\n",
      "Epoch 18/200\n",
      "514/514 [==============================] - 0s - loss: 0.5815 - acc: 0.7082 - val_loss: 0.5783 - val_acc: 0.7205\n",
      "Epoch 19/200\n",
      "514/514 [==============================] - 0s - loss: 0.5850 - acc: 0.6907 - val_loss: 0.5794 - val_acc: 0.6969\n",
      "Epoch 20/200\n",
      "514/514 [==============================] - 0s - loss: 0.5834 - acc: 0.7140 - val_loss: 0.5726 - val_acc: 0.6929\n",
      "Epoch 21/200\n",
      "514/514 [==============================] - 0s - loss: 0.5761 - acc: 0.7082 - val_loss: 0.5805 - val_acc: 0.7008\n",
      "Epoch 22/200\n",
      "514/514 [==============================] - 0s - loss: 0.5706 - acc: 0.7335 - val_loss: 0.5762 - val_acc: 0.6772\n",
      "Epoch 23/200\n",
      "514/514 [==============================] - 0s - loss: 0.5722 - acc: 0.7101 - val_loss: 0.5727 - val_acc: 0.6850\n",
      "Epoch 24/200\n",
      "514/514 [==============================] - 0s - loss: 0.5587 - acc: 0.7432 - val_loss: 0.5682 - val_acc: 0.6890\n",
      "Epoch 25/200\n",
      "514/514 [==============================] - 0s - loss: 0.5666 - acc: 0.7315 - val_loss: 0.5649 - val_acc: 0.6890\n",
      "Epoch 26/200\n",
      "514/514 [==============================] - 0s - loss: 0.5622 - acc: 0.7432 - val_loss: 0.5650 - val_acc: 0.7165\n",
      "Epoch 27/200\n",
      "514/514 [==============================] - 0s - loss: 0.5604 - acc: 0.7335 - val_loss: 0.5668 - val_acc: 0.7087\n",
      "Epoch 28/200\n",
      "514/514 [==============================] - 0s - loss: 0.5618 - acc: 0.7160 - val_loss: 0.6282 - val_acc: 0.5984\n",
      "Epoch 29/200\n",
      "514/514 [==============================] - 0s - loss: 0.5607 - acc: 0.7179 - val_loss: 0.5706 - val_acc: 0.7205\n",
      "Epoch 30/200\n",
      "514/514 [==============================] - 0s - loss: 0.5557 - acc: 0.7374 - val_loss: 0.5689 - val_acc: 0.7126\n",
      "Epoch 31/200\n",
      "514/514 [==============================] - 0s - loss: 0.5490 - acc: 0.7198 - val_loss: 0.5625 - val_acc: 0.7087\n",
      "Epoch 32/200\n",
      "514/514 [==============================] - 0s - loss: 0.5613 - acc: 0.7393 - val_loss: 0.5939 - val_acc: 0.6850\n",
      "Epoch 33/200\n",
      "514/514 [==============================] - 0s - loss: 0.5674 - acc: 0.7257 - val_loss: 0.5818 - val_acc: 0.7047\n",
      "Epoch 34/200\n",
      "514/514 [==============================] - 0s - loss: 0.5520 - acc: 0.7412 - val_loss: 0.5647 - val_acc: 0.7087\n",
      "Epoch 35/200\n",
      "514/514 [==============================] - 0s - loss: 0.5450 - acc: 0.7374 - val_loss: 0.5594 - val_acc: 0.7087\n",
      "Epoch 36/200\n",
      "514/514 [==============================] - 0s - loss: 0.5551 - acc: 0.7393 - val_loss: 0.5680 - val_acc: 0.7047\n",
      "Epoch 37/200\n",
      "514/514 [==============================] - 0s - loss: 0.5456 - acc: 0.7354 - val_loss: 0.5610 - val_acc: 0.7283\n",
      "Epoch 38/200\n",
      "514/514 [==============================] - 0s - loss: 0.5441 - acc: 0.7432 - val_loss: 0.5499 - val_acc: 0.7323\n",
      "Epoch 39/200\n",
      "514/514 [==============================] - 0s - loss: 0.5526 - acc: 0.7121 - val_loss: 0.5534 - val_acc: 0.7205\n",
      "Epoch 40/200\n",
      "514/514 [==============================] - 0s - loss: 0.5496 - acc: 0.7335 - val_loss: 0.5519 - val_acc: 0.7165\n",
      "Epoch 41/200\n",
      "514/514 [==============================] - 0s - loss: 0.5430 - acc: 0.7471 - val_loss: 0.5522 - val_acc: 0.7087\n",
      "Epoch 42/200\n",
      "514/514 [==============================] - 0s - loss: 0.5473 - acc: 0.7490 - val_loss: 0.5622 - val_acc: 0.7205\n",
      "Epoch 43/200\n",
      "514/514 [==============================] - 0s - loss: 0.5445 - acc: 0.7471 - val_loss: 0.5645 - val_acc: 0.7244\n",
      "Epoch 44/200\n",
      "514/514 [==============================] - 0s - loss: 0.5443 - acc: 0.7276 - val_loss: 0.5552 - val_acc: 0.7362\n",
      "Epoch 45/200\n",
      "514/514 [==============================] - 0s - loss: 0.5364 - acc: 0.7335 - val_loss: 0.5801 - val_acc: 0.6575\n",
      "Epoch 46/200\n",
      "514/514 [==============================] - 0s - loss: 0.5487 - acc: 0.7257 - val_loss: 0.5657 - val_acc: 0.7047\n",
      "Epoch 47/200\n",
      "514/514 [==============================] - 0s - loss: 0.5451 - acc: 0.7296 - val_loss: 0.5548 - val_acc: 0.7323\n",
      "Epoch 48/200\n",
      "514/514 [==============================] - 0s - loss: 0.5427 - acc: 0.7198 - val_loss: 0.5502 - val_acc: 0.7323\n",
      "Epoch 49/200\n",
      "514/514 [==============================] - 0s - loss: 0.5393 - acc: 0.7432 - val_loss: 0.5499 - val_acc: 0.7205\n",
      "Epoch 50/200\n",
      "514/514 [==============================] - 0s - loss: 0.5394 - acc: 0.7393 - val_loss: 0.5691 - val_acc: 0.6890\n",
      "Epoch 51/200\n",
      "514/514 [==============================] - 0s - loss: 0.5318 - acc: 0.7549 - val_loss: 0.5479 - val_acc: 0.7244\n",
      "Epoch 52/200\n",
      "514/514 [==============================] - 0s - loss: 0.5382 - acc: 0.7412 - val_loss: 0.5600 - val_acc: 0.7126\n",
      "Epoch 53/200\n",
      "514/514 [==============================] - 0s - loss: 0.5336 - acc: 0.7451 - val_loss: 0.5469 - val_acc: 0.7402\n",
      "Epoch 54/200\n",
      "514/514 [==============================] - 0s - loss: 0.5327 - acc: 0.7335 - val_loss: 0.5504 - val_acc: 0.7480\n",
      "Epoch 55/200\n",
      "514/514 [==============================] - 0s - loss: 0.5310 - acc: 0.7471 - val_loss: 0.5510 - val_acc: 0.7244\n",
      "Epoch 56/200\n",
      "514/514 [==============================] - 0s - loss: 0.5373 - acc: 0.7296 - val_loss: 0.5553 - val_acc: 0.7205\n",
      "Epoch 57/200\n",
      "514/514 [==============================] - 0s - loss: 0.5361 - acc: 0.7490 - val_loss: 0.5620 - val_acc: 0.7244\n",
      "Epoch 58/200\n",
      "514/514 [==============================] - 0s - loss: 0.5307 - acc: 0.7335 - val_loss: 0.5630 - val_acc: 0.6929\n",
      "Epoch 59/200\n",
      "514/514 [==============================] - 0s - loss: 0.5380 - acc: 0.7296 - val_loss: 0.5463 - val_acc: 0.7362\n",
      "Epoch 60/200\n",
      "514/514 [==============================] - 0s - loss: 0.5330 - acc: 0.7354 - val_loss: 0.5453 - val_acc: 0.7283\n",
      "Epoch 61/200\n",
      "514/514 [==============================] - 0s - loss: 0.5376 - acc: 0.7471 - val_loss: 0.5511 - val_acc: 0.7283\n",
      "Epoch 62/200\n",
      "514/514 [==============================] - 0s - loss: 0.5343 - acc: 0.7393 - val_loss: 0.5462 - val_acc: 0.7283\n",
      "Epoch 63/200\n",
      "514/514 [==============================] - 0s - loss: 0.5279 - acc: 0.7412 - val_loss: 0.5424 - val_acc: 0.7362\n",
      "Epoch 64/200\n",
      "514/514 [==============================] - 0s - loss: 0.5299 - acc: 0.7471 - val_loss: 0.5428 - val_acc: 0.7520\n",
      "Epoch 65/200\n",
      "514/514 [==============================] - 0s - loss: 0.5308 - acc: 0.7432 - val_loss: 0.5590 - val_acc: 0.7283\n",
      "Epoch 66/200\n"
     ]
    },
    {
     "name": "stdout",
     "output_type": "stream",
     "text": [
      "514/514 [==============================] - 0s - loss: 0.5342 - acc: 0.7276 - val_loss: 0.5351 - val_acc: 0.7559\n",
      "Epoch 67/200\n",
      "514/514 [==============================] - 0s - loss: 0.5251 - acc: 0.7432 - val_loss: 0.5549 - val_acc: 0.7520\n",
      "Epoch 68/200\n",
      "514/514 [==============================] - 0s - loss: 0.5331 - acc: 0.7315 - val_loss: 0.5579 - val_acc: 0.7323\n",
      "Epoch 69/200\n",
      "514/514 [==============================] - 0s - loss: 0.5299 - acc: 0.7354 - val_loss: 0.5449 - val_acc: 0.7441\n",
      "Epoch 70/200\n",
      "514/514 [==============================] - 0s - loss: 0.5304 - acc: 0.7529 - val_loss: 0.5428 - val_acc: 0.7402\n",
      "Epoch 71/200\n",
      "514/514 [==============================] - 0s - loss: 0.5301 - acc: 0.7412 - val_loss: 0.5461 - val_acc: 0.7559\n",
      "Epoch 72/200\n",
      "514/514 [==============================] - 0s - loss: 0.5260 - acc: 0.7549 - val_loss: 0.5294 - val_acc: 0.7795\n",
      "Epoch 73/200\n",
      "514/514 [==============================] - 0s - loss: 0.5312 - acc: 0.7374 - val_loss: 0.5308 - val_acc: 0.7520\n",
      "Epoch 74/200\n",
      "514/514 [==============================] - 0s - loss: 0.5232 - acc: 0.7412 - val_loss: 0.5394 - val_acc: 0.7559\n",
      "Epoch 75/200\n",
      "514/514 [==============================] - 0s - loss: 0.5244 - acc: 0.7374 - val_loss: 0.5326 - val_acc: 0.7520\n",
      "Epoch 76/200\n",
      "514/514 [==============================] - 0s - loss: 0.5234 - acc: 0.7354 - val_loss: 0.5298 - val_acc: 0.7323\n",
      "Epoch 77/200\n",
      "514/514 [==============================] - 0s - loss: 0.5212 - acc: 0.7490 - val_loss: 0.5268 - val_acc: 0.7520\n",
      "Epoch 78/200\n",
      "514/514 [==============================] - 0s - loss: 0.5214 - acc: 0.7490 - val_loss: 0.5259 - val_acc: 0.7598\n",
      "Epoch 79/200\n",
      "514/514 [==============================] - 0s - loss: 0.5286 - acc: 0.7471 - val_loss: 0.5397 - val_acc: 0.7402\n",
      "Epoch 80/200\n",
      "514/514 [==============================] - 0s - loss: 0.5204 - acc: 0.7490 - val_loss: 0.5349 - val_acc: 0.7638\n",
      "Epoch 81/200\n",
      "514/514 [==============================] - 0s - loss: 0.5296 - acc: 0.7432 - val_loss: 0.5330 - val_acc: 0.7638\n",
      "Epoch 82/200\n",
      "514/514 [==============================] - 0s - loss: 0.5222 - acc: 0.7276 - val_loss: 0.5256 - val_acc: 0.7677\n",
      "Epoch 83/200\n",
      "514/514 [==============================] - 0s - loss: 0.5166 - acc: 0.7374 - val_loss: 0.5282 - val_acc: 0.7441\n",
      "Epoch 84/200\n",
      "514/514 [==============================] - 0s - loss: 0.5260 - acc: 0.7354 - val_loss: 0.5292 - val_acc: 0.7677\n",
      "Epoch 85/200\n",
      "514/514 [==============================] - 0s - loss: 0.5211 - acc: 0.7510 - val_loss: 0.5292 - val_acc: 0.7677\n",
      "Epoch 86/200\n",
      "514/514 [==============================] - 0s - loss: 0.5164 - acc: 0.7471 - val_loss: 0.5311 - val_acc: 0.7559\n",
      "Epoch 87/200\n",
      "514/514 [==============================] - 0s - loss: 0.5160 - acc: 0.7451 - val_loss: 0.5258 - val_acc: 0.7756\n",
      "Epoch 88/200\n",
      "514/514 [==============================] - 0s - loss: 0.5154 - acc: 0.7588 - val_loss: 0.5326 - val_acc: 0.7677\n",
      "Epoch 89/200\n",
      "514/514 [==============================] - 0s - loss: 0.5139 - acc: 0.7471 - val_loss: 0.5306 - val_acc: 0.7441\n",
      "Epoch 90/200\n",
      "514/514 [==============================] - 0s - loss: 0.5178 - acc: 0.7510 - val_loss: 0.5374 - val_acc: 0.7598\n",
      "Epoch 91/200\n",
      "514/514 [==============================] - 0s - loss: 0.5189 - acc: 0.7451 - val_loss: 0.5288 - val_acc: 0.7480\n",
      "Epoch 92/200\n",
      "514/514 [==============================] - 0s - loss: 0.5238 - acc: 0.7412 - val_loss: 0.5198 - val_acc: 0.7520\n",
      "Epoch 93/200\n",
      "514/514 [==============================] - 0s - loss: 0.5130 - acc: 0.7626 - val_loss: 0.5278 - val_acc: 0.7598\n",
      "Epoch 94/200\n",
      "514/514 [==============================] - 0s - loss: 0.5195 - acc: 0.7412 - val_loss: 0.5175 - val_acc: 0.7638\n",
      "Epoch 95/200\n",
      "514/514 [==============================] - 0s - loss: 0.5163 - acc: 0.7626 - val_loss: 0.5348 - val_acc: 0.7480\n",
      "Epoch 96/200\n",
      "514/514 [==============================] - 0s - loss: 0.5207 - acc: 0.7335 - val_loss: 0.5259 - val_acc: 0.7756\n",
      "Epoch 97/200\n",
      "514/514 [==============================] - 0s - loss: 0.5142 - acc: 0.7510 - val_loss: 0.5201 - val_acc: 0.7520\n",
      "Epoch 98/200\n",
      "514/514 [==============================] - 0s - loss: 0.5251 - acc: 0.7490 - val_loss: 0.5261 - val_acc: 0.7677\n",
      "Epoch 99/200\n",
      "514/514 [==============================] - 0s - loss: 0.5224 - acc: 0.7432 - val_loss: 0.5292 - val_acc: 0.7598\n",
      "Epoch 100/200\n",
      "514/514 [==============================] - 0s - loss: 0.5154 - acc: 0.7471 - val_loss: 0.5134 - val_acc: 0.7756\n",
      "Epoch 101/200\n",
      "514/514 [==============================] - 0s - loss: 0.5124 - acc: 0.7471 - val_loss: 0.5196 - val_acc: 0.7520\n",
      "Epoch 102/200\n",
      "514/514 [==============================] - 0s - loss: 0.5100 - acc: 0.7510 - val_loss: 0.5112 - val_acc: 0.7717\n",
      "Epoch 103/200\n",
      "514/514 [==============================] - 0s - loss: 0.5164 - acc: 0.7510 - val_loss: 0.5245 - val_acc: 0.7677\n",
      "Epoch 104/200\n",
      "514/514 [==============================] - 0s - loss: 0.5125 - acc: 0.7432 - val_loss: 0.5093 - val_acc: 0.7795\n",
      "Epoch 105/200\n",
      "514/514 [==============================] - 0s - loss: 0.5092 - acc: 0.7646 - val_loss: 0.5143 - val_acc: 0.7756\n",
      "Epoch 106/200\n",
      "514/514 [==============================] - 0s - loss: 0.5168 - acc: 0.7354 - val_loss: 0.5135 - val_acc: 0.7480\n",
      "Epoch 107/200\n",
      "514/514 [==============================] - 0s - loss: 0.5119 - acc: 0.7432 - val_loss: 0.5253 - val_acc: 0.7441\n",
      "Epoch 108/200\n",
      "514/514 [==============================] - 0s - loss: 0.5215 - acc: 0.7529 - val_loss: 0.5165 - val_acc: 0.7717\n",
      "Epoch 109/200\n",
      "514/514 [==============================] - 0s - loss: 0.5113 - acc: 0.7607 - val_loss: 0.5107 - val_acc: 0.7638\n",
      "Epoch 110/200\n",
      "514/514 [==============================] - 0s - loss: 0.5056 - acc: 0.7646 - val_loss: 0.5478 - val_acc: 0.7402\n",
      "Epoch 111/200\n",
      "514/514 [==============================] - 0s - loss: 0.5212 - acc: 0.7588 - val_loss: 0.5180 - val_acc: 0.7756\n",
      "Epoch 112/200\n",
      "514/514 [==============================] - 0s - loss: 0.5024 - acc: 0.7529 - val_loss: 0.5200 - val_acc: 0.7598\n",
      "Epoch 113/200\n",
      "514/514 [==============================] - 0s - loss: 0.5132 - acc: 0.7549 - val_loss: 0.5122 - val_acc: 0.7598\n",
      "Epoch 114/200\n",
      "514/514 [==============================] - 0s - loss: 0.5064 - acc: 0.7510 - val_loss: 0.5102 - val_acc: 0.7835\n",
      "Epoch 115/200\n",
      "514/514 [==============================] - 0s - loss: 0.5097 - acc: 0.7451 - val_loss: 0.5078 - val_acc: 0.7717\n",
      "Epoch 116/200\n",
      "514/514 [==============================] - 0s - loss: 0.5066 - acc: 0.7568 - val_loss: 0.5063 - val_acc: 0.7795\n",
      "Epoch 117/200\n",
      "514/514 [==============================] - 0s - loss: 0.5153 - acc: 0.7393 - val_loss: 0.5196 - val_acc: 0.7520\n",
      "Epoch 118/200\n",
      "514/514 [==============================] - 0s - loss: 0.5059 - acc: 0.7471 - val_loss: 0.5067 - val_acc: 0.7874\n",
      "Epoch 119/200\n",
      "514/514 [==============================] - 0s - loss: 0.5096 - acc: 0.7568 - val_loss: 0.5215 - val_acc: 0.7835\n",
      "Epoch 120/200\n",
      "514/514 [==============================] - 0s - loss: 0.5043 - acc: 0.7335 - val_loss: 0.5085 - val_acc: 0.7835\n",
      "Epoch 121/200\n",
      "514/514 [==============================] - 0s - loss: 0.5057 - acc: 0.7568 - val_loss: 0.5123 - val_acc: 0.7559\n",
      "Epoch 122/200\n",
      "514/514 [==============================] - 0s - loss: 0.5083 - acc: 0.7374 - val_loss: 0.5058 - val_acc: 0.7913\n",
      "Epoch 123/200\n",
      "514/514 [==============================] - 0s - loss: 0.5057 - acc: 0.7412 - val_loss: 0.5150 - val_acc: 0.7598\n",
      "Epoch 124/200\n",
      "514/514 [==============================] - 0s - loss: 0.5058 - acc: 0.7510 - val_loss: 0.5099 - val_acc: 0.7677\n",
      "Epoch 125/200\n",
      "514/514 [==============================] - 0s - loss: 0.5124 - acc: 0.7529 - val_loss: 0.5133 - val_acc: 0.7559\n",
      "Epoch 126/200\n",
      "514/514 [==============================] - 0s - loss: 0.5030 - acc: 0.7451 - val_loss: 0.5129 - val_acc: 0.7717\n",
      "Epoch 127/200\n",
      "514/514 [==============================] - 0s - loss: 0.5030 - acc: 0.7529 - val_loss: 0.4979 - val_acc: 0.7953\n",
      "Epoch 128/200\n",
      "514/514 [==============================] - 0s - loss: 0.4979 - acc: 0.7646 - val_loss: 0.5054 - val_acc: 0.7717\n",
      "Epoch 129/200\n",
      "514/514 [==============================] - 0s - loss: 0.5036 - acc: 0.7471 - val_loss: 0.5061 - val_acc: 0.7677\n",
      "Epoch 130/200\n",
      "514/514 [==============================] - 0s - loss: 0.5007 - acc: 0.7529 - val_loss: 0.5028 - val_acc: 0.7795\n",
      "Epoch 131/200\n"
     ]
    },
    {
     "name": "stdout",
     "output_type": "stream",
     "text": [
      "514/514 [==============================] - 0s - loss: 0.5008 - acc: 0.7568 - val_loss: 0.5136 - val_acc: 0.7638\n",
      "Epoch 132/200\n",
      "514/514 [==============================] - 0s - loss: 0.5027 - acc: 0.7529 - val_loss: 0.4981 - val_acc: 0.7874\n",
      "Epoch 133/200\n",
      "514/514 [==============================] - 0s - loss: 0.4984 - acc: 0.7626 - val_loss: 0.4998 - val_acc: 0.7913\n",
      "Epoch 134/200\n",
      "514/514 [==============================] - 0s - loss: 0.4963 - acc: 0.7568 - val_loss: 0.5013 - val_acc: 0.7717\n",
      "Epoch 135/200\n",
      "514/514 [==============================] - 0s - loss: 0.4989 - acc: 0.7568 - val_loss: 0.5040 - val_acc: 0.7756\n",
      "Epoch 136/200\n",
      "514/514 [==============================] - 0s - loss: 0.4983 - acc: 0.7412 - val_loss: 0.4950 - val_acc: 0.7913\n",
      "Epoch 137/200\n",
      "514/514 [==============================] - 0s - loss: 0.5019 - acc: 0.7412 - val_loss: 0.5041 - val_acc: 0.7717\n",
      "Epoch 138/200\n",
      "514/514 [==============================] - 0s - loss: 0.4951 - acc: 0.7529 - val_loss: 0.4991 - val_acc: 0.7835\n",
      "Epoch 139/200\n",
      "514/514 [==============================] - 0s - loss: 0.4950 - acc: 0.7490 - val_loss: 0.4995 - val_acc: 0.7677\n",
      "Epoch 140/200\n",
      "514/514 [==============================] - 0s - loss: 0.4895 - acc: 0.7490 - val_loss: 0.4978 - val_acc: 0.7795\n",
      "Epoch 141/200\n",
      "514/514 [==============================] - 0s - loss: 0.4951 - acc: 0.7665 - val_loss: 0.4875 - val_acc: 0.7913\n",
      "Epoch 142/200\n",
      "514/514 [==============================] - 0s - loss: 0.4968 - acc: 0.7549 - val_loss: 0.4990 - val_acc: 0.7717\n",
      "Epoch 143/200\n",
      "514/514 [==============================] - 0s - loss: 0.5003 - acc: 0.7549 - val_loss: 0.4974 - val_acc: 0.7795\n",
      "Epoch 144/200\n",
      "514/514 [==============================] - 0s - loss: 0.5069 - acc: 0.7490 - val_loss: 0.4907 - val_acc: 0.7874\n",
      "Epoch 145/200\n",
      "514/514 [==============================] - 0s - loss: 0.5029 - acc: 0.7529 - val_loss: 0.4877 - val_acc: 0.7795\n",
      "Epoch 146/200\n",
      "514/514 [==============================] - 0s - loss: 0.4918 - acc: 0.7588 - val_loss: 0.5059 - val_acc: 0.7756\n",
      "Epoch 147/200\n",
      "514/514 [==============================] - 0s - loss: 0.4911 - acc: 0.7626 - val_loss: 0.4880 - val_acc: 0.7874\n",
      "Epoch 148/200\n",
      "514/514 [==============================] - 0s - loss: 0.4957 - acc: 0.7626 - val_loss: 0.4918 - val_acc: 0.7913\n",
      "Epoch 149/200\n",
      "514/514 [==============================] - 0s - loss: 0.4901 - acc: 0.7607 - val_loss: 0.4931 - val_acc: 0.7717\n",
      "Epoch 150/200\n",
      "514/514 [==============================] - 0s - loss: 0.4876 - acc: 0.7607 - val_loss: 0.4973 - val_acc: 0.7795\n",
      "Epoch 151/200\n",
      "514/514 [==============================] - 0s - loss: 0.4920 - acc: 0.7510 - val_loss: 0.4853 - val_acc: 0.7874\n",
      "Epoch 152/200\n",
      "514/514 [==============================] - 0s - loss: 0.4892 - acc: 0.7743 - val_loss: 0.4882 - val_acc: 0.7835\n",
      "Epoch 153/200\n",
      "514/514 [==============================] - 0s - loss: 0.4923 - acc: 0.7646 - val_loss: 0.4972 - val_acc: 0.7598\n",
      "Epoch 154/200\n",
      "514/514 [==============================] - 0s - loss: 0.4886 - acc: 0.7490 - val_loss: 0.4829 - val_acc: 0.7953\n",
      "Epoch 155/200\n",
      "514/514 [==============================] - 0s - loss: 0.4913 - acc: 0.7626 - val_loss: 0.4936 - val_acc: 0.7795\n",
      "Epoch 156/200\n",
      "514/514 [==============================] - 0s - loss: 0.4847 - acc: 0.7568 - val_loss: 0.4864 - val_acc: 0.7756\n",
      "Epoch 157/200\n",
      "514/514 [==============================] - 0s - loss: 0.5045 - acc: 0.7490 - val_loss: 0.4830 - val_acc: 0.7756\n",
      "Epoch 158/200\n",
      "514/514 [==============================] - 0s - loss: 0.4876 - acc: 0.7471 - val_loss: 0.4888 - val_acc: 0.7717\n",
      "Epoch 159/200\n",
      "514/514 [==============================] - 0s - loss: 0.4811 - acc: 0.7685 - val_loss: 0.4820 - val_acc: 0.7874\n",
      "Epoch 160/200\n",
      "514/514 [==============================] - 0s - loss: 0.4812 - acc: 0.7588 - val_loss: 0.4930 - val_acc: 0.7717\n",
      "Epoch 161/200\n",
      "514/514 [==============================] - 0s - loss: 0.4787 - acc: 0.7665 - val_loss: 0.4751 - val_acc: 0.7953\n",
      "Epoch 162/200\n",
      "514/514 [==============================] - 0s - loss: 0.4806 - acc: 0.7724 - val_loss: 0.4832 - val_acc: 0.7795\n",
      "Epoch 163/200\n",
      "514/514 [==============================] - 0s - loss: 0.4894 - acc: 0.7646 - val_loss: 0.4970 - val_acc: 0.7638\n",
      "Epoch 164/200\n",
      "514/514 [==============================] - 0s - loss: 0.4813 - acc: 0.7626 - val_loss: 0.4839 - val_acc: 0.7835\n",
      "Epoch 165/200\n",
      "514/514 [==============================] - 0s - loss: 0.4798 - acc: 0.7607 - val_loss: 0.4747 - val_acc: 0.7953\n",
      "Epoch 166/200\n",
      "514/514 [==============================] - 0s - loss: 0.4784 - acc: 0.7588 - val_loss: 0.4936 - val_acc: 0.7913\n",
      "Epoch 167/200\n",
      "514/514 [==============================] - 0s - loss: 0.4919 - acc: 0.7588 - val_loss: 0.4870 - val_acc: 0.7992\n",
      "Epoch 168/200\n",
      "514/514 [==============================] - 0s - loss: 0.4768 - acc: 0.7665 - val_loss: 0.4861 - val_acc: 0.7913\n",
      "Epoch 169/200\n",
      "514/514 [==============================] - 0s - loss: 0.4776 - acc: 0.7665 - val_loss: 0.4916 - val_acc: 0.7874\n",
      "Epoch 170/200\n",
      "514/514 [==============================] - 0s - loss: 0.4761 - acc: 0.7646 - val_loss: 0.4901 - val_acc: 0.7835\n",
      "Epoch 171/200\n",
      "514/514 [==============================] - 0s - loss: 0.4762 - acc: 0.7646 - val_loss: 0.4878 - val_acc: 0.7874\n",
      "Epoch 172/200\n",
      "514/514 [==============================] - 0s - loss: 0.4667 - acc: 0.7821 - val_loss: 0.4830 - val_acc: 0.7874\n",
      "Epoch 173/200\n",
      "514/514 [==============================] - 0s - loss: 0.4825 - acc: 0.7549 - val_loss: 0.4850 - val_acc: 0.7874\n",
      "Epoch 174/200\n",
      "514/514 [==============================] - 0s - loss: 0.4691 - acc: 0.7724 - val_loss: 0.4951 - val_acc: 0.7559\n",
      "Epoch 175/200\n",
      "514/514 [==============================] - 0s - loss: 0.4659 - acc: 0.7802 - val_loss: 0.4796 - val_acc: 0.7992\n",
      "Epoch 176/200\n",
      "514/514 [==============================] - 0s - loss: 0.4778 - acc: 0.7549 - val_loss: 0.4898 - val_acc: 0.7638\n",
      "Epoch 177/200\n",
      "514/514 [==============================] - 0s - loss: 0.4683 - acc: 0.7763 - val_loss: 0.4848 - val_acc: 0.7913\n",
      "Epoch 178/200\n",
      "514/514 [==============================] - 0s - loss: 0.4714 - acc: 0.7646 - val_loss: 0.5017 - val_acc: 0.7638\n",
      "Epoch 179/200\n",
      "514/514 [==============================] - 0s - loss: 0.4635 - acc: 0.7704 - val_loss: 0.4756 - val_acc: 0.8071\n",
      "Epoch 180/200\n",
      "514/514 [==============================] - 0s - loss: 0.4773 - acc: 0.7626 - val_loss: 0.4835 - val_acc: 0.7717\n",
      "Epoch 181/200\n",
      "514/514 [==============================] - 0s - loss: 0.4557 - acc: 0.7802 - val_loss: 0.5094 - val_acc: 0.7677\n",
      "Epoch 182/200\n",
      "514/514 [==============================] - 0s - loss: 0.4820 - acc: 0.7471 - val_loss: 0.4776 - val_acc: 0.7874\n",
      "Epoch 183/200\n",
      "514/514 [==============================] - 0s - loss: 0.4699 - acc: 0.7646 - val_loss: 0.4819 - val_acc: 0.7874\n",
      "Epoch 184/200\n",
      "514/514 [==============================] - 0s - loss: 0.4622 - acc: 0.7782 - val_loss: 0.4808 - val_acc: 0.7717\n",
      "Epoch 185/200\n",
      "514/514 [==============================] - 0s - loss: 0.4644 - acc: 0.7763 - val_loss: 0.4754 - val_acc: 0.7913\n",
      "Epoch 186/200\n",
      "514/514 [==============================] - 0s - loss: 0.4618 - acc: 0.7821 - val_loss: 0.4905 - val_acc: 0.7874\n",
      "Epoch 187/200\n",
      "514/514 [==============================] - 0s - loss: 0.4685 - acc: 0.7646 - val_loss: 0.4900 - val_acc: 0.7835\n",
      "Epoch 188/200\n",
      "514/514 [==============================] - 0s - loss: 0.4625 - acc: 0.7607 - val_loss: 0.4730 - val_acc: 0.7953\n",
      "Epoch 189/200\n",
      "514/514 [==============================] - 0s - loss: 0.4707 - acc: 0.7763 - val_loss: 0.5036 - val_acc: 0.7598\n",
      "Epoch 190/200\n",
      "514/514 [==============================] - 0s - loss: 0.4650 - acc: 0.7860 - val_loss: 0.5042 - val_acc: 0.7835\n",
      "Epoch 191/200\n",
      "514/514 [==============================] - 0s - loss: 0.4767 - acc: 0.7588 - val_loss: 0.4758 - val_acc: 0.7953\n",
      "Epoch 192/200\n",
      "514/514 [==============================] - 0s - loss: 0.4590 - acc: 0.7724 - val_loss: 0.4886 - val_acc: 0.7756\n",
      "Epoch 193/200\n",
      "514/514 [==============================] - 0s - loss: 0.4608 - acc: 0.7763 - val_loss: 0.4730 - val_acc: 0.8071\n",
      "Epoch 194/200\n",
      "514/514 [==============================] - 0s - loss: 0.4696 - acc: 0.7665 - val_loss: 0.4751 - val_acc: 0.8071\n",
      "Epoch 195/200\n",
      "514/514 [==============================] - 0s - loss: 0.4665 - acc: 0.7743 - val_loss: 0.4791 - val_acc: 0.7795\n",
      "Epoch 196/200\n"
     ]
    },
    {
     "name": "stdout",
     "output_type": "stream",
     "text": [
      "514/514 [==============================] - 0s - loss: 0.4552 - acc: 0.7782 - val_loss: 0.4839 - val_acc: 0.7756\n",
      "Epoch 197/200\n",
      "514/514 [==============================] - 0s - loss: 0.4625 - acc: 0.7782 - val_loss: 0.4918 - val_acc: 0.7795\n",
      "Epoch 198/200\n",
      "514/514 [==============================] - 0s - loss: 0.4536 - acc: 0.7704 - val_loss: 0.4833 - val_acc: 0.7756\n",
      "Epoch 199/200\n",
      "514/514 [==============================] - 0s - loss: 0.4630 - acc: 0.7821 - val_loss: 0.4798 - val_acc: 0.7953\n",
      "Epoch 200/200\n",
      "514/514 [==============================] - 0s - loss: 0.4610 - acc: 0.7665 - val_loss: 0.4858 - val_acc: 0.7756\n"
     ]
    }
   ],
   "source": [
    "# Fit the model\n",
    "history = model.fit(X, Y, validation_split=0.33, epochs=200, batch_size=10, verbose=1)"
   ]
  },
  {
   "cell_type": "code",
   "execution_count": 10,
   "metadata": {},
   "outputs": [
    {
     "name": "stdout",
     "output_type": "stream",
     "text": [
      "dict_keys(['val_loss', 'val_acc', 'loss', 'acc'])\n"
     ]
    }
   ],
   "source": [
    "# list all data in history\n",
    "print(history.history.keys())"
   ]
  },
  {
   "cell_type": "code",
   "execution_count": 11,
   "metadata": {},
   "outputs": [
    {
     "data": {
      "image/png": "[encoded data removed]",
      "text/plain": [
       "<matplotlib.figure.Figure at 0x7f728845e5c0>"
      ]
     },
     "metadata": {},
     "output_type": "display_data"
    }
   ],
   "source": [
    "# summarize history for accuracy\n",
    "plt.figure(figsize=(12,8))\n",
    "plt.plot(history.history['acc'])\n",
    "plt.plot(history.history['val_acc'])\n",
    "plt.title('model accuracy')\n",
    "plt.ylabel('accuracy')\n",
    "plt.xlabel('epoch')\n",
    "plt.legend(['train', 'test'], loc='upper left')\n",
    "plt.show()"
   ]
  },
  {
   "cell_type": "code",
   "execution_count": 12,
   "metadata": {},
   "outputs": [
    {
     "data": {
      "image/png": "[encoded data removed]",
      "text/plain": [
       "<matplotlib.figure.Figure at 0x7f728845e0b8>"
      ]
     },
     "metadata": {},
     "output_type": "display_data"
    }
   ],
   "source": [
    "# summarize history for loss\n",
    "plt.figure(figsize=(12,8))\n",
    "plt.plot(history.history['loss'])\n",
    "plt.plot(history.history['val_loss'])\n",
    "plt.title('model loss')\n",
    "plt.ylabel('loss')\n",
    "plt.xlabel('epoch')\n",
    "plt.legend(['train', 'test'], loc='upper left')\n",
    "plt.show()"
   ]
  },
  {
   "cell_type": "code",
   "execution_count": 13,
   "metadata": {},
   "outputs": [
    {
     "name": "stdout",
     "output_type": "stream",
     "text": [
      "768/768 [==============================] - 0s     \n",
      "\n",
      "acc: 78.91%\n"
     ]
    }
   ],
   "source": [
    "# evaluate the model\n",
    "scores = model.evaluate(X, Y)\n",
    "print(\"\\n%s: %.2f%%\" % (model.metrics_names[1], scores[1]*100))"
   ]
  },
  {
   "cell_type": "code",
   "execution_count": 14,
   "metadata": {},
   "outputs": [
    {
     "name": "stdout",
     "output_type": "stream",
     "text": [
      "[[ 0.58535826]\n",
      " [ 0.11100199]\n",
      " [ 0.88215661]\n",
      " [ 0.08106679]\n",
      " [ 0.8029905 ]\n",
      " [ 0.21644375]\n",
      " [ 0.19782761]\n",
      " [ 0.70849633]\n",
      " [ 0.83897203]\n",
      " [ 0.23279046]]\n",
      "\n",
      "[1.0, 0.0, 1.0, 0.0, 1.0, 0.0, 0.0, 1.0, 1.0, 0.0]\n"
     ]
    }
   ],
   "source": [
    "# calculate predictions\n",
    "predictions = model.predict(X)\n",
    "print(predictions[0:10])\n",
    "\n",
    "print()\n",
    "\n",
    "# round predictions\n",
    "rounded = [round(x[0]) for x in predictions]\n",
    "print(rounded[0:10])"
   ]
  },
  {
   "cell_type": "markdown",
   "metadata": {},
   "source": [
    "### Develop a Small LSTM Recurrent Neural Network\n",
    "\n",
    "Based on this [post](https://machinelearningmastery.com/text-generation-lstm-recurrent-neural-networks-python-keras/)\n",
    "\n",
    "In this section we will develop a simple LSTM network to learn sequences of characters from Alice in Wonderland. In the next section we will use this model to generate new sequences of characters."
   ]
  },
  {
   "cell_type": "markdown",
   "metadata": {},
   "source": [
    "Next, we need to load the ASCII text for the book into memory and convert all of the characters to lowercase to reduce the vocabulary that the network must learn."
   ]
  },
  {
   "cell_type": "code",
   "execution_count": 25,
   "metadata": {},
   "outputs": [],
   "source": [
    "# load ascii text and covert to lowercase\n",
    "filename = \"../datasets/texts/Gutenberg/wonderland.txt\"\n",
    "raw_text = open(filename).read()\n",
    "raw_text = raw_text.lower()"
   ]
  },
  {
   "cell_type": "code",
   "execution_count": 28,
   "metadata": {},
   "outputs": [
    {
     "data": {
      "text/plain": [
       "' alice s adventures in wonderland lewis carroll the millennium fulcrum edition 3 0 chapter i down the rabbit hole alice was beginning to get very tired of sitting by her sister on the bank and of having nothing to do once or twice she had peeped into the book her sister was reading but it had no pictures or conversations in it and what is the use of a book thought alice without pictures or conversations so she was considering in her own mind as well as she could for the hot day made her feel very sleepy and stupid whether the pleasure of making a daisy chain would be worth the trouble of getting up and picking the daisies when suddenly a white rabbit with pink eyes ran close by her there was nothing so very remarkable in that nor did alice think it so very much out of the way to hear the rabbit say to itself oh dear oh dear i shall be late when she thought it over afterwards it occurred to her that she ought to have wondered at this but at the time it all seemed quite natural but when '"
      ]
     },
     "execution_count": 28,
     "metadata": {},
     "output_type": "execute_result"
    }
   ],
   "source": [
    "raw_text[0:1000]"
   ]
  },
  {
   "cell_type": "markdown",
   "metadata": {},
   "source": [
    "Cleaning the text:"
   ]
  },
  {
   "cell_type": "code",
   "execution_count": 27,
   "metadata": {},
   "outputs": [],
   "source": [
    "raw_text = raw_text[raw_text.find('\\n\\n\\n\\n'):]\n",
    "raw_text = re.sub(r'[\\n ]+',' ', raw_text)\n",
    "\n",
    "import string\n",
    "for char in string.punctuation:\n",
    "    raw_text = raw_text.replace(char, ' ')\n",
    "\n",
    "raw_text = raw_text.replace('  ', ' ')\n",
    "raw_text = raw_text.replace('  ', ' ')"
   ]
  },
  {
   "cell_type": "markdown",
   "metadata": {},
   "source": [
    "Now that the book is loaded, we must prepare the data for modeling by the neural network. We cannot model the characters directly, instead we must convert the characters to integers.\n",
    "\n",
    "We can do this easily by first creating a set of all of the distinct characters in the book, then creating a map of each character to a unique integer."
   ]
  },
  {
   "cell_type": "code",
   "execution_count": 29,
   "metadata": {},
   "outputs": [],
   "source": [
    "# create mapping of unique chars to integers\n",
    "chars = sorted(list(set(raw_text)))\n",
    "char_to_int = dict((c, i) for i, c in enumerate(chars))"
   ]
  },
  {
   "cell_type": "markdown",
   "metadata": {},
   "source": [
    "For example, the list of unique sorted lowercase characters in the book is as follows:"
   ]
  },
  {
   "cell_type": "code",
   "execution_count": 30,
   "metadata": {},
   "outputs": [
    {
     "data": {
      "text/plain": [
       "{' ': 0,\n",
       " '0': 1,\n",
       " '1': 2,\n",
       " '2': 3,\n",
       " '3': 4,\n",
       " '4': 5,\n",
       " '5': 6,\n",
       " '6': 7,\n",
       " '7': 8,\n",
       " '8': 9,\n",
       " '9': 10,\n",
       " 'a': 11,\n",
       " 'b': 12,\n",
       " 'c': 13,\n",
       " 'd': 14,\n",
       " 'e': 15,\n",
       " 'f': 16,\n",
       " 'g': 17,\n",
       " 'h': 18,\n",
       " 'i': 19,\n",
       " 'j': 20,\n",
       " 'k': 21,\n",
       " 'l': 22,\n",
       " 'm': 23,\n",
       " 'n': 24,\n",
       " 'o': 25,\n",
       " 'p': 26,\n",
       " 'q': 27,\n",
       " 'r': 28,\n",
       " 's': 29,\n",
       " 't': 30,\n",
       " 'u': 31,\n",
       " 'v': 32,\n",
       " 'w': 33,\n",
       " 'x': 34,\n",
       " 'y': 35,\n",
       " 'z': 36}"
      ]
     },
     "execution_count": 30,
     "metadata": {},
     "output_type": "execute_result"
    }
   ],
   "source": [
    "char_to_int"
   ]
  },
  {
   "cell_type": "markdown",
   "metadata": {},
   "source": [
    "You can see that there may be some characters that we could remove to further clean up the dataset that will reduce the vocabulary and may improve the modeling process.\n",
    "\n",
    "Now that the book has been loaded and the mapping prepared, we can summarize the dataset."
   ]
  },
  {
   "cell_type": "code",
   "execution_count": 31,
   "metadata": {},
   "outputs": [
    {
     "name": "stdout",
     "output_type": "stream",
     "text": [
      "Total Characters:  153264\n",
      "Total Vocab:  37\n"
     ]
    }
   ],
   "source": [
    "n_chars = len(raw_text)\n",
    "n_vocab = len(chars)\n",
    "print(\"Total Characters: \", n_chars)\n",
    "print(\"Total Vocab: \", n_vocab)"
   ]
  },
  {
   "cell_type": "markdown",
   "metadata": {},
   "source": [
    "We can see that the book has just under 150,000 characters and that when converted to lowercase that there are only 37 distinct characters in the vocabulary for the network to learn. Much more than the 26 in the alphabet.\n",
    "\n",
    "We now need to define the training data for the network. There is a lot of flexibility in how you choose to break up the text and expose it to the network during training.\n",
    "\n",
    "In this tutorial we will split the book text up into subsequences with a fixed length of 100 characters, an arbitrary length. We could just as easily split the data up by sentences and pad the shorter sequences and truncate the longer ones.\n",
    "\n",
    "Each training pattern of the network is comprised of 100 time steps of one character (X) followed by one character output (y). When creating these sequences, we slide this window along the whole book one character at a time, allowing each character a chance to be learned from the 100 characters that preceded it (except the first 100 characters of course).\n",
    "\n",
    "For example, if the sequence length is 5 (for simplicity) then the first two training patterns would be as follows:  \n",
    "\n",
    "CHAPT -> E\n",
    "HAPTE -> R\n",
    "\n",
    "As we split up the book into these sequences, we convert the characters to integers using our lookup table we prepared earlier.  "
   ]
  },
  {
   "cell_type": "code",
   "execution_count": 32,
   "metadata": {},
   "outputs": [
    {
     "name": "stdout",
     "output_type": "stream",
     "text": [
      "Total Patterns:  153164\n"
     ]
    }
   ],
   "source": [
    "# prepare the dataset of input to output pairs encoded as integers\n",
    "seq_length = 100\n",
    "dataX = []\n",
    "dataY = []\n",
    "for i in range(0, n_chars - seq_length, 1):\n",
    "    seq_in = raw_text[i:i + seq_length]\n",
    "    seq_out = raw_text[i + seq_length]\n",
    "    dataX.append([char_to_int[char] for char in seq_in])\n",
    "    dataY.append(char_to_int[seq_out])\n",
    "n_patterns = len(dataX)\n",
    "print(\"Total Patterns: \", n_patterns)"
   ]
  },
  {
   "cell_type": "markdown",
   "metadata": {},
   "source": [
    "Running the code to this point shows us that when we split up the dataset into training data for the network to learn that we have just under 150,000 training pattens. This makes sense as excluding the first 100 characters, we have one training pattern to predict each of the remaining characters.  "
   ]
  },
  {
   "cell_type": "markdown",
   "metadata": {},
   "source": [
    "Now that we have prepared our training data we need to transform it so that it is suitable for use with Keras.\n",
    "\n",
    "First we must transform the list of input sequences into the form [samples, time steps, features] expected by an LSTM network.\n",
    "\n",
    "Next we need to rescale the integers to the range 0-to-1 to make the patterns easier to learn by the LSTM network that uses the sigmoid activation function by default.\n",
    "\n",
    "Finally, we need to convert the output patterns (single characters converted to integers) into a one hot encoding. This is so that we can configure the network to predict the probability of each of the 47 different characters in the vocabulary (an easier representation) rather than trying to force it to predict precisely the next character. Each y value is converted into a sparse vector with a length of 47, full of zeros except with a 1 in the column for the letter (integer) that the pattern represents.\n",
    "\n",
    "We can implement these steps as below.  "
   ]
  },
  {
   "cell_type": "code",
   "execution_count": 33,
   "metadata": {},
   "outputs": [],
   "source": [
    "# reshape X to be [samples, time steps, features]\n",
    "X = numpy.reshape(dataX, (n_patterns, seq_length, 1))\n",
    "# normalize\n",
    "X = X / float(n_vocab)\n",
    "# one hot encode the output variable\n",
    "y = np_utils.to_categorical(dataY)"
   ]
  },
  {
   "cell_type": "markdown",
   "metadata": {},
   "source": [
    "We can now define our LSTM model. Here we define a single hidden LSTM layer with 256 memory units. The network uses dropout with a probability of 20. The output layer is a Dense layer using the softmax activation function to output a probability prediction for each of the 47 characters between 0 and 1.\n",
    "\n",
    "The problem is really a single character classification problem with 47 classes and as such is defined as optimizing the log loss (cross entropy), here using the ADAM optimization algorithm for speed."
   ]
  },
  {
   "cell_type": "code",
   "execution_count": 34,
   "metadata": {},
   "outputs": [],
   "source": [
    "# define the LSTM model\n",
    "model = Sequential()\n",
    "model.add(LSTM(256, input_shape=(X.shape[1], X.shape[2])))\n",
    "model.add(Dropout(0.2))\n",
    "model.add(Dense(y.shape[1], activation='softmax'))\n",
    "model.compile(loss='categorical_crossentropy', optimizer='adam')"
   ]
  },
  {
   "cell_type": "markdown",
   "metadata": {},
   "source": [
    "There is no test dataset. We are modeling the entire training dataset to learn the probability of each character in a sequence.\n",
    "\n",
    "We are not interested in the most accurate (classification accuracy) model of the training dataset. This would be a model that predicts each character in the training dataset perfectly. Instead we are interested in a generalization of the dataset that minimizes the chosen loss function. We are seeking a balance between generalization and overfitting but short of memorization.\n",
    "\n",
    "The network is slow to train (about 300 seconds per epoch on an Nvidia K520 GPU). Because of the slowness and because of our optimization requirements, we will use model checkpointing to record all of the network weights to file each time an improvement in loss is observed at the end of the epoch. We will use the best set of weights (lowest loss) to instantiate our generative model in the next section."
   ]
  },
  {
   "cell_type": "code",
   "execution_count": 35,
   "metadata": {},
   "outputs": [],
   "source": [
    "# define the checkpoint\n",
    "filepath=\"weights-improvement-{epoch:02d}-{loss:.4f}.hdf5\"\n",
    "checkpoint = ModelCheckpoint(filepath, monitor='loss', verbose=1, save_best_only=True, mode='min')\n",
    "callbacks_list = [checkpoint]"
   ]
  },
  {
   "cell_type": "markdown",
   "metadata": {},
   "source": [
    "We can now fit our model to the data. Here we use a modest number of 20/30 epochs and a large batch size of 32/64/128 patterns."
   ]
  },
  {
   "cell_type": "code",
   "execution_count": 37,
   "metadata": {
    "scrolled": true
   },
   "outputs": [
    {
     "name": "stdout",
     "output_type": "stream",
     "text": [
      "Epoch 1/30\n",
      "153152/153164 [============================>.] - ETA: 0s - loss: 2.3221Epoch 00000: loss improved from 2.45787 to 2.32213, saving model to weights-improvement-00-2.3221.hdf5\n",
      "153164/153164 [==============================] - 970s - loss: 2.3221   \n",
      "Epoch 2/30\n",
      "153152/153164 [============================>.] - ETA: 0s - loss: 2.2190Epoch 00001: loss improved from 2.32213 to 2.21900, saving model to weights-improvement-01-2.2190.hdf5\n",
      "153164/153164 [==============================] - 957s - loss: 2.2190   \n",
      "Epoch 3/30\n",
      "153152/153164 [============================>.] - ETA: 0s - loss: 2.1386Epoch 00002: loss improved from 2.21900 to 2.13851, saving model to weights-improvement-02-2.1385.hdf5\n",
      "153164/153164 [==============================] - 972s - loss: 2.1385   \n",
      "Epoch 4/30\n",
      "153152/153164 [============================>.] - ETA: 0s - loss: 2.0675Epoch 00003: loss improved from 2.13851 to 2.06747, saving model to weights-improvement-03-2.0675.hdf5\n",
      "153164/153164 [==============================] - 973s - loss: 2.0675   \n",
      "Epoch 5/30\n",
      "153152/153164 [============================>.] - ETA: 0s - loss: 2.0089Epoch 00004: loss improved from 2.06747 to 2.00895, saving model to weights-improvement-04-2.0090.hdf5\n",
      "153164/153164 [==============================] - 969s - loss: 2.0090   \n",
      "Epoch 6/30\n",
      "153152/153164 [============================>.] - ETA: 0s - loss: 1.9535Epoch 00005: loss improved from 2.00895 to 1.95347, saving model to weights-improvement-05-1.9535.hdf5\n",
      "153164/153164 [==============================] - 964s - loss: 1.9535   \n",
      "Epoch 7/30\n",
      "153152/153164 [============================>.] - ETA: 0s - loss: 1.9048Epoch 00006: loss improved from 1.95347 to 1.90473, saving model to weights-improvement-06-1.9047.hdf5\n",
      "153164/153164 [==============================] - 966s - loss: 1.9047   \n",
      "Epoch 8/30\n",
      "153152/153164 [============================>.] - ETA: 0s - loss: 1.8615- ETA: 3sEpoch 00007: loss improved from 1.90473 to 1.86150, saving model to weights-improvement-07-1.8615.hdf5\n",
      "153164/153164 [==============================] - 965s - loss: 1.8615   \n",
      "Epoch 9/30\n",
      "153152/153164 [============================>.] - ETA: 0s - loss: 1.8219Epoch 00008: loss improved from 1.86150 to 1.82187, saving model to weights-improvement-08-1.8219.hdf5\n",
      "153164/153164 [==============================] - 968s - loss: 1.8219   \n",
      "Epoch 10/30\n",
      "153152/153164 [============================>.] - ETA: 0s - loss: 1.7898Epoch 00009: loss improved from 1.82187 to 1.78979, saving model to weights-improvement-09-1.7898.hdf5\n",
      "153164/153164 [==============================] - 974s - loss: 1.7898   \n",
      "Epoch 11/30\n",
      "153152/153164 [============================>.] - ETA: 0s - loss: 1.7565Epoch 00010: loss improved from 1.78979 to 1.75648, saving model to weights-improvement-10-1.7565.hdf5\n",
      "153164/153164 [==============================] - 965s - loss: 1.7565   \n",
      "Epoch 12/30\n",
      "153152/153164 [============================>.] - ETA: 0s - loss: 1.7249Epoch 00011: loss improved from 1.75648 to 1.72493, saving model to weights-improvement-11-1.7249.hdf5\n",
      "153164/153164 [==============================] - 967s - loss: 1.7249   \n",
      "Epoch 13/30\n",
      "153152/153164 [============================>.] - ETA: 0s - loss: 1.7006Epoch 00012: loss improved from 1.72493 to 1.70065, saving model to weights-improvement-12-1.7007.hdf5\n",
      "153164/153164 [==============================] - 968s - loss: 1.7007   \n",
      "Epoch 14/30\n",
      "153152/153164 [============================>.] - ETA: 0s - loss: 1.6772Epoch 00013: loss improved from 1.70065 to 1.67719, saving model to weights-improvement-13-1.6772.hdf5\n",
      "153164/153164 [==============================] - 950s - loss: 1.6772   \n",
      "Epoch 15/30\n",
      "153152/153164 [============================>.] - ETA: 0s - loss: 1.6552Epoch 00014: loss improved from 1.67719 to 1.65521, saving model to weights-improvement-14-1.6552.hdf5\n",
      "153164/153164 [==============================] - 958s - loss: 1.6552   \n",
      "Epoch 16/30\n",
      "153152/153164 [============================>.] - ETA: 0s - loss: 1.6361Epoch 00015: loss improved from 1.65521 to 1.63605, saving model to weights-improvement-15-1.6361.hdf5\n",
      "153164/153164 [==============================] - 923s - loss: 1.6361   \n",
      "Epoch 17/30\n",
      "153152/153164 [============================>.] - ETA: 0s - loss: 1.6175- ETA: 6s -  - ETAEpoch 00016: loss improved from 1.63605 to 1.61753, saving model to weights-improvement-16-1.6175.hdf5\n",
      "153164/153164 [==============================] - 975s - loss: 1.6175   \n",
      "Epoch 18/30\n",
      "153152/153164 [============================>.] - ETA: 0s - loss: 1.6003Epoch 00017: loss improved from 1.61753 to 1.60026, saving model to weights-improvement-17-1.6003.hdf5\n",
      "153164/153164 [==============================] - 935s - loss: 1.6003   \n",
      "Epoch 19/30\n",
      "153152/153164 [============================>.] - ETA: 0s - loss: 1.5846Epoch 00018: loss improved from 1.60026 to 1.58461, saving model to weights-improvement-18-1.5846.hdf5\n",
      "153164/153164 [==============================] - 978s - loss: 1.5846   \n",
      "Epoch 20/30\n",
      "153152/153164 [============================>.] - ETA: 0s - loss: 1.5702Epoch 00019: loss improved from 1.58461 to 1.57019, saving model to weights-improvement-19-1.5702.hdf5\n",
      "153164/153164 [==============================] - 958s - loss: 1.5702   \n",
      "Epoch 21/30\n",
      "153152/153164 [============================>.] - ETA: 0s - loss: 1.5576Epoch 00020: loss improved from 1.57019 to 1.55764, saving model to weights-improvement-20-1.5576.hdf5\n",
      "153164/153164 [==============================] - 967s - loss: 1.5576   \n",
      "Epoch 22/30\n",
      "153152/153164 [============================>.] - ETA: 0s - loss: 1.5417Epoch 00021: loss improved from 1.55764 to 1.54174, saving model to weights-improvement-21-1.5417.hdf5\n",
      "153164/153164 [==============================] - 969s - loss: 1.5417   \n",
      "Epoch 23/30\n",
      "153152/153164 [============================>.] - ETA: 0s - loss: 1.5320Epoch 00022: loss improved from 1.54174 to 1.53198, saving model to weights-improvement-22-1.5320.hdf5\n",
      "153164/153164 [==============================] - 973s - loss: 1.5320   \n",
      "Epoch 24/30\n",
      "153152/153164 [============================>.] - ETA: 0s - loss: 1.5221Epoch 00023: loss improved from 1.53198 to 1.52210, saving model to weights-improvement-23-1.5221.hdf5\n",
      "153164/153164 [==============================] - 962s - loss: 1.5221   \n",
      "Epoch 25/30\n",
      "153152/153164 [============================>.] - ETA: 0s - loss: 1.5178Epoch 00024: loss improved from 1.52210 to 1.51780, saving model to weights-improvement-24-1.5178.hdf5\n",
      "153164/153164 [==============================] - 969s - loss: 1.5178   \n",
      "Epoch 26/30\n",
      "153152/153164 [============================>.] - ETA: 0s - loss: 1.4993Epoch 00025: loss improved from 1.51780 to 1.49929, saving model to weights-improvement-25-1.4993.hdf5\n",
      "153164/153164 [==============================] - 957s - loss: 1.4993   \n",
      "Epoch 27/30\n",
      "153152/153164 [============================>.] - ETA: 0s - loss: 1.4902Epoch 00026: loss improved from 1.49929 to 1.49017, saving model to weights-improvement-26-1.4902.hdf5\n",
      "153164/153164 [==============================] - 973s - loss: 1.4902   \n",
      "Epoch 28/30\n",
      "153152/153164 [============================>.] - ETA: 0s - loss: 1.4836Epoch 00027: loss improved from 1.49017 to 1.48360, saving model to weights-improvement-27-1.4836.hdf5\n",
      "153164/153164 [==============================] - 972s - loss: 1.4836   \n",
      "Epoch 29/30\n",
      "153152/153164 [============================>.] - ETA: 0s - loss: 1.4717Epoch 00028: loss improved from 1.48360 to 1.47166, saving model to weights-improvement-28-1.4717.hdf5\n",
      "153164/153164 [==============================] - 960s - loss: 1.4717   \n",
      "Epoch 30/30\n",
      "153152/153164 [============================>.] - ETA: 0s - loss: 1.4626Epoch 00029: loss improved from 1.47166 to 1.46259, saving model to weights-improvement-29-1.4626.hdf5\n",
      "153164/153164 [==============================] - 966s - loss: 1.4626   \n"
     ]
    }
   ],
   "source": [
    "t0 = time.time()\n",
    "\n",
    "history = model.fit(X, y, epochs=30, batch_size=32, callbacks=callbacks_list, verbose=1)\n",
    "\n",
    "print(time.time() - t0)"
   ]
  },
  {
   "cell_type": "code",
   "execution_count": 38,
   "metadata": {},
   "outputs": [
    {
     "name": "stdout",
     "output_type": "stream",
     "text": [
      "dict_keys(['loss'])\n"
     ]
    }
   ],
   "source": [
    "# list all data in history\n",
    "print(history.history.keys())"
   ]
  },
  {
   "cell_type": "code",
   "execution_count": 39,
   "metadata": {},
   "outputs": [
    {
     "data": {
      "image/png": "[encoded data removed]",
      "text/plain": [
       "<matplotlib.figure.Figure at 0x7f71c05e8940>"
      ]
     },
     "metadata": {},
     "output_type": "display_data"
    }
   ],
   "source": [
    "# summarize history for loss\n",
    "plt.figure(figsize=(12,8))\n",
    "plt.plot(history.history['loss'])\n",
    "plt.title('model loss')\n",
    "plt.ylabel('loss')\n",
    "plt.xlabel('epoch')\n",
    "plt.legend(['train', 'test'], loc='upper left')\n",
    "plt.show()"
   ]
  },
  {
   "cell_type": "markdown",
   "metadata": {},
   "source": [
    "The network loss decreased almost every epoch and I expect the network could benefit from training for many more epochs.\n",
    "\n",
    "In the next section we will look at using this model to generate new text sequences."
   ]
  },
  {
   "cell_type": "markdown",
   "metadata": {},
   "source": [
    "You will see different results because of the stochastic nature of the model, and because it is hard to fix the random seed for LSTM models to get 100% reproducible results. This is not a concern for this generative model.\n",
    "\n",
    "After running the example, you should have a number of weight checkpoint files in the local directory.\n",
    "\n",
    "You can delete them all except the one with the smallest loss value."
   ]
  },
  {
   "cell_type": "code",
   "execution_count": 40,
   "metadata": {},
   "outputs": [
    {
     "name": "stdout",
     "output_type": "stream",
     "text": [
      "weights-improvement-00-2.3221.hdf5  weights-improvement-14-1.6552.hdf5\r\n",
      "weights-improvement-00-2.6455.hdf5  weights-improvement-15-1.6361.hdf5\r\n",
      "weights-improvement-01-2.2190.hdf5  weights-improvement-16-1.6175.hdf5\r\n",
      "weights-improvement-01-2.4579.hdf5  weights-improvement-17-1.6003.hdf5\r\n",
      "weights-improvement-02-2.1385.hdf5  weights-improvement-18-1.5846.hdf5\r\n",
      "weights-improvement-03-2.0675.hdf5  weights-improvement-19-1.5702.hdf5\r\n",
      "weights-improvement-04-2.0090.hdf5  weights-improvement-20-1.5576.hdf5\r\n",
      "weights-improvement-05-1.9535.hdf5  weights-improvement-21-1.5417.hdf5\r\n",
      "weights-improvement-06-1.9047.hdf5  weights-improvement-22-1.5320.hdf5\r\n",
      "weights-improvement-07-1.8615.hdf5  weights-improvement-23-1.5221.hdf5\r\n",
      "weights-improvement-08-1.8219.hdf5  weights-improvement-24-1.5178.hdf5\r\n",
      "weights-improvement-09-1.7898.hdf5  weights-improvement-25-1.4993.hdf5\r\n",
      "weights-improvement-10-1.7565.hdf5  weights-improvement-26-1.4902.hdf5\r\n",
      "weights-improvement-11-1.7249.hdf5  weights-improvement-27-1.4836.hdf5\r\n",
      "weights-improvement-12-1.7007.hdf5  weights-improvement-28-1.4717.hdf5\r\n",
      "weights-improvement-13-1.6772.hdf5  weights-improvement-29-1.4626.hdf5\r\n"
     ]
    }
   ],
   "source": [
    "!ls *.hdf5"
   ]
  },
  {
   "cell_type": "code",
   "execution_count": 41,
   "metadata": {},
   "outputs": [],
   "source": [
    "filename = \"weights-improvement-29-1.4626.hdf5\""
   ]
  },
  {
   "cell_type": "markdown",
   "metadata": {},
   "source": [
    "### Generating Text with an LSTM Network\n",
    "\n",
    "Generating text using the trained LSTM network is relatively straightforward.\n",
    "\n",
    "Firstly, we load the data and define the network in exactly the same way, except the network weights are loaded from a checkpoint file and the network does not need to be trained."
   ]
  },
  {
   "cell_type": "code",
   "execution_count": 42,
   "metadata": {},
   "outputs": [],
   "source": [
    "# load the network weights\n",
    "model.load_weights(filename)\n",
    "model.compile(loss='categorical_crossentropy', optimizer='adam')"
   ]
  },
  {
   "cell_type": "markdown",
   "metadata": {},
   "source": [
    "Also, when preparing the mapping of unique characters to integers, we must also create a reverse mapping that we can use to convert the integers back to characters so that we can understand the predictions."
   ]
  },
  {
   "cell_type": "code",
   "execution_count": 43,
   "metadata": {},
   "outputs": [],
   "source": [
    "int_to_char = dict((i, c) for i, c in enumerate(chars))"
   ]
  },
  {
   "cell_type": "markdown",
   "metadata": {},
   "source": [
    "Finally, we need to actually make predictions.\n",
    "\n",
    "The simplest way to use the Keras LSTM model to make predictions is to first start off with a seed sequence as input, generate the next character then update the seed sequence to add the generated character on the end and trim off the first character. This process is repeated for as long as we want to predict new characters (e.g. a sequence of 1,000 characters in length).\n",
    "\n",
    "We can pick a random input pattern as our seed sequence, then print generated characters as we generate them."
   ]
  },
  {
   "cell_type": "markdown",
   "metadata": {},
   "source": [
    "Running this example first outputs the selected random seed, then each character as it is generated.\n",
    "\n",
    "For example, below are the results from one run of this text generator. The random seed was:"
   ]
  },
  {
   "cell_type": "code",
   "execution_count": 44,
   "metadata": {},
   "outputs": [
    {
     "name": "stdout",
     "output_type": "stream",
     "text": [
      "Seed:\n",
      "\"  9 1 e 8 you may charge a reasonable fee for copies of or providing access to or distributing projec \"\n",
      "t gutenberg tm electronic works in aoy fonde and sid fuulder ou pipine tee offtiss of any frnenter oo iic to oay when i se to ali the dromhts saplirg and she whntent so here the queen said to anice wes sh the forsmas well in a very sell cut it was goid oe the sooe of the corrt and the queen said to anice whll ae iu was a beilueil see ifr she whnle the raid to herself and saed to alice and the whrle harder cnnse to the three gardeners who whrl ae in a very sell tute to the whotent at the cod of the soies she west on the cirt wo da  lot a very letter when she was not ald the wordd of the gorse of the muher she had ferter to mnte a oerter ti the whrle party it was toeer and when the had not so toee so she went on would you to leter and she thought it was a little whrce bnd the rereeber the said to herself an intt as ie sooke on the soe of the soeel of the whrlens al incousen and the whrteht the whrle farde of the thene whrl such a creadfully got bntt inte you so soeer thi muoer of the qre\n",
      "Done.\n"
     ]
    }
   ],
   "source": [
    "#pick a random seed\n",
    "start = numpy.random.randint(0, len(dataX)-1)\n",
    "pattern = dataX[start]\n",
    "print(\"Seed:\")\n",
    "print(\"\\\"\", ''.join([int_to_char[value] for value in pattern]), \"\\\"\")\n",
    "# generate characters\n",
    "for i in range(1000):\n",
    "    x = numpy.reshape(pattern, (1, len(pattern), 1))\n",
    "    x = x / float(n_vocab)\n",
    "    prediction = model.predict(x, verbose=0)\n",
    "    index = numpy.argmax(prediction)\n",
    "    result = int_to_char[index]\n",
    "    seq_in = [int_to_char[value] for value in pattern]\n",
    "    sys.stdout.write(result)\n",
    "    pattern.append(index)\n",
    "    pattern = pattern[1:len(pattern)]\n",
    "print(\"\\nDone.\")"
   ]
  },
  {
   "cell_type": "markdown",
   "metadata": {},
   "source": [
    "We can note some observations about the generated text.  \n",
    "+ It generally conforms to the line format observed in the original text of less than 80 characters before a new line.\n",
    "+ The characters are separated into word-like groups and most groups are actual English words (e.g. “the”, “little” and “was”), but many do not (e.g. “lott”, “tiie” and “taede”).\n",
    "+ Some of the words in sequence make sense(e.g. “and the white rabbit“), but many do not (e.g. “wese tilel“).\n",
    "\n",
    "The fact that this character based model of the book produces output like this is very impressive. It gives you a sense of the learning capabilities of LSTM networks.\n",
    "\n",
    "The results are not perfect. In the next section we look at improving the quality of results by developing a much larger LSTM network."
   ]
  },
  {
   "cell_type": "markdown",
   "metadata": {},
   "source": [
    "### Larger LSTM Recurrent Neural Network\n",
    "\n",
    "We got results, but not excellent results in the previous section. Now, we can try to improve the quality of the generated text by creating a much larger network.\n",
    "\n",
    "We will keep the number of memory units the same at 256, but add a second layer."
   ]
  },
  {
   "cell_type": "code",
   "execution_count": 45,
   "metadata": {},
   "outputs": [],
   "source": [
    "model = Sequential()\n",
    "model.add(LSTM(256, input_shape=(X.shape[1], X.shape[2]), return_sequences=True))\n",
    "model.add(Dropout(0.2))\n",
    "model.add(LSTM(256))\n",
    "model.add(Dropout(0.2))\n",
    "model.add(Dense(y.shape[1], activation='softmax'))\n",
    "model.compile(loss='categorical_crossentropy', optimizer='adam')"
   ]
  },
  {
   "cell_type": "markdown",
   "metadata": {},
   "source": [
    "We will also change the filename of the checkpointed weights so that we can tell the difference between weights for this network and the previous (by appending the word “bigger” in the filename)."
   ]
  },
  {
   "cell_type": "code",
   "execution_count": 46,
   "metadata": {},
   "outputs": [],
   "source": [
    "filepath=\"weights-improvement-{epoch:02d}-{loss:.4f}-bigger.hdf5\""
   ]
  },
  {
   "cell_type": "markdown",
   "metadata": {},
   "source": [
    "Finally, we will increase the number of training epochs from 20 to 50 and use batch size 32/64 to give the network more of an opportunity to be updated and learn."
   ]
  },
  {
   "cell_type": "code",
   "execution_count": 49,
   "metadata": {},
   "outputs": [
    {
     "name": "stdout",
     "output_type": "stream",
     "text": [
      "Epoch 1/50\n",
      "153152/153164 [============================>.] - ETA: 0s - loss: 2.7874Epoch 00000: loss improved from inf to 2.78742, saving model to weights-improvement-00-2.7874-bigger.hdf5\n",
      "153164/153164 [==============================] - 1972s - loss: 2.7874  \n",
      "Epoch 2/50\n",
      "153152/153164 [============================>.] - ETA: 0s - loss: 2.8364Epoch 00001: loss did not improve\n",
      "153164/153164 [==============================] - 1972s - loss: 2.8364  \n",
      "Epoch 3/50\n",
      "153152/153164 [============================>.] - ETA: 0s - loss: 2.8347Epoch 00002: loss did not improve\n",
      "153164/153164 [==============================] - 1971s - loss: 2.8347  \n",
      "Epoch 4/50\n",
      "153152/153164 [============================>.] - ETA: 0s - loss: 2.8349Epoch 00003: loss did not improve\n",
      "153164/153164 [==============================] - 1975s - loss: 2.8349  \n",
      "Epoch 5/50\n",
      "153152/153164 [============================>.] - ETA: 0s - loss: 2.8344Epoch 00004: loss did not improve\n",
      "153164/153164 [==============================] - 1976s - loss: 2.8344  \n",
      "Epoch 6/50\n",
      "153152/153164 [============================>.] - ETA: 0s - loss: 2.8344Epoch 00005: loss did not improve\n",
      "153164/153164 [==============================] - 1975s - loss: 2.8344  \n",
      "Epoch 7/50\n",
      "153152/153164 [============================>.] - ETA: 0s - loss: 2.8346Epoch 00006: loss did not improve\n",
      "153164/153164 [==============================] - 1984s - loss: 2.8346  \n",
      "Epoch 8/50\n",
      "153152/153164 [============================>.] - ETA: 0s - loss: 2.8342Epoch 00007: loss did not improve\n",
      "153164/153164 [==============================] - 1977s - loss: 2.8342  \n",
      "Epoch 9/50\n",
      "153152/153164 [============================>.] - ETA: 0s - loss: 2.8332Epoch 00008: loss did not improve\n",
      "153164/153164 [==============================] - 1978s - loss: 2.8332  \n",
      "Epoch 10/50\n",
      "153152/153164 [============================>.] - ETA: 0s - loss: 2.8339Epoch 00009: loss did not improve\n",
      "153164/153164 [==============================] - 1964s - loss: 2.8339  \n",
      "Epoch 11/50\n",
      "153152/153164 [============================>.] - ETA: 0s - loss: 2.8346Epoch 00010: loss did not improve\n",
      "153164/153164 [==============================] - 1972s - loss: 2.8346  \n",
      "Epoch 12/50\n",
      "153152/153164 [============================>.] - ETA: 0s - loss: 2.8340Epoch 00011: loss did not improve\n",
      "153164/153164 [==============================] - 1976s - loss: 2.8340  \n",
      "Epoch 13/50\n",
      "153152/153164 [============================>.] - ETA: 0s - loss: 2.8338Epoch 00012: loss did not improve\n",
      "153164/153164 [==============================] - 1956s - loss: 2.8338  \n",
      "Epoch 14/50\n",
      "153152/153164 [============================>.] - ETA: 0s - loss: 2.8339Epoch 00013: loss did not improve\n",
      "153164/153164 [==============================] - 1978s - loss: 2.8339  \n",
      "Epoch 15/50\n",
      "153152/153164 [============================>.] - ETA: 0s - loss: 2.8340Epoch 00014: loss did not improve\n",
      "153164/153164 [==============================] - 1979s - loss: 2.8340  \n",
      "Epoch 16/50\n",
      "153152/153164 [============================>.] - ETA: 0s - loss: 2.8341Epoch 00015: loss did not improve\n",
      "153164/153164 [==============================] - 1979s - loss: 2.8341  \n",
      "Epoch 17/50\n",
      "153152/153164 [============================>.] - ETA: 0s - loss: 2.8336Epoch 00016: loss did not improve\n",
      "153164/153164 [==============================] - 1974s - loss: 2.8335  \n",
      "Epoch 18/50\n",
      "153152/153164 [============================>.] - ETA: 0s - loss: 2.8334Epoch 00017: loss did not improve\n",
      "153164/153164 [==============================] - 1972s - loss: 2.8334  \n",
      "Epoch 19/50\n",
      "153152/153164 [============================>.] - ETA: 0s - loss: 2.8338Epoch 00018: loss did not improve\n",
      "153164/153164 [==============================] - 1982s - loss: 2.8338  \n",
      "Epoch 20/50\n",
      "153152/153164 [============================>.] - ETA: 0s - loss: 2.8334Epoch 00019: loss did not improve\n",
      "153164/153164 [==============================] - 1975s - loss: 2.8334  \n",
      "Epoch 21/50\n",
      "153152/153164 [============================>.] - ETA: 0s - loss: 2.8335Epoch 00020: loss did not improve\n",
      "153164/153164 [==============================] - 1977s - loss: 2.8335  \n",
      "Epoch 22/50\n",
      "153152/153164 [============================>.] - ETA: 0s - loss: 2.8337Epoch 00021: loss did not improve\n",
      "153164/153164 [==============================] - 1971s - loss: 2.8337  \n",
      "Epoch 23/50\n",
      "153152/153164 [============================>.] - ETA: 0s - loss: 2.8336Epoch 00022: loss did not improve\n",
      "153164/153164 [==============================] - 1975s - loss: 2.8336  \n",
      "Epoch 24/50\n",
      "153152/153164 [============================>.] - ETA: 0s - loss: 2.8332Epoch 00023: loss did not improve\n",
      "153164/153164 [==============================] - 1972s - loss: 2.8332  \n",
      "Epoch 25/50\n",
      "153152/153164 [============================>.] - ETA: 0s - loss: 2.8336Epoch 00024: loss did not improve\n",
      "153164/153164 [==============================] - 1983s - loss: 2.8336  \n",
      "Epoch 26/50\n",
      "153152/153164 [============================>.] - ETA: 0s - loss: 2.8336Epoch 00025: loss did not improve\n",
      "153164/153164 [==============================] - 1975s - loss: 2.8336  \n",
      "Epoch 27/50\n",
      "153152/153164 [============================>.] - ETA: 0s - loss: 2.8332Epoch 00026: loss did not improve\n",
      "153164/153164 [==============================] - 1964s - loss: 2.8332  \n",
      "Epoch 28/50\n",
      "153152/153164 [============================>.] - ETA: 0s - loss: 2.8334Epoch 00027: loss did not improve\n",
      "153164/153164 [==============================] - 1968s - loss: 2.8334  \n",
      "Epoch 29/50\n",
      "153152/153164 [============================>.] - ETA: 0s - loss: 2.8329Epoch 00028: loss did not improve\n",
      "153164/153164 [==============================] - 1977s - loss: 2.8330  \n",
      "Epoch 30/50\n",
      "153152/153164 [============================>.] - ETA: 0s - loss: 2.8333Epoch 00029: loss did not improve\n",
      "153164/153164 [==============================] - 1977s - loss: 2.8332  \n",
      "Epoch 31/50\n",
      "153152/153164 [============================>.] - ETA: 0s - loss: 2.8334Epoch 00030: loss did not improve\n",
      "153164/153164 [==============================] - 1970s - loss: 2.8334  \n",
      "Epoch 32/50\n",
      "153152/153164 [============================>.] - ETA: 0s - loss: 2.8334Epoch 00031: loss did not improve\n",
      "153164/153164 [==============================] - 1978s - loss: 2.8334  \n",
      "Epoch 33/50\n",
      "153152/153164 [============================>.] - ETA: 0s - loss: 2.8336Epoch 00032: loss did not improve\n",
      "153164/153164 [==============================] - 1977s - loss: 2.8336  \n",
      "Epoch 34/50\n",
      "153152/153164 [============================>.] - ETA: 0s - loss: 2.8333Epoch 00033: loss did not improve\n",
      "153164/153164 [==============================] - 1987s - loss: 2.8333  \n",
      "Epoch 35/50\n",
      "153152/153164 [============================>.] - ETA: 0s - loss: 2.8339Epoch 00034: loss did not improve\n",
      "153164/153164 [==============================] - 1974s - loss: 2.8339  \n",
      "Epoch 36/50\n",
      "153152/153164 [============================>.] - ETA: 0s - loss: 2.8336Epoch 00035: loss did not improve\n",
      "153164/153164 [==============================] - 1970s - loss: 2.8336  \n",
      "Epoch 37/50\n",
      "153152/153164 [============================>.] - ETA: 0s - loss: 2.8331Epoch 00036: loss did not improve\n",
      "153164/153164 [==============================] - 1966s - loss: 2.8331  \n",
      "Epoch 38/50\n",
      "153152/153164 [============================>.] - ETA: 0s - loss: 2.8337Epoch 00037: loss did not improve\n",
      "153164/153164 [==============================] - 1982s - loss: 2.8337  \n",
      "Epoch 39/50\n",
      "153152/153164 [============================>.] - ETA: 0s - loss: 2.8331Epoch 00038: loss did not improve\n",
      "153164/153164 [==============================] - 1966s - loss: 2.8331  \n",
      "Epoch 40/50\n",
      "104896/153164 [===================>..........] - ETA: 622s - loss: 2.8343"
     ]
    },
    {
     "ename": "KeyboardInterrupt",
     "evalue": "",
     "output_type": "error",
     "traceback": [
      "\u001b[0;31m---------------------------------------------------------------------------\u001b[0m",
      "\u001b[0;31mKeyboardInterrupt\u001b[0m                         Traceback (most recent call last)",
      "\u001b[0;32m<ipython-input-49-44798182618c>\u001b[0m in \u001b[0;36m<module>\u001b[0;34m()\u001b[0m\n\u001b[1;32m      4\u001b[0m \u001b[0mcallbacks_list\u001b[0m \u001b[0;34m=\u001b[0m \u001b[0;34m[\u001b[0m\u001b[0mcheckpoint\u001b[0m\u001b[0;34m]\u001b[0m\u001b[0;34m\u001b[0m\u001b[0m\n\u001b[1;32m      5\u001b[0m \u001b[0;31m# fit the model\u001b[0m\u001b[0;34m\u001b[0m\u001b[0;34m\u001b[0m\u001b[0m\n\u001b[0;32m----> 6\u001b[0;31m \u001b[0mmodel\u001b[0m\u001b[0;34m.\u001b[0m\u001b[0mfit\u001b[0m\u001b[0;34m(\u001b[0m\u001b[0mX\u001b[0m\u001b[0;34m,\u001b[0m \u001b[0my\u001b[0m\u001b[0;34m,\u001b[0m \u001b[0mepochs\u001b[0m\u001b[0;34m=\u001b[0m\u001b[0;36m50\u001b[0m\u001b[0;34m,\u001b[0m \u001b[0mbatch_size\u001b[0m\u001b[0;34m=\u001b[0m\u001b[0;36m32\u001b[0m\u001b[0;34m,\u001b[0m \u001b[0mcallbacks\u001b[0m\u001b[0;34m=\u001b[0m\u001b[0mcallbacks_list\u001b[0m\u001b[0;34m)\u001b[0m\u001b[0;34m\u001b[0m\u001b[0m\n\u001b[0m\u001b[1;32m      7\u001b[0m \u001b[0;34m\u001b[0m\u001b[0m\n\u001b[1;32m      8\u001b[0m \u001b[0mprint\u001b[0m\u001b[0;34m(\u001b[0m\u001b[0mtime\u001b[0m\u001b[0;34m.\u001b[0m\u001b[0mtime\u001b[0m\u001b[0;34m(\u001b[0m\u001b[0;34m)\u001b[0m \u001b[0;34m-\u001b[0m \u001b[0mt0\u001b[0m\u001b[0;34m)\u001b[0m\u001b[0;34m\u001b[0m\u001b[0m\n",
      "\u001b[0;32m/usr/local/lib/python3.6/dist-packages/keras/models.py\u001b[0m in \u001b[0;36mfit\u001b[0;34m(self, x, y, batch_size, epochs, verbose, callbacks, validation_split, validation_data, shuffle, class_weight, sample_weight, initial_epoch, **kwargs)\u001b[0m\n\u001b[1;32m    865\u001b[0m                               \u001b[0mclass_weight\u001b[0m\u001b[0;34m=\u001b[0m\u001b[0mclass_weight\u001b[0m\u001b[0;34m,\u001b[0m\u001b[0;34m\u001b[0m\u001b[0m\n\u001b[1;32m    866\u001b[0m                               \u001b[0msample_weight\u001b[0m\u001b[0;34m=\u001b[0m\u001b[0msample_weight\u001b[0m\u001b[0;34m,\u001b[0m\u001b[0;34m\u001b[0m\u001b[0m\n\u001b[0;32m--> 867\u001b[0;31m                               initial_epoch=initial_epoch)\n\u001b[0m\u001b[1;32m    868\u001b[0m \u001b[0;34m\u001b[0m\u001b[0m\n\u001b[1;32m    869\u001b[0m     def evaluate(self, x, y, batch_size=32, verbose=1,\n",
      "\u001b[0;32m/usr/local/lib/python3.6/dist-packages/keras/engine/training.py\u001b[0m in \u001b[0;36mfit\u001b[0;34m(self, x, y, batch_size, epochs, verbose, callbacks, validation_split, validation_data, shuffle, class_weight, sample_weight, initial_epoch, steps_per_epoch, validation_steps, **kwargs)\u001b[0m\n\u001b[1;32m   1596\u001b[0m                               \u001b[0minitial_epoch\u001b[0m\u001b[0;34m=\u001b[0m\u001b[0minitial_epoch\u001b[0m\u001b[0;34m,\u001b[0m\u001b[0;34m\u001b[0m\u001b[0m\n\u001b[1;32m   1597\u001b[0m                               \u001b[0msteps_per_epoch\u001b[0m\u001b[0;34m=\u001b[0m\u001b[0msteps_per_epoch\u001b[0m\u001b[0;34m,\u001b[0m\u001b[0;34m\u001b[0m\u001b[0m\n\u001b[0;32m-> 1598\u001b[0;31m                               validation_steps=validation_steps)\n\u001b[0m\u001b[1;32m   1599\u001b[0m \u001b[0;34m\u001b[0m\u001b[0m\n\u001b[1;32m   1600\u001b[0m     def evaluate(self, x, y,\n",
      "\u001b[0;32m/usr/local/lib/python3.6/dist-packages/keras/engine/training.py\u001b[0m in \u001b[0;36m_fit_loop\u001b[0;34m(self, f, ins, out_labels, batch_size, epochs, verbose, callbacks, val_f, val_ins, shuffle, callback_metrics, initial_epoch, steps_per_epoch, validation_steps)\u001b[0m\n\u001b[1;32m   1181\u001b[0m                     \u001b[0mbatch_logs\u001b[0m\u001b[0;34m[\u001b[0m\u001b[0;34m'size'\u001b[0m\u001b[0;34m]\u001b[0m \u001b[0;34m=\u001b[0m \u001b[0mlen\u001b[0m\u001b[0;34m(\u001b[0m\u001b[0mbatch_ids\u001b[0m\u001b[0;34m)\u001b[0m\u001b[0;34m\u001b[0m\u001b[0m\n\u001b[1;32m   1182\u001b[0m                     \u001b[0mcallbacks\u001b[0m\u001b[0;34m.\u001b[0m\u001b[0mon_batch_begin\u001b[0m\u001b[0;34m(\u001b[0m\u001b[0mbatch_index\u001b[0m\u001b[0;34m,\u001b[0m \u001b[0mbatch_logs\u001b[0m\u001b[0;34m)\u001b[0m\u001b[0;34m\u001b[0m\u001b[0m\n\u001b[0;32m-> 1183\u001b[0;31m                     \u001b[0mouts\u001b[0m \u001b[0;34m=\u001b[0m \u001b[0mf\u001b[0m\u001b[0;34m(\u001b[0m\u001b[0mins_batch\u001b[0m\u001b[0;34m)\u001b[0m\u001b[0;34m\u001b[0m\u001b[0m\n\u001b[0m\u001b[1;32m   1184\u001b[0m                     \u001b[0;32mif\u001b[0m \u001b[0;32mnot\u001b[0m \u001b[0misinstance\u001b[0m\u001b[0;34m(\u001b[0m\u001b[0mouts\u001b[0m\u001b[0;34m,\u001b[0m \u001b[0mlist\u001b[0m\u001b[0;34m)\u001b[0m\u001b[0;34m:\u001b[0m\u001b[0;34m\u001b[0m\u001b[0m\n\u001b[1;32m   1185\u001b[0m                         \u001b[0mouts\u001b[0m \u001b[0;34m=\u001b[0m \u001b[0;34m[\u001b[0m\u001b[0mouts\u001b[0m\u001b[0;34m]\u001b[0m\u001b[0;34m\u001b[0m\u001b[0m\n",
      "\u001b[0;32m/usr/local/lib/python3.6/dist-packages/keras/backend/tensorflow_backend.py\u001b[0m in \u001b[0;36m__call__\u001b[0;34m(self, inputs)\u001b[0m\n\u001b[1;32m   2271\u001b[0m         updated = session.run(self.outputs + [self.updates_op],\n\u001b[1;32m   2272\u001b[0m                               \u001b[0mfeed_dict\u001b[0m\u001b[0;34m=\u001b[0m\u001b[0mfeed_dict\u001b[0m\u001b[0;34m,\u001b[0m\u001b[0;34m\u001b[0m\u001b[0m\n\u001b[0;32m-> 2273\u001b[0;31m                               **self.session_kwargs)\n\u001b[0m\u001b[1;32m   2274\u001b[0m         \u001b[0;32mreturn\u001b[0m \u001b[0mupdated\u001b[0m\u001b[0;34m[\u001b[0m\u001b[0;34m:\u001b[0m\u001b[0mlen\u001b[0m\u001b[0;34m(\u001b[0m\u001b[0mself\u001b[0m\u001b[0;34m.\u001b[0m\u001b[0moutputs\u001b[0m\u001b[0;34m)\u001b[0m\u001b[0;34m]\u001b[0m\u001b[0;34m\u001b[0m\u001b[0m\n\u001b[1;32m   2275\u001b[0m \u001b[0;34m\u001b[0m\u001b[0m\n",
      "\u001b[0;32m/usr/local/lib/python3.6/dist-packages/tensorflow/python/client/session.py\u001b[0m in \u001b[0;36mrun\u001b[0;34m(self, fetches, feed_dict, options, run_metadata)\u001b[0m\n\u001b[1;32m    893\u001b[0m     \u001b[0;32mtry\u001b[0m\u001b[0;34m:\u001b[0m\u001b[0;34m\u001b[0m\u001b[0m\n\u001b[1;32m    894\u001b[0m       result = self._run(None, fetches, feed_dict, options_ptr,\n\u001b[0;32m--> 895\u001b[0;31m                          run_metadata_ptr)\n\u001b[0m\u001b[1;32m    896\u001b[0m       \u001b[0;32mif\u001b[0m \u001b[0mrun_metadata\u001b[0m\u001b[0;34m:\u001b[0m\u001b[0;34m\u001b[0m\u001b[0m\n\u001b[1;32m    897\u001b[0m         \u001b[0mproto_data\u001b[0m \u001b[0;34m=\u001b[0m \u001b[0mtf_session\u001b[0m\u001b[0;34m.\u001b[0m\u001b[0mTF_GetBuffer\u001b[0m\u001b[0;34m(\u001b[0m\u001b[0mrun_metadata_ptr\u001b[0m\u001b[0;34m)\u001b[0m\u001b[0;34m\u001b[0m\u001b[0m\n",
      "\u001b[0;32m/usr/local/lib/python3.6/dist-packages/tensorflow/python/client/session.py\u001b[0m in \u001b[0;36m_run\u001b[0;34m(self, handle, fetches, feed_dict, options, run_metadata)\u001b[0m\n\u001b[1;32m   1122\u001b[0m     \u001b[0;32mif\u001b[0m \u001b[0mfinal_fetches\u001b[0m \u001b[0;32mor\u001b[0m \u001b[0mfinal_targets\u001b[0m \u001b[0;32mor\u001b[0m \u001b[0;34m(\u001b[0m\u001b[0mhandle\u001b[0m \u001b[0;32mand\u001b[0m \u001b[0mfeed_dict_tensor\u001b[0m\u001b[0;34m)\u001b[0m\u001b[0;34m:\u001b[0m\u001b[0;34m\u001b[0m\u001b[0m\n\u001b[1;32m   1123\u001b[0m       results = self._do_run(handle, final_targets, final_fetches,\n\u001b[0;32m-> 1124\u001b[0;31m                              feed_dict_tensor, options, run_metadata)\n\u001b[0m\u001b[1;32m   1125\u001b[0m     \u001b[0;32melse\u001b[0m\u001b[0;34m:\u001b[0m\u001b[0;34m\u001b[0m\u001b[0m\n\u001b[1;32m   1126\u001b[0m       \u001b[0mresults\u001b[0m \u001b[0;34m=\u001b[0m \u001b[0;34m[\u001b[0m\u001b[0;34m]\u001b[0m\u001b[0;34m\u001b[0m\u001b[0m\n",
      "\u001b[0;32m/usr/local/lib/python3.6/dist-packages/tensorflow/python/client/session.py\u001b[0m in \u001b[0;36m_do_run\u001b[0;34m(self, handle, target_list, fetch_list, feed_dict, options, run_metadata)\u001b[0m\n\u001b[1;32m   1319\u001b[0m     \u001b[0;32mif\u001b[0m \u001b[0mhandle\u001b[0m \u001b[0;32mis\u001b[0m \u001b[0;32mNone\u001b[0m\u001b[0;34m:\u001b[0m\u001b[0;34m\u001b[0m\u001b[0m\n\u001b[1;32m   1320\u001b[0m       return self._do_call(_run_fn, self._session, feeds, fetches, targets,\n\u001b[0;32m-> 1321\u001b[0;31m                            options, run_metadata)\n\u001b[0m\u001b[1;32m   1322\u001b[0m     \u001b[0;32melse\u001b[0m\u001b[0;34m:\u001b[0m\u001b[0;34m\u001b[0m\u001b[0m\n\u001b[1;32m   1323\u001b[0m       \u001b[0;32mreturn\u001b[0m \u001b[0mself\u001b[0m\u001b[0;34m.\u001b[0m\u001b[0m_do_call\u001b[0m\u001b[0;34m(\u001b[0m\u001b[0m_prun_fn\u001b[0m\u001b[0;34m,\u001b[0m \u001b[0mself\u001b[0m\u001b[0;34m.\u001b[0m\u001b[0m_session\u001b[0m\u001b[0;34m,\u001b[0m \u001b[0mhandle\u001b[0m\u001b[0;34m,\u001b[0m \u001b[0mfeeds\u001b[0m\u001b[0;34m,\u001b[0m \u001b[0mfetches\u001b[0m\u001b[0;34m)\u001b[0m\u001b[0;34m\u001b[0m\u001b[0m\n",
      "\u001b[0;32m/usr/local/lib/python3.6/dist-packages/tensorflow/python/client/session.py\u001b[0m in \u001b[0;36m_do_call\u001b[0;34m(self, fn, *args)\u001b[0m\n\u001b[1;32m   1325\u001b[0m   \u001b[0;32mdef\u001b[0m \u001b[0m_do_call\u001b[0m\u001b[0;34m(\u001b[0m\u001b[0mself\u001b[0m\u001b[0;34m,\u001b[0m \u001b[0mfn\u001b[0m\u001b[0;34m,\u001b[0m \u001b[0;34m*\u001b[0m\u001b[0margs\u001b[0m\u001b[0;34m)\u001b[0m\u001b[0;34m:\u001b[0m\u001b[0;34m\u001b[0m\u001b[0m\n\u001b[1;32m   1326\u001b[0m     \u001b[0;32mtry\u001b[0m\u001b[0;34m:\u001b[0m\u001b[0;34m\u001b[0m\u001b[0m\n\u001b[0;32m-> 1327\u001b[0;31m       \u001b[0;32mreturn\u001b[0m \u001b[0mfn\u001b[0m\u001b[0;34m(\u001b[0m\u001b[0;34m*\u001b[0m\u001b[0margs\u001b[0m\u001b[0;34m)\u001b[0m\u001b[0;34m\u001b[0m\u001b[0m\n\u001b[0m\u001b[1;32m   1328\u001b[0m     \u001b[0;32mexcept\u001b[0m \u001b[0merrors\u001b[0m\u001b[0;34m.\u001b[0m\u001b[0mOpError\u001b[0m \u001b[0;32mas\u001b[0m \u001b[0me\u001b[0m\u001b[0;34m:\u001b[0m\u001b[0;34m\u001b[0m\u001b[0m\n\u001b[1;32m   1329\u001b[0m       \u001b[0mmessage\u001b[0m \u001b[0;34m=\u001b[0m \u001b[0mcompat\u001b[0m\u001b[0;34m.\u001b[0m\u001b[0mas_text\u001b[0m\u001b[0;34m(\u001b[0m\u001b[0me\u001b[0m\u001b[0;34m.\u001b[0m\u001b[0mmessage\u001b[0m\u001b[0;34m)\u001b[0m\u001b[0;34m\u001b[0m\u001b[0m\n",
      "\u001b[0;32m/usr/local/lib/python3.6/dist-packages/tensorflow/python/client/session.py\u001b[0m in \u001b[0;36m_run_fn\u001b[0;34m(session, feed_dict, fetch_list, target_list, options, run_metadata)\u001b[0m\n\u001b[1;32m   1304\u001b[0m           return tf_session.TF_Run(session, options,\n\u001b[1;32m   1305\u001b[0m                                    \u001b[0mfeed_dict\u001b[0m\u001b[0;34m,\u001b[0m \u001b[0mfetch_list\u001b[0m\u001b[0;34m,\u001b[0m \u001b[0mtarget_list\u001b[0m\u001b[0;34m,\u001b[0m\u001b[0;34m\u001b[0m\u001b[0m\n\u001b[0;32m-> 1306\u001b[0;31m                                    status, run_metadata)\n\u001b[0m\u001b[1;32m   1307\u001b[0m \u001b[0;34m\u001b[0m\u001b[0m\n\u001b[1;32m   1308\u001b[0m     \u001b[0;32mdef\u001b[0m \u001b[0m_prun_fn\u001b[0m\u001b[0;34m(\u001b[0m\u001b[0msession\u001b[0m\u001b[0;34m,\u001b[0m \u001b[0mhandle\u001b[0m\u001b[0;34m,\u001b[0m \u001b[0mfeed_dict\u001b[0m\u001b[0;34m,\u001b[0m \u001b[0mfetch_list\u001b[0m\u001b[0;34m)\u001b[0m\u001b[0;34m:\u001b[0m\u001b[0;34m\u001b[0m\u001b[0m\n",
      "\u001b[0;31mKeyboardInterrupt\u001b[0m: "
     ]
    }
   ],
   "source": [
    "t0 = time.time()\n",
    "\n",
    "checkpoint = ModelCheckpoint(filepath, monitor='loss', verbose=1, save_best_only=True, mode='min')\n",
    "callbacks_list = [checkpoint]\n",
    "# fit the model\n",
    "history = model.fit(X, y, epochs=50, batch_size=32, callbacks=callbacks_list)\n",
    "\n",
    "print(time.time() - t0)"
   ]
  },
  {
   "cell_type": "code",
   "execution_count": null,
   "metadata": {},
   "outputs": [],
   "source": [
    "# list all data in history\n",
    "print(history.history.keys())"
   ]
  },
  {
   "cell_type": "code",
   "execution_count": null,
   "metadata": {},
   "outputs": [],
   "source": [
    "# summarize history for loss\n",
    "plt.figure(figsize=(12,8))\n",
    "plt.plot(history.history['loss'])\n",
    "plt.title('model loss')\n",
    "plt.ylabel('loss')\n",
    "plt.xlabel('epoch')\n",
    "plt.legend(['train', 'test'], loc='upper left')\n",
    "plt.show()"
   ]
  },
  {
   "cell_type": "code",
   "execution_count": null,
   "metadata": {},
   "outputs": [],
   "source": [
    "One example of running this text generation script produces the output below.\n",
    "\n",
    "The randomly chosen seed text was:"
   ]
  },
  {
   "cell_type": "code",
   "execution_count": null,
   "metadata": {},
   "outputs": [],
   "source": [
    "#pick a random seed\n",
    "start = numpy.random.randint(0, len(dataX)-1)\n",
    "pattern = dataX[start]\n",
    "print(\"Seed:\")\n",
    "print(\"\\\"\", ''.join([int_to_char[value] for value in pattern]), \"\\\"\")\n",
    "# generate characters\n",
    "for i in range(1000):\n",
    "    x = numpy.reshape(pattern, (1, len(pattern), 1))\n",
    "    x = x / float(n_vocab)\n",
    "    prediction = model.predict(x, verbose=0)\n",
    "    index = numpy.argmax(prediction)\n",
    "    result = int_to_char[index]\n",
    "    seq_in = [int_to_char[value] for value in pattern]\n",
    "    sys.stdout.write(result)\n",
    "    pattern.append(index)\n",
    "    pattern = pattern[1:len(pattern)]\n",
    "print(\"\\nDone.\")"
   ]
  },
  {
   "cell_type": "markdown",
   "metadata": {},
   "source": [
    "We can see that generally there are fewer spelling mistakes and the text looks more realistic, but is still quite nonsensical.\n",
    "\n",
    "For example the same phrases get repeated again and again like “said to herself” and “little“. Quotes are opened but not closed.\n",
    "\n",
    "These are better results but there is still a lot of room for improvement."
   ]
  },
  {
   "cell_type": "markdown",
   "metadata": {},
   "source": [
    "### 10 Extension Ideas to Improve the Model\n",
    "\n",
    "Below are 10 ideas that may further improve the model that you could experiment with are:\n",
    "\n",
    "  + Predict fewer than 1,000 characters as output for a given seed.\n",
    "  + Remove all punctuation from the source text, and therefore from the models’ vocabulary.\n",
    "  + Try a one hot encoded for the input sequences.\n",
    "  + Train the model on padded sentences rather than random sequences of characters.\n",
    "  + Increase the number of training epochs to 100 or many hundreds.\n",
    "  + Add dropout to the visible input layer and consider tuning the dropout percentage.\n",
    "  + Tune the batch size, try a batch size of 1 as a (very slow) baseline and larger sizes from there.\n",
    "  + Add more memory units to the layers and/or more layers.\n",
    "  + Experiment with scale factors (temperature) when interpreting the prediction probabilities.\n",
    "  + Change the LSTM layers to be “stateful” to maintain state across batches.\n"
   ]
  },
  {
   "cell_type": "markdown",
   "metadata": {},
   "source": [
    "#### Resources\n",
    "\n",
    "This character text model is a popular way for generating text using recurrent neural networks.\n",
    "\n",
    "Below are some more resources and tutorials on the topic if you are interested in going deeper. Perhaps the most popular is the tutorial by Andrej Karpathy titled “The Unreasonable Effectiveness of Recurrent Neural Networks“.\n",
    "\n",
    "+ [Generating Text with Recurrent Neural Networks](http://www.cs.utoronto.ca/~ilya/pubs/2011/LANG-RNN.pdf)\n",
    "+ [Keras code example of LSTM for text generation](https://github.com/fchollet/keras/blob/master/examples/lstm_text_generation.py)\n",
    "+ [Lasagne code example of LSTM for text generation](https://github.com/Lasagne/Recipes/blob/master/examples/lstm_text_generation.py)  \n",
    "+ [MXNet tutorial for using an LSTM for text generation](http://mxnetjl.readthedocs.io/en/latest/tutorial/char-lstm.html)\n",
    "+ [Auto-Generating Clickbait With Recurrent Neural Networks](https://larseidnes.com/2015/10/13/auto-generating-clickbait-with-recurrent-neural-networks/)\n",
    "\n",
    "#### Summary\n",
    "\n",
    "In this notebook you discovered how you can develop an LSTM recurrent neural network for text generation in Python with the Keras deep learning library.\n",
    "\n",
    "+ Where to download the ASCII text for classical books for free that you can use for training.\n",
    "+ How to train an LSTM network on text sequences and how to use the trained network to generate new sequences.\n",
    "+ How to develop stacked LSTM networks and lift the performance of the model."
   ]
  }
 ],
 "metadata": {
  "kernelspec": {
   "display_name": "Python 3",
   "language": "python",
   "name": "python3"
  },
  "language_info": {
   "codemirror_mode": {
    "name": "ipython",
    "version": 3
   },
   "file_extension": ".py",
   "mimetype": "text/x-python",
   "name": "python",
   "nbconvert_exporter": "python",
   "pygments_lexer": "ipython3",
   "version": "3.6.3"
  }
 },
 "nbformat": 4,
 "nbformat_minor": 2
}
