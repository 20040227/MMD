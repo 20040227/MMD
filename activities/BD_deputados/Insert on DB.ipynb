{
 "cells": [
  {
   "cell_type": "code",
   "execution_count": 15,
   "metadata": {
    "collapsed": false
   },
   "outputs": [],
   "source": [
    "import sqlite3\n",
    "import pandas as pd"
   ]
  },
  {
   "cell_type": "code",
   "execution_count": 27,
   "metadata": {
    "collapsed": true
   },
   "outputs": [],
   "source": [
    "conn = sqlite3.connect('depudatos.sqlt')\n",
    "c = conn.cursor()"
   ]
  },
  {
   "cell_type": "markdown",
   "metadata": {},
   "source": [
    "Add Estados"
   ]
  },
  {
   "cell_type": "code",
   "execution_count": 32,
   "metadata": {
    "collapsed": false
   },
   "outputs": [
    {
     "data": {
      "text/html": [
       "<div>\n",
       "<table border=\"1\" class=\"dataframe\">\n",
       "  <thead>\n",
       "    <tr style=\"text-align: right;\">\n",
       "      <th></th>\n",
       "      <th>nomeEstado</th>\n",
       "      <th>UF</th>\n",
       "      <th>regiao</th>\n",
       "    </tr>\n",
       "  </thead>\n",
       "  <tbody>\n",
       "    <tr>\n",
       "      <th>0</th>\n",
       "      <td>Acre</td>\n",
       "      <td>AC</td>\n",
       "      <td>N</td>\n",
       "    </tr>\n",
       "    <tr>\n",
       "      <th>1</th>\n",
       "      <td>Alagoas</td>\n",
       "      <td>AL</td>\n",
       "      <td>NE</td>\n",
       "    </tr>\n",
       "  </tbody>\n",
       "</table>\n",
       "</div>"
      ],
      "text/plain": [
       "  nomeEstado  UF regiao\n",
       "0       Acre  AC      N\n",
       "1    Alagoas  AL     NE"
      ]
     },
     "execution_count": 32,
     "metadata": {},
     "output_type": "execute_result"
    }
   ],
   "source": [
    "estados = pd.read_csv('estados.csv',  encoding='latin1')\n",
    "estados.head(2)"
   ]
  },
  {
   "cell_type": "code",
   "execution_count": 40,
   "metadata": {
    "collapsed": false
   },
   "outputs": [
    {
     "name": "stdout",
     "output_type": "stream",
     "text": [
      "[('Acre', 'AC', 'N'), ('Alagoas', 'AL', 'NE'), ('Amap\\x87', 'AP', 'N'), ('Amazonas', 'AM', 'N'), ('Bahia', 'BA', 'NE'), ('Cear\\x87', 'CE', 'NE'), ('Distrito Federal', 'DF', 'CO'), ('Esp\\x92rito Santo', 'ES', 'SE'), ('Goi\\x87s', 'GO', 'CO'), ('Maranh\\x8bo', 'MA', 'NE'), ('Mato Grosso', 'MT', 'CO'), ('Mato Grosso do Sul', 'MS', 'CO'), ('Minas Gerais', 'MG', 'SE'), ('Par\\x87', 'PA', 'N'), ('Para\\x92ba', 'PB', 'NE'), ('Paran\\x87', 'PR', 'S'), ('Pernambuco', 'PE', 'NE'), ('Piau\\x92', 'PI', 'NE'), ('Rio de Janeiro', 'RJ', 'SE'), ('Rio Grande do Norte', 'RN', 'NE'), ('Rio Grande do Sul', 'RS', 'S'), ('Rond\\x99nia', 'RO', 'N'), ('Roraima', 'RR', 'N'), ('Santa Catarina', 'SC', 'S'), ('S\\x8bo Paulo', 'SP', 'SE'), ('Sergipe', 'SE', 'NE'), ('Tocantins', 'TO', 'NE'), (nan, nan, nan), (nan, nan, nan), (nan, nan, nan), (nan, nan, nan), (nan, nan, nan), (nan, nan, nan), (nan, nan, nan), (nan, nan, nan), (nan, nan, nan), ('SIGLAS DOS ESTADOS BRASILEIROSTemas Relacionados', nan, nan), ('¥ Adjetivos p\\x87trios dos estados brasileiros', nan, nan), ('¥ Estados Brasileiros', nan, nan), ('¥ Estados e Capitais do Brasil', nan, nan), ('Bibliografia Indicada', nan, nan), (nan, nan, nan), ('- Hist\\x97ria dos Estados Brasileiros', nan, nan), ('Ê Autor: Alves Filho, Ivan', nan, nan), ('Ê Editora: Revan', nan, nan), ('Ê Temas: Hist\\x97ria do Brasil, Geografia do Brasil', nan, nan)]\n"
     ]
    }
   ],
   "source": [
    "estado = []\n",
    "for i, row in estados.iterrows():\n",
    "    estado.append((row[0], row[1], row[2]))\n",
    "c.executemany('INSERT INTO estados VALUES (?,?,?)', estado)"
   ]
  },
  {
   "cell_type": "code",
   "execution_count": null,
   "metadata": {
    "collapsed": true
   },
   "outputs": [],
   "source": [
    "#c.executemany('INSERT INTO estados VALUES (?,?,?)', estados)"
   ]
  },
  {
   "cell_type": "code",
   "execution_count": 5,
   "metadata": {
    "collapsed": true
   },
   "outputs": [],
   "source": [
    "eleitos = pd.read_csv('eleitos_unico.csv')"
   ]
  },
  {
   "cell_type": "code",
   "execution_count": 6,
   "metadata": {
    "collapsed": false
   },
   "outputs": [
    {
     "data": {
      "text/html": [
       "<div>\n",
       "<table border=\"1\" class=\"dataframe\">\n",
       "  <thead>\n",
       "    <tr style=\"text-align: right;\">\n",
       "      <th></th>\n",
       "      <th>ANO_ELEICAO</th>\n",
       "      <th>SIGLA_UF</th>\n",
       "      <th>DESCRICAO_CARGO</th>\n",
       "      <th>NOME_CANDIDATO</th>\n",
       "      <th>CPF_CANDIDATO</th>\n",
       "      <th>NOME_URNA_CANDIDATO</th>\n",
       "      <th>SIGLA_PARTIDO</th>\n",
       "      <th>DATA_NASCIMENTO</th>\n",
       "      <th>NUM_TITULO_ELEITORAL_CANDIDATO</th>\n",
       "      <th>SEQUENCIAL_CANDIDATO</th>\n",
       "    </tr>\n",
       "  </thead>\n",
       "  <tbody>\n",
       "    <tr>\n",
       "      <th>0</th>\n",
       "      <td>1994.0</td>\n",
       "      <td>AC</td>\n",
       "      <td>SENADOR</td>\n",
       "      <td>MARIA OSMARINA SILVA DE SOUZA</td>\n",
       "      <td>#NULO#</td>\n",
       "      <td>MARINA SILVA</td>\n",
       "      <td>PT</td>\n",
       "      <td>08/02/58</td>\n",
       "      <td>962092402</td>\n",
       "      <td>-1.0</td>\n",
       "    </tr>\n",
       "  </tbody>\n",
       "</table>\n",
       "</div>"
      ],
      "text/plain": [
       "   ANO_ELEICAO SIGLA_UF DESCRICAO_CARGO                 NOME_CANDIDATO  \\\n",
       "0       1994.0       AC         SENADOR  MARIA OSMARINA SILVA DE SOUZA   \n",
       "\n",
       "  CPF_CANDIDATO NOME_URNA_CANDIDATO SIGLA_PARTIDO DATA_NASCIMENTO  \\\n",
       "0        #NULO#        MARINA SILVA            PT        08/02/58   \n",
       "\n",
       "  NUM_TITULO_ELEITORAL_CANDIDATO  SEQUENCIAL_CANDIDATO  \n",
       "0                      962092402                  -1.0  "
      ]
     },
     "execution_count": 6,
     "metadata": {},
     "output_type": "execute_result"
    }
   ],
   "source": [
    "eleitos.head(1)"
   ]
  },
  {
   "cell_type": "code",
   "execution_count": null,
   "metadata": {
    "collapsed": true
   },
   "outputs": [],
   "source": []
  }
 ],
 "metadata": {
  "kernelspec": {
   "display_name": "Python 3",
   "language": "python",
   "name": "python3"
  },
  "language_info": {
   "codemirror_mode": {
    "name": "ipython",
    "version": 3
   },
   "file_extension": ".py",
   "mimetype": "text/x-python",
   "name": "python",
   "nbconvert_exporter": "python",
   "pygments_lexer": "ipython3",
   "version": "3.5.2"
  }
 },
 "nbformat": 4,
 "nbformat_minor": 0
}
